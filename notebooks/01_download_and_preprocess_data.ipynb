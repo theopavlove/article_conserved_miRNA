{
 "cells": [
  {
   "cell_type": "markdown",
   "metadata": {
    "id": "nyXy4lr7ghUz"
   },
   "source": [
    "## Misc"
   ]
  },
  {
   "cell_type": "code",
   "execution_count": 1,
   "metadata": {
    "id": "nhYM6MfBGLE7"
   },
   "outputs": [],
   "source": [
    "import os\n",
    "import tempfile\n",
    "import pandas as pd\n",
    "import subprocess as sp\n",
    "\n",
    "from datapaths import *\n",
    "\n",
    "from Bio import SeqIO\n",
    "from collections import Counter\n",
    "from dataclasses import dataclass\n",
    "from tqdm.notebook import tqdm\n",
    "\n",
    "pd.set_option('display.max_rows', 20)\n",
    "\n",
    "!mkdir -p {D_DATA} {D_UTILS} {D_GENOME} {D_LIFTOVER} {D_TABLES} {D_FLIPONS_BED} {D_FLIPONS_FA} {D_CCRE} {D_RMSK} {D_IMG} {D_GEBR}"
   ]
  },
  {
   "cell_type": "markdown",
   "metadata": {
    "id": "ByjfR8Et84PS"
   },
   "source": [
    "## Data"
   ]
  },
  {
   "cell_type": "code",
   "execution_count": 2,
   "metadata": {},
   "outputs": [],
   "source": [
    "\"\"\"Get Kouzine ssDNA data.\"\"\"\n",
    "\n",
    "!wget -c -q --show-progress -P {D_DATA} https://www.ncbi.nlm.nih.gov/CBBresearch/Przytycka/software/nonbdna/nonB_DNA_ssDNA_enriched.tar"
   ]
  },
  {
   "cell_type": "code",
   "execution_count": 3,
   "metadata": {
    "id": "oZQ23x3cRzcC"
   },
   "outputs": [],
   "source": [
    "\"\"\"Get mm10 genome data.\"\"\"\n",
    "\n",
    "!wget -c -q --show-progress -O {F_CHROM_SIZES} http://hgdownload.cse.ucsc.edu/goldenpath/mm10/bigZips/mm10.chrom.sizes\n",
    "!wget -c -q --show-progress -P {D_GENOME} https://hgdownload.soe.ucsc.edu/goldenPath/mm10/bigZips/mm10.fa.gz\n",
    "!cd {D_GENOME} && gzip -cdn mm10.fa.gz > mm10.fa"
   ]
  },
  {
   "cell_type": "code",
   "execution_count": 4,
   "metadata": {},
   "outputs": [],
   "source": [
    "\"\"\"Get mm10 gene annotation.\"\"\"\n",
    "\n",
    "!wget -c -q --show-progress -O {F_GENCODE} https://ftp.ebi.ac.uk/pub/databases/gencode/Gencode_mouse/release_M25/gencode.vM25.basic.annotation.gtf.gz\n",
    "!wget -c -q --show-progress -O {F_GENCODE_COMPREHENSIVE} https://ftp.ebi.ac.uk/pub/databases/gencode/Gencode_mouse/release_M25/gencode.vM25.annotation.gtf.gz"
   ]
  },
  {
   "cell_type": "code",
   "execution_count": 5,
   "metadata": {},
   "outputs": [
    {
     "name": "stdout",
     "output_type": "stream",
     "text": [
      "/home/fpavlov/proje 100%[+++++++++++++++++++>]  33,28M  --.-KB/s    in 0s      \n"
     ]
    }
   ],
   "source": [
    "\"\"\"Get liftOver tool files.\"\"\"\n",
    "\n",
    "!wget -c -q --show-progress -O {F_LIFTOVER} http://hgdownload.soe.ucsc.edu/admin/exe/linux.x86_64/liftOver\n",
    "!wget -c -q --show-progress -O {F_LIFTOVER_CHAIN} https://hgdownload.cse.ucsc.edu/goldenpath/mm9/liftOver/mm9ToMm10.over.chain.gz\n",
    "!chmod +x {F_LIFTOVER}"
   ]
  },
  {
   "cell_type": "code",
   "execution_count": 6,
   "metadata": {},
   "outputs": [],
   "source": [
    "\"\"\"Get bigBedToBed.\"\"\"\n",
    "\n",
    "!wget -c -q --show-progress -O {F_BIGBEDTOBED} https://hgdownload.soe.ucsc.edu/admin/exe/linux.x86_64/bigBedToBed\n",
    "!chmod +x {F_BIGBEDTOBED}"
   ]
  },
  {
   "cell_type": "code",
   "execution_count": 7,
   "metadata": {},
   "outputs": [],
   "source": [
    "\"\"\"Get cCRE data.\"\"\"\n",
    "\n",
    "!chmod +x {F_BIGBEDTOBED}\n",
    "!{F_BIGBEDTOBED} http://hgdownload.soe.ucsc.edu/gbdb/mm10/encode3/ccre/encodeCcreCombined.bb stdout > {F_CCRE}\n",
    "\n",
    "(\n",
    "    pd.read_table(F_CCRE, header=None)\n",
    "    .assign(\n",
    "        name_preformatted=lambda x: x[9] + \"@\" + x[3],\n",
    "        name=lambda x: x[\"name_preformatted\"].str.replace(\n",
    "            \",CTCF-bound\", \" (CTCF-bound)\"\n",
    "        ),\n",
    "    )\n",
    "    .loc[:, [0, 1, 2, \"name\"]]\n",
    ").to_csv(F_CCRE, sep=\"\\t\", header=False, index=False)\n"
   ]
  },
  {
   "cell_type": "code",
   "execution_count": 8,
   "metadata": {},
   "outputs": [],
   "source": [
    "\"\"\"Get rmsk data.\"\"\"\n",
    "\n",
    "!wget -c -q --show-progress -O {F_RMSK} https://hgdownload.soe.ucsc.edu/goldenPath/mm10/database/rmsk.txt.gz\n",
    "\n",
    "columns = [\n",
    "    \"bin\", \"swScore\", \"milliDiv\", \"milliDel\", \"milliIns\", \"genoName\", \"genoStart\", \"genoEnd\", \"genoLeft\", \"strand\", \"repName\", \"repClass\", \"repFamily\", \"repStart\", \"repEnd\", \"repLeft\", \"id\"\n",
    "]\n",
    "\n",
    "(\n",
    "    pd.read_table(F_RMSK, header=None, names=columns, compression=\"gzip\")\n",
    "    .query('repClass.str.contains(\"LTR\") or repClass.str.contains(\"LINE\")')\n",
    "    .assign(\n",
    "        name=lambda x: x[\"repClass\"] + \"@\" + x[\"repName\"] + \"(\" + x[\"strand\"] + \")\"\n",
    "    )\n",
    "    .loc[:, [\"genoName\", \"genoStart\", \"genoEnd\", \"name\", \"swScore\", \"strand\"]]\n",
    "    .to_csv(F_RMSK_LINE_LTR, sep=\"\\t\", header=None, index=None)\n",
    ")\n"
   ]
  },
  {
   "cell_type": "markdown",
   "metadata": {
    "id": "pvhqUOYgXsQm"
   },
   "source": [
    "## Preprocessing"
   ]
  },
  {
   "cell_type": "markdown",
   "metadata": {
    "id": "MRiEpXx8a_F9"
   },
   "source": [
    "### Uplift Kouzine peaks"
   ]
  },
  {
   "cell_type": "code",
   "execution_count": 9,
   "metadata": {
    "colab": {
     "base_uri": "https://localhost:8080/"
    },
    "id": "xBrspN0PPoWA",
    "outputId": "43861da6-99a3-43b5-ceb4-6ff147d60a16"
   },
   "outputs": [
    {
     "name": "stdout",
     "output_type": "stream",
     "text": [
      "nonB_DNA_ssDNA_enriched/\n",
      "nonB_DNA_ssDNA_enriched/human_hg19/\n",
      "nonB_DNA_ssDNA_enriched/human_hg19/Raji_ssDNA_enriched_H-DNA.bed.gz\n",
      "nonB_DNA_ssDNA_enriched/human_hg19/Raji_ssDNA_enriched_Quadruplex.bed.gz\n",
      "nonB_DNA_ssDNA_enriched/human_hg19/Raji_ssDNA_enriched_SIDD.bed.gz\n",
      "nonB_DNA_ssDNA_enriched/human_hg19/Raji_ssDNA_enriched_Z-DNA.bed.gz\n",
      "nonB_DNA_ssDNA_enriched/mouse_mm9/\n",
      "nonB_DNA_ssDNA_enriched/mouse_mm9/actB_ssDNA_enriched_H-DNA.bed.gz\n",
      "nonB_DNA_ssDNA_enriched/mouse_mm9/actB_ssDNA_enriched_Quadruplex.bed.gz\n",
      "nonB_DNA_ssDNA_enriched/mouse_mm9/actB_ssDNA_enriched_SIDD.bed.gz\n",
      "nonB_DNA_ssDNA_enriched/mouse_mm9/actB_ssDNA_enriched_Z-DNA.bed.gz\n",
      "rm: cannot remove '/home/fpavlov/projects/article_conserved_miRNA/data/nonB_DNA_ssDNA_enriched/mouse_mm10': No such file or directory\n",
      "actB_ssDNA_enriched_Z-DNA.bed -> mm10.actb_ssdna_enriched_z-dna.bed\n",
      "Reading liftover chains\n",
      "Mapping coordinates\n",
      "2\n",
      "actB_ssDNA_enriched_H-DNA.bed -> mm10.actb_ssdna_enriched_h-dna.bed\n",
      "Reading liftover chains\n",
      "Mapping coordinates\n",
      "4\n",
      "actB_ssDNA_enriched_SIDD.bed -> mm10.actb_ssdna_enriched_sidd.bed\n",
      "Reading liftover chains\n",
      "Mapping coordinates\n",
      "2\n",
      "actB_ssDNA_enriched_Quadruplex.bed -> mm10.actb_ssdna_enriched_g4.bed\n",
      "Reading liftover chains\n",
      "Mapping coordinates\n",
      "5\n"
     ]
    }
   ],
   "source": [
    "\"\"\"Uplift from mm9 to mm10.\"\"\"\n",
    "\n",
    "!rm -r {D_DATA}/nonB_DNA_ssDNA_enriched\n",
    "!tar -xvf {D_DATA}/nonB_DNA_ssDNA_enriched.tar -C {D_DATA}\n",
    "!cd {D_DATA}/nonB_DNA_ssDNA_enriched/mouse_mm9 && ls | xargs gzip -df\n",
    "\n",
    "!rm -r {D_DATA}/nonB_DNA_ssDNA_enriched/mouse_mm10 ; mkdir -p {D_DATA}/nonB_DNA_ssDNA_enriched/mouse_mm10\n",
    "!rm -r {D_FLIPONS_BED} ; mkdir -p {D_FLIPONS_BED}\n",
    "\n",
    "for file in (D_DATA / 'nonB_DNA_ssDNA_enriched/mouse_mm9').iterdir():\n",
    "    new_file_path = Path(str(file).replace('mm9', 'mm10')).parent / (\"mm10.\" + file.name.replace('Quadruplex', 'G4').lower())\n",
    "    print(f\"{file.name} -> {new_file_path.name}\")\n",
    "\n",
    "    !tail -n +2 {file} > temp && mv temp {file}\n",
    "    !{F_LIFTOVER} {file} {F_LIFTOVER_CHAIN} {new_file_path} unmapped_regions.bed\n",
    "    !cat unmapped_regions.bed | grep \"#Deleted in new\" | wc -l ; rm unmapped_regions.bed\n",
    "\n",
    "    !sort --unique -k1,1 -k2,2n -o {new_file_path} {new_file_path}\n"
   ]
  },
  {
   "cell_type": "markdown",
   "metadata": {
    "id": "iEm3x-FHbBPR"
   },
   "source": [
    "### Slops"
   ]
  },
  {
   "cell_type": "code",
   "execution_count": 10,
   "metadata": {},
   "outputs": [
    {
     "name": "stdout",
     "output_type": "stream",
     "text": [
      "mm10.actb_ssdna_enriched_g4.bed\n",
      "mm10.actb_ssdna_enriched_z-dna.bed\n",
      "mm10.actb_ssdna_enriched_sidd.bed\n",
      "mm10.actb_ssdna_enriched_h-dna.bed\n"
     ]
    }
   ],
   "source": [
    "\"\"\"Calculate slops for each bedfile (required to find overlaps with miRNA).\"\"\"\n",
    "\n",
    "slop_values = [100, 200, 500]\n",
    "for file in (D_DATA / \"nonB_DNA_ssDNA_enriched/mouse_mm10\").iterdir():\n",
    "    print(file.name)\n",
    "    flipon_name = file.name.split(\"ed_\")[1][:-4]\n",
    "    path_to_flipon = D_FLIPONS_BED / file.name\n",
    "\n",
    "    flipon_data = (\n",
    "        pd.read_table(file, header=None).astype({1: int, 2: int}).sort_values([0, 1])\n",
    "    )\n",
    "    flipon_data[3] = flipon_data[0] + \":\" + flipon_data[1].astype(str) + \"-\" + flipon_data[2].astype(str)\n",
    "    if len(flipon_data.columns) == 4:\n",
    "        flipon_data[4] = 0\n",
    "        flipon_data[5] = \".\"\n",
    "    flipon_data.to_csv(path_to_flipon, sep=\"\\t\", header=False, index=False)\n",
    "\n",
    "    for slop_val in slop_values:\n",
    "        path_to_slop = str(path_to_flipon).replace(\".bed\", f\".slop{slop_val}.bed\")\n",
    "        !bedtools slop -i {path_to_flipon} -g {F_CHROM_SIZES} -b {slop_val} > {path_to_slop}"
   ]
  },
  {
   "cell_type": "markdown",
   "metadata": {
    "id": "9LVdK7sudIC5"
   },
   "source": [
    "### Intersections"
   ]
  },
  {
   "cell_type": "code",
   "execution_count": 11,
   "metadata": {
    "colab": {
     "base_uri": "https://localhost:8080/"
    },
    "id": "Jlk2uFRHYEeS",
    "outputId": "701b830c-0b36-42ce-9292-cff6635b7225"
   },
   "outputs": [
    {
     "name": "stdout",
     "output_type": "stream",
     "text": [
      "mm10.actb_ssdna_enriched_z-dna_and_sidd.bed: 256\n",
      "mm10.actb_ssdna_enriched_z-dna_and_sidd.slop100.bed: 758\n",
      "mm10.actb_ssdna_enriched_z-dna_and_sidd.slop200.bed: 1,117\n",
      "mm10.actb_ssdna_enriched_z-dna_and_sidd.slop500.bed: 1,802\n",
      "mm10.actb_ssdna_enriched_g4_and_sidd.bed: 1,374\n",
      "mm10.actb_ssdna_enriched_g4_and_sidd.slop100.bed: 2,250\n",
      "mm10.actb_ssdna_enriched_g4_and_sidd.slop200.bed: 2,534\n",
      "mm10.actb_ssdna_enriched_g4_and_sidd.slop500.bed: 3,089\n",
      "mm10.actb_ssdna_enriched_h-dna_and_sidd.bed: 1,627\n",
      "mm10.actb_ssdna_enriched_h-dna_and_sidd.slop100.bed: 2,016\n",
      "mm10.actb_ssdna_enriched_h-dna_and_sidd.slop200.bed: 2,249\n",
      "mm10.actb_ssdna_enriched_h-dna_and_sidd.slop500.bed: 2,560\n"
     ]
    }
   ],
   "source": [
    "\"\"\"Intersect other flipons with SIDD.\"\"\"\n",
    "\n",
    "kouzine_data = [\n",
    "    D_FLIPONS_BED / \"mm10.actb_ssdna_enriched_z-dna.bed\",\n",
    "    D_FLIPONS_BED / \"mm10.actb_ssdna_enriched_g4.bed\",\n",
    "    D_FLIPONS_BED / \"mm10.actb_ssdna_enriched_h-dna.bed\",\n",
    "]\n",
    "\n",
    "sidd_slops = [\n",
    "    D_FLIPONS_BED / \"mm10.actb_ssdna_enriched_sidd.bed\",\n",
    "    *[D_FLIPONS_BED / f\"mm10.actb_ssdna_enriched_sidd.slop{x}.bed\" for x in slop_values],\n",
    "]\n",
    "\n",
    "for a in kouzine_data:\n",
    "    for b in sidd_slops:\n",
    "        path_to_intersection = str(a).replace(\n",
    "            \".bed\", f'_and{str(b).split(\"enriched\")[1]}'\n",
    "        )\n",
    "        with open(path_to_intersection, \"w\") as f_out:\n",
    "            sp.run(\n",
    "                [\"bedtools\", \"intersect\", \"-a\", a, \"-b\", b, \"-u\"],\n",
    "                check=True,\n",
    "                stdout=f_out,\n",
    "            )\n",
    "\n",
    "        shape = sp.run(\n",
    "            f\"wc -l {path_to_intersection}\",\n",
    "            shell=True,\n",
    "            capture_output=True,\n",
    "            encoding=\"utf-8\",\n",
    "        ).stdout\n",
    "        print(f\"{Path(shape.split()[1]).name}: {int(shape.split()[0]):,d}\")\n"
   ]
  },
  {
   "cell_type": "markdown",
   "metadata": {},
   "source": [
    "## Fasta"
   ]
  },
  {
   "cell_type": "code",
   "execution_count": 12,
   "metadata": {},
   "outputs": [
    {
     "name": "stderr",
     "output_type": "stream",
     "text": [
      "index file /home/fpavlov/projects/article_conserved_miRNA/data/genome/mm10.fa.fai not found, generating...\n"
     ]
    }
   ],
   "source": [
    "\"\"\"Calculate fasta files.\"\"\"\n",
    "\n",
    "!rm -r {F_GENOME}.fai\n",
    "!rm -r {D_FLIPONS_FA} ; mkdir -p {D_FLIPONS_FA}\n",
    "\n",
    "for file in D_FLIPONS_BED.iterdir():\n",
    "    path_fa = D_FLIPONS_FA / file.name.replace('bed', 'fa')\n",
    "    with open(path_fa, 'w') as f_out:\n",
    "        sp.run([\"bedtools\", \"getfasta\", \"-fi\", F_GENOME, \"-bed\", file], check=True, stdout=f_out)"
   ]
  },
  {
   "cell_type": "markdown",
   "metadata": {},
   "source": [
    "## Map flipons to miRNA"
   ]
  },
  {
   "cell_type": "code",
   "execution_count": 13,
   "metadata": {},
   "outputs": [],
   "source": [
    "@dataclass\n",
    "class Data:\n",
    "    name: str\n",
    "    path_fa: str\n",
    "    path_bed: str\n",
    "    path_bed_200: str\n",
    "    shape: int = None\n",
    "    path_ccre_intersection: str = None\n",
    "    path_rmsk_intersection: str = None\n",
    "\n",
    "    def __post_init__(self):\n",
    "        self.shape = self._get_shape()\n",
    "        self.path_ccre_intersection = D_FLIPONS_BED / self.path_bed_200.name.replace('.bed', '_and_ccre.bed')\n",
    "        self.path_rmsk_intersection = D_FLIPONS_BED / self.path_bed_200.name.replace('.bed', '_and_rmsk.bed')\n",
    "\n",
    "    def _get_shape(self):\n",
    "        with open(self.path_bed, \"r\") as f_in:\n",
    "            return sum(1 for _ in f_in)\n",
    "\n",
    "\n",
    "flipon_data = [\n",
    "    Data(\n",
    "        \"g4\",\n",
    "        D_FLIPONS_FA / \"mm10.actb_ssdna_enriched_g4.fa\",\n",
    "        D_FLIPONS_BED / \"mm10.actb_ssdna_enriched_g4.bed\",\n",
    "        D_FLIPONS_BED / \"mm10.actb_ssdna_enriched_g4.slop200.bed\",\n",
    "    ),\n",
    "    Data(\n",
    "        \"sidd\",\n",
    "        D_FLIPONS_FA / \"mm10.actb_ssdna_enriched_sidd.fa\",\n",
    "        D_FLIPONS_BED / \"mm10.actb_ssdna_enriched_sidd.bed\",\n",
    "        D_FLIPONS_BED / \"mm10.actb_ssdna_enriched_sidd.slop200.bed\",\n",
    "    ),\n",
    "    Data(\n",
    "        \"z-dna\",\n",
    "        D_FLIPONS_FA / \"mm10.actb_ssdna_enriched_z-dna.fa\",\n",
    "        D_FLIPONS_BED / \"mm10.actb_ssdna_enriched_z-dna.bed\",\n",
    "        D_FLIPONS_BED / \"mm10.actb_ssdna_enriched_z-dna.slop200.bed\",\n",
    "    ),\n",
    "    Data(\n",
    "        \"h-dna\",\n",
    "        D_FLIPONS_FA / \"mm10.actb_ssdna_enriched_h-dna.fa\",\n",
    "        D_FLIPONS_BED / \"mm10.actb_ssdna_enriched_h-dna.bed\",\n",
    "        D_FLIPONS_BED / \"mm10.actb_ssdna_enriched_h-dna.slop200.bed\",\n",
    "    ),\n",
    "]\n"
   ]
  },
  {
   "cell_type": "code",
   "execution_count": 14,
   "metadata": {},
   "outputs": [],
   "source": [
    "def get_mir_from_counter(counter: Counter, mir_type: str) -> pd.DataFrame():\n",
    "    counter = Counter({key: val for key, val in counter.items() if val > 0})\n",
    "    keys, values = zip(*counter.items())\n",
    "    flipon, coords, mir_family, strand = zip(*keys)\n",
    "\n",
    "    result = (\n",
    "        pd.DataFrame(\n",
    "            {\n",
    "                \"Flipon\": flipon,\n",
    "                \"Coordinates\": coords,\n",
    "                mir_type: mir_family,\n",
    "                \"Strand\": strand,\n",
    "                \"Count\": values,\n",
    "            }\n",
    "        )\n",
    "        .assign(\n",
    "            Strand=lambda df: df[\"Strand\"].apply(lambda x: f\"{mir_type} ({x})\"),\n",
    "            miR_count=lambda df: df[mir_type] + \" (\" + df[\"Count\"].astype(str) + \")\",\n",
    "        )\n",
    "        .pivot_table(\n",
    "            index=[\"Flipon\", \"Coordinates\"],\n",
    "            columns=\"Strand\",\n",
    "            values=\"miR_count\",\n",
    "            aggfunc=\", \".join,\n",
    "        )\n",
    "        .reset_index()\n",
    "    )\n",
    "    return result\n",
    "\n",
    "def format_mirna_counts(mirna_counts: list):\n",
    "    \"\"\"Count each miRNA occurrence for each region.\"\"\"\n",
    "    res = []\n",
    "    for region in mirna_counts:\n",
    "        temp_res = []\n",
    "        for mirna_family, counts in region.items():\n",
    "            temp_res.append(f\"{mirna_family} ({counts:,d})\")\n",
    "        res.append(', '.join(sorted(temp_res)))\n",
    "    return res\n",
    "\n",
    "def reverse_complement(x: str):\n",
    "    t_d = {\"A\": \"T\", \"C\": \"G\", \"T\": \"A\", \"G\": \"C\", \"N\": \"N\"}\n",
    "    return \"\".join([t_d[y] for y in x[::-1]])"
   ]
  },
  {
   "cell_type": "code",
   "execution_count": 15,
   "metadata": {},
   "outputs": [
    {
     "data": {
      "text/html": [
       "<div>\n",
       "<style scoped>\n",
       "    .dataframe tbody tr th:only-of-type {\n",
       "        vertical-align: middle;\n",
       "    }\n",
       "\n",
       "    .dataframe tbody tr th {\n",
       "        vertical-align: top;\n",
       "    }\n",
       "\n",
       "    .dataframe thead th {\n",
       "        text-align: right;\n",
       "    }\n",
       "</style>\n",
       "<table border=\"1\" class=\"dataframe\">\n",
       "  <thead>\n",
       "    <tr style=\"text-align: right;\">\n",
       "      <th></th>\n",
       "      <th>miRNA gene family</th>\n",
       "      <th>Seed region</th>\n",
       "      <th>Seed region (RC)</th>\n",
       "    </tr>\n",
       "  </thead>\n",
       "  <tbody>\n",
       "    <tr>\n",
       "      <th>13</th>\n",
       "      <td>miR-124</td>\n",
       "      <td>[AAGGCAC, TAAGGCA]</td>\n",
       "      <td>[GTGCCTT, TGCCTTA]</td>\n",
       "    </tr>\n",
       "  </tbody>\n",
       "</table>\n",
       "</div>"
      ],
      "text/plain": [
       "   miRNA gene family         Seed region    Seed region (RC)\n",
       "13           miR-124  [AAGGCAC, TAAGGCA]  [GTGCCTT, TGCCTTA]"
      ]
     },
     "metadata": {},
     "output_type": "display_data"
    },
    {
     "data": {
      "text/html": [
       "<div>\n",
       "<style scoped>\n",
       "    .dataframe tbody tr th:only-of-type {\n",
       "        vertical-align: middle;\n",
       "    }\n",
       "\n",
       "    .dataframe tbody tr th {\n",
       "        vertical-align: top;\n",
       "    }\n",
       "\n",
       "    .dataframe thead th {\n",
       "        text-align: right;\n",
       "    }\n",
       "</style>\n",
       "<table border=\"1\" class=\"dataframe\">\n",
       "  <thead>\n",
       "    <tr style=\"text-align: right;\">\n",
       "      <th></th>\n",
       "      <th>miRNA gene family</th>\n",
       "      <th>Seed region</th>\n",
       "      <th>Seed region (RC)</th>\n",
       "    </tr>\n",
       "  </thead>\n",
       "  <tbody>\n",
       "    <tr>\n",
       "      <th>0</th>\n",
       "      <td>let-7/miR-98</td>\n",
       "      <td>[GAGGTAG]</td>\n",
       "      <td>[CTACCTC]</td>\n",
       "    </tr>\n",
       "    <tr>\n",
       "      <th>1</th>\n",
       "      <td>miR-1/206</td>\n",
       "      <td>[GGAATGT]</td>\n",
       "      <td>[ACATTCC]</td>\n",
       "    </tr>\n",
       "    <tr>\n",
       "      <th>2</th>\n",
       "      <td>miR-7</td>\n",
       "      <td>[GGAAGAC]</td>\n",
       "      <td>[GTCTTCC]</td>\n",
       "    </tr>\n",
       "    <tr>\n",
       "      <th>3</th>\n",
       "      <td>miR-9</td>\n",
       "      <td>[CTTTGGT]</td>\n",
       "      <td>[ACCAAAG]</td>\n",
       "    </tr>\n",
       "    <tr>\n",
       "      <th>4</th>\n",
       "      <td>miR-10</td>\n",
       "      <td>[ACCCTGT]</td>\n",
       "      <td>[ACAGGGT]</td>\n",
       "    </tr>\n",
       "    <tr>\n",
       "      <th>...</th>\n",
       "      <td>...</td>\n",
       "      <td>...</td>\n",
       "      <td>...</td>\n",
       "    </tr>\n",
       "    <tr>\n",
       "      <th>172</th>\n",
       "      <td>miR-876</td>\n",
       "      <td>[GGATTTC]</td>\n",
       "      <td>[GAAATCC]</td>\n",
       "    </tr>\n",
       "    <tr>\n",
       "      <th>173</th>\n",
       "      <td>miR-1193</td>\n",
       "      <td>[AGGTCAC]</td>\n",
       "      <td>[GTGACCT]</td>\n",
       "    </tr>\n",
       "    <tr>\n",
       "      <th>174</th>\n",
       "      <td>miR-1197</td>\n",
       "      <td>[AGGACAC]</td>\n",
       "      <td>[GTGTCCT]</td>\n",
       "    </tr>\n",
       "    <tr>\n",
       "      <th>175</th>\n",
       "      <td>miR-1249</td>\n",
       "      <td>[CGCCCTT]</td>\n",
       "      <td>[AAGGGCG]</td>\n",
       "    </tr>\n",
       "    <tr>\n",
       "      <th>176</th>\n",
       "      <td>miR-1298</td>\n",
       "      <td>[TCATTCG]</td>\n",
       "      <td>[CGAATGA]</td>\n",
       "    </tr>\n",
       "  </tbody>\n",
       "</table>\n",
       "<p>177 rows × 3 columns</p>\n",
       "</div>"
      ],
      "text/plain": [
       "    miRNA gene family Seed region Seed region (RC)\n",
       "0        let-7/miR-98   [GAGGTAG]        [CTACCTC]\n",
       "1           miR-1/206   [GGAATGT]        [ACATTCC]\n",
       "2               miR-7   [GGAAGAC]        [GTCTTCC]\n",
       "3               miR-9   [CTTTGGT]        [ACCAAAG]\n",
       "4              miR-10   [ACCCTGT]        [ACAGGGT]\n",
       "..                ...         ...              ...\n",
       "172           miR-876   [GGATTTC]        [GAAATCC]\n",
       "173          miR-1193   [AGGTCAC]        [GTGACCT]\n",
       "174          miR-1197   [AGGACAC]        [GTGTCCT]\n",
       "175          miR-1249   [CGCCCTT]        [AAGGGCG]\n",
       "176          miR-1298   [TCATTCG]        [CGAATGA]\n",
       "\n",
       "[177 rows x 3 columns]"
      ]
     },
     "execution_count": 15,
     "metadata": {},
     "output_type": "execute_result"
    }
   ],
   "source": [
    "kwargs = {\n",
    "    \"Seed region\": lambda x: x[\"Seed region\"].str.replace(\"U\", \"T\").str.split(\", \"),\n",
    "    \"Seed region (RC)\": lambda x: x[\"Seed region\"].apply(\n",
    "        lambda x: [reverse_complement(y) for y in x]\n",
    "    ),\n",
    "}\n",
    "mir_conserved = pd.read_table(F_MIRNA_LIST_OG).assign(**kwargs)\n",
    "mir_conserved = mir_conserved[['miRNA gene family', 'Seed region', 'Seed region (RC)']]\n",
    "\n",
    "mir_conserved.to_csv(F_MIRNA_LIST_CONSERVED, sep='\\t', quoting=2, index=False)\n",
    "\n",
    "display(mir_conserved.iloc[[13],:])\n",
    "mir_conserved"
   ]
  },
  {
   "cell_type": "code",
   "execution_count": 16,
   "metadata": {},
   "outputs": [
    {
     "data": {
      "text/html": [
       "<div>\n",
       "<style scoped>\n",
       "    .dataframe tbody tr th:only-of-type {\n",
       "        vertical-align: middle;\n",
       "    }\n",
       "\n",
       "    .dataframe tbody tr th {\n",
       "        vertical-align: top;\n",
       "    }\n",
       "\n",
       "    .dataframe thead th {\n",
       "        text-align: right;\n",
       "    }\n",
       "</style>\n",
       "<table border=\"1\" class=\"dataframe\">\n",
       "  <thead>\n",
       "    <tr style=\"text-align: right;\">\n",
       "      <th></th>\n",
       "      <th>miRNA gene family</th>\n",
       "      <th>Seed region</th>\n",
       "      <th>Seed region (RC)</th>\n",
       "    </tr>\n",
       "  </thead>\n",
       "  <tbody>\n",
       "    <tr>\n",
       "      <th>0</th>\n",
       "      <td>let-7g/let-7i/let-7d/let-7a/let-7b/let-7c/let-...</td>\n",
       "      <td>GAGGTAG</td>\n",
       "      <td>CTACCTC</td>\n",
       "    </tr>\n",
       "    <tr>\n",
       "      <th>1</th>\n",
       "      <td>miR-1a-1/miR-1a-2</td>\n",
       "      <td>CATACTT</td>\n",
       "      <td>AAGTATG</td>\n",
       "    </tr>\n",
       "    <tr>\n",
       "      <th>2</th>\n",
       "      <td>miR-15b/miR-195a/miR-15a/miR-16/miR-322/miR-497a</td>\n",
       "      <td>AGCAGCA</td>\n",
       "      <td>TGCTGCT</td>\n",
       "    </tr>\n",
       "    <tr>\n",
       "      <th>3</th>\n",
       "      <td>miR-23b</td>\n",
       "      <td>GGTTCCT</td>\n",
       "      <td>AGGAACC</td>\n",
       "    </tr>\n",
       "    <tr>\n",
       "      <th>4</th>\n",
       "      <td>miR-27b</td>\n",
       "      <td>GAGCTTA</td>\n",
       "      <td>TAAGCTC</td>\n",
       "    </tr>\n",
       "    <tr>\n",
       "      <th>...</th>\n",
       "      <td>...</td>\n",
       "      <td>...</td>\n",
       "      <td>...</td>\n",
       "    </tr>\n",
       "    <tr>\n",
       "      <th>673</th>\n",
       "      <td>miR-12203</td>\n",
       "      <td>GCCGGAG</td>\n",
       "      <td>CTCCGGC</td>\n",
       "    </tr>\n",
       "    <tr>\n",
       "      <th>674</th>\n",
       "      <td>miR-12204</td>\n",
       "      <td>TGAGTCT</td>\n",
       "      <td>AGACTCA</td>\n",
       "    </tr>\n",
       "    <tr>\n",
       "      <th>675</th>\n",
       "      <td>miR-1970c</td>\n",
       "      <td>GTGTCAC</td>\n",
       "      <td>GTGACAC</td>\n",
       "    </tr>\n",
       "    <tr>\n",
       "      <th>676</th>\n",
       "      <td>miR-12205</td>\n",
       "      <td>GTGTTTC</td>\n",
       "      <td>GAAACAC</td>\n",
       "    </tr>\n",
       "    <tr>\n",
       "      <th>677</th>\n",
       "      <td>miR-12206</td>\n",
       "      <td>ACTATGC</td>\n",
       "      <td>GCATAGT</td>\n",
       "    </tr>\n",
       "  </tbody>\n",
       "</table>\n",
       "<p>678 rows × 3 columns</p>\n",
       "</div>"
      ],
      "text/plain": [
       "                                     miRNA gene family Seed region  \\\n",
       "0    let-7g/let-7i/let-7d/let-7a/let-7b/let-7c/let-...     GAGGTAG   \n",
       "1                                    miR-1a-1/miR-1a-2     CATACTT   \n",
       "2     miR-15b/miR-195a/miR-15a/miR-16/miR-322/miR-497a     AGCAGCA   \n",
       "3                                              miR-23b     GGTTCCT   \n",
       "4                                              miR-27b     GAGCTTA   \n",
       "..                                                 ...         ...   \n",
       "673                                          miR-12203     GCCGGAG   \n",
       "674                                          miR-12204     TGAGTCT   \n",
       "675                                          miR-1970c     GTGTCAC   \n",
       "676                                          miR-12205     GTGTTTC   \n",
       "677                                          miR-12206     ACTATGC   \n",
       "\n",
       "    Seed region (RC)  \n",
       "0            CTACCTC  \n",
       "1            AAGTATG  \n",
       "2            TGCTGCT  \n",
       "3            AGGAACC  \n",
       "4            TAAGCTC  \n",
       "..               ...  \n",
       "673          CTCCGGC  \n",
       "674          AGACTCA  \n",
       "675          GTGACAC  \n",
       "676          GAAACAC  \n",
       "677          GCATAGT  \n",
       "\n",
       "[678 rows x 3 columns]"
      ]
     },
     "execution_count": 16,
     "metadata": {},
     "output_type": "execute_result"
    }
   ],
   "source": [
    "mir_all = pd.read_table(F_MIRNA_LIST_ALL)\n",
    "mir_all"
   ]
  },
  {
   "attachments": {},
   "cell_type": "markdown",
   "metadata": {},
   "source": [
    "### Direct"
   ]
  },
  {
   "cell_type": "code",
   "execution_count": 17,
   "metadata": {},
   "outputs": [
    {
     "data": {
      "application/vnd.jupyter.widget-view+json": {
       "model_id": "0ac2efef351f41f8ab865b7a1cf0dddb",
       "version_major": 2,
       "version_minor": 0
      },
      "text/plain": [
       "  0%|          | 0/4 [00:00<?, ?it/s]"
      ]
     },
     "metadata": {},
     "output_type": "display_data"
    },
    {
     "data": {
      "application/vnd.jupyter.widget-view+json": {
       "model_id": "04429abc9dc94e9d98a58cbebfb78c4f",
       "version_major": 2,
       "version_minor": 0
      },
      "text/plain": [
       "  0%|          | 0/20253 [00:00<?, ?it/s]"
      ]
     },
     "metadata": {},
     "output_type": "display_data"
    },
    {
     "data": {
      "application/vnd.jupyter.widget-view+json": {
       "model_id": "6ecdecbf28bd4826b8b14b86c5fc6291",
       "version_major": 2,
       "version_minor": 0
      },
      "text/plain": [
       "  0%|          | 0/15296 [00:00<?, ?it/s]"
      ]
     },
     "metadata": {},
     "output_type": "display_data"
    },
    {
     "data": {
      "application/vnd.jupyter.widget-view+json": {
       "model_id": "35ad454bc83c43958b71e3d22c075424",
       "version_major": 2,
       "version_minor": 0
      },
      "text/plain": [
       "  0%|          | 0/25059 [00:00<?, ?it/s]"
      ]
     },
     "metadata": {},
     "output_type": "display_data"
    },
    {
     "data": {
      "application/vnd.jupyter.widget-view+json": {
       "model_id": "f8825390d2894275a89eeaa10f8b7ce1",
       "version_major": 2,
       "version_minor": 0
      },
      "text/plain": [
       "  0%|          | 0/17100 [00:00<?, ?it/s]"
      ]
     },
     "metadata": {},
     "output_type": "display_data"
    }
   ],
   "source": [
    "counter_direct_all = Counter()\n",
    "counter_direct_conserved = Counter()\n",
    "\n",
    "for flipon in tqdm(flipon_data):\n",
    "    fasta_seqs = [x.upper() for x in SeqIO.parse(flipon.path_fa, \"fasta\")]\n",
    "    for rec in tqdm(fasta_seqs):\n",
    "        for mir_family, *seeds in mir_conserved.values:\n",
    "            for seed_fwd, seed_rc in zip(*seeds):\n",
    "                counter_direct_conserved[\n",
    "                    (flipon.name, rec.name, mir_family, \"+\")\n",
    "                ] += rec.seq.count(seed_fwd)\n",
    "                counter_direct_conserved[\n",
    "                    (flipon.name, rec.name, mir_family, \"-\")\n",
    "                ] += rec.seq.count(seed_rc)\n",
    "        for mir_family, seed_fwd, seed_rc in mir_all.values:\n",
    "            counter_direct_all[(flipon.name, rec.name, mir_family, \"+\")] += rec.seq.count(\n",
    "                seed_fwd\n",
    "            )\n",
    "            counter_direct_all[(flipon.name, rec.name, mir_family, \"-\")] += rec.seq.count(\n",
    "                seed_rc\n",
    "            )\n"
   ]
  },
  {
   "attachments": {},
   "cell_type": "markdown",
   "metadata": {},
   "source": [
    "### Junction"
   ]
  },
  {
   "cell_type": "code",
   "execution_count": 18,
   "metadata": {},
   "outputs": [
    {
     "data": {
      "application/vnd.jupyter.widget-view+json": {
       "model_id": "ad2ab07635c744baa56398d9bb0fc982",
       "version_major": 2,
       "version_minor": 0
      },
      "text/plain": [
       "  0%|          | 0/4 [00:00<?, ?it/s]"
      ]
     },
     "metadata": {},
     "output_type": "display_data"
    },
    {
     "data": {
      "application/vnd.jupyter.widget-view+json": {
       "model_id": "e8035a7cb94d4a4ea2ee13bc9fe74e40",
       "version_major": 2,
       "version_minor": 0
      },
      "text/plain": [
       "  0%|          | 0/40506 [00:00<?, ?it/s]"
      ]
     },
     "metadata": {},
     "output_type": "display_data"
    },
    {
     "data": {
      "application/vnd.jupyter.widget-view+json": {
       "model_id": "d0e597f8cb554cd5bfe229dd46e6d075",
       "version_major": 2,
       "version_minor": 0
      },
      "text/plain": [
       "  0%|          | 0/40506 [00:00<?, ?it/s]"
      ]
     },
     "metadata": {},
     "output_type": "display_data"
    },
    {
     "data": {
      "application/vnd.jupyter.widget-view+json": {
       "model_id": "1ee1fceed63946cab6edbaa58c24760d",
       "version_major": 2,
       "version_minor": 0
      },
      "text/plain": [
       "  0%|          | 0/30592 [00:00<?, ?it/s]"
      ]
     },
     "metadata": {},
     "output_type": "display_data"
    },
    {
     "data": {
      "application/vnd.jupyter.widget-view+json": {
       "model_id": "96235486248540a3b08f35240f0748ab",
       "version_major": 2,
       "version_minor": 0
      },
      "text/plain": [
       "  0%|          | 0/30592 [00:00<?, ?it/s]"
      ]
     },
     "metadata": {},
     "output_type": "display_data"
    },
    {
     "data": {
      "application/vnd.jupyter.widget-view+json": {
       "model_id": "fd369539c583482881fdb09904ba9014",
       "version_major": 2,
       "version_minor": 0
      },
      "text/plain": [
       "  0%|          | 0/50118 [00:00<?, ?it/s]"
      ]
     },
     "metadata": {},
     "output_type": "display_data"
    },
    {
     "data": {
      "application/vnd.jupyter.widget-view+json": {
       "model_id": "6f2256be299b4a8f9e78bc31b2cdf339",
       "version_major": 2,
       "version_minor": 0
      },
      "text/plain": [
       "  0%|          | 0/50118 [00:00<?, ?it/s]"
      ]
     },
     "metadata": {},
     "output_type": "display_data"
    },
    {
     "data": {
      "application/vnd.jupyter.widget-view+json": {
       "model_id": "9f61c1eebcec4976af076e8a85d1aca5",
       "version_major": 2,
       "version_minor": 0
      },
      "text/plain": [
       "  0%|          | 0/34200 [00:00<?, ?it/s]"
      ]
     },
     "metadata": {},
     "output_type": "display_data"
    },
    {
     "data": {
      "application/vnd.jupyter.widget-view+json": {
       "model_id": "931a172b7f87437bab49481ebfa54daa",
       "version_major": 2,
       "version_minor": 0
      },
      "text/plain": [
       "  0%|          | 0/34200 [00:00<?, ?it/s]"
      ]
     },
     "metadata": {},
     "output_type": "display_data"
    }
   ],
   "source": [
    "counter_J_all = Counter()\n",
    "counter_J_conserved = Counter()\n",
    "counter_MJ_all = Counter()\n",
    "counter_MJ_conserved = Counter()\n",
    "\n",
    "for flipon in tqdm(flipon_data):\n",
    "    with tempfile.TemporaryDirectory() as tmpdir:\n",
    "\n",
    "        # Create a junction sites bed-file\n",
    "        path_flank_left = tmpdir + 'flank_left.bed'\n",
    "        path_flank_right = tmpdir + 'flank_right.bed'\n",
    "        !bedtools flank -i {flipon.path_bed} -g {F_CHROM_SIZES} -l 6 -r 0 > {path_flank_left}\n",
    "        !bedtools flank -i {flipon.path_bed} -g {F_CHROM_SIZES} -l 0 -r 6 > {path_flank_right}\n",
    "        pd.read_table(path_flank_left, names=['chr','start','end','name','score','strand'], header=None).assign(end=lambda df: df['end']+1).to_csv(path_flank_left, sep='\\t', header=False, index=False)\n",
    "        pd.read_table(path_flank_right, names=['chr','start','end','name','score','strand'], header=None).assign(start=lambda df: df['start']-1).to_csv(path_flank_right, sep='\\t', header=False, index=False)\n",
    "        path_sites_J = tmpdir + 'junction_sites.bed'\n",
    "        !cat {path_flank_left} {path_flank_right} | sort -k1,1 -k2,2n > {path_sites_J}\n",
    "        path_sites_J_fasta = tmpdir + 'junction_sites.fa'\n",
    "        !bedtools getfasta -fi {F_GENOME} -bed {path_sites_J} -nameOnly > {path_sites_J_fasta}\n",
    "\n",
    "        # Create a motif-junction sites bed file\n",
    "        path_flank_left = tmpdir + 'flank_left.bed'\n",
    "        path_flank_right = tmpdir + 'flank_right.bed'\n",
    "        !bedtools flank -i {flipon.path_bed} -g {F_CHROM_SIZES} -l 5 -r 0 > {path_flank_left}\n",
    "        !bedtools flank -i {flipon.path_bed} -g {F_CHROM_SIZES} -l 0 -r 5 > {path_flank_right}\n",
    "        pd.read_table(path_flank_left, names=['chr','start','end','name','score','strand'], header=None).assign(end=lambda df: df['end']+1).to_csv(path_flank_left, sep='\\t', header=False, index=False)\n",
    "        pd.read_table(path_flank_right, names=['chr','start','end','name','score','strand'], header=None).assign(start=lambda df: df['start']-1).to_csv(path_flank_right, sep='\\t', header=False, index=False)\n",
    "        path_flank_left_slop_right = tmpdir + 'flank_left_slop_right.bed'\n",
    "        path_flank_right_slop_left = tmpdir + 'flank_right_slop_left.bed'\n",
    "        !bedtools slop -i {path_flank_left} -g {F_CHROM_SIZES} -l 0 -r 5 > {path_flank_left_slop_right}\n",
    "        !bedtools slop -i {path_flank_right} -g {F_CHROM_SIZES} -l 5 -r 0 > {path_flank_right_slop_left}\n",
    "        path_sites_MJ = tmpdir + 'motif_junction_sites.bed'\n",
    "        !cat {path_flank_left_slop_right} {path_flank_right_slop_left} | sort -k1,1 -k2,2n > {path_sites_MJ}\n",
    "        path_sites_MJ_fasta = tmpdir + 'motif_junction_sites.fa'\n",
    "        !bedtools getfasta -fi {F_GENOME} -bed {path_sites_MJ} -nameOnly > {path_sites_MJ_fasta}\n",
    "        \n",
    "        # Find bindings\n",
    "        fasta_junction_sites = [x.upper() for x in SeqIO.parse(path_sites_J_fasta, 'fasta')]\n",
    "        for rec in tqdm(fasta_junction_sites):\n",
    "            for mir_family, *seeds in mir_conserved.values:\n",
    "                for seed_fwd, seed_rc in zip(*seeds):\n",
    "                    counter_J_conserved[(flipon.name, rec.name, mir_family, '+')] += rec.seq.count(seed_fwd)\n",
    "                    counter_J_conserved[(flipon.name, rec.name, mir_family, '-')] += rec.seq.count(seed_rc)\n",
    "            for mir_family, seed_fwd, seed_rc in mir_all.values:\n",
    "                counter_J_all[(flipon.name, rec.name, mir_family, '+')] += rec.seq.count(seed_fwd)\n",
    "                counter_J_all[(flipon.name, rec.name, mir_family, '-')] += rec.seq.count(seed_rc)\n",
    "        \n",
    "        fasta_junction_motif_sites = [x.upper() for x in SeqIO.parse(path_sites_MJ_fasta, 'fasta')]\n",
    "        for rec in tqdm(fasta_junction_motif_sites):\n",
    "            for mir_family, *seeds in mir_conserved.values:\n",
    "                for seed_fwd, seed_rc in zip(*seeds):\n",
    "                    counter_MJ_conserved[(flipon.name, rec.name, mir_family, '+')] += rec.seq.count(seed_fwd)\n",
    "                    counter_MJ_conserved[(flipon.name, rec.name, mir_family, '-')] += rec.seq.count(seed_rc)\n",
    "            for mir_family, seed_fwd, seed_rc in mir_all.values:\n",
    "                counter_MJ_all[(flipon.name, rec.name, mir_family, '+')] += rec.seq.count(seed_fwd)\n",
    "                counter_MJ_all[(flipon.name, rec.name, mir_family, '-')] += rec.seq.count(seed_rc)"
   ]
  },
  {
   "cell_type": "markdown",
   "metadata": {},
   "source": [
    "### Merge"
   ]
  },
  {
   "cell_type": "code",
   "execution_count": 19,
   "metadata": {},
   "outputs": [
    {
     "data": {
      "text/html": [
       "<div>\n",
       "<style scoped>\n",
       "    .dataframe tbody tr th:only-of-type {\n",
       "        vertical-align: middle;\n",
       "    }\n",
       "\n",
       "    .dataframe tbody tr th {\n",
       "        vertical-align: top;\n",
       "    }\n",
       "\n",
       "    .dataframe thead th {\n",
       "        text-align: right;\n",
       "    }\n",
       "</style>\n",
       "<table border=\"1\" class=\"dataframe\">\n",
       "  <thead>\n",
       "    <tr style=\"text-align: right;\">\n",
       "      <th>Strand</th>\n",
       "      <th>Flipon</th>\n",
       "      <th>Coordinates</th>\n",
       "      <th>c. M miR (+)</th>\n",
       "      <th>c. M miR (-)</th>\n",
       "      <th>c. MJ miR (+)</th>\n",
       "      <th>c. MJ miR (-)</th>\n",
       "      <th>c. J miR (+)</th>\n",
       "      <th>c. J miR (-)</th>\n",
       "      <th>M miR (+)</th>\n",
       "      <th>M miR (-)</th>\n",
       "      <th>MJ miR (+)</th>\n",
       "      <th>MJ miR (-)</th>\n",
       "      <th>J miR (+)</th>\n",
       "      <th>J miR (-)</th>\n",
       "    </tr>\n",
       "  </thead>\n",
       "  <tbody>\n",
       "    <tr>\n",
       "      <th>0</th>\n",
       "      <td>g4</td>\n",
       "      <td>chr10:100016214-100016246</td>\n",
       "      <td>NaN</td>\n",
       "      <td>miR-149 (1)</td>\n",
       "      <td>NaN</td>\n",
       "      <td>miR-331 (1)</td>\n",
       "      <td>NaN</td>\n",
       "      <td>NaN</td>\n",
       "      <td>miR-6943 (1), miR-6975/miR-7005 (1), miR-7034/...</td>\n",
       "      <td>miR-149 (1), miR-1894 (1)</td>\n",
       "      <td>miR-6911/miR-7028/miR-7079/miR-7662 (1), miR-6...</td>\n",
       "      <td>miR-6904/miR-6914 (1)</td>\n",
       "      <td>miR-883a (1)</td>\n",
       "      <td>NaN</td>\n",
       "    </tr>\n",
       "    <tr>\n",
       "      <th>1</th>\n",
       "      <td>g4</td>\n",
       "      <td>chr10:100147225-100147247</td>\n",
       "      <td>miR-365 (1)</td>\n",
       "      <td>NaN</td>\n",
       "      <td>NaN</td>\n",
       "      <td>NaN</td>\n",
       "      <td>NaN</td>\n",
       "      <td>NaN</td>\n",
       "      <td>miR-6920 (1)</td>\n",
       "      <td>miR-6418 (1), miR-7001 (1), miR-7030/miR-7075/...</td>\n",
       "      <td>NaN</td>\n",
       "      <td>miR-698/miR-7078 (1), miR-3087 (1), miR-7652 (1)</td>\n",
       "      <td>miR-770 (1)</td>\n",
       "      <td>miR-3102-5p.2 (1)</td>\n",
       "    </tr>\n",
       "    <tr>\n",
       "      <th>2</th>\n",
       "      <td>g4</td>\n",
       "      <td>chr10:100661290-100661309</td>\n",
       "      <td>miR-185 (1)</td>\n",
       "      <td>NaN</td>\n",
       "      <td>NaN</td>\n",
       "      <td>NaN</td>\n",
       "      <td>NaN</td>\n",
       "      <td>NaN</td>\n",
       "      <td>miR-185 (1), miR-1249 (1), miR-1943/miR-6967/m...</td>\n",
       "      <td>NaN</td>\n",
       "      <td>miR-1249 (1), miR-1943/miR-6967/miR-7016 (2), ...</td>\n",
       "      <td>NaN</td>\n",
       "      <td>NaN</td>\n",
       "      <td>NaN</td>\n",
       "    </tr>\n",
       "    <tr>\n",
       "      <th>3</th>\n",
       "      <td>g4</td>\n",
       "      <td>chr10:100661317-100661348</td>\n",
       "      <td>miR-185 (1)</td>\n",
       "      <td>NaN</td>\n",
       "      <td>miR-185 (1)</td>\n",
       "      <td>NaN</td>\n",
       "      <td>NaN</td>\n",
       "      <td>NaN</td>\n",
       "      <td>miR-185 (1), miR-1249 (2), miR-1943/miR-6967/m...</td>\n",
       "      <td>miR-12183 (1)</td>\n",
       "      <td>miR-185 (1), miR-1249 (1), miR-1943/miR-6967/m...</td>\n",
       "      <td>NaN</td>\n",
       "      <td>NaN</td>\n",
       "      <td>NaN</td>\n",
       "    </tr>\n",
       "    <tr>\n",
       "      <th>4</th>\n",
       "      <td>g4</td>\n",
       "      <td>chr10:100926057-100926093</td>\n",
       "      <td>NaN</td>\n",
       "      <td>miR-328 (1)</td>\n",
       "      <td>NaN</td>\n",
       "      <td>miR-486 (1)</td>\n",
       "      <td>NaN</td>\n",
       "      <td>NaN</td>\n",
       "      <td>miR-698/miR-7078 (1), miR-3572 (1), miR-6956 (...</td>\n",
       "      <td>miR-23a (1), miR-6904/miR-6914 (1)</td>\n",
       "      <td>miR-3076 (1), miR-6418 (1)</td>\n",
       "      <td>miR-486a/miR-486b (1)</td>\n",
       "      <td>NaN</td>\n",
       "      <td>NaN</td>\n",
       "    </tr>\n",
       "    <tr>\n",
       "      <th>...</th>\n",
       "      <td>...</td>\n",
       "      <td>...</td>\n",
       "      <td>...</td>\n",
       "      <td>...</td>\n",
       "      <td>...</td>\n",
       "      <td>...</td>\n",
       "      <td>...</td>\n",
       "      <td>...</td>\n",
       "      <td>...</td>\n",
       "      <td>...</td>\n",
       "      <td>...</td>\n",
       "      <td>...</td>\n",
       "      <td>...</td>\n",
       "      <td>...</td>\n",
       "    </tr>\n",
       "    <tr>\n",
       "      <th>74542</th>\n",
       "      <td>z-dna</td>\n",
       "      <td>chrX:74841465-74841490</td>\n",
       "      <td>NaN</td>\n",
       "      <td>NaN</td>\n",
       "      <td>NaN</td>\n",
       "      <td>NaN</td>\n",
       "      <td>NaN</td>\n",
       "      <td>NaN</td>\n",
       "      <td>NaN</td>\n",
       "      <td>NaN</td>\n",
       "      <td>NaN</td>\n",
       "      <td>NaN</td>\n",
       "      <td>NaN</td>\n",
       "      <td>miR-669k (1)</td>\n",
       "    </tr>\n",
       "    <tr>\n",
       "      <th>74543</th>\n",
       "      <td>z-dna</td>\n",
       "      <td>chrX:86192448-86192467</td>\n",
       "      <td>NaN</td>\n",
       "      <td>NaN</td>\n",
       "      <td>NaN</td>\n",
       "      <td>NaN</td>\n",
       "      <td>NaN</td>\n",
       "      <td>NaN</td>\n",
       "      <td>NaN</td>\n",
       "      <td>NaN</td>\n",
       "      <td>NaN</td>\n",
       "      <td>NaN</td>\n",
       "      <td>NaN</td>\n",
       "      <td>miR-7064 (1)</td>\n",
       "    </tr>\n",
       "    <tr>\n",
       "      <th>74544</th>\n",
       "      <td>z-dna</td>\n",
       "      <td>chrX:9200174-9200187</td>\n",
       "      <td>NaN</td>\n",
       "      <td>NaN</td>\n",
       "      <td>NaN</td>\n",
       "      <td>NaN</td>\n",
       "      <td>NaN</td>\n",
       "      <td>NaN</td>\n",
       "      <td>NaN</td>\n",
       "      <td>NaN</td>\n",
       "      <td>NaN</td>\n",
       "      <td>NaN</td>\n",
       "      <td>miR-6994 (1)</td>\n",
       "      <td>NaN</td>\n",
       "    </tr>\n",
       "    <tr>\n",
       "      <th>74545</th>\n",
       "      <td>z-dna</td>\n",
       "      <td>chrX:9387131-9387148</td>\n",
       "      <td>NaN</td>\n",
       "      <td>NaN</td>\n",
       "      <td>NaN</td>\n",
       "      <td>NaN</td>\n",
       "      <td>NaN</td>\n",
       "      <td>NaN</td>\n",
       "      <td>NaN</td>\n",
       "      <td>NaN</td>\n",
       "      <td>NaN</td>\n",
       "      <td>NaN</td>\n",
       "      <td>NaN</td>\n",
       "      <td>miR-5627 (1)</td>\n",
       "    </tr>\n",
       "    <tr>\n",
       "      <th>74546</th>\n",
       "      <td>z-dna</td>\n",
       "      <td>chrY:2610113-2610130</td>\n",
       "      <td>NaN</td>\n",
       "      <td>NaN</td>\n",
       "      <td>NaN</td>\n",
       "      <td>NaN</td>\n",
       "      <td>NaN</td>\n",
       "      <td>NaN</td>\n",
       "      <td>NaN</td>\n",
       "      <td>NaN</td>\n",
       "      <td>NaN</td>\n",
       "      <td>NaN</td>\n",
       "      <td>NaN</td>\n",
       "      <td>miR-5627 (1)</td>\n",
       "    </tr>\n",
       "  </tbody>\n",
       "</table>\n",
       "<p>74547 rows × 14 columns</p>\n",
       "</div>"
      ],
      "text/plain": [
       "Strand Flipon                Coordinates c. M miR (+) c. M miR (-)  \\\n",
       "0          g4  chr10:100016214-100016246          NaN  miR-149 (1)   \n",
       "1          g4  chr10:100147225-100147247  miR-365 (1)          NaN   \n",
       "2          g4  chr10:100661290-100661309  miR-185 (1)          NaN   \n",
       "3          g4  chr10:100661317-100661348  miR-185 (1)          NaN   \n",
       "4          g4  chr10:100926057-100926093          NaN  miR-328 (1)   \n",
       "...       ...                        ...          ...          ...   \n",
       "74542   z-dna     chrX:74841465-74841490          NaN          NaN   \n",
       "74543   z-dna     chrX:86192448-86192467          NaN          NaN   \n",
       "74544   z-dna       chrX:9200174-9200187          NaN          NaN   \n",
       "74545   z-dna       chrX:9387131-9387148          NaN          NaN   \n",
       "74546   z-dna       chrY:2610113-2610130          NaN          NaN   \n",
       "\n",
       "Strand c. MJ miR (+) c. MJ miR (-) c. J miR (+) c. J miR (-)  \\\n",
       "0                NaN   miR-331 (1)          NaN          NaN   \n",
       "1                NaN           NaN          NaN          NaN   \n",
       "2                NaN           NaN          NaN          NaN   \n",
       "3        miR-185 (1)           NaN          NaN          NaN   \n",
       "4                NaN   miR-486 (1)          NaN          NaN   \n",
       "...              ...           ...          ...          ...   \n",
       "74542            NaN           NaN          NaN          NaN   \n",
       "74543            NaN           NaN          NaN          NaN   \n",
       "74544            NaN           NaN          NaN          NaN   \n",
       "74545            NaN           NaN          NaN          NaN   \n",
       "74546            NaN           NaN          NaN          NaN   \n",
       "\n",
       "Strand                                          M miR (+)  \\\n",
       "0       miR-6943 (1), miR-6975/miR-7005 (1), miR-7034/...   \n",
       "1                                            miR-6920 (1)   \n",
       "2       miR-185 (1), miR-1249 (1), miR-1943/miR-6967/m...   \n",
       "3       miR-185 (1), miR-1249 (2), miR-1943/miR-6967/m...   \n",
       "4       miR-698/miR-7078 (1), miR-3572 (1), miR-6956 (...   \n",
       "...                                                   ...   \n",
       "74542                                                 NaN   \n",
       "74543                                                 NaN   \n",
       "74544                                                 NaN   \n",
       "74545                                                 NaN   \n",
       "74546                                                 NaN   \n",
       "\n",
       "Strand                                          M miR (-)  \\\n",
       "0                               miR-149 (1), miR-1894 (1)   \n",
       "1       miR-6418 (1), miR-7001 (1), miR-7030/miR-7075/...   \n",
       "2                                                     NaN   \n",
       "3                                           miR-12183 (1)   \n",
       "4                      miR-23a (1), miR-6904/miR-6914 (1)   \n",
       "...                                                   ...   \n",
       "74542                                                 NaN   \n",
       "74543                                                 NaN   \n",
       "74544                                                 NaN   \n",
       "74545                                                 NaN   \n",
       "74546                                                 NaN   \n",
       "\n",
       "Strand                                         MJ miR (+)  \\\n",
       "0       miR-6911/miR-7028/miR-7079/miR-7662 (1), miR-6...   \n",
       "1                                                     NaN   \n",
       "2       miR-1249 (1), miR-1943/miR-6967/miR-7016 (2), ...   \n",
       "3       miR-185 (1), miR-1249 (1), miR-1943/miR-6967/m...   \n",
       "4                              miR-3076 (1), miR-6418 (1)   \n",
       "...                                                   ...   \n",
       "74542                                                 NaN   \n",
       "74543                                                 NaN   \n",
       "74544                                                 NaN   \n",
       "74545                                                 NaN   \n",
       "74546                                                 NaN   \n",
       "\n",
       "Strand                                        MJ miR (-)     J miR (+)  \\\n",
       "0                                  miR-6904/miR-6914 (1)  miR-883a (1)   \n",
       "1       miR-698/miR-7078 (1), miR-3087 (1), miR-7652 (1)   miR-770 (1)   \n",
       "2                                                    NaN           NaN   \n",
       "3                                                    NaN           NaN   \n",
       "4                                  miR-486a/miR-486b (1)           NaN   \n",
       "...                                                  ...           ...   \n",
       "74542                                                NaN           NaN   \n",
       "74543                                                NaN           NaN   \n",
       "74544                                                NaN  miR-6994 (1)   \n",
       "74545                                                NaN           NaN   \n",
       "74546                                                NaN           NaN   \n",
       "\n",
       "Strand          J miR (-)  \n",
       "0                     NaN  \n",
       "1       miR-3102-5p.2 (1)  \n",
       "2                     NaN  \n",
       "3                     NaN  \n",
       "4                     NaN  \n",
       "...                   ...  \n",
       "74542        miR-669k (1)  \n",
       "74543        miR-7064 (1)  \n",
       "74544                 NaN  \n",
       "74545        miR-5627 (1)  \n",
       "74546        miR-5627 (1)  \n",
       "\n",
       "[74547 rows x 14 columns]"
      ]
     },
     "execution_count": 19,
     "metadata": {},
     "output_type": "execute_result"
    }
   ],
   "source": [
    "result_direct_conserved = get_mir_from_counter(counter_direct_conserved, \"c. M miR\")\n",
    "result_MJ_conserved = get_mir_from_counter(counter_MJ_conserved, \"c. MJ miR\")\n",
    "result_J_conserved = get_mir_from_counter(counter_J_conserved, \"c. J miR\")\n",
    "result_direct_all = get_mir_from_counter(counter_direct_all, \"all M miR\")\n",
    "result_MJ_all = get_mir_from_counter(counter_MJ_all, \"all MJ miR\")\n",
    "result_J_all = get_mir_from_counter(counter_J_all, \"all J miR\")\n",
    "\n",
    "flipon_to_mir = (\n",
    "    result_direct_conserved\n",
    "    .merge(result_MJ_conserved, on=[\"Flipon\", \"Coordinates\"], how=\"outer\")\n",
    "    .merge(result_J_conserved, on=[\"Flipon\", \"Coordinates\"], how=\"outer\")\n",
    "    .merge(result_direct_all, on=[\"Flipon\", \"Coordinates\"], how=\"outer\")\n",
    "    .merge(result_MJ_all, on=[\"Flipon\", \"Coordinates\"], how=\"outer\")\n",
    "    .merge(result_J_all, on=[\"Flipon\", \"Coordinates\"], how=\"outer\")\n",
    ")\n",
    "\n",
    "flipon_to_mir.to_csv(F_FLIPON_TO_MIRNA, sep=\"\\t\", quoting=2, index=False)\n",
    "flipon_to_mir\n"
   ]
  },
  {
   "cell_type": "code",
   "execution_count": 20,
   "metadata": {},
   "outputs": [],
   "source": [
    "# # \"\"\"Export mirna-enriched flipons.\"\"\"\n",
    "\n",
    "# for mir_group in ['miR', 'c. miR', 'j. miR', 'j. c. miR']:\n",
    "#     for flipon_type, group_df in flipon_to_mir.groupby(\"Flipon\"):\n",
    "#         (\n",
    "#             group_df.replace(\"\", None)\n",
    "#             .dropna(subset=[f\"{mir_group} (+)\", f\"{mir_group} (-)\"], how=\"all\")[\"Coordinates\"]\n",
    "#             .str.split(r\":|-\", regex=True, expand=True)\n",
    "#             .astype({1: int, 2: int})\n",
    "#             .sort_values([0, 1])\n",
    "#             .to_csv(\n",
    "#                 D_FLIPONS_BED / f\"mm10.actb_ssdna_enriched_{flipon_type}_and_mirna.bed\",\n",
    "#                 sep=\"\\t\",\n",
    "#                 index=False,\n",
    "#                 header=False,\n",
    "#             )\n",
    "#         )\n"
   ]
  },
  {
   "cell_type": "markdown",
   "metadata": {},
   "source": [
    "## Map flipons to cCRE"
   ]
  },
  {
   "cell_type": "code",
   "execution_count": 21,
   "metadata": {},
   "outputs": [
    {
     "name": "stdout",
     "output_type": "stream",
     "text": [
      "mm10.actb_ssdna_enriched_g4.slop200_and_ccre.bed: 14,637\n",
      "mm10.actb_ssdna_enriched_sidd.slop200_and_ccre.bed: 1,683\n",
      "mm10.actb_ssdna_enriched_z-dna.slop200_and_ccre.bed: 20,638\n",
      "mm10.actb_ssdna_enriched_h-dna.slop200_and_ccre.bed: 3,756\n"
     ]
    }
   ],
   "source": [
    "for flipon in flipon_data:\n",
    "    with open(flipon.path_ccre_intersection, \"w\") as f_out:\n",
    "        sp.run(\n",
    "            [\"bedtools\", \"intersect\", \"-a\", flipon.path_bed_200, \"-b\", F_CCRE, \"-wo\"],\n",
    "            check=True,\n",
    "            stdout=f_out,\n",
    "        )\n",
    "        shape = sp.run(\n",
    "            f\"wc -l {flipon.path_ccre_intersection}\",\n",
    "            shell=True,\n",
    "            capture_output=True,\n",
    "            encoding=\"utf-8\",\n",
    "        ).stdout\n",
    "        print(f\"{Path(shape.split()[1]).name}: {int(shape.split()[0]):,d}\")\n"
   ]
  },
  {
   "cell_type": "code",
   "execution_count": 22,
   "metadata": {},
   "outputs": [
    {
     "data": {
      "text/html": [
       "<div>\n",
       "<style scoped>\n",
       "    .dataframe tbody tr th:only-of-type {\n",
       "        vertical-align: middle;\n",
       "    }\n",
       "\n",
       "    .dataframe tbody tr th {\n",
       "        vertical-align: top;\n",
       "    }\n",
       "\n",
       "    .dataframe thead th {\n",
       "        text-align: right;\n",
       "    }\n",
       "</style>\n",
       "<table border=\"1\" class=\"dataframe\">\n",
       "  <thead>\n",
       "    <tr style=\"text-align: right;\">\n",
       "      <th></th>\n",
       "      <th>Flipon</th>\n",
       "      <th>Coordinates</th>\n",
       "      <th>cCRE (+-200bp)</th>\n",
       "    </tr>\n",
       "  </thead>\n",
       "  <tbody>\n",
       "    <tr>\n",
       "      <th>0</th>\n",
       "      <td>g4</td>\n",
       "      <td>chr1:3671869-3671902</td>\n",
       "      <td>pELS (CTCF-bound)@EM10E0431220</td>\n",
       "    </tr>\n",
       "    <tr>\n",
       "      <th>1</th>\n",
       "      <td>g4</td>\n",
       "      <td>chr1:4493714-4493748</td>\n",
       "      <td>dELS@EM10E0431244</td>\n",
       "    </tr>\n",
       "    <tr>\n",
       "      <th>2</th>\n",
       "      <td>g4</td>\n",
       "      <td>chr1:4571896-4571924</td>\n",
       "      <td>dELS (CTCF-bound)@EM10E0431262</td>\n",
       "    </tr>\n",
       "    <tr>\n",
       "      <th>3</th>\n",
       "      <td>g4</td>\n",
       "      <td>chr1:5018367-5018390</td>\n",
       "      <td>DNase-H3K4me3 (CTCF-bound)@EM10E0431331, PLS@E...</td>\n",
       "    </tr>\n",
       "    <tr>\n",
       "      <th>4</th>\n",
       "      <td>g4</td>\n",
       "      <td>chr1:5019245-5019272</td>\n",
       "      <td>pELS@EM10E0431333, PLS (CTCF-bound)@EM10E0431334</td>\n",
       "    </tr>\n",
       "    <tr>\n",
       "      <th>...</th>\n",
       "      <td>...</td>\n",
       "      <td>...</td>\n",
       "      <td>...</td>\n",
       "    </tr>\n",
       "    <tr>\n",
       "      <th>24415</th>\n",
       "      <td>h-dna</td>\n",
       "      <td>chrX:152769666-152769687</td>\n",
       "      <td>pELS (CTCF-bound)@EM10E0930778</td>\n",
       "    </tr>\n",
       "    <tr>\n",
       "      <th>24416</th>\n",
       "      <td>h-dna</td>\n",
       "      <td>chrX:159987892-159987912</td>\n",
       "      <td>DNase-H3K4me3 (CTCF-bound)@EM10E0931180</td>\n",
       "    </tr>\n",
       "    <tr>\n",
       "      <th>24417</th>\n",
       "      <td>h-dna</td>\n",
       "      <td>chrX:161717977-161717993</td>\n",
       "      <td>PLS@EM10E0931282, pELS@EM10E0931283</td>\n",
       "    </tr>\n",
       "    <tr>\n",
       "      <th>24418</th>\n",
       "      <td>h-dna</td>\n",
       "      <td>chrX:162643118-162643148</td>\n",
       "      <td>pELS@EM10E0931392, pELS@EM10E0931393, pELS (CT...</td>\n",
       "    </tr>\n",
       "    <tr>\n",
       "      <th>24419</th>\n",
       "      <td>h-dna</td>\n",
       "      <td>chrX:166585870-166585891</td>\n",
       "      <td>PLS@EM10E0931752, DNase-H3K4me3@EM10E0931753</td>\n",
       "    </tr>\n",
       "  </tbody>\n",
       "</table>\n",
       "<p>24420 rows × 3 columns</p>\n",
       "</div>"
      ],
      "text/plain": [
       "      Flipon               Coordinates  \\\n",
       "0         g4      chr1:3671869-3671902   \n",
       "1         g4      chr1:4493714-4493748   \n",
       "2         g4      chr1:4571896-4571924   \n",
       "3         g4      chr1:5018367-5018390   \n",
       "4         g4      chr1:5019245-5019272   \n",
       "...      ...                       ...   \n",
       "24415  h-dna  chrX:152769666-152769687   \n",
       "24416  h-dna  chrX:159987892-159987912   \n",
       "24417  h-dna  chrX:161717977-161717993   \n",
       "24418  h-dna  chrX:162643118-162643148   \n",
       "24419  h-dna  chrX:166585870-166585891   \n",
       "\n",
       "                                          cCRE (+-200bp)  \n",
       "0                         pELS (CTCF-bound)@EM10E0431220  \n",
       "1                                      dELS@EM10E0431244  \n",
       "2                         dELS (CTCF-bound)@EM10E0431262  \n",
       "3      DNase-H3K4me3 (CTCF-bound)@EM10E0431331, PLS@E...  \n",
       "4       pELS@EM10E0431333, PLS (CTCF-bound)@EM10E0431334  \n",
       "...                                                  ...  \n",
       "24415                     pELS (CTCF-bound)@EM10E0930778  \n",
       "24416            DNase-H3K4me3 (CTCF-bound)@EM10E0931180  \n",
       "24417                PLS@EM10E0931282, pELS@EM10E0931283  \n",
       "24418  pELS@EM10E0931392, pELS@EM10E0931393, pELS (CT...  \n",
       "24419       PLS@EM10E0931752, DNase-H3K4me3@EM10E0931753  \n",
       "\n",
       "[24420 rows x 3 columns]"
      ]
     },
     "execution_count": 22,
     "metadata": {},
     "output_type": "execute_result"
    }
   ],
   "source": [
    "flipon_to_ccre_df = pd.DataFrame()\n",
    "\n",
    "for flipon in flipon_data:\n",
    "    kwargs = {\n",
    "        \"Flipon\": flipon.name,\n",
    "        \"cCRE (+-200bp)\": lambda df: df.groupby([3])[9].transform(\n",
    "            lambda x: \", \".join(x)\n",
    "        ),\n",
    "    }\n",
    "\n",
    "    df = (\n",
    "        pd.read_table(flipon.path_ccre_intersection, header=None)\n",
    "        .assign(**kwargs)\n",
    "        .drop_duplicates(subset=[3])[[\"Flipon\", 3, \"cCRE (+-200bp)\"]]\n",
    "        .rename(columns={3: \"Coordinates\"})\n",
    "    )\n",
    "\n",
    "    flipon_to_ccre_df = pd.concat([flipon_to_ccre_df, df], ignore_index=True)\n",
    "\n",
    "flipon_to_ccre_df.to_csv(F_FLIPON_TO_CCRE, index=False, sep=\"\\t\")\n",
    "flipon_to_ccre_df\n"
   ]
  },
  {
   "cell_type": "code",
   "execution_count": 23,
   "metadata": {},
   "outputs": [],
   "source": [
    "\"\"\"Export ccre-enriched flipons.\"\"\"\n",
    "\n",
    "for flipon_type, group_df in flipon_to_ccre_df.groupby(\"Flipon\"):\n",
    "    (\n",
    "        group_df.replace(\"\", None)\n",
    "        .dropna(subset=[\"cCRE (+-200bp)\"])[\"Coordinates\"]\n",
    "        .str.split(r\":|-\", regex=True, expand=True)\n",
    "        .astype({1: int, 2: int})\n",
    "        .sort_values([0, 1])\n",
    "        .to_csv(\n",
    "            D_FLIPONS_BED / f\"mm10.actb_ssdna_enriched_{flipon_type}_and_ccre.bed\",\n",
    "            sep=\"\\t\",\n",
    "            index=False,\n",
    "            header=False,\n",
    "        )\n",
    "    )\n"
   ]
  },
  {
   "cell_type": "markdown",
   "metadata": {},
   "source": [
    "## Map flipons to LINE/LTRs"
   ]
  },
  {
   "cell_type": "code",
   "execution_count": 24,
   "metadata": {},
   "outputs": [
    {
     "name": "stdout",
     "output_type": "stream",
     "text": [
      "mm10.actb_ssdna_enriched_g4.slop200_and_rmsk.bed: 13,336\n",
      "mm10.actb_ssdna_enriched_sidd.slop200_and_rmsk.bed: 23,477\n",
      "mm10.actb_ssdna_enriched_z-dna.slop200_and_rmsk.bed: 11,835\n",
      "mm10.actb_ssdna_enriched_h-dna.slop200_and_rmsk.bed: 15,871\n"
     ]
    }
   ],
   "source": [
    "for flipon in flipon_data:\n",
    "    with open(flipon.path_rmsk_intersection, \"w\") as f_out:\n",
    "        sp.run(\n",
    "            [\"bedtools\", \"intersect\", \"-a\", flipon.path_bed_200, \"-b\", F_RMSK_LINE_LTR, \"-wo\"],\n",
    "            check=True,\n",
    "            stdout=f_out,\n",
    "        )\n",
    "        shape = sp.run(\n",
    "            f\"wc -l {flipon.path_rmsk_intersection}\",\n",
    "            shell=True,\n",
    "            capture_output=True,\n",
    "            encoding=\"utf-8\",\n",
    "        ).stdout\n",
    "        print(f\"{Path(shape.split()[1]).name}: {int(shape.split()[0]):,d}\")\n"
   ]
  },
  {
   "cell_type": "code",
   "execution_count": 25,
   "metadata": {},
   "outputs": [
    {
     "data": {
      "text/html": [
       "<div>\n",
       "<style scoped>\n",
       "    .dataframe tbody tr th:only-of-type {\n",
       "        vertical-align: middle;\n",
       "    }\n",
       "\n",
       "    .dataframe tbody tr th {\n",
       "        vertical-align: top;\n",
       "    }\n",
       "\n",
       "    .dataframe thead th {\n",
       "        text-align: right;\n",
       "    }\n",
       "</style>\n",
       "<table border=\"1\" class=\"dataframe\">\n",
       "  <thead>\n",
       "    <tr style=\"text-align: right;\">\n",
       "      <th></th>\n",
       "      <th>Flipon</th>\n",
       "      <th>Coordinates</th>\n",
       "      <th>LINE/LTR (+-200bp)</th>\n",
       "    </tr>\n",
       "  </thead>\n",
       "  <tbody>\n",
       "    <tr>\n",
       "      <th>0</th>\n",
       "      <td>g4</td>\n",
       "      <td>chr1:3014794-3014871</td>\n",
       "      <td>LINE@L1Md_F2(-), LINE@L1VL1(+)</td>\n",
       "    </tr>\n",
       "    <tr>\n",
       "      <th>1</th>\n",
       "      <td>g4</td>\n",
       "      <td>chr1:3099888-3099963</td>\n",
       "      <td>LINE@L1Md_F2(+), LTR@MTC(+)</td>\n",
       "    </tr>\n",
       "    <tr>\n",
       "      <th>2</th>\n",
       "      <td>g4</td>\n",
       "      <td>chr1:3287445-3287468</td>\n",
       "      <td>LINE@L1MD(-)</td>\n",
       "    </tr>\n",
       "    <tr>\n",
       "      <th>3</th>\n",
       "      <td>g4</td>\n",
       "      <td>chr1:3472953-3472969</td>\n",
       "      <td>LINE@L1_Mus1(+)</td>\n",
       "    </tr>\n",
       "    <tr>\n",
       "      <th>4</th>\n",
       "      <td>g4</td>\n",
       "      <td>chr1:3535948-3535996</td>\n",
       "      <td>LINE@L1_Mus2(-), LINE@L1VL1(+)</td>\n",
       "    </tr>\n",
       "    <tr>\n",
       "      <th>...</th>\n",
       "      <td>...</td>\n",
       "      <td>...</td>\n",
       "      <td>...</td>\n",
       "    </tr>\n",
       "    <tr>\n",
       "      <th>39775</th>\n",
       "      <td>h-dna</td>\n",
       "      <td>chrY:4200098-4200122</td>\n",
       "      <td>LINE@L1MD(+)</td>\n",
       "    </tr>\n",
       "    <tr>\n",
       "      <th>39776</th>\n",
       "      <td>h-dna</td>\n",
       "      <td>chrY:4208594-4208610</td>\n",
       "      <td>LTR@ORR1E(+), LINE@L1Md_T(-)</td>\n",
       "    </tr>\n",
       "    <tr>\n",
       "      <th>39777</th>\n",
       "      <td>h-dna</td>\n",
       "      <td>chrY:4223501-4223522</td>\n",
       "      <td>LINE@L1_Mus2(-)</td>\n",
       "    </tr>\n",
       "    <tr>\n",
       "      <th>39778</th>\n",
       "      <td>h-dna</td>\n",
       "      <td>chrY:4231086-4231113</td>\n",
       "      <td>LTR@MuRRS4-int(-)</td>\n",
       "    </tr>\n",
       "    <tr>\n",
       "      <th>39779</th>\n",
       "      <td>h-dna</td>\n",
       "      <td>chrY:4235026-4235042</td>\n",
       "      <td>LTR@MuRRS4-int(-), LTR@MuRRS4-int(-)</td>\n",
       "    </tr>\n",
       "  </tbody>\n",
       "</table>\n",
       "<p>39780 rows × 3 columns</p>\n",
       "</div>"
      ],
      "text/plain": [
       "      Flipon           Coordinates                    LINE/LTR (+-200bp)\n",
       "0         g4  chr1:3014794-3014871        LINE@L1Md_F2(-), LINE@L1VL1(+)\n",
       "1         g4  chr1:3099888-3099963           LINE@L1Md_F2(+), LTR@MTC(+)\n",
       "2         g4  chr1:3287445-3287468                          LINE@L1MD(-)\n",
       "3         g4  chr1:3472953-3472969                       LINE@L1_Mus1(+)\n",
       "4         g4  chr1:3535948-3535996        LINE@L1_Mus2(-), LINE@L1VL1(+)\n",
       "...      ...                   ...                                   ...\n",
       "39775  h-dna  chrY:4200098-4200122                          LINE@L1MD(+)\n",
       "39776  h-dna  chrY:4208594-4208610          LTR@ORR1E(+), LINE@L1Md_T(-)\n",
       "39777  h-dna  chrY:4223501-4223522                       LINE@L1_Mus2(-)\n",
       "39778  h-dna  chrY:4231086-4231113                     LTR@MuRRS4-int(-)\n",
       "39779  h-dna  chrY:4235026-4235042  LTR@MuRRS4-int(-), LTR@MuRRS4-int(-)\n",
       "\n",
       "[39780 rows x 3 columns]"
      ]
     },
     "execution_count": 25,
     "metadata": {},
     "output_type": "execute_result"
    }
   ],
   "source": [
    "flipon_to_repeat_df = pd.DataFrame()\n",
    "\n",
    "for flipon in flipon_data:\n",
    "    kwargs = {\n",
    "        \"Flipon\": flipon.name,\n",
    "        \"LINE/LTR (+-200bp)\": lambda df: df.groupby([3])[9].transform(\n",
    "            lambda x: \", \".join(x)\n",
    "        ),\n",
    "    }\n",
    "\n",
    "    df = (\n",
    "        pd.read_table(flipon.path_rmsk_intersection, header=None)\n",
    "        .assign(**kwargs)\n",
    "        .drop_duplicates(subset=[3])[[\"Flipon\", 3, \"LINE/LTR (+-200bp)\"]]\n",
    "        .rename(columns={3: \"Coordinates\"})\n",
    "    )\n",
    "\n",
    "    flipon_to_repeat_df = pd.concat([flipon_to_repeat_df, df], ignore_index=True)\n",
    "\n",
    "flipon_to_repeat_df.to_csv(F_FLIPON_TO_RMSK, index=False, sep=\"\\t\")\n",
    "flipon_to_repeat_df\n"
   ]
  },
  {
   "cell_type": "code",
   "execution_count": 26,
   "metadata": {},
   "outputs": [],
   "source": [
    "\"\"\"Export line/ltr-enriched flipons.\"\"\"\n",
    "\n",
    "for flipon_type, group_df in flipon_to_repeat_df.groupby(\"Flipon\"):\n",
    "    (\n",
    "        group_df.replace(\"\", None)\n",
    "        .dropna(subset=[\"LINE/LTR (+-200bp)\"])[\"Coordinates\"]\n",
    "        .str.split(r\":|-\", regex=True, expand=True)\n",
    "        .astype({1: int, 2: int})\n",
    "        .sort_values([0, 1])\n",
    "        .to_csv(\n",
    "            D_FLIPONS_BED / f\"mm10.actb_ssdna_enriched_{flipon_type}_and_line_ltr.bed\",\n",
    "            sep=\"\\t\",\n",
    "            index=False,\n",
    "            header=False,\n",
    "        )\n",
    "    )\n"
   ]
  },
  {
   "cell_type": "markdown",
   "metadata": {},
   "source": [
    "## Track names"
   ]
  },
  {
   "cell_type": "code",
   "execution_count": 27,
   "metadata": {},
   "outputs": [],
   "source": [
    "import subprocess as sp\n",
    "\n",
    "def get_color_by_name(name: str):\n",
    "    if 'G4' in name:\n",
    "        # orange\n",
    "        return \"245,139,0\"\n",
    "    if 'Z-DNA' in name:\n",
    "        # blue\n",
    "        return \"0,112,245\"\n",
    "    if 'SIDD' in name:\n",
    "        # red\n",
    "        return \"255,49,38\"\n",
    "    if 'H-DNA' in name:\n",
    "        # purple\n",
    "        return \"159,75,201\"\n",
    "\n",
    "for file in D_FLIPONS_BED.iterdir():\n",
    "    size = int(sp.run(f\"wc -l {file}\", shell=True, capture_output=True, encoding='utf-8').stdout.split(\" \")[0])\n",
    "    name = (\n",
    "        file.name.split(\"enriched_\")[1]\n",
    "        .replace(\".bed\", \"\")\n",
    "        .replace(\"_\", \" \")\n",
    "        .replace(\"and\", \"&\")\n",
    "        .replace(\".slop\", \"±\")\n",
    "        .upper()\n",
    "        .replace(\"MIRNA\", \"miRNA\")\n",
    "        .replace(\"LINE \", \"LINE/\")\n",
    "        .replace(\"CCRE\", \"cCRE\")\n",
    "    )\n",
    "    description = \"Kouzine experimental \" + name.split(\" \")[0]\n",
    "    if len(name.split(\" & \")) > 1:\n",
    "        description += \" and \" + name.split(\" & \")[1].replace(\"c.\", \"conserved\").replace(\"j.\", \"junctional\").replace(\"/LTR\", \"/LTR repeats\")\n",
    "    description += f\" ({size:,d})\"\n",
    "    color = get_color_by_name(name.split(' & ')[0])\n",
    "\n",
    "    track_info = f'track name=\"{name}\" description=\"{description}\" color={color}'\n",
    "\n",
    "    !printf '%s\\n%s\\n' '{track_info}' \"$(cat {file})\" > {file}\n"
   ]
  },
  {
   "cell_type": "code",
   "execution_count": null,
   "metadata": {},
   "outputs": [],
   "source": []
  }
 ],
 "metadata": {
  "colab": {
   "collapsed_sections": [],
   "name": "2022-05-12_01_Kouzine_data_preprocessing.ipynb",
   "provenance": [],
   "toc_visible": true
  },
  "kernelspec": {
   "display_name": "Python 3.11.0 ('mirna')",
   "language": "python",
   "name": "python3"
  },
  "language_info": {
   "codemirror_mode": {
    "name": "ipython",
    "version": 3
   },
   "file_extension": ".py",
   "mimetype": "text/x-python",
   "name": "python",
   "nbconvert_exporter": "python",
   "pygments_lexer": "ipython3",
   "version": "3.11.0 | packaged by conda-forge | (main, Oct 25 2022, 06:24:40) [GCC 10.4.0]"
  },
  "vscode": {
   "interpreter": {
    "hash": "aa4ca5e43b0b74394dc05f972f57eb4922712b4f4450a8ee4f1bf77784cf2ccc"
   }
  }
 },
 "nbformat": 4,
 "nbformat_minor": 4
}
