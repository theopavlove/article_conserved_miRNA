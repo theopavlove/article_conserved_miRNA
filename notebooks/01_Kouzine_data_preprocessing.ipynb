{
 "cells": [
  {
   "cell_type": "markdown",
   "metadata": {
    "id": "nyXy4lr7ghUz"
   },
   "source": [
    "## Misc"
   ]
  },
  {
   "cell_type": "code",
   "execution_count": 1,
   "metadata": {
    "id": "nhYM6MfBGLE7"
   },
   "outputs": [],
   "source": [
    "import os\n",
    "import pandas as pd"
   ]
  },
  {
   "cell_type": "code",
   "execution_count": 2,
   "metadata": {},
   "outputs": [],
   "source": [
    "d_root = '/home/fed/GitHub/article_conserved_miRNA/'\n",
    "d_data = f'{d_root}/data'\n",
    "d_utils = f'{d_root}/utils'\n",
    "\n",
    "!mkdir -p {d_data} {d_utils}\n",
    "\n",
    "# Input\n",
    "f_liftover = f'{d_utils}/liftOver'\n",
    "f_mm9tomm10chain = f'{d_data}/mm9ToMm10.over.chain.gz'\n",
    "f_mm10_fa = f'{d_data}/mm10.fa'\n",
    "f_mm10_chrom_sizes = f'{d_data}/mm10.chrom.sizes'\n",
    "\n",
    "\n",
    "# Output\n",
    "d_kouzine_bed = f'{d_data}/mm10_kouzine_ssDNA_bed'\n",
    "d_kouzine_fa = f'{d_data}/mm10_kouzine_ssDNA_fa'\n",
    "\n",
    "!mkdir -p {d_kouzine_bed} {d_kouzine_fa}"
   ]
  },
  {
   "cell_type": "markdown",
   "metadata": {
    "id": "ByjfR8Et84PS"
   },
   "source": [
    "## Data"
   ]
  },
  {
   "cell_type": "markdown",
   "metadata": {
    "id": "0v0B5l0yX3-3"
   },
   "source": [
    "### Utilities and genome files"
   ]
  },
  {
   "cell_type": "code",
   "execution_count": 3,
   "metadata": {
    "id": "oZQ23x3cRzcC"
   },
   "outputs": [],
   "source": [
    "\"\"\"Get mm10 genome data.\"\"\"\n",
    "\n",
    "!wget -c -q -O {f_mm10_chrom_sizes} http://hgdownload.cse.ucsc.edu/goldenpath/mm10/bigZips/mm10.chrom.sizes\n",
    "!wget -c -q -P {d_data} https://hgdownload.soe.ucsc.edu/goldenPath/mm10/bigZips/mm10.fa.gz\n",
    "!gzip -dcf {d_data}/mm10.fa.gz > {f_mm10_fa}"
   ]
  },
  {
   "cell_type": "code",
   "execution_count": 4,
   "metadata": {
    "id": "UKmXZKk5-zfg"
   },
   "outputs": [],
   "source": [
    "\"\"\"Get liftOver tool files.\"\"\"\n",
    "\n",
    "!wget -c -q -O {f_liftover} http://hgdownload.soe.ucsc.edu/admin/exe/linux.x86_64/liftOver\n",
    "!wget -c -q -O {f_mm9tomm10chain} https://hgdownload.cse.ucsc.edu/goldenpath/mm9/liftOver/mm9ToMm10.over.chain.gz\n",
    "!chmod +x {f_liftover}"
   ]
  },
  {
   "cell_type": "markdown",
   "metadata": {
    "id": "KBIz2aOlXzSj"
   },
   "source": [
    "### Kouzine peaks"
   ]
  },
  {
   "cell_type": "code",
   "execution_count": 5,
   "metadata": {
    "id": "YztwAqxG96qA"
   },
   "outputs": [
    {
     "name": "stdout",
     "output_type": "stream",
     "text": [
      "nonB_DNA_ssDNA_enriched/\n",
      "nonB_DNA_ssDNA_enriched/human_hg19/\n",
      "nonB_DNA_ssDNA_enriched/human_hg19/Raji_ssDNA_enriched_H-DNA.bed.gz\n",
      "nonB_DNA_ssDNA_enriched/human_hg19/Raji_ssDNA_enriched_Quadruplex.bed.gz\n",
      "nonB_DNA_ssDNA_enriched/human_hg19/Raji_ssDNA_enriched_SIDD.bed.gz\n",
      "nonB_DNA_ssDNA_enriched/human_hg19/Raji_ssDNA_enriched_Z-DNA.bed.gz\n",
      "nonB_DNA_ssDNA_enriched/mouse_mm9/\n",
      "nonB_DNA_ssDNA_enriched/mouse_mm9/actB_ssDNA_enriched_H-DNA.bed.gz\n",
      "nonB_DNA_ssDNA_enriched/mouse_mm9/actB_ssDNA_enriched_Quadruplex.bed.gz\n",
      "nonB_DNA_ssDNA_enriched/mouse_mm9/actB_ssDNA_enriched_SIDD.bed.gz\n",
      "nonB_DNA_ssDNA_enriched/mouse_mm9/actB_ssDNA_enriched_Z-DNA.bed.gz\n"
     ]
    }
   ],
   "source": [
    "\"\"\"Get Kouzine ssDNA data.\"\"\"\n",
    "\n",
    "!wget -c -q -P {d_data} https://www.ncbi.nlm.nih.gov/CBBresearch/Przytycka/software/nonbdna/nonB_DNA_ssDNA_enriched.tar\n",
    "\n",
    "!rm -r {d_data}/nonB_DNA_ssDNA_enriched\n",
    "!tar -xvf {d_data}/nonB_DNA_ssDNA_enriched.tar -C {d_data}\n",
    "\n",
    "with os.scandir(f'{d_data}/nonB_DNA_ssDNA_enriched/mouse_mm9') as it:\n",
    "    for entry in it:\n",
    "        !gzip -df {entry.path}"
   ]
  },
  {
   "cell_type": "markdown",
   "metadata": {
    "id": "pvhqUOYgXsQm"
   },
   "source": [
    "## Preprocessing"
   ]
  },
  {
   "cell_type": "markdown",
   "metadata": {
    "id": "MRiEpXx8a_F9"
   },
   "source": [
    "### Uplift Kouzine peaks"
   ]
  },
  {
   "cell_type": "code",
   "execution_count": 29,
   "metadata": {
    "colab": {
     "base_uri": "https://localhost:8080/"
    },
    "id": "xBrspN0PPoWA",
    "outputId": "43861da6-99a3-43b5-ceb4-6ff147d60a16"
   },
   "outputs": [
    {
     "name": "stdout",
     "output_type": "stream",
     "text": [
      "Reading liftover chains\n",
      "Mapping coordinates\n",
      "Reading liftover chains\n",
      "Mapping coordinates\n",
      "Reading liftover chains\n",
      "Mapping coordinates\n",
      "Reading liftover chains\n",
      "Mapping coordinates\n"
     ]
    }
   ],
   "source": [
    "\"\"\"Uplift from mm9 to mm10.\"\"\"\n",
    "\n",
    "!rm -r {d_kouzine_bed} ; mkdir -p {d_kouzine_bed}\n",
    "\n",
    "with os.scandir(f'{d_data}/nonB_DNA_ssDNA_enriched/mouse_mm9') as it:\n",
    "    for entry in it:\n",
    "        new_entry_path = f'{d_kouzine_bed}/mm10_kouzine_' + entry.name.lower()\n",
    "\n",
    "        !tail -n +2 {entry.path} > temp && mv temp {entry.path}\n",
    "        !{f_liftover} {entry.path} {f_mm9tomm10chain} {new_entry_path} unmapped_regions.bed\n",
    "        !rm unmapped_regions.bed"
   ]
  },
  {
   "cell_type": "markdown",
   "metadata": {
    "id": "iEm3x-FHbBPR"
   },
   "source": [
    "### Slops"
   ]
  },
  {
   "cell_type": "code",
   "execution_count": 30,
   "metadata": {},
   "outputs": [
    {
     "name": "stdout",
     "output_type": "stream",
     "text": [
      "/home/fed/GitHub/article_conserved_miRNA//data/mm10_kouzine_ssDNA_bed/mm10_kouzine_actb_ssdna_enriched_h-dna.bed\n",
      "/home/fed/GitHub/article_conserved_miRNA//data/mm10_kouzine_ssDNA_bed/mm10_kouzine_actb_ssdna_enriched_quadruplex.bed\n",
      "/home/fed/GitHub/article_conserved_miRNA//data/mm10_kouzine_ssDNA_bed/mm10_kouzine_actb_ssdna_enriched_sidd.bed\n",
      "/home/fed/GitHub/article_conserved_miRNA//data/mm10_kouzine_ssDNA_bed/mm10_kouzine_actb_ssdna_enriched_z-dna.bed\n"
     ]
    }
   ],
   "source": [
    "\"\"\"Calculate slops for each bedfile (required to find overlaps with miRNA).\"\"\"\n",
    "\n",
    "slop_values = [100, 200, 500]\n",
    "with os.scandir(d_kouzine_bed) as it:\n",
    "    for entry in it:\n",
    "        print(entry.path)\n",
    "        (\n",
    "            pd.read_table(entry.path, header=None)\n",
    "            .iloc[:,:3]\n",
    "            .assign(name=lambda x: x[0] + \":\" + x[1].astype(str) + \"-\" + x[2].astype(str))\n",
    "            .to_csv(entry.path, sep='\\t', header=False, index=False)\n",
    "        )\n",
    "        for slop_val in slop_values:\n",
    "            path_to_slop = entry.path.replace('.bed', f'.slop{slop_val}.bed')\n",
    "            !bedtools slop -i {entry.path} -g {f_mm10_chrom_sizes} -b {slop_val} > {path_to_slop}"
   ]
  },
  {
   "cell_type": "markdown",
   "metadata": {
    "id": "9LVdK7sudIC5"
   },
   "source": [
    "### Intersections"
   ]
  },
  {
   "cell_type": "code",
   "execution_count": 35,
   "metadata": {
    "colab": {
     "base_uri": "https://localhost:8080/"
    },
    "id": "Jlk2uFRHYEeS",
    "outputId": "701b830c-0b36-42ce-9292-cff6635b7225"
   },
   "outputs": [
    {
     "name": "stdout",
     "output_type": "stream",
     "text": [
      "256 /home/fed/GitHub/article_conserved_miRNA//data/mm10_kouzine_ssDNA_bed/mm10_kouzine_actb_ssdna_enriched_z-dna_and_sidd.bed\n",
      "757 /home/fed/GitHub/article_conserved_miRNA//data/mm10_kouzine_ssDNA_bed/mm10_kouzine_actb_ssdna_enriched_z-dna_and_sidd.slop100.bed\n",
      "1116 /home/fed/GitHub/article_conserved_miRNA//data/mm10_kouzine_ssDNA_bed/mm10_kouzine_actb_ssdna_enriched_z-dna_and_sidd.slop200.bed\n",
      "1801 /home/fed/GitHub/article_conserved_miRNA//data/mm10_kouzine_ssDNA_bed/mm10_kouzine_actb_ssdna_enriched_z-dna_and_sidd.slop500.bed\n",
      "1374 /home/fed/GitHub/article_conserved_miRNA//data/mm10_kouzine_ssDNA_bed/mm10_kouzine_actb_ssdna_enriched_quadruplex_and_sidd.bed\n",
      "2250 /home/fed/GitHub/article_conserved_miRNA//data/mm10_kouzine_ssDNA_bed/mm10_kouzine_actb_ssdna_enriched_quadruplex_and_sidd.slop100.bed\n",
      "2534 /home/fed/GitHub/article_conserved_miRNA//data/mm10_kouzine_ssDNA_bed/mm10_kouzine_actb_ssdna_enriched_quadruplex_and_sidd.slop200.bed\n",
      "3089 /home/fed/GitHub/article_conserved_miRNA//data/mm10_kouzine_ssDNA_bed/mm10_kouzine_actb_ssdna_enriched_quadruplex_and_sidd.slop500.bed\n",
      "1627 /home/fed/GitHub/article_conserved_miRNA//data/mm10_kouzine_ssDNA_bed/mm10_kouzine_actb_ssdna_enriched_h-dna_and_sidd.bed\n",
      "2016 /home/fed/GitHub/article_conserved_miRNA//data/mm10_kouzine_ssDNA_bed/mm10_kouzine_actb_ssdna_enriched_h-dna_and_sidd.slop100.bed\n",
      "2249 /home/fed/GitHub/article_conserved_miRNA//data/mm10_kouzine_ssDNA_bed/mm10_kouzine_actb_ssdna_enriched_h-dna_and_sidd.slop200.bed\n",
      "2560 /home/fed/GitHub/article_conserved_miRNA//data/mm10_kouzine_ssDNA_bed/mm10_kouzine_actb_ssdna_enriched_h-dna_and_sidd.slop500.bed\n"
     ]
    }
   ],
   "source": [
    "\"\"\"Intersect other flipons with SIDD.\"\"\"\n",
    "\n",
    "kouzine_data = [\n",
    "    f'{d_kouzine_bed}/mm10_kouzine_actb_ssdna_enriched_z-dna.bed',\n",
    "    f'{d_kouzine_bed}/mm10_kouzine_actb_ssdna_enriched_quadruplex.bed',\n",
    "    f'{d_kouzine_bed}/mm10_kouzine_actb_ssdna_enriched_h-dna.bed',\n",
    "]\n",
    "\n",
    "sidd_slops = [\n",
    "    f'{d_kouzine_bed}/mm10_kouzine_actb_ssdna_enriched_sidd.bed',\n",
    "    *[f'{d_kouzine_bed}/mm10_kouzine_actb_ssdna_enriched_sidd.slop{x}.bed' for x in slop_values]\n",
    "]\n",
    "\n",
    "for a in kouzine_data:\n",
    "    for b in sidd_slops:\n",
    "        intersection_path = a.replace('.bed', '_and' + b.split('enriched')[1].strip())\n",
    "        !bedtools intersect -a {a} -b {b} -u > {intersection_path}\n",
    "        !wc -l {intersection_path}"
   ]
  },
  {
   "cell_type": "markdown",
   "metadata": {},
   "source": [
    "## Fasta"
   ]
  },
  {
   "cell_type": "code",
   "execution_count": 37,
   "metadata": {},
   "outputs": [
    {
     "name": "stdout",
     "output_type": "stream",
     "text": [
      "index file /home/fed/GitHub/article_conserved_miRNA//data/mm10.fa.fai not found, generating...\n"
     ]
    }
   ],
   "source": [
    "\"\"\"Calculate fasta files.\"\"\"\n",
    "\n",
    "!rm -r {d_kouzine_fa} ; mkdir -p {d_kouzine_fa}\n",
    "with os.scandir(d_kouzine_bed) as it:\n",
    "    for entry in it:\n",
    "        path_fa = entry.path.replace('.bed', '.fa').replace('ssDNA_bed', 'ssDNA_fa')\n",
    "        print(path_fa)\n",
    "        \n",
    "        !bedtools getfasta -fi {f_mm10_fa} -bed {entry.path} > {path_fa}"
   ]
  },
  {
   "cell_type": "code",
   "execution_count": null,
   "metadata": {},
   "outputs": [],
   "source": []
  }
 ],
 "metadata": {
  "colab": {
   "collapsed_sections": [],
   "name": "2022-05-12_01_Kouzine_data_preprocessing.ipynb",
   "provenance": [],
   "toc_visible": true
  },
  "kernelspec": {
   "display_name": "Python 3 (ipykernel)",
   "language": "python",
   "name": "python3"
  },
  "language_info": {
   "codemirror_mode": {
    "name": "ipython",
    "version": 3
   },
   "file_extension": ".py",
   "mimetype": "text/x-python",
   "name": "python",
   "nbconvert_exporter": "python",
   "pygments_lexer": "ipython3",
   "version": "3.10.6"
  }
 },
 "nbformat": 4,
 "nbformat_minor": 4
}
