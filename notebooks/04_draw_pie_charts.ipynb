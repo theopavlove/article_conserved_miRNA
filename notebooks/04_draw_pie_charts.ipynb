{
  "cells": [
    {
      "cell_type": "markdown",
      "metadata": {
        "id": "WUfpekR6P2vQ"
      },
      "source": [
        "## Imports"
      ]
    },
    {
      "cell_type": "code",
      "execution_count": 88,
      "metadata": {
        "id": "M7Kdl90ZP5Fx"
      },
      "outputs": [],
      "source": [
        "import io\n",
        "import re\n",
        "import numpy as np\n",
        "import pandas as pd\n",
        "import plotly.graph_objects as go\n",
        "\n",
        "from pathlib import Path\n",
        "from plotly.subplots import make_subplots\n",
        "\n",
        "pd.set_option('display.max_rows', 4)\n",
        "\n",
        "d_root = Path(\"/home/fpavlov/projects/article_conserved_miRNA\")\n",
        "d_data = d_root / \"data\"\n",
        "d_img = d_root / \"img\"\n",
        "\n",
        "# Input\n",
        "f_flipon_to_data = d_data / \"flipon_to_data.tsv\"\n",
        "f_flipon_to_data_og = d_data / \"flipon_to_data_og.tsv\""
      ]
    },
    {
      "cell_type": "markdown",
      "metadata": {
        "id": "g4m270I1QBE_"
      },
      "source": [
        "## Data"
      ]
    },
    {
      "cell_type": "code",
      "execution_count": 2,
      "metadata": {
        "colab": {
          "base_uri": "https://localhost:8080/"
        },
        "id": "9LmLp3P7QB2s",
        "outputId": "27bade2f-066e-4dd7-d61b-e102263c6be7"
      },
      "outputs": [
        {
          "name": "stdout",
          "output_type": "stream",
          "text": [
            "['0: <b>Z-DNA</b> (25,057)', '1: <b>SIDD</b> (15,294)', '2: <b>G4</b> (20,251)', '3: <b>H-DNA</b> (17,098)', '4: <b>Z-DNA & miRNA</b> (3,391)', '5: <b>SIDD & miRNA</b> (12,143)', '6: <b>G4 & miRNA</b> (4,569)', '7: <b>H-DNA & miRNA</b> (1,474)', '8: <b>Z-DNA & SIDD(±100p)</b> (757)', '9: <b>SIDD(±100bp)</b> (15,294)', '10: <b>G4 & SIDD(±100bp)</b> (2,250)', '11: <b>H-DNA & SIDD(±100bp)</b> (2,016)', '12: <b>Z-DNA & SIDD(±200bp)</b> (1,116)', '13: <b>SIDD(±200bp)</b> (15,294)', '14: <b>G4 & SIDD(±200bp)</b> (2,534)', '15: <b>H-DNA & SIDD(±200bp)</b> (2,249)', '16: <b>Z-DNA & SIDD(±500bp)</b> (1,801)', '17: <b>SIDD(±500bp)</b> (15,294)', '18: <b>G4 & SIDD(±500bp)</b> (3,089)', '19: <b>H-DNA & SIDD(±500bp)</b> (2,560)']\n"
          ]
        },
        {
          "data": {
            "text/plain": [
              "20"
            ]
          },
          "execution_count": 2,
          "metadata": {},
          "output_type": "execute_result"
        }
      ],
      "source": [
        "\"\"\"Initialize generated data for pie charts.\"\"\"\n",
        "\n",
        "data_list = [        \n",
        "('<b>Z-DNA</b> (25,057)',\n",
        "\"\"\"\\\n",
        "9    Promoter (<=1kb) 40.95135480\n",
        "10   Promoter (1-2kb)  5.89808053\n",
        "11   Promoter (2-3kb)  3.73518496\n",
        "4              5' UTR  0.02394349\n",
        "3              3' UTR  0.81806936\n",
        "1            1st Exon  0.01596233\n",
        "7          Other Exon  3.09669181\n",
        "2          1st Intron  4.93235963\n",
        "8        Other Intron 12.46258829\n",
        "6  Downstream (<=300)  0.05586815\n",
        "5   Distal Intergenic 28.00989664\n",
        "\"\"\"),\n",
        "('<b>SIDD</b> (15,294)',\n",
        "\"\"\"\\\n",
        "9    Promoter (<=1kb)  6.74032427\n",
        "10   Promoter (1-2kb)  4.19717573\n",
        "11   Promoter (2-3kb)  3.37996862\n",
        "4              5' UTR  0.01307531\n",
        "3              3' UTR  0.92180962\n",
        "1            1st Exon  0.04576360\n",
        "7          Other Exon  0.47724895\n",
        "2          1st Intron  7.38755230\n",
        "8        Other Intron 18.59309623\n",
        "6  Downstream (<=300)  0.07191423\n",
        "5   Distal Intergenic 58.17207113\n",
        "\"\"\"),\n",
        "('<b>G4</b> (20,251)',\n",
        "\"\"\"\\\n",
        "9    Promoter (<=1kb) 36.5871723\n",
        "10   Promoter (1-2kb)  5.5448576\n",
        "11   Promoter (2-3kb)  3.4760282\n",
        "4              5' UTR  0.0493754\n",
        "3              3' UTR  1.1603219\n",
        "1            1st Exon  0.0246877\n",
        "7          Other Exon  1.5256999\n",
        "2          1st Intron  5.4510443\n",
        "8        Other Intron 13.5930479\n",
        "6  Downstream (<=300)  0.0740631\n",
        "5   Distal Intergenic 32.5137017\n",
        "\"\"\"),\n",
        "('<b>H-DNA</b> (17,098)',\n",
        "\"\"\"\\\n",
        "9    Promoter (<=1kb) 11.690058480\n",
        "10   Promoter (1-2kb)  4.520467836\n",
        "11   Promoter (2-3kb)  3.690058480\n",
        "4              5' UTR  0.005847953\n",
        "3              3' UTR  0.543859649\n",
        "1            1st Exon  0.023391813\n",
        "7          Other Exon  0.345029240\n",
        "2          1st Intron  8.000000000\n",
        "8        Other Intron 20.087719298\n",
        "6  Downstream (<=300)  0.040935673\n",
        "5   Distal Intergenic 51.052631579\n",
        "\"\"\"),\n",
        "('<b>Z-DNA & miRNA</b> (3,391)',\n",
        "\"\"\"\\\n",
        "7  Promoter (<=1kb) 26.01002654\n",
        "8  Promoter (1-2kb)  5.69153642\n",
        "9  Promoter (2-3kb)  4.30551460\n",
        "3            5' UTR  0.05897965\n",
        "2            3' UTR  0.70775582\n",
        "5        Other Exon  1.12061339\n",
        "1        1st Intron  7.01857859\n",
        "6      Other Intron 18.43114126\n",
        "4 Distal Intergenic 36.65585373\n",
        "\"\"\"),\n",
        "('<b>SIDD & miRNA</b> (12,143)',\n",
        "\"\"\"\\\n",
        "9    Promoter (<=1kb)  6.349337067\n",
        "10   Promoter (1-2kb)  4.315243350\n",
        "11   Promoter (2-3kb)  3.434077246\n",
        "4              5' UTR  0.008235197\n",
        "3              3' UTR  0.897636498\n",
        "1            1st Exon  0.041175986\n",
        "7          Other Exon  0.502347031\n",
        "2          1st Intron  7.502264679\n",
        "8        Other Intron 18.809190480\n",
        "6  Downstream (<=300)  0.074116775\n",
        "5   Distal Intergenic 58.066375690\n",
        "\"\"\"),\n",
        "('<b>G4 & miRNA</b> (4,569)',\n",
        "\"\"\"\\\n",
        "8    Promoter (<=1kb) 38.82687678\n",
        "9    Promoter (1-2kb)  5.66863646\n",
        "10   Promoter (2-3kb)  3.83015977\n",
        "3              5' UTR  0.04377325\n",
        "2              3' UTR  1.24753775\n",
        "6          Other Exon  2.01356971\n",
        "1          1st Intron  4.88071788\n",
        "7        Other Intron 12.54103743\n",
        "5  Downstream (<=300)  0.02188663\n",
        "4   Distal Intergenic 30.92580433\n",
        "\"\"\"),\n",
        "('<b>H-DNA & miRNA</b> (1,474)',\n",
        "\"\"\"\\\n",
        "7   Promoter (<=1kb) 10.71913161\n",
        "8   Promoter (1-2kb)  4.00271370\n",
        "9   Promoter (2-3kb)  3.86702849\n",
        "2             3' UTR  0.81411126\n",
        "5         Other Exon  0.13568521\n",
        "1         1st Intron  7.39484396\n",
        "6       Other Intron 21.70963365\n",
        "4 Downstream (<=300)  0.06784261\n",
        "3  Distal Intergenic 51.28900950\n",
        "\"\"\"),\n",
        "('<b>Z-DNA & SIDD(±100p)</b> (757)',\n",
        "\"\"\"\\\n",
        "8    Promoter (<=1kb) 20.0527704\n",
        "9    Promoter (1-2kb)  6.0686016\n",
        "10   Promoter (2-3kb)  4.0897098\n",
        "3              3' UTR  0.9234828\n",
        "1            1st Exon  0.1319261\n",
        "6          Other Exon  0.9234828\n",
        "2          1st Intron  6.5963061\n",
        "7        Other Intron 19.3931398\n",
        "5  Downstream (<=300)  0.1319261\n",
        "4   Distal Intergenic 41.6886544\n",
        "\"\"\"),\n",
        "('<b>SIDD(±100bp)</b> (15,294)',\n",
        "\"\"\"\\\n",
        "9    Promoter (<=1kb)  7.20449791\n",
        "10   Promoter (1-2kb)  4.11218619\n",
        "11   Promoter (2-3kb)  3.47803347\n",
        "4              5' UTR  0.02615063\n",
        "3              3' UTR  0.96103556\n",
        "1            1st Exon  0.05230126\n",
        "7          Other Exon  0.84989540\n",
        "2          1st Intron  7.29602510\n",
        "8        Other Intron 18.05700837\n",
        "6  Downstream (<=300)  0.05883891\n",
        "5   Distal Intergenic 57.90402720\n",
        "\"\"\"),\n",
        "('<b>G4 & SIDD(±100bp)</b> (2,250)',\n",
        "\"\"\"\\\n",
        "6  Promoter (<=1kb)  6.7555556\n",
        "7  Promoter (1-2kb)  4.4888889\n",
        "8  Promoter (2-3kb)  3.3333333\n",
        "2            3' UTR  0.7555556\n",
        "4        Other Exon  0.1777778\n",
        "1        1st Intron  8.4444444\n",
        "5      Other Intron 19.8222222\n",
        "3 Distal Intergenic 56.2222222\n",
        "\"\"\"),\n",
        "('<b>H-DNA & SIDD(±100bp)</b> (2,016)',\n",
        "\"\"\"\\\n",
        "7   Promoter (<=1kb) 10.16865079\n",
        "8   Promoter (1-2kb)  4.76190476\n",
        "9   Promoter (2-3kb)  2.77777778\n",
        "2             3' UTR  0.99206349\n",
        "5         Other Exon  0.24801587\n",
        "1         1st Intron  7.44047619\n",
        "6       Other Intron 20.08928571\n",
        "4 Downstream (<=300)  0.09920635\n",
        "3  Distal Intergenic 53.42261905\n",
        "\"\"\"),\n",
        "('<b>Z-DNA & SIDD(±200bp)</b> (1,116)',\n",
        "\"\"\"\\\n",
        "9    Promoter (<=1kb) 23.63473590\n",
        "10   Promoter (1-2kb)  6.26678603\n",
        "11   Promoter (2-3kb)  3.67054611\n",
        "4              5' UTR  0.08952551\n",
        "3              3' UTR  0.98478066\n",
        "1            1st Exon  0.08952551\n",
        "7          Other Exon  1.07430618\n",
        "2          1st Intron  6.17726052\n",
        "8        Other Intron 18.53178156\n",
        "6  Downstream (<=300)  0.08952551\n",
        "5   Distal Intergenic 39.39122650\n",
        "\"\"\"),\n",
        "('<b>SIDD(±200bp)</b> (15,294)',\n",
        "\"\"\"\\\n",
        "9    Promoter (<=1kb)  7.64252092\n",
        "10   Promoter (1-2kb)  3.98797071\n",
        "11   Promoter (2-3kb)  3.53687238\n",
        "4              5' UTR  0.03268828\n",
        "3              3' UTR  1.01987448\n",
        "1            1st Exon  0.05230126\n",
        "7          Other Exon  1.26830544\n",
        "2          1st Intron  7.21757322\n",
        "8        Other Intron 17.54053347\n",
        "6  Downstream (<=300)  0.06537657\n",
        "5   Distal Intergenic 57.63598326\n",
        "\"\"\"),\n",
        "('<b>G4 & SIDD(±200bp)</b> (2,534)',\n",
        "\"\"\"\\\n",
        "7   Promoter (<=1kb)  9.5106551\n",
        "8   Promoter (1-2kb)  4.8539858\n",
        "9   Promoter (2-3kb)  3.5911602\n",
        "2             3' UTR  1.0260458\n",
        "5         Other Exon  0.1973165\n",
        "1         1st Intron  7.8926598\n",
        "6       Other Intron 19.1002368\n",
        "4 Downstream (<=300)  0.0394633\n",
        "3  Distal Intergenic 53.7884767\n",
        "\"\"\"),\n",
        "('<b>H-DNA & SIDD(±200bp)</b> (2,249)',\n",
        "\"\"\"\\\n",
        "7   Promoter (<=1kb) 10.04891063\n",
        "8   Promoter (1-2kb)  4.89106269\n",
        "9   Promoter (2-3kb)  2.97910182\n",
        "2             3' UTR  0.97821254\n",
        "5         Other Exon  0.22232103\n",
        "1         1st Intron  7.87016452\n",
        "6       Other Intron 20.36460649\n",
        "4 Downstream (<=300)  0.08892841\n",
        "3  Distal Intergenic 52.55669186\n",
        "\"\"\"),\n",
        "('<b>Z-DNA & SIDD(±500bp)</b> (1,801)',\n",
        "\"\"\"\\\n",
        "9    Promoter (<=1kb) 33.0743618\n",
        "10   Promoter (1-2kb)  6.6037736\n",
        "11   Promoter (2-3kb)  3.8845727\n",
        "4              5' UTR  0.0554939\n",
        "3              3' UTR  1.4983352\n",
        "1            1st Exon  0.1109878\n",
        "7          Other Exon  1.8867925\n",
        "2          1st Intron  4.8834628\n",
        "8        Other Intron 15.5937847\n",
        "6  Downstream (<=300)  0.0554939\n",
        "5   Distal Intergenic 32.3529412\n",
        "\"\"\"),\n",
        "('<b>SIDD(±500bp)</b> (15,294)',\n",
        "\"\"\"\\\n",
        "9    Promoter (<=1kb)  8.96312762\n",
        "10   Promoter (1-2kb)  3.64147490\n",
        "11   Promoter (2-3kb)  3.56302301\n",
        "4              5' UTR  0.07845188\n",
        "3              3' UTR  1.23561715\n",
        "1            1st Exon  0.03922594\n",
        "7          Other Exon  1.96129707\n",
        "2          1st Intron  7.00183054\n",
        "8        Other Intron 16.46835774\n",
        "6  Downstream (<=300)  0.06537657\n",
        "5   Distal Intergenic 56.98221757\n",
        "\"\"\"),\n",
        "('<b>G4 & SIDD(±500bp)</b> (3,089)',\n",
        "\"\"\"\\\n",
        "7   Promoter (<=1kb) 15.31239883\n",
        "8   Promoter (1-2kb)  5.05017805\n",
        "9   Promoter (2-3kb)  3.59339592\n",
        "2             3' UTR  1.23017158\n",
        "5         Other Exon  0.48559404\n",
        "1         1st Intron  7.08967303\n",
        "6       Other Intron 18.06409841\n",
        "4 Downstream (<=300)  0.09711881\n",
        "3  Distal Intergenic 49.07737132\n",
        "\"\"\"),\n",
        "('<b>H-DNA & SIDD(±500bp)</b> (2,560)',\n",
        "\"\"\"\\\n",
        "7   Promoter (<=1kb) 11.1718750\n",
        "8   Promoter (1-2kb)  4.6875000\n",
        "9   Promoter (2-3kb)  3.0468750\n",
        "2             3' UTR  0.9765625\n",
        "5         Other Exon  0.2343750\n",
        "1         1st Intron  7.8515625\n",
        "6       Other Intron 20.1562500\n",
        "4 Downstream (<=300)  0.0781250\n",
        "3  Distal Intergenic 51.7968750\n",
        "\"\"\"),\n",
        "]\n",
        "\n",
        "data_list = np.array(data_list)\n",
        "\n",
        "print([f\"{i}: {x[0]}\" for i, x in enumerate(data_list)])\n",
        "len(data_list)"
      ]
    },
    {
      "cell_type": "code",
      "execution_count": 85,
      "metadata": {},
      "outputs": [
        {
          "data": {
            "text/html": [
              "<div>\n",
              "<style scoped>\n",
              "    .dataframe tbody tr th:only-of-type {\n",
              "        vertical-align: middle;\n",
              "    }\n",
              "\n",
              "    .dataframe tbody tr th {\n",
              "        vertical-align: top;\n",
              "    }\n",
              "\n",
              "    .dataframe thead th {\n",
              "        text-align: right;\n",
              "    }\n",
              "</style>\n",
              "<table border=\"1\" class=\"dataframe\">\n",
              "  <thead>\n",
              "    <tr style=\"text-align: right;\">\n",
              "      <th></th>\n",
              "      <th>group</th>\n",
              "      <th>flipon</th>\n",
              "      <th>annotation</th>\n",
              "      <th>percentage</th>\n",
              "    </tr>\n",
              "  </thead>\n",
              "  <tbody>\n",
              "    <tr>\n",
              "      <th>0</th>\n",
              "      <td>&lt;b&gt;Z-DNA</td>\n",
              "      <td>&lt;b&gt;Z-DNA&lt;/b&gt; (25,057)</td>\n",
              "      <td>Promoter (&lt;=1kb)</td>\n",
              "      <td>0.409514</td>\n",
              "    </tr>\n",
              "    <tr>\n",
              "      <th>1</th>\n",
              "      <td>&lt;b&gt;Z-DNA</td>\n",
              "      <td>&lt;b&gt;Z-DNA&lt;/b&gt; (25,057)</td>\n",
              "      <td>Promoter (1-2kb)</td>\n",
              "      <td>0.058981</td>\n",
              "    </tr>\n",
              "    <tr>\n",
              "      <th>2</th>\n",
              "      <td>&lt;b&gt;Z-DNA</td>\n",
              "      <td>&lt;b&gt;Z-DNA&lt;/b&gt; (25,057)</td>\n",
              "      <td>Promoter (2-3kb)</td>\n",
              "      <td>0.037352</td>\n",
              "    </tr>\n",
              "    <tr>\n",
              "      <th>3</th>\n",
              "      <td>&lt;b&gt;Z-DNA</td>\n",
              "      <td>&lt;b&gt;Z-DNA&lt;/b&gt; (25,057)</td>\n",
              "      <td>5' UTR</td>\n",
              "      <td>0.000239</td>\n",
              "    </tr>\n",
              "    <tr>\n",
              "      <th>4</th>\n",
              "      <td>&lt;b&gt;Z-DNA</td>\n",
              "      <td>&lt;b&gt;Z-DNA&lt;/b&gt; (25,057)</td>\n",
              "      <td>3' UTR</td>\n",
              "      <td>0.008181</td>\n",
              "    </tr>\n",
              "    <tr>\n",
              "      <th>...</th>\n",
              "      <td>...</td>\n",
              "      <td>...</td>\n",
              "      <td>...</td>\n",
              "      <td>...</td>\n",
              "    </tr>\n",
              "    <tr>\n",
              "      <th>196</th>\n",
              "      <td>&lt;b&gt;H-DNA</td>\n",
              "      <td>&lt;b&gt;H-DNA &amp; SIDD(±500bp)&lt;/b&gt; (2,560)</td>\n",
              "      <td>Other Exon</td>\n",
              "      <td>0.002344</td>\n",
              "    </tr>\n",
              "    <tr>\n",
              "      <th>197</th>\n",
              "      <td>&lt;b&gt;H-DNA</td>\n",
              "      <td>&lt;b&gt;H-DNA &amp; SIDD(±500bp)&lt;/b&gt; (2,560)</td>\n",
              "      <td>1st Intron</td>\n",
              "      <td>0.078516</td>\n",
              "    </tr>\n",
              "    <tr>\n",
              "      <th>198</th>\n",
              "      <td>&lt;b&gt;H-DNA</td>\n",
              "      <td>&lt;b&gt;H-DNA &amp; SIDD(±500bp)&lt;/b&gt; (2,560)</td>\n",
              "      <td>Other Intron</td>\n",
              "      <td>0.201563</td>\n",
              "    </tr>\n",
              "    <tr>\n",
              "      <th>199</th>\n",
              "      <td>&lt;b&gt;H-DNA</td>\n",
              "      <td>&lt;b&gt;H-DNA &amp; SIDD(±500bp)&lt;/b&gt; (2,560)</td>\n",
              "      <td>Downstream (&lt;=300)</td>\n",
              "      <td>0.000781</td>\n",
              "    </tr>\n",
              "    <tr>\n",
              "      <th>200</th>\n",
              "      <td>&lt;b&gt;H-DNA</td>\n",
              "      <td>&lt;b&gt;H-DNA &amp; SIDD(±500bp)&lt;/b&gt; (2,560)</td>\n",
              "      <td>Distal Intergenic</td>\n",
              "      <td>0.517969</td>\n",
              "    </tr>\n",
              "  </tbody>\n",
              "</table>\n",
              "<p>201 rows × 4 columns</p>\n",
              "</div>"
            ],
            "text/plain": [
              "        group                               flipon          annotation  \\\n",
              "0    <b>Z-DNA                <b>Z-DNA</b> (25,057)    Promoter (<=1kb)   \n",
              "1    <b>Z-DNA                <b>Z-DNA</b> (25,057)    Promoter (1-2kb)   \n",
              "2    <b>Z-DNA                <b>Z-DNA</b> (25,057)    Promoter (2-3kb)   \n",
              "3    <b>Z-DNA                <b>Z-DNA</b> (25,057)              5' UTR   \n",
              "4    <b>Z-DNA                <b>Z-DNA</b> (25,057)              3' UTR   \n",
              "..        ...                                  ...                 ...   \n",
              "196  <b>H-DNA  <b>H-DNA & SIDD(±500bp)</b> (2,560)          Other Exon   \n",
              "197  <b>H-DNA  <b>H-DNA & SIDD(±500bp)</b> (2,560)          1st Intron   \n",
              "198  <b>H-DNA  <b>H-DNA & SIDD(±500bp)</b> (2,560)        Other Intron   \n",
              "199  <b>H-DNA  <b>H-DNA & SIDD(±500bp)</b> (2,560)  Downstream (<=300)   \n",
              "200  <b>H-DNA  <b>H-DNA & SIDD(±500bp)</b> (2,560)   Distal Intergenic   \n",
              "\n",
              "     percentage  \n",
              "0      0.409514  \n",
              "1      0.058981  \n",
              "2      0.037352  \n",
              "3      0.000239  \n",
              "4      0.008181  \n",
              "..          ...  \n",
              "196    0.002344  \n",
              "197    0.078516  \n",
              "198    0.201563  \n",
              "199    0.000781  \n",
              "200    0.517969  \n",
              "\n",
              "[201 rows x 4 columns]"
            ]
          },
          "execution_count": 85,
          "metadata": {},
          "output_type": "execute_result"
        }
      ],
      "source": [
        "plotly_df = pd.DataFrame()\n",
        "\n",
        "for data_name, data_text in data_list:\n",
        "    df = pd.read_csv(\n",
        "        io.StringIO(re.sub(\" +\", \" \", data_text)),\n",
        "        sep=\" \",\n",
        "        header=None,\n",
        "        names=[\"idx\", \"anno1\", \"anno2\", \"percentage\"],\n",
        "    ).assign(\n",
        "        percentage=lambda x: x[\"percentage\"] / 100,\n",
        "        annotation=lambda x: x[\"anno1\"] + \" \" + x[\"anno2\"],\n",
        "        flipon=data_name,\n",
        "        group=lambda x: data_name.split(' ')[0].split('(')[0].replace('</b>', '')\n",
        "    )[\n",
        "        ['group', \"flipon\", \"annotation\", \"percentage\"]\n",
        "    ]\n",
        "\n",
        "    plotly_df = pd.concat([plotly_df, df], ignore_index=True)\n",
        "\n",
        "plotly_df\n"
      ]
    },
    {
      "cell_type": "code",
      "execution_count": 86,
      "metadata": {},
      "outputs": [],
      "source": [
        "flipon_order = [\n",
        "    \"<b>Z-DNA</b> (25,057)\",\n",
        "    \"<b>Z-DNA & miRNA</b> (3,391)\",\n",
        "    \"<b>Z-DNA & SIDD(±100p)</b> (757)\",\n",
        "    \"<b>Z-DNA & SIDD(±200bp)</b> (1,116)\",\n",
        "    \"<b>Z-DNA & SIDD(±500bp)</b> (1,801)\",\n",
        "    \"<b>G4</b> (20,251)\",\n",
        "    \"<b>G4 & miRNA</b> (4,569)\",\n",
        "    \"<b>G4 & SIDD(±100bp)</b> (2,250)\",\n",
        "    \"<b>G4 & SIDD(±200bp)</b> (2,534)\",\n",
        "    \"<b>G4 & SIDD(±500bp)</b> (3,089)\",\n",
        "    \"<b>H-DNA</b> (17,098)\",\n",
        "    \"<b>H-DNA & miRNA</b> (1,474)\",\n",
        "    \"<b>H-DNA & SIDD(±100bp)</b> (2,016)\",\n",
        "    \"<b>H-DNA & SIDD(±200bp)</b> (2,249)\",\n",
        "    \"<b>H-DNA & SIDD(±500bp)</b> (2,560)\",\n",
        "    \"<b>SIDD</b> (15,294)\",\n",
        "    \"<b>SIDD & miRNA</b> (12,143)\",\n",
        "    \"<b>SIDD(±100bp)</b> (15,294)\",\n",
        "    \"<b>SIDD(±200bp)</b> (15,294)\",\n",
        "    \"<b>SIDD(±500bp)</b> (15,294)\",\n",
        "]\n"
      ]
    },
    {
      "cell_type": "code",
      "execution_count": 95,
      "metadata": {},
      "outputs": [
        {
          "name": "stderr",
          "output_type": "stream",
          "text": [
            "/tmp/ipykernel_2542967/867180507.py:1: DtypeWarning:\n",
            "\n",
            "Columns (4) have mixed types. Specify dtype option on import or set low_memory=False.\n",
            "\n"
          ]
        },
        {
          "data": {
            "text/plain": [
              "0.4095462345851459"
            ]
          },
          "execution_count": 95,
          "metadata": {},
          "output_type": "execute_result"
        }
      ],
      "source": [
        "flipon_to_data = pd.read_table(f_flipon_to_data_og)\n",
        "\n",
        "temp = flipon_to_data[\n",
        "    (flipon_to_data['group'] == 'z-dna')\n",
        "    & (flipon_to_data['annotation']==\"Promoter (<=1kb)\")\n",
        "    # & (~flipon_to_data['cCRE (+-200bp slop)'].isna())\n",
        "]\n",
        "\n",
        "temp.shape[0] / flipon_to_data[flipon_to_data['group']=='z-dna'].shape[0]"
      ]
    },
    {
      "cell_type": "code",
      "execution_count": 107,
      "metadata": {},
      "outputs": [
        {
          "data": {
            "application/vnd.plotly.v1+json": {
              "config": {
                "plotlyServerURL": "https://plot.ly"
              },
              "data": [
                {
                  "alignmentgroup": "True",
                  "hovertemplate": "annotation=Promoter (<=1kb)<br>group=<b>Z-DNA<br>percentage=%{x}<br>flipon=%{y}<extra></extra>",
                  "legendgroup": "Promoter (<=1kb)",
                  "marker": {
                    "color": "#636efa",
                    "pattern": {
                      "shape": ""
                    }
                  },
                  "name": "Promoter (<=1kb)",
                  "offsetgroup": "Promoter (<=1kb)",
                  "orientation": "h",
                  "showlegend": true,
                  "textposition": "auto",
                  "texttemplate": "%{x:.1%}",
                  "type": "bar",
                  "x": [
                    0.40951354799999995,
                    0.2601002654,
                    0.200527704,
                    0.23634735899999998,
                    0.33074361799999996
                  ],
                  "xaxis": "x4",
                  "y": [
                    "<b>Z-DNA</b> (25,057)",
                    "<b>Z-DNA & miRNA</b> (3,391)",
                    "<b>Z-DNA & SIDD(±100p)</b> (757)",
                    "<b>Z-DNA & SIDD(±200bp)</b> (1,116)",
                    "<b>Z-DNA & SIDD(±500bp)</b> (1,801)"
                  ],
                  "yaxis": "y4"
                },
                {
                  "alignmentgroup": "True",
                  "hovertemplate": "annotation=Promoter (<=1kb)<br>group=<b>SIDD<br>percentage=%{x}<br>flipon=%{y}<extra></extra>",
                  "legendgroup": "Promoter (<=1kb)",
                  "marker": {
                    "color": "#636efa",
                    "pattern": {
                      "shape": ""
                    }
                  },
                  "name": "Promoter (<=1kb)",
                  "offsetgroup": "Promoter (<=1kb)",
                  "orientation": "h",
                  "showlegend": false,
                  "textposition": "auto",
                  "texttemplate": "%{x:.1%}",
                  "type": "bar",
                  "x": [
                    0.0674032427,
                    0.06349337067,
                    0.0720449791,
                    0.0764252092,
                    0.0896312762
                  ],
                  "xaxis": "x3",
                  "y": [
                    "<b>SIDD</b> (15,294)",
                    "<b>SIDD & miRNA</b> (12,143)",
                    "<b>SIDD(±100bp)</b> (15,294)",
                    "<b>SIDD(±200bp)</b> (15,294)",
                    "<b>SIDD(±500bp)</b> (15,294)"
                  ],
                  "yaxis": "y3"
                },
                {
                  "alignmentgroup": "True",
                  "hovertemplate": "annotation=Promoter (<=1kb)<br>group=<b>G4<br>percentage=%{x}<br>flipon=%{y}<extra></extra>",
                  "legendgroup": "Promoter (<=1kb)",
                  "marker": {
                    "color": "#636efa",
                    "pattern": {
                      "shape": ""
                    }
                  },
                  "name": "Promoter (<=1kb)",
                  "offsetgroup": "Promoter (<=1kb)",
                  "orientation": "h",
                  "showlegend": false,
                  "textposition": "auto",
                  "texttemplate": "%{x:.1%}",
                  "type": "bar",
                  "x": [
                    0.365871723,
                    0.38826876779999997,
                    0.067555556,
                    0.095106551,
                    0.15312398829999999
                  ],
                  "xaxis": "x2",
                  "y": [
                    "<b>G4</b> (20,251)",
                    "<b>G4 & miRNA</b> (4,569)",
                    "<b>G4 & SIDD(±100bp)</b> (2,250)",
                    "<b>G4 & SIDD(±200bp)</b> (2,534)",
                    "<b>G4 & SIDD(±500bp)</b> (3,089)"
                  ],
                  "yaxis": "y2"
                },
                {
                  "alignmentgroup": "True",
                  "hovertemplate": "annotation=Promoter (<=1kb)<br>group=<b>H-DNA<br>percentage=%{x}<br>flipon=%{y}<extra></extra>",
                  "legendgroup": "Promoter (<=1kb)",
                  "marker": {
                    "color": "#636efa",
                    "pattern": {
                      "shape": ""
                    }
                  },
                  "name": "Promoter (<=1kb)",
                  "offsetgroup": "Promoter (<=1kb)",
                  "orientation": "h",
                  "showlegend": false,
                  "textposition": "auto",
                  "texttemplate": "%{x:.1%}",
                  "type": "bar",
                  "x": [
                    0.1169005848,
                    0.1071913161,
                    0.10168650789999999,
                    0.1004891063,
                    0.11171875
                  ],
                  "xaxis": "x",
                  "y": [
                    "<b>H-DNA</b> (17,098)",
                    "<b>H-DNA & miRNA</b> (1,474)",
                    "<b>H-DNA & SIDD(±100bp)</b> (2,016)",
                    "<b>H-DNA & SIDD(±200bp)</b> (2,249)",
                    "<b>H-DNA & SIDD(±500bp)</b> (2,560)"
                  ],
                  "yaxis": "y"
                },
                {
                  "alignmentgroup": "True",
                  "hovertemplate": "annotation=Promoter (1-2kb)<br>group=<b>Z-DNA<br>percentage=%{x}<br>flipon=%{y}<extra></extra>",
                  "legendgroup": "Promoter (1-2kb)",
                  "marker": {
                    "color": "#EF553B",
                    "pattern": {
                      "shape": ""
                    }
                  },
                  "name": "Promoter (1-2kb)",
                  "offsetgroup": "Promoter (1-2kb)",
                  "orientation": "h",
                  "showlegend": true,
                  "textposition": "auto",
                  "texttemplate": "%{x:.1%}",
                  "type": "bar",
                  "x": [
                    0.058980805299999994,
                    0.056915364200000006,
                    0.060686016,
                    0.06266786029999999,
                    0.066037736
                  ],
                  "xaxis": "x4",
                  "y": [
                    "<b>Z-DNA</b> (25,057)",
                    "<b>Z-DNA & miRNA</b> (3,391)",
                    "<b>Z-DNA & SIDD(±100p)</b> (757)",
                    "<b>Z-DNA & SIDD(±200bp)</b> (1,116)",
                    "<b>Z-DNA & SIDD(±500bp)</b> (1,801)"
                  ],
                  "yaxis": "y4"
                },
                {
                  "alignmentgroup": "True",
                  "hovertemplate": "annotation=Promoter (1-2kb)<br>group=<b>SIDD<br>percentage=%{x}<br>flipon=%{y}<extra></extra>",
                  "legendgroup": "Promoter (1-2kb)",
                  "marker": {
                    "color": "#EF553B",
                    "pattern": {
                      "shape": ""
                    }
                  },
                  "name": "Promoter (1-2kb)",
                  "offsetgroup": "Promoter (1-2kb)",
                  "orientation": "h",
                  "showlegend": false,
                  "textposition": "auto",
                  "texttemplate": "%{x:.1%}",
                  "type": "bar",
                  "x": [
                    0.041971757299999995,
                    0.043152433500000004,
                    0.0411218619,
                    0.0398797071,
                    0.036414748999999996
                  ],
                  "xaxis": "x3",
                  "y": [
                    "<b>SIDD</b> (15,294)",
                    "<b>SIDD & miRNA</b> (12,143)",
                    "<b>SIDD(±100bp)</b> (15,294)",
                    "<b>SIDD(±200bp)</b> (15,294)",
                    "<b>SIDD(±500bp)</b> (15,294)"
                  ],
                  "yaxis": "y3"
                },
                {
                  "alignmentgroup": "True",
                  "hovertemplate": "annotation=Promoter (1-2kb)<br>group=<b>G4<br>percentage=%{x}<br>flipon=%{y}<extra></extra>",
                  "legendgroup": "Promoter (1-2kb)",
                  "marker": {
                    "color": "#EF553B",
                    "pattern": {
                      "shape": ""
                    }
                  },
                  "name": "Promoter (1-2kb)",
                  "offsetgroup": "Promoter (1-2kb)",
                  "orientation": "h",
                  "showlegend": false,
                  "textposition": "auto",
                  "texttemplate": "%{x:.1%}",
                  "type": "bar",
                  "x": [
                    0.055448576,
                    0.056686364600000004,
                    0.044888889,
                    0.048539858000000005,
                    0.0505017805
                  ],
                  "xaxis": "x2",
                  "y": [
                    "<b>G4</b> (20,251)",
                    "<b>G4 & miRNA</b> (4,569)",
                    "<b>G4 & SIDD(±100bp)</b> (2,250)",
                    "<b>G4 & SIDD(±200bp)</b> (2,534)",
                    "<b>G4 & SIDD(±500bp)</b> (3,089)"
                  ],
                  "yaxis": "y2"
                },
                {
                  "alignmentgroup": "True",
                  "hovertemplate": "annotation=Promoter (1-2kb)<br>group=<b>H-DNA<br>percentage=%{x}<br>flipon=%{y}<extra></extra>",
                  "legendgroup": "Promoter (1-2kb)",
                  "marker": {
                    "color": "#EF553B",
                    "pattern": {
                      "shape": ""
                    }
                  },
                  "name": "Promoter (1-2kb)",
                  "offsetgroup": "Promoter (1-2kb)",
                  "orientation": "h",
                  "showlegend": false,
                  "textposition": "auto",
                  "texttemplate": "%{x:.1%}",
                  "type": "bar",
                  "x": [
                    0.04520467836,
                    0.040027137000000004,
                    0.0476190476,
                    0.048910626900000004,
                    0.046875
                  ],
                  "xaxis": "x",
                  "y": [
                    "<b>H-DNA</b> (17,098)",
                    "<b>H-DNA & miRNA</b> (1,474)",
                    "<b>H-DNA & SIDD(±100bp)</b> (2,016)",
                    "<b>H-DNA & SIDD(±200bp)</b> (2,249)",
                    "<b>H-DNA & SIDD(±500bp)</b> (2,560)"
                  ],
                  "yaxis": "y"
                },
                {
                  "alignmentgroup": "True",
                  "hovertemplate": "annotation=Promoter (2-3kb)<br>group=<b>Z-DNA<br>percentage=%{x}<br>flipon=%{y}<extra></extra>",
                  "legendgroup": "Promoter (2-3kb)",
                  "marker": {
                    "color": "#00cc96",
                    "pattern": {
                      "shape": ""
                    }
                  },
                  "name": "Promoter (2-3kb)",
                  "offsetgroup": "Promoter (2-3kb)",
                  "orientation": "h",
                  "showlegend": true,
                  "textposition": "auto",
                  "texttemplate": "%{x:.1%}",
                  "type": "bar",
                  "x": [
                    0.0373518496,
                    0.043055146,
                    0.04089709799999999,
                    0.0367054611,
                    0.038845727000000004
                  ],
                  "xaxis": "x4",
                  "y": [
                    "<b>Z-DNA</b> (25,057)",
                    "<b>Z-DNA & miRNA</b> (3,391)",
                    "<b>Z-DNA & SIDD(±100p)</b> (757)",
                    "<b>Z-DNA & SIDD(±200bp)</b> (1,116)",
                    "<b>Z-DNA & SIDD(±500bp)</b> (1,801)"
                  ],
                  "yaxis": "y4"
                },
                {
                  "alignmentgroup": "True",
                  "hovertemplate": "annotation=Promoter (2-3kb)<br>group=<b>SIDD<br>percentage=%{x}<br>flipon=%{y}<extra></extra>",
                  "legendgroup": "Promoter (2-3kb)",
                  "marker": {
                    "color": "#00cc96",
                    "pattern": {
                      "shape": ""
                    }
                  },
                  "name": "Promoter (2-3kb)",
                  "offsetgroup": "Promoter (2-3kb)",
                  "orientation": "h",
                  "showlegend": false,
                  "textposition": "auto",
                  "texttemplate": "%{x:.1%}",
                  "type": "bar",
                  "x": [
                    0.0337996862,
                    0.03434077246,
                    0.0347803347,
                    0.0353687238,
                    0.0356302301
                  ],
                  "xaxis": "x3",
                  "y": [
                    "<b>SIDD</b> (15,294)",
                    "<b>SIDD & miRNA</b> (12,143)",
                    "<b>SIDD(±100bp)</b> (15,294)",
                    "<b>SIDD(±200bp)</b> (15,294)",
                    "<b>SIDD(±500bp)</b> (15,294)"
                  ],
                  "yaxis": "y3"
                },
                {
                  "alignmentgroup": "True",
                  "hovertemplate": "annotation=Promoter (2-3kb)<br>group=<b>G4<br>percentage=%{x}<br>flipon=%{y}<extra></extra>",
                  "legendgroup": "Promoter (2-3kb)",
                  "marker": {
                    "color": "#00cc96",
                    "pattern": {
                      "shape": ""
                    }
                  },
                  "name": "Promoter (2-3kb)",
                  "offsetgroup": "Promoter (2-3kb)",
                  "orientation": "h",
                  "showlegend": false,
                  "textposition": "auto",
                  "texttemplate": "%{x:.1%}",
                  "type": "bar",
                  "x": [
                    0.034760282,
                    0.038301597699999995,
                    0.033333333,
                    0.035911602,
                    0.0359339592
                  ],
                  "xaxis": "x2",
                  "y": [
                    "<b>G4</b> (20,251)",
                    "<b>G4 & miRNA</b> (4,569)",
                    "<b>G4 & SIDD(±100bp)</b> (2,250)",
                    "<b>G4 & SIDD(±200bp)</b> (2,534)",
                    "<b>G4 & SIDD(±500bp)</b> (3,089)"
                  ],
                  "yaxis": "y2"
                },
                {
                  "alignmentgroup": "True",
                  "hovertemplate": "annotation=Promoter (2-3kb)<br>group=<b>H-DNA<br>percentage=%{x}<br>flipon=%{y}<extra></extra>",
                  "legendgroup": "Promoter (2-3kb)",
                  "marker": {
                    "color": "#00cc96",
                    "pattern": {
                      "shape": ""
                    }
                  },
                  "name": "Promoter (2-3kb)",
                  "offsetgroup": "Promoter (2-3kb)",
                  "orientation": "h",
                  "showlegend": false,
                  "textposition": "auto",
                  "texttemplate": "%{x:.1%}",
                  "type": "bar",
                  "x": [
                    0.0369005848,
                    0.0386702849,
                    0.0277777778,
                    0.029791018199999998,
                    0.03046875
                  ],
                  "xaxis": "x",
                  "y": [
                    "<b>H-DNA</b> (17,098)",
                    "<b>H-DNA & miRNA</b> (1,474)",
                    "<b>H-DNA & SIDD(±100bp)</b> (2,016)",
                    "<b>H-DNA & SIDD(±200bp)</b> (2,249)",
                    "<b>H-DNA & SIDD(±500bp)</b> (2,560)"
                  ],
                  "yaxis": "y"
                },
                {
                  "alignmentgroup": "True",
                  "hovertemplate": "annotation=5' UTR<br>group=<b>Z-DNA<br>percentage=%{x}<br>flipon=%{y}<extra></extra>",
                  "legendgroup": "5' UTR",
                  "marker": {
                    "color": "#ab63fa",
                    "pattern": {
                      "shape": ""
                    }
                  },
                  "name": "5' UTR",
                  "offsetgroup": "5' UTR",
                  "orientation": "h",
                  "showlegend": true,
                  "textposition": "auto",
                  "texttemplate": "%{x:.1%}",
                  "type": "bar",
                  "x": [
                    0.00023943490000000002,
                    0.0005897965,
                    0.0008952551,
                    0.000554939
                  ],
                  "xaxis": "x4",
                  "y": [
                    "<b>Z-DNA</b> (25,057)",
                    "<b>Z-DNA & miRNA</b> (3,391)",
                    "<b>Z-DNA & SIDD(±200bp)</b> (1,116)",
                    "<b>Z-DNA & SIDD(±500bp)</b> (1,801)"
                  ],
                  "yaxis": "y4"
                },
                {
                  "alignmentgroup": "True",
                  "hovertemplate": "annotation=5' UTR<br>group=<b>SIDD<br>percentage=%{x}<br>flipon=%{y}<extra></extra>",
                  "legendgroup": "5' UTR",
                  "marker": {
                    "color": "#ab63fa",
                    "pattern": {
                      "shape": ""
                    }
                  },
                  "name": "5' UTR",
                  "offsetgroup": "5' UTR",
                  "orientation": "h",
                  "showlegend": false,
                  "textposition": "auto",
                  "texttemplate": "%{x:.1%}",
                  "type": "bar",
                  "x": [
                    0.0001307531,
                    0.00008235197,
                    0.0002615063,
                    0.0003268828,
                    0.0007845188000000001
                  ],
                  "xaxis": "x3",
                  "y": [
                    "<b>SIDD</b> (15,294)",
                    "<b>SIDD & miRNA</b> (12,143)",
                    "<b>SIDD(±100bp)</b> (15,294)",
                    "<b>SIDD(±200bp)</b> (15,294)",
                    "<b>SIDD(±500bp)</b> (15,294)"
                  ],
                  "yaxis": "y3"
                },
                {
                  "alignmentgroup": "True",
                  "hovertemplate": "annotation=5' UTR<br>group=<b>G4<br>percentage=%{x}<br>flipon=%{y}<extra></extra>",
                  "legendgroup": "5' UTR",
                  "marker": {
                    "color": "#ab63fa",
                    "pattern": {
                      "shape": ""
                    }
                  },
                  "name": "5' UTR",
                  "offsetgroup": "5' UTR",
                  "orientation": "h",
                  "showlegend": false,
                  "textposition": "auto",
                  "texttemplate": "%{x:.1%}",
                  "type": "bar",
                  "x": [
                    0.000493754,
                    0.0004377325
                  ],
                  "xaxis": "x2",
                  "y": [
                    "<b>G4</b> (20,251)",
                    "<b>G4 & miRNA</b> (4,569)"
                  ],
                  "yaxis": "y2"
                },
                {
                  "alignmentgroup": "True",
                  "hovertemplate": "annotation=5' UTR<br>group=<b>H-DNA<br>percentage=%{x}<br>flipon=%{y}<extra></extra>",
                  "legendgroup": "5' UTR",
                  "marker": {
                    "color": "#ab63fa",
                    "pattern": {
                      "shape": ""
                    }
                  },
                  "name": "5' UTR",
                  "offsetgroup": "5' UTR",
                  "orientation": "h",
                  "showlegend": false,
                  "textposition": "auto",
                  "texttemplate": "%{x:.1%}",
                  "type": "bar",
                  "x": [
                    0.000058479530000000004
                  ],
                  "xaxis": "x",
                  "y": [
                    "<b>H-DNA</b> (17,098)"
                  ],
                  "yaxis": "y"
                },
                {
                  "alignmentgroup": "True",
                  "hovertemplate": "annotation=3' UTR<br>group=<b>Z-DNA<br>percentage=%{x}<br>flipon=%{y}<extra></extra>",
                  "legendgroup": "3' UTR",
                  "marker": {
                    "color": "#FFA15A",
                    "pattern": {
                      "shape": ""
                    }
                  },
                  "name": "3' UTR",
                  "offsetgroup": "3' UTR",
                  "orientation": "h",
                  "showlegend": true,
                  "textposition": "auto",
                  "texttemplate": "%{x:.1%}",
                  "type": "bar",
                  "x": [
                    0.0081806936,
                    0.0070775582,
                    0.009234828,
                    0.0098478066,
                    0.014983352
                  ],
                  "xaxis": "x4",
                  "y": [
                    "<b>Z-DNA</b> (25,057)",
                    "<b>Z-DNA & miRNA</b> (3,391)",
                    "<b>Z-DNA & SIDD(±100p)</b> (757)",
                    "<b>Z-DNA & SIDD(±200bp)</b> (1,116)",
                    "<b>Z-DNA & SIDD(±500bp)</b> (1,801)"
                  ],
                  "yaxis": "y4"
                },
                {
                  "alignmentgroup": "True",
                  "hovertemplate": "annotation=3' UTR<br>group=<b>SIDD<br>percentage=%{x}<br>flipon=%{y}<extra></extra>",
                  "legendgroup": "3' UTR",
                  "marker": {
                    "color": "#FFA15A",
                    "pattern": {
                      "shape": ""
                    }
                  },
                  "name": "3' UTR",
                  "offsetgroup": "3' UTR",
                  "orientation": "h",
                  "showlegend": false,
                  "textposition": "auto",
                  "texttemplate": "%{x:.1%}",
                  "type": "bar",
                  "x": [
                    0.0092180962,
                    0.00897636498,
                    0.0096103556,
                    0.0101987448,
                    0.012356171499999999
                  ],
                  "xaxis": "x3",
                  "y": [
                    "<b>SIDD</b> (15,294)",
                    "<b>SIDD & miRNA</b> (12,143)",
                    "<b>SIDD(±100bp)</b> (15,294)",
                    "<b>SIDD(±200bp)</b> (15,294)",
                    "<b>SIDD(±500bp)</b> (15,294)"
                  ],
                  "yaxis": "y3"
                },
                {
                  "alignmentgroup": "True",
                  "hovertemplate": "annotation=3' UTR<br>group=<b>G4<br>percentage=%{x}<br>flipon=%{y}<extra></extra>",
                  "legendgroup": "3' UTR",
                  "marker": {
                    "color": "#FFA15A",
                    "pattern": {
                      "shape": ""
                    }
                  },
                  "name": "3' UTR",
                  "offsetgroup": "3' UTR",
                  "orientation": "h",
                  "showlegend": false,
                  "textposition": "auto",
                  "texttemplate": "%{x:.1%}",
                  "type": "bar",
                  "x": [
                    0.011603219,
                    0.0124753775,
                    0.007555556,
                    0.010260457999999998,
                    0.0123017158
                  ],
                  "xaxis": "x2",
                  "y": [
                    "<b>G4</b> (20,251)",
                    "<b>G4 & miRNA</b> (4,569)",
                    "<b>G4 & SIDD(±100bp)</b> (2,250)",
                    "<b>G4 & SIDD(±200bp)</b> (2,534)",
                    "<b>G4 & SIDD(±500bp)</b> (3,089)"
                  ],
                  "yaxis": "y2"
                },
                {
                  "alignmentgroup": "True",
                  "hovertemplate": "annotation=3' UTR<br>group=<b>H-DNA<br>percentage=%{x}<br>flipon=%{y}<extra></extra>",
                  "legendgroup": "3' UTR",
                  "marker": {
                    "color": "#FFA15A",
                    "pattern": {
                      "shape": ""
                    }
                  },
                  "name": "3' UTR",
                  "offsetgroup": "3' UTR",
                  "orientation": "h",
                  "showlegend": false,
                  "textposition": "auto",
                  "texttemplate": "%{x:.1%}",
                  "type": "bar",
                  "x": [
                    0.005438596489999999,
                    0.0081411126,
                    0.009920634900000001,
                    0.009782125400000001,
                    0.009765625
                  ],
                  "xaxis": "x",
                  "y": [
                    "<b>H-DNA</b> (17,098)",
                    "<b>H-DNA & miRNA</b> (1,474)",
                    "<b>H-DNA & SIDD(±100bp)</b> (2,016)",
                    "<b>H-DNA & SIDD(±200bp)</b> (2,249)",
                    "<b>H-DNA & SIDD(±500bp)</b> (2,560)"
                  ],
                  "yaxis": "y"
                },
                {
                  "alignmentgroup": "True",
                  "hovertemplate": "annotation=1st Exon<br>group=<b>Z-DNA<br>percentage=%{x}<br>flipon=%{y}<extra></extra>",
                  "legendgroup": "1st Exon",
                  "marker": {
                    "color": "#19d3f3",
                    "pattern": {
                      "shape": ""
                    }
                  },
                  "name": "1st Exon",
                  "offsetgroup": "1st Exon",
                  "orientation": "h",
                  "showlegend": true,
                  "textposition": "auto",
                  "texttemplate": "%{x:.1%}",
                  "type": "bar",
                  "x": [
                    0.0001596233,
                    0.001319261,
                    0.0008952551,
                    0.001109878
                  ],
                  "xaxis": "x4",
                  "y": [
                    "<b>Z-DNA</b> (25,057)",
                    "<b>Z-DNA & SIDD(±100p)</b> (757)",
                    "<b>Z-DNA & SIDD(±200bp)</b> (1,116)",
                    "<b>Z-DNA & SIDD(±500bp)</b> (1,801)"
                  ],
                  "yaxis": "y4"
                },
                {
                  "alignmentgroup": "True",
                  "hovertemplate": "annotation=1st Exon<br>group=<b>SIDD<br>percentage=%{x}<br>flipon=%{y}<extra></extra>",
                  "legendgroup": "1st Exon",
                  "marker": {
                    "color": "#19d3f3",
                    "pattern": {
                      "shape": ""
                    }
                  },
                  "name": "1st Exon",
                  "offsetgroup": "1st Exon",
                  "orientation": "h",
                  "showlegend": false,
                  "textposition": "auto",
                  "texttemplate": "%{x:.1%}",
                  "type": "bar",
                  "x": [
                    0.00045763600000000003,
                    0.00041175985999999996,
                    0.0005230126,
                    0.0005230126,
                    0.00039225940000000003
                  ],
                  "xaxis": "x3",
                  "y": [
                    "<b>SIDD</b> (15,294)",
                    "<b>SIDD & miRNA</b> (12,143)",
                    "<b>SIDD(±100bp)</b> (15,294)",
                    "<b>SIDD(±200bp)</b> (15,294)",
                    "<b>SIDD(±500bp)</b> (15,294)"
                  ],
                  "yaxis": "y3"
                },
                {
                  "alignmentgroup": "True",
                  "hovertemplate": "annotation=1st Exon<br>group=<b>G4<br>percentage=%{x}<br>flipon=%{y}<extra></extra>",
                  "legendgroup": "1st Exon",
                  "marker": {
                    "color": "#19d3f3",
                    "pattern": {
                      "shape": ""
                    }
                  },
                  "name": "1st Exon",
                  "offsetgroup": "1st Exon",
                  "orientation": "h",
                  "showlegend": false,
                  "textposition": "auto",
                  "texttemplate": "%{x:.1%}",
                  "type": "bar",
                  "x": [
                    0.000246877
                  ],
                  "xaxis": "x2",
                  "y": [
                    "<b>G4</b> (20,251)"
                  ],
                  "yaxis": "y2"
                },
                {
                  "alignmentgroup": "True",
                  "hovertemplate": "annotation=1st Exon<br>group=<b>H-DNA<br>percentage=%{x}<br>flipon=%{y}<extra></extra>",
                  "legendgroup": "1st Exon",
                  "marker": {
                    "color": "#19d3f3",
                    "pattern": {
                      "shape": ""
                    }
                  },
                  "name": "1st Exon",
                  "offsetgroup": "1st Exon",
                  "orientation": "h",
                  "showlegend": false,
                  "textposition": "auto",
                  "texttemplate": "%{x:.1%}",
                  "type": "bar",
                  "x": [
                    0.00023391813
                  ],
                  "xaxis": "x",
                  "y": [
                    "<b>H-DNA</b> (17,098)"
                  ],
                  "yaxis": "y"
                },
                {
                  "alignmentgroup": "True",
                  "hovertemplate": "annotation=Other Exon<br>group=<b>Z-DNA<br>percentage=%{x}<br>flipon=%{y}<extra></extra>",
                  "legendgroup": "Other Exon",
                  "marker": {
                    "color": "#FF6692",
                    "pattern": {
                      "shape": ""
                    }
                  },
                  "name": "Other Exon",
                  "offsetgroup": "Other Exon",
                  "orientation": "h",
                  "showlegend": true,
                  "textposition": "auto",
                  "texttemplate": "%{x:.1%}",
                  "type": "bar",
                  "x": [
                    0.030966918099999997,
                    0.0112061339,
                    0.009234828,
                    0.0107430618,
                    0.018867925
                  ],
                  "xaxis": "x4",
                  "y": [
                    "<b>Z-DNA</b> (25,057)",
                    "<b>Z-DNA & miRNA</b> (3,391)",
                    "<b>Z-DNA & SIDD(±100p)</b> (757)",
                    "<b>Z-DNA & SIDD(±200bp)</b> (1,116)",
                    "<b>Z-DNA & SIDD(±500bp)</b> (1,801)"
                  ],
                  "yaxis": "y4"
                },
                {
                  "alignmentgroup": "True",
                  "hovertemplate": "annotation=Other Exon<br>group=<b>SIDD<br>percentage=%{x}<br>flipon=%{y}<extra></extra>",
                  "legendgroup": "Other Exon",
                  "marker": {
                    "color": "#FF6692",
                    "pattern": {
                      "shape": ""
                    }
                  },
                  "name": "Other Exon",
                  "offsetgroup": "Other Exon",
                  "orientation": "h",
                  "showlegend": false,
                  "textposition": "auto",
                  "texttemplate": "%{x:.1%}",
                  "type": "bar",
                  "x": [
                    0.0047724895,
                    0.00502347031,
                    0.008498954,
                    0.0126830544,
                    0.0196129707
                  ],
                  "xaxis": "x3",
                  "y": [
                    "<b>SIDD</b> (15,294)",
                    "<b>SIDD & miRNA</b> (12,143)",
                    "<b>SIDD(±100bp)</b> (15,294)",
                    "<b>SIDD(±200bp)</b> (15,294)",
                    "<b>SIDD(±500bp)</b> (15,294)"
                  ],
                  "yaxis": "y3"
                },
                {
                  "alignmentgroup": "True",
                  "hovertemplate": "annotation=Other Exon<br>group=<b>G4<br>percentage=%{x}<br>flipon=%{y}<extra></extra>",
                  "legendgroup": "Other Exon",
                  "marker": {
                    "color": "#FF6692",
                    "pattern": {
                      "shape": ""
                    }
                  },
                  "name": "Other Exon",
                  "offsetgroup": "Other Exon",
                  "orientation": "h",
                  "showlegend": false,
                  "textposition": "auto",
                  "texttemplate": "%{x:.1%}",
                  "type": "bar",
                  "x": [
                    0.015256999,
                    0.020135697100000002,
                    0.001777778,
                    0.0019731650000000002,
                    0.0048559404
                  ],
                  "xaxis": "x2",
                  "y": [
                    "<b>G4</b> (20,251)",
                    "<b>G4 & miRNA</b> (4,569)",
                    "<b>G4 & SIDD(±100bp)</b> (2,250)",
                    "<b>G4 & SIDD(±200bp)</b> (2,534)",
                    "<b>G4 & SIDD(±500bp)</b> (3,089)"
                  ],
                  "yaxis": "y2"
                },
                {
                  "alignmentgroup": "True",
                  "hovertemplate": "annotation=Other Exon<br>group=<b>H-DNA<br>percentage=%{x}<br>flipon=%{y}<extra></extra>",
                  "legendgroup": "Other Exon",
                  "marker": {
                    "color": "#FF6692",
                    "pattern": {
                      "shape": ""
                    }
                  },
                  "name": "Other Exon",
                  "offsetgroup": "Other Exon",
                  "orientation": "h",
                  "showlegend": false,
                  "textposition": "auto",
                  "texttemplate": "%{x:.1%}",
                  "type": "bar",
                  "x": [
                    0.0034502924000000003,
                    0.0013568521,
                    0.0024801587,
                    0.0022232103,
                    0.00234375
                  ],
                  "xaxis": "x",
                  "y": [
                    "<b>H-DNA</b> (17,098)",
                    "<b>H-DNA & miRNA</b> (1,474)",
                    "<b>H-DNA & SIDD(±100bp)</b> (2,016)",
                    "<b>H-DNA & SIDD(±200bp)</b> (2,249)",
                    "<b>H-DNA & SIDD(±500bp)</b> (2,560)"
                  ],
                  "yaxis": "y"
                },
                {
                  "alignmentgroup": "True",
                  "hovertemplate": "annotation=1st Intron<br>group=<b>Z-DNA<br>percentage=%{x}<br>flipon=%{y}<extra></extra>",
                  "legendgroup": "1st Intron",
                  "marker": {
                    "color": "#B6E880",
                    "pattern": {
                      "shape": ""
                    }
                  },
                  "name": "1st Intron",
                  "offsetgroup": "1st Intron",
                  "orientation": "h",
                  "showlegend": true,
                  "textposition": "auto",
                  "texttemplate": "%{x:.1%}",
                  "type": "bar",
                  "x": [
                    0.049323596299999994,
                    0.07018578589999999,
                    0.06596306099999999,
                    0.0617726052,
                    0.048834628000000005
                  ],
                  "xaxis": "x4",
                  "y": [
                    "<b>Z-DNA</b> (25,057)",
                    "<b>Z-DNA & miRNA</b> (3,391)",
                    "<b>Z-DNA & SIDD(±100p)</b> (757)",
                    "<b>Z-DNA & SIDD(±200bp)</b> (1,116)",
                    "<b>Z-DNA & SIDD(±500bp)</b> (1,801)"
                  ],
                  "yaxis": "y4"
                },
                {
                  "alignmentgroup": "True",
                  "hovertemplate": "annotation=1st Intron<br>group=<b>SIDD<br>percentage=%{x}<br>flipon=%{y}<extra></extra>",
                  "legendgroup": "1st Intron",
                  "marker": {
                    "color": "#B6E880",
                    "pattern": {
                      "shape": ""
                    }
                  },
                  "name": "1st Intron",
                  "offsetgroup": "1st Intron",
                  "orientation": "h",
                  "showlegend": false,
                  "textposition": "auto",
                  "texttemplate": "%{x:.1%}",
                  "type": "bar",
                  "x": [
                    0.073875523,
                    0.07502264679,
                    0.07296025099999999,
                    0.07217573220000001,
                    0.07001830540000001
                  ],
                  "xaxis": "x3",
                  "y": [
                    "<b>SIDD</b> (15,294)",
                    "<b>SIDD & miRNA</b> (12,143)",
                    "<b>SIDD(±100bp)</b> (15,294)",
                    "<b>SIDD(±200bp)</b> (15,294)",
                    "<b>SIDD(±500bp)</b> (15,294)"
                  ],
                  "yaxis": "y3"
                },
                {
                  "alignmentgroup": "True",
                  "hovertemplate": "annotation=1st Intron<br>group=<b>G4<br>percentage=%{x}<br>flipon=%{y}<extra></extra>",
                  "legendgroup": "1st Intron",
                  "marker": {
                    "color": "#B6E880",
                    "pattern": {
                      "shape": ""
                    }
                  },
                  "name": "1st Intron",
                  "offsetgroup": "1st Intron",
                  "orientation": "h",
                  "showlegend": false,
                  "textposition": "auto",
                  "texttemplate": "%{x:.1%}",
                  "type": "bar",
                  "x": [
                    0.054510443000000006,
                    0.048807178799999996,
                    0.08444444400000001,
                    0.078926598,
                    0.0708967303
                  ],
                  "xaxis": "x2",
                  "y": [
                    "<b>G4</b> (20,251)",
                    "<b>G4 & miRNA</b> (4,569)",
                    "<b>G4 & SIDD(±100bp)</b> (2,250)",
                    "<b>G4 & SIDD(±200bp)</b> (2,534)",
                    "<b>G4 & SIDD(±500bp)</b> (3,089)"
                  ],
                  "yaxis": "y2"
                },
                {
                  "alignmentgroup": "True",
                  "hovertemplate": "annotation=1st Intron<br>group=<b>H-DNA<br>percentage=%{x}<br>flipon=%{y}<extra></extra>",
                  "legendgroup": "1st Intron",
                  "marker": {
                    "color": "#B6E880",
                    "pattern": {
                      "shape": ""
                    }
                  },
                  "name": "1st Intron",
                  "offsetgroup": "1st Intron",
                  "orientation": "h",
                  "showlegend": false,
                  "textposition": "auto",
                  "texttemplate": "%{x:.1%}",
                  "type": "bar",
                  "x": [
                    0.08,
                    0.0739484396,
                    0.0744047619,
                    0.0787016452,
                    0.078515625
                  ],
                  "xaxis": "x",
                  "y": [
                    "<b>H-DNA</b> (17,098)",
                    "<b>H-DNA & miRNA</b> (1,474)",
                    "<b>H-DNA & SIDD(±100bp)</b> (2,016)",
                    "<b>H-DNA & SIDD(±200bp)</b> (2,249)",
                    "<b>H-DNA & SIDD(±500bp)</b> (2,560)"
                  ],
                  "yaxis": "y"
                },
                {
                  "alignmentgroup": "True",
                  "hovertemplate": "annotation=Other Intron<br>group=<b>Z-DNA<br>percentage=%{x}<br>flipon=%{y}<extra></extra>",
                  "legendgroup": "Other Intron",
                  "marker": {
                    "color": "#FF97FF",
                    "pattern": {
                      "shape": ""
                    }
                  },
                  "name": "Other Intron",
                  "offsetgroup": "Other Intron",
                  "orientation": "h",
                  "showlegend": true,
                  "textposition": "auto",
                  "texttemplate": "%{x:.1%}",
                  "type": "bar",
                  "x": [
                    0.1246258829,
                    0.1843114126,
                    0.193931398,
                    0.1853178156,
                    0.15593784700000002
                  ],
                  "xaxis": "x4",
                  "y": [
                    "<b>Z-DNA</b> (25,057)",
                    "<b>Z-DNA & miRNA</b> (3,391)",
                    "<b>Z-DNA & SIDD(±100p)</b> (757)",
                    "<b>Z-DNA & SIDD(±200bp)</b> (1,116)",
                    "<b>Z-DNA & SIDD(±500bp)</b> (1,801)"
                  ],
                  "yaxis": "y4"
                },
                {
                  "alignmentgroup": "True",
                  "hovertemplate": "annotation=Other Intron<br>group=<b>SIDD<br>percentage=%{x}<br>flipon=%{y}<extra></extra>",
                  "legendgroup": "Other Intron",
                  "marker": {
                    "color": "#FF97FF",
                    "pattern": {
                      "shape": ""
                    }
                  },
                  "name": "Other Intron",
                  "offsetgroup": "Other Intron",
                  "orientation": "h",
                  "showlegend": false,
                  "textposition": "auto",
                  "texttemplate": "%{x:.1%}",
                  "type": "bar",
                  "x": [
                    0.1859309623,
                    0.18809190480000001,
                    0.1805700837,
                    0.1754053347,
                    0.16468357739999998
                  ],
                  "xaxis": "x3",
                  "y": [
                    "<b>SIDD</b> (15,294)",
                    "<b>SIDD & miRNA</b> (12,143)",
                    "<b>SIDD(±100bp)</b> (15,294)",
                    "<b>SIDD(±200bp)</b> (15,294)",
                    "<b>SIDD(±500bp)</b> (15,294)"
                  ],
                  "yaxis": "y3"
                },
                {
                  "alignmentgroup": "True",
                  "hovertemplate": "annotation=Other Intron<br>group=<b>G4<br>percentage=%{x}<br>flipon=%{y}<extra></extra>",
                  "legendgroup": "Other Intron",
                  "marker": {
                    "color": "#FF97FF",
                    "pattern": {
                      "shape": ""
                    }
                  },
                  "name": "Other Intron",
                  "offsetgroup": "Other Intron",
                  "orientation": "h",
                  "showlegend": false,
                  "textposition": "auto",
                  "texttemplate": "%{x:.1%}",
                  "type": "bar",
                  "x": [
                    0.135930479,
                    0.1254103743,
                    0.19822222199999998,
                    0.191002368,
                    0.18064098409999998
                  ],
                  "xaxis": "x2",
                  "y": [
                    "<b>G4</b> (20,251)",
                    "<b>G4 & miRNA</b> (4,569)",
                    "<b>G4 & SIDD(±100bp)</b> (2,250)",
                    "<b>G4 & SIDD(±200bp)</b> (2,534)",
                    "<b>G4 & SIDD(±500bp)</b> (3,089)"
                  ],
                  "yaxis": "y2"
                },
                {
                  "alignmentgroup": "True",
                  "hovertemplate": "annotation=Other Intron<br>group=<b>H-DNA<br>percentage=%{x}<br>flipon=%{y}<extra></extra>",
                  "legendgroup": "Other Intron",
                  "marker": {
                    "color": "#FF97FF",
                    "pattern": {
                      "shape": ""
                    }
                  },
                  "name": "Other Intron",
                  "offsetgroup": "Other Intron",
                  "orientation": "h",
                  "showlegend": false,
                  "textposition": "auto",
                  "texttemplate": "%{x:.1%}",
                  "type": "bar",
                  "x": [
                    0.20087719298,
                    0.21709633650000001,
                    0.2008928571,
                    0.2036460649,
                    0.2015625
                  ],
                  "xaxis": "x",
                  "y": [
                    "<b>H-DNA</b> (17,098)",
                    "<b>H-DNA & miRNA</b> (1,474)",
                    "<b>H-DNA & SIDD(±100bp)</b> (2,016)",
                    "<b>H-DNA & SIDD(±200bp)</b> (2,249)",
                    "<b>H-DNA & SIDD(±500bp)</b> (2,560)"
                  ],
                  "yaxis": "y"
                },
                {
                  "alignmentgroup": "True",
                  "hovertemplate": "annotation=Downstream (<=300)<br>group=<b>Z-DNA<br>percentage=%{x}<br>flipon=%{y}<extra></extra>",
                  "legendgroup": "Downstream (<=300)",
                  "marker": {
                    "color": "#FECB52",
                    "pattern": {
                      "shape": ""
                    }
                  },
                  "name": "Downstream (<=300)",
                  "offsetgroup": "Downstream (<=300)",
                  "orientation": "h",
                  "showlegend": true,
                  "textposition": "auto",
                  "texttemplate": "%{x:.1%}",
                  "type": "bar",
                  "x": [
                    0.0005586815,
                    0.001319261,
                    0.0008952551,
                    0.000554939
                  ],
                  "xaxis": "x4",
                  "y": [
                    "<b>Z-DNA</b> (25,057)",
                    "<b>Z-DNA & SIDD(±100p)</b> (757)",
                    "<b>Z-DNA & SIDD(±200bp)</b> (1,116)",
                    "<b>Z-DNA & SIDD(±500bp)</b> (1,801)"
                  ],
                  "yaxis": "y4"
                },
                {
                  "alignmentgroup": "True",
                  "hovertemplate": "annotation=Downstream (<=300)<br>group=<b>SIDD<br>percentage=%{x}<br>flipon=%{y}<extra></extra>",
                  "legendgroup": "Downstream (<=300)",
                  "marker": {
                    "color": "#FECB52",
                    "pattern": {
                      "shape": ""
                    }
                  },
                  "name": "Downstream (<=300)",
                  "offsetgroup": "Downstream (<=300)",
                  "orientation": "h",
                  "showlegend": false,
                  "textposition": "auto",
                  "texttemplate": "%{x:.1%}",
                  "type": "bar",
                  "x": [
                    0.0007191423,
                    0.00074116775,
                    0.0005883891,
                    0.0006537657,
                    0.0006537657
                  ],
                  "xaxis": "x3",
                  "y": [
                    "<b>SIDD</b> (15,294)",
                    "<b>SIDD & miRNA</b> (12,143)",
                    "<b>SIDD(±100bp)</b> (15,294)",
                    "<b>SIDD(±200bp)</b> (15,294)",
                    "<b>SIDD(±500bp)</b> (15,294)"
                  ],
                  "yaxis": "y3"
                },
                {
                  "alignmentgroup": "True",
                  "hovertemplate": "annotation=Downstream (<=300)<br>group=<b>G4<br>percentage=%{x}<br>flipon=%{y}<extra></extra>",
                  "legendgroup": "Downstream (<=300)",
                  "marker": {
                    "color": "#FECB52",
                    "pattern": {
                      "shape": ""
                    }
                  },
                  "name": "Downstream (<=300)",
                  "offsetgroup": "Downstream (<=300)",
                  "orientation": "h",
                  "showlegend": false,
                  "textposition": "auto",
                  "texttemplate": "%{x:.1%}",
                  "type": "bar",
                  "x": [
                    0.0007406310000000001,
                    0.0002188663,
                    0.000394633,
                    0.0009711881
                  ],
                  "xaxis": "x2",
                  "y": [
                    "<b>G4</b> (20,251)",
                    "<b>G4 & miRNA</b> (4,569)",
                    "<b>G4 & SIDD(±200bp)</b> (2,534)",
                    "<b>G4 & SIDD(±500bp)</b> (3,089)"
                  ],
                  "yaxis": "y2"
                },
                {
                  "alignmentgroup": "True",
                  "hovertemplate": "annotation=Downstream (<=300)<br>group=<b>H-DNA<br>percentage=%{x}<br>flipon=%{y}<extra></extra>",
                  "legendgroup": "Downstream (<=300)",
                  "marker": {
                    "color": "#FECB52",
                    "pattern": {
                      "shape": ""
                    }
                  },
                  "name": "Downstream (<=300)",
                  "offsetgroup": "Downstream (<=300)",
                  "orientation": "h",
                  "showlegend": false,
                  "textposition": "auto",
                  "texttemplate": "%{x:.1%}",
                  "type": "bar",
                  "x": [
                    0.00040935673,
                    0.0006784261,
                    0.0009920635,
                    0.0008892841,
                    0.00078125
                  ],
                  "xaxis": "x",
                  "y": [
                    "<b>H-DNA</b> (17,098)",
                    "<b>H-DNA & miRNA</b> (1,474)",
                    "<b>H-DNA & SIDD(±100bp)</b> (2,016)",
                    "<b>H-DNA & SIDD(±200bp)</b> (2,249)",
                    "<b>H-DNA & SIDD(±500bp)</b> (2,560)"
                  ],
                  "yaxis": "y"
                },
                {
                  "alignmentgroup": "True",
                  "hovertemplate": "annotation=Distal Intergenic<br>group=<b>Z-DNA<br>percentage=%{x}<br>flipon=%{y}<extra></extra>",
                  "legendgroup": "Distal Intergenic",
                  "marker": {
                    "color": "#636efa",
                    "pattern": {
                      "shape": ""
                    }
                  },
                  "name": "Distal Intergenic",
                  "offsetgroup": "Distal Intergenic",
                  "orientation": "h",
                  "showlegend": true,
                  "textposition": "auto",
                  "texttemplate": "%{x:.1%}",
                  "type": "bar",
                  "x": [
                    0.2800989664,
                    0.3665585373,
                    0.41688654399999997,
                    0.39391226500000004,
                    0.32352941199999996
                  ],
                  "xaxis": "x4",
                  "y": [
                    "<b>Z-DNA</b> (25,057)",
                    "<b>Z-DNA & miRNA</b> (3,391)",
                    "<b>Z-DNA & SIDD(±100p)</b> (757)",
                    "<b>Z-DNA & SIDD(±200bp)</b> (1,116)",
                    "<b>Z-DNA & SIDD(±500bp)</b> (1,801)"
                  ],
                  "yaxis": "y4"
                },
                {
                  "alignmentgroup": "True",
                  "hovertemplate": "annotation=Distal Intergenic<br>group=<b>SIDD<br>percentage=%{x}<br>flipon=%{y}<extra></extra>",
                  "legendgroup": "Distal Intergenic",
                  "marker": {
                    "color": "#636efa",
                    "pattern": {
                      "shape": ""
                    }
                  },
                  "name": "Distal Intergenic",
                  "offsetgroup": "Distal Intergenic",
                  "orientation": "h",
                  "showlegend": false,
                  "textposition": "auto",
                  "texttemplate": "%{x:.1%}",
                  "type": "bar",
                  "x": [
                    0.5817207113,
                    0.5806637569,
                    0.579040272,
                    0.5763598326,
                    0.5698221757
                  ],
                  "xaxis": "x3",
                  "y": [
                    "<b>SIDD</b> (15,294)",
                    "<b>SIDD & miRNA</b> (12,143)",
                    "<b>SIDD(±100bp)</b> (15,294)",
                    "<b>SIDD(±200bp)</b> (15,294)",
                    "<b>SIDD(±500bp)</b> (15,294)"
                  ],
                  "yaxis": "y3"
                },
                {
                  "alignmentgroup": "True",
                  "hovertemplate": "annotation=Distal Intergenic<br>group=<b>G4<br>percentage=%{x}<br>flipon=%{y}<extra></extra>",
                  "legendgroup": "Distal Intergenic",
                  "marker": {
                    "color": "#636efa",
                    "pattern": {
                      "shape": ""
                    }
                  },
                  "name": "Distal Intergenic",
                  "offsetgroup": "Distal Intergenic",
                  "orientation": "h",
                  "showlegend": false,
                  "textposition": "auto",
                  "texttemplate": "%{x:.1%}",
                  "type": "bar",
                  "x": [
                    0.325137017,
                    0.3092580433,
                    0.5622222219999999,
                    0.537884767,
                    0.49077371319999996
                  ],
                  "xaxis": "x2",
                  "y": [
                    "<b>G4</b> (20,251)",
                    "<b>G4 & miRNA</b> (4,569)",
                    "<b>G4 & SIDD(±100bp)</b> (2,250)",
                    "<b>G4 & SIDD(±200bp)</b> (2,534)",
                    "<b>G4 & SIDD(±500bp)</b> (3,089)"
                  ],
                  "yaxis": "y2"
                },
                {
                  "alignmentgroup": "True",
                  "hovertemplate": "annotation=Distal Intergenic<br>group=<b>H-DNA<br>percentage=%{x}<br>flipon=%{y}<extra></extra>",
                  "legendgroup": "Distal Intergenic",
                  "marker": {
                    "color": "#636efa",
                    "pattern": {
                      "shape": ""
                    }
                  },
                  "name": "Distal Intergenic",
                  "offsetgroup": "Distal Intergenic",
                  "orientation": "h",
                  "showlegend": false,
                  "textposition": "auto",
                  "texttemplate": "%{x:.1%}",
                  "type": "bar",
                  "x": [
                    0.51052631579,
                    0.5128900949999999,
                    0.5342261905,
                    0.5255669186,
                    0.51796875
                  ],
                  "xaxis": "x",
                  "y": [
                    "<b>H-DNA</b> (17,098)",
                    "<b>H-DNA & miRNA</b> (1,474)",
                    "<b>H-DNA & SIDD(±100bp)</b> (2,016)",
                    "<b>H-DNA & SIDD(±200bp)</b> (2,249)",
                    "<b>H-DNA & SIDD(±500bp)</b> (2,560)"
                  ],
                  "yaxis": "y"
                }
              ],
              "layout": {
                "annotations": [
                  {
                    "font": {},
                    "showarrow": false,
                    "text": "group=<b>H-DNA",
                    "textangle": 90,
                    "x": 0.98,
                    "xanchor": "left",
                    "xref": "paper",
                    "y": 0.11375,
                    "yanchor": "middle",
                    "yref": "paper"
                  },
                  {
                    "font": {},
                    "showarrow": false,
                    "text": "group=<b>G4",
                    "textangle": 90,
                    "x": 0.98,
                    "xanchor": "left",
                    "xref": "paper",
                    "y": 0.37124999999999997,
                    "yanchor": "middle",
                    "yref": "paper"
                  },
                  {
                    "font": {},
                    "showarrow": false,
                    "text": "group=<b>SIDD",
                    "textangle": 90,
                    "x": 0.98,
                    "xanchor": "left",
                    "xref": "paper",
                    "y": 0.62875,
                    "yanchor": "middle",
                    "yref": "paper"
                  },
                  {
                    "font": {},
                    "showarrow": false,
                    "text": "group=<b>Z-DNA",
                    "textangle": 90,
                    "x": 0.98,
                    "xanchor": "left",
                    "xref": "paper",
                    "y": 0.88625,
                    "yanchor": "middle",
                    "yref": "paper"
                  }
                ],
                "barmode": "relative",
                "font": {
                  "family": "monospace",
                  "size": 12
                },
                "height": 900,
                "legend": {
                  "title": {
                    "text": "annotation"
                  },
                  "tracegroupgap": 0
                },
                "margin": {
                  "t": 60
                },
                "template": {
                  "data": {
                    "bar": [
                      {
                        "error_x": {
                          "color": "rgb(51,51,51)"
                        },
                        "error_y": {
                          "color": "rgb(51,51,51)"
                        },
                        "marker": {
                          "line": {
                            "color": "rgb(237,237,237)",
                            "width": 0.5
                          },
                          "pattern": {
                            "fillmode": "overlay",
                            "size": 10,
                            "solidity": 0.2
                          }
                        },
                        "type": "bar"
                      }
                    ],
                    "barpolar": [
                      {
                        "marker": {
                          "line": {
                            "color": "rgb(237,237,237)",
                            "width": 0.5
                          },
                          "pattern": {
                            "fillmode": "overlay",
                            "size": 10,
                            "solidity": 0.2
                          }
                        },
                        "type": "barpolar"
                      }
                    ],
                    "carpet": [
                      {
                        "aaxis": {
                          "endlinecolor": "rgb(51,51,51)",
                          "gridcolor": "white",
                          "linecolor": "white",
                          "minorgridcolor": "white",
                          "startlinecolor": "rgb(51,51,51)"
                        },
                        "baxis": {
                          "endlinecolor": "rgb(51,51,51)",
                          "gridcolor": "white",
                          "linecolor": "white",
                          "minorgridcolor": "white",
                          "startlinecolor": "rgb(51,51,51)"
                        },
                        "type": "carpet"
                      }
                    ],
                    "choropleth": [
                      {
                        "colorbar": {
                          "outlinewidth": 0,
                          "tickcolor": "rgb(237,237,237)",
                          "ticklen": 6,
                          "ticks": "inside"
                        },
                        "type": "choropleth"
                      }
                    ],
                    "contour": [
                      {
                        "colorbar": {
                          "outlinewidth": 0,
                          "tickcolor": "rgb(237,237,237)",
                          "ticklen": 6,
                          "ticks": "inside"
                        },
                        "colorscale": [
                          [
                            0,
                            "rgb(20,44,66)"
                          ],
                          [
                            1,
                            "rgb(90,179,244)"
                          ]
                        ],
                        "type": "contour"
                      }
                    ],
                    "contourcarpet": [
                      {
                        "colorbar": {
                          "outlinewidth": 0,
                          "tickcolor": "rgb(237,237,237)",
                          "ticklen": 6,
                          "ticks": "inside"
                        },
                        "type": "contourcarpet"
                      }
                    ],
                    "heatmap": [
                      {
                        "colorbar": {
                          "outlinewidth": 0,
                          "tickcolor": "rgb(237,237,237)",
                          "ticklen": 6,
                          "ticks": "inside"
                        },
                        "colorscale": [
                          [
                            0,
                            "rgb(20,44,66)"
                          ],
                          [
                            1,
                            "rgb(90,179,244)"
                          ]
                        ],
                        "type": "heatmap"
                      }
                    ],
                    "heatmapgl": [
                      {
                        "colorbar": {
                          "outlinewidth": 0,
                          "tickcolor": "rgb(237,237,237)",
                          "ticklen": 6,
                          "ticks": "inside"
                        },
                        "colorscale": [
                          [
                            0,
                            "rgb(20,44,66)"
                          ],
                          [
                            1,
                            "rgb(90,179,244)"
                          ]
                        ],
                        "type": "heatmapgl"
                      }
                    ],
                    "histogram": [
                      {
                        "marker": {
                          "pattern": {
                            "fillmode": "overlay",
                            "size": 10,
                            "solidity": 0.2
                          }
                        },
                        "type": "histogram"
                      }
                    ],
                    "histogram2d": [
                      {
                        "colorbar": {
                          "outlinewidth": 0,
                          "tickcolor": "rgb(237,237,237)",
                          "ticklen": 6,
                          "ticks": "inside"
                        },
                        "colorscale": [
                          [
                            0,
                            "rgb(20,44,66)"
                          ],
                          [
                            1,
                            "rgb(90,179,244)"
                          ]
                        ],
                        "type": "histogram2d"
                      }
                    ],
                    "histogram2dcontour": [
                      {
                        "colorbar": {
                          "outlinewidth": 0,
                          "tickcolor": "rgb(237,237,237)",
                          "ticklen": 6,
                          "ticks": "inside"
                        },
                        "colorscale": [
                          [
                            0,
                            "rgb(20,44,66)"
                          ],
                          [
                            1,
                            "rgb(90,179,244)"
                          ]
                        ],
                        "type": "histogram2dcontour"
                      }
                    ],
                    "mesh3d": [
                      {
                        "colorbar": {
                          "outlinewidth": 0,
                          "tickcolor": "rgb(237,237,237)",
                          "ticklen": 6,
                          "ticks": "inside"
                        },
                        "type": "mesh3d"
                      }
                    ],
                    "parcoords": [
                      {
                        "line": {
                          "colorbar": {
                            "outlinewidth": 0,
                            "tickcolor": "rgb(237,237,237)",
                            "ticklen": 6,
                            "ticks": "inside"
                          }
                        },
                        "type": "parcoords"
                      }
                    ],
                    "pie": [
                      {
                        "automargin": true,
                        "type": "pie"
                      }
                    ],
                    "scatter": [
                      {
                        "fillpattern": {
                          "fillmode": "overlay",
                          "size": 10,
                          "solidity": 0.2
                        },
                        "type": "scatter"
                      }
                    ],
                    "scatter3d": [
                      {
                        "line": {
                          "colorbar": {
                            "outlinewidth": 0,
                            "tickcolor": "rgb(237,237,237)",
                            "ticklen": 6,
                            "ticks": "inside"
                          }
                        },
                        "marker": {
                          "colorbar": {
                            "outlinewidth": 0,
                            "tickcolor": "rgb(237,237,237)",
                            "ticklen": 6,
                            "ticks": "inside"
                          }
                        },
                        "type": "scatter3d"
                      }
                    ],
                    "scattercarpet": [
                      {
                        "marker": {
                          "colorbar": {
                            "outlinewidth": 0,
                            "tickcolor": "rgb(237,237,237)",
                            "ticklen": 6,
                            "ticks": "inside"
                          }
                        },
                        "type": "scattercarpet"
                      }
                    ],
                    "scattergeo": [
                      {
                        "marker": {
                          "colorbar": {
                            "outlinewidth": 0,
                            "tickcolor": "rgb(237,237,237)",
                            "ticklen": 6,
                            "ticks": "inside"
                          }
                        },
                        "type": "scattergeo"
                      }
                    ],
                    "scattergl": [
                      {
                        "marker": {
                          "colorbar": {
                            "outlinewidth": 0,
                            "tickcolor": "rgb(237,237,237)",
                            "ticklen": 6,
                            "ticks": "inside"
                          }
                        },
                        "type": "scattergl"
                      }
                    ],
                    "scattermapbox": [
                      {
                        "marker": {
                          "colorbar": {
                            "outlinewidth": 0,
                            "tickcolor": "rgb(237,237,237)",
                            "ticklen": 6,
                            "ticks": "inside"
                          }
                        },
                        "type": "scattermapbox"
                      }
                    ],
                    "scatterpolar": [
                      {
                        "marker": {
                          "colorbar": {
                            "outlinewidth": 0,
                            "tickcolor": "rgb(237,237,237)",
                            "ticklen": 6,
                            "ticks": "inside"
                          }
                        },
                        "type": "scatterpolar"
                      }
                    ],
                    "scatterpolargl": [
                      {
                        "marker": {
                          "colorbar": {
                            "outlinewidth": 0,
                            "tickcolor": "rgb(237,237,237)",
                            "ticklen": 6,
                            "ticks": "inside"
                          }
                        },
                        "type": "scatterpolargl"
                      }
                    ],
                    "scatterternary": [
                      {
                        "marker": {
                          "colorbar": {
                            "outlinewidth": 0,
                            "tickcolor": "rgb(237,237,237)",
                            "ticklen": 6,
                            "ticks": "inside"
                          }
                        },
                        "type": "scatterternary"
                      }
                    ],
                    "surface": [
                      {
                        "colorbar": {
                          "outlinewidth": 0,
                          "tickcolor": "rgb(237,237,237)",
                          "ticklen": 6,
                          "ticks": "inside"
                        },
                        "colorscale": [
                          [
                            0,
                            "rgb(20,44,66)"
                          ],
                          [
                            1,
                            "rgb(90,179,244)"
                          ]
                        ],
                        "type": "surface"
                      }
                    ],
                    "table": [
                      {
                        "cells": {
                          "fill": {
                            "color": "rgb(237,237,237)"
                          },
                          "line": {
                            "color": "white"
                          }
                        },
                        "header": {
                          "fill": {
                            "color": "rgb(217,217,217)"
                          },
                          "line": {
                            "color": "white"
                          }
                        },
                        "type": "table"
                      }
                    ]
                  },
                  "layout": {
                    "annotationdefaults": {
                      "arrowhead": 0,
                      "arrowwidth": 1
                    },
                    "autotypenumbers": "strict",
                    "coloraxis": {
                      "colorbar": {
                        "outlinewidth": 0,
                        "tickcolor": "rgb(237,237,237)",
                        "ticklen": 6,
                        "ticks": "inside"
                      }
                    },
                    "colorscale": {
                      "sequential": [
                        [
                          0,
                          "rgb(20,44,66)"
                        ],
                        [
                          1,
                          "rgb(90,179,244)"
                        ]
                      ],
                      "sequentialminus": [
                        [
                          0,
                          "rgb(20,44,66)"
                        ],
                        [
                          1,
                          "rgb(90,179,244)"
                        ]
                      ]
                    },
                    "colorway": [
                      "#F8766D",
                      "#A3A500",
                      "#00BF7D",
                      "#00B0F6",
                      "#E76BF3"
                    ],
                    "font": {
                      "color": "rgb(51,51,51)"
                    },
                    "geo": {
                      "bgcolor": "white",
                      "lakecolor": "white",
                      "landcolor": "rgb(237,237,237)",
                      "showlakes": true,
                      "showland": true,
                      "subunitcolor": "white"
                    },
                    "hoverlabel": {
                      "align": "left"
                    },
                    "hovermode": "closest",
                    "paper_bgcolor": "white",
                    "plot_bgcolor": "rgb(237,237,237)",
                    "polar": {
                      "angularaxis": {
                        "gridcolor": "white",
                        "linecolor": "white",
                        "showgrid": true,
                        "tickcolor": "rgb(51,51,51)",
                        "ticks": "outside"
                      },
                      "bgcolor": "rgb(237,237,237)",
                      "radialaxis": {
                        "gridcolor": "white",
                        "linecolor": "white",
                        "showgrid": true,
                        "tickcolor": "rgb(51,51,51)",
                        "ticks": "outside"
                      }
                    },
                    "scene": {
                      "xaxis": {
                        "backgroundcolor": "rgb(237,237,237)",
                        "gridcolor": "white",
                        "gridwidth": 2,
                        "linecolor": "white",
                        "showbackground": true,
                        "showgrid": true,
                        "tickcolor": "rgb(51,51,51)",
                        "ticks": "outside",
                        "zerolinecolor": "white"
                      },
                      "yaxis": {
                        "backgroundcolor": "rgb(237,237,237)",
                        "gridcolor": "white",
                        "gridwidth": 2,
                        "linecolor": "white",
                        "showbackground": true,
                        "showgrid": true,
                        "tickcolor": "rgb(51,51,51)",
                        "ticks": "outside",
                        "zerolinecolor": "white"
                      },
                      "zaxis": {
                        "backgroundcolor": "rgb(237,237,237)",
                        "gridcolor": "white",
                        "gridwidth": 2,
                        "linecolor": "white",
                        "showbackground": true,
                        "showgrid": true,
                        "tickcolor": "rgb(51,51,51)",
                        "ticks": "outside",
                        "zerolinecolor": "white"
                      }
                    },
                    "shapedefaults": {
                      "fillcolor": "black",
                      "line": {
                        "width": 0
                      },
                      "opacity": 0.3
                    },
                    "ternary": {
                      "aaxis": {
                        "gridcolor": "white",
                        "linecolor": "white",
                        "showgrid": true,
                        "tickcolor": "rgb(51,51,51)",
                        "ticks": "outside"
                      },
                      "baxis": {
                        "gridcolor": "white",
                        "linecolor": "white",
                        "showgrid": true,
                        "tickcolor": "rgb(51,51,51)",
                        "ticks": "outside"
                      },
                      "bgcolor": "rgb(237,237,237)",
                      "caxis": {
                        "gridcolor": "white",
                        "linecolor": "white",
                        "showgrid": true,
                        "tickcolor": "rgb(51,51,51)",
                        "ticks": "outside"
                      }
                    },
                    "xaxis": {
                      "automargin": true,
                      "gridcolor": "white",
                      "linecolor": "white",
                      "showgrid": true,
                      "tickcolor": "rgb(51,51,51)",
                      "ticks": "outside",
                      "title": {
                        "standoff": 15
                      },
                      "zerolinecolor": "white"
                    },
                    "yaxis": {
                      "automargin": true,
                      "gridcolor": "white",
                      "linecolor": "white",
                      "showgrid": true,
                      "tickcolor": "rgb(51,51,51)",
                      "ticks": "outside",
                      "title": {
                        "standoff": 15
                      },
                      "zerolinecolor": "white"
                    }
                  }
                },
                "uniformtext": {
                  "minsize": 12,
                  "mode": "hide"
                },
                "width": 1400,
                "xaxis": {
                  "anchor": "y",
                  "domain": [
                    0,
                    0.98
                  ],
                  "dtick": 0.1,
                  "tickformat": ".0%",
                  "title": {
                    "text": "percentage"
                  }
                },
                "xaxis2": {
                  "anchor": "y2",
                  "domain": [
                    0,
                    0.98
                  ],
                  "dtick": 0.1,
                  "matches": "x",
                  "showticklabels": false,
                  "tickformat": ".0%"
                },
                "xaxis3": {
                  "anchor": "y3",
                  "domain": [
                    0,
                    0.98
                  ],
                  "dtick": 0.1,
                  "matches": "x",
                  "showticklabels": false,
                  "tickformat": ".0%"
                },
                "xaxis4": {
                  "anchor": "y4",
                  "domain": [
                    0,
                    0.98
                  ],
                  "dtick": 0.1,
                  "matches": "x",
                  "showticklabels": false,
                  "tickformat": ".0%"
                },
                "yaxis": {
                  "anchor": "x",
                  "categoryarray": [
                    "<b>SIDD(±500bp)</b> (15,294)",
                    "<b>SIDD(±200bp)</b> (15,294)",
                    "<b>SIDD(±100bp)</b> (15,294)",
                    "<b>SIDD & miRNA</b> (12,143)",
                    "<b>SIDD</b> (15,294)",
                    "<b>H-DNA & SIDD(±500bp)</b> (2,560)",
                    "<b>H-DNA & SIDD(±200bp)</b> (2,249)",
                    "<b>H-DNA & SIDD(±100bp)</b> (2,016)",
                    "<b>H-DNA & miRNA</b> (1,474)",
                    "<b>H-DNA</b> (17,098)",
                    "<b>G4 & SIDD(±500bp)</b> (3,089)",
                    "<b>G4 & SIDD(±200bp)</b> (2,534)",
                    "<b>G4 & SIDD(±100bp)</b> (2,250)",
                    "<b>G4 & miRNA</b> (4,569)",
                    "<b>G4</b> (20,251)",
                    "<b>Z-DNA & SIDD(±500bp)</b> (1,801)",
                    "<b>Z-DNA & SIDD(±200bp)</b> (1,116)",
                    "<b>Z-DNA & SIDD(±100p)</b> (757)",
                    "<b>Z-DNA & miRNA</b> (3,391)",
                    "<b>Z-DNA</b> (25,057)"
                  ],
                  "categoryorder": "array",
                  "domain": [
                    0,
                    0.2275
                  ],
                  "title": {
                    "text": "flipon"
                  }
                },
                "yaxis2": {
                  "anchor": "x2",
                  "categoryarray": [
                    "<b>SIDD(±500bp)</b> (15,294)",
                    "<b>SIDD(±200bp)</b> (15,294)",
                    "<b>SIDD(±100bp)</b> (15,294)",
                    "<b>SIDD & miRNA</b> (12,143)",
                    "<b>SIDD</b> (15,294)",
                    "<b>H-DNA & SIDD(±500bp)</b> (2,560)",
                    "<b>H-DNA & SIDD(±200bp)</b> (2,249)",
                    "<b>H-DNA & SIDD(±100bp)</b> (2,016)",
                    "<b>H-DNA & miRNA</b> (1,474)",
                    "<b>H-DNA</b> (17,098)",
                    "<b>G4 & SIDD(±500bp)</b> (3,089)",
                    "<b>G4 & SIDD(±200bp)</b> (2,534)",
                    "<b>G4 & SIDD(±100bp)</b> (2,250)",
                    "<b>G4 & miRNA</b> (4,569)",
                    "<b>G4</b> (20,251)",
                    "<b>Z-DNA & SIDD(±500bp)</b> (1,801)",
                    "<b>Z-DNA & SIDD(±200bp)</b> (1,116)",
                    "<b>Z-DNA & SIDD(±100p)</b> (757)",
                    "<b>Z-DNA & miRNA</b> (3,391)",
                    "<b>Z-DNA</b> (25,057)"
                  ],
                  "categoryorder": "array",
                  "domain": [
                    0.2575,
                    0.485
                  ],
                  "title": {
                    "text": "flipon"
                  }
                },
                "yaxis3": {
                  "anchor": "x3",
                  "categoryarray": [
                    "<b>SIDD(±500bp)</b> (15,294)",
                    "<b>SIDD(±200bp)</b> (15,294)",
                    "<b>SIDD(±100bp)</b> (15,294)",
                    "<b>SIDD & miRNA</b> (12,143)",
                    "<b>SIDD</b> (15,294)",
                    "<b>H-DNA & SIDD(±500bp)</b> (2,560)",
                    "<b>H-DNA & SIDD(±200bp)</b> (2,249)",
                    "<b>H-DNA & SIDD(±100bp)</b> (2,016)",
                    "<b>H-DNA & miRNA</b> (1,474)",
                    "<b>H-DNA</b> (17,098)",
                    "<b>G4 & SIDD(±500bp)</b> (3,089)",
                    "<b>G4 & SIDD(±200bp)</b> (2,534)",
                    "<b>G4 & SIDD(±100bp)</b> (2,250)",
                    "<b>G4 & miRNA</b> (4,569)",
                    "<b>G4</b> (20,251)",
                    "<b>Z-DNA & SIDD(±500bp)</b> (1,801)",
                    "<b>Z-DNA & SIDD(±200bp)</b> (1,116)",
                    "<b>Z-DNA & SIDD(±100p)</b> (757)",
                    "<b>Z-DNA & miRNA</b> (3,391)",
                    "<b>Z-DNA</b> (25,057)"
                  ],
                  "categoryorder": "array",
                  "domain": [
                    0.515,
                    0.7425
                  ],
                  "title": {
                    "text": "flipon"
                  }
                },
                "yaxis4": {
                  "anchor": "x4",
                  "categoryarray": [
                    "<b>SIDD(±500bp)</b> (15,294)",
                    "<b>SIDD(±200bp)</b> (15,294)",
                    "<b>SIDD(±100bp)</b> (15,294)",
                    "<b>SIDD & miRNA</b> (12,143)",
                    "<b>SIDD</b> (15,294)",
                    "<b>H-DNA & SIDD(±500bp)</b> (2,560)",
                    "<b>H-DNA & SIDD(±200bp)</b> (2,249)",
                    "<b>H-DNA & SIDD(±100bp)</b> (2,016)",
                    "<b>H-DNA & miRNA</b> (1,474)",
                    "<b>H-DNA</b> (17,098)",
                    "<b>G4 & SIDD(±500bp)</b> (3,089)",
                    "<b>G4 & SIDD(±200bp)</b> (2,534)",
                    "<b>G4 & SIDD(±100bp)</b> (2,250)",
                    "<b>G4 & miRNA</b> (4,569)",
                    "<b>G4</b> (20,251)",
                    "<b>Z-DNA & SIDD(±500bp)</b> (1,801)",
                    "<b>Z-DNA & SIDD(±200bp)</b> (1,116)",
                    "<b>Z-DNA & SIDD(±100p)</b> (757)",
                    "<b>Z-DNA & miRNA</b> (3,391)",
                    "<b>Z-DNA</b> (25,057)"
                  ],
                  "categoryorder": "array",
                  "domain": [
                    0.7725,
                    1
                  ],
                  "title": {
                    "text": "flipon"
                  }
                }
              }
            },
            "text/html": [
              "<div>                            <div id=\"6005d7d2-4195-4c72-b3d3-32bcedebd76b\" class=\"plotly-graph-div\" style=\"height:900px; width:1400px;\"></div>            <script type=\"text/javascript\">                require([\"plotly\"], function(Plotly) {                    window.PLOTLYENV=window.PLOTLYENV || {};                                    if (document.getElementById(\"6005d7d2-4195-4c72-b3d3-32bcedebd76b\")) {                    Plotly.newPlot(                        \"6005d7d2-4195-4c72-b3d3-32bcedebd76b\",                        [{\"alignmentgroup\":\"True\",\"hovertemplate\":\"annotation=Promoter (<=1kb)<br>group=<b>Z-DNA<br>percentage=%{x}<br>flipon=%{y}<extra></extra>\",\"legendgroup\":\"Promoter (<=1kb)\",\"marker\":{\"color\":\"#636efa\",\"pattern\":{\"shape\":\"\"}},\"name\":\"Promoter (<=1kb)\",\"offsetgroup\":\"Promoter (<=1kb)\",\"orientation\":\"h\",\"showlegend\":true,\"textposition\":\"auto\",\"texttemplate\":\"%{x:.1%}\",\"x\":[0.40951354799999995,0.2601002654,0.200527704,0.23634735899999998,0.33074361799999996],\"xaxis\":\"x4\",\"y\":[\"<b>Z-DNA</b> (25,057)\",\"<b>Z-DNA & miRNA</b> (3,391)\",\"<b>Z-DNA & SIDD(\\u00b1100p)</b> (757)\",\"<b>Z-DNA & SIDD(\\u00b1200bp)</b> (1,116)\",\"<b>Z-DNA & SIDD(\\u00b1500bp)</b> (1,801)\"],\"yaxis\":\"y4\",\"type\":\"bar\"},{\"alignmentgroup\":\"True\",\"hovertemplate\":\"annotation=Promoter (<=1kb)<br>group=<b>SIDD<br>percentage=%{x}<br>flipon=%{y}<extra></extra>\",\"legendgroup\":\"Promoter (<=1kb)\",\"marker\":{\"color\":\"#636efa\",\"pattern\":{\"shape\":\"\"}},\"name\":\"Promoter (<=1kb)\",\"offsetgroup\":\"Promoter (<=1kb)\",\"orientation\":\"h\",\"showlegend\":false,\"textposition\":\"auto\",\"texttemplate\":\"%{x:.1%}\",\"x\":[0.0674032427,0.06349337067,0.0720449791,0.0764252092,0.0896312762],\"xaxis\":\"x3\",\"y\":[\"<b>SIDD</b> (15,294)\",\"<b>SIDD & miRNA</b> (12,143)\",\"<b>SIDD(\\u00b1100bp)</b> (15,294)\",\"<b>SIDD(\\u00b1200bp)</b> (15,294)\",\"<b>SIDD(\\u00b1500bp)</b> (15,294)\"],\"yaxis\":\"y3\",\"type\":\"bar\"},{\"alignmentgroup\":\"True\",\"hovertemplate\":\"annotation=Promoter (<=1kb)<br>group=<b>G4<br>percentage=%{x}<br>flipon=%{y}<extra></extra>\",\"legendgroup\":\"Promoter (<=1kb)\",\"marker\":{\"color\":\"#636efa\",\"pattern\":{\"shape\":\"\"}},\"name\":\"Promoter (<=1kb)\",\"offsetgroup\":\"Promoter (<=1kb)\",\"orientation\":\"h\",\"showlegend\":false,\"textposition\":\"auto\",\"texttemplate\":\"%{x:.1%}\",\"x\":[0.365871723,0.38826876779999997,0.067555556,0.095106551,0.15312398829999999],\"xaxis\":\"x2\",\"y\":[\"<b>G4</b> (20,251)\",\"<b>G4 & miRNA</b> (4,569)\",\"<b>G4 & SIDD(\\u00b1100bp)</b> (2,250)\",\"<b>G4 & SIDD(\\u00b1200bp)</b> (2,534)\",\"<b>G4 & SIDD(\\u00b1500bp)</b> (3,089)\"],\"yaxis\":\"y2\",\"type\":\"bar\"},{\"alignmentgroup\":\"True\",\"hovertemplate\":\"annotation=Promoter (<=1kb)<br>group=<b>H-DNA<br>percentage=%{x}<br>flipon=%{y}<extra></extra>\",\"legendgroup\":\"Promoter (<=1kb)\",\"marker\":{\"color\":\"#636efa\",\"pattern\":{\"shape\":\"\"}},\"name\":\"Promoter (<=1kb)\",\"offsetgroup\":\"Promoter (<=1kb)\",\"orientation\":\"h\",\"showlegend\":false,\"textposition\":\"auto\",\"texttemplate\":\"%{x:.1%}\",\"x\":[0.1169005848,0.1071913161,0.10168650789999999,0.1004891063,0.11171875],\"xaxis\":\"x\",\"y\":[\"<b>H-DNA</b> (17,098)\",\"<b>H-DNA & miRNA</b> (1,474)\",\"<b>H-DNA & SIDD(\\u00b1100bp)</b> (2,016)\",\"<b>H-DNA & SIDD(\\u00b1200bp)</b> (2,249)\",\"<b>H-DNA & SIDD(\\u00b1500bp)</b> (2,560)\"],\"yaxis\":\"y\",\"type\":\"bar\"},{\"alignmentgroup\":\"True\",\"hovertemplate\":\"annotation=Promoter (1-2kb)<br>group=<b>Z-DNA<br>percentage=%{x}<br>flipon=%{y}<extra></extra>\",\"legendgroup\":\"Promoter (1-2kb)\",\"marker\":{\"color\":\"#EF553B\",\"pattern\":{\"shape\":\"\"}},\"name\":\"Promoter (1-2kb)\",\"offsetgroup\":\"Promoter (1-2kb)\",\"orientation\":\"h\",\"showlegend\":true,\"textposition\":\"auto\",\"texttemplate\":\"%{x:.1%}\",\"x\":[0.058980805299999994,0.056915364200000006,0.060686016,0.06266786029999999,0.066037736],\"xaxis\":\"x4\",\"y\":[\"<b>Z-DNA</b> (25,057)\",\"<b>Z-DNA & miRNA</b> (3,391)\",\"<b>Z-DNA & SIDD(\\u00b1100p)</b> (757)\",\"<b>Z-DNA & SIDD(\\u00b1200bp)</b> (1,116)\",\"<b>Z-DNA & SIDD(\\u00b1500bp)</b> (1,801)\"],\"yaxis\":\"y4\",\"type\":\"bar\"},{\"alignmentgroup\":\"True\",\"hovertemplate\":\"annotation=Promoter (1-2kb)<br>group=<b>SIDD<br>percentage=%{x}<br>flipon=%{y}<extra></extra>\",\"legendgroup\":\"Promoter (1-2kb)\",\"marker\":{\"color\":\"#EF553B\",\"pattern\":{\"shape\":\"\"}},\"name\":\"Promoter (1-2kb)\",\"offsetgroup\":\"Promoter (1-2kb)\",\"orientation\":\"h\",\"showlegend\":false,\"textposition\":\"auto\",\"texttemplate\":\"%{x:.1%}\",\"x\":[0.041971757299999995,0.043152433500000004,0.0411218619,0.0398797071,0.036414748999999996],\"xaxis\":\"x3\",\"y\":[\"<b>SIDD</b> (15,294)\",\"<b>SIDD & miRNA</b> (12,143)\",\"<b>SIDD(\\u00b1100bp)</b> (15,294)\",\"<b>SIDD(\\u00b1200bp)</b> (15,294)\",\"<b>SIDD(\\u00b1500bp)</b> (15,294)\"],\"yaxis\":\"y3\",\"type\":\"bar\"},{\"alignmentgroup\":\"True\",\"hovertemplate\":\"annotation=Promoter (1-2kb)<br>group=<b>G4<br>percentage=%{x}<br>flipon=%{y}<extra></extra>\",\"legendgroup\":\"Promoter (1-2kb)\",\"marker\":{\"color\":\"#EF553B\",\"pattern\":{\"shape\":\"\"}},\"name\":\"Promoter (1-2kb)\",\"offsetgroup\":\"Promoter (1-2kb)\",\"orientation\":\"h\",\"showlegend\":false,\"textposition\":\"auto\",\"texttemplate\":\"%{x:.1%}\",\"x\":[0.055448576,0.056686364600000004,0.044888889,0.048539858000000005,0.0505017805],\"xaxis\":\"x2\",\"y\":[\"<b>G4</b> (20,251)\",\"<b>G4 & miRNA</b> (4,569)\",\"<b>G4 & SIDD(\\u00b1100bp)</b> (2,250)\",\"<b>G4 & SIDD(\\u00b1200bp)</b> (2,534)\",\"<b>G4 & SIDD(\\u00b1500bp)</b> (3,089)\"],\"yaxis\":\"y2\",\"type\":\"bar\"},{\"alignmentgroup\":\"True\",\"hovertemplate\":\"annotation=Promoter (1-2kb)<br>group=<b>H-DNA<br>percentage=%{x}<br>flipon=%{y}<extra></extra>\",\"legendgroup\":\"Promoter (1-2kb)\",\"marker\":{\"color\":\"#EF553B\",\"pattern\":{\"shape\":\"\"}},\"name\":\"Promoter (1-2kb)\",\"offsetgroup\":\"Promoter (1-2kb)\",\"orientation\":\"h\",\"showlegend\":false,\"textposition\":\"auto\",\"texttemplate\":\"%{x:.1%}\",\"x\":[0.04520467836,0.040027137000000004,0.0476190476,0.048910626900000004,0.046875],\"xaxis\":\"x\",\"y\":[\"<b>H-DNA</b> (17,098)\",\"<b>H-DNA & miRNA</b> (1,474)\",\"<b>H-DNA & SIDD(\\u00b1100bp)</b> (2,016)\",\"<b>H-DNA & SIDD(\\u00b1200bp)</b> (2,249)\",\"<b>H-DNA & SIDD(\\u00b1500bp)</b> (2,560)\"],\"yaxis\":\"y\",\"type\":\"bar\"},{\"alignmentgroup\":\"True\",\"hovertemplate\":\"annotation=Promoter (2-3kb)<br>group=<b>Z-DNA<br>percentage=%{x}<br>flipon=%{y}<extra></extra>\",\"legendgroup\":\"Promoter (2-3kb)\",\"marker\":{\"color\":\"#00cc96\",\"pattern\":{\"shape\":\"\"}},\"name\":\"Promoter (2-3kb)\",\"offsetgroup\":\"Promoter (2-3kb)\",\"orientation\":\"h\",\"showlegend\":true,\"textposition\":\"auto\",\"texttemplate\":\"%{x:.1%}\",\"x\":[0.0373518496,0.043055146,0.04089709799999999,0.0367054611,0.038845727000000004],\"xaxis\":\"x4\",\"y\":[\"<b>Z-DNA</b> (25,057)\",\"<b>Z-DNA & miRNA</b> (3,391)\",\"<b>Z-DNA & SIDD(\\u00b1100p)</b> (757)\",\"<b>Z-DNA & SIDD(\\u00b1200bp)</b> (1,116)\",\"<b>Z-DNA & SIDD(\\u00b1500bp)</b> (1,801)\"],\"yaxis\":\"y4\",\"type\":\"bar\"},{\"alignmentgroup\":\"True\",\"hovertemplate\":\"annotation=Promoter (2-3kb)<br>group=<b>SIDD<br>percentage=%{x}<br>flipon=%{y}<extra></extra>\",\"legendgroup\":\"Promoter (2-3kb)\",\"marker\":{\"color\":\"#00cc96\",\"pattern\":{\"shape\":\"\"}},\"name\":\"Promoter (2-3kb)\",\"offsetgroup\":\"Promoter (2-3kb)\",\"orientation\":\"h\",\"showlegend\":false,\"textposition\":\"auto\",\"texttemplate\":\"%{x:.1%}\",\"x\":[0.0337996862,0.03434077246,0.0347803347,0.0353687238,0.0356302301],\"xaxis\":\"x3\",\"y\":[\"<b>SIDD</b> (15,294)\",\"<b>SIDD & miRNA</b> (12,143)\",\"<b>SIDD(\\u00b1100bp)</b> (15,294)\",\"<b>SIDD(\\u00b1200bp)</b> (15,294)\",\"<b>SIDD(\\u00b1500bp)</b> (15,294)\"],\"yaxis\":\"y3\",\"type\":\"bar\"},{\"alignmentgroup\":\"True\",\"hovertemplate\":\"annotation=Promoter (2-3kb)<br>group=<b>G4<br>percentage=%{x}<br>flipon=%{y}<extra></extra>\",\"legendgroup\":\"Promoter (2-3kb)\",\"marker\":{\"color\":\"#00cc96\",\"pattern\":{\"shape\":\"\"}},\"name\":\"Promoter (2-3kb)\",\"offsetgroup\":\"Promoter (2-3kb)\",\"orientation\":\"h\",\"showlegend\":false,\"textposition\":\"auto\",\"texttemplate\":\"%{x:.1%}\",\"x\":[0.034760282,0.038301597699999995,0.033333333,0.035911602,0.0359339592],\"xaxis\":\"x2\",\"y\":[\"<b>G4</b> (20,251)\",\"<b>G4 & miRNA</b> (4,569)\",\"<b>G4 & SIDD(\\u00b1100bp)</b> (2,250)\",\"<b>G4 & SIDD(\\u00b1200bp)</b> (2,534)\",\"<b>G4 & SIDD(\\u00b1500bp)</b> (3,089)\"],\"yaxis\":\"y2\",\"type\":\"bar\"},{\"alignmentgroup\":\"True\",\"hovertemplate\":\"annotation=Promoter (2-3kb)<br>group=<b>H-DNA<br>percentage=%{x}<br>flipon=%{y}<extra></extra>\",\"legendgroup\":\"Promoter (2-3kb)\",\"marker\":{\"color\":\"#00cc96\",\"pattern\":{\"shape\":\"\"}},\"name\":\"Promoter (2-3kb)\",\"offsetgroup\":\"Promoter (2-3kb)\",\"orientation\":\"h\",\"showlegend\":false,\"textposition\":\"auto\",\"texttemplate\":\"%{x:.1%}\",\"x\":[0.0369005848,0.0386702849,0.0277777778,0.029791018199999998,0.03046875],\"xaxis\":\"x\",\"y\":[\"<b>H-DNA</b> (17,098)\",\"<b>H-DNA & miRNA</b> (1,474)\",\"<b>H-DNA & SIDD(\\u00b1100bp)</b> (2,016)\",\"<b>H-DNA & SIDD(\\u00b1200bp)</b> (2,249)\",\"<b>H-DNA & SIDD(\\u00b1500bp)</b> (2,560)\"],\"yaxis\":\"y\",\"type\":\"bar\"},{\"alignmentgroup\":\"True\",\"hovertemplate\":\"annotation=5' UTR<br>group=<b>Z-DNA<br>percentage=%{x}<br>flipon=%{y}<extra></extra>\",\"legendgroup\":\"5' UTR\",\"marker\":{\"color\":\"#ab63fa\",\"pattern\":{\"shape\":\"\"}},\"name\":\"5' UTR\",\"offsetgroup\":\"5' UTR\",\"orientation\":\"h\",\"showlegend\":true,\"textposition\":\"auto\",\"texttemplate\":\"%{x:.1%}\",\"x\":[0.00023943490000000002,0.0005897965,0.0008952551,0.000554939],\"xaxis\":\"x4\",\"y\":[\"<b>Z-DNA</b> (25,057)\",\"<b>Z-DNA & miRNA</b> (3,391)\",\"<b>Z-DNA & SIDD(\\u00b1200bp)</b> (1,116)\",\"<b>Z-DNA & SIDD(\\u00b1500bp)</b> (1,801)\"],\"yaxis\":\"y4\",\"type\":\"bar\"},{\"alignmentgroup\":\"True\",\"hovertemplate\":\"annotation=5' UTR<br>group=<b>SIDD<br>percentage=%{x}<br>flipon=%{y}<extra></extra>\",\"legendgroup\":\"5' UTR\",\"marker\":{\"color\":\"#ab63fa\",\"pattern\":{\"shape\":\"\"}},\"name\":\"5' UTR\",\"offsetgroup\":\"5' UTR\",\"orientation\":\"h\",\"showlegend\":false,\"textposition\":\"auto\",\"texttemplate\":\"%{x:.1%}\",\"x\":[0.0001307531,8.235197e-05,0.0002615063,0.0003268828,0.0007845188000000001],\"xaxis\":\"x3\",\"y\":[\"<b>SIDD</b> (15,294)\",\"<b>SIDD & miRNA</b> (12,143)\",\"<b>SIDD(\\u00b1100bp)</b> (15,294)\",\"<b>SIDD(\\u00b1200bp)</b> (15,294)\",\"<b>SIDD(\\u00b1500bp)</b> (15,294)\"],\"yaxis\":\"y3\",\"type\":\"bar\"},{\"alignmentgroup\":\"True\",\"hovertemplate\":\"annotation=5' UTR<br>group=<b>G4<br>percentage=%{x}<br>flipon=%{y}<extra></extra>\",\"legendgroup\":\"5' UTR\",\"marker\":{\"color\":\"#ab63fa\",\"pattern\":{\"shape\":\"\"}},\"name\":\"5' UTR\",\"offsetgroup\":\"5' UTR\",\"orientation\":\"h\",\"showlegend\":false,\"textposition\":\"auto\",\"texttemplate\":\"%{x:.1%}\",\"x\":[0.000493754,0.0004377325],\"xaxis\":\"x2\",\"y\":[\"<b>G4</b> (20,251)\",\"<b>G4 & miRNA</b> (4,569)\"],\"yaxis\":\"y2\",\"type\":\"bar\"},{\"alignmentgroup\":\"True\",\"hovertemplate\":\"annotation=5' UTR<br>group=<b>H-DNA<br>percentage=%{x}<br>flipon=%{y}<extra></extra>\",\"legendgroup\":\"5' UTR\",\"marker\":{\"color\":\"#ab63fa\",\"pattern\":{\"shape\":\"\"}},\"name\":\"5' UTR\",\"offsetgroup\":\"5' UTR\",\"orientation\":\"h\",\"showlegend\":false,\"textposition\":\"auto\",\"texttemplate\":\"%{x:.1%}\",\"x\":[5.8479530000000004e-05],\"xaxis\":\"x\",\"y\":[\"<b>H-DNA</b> (17,098)\"],\"yaxis\":\"y\",\"type\":\"bar\"},{\"alignmentgroup\":\"True\",\"hovertemplate\":\"annotation=3' UTR<br>group=<b>Z-DNA<br>percentage=%{x}<br>flipon=%{y}<extra></extra>\",\"legendgroup\":\"3' UTR\",\"marker\":{\"color\":\"#FFA15A\",\"pattern\":{\"shape\":\"\"}},\"name\":\"3' UTR\",\"offsetgroup\":\"3' UTR\",\"orientation\":\"h\",\"showlegend\":true,\"textposition\":\"auto\",\"texttemplate\":\"%{x:.1%}\",\"x\":[0.0081806936,0.0070775582,0.009234828,0.0098478066,0.014983352],\"xaxis\":\"x4\",\"y\":[\"<b>Z-DNA</b> (25,057)\",\"<b>Z-DNA & miRNA</b> (3,391)\",\"<b>Z-DNA & SIDD(\\u00b1100p)</b> (757)\",\"<b>Z-DNA & SIDD(\\u00b1200bp)</b> (1,116)\",\"<b>Z-DNA & SIDD(\\u00b1500bp)</b> (1,801)\"],\"yaxis\":\"y4\",\"type\":\"bar\"},{\"alignmentgroup\":\"True\",\"hovertemplate\":\"annotation=3' UTR<br>group=<b>SIDD<br>percentage=%{x}<br>flipon=%{y}<extra></extra>\",\"legendgroup\":\"3' UTR\",\"marker\":{\"color\":\"#FFA15A\",\"pattern\":{\"shape\":\"\"}},\"name\":\"3' UTR\",\"offsetgroup\":\"3' UTR\",\"orientation\":\"h\",\"showlegend\":false,\"textposition\":\"auto\",\"texttemplate\":\"%{x:.1%}\",\"x\":[0.0092180962,0.00897636498,0.0096103556,0.0101987448,0.012356171499999999],\"xaxis\":\"x3\",\"y\":[\"<b>SIDD</b> (15,294)\",\"<b>SIDD & miRNA</b> (12,143)\",\"<b>SIDD(\\u00b1100bp)</b> (15,294)\",\"<b>SIDD(\\u00b1200bp)</b> (15,294)\",\"<b>SIDD(\\u00b1500bp)</b> (15,294)\"],\"yaxis\":\"y3\",\"type\":\"bar\"},{\"alignmentgroup\":\"True\",\"hovertemplate\":\"annotation=3' UTR<br>group=<b>G4<br>percentage=%{x}<br>flipon=%{y}<extra></extra>\",\"legendgroup\":\"3' UTR\",\"marker\":{\"color\":\"#FFA15A\",\"pattern\":{\"shape\":\"\"}},\"name\":\"3' UTR\",\"offsetgroup\":\"3' UTR\",\"orientation\":\"h\",\"showlegend\":false,\"textposition\":\"auto\",\"texttemplate\":\"%{x:.1%}\",\"x\":[0.011603219,0.0124753775,0.007555556,0.010260457999999998,0.0123017158],\"xaxis\":\"x2\",\"y\":[\"<b>G4</b> (20,251)\",\"<b>G4 & miRNA</b> (4,569)\",\"<b>G4 & SIDD(\\u00b1100bp)</b> (2,250)\",\"<b>G4 & SIDD(\\u00b1200bp)</b> (2,534)\",\"<b>G4 & SIDD(\\u00b1500bp)</b> (3,089)\"],\"yaxis\":\"y2\",\"type\":\"bar\"},{\"alignmentgroup\":\"True\",\"hovertemplate\":\"annotation=3' UTR<br>group=<b>H-DNA<br>percentage=%{x}<br>flipon=%{y}<extra></extra>\",\"legendgroup\":\"3' UTR\",\"marker\":{\"color\":\"#FFA15A\",\"pattern\":{\"shape\":\"\"}},\"name\":\"3' UTR\",\"offsetgroup\":\"3' UTR\",\"orientation\":\"h\",\"showlegend\":false,\"textposition\":\"auto\",\"texttemplate\":\"%{x:.1%}\",\"x\":[0.005438596489999999,0.0081411126,0.009920634900000001,0.009782125400000001,0.009765625],\"xaxis\":\"x\",\"y\":[\"<b>H-DNA</b> (17,098)\",\"<b>H-DNA & miRNA</b> (1,474)\",\"<b>H-DNA & SIDD(\\u00b1100bp)</b> (2,016)\",\"<b>H-DNA & SIDD(\\u00b1200bp)</b> (2,249)\",\"<b>H-DNA & SIDD(\\u00b1500bp)</b> (2,560)\"],\"yaxis\":\"y\",\"type\":\"bar\"},{\"alignmentgroup\":\"True\",\"hovertemplate\":\"annotation=1st Exon<br>group=<b>Z-DNA<br>percentage=%{x}<br>flipon=%{y}<extra></extra>\",\"legendgroup\":\"1st Exon\",\"marker\":{\"color\":\"#19d3f3\",\"pattern\":{\"shape\":\"\"}},\"name\":\"1st Exon\",\"offsetgroup\":\"1st Exon\",\"orientation\":\"h\",\"showlegend\":true,\"textposition\":\"auto\",\"texttemplate\":\"%{x:.1%}\",\"x\":[0.0001596233,0.001319261,0.0008952551,0.001109878],\"xaxis\":\"x4\",\"y\":[\"<b>Z-DNA</b> (25,057)\",\"<b>Z-DNA & SIDD(\\u00b1100p)</b> (757)\",\"<b>Z-DNA & SIDD(\\u00b1200bp)</b> (1,116)\",\"<b>Z-DNA & SIDD(\\u00b1500bp)</b> (1,801)\"],\"yaxis\":\"y4\",\"type\":\"bar\"},{\"alignmentgroup\":\"True\",\"hovertemplate\":\"annotation=1st Exon<br>group=<b>SIDD<br>percentage=%{x}<br>flipon=%{y}<extra></extra>\",\"legendgroup\":\"1st Exon\",\"marker\":{\"color\":\"#19d3f3\",\"pattern\":{\"shape\":\"\"}},\"name\":\"1st Exon\",\"offsetgroup\":\"1st Exon\",\"orientation\":\"h\",\"showlegend\":false,\"textposition\":\"auto\",\"texttemplate\":\"%{x:.1%}\",\"x\":[0.00045763600000000003,0.00041175985999999996,0.0005230126,0.0005230126,0.00039225940000000003],\"xaxis\":\"x3\",\"y\":[\"<b>SIDD</b> (15,294)\",\"<b>SIDD & miRNA</b> (12,143)\",\"<b>SIDD(\\u00b1100bp)</b> (15,294)\",\"<b>SIDD(\\u00b1200bp)</b> (15,294)\",\"<b>SIDD(\\u00b1500bp)</b> (15,294)\"],\"yaxis\":\"y3\",\"type\":\"bar\"},{\"alignmentgroup\":\"True\",\"hovertemplate\":\"annotation=1st Exon<br>group=<b>G4<br>percentage=%{x}<br>flipon=%{y}<extra></extra>\",\"legendgroup\":\"1st Exon\",\"marker\":{\"color\":\"#19d3f3\",\"pattern\":{\"shape\":\"\"}},\"name\":\"1st Exon\",\"offsetgroup\":\"1st Exon\",\"orientation\":\"h\",\"showlegend\":false,\"textposition\":\"auto\",\"texttemplate\":\"%{x:.1%}\",\"x\":[0.000246877],\"xaxis\":\"x2\",\"y\":[\"<b>G4</b> (20,251)\"],\"yaxis\":\"y2\",\"type\":\"bar\"},{\"alignmentgroup\":\"True\",\"hovertemplate\":\"annotation=1st Exon<br>group=<b>H-DNA<br>percentage=%{x}<br>flipon=%{y}<extra></extra>\",\"legendgroup\":\"1st Exon\",\"marker\":{\"color\":\"#19d3f3\",\"pattern\":{\"shape\":\"\"}},\"name\":\"1st Exon\",\"offsetgroup\":\"1st Exon\",\"orientation\":\"h\",\"showlegend\":false,\"textposition\":\"auto\",\"texttemplate\":\"%{x:.1%}\",\"x\":[0.00023391813],\"xaxis\":\"x\",\"y\":[\"<b>H-DNA</b> (17,098)\"],\"yaxis\":\"y\",\"type\":\"bar\"},{\"alignmentgroup\":\"True\",\"hovertemplate\":\"annotation=Other Exon<br>group=<b>Z-DNA<br>percentage=%{x}<br>flipon=%{y}<extra></extra>\",\"legendgroup\":\"Other Exon\",\"marker\":{\"color\":\"#FF6692\",\"pattern\":{\"shape\":\"\"}},\"name\":\"Other Exon\",\"offsetgroup\":\"Other Exon\",\"orientation\":\"h\",\"showlegend\":true,\"textposition\":\"auto\",\"texttemplate\":\"%{x:.1%}\",\"x\":[0.030966918099999997,0.0112061339,0.009234828,0.0107430618,0.018867925],\"xaxis\":\"x4\",\"y\":[\"<b>Z-DNA</b> (25,057)\",\"<b>Z-DNA & miRNA</b> (3,391)\",\"<b>Z-DNA & SIDD(\\u00b1100p)</b> (757)\",\"<b>Z-DNA & SIDD(\\u00b1200bp)</b> (1,116)\",\"<b>Z-DNA & SIDD(\\u00b1500bp)</b> (1,801)\"],\"yaxis\":\"y4\",\"type\":\"bar\"},{\"alignmentgroup\":\"True\",\"hovertemplate\":\"annotation=Other Exon<br>group=<b>SIDD<br>percentage=%{x}<br>flipon=%{y}<extra></extra>\",\"legendgroup\":\"Other Exon\",\"marker\":{\"color\":\"#FF6692\",\"pattern\":{\"shape\":\"\"}},\"name\":\"Other Exon\",\"offsetgroup\":\"Other Exon\",\"orientation\":\"h\",\"showlegend\":false,\"textposition\":\"auto\",\"texttemplate\":\"%{x:.1%}\",\"x\":[0.0047724895,0.00502347031,0.008498954,0.0126830544,0.0196129707],\"xaxis\":\"x3\",\"y\":[\"<b>SIDD</b> (15,294)\",\"<b>SIDD & miRNA</b> (12,143)\",\"<b>SIDD(\\u00b1100bp)</b> (15,294)\",\"<b>SIDD(\\u00b1200bp)</b> (15,294)\",\"<b>SIDD(\\u00b1500bp)</b> (15,294)\"],\"yaxis\":\"y3\",\"type\":\"bar\"},{\"alignmentgroup\":\"True\",\"hovertemplate\":\"annotation=Other Exon<br>group=<b>G4<br>percentage=%{x}<br>flipon=%{y}<extra></extra>\",\"legendgroup\":\"Other Exon\",\"marker\":{\"color\":\"#FF6692\",\"pattern\":{\"shape\":\"\"}},\"name\":\"Other Exon\",\"offsetgroup\":\"Other Exon\",\"orientation\":\"h\",\"showlegend\":false,\"textposition\":\"auto\",\"texttemplate\":\"%{x:.1%}\",\"x\":[0.015256999,0.020135697100000002,0.001777778,0.0019731650000000002,0.0048559404],\"xaxis\":\"x2\",\"y\":[\"<b>G4</b> (20,251)\",\"<b>G4 & miRNA</b> (4,569)\",\"<b>G4 & SIDD(\\u00b1100bp)</b> (2,250)\",\"<b>G4 & SIDD(\\u00b1200bp)</b> (2,534)\",\"<b>G4 & SIDD(\\u00b1500bp)</b> (3,089)\"],\"yaxis\":\"y2\",\"type\":\"bar\"},{\"alignmentgroup\":\"True\",\"hovertemplate\":\"annotation=Other Exon<br>group=<b>H-DNA<br>percentage=%{x}<br>flipon=%{y}<extra></extra>\",\"legendgroup\":\"Other Exon\",\"marker\":{\"color\":\"#FF6692\",\"pattern\":{\"shape\":\"\"}},\"name\":\"Other Exon\",\"offsetgroup\":\"Other Exon\",\"orientation\":\"h\",\"showlegend\":false,\"textposition\":\"auto\",\"texttemplate\":\"%{x:.1%}\",\"x\":[0.0034502924000000003,0.0013568521,0.0024801587,0.0022232103,0.00234375],\"xaxis\":\"x\",\"y\":[\"<b>H-DNA</b> (17,098)\",\"<b>H-DNA & miRNA</b> (1,474)\",\"<b>H-DNA & SIDD(\\u00b1100bp)</b> (2,016)\",\"<b>H-DNA & SIDD(\\u00b1200bp)</b> (2,249)\",\"<b>H-DNA & SIDD(\\u00b1500bp)</b> (2,560)\"],\"yaxis\":\"y\",\"type\":\"bar\"},{\"alignmentgroup\":\"True\",\"hovertemplate\":\"annotation=1st Intron<br>group=<b>Z-DNA<br>percentage=%{x}<br>flipon=%{y}<extra></extra>\",\"legendgroup\":\"1st Intron\",\"marker\":{\"color\":\"#B6E880\",\"pattern\":{\"shape\":\"\"}},\"name\":\"1st Intron\",\"offsetgroup\":\"1st Intron\",\"orientation\":\"h\",\"showlegend\":true,\"textposition\":\"auto\",\"texttemplate\":\"%{x:.1%}\",\"x\":[0.049323596299999994,0.07018578589999999,0.06596306099999999,0.0617726052,0.048834628000000005],\"xaxis\":\"x4\",\"y\":[\"<b>Z-DNA</b> (25,057)\",\"<b>Z-DNA & miRNA</b> (3,391)\",\"<b>Z-DNA & SIDD(\\u00b1100p)</b> (757)\",\"<b>Z-DNA & SIDD(\\u00b1200bp)</b> (1,116)\",\"<b>Z-DNA & SIDD(\\u00b1500bp)</b> (1,801)\"],\"yaxis\":\"y4\",\"type\":\"bar\"},{\"alignmentgroup\":\"True\",\"hovertemplate\":\"annotation=1st Intron<br>group=<b>SIDD<br>percentage=%{x}<br>flipon=%{y}<extra></extra>\",\"legendgroup\":\"1st Intron\",\"marker\":{\"color\":\"#B6E880\",\"pattern\":{\"shape\":\"\"}},\"name\":\"1st Intron\",\"offsetgroup\":\"1st Intron\",\"orientation\":\"h\",\"showlegend\":false,\"textposition\":\"auto\",\"texttemplate\":\"%{x:.1%}\",\"x\":[0.073875523,0.07502264679,0.07296025099999999,0.07217573220000001,0.07001830540000001],\"xaxis\":\"x3\",\"y\":[\"<b>SIDD</b> (15,294)\",\"<b>SIDD & miRNA</b> (12,143)\",\"<b>SIDD(\\u00b1100bp)</b> (15,294)\",\"<b>SIDD(\\u00b1200bp)</b> (15,294)\",\"<b>SIDD(\\u00b1500bp)</b> (15,294)\"],\"yaxis\":\"y3\",\"type\":\"bar\"},{\"alignmentgroup\":\"True\",\"hovertemplate\":\"annotation=1st Intron<br>group=<b>G4<br>percentage=%{x}<br>flipon=%{y}<extra></extra>\",\"legendgroup\":\"1st Intron\",\"marker\":{\"color\":\"#B6E880\",\"pattern\":{\"shape\":\"\"}},\"name\":\"1st Intron\",\"offsetgroup\":\"1st Intron\",\"orientation\":\"h\",\"showlegend\":false,\"textposition\":\"auto\",\"texttemplate\":\"%{x:.1%}\",\"x\":[0.054510443000000006,0.048807178799999996,0.08444444400000001,0.078926598,0.0708967303],\"xaxis\":\"x2\",\"y\":[\"<b>G4</b> (20,251)\",\"<b>G4 & miRNA</b> (4,569)\",\"<b>G4 & SIDD(\\u00b1100bp)</b> (2,250)\",\"<b>G4 & SIDD(\\u00b1200bp)</b> (2,534)\",\"<b>G4 & SIDD(\\u00b1500bp)</b> (3,089)\"],\"yaxis\":\"y2\",\"type\":\"bar\"},{\"alignmentgroup\":\"True\",\"hovertemplate\":\"annotation=1st Intron<br>group=<b>H-DNA<br>percentage=%{x}<br>flipon=%{y}<extra></extra>\",\"legendgroup\":\"1st Intron\",\"marker\":{\"color\":\"#B6E880\",\"pattern\":{\"shape\":\"\"}},\"name\":\"1st Intron\",\"offsetgroup\":\"1st Intron\",\"orientation\":\"h\",\"showlegend\":false,\"textposition\":\"auto\",\"texttemplate\":\"%{x:.1%}\",\"x\":[0.08,0.0739484396,0.0744047619,0.0787016452,0.078515625],\"xaxis\":\"x\",\"y\":[\"<b>H-DNA</b> (17,098)\",\"<b>H-DNA & miRNA</b> (1,474)\",\"<b>H-DNA & SIDD(\\u00b1100bp)</b> (2,016)\",\"<b>H-DNA & SIDD(\\u00b1200bp)</b> (2,249)\",\"<b>H-DNA & SIDD(\\u00b1500bp)</b> (2,560)\"],\"yaxis\":\"y\",\"type\":\"bar\"},{\"alignmentgroup\":\"True\",\"hovertemplate\":\"annotation=Other Intron<br>group=<b>Z-DNA<br>percentage=%{x}<br>flipon=%{y}<extra></extra>\",\"legendgroup\":\"Other Intron\",\"marker\":{\"color\":\"#FF97FF\",\"pattern\":{\"shape\":\"\"}},\"name\":\"Other Intron\",\"offsetgroup\":\"Other Intron\",\"orientation\":\"h\",\"showlegend\":true,\"textposition\":\"auto\",\"texttemplate\":\"%{x:.1%}\",\"x\":[0.1246258829,0.1843114126,0.193931398,0.1853178156,0.15593784700000002],\"xaxis\":\"x4\",\"y\":[\"<b>Z-DNA</b> (25,057)\",\"<b>Z-DNA & miRNA</b> (3,391)\",\"<b>Z-DNA & SIDD(\\u00b1100p)</b> (757)\",\"<b>Z-DNA & SIDD(\\u00b1200bp)</b> (1,116)\",\"<b>Z-DNA & SIDD(\\u00b1500bp)</b> (1,801)\"],\"yaxis\":\"y4\",\"type\":\"bar\"},{\"alignmentgroup\":\"True\",\"hovertemplate\":\"annotation=Other Intron<br>group=<b>SIDD<br>percentage=%{x}<br>flipon=%{y}<extra></extra>\",\"legendgroup\":\"Other Intron\",\"marker\":{\"color\":\"#FF97FF\",\"pattern\":{\"shape\":\"\"}},\"name\":\"Other Intron\",\"offsetgroup\":\"Other Intron\",\"orientation\":\"h\",\"showlegend\":false,\"textposition\":\"auto\",\"texttemplate\":\"%{x:.1%}\",\"x\":[0.1859309623,0.18809190480000001,0.1805700837,0.1754053347,0.16468357739999998],\"xaxis\":\"x3\",\"y\":[\"<b>SIDD</b> (15,294)\",\"<b>SIDD & miRNA</b> (12,143)\",\"<b>SIDD(\\u00b1100bp)</b> (15,294)\",\"<b>SIDD(\\u00b1200bp)</b> (15,294)\",\"<b>SIDD(\\u00b1500bp)</b> (15,294)\"],\"yaxis\":\"y3\",\"type\":\"bar\"},{\"alignmentgroup\":\"True\",\"hovertemplate\":\"annotation=Other Intron<br>group=<b>G4<br>percentage=%{x}<br>flipon=%{y}<extra></extra>\",\"legendgroup\":\"Other Intron\",\"marker\":{\"color\":\"#FF97FF\",\"pattern\":{\"shape\":\"\"}},\"name\":\"Other Intron\",\"offsetgroup\":\"Other Intron\",\"orientation\":\"h\",\"showlegend\":false,\"textposition\":\"auto\",\"texttemplate\":\"%{x:.1%}\",\"x\":[0.135930479,0.1254103743,0.19822222199999998,0.191002368,0.18064098409999998],\"xaxis\":\"x2\",\"y\":[\"<b>G4</b> (20,251)\",\"<b>G4 & miRNA</b> (4,569)\",\"<b>G4 & SIDD(\\u00b1100bp)</b> (2,250)\",\"<b>G4 & SIDD(\\u00b1200bp)</b> (2,534)\",\"<b>G4 & SIDD(\\u00b1500bp)</b> (3,089)\"],\"yaxis\":\"y2\",\"type\":\"bar\"},{\"alignmentgroup\":\"True\",\"hovertemplate\":\"annotation=Other Intron<br>group=<b>H-DNA<br>percentage=%{x}<br>flipon=%{y}<extra></extra>\",\"legendgroup\":\"Other Intron\",\"marker\":{\"color\":\"#FF97FF\",\"pattern\":{\"shape\":\"\"}},\"name\":\"Other Intron\",\"offsetgroup\":\"Other Intron\",\"orientation\":\"h\",\"showlegend\":false,\"textposition\":\"auto\",\"texttemplate\":\"%{x:.1%}\",\"x\":[0.20087719298,0.21709633650000001,0.2008928571,0.2036460649,0.2015625],\"xaxis\":\"x\",\"y\":[\"<b>H-DNA</b> (17,098)\",\"<b>H-DNA & miRNA</b> (1,474)\",\"<b>H-DNA & SIDD(\\u00b1100bp)</b> (2,016)\",\"<b>H-DNA & SIDD(\\u00b1200bp)</b> (2,249)\",\"<b>H-DNA & SIDD(\\u00b1500bp)</b> (2,560)\"],\"yaxis\":\"y\",\"type\":\"bar\"},{\"alignmentgroup\":\"True\",\"hovertemplate\":\"annotation=Downstream (<=300)<br>group=<b>Z-DNA<br>percentage=%{x}<br>flipon=%{y}<extra></extra>\",\"legendgroup\":\"Downstream (<=300)\",\"marker\":{\"color\":\"#FECB52\",\"pattern\":{\"shape\":\"\"}},\"name\":\"Downstream (<=300)\",\"offsetgroup\":\"Downstream (<=300)\",\"orientation\":\"h\",\"showlegend\":true,\"textposition\":\"auto\",\"texttemplate\":\"%{x:.1%}\",\"x\":[0.0005586815,0.001319261,0.0008952551,0.000554939],\"xaxis\":\"x4\",\"y\":[\"<b>Z-DNA</b> (25,057)\",\"<b>Z-DNA & SIDD(\\u00b1100p)</b> (757)\",\"<b>Z-DNA & SIDD(\\u00b1200bp)</b> (1,116)\",\"<b>Z-DNA & SIDD(\\u00b1500bp)</b> (1,801)\"],\"yaxis\":\"y4\",\"type\":\"bar\"},{\"alignmentgroup\":\"True\",\"hovertemplate\":\"annotation=Downstream (<=300)<br>group=<b>SIDD<br>percentage=%{x}<br>flipon=%{y}<extra></extra>\",\"legendgroup\":\"Downstream (<=300)\",\"marker\":{\"color\":\"#FECB52\",\"pattern\":{\"shape\":\"\"}},\"name\":\"Downstream (<=300)\",\"offsetgroup\":\"Downstream (<=300)\",\"orientation\":\"h\",\"showlegend\":false,\"textposition\":\"auto\",\"texttemplate\":\"%{x:.1%}\",\"x\":[0.0007191423,0.00074116775,0.0005883891,0.0006537657,0.0006537657],\"xaxis\":\"x3\",\"y\":[\"<b>SIDD</b> (15,294)\",\"<b>SIDD & miRNA</b> (12,143)\",\"<b>SIDD(\\u00b1100bp)</b> (15,294)\",\"<b>SIDD(\\u00b1200bp)</b> (15,294)\",\"<b>SIDD(\\u00b1500bp)</b> (15,294)\"],\"yaxis\":\"y3\",\"type\":\"bar\"},{\"alignmentgroup\":\"True\",\"hovertemplate\":\"annotation=Downstream (<=300)<br>group=<b>G4<br>percentage=%{x}<br>flipon=%{y}<extra></extra>\",\"legendgroup\":\"Downstream (<=300)\",\"marker\":{\"color\":\"#FECB52\",\"pattern\":{\"shape\":\"\"}},\"name\":\"Downstream (<=300)\",\"offsetgroup\":\"Downstream (<=300)\",\"orientation\":\"h\",\"showlegend\":false,\"textposition\":\"auto\",\"texttemplate\":\"%{x:.1%}\",\"x\":[0.0007406310000000001,0.0002188663,0.000394633,0.0009711881],\"xaxis\":\"x2\",\"y\":[\"<b>G4</b> (20,251)\",\"<b>G4 & miRNA</b> (4,569)\",\"<b>G4 & SIDD(\\u00b1200bp)</b> (2,534)\",\"<b>G4 & SIDD(\\u00b1500bp)</b> (3,089)\"],\"yaxis\":\"y2\",\"type\":\"bar\"},{\"alignmentgroup\":\"True\",\"hovertemplate\":\"annotation=Downstream (<=300)<br>group=<b>H-DNA<br>percentage=%{x}<br>flipon=%{y}<extra></extra>\",\"legendgroup\":\"Downstream (<=300)\",\"marker\":{\"color\":\"#FECB52\",\"pattern\":{\"shape\":\"\"}},\"name\":\"Downstream (<=300)\",\"offsetgroup\":\"Downstream (<=300)\",\"orientation\":\"h\",\"showlegend\":false,\"textposition\":\"auto\",\"texttemplate\":\"%{x:.1%}\",\"x\":[0.00040935673,0.0006784261,0.0009920635,0.0008892841,0.00078125],\"xaxis\":\"x\",\"y\":[\"<b>H-DNA</b> (17,098)\",\"<b>H-DNA & miRNA</b> (1,474)\",\"<b>H-DNA & SIDD(\\u00b1100bp)</b> (2,016)\",\"<b>H-DNA & SIDD(\\u00b1200bp)</b> (2,249)\",\"<b>H-DNA & SIDD(\\u00b1500bp)</b> (2,560)\"],\"yaxis\":\"y\",\"type\":\"bar\"},{\"alignmentgroup\":\"True\",\"hovertemplate\":\"annotation=Distal Intergenic<br>group=<b>Z-DNA<br>percentage=%{x}<br>flipon=%{y}<extra></extra>\",\"legendgroup\":\"Distal Intergenic\",\"marker\":{\"color\":\"#636efa\",\"pattern\":{\"shape\":\"\"}},\"name\":\"Distal Intergenic\",\"offsetgroup\":\"Distal Intergenic\",\"orientation\":\"h\",\"showlegend\":true,\"textposition\":\"auto\",\"texttemplate\":\"%{x:.1%}\",\"x\":[0.2800989664,0.3665585373,0.41688654399999997,0.39391226500000004,0.32352941199999996],\"xaxis\":\"x4\",\"y\":[\"<b>Z-DNA</b> (25,057)\",\"<b>Z-DNA & miRNA</b> (3,391)\",\"<b>Z-DNA & SIDD(\\u00b1100p)</b> (757)\",\"<b>Z-DNA & SIDD(\\u00b1200bp)</b> (1,116)\",\"<b>Z-DNA & SIDD(\\u00b1500bp)</b> (1,801)\"],\"yaxis\":\"y4\",\"type\":\"bar\"},{\"alignmentgroup\":\"True\",\"hovertemplate\":\"annotation=Distal Intergenic<br>group=<b>SIDD<br>percentage=%{x}<br>flipon=%{y}<extra></extra>\",\"legendgroup\":\"Distal Intergenic\",\"marker\":{\"color\":\"#636efa\",\"pattern\":{\"shape\":\"\"}},\"name\":\"Distal Intergenic\",\"offsetgroup\":\"Distal Intergenic\",\"orientation\":\"h\",\"showlegend\":false,\"textposition\":\"auto\",\"texttemplate\":\"%{x:.1%}\",\"x\":[0.5817207113,0.5806637569,0.579040272,0.5763598326,0.5698221757],\"xaxis\":\"x3\",\"y\":[\"<b>SIDD</b> (15,294)\",\"<b>SIDD & miRNA</b> (12,143)\",\"<b>SIDD(\\u00b1100bp)</b> (15,294)\",\"<b>SIDD(\\u00b1200bp)</b> (15,294)\",\"<b>SIDD(\\u00b1500bp)</b> (15,294)\"],\"yaxis\":\"y3\",\"type\":\"bar\"},{\"alignmentgroup\":\"True\",\"hovertemplate\":\"annotation=Distal Intergenic<br>group=<b>G4<br>percentage=%{x}<br>flipon=%{y}<extra></extra>\",\"legendgroup\":\"Distal Intergenic\",\"marker\":{\"color\":\"#636efa\",\"pattern\":{\"shape\":\"\"}},\"name\":\"Distal Intergenic\",\"offsetgroup\":\"Distal Intergenic\",\"orientation\":\"h\",\"showlegend\":false,\"textposition\":\"auto\",\"texttemplate\":\"%{x:.1%}\",\"x\":[0.325137017,0.3092580433,0.5622222219999999,0.537884767,0.49077371319999996],\"xaxis\":\"x2\",\"y\":[\"<b>G4</b> (20,251)\",\"<b>G4 & miRNA</b> (4,569)\",\"<b>G4 & SIDD(\\u00b1100bp)</b> (2,250)\",\"<b>G4 & SIDD(\\u00b1200bp)</b> (2,534)\",\"<b>G4 & SIDD(\\u00b1500bp)</b> (3,089)\"],\"yaxis\":\"y2\",\"type\":\"bar\"},{\"alignmentgroup\":\"True\",\"hovertemplate\":\"annotation=Distal Intergenic<br>group=<b>H-DNA<br>percentage=%{x}<br>flipon=%{y}<extra></extra>\",\"legendgroup\":\"Distal Intergenic\",\"marker\":{\"color\":\"#636efa\",\"pattern\":{\"shape\":\"\"}},\"name\":\"Distal Intergenic\",\"offsetgroup\":\"Distal Intergenic\",\"orientation\":\"h\",\"showlegend\":false,\"textposition\":\"auto\",\"texttemplate\":\"%{x:.1%}\",\"x\":[0.51052631579,0.5128900949999999,0.5342261905,0.5255669186,0.51796875],\"xaxis\":\"x\",\"y\":[\"<b>H-DNA</b> (17,098)\",\"<b>H-DNA & miRNA</b> (1,474)\",\"<b>H-DNA & SIDD(\\u00b1100bp)</b> (2,016)\",\"<b>H-DNA & SIDD(\\u00b1200bp)</b> (2,249)\",\"<b>H-DNA & SIDD(\\u00b1500bp)</b> (2,560)\"],\"yaxis\":\"y\",\"type\":\"bar\"}],                        {\"template\":{\"data\":{\"barpolar\":[{\"marker\":{\"line\":{\"color\":\"rgb(237,237,237)\",\"width\":0.5},\"pattern\":{\"fillmode\":\"overlay\",\"size\":10,\"solidity\":0.2}},\"type\":\"barpolar\"}],\"bar\":[{\"error_x\":{\"color\":\"rgb(51,51,51)\"},\"error_y\":{\"color\":\"rgb(51,51,51)\"},\"marker\":{\"line\":{\"color\":\"rgb(237,237,237)\",\"width\":0.5},\"pattern\":{\"fillmode\":\"overlay\",\"size\":10,\"solidity\":0.2}},\"type\":\"bar\"}],\"carpet\":[{\"aaxis\":{\"endlinecolor\":\"rgb(51,51,51)\",\"gridcolor\":\"white\",\"linecolor\":\"white\",\"minorgridcolor\":\"white\",\"startlinecolor\":\"rgb(51,51,51)\"},\"baxis\":{\"endlinecolor\":\"rgb(51,51,51)\",\"gridcolor\":\"white\",\"linecolor\":\"white\",\"minorgridcolor\":\"white\",\"startlinecolor\":\"rgb(51,51,51)\"},\"type\":\"carpet\"}],\"choropleth\":[{\"colorbar\":{\"outlinewidth\":0,\"tickcolor\":\"rgb(237,237,237)\",\"ticklen\":6,\"ticks\":\"inside\"},\"type\":\"choropleth\"}],\"contourcarpet\":[{\"colorbar\":{\"outlinewidth\":0,\"tickcolor\":\"rgb(237,237,237)\",\"ticklen\":6,\"ticks\":\"inside\"},\"type\":\"contourcarpet\"}],\"contour\":[{\"colorbar\":{\"outlinewidth\":0,\"tickcolor\":\"rgb(237,237,237)\",\"ticklen\":6,\"ticks\":\"inside\"},\"colorscale\":[[0,\"rgb(20,44,66)\"],[1,\"rgb(90,179,244)\"]],\"type\":\"contour\"}],\"heatmapgl\":[{\"colorbar\":{\"outlinewidth\":0,\"tickcolor\":\"rgb(237,237,237)\",\"ticklen\":6,\"ticks\":\"inside\"},\"colorscale\":[[0,\"rgb(20,44,66)\"],[1,\"rgb(90,179,244)\"]],\"type\":\"heatmapgl\"}],\"heatmap\":[{\"colorbar\":{\"outlinewidth\":0,\"tickcolor\":\"rgb(237,237,237)\",\"ticklen\":6,\"ticks\":\"inside\"},\"colorscale\":[[0,\"rgb(20,44,66)\"],[1,\"rgb(90,179,244)\"]],\"type\":\"heatmap\"}],\"histogram2dcontour\":[{\"colorbar\":{\"outlinewidth\":0,\"tickcolor\":\"rgb(237,237,237)\",\"ticklen\":6,\"ticks\":\"inside\"},\"colorscale\":[[0,\"rgb(20,44,66)\"],[1,\"rgb(90,179,244)\"]],\"type\":\"histogram2dcontour\"}],\"histogram2d\":[{\"colorbar\":{\"outlinewidth\":0,\"tickcolor\":\"rgb(237,237,237)\",\"ticklen\":6,\"ticks\":\"inside\"},\"colorscale\":[[0,\"rgb(20,44,66)\"],[1,\"rgb(90,179,244)\"]],\"type\":\"histogram2d\"}],\"histogram\":[{\"marker\":{\"pattern\":{\"fillmode\":\"overlay\",\"size\":10,\"solidity\":0.2}},\"type\":\"histogram\"}],\"mesh3d\":[{\"colorbar\":{\"outlinewidth\":0,\"tickcolor\":\"rgb(237,237,237)\",\"ticklen\":6,\"ticks\":\"inside\"},\"type\":\"mesh3d\"}],\"parcoords\":[{\"line\":{\"colorbar\":{\"outlinewidth\":0,\"tickcolor\":\"rgb(237,237,237)\",\"ticklen\":6,\"ticks\":\"inside\"}},\"type\":\"parcoords\"}],\"pie\":[{\"automargin\":true,\"type\":\"pie\"}],\"scatter3d\":[{\"line\":{\"colorbar\":{\"outlinewidth\":0,\"tickcolor\":\"rgb(237,237,237)\",\"ticklen\":6,\"ticks\":\"inside\"}},\"marker\":{\"colorbar\":{\"outlinewidth\":0,\"tickcolor\":\"rgb(237,237,237)\",\"ticklen\":6,\"ticks\":\"inside\"}},\"type\":\"scatter3d\"}],\"scattercarpet\":[{\"marker\":{\"colorbar\":{\"outlinewidth\":0,\"tickcolor\":\"rgb(237,237,237)\",\"ticklen\":6,\"ticks\":\"inside\"}},\"type\":\"scattercarpet\"}],\"scattergeo\":[{\"marker\":{\"colorbar\":{\"outlinewidth\":0,\"tickcolor\":\"rgb(237,237,237)\",\"ticklen\":6,\"ticks\":\"inside\"}},\"type\":\"scattergeo\"}],\"scattergl\":[{\"marker\":{\"colorbar\":{\"outlinewidth\":0,\"tickcolor\":\"rgb(237,237,237)\",\"ticklen\":6,\"ticks\":\"inside\"}},\"type\":\"scattergl\"}],\"scattermapbox\":[{\"marker\":{\"colorbar\":{\"outlinewidth\":0,\"tickcolor\":\"rgb(237,237,237)\",\"ticklen\":6,\"ticks\":\"inside\"}},\"type\":\"scattermapbox\"}],\"scatterpolargl\":[{\"marker\":{\"colorbar\":{\"outlinewidth\":0,\"tickcolor\":\"rgb(237,237,237)\",\"ticklen\":6,\"ticks\":\"inside\"}},\"type\":\"scatterpolargl\"}],\"scatterpolar\":[{\"marker\":{\"colorbar\":{\"outlinewidth\":0,\"tickcolor\":\"rgb(237,237,237)\",\"ticklen\":6,\"ticks\":\"inside\"}},\"type\":\"scatterpolar\"}],\"scatter\":[{\"fillpattern\":{\"fillmode\":\"overlay\",\"size\":10,\"solidity\":0.2},\"type\":\"scatter\"}],\"scatterternary\":[{\"marker\":{\"colorbar\":{\"outlinewidth\":0,\"tickcolor\":\"rgb(237,237,237)\",\"ticklen\":6,\"ticks\":\"inside\"}},\"type\":\"scatterternary\"}],\"surface\":[{\"colorbar\":{\"outlinewidth\":0,\"tickcolor\":\"rgb(237,237,237)\",\"ticklen\":6,\"ticks\":\"inside\"},\"colorscale\":[[0,\"rgb(20,44,66)\"],[1,\"rgb(90,179,244)\"]],\"type\":\"surface\"}],\"table\":[{\"cells\":{\"fill\":{\"color\":\"rgb(237,237,237)\"},\"line\":{\"color\":\"white\"}},\"header\":{\"fill\":{\"color\":\"rgb(217,217,217)\"},\"line\":{\"color\":\"white\"}},\"type\":\"table\"}]},\"layout\":{\"annotationdefaults\":{\"arrowhead\":0,\"arrowwidth\":1},\"autotypenumbers\":\"strict\",\"coloraxis\":{\"colorbar\":{\"outlinewidth\":0,\"tickcolor\":\"rgb(237,237,237)\",\"ticklen\":6,\"ticks\":\"inside\"}},\"colorscale\":{\"sequential\":[[0,\"rgb(20,44,66)\"],[1,\"rgb(90,179,244)\"]],\"sequentialminus\":[[0,\"rgb(20,44,66)\"],[1,\"rgb(90,179,244)\"]]},\"colorway\":[\"#F8766D\",\"#A3A500\",\"#00BF7D\",\"#00B0F6\",\"#E76BF3\"],\"font\":{\"color\":\"rgb(51,51,51)\"},\"geo\":{\"bgcolor\":\"white\",\"lakecolor\":\"white\",\"landcolor\":\"rgb(237,237,237)\",\"showlakes\":true,\"showland\":true,\"subunitcolor\":\"white\"},\"hoverlabel\":{\"align\":\"left\"},\"hovermode\":\"closest\",\"paper_bgcolor\":\"white\",\"plot_bgcolor\":\"rgb(237,237,237)\",\"polar\":{\"angularaxis\":{\"gridcolor\":\"white\",\"linecolor\":\"white\",\"showgrid\":true,\"tickcolor\":\"rgb(51,51,51)\",\"ticks\":\"outside\"},\"bgcolor\":\"rgb(237,237,237)\",\"radialaxis\":{\"gridcolor\":\"white\",\"linecolor\":\"white\",\"showgrid\":true,\"tickcolor\":\"rgb(51,51,51)\",\"ticks\":\"outside\"}},\"scene\":{\"xaxis\":{\"backgroundcolor\":\"rgb(237,237,237)\",\"gridcolor\":\"white\",\"gridwidth\":2,\"linecolor\":\"white\",\"showbackground\":true,\"showgrid\":true,\"tickcolor\":\"rgb(51,51,51)\",\"ticks\":\"outside\",\"zerolinecolor\":\"white\"},\"yaxis\":{\"backgroundcolor\":\"rgb(237,237,237)\",\"gridcolor\":\"white\",\"gridwidth\":2,\"linecolor\":\"white\",\"showbackground\":true,\"showgrid\":true,\"tickcolor\":\"rgb(51,51,51)\",\"ticks\":\"outside\",\"zerolinecolor\":\"white\"},\"zaxis\":{\"backgroundcolor\":\"rgb(237,237,237)\",\"gridcolor\":\"white\",\"gridwidth\":2,\"linecolor\":\"white\",\"showbackground\":true,\"showgrid\":true,\"tickcolor\":\"rgb(51,51,51)\",\"ticks\":\"outside\",\"zerolinecolor\":\"white\"}},\"shapedefaults\":{\"fillcolor\":\"black\",\"line\":{\"width\":0},\"opacity\":0.3},\"ternary\":{\"aaxis\":{\"gridcolor\":\"white\",\"linecolor\":\"white\",\"showgrid\":true,\"tickcolor\":\"rgb(51,51,51)\",\"ticks\":\"outside\"},\"baxis\":{\"gridcolor\":\"white\",\"linecolor\":\"white\",\"showgrid\":true,\"tickcolor\":\"rgb(51,51,51)\",\"ticks\":\"outside\"},\"bgcolor\":\"rgb(237,237,237)\",\"caxis\":{\"gridcolor\":\"white\",\"linecolor\":\"white\",\"showgrid\":true,\"tickcolor\":\"rgb(51,51,51)\",\"ticks\":\"outside\"}},\"xaxis\":{\"automargin\":true,\"gridcolor\":\"white\",\"linecolor\":\"white\",\"showgrid\":true,\"tickcolor\":\"rgb(51,51,51)\",\"ticks\":\"outside\",\"title\":{\"standoff\":15},\"zerolinecolor\":\"white\"},\"yaxis\":{\"automargin\":true,\"gridcolor\":\"white\",\"linecolor\":\"white\",\"showgrid\":true,\"tickcolor\":\"rgb(51,51,51)\",\"ticks\":\"outside\",\"title\":{\"standoff\":15},\"zerolinecolor\":\"white\"}}},\"xaxis\":{\"anchor\":\"y\",\"domain\":[0.0,0.98],\"title\":{\"text\":\"percentage\"},\"dtick\":0.1,\"tickformat\":\".0%\"},\"yaxis\":{\"anchor\":\"x\",\"domain\":[0.0,0.2275],\"title\":{\"text\":\"flipon\"},\"categoryorder\":\"array\",\"categoryarray\":[\"<b>SIDD(\\u00b1500bp)</b> (15,294)\",\"<b>SIDD(\\u00b1200bp)</b> (15,294)\",\"<b>SIDD(\\u00b1100bp)</b> (15,294)\",\"<b>SIDD & miRNA</b> (12,143)\",\"<b>SIDD</b> (15,294)\",\"<b>H-DNA & SIDD(\\u00b1500bp)</b> (2,560)\",\"<b>H-DNA & SIDD(\\u00b1200bp)</b> (2,249)\",\"<b>H-DNA & SIDD(\\u00b1100bp)</b> (2,016)\",\"<b>H-DNA & miRNA</b> (1,474)\",\"<b>H-DNA</b> (17,098)\",\"<b>G4 & SIDD(\\u00b1500bp)</b> (3,089)\",\"<b>G4 & SIDD(\\u00b1200bp)</b> (2,534)\",\"<b>G4 & SIDD(\\u00b1100bp)</b> (2,250)\",\"<b>G4 & miRNA</b> (4,569)\",\"<b>G4</b> (20,251)\",\"<b>Z-DNA & SIDD(\\u00b1500bp)</b> (1,801)\",\"<b>Z-DNA & SIDD(\\u00b1200bp)</b> (1,116)\",\"<b>Z-DNA & SIDD(\\u00b1100p)</b> (757)\",\"<b>Z-DNA & miRNA</b> (3,391)\",\"<b>Z-DNA</b> (25,057)\"]},\"xaxis2\":{\"anchor\":\"y2\",\"domain\":[0.0,0.98],\"matches\":\"x\",\"showticklabels\":false,\"dtick\":0.1,\"tickformat\":\".0%\"},\"yaxis2\":{\"anchor\":\"x2\",\"domain\":[0.2575,0.485],\"title\":{\"text\":\"flipon\"},\"categoryorder\":\"array\",\"categoryarray\":[\"<b>SIDD(\\u00b1500bp)</b> (15,294)\",\"<b>SIDD(\\u00b1200bp)</b> (15,294)\",\"<b>SIDD(\\u00b1100bp)</b> (15,294)\",\"<b>SIDD & miRNA</b> (12,143)\",\"<b>SIDD</b> (15,294)\",\"<b>H-DNA & SIDD(\\u00b1500bp)</b> (2,560)\",\"<b>H-DNA & SIDD(\\u00b1200bp)</b> (2,249)\",\"<b>H-DNA & SIDD(\\u00b1100bp)</b> (2,016)\",\"<b>H-DNA & miRNA</b> (1,474)\",\"<b>H-DNA</b> (17,098)\",\"<b>G4 & SIDD(\\u00b1500bp)</b> (3,089)\",\"<b>G4 & SIDD(\\u00b1200bp)</b> (2,534)\",\"<b>G4 & SIDD(\\u00b1100bp)</b> (2,250)\",\"<b>G4 & miRNA</b> (4,569)\",\"<b>G4</b> (20,251)\",\"<b>Z-DNA & SIDD(\\u00b1500bp)</b> (1,801)\",\"<b>Z-DNA & SIDD(\\u00b1200bp)</b> (1,116)\",\"<b>Z-DNA & SIDD(\\u00b1100p)</b> (757)\",\"<b>Z-DNA & miRNA</b> (3,391)\",\"<b>Z-DNA</b> (25,057)\"]},\"xaxis3\":{\"anchor\":\"y3\",\"domain\":[0.0,0.98],\"matches\":\"x\",\"showticklabels\":false,\"dtick\":0.1,\"tickformat\":\".0%\"},\"yaxis3\":{\"anchor\":\"x3\",\"domain\":[0.515,0.7425],\"title\":{\"text\":\"flipon\"},\"categoryorder\":\"array\",\"categoryarray\":[\"<b>SIDD(\\u00b1500bp)</b> (15,294)\",\"<b>SIDD(\\u00b1200bp)</b> (15,294)\",\"<b>SIDD(\\u00b1100bp)</b> (15,294)\",\"<b>SIDD & miRNA</b> (12,143)\",\"<b>SIDD</b> (15,294)\",\"<b>H-DNA & SIDD(\\u00b1500bp)</b> (2,560)\",\"<b>H-DNA & SIDD(\\u00b1200bp)</b> (2,249)\",\"<b>H-DNA & SIDD(\\u00b1100bp)</b> (2,016)\",\"<b>H-DNA & miRNA</b> (1,474)\",\"<b>H-DNA</b> (17,098)\",\"<b>G4 & SIDD(\\u00b1500bp)</b> (3,089)\",\"<b>G4 & SIDD(\\u00b1200bp)</b> (2,534)\",\"<b>G4 & SIDD(\\u00b1100bp)</b> (2,250)\",\"<b>G4 & miRNA</b> (4,569)\",\"<b>G4</b> (20,251)\",\"<b>Z-DNA & SIDD(\\u00b1500bp)</b> (1,801)\",\"<b>Z-DNA & SIDD(\\u00b1200bp)</b> (1,116)\",\"<b>Z-DNA & SIDD(\\u00b1100p)</b> (757)\",\"<b>Z-DNA & miRNA</b> (3,391)\",\"<b>Z-DNA</b> (25,057)\"]},\"xaxis4\":{\"anchor\":\"y4\",\"domain\":[0.0,0.98],\"matches\":\"x\",\"showticklabels\":false,\"dtick\":0.1,\"tickformat\":\".0%\"},\"yaxis4\":{\"anchor\":\"x4\",\"domain\":[0.7725,1.0],\"title\":{\"text\":\"flipon\"},\"categoryorder\":\"array\",\"categoryarray\":[\"<b>SIDD(\\u00b1500bp)</b> (15,294)\",\"<b>SIDD(\\u00b1200bp)</b> (15,294)\",\"<b>SIDD(\\u00b1100bp)</b> (15,294)\",\"<b>SIDD & miRNA</b> (12,143)\",\"<b>SIDD</b> (15,294)\",\"<b>H-DNA & SIDD(\\u00b1500bp)</b> (2,560)\",\"<b>H-DNA & SIDD(\\u00b1200bp)</b> (2,249)\",\"<b>H-DNA & SIDD(\\u00b1100bp)</b> (2,016)\",\"<b>H-DNA & miRNA</b> (1,474)\",\"<b>H-DNA</b> (17,098)\",\"<b>G4 & SIDD(\\u00b1500bp)</b> (3,089)\",\"<b>G4 & SIDD(\\u00b1200bp)</b> (2,534)\",\"<b>G4 & SIDD(\\u00b1100bp)</b> (2,250)\",\"<b>G4 & miRNA</b> (4,569)\",\"<b>G4</b> (20,251)\",\"<b>Z-DNA & SIDD(\\u00b1500bp)</b> (1,801)\",\"<b>Z-DNA & SIDD(\\u00b1200bp)</b> (1,116)\",\"<b>Z-DNA & SIDD(\\u00b1100p)</b> (757)\",\"<b>Z-DNA & miRNA</b> (3,391)\",\"<b>Z-DNA</b> (25,057)\"]},\"annotations\":[{\"font\":{},\"showarrow\":false,\"text\":\"group=<b>H-DNA\",\"textangle\":90,\"x\":0.98,\"xanchor\":\"left\",\"xref\":\"paper\",\"y\":0.11375,\"yanchor\":\"middle\",\"yref\":\"paper\"},{\"font\":{},\"showarrow\":false,\"text\":\"group=<b>G4\",\"textangle\":90,\"x\":0.98,\"xanchor\":\"left\",\"xref\":\"paper\",\"y\":0.37124999999999997,\"yanchor\":\"middle\",\"yref\":\"paper\"},{\"font\":{},\"showarrow\":false,\"text\":\"group=<b>SIDD\",\"textangle\":90,\"x\":0.98,\"xanchor\":\"left\",\"xref\":\"paper\",\"y\":0.62875,\"yanchor\":\"middle\",\"yref\":\"paper\"},{\"font\":{},\"showarrow\":false,\"text\":\"group=<b>Z-DNA\",\"textangle\":90,\"x\":0.98,\"xanchor\":\"left\",\"xref\":\"paper\",\"y\":0.88625,\"yanchor\":\"middle\",\"yref\":\"paper\"}],\"legend\":{\"title\":{\"text\":\"annotation\"},\"tracegroupgap\":0},\"margin\":{\"t\":60},\"barmode\":\"relative\",\"font\":{\"family\":\"monospace\",\"size\":12},\"uniformtext\":{\"minsize\":12,\"mode\":\"hide\"},\"height\":900,\"width\":1400},                        {\"responsive\": true}                    ).then(function(){\n",
              "                            \n",
              "var gd = document.getElementById('6005d7d2-4195-4c72-b3d3-32bcedebd76b');\n",
              "var x = new MutationObserver(function (mutations, observer) {{\n",
              "        var display = window.getComputedStyle(gd).display;\n",
              "        if (!display || display === 'none') {{\n",
              "            console.log([gd, 'removed!']);\n",
              "            Plotly.purge(gd);\n",
              "            observer.disconnect();\n",
              "        }}\n",
              "}});\n",
              "\n",
              "// Listen for the removal of the full notebook cells\n",
              "var notebookContainer = gd.closest('#notebook-container');\n",
              "if (notebookContainer) {{\n",
              "    x.observe(notebookContainer, {childList: true});\n",
              "}}\n",
              "\n",
              "// Listen for the clearing of the current output cell\n",
              "var outputEl = gd.closest('.output');\n",
              "if (outputEl) {{\n",
              "    x.observe(outputEl, {childList: true});\n",
              "}}\n",
              "\n",
              "                        })                };                });            </script>        </div>"
            ]
          },
          "metadata": {},
          "output_type": "display_data"
        }
      ],
      "source": [
        "import plotly.express as px\n",
        "\n",
        "fig = px.bar(\n",
        "    plotly_df,\n",
        "    x=\"percentage\",\n",
        "    facet_row=\"group\",\n",
        "    color=\"annotation\",\n",
        "    y=\"flipon\",\n",
        "    text_auto=\".1%\",\n",
        "    orientation=\"h\",\n",
        "    category_orders={\"flipon\": flipon_order},\n",
        ")\n",
        "\n",
        "\n",
        "# fig.update_yaxes(\n",
        "#     ticks=\"\",\n",
        "#     type=\"category\",\n",
        "#     categoryarray=plotly_df.sort_values(\"annotation\", ascending=True)[\"annotation\"].unique(),\n",
        "#     categoryorder=\"array\",\n",
        "# )\n",
        "\n",
        "fig.update_xaxes(\n",
        "    dtick=.1,\n",
        "    tickformat='.0%',\n",
        ")\n",
        "\n",
        "fig.update_yaxes(\n",
        "    matches=None,\n",
        ")\n",
        "\n",
        "fig.update_layout(\n",
        "    font=dict(family=\"monospace\", size=12),\n",
        "    uniformtext_minsize=12,\n",
        "    uniformtext_mode=\"hide\",\n",
        "    height=900,\n",
        "    width=1400,\n",
        "    template=\"ggplot2\",\n",
        ")\n",
        "\n",
        "fig.show()\n"
      ]
    },
    {
      "cell_type": "markdown",
      "metadata": {
        "id": "-DzXPP3yRlZ6"
      },
      "source": [
        "## Plots"
      ]
    },
    {
      "cell_type": "code",
      "execution_count": 11,
      "metadata": {
        "id": "uwblLmToQSRa"
      },
      "outputs": [],
      "source": [
        "\"\"\"Define necessary functions for plotting.\"\"\"\n",
        "\n",
        "\n",
        "def get_category_value(category: str, raw_text_data: str):\n",
        "    \"\"\"Parse raw text input from chipSeeker and return value.\"\"\"\n",
        "\n",
        "    if category not in raw_text_data:\n",
        "        return 0\n",
        "    return float(raw_text_data.split(category)[1].split(\"\\n\")[0].strip())\n",
        "\n",
        "\n",
        "def draw_pie_subplots(data: list, rows: int, cols: int, title: str = \"result\"):\n",
        "    \"\"\"Draw a pie chart.\"\"\"\n",
        "\n",
        "    fig = make_subplots(\n",
        "        rows=rows,\n",
        "        cols=cols,\n",
        "        specs=np.full((rows, cols), {\"type\": \"domain\"}).tolist(),\n",
        "        horizontal_spacing=0.04,\n",
        "        subplot_titles=[x[0] for x in data],\n",
        "    )\n",
        "\n",
        "    for i, (data_name, data_raw) in enumerate(data):\n",
        "        categories = pd.DataFrame(\n",
        "            {\n",
        "                \"label\": [\n",
        "                    \"Promoter (<=1kb)\",\n",
        "                    \"Promoter (1-2kb)\",\n",
        "                    \"Promoter (2-3kb)\",\n",
        "                    \"5' UTR\",\n",
        "                    \"3' UTR\",\n",
        "                    \"1st Exon\",\n",
        "                    \"Other Exon\",\n",
        "                    \"1st Intron\",\n",
        "                    \"Other Intron\",\n",
        "                    \"Downstream (<=300)\",\n",
        "                    \"Distal Intergenic\",\n",
        "                ],\n",
        "                \"parent\": [\n",
        "                    \"Promoter\",\n",
        "                    \"Promoter\",\n",
        "                    \"Promoter\",\n",
        "                    \"Gene body\",\n",
        "                    \"Gene body\",\n",
        "                    \"Gene body\",\n",
        "                    \"Gene body\",\n",
        "                    \"Gene body\",\n",
        "                    \"Gene body\",\n",
        "                    \"Intergenic\",\n",
        "                    \"Intergenic\",\n",
        "                ],\n",
        "                \"value\": None,\n",
        "            }\n",
        "        )\n",
        "\n",
        "        for idx, row in categories.iterrows():\n",
        "            categories.loc[idx, \"value\"] = get_category_value(row[\"label\"], data_raw)\n",
        "\n",
        "        # categories.loc[len(categories)] = ['Total', '', categories['value'].sum()]\n",
        "        # categories.loc[len(categories)] = ['Promoter', '', categories[categories['parent']==\"Promoter\"]['value'].sum()]\n",
        "        # categories.loc[len(categories)] = ['Gene body', '', categories[categories['parent']==\"Gene body\"]['value'].sum()]\n",
        "        # categories.loc[len(categories)] = ['Intergenic', '', categories[categories['parent']==\"Intergenic\"]['value'].sum()]\n",
        "\n",
        "        # fig.add_trace(\n",
        "        #     go.Sunburst(\n",
        "        #         sort=False,\n",
        "        #         rotation=0,\n",
        "        #         labels=categories['label'],\n",
        "        #         parents=categories['parent'],\n",
        "        #         values=categories['value'],\n",
        "        #         name=data_name,\n",
        "        #         branchvalues='total',\n",
        "        #         insidetextorientation='radial',\n",
        "        #     ),\n",
        "        #     1,\n",
        "        #     i + 1,\n",
        "        # )\n",
        "        fig.add_trace(\n",
        "            go.Pie(\n",
        "                sort=False,\n",
        "                rotation=0,\n",
        "                direction=\"clockwise\",\n",
        "                labels=categories[\"label\"],\n",
        "                values=categories[\"value\"],\n",
        "                name=data_name,\n",
        "                # marker=dict(colors=['royalblue', 'cornflowerblue', 'dodgerblue', 'tomato', 'orangered', 'darkorange', 'orange', 'coral', 'limegreen', 'black', 'seagreen']),\n",
        "                # marker=dict(colors=px.colors.sequential.thermal),\n",
        "            ),\n",
        "            1,\n",
        "            i + 1,\n",
        "        )\n",
        "\n",
        "    fig.update_traces(\n",
        "        hole=0.35, hoverinfo=\"label+percent+name\", texttemplate=\"%{value:.2f}%\"\n",
        "    )\n",
        "\n",
        "    fig.update_annotations(yshift=20)\n",
        "\n",
        "    fig.update_layout(\n",
        "        uniformtext_minsize=10,\n",
        "        uniformtext_mode=\"hide\",\n",
        "        font=dict(family=\"monospace\", size=14),\n",
        "        margin=dict(t=60, b=0, l=0),\n",
        "        legend=dict(\n",
        "            # yanchor=\"top\",\n",
        "            # y=0.99,\n",
        "            xanchor=\"left\",\n",
        "            x=1.025\n",
        "        ),\n",
        "        height=500,\n",
        "        width=1800,\n",
        "    )\n",
        "    fig.write_image(title + \".png\")\n",
        "    fig.show()\n"
      ]
    },
    {
      "cell_type": "code",
      "execution_count": 12,
      "metadata": {
        "colab": {
          "base_uri": "https://localhost:8080/",
          "height": 1000
        },
        "id": "5gXEny3aQVlF",
        "outputId": "8570d886-c04e-4487-f46f-944736f2f468"
      },
      "outputs": [
        {
          "data": {
            "application/vnd.plotly.v1+json": {
              "config": {
                "plotlyServerURL": "https://plot.ly"
              },
              "data": [
                {
                  "direction": "clockwise",
                  "domain": {
                    "x": [
                      0,
                      0.22
                    ],
                    "y": [
                      0,
                      1
                    ]
                  },
                  "hole": 0.35,
                  "hoverinfo": "label+percent+name",
                  "labels": [
                    "Promoter (<=1kb)",
                    "Promoter (1-2kb)",
                    "Promoter (2-3kb)",
                    "5' UTR",
                    "3' UTR",
                    "1st Exon",
                    "Other Exon",
                    "1st Intron",
                    "Other Intron",
                    "Downstream (<=300)",
                    "Distal Intergenic"
                  ],
                  "name": "<b>Z-DNA</b> (25,057)",
                  "rotation": 0,
                  "sort": false,
                  "texttemplate": "%{value:.2f}%",
                  "type": "pie",
                  "values": [
                    40.9513548,
                    5.89808053,
                    3.73518496,
                    0.02394349,
                    0.81806936,
                    0.01596233,
                    3.09669181,
                    4.93235963,
                    12.46258829,
                    0.05586815,
                    28.00989664
                  ]
                },
                {
                  "direction": "clockwise",
                  "domain": {
                    "x": [
                      0.26,
                      0.48
                    ],
                    "y": [
                      0,
                      1
                    ]
                  },
                  "hole": 0.35,
                  "hoverinfo": "label+percent+name",
                  "labels": [
                    "Promoter (<=1kb)",
                    "Promoter (1-2kb)",
                    "Promoter (2-3kb)",
                    "5' UTR",
                    "3' UTR",
                    "1st Exon",
                    "Other Exon",
                    "1st Intron",
                    "Other Intron",
                    "Downstream (<=300)",
                    "Distal Intergenic"
                  ],
                  "name": "<b>SIDD</b> (15,294)",
                  "rotation": 0,
                  "sort": false,
                  "texttemplate": "%{value:.2f}%",
                  "type": "pie",
                  "values": [
                    6.74032427,
                    4.19717573,
                    3.37996862,
                    0.01307531,
                    0.92180962,
                    0.0457636,
                    0.47724895,
                    7.3875523,
                    18.59309623,
                    0.07191423,
                    58.17207113
                  ]
                },
                {
                  "direction": "clockwise",
                  "domain": {
                    "x": [
                      0.52,
                      0.74
                    ],
                    "y": [
                      0,
                      1
                    ]
                  },
                  "hole": 0.35,
                  "hoverinfo": "label+percent+name",
                  "labels": [
                    "Promoter (<=1kb)",
                    "Promoter (1-2kb)",
                    "Promoter (2-3kb)",
                    "5' UTR",
                    "3' UTR",
                    "1st Exon",
                    "Other Exon",
                    "1st Intron",
                    "Other Intron",
                    "Downstream (<=300)",
                    "Distal Intergenic"
                  ],
                  "name": "<b>G4</b> (20,251)",
                  "rotation": 0,
                  "sort": false,
                  "texttemplate": "%{value:.2f}%",
                  "type": "pie",
                  "values": [
                    36.5871723,
                    5.5448576,
                    3.4760282,
                    0.0493754,
                    1.1603219,
                    0.0246877,
                    1.5256999,
                    5.4510443,
                    13.5930479,
                    0.0740631,
                    32.5137017
                  ]
                },
                {
                  "direction": "clockwise",
                  "domain": {
                    "x": [
                      0.78,
                      1
                    ],
                    "y": [
                      0,
                      1
                    ]
                  },
                  "hole": 0.35,
                  "hoverinfo": "label+percent+name",
                  "labels": [
                    "Promoter (<=1kb)",
                    "Promoter (1-2kb)",
                    "Promoter (2-3kb)",
                    "5' UTR",
                    "3' UTR",
                    "1st Exon",
                    "Other Exon",
                    "1st Intron",
                    "Other Intron",
                    "Downstream (<=300)",
                    "Distal Intergenic"
                  ],
                  "name": "<b>H-DNA</b> (17,098)",
                  "rotation": 0,
                  "sort": false,
                  "texttemplate": "%{value:.2f}%",
                  "type": "pie",
                  "values": [
                    11.69005848,
                    4.520467836,
                    3.69005848,
                    0.005847953,
                    0.543859649,
                    0.023391813,
                    0.34502924,
                    8,
                    20.087719298,
                    0.040935673,
                    51.052631579
                  ]
                }
              ],
              "layout": {
                "annotations": [
                  {
                    "font": {
                      "size": 16
                    },
                    "showarrow": false,
                    "text": "<b>Z-DNA</b> (25,057)",
                    "x": 0.11,
                    "xanchor": "center",
                    "xref": "paper",
                    "y": 1,
                    "yanchor": "bottom",
                    "yref": "paper",
                    "yshift": 20
                  },
                  {
                    "font": {
                      "size": 16
                    },
                    "showarrow": false,
                    "text": "<b>SIDD</b> (15,294)",
                    "x": 0.37,
                    "xanchor": "center",
                    "xref": "paper",
                    "y": 1,
                    "yanchor": "bottom",
                    "yref": "paper",
                    "yshift": 20
                  },
                  {
                    "font": {
                      "size": 16
                    },
                    "showarrow": false,
                    "text": "<b>G4</b> (20,251)",
                    "x": 0.63,
                    "xanchor": "center",
                    "xref": "paper",
                    "y": 1,
                    "yanchor": "bottom",
                    "yref": "paper",
                    "yshift": 20
                  },
                  {
                    "font": {
                      "size": 16
                    },
                    "showarrow": false,
                    "text": "<b>H-DNA</b> (17,098)",
                    "x": 0.89,
                    "xanchor": "center",
                    "xref": "paper",
                    "y": 1,
                    "yanchor": "bottom",
                    "yref": "paper",
                    "yshift": 20
                  }
                ],
                "font": {
                  "family": "monospace",
                  "size": 14
                },
                "height": 500,
                "legend": {
                  "x": 1.025,
                  "xanchor": "left"
                },
                "margin": {
                  "b": 0,
                  "l": 0,
                  "t": 60
                },
                "template": {
                  "data": {
                    "bar": [
                      {
                        "error_x": {
                          "color": "#2a3f5f"
                        },
                        "error_y": {
                          "color": "#2a3f5f"
                        },
                        "marker": {
                          "line": {
                            "color": "#E5ECF6",
                            "width": 0.5
                          },
                          "pattern": {
                            "fillmode": "overlay",
                            "size": 10,
                            "solidity": 0.2
                          }
                        },
                        "type": "bar"
                      }
                    ],
                    "barpolar": [
                      {
                        "marker": {
                          "line": {
                            "color": "#E5ECF6",
                            "width": 0.5
                          },
                          "pattern": {
                            "fillmode": "overlay",
                            "size": 10,
                            "solidity": 0.2
                          }
                        },
                        "type": "barpolar"
                      }
                    ],
                    "carpet": [
                      {
                        "aaxis": {
                          "endlinecolor": "#2a3f5f",
                          "gridcolor": "white",
                          "linecolor": "white",
                          "minorgridcolor": "white",
                          "startlinecolor": "#2a3f5f"
                        },
                        "baxis": {
                          "endlinecolor": "#2a3f5f",
                          "gridcolor": "white",
                          "linecolor": "white",
                          "minorgridcolor": "white",
                          "startlinecolor": "#2a3f5f"
                        },
                        "type": "carpet"
                      }
                    ],
                    "choropleth": [
                      {
                        "colorbar": {
                          "outlinewidth": 0,
                          "ticks": ""
                        },
                        "type": "choropleth"
                      }
                    ],
                    "contour": [
                      {
                        "colorbar": {
                          "outlinewidth": 0,
                          "ticks": ""
                        },
                        "colorscale": [
                          [
                            0,
                            "#0d0887"
                          ],
                          [
                            0.1111111111111111,
                            "#46039f"
                          ],
                          [
                            0.2222222222222222,
                            "#7201a8"
                          ],
                          [
                            0.3333333333333333,
                            "#9c179e"
                          ],
                          [
                            0.4444444444444444,
                            "#bd3786"
                          ],
                          [
                            0.5555555555555556,
                            "#d8576b"
                          ],
                          [
                            0.6666666666666666,
                            "#ed7953"
                          ],
                          [
                            0.7777777777777778,
                            "#fb9f3a"
                          ],
                          [
                            0.8888888888888888,
                            "#fdca26"
                          ],
                          [
                            1,
                            "#f0f921"
                          ]
                        ],
                        "type": "contour"
                      }
                    ],
                    "contourcarpet": [
                      {
                        "colorbar": {
                          "outlinewidth": 0,
                          "ticks": ""
                        },
                        "type": "contourcarpet"
                      }
                    ],
                    "heatmap": [
                      {
                        "colorbar": {
                          "outlinewidth": 0,
                          "ticks": ""
                        },
                        "colorscale": [
                          [
                            0,
                            "#0d0887"
                          ],
                          [
                            0.1111111111111111,
                            "#46039f"
                          ],
                          [
                            0.2222222222222222,
                            "#7201a8"
                          ],
                          [
                            0.3333333333333333,
                            "#9c179e"
                          ],
                          [
                            0.4444444444444444,
                            "#bd3786"
                          ],
                          [
                            0.5555555555555556,
                            "#d8576b"
                          ],
                          [
                            0.6666666666666666,
                            "#ed7953"
                          ],
                          [
                            0.7777777777777778,
                            "#fb9f3a"
                          ],
                          [
                            0.8888888888888888,
                            "#fdca26"
                          ],
                          [
                            1,
                            "#f0f921"
                          ]
                        ],
                        "type": "heatmap"
                      }
                    ],
                    "heatmapgl": [
                      {
                        "colorbar": {
                          "outlinewidth": 0,
                          "ticks": ""
                        },
                        "colorscale": [
                          [
                            0,
                            "#0d0887"
                          ],
                          [
                            0.1111111111111111,
                            "#46039f"
                          ],
                          [
                            0.2222222222222222,
                            "#7201a8"
                          ],
                          [
                            0.3333333333333333,
                            "#9c179e"
                          ],
                          [
                            0.4444444444444444,
                            "#bd3786"
                          ],
                          [
                            0.5555555555555556,
                            "#d8576b"
                          ],
                          [
                            0.6666666666666666,
                            "#ed7953"
                          ],
                          [
                            0.7777777777777778,
                            "#fb9f3a"
                          ],
                          [
                            0.8888888888888888,
                            "#fdca26"
                          ],
                          [
                            1,
                            "#f0f921"
                          ]
                        ],
                        "type": "heatmapgl"
                      }
                    ],
                    "histogram": [
                      {
                        "marker": {
                          "pattern": {
                            "fillmode": "overlay",
                            "size": 10,
                            "solidity": 0.2
                          }
                        },
                        "type": "histogram"
                      }
                    ],
                    "histogram2d": [
                      {
                        "colorbar": {
                          "outlinewidth": 0,
                          "ticks": ""
                        },
                        "colorscale": [
                          [
                            0,
                            "#0d0887"
                          ],
                          [
                            0.1111111111111111,
                            "#46039f"
                          ],
                          [
                            0.2222222222222222,
                            "#7201a8"
                          ],
                          [
                            0.3333333333333333,
                            "#9c179e"
                          ],
                          [
                            0.4444444444444444,
                            "#bd3786"
                          ],
                          [
                            0.5555555555555556,
                            "#d8576b"
                          ],
                          [
                            0.6666666666666666,
                            "#ed7953"
                          ],
                          [
                            0.7777777777777778,
                            "#fb9f3a"
                          ],
                          [
                            0.8888888888888888,
                            "#fdca26"
                          ],
                          [
                            1,
                            "#f0f921"
                          ]
                        ],
                        "type": "histogram2d"
                      }
                    ],
                    "histogram2dcontour": [
                      {
                        "colorbar": {
                          "outlinewidth": 0,
                          "ticks": ""
                        },
                        "colorscale": [
                          [
                            0,
                            "#0d0887"
                          ],
                          [
                            0.1111111111111111,
                            "#46039f"
                          ],
                          [
                            0.2222222222222222,
                            "#7201a8"
                          ],
                          [
                            0.3333333333333333,
                            "#9c179e"
                          ],
                          [
                            0.4444444444444444,
                            "#bd3786"
                          ],
                          [
                            0.5555555555555556,
                            "#d8576b"
                          ],
                          [
                            0.6666666666666666,
                            "#ed7953"
                          ],
                          [
                            0.7777777777777778,
                            "#fb9f3a"
                          ],
                          [
                            0.8888888888888888,
                            "#fdca26"
                          ],
                          [
                            1,
                            "#f0f921"
                          ]
                        ],
                        "type": "histogram2dcontour"
                      }
                    ],
                    "mesh3d": [
                      {
                        "colorbar": {
                          "outlinewidth": 0,
                          "ticks": ""
                        },
                        "type": "mesh3d"
                      }
                    ],
                    "parcoords": [
                      {
                        "line": {
                          "colorbar": {
                            "outlinewidth": 0,
                            "ticks": ""
                          }
                        },
                        "type": "parcoords"
                      }
                    ],
                    "pie": [
                      {
                        "automargin": true,
                        "type": "pie"
                      }
                    ],
                    "scatter": [
                      {
                        "fillpattern": {
                          "fillmode": "overlay",
                          "size": 10,
                          "solidity": 0.2
                        },
                        "type": "scatter"
                      }
                    ],
                    "scatter3d": [
                      {
                        "line": {
                          "colorbar": {
                            "outlinewidth": 0,
                            "ticks": ""
                          }
                        },
                        "marker": {
                          "colorbar": {
                            "outlinewidth": 0,
                            "ticks": ""
                          }
                        },
                        "type": "scatter3d"
                      }
                    ],
                    "scattercarpet": [
                      {
                        "marker": {
                          "colorbar": {
                            "outlinewidth": 0,
                            "ticks": ""
                          }
                        },
                        "type": "scattercarpet"
                      }
                    ],
                    "scattergeo": [
                      {
                        "marker": {
                          "colorbar": {
                            "outlinewidth": 0,
                            "ticks": ""
                          }
                        },
                        "type": "scattergeo"
                      }
                    ],
                    "scattergl": [
                      {
                        "marker": {
                          "colorbar": {
                            "outlinewidth": 0,
                            "ticks": ""
                          }
                        },
                        "type": "scattergl"
                      }
                    ],
                    "scattermapbox": [
                      {
                        "marker": {
                          "colorbar": {
                            "outlinewidth": 0,
                            "ticks": ""
                          }
                        },
                        "type": "scattermapbox"
                      }
                    ],
                    "scatterpolar": [
                      {
                        "marker": {
                          "colorbar": {
                            "outlinewidth": 0,
                            "ticks": ""
                          }
                        },
                        "type": "scatterpolar"
                      }
                    ],
                    "scatterpolargl": [
                      {
                        "marker": {
                          "colorbar": {
                            "outlinewidth": 0,
                            "ticks": ""
                          }
                        },
                        "type": "scatterpolargl"
                      }
                    ],
                    "scatterternary": [
                      {
                        "marker": {
                          "colorbar": {
                            "outlinewidth": 0,
                            "ticks": ""
                          }
                        },
                        "type": "scatterternary"
                      }
                    ],
                    "surface": [
                      {
                        "colorbar": {
                          "outlinewidth": 0,
                          "ticks": ""
                        },
                        "colorscale": [
                          [
                            0,
                            "#0d0887"
                          ],
                          [
                            0.1111111111111111,
                            "#46039f"
                          ],
                          [
                            0.2222222222222222,
                            "#7201a8"
                          ],
                          [
                            0.3333333333333333,
                            "#9c179e"
                          ],
                          [
                            0.4444444444444444,
                            "#bd3786"
                          ],
                          [
                            0.5555555555555556,
                            "#d8576b"
                          ],
                          [
                            0.6666666666666666,
                            "#ed7953"
                          ],
                          [
                            0.7777777777777778,
                            "#fb9f3a"
                          ],
                          [
                            0.8888888888888888,
                            "#fdca26"
                          ],
                          [
                            1,
                            "#f0f921"
                          ]
                        ],
                        "type": "surface"
                      }
                    ],
                    "table": [
                      {
                        "cells": {
                          "fill": {
                            "color": "#EBF0F8"
                          },
                          "line": {
                            "color": "white"
                          }
                        },
                        "header": {
                          "fill": {
                            "color": "#C8D4E3"
                          },
                          "line": {
                            "color": "white"
                          }
                        },
                        "type": "table"
                      }
                    ]
                  },
                  "layout": {
                    "annotationdefaults": {
                      "arrowcolor": "#2a3f5f",
                      "arrowhead": 0,
                      "arrowwidth": 1
                    },
                    "autotypenumbers": "strict",
                    "coloraxis": {
                      "colorbar": {
                        "outlinewidth": 0,
                        "ticks": ""
                      }
                    },
                    "colorscale": {
                      "diverging": [
                        [
                          0,
                          "#8e0152"
                        ],
                        [
                          0.1,
                          "#c51b7d"
                        ],
                        [
                          0.2,
                          "#de77ae"
                        ],
                        [
                          0.3,
                          "#f1b6da"
                        ],
                        [
                          0.4,
                          "#fde0ef"
                        ],
                        [
                          0.5,
                          "#f7f7f7"
                        ],
                        [
                          0.6,
                          "#e6f5d0"
                        ],
                        [
                          0.7,
                          "#b8e186"
                        ],
                        [
                          0.8,
                          "#7fbc41"
                        ],
                        [
                          0.9,
                          "#4d9221"
                        ],
                        [
                          1,
                          "#276419"
                        ]
                      ],
                      "sequential": [
                        [
                          0,
                          "#0d0887"
                        ],
                        [
                          0.1111111111111111,
                          "#46039f"
                        ],
                        [
                          0.2222222222222222,
                          "#7201a8"
                        ],
                        [
                          0.3333333333333333,
                          "#9c179e"
                        ],
                        [
                          0.4444444444444444,
                          "#bd3786"
                        ],
                        [
                          0.5555555555555556,
                          "#d8576b"
                        ],
                        [
                          0.6666666666666666,
                          "#ed7953"
                        ],
                        [
                          0.7777777777777778,
                          "#fb9f3a"
                        ],
                        [
                          0.8888888888888888,
                          "#fdca26"
                        ],
                        [
                          1,
                          "#f0f921"
                        ]
                      ],
                      "sequentialminus": [
                        [
                          0,
                          "#0d0887"
                        ],
                        [
                          0.1111111111111111,
                          "#46039f"
                        ],
                        [
                          0.2222222222222222,
                          "#7201a8"
                        ],
                        [
                          0.3333333333333333,
                          "#9c179e"
                        ],
                        [
                          0.4444444444444444,
                          "#bd3786"
                        ],
                        [
                          0.5555555555555556,
                          "#d8576b"
                        ],
                        [
                          0.6666666666666666,
                          "#ed7953"
                        ],
                        [
                          0.7777777777777778,
                          "#fb9f3a"
                        ],
                        [
                          0.8888888888888888,
                          "#fdca26"
                        ],
                        [
                          1,
                          "#f0f921"
                        ]
                      ]
                    },
                    "colorway": [
                      "#636efa",
                      "#EF553B",
                      "#00cc96",
                      "#ab63fa",
                      "#FFA15A",
                      "#19d3f3",
                      "#FF6692",
                      "#B6E880",
                      "#FF97FF",
                      "#FECB52"
                    ],
                    "font": {
                      "color": "#2a3f5f"
                    },
                    "geo": {
                      "bgcolor": "white",
                      "lakecolor": "white",
                      "landcolor": "#E5ECF6",
                      "showlakes": true,
                      "showland": true,
                      "subunitcolor": "white"
                    },
                    "hoverlabel": {
                      "align": "left"
                    },
                    "hovermode": "closest",
                    "mapbox": {
                      "style": "light"
                    },
                    "paper_bgcolor": "white",
                    "plot_bgcolor": "#E5ECF6",
                    "polar": {
                      "angularaxis": {
                        "gridcolor": "white",
                        "linecolor": "white",
                        "ticks": ""
                      },
                      "bgcolor": "#E5ECF6",
                      "radialaxis": {
                        "gridcolor": "white",
                        "linecolor": "white",
                        "ticks": ""
                      }
                    },
                    "scene": {
                      "xaxis": {
                        "backgroundcolor": "#E5ECF6",
                        "gridcolor": "white",
                        "gridwidth": 2,
                        "linecolor": "white",
                        "showbackground": true,
                        "ticks": "",
                        "zerolinecolor": "white"
                      },
                      "yaxis": {
                        "backgroundcolor": "#E5ECF6",
                        "gridcolor": "white",
                        "gridwidth": 2,
                        "linecolor": "white",
                        "showbackground": true,
                        "ticks": "",
                        "zerolinecolor": "white"
                      },
                      "zaxis": {
                        "backgroundcolor": "#E5ECF6",
                        "gridcolor": "white",
                        "gridwidth": 2,
                        "linecolor": "white",
                        "showbackground": true,
                        "ticks": "",
                        "zerolinecolor": "white"
                      }
                    },
                    "shapedefaults": {
                      "line": {
                        "color": "#2a3f5f"
                      }
                    },
                    "ternary": {
                      "aaxis": {
                        "gridcolor": "white",
                        "linecolor": "white",
                        "ticks": ""
                      },
                      "baxis": {
                        "gridcolor": "white",
                        "linecolor": "white",
                        "ticks": ""
                      },
                      "bgcolor": "#E5ECF6",
                      "caxis": {
                        "gridcolor": "white",
                        "linecolor": "white",
                        "ticks": ""
                      }
                    },
                    "title": {
                      "x": 0.05
                    },
                    "xaxis": {
                      "automargin": true,
                      "gridcolor": "white",
                      "linecolor": "white",
                      "ticks": "",
                      "title": {
                        "standoff": 15
                      },
                      "zerolinecolor": "white",
                      "zerolinewidth": 2
                    },
                    "yaxis": {
                      "automargin": true,
                      "gridcolor": "white",
                      "linecolor": "white",
                      "ticks": "",
                      "title": {
                        "standoff": 15
                      },
                      "zerolinecolor": "white",
                      "zerolinewidth": 2
                    }
                  }
                },
                "uniformtext": {
                  "minsize": 10,
                  "mode": "hide"
                },
                "width": 1800
              }
            },
            "text/html": [
              "<div>                            <div id=\"7f0b5159-c3cf-421a-9b39-5fb83f0b9697\" class=\"plotly-graph-div\" style=\"height:500px; width:1800px;\"></div>            <script type=\"text/javascript\">                require([\"plotly\"], function(Plotly) {                    window.PLOTLYENV=window.PLOTLYENV || {};                                    if (document.getElementById(\"7f0b5159-c3cf-421a-9b39-5fb83f0b9697\")) {                    Plotly.newPlot(                        \"7f0b5159-c3cf-421a-9b39-5fb83f0b9697\",                        [{\"direction\":\"clockwise\",\"labels\":[\"Promoter (<=1kb)\",\"Promoter (1-2kb)\",\"Promoter (2-3kb)\",\"5' UTR\",\"3' UTR\",\"1st Exon\",\"Other Exon\",\"1st Intron\",\"Other Intron\",\"Downstream (<=300)\",\"Distal Intergenic\"],\"name\":\"<b>Z-DNA</b> (25,057)\",\"rotation\":0,\"sort\":false,\"values\":[40.9513548,5.89808053,3.73518496,0.02394349,0.81806936,0.01596233,3.09669181,4.93235963,12.46258829,0.05586815,28.00989664],\"type\":\"pie\",\"domain\":{\"x\":[0.0,0.22],\"y\":[0.0,1.0]},\"hole\":0.35,\"hoverinfo\":\"label+percent+name\",\"texttemplate\":\"%{value:.2f}%\"},{\"direction\":\"clockwise\",\"labels\":[\"Promoter (<=1kb)\",\"Promoter (1-2kb)\",\"Promoter (2-3kb)\",\"5' UTR\",\"3' UTR\",\"1st Exon\",\"Other Exon\",\"1st Intron\",\"Other Intron\",\"Downstream (<=300)\",\"Distal Intergenic\"],\"name\":\"<b>SIDD</b> (15,294)\",\"rotation\":0,\"sort\":false,\"values\":[6.74032427,4.19717573,3.37996862,0.01307531,0.92180962,0.0457636,0.47724895,7.3875523,18.59309623,0.07191423,58.17207113],\"type\":\"pie\",\"domain\":{\"x\":[0.26,0.48],\"y\":[0.0,1.0]},\"hole\":0.35,\"hoverinfo\":\"label+percent+name\",\"texttemplate\":\"%{value:.2f}%\"},{\"direction\":\"clockwise\",\"labels\":[\"Promoter (<=1kb)\",\"Promoter (1-2kb)\",\"Promoter (2-3kb)\",\"5' UTR\",\"3' UTR\",\"1st Exon\",\"Other Exon\",\"1st Intron\",\"Other Intron\",\"Downstream (<=300)\",\"Distal Intergenic\"],\"name\":\"<b>G4</b> (20,251)\",\"rotation\":0,\"sort\":false,\"values\":[36.5871723,5.5448576,3.4760282,0.0493754,1.1603219,0.0246877,1.5256999,5.4510443,13.5930479,0.0740631,32.5137017],\"type\":\"pie\",\"domain\":{\"x\":[0.52,0.74],\"y\":[0.0,1.0]},\"hole\":0.35,\"hoverinfo\":\"label+percent+name\",\"texttemplate\":\"%{value:.2f}%\"},{\"direction\":\"clockwise\",\"labels\":[\"Promoter (<=1kb)\",\"Promoter (1-2kb)\",\"Promoter (2-3kb)\",\"5' UTR\",\"3' UTR\",\"1st Exon\",\"Other Exon\",\"1st Intron\",\"Other Intron\",\"Downstream (<=300)\",\"Distal Intergenic\"],\"name\":\"<b>H-DNA</b> (17,098)\",\"rotation\":0,\"sort\":false,\"values\":[11.69005848,4.520467836,3.69005848,0.005847953,0.543859649,0.023391813,0.34502924,8.0,20.087719298,0.040935673,51.052631579],\"type\":\"pie\",\"domain\":{\"x\":[0.78,1.0],\"y\":[0.0,1.0]},\"hole\":0.35,\"hoverinfo\":\"label+percent+name\",\"texttemplate\":\"%{value:.2f}%\"}],                        {\"template\":{\"data\":{\"histogram2dcontour\":[{\"type\":\"histogram2dcontour\",\"colorbar\":{\"outlinewidth\":0,\"ticks\":\"\"},\"colorscale\":[[0.0,\"#0d0887\"],[0.1111111111111111,\"#46039f\"],[0.2222222222222222,\"#7201a8\"],[0.3333333333333333,\"#9c179e\"],[0.4444444444444444,\"#bd3786\"],[0.5555555555555556,\"#d8576b\"],[0.6666666666666666,\"#ed7953\"],[0.7777777777777778,\"#fb9f3a\"],[0.8888888888888888,\"#fdca26\"],[1.0,\"#f0f921\"]]}],\"choropleth\":[{\"type\":\"choropleth\",\"colorbar\":{\"outlinewidth\":0,\"ticks\":\"\"}}],\"histogram2d\":[{\"type\":\"histogram2d\",\"colorbar\":{\"outlinewidth\":0,\"ticks\":\"\"},\"colorscale\":[[0.0,\"#0d0887\"],[0.1111111111111111,\"#46039f\"],[0.2222222222222222,\"#7201a8\"],[0.3333333333333333,\"#9c179e\"],[0.4444444444444444,\"#bd3786\"],[0.5555555555555556,\"#d8576b\"],[0.6666666666666666,\"#ed7953\"],[0.7777777777777778,\"#fb9f3a\"],[0.8888888888888888,\"#fdca26\"],[1.0,\"#f0f921\"]]}],\"heatmap\":[{\"type\":\"heatmap\",\"colorbar\":{\"outlinewidth\":0,\"ticks\":\"\"},\"colorscale\":[[0.0,\"#0d0887\"],[0.1111111111111111,\"#46039f\"],[0.2222222222222222,\"#7201a8\"],[0.3333333333333333,\"#9c179e\"],[0.4444444444444444,\"#bd3786\"],[0.5555555555555556,\"#d8576b\"],[0.6666666666666666,\"#ed7953\"],[0.7777777777777778,\"#fb9f3a\"],[0.8888888888888888,\"#fdca26\"],[1.0,\"#f0f921\"]]}],\"heatmapgl\":[{\"type\":\"heatmapgl\",\"colorbar\":{\"outlinewidth\":0,\"ticks\":\"\"},\"colorscale\":[[0.0,\"#0d0887\"],[0.1111111111111111,\"#46039f\"],[0.2222222222222222,\"#7201a8\"],[0.3333333333333333,\"#9c179e\"],[0.4444444444444444,\"#bd3786\"],[0.5555555555555556,\"#d8576b\"],[0.6666666666666666,\"#ed7953\"],[0.7777777777777778,\"#fb9f3a\"],[0.8888888888888888,\"#fdca26\"],[1.0,\"#f0f921\"]]}],\"contourcarpet\":[{\"type\":\"contourcarpet\",\"colorbar\":{\"outlinewidth\":0,\"ticks\":\"\"}}],\"contour\":[{\"type\":\"contour\",\"colorbar\":{\"outlinewidth\":0,\"ticks\":\"\"},\"colorscale\":[[0.0,\"#0d0887\"],[0.1111111111111111,\"#46039f\"],[0.2222222222222222,\"#7201a8\"],[0.3333333333333333,\"#9c179e\"],[0.4444444444444444,\"#bd3786\"],[0.5555555555555556,\"#d8576b\"],[0.6666666666666666,\"#ed7953\"],[0.7777777777777778,\"#fb9f3a\"],[0.8888888888888888,\"#fdca26\"],[1.0,\"#f0f921\"]]}],\"surface\":[{\"type\":\"surface\",\"colorbar\":{\"outlinewidth\":0,\"ticks\":\"\"},\"colorscale\":[[0.0,\"#0d0887\"],[0.1111111111111111,\"#46039f\"],[0.2222222222222222,\"#7201a8\"],[0.3333333333333333,\"#9c179e\"],[0.4444444444444444,\"#bd3786\"],[0.5555555555555556,\"#d8576b\"],[0.6666666666666666,\"#ed7953\"],[0.7777777777777778,\"#fb9f3a\"],[0.8888888888888888,\"#fdca26\"],[1.0,\"#f0f921\"]]}],\"mesh3d\":[{\"type\":\"mesh3d\",\"colorbar\":{\"outlinewidth\":0,\"ticks\":\"\"}}],\"scatter\":[{\"fillpattern\":{\"fillmode\":\"overlay\",\"size\":10,\"solidity\":0.2},\"type\":\"scatter\"}],\"parcoords\":[{\"type\":\"parcoords\",\"line\":{\"colorbar\":{\"outlinewidth\":0,\"ticks\":\"\"}}}],\"scatterpolargl\":[{\"type\":\"scatterpolargl\",\"marker\":{\"colorbar\":{\"outlinewidth\":0,\"ticks\":\"\"}}}],\"bar\":[{\"error_x\":{\"color\":\"#2a3f5f\"},\"error_y\":{\"color\":\"#2a3f5f\"},\"marker\":{\"line\":{\"color\":\"#E5ECF6\",\"width\":0.5},\"pattern\":{\"fillmode\":\"overlay\",\"size\":10,\"solidity\":0.2}},\"type\":\"bar\"}],\"scattergeo\":[{\"type\":\"scattergeo\",\"marker\":{\"colorbar\":{\"outlinewidth\":0,\"ticks\":\"\"}}}],\"scatterpolar\":[{\"type\":\"scatterpolar\",\"marker\":{\"colorbar\":{\"outlinewidth\":0,\"ticks\":\"\"}}}],\"histogram\":[{\"marker\":{\"pattern\":{\"fillmode\":\"overlay\",\"size\":10,\"solidity\":0.2}},\"type\":\"histogram\"}],\"scattergl\":[{\"type\":\"scattergl\",\"marker\":{\"colorbar\":{\"outlinewidth\":0,\"ticks\":\"\"}}}],\"scatter3d\":[{\"type\":\"scatter3d\",\"line\":{\"colorbar\":{\"outlinewidth\":0,\"ticks\":\"\"}},\"marker\":{\"colorbar\":{\"outlinewidth\":0,\"ticks\":\"\"}}}],\"scattermapbox\":[{\"type\":\"scattermapbox\",\"marker\":{\"colorbar\":{\"outlinewidth\":0,\"ticks\":\"\"}}}],\"scatterternary\":[{\"type\":\"scatterternary\",\"marker\":{\"colorbar\":{\"outlinewidth\":0,\"ticks\":\"\"}}}],\"scattercarpet\":[{\"type\":\"scattercarpet\",\"marker\":{\"colorbar\":{\"outlinewidth\":0,\"ticks\":\"\"}}}],\"carpet\":[{\"aaxis\":{\"endlinecolor\":\"#2a3f5f\",\"gridcolor\":\"white\",\"linecolor\":\"white\",\"minorgridcolor\":\"white\",\"startlinecolor\":\"#2a3f5f\"},\"baxis\":{\"endlinecolor\":\"#2a3f5f\",\"gridcolor\":\"white\",\"linecolor\":\"white\",\"minorgridcolor\":\"white\",\"startlinecolor\":\"#2a3f5f\"},\"type\":\"carpet\"}],\"table\":[{\"cells\":{\"fill\":{\"color\":\"#EBF0F8\"},\"line\":{\"color\":\"white\"}},\"header\":{\"fill\":{\"color\":\"#C8D4E3\"},\"line\":{\"color\":\"white\"}},\"type\":\"table\"}],\"barpolar\":[{\"marker\":{\"line\":{\"color\":\"#E5ECF6\",\"width\":0.5},\"pattern\":{\"fillmode\":\"overlay\",\"size\":10,\"solidity\":0.2}},\"type\":\"barpolar\"}],\"pie\":[{\"automargin\":true,\"type\":\"pie\"}]},\"layout\":{\"autotypenumbers\":\"strict\",\"colorway\":[\"#636efa\",\"#EF553B\",\"#00cc96\",\"#ab63fa\",\"#FFA15A\",\"#19d3f3\",\"#FF6692\",\"#B6E880\",\"#FF97FF\",\"#FECB52\"],\"font\":{\"color\":\"#2a3f5f\"},\"hovermode\":\"closest\",\"hoverlabel\":{\"align\":\"left\"},\"paper_bgcolor\":\"white\",\"plot_bgcolor\":\"#E5ECF6\",\"polar\":{\"bgcolor\":\"#E5ECF6\",\"angularaxis\":{\"gridcolor\":\"white\",\"linecolor\":\"white\",\"ticks\":\"\"},\"radialaxis\":{\"gridcolor\":\"white\",\"linecolor\":\"white\",\"ticks\":\"\"}},\"ternary\":{\"bgcolor\":\"#E5ECF6\",\"aaxis\":{\"gridcolor\":\"white\",\"linecolor\":\"white\",\"ticks\":\"\"},\"baxis\":{\"gridcolor\":\"white\",\"linecolor\":\"white\",\"ticks\":\"\"},\"caxis\":{\"gridcolor\":\"white\",\"linecolor\":\"white\",\"ticks\":\"\"}},\"coloraxis\":{\"colorbar\":{\"outlinewidth\":0,\"ticks\":\"\"}},\"colorscale\":{\"sequential\":[[0.0,\"#0d0887\"],[0.1111111111111111,\"#46039f\"],[0.2222222222222222,\"#7201a8\"],[0.3333333333333333,\"#9c179e\"],[0.4444444444444444,\"#bd3786\"],[0.5555555555555556,\"#d8576b\"],[0.6666666666666666,\"#ed7953\"],[0.7777777777777778,\"#fb9f3a\"],[0.8888888888888888,\"#fdca26\"],[1.0,\"#f0f921\"]],\"sequentialminus\":[[0.0,\"#0d0887\"],[0.1111111111111111,\"#46039f\"],[0.2222222222222222,\"#7201a8\"],[0.3333333333333333,\"#9c179e\"],[0.4444444444444444,\"#bd3786\"],[0.5555555555555556,\"#d8576b\"],[0.6666666666666666,\"#ed7953\"],[0.7777777777777778,\"#fb9f3a\"],[0.8888888888888888,\"#fdca26\"],[1.0,\"#f0f921\"]],\"diverging\":[[0,\"#8e0152\"],[0.1,\"#c51b7d\"],[0.2,\"#de77ae\"],[0.3,\"#f1b6da\"],[0.4,\"#fde0ef\"],[0.5,\"#f7f7f7\"],[0.6,\"#e6f5d0\"],[0.7,\"#b8e186\"],[0.8,\"#7fbc41\"],[0.9,\"#4d9221\"],[1,\"#276419\"]]},\"xaxis\":{\"gridcolor\":\"white\",\"linecolor\":\"white\",\"ticks\":\"\",\"title\":{\"standoff\":15},\"zerolinecolor\":\"white\",\"automargin\":true,\"zerolinewidth\":2},\"yaxis\":{\"gridcolor\":\"white\",\"linecolor\":\"white\",\"ticks\":\"\",\"title\":{\"standoff\":15},\"zerolinecolor\":\"white\",\"automargin\":true,\"zerolinewidth\":2},\"scene\":{\"xaxis\":{\"backgroundcolor\":\"#E5ECF6\",\"gridcolor\":\"white\",\"linecolor\":\"white\",\"showbackground\":true,\"ticks\":\"\",\"zerolinecolor\":\"white\",\"gridwidth\":2},\"yaxis\":{\"backgroundcolor\":\"#E5ECF6\",\"gridcolor\":\"white\",\"linecolor\":\"white\",\"showbackground\":true,\"ticks\":\"\",\"zerolinecolor\":\"white\",\"gridwidth\":2},\"zaxis\":{\"backgroundcolor\":\"#E5ECF6\",\"gridcolor\":\"white\",\"linecolor\":\"white\",\"showbackground\":true,\"ticks\":\"\",\"zerolinecolor\":\"white\",\"gridwidth\":2}},\"shapedefaults\":{\"line\":{\"color\":\"#2a3f5f\"}},\"annotationdefaults\":{\"arrowcolor\":\"#2a3f5f\",\"arrowhead\":0,\"arrowwidth\":1},\"geo\":{\"bgcolor\":\"white\",\"landcolor\":\"#E5ECF6\",\"subunitcolor\":\"white\",\"showland\":true,\"showlakes\":true,\"lakecolor\":\"white\"},\"title\":{\"x\":0.05},\"mapbox\":{\"style\":\"light\"}}},\"annotations\":[{\"font\":{\"size\":16},\"showarrow\":false,\"text\":\"<b>Z-DNA</b> (25,057)\",\"x\":0.11,\"xanchor\":\"center\",\"xref\":\"paper\",\"y\":1.0,\"yanchor\":\"bottom\",\"yref\":\"paper\",\"yshift\":20},{\"font\":{\"size\":16},\"showarrow\":false,\"text\":\"<b>SIDD</b> (15,294)\",\"x\":0.37,\"xanchor\":\"center\",\"xref\":\"paper\",\"y\":1.0,\"yanchor\":\"bottom\",\"yref\":\"paper\",\"yshift\":20},{\"font\":{\"size\":16},\"showarrow\":false,\"text\":\"<b>G4</b> (20,251)\",\"x\":0.63,\"xanchor\":\"center\",\"xref\":\"paper\",\"y\":1.0,\"yanchor\":\"bottom\",\"yref\":\"paper\",\"yshift\":20},{\"font\":{\"size\":16},\"showarrow\":false,\"text\":\"<b>H-DNA</b> (17,098)\",\"x\":0.89,\"xanchor\":\"center\",\"xref\":\"paper\",\"y\":1.0,\"yanchor\":\"bottom\",\"yref\":\"paper\",\"yshift\":20}],\"uniformtext\":{\"minsize\":10,\"mode\":\"hide\"},\"font\":{\"family\":\"monospace\",\"size\":14},\"margin\":{\"t\":60,\"b\":0,\"l\":0},\"legend\":{\"xanchor\":\"left\",\"x\":1.025},\"height\":500,\"width\":1800},                        {\"responsive\": true}                    ).then(function(){\n",
              "                            \n",
              "var gd = document.getElementById('7f0b5159-c3cf-421a-9b39-5fb83f0b9697');\n",
              "var x = new MutationObserver(function (mutations, observer) {{\n",
              "        var display = window.getComputedStyle(gd).display;\n",
              "        if (!display || display === 'none') {{\n",
              "            console.log([gd, 'removed!']);\n",
              "            Plotly.purge(gd);\n",
              "            observer.disconnect();\n",
              "        }}\n",
              "}});\n",
              "\n",
              "// Listen for the removal of the full notebook cells\n",
              "var notebookContainer = gd.closest('#notebook-container');\n",
              "if (notebookContainer) {{\n",
              "    x.observe(notebookContainer, {childList: true});\n",
              "}}\n",
              "\n",
              "// Listen for the clearing of the current output cell\n",
              "var outputEl = gd.closest('.output');\n",
              "if (outputEl) {{\n",
              "    x.observe(outputEl, {childList: true});\n",
              "}}\n",
              "\n",
              "                        })                };                });            </script>        </div>"
            ]
          },
          "metadata": {},
          "output_type": "display_data"
        },
        {
          "data": {
            "application/vnd.plotly.v1+json": {
              "config": {
                "plotlyServerURL": "https://plot.ly"
              },
              "data": [
                {
                  "direction": "clockwise",
                  "domain": {
                    "x": [
                      0,
                      0.22
                    ],
                    "y": [
                      0,
                      1
                    ]
                  },
                  "hole": 0.35,
                  "hoverinfo": "label+percent+name",
                  "labels": [
                    "Promoter (<=1kb)",
                    "Promoter (1-2kb)",
                    "Promoter (2-3kb)",
                    "5' UTR",
                    "3' UTR",
                    "1st Exon",
                    "Other Exon",
                    "1st Intron",
                    "Other Intron",
                    "Downstream (<=300)",
                    "Distal Intergenic"
                  ],
                  "name": "<b>Z-DNA & miRNA</b> (3,391)",
                  "rotation": 0,
                  "sort": false,
                  "texttemplate": "%{value:.2f}%",
                  "type": "pie",
                  "values": [
                    26.01002654,
                    5.69153642,
                    4.3055146,
                    0.05897965,
                    0.70775582,
                    0,
                    1.12061339,
                    7.01857859,
                    18.43114126,
                    0,
                    36.65585373
                  ]
                },
                {
                  "direction": "clockwise",
                  "domain": {
                    "x": [
                      0.26,
                      0.48
                    ],
                    "y": [
                      0,
                      1
                    ]
                  },
                  "hole": 0.35,
                  "hoverinfo": "label+percent+name",
                  "labels": [
                    "Promoter (<=1kb)",
                    "Promoter (1-2kb)",
                    "Promoter (2-3kb)",
                    "5' UTR",
                    "3' UTR",
                    "1st Exon",
                    "Other Exon",
                    "1st Intron",
                    "Other Intron",
                    "Downstream (<=300)",
                    "Distal Intergenic"
                  ],
                  "name": "<b>SIDD & miRNA</b> (12,143)",
                  "rotation": 0,
                  "sort": false,
                  "texttemplate": "%{value:.2f}%",
                  "type": "pie",
                  "values": [
                    6.349337067,
                    4.31524335,
                    3.434077246,
                    0.008235197,
                    0.897636498,
                    0.041175986,
                    0.502347031,
                    7.502264679,
                    18.80919048,
                    0.074116775,
                    58.06637569
                  ]
                },
                {
                  "direction": "clockwise",
                  "domain": {
                    "x": [
                      0.52,
                      0.74
                    ],
                    "y": [
                      0,
                      1
                    ]
                  },
                  "hole": 0.35,
                  "hoverinfo": "label+percent+name",
                  "labels": [
                    "Promoter (<=1kb)",
                    "Promoter (1-2kb)",
                    "Promoter (2-3kb)",
                    "5' UTR",
                    "3' UTR",
                    "1st Exon",
                    "Other Exon",
                    "1st Intron",
                    "Other Intron",
                    "Downstream (<=300)",
                    "Distal Intergenic"
                  ],
                  "name": "<b>G4 & miRNA</b> (4,569)",
                  "rotation": 0,
                  "sort": false,
                  "texttemplate": "%{value:.2f}%",
                  "type": "pie",
                  "values": [
                    38.82687678,
                    5.66863646,
                    3.83015977,
                    0.04377325,
                    1.24753775,
                    0,
                    2.01356971,
                    4.88071788,
                    12.54103743,
                    0.02188663,
                    30.92580433
                  ]
                },
                {
                  "direction": "clockwise",
                  "domain": {
                    "x": [
                      0.78,
                      1
                    ],
                    "y": [
                      0,
                      1
                    ]
                  },
                  "hole": 0.35,
                  "hoverinfo": "label+percent+name",
                  "labels": [
                    "Promoter (<=1kb)",
                    "Promoter (1-2kb)",
                    "Promoter (2-3kb)",
                    "5' UTR",
                    "3' UTR",
                    "1st Exon",
                    "Other Exon",
                    "1st Intron",
                    "Other Intron",
                    "Downstream (<=300)",
                    "Distal Intergenic"
                  ],
                  "name": "<b>H-DNA & miRNA</b> (1,474)",
                  "rotation": 0,
                  "sort": false,
                  "texttemplate": "%{value:.2f}%",
                  "type": "pie",
                  "values": [
                    10.71913161,
                    4.0027137,
                    3.86702849,
                    0,
                    0.81411126,
                    0,
                    0.13568521,
                    7.39484396,
                    21.70963365,
                    0.06784261,
                    51.2890095
                  ]
                }
              ],
              "layout": {
                "annotations": [
                  {
                    "font": {
                      "size": 16
                    },
                    "showarrow": false,
                    "text": "<b>Z-DNA & miRNA</b> (3,391)",
                    "x": 0.11,
                    "xanchor": "center",
                    "xref": "paper",
                    "y": 1,
                    "yanchor": "bottom",
                    "yref": "paper",
                    "yshift": 20
                  },
                  {
                    "font": {
                      "size": 16
                    },
                    "showarrow": false,
                    "text": "<b>SIDD & miRNA</b> (12,143)",
                    "x": 0.37,
                    "xanchor": "center",
                    "xref": "paper",
                    "y": 1,
                    "yanchor": "bottom",
                    "yref": "paper",
                    "yshift": 20
                  },
                  {
                    "font": {
                      "size": 16
                    },
                    "showarrow": false,
                    "text": "<b>G4 & miRNA</b> (4,569)",
                    "x": 0.63,
                    "xanchor": "center",
                    "xref": "paper",
                    "y": 1,
                    "yanchor": "bottom",
                    "yref": "paper",
                    "yshift": 20
                  },
                  {
                    "font": {
                      "size": 16
                    },
                    "showarrow": false,
                    "text": "<b>H-DNA & miRNA</b> (1,474)",
                    "x": 0.89,
                    "xanchor": "center",
                    "xref": "paper",
                    "y": 1,
                    "yanchor": "bottom",
                    "yref": "paper",
                    "yshift": 20
                  }
                ],
                "font": {
                  "family": "monospace",
                  "size": 14
                },
                "height": 500,
                "legend": {
                  "x": 1.025,
                  "xanchor": "left"
                },
                "margin": {
                  "b": 0,
                  "l": 0,
                  "t": 60
                },
                "template": {
                  "data": {
                    "bar": [
                      {
                        "error_x": {
                          "color": "#2a3f5f"
                        },
                        "error_y": {
                          "color": "#2a3f5f"
                        },
                        "marker": {
                          "line": {
                            "color": "#E5ECF6",
                            "width": 0.5
                          },
                          "pattern": {
                            "fillmode": "overlay",
                            "size": 10,
                            "solidity": 0.2
                          }
                        },
                        "type": "bar"
                      }
                    ],
                    "barpolar": [
                      {
                        "marker": {
                          "line": {
                            "color": "#E5ECF6",
                            "width": 0.5
                          },
                          "pattern": {
                            "fillmode": "overlay",
                            "size": 10,
                            "solidity": 0.2
                          }
                        },
                        "type": "barpolar"
                      }
                    ],
                    "carpet": [
                      {
                        "aaxis": {
                          "endlinecolor": "#2a3f5f",
                          "gridcolor": "white",
                          "linecolor": "white",
                          "minorgridcolor": "white",
                          "startlinecolor": "#2a3f5f"
                        },
                        "baxis": {
                          "endlinecolor": "#2a3f5f",
                          "gridcolor": "white",
                          "linecolor": "white",
                          "minorgridcolor": "white",
                          "startlinecolor": "#2a3f5f"
                        },
                        "type": "carpet"
                      }
                    ],
                    "choropleth": [
                      {
                        "colorbar": {
                          "outlinewidth": 0,
                          "ticks": ""
                        },
                        "type": "choropleth"
                      }
                    ],
                    "contour": [
                      {
                        "colorbar": {
                          "outlinewidth": 0,
                          "ticks": ""
                        },
                        "colorscale": [
                          [
                            0,
                            "#0d0887"
                          ],
                          [
                            0.1111111111111111,
                            "#46039f"
                          ],
                          [
                            0.2222222222222222,
                            "#7201a8"
                          ],
                          [
                            0.3333333333333333,
                            "#9c179e"
                          ],
                          [
                            0.4444444444444444,
                            "#bd3786"
                          ],
                          [
                            0.5555555555555556,
                            "#d8576b"
                          ],
                          [
                            0.6666666666666666,
                            "#ed7953"
                          ],
                          [
                            0.7777777777777778,
                            "#fb9f3a"
                          ],
                          [
                            0.8888888888888888,
                            "#fdca26"
                          ],
                          [
                            1,
                            "#f0f921"
                          ]
                        ],
                        "type": "contour"
                      }
                    ],
                    "contourcarpet": [
                      {
                        "colorbar": {
                          "outlinewidth": 0,
                          "ticks": ""
                        },
                        "type": "contourcarpet"
                      }
                    ],
                    "heatmap": [
                      {
                        "colorbar": {
                          "outlinewidth": 0,
                          "ticks": ""
                        },
                        "colorscale": [
                          [
                            0,
                            "#0d0887"
                          ],
                          [
                            0.1111111111111111,
                            "#46039f"
                          ],
                          [
                            0.2222222222222222,
                            "#7201a8"
                          ],
                          [
                            0.3333333333333333,
                            "#9c179e"
                          ],
                          [
                            0.4444444444444444,
                            "#bd3786"
                          ],
                          [
                            0.5555555555555556,
                            "#d8576b"
                          ],
                          [
                            0.6666666666666666,
                            "#ed7953"
                          ],
                          [
                            0.7777777777777778,
                            "#fb9f3a"
                          ],
                          [
                            0.8888888888888888,
                            "#fdca26"
                          ],
                          [
                            1,
                            "#f0f921"
                          ]
                        ],
                        "type": "heatmap"
                      }
                    ],
                    "heatmapgl": [
                      {
                        "colorbar": {
                          "outlinewidth": 0,
                          "ticks": ""
                        },
                        "colorscale": [
                          [
                            0,
                            "#0d0887"
                          ],
                          [
                            0.1111111111111111,
                            "#46039f"
                          ],
                          [
                            0.2222222222222222,
                            "#7201a8"
                          ],
                          [
                            0.3333333333333333,
                            "#9c179e"
                          ],
                          [
                            0.4444444444444444,
                            "#bd3786"
                          ],
                          [
                            0.5555555555555556,
                            "#d8576b"
                          ],
                          [
                            0.6666666666666666,
                            "#ed7953"
                          ],
                          [
                            0.7777777777777778,
                            "#fb9f3a"
                          ],
                          [
                            0.8888888888888888,
                            "#fdca26"
                          ],
                          [
                            1,
                            "#f0f921"
                          ]
                        ],
                        "type": "heatmapgl"
                      }
                    ],
                    "histogram": [
                      {
                        "marker": {
                          "pattern": {
                            "fillmode": "overlay",
                            "size": 10,
                            "solidity": 0.2
                          }
                        },
                        "type": "histogram"
                      }
                    ],
                    "histogram2d": [
                      {
                        "colorbar": {
                          "outlinewidth": 0,
                          "ticks": ""
                        },
                        "colorscale": [
                          [
                            0,
                            "#0d0887"
                          ],
                          [
                            0.1111111111111111,
                            "#46039f"
                          ],
                          [
                            0.2222222222222222,
                            "#7201a8"
                          ],
                          [
                            0.3333333333333333,
                            "#9c179e"
                          ],
                          [
                            0.4444444444444444,
                            "#bd3786"
                          ],
                          [
                            0.5555555555555556,
                            "#d8576b"
                          ],
                          [
                            0.6666666666666666,
                            "#ed7953"
                          ],
                          [
                            0.7777777777777778,
                            "#fb9f3a"
                          ],
                          [
                            0.8888888888888888,
                            "#fdca26"
                          ],
                          [
                            1,
                            "#f0f921"
                          ]
                        ],
                        "type": "histogram2d"
                      }
                    ],
                    "histogram2dcontour": [
                      {
                        "colorbar": {
                          "outlinewidth": 0,
                          "ticks": ""
                        },
                        "colorscale": [
                          [
                            0,
                            "#0d0887"
                          ],
                          [
                            0.1111111111111111,
                            "#46039f"
                          ],
                          [
                            0.2222222222222222,
                            "#7201a8"
                          ],
                          [
                            0.3333333333333333,
                            "#9c179e"
                          ],
                          [
                            0.4444444444444444,
                            "#bd3786"
                          ],
                          [
                            0.5555555555555556,
                            "#d8576b"
                          ],
                          [
                            0.6666666666666666,
                            "#ed7953"
                          ],
                          [
                            0.7777777777777778,
                            "#fb9f3a"
                          ],
                          [
                            0.8888888888888888,
                            "#fdca26"
                          ],
                          [
                            1,
                            "#f0f921"
                          ]
                        ],
                        "type": "histogram2dcontour"
                      }
                    ],
                    "mesh3d": [
                      {
                        "colorbar": {
                          "outlinewidth": 0,
                          "ticks": ""
                        },
                        "type": "mesh3d"
                      }
                    ],
                    "parcoords": [
                      {
                        "line": {
                          "colorbar": {
                            "outlinewidth": 0,
                            "ticks": ""
                          }
                        },
                        "type": "parcoords"
                      }
                    ],
                    "pie": [
                      {
                        "automargin": true,
                        "type": "pie"
                      }
                    ],
                    "scatter": [
                      {
                        "fillpattern": {
                          "fillmode": "overlay",
                          "size": 10,
                          "solidity": 0.2
                        },
                        "type": "scatter"
                      }
                    ],
                    "scatter3d": [
                      {
                        "line": {
                          "colorbar": {
                            "outlinewidth": 0,
                            "ticks": ""
                          }
                        },
                        "marker": {
                          "colorbar": {
                            "outlinewidth": 0,
                            "ticks": ""
                          }
                        },
                        "type": "scatter3d"
                      }
                    ],
                    "scattercarpet": [
                      {
                        "marker": {
                          "colorbar": {
                            "outlinewidth": 0,
                            "ticks": ""
                          }
                        },
                        "type": "scattercarpet"
                      }
                    ],
                    "scattergeo": [
                      {
                        "marker": {
                          "colorbar": {
                            "outlinewidth": 0,
                            "ticks": ""
                          }
                        },
                        "type": "scattergeo"
                      }
                    ],
                    "scattergl": [
                      {
                        "marker": {
                          "colorbar": {
                            "outlinewidth": 0,
                            "ticks": ""
                          }
                        },
                        "type": "scattergl"
                      }
                    ],
                    "scattermapbox": [
                      {
                        "marker": {
                          "colorbar": {
                            "outlinewidth": 0,
                            "ticks": ""
                          }
                        },
                        "type": "scattermapbox"
                      }
                    ],
                    "scatterpolar": [
                      {
                        "marker": {
                          "colorbar": {
                            "outlinewidth": 0,
                            "ticks": ""
                          }
                        },
                        "type": "scatterpolar"
                      }
                    ],
                    "scatterpolargl": [
                      {
                        "marker": {
                          "colorbar": {
                            "outlinewidth": 0,
                            "ticks": ""
                          }
                        },
                        "type": "scatterpolargl"
                      }
                    ],
                    "scatterternary": [
                      {
                        "marker": {
                          "colorbar": {
                            "outlinewidth": 0,
                            "ticks": ""
                          }
                        },
                        "type": "scatterternary"
                      }
                    ],
                    "surface": [
                      {
                        "colorbar": {
                          "outlinewidth": 0,
                          "ticks": ""
                        },
                        "colorscale": [
                          [
                            0,
                            "#0d0887"
                          ],
                          [
                            0.1111111111111111,
                            "#46039f"
                          ],
                          [
                            0.2222222222222222,
                            "#7201a8"
                          ],
                          [
                            0.3333333333333333,
                            "#9c179e"
                          ],
                          [
                            0.4444444444444444,
                            "#bd3786"
                          ],
                          [
                            0.5555555555555556,
                            "#d8576b"
                          ],
                          [
                            0.6666666666666666,
                            "#ed7953"
                          ],
                          [
                            0.7777777777777778,
                            "#fb9f3a"
                          ],
                          [
                            0.8888888888888888,
                            "#fdca26"
                          ],
                          [
                            1,
                            "#f0f921"
                          ]
                        ],
                        "type": "surface"
                      }
                    ],
                    "table": [
                      {
                        "cells": {
                          "fill": {
                            "color": "#EBF0F8"
                          },
                          "line": {
                            "color": "white"
                          }
                        },
                        "header": {
                          "fill": {
                            "color": "#C8D4E3"
                          },
                          "line": {
                            "color": "white"
                          }
                        },
                        "type": "table"
                      }
                    ]
                  },
                  "layout": {
                    "annotationdefaults": {
                      "arrowcolor": "#2a3f5f",
                      "arrowhead": 0,
                      "arrowwidth": 1
                    },
                    "autotypenumbers": "strict",
                    "coloraxis": {
                      "colorbar": {
                        "outlinewidth": 0,
                        "ticks": ""
                      }
                    },
                    "colorscale": {
                      "diverging": [
                        [
                          0,
                          "#8e0152"
                        ],
                        [
                          0.1,
                          "#c51b7d"
                        ],
                        [
                          0.2,
                          "#de77ae"
                        ],
                        [
                          0.3,
                          "#f1b6da"
                        ],
                        [
                          0.4,
                          "#fde0ef"
                        ],
                        [
                          0.5,
                          "#f7f7f7"
                        ],
                        [
                          0.6,
                          "#e6f5d0"
                        ],
                        [
                          0.7,
                          "#b8e186"
                        ],
                        [
                          0.8,
                          "#7fbc41"
                        ],
                        [
                          0.9,
                          "#4d9221"
                        ],
                        [
                          1,
                          "#276419"
                        ]
                      ],
                      "sequential": [
                        [
                          0,
                          "#0d0887"
                        ],
                        [
                          0.1111111111111111,
                          "#46039f"
                        ],
                        [
                          0.2222222222222222,
                          "#7201a8"
                        ],
                        [
                          0.3333333333333333,
                          "#9c179e"
                        ],
                        [
                          0.4444444444444444,
                          "#bd3786"
                        ],
                        [
                          0.5555555555555556,
                          "#d8576b"
                        ],
                        [
                          0.6666666666666666,
                          "#ed7953"
                        ],
                        [
                          0.7777777777777778,
                          "#fb9f3a"
                        ],
                        [
                          0.8888888888888888,
                          "#fdca26"
                        ],
                        [
                          1,
                          "#f0f921"
                        ]
                      ],
                      "sequentialminus": [
                        [
                          0,
                          "#0d0887"
                        ],
                        [
                          0.1111111111111111,
                          "#46039f"
                        ],
                        [
                          0.2222222222222222,
                          "#7201a8"
                        ],
                        [
                          0.3333333333333333,
                          "#9c179e"
                        ],
                        [
                          0.4444444444444444,
                          "#bd3786"
                        ],
                        [
                          0.5555555555555556,
                          "#d8576b"
                        ],
                        [
                          0.6666666666666666,
                          "#ed7953"
                        ],
                        [
                          0.7777777777777778,
                          "#fb9f3a"
                        ],
                        [
                          0.8888888888888888,
                          "#fdca26"
                        ],
                        [
                          1,
                          "#f0f921"
                        ]
                      ]
                    },
                    "colorway": [
                      "#636efa",
                      "#EF553B",
                      "#00cc96",
                      "#ab63fa",
                      "#FFA15A",
                      "#19d3f3",
                      "#FF6692",
                      "#B6E880",
                      "#FF97FF",
                      "#FECB52"
                    ],
                    "font": {
                      "color": "#2a3f5f"
                    },
                    "geo": {
                      "bgcolor": "white",
                      "lakecolor": "white",
                      "landcolor": "#E5ECF6",
                      "showlakes": true,
                      "showland": true,
                      "subunitcolor": "white"
                    },
                    "hoverlabel": {
                      "align": "left"
                    },
                    "hovermode": "closest",
                    "mapbox": {
                      "style": "light"
                    },
                    "paper_bgcolor": "white",
                    "plot_bgcolor": "#E5ECF6",
                    "polar": {
                      "angularaxis": {
                        "gridcolor": "white",
                        "linecolor": "white",
                        "ticks": ""
                      },
                      "bgcolor": "#E5ECF6",
                      "radialaxis": {
                        "gridcolor": "white",
                        "linecolor": "white",
                        "ticks": ""
                      }
                    },
                    "scene": {
                      "xaxis": {
                        "backgroundcolor": "#E5ECF6",
                        "gridcolor": "white",
                        "gridwidth": 2,
                        "linecolor": "white",
                        "showbackground": true,
                        "ticks": "",
                        "zerolinecolor": "white"
                      },
                      "yaxis": {
                        "backgroundcolor": "#E5ECF6",
                        "gridcolor": "white",
                        "gridwidth": 2,
                        "linecolor": "white",
                        "showbackground": true,
                        "ticks": "",
                        "zerolinecolor": "white"
                      },
                      "zaxis": {
                        "backgroundcolor": "#E5ECF6",
                        "gridcolor": "white",
                        "gridwidth": 2,
                        "linecolor": "white",
                        "showbackground": true,
                        "ticks": "",
                        "zerolinecolor": "white"
                      }
                    },
                    "shapedefaults": {
                      "line": {
                        "color": "#2a3f5f"
                      }
                    },
                    "ternary": {
                      "aaxis": {
                        "gridcolor": "white",
                        "linecolor": "white",
                        "ticks": ""
                      },
                      "baxis": {
                        "gridcolor": "white",
                        "linecolor": "white",
                        "ticks": ""
                      },
                      "bgcolor": "#E5ECF6",
                      "caxis": {
                        "gridcolor": "white",
                        "linecolor": "white",
                        "ticks": ""
                      }
                    },
                    "title": {
                      "x": 0.05
                    },
                    "xaxis": {
                      "automargin": true,
                      "gridcolor": "white",
                      "linecolor": "white",
                      "ticks": "",
                      "title": {
                        "standoff": 15
                      },
                      "zerolinecolor": "white",
                      "zerolinewidth": 2
                    },
                    "yaxis": {
                      "automargin": true,
                      "gridcolor": "white",
                      "linecolor": "white",
                      "ticks": "",
                      "title": {
                        "standoff": 15
                      },
                      "zerolinecolor": "white",
                      "zerolinewidth": 2
                    }
                  }
                },
                "uniformtext": {
                  "minsize": 10,
                  "mode": "hide"
                },
                "width": 1800
              }
            },
            "text/html": [
              "<div>                            <div id=\"a0a2f9de-81be-4122-89b4-f09055390315\" class=\"plotly-graph-div\" style=\"height:500px; width:1800px;\"></div>            <script type=\"text/javascript\">                require([\"plotly\"], function(Plotly) {                    window.PLOTLYENV=window.PLOTLYENV || {};                                    if (document.getElementById(\"a0a2f9de-81be-4122-89b4-f09055390315\")) {                    Plotly.newPlot(                        \"a0a2f9de-81be-4122-89b4-f09055390315\",                        [{\"direction\":\"clockwise\",\"labels\":[\"Promoter (<=1kb)\",\"Promoter (1-2kb)\",\"Promoter (2-3kb)\",\"5' UTR\",\"3' UTR\",\"1st Exon\",\"Other Exon\",\"1st Intron\",\"Other Intron\",\"Downstream (<=300)\",\"Distal Intergenic\"],\"name\":\"<b>Z-DNA & miRNA</b> (3,391)\",\"rotation\":0,\"sort\":false,\"values\":[26.01002654,5.69153642,4.3055146,0.05897965,0.70775582,0,1.12061339,7.01857859,18.43114126,0,36.65585373],\"type\":\"pie\",\"domain\":{\"x\":[0.0,0.22],\"y\":[0.0,1.0]},\"hole\":0.35,\"hoverinfo\":\"label+percent+name\",\"texttemplate\":\"%{value:.2f}%\"},{\"direction\":\"clockwise\",\"labels\":[\"Promoter (<=1kb)\",\"Promoter (1-2kb)\",\"Promoter (2-3kb)\",\"5' UTR\",\"3' UTR\",\"1st Exon\",\"Other Exon\",\"1st Intron\",\"Other Intron\",\"Downstream (<=300)\",\"Distal Intergenic\"],\"name\":\"<b>SIDD & miRNA</b> (12,143)\",\"rotation\":0,\"sort\":false,\"values\":[6.349337067,4.31524335,3.434077246,0.008235197,0.897636498,0.041175986,0.502347031,7.502264679,18.80919048,0.074116775,58.06637569],\"type\":\"pie\",\"domain\":{\"x\":[0.26,0.48],\"y\":[0.0,1.0]},\"hole\":0.35,\"hoverinfo\":\"label+percent+name\",\"texttemplate\":\"%{value:.2f}%\"},{\"direction\":\"clockwise\",\"labels\":[\"Promoter (<=1kb)\",\"Promoter (1-2kb)\",\"Promoter (2-3kb)\",\"5' UTR\",\"3' UTR\",\"1st Exon\",\"Other Exon\",\"1st Intron\",\"Other Intron\",\"Downstream (<=300)\",\"Distal Intergenic\"],\"name\":\"<b>G4 & miRNA</b> (4,569)\",\"rotation\":0,\"sort\":false,\"values\":[38.82687678,5.66863646,3.83015977,0.04377325,1.24753775,0,2.01356971,4.88071788,12.54103743,0.02188663,30.92580433],\"type\":\"pie\",\"domain\":{\"x\":[0.52,0.74],\"y\":[0.0,1.0]},\"hole\":0.35,\"hoverinfo\":\"label+percent+name\",\"texttemplate\":\"%{value:.2f}%\"},{\"direction\":\"clockwise\",\"labels\":[\"Promoter (<=1kb)\",\"Promoter (1-2kb)\",\"Promoter (2-3kb)\",\"5' UTR\",\"3' UTR\",\"1st Exon\",\"Other Exon\",\"1st Intron\",\"Other Intron\",\"Downstream (<=300)\",\"Distal Intergenic\"],\"name\":\"<b>H-DNA & miRNA</b> (1,474)\",\"rotation\":0,\"sort\":false,\"values\":[10.71913161,4.0027137,3.86702849,0,0.81411126,0,0.13568521,7.39484396,21.70963365,0.06784261,51.2890095],\"type\":\"pie\",\"domain\":{\"x\":[0.78,1.0],\"y\":[0.0,1.0]},\"hole\":0.35,\"hoverinfo\":\"label+percent+name\",\"texttemplate\":\"%{value:.2f}%\"}],                        {\"template\":{\"data\":{\"histogram2dcontour\":[{\"type\":\"histogram2dcontour\",\"colorbar\":{\"outlinewidth\":0,\"ticks\":\"\"},\"colorscale\":[[0.0,\"#0d0887\"],[0.1111111111111111,\"#46039f\"],[0.2222222222222222,\"#7201a8\"],[0.3333333333333333,\"#9c179e\"],[0.4444444444444444,\"#bd3786\"],[0.5555555555555556,\"#d8576b\"],[0.6666666666666666,\"#ed7953\"],[0.7777777777777778,\"#fb9f3a\"],[0.8888888888888888,\"#fdca26\"],[1.0,\"#f0f921\"]]}],\"choropleth\":[{\"type\":\"choropleth\",\"colorbar\":{\"outlinewidth\":0,\"ticks\":\"\"}}],\"histogram2d\":[{\"type\":\"histogram2d\",\"colorbar\":{\"outlinewidth\":0,\"ticks\":\"\"},\"colorscale\":[[0.0,\"#0d0887\"],[0.1111111111111111,\"#46039f\"],[0.2222222222222222,\"#7201a8\"],[0.3333333333333333,\"#9c179e\"],[0.4444444444444444,\"#bd3786\"],[0.5555555555555556,\"#d8576b\"],[0.6666666666666666,\"#ed7953\"],[0.7777777777777778,\"#fb9f3a\"],[0.8888888888888888,\"#fdca26\"],[1.0,\"#f0f921\"]]}],\"heatmap\":[{\"type\":\"heatmap\",\"colorbar\":{\"outlinewidth\":0,\"ticks\":\"\"},\"colorscale\":[[0.0,\"#0d0887\"],[0.1111111111111111,\"#46039f\"],[0.2222222222222222,\"#7201a8\"],[0.3333333333333333,\"#9c179e\"],[0.4444444444444444,\"#bd3786\"],[0.5555555555555556,\"#d8576b\"],[0.6666666666666666,\"#ed7953\"],[0.7777777777777778,\"#fb9f3a\"],[0.8888888888888888,\"#fdca26\"],[1.0,\"#f0f921\"]]}],\"heatmapgl\":[{\"type\":\"heatmapgl\",\"colorbar\":{\"outlinewidth\":0,\"ticks\":\"\"},\"colorscale\":[[0.0,\"#0d0887\"],[0.1111111111111111,\"#46039f\"],[0.2222222222222222,\"#7201a8\"],[0.3333333333333333,\"#9c179e\"],[0.4444444444444444,\"#bd3786\"],[0.5555555555555556,\"#d8576b\"],[0.6666666666666666,\"#ed7953\"],[0.7777777777777778,\"#fb9f3a\"],[0.8888888888888888,\"#fdca26\"],[1.0,\"#f0f921\"]]}],\"contourcarpet\":[{\"type\":\"contourcarpet\",\"colorbar\":{\"outlinewidth\":0,\"ticks\":\"\"}}],\"contour\":[{\"type\":\"contour\",\"colorbar\":{\"outlinewidth\":0,\"ticks\":\"\"},\"colorscale\":[[0.0,\"#0d0887\"],[0.1111111111111111,\"#46039f\"],[0.2222222222222222,\"#7201a8\"],[0.3333333333333333,\"#9c179e\"],[0.4444444444444444,\"#bd3786\"],[0.5555555555555556,\"#d8576b\"],[0.6666666666666666,\"#ed7953\"],[0.7777777777777778,\"#fb9f3a\"],[0.8888888888888888,\"#fdca26\"],[1.0,\"#f0f921\"]]}],\"surface\":[{\"type\":\"surface\",\"colorbar\":{\"outlinewidth\":0,\"ticks\":\"\"},\"colorscale\":[[0.0,\"#0d0887\"],[0.1111111111111111,\"#46039f\"],[0.2222222222222222,\"#7201a8\"],[0.3333333333333333,\"#9c179e\"],[0.4444444444444444,\"#bd3786\"],[0.5555555555555556,\"#d8576b\"],[0.6666666666666666,\"#ed7953\"],[0.7777777777777778,\"#fb9f3a\"],[0.8888888888888888,\"#fdca26\"],[1.0,\"#f0f921\"]]}],\"mesh3d\":[{\"type\":\"mesh3d\",\"colorbar\":{\"outlinewidth\":0,\"ticks\":\"\"}}],\"scatter\":[{\"fillpattern\":{\"fillmode\":\"overlay\",\"size\":10,\"solidity\":0.2},\"type\":\"scatter\"}],\"parcoords\":[{\"type\":\"parcoords\",\"line\":{\"colorbar\":{\"outlinewidth\":0,\"ticks\":\"\"}}}],\"scatterpolargl\":[{\"type\":\"scatterpolargl\",\"marker\":{\"colorbar\":{\"outlinewidth\":0,\"ticks\":\"\"}}}],\"bar\":[{\"error_x\":{\"color\":\"#2a3f5f\"},\"error_y\":{\"color\":\"#2a3f5f\"},\"marker\":{\"line\":{\"color\":\"#E5ECF6\",\"width\":0.5},\"pattern\":{\"fillmode\":\"overlay\",\"size\":10,\"solidity\":0.2}},\"type\":\"bar\"}],\"scattergeo\":[{\"type\":\"scattergeo\",\"marker\":{\"colorbar\":{\"outlinewidth\":0,\"ticks\":\"\"}}}],\"scatterpolar\":[{\"type\":\"scatterpolar\",\"marker\":{\"colorbar\":{\"outlinewidth\":0,\"ticks\":\"\"}}}],\"histogram\":[{\"marker\":{\"pattern\":{\"fillmode\":\"overlay\",\"size\":10,\"solidity\":0.2}},\"type\":\"histogram\"}],\"scattergl\":[{\"type\":\"scattergl\",\"marker\":{\"colorbar\":{\"outlinewidth\":0,\"ticks\":\"\"}}}],\"scatter3d\":[{\"type\":\"scatter3d\",\"line\":{\"colorbar\":{\"outlinewidth\":0,\"ticks\":\"\"}},\"marker\":{\"colorbar\":{\"outlinewidth\":0,\"ticks\":\"\"}}}],\"scattermapbox\":[{\"type\":\"scattermapbox\",\"marker\":{\"colorbar\":{\"outlinewidth\":0,\"ticks\":\"\"}}}],\"scatterternary\":[{\"type\":\"scatterternary\",\"marker\":{\"colorbar\":{\"outlinewidth\":0,\"ticks\":\"\"}}}],\"scattercarpet\":[{\"type\":\"scattercarpet\",\"marker\":{\"colorbar\":{\"outlinewidth\":0,\"ticks\":\"\"}}}],\"carpet\":[{\"aaxis\":{\"endlinecolor\":\"#2a3f5f\",\"gridcolor\":\"white\",\"linecolor\":\"white\",\"minorgridcolor\":\"white\",\"startlinecolor\":\"#2a3f5f\"},\"baxis\":{\"endlinecolor\":\"#2a3f5f\",\"gridcolor\":\"white\",\"linecolor\":\"white\",\"minorgridcolor\":\"white\",\"startlinecolor\":\"#2a3f5f\"},\"type\":\"carpet\"}],\"table\":[{\"cells\":{\"fill\":{\"color\":\"#EBF0F8\"},\"line\":{\"color\":\"white\"}},\"header\":{\"fill\":{\"color\":\"#C8D4E3\"},\"line\":{\"color\":\"white\"}},\"type\":\"table\"}],\"barpolar\":[{\"marker\":{\"line\":{\"color\":\"#E5ECF6\",\"width\":0.5},\"pattern\":{\"fillmode\":\"overlay\",\"size\":10,\"solidity\":0.2}},\"type\":\"barpolar\"}],\"pie\":[{\"automargin\":true,\"type\":\"pie\"}]},\"layout\":{\"autotypenumbers\":\"strict\",\"colorway\":[\"#636efa\",\"#EF553B\",\"#00cc96\",\"#ab63fa\",\"#FFA15A\",\"#19d3f3\",\"#FF6692\",\"#B6E880\",\"#FF97FF\",\"#FECB52\"],\"font\":{\"color\":\"#2a3f5f\"},\"hovermode\":\"closest\",\"hoverlabel\":{\"align\":\"left\"},\"paper_bgcolor\":\"white\",\"plot_bgcolor\":\"#E5ECF6\",\"polar\":{\"bgcolor\":\"#E5ECF6\",\"angularaxis\":{\"gridcolor\":\"white\",\"linecolor\":\"white\",\"ticks\":\"\"},\"radialaxis\":{\"gridcolor\":\"white\",\"linecolor\":\"white\",\"ticks\":\"\"}},\"ternary\":{\"bgcolor\":\"#E5ECF6\",\"aaxis\":{\"gridcolor\":\"white\",\"linecolor\":\"white\",\"ticks\":\"\"},\"baxis\":{\"gridcolor\":\"white\",\"linecolor\":\"white\",\"ticks\":\"\"},\"caxis\":{\"gridcolor\":\"white\",\"linecolor\":\"white\",\"ticks\":\"\"}},\"coloraxis\":{\"colorbar\":{\"outlinewidth\":0,\"ticks\":\"\"}},\"colorscale\":{\"sequential\":[[0.0,\"#0d0887\"],[0.1111111111111111,\"#46039f\"],[0.2222222222222222,\"#7201a8\"],[0.3333333333333333,\"#9c179e\"],[0.4444444444444444,\"#bd3786\"],[0.5555555555555556,\"#d8576b\"],[0.6666666666666666,\"#ed7953\"],[0.7777777777777778,\"#fb9f3a\"],[0.8888888888888888,\"#fdca26\"],[1.0,\"#f0f921\"]],\"sequentialminus\":[[0.0,\"#0d0887\"],[0.1111111111111111,\"#46039f\"],[0.2222222222222222,\"#7201a8\"],[0.3333333333333333,\"#9c179e\"],[0.4444444444444444,\"#bd3786\"],[0.5555555555555556,\"#d8576b\"],[0.6666666666666666,\"#ed7953\"],[0.7777777777777778,\"#fb9f3a\"],[0.8888888888888888,\"#fdca26\"],[1.0,\"#f0f921\"]],\"diverging\":[[0,\"#8e0152\"],[0.1,\"#c51b7d\"],[0.2,\"#de77ae\"],[0.3,\"#f1b6da\"],[0.4,\"#fde0ef\"],[0.5,\"#f7f7f7\"],[0.6,\"#e6f5d0\"],[0.7,\"#b8e186\"],[0.8,\"#7fbc41\"],[0.9,\"#4d9221\"],[1,\"#276419\"]]},\"xaxis\":{\"gridcolor\":\"white\",\"linecolor\":\"white\",\"ticks\":\"\",\"title\":{\"standoff\":15},\"zerolinecolor\":\"white\",\"automargin\":true,\"zerolinewidth\":2},\"yaxis\":{\"gridcolor\":\"white\",\"linecolor\":\"white\",\"ticks\":\"\",\"title\":{\"standoff\":15},\"zerolinecolor\":\"white\",\"automargin\":true,\"zerolinewidth\":2},\"scene\":{\"xaxis\":{\"backgroundcolor\":\"#E5ECF6\",\"gridcolor\":\"white\",\"linecolor\":\"white\",\"showbackground\":true,\"ticks\":\"\",\"zerolinecolor\":\"white\",\"gridwidth\":2},\"yaxis\":{\"backgroundcolor\":\"#E5ECF6\",\"gridcolor\":\"white\",\"linecolor\":\"white\",\"showbackground\":true,\"ticks\":\"\",\"zerolinecolor\":\"white\",\"gridwidth\":2},\"zaxis\":{\"backgroundcolor\":\"#E5ECF6\",\"gridcolor\":\"white\",\"linecolor\":\"white\",\"showbackground\":true,\"ticks\":\"\",\"zerolinecolor\":\"white\",\"gridwidth\":2}},\"shapedefaults\":{\"line\":{\"color\":\"#2a3f5f\"}},\"annotationdefaults\":{\"arrowcolor\":\"#2a3f5f\",\"arrowhead\":0,\"arrowwidth\":1},\"geo\":{\"bgcolor\":\"white\",\"landcolor\":\"#E5ECF6\",\"subunitcolor\":\"white\",\"showland\":true,\"showlakes\":true,\"lakecolor\":\"white\"},\"title\":{\"x\":0.05},\"mapbox\":{\"style\":\"light\"}}},\"annotations\":[{\"font\":{\"size\":16},\"showarrow\":false,\"text\":\"<b>Z-DNA & miRNA</b> (3,391)\",\"x\":0.11,\"xanchor\":\"center\",\"xref\":\"paper\",\"y\":1.0,\"yanchor\":\"bottom\",\"yref\":\"paper\",\"yshift\":20},{\"font\":{\"size\":16},\"showarrow\":false,\"text\":\"<b>SIDD & miRNA</b> (12,143)\",\"x\":0.37,\"xanchor\":\"center\",\"xref\":\"paper\",\"y\":1.0,\"yanchor\":\"bottom\",\"yref\":\"paper\",\"yshift\":20},{\"font\":{\"size\":16},\"showarrow\":false,\"text\":\"<b>G4 & miRNA</b> (4,569)\",\"x\":0.63,\"xanchor\":\"center\",\"xref\":\"paper\",\"y\":1.0,\"yanchor\":\"bottom\",\"yref\":\"paper\",\"yshift\":20},{\"font\":{\"size\":16},\"showarrow\":false,\"text\":\"<b>H-DNA & miRNA</b> (1,474)\",\"x\":0.89,\"xanchor\":\"center\",\"xref\":\"paper\",\"y\":1.0,\"yanchor\":\"bottom\",\"yref\":\"paper\",\"yshift\":20}],\"uniformtext\":{\"minsize\":10,\"mode\":\"hide\"},\"font\":{\"family\":\"monospace\",\"size\":14},\"margin\":{\"t\":60,\"b\":0,\"l\":0},\"legend\":{\"xanchor\":\"left\",\"x\":1.025},\"height\":500,\"width\":1800},                        {\"responsive\": true}                    ).then(function(){\n",
              "                            \n",
              "var gd = document.getElementById('a0a2f9de-81be-4122-89b4-f09055390315');\n",
              "var x = new MutationObserver(function (mutations, observer) {{\n",
              "        var display = window.getComputedStyle(gd).display;\n",
              "        if (!display || display === 'none') {{\n",
              "            console.log([gd, 'removed!']);\n",
              "            Plotly.purge(gd);\n",
              "            observer.disconnect();\n",
              "        }}\n",
              "}});\n",
              "\n",
              "// Listen for the removal of the full notebook cells\n",
              "var notebookContainer = gd.closest('#notebook-container');\n",
              "if (notebookContainer) {{\n",
              "    x.observe(notebookContainer, {childList: true});\n",
              "}}\n",
              "\n",
              "// Listen for the clearing of the current output cell\n",
              "var outputEl = gd.closest('.output');\n",
              "if (outputEl) {{\n",
              "    x.observe(outputEl, {childList: true});\n",
              "}}\n",
              "\n",
              "                        })                };                });            </script>        </div>"
            ]
          },
          "metadata": {},
          "output_type": "display_data"
        },
        {
          "data": {
            "application/vnd.plotly.v1+json": {
              "config": {
                "plotlyServerURL": "https://plot.ly"
              },
              "data": [
                {
                  "direction": "clockwise",
                  "domain": {
                    "x": [
                      0,
                      0.22
                    ],
                    "y": [
                      0,
                      1
                    ]
                  },
                  "hole": 0.35,
                  "hoverinfo": "label+percent+name",
                  "labels": [
                    "Promoter (<=1kb)",
                    "Promoter (1-2kb)",
                    "Promoter (2-3kb)",
                    "5' UTR",
                    "3' UTR",
                    "1st Exon",
                    "Other Exon",
                    "1st Intron",
                    "Other Intron",
                    "Downstream (<=300)",
                    "Distal Intergenic"
                  ],
                  "name": "<b>Z-DNA & SIDD(±100p)</b> (757)",
                  "rotation": 0,
                  "sort": false,
                  "texttemplate": "%{value:.2f}%",
                  "type": "pie",
                  "values": [
                    20.0527704,
                    6.0686016,
                    4.0897098,
                    0,
                    0.9234828,
                    0.1319261,
                    0.9234828,
                    6.5963061,
                    19.3931398,
                    0.1319261,
                    41.6886544
                  ]
                },
                {
                  "direction": "clockwise",
                  "domain": {
                    "x": [
                      0.26,
                      0.48
                    ],
                    "y": [
                      0,
                      1
                    ]
                  },
                  "hole": 0.35,
                  "hoverinfo": "label+percent+name",
                  "labels": [
                    "Promoter (<=1kb)",
                    "Promoter (1-2kb)",
                    "Promoter (2-3kb)",
                    "5' UTR",
                    "3' UTR",
                    "1st Exon",
                    "Other Exon",
                    "1st Intron",
                    "Other Intron",
                    "Downstream (<=300)",
                    "Distal Intergenic"
                  ],
                  "name": "<b>SIDD(±100bp)</b> (15,294)",
                  "rotation": 0,
                  "sort": false,
                  "texttemplate": "%{value:.2f}%",
                  "type": "pie",
                  "values": [
                    7.20449791,
                    4.11218619,
                    3.47803347,
                    0.02615063,
                    0.96103556,
                    0.05230126,
                    0.8498954,
                    7.2960251,
                    18.05700837,
                    0.05883891,
                    57.9040272
                  ]
                },
                {
                  "direction": "clockwise",
                  "domain": {
                    "x": [
                      0.52,
                      0.74
                    ],
                    "y": [
                      0,
                      1
                    ]
                  },
                  "hole": 0.35,
                  "hoverinfo": "label+percent+name",
                  "labels": [
                    "Promoter (<=1kb)",
                    "Promoter (1-2kb)",
                    "Promoter (2-3kb)",
                    "5' UTR",
                    "3' UTR",
                    "1st Exon",
                    "Other Exon",
                    "1st Intron",
                    "Other Intron",
                    "Downstream (<=300)",
                    "Distal Intergenic"
                  ],
                  "name": "<b>G4 & SIDD(±100bp)</b> (2,250)",
                  "rotation": 0,
                  "sort": false,
                  "texttemplate": "%{value:.2f}%",
                  "type": "pie",
                  "values": [
                    6.7555556,
                    4.4888889,
                    3.3333333,
                    0,
                    0.7555556,
                    0,
                    0.1777778,
                    8.4444444,
                    19.8222222,
                    0,
                    56.2222222
                  ]
                },
                {
                  "direction": "clockwise",
                  "domain": {
                    "x": [
                      0.78,
                      1
                    ],
                    "y": [
                      0,
                      1
                    ]
                  },
                  "hole": 0.35,
                  "hoverinfo": "label+percent+name",
                  "labels": [
                    "Promoter (<=1kb)",
                    "Promoter (1-2kb)",
                    "Promoter (2-3kb)",
                    "5' UTR",
                    "3' UTR",
                    "1st Exon",
                    "Other Exon",
                    "1st Intron",
                    "Other Intron",
                    "Downstream (<=300)",
                    "Distal Intergenic"
                  ],
                  "name": "<b>H-DNA & SIDD(±100bp)</b> (2,016)",
                  "rotation": 0,
                  "sort": false,
                  "texttemplate": "%{value:.2f}%",
                  "type": "pie",
                  "values": [
                    10.16865079,
                    4.76190476,
                    2.77777778,
                    0,
                    0.99206349,
                    0,
                    0.24801587,
                    7.44047619,
                    20.08928571,
                    0.09920635,
                    53.42261905
                  ]
                }
              ],
              "layout": {
                "annotations": [
                  {
                    "font": {
                      "size": 16
                    },
                    "showarrow": false,
                    "text": "<b>Z-DNA & SIDD(±100p)</b> (757)",
                    "x": 0.11,
                    "xanchor": "center",
                    "xref": "paper",
                    "y": 1,
                    "yanchor": "bottom",
                    "yref": "paper",
                    "yshift": 20
                  },
                  {
                    "font": {
                      "size": 16
                    },
                    "showarrow": false,
                    "text": "<b>SIDD(±100bp)</b> (15,294)",
                    "x": 0.37,
                    "xanchor": "center",
                    "xref": "paper",
                    "y": 1,
                    "yanchor": "bottom",
                    "yref": "paper",
                    "yshift": 20
                  },
                  {
                    "font": {
                      "size": 16
                    },
                    "showarrow": false,
                    "text": "<b>G4 & SIDD(±100bp)</b> (2,250)",
                    "x": 0.63,
                    "xanchor": "center",
                    "xref": "paper",
                    "y": 1,
                    "yanchor": "bottom",
                    "yref": "paper",
                    "yshift": 20
                  },
                  {
                    "font": {
                      "size": 16
                    },
                    "showarrow": false,
                    "text": "<b>H-DNA & SIDD(±100bp)</b> (2,016)",
                    "x": 0.89,
                    "xanchor": "center",
                    "xref": "paper",
                    "y": 1,
                    "yanchor": "bottom",
                    "yref": "paper",
                    "yshift": 20
                  }
                ],
                "font": {
                  "family": "monospace",
                  "size": 14
                },
                "height": 500,
                "legend": {
                  "x": 1.025,
                  "xanchor": "left"
                },
                "margin": {
                  "b": 0,
                  "l": 0,
                  "t": 60
                },
                "template": {
                  "data": {
                    "bar": [
                      {
                        "error_x": {
                          "color": "#2a3f5f"
                        },
                        "error_y": {
                          "color": "#2a3f5f"
                        },
                        "marker": {
                          "line": {
                            "color": "#E5ECF6",
                            "width": 0.5
                          },
                          "pattern": {
                            "fillmode": "overlay",
                            "size": 10,
                            "solidity": 0.2
                          }
                        },
                        "type": "bar"
                      }
                    ],
                    "barpolar": [
                      {
                        "marker": {
                          "line": {
                            "color": "#E5ECF6",
                            "width": 0.5
                          },
                          "pattern": {
                            "fillmode": "overlay",
                            "size": 10,
                            "solidity": 0.2
                          }
                        },
                        "type": "barpolar"
                      }
                    ],
                    "carpet": [
                      {
                        "aaxis": {
                          "endlinecolor": "#2a3f5f",
                          "gridcolor": "white",
                          "linecolor": "white",
                          "minorgridcolor": "white",
                          "startlinecolor": "#2a3f5f"
                        },
                        "baxis": {
                          "endlinecolor": "#2a3f5f",
                          "gridcolor": "white",
                          "linecolor": "white",
                          "minorgridcolor": "white",
                          "startlinecolor": "#2a3f5f"
                        },
                        "type": "carpet"
                      }
                    ],
                    "choropleth": [
                      {
                        "colorbar": {
                          "outlinewidth": 0,
                          "ticks": ""
                        },
                        "type": "choropleth"
                      }
                    ],
                    "contour": [
                      {
                        "colorbar": {
                          "outlinewidth": 0,
                          "ticks": ""
                        },
                        "colorscale": [
                          [
                            0,
                            "#0d0887"
                          ],
                          [
                            0.1111111111111111,
                            "#46039f"
                          ],
                          [
                            0.2222222222222222,
                            "#7201a8"
                          ],
                          [
                            0.3333333333333333,
                            "#9c179e"
                          ],
                          [
                            0.4444444444444444,
                            "#bd3786"
                          ],
                          [
                            0.5555555555555556,
                            "#d8576b"
                          ],
                          [
                            0.6666666666666666,
                            "#ed7953"
                          ],
                          [
                            0.7777777777777778,
                            "#fb9f3a"
                          ],
                          [
                            0.8888888888888888,
                            "#fdca26"
                          ],
                          [
                            1,
                            "#f0f921"
                          ]
                        ],
                        "type": "contour"
                      }
                    ],
                    "contourcarpet": [
                      {
                        "colorbar": {
                          "outlinewidth": 0,
                          "ticks": ""
                        },
                        "type": "contourcarpet"
                      }
                    ],
                    "heatmap": [
                      {
                        "colorbar": {
                          "outlinewidth": 0,
                          "ticks": ""
                        },
                        "colorscale": [
                          [
                            0,
                            "#0d0887"
                          ],
                          [
                            0.1111111111111111,
                            "#46039f"
                          ],
                          [
                            0.2222222222222222,
                            "#7201a8"
                          ],
                          [
                            0.3333333333333333,
                            "#9c179e"
                          ],
                          [
                            0.4444444444444444,
                            "#bd3786"
                          ],
                          [
                            0.5555555555555556,
                            "#d8576b"
                          ],
                          [
                            0.6666666666666666,
                            "#ed7953"
                          ],
                          [
                            0.7777777777777778,
                            "#fb9f3a"
                          ],
                          [
                            0.8888888888888888,
                            "#fdca26"
                          ],
                          [
                            1,
                            "#f0f921"
                          ]
                        ],
                        "type": "heatmap"
                      }
                    ],
                    "heatmapgl": [
                      {
                        "colorbar": {
                          "outlinewidth": 0,
                          "ticks": ""
                        },
                        "colorscale": [
                          [
                            0,
                            "#0d0887"
                          ],
                          [
                            0.1111111111111111,
                            "#46039f"
                          ],
                          [
                            0.2222222222222222,
                            "#7201a8"
                          ],
                          [
                            0.3333333333333333,
                            "#9c179e"
                          ],
                          [
                            0.4444444444444444,
                            "#bd3786"
                          ],
                          [
                            0.5555555555555556,
                            "#d8576b"
                          ],
                          [
                            0.6666666666666666,
                            "#ed7953"
                          ],
                          [
                            0.7777777777777778,
                            "#fb9f3a"
                          ],
                          [
                            0.8888888888888888,
                            "#fdca26"
                          ],
                          [
                            1,
                            "#f0f921"
                          ]
                        ],
                        "type": "heatmapgl"
                      }
                    ],
                    "histogram": [
                      {
                        "marker": {
                          "pattern": {
                            "fillmode": "overlay",
                            "size": 10,
                            "solidity": 0.2
                          }
                        },
                        "type": "histogram"
                      }
                    ],
                    "histogram2d": [
                      {
                        "colorbar": {
                          "outlinewidth": 0,
                          "ticks": ""
                        },
                        "colorscale": [
                          [
                            0,
                            "#0d0887"
                          ],
                          [
                            0.1111111111111111,
                            "#46039f"
                          ],
                          [
                            0.2222222222222222,
                            "#7201a8"
                          ],
                          [
                            0.3333333333333333,
                            "#9c179e"
                          ],
                          [
                            0.4444444444444444,
                            "#bd3786"
                          ],
                          [
                            0.5555555555555556,
                            "#d8576b"
                          ],
                          [
                            0.6666666666666666,
                            "#ed7953"
                          ],
                          [
                            0.7777777777777778,
                            "#fb9f3a"
                          ],
                          [
                            0.8888888888888888,
                            "#fdca26"
                          ],
                          [
                            1,
                            "#f0f921"
                          ]
                        ],
                        "type": "histogram2d"
                      }
                    ],
                    "histogram2dcontour": [
                      {
                        "colorbar": {
                          "outlinewidth": 0,
                          "ticks": ""
                        },
                        "colorscale": [
                          [
                            0,
                            "#0d0887"
                          ],
                          [
                            0.1111111111111111,
                            "#46039f"
                          ],
                          [
                            0.2222222222222222,
                            "#7201a8"
                          ],
                          [
                            0.3333333333333333,
                            "#9c179e"
                          ],
                          [
                            0.4444444444444444,
                            "#bd3786"
                          ],
                          [
                            0.5555555555555556,
                            "#d8576b"
                          ],
                          [
                            0.6666666666666666,
                            "#ed7953"
                          ],
                          [
                            0.7777777777777778,
                            "#fb9f3a"
                          ],
                          [
                            0.8888888888888888,
                            "#fdca26"
                          ],
                          [
                            1,
                            "#f0f921"
                          ]
                        ],
                        "type": "histogram2dcontour"
                      }
                    ],
                    "mesh3d": [
                      {
                        "colorbar": {
                          "outlinewidth": 0,
                          "ticks": ""
                        },
                        "type": "mesh3d"
                      }
                    ],
                    "parcoords": [
                      {
                        "line": {
                          "colorbar": {
                            "outlinewidth": 0,
                            "ticks": ""
                          }
                        },
                        "type": "parcoords"
                      }
                    ],
                    "pie": [
                      {
                        "automargin": true,
                        "type": "pie"
                      }
                    ],
                    "scatter": [
                      {
                        "fillpattern": {
                          "fillmode": "overlay",
                          "size": 10,
                          "solidity": 0.2
                        },
                        "type": "scatter"
                      }
                    ],
                    "scatter3d": [
                      {
                        "line": {
                          "colorbar": {
                            "outlinewidth": 0,
                            "ticks": ""
                          }
                        },
                        "marker": {
                          "colorbar": {
                            "outlinewidth": 0,
                            "ticks": ""
                          }
                        },
                        "type": "scatter3d"
                      }
                    ],
                    "scattercarpet": [
                      {
                        "marker": {
                          "colorbar": {
                            "outlinewidth": 0,
                            "ticks": ""
                          }
                        },
                        "type": "scattercarpet"
                      }
                    ],
                    "scattergeo": [
                      {
                        "marker": {
                          "colorbar": {
                            "outlinewidth": 0,
                            "ticks": ""
                          }
                        },
                        "type": "scattergeo"
                      }
                    ],
                    "scattergl": [
                      {
                        "marker": {
                          "colorbar": {
                            "outlinewidth": 0,
                            "ticks": ""
                          }
                        },
                        "type": "scattergl"
                      }
                    ],
                    "scattermapbox": [
                      {
                        "marker": {
                          "colorbar": {
                            "outlinewidth": 0,
                            "ticks": ""
                          }
                        },
                        "type": "scattermapbox"
                      }
                    ],
                    "scatterpolar": [
                      {
                        "marker": {
                          "colorbar": {
                            "outlinewidth": 0,
                            "ticks": ""
                          }
                        },
                        "type": "scatterpolar"
                      }
                    ],
                    "scatterpolargl": [
                      {
                        "marker": {
                          "colorbar": {
                            "outlinewidth": 0,
                            "ticks": ""
                          }
                        },
                        "type": "scatterpolargl"
                      }
                    ],
                    "scatterternary": [
                      {
                        "marker": {
                          "colorbar": {
                            "outlinewidth": 0,
                            "ticks": ""
                          }
                        },
                        "type": "scatterternary"
                      }
                    ],
                    "surface": [
                      {
                        "colorbar": {
                          "outlinewidth": 0,
                          "ticks": ""
                        },
                        "colorscale": [
                          [
                            0,
                            "#0d0887"
                          ],
                          [
                            0.1111111111111111,
                            "#46039f"
                          ],
                          [
                            0.2222222222222222,
                            "#7201a8"
                          ],
                          [
                            0.3333333333333333,
                            "#9c179e"
                          ],
                          [
                            0.4444444444444444,
                            "#bd3786"
                          ],
                          [
                            0.5555555555555556,
                            "#d8576b"
                          ],
                          [
                            0.6666666666666666,
                            "#ed7953"
                          ],
                          [
                            0.7777777777777778,
                            "#fb9f3a"
                          ],
                          [
                            0.8888888888888888,
                            "#fdca26"
                          ],
                          [
                            1,
                            "#f0f921"
                          ]
                        ],
                        "type": "surface"
                      }
                    ],
                    "table": [
                      {
                        "cells": {
                          "fill": {
                            "color": "#EBF0F8"
                          },
                          "line": {
                            "color": "white"
                          }
                        },
                        "header": {
                          "fill": {
                            "color": "#C8D4E3"
                          },
                          "line": {
                            "color": "white"
                          }
                        },
                        "type": "table"
                      }
                    ]
                  },
                  "layout": {
                    "annotationdefaults": {
                      "arrowcolor": "#2a3f5f",
                      "arrowhead": 0,
                      "arrowwidth": 1
                    },
                    "autotypenumbers": "strict",
                    "coloraxis": {
                      "colorbar": {
                        "outlinewidth": 0,
                        "ticks": ""
                      }
                    },
                    "colorscale": {
                      "diverging": [
                        [
                          0,
                          "#8e0152"
                        ],
                        [
                          0.1,
                          "#c51b7d"
                        ],
                        [
                          0.2,
                          "#de77ae"
                        ],
                        [
                          0.3,
                          "#f1b6da"
                        ],
                        [
                          0.4,
                          "#fde0ef"
                        ],
                        [
                          0.5,
                          "#f7f7f7"
                        ],
                        [
                          0.6,
                          "#e6f5d0"
                        ],
                        [
                          0.7,
                          "#b8e186"
                        ],
                        [
                          0.8,
                          "#7fbc41"
                        ],
                        [
                          0.9,
                          "#4d9221"
                        ],
                        [
                          1,
                          "#276419"
                        ]
                      ],
                      "sequential": [
                        [
                          0,
                          "#0d0887"
                        ],
                        [
                          0.1111111111111111,
                          "#46039f"
                        ],
                        [
                          0.2222222222222222,
                          "#7201a8"
                        ],
                        [
                          0.3333333333333333,
                          "#9c179e"
                        ],
                        [
                          0.4444444444444444,
                          "#bd3786"
                        ],
                        [
                          0.5555555555555556,
                          "#d8576b"
                        ],
                        [
                          0.6666666666666666,
                          "#ed7953"
                        ],
                        [
                          0.7777777777777778,
                          "#fb9f3a"
                        ],
                        [
                          0.8888888888888888,
                          "#fdca26"
                        ],
                        [
                          1,
                          "#f0f921"
                        ]
                      ],
                      "sequentialminus": [
                        [
                          0,
                          "#0d0887"
                        ],
                        [
                          0.1111111111111111,
                          "#46039f"
                        ],
                        [
                          0.2222222222222222,
                          "#7201a8"
                        ],
                        [
                          0.3333333333333333,
                          "#9c179e"
                        ],
                        [
                          0.4444444444444444,
                          "#bd3786"
                        ],
                        [
                          0.5555555555555556,
                          "#d8576b"
                        ],
                        [
                          0.6666666666666666,
                          "#ed7953"
                        ],
                        [
                          0.7777777777777778,
                          "#fb9f3a"
                        ],
                        [
                          0.8888888888888888,
                          "#fdca26"
                        ],
                        [
                          1,
                          "#f0f921"
                        ]
                      ]
                    },
                    "colorway": [
                      "#636efa",
                      "#EF553B",
                      "#00cc96",
                      "#ab63fa",
                      "#FFA15A",
                      "#19d3f3",
                      "#FF6692",
                      "#B6E880",
                      "#FF97FF",
                      "#FECB52"
                    ],
                    "font": {
                      "color": "#2a3f5f"
                    },
                    "geo": {
                      "bgcolor": "white",
                      "lakecolor": "white",
                      "landcolor": "#E5ECF6",
                      "showlakes": true,
                      "showland": true,
                      "subunitcolor": "white"
                    },
                    "hoverlabel": {
                      "align": "left"
                    },
                    "hovermode": "closest",
                    "mapbox": {
                      "style": "light"
                    },
                    "paper_bgcolor": "white",
                    "plot_bgcolor": "#E5ECF6",
                    "polar": {
                      "angularaxis": {
                        "gridcolor": "white",
                        "linecolor": "white",
                        "ticks": ""
                      },
                      "bgcolor": "#E5ECF6",
                      "radialaxis": {
                        "gridcolor": "white",
                        "linecolor": "white",
                        "ticks": ""
                      }
                    },
                    "scene": {
                      "xaxis": {
                        "backgroundcolor": "#E5ECF6",
                        "gridcolor": "white",
                        "gridwidth": 2,
                        "linecolor": "white",
                        "showbackground": true,
                        "ticks": "",
                        "zerolinecolor": "white"
                      },
                      "yaxis": {
                        "backgroundcolor": "#E5ECF6",
                        "gridcolor": "white",
                        "gridwidth": 2,
                        "linecolor": "white",
                        "showbackground": true,
                        "ticks": "",
                        "zerolinecolor": "white"
                      },
                      "zaxis": {
                        "backgroundcolor": "#E5ECF6",
                        "gridcolor": "white",
                        "gridwidth": 2,
                        "linecolor": "white",
                        "showbackground": true,
                        "ticks": "",
                        "zerolinecolor": "white"
                      }
                    },
                    "shapedefaults": {
                      "line": {
                        "color": "#2a3f5f"
                      }
                    },
                    "ternary": {
                      "aaxis": {
                        "gridcolor": "white",
                        "linecolor": "white",
                        "ticks": ""
                      },
                      "baxis": {
                        "gridcolor": "white",
                        "linecolor": "white",
                        "ticks": ""
                      },
                      "bgcolor": "#E5ECF6",
                      "caxis": {
                        "gridcolor": "white",
                        "linecolor": "white",
                        "ticks": ""
                      }
                    },
                    "title": {
                      "x": 0.05
                    },
                    "xaxis": {
                      "automargin": true,
                      "gridcolor": "white",
                      "linecolor": "white",
                      "ticks": "",
                      "title": {
                        "standoff": 15
                      },
                      "zerolinecolor": "white",
                      "zerolinewidth": 2
                    },
                    "yaxis": {
                      "automargin": true,
                      "gridcolor": "white",
                      "linecolor": "white",
                      "ticks": "",
                      "title": {
                        "standoff": 15
                      },
                      "zerolinecolor": "white",
                      "zerolinewidth": 2
                    }
                  }
                },
                "uniformtext": {
                  "minsize": 10,
                  "mode": "hide"
                },
                "width": 1800
              }
            },
            "text/html": [
              "<div>                            <div id=\"aa7f5c57-fbaa-441c-8b15-7ebee4d54491\" class=\"plotly-graph-div\" style=\"height:500px; width:1800px;\"></div>            <script type=\"text/javascript\">                require([\"plotly\"], function(Plotly) {                    window.PLOTLYENV=window.PLOTLYENV || {};                                    if (document.getElementById(\"aa7f5c57-fbaa-441c-8b15-7ebee4d54491\")) {                    Plotly.newPlot(                        \"aa7f5c57-fbaa-441c-8b15-7ebee4d54491\",                        [{\"direction\":\"clockwise\",\"labels\":[\"Promoter (<=1kb)\",\"Promoter (1-2kb)\",\"Promoter (2-3kb)\",\"5' UTR\",\"3' UTR\",\"1st Exon\",\"Other Exon\",\"1st Intron\",\"Other Intron\",\"Downstream (<=300)\",\"Distal Intergenic\"],\"name\":\"<b>Z-DNA & SIDD(\\u00b1100p)</b> (757)\",\"rotation\":0,\"sort\":false,\"values\":[20.0527704,6.0686016,4.0897098,0,0.9234828,0.1319261,0.9234828,6.5963061,19.3931398,0.1319261,41.6886544],\"type\":\"pie\",\"domain\":{\"x\":[0.0,0.22],\"y\":[0.0,1.0]},\"hole\":0.35,\"hoverinfo\":\"label+percent+name\",\"texttemplate\":\"%{value:.2f}%\"},{\"direction\":\"clockwise\",\"labels\":[\"Promoter (<=1kb)\",\"Promoter (1-2kb)\",\"Promoter (2-3kb)\",\"5' UTR\",\"3' UTR\",\"1st Exon\",\"Other Exon\",\"1st Intron\",\"Other Intron\",\"Downstream (<=300)\",\"Distal Intergenic\"],\"name\":\"<b>SIDD(\\u00b1100bp)</b> (15,294)\",\"rotation\":0,\"sort\":false,\"values\":[7.20449791,4.11218619,3.47803347,0.02615063,0.96103556,0.05230126,0.8498954,7.2960251,18.05700837,0.05883891,57.9040272],\"type\":\"pie\",\"domain\":{\"x\":[0.26,0.48],\"y\":[0.0,1.0]},\"hole\":0.35,\"hoverinfo\":\"label+percent+name\",\"texttemplate\":\"%{value:.2f}%\"},{\"direction\":\"clockwise\",\"labels\":[\"Promoter (<=1kb)\",\"Promoter (1-2kb)\",\"Promoter (2-3kb)\",\"5' UTR\",\"3' UTR\",\"1st Exon\",\"Other Exon\",\"1st Intron\",\"Other Intron\",\"Downstream (<=300)\",\"Distal Intergenic\"],\"name\":\"<b>G4 & SIDD(\\u00b1100bp)</b> (2,250)\",\"rotation\":0,\"sort\":false,\"values\":[6.7555556,4.4888889,3.3333333,0,0.7555556,0,0.1777778,8.4444444,19.8222222,0,56.2222222],\"type\":\"pie\",\"domain\":{\"x\":[0.52,0.74],\"y\":[0.0,1.0]},\"hole\":0.35,\"hoverinfo\":\"label+percent+name\",\"texttemplate\":\"%{value:.2f}%\"},{\"direction\":\"clockwise\",\"labels\":[\"Promoter (<=1kb)\",\"Promoter (1-2kb)\",\"Promoter (2-3kb)\",\"5' UTR\",\"3' UTR\",\"1st Exon\",\"Other Exon\",\"1st Intron\",\"Other Intron\",\"Downstream (<=300)\",\"Distal Intergenic\"],\"name\":\"<b>H-DNA & SIDD(\\u00b1100bp)</b> (2,016)\",\"rotation\":0,\"sort\":false,\"values\":[10.16865079,4.76190476,2.77777778,0,0.99206349,0,0.24801587,7.44047619,20.08928571,0.09920635,53.42261905],\"type\":\"pie\",\"domain\":{\"x\":[0.78,1.0],\"y\":[0.0,1.0]},\"hole\":0.35,\"hoverinfo\":\"label+percent+name\",\"texttemplate\":\"%{value:.2f}%\"}],                        {\"template\":{\"data\":{\"histogram2dcontour\":[{\"type\":\"histogram2dcontour\",\"colorbar\":{\"outlinewidth\":0,\"ticks\":\"\"},\"colorscale\":[[0.0,\"#0d0887\"],[0.1111111111111111,\"#46039f\"],[0.2222222222222222,\"#7201a8\"],[0.3333333333333333,\"#9c179e\"],[0.4444444444444444,\"#bd3786\"],[0.5555555555555556,\"#d8576b\"],[0.6666666666666666,\"#ed7953\"],[0.7777777777777778,\"#fb9f3a\"],[0.8888888888888888,\"#fdca26\"],[1.0,\"#f0f921\"]]}],\"choropleth\":[{\"type\":\"choropleth\",\"colorbar\":{\"outlinewidth\":0,\"ticks\":\"\"}}],\"histogram2d\":[{\"type\":\"histogram2d\",\"colorbar\":{\"outlinewidth\":0,\"ticks\":\"\"},\"colorscale\":[[0.0,\"#0d0887\"],[0.1111111111111111,\"#46039f\"],[0.2222222222222222,\"#7201a8\"],[0.3333333333333333,\"#9c179e\"],[0.4444444444444444,\"#bd3786\"],[0.5555555555555556,\"#d8576b\"],[0.6666666666666666,\"#ed7953\"],[0.7777777777777778,\"#fb9f3a\"],[0.8888888888888888,\"#fdca26\"],[1.0,\"#f0f921\"]]}],\"heatmap\":[{\"type\":\"heatmap\",\"colorbar\":{\"outlinewidth\":0,\"ticks\":\"\"},\"colorscale\":[[0.0,\"#0d0887\"],[0.1111111111111111,\"#46039f\"],[0.2222222222222222,\"#7201a8\"],[0.3333333333333333,\"#9c179e\"],[0.4444444444444444,\"#bd3786\"],[0.5555555555555556,\"#d8576b\"],[0.6666666666666666,\"#ed7953\"],[0.7777777777777778,\"#fb9f3a\"],[0.8888888888888888,\"#fdca26\"],[1.0,\"#f0f921\"]]}],\"heatmapgl\":[{\"type\":\"heatmapgl\",\"colorbar\":{\"outlinewidth\":0,\"ticks\":\"\"},\"colorscale\":[[0.0,\"#0d0887\"],[0.1111111111111111,\"#46039f\"],[0.2222222222222222,\"#7201a8\"],[0.3333333333333333,\"#9c179e\"],[0.4444444444444444,\"#bd3786\"],[0.5555555555555556,\"#d8576b\"],[0.6666666666666666,\"#ed7953\"],[0.7777777777777778,\"#fb9f3a\"],[0.8888888888888888,\"#fdca26\"],[1.0,\"#f0f921\"]]}],\"contourcarpet\":[{\"type\":\"contourcarpet\",\"colorbar\":{\"outlinewidth\":0,\"ticks\":\"\"}}],\"contour\":[{\"type\":\"contour\",\"colorbar\":{\"outlinewidth\":0,\"ticks\":\"\"},\"colorscale\":[[0.0,\"#0d0887\"],[0.1111111111111111,\"#46039f\"],[0.2222222222222222,\"#7201a8\"],[0.3333333333333333,\"#9c179e\"],[0.4444444444444444,\"#bd3786\"],[0.5555555555555556,\"#d8576b\"],[0.6666666666666666,\"#ed7953\"],[0.7777777777777778,\"#fb9f3a\"],[0.8888888888888888,\"#fdca26\"],[1.0,\"#f0f921\"]]}],\"surface\":[{\"type\":\"surface\",\"colorbar\":{\"outlinewidth\":0,\"ticks\":\"\"},\"colorscale\":[[0.0,\"#0d0887\"],[0.1111111111111111,\"#46039f\"],[0.2222222222222222,\"#7201a8\"],[0.3333333333333333,\"#9c179e\"],[0.4444444444444444,\"#bd3786\"],[0.5555555555555556,\"#d8576b\"],[0.6666666666666666,\"#ed7953\"],[0.7777777777777778,\"#fb9f3a\"],[0.8888888888888888,\"#fdca26\"],[1.0,\"#f0f921\"]]}],\"mesh3d\":[{\"type\":\"mesh3d\",\"colorbar\":{\"outlinewidth\":0,\"ticks\":\"\"}}],\"scatter\":[{\"fillpattern\":{\"fillmode\":\"overlay\",\"size\":10,\"solidity\":0.2},\"type\":\"scatter\"}],\"parcoords\":[{\"type\":\"parcoords\",\"line\":{\"colorbar\":{\"outlinewidth\":0,\"ticks\":\"\"}}}],\"scatterpolargl\":[{\"type\":\"scatterpolargl\",\"marker\":{\"colorbar\":{\"outlinewidth\":0,\"ticks\":\"\"}}}],\"bar\":[{\"error_x\":{\"color\":\"#2a3f5f\"},\"error_y\":{\"color\":\"#2a3f5f\"},\"marker\":{\"line\":{\"color\":\"#E5ECF6\",\"width\":0.5},\"pattern\":{\"fillmode\":\"overlay\",\"size\":10,\"solidity\":0.2}},\"type\":\"bar\"}],\"scattergeo\":[{\"type\":\"scattergeo\",\"marker\":{\"colorbar\":{\"outlinewidth\":0,\"ticks\":\"\"}}}],\"scatterpolar\":[{\"type\":\"scatterpolar\",\"marker\":{\"colorbar\":{\"outlinewidth\":0,\"ticks\":\"\"}}}],\"histogram\":[{\"marker\":{\"pattern\":{\"fillmode\":\"overlay\",\"size\":10,\"solidity\":0.2}},\"type\":\"histogram\"}],\"scattergl\":[{\"type\":\"scattergl\",\"marker\":{\"colorbar\":{\"outlinewidth\":0,\"ticks\":\"\"}}}],\"scatter3d\":[{\"type\":\"scatter3d\",\"line\":{\"colorbar\":{\"outlinewidth\":0,\"ticks\":\"\"}},\"marker\":{\"colorbar\":{\"outlinewidth\":0,\"ticks\":\"\"}}}],\"scattermapbox\":[{\"type\":\"scattermapbox\",\"marker\":{\"colorbar\":{\"outlinewidth\":0,\"ticks\":\"\"}}}],\"scatterternary\":[{\"type\":\"scatterternary\",\"marker\":{\"colorbar\":{\"outlinewidth\":0,\"ticks\":\"\"}}}],\"scattercarpet\":[{\"type\":\"scattercarpet\",\"marker\":{\"colorbar\":{\"outlinewidth\":0,\"ticks\":\"\"}}}],\"carpet\":[{\"aaxis\":{\"endlinecolor\":\"#2a3f5f\",\"gridcolor\":\"white\",\"linecolor\":\"white\",\"minorgridcolor\":\"white\",\"startlinecolor\":\"#2a3f5f\"},\"baxis\":{\"endlinecolor\":\"#2a3f5f\",\"gridcolor\":\"white\",\"linecolor\":\"white\",\"minorgridcolor\":\"white\",\"startlinecolor\":\"#2a3f5f\"},\"type\":\"carpet\"}],\"table\":[{\"cells\":{\"fill\":{\"color\":\"#EBF0F8\"},\"line\":{\"color\":\"white\"}},\"header\":{\"fill\":{\"color\":\"#C8D4E3\"},\"line\":{\"color\":\"white\"}},\"type\":\"table\"}],\"barpolar\":[{\"marker\":{\"line\":{\"color\":\"#E5ECF6\",\"width\":0.5},\"pattern\":{\"fillmode\":\"overlay\",\"size\":10,\"solidity\":0.2}},\"type\":\"barpolar\"}],\"pie\":[{\"automargin\":true,\"type\":\"pie\"}]},\"layout\":{\"autotypenumbers\":\"strict\",\"colorway\":[\"#636efa\",\"#EF553B\",\"#00cc96\",\"#ab63fa\",\"#FFA15A\",\"#19d3f3\",\"#FF6692\",\"#B6E880\",\"#FF97FF\",\"#FECB52\"],\"font\":{\"color\":\"#2a3f5f\"},\"hovermode\":\"closest\",\"hoverlabel\":{\"align\":\"left\"},\"paper_bgcolor\":\"white\",\"plot_bgcolor\":\"#E5ECF6\",\"polar\":{\"bgcolor\":\"#E5ECF6\",\"angularaxis\":{\"gridcolor\":\"white\",\"linecolor\":\"white\",\"ticks\":\"\"},\"radialaxis\":{\"gridcolor\":\"white\",\"linecolor\":\"white\",\"ticks\":\"\"}},\"ternary\":{\"bgcolor\":\"#E5ECF6\",\"aaxis\":{\"gridcolor\":\"white\",\"linecolor\":\"white\",\"ticks\":\"\"},\"baxis\":{\"gridcolor\":\"white\",\"linecolor\":\"white\",\"ticks\":\"\"},\"caxis\":{\"gridcolor\":\"white\",\"linecolor\":\"white\",\"ticks\":\"\"}},\"coloraxis\":{\"colorbar\":{\"outlinewidth\":0,\"ticks\":\"\"}},\"colorscale\":{\"sequential\":[[0.0,\"#0d0887\"],[0.1111111111111111,\"#46039f\"],[0.2222222222222222,\"#7201a8\"],[0.3333333333333333,\"#9c179e\"],[0.4444444444444444,\"#bd3786\"],[0.5555555555555556,\"#d8576b\"],[0.6666666666666666,\"#ed7953\"],[0.7777777777777778,\"#fb9f3a\"],[0.8888888888888888,\"#fdca26\"],[1.0,\"#f0f921\"]],\"sequentialminus\":[[0.0,\"#0d0887\"],[0.1111111111111111,\"#46039f\"],[0.2222222222222222,\"#7201a8\"],[0.3333333333333333,\"#9c179e\"],[0.4444444444444444,\"#bd3786\"],[0.5555555555555556,\"#d8576b\"],[0.6666666666666666,\"#ed7953\"],[0.7777777777777778,\"#fb9f3a\"],[0.8888888888888888,\"#fdca26\"],[1.0,\"#f0f921\"]],\"diverging\":[[0,\"#8e0152\"],[0.1,\"#c51b7d\"],[0.2,\"#de77ae\"],[0.3,\"#f1b6da\"],[0.4,\"#fde0ef\"],[0.5,\"#f7f7f7\"],[0.6,\"#e6f5d0\"],[0.7,\"#b8e186\"],[0.8,\"#7fbc41\"],[0.9,\"#4d9221\"],[1,\"#276419\"]]},\"xaxis\":{\"gridcolor\":\"white\",\"linecolor\":\"white\",\"ticks\":\"\",\"title\":{\"standoff\":15},\"zerolinecolor\":\"white\",\"automargin\":true,\"zerolinewidth\":2},\"yaxis\":{\"gridcolor\":\"white\",\"linecolor\":\"white\",\"ticks\":\"\",\"title\":{\"standoff\":15},\"zerolinecolor\":\"white\",\"automargin\":true,\"zerolinewidth\":2},\"scene\":{\"xaxis\":{\"backgroundcolor\":\"#E5ECF6\",\"gridcolor\":\"white\",\"linecolor\":\"white\",\"showbackground\":true,\"ticks\":\"\",\"zerolinecolor\":\"white\",\"gridwidth\":2},\"yaxis\":{\"backgroundcolor\":\"#E5ECF6\",\"gridcolor\":\"white\",\"linecolor\":\"white\",\"showbackground\":true,\"ticks\":\"\",\"zerolinecolor\":\"white\",\"gridwidth\":2},\"zaxis\":{\"backgroundcolor\":\"#E5ECF6\",\"gridcolor\":\"white\",\"linecolor\":\"white\",\"showbackground\":true,\"ticks\":\"\",\"zerolinecolor\":\"white\",\"gridwidth\":2}},\"shapedefaults\":{\"line\":{\"color\":\"#2a3f5f\"}},\"annotationdefaults\":{\"arrowcolor\":\"#2a3f5f\",\"arrowhead\":0,\"arrowwidth\":1},\"geo\":{\"bgcolor\":\"white\",\"landcolor\":\"#E5ECF6\",\"subunitcolor\":\"white\",\"showland\":true,\"showlakes\":true,\"lakecolor\":\"white\"},\"title\":{\"x\":0.05},\"mapbox\":{\"style\":\"light\"}}},\"annotations\":[{\"font\":{\"size\":16},\"showarrow\":false,\"text\":\"<b>Z-DNA & SIDD(\\u00b1100p)</b> (757)\",\"x\":0.11,\"xanchor\":\"center\",\"xref\":\"paper\",\"y\":1.0,\"yanchor\":\"bottom\",\"yref\":\"paper\",\"yshift\":20},{\"font\":{\"size\":16},\"showarrow\":false,\"text\":\"<b>SIDD(\\u00b1100bp)</b> (15,294)\",\"x\":0.37,\"xanchor\":\"center\",\"xref\":\"paper\",\"y\":1.0,\"yanchor\":\"bottom\",\"yref\":\"paper\",\"yshift\":20},{\"font\":{\"size\":16},\"showarrow\":false,\"text\":\"<b>G4 & SIDD(\\u00b1100bp)</b> (2,250)\",\"x\":0.63,\"xanchor\":\"center\",\"xref\":\"paper\",\"y\":1.0,\"yanchor\":\"bottom\",\"yref\":\"paper\",\"yshift\":20},{\"font\":{\"size\":16},\"showarrow\":false,\"text\":\"<b>H-DNA & SIDD(\\u00b1100bp)</b> (2,016)\",\"x\":0.89,\"xanchor\":\"center\",\"xref\":\"paper\",\"y\":1.0,\"yanchor\":\"bottom\",\"yref\":\"paper\",\"yshift\":20}],\"uniformtext\":{\"minsize\":10,\"mode\":\"hide\"},\"font\":{\"family\":\"monospace\",\"size\":14},\"margin\":{\"t\":60,\"b\":0,\"l\":0},\"legend\":{\"xanchor\":\"left\",\"x\":1.025},\"height\":500,\"width\":1800},                        {\"responsive\": true}                    ).then(function(){\n",
              "                            \n",
              "var gd = document.getElementById('aa7f5c57-fbaa-441c-8b15-7ebee4d54491');\n",
              "var x = new MutationObserver(function (mutations, observer) {{\n",
              "        var display = window.getComputedStyle(gd).display;\n",
              "        if (!display || display === 'none') {{\n",
              "            console.log([gd, 'removed!']);\n",
              "            Plotly.purge(gd);\n",
              "            observer.disconnect();\n",
              "        }}\n",
              "}});\n",
              "\n",
              "// Listen for the removal of the full notebook cells\n",
              "var notebookContainer = gd.closest('#notebook-container');\n",
              "if (notebookContainer) {{\n",
              "    x.observe(notebookContainer, {childList: true});\n",
              "}}\n",
              "\n",
              "// Listen for the clearing of the current output cell\n",
              "var outputEl = gd.closest('.output');\n",
              "if (outputEl) {{\n",
              "    x.observe(outputEl, {childList: true});\n",
              "}}\n",
              "\n",
              "                        })                };                });            </script>        </div>"
            ]
          },
          "metadata": {},
          "output_type": "display_data"
        },
        {
          "data": {
            "application/vnd.plotly.v1+json": {
              "config": {
                "plotlyServerURL": "https://plot.ly"
              },
              "data": [
                {
                  "direction": "clockwise",
                  "domain": {
                    "x": [
                      0,
                      0.22
                    ],
                    "y": [
                      0,
                      1
                    ]
                  },
                  "hole": 0.35,
                  "hoverinfo": "label+percent+name",
                  "labels": [
                    "Promoter (<=1kb)",
                    "Promoter (1-2kb)",
                    "Promoter (2-3kb)",
                    "5' UTR",
                    "3' UTR",
                    "1st Exon",
                    "Other Exon",
                    "1st Intron",
                    "Other Intron",
                    "Downstream (<=300)",
                    "Distal Intergenic"
                  ],
                  "name": "<b>Z-DNA & SIDD(±200bp)</b> (1,116)",
                  "rotation": 0,
                  "sort": false,
                  "texttemplate": "%{value:.2f}%",
                  "type": "pie",
                  "values": [
                    23.6347359,
                    6.26678603,
                    3.67054611,
                    0.08952551,
                    0.98478066,
                    0.08952551,
                    1.07430618,
                    6.17726052,
                    18.53178156,
                    0.08952551,
                    39.3912265
                  ]
                },
                {
                  "direction": "clockwise",
                  "domain": {
                    "x": [
                      0.26,
                      0.48
                    ],
                    "y": [
                      0,
                      1
                    ]
                  },
                  "hole": 0.35,
                  "hoverinfo": "label+percent+name",
                  "labels": [
                    "Promoter (<=1kb)",
                    "Promoter (1-2kb)",
                    "Promoter (2-3kb)",
                    "5' UTR",
                    "3' UTR",
                    "1st Exon",
                    "Other Exon",
                    "1st Intron",
                    "Other Intron",
                    "Downstream (<=300)",
                    "Distal Intergenic"
                  ],
                  "name": "<b>SIDD(±200bp)</b> (15,294)",
                  "rotation": 0,
                  "sort": false,
                  "texttemplate": "%{value:.2f}%",
                  "type": "pie",
                  "values": [
                    7.64252092,
                    3.98797071,
                    3.53687238,
                    0.03268828,
                    1.01987448,
                    0.05230126,
                    1.26830544,
                    7.21757322,
                    17.54053347,
                    0.06537657,
                    57.63598326
                  ]
                },
                {
                  "direction": "clockwise",
                  "domain": {
                    "x": [
                      0.52,
                      0.74
                    ],
                    "y": [
                      0,
                      1
                    ]
                  },
                  "hole": 0.35,
                  "hoverinfo": "label+percent+name",
                  "labels": [
                    "Promoter (<=1kb)",
                    "Promoter (1-2kb)",
                    "Promoter (2-3kb)",
                    "5' UTR",
                    "3' UTR",
                    "1st Exon",
                    "Other Exon",
                    "1st Intron",
                    "Other Intron",
                    "Downstream (<=300)",
                    "Distal Intergenic"
                  ],
                  "name": "<b>G4 & SIDD(±200bp)</b> (2,534)",
                  "rotation": 0,
                  "sort": false,
                  "texttemplate": "%{value:.2f}%",
                  "type": "pie",
                  "values": [
                    9.5106551,
                    4.8539858,
                    3.5911602,
                    0,
                    1.0260458,
                    0,
                    0.1973165,
                    7.8926598,
                    19.1002368,
                    0.0394633,
                    53.7884767
                  ]
                },
                {
                  "direction": "clockwise",
                  "domain": {
                    "x": [
                      0.78,
                      1
                    ],
                    "y": [
                      0,
                      1
                    ]
                  },
                  "hole": 0.35,
                  "hoverinfo": "label+percent+name",
                  "labels": [
                    "Promoter (<=1kb)",
                    "Promoter (1-2kb)",
                    "Promoter (2-3kb)",
                    "5' UTR",
                    "3' UTR",
                    "1st Exon",
                    "Other Exon",
                    "1st Intron",
                    "Other Intron",
                    "Downstream (<=300)",
                    "Distal Intergenic"
                  ],
                  "name": "<b>H-DNA & SIDD(±200bp)</b> (2,249)",
                  "rotation": 0,
                  "sort": false,
                  "texttemplate": "%{value:.2f}%",
                  "type": "pie",
                  "values": [
                    10.04891063,
                    4.89106269,
                    2.97910182,
                    0,
                    0.97821254,
                    0,
                    0.22232103,
                    7.87016452,
                    20.36460649,
                    0.08892841,
                    52.55669186
                  ]
                }
              ],
              "layout": {
                "annotations": [
                  {
                    "font": {
                      "size": 16
                    },
                    "showarrow": false,
                    "text": "<b>Z-DNA & SIDD(±200bp)</b> (1,116)",
                    "x": 0.11,
                    "xanchor": "center",
                    "xref": "paper",
                    "y": 1,
                    "yanchor": "bottom",
                    "yref": "paper",
                    "yshift": 20
                  },
                  {
                    "font": {
                      "size": 16
                    },
                    "showarrow": false,
                    "text": "<b>SIDD(±200bp)</b> (15,294)",
                    "x": 0.37,
                    "xanchor": "center",
                    "xref": "paper",
                    "y": 1,
                    "yanchor": "bottom",
                    "yref": "paper",
                    "yshift": 20
                  },
                  {
                    "font": {
                      "size": 16
                    },
                    "showarrow": false,
                    "text": "<b>G4 & SIDD(±200bp)</b> (2,534)",
                    "x": 0.63,
                    "xanchor": "center",
                    "xref": "paper",
                    "y": 1,
                    "yanchor": "bottom",
                    "yref": "paper",
                    "yshift": 20
                  },
                  {
                    "font": {
                      "size": 16
                    },
                    "showarrow": false,
                    "text": "<b>H-DNA & SIDD(±200bp)</b> (2,249)",
                    "x": 0.89,
                    "xanchor": "center",
                    "xref": "paper",
                    "y": 1,
                    "yanchor": "bottom",
                    "yref": "paper",
                    "yshift": 20
                  }
                ],
                "font": {
                  "family": "monospace",
                  "size": 14
                },
                "height": 500,
                "legend": {
                  "x": 1.025,
                  "xanchor": "left"
                },
                "margin": {
                  "b": 0,
                  "l": 0,
                  "t": 60
                },
                "template": {
                  "data": {
                    "bar": [
                      {
                        "error_x": {
                          "color": "#2a3f5f"
                        },
                        "error_y": {
                          "color": "#2a3f5f"
                        },
                        "marker": {
                          "line": {
                            "color": "#E5ECF6",
                            "width": 0.5
                          },
                          "pattern": {
                            "fillmode": "overlay",
                            "size": 10,
                            "solidity": 0.2
                          }
                        },
                        "type": "bar"
                      }
                    ],
                    "barpolar": [
                      {
                        "marker": {
                          "line": {
                            "color": "#E5ECF6",
                            "width": 0.5
                          },
                          "pattern": {
                            "fillmode": "overlay",
                            "size": 10,
                            "solidity": 0.2
                          }
                        },
                        "type": "barpolar"
                      }
                    ],
                    "carpet": [
                      {
                        "aaxis": {
                          "endlinecolor": "#2a3f5f",
                          "gridcolor": "white",
                          "linecolor": "white",
                          "minorgridcolor": "white",
                          "startlinecolor": "#2a3f5f"
                        },
                        "baxis": {
                          "endlinecolor": "#2a3f5f",
                          "gridcolor": "white",
                          "linecolor": "white",
                          "minorgridcolor": "white",
                          "startlinecolor": "#2a3f5f"
                        },
                        "type": "carpet"
                      }
                    ],
                    "choropleth": [
                      {
                        "colorbar": {
                          "outlinewidth": 0,
                          "ticks": ""
                        },
                        "type": "choropleth"
                      }
                    ],
                    "contour": [
                      {
                        "colorbar": {
                          "outlinewidth": 0,
                          "ticks": ""
                        },
                        "colorscale": [
                          [
                            0,
                            "#0d0887"
                          ],
                          [
                            0.1111111111111111,
                            "#46039f"
                          ],
                          [
                            0.2222222222222222,
                            "#7201a8"
                          ],
                          [
                            0.3333333333333333,
                            "#9c179e"
                          ],
                          [
                            0.4444444444444444,
                            "#bd3786"
                          ],
                          [
                            0.5555555555555556,
                            "#d8576b"
                          ],
                          [
                            0.6666666666666666,
                            "#ed7953"
                          ],
                          [
                            0.7777777777777778,
                            "#fb9f3a"
                          ],
                          [
                            0.8888888888888888,
                            "#fdca26"
                          ],
                          [
                            1,
                            "#f0f921"
                          ]
                        ],
                        "type": "contour"
                      }
                    ],
                    "contourcarpet": [
                      {
                        "colorbar": {
                          "outlinewidth": 0,
                          "ticks": ""
                        },
                        "type": "contourcarpet"
                      }
                    ],
                    "heatmap": [
                      {
                        "colorbar": {
                          "outlinewidth": 0,
                          "ticks": ""
                        },
                        "colorscale": [
                          [
                            0,
                            "#0d0887"
                          ],
                          [
                            0.1111111111111111,
                            "#46039f"
                          ],
                          [
                            0.2222222222222222,
                            "#7201a8"
                          ],
                          [
                            0.3333333333333333,
                            "#9c179e"
                          ],
                          [
                            0.4444444444444444,
                            "#bd3786"
                          ],
                          [
                            0.5555555555555556,
                            "#d8576b"
                          ],
                          [
                            0.6666666666666666,
                            "#ed7953"
                          ],
                          [
                            0.7777777777777778,
                            "#fb9f3a"
                          ],
                          [
                            0.8888888888888888,
                            "#fdca26"
                          ],
                          [
                            1,
                            "#f0f921"
                          ]
                        ],
                        "type": "heatmap"
                      }
                    ],
                    "heatmapgl": [
                      {
                        "colorbar": {
                          "outlinewidth": 0,
                          "ticks": ""
                        },
                        "colorscale": [
                          [
                            0,
                            "#0d0887"
                          ],
                          [
                            0.1111111111111111,
                            "#46039f"
                          ],
                          [
                            0.2222222222222222,
                            "#7201a8"
                          ],
                          [
                            0.3333333333333333,
                            "#9c179e"
                          ],
                          [
                            0.4444444444444444,
                            "#bd3786"
                          ],
                          [
                            0.5555555555555556,
                            "#d8576b"
                          ],
                          [
                            0.6666666666666666,
                            "#ed7953"
                          ],
                          [
                            0.7777777777777778,
                            "#fb9f3a"
                          ],
                          [
                            0.8888888888888888,
                            "#fdca26"
                          ],
                          [
                            1,
                            "#f0f921"
                          ]
                        ],
                        "type": "heatmapgl"
                      }
                    ],
                    "histogram": [
                      {
                        "marker": {
                          "pattern": {
                            "fillmode": "overlay",
                            "size": 10,
                            "solidity": 0.2
                          }
                        },
                        "type": "histogram"
                      }
                    ],
                    "histogram2d": [
                      {
                        "colorbar": {
                          "outlinewidth": 0,
                          "ticks": ""
                        },
                        "colorscale": [
                          [
                            0,
                            "#0d0887"
                          ],
                          [
                            0.1111111111111111,
                            "#46039f"
                          ],
                          [
                            0.2222222222222222,
                            "#7201a8"
                          ],
                          [
                            0.3333333333333333,
                            "#9c179e"
                          ],
                          [
                            0.4444444444444444,
                            "#bd3786"
                          ],
                          [
                            0.5555555555555556,
                            "#d8576b"
                          ],
                          [
                            0.6666666666666666,
                            "#ed7953"
                          ],
                          [
                            0.7777777777777778,
                            "#fb9f3a"
                          ],
                          [
                            0.8888888888888888,
                            "#fdca26"
                          ],
                          [
                            1,
                            "#f0f921"
                          ]
                        ],
                        "type": "histogram2d"
                      }
                    ],
                    "histogram2dcontour": [
                      {
                        "colorbar": {
                          "outlinewidth": 0,
                          "ticks": ""
                        },
                        "colorscale": [
                          [
                            0,
                            "#0d0887"
                          ],
                          [
                            0.1111111111111111,
                            "#46039f"
                          ],
                          [
                            0.2222222222222222,
                            "#7201a8"
                          ],
                          [
                            0.3333333333333333,
                            "#9c179e"
                          ],
                          [
                            0.4444444444444444,
                            "#bd3786"
                          ],
                          [
                            0.5555555555555556,
                            "#d8576b"
                          ],
                          [
                            0.6666666666666666,
                            "#ed7953"
                          ],
                          [
                            0.7777777777777778,
                            "#fb9f3a"
                          ],
                          [
                            0.8888888888888888,
                            "#fdca26"
                          ],
                          [
                            1,
                            "#f0f921"
                          ]
                        ],
                        "type": "histogram2dcontour"
                      }
                    ],
                    "mesh3d": [
                      {
                        "colorbar": {
                          "outlinewidth": 0,
                          "ticks": ""
                        },
                        "type": "mesh3d"
                      }
                    ],
                    "parcoords": [
                      {
                        "line": {
                          "colorbar": {
                            "outlinewidth": 0,
                            "ticks": ""
                          }
                        },
                        "type": "parcoords"
                      }
                    ],
                    "pie": [
                      {
                        "automargin": true,
                        "type": "pie"
                      }
                    ],
                    "scatter": [
                      {
                        "fillpattern": {
                          "fillmode": "overlay",
                          "size": 10,
                          "solidity": 0.2
                        },
                        "type": "scatter"
                      }
                    ],
                    "scatter3d": [
                      {
                        "line": {
                          "colorbar": {
                            "outlinewidth": 0,
                            "ticks": ""
                          }
                        },
                        "marker": {
                          "colorbar": {
                            "outlinewidth": 0,
                            "ticks": ""
                          }
                        },
                        "type": "scatter3d"
                      }
                    ],
                    "scattercarpet": [
                      {
                        "marker": {
                          "colorbar": {
                            "outlinewidth": 0,
                            "ticks": ""
                          }
                        },
                        "type": "scattercarpet"
                      }
                    ],
                    "scattergeo": [
                      {
                        "marker": {
                          "colorbar": {
                            "outlinewidth": 0,
                            "ticks": ""
                          }
                        },
                        "type": "scattergeo"
                      }
                    ],
                    "scattergl": [
                      {
                        "marker": {
                          "colorbar": {
                            "outlinewidth": 0,
                            "ticks": ""
                          }
                        },
                        "type": "scattergl"
                      }
                    ],
                    "scattermapbox": [
                      {
                        "marker": {
                          "colorbar": {
                            "outlinewidth": 0,
                            "ticks": ""
                          }
                        },
                        "type": "scattermapbox"
                      }
                    ],
                    "scatterpolar": [
                      {
                        "marker": {
                          "colorbar": {
                            "outlinewidth": 0,
                            "ticks": ""
                          }
                        },
                        "type": "scatterpolar"
                      }
                    ],
                    "scatterpolargl": [
                      {
                        "marker": {
                          "colorbar": {
                            "outlinewidth": 0,
                            "ticks": ""
                          }
                        },
                        "type": "scatterpolargl"
                      }
                    ],
                    "scatterternary": [
                      {
                        "marker": {
                          "colorbar": {
                            "outlinewidth": 0,
                            "ticks": ""
                          }
                        },
                        "type": "scatterternary"
                      }
                    ],
                    "surface": [
                      {
                        "colorbar": {
                          "outlinewidth": 0,
                          "ticks": ""
                        },
                        "colorscale": [
                          [
                            0,
                            "#0d0887"
                          ],
                          [
                            0.1111111111111111,
                            "#46039f"
                          ],
                          [
                            0.2222222222222222,
                            "#7201a8"
                          ],
                          [
                            0.3333333333333333,
                            "#9c179e"
                          ],
                          [
                            0.4444444444444444,
                            "#bd3786"
                          ],
                          [
                            0.5555555555555556,
                            "#d8576b"
                          ],
                          [
                            0.6666666666666666,
                            "#ed7953"
                          ],
                          [
                            0.7777777777777778,
                            "#fb9f3a"
                          ],
                          [
                            0.8888888888888888,
                            "#fdca26"
                          ],
                          [
                            1,
                            "#f0f921"
                          ]
                        ],
                        "type": "surface"
                      }
                    ],
                    "table": [
                      {
                        "cells": {
                          "fill": {
                            "color": "#EBF0F8"
                          },
                          "line": {
                            "color": "white"
                          }
                        },
                        "header": {
                          "fill": {
                            "color": "#C8D4E3"
                          },
                          "line": {
                            "color": "white"
                          }
                        },
                        "type": "table"
                      }
                    ]
                  },
                  "layout": {
                    "annotationdefaults": {
                      "arrowcolor": "#2a3f5f",
                      "arrowhead": 0,
                      "arrowwidth": 1
                    },
                    "autotypenumbers": "strict",
                    "coloraxis": {
                      "colorbar": {
                        "outlinewidth": 0,
                        "ticks": ""
                      }
                    },
                    "colorscale": {
                      "diverging": [
                        [
                          0,
                          "#8e0152"
                        ],
                        [
                          0.1,
                          "#c51b7d"
                        ],
                        [
                          0.2,
                          "#de77ae"
                        ],
                        [
                          0.3,
                          "#f1b6da"
                        ],
                        [
                          0.4,
                          "#fde0ef"
                        ],
                        [
                          0.5,
                          "#f7f7f7"
                        ],
                        [
                          0.6,
                          "#e6f5d0"
                        ],
                        [
                          0.7,
                          "#b8e186"
                        ],
                        [
                          0.8,
                          "#7fbc41"
                        ],
                        [
                          0.9,
                          "#4d9221"
                        ],
                        [
                          1,
                          "#276419"
                        ]
                      ],
                      "sequential": [
                        [
                          0,
                          "#0d0887"
                        ],
                        [
                          0.1111111111111111,
                          "#46039f"
                        ],
                        [
                          0.2222222222222222,
                          "#7201a8"
                        ],
                        [
                          0.3333333333333333,
                          "#9c179e"
                        ],
                        [
                          0.4444444444444444,
                          "#bd3786"
                        ],
                        [
                          0.5555555555555556,
                          "#d8576b"
                        ],
                        [
                          0.6666666666666666,
                          "#ed7953"
                        ],
                        [
                          0.7777777777777778,
                          "#fb9f3a"
                        ],
                        [
                          0.8888888888888888,
                          "#fdca26"
                        ],
                        [
                          1,
                          "#f0f921"
                        ]
                      ],
                      "sequentialminus": [
                        [
                          0,
                          "#0d0887"
                        ],
                        [
                          0.1111111111111111,
                          "#46039f"
                        ],
                        [
                          0.2222222222222222,
                          "#7201a8"
                        ],
                        [
                          0.3333333333333333,
                          "#9c179e"
                        ],
                        [
                          0.4444444444444444,
                          "#bd3786"
                        ],
                        [
                          0.5555555555555556,
                          "#d8576b"
                        ],
                        [
                          0.6666666666666666,
                          "#ed7953"
                        ],
                        [
                          0.7777777777777778,
                          "#fb9f3a"
                        ],
                        [
                          0.8888888888888888,
                          "#fdca26"
                        ],
                        [
                          1,
                          "#f0f921"
                        ]
                      ]
                    },
                    "colorway": [
                      "#636efa",
                      "#EF553B",
                      "#00cc96",
                      "#ab63fa",
                      "#FFA15A",
                      "#19d3f3",
                      "#FF6692",
                      "#B6E880",
                      "#FF97FF",
                      "#FECB52"
                    ],
                    "font": {
                      "color": "#2a3f5f"
                    },
                    "geo": {
                      "bgcolor": "white",
                      "lakecolor": "white",
                      "landcolor": "#E5ECF6",
                      "showlakes": true,
                      "showland": true,
                      "subunitcolor": "white"
                    },
                    "hoverlabel": {
                      "align": "left"
                    },
                    "hovermode": "closest",
                    "mapbox": {
                      "style": "light"
                    },
                    "paper_bgcolor": "white",
                    "plot_bgcolor": "#E5ECF6",
                    "polar": {
                      "angularaxis": {
                        "gridcolor": "white",
                        "linecolor": "white",
                        "ticks": ""
                      },
                      "bgcolor": "#E5ECF6",
                      "radialaxis": {
                        "gridcolor": "white",
                        "linecolor": "white",
                        "ticks": ""
                      }
                    },
                    "scene": {
                      "xaxis": {
                        "backgroundcolor": "#E5ECF6",
                        "gridcolor": "white",
                        "gridwidth": 2,
                        "linecolor": "white",
                        "showbackground": true,
                        "ticks": "",
                        "zerolinecolor": "white"
                      },
                      "yaxis": {
                        "backgroundcolor": "#E5ECF6",
                        "gridcolor": "white",
                        "gridwidth": 2,
                        "linecolor": "white",
                        "showbackground": true,
                        "ticks": "",
                        "zerolinecolor": "white"
                      },
                      "zaxis": {
                        "backgroundcolor": "#E5ECF6",
                        "gridcolor": "white",
                        "gridwidth": 2,
                        "linecolor": "white",
                        "showbackground": true,
                        "ticks": "",
                        "zerolinecolor": "white"
                      }
                    },
                    "shapedefaults": {
                      "line": {
                        "color": "#2a3f5f"
                      }
                    },
                    "ternary": {
                      "aaxis": {
                        "gridcolor": "white",
                        "linecolor": "white",
                        "ticks": ""
                      },
                      "baxis": {
                        "gridcolor": "white",
                        "linecolor": "white",
                        "ticks": ""
                      },
                      "bgcolor": "#E5ECF6",
                      "caxis": {
                        "gridcolor": "white",
                        "linecolor": "white",
                        "ticks": ""
                      }
                    },
                    "title": {
                      "x": 0.05
                    },
                    "xaxis": {
                      "automargin": true,
                      "gridcolor": "white",
                      "linecolor": "white",
                      "ticks": "",
                      "title": {
                        "standoff": 15
                      },
                      "zerolinecolor": "white",
                      "zerolinewidth": 2
                    },
                    "yaxis": {
                      "automargin": true,
                      "gridcolor": "white",
                      "linecolor": "white",
                      "ticks": "",
                      "title": {
                        "standoff": 15
                      },
                      "zerolinecolor": "white",
                      "zerolinewidth": 2
                    }
                  }
                },
                "uniformtext": {
                  "minsize": 10,
                  "mode": "hide"
                },
                "width": 1800
              }
            },
            "text/html": [
              "<div>                            <div id=\"dc5d95b0-fabc-429f-ab6e-0d2dbcebd300\" class=\"plotly-graph-div\" style=\"height:500px; width:1800px;\"></div>            <script type=\"text/javascript\">                require([\"plotly\"], function(Plotly) {                    window.PLOTLYENV=window.PLOTLYENV || {};                                    if (document.getElementById(\"dc5d95b0-fabc-429f-ab6e-0d2dbcebd300\")) {                    Plotly.newPlot(                        \"dc5d95b0-fabc-429f-ab6e-0d2dbcebd300\",                        [{\"direction\":\"clockwise\",\"labels\":[\"Promoter (<=1kb)\",\"Promoter (1-2kb)\",\"Promoter (2-3kb)\",\"5' UTR\",\"3' UTR\",\"1st Exon\",\"Other Exon\",\"1st Intron\",\"Other Intron\",\"Downstream (<=300)\",\"Distal Intergenic\"],\"name\":\"<b>Z-DNA & SIDD(\\u00b1200bp)</b> (1,116)\",\"rotation\":0,\"sort\":false,\"values\":[23.6347359,6.26678603,3.67054611,0.08952551,0.98478066,0.08952551,1.07430618,6.17726052,18.53178156,0.08952551,39.3912265],\"type\":\"pie\",\"domain\":{\"x\":[0.0,0.22],\"y\":[0.0,1.0]},\"hole\":0.35,\"hoverinfo\":\"label+percent+name\",\"texttemplate\":\"%{value:.2f}%\"},{\"direction\":\"clockwise\",\"labels\":[\"Promoter (<=1kb)\",\"Promoter (1-2kb)\",\"Promoter (2-3kb)\",\"5' UTR\",\"3' UTR\",\"1st Exon\",\"Other Exon\",\"1st Intron\",\"Other Intron\",\"Downstream (<=300)\",\"Distal Intergenic\"],\"name\":\"<b>SIDD(\\u00b1200bp)</b> (15,294)\",\"rotation\":0,\"sort\":false,\"values\":[7.64252092,3.98797071,3.53687238,0.03268828,1.01987448,0.05230126,1.26830544,7.21757322,17.54053347,0.06537657,57.63598326],\"type\":\"pie\",\"domain\":{\"x\":[0.26,0.48],\"y\":[0.0,1.0]},\"hole\":0.35,\"hoverinfo\":\"label+percent+name\",\"texttemplate\":\"%{value:.2f}%\"},{\"direction\":\"clockwise\",\"labels\":[\"Promoter (<=1kb)\",\"Promoter (1-2kb)\",\"Promoter (2-3kb)\",\"5' UTR\",\"3' UTR\",\"1st Exon\",\"Other Exon\",\"1st Intron\",\"Other Intron\",\"Downstream (<=300)\",\"Distal Intergenic\"],\"name\":\"<b>G4 & SIDD(\\u00b1200bp)</b> (2,534)\",\"rotation\":0,\"sort\":false,\"values\":[9.5106551,4.8539858,3.5911602,0,1.0260458,0,0.1973165,7.8926598,19.1002368,0.0394633,53.7884767],\"type\":\"pie\",\"domain\":{\"x\":[0.52,0.74],\"y\":[0.0,1.0]},\"hole\":0.35,\"hoverinfo\":\"label+percent+name\",\"texttemplate\":\"%{value:.2f}%\"},{\"direction\":\"clockwise\",\"labels\":[\"Promoter (<=1kb)\",\"Promoter (1-2kb)\",\"Promoter (2-3kb)\",\"5' UTR\",\"3' UTR\",\"1st Exon\",\"Other Exon\",\"1st Intron\",\"Other Intron\",\"Downstream (<=300)\",\"Distal Intergenic\"],\"name\":\"<b>H-DNA & SIDD(\\u00b1200bp)</b> (2,249)\",\"rotation\":0,\"sort\":false,\"values\":[10.04891063,4.89106269,2.97910182,0,0.97821254,0,0.22232103,7.87016452,20.36460649,0.08892841,52.55669186],\"type\":\"pie\",\"domain\":{\"x\":[0.78,1.0],\"y\":[0.0,1.0]},\"hole\":0.35,\"hoverinfo\":\"label+percent+name\",\"texttemplate\":\"%{value:.2f}%\"}],                        {\"template\":{\"data\":{\"histogram2dcontour\":[{\"type\":\"histogram2dcontour\",\"colorbar\":{\"outlinewidth\":0,\"ticks\":\"\"},\"colorscale\":[[0.0,\"#0d0887\"],[0.1111111111111111,\"#46039f\"],[0.2222222222222222,\"#7201a8\"],[0.3333333333333333,\"#9c179e\"],[0.4444444444444444,\"#bd3786\"],[0.5555555555555556,\"#d8576b\"],[0.6666666666666666,\"#ed7953\"],[0.7777777777777778,\"#fb9f3a\"],[0.8888888888888888,\"#fdca26\"],[1.0,\"#f0f921\"]]}],\"choropleth\":[{\"type\":\"choropleth\",\"colorbar\":{\"outlinewidth\":0,\"ticks\":\"\"}}],\"histogram2d\":[{\"type\":\"histogram2d\",\"colorbar\":{\"outlinewidth\":0,\"ticks\":\"\"},\"colorscale\":[[0.0,\"#0d0887\"],[0.1111111111111111,\"#46039f\"],[0.2222222222222222,\"#7201a8\"],[0.3333333333333333,\"#9c179e\"],[0.4444444444444444,\"#bd3786\"],[0.5555555555555556,\"#d8576b\"],[0.6666666666666666,\"#ed7953\"],[0.7777777777777778,\"#fb9f3a\"],[0.8888888888888888,\"#fdca26\"],[1.0,\"#f0f921\"]]}],\"heatmap\":[{\"type\":\"heatmap\",\"colorbar\":{\"outlinewidth\":0,\"ticks\":\"\"},\"colorscale\":[[0.0,\"#0d0887\"],[0.1111111111111111,\"#46039f\"],[0.2222222222222222,\"#7201a8\"],[0.3333333333333333,\"#9c179e\"],[0.4444444444444444,\"#bd3786\"],[0.5555555555555556,\"#d8576b\"],[0.6666666666666666,\"#ed7953\"],[0.7777777777777778,\"#fb9f3a\"],[0.8888888888888888,\"#fdca26\"],[1.0,\"#f0f921\"]]}],\"heatmapgl\":[{\"type\":\"heatmapgl\",\"colorbar\":{\"outlinewidth\":0,\"ticks\":\"\"},\"colorscale\":[[0.0,\"#0d0887\"],[0.1111111111111111,\"#46039f\"],[0.2222222222222222,\"#7201a8\"],[0.3333333333333333,\"#9c179e\"],[0.4444444444444444,\"#bd3786\"],[0.5555555555555556,\"#d8576b\"],[0.6666666666666666,\"#ed7953\"],[0.7777777777777778,\"#fb9f3a\"],[0.8888888888888888,\"#fdca26\"],[1.0,\"#f0f921\"]]}],\"contourcarpet\":[{\"type\":\"contourcarpet\",\"colorbar\":{\"outlinewidth\":0,\"ticks\":\"\"}}],\"contour\":[{\"type\":\"contour\",\"colorbar\":{\"outlinewidth\":0,\"ticks\":\"\"},\"colorscale\":[[0.0,\"#0d0887\"],[0.1111111111111111,\"#46039f\"],[0.2222222222222222,\"#7201a8\"],[0.3333333333333333,\"#9c179e\"],[0.4444444444444444,\"#bd3786\"],[0.5555555555555556,\"#d8576b\"],[0.6666666666666666,\"#ed7953\"],[0.7777777777777778,\"#fb9f3a\"],[0.8888888888888888,\"#fdca26\"],[1.0,\"#f0f921\"]]}],\"surface\":[{\"type\":\"surface\",\"colorbar\":{\"outlinewidth\":0,\"ticks\":\"\"},\"colorscale\":[[0.0,\"#0d0887\"],[0.1111111111111111,\"#46039f\"],[0.2222222222222222,\"#7201a8\"],[0.3333333333333333,\"#9c179e\"],[0.4444444444444444,\"#bd3786\"],[0.5555555555555556,\"#d8576b\"],[0.6666666666666666,\"#ed7953\"],[0.7777777777777778,\"#fb9f3a\"],[0.8888888888888888,\"#fdca26\"],[1.0,\"#f0f921\"]]}],\"mesh3d\":[{\"type\":\"mesh3d\",\"colorbar\":{\"outlinewidth\":0,\"ticks\":\"\"}}],\"scatter\":[{\"fillpattern\":{\"fillmode\":\"overlay\",\"size\":10,\"solidity\":0.2},\"type\":\"scatter\"}],\"parcoords\":[{\"type\":\"parcoords\",\"line\":{\"colorbar\":{\"outlinewidth\":0,\"ticks\":\"\"}}}],\"scatterpolargl\":[{\"type\":\"scatterpolargl\",\"marker\":{\"colorbar\":{\"outlinewidth\":0,\"ticks\":\"\"}}}],\"bar\":[{\"error_x\":{\"color\":\"#2a3f5f\"},\"error_y\":{\"color\":\"#2a3f5f\"},\"marker\":{\"line\":{\"color\":\"#E5ECF6\",\"width\":0.5},\"pattern\":{\"fillmode\":\"overlay\",\"size\":10,\"solidity\":0.2}},\"type\":\"bar\"}],\"scattergeo\":[{\"type\":\"scattergeo\",\"marker\":{\"colorbar\":{\"outlinewidth\":0,\"ticks\":\"\"}}}],\"scatterpolar\":[{\"type\":\"scatterpolar\",\"marker\":{\"colorbar\":{\"outlinewidth\":0,\"ticks\":\"\"}}}],\"histogram\":[{\"marker\":{\"pattern\":{\"fillmode\":\"overlay\",\"size\":10,\"solidity\":0.2}},\"type\":\"histogram\"}],\"scattergl\":[{\"type\":\"scattergl\",\"marker\":{\"colorbar\":{\"outlinewidth\":0,\"ticks\":\"\"}}}],\"scatter3d\":[{\"type\":\"scatter3d\",\"line\":{\"colorbar\":{\"outlinewidth\":0,\"ticks\":\"\"}},\"marker\":{\"colorbar\":{\"outlinewidth\":0,\"ticks\":\"\"}}}],\"scattermapbox\":[{\"type\":\"scattermapbox\",\"marker\":{\"colorbar\":{\"outlinewidth\":0,\"ticks\":\"\"}}}],\"scatterternary\":[{\"type\":\"scatterternary\",\"marker\":{\"colorbar\":{\"outlinewidth\":0,\"ticks\":\"\"}}}],\"scattercarpet\":[{\"type\":\"scattercarpet\",\"marker\":{\"colorbar\":{\"outlinewidth\":0,\"ticks\":\"\"}}}],\"carpet\":[{\"aaxis\":{\"endlinecolor\":\"#2a3f5f\",\"gridcolor\":\"white\",\"linecolor\":\"white\",\"minorgridcolor\":\"white\",\"startlinecolor\":\"#2a3f5f\"},\"baxis\":{\"endlinecolor\":\"#2a3f5f\",\"gridcolor\":\"white\",\"linecolor\":\"white\",\"minorgridcolor\":\"white\",\"startlinecolor\":\"#2a3f5f\"},\"type\":\"carpet\"}],\"table\":[{\"cells\":{\"fill\":{\"color\":\"#EBF0F8\"},\"line\":{\"color\":\"white\"}},\"header\":{\"fill\":{\"color\":\"#C8D4E3\"},\"line\":{\"color\":\"white\"}},\"type\":\"table\"}],\"barpolar\":[{\"marker\":{\"line\":{\"color\":\"#E5ECF6\",\"width\":0.5},\"pattern\":{\"fillmode\":\"overlay\",\"size\":10,\"solidity\":0.2}},\"type\":\"barpolar\"}],\"pie\":[{\"automargin\":true,\"type\":\"pie\"}]},\"layout\":{\"autotypenumbers\":\"strict\",\"colorway\":[\"#636efa\",\"#EF553B\",\"#00cc96\",\"#ab63fa\",\"#FFA15A\",\"#19d3f3\",\"#FF6692\",\"#B6E880\",\"#FF97FF\",\"#FECB52\"],\"font\":{\"color\":\"#2a3f5f\"},\"hovermode\":\"closest\",\"hoverlabel\":{\"align\":\"left\"},\"paper_bgcolor\":\"white\",\"plot_bgcolor\":\"#E5ECF6\",\"polar\":{\"bgcolor\":\"#E5ECF6\",\"angularaxis\":{\"gridcolor\":\"white\",\"linecolor\":\"white\",\"ticks\":\"\"},\"radialaxis\":{\"gridcolor\":\"white\",\"linecolor\":\"white\",\"ticks\":\"\"}},\"ternary\":{\"bgcolor\":\"#E5ECF6\",\"aaxis\":{\"gridcolor\":\"white\",\"linecolor\":\"white\",\"ticks\":\"\"},\"baxis\":{\"gridcolor\":\"white\",\"linecolor\":\"white\",\"ticks\":\"\"},\"caxis\":{\"gridcolor\":\"white\",\"linecolor\":\"white\",\"ticks\":\"\"}},\"coloraxis\":{\"colorbar\":{\"outlinewidth\":0,\"ticks\":\"\"}},\"colorscale\":{\"sequential\":[[0.0,\"#0d0887\"],[0.1111111111111111,\"#46039f\"],[0.2222222222222222,\"#7201a8\"],[0.3333333333333333,\"#9c179e\"],[0.4444444444444444,\"#bd3786\"],[0.5555555555555556,\"#d8576b\"],[0.6666666666666666,\"#ed7953\"],[0.7777777777777778,\"#fb9f3a\"],[0.8888888888888888,\"#fdca26\"],[1.0,\"#f0f921\"]],\"sequentialminus\":[[0.0,\"#0d0887\"],[0.1111111111111111,\"#46039f\"],[0.2222222222222222,\"#7201a8\"],[0.3333333333333333,\"#9c179e\"],[0.4444444444444444,\"#bd3786\"],[0.5555555555555556,\"#d8576b\"],[0.6666666666666666,\"#ed7953\"],[0.7777777777777778,\"#fb9f3a\"],[0.8888888888888888,\"#fdca26\"],[1.0,\"#f0f921\"]],\"diverging\":[[0,\"#8e0152\"],[0.1,\"#c51b7d\"],[0.2,\"#de77ae\"],[0.3,\"#f1b6da\"],[0.4,\"#fde0ef\"],[0.5,\"#f7f7f7\"],[0.6,\"#e6f5d0\"],[0.7,\"#b8e186\"],[0.8,\"#7fbc41\"],[0.9,\"#4d9221\"],[1,\"#276419\"]]},\"xaxis\":{\"gridcolor\":\"white\",\"linecolor\":\"white\",\"ticks\":\"\",\"title\":{\"standoff\":15},\"zerolinecolor\":\"white\",\"automargin\":true,\"zerolinewidth\":2},\"yaxis\":{\"gridcolor\":\"white\",\"linecolor\":\"white\",\"ticks\":\"\",\"title\":{\"standoff\":15},\"zerolinecolor\":\"white\",\"automargin\":true,\"zerolinewidth\":2},\"scene\":{\"xaxis\":{\"backgroundcolor\":\"#E5ECF6\",\"gridcolor\":\"white\",\"linecolor\":\"white\",\"showbackground\":true,\"ticks\":\"\",\"zerolinecolor\":\"white\",\"gridwidth\":2},\"yaxis\":{\"backgroundcolor\":\"#E5ECF6\",\"gridcolor\":\"white\",\"linecolor\":\"white\",\"showbackground\":true,\"ticks\":\"\",\"zerolinecolor\":\"white\",\"gridwidth\":2},\"zaxis\":{\"backgroundcolor\":\"#E5ECF6\",\"gridcolor\":\"white\",\"linecolor\":\"white\",\"showbackground\":true,\"ticks\":\"\",\"zerolinecolor\":\"white\",\"gridwidth\":2}},\"shapedefaults\":{\"line\":{\"color\":\"#2a3f5f\"}},\"annotationdefaults\":{\"arrowcolor\":\"#2a3f5f\",\"arrowhead\":0,\"arrowwidth\":1},\"geo\":{\"bgcolor\":\"white\",\"landcolor\":\"#E5ECF6\",\"subunitcolor\":\"white\",\"showland\":true,\"showlakes\":true,\"lakecolor\":\"white\"},\"title\":{\"x\":0.05},\"mapbox\":{\"style\":\"light\"}}},\"annotations\":[{\"font\":{\"size\":16},\"showarrow\":false,\"text\":\"<b>Z-DNA & SIDD(\\u00b1200bp)</b> (1,116)\",\"x\":0.11,\"xanchor\":\"center\",\"xref\":\"paper\",\"y\":1.0,\"yanchor\":\"bottom\",\"yref\":\"paper\",\"yshift\":20},{\"font\":{\"size\":16},\"showarrow\":false,\"text\":\"<b>SIDD(\\u00b1200bp)</b> (15,294)\",\"x\":0.37,\"xanchor\":\"center\",\"xref\":\"paper\",\"y\":1.0,\"yanchor\":\"bottom\",\"yref\":\"paper\",\"yshift\":20},{\"font\":{\"size\":16},\"showarrow\":false,\"text\":\"<b>G4 & SIDD(\\u00b1200bp)</b> (2,534)\",\"x\":0.63,\"xanchor\":\"center\",\"xref\":\"paper\",\"y\":1.0,\"yanchor\":\"bottom\",\"yref\":\"paper\",\"yshift\":20},{\"font\":{\"size\":16},\"showarrow\":false,\"text\":\"<b>H-DNA & SIDD(\\u00b1200bp)</b> (2,249)\",\"x\":0.89,\"xanchor\":\"center\",\"xref\":\"paper\",\"y\":1.0,\"yanchor\":\"bottom\",\"yref\":\"paper\",\"yshift\":20}],\"uniformtext\":{\"minsize\":10,\"mode\":\"hide\"},\"font\":{\"family\":\"monospace\",\"size\":14},\"margin\":{\"t\":60,\"b\":0,\"l\":0},\"legend\":{\"xanchor\":\"left\",\"x\":1.025},\"height\":500,\"width\":1800},                        {\"responsive\": true}                    ).then(function(){\n",
              "                            \n",
              "var gd = document.getElementById('dc5d95b0-fabc-429f-ab6e-0d2dbcebd300');\n",
              "var x = new MutationObserver(function (mutations, observer) {{\n",
              "        var display = window.getComputedStyle(gd).display;\n",
              "        if (!display || display === 'none') {{\n",
              "            console.log([gd, 'removed!']);\n",
              "            Plotly.purge(gd);\n",
              "            observer.disconnect();\n",
              "        }}\n",
              "}});\n",
              "\n",
              "// Listen for the removal of the full notebook cells\n",
              "var notebookContainer = gd.closest('#notebook-container');\n",
              "if (notebookContainer) {{\n",
              "    x.observe(notebookContainer, {childList: true});\n",
              "}}\n",
              "\n",
              "// Listen for the clearing of the current output cell\n",
              "var outputEl = gd.closest('.output');\n",
              "if (outputEl) {{\n",
              "    x.observe(outputEl, {childList: true});\n",
              "}}\n",
              "\n",
              "                        })                };                });            </script>        </div>"
            ]
          },
          "metadata": {},
          "output_type": "display_data"
        },
        {
          "data": {
            "application/vnd.plotly.v1+json": {
              "config": {
                "plotlyServerURL": "https://plot.ly"
              },
              "data": [
                {
                  "direction": "clockwise",
                  "domain": {
                    "x": [
                      0,
                      0.22
                    ],
                    "y": [
                      0,
                      1
                    ]
                  },
                  "hole": 0.35,
                  "hoverinfo": "label+percent+name",
                  "labels": [
                    "Promoter (<=1kb)",
                    "Promoter (1-2kb)",
                    "Promoter (2-3kb)",
                    "5' UTR",
                    "3' UTR",
                    "1st Exon",
                    "Other Exon",
                    "1st Intron",
                    "Other Intron",
                    "Downstream (<=300)",
                    "Distal Intergenic"
                  ],
                  "name": "<b>Z-DNA & SIDD(±500bp)</b> (1,801)",
                  "rotation": 0,
                  "sort": false,
                  "texttemplate": "%{value:.2f}%",
                  "type": "pie",
                  "values": [
                    33.0743618,
                    6.6037736,
                    3.8845727,
                    0.0554939,
                    1.4983352,
                    0.1109878,
                    1.8867925,
                    4.8834628,
                    15.5937847,
                    0.0554939,
                    32.3529412
                  ]
                },
                {
                  "direction": "clockwise",
                  "domain": {
                    "x": [
                      0.26,
                      0.48
                    ],
                    "y": [
                      0,
                      1
                    ]
                  },
                  "hole": 0.35,
                  "hoverinfo": "label+percent+name",
                  "labels": [
                    "Promoter (<=1kb)",
                    "Promoter (1-2kb)",
                    "Promoter (2-3kb)",
                    "5' UTR",
                    "3' UTR",
                    "1st Exon",
                    "Other Exon",
                    "1st Intron",
                    "Other Intron",
                    "Downstream (<=300)",
                    "Distal Intergenic"
                  ],
                  "name": "<b>SIDD(±500bp)</b> (15,294)",
                  "rotation": 0,
                  "sort": false,
                  "texttemplate": "%{value:.2f}%",
                  "type": "pie",
                  "values": [
                    8.96312762,
                    3.6414749,
                    3.56302301,
                    0.07845188,
                    1.23561715,
                    0.03922594,
                    1.96129707,
                    7.00183054,
                    16.46835774,
                    0.06537657,
                    56.98221757
                  ]
                },
                {
                  "direction": "clockwise",
                  "domain": {
                    "x": [
                      0.52,
                      0.74
                    ],
                    "y": [
                      0,
                      1
                    ]
                  },
                  "hole": 0.35,
                  "hoverinfo": "label+percent+name",
                  "labels": [
                    "Promoter (<=1kb)",
                    "Promoter (1-2kb)",
                    "Promoter (2-3kb)",
                    "5' UTR",
                    "3' UTR",
                    "1st Exon",
                    "Other Exon",
                    "1st Intron",
                    "Other Intron",
                    "Downstream (<=300)",
                    "Distal Intergenic"
                  ],
                  "name": "<b>G4 & SIDD(±500bp)</b> (3,089)",
                  "rotation": 0,
                  "sort": false,
                  "texttemplate": "%{value:.2f}%",
                  "type": "pie",
                  "values": [
                    15.31239883,
                    5.05017805,
                    3.59339592,
                    0,
                    1.23017158,
                    0,
                    0.48559404,
                    7.08967303,
                    18.06409841,
                    0.09711881,
                    49.07737132
                  ]
                },
                {
                  "direction": "clockwise",
                  "domain": {
                    "x": [
                      0.78,
                      1
                    ],
                    "y": [
                      0,
                      1
                    ]
                  },
                  "hole": 0.35,
                  "hoverinfo": "label+percent+name",
                  "labels": [
                    "Promoter (<=1kb)",
                    "Promoter (1-2kb)",
                    "Promoter (2-3kb)",
                    "5' UTR",
                    "3' UTR",
                    "1st Exon",
                    "Other Exon",
                    "1st Intron",
                    "Other Intron",
                    "Downstream (<=300)",
                    "Distal Intergenic"
                  ],
                  "name": "<b>H-DNA & SIDD(±500bp)</b> (2,560)",
                  "rotation": 0,
                  "sort": false,
                  "texttemplate": "%{value:.2f}%",
                  "type": "pie",
                  "values": [
                    11.171875,
                    4.6875,
                    3.046875,
                    0,
                    0.9765625,
                    0,
                    0.234375,
                    7.8515625,
                    20.15625,
                    0.078125,
                    51.796875
                  ]
                }
              ],
              "layout": {
                "annotations": [
                  {
                    "font": {
                      "size": 16
                    },
                    "showarrow": false,
                    "text": "<b>Z-DNA & SIDD(±500bp)</b> (1,801)",
                    "x": 0.11,
                    "xanchor": "center",
                    "xref": "paper",
                    "y": 1,
                    "yanchor": "bottom",
                    "yref": "paper",
                    "yshift": 20
                  },
                  {
                    "font": {
                      "size": 16
                    },
                    "showarrow": false,
                    "text": "<b>SIDD(±500bp)</b> (15,294)",
                    "x": 0.37,
                    "xanchor": "center",
                    "xref": "paper",
                    "y": 1,
                    "yanchor": "bottom",
                    "yref": "paper",
                    "yshift": 20
                  },
                  {
                    "font": {
                      "size": 16
                    },
                    "showarrow": false,
                    "text": "<b>G4 & SIDD(±500bp)</b> (3,089)",
                    "x": 0.63,
                    "xanchor": "center",
                    "xref": "paper",
                    "y": 1,
                    "yanchor": "bottom",
                    "yref": "paper",
                    "yshift": 20
                  },
                  {
                    "font": {
                      "size": 16
                    },
                    "showarrow": false,
                    "text": "<b>H-DNA & SIDD(±500bp)</b> (2,560)",
                    "x": 0.89,
                    "xanchor": "center",
                    "xref": "paper",
                    "y": 1,
                    "yanchor": "bottom",
                    "yref": "paper",
                    "yshift": 20
                  }
                ],
                "font": {
                  "family": "monospace",
                  "size": 14
                },
                "height": 500,
                "legend": {
                  "x": 1.025,
                  "xanchor": "left"
                },
                "margin": {
                  "b": 0,
                  "l": 0,
                  "t": 60
                },
                "template": {
                  "data": {
                    "bar": [
                      {
                        "error_x": {
                          "color": "#2a3f5f"
                        },
                        "error_y": {
                          "color": "#2a3f5f"
                        },
                        "marker": {
                          "line": {
                            "color": "#E5ECF6",
                            "width": 0.5
                          },
                          "pattern": {
                            "fillmode": "overlay",
                            "size": 10,
                            "solidity": 0.2
                          }
                        },
                        "type": "bar"
                      }
                    ],
                    "barpolar": [
                      {
                        "marker": {
                          "line": {
                            "color": "#E5ECF6",
                            "width": 0.5
                          },
                          "pattern": {
                            "fillmode": "overlay",
                            "size": 10,
                            "solidity": 0.2
                          }
                        },
                        "type": "barpolar"
                      }
                    ],
                    "carpet": [
                      {
                        "aaxis": {
                          "endlinecolor": "#2a3f5f",
                          "gridcolor": "white",
                          "linecolor": "white",
                          "minorgridcolor": "white",
                          "startlinecolor": "#2a3f5f"
                        },
                        "baxis": {
                          "endlinecolor": "#2a3f5f",
                          "gridcolor": "white",
                          "linecolor": "white",
                          "minorgridcolor": "white",
                          "startlinecolor": "#2a3f5f"
                        },
                        "type": "carpet"
                      }
                    ],
                    "choropleth": [
                      {
                        "colorbar": {
                          "outlinewidth": 0,
                          "ticks": ""
                        },
                        "type": "choropleth"
                      }
                    ],
                    "contour": [
                      {
                        "colorbar": {
                          "outlinewidth": 0,
                          "ticks": ""
                        },
                        "colorscale": [
                          [
                            0,
                            "#0d0887"
                          ],
                          [
                            0.1111111111111111,
                            "#46039f"
                          ],
                          [
                            0.2222222222222222,
                            "#7201a8"
                          ],
                          [
                            0.3333333333333333,
                            "#9c179e"
                          ],
                          [
                            0.4444444444444444,
                            "#bd3786"
                          ],
                          [
                            0.5555555555555556,
                            "#d8576b"
                          ],
                          [
                            0.6666666666666666,
                            "#ed7953"
                          ],
                          [
                            0.7777777777777778,
                            "#fb9f3a"
                          ],
                          [
                            0.8888888888888888,
                            "#fdca26"
                          ],
                          [
                            1,
                            "#f0f921"
                          ]
                        ],
                        "type": "contour"
                      }
                    ],
                    "contourcarpet": [
                      {
                        "colorbar": {
                          "outlinewidth": 0,
                          "ticks": ""
                        },
                        "type": "contourcarpet"
                      }
                    ],
                    "heatmap": [
                      {
                        "colorbar": {
                          "outlinewidth": 0,
                          "ticks": ""
                        },
                        "colorscale": [
                          [
                            0,
                            "#0d0887"
                          ],
                          [
                            0.1111111111111111,
                            "#46039f"
                          ],
                          [
                            0.2222222222222222,
                            "#7201a8"
                          ],
                          [
                            0.3333333333333333,
                            "#9c179e"
                          ],
                          [
                            0.4444444444444444,
                            "#bd3786"
                          ],
                          [
                            0.5555555555555556,
                            "#d8576b"
                          ],
                          [
                            0.6666666666666666,
                            "#ed7953"
                          ],
                          [
                            0.7777777777777778,
                            "#fb9f3a"
                          ],
                          [
                            0.8888888888888888,
                            "#fdca26"
                          ],
                          [
                            1,
                            "#f0f921"
                          ]
                        ],
                        "type": "heatmap"
                      }
                    ],
                    "heatmapgl": [
                      {
                        "colorbar": {
                          "outlinewidth": 0,
                          "ticks": ""
                        },
                        "colorscale": [
                          [
                            0,
                            "#0d0887"
                          ],
                          [
                            0.1111111111111111,
                            "#46039f"
                          ],
                          [
                            0.2222222222222222,
                            "#7201a8"
                          ],
                          [
                            0.3333333333333333,
                            "#9c179e"
                          ],
                          [
                            0.4444444444444444,
                            "#bd3786"
                          ],
                          [
                            0.5555555555555556,
                            "#d8576b"
                          ],
                          [
                            0.6666666666666666,
                            "#ed7953"
                          ],
                          [
                            0.7777777777777778,
                            "#fb9f3a"
                          ],
                          [
                            0.8888888888888888,
                            "#fdca26"
                          ],
                          [
                            1,
                            "#f0f921"
                          ]
                        ],
                        "type": "heatmapgl"
                      }
                    ],
                    "histogram": [
                      {
                        "marker": {
                          "pattern": {
                            "fillmode": "overlay",
                            "size": 10,
                            "solidity": 0.2
                          }
                        },
                        "type": "histogram"
                      }
                    ],
                    "histogram2d": [
                      {
                        "colorbar": {
                          "outlinewidth": 0,
                          "ticks": ""
                        },
                        "colorscale": [
                          [
                            0,
                            "#0d0887"
                          ],
                          [
                            0.1111111111111111,
                            "#46039f"
                          ],
                          [
                            0.2222222222222222,
                            "#7201a8"
                          ],
                          [
                            0.3333333333333333,
                            "#9c179e"
                          ],
                          [
                            0.4444444444444444,
                            "#bd3786"
                          ],
                          [
                            0.5555555555555556,
                            "#d8576b"
                          ],
                          [
                            0.6666666666666666,
                            "#ed7953"
                          ],
                          [
                            0.7777777777777778,
                            "#fb9f3a"
                          ],
                          [
                            0.8888888888888888,
                            "#fdca26"
                          ],
                          [
                            1,
                            "#f0f921"
                          ]
                        ],
                        "type": "histogram2d"
                      }
                    ],
                    "histogram2dcontour": [
                      {
                        "colorbar": {
                          "outlinewidth": 0,
                          "ticks": ""
                        },
                        "colorscale": [
                          [
                            0,
                            "#0d0887"
                          ],
                          [
                            0.1111111111111111,
                            "#46039f"
                          ],
                          [
                            0.2222222222222222,
                            "#7201a8"
                          ],
                          [
                            0.3333333333333333,
                            "#9c179e"
                          ],
                          [
                            0.4444444444444444,
                            "#bd3786"
                          ],
                          [
                            0.5555555555555556,
                            "#d8576b"
                          ],
                          [
                            0.6666666666666666,
                            "#ed7953"
                          ],
                          [
                            0.7777777777777778,
                            "#fb9f3a"
                          ],
                          [
                            0.8888888888888888,
                            "#fdca26"
                          ],
                          [
                            1,
                            "#f0f921"
                          ]
                        ],
                        "type": "histogram2dcontour"
                      }
                    ],
                    "mesh3d": [
                      {
                        "colorbar": {
                          "outlinewidth": 0,
                          "ticks": ""
                        },
                        "type": "mesh3d"
                      }
                    ],
                    "parcoords": [
                      {
                        "line": {
                          "colorbar": {
                            "outlinewidth": 0,
                            "ticks": ""
                          }
                        },
                        "type": "parcoords"
                      }
                    ],
                    "pie": [
                      {
                        "automargin": true,
                        "type": "pie"
                      }
                    ],
                    "scatter": [
                      {
                        "fillpattern": {
                          "fillmode": "overlay",
                          "size": 10,
                          "solidity": 0.2
                        },
                        "type": "scatter"
                      }
                    ],
                    "scatter3d": [
                      {
                        "line": {
                          "colorbar": {
                            "outlinewidth": 0,
                            "ticks": ""
                          }
                        },
                        "marker": {
                          "colorbar": {
                            "outlinewidth": 0,
                            "ticks": ""
                          }
                        },
                        "type": "scatter3d"
                      }
                    ],
                    "scattercarpet": [
                      {
                        "marker": {
                          "colorbar": {
                            "outlinewidth": 0,
                            "ticks": ""
                          }
                        },
                        "type": "scattercarpet"
                      }
                    ],
                    "scattergeo": [
                      {
                        "marker": {
                          "colorbar": {
                            "outlinewidth": 0,
                            "ticks": ""
                          }
                        },
                        "type": "scattergeo"
                      }
                    ],
                    "scattergl": [
                      {
                        "marker": {
                          "colorbar": {
                            "outlinewidth": 0,
                            "ticks": ""
                          }
                        },
                        "type": "scattergl"
                      }
                    ],
                    "scattermapbox": [
                      {
                        "marker": {
                          "colorbar": {
                            "outlinewidth": 0,
                            "ticks": ""
                          }
                        },
                        "type": "scattermapbox"
                      }
                    ],
                    "scatterpolar": [
                      {
                        "marker": {
                          "colorbar": {
                            "outlinewidth": 0,
                            "ticks": ""
                          }
                        },
                        "type": "scatterpolar"
                      }
                    ],
                    "scatterpolargl": [
                      {
                        "marker": {
                          "colorbar": {
                            "outlinewidth": 0,
                            "ticks": ""
                          }
                        },
                        "type": "scatterpolargl"
                      }
                    ],
                    "scatterternary": [
                      {
                        "marker": {
                          "colorbar": {
                            "outlinewidth": 0,
                            "ticks": ""
                          }
                        },
                        "type": "scatterternary"
                      }
                    ],
                    "surface": [
                      {
                        "colorbar": {
                          "outlinewidth": 0,
                          "ticks": ""
                        },
                        "colorscale": [
                          [
                            0,
                            "#0d0887"
                          ],
                          [
                            0.1111111111111111,
                            "#46039f"
                          ],
                          [
                            0.2222222222222222,
                            "#7201a8"
                          ],
                          [
                            0.3333333333333333,
                            "#9c179e"
                          ],
                          [
                            0.4444444444444444,
                            "#bd3786"
                          ],
                          [
                            0.5555555555555556,
                            "#d8576b"
                          ],
                          [
                            0.6666666666666666,
                            "#ed7953"
                          ],
                          [
                            0.7777777777777778,
                            "#fb9f3a"
                          ],
                          [
                            0.8888888888888888,
                            "#fdca26"
                          ],
                          [
                            1,
                            "#f0f921"
                          ]
                        ],
                        "type": "surface"
                      }
                    ],
                    "table": [
                      {
                        "cells": {
                          "fill": {
                            "color": "#EBF0F8"
                          },
                          "line": {
                            "color": "white"
                          }
                        },
                        "header": {
                          "fill": {
                            "color": "#C8D4E3"
                          },
                          "line": {
                            "color": "white"
                          }
                        },
                        "type": "table"
                      }
                    ]
                  },
                  "layout": {
                    "annotationdefaults": {
                      "arrowcolor": "#2a3f5f",
                      "arrowhead": 0,
                      "arrowwidth": 1
                    },
                    "autotypenumbers": "strict",
                    "coloraxis": {
                      "colorbar": {
                        "outlinewidth": 0,
                        "ticks": ""
                      }
                    },
                    "colorscale": {
                      "diverging": [
                        [
                          0,
                          "#8e0152"
                        ],
                        [
                          0.1,
                          "#c51b7d"
                        ],
                        [
                          0.2,
                          "#de77ae"
                        ],
                        [
                          0.3,
                          "#f1b6da"
                        ],
                        [
                          0.4,
                          "#fde0ef"
                        ],
                        [
                          0.5,
                          "#f7f7f7"
                        ],
                        [
                          0.6,
                          "#e6f5d0"
                        ],
                        [
                          0.7,
                          "#b8e186"
                        ],
                        [
                          0.8,
                          "#7fbc41"
                        ],
                        [
                          0.9,
                          "#4d9221"
                        ],
                        [
                          1,
                          "#276419"
                        ]
                      ],
                      "sequential": [
                        [
                          0,
                          "#0d0887"
                        ],
                        [
                          0.1111111111111111,
                          "#46039f"
                        ],
                        [
                          0.2222222222222222,
                          "#7201a8"
                        ],
                        [
                          0.3333333333333333,
                          "#9c179e"
                        ],
                        [
                          0.4444444444444444,
                          "#bd3786"
                        ],
                        [
                          0.5555555555555556,
                          "#d8576b"
                        ],
                        [
                          0.6666666666666666,
                          "#ed7953"
                        ],
                        [
                          0.7777777777777778,
                          "#fb9f3a"
                        ],
                        [
                          0.8888888888888888,
                          "#fdca26"
                        ],
                        [
                          1,
                          "#f0f921"
                        ]
                      ],
                      "sequentialminus": [
                        [
                          0,
                          "#0d0887"
                        ],
                        [
                          0.1111111111111111,
                          "#46039f"
                        ],
                        [
                          0.2222222222222222,
                          "#7201a8"
                        ],
                        [
                          0.3333333333333333,
                          "#9c179e"
                        ],
                        [
                          0.4444444444444444,
                          "#bd3786"
                        ],
                        [
                          0.5555555555555556,
                          "#d8576b"
                        ],
                        [
                          0.6666666666666666,
                          "#ed7953"
                        ],
                        [
                          0.7777777777777778,
                          "#fb9f3a"
                        ],
                        [
                          0.8888888888888888,
                          "#fdca26"
                        ],
                        [
                          1,
                          "#f0f921"
                        ]
                      ]
                    },
                    "colorway": [
                      "#636efa",
                      "#EF553B",
                      "#00cc96",
                      "#ab63fa",
                      "#FFA15A",
                      "#19d3f3",
                      "#FF6692",
                      "#B6E880",
                      "#FF97FF",
                      "#FECB52"
                    ],
                    "font": {
                      "color": "#2a3f5f"
                    },
                    "geo": {
                      "bgcolor": "white",
                      "lakecolor": "white",
                      "landcolor": "#E5ECF6",
                      "showlakes": true,
                      "showland": true,
                      "subunitcolor": "white"
                    },
                    "hoverlabel": {
                      "align": "left"
                    },
                    "hovermode": "closest",
                    "mapbox": {
                      "style": "light"
                    },
                    "paper_bgcolor": "white",
                    "plot_bgcolor": "#E5ECF6",
                    "polar": {
                      "angularaxis": {
                        "gridcolor": "white",
                        "linecolor": "white",
                        "ticks": ""
                      },
                      "bgcolor": "#E5ECF6",
                      "radialaxis": {
                        "gridcolor": "white",
                        "linecolor": "white",
                        "ticks": ""
                      }
                    },
                    "scene": {
                      "xaxis": {
                        "backgroundcolor": "#E5ECF6",
                        "gridcolor": "white",
                        "gridwidth": 2,
                        "linecolor": "white",
                        "showbackground": true,
                        "ticks": "",
                        "zerolinecolor": "white"
                      },
                      "yaxis": {
                        "backgroundcolor": "#E5ECF6",
                        "gridcolor": "white",
                        "gridwidth": 2,
                        "linecolor": "white",
                        "showbackground": true,
                        "ticks": "",
                        "zerolinecolor": "white"
                      },
                      "zaxis": {
                        "backgroundcolor": "#E5ECF6",
                        "gridcolor": "white",
                        "gridwidth": 2,
                        "linecolor": "white",
                        "showbackground": true,
                        "ticks": "",
                        "zerolinecolor": "white"
                      }
                    },
                    "shapedefaults": {
                      "line": {
                        "color": "#2a3f5f"
                      }
                    },
                    "ternary": {
                      "aaxis": {
                        "gridcolor": "white",
                        "linecolor": "white",
                        "ticks": ""
                      },
                      "baxis": {
                        "gridcolor": "white",
                        "linecolor": "white",
                        "ticks": ""
                      },
                      "bgcolor": "#E5ECF6",
                      "caxis": {
                        "gridcolor": "white",
                        "linecolor": "white",
                        "ticks": ""
                      }
                    },
                    "title": {
                      "x": 0.05
                    },
                    "xaxis": {
                      "automargin": true,
                      "gridcolor": "white",
                      "linecolor": "white",
                      "ticks": "",
                      "title": {
                        "standoff": 15
                      },
                      "zerolinecolor": "white",
                      "zerolinewidth": 2
                    },
                    "yaxis": {
                      "automargin": true,
                      "gridcolor": "white",
                      "linecolor": "white",
                      "ticks": "",
                      "title": {
                        "standoff": 15
                      },
                      "zerolinecolor": "white",
                      "zerolinewidth": 2
                    }
                  }
                },
                "uniformtext": {
                  "minsize": 10,
                  "mode": "hide"
                },
                "width": 1800
              }
            },
            "text/html": [
              "<div>                            <div id=\"8379b289-941c-4bfd-a46e-8cf448319b99\" class=\"plotly-graph-div\" style=\"height:500px; width:1800px;\"></div>            <script type=\"text/javascript\">                require([\"plotly\"], function(Plotly) {                    window.PLOTLYENV=window.PLOTLYENV || {};                                    if (document.getElementById(\"8379b289-941c-4bfd-a46e-8cf448319b99\")) {                    Plotly.newPlot(                        \"8379b289-941c-4bfd-a46e-8cf448319b99\",                        [{\"direction\":\"clockwise\",\"labels\":[\"Promoter (<=1kb)\",\"Promoter (1-2kb)\",\"Promoter (2-3kb)\",\"5' UTR\",\"3' UTR\",\"1st Exon\",\"Other Exon\",\"1st Intron\",\"Other Intron\",\"Downstream (<=300)\",\"Distal Intergenic\"],\"name\":\"<b>Z-DNA & SIDD(\\u00b1500bp)</b> (1,801)\",\"rotation\":0,\"sort\":false,\"values\":[33.0743618,6.6037736,3.8845727,0.0554939,1.4983352,0.1109878,1.8867925,4.8834628,15.5937847,0.0554939,32.3529412],\"type\":\"pie\",\"domain\":{\"x\":[0.0,0.22],\"y\":[0.0,1.0]},\"hole\":0.35,\"hoverinfo\":\"label+percent+name\",\"texttemplate\":\"%{value:.2f}%\"},{\"direction\":\"clockwise\",\"labels\":[\"Promoter (<=1kb)\",\"Promoter (1-2kb)\",\"Promoter (2-3kb)\",\"5' UTR\",\"3' UTR\",\"1st Exon\",\"Other Exon\",\"1st Intron\",\"Other Intron\",\"Downstream (<=300)\",\"Distal Intergenic\"],\"name\":\"<b>SIDD(\\u00b1500bp)</b> (15,294)\",\"rotation\":0,\"sort\":false,\"values\":[8.96312762,3.6414749,3.56302301,0.07845188,1.23561715,0.03922594,1.96129707,7.00183054,16.46835774,0.06537657,56.98221757],\"type\":\"pie\",\"domain\":{\"x\":[0.26,0.48],\"y\":[0.0,1.0]},\"hole\":0.35,\"hoverinfo\":\"label+percent+name\",\"texttemplate\":\"%{value:.2f}%\"},{\"direction\":\"clockwise\",\"labels\":[\"Promoter (<=1kb)\",\"Promoter (1-2kb)\",\"Promoter (2-3kb)\",\"5' UTR\",\"3' UTR\",\"1st Exon\",\"Other Exon\",\"1st Intron\",\"Other Intron\",\"Downstream (<=300)\",\"Distal Intergenic\"],\"name\":\"<b>G4 & SIDD(\\u00b1500bp)</b> (3,089)\",\"rotation\":0,\"sort\":false,\"values\":[15.31239883,5.05017805,3.59339592,0,1.23017158,0,0.48559404,7.08967303,18.06409841,0.09711881,49.07737132],\"type\":\"pie\",\"domain\":{\"x\":[0.52,0.74],\"y\":[0.0,1.0]},\"hole\":0.35,\"hoverinfo\":\"label+percent+name\",\"texttemplate\":\"%{value:.2f}%\"},{\"direction\":\"clockwise\",\"labels\":[\"Promoter (<=1kb)\",\"Promoter (1-2kb)\",\"Promoter (2-3kb)\",\"5' UTR\",\"3' UTR\",\"1st Exon\",\"Other Exon\",\"1st Intron\",\"Other Intron\",\"Downstream (<=300)\",\"Distal Intergenic\"],\"name\":\"<b>H-DNA & SIDD(\\u00b1500bp)</b> (2,560)\",\"rotation\":0,\"sort\":false,\"values\":[11.171875,4.6875,3.046875,0,0.9765625,0,0.234375,7.8515625,20.15625,0.078125,51.796875],\"type\":\"pie\",\"domain\":{\"x\":[0.78,1.0],\"y\":[0.0,1.0]},\"hole\":0.35,\"hoverinfo\":\"label+percent+name\",\"texttemplate\":\"%{value:.2f}%\"}],                        {\"template\":{\"data\":{\"histogram2dcontour\":[{\"type\":\"histogram2dcontour\",\"colorbar\":{\"outlinewidth\":0,\"ticks\":\"\"},\"colorscale\":[[0.0,\"#0d0887\"],[0.1111111111111111,\"#46039f\"],[0.2222222222222222,\"#7201a8\"],[0.3333333333333333,\"#9c179e\"],[0.4444444444444444,\"#bd3786\"],[0.5555555555555556,\"#d8576b\"],[0.6666666666666666,\"#ed7953\"],[0.7777777777777778,\"#fb9f3a\"],[0.8888888888888888,\"#fdca26\"],[1.0,\"#f0f921\"]]}],\"choropleth\":[{\"type\":\"choropleth\",\"colorbar\":{\"outlinewidth\":0,\"ticks\":\"\"}}],\"histogram2d\":[{\"type\":\"histogram2d\",\"colorbar\":{\"outlinewidth\":0,\"ticks\":\"\"},\"colorscale\":[[0.0,\"#0d0887\"],[0.1111111111111111,\"#46039f\"],[0.2222222222222222,\"#7201a8\"],[0.3333333333333333,\"#9c179e\"],[0.4444444444444444,\"#bd3786\"],[0.5555555555555556,\"#d8576b\"],[0.6666666666666666,\"#ed7953\"],[0.7777777777777778,\"#fb9f3a\"],[0.8888888888888888,\"#fdca26\"],[1.0,\"#f0f921\"]]}],\"heatmap\":[{\"type\":\"heatmap\",\"colorbar\":{\"outlinewidth\":0,\"ticks\":\"\"},\"colorscale\":[[0.0,\"#0d0887\"],[0.1111111111111111,\"#46039f\"],[0.2222222222222222,\"#7201a8\"],[0.3333333333333333,\"#9c179e\"],[0.4444444444444444,\"#bd3786\"],[0.5555555555555556,\"#d8576b\"],[0.6666666666666666,\"#ed7953\"],[0.7777777777777778,\"#fb9f3a\"],[0.8888888888888888,\"#fdca26\"],[1.0,\"#f0f921\"]]}],\"heatmapgl\":[{\"type\":\"heatmapgl\",\"colorbar\":{\"outlinewidth\":0,\"ticks\":\"\"},\"colorscale\":[[0.0,\"#0d0887\"],[0.1111111111111111,\"#46039f\"],[0.2222222222222222,\"#7201a8\"],[0.3333333333333333,\"#9c179e\"],[0.4444444444444444,\"#bd3786\"],[0.5555555555555556,\"#d8576b\"],[0.6666666666666666,\"#ed7953\"],[0.7777777777777778,\"#fb9f3a\"],[0.8888888888888888,\"#fdca26\"],[1.0,\"#f0f921\"]]}],\"contourcarpet\":[{\"type\":\"contourcarpet\",\"colorbar\":{\"outlinewidth\":0,\"ticks\":\"\"}}],\"contour\":[{\"type\":\"contour\",\"colorbar\":{\"outlinewidth\":0,\"ticks\":\"\"},\"colorscale\":[[0.0,\"#0d0887\"],[0.1111111111111111,\"#46039f\"],[0.2222222222222222,\"#7201a8\"],[0.3333333333333333,\"#9c179e\"],[0.4444444444444444,\"#bd3786\"],[0.5555555555555556,\"#d8576b\"],[0.6666666666666666,\"#ed7953\"],[0.7777777777777778,\"#fb9f3a\"],[0.8888888888888888,\"#fdca26\"],[1.0,\"#f0f921\"]]}],\"surface\":[{\"type\":\"surface\",\"colorbar\":{\"outlinewidth\":0,\"ticks\":\"\"},\"colorscale\":[[0.0,\"#0d0887\"],[0.1111111111111111,\"#46039f\"],[0.2222222222222222,\"#7201a8\"],[0.3333333333333333,\"#9c179e\"],[0.4444444444444444,\"#bd3786\"],[0.5555555555555556,\"#d8576b\"],[0.6666666666666666,\"#ed7953\"],[0.7777777777777778,\"#fb9f3a\"],[0.8888888888888888,\"#fdca26\"],[1.0,\"#f0f921\"]]}],\"mesh3d\":[{\"type\":\"mesh3d\",\"colorbar\":{\"outlinewidth\":0,\"ticks\":\"\"}}],\"scatter\":[{\"fillpattern\":{\"fillmode\":\"overlay\",\"size\":10,\"solidity\":0.2},\"type\":\"scatter\"}],\"parcoords\":[{\"type\":\"parcoords\",\"line\":{\"colorbar\":{\"outlinewidth\":0,\"ticks\":\"\"}}}],\"scatterpolargl\":[{\"type\":\"scatterpolargl\",\"marker\":{\"colorbar\":{\"outlinewidth\":0,\"ticks\":\"\"}}}],\"bar\":[{\"error_x\":{\"color\":\"#2a3f5f\"},\"error_y\":{\"color\":\"#2a3f5f\"},\"marker\":{\"line\":{\"color\":\"#E5ECF6\",\"width\":0.5},\"pattern\":{\"fillmode\":\"overlay\",\"size\":10,\"solidity\":0.2}},\"type\":\"bar\"}],\"scattergeo\":[{\"type\":\"scattergeo\",\"marker\":{\"colorbar\":{\"outlinewidth\":0,\"ticks\":\"\"}}}],\"scatterpolar\":[{\"type\":\"scatterpolar\",\"marker\":{\"colorbar\":{\"outlinewidth\":0,\"ticks\":\"\"}}}],\"histogram\":[{\"marker\":{\"pattern\":{\"fillmode\":\"overlay\",\"size\":10,\"solidity\":0.2}},\"type\":\"histogram\"}],\"scattergl\":[{\"type\":\"scattergl\",\"marker\":{\"colorbar\":{\"outlinewidth\":0,\"ticks\":\"\"}}}],\"scatter3d\":[{\"type\":\"scatter3d\",\"line\":{\"colorbar\":{\"outlinewidth\":0,\"ticks\":\"\"}},\"marker\":{\"colorbar\":{\"outlinewidth\":0,\"ticks\":\"\"}}}],\"scattermapbox\":[{\"type\":\"scattermapbox\",\"marker\":{\"colorbar\":{\"outlinewidth\":0,\"ticks\":\"\"}}}],\"scatterternary\":[{\"type\":\"scatterternary\",\"marker\":{\"colorbar\":{\"outlinewidth\":0,\"ticks\":\"\"}}}],\"scattercarpet\":[{\"type\":\"scattercarpet\",\"marker\":{\"colorbar\":{\"outlinewidth\":0,\"ticks\":\"\"}}}],\"carpet\":[{\"aaxis\":{\"endlinecolor\":\"#2a3f5f\",\"gridcolor\":\"white\",\"linecolor\":\"white\",\"minorgridcolor\":\"white\",\"startlinecolor\":\"#2a3f5f\"},\"baxis\":{\"endlinecolor\":\"#2a3f5f\",\"gridcolor\":\"white\",\"linecolor\":\"white\",\"minorgridcolor\":\"white\",\"startlinecolor\":\"#2a3f5f\"},\"type\":\"carpet\"}],\"table\":[{\"cells\":{\"fill\":{\"color\":\"#EBF0F8\"},\"line\":{\"color\":\"white\"}},\"header\":{\"fill\":{\"color\":\"#C8D4E3\"},\"line\":{\"color\":\"white\"}},\"type\":\"table\"}],\"barpolar\":[{\"marker\":{\"line\":{\"color\":\"#E5ECF6\",\"width\":0.5},\"pattern\":{\"fillmode\":\"overlay\",\"size\":10,\"solidity\":0.2}},\"type\":\"barpolar\"}],\"pie\":[{\"automargin\":true,\"type\":\"pie\"}]},\"layout\":{\"autotypenumbers\":\"strict\",\"colorway\":[\"#636efa\",\"#EF553B\",\"#00cc96\",\"#ab63fa\",\"#FFA15A\",\"#19d3f3\",\"#FF6692\",\"#B6E880\",\"#FF97FF\",\"#FECB52\"],\"font\":{\"color\":\"#2a3f5f\"},\"hovermode\":\"closest\",\"hoverlabel\":{\"align\":\"left\"},\"paper_bgcolor\":\"white\",\"plot_bgcolor\":\"#E5ECF6\",\"polar\":{\"bgcolor\":\"#E5ECF6\",\"angularaxis\":{\"gridcolor\":\"white\",\"linecolor\":\"white\",\"ticks\":\"\"},\"radialaxis\":{\"gridcolor\":\"white\",\"linecolor\":\"white\",\"ticks\":\"\"}},\"ternary\":{\"bgcolor\":\"#E5ECF6\",\"aaxis\":{\"gridcolor\":\"white\",\"linecolor\":\"white\",\"ticks\":\"\"},\"baxis\":{\"gridcolor\":\"white\",\"linecolor\":\"white\",\"ticks\":\"\"},\"caxis\":{\"gridcolor\":\"white\",\"linecolor\":\"white\",\"ticks\":\"\"}},\"coloraxis\":{\"colorbar\":{\"outlinewidth\":0,\"ticks\":\"\"}},\"colorscale\":{\"sequential\":[[0.0,\"#0d0887\"],[0.1111111111111111,\"#46039f\"],[0.2222222222222222,\"#7201a8\"],[0.3333333333333333,\"#9c179e\"],[0.4444444444444444,\"#bd3786\"],[0.5555555555555556,\"#d8576b\"],[0.6666666666666666,\"#ed7953\"],[0.7777777777777778,\"#fb9f3a\"],[0.8888888888888888,\"#fdca26\"],[1.0,\"#f0f921\"]],\"sequentialminus\":[[0.0,\"#0d0887\"],[0.1111111111111111,\"#46039f\"],[0.2222222222222222,\"#7201a8\"],[0.3333333333333333,\"#9c179e\"],[0.4444444444444444,\"#bd3786\"],[0.5555555555555556,\"#d8576b\"],[0.6666666666666666,\"#ed7953\"],[0.7777777777777778,\"#fb9f3a\"],[0.8888888888888888,\"#fdca26\"],[1.0,\"#f0f921\"]],\"diverging\":[[0,\"#8e0152\"],[0.1,\"#c51b7d\"],[0.2,\"#de77ae\"],[0.3,\"#f1b6da\"],[0.4,\"#fde0ef\"],[0.5,\"#f7f7f7\"],[0.6,\"#e6f5d0\"],[0.7,\"#b8e186\"],[0.8,\"#7fbc41\"],[0.9,\"#4d9221\"],[1,\"#276419\"]]},\"xaxis\":{\"gridcolor\":\"white\",\"linecolor\":\"white\",\"ticks\":\"\",\"title\":{\"standoff\":15},\"zerolinecolor\":\"white\",\"automargin\":true,\"zerolinewidth\":2},\"yaxis\":{\"gridcolor\":\"white\",\"linecolor\":\"white\",\"ticks\":\"\",\"title\":{\"standoff\":15},\"zerolinecolor\":\"white\",\"automargin\":true,\"zerolinewidth\":2},\"scene\":{\"xaxis\":{\"backgroundcolor\":\"#E5ECF6\",\"gridcolor\":\"white\",\"linecolor\":\"white\",\"showbackground\":true,\"ticks\":\"\",\"zerolinecolor\":\"white\",\"gridwidth\":2},\"yaxis\":{\"backgroundcolor\":\"#E5ECF6\",\"gridcolor\":\"white\",\"linecolor\":\"white\",\"showbackground\":true,\"ticks\":\"\",\"zerolinecolor\":\"white\",\"gridwidth\":2},\"zaxis\":{\"backgroundcolor\":\"#E5ECF6\",\"gridcolor\":\"white\",\"linecolor\":\"white\",\"showbackground\":true,\"ticks\":\"\",\"zerolinecolor\":\"white\",\"gridwidth\":2}},\"shapedefaults\":{\"line\":{\"color\":\"#2a3f5f\"}},\"annotationdefaults\":{\"arrowcolor\":\"#2a3f5f\",\"arrowhead\":0,\"arrowwidth\":1},\"geo\":{\"bgcolor\":\"white\",\"landcolor\":\"#E5ECF6\",\"subunitcolor\":\"white\",\"showland\":true,\"showlakes\":true,\"lakecolor\":\"white\"},\"title\":{\"x\":0.05},\"mapbox\":{\"style\":\"light\"}}},\"annotations\":[{\"font\":{\"size\":16},\"showarrow\":false,\"text\":\"<b>Z-DNA & SIDD(\\u00b1500bp)</b> (1,801)\",\"x\":0.11,\"xanchor\":\"center\",\"xref\":\"paper\",\"y\":1.0,\"yanchor\":\"bottom\",\"yref\":\"paper\",\"yshift\":20},{\"font\":{\"size\":16},\"showarrow\":false,\"text\":\"<b>SIDD(\\u00b1500bp)</b> (15,294)\",\"x\":0.37,\"xanchor\":\"center\",\"xref\":\"paper\",\"y\":1.0,\"yanchor\":\"bottom\",\"yref\":\"paper\",\"yshift\":20},{\"font\":{\"size\":16},\"showarrow\":false,\"text\":\"<b>G4 & SIDD(\\u00b1500bp)</b> (3,089)\",\"x\":0.63,\"xanchor\":\"center\",\"xref\":\"paper\",\"y\":1.0,\"yanchor\":\"bottom\",\"yref\":\"paper\",\"yshift\":20},{\"font\":{\"size\":16},\"showarrow\":false,\"text\":\"<b>H-DNA & SIDD(\\u00b1500bp)</b> (2,560)\",\"x\":0.89,\"xanchor\":\"center\",\"xref\":\"paper\",\"y\":1.0,\"yanchor\":\"bottom\",\"yref\":\"paper\",\"yshift\":20}],\"uniformtext\":{\"minsize\":10,\"mode\":\"hide\"},\"font\":{\"family\":\"monospace\",\"size\":14},\"margin\":{\"t\":60,\"b\":0,\"l\":0},\"legend\":{\"xanchor\":\"left\",\"x\":1.025},\"height\":500,\"width\":1800},                        {\"responsive\": true}                    ).then(function(){\n",
              "                            \n",
              "var gd = document.getElementById('8379b289-941c-4bfd-a46e-8cf448319b99');\n",
              "var x = new MutationObserver(function (mutations, observer) {{\n",
              "        var display = window.getComputedStyle(gd).display;\n",
              "        if (!display || display === 'none') {{\n",
              "            console.log([gd, 'removed!']);\n",
              "            Plotly.purge(gd);\n",
              "            observer.disconnect();\n",
              "        }}\n",
              "}});\n",
              "\n",
              "// Listen for the removal of the full notebook cells\n",
              "var notebookContainer = gd.closest('#notebook-container');\n",
              "if (notebookContainer) {{\n",
              "    x.observe(notebookContainer, {childList: true});\n",
              "}}\n",
              "\n",
              "// Listen for the clearing of the current output cell\n",
              "var outputEl = gd.closest('.output');\n",
              "if (outputEl) {{\n",
              "    x.observe(outputEl, {childList: true});\n",
              "}}\n",
              "\n",
              "                        })                };                });            </script>        </div>"
            ]
          },
          "metadata": {},
          "output_type": "display_data"
        }
      ],
      "source": [
        "\"\"\"Draw the figures.\"\"\"\n",
        "\n",
        "figure_names = [\n",
        "    'flipons', 'flipons_and_mirna', 'flipons_100bp', 'flipons_200bp', 'flipons_500bp', \n",
        "]\n",
        "for i in range(len(figure_names)):\n",
        "    draw_pie_subplots(\n",
        "        data_list[i * 4 : (i * 4) + 4], 1, 4, f\"../img/mm10_kouzine_ssDNA_pie_chart_{i}_{figure_names[i]}\"\n",
        "    )\n"
      ]
    },
    {
      "cell_type": "code",
      "execution_count": null,
      "metadata": {},
      "outputs": [],
      "source": [
        "def draw_sunburst(data: list, rows: int, cols: int, title: str = \"result\"):\n",
        "    fig = make_subplots(\n",
        "        rows=rows,\n",
        "        cols=cols,\n",
        "        specs=np.full((rows, cols), {\"type\": \"domain\"}).tolist(),\n",
        "        horizontal_spacing=0.04,\n",
        "        subplot_titles=[x[0] for x in data],\n",
        "    )\n",
        "\n",
        "    for i, (data_name, data_raw) in enumerate(data):\n",
        "        categories = pd.DataFrame(\n",
        "            {\n",
        "                \"label\": [\n",
        "                    \"Promoter (<=1kb)\",\n",
        "                    \"Promoter (1-2kb)\",\n",
        "                    \"Promoter (2-3kb)\",\n",
        "                    \"5' UTR\",\n",
        "                    \"3' UTR\",\n",
        "                    \"1st Exon\",\n",
        "                    \"Other Exon\",\n",
        "                    \"1st Intron\",\n",
        "                    \"Other Intron\",\n",
        "                    \"Downstream (<=300)\",\n",
        "                    \"Distal Intergenic\",\n",
        "                ],\n",
        "                \"parent\": [\n",
        "                    \"Promoter\",\n",
        "                    \"Promoter\",\n",
        "                    \"Promoter\",\n",
        "                    \"Gene body\",\n",
        "                    \"Gene body\",\n",
        "                    \"Gene body\",\n",
        "                    \"Gene body\",\n",
        "                    \"Gene body\",\n",
        "                    \"Gene body\",\n",
        "                    \"Intergenic\",\n",
        "                    \"Intergenic\",\n",
        "                ],\n",
        "                \"value\": None,\n",
        "            }\n",
        "        )\n",
        "\n",
        "        for idx, row in categories.iterrows():\n",
        "            categories.loc[idx, \"value\"] = get_category_value(row[\"label\"], data_raw)\n",
        "\n",
        "        categories.loc[len(categories)] = ['Total', '', categories['value'].sum()]\n",
        "        categories.loc[len(categories)] = ['Promoter', '', categories[categories['parent']==\"Promoter\"]['value'].sum()]\n",
        "        categories.loc[len(categories)] = ['Gene body', '', categories[categories['parent']==\"Gene body\"]['value'].sum()]\n",
        "        categories.loc[len(categories)] = ['Intergenic', '', categories[categories['parent']==\"Intergenic\"]['value'].sum()]\n",
        "\n",
        "        fig.add_trace(\n",
        "            go.Sunburst(\n",
        "                sort=False,\n",
        "                rotation=0,\n",
        "                labels=categories['label'],\n",
        "                parents=categories['parent'],\n",
        "                values=categories['value'],\n",
        "                name=data_name,\n",
        "                branchvalues='total',\n",
        "                insidetextorientation='radial',\n",
        "            ),\n",
        "            1,\n",
        "            i + 1,\n",
        "        )\n",
        "\n",
        "    fig.update_traces(\n",
        "        hole=0.35, hoverinfo=\"label+percent+name\", texttemplate=\"%{value:.2f}%\"\n",
        "    )\n",
        "\n",
        "    fig.update_annotations(yshift=20)\n",
        "\n",
        "    fig.update_layout(\n",
        "        uniformtext_minsize=10,\n",
        "        uniformtext_mode=\"hide\",\n",
        "        font=dict(family=\"monospace\", size=14),\n",
        "        margin=dict(t=60, b=0, l=0),\n",
        "        legend=dict(\n",
        "            # yanchor=\"top\",\n",
        "            # y=0.99,\n",
        "            xanchor=\"left\",\n",
        "            x=1.025\n",
        "        ),\n",
        "        height=500,\n",
        "        width=1800,\n",
        "    )\n",
        "    fig.write_image(title + \".png\")\n",
        "    fig.show()\n"
      ]
    },
    {
      "cell_type": "code",
      "execution_count": null,
      "metadata": {},
      "outputs": [],
      "source": []
    }
  ],
  "metadata": {
    "colab": {
      "collapsed_sections": [],
      "name": "2022-05-12_04_draw_pie_charts.ipynb",
      "provenance": []
    },
    "kernelspec": {
      "display_name": "Python 3.11.0 ('mirna')",
      "language": "python",
      "name": "python3"
    },
    "language_info": {
      "codemirror_mode": {
        "name": "ipython",
        "version": 3
      },
      "file_extension": ".py",
      "mimetype": "text/x-python",
      "name": "python",
      "nbconvert_exporter": "python",
      "pygments_lexer": "ipython3",
      "version": "3.11.0"
    },
    "vscode": {
      "interpreter": {
        "hash": "aa4ca5e43b0b74394dc05f972f57eb4922712b4f4450a8ee4f1bf77784cf2ccc"
      }
    }
  },
  "nbformat": 4,
  "nbformat_minor": 0
}
