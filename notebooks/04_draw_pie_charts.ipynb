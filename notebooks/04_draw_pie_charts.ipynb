{
  "cells": [
    {
      "cell_type": "markdown",
      "metadata": {
        "id": "WUfpekR6P2vQ"
      },
      "source": [
        "## Imports"
      ]
    },
    {
      "cell_type": "code",
      "execution_count": 3,
      "metadata": {
        "id": "PNehBPL7HPnL"
      },
      "outputs": [
        {
          "name": "stdout",
          "output_type": "stream",
          "text": [
            "Requirement already satisfied: plotly in /home/fpavlov/miniconda3/envs/mirna/lib/python3.11/site-packages (5.11.0)\n",
            "Requirement already satisfied: kaleido in /home/fpavlov/miniconda3/envs/mirna/lib/python3.11/site-packages (0.2.1)\n",
            "Requirement already satisfied: tenacity>=6.2.0 in /home/fpavlov/miniconda3/envs/mirna/lib/python3.11/site-packages (from plotly) (8.1.0)\n"
          ]
        }
      ],
      "source": [
        "!pip install -U plotly kaleido"
      ]
    },
    {
      "cell_type": "code",
      "execution_count": 4,
      "metadata": {
        "id": "M7Kdl90ZP5Fx"
      },
      "outputs": [],
      "source": [
        "import numpy as np\n",
        "import pandas as pd\n",
        "import plotly.graph_objects as go\n",
        "import plotly.express as px\n",
        "\n",
        "from plotly.subplots import make_subplots"
      ]
    },
    {
      "cell_type": "markdown",
      "metadata": {
        "id": "g4m270I1QBE_"
      },
      "source": [
        "## Data"
      ]
    },
    {
      "cell_type": "code",
      "execution_count": 5,
      "metadata": {
        "colab": {
          "base_uri": "https://localhost:8080/"
        },
        "id": "9LmLp3P7QB2s",
        "outputId": "27bade2f-066e-4dd7-d61b-e102263c6be7"
      },
      "outputs": [
        {
          "name": "stdout",
          "output_type": "stream",
          "text": [
            "['0: Z-DNA', '1: SIDD', '2: G4', '3: H-DNA', '4: Z-DNA & miRNA', '5: SIDD & miRNA', '6: G4 & miRNA', '7: H-DNA & miRNA', '8: Z-DNA & SIDD(+-100p)', '9: SIDD(+-100bp)', '10: G4 & SIDD(+-100bp)', '11: H-DNA & SIDD(+-100bp)', '12: Z-DNA & SIDD(+-200bp)', '13: SIDD(+-200bp)', '14: G4 & SIDD(+-200bp)', '15: H-DNA & SIDD(+-200bp)', '16: Z-DNA & SIDD(+-500bp)', '17: SIDD(+-500bp)', '18: G4 & SIDD(+-500bp)', '19: H-DNA & SIDD(+-500bp)']\n"
          ]
        },
        {
          "data": {
            "text/plain": [
              "20"
            ]
          },
          "execution_count": 5,
          "metadata": {},
          "output_type": "execute_result"
        }
      ],
      "source": [
        "\"\"\"Initialize generated data for pie charts.\"\"\"\n",
        "\n",
        "data_list = [        \n",
        "('Z-DNA',\n",
        "\"\"\"\\\n",
        "9    Promoter (<=1kb) 40.95135480\n",
        "10   Promoter (1-2kb)  5.89808053\n",
        "11   Promoter (2-3kb)  3.73518496\n",
        "4              5' UTR  0.02394349\n",
        "3              3' UTR  0.81806936\n",
        "1            1st Exon  0.01596233\n",
        "7          Other Exon  3.09669181\n",
        "2          1st Intron  4.93235963\n",
        "8        Other Intron 12.46258829\n",
        "6  Downstream (<=300)  0.05586815\n",
        "5   Distal Intergenic 28.00989664\n",
        "\"\"\"),\n",
        "('SIDD',\n",
        "\"\"\"\\\n",
        "9    Promoter (<=1kb)  6.74032427\n",
        "10   Promoter (1-2kb)  4.19717573\n",
        "11   Promoter (2-3kb)  3.37996862\n",
        "4              5' UTR  0.01307531\n",
        "3              3' UTR  0.92180962\n",
        "1            1st Exon  0.04576360\n",
        "7          Other Exon  0.47724895\n",
        "2          1st Intron  7.38755230\n",
        "8        Other Intron 18.59309623\n",
        "6  Downstream (<=300)  0.07191423\n",
        "5   Distal Intergenic 58.17207113\n",
        "\"\"\"),\n",
        "('G4',\n",
        "\"\"\"\\\n",
        "9    Promoter (<=1kb) 36.5871723\n",
        "10   Promoter (1-2kb)  5.5448576\n",
        "11   Promoter (2-3kb)  3.4760282\n",
        "4              5' UTR  0.0493754\n",
        "3              3' UTR  1.1603219\n",
        "1            1st Exon  0.0246877\n",
        "7          Other Exon  1.5256999\n",
        "2          1st Intron  5.4510443\n",
        "8        Other Intron 13.5930479\n",
        "6  Downstream (<=300)  0.0740631\n",
        "5   Distal Intergenic 32.5137017\n",
        "\"\"\"),\n",
        "('H-DNA',\n",
        "\"\"\"\\\n",
        "9    Promoter (<=1kb) 11.690058480\n",
        "10   Promoter (1-2kb)  4.520467836\n",
        "11   Promoter (2-3kb)  3.690058480\n",
        "4              5' UTR  0.005847953\n",
        "3              3' UTR  0.543859649\n",
        "1            1st Exon  0.023391813\n",
        "7          Other Exon  0.345029240\n",
        "2          1st Intron  8.000000000\n",
        "8        Other Intron 20.087719298\n",
        "6  Downstream (<=300)  0.040935673\n",
        "5   Distal Intergenic 51.052631579\n",
        "\"\"\"),\n",
        "('Z-DNA & miRNA',\n",
        "\"\"\"\\\n",
        "7  Promoter (<=1kb) 26.01002654\n",
        "8  Promoter (1-2kb)  5.69153642\n",
        "9  Promoter (2-3kb)  4.30551460\n",
        "3            5' UTR  0.05897965\n",
        "2            3' UTR  0.70775582\n",
        "5        Other Exon  1.12061339\n",
        "1        1st Intron  7.01857859\n",
        "6      Other Intron 18.43114126\n",
        "4 Distal Intergenic 36.65585373\n",
        "\"\"\"),\n",
        "('SIDD & miRNA',\n",
        "\"\"\"\\\n",
        "9    Promoter (<=1kb)  6.349337067\n",
        "10   Promoter (1-2kb)  4.315243350\n",
        "11   Promoter (2-3kb)  3.434077246\n",
        "4              5' UTR  0.008235197\n",
        "3              3' UTR  0.897636498\n",
        "1            1st Exon  0.041175986\n",
        "7          Other Exon  0.502347031\n",
        "2          1st Intron  7.502264679\n",
        "8        Other Intron 18.809190480\n",
        "6  Downstream (<=300)  0.074116775\n",
        "5   Distal Intergenic 58.066375690\n",
        "\"\"\"),\n",
        "('G4 & miRNA',\n",
        "\"\"\"\\\n",
        "8    Promoter (<=1kb) 38.82687678\n",
        "9    Promoter (1-2kb)  5.66863646\n",
        "10   Promoter (2-3kb)  3.83015977\n",
        "3              5' UTR  0.04377325\n",
        "2              3' UTR  1.24753775\n",
        "6          Other Exon  2.01356971\n",
        "1          1st Intron  4.88071788\n",
        "7        Other Intron 12.54103743\n",
        "5  Downstream (<=300)  0.02188663\n",
        "4   Distal Intergenic 30.92580433\n",
        "\"\"\"),\n",
        "('H-DNA & miRNA',\n",
        "\"\"\"\\\n",
        "7   Promoter (<=1kb) 10.71913161\n",
        "8   Promoter (1-2kb)  4.00271370\n",
        "9   Promoter (2-3kb)  3.86702849\n",
        "2             3' UTR  0.81411126\n",
        "5         Other Exon  0.13568521\n",
        "1         1st Intron  7.39484396\n",
        "6       Other Intron 21.70963365\n",
        "4 Downstream (<=300)  0.06784261\n",
        "3  Distal Intergenic 51.28900950\n",
        "\"\"\"),\n",
        "('Z-DNA & SIDD(+-100p)',\n",
        "\"\"\"\\\n",
        "8    Promoter (<=1kb) 20.0527704\n",
        "9    Promoter (1-2kb)  6.0686016\n",
        "10   Promoter (2-3kb)  4.0897098\n",
        "3              3' UTR  0.9234828\n",
        "1            1st Exon  0.1319261\n",
        "6          Other Exon  0.9234828\n",
        "2          1st Intron  6.5963061\n",
        "7        Other Intron 19.3931398\n",
        "5  Downstream (<=300)  0.1319261\n",
        "4   Distal Intergenic 41.6886544\n",
        "\"\"\"),\n",
        "('SIDD(+-100bp)',\n",
        "\"\"\"\\\n",
        "9    Promoter (<=1kb)  7.20449791\n",
        "10   Promoter (1-2kb)  4.11218619\n",
        "11   Promoter (2-3kb)  3.47803347\n",
        "4              5' UTR  0.02615063\n",
        "3              3' UTR  0.96103556\n",
        "1            1st Exon  0.05230126\n",
        "7          Other Exon  0.84989540\n",
        "2          1st Intron  7.29602510\n",
        "8        Other Intron 18.05700837\n",
        "6  Downstream (<=300)  0.05883891\n",
        "5   Distal Intergenic 57.90402720\n",
        "\"\"\"),\n",
        "('G4 & SIDD(+-100bp)',\n",
        "\"\"\"\\\n",
        "6  Promoter (<=1kb)  6.7555556\n",
        "7  Promoter (1-2kb)  4.4888889\n",
        "8  Promoter (2-3kb)  3.3333333\n",
        "2            3' UTR  0.7555556\n",
        "4        Other Exon  0.1777778\n",
        "1        1st Intron  8.4444444\n",
        "5      Other Intron 19.8222222\n",
        "3 Distal Intergenic 56.2222222\n",
        "\"\"\"),\n",
        "('H-DNA & SIDD(+-100bp)',\n",
        "\"\"\"\\\n",
        "7   Promoter (<=1kb) 10.16865079\n",
        "8   Promoter (1-2kb)  4.76190476\n",
        "9   Promoter (2-3kb)  2.77777778\n",
        "2             3' UTR  0.99206349\n",
        "5         Other Exon  0.24801587\n",
        "1         1st Intron  7.44047619\n",
        "6       Other Intron 20.08928571\n",
        "4 Downstream (<=300)  0.09920635\n",
        "3  Distal Intergenic 53.42261905\n",
        "\"\"\"),\n",
        "('Z-DNA & SIDD(+-200bp)',\n",
        "\"\"\"\\\n",
        "9    Promoter (<=1kb) 23.63473590\n",
        "10   Promoter (1-2kb)  6.26678603\n",
        "11   Promoter (2-3kb)  3.67054611\n",
        "4              5' UTR  0.08952551\n",
        "3              3' UTR  0.98478066\n",
        "1            1st Exon  0.08952551\n",
        "7          Other Exon  1.07430618\n",
        "2          1st Intron  6.17726052\n",
        "8        Other Intron 18.53178156\n",
        "6  Downstream (<=300)  0.08952551\n",
        "5   Distal Intergenic 39.39122650\n",
        "\"\"\"),\n",
        "('SIDD(+-200bp)',\n",
        "\"\"\"\\\n",
        "9    Promoter (<=1kb)  7.64252092\n",
        "10   Promoter (1-2kb)  3.98797071\n",
        "11   Promoter (2-3kb)  3.53687238\n",
        "4              5' UTR  0.03268828\n",
        "3              3' UTR  1.01987448\n",
        "1            1st Exon  0.05230126\n",
        "7          Other Exon  1.26830544\n",
        "2          1st Intron  7.21757322\n",
        "8        Other Intron 17.54053347\n",
        "6  Downstream (<=300)  0.06537657\n",
        "5   Distal Intergenic 57.63598326\n",
        "\"\"\"),\n",
        "('G4 & SIDD(+-200bp)',\n",
        "\"\"\"\\\n",
        "7   Promoter (<=1kb)  9.5106551\n",
        "8   Promoter (1-2kb)  4.8539858\n",
        "9   Promoter (2-3kb)  3.5911602\n",
        "2             3' UTR  1.0260458\n",
        "5         Other Exon  0.1973165\n",
        "1         1st Intron  7.8926598\n",
        "6       Other Intron 19.1002368\n",
        "4 Downstream (<=300)  0.0394633\n",
        "3  Distal Intergenic 53.7884767\n",
        "\"\"\"),\n",
        "('H-DNA & SIDD(+-200bp)',\n",
        "\"\"\"\\\n",
        "7   Promoter (<=1kb) 10.04891063\n",
        "8   Promoter (1-2kb)  4.89106269\n",
        "9   Promoter (2-3kb)  2.97910182\n",
        "2             3' UTR  0.97821254\n",
        "5         Other Exon  0.22232103\n",
        "1         1st Intron  7.87016452\n",
        "6       Other Intron 20.36460649\n",
        "4 Downstream (<=300)  0.08892841\n",
        "3  Distal Intergenic 52.55669186\n",
        "\"\"\"),\n",
        "('Z-DNA & SIDD(+-500bp)',\n",
        "\"\"\"\\\n",
        "9    Promoter (<=1kb) 33.0743618\n",
        "10   Promoter (1-2kb)  6.6037736\n",
        "11   Promoter (2-3kb)  3.8845727\n",
        "4              5' UTR  0.0554939\n",
        "3              3' UTR  1.4983352\n",
        "1            1st Exon  0.1109878\n",
        "7          Other Exon  1.8867925\n",
        "2          1st Intron  4.8834628\n",
        "8        Other Intron 15.5937847\n",
        "6  Downstream (<=300)  0.0554939\n",
        "5   Distal Intergenic 32.3529412\n",
        "\"\"\"),\n",
        "('SIDD(+-500bp)',\n",
        "\"\"\"\\\n",
        "9    Promoter (<=1kb)  8.96312762\n",
        "10   Promoter (1-2kb)  3.64147490\n",
        "11   Promoter (2-3kb)  3.56302301\n",
        "4              5' UTR  0.07845188\n",
        "3              3' UTR  1.23561715\n",
        "1            1st Exon  0.03922594\n",
        "7          Other Exon  1.96129707\n",
        "2          1st Intron  7.00183054\n",
        "8        Other Intron 16.46835774\n",
        "6  Downstream (<=300)  0.06537657\n",
        "5   Distal Intergenic 56.98221757\n",
        "\"\"\"),\n",
        "('G4 & SIDD(+-500bp)',\n",
        "\"\"\"\\\n",
        "7   Promoter (<=1kb) 15.31239883\n",
        "8   Promoter (1-2kb)  5.05017805\n",
        "9   Promoter (2-3kb)  3.59339592\n",
        "2             3' UTR  1.23017158\n",
        "5         Other Exon  0.48559404\n",
        "1         1st Intron  7.08967303\n",
        "6       Other Intron 18.06409841\n",
        "4 Downstream (<=300)  0.09711881\n",
        "3  Distal Intergenic 49.07737132\n",
        "\"\"\"),\n",
        "('H-DNA & SIDD(+-500bp)',\n",
        "\"\"\"\\\n",
        "7   Promoter (<=1kb) 11.1718750\n",
        "8   Promoter (1-2kb)  4.6875000\n",
        "9   Promoter (2-3kb)  3.0468750\n",
        "2             3' UTR  0.9765625\n",
        "5         Other Exon  0.2343750\n",
        "1         1st Intron  7.8515625\n",
        "6       Other Intron 20.1562500\n",
        "4 Downstream (<=300)  0.0781250\n",
        "3  Distal Intergenic 51.7968750\n",
        "\"\"\"),\n",
        "]\n",
        "\n",
        "data_list = np.array(data_list)\n",
        "\n",
        "print([f\"{i}: {x[0]}\" for i, x in enumerate(data_list)])\n",
        "len(data_list)"
      ]
    },
    {
      "cell_type": "markdown",
      "metadata": {
        "id": "-DzXPP3yRlZ6"
      },
      "source": [
        "## Plots"
      ]
    },
    {
      "cell_type": "code",
      "execution_count": 70,
      "metadata": {
        "id": "uwblLmToQSRa"
      },
      "outputs": [],
      "source": [
        "\"\"\"Define necessary functions for plotting.\"\"\"\n",
        "\n",
        "\n",
        "def get_category_value(category: str, raw_text_data: str):\n",
        "    \"\"\"Parse raw text input from chipSeeker and return value.\"\"\"\n",
        "\n",
        "    if category not in raw_text_data:\n",
        "        return 0\n",
        "    return float(raw_text_data.split(category)[1].split(\"\\n\")[0].strip())\n",
        "\n",
        "\n",
        "def draw_pie_subplots(data: list, rows: int, cols: int, title: str = \"result\"):\n",
        "    \"\"\"Draw a pie chart.\"\"\"\n",
        "\n",
        "    fig = make_subplots(\n",
        "        rows=rows,\n",
        "        cols=cols,\n",
        "        specs=np.full((rows, cols), {\"type\": \"domain\"}).tolist(),\n",
        "        subplot_titles=[x[0] for x in data],\n",
        "    )\n",
        "\n",
        "    for i, (data_name, data_raw) in enumerate(data):\n",
        "        categories = pd.DataFrame(\n",
        "            {\n",
        "                \"label\": [\n",
        "                    \"Promoter (<=1kb)\",\n",
        "                    \"Promoter (1-2kb)\",\n",
        "                    \"Promoter (2-3kb)\",\n",
        "                    \"5' UTR\",\n",
        "                    \"3' UTR\",\n",
        "                    \"1st Exon\",\n",
        "                    \"Other Exon\",\n",
        "                    \"1st Intron\",\n",
        "                    \"Other Intron\",\n",
        "                    \"Downstream (<=300)\",\n",
        "                    \"Distal Intergenic\",\n",
        "                ],\n",
        "                \"parent\": [\n",
        "                    \"Promoter\",\n",
        "                    \"Promoter\",\n",
        "                    \"Promoter\",\n",
        "                    \"Gene body\",\n",
        "                    \"Gene body\",\n",
        "                    \"Gene body\",\n",
        "                    \"Gene body\",\n",
        "                    \"Gene body\",\n",
        "                    \"Gene body\",\n",
        "                    \"Intergenic\",\n",
        "                    \"Intergenic\",\n",
        "                ],\n",
        "                \"value\": None,\n",
        "            }\n",
        "        )\n",
        "\n",
        "        for idx, row in categories.iterrows():\n",
        "            categories.loc[idx, \"value\"] = get_category_value(row[\"label\"], data_raw)\n",
        "\n",
        "        # categories.loc[len(categories)] = ['Total', '', categories['value'].sum()]\n",
        "        # categories.loc[len(categories)] = ['Promoter', '', categories[categories['parent']==\"Promoter\"]['value'].sum()]\n",
        "        # categories.loc[len(categories)] = ['Gene body', '', categories[categories['parent']==\"Gene body\"]['value'].sum()]\n",
        "        # categories.loc[len(categories)] = ['Intergenic', '', categories[categories['parent']==\"Intergenic\"]['value'].sum()]\n",
        "\n",
        "        # fig.add_trace(\n",
        "        #     go.Sunburst(\n",
        "        #         sort=False,\n",
        "        #         rotation=0,\n",
        "        #         labels=categories['label'],\n",
        "        #         parents=categories['parent'],\n",
        "        #         values=categories['value'],\n",
        "        #         name=data_name,\n",
        "        #         branchvalues='total',\n",
        "        #         insidetextorientation='radial',\n",
        "        #     ),\n",
        "        #     1,\n",
        "        #     i + 1,\n",
        "        # )\n",
        "        fig.add_trace(\n",
        "            go.Pie(\n",
        "                sort=False,\n",
        "                rotation=0,\n",
        "                direction='clockwise',\n",
        "                labels=categories[\"label\"],\n",
        "                values=categories[\"value\"],\n",
        "                name=data_name,\n",
        "                # marker=dict(colors=['royalblue', 'cornflowerblue', 'dodgerblue', 'tomato', 'orangered', 'darkorange', 'orange', 'coral', 'limegreen', 'black', 'seagreen']),\n",
        "                marker=dict(colors=px.colors.sequential.thermal),\n",
        "            ),\n",
        "            1,\n",
        "            i + 1,\n",
        "        )\n",
        "\n",
        "    fig.update_traces(\n",
        "        hole=0.35, hoverinfo=\"label+percent+name\", texttemplate=\"%{value:.2f}%\"\n",
        "    )\n",
        "\n",
        "    fig.update_annotations(yshift=20)\n",
        "\n",
        "    fig.update_layout(\n",
        "        uniformtext_minsize=10,\n",
        "        uniformtext_mode=\"hide\",\n",
        "        font=dict(family=\"monospace\", size=12),\n",
        "        # margin = dict(t=0, l=0, r=0, b=0),\n",
        "        # legend=dict(font=dict(size=12)),\n",
        "        height=500,\n",
        "        width=1800,\n",
        "    )\n",
        "    fig.write_image(title + \".png\")\n",
        "    fig.show()\n"
      ]
    },
    {
      "cell_type": "code",
      "execution_count": 74,
      "metadata": {
        "colab": {
          "base_uri": "https://localhost:8080/",
          "height": 1000
        },
        "id": "5gXEny3aQVlF",
        "outputId": "8570d886-c04e-4487-f46f-944736f2f468"
      },
      "outputs": [
        {
          "data": {
            "application/vnd.plotly.v1+json": {
              "config": {
                "plotlyServerURL": "https://plot.ly"
              },
              "data": [
                {
                  "direction": "clockwise",
                  "domain": {
                    "x": [
                      0,
                      0.2125
                    ],
                    "y": [
                      0,
                      1
                    ]
                  },
                  "hole": 0.35,
                  "hoverinfo": "label+percent+name",
                  "labels": [
                    "Promoter (<=1kb)",
                    "Promoter (1-2kb)",
                    "Promoter (2-3kb)",
                    "5' UTR",
                    "3' UTR",
                    "1st Exon",
                    "Other Exon",
                    "1st Intron",
                    "Other Intron",
                    "Downstream (<=300)",
                    "Distal Intergenic"
                  ],
                  "marker": {
                    "colors": [
                      "rgb(3, 35, 51)",
                      "rgb(13, 48, 100)",
                      "rgb(53, 50, 155)",
                      "rgb(93, 62, 153)",
                      "rgb(126, 77, 143)",
                      "rgb(158, 89, 135)",
                      "rgb(193, 100, 121)",
                      "rgb(225, 113, 97)",
                      "rgb(246, 139, 69)",
                      "rgb(251, 173, 60)",
                      "rgb(246, 211, 70)",
                      "rgb(231, 250, 90)"
                    ]
                  },
                  "name": "Z-DNA",
                  "rotation": 0,
                  "sort": false,
                  "texttemplate": "%{value:.2f}%",
                  "type": "pie",
                  "values": [
                    40.9513548,
                    5.89808053,
                    3.73518496,
                    0.02394349,
                    0.81806936,
                    0.01596233,
                    3.09669181,
                    4.93235963,
                    12.46258829,
                    0.05586815,
                    28.00989664
                  ]
                },
                {
                  "direction": "clockwise",
                  "domain": {
                    "x": [
                      0.2625,
                      0.475
                    ],
                    "y": [
                      0,
                      1
                    ]
                  },
                  "hole": 0.35,
                  "hoverinfo": "label+percent+name",
                  "labels": [
                    "Promoter (<=1kb)",
                    "Promoter (1-2kb)",
                    "Promoter (2-3kb)",
                    "5' UTR",
                    "3' UTR",
                    "1st Exon",
                    "Other Exon",
                    "1st Intron",
                    "Other Intron",
                    "Downstream (<=300)",
                    "Distal Intergenic"
                  ],
                  "marker": {
                    "colors": [
                      "rgb(3, 35, 51)",
                      "rgb(13, 48, 100)",
                      "rgb(53, 50, 155)",
                      "rgb(93, 62, 153)",
                      "rgb(126, 77, 143)",
                      "rgb(158, 89, 135)",
                      "rgb(193, 100, 121)",
                      "rgb(225, 113, 97)",
                      "rgb(246, 139, 69)",
                      "rgb(251, 173, 60)",
                      "rgb(246, 211, 70)",
                      "rgb(231, 250, 90)"
                    ]
                  },
                  "name": "SIDD",
                  "rotation": 0,
                  "sort": false,
                  "texttemplate": "%{value:.2f}%",
                  "type": "pie",
                  "values": [
                    6.74032427,
                    4.19717573,
                    3.37996862,
                    0.01307531,
                    0.92180962,
                    0.0457636,
                    0.47724895,
                    7.3875523,
                    18.59309623,
                    0.07191423,
                    58.17207113
                  ]
                },
                {
                  "direction": "clockwise",
                  "domain": {
                    "x": [
                      0.525,
                      0.7375
                    ],
                    "y": [
                      0,
                      1
                    ]
                  },
                  "hole": 0.35,
                  "hoverinfo": "label+percent+name",
                  "labels": [
                    "Promoter (<=1kb)",
                    "Promoter (1-2kb)",
                    "Promoter (2-3kb)",
                    "5' UTR",
                    "3' UTR",
                    "1st Exon",
                    "Other Exon",
                    "1st Intron",
                    "Other Intron",
                    "Downstream (<=300)",
                    "Distal Intergenic"
                  ],
                  "marker": {
                    "colors": [
                      "rgb(3, 35, 51)",
                      "rgb(13, 48, 100)",
                      "rgb(53, 50, 155)",
                      "rgb(93, 62, 153)",
                      "rgb(126, 77, 143)",
                      "rgb(158, 89, 135)",
                      "rgb(193, 100, 121)",
                      "rgb(225, 113, 97)",
                      "rgb(246, 139, 69)",
                      "rgb(251, 173, 60)",
                      "rgb(246, 211, 70)",
                      "rgb(231, 250, 90)"
                    ]
                  },
                  "name": "G4",
                  "rotation": 0,
                  "sort": false,
                  "texttemplate": "%{value:.2f}%",
                  "type": "pie",
                  "values": [
                    36.5871723,
                    5.5448576,
                    3.4760282,
                    0.0493754,
                    1.1603219,
                    0.0246877,
                    1.5256999,
                    5.4510443,
                    13.5930479,
                    0.0740631,
                    32.5137017
                  ]
                },
                {
                  "direction": "clockwise",
                  "domain": {
                    "x": [
                      0.7875,
                      1
                    ],
                    "y": [
                      0,
                      1
                    ]
                  },
                  "hole": 0.35,
                  "hoverinfo": "label+percent+name",
                  "labels": [
                    "Promoter (<=1kb)",
                    "Promoter (1-2kb)",
                    "Promoter (2-3kb)",
                    "5' UTR",
                    "3' UTR",
                    "1st Exon",
                    "Other Exon",
                    "1st Intron",
                    "Other Intron",
                    "Downstream (<=300)",
                    "Distal Intergenic"
                  ],
                  "marker": {
                    "colors": [
                      "rgb(3, 35, 51)",
                      "rgb(13, 48, 100)",
                      "rgb(53, 50, 155)",
                      "rgb(93, 62, 153)",
                      "rgb(126, 77, 143)",
                      "rgb(158, 89, 135)",
                      "rgb(193, 100, 121)",
                      "rgb(225, 113, 97)",
                      "rgb(246, 139, 69)",
                      "rgb(251, 173, 60)",
                      "rgb(246, 211, 70)",
                      "rgb(231, 250, 90)"
                    ]
                  },
                  "name": "H-DNA",
                  "rotation": 0,
                  "sort": false,
                  "texttemplate": "%{value:.2f}%",
                  "type": "pie",
                  "values": [
                    11.69005848,
                    4.520467836,
                    3.69005848,
                    0.005847953,
                    0.543859649,
                    0.023391813,
                    0.34502924,
                    8,
                    20.087719298,
                    0.040935673,
                    51.052631579
                  ]
                }
              ],
              "layout": {
                "annotations": [
                  {
                    "font": {
                      "size": 16
                    },
                    "showarrow": false,
                    "text": "Z-DNA",
                    "x": 0.10625,
                    "xanchor": "center",
                    "xref": "paper",
                    "y": 1,
                    "yanchor": "bottom",
                    "yref": "paper",
                    "yshift": 20
                  },
                  {
                    "font": {
                      "size": 16
                    },
                    "showarrow": false,
                    "text": "SIDD",
                    "x": 0.36875,
                    "xanchor": "center",
                    "xref": "paper",
                    "y": 1,
                    "yanchor": "bottom",
                    "yref": "paper",
                    "yshift": 20
                  },
                  {
                    "font": {
                      "size": 16
                    },
                    "showarrow": false,
                    "text": "G4",
                    "x": 0.6312500000000001,
                    "xanchor": "center",
                    "xref": "paper",
                    "y": 1,
                    "yanchor": "bottom",
                    "yref": "paper",
                    "yshift": 20
                  },
                  {
                    "font": {
                      "size": 16
                    },
                    "showarrow": false,
                    "text": "H-DNA",
                    "x": 0.89375,
                    "xanchor": "center",
                    "xref": "paper",
                    "y": 1,
                    "yanchor": "bottom",
                    "yref": "paper",
                    "yshift": 20
                  }
                ],
                "font": {
                  "family": "monospace",
                  "size": 12
                },
                "height": 500,
                "template": {
                  "data": {
                    "bar": [
                      {
                        "error_x": {
                          "color": "#2a3f5f"
                        },
                        "error_y": {
                          "color": "#2a3f5f"
                        },
                        "marker": {
                          "line": {
                            "color": "#E5ECF6",
                            "width": 0.5
                          },
                          "pattern": {
                            "fillmode": "overlay",
                            "size": 10,
                            "solidity": 0.2
                          }
                        },
                        "type": "bar"
                      }
                    ],
                    "barpolar": [
                      {
                        "marker": {
                          "line": {
                            "color": "#E5ECF6",
                            "width": 0.5
                          },
                          "pattern": {
                            "fillmode": "overlay",
                            "size": 10,
                            "solidity": 0.2
                          }
                        },
                        "type": "barpolar"
                      }
                    ],
                    "carpet": [
                      {
                        "aaxis": {
                          "endlinecolor": "#2a3f5f",
                          "gridcolor": "white",
                          "linecolor": "white",
                          "minorgridcolor": "white",
                          "startlinecolor": "#2a3f5f"
                        },
                        "baxis": {
                          "endlinecolor": "#2a3f5f",
                          "gridcolor": "white",
                          "linecolor": "white",
                          "minorgridcolor": "white",
                          "startlinecolor": "#2a3f5f"
                        },
                        "type": "carpet"
                      }
                    ],
                    "choropleth": [
                      {
                        "colorbar": {
                          "outlinewidth": 0,
                          "ticks": ""
                        },
                        "type": "choropleth"
                      }
                    ],
                    "contour": [
                      {
                        "colorbar": {
                          "outlinewidth": 0,
                          "ticks": ""
                        },
                        "colorscale": [
                          [
                            0,
                            "#0d0887"
                          ],
                          [
                            0.1111111111111111,
                            "#46039f"
                          ],
                          [
                            0.2222222222222222,
                            "#7201a8"
                          ],
                          [
                            0.3333333333333333,
                            "#9c179e"
                          ],
                          [
                            0.4444444444444444,
                            "#bd3786"
                          ],
                          [
                            0.5555555555555556,
                            "#d8576b"
                          ],
                          [
                            0.6666666666666666,
                            "#ed7953"
                          ],
                          [
                            0.7777777777777778,
                            "#fb9f3a"
                          ],
                          [
                            0.8888888888888888,
                            "#fdca26"
                          ],
                          [
                            1,
                            "#f0f921"
                          ]
                        ],
                        "type": "contour"
                      }
                    ],
                    "contourcarpet": [
                      {
                        "colorbar": {
                          "outlinewidth": 0,
                          "ticks": ""
                        },
                        "type": "contourcarpet"
                      }
                    ],
                    "heatmap": [
                      {
                        "colorbar": {
                          "outlinewidth": 0,
                          "ticks": ""
                        },
                        "colorscale": [
                          [
                            0,
                            "#0d0887"
                          ],
                          [
                            0.1111111111111111,
                            "#46039f"
                          ],
                          [
                            0.2222222222222222,
                            "#7201a8"
                          ],
                          [
                            0.3333333333333333,
                            "#9c179e"
                          ],
                          [
                            0.4444444444444444,
                            "#bd3786"
                          ],
                          [
                            0.5555555555555556,
                            "#d8576b"
                          ],
                          [
                            0.6666666666666666,
                            "#ed7953"
                          ],
                          [
                            0.7777777777777778,
                            "#fb9f3a"
                          ],
                          [
                            0.8888888888888888,
                            "#fdca26"
                          ],
                          [
                            1,
                            "#f0f921"
                          ]
                        ],
                        "type": "heatmap"
                      }
                    ],
                    "heatmapgl": [
                      {
                        "colorbar": {
                          "outlinewidth": 0,
                          "ticks": ""
                        },
                        "colorscale": [
                          [
                            0,
                            "#0d0887"
                          ],
                          [
                            0.1111111111111111,
                            "#46039f"
                          ],
                          [
                            0.2222222222222222,
                            "#7201a8"
                          ],
                          [
                            0.3333333333333333,
                            "#9c179e"
                          ],
                          [
                            0.4444444444444444,
                            "#bd3786"
                          ],
                          [
                            0.5555555555555556,
                            "#d8576b"
                          ],
                          [
                            0.6666666666666666,
                            "#ed7953"
                          ],
                          [
                            0.7777777777777778,
                            "#fb9f3a"
                          ],
                          [
                            0.8888888888888888,
                            "#fdca26"
                          ],
                          [
                            1,
                            "#f0f921"
                          ]
                        ],
                        "type": "heatmapgl"
                      }
                    ],
                    "histogram": [
                      {
                        "marker": {
                          "pattern": {
                            "fillmode": "overlay",
                            "size": 10,
                            "solidity": 0.2
                          }
                        },
                        "type": "histogram"
                      }
                    ],
                    "histogram2d": [
                      {
                        "colorbar": {
                          "outlinewidth": 0,
                          "ticks": ""
                        },
                        "colorscale": [
                          [
                            0,
                            "#0d0887"
                          ],
                          [
                            0.1111111111111111,
                            "#46039f"
                          ],
                          [
                            0.2222222222222222,
                            "#7201a8"
                          ],
                          [
                            0.3333333333333333,
                            "#9c179e"
                          ],
                          [
                            0.4444444444444444,
                            "#bd3786"
                          ],
                          [
                            0.5555555555555556,
                            "#d8576b"
                          ],
                          [
                            0.6666666666666666,
                            "#ed7953"
                          ],
                          [
                            0.7777777777777778,
                            "#fb9f3a"
                          ],
                          [
                            0.8888888888888888,
                            "#fdca26"
                          ],
                          [
                            1,
                            "#f0f921"
                          ]
                        ],
                        "type": "histogram2d"
                      }
                    ],
                    "histogram2dcontour": [
                      {
                        "colorbar": {
                          "outlinewidth": 0,
                          "ticks": ""
                        },
                        "colorscale": [
                          [
                            0,
                            "#0d0887"
                          ],
                          [
                            0.1111111111111111,
                            "#46039f"
                          ],
                          [
                            0.2222222222222222,
                            "#7201a8"
                          ],
                          [
                            0.3333333333333333,
                            "#9c179e"
                          ],
                          [
                            0.4444444444444444,
                            "#bd3786"
                          ],
                          [
                            0.5555555555555556,
                            "#d8576b"
                          ],
                          [
                            0.6666666666666666,
                            "#ed7953"
                          ],
                          [
                            0.7777777777777778,
                            "#fb9f3a"
                          ],
                          [
                            0.8888888888888888,
                            "#fdca26"
                          ],
                          [
                            1,
                            "#f0f921"
                          ]
                        ],
                        "type": "histogram2dcontour"
                      }
                    ],
                    "mesh3d": [
                      {
                        "colorbar": {
                          "outlinewidth": 0,
                          "ticks": ""
                        },
                        "type": "mesh3d"
                      }
                    ],
                    "parcoords": [
                      {
                        "line": {
                          "colorbar": {
                            "outlinewidth": 0,
                            "ticks": ""
                          }
                        },
                        "type": "parcoords"
                      }
                    ],
                    "pie": [
                      {
                        "automargin": true,
                        "type": "pie"
                      }
                    ],
                    "scatter": [
                      {
                        "fillpattern": {
                          "fillmode": "overlay",
                          "size": 10,
                          "solidity": 0.2
                        },
                        "type": "scatter"
                      }
                    ],
                    "scatter3d": [
                      {
                        "line": {
                          "colorbar": {
                            "outlinewidth": 0,
                            "ticks": ""
                          }
                        },
                        "marker": {
                          "colorbar": {
                            "outlinewidth": 0,
                            "ticks": ""
                          }
                        },
                        "type": "scatter3d"
                      }
                    ],
                    "scattercarpet": [
                      {
                        "marker": {
                          "colorbar": {
                            "outlinewidth": 0,
                            "ticks": ""
                          }
                        },
                        "type": "scattercarpet"
                      }
                    ],
                    "scattergeo": [
                      {
                        "marker": {
                          "colorbar": {
                            "outlinewidth": 0,
                            "ticks": ""
                          }
                        },
                        "type": "scattergeo"
                      }
                    ],
                    "scattergl": [
                      {
                        "marker": {
                          "colorbar": {
                            "outlinewidth": 0,
                            "ticks": ""
                          }
                        },
                        "type": "scattergl"
                      }
                    ],
                    "scattermapbox": [
                      {
                        "marker": {
                          "colorbar": {
                            "outlinewidth": 0,
                            "ticks": ""
                          }
                        },
                        "type": "scattermapbox"
                      }
                    ],
                    "scatterpolar": [
                      {
                        "marker": {
                          "colorbar": {
                            "outlinewidth": 0,
                            "ticks": ""
                          }
                        },
                        "type": "scatterpolar"
                      }
                    ],
                    "scatterpolargl": [
                      {
                        "marker": {
                          "colorbar": {
                            "outlinewidth": 0,
                            "ticks": ""
                          }
                        },
                        "type": "scatterpolargl"
                      }
                    ],
                    "scatterternary": [
                      {
                        "marker": {
                          "colorbar": {
                            "outlinewidth": 0,
                            "ticks": ""
                          }
                        },
                        "type": "scatterternary"
                      }
                    ],
                    "surface": [
                      {
                        "colorbar": {
                          "outlinewidth": 0,
                          "ticks": ""
                        },
                        "colorscale": [
                          [
                            0,
                            "#0d0887"
                          ],
                          [
                            0.1111111111111111,
                            "#46039f"
                          ],
                          [
                            0.2222222222222222,
                            "#7201a8"
                          ],
                          [
                            0.3333333333333333,
                            "#9c179e"
                          ],
                          [
                            0.4444444444444444,
                            "#bd3786"
                          ],
                          [
                            0.5555555555555556,
                            "#d8576b"
                          ],
                          [
                            0.6666666666666666,
                            "#ed7953"
                          ],
                          [
                            0.7777777777777778,
                            "#fb9f3a"
                          ],
                          [
                            0.8888888888888888,
                            "#fdca26"
                          ],
                          [
                            1,
                            "#f0f921"
                          ]
                        ],
                        "type": "surface"
                      }
                    ],
                    "table": [
                      {
                        "cells": {
                          "fill": {
                            "color": "#EBF0F8"
                          },
                          "line": {
                            "color": "white"
                          }
                        },
                        "header": {
                          "fill": {
                            "color": "#C8D4E3"
                          },
                          "line": {
                            "color": "white"
                          }
                        },
                        "type": "table"
                      }
                    ]
                  },
                  "layout": {
                    "annotationdefaults": {
                      "arrowcolor": "#2a3f5f",
                      "arrowhead": 0,
                      "arrowwidth": 1
                    },
                    "autotypenumbers": "strict",
                    "coloraxis": {
                      "colorbar": {
                        "outlinewidth": 0,
                        "ticks": ""
                      }
                    },
                    "colorscale": {
                      "diverging": [
                        [
                          0,
                          "#8e0152"
                        ],
                        [
                          0.1,
                          "#c51b7d"
                        ],
                        [
                          0.2,
                          "#de77ae"
                        ],
                        [
                          0.3,
                          "#f1b6da"
                        ],
                        [
                          0.4,
                          "#fde0ef"
                        ],
                        [
                          0.5,
                          "#f7f7f7"
                        ],
                        [
                          0.6,
                          "#e6f5d0"
                        ],
                        [
                          0.7,
                          "#b8e186"
                        ],
                        [
                          0.8,
                          "#7fbc41"
                        ],
                        [
                          0.9,
                          "#4d9221"
                        ],
                        [
                          1,
                          "#276419"
                        ]
                      ],
                      "sequential": [
                        [
                          0,
                          "#0d0887"
                        ],
                        [
                          0.1111111111111111,
                          "#46039f"
                        ],
                        [
                          0.2222222222222222,
                          "#7201a8"
                        ],
                        [
                          0.3333333333333333,
                          "#9c179e"
                        ],
                        [
                          0.4444444444444444,
                          "#bd3786"
                        ],
                        [
                          0.5555555555555556,
                          "#d8576b"
                        ],
                        [
                          0.6666666666666666,
                          "#ed7953"
                        ],
                        [
                          0.7777777777777778,
                          "#fb9f3a"
                        ],
                        [
                          0.8888888888888888,
                          "#fdca26"
                        ],
                        [
                          1,
                          "#f0f921"
                        ]
                      ],
                      "sequentialminus": [
                        [
                          0,
                          "#0d0887"
                        ],
                        [
                          0.1111111111111111,
                          "#46039f"
                        ],
                        [
                          0.2222222222222222,
                          "#7201a8"
                        ],
                        [
                          0.3333333333333333,
                          "#9c179e"
                        ],
                        [
                          0.4444444444444444,
                          "#bd3786"
                        ],
                        [
                          0.5555555555555556,
                          "#d8576b"
                        ],
                        [
                          0.6666666666666666,
                          "#ed7953"
                        ],
                        [
                          0.7777777777777778,
                          "#fb9f3a"
                        ],
                        [
                          0.8888888888888888,
                          "#fdca26"
                        ],
                        [
                          1,
                          "#f0f921"
                        ]
                      ]
                    },
                    "colorway": [
                      "#636efa",
                      "#EF553B",
                      "#00cc96",
                      "#ab63fa",
                      "#FFA15A",
                      "#19d3f3",
                      "#FF6692",
                      "#B6E880",
                      "#FF97FF",
                      "#FECB52"
                    ],
                    "font": {
                      "color": "#2a3f5f"
                    },
                    "geo": {
                      "bgcolor": "white",
                      "lakecolor": "white",
                      "landcolor": "#E5ECF6",
                      "showlakes": true,
                      "showland": true,
                      "subunitcolor": "white"
                    },
                    "hoverlabel": {
                      "align": "left"
                    },
                    "hovermode": "closest",
                    "mapbox": {
                      "style": "light"
                    },
                    "paper_bgcolor": "white",
                    "plot_bgcolor": "#E5ECF6",
                    "polar": {
                      "angularaxis": {
                        "gridcolor": "white",
                        "linecolor": "white",
                        "ticks": ""
                      },
                      "bgcolor": "#E5ECF6",
                      "radialaxis": {
                        "gridcolor": "white",
                        "linecolor": "white",
                        "ticks": ""
                      }
                    },
                    "scene": {
                      "xaxis": {
                        "backgroundcolor": "#E5ECF6",
                        "gridcolor": "white",
                        "gridwidth": 2,
                        "linecolor": "white",
                        "showbackground": true,
                        "ticks": "",
                        "zerolinecolor": "white"
                      },
                      "yaxis": {
                        "backgroundcolor": "#E5ECF6",
                        "gridcolor": "white",
                        "gridwidth": 2,
                        "linecolor": "white",
                        "showbackground": true,
                        "ticks": "",
                        "zerolinecolor": "white"
                      },
                      "zaxis": {
                        "backgroundcolor": "#E5ECF6",
                        "gridcolor": "white",
                        "gridwidth": 2,
                        "linecolor": "white",
                        "showbackground": true,
                        "ticks": "",
                        "zerolinecolor": "white"
                      }
                    },
                    "shapedefaults": {
                      "line": {
                        "color": "#2a3f5f"
                      }
                    },
                    "ternary": {
                      "aaxis": {
                        "gridcolor": "white",
                        "linecolor": "white",
                        "ticks": ""
                      },
                      "baxis": {
                        "gridcolor": "white",
                        "linecolor": "white",
                        "ticks": ""
                      },
                      "bgcolor": "#E5ECF6",
                      "caxis": {
                        "gridcolor": "white",
                        "linecolor": "white",
                        "ticks": ""
                      }
                    },
                    "title": {
                      "x": 0.05
                    },
                    "xaxis": {
                      "automargin": true,
                      "gridcolor": "white",
                      "linecolor": "white",
                      "ticks": "",
                      "title": {
                        "standoff": 15
                      },
                      "zerolinecolor": "white",
                      "zerolinewidth": 2
                    },
                    "yaxis": {
                      "automargin": true,
                      "gridcolor": "white",
                      "linecolor": "white",
                      "ticks": "",
                      "title": {
                        "standoff": 15
                      },
                      "zerolinecolor": "white",
                      "zerolinewidth": 2
                    }
                  }
                },
                "uniformtext": {
                  "minsize": 10,
                  "mode": "hide"
                },
                "width": 1800
              }
            },
            "text/html": [
              "<div>                            <div id=\"6c41371c-a3f8-4927-bf92-7ef4e58ae668\" class=\"plotly-graph-div\" style=\"height:500px; width:1800px;\"></div>            <script type=\"text/javascript\">                require([\"plotly\"], function(Plotly) {                    window.PLOTLYENV=window.PLOTLYENV || {};                                    if (document.getElementById(\"6c41371c-a3f8-4927-bf92-7ef4e58ae668\")) {                    Plotly.newPlot(                        \"6c41371c-a3f8-4927-bf92-7ef4e58ae668\",                        [{\"direction\":\"clockwise\",\"labels\":[\"Promoter (<=1kb)\",\"Promoter (1-2kb)\",\"Promoter (2-3kb)\",\"5' UTR\",\"3' UTR\",\"1st Exon\",\"Other Exon\",\"1st Intron\",\"Other Intron\",\"Downstream (<=300)\",\"Distal Intergenic\"],\"marker\":{\"colors\":[\"rgb(3, 35, 51)\",\"rgb(13, 48, 100)\",\"rgb(53, 50, 155)\",\"rgb(93, 62, 153)\",\"rgb(126, 77, 143)\",\"rgb(158, 89, 135)\",\"rgb(193, 100, 121)\",\"rgb(225, 113, 97)\",\"rgb(246, 139, 69)\",\"rgb(251, 173, 60)\",\"rgb(246, 211, 70)\",\"rgb(231, 250, 90)\"]},\"name\":\"Z-DNA\",\"rotation\":0,\"sort\":false,\"values\":[40.9513548,5.89808053,3.73518496,0.02394349,0.81806936,0.01596233,3.09669181,4.93235963,12.46258829,0.05586815,28.00989664],\"type\":\"pie\",\"domain\":{\"x\":[0.0,0.2125],\"y\":[0.0,1.0]},\"hole\":0.35,\"hoverinfo\":\"label+percent+name\",\"texttemplate\":\"%{value:.2f}%\"},{\"direction\":\"clockwise\",\"labels\":[\"Promoter (<=1kb)\",\"Promoter (1-2kb)\",\"Promoter (2-3kb)\",\"5' UTR\",\"3' UTR\",\"1st Exon\",\"Other Exon\",\"1st Intron\",\"Other Intron\",\"Downstream (<=300)\",\"Distal Intergenic\"],\"marker\":{\"colors\":[\"rgb(3, 35, 51)\",\"rgb(13, 48, 100)\",\"rgb(53, 50, 155)\",\"rgb(93, 62, 153)\",\"rgb(126, 77, 143)\",\"rgb(158, 89, 135)\",\"rgb(193, 100, 121)\",\"rgb(225, 113, 97)\",\"rgb(246, 139, 69)\",\"rgb(251, 173, 60)\",\"rgb(246, 211, 70)\",\"rgb(231, 250, 90)\"]},\"name\":\"SIDD\",\"rotation\":0,\"sort\":false,\"values\":[6.74032427,4.19717573,3.37996862,0.01307531,0.92180962,0.0457636,0.47724895,7.3875523,18.59309623,0.07191423,58.17207113],\"type\":\"pie\",\"domain\":{\"x\":[0.2625,0.475],\"y\":[0.0,1.0]},\"hole\":0.35,\"hoverinfo\":\"label+percent+name\",\"texttemplate\":\"%{value:.2f}%\"},{\"direction\":\"clockwise\",\"labels\":[\"Promoter (<=1kb)\",\"Promoter (1-2kb)\",\"Promoter (2-3kb)\",\"5' UTR\",\"3' UTR\",\"1st Exon\",\"Other Exon\",\"1st Intron\",\"Other Intron\",\"Downstream (<=300)\",\"Distal Intergenic\"],\"marker\":{\"colors\":[\"rgb(3, 35, 51)\",\"rgb(13, 48, 100)\",\"rgb(53, 50, 155)\",\"rgb(93, 62, 153)\",\"rgb(126, 77, 143)\",\"rgb(158, 89, 135)\",\"rgb(193, 100, 121)\",\"rgb(225, 113, 97)\",\"rgb(246, 139, 69)\",\"rgb(251, 173, 60)\",\"rgb(246, 211, 70)\",\"rgb(231, 250, 90)\"]},\"name\":\"G4\",\"rotation\":0,\"sort\":false,\"values\":[36.5871723,5.5448576,3.4760282,0.0493754,1.1603219,0.0246877,1.5256999,5.4510443,13.5930479,0.0740631,32.5137017],\"type\":\"pie\",\"domain\":{\"x\":[0.525,0.7375],\"y\":[0.0,1.0]},\"hole\":0.35,\"hoverinfo\":\"label+percent+name\",\"texttemplate\":\"%{value:.2f}%\"},{\"direction\":\"clockwise\",\"labels\":[\"Promoter (<=1kb)\",\"Promoter (1-2kb)\",\"Promoter (2-3kb)\",\"5' UTR\",\"3' UTR\",\"1st Exon\",\"Other Exon\",\"1st Intron\",\"Other Intron\",\"Downstream (<=300)\",\"Distal Intergenic\"],\"marker\":{\"colors\":[\"rgb(3, 35, 51)\",\"rgb(13, 48, 100)\",\"rgb(53, 50, 155)\",\"rgb(93, 62, 153)\",\"rgb(126, 77, 143)\",\"rgb(158, 89, 135)\",\"rgb(193, 100, 121)\",\"rgb(225, 113, 97)\",\"rgb(246, 139, 69)\",\"rgb(251, 173, 60)\",\"rgb(246, 211, 70)\",\"rgb(231, 250, 90)\"]},\"name\":\"H-DNA\",\"rotation\":0,\"sort\":false,\"values\":[11.69005848,4.520467836,3.69005848,0.005847953,0.543859649,0.023391813,0.34502924,8.0,20.087719298,0.040935673,51.052631579],\"type\":\"pie\",\"domain\":{\"x\":[0.7875,1.0],\"y\":[0.0,1.0]},\"hole\":0.35,\"hoverinfo\":\"label+percent+name\",\"texttemplate\":\"%{value:.2f}%\"}],                        {\"template\":{\"data\":{\"histogram2dcontour\":[{\"type\":\"histogram2dcontour\",\"colorbar\":{\"outlinewidth\":0,\"ticks\":\"\"},\"colorscale\":[[0.0,\"#0d0887\"],[0.1111111111111111,\"#46039f\"],[0.2222222222222222,\"#7201a8\"],[0.3333333333333333,\"#9c179e\"],[0.4444444444444444,\"#bd3786\"],[0.5555555555555556,\"#d8576b\"],[0.6666666666666666,\"#ed7953\"],[0.7777777777777778,\"#fb9f3a\"],[0.8888888888888888,\"#fdca26\"],[1.0,\"#f0f921\"]]}],\"choropleth\":[{\"type\":\"choropleth\",\"colorbar\":{\"outlinewidth\":0,\"ticks\":\"\"}}],\"histogram2d\":[{\"type\":\"histogram2d\",\"colorbar\":{\"outlinewidth\":0,\"ticks\":\"\"},\"colorscale\":[[0.0,\"#0d0887\"],[0.1111111111111111,\"#46039f\"],[0.2222222222222222,\"#7201a8\"],[0.3333333333333333,\"#9c179e\"],[0.4444444444444444,\"#bd3786\"],[0.5555555555555556,\"#d8576b\"],[0.6666666666666666,\"#ed7953\"],[0.7777777777777778,\"#fb9f3a\"],[0.8888888888888888,\"#fdca26\"],[1.0,\"#f0f921\"]]}],\"heatmap\":[{\"type\":\"heatmap\",\"colorbar\":{\"outlinewidth\":0,\"ticks\":\"\"},\"colorscale\":[[0.0,\"#0d0887\"],[0.1111111111111111,\"#46039f\"],[0.2222222222222222,\"#7201a8\"],[0.3333333333333333,\"#9c179e\"],[0.4444444444444444,\"#bd3786\"],[0.5555555555555556,\"#d8576b\"],[0.6666666666666666,\"#ed7953\"],[0.7777777777777778,\"#fb9f3a\"],[0.8888888888888888,\"#fdca26\"],[1.0,\"#f0f921\"]]}],\"heatmapgl\":[{\"type\":\"heatmapgl\",\"colorbar\":{\"outlinewidth\":0,\"ticks\":\"\"},\"colorscale\":[[0.0,\"#0d0887\"],[0.1111111111111111,\"#46039f\"],[0.2222222222222222,\"#7201a8\"],[0.3333333333333333,\"#9c179e\"],[0.4444444444444444,\"#bd3786\"],[0.5555555555555556,\"#d8576b\"],[0.6666666666666666,\"#ed7953\"],[0.7777777777777778,\"#fb9f3a\"],[0.8888888888888888,\"#fdca26\"],[1.0,\"#f0f921\"]]}],\"contourcarpet\":[{\"type\":\"contourcarpet\",\"colorbar\":{\"outlinewidth\":0,\"ticks\":\"\"}}],\"contour\":[{\"type\":\"contour\",\"colorbar\":{\"outlinewidth\":0,\"ticks\":\"\"},\"colorscale\":[[0.0,\"#0d0887\"],[0.1111111111111111,\"#46039f\"],[0.2222222222222222,\"#7201a8\"],[0.3333333333333333,\"#9c179e\"],[0.4444444444444444,\"#bd3786\"],[0.5555555555555556,\"#d8576b\"],[0.6666666666666666,\"#ed7953\"],[0.7777777777777778,\"#fb9f3a\"],[0.8888888888888888,\"#fdca26\"],[1.0,\"#f0f921\"]]}],\"surface\":[{\"type\":\"surface\",\"colorbar\":{\"outlinewidth\":0,\"ticks\":\"\"},\"colorscale\":[[0.0,\"#0d0887\"],[0.1111111111111111,\"#46039f\"],[0.2222222222222222,\"#7201a8\"],[0.3333333333333333,\"#9c179e\"],[0.4444444444444444,\"#bd3786\"],[0.5555555555555556,\"#d8576b\"],[0.6666666666666666,\"#ed7953\"],[0.7777777777777778,\"#fb9f3a\"],[0.8888888888888888,\"#fdca26\"],[1.0,\"#f0f921\"]]}],\"mesh3d\":[{\"type\":\"mesh3d\",\"colorbar\":{\"outlinewidth\":0,\"ticks\":\"\"}}],\"scatter\":[{\"fillpattern\":{\"fillmode\":\"overlay\",\"size\":10,\"solidity\":0.2},\"type\":\"scatter\"}],\"parcoords\":[{\"type\":\"parcoords\",\"line\":{\"colorbar\":{\"outlinewidth\":0,\"ticks\":\"\"}}}],\"scatterpolargl\":[{\"type\":\"scatterpolargl\",\"marker\":{\"colorbar\":{\"outlinewidth\":0,\"ticks\":\"\"}}}],\"bar\":[{\"error_x\":{\"color\":\"#2a3f5f\"},\"error_y\":{\"color\":\"#2a3f5f\"},\"marker\":{\"line\":{\"color\":\"#E5ECF6\",\"width\":0.5},\"pattern\":{\"fillmode\":\"overlay\",\"size\":10,\"solidity\":0.2}},\"type\":\"bar\"}],\"scattergeo\":[{\"type\":\"scattergeo\",\"marker\":{\"colorbar\":{\"outlinewidth\":0,\"ticks\":\"\"}}}],\"scatterpolar\":[{\"type\":\"scatterpolar\",\"marker\":{\"colorbar\":{\"outlinewidth\":0,\"ticks\":\"\"}}}],\"histogram\":[{\"marker\":{\"pattern\":{\"fillmode\":\"overlay\",\"size\":10,\"solidity\":0.2}},\"type\":\"histogram\"}],\"scattergl\":[{\"type\":\"scattergl\",\"marker\":{\"colorbar\":{\"outlinewidth\":0,\"ticks\":\"\"}}}],\"scatter3d\":[{\"type\":\"scatter3d\",\"line\":{\"colorbar\":{\"outlinewidth\":0,\"ticks\":\"\"}},\"marker\":{\"colorbar\":{\"outlinewidth\":0,\"ticks\":\"\"}}}],\"scattermapbox\":[{\"type\":\"scattermapbox\",\"marker\":{\"colorbar\":{\"outlinewidth\":0,\"ticks\":\"\"}}}],\"scatterternary\":[{\"type\":\"scatterternary\",\"marker\":{\"colorbar\":{\"outlinewidth\":0,\"ticks\":\"\"}}}],\"scattercarpet\":[{\"type\":\"scattercarpet\",\"marker\":{\"colorbar\":{\"outlinewidth\":0,\"ticks\":\"\"}}}],\"carpet\":[{\"aaxis\":{\"endlinecolor\":\"#2a3f5f\",\"gridcolor\":\"white\",\"linecolor\":\"white\",\"minorgridcolor\":\"white\",\"startlinecolor\":\"#2a3f5f\"},\"baxis\":{\"endlinecolor\":\"#2a3f5f\",\"gridcolor\":\"white\",\"linecolor\":\"white\",\"minorgridcolor\":\"white\",\"startlinecolor\":\"#2a3f5f\"},\"type\":\"carpet\"}],\"table\":[{\"cells\":{\"fill\":{\"color\":\"#EBF0F8\"},\"line\":{\"color\":\"white\"}},\"header\":{\"fill\":{\"color\":\"#C8D4E3\"},\"line\":{\"color\":\"white\"}},\"type\":\"table\"}],\"barpolar\":[{\"marker\":{\"line\":{\"color\":\"#E5ECF6\",\"width\":0.5},\"pattern\":{\"fillmode\":\"overlay\",\"size\":10,\"solidity\":0.2}},\"type\":\"barpolar\"}],\"pie\":[{\"automargin\":true,\"type\":\"pie\"}]},\"layout\":{\"autotypenumbers\":\"strict\",\"colorway\":[\"#636efa\",\"#EF553B\",\"#00cc96\",\"#ab63fa\",\"#FFA15A\",\"#19d3f3\",\"#FF6692\",\"#B6E880\",\"#FF97FF\",\"#FECB52\"],\"font\":{\"color\":\"#2a3f5f\"},\"hovermode\":\"closest\",\"hoverlabel\":{\"align\":\"left\"},\"paper_bgcolor\":\"white\",\"plot_bgcolor\":\"#E5ECF6\",\"polar\":{\"bgcolor\":\"#E5ECF6\",\"angularaxis\":{\"gridcolor\":\"white\",\"linecolor\":\"white\",\"ticks\":\"\"},\"radialaxis\":{\"gridcolor\":\"white\",\"linecolor\":\"white\",\"ticks\":\"\"}},\"ternary\":{\"bgcolor\":\"#E5ECF6\",\"aaxis\":{\"gridcolor\":\"white\",\"linecolor\":\"white\",\"ticks\":\"\"},\"baxis\":{\"gridcolor\":\"white\",\"linecolor\":\"white\",\"ticks\":\"\"},\"caxis\":{\"gridcolor\":\"white\",\"linecolor\":\"white\",\"ticks\":\"\"}},\"coloraxis\":{\"colorbar\":{\"outlinewidth\":0,\"ticks\":\"\"}},\"colorscale\":{\"sequential\":[[0.0,\"#0d0887\"],[0.1111111111111111,\"#46039f\"],[0.2222222222222222,\"#7201a8\"],[0.3333333333333333,\"#9c179e\"],[0.4444444444444444,\"#bd3786\"],[0.5555555555555556,\"#d8576b\"],[0.6666666666666666,\"#ed7953\"],[0.7777777777777778,\"#fb9f3a\"],[0.8888888888888888,\"#fdca26\"],[1.0,\"#f0f921\"]],\"sequentialminus\":[[0.0,\"#0d0887\"],[0.1111111111111111,\"#46039f\"],[0.2222222222222222,\"#7201a8\"],[0.3333333333333333,\"#9c179e\"],[0.4444444444444444,\"#bd3786\"],[0.5555555555555556,\"#d8576b\"],[0.6666666666666666,\"#ed7953\"],[0.7777777777777778,\"#fb9f3a\"],[0.8888888888888888,\"#fdca26\"],[1.0,\"#f0f921\"]],\"diverging\":[[0,\"#8e0152\"],[0.1,\"#c51b7d\"],[0.2,\"#de77ae\"],[0.3,\"#f1b6da\"],[0.4,\"#fde0ef\"],[0.5,\"#f7f7f7\"],[0.6,\"#e6f5d0\"],[0.7,\"#b8e186\"],[0.8,\"#7fbc41\"],[0.9,\"#4d9221\"],[1,\"#276419\"]]},\"xaxis\":{\"gridcolor\":\"white\",\"linecolor\":\"white\",\"ticks\":\"\",\"title\":{\"standoff\":15},\"zerolinecolor\":\"white\",\"automargin\":true,\"zerolinewidth\":2},\"yaxis\":{\"gridcolor\":\"white\",\"linecolor\":\"white\",\"ticks\":\"\",\"title\":{\"standoff\":15},\"zerolinecolor\":\"white\",\"automargin\":true,\"zerolinewidth\":2},\"scene\":{\"xaxis\":{\"backgroundcolor\":\"#E5ECF6\",\"gridcolor\":\"white\",\"linecolor\":\"white\",\"showbackground\":true,\"ticks\":\"\",\"zerolinecolor\":\"white\",\"gridwidth\":2},\"yaxis\":{\"backgroundcolor\":\"#E5ECF6\",\"gridcolor\":\"white\",\"linecolor\":\"white\",\"showbackground\":true,\"ticks\":\"\",\"zerolinecolor\":\"white\",\"gridwidth\":2},\"zaxis\":{\"backgroundcolor\":\"#E5ECF6\",\"gridcolor\":\"white\",\"linecolor\":\"white\",\"showbackground\":true,\"ticks\":\"\",\"zerolinecolor\":\"white\",\"gridwidth\":2}},\"shapedefaults\":{\"line\":{\"color\":\"#2a3f5f\"}},\"annotationdefaults\":{\"arrowcolor\":\"#2a3f5f\",\"arrowhead\":0,\"arrowwidth\":1},\"geo\":{\"bgcolor\":\"white\",\"landcolor\":\"#E5ECF6\",\"subunitcolor\":\"white\",\"showland\":true,\"showlakes\":true,\"lakecolor\":\"white\"},\"title\":{\"x\":0.05},\"mapbox\":{\"style\":\"light\"}}},\"annotations\":[{\"font\":{\"size\":16},\"showarrow\":false,\"text\":\"Z-DNA\",\"x\":0.10625,\"xanchor\":\"center\",\"xref\":\"paper\",\"y\":1.0,\"yanchor\":\"bottom\",\"yref\":\"paper\",\"yshift\":20},{\"font\":{\"size\":16},\"showarrow\":false,\"text\":\"SIDD\",\"x\":0.36875,\"xanchor\":\"center\",\"xref\":\"paper\",\"y\":1.0,\"yanchor\":\"bottom\",\"yref\":\"paper\",\"yshift\":20},{\"font\":{\"size\":16},\"showarrow\":false,\"text\":\"G4\",\"x\":0.6312500000000001,\"xanchor\":\"center\",\"xref\":\"paper\",\"y\":1.0,\"yanchor\":\"bottom\",\"yref\":\"paper\",\"yshift\":20},{\"font\":{\"size\":16},\"showarrow\":false,\"text\":\"H-DNA\",\"x\":0.89375,\"xanchor\":\"center\",\"xref\":\"paper\",\"y\":1.0,\"yanchor\":\"bottom\",\"yref\":\"paper\",\"yshift\":20}],\"uniformtext\":{\"minsize\":10,\"mode\":\"hide\"},\"font\":{\"family\":\"monospace\",\"size\":12},\"height\":500,\"width\":1800},                        {\"responsive\": true}                    ).then(function(){\n",
              "                            \n",
              "var gd = document.getElementById('6c41371c-a3f8-4927-bf92-7ef4e58ae668');\n",
              "var x = new MutationObserver(function (mutations, observer) {{\n",
              "        var display = window.getComputedStyle(gd).display;\n",
              "        if (!display || display === 'none') {{\n",
              "            console.log([gd, 'removed!']);\n",
              "            Plotly.purge(gd);\n",
              "            observer.disconnect();\n",
              "        }}\n",
              "}});\n",
              "\n",
              "// Listen for the removal of the full notebook cells\n",
              "var notebookContainer = gd.closest('#notebook-container');\n",
              "if (notebookContainer) {{\n",
              "    x.observe(notebookContainer, {childList: true});\n",
              "}}\n",
              "\n",
              "// Listen for the clearing of the current output cell\n",
              "var outputEl = gd.closest('.output');\n",
              "if (outputEl) {{\n",
              "    x.observe(outputEl, {childList: true});\n",
              "}}\n",
              "\n",
              "                        })                };                });            </script>        </div>"
            ]
          },
          "metadata": {},
          "output_type": "display_data"
        },
        {
          "data": {
            "application/vnd.plotly.v1+json": {
              "config": {
                "plotlyServerURL": "https://plot.ly"
              },
              "data": [
                {
                  "direction": "clockwise",
                  "domain": {
                    "x": [
                      0,
                      0.2125
                    ],
                    "y": [
                      0,
                      1
                    ]
                  },
                  "hole": 0.35,
                  "hoverinfo": "label+percent+name",
                  "labels": [
                    "Promoter (<=1kb)",
                    "Promoter (1-2kb)",
                    "Promoter (2-3kb)",
                    "5' UTR",
                    "3' UTR",
                    "1st Exon",
                    "Other Exon",
                    "1st Intron",
                    "Other Intron",
                    "Downstream (<=300)",
                    "Distal Intergenic"
                  ],
                  "marker": {
                    "colors": [
                      "rgb(3, 35, 51)",
                      "rgb(13, 48, 100)",
                      "rgb(53, 50, 155)",
                      "rgb(93, 62, 153)",
                      "rgb(126, 77, 143)",
                      "rgb(158, 89, 135)",
                      "rgb(193, 100, 121)",
                      "rgb(225, 113, 97)",
                      "rgb(246, 139, 69)",
                      "rgb(251, 173, 60)",
                      "rgb(246, 211, 70)",
                      "rgb(231, 250, 90)"
                    ]
                  },
                  "name": "Z-DNA & miRNA",
                  "rotation": 0,
                  "sort": false,
                  "texttemplate": "%{value:.2f}%",
                  "type": "pie",
                  "values": [
                    26.01002654,
                    5.69153642,
                    4.3055146,
                    0.05897965,
                    0.70775582,
                    0,
                    1.12061339,
                    7.01857859,
                    18.43114126,
                    0,
                    36.65585373
                  ]
                },
                {
                  "direction": "clockwise",
                  "domain": {
                    "x": [
                      0.2625,
                      0.475
                    ],
                    "y": [
                      0,
                      1
                    ]
                  },
                  "hole": 0.35,
                  "hoverinfo": "label+percent+name",
                  "labels": [
                    "Promoter (<=1kb)",
                    "Promoter (1-2kb)",
                    "Promoter (2-3kb)",
                    "5' UTR",
                    "3' UTR",
                    "1st Exon",
                    "Other Exon",
                    "1st Intron",
                    "Other Intron",
                    "Downstream (<=300)",
                    "Distal Intergenic"
                  ],
                  "marker": {
                    "colors": [
                      "rgb(3, 35, 51)",
                      "rgb(13, 48, 100)",
                      "rgb(53, 50, 155)",
                      "rgb(93, 62, 153)",
                      "rgb(126, 77, 143)",
                      "rgb(158, 89, 135)",
                      "rgb(193, 100, 121)",
                      "rgb(225, 113, 97)",
                      "rgb(246, 139, 69)",
                      "rgb(251, 173, 60)",
                      "rgb(246, 211, 70)",
                      "rgb(231, 250, 90)"
                    ]
                  },
                  "name": "SIDD & miRNA",
                  "rotation": 0,
                  "sort": false,
                  "texttemplate": "%{value:.2f}%",
                  "type": "pie",
                  "values": [
                    6.349337067,
                    4.31524335,
                    3.434077246,
                    0.008235197,
                    0.897636498,
                    0.041175986,
                    0.502347031,
                    7.502264679,
                    18.80919048,
                    0.074116775,
                    58.06637569
                  ]
                },
                {
                  "direction": "clockwise",
                  "domain": {
                    "x": [
                      0.525,
                      0.7375
                    ],
                    "y": [
                      0,
                      1
                    ]
                  },
                  "hole": 0.35,
                  "hoverinfo": "label+percent+name",
                  "labels": [
                    "Promoter (<=1kb)",
                    "Promoter (1-2kb)",
                    "Promoter (2-3kb)",
                    "5' UTR",
                    "3' UTR",
                    "1st Exon",
                    "Other Exon",
                    "1st Intron",
                    "Other Intron",
                    "Downstream (<=300)",
                    "Distal Intergenic"
                  ],
                  "marker": {
                    "colors": [
                      "rgb(3, 35, 51)",
                      "rgb(13, 48, 100)",
                      "rgb(53, 50, 155)",
                      "rgb(93, 62, 153)",
                      "rgb(126, 77, 143)",
                      "rgb(158, 89, 135)",
                      "rgb(193, 100, 121)",
                      "rgb(225, 113, 97)",
                      "rgb(246, 139, 69)",
                      "rgb(251, 173, 60)",
                      "rgb(246, 211, 70)",
                      "rgb(231, 250, 90)"
                    ]
                  },
                  "name": "G4 & miRNA",
                  "rotation": 0,
                  "sort": false,
                  "texttemplate": "%{value:.2f}%",
                  "type": "pie",
                  "values": [
                    38.82687678,
                    5.66863646,
                    3.83015977,
                    0.04377325,
                    1.24753775,
                    0,
                    2.01356971,
                    4.88071788,
                    12.54103743,
                    0.02188663,
                    30.92580433
                  ]
                },
                {
                  "direction": "clockwise",
                  "domain": {
                    "x": [
                      0.7875,
                      1
                    ],
                    "y": [
                      0,
                      1
                    ]
                  },
                  "hole": 0.35,
                  "hoverinfo": "label+percent+name",
                  "labels": [
                    "Promoter (<=1kb)",
                    "Promoter (1-2kb)",
                    "Promoter (2-3kb)",
                    "5' UTR",
                    "3' UTR",
                    "1st Exon",
                    "Other Exon",
                    "1st Intron",
                    "Other Intron",
                    "Downstream (<=300)",
                    "Distal Intergenic"
                  ],
                  "marker": {
                    "colors": [
                      "rgb(3, 35, 51)",
                      "rgb(13, 48, 100)",
                      "rgb(53, 50, 155)",
                      "rgb(93, 62, 153)",
                      "rgb(126, 77, 143)",
                      "rgb(158, 89, 135)",
                      "rgb(193, 100, 121)",
                      "rgb(225, 113, 97)",
                      "rgb(246, 139, 69)",
                      "rgb(251, 173, 60)",
                      "rgb(246, 211, 70)",
                      "rgb(231, 250, 90)"
                    ]
                  },
                  "name": "H-DNA & miRNA",
                  "rotation": 0,
                  "sort": false,
                  "texttemplate": "%{value:.2f}%",
                  "type": "pie",
                  "values": [
                    10.71913161,
                    4.0027137,
                    3.86702849,
                    0,
                    0.81411126,
                    0,
                    0.13568521,
                    7.39484396,
                    21.70963365,
                    0.06784261,
                    51.2890095
                  ]
                }
              ],
              "layout": {
                "annotations": [
                  {
                    "font": {
                      "size": 16
                    },
                    "showarrow": false,
                    "text": "Z-DNA & miRNA",
                    "x": 0.10625,
                    "xanchor": "center",
                    "xref": "paper",
                    "y": 1,
                    "yanchor": "bottom",
                    "yref": "paper",
                    "yshift": 20
                  },
                  {
                    "font": {
                      "size": 16
                    },
                    "showarrow": false,
                    "text": "SIDD & miRNA",
                    "x": 0.36875,
                    "xanchor": "center",
                    "xref": "paper",
                    "y": 1,
                    "yanchor": "bottom",
                    "yref": "paper",
                    "yshift": 20
                  },
                  {
                    "font": {
                      "size": 16
                    },
                    "showarrow": false,
                    "text": "G4 & miRNA",
                    "x": 0.6312500000000001,
                    "xanchor": "center",
                    "xref": "paper",
                    "y": 1,
                    "yanchor": "bottom",
                    "yref": "paper",
                    "yshift": 20
                  },
                  {
                    "font": {
                      "size": 16
                    },
                    "showarrow": false,
                    "text": "H-DNA & miRNA",
                    "x": 0.89375,
                    "xanchor": "center",
                    "xref": "paper",
                    "y": 1,
                    "yanchor": "bottom",
                    "yref": "paper",
                    "yshift": 20
                  }
                ],
                "font": {
                  "family": "monospace",
                  "size": 12
                },
                "height": 500,
                "template": {
                  "data": {
                    "bar": [
                      {
                        "error_x": {
                          "color": "#2a3f5f"
                        },
                        "error_y": {
                          "color": "#2a3f5f"
                        },
                        "marker": {
                          "line": {
                            "color": "#E5ECF6",
                            "width": 0.5
                          },
                          "pattern": {
                            "fillmode": "overlay",
                            "size": 10,
                            "solidity": 0.2
                          }
                        },
                        "type": "bar"
                      }
                    ],
                    "barpolar": [
                      {
                        "marker": {
                          "line": {
                            "color": "#E5ECF6",
                            "width": 0.5
                          },
                          "pattern": {
                            "fillmode": "overlay",
                            "size": 10,
                            "solidity": 0.2
                          }
                        },
                        "type": "barpolar"
                      }
                    ],
                    "carpet": [
                      {
                        "aaxis": {
                          "endlinecolor": "#2a3f5f",
                          "gridcolor": "white",
                          "linecolor": "white",
                          "minorgridcolor": "white",
                          "startlinecolor": "#2a3f5f"
                        },
                        "baxis": {
                          "endlinecolor": "#2a3f5f",
                          "gridcolor": "white",
                          "linecolor": "white",
                          "minorgridcolor": "white",
                          "startlinecolor": "#2a3f5f"
                        },
                        "type": "carpet"
                      }
                    ],
                    "choropleth": [
                      {
                        "colorbar": {
                          "outlinewidth": 0,
                          "ticks": ""
                        },
                        "type": "choropleth"
                      }
                    ],
                    "contour": [
                      {
                        "colorbar": {
                          "outlinewidth": 0,
                          "ticks": ""
                        },
                        "colorscale": [
                          [
                            0,
                            "#0d0887"
                          ],
                          [
                            0.1111111111111111,
                            "#46039f"
                          ],
                          [
                            0.2222222222222222,
                            "#7201a8"
                          ],
                          [
                            0.3333333333333333,
                            "#9c179e"
                          ],
                          [
                            0.4444444444444444,
                            "#bd3786"
                          ],
                          [
                            0.5555555555555556,
                            "#d8576b"
                          ],
                          [
                            0.6666666666666666,
                            "#ed7953"
                          ],
                          [
                            0.7777777777777778,
                            "#fb9f3a"
                          ],
                          [
                            0.8888888888888888,
                            "#fdca26"
                          ],
                          [
                            1,
                            "#f0f921"
                          ]
                        ],
                        "type": "contour"
                      }
                    ],
                    "contourcarpet": [
                      {
                        "colorbar": {
                          "outlinewidth": 0,
                          "ticks": ""
                        },
                        "type": "contourcarpet"
                      }
                    ],
                    "heatmap": [
                      {
                        "colorbar": {
                          "outlinewidth": 0,
                          "ticks": ""
                        },
                        "colorscale": [
                          [
                            0,
                            "#0d0887"
                          ],
                          [
                            0.1111111111111111,
                            "#46039f"
                          ],
                          [
                            0.2222222222222222,
                            "#7201a8"
                          ],
                          [
                            0.3333333333333333,
                            "#9c179e"
                          ],
                          [
                            0.4444444444444444,
                            "#bd3786"
                          ],
                          [
                            0.5555555555555556,
                            "#d8576b"
                          ],
                          [
                            0.6666666666666666,
                            "#ed7953"
                          ],
                          [
                            0.7777777777777778,
                            "#fb9f3a"
                          ],
                          [
                            0.8888888888888888,
                            "#fdca26"
                          ],
                          [
                            1,
                            "#f0f921"
                          ]
                        ],
                        "type": "heatmap"
                      }
                    ],
                    "heatmapgl": [
                      {
                        "colorbar": {
                          "outlinewidth": 0,
                          "ticks": ""
                        },
                        "colorscale": [
                          [
                            0,
                            "#0d0887"
                          ],
                          [
                            0.1111111111111111,
                            "#46039f"
                          ],
                          [
                            0.2222222222222222,
                            "#7201a8"
                          ],
                          [
                            0.3333333333333333,
                            "#9c179e"
                          ],
                          [
                            0.4444444444444444,
                            "#bd3786"
                          ],
                          [
                            0.5555555555555556,
                            "#d8576b"
                          ],
                          [
                            0.6666666666666666,
                            "#ed7953"
                          ],
                          [
                            0.7777777777777778,
                            "#fb9f3a"
                          ],
                          [
                            0.8888888888888888,
                            "#fdca26"
                          ],
                          [
                            1,
                            "#f0f921"
                          ]
                        ],
                        "type": "heatmapgl"
                      }
                    ],
                    "histogram": [
                      {
                        "marker": {
                          "pattern": {
                            "fillmode": "overlay",
                            "size": 10,
                            "solidity": 0.2
                          }
                        },
                        "type": "histogram"
                      }
                    ],
                    "histogram2d": [
                      {
                        "colorbar": {
                          "outlinewidth": 0,
                          "ticks": ""
                        },
                        "colorscale": [
                          [
                            0,
                            "#0d0887"
                          ],
                          [
                            0.1111111111111111,
                            "#46039f"
                          ],
                          [
                            0.2222222222222222,
                            "#7201a8"
                          ],
                          [
                            0.3333333333333333,
                            "#9c179e"
                          ],
                          [
                            0.4444444444444444,
                            "#bd3786"
                          ],
                          [
                            0.5555555555555556,
                            "#d8576b"
                          ],
                          [
                            0.6666666666666666,
                            "#ed7953"
                          ],
                          [
                            0.7777777777777778,
                            "#fb9f3a"
                          ],
                          [
                            0.8888888888888888,
                            "#fdca26"
                          ],
                          [
                            1,
                            "#f0f921"
                          ]
                        ],
                        "type": "histogram2d"
                      }
                    ],
                    "histogram2dcontour": [
                      {
                        "colorbar": {
                          "outlinewidth": 0,
                          "ticks": ""
                        },
                        "colorscale": [
                          [
                            0,
                            "#0d0887"
                          ],
                          [
                            0.1111111111111111,
                            "#46039f"
                          ],
                          [
                            0.2222222222222222,
                            "#7201a8"
                          ],
                          [
                            0.3333333333333333,
                            "#9c179e"
                          ],
                          [
                            0.4444444444444444,
                            "#bd3786"
                          ],
                          [
                            0.5555555555555556,
                            "#d8576b"
                          ],
                          [
                            0.6666666666666666,
                            "#ed7953"
                          ],
                          [
                            0.7777777777777778,
                            "#fb9f3a"
                          ],
                          [
                            0.8888888888888888,
                            "#fdca26"
                          ],
                          [
                            1,
                            "#f0f921"
                          ]
                        ],
                        "type": "histogram2dcontour"
                      }
                    ],
                    "mesh3d": [
                      {
                        "colorbar": {
                          "outlinewidth": 0,
                          "ticks": ""
                        },
                        "type": "mesh3d"
                      }
                    ],
                    "parcoords": [
                      {
                        "line": {
                          "colorbar": {
                            "outlinewidth": 0,
                            "ticks": ""
                          }
                        },
                        "type": "parcoords"
                      }
                    ],
                    "pie": [
                      {
                        "automargin": true,
                        "type": "pie"
                      }
                    ],
                    "scatter": [
                      {
                        "fillpattern": {
                          "fillmode": "overlay",
                          "size": 10,
                          "solidity": 0.2
                        },
                        "type": "scatter"
                      }
                    ],
                    "scatter3d": [
                      {
                        "line": {
                          "colorbar": {
                            "outlinewidth": 0,
                            "ticks": ""
                          }
                        },
                        "marker": {
                          "colorbar": {
                            "outlinewidth": 0,
                            "ticks": ""
                          }
                        },
                        "type": "scatter3d"
                      }
                    ],
                    "scattercarpet": [
                      {
                        "marker": {
                          "colorbar": {
                            "outlinewidth": 0,
                            "ticks": ""
                          }
                        },
                        "type": "scattercarpet"
                      }
                    ],
                    "scattergeo": [
                      {
                        "marker": {
                          "colorbar": {
                            "outlinewidth": 0,
                            "ticks": ""
                          }
                        },
                        "type": "scattergeo"
                      }
                    ],
                    "scattergl": [
                      {
                        "marker": {
                          "colorbar": {
                            "outlinewidth": 0,
                            "ticks": ""
                          }
                        },
                        "type": "scattergl"
                      }
                    ],
                    "scattermapbox": [
                      {
                        "marker": {
                          "colorbar": {
                            "outlinewidth": 0,
                            "ticks": ""
                          }
                        },
                        "type": "scattermapbox"
                      }
                    ],
                    "scatterpolar": [
                      {
                        "marker": {
                          "colorbar": {
                            "outlinewidth": 0,
                            "ticks": ""
                          }
                        },
                        "type": "scatterpolar"
                      }
                    ],
                    "scatterpolargl": [
                      {
                        "marker": {
                          "colorbar": {
                            "outlinewidth": 0,
                            "ticks": ""
                          }
                        },
                        "type": "scatterpolargl"
                      }
                    ],
                    "scatterternary": [
                      {
                        "marker": {
                          "colorbar": {
                            "outlinewidth": 0,
                            "ticks": ""
                          }
                        },
                        "type": "scatterternary"
                      }
                    ],
                    "surface": [
                      {
                        "colorbar": {
                          "outlinewidth": 0,
                          "ticks": ""
                        },
                        "colorscale": [
                          [
                            0,
                            "#0d0887"
                          ],
                          [
                            0.1111111111111111,
                            "#46039f"
                          ],
                          [
                            0.2222222222222222,
                            "#7201a8"
                          ],
                          [
                            0.3333333333333333,
                            "#9c179e"
                          ],
                          [
                            0.4444444444444444,
                            "#bd3786"
                          ],
                          [
                            0.5555555555555556,
                            "#d8576b"
                          ],
                          [
                            0.6666666666666666,
                            "#ed7953"
                          ],
                          [
                            0.7777777777777778,
                            "#fb9f3a"
                          ],
                          [
                            0.8888888888888888,
                            "#fdca26"
                          ],
                          [
                            1,
                            "#f0f921"
                          ]
                        ],
                        "type": "surface"
                      }
                    ],
                    "table": [
                      {
                        "cells": {
                          "fill": {
                            "color": "#EBF0F8"
                          },
                          "line": {
                            "color": "white"
                          }
                        },
                        "header": {
                          "fill": {
                            "color": "#C8D4E3"
                          },
                          "line": {
                            "color": "white"
                          }
                        },
                        "type": "table"
                      }
                    ]
                  },
                  "layout": {
                    "annotationdefaults": {
                      "arrowcolor": "#2a3f5f",
                      "arrowhead": 0,
                      "arrowwidth": 1
                    },
                    "autotypenumbers": "strict",
                    "coloraxis": {
                      "colorbar": {
                        "outlinewidth": 0,
                        "ticks": ""
                      }
                    },
                    "colorscale": {
                      "diverging": [
                        [
                          0,
                          "#8e0152"
                        ],
                        [
                          0.1,
                          "#c51b7d"
                        ],
                        [
                          0.2,
                          "#de77ae"
                        ],
                        [
                          0.3,
                          "#f1b6da"
                        ],
                        [
                          0.4,
                          "#fde0ef"
                        ],
                        [
                          0.5,
                          "#f7f7f7"
                        ],
                        [
                          0.6,
                          "#e6f5d0"
                        ],
                        [
                          0.7,
                          "#b8e186"
                        ],
                        [
                          0.8,
                          "#7fbc41"
                        ],
                        [
                          0.9,
                          "#4d9221"
                        ],
                        [
                          1,
                          "#276419"
                        ]
                      ],
                      "sequential": [
                        [
                          0,
                          "#0d0887"
                        ],
                        [
                          0.1111111111111111,
                          "#46039f"
                        ],
                        [
                          0.2222222222222222,
                          "#7201a8"
                        ],
                        [
                          0.3333333333333333,
                          "#9c179e"
                        ],
                        [
                          0.4444444444444444,
                          "#bd3786"
                        ],
                        [
                          0.5555555555555556,
                          "#d8576b"
                        ],
                        [
                          0.6666666666666666,
                          "#ed7953"
                        ],
                        [
                          0.7777777777777778,
                          "#fb9f3a"
                        ],
                        [
                          0.8888888888888888,
                          "#fdca26"
                        ],
                        [
                          1,
                          "#f0f921"
                        ]
                      ],
                      "sequentialminus": [
                        [
                          0,
                          "#0d0887"
                        ],
                        [
                          0.1111111111111111,
                          "#46039f"
                        ],
                        [
                          0.2222222222222222,
                          "#7201a8"
                        ],
                        [
                          0.3333333333333333,
                          "#9c179e"
                        ],
                        [
                          0.4444444444444444,
                          "#bd3786"
                        ],
                        [
                          0.5555555555555556,
                          "#d8576b"
                        ],
                        [
                          0.6666666666666666,
                          "#ed7953"
                        ],
                        [
                          0.7777777777777778,
                          "#fb9f3a"
                        ],
                        [
                          0.8888888888888888,
                          "#fdca26"
                        ],
                        [
                          1,
                          "#f0f921"
                        ]
                      ]
                    },
                    "colorway": [
                      "#636efa",
                      "#EF553B",
                      "#00cc96",
                      "#ab63fa",
                      "#FFA15A",
                      "#19d3f3",
                      "#FF6692",
                      "#B6E880",
                      "#FF97FF",
                      "#FECB52"
                    ],
                    "font": {
                      "color": "#2a3f5f"
                    },
                    "geo": {
                      "bgcolor": "white",
                      "lakecolor": "white",
                      "landcolor": "#E5ECF6",
                      "showlakes": true,
                      "showland": true,
                      "subunitcolor": "white"
                    },
                    "hoverlabel": {
                      "align": "left"
                    },
                    "hovermode": "closest",
                    "mapbox": {
                      "style": "light"
                    },
                    "paper_bgcolor": "white",
                    "plot_bgcolor": "#E5ECF6",
                    "polar": {
                      "angularaxis": {
                        "gridcolor": "white",
                        "linecolor": "white",
                        "ticks": ""
                      },
                      "bgcolor": "#E5ECF6",
                      "radialaxis": {
                        "gridcolor": "white",
                        "linecolor": "white",
                        "ticks": ""
                      }
                    },
                    "scene": {
                      "xaxis": {
                        "backgroundcolor": "#E5ECF6",
                        "gridcolor": "white",
                        "gridwidth": 2,
                        "linecolor": "white",
                        "showbackground": true,
                        "ticks": "",
                        "zerolinecolor": "white"
                      },
                      "yaxis": {
                        "backgroundcolor": "#E5ECF6",
                        "gridcolor": "white",
                        "gridwidth": 2,
                        "linecolor": "white",
                        "showbackground": true,
                        "ticks": "",
                        "zerolinecolor": "white"
                      },
                      "zaxis": {
                        "backgroundcolor": "#E5ECF6",
                        "gridcolor": "white",
                        "gridwidth": 2,
                        "linecolor": "white",
                        "showbackground": true,
                        "ticks": "",
                        "zerolinecolor": "white"
                      }
                    },
                    "shapedefaults": {
                      "line": {
                        "color": "#2a3f5f"
                      }
                    },
                    "ternary": {
                      "aaxis": {
                        "gridcolor": "white",
                        "linecolor": "white",
                        "ticks": ""
                      },
                      "baxis": {
                        "gridcolor": "white",
                        "linecolor": "white",
                        "ticks": ""
                      },
                      "bgcolor": "#E5ECF6",
                      "caxis": {
                        "gridcolor": "white",
                        "linecolor": "white",
                        "ticks": ""
                      }
                    },
                    "title": {
                      "x": 0.05
                    },
                    "xaxis": {
                      "automargin": true,
                      "gridcolor": "white",
                      "linecolor": "white",
                      "ticks": "",
                      "title": {
                        "standoff": 15
                      },
                      "zerolinecolor": "white",
                      "zerolinewidth": 2
                    },
                    "yaxis": {
                      "automargin": true,
                      "gridcolor": "white",
                      "linecolor": "white",
                      "ticks": "",
                      "title": {
                        "standoff": 15
                      },
                      "zerolinecolor": "white",
                      "zerolinewidth": 2
                    }
                  }
                },
                "uniformtext": {
                  "minsize": 10,
                  "mode": "hide"
                },
                "width": 1800
              }
            },
            "text/html": [
              "<div>                            <div id=\"edf44e1f-c2ee-4876-b8ee-13d26a28594d\" class=\"plotly-graph-div\" style=\"height:500px; width:1800px;\"></div>            <script type=\"text/javascript\">                require([\"plotly\"], function(Plotly) {                    window.PLOTLYENV=window.PLOTLYENV || {};                                    if (document.getElementById(\"edf44e1f-c2ee-4876-b8ee-13d26a28594d\")) {                    Plotly.newPlot(                        \"edf44e1f-c2ee-4876-b8ee-13d26a28594d\",                        [{\"direction\":\"clockwise\",\"labels\":[\"Promoter (<=1kb)\",\"Promoter (1-2kb)\",\"Promoter (2-3kb)\",\"5' UTR\",\"3' UTR\",\"1st Exon\",\"Other Exon\",\"1st Intron\",\"Other Intron\",\"Downstream (<=300)\",\"Distal Intergenic\"],\"marker\":{\"colors\":[\"rgb(3, 35, 51)\",\"rgb(13, 48, 100)\",\"rgb(53, 50, 155)\",\"rgb(93, 62, 153)\",\"rgb(126, 77, 143)\",\"rgb(158, 89, 135)\",\"rgb(193, 100, 121)\",\"rgb(225, 113, 97)\",\"rgb(246, 139, 69)\",\"rgb(251, 173, 60)\",\"rgb(246, 211, 70)\",\"rgb(231, 250, 90)\"]},\"name\":\"Z-DNA & miRNA\",\"rotation\":0,\"sort\":false,\"values\":[26.01002654,5.69153642,4.3055146,0.05897965,0.70775582,0,1.12061339,7.01857859,18.43114126,0,36.65585373],\"type\":\"pie\",\"domain\":{\"x\":[0.0,0.2125],\"y\":[0.0,1.0]},\"hole\":0.35,\"hoverinfo\":\"label+percent+name\",\"texttemplate\":\"%{value:.2f}%\"},{\"direction\":\"clockwise\",\"labels\":[\"Promoter (<=1kb)\",\"Promoter (1-2kb)\",\"Promoter (2-3kb)\",\"5' UTR\",\"3' UTR\",\"1st Exon\",\"Other Exon\",\"1st Intron\",\"Other Intron\",\"Downstream (<=300)\",\"Distal Intergenic\"],\"marker\":{\"colors\":[\"rgb(3, 35, 51)\",\"rgb(13, 48, 100)\",\"rgb(53, 50, 155)\",\"rgb(93, 62, 153)\",\"rgb(126, 77, 143)\",\"rgb(158, 89, 135)\",\"rgb(193, 100, 121)\",\"rgb(225, 113, 97)\",\"rgb(246, 139, 69)\",\"rgb(251, 173, 60)\",\"rgb(246, 211, 70)\",\"rgb(231, 250, 90)\"]},\"name\":\"SIDD & miRNA\",\"rotation\":0,\"sort\":false,\"values\":[6.349337067,4.31524335,3.434077246,0.008235197,0.897636498,0.041175986,0.502347031,7.502264679,18.80919048,0.074116775,58.06637569],\"type\":\"pie\",\"domain\":{\"x\":[0.2625,0.475],\"y\":[0.0,1.0]},\"hole\":0.35,\"hoverinfo\":\"label+percent+name\",\"texttemplate\":\"%{value:.2f}%\"},{\"direction\":\"clockwise\",\"labels\":[\"Promoter (<=1kb)\",\"Promoter (1-2kb)\",\"Promoter (2-3kb)\",\"5' UTR\",\"3' UTR\",\"1st Exon\",\"Other Exon\",\"1st Intron\",\"Other Intron\",\"Downstream (<=300)\",\"Distal Intergenic\"],\"marker\":{\"colors\":[\"rgb(3, 35, 51)\",\"rgb(13, 48, 100)\",\"rgb(53, 50, 155)\",\"rgb(93, 62, 153)\",\"rgb(126, 77, 143)\",\"rgb(158, 89, 135)\",\"rgb(193, 100, 121)\",\"rgb(225, 113, 97)\",\"rgb(246, 139, 69)\",\"rgb(251, 173, 60)\",\"rgb(246, 211, 70)\",\"rgb(231, 250, 90)\"]},\"name\":\"G4 & miRNA\",\"rotation\":0,\"sort\":false,\"values\":[38.82687678,5.66863646,3.83015977,0.04377325,1.24753775,0,2.01356971,4.88071788,12.54103743,0.02188663,30.92580433],\"type\":\"pie\",\"domain\":{\"x\":[0.525,0.7375],\"y\":[0.0,1.0]},\"hole\":0.35,\"hoverinfo\":\"label+percent+name\",\"texttemplate\":\"%{value:.2f}%\"},{\"direction\":\"clockwise\",\"labels\":[\"Promoter (<=1kb)\",\"Promoter (1-2kb)\",\"Promoter (2-3kb)\",\"5' UTR\",\"3' UTR\",\"1st Exon\",\"Other Exon\",\"1st Intron\",\"Other Intron\",\"Downstream (<=300)\",\"Distal Intergenic\"],\"marker\":{\"colors\":[\"rgb(3, 35, 51)\",\"rgb(13, 48, 100)\",\"rgb(53, 50, 155)\",\"rgb(93, 62, 153)\",\"rgb(126, 77, 143)\",\"rgb(158, 89, 135)\",\"rgb(193, 100, 121)\",\"rgb(225, 113, 97)\",\"rgb(246, 139, 69)\",\"rgb(251, 173, 60)\",\"rgb(246, 211, 70)\",\"rgb(231, 250, 90)\"]},\"name\":\"H-DNA & miRNA\",\"rotation\":0,\"sort\":false,\"values\":[10.71913161,4.0027137,3.86702849,0,0.81411126,0,0.13568521,7.39484396,21.70963365,0.06784261,51.2890095],\"type\":\"pie\",\"domain\":{\"x\":[0.7875,1.0],\"y\":[0.0,1.0]},\"hole\":0.35,\"hoverinfo\":\"label+percent+name\",\"texttemplate\":\"%{value:.2f}%\"}],                        {\"template\":{\"data\":{\"histogram2dcontour\":[{\"type\":\"histogram2dcontour\",\"colorbar\":{\"outlinewidth\":0,\"ticks\":\"\"},\"colorscale\":[[0.0,\"#0d0887\"],[0.1111111111111111,\"#46039f\"],[0.2222222222222222,\"#7201a8\"],[0.3333333333333333,\"#9c179e\"],[0.4444444444444444,\"#bd3786\"],[0.5555555555555556,\"#d8576b\"],[0.6666666666666666,\"#ed7953\"],[0.7777777777777778,\"#fb9f3a\"],[0.8888888888888888,\"#fdca26\"],[1.0,\"#f0f921\"]]}],\"choropleth\":[{\"type\":\"choropleth\",\"colorbar\":{\"outlinewidth\":0,\"ticks\":\"\"}}],\"histogram2d\":[{\"type\":\"histogram2d\",\"colorbar\":{\"outlinewidth\":0,\"ticks\":\"\"},\"colorscale\":[[0.0,\"#0d0887\"],[0.1111111111111111,\"#46039f\"],[0.2222222222222222,\"#7201a8\"],[0.3333333333333333,\"#9c179e\"],[0.4444444444444444,\"#bd3786\"],[0.5555555555555556,\"#d8576b\"],[0.6666666666666666,\"#ed7953\"],[0.7777777777777778,\"#fb9f3a\"],[0.8888888888888888,\"#fdca26\"],[1.0,\"#f0f921\"]]}],\"heatmap\":[{\"type\":\"heatmap\",\"colorbar\":{\"outlinewidth\":0,\"ticks\":\"\"},\"colorscale\":[[0.0,\"#0d0887\"],[0.1111111111111111,\"#46039f\"],[0.2222222222222222,\"#7201a8\"],[0.3333333333333333,\"#9c179e\"],[0.4444444444444444,\"#bd3786\"],[0.5555555555555556,\"#d8576b\"],[0.6666666666666666,\"#ed7953\"],[0.7777777777777778,\"#fb9f3a\"],[0.8888888888888888,\"#fdca26\"],[1.0,\"#f0f921\"]]}],\"heatmapgl\":[{\"type\":\"heatmapgl\",\"colorbar\":{\"outlinewidth\":0,\"ticks\":\"\"},\"colorscale\":[[0.0,\"#0d0887\"],[0.1111111111111111,\"#46039f\"],[0.2222222222222222,\"#7201a8\"],[0.3333333333333333,\"#9c179e\"],[0.4444444444444444,\"#bd3786\"],[0.5555555555555556,\"#d8576b\"],[0.6666666666666666,\"#ed7953\"],[0.7777777777777778,\"#fb9f3a\"],[0.8888888888888888,\"#fdca26\"],[1.0,\"#f0f921\"]]}],\"contourcarpet\":[{\"type\":\"contourcarpet\",\"colorbar\":{\"outlinewidth\":0,\"ticks\":\"\"}}],\"contour\":[{\"type\":\"contour\",\"colorbar\":{\"outlinewidth\":0,\"ticks\":\"\"},\"colorscale\":[[0.0,\"#0d0887\"],[0.1111111111111111,\"#46039f\"],[0.2222222222222222,\"#7201a8\"],[0.3333333333333333,\"#9c179e\"],[0.4444444444444444,\"#bd3786\"],[0.5555555555555556,\"#d8576b\"],[0.6666666666666666,\"#ed7953\"],[0.7777777777777778,\"#fb9f3a\"],[0.8888888888888888,\"#fdca26\"],[1.0,\"#f0f921\"]]}],\"surface\":[{\"type\":\"surface\",\"colorbar\":{\"outlinewidth\":0,\"ticks\":\"\"},\"colorscale\":[[0.0,\"#0d0887\"],[0.1111111111111111,\"#46039f\"],[0.2222222222222222,\"#7201a8\"],[0.3333333333333333,\"#9c179e\"],[0.4444444444444444,\"#bd3786\"],[0.5555555555555556,\"#d8576b\"],[0.6666666666666666,\"#ed7953\"],[0.7777777777777778,\"#fb9f3a\"],[0.8888888888888888,\"#fdca26\"],[1.0,\"#f0f921\"]]}],\"mesh3d\":[{\"type\":\"mesh3d\",\"colorbar\":{\"outlinewidth\":0,\"ticks\":\"\"}}],\"scatter\":[{\"fillpattern\":{\"fillmode\":\"overlay\",\"size\":10,\"solidity\":0.2},\"type\":\"scatter\"}],\"parcoords\":[{\"type\":\"parcoords\",\"line\":{\"colorbar\":{\"outlinewidth\":0,\"ticks\":\"\"}}}],\"scatterpolargl\":[{\"type\":\"scatterpolargl\",\"marker\":{\"colorbar\":{\"outlinewidth\":0,\"ticks\":\"\"}}}],\"bar\":[{\"error_x\":{\"color\":\"#2a3f5f\"},\"error_y\":{\"color\":\"#2a3f5f\"},\"marker\":{\"line\":{\"color\":\"#E5ECF6\",\"width\":0.5},\"pattern\":{\"fillmode\":\"overlay\",\"size\":10,\"solidity\":0.2}},\"type\":\"bar\"}],\"scattergeo\":[{\"type\":\"scattergeo\",\"marker\":{\"colorbar\":{\"outlinewidth\":0,\"ticks\":\"\"}}}],\"scatterpolar\":[{\"type\":\"scatterpolar\",\"marker\":{\"colorbar\":{\"outlinewidth\":0,\"ticks\":\"\"}}}],\"histogram\":[{\"marker\":{\"pattern\":{\"fillmode\":\"overlay\",\"size\":10,\"solidity\":0.2}},\"type\":\"histogram\"}],\"scattergl\":[{\"type\":\"scattergl\",\"marker\":{\"colorbar\":{\"outlinewidth\":0,\"ticks\":\"\"}}}],\"scatter3d\":[{\"type\":\"scatter3d\",\"line\":{\"colorbar\":{\"outlinewidth\":0,\"ticks\":\"\"}},\"marker\":{\"colorbar\":{\"outlinewidth\":0,\"ticks\":\"\"}}}],\"scattermapbox\":[{\"type\":\"scattermapbox\",\"marker\":{\"colorbar\":{\"outlinewidth\":0,\"ticks\":\"\"}}}],\"scatterternary\":[{\"type\":\"scatterternary\",\"marker\":{\"colorbar\":{\"outlinewidth\":0,\"ticks\":\"\"}}}],\"scattercarpet\":[{\"type\":\"scattercarpet\",\"marker\":{\"colorbar\":{\"outlinewidth\":0,\"ticks\":\"\"}}}],\"carpet\":[{\"aaxis\":{\"endlinecolor\":\"#2a3f5f\",\"gridcolor\":\"white\",\"linecolor\":\"white\",\"minorgridcolor\":\"white\",\"startlinecolor\":\"#2a3f5f\"},\"baxis\":{\"endlinecolor\":\"#2a3f5f\",\"gridcolor\":\"white\",\"linecolor\":\"white\",\"minorgridcolor\":\"white\",\"startlinecolor\":\"#2a3f5f\"},\"type\":\"carpet\"}],\"table\":[{\"cells\":{\"fill\":{\"color\":\"#EBF0F8\"},\"line\":{\"color\":\"white\"}},\"header\":{\"fill\":{\"color\":\"#C8D4E3\"},\"line\":{\"color\":\"white\"}},\"type\":\"table\"}],\"barpolar\":[{\"marker\":{\"line\":{\"color\":\"#E5ECF6\",\"width\":0.5},\"pattern\":{\"fillmode\":\"overlay\",\"size\":10,\"solidity\":0.2}},\"type\":\"barpolar\"}],\"pie\":[{\"automargin\":true,\"type\":\"pie\"}]},\"layout\":{\"autotypenumbers\":\"strict\",\"colorway\":[\"#636efa\",\"#EF553B\",\"#00cc96\",\"#ab63fa\",\"#FFA15A\",\"#19d3f3\",\"#FF6692\",\"#B6E880\",\"#FF97FF\",\"#FECB52\"],\"font\":{\"color\":\"#2a3f5f\"},\"hovermode\":\"closest\",\"hoverlabel\":{\"align\":\"left\"},\"paper_bgcolor\":\"white\",\"plot_bgcolor\":\"#E5ECF6\",\"polar\":{\"bgcolor\":\"#E5ECF6\",\"angularaxis\":{\"gridcolor\":\"white\",\"linecolor\":\"white\",\"ticks\":\"\"},\"radialaxis\":{\"gridcolor\":\"white\",\"linecolor\":\"white\",\"ticks\":\"\"}},\"ternary\":{\"bgcolor\":\"#E5ECF6\",\"aaxis\":{\"gridcolor\":\"white\",\"linecolor\":\"white\",\"ticks\":\"\"},\"baxis\":{\"gridcolor\":\"white\",\"linecolor\":\"white\",\"ticks\":\"\"},\"caxis\":{\"gridcolor\":\"white\",\"linecolor\":\"white\",\"ticks\":\"\"}},\"coloraxis\":{\"colorbar\":{\"outlinewidth\":0,\"ticks\":\"\"}},\"colorscale\":{\"sequential\":[[0.0,\"#0d0887\"],[0.1111111111111111,\"#46039f\"],[0.2222222222222222,\"#7201a8\"],[0.3333333333333333,\"#9c179e\"],[0.4444444444444444,\"#bd3786\"],[0.5555555555555556,\"#d8576b\"],[0.6666666666666666,\"#ed7953\"],[0.7777777777777778,\"#fb9f3a\"],[0.8888888888888888,\"#fdca26\"],[1.0,\"#f0f921\"]],\"sequentialminus\":[[0.0,\"#0d0887\"],[0.1111111111111111,\"#46039f\"],[0.2222222222222222,\"#7201a8\"],[0.3333333333333333,\"#9c179e\"],[0.4444444444444444,\"#bd3786\"],[0.5555555555555556,\"#d8576b\"],[0.6666666666666666,\"#ed7953\"],[0.7777777777777778,\"#fb9f3a\"],[0.8888888888888888,\"#fdca26\"],[1.0,\"#f0f921\"]],\"diverging\":[[0,\"#8e0152\"],[0.1,\"#c51b7d\"],[0.2,\"#de77ae\"],[0.3,\"#f1b6da\"],[0.4,\"#fde0ef\"],[0.5,\"#f7f7f7\"],[0.6,\"#e6f5d0\"],[0.7,\"#b8e186\"],[0.8,\"#7fbc41\"],[0.9,\"#4d9221\"],[1,\"#276419\"]]},\"xaxis\":{\"gridcolor\":\"white\",\"linecolor\":\"white\",\"ticks\":\"\",\"title\":{\"standoff\":15},\"zerolinecolor\":\"white\",\"automargin\":true,\"zerolinewidth\":2},\"yaxis\":{\"gridcolor\":\"white\",\"linecolor\":\"white\",\"ticks\":\"\",\"title\":{\"standoff\":15},\"zerolinecolor\":\"white\",\"automargin\":true,\"zerolinewidth\":2},\"scene\":{\"xaxis\":{\"backgroundcolor\":\"#E5ECF6\",\"gridcolor\":\"white\",\"linecolor\":\"white\",\"showbackground\":true,\"ticks\":\"\",\"zerolinecolor\":\"white\",\"gridwidth\":2},\"yaxis\":{\"backgroundcolor\":\"#E5ECF6\",\"gridcolor\":\"white\",\"linecolor\":\"white\",\"showbackground\":true,\"ticks\":\"\",\"zerolinecolor\":\"white\",\"gridwidth\":2},\"zaxis\":{\"backgroundcolor\":\"#E5ECF6\",\"gridcolor\":\"white\",\"linecolor\":\"white\",\"showbackground\":true,\"ticks\":\"\",\"zerolinecolor\":\"white\",\"gridwidth\":2}},\"shapedefaults\":{\"line\":{\"color\":\"#2a3f5f\"}},\"annotationdefaults\":{\"arrowcolor\":\"#2a3f5f\",\"arrowhead\":0,\"arrowwidth\":1},\"geo\":{\"bgcolor\":\"white\",\"landcolor\":\"#E5ECF6\",\"subunitcolor\":\"white\",\"showland\":true,\"showlakes\":true,\"lakecolor\":\"white\"},\"title\":{\"x\":0.05},\"mapbox\":{\"style\":\"light\"}}},\"annotations\":[{\"font\":{\"size\":16},\"showarrow\":false,\"text\":\"Z-DNA & miRNA\",\"x\":0.10625,\"xanchor\":\"center\",\"xref\":\"paper\",\"y\":1.0,\"yanchor\":\"bottom\",\"yref\":\"paper\",\"yshift\":20},{\"font\":{\"size\":16},\"showarrow\":false,\"text\":\"SIDD & miRNA\",\"x\":0.36875,\"xanchor\":\"center\",\"xref\":\"paper\",\"y\":1.0,\"yanchor\":\"bottom\",\"yref\":\"paper\",\"yshift\":20},{\"font\":{\"size\":16},\"showarrow\":false,\"text\":\"G4 & miRNA\",\"x\":0.6312500000000001,\"xanchor\":\"center\",\"xref\":\"paper\",\"y\":1.0,\"yanchor\":\"bottom\",\"yref\":\"paper\",\"yshift\":20},{\"font\":{\"size\":16},\"showarrow\":false,\"text\":\"H-DNA & miRNA\",\"x\":0.89375,\"xanchor\":\"center\",\"xref\":\"paper\",\"y\":1.0,\"yanchor\":\"bottom\",\"yref\":\"paper\",\"yshift\":20}],\"uniformtext\":{\"minsize\":10,\"mode\":\"hide\"},\"font\":{\"family\":\"monospace\",\"size\":12},\"height\":500,\"width\":1800},                        {\"responsive\": true}                    ).then(function(){\n",
              "                            \n",
              "var gd = document.getElementById('edf44e1f-c2ee-4876-b8ee-13d26a28594d');\n",
              "var x = new MutationObserver(function (mutations, observer) {{\n",
              "        var display = window.getComputedStyle(gd).display;\n",
              "        if (!display || display === 'none') {{\n",
              "            console.log([gd, 'removed!']);\n",
              "            Plotly.purge(gd);\n",
              "            observer.disconnect();\n",
              "        }}\n",
              "}});\n",
              "\n",
              "// Listen for the removal of the full notebook cells\n",
              "var notebookContainer = gd.closest('#notebook-container');\n",
              "if (notebookContainer) {{\n",
              "    x.observe(notebookContainer, {childList: true});\n",
              "}}\n",
              "\n",
              "// Listen for the clearing of the current output cell\n",
              "var outputEl = gd.closest('.output');\n",
              "if (outputEl) {{\n",
              "    x.observe(outputEl, {childList: true});\n",
              "}}\n",
              "\n",
              "                        })                };                });            </script>        </div>"
            ]
          },
          "metadata": {},
          "output_type": "display_data"
        },
        {
          "data": {
            "application/vnd.plotly.v1+json": {
              "config": {
                "plotlyServerURL": "https://plot.ly"
              },
              "data": [
                {
                  "direction": "clockwise",
                  "domain": {
                    "x": [
                      0,
                      0.2125
                    ],
                    "y": [
                      0,
                      1
                    ]
                  },
                  "hole": 0.35,
                  "hoverinfo": "label+percent+name",
                  "labels": [
                    "Promoter (<=1kb)",
                    "Promoter (1-2kb)",
                    "Promoter (2-3kb)",
                    "5' UTR",
                    "3' UTR",
                    "1st Exon",
                    "Other Exon",
                    "1st Intron",
                    "Other Intron",
                    "Downstream (<=300)",
                    "Distal Intergenic"
                  ],
                  "marker": {
                    "colors": [
                      "rgb(3, 35, 51)",
                      "rgb(13, 48, 100)",
                      "rgb(53, 50, 155)",
                      "rgb(93, 62, 153)",
                      "rgb(126, 77, 143)",
                      "rgb(158, 89, 135)",
                      "rgb(193, 100, 121)",
                      "rgb(225, 113, 97)",
                      "rgb(246, 139, 69)",
                      "rgb(251, 173, 60)",
                      "rgb(246, 211, 70)",
                      "rgb(231, 250, 90)"
                    ]
                  },
                  "name": "Z-DNA & SIDD(+-100p)",
                  "rotation": 0,
                  "sort": false,
                  "texttemplate": "%{value:.2f}%",
                  "type": "pie",
                  "values": [
                    20.0527704,
                    6.0686016,
                    4.0897098,
                    0,
                    0.9234828,
                    0.1319261,
                    0.9234828,
                    6.5963061,
                    19.3931398,
                    0.1319261,
                    41.6886544
                  ]
                },
                {
                  "direction": "clockwise",
                  "domain": {
                    "x": [
                      0.2625,
                      0.475
                    ],
                    "y": [
                      0,
                      1
                    ]
                  },
                  "hole": 0.35,
                  "hoverinfo": "label+percent+name",
                  "labels": [
                    "Promoter (<=1kb)",
                    "Promoter (1-2kb)",
                    "Promoter (2-3kb)",
                    "5' UTR",
                    "3' UTR",
                    "1st Exon",
                    "Other Exon",
                    "1st Intron",
                    "Other Intron",
                    "Downstream (<=300)",
                    "Distal Intergenic"
                  ],
                  "marker": {
                    "colors": [
                      "rgb(3, 35, 51)",
                      "rgb(13, 48, 100)",
                      "rgb(53, 50, 155)",
                      "rgb(93, 62, 153)",
                      "rgb(126, 77, 143)",
                      "rgb(158, 89, 135)",
                      "rgb(193, 100, 121)",
                      "rgb(225, 113, 97)",
                      "rgb(246, 139, 69)",
                      "rgb(251, 173, 60)",
                      "rgb(246, 211, 70)",
                      "rgb(231, 250, 90)"
                    ]
                  },
                  "name": "SIDD(+-100bp)",
                  "rotation": 0,
                  "sort": false,
                  "texttemplate": "%{value:.2f}%",
                  "type": "pie",
                  "values": [
                    7.20449791,
                    4.11218619,
                    3.47803347,
                    0.02615063,
                    0.96103556,
                    0.05230126,
                    0.8498954,
                    7.2960251,
                    18.05700837,
                    0.05883891,
                    57.9040272
                  ]
                },
                {
                  "direction": "clockwise",
                  "domain": {
                    "x": [
                      0.525,
                      0.7375
                    ],
                    "y": [
                      0,
                      1
                    ]
                  },
                  "hole": 0.35,
                  "hoverinfo": "label+percent+name",
                  "labels": [
                    "Promoter (<=1kb)",
                    "Promoter (1-2kb)",
                    "Promoter (2-3kb)",
                    "5' UTR",
                    "3' UTR",
                    "1st Exon",
                    "Other Exon",
                    "1st Intron",
                    "Other Intron",
                    "Downstream (<=300)",
                    "Distal Intergenic"
                  ],
                  "marker": {
                    "colors": [
                      "rgb(3, 35, 51)",
                      "rgb(13, 48, 100)",
                      "rgb(53, 50, 155)",
                      "rgb(93, 62, 153)",
                      "rgb(126, 77, 143)",
                      "rgb(158, 89, 135)",
                      "rgb(193, 100, 121)",
                      "rgb(225, 113, 97)",
                      "rgb(246, 139, 69)",
                      "rgb(251, 173, 60)",
                      "rgb(246, 211, 70)",
                      "rgb(231, 250, 90)"
                    ]
                  },
                  "name": "G4 & SIDD(+-100bp)",
                  "rotation": 0,
                  "sort": false,
                  "texttemplate": "%{value:.2f}%",
                  "type": "pie",
                  "values": [
                    6.7555556,
                    4.4888889,
                    3.3333333,
                    0,
                    0.7555556,
                    0,
                    0.1777778,
                    8.4444444,
                    19.8222222,
                    0,
                    56.2222222
                  ]
                },
                {
                  "direction": "clockwise",
                  "domain": {
                    "x": [
                      0.7875,
                      1
                    ],
                    "y": [
                      0,
                      1
                    ]
                  },
                  "hole": 0.35,
                  "hoverinfo": "label+percent+name",
                  "labels": [
                    "Promoter (<=1kb)",
                    "Promoter (1-2kb)",
                    "Promoter (2-3kb)",
                    "5' UTR",
                    "3' UTR",
                    "1st Exon",
                    "Other Exon",
                    "1st Intron",
                    "Other Intron",
                    "Downstream (<=300)",
                    "Distal Intergenic"
                  ],
                  "marker": {
                    "colors": [
                      "rgb(3, 35, 51)",
                      "rgb(13, 48, 100)",
                      "rgb(53, 50, 155)",
                      "rgb(93, 62, 153)",
                      "rgb(126, 77, 143)",
                      "rgb(158, 89, 135)",
                      "rgb(193, 100, 121)",
                      "rgb(225, 113, 97)",
                      "rgb(246, 139, 69)",
                      "rgb(251, 173, 60)",
                      "rgb(246, 211, 70)",
                      "rgb(231, 250, 90)"
                    ]
                  },
                  "name": "H-DNA & SIDD(+-100bp)",
                  "rotation": 0,
                  "sort": false,
                  "texttemplate": "%{value:.2f}%",
                  "type": "pie",
                  "values": [
                    10.16865079,
                    4.76190476,
                    2.77777778,
                    0,
                    0.99206349,
                    0,
                    0.24801587,
                    7.44047619,
                    20.08928571,
                    0.09920635,
                    53.42261905
                  ]
                }
              ],
              "layout": {
                "annotations": [
                  {
                    "font": {
                      "size": 16
                    },
                    "showarrow": false,
                    "text": "Z-DNA & SIDD(+-100p)",
                    "x": 0.10625,
                    "xanchor": "center",
                    "xref": "paper",
                    "y": 1,
                    "yanchor": "bottom",
                    "yref": "paper",
                    "yshift": 20
                  },
                  {
                    "font": {
                      "size": 16
                    },
                    "showarrow": false,
                    "text": "SIDD(+-100bp)",
                    "x": 0.36875,
                    "xanchor": "center",
                    "xref": "paper",
                    "y": 1,
                    "yanchor": "bottom",
                    "yref": "paper",
                    "yshift": 20
                  },
                  {
                    "font": {
                      "size": 16
                    },
                    "showarrow": false,
                    "text": "G4 & SIDD(+-100bp)",
                    "x": 0.6312500000000001,
                    "xanchor": "center",
                    "xref": "paper",
                    "y": 1,
                    "yanchor": "bottom",
                    "yref": "paper",
                    "yshift": 20
                  },
                  {
                    "font": {
                      "size": 16
                    },
                    "showarrow": false,
                    "text": "H-DNA & SIDD(+-100bp)",
                    "x": 0.89375,
                    "xanchor": "center",
                    "xref": "paper",
                    "y": 1,
                    "yanchor": "bottom",
                    "yref": "paper",
                    "yshift": 20
                  }
                ],
                "font": {
                  "family": "monospace",
                  "size": 12
                },
                "height": 500,
                "template": {
                  "data": {
                    "bar": [
                      {
                        "error_x": {
                          "color": "#2a3f5f"
                        },
                        "error_y": {
                          "color": "#2a3f5f"
                        },
                        "marker": {
                          "line": {
                            "color": "#E5ECF6",
                            "width": 0.5
                          },
                          "pattern": {
                            "fillmode": "overlay",
                            "size": 10,
                            "solidity": 0.2
                          }
                        },
                        "type": "bar"
                      }
                    ],
                    "barpolar": [
                      {
                        "marker": {
                          "line": {
                            "color": "#E5ECF6",
                            "width": 0.5
                          },
                          "pattern": {
                            "fillmode": "overlay",
                            "size": 10,
                            "solidity": 0.2
                          }
                        },
                        "type": "barpolar"
                      }
                    ],
                    "carpet": [
                      {
                        "aaxis": {
                          "endlinecolor": "#2a3f5f",
                          "gridcolor": "white",
                          "linecolor": "white",
                          "minorgridcolor": "white",
                          "startlinecolor": "#2a3f5f"
                        },
                        "baxis": {
                          "endlinecolor": "#2a3f5f",
                          "gridcolor": "white",
                          "linecolor": "white",
                          "minorgridcolor": "white",
                          "startlinecolor": "#2a3f5f"
                        },
                        "type": "carpet"
                      }
                    ],
                    "choropleth": [
                      {
                        "colorbar": {
                          "outlinewidth": 0,
                          "ticks": ""
                        },
                        "type": "choropleth"
                      }
                    ],
                    "contour": [
                      {
                        "colorbar": {
                          "outlinewidth": 0,
                          "ticks": ""
                        },
                        "colorscale": [
                          [
                            0,
                            "#0d0887"
                          ],
                          [
                            0.1111111111111111,
                            "#46039f"
                          ],
                          [
                            0.2222222222222222,
                            "#7201a8"
                          ],
                          [
                            0.3333333333333333,
                            "#9c179e"
                          ],
                          [
                            0.4444444444444444,
                            "#bd3786"
                          ],
                          [
                            0.5555555555555556,
                            "#d8576b"
                          ],
                          [
                            0.6666666666666666,
                            "#ed7953"
                          ],
                          [
                            0.7777777777777778,
                            "#fb9f3a"
                          ],
                          [
                            0.8888888888888888,
                            "#fdca26"
                          ],
                          [
                            1,
                            "#f0f921"
                          ]
                        ],
                        "type": "contour"
                      }
                    ],
                    "contourcarpet": [
                      {
                        "colorbar": {
                          "outlinewidth": 0,
                          "ticks": ""
                        },
                        "type": "contourcarpet"
                      }
                    ],
                    "heatmap": [
                      {
                        "colorbar": {
                          "outlinewidth": 0,
                          "ticks": ""
                        },
                        "colorscale": [
                          [
                            0,
                            "#0d0887"
                          ],
                          [
                            0.1111111111111111,
                            "#46039f"
                          ],
                          [
                            0.2222222222222222,
                            "#7201a8"
                          ],
                          [
                            0.3333333333333333,
                            "#9c179e"
                          ],
                          [
                            0.4444444444444444,
                            "#bd3786"
                          ],
                          [
                            0.5555555555555556,
                            "#d8576b"
                          ],
                          [
                            0.6666666666666666,
                            "#ed7953"
                          ],
                          [
                            0.7777777777777778,
                            "#fb9f3a"
                          ],
                          [
                            0.8888888888888888,
                            "#fdca26"
                          ],
                          [
                            1,
                            "#f0f921"
                          ]
                        ],
                        "type": "heatmap"
                      }
                    ],
                    "heatmapgl": [
                      {
                        "colorbar": {
                          "outlinewidth": 0,
                          "ticks": ""
                        },
                        "colorscale": [
                          [
                            0,
                            "#0d0887"
                          ],
                          [
                            0.1111111111111111,
                            "#46039f"
                          ],
                          [
                            0.2222222222222222,
                            "#7201a8"
                          ],
                          [
                            0.3333333333333333,
                            "#9c179e"
                          ],
                          [
                            0.4444444444444444,
                            "#bd3786"
                          ],
                          [
                            0.5555555555555556,
                            "#d8576b"
                          ],
                          [
                            0.6666666666666666,
                            "#ed7953"
                          ],
                          [
                            0.7777777777777778,
                            "#fb9f3a"
                          ],
                          [
                            0.8888888888888888,
                            "#fdca26"
                          ],
                          [
                            1,
                            "#f0f921"
                          ]
                        ],
                        "type": "heatmapgl"
                      }
                    ],
                    "histogram": [
                      {
                        "marker": {
                          "pattern": {
                            "fillmode": "overlay",
                            "size": 10,
                            "solidity": 0.2
                          }
                        },
                        "type": "histogram"
                      }
                    ],
                    "histogram2d": [
                      {
                        "colorbar": {
                          "outlinewidth": 0,
                          "ticks": ""
                        },
                        "colorscale": [
                          [
                            0,
                            "#0d0887"
                          ],
                          [
                            0.1111111111111111,
                            "#46039f"
                          ],
                          [
                            0.2222222222222222,
                            "#7201a8"
                          ],
                          [
                            0.3333333333333333,
                            "#9c179e"
                          ],
                          [
                            0.4444444444444444,
                            "#bd3786"
                          ],
                          [
                            0.5555555555555556,
                            "#d8576b"
                          ],
                          [
                            0.6666666666666666,
                            "#ed7953"
                          ],
                          [
                            0.7777777777777778,
                            "#fb9f3a"
                          ],
                          [
                            0.8888888888888888,
                            "#fdca26"
                          ],
                          [
                            1,
                            "#f0f921"
                          ]
                        ],
                        "type": "histogram2d"
                      }
                    ],
                    "histogram2dcontour": [
                      {
                        "colorbar": {
                          "outlinewidth": 0,
                          "ticks": ""
                        },
                        "colorscale": [
                          [
                            0,
                            "#0d0887"
                          ],
                          [
                            0.1111111111111111,
                            "#46039f"
                          ],
                          [
                            0.2222222222222222,
                            "#7201a8"
                          ],
                          [
                            0.3333333333333333,
                            "#9c179e"
                          ],
                          [
                            0.4444444444444444,
                            "#bd3786"
                          ],
                          [
                            0.5555555555555556,
                            "#d8576b"
                          ],
                          [
                            0.6666666666666666,
                            "#ed7953"
                          ],
                          [
                            0.7777777777777778,
                            "#fb9f3a"
                          ],
                          [
                            0.8888888888888888,
                            "#fdca26"
                          ],
                          [
                            1,
                            "#f0f921"
                          ]
                        ],
                        "type": "histogram2dcontour"
                      }
                    ],
                    "mesh3d": [
                      {
                        "colorbar": {
                          "outlinewidth": 0,
                          "ticks": ""
                        },
                        "type": "mesh3d"
                      }
                    ],
                    "parcoords": [
                      {
                        "line": {
                          "colorbar": {
                            "outlinewidth": 0,
                            "ticks": ""
                          }
                        },
                        "type": "parcoords"
                      }
                    ],
                    "pie": [
                      {
                        "automargin": true,
                        "type": "pie"
                      }
                    ],
                    "scatter": [
                      {
                        "fillpattern": {
                          "fillmode": "overlay",
                          "size": 10,
                          "solidity": 0.2
                        },
                        "type": "scatter"
                      }
                    ],
                    "scatter3d": [
                      {
                        "line": {
                          "colorbar": {
                            "outlinewidth": 0,
                            "ticks": ""
                          }
                        },
                        "marker": {
                          "colorbar": {
                            "outlinewidth": 0,
                            "ticks": ""
                          }
                        },
                        "type": "scatter3d"
                      }
                    ],
                    "scattercarpet": [
                      {
                        "marker": {
                          "colorbar": {
                            "outlinewidth": 0,
                            "ticks": ""
                          }
                        },
                        "type": "scattercarpet"
                      }
                    ],
                    "scattergeo": [
                      {
                        "marker": {
                          "colorbar": {
                            "outlinewidth": 0,
                            "ticks": ""
                          }
                        },
                        "type": "scattergeo"
                      }
                    ],
                    "scattergl": [
                      {
                        "marker": {
                          "colorbar": {
                            "outlinewidth": 0,
                            "ticks": ""
                          }
                        },
                        "type": "scattergl"
                      }
                    ],
                    "scattermapbox": [
                      {
                        "marker": {
                          "colorbar": {
                            "outlinewidth": 0,
                            "ticks": ""
                          }
                        },
                        "type": "scattermapbox"
                      }
                    ],
                    "scatterpolar": [
                      {
                        "marker": {
                          "colorbar": {
                            "outlinewidth": 0,
                            "ticks": ""
                          }
                        },
                        "type": "scatterpolar"
                      }
                    ],
                    "scatterpolargl": [
                      {
                        "marker": {
                          "colorbar": {
                            "outlinewidth": 0,
                            "ticks": ""
                          }
                        },
                        "type": "scatterpolargl"
                      }
                    ],
                    "scatterternary": [
                      {
                        "marker": {
                          "colorbar": {
                            "outlinewidth": 0,
                            "ticks": ""
                          }
                        },
                        "type": "scatterternary"
                      }
                    ],
                    "surface": [
                      {
                        "colorbar": {
                          "outlinewidth": 0,
                          "ticks": ""
                        },
                        "colorscale": [
                          [
                            0,
                            "#0d0887"
                          ],
                          [
                            0.1111111111111111,
                            "#46039f"
                          ],
                          [
                            0.2222222222222222,
                            "#7201a8"
                          ],
                          [
                            0.3333333333333333,
                            "#9c179e"
                          ],
                          [
                            0.4444444444444444,
                            "#bd3786"
                          ],
                          [
                            0.5555555555555556,
                            "#d8576b"
                          ],
                          [
                            0.6666666666666666,
                            "#ed7953"
                          ],
                          [
                            0.7777777777777778,
                            "#fb9f3a"
                          ],
                          [
                            0.8888888888888888,
                            "#fdca26"
                          ],
                          [
                            1,
                            "#f0f921"
                          ]
                        ],
                        "type": "surface"
                      }
                    ],
                    "table": [
                      {
                        "cells": {
                          "fill": {
                            "color": "#EBF0F8"
                          },
                          "line": {
                            "color": "white"
                          }
                        },
                        "header": {
                          "fill": {
                            "color": "#C8D4E3"
                          },
                          "line": {
                            "color": "white"
                          }
                        },
                        "type": "table"
                      }
                    ]
                  },
                  "layout": {
                    "annotationdefaults": {
                      "arrowcolor": "#2a3f5f",
                      "arrowhead": 0,
                      "arrowwidth": 1
                    },
                    "autotypenumbers": "strict",
                    "coloraxis": {
                      "colorbar": {
                        "outlinewidth": 0,
                        "ticks": ""
                      }
                    },
                    "colorscale": {
                      "diverging": [
                        [
                          0,
                          "#8e0152"
                        ],
                        [
                          0.1,
                          "#c51b7d"
                        ],
                        [
                          0.2,
                          "#de77ae"
                        ],
                        [
                          0.3,
                          "#f1b6da"
                        ],
                        [
                          0.4,
                          "#fde0ef"
                        ],
                        [
                          0.5,
                          "#f7f7f7"
                        ],
                        [
                          0.6,
                          "#e6f5d0"
                        ],
                        [
                          0.7,
                          "#b8e186"
                        ],
                        [
                          0.8,
                          "#7fbc41"
                        ],
                        [
                          0.9,
                          "#4d9221"
                        ],
                        [
                          1,
                          "#276419"
                        ]
                      ],
                      "sequential": [
                        [
                          0,
                          "#0d0887"
                        ],
                        [
                          0.1111111111111111,
                          "#46039f"
                        ],
                        [
                          0.2222222222222222,
                          "#7201a8"
                        ],
                        [
                          0.3333333333333333,
                          "#9c179e"
                        ],
                        [
                          0.4444444444444444,
                          "#bd3786"
                        ],
                        [
                          0.5555555555555556,
                          "#d8576b"
                        ],
                        [
                          0.6666666666666666,
                          "#ed7953"
                        ],
                        [
                          0.7777777777777778,
                          "#fb9f3a"
                        ],
                        [
                          0.8888888888888888,
                          "#fdca26"
                        ],
                        [
                          1,
                          "#f0f921"
                        ]
                      ],
                      "sequentialminus": [
                        [
                          0,
                          "#0d0887"
                        ],
                        [
                          0.1111111111111111,
                          "#46039f"
                        ],
                        [
                          0.2222222222222222,
                          "#7201a8"
                        ],
                        [
                          0.3333333333333333,
                          "#9c179e"
                        ],
                        [
                          0.4444444444444444,
                          "#bd3786"
                        ],
                        [
                          0.5555555555555556,
                          "#d8576b"
                        ],
                        [
                          0.6666666666666666,
                          "#ed7953"
                        ],
                        [
                          0.7777777777777778,
                          "#fb9f3a"
                        ],
                        [
                          0.8888888888888888,
                          "#fdca26"
                        ],
                        [
                          1,
                          "#f0f921"
                        ]
                      ]
                    },
                    "colorway": [
                      "#636efa",
                      "#EF553B",
                      "#00cc96",
                      "#ab63fa",
                      "#FFA15A",
                      "#19d3f3",
                      "#FF6692",
                      "#B6E880",
                      "#FF97FF",
                      "#FECB52"
                    ],
                    "font": {
                      "color": "#2a3f5f"
                    },
                    "geo": {
                      "bgcolor": "white",
                      "lakecolor": "white",
                      "landcolor": "#E5ECF6",
                      "showlakes": true,
                      "showland": true,
                      "subunitcolor": "white"
                    },
                    "hoverlabel": {
                      "align": "left"
                    },
                    "hovermode": "closest",
                    "mapbox": {
                      "style": "light"
                    },
                    "paper_bgcolor": "white",
                    "plot_bgcolor": "#E5ECF6",
                    "polar": {
                      "angularaxis": {
                        "gridcolor": "white",
                        "linecolor": "white",
                        "ticks": ""
                      },
                      "bgcolor": "#E5ECF6",
                      "radialaxis": {
                        "gridcolor": "white",
                        "linecolor": "white",
                        "ticks": ""
                      }
                    },
                    "scene": {
                      "xaxis": {
                        "backgroundcolor": "#E5ECF6",
                        "gridcolor": "white",
                        "gridwidth": 2,
                        "linecolor": "white",
                        "showbackground": true,
                        "ticks": "",
                        "zerolinecolor": "white"
                      },
                      "yaxis": {
                        "backgroundcolor": "#E5ECF6",
                        "gridcolor": "white",
                        "gridwidth": 2,
                        "linecolor": "white",
                        "showbackground": true,
                        "ticks": "",
                        "zerolinecolor": "white"
                      },
                      "zaxis": {
                        "backgroundcolor": "#E5ECF6",
                        "gridcolor": "white",
                        "gridwidth": 2,
                        "linecolor": "white",
                        "showbackground": true,
                        "ticks": "",
                        "zerolinecolor": "white"
                      }
                    },
                    "shapedefaults": {
                      "line": {
                        "color": "#2a3f5f"
                      }
                    },
                    "ternary": {
                      "aaxis": {
                        "gridcolor": "white",
                        "linecolor": "white",
                        "ticks": ""
                      },
                      "baxis": {
                        "gridcolor": "white",
                        "linecolor": "white",
                        "ticks": ""
                      },
                      "bgcolor": "#E5ECF6",
                      "caxis": {
                        "gridcolor": "white",
                        "linecolor": "white",
                        "ticks": ""
                      }
                    },
                    "title": {
                      "x": 0.05
                    },
                    "xaxis": {
                      "automargin": true,
                      "gridcolor": "white",
                      "linecolor": "white",
                      "ticks": "",
                      "title": {
                        "standoff": 15
                      },
                      "zerolinecolor": "white",
                      "zerolinewidth": 2
                    },
                    "yaxis": {
                      "automargin": true,
                      "gridcolor": "white",
                      "linecolor": "white",
                      "ticks": "",
                      "title": {
                        "standoff": 15
                      },
                      "zerolinecolor": "white",
                      "zerolinewidth": 2
                    }
                  }
                },
                "uniformtext": {
                  "minsize": 10,
                  "mode": "hide"
                },
                "width": 1800
              }
            },
            "text/html": [
              "<div>                            <div id=\"00a9a72d-bb91-4315-98ec-a71e6c42d48b\" class=\"plotly-graph-div\" style=\"height:500px; width:1800px;\"></div>            <script type=\"text/javascript\">                require([\"plotly\"], function(Plotly) {                    window.PLOTLYENV=window.PLOTLYENV || {};                                    if (document.getElementById(\"00a9a72d-bb91-4315-98ec-a71e6c42d48b\")) {                    Plotly.newPlot(                        \"00a9a72d-bb91-4315-98ec-a71e6c42d48b\",                        [{\"direction\":\"clockwise\",\"labels\":[\"Promoter (<=1kb)\",\"Promoter (1-2kb)\",\"Promoter (2-3kb)\",\"5' UTR\",\"3' UTR\",\"1st Exon\",\"Other Exon\",\"1st Intron\",\"Other Intron\",\"Downstream (<=300)\",\"Distal Intergenic\"],\"marker\":{\"colors\":[\"rgb(3, 35, 51)\",\"rgb(13, 48, 100)\",\"rgb(53, 50, 155)\",\"rgb(93, 62, 153)\",\"rgb(126, 77, 143)\",\"rgb(158, 89, 135)\",\"rgb(193, 100, 121)\",\"rgb(225, 113, 97)\",\"rgb(246, 139, 69)\",\"rgb(251, 173, 60)\",\"rgb(246, 211, 70)\",\"rgb(231, 250, 90)\"]},\"name\":\"Z-DNA & SIDD(+-100p)\",\"rotation\":0,\"sort\":false,\"values\":[20.0527704,6.0686016,4.0897098,0,0.9234828,0.1319261,0.9234828,6.5963061,19.3931398,0.1319261,41.6886544],\"type\":\"pie\",\"domain\":{\"x\":[0.0,0.2125],\"y\":[0.0,1.0]},\"hole\":0.35,\"hoverinfo\":\"label+percent+name\",\"texttemplate\":\"%{value:.2f}%\"},{\"direction\":\"clockwise\",\"labels\":[\"Promoter (<=1kb)\",\"Promoter (1-2kb)\",\"Promoter (2-3kb)\",\"5' UTR\",\"3' UTR\",\"1st Exon\",\"Other Exon\",\"1st Intron\",\"Other Intron\",\"Downstream (<=300)\",\"Distal Intergenic\"],\"marker\":{\"colors\":[\"rgb(3, 35, 51)\",\"rgb(13, 48, 100)\",\"rgb(53, 50, 155)\",\"rgb(93, 62, 153)\",\"rgb(126, 77, 143)\",\"rgb(158, 89, 135)\",\"rgb(193, 100, 121)\",\"rgb(225, 113, 97)\",\"rgb(246, 139, 69)\",\"rgb(251, 173, 60)\",\"rgb(246, 211, 70)\",\"rgb(231, 250, 90)\"]},\"name\":\"SIDD(+-100bp)\",\"rotation\":0,\"sort\":false,\"values\":[7.20449791,4.11218619,3.47803347,0.02615063,0.96103556,0.05230126,0.8498954,7.2960251,18.05700837,0.05883891,57.9040272],\"type\":\"pie\",\"domain\":{\"x\":[0.2625,0.475],\"y\":[0.0,1.0]},\"hole\":0.35,\"hoverinfo\":\"label+percent+name\",\"texttemplate\":\"%{value:.2f}%\"},{\"direction\":\"clockwise\",\"labels\":[\"Promoter (<=1kb)\",\"Promoter (1-2kb)\",\"Promoter (2-3kb)\",\"5' UTR\",\"3' UTR\",\"1st Exon\",\"Other Exon\",\"1st Intron\",\"Other Intron\",\"Downstream (<=300)\",\"Distal Intergenic\"],\"marker\":{\"colors\":[\"rgb(3, 35, 51)\",\"rgb(13, 48, 100)\",\"rgb(53, 50, 155)\",\"rgb(93, 62, 153)\",\"rgb(126, 77, 143)\",\"rgb(158, 89, 135)\",\"rgb(193, 100, 121)\",\"rgb(225, 113, 97)\",\"rgb(246, 139, 69)\",\"rgb(251, 173, 60)\",\"rgb(246, 211, 70)\",\"rgb(231, 250, 90)\"]},\"name\":\"G4 & SIDD(+-100bp)\",\"rotation\":0,\"sort\":false,\"values\":[6.7555556,4.4888889,3.3333333,0,0.7555556,0,0.1777778,8.4444444,19.8222222,0,56.2222222],\"type\":\"pie\",\"domain\":{\"x\":[0.525,0.7375],\"y\":[0.0,1.0]},\"hole\":0.35,\"hoverinfo\":\"label+percent+name\",\"texttemplate\":\"%{value:.2f}%\"},{\"direction\":\"clockwise\",\"labels\":[\"Promoter (<=1kb)\",\"Promoter (1-2kb)\",\"Promoter (2-3kb)\",\"5' UTR\",\"3' UTR\",\"1st Exon\",\"Other Exon\",\"1st Intron\",\"Other Intron\",\"Downstream (<=300)\",\"Distal Intergenic\"],\"marker\":{\"colors\":[\"rgb(3, 35, 51)\",\"rgb(13, 48, 100)\",\"rgb(53, 50, 155)\",\"rgb(93, 62, 153)\",\"rgb(126, 77, 143)\",\"rgb(158, 89, 135)\",\"rgb(193, 100, 121)\",\"rgb(225, 113, 97)\",\"rgb(246, 139, 69)\",\"rgb(251, 173, 60)\",\"rgb(246, 211, 70)\",\"rgb(231, 250, 90)\"]},\"name\":\"H-DNA & SIDD(+-100bp)\",\"rotation\":0,\"sort\":false,\"values\":[10.16865079,4.76190476,2.77777778,0,0.99206349,0,0.24801587,7.44047619,20.08928571,0.09920635,53.42261905],\"type\":\"pie\",\"domain\":{\"x\":[0.7875,1.0],\"y\":[0.0,1.0]},\"hole\":0.35,\"hoverinfo\":\"label+percent+name\",\"texttemplate\":\"%{value:.2f}%\"}],                        {\"template\":{\"data\":{\"histogram2dcontour\":[{\"type\":\"histogram2dcontour\",\"colorbar\":{\"outlinewidth\":0,\"ticks\":\"\"},\"colorscale\":[[0.0,\"#0d0887\"],[0.1111111111111111,\"#46039f\"],[0.2222222222222222,\"#7201a8\"],[0.3333333333333333,\"#9c179e\"],[0.4444444444444444,\"#bd3786\"],[0.5555555555555556,\"#d8576b\"],[0.6666666666666666,\"#ed7953\"],[0.7777777777777778,\"#fb9f3a\"],[0.8888888888888888,\"#fdca26\"],[1.0,\"#f0f921\"]]}],\"choropleth\":[{\"type\":\"choropleth\",\"colorbar\":{\"outlinewidth\":0,\"ticks\":\"\"}}],\"histogram2d\":[{\"type\":\"histogram2d\",\"colorbar\":{\"outlinewidth\":0,\"ticks\":\"\"},\"colorscale\":[[0.0,\"#0d0887\"],[0.1111111111111111,\"#46039f\"],[0.2222222222222222,\"#7201a8\"],[0.3333333333333333,\"#9c179e\"],[0.4444444444444444,\"#bd3786\"],[0.5555555555555556,\"#d8576b\"],[0.6666666666666666,\"#ed7953\"],[0.7777777777777778,\"#fb9f3a\"],[0.8888888888888888,\"#fdca26\"],[1.0,\"#f0f921\"]]}],\"heatmap\":[{\"type\":\"heatmap\",\"colorbar\":{\"outlinewidth\":0,\"ticks\":\"\"},\"colorscale\":[[0.0,\"#0d0887\"],[0.1111111111111111,\"#46039f\"],[0.2222222222222222,\"#7201a8\"],[0.3333333333333333,\"#9c179e\"],[0.4444444444444444,\"#bd3786\"],[0.5555555555555556,\"#d8576b\"],[0.6666666666666666,\"#ed7953\"],[0.7777777777777778,\"#fb9f3a\"],[0.8888888888888888,\"#fdca26\"],[1.0,\"#f0f921\"]]}],\"heatmapgl\":[{\"type\":\"heatmapgl\",\"colorbar\":{\"outlinewidth\":0,\"ticks\":\"\"},\"colorscale\":[[0.0,\"#0d0887\"],[0.1111111111111111,\"#46039f\"],[0.2222222222222222,\"#7201a8\"],[0.3333333333333333,\"#9c179e\"],[0.4444444444444444,\"#bd3786\"],[0.5555555555555556,\"#d8576b\"],[0.6666666666666666,\"#ed7953\"],[0.7777777777777778,\"#fb9f3a\"],[0.8888888888888888,\"#fdca26\"],[1.0,\"#f0f921\"]]}],\"contourcarpet\":[{\"type\":\"contourcarpet\",\"colorbar\":{\"outlinewidth\":0,\"ticks\":\"\"}}],\"contour\":[{\"type\":\"contour\",\"colorbar\":{\"outlinewidth\":0,\"ticks\":\"\"},\"colorscale\":[[0.0,\"#0d0887\"],[0.1111111111111111,\"#46039f\"],[0.2222222222222222,\"#7201a8\"],[0.3333333333333333,\"#9c179e\"],[0.4444444444444444,\"#bd3786\"],[0.5555555555555556,\"#d8576b\"],[0.6666666666666666,\"#ed7953\"],[0.7777777777777778,\"#fb9f3a\"],[0.8888888888888888,\"#fdca26\"],[1.0,\"#f0f921\"]]}],\"surface\":[{\"type\":\"surface\",\"colorbar\":{\"outlinewidth\":0,\"ticks\":\"\"},\"colorscale\":[[0.0,\"#0d0887\"],[0.1111111111111111,\"#46039f\"],[0.2222222222222222,\"#7201a8\"],[0.3333333333333333,\"#9c179e\"],[0.4444444444444444,\"#bd3786\"],[0.5555555555555556,\"#d8576b\"],[0.6666666666666666,\"#ed7953\"],[0.7777777777777778,\"#fb9f3a\"],[0.8888888888888888,\"#fdca26\"],[1.0,\"#f0f921\"]]}],\"mesh3d\":[{\"type\":\"mesh3d\",\"colorbar\":{\"outlinewidth\":0,\"ticks\":\"\"}}],\"scatter\":[{\"fillpattern\":{\"fillmode\":\"overlay\",\"size\":10,\"solidity\":0.2},\"type\":\"scatter\"}],\"parcoords\":[{\"type\":\"parcoords\",\"line\":{\"colorbar\":{\"outlinewidth\":0,\"ticks\":\"\"}}}],\"scatterpolargl\":[{\"type\":\"scatterpolargl\",\"marker\":{\"colorbar\":{\"outlinewidth\":0,\"ticks\":\"\"}}}],\"bar\":[{\"error_x\":{\"color\":\"#2a3f5f\"},\"error_y\":{\"color\":\"#2a3f5f\"},\"marker\":{\"line\":{\"color\":\"#E5ECF6\",\"width\":0.5},\"pattern\":{\"fillmode\":\"overlay\",\"size\":10,\"solidity\":0.2}},\"type\":\"bar\"}],\"scattergeo\":[{\"type\":\"scattergeo\",\"marker\":{\"colorbar\":{\"outlinewidth\":0,\"ticks\":\"\"}}}],\"scatterpolar\":[{\"type\":\"scatterpolar\",\"marker\":{\"colorbar\":{\"outlinewidth\":0,\"ticks\":\"\"}}}],\"histogram\":[{\"marker\":{\"pattern\":{\"fillmode\":\"overlay\",\"size\":10,\"solidity\":0.2}},\"type\":\"histogram\"}],\"scattergl\":[{\"type\":\"scattergl\",\"marker\":{\"colorbar\":{\"outlinewidth\":0,\"ticks\":\"\"}}}],\"scatter3d\":[{\"type\":\"scatter3d\",\"line\":{\"colorbar\":{\"outlinewidth\":0,\"ticks\":\"\"}},\"marker\":{\"colorbar\":{\"outlinewidth\":0,\"ticks\":\"\"}}}],\"scattermapbox\":[{\"type\":\"scattermapbox\",\"marker\":{\"colorbar\":{\"outlinewidth\":0,\"ticks\":\"\"}}}],\"scatterternary\":[{\"type\":\"scatterternary\",\"marker\":{\"colorbar\":{\"outlinewidth\":0,\"ticks\":\"\"}}}],\"scattercarpet\":[{\"type\":\"scattercarpet\",\"marker\":{\"colorbar\":{\"outlinewidth\":0,\"ticks\":\"\"}}}],\"carpet\":[{\"aaxis\":{\"endlinecolor\":\"#2a3f5f\",\"gridcolor\":\"white\",\"linecolor\":\"white\",\"minorgridcolor\":\"white\",\"startlinecolor\":\"#2a3f5f\"},\"baxis\":{\"endlinecolor\":\"#2a3f5f\",\"gridcolor\":\"white\",\"linecolor\":\"white\",\"minorgridcolor\":\"white\",\"startlinecolor\":\"#2a3f5f\"},\"type\":\"carpet\"}],\"table\":[{\"cells\":{\"fill\":{\"color\":\"#EBF0F8\"},\"line\":{\"color\":\"white\"}},\"header\":{\"fill\":{\"color\":\"#C8D4E3\"},\"line\":{\"color\":\"white\"}},\"type\":\"table\"}],\"barpolar\":[{\"marker\":{\"line\":{\"color\":\"#E5ECF6\",\"width\":0.5},\"pattern\":{\"fillmode\":\"overlay\",\"size\":10,\"solidity\":0.2}},\"type\":\"barpolar\"}],\"pie\":[{\"automargin\":true,\"type\":\"pie\"}]},\"layout\":{\"autotypenumbers\":\"strict\",\"colorway\":[\"#636efa\",\"#EF553B\",\"#00cc96\",\"#ab63fa\",\"#FFA15A\",\"#19d3f3\",\"#FF6692\",\"#B6E880\",\"#FF97FF\",\"#FECB52\"],\"font\":{\"color\":\"#2a3f5f\"},\"hovermode\":\"closest\",\"hoverlabel\":{\"align\":\"left\"},\"paper_bgcolor\":\"white\",\"plot_bgcolor\":\"#E5ECF6\",\"polar\":{\"bgcolor\":\"#E5ECF6\",\"angularaxis\":{\"gridcolor\":\"white\",\"linecolor\":\"white\",\"ticks\":\"\"},\"radialaxis\":{\"gridcolor\":\"white\",\"linecolor\":\"white\",\"ticks\":\"\"}},\"ternary\":{\"bgcolor\":\"#E5ECF6\",\"aaxis\":{\"gridcolor\":\"white\",\"linecolor\":\"white\",\"ticks\":\"\"},\"baxis\":{\"gridcolor\":\"white\",\"linecolor\":\"white\",\"ticks\":\"\"},\"caxis\":{\"gridcolor\":\"white\",\"linecolor\":\"white\",\"ticks\":\"\"}},\"coloraxis\":{\"colorbar\":{\"outlinewidth\":0,\"ticks\":\"\"}},\"colorscale\":{\"sequential\":[[0.0,\"#0d0887\"],[0.1111111111111111,\"#46039f\"],[0.2222222222222222,\"#7201a8\"],[0.3333333333333333,\"#9c179e\"],[0.4444444444444444,\"#bd3786\"],[0.5555555555555556,\"#d8576b\"],[0.6666666666666666,\"#ed7953\"],[0.7777777777777778,\"#fb9f3a\"],[0.8888888888888888,\"#fdca26\"],[1.0,\"#f0f921\"]],\"sequentialminus\":[[0.0,\"#0d0887\"],[0.1111111111111111,\"#46039f\"],[0.2222222222222222,\"#7201a8\"],[0.3333333333333333,\"#9c179e\"],[0.4444444444444444,\"#bd3786\"],[0.5555555555555556,\"#d8576b\"],[0.6666666666666666,\"#ed7953\"],[0.7777777777777778,\"#fb9f3a\"],[0.8888888888888888,\"#fdca26\"],[1.0,\"#f0f921\"]],\"diverging\":[[0,\"#8e0152\"],[0.1,\"#c51b7d\"],[0.2,\"#de77ae\"],[0.3,\"#f1b6da\"],[0.4,\"#fde0ef\"],[0.5,\"#f7f7f7\"],[0.6,\"#e6f5d0\"],[0.7,\"#b8e186\"],[0.8,\"#7fbc41\"],[0.9,\"#4d9221\"],[1,\"#276419\"]]},\"xaxis\":{\"gridcolor\":\"white\",\"linecolor\":\"white\",\"ticks\":\"\",\"title\":{\"standoff\":15},\"zerolinecolor\":\"white\",\"automargin\":true,\"zerolinewidth\":2},\"yaxis\":{\"gridcolor\":\"white\",\"linecolor\":\"white\",\"ticks\":\"\",\"title\":{\"standoff\":15},\"zerolinecolor\":\"white\",\"automargin\":true,\"zerolinewidth\":2},\"scene\":{\"xaxis\":{\"backgroundcolor\":\"#E5ECF6\",\"gridcolor\":\"white\",\"linecolor\":\"white\",\"showbackground\":true,\"ticks\":\"\",\"zerolinecolor\":\"white\",\"gridwidth\":2},\"yaxis\":{\"backgroundcolor\":\"#E5ECF6\",\"gridcolor\":\"white\",\"linecolor\":\"white\",\"showbackground\":true,\"ticks\":\"\",\"zerolinecolor\":\"white\",\"gridwidth\":2},\"zaxis\":{\"backgroundcolor\":\"#E5ECF6\",\"gridcolor\":\"white\",\"linecolor\":\"white\",\"showbackground\":true,\"ticks\":\"\",\"zerolinecolor\":\"white\",\"gridwidth\":2}},\"shapedefaults\":{\"line\":{\"color\":\"#2a3f5f\"}},\"annotationdefaults\":{\"arrowcolor\":\"#2a3f5f\",\"arrowhead\":0,\"arrowwidth\":1},\"geo\":{\"bgcolor\":\"white\",\"landcolor\":\"#E5ECF6\",\"subunitcolor\":\"white\",\"showland\":true,\"showlakes\":true,\"lakecolor\":\"white\"},\"title\":{\"x\":0.05},\"mapbox\":{\"style\":\"light\"}}},\"annotations\":[{\"font\":{\"size\":16},\"showarrow\":false,\"text\":\"Z-DNA & SIDD(+-100p)\",\"x\":0.10625,\"xanchor\":\"center\",\"xref\":\"paper\",\"y\":1.0,\"yanchor\":\"bottom\",\"yref\":\"paper\",\"yshift\":20},{\"font\":{\"size\":16},\"showarrow\":false,\"text\":\"SIDD(+-100bp)\",\"x\":0.36875,\"xanchor\":\"center\",\"xref\":\"paper\",\"y\":1.0,\"yanchor\":\"bottom\",\"yref\":\"paper\",\"yshift\":20},{\"font\":{\"size\":16},\"showarrow\":false,\"text\":\"G4 & SIDD(+-100bp)\",\"x\":0.6312500000000001,\"xanchor\":\"center\",\"xref\":\"paper\",\"y\":1.0,\"yanchor\":\"bottom\",\"yref\":\"paper\",\"yshift\":20},{\"font\":{\"size\":16},\"showarrow\":false,\"text\":\"H-DNA & SIDD(+-100bp)\",\"x\":0.89375,\"xanchor\":\"center\",\"xref\":\"paper\",\"y\":1.0,\"yanchor\":\"bottom\",\"yref\":\"paper\",\"yshift\":20}],\"uniformtext\":{\"minsize\":10,\"mode\":\"hide\"},\"font\":{\"family\":\"monospace\",\"size\":12},\"height\":500,\"width\":1800},                        {\"responsive\": true}                    ).then(function(){\n",
              "                            \n",
              "var gd = document.getElementById('00a9a72d-bb91-4315-98ec-a71e6c42d48b');\n",
              "var x = new MutationObserver(function (mutations, observer) {{\n",
              "        var display = window.getComputedStyle(gd).display;\n",
              "        if (!display || display === 'none') {{\n",
              "            console.log([gd, 'removed!']);\n",
              "            Plotly.purge(gd);\n",
              "            observer.disconnect();\n",
              "        }}\n",
              "}});\n",
              "\n",
              "// Listen for the removal of the full notebook cells\n",
              "var notebookContainer = gd.closest('#notebook-container');\n",
              "if (notebookContainer) {{\n",
              "    x.observe(notebookContainer, {childList: true});\n",
              "}}\n",
              "\n",
              "// Listen for the clearing of the current output cell\n",
              "var outputEl = gd.closest('.output');\n",
              "if (outputEl) {{\n",
              "    x.observe(outputEl, {childList: true});\n",
              "}}\n",
              "\n",
              "                        })                };                });            </script>        </div>"
            ]
          },
          "metadata": {},
          "output_type": "display_data"
        },
        {
          "data": {
            "application/vnd.plotly.v1+json": {
              "config": {
                "plotlyServerURL": "https://plot.ly"
              },
              "data": [
                {
                  "direction": "clockwise",
                  "domain": {
                    "x": [
                      0,
                      0.2125
                    ],
                    "y": [
                      0,
                      1
                    ]
                  },
                  "hole": 0.35,
                  "hoverinfo": "label+percent+name",
                  "labels": [
                    "Promoter (<=1kb)",
                    "Promoter (1-2kb)",
                    "Promoter (2-3kb)",
                    "5' UTR",
                    "3' UTR",
                    "1st Exon",
                    "Other Exon",
                    "1st Intron",
                    "Other Intron",
                    "Downstream (<=300)",
                    "Distal Intergenic"
                  ],
                  "marker": {
                    "colors": [
                      "rgb(3, 35, 51)",
                      "rgb(13, 48, 100)",
                      "rgb(53, 50, 155)",
                      "rgb(93, 62, 153)",
                      "rgb(126, 77, 143)",
                      "rgb(158, 89, 135)",
                      "rgb(193, 100, 121)",
                      "rgb(225, 113, 97)",
                      "rgb(246, 139, 69)",
                      "rgb(251, 173, 60)",
                      "rgb(246, 211, 70)",
                      "rgb(231, 250, 90)"
                    ]
                  },
                  "name": "Z-DNA & SIDD(+-200bp)",
                  "rotation": 0,
                  "sort": false,
                  "texttemplate": "%{value:.2f}%",
                  "type": "pie",
                  "values": [
                    23.6347359,
                    6.26678603,
                    3.67054611,
                    0.08952551,
                    0.98478066,
                    0.08952551,
                    1.07430618,
                    6.17726052,
                    18.53178156,
                    0.08952551,
                    39.3912265
                  ]
                },
                {
                  "direction": "clockwise",
                  "domain": {
                    "x": [
                      0.2625,
                      0.475
                    ],
                    "y": [
                      0,
                      1
                    ]
                  },
                  "hole": 0.35,
                  "hoverinfo": "label+percent+name",
                  "labels": [
                    "Promoter (<=1kb)",
                    "Promoter (1-2kb)",
                    "Promoter (2-3kb)",
                    "5' UTR",
                    "3' UTR",
                    "1st Exon",
                    "Other Exon",
                    "1st Intron",
                    "Other Intron",
                    "Downstream (<=300)",
                    "Distal Intergenic"
                  ],
                  "marker": {
                    "colors": [
                      "rgb(3, 35, 51)",
                      "rgb(13, 48, 100)",
                      "rgb(53, 50, 155)",
                      "rgb(93, 62, 153)",
                      "rgb(126, 77, 143)",
                      "rgb(158, 89, 135)",
                      "rgb(193, 100, 121)",
                      "rgb(225, 113, 97)",
                      "rgb(246, 139, 69)",
                      "rgb(251, 173, 60)",
                      "rgb(246, 211, 70)",
                      "rgb(231, 250, 90)"
                    ]
                  },
                  "name": "SIDD(+-200bp)",
                  "rotation": 0,
                  "sort": false,
                  "texttemplate": "%{value:.2f}%",
                  "type": "pie",
                  "values": [
                    7.64252092,
                    3.98797071,
                    3.53687238,
                    0.03268828,
                    1.01987448,
                    0.05230126,
                    1.26830544,
                    7.21757322,
                    17.54053347,
                    0.06537657,
                    57.63598326
                  ]
                },
                {
                  "direction": "clockwise",
                  "domain": {
                    "x": [
                      0.525,
                      0.7375
                    ],
                    "y": [
                      0,
                      1
                    ]
                  },
                  "hole": 0.35,
                  "hoverinfo": "label+percent+name",
                  "labels": [
                    "Promoter (<=1kb)",
                    "Promoter (1-2kb)",
                    "Promoter (2-3kb)",
                    "5' UTR",
                    "3' UTR",
                    "1st Exon",
                    "Other Exon",
                    "1st Intron",
                    "Other Intron",
                    "Downstream (<=300)",
                    "Distal Intergenic"
                  ],
                  "marker": {
                    "colors": [
                      "rgb(3, 35, 51)",
                      "rgb(13, 48, 100)",
                      "rgb(53, 50, 155)",
                      "rgb(93, 62, 153)",
                      "rgb(126, 77, 143)",
                      "rgb(158, 89, 135)",
                      "rgb(193, 100, 121)",
                      "rgb(225, 113, 97)",
                      "rgb(246, 139, 69)",
                      "rgb(251, 173, 60)",
                      "rgb(246, 211, 70)",
                      "rgb(231, 250, 90)"
                    ]
                  },
                  "name": "G4 & SIDD(+-200bp)",
                  "rotation": 0,
                  "sort": false,
                  "texttemplate": "%{value:.2f}%",
                  "type": "pie",
                  "values": [
                    9.5106551,
                    4.8539858,
                    3.5911602,
                    0,
                    1.0260458,
                    0,
                    0.1973165,
                    7.8926598,
                    19.1002368,
                    0.0394633,
                    53.7884767
                  ]
                },
                {
                  "direction": "clockwise",
                  "domain": {
                    "x": [
                      0.7875,
                      1
                    ],
                    "y": [
                      0,
                      1
                    ]
                  },
                  "hole": 0.35,
                  "hoverinfo": "label+percent+name",
                  "labels": [
                    "Promoter (<=1kb)",
                    "Promoter (1-2kb)",
                    "Promoter (2-3kb)",
                    "5' UTR",
                    "3' UTR",
                    "1st Exon",
                    "Other Exon",
                    "1st Intron",
                    "Other Intron",
                    "Downstream (<=300)",
                    "Distal Intergenic"
                  ],
                  "marker": {
                    "colors": [
                      "rgb(3, 35, 51)",
                      "rgb(13, 48, 100)",
                      "rgb(53, 50, 155)",
                      "rgb(93, 62, 153)",
                      "rgb(126, 77, 143)",
                      "rgb(158, 89, 135)",
                      "rgb(193, 100, 121)",
                      "rgb(225, 113, 97)",
                      "rgb(246, 139, 69)",
                      "rgb(251, 173, 60)",
                      "rgb(246, 211, 70)",
                      "rgb(231, 250, 90)"
                    ]
                  },
                  "name": "H-DNA & SIDD(+-200bp)",
                  "rotation": 0,
                  "sort": false,
                  "texttemplate": "%{value:.2f}%",
                  "type": "pie",
                  "values": [
                    10.04891063,
                    4.89106269,
                    2.97910182,
                    0,
                    0.97821254,
                    0,
                    0.22232103,
                    7.87016452,
                    20.36460649,
                    0.08892841,
                    52.55669186
                  ]
                }
              ],
              "layout": {
                "annotations": [
                  {
                    "font": {
                      "size": 16
                    },
                    "showarrow": false,
                    "text": "Z-DNA & SIDD(+-200bp)",
                    "x": 0.10625,
                    "xanchor": "center",
                    "xref": "paper",
                    "y": 1,
                    "yanchor": "bottom",
                    "yref": "paper",
                    "yshift": 20
                  },
                  {
                    "font": {
                      "size": 16
                    },
                    "showarrow": false,
                    "text": "SIDD(+-200bp)",
                    "x": 0.36875,
                    "xanchor": "center",
                    "xref": "paper",
                    "y": 1,
                    "yanchor": "bottom",
                    "yref": "paper",
                    "yshift": 20
                  },
                  {
                    "font": {
                      "size": 16
                    },
                    "showarrow": false,
                    "text": "G4 & SIDD(+-200bp)",
                    "x": 0.6312500000000001,
                    "xanchor": "center",
                    "xref": "paper",
                    "y": 1,
                    "yanchor": "bottom",
                    "yref": "paper",
                    "yshift": 20
                  },
                  {
                    "font": {
                      "size": 16
                    },
                    "showarrow": false,
                    "text": "H-DNA & SIDD(+-200bp)",
                    "x": 0.89375,
                    "xanchor": "center",
                    "xref": "paper",
                    "y": 1,
                    "yanchor": "bottom",
                    "yref": "paper",
                    "yshift": 20
                  }
                ],
                "font": {
                  "family": "monospace",
                  "size": 12
                },
                "height": 500,
                "template": {
                  "data": {
                    "bar": [
                      {
                        "error_x": {
                          "color": "#2a3f5f"
                        },
                        "error_y": {
                          "color": "#2a3f5f"
                        },
                        "marker": {
                          "line": {
                            "color": "#E5ECF6",
                            "width": 0.5
                          },
                          "pattern": {
                            "fillmode": "overlay",
                            "size": 10,
                            "solidity": 0.2
                          }
                        },
                        "type": "bar"
                      }
                    ],
                    "barpolar": [
                      {
                        "marker": {
                          "line": {
                            "color": "#E5ECF6",
                            "width": 0.5
                          },
                          "pattern": {
                            "fillmode": "overlay",
                            "size": 10,
                            "solidity": 0.2
                          }
                        },
                        "type": "barpolar"
                      }
                    ],
                    "carpet": [
                      {
                        "aaxis": {
                          "endlinecolor": "#2a3f5f",
                          "gridcolor": "white",
                          "linecolor": "white",
                          "minorgridcolor": "white",
                          "startlinecolor": "#2a3f5f"
                        },
                        "baxis": {
                          "endlinecolor": "#2a3f5f",
                          "gridcolor": "white",
                          "linecolor": "white",
                          "minorgridcolor": "white",
                          "startlinecolor": "#2a3f5f"
                        },
                        "type": "carpet"
                      }
                    ],
                    "choropleth": [
                      {
                        "colorbar": {
                          "outlinewidth": 0,
                          "ticks": ""
                        },
                        "type": "choropleth"
                      }
                    ],
                    "contour": [
                      {
                        "colorbar": {
                          "outlinewidth": 0,
                          "ticks": ""
                        },
                        "colorscale": [
                          [
                            0,
                            "#0d0887"
                          ],
                          [
                            0.1111111111111111,
                            "#46039f"
                          ],
                          [
                            0.2222222222222222,
                            "#7201a8"
                          ],
                          [
                            0.3333333333333333,
                            "#9c179e"
                          ],
                          [
                            0.4444444444444444,
                            "#bd3786"
                          ],
                          [
                            0.5555555555555556,
                            "#d8576b"
                          ],
                          [
                            0.6666666666666666,
                            "#ed7953"
                          ],
                          [
                            0.7777777777777778,
                            "#fb9f3a"
                          ],
                          [
                            0.8888888888888888,
                            "#fdca26"
                          ],
                          [
                            1,
                            "#f0f921"
                          ]
                        ],
                        "type": "contour"
                      }
                    ],
                    "contourcarpet": [
                      {
                        "colorbar": {
                          "outlinewidth": 0,
                          "ticks": ""
                        },
                        "type": "contourcarpet"
                      }
                    ],
                    "heatmap": [
                      {
                        "colorbar": {
                          "outlinewidth": 0,
                          "ticks": ""
                        },
                        "colorscale": [
                          [
                            0,
                            "#0d0887"
                          ],
                          [
                            0.1111111111111111,
                            "#46039f"
                          ],
                          [
                            0.2222222222222222,
                            "#7201a8"
                          ],
                          [
                            0.3333333333333333,
                            "#9c179e"
                          ],
                          [
                            0.4444444444444444,
                            "#bd3786"
                          ],
                          [
                            0.5555555555555556,
                            "#d8576b"
                          ],
                          [
                            0.6666666666666666,
                            "#ed7953"
                          ],
                          [
                            0.7777777777777778,
                            "#fb9f3a"
                          ],
                          [
                            0.8888888888888888,
                            "#fdca26"
                          ],
                          [
                            1,
                            "#f0f921"
                          ]
                        ],
                        "type": "heatmap"
                      }
                    ],
                    "heatmapgl": [
                      {
                        "colorbar": {
                          "outlinewidth": 0,
                          "ticks": ""
                        },
                        "colorscale": [
                          [
                            0,
                            "#0d0887"
                          ],
                          [
                            0.1111111111111111,
                            "#46039f"
                          ],
                          [
                            0.2222222222222222,
                            "#7201a8"
                          ],
                          [
                            0.3333333333333333,
                            "#9c179e"
                          ],
                          [
                            0.4444444444444444,
                            "#bd3786"
                          ],
                          [
                            0.5555555555555556,
                            "#d8576b"
                          ],
                          [
                            0.6666666666666666,
                            "#ed7953"
                          ],
                          [
                            0.7777777777777778,
                            "#fb9f3a"
                          ],
                          [
                            0.8888888888888888,
                            "#fdca26"
                          ],
                          [
                            1,
                            "#f0f921"
                          ]
                        ],
                        "type": "heatmapgl"
                      }
                    ],
                    "histogram": [
                      {
                        "marker": {
                          "pattern": {
                            "fillmode": "overlay",
                            "size": 10,
                            "solidity": 0.2
                          }
                        },
                        "type": "histogram"
                      }
                    ],
                    "histogram2d": [
                      {
                        "colorbar": {
                          "outlinewidth": 0,
                          "ticks": ""
                        },
                        "colorscale": [
                          [
                            0,
                            "#0d0887"
                          ],
                          [
                            0.1111111111111111,
                            "#46039f"
                          ],
                          [
                            0.2222222222222222,
                            "#7201a8"
                          ],
                          [
                            0.3333333333333333,
                            "#9c179e"
                          ],
                          [
                            0.4444444444444444,
                            "#bd3786"
                          ],
                          [
                            0.5555555555555556,
                            "#d8576b"
                          ],
                          [
                            0.6666666666666666,
                            "#ed7953"
                          ],
                          [
                            0.7777777777777778,
                            "#fb9f3a"
                          ],
                          [
                            0.8888888888888888,
                            "#fdca26"
                          ],
                          [
                            1,
                            "#f0f921"
                          ]
                        ],
                        "type": "histogram2d"
                      }
                    ],
                    "histogram2dcontour": [
                      {
                        "colorbar": {
                          "outlinewidth": 0,
                          "ticks": ""
                        },
                        "colorscale": [
                          [
                            0,
                            "#0d0887"
                          ],
                          [
                            0.1111111111111111,
                            "#46039f"
                          ],
                          [
                            0.2222222222222222,
                            "#7201a8"
                          ],
                          [
                            0.3333333333333333,
                            "#9c179e"
                          ],
                          [
                            0.4444444444444444,
                            "#bd3786"
                          ],
                          [
                            0.5555555555555556,
                            "#d8576b"
                          ],
                          [
                            0.6666666666666666,
                            "#ed7953"
                          ],
                          [
                            0.7777777777777778,
                            "#fb9f3a"
                          ],
                          [
                            0.8888888888888888,
                            "#fdca26"
                          ],
                          [
                            1,
                            "#f0f921"
                          ]
                        ],
                        "type": "histogram2dcontour"
                      }
                    ],
                    "mesh3d": [
                      {
                        "colorbar": {
                          "outlinewidth": 0,
                          "ticks": ""
                        },
                        "type": "mesh3d"
                      }
                    ],
                    "parcoords": [
                      {
                        "line": {
                          "colorbar": {
                            "outlinewidth": 0,
                            "ticks": ""
                          }
                        },
                        "type": "parcoords"
                      }
                    ],
                    "pie": [
                      {
                        "automargin": true,
                        "type": "pie"
                      }
                    ],
                    "scatter": [
                      {
                        "fillpattern": {
                          "fillmode": "overlay",
                          "size": 10,
                          "solidity": 0.2
                        },
                        "type": "scatter"
                      }
                    ],
                    "scatter3d": [
                      {
                        "line": {
                          "colorbar": {
                            "outlinewidth": 0,
                            "ticks": ""
                          }
                        },
                        "marker": {
                          "colorbar": {
                            "outlinewidth": 0,
                            "ticks": ""
                          }
                        },
                        "type": "scatter3d"
                      }
                    ],
                    "scattercarpet": [
                      {
                        "marker": {
                          "colorbar": {
                            "outlinewidth": 0,
                            "ticks": ""
                          }
                        },
                        "type": "scattercarpet"
                      }
                    ],
                    "scattergeo": [
                      {
                        "marker": {
                          "colorbar": {
                            "outlinewidth": 0,
                            "ticks": ""
                          }
                        },
                        "type": "scattergeo"
                      }
                    ],
                    "scattergl": [
                      {
                        "marker": {
                          "colorbar": {
                            "outlinewidth": 0,
                            "ticks": ""
                          }
                        },
                        "type": "scattergl"
                      }
                    ],
                    "scattermapbox": [
                      {
                        "marker": {
                          "colorbar": {
                            "outlinewidth": 0,
                            "ticks": ""
                          }
                        },
                        "type": "scattermapbox"
                      }
                    ],
                    "scatterpolar": [
                      {
                        "marker": {
                          "colorbar": {
                            "outlinewidth": 0,
                            "ticks": ""
                          }
                        },
                        "type": "scatterpolar"
                      }
                    ],
                    "scatterpolargl": [
                      {
                        "marker": {
                          "colorbar": {
                            "outlinewidth": 0,
                            "ticks": ""
                          }
                        },
                        "type": "scatterpolargl"
                      }
                    ],
                    "scatterternary": [
                      {
                        "marker": {
                          "colorbar": {
                            "outlinewidth": 0,
                            "ticks": ""
                          }
                        },
                        "type": "scatterternary"
                      }
                    ],
                    "surface": [
                      {
                        "colorbar": {
                          "outlinewidth": 0,
                          "ticks": ""
                        },
                        "colorscale": [
                          [
                            0,
                            "#0d0887"
                          ],
                          [
                            0.1111111111111111,
                            "#46039f"
                          ],
                          [
                            0.2222222222222222,
                            "#7201a8"
                          ],
                          [
                            0.3333333333333333,
                            "#9c179e"
                          ],
                          [
                            0.4444444444444444,
                            "#bd3786"
                          ],
                          [
                            0.5555555555555556,
                            "#d8576b"
                          ],
                          [
                            0.6666666666666666,
                            "#ed7953"
                          ],
                          [
                            0.7777777777777778,
                            "#fb9f3a"
                          ],
                          [
                            0.8888888888888888,
                            "#fdca26"
                          ],
                          [
                            1,
                            "#f0f921"
                          ]
                        ],
                        "type": "surface"
                      }
                    ],
                    "table": [
                      {
                        "cells": {
                          "fill": {
                            "color": "#EBF0F8"
                          },
                          "line": {
                            "color": "white"
                          }
                        },
                        "header": {
                          "fill": {
                            "color": "#C8D4E3"
                          },
                          "line": {
                            "color": "white"
                          }
                        },
                        "type": "table"
                      }
                    ]
                  },
                  "layout": {
                    "annotationdefaults": {
                      "arrowcolor": "#2a3f5f",
                      "arrowhead": 0,
                      "arrowwidth": 1
                    },
                    "autotypenumbers": "strict",
                    "coloraxis": {
                      "colorbar": {
                        "outlinewidth": 0,
                        "ticks": ""
                      }
                    },
                    "colorscale": {
                      "diverging": [
                        [
                          0,
                          "#8e0152"
                        ],
                        [
                          0.1,
                          "#c51b7d"
                        ],
                        [
                          0.2,
                          "#de77ae"
                        ],
                        [
                          0.3,
                          "#f1b6da"
                        ],
                        [
                          0.4,
                          "#fde0ef"
                        ],
                        [
                          0.5,
                          "#f7f7f7"
                        ],
                        [
                          0.6,
                          "#e6f5d0"
                        ],
                        [
                          0.7,
                          "#b8e186"
                        ],
                        [
                          0.8,
                          "#7fbc41"
                        ],
                        [
                          0.9,
                          "#4d9221"
                        ],
                        [
                          1,
                          "#276419"
                        ]
                      ],
                      "sequential": [
                        [
                          0,
                          "#0d0887"
                        ],
                        [
                          0.1111111111111111,
                          "#46039f"
                        ],
                        [
                          0.2222222222222222,
                          "#7201a8"
                        ],
                        [
                          0.3333333333333333,
                          "#9c179e"
                        ],
                        [
                          0.4444444444444444,
                          "#bd3786"
                        ],
                        [
                          0.5555555555555556,
                          "#d8576b"
                        ],
                        [
                          0.6666666666666666,
                          "#ed7953"
                        ],
                        [
                          0.7777777777777778,
                          "#fb9f3a"
                        ],
                        [
                          0.8888888888888888,
                          "#fdca26"
                        ],
                        [
                          1,
                          "#f0f921"
                        ]
                      ],
                      "sequentialminus": [
                        [
                          0,
                          "#0d0887"
                        ],
                        [
                          0.1111111111111111,
                          "#46039f"
                        ],
                        [
                          0.2222222222222222,
                          "#7201a8"
                        ],
                        [
                          0.3333333333333333,
                          "#9c179e"
                        ],
                        [
                          0.4444444444444444,
                          "#bd3786"
                        ],
                        [
                          0.5555555555555556,
                          "#d8576b"
                        ],
                        [
                          0.6666666666666666,
                          "#ed7953"
                        ],
                        [
                          0.7777777777777778,
                          "#fb9f3a"
                        ],
                        [
                          0.8888888888888888,
                          "#fdca26"
                        ],
                        [
                          1,
                          "#f0f921"
                        ]
                      ]
                    },
                    "colorway": [
                      "#636efa",
                      "#EF553B",
                      "#00cc96",
                      "#ab63fa",
                      "#FFA15A",
                      "#19d3f3",
                      "#FF6692",
                      "#B6E880",
                      "#FF97FF",
                      "#FECB52"
                    ],
                    "font": {
                      "color": "#2a3f5f"
                    },
                    "geo": {
                      "bgcolor": "white",
                      "lakecolor": "white",
                      "landcolor": "#E5ECF6",
                      "showlakes": true,
                      "showland": true,
                      "subunitcolor": "white"
                    },
                    "hoverlabel": {
                      "align": "left"
                    },
                    "hovermode": "closest",
                    "mapbox": {
                      "style": "light"
                    },
                    "paper_bgcolor": "white",
                    "plot_bgcolor": "#E5ECF6",
                    "polar": {
                      "angularaxis": {
                        "gridcolor": "white",
                        "linecolor": "white",
                        "ticks": ""
                      },
                      "bgcolor": "#E5ECF6",
                      "radialaxis": {
                        "gridcolor": "white",
                        "linecolor": "white",
                        "ticks": ""
                      }
                    },
                    "scene": {
                      "xaxis": {
                        "backgroundcolor": "#E5ECF6",
                        "gridcolor": "white",
                        "gridwidth": 2,
                        "linecolor": "white",
                        "showbackground": true,
                        "ticks": "",
                        "zerolinecolor": "white"
                      },
                      "yaxis": {
                        "backgroundcolor": "#E5ECF6",
                        "gridcolor": "white",
                        "gridwidth": 2,
                        "linecolor": "white",
                        "showbackground": true,
                        "ticks": "",
                        "zerolinecolor": "white"
                      },
                      "zaxis": {
                        "backgroundcolor": "#E5ECF6",
                        "gridcolor": "white",
                        "gridwidth": 2,
                        "linecolor": "white",
                        "showbackground": true,
                        "ticks": "",
                        "zerolinecolor": "white"
                      }
                    },
                    "shapedefaults": {
                      "line": {
                        "color": "#2a3f5f"
                      }
                    },
                    "ternary": {
                      "aaxis": {
                        "gridcolor": "white",
                        "linecolor": "white",
                        "ticks": ""
                      },
                      "baxis": {
                        "gridcolor": "white",
                        "linecolor": "white",
                        "ticks": ""
                      },
                      "bgcolor": "#E5ECF6",
                      "caxis": {
                        "gridcolor": "white",
                        "linecolor": "white",
                        "ticks": ""
                      }
                    },
                    "title": {
                      "x": 0.05
                    },
                    "xaxis": {
                      "automargin": true,
                      "gridcolor": "white",
                      "linecolor": "white",
                      "ticks": "",
                      "title": {
                        "standoff": 15
                      },
                      "zerolinecolor": "white",
                      "zerolinewidth": 2
                    },
                    "yaxis": {
                      "automargin": true,
                      "gridcolor": "white",
                      "linecolor": "white",
                      "ticks": "",
                      "title": {
                        "standoff": 15
                      },
                      "zerolinecolor": "white",
                      "zerolinewidth": 2
                    }
                  }
                },
                "uniformtext": {
                  "minsize": 10,
                  "mode": "hide"
                },
                "width": 1800
              }
            },
            "text/html": [
              "<div>                            <div id=\"9ca67af7-6087-44c8-9ec4-3ff08c4bd7fd\" class=\"plotly-graph-div\" style=\"height:500px; width:1800px;\"></div>            <script type=\"text/javascript\">                require([\"plotly\"], function(Plotly) {                    window.PLOTLYENV=window.PLOTLYENV || {};                                    if (document.getElementById(\"9ca67af7-6087-44c8-9ec4-3ff08c4bd7fd\")) {                    Plotly.newPlot(                        \"9ca67af7-6087-44c8-9ec4-3ff08c4bd7fd\",                        [{\"direction\":\"clockwise\",\"labels\":[\"Promoter (<=1kb)\",\"Promoter (1-2kb)\",\"Promoter (2-3kb)\",\"5' UTR\",\"3' UTR\",\"1st Exon\",\"Other Exon\",\"1st Intron\",\"Other Intron\",\"Downstream (<=300)\",\"Distal Intergenic\"],\"marker\":{\"colors\":[\"rgb(3, 35, 51)\",\"rgb(13, 48, 100)\",\"rgb(53, 50, 155)\",\"rgb(93, 62, 153)\",\"rgb(126, 77, 143)\",\"rgb(158, 89, 135)\",\"rgb(193, 100, 121)\",\"rgb(225, 113, 97)\",\"rgb(246, 139, 69)\",\"rgb(251, 173, 60)\",\"rgb(246, 211, 70)\",\"rgb(231, 250, 90)\"]},\"name\":\"Z-DNA & SIDD(+-200bp)\",\"rotation\":0,\"sort\":false,\"values\":[23.6347359,6.26678603,3.67054611,0.08952551,0.98478066,0.08952551,1.07430618,6.17726052,18.53178156,0.08952551,39.3912265],\"type\":\"pie\",\"domain\":{\"x\":[0.0,0.2125],\"y\":[0.0,1.0]},\"hole\":0.35,\"hoverinfo\":\"label+percent+name\",\"texttemplate\":\"%{value:.2f}%\"},{\"direction\":\"clockwise\",\"labels\":[\"Promoter (<=1kb)\",\"Promoter (1-2kb)\",\"Promoter (2-3kb)\",\"5' UTR\",\"3' UTR\",\"1st Exon\",\"Other Exon\",\"1st Intron\",\"Other Intron\",\"Downstream (<=300)\",\"Distal Intergenic\"],\"marker\":{\"colors\":[\"rgb(3, 35, 51)\",\"rgb(13, 48, 100)\",\"rgb(53, 50, 155)\",\"rgb(93, 62, 153)\",\"rgb(126, 77, 143)\",\"rgb(158, 89, 135)\",\"rgb(193, 100, 121)\",\"rgb(225, 113, 97)\",\"rgb(246, 139, 69)\",\"rgb(251, 173, 60)\",\"rgb(246, 211, 70)\",\"rgb(231, 250, 90)\"]},\"name\":\"SIDD(+-200bp)\",\"rotation\":0,\"sort\":false,\"values\":[7.64252092,3.98797071,3.53687238,0.03268828,1.01987448,0.05230126,1.26830544,7.21757322,17.54053347,0.06537657,57.63598326],\"type\":\"pie\",\"domain\":{\"x\":[0.2625,0.475],\"y\":[0.0,1.0]},\"hole\":0.35,\"hoverinfo\":\"label+percent+name\",\"texttemplate\":\"%{value:.2f}%\"},{\"direction\":\"clockwise\",\"labels\":[\"Promoter (<=1kb)\",\"Promoter (1-2kb)\",\"Promoter (2-3kb)\",\"5' UTR\",\"3' UTR\",\"1st Exon\",\"Other Exon\",\"1st Intron\",\"Other Intron\",\"Downstream (<=300)\",\"Distal Intergenic\"],\"marker\":{\"colors\":[\"rgb(3, 35, 51)\",\"rgb(13, 48, 100)\",\"rgb(53, 50, 155)\",\"rgb(93, 62, 153)\",\"rgb(126, 77, 143)\",\"rgb(158, 89, 135)\",\"rgb(193, 100, 121)\",\"rgb(225, 113, 97)\",\"rgb(246, 139, 69)\",\"rgb(251, 173, 60)\",\"rgb(246, 211, 70)\",\"rgb(231, 250, 90)\"]},\"name\":\"G4 & SIDD(+-200bp)\",\"rotation\":0,\"sort\":false,\"values\":[9.5106551,4.8539858,3.5911602,0,1.0260458,0,0.1973165,7.8926598,19.1002368,0.0394633,53.7884767],\"type\":\"pie\",\"domain\":{\"x\":[0.525,0.7375],\"y\":[0.0,1.0]},\"hole\":0.35,\"hoverinfo\":\"label+percent+name\",\"texttemplate\":\"%{value:.2f}%\"},{\"direction\":\"clockwise\",\"labels\":[\"Promoter (<=1kb)\",\"Promoter (1-2kb)\",\"Promoter (2-3kb)\",\"5' UTR\",\"3' UTR\",\"1st Exon\",\"Other Exon\",\"1st Intron\",\"Other Intron\",\"Downstream (<=300)\",\"Distal Intergenic\"],\"marker\":{\"colors\":[\"rgb(3, 35, 51)\",\"rgb(13, 48, 100)\",\"rgb(53, 50, 155)\",\"rgb(93, 62, 153)\",\"rgb(126, 77, 143)\",\"rgb(158, 89, 135)\",\"rgb(193, 100, 121)\",\"rgb(225, 113, 97)\",\"rgb(246, 139, 69)\",\"rgb(251, 173, 60)\",\"rgb(246, 211, 70)\",\"rgb(231, 250, 90)\"]},\"name\":\"H-DNA & SIDD(+-200bp)\",\"rotation\":0,\"sort\":false,\"values\":[10.04891063,4.89106269,2.97910182,0,0.97821254,0,0.22232103,7.87016452,20.36460649,0.08892841,52.55669186],\"type\":\"pie\",\"domain\":{\"x\":[0.7875,1.0],\"y\":[0.0,1.0]},\"hole\":0.35,\"hoverinfo\":\"label+percent+name\",\"texttemplate\":\"%{value:.2f}%\"}],                        {\"template\":{\"data\":{\"histogram2dcontour\":[{\"type\":\"histogram2dcontour\",\"colorbar\":{\"outlinewidth\":0,\"ticks\":\"\"},\"colorscale\":[[0.0,\"#0d0887\"],[0.1111111111111111,\"#46039f\"],[0.2222222222222222,\"#7201a8\"],[0.3333333333333333,\"#9c179e\"],[0.4444444444444444,\"#bd3786\"],[0.5555555555555556,\"#d8576b\"],[0.6666666666666666,\"#ed7953\"],[0.7777777777777778,\"#fb9f3a\"],[0.8888888888888888,\"#fdca26\"],[1.0,\"#f0f921\"]]}],\"choropleth\":[{\"type\":\"choropleth\",\"colorbar\":{\"outlinewidth\":0,\"ticks\":\"\"}}],\"histogram2d\":[{\"type\":\"histogram2d\",\"colorbar\":{\"outlinewidth\":0,\"ticks\":\"\"},\"colorscale\":[[0.0,\"#0d0887\"],[0.1111111111111111,\"#46039f\"],[0.2222222222222222,\"#7201a8\"],[0.3333333333333333,\"#9c179e\"],[0.4444444444444444,\"#bd3786\"],[0.5555555555555556,\"#d8576b\"],[0.6666666666666666,\"#ed7953\"],[0.7777777777777778,\"#fb9f3a\"],[0.8888888888888888,\"#fdca26\"],[1.0,\"#f0f921\"]]}],\"heatmap\":[{\"type\":\"heatmap\",\"colorbar\":{\"outlinewidth\":0,\"ticks\":\"\"},\"colorscale\":[[0.0,\"#0d0887\"],[0.1111111111111111,\"#46039f\"],[0.2222222222222222,\"#7201a8\"],[0.3333333333333333,\"#9c179e\"],[0.4444444444444444,\"#bd3786\"],[0.5555555555555556,\"#d8576b\"],[0.6666666666666666,\"#ed7953\"],[0.7777777777777778,\"#fb9f3a\"],[0.8888888888888888,\"#fdca26\"],[1.0,\"#f0f921\"]]}],\"heatmapgl\":[{\"type\":\"heatmapgl\",\"colorbar\":{\"outlinewidth\":0,\"ticks\":\"\"},\"colorscale\":[[0.0,\"#0d0887\"],[0.1111111111111111,\"#46039f\"],[0.2222222222222222,\"#7201a8\"],[0.3333333333333333,\"#9c179e\"],[0.4444444444444444,\"#bd3786\"],[0.5555555555555556,\"#d8576b\"],[0.6666666666666666,\"#ed7953\"],[0.7777777777777778,\"#fb9f3a\"],[0.8888888888888888,\"#fdca26\"],[1.0,\"#f0f921\"]]}],\"contourcarpet\":[{\"type\":\"contourcarpet\",\"colorbar\":{\"outlinewidth\":0,\"ticks\":\"\"}}],\"contour\":[{\"type\":\"contour\",\"colorbar\":{\"outlinewidth\":0,\"ticks\":\"\"},\"colorscale\":[[0.0,\"#0d0887\"],[0.1111111111111111,\"#46039f\"],[0.2222222222222222,\"#7201a8\"],[0.3333333333333333,\"#9c179e\"],[0.4444444444444444,\"#bd3786\"],[0.5555555555555556,\"#d8576b\"],[0.6666666666666666,\"#ed7953\"],[0.7777777777777778,\"#fb9f3a\"],[0.8888888888888888,\"#fdca26\"],[1.0,\"#f0f921\"]]}],\"surface\":[{\"type\":\"surface\",\"colorbar\":{\"outlinewidth\":0,\"ticks\":\"\"},\"colorscale\":[[0.0,\"#0d0887\"],[0.1111111111111111,\"#46039f\"],[0.2222222222222222,\"#7201a8\"],[0.3333333333333333,\"#9c179e\"],[0.4444444444444444,\"#bd3786\"],[0.5555555555555556,\"#d8576b\"],[0.6666666666666666,\"#ed7953\"],[0.7777777777777778,\"#fb9f3a\"],[0.8888888888888888,\"#fdca26\"],[1.0,\"#f0f921\"]]}],\"mesh3d\":[{\"type\":\"mesh3d\",\"colorbar\":{\"outlinewidth\":0,\"ticks\":\"\"}}],\"scatter\":[{\"fillpattern\":{\"fillmode\":\"overlay\",\"size\":10,\"solidity\":0.2},\"type\":\"scatter\"}],\"parcoords\":[{\"type\":\"parcoords\",\"line\":{\"colorbar\":{\"outlinewidth\":0,\"ticks\":\"\"}}}],\"scatterpolargl\":[{\"type\":\"scatterpolargl\",\"marker\":{\"colorbar\":{\"outlinewidth\":0,\"ticks\":\"\"}}}],\"bar\":[{\"error_x\":{\"color\":\"#2a3f5f\"},\"error_y\":{\"color\":\"#2a3f5f\"},\"marker\":{\"line\":{\"color\":\"#E5ECF6\",\"width\":0.5},\"pattern\":{\"fillmode\":\"overlay\",\"size\":10,\"solidity\":0.2}},\"type\":\"bar\"}],\"scattergeo\":[{\"type\":\"scattergeo\",\"marker\":{\"colorbar\":{\"outlinewidth\":0,\"ticks\":\"\"}}}],\"scatterpolar\":[{\"type\":\"scatterpolar\",\"marker\":{\"colorbar\":{\"outlinewidth\":0,\"ticks\":\"\"}}}],\"histogram\":[{\"marker\":{\"pattern\":{\"fillmode\":\"overlay\",\"size\":10,\"solidity\":0.2}},\"type\":\"histogram\"}],\"scattergl\":[{\"type\":\"scattergl\",\"marker\":{\"colorbar\":{\"outlinewidth\":0,\"ticks\":\"\"}}}],\"scatter3d\":[{\"type\":\"scatter3d\",\"line\":{\"colorbar\":{\"outlinewidth\":0,\"ticks\":\"\"}},\"marker\":{\"colorbar\":{\"outlinewidth\":0,\"ticks\":\"\"}}}],\"scattermapbox\":[{\"type\":\"scattermapbox\",\"marker\":{\"colorbar\":{\"outlinewidth\":0,\"ticks\":\"\"}}}],\"scatterternary\":[{\"type\":\"scatterternary\",\"marker\":{\"colorbar\":{\"outlinewidth\":0,\"ticks\":\"\"}}}],\"scattercarpet\":[{\"type\":\"scattercarpet\",\"marker\":{\"colorbar\":{\"outlinewidth\":0,\"ticks\":\"\"}}}],\"carpet\":[{\"aaxis\":{\"endlinecolor\":\"#2a3f5f\",\"gridcolor\":\"white\",\"linecolor\":\"white\",\"minorgridcolor\":\"white\",\"startlinecolor\":\"#2a3f5f\"},\"baxis\":{\"endlinecolor\":\"#2a3f5f\",\"gridcolor\":\"white\",\"linecolor\":\"white\",\"minorgridcolor\":\"white\",\"startlinecolor\":\"#2a3f5f\"},\"type\":\"carpet\"}],\"table\":[{\"cells\":{\"fill\":{\"color\":\"#EBF0F8\"},\"line\":{\"color\":\"white\"}},\"header\":{\"fill\":{\"color\":\"#C8D4E3\"},\"line\":{\"color\":\"white\"}},\"type\":\"table\"}],\"barpolar\":[{\"marker\":{\"line\":{\"color\":\"#E5ECF6\",\"width\":0.5},\"pattern\":{\"fillmode\":\"overlay\",\"size\":10,\"solidity\":0.2}},\"type\":\"barpolar\"}],\"pie\":[{\"automargin\":true,\"type\":\"pie\"}]},\"layout\":{\"autotypenumbers\":\"strict\",\"colorway\":[\"#636efa\",\"#EF553B\",\"#00cc96\",\"#ab63fa\",\"#FFA15A\",\"#19d3f3\",\"#FF6692\",\"#B6E880\",\"#FF97FF\",\"#FECB52\"],\"font\":{\"color\":\"#2a3f5f\"},\"hovermode\":\"closest\",\"hoverlabel\":{\"align\":\"left\"},\"paper_bgcolor\":\"white\",\"plot_bgcolor\":\"#E5ECF6\",\"polar\":{\"bgcolor\":\"#E5ECF6\",\"angularaxis\":{\"gridcolor\":\"white\",\"linecolor\":\"white\",\"ticks\":\"\"},\"radialaxis\":{\"gridcolor\":\"white\",\"linecolor\":\"white\",\"ticks\":\"\"}},\"ternary\":{\"bgcolor\":\"#E5ECF6\",\"aaxis\":{\"gridcolor\":\"white\",\"linecolor\":\"white\",\"ticks\":\"\"},\"baxis\":{\"gridcolor\":\"white\",\"linecolor\":\"white\",\"ticks\":\"\"},\"caxis\":{\"gridcolor\":\"white\",\"linecolor\":\"white\",\"ticks\":\"\"}},\"coloraxis\":{\"colorbar\":{\"outlinewidth\":0,\"ticks\":\"\"}},\"colorscale\":{\"sequential\":[[0.0,\"#0d0887\"],[0.1111111111111111,\"#46039f\"],[0.2222222222222222,\"#7201a8\"],[0.3333333333333333,\"#9c179e\"],[0.4444444444444444,\"#bd3786\"],[0.5555555555555556,\"#d8576b\"],[0.6666666666666666,\"#ed7953\"],[0.7777777777777778,\"#fb9f3a\"],[0.8888888888888888,\"#fdca26\"],[1.0,\"#f0f921\"]],\"sequentialminus\":[[0.0,\"#0d0887\"],[0.1111111111111111,\"#46039f\"],[0.2222222222222222,\"#7201a8\"],[0.3333333333333333,\"#9c179e\"],[0.4444444444444444,\"#bd3786\"],[0.5555555555555556,\"#d8576b\"],[0.6666666666666666,\"#ed7953\"],[0.7777777777777778,\"#fb9f3a\"],[0.8888888888888888,\"#fdca26\"],[1.0,\"#f0f921\"]],\"diverging\":[[0,\"#8e0152\"],[0.1,\"#c51b7d\"],[0.2,\"#de77ae\"],[0.3,\"#f1b6da\"],[0.4,\"#fde0ef\"],[0.5,\"#f7f7f7\"],[0.6,\"#e6f5d0\"],[0.7,\"#b8e186\"],[0.8,\"#7fbc41\"],[0.9,\"#4d9221\"],[1,\"#276419\"]]},\"xaxis\":{\"gridcolor\":\"white\",\"linecolor\":\"white\",\"ticks\":\"\",\"title\":{\"standoff\":15},\"zerolinecolor\":\"white\",\"automargin\":true,\"zerolinewidth\":2},\"yaxis\":{\"gridcolor\":\"white\",\"linecolor\":\"white\",\"ticks\":\"\",\"title\":{\"standoff\":15},\"zerolinecolor\":\"white\",\"automargin\":true,\"zerolinewidth\":2},\"scene\":{\"xaxis\":{\"backgroundcolor\":\"#E5ECF6\",\"gridcolor\":\"white\",\"linecolor\":\"white\",\"showbackground\":true,\"ticks\":\"\",\"zerolinecolor\":\"white\",\"gridwidth\":2},\"yaxis\":{\"backgroundcolor\":\"#E5ECF6\",\"gridcolor\":\"white\",\"linecolor\":\"white\",\"showbackground\":true,\"ticks\":\"\",\"zerolinecolor\":\"white\",\"gridwidth\":2},\"zaxis\":{\"backgroundcolor\":\"#E5ECF6\",\"gridcolor\":\"white\",\"linecolor\":\"white\",\"showbackground\":true,\"ticks\":\"\",\"zerolinecolor\":\"white\",\"gridwidth\":2}},\"shapedefaults\":{\"line\":{\"color\":\"#2a3f5f\"}},\"annotationdefaults\":{\"arrowcolor\":\"#2a3f5f\",\"arrowhead\":0,\"arrowwidth\":1},\"geo\":{\"bgcolor\":\"white\",\"landcolor\":\"#E5ECF6\",\"subunitcolor\":\"white\",\"showland\":true,\"showlakes\":true,\"lakecolor\":\"white\"},\"title\":{\"x\":0.05},\"mapbox\":{\"style\":\"light\"}}},\"annotations\":[{\"font\":{\"size\":16},\"showarrow\":false,\"text\":\"Z-DNA & SIDD(+-200bp)\",\"x\":0.10625,\"xanchor\":\"center\",\"xref\":\"paper\",\"y\":1.0,\"yanchor\":\"bottom\",\"yref\":\"paper\",\"yshift\":20},{\"font\":{\"size\":16},\"showarrow\":false,\"text\":\"SIDD(+-200bp)\",\"x\":0.36875,\"xanchor\":\"center\",\"xref\":\"paper\",\"y\":1.0,\"yanchor\":\"bottom\",\"yref\":\"paper\",\"yshift\":20},{\"font\":{\"size\":16},\"showarrow\":false,\"text\":\"G4 & SIDD(+-200bp)\",\"x\":0.6312500000000001,\"xanchor\":\"center\",\"xref\":\"paper\",\"y\":1.0,\"yanchor\":\"bottom\",\"yref\":\"paper\",\"yshift\":20},{\"font\":{\"size\":16},\"showarrow\":false,\"text\":\"H-DNA & SIDD(+-200bp)\",\"x\":0.89375,\"xanchor\":\"center\",\"xref\":\"paper\",\"y\":1.0,\"yanchor\":\"bottom\",\"yref\":\"paper\",\"yshift\":20}],\"uniformtext\":{\"minsize\":10,\"mode\":\"hide\"},\"font\":{\"family\":\"monospace\",\"size\":12},\"height\":500,\"width\":1800},                        {\"responsive\": true}                    ).then(function(){\n",
              "                            \n",
              "var gd = document.getElementById('9ca67af7-6087-44c8-9ec4-3ff08c4bd7fd');\n",
              "var x = new MutationObserver(function (mutations, observer) {{\n",
              "        var display = window.getComputedStyle(gd).display;\n",
              "        if (!display || display === 'none') {{\n",
              "            console.log([gd, 'removed!']);\n",
              "            Plotly.purge(gd);\n",
              "            observer.disconnect();\n",
              "        }}\n",
              "}});\n",
              "\n",
              "// Listen for the removal of the full notebook cells\n",
              "var notebookContainer = gd.closest('#notebook-container');\n",
              "if (notebookContainer) {{\n",
              "    x.observe(notebookContainer, {childList: true});\n",
              "}}\n",
              "\n",
              "// Listen for the clearing of the current output cell\n",
              "var outputEl = gd.closest('.output');\n",
              "if (outputEl) {{\n",
              "    x.observe(outputEl, {childList: true});\n",
              "}}\n",
              "\n",
              "                        })                };                });            </script>        </div>"
            ]
          },
          "metadata": {},
          "output_type": "display_data"
        },
        {
          "data": {
            "application/vnd.plotly.v1+json": {
              "config": {
                "plotlyServerURL": "https://plot.ly"
              },
              "data": [
                {
                  "direction": "clockwise",
                  "domain": {
                    "x": [
                      0,
                      0.2125
                    ],
                    "y": [
                      0,
                      1
                    ]
                  },
                  "hole": 0.35,
                  "hoverinfo": "label+percent+name",
                  "labels": [
                    "Promoter (<=1kb)",
                    "Promoter (1-2kb)",
                    "Promoter (2-3kb)",
                    "5' UTR",
                    "3' UTR",
                    "1st Exon",
                    "Other Exon",
                    "1st Intron",
                    "Other Intron",
                    "Downstream (<=300)",
                    "Distal Intergenic"
                  ],
                  "marker": {
                    "colors": [
                      "rgb(3, 35, 51)",
                      "rgb(13, 48, 100)",
                      "rgb(53, 50, 155)",
                      "rgb(93, 62, 153)",
                      "rgb(126, 77, 143)",
                      "rgb(158, 89, 135)",
                      "rgb(193, 100, 121)",
                      "rgb(225, 113, 97)",
                      "rgb(246, 139, 69)",
                      "rgb(251, 173, 60)",
                      "rgb(246, 211, 70)",
                      "rgb(231, 250, 90)"
                    ]
                  },
                  "name": "Z-DNA & SIDD(+-500bp)",
                  "rotation": 0,
                  "sort": false,
                  "texttemplate": "%{value:.2f}%",
                  "type": "pie",
                  "values": [
                    33.0743618,
                    6.6037736,
                    3.8845727,
                    0.0554939,
                    1.4983352,
                    0.1109878,
                    1.8867925,
                    4.8834628,
                    15.5937847,
                    0.0554939,
                    32.3529412
                  ]
                },
                {
                  "direction": "clockwise",
                  "domain": {
                    "x": [
                      0.2625,
                      0.475
                    ],
                    "y": [
                      0,
                      1
                    ]
                  },
                  "hole": 0.35,
                  "hoverinfo": "label+percent+name",
                  "labels": [
                    "Promoter (<=1kb)",
                    "Promoter (1-2kb)",
                    "Promoter (2-3kb)",
                    "5' UTR",
                    "3' UTR",
                    "1st Exon",
                    "Other Exon",
                    "1st Intron",
                    "Other Intron",
                    "Downstream (<=300)",
                    "Distal Intergenic"
                  ],
                  "marker": {
                    "colors": [
                      "rgb(3, 35, 51)",
                      "rgb(13, 48, 100)",
                      "rgb(53, 50, 155)",
                      "rgb(93, 62, 153)",
                      "rgb(126, 77, 143)",
                      "rgb(158, 89, 135)",
                      "rgb(193, 100, 121)",
                      "rgb(225, 113, 97)",
                      "rgb(246, 139, 69)",
                      "rgb(251, 173, 60)",
                      "rgb(246, 211, 70)",
                      "rgb(231, 250, 90)"
                    ]
                  },
                  "name": "SIDD(+-500bp)",
                  "rotation": 0,
                  "sort": false,
                  "texttemplate": "%{value:.2f}%",
                  "type": "pie",
                  "values": [
                    8.96312762,
                    3.6414749,
                    3.56302301,
                    0.07845188,
                    1.23561715,
                    0.03922594,
                    1.96129707,
                    7.00183054,
                    16.46835774,
                    0.06537657,
                    56.98221757
                  ]
                },
                {
                  "direction": "clockwise",
                  "domain": {
                    "x": [
                      0.525,
                      0.7375
                    ],
                    "y": [
                      0,
                      1
                    ]
                  },
                  "hole": 0.35,
                  "hoverinfo": "label+percent+name",
                  "labels": [
                    "Promoter (<=1kb)",
                    "Promoter (1-2kb)",
                    "Promoter (2-3kb)",
                    "5' UTR",
                    "3' UTR",
                    "1st Exon",
                    "Other Exon",
                    "1st Intron",
                    "Other Intron",
                    "Downstream (<=300)",
                    "Distal Intergenic"
                  ],
                  "marker": {
                    "colors": [
                      "rgb(3, 35, 51)",
                      "rgb(13, 48, 100)",
                      "rgb(53, 50, 155)",
                      "rgb(93, 62, 153)",
                      "rgb(126, 77, 143)",
                      "rgb(158, 89, 135)",
                      "rgb(193, 100, 121)",
                      "rgb(225, 113, 97)",
                      "rgb(246, 139, 69)",
                      "rgb(251, 173, 60)",
                      "rgb(246, 211, 70)",
                      "rgb(231, 250, 90)"
                    ]
                  },
                  "name": "G4 & SIDD(+-500bp)",
                  "rotation": 0,
                  "sort": false,
                  "texttemplate": "%{value:.2f}%",
                  "type": "pie",
                  "values": [
                    15.31239883,
                    5.05017805,
                    3.59339592,
                    0,
                    1.23017158,
                    0,
                    0.48559404,
                    7.08967303,
                    18.06409841,
                    0.09711881,
                    49.07737132
                  ]
                },
                {
                  "direction": "clockwise",
                  "domain": {
                    "x": [
                      0.7875,
                      1
                    ],
                    "y": [
                      0,
                      1
                    ]
                  },
                  "hole": 0.35,
                  "hoverinfo": "label+percent+name",
                  "labels": [
                    "Promoter (<=1kb)",
                    "Promoter (1-2kb)",
                    "Promoter (2-3kb)",
                    "5' UTR",
                    "3' UTR",
                    "1st Exon",
                    "Other Exon",
                    "1st Intron",
                    "Other Intron",
                    "Downstream (<=300)",
                    "Distal Intergenic"
                  ],
                  "marker": {
                    "colors": [
                      "rgb(3, 35, 51)",
                      "rgb(13, 48, 100)",
                      "rgb(53, 50, 155)",
                      "rgb(93, 62, 153)",
                      "rgb(126, 77, 143)",
                      "rgb(158, 89, 135)",
                      "rgb(193, 100, 121)",
                      "rgb(225, 113, 97)",
                      "rgb(246, 139, 69)",
                      "rgb(251, 173, 60)",
                      "rgb(246, 211, 70)",
                      "rgb(231, 250, 90)"
                    ]
                  },
                  "name": "H-DNA & SIDD(+-500bp)",
                  "rotation": 0,
                  "sort": false,
                  "texttemplate": "%{value:.2f}%",
                  "type": "pie",
                  "values": [
                    11.171875,
                    4.6875,
                    3.046875,
                    0,
                    0.9765625,
                    0,
                    0.234375,
                    7.8515625,
                    20.15625,
                    0.078125,
                    51.796875
                  ]
                }
              ],
              "layout": {
                "annotations": [
                  {
                    "font": {
                      "size": 16
                    },
                    "showarrow": false,
                    "text": "Z-DNA & SIDD(+-500bp)",
                    "x": 0.10625,
                    "xanchor": "center",
                    "xref": "paper",
                    "y": 1,
                    "yanchor": "bottom",
                    "yref": "paper",
                    "yshift": 20
                  },
                  {
                    "font": {
                      "size": 16
                    },
                    "showarrow": false,
                    "text": "SIDD(+-500bp)",
                    "x": 0.36875,
                    "xanchor": "center",
                    "xref": "paper",
                    "y": 1,
                    "yanchor": "bottom",
                    "yref": "paper",
                    "yshift": 20
                  },
                  {
                    "font": {
                      "size": 16
                    },
                    "showarrow": false,
                    "text": "G4 & SIDD(+-500bp)",
                    "x": 0.6312500000000001,
                    "xanchor": "center",
                    "xref": "paper",
                    "y": 1,
                    "yanchor": "bottom",
                    "yref": "paper",
                    "yshift": 20
                  },
                  {
                    "font": {
                      "size": 16
                    },
                    "showarrow": false,
                    "text": "H-DNA & SIDD(+-500bp)",
                    "x": 0.89375,
                    "xanchor": "center",
                    "xref": "paper",
                    "y": 1,
                    "yanchor": "bottom",
                    "yref": "paper",
                    "yshift": 20
                  }
                ],
                "font": {
                  "family": "monospace",
                  "size": 12
                },
                "height": 500,
                "template": {
                  "data": {
                    "bar": [
                      {
                        "error_x": {
                          "color": "#2a3f5f"
                        },
                        "error_y": {
                          "color": "#2a3f5f"
                        },
                        "marker": {
                          "line": {
                            "color": "#E5ECF6",
                            "width": 0.5
                          },
                          "pattern": {
                            "fillmode": "overlay",
                            "size": 10,
                            "solidity": 0.2
                          }
                        },
                        "type": "bar"
                      }
                    ],
                    "barpolar": [
                      {
                        "marker": {
                          "line": {
                            "color": "#E5ECF6",
                            "width": 0.5
                          },
                          "pattern": {
                            "fillmode": "overlay",
                            "size": 10,
                            "solidity": 0.2
                          }
                        },
                        "type": "barpolar"
                      }
                    ],
                    "carpet": [
                      {
                        "aaxis": {
                          "endlinecolor": "#2a3f5f",
                          "gridcolor": "white",
                          "linecolor": "white",
                          "minorgridcolor": "white",
                          "startlinecolor": "#2a3f5f"
                        },
                        "baxis": {
                          "endlinecolor": "#2a3f5f",
                          "gridcolor": "white",
                          "linecolor": "white",
                          "minorgridcolor": "white",
                          "startlinecolor": "#2a3f5f"
                        },
                        "type": "carpet"
                      }
                    ],
                    "choropleth": [
                      {
                        "colorbar": {
                          "outlinewidth": 0,
                          "ticks": ""
                        },
                        "type": "choropleth"
                      }
                    ],
                    "contour": [
                      {
                        "colorbar": {
                          "outlinewidth": 0,
                          "ticks": ""
                        },
                        "colorscale": [
                          [
                            0,
                            "#0d0887"
                          ],
                          [
                            0.1111111111111111,
                            "#46039f"
                          ],
                          [
                            0.2222222222222222,
                            "#7201a8"
                          ],
                          [
                            0.3333333333333333,
                            "#9c179e"
                          ],
                          [
                            0.4444444444444444,
                            "#bd3786"
                          ],
                          [
                            0.5555555555555556,
                            "#d8576b"
                          ],
                          [
                            0.6666666666666666,
                            "#ed7953"
                          ],
                          [
                            0.7777777777777778,
                            "#fb9f3a"
                          ],
                          [
                            0.8888888888888888,
                            "#fdca26"
                          ],
                          [
                            1,
                            "#f0f921"
                          ]
                        ],
                        "type": "contour"
                      }
                    ],
                    "contourcarpet": [
                      {
                        "colorbar": {
                          "outlinewidth": 0,
                          "ticks": ""
                        },
                        "type": "contourcarpet"
                      }
                    ],
                    "heatmap": [
                      {
                        "colorbar": {
                          "outlinewidth": 0,
                          "ticks": ""
                        },
                        "colorscale": [
                          [
                            0,
                            "#0d0887"
                          ],
                          [
                            0.1111111111111111,
                            "#46039f"
                          ],
                          [
                            0.2222222222222222,
                            "#7201a8"
                          ],
                          [
                            0.3333333333333333,
                            "#9c179e"
                          ],
                          [
                            0.4444444444444444,
                            "#bd3786"
                          ],
                          [
                            0.5555555555555556,
                            "#d8576b"
                          ],
                          [
                            0.6666666666666666,
                            "#ed7953"
                          ],
                          [
                            0.7777777777777778,
                            "#fb9f3a"
                          ],
                          [
                            0.8888888888888888,
                            "#fdca26"
                          ],
                          [
                            1,
                            "#f0f921"
                          ]
                        ],
                        "type": "heatmap"
                      }
                    ],
                    "heatmapgl": [
                      {
                        "colorbar": {
                          "outlinewidth": 0,
                          "ticks": ""
                        },
                        "colorscale": [
                          [
                            0,
                            "#0d0887"
                          ],
                          [
                            0.1111111111111111,
                            "#46039f"
                          ],
                          [
                            0.2222222222222222,
                            "#7201a8"
                          ],
                          [
                            0.3333333333333333,
                            "#9c179e"
                          ],
                          [
                            0.4444444444444444,
                            "#bd3786"
                          ],
                          [
                            0.5555555555555556,
                            "#d8576b"
                          ],
                          [
                            0.6666666666666666,
                            "#ed7953"
                          ],
                          [
                            0.7777777777777778,
                            "#fb9f3a"
                          ],
                          [
                            0.8888888888888888,
                            "#fdca26"
                          ],
                          [
                            1,
                            "#f0f921"
                          ]
                        ],
                        "type": "heatmapgl"
                      }
                    ],
                    "histogram": [
                      {
                        "marker": {
                          "pattern": {
                            "fillmode": "overlay",
                            "size": 10,
                            "solidity": 0.2
                          }
                        },
                        "type": "histogram"
                      }
                    ],
                    "histogram2d": [
                      {
                        "colorbar": {
                          "outlinewidth": 0,
                          "ticks": ""
                        },
                        "colorscale": [
                          [
                            0,
                            "#0d0887"
                          ],
                          [
                            0.1111111111111111,
                            "#46039f"
                          ],
                          [
                            0.2222222222222222,
                            "#7201a8"
                          ],
                          [
                            0.3333333333333333,
                            "#9c179e"
                          ],
                          [
                            0.4444444444444444,
                            "#bd3786"
                          ],
                          [
                            0.5555555555555556,
                            "#d8576b"
                          ],
                          [
                            0.6666666666666666,
                            "#ed7953"
                          ],
                          [
                            0.7777777777777778,
                            "#fb9f3a"
                          ],
                          [
                            0.8888888888888888,
                            "#fdca26"
                          ],
                          [
                            1,
                            "#f0f921"
                          ]
                        ],
                        "type": "histogram2d"
                      }
                    ],
                    "histogram2dcontour": [
                      {
                        "colorbar": {
                          "outlinewidth": 0,
                          "ticks": ""
                        },
                        "colorscale": [
                          [
                            0,
                            "#0d0887"
                          ],
                          [
                            0.1111111111111111,
                            "#46039f"
                          ],
                          [
                            0.2222222222222222,
                            "#7201a8"
                          ],
                          [
                            0.3333333333333333,
                            "#9c179e"
                          ],
                          [
                            0.4444444444444444,
                            "#bd3786"
                          ],
                          [
                            0.5555555555555556,
                            "#d8576b"
                          ],
                          [
                            0.6666666666666666,
                            "#ed7953"
                          ],
                          [
                            0.7777777777777778,
                            "#fb9f3a"
                          ],
                          [
                            0.8888888888888888,
                            "#fdca26"
                          ],
                          [
                            1,
                            "#f0f921"
                          ]
                        ],
                        "type": "histogram2dcontour"
                      }
                    ],
                    "mesh3d": [
                      {
                        "colorbar": {
                          "outlinewidth": 0,
                          "ticks": ""
                        },
                        "type": "mesh3d"
                      }
                    ],
                    "parcoords": [
                      {
                        "line": {
                          "colorbar": {
                            "outlinewidth": 0,
                            "ticks": ""
                          }
                        },
                        "type": "parcoords"
                      }
                    ],
                    "pie": [
                      {
                        "automargin": true,
                        "type": "pie"
                      }
                    ],
                    "scatter": [
                      {
                        "fillpattern": {
                          "fillmode": "overlay",
                          "size": 10,
                          "solidity": 0.2
                        },
                        "type": "scatter"
                      }
                    ],
                    "scatter3d": [
                      {
                        "line": {
                          "colorbar": {
                            "outlinewidth": 0,
                            "ticks": ""
                          }
                        },
                        "marker": {
                          "colorbar": {
                            "outlinewidth": 0,
                            "ticks": ""
                          }
                        },
                        "type": "scatter3d"
                      }
                    ],
                    "scattercarpet": [
                      {
                        "marker": {
                          "colorbar": {
                            "outlinewidth": 0,
                            "ticks": ""
                          }
                        },
                        "type": "scattercarpet"
                      }
                    ],
                    "scattergeo": [
                      {
                        "marker": {
                          "colorbar": {
                            "outlinewidth": 0,
                            "ticks": ""
                          }
                        },
                        "type": "scattergeo"
                      }
                    ],
                    "scattergl": [
                      {
                        "marker": {
                          "colorbar": {
                            "outlinewidth": 0,
                            "ticks": ""
                          }
                        },
                        "type": "scattergl"
                      }
                    ],
                    "scattermapbox": [
                      {
                        "marker": {
                          "colorbar": {
                            "outlinewidth": 0,
                            "ticks": ""
                          }
                        },
                        "type": "scattermapbox"
                      }
                    ],
                    "scatterpolar": [
                      {
                        "marker": {
                          "colorbar": {
                            "outlinewidth": 0,
                            "ticks": ""
                          }
                        },
                        "type": "scatterpolar"
                      }
                    ],
                    "scatterpolargl": [
                      {
                        "marker": {
                          "colorbar": {
                            "outlinewidth": 0,
                            "ticks": ""
                          }
                        },
                        "type": "scatterpolargl"
                      }
                    ],
                    "scatterternary": [
                      {
                        "marker": {
                          "colorbar": {
                            "outlinewidth": 0,
                            "ticks": ""
                          }
                        },
                        "type": "scatterternary"
                      }
                    ],
                    "surface": [
                      {
                        "colorbar": {
                          "outlinewidth": 0,
                          "ticks": ""
                        },
                        "colorscale": [
                          [
                            0,
                            "#0d0887"
                          ],
                          [
                            0.1111111111111111,
                            "#46039f"
                          ],
                          [
                            0.2222222222222222,
                            "#7201a8"
                          ],
                          [
                            0.3333333333333333,
                            "#9c179e"
                          ],
                          [
                            0.4444444444444444,
                            "#bd3786"
                          ],
                          [
                            0.5555555555555556,
                            "#d8576b"
                          ],
                          [
                            0.6666666666666666,
                            "#ed7953"
                          ],
                          [
                            0.7777777777777778,
                            "#fb9f3a"
                          ],
                          [
                            0.8888888888888888,
                            "#fdca26"
                          ],
                          [
                            1,
                            "#f0f921"
                          ]
                        ],
                        "type": "surface"
                      }
                    ],
                    "table": [
                      {
                        "cells": {
                          "fill": {
                            "color": "#EBF0F8"
                          },
                          "line": {
                            "color": "white"
                          }
                        },
                        "header": {
                          "fill": {
                            "color": "#C8D4E3"
                          },
                          "line": {
                            "color": "white"
                          }
                        },
                        "type": "table"
                      }
                    ]
                  },
                  "layout": {
                    "annotationdefaults": {
                      "arrowcolor": "#2a3f5f",
                      "arrowhead": 0,
                      "arrowwidth": 1
                    },
                    "autotypenumbers": "strict",
                    "coloraxis": {
                      "colorbar": {
                        "outlinewidth": 0,
                        "ticks": ""
                      }
                    },
                    "colorscale": {
                      "diverging": [
                        [
                          0,
                          "#8e0152"
                        ],
                        [
                          0.1,
                          "#c51b7d"
                        ],
                        [
                          0.2,
                          "#de77ae"
                        ],
                        [
                          0.3,
                          "#f1b6da"
                        ],
                        [
                          0.4,
                          "#fde0ef"
                        ],
                        [
                          0.5,
                          "#f7f7f7"
                        ],
                        [
                          0.6,
                          "#e6f5d0"
                        ],
                        [
                          0.7,
                          "#b8e186"
                        ],
                        [
                          0.8,
                          "#7fbc41"
                        ],
                        [
                          0.9,
                          "#4d9221"
                        ],
                        [
                          1,
                          "#276419"
                        ]
                      ],
                      "sequential": [
                        [
                          0,
                          "#0d0887"
                        ],
                        [
                          0.1111111111111111,
                          "#46039f"
                        ],
                        [
                          0.2222222222222222,
                          "#7201a8"
                        ],
                        [
                          0.3333333333333333,
                          "#9c179e"
                        ],
                        [
                          0.4444444444444444,
                          "#bd3786"
                        ],
                        [
                          0.5555555555555556,
                          "#d8576b"
                        ],
                        [
                          0.6666666666666666,
                          "#ed7953"
                        ],
                        [
                          0.7777777777777778,
                          "#fb9f3a"
                        ],
                        [
                          0.8888888888888888,
                          "#fdca26"
                        ],
                        [
                          1,
                          "#f0f921"
                        ]
                      ],
                      "sequentialminus": [
                        [
                          0,
                          "#0d0887"
                        ],
                        [
                          0.1111111111111111,
                          "#46039f"
                        ],
                        [
                          0.2222222222222222,
                          "#7201a8"
                        ],
                        [
                          0.3333333333333333,
                          "#9c179e"
                        ],
                        [
                          0.4444444444444444,
                          "#bd3786"
                        ],
                        [
                          0.5555555555555556,
                          "#d8576b"
                        ],
                        [
                          0.6666666666666666,
                          "#ed7953"
                        ],
                        [
                          0.7777777777777778,
                          "#fb9f3a"
                        ],
                        [
                          0.8888888888888888,
                          "#fdca26"
                        ],
                        [
                          1,
                          "#f0f921"
                        ]
                      ]
                    },
                    "colorway": [
                      "#636efa",
                      "#EF553B",
                      "#00cc96",
                      "#ab63fa",
                      "#FFA15A",
                      "#19d3f3",
                      "#FF6692",
                      "#B6E880",
                      "#FF97FF",
                      "#FECB52"
                    ],
                    "font": {
                      "color": "#2a3f5f"
                    },
                    "geo": {
                      "bgcolor": "white",
                      "lakecolor": "white",
                      "landcolor": "#E5ECF6",
                      "showlakes": true,
                      "showland": true,
                      "subunitcolor": "white"
                    },
                    "hoverlabel": {
                      "align": "left"
                    },
                    "hovermode": "closest",
                    "mapbox": {
                      "style": "light"
                    },
                    "paper_bgcolor": "white",
                    "plot_bgcolor": "#E5ECF6",
                    "polar": {
                      "angularaxis": {
                        "gridcolor": "white",
                        "linecolor": "white",
                        "ticks": ""
                      },
                      "bgcolor": "#E5ECF6",
                      "radialaxis": {
                        "gridcolor": "white",
                        "linecolor": "white",
                        "ticks": ""
                      }
                    },
                    "scene": {
                      "xaxis": {
                        "backgroundcolor": "#E5ECF6",
                        "gridcolor": "white",
                        "gridwidth": 2,
                        "linecolor": "white",
                        "showbackground": true,
                        "ticks": "",
                        "zerolinecolor": "white"
                      },
                      "yaxis": {
                        "backgroundcolor": "#E5ECF6",
                        "gridcolor": "white",
                        "gridwidth": 2,
                        "linecolor": "white",
                        "showbackground": true,
                        "ticks": "",
                        "zerolinecolor": "white"
                      },
                      "zaxis": {
                        "backgroundcolor": "#E5ECF6",
                        "gridcolor": "white",
                        "gridwidth": 2,
                        "linecolor": "white",
                        "showbackground": true,
                        "ticks": "",
                        "zerolinecolor": "white"
                      }
                    },
                    "shapedefaults": {
                      "line": {
                        "color": "#2a3f5f"
                      }
                    },
                    "ternary": {
                      "aaxis": {
                        "gridcolor": "white",
                        "linecolor": "white",
                        "ticks": ""
                      },
                      "baxis": {
                        "gridcolor": "white",
                        "linecolor": "white",
                        "ticks": ""
                      },
                      "bgcolor": "#E5ECF6",
                      "caxis": {
                        "gridcolor": "white",
                        "linecolor": "white",
                        "ticks": ""
                      }
                    },
                    "title": {
                      "x": 0.05
                    },
                    "xaxis": {
                      "automargin": true,
                      "gridcolor": "white",
                      "linecolor": "white",
                      "ticks": "",
                      "title": {
                        "standoff": 15
                      },
                      "zerolinecolor": "white",
                      "zerolinewidth": 2
                    },
                    "yaxis": {
                      "automargin": true,
                      "gridcolor": "white",
                      "linecolor": "white",
                      "ticks": "",
                      "title": {
                        "standoff": 15
                      },
                      "zerolinecolor": "white",
                      "zerolinewidth": 2
                    }
                  }
                },
                "uniformtext": {
                  "minsize": 10,
                  "mode": "hide"
                },
                "width": 1800
              }
            },
            "text/html": [
              "<div>                            <div id=\"f214744f-bff4-4e40-a5df-253cb33622a8\" class=\"plotly-graph-div\" style=\"height:500px; width:1800px;\"></div>            <script type=\"text/javascript\">                require([\"plotly\"], function(Plotly) {                    window.PLOTLYENV=window.PLOTLYENV || {};                                    if (document.getElementById(\"f214744f-bff4-4e40-a5df-253cb33622a8\")) {                    Plotly.newPlot(                        \"f214744f-bff4-4e40-a5df-253cb33622a8\",                        [{\"direction\":\"clockwise\",\"labels\":[\"Promoter (<=1kb)\",\"Promoter (1-2kb)\",\"Promoter (2-3kb)\",\"5' UTR\",\"3' UTR\",\"1st Exon\",\"Other Exon\",\"1st Intron\",\"Other Intron\",\"Downstream (<=300)\",\"Distal Intergenic\"],\"marker\":{\"colors\":[\"rgb(3, 35, 51)\",\"rgb(13, 48, 100)\",\"rgb(53, 50, 155)\",\"rgb(93, 62, 153)\",\"rgb(126, 77, 143)\",\"rgb(158, 89, 135)\",\"rgb(193, 100, 121)\",\"rgb(225, 113, 97)\",\"rgb(246, 139, 69)\",\"rgb(251, 173, 60)\",\"rgb(246, 211, 70)\",\"rgb(231, 250, 90)\"]},\"name\":\"Z-DNA & SIDD(+-500bp)\",\"rotation\":0,\"sort\":false,\"values\":[33.0743618,6.6037736,3.8845727,0.0554939,1.4983352,0.1109878,1.8867925,4.8834628,15.5937847,0.0554939,32.3529412],\"type\":\"pie\",\"domain\":{\"x\":[0.0,0.2125],\"y\":[0.0,1.0]},\"hole\":0.35,\"hoverinfo\":\"label+percent+name\",\"texttemplate\":\"%{value:.2f}%\"},{\"direction\":\"clockwise\",\"labels\":[\"Promoter (<=1kb)\",\"Promoter (1-2kb)\",\"Promoter (2-3kb)\",\"5' UTR\",\"3' UTR\",\"1st Exon\",\"Other Exon\",\"1st Intron\",\"Other Intron\",\"Downstream (<=300)\",\"Distal Intergenic\"],\"marker\":{\"colors\":[\"rgb(3, 35, 51)\",\"rgb(13, 48, 100)\",\"rgb(53, 50, 155)\",\"rgb(93, 62, 153)\",\"rgb(126, 77, 143)\",\"rgb(158, 89, 135)\",\"rgb(193, 100, 121)\",\"rgb(225, 113, 97)\",\"rgb(246, 139, 69)\",\"rgb(251, 173, 60)\",\"rgb(246, 211, 70)\",\"rgb(231, 250, 90)\"]},\"name\":\"SIDD(+-500bp)\",\"rotation\":0,\"sort\":false,\"values\":[8.96312762,3.6414749,3.56302301,0.07845188,1.23561715,0.03922594,1.96129707,7.00183054,16.46835774,0.06537657,56.98221757],\"type\":\"pie\",\"domain\":{\"x\":[0.2625,0.475],\"y\":[0.0,1.0]},\"hole\":0.35,\"hoverinfo\":\"label+percent+name\",\"texttemplate\":\"%{value:.2f}%\"},{\"direction\":\"clockwise\",\"labels\":[\"Promoter (<=1kb)\",\"Promoter (1-2kb)\",\"Promoter (2-3kb)\",\"5' UTR\",\"3' UTR\",\"1st Exon\",\"Other Exon\",\"1st Intron\",\"Other Intron\",\"Downstream (<=300)\",\"Distal Intergenic\"],\"marker\":{\"colors\":[\"rgb(3, 35, 51)\",\"rgb(13, 48, 100)\",\"rgb(53, 50, 155)\",\"rgb(93, 62, 153)\",\"rgb(126, 77, 143)\",\"rgb(158, 89, 135)\",\"rgb(193, 100, 121)\",\"rgb(225, 113, 97)\",\"rgb(246, 139, 69)\",\"rgb(251, 173, 60)\",\"rgb(246, 211, 70)\",\"rgb(231, 250, 90)\"]},\"name\":\"G4 & SIDD(+-500bp)\",\"rotation\":0,\"sort\":false,\"values\":[15.31239883,5.05017805,3.59339592,0,1.23017158,0,0.48559404,7.08967303,18.06409841,0.09711881,49.07737132],\"type\":\"pie\",\"domain\":{\"x\":[0.525,0.7375],\"y\":[0.0,1.0]},\"hole\":0.35,\"hoverinfo\":\"label+percent+name\",\"texttemplate\":\"%{value:.2f}%\"},{\"direction\":\"clockwise\",\"labels\":[\"Promoter (<=1kb)\",\"Promoter (1-2kb)\",\"Promoter (2-3kb)\",\"5' UTR\",\"3' UTR\",\"1st Exon\",\"Other Exon\",\"1st Intron\",\"Other Intron\",\"Downstream (<=300)\",\"Distal Intergenic\"],\"marker\":{\"colors\":[\"rgb(3, 35, 51)\",\"rgb(13, 48, 100)\",\"rgb(53, 50, 155)\",\"rgb(93, 62, 153)\",\"rgb(126, 77, 143)\",\"rgb(158, 89, 135)\",\"rgb(193, 100, 121)\",\"rgb(225, 113, 97)\",\"rgb(246, 139, 69)\",\"rgb(251, 173, 60)\",\"rgb(246, 211, 70)\",\"rgb(231, 250, 90)\"]},\"name\":\"H-DNA & SIDD(+-500bp)\",\"rotation\":0,\"sort\":false,\"values\":[11.171875,4.6875,3.046875,0,0.9765625,0,0.234375,7.8515625,20.15625,0.078125,51.796875],\"type\":\"pie\",\"domain\":{\"x\":[0.7875,1.0],\"y\":[0.0,1.0]},\"hole\":0.35,\"hoverinfo\":\"label+percent+name\",\"texttemplate\":\"%{value:.2f}%\"}],                        {\"template\":{\"data\":{\"histogram2dcontour\":[{\"type\":\"histogram2dcontour\",\"colorbar\":{\"outlinewidth\":0,\"ticks\":\"\"},\"colorscale\":[[0.0,\"#0d0887\"],[0.1111111111111111,\"#46039f\"],[0.2222222222222222,\"#7201a8\"],[0.3333333333333333,\"#9c179e\"],[0.4444444444444444,\"#bd3786\"],[0.5555555555555556,\"#d8576b\"],[0.6666666666666666,\"#ed7953\"],[0.7777777777777778,\"#fb9f3a\"],[0.8888888888888888,\"#fdca26\"],[1.0,\"#f0f921\"]]}],\"choropleth\":[{\"type\":\"choropleth\",\"colorbar\":{\"outlinewidth\":0,\"ticks\":\"\"}}],\"histogram2d\":[{\"type\":\"histogram2d\",\"colorbar\":{\"outlinewidth\":0,\"ticks\":\"\"},\"colorscale\":[[0.0,\"#0d0887\"],[0.1111111111111111,\"#46039f\"],[0.2222222222222222,\"#7201a8\"],[0.3333333333333333,\"#9c179e\"],[0.4444444444444444,\"#bd3786\"],[0.5555555555555556,\"#d8576b\"],[0.6666666666666666,\"#ed7953\"],[0.7777777777777778,\"#fb9f3a\"],[0.8888888888888888,\"#fdca26\"],[1.0,\"#f0f921\"]]}],\"heatmap\":[{\"type\":\"heatmap\",\"colorbar\":{\"outlinewidth\":0,\"ticks\":\"\"},\"colorscale\":[[0.0,\"#0d0887\"],[0.1111111111111111,\"#46039f\"],[0.2222222222222222,\"#7201a8\"],[0.3333333333333333,\"#9c179e\"],[0.4444444444444444,\"#bd3786\"],[0.5555555555555556,\"#d8576b\"],[0.6666666666666666,\"#ed7953\"],[0.7777777777777778,\"#fb9f3a\"],[0.8888888888888888,\"#fdca26\"],[1.0,\"#f0f921\"]]}],\"heatmapgl\":[{\"type\":\"heatmapgl\",\"colorbar\":{\"outlinewidth\":0,\"ticks\":\"\"},\"colorscale\":[[0.0,\"#0d0887\"],[0.1111111111111111,\"#46039f\"],[0.2222222222222222,\"#7201a8\"],[0.3333333333333333,\"#9c179e\"],[0.4444444444444444,\"#bd3786\"],[0.5555555555555556,\"#d8576b\"],[0.6666666666666666,\"#ed7953\"],[0.7777777777777778,\"#fb9f3a\"],[0.8888888888888888,\"#fdca26\"],[1.0,\"#f0f921\"]]}],\"contourcarpet\":[{\"type\":\"contourcarpet\",\"colorbar\":{\"outlinewidth\":0,\"ticks\":\"\"}}],\"contour\":[{\"type\":\"contour\",\"colorbar\":{\"outlinewidth\":0,\"ticks\":\"\"},\"colorscale\":[[0.0,\"#0d0887\"],[0.1111111111111111,\"#46039f\"],[0.2222222222222222,\"#7201a8\"],[0.3333333333333333,\"#9c179e\"],[0.4444444444444444,\"#bd3786\"],[0.5555555555555556,\"#d8576b\"],[0.6666666666666666,\"#ed7953\"],[0.7777777777777778,\"#fb9f3a\"],[0.8888888888888888,\"#fdca26\"],[1.0,\"#f0f921\"]]}],\"surface\":[{\"type\":\"surface\",\"colorbar\":{\"outlinewidth\":0,\"ticks\":\"\"},\"colorscale\":[[0.0,\"#0d0887\"],[0.1111111111111111,\"#46039f\"],[0.2222222222222222,\"#7201a8\"],[0.3333333333333333,\"#9c179e\"],[0.4444444444444444,\"#bd3786\"],[0.5555555555555556,\"#d8576b\"],[0.6666666666666666,\"#ed7953\"],[0.7777777777777778,\"#fb9f3a\"],[0.8888888888888888,\"#fdca26\"],[1.0,\"#f0f921\"]]}],\"mesh3d\":[{\"type\":\"mesh3d\",\"colorbar\":{\"outlinewidth\":0,\"ticks\":\"\"}}],\"scatter\":[{\"fillpattern\":{\"fillmode\":\"overlay\",\"size\":10,\"solidity\":0.2},\"type\":\"scatter\"}],\"parcoords\":[{\"type\":\"parcoords\",\"line\":{\"colorbar\":{\"outlinewidth\":0,\"ticks\":\"\"}}}],\"scatterpolargl\":[{\"type\":\"scatterpolargl\",\"marker\":{\"colorbar\":{\"outlinewidth\":0,\"ticks\":\"\"}}}],\"bar\":[{\"error_x\":{\"color\":\"#2a3f5f\"},\"error_y\":{\"color\":\"#2a3f5f\"},\"marker\":{\"line\":{\"color\":\"#E5ECF6\",\"width\":0.5},\"pattern\":{\"fillmode\":\"overlay\",\"size\":10,\"solidity\":0.2}},\"type\":\"bar\"}],\"scattergeo\":[{\"type\":\"scattergeo\",\"marker\":{\"colorbar\":{\"outlinewidth\":0,\"ticks\":\"\"}}}],\"scatterpolar\":[{\"type\":\"scatterpolar\",\"marker\":{\"colorbar\":{\"outlinewidth\":0,\"ticks\":\"\"}}}],\"histogram\":[{\"marker\":{\"pattern\":{\"fillmode\":\"overlay\",\"size\":10,\"solidity\":0.2}},\"type\":\"histogram\"}],\"scattergl\":[{\"type\":\"scattergl\",\"marker\":{\"colorbar\":{\"outlinewidth\":0,\"ticks\":\"\"}}}],\"scatter3d\":[{\"type\":\"scatter3d\",\"line\":{\"colorbar\":{\"outlinewidth\":0,\"ticks\":\"\"}},\"marker\":{\"colorbar\":{\"outlinewidth\":0,\"ticks\":\"\"}}}],\"scattermapbox\":[{\"type\":\"scattermapbox\",\"marker\":{\"colorbar\":{\"outlinewidth\":0,\"ticks\":\"\"}}}],\"scatterternary\":[{\"type\":\"scatterternary\",\"marker\":{\"colorbar\":{\"outlinewidth\":0,\"ticks\":\"\"}}}],\"scattercarpet\":[{\"type\":\"scattercarpet\",\"marker\":{\"colorbar\":{\"outlinewidth\":0,\"ticks\":\"\"}}}],\"carpet\":[{\"aaxis\":{\"endlinecolor\":\"#2a3f5f\",\"gridcolor\":\"white\",\"linecolor\":\"white\",\"minorgridcolor\":\"white\",\"startlinecolor\":\"#2a3f5f\"},\"baxis\":{\"endlinecolor\":\"#2a3f5f\",\"gridcolor\":\"white\",\"linecolor\":\"white\",\"minorgridcolor\":\"white\",\"startlinecolor\":\"#2a3f5f\"},\"type\":\"carpet\"}],\"table\":[{\"cells\":{\"fill\":{\"color\":\"#EBF0F8\"},\"line\":{\"color\":\"white\"}},\"header\":{\"fill\":{\"color\":\"#C8D4E3\"},\"line\":{\"color\":\"white\"}},\"type\":\"table\"}],\"barpolar\":[{\"marker\":{\"line\":{\"color\":\"#E5ECF6\",\"width\":0.5},\"pattern\":{\"fillmode\":\"overlay\",\"size\":10,\"solidity\":0.2}},\"type\":\"barpolar\"}],\"pie\":[{\"automargin\":true,\"type\":\"pie\"}]},\"layout\":{\"autotypenumbers\":\"strict\",\"colorway\":[\"#636efa\",\"#EF553B\",\"#00cc96\",\"#ab63fa\",\"#FFA15A\",\"#19d3f3\",\"#FF6692\",\"#B6E880\",\"#FF97FF\",\"#FECB52\"],\"font\":{\"color\":\"#2a3f5f\"},\"hovermode\":\"closest\",\"hoverlabel\":{\"align\":\"left\"},\"paper_bgcolor\":\"white\",\"plot_bgcolor\":\"#E5ECF6\",\"polar\":{\"bgcolor\":\"#E5ECF6\",\"angularaxis\":{\"gridcolor\":\"white\",\"linecolor\":\"white\",\"ticks\":\"\"},\"radialaxis\":{\"gridcolor\":\"white\",\"linecolor\":\"white\",\"ticks\":\"\"}},\"ternary\":{\"bgcolor\":\"#E5ECF6\",\"aaxis\":{\"gridcolor\":\"white\",\"linecolor\":\"white\",\"ticks\":\"\"},\"baxis\":{\"gridcolor\":\"white\",\"linecolor\":\"white\",\"ticks\":\"\"},\"caxis\":{\"gridcolor\":\"white\",\"linecolor\":\"white\",\"ticks\":\"\"}},\"coloraxis\":{\"colorbar\":{\"outlinewidth\":0,\"ticks\":\"\"}},\"colorscale\":{\"sequential\":[[0.0,\"#0d0887\"],[0.1111111111111111,\"#46039f\"],[0.2222222222222222,\"#7201a8\"],[0.3333333333333333,\"#9c179e\"],[0.4444444444444444,\"#bd3786\"],[0.5555555555555556,\"#d8576b\"],[0.6666666666666666,\"#ed7953\"],[0.7777777777777778,\"#fb9f3a\"],[0.8888888888888888,\"#fdca26\"],[1.0,\"#f0f921\"]],\"sequentialminus\":[[0.0,\"#0d0887\"],[0.1111111111111111,\"#46039f\"],[0.2222222222222222,\"#7201a8\"],[0.3333333333333333,\"#9c179e\"],[0.4444444444444444,\"#bd3786\"],[0.5555555555555556,\"#d8576b\"],[0.6666666666666666,\"#ed7953\"],[0.7777777777777778,\"#fb9f3a\"],[0.8888888888888888,\"#fdca26\"],[1.0,\"#f0f921\"]],\"diverging\":[[0,\"#8e0152\"],[0.1,\"#c51b7d\"],[0.2,\"#de77ae\"],[0.3,\"#f1b6da\"],[0.4,\"#fde0ef\"],[0.5,\"#f7f7f7\"],[0.6,\"#e6f5d0\"],[0.7,\"#b8e186\"],[0.8,\"#7fbc41\"],[0.9,\"#4d9221\"],[1,\"#276419\"]]},\"xaxis\":{\"gridcolor\":\"white\",\"linecolor\":\"white\",\"ticks\":\"\",\"title\":{\"standoff\":15},\"zerolinecolor\":\"white\",\"automargin\":true,\"zerolinewidth\":2},\"yaxis\":{\"gridcolor\":\"white\",\"linecolor\":\"white\",\"ticks\":\"\",\"title\":{\"standoff\":15},\"zerolinecolor\":\"white\",\"automargin\":true,\"zerolinewidth\":2},\"scene\":{\"xaxis\":{\"backgroundcolor\":\"#E5ECF6\",\"gridcolor\":\"white\",\"linecolor\":\"white\",\"showbackground\":true,\"ticks\":\"\",\"zerolinecolor\":\"white\",\"gridwidth\":2},\"yaxis\":{\"backgroundcolor\":\"#E5ECF6\",\"gridcolor\":\"white\",\"linecolor\":\"white\",\"showbackground\":true,\"ticks\":\"\",\"zerolinecolor\":\"white\",\"gridwidth\":2},\"zaxis\":{\"backgroundcolor\":\"#E5ECF6\",\"gridcolor\":\"white\",\"linecolor\":\"white\",\"showbackground\":true,\"ticks\":\"\",\"zerolinecolor\":\"white\",\"gridwidth\":2}},\"shapedefaults\":{\"line\":{\"color\":\"#2a3f5f\"}},\"annotationdefaults\":{\"arrowcolor\":\"#2a3f5f\",\"arrowhead\":0,\"arrowwidth\":1},\"geo\":{\"bgcolor\":\"white\",\"landcolor\":\"#E5ECF6\",\"subunitcolor\":\"white\",\"showland\":true,\"showlakes\":true,\"lakecolor\":\"white\"},\"title\":{\"x\":0.05},\"mapbox\":{\"style\":\"light\"}}},\"annotations\":[{\"font\":{\"size\":16},\"showarrow\":false,\"text\":\"Z-DNA & SIDD(+-500bp)\",\"x\":0.10625,\"xanchor\":\"center\",\"xref\":\"paper\",\"y\":1.0,\"yanchor\":\"bottom\",\"yref\":\"paper\",\"yshift\":20},{\"font\":{\"size\":16},\"showarrow\":false,\"text\":\"SIDD(+-500bp)\",\"x\":0.36875,\"xanchor\":\"center\",\"xref\":\"paper\",\"y\":1.0,\"yanchor\":\"bottom\",\"yref\":\"paper\",\"yshift\":20},{\"font\":{\"size\":16},\"showarrow\":false,\"text\":\"G4 & SIDD(+-500bp)\",\"x\":0.6312500000000001,\"xanchor\":\"center\",\"xref\":\"paper\",\"y\":1.0,\"yanchor\":\"bottom\",\"yref\":\"paper\",\"yshift\":20},{\"font\":{\"size\":16},\"showarrow\":false,\"text\":\"H-DNA & SIDD(+-500bp)\",\"x\":0.89375,\"xanchor\":\"center\",\"xref\":\"paper\",\"y\":1.0,\"yanchor\":\"bottom\",\"yref\":\"paper\",\"yshift\":20}],\"uniformtext\":{\"minsize\":10,\"mode\":\"hide\"},\"font\":{\"family\":\"monospace\",\"size\":12},\"height\":500,\"width\":1800},                        {\"responsive\": true}                    ).then(function(){\n",
              "                            \n",
              "var gd = document.getElementById('f214744f-bff4-4e40-a5df-253cb33622a8');\n",
              "var x = new MutationObserver(function (mutations, observer) {{\n",
              "        var display = window.getComputedStyle(gd).display;\n",
              "        if (!display || display === 'none') {{\n",
              "            console.log([gd, 'removed!']);\n",
              "            Plotly.purge(gd);\n",
              "            observer.disconnect();\n",
              "        }}\n",
              "}});\n",
              "\n",
              "// Listen for the removal of the full notebook cells\n",
              "var notebookContainer = gd.closest('#notebook-container');\n",
              "if (notebookContainer) {{\n",
              "    x.observe(notebookContainer, {childList: true});\n",
              "}}\n",
              "\n",
              "// Listen for the clearing of the current output cell\n",
              "var outputEl = gd.closest('.output');\n",
              "if (outputEl) {{\n",
              "    x.observe(outputEl, {childList: true});\n",
              "}}\n",
              "\n",
              "                        })                };                });            </script>        </div>"
            ]
          },
          "metadata": {},
          "output_type": "display_data"
        }
      ],
      "source": [
        "\"\"\"Draw the figures.\"\"\"\n",
        "\n",
        "figure_names = [\n",
        "    'flipons', 'flipons_and_mirna', 'flipons_100bp', 'flipons_200bp', 'flipons_500bp', \n",
        "]\n",
        "for i in range(len(figure_names)):\n",
        "    draw_pie_subplots(\n",
        "        data_list[i * 4 : (i * 4) + 4], 1, 4, f\"../img/mm10_kouzine_ssDNA_pie_chart_{i}_{figure_names[i]}\"\n",
        "    )\n"
      ]
    },
    {
      "cell_type": "code",
      "execution_count": null,
      "metadata": {},
      "outputs": [],
      "source": []
    }
  ],
  "metadata": {
    "colab": {
      "collapsed_sections": [],
      "name": "2022-05-12_04_draw_pie_charts.ipynb",
      "provenance": []
    },
    "kernelspec": {
      "display_name": "Python 3.11.0 ('mirna')",
      "language": "python",
      "name": "python3"
    },
    "language_info": {
      "codemirror_mode": {
        "name": "ipython",
        "version": 3
      },
      "file_extension": ".py",
      "mimetype": "text/x-python",
      "name": "python",
      "nbconvert_exporter": "python",
      "pygments_lexer": "ipython3",
      "version": "3.11.0"
    },
    "vscode": {
      "interpreter": {
        "hash": "aa4ca5e43b0b74394dc05f972f57eb4922712b4f4450a8ee4f1bf77784cf2ccc"
      }
    }
  },
  "nbformat": 4,
  "nbformat_minor": 0
}
