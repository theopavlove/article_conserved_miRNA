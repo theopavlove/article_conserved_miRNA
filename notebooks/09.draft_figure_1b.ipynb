{
 "cells": [
  {
   "cell_type": "code",
   "execution_count": 1,
   "metadata": {},
   "outputs": [],
   "source": [
    "import typing\n",
    "import numpy as np\n",
    "import pandas as pd\n",
    "import plotly.graph_objects as go\n",
    "import plotly.figure_factory as ff\n",
    "\n",
    "from datapaths import *\n",
    "\n",
    "pd.set_option('display.max_rows', 4)\n"
   ]
  },
  {
   "cell_type": "code",
   "execution_count": 2,
   "metadata": {},
   "outputs": [
    {
     "data": {
      "text/html": [
       "<div>\n",
       "<style scoped>\n",
       "    .dataframe tbody tr th:only-of-type {\n",
       "        vertical-align: middle;\n",
       "    }\n",
       "\n",
       "    .dataframe tbody tr th {\n",
       "        vertical-align: top;\n",
       "    }\n",
       "\n",
       "    .dataframe thead th {\n",
       "        text-align: right;\n",
       "    }\n",
       "</style>\n",
       "<table border=\"1\" class=\"dataframe\">\n",
       "  <thead>\n",
       "    <tr style=\"text-align: right;\">\n",
       "      <th></th>\n",
       "      <th>Flipon</th>\n",
       "      <th>Coordinates</th>\n",
       "      <th>Gene Name</th>\n",
       "      <th>Gene Strand</th>\n",
       "      <th>Gene Feature</th>\n",
       "      <th>miRNA (+)</th>\n",
       "      <th>miRNA (-)</th>\n",
       "      <th>miRNA (intersection)</th>\n",
       "      <th>cCRE (+-200bp)</th>\n",
       "      <th>LINE/LTR (+-200bp)</th>\n",
       "      <th>Feature Group</th>\n",
       "    </tr>\n",
       "  </thead>\n",
       "  <tbody>\n",
       "    <tr>\n",
       "      <th>0</th>\n",
       "      <td>g4</td>\n",
       "      <td>chr1:3014794-3014871</td>\n",
       "      <td>4933401J01Rik</td>\n",
       "      <td>+</td>\n",
       "      <td>Distal Intergenic</td>\n",
       "      <td>miR-328 (1)</td>\n",
       "      <td>None</td>\n",
       "      <td>None</td>\n",
       "      <td>None</td>\n",
       "      <td>LINE@L1Md_F2(-), LINE@L1VL1(+)</td>\n",
       "      <td>LINE/LTR</td>\n",
       "    </tr>\n",
       "    <tr>\n",
       "      <th>1</th>\n",
       "      <td>g4</td>\n",
       "      <td>chr1:3099888-3099963</td>\n",
       "      <td>Gm26206</td>\n",
       "      <td>+</td>\n",
       "      <td>Promoter (2-3kb)</td>\n",
       "      <td>None</td>\n",
       "      <td>miR-328 (1)</td>\n",
       "      <td>None</td>\n",
       "      <td>None</td>\n",
       "      <td>LINE@L1Md_F2(+), LTR@MTC(+)</td>\n",
       "      <td>LINE/LTR</td>\n",
       "    </tr>\n",
       "    <tr>\n",
       "      <th>...</th>\n",
       "      <td>...</td>\n",
       "      <td>...</td>\n",
       "      <td>...</td>\n",
       "      <td>...</td>\n",
       "      <td>...</td>\n",
       "      <td>...</td>\n",
       "      <td>...</td>\n",
       "      <td>...</td>\n",
       "      <td>...</td>\n",
       "      <td>...</td>\n",
       "      <td>...</td>\n",
       "    </tr>\n",
       "    <tr>\n",
       "      <th>77706</th>\n",
       "      <td>z-dna</td>\n",
       "      <td>chrY:4203100-4203146</td>\n",
       "      <td>Gm28191</td>\n",
       "      <td>+</td>\n",
       "      <td>Distal Intergenic</td>\n",
       "      <td>None</td>\n",
       "      <td>None</td>\n",
       "      <td>None</td>\n",
       "      <td>None</td>\n",
       "      <td>LINE@L1_Mur1(-)</td>\n",
       "      <td>LINE/LTR</td>\n",
       "    </tr>\n",
       "    <tr>\n",
       "      <th>77707</th>\n",
       "      <td>z-dna</td>\n",
       "      <td>chrY:4207093-4207113</td>\n",
       "      <td>Gm28191</td>\n",
       "      <td>+</td>\n",
       "      <td>Distal Intergenic</td>\n",
       "      <td>None</td>\n",
       "      <td>None</td>\n",
       "      <td>None</td>\n",
       "      <td>None</td>\n",
       "      <td>LINE@L1_Mus3(+), LINE@L1Md_A(+), LTR@ORR1B1(+)</td>\n",
       "      <td>LINE/LTR</td>\n",
       "    </tr>\n",
       "  </tbody>\n",
       "</table>\n",
       "<p>77708 rows × 11 columns</p>\n",
       "</div>"
      ],
      "text/plain": [
       "      Flipon           Coordinates      Gene Name Gene Strand  \\\n",
       "0         g4  chr1:3014794-3014871  4933401J01Rik           +   \n",
       "1         g4  chr1:3099888-3099963        Gm26206           +   \n",
       "...      ...                   ...            ...         ...   \n",
       "77706  z-dna  chrY:4203100-4203146        Gm28191           +   \n",
       "77707  z-dna  chrY:4207093-4207113        Gm28191           +   \n",
       "\n",
       "            Gene Feature    miRNA (+)    miRNA (-) miRNA (intersection)  \\\n",
       "0      Distal Intergenic  miR-328 (1)         None                 None   \n",
       "1       Promoter (2-3kb)         None  miR-328 (1)                 None   \n",
       "...                  ...          ...          ...                  ...   \n",
       "77706  Distal Intergenic         None         None                 None   \n",
       "77707  Distal Intergenic         None         None                 None   \n",
       "\n",
       "      cCRE (+-200bp)                              LINE/LTR (+-200bp)  \\\n",
       "0               None                  LINE@L1Md_F2(-), LINE@L1VL1(+)   \n",
       "1               None                     LINE@L1Md_F2(+), LTR@MTC(+)   \n",
       "...              ...                                             ...   \n",
       "77706           None                                 LINE@L1_Mur1(-)   \n",
       "77707           None  LINE@L1_Mus3(+), LINE@L1Md_A(+), LTR@ORR1B1(+)   \n",
       "\n",
       "      Feature Group  \n",
       "0          LINE/LTR  \n",
       "1          LINE/LTR  \n",
       "...             ...  \n",
       "77706      LINE/LTR  \n",
       "77707      LINE/LTR  \n",
       "\n",
       "[77708 rows x 11 columns]"
      ]
     },
     "execution_count": 2,
     "metadata": {},
     "output_type": "execute_result"
    }
   ],
   "source": [
    "flipon_to_data = pd.read_table(F_FLIPON_TO_DATA).fillna('None')\n",
    "flipon_to_data"
   ]
  },
  {
   "cell_type": "code",
   "execution_count": 3,
   "metadata": {},
   "outputs": [
    {
     "data": {
      "text/html": [
       "<div>\n",
       "<style scoped>\n",
       "    .dataframe tbody tr th:only-of-type {\n",
       "        vertical-align: middle;\n",
       "    }\n",
       "\n",
       "    .dataframe tbody tr th {\n",
       "        vertical-align: top;\n",
       "    }\n",
       "\n",
       "    .dataframe thead th {\n",
       "        text-align: right;\n",
       "    }\n",
       "</style>\n",
       "<table border=\"1\" class=\"dataframe\">\n",
       "  <thead>\n",
       "    <tr style=\"text-align: right;\">\n",
       "      <th></th>\n",
       "      <th>Flipon</th>\n",
       "      <th>Coordinates</th>\n",
       "      <th>Gene Name</th>\n",
       "      <th>Gene Strand</th>\n",
       "      <th>Gene Feature</th>\n",
       "      <th>miRNA (+)</th>\n",
       "      <th>miRNA (-)</th>\n",
       "      <th>miRNA (intersection)</th>\n",
       "      <th>cCRE (+-200bp)</th>\n",
       "      <th>LINE/LTR (+-200bp)</th>\n",
       "      <th>Feature Group</th>\n",
       "    </tr>\n",
       "  </thead>\n",
       "  <tbody>\n",
       "    <tr>\n",
       "      <th>0</th>\n",
       "      <td>g4</td>\n",
       "      <td>chr1:3014794-3014871</td>\n",
       "      <td>4933401J01Rik</td>\n",
       "      <td>+</td>\n",
       "      <td>Distal Intergenic</td>\n",
       "      <td>miR-328 (1)</td>\n",
       "      <td>None</td>\n",
       "      <td>None</td>\n",
       "      <td>None</td>\n",
       "      <td>LINE@L1Md_F2(-), LINE@L1VL1(+)</td>\n",
       "      <td>LINE/LTR</td>\n",
       "    </tr>\n",
       "    <tr>\n",
       "      <th>1</th>\n",
       "      <td>g4</td>\n",
       "      <td>chr1:3099888-3099963</td>\n",
       "      <td>Gm26206</td>\n",
       "      <td>+</td>\n",
       "      <td>Promoter (2-3kb)</td>\n",
       "      <td>None</td>\n",
       "      <td>miR-328 (1)</td>\n",
       "      <td>None</td>\n",
       "      <td>None</td>\n",
       "      <td>LINE@L1Md_F2(+), LTR@MTC(+)</td>\n",
       "      <td>LINE/LTR</td>\n",
       "    </tr>\n",
       "    <tr>\n",
       "      <th>...</th>\n",
       "      <td>...</td>\n",
       "      <td>...</td>\n",
       "      <td>...</td>\n",
       "      <td>...</td>\n",
       "      <td>...</td>\n",
       "      <td>...</td>\n",
       "      <td>...</td>\n",
       "      <td>...</td>\n",
       "      <td>...</td>\n",
       "      <td>...</td>\n",
       "      <td>...</td>\n",
       "    </tr>\n",
       "    <tr>\n",
       "      <th>31688</th>\n",
       "      <td>z-dna</td>\n",
       "      <td>chrY:2227060-2227083</td>\n",
       "      <td>Uba1y-ps2</td>\n",
       "      <td>+</td>\n",
       "      <td>Distal Intergenic</td>\n",
       "      <td>None</td>\n",
       "      <td>miR-377 (1)</td>\n",
       "      <td>None</td>\n",
       "      <td>None</td>\n",
       "      <td>None</td>\n",
       "      <td>None</td>\n",
       "    </tr>\n",
       "    <tr>\n",
       "      <th>31689</th>\n",
       "      <td>z-dna</td>\n",
       "      <td>chrY:2495414-2495442</td>\n",
       "      <td>Gm22119</td>\n",
       "      <td>-</td>\n",
       "      <td>Distal Intergenic</td>\n",
       "      <td>None</td>\n",
       "      <td>miR-377 (1)</td>\n",
       "      <td>None</td>\n",
       "      <td>None</td>\n",
       "      <td>LINE@Lx5b(+)</td>\n",
       "      <td>LINE/LTR</td>\n",
       "    </tr>\n",
       "  </tbody>\n",
       "</table>\n",
       "<p>31690 rows × 11 columns</p>\n",
       "</div>"
      ],
      "text/plain": [
       "      Flipon           Coordinates      Gene Name Gene Strand  \\\n",
       "0         g4  chr1:3014794-3014871  4933401J01Rik           +   \n",
       "1         g4  chr1:3099888-3099963        Gm26206           +   \n",
       "...      ...                   ...            ...         ...   \n",
       "31688  z-dna  chrY:2227060-2227083      Uba1y-ps2           +   \n",
       "31689  z-dna  chrY:2495414-2495442        Gm22119           -   \n",
       "\n",
       "            Gene Feature    miRNA (+)    miRNA (-) miRNA (intersection)  \\\n",
       "0      Distal Intergenic  miR-328 (1)         None                 None   \n",
       "1       Promoter (2-3kb)         None  miR-328 (1)                 None   \n",
       "...                  ...          ...          ...                  ...   \n",
       "31688  Distal Intergenic         None  miR-377 (1)                 None   \n",
       "31689  Distal Intergenic         None  miR-377 (1)                 None   \n",
       "\n",
       "      cCRE (+-200bp)              LINE/LTR (+-200bp) Feature Group  \n",
       "0               None  LINE@L1Md_F2(-), LINE@L1VL1(+)      LINE/LTR  \n",
       "1               None     LINE@L1Md_F2(+), LTR@MTC(+)      LINE/LTR  \n",
       "...              ...                             ...           ...  \n",
       "31688           None                            None          None  \n",
       "31689           None                    LINE@Lx5b(+)      LINE/LTR  \n",
       "\n",
       "[31690 rows x 11 columns]"
      ]
     },
     "execution_count": 3,
     "metadata": {},
     "output_type": "execute_result"
    }
   ],
   "source": [
    "flipon_to_data_mirna = pd.read_table(F_FLIPON_TO_DATA_MIRNA).fillna('None')\n",
    "flipon_to_data_mirna"
   ]
  },
  {
   "cell_type": "code",
   "execution_count": 8,
   "metadata": {},
   "outputs": [
    {
     "data": {
      "text/html": [
       "<div>\n",
       "<style scoped>\n",
       "    .dataframe tbody tr th:only-of-type {\n",
       "        vertical-align: middle;\n",
       "    }\n",
       "\n",
       "    .dataframe tbody tr th {\n",
       "        vertical-align: top;\n",
       "    }\n",
       "\n",
       "    .dataframe thead th {\n",
       "        text-align: right;\n",
       "    }\n",
       "</style>\n",
       "<table border=\"1\" class=\"dataframe\">\n",
       "  <thead>\n",
       "    <tr style=\"text-align: right;\">\n",
       "      <th></th>\n",
       "      <th>Flipon</th>\n",
       "      <th>Coordinates</th>\n",
       "      <th>Gene Name</th>\n",
       "      <th>Gene Strand</th>\n",
       "      <th>Gene Feature</th>\n",
       "      <th>miRNA (+)</th>\n",
       "      <th>miRNA (-)</th>\n",
       "      <th>miRNA (intersection)</th>\n",
       "      <th>cCRE (+-200bp)</th>\n",
       "      <th>LINE/LTR (+-200bp)</th>\n",
       "      <th>Feature Group</th>\n",
       "    </tr>\n",
       "  </thead>\n",
       "  <tbody>\n",
       "    <tr>\n",
       "      <th>4461</th>\n",
       "      <td>g4</td>\n",
       "      <td>chr9:119402225-119402255</td>\n",
       "      <td>Acvr2b</td>\n",
       "      <td>+</td>\n",
       "      <td>Promoter (&lt;=1kb)</td>\n",
       "      <td>None</td>\n",
       "      <td>miR-296 (1)</td>\n",
       "      <td>None</td>\n",
       "      <td>PLS (CTCF-bound)@EM10E0921832, PLS (CTCF-bound...</td>\n",
       "      <td>None</td>\n",
       "      <td>cCRE &amp; CTCF</td>\n",
       "    </tr>\n",
       "    <tr>\n",
       "      <th>4462</th>\n",
       "      <td>g4</td>\n",
       "      <td>chr9:119402281-119402334</td>\n",
       "      <td>Acvr2b</td>\n",
       "      <td>+</td>\n",
       "      <td>Promoter (&lt;=1kb)</td>\n",
       "      <td>None</td>\n",
       "      <td>miR-744 (1)</td>\n",
       "      <td>None</td>\n",
       "      <td>PLS (CTCF-bound)@EM10E0921832, PLS (CTCF-bound...</td>\n",
       "      <td>None</td>\n",
       "      <td>cCRE &amp; CTCF</td>\n",
       "    </tr>\n",
       "    <tr>\n",
       "      <th>28945</th>\n",
       "      <td>z-dna</td>\n",
       "      <td>chr9:119401689-119401705</td>\n",
       "      <td>Acvr2b</td>\n",
       "      <td>+</td>\n",
       "      <td>Promoter (&lt;=1kb)</td>\n",
       "      <td>miR-210 (1)</td>\n",
       "      <td>None</td>\n",
       "      <td>None</td>\n",
       "      <td>pELS@EM10E0921831, PLS (CTCF-bound)@EM10E0921832</td>\n",
       "      <td>None</td>\n",
       "      <td>cCRE &amp; CTCF</td>\n",
       "    </tr>\n",
       "    <tr>\n",
       "      <th>28946</th>\n",
       "      <td>z-dna</td>\n",
       "      <td>chr9:119402706-119402719</td>\n",
       "      <td>Acvr2b</td>\n",
       "      <td>+</td>\n",
       "      <td>Promoter (&lt;=1kb)</td>\n",
       "      <td>miR-744 (1)</td>\n",
       "      <td>None</td>\n",
       "      <td>None</td>\n",
       "      <td>PLS (CTCF-bound)@EM10E0921833, pELS (CTCF-boun...</td>\n",
       "      <td>None</td>\n",
       "      <td>cCRE &amp; CTCF</td>\n",
       "    </tr>\n",
       "    <tr>\n",
       "      <th>28947</th>\n",
       "      <td>z-dna</td>\n",
       "      <td>chr9:119402835-119402848</td>\n",
       "      <td>Acvr2b</td>\n",
       "      <td>+</td>\n",
       "      <td>Promoter (&lt;=1kb)</td>\n",
       "      <td>miR-147 (1)</td>\n",
       "      <td>None</td>\n",
       "      <td>None</td>\n",
       "      <td>pELS (CTCF-bound)@EM10E0921834, pELS (CTCF-bou...</td>\n",
       "      <td>None</td>\n",
       "      <td>cCRE &amp; CTCF</td>\n",
       "    </tr>\n",
       "    <tr>\n",
       "      <th>28948</th>\n",
       "      <td>z-dna</td>\n",
       "      <td>chr9:119403273-119403289</td>\n",
       "      <td>Acvr2b</td>\n",
       "      <td>+</td>\n",
       "      <td>Promoter (&lt;=1kb)</td>\n",
       "      <td>None</td>\n",
       "      <td>miR-329/362 (1)</td>\n",
       "      <td>None</td>\n",
       "      <td>pELS (CTCF-bound)@EM10E0921835, pELS (CTCF-bou...</td>\n",
       "      <td>None</td>\n",
       "      <td>cCRE &amp; CTCF</td>\n",
       "    </tr>\n",
       "  </tbody>\n",
       "</table>\n",
       "</div>"
      ],
      "text/plain": [
       "      Flipon               Coordinates Gene Name Gene Strand  \\\n",
       "4461      g4  chr9:119402225-119402255    Acvr2b           +   \n",
       "4462      g4  chr9:119402281-119402334    Acvr2b           +   \n",
       "28945  z-dna  chr9:119401689-119401705    Acvr2b           +   \n",
       "28946  z-dna  chr9:119402706-119402719    Acvr2b           +   \n",
       "28947  z-dna  chr9:119402835-119402848    Acvr2b           +   \n",
       "28948  z-dna  chr9:119403273-119403289    Acvr2b           +   \n",
       "\n",
       "           Gene Feature    miRNA (+)        miRNA (-) miRNA (intersection)  \\\n",
       "4461   Promoter (<=1kb)         None      miR-296 (1)                 None   \n",
       "4462   Promoter (<=1kb)         None      miR-744 (1)                 None   \n",
       "28945  Promoter (<=1kb)  miR-210 (1)             None                 None   \n",
       "28946  Promoter (<=1kb)  miR-744 (1)             None                 None   \n",
       "28947  Promoter (<=1kb)  miR-147 (1)             None                 None   \n",
       "28948  Promoter (<=1kb)         None  miR-329/362 (1)                 None   \n",
       "\n",
       "                                          cCRE (+-200bp) LINE/LTR (+-200bp)  \\\n",
       "4461   PLS (CTCF-bound)@EM10E0921832, PLS (CTCF-bound...               None   \n",
       "4462   PLS (CTCF-bound)@EM10E0921832, PLS (CTCF-bound...               None   \n",
       "28945   pELS@EM10E0921831, PLS (CTCF-bound)@EM10E0921832               None   \n",
       "28946  PLS (CTCF-bound)@EM10E0921833, pELS (CTCF-boun...               None   \n",
       "28947  pELS (CTCF-bound)@EM10E0921834, pELS (CTCF-bou...               None   \n",
       "28948  pELS (CTCF-bound)@EM10E0921835, pELS (CTCF-bou...               None   \n",
       "\n",
       "      Feature Group  \n",
       "4461    cCRE & CTCF  \n",
       "4462    cCRE & CTCF  \n",
       "28945   cCRE & CTCF  \n",
       "28946   cCRE & CTCF  \n",
       "28947   cCRE & CTCF  \n",
       "28948   cCRE & CTCF  "
      ]
     },
     "metadata": {},
     "output_type": "display_data"
    },
    {
     "data": {
      "text/html": [
       "<div>\n",
       "<style scoped>\n",
       "    .dataframe tbody tr th:only-of-type {\n",
       "        vertical-align: middle;\n",
       "    }\n",
       "\n",
       "    .dataframe tbody tr th {\n",
       "        vertical-align: top;\n",
       "    }\n",
       "\n",
       "    .dataframe thead th {\n",
       "        text-align: right;\n",
       "    }\n",
       "</style>\n",
       "<table border=\"1\" class=\"dataframe\">\n",
       "  <thead>\n",
       "    <tr style=\"text-align: right;\">\n",
       "      <th></th>\n",
       "      <th>Flipon</th>\n",
       "      <th>Coordinates</th>\n",
       "      <th>Gene Name</th>\n",
       "      <th>Gene Strand</th>\n",
       "      <th>Gene Feature</th>\n",
       "      <th>miRNA (+)</th>\n",
       "      <th>miRNA (-)</th>\n",
       "      <th>miRNA (intersection)</th>\n",
       "      <th>cCRE (+-200bp)</th>\n",
       "      <th>LINE/LTR (+-200bp)</th>\n",
       "      <th>Feature Group</th>\n",
       "    </tr>\n",
       "  </thead>\n",
       "  <tbody>\n",
       "    <tr>\n",
       "      <th>11165</th>\n",
       "      <td>g4</td>\n",
       "      <td>chr9:119402061-119402096</td>\n",
       "      <td>Acvr2b</td>\n",
       "      <td>+</td>\n",
       "      <td>Promoter (&lt;=1kb)</td>\n",
       "      <td>None</td>\n",
       "      <td>None</td>\n",
       "      <td>None</td>\n",
       "      <td>PLS (CTCF-bound)@EM10E0921832, PLS (CTCF-bound...</td>\n",
       "      <td>None</td>\n",
       "      <td>cCRE &amp; CTCF</td>\n",
       "    </tr>\n",
       "    <tr>\n",
       "      <th>11166</th>\n",
       "      <td>g4</td>\n",
       "      <td>chr9:119402181-119402202</td>\n",
       "      <td>Acvr2b</td>\n",
       "      <td>+</td>\n",
       "      <td>Promoter (&lt;=1kb)</td>\n",
       "      <td>None</td>\n",
       "      <td>None</td>\n",
       "      <td>None</td>\n",
       "      <td>PLS (CTCF-bound)@EM10E0921832, PLS (CTCF-bound...</td>\n",
       "      <td>None</td>\n",
       "      <td>cCRE &amp; CTCF</td>\n",
       "    </tr>\n",
       "    <tr>\n",
       "      <th>11167</th>\n",
       "      <td>g4</td>\n",
       "      <td>chr9:119402225-119402255</td>\n",
       "      <td>Acvr2b</td>\n",
       "      <td>+</td>\n",
       "      <td>Promoter (&lt;=1kb)</td>\n",
       "      <td>None</td>\n",
       "      <td>miR-296 (1)</td>\n",
       "      <td>None</td>\n",
       "      <td>PLS (CTCF-bound)@EM10E0921832, PLS (CTCF-bound...</td>\n",
       "      <td>None</td>\n",
       "      <td>cCRE &amp; CTCF</td>\n",
       "    </tr>\n",
       "    <tr>\n",
       "      <th>11168</th>\n",
       "      <td>g4</td>\n",
       "      <td>chr9:119402281-119402334</td>\n",
       "      <td>Acvr2b</td>\n",
       "      <td>+</td>\n",
       "      <td>Promoter (&lt;=1kb)</td>\n",
       "      <td>None</td>\n",
       "      <td>miR-744 (1)</td>\n",
       "      <td>None</td>\n",
       "      <td>PLS (CTCF-bound)@EM10E0921832, PLS (CTCF-bound...</td>\n",
       "      <td>None</td>\n",
       "      <td>cCRE &amp; CTCF</td>\n",
       "    </tr>\n",
       "    <tr>\n",
       "      <th>29428</th>\n",
       "      <td>h-dna</td>\n",
       "      <td>chr9:119402181-119402201</td>\n",
       "      <td>Acvr2b</td>\n",
       "      <td>+</td>\n",
       "      <td>Promoter (&lt;=1kb)</td>\n",
       "      <td>None</td>\n",
       "      <td>None</td>\n",
       "      <td>None</td>\n",
       "      <td>PLS (CTCF-bound)@EM10E0921832, PLS (CTCF-bound...</td>\n",
       "      <td>None</td>\n",
       "      <td>cCRE &amp; CTCF</td>\n",
       "    </tr>\n",
       "    <tr>\n",
       "      <th>66279</th>\n",
       "      <td>z-dna</td>\n",
       "      <td>chr9:119401689-119401705</td>\n",
       "      <td>Acvr2b</td>\n",
       "      <td>+</td>\n",
       "      <td>Promoter (&lt;=1kb)</td>\n",
       "      <td>miR-210 (1)</td>\n",
       "      <td>None</td>\n",
       "      <td>None</td>\n",
       "      <td>pELS@EM10E0921831, PLS (CTCF-bound)@EM10E0921832</td>\n",
       "      <td>None</td>\n",
       "      <td>cCRE &amp; CTCF</td>\n",
       "    </tr>\n",
       "    <tr>\n",
       "      <th>66280</th>\n",
       "      <td>z-dna</td>\n",
       "      <td>chr9:119401952-119401965</td>\n",
       "      <td>Acvr2b</td>\n",
       "      <td>+</td>\n",
       "      <td>Promoter (&lt;=1kb)</td>\n",
       "      <td>None</td>\n",
       "      <td>None</td>\n",
       "      <td>None</td>\n",
       "      <td>PLS (CTCF-bound)@EM10E0921832</td>\n",
       "      <td>None</td>\n",
       "      <td>cCRE &amp; CTCF</td>\n",
       "    </tr>\n",
       "    <tr>\n",
       "      <th>66281</th>\n",
       "      <td>z-dna</td>\n",
       "      <td>chr9:119402272-119402297</td>\n",
       "      <td>Acvr2b</td>\n",
       "      <td>+</td>\n",
       "      <td>Promoter (&lt;=1kb)</td>\n",
       "      <td>None</td>\n",
       "      <td>None</td>\n",
       "      <td>None</td>\n",
       "      <td>PLS (CTCF-bound)@EM10E0921832, PLS (CTCF-bound...</td>\n",
       "      <td>None</td>\n",
       "      <td>cCRE &amp; CTCF</td>\n",
       "    </tr>\n",
       "    <tr>\n",
       "      <th>66282</th>\n",
       "      <td>z-dna</td>\n",
       "      <td>chr9:119402405-119402422</td>\n",
       "      <td>Acvr2b</td>\n",
       "      <td>+</td>\n",
       "      <td>Promoter (&lt;=1kb)</td>\n",
       "      <td>None</td>\n",
       "      <td>None</td>\n",
       "      <td>None</td>\n",
       "      <td>PLS (CTCF-bound)@EM10E0921832, PLS (CTCF-bound...</td>\n",
       "      <td>None</td>\n",
       "      <td>cCRE &amp; CTCF</td>\n",
       "    </tr>\n",
       "    <tr>\n",
       "      <th>66283</th>\n",
       "      <td>z-dna</td>\n",
       "      <td>chr9:119402706-119402719</td>\n",
       "      <td>Acvr2b</td>\n",
       "      <td>+</td>\n",
       "      <td>Promoter (&lt;=1kb)</td>\n",
       "      <td>miR-744 (1)</td>\n",
       "      <td>None</td>\n",
       "      <td>None</td>\n",
       "      <td>PLS (CTCF-bound)@EM10E0921833, pELS (CTCF-boun...</td>\n",
       "      <td>None</td>\n",
       "      <td>cCRE &amp; CTCF</td>\n",
       "    </tr>\n",
       "    <tr>\n",
       "      <th>66284</th>\n",
       "      <td>z-dna</td>\n",
       "      <td>chr9:119402745-119402758</td>\n",
       "      <td>Acvr2b</td>\n",
       "      <td>+</td>\n",
       "      <td>Promoter (&lt;=1kb)</td>\n",
       "      <td>None</td>\n",
       "      <td>None</td>\n",
       "      <td>None</td>\n",
       "      <td>PLS (CTCF-bound)@EM10E0921833, pELS (CTCF-boun...</td>\n",
       "      <td>None</td>\n",
       "      <td>cCRE &amp; CTCF</td>\n",
       "    </tr>\n",
       "    <tr>\n",
       "      <th>66285</th>\n",
       "      <td>z-dna</td>\n",
       "      <td>chr9:119402835-119402848</td>\n",
       "      <td>Acvr2b</td>\n",
       "      <td>+</td>\n",
       "      <td>Promoter (&lt;=1kb)</td>\n",
       "      <td>miR-147 (1)</td>\n",
       "      <td>None</td>\n",
       "      <td>None</td>\n",
       "      <td>pELS (CTCF-bound)@EM10E0921834, pELS (CTCF-bou...</td>\n",
       "      <td>None</td>\n",
       "      <td>cCRE &amp; CTCF</td>\n",
       "    </tr>\n",
       "    <tr>\n",
       "      <th>66286</th>\n",
       "      <td>z-dna</td>\n",
       "      <td>chr9:119403242-119403257</td>\n",
       "      <td>Acvr2b</td>\n",
       "      <td>+</td>\n",
       "      <td>Promoter (&lt;=1kb)</td>\n",
       "      <td>None</td>\n",
       "      <td>None</td>\n",
       "      <td>None</td>\n",
       "      <td>pELS (CTCF-bound)@EM10E0921835, pELS (CTCF-bou...</td>\n",
       "      <td>None</td>\n",
       "      <td>cCRE &amp; CTCF</td>\n",
       "    </tr>\n",
       "    <tr>\n",
       "      <th>66287</th>\n",
       "      <td>z-dna</td>\n",
       "      <td>chr9:119403273-119403289</td>\n",
       "      <td>Acvr2b</td>\n",
       "      <td>+</td>\n",
       "      <td>Promoter (&lt;=1kb)</td>\n",
       "      <td>None</td>\n",
       "      <td>miR-329/362 (1)</td>\n",
       "      <td>None</td>\n",
       "      <td>pELS (CTCF-bound)@EM10E0921835, pELS (CTCF-bou...</td>\n",
       "      <td>None</td>\n",
       "      <td>cCRE &amp; CTCF</td>\n",
       "    </tr>\n",
       "  </tbody>\n",
       "</table>\n",
       "</div>"
      ],
      "text/plain": [
       "      Flipon               Coordinates Gene Name Gene Strand  \\\n",
       "11165     g4  chr9:119402061-119402096    Acvr2b           +   \n",
       "11166     g4  chr9:119402181-119402202    Acvr2b           +   \n",
       "11167     g4  chr9:119402225-119402255    Acvr2b           +   \n",
       "11168     g4  chr9:119402281-119402334    Acvr2b           +   \n",
       "29428  h-dna  chr9:119402181-119402201    Acvr2b           +   \n",
       "66279  z-dna  chr9:119401689-119401705    Acvr2b           +   \n",
       "66280  z-dna  chr9:119401952-119401965    Acvr2b           +   \n",
       "66281  z-dna  chr9:119402272-119402297    Acvr2b           +   \n",
       "66282  z-dna  chr9:119402405-119402422    Acvr2b           +   \n",
       "66283  z-dna  chr9:119402706-119402719    Acvr2b           +   \n",
       "66284  z-dna  chr9:119402745-119402758    Acvr2b           +   \n",
       "66285  z-dna  chr9:119402835-119402848    Acvr2b           +   \n",
       "66286  z-dna  chr9:119403242-119403257    Acvr2b           +   \n",
       "66287  z-dna  chr9:119403273-119403289    Acvr2b           +   \n",
       "\n",
       "           Gene Feature    miRNA (+)        miRNA (-) miRNA (intersection)  \\\n",
       "11165  Promoter (<=1kb)         None             None                 None   \n",
       "11166  Promoter (<=1kb)         None             None                 None   \n",
       "11167  Promoter (<=1kb)         None      miR-296 (1)                 None   \n",
       "11168  Promoter (<=1kb)         None      miR-744 (1)                 None   \n",
       "29428  Promoter (<=1kb)         None             None                 None   \n",
       "66279  Promoter (<=1kb)  miR-210 (1)             None                 None   \n",
       "66280  Promoter (<=1kb)         None             None                 None   \n",
       "66281  Promoter (<=1kb)         None             None                 None   \n",
       "66282  Promoter (<=1kb)         None             None                 None   \n",
       "66283  Promoter (<=1kb)  miR-744 (1)             None                 None   \n",
       "66284  Promoter (<=1kb)         None             None                 None   \n",
       "66285  Promoter (<=1kb)  miR-147 (1)             None                 None   \n",
       "66286  Promoter (<=1kb)         None             None                 None   \n",
       "66287  Promoter (<=1kb)         None  miR-329/362 (1)                 None   \n",
       "\n",
       "                                          cCRE (+-200bp) LINE/LTR (+-200bp)  \\\n",
       "11165  PLS (CTCF-bound)@EM10E0921832, PLS (CTCF-bound...               None   \n",
       "11166  PLS (CTCF-bound)@EM10E0921832, PLS (CTCF-bound...               None   \n",
       "11167  PLS (CTCF-bound)@EM10E0921832, PLS (CTCF-bound...               None   \n",
       "11168  PLS (CTCF-bound)@EM10E0921832, PLS (CTCF-bound...               None   \n",
       "29428  PLS (CTCF-bound)@EM10E0921832, PLS (CTCF-bound...               None   \n",
       "66279   pELS@EM10E0921831, PLS (CTCF-bound)@EM10E0921832               None   \n",
       "66280                      PLS (CTCF-bound)@EM10E0921832               None   \n",
       "66281  PLS (CTCF-bound)@EM10E0921832, PLS (CTCF-bound...               None   \n",
       "66282  PLS (CTCF-bound)@EM10E0921832, PLS (CTCF-bound...               None   \n",
       "66283  PLS (CTCF-bound)@EM10E0921833, pELS (CTCF-boun...               None   \n",
       "66284  PLS (CTCF-bound)@EM10E0921833, pELS (CTCF-boun...               None   \n",
       "66285  pELS (CTCF-bound)@EM10E0921834, pELS (CTCF-bou...               None   \n",
       "66286  pELS (CTCF-bound)@EM10E0921835, pELS (CTCF-bou...               None   \n",
       "66287  pELS (CTCF-bound)@EM10E0921835, pELS (CTCF-bou...               None   \n",
       "\n",
       "      Feature Group  \n",
       "11165   cCRE & CTCF  \n",
       "11166   cCRE & CTCF  \n",
       "11167   cCRE & CTCF  \n",
       "11168   cCRE & CTCF  \n",
       "29428   cCRE & CTCF  \n",
       "66279   cCRE & CTCF  \n",
       "66280   cCRE & CTCF  \n",
       "66281   cCRE & CTCF  \n",
       "66282   cCRE & CTCF  \n",
       "66283   cCRE & CTCF  \n",
       "66284   cCRE & CTCF  \n",
       "66285   cCRE & CTCF  \n",
       "66286   cCRE & CTCF  \n",
       "66287   cCRE & CTCF  "
      ]
     },
     "metadata": {},
     "output_type": "display_data"
    }
   ],
   "source": [
    "with pd.option_context('display.max_rows', None):\n",
    "    display(flipon_to_data_mirna[\n",
    "        flipon_to_data_mirna['Gene Name'] == \"Acvr2b\"\n",
    "    ])\n",
    "    display(flipon_to_data[\n",
    "        flipon_to_data['Gene Name'] == \"Acvr2b\"\n",
    "    ])"
   ]
  },
  {
   "cell_type": "code",
   "execution_count": 37,
   "metadata": {},
   "outputs": [],
   "source": [
    "annotations = (\n",
    "    \"Promoter (<=1kb)\",\n",
    "    \"Promoter (1-2kb)\",\n",
    "    \"Promoter (2-3kb)\",\n",
    "    \"5' UTR\",\n",
    "    \"Exon\",\n",
    "    \"Intron\",\n",
    "    \"3' UTR\",\n",
    "    \"Downstream (<=300bp)\",\n",
    "    \"Distal Intergenic\",\n",
    ")\n",
    "feature_groups = (\n",
    "    \"None\",\n",
    "    \"cCRE\",\n",
    "    \"LINE/LTR\",\n",
    "    \"cCRE & LINE/LTR\",\n",
    "    \"CTCF\",\n",
    "    \"cCRE & CTCF\",\n",
    "    \"LINE/LTR & CTCF\",\n",
    "    \"cCRE & LINE/LTR & CTCF\",\n",
    ")"
   ]
  },
  {
   "cell_type": "code",
   "execution_count": 21,
   "metadata": {},
   "outputs": [
    {
     "data": {
      "text/html": [
       "<div>\n",
       "<style scoped>\n",
       "    .dataframe tbody tr th:only-of-type {\n",
       "        vertical-align: middle;\n",
       "    }\n",
       "\n",
       "    .dataframe tbody tr th {\n",
       "        vertical-align: top;\n",
       "    }\n",
       "\n",
       "    .dataframe thead th {\n",
       "        text-align: right;\n",
       "    }\n",
       "</style>\n",
       "<table border=\"1\" class=\"dataframe\">\n",
       "  <thead>\n",
       "    <tr style=\"text-align: right;\">\n",
       "      <th>Feature Group</th>\n",
       "      <th>None</th>\n",
       "      <th>cCRE</th>\n",
       "      <th>LINE/LTR</th>\n",
       "      <th>cCRE &amp; LINE/LTR</th>\n",
       "      <th>CTCF</th>\n",
       "      <th>cCRE &amp; CTCF</th>\n",
       "      <th>LINE/LTR &amp; CTCF</th>\n",
       "      <th>cCRE &amp; LINE/LTR &amp; CTCF</th>\n",
       "    </tr>\n",
       "    <tr>\n",
       "      <th>Gene Feature</th>\n",
       "      <th></th>\n",
       "      <th></th>\n",
       "      <th></th>\n",
       "      <th></th>\n",
       "      <th></th>\n",
       "      <th></th>\n",
       "      <th></th>\n",
       "      <th></th>\n",
       "    </tr>\n",
       "  </thead>\n",
       "  <tbody>\n",
       "    <tr>\n",
       "      <th>Promoter (&lt;=1kb)</th>\n",
       "      <td>1992</td>\n",
       "      <td>8590</td>\n",
       "      <td>1296</td>\n",
       "      <td>159</td>\n",
       "      <td>12</td>\n",
       "      <td>8547</td>\n",
       "      <td>3</td>\n",
       "      <td>103</td>\n",
       "    </tr>\n",
       "    <tr>\n",
       "      <th>Promoter (1-2kb)</th>\n",
       "      <td>1094</td>\n",
       "      <td>900</td>\n",
       "      <td>1255</td>\n",
       "      <td>52</td>\n",
       "      <td>6</td>\n",
       "      <td>692</td>\n",
       "      <td>6</td>\n",
       "      <td>11</td>\n",
       "    </tr>\n",
       "    <tr>\n",
       "      <th>Promoter (2-3kb)</th>\n",
       "      <td>763</td>\n",
       "      <td>430</td>\n",
       "      <td>1267</td>\n",
       "      <td>55</td>\n",
       "      <td>13</td>\n",
       "      <td>251</td>\n",
       "      <td>2</td>\n",
       "      <td>7</td>\n",
       "    </tr>\n",
       "    <tr>\n",
       "      <th>5' UTR</th>\n",
       "      <td>10</td>\n",
       "      <td>4</td>\n",
       "      <td>1</td>\n",
       "      <td>0</td>\n",
       "      <td>0</td>\n",
       "      <td>4</td>\n",
       "      <td>0</td>\n",
       "      <td>0</td>\n",
       "    </tr>\n",
       "    <tr>\n",
       "      <th>Exon</th>\n",
       "      <td>586</td>\n",
       "      <td>297</td>\n",
       "      <td>114</td>\n",
       "      <td>3</td>\n",
       "      <td>3</td>\n",
       "      <td>232</td>\n",
       "      <td>0</td>\n",
       "      <td>2</td>\n",
       "    </tr>\n",
       "    <tr>\n",
       "      <th>Intron</th>\n",
       "      <td>4915</td>\n",
       "      <td>964</td>\n",
       "      <td>10292</td>\n",
       "      <td>307</td>\n",
       "      <td>67</td>\n",
       "      <td>354</td>\n",
       "      <td>37</td>\n",
       "      <td>57</td>\n",
       "    </tr>\n",
       "    <tr>\n",
       "      <th>3' UTR</th>\n",
       "      <td>315</td>\n",
       "      <td>138</td>\n",
       "      <td>111</td>\n",
       "      <td>1</td>\n",
       "      <td>3</td>\n",
       "      <td>102</td>\n",
       "      <td>0</td>\n",
       "      <td>4</td>\n",
       "    </tr>\n",
       "    <tr>\n",
       "      <th>Downstream (&lt;=300bp)</th>\n",
       "      <td>7</td>\n",
       "      <td>8</td>\n",
       "      <td>25</td>\n",
       "      <td>1</td>\n",
       "      <td>0</td>\n",
       "      <td>6</td>\n",
       "      <td>0</td>\n",
       "      <td>0</td>\n",
       "    </tr>\n",
       "    <tr>\n",
       "      <th>Distal Intergenic</th>\n",
       "      <td>5192</td>\n",
       "      <td>873</td>\n",
       "      <td>24053</td>\n",
       "      <td>414</td>\n",
       "      <td>56</td>\n",
       "      <td>502</td>\n",
       "      <td>93</td>\n",
       "      <td>49</td>\n",
       "    </tr>\n",
       "  </tbody>\n",
       "</table>\n",
       "</div>"
      ],
      "text/plain": [
       "Feature Group         None  cCRE  LINE/LTR  cCRE & LINE/LTR  CTCF  \\\n",
       "Gene Feature                                                        \n",
       "Promoter (<=1kb)      1992  8590      1296              159    12   \n",
       "Promoter (1-2kb)      1094   900      1255               52     6   \n",
       "Promoter (2-3kb)       763   430      1267               55    13   \n",
       "5' UTR                  10     4         1                0     0   \n",
       "Exon                   586   297       114                3     3   \n",
       "Intron                4915   964     10292              307    67   \n",
       "3' UTR                 315   138       111                1     3   \n",
       "Downstream (<=300bp)     7     8        25                1     0   \n",
       "Distal Intergenic     5192   873     24053              414    56   \n",
       "\n",
       "Feature Group         cCRE & CTCF  LINE/LTR & CTCF  cCRE & LINE/LTR & CTCF  \n",
       "Gene Feature                                                                \n",
       "Promoter (<=1kb)             8547                3                     103  \n",
       "Promoter (1-2kb)              692                6                      11  \n",
       "Promoter (2-3kb)              251                2                       7  \n",
       "5' UTR                          4                0                       0  \n",
       "Exon                          232                0                       2  \n",
       "Intron                        354               37                      57  \n",
       "3' UTR                        102                0                       4  \n",
       "Downstream (<=300bp)            6                0                       0  \n",
       "Distal Intergenic             502               93                      49  "
      ]
     },
     "metadata": {},
     "output_type": "display_data"
    }
   ],
   "source": [
    "pivot_table = (\n",
    "    flipon_to_data.pivot_table(\n",
    "        index=\"Gene Feature\",\n",
    "        columns=\"Feature Group\",\n",
    "        values=\"Coordinates\",\n",
    "        aggfunc=\"count\",\n",
    "    )\n",
    "    .fillna(0)\n",
    "    .astype(int)\n",
    "    .loc[annotations, feature_groups]\n",
    ")\n",
    "\n",
    "pivot_table_pct = pivot_table / pivot_table.sum().sum()\n",
    "\n",
    "with pd.option_context(\"display.max_rows\", None):\n",
    "    display(pivot_table)\n"
   ]
  },
  {
   "cell_type": "code",
   "execution_count": 38,
   "metadata": {},
   "outputs": [
    {
     "data": {
      "text/html": [
       "<div>\n",
       "<style scoped>\n",
       "    .dataframe tbody tr th:only-of-type {\n",
       "        vertical-align: middle;\n",
       "    }\n",
       "\n",
       "    .dataframe tbody tr th {\n",
       "        vertical-align: top;\n",
       "    }\n",
       "\n",
       "    .dataframe thead th {\n",
       "        text-align: right;\n",
       "    }\n",
       "</style>\n",
       "<table border=\"1\" class=\"dataframe\">\n",
       "  <thead>\n",
       "    <tr style=\"text-align: right;\">\n",
       "      <th>Feature Group</th>\n",
       "      <th>None</th>\n",
       "      <th>cCRE</th>\n",
       "      <th>LINE/LTR</th>\n",
       "      <th>cCRE &amp; LINE/LTR</th>\n",
       "      <th>CTCF</th>\n",
       "      <th>cCRE &amp; CTCF</th>\n",
       "      <th>LINE/LTR &amp; CTCF</th>\n",
       "      <th>cCRE &amp; LINE/LTR &amp; CTCF</th>\n",
       "    </tr>\n",
       "    <tr>\n",
       "      <th>Gene Feature</th>\n",
       "      <th></th>\n",
       "      <th></th>\n",
       "      <th></th>\n",
       "      <th></th>\n",
       "      <th></th>\n",
       "      <th></th>\n",
       "      <th></th>\n",
       "      <th></th>\n",
       "    </tr>\n",
       "  </thead>\n",
       "  <tbody>\n",
       "    <tr>\n",
       "      <th>Promoter (&lt;=1kb)</th>\n",
       "      <td>638</td>\n",
       "      <td>2357</td>\n",
       "      <td>651</td>\n",
       "      <td>65</td>\n",
       "      <td>2</td>\n",
       "      <td>2167</td>\n",
       "      <td>2</td>\n",
       "      <td>40</td>\n",
       "    </tr>\n",
       "    <tr>\n",
       "      <th>Promoter (1-2kb)</th>\n",
       "      <td>387</td>\n",
       "      <td>248</td>\n",
       "      <td>659</td>\n",
       "      <td>24</td>\n",
       "      <td>3</td>\n",
       "      <td>183</td>\n",
       "      <td>4</td>\n",
       "      <td>3</td>\n",
       "    </tr>\n",
       "    <tr>\n",
       "      <th>Promoter (2-3kb)</th>\n",
       "      <td>258</td>\n",
       "      <td>130</td>\n",
       "      <td>642</td>\n",
       "      <td>32</td>\n",
       "      <td>5</td>\n",
       "      <td>73</td>\n",
       "      <td>0</td>\n",
       "      <td>4</td>\n",
       "    </tr>\n",
       "    <tr>\n",
       "      <th>5' UTR</th>\n",
       "      <td>5</td>\n",
       "      <td>2</td>\n",
       "      <td>0</td>\n",
       "      <td>0</td>\n",
       "      <td>0</td>\n",
       "      <td>1</td>\n",
       "      <td>0</td>\n",
       "      <td>0</td>\n",
       "    </tr>\n",
       "    <tr>\n",
       "      <th>Exon</th>\n",
       "      <td>174</td>\n",
       "      <td>49</td>\n",
       "      <td>59</td>\n",
       "      <td>2</td>\n",
       "      <td>0</td>\n",
       "      <td>36</td>\n",
       "      <td>0</td>\n",
       "      <td>1</td>\n",
       "    </tr>\n",
       "    <tr>\n",
       "      <th>Intron</th>\n",
       "      <td>1668</td>\n",
       "      <td>326</td>\n",
       "      <td>5284</td>\n",
       "      <td>141</td>\n",
       "      <td>20</td>\n",
       "      <td>131</td>\n",
       "      <td>23</td>\n",
       "      <td>29</td>\n",
       "    </tr>\n",
       "    <tr>\n",
       "      <th>3' UTR</th>\n",
       "      <td>126</td>\n",
       "      <td>59</td>\n",
       "      <td>76</td>\n",
       "      <td>1</td>\n",
       "      <td>2</td>\n",
       "      <td>29</td>\n",
       "      <td>0</td>\n",
       "      <td>3</td>\n",
       "    </tr>\n",
       "    <tr>\n",
       "      <th>Downstream (&lt;=300bp)</th>\n",
       "      <td>2</td>\n",
       "      <td>0</td>\n",
       "      <td>14</td>\n",
       "      <td>1</td>\n",
       "      <td>0</td>\n",
       "      <td>2</td>\n",
       "      <td>0</td>\n",
       "      <td>0</td>\n",
       "    </tr>\n",
       "    <tr>\n",
       "      <th>Distal Intergenic</th>\n",
       "      <td>1643</td>\n",
       "      <td>274</td>\n",
       "      <td>12538</td>\n",
       "      <td>178</td>\n",
       "      <td>17</td>\n",
       "      <td>141</td>\n",
       "      <td>31</td>\n",
       "      <td>25</td>\n",
       "    </tr>\n",
       "  </tbody>\n",
       "</table>\n",
       "</div>"
      ],
      "text/plain": [
       "Feature Group         None  cCRE  LINE/LTR  cCRE & LINE/LTR  CTCF  \\\n",
       "Gene Feature                                                        \n",
       "Promoter (<=1kb)       638  2357       651               65     2   \n",
       "Promoter (1-2kb)       387   248       659               24     3   \n",
       "Promoter (2-3kb)       258   130       642               32     5   \n",
       "5' UTR                   5     2         0                0     0   \n",
       "Exon                   174    49        59                2     0   \n",
       "Intron                1668   326      5284              141    20   \n",
       "3' UTR                 126    59        76                1     2   \n",
       "Downstream (<=300bp)     2     0        14                1     0   \n",
       "Distal Intergenic     1643   274     12538              178    17   \n",
       "\n",
       "Feature Group         cCRE & CTCF  LINE/LTR & CTCF  cCRE & LINE/LTR & CTCF  \n",
       "Gene Feature                                                                \n",
       "Promoter (<=1kb)             2167                2                      40  \n",
       "Promoter (1-2kb)              183                4                       3  \n",
       "Promoter (2-3kb)               73                0                       4  \n",
       "5' UTR                          1                0                       0  \n",
       "Exon                           36                0                       1  \n",
       "Intron                        131               23                      29  \n",
       "3' UTR                         29                0                       3  \n",
       "Downstream (<=300bp)            2                0                       0  \n",
       "Distal Intergenic             141               31                      25  "
      ]
     },
     "metadata": {},
     "output_type": "display_data"
    }
   ],
   "source": [
    "pivot_table_mirna = (\n",
    "    flipon_to_data_mirna.pivot_table(\n",
    "        index=\"Gene Feature\",\n",
    "        columns=\"Feature Group\",\n",
    "        values=\"Coordinates\",\n",
    "        aggfunc=\"count\",\n",
    "    )\n",
    "    .fillna(0)\n",
    "    .astype(int)\n",
    "    .loc[annotations, feature_groups]\n",
    ")\n",
    "\n",
    "pivot_table_mirna_pct = pivot_table_mirna / pivot_table_mirna.sum().sum()\n",
    "\n",
    "with pd.option_context(\"display.max_rows\", None):\n",
    "    display(pivot_table_mirna)\n"
   ]
  },
  {
   "cell_type": "code",
   "execution_count": null,
   "metadata": {},
   "outputs": [],
   "source": [
    "# with pd.option_context(\"display.max_rows\", None):\n",
    "#     display(flipons_to_data.replace(regex=r\"(@(.+?), )|(@(.+?)$)\", value=\",\").assign(\n",
    "#         ccre_col=lambda x: x[\"cCRE (+-200bp slop)\"].apply(get_rep_cats),\n",
    "#         rep_col=lambda x: x[\"LINE/LTR repeats (+-200bp slop)\"].apply(get_rep_cats),\n",
    "#         feature=lambda x: x[[\"ccre_col\", \"rep_col\"]]\n",
    "#         .apply(get_group, axis=1)\n",
    "#         .str.strip(\"& \"),\n",
    "#         col=lambda x: (x[\"ccre_col\"] + \" + \" + x[\"rep_col\"]).str.strip(\" +\"),\n",
    "#     ).pivot_table(columns='annotation',index=['feature', 'col'],values='coordinates',aggfunc='count').fillna(0))"
   ]
  },
  {
   "cell_type": "code",
   "execution_count": 34,
   "metadata": {},
   "outputs": [
    {
     "data": {
      "application/vnd.plotly.v1+json": {
       "config": {
        "plotlyServerURL": "https://plot.ly"
       },
       "data": [
        {
         "marker": {
          "size": [
           5.126885262778607,
           2.815668914397488,
           1.9637617748494363,
           0.025737375817161682,
           1.5082102228856746,
           12.649920214134966,
           0.810727338240593,
           0.01801616307201318,
           13.362845524270345,
           22.108405826941883,
           2.3163638235445516,
           1.1067071601379523,
           0.010294950326864673,
           0.764400061769702,
           2.4810830287743864,
           0.3551757862768312,
           0.020589900653729346,
           2.2468729088382147,
           3.335563905904154,
           3.2300406650537914,
           3.2609255160343853,
           0.0025737375817161683,
           0.2934060843156432,
           26.488907191022804,
           0.28568487157049466,
           0.06434343954290421,
           61.90611005301899,
           0.40922427549287077,
           0.13383435424924073,
           0.14155556699438923,
           0,
           0.007721212745148504,
           0.7901374375868636,
           0.0025737375817161683,
           0.0025737375817161683,
           1.0655273588304937,
           0.030884850980594018,
           0.015442425490297009,
           0.03345858856231018,
           0,
           0.007721212745148504,
           0.17244041797498327,
           0.007721212745148504,
           0,
           0.14412930457610543,
           21.99773511092809,
           1.7810264065475885,
           0.6460081330107582,
           0.010294950326864673,
           0.5971071189581509,
           0.9111031039275236,
           0.2625212333350492,
           0.015442425490297009,
           1.2920162660215164,
           0.007721212745148504,
           0.015442425490297009,
           0.0051474751634323366,
           0,
           0,
           0.09522829052349822,
           0,
           0,
           0.23935759509960364,
           0.2650949709167653,
           0.028311113398877853,
           0.01801616307201318,
           0,
           0.0051474751634323366,
           0.1467030421578216,
           0.010294950326864673,
           0,
           0.12611314150409225
          ]
         },
         "mode": "text+markers",
         "showlegend": true,
         "type": "scatter",
         "x": [
          "None",
          "None",
          "None",
          "None",
          "None",
          "None",
          "None",
          "None",
          "None",
          "cCRE",
          "cCRE",
          "cCRE",
          "cCRE",
          "cCRE",
          "cCRE",
          "cCRE",
          "cCRE",
          "cCRE",
          "LINE/LTR",
          "LINE/LTR",
          "LINE/LTR",
          "LINE/LTR",
          "LINE/LTR",
          "LINE/LTR",
          "LINE/LTR",
          "LINE/LTR",
          "LINE/LTR",
          "cCRE & LINE/LTR",
          "cCRE & LINE/LTR",
          "cCRE & LINE/LTR",
          "cCRE & LINE/LTR",
          "cCRE & LINE/LTR",
          "cCRE & LINE/LTR",
          "cCRE & LINE/LTR",
          "cCRE & LINE/LTR",
          "cCRE & LINE/LTR",
          "CTCF",
          "CTCF",
          "CTCF",
          "CTCF",
          "CTCF",
          "CTCF",
          "CTCF",
          "CTCF",
          "CTCF",
          "cCRE & CTCF",
          "cCRE & CTCF",
          "cCRE & CTCF",
          "cCRE & CTCF",
          "cCRE & CTCF",
          "cCRE & CTCF",
          "cCRE & CTCF",
          "cCRE & CTCF",
          "cCRE & CTCF",
          "LINE/LTR & CTCF",
          "LINE/LTR & CTCF",
          "LINE/LTR & CTCF",
          "LINE/LTR & CTCF",
          "LINE/LTR & CTCF",
          "LINE/LTR & CTCF",
          "LINE/LTR & CTCF",
          "LINE/LTR & CTCF",
          "LINE/LTR & CTCF",
          "cCRE & LINE/LTR & CTCF",
          "cCRE & LINE/LTR & CTCF",
          "cCRE & LINE/LTR & CTCF",
          "cCRE & LINE/LTR & CTCF",
          "cCRE & LINE/LTR & CTCF",
          "cCRE & LINE/LTR & CTCF",
          "cCRE & LINE/LTR & CTCF",
          "cCRE & LINE/LTR & CTCF",
          "cCRE & LINE/LTR & CTCF"
         ],
         "y": [
          "Promoter (<=1kb)",
          "Promoter (1-2kb)",
          "Promoter (2-3kb)",
          "5' UTR",
          "Exon",
          "Intron",
          "3' UTR",
          "Downstream (<=300bp)",
          "Distal Intergenic",
          "Promoter (<=1kb)",
          "Promoter (1-2kb)",
          "Promoter (2-3kb)",
          "5' UTR",
          "Exon",
          "Intron",
          "3' UTR",
          "Downstream (<=300bp)",
          "Distal Intergenic",
          "Promoter (<=1kb)",
          "Promoter (1-2kb)",
          "Promoter (2-3kb)",
          "5' UTR",
          "Exon",
          "Intron",
          "3' UTR",
          "Downstream (<=300bp)",
          "Distal Intergenic",
          "Promoter (<=1kb)",
          "Promoter (1-2kb)",
          "Promoter (2-3kb)",
          "5' UTR",
          "Exon",
          "Intron",
          "3' UTR",
          "Downstream (<=300bp)",
          "Distal Intergenic",
          "Promoter (<=1kb)",
          "Promoter (1-2kb)",
          "Promoter (2-3kb)",
          "5' UTR",
          "Exon",
          "Intron",
          "3' UTR",
          "Downstream (<=300bp)",
          "Distal Intergenic",
          "Promoter (<=1kb)",
          "Promoter (1-2kb)",
          "Promoter (2-3kb)",
          "5' UTR",
          "Exon",
          "Intron",
          "3' UTR",
          "Downstream (<=300bp)",
          "Distal Intergenic",
          "Promoter (<=1kb)",
          "Promoter (1-2kb)",
          "Promoter (2-3kb)",
          "5' UTR",
          "Exon",
          "Intron",
          "3' UTR",
          "Downstream (<=300bp)",
          "Distal Intergenic",
          "Promoter (<=1kb)",
          "Promoter (1-2kb)",
          "Promoter (2-3kb)",
          "5' UTR",
          "Exon",
          "Intron",
          "3' UTR",
          "Downstream (<=300bp)",
          "Distal Intergenic"
         ]
        }
       ],
       "layout": {
        "font": {
         "family": "monospace",
         "size": 12
        },
        "height": 600,
        "margin": {
         "b": 5,
         "l": 5,
         "t": 15
        },
        "template": {
         "data": {
          "bar": [
           {
            "error_x": {
             "color": "rgb(36,36,36)"
            },
            "error_y": {
             "color": "rgb(36,36,36)"
            },
            "marker": {
             "line": {
              "color": "white",
              "width": 0.5
             },
             "pattern": {
              "fillmode": "overlay",
              "size": 10,
              "solidity": 0.2
             }
            },
            "type": "bar"
           }
          ],
          "barpolar": [
           {
            "marker": {
             "line": {
              "color": "white",
              "width": 0.5
             },
             "pattern": {
              "fillmode": "overlay",
              "size": 10,
              "solidity": 0.2
             }
            },
            "type": "barpolar"
           }
          ],
          "carpet": [
           {
            "aaxis": {
             "endlinecolor": "rgb(36,36,36)",
             "gridcolor": "white",
             "linecolor": "white",
             "minorgridcolor": "white",
             "startlinecolor": "rgb(36,36,36)"
            },
            "baxis": {
             "endlinecolor": "rgb(36,36,36)",
             "gridcolor": "white",
             "linecolor": "white",
             "minorgridcolor": "white",
             "startlinecolor": "rgb(36,36,36)"
            },
            "type": "carpet"
           }
          ],
          "choropleth": [
           {
            "colorbar": {
             "outlinewidth": 1,
             "tickcolor": "rgb(36,36,36)",
             "ticks": "outside"
            },
            "type": "choropleth"
           }
          ],
          "contour": [
           {
            "colorbar": {
             "outlinewidth": 1,
             "tickcolor": "rgb(36,36,36)",
             "ticks": "outside"
            },
            "colorscale": [
             [
              0,
              "#440154"
             ],
             [
              0.1111111111111111,
              "#482878"
             ],
             [
              0.2222222222222222,
              "#3e4989"
             ],
             [
              0.3333333333333333,
              "#31688e"
             ],
             [
              0.4444444444444444,
              "#26828e"
             ],
             [
              0.5555555555555556,
              "#1f9e89"
             ],
             [
              0.6666666666666666,
              "#35b779"
             ],
             [
              0.7777777777777778,
              "#6ece58"
             ],
             [
              0.8888888888888888,
              "#b5de2b"
             ],
             [
              1,
              "#fde725"
             ]
            ],
            "type": "contour"
           }
          ],
          "contourcarpet": [
           {
            "colorbar": {
             "outlinewidth": 1,
             "tickcolor": "rgb(36,36,36)",
             "ticks": "outside"
            },
            "type": "contourcarpet"
           }
          ],
          "heatmap": [
           {
            "colorbar": {
             "outlinewidth": 1,
             "tickcolor": "rgb(36,36,36)",
             "ticks": "outside"
            },
            "colorscale": [
             [
              0,
              "#440154"
             ],
             [
              0.1111111111111111,
              "#482878"
             ],
             [
              0.2222222222222222,
              "#3e4989"
             ],
             [
              0.3333333333333333,
              "#31688e"
             ],
             [
              0.4444444444444444,
              "#26828e"
             ],
             [
              0.5555555555555556,
              "#1f9e89"
             ],
             [
              0.6666666666666666,
              "#35b779"
             ],
             [
              0.7777777777777778,
              "#6ece58"
             ],
             [
              0.8888888888888888,
              "#b5de2b"
             ],
             [
              1,
              "#fde725"
             ]
            ],
            "type": "heatmap"
           }
          ],
          "heatmapgl": [
           {
            "colorbar": {
             "outlinewidth": 1,
             "tickcolor": "rgb(36,36,36)",
             "ticks": "outside"
            },
            "colorscale": [
             [
              0,
              "#440154"
             ],
             [
              0.1111111111111111,
              "#482878"
             ],
             [
              0.2222222222222222,
              "#3e4989"
             ],
             [
              0.3333333333333333,
              "#31688e"
             ],
             [
              0.4444444444444444,
              "#26828e"
             ],
             [
              0.5555555555555556,
              "#1f9e89"
             ],
             [
              0.6666666666666666,
              "#35b779"
             ],
             [
              0.7777777777777778,
              "#6ece58"
             ],
             [
              0.8888888888888888,
              "#b5de2b"
             ],
             [
              1,
              "#fde725"
             ]
            ],
            "type": "heatmapgl"
           }
          ],
          "histogram": [
           {
            "marker": {
             "line": {
              "color": "white",
              "width": 0.6
             }
            },
            "type": "histogram"
           }
          ],
          "histogram2d": [
           {
            "colorbar": {
             "outlinewidth": 1,
             "tickcolor": "rgb(36,36,36)",
             "ticks": "outside"
            },
            "colorscale": [
             [
              0,
              "#440154"
             ],
             [
              0.1111111111111111,
              "#482878"
             ],
             [
              0.2222222222222222,
              "#3e4989"
             ],
             [
              0.3333333333333333,
              "#31688e"
             ],
             [
              0.4444444444444444,
              "#26828e"
             ],
             [
              0.5555555555555556,
              "#1f9e89"
             ],
             [
              0.6666666666666666,
              "#35b779"
             ],
             [
              0.7777777777777778,
              "#6ece58"
             ],
             [
              0.8888888888888888,
              "#b5de2b"
             ],
             [
              1,
              "#fde725"
             ]
            ],
            "type": "histogram2d"
           }
          ],
          "histogram2dcontour": [
           {
            "colorbar": {
             "outlinewidth": 1,
             "tickcolor": "rgb(36,36,36)",
             "ticks": "outside"
            },
            "colorscale": [
             [
              0,
              "#440154"
             ],
             [
              0.1111111111111111,
              "#482878"
             ],
             [
              0.2222222222222222,
              "#3e4989"
             ],
             [
              0.3333333333333333,
              "#31688e"
             ],
             [
              0.4444444444444444,
              "#26828e"
             ],
             [
              0.5555555555555556,
              "#1f9e89"
             ],
             [
              0.6666666666666666,
              "#35b779"
             ],
             [
              0.7777777777777778,
              "#6ece58"
             ],
             [
              0.8888888888888888,
              "#b5de2b"
             ],
             [
              1,
              "#fde725"
             ]
            ],
            "type": "histogram2dcontour"
           }
          ],
          "mesh3d": [
           {
            "colorbar": {
             "outlinewidth": 1,
             "tickcolor": "rgb(36,36,36)",
             "ticks": "outside"
            },
            "type": "mesh3d"
           }
          ],
          "parcoords": [
           {
            "line": {
             "colorbar": {
              "outlinewidth": 1,
              "tickcolor": "rgb(36,36,36)",
              "ticks": "outside"
             }
            },
            "type": "parcoords"
           }
          ],
          "pie": [
           {
            "automargin": true,
            "type": "pie"
           }
          ],
          "scatter": [
           {
            "fillpattern": {
             "fillmode": "overlay",
             "size": 10,
             "solidity": 0.2
            },
            "type": "scatter"
           }
          ],
          "scatter3d": [
           {
            "line": {
             "colorbar": {
              "outlinewidth": 1,
              "tickcolor": "rgb(36,36,36)",
              "ticks": "outside"
             }
            },
            "marker": {
             "colorbar": {
              "outlinewidth": 1,
              "tickcolor": "rgb(36,36,36)",
              "ticks": "outside"
             }
            },
            "type": "scatter3d"
           }
          ],
          "scattercarpet": [
           {
            "marker": {
             "colorbar": {
              "outlinewidth": 1,
              "tickcolor": "rgb(36,36,36)",
              "ticks": "outside"
             }
            },
            "type": "scattercarpet"
           }
          ],
          "scattergeo": [
           {
            "marker": {
             "colorbar": {
              "outlinewidth": 1,
              "tickcolor": "rgb(36,36,36)",
              "ticks": "outside"
             }
            },
            "type": "scattergeo"
           }
          ],
          "scattergl": [
           {
            "marker": {
             "colorbar": {
              "outlinewidth": 1,
              "tickcolor": "rgb(36,36,36)",
              "ticks": "outside"
             }
            },
            "type": "scattergl"
           }
          ],
          "scattermapbox": [
           {
            "marker": {
             "colorbar": {
              "outlinewidth": 1,
              "tickcolor": "rgb(36,36,36)",
              "ticks": "outside"
             }
            },
            "type": "scattermapbox"
           }
          ],
          "scatterpolar": [
           {
            "marker": {
             "colorbar": {
              "outlinewidth": 1,
              "tickcolor": "rgb(36,36,36)",
              "ticks": "outside"
             }
            },
            "type": "scatterpolar"
           }
          ],
          "scatterpolargl": [
           {
            "marker": {
             "colorbar": {
              "outlinewidth": 1,
              "tickcolor": "rgb(36,36,36)",
              "ticks": "outside"
             }
            },
            "type": "scatterpolargl"
           }
          ],
          "scatterternary": [
           {
            "marker": {
             "colorbar": {
              "outlinewidth": 1,
              "tickcolor": "rgb(36,36,36)",
              "ticks": "outside"
             }
            },
            "type": "scatterternary"
           }
          ],
          "surface": [
           {
            "colorbar": {
             "outlinewidth": 1,
             "tickcolor": "rgb(36,36,36)",
             "ticks": "outside"
            },
            "colorscale": [
             [
              0,
              "#440154"
             ],
             [
              0.1111111111111111,
              "#482878"
             ],
             [
              0.2222222222222222,
              "#3e4989"
             ],
             [
              0.3333333333333333,
              "#31688e"
             ],
             [
              0.4444444444444444,
              "#26828e"
             ],
             [
              0.5555555555555556,
              "#1f9e89"
             ],
             [
              0.6666666666666666,
              "#35b779"
             ],
             [
              0.7777777777777778,
              "#6ece58"
             ],
             [
              0.8888888888888888,
              "#b5de2b"
             ],
             [
              1,
              "#fde725"
             ]
            ],
            "type": "surface"
           }
          ],
          "table": [
           {
            "cells": {
             "fill": {
              "color": "rgb(237,237,237)"
             },
             "line": {
              "color": "white"
             }
            },
            "header": {
             "fill": {
              "color": "rgb(217,217,217)"
             },
             "line": {
              "color": "white"
             }
            },
            "type": "table"
           }
          ]
         },
         "layout": {
          "annotationdefaults": {
           "arrowhead": 0,
           "arrowwidth": 1
          },
          "autotypenumbers": "strict",
          "coloraxis": {
           "colorbar": {
            "outlinewidth": 1,
            "tickcolor": "rgb(36,36,36)",
            "ticks": "outside"
           }
          },
          "colorscale": {
           "diverging": [
            [
             0,
             "rgb(103,0,31)"
            ],
            [
             0.1,
             "rgb(178,24,43)"
            ],
            [
             0.2,
             "rgb(214,96,77)"
            ],
            [
             0.3,
             "rgb(244,165,130)"
            ],
            [
             0.4,
             "rgb(253,219,199)"
            ],
            [
             0.5,
             "rgb(247,247,247)"
            ],
            [
             0.6,
             "rgb(209,229,240)"
            ],
            [
             0.7,
             "rgb(146,197,222)"
            ],
            [
             0.8,
             "rgb(67,147,195)"
            ],
            [
             0.9,
             "rgb(33,102,172)"
            ],
            [
             1,
             "rgb(5,48,97)"
            ]
           ],
           "sequential": [
            [
             0,
             "#440154"
            ],
            [
             0.1111111111111111,
             "#482878"
            ],
            [
             0.2222222222222222,
             "#3e4989"
            ],
            [
             0.3333333333333333,
             "#31688e"
            ],
            [
             0.4444444444444444,
             "#26828e"
            ],
            [
             0.5555555555555556,
             "#1f9e89"
            ],
            [
             0.6666666666666666,
             "#35b779"
            ],
            [
             0.7777777777777778,
             "#6ece58"
            ],
            [
             0.8888888888888888,
             "#b5de2b"
            ],
            [
             1,
             "#fde725"
            ]
           ],
           "sequentialminus": [
            [
             0,
             "#440154"
            ],
            [
             0.1111111111111111,
             "#482878"
            ],
            [
             0.2222222222222222,
             "#3e4989"
            ],
            [
             0.3333333333333333,
             "#31688e"
            ],
            [
             0.4444444444444444,
             "#26828e"
            ],
            [
             0.5555555555555556,
             "#1f9e89"
            ],
            [
             0.6666666666666666,
             "#35b779"
            ],
            [
             0.7777777777777778,
             "#6ece58"
            ],
            [
             0.8888888888888888,
             "#b5de2b"
            ],
            [
             1,
             "#fde725"
            ]
           ]
          },
          "colorway": [
           "#1F77B4",
           "#FF7F0E",
           "#2CA02C",
           "#D62728",
           "#9467BD",
           "#8C564B",
           "#E377C2",
           "#7F7F7F",
           "#BCBD22",
           "#17BECF"
          ],
          "font": {
           "color": "rgb(36,36,36)"
          },
          "geo": {
           "bgcolor": "white",
           "lakecolor": "white",
           "landcolor": "white",
           "showlakes": true,
           "showland": true,
           "subunitcolor": "white"
          },
          "hoverlabel": {
           "align": "left"
          },
          "hovermode": "closest",
          "mapbox": {
           "style": "light"
          },
          "paper_bgcolor": "white",
          "plot_bgcolor": "white",
          "polar": {
           "angularaxis": {
            "gridcolor": "rgb(232,232,232)",
            "linecolor": "rgb(36,36,36)",
            "showgrid": false,
            "showline": true,
            "ticks": "outside"
           },
           "bgcolor": "white",
           "radialaxis": {
            "gridcolor": "rgb(232,232,232)",
            "linecolor": "rgb(36,36,36)",
            "showgrid": false,
            "showline": true,
            "ticks": "outside"
           }
          },
          "scene": {
           "xaxis": {
            "backgroundcolor": "white",
            "gridcolor": "rgb(232,232,232)",
            "gridwidth": 2,
            "linecolor": "rgb(36,36,36)",
            "showbackground": true,
            "showgrid": false,
            "showline": true,
            "ticks": "outside",
            "zeroline": false,
            "zerolinecolor": "rgb(36,36,36)"
           },
           "yaxis": {
            "backgroundcolor": "white",
            "gridcolor": "rgb(232,232,232)",
            "gridwidth": 2,
            "linecolor": "rgb(36,36,36)",
            "showbackground": true,
            "showgrid": false,
            "showline": true,
            "ticks": "outside",
            "zeroline": false,
            "zerolinecolor": "rgb(36,36,36)"
           },
           "zaxis": {
            "backgroundcolor": "white",
            "gridcolor": "rgb(232,232,232)",
            "gridwidth": 2,
            "linecolor": "rgb(36,36,36)",
            "showbackground": true,
            "showgrid": false,
            "showline": true,
            "ticks": "outside",
            "zeroline": false,
            "zerolinecolor": "rgb(36,36,36)"
           }
          },
          "shapedefaults": {
           "fillcolor": "black",
           "line": {
            "width": 0
           },
           "opacity": 0.3
          },
          "ternary": {
           "aaxis": {
            "gridcolor": "rgb(232,232,232)",
            "linecolor": "rgb(36,36,36)",
            "showgrid": false,
            "showline": true,
            "ticks": "outside"
           },
           "baxis": {
            "gridcolor": "rgb(232,232,232)",
            "linecolor": "rgb(36,36,36)",
            "showgrid": false,
            "showline": true,
            "ticks": "outside"
           },
           "bgcolor": "white",
           "caxis": {
            "gridcolor": "rgb(232,232,232)",
            "linecolor": "rgb(36,36,36)",
            "showgrid": false,
            "showline": true,
            "ticks": "outside"
           }
          },
          "title": {
           "x": 0.05
          },
          "xaxis": {
           "automargin": true,
           "gridcolor": "rgb(232,232,232)",
           "linecolor": "rgb(36,36,36)",
           "showgrid": false,
           "showline": true,
           "ticks": "outside",
           "title": {
            "standoff": 15
           },
           "zeroline": false,
           "zerolinecolor": "rgb(36,36,36)"
          },
          "yaxis": {
           "automargin": true,
           "gridcolor": "rgb(232,232,232)",
           "linecolor": "rgb(36,36,36)",
           "showgrid": false,
           "showline": true,
           "ticks": "outside",
           "title": {
            "standoff": 15
           },
           "zeroline": false,
           "zerolinecolor": "rgb(36,36,36)"
          }
         }
        },
        "width": 1000,
        "xaxis": {
         "type": "category"
        },
        "yaxis": {
         "autorange": "reversed",
         "type": "category"
        }
       }
      },
      "text/html": [
       "<div>                            <div id=\"1a0e220d-79ac-4c18-9df5-771919671ec5\" class=\"plotly-graph-div\" style=\"height:600px; width:1000px;\"></div>            <script type=\"text/javascript\">                require([\"plotly\"], function(Plotly) {                    window.PLOTLYENV=window.PLOTLYENV || {};                                    if (document.getElementById(\"1a0e220d-79ac-4c18-9df5-771919671ec5\")) {                    Plotly.newPlot(                        \"1a0e220d-79ac-4c18-9df5-771919671ec5\",                        [{\"marker\":{\"size\":[5.126885262778607,2.815668914397488,1.9637617748494363,0.025737375817161682,1.5082102228856746,12.649920214134966,0.810727338240593,0.01801616307201318,13.362845524270345,22.108405826941883,2.3163638235445516,1.1067071601379523,0.010294950326864673,0.764400061769702,2.4810830287743864,0.3551757862768312,0.020589900653729346,2.2468729088382147,3.335563905904154,3.2300406650537914,3.2609255160343853,0.0025737375817161683,0.2934060843156432,26.488907191022804,0.28568487157049466,0.06434343954290421,61.90611005301899,0.40922427549287077,0.13383435424924073,0.14155556699438923,0.0,0.007721212745148504,0.7901374375868636,0.0025737375817161683,0.0025737375817161683,1.0655273588304937,0.030884850980594018,0.015442425490297009,0.03345858856231018,0.0,0.007721212745148504,0.17244041797498327,0.007721212745148504,0.0,0.14412930457610543,21.99773511092809,1.7810264065475885,0.6460081330107582,0.010294950326864673,0.5971071189581509,0.9111031039275236,0.2625212333350492,0.015442425490297009,1.2920162660215164,0.007721212745148504,0.015442425490297009,0.0051474751634323366,0.0,0.0,0.09522829052349822,0.0,0.0,0.23935759509960364,0.2650949709167653,0.028311113398877853,0.01801616307201318,0.0,0.0051474751634323366,0.1467030421578216,0.010294950326864673,0.0,0.12611314150409225]},\"mode\":\"text+markers\",\"showlegend\":true,\"x\":[\"None\",\"None\",\"None\",\"None\",\"None\",\"None\",\"None\",\"None\",\"None\",\"cCRE\",\"cCRE\",\"cCRE\",\"cCRE\",\"cCRE\",\"cCRE\",\"cCRE\",\"cCRE\",\"cCRE\",\"LINE/LTR\",\"LINE/LTR\",\"LINE/LTR\",\"LINE/LTR\",\"LINE/LTR\",\"LINE/LTR\",\"LINE/LTR\",\"LINE/LTR\",\"LINE/LTR\",\"cCRE & LINE/LTR\",\"cCRE & LINE/LTR\",\"cCRE & LINE/LTR\",\"cCRE & LINE/LTR\",\"cCRE & LINE/LTR\",\"cCRE & LINE/LTR\",\"cCRE & LINE/LTR\",\"cCRE & LINE/LTR\",\"cCRE & LINE/LTR\",\"CTCF\",\"CTCF\",\"CTCF\",\"CTCF\",\"CTCF\",\"CTCF\",\"CTCF\",\"CTCF\",\"CTCF\",\"cCRE & CTCF\",\"cCRE & CTCF\",\"cCRE & CTCF\",\"cCRE & CTCF\",\"cCRE & CTCF\",\"cCRE & CTCF\",\"cCRE & CTCF\",\"cCRE & CTCF\",\"cCRE & CTCF\",\"LINE/LTR & CTCF\",\"LINE/LTR & CTCF\",\"LINE/LTR & CTCF\",\"LINE/LTR & CTCF\",\"LINE/LTR & CTCF\",\"LINE/LTR & CTCF\",\"LINE/LTR & CTCF\",\"LINE/LTR & CTCF\",\"LINE/LTR & CTCF\",\"cCRE & LINE/LTR & CTCF\",\"cCRE & LINE/LTR & CTCF\",\"cCRE & LINE/LTR & CTCF\",\"cCRE & LINE/LTR & CTCF\",\"cCRE & LINE/LTR & CTCF\",\"cCRE & LINE/LTR & CTCF\",\"cCRE & LINE/LTR & CTCF\",\"cCRE & LINE/LTR & CTCF\",\"cCRE & LINE/LTR & CTCF\"],\"y\":[\"Promoter (<=1kb)\",\"Promoter (1-2kb)\",\"Promoter (2-3kb)\",\"5' UTR\",\"Exon\",\"Intron\",\"3' UTR\",\"Downstream (<=300bp)\",\"Distal Intergenic\",\"Promoter (<=1kb)\",\"Promoter (1-2kb)\",\"Promoter (2-3kb)\",\"5' UTR\",\"Exon\",\"Intron\",\"3' UTR\",\"Downstream (<=300bp)\",\"Distal Intergenic\",\"Promoter (<=1kb)\",\"Promoter (1-2kb)\",\"Promoter (2-3kb)\",\"5' UTR\",\"Exon\",\"Intron\",\"3' UTR\",\"Downstream (<=300bp)\",\"Distal Intergenic\",\"Promoter (<=1kb)\",\"Promoter (1-2kb)\",\"Promoter (2-3kb)\",\"5' UTR\",\"Exon\",\"Intron\",\"3' UTR\",\"Downstream (<=300bp)\",\"Distal Intergenic\",\"Promoter (<=1kb)\",\"Promoter (1-2kb)\",\"Promoter (2-3kb)\",\"5' UTR\",\"Exon\",\"Intron\",\"3' UTR\",\"Downstream (<=300bp)\",\"Distal Intergenic\",\"Promoter (<=1kb)\",\"Promoter (1-2kb)\",\"Promoter (2-3kb)\",\"5' UTR\",\"Exon\",\"Intron\",\"3' UTR\",\"Downstream (<=300bp)\",\"Distal Intergenic\",\"Promoter (<=1kb)\",\"Promoter (1-2kb)\",\"Promoter (2-3kb)\",\"5' UTR\",\"Exon\",\"Intron\",\"3' UTR\",\"Downstream (<=300bp)\",\"Distal Intergenic\",\"Promoter (<=1kb)\",\"Promoter (1-2kb)\",\"Promoter (2-3kb)\",\"5' UTR\",\"Exon\",\"Intron\",\"3' UTR\",\"Downstream (<=300bp)\",\"Distal Intergenic\"],\"type\":\"scatter\"}],                        {\"template\":{\"data\":{\"barpolar\":[{\"marker\":{\"line\":{\"color\":\"white\",\"width\":0.5},\"pattern\":{\"fillmode\":\"overlay\",\"size\":10,\"solidity\":0.2}},\"type\":\"barpolar\"}],\"bar\":[{\"error_x\":{\"color\":\"rgb(36,36,36)\"},\"error_y\":{\"color\":\"rgb(36,36,36)\"},\"marker\":{\"line\":{\"color\":\"white\",\"width\":0.5},\"pattern\":{\"fillmode\":\"overlay\",\"size\":10,\"solidity\":0.2}},\"type\":\"bar\"}],\"carpet\":[{\"aaxis\":{\"endlinecolor\":\"rgb(36,36,36)\",\"gridcolor\":\"white\",\"linecolor\":\"white\",\"minorgridcolor\":\"white\",\"startlinecolor\":\"rgb(36,36,36)\"},\"baxis\":{\"endlinecolor\":\"rgb(36,36,36)\",\"gridcolor\":\"white\",\"linecolor\":\"white\",\"minorgridcolor\":\"white\",\"startlinecolor\":\"rgb(36,36,36)\"},\"type\":\"carpet\"}],\"choropleth\":[{\"colorbar\":{\"outlinewidth\":1,\"tickcolor\":\"rgb(36,36,36)\",\"ticks\":\"outside\"},\"type\":\"choropleth\"}],\"contourcarpet\":[{\"colorbar\":{\"outlinewidth\":1,\"tickcolor\":\"rgb(36,36,36)\",\"ticks\":\"outside\"},\"type\":\"contourcarpet\"}],\"contour\":[{\"colorbar\":{\"outlinewidth\":1,\"tickcolor\":\"rgb(36,36,36)\",\"ticks\":\"outside\"},\"colorscale\":[[0.0,\"#440154\"],[0.1111111111111111,\"#482878\"],[0.2222222222222222,\"#3e4989\"],[0.3333333333333333,\"#31688e\"],[0.4444444444444444,\"#26828e\"],[0.5555555555555556,\"#1f9e89\"],[0.6666666666666666,\"#35b779\"],[0.7777777777777778,\"#6ece58\"],[0.8888888888888888,\"#b5de2b\"],[1.0,\"#fde725\"]],\"type\":\"contour\"}],\"heatmapgl\":[{\"colorbar\":{\"outlinewidth\":1,\"tickcolor\":\"rgb(36,36,36)\",\"ticks\":\"outside\"},\"colorscale\":[[0.0,\"#440154\"],[0.1111111111111111,\"#482878\"],[0.2222222222222222,\"#3e4989\"],[0.3333333333333333,\"#31688e\"],[0.4444444444444444,\"#26828e\"],[0.5555555555555556,\"#1f9e89\"],[0.6666666666666666,\"#35b779\"],[0.7777777777777778,\"#6ece58\"],[0.8888888888888888,\"#b5de2b\"],[1.0,\"#fde725\"]],\"type\":\"heatmapgl\"}],\"heatmap\":[{\"colorbar\":{\"outlinewidth\":1,\"tickcolor\":\"rgb(36,36,36)\",\"ticks\":\"outside\"},\"colorscale\":[[0.0,\"#440154\"],[0.1111111111111111,\"#482878\"],[0.2222222222222222,\"#3e4989\"],[0.3333333333333333,\"#31688e\"],[0.4444444444444444,\"#26828e\"],[0.5555555555555556,\"#1f9e89\"],[0.6666666666666666,\"#35b779\"],[0.7777777777777778,\"#6ece58\"],[0.8888888888888888,\"#b5de2b\"],[1.0,\"#fde725\"]],\"type\":\"heatmap\"}],\"histogram2dcontour\":[{\"colorbar\":{\"outlinewidth\":1,\"tickcolor\":\"rgb(36,36,36)\",\"ticks\":\"outside\"},\"colorscale\":[[0.0,\"#440154\"],[0.1111111111111111,\"#482878\"],[0.2222222222222222,\"#3e4989\"],[0.3333333333333333,\"#31688e\"],[0.4444444444444444,\"#26828e\"],[0.5555555555555556,\"#1f9e89\"],[0.6666666666666666,\"#35b779\"],[0.7777777777777778,\"#6ece58\"],[0.8888888888888888,\"#b5de2b\"],[1.0,\"#fde725\"]],\"type\":\"histogram2dcontour\"}],\"histogram2d\":[{\"colorbar\":{\"outlinewidth\":1,\"tickcolor\":\"rgb(36,36,36)\",\"ticks\":\"outside\"},\"colorscale\":[[0.0,\"#440154\"],[0.1111111111111111,\"#482878\"],[0.2222222222222222,\"#3e4989\"],[0.3333333333333333,\"#31688e\"],[0.4444444444444444,\"#26828e\"],[0.5555555555555556,\"#1f9e89\"],[0.6666666666666666,\"#35b779\"],[0.7777777777777778,\"#6ece58\"],[0.8888888888888888,\"#b5de2b\"],[1.0,\"#fde725\"]],\"type\":\"histogram2d\"}],\"histogram\":[{\"marker\":{\"line\":{\"color\":\"white\",\"width\":0.6}},\"type\":\"histogram\"}],\"mesh3d\":[{\"colorbar\":{\"outlinewidth\":1,\"tickcolor\":\"rgb(36,36,36)\",\"ticks\":\"outside\"},\"type\":\"mesh3d\"}],\"parcoords\":[{\"line\":{\"colorbar\":{\"outlinewidth\":1,\"tickcolor\":\"rgb(36,36,36)\",\"ticks\":\"outside\"}},\"type\":\"parcoords\"}],\"pie\":[{\"automargin\":true,\"type\":\"pie\"}],\"scatter3d\":[{\"line\":{\"colorbar\":{\"outlinewidth\":1,\"tickcolor\":\"rgb(36,36,36)\",\"ticks\":\"outside\"}},\"marker\":{\"colorbar\":{\"outlinewidth\":1,\"tickcolor\":\"rgb(36,36,36)\",\"ticks\":\"outside\"}},\"type\":\"scatter3d\"}],\"scattercarpet\":[{\"marker\":{\"colorbar\":{\"outlinewidth\":1,\"tickcolor\":\"rgb(36,36,36)\",\"ticks\":\"outside\"}},\"type\":\"scattercarpet\"}],\"scattergeo\":[{\"marker\":{\"colorbar\":{\"outlinewidth\":1,\"tickcolor\":\"rgb(36,36,36)\",\"ticks\":\"outside\"}},\"type\":\"scattergeo\"}],\"scattergl\":[{\"marker\":{\"colorbar\":{\"outlinewidth\":1,\"tickcolor\":\"rgb(36,36,36)\",\"ticks\":\"outside\"}},\"type\":\"scattergl\"}],\"scattermapbox\":[{\"marker\":{\"colorbar\":{\"outlinewidth\":1,\"tickcolor\":\"rgb(36,36,36)\",\"ticks\":\"outside\"}},\"type\":\"scattermapbox\"}],\"scatterpolargl\":[{\"marker\":{\"colorbar\":{\"outlinewidth\":1,\"tickcolor\":\"rgb(36,36,36)\",\"ticks\":\"outside\"}},\"type\":\"scatterpolargl\"}],\"scatterpolar\":[{\"marker\":{\"colorbar\":{\"outlinewidth\":1,\"tickcolor\":\"rgb(36,36,36)\",\"ticks\":\"outside\"}},\"type\":\"scatterpolar\"}],\"scatter\":[{\"fillpattern\":{\"fillmode\":\"overlay\",\"size\":10,\"solidity\":0.2},\"type\":\"scatter\"}],\"scatterternary\":[{\"marker\":{\"colorbar\":{\"outlinewidth\":1,\"tickcolor\":\"rgb(36,36,36)\",\"ticks\":\"outside\"}},\"type\":\"scatterternary\"}],\"surface\":[{\"colorbar\":{\"outlinewidth\":1,\"tickcolor\":\"rgb(36,36,36)\",\"ticks\":\"outside\"},\"colorscale\":[[0.0,\"#440154\"],[0.1111111111111111,\"#482878\"],[0.2222222222222222,\"#3e4989\"],[0.3333333333333333,\"#31688e\"],[0.4444444444444444,\"#26828e\"],[0.5555555555555556,\"#1f9e89\"],[0.6666666666666666,\"#35b779\"],[0.7777777777777778,\"#6ece58\"],[0.8888888888888888,\"#b5de2b\"],[1.0,\"#fde725\"]],\"type\":\"surface\"}],\"table\":[{\"cells\":{\"fill\":{\"color\":\"rgb(237,237,237)\"},\"line\":{\"color\":\"white\"}},\"header\":{\"fill\":{\"color\":\"rgb(217,217,217)\"},\"line\":{\"color\":\"white\"}},\"type\":\"table\"}]},\"layout\":{\"annotationdefaults\":{\"arrowhead\":0,\"arrowwidth\":1},\"autotypenumbers\":\"strict\",\"coloraxis\":{\"colorbar\":{\"outlinewidth\":1,\"tickcolor\":\"rgb(36,36,36)\",\"ticks\":\"outside\"}},\"colorscale\":{\"diverging\":[[0.0,\"rgb(103,0,31)\"],[0.1,\"rgb(178,24,43)\"],[0.2,\"rgb(214,96,77)\"],[0.3,\"rgb(244,165,130)\"],[0.4,\"rgb(253,219,199)\"],[0.5,\"rgb(247,247,247)\"],[0.6,\"rgb(209,229,240)\"],[0.7,\"rgb(146,197,222)\"],[0.8,\"rgb(67,147,195)\"],[0.9,\"rgb(33,102,172)\"],[1.0,\"rgb(5,48,97)\"]],\"sequential\":[[0.0,\"#440154\"],[0.1111111111111111,\"#482878\"],[0.2222222222222222,\"#3e4989\"],[0.3333333333333333,\"#31688e\"],[0.4444444444444444,\"#26828e\"],[0.5555555555555556,\"#1f9e89\"],[0.6666666666666666,\"#35b779\"],[0.7777777777777778,\"#6ece58\"],[0.8888888888888888,\"#b5de2b\"],[1.0,\"#fde725\"]],\"sequentialminus\":[[0.0,\"#440154\"],[0.1111111111111111,\"#482878\"],[0.2222222222222222,\"#3e4989\"],[0.3333333333333333,\"#31688e\"],[0.4444444444444444,\"#26828e\"],[0.5555555555555556,\"#1f9e89\"],[0.6666666666666666,\"#35b779\"],[0.7777777777777778,\"#6ece58\"],[0.8888888888888888,\"#b5de2b\"],[1.0,\"#fde725\"]]},\"colorway\":[\"#1F77B4\",\"#FF7F0E\",\"#2CA02C\",\"#D62728\",\"#9467BD\",\"#8C564B\",\"#E377C2\",\"#7F7F7F\",\"#BCBD22\",\"#17BECF\"],\"font\":{\"color\":\"rgb(36,36,36)\"},\"geo\":{\"bgcolor\":\"white\",\"lakecolor\":\"white\",\"landcolor\":\"white\",\"showlakes\":true,\"showland\":true,\"subunitcolor\":\"white\"},\"hoverlabel\":{\"align\":\"left\"},\"hovermode\":\"closest\",\"mapbox\":{\"style\":\"light\"},\"paper_bgcolor\":\"white\",\"plot_bgcolor\":\"white\",\"polar\":{\"angularaxis\":{\"gridcolor\":\"rgb(232,232,232)\",\"linecolor\":\"rgb(36,36,36)\",\"showgrid\":false,\"showline\":true,\"ticks\":\"outside\"},\"bgcolor\":\"white\",\"radialaxis\":{\"gridcolor\":\"rgb(232,232,232)\",\"linecolor\":\"rgb(36,36,36)\",\"showgrid\":false,\"showline\":true,\"ticks\":\"outside\"}},\"scene\":{\"xaxis\":{\"backgroundcolor\":\"white\",\"gridcolor\":\"rgb(232,232,232)\",\"gridwidth\":2,\"linecolor\":\"rgb(36,36,36)\",\"showbackground\":true,\"showgrid\":false,\"showline\":true,\"ticks\":\"outside\",\"zeroline\":false,\"zerolinecolor\":\"rgb(36,36,36)\"},\"yaxis\":{\"backgroundcolor\":\"white\",\"gridcolor\":\"rgb(232,232,232)\",\"gridwidth\":2,\"linecolor\":\"rgb(36,36,36)\",\"showbackground\":true,\"showgrid\":false,\"showline\":true,\"ticks\":\"outside\",\"zeroline\":false,\"zerolinecolor\":\"rgb(36,36,36)\"},\"zaxis\":{\"backgroundcolor\":\"white\",\"gridcolor\":\"rgb(232,232,232)\",\"gridwidth\":2,\"linecolor\":\"rgb(36,36,36)\",\"showbackground\":true,\"showgrid\":false,\"showline\":true,\"ticks\":\"outside\",\"zeroline\":false,\"zerolinecolor\":\"rgb(36,36,36)\"}},\"shapedefaults\":{\"fillcolor\":\"black\",\"line\":{\"width\":0},\"opacity\":0.3},\"ternary\":{\"aaxis\":{\"gridcolor\":\"rgb(232,232,232)\",\"linecolor\":\"rgb(36,36,36)\",\"showgrid\":false,\"showline\":true,\"ticks\":\"outside\"},\"baxis\":{\"gridcolor\":\"rgb(232,232,232)\",\"linecolor\":\"rgb(36,36,36)\",\"showgrid\":false,\"showline\":true,\"ticks\":\"outside\"},\"bgcolor\":\"white\",\"caxis\":{\"gridcolor\":\"rgb(232,232,232)\",\"linecolor\":\"rgb(36,36,36)\",\"showgrid\":false,\"showline\":true,\"ticks\":\"outside\"}},\"title\":{\"x\":0.05},\"xaxis\":{\"automargin\":true,\"gridcolor\":\"rgb(232,232,232)\",\"linecolor\":\"rgb(36,36,36)\",\"showgrid\":false,\"showline\":true,\"ticks\":\"outside\",\"title\":{\"standoff\":15},\"zeroline\":false,\"zerolinecolor\":\"rgb(36,36,36)\"},\"yaxis\":{\"automargin\":true,\"gridcolor\":\"rgb(232,232,232)\",\"linecolor\":\"rgb(36,36,36)\",\"showgrid\":false,\"showline\":true,\"ticks\":\"outside\",\"title\":{\"standoff\":15},\"zeroline\":false,\"zerolinecolor\":\"rgb(36,36,36)\"}}},\"xaxis\":{\"type\":\"category\"},\"yaxis\":{\"type\":\"category\",\"autorange\":\"reversed\"},\"font\":{\"family\":\"monospace\",\"size\":12},\"margin\":{\"t\":15,\"b\":5,\"l\":5},\"height\":600,\"width\":1000},                        {\"responsive\": true}                    ).then(function(){\n",
       "                            \n",
       "var gd = document.getElementById('1a0e220d-79ac-4c18-9df5-771919671ec5');\n",
       "var x = new MutationObserver(function (mutations, observer) {{\n",
       "        var display = window.getComputedStyle(gd).display;\n",
       "        if (!display || display === 'none') {{\n",
       "            console.log([gd, 'removed!']);\n",
       "            Plotly.purge(gd);\n",
       "            observer.disconnect();\n",
       "        }}\n",
       "}});\n",
       "\n",
       "// Listen for the removal of the full notebook cells\n",
       "var notebookContainer = gd.closest('#notebook-container');\n",
       "if (notebookContainer) {{\n",
       "    x.observe(notebookContainer, {childList: true});\n",
       "}}\n",
       "\n",
       "// Listen for the clearing of the current output cell\n",
       "var outputEl = gd.closest('.output');\n",
       "if (outputEl) {{\n",
       "    x.observe(outputEl, {childList: true});\n",
       "}}\n",
       "\n",
       "                        })                };                });            </script>        </div>"
      ]
     },
     "metadata": {},
     "output_type": "display_data"
    }
   ],
   "source": [
    "fig = go.Figure(data=go.Scatter(\n",
    "    x=pivot_table.reset_index().melt(id_vars=['Gene Feature'])['Feature Group'],\n",
    "    y=pivot_table.reset_index().melt(id_vars=['Gene Feature'])['Gene Feature'],\n",
    "    mode='text+markers',\n",
    "    # text=pivot_table.reset_index().melt(id_vars=['Gene Feature'])['value'],\n",
    "    # texttemplate=\"%{text:,d}\",\n",
    "    marker=dict(size=pivot_table_pct.reset_index().melt(id_vars=['Gene Feature'])['value'].fillna(0).apply(lambda x: x * 200).values),\n",
    "    showlegend=True,\n",
    "    # marker=dict(size=[y if y is not None else 0 for x in plotly_abs_data.values for y in x]),\n",
    "))\n",
    "\n",
    "fig.update_xaxes(type=\"category\")\n",
    "fig.update_yaxes(\n",
    "    # ticks=\"\",\n",
    "    type=\"category\", autorange='reversed',\n",
    "    # categoryarray=form_df.sort_values(\"mirna\", ascending=False)[\"mirna\"].unique(),\n",
    "    # categoryorder=\"array\",\n",
    ")\n",
    "\n",
    "fig.update_layout(\n",
    "    height=600,\n",
    "    width=1000,\n",
    "    font=dict(family=\"monospace\", size=12),\n",
    "    margin=dict(t=15, b=5, l=5),\n",
    "    template=\"simple_white\",\n",
    ")\n",
    "\n",
    "fig.show()\n"
   ]
  },
  {
   "cell_type": "code",
   "execution_count": null,
   "metadata": {},
   "outputs": [],
   "source": []
  }
 ],
 "metadata": {
  "kernelspec": {
   "display_name": "Python 3.11.0 ('mirna')",
   "language": "python",
   "name": "python3"
  },
  "language_info": {
   "codemirror_mode": {
    "name": "ipython",
    "version": 3
   },
   "file_extension": ".py",
   "mimetype": "text/x-python",
   "name": "python",
   "nbconvert_exporter": "python",
   "pygments_lexer": "ipython3",
   "version": "3.11.0"
  },
  "orig_nbformat": 4,
  "vscode": {
   "interpreter": {
    "hash": "aa4ca5e43b0b74394dc05f972f57eb4922712b4f4450a8ee4f1bf77784cf2ccc"
   }
  }
 },
 "nbformat": 4,
 "nbformat_minor": 2
}
