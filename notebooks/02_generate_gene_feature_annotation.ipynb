{
  "cells": [
    {
      "cell_type": "code",
      "execution_count": 1,
      "id": "83e93e66",
      "metadata": {},
      "outputs": [],
      "source": [
        "# !Rscript ../utils/install_r_libraries.r"
      ]
    },
    {
      "cell_type": "code",
      "execution_count": 2,
      "id": "2bd92063",
      "metadata": {},
      "outputs": [],
      "source": [
        "%load_ext rpy2.ipython"
      ]
    },
    {
      "cell_type": "code",
      "execution_count": 3,
      "id": "9ff1345a",
      "metadata": {},
      "outputs": [],
      "source": [
        "import os\n",
        "from datapaths import *"
      ]
    },
    {
      "cell_type": "code",
      "execution_count": 4,
      "id": "2645e505",
      "metadata": {
        "id": "2645e505",
        "scrolled": true
      },
      "outputs": [
        {
          "name": "stderr",
          "output_type": "stream",
          "text": [
            "R[write to console]: Loading required package: BiocGenerics\n",
            "\n",
            "R[write to console]: \n",
            "Attaching package: ‘BiocGenerics’\n",
            "\n",
            "\n",
            "R[write to console]: The following objects are masked from ‘package:stats’:\n",
            "\n",
            "    IQR, mad, sd, var, xtabs\n",
            "\n",
            "\n",
            "R[write to console]: The following objects are masked from ‘package:base’:\n",
            "\n",
            "    anyDuplicated, aperm, append, as.data.frame, basename, cbind,\n",
            "    colnames, dirname, do.call, duplicated, eval, evalq, Filter, Find,\n",
            "    get, grep, grepl, intersect, is.unsorted, lapply, Map, mapply,\n",
            "    match, mget, order, paste, pmax, pmax.int, pmin, pmin.int,\n",
            "    Position, rank, rbind, Reduce, rownames, sapply, setdiff, sort,\n",
            "    table, tapply, union, unique, unsplit, which.max, which.min\n",
            "\n",
            "\n",
            "R[write to console]: Loading required package: S4Vectors\n",
            "\n",
            "R[write to console]: Loading required package: stats4\n",
            "\n",
            "R[write to console]: \n",
            "Attaching package: ‘S4Vectors’\n",
            "\n",
            "\n",
            "R[write to console]: The following objects are masked from ‘package:base’:\n",
            "\n",
            "    expand.grid, I, unname\n",
            "\n",
            "\n",
            "R[write to console]: Loading required package: IRanges\n",
            "\n",
            "R[write to console]: Loading required package: GenomeInfoDb\n",
            "\n",
            "R[write to console]: Loading required package: GenomicRanges\n",
            "\n",
            "R[write to console]: Loading required package: AnnotationDbi\n",
            "\n",
            "R[write to console]: Loading required package: Biobase\n",
            "\n",
            "R[write to console]: Welcome to Bioconductor\n",
            "\n",
            "    Vignettes contain introductory material; view with\n",
            "    'browseVignettes()'. To cite Bioconductor, see\n",
            "    'citation(\"Biobase\")', and for packages 'citation(\"pkgname\")'.\n",
            "\n",
            "\n",
            "R[write to console]: \n",
            "\n",
            "R[write to console]: ChIPseeker v1.34.0  For help: https://guangchuangyu.github.io/software/ChIPseeker\n",
            "\n",
            "If you use ChIPseeker in published research, please cite:\n",
            "Guangchuang Yu, Li-Gen Wang, Qing-Yu He. ChIPseeker: an R/Bioconductor package for ChIP peak annotation, comparison and visualization. Bioinformatics 2015, 31(14):2382-2383\n",
            "\n",
            "R[write to console]: clusterProfiler v4.6.0  For help: https://yulab-smu.top/biomedical-knowledge-mining-book/\n",
            "\n",
            "If you use clusterProfiler in published research, please cite:\n",
            "T Wu, E Hu, S Xu, M Chen, P Guo, Z Dai, T Feng, L Zhou, W Tang, L Zhan, X Fu, S Liu, X Bo, and G Yu. clusterProfiler 4.0: A universal enrichment tool for interpreting omics data. The Innovation. 2021, 2(3):100141\n",
            "\n",
            "R[write to console]: \n",
            "Attaching package: 'clusterProfiler'\n",
            "\n",
            "\n",
            "R[write to console]: The following object is masked from 'package:AnnotationDbi':\n",
            "\n",
            "    select\n",
            "\n",
            "\n",
            "R[write to console]: The following object is masked from 'package:IRanges':\n",
            "\n",
            "    slice\n",
            "\n",
            "\n",
            "R[write to console]: The following object is masked from 'package:S4Vectors':\n",
            "\n",
            "    rename\n",
            "\n",
            "\n",
            "R[write to console]: The following object is masked from 'package:stats':\n",
            "\n",
            "    filter\n",
            "\n",
            "\n",
            "R[write to console]: \n",
            "Attaching package: 'dplyr'\n",
            "\n",
            "\n",
            "R[write to console]: The following object is masked from 'package:AnnotationDbi':\n",
            "\n",
            "    select\n",
            "\n",
            "\n",
            "R[write to console]: The following object is masked from 'package:Biobase':\n",
            "\n",
            "    combine\n",
            "\n",
            "\n",
            "R[write to console]: The following objects are masked from 'package:GenomicRanges':\n",
            "\n",
            "    intersect, setdiff, union\n",
            "\n",
            "\n",
            "R[write to console]: The following object is masked from 'package:GenomeInfoDb':\n",
            "\n",
            "    intersect\n",
            "\n",
            "\n",
            "R[write to console]: The following objects are masked from 'package:IRanges':\n",
            "\n",
            "    collapse, desc, intersect, setdiff, slice, union\n",
            "\n",
            "\n",
            "R[write to console]: The following objects are masked from 'package:S4Vectors':\n",
            "\n",
            "    first, intersect, rename, setdiff, setequal, union\n",
            "\n",
            "\n",
            "R[write to console]: The following objects are masked from 'package:BiocGenerics':\n",
            "\n",
            "    combine, intersect, setdiff, union\n",
            "\n",
            "\n",
            "R[write to console]: The following objects are masked from 'package:stats':\n",
            "\n",
            "    filter, lag\n",
            "\n",
            "\n",
            "R[write to console]: The following objects are masked from 'package:base':\n",
            "\n",
            "    intersect, setdiff, setequal, union\n",
            "\n",
            "\n"
          ]
        }
      ],
      "source": [
        "%%R\n",
        "library(GenomicFeatures)\n",
        "library(ChIPpeakAnno)\n",
        "library(ChIPseeker)\n",
        "library(clusterProfiler)\n",
        "library(dplyr)\n",
        "library(stringr)"
      ]
    },
    {
      "cell_type": "code",
      "execution_count": 5,
      "id": "FJzo_zAHSr6i",
      "metadata": {
        "colab": {
          "base_uri": "https://localhost:8080/"
        },
        "id": "FJzo_zAHSr6i",
        "outputId": "0b75f5db-b39e-4e21-bfac-07651a819036"
      },
      "outputs": [
        {
          "name": "stderr",
          "output_type": "stream",
          "text": [
            "R[write to console]: Import genomic features from the file as a GRanges object ... \n",
            "R[write to console]: OK\n",
            "\n",
            "R[write to console]: Prepare the 'metadata' data frame ... \n",
            "R[write to console]: OK\n",
            "\n",
            "R[write to console]: Make the TxDb object ... \n",
            "R[write to console]: OK\n",
            "\n"
          ]
        }
      ],
      "source": [
        "%%R -i F_GENCODE_STR\n",
        "txdb_all_annotation <- makeTxDbFromGFF(F_GENCODE_STR)"
      ]
    },
    {
      "cell_type": "code",
      "execution_count": 6,
      "id": "0kC8C8EwWRLv",
      "metadata": {
        "colab": {
          "base_uri": "https://localhost:8080/",
          "height": 1000
        },
        "id": "0kC8C8EwWRLv",
        "outputId": "23ffe835-7912-496c-d090-0c9e1f099f3a"
      },
      "outputs": [
        {
          "name": "stdout",
          "output_type": "stream",
          "text": [
            "                gene_id     gene_name\n",
            "1  ENSMUSG00000102693.1 4933401J01Rik\n",
            "4  ENSMUSG00000064842.1       Gm26206\n",
            "7  ENSMUSG00000051951.5          Xkr4\n",
            "25 ENSMUSG00000102851.1       Gm18956\n",
            "28 ENSMUSG00000103377.1       Gm37180\n",
            "31 ENSMUSG00000104017.1       Gm37363\n"
          ]
        }
      ],
      "source": [
        "%%R\n",
        "# https://www.biostars.org/p/140471/\n",
        "gtf.file = F_GENCODE_STR\n",
        "gtf.gr = rtracklayer::import(gtf.file) # creates a GRanges object\n",
        "gtf.df = as.data.frame(gtf.gr)\n",
        "\n",
        "genes = unique(gtf.df[ ,c(\"gene_id\",\"gene_name\")])\n",
        "head(genes)"
      ]
    },
    {
      "cell_type": "code",
      "execution_count": 7,
      "id": "89168ed5",
      "metadata": {},
      "outputs": [
        {
          "data": {
            "text/plain": [
              "['/home/fpavlov/projects/article_conserved_miRNA/data/flipons_experimental_bed/actb_ssdna_enriched_g4.bed',\n",
              " '/home/fpavlov/projects/article_conserved_miRNA/data/flipons_experimental_bed/actb_ssdna_enriched_sidd.bed',\n",
              " '/home/fpavlov/projects/article_conserved_miRNA/data/flipons_experimental_bed/actb_ssdna_enriched_z-dna.bed',\n",
              " '/home/fpavlov/projects/article_conserved_miRNA/data/flipons_experimental_bed/actb_ssdna_enriched_h-dna.bed']"
            ]
          },
          "execution_count": 7,
          "metadata": {},
          "output_type": "execute_result"
        }
      ],
      "source": [
        "flipon_list = [\n",
        "    str(D_FLIPONS_BED / 'actb_ssdna_enriched_g4.bed'),\n",
        "    str(D_FLIPONS_BED / 'actb_ssdna_enriched_sidd.bed'),\n",
        "    str(D_FLIPONS_BED / 'actb_ssdna_enriched_z-dna.bed'),\n",
        "    str(D_FLIPONS_BED / 'actb_ssdna_enriched_h-dna.bed'),\n",
        "]\n",
        "flipon_list"
      ]
    },
    {
      "cell_type": "code",
      "execution_count": 9,
      "id": "m7ac1B6HCVT3",
      "metadata": {
        "colab": {
          "base_uri": "https://localhost:8080/",
          "height": 1000
        },
        "id": "m7ac1B6HCVT3",
        "outputId": "df8d5478-a35d-4bc3-d911-59afc57c668b"
      },
      "outputs": [
        {
          "name": "stdout",
          "output_type": "stream",
          "text": [
            "[1] \"/home/fpavlov/projects/article_conserved_miRNA/data/flipons_experimental_bed/actb_ssdna_enriched_g4.bed\"\n",
            "[1] \"/home/fpavlov/projects/article_conserved_miRNA/data/flipons_experimental_bed/actb_ssdna_enriched_sidd.bed\"\n",
            "[1] \"/home/fpavlov/projects/article_conserved_miRNA/data/flipons_experimental_bed/actb_ssdna_enriched_z-dna.bed\"\n",
            "[1] \"/home/fpavlov/projects/article_conserved_miRNA/data/flipons_experimental_bed/actb_ssdna_enriched_h-dna.bed\"\n"
          ]
        }
      ],
      "source": [
        "%%R -i flipon_list\n",
        "\n",
        "df_final <- data.frame()\n",
        "\n",
        "for (flipon in flipon_list) {\n",
        "  peakAnno <- annotatePeak(flipon, tssRegion=c(-3000, 3000), TxDb=txdb_all_annotation, verbose=FALSE)\n",
        "\n",
        "  anno_df <- data.frame(peakAnno@anno)\n",
        "  anno_df$group <- str_replace(str_split(flipon, 'enriched_')[[1]][2], '.bed', '')\n",
        "  # res_df <- anno_df[grepl(\"Promoter\", anno_df$annotation),][c('annotation', 'geneId')]\n",
        "  # res_unique_genes_df <- distinct(res_df, geneId, .keep_all=TRUE)\n",
        "\n",
        "  df_final <- bind_rows(df_final, anno_df)\n",
        "  \n",
        "  # print('--------------------------------------------')\n",
        "  print(flipon)\n",
        "  # print('--------------------------------------------')\n",
        "  # print(peakAnno)\n",
        "  # print(dim(anno_df))\n",
        "}\n",
        "\n",
        "df_final <- merge(df_final, genes, by.x='geneId', by.y='gene_id', all.x=TRUE)\n",
        "# write.table(df_final, 'geneIds_by_group.tsv', append=FALSE, sep=\"\\t\", dec=\".\", row.names=FALSE, col.names = TRUE)\n",
        "# df_final\n"
      ]
    },
    {
      "cell_type": "code",
      "execution_count": 29,
      "id": "jSiOMw8Dfe0O",
      "metadata": {
        "id": "jSiOMw8Dfe0O"
      },
      "outputs": [
        {
          "data": {
            "text/html": [
              "<div>\n",
              "<style scoped>\n",
              "    .dataframe tbody tr th:only-of-type {\n",
              "        vertical-align: middle;\n",
              "    }\n",
              "\n",
              "    .dataframe tbody tr th {\n",
              "        vertical-align: top;\n",
              "    }\n",
              "\n",
              "    .dataframe thead th {\n",
              "        text-align: right;\n",
              "    }\n",
              "</style>\n",
              "<table border=\"1\" class=\"dataframe\">\n",
              "  <thead>\n",
              "    <tr style=\"text-align: right;\">\n",
              "      <th></th>\n",
              "      <th>Flipon</th>\n",
              "      <th>Coordinates</th>\n",
              "      <th>Gene Name</th>\n",
              "      <th>Gene Strand</th>\n",
              "      <th>Gene Feature</th>\n",
              "    </tr>\n",
              "  </thead>\n",
              "  <tbody>\n",
              "    <tr>\n",
              "      <th>58993</th>\n",
              "      <td>g4</td>\n",
              "      <td>chr1:3014794-3014871</td>\n",
              "      <td>4933401J01Rik</td>\n",
              "      <td>+</td>\n",
              "      <td>Distal Intergenic</td>\n",
              "    </tr>\n",
              "    <tr>\n",
              "      <th>36086</th>\n",
              "      <td>g4</td>\n",
              "      <td>chr1:3099888-3099963</td>\n",
              "      <td>Gm26206</td>\n",
              "      <td>+</td>\n",
              "      <td>Promoter (2-3kb)</td>\n",
              "    </tr>\n",
              "    <tr>\n",
              "      <th>59200</th>\n",
              "      <td>g4</td>\n",
              "      <td>chr1:3287445-3287468</td>\n",
              "      <td>Gm18956</td>\n",
              "      <td>+</td>\n",
              "      <td>Intron</td>\n",
              "    </tr>\n",
              "    <tr>\n",
              "      <th>59339</th>\n",
              "      <td>g4</td>\n",
              "      <td>chr1:3472953-3472969</td>\n",
              "      <td>Gm37686</td>\n",
              "      <td>-</td>\n",
              "      <td>Intron</td>\n",
              "    </tr>\n",
              "    <tr>\n",
              "      <th>59505</th>\n",
              "      <td>g4</td>\n",
              "      <td>chr1:3535948-3535996</td>\n",
              "      <td>Gm7341</td>\n",
              "      <td>+</td>\n",
              "      <td>Intron</td>\n",
              "    </tr>\n",
              "    <tr>\n",
              "      <th>...</th>\n",
              "      <td>...</td>\n",
              "      <td>...</td>\n",
              "      <td>...</td>\n",
              "      <td>...</td>\n",
              "      <td>...</td>\n",
              "    </tr>\n",
              "    <tr>\n",
              "      <th>56627</th>\n",
              "      <td>z-dna</td>\n",
              "      <td>chrY:3866251-3866287</td>\n",
              "      <td>Gm8521</td>\n",
              "      <td>+</td>\n",
              "      <td>Distal Intergenic</td>\n",
              "    </tr>\n",
              "    <tr>\n",
              "      <th>57669</th>\n",
              "      <td>z-dna</td>\n",
              "      <td>chrY:4195990-4196008</td>\n",
              "      <td>Gm29038</td>\n",
              "      <td>-</td>\n",
              "      <td>Distal Intergenic</td>\n",
              "    </tr>\n",
              "    <tr>\n",
              "      <th>57047</th>\n",
              "      <td>z-dna</td>\n",
              "      <td>chrY:4202845-4202862</td>\n",
              "      <td>Gm28191</td>\n",
              "      <td>+</td>\n",
              "      <td>Distal Intergenic</td>\n",
              "    </tr>\n",
              "    <tr>\n",
              "      <th>57058</th>\n",
              "      <td>z-dna</td>\n",
              "      <td>chrY:4203100-4203146</td>\n",
              "      <td>Gm28191</td>\n",
              "      <td>+</td>\n",
              "      <td>Distal Intergenic</td>\n",
              "    </tr>\n",
              "    <tr>\n",
              "      <th>57051</th>\n",
              "      <td>z-dna</td>\n",
              "      <td>chrY:4207093-4207113</td>\n",
              "      <td>Gm28191</td>\n",
              "      <td>+</td>\n",
              "      <td>Distal Intergenic</td>\n",
              "    </tr>\n",
              "  </tbody>\n",
              "</table>\n",
              "<p>77708 rows × 5 columns</p>\n",
              "</div>"
            ],
            "text/plain": [
              "      Flipon           Coordinates      Gene Name Gene Strand  \\\n",
              "58993     g4  chr1:3014794-3014871  4933401J01Rik           +   \n",
              "36086     g4  chr1:3099888-3099963        Gm26206           +   \n",
              "59200     g4  chr1:3287445-3287468        Gm18956           +   \n",
              "59339     g4  chr1:3472953-3472969        Gm37686           -   \n",
              "59505     g4  chr1:3535948-3535996         Gm7341           +   \n",
              "...      ...                   ...            ...         ...   \n",
              "56627  z-dna  chrY:3866251-3866287         Gm8521           +   \n",
              "57669  z-dna  chrY:4195990-4196008        Gm29038           -   \n",
              "57047  z-dna  chrY:4202845-4202862        Gm28191           +   \n",
              "57058  z-dna  chrY:4203100-4203146        Gm28191           +   \n",
              "57051  z-dna  chrY:4207093-4207113        Gm28191           +   \n",
              "\n",
              "            Gene Feature  \n",
              "58993  Distal Intergenic  \n",
              "36086   Promoter (2-3kb)  \n",
              "59200             Intron  \n",
              "59339             Intron  \n",
              "59505             Intron  \n",
              "...                  ...  \n",
              "56627  Distal Intergenic  \n",
              "57669  Distal Intergenic  \n",
              "57047  Distal Intergenic  \n",
              "57058  Distal Intergenic  \n",
              "57051  Distal Intergenic  \n",
              "\n",
              "[77708 rows x 5 columns]"
            ]
          },
          "execution_count": 29,
          "metadata": {},
          "output_type": "execute_result"
        }
      ],
      "source": [
        "flipon_to_gene = %R df_final\n",
        "\n",
        "flipon_to_gene = flipon_to_gene.sort_values([\"group\", \"seqnames\", \"start\"]).assign(\n",
        "    annotation=lambda df: df[\"annotation\"].apply(\n",
        "        lambda x: x.split(\" \")[0].strip() if \"Intron\" in x or \"Exon\" in x else x\n",
        "    ),\n",
        "    geneStrand=lambda df: df[\"geneStrand\"].apply(lambda x: \"+\" if x == 1 else \"-\"),\n",
        ")[[\"group\", \"V4\", \"gene_name\", \"geneStrand\", \"annotation\"]]\n",
        "\n",
        "flipon_to_gene.columns = [\n",
        "    \"Flipon\",\n",
        "    \"Coordinates\",\n",
        "    \"Gene Name\",\n",
        "    \"Gene Strand\",\n",
        "    \"Gene Feature\",\n",
        "]\n",
        "\n",
        "flipon_to_gene\n"
      ]
    },
    {
      "cell_type": "code",
      "execution_count": 31,
      "id": "23910176",
      "metadata": {},
      "outputs": [],
      "source": [
        "flipon_to_gene.to_csv(F_FLIPON_TO_GENE, sep='\\t', index=False)"
      ]
    }
  ],
  "metadata": {
    "colab": {
      "collapsed_sections": [],
      "name": "2022-05-06_03_[R]_calculate_pie_charts.ipynb",
      "provenance": []
    },
    "kernelspec": {
      "display_name": "Python 3.11.0 ('mirna')",
      "language": "python",
      "name": "python3"
    },
    "language_info": {
      "codemirror_mode": {
        "name": "ipython",
        "version": 3
      },
      "file_extension": ".py",
      "mimetype": "text/x-python",
      "name": "python",
      "nbconvert_exporter": "python",
      "pygments_lexer": "ipython3",
      "version": "3.11.0"
    },
    "vscode": {
      "interpreter": {
        "hash": "aa4ca5e43b0b74394dc05f972f57eb4922712b4f4450a8ee4f1bf77784cf2ccc"
      }
    }
  },
  "nbformat": 4,
  "nbformat_minor": 5
}
