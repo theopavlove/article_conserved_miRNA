{
 "cells": [
  {
   "cell_type": "code",
   "execution_count": 11,
   "metadata": {},
   "outputs": [],
   "source": [
    "import typing\n",
    "import pandas as pd\n",
    "import plotly.graph_objects as pgo\n",
    "import plotly.subplots as ps\n",
    "\n",
    "from pathlib import Path\n",
    "from datapaths import *\n",
    "\n",
    "pd.set_option('display.max_rows', 4)"
   ]
  },
  {
   "cell_type": "code",
   "execution_count": 12,
   "metadata": {},
   "outputs": [
    {
     "data": {
      "text/html": [
       "<div>\n",
       "<style scoped>\n",
       "    .dataframe tbody tr th:only-of-type {\n",
       "        vertical-align: middle;\n",
       "    }\n",
       "\n",
       "    .dataframe tbody tr th {\n",
       "        vertical-align: top;\n",
       "    }\n",
       "\n",
       "    .dataframe thead th {\n",
       "        text-align: right;\n",
       "    }\n",
       "</style>\n",
       "<table border=\"1\" class=\"dataframe\">\n",
       "  <thead>\n",
       "    <tr style=\"text-align: right;\">\n",
       "      <th></th>\n",
       "      <th>Flipon</th>\n",
       "      <th>Coordinates</th>\n",
       "      <th>Strand</th>\n",
       "      <th>Gene Feature</th>\n",
       "      <th>Gene Name</th>\n",
       "      <th>Gene Strand</th>\n",
       "      <th>Gene Type</th>\n",
       "      <th>Gene ID</th>\n",
       "      <th>Transcript ID</th>\n",
       "      <th>c. M miR (+)</th>\n",
       "      <th>...</th>\n",
       "      <th>c. J miR (-)</th>\n",
       "      <th>all M miR (+)</th>\n",
       "      <th>all M miR (-)</th>\n",
       "      <th>all MJ miR (+)</th>\n",
       "      <th>all MJ miR (-)</th>\n",
       "      <th>all J miR (+)</th>\n",
       "      <th>all J miR (-)</th>\n",
       "      <th>cCRE (+-200bp)</th>\n",
       "      <th>LINE/LTR (+-200bp)</th>\n",
       "      <th>Feature Group</th>\n",
       "    </tr>\n",
       "  </thead>\n",
       "  <tbody>\n",
       "    <tr>\n",
       "      <th>0</th>\n",
       "      <td>g4</td>\n",
       "      <td>chr1:3014794-3014871</td>\n",
       "      <td>-</td>\n",
       "      <td>Distal Intergenic</td>\n",
       "      <td>4933401J01Rik</td>\n",
       "      <td>+</td>\n",
       "      <td>TEC</td>\n",
       "      <td>ENSMUSG00000102693.1</td>\n",
       "      <td>ENSMUST00000193812.1</td>\n",
       "      <td>miR-328 (1)</td>\n",
       "      <td>...</td>\n",
       "      <td>NaN</td>\n",
       "      <td>miR-6994 (1), miR-129b (1)</td>\n",
       "      <td>miR-92a-2 (1), miR-698/miR-7078 (1), miR-3572 ...</td>\n",
       "      <td>miR-486a/miR-486b (1)</td>\n",
       "      <td>miR-3076 (1), miR-6418 (1), miR-6987 (1)</td>\n",
       "      <td>NaN</td>\n",
       "      <td>miR-7649 (1)</td>\n",
       "      <td>NaN</td>\n",
       "      <td>LINE@L1Md_F2(-), LINE@L1VL1(+)</td>\n",
       "      <td>LINE/LTR</td>\n",
       "    </tr>\n",
       "    <tr>\n",
       "      <th>1</th>\n",
       "      <td>g4</td>\n",
       "      <td>chr1:3099888-3099963</td>\n",
       "      <td>+</td>\n",
       "      <td>Promoter (2-3kb)</td>\n",
       "      <td>Gm26206</td>\n",
       "      <td>+</td>\n",
       "      <td>snRNA</td>\n",
       "      <td>ENSMUSG00000064842.1</td>\n",
       "      <td>ENSMUST00000082908.1</td>\n",
       "      <td>NaN</td>\n",
       "      <td>...</td>\n",
       "      <td>NaN</td>\n",
       "      <td>miR-365-1/miR-365-2 (1), miR-698/miR-7078 (1),...</td>\n",
       "      <td>miR-221 (1), miR-129b (1)</td>\n",
       "      <td>miR-6418 (1), miR-7067 (1)</td>\n",
       "      <td>NaN</td>\n",
       "      <td>NaN</td>\n",
       "      <td>NaN</td>\n",
       "      <td>NaN</td>\n",
       "      <td>LINE@L1Md_F2(+), LTR@MTC(+)</td>\n",
       "      <td>LINE/LTR</td>\n",
       "    </tr>\n",
       "    <tr>\n",
       "      <th>...</th>\n",
       "      <td>...</td>\n",
       "      <td>...</td>\n",
       "      <td>...</td>\n",
       "      <td>...</td>\n",
       "      <td>...</td>\n",
       "      <td>...</td>\n",
       "      <td>...</td>\n",
       "      <td>...</td>\n",
       "      <td>...</td>\n",
       "      <td>...</td>\n",
       "      <td>...</td>\n",
       "      <td>...</td>\n",
       "      <td>...</td>\n",
       "      <td>...</td>\n",
       "      <td>...</td>\n",
       "      <td>...</td>\n",
       "      <td>...</td>\n",
       "      <td>...</td>\n",
       "      <td>...</td>\n",
       "      <td>...</td>\n",
       "      <td>...</td>\n",
       "    </tr>\n",
       "    <tr>\n",
       "      <th>77706</th>\n",
       "      <td>z-dna</td>\n",
       "      <td>chrY:4203100-4203146</td>\n",
       "      <td>.</td>\n",
       "      <td>Distal Intergenic</td>\n",
       "      <td>Gm28191</td>\n",
       "      <td>+</td>\n",
       "      <td>unprocessed_pseudogene</td>\n",
       "      <td>ENSMUSG00000100300.1</td>\n",
       "      <td>ENSMUST00000189112.1</td>\n",
       "      <td>NaN</td>\n",
       "      <td>...</td>\n",
       "      <td>NaN</td>\n",
       "      <td>miR-466d/miR-466i (4), miR-466l (5)</td>\n",
       "      <td>NaN</td>\n",
       "      <td>miR-493 (1)</td>\n",
       "      <td>NaN</td>\n",
       "      <td>NaN</td>\n",
       "      <td>NaN</td>\n",
       "      <td>NaN</td>\n",
       "      <td>LINE@L1_Mur1(-)</td>\n",
       "      <td>LINE/LTR</td>\n",
       "    </tr>\n",
       "    <tr>\n",
       "      <th>77707</th>\n",
       "      <td>z-dna</td>\n",
       "      <td>chrY:4207093-4207113</td>\n",
       "      <td>.</td>\n",
       "      <td>Distal Intergenic</td>\n",
       "      <td>Gm28191</td>\n",
       "      <td>+</td>\n",
       "      <td>unprocessed_pseudogene</td>\n",
       "      <td>ENSMUSG00000100300.1</td>\n",
       "      <td>ENSMUST00000189112.1</td>\n",
       "      <td>NaN</td>\n",
       "      <td>...</td>\n",
       "      <td>NaN</td>\n",
       "      <td>miR-466a/miR-466e/miR-466p (1), miR-466d/miR-4...</td>\n",
       "      <td>NaN</td>\n",
       "      <td>NaN</td>\n",
       "      <td>NaN</td>\n",
       "      <td>NaN</td>\n",
       "      <td>NaN</td>\n",
       "      <td>NaN</td>\n",
       "      <td>LINE@L1_Mus3(+), LINE@L1Md_A(+), LTR@ORR1B1(+)</td>\n",
       "      <td>LINE/LTR</td>\n",
       "    </tr>\n",
       "  </tbody>\n",
       "</table>\n",
       "<p>77708 rows × 24 columns</p>\n",
       "</div>"
      ],
      "text/plain": [
       "      Flipon           Coordinates Strand       Gene Feature      Gene Name  \\\n",
       "0         g4  chr1:3014794-3014871      -  Distal Intergenic  4933401J01Rik   \n",
       "1         g4  chr1:3099888-3099963      +   Promoter (2-3kb)        Gm26206   \n",
       "...      ...                   ...    ...                ...            ...   \n",
       "77706  z-dna  chrY:4203100-4203146      .  Distal Intergenic        Gm28191   \n",
       "77707  z-dna  chrY:4207093-4207113      .  Distal Intergenic        Gm28191   \n",
       "\n",
       "      Gene Strand               Gene Type               Gene ID  \\\n",
       "0               +                     TEC  ENSMUSG00000102693.1   \n",
       "1               +                   snRNA  ENSMUSG00000064842.1   \n",
       "...           ...                     ...                   ...   \n",
       "77706           +  unprocessed_pseudogene  ENSMUSG00000100300.1   \n",
       "77707           +  unprocessed_pseudogene  ENSMUSG00000100300.1   \n",
       "\n",
       "              Transcript ID c. M miR (+)  ... c. J miR (-)  \\\n",
       "0      ENSMUST00000193812.1  miR-328 (1)  ...          NaN   \n",
       "1      ENSMUST00000082908.1          NaN  ...          NaN   \n",
       "...                     ...          ...  ...          ...   \n",
       "77706  ENSMUST00000189112.1          NaN  ...          NaN   \n",
       "77707  ENSMUST00000189112.1          NaN  ...          NaN   \n",
       "\n",
       "                                           all M miR (+)  \\\n",
       "0                             miR-6994 (1), miR-129b (1)   \n",
       "1      miR-365-1/miR-365-2 (1), miR-698/miR-7078 (1),...   \n",
       "...                                                  ...   \n",
       "77706                miR-466d/miR-466i (4), miR-466l (5)   \n",
       "77707  miR-466a/miR-466e/miR-466p (1), miR-466d/miR-4...   \n",
       "\n",
       "                                           all M miR (-)  \\\n",
       "0      miR-92a-2 (1), miR-698/miR-7078 (1), miR-3572 ...   \n",
       "1                              miR-221 (1), miR-129b (1)   \n",
       "...                                                  ...   \n",
       "77706                                                NaN   \n",
       "77707                                                NaN   \n",
       "\n",
       "                   all MJ miR (+)                            all MJ miR (-)  \\\n",
       "0           miR-486a/miR-486b (1)  miR-3076 (1), miR-6418 (1), miR-6987 (1)   \n",
       "1      miR-6418 (1), miR-7067 (1)                                       NaN   \n",
       "...                           ...                                       ...   \n",
       "77706                 miR-493 (1)                                       NaN   \n",
       "77707                         NaN                                       NaN   \n",
       "\n",
       "      all J miR (+) all J miR (-) cCRE (+-200bp)  \\\n",
       "0               NaN  miR-7649 (1)            NaN   \n",
       "1               NaN           NaN            NaN   \n",
       "...             ...           ...            ...   \n",
       "77706           NaN           NaN            NaN   \n",
       "77707           NaN           NaN            NaN   \n",
       "\n",
       "                                   LINE/LTR (+-200bp) Feature Group  \n",
       "0                      LINE@L1Md_F2(-), LINE@L1VL1(+)      LINE/LTR  \n",
       "1                         LINE@L1Md_F2(+), LTR@MTC(+)      LINE/LTR  \n",
       "...                                               ...           ...  \n",
       "77706                                 LINE@L1_Mur1(-)      LINE/LTR  \n",
       "77707  LINE@L1_Mus3(+), LINE@L1Md_A(+), LTR@ORR1B1(+)      LINE/LTR  \n",
       "\n",
       "[77708 rows x 24 columns]"
      ]
     },
     "execution_count": 12,
     "metadata": {},
     "output_type": "execute_result"
    }
   ],
   "source": [
    "flipon_to_data = pd.read_table(F_FLIPON_TO_DATA)\n",
    "flipon_to_data"
   ]
  },
  {
   "cell_type": "code",
   "execution_count": 13,
   "metadata": {},
   "outputs": [],
   "source": [
    "def get_mirna_count(mirs: str) -> int:\n",
    "    if type(mirs) == float:\n",
    "        return 0\n",
    "    mir_list = mirs.split(', ')\n",
    "    return sum(int(mir.split(\" \")[1][1:-1]) for mir in mir_list)\n"
   ]
  },
  {
   "cell_type": "code",
   "execution_count": 14,
   "metadata": {},
   "outputs": [
    {
     "data": {
      "text/html": [
       "<div>\n",
       "<style scoped>\n",
       "    .dataframe tbody tr th:only-of-type {\n",
       "        vertical-align: middle;\n",
       "    }\n",
       "\n",
       "    .dataframe tbody tr th {\n",
       "        vertical-align: top;\n",
       "    }\n",
       "\n",
       "    .dataframe thead th {\n",
       "        text-align: right;\n",
       "    }\n",
       "</style>\n",
       "<table border=\"1\" class=\"dataframe\">\n",
       "  <thead>\n",
       "    <tr style=\"text-align: right;\">\n",
       "      <th></th>\n",
       "      <th>Flipon</th>\n",
       "      <th>variable</th>\n",
       "      <th>value</th>\n",
       "      <th>total</th>\n",
       "    </tr>\n",
       "  </thead>\n",
       "  <tbody>\n",
       "    <tr>\n",
       "      <th>0</th>\n",
       "      <td>g4</td>\n",
       "      <td>mir_p_count</td>\n",
       "      <td>0</td>\n",
       "      <td>12799</td>\n",
       "    </tr>\n",
       "    <tr>\n",
       "      <th>1</th>\n",
       "      <td>g4</td>\n",
       "      <td>mir_m_count</td>\n",
       "      <td>0</td>\n",
       "      <td>12772</td>\n",
       "    </tr>\n",
       "    <tr>\n",
       "      <th>...</th>\n",
       "      <td>...</td>\n",
       "      <td>...</td>\n",
       "      <td>...</td>\n",
       "      <td>...</td>\n",
       "    </tr>\n",
       "    <tr>\n",
       "      <th>99</th>\n",
       "      <td>z-dna</td>\n",
       "      <td>mir_p_count</td>\n",
       "      <td>10</td>\n",
       "      <td>1</td>\n",
       "    </tr>\n",
       "    <tr>\n",
       "      <th>100</th>\n",
       "      <td>z-dna</td>\n",
       "      <td>mir_p_count</td>\n",
       "      <td>12</td>\n",
       "      <td>1</td>\n",
       "    </tr>\n",
       "  </tbody>\n",
       "</table>\n",
       "<p>101 rows × 4 columns</p>\n",
       "</div>"
      ],
      "text/plain": [
       "    Flipon     variable  value  total\n",
       "0       g4  mir_p_count      0  12799\n",
       "1       g4  mir_m_count      0  12772\n",
       "..     ...          ...    ...    ...\n",
       "99   z-dna  mir_p_count     10      1\n",
       "100  z-dna  mir_p_count     12      1\n",
       "\n",
       "[101 rows x 4 columns]"
      ]
     },
     "execution_count": 14,
     "metadata": {},
     "output_type": "execute_result"
    }
   ],
   "source": [
    "plotly_data = flipon_to_data.assign(\n",
    "    m_mir_p_count=lambda df: df[\"c. M miR (+)\"].apply(get_mirna_count),\n",
    "    m_mir_m_count=lambda df: df[\"c. M miR (-)\"].apply(get_mirna_count),\n",
    "    mj_mir_p_count=lambda df: df[\"c. MJ miR (+)\"].apply(get_mirna_count),\n",
    "    mj_mir_m_count=lambda df: df[\"c. MJ miR (-)\"].apply(get_mirna_count),\n",
    "    j_mir_p_count=lambda df: df[\"c. J miR (+)\"].apply(get_mirna_count),\n",
    "    j_mir_m_count=lambda df: df[\"c. J miR (-)\"].apply(get_mirna_count),\n",
    ")[['Flipon', \"m_mir_p_count\", \"m_mir_m_count\", \"mj_mir_p_count\", \"mj_mir_m_count\", \"j_mir_p_count\", \"j_mir_m_count\"]]\n",
    "\n",
    "plotly_data['mir_p_count'] = plotly_data[['m_mir_p_count', 'mj_mir_p_count', 'j_mir_p_count']].sum(axis=1)\n",
    "plotly_data['mir_m_count'] = plotly_data[['m_mir_m_count', 'mj_mir_m_count', 'j_mir_m_count']].sum(axis=1)\n",
    "\n",
    "plotly_data = plotly_data.melt(id_vars=[\"Flipon\"], value_vars=[\"mir_p_count\", \"mir_m_count\"]).groupby('Flipon').value_counts().rename('total').to_frame().reset_index()\n",
    "plotly_data"
   ]
  },
  {
   "cell_type": "code",
   "execution_count": 15,
   "metadata": {},
   "outputs": [
    {
     "data": {
      "application/vnd.plotly.v1+json": {
       "config": {
        "plotlyServerURL": "https://plot.ly"
       },
       "data": [
        {
         "marker": {
          "color": "#C93435"
         },
         "name": "+ strand",
         "orientation": "h",
         "showlegend": true,
         "textposition": [
          "outside",
          "outside",
          "outside",
          "outside",
          "outside",
          "outside",
          "outside",
          "outside",
          "outside",
          "outside",
          "outside",
          "outside",
          "outside"
         ],
         "texttemplate": "%{x:,d}",
         "type": "bar",
         "width": 0.4,
         "x": [
          12799,
          5358,
          1643,
          317,
          76,
          26,
          10,
          9,
          6,
          3,
          2,
          2,
          2
         ],
         "xaxis": "x",
         "y": [
          0,
          1,
          2,
          3,
          4,
          5,
          7,
          6,
          8,
          9,
          12,
          10,
          11
         ],
         "yaxis": "y"
        },
        {
         "marker": {
          "color": "#4779A4"
         },
         "name": "- strand",
         "orientation": "h",
         "showlegend": true,
         "textposition": [
          "outside",
          "outside",
          "outside",
          "outside",
          "outside",
          "outside",
          "outside",
          "outside",
          "outside",
          "outside",
          "outside",
          "outside",
          "outside"
         ],
         "texttemplate": "%{x:,d}",
         "type": "bar",
         "width": 0.4,
         "x": [
          12772,
          5366,
          1627,
          345,
          92,
          25,
          12,
          4,
          3,
          3,
          2,
          1,
          1
         ],
         "xaxis": "x",
         "y": [
          0,
          1,
          2,
          3,
          4,
          5,
          6,
          7,
          11,
          8,
          10,
          12,
          9
         ],
         "yaxis": "y"
        },
        {
         "marker": {
          "color": "#C93435"
         },
         "name": "+ strand",
         "orientation": "h",
         "showlegend": false,
         "textposition": [
          "inside",
          "outside",
          "outside",
          "outside",
          "outside",
          "outside",
          "outside",
          "outside",
          "outside",
          "outside",
          "outside",
          "outside"
         ],
         "texttemplate": "%{x:,d}",
         "type": "bar",
         "width": 0.4,
         "x": [
          17632,
          5506,
          1316,
          359,
          148,
          49,
          33,
          5,
          5,
          4,
          1,
          1
         ],
         "xaxis": "x2",
         "y": [
          0,
          1,
          2,
          3,
          4,
          5,
          6,
          8,
          9,
          7,
          10,
          12
         ],
         "yaxis": "y2"
        },
        {
         "marker": {
          "color": "#4779A4"
         },
         "name": "- strand",
         "orientation": "h",
         "showlegend": false,
         "textposition": [
          "inside",
          "outside",
          "outside",
          "outside",
          "outside",
          "outside",
          "outside",
          "outside",
          "outside",
          "outside",
          "outside"
         ],
         "texttemplate": "%{x:,d}",
         "type": "bar",
         "width": 0.4,
         "x": [
          17683,
          5509,
          1354,
          314,
          107,
          53,
          21,
          8,
          5,
          3,
          2
         ],
         "xaxis": "x2",
         "y": [
          0,
          1,
          2,
          3,
          4,
          5,
          6,
          7,
          9,
          8,
          10
         ],
         "yaxis": "y2"
        },
        {
         "marker": {
          "color": "#C93435"
         },
         "name": "+ strand",
         "orientation": "h",
         "showlegend": false,
         "textposition": [
          "outside",
          "outside",
          "outside",
          "outside",
          "outside",
          "outside",
          "outside",
          "outside",
          "outside",
          "outside",
          "outside",
          "outside",
          "outside",
          "outside"
         ],
         "texttemplate": "%{x:,d}",
         "type": "bar",
         "width": 0.4,
         "x": [
          3886,
          3613,
          2681,
          2614,
          1397,
          648,
          279,
          117,
          32,
          20,
          4,
          2,
          2,
          1
         ],
         "xaxis": "x3",
         "y": [
          1,
          2,
          0,
          3,
          4,
          5,
          6,
          7,
          8,
          9,
          10,
          15,
          14,
          11
         ],
         "yaxis": "y3"
        },
        {
         "marker": {
          "color": "#4779A4"
         },
         "name": "- strand",
         "orientation": "h",
         "showlegend": false,
         "textposition": [
          "outside",
          "outside",
          "outside",
          "outside",
          "outside",
          "outside",
          "outside",
          "outside",
          "outside",
          "outside",
          "outside",
          "outside",
          "outside",
          "outside"
         ],
         "texttemplate": "%{x:,d}",
         "type": "bar",
         "width": 0.4,
         "x": [
          3858,
          3722,
          2626,
          2552,
          1432,
          648,
          283,
          106,
          38,
          18,
          6,
          5,
          1,
          1
         ],
         "xaxis": "x3",
         "y": [
          1,
          2,
          3,
          0,
          4,
          5,
          6,
          7,
          8,
          9,
          10,
          11,
          15,
          14
         ],
         "yaxis": "y3"
        },
        {
         "marker": {
          "color": "#C93435"
         },
         "name": "+ strand",
         "orientation": "h",
         "showlegend": false,
         "textposition": [
          "outside",
          "outside",
          "outside",
          "outside",
          "outside",
          "outside",
          "outside",
          "outside",
          "outside",
          "outside",
          "outside"
         ],
         "texttemplate": "%{x:,d}",
         "type": "bar",
         "width": 0.4,
         "x": [
          13865,
          2378,
          621,
          145,
          44,
          16,
          11,
          8,
          7,
          3,
          2
         ],
         "xaxis": "x4",
         "y": [
          0,
          1,
          2,
          3,
          4,
          5,
          7,
          8,
          6,
          9,
          10
         ],
         "yaxis": "y4"
        },
        {
         "marker": {
          "color": "#4779A4"
         },
         "name": "- strand",
         "orientation": "h",
         "showlegend": false,
         "textposition": [
          "outside",
          "outside",
          "outside",
          "outside",
          "outside",
          "outside",
          "outside",
          "outside",
          "outside",
          "outside",
          "outside",
          "outside",
          "outside"
         ],
         "texttemplate": "%{x:,d}",
         "type": "bar",
         "width": 0.4,
         "x": [
          13894,
          2388,
          603,
          120,
          35,
          23,
          16,
          9,
          7,
          2,
          1,
          1,
          1
         ],
         "xaxis": "x4",
         "y": [
          0,
          1,
          2,
          3,
          4,
          5,
          6,
          7,
          8,
          12,
          13,
          9,
          10
         ],
         "yaxis": "y4"
        }
       ],
       "layout": {
        "annotations": [
         {
          "font": {
           "size": 18
          },
          "showarrow": false,
          "text": "<b>G4</b> (40,506)",
          "x": 0.1235,
          "xanchor": "center",
          "xref": "paper",
          "y": 1,
          "yanchor": "bottom",
          "yref": "paper"
         },
         {
          "font": {
           "size": 18
          },
          "showarrow": false,
          "text": "<b>Z-DNA</b> (50,118)",
          "x": 0.3745,
          "xanchor": "center",
          "xref": "paper",
          "y": 1,
          "yanchor": "bottom",
          "yref": "paper"
         },
         {
          "font": {
           "size": 18
          },
          "showarrow": false,
          "text": "<b>SIDD</b> (30,592)",
          "x": 0.6255,
          "xanchor": "center",
          "xref": "paper",
          "y": 1,
          "yanchor": "bottom",
          "yref": "paper"
         },
         {
          "font": {
           "size": 18
          },
          "showarrow": false,
          "text": "<b>H-DNA</b> (34,200)",
          "x": 0.8765000000000001,
          "xanchor": "center",
          "xref": "paper",
          "y": 1,
          "yanchor": "bottom",
          "yref": "paper"
         },
         {
          "font": {
           "size": 18
          },
          "showarrow": false,
          "text": "Flipon count",
          "x": 0.5,
          "xanchor": "center",
          "xref": "paper",
          "y": 0,
          "yanchor": "top",
          "yref": "paper",
          "yshift": -30
         },
         {
          "font": {
           "size": 18
          },
          "showarrow": false,
          "text": "Number of miR per flipon",
          "textangle": -90,
          "x": 0,
          "xanchor": "right",
          "xref": "paper",
          "xshift": -40,
          "y": 0.5,
          "yanchor": "middle",
          "yref": "paper"
         }
        ],
        "font": {
         "size": 16
        },
        "height": 700,
        "legend": {
         "orientation": "h",
         "x": 0.99,
         "xanchor": "right",
         "y": 0.925,
         "yanchor": "bottom"
        },
        "margin": {
         "b": 60,
         "l": 60,
         "r": 5,
         "t": 25
        },
        "template": {
         "data": {
          "bar": [
           {
            "error_x": {
             "color": "rgb(51,51,51)"
            },
            "error_y": {
             "color": "rgb(51,51,51)"
            },
            "marker": {
             "line": {
              "color": "rgb(237,237,237)",
              "width": 0.5
             },
             "pattern": {
              "fillmode": "overlay",
              "size": 10,
              "solidity": 0.2
             }
            },
            "type": "bar"
           }
          ],
          "barpolar": [
           {
            "marker": {
             "line": {
              "color": "rgb(237,237,237)",
              "width": 0.5
             },
             "pattern": {
              "fillmode": "overlay",
              "size": 10,
              "solidity": 0.2
             }
            },
            "type": "barpolar"
           }
          ],
          "carpet": [
           {
            "aaxis": {
             "endlinecolor": "rgb(51,51,51)",
             "gridcolor": "white",
             "linecolor": "white",
             "minorgridcolor": "white",
             "startlinecolor": "rgb(51,51,51)"
            },
            "baxis": {
             "endlinecolor": "rgb(51,51,51)",
             "gridcolor": "white",
             "linecolor": "white",
             "minorgridcolor": "white",
             "startlinecolor": "rgb(51,51,51)"
            },
            "type": "carpet"
           }
          ],
          "choropleth": [
           {
            "colorbar": {
             "outlinewidth": 0,
             "tickcolor": "rgb(237,237,237)",
             "ticklen": 6,
             "ticks": "inside"
            },
            "type": "choropleth"
           }
          ],
          "contour": [
           {
            "colorbar": {
             "outlinewidth": 0,
             "tickcolor": "rgb(237,237,237)",
             "ticklen": 6,
             "ticks": "inside"
            },
            "colorscale": [
             [
              0,
              "rgb(20,44,66)"
             ],
             [
              1,
              "rgb(90,179,244)"
             ]
            ],
            "type": "contour"
           }
          ],
          "contourcarpet": [
           {
            "colorbar": {
             "outlinewidth": 0,
             "tickcolor": "rgb(237,237,237)",
             "ticklen": 6,
             "ticks": "inside"
            },
            "type": "contourcarpet"
           }
          ],
          "heatmap": [
           {
            "colorbar": {
             "outlinewidth": 0,
             "tickcolor": "rgb(237,237,237)",
             "ticklen": 6,
             "ticks": "inside"
            },
            "colorscale": [
             [
              0,
              "rgb(20,44,66)"
             ],
             [
              1,
              "rgb(90,179,244)"
             ]
            ],
            "type": "heatmap"
           }
          ],
          "heatmapgl": [
           {
            "colorbar": {
             "outlinewidth": 0,
             "tickcolor": "rgb(237,237,237)",
             "ticklen": 6,
             "ticks": "inside"
            },
            "colorscale": [
             [
              0,
              "rgb(20,44,66)"
             ],
             [
              1,
              "rgb(90,179,244)"
             ]
            ],
            "type": "heatmapgl"
           }
          ],
          "histogram": [
           {
            "marker": {
             "pattern": {
              "fillmode": "overlay",
              "size": 10,
              "solidity": 0.2
             }
            },
            "type": "histogram"
           }
          ],
          "histogram2d": [
           {
            "colorbar": {
             "outlinewidth": 0,
             "tickcolor": "rgb(237,237,237)",
             "ticklen": 6,
             "ticks": "inside"
            },
            "colorscale": [
             [
              0,
              "rgb(20,44,66)"
             ],
             [
              1,
              "rgb(90,179,244)"
             ]
            ],
            "type": "histogram2d"
           }
          ],
          "histogram2dcontour": [
           {
            "colorbar": {
             "outlinewidth": 0,
             "tickcolor": "rgb(237,237,237)",
             "ticklen": 6,
             "ticks": "inside"
            },
            "colorscale": [
             [
              0,
              "rgb(20,44,66)"
             ],
             [
              1,
              "rgb(90,179,244)"
             ]
            ],
            "type": "histogram2dcontour"
           }
          ],
          "mesh3d": [
           {
            "colorbar": {
             "outlinewidth": 0,
             "tickcolor": "rgb(237,237,237)",
             "ticklen": 6,
             "ticks": "inside"
            },
            "type": "mesh3d"
           }
          ],
          "parcoords": [
           {
            "line": {
             "colorbar": {
              "outlinewidth": 0,
              "tickcolor": "rgb(237,237,237)",
              "ticklen": 6,
              "ticks": "inside"
             }
            },
            "type": "parcoords"
           }
          ],
          "pie": [
           {
            "automargin": true,
            "type": "pie"
           }
          ],
          "scatter": [
           {
            "fillpattern": {
             "fillmode": "overlay",
             "size": 10,
             "solidity": 0.2
            },
            "type": "scatter"
           }
          ],
          "scatter3d": [
           {
            "line": {
             "colorbar": {
              "outlinewidth": 0,
              "tickcolor": "rgb(237,237,237)",
              "ticklen": 6,
              "ticks": "inside"
             }
            },
            "marker": {
             "colorbar": {
              "outlinewidth": 0,
              "tickcolor": "rgb(237,237,237)",
              "ticklen": 6,
              "ticks": "inside"
             }
            },
            "type": "scatter3d"
           }
          ],
          "scattercarpet": [
           {
            "marker": {
             "colorbar": {
              "outlinewidth": 0,
              "tickcolor": "rgb(237,237,237)",
              "ticklen": 6,
              "ticks": "inside"
             }
            },
            "type": "scattercarpet"
           }
          ],
          "scattergeo": [
           {
            "marker": {
             "colorbar": {
              "outlinewidth": 0,
              "tickcolor": "rgb(237,237,237)",
              "ticklen": 6,
              "ticks": "inside"
             }
            },
            "type": "scattergeo"
           }
          ],
          "scattergl": [
           {
            "marker": {
             "colorbar": {
              "outlinewidth": 0,
              "tickcolor": "rgb(237,237,237)",
              "ticklen": 6,
              "ticks": "inside"
             }
            },
            "type": "scattergl"
           }
          ],
          "scattermapbox": [
           {
            "marker": {
             "colorbar": {
              "outlinewidth": 0,
              "tickcolor": "rgb(237,237,237)",
              "ticklen": 6,
              "ticks": "inside"
             }
            },
            "type": "scattermapbox"
           }
          ],
          "scatterpolar": [
           {
            "marker": {
             "colorbar": {
              "outlinewidth": 0,
              "tickcolor": "rgb(237,237,237)",
              "ticklen": 6,
              "ticks": "inside"
             }
            },
            "type": "scatterpolar"
           }
          ],
          "scatterpolargl": [
           {
            "marker": {
             "colorbar": {
              "outlinewidth": 0,
              "tickcolor": "rgb(237,237,237)",
              "ticklen": 6,
              "ticks": "inside"
             }
            },
            "type": "scatterpolargl"
           }
          ],
          "scatterternary": [
           {
            "marker": {
             "colorbar": {
              "outlinewidth": 0,
              "tickcolor": "rgb(237,237,237)",
              "ticklen": 6,
              "ticks": "inside"
             }
            },
            "type": "scatterternary"
           }
          ],
          "surface": [
           {
            "colorbar": {
             "outlinewidth": 0,
             "tickcolor": "rgb(237,237,237)",
             "ticklen": 6,
             "ticks": "inside"
            },
            "colorscale": [
             [
              0,
              "rgb(20,44,66)"
             ],
             [
              1,
              "rgb(90,179,244)"
             ]
            ],
            "type": "surface"
           }
          ],
          "table": [
           {
            "cells": {
             "fill": {
              "color": "rgb(237,237,237)"
             },
             "line": {
              "color": "white"
             }
            },
            "header": {
             "fill": {
              "color": "rgb(217,217,217)"
             },
             "line": {
              "color": "white"
             }
            },
            "type": "table"
           }
          ]
         },
         "layout": {
          "annotationdefaults": {
           "arrowhead": 0,
           "arrowwidth": 1
          },
          "autotypenumbers": "strict",
          "coloraxis": {
           "colorbar": {
            "outlinewidth": 0,
            "tickcolor": "rgb(237,237,237)",
            "ticklen": 6,
            "ticks": "inside"
           }
          },
          "colorscale": {
           "sequential": [
            [
             0,
             "rgb(20,44,66)"
            ],
            [
             1,
             "rgb(90,179,244)"
            ]
           ],
           "sequentialminus": [
            [
             0,
             "rgb(20,44,66)"
            ],
            [
             1,
             "rgb(90,179,244)"
            ]
           ]
          },
          "colorway": [
           "#F8766D",
           "#A3A500",
           "#00BF7D",
           "#00B0F6",
           "#E76BF3"
          ],
          "font": {
           "color": "rgb(51,51,51)"
          },
          "geo": {
           "bgcolor": "white",
           "lakecolor": "white",
           "landcolor": "rgb(237,237,237)",
           "showlakes": true,
           "showland": true,
           "subunitcolor": "white"
          },
          "hoverlabel": {
           "align": "left"
          },
          "hovermode": "closest",
          "paper_bgcolor": "white",
          "plot_bgcolor": "rgb(237,237,237)",
          "polar": {
           "angularaxis": {
            "gridcolor": "white",
            "linecolor": "white",
            "showgrid": true,
            "tickcolor": "rgb(51,51,51)",
            "ticks": "outside"
           },
           "bgcolor": "rgb(237,237,237)",
           "radialaxis": {
            "gridcolor": "white",
            "linecolor": "white",
            "showgrid": true,
            "tickcolor": "rgb(51,51,51)",
            "ticks": "outside"
           }
          },
          "scene": {
           "xaxis": {
            "backgroundcolor": "rgb(237,237,237)",
            "gridcolor": "white",
            "gridwidth": 2,
            "linecolor": "white",
            "showbackground": true,
            "showgrid": true,
            "tickcolor": "rgb(51,51,51)",
            "ticks": "outside",
            "zerolinecolor": "white"
           },
           "yaxis": {
            "backgroundcolor": "rgb(237,237,237)",
            "gridcolor": "white",
            "gridwidth": 2,
            "linecolor": "white",
            "showbackground": true,
            "showgrid": true,
            "tickcolor": "rgb(51,51,51)",
            "ticks": "outside",
            "zerolinecolor": "white"
           },
           "zaxis": {
            "backgroundcolor": "rgb(237,237,237)",
            "gridcolor": "white",
            "gridwidth": 2,
            "linecolor": "white",
            "showbackground": true,
            "showgrid": true,
            "tickcolor": "rgb(51,51,51)",
            "ticks": "outside",
            "zerolinecolor": "white"
           }
          },
          "shapedefaults": {
           "fillcolor": "black",
           "line": {
            "width": 0
           },
           "opacity": 0.3
          },
          "ternary": {
           "aaxis": {
            "gridcolor": "white",
            "linecolor": "white",
            "showgrid": true,
            "tickcolor": "rgb(51,51,51)",
            "ticks": "outside"
           },
           "baxis": {
            "gridcolor": "white",
            "linecolor": "white",
            "showgrid": true,
            "tickcolor": "rgb(51,51,51)",
            "ticks": "outside"
           },
           "bgcolor": "rgb(237,237,237)",
           "caxis": {
            "gridcolor": "white",
            "linecolor": "white",
            "showgrid": true,
            "tickcolor": "rgb(51,51,51)",
            "ticks": "outside"
           }
          },
          "xaxis": {
           "automargin": true,
           "gridcolor": "white",
           "linecolor": "white",
           "showgrid": true,
           "tickcolor": "rgb(51,51,51)",
           "ticks": "outside",
           "title": {
            "standoff": 15
           },
           "zerolinecolor": "white"
          },
          "yaxis": {
           "automargin": true,
           "gridcolor": "white",
           "linecolor": "white",
           "showgrid": true,
           "tickcolor": "rgb(51,51,51)",
           "ticks": "outside",
           "title": {
            "standoff": 15
           },
           "zerolinecolor": "white"
          }
         }
        },
        "uniformtext": {
         "minsize": 16,
         "mode": "show"
        },
        "width": 1200,
        "xaxis": {
         "anchor": "y",
         "domain": [
          0,
          0.247
         ],
         "tickformat": "s",
         "ticks": "outside"
        },
        "xaxis2": {
         "anchor": "y2",
         "domain": [
          0.251,
          0.498
         ],
         "matches": "x",
         "tickformat": "s",
         "ticks": "outside"
        },
        "xaxis3": {
         "anchor": "y3",
         "domain": [
          0.502,
          0.749
         ],
         "matches": "x",
         "tickformat": "s",
         "ticks": "outside"
        },
        "xaxis4": {
         "anchor": "y4",
         "domain": [
          0.753,
          1
         ],
         "matches": "x",
         "tickformat": "s",
         "ticks": "outside"
        },
        "yaxis": {
         "anchor": "x",
         "domain": [
          0,
          1
         ],
         "dtick": 1
        },
        "yaxis2": {
         "anchor": "x2",
         "domain": [
          0,
          1
         ],
         "dtick": 1,
         "matches": "y",
         "showticklabels": false,
         "ticks": ""
        },
        "yaxis3": {
         "anchor": "x3",
         "domain": [
          0,
          1
         ],
         "dtick": 1,
         "matches": "y",
         "showticklabels": false,
         "ticks": ""
        },
        "yaxis4": {
         "anchor": "x4",
         "domain": [
          0,
          1
         ],
         "dtick": 1,
         "matches": "y",
         "showticklabels": false,
         "ticks": ""
        }
       }
      },
      "text/html": [
       "<div>                            <div id=\"334ac44f-7861-405b-bf32-68d450ef02b5\" class=\"plotly-graph-div\" style=\"height:700px; width:1200px;\"></div>            <script type=\"text/javascript\">                require([\"plotly\"], function(Plotly) {                    window.PLOTLYENV=window.PLOTLYENV || {};                                    if (document.getElementById(\"334ac44f-7861-405b-bf32-68d450ef02b5\")) {                    Plotly.newPlot(                        \"334ac44f-7861-405b-bf32-68d450ef02b5\",                        [{\"marker\":{\"color\":\"#C93435\"},\"name\":\"+ strand\",\"orientation\":\"h\",\"showlegend\":true,\"textposition\":[\"outside\",\"outside\",\"outside\",\"outside\",\"outside\",\"outside\",\"outside\",\"outside\",\"outside\",\"outside\",\"outside\",\"outside\",\"outside\"],\"texttemplate\":\"%{x:,d}\",\"width\":0.4,\"x\":[12799,5358,1643,317,76,26,10,9,6,3,2,2,2],\"y\":[0,1,2,3,4,5,7,6,8,9,12,10,11],\"type\":\"bar\",\"xaxis\":\"x\",\"yaxis\":\"y\"},{\"marker\":{\"color\":\"#4779A4\"},\"name\":\"- strand\",\"orientation\":\"h\",\"showlegend\":true,\"textposition\":[\"outside\",\"outside\",\"outside\",\"outside\",\"outside\",\"outside\",\"outside\",\"outside\",\"outside\",\"outside\",\"outside\",\"outside\",\"outside\"],\"texttemplate\":\"%{x:,d}\",\"width\":0.4,\"x\":[12772,5366,1627,345,92,25,12,4,3,3,2,1,1],\"y\":[0,1,2,3,4,5,6,7,11,8,10,12,9],\"type\":\"bar\",\"xaxis\":\"x\",\"yaxis\":\"y\"},{\"marker\":{\"color\":\"#C93435\"},\"name\":\"+ strand\",\"orientation\":\"h\",\"showlegend\":false,\"textposition\":[\"inside\",\"outside\",\"outside\",\"outside\",\"outside\",\"outside\",\"outside\",\"outside\",\"outside\",\"outside\",\"outside\",\"outside\"],\"texttemplate\":\"%{x:,d}\",\"width\":0.4,\"x\":[17632,5506,1316,359,148,49,33,5,5,4,1,1],\"y\":[0,1,2,3,4,5,6,8,9,7,10,12],\"type\":\"bar\",\"xaxis\":\"x2\",\"yaxis\":\"y2\"},{\"marker\":{\"color\":\"#4779A4\"},\"name\":\"- strand\",\"orientation\":\"h\",\"showlegend\":false,\"textposition\":[\"inside\",\"outside\",\"outside\",\"outside\",\"outside\",\"outside\",\"outside\",\"outside\",\"outside\",\"outside\",\"outside\"],\"texttemplate\":\"%{x:,d}\",\"width\":0.4,\"x\":[17683,5509,1354,314,107,53,21,8,5,3,2],\"y\":[0,1,2,3,4,5,6,7,9,8,10],\"type\":\"bar\",\"xaxis\":\"x2\",\"yaxis\":\"y2\"},{\"marker\":{\"color\":\"#C93435\"},\"name\":\"+ strand\",\"orientation\":\"h\",\"showlegend\":false,\"textposition\":[\"outside\",\"outside\",\"outside\",\"outside\",\"outside\",\"outside\",\"outside\",\"outside\",\"outside\",\"outside\",\"outside\",\"outside\",\"outside\",\"outside\"],\"texttemplate\":\"%{x:,d}\",\"width\":0.4,\"x\":[3886,3613,2681,2614,1397,648,279,117,32,20,4,2,2,1],\"y\":[1,2,0,3,4,5,6,7,8,9,10,15,14,11],\"type\":\"bar\",\"xaxis\":\"x3\",\"yaxis\":\"y3\"},{\"marker\":{\"color\":\"#4779A4\"},\"name\":\"- strand\",\"orientation\":\"h\",\"showlegend\":false,\"textposition\":[\"outside\",\"outside\",\"outside\",\"outside\",\"outside\",\"outside\",\"outside\",\"outside\",\"outside\",\"outside\",\"outside\",\"outside\",\"outside\",\"outside\"],\"texttemplate\":\"%{x:,d}\",\"width\":0.4,\"x\":[3858,3722,2626,2552,1432,648,283,106,38,18,6,5,1,1],\"y\":[1,2,3,0,4,5,6,7,8,9,10,11,15,14],\"type\":\"bar\",\"xaxis\":\"x3\",\"yaxis\":\"y3\"},{\"marker\":{\"color\":\"#C93435\"},\"name\":\"+ strand\",\"orientation\":\"h\",\"showlegend\":false,\"textposition\":[\"outside\",\"outside\",\"outside\",\"outside\",\"outside\",\"outside\",\"outside\",\"outside\",\"outside\",\"outside\",\"outside\"],\"texttemplate\":\"%{x:,d}\",\"width\":0.4,\"x\":[13865,2378,621,145,44,16,11,8,7,3,2],\"y\":[0,1,2,3,4,5,7,8,6,9,10],\"type\":\"bar\",\"xaxis\":\"x4\",\"yaxis\":\"y4\"},{\"marker\":{\"color\":\"#4779A4\"},\"name\":\"- strand\",\"orientation\":\"h\",\"showlegend\":false,\"textposition\":[\"outside\",\"outside\",\"outside\",\"outside\",\"outside\",\"outside\",\"outside\",\"outside\",\"outside\",\"outside\",\"outside\",\"outside\",\"outside\"],\"texttemplate\":\"%{x:,d}\",\"width\":0.4,\"x\":[13894,2388,603,120,35,23,16,9,7,2,1,1,1],\"y\":[0,1,2,3,4,5,6,7,8,12,13,9,10],\"type\":\"bar\",\"xaxis\":\"x4\",\"yaxis\":\"y4\"}],                        {\"template\":{\"data\":{\"barpolar\":[{\"marker\":{\"line\":{\"color\":\"rgb(237,237,237)\",\"width\":0.5},\"pattern\":{\"fillmode\":\"overlay\",\"size\":10,\"solidity\":0.2}},\"type\":\"barpolar\"}],\"bar\":[{\"error_x\":{\"color\":\"rgb(51,51,51)\"},\"error_y\":{\"color\":\"rgb(51,51,51)\"},\"marker\":{\"line\":{\"color\":\"rgb(237,237,237)\",\"width\":0.5},\"pattern\":{\"fillmode\":\"overlay\",\"size\":10,\"solidity\":0.2}},\"type\":\"bar\"}],\"carpet\":[{\"aaxis\":{\"endlinecolor\":\"rgb(51,51,51)\",\"gridcolor\":\"white\",\"linecolor\":\"white\",\"minorgridcolor\":\"white\",\"startlinecolor\":\"rgb(51,51,51)\"},\"baxis\":{\"endlinecolor\":\"rgb(51,51,51)\",\"gridcolor\":\"white\",\"linecolor\":\"white\",\"minorgridcolor\":\"white\",\"startlinecolor\":\"rgb(51,51,51)\"},\"type\":\"carpet\"}],\"choropleth\":[{\"colorbar\":{\"outlinewidth\":0,\"tickcolor\":\"rgb(237,237,237)\",\"ticklen\":6,\"ticks\":\"inside\"},\"type\":\"choropleth\"}],\"contourcarpet\":[{\"colorbar\":{\"outlinewidth\":0,\"tickcolor\":\"rgb(237,237,237)\",\"ticklen\":6,\"ticks\":\"inside\"},\"type\":\"contourcarpet\"}],\"contour\":[{\"colorbar\":{\"outlinewidth\":0,\"tickcolor\":\"rgb(237,237,237)\",\"ticklen\":6,\"ticks\":\"inside\"},\"colorscale\":[[0,\"rgb(20,44,66)\"],[1,\"rgb(90,179,244)\"]],\"type\":\"contour\"}],\"heatmapgl\":[{\"colorbar\":{\"outlinewidth\":0,\"tickcolor\":\"rgb(237,237,237)\",\"ticklen\":6,\"ticks\":\"inside\"},\"colorscale\":[[0,\"rgb(20,44,66)\"],[1,\"rgb(90,179,244)\"]],\"type\":\"heatmapgl\"}],\"heatmap\":[{\"colorbar\":{\"outlinewidth\":0,\"tickcolor\":\"rgb(237,237,237)\",\"ticklen\":6,\"ticks\":\"inside\"},\"colorscale\":[[0,\"rgb(20,44,66)\"],[1,\"rgb(90,179,244)\"]],\"type\":\"heatmap\"}],\"histogram2dcontour\":[{\"colorbar\":{\"outlinewidth\":0,\"tickcolor\":\"rgb(237,237,237)\",\"ticklen\":6,\"ticks\":\"inside\"},\"colorscale\":[[0,\"rgb(20,44,66)\"],[1,\"rgb(90,179,244)\"]],\"type\":\"histogram2dcontour\"}],\"histogram2d\":[{\"colorbar\":{\"outlinewidth\":0,\"tickcolor\":\"rgb(237,237,237)\",\"ticklen\":6,\"ticks\":\"inside\"},\"colorscale\":[[0,\"rgb(20,44,66)\"],[1,\"rgb(90,179,244)\"]],\"type\":\"histogram2d\"}],\"histogram\":[{\"marker\":{\"pattern\":{\"fillmode\":\"overlay\",\"size\":10,\"solidity\":0.2}},\"type\":\"histogram\"}],\"mesh3d\":[{\"colorbar\":{\"outlinewidth\":0,\"tickcolor\":\"rgb(237,237,237)\",\"ticklen\":6,\"ticks\":\"inside\"},\"type\":\"mesh3d\"}],\"parcoords\":[{\"line\":{\"colorbar\":{\"outlinewidth\":0,\"tickcolor\":\"rgb(237,237,237)\",\"ticklen\":6,\"ticks\":\"inside\"}},\"type\":\"parcoords\"}],\"pie\":[{\"automargin\":true,\"type\":\"pie\"}],\"scatter3d\":[{\"line\":{\"colorbar\":{\"outlinewidth\":0,\"tickcolor\":\"rgb(237,237,237)\",\"ticklen\":6,\"ticks\":\"inside\"}},\"marker\":{\"colorbar\":{\"outlinewidth\":0,\"tickcolor\":\"rgb(237,237,237)\",\"ticklen\":6,\"ticks\":\"inside\"}},\"type\":\"scatter3d\"}],\"scattercarpet\":[{\"marker\":{\"colorbar\":{\"outlinewidth\":0,\"tickcolor\":\"rgb(237,237,237)\",\"ticklen\":6,\"ticks\":\"inside\"}},\"type\":\"scattercarpet\"}],\"scattergeo\":[{\"marker\":{\"colorbar\":{\"outlinewidth\":0,\"tickcolor\":\"rgb(237,237,237)\",\"ticklen\":6,\"ticks\":\"inside\"}},\"type\":\"scattergeo\"}],\"scattergl\":[{\"marker\":{\"colorbar\":{\"outlinewidth\":0,\"tickcolor\":\"rgb(237,237,237)\",\"ticklen\":6,\"ticks\":\"inside\"}},\"type\":\"scattergl\"}],\"scattermapbox\":[{\"marker\":{\"colorbar\":{\"outlinewidth\":0,\"tickcolor\":\"rgb(237,237,237)\",\"ticklen\":6,\"ticks\":\"inside\"}},\"type\":\"scattermapbox\"}],\"scatterpolargl\":[{\"marker\":{\"colorbar\":{\"outlinewidth\":0,\"tickcolor\":\"rgb(237,237,237)\",\"ticklen\":6,\"ticks\":\"inside\"}},\"type\":\"scatterpolargl\"}],\"scatterpolar\":[{\"marker\":{\"colorbar\":{\"outlinewidth\":0,\"tickcolor\":\"rgb(237,237,237)\",\"ticklen\":6,\"ticks\":\"inside\"}},\"type\":\"scatterpolar\"}],\"scatter\":[{\"fillpattern\":{\"fillmode\":\"overlay\",\"size\":10,\"solidity\":0.2},\"type\":\"scatter\"}],\"scatterternary\":[{\"marker\":{\"colorbar\":{\"outlinewidth\":0,\"tickcolor\":\"rgb(237,237,237)\",\"ticklen\":6,\"ticks\":\"inside\"}},\"type\":\"scatterternary\"}],\"surface\":[{\"colorbar\":{\"outlinewidth\":0,\"tickcolor\":\"rgb(237,237,237)\",\"ticklen\":6,\"ticks\":\"inside\"},\"colorscale\":[[0,\"rgb(20,44,66)\"],[1,\"rgb(90,179,244)\"]],\"type\":\"surface\"}],\"table\":[{\"cells\":{\"fill\":{\"color\":\"rgb(237,237,237)\"},\"line\":{\"color\":\"white\"}},\"header\":{\"fill\":{\"color\":\"rgb(217,217,217)\"},\"line\":{\"color\":\"white\"}},\"type\":\"table\"}]},\"layout\":{\"annotationdefaults\":{\"arrowhead\":0,\"arrowwidth\":1},\"autotypenumbers\":\"strict\",\"coloraxis\":{\"colorbar\":{\"outlinewidth\":0,\"tickcolor\":\"rgb(237,237,237)\",\"ticklen\":6,\"ticks\":\"inside\"}},\"colorscale\":{\"sequential\":[[0,\"rgb(20,44,66)\"],[1,\"rgb(90,179,244)\"]],\"sequentialminus\":[[0,\"rgb(20,44,66)\"],[1,\"rgb(90,179,244)\"]]},\"colorway\":[\"#F8766D\",\"#A3A500\",\"#00BF7D\",\"#00B0F6\",\"#E76BF3\"],\"font\":{\"color\":\"rgb(51,51,51)\"},\"geo\":{\"bgcolor\":\"white\",\"lakecolor\":\"white\",\"landcolor\":\"rgb(237,237,237)\",\"showlakes\":true,\"showland\":true,\"subunitcolor\":\"white\"},\"hoverlabel\":{\"align\":\"left\"},\"hovermode\":\"closest\",\"paper_bgcolor\":\"white\",\"plot_bgcolor\":\"rgb(237,237,237)\",\"polar\":{\"angularaxis\":{\"gridcolor\":\"white\",\"linecolor\":\"white\",\"showgrid\":true,\"tickcolor\":\"rgb(51,51,51)\",\"ticks\":\"outside\"},\"bgcolor\":\"rgb(237,237,237)\",\"radialaxis\":{\"gridcolor\":\"white\",\"linecolor\":\"white\",\"showgrid\":true,\"tickcolor\":\"rgb(51,51,51)\",\"ticks\":\"outside\"}},\"scene\":{\"xaxis\":{\"backgroundcolor\":\"rgb(237,237,237)\",\"gridcolor\":\"white\",\"gridwidth\":2,\"linecolor\":\"white\",\"showbackground\":true,\"showgrid\":true,\"tickcolor\":\"rgb(51,51,51)\",\"ticks\":\"outside\",\"zerolinecolor\":\"white\"},\"yaxis\":{\"backgroundcolor\":\"rgb(237,237,237)\",\"gridcolor\":\"white\",\"gridwidth\":2,\"linecolor\":\"white\",\"showbackground\":true,\"showgrid\":true,\"tickcolor\":\"rgb(51,51,51)\",\"ticks\":\"outside\",\"zerolinecolor\":\"white\"},\"zaxis\":{\"backgroundcolor\":\"rgb(237,237,237)\",\"gridcolor\":\"white\",\"gridwidth\":2,\"linecolor\":\"white\",\"showbackground\":true,\"showgrid\":true,\"tickcolor\":\"rgb(51,51,51)\",\"ticks\":\"outside\",\"zerolinecolor\":\"white\"}},\"shapedefaults\":{\"fillcolor\":\"black\",\"line\":{\"width\":0},\"opacity\":0.3},\"ternary\":{\"aaxis\":{\"gridcolor\":\"white\",\"linecolor\":\"white\",\"showgrid\":true,\"tickcolor\":\"rgb(51,51,51)\",\"ticks\":\"outside\"},\"baxis\":{\"gridcolor\":\"white\",\"linecolor\":\"white\",\"showgrid\":true,\"tickcolor\":\"rgb(51,51,51)\",\"ticks\":\"outside\"},\"bgcolor\":\"rgb(237,237,237)\",\"caxis\":{\"gridcolor\":\"white\",\"linecolor\":\"white\",\"showgrid\":true,\"tickcolor\":\"rgb(51,51,51)\",\"ticks\":\"outside\"}},\"xaxis\":{\"automargin\":true,\"gridcolor\":\"white\",\"linecolor\":\"white\",\"showgrid\":true,\"tickcolor\":\"rgb(51,51,51)\",\"ticks\":\"outside\",\"title\":{\"standoff\":15},\"zerolinecolor\":\"white\"},\"yaxis\":{\"automargin\":true,\"gridcolor\":\"white\",\"linecolor\":\"white\",\"showgrid\":true,\"tickcolor\":\"rgb(51,51,51)\",\"ticks\":\"outside\",\"title\":{\"standoff\":15},\"zerolinecolor\":\"white\"}}},\"xaxis\":{\"anchor\":\"y\",\"domain\":[0.0,0.247],\"tickformat\":\"s\",\"ticks\":\"outside\"},\"yaxis\":{\"anchor\":\"x\",\"domain\":[0.0,1.0],\"dtick\":1},\"xaxis2\":{\"anchor\":\"y2\",\"domain\":[0.251,0.498],\"matches\":\"x\",\"tickformat\":\"s\",\"ticks\":\"outside\"},\"yaxis2\":{\"anchor\":\"x2\",\"domain\":[0.0,1.0],\"matches\":\"y\",\"showticklabels\":false,\"ticks\":\"\",\"dtick\":1},\"xaxis3\":{\"anchor\":\"y3\",\"domain\":[0.502,0.749],\"matches\":\"x\",\"tickformat\":\"s\",\"ticks\":\"outside\"},\"yaxis3\":{\"anchor\":\"x3\",\"domain\":[0.0,1.0],\"matches\":\"y\",\"showticklabels\":false,\"ticks\":\"\",\"dtick\":1},\"xaxis4\":{\"anchor\":\"y4\",\"domain\":[0.753,1.0],\"matches\":\"x\",\"tickformat\":\"s\",\"ticks\":\"outside\"},\"yaxis4\":{\"anchor\":\"x4\",\"domain\":[0.0,1.0],\"matches\":\"y\",\"showticklabels\":false,\"ticks\":\"\",\"dtick\":1},\"annotations\":[{\"font\":{\"size\":18},\"showarrow\":false,\"text\":\"<b>G4</b> (40,506)\",\"x\":0.1235,\"xanchor\":\"center\",\"xref\":\"paper\",\"y\":1.0,\"yanchor\":\"bottom\",\"yref\":\"paper\"},{\"font\":{\"size\":18},\"showarrow\":false,\"text\":\"<b>Z-DNA</b> (50,118)\",\"x\":0.3745,\"xanchor\":\"center\",\"xref\":\"paper\",\"y\":1.0,\"yanchor\":\"bottom\",\"yref\":\"paper\"},{\"font\":{\"size\":18},\"showarrow\":false,\"text\":\"<b>SIDD</b> (30,592)\",\"x\":0.6255,\"xanchor\":\"center\",\"xref\":\"paper\",\"y\":1.0,\"yanchor\":\"bottom\",\"yref\":\"paper\"},{\"font\":{\"size\":18},\"showarrow\":false,\"text\":\"<b>H-DNA</b> (34,200)\",\"x\":0.8765000000000001,\"xanchor\":\"center\",\"xref\":\"paper\",\"y\":1.0,\"yanchor\":\"bottom\",\"yref\":\"paper\"},{\"font\":{\"size\":18},\"showarrow\":false,\"text\":\"Flipon count\",\"x\":0.5,\"xanchor\":\"center\",\"xref\":\"paper\",\"y\":0,\"yanchor\":\"top\",\"yref\":\"paper\",\"yshift\":-30},{\"font\":{\"size\":18},\"showarrow\":false,\"text\":\"Number of miR per flipon\",\"textangle\":-90,\"x\":0,\"xanchor\":\"right\",\"xref\":\"paper\",\"xshift\":-40,\"y\":0.5,\"yanchor\":\"middle\",\"yref\":\"paper\"}],\"font\":{\"size\":16},\"uniformtext\":{\"minsize\":16,\"mode\":\"show\"},\"margin\":{\"l\":60,\"r\":5,\"t\":25,\"b\":60},\"legend\":{\"orientation\":\"h\",\"yanchor\":\"bottom\",\"y\":0.925,\"xanchor\":\"right\",\"x\":0.99},\"height\":700,\"width\":1200},                        {\"responsive\": true}                    ).then(function(){\n",
       "                            \n",
       "var gd = document.getElementById('334ac44f-7861-405b-bf32-68d450ef02b5');\n",
       "var x = new MutationObserver(function (mutations, observer) {{\n",
       "        var display = window.getComputedStyle(gd).display;\n",
       "        if (!display || display === 'none') {{\n",
       "            console.log([gd, 'removed!']);\n",
       "            Plotly.purge(gd);\n",
       "            observer.disconnect();\n",
       "        }}\n",
       "}});\n",
       "\n",
       "// Listen for the removal of the full notebook cells\n",
       "var notebookContainer = gd.closest('#notebook-container');\n",
       "if (notebookContainer) {{\n",
       "    x.observe(notebookContainer, {childList: true});\n",
       "}}\n",
       "\n",
       "// Listen for the clearing of the current output cell\n",
       "var outputEl = gd.closest('.output');\n",
       "if (outputEl) {{\n",
       "    x.observe(outputEl, {childList: true});\n",
       "}}\n",
       "\n",
       "                        })                };                });            </script>        </div>"
      ]
     },
     "metadata": {},
     "output_type": "display_data"
    }
   ],
   "source": [
    "groups = (\"G4\", \"Z-DNA\", \"SIDD\", \"H-DNA\")\n",
    "categories = {\n",
    "    \"mir_p_count\": \"+ strand\",\n",
    "    \"mir_m_count\": \"- strand\",\n",
    "}\n",
    "colors = {\n",
    "    \"+ strand\": COLORS['SIDD'],\n",
    "    \"- strand\": COLORS['Z-DNA'],\n",
    "}\n",
    "\n",
    "n_rows = 1\n",
    "n_cols = 4\n",
    "\n",
    "fig = ps.make_subplots(\n",
    "    rows=n_rows,\n",
    "    cols=n_cols,\n",
    "    shared_xaxes=\"all\",\n",
    "    shared_yaxes=\"all\",\n",
    "    horizontal_spacing=0.004,\n",
    "    vertical_spacing=0.01,\n",
    "    column_titles=[\n",
    "        f\"<b>{x}</b> ({plotly_data[plotly_data['Flipon'] == x.lower()]['total'].sum():,d})\"\n",
    "        for x in groups\n",
    "    ],\n",
    "    y_title=\"Number of miR per flipon\",\n",
    "    x_title=\"Flipon count\",\n",
    ")\n",
    "\n",
    "for i, group in enumerate(groups):\n",
    "    for category, name in categories.items():\n",
    "        df = plotly_data[\n",
    "            (plotly_data[\"Flipon\"] == group.lower())\n",
    "            & (plotly_data[\"variable\"] == category)\n",
    "        ]\n",
    "        sub = pgo.Bar(\n",
    "            x=df[\"total\"],\n",
    "            y=df[\"value\"],\n",
    "            name=name,\n",
    "            texttemplate=\"%{x:,d}\",\n",
    "            textposition=df[\"total\"].apply(\n",
    "                lambda x: \"outside\" if x < 17000 else \"inside\"\n",
    "            ),\n",
    "            marker=dict(color=colors[name]),\n",
    "            orientation=\"h\",\n",
    "            width=0.4,\n",
    "            showlegend=True if (i == 0) else False,\n",
    "        )\n",
    "        fig.add_trace(sub, row=1, col=i + 1)\n",
    "    if i:\n",
    "        fig.update_yaxes(ticks=\"\", row=1, col=i + 1)\n",
    "\n",
    "\n",
    "fig.update_xaxes(tickformat=\"s\")\n",
    "fig.update_xaxes(ticks=\"outside\", row=n_rows)\n",
    "fig.update_yaxes(dtick=1)\n",
    "fig.update_annotations(font=dict(size=18))\n",
    "\n",
    "fig.update_layout(\n",
    "    # title=f\"Flipons enriched with miRNA seed-regions ({plotly_data['count'].sum():,d})\",\n",
    "    # title_x=0.0035,\n",
    "    # title_y=.985,\n",
    "    height=700,\n",
    "    width=1200,\n",
    "    font=dict(size=16),\n",
    "    uniformtext_minsize=16,\n",
    "    uniformtext_mode=\"show\",\n",
    "    margin=dict(l=60, r=5, t=25, b=60),\n",
    "    legend=dict(\n",
    "        # title_text=\"Flipon group\",\n",
    "        # traceorder=\"reversed\",\n",
    "        orientation=\"h\",\n",
    "        yanchor=\"bottom\",\n",
    "        y=.925,\n",
    "        xanchor=\"right\",\n",
    "        x=.99,\n",
    "    ),\n",
    "    template=\"ggplot2\",\n",
    ")\n",
    "\n",
    "fig.write_image(D_IMG / \"Figure.2C.png\", scale=2)\n",
    "fig.show()\n"
   ]
  },
  {
   "cell_type": "code",
   "execution_count": 16,
   "metadata": {},
   "outputs": [
    {
     "data": {
      "text/html": [
       "<div>\n",
       "<style scoped>\n",
       "    .dataframe tbody tr th:only-of-type {\n",
       "        vertical-align: middle;\n",
       "    }\n",
       "\n",
       "    .dataframe tbody tr th {\n",
       "        vertical-align: top;\n",
       "    }\n",
       "\n",
       "    .dataframe thead th {\n",
       "        text-align: right;\n",
       "    }\n",
       "</style>\n",
       "<table border=\"1\" class=\"dataframe\">\n",
       "  <thead>\n",
       "    <tr style=\"text-align: right;\">\n",
       "      <th></th>\n",
       "      <th>Flipon</th>\n",
       "      <th>variable</th>\n",
       "      <th>value</th>\n",
       "      <th>total</th>\n",
       "    </tr>\n",
       "  </thead>\n",
       "  <tbody>\n",
       "    <tr>\n",
       "      <th>0</th>\n",
       "      <td>g4</td>\n",
       "      <td>mir_m_count</td>\n",
       "      <td>1</td>\n",
       "      <td>5366</td>\n",
       "    </tr>\n",
       "    <tr>\n",
       "      <th>1</th>\n",
       "      <td>g4</td>\n",
       "      <td>mir_p_count</td>\n",
       "      <td>1</td>\n",
       "      <td>5358</td>\n",
       "    </tr>\n",
       "    <tr>\n",
       "      <th>...</th>\n",
       "      <td>...</td>\n",
       "      <td>...</td>\n",
       "      <td>...</td>\n",
       "      <td>...</td>\n",
       "    </tr>\n",
       "    <tr>\n",
       "      <th>99</th>\n",
       "      <td>z-dna</td>\n",
       "      <td>mir_p_count</td>\n",
       "      <td>10</td>\n",
       "      <td>1</td>\n",
       "    </tr>\n",
       "    <tr>\n",
       "      <th>100</th>\n",
       "      <td>z-dna</td>\n",
       "      <td>mir_p_count</td>\n",
       "      <td>12</td>\n",
       "      <td>1</td>\n",
       "    </tr>\n",
       "  </tbody>\n",
       "</table>\n",
       "<p>101 rows × 4 columns</p>\n",
       "</div>"
      ],
      "text/plain": [
       "    Flipon     variable  value  total\n",
       "0       g4  mir_m_count      1   5366\n",
       "1       g4  mir_p_count      1   5358\n",
       "..     ...          ...    ...    ...\n",
       "99   z-dna  mir_p_count     10      1\n",
       "100  z-dna  mir_p_count     12      1\n",
       "\n",
       "[101 rows x 4 columns]"
      ]
     },
     "execution_count": 16,
     "metadata": {},
     "output_type": "execute_result"
    }
   ],
   "source": [
    "plotly_data = flipon_to_data[flipon_to_data.filter(like='c. ').notna().sum(axis=1)>0].assign(\n",
    "    m_mir_p_count=lambda df: df[\"c. M miR (+)\"].apply(get_mirna_count),\n",
    "    m_mir_m_count=lambda df: df[\"c. M miR (-)\"].apply(get_mirna_count),\n",
    "    mj_mir_p_count=lambda df: df[\"c. MJ miR (+)\"].apply(get_mirna_count),\n",
    "    mj_mir_m_count=lambda df: df[\"c. MJ miR (-)\"].apply(get_mirna_count),\n",
    "    j_mir_p_count=lambda df: df[\"c. J miR (+)\"].apply(get_mirna_count),\n",
    "    j_mir_m_count=lambda df: df[\"c. J miR (-)\"].apply(get_mirna_count),\n",
    ")[['Flipon', \"m_mir_p_count\", \"m_mir_m_count\", \"mj_mir_p_count\", \"mj_mir_m_count\", \"j_mir_p_count\", \"j_mir_m_count\"]]\n",
    "\n",
    "plotly_data['mir_p_count'] = plotly_data[['m_mir_p_count', 'mj_mir_p_count', 'j_mir_p_count']].sum(axis=1)\n",
    "plotly_data['mir_m_count'] = plotly_data[['m_mir_m_count', 'mj_mir_m_count', 'j_mir_m_count']].sum(axis=1)\n",
    "\n",
    "plotly_data = plotly_data.melt(id_vars=[\"Flipon\"], value_vars=[\"mir_p_count\", \"mir_m_count\"]).groupby('Flipon').value_counts().rename('total').to_frame().reset_index()\n",
    "plotly_data"
   ]
  },
  {
   "cell_type": "code",
   "execution_count": 17,
   "metadata": {},
   "outputs": [
    {
     "data": {
      "application/vnd.plotly.v1+json": {
       "config": {
        "plotlyServerURL": "https://plot.ly"
       },
       "data": [
        {
         "marker": {
          "color": "#C93435"
         },
         "name": "+ strand",
         "orientation": "h",
         "showlegend": true,
         "textposition": [
          "inside",
          "inside",
          "outside",
          "outside",
          "outside",
          "outside",
          "outside",
          "outside",
          "outside",
          "outside",
          "outside",
          "outside",
          "outside"
         ],
         "texttemplate": "%{x:,d}",
         "type": "bar",
         "width": 0.4,
         "x": [
          5358,
          4934,
          1643,
          317,
          76,
          26,
          10,
          9,
          6,
          3,
          2,
          2,
          2
         ],
         "xaxis": "x",
         "y": [
          1,
          0,
          2,
          3,
          4,
          5,
          7,
          6,
          8,
          9,
          10,
          12,
          11
         ],
         "yaxis": "y"
        },
        {
         "marker": {
          "color": "#4779A4"
         },
         "name": "- strand",
         "orientation": "h",
         "showlegend": true,
         "textposition": [
          "inside",
          "inside",
          "outside",
          "outside",
          "outside",
          "outside",
          "outside",
          "outside",
          "outside",
          "outside",
          "outside",
          "outside",
          "outside"
         ],
         "texttemplate": "%{x:,d}",
         "type": "bar",
         "width": 0.4,
         "x": [
          5366,
          4907,
          1627,
          345,
          92,
          25,
          12,
          4,
          3,
          3,
          2,
          1,
          1
         ],
         "xaxis": "x",
         "y": [
          1,
          0,
          2,
          3,
          4,
          5,
          6,
          7,
          8,
          11,
          10,
          12,
          9
         ],
         "yaxis": "y"
        },
        {
         "marker": {
          "color": "#C93435"
         },
         "name": "+ strand",
         "orientation": "h",
         "showlegend": false,
         "textposition": [
          "inside",
          "inside",
          "outside",
          "outside",
          "outside",
          "outside",
          "outside",
          "outside",
          "outside",
          "outside",
          "outside",
          "outside"
         ],
         "texttemplate": "%{x:,d}",
         "type": "bar",
         "width": 0.4,
         "x": [
          5506,
          4921,
          1316,
          359,
          148,
          49,
          33,
          5,
          5,
          4,
          1,
          1
         ],
         "xaxis": "x2",
         "y": [
          1,
          0,
          2,
          3,
          4,
          5,
          6,
          9,
          8,
          7,
          10,
          12
         ],
         "yaxis": "y2"
        },
        {
         "marker": {
          "color": "#4779A4"
         },
         "name": "- strand",
         "orientation": "h",
         "showlegend": false,
         "textposition": [
          "inside",
          "inside",
          "outside",
          "outside",
          "outside",
          "outside",
          "outside",
          "outside",
          "outside",
          "outside",
          "outside"
         ],
         "texttemplate": "%{x:,d}",
         "type": "bar",
         "width": 0.4,
         "x": [
          5509,
          4972,
          1354,
          314,
          107,
          53,
          21,
          8,
          5,
          3,
          2
         ],
         "xaxis": "x2",
         "y": [
          1,
          0,
          2,
          3,
          4,
          5,
          6,
          7,
          9,
          8,
          10
         ],
         "yaxis": "y2"
        },
        {
         "marker": {
          "color": "#C93435"
         },
         "name": "+ strand",
         "orientation": "h",
         "showlegend": false,
         "textposition": [
          "outside",
          "outside",
          "outside",
          "outside",
          "outside",
          "outside",
          "outside",
          "outside",
          "outside",
          "outside",
          "outside",
          "outside",
          "outside",
          "outside"
         ],
         "texttemplate": "%{x:,d}",
         "type": "bar",
         "width": 0.4,
         "x": [
          3886,
          3613,
          2614,
          2279,
          1397,
          648,
          279,
          117,
          32,
          20,
          4,
          2,
          2,
          1
         ],
         "xaxis": "x3",
         "y": [
          1,
          2,
          3,
          0,
          4,
          5,
          6,
          7,
          8,
          9,
          10,
          15,
          14,
          11
         ],
         "yaxis": "y3"
        },
        {
         "marker": {
          "color": "#4779A4"
         },
         "name": "- strand",
         "orientation": "h",
         "showlegend": false,
         "textposition": [
          "outside",
          "outside",
          "outside",
          "outside",
          "outside",
          "outside",
          "outside",
          "outside",
          "outside",
          "outside",
          "outside",
          "outside",
          "outside",
          "outside"
         ],
         "texttemplate": "%{x:,d}",
         "type": "bar",
         "width": 0.4,
         "x": [
          3858,
          3722,
          2626,
          2150,
          1432,
          648,
          283,
          106,
          38,
          18,
          6,
          5,
          1,
          1
         ],
         "xaxis": "x3",
         "y": [
          1,
          2,
          3,
          0,
          4,
          5,
          6,
          7,
          8,
          9,
          10,
          11,
          14,
          15
         ],
         "yaxis": "y3"
        },
        {
         "marker": {
          "color": "#C93435"
         },
         "name": "+ strand",
         "orientation": "h",
         "showlegend": false,
         "textposition": [
          "outside",
          "outside",
          "outside",
          "outside",
          "outside",
          "outside",
          "outside",
          "outside",
          "outside",
          "outside",
          "outside"
         ],
         "texttemplate": "%{x:,d}",
         "type": "bar",
         "width": 0.4,
         "x": [
          2641,
          2378,
          621,
          145,
          44,
          16,
          11,
          8,
          7,
          3,
          2
         ],
         "xaxis": "x4",
         "y": [
          0,
          1,
          2,
          3,
          4,
          5,
          7,
          8,
          6,
          9,
          10
         ],
         "yaxis": "y4"
        },
        {
         "marker": {
          "color": "#4779A4"
         },
         "name": "- strand",
         "orientation": "h",
         "showlegend": false,
         "textposition": [
          "outside",
          "outside",
          "outside",
          "outside",
          "outside",
          "outside",
          "outside",
          "outside",
          "outside",
          "outside",
          "outside",
          "outside",
          "outside"
         ],
         "texttemplate": "%{x:,d}",
         "type": "bar",
         "width": 0.4,
         "x": [
          2670,
          2388,
          603,
          120,
          35,
          23,
          16,
          9,
          7,
          2,
          1,
          1,
          1
         ],
         "xaxis": "x4",
         "y": [
          0,
          1,
          2,
          3,
          4,
          5,
          6,
          7,
          8,
          12,
          13,
          9,
          10
         ],
         "yaxis": "y4"
        }
       ],
       "layout": {
        "annotations": [
         {
          "font": {
           "size": 18
          },
          "showarrow": false,
          "text": "<b>G4</b> (24,776)",
          "x": 0.1235,
          "xanchor": "center",
          "xref": "paper",
          "y": 1,
          "yanchor": "bottom",
          "yref": "paper"
         },
         {
          "font": {
           "size": 18
          },
          "showarrow": false,
          "text": "<b>Z-DNA</b> (24,696)",
          "x": 0.3745,
          "xanchor": "center",
          "xref": "paper",
          "y": 1,
          "yanchor": "bottom",
          "yref": "paper"
         },
         {
          "font": {
           "size": 18
          },
          "showarrow": false,
          "text": "<b>SIDD</b> (29,788)",
          "x": 0.6255,
          "xanchor": "center",
          "xref": "paper",
          "y": 1,
          "yanchor": "bottom",
          "yref": "paper"
         },
         {
          "font": {
           "size": 18
          },
          "showarrow": false,
          "text": "<b>H-DNA</b> (11,752)",
          "x": 0.8765000000000001,
          "xanchor": "center",
          "xref": "paper",
          "y": 1,
          "yanchor": "bottom",
          "yref": "paper"
         },
         {
          "font": {
           "size": 18
          },
          "showarrow": false,
          "text": "Flipon count",
          "x": 0.5,
          "xanchor": "center",
          "xref": "paper",
          "y": 0,
          "yanchor": "top",
          "yref": "paper",
          "yshift": -30
         },
         {
          "font": {
           "size": 18
          },
          "showarrow": false,
          "text": "Number of miR per flipon",
          "textangle": -90,
          "x": 0,
          "xanchor": "right",
          "xref": "paper",
          "xshift": -40,
          "y": 0.5,
          "yanchor": "middle",
          "yref": "paper"
         }
        ],
        "font": {
         "size": 16
        },
        "height": 700,
        "legend": {
         "orientation": "h",
         "x": 0.99,
         "xanchor": "right",
         "y": 0.925,
         "yanchor": "bottom"
        },
        "margin": {
         "b": 60,
         "l": 60,
         "r": 5,
         "t": 25
        },
        "template": {
         "data": {
          "bar": [
           {
            "error_x": {
             "color": "rgb(51,51,51)"
            },
            "error_y": {
             "color": "rgb(51,51,51)"
            },
            "marker": {
             "line": {
              "color": "rgb(237,237,237)",
              "width": 0.5
             },
             "pattern": {
              "fillmode": "overlay",
              "size": 10,
              "solidity": 0.2
             }
            },
            "type": "bar"
           }
          ],
          "barpolar": [
           {
            "marker": {
             "line": {
              "color": "rgb(237,237,237)",
              "width": 0.5
             },
             "pattern": {
              "fillmode": "overlay",
              "size": 10,
              "solidity": 0.2
             }
            },
            "type": "barpolar"
           }
          ],
          "carpet": [
           {
            "aaxis": {
             "endlinecolor": "rgb(51,51,51)",
             "gridcolor": "white",
             "linecolor": "white",
             "minorgridcolor": "white",
             "startlinecolor": "rgb(51,51,51)"
            },
            "baxis": {
             "endlinecolor": "rgb(51,51,51)",
             "gridcolor": "white",
             "linecolor": "white",
             "minorgridcolor": "white",
             "startlinecolor": "rgb(51,51,51)"
            },
            "type": "carpet"
           }
          ],
          "choropleth": [
           {
            "colorbar": {
             "outlinewidth": 0,
             "tickcolor": "rgb(237,237,237)",
             "ticklen": 6,
             "ticks": "inside"
            },
            "type": "choropleth"
           }
          ],
          "contour": [
           {
            "colorbar": {
             "outlinewidth": 0,
             "tickcolor": "rgb(237,237,237)",
             "ticklen": 6,
             "ticks": "inside"
            },
            "colorscale": [
             [
              0,
              "rgb(20,44,66)"
             ],
             [
              1,
              "rgb(90,179,244)"
             ]
            ],
            "type": "contour"
           }
          ],
          "contourcarpet": [
           {
            "colorbar": {
             "outlinewidth": 0,
             "tickcolor": "rgb(237,237,237)",
             "ticklen": 6,
             "ticks": "inside"
            },
            "type": "contourcarpet"
           }
          ],
          "heatmap": [
           {
            "colorbar": {
             "outlinewidth": 0,
             "tickcolor": "rgb(237,237,237)",
             "ticklen": 6,
             "ticks": "inside"
            },
            "colorscale": [
             [
              0,
              "rgb(20,44,66)"
             ],
             [
              1,
              "rgb(90,179,244)"
             ]
            ],
            "type": "heatmap"
           }
          ],
          "heatmapgl": [
           {
            "colorbar": {
             "outlinewidth": 0,
             "tickcolor": "rgb(237,237,237)",
             "ticklen": 6,
             "ticks": "inside"
            },
            "colorscale": [
             [
              0,
              "rgb(20,44,66)"
             ],
             [
              1,
              "rgb(90,179,244)"
             ]
            ],
            "type": "heatmapgl"
           }
          ],
          "histogram": [
           {
            "marker": {
             "pattern": {
              "fillmode": "overlay",
              "size": 10,
              "solidity": 0.2
             }
            },
            "type": "histogram"
           }
          ],
          "histogram2d": [
           {
            "colorbar": {
             "outlinewidth": 0,
             "tickcolor": "rgb(237,237,237)",
             "ticklen": 6,
             "ticks": "inside"
            },
            "colorscale": [
             [
              0,
              "rgb(20,44,66)"
             ],
             [
              1,
              "rgb(90,179,244)"
             ]
            ],
            "type": "histogram2d"
           }
          ],
          "histogram2dcontour": [
           {
            "colorbar": {
             "outlinewidth": 0,
             "tickcolor": "rgb(237,237,237)",
             "ticklen": 6,
             "ticks": "inside"
            },
            "colorscale": [
             [
              0,
              "rgb(20,44,66)"
             ],
             [
              1,
              "rgb(90,179,244)"
             ]
            ],
            "type": "histogram2dcontour"
           }
          ],
          "mesh3d": [
           {
            "colorbar": {
             "outlinewidth": 0,
             "tickcolor": "rgb(237,237,237)",
             "ticklen": 6,
             "ticks": "inside"
            },
            "type": "mesh3d"
           }
          ],
          "parcoords": [
           {
            "line": {
             "colorbar": {
              "outlinewidth": 0,
              "tickcolor": "rgb(237,237,237)",
              "ticklen": 6,
              "ticks": "inside"
             }
            },
            "type": "parcoords"
           }
          ],
          "pie": [
           {
            "automargin": true,
            "type": "pie"
           }
          ],
          "scatter": [
           {
            "fillpattern": {
             "fillmode": "overlay",
             "size": 10,
             "solidity": 0.2
            },
            "type": "scatter"
           }
          ],
          "scatter3d": [
           {
            "line": {
             "colorbar": {
              "outlinewidth": 0,
              "tickcolor": "rgb(237,237,237)",
              "ticklen": 6,
              "ticks": "inside"
             }
            },
            "marker": {
             "colorbar": {
              "outlinewidth": 0,
              "tickcolor": "rgb(237,237,237)",
              "ticklen": 6,
              "ticks": "inside"
             }
            },
            "type": "scatter3d"
           }
          ],
          "scattercarpet": [
           {
            "marker": {
             "colorbar": {
              "outlinewidth": 0,
              "tickcolor": "rgb(237,237,237)",
              "ticklen": 6,
              "ticks": "inside"
             }
            },
            "type": "scattercarpet"
           }
          ],
          "scattergeo": [
           {
            "marker": {
             "colorbar": {
              "outlinewidth": 0,
              "tickcolor": "rgb(237,237,237)",
              "ticklen": 6,
              "ticks": "inside"
             }
            },
            "type": "scattergeo"
           }
          ],
          "scattergl": [
           {
            "marker": {
             "colorbar": {
              "outlinewidth": 0,
              "tickcolor": "rgb(237,237,237)",
              "ticklen": 6,
              "ticks": "inside"
             }
            },
            "type": "scattergl"
           }
          ],
          "scattermapbox": [
           {
            "marker": {
             "colorbar": {
              "outlinewidth": 0,
              "tickcolor": "rgb(237,237,237)",
              "ticklen": 6,
              "ticks": "inside"
             }
            },
            "type": "scattermapbox"
           }
          ],
          "scatterpolar": [
           {
            "marker": {
             "colorbar": {
              "outlinewidth": 0,
              "tickcolor": "rgb(237,237,237)",
              "ticklen": 6,
              "ticks": "inside"
             }
            },
            "type": "scatterpolar"
           }
          ],
          "scatterpolargl": [
           {
            "marker": {
             "colorbar": {
              "outlinewidth": 0,
              "tickcolor": "rgb(237,237,237)",
              "ticklen": 6,
              "ticks": "inside"
             }
            },
            "type": "scatterpolargl"
           }
          ],
          "scatterternary": [
           {
            "marker": {
             "colorbar": {
              "outlinewidth": 0,
              "tickcolor": "rgb(237,237,237)",
              "ticklen": 6,
              "ticks": "inside"
             }
            },
            "type": "scatterternary"
           }
          ],
          "surface": [
           {
            "colorbar": {
             "outlinewidth": 0,
             "tickcolor": "rgb(237,237,237)",
             "ticklen": 6,
             "ticks": "inside"
            },
            "colorscale": [
             [
              0,
              "rgb(20,44,66)"
             ],
             [
              1,
              "rgb(90,179,244)"
             ]
            ],
            "type": "surface"
           }
          ],
          "table": [
           {
            "cells": {
             "fill": {
              "color": "rgb(237,237,237)"
             },
             "line": {
              "color": "white"
             }
            },
            "header": {
             "fill": {
              "color": "rgb(217,217,217)"
             },
             "line": {
              "color": "white"
             }
            },
            "type": "table"
           }
          ]
         },
         "layout": {
          "annotationdefaults": {
           "arrowhead": 0,
           "arrowwidth": 1
          },
          "autotypenumbers": "strict",
          "coloraxis": {
           "colorbar": {
            "outlinewidth": 0,
            "tickcolor": "rgb(237,237,237)",
            "ticklen": 6,
            "ticks": "inside"
           }
          },
          "colorscale": {
           "sequential": [
            [
             0,
             "rgb(20,44,66)"
            ],
            [
             1,
             "rgb(90,179,244)"
            ]
           ],
           "sequentialminus": [
            [
             0,
             "rgb(20,44,66)"
            ],
            [
             1,
             "rgb(90,179,244)"
            ]
           ]
          },
          "colorway": [
           "#F8766D",
           "#A3A500",
           "#00BF7D",
           "#00B0F6",
           "#E76BF3"
          ],
          "font": {
           "color": "rgb(51,51,51)"
          },
          "geo": {
           "bgcolor": "white",
           "lakecolor": "white",
           "landcolor": "rgb(237,237,237)",
           "showlakes": true,
           "showland": true,
           "subunitcolor": "white"
          },
          "hoverlabel": {
           "align": "left"
          },
          "hovermode": "closest",
          "paper_bgcolor": "white",
          "plot_bgcolor": "rgb(237,237,237)",
          "polar": {
           "angularaxis": {
            "gridcolor": "white",
            "linecolor": "white",
            "showgrid": true,
            "tickcolor": "rgb(51,51,51)",
            "ticks": "outside"
           },
           "bgcolor": "rgb(237,237,237)",
           "radialaxis": {
            "gridcolor": "white",
            "linecolor": "white",
            "showgrid": true,
            "tickcolor": "rgb(51,51,51)",
            "ticks": "outside"
           }
          },
          "scene": {
           "xaxis": {
            "backgroundcolor": "rgb(237,237,237)",
            "gridcolor": "white",
            "gridwidth": 2,
            "linecolor": "white",
            "showbackground": true,
            "showgrid": true,
            "tickcolor": "rgb(51,51,51)",
            "ticks": "outside",
            "zerolinecolor": "white"
           },
           "yaxis": {
            "backgroundcolor": "rgb(237,237,237)",
            "gridcolor": "white",
            "gridwidth": 2,
            "linecolor": "white",
            "showbackground": true,
            "showgrid": true,
            "tickcolor": "rgb(51,51,51)",
            "ticks": "outside",
            "zerolinecolor": "white"
           },
           "zaxis": {
            "backgroundcolor": "rgb(237,237,237)",
            "gridcolor": "white",
            "gridwidth": 2,
            "linecolor": "white",
            "showbackground": true,
            "showgrid": true,
            "tickcolor": "rgb(51,51,51)",
            "ticks": "outside",
            "zerolinecolor": "white"
           }
          },
          "shapedefaults": {
           "fillcolor": "black",
           "line": {
            "width": 0
           },
           "opacity": 0.3
          },
          "ternary": {
           "aaxis": {
            "gridcolor": "white",
            "linecolor": "white",
            "showgrid": true,
            "tickcolor": "rgb(51,51,51)",
            "ticks": "outside"
           },
           "baxis": {
            "gridcolor": "white",
            "linecolor": "white",
            "showgrid": true,
            "tickcolor": "rgb(51,51,51)",
            "ticks": "outside"
           },
           "bgcolor": "rgb(237,237,237)",
           "caxis": {
            "gridcolor": "white",
            "linecolor": "white",
            "showgrid": true,
            "tickcolor": "rgb(51,51,51)",
            "ticks": "outside"
           }
          },
          "xaxis": {
           "automargin": true,
           "gridcolor": "white",
           "linecolor": "white",
           "showgrid": true,
           "tickcolor": "rgb(51,51,51)",
           "ticks": "outside",
           "title": {
            "standoff": 15
           },
           "zerolinecolor": "white"
          },
          "yaxis": {
           "automargin": true,
           "gridcolor": "white",
           "linecolor": "white",
           "showgrid": true,
           "tickcolor": "rgb(51,51,51)",
           "ticks": "outside",
           "title": {
            "standoff": 15
           },
           "zerolinecolor": "white"
          }
         }
        },
        "uniformtext": {
         "minsize": 16,
         "mode": "show"
        },
        "width": 1200,
        "xaxis": {
         "anchor": "y",
         "domain": [
          0,
          0.247
         ],
         "tickformat": "s",
         "ticks": "outside"
        },
        "xaxis2": {
         "anchor": "y2",
         "domain": [
          0.251,
          0.498
         ],
         "matches": "x",
         "tickformat": "s",
         "ticks": "outside"
        },
        "xaxis3": {
         "anchor": "y3",
         "domain": [
          0.502,
          0.749
         ],
         "matches": "x",
         "tickformat": "s",
         "ticks": "outside"
        },
        "xaxis4": {
         "anchor": "y4",
         "domain": [
          0.753,
          1
         ],
         "matches": "x",
         "tickformat": "s",
         "ticks": "outside"
        },
        "yaxis": {
         "anchor": "x",
         "domain": [
          0,
          1
         ],
         "dtick": 1
        },
        "yaxis2": {
         "anchor": "x2",
         "domain": [
          0,
          1
         ],
         "dtick": 1,
         "matches": "y",
         "showticklabels": false,
         "ticks": ""
        },
        "yaxis3": {
         "anchor": "x3",
         "domain": [
          0,
          1
         ],
         "dtick": 1,
         "matches": "y",
         "showticklabels": false,
         "ticks": ""
        },
        "yaxis4": {
         "anchor": "x4",
         "domain": [
          0,
          1
         ],
         "dtick": 1,
         "matches": "y",
         "showticklabels": false,
         "ticks": ""
        }
       }
      },
      "text/html": [
       "<div>                            <div id=\"8d96cdea-81c1-48df-913d-4bfce9b72ff4\" class=\"plotly-graph-div\" style=\"height:700px; width:1200px;\"></div>            <script type=\"text/javascript\">                require([\"plotly\"], function(Plotly) {                    window.PLOTLYENV=window.PLOTLYENV || {};                                    if (document.getElementById(\"8d96cdea-81c1-48df-913d-4bfce9b72ff4\")) {                    Plotly.newPlot(                        \"8d96cdea-81c1-48df-913d-4bfce9b72ff4\",                        [{\"marker\":{\"color\":\"#C93435\"},\"name\":\"+ strand\",\"orientation\":\"h\",\"showlegend\":true,\"textposition\":[\"inside\",\"inside\",\"outside\",\"outside\",\"outside\",\"outside\",\"outside\",\"outside\",\"outside\",\"outside\",\"outside\",\"outside\",\"outside\"],\"texttemplate\":\"%{x:,d}\",\"width\":0.4,\"x\":[5358,4934,1643,317,76,26,10,9,6,3,2,2,2],\"y\":[1,0,2,3,4,5,7,6,8,9,10,12,11],\"type\":\"bar\",\"xaxis\":\"x\",\"yaxis\":\"y\"},{\"marker\":{\"color\":\"#4779A4\"},\"name\":\"- strand\",\"orientation\":\"h\",\"showlegend\":true,\"textposition\":[\"inside\",\"inside\",\"outside\",\"outside\",\"outside\",\"outside\",\"outside\",\"outside\",\"outside\",\"outside\",\"outside\",\"outside\",\"outside\"],\"texttemplate\":\"%{x:,d}\",\"width\":0.4,\"x\":[5366,4907,1627,345,92,25,12,4,3,3,2,1,1],\"y\":[1,0,2,3,4,5,6,7,8,11,10,12,9],\"type\":\"bar\",\"xaxis\":\"x\",\"yaxis\":\"y\"},{\"marker\":{\"color\":\"#C93435\"},\"name\":\"+ strand\",\"orientation\":\"h\",\"showlegend\":false,\"textposition\":[\"inside\",\"inside\",\"outside\",\"outside\",\"outside\",\"outside\",\"outside\",\"outside\",\"outside\",\"outside\",\"outside\",\"outside\"],\"texttemplate\":\"%{x:,d}\",\"width\":0.4,\"x\":[5506,4921,1316,359,148,49,33,5,5,4,1,1],\"y\":[1,0,2,3,4,5,6,9,8,7,10,12],\"type\":\"bar\",\"xaxis\":\"x2\",\"yaxis\":\"y2\"},{\"marker\":{\"color\":\"#4779A4\"},\"name\":\"- strand\",\"orientation\":\"h\",\"showlegend\":false,\"textposition\":[\"inside\",\"inside\",\"outside\",\"outside\",\"outside\",\"outside\",\"outside\",\"outside\",\"outside\",\"outside\",\"outside\"],\"texttemplate\":\"%{x:,d}\",\"width\":0.4,\"x\":[5509,4972,1354,314,107,53,21,8,5,3,2],\"y\":[1,0,2,3,4,5,6,7,9,8,10],\"type\":\"bar\",\"xaxis\":\"x2\",\"yaxis\":\"y2\"},{\"marker\":{\"color\":\"#C93435\"},\"name\":\"+ strand\",\"orientation\":\"h\",\"showlegend\":false,\"textposition\":[\"outside\",\"outside\",\"outside\",\"outside\",\"outside\",\"outside\",\"outside\",\"outside\",\"outside\",\"outside\",\"outside\",\"outside\",\"outside\",\"outside\"],\"texttemplate\":\"%{x:,d}\",\"width\":0.4,\"x\":[3886,3613,2614,2279,1397,648,279,117,32,20,4,2,2,1],\"y\":[1,2,3,0,4,5,6,7,8,9,10,15,14,11],\"type\":\"bar\",\"xaxis\":\"x3\",\"yaxis\":\"y3\"},{\"marker\":{\"color\":\"#4779A4\"},\"name\":\"- strand\",\"orientation\":\"h\",\"showlegend\":false,\"textposition\":[\"outside\",\"outside\",\"outside\",\"outside\",\"outside\",\"outside\",\"outside\",\"outside\",\"outside\",\"outside\",\"outside\",\"outside\",\"outside\",\"outside\"],\"texttemplate\":\"%{x:,d}\",\"width\":0.4,\"x\":[3858,3722,2626,2150,1432,648,283,106,38,18,6,5,1,1],\"y\":[1,2,3,0,4,5,6,7,8,9,10,11,14,15],\"type\":\"bar\",\"xaxis\":\"x3\",\"yaxis\":\"y3\"},{\"marker\":{\"color\":\"#C93435\"},\"name\":\"+ strand\",\"orientation\":\"h\",\"showlegend\":false,\"textposition\":[\"outside\",\"outside\",\"outside\",\"outside\",\"outside\",\"outside\",\"outside\",\"outside\",\"outside\",\"outside\",\"outside\"],\"texttemplate\":\"%{x:,d}\",\"width\":0.4,\"x\":[2641,2378,621,145,44,16,11,8,7,3,2],\"y\":[0,1,2,3,4,5,7,8,6,9,10],\"type\":\"bar\",\"xaxis\":\"x4\",\"yaxis\":\"y4\"},{\"marker\":{\"color\":\"#4779A4\"},\"name\":\"- strand\",\"orientation\":\"h\",\"showlegend\":false,\"textposition\":[\"outside\",\"outside\",\"outside\",\"outside\",\"outside\",\"outside\",\"outside\",\"outside\",\"outside\",\"outside\",\"outside\",\"outside\",\"outside\"],\"texttemplate\":\"%{x:,d}\",\"width\":0.4,\"x\":[2670,2388,603,120,35,23,16,9,7,2,1,1,1],\"y\":[0,1,2,3,4,5,6,7,8,12,13,9,10],\"type\":\"bar\",\"xaxis\":\"x4\",\"yaxis\":\"y4\"}],                        {\"template\":{\"data\":{\"barpolar\":[{\"marker\":{\"line\":{\"color\":\"rgb(237,237,237)\",\"width\":0.5},\"pattern\":{\"fillmode\":\"overlay\",\"size\":10,\"solidity\":0.2}},\"type\":\"barpolar\"}],\"bar\":[{\"error_x\":{\"color\":\"rgb(51,51,51)\"},\"error_y\":{\"color\":\"rgb(51,51,51)\"},\"marker\":{\"line\":{\"color\":\"rgb(237,237,237)\",\"width\":0.5},\"pattern\":{\"fillmode\":\"overlay\",\"size\":10,\"solidity\":0.2}},\"type\":\"bar\"}],\"carpet\":[{\"aaxis\":{\"endlinecolor\":\"rgb(51,51,51)\",\"gridcolor\":\"white\",\"linecolor\":\"white\",\"minorgridcolor\":\"white\",\"startlinecolor\":\"rgb(51,51,51)\"},\"baxis\":{\"endlinecolor\":\"rgb(51,51,51)\",\"gridcolor\":\"white\",\"linecolor\":\"white\",\"minorgridcolor\":\"white\",\"startlinecolor\":\"rgb(51,51,51)\"},\"type\":\"carpet\"}],\"choropleth\":[{\"colorbar\":{\"outlinewidth\":0,\"tickcolor\":\"rgb(237,237,237)\",\"ticklen\":6,\"ticks\":\"inside\"},\"type\":\"choropleth\"}],\"contourcarpet\":[{\"colorbar\":{\"outlinewidth\":0,\"tickcolor\":\"rgb(237,237,237)\",\"ticklen\":6,\"ticks\":\"inside\"},\"type\":\"contourcarpet\"}],\"contour\":[{\"colorbar\":{\"outlinewidth\":0,\"tickcolor\":\"rgb(237,237,237)\",\"ticklen\":6,\"ticks\":\"inside\"},\"colorscale\":[[0,\"rgb(20,44,66)\"],[1,\"rgb(90,179,244)\"]],\"type\":\"contour\"}],\"heatmapgl\":[{\"colorbar\":{\"outlinewidth\":0,\"tickcolor\":\"rgb(237,237,237)\",\"ticklen\":6,\"ticks\":\"inside\"},\"colorscale\":[[0,\"rgb(20,44,66)\"],[1,\"rgb(90,179,244)\"]],\"type\":\"heatmapgl\"}],\"heatmap\":[{\"colorbar\":{\"outlinewidth\":0,\"tickcolor\":\"rgb(237,237,237)\",\"ticklen\":6,\"ticks\":\"inside\"},\"colorscale\":[[0,\"rgb(20,44,66)\"],[1,\"rgb(90,179,244)\"]],\"type\":\"heatmap\"}],\"histogram2dcontour\":[{\"colorbar\":{\"outlinewidth\":0,\"tickcolor\":\"rgb(237,237,237)\",\"ticklen\":6,\"ticks\":\"inside\"},\"colorscale\":[[0,\"rgb(20,44,66)\"],[1,\"rgb(90,179,244)\"]],\"type\":\"histogram2dcontour\"}],\"histogram2d\":[{\"colorbar\":{\"outlinewidth\":0,\"tickcolor\":\"rgb(237,237,237)\",\"ticklen\":6,\"ticks\":\"inside\"},\"colorscale\":[[0,\"rgb(20,44,66)\"],[1,\"rgb(90,179,244)\"]],\"type\":\"histogram2d\"}],\"histogram\":[{\"marker\":{\"pattern\":{\"fillmode\":\"overlay\",\"size\":10,\"solidity\":0.2}},\"type\":\"histogram\"}],\"mesh3d\":[{\"colorbar\":{\"outlinewidth\":0,\"tickcolor\":\"rgb(237,237,237)\",\"ticklen\":6,\"ticks\":\"inside\"},\"type\":\"mesh3d\"}],\"parcoords\":[{\"line\":{\"colorbar\":{\"outlinewidth\":0,\"tickcolor\":\"rgb(237,237,237)\",\"ticklen\":6,\"ticks\":\"inside\"}},\"type\":\"parcoords\"}],\"pie\":[{\"automargin\":true,\"type\":\"pie\"}],\"scatter3d\":[{\"line\":{\"colorbar\":{\"outlinewidth\":0,\"tickcolor\":\"rgb(237,237,237)\",\"ticklen\":6,\"ticks\":\"inside\"}},\"marker\":{\"colorbar\":{\"outlinewidth\":0,\"tickcolor\":\"rgb(237,237,237)\",\"ticklen\":6,\"ticks\":\"inside\"}},\"type\":\"scatter3d\"}],\"scattercarpet\":[{\"marker\":{\"colorbar\":{\"outlinewidth\":0,\"tickcolor\":\"rgb(237,237,237)\",\"ticklen\":6,\"ticks\":\"inside\"}},\"type\":\"scattercarpet\"}],\"scattergeo\":[{\"marker\":{\"colorbar\":{\"outlinewidth\":0,\"tickcolor\":\"rgb(237,237,237)\",\"ticklen\":6,\"ticks\":\"inside\"}},\"type\":\"scattergeo\"}],\"scattergl\":[{\"marker\":{\"colorbar\":{\"outlinewidth\":0,\"tickcolor\":\"rgb(237,237,237)\",\"ticklen\":6,\"ticks\":\"inside\"}},\"type\":\"scattergl\"}],\"scattermapbox\":[{\"marker\":{\"colorbar\":{\"outlinewidth\":0,\"tickcolor\":\"rgb(237,237,237)\",\"ticklen\":6,\"ticks\":\"inside\"}},\"type\":\"scattermapbox\"}],\"scatterpolargl\":[{\"marker\":{\"colorbar\":{\"outlinewidth\":0,\"tickcolor\":\"rgb(237,237,237)\",\"ticklen\":6,\"ticks\":\"inside\"}},\"type\":\"scatterpolargl\"}],\"scatterpolar\":[{\"marker\":{\"colorbar\":{\"outlinewidth\":0,\"tickcolor\":\"rgb(237,237,237)\",\"ticklen\":6,\"ticks\":\"inside\"}},\"type\":\"scatterpolar\"}],\"scatter\":[{\"fillpattern\":{\"fillmode\":\"overlay\",\"size\":10,\"solidity\":0.2},\"type\":\"scatter\"}],\"scatterternary\":[{\"marker\":{\"colorbar\":{\"outlinewidth\":0,\"tickcolor\":\"rgb(237,237,237)\",\"ticklen\":6,\"ticks\":\"inside\"}},\"type\":\"scatterternary\"}],\"surface\":[{\"colorbar\":{\"outlinewidth\":0,\"tickcolor\":\"rgb(237,237,237)\",\"ticklen\":6,\"ticks\":\"inside\"},\"colorscale\":[[0,\"rgb(20,44,66)\"],[1,\"rgb(90,179,244)\"]],\"type\":\"surface\"}],\"table\":[{\"cells\":{\"fill\":{\"color\":\"rgb(237,237,237)\"},\"line\":{\"color\":\"white\"}},\"header\":{\"fill\":{\"color\":\"rgb(217,217,217)\"},\"line\":{\"color\":\"white\"}},\"type\":\"table\"}]},\"layout\":{\"annotationdefaults\":{\"arrowhead\":0,\"arrowwidth\":1},\"autotypenumbers\":\"strict\",\"coloraxis\":{\"colorbar\":{\"outlinewidth\":0,\"tickcolor\":\"rgb(237,237,237)\",\"ticklen\":6,\"ticks\":\"inside\"}},\"colorscale\":{\"sequential\":[[0,\"rgb(20,44,66)\"],[1,\"rgb(90,179,244)\"]],\"sequentialminus\":[[0,\"rgb(20,44,66)\"],[1,\"rgb(90,179,244)\"]]},\"colorway\":[\"#F8766D\",\"#A3A500\",\"#00BF7D\",\"#00B0F6\",\"#E76BF3\"],\"font\":{\"color\":\"rgb(51,51,51)\"},\"geo\":{\"bgcolor\":\"white\",\"lakecolor\":\"white\",\"landcolor\":\"rgb(237,237,237)\",\"showlakes\":true,\"showland\":true,\"subunitcolor\":\"white\"},\"hoverlabel\":{\"align\":\"left\"},\"hovermode\":\"closest\",\"paper_bgcolor\":\"white\",\"plot_bgcolor\":\"rgb(237,237,237)\",\"polar\":{\"angularaxis\":{\"gridcolor\":\"white\",\"linecolor\":\"white\",\"showgrid\":true,\"tickcolor\":\"rgb(51,51,51)\",\"ticks\":\"outside\"},\"bgcolor\":\"rgb(237,237,237)\",\"radialaxis\":{\"gridcolor\":\"white\",\"linecolor\":\"white\",\"showgrid\":true,\"tickcolor\":\"rgb(51,51,51)\",\"ticks\":\"outside\"}},\"scene\":{\"xaxis\":{\"backgroundcolor\":\"rgb(237,237,237)\",\"gridcolor\":\"white\",\"gridwidth\":2,\"linecolor\":\"white\",\"showbackground\":true,\"showgrid\":true,\"tickcolor\":\"rgb(51,51,51)\",\"ticks\":\"outside\",\"zerolinecolor\":\"white\"},\"yaxis\":{\"backgroundcolor\":\"rgb(237,237,237)\",\"gridcolor\":\"white\",\"gridwidth\":2,\"linecolor\":\"white\",\"showbackground\":true,\"showgrid\":true,\"tickcolor\":\"rgb(51,51,51)\",\"ticks\":\"outside\",\"zerolinecolor\":\"white\"},\"zaxis\":{\"backgroundcolor\":\"rgb(237,237,237)\",\"gridcolor\":\"white\",\"gridwidth\":2,\"linecolor\":\"white\",\"showbackground\":true,\"showgrid\":true,\"tickcolor\":\"rgb(51,51,51)\",\"ticks\":\"outside\",\"zerolinecolor\":\"white\"}},\"shapedefaults\":{\"fillcolor\":\"black\",\"line\":{\"width\":0},\"opacity\":0.3},\"ternary\":{\"aaxis\":{\"gridcolor\":\"white\",\"linecolor\":\"white\",\"showgrid\":true,\"tickcolor\":\"rgb(51,51,51)\",\"ticks\":\"outside\"},\"baxis\":{\"gridcolor\":\"white\",\"linecolor\":\"white\",\"showgrid\":true,\"tickcolor\":\"rgb(51,51,51)\",\"ticks\":\"outside\"},\"bgcolor\":\"rgb(237,237,237)\",\"caxis\":{\"gridcolor\":\"white\",\"linecolor\":\"white\",\"showgrid\":true,\"tickcolor\":\"rgb(51,51,51)\",\"ticks\":\"outside\"}},\"xaxis\":{\"automargin\":true,\"gridcolor\":\"white\",\"linecolor\":\"white\",\"showgrid\":true,\"tickcolor\":\"rgb(51,51,51)\",\"ticks\":\"outside\",\"title\":{\"standoff\":15},\"zerolinecolor\":\"white\"},\"yaxis\":{\"automargin\":true,\"gridcolor\":\"white\",\"linecolor\":\"white\",\"showgrid\":true,\"tickcolor\":\"rgb(51,51,51)\",\"ticks\":\"outside\",\"title\":{\"standoff\":15},\"zerolinecolor\":\"white\"}}},\"xaxis\":{\"anchor\":\"y\",\"domain\":[0.0,0.247],\"tickformat\":\"s\",\"ticks\":\"outside\"},\"yaxis\":{\"anchor\":\"x\",\"domain\":[0.0,1.0],\"dtick\":1},\"xaxis2\":{\"anchor\":\"y2\",\"domain\":[0.251,0.498],\"matches\":\"x\",\"tickformat\":\"s\",\"ticks\":\"outside\"},\"yaxis2\":{\"anchor\":\"x2\",\"domain\":[0.0,1.0],\"matches\":\"y\",\"showticklabels\":false,\"ticks\":\"\",\"dtick\":1},\"xaxis3\":{\"anchor\":\"y3\",\"domain\":[0.502,0.749],\"matches\":\"x\",\"tickformat\":\"s\",\"ticks\":\"outside\"},\"yaxis3\":{\"anchor\":\"x3\",\"domain\":[0.0,1.0],\"matches\":\"y\",\"showticklabels\":false,\"ticks\":\"\",\"dtick\":1},\"xaxis4\":{\"anchor\":\"y4\",\"domain\":[0.753,1.0],\"matches\":\"x\",\"tickformat\":\"s\",\"ticks\":\"outside\"},\"yaxis4\":{\"anchor\":\"x4\",\"domain\":[0.0,1.0],\"matches\":\"y\",\"showticklabels\":false,\"ticks\":\"\",\"dtick\":1},\"annotations\":[{\"font\":{\"size\":18},\"showarrow\":false,\"text\":\"<b>G4</b> (24,776)\",\"x\":0.1235,\"xanchor\":\"center\",\"xref\":\"paper\",\"y\":1.0,\"yanchor\":\"bottom\",\"yref\":\"paper\"},{\"font\":{\"size\":18},\"showarrow\":false,\"text\":\"<b>Z-DNA</b> (24,696)\",\"x\":0.3745,\"xanchor\":\"center\",\"xref\":\"paper\",\"y\":1.0,\"yanchor\":\"bottom\",\"yref\":\"paper\"},{\"font\":{\"size\":18},\"showarrow\":false,\"text\":\"<b>SIDD</b> (29,788)\",\"x\":0.6255,\"xanchor\":\"center\",\"xref\":\"paper\",\"y\":1.0,\"yanchor\":\"bottom\",\"yref\":\"paper\"},{\"font\":{\"size\":18},\"showarrow\":false,\"text\":\"<b>H-DNA</b> (11,752)\",\"x\":0.8765000000000001,\"xanchor\":\"center\",\"xref\":\"paper\",\"y\":1.0,\"yanchor\":\"bottom\",\"yref\":\"paper\"},{\"font\":{\"size\":18},\"showarrow\":false,\"text\":\"Flipon count\",\"x\":0.5,\"xanchor\":\"center\",\"xref\":\"paper\",\"y\":0,\"yanchor\":\"top\",\"yref\":\"paper\",\"yshift\":-30},{\"font\":{\"size\":18},\"showarrow\":false,\"text\":\"Number of miR per flipon\",\"textangle\":-90,\"x\":0,\"xanchor\":\"right\",\"xref\":\"paper\",\"xshift\":-40,\"y\":0.5,\"yanchor\":\"middle\",\"yref\":\"paper\"}],\"font\":{\"size\":16},\"uniformtext\":{\"minsize\":16,\"mode\":\"show\"},\"margin\":{\"l\":60,\"r\":5,\"t\":25,\"b\":60},\"legend\":{\"orientation\":\"h\",\"yanchor\":\"bottom\",\"y\":0.925,\"xanchor\":\"right\",\"x\":0.99},\"height\":700,\"width\":1200},                        {\"responsive\": true}                    ).then(function(){\n",
       "                            \n",
       "var gd = document.getElementById('8d96cdea-81c1-48df-913d-4bfce9b72ff4');\n",
       "var x = new MutationObserver(function (mutations, observer) {{\n",
       "        var display = window.getComputedStyle(gd).display;\n",
       "        if (!display || display === 'none') {{\n",
       "            console.log([gd, 'removed!']);\n",
       "            Plotly.purge(gd);\n",
       "            observer.disconnect();\n",
       "        }}\n",
       "}});\n",
       "\n",
       "// Listen for the removal of the full notebook cells\n",
       "var notebookContainer = gd.closest('#notebook-container');\n",
       "if (notebookContainer) {{\n",
       "    x.observe(notebookContainer, {childList: true});\n",
       "}}\n",
       "\n",
       "// Listen for the clearing of the current output cell\n",
       "var outputEl = gd.closest('.output');\n",
       "if (outputEl) {{\n",
       "    x.observe(outputEl, {childList: true});\n",
       "}}\n",
       "\n",
       "                        })                };                });            </script>        </div>"
      ]
     },
     "metadata": {},
     "output_type": "display_data"
    }
   ],
   "source": [
    "groups = (\"G4\", \"Z-DNA\", \"SIDD\", \"H-DNA\")\n",
    "categories = {\n",
    "    \"mir_p_count\": \"+ strand\",\n",
    "    \"mir_m_count\": \"- strand\",\n",
    "}\n",
    "colors = {\n",
    "    \"+ strand\": COLORS['SIDD'],\n",
    "    \"- strand\": COLORS['Z-DNA'],\n",
    "}\n",
    "\n",
    "n_rows = 1\n",
    "n_cols = 4\n",
    "\n",
    "fig = ps.make_subplots(\n",
    "    rows=n_rows,\n",
    "    cols=n_cols,\n",
    "    shared_xaxes=\"all\",\n",
    "    shared_yaxes=\"all\",\n",
    "    horizontal_spacing=0.004,\n",
    "    vertical_spacing=0.01,\n",
    "    column_titles=[\n",
    "        f\"<b>{x}</b> ({plotly_data[plotly_data['Flipon'] == x.lower()]['total'].sum():,d})\"\n",
    "        for x in groups\n",
    "    ],\n",
    "    y_title=\"Number of miR per flipon\",\n",
    "    x_title=\"Flipon count\",\n",
    ")\n",
    "\n",
    "for i, group in enumerate(groups):\n",
    "    for category, name in categories.items():\n",
    "        df = plotly_data[\n",
    "            (plotly_data[\"Flipon\"] == group.lower())\n",
    "            & (plotly_data[\"variable\"] == category)\n",
    "        ]\n",
    "        sub = pgo.Bar(\n",
    "            x=df[\"total\"],\n",
    "            y=df[\"value\"],\n",
    "            name=name,\n",
    "            texttemplate=\"%{x:,d}\",\n",
    "            textposition=df[\"total\"].apply(\n",
    "                lambda x: \"outside\" if x < 4000 else \"inside\"\n",
    "            ),\n",
    "            marker=dict(color=colors[name]),\n",
    "            orientation=\"h\",\n",
    "            width=0.4,\n",
    "            showlegend=True if (i == 0) else False,\n",
    "        )\n",
    "        fig.add_trace(sub, row=1, col=i + 1)\n",
    "    if i:\n",
    "        fig.update_yaxes(ticks=\"\", row=1, col=i + 1)\n",
    "\n",
    "\n",
    "fig.update_xaxes(tickformat=\"s\")\n",
    "fig.update_xaxes(ticks=\"outside\", row=n_rows)\n",
    "fig.update_yaxes(dtick=1)\n",
    "fig.update_annotations(font=dict(size=18))\n",
    "\n",
    "fig.update_layout(\n",
    "    # title=f\"Flipons enriched with miRNA seed-regions ({plotly_data['count'].sum():,d})\",\n",
    "    # title_x=0.0035,\n",
    "    # title_y=.985,\n",
    "    height=700,\n",
    "    width=1200,\n",
    "    font=dict(size=16),\n",
    "    uniformtext_minsize=16,\n",
    "    uniformtext_mode=\"show\",\n",
    "    margin=dict(l=60, r=5, t=25, b=60),\n",
    "    legend=dict(\n",
    "        # title_text=\"Flipon group\",\n",
    "        # traceorder=\"reversed\",\n",
    "        orientation=\"h\",\n",
    "        yanchor=\"bottom\",\n",
    "        y=.925,\n",
    "        xanchor=\"right\",\n",
    "        x=.99,\n",
    "    ),\n",
    "    template=\"ggplot2\",\n",
    ")\n",
    "\n",
    "fig.write_image(D_IMG / \"Figure.2D.png\", scale=2)\n",
    "fig.show()\n"
   ]
  },
  {
   "cell_type": "code",
   "execution_count": null,
   "metadata": {},
   "outputs": [],
   "source": []
  }
 ],
 "metadata": {
  "kernelspec": {
   "display_name": "Python 3.11.0 ('mirna')",
   "language": "python",
   "name": "python3"
  },
  "language_info": {
   "codemirror_mode": {
    "name": "ipython",
    "version": 3
   },
   "file_extension": ".py",
   "mimetype": "text/x-python",
   "name": "python",
   "nbconvert_exporter": "python",
   "pygments_lexer": "ipython3",
   "version": "3.11.0"
  },
  "orig_nbformat": 4,
  "vscode": {
   "interpreter": {
    "hash": "aa4ca5e43b0b74394dc05f972f57eb4922712b4f4450a8ee4f1bf77784cf2ccc"
   }
  }
 },
 "nbformat": 4,
 "nbformat_minor": 2
}
