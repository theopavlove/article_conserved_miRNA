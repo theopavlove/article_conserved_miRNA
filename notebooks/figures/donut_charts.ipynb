{
 "cells": [
  {
   "cell_type": "code",
   "execution_count": 1,
   "metadata": {},
   "outputs": [
    {
     "name": "stderr",
     "output_type": "stream",
     "text": [
      "/home/fpavlov/miniconda3/envs/mirna/lib/python3.11/site-packages/rpy2/ipython/rmagic.py:83: UserWarning: The Python package `pandas` is strongly recommended when using `rpy2.ipython`. Unfortunately it could not be loaded, as we did not manage to load `numpy` in the first place (error: No module named 'numpy').\n",
      "  warnings.warn('The Python package `pandas` is strongly '\n"
     ]
    }
   ],
   "source": [
    "%load_ext rpy2.ipython"
   ]
  },
  {
   "cell_type": "code",
   "execution_count": 2,
   "metadata": {},
   "outputs": [
    {
     "name": "stderr",
     "output_type": "stream",
     "text": [
      "R[write to console]: Error in library(GenomicFeatures) : \n",
      "  there is no package called ‘GenomicFeatures’\n",
      "\n"
     ]
    },
    {
     "name": "stdout",
     "output_type": "stream",
     "text": [
      "\n",
      "Error in library(GenomicFeatures) : \n",
      "  there is no package called ‘GenomicFeatures’\n"
     ]
    },
    {
     "ename": "RInterpreterError",
     "evalue": "Failed to parse and evaluate line '\\nlibrary(GenomicFeatures)\\nlibrary(ChIPpeakAnno)\\nlibrary(ChIPseeker)\\nlibrary(clusterProfiler)\\nlibrary(dplyr)\\nlibrary(stringr)\\n'.\nR error message: 'Error in library(GenomicFeatures) : \\n  there is no package called ‘GenomicFeatures’'",
     "output_type": "error",
     "traceback": [
      "\u001b[0;31m---------------------------------------------------------------------------\u001b[0m",
      "\u001b[0;31mRRuntimeError\u001b[0m                             Traceback (most recent call last)",
      "File \u001b[0;32m~/miniconda3/envs/mirna/lib/python3.11/site-packages/rpy2/ipython/rmagic.py:331\u001b[0m, in \u001b[0;36mRMagics.eval\u001b[0;34m(self, code)\u001b[0m\n\u001b[1;32m    329\u001b[0m \u001b[39mtry\u001b[39;00m:\n\u001b[1;32m    330\u001b[0m     \u001b[39m# Need the newline in case the last line in code is a comment.\u001b[39;00m\n\u001b[0;32m--> 331\u001b[0m     value, visible \u001b[39m=\u001b[39m ro\u001b[39m.\u001b[39;49mr(\u001b[39m\"\u001b[39;49m\u001b[39mwithVisible(\u001b[39;49m\u001b[39m{\u001b[39;49m\u001b[39m%s\u001b[39;49;00m\u001b[39m\\n\u001b[39;49;00m\u001b[39m})\u001b[39;49m\u001b[39m\"\u001b[39;49m \u001b[39m%\u001b[39;49m code)\n\u001b[1;32m    332\u001b[0m \u001b[39mexcept\u001b[39;00m (ri\u001b[39m.\u001b[39membedded\u001b[39m.\u001b[39mRRuntimeError, \u001b[39mValueError\u001b[39;00m) \u001b[39mas\u001b[39;00m exception:\n\u001b[1;32m    333\u001b[0m     \u001b[39m# Otherwise next return seems to have copy of error.\u001b[39;00m\n",
      "File \u001b[0;32m~/miniconda3/envs/mirna/lib/python3.11/site-packages/rpy2/robjects/__init__.py:459\u001b[0m, in \u001b[0;36mR.__call__\u001b[0;34m(self, string)\u001b[0m\n\u001b[1;32m    458\u001b[0m p \u001b[39m=\u001b[39m rinterface\u001b[39m.\u001b[39mparse(string)\n\u001b[0;32m--> 459\u001b[0m res \u001b[39m=\u001b[39m \u001b[39mself\u001b[39;49m\u001b[39m.\u001b[39;49meval(p)\n\u001b[1;32m    460\u001b[0m \u001b[39mreturn\u001b[39;00m conversion\u001b[39m.\u001b[39mget_conversion()\u001b[39m.\u001b[39mrpy2py(res)\n",
      "File \u001b[0;32m~/miniconda3/envs/mirna/lib/python3.11/site-packages/rpy2/robjects/functions.py:204\u001b[0m, in \u001b[0;36mSignatureTranslatedFunction.__call__\u001b[0;34m(self, *args, **kwargs)\u001b[0m\n\u001b[1;32m    203\u001b[0m         kwargs[r_k] \u001b[39m=\u001b[39m v\n\u001b[0;32m--> 204\u001b[0m \u001b[39mreturn\u001b[39;00m (\u001b[39msuper\u001b[39;49m(SignatureTranslatedFunction, \u001b[39mself\u001b[39;49m)\n\u001b[1;32m    205\u001b[0m         \u001b[39m.\u001b[39;49m\u001b[39m__call__\u001b[39;49m(\u001b[39m*\u001b[39;49margs, \u001b[39m*\u001b[39;49m\u001b[39m*\u001b[39;49mkwargs))\n",
      "File \u001b[0;32m~/miniconda3/envs/mirna/lib/python3.11/site-packages/rpy2/robjects/functions.py:127\u001b[0m, in \u001b[0;36mFunction.__call__\u001b[0;34m(self, *args, **kwargs)\u001b[0m\n\u001b[1;32m    126\u001b[0m         new_kwargs[k] \u001b[39m=\u001b[39m cv\u001b[39m.\u001b[39mpy2rpy(v)\n\u001b[0;32m--> 127\u001b[0m res \u001b[39m=\u001b[39m \u001b[39msuper\u001b[39;49m(Function, \u001b[39mself\u001b[39;49m)\u001b[39m.\u001b[39;49m\u001b[39m__call__\u001b[39;49m(\u001b[39m*\u001b[39;49mnew_args, \u001b[39m*\u001b[39;49m\u001b[39m*\u001b[39;49mnew_kwargs)\n\u001b[1;32m    128\u001b[0m res \u001b[39m=\u001b[39m cv\u001b[39m.\u001b[39mrpy2py(res)\n",
      "File \u001b[0;32m~/miniconda3/envs/mirna/lib/python3.11/site-packages/rpy2/rinterface_lib/conversion.py:45\u001b[0m, in \u001b[0;36m_cdata_res_to_rinterface.<locals>._\u001b[0;34m(*args, **kwargs)\u001b[0m\n\u001b[1;32m     44\u001b[0m \u001b[39mdef\u001b[39;00m \u001b[39m_\u001b[39m(\u001b[39m*\u001b[39margs, \u001b[39m*\u001b[39m\u001b[39m*\u001b[39mkwargs):\n\u001b[0;32m---> 45\u001b[0m     cdata \u001b[39m=\u001b[39m function(\u001b[39m*\u001b[39;49margs, \u001b[39m*\u001b[39;49m\u001b[39m*\u001b[39;49mkwargs)\n\u001b[1;32m     46\u001b[0m     \u001b[39m# TODO: test cdata is of the expected CType\u001b[39;00m\n",
      "File \u001b[0;32m~/miniconda3/envs/mirna/lib/python3.11/site-packages/rpy2/rinterface.py:815\u001b[0m, in \u001b[0;36mSexpClosure.__call__\u001b[0;34m(self, *args, **kwargs)\u001b[0m\n\u001b[1;32m    814\u001b[0m     \u001b[39mif\u001b[39;00m error_occured[\u001b[39m0\u001b[39m]:\n\u001b[0;32m--> 815\u001b[0m         \u001b[39mraise\u001b[39;00m embedded\u001b[39m.\u001b[39mRRuntimeError(_rinterface\u001b[39m.\u001b[39m_geterrmessage())\n\u001b[1;32m    816\u001b[0m \u001b[39mreturn\u001b[39;00m res\n",
      "\u001b[0;31mRRuntimeError\u001b[0m: Error in library(GenomicFeatures) : \n  there is no package called ‘GenomicFeatures’\n",
      "\nDuring handling of the above exception, another exception occurred:\n",
      "\u001b[0;31mRInterpreterError\u001b[0m                         Traceback (most recent call last)",
      "Cell \u001b[0;32mIn [2], line 1\u001b[0m\n\u001b[0;32m----> 1\u001b[0m get_ipython()\u001b[39m.\u001b[39;49mrun_cell_magic(\u001b[39m'\u001b[39;49m\u001b[39mR\u001b[39;49m\u001b[39m'\u001b[39;49m, \u001b[39m'\u001b[39;49m\u001b[39m'\u001b[39;49m, \u001b[39m'\u001b[39;49m\u001b[39m\\n\u001b[39;49;00m\u001b[39mlibrary(GenomicFeatures)\u001b[39;49m\u001b[39m\\n\u001b[39;49;00m\u001b[39mlibrary(ChIPpeakAnno)\u001b[39;49m\u001b[39m\\n\u001b[39;49;00m\u001b[39mlibrary(ChIPseeker)\u001b[39;49m\u001b[39m\\n\u001b[39;49;00m\u001b[39mlibrary(clusterProfiler)\u001b[39;49m\u001b[39m\\n\u001b[39;49;00m\u001b[39mlibrary(dplyr)\u001b[39;49m\u001b[39m\\n\u001b[39;49;00m\u001b[39mlibrary(stringr)\u001b[39;49m\u001b[39m\\n\u001b[39;49;00m\u001b[39m'\u001b[39;49m)\n",
      "File \u001b[0;32m~/miniconda3/envs/mirna/lib/python3.11/site-packages/IPython/core/interactiveshell.py:2417\u001b[0m, in \u001b[0;36mInteractiveShell.run_cell_magic\u001b[0;34m(self, magic_name, line, cell)\u001b[0m\n\u001b[1;32m   2415\u001b[0m \u001b[39mwith\u001b[39;00m \u001b[39mself\u001b[39m\u001b[39m.\u001b[39mbuiltin_trap:\n\u001b[1;32m   2416\u001b[0m     args \u001b[39m=\u001b[39m (magic_arg_s, cell)\n\u001b[0;32m-> 2417\u001b[0m     result \u001b[39m=\u001b[39m fn(\u001b[39m*\u001b[39;49margs, \u001b[39m*\u001b[39;49m\u001b[39m*\u001b[39;49mkwargs)\n\u001b[1;32m   2418\u001b[0m \u001b[39mreturn\u001b[39;00m result\n",
      "File \u001b[0;32m~/miniconda3/envs/mirna/lib/python3.11/site-packages/rpy2/ipython/rmagic.py:868\u001b[0m, in \u001b[0;36mRMagics.R\u001b[0;34m(self, line, cell, local_ns)\u001b[0m\n\u001b[1;32m    866\u001b[0m     \u001b[39mif\u001b[39;00m \u001b[39mnot\u001b[39;00m e\u001b[39m.\u001b[39mstdout\u001b[39m.\u001b[39mendswith(e\u001b[39m.\u001b[39merr):\n\u001b[1;32m    867\u001b[0m         \u001b[39mprint\u001b[39m(e\u001b[39m.\u001b[39merr)\n\u001b[0;32m--> 868\u001b[0m     \u001b[39mraise\u001b[39;00m e\n\u001b[1;32m    869\u001b[0m \u001b[39mfinally\u001b[39;00m:\n\u001b[1;32m    870\u001b[0m     \u001b[39mif\u001b[39;00m \u001b[39mself\u001b[39m\u001b[39m.\u001b[39mdevice \u001b[39min\u001b[39;00m [\u001b[39m'\u001b[39m\u001b[39mpng\u001b[39m\u001b[39m'\u001b[39m, \u001b[39m'\u001b[39m\u001b[39msvg\u001b[39m\u001b[39m'\u001b[39m]:\n",
      "File \u001b[0;32m~/miniconda3/envs/mirna/lib/python3.11/site-packages/rpy2/ipython/rmagic.py:848\u001b[0m, in \u001b[0;36mRMagics.R\u001b[0;34m(self, line, cell, local_ns)\u001b[0m\n\u001b[1;32m    846\u001b[0m         return_output \u001b[39m=\u001b[39m \u001b[39mFalse\u001b[39;00m\n\u001b[1;32m    847\u001b[0m \u001b[39melse\u001b[39;00m:\n\u001b[0;32m--> 848\u001b[0m     text_result, result, visible \u001b[39m=\u001b[39m \u001b[39mself\u001b[39;49m\u001b[39m.\u001b[39;49meval(code)\n\u001b[1;32m    849\u001b[0m     text_output \u001b[39m+\u001b[39m\u001b[39m=\u001b[39m text_result\n\u001b[1;32m    850\u001b[0m     \u001b[39mif\u001b[39;00m visible:\n",
      "File \u001b[0;32m~/miniconda3/envs/mirna/lib/python3.11/site-packages/rpy2/ipython/rmagic.py:335\u001b[0m, in \u001b[0;36mRMagics.eval\u001b[0;34m(self, code)\u001b[0m\n\u001b[1;32m    332\u001b[0m \u001b[39mexcept\u001b[39;00m (ri\u001b[39m.\u001b[39membedded\u001b[39m.\u001b[39mRRuntimeError, \u001b[39mValueError\u001b[39;00m) \u001b[39mas\u001b[39;00m exception:\n\u001b[1;32m    333\u001b[0m     \u001b[39m# Otherwise next return seems to have copy of error.\u001b[39;00m\n\u001b[1;32m    334\u001b[0m     warning_or_other_msg \u001b[39m=\u001b[39m \u001b[39mself\u001b[39m\u001b[39m.\u001b[39mflush()\n\u001b[0;32m--> 335\u001b[0m     \u001b[39mraise\u001b[39;00m RInterpreterError(code, \u001b[39mstr\u001b[39m(exception),\n\u001b[1;32m    336\u001b[0m                             warning_or_other_msg)\n\u001b[1;32m    337\u001b[0m text_output \u001b[39m=\u001b[39m \u001b[39mself\u001b[39m\u001b[39m.\u001b[39mflush()\n\u001b[1;32m    338\u001b[0m \u001b[39mreturn\u001b[39;00m text_output, value, visible[\u001b[39m0\u001b[39m]\n",
      "\u001b[0;31mRInterpreterError\u001b[0m: Failed to parse and evaluate line '\\nlibrary(GenomicFeatures)\\nlibrary(ChIPpeakAnno)\\nlibrary(ChIPseeker)\\nlibrary(clusterProfiler)\\nlibrary(dplyr)\\nlibrary(stringr)\\n'.\nR error message: 'Error in library(GenomicFeatures) : \\n  there is no package called ‘GenomicFeatures’'"
     ]
    }
   ],
   "source": [
    "%%R\n",
    "\n",
    "library(GenomicFeatures)\n",
    "library(ChIPpeakAnno)\n",
    "library(ChIPseeker)\n",
    "library(clusterProfiler)\n",
    "library(dplyr)\n",
    "library(stringr)"
   ]
  },
  {
   "cell_type": "code",
   "execution_count": 7,
   "metadata": {},
   "outputs": [],
   "source": [
    "import pandas as pd\n",
    "from pathlib import Path\n",
    "\n",
    "d_root = Path(\"/home/fpavlov/projects/article_conserved_miRNA\")\n",
    "d_data = d_root / \"data\"\n",
    "\n",
    "# output\n",
    "f_mm_v25_annotation = d_data / \"gencode.vM25.annotation.gtf.gz\"\n",
    "f_mm_v25_annotation_str = str(d_data / \"gencode.vM25.annotation.gtf.gz\")\n",
    "f_flipon_to_gene_anno = d_data / \"flipon_to_gene_anno.tsv\"\n"
   ]
  },
  {
   "cell_type": "code",
   "execution_count": null,
   "metadata": {},
   "outputs": [
    {
     "name": "stdout",
     "output_type": "stream",
     "text": [
      "/home/fpavlov/proje 100%[===================>]  27,22M   997KB/s    in 37s     \n"
     ]
    }
   ],
   "source": [
    "!wget -c -O {f_mm_v25_annotation} -q --show-progress http://ftp.ebi.ac.uk/pub/databases/gencode/Gencode_mouse/release_M25/gencode.vM25.annotation.gtf.gz"
   ]
  },
  {
   "cell_type": "code",
   "execution_count": null,
   "metadata": {},
   "outputs": [
    {
     "name": "stderr",
     "output_type": "stream",
     "text": [
      "UsageError: Line magic function `%R` not found.\n"
     ]
    }
   ],
   "source": [
    "%R -i f_mm_v25_annotation_str"
   ]
  },
  {
   "cell_type": "code",
   "execution_count": null,
   "metadata": {},
   "outputs": [],
   "source": [
    "# %%R\n",
    "\n",
    "# txdb <- makeTxDbFromGFF(f_mm_v25_annotation_str)\n",
    "\n",
    "# annoData <- toGRanges(txdb, format='gene')\n",
    "# annoData[1:2]"
   ]
  },
  {
   "cell_type": "code",
   "execution_count": null,
   "metadata": {},
   "outputs": [
    {
     "name": "stderr",
     "output_type": "stream",
     "text": [
      "UsageError: Cell magic `%%R` not found.\n"
     ]
    }
   ],
   "source": [
    "%%R\n",
    "txdb_all_annotation <- makeTxDbFromGFF(f_mm_v25_annotation_str)"
   ]
  },
  {
   "cell_type": "code",
   "execution_count": null,
   "metadata": {},
   "outputs": [
    {
     "name": "stderr",
     "output_type": "stream",
     "text": [
      "UsageError: Cell magic `%%R` not found.\n"
     ]
    }
   ],
   "source": [
    "%%R\n",
    "\n",
    "# https://www.biostars.org/p/140471/\n",
    "gtf.file = f_mm_v25_annotation_str\n",
    "gtf.gr = rtracklayer::import(gtf.file) # creates a GRanges object\n",
    "gtf.df = as.data.frame(gtf.gr)\n",
    "\n",
    "genes = unique(gtf.df[ ,c(\"gene_id\",\"gene_name\")])\n",
    "# genes"
   ]
  },
  {
   "cell_type": "code",
   "execution_count": null,
   "metadata": {},
   "outputs": [
    {
     "name": "stderr",
     "output_type": "stream",
     "text": [
      "UsageError: Line magic function `%R` not found.\n"
     ]
    }
   ],
   "source": [
    "ssdna_list = [\n",
    "    str(d_data / \"mm10_kouzine_ssDNA_bed\" / \"mm10_kouzine_actb_ssdna_enriched_z-dna.bed\"),\n",
    "    str(d_data / \"mm10_kouzine_ssDNA_bed\" / \"mm10_kouzine_actb_ssdna_enriched_quadruplex.bed\"),\n",
    "    str(d_data / \"mm10_kouzine_ssDNA_bed\" / \"mm10_kouzine_actb_ssdna_enriched_sidd.bed\"),\n",
    "    str(d_data / \"mm10_kouzine_ssDNA_bed\" / \"mm10_kouzine_actb_ssdna_enriched_h-dna.bed\"),\n",
    "]\n",
    "\n",
    "%R -i ssdna_list"
   ]
  },
  {
   "cell_type": "code",
   "execution_count": null,
   "metadata": {},
   "outputs": [
    {
     "name": "stderr",
     "output_type": "stream",
     "text": [
      "UsageError: Cell magic `%%R` not found.\n"
     ]
    }
   ],
   "source": [
    "%%R\n",
    "\n",
    "df_final <- data.frame()\n",
    "\n",
    "for (ssdna in ssdna_list) {\n",
    "  # print('--------------------------------------------')\n",
    "  # print(ssdna)\n",
    "  # print('--------------------------------------------')\n",
    "  peakAnno <- annotatePeak(ssdna, tssRegion=c(-3000, 3000), TxDb=txdb_all_annotation)\n",
    "  # print(peakAnno)\n",
    "\n",
    "  anno_df <- data.frame(peakAnno@anno)\n",
    "  # res_df <- anno_df[grepl(\"Promoter\", anno_df$annotation),]\n",
    "  res_df <- anno_df[c('V4', 'seqnames','start','end','geneStrand','annotation','geneId','transcriptId')]\n",
    "  # res_df <- anno_df[grepl(\"Promoter\", anno_df$annotation),][c('annotation', 'geneId')]\n",
    "  # res_df <- distinct(res_df, geneId, .keep_all=TRUE)\n",
    "  res_df$group <- str_replace(str_split(ssdna, 'enriched_')[[1]][2], '.bed', '')\n",
    "  res_df <- merge(res_df, genes, by.x='geneId', by.y='gene_id')\n",
    "\n",
    "  df_final <- bind_rows(df_final, res_df)\n",
    "  \n",
    "  # print(dim(res_df))\n",
    "}\n",
    "\n",
    "# write.table(df_final, 'flipon_to_gene_anno.tsv', append=FALSE, sep=\"\\t\", dec=\".\", row.names=FALSE, col.names = TRUE)\n",
    "# df_final\n"
   ]
  },
  {
   "cell_type": "code",
   "execution_count": null,
   "metadata": {},
   "outputs": [
    {
     "name": "stderr",
     "output_type": "stream",
     "text": [
      "UsageError: Line magic function `%R` not found.\n"
     ]
    }
   ],
   "source": [
    "df_final = %R df_final\n",
    "\n",
    "df_final = df_final[['V4', 'seqnames', 'start', 'end', 'geneId', 'gene_name', 'transcriptId', 'geneStrand', 'annotation', 'group']]\n",
    "\n",
    "df_final.to_csv(f_flipon_to_gene_anno, sep='\\t', index=False)\n",
    "df_final"
   ]
  },
  {
   "cell_type": "code",
   "execution_count": null,
   "metadata": {},
   "outputs": [],
   "source": [
    "# chr13 78,198,426 - 78,198,445\n"
   ]
  },
  {
   "cell_type": "code",
   "execution_count": 9,
   "metadata": {},
   "outputs": [
    {
     "data": {
      "text/html": [
       "<div>\n",
       "<style scoped>\n",
       "    .dataframe tbody tr th:only-of-type {\n",
       "        vertical-align: middle;\n",
       "    }\n",
       "\n",
       "    .dataframe tbody tr th {\n",
       "        vertical-align: top;\n",
       "    }\n",
       "\n",
       "    .dataframe thead th {\n",
       "        text-align: right;\n",
       "    }\n",
       "</style>\n",
       "<table border=\"1\" class=\"dataframe\">\n",
       "  <thead>\n",
       "    <tr style=\"text-align: right;\">\n",
       "      <th></th>\n",
       "      <th>V4</th>\n",
       "      <th>seqnames</th>\n",
       "      <th>start</th>\n",
       "      <th>end</th>\n",
       "      <th>geneId</th>\n",
       "      <th>gene_name</th>\n",
       "      <th>transcriptId</th>\n",
       "      <th>geneStrand</th>\n",
       "      <th>annotation</th>\n",
       "      <th>group</th>\n",
       "    </tr>\n",
       "  </thead>\n",
       "  <tbody>\n",
       "    <tr>\n",
       "      <th>17461</th>\n",
       "      <td>chr13:78198426-78198445</td>\n",
       "      <td>13</td>\n",
       "      <td>78198427</td>\n",
       "      <td>78198445</td>\n",
       "      <td>ENSMUSG00000087143.9</td>\n",
       "      <td>A830082K12Rik</td>\n",
       "      <td>ENSMUST00000145613.7</td>\n",
       "      <td>1</td>\n",
       "      <td>Promoter (&lt;=1kb)</td>\n",
       "      <td>z-dna</td>\n",
       "    </tr>\n",
       "  </tbody>\n",
       "</table>\n",
       "</div>"
      ],
      "text/plain": [
       "                            V4  seqnames     start       end  \\\n",
       "17461  chr13:78198426-78198445        13  78198427  78198445   \n",
       "\n",
       "                     geneId      gene_name          transcriptId  geneStrand  \\\n",
       "17461  ENSMUSG00000087143.9  A830082K12Rik  ENSMUST00000145613.7           1   \n",
       "\n",
       "             annotation  group  \n",
       "17461  Promoter (<=1kb)  z-dna  "
      ]
     },
     "execution_count": 9,
     "metadata": {},
     "output_type": "execute_result"
    }
   ],
   "source": [
    "df_final = pd.read_table(f_flipon_to_gene_anno)\n",
    "\n",
    "df_final = df_final[df_final['V4']==\"chr13:78198426-78198445\"]\n",
    "\n",
    "df_final"
   ]
  }
 ],
 "metadata": {
  "kernelspec": {
   "display_name": "Python 3.10.6 ('mirna')",
   "language": "python",
   "name": "python3"
  },
  "language_info": {
   "codemirror_mode": {
    "name": "ipython",
    "version": 3
   },
   "file_extension": ".py",
   "mimetype": "text/x-python",
   "name": "python",
   "nbconvert_exporter": "python",
   "pygments_lexer": "ipython3",
   "version": "3.11.0"
  },
  "orig_nbformat": 4,
  "vscode": {
   "interpreter": {
    "hash": "aa4ca5e43b0b74394dc05f972f57eb4922712b4f4450a8ee4f1bf77784cf2ccc"
   }
  }
 },
 "nbformat": 4,
 "nbformat_minor": 2
}
