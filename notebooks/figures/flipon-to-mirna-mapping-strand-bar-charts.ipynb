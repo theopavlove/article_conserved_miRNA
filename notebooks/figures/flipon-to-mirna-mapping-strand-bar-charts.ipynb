{
 "cells": [
  {
   "cell_type": "code",
   "execution_count": 2,
   "metadata": {},
   "outputs": [],
   "source": [
    "import numpy as np\n",
    "import pandas as pd\n",
    "import plotly.graph_objects as pgo\n",
    "import plotly.subplots as ps\n",
    "import plotly.express as px\n",
    "\n",
    "from pathlib import Path\n",
    "\n",
    "pd.set_option('display.max_rows', 4)\n",
    "\n",
    "d_root = Path(\"/home/fpavlov/projects/article_conserved_miRNA\")\n",
    "d_data = d_root / \"data\"\n",
    "d_img = d_root / \"img\"\n",
    "\n",
    "# Input\n",
    "f_flipon_to_data = d_data / \"flipon_to_data.tsv\"\n",
    "f_flipon_to_data_og = d_data / \"flipon_to_data_og.tsv\"\n"
   ]
  },
  {
   "cell_type": "code",
   "execution_count": 139,
   "metadata": {},
   "outputs": [],
   "source": [
    "def get_mirna_number(array: list):\n",
    "    total = 0\n",
    "    for mirna in array:\n",
    "        if '(' in mirna:\n",
    "            mirna_number = int(''.join(mirna.split(' (')[-1][:-1]))\n",
    "            if mirna_number > 10:\n",
    "                total += 1\n",
    "            else:\n",
    "                total += mirna_number\n",
    "        else:\n",
    "            total += 1\n",
    "    return total"
   ]
  },
  {
   "cell_type": "code",
   "execution_count": 142,
   "metadata": {},
   "outputs": [
    {
     "name": "stderr",
     "output_type": "stream",
     "text": [
      "/tmp/ipykernel_3729446/2064991331.py:1: DtypeWarning:\n",
      "\n",
      "Columns (4) have mixed types. Specify dtype option on import or set low_memory=False.\n",
      "\n"
     ]
    },
    {
     "data": {
      "application/vnd.plotly.v1+json": {
       "config": {
        "plotlyServerURL": "https://plot.ly"
       },
       "data": [
        {
         "marker": {
          "color": "tomato"
         },
         "name": "+ strand",
         "orientation": "h",
         "showlegend": true,
         "textposition": [
          "inside",
          "inside",
          "inside",
          "outside",
          "outside",
          "outside",
          "outside",
          "outside",
          "outside",
          "outside",
          "outside"
         ],
         "texttemplate": "%{x:,d}",
         "type": "bar",
         "width": 0.45,
         "x": [
          15683,
          3737,
          638,
          127,
          31,
          13,
          10,
          6,
          4,
          1,
          1
         ],
         "xaxis": "x",
         "y": [
          0,
          1,
          2,
          3,
          4,
          5,
          6,
          7,
          9,
          10,
          8
         ],
         "yaxis": "y"
        },
        {
         "marker": {
          "color": "royalblue"
         },
         "name": "- strand",
         "orientation": "h",
         "showlegend": true,
         "textposition": [
          "inside",
          "inside",
          "inside",
          "outside",
          "outside",
          "outside",
          "outside",
          "outside",
          "outside",
          "outside",
          "outside",
          "outside"
         ],
         "texttemplate": "%{x:,d}",
         "type": "bar",
         "width": 0.45,
         "x": [
          15755,
          3612,
          699,
          121,
          37,
          11,
          7,
          2,
          2,
          2,
          2,
          1
         ],
         "xaxis": "x",
         "y": [
          0,
          1,
          2,
          3,
          4,
          5,
          6,
          7,
          8,
          10,
          9,
          11
         ],
         "yaxis": "y"
        },
        {
         "marker": {
          "color": "tomato"
         },
         "name": "+ strand",
         "orientation": "h",
         "showlegend": false,
         "textposition": [
          "inside",
          "inside",
          "inside",
          "outside",
          "outside",
          "outside",
          "outside",
          "outside",
          "outside"
         ],
         "texttemplate": "%{x:,d}",
         "type": "bar",
         "width": 0.45,
         "x": [
          21666,
          2616,
          580,
          117,
          50,
          13,
          12,
          2,
          1
         ],
         "xaxis": "x2",
         "y": [
          0,
          1,
          2,
          3,
          4,
          5,
          6,
          7,
          8
         ],
         "yaxis": "y2"
        },
        {
         "marker": {
          "color": "royalblue"
         },
         "name": "- strand",
         "orientation": "h",
         "showlegend": false,
         "textposition": [
          "inside",
          "inside",
          "inside",
          "outside",
          "outside",
          "outside",
          "outside",
          "outside",
          "outside"
         ],
         "texttemplate": "%{x:,d}",
         "type": "bar",
         "width": 0.45,
         "x": [
          21709,
          2731,
          402,
          116,
          57,
          28,
          7,
          4,
          3
         ],
         "xaxis": "x2",
         "y": [
          0,
          1,
          2,
          3,
          4,
          5,
          6,
          7,
          8
         ],
         "yaxis": "y2"
        },
        {
         "marker": {
          "color": "tomato"
         },
         "name": "+ strand",
         "orientation": "h",
         "showlegend": false,
         "textposition": [
          "inside",
          "inside",
          "inside",
          "inside",
          "inside",
          "inside",
          "outside",
          "outside",
          "outside",
          "outside",
          "outside",
          "outside",
          "outside",
          "outside"
         ],
         "texttemplate": "%{x:,d}",
         "type": "bar",
         "width": 0.45,
         "x": [
          4117,
          3578,
          3153,
          2391,
          1194,
          518,
          218,
          79,
          26,
          12,
          4,
          2,
          1,
          1
         ],
         "xaxis": "x3",
         "y": [
          1,
          2,
          0,
          3,
          4,
          5,
          6,
          7,
          8,
          9,
          10,
          14,
          15,
          13
         ],
         "yaxis": "y3"
        },
        {
         "marker": {
          "color": "royalblue"
         },
         "name": "- strand",
         "orientation": "h",
         "showlegend": false,
         "textposition": [
          "inside",
          "inside",
          "inside",
          "inside",
          "inside",
          "inside",
          "outside",
          "outside",
          "outside",
          "outside",
          "outside",
          "outside",
          "outside",
          "outside"
         ],
         "texttemplate": "%{x:,d}",
         "type": "bar",
         "width": 0.45,
         "x": [
          4158,
          3578,
          3048,
          2418,
          1219,
          525,
          212,
          80,
          32,
          16,
          4,
          2,
          1,
          1
         ],
         "xaxis": "x3",
         "y": [
          1,
          2,
          0,
          3,
          4,
          5,
          6,
          7,
          8,
          9,
          11,
          10,
          14,
          12
         ],
         "yaxis": "y3"
        },
        {
         "marker": {
          "color": "tomato"
         },
         "name": "+ strand",
         "orientation": "h",
         "showlegend": false,
         "textposition": [
          "inside",
          "inside",
          "outside",
          "outside",
          "outside",
          "outside",
          "outside",
          "outside",
          "outside",
          "outside"
         ],
         "texttemplate": "%{x:,d}",
         "type": "bar",
         "width": 0.45,
         "x": [
          15624,
          1066,
          279,
          69,
          23,
          14,
          9,
          7,
          6,
          1
         ],
         "xaxis": "x4",
         "y": [
          0,
          1,
          2,
          3,
          4,
          5,
          6,
          8,
          7,
          10
         ],
         "yaxis": "y4"
        },
        {
         "marker": {
          "color": "royalblue"
         },
         "name": "- strand",
         "orientation": "h",
         "showlegend": false,
         "textposition": [
          "inside",
          "inside",
          "outside",
          "outside",
          "outside",
          "outside",
          "outside",
          "outside",
          "outside",
          "outside",
          "outside"
         ],
         "texttemplate": "%{x:,d}",
         "type": "bar",
         "width": 0.45,
         "x": [
          15623,
          1094,
          270,
          48,
          25,
          16,
          10,
          6,
          3,
          2,
          1
         ],
         "xaxis": "x4",
         "y": [
          0,
          1,
          2,
          3,
          4,
          5,
          6,
          7,
          8,
          9,
          11
         ],
         "yaxis": "y4"
        }
       ],
       "layout": {
        "annotations": [
         {
          "font": {
           "size": 14
          },
          "showarrow": false,
          "text": "<b>G4</b> (40,502)",
          "x": 0.1235,
          "xanchor": "center",
          "xref": "paper",
          "y": 1,
          "yanchor": "bottom",
          "yref": "paper"
         },
         {
          "font": {
           "size": 14
          },
          "showarrow": false,
          "text": "<b>Z-DNA</b> (50,114)",
          "x": 0.3745,
          "xanchor": "center",
          "xref": "paper",
          "y": 1,
          "yanchor": "bottom",
          "yref": "paper"
         },
         {
          "font": {
           "size": 14
          },
          "showarrow": false,
          "text": "<b>SIDD</b> (30,588)",
          "x": 0.6255,
          "xanchor": "center",
          "xref": "paper",
          "y": 1,
          "yanchor": "bottom",
          "yref": "paper"
         },
         {
          "font": {
           "size": 14
          },
          "showarrow": false,
          "text": "<b>H-DNA</b> (34,196)",
          "x": 0.8765000000000001,
          "xanchor": "center",
          "xref": "paper",
          "y": 1,
          "yanchor": "bottom",
          "yref": "paper"
         },
         {
          "font": {
           "size": 14
          },
          "showarrow": false,
          "text": "Flipon count",
          "x": 0.5,
          "xanchor": "center",
          "xref": "paper",
          "y": 0,
          "yanchor": "top",
          "yref": "paper",
          "yshift": -30
         },
         {
          "font": {
           "size": 14
          },
          "showarrow": false,
          "text": "Number of miRNAs per flipon",
          "textangle": -90,
          "x": 0,
          "xanchor": "right",
          "xref": "paper",
          "xshift": -40,
          "y": 0.5,
          "yanchor": "middle",
          "yref": "paper"
         }
        ],
        "font": {
         "family": "monospace",
         "size": 12
        },
        "height": 700,
        "legend": {
         "orientation": "h",
         "x": 1,
         "xanchor": "right",
         "y": 1.05,
         "yanchor": "bottom"
        },
        "margin": {
         "b": 60,
         "l": 60,
         "r": 5,
         "t": 25
        },
        "template": {
         "data": {
          "bar": [
           {
            "error_x": {
             "color": "rgb(51,51,51)"
            },
            "error_y": {
             "color": "rgb(51,51,51)"
            },
            "marker": {
             "line": {
              "color": "rgb(237,237,237)",
              "width": 0.5
             },
             "pattern": {
              "fillmode": "overlay",
              "size": 10,
              "solidity": 0.2
             }
            },
            "type": "bar"
           }
          ],
          "barpolar": [
           {
            "marker": {
             "line": {
              "color": "rgb(237,237,237)",
              "width": 0.5
             },
             "pattern": {
              "fillmode": "overlay",
              "size": 10,
              "solidity": 0.2
             }
            },
            "type": "barpolar"
           }
          ],
          "carpet": [
           {
            "aaxis": {
             "endlinecolor": "rgb(51,51,51)",
             "gridcolor": "white",
             "linecolor": "white",
             "minorgridcolor": "white",
             "startlinecolor": "rgb(51,51,51)"
            },
            "baxis": {
             "endlinecolor": "rgb(51,51,51)",
             "gridcolor": "white",
             "linecolor": "white",
             "minorgridcolor": "white",
             "startlinecolor": "rgb(51,51,51)"
            },
            "type": "carpet"
           }
          ],
          "choropleth": [
           {
            "colorbar": {
             "outlinewidth": 0,
             "tickcolor": "rgb(237,237,237)",
             "ticklen": 6,
             "ticks": "inside"
            },
            "type": "choropleth"
           }
          ],
          "contour": [
           {
            "colorbar": {
             "outlinewidth": 0,
             "tickcolor": "rgb(237,237,237)",
             "ticklen": 6,
             "ticks": "inside"
            },
            "colorscale": [
             [
              0,
              "rgb(20,44,66)"
             ],
             [
              1,
              "rgb(90,179,244)"
             ]
            ],
            "type": "contour"
           }
          ],
          "contourcarpet": [
           {
            "colorbar": {
             "outlinewidth": 0,
             "tickcolor": "rgb(237,237,237)",
             "ticklen": 6,
             "ticks": "inside"
            },
            "type": "contourcarpet"
           }
          ],
          "heatmap": [
           {
            "colorbar": {
             "outlinewidth": 0,
             "tickcolor": "rgb(237,237,237)",
             "ticklen": 6,
             "ticks": "inside"
            },
            "colorscale": [
             [
              0,
              "rgb(20,44,66)"
             ],
             [
              1,
              "rgb(90,179,244)"
             ]
            ],
            "type": "heatmap"
           }
          ],
          "heatmapgl": [
           {
            "colorbar": {
             "outlinewidth": 0,
             "tickcolor": "rgb(237,237,237)",
             "ticklen": 6,
             "ticks": "inside"
            },
            "colorscale": [
             [
              0,
              "rgb(20,44,66)"
             ],
             [
              1,
              "rgb(90,179,244)"
             ]
            ],
            "type": "heatmapgl"
           }
          ],
          "histogram": [
           {
            "marker": {
             "pattern": {
              "fillmode": "overlay",
              "size": 10,
              "solidity": 0.2
             }
            },
            "type": "histogram"
           }
          ],
          "histogram2d": [
           {
            "colorbar": {
             "outlinewidth": 0,
             "tickcolor": "rgb(237,237,237)",
             "ticklen": 6,
             "ticks": "inside"
            },
            "colorscale": [
             [
              0,
              "rgb(20,44,66)"
             ],
             [
              1,
              "rgb(90,179,244)"
             ]
            ],
            "type": "histogram2d"
           }
          ],
          "histogram2dcontour": [
           {
            "colorbar": {
             "outlinewidth": 0,
             "tickcolor": "rgb(237,237,237)",
             "ticklen": 6,
             "ticks": "inside"
            },
            "colorscale": [
             [
              0,
              "rgb(20,44,66)"
             ],
             [
              1,
              "rgb(90,179,244)"
             ]
            ],
            "type": "histogram2dcontour"
           }
          ],
          "mesh3d": [
           {
            "colorbar": {
             "outlinewidth": 0,
             "tickcolor": "rgb(237,237,237)",
             "ticklen": 6,
             "ticks": "inside"
            },
            "type": "mesh3d"
           }
          ],
          "parcoords": [
           {
            "line": {
             "colorbar": {
              "outlinewidth": 0,
              "tickcolor": "rgb(237,237,237)",
              "ticklen": 6,
              "ticks": "inside"
             }
            },
            "type": "parcoords"
           }
          ],
          "pie": [
           {
            "automargin": true,
            "type": "pie"
           }
          ],
          "scatter": [
           {
            "fillpattern": {
             "fillmode": "overlay",
             "size": 10,
             "solidity": 0.2
            },
            "type": "scatter"
           }
          ],
          "scatter3d": [
           {
            "line": {
             "colorbar": {
              "outlinewidth": 0,
              "tickcolor": "rgb(237,237,237)",
              "ticklen": 6,
              "ticks": "inside"
             }
            },
            "marker": {
             "colorbar": {
              "outlinewidth": 0,
              "tickcolor": "rgb(237,237,237)",
              "ticklen": 6,
              "ticks": "inside"
             }
            },
            "type": "scatter3d"
           }
          ],
          "scattercarpet": [
           {
            "marker": {
             "colorbar": {
              "outlinewidth": 0,
              "tickcolor": "rgb(237,237,237)",
              "ticklen": 6,
              "ticks": "inside"
             }
            },
            "type": "scattercarpet"
           }
          ],
          "scattergeo": [
           {
            "marker": {
             "colorbar": {
              "outlinewidth": 0,
              "tickcolor": "rgb(237,237,237)",
              "ticklen": 6,
              "ticks": "inside"
             }
            },
            "type": "scattergeo"
           }
          ],
          "scattergl": [
           {
            "marker": {
             "colorbar": {
              "outlinewidth": 0,
              "tickcolor": "rgb(237,237,237)",
              "ticklen": 6,
              "ticks": "inside"
             }
            },
            "type": "scattergl"
           }
          ],
          "scattermapbox": [
           {
            "marker": {
             "colorbar": {
              "outlinewidth": 0,
              "tickcolor": "rgb(237,237,237)",
              "ticklen": 6,
              "ticks": "inside"
             }
            },
            "type": "scattermapbox"
           }
          ],
          "scatterpolar": [
           {
            "marker": {
             "colorbar": {
              "outlinewidth": 0,
              "tickcolor": "rgb(237,237,237)",
              "ticklen": 6,
              "ticks": "inside"
             }
            },
            "type": "scatterpolar"
           }
          ],
          "scatterpolargl": [
           {
            "marker": {
             "colorbar": {
              "outlinewidth": 0,
              "tickcolor": "rgb(237,237,237)",
              "ticklen": 6,
              "ticks": "inside"
             }
            },
            "type": "scatterpolargl"
           }
          ],
          "scatterternary": [
           {
            "marker": {
             "colorbar": {
              "outlinewidth": 0,
              "tickcolor": "rgb(237,237,237)",
              "ticklen": 6,
              "ticks": "inside"
             }
            },
            "type": "scatterternary"
           }
          ],
          "surface": [
           {
            "colorbar": {
             "outlinewidth": 0,
             "tickcolor": "rgb(237,237,237)",
             "ticklen": 6,
             "ticks": "inside"
            },
            "colorscale": [
             [
              0,
              "rgb(20,44,66)"
             ],
             [
              1,
              "rgb(90,179,244)"
             ]
            ],
            "type": "surface"
           }
          ],
          "table": [
           {
            "cells": {
             "fill": {
              "color": "rgb(237,237,237)"
             },
             "line": {
              "color": "white"
             }
            },
            "header": {
             "fill": {
              "color": "rgb(217,217,217)"
             },
             "line": {
              "color": "white"
             }
            },
            "type": "table"
           }
          ]
         },
         "layout": {
          "annotationdefaults": {
           "arrowhead": 0,
           "arrowwidth": 1
          },
          "autotypenumbers": "strict",
          "coloraxis": {
           "colorbar": {
            "outlinewidth": 0,
            "tickcolor": "rgb(237,237,237)",
            "ticklen": 6,
            "ticks": "inside"
           }
          },
          "colorscale": {
           "sequential": [
            [
             0,
             "rgb(20,44,66)"
            ],
            [
             1,
             "rgb(90,179,244)"
            ]
           ],
           "sequentialminus": [
            [
             0,
             "rgb(20,44,66)"
            ],
            [
             1,
             "rgb(90,179,244)"
            ]
           ]
          },
          "colorway": [
           "#F8766D",
           "#A3A500",
           "#00BF7D",
           "#00B0F6",
           "#E76BF3"
          ],
          "font": {
           "color": "rgb(51,51,51)"
          },
          "geo": {
           "bgcolor": "white",
           "lakecolor": "white",
           "landcolor": "rgb(237,237,237)",
           "showlakes": true,
           "showland": true,
           "subunitcolor": "white"
          },
          "hoverlabel": {
           "align": "left"
          },
          "hovermode": "closest",
          "paper_bgcolor": "white",
          "plot_bgcolor": "rgb(237,237,237)",
          "polar": {
           "angularaxis": {
            "gridcolor": "white",
            "linecolor": "white",
            "showgrid": true,
            "tickcolor": "rgb(51,51,51)",
            "ticks": "outside"
           },
           "bgcolor": "rgb(237,237,237)",
           "radialaxis": {
            "gridcolor": "white",
            "linecolor": "white",
            "showgrid": true,
            "tickcolor": "rgb(51,51,51)",
            "ticks": "outside"
           }
          },
          "scene": {
           "xaxis": {
            "backgroundcolor": "rgb(237,237,237)",
            "gridcolor": "white",
            "gridwidth": 2,
            "linecolor": "white",
            "showbackground": true,
            "showgrid": true,
            "tickcolor": "rgb(51,51,51)",
            "ticks": "outside",
            "zerolinecolor": "white"
           },
           "yaxis": {
            "backgroundcolor": "rgb(237,237,237)",
            "gridcolor": "white",
            "gridwidth": 2,
            "linecolor": "white",
            "showbackground": true,
            "showgrid": true,
            "tickcolor": "rgb(51,51,51)",
            "ticks": "outside",
            "zerolinecolor": "white"
           },
           "zaxis": {
            "backgroundcolor": "rgb(237,237,237)",
            "gridcolor": "white",
            "gridwidth": 2,
            "linecolor": "white",
            "showbackground": true,
            "showgrid": true,
            "tickcolor": "rgb(51,51,51)",
            "ticks": "outside",
            "zerolinecolor": "white"
           }
          },
          "shapedefaults": {
           "fillcolor": "black",
           "line": {
            "width": 0
           },
           "opacity": 0.3
          },
          "ternary": {
           "aaxis": {
            "gridcolor": "white",
            "linecolor": "white",
            "showgrid": true,
            "tickcolor": "rgb(51,51,51)",
            "ticks": "outside"
           },
           "baxis": {
            "gridcolor": "white",
            "linecolor": "white",
            "showgrid": true,
            "tickcolor": "rgb(51,51,51)",
            "ticks": "outside"
           },
           "bgcolor": "rgb(237,237,237)",
           "caxis": {
            "gridcolor": "white",
            "linecolor": "white",
            "showgrid": true,
            "tickcolor": "rgb(51,51,51)",
            "ticks": "outside"
           }
          },
          "xaxis": {
           "automargin": true,
           "gridcolor": "white",
           "linecolor": "white",
           "showgrid": true,
           "tickcolor": "rgb(51,51,51)",
           "ticks": "outside",
           "title": {
            "standoff": 15
           },
           "zerolinecolor": "white"
          },
          "yaxis": {
           "automargin": true,
           "gridcolor": "white",
           "linecolor": "white",
           "showgrid": true,
           "tickcolor": "rgb(51,51,51)",
           "ticks": "outside",
           "title": {
            "standoff": 15
           },
           "zerolinecolor": "white"
          }
         }
        },
        "uniformtext": {
         "minsize": 12,
         "mode": "show"
        },
        "width": 1600,
        "xaxis": {
         "anchor": "y",
         "domain": [
          0,
          0.247
         ],
         "tickformat": "s",
         "ticks": "outside"
        },
        "xaxis2": {
         "anchor": "y2",
         "domain": [
          0.251,
          0.498
         ],
         "matches": "x",
         "tickformat": "s",
         "ticks": "outside"
        },
        "xaxis3": {
         "anchor": "y3",
         "domain": [
          0.502,
          0.749
         ],
         "matches": "x",
         "tickformat": "s",
         "ticks": "outside"
        },
        "xaxis4": {
         "anchor": "y4",
         "domain": [
          0.753,
          1
         ],
         "matches": "x",
         "tickformat": "s",
         "ticks": "outside"
        },
        "yaxis": {
         "anchor": "x",
         "domain": [
          0,
          1
         ],
         "dtick": 1
        },
        "yaxis2": {
         "anchor": "x2",
         "domain": [
          0,
          1
         ],
         "dtick": 1,
         "matches": "y",
         "showticklabels": false,
         "ticks": ""
        },
        "yaxis3": {
         "anchor": "x3",
         "domain": [
          0,
          1
         ],
         "dtick": 1,
         "matches": "y",
         "showticklabels": false,
         "ticks": ""
        },
        "yaxis4": {
         "anchor": "x4",
         "domain": [
          0,
          1
         ],
         "dtick": 1,
         "matches": "y",
         "showticklabels": false,
         "ticks": ""
        }
       }
      },
      "text/html": [
       "<div>                            <div id=\"9f22091a-5d4b-4a7e-b291-940cc9a162a7\" class=\"plotly-graph-div\" style=\"height:700px; width:1600px;\"></div>            <script type=\"text/javascript\">                require([\"plotly\"], function(Plotly) {                    window.PLOTLYENV=window.PLOTLYENV || {};                                    if (document.getElementById(\"9f22091a-5d4b-4a7e-b291-940cc9a162a7\")) {                    Plotly.newPlot(                        \"9f22091a-5d4b-4a7e-b291-940cc9a162a7\",                        [{\"marker\":{\"color\":\"tomato\"},\"name\":\"+ strand\",\"orientation\":\"h\",\"showlegend\":true,\"textposition\":[\"inside\",\"inside\",\"inside\",\"outside\",\"outside\",\"outside\",\"outside\",\"outside\",\"outside\",\"outside\",\"outside\"],\"texttemplate\":\"%{x:,d}\",\"width\":0.45,\"x\":[15683,3737,638,127,31,13,10,6,4,1,1],\"y\":[0,1,2,3,4,5,6,7,9,10,8],\"type\":\"bar\",\"xaxis\":\"x\",\"yaxis\":\"y\"},{\"marker\":{\"color\":\"royalblue\"},\"name\":\"- strand\",\"orientation\":\"h\",\"showlegend\":true,\"textposition\":[\"inside\",\"inside\",\"inside\",\"outside\",\"outside\",\"outside\",\"outside\",\"outside\",\"outside\",\"outside\",\"outside\",\"outside\"],\"texttemplate\":\"%{x:,d}\",\"width\":0.45,\"x\":[15755,3612,699,121,37,11,7,2,2,2,2,1],\"y\":[0,1,2,3,4,5,6,7,8,10,9,11],\"type\":\"bar\",\"xaxis\":\"x\",\"yaxis\":\"y\"},{\"marker\":{\"color\":\"tomato\"},\"name\":\"+ strand\",\"orientation\":\"h\",\"showlegend\":false,\"textposition\":[\"inside\",\"inside\",\"inside\",\"outside\",\"outside\",\"outside\",\"outside\",\"outside\",\"outside\"],\"texttemplate\":\"%{x:,d}\",\"width\":0.45,\"x\":[21666,2616,580,117,50,13,12,2,1],\"y\":[0,1,2,3,4,5,6,7,8],\"type\":\"bar\",\"xaxis\":\"x2\",\"yaxis\":\"y2\"},{\"marker\":{\"color\":\"royalblue\"},\"name\":\"- strand\",\"orientation\":\"h\",\"showlegend\":false,\"textposition\":[\"inside\",\"inside\",\"inside\",\"outside\",\"outside\",\"outside\",\"outside\",\"outside\",\"outside\"],\"texttemplate\":\"%{x:,d}\",\"width\":0.45,\"x\":[21709,2731,402,116,57,28,7,4,3],\"y\":[0,1,2,3,4,5,6,7,8],\"type\":\"bar\",\"xaxis\":\"x2\",\"yaxis\":\"y2\"},{\"marker\":{\"color\":\"tomato\"},\"name\":\"+ strand\",\"orientation\":\"h\",\"showlegend\":false,\"textposition\":[\"inside\",\"inside\",\"inside\",\"inside\",\"inside\",\"inside\",\"outside\",\"outside\",\"outside\",\"outside\",\"outside\",\"outside\",\"outside\",\"outside\"],\"texttemplate\":\"%{x:,d}\",\"width\":0.45,\"x\":[4117,3578,3153,2391,1194,518,218,79,26,12,4,2,1,1],\"y\":[1,2,0,3,4,5,6,7,8,9,10,14,15,13],\"type\":\"bar\",\"xaxis\":\"x3\",\"yaxis\":\"y3\"},{\"marker\":{\"color\":\"royalblue\"},\"name\":\"- strand\",\"orientation\":\"h\",\"showlegend\":false,\"textposition\":[\"inside\",\"inside\",\"inside\",\"inside\",\"inside\",\"inside\",\"outside\",\"outside\",\"outside\",\"outside\",\"outside\",\"outside\",\"outside\",\"outside\"],\"texttemplate\":\"%{x:,d}\",\"width\":0.45,\"x\":[4158,3578,3048,2418,1219,525,212,80,32,16,4,2,1,1],\"y\":[1,2,0,3,4,5,6,7,8,9,11,10,14,12],\"type\":\"bar\",\"xaxis\":\"x3\",\"yaxis\":\"y3\"},{\"marker\":{\"color\":\"tomato\"},\"name\":\"+ strand\",\"orientation\":\"h\",\"showlegend\":false,\"textposition\":[\"inside\",\"inside\",\"outside\",\"outside\",\"outside\",\"outside\",\"outside\",\"outside\",\"outside\",\"outside\"],\"texttemplate\":\"%{x:,d}\",\"width\":0.45,\"x\":[15624,1066,279,69,23,14,9,7,6,1],\"y\":[0,1,2,3,4,5,6,8,7,10],\"type\":\"bar\",\"xaxis\":\"x4\",\"yaxis\":\"y4\"},{\"marker\":{\"color\":\"royalblue\"},\"name\":\"- strand\",\"orientation\":\"h\",\"showlegend\":false,\"textposition\":[\"inside\",\"inside\",\"outside\",\"outside\",\"outside\",\"outside\",\"outside\",\"outside\",\"outside\",\"outside\",\"outside\"],\"texttemplate\":\"%{x:,d}\",\"width\":0.45,\"x\":[15623,1094,270,48,25,16,10,6,3,2,1],\"y\":[0,1,2,3,4,5,6,7,8,9,11],\"type\":\"bar\",\"xaxis\":\"x4\",\"yaxis\":\"y4\"}],                        {\"template\":{\"data\":{\"barpolar\":[{\"marker\":{\"line\":{\"color\":\"rgb(237,237,237)\",\"width\":0.5},\"pattern\":{\"fillmode\":\"overlay\",\"size\":10,\"solidity\":0.2}},\"type\":\"barpolar\"}],\"bar\":[{\"error_x\":{\"color\":\"rgb(51,51,51)\"},\"error_y\":{\"color\":\"rgb(51,51,51)\"},\"marker\":{\"line\":{\"color\":\"rgb(237,237,237)\",\"width\":0.5},\"pattern\":{\"fillmode\":\"overlay\",\"size\":10,\"solidity\":0.2}},\"type\":\"bar\"}],\"carpet\":[{\"aaxis\":{\"endlinecolor\":\"rgb(51,51,51)\",\"gridcolor\":\"white\",\"linecolor\":\"white\",\"minorgridcolor\":\"white\",\"startlinecolor\":\"rgb(51,51,51)\"},\"baxis\":{\"endlinecolor\":\"rgb(51,51,51)\",\"gridcolor\":\"white\",\"linecolor\":\"white\",\"minorgridcolor\":\"white\",\"startlinecolor\":\"rgb(51,51,51)\"},\"type\":\"carpet\"}],\"choropleth\":[{\"colorbar\":{\"outlinewidth\":0,\"tickcolor\":\"rgb(237,237,237)\",\"ticklen\":6,\"ticks\":\"inside\"},\"type\":\"choropleth\"}],\"contourcarpet\":[{\"colorbar\":{\"outlinewidth\":0,\"tickcolor\":\"rgb(237,237,237)\",\"ticklen\":6,\"ticks\":\"inside\"},\"type\":\"contourcarpet\"}],\"contour\":[{\"colorbar\":{\"outlinewidth\":0,\"tickcolor\":\"rgb(237,237,237)\",\"ticklen\":6,\"ticks\":\"inside\"},\"colorscale\":[[0,\"rgb(20,44,66)\"],[1,\"rgb(90,179,244)\"]],\"type\":\"contour\"}],\"heatmapgl\":[{\"colorbar\":{\"outlinewidth\":0,\"tickcolor\":\"rgb(237,237,237)\",\"ticklen\":6,\"ticks\":\"inside\"},\"colorscale\":[[0,\"rgb(20,44,66)\"],[1,\"rgb(90,179,244)\"]],\"type\":\"heatmapgl\"}],\"heatmap\":[{\"colorbar\":{\"outlinewidth\":0,\"tickcolor\":\"rgb(237,237,237)\",\"ticklen\":6,\"ticks\":\"inside\"},\"colorscale\":[[0,\"rgb(20,44,66)\"],[1,\"rgb(90,179,244)\"]],\"type\":\"heatmap\"}],\"histogram2dcontour\":[{\"colorbar\":{\"outlinewidth\":0,\"tickcolor\":\"rgb(237,237,237)\",\"ticklen\":6,\"ticks\":\"inside\"},\"colorscale\":[[0,\"rgb(20,44,66)\"],[1,\"rgb(90,179,244)\"]],\"type\":\"histogram2dcontour\"}],\"histogram2d\":[{\"colorbar\":{\"outlinewidth\":0,\"tickcolor\":\"rgb(237,237,237)\",\"ticklen\":6,\"ticks\":\"inside\"},\"colorscale\":[[0,\"rgb(20,44,66)\"],[1,\"rgb(90,179,244)\"]],\"type\":\"histogram2d\"}],\"histogram\":[{\"marker\":{\"pattern\":{\"fillmode\":\"overlay\",\"size\":10,\"solidity\":0.2}},\"type\":\"histogram\"}],\"mesh3d\":[{\"colorbar\":{\"outlinewidth\":0,\"tickcolor\":\"rgb(237,237,237)\",\"ticklen\":6,\"ticks\":\"inside\"},\"type\":\"mesh3d\"}],\"parcoords\":[{\"line\":{\"colorbar\":{\"outlinewidth\":0,\"tickcolor\":\"rgb(237,237,237)\",\"ticklen\":6,\"ticks\":\"inside\"}},\"type\":\"parcoords\"}],\"pie\":[{\"automargin\":true,\"type\":\"pie\"}],\"scatter3d\":[{\"line\":{\"colorbar\":{\"outlinewidth\":0,\"tickcolor\":\"rgb(237,237,237)\",\"ticklen\":6,\"ticks\":\"inside\"}},\"marker\":{\"colorbar\":{\"outlinewidth\":0,\"tickcolor\":\"rgb(237,237,237)\",\"ticklen\":6,\"ticks\":\"inside\"}},\"type\":\"scatter3d\"}],\"scattercarpet\":[{\"marker\":{\"colorbar\":{\"outlinewidth\":0,\"tickcolor\":\"rgb(237,237,237)\",\"ticklen\":6,\"ticks\":\"inside\"}},\"type\":\"scattercarpet\"}],\"scattergeo\":[{\"marker\":{\"colorbar\":{\"outlinewidth\":0,\"tickcolor\":\"rgb(237,237,237)\",\"ticklen\":6,\"ticks\":\"inside\"}},\"type\":\"scattergeo\"}],\"scattergl\":[{\"marker\":{\"colorbar\":{\"outlinewidth\":0,\"tickcolor\":\"rgb(237,237,237)\",\"ticklen\":6,\"ticks\":\"inside\"}},\"type\":\"scattergl\"}],\"scattermapbox\":[{\"marker\":{\"colorbar\":{\"outlinewidth\":0,\"tickcolor\":\"rgb(237,237,237)\",\"ticklen\":6,\"ticks\":\"inside\"}},\"type\":\"scattermapbox\"}],\"scatterpolargl\":[{\"marker\":{\"colorbar\":{\"outlinewidth\":0,\"tickcolor\":\"rgb(237,237,237)\",\"ticklen\":6,\"ticks\":\"inside\"}},\"type\":\"scatterpolargl\"}],\"scatterpolar\":[{\"marker\":{\"colorbar\":{\"outlinewidth\":0,\"tickcolor\":\"rgb(237,237,237)\",\"ticklen\":6,\"ticks\":\"inside\"}},\"type\":\"scatterpolar\"}],\"scatter\":[{\"fillpattern\":{\"fillmode\":\"overlay\",\"size\":10,\"solidity\":0.2},\"type\":\"scatter\"}],\"scatterternary\":[{\"marker\":{\"colorbar\":{\"outlinewidth\":0,\"tickcolor\":\"rgb(237,237,237)\",\"ticklen\":6,\"ticks\":\"inside\"}},\"type\":\"scatterternary\"}],\"surface\":[{\"colorbar\":{\"outlinewidth\":0,\"tickcolor\":\"rgb(237,237,237)\",\"ticklen\":6,\"ticks\":\"inside\"},\"colorscale\":[[0,\"rgb(20,44,66)\"],[1,\"rgb(90,179,244)\"]],\"type\":\"surface\"}],\"table\":[{\"cells\":{\"fill\":{\"color\":\"rgb(237,237,237)\"},\"line\":{\"color\":\"white\"}},\"header\":{\"fill\":{\"color\":\"rgb(217,217,217)\"},\"line\":{\"color\":\"white\"}},\"type\":\"table\"}]},\"layout\":{\"annotationdefaults\":{\"arrowhead\":0,\"arrowwidth\":1},\"autotypenumbers\":\"strict\",\"coloraxis\":{\"colorbar\":{\"outlinewidth\":0,\"tickcolor\":\"rgb(237,237,237)\",\"ticklen\":6,\"ticks\":\"inside\"}},\"colorscale\":{\"sequential\":[[0,\"rgb(20,44,66)\"],[1,\"rgb(90,179,244)\"]],\"sequentialminus\":[[0,\"rgb(20,44,66)\"],[1,\"rgb(90,179,244)\"]]},\"colorway\":[\"#F8766D\",\"#A3A500\",\"#00BF7D\",\"#00B0F6\",\"#E76BF3\"],\"font\":{\"color\":\"rgb(51,51,51)\"},\"geo\":{\"bgcolor\":\"white\",\"lakecolor\":\"white\",\"landcolor\":\"rgb(237,237,237)\",\"showlakes\":true,\"showland\":true,\"subunitcolor\":\"white\"},\"hoverlabel\":{\"align\":\"left\"},\"hovermode\":\"closest\",\"paper_bgcolor\":\"white\",\"plot_bgcolor\":\"rgb(237,237,237)\",\"polar\":{\"angularaxis\":{\"gridcolor\":\"white\",\"linecolor\":\"white\",\"showgrid\":true,\"tickcolor\":\"rgb(51,51,51)\",\"ticks\":\"outside\"},\"bgcolor\":\"rgb(237,237,237)\",\"radialaxis\":{\"gridcolor\":\"white\",\"linecolor\":\"white\",\"showgrid\":true,\"tickcolor\":\"rgb(51,51,51)\",\"ticks\":\"outside\"}},\"scene\":{\"xaxis\":{\"backgroundcolor\":\"rgb(237,237,237)\",\"gridcolor\":\"white\",\"gridwidth\":2,\"linecolor\":\"white\",\"showbackground\":true,\"showgrid\":true,\"tickcolor\":\"rgb(51,51,51)\",\"ticks\":\"outside\",\"zerolinecolor\":\"white\"},\"yaxis\":{\"backgroundcolor\":\"rgb(237,237,237)\",\"gridcolor\":\"white\",\"gridwidth\":2,\"linecolor\":\"white\",\"showbackground\":true,\"showgrid\":true,\"tickcolor\":\"rgb(51,51,51)\",\"ticks\":\"outside\",\"zerolinecolor\":\"white\"},\"zaxis\":{\"backgroundcolor\":\"rgb(237,237,237)\",\"gridcolor\":\"white\",\"gridwidth\":2,\"linecolor\":\"white\",\"showbackground\":true,\"showgrid\":true,\"tickcolor\":\"rgb(51,51,51)\",\"ticks\":\"outside\",\"zerolinecolor\":\"white\"}},\"shapedefaults\":{\"fillcolor\":\"black\",\"line\":{\"width\":0},\"opacity\":0.3},\"ternary\":{\"aaxis\":{\"gridcolor\":\"white\",\"linecolor\":\"white\",\"showgrid\":true,\"tickcolor\":\"rgb(51,51,51)\",\"ticks\":\"outside\"},\"baxis\":{\"gridcolor\":\"white\",\"linecolor\":\"white\",\"showgrid\":true,\"tickcolor\":\"rgb(51,51,51)\",\"ticks\":\"outside\"},\"bgcolor\":\"rgb(237,237,237)\",\"caxis\":{\"gridcolor\":\"white\",\"linecolor\":\"white\",\"showgrid\":true,\"tickcolor\":\"rgb(51,51,51)\",\"ticks\":\"outside\"}},\"xaxis\":{\"automargin\":true,\"gridcolor\":\"white\",\"linecolor\":\"white\",\"showgrid\":true,\"tickcolor\":\"rgb(51,51,51)\",\"ticks\":\"outside\",\"title\":{\"standoff\":15},\"zerolinecolor\":\"white\"},\"yaxis\":{\"automargin\":true,\"gridcolor\":\"white\",\"linecolor\":\"white\",\"showgrid\":true,\"tickcolor\":\"rgb(51,51,51)\",\"ticks\":\"outside\",\"title\":{\"standoff\":15},\"zerolinecolor\":\"white\"}}},\"xaxis\":{\"anchor\":\"y\",\"domain\":[0.0,0.247],\"tickformat\":\"s\",\"ticks\":\"outside\"},\"yaxis\":{\"anchor\":\"x\",\"domain\":[0.0,1.0],\"dtick\":1},\"xaxis2\":{\"anchor\":\"y2\",\"domain\":[0.251,0.498],\"matches\":\"x\",\"tickformat\":\"s\",\"ticks\":\"outside\"},\"yaxis2\":{\"anchor\":\"x2\",\"domain\":[0.0,1.0],\"matches\":\"y\",\"showticklabels\":false,\"ticks\":\"\",\"dtick\":1},\"xaxis3\":{\"anchor\":\"y3\",\"domain\":[0.502,0.749],\"matches\":\"x\",\"tickformat\":\"s\",\"ticks\":\"outside\"},\"yaxis3\":{\"anchor\":\"x3\",\"domain\":[0.0,1.0],\"matches\":\"y\",\"showticklabels\":false,\"ticks\":\"\",\"dtick\":1},\"xaxis4\":{\"anchor\":\"y4\",\"domain\":[0.753,1.0],\"matches\":\"x\",\"tickformat\":\"s\",\"ticks\":\"outside\"},\"yaxis4\":{\"anchor\":\"x4\",\"domain\":[0.0,1.0],\"matches\":\"y\",\"showticklabels\":false,\"ticks\":\"\",\"dtick\":1},\"annotations\":[{\"font\":{\"size\":14},\"showarrow\":false,\"text\":\"<b>G4</b> (40,502)\",\"x\":0.1235,\"xanchor\":\"center\",\"xref\":\"paper\",\"y\":1.0,\"yanchor\":\"bottom\",\"yref\":\"paper\"},{\"font\":{\"size\":14},\"showarrow\":false,\"text\":\"<b>Z-DNA</b> (50,114)\",\"x\":0.3745,\"xanchor\":\"center\",\"xref\":\"paper\",\"y\":1.0,\"yanchor\":\"bottom\",\"yref\":\"paper\"},{\"font\":{\"size\":14},\"showarrow\":false,\"text\":\"<b>SIDD</b> (30,588)\",\"x\":0.6255,\"xanchor\":\"center\",\"xref\":\"paper\",\"y\":1.0,\"yanchor\":\"bottom\",\"yref\":\"paper\"},{\"font\":{\"size\":14},\"showarrow\":false,\"text\":\"<b>H-DNA</b> (34,196)\",\"x\":0.8765000000000001,\"xanchor\":\"center\",\"xref\":\"paper\",\"y\":1.0,\"yanchor\":\"bottom\",\"yref\":\"paper\"},{\"font\":{\"size\":14},\"showarrow\":false,\"text\":\"Flipon count\",\"x\":0.5,\"xanchor\":\"center\",\"xref\":\"paper\",\"y\":0,\"yanchor\":\"top\",\"yref\":\"paper\",\"yshift\":-30},{\"font\":{\"size\":14},\"showarrow\":false,\"text\":\"Number of miRNAs per flipon\",\"textangle\":-90,\"x\":0,\"xanchor\":\"right\",\"xref\":\"paper\",\"xshift\":-40,\"y\":0.5,\"yanchor\":\"middle\",\"yref\":\"paper\"}],\"font\":{\"family\":\"monospace\",\"size\":12},\"uniformtext\":{\"minsize\":12,\"mode\":\"show\"},\"margin\":{\"l\":60,\"r\":5,\"t\":25,\"b\":60},\"legend\":{\"orientation\":\"h\",\"yanchor\":\"bottom\",\"y\":1.05,\"xanchor\":\"right\",\"x\":1},\"height\":700,\"width\":1600},                        {\"responsive\": true}                    ).then(function(){\n",
       "                            \n",
       "var gd = document.getElementById('9f22091a-5d4b-4a7e-b291-940cc9a162a7');\n",
       "var x = new MutationObserver(function (mutations, observer) {{\n",
       "        var display = window.getComputedStyle(gd).display;\n",
       "        if (!display || display === 'none') {{\n",
       "            console.log([gd, 'removed!']);\n",
       "            Plotly.purge(gd);\n",
       "            observer.disconnect();\n",
       "        }}\n",
       "}});\n",
       "\n",
       "// Listen for the removal of the full notebook cells\n",
       "var notebookContainer = gd.closest('#notebook-container');\n",
       "if (notebookContainer) {{\n",
       "    x.observe(notebookContainer, {childList: true});\n",
       "}}\n",
       "\n",
       "// Listen for the clearing of the current output cell\n",
       "var outputEl = gd.closest('.output');\n",
       "if (outputEl) {{\n",
       "    x.observe(outputEl, {childList: true});\n",
       "}}\n",
       "\n",
       "                        })                };                });            </script>        </div>"
      ]
     },
     "metadata": {},
     "output_type": "display_data"
    }
   ],
   "source": [
    "flipon_to_data = pd.read_table(f_flipon_to_data_og)\n",
    "\n",
    "plotly_data = (\n",
    "    flipon_to_data.assign(\n",
    "        group = lambda x: x['group'].str.replace('quadruplex', 'g4'),\n",
    "        mirna_plus_count=lambda x: x[\"miRNA (+ strand)\"].str.split(\", \").apply(lambda x: get_mirna_number(x) if type(x) is list else 0).astype(pd.Int64Dtype()),\n",
    "        mirna_minus_count=lambda x: x[\"miRNA (- strand)\"].str.split(\", \").apply(lambda x: get_mirna_number(x) if type(x) is list else 0).astype(pd.Int64Dtype()),\n",
    "    )\n",
    "    .melt(id_vars=[\"group\"], value_vars=[\"mirna_plus_count\", \"mirna_minus_count\"])\n",
    "    .groupby(\"group\")\n",
    "    .value_counts()\n",
    "    .to_frame()\n",
    "    .reset_index()\n",
    "    .rename(columns={0: \"count\"})\n",
    ")\n",
    "plotly_data\n",
    "\n",
    "\n",
    "groups = (\"G4\", \"Z-DNA\", \"SIDD\", \"H-DNA\")\n",
    "categories = {\n",
    "    \"mirna_plus_count\": \"+ strand\",\n",
    "    \"mirna_minus_count\": \"- strand\",\n",
    "}\n",
    "colors = {\n",
    "    \"+ strand\": \"tomato\",\n",
    "    \"- strand\": \"royalblue\",\n",
    "}\n",
    "\n",
    "n_rows = 1\n",
    "n_cols = 4\n",
    "\n",
    "fig = ps.make_subplots(\n",
    "    rows=n_rows,\n",
    "    cols=n_cols,\n",
    "    shared_xaxes=\"all\",\n",
    "    shared_yaxes=\"all\",\n",
    "    horizontal_spacing=0.004,\n",
    "    vertical_spacing=0.01,\n",
    "    column_titles=[\n",
    "        f\"<b>{x}</b> ({plotly_data[plotly_data['group'] == x.lower()]['count'].sum():,d})\"\n",
    "        for x in groups\n",
    "    ],\n",
    "    y_title=\"Number of miRNAs per flipon\",\n",
    "    x_title=\"Flipon count\",\n",
    ")\n",
    "\n",
    "for i, group in enumerate(groups):\n",
    "    for category, name in categories.items():\n",
    "        df = plotly_data[\n",
    "            (plotly_data[\"group\"] == group.lower())\n",
    "            & (plotly_data[\"variable\"] == category)\n",
    "        ]\n",
    "        sub = pgo.Bar(\n",
    "            x=df[\"count\"],\n",
    "            y=df[\"value\"],\n",
    "            name=name,\n",
    "            texttemplate=\"%{x:,d}\",\n",
    "            textposition=df[\"count\"].apply(\n",
    "                lambda x: \"outside\" if x < 300 else \"inside\"\n",
    "            ),\n",
    "            marker=dict(color=colors[name]),\n",
    "            orientation=\"h\",\n",
    "            width=0.45,\n",
    "            showlegend=True if (i == 0) else False,\n",
    "        )\n",
    "        fig.add_trace(sub, row=1, col=i + 1)\n",
    "    if i:\n",
    "        fig.update_yaxes(ticks=\"\", row=1, col=i + 1)\n",
    "\n",
    "\n",
    "fig.update_xaxes(tickformat=\"s\")\n",
    "fig.update_xaxes(ticks=\"outside\", row=n_rows)\n",
    "fig.update_yaxes(dtick=1)\n",
    "fig.update_annotations(font=dict(size=14))\n",
    "\n",
    "fig.update_layout(\n",
    "    # title=f\"Flipons enriched with miRNA seed-regions ({plotly_data['count'].sum():,d})\",\n",
    "    # title_x=0.0035,\n",
    "    # title_y=.985,\n",
    "    height=700,\n",
    "    width=1600,\n",
    "    font=dict(family=\"monospace\", size=12),\n",
    "    uniformtext_minsize=12,\n",
    "    uniformtext_mode=\"show\",\n",
    "    margin=dict(l=60, r=5, t=25, b=60),\n",
    "    legend=dict(\n",
    "        # title_text=\"Flipon group\",\n",
    "        # traceorder=\"reversed\",\n",
    "        orientation=\"h\",\n",
    "        yanchor=\"bottom\",\n",
    "        y=1.05,\n",
    "        xanchor=\"right\",\n",
    "        x=1,\n",
    "    ),\n",
    "    template=\"ggplot2\",\n",
    ")\n",
    "\n",
    "fig.write_image(d_img / \"flipon-to-mirna-mapping-strand-counts-all.png\")\n",
    "fig.show()\n"
   ]
  },
  {
   "cell_type": "code",
   "execution_count": 143,
   "metadata": {},
   "outputs": [
    {
     "data": {
      "application/vnd.plotly.v1+json": {
       "config": {
        "plotlyServerURL": "https://plot.ly"
       },
       "data": [
        {
         "marker": {
          "color": "tomato"
         },
         "name": "+ strand",
         "orientation": "h",
         "showlegend": true,
         "textposition": [
          "inside",
          "inside",
          "inside",
          "outside",
          "outside",
          "outside",
          "outside",
          "outside",
          "outside",
          "outside",
          "outside"
         ],
         "texttemplate": "%{x:,d}",
         "type": "bar",
         "width": 0.45,
         "x": [
          3737,
          3429,
          638,
          127,
          31,
          13,
          10,
          6,
          4,
          1,
          1
         ],
         "xaxis": "x",
         "y": [
          1,
          0,
          2,
          3,
          4,
          5,
          6,
          7,
          9,
          10,
          8
         ],
         "yaxis": "y"
        },
        {
         "marker": {
          "color": "royalblue"
         },
         "name": "- strand",
         "orientation": "h",
         "showlegend": true,
         "textposition": [
          "inside",
          "inside",
          "inside",
          "outside",
          "outside",
          "outside",
          "outside",
          "outside",
          "outside",
          "outside",
          "outside",
          "outside"
         ],
         "texttemplate": "%{x:,d}",
         "type": "bar",
         "width": 0.45,
         "x": [
          3612,
          3501,
          699,
          121,
          37,
          11,
          7,
          2,
          2,
          2,
          2,
          1
         ],
         "xaxis": "x",
         "y": [
          1,
          0,
          2,
          3,
          4,
          5,
          6,
          7,
          8,
          10,
          9,
          11
         ],
         "yaxis": "y"
        },
        {
         "marker": {
          "color": "tomato"
         },
         "name": "+ strand",
         "orientation": "h",
         "showlegend": false,
         "textposition": [
          "inside",
          "inside",
          "inside",
          "outside",
          "outside",
          "outside",
          "outside",
          "outside",
          "outside"
         ],
         "texttemplate": "%{x:,d}",
         "type": "bar",
         "width": 0.45,
         "x": [
          2754,
          2616,
          580,
          117,
          50,
          13,
          12,
          2,
          1
         ],
         "xaxis": "x2",
         "y": [
          0,
          1,
          2,
          3,
          4,
          5,
          6,
          7,
          8
         ],
         "yaxis": "y2"
        },
        {
         "marker": {
          "color": "royalblue"
         },
         "name": "- strand",
         "orientation": "h",
         "showlegend": false,
         "textposition": [
          "inside",
          "inside",
          "inside",
          "outside",
          "outside",
          "outside",
          "outside",
          "outside",
          "outside"
         ],
         "texttemplate": "%{x:,d}",
         "type": "bar",
         "width": 0.45,
         "x": [
          2797,
          2731,
          402,
          116,
          57,
          28,
          7,
          4,
          3
         ],
         "xaxis": "x2",
         "y": [
          0,
          1,
          2,
          3,
          4,
          5,
          6,
          7,
          8
         ],
         "yaxis": "y2"
        },
        {
         "marker": {
          "color": "tomato"
         },
         "name": "+ strand",
         "orientation": "h",
         "showlegend": false,
         "textposition": [
          "inside",
          "inside",
          "inside",
          "inside",
          "inside",
          "inside",
          "outside",
          "outside",
          "outside",
          "outside",
          "outside",
          "outside",
          "outside",
          "outside"
         ],
         "texttemplate": "%{x:,d}",
         "type": "bar",
         "width": 0.45,
         "x": [
          4117,
          3578,
          2582,
          2391,
          1194,
          518,
          218,
          79,
          26,
          12,
          4,
          2,
          1,
          1
         ],
         "xaxis": "x3",
         "y": [
          1,
          2,
          0,
          3,
          4,
          5,
          6,
          7,
          8,
          9,
          10,
          14,
          15,
          13
         ],
         "yaxis": "y3"
        },
        {
         "marker": {
          "color": "royalblue"
         },
         "name": "- strand",
         "orientation": "h",
         "showlegend": false,
         "textposition": [
          "inside",
          "inside",
          "inside",
          "inside",
          "inside",
          "inside",
          "outside",
          "outside",
          "outside",
          "outside",
          "outside",
          "outside",
          "outside",
          "outside"
         ],
         "texttemplate": "%{x:,d}",
         "type": "bar",
         "width": 0.45,
         "x": [
          4158,
          3578,
          2477,
          2418,
          1219,
          525,
          212,
          80,
          32,
          16,
          4,
          2,
          1,
          1
         ],
         "xaxis": "x3",
         "y": [
          1,
          2,
          0,
          3,
          4,
          5,
          6,
          7,
          8,
          9,
          11,
          10,
          14,
          12
         ],
         "yaxis": "y3"
        },
        {
         "marker": {
          "color": "tomato"
         },
         "name": "+ strand",
         "orientation": "h",
         "showlegend": false,
         "textposition": [
          "inside",
          "inside",
          "outside",
          "outside",
          "outside",
          "outside",
          "outside",
          "outside",
          "outside",
          "outside"
         ],
         "texttemplate": "%{x:,d}",
         "type": "bar",
         "width": 0.45,
         "x": [
          1347,
          1066,
          279,
          69,
          23,
          14,
          9,
          7,
          6,
          1
         ],
         "xaxis": "x4",
         "y": [
          0,
          1,
          2,
          3,
          4,
          5,
          6,
          8,
          7,
          10
         ],
         "yaxis": "y4"
        },
        {
         "marker": {
          "color": "royalblue"
         },
         "name": "- strand",
         "orientation": "h",
         "showlegend": false,
         "textposition": [
          "inside",
          "inside",
          "outside",
          "outside",
          "outside",
          "outside",
          "outside",
          "outside",
          "outside",
          "outside",
          "outside"
         ],
         "texttemplate": "%{x:,d}",
         "type": "bar",
         "width": 0.45,
         "x": [
          1346,
          1094,
          270,
          48,
          25,
          16,
          10,
          6,
          3,
          2,
          1
         ],
         "xaxis": "x4",
         "y": [
          0,
          1,
          2,
          3,
          4,
          5,
          6,
          7,
          8,
          9,
          11
         ],
         "yaxis": "y4"
        }
       ],
       "layout": {
        "annotations": [
         {
          "font": {
           "size": 14
          },
          "showarrow": false,
          "text": "<b>G4</b> (15,994)",
          "x": 0.1235,
          "xanchor": "center",
          "xref": "paper",
          "y": 1,
          "yanchor": "bottom",
          "yref": "paper"
         },
         {
          "font": {
           "size": 14
          },
          "showarrow": false,
          "text": "<b>Z-DNA</b> (12,290)",
          "x": 0.3745,
          "xanchor": "center",
          "xref": "paper",
          "y": 1,
          "yanchor": "bottom",
          "yref": "paper"
         },
         {
          "font": {
           "size": 14
          },
          "showarrow": false,
          "text": "<b>SIDD</b> (29,446)",
          "x": 0.6255,
          "xanchor": "center",
          "xref": "paper",
          "y": 1,
          "yanchor": "bottom",
          "yref": "paper"
         },
         {
          "font": {
           "size": 14
          },
          "showarrow": false,
          "text": "<b>H-DNA</b> (5,642)",
          "x": 0.8765000000000001,
          "xanchor": "center",
          "xref": "paper",
          "y": 1,
          "yanchor": "bottom",
          "yref": "paper"
         },
         {
          "font": {
           "size": 14
          },
          "showarrow": false,
          "text": "Flipon count",
          "x": 0.5,
          "xanchor": "center",
          "xref": "paper",
          "y": 0,
          "yanchor": "top",
          "yref": "paper",
          "yshift": -30
         },
         {
          "font": {
           "size": 14
          },
          "showarrow": false,
          "text": "Number of miRNAs per flipon",
          "textangle": -90,
          "x": 0,
          "xanchor": "right",
          "xref": "paper",
          "xshift": -40,
          "y": 0.5,
          "yanchor": "middle",
          "yref": "paper"
         }
        ],
        "font": {
         "family": "monospace",
         "size": 12
        },
        "height": 700,
        "legend": {
         "orientation": "h",
         "x": 1,
         "xanchor": "right",
         "y": 1.05,
         "yanchor": "bottom"
        },
        "margin": {
         "b": 60,
         "l": 60,
         "r": 5,
         "t": 25
        },
        "template": {
         "data": {
          "bar": [
           {
            "error_x": {
             "color": "rgb(51,51,51)"
            },
            "error_y": {
             "color": "rgb(51,51,51)"
            },
            "marker": {
             "line": {
              "color": "rgb(237,237,237)",
              "width": 0.5
             },
             "pattern": {
              "fillmode": "overlay",
              "size": 10,
              "solidity": 0.2
             }
            },
            "type": "bar"
           }
          ],
          "barpolar": [
           {
            "marker": {
             "line": {
              "color": "rgb(237,237,237)",
              "width": 0.5
             },
             "pattern": {
              "fillmode": "overlay",
              "size": 10,
              "solidity": 0.2
             }
            },
            "type": "barpolar"
           }
          ],
          "carpet": [
           {
            "aaxis": {
             "endlinecolor": "rgb(51,51,51)",
             "gridcolor": "white",
             "linecolor": "white",
             "minorgridcolor": "white",
             "startlinecolor": "rgb(51,51,51)"
            },
            "baxis": {
             "endlinecolor": "rgb(51,51,51)",
             "gridcolor": "white",
             "linecolor": "white",
             "minorgridcolor": "white",
             "startlinecolor": "rgb(51,51,51)"
            },
            "type": "carpet"
           }
          ],
          "choropleth": [
           {
            "colorbar": {
             "outlinewidth": 0,
             "tickcolor": "rgb(237,237,237)",
             "ticklen": 6,
             "ticks": "inside"
            },
            "type": "choropleth"
           }
          ],
          "contour": [
           {
            "colorbar": {
             "outlinewidth": 0,
             "tickcolor": "rgb(237,237,237)",
             "ticklen": 6,
             "ticks": "inside"
            },
            "colorscale": [
             [
              0,
              "rgb(20,44,66)"
             ],
             [
              1,
              "rgb(90,179,244)"
             ]
            ],
            "type": "contour"
           }
          ],
          "contourcarpet": [
           {
            "colorbar": {
             "outlinewidth": 0,
             "tickcolor": "rgb(237,237,237)",
             "ticklen": 6,
             "ticks": "inside"
            },
            "type": "contourcarpet"
           }
          ],
          "heatmap": [
           {
            "colorbar": {
             "outlinewidth": 0,
             "tickcolor": "rgb(237,237,237)",
             "ticklen": 6,
             "ticks": "inside"
            },
            "colorscale": [
             [
              0,
              "rgb(20,44,66)"
             ],
             [
              1,
              "rgb(90,179,244)"
             ]
            ],
            "type": "heatmap"
           }
          ],
          "heatmapgl": [
           {
            "colorbar": {
             "outlinewidth": 0,
             "tickcolor": "rgb(237,237,237)",
             "ticklen": 6,
             "ticks": "inside"
            },
            "colorscale": [
             [
              0,
              "rgb(20,44,66)"
             ],
             [
              1,
              "rgb(90,179,244)"
             ]
            ],
            "type": "heatmapgl"
           }
          ],
          "histogram": [
           {
            "marker": {
             "pattern": {
              "fillmode": "overlay",
              "size": 10,
              "solidity": 0.2
             }
            },
            "type": "histogram"
           }
          ],
          "histogram2d": [
           {
            "colorbar": {
             "outlinewidth": 0,
             "tickcolor": "rgb(237,237,237)",
             "ticklen": 6,
             "ticks": "inside"
            },
            "colorscale": [
             [
              0,
              "rgb(20,44,66)"
             ],
             [
              1,
              "rgb(90,179,244)"
             ]
            ],
            "type": "histogram2d"
           }
          ],
          "histogram2dcontour": [
           {
            "colorbar": {
             "outlinewidth": 0,
             "tickcolor": "rgb(237,237,237)",
             "ticklen": 6,
             "ticks": "inside"
            },
            "colorscale": [
             [
              0,
              "rgb(20,44,66)"
             ],
             [
              1,
              "rgb(90,179,244)"
             ]
            ],
            "type": "histogram2dcontour"
           }
          ],
          "mesh3d": [
           {
            "colorbar": {
             "outlinewidth": 0,
             "tickcolor": "rgb(237,237,237)",
             "ticklen": 6,
             "ticks": "inside"
            },
            "type": "mesh3d"
           }
          ],
          "parcoords": [
           {
            "line": {
             "colorbar": {
              "outlinewidth": 0,
              "tickcolor": "rgb(237,237,237)",
              "ticklen": 6,
              "ticks": "inside"
             }
            },
            "type": "parcoords"
           }
          ],
          "pie": [
           {
            "automargin": true,
            "type": "pie"
           }
          ],
          "scatter": [
           {
            "fillpattern": {
             "fillmode": "overlay",
             "size": 10,
             "solidity": 0.2
            },
            "type": "scatter"
           }
          ],
          "scatter3d": [
           {
            "line": {
             "colorbar": {
              "outlinewidth": 0,
              "tickcolor": "rgb(237,237,237)",
              "ticklen": 6,
              "ticks": "inside"
             }
            },
            "marker": {
             "colorbar": {
              "outlinewidth": 0,
              "tickcolor": "rgb(237,237,237)",
              "ticklen": 6,
              "ticks": "inside"
             }
            },
            "type": "scatter3d"
           }
          ],
          "scattercarpet": [
           {
            "marker": {
             "colorbar": {
              "outlinewidth": 0,
              "tickcolor": "rgb(237,237,237)",
              "ticklen": 6,
              "ticks": "inside"
             }
            },
            "type": "scattercarpet"
           }
          ],
          "scattergeo": [
           {
            "marker": {
             "colorbar": {
              "outlinewidth": 0,
              "tickcolor": "rgb(237,237,237)",
              "ticklen": 6,
              "ticks": "inside"
             }
            },
            "type": "scattergeo"
           }
          ],
          "scattergl": [
           {
            "marker": {
             "colorbar": {
              "outlinewidth": 0,
              "tickcolor": "rgb(237,237,237)",
              "ticklen": 6,
              "ticks": "inside"
             }
            },
            "type": "scattergl"
           }
          ],
          "scattermapbox": [
           {
            "marker": {
             "colorbar": {
              "outlinewidth": 0,
              "tickcolor": "rgb(237,237,237)",
              "ticklen": 6,
              "ticks": "inside"
             }
            },
            "type": "scattermapbox"
           }
          ],
          "scatterpolar": [
           {
            "marker": {
             "colorbar": {
              "outlinewidth": 0,
              "tickcolor": "rgb(237,237,237)",
              "ticklen": 6,
              "ticks": "inside"
             }
            },
            "type": "scatterpolar"
           }
          ],
          "scatterpolargl": [
           {
            "marker": {
             "colorbar": {
              "outlinewidth": 0,
              "tickcolor": "rgb(237,237,237)",
              "ticklen": 6,
              "ticks": "inside"
             }
            },
            "type": "scatterpolargl"
           }
          ],
          "scatterternary": [
           {
            "marker": {
             "colorbar": {
              "outlinewidth": 0,
              "tickcolor": "rgb(237,237,237)",
              "ticklen": 6,
              "ticks": "inside"
             }
            },
            "type": "scatterternary"
           }
          ],
          "surface": [
           {
            "colorbar": {
             "outlinewidth": 0,
             "tickcolor": "rgb(237,237,237)",
             "ticklen": 6,
             "ticks": "inside"
            },
            "colorscale": [
             [
              0,
              "rgb(20,44,66)"
             ],
             [
              1,
              "rgb(90,179,244)"
             ]
            ],
            "type": "surface"
           }
          ],
          "table": [
           {
            "cells": {
             "fill": {
              "color": "rgb(237,237,237)"
             },
             "line": {
              "color": "white"
             }
            },
            "header": {
             "fill": {
              "color": "rgb(217,217,217)"
             },
             "line": {
              "color": "white"
             }
            },
            "type": "table"
           }
          ]
         },
         "layout": {
          "annotationdefaults": {
           "arrowhead": 0,
           "arrowwidth": 1
          },
          "autotypenumbers": "strict",
          "coloraxis": {
           "colorbar": {
            "outlinewidth": 0,
            "tickcolor": "rgb(237,237,237)",
            "ticklen": 6,
            "ticks": "inside"
           }
          },
          "colorscale": {
           "sequential": [
            [
             0,
             "rgb(20,44,66)"
            ],
            [
             1,
             "rgb(90,179,244)"
            ]
           ],
           "sequentialminus": [
            [
             0,
             "rgb(20,44,66)"
            ],
            [
             1,
             "rgb(90,179,244)"
            ]
           ]
          },
          "colorway": [
           "#F8766D",
           "#A3A500",
           "#00BF7D",
           "#00B0F6",
           "#E76BF3"
          ],
          "font": {
           "color": "rgb(51,51,51)"
          },
          "geo": {
           "bgcolor": "white",
           "lakecolor": "white",
           "landcolor": "rgb(237,237,237)",
           "showlakes": true,
           "showland": true,
           "subunitcolor": "white"
          },
          "hoverlabel": {
           "align": "left"
          },
          "hovermode": "closest",
          "paper_bgcolor": "white",
          "plot_bgcolor": "rgb(237,237,237)",
          "polar": {
           "angularaxis": {
            "gridcolor": "white",
            "linecolor": "white",
            "showgrid": true,
            "tickcolor": "rgb(51,51,51)",
            "ticks": "outside"
           },
           "bgcolor": "rgb(237,237,237)",
           "radialaxis": {
            "gridcolor": "white",
            "linecolor": "white",
            "showgrid": true,
            "tickcolor": "rgb(51,51,51)",
            "ticks": "outside"
           }
          },
          "scene": {
           "xaxis": {
            "backgroundcolor": "rgb(237,237,237)",
            "gridcolor": "white",
            "gridwidth": 2,
            "linecolor": "white",
            "showbackground": true,
            "showgrid": true,
            "tickcolor": "rgb(51,51,51)",
            "ticks": "outside",
            "zerolinecolor": "white"
           },
           "yaxis": {
            "backgroundcolor": "rgb(237,237,237)",
            "gridcolor": "white",
            "gridwidth": 2,
            "linecolor": "white",
            "showbackground": true,
            "showgrid": true,
            "tickcolor": "rgb(51,51,51)",
            "ticks": "outside",
            "zerolinecolor": "white"
           },
           "zaxis": {
            "backgroundcolor": "rgb(237,237,237)",
            "gridcolor": "white",
            "gridwidth": 2,
            "linecolor": "white",
            "showbackground": true,
            "showgrid": true,
            "tickcolor": "rgb(51,51,51)",
            "ticks": "outside",
            "zerolinecolor": "white"
           }
          },
          "shapedefaults": {
           "fillcolor": "black",
           "line": {
            "width": 0
           },
           "opacity": 0.3
          },
          "ternary": {
           "aaxis": {
            "gridcolor": "white",
            "linecolor": "white",
            "showgrid": true,
            "tickcolor": "rgb(51,51,51)",
            "ticks": "outside"
           },
           "baxis": {
            "gridcolor": "white",
            "linecolor": "white",
            "showgrid": true,
            "tickcolor": "rgb(51,51,51)",
            "ticks": "outside"
           },
           "bgcolor": "rgb(237,237,237)",
           "caxis": {
            "gridcolor": "white",
            "linecolor": "white",
            "showgrid": true,
            "tickcolor": "rgb(51,51,51)",
            "ticks": "outside"
           }
          },
          "xaxis": {
           "automargin": true,
           "gridcolor": "white",
           "linecolor": "white",
           "showgrid": true,
           "tickcolor": "rgb(51,51,51)",
           "ticks": "outside",
           "title": {
            "standoff": 15
           },
           "zerolinecolor": "white"
          },
          "yaxis": {
           "automargin": true,
           "gridcolor": "white",
           "linecolor": "white",
           "showgrid": true,
           "tickcolor": "rgb(51,51,51)",
           "ticks": "outside",
           "title": {
            "standoff": 15
           },
           "zerolinecolor": "white"
          }
         }
        },
        "uniformtext": {
         "minsize": 12,
         "mode": "show"
        },
        "width": 1600,
        "xaxis": {
         "anchor": "y",
         "domain": [
          0,
          0.247
         ],
         "tickformat": "s",
         "ticks": "outside"
        },
        "xaxis2": {
         "anchor": "y2",
         "domain": [
          0.251,
          0.498
         ],
         "matches": "x",
         "tickformat": "s",
         "ticks": "outside"
        },
        "xaxis3": {
         "anchor": "y3",
         "domain": [
          0.502,
          0.749
         ],
         "matches": "x",
         "tickformat": "s",
         "ticks": "outside"
        },
        "xaxis4": {
         "anchor": "y4",
         "domain": [
          0.753,
          1
         ],
         "matches": "x",
         "tickformat": "s",
         "ticks": "outside"
        },
        "yaxis": {
         "anchor": "x",
         "domain": [
          0,
          1
         ],
         "dtick": 1
        },
        "yaxis2": {
         "anchor": "x2",
         "domain": [
          0,
          1
         ],
         "dtick": 1,
         "matches": "y",
         "showticklabels": false,
         "ticks": ""
        },
        "yaxis3": {
         "anchor": "x3",
         "domain": [
          0,
          1
         ],
         "dtick": 1,
         "matches": "y",
         "showticklabels": false,
         "ticks": ""
        },
        "yaxis4": {
         "anchor": "x4",
         "domain": [
          0,
          1
         ],
         "dtick": 1,
         "matches": "y",
         "showticklabels": false,
         "ticks": ""
        }
       }
      },
      "text/html": [
       "<div>                            <div id=\"4afd0504-9847-4161-8c43-a6aa3fcbe732\" class=\"plotly-graph-div\" style=\"height:700px; width:1600px;\"></div>            <script type=\"text/javascript\">                require([\"plotly\"], function(Plotly) {                    window.PLOTLYENV=window.PLOTLYENV || {};                                    if (document.getElementById(\"4afd0504-9847-4161-8c43-a6aa3fcbe732\")) {                    Plotly.newPlot(                        \"4afd0504-9847-4161-8c43-a6aa3fcbe732\",                        [{\"marker\":{\"color\":\"tomato\"},\"name\":\"+ strand\",\"orientation\":\"h\",\"showlegend\":true,\"textposition\":[\"inside\",\"inside\",\"inside\",\"outside\",\"outside\",\"outside\",\"outside\",\"outside\",\"outside\",\"outside\",\"outside\"],\"texttemplate\":\"%{x:,d}\",\"width\":0.45,\"x\":[3737,3429,638,127,31,13,10,6,4,1,1],\"y\":[1,0,2,3,4,5,6,7,9,10,8],\"type\":\"bar\",\"xaxis\":\"x\",\"yaxis\":\"y\"},{\"marker\":{\"color\":\"royalblue\"},\"name\":\"- strand\",\"orientation\":\"h\",\"showlegend\":true,\"textposition\":[\"inside\",\"inside\",\"inside\",\"outside\",\"outside\",\"outside\",\"outside\",\"outside\",\"outside\",\"outside\",\"outside\",\"outside\"],\"texttemplate\":\"%{x:,d}\",\"width\":0.45,\"x\":[3612,3501,699,121,37,11,7,2,2,2,2,1],\"y\":[1,0,2,3,4,5,6,7,8,10,9,11],\"type\":\"bar\",\"xaxis\":\"x\",\"yaxis\":\"y\"},{\"marker\":{\"color\":\"tomato\"},\"name\":\"+ strand\",\"orientation\":\"h\",\"showlegend\":false,\"textposition\":[\"inside\",\"inside\",\"inside\",\"outside\",\"outside\",\"outside\",\"outside\",\"outside\",\"outside\"],\"texttemplate\":\"%{x:,d}\",\"width\":0.45,\"x\":[2754,2616,580,117,50,13,12,2,1],\"y\":[0,1,2,3,4,5,6,7,8],\"type\":\"bar\",\"xaxis\":\"x2\",\"yaxis\":\"y2\"},{\"marker\":{\"color\":\"royalblue\"},\"name\":\"- strand\",\"orientation\":\"h\",\"showlegend\":false,\"textposition\":[\"inside\",\"inside\",\"inside\",\"outside\",\"outside\",\"outside\",\"outside\",\"outside\",\"outside\"],\"texttemplate\":\"%{x:,d}\",\"width\":0.45,\"x\":[2797,2731,402,116,57,28,7,4,3],\"y\":[0,1,2,3,4,5,6,7,8],\"type\":\"bar\",\"xaxis\":\"x2\",\"yaxis\":\"y2\"},{\"marker\":{\"color\":\"tomato\"},\"name\":\"+ strand\",\"orientation\":\"h\",\"showlegend\":false,\"textposition\":[\"inside\",\"inside\",\"inside\",\"inside\",\"inside\",\"inside\",\"outside\",\"outside\",\"outside\",\"outside\",\"outside\",\"outside\",\"outside\",\"outside\"],\"texttemplate\":\"%{x:,d}\",\"width\":0.45,\"x\":[4117,3578,2582,2391,1194,518,218,79,26,12,4,2,1,1],\"y\":[1,2,0,3,4,5,6,7,8,9,10,14,15,13],\"type\":\"bar\",\"xaxis\":\"x3\",\"yaxis\":\"y3\"},{\"marker\":{\"color\":\"royalblue\"},\"name\":\"- strand\",\"orientation\":\"h\",\"showlegend\":false,\"textposition\":[\"inside\",\"inside\",\"inside\",\"inside\",\"inside\",\"inside\",\"outside\",\"outside\",\"outside\",\"outside\",\"outside\",\"outside\",\"outside\",\"outside\"],\"texttemplate\":\"%{x:,d}\",\"width\":0.45,\"x\":[4158,3578,2477,2418,1219,525,212,80,32,16,4,2,1,1],\"y\":[1,2,0,3,4,5,6,7,8,9,11,10,14,12],\"type\":\"bar\",\"xaxis\":\"x3\",\"yaxis\":\"y3\"},{\"marker\":{\"color\":\"tomato\"},\"name\":\"+ strand\",\"orientation\":\"h\",\"showlegend\":false,\"textposition\":[\"inside\",\"inside\",\"outside\",\"outside\",\"outside\",\"outside\",\"outside\",\"outside\",\"outside\",\"outside\"],\"texttemplate\":\"%{x:,d}\",\"width\":0.45,\"x\":[1347,1066,279,69,23,14,9,7,6,1],\"y\":[0,1,2,3,4,5,6,8,7,10],\"type\":\"bar\",\"xaxis\":\"x4\",\"yaxis\":\"y4\"},{\"marker\":{\"color\":\"royalblue\"},\"name\":\"- strand\",\"orientation\":\"h\",\"showlegend\":false,\"textposition\":[\"inside\",\"inside\",\"outside\",\"outside\",\"outside\",\"outside\",\"outside\",\"outside\",\"outside\",\"outside\",\"outside\"],\"texttemplate\":\"%{x:,d}\",\"width\":0.45,\"x\":[1346,1094,270,48,25,16,10,6,3,2,1],\"y\":[0,1,2,3,4,5,6,7,8,9,11],\"type\":\"bar\",\"xaxis\":\"x4\",\"yaxis\":\"y4\"}],                        {\"template\":{\"data\":{\"barpolar\":[{\"marker\":{\"line\":{\"color\":\"rgb(237,237,237)\",\"width\":0.5},\"pattern\":{\"fillmode\":\"overlay\",\"size\":10,\"solidity\":0.2}},\"type\":\"barpolar\"}],\"bar\":[{\"error_x\":{\"color\":\"rgb(51,51,51)\"},\"error_y\":{\"color\":\"rgb(51,51,51)\"},\"marker\":{\"line\":{\"color\":\"rgb(237,237,237)\",\"width\":0.5},\"pattern\":{\"fillmode\":\"overlay\",\"size\":10,\"solidity\":0.2}},\"type\":\"bar\"}],\"carpet\":[{\"aaxis\":{\"endlinecolor\":\"rgb(51,51,51)\",\"gridcolor\":\"white\",\"linecolor\":\"white\",\"minorgridcolor\":\"white\",\"startlinecolor\":\"rgb(51,51,51)\"},\"baxis\":{\"endlinecolor\":\"rgb(51,51,51)\",\"gridcolor\":\"white\",\"linecolor\":\"white\",\"minorgridcolor\":\"white\",\"startlinecolor\":\"rgb(51,51,51)\"},\"type\":\"carpet\"}],\"choropleth\":[{\"colorbar\":{\"outlinewidth\":0,\"tickcolor\":\"rgb(237,237,237)\",\"ticklen\":6,\"ticks\":\"inside\"},\"type\":\"choropleth\"}],\"contourcarpet\":[{\"colorbar\":{\"outlinewidth\":0,\"tickcolor\":\"rgb(237,237,237)\",\"ticklen\":6,\"ticks\":\"inside\"},\"type\":\"contourcarpet\"}],\"contour\":[{\"colorbar\":{\"outlinewidth\":0,\"tickcolor\":\"rgb(237,237,237)\",\"ticklen\":6,\"ticks\":\"inside\"},\"colorscale\":[[0,\"rgb(20,44,66)\"],[1,\"rgb(90,179,244)\"]],\"type\":\"contour\"}],\"heatmapgl\":[{\"colorbar\":{\"outlinewidth\":0,\"tickcolor\":\"rgb(237,237,237)\",\"ticklen\":6,\"ticks\":\"inside\"},\"colorscale\":[[0,\"rgb(20,44,66)\"],[1,\"rgb(90,179,244)\"]],\"type\":\"heatmapgl\"}],\"heatmap\":[{\"colorbar\":{\"outlinewidth\":0,\"tickcolor\":\"rgb(237,237,237)\",\"ticklen\":6,\"ticks\":\"inside\"},\"colorscale\":[[0,\"rgb(20,44,66)\"],[1,\"rgb(90,179,244)\"]],\"type\":\"heatmap\"}],\"histogram2dcontour\":[{\"colorbar\":{\"outlinewidth\":0,\"tickcolor\":\"rgb(237,237,237)\",\"ticklen\":6,\"ticks\":\"inside\"},\"colorscale\":[[0,\"rgb(20,44,66)\"],[1,\"rgb(90,179,244)\"]],\"type\":\"histogram2dcontour\"}],\"histogram2d\":[{\"colorbar\":{\"outlinewidth\":0,\"tickcolor\":\"rgb(237,237,237)\",\"ticklen\":6,\"ticks\":\"inside\"},\"colorscale\":[[0,\"rgb(20,44,66)\"],[1,\"rgb(90,179,244)\"]],\"type\":\"histogram2d\"}],\"histogram\":[{\"marker\":{\"pattern\":{\"fillmode\":\"overlay\",\"size\":10,\"solidity\":0.2}},\"type\":\"histogram\"}],\"mesh3d\":[{\"colorbar\":{\"outlinewidth\":0,\"tickcolor\":\"rgb(237,237,237)\",\"ticklen\":6,\"ticks\":\"inside\"},\"type\":\"mesh3d\"}],\"parcoords\":[{\"line\":{\"colorbar\":{\"outlinewidth\":0,\"tickcolor\":\"rgb(237,237,237)\",\"ticklen\":6,\"ticks\":\"inside\"}},\"type\":\"parcoords\"}],\"pie\":[{\"automargin\":true,\"type\":\"pie\"}],\"scatter3d\":[{\"line\":{\"colorbar\":{\"outlinewidth\":0,\"tickcolor\":\"rgb(237,237,237)\",\"ticklen\":6,\"ticks\":\"inside\"}},\"marker\":{\"colorbar\":{\"outlinewidth\":0,\"tickcolor\":\"rgb(237,237,237)\",\"ticklen\":6,\"ticks\":\"inside\"}},\"type\":\"scatter3d\"}],\"scattercarpet\":[{\"marker\":{\"colorbar\":{\"outlinewidth\":0,\"tickcolor\":\"rgb(237,237,237)\",\"ticklen\":6,\"ticks\":\"inside\"}},\"type\":\"scattercarpet\"}],\"scattergeo\":[{\"marker\":{\"colorbar\":{\"outlinewidth\":0,\"tickcolor\":\"rgb(237,237,237)\",\"ticklen\":6,\"ticks\":\"inside\"}},\"type\":\"scattergeo\"}],\"scattergl\":[{\"marker\":{\"colorbar\":{\"outlinewidth\":0,\"tickcolor\":\"rgb(237,237,237)\",\"ticklen\":6,\"ticks\":\"inside\"}},\"type\":\"scattergl\"}],\"scattermapbox\":[{\"marker\":{\"colorbar\":{\"outlinewidth\":0,\"tickcolor\":\"rgb(237,237,237)\",\"ticklen\":6,\"ticks\":\"inside\"}},\"type\":\"scattermapbox\"}],\"scatterpolargl\":[{\"marker\":{\"colorbar\":{\"outlinewidth\":0,\"tickcolor\":\"rgb(237,237,237)\",\"ticklen\":6,\"ticks\":\"inside\"}},\"type\":\"scatterpolargl\"}],\"scatterpolar\":[{\"marker\":{\"colorbar\":{\"outlinewidth\":0,\"tickcolor\":\"rgb(237,237,237)\",\"ticklen\":6,\"ticks\":\"inside\"}},\"type\":\"scatterpolar\"}],\"scatter\":[{\"fillpattern\":{\"fillmode\":\"overlay\",\"size\":10,\"solidity\":0.2},\"type\":\"scatter\"}],\"scatterternary\":[{\"marker\":{\"colorbar\":{\"outlinewidth\":0,\"tickcolor\":\"rgb(237,237,237)\",\"ticklen\":6,\"ticks\":\"inside\"}},\"type\":\"scatterternary\"}],\"surface\":[{\"colorbar\":{\"outlinewidth\":0,\"tickcolor\":\"rgb(237,237,237)\",\"ticklen\":6,\"ticks\":\"inside\"},\"colorscale\":[[0,\"rgb(20,44,66)\"],[1,\"rgb(90,179,244)\"]],\"type\":\"surface\"}],\"table\":[{\"cells\":{\"fill\":{\"color\":\"rgb(237,237,237)\"},\"line\":{\"color\":\"white\"}},\"header\":{\"fill\":{\"color\":\"rgb(217,217,217)\"},\"line\":{\"color\":\"white\"}},\"type\":\"table\"}]},\"layout\":{\"annotationdefaults\":{\"arrowhead\":0,\"arrowwidth\":1},\"autotypenumbers\":\"strict\",\"coloraxis\":{\"colorbar\":{\"outlinewidth\":0,\"tickcolor\":\"rgb(237,237,237)\",\"ticklen\":6,\"ticks\":\"inside\"}},\"colorscale\":{\"sequential\":[[0,\"rgb(20,44,66)\"],[1,\"rgb(90,179,244)\"]],\"sequentialminus\":[[0,\"rgb(20,44,66)\"],[1,\"rgb(90,179,244)\"]]},\"colorway\":[\"#F8766D\",\"#A3A500\",\"#00BF7D\",\"#00B0F6\",\"#E76BF3\"],\"font\":{\"color\":\"rgb(51,51,51)\"},\"geo\":{\"bgcolor\":\"white\",\"lakecolor\":\"white\",\"landcolor\":\"rgb(237,237,237)\",\"showlakes\":true,\"showland\":true,\"subunitcolor\":\"white\"},\"hoverlabel\":{\"align\":\"left\"},\"hovermode\":\"closest\",\"paper_bgcolor\":\"white\",\"plot_bgcolor\":\"rgb(237,237,237)\",\"polar\":{\"angularaxis\":{\"gridcolor\":\"white\",\"linecolor\":\"white\",\"showgrid\":true,\"tickcolor\":\"rgb(51,51,51)\",\"ticks\":\"outside\"},\"bgcolor\":\"rgb(237,237,237)\",\"radialaxis\":{\"gridcolor\":\"white\",\"linecolor\":\"white\",\"showgrid\":true,\"tickcolor\":\"rgb(51,51,51)\",\"ticks\":\"outside\"}},\"scene\":{\"xaxis\":{\"backgroundcolor\":\"rgb(237,237,237)\",\"gridcolor\":\"white\",\"gridwidth\":2,\"linecolor\":\"white\",\"showbackground\":true,\"showgrid\":true,\"tickcolor\":\"rgb(51,51,51)\",\"ticks\":\"outside\",\"zerolinecolor\":\"white\"},\"yaxis\":{\"backgroundcolor\":\"rgb(237,237,237)\",\"gridcolor\":\"white\",\"gridwidth\":2,\"linecolor\":\"white\",\"showbackground\":true,\"showgrid\":true,\"tickcolor\":\"rgb(51,51,51)\",\"ticks\":\"outside\",\"zerolinecolor\":\"white\"},\"zaxis\":{\"backgroundcolor\":\"rgb(237,237,237)\",\"gridcolor\":\"white\",\"gridwidth\":2,\"linecolor\":\"white\",\"showbackground\":true,\"showgrid\":true,\"tickcolor\":\"rgb(51,51,51)\",\"ticks\":\"outside\",\"zerolinecolor\":\"white\"}},\"shapedefaults\":{\"fillcolor\":\"black\",\"line\":{\"width\":0},\"opacity\":0.3},\"ternary\":{\"aaxis\":{\"gridcolor\":\"white\",\"linecolor\":\"white\",\"showgrid\":true,\"tickcolor\":\"rgb(51,51,51)\",\"ticks\":\"outside\"},\"baxis\":{\"gridcolor\":\"white\",\"linecolor\":\"white\",\"showgrid\":true,\"tickcolor\":\"rgb(51,51,51)\",\"ticks\":\"outside\"},\"bgcolor\":\"rgb(237,237,237)\",\"caxis\":{\"gridcolor\":\"white\",\"linecolor\":\"white\",\"showgrid\":true,\"tickcolor\":\"rgb(51,51,51)\",\"ticks\":\"outside\"}},\"xaxis\":{\"automargin\":true,\"gridcolor\":\"white\",\"linecolor\":\"white\",\"showgrid\":true,\"tickcolor\":\"rgb(51,51,51)\",\"ticks\":\"outside\",\"title\":{\"standoff\":15},\"zerolinecolor\":\"white\"},\"yaxis\":{\"automargin\":true,\"gridcolor\":\"white\",\"linecolor\":\"white\",\"showgrid\":true,\"tickcolor\":\"rgb(51,51,51)\",\"ticks\":\"outside\",\"title\":{\"standoff\":15},\"zerolinecolor\":\"white\"}}},\"xaxis\":{\"anchor\":\"y\",\"domain\":[0.0,0.247],\"tickformat\":\"s\",\"ticks\":\"outside\"},\"yaxis\":{\"anchor\":\"x\",\"domain\":[0.0,1.0],\"dtick\":1},\"xaxis2\":{\"anchor\":\"y2\",\"domain\":[0.251,0.498],\"matches\":\"x\",\"tickformat\":\"s\",\"ticks\":\"outside\"},\"yaxis2\":{\"anchor\":\"x2\",\"domain\":[0.0,1.0],\"matches\":\"y\",\"showticklabels\":false,\"ticks\":\"\",\"dtick\":1},\"xaxis3\":{\"anchor\":\"y3\",\"domain\":[0.502,0.749],\"matches\":\"x\",\"tickformat\":\"s\",\"ticks\":\"outside\"},\"yaxis3\":{\"anchor\":\"x3\",\"domain\":[0.0,1.0],\"matches\":\"y\",\"showticklabels\":false,\"ticks\":\"\",\"dtick\":1},\"xaxis4\":{\"anchor\":\"y4\",\"domain\":[0.753,1.0],\"matches\":\"x\",\"tickformat\":\"s\",\"ticks\":\"outside\"},\"yaxis4\":{\"anchor\":\"x4\",\"domain\":[0.0,1.0],\"matches\":\"y\",\"showticklabels\":false,\"ticks\":\"\",\"dtick\":1},\"annotations\":[{\"font\":{\"size\":14},\"showarrow\":false,\"text\":\"<b>G4</b> (15,994)\",\"x\":0.1235,\"xanchor\":\"center\",\"xref\":\"paper\",\"y\":1.0,\"yanchor\":\"bottom\",\"yref\":\"paper\"},{\"font\":{\"size\":14},\"showarrow\":false,\"text\":\"<b>Z-DNA</b> (12,290)\",\"x\":0.3745,\"xanchor\":\"center\",\"xref\":\"paper\",\"y\":1.0,\"yanchor\":\"bottom\",\"yref\":\"paper\"},{\"font\":{\"size\":14},\"showarrow\":false,\"text\":\"<b>SIDD</b> (29,446)\",\"x\":0.6255,\"xanchor\":\"center\",\"xref\":\"paper\",\"y\":1.0,\"yanchor\":\"bottom\",\"yref\":\"paper\"},{\"font\":{\"size\":14},\"showarrow\":false,\"text\":\"<b>H-DNA</b> (5,642)\",\"x\":0.8765000000000001,\"xanchor\":\"center\",\"xref\":\"paper\",\"y\":1.0,\"yanchor\":\"bottom\",\"yref\":\"paper\"},{\"font\":{\"size\":14},\"showarrow\":false,\"text\":\"Flipon count\",\"x\":0.5,\"xanchor\":\"center\",\"xref\":\"paper\",\"y\":0,\"yanchor\":\"top\",\"yref\":\"paper\",\"yshift\":-30},{\"font\":{\"size\":14},\"showarrow\":false,\"text\":\"Number of miRNAs per flipon\",\"textangle\":-90,\"x\":0,\"xanchor\":\"right\",\"xref\":\"paper\",\"xshift\":-40,\"y\":0.5,\"yanchor\":\"middle\",\"yref\":\"paper\"}],\"font\":{\"family\":\"monospace\",\"size\":12},\"uniformtext\":{\"minsize\":12,\"mode\":\"show\"},\"margin\":{\"l\":60,\"r\":5,\"t\":25,\"b\":60},\"legend\":{\"orientation\":\"h\",\"yanchor\":\"bottom\",\"y\":1.05,\"xanchor\":\"right\",\"x\":1},\"height\":700,\"width\":1600},                        {\"responsive\": true}                    ).then(function(){\n",
       "                            \n",
       "var gd = document.getElementById('4afd0504-9847-4161-8c43-a6aa3fcbe732');\n",
       "var x = new MutationObserver(function (mutations, observer) {{\n",
       "        var display = window.getComputedStyle(gd).display;\n",
       "        if (!display || display === 'none') {{\n",
       "            console.log([gd, 'removed!']);\n",
       "            Plotly.purge(gd);\n",
       "            observer.disconnect();\n",
       "        }}\n",
       "}});\n",
       "\n",
       "// Listen for the removal of the full notebook cells\n",
       "var notebookContainer = gd.closest('#notebook-container');\n",
       "if (notebookContainer) {{\n",
       "    x.observe(notebookContainer, {childList: true});\n",
       "}}\n",
       "\n",
       "// Listen for the clearing of the current output cell\n",
       "var outputEl = gd.closest('.output');\n",
       "if (outputEl) {{\n",
       "    x.observe(outputEl, {childList: true});\n",
       "}}\n",
       "\n",
       "                        })                };                });            </script>        </div>"
      ]
     },
     "metadata": {},
     "output_type": "display_data"
    }
   ],
   "source": [
    "flipon_to_data = pd.read_table(f_flipon_to_data)\n",
    "\n",
    "plotly_data = (\n",
    "    flipon_to_data.assign(\n",
    "        group = lambda x: x['group'].str.replace('quadruplex', 'g4'),\n",
    "        mirna_plus_count=lambda x: x[\"miRNA (+ strand)\"].str.split(\", \").apply(lambda x: get_mirna_number(x) if type(x) is list else 0).astype(pd.Int64Dtype()),\n",
    "        mirna_minus_count=lambda x: x[\"miRNA (- strand)\"].str.split(\", \").apply(lambda x: get_mirna_number(x) if type(x) is list else 0).astype(pd.Int64Dtype()),\n",
    "    )\n",
    "    .melt(id_vars=[\"group\"], value_vars=[\"mirna_plus_count\", \"mirna_minus_count\"])\n",
    "    .groupby(\"group\")\n",
    "    .value_counts()\n",
    "    .to_frame()\n",
    "    .reset_index()\n",
    "    .rename(columns={0: \"count\"})\n",
    ")\n",
    "plotly_data\n",
    "\n",
    "\n",
    "groups = (\"G4\", \"Z-DNA\", \"SIDD\", \"H-DNA\")\n",
    "categories = {\n",
    "    \"mirna_plus_count\": \"+ strand\",\n",
    "    \"mirna_minus_count\": \"- strand\",\n",
    "}\n",
    "colors = {\n",
    "    \"+ strand\": \"tomato\",\n",
    "    \"- strand\": \"royalblue\",\n",
    "}\n",
    "\n",
    "n_rows = 1\n",
    "n_cols = 4\n",
    "\n",
    "fig = ps.make_subplots(\n",
    "    rows=n_rows,\n",
    "    cols=n_cols,\n",
    "    shared_xaxes=\"all\",\n",
    "    shared_yaxes=\"all\",\n",
    "    horizontal_spacing=0.004,\n",
    "    vertical_spacing=0.01,\n",
    "    column_titles=[\n",
    "        f\"<b>{x}</b> ({plotly_data[plotly_data['group'] == x.lower()]['count'].sum():,d})\"\n",
    "        for x in groups\n",
    "    ],\n",
    "    y_title=\"Number of miRNAs per flipon\",\n",
    "    x_title=\"Flipon count\",\n",
    ")\n",
    "\n",
    "for i, group in enumerate(groups):\n",
    "    for category, name in categories.items():\n",
    "        df = plotly_data[\n",
    "            (plotly_data[\"group\"] == group.lower())\n",
    "            & (plotly_data[\"variable\"] == category)\n",
    "        ]\n",
    "        sub = pgo.Bar(\n",
    "            x=df[\"count\"],\n",
    "            y=df[\"value\"],\n",
    "            name=name,\n",
    "            texttemplate=\"%{x:,d}\",\n",
    "            textposition=df[\"count\"].apply(\n",
    "                lambda x: \"outside\" if x < 300 else \"inside\"\n",
    "            ),\n",
    "            marker=dict(color=colors[name]),\n",
    "            orientation=\"h\",\n",
    "            width=0.45,\n",
    "            showlegend=True if (i == 0) else False,\n",
    "        )\n",
    "        fig.add_trace(sub, row=1, col=i + 1)\n",
    "    if i:\n",
    "        fig.update_yaxes(ticks=\"\", row=1, col=i + 1)\n",
    "\n",
    "\n",
    "fig.update_xaxes(tickformat=\"s\")\n",
    "fig.update_xaxes(ticks=\"outside\", row=n_rows)\n",
    "fig.update_yaxes(dtick=1)\n",
    "fig.update_annotations(font=dict(size=14))\n",
    "\n",
    "fig.update_layout(\n",
    "    # title=f\"Flipons enriched with miRNA seed-regions ({plotly_data['count'].sum():,d})\",\n",
    "    # title_x=0.0035,\n",
    "    # title_y=.985,\n",
    "    height=700,\n",
    "    width=1600,\n",
    "    font=dict(family=\"monospace\", size=12),\n",
    "    uniformtext_minsize=12,\n",
    "    uniformtext_mode=\"show\",\n",
    "    margin=dict(l=60, r=5, t=25, b=60),\n",
    "    legend=dict(\n",
    "        # title_text=\"Flipon group\",\n",
    "        # traceorder=\"reversed\",\n",
    "        orientation=\"h\",\n",
    "        yanchor=\"bottom\",\n",
    "        y=1.05,\n",
    "        xanchor=\"right\",\n",
    "        x=1,\n",
    "    ),\n",
    "    template=\"ggplot2\",\n",
    ")\n",
    "\n",
    "fig.write_image(d_img / \"flipon-to-mirna-mapping-strand-counts-mirna-only.png\")\n",
    "fig.show()\n"
   ]
  },
  {
   "cell_type": "code",
   "execution_count": null,
   "metadata": {},
   "outputs": [],
   "source": []
  }
 ],
 "metadata": {
  "kernelspec": {
   "display_name": "Python 3.11.0 ('mirna')",
   "language": "python",
   "name": "python3"
  },
  "language_info": {
   "codemirror_mode": {
    "name": "ipython",
    "version": 3
   },
   "file_extension": ".py",
   "mimetype": "text/x-python",
   "name": "python",
   "nbconvert_exporter": "python",
   "pygments_lexer": "ipython3",
   "version": "3.11.0"
  },
  "orig_nbformat": 4,
  "vscode": {
   "interpreter": {
    "hash": "aa4ca5e43b0b74394dc05f972f57eb4922712b4f4450a8ee4f1bf77784cf2ccc"
   }
  }
 },
 "nbformat": 4,
 "nbformat_minor": 2
}
