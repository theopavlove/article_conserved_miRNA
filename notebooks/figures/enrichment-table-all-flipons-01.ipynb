{
 "cells": [
  {
   "cell_type": "code",
   "execution_count": 1,
   "metadata": {},
   "outputs": [],
   "source": [
    "import numpy as np\n",
    "import pandas as pd\n",
    "import plotly.graph_objects as pgo\n",
    "import plotly.subplots as ps\n",
    "\n",
    "from pathlib import Path\n",
    "\n",
    "pd.set_option('display.max_rows', 2)"
   ]
  },
  {
   "cell_type": "code",
   "execution_count": 2,
   "metadata": {
    "tags": []
   },
   "outputs": [],
   "source": [
    "d_root = Path(\"/home/fpavlov/projects/article_conserved_miRNA\")\n",
    "d_data = d_root / \"data\"\n",
    "d_img = d_root / \"img\"\n",
    "\n",
    "# Input\n",
    "f_flipon_to_data = d_data / \"flipon_to_data.tsv\"\n",
    "f_flipon_to_data_og = d_data / \"flipon_to_data_og.tsv\"\n"
   ]
  },
  {
   "cell_type": "code",
   "execution_count": 3,
   "metadata": {},
   "outputs": [],
   "source": [
    "def get_group(x: list):\n",
    "    any_ccre = x[0].replace('(CTCF-bound)', '').replace('CTCF-only', '').replace('CTCF', '').strip(\", \") != ''\n",
    "    any_ctcf = \"CTCF\" in x[0]\n",
    "    any_reps = x[1] != \"\"\n",
    "\n",
    "    return \"&\".join([any_ccre * \"cCRE\", any_reps * \"Rep\", any_ctcf * \"CTCF\"]).replace(\n",
    "        \"&&\", \"&\"\n",
    "    )\n",
    "\n",
    "def get_plotly_data(path: Path) -> pd.DataFrame:\n",
    "    flipons_to_data = pd.read_table(path).fillna('')\n",
    "    result = (\n",
    "        flipons_to_data.replace(regex=r\"(@(.+?), )|(@(.+?)$)\", value=\",\")\n",
    "        .assign(\n",
    "            feature_group=lambda x: x[\n",
    "                [\"cCRE (+-200bp slop)\", \"LINE/LTR repeats (+-200bp slop)\"]\n",
    "            ]\n",
    "            .apply(get_group, axis=1)\n",
    "            .str.strip(\"&\")\n",
    "        )\n",
    "        .loc[:, [\"feature_group\", \"annotation\", \"group\"]]\n",
    "        .groupby([\"annotation\", \"feature_group\"])[[\"group\"]]\n",
    "        .value_counts()\n",
    "        .to_frame()\n",
    "        .rename(columns={0: \"count\"})\n",
    "        .reset_index()\n",
    "    )\n",
    "    result = result.replace(\"\", \"no annotation\").replace(\n",
    "        {\"quadruplex\": \"G4\", \"z-dna\": \"Z-DNA\", \"h-dna\": \"H-DNA\", \"sidd\": \"SIDD\"}\n",
    "    )\n",
    "    return result\n"
   ]
  },
  {
   "cell_type": "code",
   "execution_count": 4,
   "metadata": {},
   "outputs": [
    {
     "data": {
      "text/html": [
       "<div>\n",
       "<style scoped>\n",
       "    .dataframe tbody tr th:only-of-type {\n",
       "        vertical-align: middle;\n",
       "    }\n",
       "\n",
       "    .dataframe tbody tr th {\n",
       "        vertical-align: top;\n",
       "    }\n",
       "\n",
       "    .dataframe thead th {\n",
       "        text-align: right;\n",
       "    }\n",
       "</style>\n",
       "<table border=\"1\" class=\"dataframe\">\n",
       "  <thead>\n",
       "    <tr style=\"text-align: right;\">\n",
       "      <th></th>\n",
       "      <th>annotation</th>\n",
       "      <th>feature_group</th>\n",
       "      <th>group</th>\n",
       "      <th>count</th>\n",
       "    </tr>\n",
       "  </thead>\n",
       "  <tbody>\n",
       "    <tr>\n",
       "      <th>0</th>\n",
       "      <td>no annotation</td>\n",
       "      <td>no annotation</td>\n",
       "      <td>Z-DNA</td>\n",
       "      <td>1223</td>\n",
       "    </tr>\n",
       "    <tr>\n",
       "      <th>...</th>\n",
       "      <td>...</td>\n",
       "      <td>...</td>\n",
       "      <td>...</td>\n",
       "      <td>...</td>\n",
       "    </tr>\n",
       "    <tr>\n",
       "      <th>205</th>\n",
       "      <td>Promoter (&lt;=1kb)</td>\n",
       "      <td>cCRE&amp;Rep&amp;CTCF</td>\n",
       "      <td>H-DNA</td>\n",
       "      <td>3</td>\n",
       "    </tr>\n",
       "  </tbody>\n",
       "</table>\n",
       "<p>206 rows × 4 columns</p>\n",
       "</div>"
      ],
      "text/plain": [
       "           annotation  feature_group  group  count\n",
       "0       no annotation  no annotation  Z-DNA   1223\n",
       "..                ...            ...    ...    ...\n",
       "205  Promoter (<=1kb)  cCRE&Rep&CTCF  H-DNA      3\n",
       "\n",
       "[206 rows x 4 columns]"
      ]
     },
     "execution_count": 4,
     "metadata": {},
     "output_type": "execute_result"
    }
   ],
   "source": [
    "plotly_data = get_plotly_data(f_flipon_to_data)\n",
    "plotly_data"
   ]
  },
  {
   "cell_type": "code",
   "execution_count": 5,
   "metadata": {},
   "outputs": [
    {
     "name": "stderr",
     "output_type": "stream",
     "text": [
      "/tmp/ipykernel_3578790/4204794224.py:11: DtypeWarning: Columns (4) have mixed types. Specify dtype option on import or set low_memory=False.\n",
      "  flipons_to_data = pd.read_table(path).fillna('')\n"
     ]
    },
    {
     "data": {
      "text/html": [
       "<div>\n",
       "<style scoped>\n",
       "    .dataframe tbody tr th:only-of-type {\n",
       "        vertical-align: middle;\n",
       "    }\n",
       "\n",
       "    .dataframe tbody tr th {\n",
       "        vertical-align: top;\n",
       "    }\n",
       "\n",
       "    .dataframe thead th {\n",
       "        text-align: right;\n",
       "    }\n",
       "</style>\n",
       "<table border=\"1\" class=\"dataframe\">\n",
       "  <thead>\n",
       "    <tr style=\"text-align: right;\">\n",
       "      <th></th>\n",
       "      <th>annotation</th>\n",
       "      <th>feature_group</th>\n",
       "      <th>group</th>\n",
       "      <th>count</th>\n",
       "    </tr>\n",
       "  </thead>\n",
       "  <tbody>\n",
       "    <tr>\n",
       "      <th>0</th>\n",
       "      <td>no annotation</td>\n",
       "      <td>no annotation</td>\n",
       "      <td>Z-DNA</td>\n",
       "      <td>3697</td>\n",
       "    </tr>\n",
       "    <tr>\n",
       "      <th>...</th>\n",
       "      <td>...</td>\n",
       "      <td>...</td>\n",
       "      <td>...</td>\n",
       "      <td>...</td>\n",
       "    </tr>\n",
       "    <tr>\n",
       "      <th>237</th>\n",
       "      <td>Promoter (&lt;=1kb)</td>\n",
       "      <td>cCRE&amp;Rep&amp;CTCF</td>\n",
       "      <td>SIDD</td>\n",
       "      <td>8</td>\n",
       "    </tr>\n",
       "  </tbody>\n",
       "</table>\n",
       "<p>238 rows × 4 columns</p>\n",
       "</div>"
      ],
      "text/plain": [
       "           annotation  feature_group  group  count\n",
       "0       no annotation  no annotation  Z-DNA   3697\n",
       "..                ...            ...    ...    ...\n",
       "237  Promoter (<=1kb)  cCRE&Rep&CTCF   SIDD      8\n",
       "\n",
       "[238 rows x 4 columns]"
      ]
     },
     "execution_count": 5,
     "metadata": {},
     "output_type": "execute_result"
    }
   ],
   "source": [
    "plotly_data_og = get_plotly_data(f_flipon_to_data_og)\n",
    "plotly_data_og"
   ]
  },
  {
   "cell_type": "code",
   "execution_count": 16,
   "metadata": {},
   "outputs": [
    {
     "data": {
      "application/vnd.plotly.v1+json": {
       "config": {
        "plotlyServerURL": "https://plot.ly"
       },
       "data": [
        {
         "marker": {
          "color": "darkorchid"
         },
         "name": "H-DNA",
         "orientation": "h",
         "showlegend": true,
         "textposition": "outside",
         "texttemplate": "%{x:,d}",
         "type": "bar",
         "width": 1,
         "x": [
          72
         ],
         "xaxis": "x",
         "y": [
          "H-DNA"
         ],
         "yaxis": "y"
        },
        {
         "marker": {
          "color": "#ED4241"
         },
         "name": "SIDD",
         "orientation": "h",
         "showlegend": true,
         "textposition": "outside",
         "texttemplate": "%{x:,d}",
         "type": "bar",
         "width": 1,
         "x": [
          152
         ],
         "xaxis": "x",
         "y": [
          "SIDD"
         ],
         "yaxis": "y"
        },
        {
         "marker": {
          "color": "royalblue"
         },
         "name": "Z-DNA",
         "orientation": "h",
         "showlegend": true,
         "textposition": "outside",
         "texttemplate": "%{x:,d}",
         "type": "bar",
         "width": 1,
         "x": [
          221
         ],
         "xaxis": "x",
         "y": [
          "Z-DNA"
         ],
         "yaxis": "y"
        },
        {
         "marker": {
          "color": "#FE9B54"
         },
         "name": "G4",
         "orientation": "h",
         "showlegend": true,
         "textposition": "outside",
         "texttemplate": "%{x:,d}",
         "type": "bar",
         "width": 1,
         "x": [
          543
         ],
         "xaxis": "x",
         "y": [
          "G4"
         ],
         "yaxis": "y"
        },
        {
         "marker": {
          "color": "darkorchid"
         },
         "name": "H-DNA",
         "orientation": "h",
         "showlegend": false,
         "textposition": "outside",
         "texttemplate": "%{x:,d}",
         "type": "bar",
         "width": 1,
         "x": [
          6
         ],
         "xaxis": "x2",
         "y": [
          "H-DNA"
         ],
         "yaxis": "y2"
        },
        {
         "marker": {
          "color": "#ED4241"
         },
         "name": "SIDD",
         "orientation": "h",
         "showlegend": false,
         "textposition": "outside",
         "texttemplate": "%{x:,d}",
         "type": "bar",
         "width": 1,
         "x": [
          40
         ],
         "xaxis": "x2",
         "y": [
          "SIDD"
         ],
         "yaxis": "y2"
        },
        {
         "marker": {
          "color": "royalblue"
         },
         "name": "Z-DNA",
         "orientation": "h",
         "showlegend": false,
         "textposition": "outside",
         "texttemplate": "%{x:,d}",
         "type": "bar",
         "width": 1,
         "x": [
          22
         ],
         "xaxis": "x2",
         "y": [
          "Z-DNA"
         ],
         "yaxis": "y2"
        },
        {
         "marker": {
          "color": "#FE9B54"
         },
         "name": "G4",
         "orientation": "h",
         "showlegend": false,
         "textposition": "outside",
         "texttemplate": "%{x:,d}",
         "type": "bar",
         "width": 1,
         "x": [
          39
         ],
         "xaxis": "x2",
         "y": [
          "G4"
         ],
         "yaxis": "y2"
        },
        {
         "marker": {
          "color": "darkorchid"
         },
         "name": "H-DNA",
         "orientation": "h",
         "showlegend": false,
         "textposition": "outside",
         "texttemplate": "%{x:,d}",
         "type": "bar",
         "width": 1,
         "x": [
          7
         ],
         "xaxis": "x3",
         "y": [
          "H-DNA"
         ],
         "yaxis": "y3"
        },
        {
         "marker": {
          "color": "#ED4241"
         },
         "name": "SIDD",
         "orientation": "h",
         "showlegend": false,
         "textposition": "outside",
         "texttemplate": "%{x:,d}",
         "type": "bar",
         "width": 1,
         "x": [
          19
         ],
         "xaxis": "x3",
         "y": [
          "SIDD"
         ],
         "yaxis": "y3"
        },
        {
         "marker": {
          "color": "royalblue"
         },
         "name": "Z-DNA",
         "orientation": "h",
         "showlegend": false,
         "textposition": "outside",
         "texttemplate": "%{x:,d}",
         "type": "bar",
         "width": 1,
         "x": [
          9
         ],
         "xaxis": "x3",
         "y": [
          "Z-DNA"
         ],
         "yaxis": "y3"
        },
        {
         "marker": {
          "color": "#FE9B54"
         },
         "name": "G4",
         "orientation": "h",
         "showlegend": false,
         "textposition": "outside",
         "texttemplate": "%{x:,d}",
         "type": "bar",
         "width": 1,
         "x": [
          19
         ],
         "xaxis": "x3",
         "y": [
          "G4"
         ],
         "yaxis": "y3"
        },
        {
         "marker": {
          "color": "darkorchid"
         },
         "name": "H-DNA",
         "orientation": "h",
         "showlegend": false,
         "textposition": "outside",
         "texttemplate": "%{x:,d}",
         "type": "bar",
         "width": 1,
         "x": [
          11
         ],
         "xaxis": "x4",
         "y": [
          "H-DNA"
         ],
         "yaxis": "y4"
        },
        {
         "marker": {
          "color": "#ED4241"
         },
         "name": "SIDD",
         "orientation": "h",
         "showlegend": false,
         "textposition": "outside",
         "texttemplate": "%{x:,d}",
         "type": "bar",
         "width": 1,
         "x": [
          47
         ],
         "xaxis": "x4",
         "y": [
          "SIDD"
         ],
         "yaxis": "y4"
        },
        {
         "marker": {
          "color": "royalblue"
         },
         "name": "Z-DNA",
         "orientation": "h",
         "showlegend": false,
         "textposition": "outside",
         "texttemplate": "%{x:,d}",
         "type": "bar",
         "width": 1,
         "x": [
          26
         ],
         "xaxis": "x4",
         "y": [
          "Z-DNA"
         ],
         "yaxis": "y4"
        },
        {
         "marker": {
          "color": "#FE9B54"
         },
         "name": "G4",
         "orientation": "h",
         "showlegend": false,
         "textposition": "outside",
         "texttemplate": "%{x:,d}",
         "type": "bar",
         "width": 1,
         "x": [
          63
         ],
         "xaxis": "x4",
         "y": [
          "G4"
         ],
         "yaxis": "y4"
        },
        {
         "marker": {
          "color": "darkorchid"
         },
         "name": "H-DNA",
         "orientation": "h",
         "showlegend": false,
         "textposition": "outside",
         "texttemplate": "%{x:,d}",
         "type": "bar",
         "width": 1,
         "x": [
          1
         ],
         "xaxis": "x6",
         "y": [
          "H-DNA"
         ],
         "yaxis": "y6"
        },
        {
         "marker": {
          "color": "#ED4241"
         },
         "name": "SIDD",
         "orientation": "h",
         "showlegend": false,
         "textposition": "outside",
         "texttemplate": "%{x:,d}",
         "type": "bar",
         "width": 1,
         "x": [
          15
         ],
         "xaxis": "x6",
         "y": [
          "SIDD"
         ],
         "yaxis": "y6"
        },
        {
         "marker": {
          "color": "royalblue"
         },
         "name": "Z-DNA",
         "orientation": "h",
         "showlegend": false,
         "textposition": "outside",
         "texttemplate": "%{x:,d}",
         "type": "bar",
         "width": 1,
         "x": [
          1
         ],
         "xaxis": "x6",
         "y": [
          "Z-DNA"
         ],
         "yaxis": "y6"
        },
        {
         "marker": {
          "color": "#FE9B54"
         },
         "name": "G4",
         "orientation": "h",
         "showlegend": false,
         "textposition": "outside",
         "texttemplate": "%{x:,d}",
         "type": "bar",
         "width": 1,
         "x": [
          11
         ],
         "xaxis": "x6",
         "y": [
          "G4"
         ],
         "yaxis": "y6"
        },
        {
         "marker": {
          "color": "#ED4241"
         },
         "name": "SIDD",
         "orientation": "h",
         "showlegend": false,
         "textposition": "outside",
         "texttemplate": "%{x:,d}",
         "type": "bar",
         "width": 1,
         "x": [
          5
         ],
         "xaxis": "x8",
         "y": [
          "SIDD"
         ],
         "yaxis": "y8"
        },
        {
         "marker": {
          "color": "royalblue"
         },
         "name": "Z-DNA",
         "orientation": "h",
         "showlegend": false,
         "textposition": "outside",
         "texttemplate": "%{x:,d}",
         "type": "bar",
         "width": 1,
         "x": [
          6
         ],
         "xaxis": "x8",
         "y": [
          "Z-DNA"
         ],
         "yaxis": "y8"
        },
        {
         "marker": {
          "color": "#FE9B54"
         },
         "name": "G4",
         "orientation": "h",
         "showlegend": false,
         "textposition": "outside",
         "texttemplate": "%{x:,d}",
         "type": "bar",
         "width": 1,
         "x": [
          9
         ],
         "xaxis": "x8",
         "y": [
          "G4"
         ],
         "yaxis": "y8"
        },
        {
         "marker": {
          "color": "darkorchid"
         },
         "name": "H-DNA",
         "orientation": "h",
         "showlegend": false,
         "textposition": "outside",
         "texttemplate": "%{x:,d}",
         "type": "bar",
         "width": 1,
         "x": [
          17
         ],
         "xaxis": "x9",
         "y": [
          "H-DNA"
         ],
         "yaxis": "y9"
        },
        {
         "marker": {
          "color": "#ED4241"
         },
         "name": "SIDD",
         "orientation": "h",
         "showlegend": false,
         "textposition": "outside",
         "texttemplate": "%{x:,d}",
         "type": "bar",
         "width": 1,
         "x": [
          50
         ],
         "xaxis": "x9",
         "y": [
          "SIDD"
         ],
         "yaxis": "y9"
        },
        {
         "marker": {
          "color": "royalblue"
         },
         "name": "Z-DNA",
         "orientation": "h",
         "showlegend": false,
         "textposition": "outside",
         "texttemplate": "%{x:,d}",
         "type": "bar",
         "width": 1,
         "x": [
          19
         ],
         "xaxis": "x9",
         "y": [
          "Z-DNA"
         ],
         "yaxis": "y9"
        },
        {
         "marker": {
          "color": "#FE9B54"
         },
         "name": "G4",
         "orientation": "h",
         "showlegend": false,
         "textposition": "outside",
         "texttemplate": "%{x:,d}",
         "type": "bar",
         "width": 1,
         "x": [
          49
         ],
         "xaxis": "x9",
         "y": [
          "G4"
         ],
         "yaxis": "y9"
        },
        {
         "marker": {
          "color": "darkorchid"
         },
         "name": "H-DNA",
         "orientation": "h",
         "showlegend": false,
         "textposition": "outside",
         "texttemplate": "%{x:,d}",
         "type": "bar",
         "width": 1,
         "x": [
          91
         ],
         "xaxis": "x10",
         "y": [
          "H-DNA"
         ],
         "yaxis": "y10"
        },
        {
         "marker": {
          "color": "#ED4241"
         },
         "name": "SIDD",
         "orientation": "h",
         "showlegend": false,
         "textposition": "outside",
         "texttemplate": "%{x:,d}",
         "type": "bar",
         "width": 1,
         "x": [
          126
         ],
         "xaxis": "x10",
         "y": [
          "SIDD"
         ],
         "yaxis": "y10"
        },
        {
         "marker": {
          "color": "royalblue"
         },
         "name": "Z-DNA",
         "orientation": "h",
         "showlegend": false,
         "textposition": "outside",
         "texttemplate": "%{x:,d}",
         "type": "bar",
         "width": 1,
         "x": [
          580
         ],
         "xaxis": "x10",
         "y": [
          "Z-DNA"
         ],
         "yaxis": "y10"
        },
        {
         "marker": {
          "color": "#FE9B54"
         },
         "name": "G4",
         "orientation": "h",
         "showlegend": false,
         "textposition": "outside",
         "texttemplate": "%{x:,d}",
         "type": "bar",
         "width": 1,
         "x": [
          1169
         ],
         "xaxis": "x10",
         "y": [
          "G4"
         ],
         "yaxis": "y10"
        },
        {
         "marker": {
          "color": "darkorchid"
         },
         "name": "H-DNA",
         "orientation": "h",
         "showlegend": false,
         "textposition": "outside",
         "texttemplate": "%{x:,d}",
         "type": "bar",
         "width": 1,
         "x": [
          25
         ],
         "xaxis": "x11",
         "y": [
          "H-DNA"
         ],
         "yaxis": "y11"
        },
        {
         "marker": {
          "color": "#ED4241"
         },
         "name": "SIDD",
         "orientation": "h",
         "showlegend": false,
         "textposition": "outside",
         "texttemplate": "%{x:,d}",
         "type": "bar",
         "width": 1,
         "x": [
          334
         ],
         "xaxis": "x11",
         "y": [
          "SIDD"
         ],
         "yaxis": "y11"
        },
        {
         "marker": {
          "color": "royalblue"
         },
         "name": "Z-DNA",
         "orientation": "h",
         "showlegend": false,
         "textposition": "outside",
         "texttemplate": "%{x:,d}",
         "type": "bar",
         "width": 1,
         "x": [
          53
         ],
         "xaxis": "x11",
         "y": [
          "Z-DNA"
         ],
         "yaxis": "y11"
        },
        {
         "marker": {
          "color": "#FE9B54"
         },
         "name": "G4",
         "orientation": "h",
         "showlegend": false,
         "textposition": "outside",
         "texttemplate": "%{x:,d}",
         "type": "bar",
         "width": 1,
         "x": [
          67
         ],
         "xaxis": "x11",
         "y": [
          "G4"
         ],
         "yaxis": "y11"
        },
        {
         "marker": {
          "color": "darkorchid"
         },
         "name": "H-DNA",
         "orientation": "h",
         "showlegend": false,
         "textposition": "outside",
         "texttemplate": "%{x:,d}",
         "type": "bar",
         "width": 1,
         "x": [
          33
         ],
         "xaxis": "x12",
         "y": [
          "H-DNA"
         ],
         "yaxis": "y12"
        },
        {
         "marker": {
          "color": "#ED4241"
         },
         "name": "SIDD",
         "orientation": "h",
         "showlegend": false,
         "textposition": "outside",
         "texttemplate": "%{x:,d}",
         "type": "bar",
         "width": 1,
         "x": [
          347
         ],
         "xaxis": "x12",
         "y": [
          "SIDD"
         ],
         "yaxis": "y12"
        },
        {
         "marker": {
          "color": "royalblue"
         },
         "name": "Z-DNA",
         "orientation": "h",
         "showlegend": false,
         "textposition": "outside",
         "texttemplate": "%{x:,d}",
         "type": "bar",
         "width": 1,
         "x": [
          42
         ],
         "xaxis": "x12",
         "y": [
          "Z-DNA"
         ],
         "yaxis": "y12"
        },
        {
         "marker": {
          "color": "#FE9B54"
         },
         "name": "G4",
         "orientation": "h",
         "showlegend": false,
         "textposition": "outside",
         "texttemplate": "%{x:,d}",
         "type": "bar",
         "width": 1,
         "x": [
          80
         ],
         "xaxis": "x12",
         "y": [
          "G4"
         ],
         "yaxis": "y12"
        },
        {
         "marker": {
          "color": "darkorchid"
         },
         "name": "H-DNA",
         "orientation": "h",
         "showlegend": false,
         "textposition": "outside",
         "texttemplate": "%{x:,d}",
         "type": "bar",
         "width": 1,
         "x": [
          36
         ],
         "xaxis": "x13",
         "y": [
          "H-DNA"
         ],
         "yaxis": "y13"
        },
        {
         "marker": {
          "color": "#ED4241"
         },
         "name": "SIDD",
         "orientation": "h",
         "showlegend": false,
         "textposition": "outside",
         "texttemplate": "%{x:,d}",
         "type": "bar",
         "width": 1,
         "x": [
          285
         ],
         "xaxis": "x13",
         "y": [
          "SIDD"
         ],
         "yaxis": "y13"
        },
        {
         "marker": {
          "color": "royalblue"
         },
         "name": "Z-DNA",
         "orientation": "h",
         "showlegend": false,
         "textposition": "outside",
         "texttemplate": "%{x:,d}",
         "type": "bar",
         "width": 1,
         "x": [
          55
         ],
         "xaxis": "x13",
         "y": [
          "Z-DNA"
         ],
         "yaxis": "y13"
        },
        {
         "marker": {
          "color": "#FE9B54"
         },
         "name": "G4",
         "orientation": "h",
         "showlegend": false,
         "textposition": "outside",
         "texttemplate": "%{x:,d}",
         "type": "bar",
         "width": 1,
         "x": [
          86
         ],
         "xaxis": "x13",
         "y": [
          "G4"
         ],
         "yaxis": "y13"
        },
        {
         "marker": {
          "color": "darkorchid"
         },
         "name": "H-DNA",
         "orientation": "h",
         "showlegend": false,
         "textposition": "outside",
         "texttemplate": "%{x:,d}",
         "type": "bar",
         "width": 1,
         "x": [
          522
         ],
         "xaxis": "x14",
         "y": [
          "H-DNA"
         ],
         "yaxis": "y14"
        },
        {
         "marker": {
          "color": "#ED4241"
         },
         "name": "SIDD",
         "orientation": "h",
         "showlegend": false,
         "textposition": "inside",
         "texttemplate": "%{x:,d}",
         "type": "bar",
         "width": 1,
         "x": [
          5082
         ],
         "xaxis": "x14",
         "y": [
          "SIDD"
         ],
         "yaxis": "y14"
        },
        {
         "marker": {
          "color": "royalblue"
         },
         "name": "Z-DNA",
         "orientation": "h",
         "showlegend": false,
         "textposition": "outside",
         "texttemplate": "%{x:,d}",
         "type": "bar",
         "width": 1,
         "x": [
          831
         ],
         "xaxis": "x14",
         "y": [
          "Z-DNA"
         ],
         "yaxis": "y14"
        },
        {
         "marker": {
          "color": "#FE9B54"
         },
         "name": "G4",
         "orientation": "h",
         "showlegend": false,
         "textposition": "inside",
         "texttemplate": "%{x:,d}",
         "type": "bar",
         "width": 1,
         "x": [
          1323
         ],
         "xaxis": "x14",
         "y": [
          "G4"
         ],
         "yaxis": "y14"
        },
        {
         "marker": {
          "color": "darkorchid"
         },
         "name": "H-DNA",
         "orientation": "h",
         "showlegend": false,
         "textposition": "outside",
         "texttemplate": "%{x:,d}",
         "type": "bar",
         "width": 1,
         "x": [
          4
         ],
         "xaxis": "x16",
         "y": [
          "H-DNA"
         ],
         "yaxis": "y16"
        },
        {
         "marker": {
          "color": "#ED4241"
         },
         "name": "SIDD",
         "orientation": "h",
         "showlegend": false,
         "textposition": "outside",
         "texttemplate": "%{x:,d}",
         "type": "bar",
         "width": 1,
         "x": [
          33
         ],
         "xaxis": "x16",
         "y": [
          "SIDD"
         ],
         "yaxis": "y16"
        },
        {
         "marker": {
          "color": "royalblue"
         },
         "name": "Z-DNA",
         "orientation": "h",
         "showlegend": false,
         "textposition": "outside",
         "texttemplate": "%{x:,d}",
         "type": "bar",
         "width": 1,
         "x": [
          4
         ],
         "xaxis": "x16",
         "y": [
          "Z-DNA"
         ],
         "yaxis": "y16"
        },
        {
         "marker": {
          "color": "#FE9B54"
         },
         "name": "G4",
         "orientation": "h",
         "showlegend": false,
         "textposition": "outside",
         "texttemplate": "%{x:,d}",
         "type": "bar",
         "width": 1,
         "x": [
          8
         ],
         "xaxis": "x16",
         "y": [
          "G4"
         ],
         "yaxis": "y16"
        },
        {
         "marker": {
          "color": "darkorchid"
         },
         "name": "H-DNA",
         "orientation": "h",
         "showlegend": false,
         "textposition": "outside",
         "texttemplate": "%{x:,d}",
         "type": "bar",
         "width": 1,
         "x": [
          1
         ],
         "xaxis": "x17",
         "y": [
          "H-DNA"
         ],
         "yaxis": "y17"
        },
        {
         "marker": {
          "color": "#ED4241"
         },
         "name": "SIDD",
         "orientation": "h",
         "showlegend": false,
         "textposition": "outside",
         "texttemplate": "%{x:,d}",
         "type": "bar",
         "width": 1,
         "x": [
          8
         ],
         "xaxis": "x17",
         "y": [
          "SIDD"
         ],
         "yaxis": "y17"
        },
        {
         "marker": {
          "color": "royalblue"
         },
         "name": "Z-DNA",
         "orientation": "h",
         "showlegend": false,
         "textposition": "outside",
         "texttemplate": "%{x:,d}",
         "type": "bar",
         "width": 1,
         "x": [
          1
         ],
         "xaxis": "x17",
         "y": [
          "Z-DNA"
         ],
         "yaxis": "y17"
        },
        {
         "marker": {
          "color": "#ED4241"
         },
         "name": "SIDD",
         "orientation": "h",
         "showlegend": false,
         "textposition": "outside",
         "texttemplate": "%{x:,d}",
         "type": "bar",
         "width": 1,
         "x": [
          31
         ],
         "xaxis": "x18",
         "y": [
          "SIDD"
         ],
         "yaxis": "y18"
        },
        {
         "marker": {
          "color": "royalblue"
         },
         "name": "Z-DNA",
         "orientation": "h",
         "showlegend": false,
         "textposition": "outside",
         "texttemplate": "%{x:,d}",
         "type": "bar",
         "width": 1,
         "x": [
          4
         ],
         "xaxis": "x18",
         "y": [
          "Z-DNA"
         ],
         "yaxis": "y18"
        },
        {
         "marker": {
          "color": "#FE9B54"
         },
         "name": "G4",
         "orientation": "h",
         "showlegend": false,
         "textposition": "outside",
         "texttemplate": "%{x:,d}",
         "type": "bar",
         "width": 1,
         "x": [
          7
         ],
         "xaxis": "x18",
         "y": [
          "G4"
         ],
         "yaxis": "y18"
        },
        {
         "marker": {
          "color": "darkorchid"
         },
         "name": "H-DNA",
         "orientation": "h",
         "showlegend": false,
         "textposition": "outside",
         "texttemplate": "%{x:,d}",
         "type": "bar",
         "width": 1,
         "x": [
          241
         ],
         "xaxis": "x19",
         "y": [
          "H-DNA"
         ],
         "yaxis": "y19"
        },
        {
         "marker": {
          "color": "#ED4241"
         },
         "name": "SIDD",
         "orientation": "h",
         "showlegend": false,
         "textposition": "inside",
         "texttemplate": "%{x:,d}",
         "type": "bar",
         "width": 1,
         "x": [
          2212
         ],
         "xaxis": "x19",
         "y": [
          "SIDD"
         ],
         "yaxis": "y19"
        },
        {
         "marker": {
          "color": "royalblue"
         },
         "name": "Z-DNA",
         "orientation": "h",
         "showlegend": false,
         "textposition": "outside",
         "texttemplate": "%{x:,d}",
         "type": "bar",
         "width": 1,
         "x": [
          281
         ],
         "xaxis": "x19",
         "y": [
          "Z-DNA"
         ],
         "yaxis": "y19"
        },
        {
         "marker": {
          "color": "#FE9B54"
         },
         "name": "G4",
         "orientation": "h",
         "showlegend": false,
         "textposition": "outside",
         "texttemplate": "%{x:,d}",
         "type": "bar",
         "width": 1,
         "x": [
          588
         ],
         "xaxis": "x19",
         "y": [
          "G4"
         ],
         "yaxis": "y19"
        },
        {
         "marker": {
          "color": "darkorchid"
         },
         "name": "H-DNA",
         "orientation": "h",
         "showlegend": false,
         "textposition": "outside",
         "texttemplate": "%{x:,d}",
         "type": "bar",
         "width": 1,
         "x": [
          714
         ],
         "xaxis": "x20",
         "y": [
          "H-DNA"
         ],
         "yaxis": "y20"
        },
        {
         "marker": {
          "color": "#ED4241"
         },
         "name": "SIDD",
         "orientation": "h",
         "showlegend": false,
         "textposition": "inside",
         "texttemplate": "%{x:,d}",
         "type": "bar",
         "width": 1,
         "x": [
          4449
         ],
         "xaxis": "x20",
         "y": [
          "SIDD"
         ],
         "yaxis": "y20"
        },
        {
         "marker": {
          "color": "royalblue"
         },
         "name": "Z-DNA",
         "orientation": "h",
         "showlegend": false,
         "textposition": "outside",
         "texttemplate": "%{x:,d}",
         "type": "bar",
         "width": 1,
         "x": [
          1075
         ],
         "xaxis": "x20",
         "y": [
          "Z-DNA"
         ],
         "yaxis": "y20"
        },
        {
         "marker": {
          "color": "#FE9B54"
         },
         "name": "G4",
         "orientation": "h",
         "showlegend": false,
         "textposition": "outside",
         "texttemplate": "%{x:,d}",
         "type": "bar",
         "width": 1,
         "x": [
          1057
         ],
         "xaxis": "x20",
         "y": [
          "G4"
         ],
         "yaxis": "y20"
        },
        {
         "marker": {
          "color": "darkorchid"
         },
         "name": "H-DNA",
         "orientation": "h",
         "showlegend": false,
         "textposition": "outside",
         "texttemplate": "%{x:,d}",
         "type": "bar",
         "width": 1,
         "x": [
          2
         ],
         "xaxis": "x21",
         "y": [
          "H-DNA"
         ],
         "yaxis": "y21"
        },
        {
         "marker": {
          "color": "#ED4241"
         },
         "name": "SIDD",
         "orientation": "h",
         "showlegend": false,
         "textposition": "outside",
         "texttemplate": "%{x:,d}",
         "type": "bar",
         "width": 1,
         "x": [
          25
         ],
         "xaxis": "x21",
         "y": [
          "SIDD"
         ],
         "yaxis": "y21"
        },
        {
         "marker": {
          "color": "royalblue"
         },
         "name": "Z-DNA",
         "orientation": "h",
         "showlegend": false,
         "textposition": "outside",
         "texttemplate": "%{x:,d}",
         "type": "bar",
         "width": 1,
         "x": [
          5
         ],
         "xaxis": "x21",
         "y": [
          "Z-DNA"
         ],
         "yaxis": "y21"
        },
        {
         "marker": {
          "color": "#FE9B54"
         },
         "name": "G4",
         "orientation": "h",
         "showlegend": false,
         "textposition": "outside",
         "texttemplate": "%{x:,d}",
         "type": "bar",
         "width": 1,
         "x": [
          10
         ],
         "xaxis": "x21",
         "y": [
          "G4"
         ],
         "yaxis": "y21"
        },
        {
         "marker": {
          "color": "darkorchid"
         },
         "name": "H-DNA",
         "orientation": "h",
         "showlegend": false,
         "textposition": "outside",
         "texttemplate": "%{x:,d}",
         "type": "bar",
         "width": 1,
         "x": [
          1
         ],
         "xaxis": "x22",
         "y": [
          "H-DNA"
         ],
         "yaxis": "y22"
        },
        {
         "marker": {
          "color": "#ED4241"
         },
         "name": "SIDD",
         "orientation": "h",
         "showlegend": false,
         "textposition": "outside",
         "texttemplate": "%{x:,d}",
         "type": "bar",
         "width": 1,
         "x": [
          11
         ],
         "xaxis": "x22",
         "y": [
          "SIDD"
         ],
         "yaxis": "y22"
        },
        {
         "marker": {
          "color": "royalblue"
         },
         "name": "Z-DNA",
         "orientation": "h",
         "showlegend": false,
         "textposition": "outside",
         "texttemplate": "%{x:,d}",
         "type": "bar",
         "width": 1,
         "x": [
          1
         ],
         "xaxis": "x22",
         "y": [
          "Z-DNA"
         ],
         "yaxis": "y22"
        },
        {
         "marker": {
          "color": "#FE9B54"
         },
         "name": "G4",
         "orientation": "h",
         "showlegend": false,
         "textposition": "outside",
         "texttemplate": "%{x:,d}",
         "type": "bar",
         "width": 1,
         "x": [
          5
         ],
         "xaxis": "x22",
         "y": [
          "G4"
         ],
         "yaxis": "y22"
        },
        {
         "marker": {
          "color": "darkorchid"
         },
         "name": "H-DNA",
         "orientation": "h",
         "showlegend": false,
         "textposition": "outside",
         "texttemplate": "%{x:,d}",
         "type": "bar",
         "width": 1,
         "x": [
          3
         ],
         "xaxis": "x23",
         "y": [
          "H-DNA"
         ],
         "yaxis": "y23"
        },
        {
         "marker": {
          "color": "#ED4241"
         },
         "name": "SIDD",
         "orientation": "h",
         "showlegend": false,
         "textposition": "outside",
         "texttemplate": "%{x:,d}",
         "type": "bar",
         "width": 1,
         "x": [
          16
         ],
         "xaxis": "x23",
         "y": [
          "SIDD"
         ],
         "yaxis": "y23"
        },
        {
         "marker": {
          "color": "royalblue"
         },
         "name": "Z-DNA",
         "orientation": "h",
         "showlegend": false,
         "textposition": "outside",
         "texttemplate": "%{x:,d}",
         "type": "bar",
         "width": 1,
         "x": [
          1
         ],
         "xaxis": "x23",
         "y": [
          "Z-DNA"
         ],
         "yaxis": "y23"
        },
        {
         "marker": {
          "color": "#FE9B54"
         },
         "name": "G4",
         "orientation": "h",
         "showlegend": false,
         "textposition": "outside",
         "texttemplate": "%{x:,d}",
         "type": "bar",
         "width": 1,
         "x": [
          3
         ],
         "xaxis": "x23",
         "y": [
          "G4"
         ],
         "yaxis": "y23"
        },
        {
         "marker": {
          "color": "darkorchid"
         },
         "name": "H-DNA",
         "orientation": "h",
         "showlegend": false,
         "textposition": "outside",
         "texttemplate": "%{x:,d}",
         "type": "bar",
         "width": 1,
         "x": [
          12
         ],
         "xaxis": "x24",
         "y": [
          "H-DNA"
         ],
         "yaxis": "y24"
        },
        {
         "marker": {
          "color": "#ED4241"
         },
         "name": "SIDD",
         "orientation": "h",
         "showlegend": false,
         "textposition": "outside",
         "texttemplate": "%{x:,d}",
         "type": "bar",
         "width": 1,
         "x": [
          61
         ],
         "xaxis": "x24",
         "y": [
          "SIDD"
         ],
         "yaxis": "y24"
        },
        {
         "marker": {
          "color": "royalblue"
         },
         "name": "Z-DNA",
         "orientation": "h",
         "showlegend": false,
         "textposition": "outside",
         "texttemplate": "%{x:,d}",
         "type": "bar",
         "width": 1,
         "x": [
          21
         ],
         "xaxis": "x24",
         "y": [
          "Z-DNA"
         ],
         "yaxis": "y24"
        },
        {
         "marker": {
          "color": "#FE9B54"
         },
         "name": "G4",
         "orientation": "h",
         "showlegend": false,
         "textposition": "outside",
         "texttemplate": "%{x:,d}",
         "type": "bar",
         "width": 1,
         "x": [
          23
         ],
         "xaxis": "x24",
         "y": [
          "G4"
         ],
         "yaxis": "y24"
        },
        {
         "marker": {
          "color": "#FE9B54"
         },
         "name": "G4",
         "orientation": "h",
         "showlegend": false,
         "textposition": "outside",
         "texttemplate": "%{x:,d}",
         "type": "bar",
         "width": 1,
         "x": [
          2
         ],
         "xaxis": "x28",
         "y": [
          "G4"
         ],
         "yaxis": "y28"
        },
        {
         "marker": {
          "color": "darkorchid"
         },
         "name": "H-DNA",
         "orientation": "h",
         "showlegend": false,
         "textposition": "outside",
         "texttemplate": "%{x:,d}",
         "type": "bar",
         "width": 1,
         "x": [
          13
         ],
         "xaxis": "x29",
         "y": [
          "H-DNA"
         ],
         "yaxis": "y29"
        },
        {
         "marker": {
          "color": "#ED4241"
         },
         "name": "SIDD",
         "orientation": "h",
         "showlegend": false,
         "textposition": "outside",
         "texttemplate": "%{x:,d}",
         "type": "bar",
         "width": 1,
         "x": [
          59
         ],
         "xaxis": "x29",
         "y": [
          "SIDD"
         ],
         "yaxis": "y29"
        },
        {
         "marker": {
          "color": "royalblue"
         },
         "name": "Z-DNA",
         "orientation": "h",
         "showlegend": false,
         "textposition": "outside",
         "texttemplate": "%{x:,d}",
         "type": "bar",
         "width": 1,
         "x": [
          10
         ],
         "xaxis": "x29",
         "y": [
          "Z-DNA"
         ],
         "yaxis": "y29"
        },
        {
         "marker": {
          "color": "#FE9B54"
         },
         "name": "G4",
         "orientation": "h",
         "showlegend": false,
         "textposition": "outside",
         "texttemplate": "%{x:,d}",
         "type": "bar",
         "width": 1,
         "x": [
          11
         ],
         "xaxis": "x29",
         "y": [
          "G4"
         ],
         "yaxis": "y29"
        },
        {
         "marker": {
          "color": "darkorchid"
         },
         "name": "H-DNA",
         "orientation": "h",
         "showlegend": false,
         "textposition": "outside",
         "texttemplate": "%{x:,d}",
         "type": "bar",
         "width": 1,
         "x": [
          25
         ],
         "xaxis": "x30",
         "y": [
          "H-DNA"
         ],
         "yaxis": "y30"
        },
        {
         "marker": {
          "color": "#ED4241"
         },
         "name": "SIDD",
         "orientation": "h",
         "showlegend": false,
         "textposition": "outside",
         "texttemplate": "%{x:,d}",
         "type": "bar",
         "width": 1,
         "x": [
          48
         ],
         "xaxis": "x30",
         "y": [
          "SIDD"
         ],
         "yaxis": "y30"
        },
        {
         "marker": {
          "color": "royalblue"
         },
         "name": "Z-DNA",
         "orientation": "h",
         "showlegend": false,
         "textposition": "outside",
         "texttemplate": "%{x:,d}",
         "type": "bar",
         "width": 1,
         "x": [
          46
         ],
         "xaxis": "x30",
         "y": [
          "Z-DNA"
         ],
         "yaxis": "y30"
        },
        {
         "marker": {
          "color": "#FE9B54"
         },
         "name": "G4",
         "orientation": "h",
         "showlegend": false,
         "textposition": "outside",
         "texttemplate": "%{x:,d}",
         "type": "bar",
         "width": 1,
         "x": [
          30
         ],
         "xaxis": "x30",
         "y": [
          "G4"
         ],
         "yaxis": "y30"
        },
        {
         "marker": {
          "color": "royalblue"
         },
         "name": "Z-DNA",
         "orientation": "h",
         "showlegend": false,
         "textposition": "outside",
         "texttemplate": "%{x:,d}",
         "type": "bar",
         "width": 1,
         "x": [
          1
         ],
         "xaxis": "x31",
         "y": [
          "Z-DNA"
         ],
         "yaxis": "y31"
        },
        {
         "marker": {
          "color": "#ED4241"
         },
         "name": "SIDD",
         "orientation": "h",
         "showlegend": false,
         "textposition": "outside",
         "texttemplate": "%{x:,d}",
         "type": "bar",
         "width": 1,
         "x": [
          1
         ],
         "xaxis": "x32",
         "y": [
          "SIDD"
         ],
         "yaxis": "y32"
        },
        {
         "marker": {
          "color": "#ED4241"
         },
         "name": "SIDD",
         "orientation": "h",
         "showlegend": false,
         "textposition": "outside",
         "texttemplate": "%{x:,d}",
         "type": "bar",
         "width": 1,
         "x": [
          2
         ],
         "xaxis": "x33",
         "y": [
          "SIDD"
         ],
         "yaxis": "y33"
        },
        {
         "marker": {
          "color": "#ED4241"
         },
         "name": "SIDD",
         "orientation": "h",
         "showlegend": false,
         "textposition": "outside",
         "texttemplate": "%{x:,d}",
         "type": "bar",
         "width": 1,
         "x": [
          1
         ],
         "xaxis": "x34",
         "y": [
          "SIDD"
         ],
         "yaxis": "y34"
        },
        {
         "marker": {
          "color": "royalblue"
         },
         "name": "Z-DNA",
         "orientation": "h",
         "showlegend": false,
         "textposition": "outside",
         "texttemplate": "%{x:,d}",
         "type": "bar",
         "width": 1,
         "x": [
          4
         ],
         "xaxis": "x34",
         "y": [
          "Z-DNA"
         ],
         "yaxis": "y34"
        },
        {
         "marker": {
          "color": "#FE9B54"
         },
         "name": "G4",
         "orientation": "h",
         "showlegend": false,
         "textposition": "outside",
         "texttemplate": "%{x:,d}",
         "type": "bar",
         "width": 1,
         "x": [
          1
         ],
         "xaxis": "x34",
         "y": [
          "G4"
         ],
         "yaxis": "y34"
        },
        {
         "marker": {
          "color": "#ED4241"
         },
         "name": "SIDD",
         "orientation": "h",
         "showlegend": false,
         "textposition": "outside",
         "texttemplate": "%{x:,d}",
         "type": "bar",
         "width": 1,
         "x": [
          2
         ],
         "xaxis": "x36",
         "y": [
          "SIDD"
         ],
         "yaxis": "y36"
        },
        {
         "marker": {
          "color": "#ED4241"
         },
         "name": "SIDD",
         "orientation": "h",
         "showlegend": false,
         "textposition": "outside",
         "texttemplate": "%{x:,d}",
         "type": "bar",
         "width": 1,
         "x": [
          2
         ],
         "xaxis": "x39",
         "y": [
          "SIDD"
         ],
         "yaxis": "y39"
        },
        {
         "marker": {
          "color": "royalblue"
         },
         "name": "Z-DNA",
         "orientation": "h",
         "showlegend": false,
         "textposition": "outside",
         "texttemplate": "%{x:,d}",
         "type": "bar",
         "width": 1,
         "x": [
          1
         ],
         "xaxis": "x39",
         "y": [
          "Z-DNA"
         ],
         "yaxis": "y39"
        },
        {
         "marker": {
          "color": "#FE9B54"
         },
         "name": "G4",
         "orientation": "h",
         "showlegend": false,
         "textposition": "outside",
         "texttemplate": "%{x:,d}",
         "type": "bar",
         "width": 1,
         "x": [
          1
         ],
         "xaxis": "x39",
         "y": [
          "G4"
         ],
         "yaxis": "y39"
        },
        {
         "marker": {
          "color": "darkorchid"
         },
         "name": "H-DNA",
         "orientation": "h",
         "showlegend": false,
         "textposition": "outside",
         "texttemplate": "%{x:,d}",
         "type": "bar",
         "width": 1,
         "x": [
          9
         ],
         "xaxis": "x40",
         "y": [
          "H-DNA"
         ],
         "yaxis": "y40"
        },
        {
         "marker": {
          "color": "#ED4241"
         },
         "name": "SIDD",
         "orientation": "h",
         "showlegend": false,
         "textposition": "outside",
         "texttemplate": "%{x:,d}",
         "type": "bar",
         "width": 1,
         "x": [
          8
         ],
         "xaxis": "x40",
         "y": [
          "SIDD"
         ],
         "yaxis": "y40"
        },
        {
         "marker": {
          "color": "royalblue"
         },
         "name": "Z-DNA",
         "orientation": "h",
         "showlegend": false,
         "textposition": "outside",
         "texttemplate": "%{x:,d}",
         "type": "bar",
         "width": 1,
         "x": [
          10
         ],
         "xaxis": "x40",
         "y": [
          "Z-DNA"
         ],
         "yaxis": "y40"
        },
        {
         "marker": {
          "color": "#FE9B54"
         },
         "name": "G4",
         "orientation": "h",
         "showlegend": false,
         "textposition": "outside",
         "texttemplate": "%{x:,d}",
         "type": "bar",
         "width": 1,
         "x": [
          6
         ],
         "xaxis": "x40",
         "y": [
          "G4"
         ],
         "yaxis": "y40"
        },
        {
         "marker": {
          "color": "darkorchid"
         },
         "name": "H-DNA",
         "orientation": "h",
         "showlegend": false,
         "textposition": "outside",
         "texttemplate": "%{x:,d}",
         "type": "bar",
         "width": 1,
         "x": [
          53
         ],
         "xaxis": "x41",
         "y": [
          "H-DNA"
         ],
         "yaxis": "y41"
        },
        {
         "marker": {
          "color": "#ED4241"
         },
         "name": "SIDD",
         "orientation": "h",
         "showlegend": false,
         "textposition": "outside",
         "texttemplate": "%{x:,d}",
         "type": "bar",
         "width": 1,
         "x": [
          129
         ],
         "xaxis": "x41",
         "y": [
          "SIDD"
         ],
         "yaxis": "y41"
        },
        {
         "marker": {
          "color": "royalblue"
         },
         "name": "Z-DNA",
         "orientation": "h",
         "showlegend": false,
         "textposition": "outside",
         "texttemplate": "%{x:,d}",
         "type": "bar",
         "width": 1,
         "x": [
          219
         ],
         "xaxis": "x41",
         "y": [
          "Z-DNA"
         ],
         "yaxis": "y41"
        },
        {
         "marker": {
          "color": "#FE9B54"
         },
         "name": "G4",
         "orientation": "h",
         "showlegend": false,
         "textposition": "outside",
         "texttemplate": "%{x:,d}",
         "type": "bar",
         "width": 1,
         "x": [
          537
         ],
         "xaxis": "x41",
         "y": [
          "G4"
         ],
         "yaxis": "y41"
        },
        {
         "marker": {
          "color": "darkorchid"
         },
         "name": "H-DNA",
         "orientation": "h",
         "showlegend": false,
         "textposition": "outside",
         "texttemplate": "%{x:,d}",
         "type": "bar",
         "width": 1,
         "x": [
          6
         ],
         "xaxis": "x42",
         "y": [
          "H-DNA"
         ],
         "yaxis": "y42"
        },
        {
         "marker": {
          "color": "#ED4241"
         },
         "name": "SIDD",
         "orientation": "h",
         "showlegend": false,
         "textposition": "outside",
         "texttemplate": "%{x:,d}",
         "type": "bar",
         "width": 1,
         "x": [
          25
         ],
         "xaxis": "x42",
         "y": [
          "SIDD"
         ],
         "yaxis": "y42"
        },
        {
         "marker": {
          "color": "royalblue"
         },
         "name": "Z-DNA",
         "orientation": "h",
         "showlegend": false,
         "textposition": "outside",
         "texttemplate": "%{x:,d}",
         "type": "bar",
         "width": 1,
         "x": [
          15
         ],
         "xaxis": "x42",
         "y": [
          "Z-DNA"
         ],
         "yaxis": "y42"
        },
        {
         "marker": {
          "color": "#FE9B54"
         },
         "name": "G4",
         "orientation": "h",
         "showlegend": false,
         "textposition": "outside",
         "texttemplate": "%{x:,d}",
         "type": "bar",
         "width": 1,
         "x": [
          33
         ],
         "xaxis": "x42",
         "y": [
          "G4"
         ],
         "yaxis": "y42"
        },
        {
         "marker": {
          "color": "darkorchid"
         },
         "name": "H-DNA",
         "orientation": "h",
         "showlegend": false,
         "textposition": "outside",
         "texttemplate": "%{x:,d}",
         "type": "bar",
         "width": 1,
         "x": [
          1
         ],
         "xaxis": "x43",
         "y": [
          "H-DNA"
         ],
         "yaxis": "y43"
        },
        {
         "marker": {
          "color": "#ED4241"
         },
         "name": "SIDD",
         "orientation": "h",
         "showlegend": false,
         "textposition": "outside",
         "texttemplate": "%{x:,d}",
         "type": "bar",
         "width": 1,
         "x": [
          11
         ],
         "xaxis": "x43",
         "y": [
          "SIDD"
         ],
         "yaxis": "y43"
        },
        {
         "marker": {
          "color": "royalblue"
         },
         "name": "Z-DNA",
         "orientation": "h",
         "showlegend": false,
         "textposition": "outside",
         "texttemplate": "%{x:,d}",
         "type": "bar",
         "width": 1,
         "x": [
          6
         ],
         "xaxis": "x43",
         "y": [
          "Z-DNA"
         ],
         "yaxis": "y43"
        },
        {
         "marker": {
          "color": "#FE9B54"
         },
         "name": "G4",
         "orientation": "h",
         "showlegend": false,
         "textposition": "outside",
         "texttemplate": "%{x:,d}",
         "type": "bar",
         "width": 1,
         "x": [
          12
         ],
         "xaxis": "x43",
         "y": [
          "G4"
         ],
         "yaxis": "y43"
        },
        {
         "marker": {
          "color": "darkorchid"
         },
         "name": "H-DNA",
         "orientation": "h",
         "showlegend": false,
         "textposition": "outside",
         "texttemplate": "%{x:,d}",
         "type": "bar",
         "width": 1,
         "x": [
          5
         ],
         "xaxis": "x44",
         "y": [
          "H-DNA"
         ],
         "yaxis": "y44"
        },
        {
         "marker": {
          "color": "#ED4241"
         },
         "name": "SIDD",
         "orientation": "h",
         "showlegend": false,
         "textposition": "outside",
         "texttemplate": "%{x:,d}",
         "type": "bar",
         "width": 1,
         "x": [
          17
         ],
         "xaxis": "x44",
         "y": [
          "SIDD"
         ],
         "yaxis": "y44"
        },
        {
         "marker": {
          "color": "royalblue"
         },
         "name": "Z-DNA",
         "orientation": "h",
         "showlegend": false,
         "textposition": "outside",
         "texttemplate": "%{x:,d}",
         "type": "bar",
         "width": 1,
         "x": [
          14
         ],
         "xaxis": "x44",
         "y": [
          "Z-DNA"
         ],
         "yaxis": "y44"
        },
        {
         "marker": {
          "color": "#FE9B54"
         },
         "name": "G4",
         "orientation": "h",
         "showlegend": false,
         "textposition": "outside",
         "texttemplate": "%{x:,d}",
         "type": "bar",
         "width": 1,
         "x": [
          33
         ],
         "xaxis": "x44",
         "y": [
          "G4"
         ],
         "yaxis": "y44"
        },
        {
         "marker": {
          "color": "#FE9B54"
         },
         "name": "G4",
         "orientation": "h",
         "showlegend": false,
         "textposition": "outside",
         "texttemplate": "%{x:,d}",
         "type": "bar",
         "width": 1,
         "x": [
          1
         ],
         "xaxis": "x45",
         "y": [
          "G4"
         ],
         "yaxis": "y45"
        },
        {
         "marker": {
          "color": "#ED4241"
         },
         "name": "SIDD",
         "orientation": "h",
         "showlegend": false,
         "textposition": "outside",
         "texttemplate": "%{x:,d}",
         "type": "bar",
         "width": 1,
         "x": [
          4
         ],
         "xaxis": "x46",
         "y": [
          "SIDD"
         ],
         "yaxis": "y46"
        },
        {
         "marker": {
          "color": "royalblue"
         },
         "name": "Z-DNA",
         "orientation": "h",
         "showlegend": false,
         "textposition": "outside",
         "texttemplate": "%{x:,d}",
         "type": "bar",
         "width": 1,
         "x": [
          3
         ],
         "xaxis": "x46",
         "y": [
          "Z-DNA"
         ],
         "yaxis": "y46"
        },
        {
         "marker": {
          "color": "#FE9B54"
         },
         "name": "G4",
         "orientation": "h",
         "showlegend": false,
         "textposition": "outside",
         "texttemplate": "%{x:,d}",
         "type": "bar",
         "width": 1,
         "x": [
          7
         ],
         "xaxis": "x46",
         "y": [
          "G4"
         ],
         "yaxis": "y46"
        },
        {
         "marker": {
          "color": "#ED4241"
         },
         "name": "SIDD",
         "orientation": "h",
         "showlegend": false,
         "textposition": "outside",
         "texttemplate": "%{x:,d}",
         "type": "bar",
         "width": 1,
         "x": [
          1
         ],
         "xaxis": "x47",
         "y": [
          "SIDD"
         ],
         "yaxis": "y47"
        },
        {
         "marker": {
          "color": "#ED4241"
         },
         "name": "SIDD",
         "orientation": "h",
         "showlegend": false,
         "textposition": "outside",
         "texttemplate": "%{x:,d}",
         "type": "bar",
         "width": 1,
         "x": [
          2
         ],
         "xaxis": "x48",
         "y": [
          "SIDD"
         ],
         "yaxis": "y48"
        },
        {
         "marker": {
          "color": "royalblue"
         },
         "name": "Z-DNA",
         "orientation": "h",
         "showlegend": false,
         "textposition": "outside",
         "texttemplate": "%{x:,d}",
         "type": "bar",
         "width": 1,
         "x": [
          7
         ],
         "xaxis": "x48",
         "y": [
          "Z-DNA"
         ],
         "yaxis": "y48"
        },
        {
         "marker": {
          "color": "#FE9B54"
         },
         "name": "G4",
         "orientation": "h",
         "showlegend": false,
         "textposition": "outside",
         "texttemplate": "%{x:,d}",
         "type": "bar",
         "width": 1,
         "x": [
          4
         ],
         "xaxis": "x48",
         "y": [
          "G4"
         ],
         "yaxis": "y48"
        },
        {
         "marker": {
          "color": "darkorchid"
         },
         "name": "H-DNA",
         "orientation": "h",
         "showlegend": false,
         "textposition": "outside",
         "texttemplate": "%{x:,d}",
         "type": "bar",
         "width": 1,
         "x": [
          7
         ],
         "xaxis": "x49",
         "y": [
          "H-DNA"
         ],
         "yaxis": "y49"
        },
        {
         "marker": {
          "color": "#ED4241"
         },
         "name": "SIDD",
         "orientation": "h",
         "showlegend": false,
         "textposition": "outside",
         "texttemplate": "%{x:,d}",
         "type": "bar",
         "width": 1,
         "x": [
          15
         ],
         "xaxis": "x49",
         "y": [
          "SIDD"
         ],
         "yaxis": "y49"
        },
        {
         "marker": {
          "color": "royalblue"
         },
         "name": "Z-DNA",
         "orientation": "h",
         "showlegend": false,
         "textposition": "outside",
         "texttemplate": "%{x:,d}",
         "type": "bar",
         "width": 1,
         "x": [
          13
         ],
         "xaxis": "x49",
         "y": [
          "Z-DNA"
         ],
         "yaxis": "y49"
        },
        {
         "marker": {
          "color": "#FE9B54"
         },
         "name": "G4",
         "orientation": "h",
         "showlegend": false,
         "textposition": "outside",
         "texttemplate": "%{x:,d}",
         "type": "bar",
         "width": 1,
         "x": [
          26
         ],
         "xaxis": "x49",
         "y": [
          "G4"
         ],
         "yaxis": "y49"
        },
        {
         "marker": {
          "color": "darkorchid"
         },
         "name": "H-DNA",
         "orientation": "h",
         "showlegend": false,
         "textposition": "outside",
         "texttemplate": "%{x:,d}",
         "type": "bar",
         "width": 1,
         "x": [
          46
         ],
         "xaxis": "x50",
         "y": [
          "H-DNA"
         ],
         "yaxis": "y50"
        },
        {
         "marker": {
          "color": "#ED4241"
         },
         "name": "SIDD",
         "orientation": "h",
         "showlegend": false,
         "textposition": "outside",
         "texttemplate": "%{x:,d}",
         "type": "bar",
         "width": 1,
         "x": [
          60
         ],
         "xaxis": "x50",
         "y": [
          "SIDD"
         ],
         "yaxis": "y50"
        },
        {
         "marker": {
          "color": "royalblue"
         },
         "name": "Z-DNA",
         "orientation": "h",
         "showlegend": false,
         "textposition": "outside",
         "texttemplate": "%{x:,d}",
         "type": "bar",
         "width": 1,
         "x": [
          593
         ],
         "xaxis": "x50",
         "y": [
          "Z-DNA"
         ],
         "yaxis": "y50"
        },
        {
         "marker": {
          "color": "#FE9B54"
         },
         "name": "G4",
         "orientation": "h",
         "showlegend": false,
         "textposition": "outside",
         "texttemplate": "%{x:,d}",
         "type": "bar",
         "width": 1,
         "x": [
          858
         ],
         "xaxis": "x50",
         "y": [
          "G4"
         ],
         "yaxis": "y50"
        },
        {
         "marker": {
          "color": "#ED4241"
         },
         "name": "SIDD",
         "orientation": "h",
         "showlegend": false,
         "textposition": "outside",
         "texttemplate": "%{x:,d}",
         "type": "bar",
         "width": 1,
         "x": [
          1
         ],
         "xaxis": "x51",
         "y": [
          "SIDD"
         ],
         "yaxis": "y51"
        },
        {
         "marker": {
          "color": "#FE9B54"
         },
         "name": "G4",
         "orientation": "h",
         "showlegend": false,
         "textposition": "outside",
         "texttemplate": "%{x:,d}",
         "type": "bar",
         "width": 1,
         "x": [
          1
         ],
         "xaxis": "x51",
         "y": [
          "G4"
         ],
         "yaxis": "y51"
        },
        {
         "marker": {
          "color": "darkorchid"
         },
         "name": "H-DNA",
         "orientation": "h",
         "showlegend": false,
         "textposition": "outside",
         "texttemplate": "%{x:,d}",
         "type": "bar",
         "width": 1,
         "x": [
          1
         ],
         "xaxis": "x52",
         "y": [
          "H-DNA"
         ],
         "yaxis": "y52"
        },
        {
         "marker": {
          "color": "royalblue"
         },
         "name": "Z-DNA",
         "orientation": "h",
         "showlegend": false,
         "textposition": "outside",
         "texttemplate": "%{x:,d}",
         "type": "bar",
         "width": 1,
         "x": [
          1
         ],
         "xaxis": "x52",
         "y": [
          "Z-DNA"
         ],
         "yaxis": "y52"
        },
        {
         "marker": {
          "color": "#FE9B54"
         },
         "name": "G4",
         "orientation": "h",
         "showlegend": false,
         "textposition": "outside",
         "texttemplate": "%{x:,d}",
         "type": "bar",
         "width": 1,
         "x": [
          1
         ],
         "xaxis": "x52",
         "y": [
          "G4"
         ],
         "yaxis": "y52"
        },
        {
         "marker": {
          "color": "darkorchid"
         },
         "name": "H-DNA",
         "orientation": "h",
         "showlegend": false,
         "textposition": "outside",
         "texttemplate": "%{x:,d}",
         "type": "bar",
         "width": 1,
         "x": [
          1
         ],
         "xaxis": "x54",
         "y": [
          "H-DNA"
         ],
         "yaxis": "y54"
        },
        {
         "marker": {
          "color": "#ED4241"
         },
         "name": "SIDD",
         "orientation": "h",
         "showlegend": false,
         "textposition": "outside",
         "texttemplate": "%{x:,d}",
         "type": "bar",
         "width": 1,
         "x": [
          14
         ],
         "xaxis": "x54",
         "y": [
          "SIDD"
         ],
         "yaxis": "y54"
        },
        {
         "marker": {
          "color": "royalblue"
         },
         "name": "Z-DNA",
         "orientation": "h",
         "showlegend": false,
         "textposition": "outside",
         "texttemplate": "%{x:,d}",
         "type": "bar",
         "width": 1,
         "x": [
          2
         ],
         "xaxis": "x54",
         "y": [
          "Z-DNA"
         ],
         "yaxis": "y54"
        },
        {
         "marker": {
          "color": "#FE9B54"
         },
         "name": "G4",
         "orientation": "h",
         "showlegend": false,
         "textposition": "outside",
         "texttemplate": "%{x:,d}",
         "type": "bar",
         "width": 1,
         "x": [
          4
         ],
         "xaxis": "x54",
         "y": [
          "G4"
         ],
         "yaxis": "y54"
        },
        {
         "marker": {
          "color": "#ED4241"
         },
         "name": "SIDD",
         "orientation": "h",
         "showlegend": false,
         "textposition": "outside",
         "texttemplate": "%{x:,d}",
         "type": "bar",
         "width": 1,
         "x": [
          10
         ],
         "xaxis": "x59",
         "y": [
          "SIDD"
         ],
         "yaxis": "y59"
        },
        {
         "marker": {
          "color": "royalblue"
         },
         "name": "Z-DNA",
         "orientation": "h",
         "showlegend": false,
         "textposition": "outside",
         "texttemplate": "%{x:,d}",
         "type": "bar",
         "width": 1,
         "x": [
          2
         ],
         "xaxis": "x59",
         "y": [
          "Z-DNA"
         ],
         "yaxis": "y59"
        },
        {
         "marker": {
          "color": "#FE9B54"
         },
         "name": "G4",
         "orientation": "h",
         "showlegend": false,
         "textposition": "outside",
         "texttemplate": "%{x:,d}",
         "type": "bar",
         "width": 1,
         "x": [
          3
         ],
         "xaxis": "x59",
         "y": [
          "G4"
         ],
         "yaxis": "y59"
        },
        {
         "marker": {
          "color": "darkorchid"
         },
         "name": "H-DNA",
         "orientation": "h",
         "showlegend": false,
         "textposition": "outside",
         "texttemplate": "%{x:,d}",
         "type": "bar",
         "width": 1,
         "x": [
          5
         ],
         "xaxis": "x60",
         "y": [
          "H-DNA"
         ],
         "yaxis": "y60"
        },
        {
         "marker": {
          "color": "#ED4241"
         },
         "name": "SIDD",
         "orientation": "h",
         "showlegend": false,
         "textposition": "outside",
         "texttemplate": "%{x:,d}",
         "type": "bar",
         "width": 1,
         "x": [
          9
         ],
         "xaxis": "x60",
         "y": [
          "SIDD"
         ],
         "yaxis": "y60"
        },
        {
         "marker": {
          "color": "royalblue"
         },
         "name": "Z-DNA",
         "orientation": "h",
         "showlegend": false,
         "textposition": "outside",
         "texttemplate": "%{x:,d}",
         "type": "bar",
         "width": 1,
         "x": [
          3
         ],
         "xaxis": "x60",
         "y": [
          "Z-DNA"
         ],
         "yaxis": "y60"
        },
        {
         "marker": {
          "color": "#FE9B54"
         },
         "name": "G4",
         "orientation": "h",
         "showlegend": false,
         "textposition": "outside",
         "texttemplate": "%{x:,d}",
         "type": "bar",
         "width": 1,
         "x": [
          2
         ],
         "xaxis": "x60",
         "y": [
          "G4"
         ],
         "yaxis": "y60"
        },
        {
         "marker": {
          "color": "darkorchid"
         },
         "name": "H-DNA",
         "orientation": "h",
         "showlegend": false,
         "textposition": "outside",
         "texttemplate": "%{x:,d}",
         "type": "bar",
         "width": 1,
         "x": [
          3
         ],
         "xaxis": "x61",
         "y": [
          "H-DNA"
         ],
         "yaxis": "y61"
        },
        {
         "marker": {
          "color": "#ED4241"
         },
         "name": "SIDD",
         "orientation": "h",
         "showlegend": false,
         "textposition": "outside",
         "texttemplate": "%{x:,d}",
         "type": "bar",
         "width": 1,
         "x": [
          8
         ],
         "xaxis": "x61",
         "y": [
          "SIDD"
         ],
         "yaxis": "y61"
        },
        {
         "marker": {
          "color": "royalblue"
         },
         "name": "Z-DNA",
         "orientation": "h",
         "showlegend": false,
         "textposition": "outside",
         "texttemplate": "%{x:,d}",
         "type": "bar",
         "width": 1,
         "x": [
          8
         ],
         "xaxis": "x61",
         "y": [
          "Z-DNA"
         ],
         "yaxis": "y61"
        },
        {
         "marker": {
          "color": "#FE9B54"
         },
         "name": "G4",
         "orientation": "h",
         "showlegend": false,
         "textposition": "outside",
         "texttemplate": "%{x:,d}",
         "type": "bar",
         "width": 1,
         "x": [
          5
         ],
         "xaxis": "x61",
         "y": [
          "G4"
         ],
         "yaxis": "y61"
        },
        {
         "marker": {
          "color": "#FE9B54"
         },
         "name": "G4",
         "orientation": "h",
         "showlegend": false,
         "textposition": "outside",
         "texttemplate": "%{x:,d}",
         "type": "bar",
         "width": 1,
         "x": [
          2
         ],
         "xaxis": "x62",
         "y": [
          "G4"
         ],
         "yaxis": "y62"
        },
        {
         "marker": {
          "color": "#ED4241"
         },
         "name": "SIDD",
         "orientation": "h",
         "showlegend": false,
         "textposition": "outside",
         "texttemplate": "%{x:,d}",
         "type": "bar",
         "width": 1,
         "x": [
          1
         ],
         "xaxis": "x63",
         "y": [
          "SIDD"
         ],
         "yaxis": "y63"
        },
        {
         "marker": {
          "color": "darkorchid"
         },
         "name": "H-DNA",
         "orientation": "h",
         "showlegend": false,
         "textposition": "outside",
         "texttemplate": "%{x:,d}",
         "type": "bar",
         "width": 1,
         "x": [
          3
         ],
         "xaxis": "x64",
         "y": [
          "H-DNA"
         ],
         "yaxis": "y64"
        },
        {
         "marker": {
          "color": "#ED4241"
         },
         "name": "SIDD",
         "orientation": "h",
         "showlegend": false,
         "textposition": "outside",
         "texttemplate": "%{x:,d}",
         "type": "bar",
         "width": 1,
         "x": [
          9
         ],
         "xaxis": "x64",
         "y": [
          "SIDD"
         ],
         "yaxis": "y64"
        },
        {
         "marker": {
          "color": "royalblue"
         },
         "name": "Z-DNA",
         "orientation": "h",
         "showlegend": false,
         "textposition": "outside",
         "texttemplate": "%{x:,d}",
         "type": "bar",
         "width": 1,
         "x": [
          4
         ],
         "xaxis": "x64",
         "y": [
          "Z-DNA"
         ],
         "yaxis": "y64"
        },
        {
         "marker": {
          "color": "#FE9B54"
         },
         "name": "G4",
         "orientation": "h",
         "showlegend": false,
         "textposition": "outside",
         "texttemplate": "%{x:,d}",
         "type": "bar",
         "width": 1,
         "x": [
          2
         ],
         "xaxis": "x64",
         "y": [
          "G4"
         ],
         "yaxis": "y64"
        },
        {
         "marker": {
          "color": "#ED4241"
         },
         "name": "SIDD",
         "orientation": "h",
         "showlegend": false,
         "textposition": "outside",
         "texttemplate": "%{x:,d}",
         "type": "bar",
         "width": 1,
         "x": [
          2
         ],
         "xaxis": "x66",
         "y": [
          "SIDD"
         ],
         "yaxis": "y66"
        },
        {
         "marker": {
          "color": "#ED4241"
         },
         "name": "SIDD",
         "orientation": "h",
         "showlegend": false,
         "textposition": "outside",
         "texttemplate": "%{x:,d}",
         "type": "bar",
         "width": 1,
         "x": [
          1
         ],
         "xaxis": "x68",
         "y": [
          "SIDD"
         ],
         "yaxis": "y68"
        },
        {
         "marker": {
          "color": "darkorchid"
         },
         "name": "H-DNA",
         "orientation": "h",
         "showlegend": false,
         "textposition": "outside",
         "texttemplate": "%{x:,d}",
         "type": "bar",
         "width": 1,
         "x": [
          3
         ],
         "xaxis": "x69",
         "y": [
          "H-DNA"
         ],
         "yaxis": "y69"
        },
        {
         "marker": {
          "color": "#ED4241"
         },
         "name": "SIDD",
         "orientation": "h",
         "showlegend": false,
         "textposition": "outside",
         "texttemplate": "%{x:,d}",
         "type": "bar",
         "width": 1,
         "x": [
          10
         ],
         "xaxis": "x69",
         "y": [
          "SIDD"
         ],
         "yaxis": "y69"
        },
        {
         "marker": {
          "color": "royalblue"
         },
         "name": "Z-DNA",
         "orientation": "h",
         "showlegend": false,
         "textposition": "outside",
         "texttemplate": "%{x:,d}",
         "type": "bar",
         "width": 1,
         "x": [
          1
         ],
         "xaxis": "x69",
         "y": [
          "Z-DNA"
         ],
         "yaxis": "y69"
        },
        {
         "marker": {
          "color": "#FE9B54"
         },
         "name": "G4",
         "orientation": "h",
         "showlegend": false,
         "textposition": "outside",
         "texttemplate": "%{x:,d}",
         "type": "bar",
         "width": 1,
         "x": [
          6
         ],
         "xaxis": "x69",
         "y": [
          "G4"
         ],
         "yaxis": "y69"
        },
        {
         "marker": {
          "color": "darkorchid"
         },
         "name": "H-DNA",
         "orientation": "h",
         "showlegend": false,
         "textposition": "outside",
         "texttemplate": "%{x:,d}",
         "type": "bar",
         "width": 1,
         "x": [
          1
         ],
         "xaxis": "x70",
         "y": [
          "H-DNA"
         ],
         "yaxis": "y70"
        },
        {
         "marker": {
          "color": "#ED4241"
         },
         "name": "SIDD",
         "orientation": "h",
         "showlegend": false,
         "textposition": "outside",
         "texttemplate": "%{x:,d}",
         "type": "bar",
         "width": 1,
         "x": [
          9
         ],
         "xaxis": "x70",
         "y": [
          "SIDD"
         ],
         "yaxis": "y70"
        },
        {
         "marker": {
          "color": "royalblue"
         },
         "name": "Z-DNA",
         "orientation": "h",
         "showlegend": false,
         "textposition": "outside",
         "texttemplate": "%{x:,d}",
         "type": "bar",
         "width": 1,
         "x": [
          16
         ],
         "xaxis": "x70",
         "y": [
          "Z-DNA"
         ],
         "yaxis": "y70"
        },
        {
         "marker": {
          "color": "#FE9B54"
         },
         "name": "G4",
         "orientation": "h",
         "showlegend": false,
         "textposition": "outside",
         "texttemplate": "%{x:,d}",
         "type": "bar",
         "width": 1,
         "x": [
          11
         ],
         "xaxis": "x70",
         "y": [
          "G4"
         ],
         "yaxis": "y70"
        },
        {
         "marker": {
          "color": "darkorchid"
         },
         "name": "H-DNA",
         "orientation": "h",
         "showlegend": false,
         "textposition": "outside",
         "texttemplate": "%{x:,d}",
         "type": "bar",
         "width": 1,
         "x": [
          32
         ],
         "xaxis": "x71",
         "y": [
          "H-DNA"
         ],
         "yaxis": "y71"
        },
        {
         "marker": {
          "color": "#ED4241"
         },
         "name": "SIDD",
         "orientation": "h",
         "showlegend": false,
         "textposition": "outside",
         "texttemplate": "%{x:,d}",
         "type": "bar",
         "width": 1,
         "x": [
          84
         ],
         "xaxis": "x71",
         "y": [
          "SIDD"
         ],
         "yaxis": "y71"
        },
        {
         "marker": {
          "color": "royalblue"
         },
         "name": "Z-DNA",
         "orientation": "h",
         "showlegend": false,
         "textposition": "outside",
         "texttemplate": "%{x:,d}",
         "type": "bar",
         "width": 1,
         "x": [
          79
         ],
         "xaxis": "x71",
         "y": [
          "Z-DNA"
         ],
         "yaxis": "y71"
        },
        {
         "marker": {
          "color": "#FE9B54"
         },
         "name": "G4",
         "orientation": "h",
         "showlegend": false,
         "textposition": "outside",
         "texttemplate": "%{x:,d}",
         "type": "bar",
         "width": 1,
         "x": [
          143
         ],
         "xaxis": "x71",
         "y": [
          "G4"
         ],
         "yaxis": "y71"
        },
        {
         "marker": {
          "color": "darkorchid"
         },
         "name": "H-DNA",
         "orientation": "h",
         "showlegend": false,
         "textposition": "outside",
         "texttemplate": "%{x:,d}",
         "type": "bar",
         "width": 1,
         "x": [
          20
         ],
         "xaxis": "x72",
         "y": [
          "H-DNA"
         ],
         "yaxis": "y72"
        },
        {
         "marker": {
          "color": "#ED4241"
         },
         "name": "SIDD",
         "orientation": "h",
         "showlegend": false,
         "textposition": "outside",
         "texttemplate": "%{x:,d}",
         "type": "bar",
         "width": 1,
         "x": [
          60
         ],
         "xaxis": "x72",
         "y": [
          "SIDD"
         ],
         "yaxis": "y72"
        },
        {
         "marker": {
          "color": "royalblue"
         },
         "name": "Z-DNA",
         "orientation": "h",
         "showlegend": false,
         "textposition": "outside",
         "texttemplate": "%{x:,d}",
         "type": "bar",
         "width": 1,
         "x": [
          48
         ],
         "xaxis": "x72",
         "y": [
          "Z-DNA"
         ],
         "yaxis": "y72"
        },
        {
         "marker": {
          "color": "#FE9B54"
         },
         "name": "G4",
         "orientation": "h",
         "showlegend": false,
         "textposition": "outside",
         "texttemplate": "%{x:,d}",
         "type": "bar",
         "width": 1,
         "x": [
          55
         ],
         "xaxis": "x72",
         "y": [
          "G4"
         ],
         "yaxis": "y72"
        },
        {
         "marker": {
          "color": "darkorchid"
         },
         "name": "H-DNA",
         "orientation": "h",
         "showlegend": false,
         "textposition": "outside",
         "texttemplate": "%{x:,d}",
         "type": "bar",
         "width": 1,
         "x": [
          18
         ],
         "xaxis": "x73",
         "y": [
          "H-DNA"
         ],
         "yaxis": "y73"
        },
        {
         "marker": {
          "color": "#ED4241"
         },
         "name": "SIDD",
         "orientation": "h",
         "showlegend": false,
         "textposition": "outside",
         "texttemplate": "%{x:,d}",
         "type": "bar",
         "width": 1,
         "x": [
          39
         ],
         "xaxis": "x73",
         "y": [
          "SIDD"
         ],
         "yaxis": "y73"
        },
        {
         "marker": {
          "color": "royalblue"
         },
         "name": "Z-DNA",
         "orientation": "h",
         "showlegend": false,
         "textposition": "outside",
         "texttemplate": "%{x:,d}",
         "type": "bar",
         "width": 1,
         "x": [
          44
         ],
         "xaxis": "x73",
         "y": [
          "Z-DNA"
         ],
         "yaxis": "y73"
        },
        {
         "marker": {
          "color": "#FE9B54"
         },
         "name": "G4",
         "orientation": "h",
         "showlegend": false,
         "textposition": "outside",
         "texttemplate": "%{x:,d}",
         "type": "bar",
         "width": 1,
         "x": [
          33
         ],
         "xaxis": "x73",
         "y": [
          "G4"
         ],
         "yaxis": "y73"
        },
        {
         "marker": {
          "color": "darkorchid"
         },
         "name": "H-DNA",
         "orientation": "h",
         "showlegend": false,
         "textposition": "outside",
         "texttemplate": "%{x:,d}",
         "type": "bar",
         "width": 1,
         "x": [
          119
         ],
         "xaxis": "x74",
         "y": [
          "H-DNA"
         ],
         "yaxis": "y74"
        },
        {
         "marker": {
          "color": "#ED4241"
         },
         "name": "SIDD",
         "orientation": "h",
         "showlegend": false,
         "textposition": "outside",
         "texttemplate": "%{x:,d}",
         "type": "bar",
         "width": 1,
         "x": [
          157
         ],
         "xaxis": "x74",
         "y": [
          "SIDD"
         ],
         "yaxis": "y74"
        },
        {
         "marker": {
          "color": "royalblue"
         },
         "name": "Z-DNA",
         "orientation": "h",
         "showlegend": false,
         "textposition": "outside",
         "texttemplate": "%{x:,d}",
         "type": "bar",
         "width": 1,
         "x": [
          265
         ],
         "xaxis": "x74",
         "y": [
          "Z-DNA"
         ],
         "yaxis": "y74"
        },
        {
         "marker": {
          "color": "#FE9B54"
         },
         "name": "G4",
         "orientation": "h",
         "showlegend": false,
         "textposition": "outside",
         "texttemplate": "%{x:,d}",
         "type": "bar",
         "width": 1,
         "x": [
          99
         ],
         "xaxis": "x74",
         "y": [
          "G4"
         ],
         "yaxis": "y74"
        },
        {
         "marker": {
          "color": "#FE9B54"
         },
         "name": "G4",
         "orientation": "h",
         "showlegend": false,
         "textposition": "outside",
         "texttemplate": "%{x:,d}",
         "type": "bar",
         "width": 1,
         "x": [
          2
         ],
         "xaxis": "x75",
         "y": [
          "G4"
         ],
         "yaxis": "y75"
        },
        {
         "marker": {
          "color": "darkorchid"
         },
         "name": "H-DNA",
         "orientation": "h",
         "showlegend": false,
         "textposition": "outside",
         "texttemplate": "%{x:,d}",
         "type": "bar",
         "width": 1,
         "x": [
          2
         ],
         "xaxis": "x76",
         "y": [
          "H-DNA"
         ],
         "yaxis": "y76"
        },
        {
         "marker": {
          "color": "#ED4241"
         },
         "name": "SIDD",
         "orientation": "h",
         "showlegend": false,
         "textposition": "outside",
         "texttemplate": "%{x:,d}",
         "type": "bar",
         "width": 1,
         "x": [
          35
         ],
         "xaxis": "x76",
         "y": [
          "SIDD"
         ],
         "yaxis": "y76"
        },
        {
         "marker": {
          "color": "royalblue"
         },
         "name": "Z-DNA",
         "orientation": "h",
         "showlegend": false,
         "textposition": "outside",
         "texttemplate": "%{x:,d}",
         "type": "bar",
         "width": 1,
         "x": [
          15
         ],
         "xaxis": "x76",
         "y": [
          "Z-DNA"
         ],
         "yaxis": "y76"
        },
        {
         "marker": {
          "color": "#FE9B54"
         },
         "name": "G4",
         "orientation": "h",
         "showlegend": false,
         "textposition": "outside",
         "texttemplate": "%{x:,d}",
         "type": "bar",
         "width": 1,
         "x": [
          22
         ],
         "xaxis": "x76",
         "y": [
          "G4"
         ],
         "yaxis": "y76"
        },
        {
         "marker": {
          "color": "#FE9B54"
         },
         "name": "G4",
         "orientation": "h",
         "showlegend": false,
         "textposition": "outside",
         "texttemplate": "%{x:,d}",
         "type": "bar",
         "width": 1,
         "x": [
          1
         ],
         "xaxis": "x77",
         "y": [
          "G4"
         ],
         "yaxis": "y77"
        },
        {
         "marker": {
          "color": "darkorchid"
         },
         "name": "H-DNA",
         "orientation": "h",
         "showlegend": false,
         "textposition": "outside",
         "texttemplate": "%{x:,d}",
         "type": "bar",
         "width": 1,
         "x": [
          2
         ],
         "xaxis": "x78",
         "y": [
          "H-DNA"
         ],
         "yaxis": "y78"
        },
        {
         "marker": {
          "color": "#ED4241"
         },
         "name": "SIDD",
         "orientation": "h",
         "showlegend": false,
         "textposition": "outside",
         "texttemplate": "%{x:,d}",
         "type": "bar",
         "width": 1,
         "x": [
          17
         ],
         "xaxis": "x78",
         "y": [
          "SIDD"
         ],
         "yaxis": "y78"
        },
        {
         "marker": {
          "color": "royalblue"
         },
         "name": "Z-DNA",
         "orientation": "h",
         "showlegend": false,
         "textposition": "outside",
         "texttemplate": "%{x:,d}",
         "type": "bar",
         "width": 1,
         "x": [
          17
         ],
         "xaxis": "x78",
         "y": [
          "Z-DNA"
         ],
         "yaxis": "y78"
        },
        {
         "marker": {
          "color": "#FE9B54"
         },
         "name": "G4",
         "orientation": "h",
         "showlegend": false,
         "textposition": "outside",
         "texttemplate": "%{x:,d}",
         "type": "bar",
         "width": 1,
         "x": [
          49
         ],
         "xaxis": "x78",
         "y": [
          "G4"
         ],
         "yaxis": "y78"
        },
        {
         "marker": {
          "color": "darkorchid"
         },
         "name": "H-DNA",
         "orientation": "h",
         "showlegend": false,
         "textposition": "outside",
         "texttemplate": "%{x:,d}",
         "type": "bar",
         "width": 1,
         "x": [
          83
         ],
         "xaxis": "x79",
         "y": [
          "H-DNA"
         ],
         "yaxis": "y79"
        },
        {
         "marker": {
          "color": "#ED4241"
         },
         "name": "SIDD",
         "orientation": "h",
         "showlegend": false,
         "textposition": "outside",
         "texttemplate": "%{x:,d}",
         "type": "bar",
         "width": 1,
         "x": [
          191
         ],
         "xaxis": "x79",
         "y": [
          "SIDD"
         ],
         "yaxis": "y79"
        },
        {
         "marker": {
          "color": "royalblue"
         },
         "name": "Z-DNA",
         "orientation": "h",
         "showlegend": false,
         "textposition": "outside",
         "texttemplate": "%{x:,d}",
         "type": "bar",
         "width": 1,
         "x": [
          217
         ],
         "xaxis": "x79",
         "y": [
          "Z-DNA"
         ],
         "yaxis": "y79"
        },
        {
         "marker": {
          "color": "#FE9B54"
         },
         "name": "G4",
         "orientation": "h",
         "showlegend": false,
         "textposition": "outside",
         "texttemplate": "%{x:,d}",
         "type": "bar",
         "width": 1,
         "x": [
          135
         ],
         "xaxis": "x79",
         "y": [
          "G4"
         ],
         "yaxis": "y79"
        },
        {
         "marker": {
          "color": "darkorchid"
         },
         "name": "H-DNA",
         "orientation": "h",
         "showlegend": false,
         "textposition": "outside",
         "texttemplate": "%{x:,d}",
         "type": "bar",
         "width": 1,
         "x": [
          564
         ],
         "xaxis": "x80",
         "y": [
          "H-DNA"
         ],
         "yaxis": "y80"
        },
        {
         "marker": {
          "color": "#ED4241"
         },
         "name": "SIDD",
         "orientation": "h",
         "showlegend": false,
         "textposition": "outside",
         "texttemplate": "%{x:,d}",
         "type": "bar",
         "width": 1,
         "x": [
          331
         ],
         "xaxis": "x80",
         "y": [
          "SIDD"
         ],
         "yaxis": "y80"
        },
        {
         "marker": {
          "color": "royalblue"
         },
         "name": "Z-DNA",
         "orientation": "h",
         "showlegend": false,
         "textposition": "outside",
         "texttemplate": "%{x:,d}",
         "type": "bar",
         "width": 1,
         "x": [
          1223
         ],
         "xaxis": "x80",
         "y": [
          "Z-DNA"
         ],
         "yaxis": "y80"
        },
        {
         "marker": {
          "color": "#FE9B54"
         },
         "name": "G4",
         "orientation": "h",
         "showlegend": false,
         "textposition": "outside",
         "texttemplate": "%{x:,d}",
         "type": "bar",
         "width": 1,
         "x": [
          700
         ],
         "xaxis": "x80",
         "y": [
          "G4"
         ],
         "yaxis": "y80"
        }
       ],
       "layout": {
        "annotations": [
         {
          "font": {
           "size": 14
          },
          "showarrow": false,
          "text": "Promoter (<=1kb)",
          "textangle": 0,
          "x": 0.0472,
          "xanchor": "center",
          "xref": "paper",
          "y": 0.9999999999999998,
          "yanchor": "bottom",
          "yref": "paper"
         },
         {
          "font": {
           "size": 14
          },
          "showarrow": false,
          "text": "Promoter (1-2kb)",
          "textangle": 0,
          "x": 0.1456,
          "xanchor": "center",
          "xref": "paper",
          "y": 0.9999999999999998,
          "yanchor": "bottom",
          "yref": "paper"
         },
         {
          "font": {
           "size": 14
          },
          "showarrow": false,
          "text": "Promoter (2-3kb)",
          "textangle": 0,
          "x": 0.244,
          "xanchor": "center",
          "xref": "paper",
          "y": 0.9999999999999998,
          "yanchor": "bottom",
          "yref": "paper"
         },
         {
          "font": {
           "size": 14
          },
          "showarrow": false,
          "text": "Distal Intergenic",
          "textangle": 0,
          "x": 0.34240000000000004,
          "xanchor": "center",
          "xref": "paper",
          "y": 0.9999999999999998,
          "yanchor": "bottom",
          "yref": "paper"
         },
         {
          "font": {
           "size": 14
          },
          "showarrow": false,
          "text": "5' UTR",
          "textangle": 0,
          "x": 0.44079999999999997,
          "xanchor": "center",
          "xref": "paper",
          "y": 0.9999999999999998,
          "yanchor": "bottom",
          "yref": "paper"
         },
         {
          "font": {
           "size": 14
          },
          "showarrow": false,
          "text": "3' UTR",
          "textangle": 0,
          "x": 0.5392,
          "xanchor": "center",
          "xref": "paper",
          "y": 0.9999999999999998,
          "yanchor": "bottom",
          "yref": "paper"
         },
         {
          "font": {
           "size": 14
          },
          "showarrow": false,
          "text": "Downstream (<=300bp)",
          "textangle": 0,
          "x": 0.6376000000000001,
          "xanchor": "center",
          "xref": "paper",
          "y": 0.9999999999999998,
          "yanchor": "bottom",
          "yref": "paper"
         },
         {
          "font": {
           "size": 14
          },
          "showarrow": false,
          "text": "Exon",
          "textangle": 0,
          "x": 0.7360000000000001,
          "xanchor": "center",
          "xref": "paper",
          "y": 0.9999999999999998,
          "yanchor": "bottom",
          "yref": "paper"
         },
         {
          "font": {
           "size": 14
          },
          "showarrow": false,
          "text": "Intron",
          "textangle": 0,
          "x": 0.8344000000000001,
          "xanchor": "center",
          "xref": "paper",
          "y": 0.9999999999999998,
          "yanchor": "bottom",
          "yref": "paper"
         },
         {
          "font": {
           "size": 14
          },
          "showarrow": false,
          "text": "no annotation",
          "textangle": 0,
          "x": 0.9328000000000002,
          "xanchor": "center",
          "xref": "paper",
          "y": 0.9999999999999998,
          "yanchor": "bottom",
          "yref": "paper"
         },
         {
          "font": {
           "size": 14
          },
          "showarrow": false,
          "text": "cCRE",
          "textangle": 0,
          "x": 0.9800000000000002,
          "xanchor": "left",
          "xref": "paper",
          "y": 0.9418749999999998,
          "yanchor": "middle",
          "yref": "paper"
         },
         {
          "font": {
           "size": 14
          },
          "showarrow": false,
          "text": "Rep",
          "textangle": 0,
          "x": 0.9800000000000002,
          "xanchor": "left",
          "xref": "paper",
          "y": 0.8156249999999998,
          "yanchor": "middle",
          "yref": "paper"
         },
         {
          "font": {
           "size": 14
          },
          "showarrow": false,
          "text": "cCRE&Rep",
          "textangle": 0,
          "x": 0.9800000000000002,
          "xanchor": "left",
          "xref": "paper",
          "y": 0.689375,
          "yanchor": "middle",
          "yref": "paper"
         },
         {
          "font": {
           "size": 14
          },
          "showarrow": false,
          "text": "CTCF",
          "textangle": 0,
          "x": 0.9800000000000002,
          "xanchor": "left",
          "xref": "paper",
          "y": 0.563125,
          "yanchor": "middle",
          "yref": "paper"
         },
         {
          "font": {
           "size": 14
          },
          "showarrow": false,
          "text": "cCRE&CTCF",
          "textangle": 0,
          "x": 0.9800000000000002,
          "xanchor": "left",
          "xref": "paper",
          "y": 0.436875,
          "yanchor": "middle",
          "yref": "paper"
         },
         {
          "font": {
           "size": 14
          },
          "showarrow": false,
          "text": "Rep&CTCF",
          "textangle": 0,
          "x": 0.9800000000000002,
          "xanchor": "left",
          "xref": "paper",
          "y": 0.31062500000000004,
          "yanchor": "middle",
          "yref": "paper"
         },
         {
          "font": {
           "size": 14
          },
          "showarrow": false,
          "text": "cCRE&Rep&CTCF",
          "textangle": 0,
          "x": 0.9800000000000002,
          "xanchor": "left",
          "xref": "paper",
          "y": 0.184375,
          "yanchor": "middle",
          "yref": "paper"
         },
         {
          "font": {
           "size": 14
          },
          "showarrow": false,
          "text": "no annotation",
          "textangle": 0,
          "x": 0.9800000000000002,
          "xanchor": "left",
          "xref": "paper",
          "y": 0.058124999999999996,
          "yanchor": "middle",
          "yref": "paper"
         },
         {
          "font": {
           "size": 14
          },
          "showarrow": false,
          "text": "Flipon count",
          "textangle": 0,
          "x": 0.49,
          "xanchor": "center",
          "xref": "paper",
          "y": 0,
          "yanchor": "top",
          "yref": "paper",
          "yshift": -30
         }
        ],
        "font": {
         "family": "monospace",
         "size": 10
        },
        "height": 900,
        "legend": {
         "orientation": "h",
         "traceorder": "reversed",
         "x": 0.98,
         "xanchor": "right",
         "y": 1.03,
         "yanchor": "bottom"
        },
        "margin": {
         "b": 55,
         "l": 5,
         "t": 55
        },
        "template": {
         "data": {
          "bar": [
           {
            "error_x": {
             "color": "rgb(51,51,51)"
            },
            "error_y": {
             "color": "rgb(51,51,51)"
            },
            "marker": {
             "line": {
              "color": "rgb(237,237,237)",
              "width": 0.5
             },
             "pattern": {
              "fillmode": "overlay",
              "size": 10,
              "solidity": 0.2
             }
            },
            "type": "bar"
           }
          ],
          "barpolar": [
           {
            "marker": {
             "line": {
              "color": "rgb(237,237,237)",
              "width": 0.5
             },
             "pattern": {
              "fillmode": "overlay",
              "size": 10,
              "solidity": 0.2
             }
            },
            "type": "barpolar"
           }
          ],
          "carpet": [
           {
            "aaxis": {
             "endlinecolor": "rgb(51,51,51)",
             "gridcolor": "white",
             "linecolor": "white",
             "minorgridcolor": "white",
             "startlinecolor": "rgb(51,51,51)"
            },
            "baxis": {
             "endlinecolor": "rgb(51,51,51)",
             "gridcolor": "white",
             "linecolor": "white",
             "minorgridcolor": "white",
             "startlinecolor": "rgb(51,51,51)"
            },
            "type": "carpet"
           }
          ],
          "choropleth": [
           {
            "colorbar": {
             "outlinewidth": 0,
             "tickcolor": "rgb(237,237,237)",
             "ticklen": 6,
             "ticks": "inside"
            },
            "type": "choropleth"
           }
          ],
          "contour": [
           {
            "colorbar": {
             "outlinewidth": 0,
             "tickcolor": "rgb(237,237,237)",
             "ticklen": 6,
             "ticks": "inside"
            },
            "colorscale": [
             [
              0,
              "rgb(20,44,66)"
             ],
             [
              1,
              "rgb(90,179,244)"
             ]
            ],
            "type": "contour"
           }
          ],
          "contourcarpet": [
           {
            "colorbar": {
             "outlinewidth": 0,
             "tickcolor": "rgb(237,237,237)",
             "ticklen": 6,
             "ticks": "inside"
            },
            "type": "contourcarpet"
           }
          ],
          "heatmap": [
           {
            "colorbar": {
             "outlinewidth": 0,
             "tickcolor": "rgb(237,237,237)",
             "ticklen": 6,
             "ticks": "inside"
            },
            "colorscale": [
             [
              0,
              "rgb(20,44,66)"
             ],
             [
              1,
              "rgb(90,179,244)"
             ]
            ],
            "type": "heatmap"
           }
          ],
          "heatmapgl": [
           {
            "colorbar": {
             "outlinewidth": 0,
             "tickcolor": "rgb(237,237,237)",
             "ticklen": 6,
             "ticks": "inside"
            },
            "colorscale": [
             [
              0,
              "rgb(20,44,66)"
             ],
             [
              1,
              "rgb(90,179,244)"
             ]
            ],
            "type": "heatmapgl"
           }
          ],
          "histogram": [
           {
            "marker": {
             "pattern": {
              "fillmode": "overlay",
              "size": 10,
              "solidity": 0.2
             }
            },
            "type": "histogram"
           }
          ],
          "histogram2d": [
           {
            "colorbar": {
             "outlinewidth": 0,
             "tickcolor": "rgb(237,237,237)",
             "ticklen": 6,
             "ticks": "inside"
            },
            "colorscale": [
             [
              0,
              "rgb(20,44,66)"
             ],
             [
              1,
              "rgb(90,179,244)"
             ]
            ],
            "type": "histogram2d"
           }
          ],
          "histogram2dcontour": [
           {
            "colorbar": {
             "outlinewidth": 0,
             "tickcolor": "rgb(237,237,237)",
             "ticklen": 6,
             "ticks": "inside"
            },
            "colorscale": [
             [
              0,
              "rgb(20,44,66)"
             ],
             [
              1,
              "rgb(90,179,244)"
             ]
            ],
            "type": "histogram2dcontour"
           }
          ],
          "mesh3d": [
           {
            "colorbar": {
             "outlinewidth": 0,
             "tickcolor": "rgb(237,237,237)",
             "ticklen": 6,
             "ticks": "inside"
            },
            "type": "mesh3d"
           }
          ],
          "parcoords": [
           {
            "line": {
             "colorbar": {
              "outlinewidth": 0,
              "tickcolor": "rgb(237,237,237)",
              "ticklen": 6,
              "ticks": "inside"
             }
            },
            "type": "parcoords"
           }
          ],
          "pie": [
           {
            "automargin": true,
            "type": "pie"
           }
          ],
          "scatter": [
           {
            "fillpattern": {
             "fillmode": "overlay",
             "size": 10,
             "solidity": 0.2
            },
            "type": "scatter"
           }
          ],
          "scatter3d": [
           {
            "line": {
             "colorbar": {
              "outlinewidth": 0,
              "tickcolor": "rgb(237,237,237)",
              "ticklen": 6,
              "ticks": "inside"
             }
            },
            "marker": {
             "colorbar": {
              "outlinewidth": 0,
              "tickcolor": "rgb(237,237,237)",
              "ticklen": 6,
              "ticks": "inside"
             }
            },
            "type": "scatter3d"
           }
          ],
          "scattercarpet": [
           {
            "marker": {
             "colorbar": {
              "outlinewidth": 0,
              "tickcolor": "rgb(237,237,237)",
              "ticklen": 6,
              "ticks": "inside"
             }
            },
            "type": "scattercarpet"
           }
          ],
          "scattergeo": [
           {
            "marker": {
             "colorbar": {
              "outlinewidth": 0,
              "tickcolor": "rgb(237,237,237)",
              "ticklen": 6,
              "ticks": "inside"
             }
            },
            "type": "scattergeo"
           }
          ],
          "scattergl": [
           {
            "marker": {
             "colorbar": {
              "outlinewidth": 0,
              "tickcolor": "rgb(237,237,237)",
              "ticklen": 6,
              "ticks": "inside"
             }
            },
            "type": "scattergl"
           }
          ],
          "scattermapbox": [
           {
            "marker": {
             "colorbar": {
              "outlinewidth": 0,
              "tickcolor": "rgb(237,237,237)",
              "ticklen": 6,
              "ticks": "inside"
             }
            },
            "type": "scattermapbox"
           }
          ],
          "scatterpolar": [
           {
            "marker": {
             "colorbar": {
              "outlinewidth": 0,
              "tickcolor": "rgb(237,237,237)",
              "ticklen": 6,
              "ticks": "inside"
             }
            },
            "type": "scatterpolar"
           }
          ],
          "scatterpolargl": [
           {
            "marker": {
             "colorbar": {
              "outlinewidth": 0,
              "tickcolor": "rgb(237,237,237)",
              "ticklen": 6,
              "ticks": "inside"
             }
            },
            "type": "scatterpolargl"
           }
          ],
          "scatterternary": [
           {
            "marker": {
             "colorbar": {
              "outlinewidth": 0,
              "tickcolor": "rgb(237,237,237)",
              "ticklen": 6,
              "ticks": "inside"
             }
            },
            "type": "scatterternary"
           }
          ],
          "surface": [
           {
            "colorbar": {
             "outlinewidth": 0,
             "tickcolor": "rgb(237,237,237)",
             "ticklen": 6,
             "ticks": "inside"
            },
            "colorscale": [
             [
              0,
              "rgb(20,44,66)"
             ],
             [
              1,
              "rgb(90,179,244)"
             ]
            ],
            "type": "surface"
           }
          ],
          "table": [
           {
            "cells": {
             "fill": {
              "color": "rgb(237,237,237)"
             },
             "line": {
              "color": "white"
             }
            },
            "header": {
             "fill": {
              "color": "rgb(217,217,217)"
             },
             "line": {
              "color": "white"
             }
            },
            "type": "table"
           }
          ]
         },
         "layout": {
          "annotationdefaults": {
           "arrowhead": 0,
           "arrowwidth": 1
          },
          "autotypenumbers": "strict",
          "coloraxis": {
           "colorbar": {
            "outlinewidth": 0,
            "tickcolor": "rgb(237,237,237)",
            "ticklen": 6,
            "ticks": "inside"
           }
          },
          "colorscale": {
           "sequential": [
            [
             0,
             "rgb(20,44,66)"
            ],
            [
             1,
             "rgb(90,179,244)"
            ]
           ],
           "sequentialminus": [
            [
             0,
             "rgb(20,44,66)"
            ],
            [
             1,
             "rgb(90,179,244)"
            ]
           ]
          },
          "colorway": [
           "#F8766D",
           "#A3A500",
           "#00BF7D",
           "#00B0F6",
           "#E76BF3"
          ],
          "font": {
           "color": "rgb(51,51,51)"
          },
          "geo": {
           "bgcolor": "white",
           "lakecolor": "white",
           "landcolor": "rgb(237,237,237)",
           "showlakes": true,
           "showland": true,
           "subunitcolor": "white"
          },
          "hoverlabel": {
           "align": "left"
          },
          "hovermode": "closest",
          "paper_bgcolor": "white",
          "plot_bgcolor": "rgb(237,237,237)",
          "polar": {
           "angularaxis": {
            "gridcolor": "white",
            "linecolor": "white",
            "showgrid": true,
            "tickcolor": "rgb(51,51,51)",
            "ticks": "outside"
           },
           "bgcolor": "rgb(237,237,237)",
           "radialaxis": {
            "gridcolor": "white",
            "linecolor": "white",
            "showgrid": true,
            "tickcolor": "rgb(51,51,51)",
            "ticks": "outside"
           }
          },
          "scene": {
           "xaxis": {
            "backgroundcolor": "rgb(237,237,237)",
            "gridcolor": "white",
            "gridwidth": 2,
            "linecolor": "white",
            "showbackground": true,
            "showgrid": true,
            "tickcolor": "rgb(51,51,51)",
            "ticks": "outside",
            "zerolinecolor": "white"
           },
           "yaxis": {
            "backgroundcolor": "rgb(237,237,237)",
            "gridcolor": "white",
            "gridwidth": 2,
            "linecolor": "white",
            "showbackground": true,
            "showgrid": true,
            "tickcolor": "rgb(51,51,51)",
            "ticks": "outside",
            "zerolinecolor": "white"
           },
           "zaxis": {
            "backgroundcolor": "rgb(237,237,237)",
            "gridcolor": "white",
            "gridwidth": 2,
            "linecolor": "white",
            "showbackground": true,
            "showgrid": true,
            "tickcolor": "rgb(51,51,51)",
            "ticks": "outside",
            "zerolinecolor": "white"
           }
          },
          "shapedefaults": {
           "fillcolor": "black",
           "line": {
            "width": 0
           },
           "opacity": 0.3
          },
          "ternary": {
           "aaxis": {
            "gridcolor": "white",
            "linecolor": "white",
            "showgrid": true,
            "tickcolor": "rgb(51,51,51)",
            "ticks": "outside"
           },
           "baxis": {
            "gridcolor": "white",
            "linecolor": "white",
            "showgrid": true,
            "tickcolor": "rgb(51,51,51)",
            "ticks": "outside"
           },
           "bgcolor": "rgb(237,237,237)",
           "caxis": {
            "gridcolor": "white",
            "linecolor": "white",
            "showgrid": true,
            "tickcolor": "rgb(51,51,51)",
            "ticks": "outside"
           }
          },
          "xaxis": {
           "automargin": true,
           "gridcolor": "white",
           "linecolor": "white",
           "showgrid": true,
           "tickcolor": "rgb(51,51,51)",
           "ticks": "outside",
           "title": {
            "standoff": 15
           },
           "zerolinecolor": "white"
          },
          "yaxis": {
           "automargin": true,
           "gridcolor": "white",
           "linecolor": "white",
           "showgrid": true,
           "tickcolor": "rgb(51,51,51)",
           "ticks": "outside",
           "title": {
            "standoff": 15
           },
           "zerolinecolor": "white"
          }
         }
        },
        "title": {
         "text": "Flipons enriched with miRNA seed-regions (31,686)",
         "x": 0.0035,
         "y": 0.985
        },
        "uniformtext": {
         "minsize": 10
        },
        "width": 1800,
        "xaxis": {
         "anchor": "y",
         "domain": [
          0,
          0.0944
         ],
         "matches": "x71",
         "showticklabels": false,
         "tickformat": "s",
         "ticks": ""
        },
        "xaxis10": {
         "anchor": "y10",
         "domain": [
          0.8856000000000002,
          0.9800000000000002
         ],
         "matches": "x71",
         "showticklabels": false,
         "tickformat": "s",
         "ticks": ""
        },
        "xaxis11": {
         "anchor": "y11",
         "domain": [
          0,
          0.0944
         ],
         "matches": "x71",
         "showticklabels": false,
         "tickformat": "s",
         "ticks": ""
        },
        "xaxis12": {
         "anchor": "y12",
         "domain": [
          0.0984,
          0.1928
         ],
         "matches": "x71",
         "showticklabels": false,
         "tickformat": "s",
         "ticks": ""
        },
        "xaxis13": {
         "anchor": "y13",
         "domain": [
          0.1968,
          0.2912
         ],
         "matches": "x71",
         "showticklabels": false,
         "tickformat": "s",
         "ticks": ""
        },
        "xaxis14": {
         "anchor": "y14",
         "domain": [
          0.2952,
          0.3896
         ],
         "matches": "x71",
         "showticklabels": false,
         "tickformat": "s",
         "ticks": ""
        },
        "xaxis15": {
         "anchor": "y15",
         "domain": [
          0.3936,
          0.488
         ],
         "matches": "x71",
         "showticklabels": false,
         "tickformat": "s"
        },
        "xaxis16": {
         "anchor": "y16",
         "domain": [
          0.492,
          0.5864
         ],
         "matches": "x71",
         "showticklabels": false,
         "tickformat": "s",
         "ticks": ""
        },
        "xaxis17": {
         "anchor": "y17",
         "domain": [
          0.5904,
          0.6848000000000001
         ],
         "matches": "x71",
         "showticklabels": false,
         "tickformat": "s",
         "ticks": ""
        },
        "xaxis18": {
         "anchor": "y18",
         "domain": [
          0.6888000000000001,
          0.7832000000000001
         ],
         "matches": "x71",
         "showticklabels": false,
         "tickformat": "s",
         "ticks": ""
        },
        "xaxis19": {
         "anchor": "y19",
         "domain": [
          0.7872000000000001,
          0.8816000000000002
         ],
         "matches": "x71",
         "showticklabels": false,
         "tickformat": "s",
         "ticks": ""
        },
        "xaxis2": {
         "anchor": "y2",
         "domain": [
          0.0984,
          0.1928
         ],
         "matches": "x71",
         "showticklabels": false,
         "tickformat": "s",
         "ticks": ""
        },
        "xaxis20": {
         "anchor": "y20",
         "domain": [
          0.8856000000000002,
          0.9800000000000002
         ],
         "matches": "x71",
         "showticklabels": false,
         "tickformat": "s",
         "ticks": ""
        },
        "xaxis21": {
         "anchor": "y21",
         "domain": [
          0,
          0.0944
         ],
         "matches": "x71",
         "showticklabels": false,
         "tickformat": "s",
         "ticks": ""
        },
        "xaxis22": {
         "anchor": "y22",
         "domain": [
          0.0984,
          0.1928
         ],
         "matches": "x71",
         "showticklabels": false,
         "tickformat": "s",
         "ticks": ""
        },
        "xaxis23": {
         "anchor": "y23",
         "domain": [
          0.1968,
          0.2912
         ],
         "matches": "x71",
         "showticklabels": false,
         "tickformat": "s",
         "ticks": ""
        },
        "xaxis24": {
         "anchor": "y24",
         "domain": [
          0.2952,
          0.3896
         ],
         "matches": "x71",
         "showticklabels": false,
         "tickformat": "s",
         "ticks": ""
        },
        "xaxis25": {
         "anchor": "y25",
         "domain": [
          0.3936,
          0.488
         ],
         "matches": "x71",
         "showticklabels": false,
         "tickformat": "s"
        },
        "xaxis26": {
         "anchor": "y26",
         "domain": [
          0.492,
          0.5864
         ],
         "matches": "x71",
         "showticklabels": false,
         "tickformat": "s"
        },
        "xaxis27": {
         "anchor": "y27",
         "domain": [
          0.5904,
          0.6848000000000001
         ],
         "matches": "x71",
         "showticklabels": false,
         "tickformat": "s"
        },
        "xaxis28": {
         "anchor": "y28",
         "domain": [
          0.6888000000000001,
          0.7832000000000001
         ],
         "matches": "x71",
         "showticklabels": false,
         "tickformat": "s",
         "ticks": ""
        },
        "xaxis29": {
         "anchor": "y29",
         "domain": [
          0.7872000000000001,
          0.8816000000000002
         ],
         "matches": "x71",
         "showticklabels": false,
         "tickformat": "s",
         "ticks": ""
        },
        "xaxis3": {
         "anchor": "y3",
         "domain": [
          0.1968,
          0.2912
         ],
         "matches": "x71",
         "showticklabels": false,
         "tickformat": "s",
         "ticks": ""
        },
        "xaxis30": {
         "anchor": "y30",
         "domain": [
          0.8856000000000002,
          0.9800000000000002
         ],
         "matches": "x71",
         "showticklabels": false,
         "tickformat": "s",
         "ticks": ""
        },
        "xaxis31": {
         "anchor": "y31",
         "domain": [
          0,
          0.0944
         ],
         "matches": "x71",
         "showticklabels": false,
         "tickformat": "s",
         "ticks": ""
        },
        "xaxis32": {
         "anchor": "y32",
         "domain": [
          0.0984,
          0.1928
         ],
         "matches": "x71",
         "showticklabels": false,
         "tickformat": "s",
         "ticks": ""
        },
        "xaxis33": {
         "anchor": "y33",
         "domain": [
          0.1968,
          0.2912
         ],
         "matches": "x71",
         "showticklabels": false,
         "tickformat": "s",
         "ticks": ""
        },
        "xaxis34": {
         "anchor": "y34",
         "domain": [
          0.2952,
          0.3896
         ],
         "matches": "x71",
         "showticklabels": false,
         "tickformat": "s",
         "ticks": ""
        },
        "xaxis35": {
         "anchor": "y35",
         "domain": [
          0.3936,
          0.488
         ],
         "matches": "x71",
         "showticklabels": false,
         "tickformat": "s"
        },
        "xaxis36": {
         "anchor": "y36",
         "domain": [
          0.492,
          0.5864
         ],
         "matches": "x71",
         "showticklabels": false,
         "tickformat": "s",
         "ticks": ""
        },
        "xaxis37": {
         "anchor": "y37",
         "domain": [
          0.5904,
          0.6848000000000001
         ],
         "matches": "x71",
         "showticklabels": false,
         "tickformat": "s"
        },
        "xaxis38": {
         "anchor": "y38",
         "domain": [
          0.6888000000000001,
          0.7832000000000001
         ],
         "matches": "x71",
         "showticklabels": false,
         "tickformat": "s"
        },
        "xaxis39": {
         "anchor": "y39",
         "domain": [
          0.7872000000000001,
          0.8816000000000002
         ],
         "matches": "x71",
         "showticklabels": false,
         "tickformat": "s",
         "ticks": ""
        },
        "xaxis4": {
         "anchor": "y4",
         "domain": [
          0.2952,
          0.3896
         ],
         "matches": "x71",
         "showticklabels": false,
         "tickformat": "s",
         "ticks": ""
        },
        "xaxis40": {
         "anchor": "y40",
         "domain": [
          0.8856000000000002,
          0.9800000000000002
         ],
         "matches": "x71",
         "showticklabels": false,
         "tickformat": "s",
         "ticks": ""
        },
        "xaxis41": {
         "anchor": "y41",
         "domain": [
          0,
          0.0944
         ],
         "matches": "x71",
         "showticklabels": false,
         "tickformat": "s",
         "ticks": ""
        },
        "xaxis42": {
         "anchor": "y42",
         "domain": [
          0.0984,
          0.1928
         ],
         "matches": "x71",
         "showticklabels": false,
         "tickformat": "s",
         "ticks": ""
        },
        "xaxis43": {
         "anchor": "y43",
         "domain": [
          0.1968,
          0.2912
         ],
         "matches": "x71",
         "showticklabels": false,
         "tickformat": "s",
         "ticks": ""
        },
        "xaxis44": {
         "anchor": "y44",
         "domain": [
          0.2952,
          0.3896
         ],
         "matches": "x71",
         "showticklabels": false,
         "tickformat": "s",
         "ticks": ""
        },
        "xaxis45": {
         "anchor": "y45",
         "domain": [
          0.3936,
          0.488
         ],
         "matches": "x71",
         "showticklabels": false,
         "tickformat": "s",
         "ticks": ""
        },
        "xaxis46": {
         "anchor": "y46",
         "domain": [
          0.492,
          0.5864
         ],
         "matches": "x71",
         "showticklabels": false,
         "tickformat": "s",
         "ticks": ""
        },
        "xaxis47": {
         "anchor": "y47",
         "domain": [
          0.5904,
          0.6848000000000001
         ],
         "matches": "x71",
         "showticklabels": false,
         "tickformat": "s",
         "ticks": ""
        },
        "xaxis48": {
         "anchor": "y48",
         "domain": [
          0.6888000000000001,
          0.7832000000000001
         ],
         "matches": "x71",
         "showticklabels": false,
         "tickformat": "s",
         "ticks": ""
        },
        "xaxis49": {
         "anchor": "y49",
         "domain": [
          0.7872000000000001,
          0.8816000000000002
         ],
         "matches": "x71",
         "showticklabels": false,
         "tickformat": "s",
         "ticks": ""
        },
        "xaxis5": {
         "anchor": "y5",
         "domain": [
          0.3936,
          0.488
         ],
         "matches": "x71",
         "showticklabels": false,
         "tickformat": "s"
        },
        "xaxis50": {
         "anchor": "y50",
         "domain": [
          0.8856000000000002,
          0.9800000000000002
         ],
         "matches": "x71",
         "showticklabels": false,
         "tickformat": "s",
         "ticks": ""
        },
        "xaxis51": {
         "anchor": "y51",
         "domain": [
          0,
          0.0944
         ],
         "matches": "x71",
         "showticklabels": false,
         "tickformat": "s",
         "ticks": ""
        },
        "xaxis52": {
         "anchor": "y52",
         "domain": [
          0.0984,
          0.1928
         ],
         "matches": "x71",
         "showticklabels": false,
         "tickformat": "s",
         "ticks": ""
        },
        "xaxis53": {
         "anchor": "y53",
         "domain": [
          0.1968,
          0.2912
         ],
         "matches": "x71",
         "showticklabels": false,
         "tickformat": "s"
        },
        "xaxis54": {
         "anchor": "y54",
         "domain": [
          0.2952,
          0.3896
         ],
         "matches": "x71",
         "showticklabels": false,
         "tickformat": "s",
         "ticks": ""
        },
        "xaxis55": {
         "anchor": "y55",
         "domain": [
          0.3936,
          0.488
         ],
         "matches": "x71",
         "showticklabels": false,
         "tickformat": "s"
        },
        "xaxis56": {
         "anchor": "y56",
         "domain": [
          0.492,
          0.5864
         ],
         "matches": "x71",
         "showticklabels": false,
         "tickformat": "s"
        },
        "xaxis57": {
         "anchor": "y57",
         "domain": [
          0.5904,
          0.6848000000000001
         ],
         "matches": "x71",
         "showticklabels": false,
         "tickformat": "s"
        },
        "xaxis58": {
         "anchor": "y58",
         "domain": [
          0.6888000000000001,
          0.7832000000000001
         ],
         "matches": "x71",
         "showticklabels": false,
         "tickformat": "s"
        },
        "xaxis59": {
         "anchor": "y59",
         "domain": [
          0.7872000000000001,
          0.8816000000000002
         ],
         "matches": "x71",
         "showticklabels": false,
         "tickformat": "s",
         "ticks": ""
        },
        "xaxis6": {
         "anchor": "y6",
         "domain": [
          0.492,
          0.5864
         ],
         "matches": "x71",
         "showticklabels": false,
         "tickformat": "s",
         "ticks": ""
        },
        "xaxis60": {
         "anchor": "y60",
         "domain": [
          0.8856000000000002,
          0.9800000000000002
         ],
         "matches": "x71",
         "showticklabels": false,
         "tickformat": "s",
         "ticks": ""
        },
        "xaxis61": {
         "anchor": "y61",
         "domain": [
          0,
          0.0944
         ],
         "matches": "x71",
         "showticklabels": false,
         "tickformat": "s",
         "ticks": ""
        },
        "xaxis62": {
         "anchor": "y62",
         "domain": [
          0.0984,
          0.1928
         ],
         "matches": "x71",
         "showticklabels": false,
         "tickformat": "s",
         "ticks": ""
        },
        "xaxis63": {
         "anchor": "y63",
         "domain": [
          0.1968,
          0.2912
         ],
         "matches": "x71",
         "showticklabels": false,
         "tickformat": "s",
         "ticks": ""
        },
        "xaxis64": {
         "anchor": "y64",
         "domain": [
          0.2952,
          0.3896
         ],
         "matches": "x71",
         "showticklabels": false,
         "tickformat": "s",
         "ticks": ""
        },
        "xaxis65": {
         "anchor": "y65",
         "domain": [
          0.3936,
          0.488
         ],
         "matches": "x71",
         "showticklabels": false,
         "tickformat": "s"
        },
        "xaxis66": {
         "anchor": "y66",
         "domain": [
          0.492,
          0.5864
         ],
         "matches": "x71",
         "showticklabels": false,
         "tickformat": "s",
         "ticks": ""
        },
        "xaxis67": {
         "anchor": "y67",
         "domain": [
          0.5904,
          0.6848000000000001
         ],
         "matches": "x71",
         "showticklabels": false,
         "tickformat": "s"
        },
        "xaxis68": {
         "anchor": "y68",
         "domain": [
          0.6888000000000001,
          0.7832000000000001
         ],
         "matches": "x71",
         "showticklabels": false,
         "tickformat": "s",
         "ticks": ""
        },
        "xaxis69": {
         "anchor": "y69",
         "domain": [
          0.7872000000000001,
          0.8816000000000002
         ],
         "matches": "x71",
         "showticklabels": false,
         "tickformat": "s",
         "ticks": ""
        },
        "xaxis7": {
         "anchor": "y7",
         "domain": [
          0.5904,
          0.6848000000000001
         ],
         "matches": "x71",
         "showticklabels": false,
         "tickformat": "s"
        },
        "xaxis70": {
         "anchor": "y70",
         "domain": [
          0.8856000000000002,
          0.9800000000000002
         ],
         "matches": "x71",
         "showticklabels": false,
         "tickformat": "s",
         "ticks": ""
        },
        "xaxis71": {
         "anchor": "y71",
         "domain": [
          0,
          0.0944
         ],
         "tickformat": "s",
         "ticks": "outside"
        },
        "xaxis72": {
         "anchor": "y72",
         "domain": [
          0.0984,
          0.1928
         ],
         "matches": "x71",
         "tickformat": "s",
         "ticks": "outside"
        },
        "xaxis73": {
         "anchor": "y73",
         "domain": [
          0.1968,
          0.2912
         ],
         "matches": "x71",
         "tickformat": "s",
         "ticks": "outside"
        },
        "xaxis74": {
         "anchor": "y74",
         "domain": [
          0.2952,
          0.3896
         ],
         "matches": "x71",
         "tickformat": "s",
         "ticks": "outside"
        },
        "xaxis75": {
         "anchor": "y75",
         "domain": [
          0.3936,
          0.488
         ],
         "matches": "x71",
         "tickformat": "s",
         "ticks": "outside"
        },
        "xaxis76": {
         "anchor": "y76",
         "domain": [
          0.492,
          0.5864
         ],
         "matches": "x71",
         "tickformat": "s",
         "ticks": "outside"
        },
        "xaxis77": {
         "anchor": "y77",
         "domain": [
          0.5904,
          0.6848000000000001
         ],
         "matches": "x71",
         "tickformat": "s",
         "ticks": "outside"
        },
        "xaxis78": {
         "anchor": "y78",
         "domain": [
          0.6888000000000001,
          0.7832000000000001
         ],
         "matches": "x71",
         "tickformat": "s",
         "ticks": "outside"
        },
        "xaxis79": {
         "anchor": "y79",
         "domain": [
          0.7872000000000001,
          0.8816000000000002
         ],
         "matches": "x71",
         "tickformat": "s",
         "ticks": "outside"
        },
        "xaxis8": {
         "anchor": "y8",
         "domain": [
          0.6888000000000001,
          0.7832000000000001
         ],
         "matches": "x71",
         "showticklabels": false,
         "tickformat": "s",
         "ticks": ""
        },
        "xaxis80": {
         "anchor": "y80",
         "domain": [
          0.8856000000000002,
          0.9800000000000002
         ],
         "matches": "x71",
         "tickformat": "s",
         "ticks": "outside"
        },
        "xaxis9": {
         "anchor": "y9",
         "domain": [
          0.7872000000000001,
          0.8816000000000002
         ],
         "matches": "x71",
         "showticklabels": false,
         "tickformat": "s",
         "ticks": ""
        },
        "yaxis": {
         "anchor": "x",
         "domain": [
          0.8837499999999998,
          0.9999999999999998
         ],
         "matches": "y71",
         "type": "category",
         "visible": false
        },
        "yaxis10": {
         "anchor": "x10",
         "domain": [
          0.8837499999999998,
          0.9999999999999998
         ],
         "matches": "y71",
         "showticklabels": false,
         "type": "category",
         "visible": false
        },
        "yaxis11": {
         "anchor": "x11",
         "domain": [
          0.7574999999999998,
          0.8737499999999998
         ],
         "matches": "y71",
         "type": "category",
         "visible": false
        },
        "yaxis12": {
         "anchor": "x12",
         "domain": [
          0.7574999999999998,
          0.8737499999999998
         ],
         "matches": "y71",
         "showticklabels": false,
         "type": "category",
         "visible": false
        },
        "yaxis13": {
         "anchor": "x13",
         "domain": [
          0.7574999999999998,
          0.8737499999999998
         ],
         "matches": "y71",
         "showticklabels": false,
         "type": "category",
         "visible": false
        },
        "yaxis14": {
         "anchor": "x14",
         "domain": [
          0.7574999999999998,
          0.8737499999999998
         ],
         "matches": "y71",
         "showticklabels": false,
         "type": "category",
         "visible": false
        },
        "yaxis15": {
         "anchor": "x15",
         "domain": [
          0.7574999999999998,
          0.8737499999999998
         ],
         "matches": "y71",
         "showticklabels": false,
         "type": "category",
         "visible": false
        },
        "yaxis16": {
         "anchor": "x16",
         "domain": [
          0.7574999999999998,
          0.8737499999999998
         ],
         "matches": "y71",
         "showticklabels": false,
         "type": "category",
         "visible": false
        },
        "yaxis17": {
         "anchor": "x17",
         "domain": [
          0.7574999999999998,
          0.8737499999999998
         ],
         "matches": "y71",
         "showticklabels": false,
         "type": "category",
         "visible": false
        },
        "yaxis18": {
         "anchor": "x18",
         "domain": [
          0.7574999999999998,
          0.8737499999999998
         ],
         "matches": "y71",
         "showticklabels": false,
         "type": "category",
         "visible": false
        },
        "yaxis19": {
         "anchor": "x19",
         "domain": [
          0.7574999999999998,
          0.8737499999999998
         ],
         "matches": "y71",
         "showticklabels": false,
         "type": "category",
         "visible": false
        },
        "yaxis2": {
         "anchor": "x2",
         "domain": [
          0.8837499999999998,
          0.9999999999999998
         ],
         "matches": "y71",
         "showticklabels": false,
         "type": "category",
         "visible": false
        },
        "yaxis20": {
         "anchor": "x20",
         "domain": [
          0.7574999999999998,
          0.8737499999999998
         ],
         "matches": "y71",
         "showticklabels": false,
         "type": "category",
         "visible": false
        },
        "yaxis21": {
         "anchor": "x21",
         "domain": [
          0.63125,
          0.7474999999999999
         ],
         "matches": "y71",
         "type": "category",
         "visible": false
        },
        "yaxis22": {
         "anchor": "x22",
         "domain": [
          0.63125,
          0.7474999999999999
         ],
         "matches": "y71",
         "showticklabels": false,
         "type": "category",
         "visible": false
        },
        "yaxis23": {
         "anchor": "x23",
         "domain": [
          0.63125,
          0.7474999999999999
         ],
         "matches": "y71",
         "showticklabels": false,
         "type": "category",
         "visible": false
        },
        "yaxis24": {
         "anchor": "x24",
         "domain": [
          0.63125,
          0.7474999999999999
         ],
         "matches": "y71",
         "showticklabels": false,
         "type": "category",
         "visible": false
        },
        "yaxis25": {
         "anchor": "x25",
         "domain": [
          0.63125,
          0.7474999999999999
         ],
         "matches": "y71",
         "showticklabels": false,
         "type": "category",
         "visible": false
        },
        "yaxis26": {
         "anchor": "x26",
         "domain": [
          0.63125,
          0.7474999999999999
         ],
         "matches": "y71",
         "showticklabels": false,
         "type": "category",
         "visible": false
        },
        "yaxis27": {
         "anchor": "x27",
         "domain": [
          0.63125,
          0.7474999999999999
         ],
         "matches": "y71",
         "showticklabels": false,
         "type": "category",
         "visible": false
        },
        "yaxis28": {
         "anchor": "x28",
         "domain": [
          0.63125,
          0.7474999999999999
         ],
         "matches": "y71",
         "showticklabels": false,
         "type": "category",
         "visible": false
        },
        "yaxis29": {
         "anchor": "x29",
         "domain": [
          0.63125,
          0.7474999999999999
         ],
         "matches": "y71",
         "showticklabels": false,
         "type": "category",
         "visible": false
        },
        "yaxis3": {
         "anchor": "x3",
         "domain": [
          0.8837499999999998,
          0.9999999999999998
         ],
         "matches": "y71",
         "showticklabels": false,
         "type": "category",
         "visible": false
        },
        "yaxis30": {
         "anchor": "x30",
         "domain": [
          0.63125,
          0.7474999999999999
         ],
         "matches": "y71",
         "showticklabels": false,
         "type": "category",
         "visible": false
        },
        "yaxis31": {
         "anchor": "x31",
         "domain": [
          0.505,
          0.62125
         ],
         "matches": "y71",
         "type": "category",
         "visible": false
        },
        "yaxis32": {
         "anchor": "x32",
         "domain": [
          0.505,
          0.62125
         ],
         "matches": "y71",
         "showticklabels": false,
         "type": "category",
         "visible": false
        },
        "yaxis33": {
         "anchor": "x33",
         "domain": [
          0.505,
          0.62125
         ],
         "matches": "y71",
         "showticklabels": false,
         "type": "category",
         "visible": false
        },
        "yaxis34": {
         "anchor": "x34",
         "domain": [
          0.505,
          0.62125
         ],
         "matches": "y71",
         "showticklabels": false,
         "type": "category",
         "visible": false
        },
        "yaxis35": {
         "anchor": "x35",
         "domain": [
          0.505,
          0.62125
         ],
         "matches": "y71",
         "showticklabels": false,
         "type": "category",
         "visible": false
        },
        "yaxis36": {
         "anchor": "x36",
         "domain": [
          0.505,
          0.62125
         ],
         "matches": "y71",
         "showticklabels": false,
         "type": "category",
         "visible": false
        },
        "yaxis37": {
         "anchor": "x37",
         "domain": [
          0.505,
          0.62125
         ],
         "matches": "y71",
         "showticklabels": false,
         "type": "category",
         "visible": false
        },
        "yaxis38": {
         "anchor": "x38",
         "domain": [
          0.505,
          0.62125
         ],
         "matches": "y71",
         "showticklabels": false,
         "type": "category",
         "visible": false
        },
        "yaxis39": {
         "anchor": "x39",
         "domain": [
          0.505,
          0.62125
         ],
         "matches": "y71",
         "showticklabels": false,
         "type": "category",
         "visible": false
        },
        "yaxis4": {
         "anchor": "x4",
         "domain": [
          0.8837499999999998,
          0.9999999999999998
         ],
         "matches": "y71",
         "showticklabels": false,
         "type": "category",
         "visible": false
        },
        "yaxis40": {
         "anchor": "x40",
         "domain": [
          0.505,
          0.62125
         ],
         "matches": "y71",
         "showticklabels": false,
         "type": "category",
         "visible": false
        },
        "yaxis41": {
         "anchor": "x41",
         "domain": [
          0.37875000000000003,
          0.495
         ],
         "matches": "y71",
         "type": "category",
         "visible": false
        },
        "yaxis42": {
         "anchor": "x42",
         "domain": [
          0.37875000000000003,
          0.495
         ],
         "matches": "y71",
         "showticklabels": false,
         "type": "category",
         "visible": false
        },
        "yaxis43": {
         "anchor": "x43",
         "domain": [
          0.37875000000000003,
          0.495
         ],
         "matches": "y71",
         "showticklabels": false,
         "type": "category",
         "visible": false
        },
        "yaxis44": {
         "anchor": "x44",
         "domain": [
          0.37875000000000003,
          0.495
         ],
         "matches": "y71",
         "showticklabels": false,
         "type": "category",
         "visible": false
        },
        "yaxis45": {
         "anchor": "x45",
         "domain": [
          0.37875000000000003,
          0.495
         ],
         "matches": "y71",
         "showticklabels": false,
         "type": "category",
         "visible": false
        },
        "yaxis46": {
         "anchor": "x46",
         "domain": [
          0.37875000000000003,
          0.495
         ],
         "matches": "y71",
         "showticklabels": false,
         "type": "category",
         "visible": false
        },
        "yaxis47": {
         "anchor": "x47",
         "domain": [
          0.37875000000000003,
          0.495
         ],
         "matches": "y71",
         "showticklabels": false,
         "type": "category",
         "visible": false
        },
        "yaxis48": {
         "anchor": "x48",
         "domain": [
          0.37875000000000003,
          0.495
         ],
         "matches": "y71",
         "showticklabels": false,
         "type": "category",
         "visible": false
        },
        "yaxis49": {
         "anchor": "x49",
         "domain": [
          0.37875000000000003,
          0.495
         ],
         "matches": "y71",
         "showticklabels": false,
         "type": "category",
         "visible": false
        },
        "yaxis5": {
         "anchor": "x5",
         "domain": [
          0.8837499999999998,
          0.9999999999999998
         ],
         "matches": "y71",
         "showticklabels": false,
         "type": "category",
         "visible": false
        },
        "yaxis50": {
         "anchor": "x50",
         "domain": [
          0.37875000000000003,
          0.495
         ],
         "matches": "y71",
         "showticklabels": false,
         "type": "category",
         "visible": false
        },
        "yaxis51": {
         "anchor": "x51",
         "domain": [
          0.2525,
          0.36875
         ],
         "matches": "y71",
         "type": "category",
         "visible": false
        },
        "yaxis52": {
         "anchor": "x52",
         "domain": [
          0.2525,
          0.36875
         ],
         "matches": "y71",
         "showticklabels": false,
         "type": "category",
         "visible": false
        },
        "yaxis53": {
         "anchor": "x53",
         "domain": [
          0.2525,
          0.36875
         ],
         "matches": "y71",
         "showticklabels": false,
         "type": "category",
         "visible": false
        },
        "yaxis54": {
         "anchor": "x54",
         "domain": [
          0.2525,
          0.36875
         ],
         "matches": "y71",
         "showticklabels": false,
         "type": "category",
         "visible": false
        },
        "yaxis55": {
         "anchor": "x55",
         "domain": [
          0.2525,
          0.36875
         ],
         "matches": "y71",
         "showticklabels": false,
         "type": "category",
         "visible": false
        },
        "yaxis56": {
         "anchor": "x56",
         "domain": [
          0.2525,
          0.36875
         ],
         "matches": "y71",
         "showticklabels": false,
         "type": "category",
         "visible": false
        },
        "yaxis57": {
         "anchor": "x57",
         "domain": [
          0.2525,
          0.36875
         ],
         "matches": "y71",
         "showticklabels": false,
         "type": "category",
         "visible": false
        },
        "yaxis58": {
         "anchor": "x58",
         "domain": [
          0.2525,
          0.36875
         ],
         "matches": "y71",
         "showticklabels": false,
         "type": "category",
         "visible": false
        },
        "yaxis59": {
         "anchor": "x59",
         "domain": [
          0.2525,
          0.36875
         ],
         "matches": "y71",
         "showticklabels": false,
         "type": "category",
         "visible": false
        },
        "yaxis6": {
         "anchor": "x6",
         "domain": [
          0.8837499999999998,
          0.9999999999999998
         ],
         "matches": "y71",
         "showticklabels": false,
         "type": "category",
         "visible": false
        },
        "yaxis60": {
         "anchor": "x60",
         "domain": [
          0.2525,
          0.36875
         ],
         "matches": "y71",
         "showticklabels": false,
         "type": "category",
         "visible": false
        },
        "yaxis61": {
         "anchor": "x61",
         "domain": [
          0.12625,
          0.2425
         ],
         "matches": "y71",
         "type": "category",
         "visible": false
        },
        "yaxis62": {
         "anchor": "x62",
         "domain": [
          0.12625,
          0.2425
         ],
         "matches": "y71",
         "showticklabels": false,
         "type": "category",
         "visible": false
        },
        "yaxis63": {
         "anchor": "x63",
         "domain": [
          0.12625,
          0.2425
         ],
         "matches": "y71",
         "showticklabels": false,
         "type": "category",
         "visible": false
        },
        "yaxis64": {
         "anchor": "x64",
         "domain": [
          0.12625,
          0.2425
         ],
         "matches": "y71",
         "showticklabels": false,
         "type": "category",
         "visible": false
        },
        "yaxis65": {
         "anchor": "x65",
         "domain": [
          0.12625,
          0.2425
         ],
         "matches": "y71",
         "showticklabels": false,
         "type": "category",
         "visible": false
        },
        "yaxis66": {
         "anchor": "x66",
         "domain": [
          0.12625,
          0.2425
         ],
         "matches": "y71",
         "showticklabels": false,
         "type": "category",
         "visible": false
        },
        "yaxis67": {
         "anchor": "x67",
         "domain": [
          0.12625,
          0.2425
         ],
         "matches": "y71",
         "showticklabels": false,
         "type": "category",
         "visible": false
        },
        "yaxis68": {
         "anchor": "x68",
         "domain": [
          0.12625,
          0.2425
         ],
         "matches": "y71",
         "showticklabels": false,
         "type": "category",
         "visible": false
        },
        "yaxis69": {
         "anchor": "x69",
         "domain": [
          0.12625,
          0.2425
         ],
         "matches": "y71",
         "showticklabels": false,
         "type": "category",
         "visible": false
        },
        "yaxis7": {
         "anchor": "x7",
         "domain": [
          0.8837499999999998,
          0.9999999999999998
         ],
         "matches": "y71",
         "showticklabels": false,
         "type": "category",
         "visible": false
        },
        "yaxis70": {
         "anchor": "x70",
         "domain": [
          0.12625,
          0.2425
         ],
         "matches": "y71",
         "showticklabels": false,
         "type": "category",
         "visible": false
        },
        "yaxis71": {
         "anchor": "x71",
         "domain": [
          0,
          0.11624999999999999
         ],
         "type": "category",
         "visible": false
        },
        "yaxis72": {
         "anchor": "x72",
         "domain": [
          0,
          0.11624999999999999
         ],
         "matches": "y71",
         "showticklabels": false,
         "type": "category",
         "visible": false
        },
        "yaxis73": {
         "anchor": "x73",
         "domain": [
          0,
          0.11624999999999999
         ],
         "matches": "y71",
         "showticklabels": false,
         "type": "category",
         "visible": false
        },
        "yaxis74": {
         "anchor": "x74",
         "domain": [
          0,
          0.11624999999999999
         ],
         "matches": "y71",
         "showticklabels": false,
         "type": "category",
         "visible": false
        },
        "yaxis75": {
         "anchor": "x75",
         "domain": [
          0,
          0.11624999999999999
         ],
         "matches": "y71",
         "showticklabels": false,
         "type": "category",
         "visible": false
        },
        "yaxis76": {
         "anchor": "x76",
         "domain": [
          0,
          0.11624999999999999
         ],
         "matches": "y71",
         "showticklabels": false,
         "type": "category",
         "visible": false
        },
        "yaxis77": {
         "anchor": "x77",
         "domain": [
          0,
          0.11624999999999999
         ],
         "matches": "y71",
         "showticklabels": false,
         "type": "category",
         "visible": false
        },
        "yaxis78": {
         "anchor": "x78",
         "domain": [
          0,
          0.11624999999999999
         ],
         "matches": "y71",
         "showticklabels": false,
         "type": "category",
         "visible": false
        },
        "yaxis79": {
         "anchor": "x79",
         "domain": [
          0,
          0.11624999999999999
         ],
         "matches": "y71",
         "showticklabels": false,
         "type": "category",
         "visible": false
        },
        "yaxis8": {
         "anchor": "x8",
         "domain": [
          0.8837499999999998,
          0.9999999999999998
         ],
         "matches": "y71",
         "showticklabels": false,
         "type": "category",
         "visible": false
        },
        "yaxis80": {
         "anchor": "x80",
         "domain": [
          0,
          0.11624999999999999
         ],
         "matches": "y71",
         "showticklabels": false,
         "type": "category",
         "visible": false
        },
        "yaxis9": {
         "anchor": "x9",
         "domain": [
          0.8837499999999998,
          0.9999999999999998
         ],
         "matches": "y71",
         "showticklabels": false,
         "type": "category",
         "visible": false
        }
       }
      },
      "text/html": [
       "<div>                            <div id=\"7ddf175e-8a0c-4e06-ad97-5ca63a3b17d5\" class=\"plotly-graph-div\" style=\"height:900px; width:1800px;\"></div>            <script type=\"text/javascript\">                require([\"plotly\"], function(Plotly) {                    window.PLOTLYENV=window.PLOTLYENV || {};                                    if (document.getElementById(\"7ddf175e-8a0c-4e06-ad97-5ca63a3b17d5\")) {                    Plotly.newPlot(                        \"7ddf175e-8a0c-4e06-ad97-5ca63a3b17d5\",                        [{\"marker\":{\"color\":\"darkorchid\"},\"name\":\"H-DNA\",\"orientation\":\"h\",\"showlegend\":true,\"textposition\":\"outside\",\"texttemplate\":\"%{x:,d}\",\"width\":1,\"x\":[72],\"y\":[\"H-DNA\"],\"type\":\"bar\",\"xaxis\":\"x\",\"yaxis\":\"y\"},{\"marker\":{\"color\":\"#ED4241\"},\"name\":\"SIDD\",\"orientation\":\"h\",\"showlegend\":true,\"textposition\":\"outside\",\"texttemplate\":\"%{x:,d}\",\"width\":1,\"x\":[152],\"y\":[\"SIDD\"],\"type\":\"bar\",\"xaxis\":\"x\",\"yaxis\":\"y\"},{\"marker\":{\"color\":\"royalblue\"},\"name\":\"Z-DNA\",\"orientation\":\"h\",\"showlegend\":true,\"textposition\":\"outside\",\"texttemplate\":\"%{x:,d}\",\"width\":1,\"x\":[221],\"y\":[\"Z-DNA\"],\"type\":\"bar\",\"xaxis\":\"x\",\"yaxis\":\"y\"},{\"marker\":{\"color\":\"#FE9B54\"},\"name\":\"G4\",\"orientation\":\"h\",\"showlegend\":true,\"textposition\":\"outside\",\"texttemplate\":\"%{x:,d}\",\"width\":1,\"x\":[543],\"y\":[\"G4\"],\"type\":\"bar\",\"xaxis\":\"x\",\"yaxis\":\"y\"},{\"marker\":{\"color\":\"darkorchid\"},\"name\":\"H-DNA\",\"orientation\":\"h\",\"showlegend\":false,\"textposition\":\"outside\",\"texttemplate\":\"%{x:,d}\",\"width\":1,\"x\":[6],\"y\":[\"H-DNA\"],\"type\":\"bar\",\"xaxis\":\"x2\",\"yaxis\":\"y2\"},{\"marker\":{\"color\":\"#ED4241\"},\"name\":\"SIDD\",\"orientation\":\"h\",\"showlegend\":false,\"textposition\":\"outside\",\"texttemplate\":\"%{x:,d}\",\"width\":1,\"x\":[40],\"y\":[\"SIDD\"],\"type\":\"bar\",\"xaxis\":\"x2\",\"yaxis\":\"y2\"},{\"marker\":{\"color\":\"royalblue\"},\"name\":\"Z-DNA\",\"orientation\":\"h\",\"showlegend\":false,\"textposition\":\"outside\",\"texttemplate\":\"%{x:,d}\",\"width\":1,\"x\":[22],\"y\":[\"Z-DNA\"],\"type\":\"bar\",\"xaxis\":\"x2\",\"yaxis\":\"y2\"},{\"marker\":{\"color\":\"#FE9B54\"},\"name\":\"G4\",\"orientation\":\"h\",\"showlegend\":false,\"textposition\":\"outside\",\"texttemplate\":\"%{x:,d}\",\"width\":1,\"x\":[39],\"y\":[\"G4\"],\"type\":\"bar\",\"xaxis\":\"x2\",\"yaxis\":\"y2\"},{\"marker\":{\"color\":\"darkorchid\"},\"name\":\"H-DNA\",\"orientation\":\"h\",\"showlegend\":false,\"textposition\":\"outside\",\"texttemplate\":\"%{x:,d}\",\"width\":1,\"x\":[7],\"y\":[\"H-DNA\"],\"type\":\"bar\",\"xaxis\":\"x3\",\"yaxis\":\"y3\"},{\"marker\":{\"color\":\"#ED4241\"},\"name\":\"SIDD\",\"orientation\":\"h\",\"showlegend\":false,\"textposition\":\"outside\",\"texttemplate\":\"%{x:,d}\",\"width\":1,\"x\":[19],\"y\":[\"SIDD\"],\"type\":\"bar\",\"xaxis\":\"x3\",\"yaxis\":\"y3\"},{\"marker\":{\"color\":\"royalblue\"},\"name\":\"Z-DNA\",\"orientation\":\"h\",\"showlegend\":false,\"textposition\":\"outside\",\"texttemplate\":\"%{x:,d}\",\"width\":1,\"x\":[9],\"y\":[\"Z-DNA\"],\"type\":\"bar\",\"xaxis\":\"x3\",\"yaxis\":\"y3\"},{\"marker\":{\"color\":\"#FE9B54\"},\"name\":\"G4\",\"orientation\":\"h\",\"showlegend\":false,\"textposition\":\"outside\",\"texttemplate\":\"%{x:,d}\",\"width\":1,\"x\":[19],\"y\":[\"G4\"],\"type\":\"bar\",\"xaxis\":\"x3\",\"yaxis\":\"y3\"},{\"marker\":{\"color\":\"darkorchid\"},\"name\":\"H-DNA\",\"orientation\":\"h\",\"showlegend\":false,\"textposition\":\"outside\",\"texttemplate\":\"%{x:,d}\",\"width\":1,\"x\":[11],\"y\":[\"H-DNA\"],\"type\":\"bar\",\"xaxis\":\"x4\",\"yaxis\":\"y4\"},{\"marker\":{\"color\":\"#ED4241\"},\"name\":\"SIDD\",\"orientation\":\"h\",\"showlegend\":false,\"textposition\":\"outside\",\"texttemplate\":\"%{x:,d}\",\"width\":1,\"x\":[47],\"y\":[\"SIDD\"],\"type\":\"bar\",\"xaxis\":\"x4\",\"yaxis\":\"y4\"},{\"marker\":{\"color\":\"royalblue\"},\"name\":\"Z-DNA\",\"orientation\":\"h\",\"showlegend\":false,\"textposition\":\"outside\",\"texttemplate\":\"%{x:,d}\",\"width\":1,\"x\":[26],\"y\":[\"Z-DNA\"],\"type\":\"bar\",\"xaxis\":\"x4\",\"yaxis\":\"y4\"},{\"marker\":{\"color\":\"#FE9B54\"},\"name\":\"G4\",\"orientation\":\"h\",\"showlegend\":false,\"textposition\":\"outside\",\"texttemplate\":\"%{x:,d}\",\"width\":1,\"x\":[63],\"y\":[\"G4\"],\"type\":\"bar\",\"xaxis\":\"x4\",\"yaxis\":\"y4\"},{\"marker\":{\"color\":\"darkorchid\"},\"name\":\"H-DNA\",\"orientation\":\"h\",\"showlegend\":false,\"textposition\":\"outside\",\"texttemplate\":\"%{x:,d}\",\"width\":1,\"x\":[1],\"y\":[\"H-DNA\"],\"type\":\"bar\",\"xaxis\":\"x6\",\"yaxis\":\"y6\"},{\"marker\":{\"color\":\"#ED4241\"},\"name\":\"SIDD\",\"orientation\":\"h\",\"showlegend\":false,\"textposition\":\"outside\",\"texttemplate\":\"%{x:,d}\",\"width\":1,\"x\":[15],\"y\":[\"SIDD\"],\"type\":\"bar\",\"xaxis\":\"x6\",\"yaxis\":\"y6\"},{\"marker\":{\"color\":\"royalblue\"},\"name\":\"Z-DNA\",\"orientation\":\"h\",\"showlegend\":false,\"textposition\":\"outside\",\"texttemplate\":\"%{x:,d}\",\"width\":1,\"x\":[1],\"y\":[\"Z-DNA\"],\"type\":\"bar\",\"xaxis\":\"x6\",\"yaxis\":\"y6\"},{\"marker\":{\"color\":\"#FE9B54\"},\"name\":\"G4\",\"orientation\":\"h\",\"showlegend\":false,\"textposition\":\"outside\",\"texttemplate\":\"%{x:,d}\",\"width\":1,\"x\":[11],\"y\":[\"G4\"],\"type\":\"bar\",\"xaxis\":\"x6\",\"yaxis\":\"y6\"},{\"marker\":{\"color\":\"#ED4241\"},\"name\":\"SIDD\",\"orientation\":\"h\",\"showlegend\":false,\"textposition\":\"outside\",\"texttemplate\":\"%{x:,d}\",\"width\":1,\"x\":[5.0],\"y\":[\"SIDD\"],\"type\":\"bar\",\"xaxis\":\"x8\",\"yaxis\":\"y8\"},{\"marker\":{\"color\":\"royalblue\"},\"name\":\"Z-DNA\",\"orientation\":\"h\",\"showlegend\":false,\"textposition\":\"outside\",\"texttemplate\":\"%{x:,d}\",\"width\":1,\"x\":[6.0],\"y\":[\"Z-DNA\"],\"type\":\"bar\",\"xaxis\":\"x8\",\"yaxis\":\"y8\"},{\"marker\":{\"color\":\"#FE9B54\"},\"name\":\"G4\",\"orientation\":\"h\",\"showlegend\":false,\"textposition\":\"outside\",\"texttemplate\":\"%{x:,d}\",\"width\":1,\"x\":[9.0],\"y\":[\"G4\"],\"type\":\"bar\",\"xaxis\":\"x8\",\"yaxis\":\"y8\"},{\"marker\":{\"color\":\"darkorchid\"},\"name\":\"H-DNA\",\"orientation\":\"h\",\"showlegend\":false,\"textposition\":\"outside\",\"texttemplate\":\"%{x:,d}\",\"width\":1,\"x\":[17],\"y\":[\"H-DNA\"],\"type\":\"bar\",\"xaxis\":\"x9\",\"yaxis\":\"y9\"},{\"marker\":{\"color\":\"#ED4241\"},\"name\":\"SIDD\",\"orientation\":\"h\",\"showlegend\":false,\"textposition\":\"outside\",\"texttemplate\":\"%{x:,d}\",\"width\":1,\"x\":[50],\"y\":[\"SIDD\"],\"type\":\"bar\",\"xaxis\":\"x9\",\"yaxis\":\"y9\"},{\"marker\":{\"color\":\"royalblue\"},\"name\":\"Z-DNA\",\"orientation\":\"h\",\"showlegend\":false,\"textposition\":\"outside\",\"texttemplate\":\"%{x:,d}\",\"width\":1,\"x\":[19],\"y\":[\"Z-DNA\"],\"type\":\"bar\",\"xaxis\":\"x9\",\"yaxis\":\"y9\"},{\"marker\":{\"color\":\"#FE9B54\"},\"name\":\"G4\",\"orientation\":\"h\",\"showlegend\":false,\"textposition\":\"outside\",\"texttemplate\":\"%{x:,d}\",\"width\":1,\"x\":[49],\"y\":[\"G4\"],\"type\":\"bar\",\"xaxis\":\"x9\",\"yaxis\":\"y9\"},{\"marker\":{\"color\":\"darkorchid\"},\"name\":\"H-DNA\",\"orientation\":\"h\",\"showlegend\":false,\"textposition\":\"outside\",\"texttemplate\":\"%{x:,d}\",\"width\":1,\"x\":[91],\"y\":[\"H-DNA\"],\"type\":\"bar\",\"xaxis\":\"x10\",\"yaxis\":\"y10\"},{\"marker\":{\"color\":\"#ED4241\"},\"name\":\"SIDD\",\"orientation\":\"h\",\"showlegend\":false,\"textposition\":\"outside\",\"texttemplate\":\"%{x:,d}\",\"width\":1,\"x\":[126],\"y\":[\"SIDD\"],\"type\":\"bar\",\"xaxis\":\"x10\",\"yaxis\":\"y10\"},{\"marker\":{\"color\":\"royalblue\"},\"name\":\"Z-DNA\",\"orientation\":\"h\",\"showlegend\":false,\"textposition\":\"outside\",\"texttemplate\":\"%{x:,d}\",\"width\":1,\"x\":[580],\"y\":[\"Z-DNA\"],\"type\":\"bar\",\"xaxis\":\"x10\",\"yaxis\":\"y10\"},{\"marker\":{\"color\":\"#FE9B54\"},\"name\":\"G4\",\"orientation\":\"h\",\"showlegend\":false,\"textposition\":\"outside\",\"texttemplate\":\"%{x:,d}\",\"width\":1,\"x\":[1169],\"y\":[\"G4\"],\"type\":\"bar\",\"xaxis\":\"x10\",\"yaxis\":\"y10\"},{\"marker\":{\"color\":\"darkorchid\"},\"name\":\"H-DNA\",\"orientation\":\"h\",\"showlegend\":false,\"textposition\":\"outside\",\"texttemplate\":\"%{x:,d}\",\"width\":1,\"x\":[25],\"y\":[\"H-DNA\"],\"type\":\"bar\",\"xaxis\":\"x11\",\"yaxis\":\"y11\"},{\"marker\":{\"color\":\"#ED4241\"},\"name\":\"SIDD\",\"orientation\":\"h\",\"showlegend\":false,\"textposition\":\"outside\",\"texttemplate\":\"%{x:,d}\",\"width\":1,\"x\":[334],\"y\":[\"SIDD\"],\"type\":\"bar\",\"xaxis\":\"x11\",\"yaxis\":\"y11\"},{\"marker\":{\"color\":\"royalblue\"},\"name\":\"Z-DNA\",\"orientation\":\"h\",\"showlegend\":false,\"textposition\":\"outside\",\"texttemplate\":\"%{x:,d}\",\"width\":1,\"x\":[53],\"y\":[\"Z-DNA\"],\"type\":\"bar\",\"xaxis\":\"x11\",\"yaxis\":\"y11\"},{\"marker\":{\"color\":\"#FE9B54\"},\"name\":\"G4\",\"orientation\":\"h\",\"showlegend\":false,\"textposition\":\"outside\",\"texttemplate\":\"%{x:,d}\",\"width\":1,\"x\":[67],\"y\":[\"G4\"],\"type\":\"bar\",\"xaxis\":\"x11\",\"yaxis\":\"y11\"},{\"marker\":{\"color\":\"darkorchid\"},\"name\":\"H-DNA\",\"orientation\":\"h\",\"showlegend\":false,\"textposition\":\"outside\",\"texttemplate\":\"%{x:,d}\",\"width\":1,\"x\":[33],\"y\":[\"H-DNA\"],\"type\":\"bar\",\"xaxis\":\"x12\",\"yaxis\":\"y12\"},{\"marker\":{\"color\":\"#ED4241\"},\"name\":\"SIDD\",\"orientation\":\"h\",\"showlegend\":false,\"textposition\":\"outside\",\"texttemplate\":\"%{x:,d}\",\"width\":1,\"x\":[347],\"y\":[\"SIDD\"],\"type\":\"bar\",\"xaxis\":\"x12\",\"yaxis\":\"y12\"},{\"marker\":{\"color\":\"royalblue\"},\"name\":\"Z-DNA\",\"orientation\":\"h\",\"showlegend\":false,\"textposition\":\"outside\",\"texttemplate\":\"%{x:,d}\",\"width\":1,\"x\":[42],\"y\":[\"Z-DNA\"],\"type\":\"bar\",\"xaxis\":\"x12\",\"yaxis\":\"y12\"},{\"marker\":{\"color\":\"#FE9B54\"},\"name\":\"G4\",\"orientation\":\"h\",\"showlegend\":false,\"textposition\":\"outside\",\"texttemplate\":\"%{x:,d}\",\"width\":1,\"x\":[80],\"y\":[\"G4\"],\"type\":\"bar\",\"xaxis\":\"x12\",\"yaxis\":\"y12\"},{\"marker\":{\"color\":\"darkorchid\"},\"name\":\"H-DNA\",\"orientation\":\"h\",\"showlegend\":false,\"textposition\":\"outside\",\"texttemplate\":\"%{x:,d}\",\"width\":1,\"x\":[36],\"y\":[\"H-DNA\"],\"type\":\"bar\",\"xaxis\":\"x13\",\"yaxis\":\"y13\"},{\"marker\":{\"color\":\"#ED4241\"},\"name\":\"SIDD\",\"orientation\":\"h\",\"showlegend\":false,\"textposition\":\"outside\",\"texttemplate\":\"%{x:,d}\",\"width\":1,\"x\":[285],\"y\":[\"SIDD\"],\"type\":\"bar\",\"xaxis\":\"x13\",\"yaxis\":\"y13\"},{\"marker\":{\"color\":\"royalblue\"},\"name\":\"Z-DNA\",\"orientation\":\"h\",\"showlegend\":false,\"textposition\":\"outside\",\"texttemplate\":\"%{x:,d}\",\"width\":1,\"x\":[55],\"y\":[\"Z-DNA\"],\"type\":\"bar\",\"xaxis\":\"x13\",\"yaxis\":\"y13\"},{\"marker\":{\"color\":\"#FE9B54\"},\"name\":\"G4\",\"orientation\":\"h\",\"showlegend\":false,\"textposition\":\"outside\",\"texttemplate\":\"%{x:,d}\",\"width\":1,\"x\":[86],\"y\":[\"G4\"],\"type\":\"bar\",\"xaxis\":\"x13\",\"yaxis\":\"y13\"},{\"marker\":{\"color\":\"darkorchid\"},\"name\":\"H-DNA\",\"orientation\":\"h\",\"showlegend\":false,\"textposition\":\"outside\",\"texttemplate\":\"%{x:,d}\",\"width\":1,\"x\":[522],\"y\":[\"H-DNA\"],\"type\":\"bar\",\"xaxis\":\"x14\",\"yaxis\":\"y14\"},{\"marker\":{\"color\":\"#ED4241\"},\"name\":\"SIDD\",\"orientation\":\"h\",\"showlegend\":false,\"textposition\":\"inside\",\"texttemplate\":\"%{x:,d}\",\"width\":1,\"x\":[5082],\"y\":[\"SIDD\"],\"type\":\"bar\",\"xaxis\":\"x14\",\"yaxis\":\"y14\"},{\"marker\":{\"color\":\"royalblue\"},\"name\":\"Z-DNA\",\"orientation\":\"h\",\"showlegend\":false,\"textposition\":\"outside\",\"texttemplate\":\"%{x:,d}\",\"width\":1,\"x\":[831],\"y\":[\"Z-DNA\"],\"type\":\"bar\",\"xaxis\":\"x14\",\"yaxis\":\"y14\"},{\"marker\":{\"color\":\"#FE9B54\"},\"name\":\"G4\",\"orientation\":\"h\",\"showlegend\":false,\"textposition\":\"inside\",\"texttemplate\":\"%{x:,d}\",\"width\":1,\"x\":[1323],\"y\":[\"G4\"],\"type\":\"bar\",\"xaxis\":\"x14\",\"yaxis\":\"y14\"},{\"marker\":{\"color\":\"darkorchid\"},\"name\":\"H-DNA\",\"orientation\":\"h\",\"showlegend\":false,\"textposition\":\"outside\",\"texttemplate\":\"%{x:,d}\",\"width\":1,\"x\":[4],\"y\":[\"H-DNA\"],\"type\":\"bar\",\"xaxis\":\"x16\",\"yaxis\":\"y16\"},{\"marker\":{\"color\":\"#ED4241\"},\"name\":\"SIDD\",\"orientation\":\"h\",\"showlegend\":false,\"textposition\":\"outside\",\"texttemplate\":\"%{x:,d}\",\"width\":1,\"x\":[33],\"y\":[\"SIDD\"],\"type\":\"bar\",\"xaxis\":\"x16\",\"yaxis\":\"y16\"},{\"marker\":{\"color\":\"royalblue\"},\"name\":\"Z-DNA\",\"orientation\":\"h\",\"showlegend\":false,\"textposition\":\"outside\",\"texttemplate\":\"%{x:,d}\",\"width\":1,\"x\":[4],\"y\":[\"Z-DNA\"],\"type\":\"bar\",\"xaxis\":\"x16\",\"yaxis\":\"y16\"},{\"marker\":{\"color\":\"#FE9B54\"},\"name\":\"G4\",\"orientation\":\"h\",\"showlegend\":false,\"textposition\":\"outside\",\"texttemplate\":\"%{x:,d}\",\"width\":1,\"x\":[8],\"y\":[\"G4\"],\"type\":\"bar\",\"xaxis\":\"x16\",\"yaxis\":\"y16\"},{\"marker\":{\"color\":\"darkorchid\"},\"name\":\"H-DNA\",\"orientation\":\"h\",\"showlegend\":false,\"textposition\":\"outside\",\"texttemplate\":\"%{x:,d}\",\"width\":1,\"x\":[1.0],\"y\":[\"H-DNA\"],\"type\":\"bar\",\"xaxis\":\"x17\",\"yaxis\":\"y17\"},{\"marker\":{\"color\":\"#ED4241\"},\"name\":\"SIDD\",\"orientation\":\"h\",\"showlegend\":false,\"textposition\":\"outside\",\"texttemplate\":\"%{x:,d}\",\"width\":1,\"x\":[8.0],\"y\":[\"SIDD\"],\"type\":\"bar\",\"xaxis\":\"x17\",\"yaxis\":\"y17\"},{\"marker\":{\"color\":\"royalblue\"},\"name\":\"Z-DNA\",\"orientation\":\"h\",\"showlegend\":false,\"textposition\":\"outside\",\"texttemplate\":\"%{x:,d}\",\"width\":1,\"x\":[1.0],\"y\":[\"Z-DNA\"],\"type\":\"bar\",\"xaxis\":\"x17\",\"yaxis\":\"y17\"},{\"marker\":{\"color\":\"#ED4241\"},\"name\":\"SIDD\",\"orientation\":\"h\",\"showlegend\":false,\"textposition\":\"outside\",\"texttemplate\":\"%{x:,d}\",\"width\":1,\"x\":[31.0],\"y\":[\"SIDD\"],\"type\":\"bar\",\"xaxis\":\"x18\",\"yaxis\":\"y18\"},{\"marker\":{\"color\":\"royalblue\"},\"name\":\"Z-DNA\",\"orientation\":\"h\",\"showlegend\":false,\"textposition\":\"outside\",\"texttemplate\":\"%{x:,d}\",\"width\":1,\"x\":[4.0],\"y\":[\"Z-DNA\"],\"type\":\"bar\",\"xaxis\":\"x18\",\"yaxis\":\"y18\"},{\"marker\":{\"color\":\"#FE9B54\"},\"name\":\"G4\",\"orientation\":\"h\",\"showlegend\":false,\"textposition\":\"outside\",\"texttemplate\":\"%{x:,d}\",\"width\":1,\"x\":[7.0],\"y\":[\"G4\"],\"type\":\"bar\",\"xaxis\":\"x18\",\"yaxis\":\"y18\"},{\"marker\":{\"color\":\"darkorchid\"},\"name\":\"H-DNA\",\"orientation\":\"h\",\"showlegend\":false,\"textposition\":\"outside\",\"texttemplate\":\"%{x:,d}\",\"width\":1,\"x\":[241],\"y\":[\"H-DNA\"],\"type\":\"bar\",\"xaxis\":\"x19\",\"yaxis\":\"y19\"},{\"marker\":{\"color\":\"#ED4241\"},\"name\":\"SIDD\",\"orientation\":\"h\",\"showlegend\":false,\"textposition\":\"inside\",\"texttemplate\":\"%{x:,d}\",\"width\":1,\"x\":[2212],\"y\":[\"SIDD\"],\"type\":\"bar\",\"xaxis\":\"x19\",\"yaxis\":\"y19\"},{\"marker\":{\"color\":\"royalblue\"},\"name\":\"Z-DNA\",\"orientation\":\"h\",\"showlegend\":false,\"textposition\":\"outside\",\"texttemplate\":\"%{x:,d}\",\"width\":1,\"x\":[281],\"y\":[\"Z-DNA\"],\"type\":\"bar\",\"xaxis\":\"x19\",\"yaxis\":\"y19\"},{\"marker\":{\"color\":\"#FE9B54\"},\"name\":\"G4\",\"orientation\":\"h\",\"showlegend\":false,\"textposition\":\"outside\",\"texttemplate\":\"%{x:,d}\",\"width\":1,\"x\":[588],\"y\":[\"G4\"],\"type\":\"bar\",\"xaxis\":\"x19\",\"yaxis\":\"y19\"},{\"marker\":{\"color\":\"darkorchid\"},\"name\":\"H-DNA\",\"orientation\":\"h\",\"showlegend\":false,\"textposition\":\"outside\",\"texttemplate\":\"%{x:,d}\",\"width\":1,\"x\":[714],\"y\":[\"H-DNA\"],\"type\":\"bar\",\"xaxis\":\"x20\",\"yaxis\":\"y20\"},{\"marker\":{\"color\":\"#ED4241\"},\"name\":\"SIDD\",\"orientation\":\"h\",\"showlegend\":false,\"textposition\":\"inside\",\"texttemplate\":\"%{x:,d}\",\"width\":1,\"x\":[4449],\"y\":[\"SIDD\"],\"type\":\"bar\",\"xaxis\":\"x20\",\"yaxis\":\"y20\"},{\"marker\":{\"color\":\"royalblue\"},\"name\":\"Z-DNA\",\"orientation\":\"h\",\"showlegend\":false,\"textposition\":\"outside\",\"texttemplate\":\"%{x:,d}\",\"width\":1,\"x\":[1075],\"y\":[\"Z-DNA\"],\"type\":\"bar\",\"xaxis\":\"x20\",\"yaxis\":\"y20\"},{\"marker\":{\"color\":\"#FE9B54\"},\"name\":\"G4\",\"orientation\":\"h\",\"showlegend\":false,\"textposition\":\"outside\",\"texttemplate\":\"%{x:,d}\",\"width\":1,\"x\":[1057],\"y\":[\"G4\"],\"type\":\"bar\",\"xaxis\":\"x20\",\"yaxis\":\"y20\"},{\"marker\":{\"color\":\"darkorchid\"},\"name\":\"H-DNA\",\"orientation\":\"h\",\"showlegend\":false,\"textposition\":\"outside\",\"texttemplate\":\"%{x:,d}\",\"width\":1,\"x\":[2],\"y\":[\"H-DNA\"],\"type\":\"bar\",\"xaxis\":\"x21\",\"yaxis\":\"y21\"},{\"marker\":{\"color\":\"#ED4241\"},\"name\":\"SIDD\",\"orientation\":\"h\",\"showlegend\":false,\"textposition\":\"outside\",\"texttemplate\":\"%{x:,d}\",\"width\":1,\"x\":[25],\"y\":[\"SIDD\"],\"type\":\"bar\",\"xaxis\":\"x21\",\"yaxis\":\"y21\"},{\"marker\":{\"color\":\"royalblue\"},\"name\":\"Z-DNA\",\"orientation\":\"h\",\"showlegend\":false,\"textposition\":\"outside\",\"texttemplate\":\"%{x:,d}\",\"width\":1,\"x\":[5],\"y\":[\"Z-DNA\"],\"type\":\"bar\",\"xaxis\":\"x21\",\"yaxis\":\"y21\"},{\"marker\":{\"color\":\"#FE9B54\"},\"name\":\"G4\",\"orientation\":\"h\",\"showlegend\":false,\"textposition\":\"outside\",\"texttemplate\":\"%{x:,d}\",\"width\":1,\"x\":[10],\"y\":[\"G4\"],\"type\":\"bar\",\"xaxis\":\"x21\",\"yaxis\":\"y21\"},{\"marker\":{\"color\":\"darkorchid\"},\"name\":\"H-DNA\",\"orientation\":\"h\",\"showlegend\":false,\"textposition\":\"outside\",\"texttemplate\":\"%{x:,d}\",\"width\":1,\"x\":[1],\"y\":[\"H-DNA\"],\"type\":\"bar\",\"xaxis\":\"x22\",\"yaxis\":\"y22\"},{\"marker\":{\"color\":\"#ED4241\"},\"name\":\"SIDD\",\"orientation\":\"h\",\"showlegend\":false,\"textposition\":\"outside\",\"texttemplate\":\"%{x:,d}\",\"width\":1,\"x\":[11],\"y\":[\"SIDD\"],\"type\":\"bar\",\"xaxis\":\"x22\",\"yaxis\":\"y22\"},{\"marker\":{\"color\":\"royalblue\"},\"name\":\"Z-DNA\",\"orientation\":\"h\",\"showlegend\":false,\"textposition\":\"outside\",\"texttemplate\":\"%{x:,d}\",\"width\":1,\"x\":[1],\"y\":[\"Z-DNA\"],\"type\":\"bar\",\"xaxis\":\"x22\",\"yaxis\":\"y22\"},{\"marker\":{\"color\":\"#FE9B54\"},\"name\":\"G4\",\"orientation\":\"h\",\"showlegend\":false,\"textposition\":\"outside\",\"texttemplate\":\"%{x:,d}\",\"width\":1,\"x\":[5],\"y\":[\"G4\"],\"type\":\"bar\",\"xaxis\":\"x22\",\"yaxis\":\"y22\"},{\"marker\":{\"color\":\"darkorchid\"},\"name\":\"H-DNA\",\"orientation\":\"h\",\"showlegend\":false,\"textposition\":\"outside\",\"texttemplate\":\"%{x:,d}\",\"width\":1,\"x\":[3],\"y\":[\"H-DNA\"],\"type\":\"bar\",\"xaxis\":\"x23\",\"yaxis\":\"y23\"},{\"marker\":{\"color\":\"#ED4241\"},\"name\":\"SIDD\",\"orientation\":\"h\",\"showlegend\":false,\"textposition\":\"outside\",\"texttemplate\":\"%{x:,d}\",\"width\":1,\"x\":[16],\"y\":[\"SIDD\"],\"type\":\"bar\",\"xaxis\":\"x23\",\"yaxis\":\"y23\"},{\"marker\":{\"color\":\"royalblue\"},\"name\":\"Z-DNA\",\"orientation\":\"h\",\"showlegend\":false,\"textposition\":\"outside\",\"texttemplate\":\"%{x:,d}\",\"width\":1,\"x\":[1],\"y\":[\"Z-DNA\"],\"type\":\"bar\",\"xaxis\":\"x23\",\"yaxis\":\"y23\"},{\"marker\":{\"color\":\"#FE9B54\"},\"name\":\"G4\",\"orientation\":\"h\",\"showlegend\":false,\"textposition\":\"outside\",\"texttemplate\":\"%{x:,d}\",\"width\":1,\"x\":[3],\"y\":[\"G4\"],\"type\":\"bar\",\"xaxis\":\"x23\",\"yaxis\":\"y23\"},{\"marker\":{\"color\":\"darkorchid\"},\"name\":\"H-DNA\",\"orientation\":\"h\",\"showlegend\":false,\"textposition\":\"outside\",\"texttemplate\":\"%{x:,d}\",\"width\":1,\"x\":[12],\"y\":[\"H-DNA\"],\"type\":\"bar\",\"xaxis\":\"x24\",\"yaxis\":\"y24\"},{\"marker\":{\"color\":\"#ED4241\"},\"name\":\"SIDD\",\"orientation\":\"h\",\"showlegend\":false,\"textposition\":\"outside\",\"texttemplate\":\"%{x:,d}\",\"width\":1,\"x\":[61],\"y\":[\"SIDD\"],\"type\":\"bar\",\"xaxis\":\"x24\",\"yaxis\":\"y24\"},{\"marker\":{\"color\":\"royalblue\"},\"name\":\"Z-DNA\",\"orientation\":\"h\",\"showlegend\":false,\"textposition\":\"outside\",\"texttemplate\":\"%{x:,d}\",\"width\":1,\"x\":[21],\"y\":[\"Z-DNA\"],\"type\":\"bar\",\"xaxis\":\"x24\",\"yaxis\":\"y24\"},{\"marker\":{\"color\":\"#FE9B54\"},\"name\":\"G4\",\"orientation\":\"h\",\"showlegend\":false,\"textposition\":\"outside\",\"texttemplate\":\"%{x:,d}\",\"width\":1,\"x\":[23],\"y\":[\"G4\"],\"type\":\"bar\",\"xaxis\":\"x24\",\"yaxis\":\"y24\"},{\"marker\":{\"color\":\"#FE9B54\"},\"name\":\"G4\",\"orientation\":\"h\",\"showlegend\":false,\"textposition\":\"outside\",\"texttemplate\":\"%{x:,d}\",\"width\":1,\"x\":[2.0],\"y\":[\"G4\"],\"type\":\"bar\",\"xaxis\":\"x28\",\"yaxis\":\"y28\"},{\"marker\":{\"color\":\"darkorchid\"},\"name\":\"H-DNA\",\"orientation\":\"h\",\"showlegend\":false,\"textposition\":\"outside\",\"texttemplate\":\"%{x:,d}\",\"width\":1,\"x\":[13],\"y\":[\"H-DNA\"],\"type\":\"bar\",\"xaxis\":\"x29\",\"yaxis\":\"y29\"},{\"marker\":{\"color\":\"#ED4241\"},\"name\":\"SIDD\",\"orientation\":\"h\",\"showlegend\":false,\"textposition\":\"outside\",\"texttemplate\":\"%{x:,d}\",\"width\":1,\"x\":[59],\"y\":[\"SIDD\"],\"type\":\"bar\",\"xaxis\":\"x29\",\"yaxis\":\"y29\"},{\"marker\":{\"color\":\"royalblue\"},\"name\":\"Z-DNA\",\"orientation\":\"h\",\"showlegend\":false,\"textposition\":\"outside\",\"texttemplate\":\"%{x:,d}\",\"width\":1,\"x\":[10],\"y\":[\"Z-DNA\"],\"type\":\"bar\",\"xaxis\":\"x29\",\"yaxis\":\"y29\"},{\"marker\":{\"color\":\"#FE9B54\"},\"name\":\"G4\",\"orientation\":\"h\",\"showlegend\":false,\"textposition\":\"outside\",\"texttemplate\":\"%{x:,d}\",\"width\":1,\"x\":[11],\"y\":[\"G4\"],\"type\":\"bar\",\"xaxis\":\"x29\",\"yaxis\":\"y29\"},{\"marker\":{\"color\":\"darkorchid\"},\"name\":\"H-DNA\",\"orientation\":\"h\",\"showlegend\":false,\"textposition\":\"outside\",\"texttemplate\":\"%{x:,d}\",\"width\":1,\"x\":[25],\"y\":[\"H-DNA\"],\"type\":\"bar\",\"xaxis\":\"x30\",\"yaxis\":\"y30\"},{\"marker\":{\"color\":\"#ED4241\"},\"name\":\"SIDD\",\"orientation\":\"h\",\"showlegend\":false,\"textposition\":\"outside\",\"texttemplate\":\"%{x:,d}\",\"width\":1,\"x\":[48],\"y\":[\"SIDD\"],\"type\":\"bar\",\"xaxis\":\"x30\",\"yaxis\":\"y30\"},{\"marker\":{\"color\":\"royalblue\"},\"name\":\"Z-DNA\",\"orientation\":\"h\",\"showlegend\":false,\"textposition\":\"outside\",\"texttemplate\":\"%{x:,d}\",\"width\":1,\"x\":[46],\"y\":[\"Z-DNA\"],\"type\":\"bar\",\"xaxis\":\"x30\",\"yaxis\":\"y30\"},{\"marker\":{\"color\":\"#FE9B54\"},\"name\":\"G4\",\"orientation\":\"h\",\"showlegend\":false,\"textposition\":\"outside\",\"texttemplate\":\"%{x:,d}\",\"width\":1,\"x\":[30],\"y\":[\"G4\"],\"type\":\"bar\",\"xaxis\":\"x30\",\"yaxis\":\"y30\"},{\"marker\":{\"color\":\"royalblue\"},\"name\":\"Z-DNA\",\"orientation\":\"h\",\"showlegend\":false,\"textposition\":\"outside\",\"texttemplate\":\"%{x:,d}\",\"width\":1,\"x\":[1.0],\"y\":[\"Z-DNA\"],\"type\":\"bar\",\"xaxis\":\"x31\",\"yaxis\":\"y31\"},{\"marker\":{\"color\":\"#ED4241\"},\"name\":\"SIDD\",\"orientation\":\"h\",\"showlegend\":false,\"textposition\":\"outside\",\"texttemplate\":\"%{x:,d}\",\"width\":1,\"x\":[1.0],\"y\":[\"SIDD\"],\"type\":\"bar\",\"xaxis\":\"x32\",\"yaxis\":\"y32\"},{\"marker\":{\"color\":\"#ED4241\"},\"name\":\"SIDD\",\"orientation\":\"h\",\"showlegend\":false,\"textposition\":\"outside\",\"texttemplate\":\"%{x:,d}\",\"width\":1,\"x\":[2.0],\"y\":[\"SIDD\"],\"type\":\"bar\",\"xaxis\":\"x33\",\"yaxis\":\"y33\"},{\"marker\":{\"color\":\"#ED4241\"},\"name\":\"SIDD\",\"orientation\":\"h\",\"showlegend\":false,\"textposition\":\"outside\",\"texttemplate\":\"%{x:,d}\",\"width\":1,\"x\":[1.0],\"y\":[\"SIDD\"],\"type\":\"bar\",\"xaxis\":\"x34\",\"yaxis\":\"y34\"},{\"marker\":{\"color\":\"royalblue\"},\"name\":\"Z-DNA\",\"orientation\":\"h\",\"showlegend\":false,\"textposition\":\"outside\",\"texttemplate\":\"%{x:,d}\",\"width\":1,\"x\":[4.0],\"y\":[\"Z-DNA\"],\"type\":\"bar\",\"xaxis\":\"x34\",\"yaxis\":\"y34\"},{\"marker\":{\"color\":\"#FE9B54\"},\"name\":\"G4\",\"orientation\":\"h\",\"showlegend\":false,\"textposition\":\"outside\",\"texttemplate\":\"%{x:,d}\",\"width\":1,\"x\":[1.0],\"y\":[\"G4\"],\"type\":\"bar\",\"xaxis\":\"x34\",\"yaxis\":\"y34\"},{\"marker\":{\"color\":\"#ED4241\"},\"name\":\"SIDD\",\"orientation\":\"h\",\"showlegend\":false,\"textposition\":\"outside\",\"texttemplate\":\"%{x:,d}\",\"width\":1,\"x\":[2.0],\"y\":[\"SIDD\"],\"type\":\"bar\",\"xaxis\":\"x36\",\"yaxis\":\"y36\"},{\"marker\":{\"color\":\"#ED4241\"},\"name\":\"SIDD\",\"orientation\":\"h\",\"showlegend\":false,\"textposition\":\"outside\",\"texttemplate\":\"%{x:,d}\",\"width\":1,\"x\":[2.0],\"y\":[\"SIDD\"],\"type\":\"bar\",\"xaxis\":\"x39\",\"yaxis\":\"y39\"},{\"marker\":{\"color\":\"royalblue\"},\"name\":\"Z-DNA\",\"orientation\":\"h\",\"showlegend\":false,\"textposition\":\"outside\",\"texttemplate\":\"%{x:,d}\",\"width\":1,\"x\":[1.0],\"y\":[\"Z-DNA\"],\"type\":\"bar\",\"xaxis\":\"x39\",\"yaxis\":\"y39\"},{\"marker\":{\"color\":\"#FE9B54\"},\"name\":\"G4\",\"orientation\":\"h\",\"showlegend\":false,\"textposition\":\"outside\",\"texttemplate\":\"%{x:,d}\",\"width\":1,\"x\":[1.0],\"y\":[\"G4\"],\"type\":\"bar\",\"xaxis\":\"x39\",\"yaxis\":\"y39\"},{\"marker\":{\"color\":\"darkorchid\"},\"name\":\"H-DNA\",\"orientation\":\"h\",\"showlegend\":false,\"textposition\":\"outside\",\"texttemplate\":\"%{x:,d}\",\"width\":1,\"x\":[9],\"y\":[\"H-DNA\"],\"type\":\"bar\",\"xaxis\":\"x40\",\"yaxis\":\"y40\"},{\"marker\":{\"color\":\"#ED4241\"},\"name\":\"SIDD\",\"orientation\":\"h\",\"showlegend\":false,\"textposition\":\"outside\",\"texttemplate\":\"%{x:,d}\",\"width\":1,\"x\":[8],\"y\":[\"SIDD\"],\"type\":\"bar\",\"xaxis\":\"x40\",\"yaxis\":\"y40\"},{\"marker\":{\"color\":\"royalblue\"},\"name\":\"Z-DNA\",\"orientation\":\"h\",\"showlegend\":false,\"textposition\":\"outside\",\"texttemplate\":\"%{x:,d}\",\"width\":1,\"x\":[10],\"y\":[\"Z-DNA\"],\"type\":\"bar\",\"xaxis\":\"x40\",\"yaxis\":\"y40\"},{\"marker\":{\"color\":\"#FE9B54\"},\"name\":\"G4\",\"orientation\":\"h\",\"showlegend\":false,\"textposition\":\"outside\",\"texttemplate\":\"%{x:,d}\",\"width\":1,\"x\":[6],\"y\":[\"G4\"],\"type\":\"bar\",\"xaxis\":\"x40\",\"yaxis\":\"y40\"},{\"marker\":{\"color\":\"darkorchid\"},\"name\":\"H-DNA\",\"orientation\":\"h\",\"showlegend\":false,\"textposition\":\"outside\",\"texttemplate\":\"%{x:,d}\",\"width\":1,\"x\":[53],\"y\":[\"H-DNA\"],\"type\":\"bar\",\"xaxis\":\"x41\",\"yaxis\":\"y41\"},{\"marker\":{\"color\":\"#ED4241\"},\"name\":\"SIDD\",\"orientation\":\"h\",\"showlegend\":false,\"textposition\":\"outside\",\"texttemplate\":\"%{x:,d}\",\"width\":1,\"x\":[129],\"y\":[\"SIDD\"],\"type\":\"bar\",\"xaxis\":\"x41\",\"yaxis\":\"y41\"},{\"marker\":{\"color\":\"royalblue\"},\"name\":\"Z-DNA\",\"orientation\":\"h\",\"showlegend\":false,\"textposition\":\"outside\",\"texttemplate\":\"%{x:,d}\",\"width\":1,\"x\":[219],\"y\":[\"Z-DNA\"],\"type\":\"bar\",\"xaxis\":\"x41\",\"yaxis\":\"y41\"},{\"marker\":{\"color\":\"#FE9B54\"},\"name\":\"G4\",\"orientation\":\"h\",\"showlegend\":false,\"textposition\":\"outside\",\"texttemplate\":\"%{x:,d}\",\"width\":1,\"x\":[537],\"y\":[\"G4\"],\"type\":\"bar\",\"xaxis\":\"x41\",\"yaxis\":\"y41\"},{\"marker\":{\"color\":\"darkorchid\"},\"name\":\"H-DNA\",\"orientation\":\"h\",\"showlegend\":false,\"textposition\":\"outside\",\"texttemplate\":\"%{x:,d}\",\"width\":1,\"x\":[6],\"y\":[\"H-DNA\"],\"type\":\"bar\",\"xaxis\":\"x42\",\"yaxis\":\"y42\"},{\"marker\":{\"color\":\"#ED4241\"},\"name\":\"SIDD\",\"orientation\":\"h\",\"showlegend\":false,\"textposition\":\"outside\",\"texttemplate\":\"%{x:,d}\",\"width\":1,\"x\":[25],\"y\":[\"SIDD\"],\"type\":\"bar\",\"xaxis\":\"x42\",\"yaxis\":\"y42\"},{\"marker\":{\"color\":\"royalblue\"},\"name\":\"Z-DNA\",\"orientation\":\"h\",\"showlegend\":false,\"textposition\":\"outside\",\"texttemplate\":\"%{x:,d}\",\"width\":1,\"x\":[15],\"y\":[\"Z-DNA\"],\"type\":\"bar\",\"xaxis\":\"x42\",\"yaxis\":\"y42\"},{\"marker\":{\"color\":\"#FE9B54\"},\"name\":\"G4\",\"orientation\":\"h\",\"showlegend\":false,\"textposition\":\"outside\",\"texttemplate\":\"%{x:,d}\",\"width\":1,\"x\":[33],\"y\":[\"G4\"],\"type\":\"bar\",\"xaxis\":\"x42\",\"yaxis\":\"y42\"},{\"marker\":{\"color\":\"darkorchid\"},\"name\":\"H-DNA\",\"orientation\":\"h\",\"showlegend\":false,\"textposition\":\"outside\",\"texttemplate\":\"%{x:,d}\",\"width\":1,\"x\":[1],\"y\":[\"H-DNA\"],\"type\":\"bar\",\"xaxis\":\"x43\",\"yaxis\":\"y43\"},{\"marker\":{\"color\":\"#ED4241\"},\"name\":\"SIDD\",\"orientation\":\"h\",\"showlegend\":false,\"textposition\":\"outside\",\"texttemplate\":\"%{x:,d}\",\"width\":1,\"x\":[11],\"y\":[\"SIDD\"],\"type\":\"bar\",\"xaxis\":\"x43\",\"yaxis\":\"y43\"},{\"marker\":{\"color\":\"royalblue\"},\"name\":\"Z-DNA\",\"orientation\":\"h\",\"showlegend\":false,\"textposition\":\"outside\",\"texttemplate\":\"%{x:,d}\",\"width\":1,\"x\":[6],\"y\":[\"Z-DNA\"],\"type\":\"bar\",\"xaxis\":\"x43\",\"yaxis\":\"y43\"},{\"marker\":{\"color\":\"#FE9B54\"},\"name\":\"G4\",\"orientation\":\"h\",\"showlegend\":false,\"textposition\":\"outside\",\"texttemplate\":\"%{x:,d}\",\"width\":1,\"x\":[12],\"y\":[\"G4\"],\"type\":\"bar\",\"xaxis\":\"x43\",\"yaxis\":\"y43\"},{\"marker\":{\"color\":\"darkorchid\"},\"name\":\"H-DNA\",\"orientation\":\"h\",\"showlegend\":false,\"textposition\":\"outside\",\"texttemplate\":\"%{x:,d}\",\"width\":1,\"x\":[5],\"y\":[\"H-DNA\"],\"type\":\"bar\",\"xaxis\":\"x44\",\"yaxis\":\"y44\"},{\"marker\":{\"color\":\"#ED4241\"},\"name\":\"SIDD\",\"orientation\":\"h\",\"showlegend\":false,\"textposition\":\"outside\",\"texttemplate\":\"%{x:,d}\",\"width\":1,\"x\":[17],\"y\":[\"SIDD\"],\"type\":\"bar\",\"xaxis\":\"x44\",\"yaxis\":\"y44\"},{\"marker\":{\"color\":\"royalblue\"},\"name\":\"Z-DNA\",\"orientation\":\"h\",\"showlegend\":false,\"textposition\":\"outside\",\"texttemplate\":\"%{x:,d}\",\"width\":1,\"x\":[14],\"y\":[\"Z-DNA\"],\"type\":\"bar\",\"xaxis\":\"x44\",\"yaxis\":\"y44\"},{\"marker\":{\"color\":\"#FE9B54\"},\"name\":\"G4\",\"orientation\":\"h\",\"showlegend\":false,\"textposition\":\"outside\",\"texttemplate\":\"%{x:,d}\",\"width\":1,\"x\":[33],\"y\":[\"G4\"],\"type\":\"bar\",\"xaxis\":\"x44\",\"yaxis\":\"y44\"},{\"marker\":{\"color\":\"#FE9B54\"},\"name\":\"G4\",\"orientation\":\"h\",\"showlegend\":false,\"textposition\":\"outside\",\"texttemplate\":\"%{x:,d}\",\"width\":1,\"x\":[1.0],\"y\":[\"G4\"],\"type\":\"bar\",\"xaxis\":\"x45\",\"yaxis\":\"y45\"},{\"marker\":{\"color\":\"#ED4241\"},\"name\":\"SIDD\",\"orientation\":\"h\",\"showlegend\":false,\"textposition\":\"outside\",\"texttemplate\":\"%{x:,d}\",\"width\":1,\"x\":[4.0],\"y\":[\"SIDD\"],\"type\":\"bar\",\"xaxis\":\"x46\",\"yaxis\":\"y46\"},{\"marker\":{\"color\":\"royalblue\"},\"name\":\"Z-DNA\",\"orientation\":\"h\",\"showlegend\":false,\"textposition\":\"outside\",\"texttemplate\":\"%{x:,d}\",\"width\":1,\"x\":[3.0],\"y\":[\"Z-DNA\"],\"type\":\"bar\",\"xaxis\":\"x46\",\"yaxis\":\"y46\"},{\"marker\":{\"color\":\"#FE9B54\"},\"name\":\"G4\",\"orientation\":\"h\",\"showlegend\":false,\"textposition\":\"outside\",\"texttemplate\":\"%{x:,d}\",\"width\":1,\"x\":[7.0],\"y\":[\"G4\"],\"type\":\"bar\",\"xaxis\":\"x46\",\"yaxis\":\"y46\"},{\"marker\":{\"color\":\"#ED4241\"},\"name\":\"SIDD\",\"orientation\":\"h\",\"showlegend\":false,\"textposition\":\"outside\",\"texttemplate\":\"%{x:,d}\",\"width\":1,\"x\":[1.0],\"y\":[\"SIDD\"],\"type\":\"bar\",\"xaxis\":\"x47\",\"yaxis\":\"y47\"},{\"marker\":{\"color\":\"#ED4241\"},\"name\":\"SIDD\",\"orientation\":\"h\",\"showlegend\":false,\"textposition\":\"outside\",\"texttemplate\":\"%{x:,d}\",\"width\":1,\"x\":[2.0],\"y\":[\"SIDD\"],\"type\":\"bar\",\"xaxis\":\"x48\",\"yaxis\":\"y48\"},{\"marker\":{\"color\":\"royalblue\"},\"name\":\"Z-DNA\",\"orientation\":\"h\",\"showlegend\":false,\"textposition\":\"outside\",\"texttemplate\":\"%{x:,d}\",\"width\":1,\"x\":[7.0],\"y\":[\"Z-DNA\"],\"type\":\"bar\",\"xaxis\":\"x48\",\"yaxis\":\"y48\"},{\"marker\":{\"color\":\"#FE9B54\"},\"name\":\"G4\",\"orientation\":\"h\",\"showlegend\":false,\"textposition\":\"outside\",\"texttemplate\":\"%{x:,d}\",\"width\":1,\"x\":[4.0],\"y\":[\"G4\"],\"type\":\"bar\",\"xaxis\":\"x48\",\"yaxis\":\"y48\"},{\"marker\":{\"color\":\"darkorchid\"},\"name\":\"H-DNA\",\"orientation\":\"h\",\"showlegend\":false,\"textposition\":\"outside\",\"texttemplate\":\"%{x:,d}\",\"width\":1,\"x\":[7],\"y\":[\"H-DNA\"],\"type\":\"bar\",\"xaxis\":\"x49\",\"yaxis\":\"y49\"},{\"marker\":{\"color\":\"#ED4241\"},\"name\":\"SIDD\",\"orientation\":\"h\",\"showlegend\":false,\"textposition\":\"outside\",\"texttemplate\":\"%{x:,d}\",\"width\":1,\"x\":[15],\"y\":[\"SIDD\"],\"type\":\"bar\",\"xaxis\":\"x49\",\"yaxis\":\"y49\"},{\"marker\":{\"color\":\"royalblue\"},\"name\":\"Z-DNA\",\"orientation\":\"h\",\"showlegend\":false,\"textposition\":\"outside\",\"texttemplate\":\"%{x:,d}\",\"width\":1,\"x\":[13],\"y\":[\"Z-DNA\"],\"type\":\"bar\",\"xaxis\":\"x49\",\"yaxis\":\"y49\"},{\"marker\":{\"color\":\"#FE9B54\"},\"name\":\"G4\",\"orientation\":\"h\",\"showlegend\":false,\"textposition\":\"outside\",\"texttemplate\":\"%{x:,d}\",\"width\":1,\"x\":[26],\"y\":[\"G4\"],\"type\":\"bar\",\"xaxis\":\"x49\",\"yaxis\":\"y49\"},{\"marker\":{\"color\":\"darkorchid\"},\"name\":\"H-DNA\",\"orientation\":\"h\",\"showlegend\":false,\"textposition\":\"outside\",\"texttemplate\":\"%{x:,d}\",\"width\":1,\"x\":[46],\"y\":[\"H-DNA\"],\"type\":\"bar\",\"xaxis\":\"x50\",\"yaxis\":\"y50\"},{\"marker\":{\"color\":\"#ED4241\"},\"name\":\"SIDD\",\"orientation\":\"h\",\"showlegend\":false,\"textposition\":\"outside\",\"texttemplate\":\"%{x:,d}\",\"width\":1,\"x\":[60],\"y\":[\"SIDD\"],\"type\":\"bar\",\"xaxis\":\"x50\",\"yaxis\":\"y50\"},{\"marker\":{\"color\":\"royalblue\"},\"name\":\"Z-DNA\",\"orientation\":\"h\",\"showlegend\":false,\"textposition\":\"outside\",\"texttemplate\":\"%{x:,d}\",\"width\":1,\"x\":[593],\"y\":[\"Z-DNA\"],\"type\":\"bar\",\"xaxis\":\"x50\",\"yaxis\":\"y50\"},{\"marker\":{\"color\":\"#FE9B54\"},\"name\":\"G4\",\"orientation\":\"h\",\"showlegend\":false,\"textposition\":\"outside\",\"texttemplate\":\"%{x:,d}\",\"width\":1,\"x\":[858],\"y\":[\"G4\"],\"type\":\"bar\",\"xaxis\":\"x50\",\"yaxis\":\"y50\"},{\"marker\":{\"color\":\"#ED4241\"},\"name\":\"SIDD\",\"orientation\":\"h\",\"showlegend\":false,\"textposition\":\"outside\",\"texttemplate\":\"%{x:,d}\",\"width\":1,\"x\":[1.0],\"y\":[\"SIDD\"],\"type\":\"bar\",\"xaxis\":\"x51\",\"yaxis\":\"y51\"},{\"marker\":{\"color\":\"#FE9B54\"},\"name\":\"G4\",\"orientation\":\"h\",\"showlegend\":false,\"textposition\":\"outside\",\"texttemplate\":\"%{x:,d}\",\"width\":1,\"x\":[1.0],\"y\":[\"G4\"],\"type\":\"bar\",\"xaxis\":\"x51\",\"yaxis\":\"y51\"},{\"marker\":{\"color\":\"darkorchid\"},\"name\":\"H-DNA\",\"orientation\":\"h\",\"showlegend\":false,\"textposition\":\"outside\",\"texttemplate\":\"%{x:,d}\",\"width\":1,\"x\":[1.0],\"y\":[\"H-DNA\"],\"type\":\"bar\",\"xaxis\":\"x52\",\"yaxis\":\"y52\"},{\"marker\":{\"color\":\"royalblue\"},\"name\":\"Z-DNA\",\"orientation\":\"h\",\"showlegend\":false,\"textposition\":\"outside\",\"texttemplate\":\"%{x:,d}\",\"width\":1,\"x\":[1.0],\"y\":[\"Z-DNA\"],\"type\":\"bar\",\"xaxis\":\"x52\",\"yaxis\":\"y52\"},{\"marker\":{\"color\":\"#FE9B54\"},\"name\":\"G4\",\"orientation\":\"h\",\"showlegend\":false,\"textposition\":\"outside\",\"texttemplate\":\"%{x:,d}\",\"width\":1,\"x\":[1.0],\"y\":[\"G4\"],\"type\":\"bar\",\"xaxis\":\"x52\",\"yaxis\":\"y52\"},{\"marker\":{\"color\":\"darkorchid\"},\"name\":\"H-DNA\",\"orientation\":\"h\",\"showlegend\":false,\"textposition\":\"outside\",\"texttemplate\":\"%{x:,d}\",\"width\":1,\"x\":[1],\"y\":[\"H-DNA\"],\"type\":\"bar\",\"xaxis\":\"x54\",\"yaxis\":\"y54\"},{\"marker\":{\"color\":\"#ED4241\"},\"name\":\"SIDD\",\"orientation\":\"h\",\"showlegend\":false,\"textposition\":\"outside\",\"texttemplate\":\"%{x:,d}\",\"width\":1,\"x\":[14],\"y\":[\"SIDD\"],\"type\":\"bar\",\"xaxis\":\"x54\",\"yaxis\":\"y54\"},{\"marker\":{\"color\":\"royalblue\"},\"name\":\"Z-DNA\",\"orientation\":\"h\",\"showlegend\":false,\"textposition\":\"outside\",\"texttemplate\":\"%{x:,d}\",\"width\":1,\"x\":[2],\"y\":[\"Z-DNA\"],\"type\":\"bar\",\"xaxis\":\"x54\",\"yaxis\":\"y54\"},{\"marker\":{\"color\":\"#FE9B54\"},\"name\":\"G4\",\"orientation\":\"h\",\"showlegend\":false,\"textposition\":\"outside\",\"texttemplate\":\"%{x:,d}\",\"width\":1,\"x\":[4],\"y\":[\"G4\"],\"type\":\"bar\",\"xaxis\":\"x54\",\"yaxis\":\"y54\"},{\"marker\":{\"color\":\"#ED4241\"},\"name\":\"SIDD\",\"orientation\":\"h\",\"showlegend\":false,\"textposition\":\"outside\",\"texttemplate\":\"%{x:,d}\",\"width\":1,\"x\":[10.0],\"y\":[\"SIDD\"],\"type\":\"bar\",\"xaxis\":\"x59\",\"yaxis\":\"y59\"},{\"marker\":{\"color\":\"royalblue\"},\"name\":\"Z-DNA\",\"orientation\":\"h\",\"showlegend\":false,\"textposition\":\"outside\",\"texttemplate\":\"%{x:,d}\",\"width\":1,\"x\":[2.0],\"y\":[\"Z-DNA\"],\"type\":\"bar\",\"xaxis\":\"x59\",\"yaxis\":\"y59\"},{\"marker\":{\"color\":\"#FE9B54\"},\"name\":\"G4\",\"orientation\":\"h\",\"showlegend\":false,\"textposition\":\"outside\",\"texttemplate\":\"%{x:,d}\",\"width\":1,\"x\":[3.0],\"y\":[\"G4\"],\"type\":\"bar\",\"xaxis\":\"x59\",\"yaxis\":\"y59\"},{\"marker\":{\"color\":\"darkorchid\"},\"name\":\"H-DNA\",\"orientation\":\"h\",\"showlegend\":false,\"textposition\":\"outside\",\"texttemplate\":\"%{x:,d}\",\"width\":1,\"x\":[5],\"y\":[\"H-DNA\"],\"type\":\"bar\",\"xaxis\":\"x60\",\"yaxis\":\"y60\"},{\"marker\":{\"color\":\"#ED4241\"},\"name\":\"SIDD\",\"orientation\":\"h\",\"showlegend\":false,\"textposition\":\"outside\",\"texttemplate\":\"%{x:,d}\",\"width\":1,\"x\":[9],\"y\":[\"SIDD\"],\"type\":\"bar\",\"xaxis\":\"x60\",\"yaxis\":\"y60\"},{\"marker\":{\"color\":\"royalblue\"},\"name\":\"Z-DNA\",\"orientation\":\"h\",\"showlegend\":false,\"textposition\":\"outside\",\"texttemplate\":\"%{x:,d}\",\"width\":1,\"x\":[3],\"y\":[\"Z-DNA\"],\"type\":\"bar\",\"xaxis\":\"x60\",\"yaxis\":\"y60\"},{\"marker\":{\"color\":\"#FE9B54\"},\"name\":\"G4\",\"orientation\":\"h\",\"showlegend\":false,\"textposition\":\"outside\",\"texttemplate\":\"%{x:,d}\",\"width\":1,\"x\":[2],\"y\":[\"G4\"],\"type\":\"bar\",\"xaxis\":\"x60\",\"yaxis\":\"y60\"},{\"marker\":{\"color\":\"darkorchid\"},\"name\":\"H-DNA\",\"orientation\":\"h\",\"showlegend\":false,\"textposition\":\"outside\",\"texttemplate\":\"%{x:,d}\",\"width\":1,\"x\":[3],\"y\":[\"H-DNA\"],\"type\":\"bar\",\"xaxis\":\"x61\",\"yaxis\":\"y61\"},{\"marker\":{\"color\":\"#ED4241\"},\"name\":\"SIDD\",\"orientation\":\"h\",\"showlegend\":false,\"textposition\":\"outside\",\"texttemplate\":\"%{x:,d}\",\"width\":1,\"x\":[8],\"y\":[\"SIDD\"],\"type\":\"bar\",\"xaxis\":\"x61\",\"yaxis\":\"y61\"},{\"marker\":{\"color\":\"royalblue\"},\"name\":\"Z-DNA\",\"orientation\":\"h\",\"showlegend\":false,\"textposition\":\"outside\",\"texttemplate\":\"%{x:,d}\",\"width\":1,\"x\":[8],\"y\":[\"Z-DNA\"],\"type\":\"bar\",\"xaxis\":\"x61\",\"yaxis\":\"y61\"},{\"marker\":{\"color\":\"#FE9B54\"},\"name\":\"G4\",\"orientation\":\"h\",\"showlegend\":false,\"textposition\":\"outside\",\"texttemplate\":\"%{x:,d}\",\"width\":1,\"x\":[5],\"y\":[\"G4\"],\"type\":\"bar\",\"xaxis\":\"x61\",\"yaxis\":\"y61\"},{\"marker\":{\"color\":\"#FE9B54\"},\"name\":\"G4\",\"orientation\":\"h\",\"showlegend\":false,\"textposition\":\"outside\",\"texttemplate\":\"%{x:,d}\",\"width\":1,\"x\":[2.0],\"y\":[\"G4\"],\"type\":\"bar\",\"xaxis\":\"x62\",\"yaxis\":\"y62\"},{\"marker\":{\"color\":\"#ED4241\"},\"name\":\"SIDD\",\"orientation\":\"h\",\"showlegend\":false,\"textposition\":\"outside\",\"texttemplate\":\"%{x:,d}\",\"width\":1,\"x\":[1.0],\"y\":[\"SIDD\"],\"type\":\"bar\",\"xaxis\":\"x63\",\"yaxis\":\"y63\"},{\"marker\":{\"color\":\"darkorchid\"},\"name\":\"H-DNA\",\"orientation\":\"h\",\"showlegend\":false,\"textposition\":\"outside\",\"texttemplate\":\"%{x:,d}\",\"width\":1,\"x\":[3],\"y\":[\"H-DNA\"],\"type\":\"bar\",\"xaxis\":\"x64\",\"yaxis\":\"y64\"},{\"marker\":{\"color\":\"#ED4241\"},\"name\":\"SIDD\",\"orientation\":\"h\",\"showlegend\":false,\"textposition\":\"outside\",\"texttemplate\":\"%{x:,d}\",\"width\":1,\"x\":[9],\"y\":[\"SIDD\"],\"type\":\"bar\",\"xaxis\":\"x64\",\"yaxis\":\"y64\"},{\"marker\":{\"color\":\"royalblue\"},\"name\":\"Z-DNA\",\"orientation\":\"h\",\"showlegend\":false,\"textposition\":\"outside\",\"texttemplate\":\"%{x:,d}\",\"width\":1,\"x\":[4],\"y\":[\"Z-DNA\"],\"type\":\"bar\",\"xaxis\":\"x64\",\"yaxis\":\"y64\"},{\"marker\":{\"color\":\"#FE9B54\"},\"name\":\"G4\",\"orientation\":\"h\",\"showlegend\":false,\"textposition\":\"outside\",\"texttemplate\":\"%{x:,d}\",\"width\":1,\"x\":[2],\"y\":[\"G4\"],\"type\":\"bar\",\"xaxis\":\"x64\",\"yaxis\":\"y64\"},{\"marker\":{\"color\":\"#ED4241\"},\"name\":\"SIDD\",\"orientation\":\"h\",\"showlegend\":false,\"textposition\":\"outside\",\"texttemplate\":\"%{x:,d}\",\"width\":1,\"x\":[2.0],\"y\":[\"SIDD\"],\"type\":\"bar\",\"xaxis\":\"x66\",\"yaxis\":\"y66\"},{\"marker\":{\"color\":\"#ED4241\"},\"name\":\"SIDD\",\"orientation\":\"h\",\"showlegend\":false,\"textposition\":\"outside\",\"texttemplate\":\"%{x:,d}\",\"width\":1,\"x\":[1.0],\"y\":[\"SIDD\"],\"type\":\"bar\",\"xaxis\":\"x68\",\"yaxis\":\"y68\"},{\"marker\":{\"color\":\"darkorchid\"},\"name\":\"H-DNA\",\"orientation\":\"h\",\"showlegend\":false,\"textposition\":\"outside\",\"texttemplate\":\"%{x:,d}\",\"width\":1,\"x\":[3],\"y\":[\"H-DNA\"],\"type\":\"bar\",\"xaxis\":\"x69\",\"yaxis\":\"y69\"},{\"marker\":{\"color\":\"#ED4241\"},\"name\":\"SIDD\",\"orientation\":\"h\",\"showlegend\":false,\"textposition\":\"outside\",\"texttemplate\":\"%{x:,d}\",\"width\":1,\"x\":[10],\"y\":[\"SIDD\"],\"type\":\"bar\",\"xaxis\":\"x69\",\"yaxis\":\"y69\"},{\"marker\":{\"color\":\"royalblue\"},\"name\":\"Z-DNA\",\"orientation\":\"h\",\"showlegend\":false,\"textposition\":\"outside\",\"texttemplate\":\"%{x:,d}\",\"width\":1,\"x\":[1],\"y\":[\"Z-DNA\"],\"type\":\"bar\",\"xaxis\":\"x69\",\"yaxis\":\"y69\"},{\"marker\":{\"color\":\"#FE9B54\"},\"name\":\"G4\",\"orientation\":\"h\",\"showlegend\":false,\"textposition\":\"outside\",\"texttemplate\":\"%{x:,d}\",\"width\":1,\"x\":[6],\"y\":[\"G4\"],\"type\":\"bar\",\"xaxis\":\"x69\",\"yaxis\":\"y69\"},{\"marker\":{\"color\":\"darkorchid\"},\"name\":\"H-DNA\",\"orientation\":\"h\",\"showlegend\":false,\"textposition\":\"outside\",\"texttemplate\":\"%{x:,d}\",\"width\":1,\"x\":[1],\"y\":[\"H-DNA\"],\"type\":\"bar\",\"xaxis\":\"x70\",\"yaxis\":\"y70\"},{\"marker\":{\"color\":\"#ED4241\"},\"name\":\"SIDD\",\"orientation\":\"h\",\"showlegend\":false,\"textposition\":\"outside\",\"texttemplate\":\"%{x:,d}\",\"width\":1,\"x\":[9],\"y\":[\"SIDD\"],\"type\":\"bar\",\"xaxis\":\"x70\",\"yaxis\":\"y70\"},{\"marker\":{\"color\":\"royalblue\"},\"name\":\"Z-DNA\",\"orientation\":\"h\",\"showlegend\":false,\"textposition\":\"outside\",\"texttemplate\":\"%{x:,d}\",\"width\":1,\"x\":[16],\"y\":[\"Z-DNA\"],\"type\":\"bar\",\"xaxis\":\"x70\",\"yaxis\":\"y70\"},{\"marker\":{\"color\":\"#FE9B54\"},\"name\":\"G4\",\"orientation\":\"h\",\"showlegend\":false,\"textposition\":\"outside\",\"texttemplate\":\"%{x:,d}\",\"width\":1,\"x\":[11],\"y\":[\"G4\"],\"type\":\"bar\",\"xaxis\":\"x70\",\"yaxis\":\"y70\"},{\"marker\":{\"color\":\"darkorchid\"},\"name\":\"H-DNA\",\"orientation\":\"h\",\"showlegend\":false,\"textposition\":\"outside\",\"texttemplate\":\"%{x:,d}\",\"width\":1,\"x\":[32],\"y\":[\"H-DNA\"],\"type\":\"bar\",\"xaxis\":\"x71\",\"yaxis\":\"y71\"},{\"marker\":{\"color\":\"#ED4241\"},\"name\":\"SIDD\",\"orientation\":\"h\",\"showlegend\":false,\"textposition\":\"outside\",\"texttemplate\":\"%{x:,d}\",\"width\":1,\"x\":[84],\"y\":[\"SIDD\"],\"type\":\"bar\",\"xaxis\":\"x71\",\"yaxis\":\"y71\"},{\"marker\":{\"color\":\"royalblue\"},\"name\":\"Z-DNA\",\"orientation\":\"h\",\"showlegend\":false,\"textposition\":\"outside\",\"texttemplate\":\"%{x:,d}\",\"width\":1,\"x\":[79],\"y\":[\"Z-DNA\"],\"type\":\"bar\",\"xaxis\":\"x71\",\"yaxis\":\"y71\"},{\"marker\":{\"color\":\"#FE9B54\"},\"name\":\"G4\",\"orientation\":\"h\",\"showlegend\":false,\"textposition\":\"outside\",\"texttemplate\":\"%{x:,d}\",\"width\":1,\"x\":[143],\"y\":[\"G4\"],\"type\":\"bar\",\"xaxis\":\"x71\",\"yaxis\":\"y71\"},{\"marker\":{\"color\":\"darkorchid\"},\"name\":\"H-DNA\",\"orientation\":\"h\",\"showlegend\":false,\"textposition\":\"outside\",\"texttemplate\":\"%{x:,d}\",\"width\":1,\"x\":[20],\"y\":[\"H-DNA\"],\"type\":\"bar\",\"xaxis\":\"x72\",\"yaxis\":\"y72\"},{\"marker\":{\"color\":\"#ED4241\"},\"name\":\"SIDD\",\"orientation\":\"h\",\"showlegend\":false,\"textposition\":\"outside\",\"texttemplate\":\"%{x:,d}\",\"width\":1,\"x\":[60],\"y\":[\"SIDD\"],\"type\":\"bar\",\"xaxis\":\"x72\",\"yaxis\":\"y72\"},{\"marker\":{\"color\":\"royalblue\"},\"name\":\"Z-DNA\",\"orientation\":\"h\",\"showlegend\":false,\"textposition\":\"outside\",\"texttemplate\":\"%{x:,d}\",\"width\":1,\"x\":[48],\"y\":[\"Z-DNA\"],\"type\":\"bar\",\"xaxis\":\"x72\",\"yaxis\":\"y72\"},{\"marker\":{\"color\":\"#FE9B54\"},\"name\":\"G4\",\"orientation\":\"h\",\"showlegend\":false,\"textposition\":\"outside\",\"texttemplate\":\"%{x:,d}\",\"width\":1,\"x\":[55],\"y\":[\"G4\"],\"type\":\"bar\",\"xaxis\":\"x72\",\"yaxis\":\"y72\"},{\"marker\":{\"color\":\"darkorchid\"},\"name\":\"H-DNA\",\"orientation\":\"h\",\"showlegend\":false,\"textposition\":\"outside\",\"texttemplate\":\"%{x:,d}\",\"width\":1,\"x\":[18],\"y\":[\"H-DNA\"],\"type\":\"bar\",\"xaxis\":\"x73\",\"yaxis\":\"y73\"},{\"marker\":{\"color\":\"#ED4241\"},\"name\":\"SIDD\",\"orientation\":\"h\",\"showlegend\":false,\"textposition\":\"outside\",\"texttemplate\":\"%{x:,d}\",\"width\":1,\"x\":[39],\"y\":[\"SIDD\"],\"type\":\"bar\",\"xaxis\":\"x73\",\"yaxis\":\"y73\"},{\"marker\":{\"color\":\"royalblue\"},\"name\":\"Z-DNA\",\"orientation\":\"h\",\"showlegend\":false,\"textposition\":\"outside\",\"texttemplate\":\"%{x:,d}\",\"width\":1,\"x\":[44],\"y\":[\"Z-DNA\"],\"type\":\"bar\",\"xaxis\":\"x73\",\"yaxis\":\"y73\"},{\"marker\":{\"color\":\"#FE9B54\"},\"name\":\"G4\",\"orientation\":\"h\",\"showlegend\":false,\"textposition\":\"outside\",\"texttemplate\":\"%{x:,d}\",\"width\":1,\"x\":[33],\"y\":[\"G4\"],\"type\":\"bar\",\"xaxis\":\"x73\",\"yaxis\":\"y73\"},{\"marker\":{\"color\":\"darkorchid\"},\"name\":\"H-DNA\",\"orientation\":\"h\",\"showlegend\":false,\"textposition\":\"outside\",\"texttemplate\":\"%{x:,d}\",\"width\":1,\"x\":[119],\"y\":[\"H-DNA\"],\"type\":\"bar\",\"xaxis\":\"x74\",\"yaxis\":\"y74\"},{\"marker\":{\"color\":\"#ED4241\"},\"name\":\"SIDD\",\"orientation\":\"h\",\"showlegend\":false,\"textposition\":\"outside\",\"texttemplate\":\"%{x:,d}\",\"width\":1,\"x\":[157],\"y\":[\"SIDD\"],\"type\":\"bar\",\"xaxis\":\"x74\",\"yaxis\":\"y74\"},{\"marker\":{\"color\":\"royalblue\"},\"name\":\"Z-DNA\",\"orientation\":\"h\",\"showlegend\":false,\"textposition\":\"outside\",\"texttemplate\":\"%{x:,d}\",\"width\":1,\"x\":[265],\"y\":[\"Z-DNA\"],\"type\":\"bar\",\"xaxis\":\"x74\",\"yaxis\":\"y74\"},{\"marker\":{\"color\":\"#FE9B54\"},\"name\":\"G4\",\"orientation\":\"h\",\"showlegend\":false,\"textposition\":\"outside\",\"texttemplate\":\"%{x:,d}\",\"width\":1,\"x\":[99],\"y\":[\"G4\"],\"type\":\"bar\",\"xaxis\":\"x74\",\"yaxis\":\"y74\"},{\"marker\":{\"color\":\"#FE9B54\"},\"name\":\"G4\",\"orientation\":\"h\",\"showlegend\":false,\"textposition\":\"outside\",\"texttemplate\":\"%{x:,d}\",\"width\":1,\"x\":[2.0],\"y\":[\"G4\"],\"type\":\"bar\",\"xaxis\":\"x75\",\"yaxis\":\"y75\"},{\"marker\":{\"color\":\"darkorchid\"},\"name\":\"H-DNA\",\"orientation\":\"h\",\"showlegend\":false,\"textposition\":\"outside\",\"texttemplate\":\"%{x:,d}\",\"width\":1,\"x\":[2],\"y\":[\"H-DNA\"],\"type\":\"bar\",\"xaxis\":\"x76\",\"yaxis\":\"y76\"},{\"marker\":{\"color\":\"#ED4241\"},\"name\":\"SIDD\",\"orientation\":\"h\",\"showlegend\":false,\"textposition\":\"outside\",\"texttemplate\":\"%{x:,d}\",\"width\":1,\"x\":[35],\"y\":[\"SIDD\"],\"type\":\"bar\",\"xaxis\":\"x76\",\"yaxis\":\"y76\"},{\"marker\":{\"color\":\"royalblue\"},\"name\":\"Z-DNA\",\"orientation\":\"h\",\"showlegend\":false,\"textposition\":\"outside\",\"texttemplate\":\"%{x:,d}\",\"width\":1,\"x\":[15],\"y\":[\"Z-DNA\"],\"type\":\"bar\",\"xaxis\":\"x76\",\"yaxis\":\"y76\"},{\"marker\":{\"color\":\"#FE9B54\"},\"name\":\"G4\",\"orientation\":\"h\",\"showlegend\":false,\"textposition\":\"outside\",\"texttemplate\":\"%{x:,d}\",\"width\":1,\"x\":[22],\"y\":[\"G4\"],\"type\":\"bar\",\"xaxis\":\"x76\",\"yaxis\":\"y76\"},{\"marker\":{\"color\":\"#FE9B54\"},\"name\":\"G4\",\"orientation\":\"h\",\"showlegend\":false,\"textposition\":\"outside\",\"texttemplate\":\"%{x:,d}\",\"width\":1,\"x\":[1.0],\"y\":[\"G4\"],\"type\":\"bar\",\"xaxis\":\"x77\",\"yaxis\":\"y77\"},{\"marker\":{\"color\":\"darkorchid\"},\"name\":\"H-DNA\",\"orientation\":\"h\",\"showlegend\":false,\"textposition\":\"outside\",\"texttemplate\":\"%{x:,d}\",\"width\":1,\"x\":[2],\"y\":[\"H-DNA\"],\"type\":\"bar\",\"xaxis\":\"x78\",\"yaxis\":\"y78\"},{\"marker\":{\"color\":\"#ED4241\"},\"name\":\"SIDD\",\"orientation\":\"h\",\"showlegend\":false,\"textposition\":\"outside\",\"texttemplate\":\"%{x:,d}\",\"width\":1,\"x\":[17],\"y\":[\"SIDD\"],\"type\":\"bar\",\"xaxis\":\"x78\",\"yaxis\":\"y78\"},{\"marker\":{\"color\":\"royalblue\"},\"name\":\"Z-DNA\",\"orientation\":\"h\",\"showlegend\":false,\"textposition\":\"outside\",\"texttemplate\":\"%{x:,d}\",\"width\":1,\"x\":[17],\"y\":[\"Z-DNA\"],\"type\":\"bar\",\"xaxis\":\"x78\",\"yaxis\":\"y78\"},{\"marker\":{\"color\":\"#FE9B54\"},\"name\":\"G4\",\"orientation\":\"h\",\"showlegend\":false,\"textposition\":\"outside\",\"texttemplate\":\"%{x:,d}\",\"width\":1,\"x\":[49],\"y\":[\"G4\"],\"type\":\"bar\",\"xaxis\":\"x78\",\"yaxis\":\"y78\"},{\"marker\":{\"color\":\"darkorchid\"},\"name\":\"H-DNA\",\"orientation\":\"h\",\"showlegend\":false,\"textposition\":\"outside\",\"texttemplate\":\"%{x:,d}\",\"width\":1,\"x\":[83],\"y\":[\"H-DNA\"],\"type\":\"bar\",\"xaxis\":\"x79\",\"yaxis\":\"y79\"},{\"marker\":{\"color\":\"#ED4241\"},\"name\":\"SIDD\",\"orientation\":\"h\",\"showlegend\":false,\"textposition\":\"outside\",\"texttemplate\":\"%{x:,d}\",\"width\":1,\"x\":[191],\"y\":[\"SIDD\"],\"type\":\"bar\",\"xaxis\":\"x79\",\"yaxis\":\"y79\"},{\"marker\":{\"color\":\"royalblue\"},\"name\":\"Z-DNA\",\"orientation\":\"h\",\"showlegend\":false,\"textposition\":\"outside\",\"texttemplate\":\"%{x:,d}\",\"width\":1,\"x\":[217],\"y\":[\"Z-DNA\"],\"type\":\"bar\",\"xaxis\":\"x79\",\"yaxis\":\"y79\"},{\"marker\":{\"color\":\"#FE9B54\"},\"name\":\"G4\",\"orientation\":\"h\",\"showlegend\":false,\"textposition\":\"outside\",\"texttemplate\":\"%{x:,d}\",\"width\":1,\"x\":[135],\"y\":[\"G4\"],\"type\":\"bar\",\"xaxis\":\"x79\",\"yaxis\":\"y79\"},{\"marker\":{\"color\":\"darkorchid\"},\"name\":\"H-DNA\",\"orientation\":\"h\",\"showlegend\":false,\"textposition\":\"outside\",\"texttemplate\":\"%{x:,d}\",\"width\":1,\"x\":[564],\"y\":[\"H-DNA\"],\"type\":\"bar\",\"xaxis\":\"x80\",\"yaxis\":\"y80\"},{\"marker\":{\"color\":\"#ED4241\"},\"name\":\"SIDD\",\"orientation\":\"h\",\"showlegend\":false,\"textposition\":\"outside\",\"texttemplate\":\"%{x:,d}\",\"width\":1,\"x\":[331],\"y\":[\"SIDD\"],\"type\":\"bar\",\"xaxis\":\"x80\",\"yaxis\":\"y80\"},{\"marker\":{\"color\":\"royalblue\"},\"name\":\"Z-DNA\",\"orientation\":\"h\",\"showlegend\":false,\"textposition\":\"outside\",\"texttemplate\":\"%{x:,d}\",\"width\":1,\"x\":[1223],\"y\":[\"Z-DNA\"],\"type\":\"bar\",\"xaxis\":\"x80\",\"yaxis\":\"y80\"},{\"marker\":{\"color\":\"#FE9B54\"},\"name\":\"G4\",\"orientation\":\"h\",\"showlegend\":false,\"textposition\":\"outside\",\"texttemplate\":\"%{x:,d}\",\"width\":1,\"x\":[700],\"y\":[\"G4\"],\"type\":\"bar\",\"xaxis\":\"x80\",\"yaxis\":\"y80\"}],                        {\"template\":{\"data\":{\"barpolar\":[{\"marker\":{\"line\":{\"color\":\"rgb(237,237,237)\",\"width\":0.5},\"pattern\":{\"fillmode\":\"overlay\",\"size\":10,\"solidity\":0.2}},\"type\":\"barpolar\"}],\"bar\":[{\"error_x\":{\"color\":\"rgb(51,51,51)\"},\"error_y\":{\"color\":\"rgb(51,51,51)\"},\"marker\":{\"line\":{\"color\":\"rgb(237,237,237)\",\"width\":0.5},\"pattern\":{\"fillmode\":\"overlay\",\"size\":10,\"solidity\":0.2}},\"type\":\"bar\"}],\"carpet\":[{\"aaxis\":{\"endlinecolor\":\"rgb(51,51,51)\",\"gridcolor\":\"white\",\"linecolor\":\"white\",\"minorgridcolor\":\"white\",\"startlinecolor\":\"rgb(51,51,51)\"},\"baxis\":{\"endlinecolor\":\"rgb(51,51,51)\",\"gridcolor\":\"white\",\"linecolor\":\"white\",\"minorgridcolor\":\"white\",\"startlinecolor\":\"rgb(51,51,51)\"},\"type\":\"carpet\"}],\"choropleth\":[{\"colorbar\":{\"outlinewidth\":0,\"tickcolor\":\"rgb(237,237,237)\",\"ticklen\":6,\"ticks\":\"inside\"},\"type\":\"choropleth\"}],\"contourcarpet\":[{\"colorbar\":{\"outlinewidth\":0,\"tickcolor\":\"rgb(237,237,237)\",\"ticklen\":6,\"ticks\":\"inside\"},\"type\":\"contourcarpet\"}],\"contour\":[{\"colorbar\":{\"outlinewidth\":0,\"tickcolor\":\"rgb(237,237,237)\",\"ticklen\":6,\"ticks\":\"inside\"},\"colorscale\":[[0,\"rgb(20,44,66)\"],[1,\"rgb(90,179,244)\"]],\"type\":\"contour\"}],\"heatmapgl\":[{\"colorbar\":{\"outlinewidth\":0,\"tickcolor\":\"rgb(237,237,237)\",\"ticklen\":6,\"ticks\":\"inside\"},\"colorscale\":[[0,\"rgb(20,44,66)\"],[1,\"rgb(90,179,244)\"]],\"type\":\"heatmapgl\"}],\"heatmap\":[{\"colorbar\":{\"outlinewidth\":0,\"tickcolor\":\"rgb(237,237,237)\",\"ticklen\":6,\"ticks\":\"inside\"},\"colorscale\":[[0,\"rgb(20,44,66)\"],[1,\"rgb(90,179,244)\"]],\"type\":\"heatmap\"}],\"histogram2dcontour\":[{\"colorbar\":{\"outlinewidth\":0,\"tickcolor\":\"rgb(237,237,237)\",\"ticklen\":6,\"ticks\":\"inside\"},\"colorscale\":[[0,\"rgb(20,44,66)\"],[1,\"rgb(90,179,244)\"]],\"type\":\"histogram2dcontour\"}],\"histogram2d\":[{\"colorbar\":{\"outlinewidth\":0,\"tickcolor\":\"rgb(237,237,237)\",\"ticklen\":6,\"ticks\":\"inside\"},\"colorscale\":[[0,\"rgb(20,44,66)\"],[1,\"rgb(90,179,244)\"]],\"type\":\"histogram2d\"}],\"histogram\":[{\"marker\":{\"pattern\":{\"fillmode\":\"overlay\",\"size\":10,\"solidity\":0.2}},\"type\":\"histogram\"}],\"mesh3d\":[{\"colorbar\":{\"outlinewidth\":0,\"tickcolor\":\"rgb(237,237,237)\",\"ticklen\":6,\"ticks\":\"inside\"},\"type\":\"mesh3d\"}],\"parcoords\":[{\"line\":{\"colorbar\":{\"outlinewidth\":0,\"tickcolor\":\"rgb(237,237,237)\",\"ticklen\":6,\"ticks\":\"inside\"}},\"type\":\"parcoords\"}],\"pie\":[{\"automargin\":true,\"type\":\"pie\"}],\"scatter3d\":[{\"line\":{\"colorbar\":{\"outlinewidth\":0,\"tickcolor\":\"rgb(237,237,237)\",\"ticklen\":6,\"ticks\":\"inside\"}},\"marker\":{\"colorbar\":{\"outlinewidth\":0,\"tickcolor\":\"rgb(237,237,237)\",\"ticklen\":6,\"ticks\":\"inside\"}},\"type\":\"scatter3d\"}],\"scattercarpet\":[{\"marker\":{\"colorbar\":{\"outlinewidth\":0,\"tickcolor\":\"rgb(237,237,237)\",\"ticklen\":6,\"ticks\":\"inside\"}},\"type\":\"scattercarpet\"}],\"scattergeo\":[{\"marker\":{\"colorbar\":{\"outlinewidth\":0,\"tickcolor\":\"rgb(237,237,237)\",\"ticklen\":6,\"ticks\":\"inside\"}},\"type\":\"scattergeo\"}],\"scattergl\":[{\"marker\":{\"colorbar\":{\"outlinewidth\":0,\"tickcolor\":\"rgb(237,237,237)\",\"ticklen\":6,\"ticks\":\"inside\"}},\"type\":\"scattergl\"}],\"scattermapbox\":[{\"marker\":{\"colorbar\":{\"outlinewidth\":0,\"tickcolor\":\"rgb(237,237,237)\",\"ticklen\":6,\"ticks\":\"inside\"}},\"type\":\"scattermapbox\"}],\"scatterpolargl\":[{\"marker\":{\"colorbar\":{\"outlinewidth\":0,\"tickcolor\":\"rgb(237,237,237)\",\"ticklen\":6,\"ticks\":\"inside\"}},\"type\":\"scatterpolargl\"}],\"scatterpolar\":[{\"marker\":{\"colorbar\":{\"outlinewidth\":0,\"tickcolor\":\"rgb(237,237,237)\",\"ticklen\":6,\"ticks\":\"inside\"}},\"type\":\"scatterpolar\"}],\"scatter\":[{\"fillpattern\":{\"fillmode\":\"overlay\",\"size\":10,\"solidity\":0.2},\"type\":\"scatter\"}],\"scatterternary\":[{\"marker\":{\"colorbar\":{\"outlinewidth\":0,\"tickcolor\":\"rgb(237,237,237)\",\"ticklen\":6,\"ticks\":\"inside\"}},\"type\":\"scatterternary\"}],\"surface\":[{\"colorbar\":{\"outlinewidth\":0,\"tickcolor\":\"rgb(237,237,237)\",\"ticklen\":6,\"ticks\":\"inside\"},\"colorscale\":[[0,\"rgb(20,44,66)\"],[1,\"rgb(90,179,244)\"]],\"type\":\"surface\"}],\"table\":[{\"cells\":{\"fill\":{\"color\":\"rgb(237,237,237)\"},\"line\":{\"color\":\"white\"}},\"header\":{\"fill\":{\"color\":\"rgb(217,217,217)\"},\"line\":{\"color\":\"white\"}},\"type\":\"table\"}]},\"layout\":{\"annotationdefaults\":{\"arrowhead\":0,\"arrowwidth\":1},\"autotypenumbers\":\"strict\",\"coloraxis\":{\"colorbar\":{\"outlinewidth\":0,\"tickcolor\":\"rgb(237,237,237)\",\"ticklen\":6,\"ticks\":\"inside\"}},\"colorscale\":{\"sequential\":[[0,\"rgb(20,44,66)\"],[1,\"rgb(90,179,244)\"]],\"sequentialminus\":[[0,\"rgb(20,44,66)\"],[1,\"rgb(90,179,244)\"]]},\"colorway\":[\"#F8766D\",\"#A3A500\",\"#00BF7D\",\"#00B0F6\",\"#E76BF3\"],\"font\":{\"color\":\"rgb(51,51,51)\"},\"geo\":{\"bgcolor\":\"white\",\"lakecolor\":\"white\",\"landcolor\":\"rgb(237,237,237)\",\"showlakes\":true,\"showland\":true,\"subunitcolor\":\"white\"},\"hoverlabel\":{\"align\":\"left\"},\"hovermode\":\"closest\",\"paper_bgcolor\":\"white\",\"plot_bgcolor\":\"rgb(237,237,237)\",\"polar\":{\"angularaxis\":{\"gridcolor\":\"white\",\"linecolor\":\"white\",\"showgrid\":true,\"tickcolor\":\"rgb(51,51,51)\",\"ticks\":\"outside\"},\"bgcolor\":\"rgb(237,237,237)\",\"radialaxis\":{\"gridcolor\":\"white\",\"linecolor\":\"white\",\"showgrid\":true,\"tickcolor\":\"rgb(51,51,51)\",\"ticks\":\"outside\"}},\"scene\":{\"xaxis\":{\"backgroundcolor\":\"rgb(237,237,237)\",\"gridcolor\":\"white\",\"gridwidth\":2,\"linecolor\":\"white\",\"showbackground\":true,\"showgrid\":true,\"tickcolor\":\"rgb(51,51,51)\",\"ticks\":\"outside\",\"zerolinecolor\":\"white\"},\"yaxis\":{\"backgroundcolor\":\"rgb(237,237,237)\",\"gridcolor\":\"white\",\"gridwidth\":2,\"linecolor\":\"white\",\"showbackground\":true,\"showgrid\":true,\"tickcolor\":\"rgb(51,51,51)\",\"ticks\":\"outside\",\"zerolinecolor\":\"white\"},\"zaxis\":{\"backgroundcolor\":\"rgb(237,237,237)\",\"gridcolor\":\"white\",\"gridwidth\":2,\"linecolor\":\"white\",\"showbackground\":true,\"showgrid\":true,\"tickcolor\":\"rgb(51,51,51)\",\"ticks\":\"outside\",\"zerolinecolor\":\"white\"}},\"shapedefaults\":{\"fillcolor\":\"black\",\"line\":{\"width\":0},\"opacity\":0.3},\"ternary\":{\"aaxis\":{\"gridcolor\":\"white\",\"linecolor\":\"white\",\"showgrid\":true,\"tickcolor\":\"rgb(51,51,51)\",\"ticks\":\"outside\"},\"baxis\":{\"gridcolor\":\"white\",\"linecolor\":\"white\",\"showgrid\":true,\"tickcolor\":\"rgb(51,51,51)\",\"ticks\":\"outside\"},\"bgcolor\":\"rgb(237,237,237)\",\"caxis\":{\"gridcolor\":\"white\",\"linecolor\":\"white\",\"showgrid\":true,\"tickcolor\":\"rgb(51,51,51)\",\"ticks\":\"outside\"}},\"xaxis\":{\"automargin\":true,\"gridcolor\":\"white\",\"linecolor\":\"white\",\"showgrid\":true,\"tickcolor\":\"rgb(51,51,51)\",\"ticks\":\"outside\",\"title\":{\"standoff\":15},\"zerolinecolor\":\"white\"},\"yaxis\":{\"automargin\":true,\"gridcolor\":\"white\",\"linecolor\":\"white\",\"showgrid\":true,\"tickcolor\":\"rgb(51,51,51)\",\"ticks\":\"outside\",\"title\":{\"standoff\":15},\"zerolinecolor\":\"white\"}}},\"xaxis\":{\"anchor\":\"y\",\"domain\":[0.0,0.0944],\"matches\":\"x71\",\"showticklabels\":false,\"ticks\":\"\",\"tickformat\":\"s\"},\"yaxis\":{\"anchor\":\"x\",\"domain\":[0.8837499999999998,0.9999999999999998],\"matches\":\"y71\",\"type\":\"category\",\"visible\":false},\"xaxis2\":{\"anchor\":\"y2\",\"domain\":[0.0984,0.1928],\"matches\":\"x71\",\"showticklabels\":false,\"ticks\":\"\",\"tickformat\":\"s\"},\"yaxis2\":{\"anchor\":\"x2\",\"domain\":[0.8837499999999998,0.9999999999999998],\"matches\":\"y71\",\"showticklabels\":false,\"type\":\"category\",\"visible\":false},\"xaxis3\":{\"anchor\":\"y3\",\"domain\":[0.1968,0.2912],\"matches\":\"x71\",\"showticklabels\":false,\"ticks\":\"\",\"tickformat\":\"s\"},\"yaxis3\":{\"anchor\":\"x3\",\"domain\":[0.8837499999999998,0.9999999999999998],\"matches\":\"y71\",\"showticklabels\":false,\"type\":\"category\",\"visible\":false},\"xaxis4\":{\"anchor\":\"y4\",\"domain\":[0.2952,0.3896],\"matches\":\"x71\",\"showticklabels\":false,\"ticks\":\"\",\"tickformat\":\"s\"},\"yaxis4\":{\"anchor\":\"x4\",\"domain\":[0.8837499999999998,0.9999999999999998],\"matches\":\"y71\",\"showticklabels\":false,\"type\":\"category\",\"visible\":false},\"xaxis5\":{\"anchor\":\"y5\",\"domain\":[0.3936,0.488],\"matches\":\"x71\",\"showticklabels\":false,\"tickformat\":\"s\"},\"yaxis5\":{\"anchor\":\"x5\",\"domain\":[0.8837499999999998,0.9999999999999998],\"matches\":\"y71\",\"showticklabels\":false,\"type\":\"category\",\"visible\":false},\"xaxis6\":{\"anchor\":\"y6\",\"domain\":[0.492,0.5864],\"matches\":\"x71\",\"showticklabels\":false,\"ticks\":\"\",\"tickformat\":\"s\"},\"yaxis6\":{\"anchor\":\"x6\",\"domain\":[0.8837499999999998,0.9999999999999998],\"matches\":\"y71\",\"showticklabels\":false,\"type\":\"category\",\"visible\":false},\"xaxis7\":{\"anchor\":\"y7\",\"domain\":[0.5904,0.6848000000000001],\"matches\":\"x71\",\"showticklabels\":false,\"tickformat\":\"s\"},\"yaxis7\":{\"anchor\":\"x7\",\"domain\":[0.8837499999999998,0.9999999999999998],\"matches\":\"y71\",\"showticklabels\":false,\"type\":\"category\",\"visible\":false},\"xaxis8\":{\"anchor\":\"y8\",\"domain\":[0.6888000000000001,0.7832000000000001],\"matches\":\"x71\",\"showticklabels\":false,\"ticks\":\"\",\"tickformat\":\"s\"},\"yaxis8\":{\"anchor\":\"x8\",\"domain\":[0.8837499999999998,0.9999999999999998],\"matches\":\"y71\",\"showticklabels\":false,\"type\":\"category\",\"visible\":false},\"xaxis9\":{\"anchor\":\"y9\",\"domain\":[0.7872000000000001,0.8816000000000002],\"matches\":\"x71\",\"showticklabels\":false,\"ticks\":\"\",\"tickformat\":\"s\"},\"yaxis9\":{\"anchor\":\"x9\",\"domain\":[0.8837499999999998,0.9999999999999998],\"matches\":\"y71\",\"showticklabels\":false,\"type\":\"category\",\"visible\":false},\"xaxis10\":{\"anchor\":\"y10\",\"domain\":[0.8856000000000002,0.9800000000000002],\"matches\":\"x71\",\"showticklabels\":false,\"ticks\":\"\",\"tickformat\":\"s\"},\"yaxis10\":{\"anchor\":\"x10\",\"domain\":[0.8837499999999998,0.9999999999999998],\"matches\":\"y71\",\"showticklabels\":false,\"type\":\"category\",\"visible\":false},\"xaxis11\":{\"anchor\":\"y11\",\"domain\":[0.0,0.0944],\"matches\":\"x71\",\"showticklabels\":false,\"ticks\":\"\",\"tickformat\":\"s\"},\"yaxis11\":{\"anchor\":\"x11\",\"domain\":[0.7574999999999998,0.8737499999999998],\"matches\":\"y71\",\"type\":\"category\",\"visible\":false},\"xaxis12\":{\"anchor\":\"y12\",\"domain\":[0.0984,0.1928],\"matches\":\"x71\",\"showticklabels\":false,\"ticks\":\"\",\"tickformat\":\"s\"},\"yaxis12\":{\"anchor\":\"x12\",\"domain\":[0.7574999999999998,0.8737499999999998],\"matches\":\"y71\",\"showticklabels\":false,\"type\":\"category\",\"visible\":false},\"xaxis13\":{\"anchor\":\"y13\",\"domain\":[0.1968,0.2912],\"matches\":\"x71\",\"showticklabels\":false,\"ticks\":\"\",\"tickformat\":\"s\"},\"yaxis13\":{\"anchor\":\"x13\",\"domain\":[0.7574999999999998,0.8737499999999998],\"matches\":\"y71\",\"showticklabels\":false,\"type\":\"category\",\"visible\":false},\"xaxis14\":{\"anchor\":\"y14\",\"domain\":[0.2952,0.3896],\"matches\":\"x71\",\"showticklabels\":false,\"ticks\":\"\",\"tickformat\":\"s\"},\"yaxis14\":{\"anchor\":\"x14\",\"domain\":[0.7574999999999998,0.8737499999999998],\"matches\":\"y71\",\"showticklabels\":false,\"type\":\"category\",\"visible\":false},\"xaxis15\":{\"anchor\":\"y15\",\"domain\":[0.3936,0.488],\"matches\":\"x71\",\"showticklabels\":false,\"tickformat\":\"s\"},\"yaxis15\":{\"anchor\":\"x15\",\"domain\":[0.7574999999999998,0.8737499999999998],\"matches\":\"y71\",\"showticklabels\":false,\"type\":\"category\",\"visible\":false},\"xaxis16\":{\"anchor\":\"y16\",\"domain\":[0.492,0.5864],\"matches\":\"x71\",\"showticklabels\":false,\"ticks\":\"\",\"tickformat\":\"s\"},\"yaxis16\":{\"anchor\":\"x16\",\"domain\":[0.7574999999999998,0.8737499999999998],\"matches\":\"y71\",\"showticklabels\":false,\"type\":\"category\",\"visible\":false},\"xaxis17\":{\"anchor\":\"y17\",\"domain\":[0.5904,0.6848000000000001],\"matches\":\"x71\",\"showticklabels\":false,\"ticks\":\"\",\"tickformat\":\"s\"},\"yaxis17\":{\"anchor\":\"x17\",\"domain\":[0.7574999999999998,0.8737499999999998],\"matches\":\"y71\",\"showticklabels\":false,\"type\":\"category\",\"visible\":false},\"xaxis18\":{\"anchor\":\"y18\",\"domain\":[0.6888000000000001,0.7832000000000001],\"matches\":\"x71\",\"showticklabels\":false,\"ticks\":\"\",\"tickformat\":\"s\"},\"yaxis18\":{\"anchor\":\"x18\",\"domain\":[0.7574999999999998,0.8737499999999998],\"matches\":\"y71\",\"showticklabels\":false,\"type\":\"category\",\"visible\":false},\"xaxis19\":{\"anchor\":\"y19\",\"domain\":[0.7872000000000001,0.8816000000000002],\"matches\":\"x71\",\"showticklabels\":false,\"ticks\":\"\",\"tickformat\":\"s\"},\"yaxis19\":{\"anchor\":\"x19\",\"domain\":[0.7574999999999998,0.8737499999999998],\"matches\":\"y71\",\"showticklabels\":false,\"type\":\"category\",\"visible\":false},\"xaxis20\":{\"anchor\":\"y20\",\"domain\":[0.8856000000000002,0.9800000000000002],\"matches\":\"x71\",\"showticklabels\":false,\"ticks\":\"\",\"tickformat\":\"s\"},\"yaxis20\":{\"anchor\":\"x20\",\"domain\":[0.7574999999999998,0.8737499999999998],\"matches\":\"y71\",\"showticklabels\":false,\"type\":\"category\",\"visible\":false},\"xaxis21\":{\"anchor\":\"y21\",\"domain\":[0.0,0.0944],\"matches\":\"x71\",\"showticklabels\":false,\"ticks\":\"\",\"tickformat\":\"s\"},\"yaxis21\":{\"anchor\":\"x21\",\"domain\":[0.63125,0.7474999999999999],\"matches\":\"y71\",\"type\":\"category\",\"visible\":false},\"xaxis22\":{\"anchor\":\"y22\",\"domain\":[0.0984,0.1928],\"matches\":\"x71\",\"showticklabels\":false,\"ticks\":\"\",\"tickformat\":\"s\"},\"yaxis22\":{\"anchor\":\"x22\",\"domain\":[0.63125,0.7474999999999999],\"matches\":\"y71\",\"showticklabels\":false,\"type\":\"category\",\"visible\":false},\"xaxis23\":{\"anchor\":\"y23\",\"domain\":[0.1968,0.2912],\"matches\":\"x71\",\"showticklabels\":false,\"ticks\":\"\",\"tickformat\":\"s\"},\"yaxis23\":{\"anchor\":\"x23\",\"domain\":[0.63125,0.7474999999999999],\"matches\":\"y71\",\"showticklabels\":false,\"type\":\"category\",\"visible\":false},\"xaxis24\":{\"anchor\":\"y24\",\"domain\":[0.2952,0.3896],\"matches\":\"x71\",\"showticklabels\":false,\"ticks\":\"\",\"tickformat\":\"s\"},\"yaxis24\":{\"anchor\":\"x24\",\"domain\":[0.63125,0.7474999999999999],\"matches\":\"y71\",\"showticklabels\":false,\"type\":\"category\",\"visible\":false},\"xaxis25\":{\"anchor\":\"y25\",\"domain\":[0.3936,0.488],\"matches\":\"x71\",\"showticklabels\":false,\"tickformat\":\"s\"},\"yaxis25\":{\"anchor\":\"x25\",\"domain\":[0.63125,0.7474999999999999],\"matches\":\"y71\",\"showticklabels\":false,\"type\":\"category\",\"visible\":false},\"xaxis26\":{\"anchor\":\"y26\",\"domain\":[0.492,0.5864],\"matches\":\"x71\",\"showticklabels\":false,\"tickformat\":\"s\"},\"yaxis26\":{\"anchor\":\"x26\",\"domain\":[0.63125,0.7474999999999999],\"matches\":\"y71\",\"showticklabels\":false,\"type\":\"category\",\"visible\":false},\"xaxis27\":{\"anchor\":\"y27\",\"domain\":[0.5904,0.6848000000000001],\"matches\":\"x71\",\"showticklabels\":false,\"tickformat\":\"s\"},\"yaxis27\":{\"anchor\":\"x27\",\"domain\":[0.63125,0.7474999999999999],\"matches\":\"y71\",\"showticklabels\":false,\"type\":\"category\",\"visible\":false},\"xaxis28\":{\"anchor\":\"y28\",\"domain\":[0.6888000000000001,0.7832000000000001],\"matches\":\"x71\",\"showticklabels\":false,\"ticks\":\"\",\"tickformat\":\"s\"},\"yaxis28\":{\"anchor\":\"x28\",\"domain\":[0.63125,0.7474999999999999],\"matches\":\"y71\",\"showticklabels\":false,\"type\":\"category\",\"visible\":false},\"xaxis29\":{\"anchor\":\"y29\",\"domain\":[0.7872000000000001,0.8816000000000002],\"matches\":\"x71\",\"showticklabels\":false,\"ticks\":\"\",\"tickformat\":\"s\"},\"yaxis29\":{\"anchor\":\"x29\",\"domain\":[0.63125,0.7474999999999999],\"matches\":\"y71\",\"showticklabels\":false,\"type\":\"category\",\"visible\":false},\"xaxis30\":{\"anchor\":\"y30\",\"domain\":[0.8856000000000002,0.9800000000000002],\"matches\":\"x71\",\"showticklabels\":false,\"ticks\":\"\",\"tickformat\":\"s\"},\"yaxis30\":{\"anchor\":\"x30\",\"domain\":[0.63125,0.7474999999999999],\"matches\":\"y71\",\"showticklabels\":false,\"type\":\"category\",\"visible\":false},\"xaxis31\":{\"anchor\":\"y31\",\"domain\":[0.0,0.0944],\"matches\":\"x71\",\"showticklabels\":false,\"ticks\":\"\",\"tickformat\":\"s\"},\"yaxis31\":{\"anchor\":\"x31\",\"domain\":[0.505,0.62125],\"matches\":\"y71\",\"type\":\"category\",\"visible\":false},\"xaxis32\":{\"anchor\":\"y32\",\"domain\":[0.0984,0.1928],\"matches\":\"x71\",\"showticklabels\":false,\"ticks\":\"\",\"tickformat\":\"s\"},\"yaxis32\":{\"anchor\":\"x32\",\"domain\":[0.505,0.62125],\"matches\":\"y71\",\"showticklabels\":false,\"type\":\"category\",\"visible\":false},\"xaxis33\":{\"anchor\":\"y33\",\"domain\":[0.1968,0.2912],\"matches\":\"x71\",\"showticklabels\":false,\"ticks\":\"\",\"tickformat\":\"s\"},\"yaxis33\":{\"anchor\":\"x33\",\"domain\":[0.505,0.62125],\"matches\":\"y71\",\"showticklabels\":false,\"type\":\"category\",\"visible\":false},\"xaxis34\":{\"anchor\":\"y34\",\"domain\":[0.2952,0.3896],\"matches\":\"x71\",\"showticklabels\":false,\"ticks\":\"\",\"tickformat\":\"s\"},\"yaxis34\":{\"anchor\":\"x34\",\"domain\":[0.505,0.62125],\"matches\":\"y71\",\"showticklabels\":false,\"type\":\"category\",\"visible\":false},\"xaxis35\":{\"anchor\":\"y35\",\"domain\":[0.3936,0.488],\"matches\":\"x71\",\"showticklabels\":false,\"tickformat\":\"s\"},\"yaxis35\":{\"anchor\":\"x35\",\"domain\":[0.505,0.62125],\"matches\":\"y71\",\"showticklabels\":false,\"type\":\"category\",\"visible\":false},\"xaxis36\":{\"anchor\":\"y36\",\"domain\":[0.492,0.5864],\"matches\":\"x71\",\"showticklabels\":false,\"ticks\":\"\",\"tickformat\":\"s\"},\"yaxis36\":{\"anchor\":\"x36\",\"domain\":[0.505,0.62125],\"matches\":\"y71\",\"showticklabels\":false,\"type\":\"category\",\"visible\":false},\"xaxis37\":{\"anchor\":\"y37\",\"domain\":[0.5904,0.6848000000000001],\"matches\":\"x71\",\"showticklabels\":false,\"tickformat\":\"s\"},\"yaxis37\":{\"anchor\":\"x37\",\"domain\":[0.505,0.62125],\"matches\":\"y71\",\"showticklabels\":false,\"type\":\"category\",\"visible\":false},\"xaxis38\":{\"anchor\":\"y38\",\"domain\":[0.6888000000000001,0.7832000000000001],\"matches\":\"x71\",\"showticklabels\":false,\"tickformat\":\"s\"},\"yaxis38\":{\"anchor\":\"x38\",\"domain\":[0.505,0.62125],\"matches\":\"y71\",\"showticklabels\":false,\"type\":\"category\",\"visible\":false},\"xaxis39\":{\"anchor\":\"y39\",\"domain\":[0.7872000000000001,0.8816000000000002],\"matches\":\"x71\",\"showticklabels\":false,\"ticks\":\"\",\"tickformat\":\"s\"},\"yaxis39\":{\"anchor\":\"x39\",\"domain\":[0.505,0.62125],\"matches\":\"y71\",\"showticklabels\":false,\"type\":\"category\",\"visible\":false},\"xaxis40\":{\"anchor\":\"y40\",\"domain\":[0.8856000000000002,0.9800000000000002],\"matches\":\"x71\",\"showticklabels\":false,\"ticks\":\"\",\"tickformat\":\"s\"},\"yaxis40\":{\"anchor\":\"x40\",\"domain\":[0.505,0.62125],\"matches\":\"y71\",\"showticklabels\":false,\"type\":\"category\",\"visible\":false},\"xaxis41\":{\"anchor\":\"y41\",\"domain\":[0.0,0.0944],\"matches\":\"x71\",\"showticklabels\":false,\"ticks\":\"\",\"tickformat\":\"s\"},\"yaxis41\":{\"anchor\":\"x41\",\"domain\":[0.37875000000000003,0.495],\"matches\":\"y71\",\"type\":\"category\",\"visible\":false},\"xaxis42\":{\"anchor\":\"y42\",\"domain\":[0.0984,0.1928],\"matches\":\"x71\",\"showticklabels\":false,\"ticks\":\"\",\"tickformat\":\"s\"},\"yaxis42\":{\"anchor\":\"x42\",\"domain\":[0.37875000000000003,0.495],\"matches\":\"y71\",\"showticklabels\":false,\"type\":\"category\",\"visible\":false},\"xaxis43\":{\"anchor\":\"y43\",\"domain\":[0.1968,0.2912],\"matches\":\"x71\",\"showticklabels\":false,\"ticks\":\"\",\"tickformat\":\"s\"},\"yaxis43\":{\"anchor\":\"x43\",\"domain\":[0.37875000000000003,0.495],\"matches\":\"y71\",\"showticklabels\":false,\"type\":\"category\",\"visible\":false},\"xaxis44\":{\"anchor\":\"y44\",\"domain\":[0.2952,0.3896],\"matches\":\"x71\",\"showticklabels\":false,\"ticks\":\"\",\"tickformat\":\"s\"},\"yaxis44\":{\"anchor\":\"x44\",\"domain\":[0.37875000000000003,0.495],\"matches\":\"y71\",\"showticklabels\":false,\"type\":\"category\",\"visible\":false},\"xaxis45\":{\"anchor\":\"y45\",\"domain\":[0.3936,0.488],\"matches\":\"x71\",\"showticklabels\":false,\"ticks\":\"\",\"tickformat\":\"s\"},\"yaxis45\":{\"anchor\":\"x45\",\"domain\":[0.37875000000000003,0.495],\"matches\":\"y71\",\"showticklabels\":false,\"type\":\"category\",\"visible\":false},\"xaxis46\":{\"anchor\":\"y46\",\"domain\":[0.492,0.5864],\"matches\":\"x71\",\"showticklabels\":false,\"ticks\":\"\",\"tickformat\":\"s\"},\"yaxis46\":{\"anchor\":\"x46\",\"domain\":[0.37875000000000003,0.495],\"matches\":\"y71\",\"showticklabels\":false,\"type\":\"category\",\"visible\":false},\"xaxis47\":{\"anchor\":\"y47\",\"domain\":[0.5904,0.6848000000000001],\"matches\":\"x71\",\"showticklabels\":false,\"ticks\":\"\",\"tickformat\":\"s\"},\"yaxis47\":{\"anchor\":\"x47\",\"domain\":[0.37875000000000003,0.495],\"matches\":\"y71\",\"showticklabels\":false,\"type\":\"category\",\"visible\":false},\"xaxis48\":{\"anchor\":\"y48\",\"domain\":[0.6888000000000001,0.7832000000000001],\"matches\":\"x71\",\"showticklabels\":false,\"ticks\":\"\",\"tickformat\":\"s\"},\"yaxis48\":{\"anchor\":\"x48\",\"domain\":[0.37875000000000003,0.495],\"matches\":\"y71\",\"showticklabels\":false,\"type\":\"category\",\"visible\":false},\"xaxis49\":{\"anchor\":\"y49\",\"domain\":[0.7872000000000001,0.8816000000000002],\"matches\":\"x71\",\"showticklabels\":false,\"ticks\":\"\",\"tickformat\":\"s\"},\"yaxis49\":{\"anchor\":\"x49\",\"domain\":[0.37875000000000003,0.495],\"matches\":\"y71\",\"showticklabels\":false,\"type\":\"category\",\"visible\":false},\"xaxis50\":{\"anchor\":\"y50\",\"domain\":[0.8856000000000002,0.9800000000000002],\"matches\":\"x71\",\"showticklabels\":false,\"ticks\":\"\",\"tickformat\":\"s\"},\"yaxis50\":{\"anchor\":\"x50\",\"domain\":[0.37875000000000003,0.495],\"matches\":\"y71\",\"showticklabels\":false,\"type\":\"category\",\"visible\":false},\"xaxis51\":{\"anchor\":\"y51\",\"domain\":[0.0,0.0944],\"matches\":\"x71\",\"showticklabels\":false,\"ticks\":\"\",\"tickformat\":\"s\"},\"yaxis51\":{\"anchor\":\"x51\",\"domain\":[0.2525,0.36875],\"matches\":\"y71\",\"type\":\"category\",\"visible\":false},\"xaxis52\":{\"anchor\":\"y52\",\"domain\":[0.0984,0.1928],\"matches\":\"x71\",\"showticklabels\":false,\"ticks\":\"\",\"tickformat\":\"s\"},\"yaxis52\":{\"anchor\":\"x52\",\"domain\":[0.2525,0.36875],\"matches\":\"y71\",\"showticklabels\":false,\"type\":\"category\",\"visible\":false},\"xaxis53\":{\"anchor\":\"y53\",\"domain\":[0.1968,0.2912],\"matches\":\"x71\",\"showticklabels\":false,\"tickformat\":\"s\"},\"yaxis53\":{\"anchor\":\"x53\",\"domain\":[0.2525,0.36875],\"matches\":\"y71\",\"showticklabels\":false,\"type\":\"category\",\"visible\":false},\"xaxis54\":{\"anchor\":\"y54\",\"domain\":[0.2952,0.3896],\"matches\":\"x71\",\"showticklabels\":false,\"ticks\":\"\",\"tickformat\":\"s\"},\"yaxis54\":{\"anchor\":\"x54\",\"domain\":[0.2525,0.36875],\"matches\":\"y71\",\"showticklabels\":false,\"type\":\"category\",\"visible\":false},\"xaxis55\":{\"anchor\":\"y55\",\"domain\":[0.3936,0.488],\"matches\":\"x71\",\"showticklabels\":false,\"tickformat\":\"s\"},\"yaxis55\":{\"anchor\":\"x55\",\"domain\":[0.2525,0.36875],\"matches\":\"y71\",\"showticklabels\":false,\"type\":\"category\",\"visible\":false},\"xaxis56\":{\"anchor\":\"y56\",\"domain\":[0.492,0.5864],\"matches\":\"x71\",\"showticklabels\":false,\"tickformat\":\"s\"},\"yaxis56\":{\"anchor\":\"x56\",\"domain\":[0.2525,0.36875],\"matches\":\"y71\",\"showticklabels\":false,\"type\":\"category\",\"visible\":false},\"xaxis57\":{\"anchor\":\"y57\",\"domain\":[0.5904,0.6848000000000001],\"matches\":\"x71\",\"showticklabels\":false,\"tickformat\":\"s\"},\"yaxis57\":{\"anchor\":\"x57\",\"domain\":[0.2525,0.36875],\"matches\":\"y71\",\"showticklabels\":false,\"type\":\"category\",\"visible\":false},\"xaxis58\":{\"anchor\":\"y58\",\"domain\":[0.6888000000000001,0.7832000000000001],\"matches\":\"x71\",\"showticklabels\":false,\"tickformat\":\"s\"},\"yaxis58\":{\"anchor\":\"x58\",\"domain\":[0.2525,0.36875],\"matches\":\"y71\",\"showticklabels\":false,\"type\":\"category\",\"visible\":false},\"xaxis59\":{\"anchor\":\"y59\",\"domain\":[0.7872000000000001,0.8816000000000002],\"matches\":\"x71\",\"showticklabels\":false,\"ticks\":\"\",\"tickformat\":\"s\"},\"yaxis59\":{\"anchor\":\"x59\",\"domain\":[0.2525,0.36875],\"matches\":\"y71\",\"showticklabels\":false,\"type\":\"category\",\"visible\":false},\"xaxis60\":{\"anchor\":\"y60\",\"domain\":[0.8856000000000002,0.9800000000000002],\"matches\":\"x71\",\"showticklabels\":false,\"ticks\":\"\",\"tickformat\":\"s\"},\"yaxis60\":{\"anchor\":\"x60\",\"domain\":[0.2525,0.36875],\"matches\":\"y71\",\"showticklabels\":false,\"type\":\"category\",\"visible\":false},\"xaxis61\":{\"anchor\":\"y61\",\"domain\":[0.0,0.0944],\"matches\":\"x71\",\"showticklabels\":false,\"ticks\":\"\",\"tickformat\":\"s\"},\"yaxis61\":{\"anchor\":\"x61\",\"domain\":[0.12625,0.2425],\"matches\":\"y71\",\"type\":\"category\",\"visible\":false},\"xaxis62\":{\"anchor\":\"y62\",\"domain\":[0.0984,0.1928],\"matches\":\"x71\",\"showticklabels\":false,\"ticks\":\"\",\"tickformat\":\"s\"},\"yaxis62\":{\"anchor\":\"x62\",\"domain\":[0.12625,0.2425],\"matches\":\"y71\",\"showticklabels\":false,\"type\":\"category\",\"visible\":false},\"xaxis63\":{\"anchor\":\"y63\",\"domain\":[0.1968,0.2912],\"matches\":\"x71\",\"showticklabels\":false,\"ticks\":\"\",\"tickformat\":\"s\"},\"yaxis63\":{\"anchor\":\"x63\",\"domain\":[0.12625,0.2425],\"matches\":\"y71\",\"showticklabels\":false,\"type\":\"category\",\"visible\":false},\"xaxis64\":{\"anchor\":\"y64\",\"domain\":[0.2952,0.3896],\"matches\":\"x71\",\"showticklabels\":false,\"ticks\":\"\",\"tickformat\":\"s\"},\"yaxis64\":{\"anchor\":\"x64\",\"domain\":[0.12625,0.2425],\"matches\":\"y71\",\"showticklabels\":false,\"type\":\"category\",\"visible\":false},\"xaxis65\":{\"anchor\":\"y65\",\"domain\":[0.3936,0.488],\"matches\":\"x71\",\"showticklabels\":false,\"tickformat\":\"s\"},\"yaxis65\":{\"anchor\":\"x65\",\"domain\":[0.12625,0.2425],\"matches\":\"y71\",\"showticklabels\":false,\"type\":\"category\",\"visible\":false},\"xaxis66\":{\"anchor\":\"y66\",\"domain\":[0.492,0.5864],\"matches\":\"x71\",\"showticklabels\":false,\"ticks\":\"\",\"tickformat\":\"s\"},\"yaxis66\":{\"anchor\":\"x66\",\"domain\":[0.12625,0.2425],\"matches\":\"y71\",\"showticklabels\":false,\"type\":\"category\",\"visible\":false},\"xaxis67\":{\"anchor\":\"y67\",\"domain\":[0.5904,0.6848000000000001],\"matches\":\"x71\",\"showticklabels\":false,\"tickformat\":\"s\"},\"yaxis67\":{\"anchor\":\"x67\",\"domain\":[0.12625,0.2425],\"matches\":\"y71\",\"showticklabels\":false,\"type\":\"category\",\"visible\":false},\"xaxis68\":{\"anchor\":\"y68\",\"domain\":[0.6888000000000001,0.7832000000000001],\"matches\":\"x71\",\"showticklabels\":false,\"ticks\":\"\",\"tickformat\":\"s\"},\"yaxis68\":{\"anchor\":\"x68\",\"domain\":[0.12625,0.2425],\"matches\":\"y71\",\"showticklabels\":false,\"type\":\"category\",\"visible\":false},\"xaxis69\":{\"anchor\":\"y69\",\"domain\":[0.7872000000000001,0.8816000000000002],\"matches\":\"x71\",\"showticklabels\":false,\"ticks\":\"\",\"tickformat\":\"s\"},\"yaxis69\":{\"anchor\":\"x69\",\"domain\":[0.12625,0.2425],\"matches\":\"y71\",\"showticklabels\":false,\"type\":\"category\",\"visible\":false},\"xaxis70\":{\"anchor\":\"y70\",\"domain\":[0.8856000000000002,0.9800000000000002],\"matches\":\"x71\",\"showticklabels\":false,\"ticks\":\"\",\"tickformat\":\"s\"},\"yaxis70\":{\"anchor\":\"x70\",\"domain\":[0.12625,0.2425],\"matches\":\"y71\",\"showticklabels\":false,\"type\":\"category\",\"visible\":false},\"xaxis71\":{\"anchor\":\"y71\",\"domain\":[0.0,0.0944],\"ticks\":\"outside\",\"tickformat\":\"s\"},\"yaxis71\":{\"anchor\":\"x71\",\"domain\":[0.0,0.11624999999999999],\"type\":\"category\",\"visible\":false},\"xaxis72\":{\"anchor\":\"y72\",\"domain\":[0.0984,0.1928],\"matches\":\"x71\",\"ticks\":\"outside\",\"tickformat\":\"s\"},\"yaxis72\":{\"anchor\":\"x72\",\"domain\":[0.0,0.11624999999999999],\"matches\":\"y71\",\"showticklabels\":false,\"type\":\"category\",\"visible\":false},\"xaxis73\":{\"anchor\":\"y73\",\"domain\":[0.1968,0.2912],\"matches\":\"x71\",\"ticks\":\"outside\",\"tickformat\":\"s\"},\"yaxis73\":{\"anchor\":\"x73\",\"domain\":[0.0,0.11624999999999999],\"matches\":\"y71\",\"showticklabels\":false,\"type\":\"category\",\"visible\":false},\"xaxis74\":{\"anchor\":\"y74\",\"domain\":[0.2952,0.3896],\"matches\":\"x71\",\"ticks\":\"outside\",\"tickformat\":\"s\"},\"yaxis74\":{\"anchor\":\"x74\",\"domain\":[0.0,0.11624999999999999],\"matches\":\"y71\",\"showticklabels\":false,\"type\":\"category\",\"visible\":false},\"xaxis75\":{\"anchor\":\"y75\",\"domain\":[0.3936,0.488],\"matches\":\"x71\",\"ticks\":\"outside\",\"tickformat\":\"s\"},\"yaxis75\":{\"anchor\":\"x75\",\"domain\":[0.0,0.11624999999999999],\"matches\":\"y71\",\"showticklabels\":false,\"type\":\"category\",\"visible\":false},\"xaxis76\":{\"anchor\":\"y76\",\"domain\":[0.492,0.5864],\"matches\":\"x71\",\"ticks\":\"outside\",\"tickformat\":\"s\"},\"yaxis76\":{\"anchor\":\"x76\",\"domain\":[0.0,0.11624999999999999],\"matches\":\"y71\",\"showticklabels\":false,\"type\":\"category\",\"visible\":false},\"xaxis77\":{\"anchor\":\"y77\",\"domain\":[0.5904,0.6848000000000001],\"matches\":\"x71\",\"ticks\":\"outside\",\"tickformat\":\"s\"},\"yaxis77\":{\"anchor\":\"x77\",\"domain\":[0.0,0.11624999999999999],\"matches\":\"y71\",\"showticklabels\":false,\"type\":\"category\",\"visible\":false},\"xaxis78\":{\"anchor\":\"y78\",\"domain\":[0.6888000000000001,0.7832000000000001],\"matches\":\"x71\",\"ticks\":\"outside\",\"tickformat\":\"s\"},\"yaxis78\":{\"anchor\":\"x78\",\"domain\":[0.0,0.11624999999999999],\"matches\":\"y71\",\"showticklabels\":false,\"type\":\"category\",\"visible\":false},\"xaxis79\":{\"anchor\":\"y79\",\"domain\":[0.7872000000000001,0.8816000000000002],\"matches\":\"x71\",\"ticks\":\"outside\",\"tickformat\":\"s\"},\"yaxis79\":{\"anchor\":\"x79\",\"domain\":[0.0,0.11624999999999999],\"matches\":\"y71\",\"showticklabels\":false,\"type\":\"category\",\"visible\":false},\"xaxis80\":{\"anchor\":\"y80\",\"domain\":[0.8856000000000002,0.9800000000000002],\"matches\":\"x71\",\"ticks\":\"outside\",\"tickformat\":\"s\"},\"yaxis80\":{\"anchor\":\"x80\",\"domain\":[0.0,0.11624999999999999],\"matches\":\"y71\",\"showticklabels\":false,\"type\":\"category\",\"visible\":false},\"annotations\":[{\"font\":{\"size\":14},\"showarrow\":false,\"text\":\"Promoter (<=1kb)\",\"x\":0.0472,\"xanchor\":\"center\",\"xref\":\"paper\",\"y\":0.9999999999999998,\"yanchor\":\"bottom\",\"yref\":\"paper\",\"textangle\":0},{\"font\":{\"size\":14},\"showarrow\":false,\"text\":\"Promoter (1-2kb)\",\"x\":0.1456,\"xanchor\":\"center\",\"xref\":\"paper\",\"y\":0.9999999999999998,\"yanchor\":\"bottom\",\"yref\":\"paper\",\"textangle\":0},{\"font\":{\"size\":14},\"showarrow\":false,\"text\":\"Promoter (2-3kb)\",\"x\":0.244,\"xanchor\":\"center\",\"xref\":\"paper\",\"y\":0.9999999999999998,\"yanchor\":\"bottom\",\"yref\":\"paper\",\"textangle\":0},{\"font\":{\"size\":14},\"showarrow\":false,\"text\":\"Distal Intergenic\",\"x\":0.34240000000000004,\"xanchor\":\"center\",\"xref\":\"paper\",\"y\":0.9999999999999998,\"yanchor\":\"bottom\",\"yref\":\"paper\",\"textangle\":0},{\"font\":{\"size\":14},\"showarrow\":false,\"text\":\"5' UTR\",\"x\":0.44079999999999997,\"xanchor\":\"center\",\"xref\":\"paper\",\"y\":0.9999999999999998,\"yanchor\":\"bottom\",\"yref\":\"paper\",\"textangle\":0},{\"font\":{\"size\":14},\"showarrow\":false,\"text\":\"3' UTR\",\"x\":0.5392,\"xanchor\":\"center\",\"xref\":\"paper\",\"y\":0.9999999999999998,\"yanchor\":\"bottom\",\"yref\":\"paper\",\"textangle\":0},{\"font\":{\"size\":14},\"showarrow\":false,\"text\":\"Downstream (<=300bp)\",\"x\":0.6376000000000001,\"xanchor\":\"center\",\"xref\":\"paper\",\"y\":0.9999999999999998,\"yanchor\":\"bottom\",\"yref\":\"paper\",\"textangle\":0},{\"font\":{\"size\":14},\"showarrow\":false,\"text\":\"Exon\",\"x\":0.7360000000000001,\"xanchor\":\"center\",\"xref\":\"paper\",\"y\":0.9999999999999998,\"yanchor\":\"bottom\",\"yref\":\"paper\",\"textangle\":0},{\"font\":{\"size\":14},\"showarrow\":false,\"text\":\"Intron\",\"x\":0.8344000000000001,\"xanchor\":\"center\",\"xref\":\"paper\",\"y\":0.9999999999999998,\"yanchor\":\"bottom\",\"yref\":\"paper\",\"textangle\":0},{\"font\":{\"size\":14},\"showarrow\":false,\"text\":\"no annotation\",\"x\":0.9328000000000002,\"xanchor\":\"center\",\"xref\":\"paper\",\"y\":0.9999999999999998,\"yanchor\":\"bottom\",\"yref\":\"paper\",\"textangle\":0},{\"font\":{\"size\":14},\"showarrow\":false,\"text\":\"cCRE\",\"textangle\":0,\"x\":0.9800000000000002,\"xanchor\":\"left\",\"xref\":\"paper\",\"y\":0.9418749999999998,\"yanchor\":\"middle\",\"yref\":\"paper\"},{\"font\":{\"size\":14},\"showarrow\":false,\"text\":\"Rep\",\"textangle\":0,\"x\":0.9800000000000002,\"xanchor\":\"left\",\"xref\":\"paper\",\"y\":0.8156249999999998,\"yanchor\":\"middle\",\"yref\":\"paper\"},{\"font\":{\"size\":14},\"showarrow\":false,\"text\":\"cCRE&Rep\",\"textangle\":0,\"x\":0.9800000000000002,\"xanchor\":\"left\",\"xref\":\"paper\",\"y\":0.689375,\"yanchor\":\"middle\",\"yref\":\"paper\"},{\"font\":{\"size\":14},\"showarrow\":false,\"text\":\"CTCF\",\"textangle\":0,\"x\":0.9800000000000002,\"xanchor\":\"left\",\"xref\":\"paper\",\"y\":0.563125,\"yanchor\":\"middle\",\"yref\":\"paper\"},{\"font\":{\"size\":14},\"showarrow\":false,\"text\":\"cCRE&CTCF\",\"textangle\":0,\"x\":0.9800000000000002,\"xanchor\":\"left\",\"xref\":\"paper\",\"y\":0.436875,\"yanchor\":\"middle\",\"yref\":\"paper\"},{\"font\":{\"size\":14},\"showarrow\":false,\"text\":\"Rep&CTCF\",\"textangle\":0,\"x\":0.9800000000000002,\"xanchor\":\"left\",\"xref\":\"paper\",\"y\":0.31062500000000004,\"yanchor\":\"middle\",\"yref\":\"paper\"},{\"font\":{\"size\":14},\"showarrow\":false,\"text\":\"cCRE&Rep&CTCF\",\"textangle\":0,\"x\":0.9800000000000002,\"xanchor\":\"left\",\"xref\":\"paper\",\"y\":0.184375,\"yanchor\":\"middle\",\"yref\":\"paper\"},{\"font\":{\"size\":14},\"showarrow\":false,\"text\":\"no annotation\",\"textangle\":0,\"x\":0.9800000000000002,\"xanchor\":\"left\",\"xref\":\"paper\",\"y\":0.058124999999999996,\"yanchor\":\"middle\",\"yref\":\"paper\"},{\"font\":{\"size\":14},\"showarrow\":false,\"text\":\"Flipon count\",\"x\":0.49,\"xanchor\":\"center\",\"xref\":\"paper\",\"y\":0,\"yanchor\":\"top\",\"yref\":\"paper\",\"yshift\":-30,\"textangle\":0}],\"title\":{\"text\":\"Flipons enriched with miRNA seed-regions (31,686)\",\"x\":0.0035,\"y\":0.985},\"font\":{\"family\":\"monospace\",\"size\":10},\"uniformtext\":{\"minsize\":10},\"margin\":{\"l\":5,\"t\":55,\"b\":55},\"legend\":{\"traceorder\":\"reversed\",\"orientation\":\"h\",\"yanchor\":\"bottom\",\"y\":1.03,\"xanchor\":\"right\",\"x\":0.98},\"height\":900,\"width\":1800},                        {\"responsive\": true}                    ).then(function(){\n",
       "                            \n",
       "var gd = document.getElementById('7ddf175e-8a0c-4e06-ad97-5ca63a3b17d5');\n",
       "var x = new MutationObserver(function (mutations, observer) {{\n",
       "        var display = window.getComputedStyle(gd).display;\n",
       "        if (!display || display === 'none') {{\n",
       "            console.log([gd, 'removed!']);\n",
       "            Plotly.purge(gd);\n",
       "            observer.disconnect();\n",
       "        }}\n",
       "}});\n",
       "\n",
       "// Listen for the removal of the full notebook cells\n",
       "var notebookContainer = gd.closest('#notebook-container');\n",
       "if (notebookContainer) {{\n",
       "    x.observe(notebookContainer, {childList: true});\n",
       "}}\n",
       "\n",
       "// Listen for the clearing of the current output cell\n",
       "var outputEl = gd.closest('.output');\n",
       "if (outputEl) {{\n",
       "    x.observe(outputEl, {childList: true});\n",
       "}}\n",
       "\n",
       "                        })                };                });            </script>        </div>"
      ]
     },
     "metadata": {},
     "output_type": "display_data"
    }
   ],
   "source": [
    "groups = [\"G4\", \"Z-DNA\", \"SIDD\", \"H-DNA\"][::-1]\n",
    "annotations = [\n",
    "    \"Promoter (<=1kb)\",\n",
    "    \"Promoter (1-2kb)\",\n",
    "    \"Promoter (2-3kb)\",\n",
    "    \"Distal Intergenic\",\n",
    "    \"5' UTR\",\n",
    "    \"3' UTR\",\n",
    "    \"Downstream (<=300bp)\",\n",
    "    \"Exon\",\n",
    "    \"Intron\",\n",
    "    \"no annotation\",\n",
    "]\n",
    "feature_groups = [\n",
    "    \"cCRE\",\n",
    "    \"Rep\",\n",
    "    \"cCRE&Rep\",\n",
    "    \"CTCF\",\n",
    "    \"cCRE&CTCF\",\n",
    "    \"Rep&CTCF\",\n",
    "    \"cCRE&Rep&CTCF\",\n",
    "    \"no annotation\",\n",
    "]\n",
    "\n",
    "n_rows = len(feature_groups)\n",
    "n_cols = len(annotations)\n",
    "\n",
    "fig = ps.make_subplots(\n",
    "    rows=n_rows,\n",
    "    cols=n_cols,\n",
    "    shared_xaxes=\"all\",\n",
    "    shared_yaxes=\"all\",\n",
    "    horizontal_spacing=0.004,\n",
    "    vertical_spacing=0.01,\n",
    "    column_titles=annotations,\n",
    "    row_titles=feature_groups,\n",
    "    x_title=\"Flipon count\",\n",
    "    # y_title=\"Flipon group\",\n",
    ")\n",
    "\n",
    "for i, feature_group in enumerate(feature_groups):\n",
    "    for j, annotation in enumerate(annotations):\n",
    "        df = (\n",
    "            plotly_data[\n",
    "                (plotly_data[\"feature_group\"] == feature_group)\n",
    "                & (plotly_data[\"annotation\"] == annotation)\n",
    "            ]\n",
    "            .set_index(\"group\")\n",
    "            .reindex(groups)\n",
    "            .dropna()\n",
    "        )\n",
    "\n",
    "        if not len(df):\n",
    "            continue\n",
    "\n",
    "        colors = {\n",
    "            \"G4\": \"#FE9B54\",\n",
    "            \"Z-DNA\": \"royalblue\",\n",
    "            \"SIDD\": \"#ED4241\",\n",
    "            \"H-DNA\": \"darkorchid\",\n",
    "        }\n",
    "        # https://stackoverflow.com/questions/70347594/how-to-format-plotly-legend-when-using-marker-color\n",
    "        for idx, row in df.iterrows():\n",
    "            sub = pgo.Bar(\n",
    "                x=[row[\"count\"]],\n",
    "                y=[idx],\n",
    "                name=idx,\n",
    "                textposition=\"outside\" if row[\"count\"] < 1300 else \"inside\",\n",
    "                texttemplate=\"%{x:,d}\",\n",
    "                marker=dict(color=colors[idx]),\n",
    "                width=1,\n",
    "                orientation=\"h\",\n",
    "                showlegend=True if (i == 0 and j == 0) else False,\n",
    "            )\n",
    "            fig.add_trace(sub, row=i + 1, col=j + 1)\n",
    "        fig.update_xaxes(ticks=\"\", row=i + 1, col=j + 1)\n",
    "\n",
    "fig.update_xaxes(tickformat=\"s\")\n",
    "fig.update_xaxes(ticks=\"outside\", row=n_rows)\n",
    "fig.update_yaxes(type=\"category\", visible=False)\n",
    "fig.update_annotations(textangle=0, font=dict(size=14))\n",
    "\n",
    "fig.update_layout(\n",
    "    title=f\"Flipons enriched with miRNA seed-regions ({plotly_data['count'].sum():,d})\",\n",
    "    title_x=0.0035,\n",
    "    title_y=.985,\n",
    "    height=900,\n",
    "    width=1800,\n",
    "    font=dict(family=\"monospace\", size=10),\n",
    "    uniformtext_minsize=10,\n",
    "    margin=dict(l=5, t=55, b=55),\n",
    "    legend=dict(\n",
    "        # title_text=\"Flipon group\",\n",
    "        traceorder=\"reversed\",\n",
    "        orientation=\"h\",\n",
    "        yanchor=\"bottom\",\n",
    "        y=1.03,\n",
    "        xanchor=\"right\",\n",
    "        x=0.98,\n",
    "    ),\n",
    "    template=\"ggplot2\",\n",
    ")\n",
    "\n",
    "fig.write_image(d_img / 'enrichment-table-all-flipons-01-mirna-only.png')\n",
    "\n",
    "fig.show()\n"
   ]
  },
  {
   "cell_type": "code",
   "execution_count": 7,
   "metadata": {},
   "outputs": [
    {
     "data": {
      "application/vnd.plotly.v1+json": {
       "config": {
        "plotlyServerURL": "https://plot.ly"
       },
       "data": [
        {
         "marker": {
          "color": "darkorchid"
         },
         "name": "H-DNA",
         "orientation": "h",
         "showlegend": true,
         "textposition": "outside",
         "texttemplate": "%{x:,d}",
         "type": "bar",
         "width": 1,
         "x": [
          421
         ],
         "xaxis": "x",
         "y": [
          "H-DNA"
         ],
         "yaxis": "y"
        },
        {
         "marker": {
          "color": "#ED4241"
         },
         "name": "SIDD",
         "orientation": "h",
         "showlegend": true,
         "textposition": "outside",
         "texttemplate": "%{x:,d}",
         "type": "bar",
         "width": 1,
         "x": [
          174
         ],
         "xaxis": "x",
         "y": [
          "SIDD"
         ],
         "yaxis": "y"
        },
        {
         "marker": {
          "color": "royalblue"
         },
         "name": "Z-DNA",
         "orientation": "h",
         "showlegend": true,
         "textposition": "inside",
         "texttemplate": "%{x:,d}",
         "type": "bar",
         "width": 1,
         "x": [
          1306
         ],
         "xaxis": "x",
         "y": [
          "Z-DNA"
         ],
         "yaxis": "y"
        },
        {
         "marker": {
          "color": "#FE9B54"
         },
         "name": "G4",
         "orientation": "h",
         "showlegend": true,
         "textposition": "inside",
         "texttemplate": "%{x:,d}",
         "type": "bar",
         "width": 1,
         "x": [
          1320
         ],
         "xaxis": "x",
         "y": [
          "G4"
         ],
         "yaxis": "y"
        },
        {
         "marker": {
          "color": "darkorchid"
         },
         "name": "H-DNA",
         "orientation": "h",
         "showlegend": false,
         "textposition": "outside",
         "texttemplate": "%{x:,d}",
         "type": "bar",
         "width": 1,
         "x": [
          55
         ],
         "xaxis": "x2",
         "y": [
          "H-DNA"
         ],
         "yaxis": "y2"
        },
        {
         "marker": {
          "color": "#ED4241"
         },
         "name": "SIDD",
         "orientation": "h",
         "showlegend": false,
         "textposition": "outside",
         "texttemplate": "%{x:,d}",
         "type": "bar",
         "width": 1,
         "x": [
          43
         ],
         "xaxis": "x2",
         "y": [
          "SIDD"
         ],
         "yaxis": "y2"
        },
        {
         "marker": {
          "color": "royalblue"
         },
         "name": "Z-DNA",
         "orientation": "h",
         "showlegend": false,
         "textposition": "outside",
         "texttemplate": "%{x:,d}",
         "type": "bar",
         "width": 1,
         "x": [
          133
         ],
         "xaxis": "x2",
         "y": [
          "Z-DNA"
         ],
         "yaxis": "y2"
        },
        {
         "marker": {
          "color": "#FE9B54"
         },
         "name": "G4",
         "orientation": "h",
         "showlegend": false,
         "textposition": "outside",
         "texttemplate": "%{x:,d}",
         "type": "bar",
         "width": 1,
         "x": [
          114
         ],
         "xaxis": "x2",
         "y": [
          "G4"
         ],
         "yaxis": "y2"
        },
        {
         "marker": {
          "color": "darkorchid"
         },
         "name": "H-DNA",
         "orientation": "h",
         "showlegend": false,
         "textposition": "outside",
         "texttemplate": "%{x:,d}",
         "type": "bar",
         "width": 1,
         "x": [
          30
         ],
         "xaxis": "x3",
         "y": [
          "H-DNA"
         ],
         "yaxis": "y3"
        },
        {
         "marker": {
          "color": "#ED4241"
         },
         "name": "SIDD",
         "orientation": "h",
         "showlegend": false,
         "textposition": "outside",
         "texttemplate": "%{x:,d}",
         "type": "bar",
         "width": 1,
         "x": [
          20
         ],
         "xaxis": "x3",
         "y": [
          "SIDD"
         ],
         "yaxis": "y3"
        },
        {
         "marker": {
          "color": "royalblue"
         },
         "name": "Z-DNA",
         "orientation": "h",
         "showlegend": false,
         "textposition": "outside",
         "texttemplate": "%{x:,d}",
         "type": "bar",
         "width": 1,
         "x": [
          59
         ],
         "xaxis": "x3",
         "y": [
          "Z-DNA"
         ],
         "yaxis": "y3"
        },
        {
         "marker": {
          "color": "#FE9B54"
         },
         "name": "G4",
         "orientation": "h",
         "showlegend": false,
         "textposition": "outside",
         "texttemplate": "%{x:,d}",
         "type": "bar",
         "width": 1,
         "x": [
          64
         ],
         "xaxis": "x3",
         "y": [
          "G4"
         ],
         "yaxis": "y3"
        },
        {
         "marker": {
          "color": "darkorchid"
         },
         "name": "H-DNA",
         "orientation": "h",
         "showlegend": false,
         "textposition": "outside",
         "texttemplate": "%{x:,d}",
         "type": "bar",
         "width": 1,
         "x": [
          98
         ],
         "xaxis": "x4",
         "y": [
          "H-DNA"
         ],
         "yaxis": "y4"
        },
        {
         "marker": {
          "color": "#ED4241"
         },
         "name": "SIDD",
         "orientation": "h",
         "showlegend": false,
         "textposition": "outside",
         "texttemplate": "%{x:,d}",
         "type": "bar",
         "width": 1,
         "x": [
          49
         ],
         "xaxis": "x4",
         "y": [
          "SIDD"
         ],
         "yaxis": "y4"
        },
        {
         "marker": {
          "color": "royalblue"
         },
         "name": "Z-DNA",
         "orientation": "h",
         "showlegend": false,
         "textposition": "outside",
         "texttemplate": "%{x:,d}",
         "type": "bar",
         "width": 1,
         "x": [
          128
         ],
         "xaxis": "x4",
         "y": [
          "Z-DNA"
         ],
         "yaxis": "y4"
        },
        {
         "marker": {
          "color": "#FE9B54"
         },
         "name": "G4",
         "orientation": "h",
         "showlegend": false,
         "textposition": "outside",
         "texttemplate": "%{x:,d}",
         "type": "bar",
         "width": 1,
         "x": [
          143
         ],
         "xaxis": "x4",
         "y": [
          "G4"
         ],
         "yaxis": "y4"
        },
        {
         "marker": {
          "color": "royalblue"
         },
         "name": "Z-DNA",
         "orientation": "h",
         "showlegend": false,
         "textposition": "outside",
         "texttemplate": "%{x:,d}",
         "type": "bar",
         "width": 1,
         "x": [
          1
         ],
         "xaxis": "x5",
         "y": [
          "Z-DNA"
         ],
         "yaxis": "y5"
        },
        {
         "marker": {
          "color": "darkorchid"
         },
         "name": "H-DNA",
         "orientation": "h",
         "showlegend": false,
         "textposition": "outside",
         "texttemplate": "%{x:,d}",
         "type": "bar",
         "width": 1,
         "x": [
          10
         ],
         "xaxis": "x6",
         "y": [
          "H-DNA"
         ],
         "yaxis": "y6"
        },
        {
         "marker": {
          "color": "#ED4241"
         },
         "name": "SIDD",
         "orientation": "h",
         "showlegend": false,
         "textposition": "outside",
         "texttemplate": "%{x:,d}",
         "type": "bar",
         "width": 1,
         "x": [
          16
         ],
         "xaxis": "x6",
         "y": [
          "SIDD"
         ],
         "yaxis": "y6"
        },
        {
         "marker": {
          "color": "royalblue"
         },
         "name": "Z-DNA",
         "orientation": "h",
         "showlegend": false,
         "textposition": "outside",
         "texttemplate": "%{x:,d}",
         "type": "bar",
         "width": 1,
         "x": [
          17
         ],
         "xaxis": "x6",
         "y": [
          "Z-DNA"
         ],
         "yaxis": "y6"
        },
        {
         "marker": {
          "color": "#FE9B54"
         },
         "name": "G4",
         "orientation": "h",
         "showlegend": false,
         "textposition": "outside",
         "texttemplate": "%{x:,d}",
         "type": "bar",
         "width": 1,
         "x": [
          23
         ],
         "xaxis": "x6",
         "y": [
          "G4"
         ],
         "yaxis": "y6"
        },
        {
         "marker": {
          "color": "#FE9B54"
         },
         "name": "G4",
         "orientation": "h",
         "showlegend": false,
         "textposition": "outside",
         "texttemplate": "%{x:,d}",
         "type": "bar",
         "width": 1,
         "x": [
          1
         ],
         "xaxis": "x7",
         "y": [
          "G4"
         ],
         "yaxis": "y7"
        },
        {
         "marker": {
          "color": "darkorchid"
         },
         "name": "H-DNA",
         "orientation": "h",
         "showlegend": false,
         "textposition": "outside",
         "texttemplate": "%{x:,d}",
         "type": "bar",
         "width": 1,
         "x": [
          7
         ],
         "xaxis": "x8",
         "y": [
          "H-DNA"
         ],
         "yaxis": "y8"
        },
        {
         "marker": {
          "color": "#ED4241"
         },
         "name": "SIDD",
         "orientation": "h",
         "showlegend": false,
         "textposition": "outside",
         "texttemplate": "%{x:,d}",
         "type": "bar",
         "width": 1,
         "x": [
          5
         ],
         "xaxis": "x8",
         "y": [
          "SIDD"
         ],
         "yaxis": "y8"
        },
        {
         "marker": {
          "color": "royalblue"
         },
         "name": "Z-DNA",
         "orientation": "h",
         "showlegend": false,
         "textposition": "outside",
         "texttemplate": "%{x:,d}",
         "type": "bar",
         "width": 1,
         "x": [
          70
         ],
         "xaxis": "x8",
         "y": [
          "Z-DNA"
         ],
         "yaxis": "y8"
        },
        {
         "marker": {
          "color": "#FE9B54"
         },
         "name": "G4",
         "orientation": "h",
         "showlegend": false,
         "textposition": "outside",
         "texttemplate": "%{x:,d}",
         "type": "bar",
         "width": 1,
         "x": [
          25
         ],
         "xaxis": "x8",
         "y": [
          "G4"
         ],
         "yaxis": "y8"
        },
        {
         "marker": {
          "color": "darkorchid"
         },
         "name": "H-DNA",
         "orientation": "h",
         "showlegend": false,
         "textposition": "outside",
         "texttemplate": "%{x:,d}",
         "type": "bar",
         "width": 1,
         "x": [
          97
         ],
         "xaxis": "x9",
         "y": [
          "H-DNA"
         ],
         "yaxis": "y9"
        },
        {
         "marker": {
          "color": "#ED4241"
         },
         "name": "SIDD",
         "orientation": "h",
         "showlegend": false,
         "textposition": "outside",
         "texttemplate": "%{x:,d}",
         "type": "bar",
         "width": 1,
         "x": [
          54
         ],
         "xaxis": "x9",
         "y": [
          "SIDD"
         ],
         "yaxis": "y9"
        },
        {
         "marker": {
          "color": "royalblue"
         },
         "name": "Z-DNA",
         "orientation": "h",
         "showlegend": false,
         "textposition": "outside",
         "texttemplate": "%{x:,d}",
         "type": "bar",
         "width": 1,
         "x": [
          100
         ],
         "xaxis": "x9",
         "y": [
          "Z-DNA"
         ],
         "yaxis": "y9"
        },
        {
         "marker": {
          "color": "#FE9B54"
         },
         "name": "G4",
         "orientation": "h",
         "showlegend": false,
         "textposition": "outside",
         "texttemplate": "%{x:,d}",
         "type": "bar",
         "width": 1,
         "x": [
          126
         ],
         "xaxis": "x9",
         "y": [
          "G4"
         ],
         "yaxis": "y9"
        },
        {
         "marker": {
          "color": "darkorchid"
         },
         "name": "H-DNA",
         "orientation": "h",
         "showlegend": false,
         "textposition": "outside",
         "texttemplate": "%{x:,d}",
         "type": "bar",
         "width": 1,
         "x": [
          507
         ],
         "xaxis": "x10",
         "y": [
          "H-DNA"
         ],
         "yaxis": "y10"
        },
        {
         "marker": {
          "color": "#ED4241"
         },
         "name": "SIDD",
         "orientation": "h",
         "showlegend": false,
         "textposition": "outside",
         "texttemplate": "%{x:,d}",
         "type": "bar",
         "width": 1,
         "x": [
          136
         ],
         "xaxis": "x10",
         "y": [
          "SIDD"
         ],
         "yaxis": "y10"
        },
        {
         "marker": {
          "color": "royalblue"
         },
         "name": "Z-DNA",
         "orientation": "h",
         "showlegend": false,
         "textposition": "inside",
         "texttemplate": "%{x:,d}",
         "type": "bar",
         "width": 1,
         "x": [
          3948
         ],
         "xaxis": "x10",
         "y": [
          "Z-DNA"
         ],
         "yaxis": "y10"
        },
        {
         "marker": {
          "color": "#FE9B54"
         },
         "name": "G4",
         "orientation": "h",
         "showlegend": false,
         "textposition": "inside",
         "texttemplate": "%{x:,d}",
         "type": "bar",
         "width": 1,
         "x": [
          2904
         ],
         "xaxis": "x10",
         "y": [
          "G4"
         ],
         "yaxis": "y10"
        },
        {
         "marker": {
          "color": "darkorchid"
         },
         "name": "H-DNA",
         "orientation": "h",
         "showlegend": false,
         "textposition": "outside",
         "texttemplate": "%{x:,d}",
         "type": "bar",
         "width": 1,
         "x": [
          216
         ],
         "xaxis": "x11",
         "y": [
          "H-DNA"
         ],
         "yaxis": "y11"
        },
        {
         "marker": {
          "color": "#ED4241"
         },
         "name": "SIDD",
         "orientation": "h",
         "showlegend": false,
         "textposition": "outside",
         "texttemplate": "%{x:,d}",
         "type": "bar",
         "width": 1,
         "x": [
          353
         ],
         "xaxis": "x11",
         "y": [
          "SIDD"
         ],
         "yaxis": "y11"
        },
        {
         "marker": {
          "color": "royalblue"
         },
         "name": "Z-DNA",
         "orientation": "h",
         "showlegend": false,
         "textposition": "outside",
         "texttemplate": "%{x:,d}",
         "type": "bar",
         "width": 1,
         "x": [
          175
         ],
         "xaxis": "x11",
         "y": [
          "Z-DNA"
         ],
         "yaxis": "y11"
        },
        {
         "marker": {
          "color": "#FE9B54"
         },
         "name": "G4",
         "orientation": "h",
         "showlegend": false,
         "textposition": "outside",
         "texttemplate": "%{x:,d}",
         "type": "bar",
         "width": 1,
         "x": [
          193
         ],
         "xaxis": "x11",
         "y": [
          "G4"
         ],
         "yaxis": "y11"
        },
        {
         "marker": {
          "color": "darkorchid"
         },
         "name": "H-DNA",
         "orientation": "h",
         "showlegend": false,
         "textposition": "outside",
         "texttemplate": "%{x:,d}",
         "type": "bar",
         "width": 1,
         "x": [
          198
         ],
         "xaxis": "x12",
         "y": [
          "H-DNA"
         ],
         "yaxis": "y12"
        },
        {
         "marker": {
          "color": "#ED4241"
         },
         "name": "SIDD",
         "orientation": "h",
         "showlegend": false,
         "textposition": "outside",
         "texttemplate": "%{x:,d}",
         "type": "bar",
         "width": 1,
         "x": [
          361
         ],
         "xaxis": "x12",
         "y": [
          "SIDD"
         ],
         "yaxis": "y12"
        },
        {
         "marker": {
          "color": "royalblue"
         },
         "name": "Z-DNA",
         "orientation": "h",
         "showlegend": false,
         "textposition": "outside",
         "texttemplate": "%{x:,d}",
         "type": "bar",
         "width": 1,
         "x": [
          143
         ],
         "xaxis": "x12",
         "y": [
          "Z-DNA"
         ],
         "yaxis": "y12"
        },
        {
         "marker": {
          "color": "#FE9B54"
         },
         "name": "G4",
         "orientation": "h",
         "showlegend": false,
         "textposition": "outside",
         "texttemplate": "%{x:,d}",
         "type": "bar",
         "width": 1,
         "x": [
          224
         ],
         "xaxis": "x12",
         "y": [
          "G4"
         ],
         "yaxis": "y12"
        },
        {
         "marker": {
          "color": "darkorchid"
         },
         "name": "H-DNA",
         "orientation": "h",
         "showlegend": false,
         "textposition": "outside",
         "texttemplate": "%{x:,d}",
         "type": "bar",
         "width": 1,
         "x": [
          212
         ],
         "xaxis": "x13",
         "y": [
          "H-DNA"
         ],
         "yaxis": "y13"
        },
        {
         "marker": {
          "color": "#ED4241"
         },
         "name": "SIDD",
         "orientation": "h",
         "showlegend": false,
         "textposition": "outside",
         "texttemplate": "%{x:,d}",
         "type": "bar",
         "width": 1,
         "x": [
          295
         ],
         "xaxis": "x13",
         "y": [
          "SIDD"
         ],
         "yaxis": "y13"
        },
        {
         "marker": {
          "color": "royalblue"
         },
         "name": "Z-DNA",
         "orientation": "h",
         "showlegend": false,
         "textposition": "outside",
         "texttemplate": "%{x:,d}",
         "type": "bar",
         "width": 1,
         "x": [
          174
         ],
         "xaxis": "x13",
         "y": [
          "Z-DNA"
         ],
         "yaxis": "y13"
        },
        {
         "marker": {
          "color": "#FE9B54"
         },
         "name": "G4",
         "orientation": "h",
         "showlegend": false,
         "textposition": "outside",
         "texttemplate": "%{x:,d}",
         "type": "bar",
         "width": 1,
         "x": [
          197
         ],
         "xaxis": "x13",
         "y": [
          "G4"
         ],
         "yaxis": "y13"
        },
        {
         "marker": {
          "color": "darkorchid"
         },
         "name": "H-DNA",
         "orientation": "h",
         "showlegend": false,
         "textposition": "inside",
         "texttemplate": "%{x:,d}",
         "type": "bar",
         "width": 1,
         "x": [
          3428
         ],
         "xaxis": "x14",
         "y": [
          "H-DNA"
         ],
         "yaxis": "y14"
        },
        {
         "marker": {
          "color": "#ED4241"
         },
         "name": "SIDD",
         "orientation": "h",
         "showlegend": false,
         "textposition": "inside",
         "texttemplate": "%{x:,d}",
         "type": "bar",
         "width": 1,
         "x": [
          5255
         ],
         "xaxis": "x14",
         "y": [
          "SIDD"
         ],
         "yaxis": "y14"
        },
        {
         "marker": {
          "color": "royalblue"
         },
         "name": "Z-DNA",
         "orientation": "h",
         "showlegend": false,
         "textposition": "inside",
         "texttemplate": "%{x:,d}",
         "type": "bar",
         "width": 1,
         "x": [
          2673
         ],
         "xaxis": "x14",
         "y": [
          "Z-DNA"
         ],
         "yaxis": "y14"
        },
        {
         "marker": {
          "color": "#FE9B54"
         },
         "name": "G4",
         "orientation": "h",
         "showlegend": false,
         "textposition": "inside",
         "texttemplate": "%{x:,d}",
         "type": "bar",
         "width": 1,
         "x": [
          3388
         ],
         "xaxis": "x14",
         "y": [
          "G4"
         ],
         "yaxis": "y14"
        },
        {
         "marker": {
          "color": "royalblue"
         },
         "name": "Z-DNA",
         "orientation": "h",
         "showlegend": false,
         "textposition": "outside",
         "texttemplate": "%{x:,d}",
         "type": "bar",
         "width": 1,
         "x": [
          1
         ],
         "xaxis": "x15",
         "y": [
          "Z-DNA"
         ],
         "yaxis": "y15"
        },
        {
         "marker": {
          "color": "darkorchid"
         },
         "name": "H-DNA",
         "orientation": "h",
         "showlegend": false,
         "textposition": "outside",
         "texttemplate": "%{x:,d}",
         "type": "bar",
         "width": 1,
         "x": [
          11
         ],
         "xaxis": "x16",
         "y": [
          "H-DNA"
         ],
         "yaxis": "y16"
        },
        {
         "marker": {
          "color": "#ED4241"
         },
         "name": "SIDD",
         "orientation": "h",
         "showlegend": false,
         "textposition": "outside",
         "texttemplate": "%{x:,d}",
         "type": "bar",
         "width": 1,
         "x": [
          33
         ],
         "xaxis": "x16",
         "y": [
          "SIDD"
         ],
         "yaxis": "y16"
        },
        {
         "marker": {
          "color": "royalblue"
         },
         "name": "Z-DNA",
         "orientation": "h",
         "showlegend": false,
         "textposition": "outside",
         "texttemplate": "%{x:,d}",
         "type": "bar",
         "width": 1,
         "x": [
          14
         ],
         "xaxis": "x16",
         "y": [
          "Z-DNA"
         ],
         "yaxis": "y16"
        },
        {
         "marker": {
          "color": "#FE9B54"
         },
         "name": "G4",
         "orientation": "h",
         "showlegend": false,
         "textposition": "outside",
         "texttemplate": "%{x:,d}",
         "type": "bar",
         "width": 1,
         "x": [
          15
         ],
         "xaxis": "x16",
         "y": [
          "G4"
         ],
         "yaxis": "y16"
        },
        {
         "marker": {
          "color": "darkorchid"
         },
         "name": "H-DNA",
         "orientation": "h",
         "showlegend": false,
         "textposition": "outside",
         "texttemplate": "%{x:,d}",
         "type": "bar",
         "width": 1,
         "x": [
          5
         ],
         "xaxis": "x17",
         "y": [
          "H-DNA"
         ],
         "yaxis": "y17"
        },
        {
         "marker": {
          "color": "#ED4241"
         },
         "name": "SIDD",
         "orientation": "h",
         "showlegend": false,
         "textposition": "outside",
         "texttemplate": "%{x:,d}",
         "type": "bar",
         "width": 1,
         "x": [
          8
         ],
         "xaxis": "x17",
         "y": [
          "SIDD"
         ],
         "yaxis": "y17"
        },
        {
         "marker": {
          "color": "royalblue"
         },
         "name": "Z-DNA",
         "orientation": "h",
         "showlegend": false,
         "textposition": "outside",
         "texttemplate": "%{x:,d}",
         "type": "bar",
         "width": 1,
         "x": [
          4
         ],
         "xaxis": "x17",
         "y": [
          "Z-DNA"
         ],
         "yaxis": "y17"
        },
        {
         "marker": {
          "color": "#FE9B54"
         },
         "name": "G4",
         "orientation": "h",
         "showlegend": false,
         "textposition": "outside",
         "texttemplate": "%{x:,d}",
         "type": "bar",
         "width": 1,
         "x": [
          3
         ],
         "xaxis": "x17",
         "y": [
          "G4"
         ],
         "yaxis": "y17"
        },
        {
         "marker": {
          "color": "darkorchid"
         },
         "name": "H-DNA",
         "orientation": "h",
         "showlegend": false,
         "textposition": "outside",
         "texttemplate": "%{x:,d}",
         "type": "bar",
         "width": 1,
         "x": [
          13
         ],
         "xaxis": "x18",
         "y": [
          "H-DNA"
         ],
         "yaxis": "y18"
        },
        {
         "marker": {
          "color": "#ED4241"
         },
         "name": "SIDD",
         "orientation": "h",
         "showlegend": false,
         "textposition": "outside",
         "texttemplate": "%{x:,d}",
         "type": "bar",
         "width": 1,
         "x": [
          32
         ],
         "xaxis": "x18",
         "y": [
          "SIDD"
         ],
         "yaxis": "y18"
        },
        {
         "marker": {
          "color": "royalblue"
         },
         "name": "Z-DNA",
         "orientation": "h",
         "showlegend": false,
         "textposition": "outside",
         "texttemplate": "%{x:,d}",
         "type": "bar",
         "width": 1,
         "x": [
          20
         ],
         "xaxis": "x18",
         "y": [
          "Z-DNA"
         ],
         "yaxis": "y18"
        },
        {
         "marker": {
          "color": "#FE9B54"
         },
         "name": "G4",
         "orientation": "h",
         "showlegend": false,
         "textposition": "outside",
         "texttemplate": "%{x:,d}",
         "type": "bar",
         "width": 1,
         "x": [
          15
         ],
         "xaxis": "x18",
         "y": [
          "G4"
         ],
         "yaxis": "y18"
        },
        {
         "marker": {
          "color": "darkorchid"
         },
         "name": "H-DNA",
         "orientation": "h",
         "showlegend": false,
         "textposition": "inside",
         "texttemplate": "%{x:,d}",
         "type": "bar",
         "width": 1,
         "x": [
          1472
         ],
         "xaxis": "x19",
         "y": [
          "H-DNA"
         ],
         "yaxis": "y19"
        },
        {
         "marker": {
          "color": "#ED4241"
         },
         "name": "SIDD",
         "orientation": "h",
         "showlegend": false,
         "textposition": "inside",
         "texttemplate": "%{x:,d}",
         "type": "bar",
         "width": 1,
         "x": [
          2288
         ],
         "xaxis": "x19",
         "y": [
          "SIDD"
         ],
         "yaxis": "y19"
        },
        {
         "marker": {
          "color": "royalblue"
         },
         "name": "Z-DNA",
         "orientation": "h",
         "showlegend": false,
         "textposition": "outside",
         "texttemplate": "%{x:,d}",
         "type": "bar",
         "width": 1,
         "x": [
          883
         ],
         "xaxis": "x19",
         "y": [
          "Z-DNA"
         ],
         "yaxis": "y19"
        },
        {
         "marker": {
          "color": "#FE9B54"
         },
         "name": "G4",
         "orientation": "h",
         "showlegend": false,
         "textposition": "inside",
         "texttemplate": "%{x:,d}",
         "type": "bar",
         "width": 1,
         "x": [
          1526
         ],
         "xaxis": "x19",
         "y": [
          "G4"
         ],
         "yaxis": "y19"
        },
        {
         "marker": {
          "color": "darkorchid"
         },
         "name": "H-DNA",
         "orientation": "h",
         "showlegend": false,
         "textposition": "inside",
         "texttemplate": "%{x:,d}",
         "type": "bar",
         "width": 1,
         "x": [
          4095
         ],
         "xaxis": "x20",
         "y": [
          "H-DNA"
         ],
         "yaxis": "y20"
        },
        {
         "marker": {
          "color": "#ED4241"
         },
         "name": "SIDD",
         "orientation": "h",
         "showlegend": false,
         "textposition": "inside",
         "texttemplate": "%{x:,d}",
         "type": "bar",
         "width": 1,
         "x": [
          4580
         ],
         "xaxis": "x20",
         "y": [
          "SIDD"
         ],
         "yaxis": "y20"
        },
        {
         "marker": {
          "color": "royalblue"
         },
         "name": "Z-DNA",
         "orientation": "h",
         "showlegend": false,
         "textposition": "inside",
         "texttemplate": "%{x:,d}",
         "type": "bar",
         "width": 1,
         "x": [
          3079
         ],
         "xaxis": "x20",
         "y": [
          "Z-DNA"
         ],
         "yaxis": "y20"
        },
        {
         "marker": {
          "color": "#FE9B54"
         },
         "name": "G4",
         "orientation": "h",
         "showlegend": false,
         "textposition": "inside",
         "texttemplate": "%{x:,d}",
         "type": "bar",
         "width": 1,
         "x": [
          2825
         ],
         "xaxis": "x20",
         "y": [
          "G4"
         ],
         "yaxis": "y20"
        },
        {
         "marker": {
          "color": "darkorchid"
         },
         "name": "H-DNA",
         "orientation": "h",
         "showlegend": false,
         "textposition": "outside",
         "texttemplate": "%{x:,d}",
         "type": "bar",
         "width": 1,
         "x": [
          28
         ],
         "xaxis": "x21",
         "y": [
          "H-DNA"
         ],
         "yaxis": "y21"
        },
        {
         "marker": {
          "color": "#ED4241"
         },
         "name": "SIDD",
         "orientation": "h",
         "showlegend": false,
         "textposition": "outside",
         "texttemplate": "%{x:,d}",
         "type": "bar",
         "width": 1,
         "x": [
          27
         ],
         "xaxis": "x21",
         "y": [
          "SIDD"
         ],
         "yaxis": "y21"
        },
        {
         "marker": {
          "color": "royalblue"
         },
         "name": "Z-DNA",
         "orientation": "h",
         "showlegend": false,
         "textposition": "outside",
         "texttemplate": "%{x:,d}",
         "type": "bar",
         "width": 1,
         "x": [
          26
         ],
         "xaxis": "x21",
         "y": [
          "Z-DNA"
         ],
         "yaxis": "y21"
        },
        {
         "marker": {
          "color": "#FE9B54"
         },
         "name": "G4",
         "orientation": "h",
         "showlegend": false,
         "textposition": "outside",
         "texttemplate": "%{x:,d}",
         "type": "bar",
         "width": 1,
         "x": [
          21
         ],
         "xaxis": "x21",
         "y": [
          "G4"
         ],
         "yaxis": "y21"
        },
        {
         "marker": {
          "color": "darkorchid"
         },
         "name": "H-DNA",
         "orientation": "h",
         "showlegend": false,
         "textposition": "outside",
         "texttemplate": "%{x:,d}",
         "type": "bar",
         "width": 1,
         "x": [
          10
         ],
         "xaxis": "x22",
         "y": [
          "H-DNA"
         ],
         "yaxis": "y22"
        },
        {
         "marker": {
          "color": "#ED4241"
         },
         "name": "SIDD",
         "orientation": "h",
         "showlegend": false,
         "textposition": "outside",
         "texttemplate": "%{x:,d}",
         "type": "bar",
         "width": 1,
         "x": [
          12
         ],
         "xaxis": "x22",
         "y": [
          "SIDD"
         ],
         "yaxis": "y22"
        },
        {
         "marker": {
          "color": "royalblue"
         },
         "name": "Z-DNA",
         "orientation": "h",
         "showlegend": false,
         "textposition": "outside",
         "texttemplate": "%{x:,d}",
         "type": "bar",
         "width": 1,
         "x": [
          4
         ],
         "xaxis": "x22",
         "y": [
          "Z-DNA"
         ],
         "yaxis": "y22"
        },
        {
         "marker": {
          "color": "#FE9B54"
         },
         "name": "G4",
         "orientation": "h",
         "showlegend": false,
         "textposition": "outside",
         "texttemplate": "%{x:,d}",
         "type": "bar",
         "width": 1,
         "x": [
          11
         ],
         "xaxis": "x22",
         "y": [
          "G4"
         ],
         "yaxis": "y22"
        },
        {
         "marker": {
          "color": "darkorchid"
         },
         "name": "H-DNA",
         "orientation": "h",
         "showlegend": false,
         "textposition": "outside",
         "texttemplate": "%{x:,d}",
         "type": "bar",
         "width": 1,
         "x": [
          12
         ],
         "xaxis": "x23",
         "y": [
          "H-DNA"
         ],
         "yaxis": "y23"
        },
        {
         "marker": {
          "color": "#ED4241"
         },
         "name": "SIDD",
         "orientation": "h",
         "showlegend": false,
         "textposition": "outside",
         "texttemplate": "%{x:,d}",
         "type": "bar",
         "width": 1,
         "x": [
          16
         ],
         "xaxis": "x23",
         "y": [
          "SIDD"
         ],
         "yaxis": "y23"
        },
        {
         "marker": {
          "color": "royalblue"
         },
         "name": "Z-DNA",
         "orientation": "h",
         "showlegend": false,
         "textposition": "outside",
         "texttemplate": "%{x:,d}",
         "type": "bar",
         "width": 1,
         "x": [
          4
         ],
         "xaxis": "x23",
         "y": [
          "Z-DNA"
         ],
         "yaxis": "y23"
        },
        {
         "marker": {
          "color": "#FE9B54"
         },
         "name": "G4",
         "orientation": "h",
         "showlegend": false,
         "textposition": "outside",
         "texttemplate": "%{x:,d}",
         "type": "bar",
         "width": 1,
         "x": [
          6
         ],
         "xaxis": "x23",
         "y": [
          "G4"
         ],
         "yaxis": "y23"
        },
        {
         "marker": {
          "color": "darkorchid"
         },
         "name": "H-DNA",
         "orientation": "h",
         "showlegend": false,
         "textposition": "outside",
         "texttemplate": "%{x:,d}",
         "type": "bar",
         "width": 1,
         "x": [
          88
         ],
         "xaxis": "x24",
         "y": [
          "H-DNA"
         ],
         "yaxis": "y24"
        },
        {
         "marker": {
          "color": "#ED4241"
         },
         "name": "SIDD",
         "orientation": "h",
         "showlegend": false,
         "textposition": "outside",
         "texttemplate": "%{x:,d}",
         "type": "bar",
         "width": 1,
         "x": [
          63
         ],
         "xaxis": "x24",
         "y": [
          "SIDD"
         ],
         "yaxis": "y24"
        },
        {
         "marker": {
          "color": "royalblue"
         },
         "name": "Z-DNA",
         "orientation": "h",
         "showlegend": false,
         "textposition": "outside",
         "texttemplate": "%{x:,d}",
         "type": "bar",
         "width": 1,
         "x": [
          57
         ],
         "xaxis": "x24",
         "y": [
          "Z-DNA"
         ],
         "yaxis": "y24"
        },
        {
         "marker": {
          "color": "#FE9B54"
         },
         "name": "G4",
         "orientation": "h",
         "showlegend": false,
         "textposition": "outside",
         "texttemplate": "%{x:,d}",
         "type": "bar",
         "width": 1,
         "x": [
          59
         ],
         "xaxis": "x24",
         "y": [
          "G4"
         ],
         "yaxis": "y24"
        },
        {
         "marker": {
          "color": "royalblue"
         },
         "name": "Z-DNA",
         "orientation": "h",
         "showlegend": false,
         "textposition": "outside",
         "texttemplate": "%{x:,d}",
         "type": "bar",
         "width": 1,
         "x": [
          1
         ],
         "xaxis": "x28",
         "y": [
          "Z-DNA"
         ],
         "yaxis": "y28"
        },
        {
         "marker": {
          "color": "#FE9B54"
         },
         "name": "G4",
         "orientation": "h",
         "showlegend": false,
         "textposition": "outside",
         "texttemplate": "%{x:,d}",
         "type": "bar",
         "width": 1,
         "x": [
          2
         ],
         "xaxis": "x28",
         "y": [
          "G4"
         ],
         "yaxis": "y28"
        },
        {
         "marker": {
          "color": "darkorchid"
         },
         "name": "H-DNA",
         "orientation": "h",
         "showlegend": false,
         "textposition": "outside",
         "texttemplate": "%{x:,d}",
         "type": "bar",
         "width": 1,
         "x": [
          62
         ],
         "xaxis": "x29",
         "y": [
          "H-DNA"
         ],
         "yaxis": "y29"
        },
        {
         "marker": {
          "color": "#ED4241"
         },
         "name": "SIDD",
         "orientation": "h",
         "showlegend": false,
         "textposition": "outside",
         "texttemplate": "%{x:,d}",
         "type": "bar",
         "width": 1,
         "x": [
          61
         ],
         "xaxis": "x29",
         "y": [
          "SIDD"
         ],
         "yaxis": "y29"
        },
        {
         "marker": {
          "color": "royalblue"
         },
         "name": "Z-DNA",
         "orientation": "h",
         "showlegend": false,
         "textposition": "outside",
         "texttemplate": "%{x:,d}",
         "type": "bar",
         "width": 1,
         "x": [
          29
         ],
         "xaxis": "x29",
         "y": [
          "Z-DNA"
         ],
         "yaxis": "y29"
        },
        {
         "marker": {
          "color": "#FE9B54"
         },
         "name": "G4",
         "orientation": "h",
         "showlegend": false,
         "textposition": "outside",
         "texttemplate": "%{x:,d}",
         "type": "bar",
         "width": 1,
         "x": [
          32
         ],
         "xaxis": "x29",
         "y": [
          "G4"
         ],
         "yaxis": "y29"
        },
        {
         "marker": {
          "color": "darkorchid"
         },
         "name": "H-DNA",
         "orientation": "h",
         "showlegend": false,
         "textposition": "outside",
         "texttemplate": "%{x:,d}",
         "type": "bar",
         "width": 1,
         "x": [
          112
         ],
         "xaxis": "x30",
         "y": [
          "H-DNA"
         ],
         "yaxis": "y30"
        },
        {
         "marker": {
          "color": "#ED4241"
         },
         "name": "SIDD",
         "orientation": "h",
         "showlegend": false,
         "textposition": "outside",
         "texttemplate": "%{x:,d}",
         "type": "bar",
         "width": 1,
         "x": [
          51
         ],
         "xaxis": "x30",
         "y": [
          "SIDD"
         ],
         "yaxis": "y30"
        },
        {
         "marker": {
          "color": "royalblue"
         },
         "name": "Z-DNA",
         "orientation": "h",
         "showlegend": false,
         "textposition": "outside",
         "texttemplate": "%{x:,d}",
         "type": "bar",
         "width": 1,
         "x": [
          113
         ],
         "xaxis": "x30",
         "y": [
          "Z-DNA"
         ],
         "yaxis": "y30"
        },
        {
         "marker": {
          "color": "#FE9B54"
         },
         "name": "G4",
         "orientation": "h",
         "showlegend": false,
         "textposition": "outside",
         "texttemplate": "%{x:,d}",
         "type": "bar",
         "width": 1,
         "x": [
          85
         ],
         "xaxis": "x30",
         "y": [
          "G4"
         ],
         "yaxis": "y30"
        },
        {
         "marker": {
          "color": "darkorchid"
         },
         "name": "H-DNA",
         "orientation": "h",
         "showlegend": false,
         "textposition": "outside",
         "texttemplate": "%{x:,d}",
         "type": "bar",
         "width": 1,
         "x": [
          2
         ],
         "xaxis": "x31",
         "y": [
          "H-DNA"
         ],
         "yaxis": "y31"
        },
        {
         "marker": {
          "color": "royalblue"
         },
         "name": "Z-DNA",
         "orientation": "h",
         "showlegend": false,
         "textposition": "outside",
         "texttemplate": "%{x:,d}",
         "type": "bar",
         "width": 1,
         "x": [
          1
         ],
         "xaxis": "x31",
         "y": [
          "Z-DNA"
         ],
         "yaxis": "y31"
        },
        {
         "marker": {
          "color": "#FE9B54"
         },
         "name": "G4",
         "orientation": "h",
         "showlegend": false,
         "textposition": "outside",
         "texttemplate": "%{x:,d}",
         "type": "bar",
         "width": 1,
         "x": [
          3
         ],
         "xaxis": "x31",
         "y": [
          "G4"
         ],
         "yaxis": "y31"
        },
        {
         "marker": {
          "color": "darkorchid"
         },
         "name": "H-DNA",
         "orientation": "h",
         "showlegend": false,
         "textposition": "outside",
         "texttemplate": "%{x:,d}",
         "type": "bar",
         "width": 1,
         "x": [
          1
         ],
         "xaxis": "x32",
         "y": [
          "H-DNA"
         ],
         "yaxis": "y32"
        },
        {
         "marker": {
          "color": "#ED4241"
         },
         "name": "SIDD",
         "orientation": "h",
         "showlegend": false,
         "textposition": "outside",
         "texttemplate": "%{x:,d}",
         "type": "bar",
         "width": 1,
         "x": [
          1
         ],
         "xaxis": "x32",
         "y": [
          "SIDD"
         ],
         "yaxis": "y32"
        },
        {
         "marker": {
          "color": "#FE9B54"
         },
         "name": "G4",
         "orientation": "h",
         "showlegend": false,
         "textposition": "outside",
         "texttemplate": "%{x:,d}",
         "type": "bar",
         "width": 1,
         "x": [
          1
         ],
         "xaxis": "x32",
         "y": [
          "G4"
         ],
         "yaxis": "y32"
        },
        {
         "marker": {
          "color": "darkorchid"
         },
         "name": "H-DNA",
         "orientation": "h",
         "showlegend": false,
         "textposition": "outside",
         "texttemplate": "%{x:,d}",
         "type": "bar",
         "width": 1,
         "x": [
          2
         ],
         "xaxis": "x33",
         "y": [
          "H-DNA"
         ],
         "yaxis": "y33"
        },
        {
         "marker": {
          "color": "#ED4241"
         },
         "name": "SIDD",
         "orientation": "h",
         "showlegend": false,
         "textposition": "outside",
         "texttemplate": "%{x:,d}",
         "type": "bar",
         "width": 1,
         "x": [
          2
         ],
         "xaxis": "x33",
         "y": [
          "SIDD"
         ],
         "yaxis": "y33"
        },
        {
         "marker": {
          "color": "royalblue"
         },
         "name": "Z-DNA",
         "orientation": "h",
         "showlegend": false,
         "textposition": "outside",
         "texttemplate": "%{x:,d}",
         "type": "bar",
         "width": 1,
         "x": [
          1
         ],
         "xaxis": "x33",
         "y": [
          "Z-DNA"
         ],
         "yaxis": "y33"
        },
        {
         "marker": {
          "color": "#FE9B54"
         },
         "name": "G4",
         "orientation": "h",
         "showlegend": false,
         "textposition": "outside",
         "texttemplate": "%{x:,d}",
         "type": "bar",
         "width": 1,
         "x": [
          1
         ],
         "xaxis": "x33",
         "y": [
          "G4"
         ],
         "yaxis": "y33"
        },
        {
         "marker": {
          "color": "darkorchid"
         },
         "name": "H-DNA",
         "orientation": "h",
         "showlegend": false,
         "textposition": "outside",
         "texttemplate": "%{x:,d}",
         "type": "bar",
         "width": 1,
         "x": [
          6
         ],
         "xaxis": "x34",
         "y": [
          "H-DNA"
         ],
         "yaxis": "y34"
        },
        {
         "marker": {
          "color": "#ED4241"
         },
         "name": "SIDD",
         "orientation": "h",
         "showlegend": false,
         "textposition": "outside",
         "texttemplate": "%{x:,d}",
         "type": "bar",
         "width": 1,
         "x": [
          1
         ],
         "xaxis": "x34",
         "y": [
          "SIDD"
         ],
         "yaxis": "y34"
        },
        {
         "marker": {
          "color": "royalblue"
         },
         "name": "Z-DNA",
         "orientation": "h",
         "showlegend": false,
         "textposition": "outside",
         "texttemplate": "%{x:,d}",
         "type": "bar",
         "width": 1,
         "x": [
          13
         ],
         "xaxis": "x34",
         "y": [
          "Z-DNA"
         ],
         "yaxis": "y34"
        },
        {
         "marker": {
          "color": "#FE9B54"
         },
         "name": "G4",
         "orientation": "h",
         "showlegend": false,
         "textposition": "outside",
         "texttemplate": "%{x:,d}",
         "type": "bar",
         "width": 1,
         "x": [
          5
         ],
         "xaxis": "x34",
         "y": [
          "G4"
         ],
         "yaxis": "y34"
        },
        {
         "marker": {
          "color": "#ED4241"
         },
         "name": "SIDD",
         "orientation": "h",
         "showlegend": false,
         "textposition": "outside",
         "texttemplate": "%{x:,d}",
         "type": "bar",
         "width": 1,
         "x": [
          2
         ],
         "xaxis": "x36",
         "y": [
          "SIDD"
         ],
         "yaxis": "y36"
        },
        {
         "marker": {
          "color": "royalblue"
         },
         "name": "Z-DNA",
         "orientation": "h",
         "showlegend": false,
         "textposition": "outside",
         "texttemplate": "%{x:,d}",
         "type": "bar",
         "width": 1,
         "x": [
          2
         ],
         "xaxis": "x38",
         "y": [
          "Z-DNA"
         ],
         "yaxis": "y38"
        },
        {
         "marker": {
          "color": "darkorchid"
         },
         "name": "H-DNA",
         "orientation": "h",
         "showlegend": false,
         "textposition": "outside",
         "texttemplate": "%{x:,d}",
         "type": "bar",
         "width": 1,
         "x": [
          10
         ],
         "xaxis": "x39",
         "y": [
          "H-DNA"
         ],
         "yaxis": "y39"
        },
        {
         "marker": {
          "color": "#ED4241"
         },
         "name": "SIDD",
         "orientation": "h",
         "showlegend": false,
         "textposition": "outside",
         "texttemplate": "%{x:,d}",
         "type": "bar",
         "width": 1,
         "x": [
          2
         ],
         "xaxis": "x39",
         "y": [
          "SIDD"
         ],
         "yaxis": "y39"
        },
        {
         "marker": {
          "color": "royalblue"
         },
         "name": "Z-DNA",
         "orientation": "h",
         "showlegend": false,
         "textposition": "outside",
         "texttemplate": "%{x:,d}",
         "type": "bar",
         "width": 1,
         "x": [
          8
         ],
         "xaxis": "x39",
         "y": [
          "Z-DNA"
         ],
         "yaxis": "y39"
        },
        {
         "marker": {
          "color": "#FE9B54"
         },
         "name": "G4",
         "orientation": "h",
         "showlegend": false,
         "textposition": "outside",
         "texttemplate": "%{x:,d}",
         "type": "bar",
         "width": 1,
         "x": [
          7
         ],
         "xaxis": "x39",
         "y": [
          "G4"
         ],
         "yaxis": "y39"
        },
        {
         "marker": {
          "color": "darkorchid"
         },
         "name": "H-DNA",
         "orientation": "h",
         "showlegend": false,
         "textposition": "outside",
         "texttemplate": "%{x:,d}",
         "type": "bar",
         "width": 1,
         "x": [
          27
         ],
         "xaxis": "x40",
         "y": [
          "H-DNA"
         ],
         "yaxis": "y40"
        },
        {
         "marker": {
          "color": "#ED4241"
         },
         "name": "SIDD",
         "orientation": "h",
         "showlegend": false,
         "textposition": "outside",
         "texttemplate": "%{x:,d}",
         "type": "bar",
         "width": 1,
         "x": [
          8
         ],
         "xaxis": "x40",
         "y": [
          "SIDD"
         ],
         "yaxis": "y40"
        },
        {
         "marker": {
          "color": "royalblue"
         },
         "name": "Z-DNA",
         "orientation": "h",
         "showlegend": false,
         "textposition": "outside",
         "texttemplate": "%{x:,d}",
         "type": "bar",
         "width": 1,
         "x": [
          29
         ],
         "xaxis": "x40",
         "y": [
          "Z-DNA"
         ],
         "yaxis": "y40"
        },
        {
         "marker": {
          "color": "#FE9B54"
         },
         "name": "G4",
         "orientation": "h",
         "showlegend": false,
         "textposition": "outside",
         "texttemplate": "%{x:,d}",
         "type": "bar",
         "width": 1,
         "x": [
          25
         ],
         "xaxis": "x40",
         "y": [
          "G4"
         ],
         "yaxis": "y40"
        },
        {
         "marker": {
          "color": "darkorchid"
         },
         "name": "H-DNA",
         "orientation": "h",
         "showlegend": false,
         "textposition": "outside",
         "texttemplate": "%{x:,d}",
         "type": "bar",
         "width": 1,
         "x": [
          350
         ],
         "xaxis": "x41",
         "y": [
          "H-DNA"
         ],
         "yaxis": "y41"
        },
        {
         "marker": {
          "color": "#ED4241"
         },
         "name": "SIDD",
         "orientation": "h",
         "showlegend": false,
         "textposition": "outside",
         "texttemplate": "%{x:,d}",
         "type": "bar",
         "width": 1,
         "x": [
          142
         ],
         "xaxis": "x41",
         "y": [
          "SIDD"
         ],
         "yaxis": "y41"
        },
        {
         "marker": {
          "color": "royalblue"
         },
         "name": "Z-DNA",
         "orientation": "h",
         "showlegend": false,
         "textposition": "inside",
         "texttemplate": "%{x:,d}",
         "type": "bar",
         "width": 1,
         "x": [
          1465
         ],
         "xaxis": "x41",
         "y": [
          "Z-DNA"
         ],
         "yaxis": "y41"
        },
        {
         "marker": {
          "color": "#FE9B54"
         },
         "name": "G4",
         "orientation": "h",
         "showlegend": false,
         "textposition": "outside",
         "texttemplate": "%{x:,d}",
         "type": "bar",
         "width": 1,
         "x": [
          1253
         ],
         "xaxis": "x41",
         "y": [
          "G4"
         ],
         "yaxis": "y41"
        },
        {
         "marker": {
          "color": "darkorchid"
         },
         "name": "H-DNA",
         "orientation": "h",
         "showlegend": false,
         "textposition": "outside",
         "texttemplate": "%{x:,d}",
         "type": "bar",
         "width": 1,
         "x": [
          37
         ],
         "xaxis": "x42",
         "y": [
          "H-DNA"
         ],
         "yaxis": "y42"
        },
        {
         "marker": {
          "color": "#ED4241"
         },
         "name": "SIDD",
         "orientation": "h",
         "showlegend": false,
         "textposition": "outside",
         "texttemplate": "%{x:,d}",
         "type": "bar",
         "width": 1,
         "x": [
          28
         ],
         "xaxis": "x42",
         "y": [
          "SIDD"
         ],
         "yaxis": "y42"
        },
        {
         "marker": {
          "color": "royalblue"
         },
         "name": "Z-DNA",
         "orientation": "h",
         "showlegend": false,
         "textposition": "outside",
         "texttemplate": "%{x:,d}",
         "type": "bar",
         "width": 1,
         "x": [
          104
         ],
         "xaxis": "x42",
         "y": [
          "Z-DNA"
         ],
         "yaxis": "y42"
        },
        {
         "marker": {
          "color": "#FE9B54"
         },
         "name": "G4",
         "orientation": "h",
         "showlegend": false,
         "textposition": "outside",
         "texttemplate": "%{x:,d}",
         "type": "bar",
         "width": 1,
         "x": [
          73
         ],
         "xaxis": "x42",
         "y": [
          "G4"
         ],
         "yaxis": "y42"
        },
        {
         "marker": {
          "color": "darkorchid"
         },
         "name": "H-DNA",
         "orientation": "h",
         "showlegend": false,
         "textposition": "outside",
         "texttemplate": "%{x:,d}",
         "type": "bar",
         "width": 1,
         "x": [
          14
         ],
         "xaxis": "x43",
         "y": [
          "H-DNA"
         ],
         "yaxis": "y43"
        },
        {
         "marker": {
          "color": "#ED4241"
         },
         "name": "SIDD",
         "orientation": "h",
         "showlegend": false,
         "textposition": "outside",
         "texttemplate": "%{x:,d}",
         "type": "bar",
         "width": 1,
         "x": [
          13
         ],
         "xaxis": "x43",
         "y": [
          "SIDD"
         ],
         "yaxis": "y43"
        },
        {
         "marker": {
          "color": "royalblue"
         },
         "name": "Z-DNA",
         "orientation": "h",
         "showlegend": false,
         "textposition": "outside",
         "texttemplate": "%{x:,d}",
         "type": "bar",
         "width": 1,
         "x": [
          34
         ],
         "xaxis": "x43",
         "y": [
          "Z-DNA"
         ],
         "yaxis": "y43"
        },
        {
         "marker": {
          "color": "#FE9B54"
         },
         "name": "G4",
         "orientation": "h",
         "showlegend": false,
         "textposition": "outside",
         "texttemplate": "%{x:,d}",
         "type": "bar",
         "width": 1,
         "x": [
          29
         ],
         "xaxis": "x43",
         "y": [
          "G4"
         ],
         "yaxis": "y43"
        },
        {
         "marker": {
          "color": "darkorchid"
         },
         "name": "H-DNA",
         "orientation": "h",
         "showlegend": false,
         "textposition": "outside",
         "texttemplate": "%{x:,d}",
         "type": "bar",
         "width": 1,
         "x": [
          34
         ],
         "xaxis": "x44",
         "y": [
          "H-DNA"
         ],
         "yaxis": "y44"
        },
        {
         "marker": {
          "color": "#ED4241"
         },
         "name": "SIDD",
         "orientation": "h",
         "showlegend": false,
         "textposition": "outside",
         "texttemplate": "%{x:,d}",
         "type": "bar",
         "width": 1,
         "x": [
          22
         ],
         "xaxis": "x44",
         "y": [
          "SIDD"
         ],
         "yaxis": "y44"
        },
        {
         "marker": {
          "color": "royalblue"
         },
         "name": "Z-DNA",
         "orientation": "h",
         "showlegend": false,
         "textposition": "outside",
         "texttemplate": "%{x:,d}",
         "type": "bar",
         "width": 1,
         "x": [
          85
         ],
         "xaxis": "x44",
         "y": [
          "Z-DNA"
         ],
         "yaxis": "y44"
        },
        {
         "marker": {
          "color": "#FE9B54"
         },
         "name": "G4",
         "orientation": "h",
         "showlegend": false,
         "textposition": "outside",
         "texttemplate": "%{x:,d}",
         "type": "bar",
         "width": 1,
         "x": [
          84
         ],
         "xaxis": "x44",
         "y": [
          "G4"
         ],
         "yaxis": "y44"
        },
        {
         "marker": {
          "color": "royalblue"
         },
         "name": "Z-DNA",
         "orientation": "h",
         "showlegend": false,
         "textposition": "outside",
         "texttemplate": "%{x:,d}",
         "type": "bar",
         "width": 1,
         "x": [
          2
         ],
         "xaxis": "x45",
         "y": [
          "Z-DNA"
         ],
         "yaxis": "y45"
        },
        {
         "marker": {
          "color": "#FE9B54"
         },
         "name": "G4",
         "orientation": "h",
         "showlegend": false,
         "textposition": "outside",
         "texttemplate": "%{x:,d}",
         "type": "bar",
         "width": 1,
         "x": [
          2
         ],
         "xaxis": "x45",
         "y": [
          "G4"
         ],
         "yaxis": "y45"
        },
        {
         "marker": {
          "color": "darkorchid"
         },
         "name": "H-DNA",
         "orientation": "h",
         "showlegend": false,
         "textposition": "outside",
         "texttemplate": "%{x:,d}",
         "type": "bar",
         "width": 1,
         "x": [
          5
         ],
         "xaxis": "x46",
         "y": [
          "H-DNA"
         ],
         "yaxis": "y46"
        },
        {
         "marker": {
          "color": "#ED4241"
         },
         "name": "SIDD",
         "orientation": "h",
         "showlegend": false,
         "textposition": "outside",
         "texttemplate": "%{x:,d}",
         "type": "bar",
         "width": 1,
         "x": [
          7
         ],
         "xaxis": "x46",
         "y": [
          "SIDD"
         ],
         "yaxis": "y46"
        },
        {
         "marker": {
          "color": "royalblue"
         },
         "name": "Z-DNA",
         "orientation": "h",
         "showlegend": false,
         "textposition": "outside",
         "texttemplate": "%{x:,d}",
         "type": "bar",
         "width": 1,
         "x": [
          11
         ],
         "xaxis": "x46",
         "y": [
          "Z-DNA"
         ],
         "yaxis": "y46"
        },
        {
         "marker": {
          "color": "#FE9B54"
         },
         "name": "G4",
         "orientation": "h",
         "showlegend": false,
         "textposition": "outside",
         "texttemplate": "%{x:,d}",
         "type": "bar",
         "width": 1,
         "x": [
          18
         ],
         "xaxis": "x46",
         "y": [
          "G4"
         ],
         "yaxis": "y46"
        },
        {
         "marker": {
          "color": "#ED4241"
         },
         "name": "SIDD",
         "orientation": "h",
         "showlegend": false,
         "textposition": "outside",
         "texttemplate": "%{x:,d}",
         "type": "bar",
         "width": 1,
         "x": [
          1
         ],
         "xaxis": "x47",
         "y": [
          "SIDD"
         ],
         "yaxis": "y47"
        },
        {
         "marker": {
          "color": "royalblue"
         },
         "name": "Z-DNA",
         "orientation": "h",
         "showlegend": false,
         "textposition": "outside",
         "texttemplate": "%{x:,d}",
         "type": "bar",
         "width": 1,
         "x": [
          2
         ],
         "xaxis": "x47",
         "y": [
          "Z-DNA"
         ],
         "yaxis": "y47"
        },
        {
         "marker": {
          "color": "#FE9B54"
         },
         "name": "G4",
         "orientation": "h",
         "showlegend": false,
         "textposition": "outside",
         "texttemplate": "%{x:,d}",
         "type": "bar",
         "width": 1,
         "x": [
          1
         ],
         "xaxis": "x47",
         "y": [
          "G4"
         ],
         "yaxis": "y47"
        },
        {
         "marker": {
          "color": "darkorchid"
         },
         "name": "H-DNA",
         "orientation": "h",
         "showlegend": false,
         "textposition": "outside",
         "texttemplate": "%{x:,d}",
         "type": "bar",
         "width": 1,
         "x": [
          1
         ],
         "xaxis": "x48",
         "y": [
          "H-DNA"
         ],
         "yaxis": "y48"
        },
        {
         "marker": {
          "color": "#ED4241"
         },
         "name": "SIDD",
         "orientation": "h",
         "showlegend": false,
         "textposition": "outside",
         "texttemplate": "%{x:,d}",
         "type": "bar",
         "width": 1,
         "x": [
          2
         ],
         "xaxis": "x48",
         "y": [
          "SIDD"
         ],
         "yaxis": "y48"
        },
        {
         "marker": {
          "color": "royalblue"
         },
         "name": "Z-DNA",
         "orientation": "h",
         "showlegend": false,
         "textposition": "outside",
         "texttemplate": "%{x:,d}",
         "type": "bar",
         "width": 1,
         "x": [
          60
         ],
         "xaxis": "x48",
         "y": [
          "Z-DNA"
         ],
         "yaxis": "y48"
        },
        {
         "marker": {
          "color": "#FE9B54"
         },
         "name": "G4",
         "orientation": "h",
         "showlegend": false,
         "textposition": "outside",
         "texttemplate": "%{x:,d}",
         "type": "bar",
         "width": 1,
         "x": [
          16
         ],
         "xaxis": "x48",
         "y": [
          "G4"
         ],
         "yaxis": "y48"
        },
        {
         "marker": {
          "color": "darkorchid"
         },
         "name": "H-DNA",
         "orientation": "h",
         "showlegend": false,
         "textposition": "outside",
         "texttemplate": "%{x:,d}",
         "type": "bar",
         "width": 1,
         "x": [
          33
         ],
         "xaxis": "x49",
         "y": [
          "H-DNA"
         ],
         "yaxis": "y49"
        },
        {
         "marker": {
          "color": "#ED4241"
         },
         "name": "SIDD",
         "orientation": "h",
         "showlegend": false,
         "textposition": "outside",
         "texttemplate": "%{x:,d}",
         "type": "bar",
         "width": 1,
         "x": [
          18
         ],
         "xaxis": "x49",
         "y": [
          "SIDD"
         ],
         "yaxis": "y49"
        },
        {
         "marker": {
          "color": "royalblue"
         },
         "name": "Z-DNA",
         "orientation": "h",
         "showlegend": false,
         "textposition": "outside",
         "texttemplate": "%{x:,d}",
         "type": "bar",
         "width": 1,
         "x": [
          47
         ],
         "xaxis": "x49",
         "y": [
          "Z-DNA"
         ],
         "yaxis": "y49"
        },
        {
         "marker": {
          "color": "#FE9B54"
         },
         "name": "G4",
         "orientation": "h",
         "showlegend": false,
         "textposition": "outside",
         "texttemplate": "%{x:,d}",
         "type": "bar",
         "width": 1,
         "x": [
          49
         ],
         "xaxis": "x49",
         "y": [
          "G4"
         ],
         "yaxis": "y49"
        },
        {
         "marker": {
          "color": "darkorchid"
         },
         "name": "H-DNA",
         "orientation": "h",
         "showlegend": false,
         "textposition": "outside",
         "texttemplate": "%{x:,d}",
         "type": "bar",
         "width": 1,
         "x": [
          308
         ],
         "xaxis": "x50",
         "y": [
          "H-DNA"
         ],
         "yaxis": "y50"
        },
        {
         "marker": {
          "color": "#ED4241"
         },
         "name": "SIDD",
         "orientation": "h",
         "showlegend": false,
         "textposition": "outside",
         "texttemplate": "%{x:,d}",
         "type": "bar",
         "width": 1,
         "x": [
          71
         ],
         "xaxis": "x50",
         "y": [
          "SIDD"
         ],
         "yaxis": "y50"
        },
        {
         "marker": {
          "color": "royalblue"
         },
         "name": "Z-DNA",
         "orientation": "h",
         "showlegend": false,
         "textposition": "inside",
         "texttemplate": "%{x:,d}",
         "type": "bar",
         "width": 1,
         "x": [
          4134
         ],
         "xaxis": "x50",
         "y": [
          "Z-DNA"
         ],
         "yaxis": "y50"
        },
        {
         "marker": {
          "color": "#FE9B54"
         },
         "name": "G4",
         "orientation": "h",
         "showlegend": false,
         "textposition": "inside",
         "texttemplate": "%{x:,d}",
         "type": "bar",
         "width": 1,
         "x": [
          2135
         ],
         "xaxis": "x50",
         "y": [
          "G4"
         ],
         "yaxis": "y50"
        },
        {
         "marker": {
          "color": "#ED4241"
         },
         "name": "SIDD",
         "orientation": "h",
         "showlegend": false,
         "textposition": "outside",
         "texttemplate": "%{x:,d}",
         "type": "bar",
         "width": 1,
         "x": [
          1
         ],
         "xaxis": "x51",
         "y": [
          "SIDD"
         ],
         "yaxis": "y51"
        },
        {
         "marker": {
          "color": "#FE9B54"
         },
         "name": "G4",
         "orientation": "h",
         "showlegend": false,
         "textposition": "outside",
         "texttemplate": "%{x:,d}",
         "type": "bar",
         "width": 1,
         "x": [
          2
         ],
         "xaxis": "x51",
         "y": [
          "G4"
         ],
         "yaxis": "y51"
        },
        {
         "marker": {
          "color": "darkorchid"
         },
         "name": "H-DNA",
         "orientation": "h",
         "showlegend": false,
         "textposition": "outside",
         "texttemplate": "%{x:,d}",
         "type": "bar",
         "width": 1,
         "x": [
          2
         ],
         "xaxis": "x52",
         "y": [
          "H-DNA"
         ],
         "yaxis": "y52"
        },
        {
         "marker": {
          "color": "royalblue"
         },
         "name": "Z-DNA",
         "orientation": "h",
         "showlegend": false,
         "textposition": "outside",
         "texttemplate": "%{x:,d}",
         "type": "bar",
         "width": 1,
         "x": [
          2
         ],
         "xaxis": "x52",
         "y": [
          "Z-DNA"
         ],
         "yaxis": "y52"
        },
        {
         "marker": {
          "color": "#FE9B54"
         },
         "name": "G4",
         "orientation": "h",
         "showlegend": false,
         "textposition": "outside",
         "texttemplate": "%{x:,d}",
         "type": "bar",
         "width": 1,
         "x": [
          1
         ],
         "xaxis": "x52",
         "y": [
          "G4"
         ],
         "yaxis": "y52"
        },
        {
         "marker": {
          "color": "darkorchid"
         },
         "name": "H-DNA",
         "orientation": "h",
         "showlegend": false,
         "textposition": "outside",
         "texttemplate": "%{x:,d}",
         "type": "bar",
         "width": 1,
         "x": [
          1
         ],
         "xaxis": "x53",
         "y": [
          "H-DNA"
         ],
         "yaxis": "y53"
        },
        {
         "marker": {
          "color": "#FE9B54"
         },
         "name": "G4",
         "orientation": "h",
         "showlegend": false,
         "textposition": "outside",
         "texttemplate": "%{x:,d}",
         "type": "bar",
         "width": 1,
         "x": [
          1
         ],
         "xaxis": "x53",
         "y": [
          "G4"
         ],
         "yaxis": "y53"
        },
        {
         "marker": {
          "color": "darkorchid"
         },
         "name": "H-DNA",
         "orientation": "h",
         "showlegend": false,
         "textposition": "outside",
         "texttemplate": "%{x:,d}",
         "type": "bar",
         "width": 1,
         "x": [
          12
         ],
         "xaxis": "x54",
         "y": [
          "H-DNA"
         ],
         "yaxis": "y54"
        },
        {
         "marker": {
          "color": "#ED4241"
         },
         "name": "SIDD",
         "orientation": "h",
         "showlegend": false,
         "textposition": "outside",
         "texttemplate": "%{x:,d}",
         "type": "bar",
         "width": 1,
         "x": [
          15
         ],
         "xaxis": "x54",
         "y": [
          "SIDD"
         ],
         "yaxis": "y54"
        },
        {
         "marker": {
          "color": "royalblue"
         },
         "name": "Z-DNA",
         "orientation": "h",
         "showlegend": false,
         "textposition": "outside",
         "texttemplate": "%{x:,d}",
         "type": "bar",
         "width": 1,
         "x": [
          13
         ],
         "xaxis": "x54",
         "y": [
          "Z-DNA"
         ],
         "yaxis": "y54"
        },
        {
         "marker": {
          "color": "#FE9B54"
         },
         "name": "G4",
         "orientation": "h",
         "showlegend": false,
         "textposition": "outside",
         "texttemplate": "%{x:,d}",
         "type": "bar",
         "width": 1,
         "x": [
          17
         ],
         "xaxis": "x54",
         "y": [
          "G4"
         ],
         "yaxis": "y54"
        },
        {
         "marker": {
          "color": "darkorchid"
         },
         "name": "H-DNA",
         "orientation": "h",
         "showlegend": false,
         "textposition": "outside",
         "texttemplate": "%{x:,d}",
         "type": "bar",
         "width": 1,
         "x": [
          5
         ],
         "xaxis": "x59",
         "y": [
          "H-DNA"
         ],
         "yaxis": "y59"
        },
        {
         "marker": {
          "color": "#ED4241"
         },
         "name": "SIDD",
         "orientation": "h",
         "showlegend": false,
         "textposition": "outside",
         "texttemplate": "%{x:,d}",
         "type": "bar",
         "width": 1,
         "x": [
          10
         ],
         "xaxis": "x59",
         "y": [
          "SIDD"
         ],
         "yaxis": "y59"
        },
        {
         "marker": {
          "color": "royalblue"
         },
         "name": "Z-DNA",
         "orientation": "h",
         "showlegend": false,
         "textposition": "outside",
         "texttemplate": "%{x:,d}",
         "type": "bar",
         "width": 1,
         "x": [
          3
         ],
         "xaxis": "x59",
         "y": [
          "Z-DNA"
         ],
         "yaxis": "y59"
        },
        {
         "marker": {
          "color": "#FE9B54"
         },
         "name": "G4",
         "orientation": "h",
         "showlegend": false,
         "textposition": "outside",
         "texttemplate": "%{x:,d}",
         "type": "bar",
         "width": 1,
         "x": [
          3
         ],
         "xaxis": "x59",
         "y": [
          "G4"
         ],
         "yaxis": "y59"
        },
        {
         "marker": {
          "color": "darkorchid"
         },
         "name": "H-DNA",
         "orientation": "h",
         "showlegend": false,
         "textposition": "outside",
         "texttemplate": "%{x:,d}",
         "type": "bar",
         "width": 1,
         "x": [
          18
         ],
         "xaxis": "x60",
         "y": [
          "H-DNA"
         ],
         "yaxis": "y60"
        },
        {
         "marker": {
          "color": "#ED4241"
         },
         "name": "SIDD",
         "orientation": "h",
         "showlegend": false,
         "textposition": "outside",
         "texttemplate": "%{x:,d}",
         "type": "bar",
         "width": 1,
         "x": [
          9
         ],
         "xaxis": "x60",
         "y": [
          "SIDD"
         ],
         "yaxis": "y60"
        },
        {
         "marker": {
          "color": "royalblue"
         },
         "name": "Z-DNA",
         "orientation": "h",
         "showlegend": false,
         "textposition": "outside",
         "texttemplate": "%{x:,d}",
         "type": "bar",
         "width": 1,
         "x": [
          17
         ],
         "xaxis": "x60",
         "y": [
          "Z-DNA"
         ],
         "yaxis": "y60"
        },
        {
         "marker": {
          "color": "#FE9B54"
         },
         "name": "G4",
         "orientation": "h",
         "showlegend": false,
         "textposition": "outside",
         "texttemplate": "%{x:,d}",
         "type": "bar",
         "width": 1,
         "x": [
          9
         ],
         "xaxis": "x60",
         "y": [
          "G4"
         ],
         "yaxis": "y60"
        },
        {
         "marker": {
          "color": "darkorchid"
         },
         "name": "H-DNA",
         "orientation": "h",
         "showlegend": false,
         "textposition": "outside",
         "texttemplate": "%{x:,d}",
         "type": "bar",
         "width": 1,
         "x": [
          13
         ],
         "xaxis": "x61",
         "y": [
          "H-DNA"
         ],
         "yaxis": "y61"
        },
        {
         "marker": {
          "color": "#ED4241"
         },
         "name": "SIDD",
         "orientation": "h",
         "showlegend": false,
         "textposition": "outside",
         "texttemplate": "%{x:,d}",
         "type": "bar",
         "width": 1,
         "x": [
          8
         ],
         "xaxis": "x61",
         "y": [
          "SIDD"
         ],
         "yaxis": "y61"
        },
        {
         "marker": {
          "color": "royalblue"
         },
         "name": "Z-DNA",
         "orientation": "h",
         "showlegend": false,
         "textposition": "outside",
         "texttemplate": "%{x:,d}",
         "type": "bar",
         "width": 1,
         "x": [
          21
         ],
         "xaxis": "x61",
         "y": [
          "Z-DNA"
         ],
         "yaxis": "y61"
        },
        {
         "marker": {
          "color": "#FE9B54"
         },
         "name": "G4",
         "orientation": "h",
         "showlegend": false,
         "textposition": "outside",
         "texttemplate": "%{x:,d}",
         "type": "bar",
         "width": 1,
         "x": [
          12
         ],
         "xaxis": "x61",
         "y": [
          "G4"
         ],
         "yaxis": "y61"
        },
        {
         "marker": {
          "color": "darkorchid"
         },
         "name": "H-DNA",
         "orientation": "h",
         "showlegend": false,
         "textposition": "outside",
         "texttemplate": "%{x:,d}",
         "type": "bar",
         "width": 1,
         "x": [
          2
         ],
         "xaxis": "x62",
         "y": [
          "H-DNA"
         ],
         "yaxis": "y62"
        },
        {
         "marker": {
          "color": "royalblue"
         },
         "name": "Z-DNA",
         "orientation": "h",
         "showlegend": false,
         "textposition": "outside",
         "texttemplate": "%{x:,d}",
         "type": "bar",
         "width": 1,
         "x": [
          3
         ],
         "xaxis": "x62",
         "y": [
          "Z-DNA"
         ],
         "yaxis": "y62"
        },
        {
         "marker": {
          "color": "#FE9B54"
         },
         "name": "G4",
         "orientation": "h",
         "showlegend": false,
         "textposition": "outside",
         "texttemplate": "%{x:,d}",
         "type": "bar",
         "width": 1,
         "x": [
          2
         ],
         "xaxis": "x62",
         "y": [
          "G4"
         ],
         "yaxis": "y62"
        },
        {
         "marker": {
          "color": "#ED4241"
         },
         "name": "SIDD",
         "orientation": "h",
         "showlegend": false,
         "textposition": "outside",
         "texttemplate": "%{x:,d}",
         "type": "bar",
         "width": 1,
         "x": [
          1
         ],
         "xaxis": "x63",
         "y": [
          "SIDD"
         ],
         "yaxis": "y63"
        },
        {
         "marker": {
          "color": "darkorchid"
         },
         "name": "H-DNA",
         "orientation": "h",
         "showlegend": false,
         "textposition": "outside",
         "texttemplate": "%{x:,d}",
         "type": "bar",
         "width": 1,
         "x": [
          8
         ],
         "xaxis": "x64",
         "y": [
          "H-DNA"
         ],
         "yaxis": "y64"
        },
        {
         "marker": {
          "color": "#ED4241"
         },
         "name": "SIDD",
         "orientation": "h",
         "showlegend": false,
         "textposition": "outside",
         "texttemplate": "%{x:,d}",
         "type": "bar",
         "width": 1,
         "x": [
          9
         ],
         "xaxis": "x64",
         "y": [
          "SIDD"
         ],
         "yaxis": "y64"
        },
        {
         "marker": {
          "color": "royalblue"
         },
         "name": "Z-DNA",
         "orientation": "h",
         "showlegend": false,
         "textposition": "outside",
         "texttemplate": "%{x:,d}",
         "type": "bar",
         "width": 1,
         "x": [
          9
         ],
         "xaxis": "x64",
         "y": [
          "Z-DNA"
         ],
         "yaxis": "y64"
        },
        {
         "marker": {
          "color": "#FE9B54"
         },
         "name": "G4",
         "orientation": "h",
         "showlegend": false,
         "textposition": "outside",
         "texttemplate": "%{x:,d}",
         "type": "bar",
         "width": 1,
         "x": [
          6
         ],
         "xaxis": "x64",
         "y": [
          "G4"
         ],
         "yaxis": "y64"
        },
        {
         "marker": {
          "color": "#ED4241"
         },
         "name": "SIDD",
         "orientation": "h",
         "showlegend": false,
         "textposition": "outside",
         "texttemplate": "%{x:,d}",
         "type": "bar",
         "width": 1,
         "x": [
          2
         ],
         "xaxis": "x66",
         "y": [
          "SIDD"
         ],
         "yaxis": "y66"
        },
        {
         "marker": {
          "color": "#FE9B54"
         },
         "name": "G4",
         "orientation": "h",
         "showlegend": false,
         "textposition": "outside",
         "texttemplate": "%{x:,d}",
         "type": "bar",
         "width": 1,
         "x": [
          1
         ],
         "xaxis": "x66",
         "y": [
          "G4"
         ],
         "yaxis": "y66"
        },
        {
         "marker": {
          "color": "#ED4241"
         },
         "name": "SIDD",
         "orientation": "h",
         "showlegend": false,
         "textposition": "outside",
         "texttemplate": "%{x:,d}",
         "type": "bar",
         "width": 1,
         "x": [
          1
         ],
         "xaxis": "x68",
         "y": [
          "SIDD"
         ],
         "yaxis": "y68"
        },
        {
         "marker": {
          "color": "royalblue"
         },
         "name": "Z-DNA",
         "orientation": "h",
         "showlegend": false,
         "textposition": "outside",
         "texttemplate": "%{x:,d}",
         "type": "bar",
         "width": 1,
         "x": [
          1
         ],
         "xaxis": "x68",
         "y": [
          "Z-DNA"
         ],
         "yaxis": "y68"
        },
        {
         "marker": {
          "color": "darkorchid"
         },
         "name": "H-DNA",
         "orientation": "h",
         "showlegend": false,
         "textposition": "outside",
         "texttemplate": "%{x:,d}",
         "type": "bar",
         "width": 1,
         "x": [
          12
         ],
         "xaxis": "x69",
         "y": [
          "H-DNA"
         ],
         "yaxis": "y69"
        },
        {
         "marker": {
          "color": "#ED4241"
         },
         "name": "SIDD",
         "orientation": "h",
         "showlegend": false,
         "textposition": "outside",
         "texttemplate": "%{x:,d}",
         "type": "bar",
         "width": 1,
         "x": [
          10
         ],
         "xaxis": "x69",
         "y": [
          "SIDD"
         ],
         "yaxis": "y69"
        },
        {
         "marker": {
          "color": "royalblue"
         },
         "name": "Z-DNA",
         "orientation": "h",
         "showlegend": false,
         "textposition": "outside",
         "texttemplate": "%{x:,d}",
         "type": "bar",
         "width": 1,
         "x": [
          4
         ],
         "xaxis": "x69",
         "y": [
          "Z-DNA"
         ],
         "yaxis": "y69"
        },
        {
         "marker": {
          "color": "#FE9B54"
         },
         "name": "G4",
         "orientation": "h",
         "showlegend": false,
         "textposition": "outside",
         "texttemplate": "%{x:,d}",
         "type": "bar",
         "width": 1,
         "x": [
          11
         ],
         "xaxis": "x69",
         "y": [
          "G4"
         ],
         "yaxis": "y69"
        },
        {
         "marker": {
          "color": "darkorchid"
         },
         "name": "H-DNA",
         "orientation": "h",
         "showlegend": false,
         "textposition": "outside",
         "texttemplate": "%{x:,d}",
         "type": "bar",
         "width": 1,
         "x": [
          21
         ],
         "xaxis": "x70",
         "y": [
          "H-DNA"
         ],
         "yaxis": "y70"
        },
        {
         "marker": {
          "color": "#ED4241"
         },
         "name": "SIDD",
         "orientation": "h",
         "showlegend": false,
         "textposition": "outside",
         "texttemplate": "%{x:,d}",
         "type": "bar",
         "width": 1,
         "x": [
          11
         ],
         "xaxis": "x70",
         "y": [
          "SIDD"
         ],
         "yaxis": "y70"
        },
        {
         "marker": {
          "color": "royalblue"
         },
         "name": "Z-DNA",
         "orientation": "h",
         "showlegend": false,
         "textposition": "outside",
         "texttemplate": "%{x:,d}",
         "type": "bar",
         "width": 1,
         "x": [
          41
         ],
         "xaxis": "x70",
         "y": [
          "Z-DNA"
         ],
         "yaxis": "y70"
        },
        {
         "marker": {
          "color": "#FE9B54"
         },
         "name": "G4",
         "orientation": "h",
         "showlegend": false,
         "textposition": "outside",
         "texttemplate": "%{x:,d}",
         "type": "bar",
         "width": 1,
         "x": [
          24
         ],
         "xaxis": "x70",
         "y": [
          "G4"
         ],
         "yaxis": "y70"
        },
        {
         "marker": {
          "color": "darkorchid"
         },
         "name": "H-DNA",
         "orientation": "h",
         "showlegend": false,
         "textposition": "outside",
         "texttemplate": "%{x:,d}",
         "type": "bar",
         "width": 1,
         "x": [
          206
         ],
         "xaxis": "x71",
         "y": [
          "H-DNA"
         ],
         "yaxis": "y71"
        },
        {
         "marker": {
          "color": "#ED4241"
         },
         "name": "SIDD",
         "orientation": "h",
         "showlegend": false,
         "textposition": "outside",
         "texttemplate": "%{x:,d}",
         "type": "bar",
         "width": 1,
         "x": [
          91
         ],
         "xaxis": "x71",
         "y": [
          "SIDD"
         ],
         "yaxis": "y71"
        },
        {
         "marker": {
          "color": "royalblue"
         },
         "name": "Z-DNA",
         "orientation": "h",
         "showlegend": false,
         "textposition": "outside",
         "texttemplate": "%{x:,d}",
         "type": "bar",
         "width": 1,
         "x": [
          353
         ],
         "xaxis": "x71",
         "y": [
          "Z-DNA"
         ],
         "yaxis": "y71"
        },
        {
         "marker": {
          "color": "#FE9B54"
         },
         "name": "G4",
         "orientation": "h",
         "showlegend": false,
         "textposition": "outside",
         "texttemplate": "%{x:,d}",
         "type": "bar",
         "width": 1,
         "x": [
          364
         ],
         "xaxis": "x71",
         "y": [
          "G4"
         ],
         "yaxis": "y71"
        },
        {
         "marker": {
          "color": "darkorchid"
         },
         "name": "H-DNA",
         "orientation": "h",
         "showlegend": false,
         "textposition": "outside",
         "texttemplate": "%{x:,d}",
         "type": "bar",
         "width": 1,
         "x": [
          123
         ],
         "xaxis": "x72",
         "y": [
          "H-DNA"
         ],
         "yaxis": "y72"
        },
        {
         "marker": {
          "color": "#ED4241"
         },
         "name": "SIDD",
         "orientation": "h",
         "showlegend": false,
         "textposition": "outside",
         "texttemplate": "%{x:,d}",
         "type": "bar",
         "width": 1,
         "x": [
          63
         ],
         "xaxis": "x72",
         "y": [
          "SIDD"
         ],
         "yaxis": "y72"
        },
        {
         "marker": {
          "color": "royalblue"
         },
         "name": "Z-DNA",
         "orientation": "h",
         "showlegend": false,
         "textposition": "outside",
         "texttemplate": "%{x:,d}",
         "type": "bar",
         "width": 1,
         "x": [
          181
         ],
         "xaxis": "x72",
         "y": [
          "Z-DNA"
         ],
         "yaxis": "y72"
        },
        {
         "marker": {
          "color": "#FE9B54"
         },
         "name": "G4",
         "orientation": "h",
         "showlegend": false,
         "textposition": "outside",
         "texttemplate": "%{x:,d}",
         "type": "bar",
         "width": 1,
         "x": [
          114
         ],
         "xaxis": "x72",
         "y": [
          "G4"
         ],
         "yaxis": "y72"
        },
        {
         "marker": {
          "color": "darkorchid"
         },
         "name": "H-DNA",
         "orientation": "h",
         "showlegend": false,
         "textposition": "outside",
         "texttemplate": "%{x:,d}",
         "type": "bar",
         "width": 1,
         "x": [
          83
         ],
         "xaxis": "x73",
         "y": [
          "H-DNA"
         ],
         "yaxis": "y73"
        },
        {
         "marker": {
          "color": "#ED4241"
         },
         "name": "SIDD",
         "orientation": "h",
         "showlegend": false,
         "textposition": "outside",
         "texttemplate": "%{x:,d}",
         "type": "bar",
         "width": 1,
         "x": [
          41
         ],
         "xaxis": "x73",
         "y": [
          "SIDD"
         ],
         "yaxis": "y73"
        },
        {
         "marker": {
          "color": "royalblue"
         },
         "name": "Z-DNA",
         "orientation": "h",
         "showlegend": false,
         "textposition": "outside",
         "texttemplate": "%{x:,d}",
         "type": "bar",
         "width": 1,
         "x": [
          122
         ],
         "xaxis": "x73",
         "y": [
          "Z-DNA"
         ],
         "yaxis": "y73"
        },
        {
         "marker": {
          "color": "#FE9B54"
         },
         "name": "G4",
         "orientation": "h",
         "showlegend": false,
         "textposition": "outside",
         "texttemplate": "%{x:,d}",
         "type": "bar",
         "width": 1,
         "x": [
          88
         ],
         "xaxis": "x73",
         "y": [
          "G4"
         ],
         "yaxis": "y73"
        },
        {
         "marker": {
          "color": "darkorchid"
         },
         "name": "H-DNA",
         "orientation": "h",
         "showlegend": false,
         "textposition": "outside",
         "texttemplate": "%{x:,d}",
         "type": "bar",
         "width": 1,
         "x": [
          646
         ],
         "xaxis": "x74",
         "y": [
          "H-DNA"
         ],
         "yaxis": "y74"
        },
        {
         "marker": {
          "color": "#ED4241"
         },
         "name": "SIDD",
         "orientation": "h",
         "showlegend": false,
         "textposition": "outside",
         "texttemplate": "%{x:,d}",
         "type": "bar",
         "width": 1,
         "x": [
          169
         ],
         "xaxis": "x74",
         "y": [
          "SIDD"
         ],
         "yaxis": "y74"
        },
        {
         "marker": {
          "color": "royalblue"
         },
         "name": "Z-DNA",
         "orientation": "h",
         "showlegend": false,
         "textposition": "outside",
         "texttemplate": "%{x:,d}",
         "type": "bar",
         "width": 1,
         "x": [
          629
         ],
         "xaxis": "x74",
         "y": [
          "Z-DNA"
         ],
         "yaxis": "y74"
        },
        {
         "marker": {
          "color": "#FE9B54"
         },
         "name": "G4",
         "orientation": "h",
         "showlegend": false,
         "textposition": "outside",
         "texttemplate": "%{x:,d}",
         "type": "bar",
         "width": 1,
         "x": [
          295
         ],
         "xaxis": "x74",
         "y": [
          "G4"
         ],
         "yaxis": "y74"
        },
        {
         "marker": {
          "color": "darkorchid"
         },
         "name": "H-DNA",
         "orientation": "h",
         "showlegend": false,
         "textposition": "outside",
         "texttemplate": "%{x:,d}",
         "type": "bar",
         "width": 1,
         "x": [
          1
         ],
         "xaxis": "x75",
         "y": [
          "H-DNA"
         ],
         "yaxis": "y75"
        },
        {
         "marker": {
          "color": "#ED4241"
         },
         "name": "SIDD",
         "orientation": "h",
         "showlegend": false,
         "textposition": "outside",
         "texttemplate": "%{x:,d}",
         "type": "bar",
         "width": 1,
         "x": [
          1
         ],
         "xaxis": "x75",
         "y": [
          "SIDD"
         ],
         "yaxis": "y75"
        },
        {
         "marker": {
          "color": "#FE9B54"
         },
         "name": "G4",
         "orientation": "h",
         "showlegend": false,
         "textposition": "outside",
         "texttemplate": "%{x:,d}",
         "type": "bar",
         "width": 1,
         "x": [
          4
         ],
         "xaxis": "x75",
         "y": [
          "G4"
         ],
         "yaxis": "y75"
        },
        {
         "marker": {
          "color": "darkorchid"
         },
         "name": "H-DNA",
         "orientation": "h",
         "showlegend": false,
         "textposition": "outside",
         "texttemplate": "%{x:,d}",
         "type": "bar",
         "width": 1,
         "x": [
          30
         ],
         "xaxis": "x76",
         "y": [
          "H-DNA"
         ],
         "yaxis": "y76"
        },
        {
         "marker": {
          "color": "#ED4241"
         },
         "name": "SIDD",
         "orientation": "h",
         "showlegend": false,
         "textposition": "outside",
         "texttemplate": "%{x:,d}",
         "type": "bar",
         "width": 1,
         "x": [
          40
         ],
         "xaxis": "x76",
         "y": [
          "SIDD"
         ],
         "yaxis": "y76"
        },
        {
         "marker": {
          "color": "royalblue"
         },
         "name": "Z-DNA",
         "orientation": "h",
         "showlegend": false,
         "textposition": "outside",
         "texttemplate": "%{x:,d}",
         "type": "bar",
         "width": 1,
         "x": [
          52
         ],
         "xaxis": "x76",
         "y": [
          "Z-DNA"
         ],
         "yaxis": "y76"
        },
        {
         "marker": {
          "color": "#FE9B54"
         },
         "name": "G4",
         "orientation": "h",
         "showlegend": false,
         "textposition": "outside",
         "texttemplate": "%{x:,d}",
         "type": "bar",
         "width": 1,
         "x": [
          56
         ],
         "xaxis": "x76",
         "y": [
          "G4"
         ],
         "yaxis": "y76"
        },
        {
         "marker": {
          "color": "royalblue"
         },
         "name": "Z-DNA",
         "orientation": "h",
         "showlegend": false,
         "textposition": "outside",
         "texttemplate": "%{x:,d}",
         "type": "bar",
         "width": 1,
         "x": [
          1
         ],
         "xaxis": "x77",
         "y": [
          "Z-DNA"
         ],
         "yaxis": "y77"
        },
        {
         "marker": {
          "color": "#FE9B54"
         },
         "name": "G4",
         "orientation": "h",
         "showlegend": false,
         "textposition": "outside",
         "texttemplate": "%{x:,d}",
         "type": "bar",
         "width": 1,
         "x": [
          2
         ],
         "xaxis": "x77",
         "y": [
          "G4"
         ],
         "yaxis": "y77"
        },
        {
         "marker": {
          "color": "darkorchid"
         },
         "name": "H-DNA",
         "orientation": "h",
         "showlegend": false,
         "textposition": "outside",
         "texttemplate": "%{x:,d}",
         "type": "bar",
         "width": 1,
         "x": [
          25
         ],
         "xaxis": "x78",
         "y": [
          "H-DNA"
         ],
         "yaxis": "y78"
        },
        {
         "marker": {
          "color": "#ED4241"
         },
         "name": "SIDD",
         "orientation": "h",
         "showlegend": false,
         "textposition": "outside",
         "texttemplate": "%{x:,d}",
         "type": "bar",
         "width": 1,
         "x": [
          17
         ],
         "xaxis": "x78",
         "y": [
          "SIDD"
         ],
         "yaxis": "y78"
        },
        {
         "marker": {
          "color": "royalblue"
         },
         "name": "Z-DNA",
         "orientation": "h",
         "showlegend": false,
         "textposition": "outside",
         "texttemplate": "%{x:,d}",
         "type": "bar",
         "width": 1,
         "x": [
          167
         ],
         "xaxis": "x78",
         "y": [
          "Z-DNA"
         ],
         "yaxis": "y78"
        },
        {
         "marker": {
          "color": "#FE9B54"
         },
         "name": "G4",
         "orientation": "h",
         "showlegend": false,
         "textposition": "outside",
         "texttemplate": "%{x:,d}",
         "type": "bar",
         "width": 1,
         "x": [
          95
         ],
         "xaxis": "x78",
         "y": [
          "G4"
         ],
         "yaxis": "y78"
        },
        {
         "marker": {
          "color": "darkorchid"
         },
         "name": "H-DNA",
         "orientation": "h",
         "showlegend": false,
         "textposition": "outside",
         "texttemplate": "%{x:,d}",
         "type": "bar",
         "width": 1,
         "x": [
          560
         ],
         "xaxis": "x79",
         "y": [
          "H-DNA"
         ],
         "yaxis": "y79"
        },
        {
         "marker": {
          "color": "#ED4241"
         },
         "name": "SIDD",
         "orientation": "h",
         "showlegend": false,
         "textposition": "outside",
         "texttemplate": "%{x:,d}",
         "type": "bar",
         "width": 1,
         "x": [
          200
         ],
         "xaxis": "x79",
         "y": [
          "SIDD"
         ],
         "yaxis": "y79"
        },
        {
         "marker": {
          "color": "royalblue"
         },
         "name": "Z-DNA",
         "orientation": "h",
         "showlegend": false,
         "textposition": "outside",
         "texttemplate": "%{x:,d}",
         "type": "bar",
         "width": 1,
         "x": [
          581
         ],
         "xaxis": "x79",
         "y": [
          "Z-DNA"
         ],
         "yaxis": "y79"
        },
        {
         "marker": {
          "color": "#FE9B54"
         },
         "name": "G4",
         "orientation": "h",
         "showlegend": false,
         "textposition": "outside",
         "texttemplate": "%{x:,d}",
         "type": "bar",
         "width": 1,
         "x": [
          334
         ],
         "xaxis": "x79",
         "y": [
          "G4"
         ],
         "yaxis": "y79"
        },
        {
         "marker": {
          "color": "darkorchid"
         },
         "name": "H-DNA",
         "orientation": "h",
         "showlegend": false,
         "textposition": "inside",
         "texttemplate": "%{x:,d}",
         "type": "bar",
         "width": 1,
         "x": [
          3313
         ],
         "xaxis": "x80",
         "y": [
          "H-DNA"
         ],
         "yaxis": "y80"
        },
        {
         "marker": {
          "color": "#ED4241"
         },
         "name": "SIDD",
         "orientation": "h",
         "showlegend": false,
         "textposition": "outside",
         "texttemplate": "%{x:,d}",
         "type": "bar",
         "width": 1,
         "x": [
          343
         ],
         "xaxis": "x80",
         "y": [
          "SIDD"
         ],
         "yaxis": "y80"
        },
        {
         "marker": {
          "color": "royalblue"
         },
         "name": "Z-DNA",
         "orientation": "h",
         "showlegend": false,
         "textposition": "inside",
         "texttemplate": "%{x:,d}",
         "type": "bar",
         "width": 1,
         "x": [
          3697
         ],
         "xaxis": "x80",
         "y": [
          "Z-DNA"
         ],
         "yaxis": "y80"
        },
        {
         "marker": {
          "color": "#FE9B54"
         },
         "name": "G4",
         "orientation": "h",
         "showlegend": false,
         "textposition": "inside",
         "texttemplate": "%{x:,d}",
         "type": "bar",
         "width": 1,
         "x": [
          1786
         ],
         "xaxis": "x80",
         "y": [
          "G4"
         ],
         "yaxis": "y80"
        }
       ],
       "layout": {
        "annotations": [
         {
          "font": {
           "size": 14
          },
          "showarrow": false,
          "text": "Promoter (<=1kb)",
          "textangle": 0,
          "x": 0.0472,
          "xanchor": "center",
          "xref": "paper",
          "y": 0.9999999999999998,
          "yanchor": "bottom",
          "yref": "paper"
         },
         {
          "font": {
           "size": 14
          },
          "showarrow": false,
          "text": "Promoter (1-2kb)",
          "textangle": 0,
          "x": 0.1456,
          "xanchor": "center",
          "xref": "paper",
          "y": 0.9999999999999998,
          "yanchor": "bottom",
          "yref": "paper"
         },
         {
          "font": {
           "size": 14
          },
          "showarrow": false,
          "text": "Promoter (2-3kb)",
          "textangle": 0,
          "x": 0.244,
          "xanchor": "center",
          "xref": "paper",
          "y": 0.9999999999999998,
          "yanchor": "bottom",
          "yref": "paper"
         },
         {
          "font": {
           "size": 14
          },
          "showarrow": false,
          "text": "Distal Intergenic",
          "textangle": 0,
          "x": 0.34240000000000004,
          "xanchor": "center",
          "xref": "paper",
          "y": 0.9999999999999998,
          "yanchor": "bottom",
          "yref": "paper"
         },
         {
          "font": {
           "size": 14
          },
          "showarrow": false,
          "text": "5' UTR",
          "textangle": 0,
          "x": 0.44079999999999997,
          "xanchor": "center",
          "xref": "paper",
          "y": 0.9999999999999998,
          "yanchor": "bottom",
          "yref": "paper"
         },
         {
          "font": {
           "size": 14
          },
          "showarrow": false,
          "text": "3' UTR",
          "textangle": 0,
          "x": 0.5392,
          "xanchor": "center",
          "xref": "paper",
          "y": 0.9999999999999998,
          "yanchor": "bottom",
          "yref": "paper"
         },
         {
          "font": {
           "size": 14
          },
          "showarrow": false,
          "text": "Downstream (<=300bp)",
          "textangle": 0,
          "x": 0.6376000000000001,
          "xanchor": "center",
          "xref": "paper",
          "y": 0.9999999999999998,
          "yanchor": "bottom",
          "yref": "paper"
         },
         {
          "font": {
           "size": 14
          },
          "showarrow": false,
          "text": "Exon",
          "textangle": 0,
          "x": 0.7360000000000001,
          "xanchor": "center",
          "xref": "paper",
          "y": 0.9999999999999998,
          "yanchor": "bottom",
          "yref": "paper"
         },
         {
          "font": {
           "size": 14
          },
          "showarrow": false,
          "text": "Intron",
          "textangle": 0,
          "x": 0.8344000000000001,
          "xanchor": "center",
          "xref": "paper",
          "y": 0.9999999999999998,
          "yanchor": "bottom",
          "yref": "paper"
         },
         {
          "font": {
           "size": 14
          },
          "showarrow": false,
          "text": "no annotation",
          "textangle": 0,
          "x": 0.9328000000000002,
          "xanchor": "center",
          "xref": "paper",
          "y": 0.9999999999999998,
          "yanchor": "bottom",
          "yref": "paper"
         },
         {
          "font": {
           "size": 14
          },
          "showarrow": false,
          "text": "cCRE",
          "textangle": 0,
          "x": 0.9800000000000002,
          "xanchor": "left",
          "xref": "paper",
          "y": 0.9418749999999998,
          "yanchor": "middle",
          "yref": "paper"
         },
         {
          "font": {
           "size": 14
          },
          "showarrow": false,
          "text": "Rep",
          "textangle": 0,
          "x": 0.9800000000000002,
          "xanchor": "left",
          "xref": "paper",
          "y": 0.8156249999999998,
          "yanchor": "middle",
          "yref": "paper"
         },
         {
          "font": {
           "size": 14
          },
          "showarrow": false,
          "text": "cCRE&Rep",
          "textangle": 0,
          "x": 0.9800000000000002,
          "xanchor": "left",
          "xref": "paper",
          "y": 0.689375,
          "yanchor": "middle",
          "yref": "paper"
         },
         {
          "font": {
           "size": 14
          },
          "showarrow": false,
          "text": "CTCF",
          "textangle": 0,
          "x": 0.9800000000000002,
          "xanchor": "left",
          "xref": "paper",
          "y": 0.563125,
          "yanchor": "middle",
          "yref": "paper"
         },
         {
          "font": {
           "size": 14
          },
          "showarrow": false,
          "text": "cCRE&CTCF",
          "textangle": 0,
          "x": 0.9800000000000002,
          "xanchor": "left",
          "xref": "paper",
          "y": 0.436875,
          "yanchor": "middle",
          "yref": "paper"
         },
         {
          "font": {
           "size": 14
          },
          "showarrow": false,
          "text": "Rep&CTCF",
          "textangle": 0,
          "x": 0.9800000000000002,
          "xanchor": "left",
          "xref": "paper",
          "y": 0.31062500000000004,
          "yanchor": "middle",
          "yref": "paper"
         },
         {
          "font": {
           "size": 14
          },
          "showarrow": false,
          "text": "cCRE&Rep&CTCF",
          "textangle": 0,
          "x": 0.9800000000000002,
          "xanchor": "left",
          "xref": "paper",
          "y": 0.184375,
          "yanchor": "middle",
          "yref": "paper"
         },
         {
          "font": {
           "size": 14
          },
          "showarrow": false,
          "text": "no annotation",
          "textangle": 0,
          "x": 0.9800000000000002,
          "xanchor": "left",
          "xref": "paper",
          "y": 0.058124999999999996,
          "yanchor": "middle",
          "yref": "paper"
         },
         {
          "font": {
           "size": 14
          },
          "showarrow": false,
          "text": "Flipon count",
          "textangle": 0,
          "x": 0.49,
          "xanchor": "center",
          "xref": "paper",
          "y": 0,
          "yanchor": "top",
          "yref": "paper",
          "yshift": -30
         }
        ],
        "font": {
         "family": "monospace",
         "size": 10
        },
        "height": 900,
        "legend": {
         "orientation": "h",
         "title": {
          "text": "Flipon group"
         },
         "traceorder": "reversed",
         "x": 0.98,
         "xanchor": "right",
         "y": 1.03,
         "yanchor": "bottom"
        },
        "margin": {
         "b": 5,
         "l": 5,
         "t": 5
        },
        "template": {
         "data": {
          "bar": [
           {
            "error_x": {
             "color": "rgb(51,51,51)"
            },
            "error_y": {
             "color": "rgb(51,51,51)"
            },
            "marker": {
             "line": {
              "color": "rgb(237,237,237)",
              "width": 0.5
             },
             "pattern": {
              "fillmode": "overlay",
              "size": 10,
              "solidity": 0.2
             }
            },
            "type": "bar"
           }
          ],
          "barpolar": [
           {
            "marker": {
             "line": {
              "color": "rgb(237,237,237)",
              "width": 0.5
             },
             "pattern": {
              "fillmode": "overlay",
              "size": 10,
              "solidity": 0.2
             }
            },
            "type": "barpolar"
           }
          ],
          "carpet": [
           {
            "aaxis": {
             "endlinecolor": "rgb(51,51,51)",
             "gridcolor": "white",
             "linecolor": "white",
             "minorgridcolor": "white",
             "startlinecolor": "rgb(51,51,51)"
            },
            "baxis": {
             "endlinecolor": "rgb(51,51,51)",
             "gridcolor": "white",
             "linecolor": "white",
             "minorgridcolor": "white",
             "startlinecolor": "rgb(51,51,51)"
            },
            "type": "carpet"
           }
          ],
          "choropleth": [
           {
            "colorbar": {
             "outlinewidth": 0,
             "tickcolor": "rgb(237,237,237)",
             "ticklen": 6,
             "ticks": "inside"
            },
            "type": "choropleth"
           }
          ],
          "contour": [
           {
            "colorbar": {
             "outlinewidth": 0,
             "tickcolor": "rgb(237,237,237)",
             "ticklen": 6,
             "ticks": "inside"
            },
            "colorscale": [
             [
              0,
              "rgb(20,44,66)"
             ],
             [
              1,
              "rgb(90,179,244)"
             ]
            ],
            "type": "contour"
           }
          ],
          "contourcarpet": [
           {
            "colorbar": {
             "outlinewidth": 0,
             "tickcolor": "rgb(237,237,237)",
             "ticklen": 6,
             "ticks": "inside"
            },
            "type": "contourcarpet"
           }
          ],
          "heatmap": [
           {
            "colorbar": {
             "outlinewidth": 0,
             "tickcolor": "rgb(237,237,237)",
             "ticklen": 6,
             "ticks": "inside"
            },
            "colorscale": [
             [
              0,
              "rgb(20,44,66)"
             ],
             [
              1,
              "rgb(90,179,244)"
             ]
            ],
            "type": "heatmap"
           }
          ],
          "heatmapgl": [
           {
            "colorbar": {
             "outlinewidth": 0,
             "tickcolor": "rgb(237,237,237)",
             "ticklen": 6,
             "ticks": "inside"
            },
            "colorscale": [
             [
              0,
              "rgb(20,44,66)"
             ],
             [
              1,
              "rgb(90,179,244)"
             ]
            ],
            "type": "heatmapgl"
           }
          ],
          "histogram": [
           {
            "marker": {
             "pattern": {
              "fillmode": "overlay",
              "size": 10,
              "solidity": 0.2
             }
            },
            "type": "histogram"
           }
          ],
          "histogram2d": [
           {
            "colorbar": {
             "outlinewidth": 0,
             "tickcolor": "rgb(237,237,237)",
             "ticklen": 6,
             "ticks": "inside"
            },
            "colorscale": [
             [
              0,
              "rgb(20,44,66)"
             ],
             [
              1,
              "rgb(90,179,244)"
             ]
            ],
            "type": "histogram2d"
           }
          ],
          "histogram2dcontour": [
           {
            "colorbar": {
             "outlinewidth": 0,
             "tickcolor": "rgb(237,237,237)",
             "ticklen": 6,
             "ticks": "inside"
            },
            "colorscale": [
             [
              0,
              "rgb(20,44,66)"
             ],
             [
              1,
              "rgb(90,179,244)"
             ]
            ],
            "type": "histogram2dcontour"
           }
          ],
          "mesh3d": [
           {
            "colorbar": {
             "outlinewidth": 0,
             "tickcolor": "rgb(237,237,237)",
             "ticklen": 6,
             "ticks": "inside"
            },
            "type": "mesh3d"
           }
          ],
          "parcoords": [
           {
            "line": {
             "colorbar": {
              "outlinewidth": 0,
              "tickcolor": "rgb(237,237,237)",
              "ticklen": 6,
              "ticks": "inside"
             }
            },
            "type": "parcoords"
           }
          ],
          "pie": [
           {
            "automargin": true,
            "type": "pie"
           }
          ],
          "scatter": [
           {
            "fillpattern": {
             "fillmode": "overlay",
             "size": 10,
             "solidity": 0.2
            },
            "type": "scatter"
           }
          ],
          "scatter3d": [
           {
            "line": {
             "colorbar": {
              "outlinewidth": 0,
              "tickcolor": "rgb(237,237,237)",
              "ticklen": 6,
              "ticks": "inside"
             }
            },
            "marker": {
             "colorbar": {
              "outlinewidth": 0,
              "tickcolor": "rgb(237,237,237)",
              "ticklen": 6,
              "ticks": "inside"
             }
            },
            "type": "scatter3d"
           }
          ],
          "scattercarpet": [
           {
            "marker": {
             "colorbar": {
              "outlinewidth": 0,
              "tickcolor": "rgb(237,237,237)",
              "ticklen": 6,
              "ticks": "inside"
             }
            },
            "type": "scattercarpet"
           }
          ],
          "scattergeo": [
           {
            "marker": {
             "colorbar": {
              "outlinewidth": 0,
              "tickcolor": "rgb(237,237,237)",
              "ticklen": 6,
              "ticks": "inside"
             }
            },
            "type": "scattergeo"
           }
          ],
          "scattergl": [
           {
            "marker": {
             "colorbar": {
              "outlinewidth": 0,
              "tickcolor": "rgb(237,237,237)",
              "ticklen": 6,
              "ticks": "inside"
             }
            },
            "type": "scattergl"
           }
          ],
          "scattermapbox": [
           {
            "marker": {
             "colorbar": {
              "outlinewidth": 0,
              "tickcolor": "rgb(237,237,237)",
              "ticklen": 6,
              "ticks": "inside"
             }
            },
            "type": "scattermapbox"
           }
          ],
          "scatterpolar": [
           {
            "marker": {
             "colorbar": {
              "outlinewidth": 0,
              "tickcolor": "rgb(237,237,237)",
              "ticklen": 6,
              "ticks": "inside"
             }
            },
            "type": "scatterpolar"
           }
          ],
          "scatterpolargl": [
           {
            "marker": {
             "colorbar": {
              "outlinewidth": 0,
              "tickcolor": "rgb(237,237,237)",
              "ticklen": 6,
              "ticks": "inside"
             }
            },
            "type": "scatterpolargl"
           }
          ],
          "scatterternary": [
           {
            "marker": {
             "colorbar": {
              "outlinewidth": 0,
              "tickcolor": "rgb(237,237,237)",
              "ticklen": 6,
              "ticks": "inside"
             }
            },
            "type": "scatterternary"
           }
          ],
          "surface": [
           {
            "colorbar": {
             "outlinewidth": 0,
             "tickcolor": "rgb(237,237,237)",
             "ticklen": 6,
             "ticks": "inside"
            },
            "colorscale": [
             [
              0,
              "rgb(20,44,66)"
             ],
             [
              1,
              "rgb(90,179,244)"
             ]
            ],
            "type": "surface"
           }
          ],
          "table": [
           {
            "cells": {
             "fill": {
              "color": "rgb(237,237,237)"
             },
             "line": {
              "color": "white"
             }
            },
            "header": {
             "fill": {
              "color": "rgb(217,217,217)"
             },
             "line": {
              "color": "white"
             }
            },
            "type": "table"
           }
          ]
         },
         "layout": {
          "annotationdefaults": {
           "arrowhead": 0,
           "arrowwidth": 1
          },
          "autotypenumbers": "strict",
          "coloraxis": {
           "colorbar": {
            "outlinewidth": 0,
            "tickcolor": "rgb(237,237,237)",
            "ticklen": 6,
            "ticks": "inside"
           }
          },
          "colorscale": {
           "sequential": [
            [
             0,
             "rgb(20,44,66)"
            ],
            [
             1,
             "rgb(90,179,244)"
            ]
           ],
           "sequentialminus": [
            [
             0,
             "rgb(20,44,66)"
            ],
            [
             1,
             "rgb(90,179,244)"
            ]
           ]
          },
          "colorway": [
           "#F8766D",
           "#A3A500",
           "#00BF7D",
           "#00B0F6",
           "#E76BF3"
          ],
          "font": {
           "color": "rgb(51,51,51)"
          },
          "geo": {
           "bgcolor": "white",
           "lakecolor": "white",
           "landcolor": "rgb(237,237,237)",
           "showlakes": true,
           "showland": true,
           "subunitcolor": "white"
          },
          "hoverlabel": {
           "align": "left"
          },
          "hovermode": "closest",
          "paper_bgcolor": "white",
          "plot_bgcolor": "rgb(237,237,237)",
          "polar": {
           "angularaxis": {
            "gridcolor": "white",
            "linecolor": "white",
            "showgrid": true,
            "tickcolor": "rgb(51,51,51)",
            "ticks": "outside"
           },
           "bgcolor": "rgb(237,237,237)",
           "radialaxis": {
            "gridcolor": "white",
            "linecolor": "white",
            "showgrid": true,
            "tickcolor": "rgb(51,51,51)",
            "ticks": "outside"
           }
          },
          "scene": {
           "xaxis": {
            "backgroundcolor": "rgb(237,237,237)",
            "gridcolor": "white",
            "gridwidth": 2,
            "linecolor": "white",
            "showbackground": true,
            "showgrid": true,
            "tickcolor": "rgb(51,51,51)",
            "ticks": "outside",
            "zerolinecolor": "white"
           },
           "yaxis": {
            "backgroundcolor": "rgb(237,237,237)",
            "gridcolor": "white",
            "gridwidth": 2,
            "linecolor": "white",
            "showbackground": true,
            "showgrid": true,
            "tickcolor": "rgb(51,51,51)",
            "ticks": "outside",
            "zerolinecolor": "white"
           },
           "zaxis": {
            "backgroundcolor": "rgb(237,237,237)",
            "gridcolor": "white",
            "gridwidth": 2,
            "linecolor": "white",
            "showbackground": true,
            "showgrid": true,
            "tickcolor": "rgb(51,51,51)",
            "ticks": "outside",
            "zerolinecolor": "white"
           }
          },
          "shapedefaults": {
           "fillcolor": "black",
           "line": {
            "width": 0
           },
           "opacity": 0.3
          },
          "ternary": {
           "aaxis": {
            "gridcolor": "white",
            "linecolor": "white",
            "showgrid": true,
            "tickcolor": "rgb(51,51,51)",
            "ticks": "outside"
           },
           "baxis": {
            "gridcolor": "white",
            "linecolor": "white",
            "showgrid": true,
            "tickcolor": "rgb(51,51,51)",
            "ticks": "outside"
           },
           "bgcolor": "rgb(237,237,237)",
           "caxis": {
            "gridcolor": "white",
            "linecolor": "white",
            "showgrid": true,
            "tickcolor": "rgb(51,51,51)",
            "ticks": "outside"
           }
          },
          "xaxis": {
           "automargin": true,
           "gridcolor": "white",
           "linecolor": "white",
           "showgrid": true,
           "tickcolor": "rgb(51,51,51)",
           "ticks": "outside",
           "title": {
            "standoff": 15
           },
           "zerolinecolor": "white"
          },
          "yaxis": {
           "automargin": true,
           "gridcolor": "white",
           "linecolor": "white",
           "showgrid": true,
           "tickcolor": "rgb(51,51,51)",
           "ticks": "outside",
           "title": {
            "standoff": 15
           },
           "zerolinecolor": "white"
          }
         }
        },
        "title": {
         "text": "Flipons (77,700)",
         "x": 0.005
        },
        "uniformtext": {
         "minsize": 10
        },
        "width": 1800,
        "xaxis": {
         "anchor": "y",
         "domain": [
          0,
          0.0944
         ],
         "matches": "x71",
         "showticklabels": false,
         "tickformat": "s",
         "ticks": ""
        },
        "xaxis10": {
         "anchor": "y10",
         "domain": [
          0.8856000000000002,
          0.9800000000000002
         ],
         "matches": "x71",
         "showticklabels": false,
         "tickformat": "s",
         "ticks": ""
        },
        "xaxis11": {
         "anchor": "y11",
         "domain": [
          0,
          0.0944
         ],
         "matches": "x71",
         "showticklabels": false,
         "tickformat": "s",
         "ticks": ""
        },
        "xaxis12": {
         "anchor": "y12",
         "domain": [
          0.0984,
          0.1928
         ],
         "matches": "x71",
         "showticklabels": false,
         "tickformat": "s",
         "ticks": ""
        },
        "xaxis13": {
         "anchor": "y13",
         "domain": [
          0.1968,
          0.2912
         ],
         "matches": "x71",
         "showticklabels": false,
         "tickformat": "s",
         "ticks": ""
        },
        "xaxis14": {
         "anchor": "y14",
         "domain": [
          0.2952,
          0.3896
         ],
         "matches": "x71",
         "showticklabels": false,
         "tickformat": "s",
         "ticks": ""
        },
        "xaxis15": {
         "anchor": "y15",
         "domain": [
          0.3936,
          0.488
         ],
         "matches": "x71",
         "showticklabels": false,
         "tickformat": "s",
         "ticks": ""
        },
        "xaxis16": {
         "anchor": "y16",
         "domain": [
          0.492,
          0.5864
         ],
         "matches": "x71",
         "showticklabels": false,
         "tickformat": "s",
         "ticks": ""
        },
        "xaxis17": {
         "anchor": "y17",
         "domain": [
          0.5904,
          0.6848000000000001
         ],
         "matches": "x71",
         "showticklabels": false,
         "tickformat": "s",
         "ticks": ""
        },
        "xaxis18": {
         "anchor": "y18",
         "domain": [
          0.6888000000000001,
          0.7832000000000001
         ],
         "matches": "x71",
         "showticklabels": false,
         "tickformat": "s",
         "ticks": ""
        },
        "xaxis19": {
         "anchor": "y19",
         "domain": [
          0.7872000000000001,
          0.8816000000000002
         ],
         "matches": "x71",
         "showticklabels": false,
         "tickformat": "s",
         "ticks": ""
        },
        "xaxis2": {
         "anchor": "y2",
         "domain": [
          0.0984,
          0.1928
         ],
         "matches": "x71",
         "showticklabels": false,
         "tickformat": "s",
         "ticks": ""
        },
        "xaxis20": {
         "anchor": "y20",
         "domain": [
          0.8856000000000002,
          0.9800000000000002
         ],
         "matches": "x71",
         "showticklabels": false,
         "tickformat": "s",
         "ticks": ""
        },
        "xaxis21": {
         "anchor": "y21",
         "domain": [
          0,
          0.0944
         ],
         "matches": "x71",
         "showticklabels": false,
         "tickformat": "s",
         "ticks": ""
        },
        "xaxis22": {
         "anchor": "y22",
         "domain": [
          0.0984,
          0.1928
         ],
         "matches": "x71",
         "showticklabels": false,
         "tickformat": "s",
         "ticks": ""
        },
        "xaxis23": {
         "anchor": "y23",
         "domain": [
          0.1968,
          0.2912
         ],
         "matches": "x71",
         "showticklabels": false,
         "tickformat": "s",
         "ticks": ""
        },
        "xaxis24": {
         "anchor": "y24",
         "domain": [
          0.2952,
          0.3896
         ],
         "matches": "x71",
         "showticklabels": false,
         "tickformat": "s",
         "ticks": ""
        },
        "xaxis25": {
         "anchor": "y25",
         "domain": [
          0.3936,
          0.488
         ],
         "matches": "x71",
         "showticklabels": false,
         "tickformat": "s"
        },
        "xaxis26": {
         "anchor": "y26",
         "domain": [
          0.492,
          0.5864
         ],
         "matches": "x71",
         "showticklabels": false,
         "tickformat": "s"
        },
        "xaxis27": {
         "anchor": "y27",
         "domain": [
          0.5904,
          0.6848000000000001
         ],
         "matches": "x71",
         "showticklabels": false,
         "tickformat": "s"
        },
        "xaxis28": {
         "anchor": "y28",
         "domain": [
          0.6888000000000001,
          0.7832000000000001
         ],
         "matches": "x71",
         "showticklabels": false,
         "tickformat": "s",
         "ticks": ""
        },
        "xaxis29": {
         "anchor": "y29",
         "domain": [
          0.7872000000000001,
          0.8816000000000002
         ],
         "matches": "x71",
         "showticklabels": false,
         "tickformat": "s",
         "ticks": ""
        },
        "xaxis3": {
         "anchor": "y3",
         "domain": [
          0.1968,
          0.2912
         ],
         "matches": "x71",
         "showticklabels": false,
         "tickformat": "s",
         "ticks": ""
        },
        "xaxis30": {
         "anchor": "y30",
         "domain": [
          0.8856000000000002,
          0.9800000000000002
         ],
         "matches": "x71",
         "showticklabels": false,
         "tickformat": "s",
         "ticks": ""
        },
        "xaxis31": {
         "anchor": "y31",
         "domain": [
          0,
          0.0944
         ],
         "matches": "x71",
         "showticklabels": false,
         "tickformat": "s",
         "ticks": ""
        },
        "xaxis32": {
         "anchor": "y32",
         "domain": [
          0.0984,
          0.1928
         ],
         "matches": "x71",
         "showticklabels": false,
         "tickformat": "s",
         "ticks": ""
        },
        "xaxis33": {
         "anchor": "y33",
         "domain": [
          0.1968,
          0.2912
         ],
         "matches": "x71",
         "showticklabels": false,
         "tickformat": "s",
         "ticks": ""
        },
        "xaxis34": {
         "anchor": "y34",
         "domain": [
          0.2952,
          0.3896
         ],
         "matches": "x71",
         "showticklabels": false,
         "tickformat": "s",
         "ticks": ""
        },
        "xaxis35": {
         "anchor": "y35",
         "domain": [
          0.3936,
          0.488
         ],
         "matches": "x71",
         "showticklabels": false,
         "tickformat": "s"
        },
        "xaxis36": {
         "anchor": "y36",
         "domain": [
          0.492,
          0.5864
         ],
         "matches": "x71",
         "showticklabels": false,
         "tickformat": "s",
         "ticks": ""
        },
        "xaxis37": {
         "anchor": "y37",
         "domain": [
          0.5904,
          0.6848000000000001
         ],
         "matches": "x71",
         "showticklabels": false,
         "tickformat": "s"
        },
        "xaxis38": {
         "anchor": "y38",
         "domain": [
          0.6888000000000001,
          0.7832000000000001
         ],
         "matches": "x71",
         "showticklabels": false,
         "tickformat": "s",
         "ticks": ""
        },
        "xaxis39": {
         "anchor": "y39",
         "domain": [
          0.7872000000000001,
          0.8816000000000002
         ],
         "matches": "x71",
         "showticklabels": false,
         "tickformat": "s",
         "ticks": ""
        },
        "xaxis4": {
         "anchor": "y4",
         "domain": [
          0.2952,
          0.3896
         ],
         "matches": "x71",
         "showticklabels": false,
         "tickformat": "s",
         "ticks": ""
        },
        "xaxis40": {
         "anchor": "y40",
         "domain": [
          0.8856000000000002,
          0.9800000000000002
         ],
         "matches": "x71",
         "showticklabels": false,
         "tickformat": "s",
         "ticks": ""
        },
        "xaxis41": {
         "anchor": "y41",
         "domain": [
          0,
          0.0944
         ],
         "matches": "x71",
         "showticklabels": false,
         "tickformat": "s",
         "ticks": ""
        },
        "xaxis42": {
         "anchor": "y42",
         "domain": [
          0.0984,
          0.1928
         ],
         "matches": "x71",
         "showticklabels": false,
         "tickformat": "s",
         "ticks": ""
        },
        "xaxis43": {
         "anchor": "y43",
         "domain": [
          0.1968,
          0.2912
         ],
         "matches": "x71",
         "showticklabels": false,
         "tickformat": "s",
         "ticks": ""
        },
        "xaxis44": {
         "anchor": "y44",
         "domain": [
          0.2952,
          0.3896
         ],
         "matches": "x71",
         "showticklabels": false,
         "tickformat": "s",
         "ticks": ""
        },
        "xaxis45": {
         "anchor": "y45",
         "domain": [
          0.3936,
          0.488
         ],
         "matches": "x71",
         "showticklabels": false,
         "tickformat": "s",
         "ticks": ""
        },
        "xaxis46": {
         "anchor": "y46",
         "domain": [
          0.492,
          0.5864
         ],
         "matches": "x71",
         "showticklabels": false,
         "tickformat": "s",
         "ticks": ""
        },
        "xaxis47": {
         "anchor": "y47",
         "domain": [
          0.5904,
          0.6848000000000001
         ],
         "matches": "x71",
         "showticklabels": false,
         "tickformat": "s",
         "ticks": ""
        },
        "xaxis48": {
         "anchor": "y48",
         "domain": [
          0.6888000000000001,
          0.7832000000000001
         ],
         "matches": "x71",
         "showticklabels": false,
         "tickformat": "s",
         "ticks": ""
        },
        "xaxis49": {
         "anchor": "y49",
         "domain": [
          0.7872000000000001,
          0.8816000000000002
         ],
         "matches": "x71",
         "showticklabels": false,
         "tickformat": "s",
         "ticks": ""
        },
        "xaxis5": {
         "anchor": "y5",
         "domain": [
          0.3936,
          0.488
         ],
         "matches": "x71",
         "showticklabels": false,
         "tickformat": "s",
         "ticks": ""
        },
        "xaxis50": {
         "anchor": "y50",
         "domain": [
          0.8856000000000002,
          0.9800000000000002
         ],
         "matches": "x71",
         "showticklabels": false,
         "tickformat": "s",
         "ticks": ""
        },
        "xaxis51": {
         "anchor": "y51",
         "domain": [
          0,
          0.0944
         ],
         "matches": "x71",
         "showticklabels": false,
         "tickformat": "s",
         "ticks": ""
        },
        "xaxis52": {
         "anchor": "y52",
         "domain": [
          0.0984,
          0.1928
         ],
         "matches": "x71",
         "showticklabels": false,
         "tickformat": "s",
         "ticks": ""
        },
        "xaxis53": {
         "anchor": "y53",
         "domain": [
          0.1968,
          0.2912
         ],
         "matches": "x71",
         "showticklabels": false,
         "tickformat": "s",
         "ticks": ""
        },
        "xaxis54": {
         "anchor": "y54",
         "domain": [
          0.2952,
          0.3896
         ],
         "matches": "x71",
         "showticklabels": false,
         "tickformat": "s",
         "ticks": ""
        },
        "xaxis55": {
         "anchor": "y55",
         "domain": [
          0.3936,
          0.488
         ],
         "matches": "x71",
         "showticklabels": false,
         "tickformat": "s"
        },
        "xaxis56": {
         "anchor": "y56",
         "domain": [
          0.492,
          0.5864
         ],
         "matches": "x71",
         "showticklabels": false,
         "tickformat": "s"
        },
        "xaxis57": {
         "anchor": "y57",
         "domain": [
          0.5904,
          0.6848000000000001
         ],
         "matches": "x71",
         "showticklabels": false,
         "tickformat": "s"
        },
        "xaxis58": {
         "anchor": "y58",
         "domain": [
          0.6888000000000001,
          0.7832000000000001
         ],
         "matches": "x71",
         "showticklabels": false,
         "tickformat": "s"
        },
        "xaxis59": {
         "anchor": "y59",
         "domain": [
          0.7872000000000001,
          0.8816000000000002
         ],
         "matches": "x71",
         "showticklabels": false,
         "tickformat": "s",
         "ticks": ""
        },
        "xaxis6": {
         "anchor": "y6",
         "domain": [
          0.492,
          0.5864
         ],
         "matches": "x71",
         "showticklabels": false,
         "tickformat": "s",
         "ticks": ""
        },
        "xaxis60": {
         "anchor": "y60",
         "domain": [
          0.8856000000000002,
          0.9800000000000002
         ],
         "matches": "x71",
         "showticklabels": false,
         "tickformat": "s",
         "ticks": ""
        },
        "xaxis61": {
         "anchor": "y61",
         "domain": [
          0,
          0.0944
         ],
         "matches": "x71",
         "showticklabels": false,
         "tickformat": "s",
         "ticks": ""
        },
        "xaxis62": {
         "anchor": "y62",
         "domain": [
          0.0984,
          0.1928
         ],
         "matches": "x71",
         "showticklabels": false,
         "tickformat": "s",
         "ticks": ""
        },
        "xaxis63": {
         "anchor": "y63",
         "domain": [
          0.1968,
          0.2912
         ],
         "matches": "x71",
         "showticklabels": false,
         "tickformat": "s",
         "ticks": ""
        },
        "xaxis64": {
         "anchor": "y64",
         "domain": [
          0.2952,
          0.3896
         ],
         "matches": "x71",
         "showticklabels": false,
         "tickformat": "s",
         "ticks": ""
        },
        "xaxis65": {
         "anchor": "y65",
         "domain": [
          0.3936,
          0.488
         ],
         "matches": "x71",
         "showticklabels": false,
         "tickformat": "s"
        },
        "xaxis66": {
         "anchor": "y66",
         "domain": [
          0.492,
          0.5864
         ],
         "matches": "x71",
         "showticklabels": false,
         "tickformat": "s",
         "ticks": ""
        },
        "xaxis67": {
         "anchor": "y67",
         "domain": [
          0.5904,
          0.6848000000000001
         ],
         "matches": "x71",
         "showticklabels": false,
         "tickformat": "s"
        },
        "xaxis68": {
         "anchor": "y68",
         "domain": [
          0.6888000000000001,
          0.7832000000000001
         ],
         "matches": "x71",
         "showticklabels": false,
         "tickformat": "s",
         "ticks": ""
        },
        "xaxis69": {
         "anchor": "y69",
         "domain": [
          0.7872000000000001,
          0.8816000000000002
         ],
         "matches": "x71",
         "showticklabels": false,
         "tickformat": "s",
         "ticks": ""
        },
        "xaxis7": {
         "anchor": "y7",
         "domain": [
          0.5904,
          0.6848000000000001
         ],
         "matches": "x71",
         "showticklabels": false,
         "tickformat": "s",
         "ticks": ""
        },
        "xaxis70": {
         "anchor": "y70",
         "domain": [
          0.8856000000000002,
          0.9800000000000002
         ],
         "matches": "x71",
         "showticklabels": false,
         "tickformat": "s",
         "ticks": ""
        },
        "xaxis71": {
         "anchor": "y71",
         "domain": [
          0,
          0.0944
         ],
         "tickformat": "s",
         "ticks": "outside"
        },
        "xaxis72": {
         "anchor": "y72",
         "domain": [
          0.0984,
          0.1928
         ],
         "matches": "x71",
         "tickformat": "s",
         "ticks": "outside"
        },
        "xaxis73": {
         "anchor": "y73",
         "domain": [
          0.1968,
          0.2912
         ],
         "matches": "x71",
         "tickformat": "s",
         "ticks": "outside"
        },
        "xaxis74": {
         "anchor": "y74",
         "domain": [
          0.2952,
          0.3896
         ],
         "matches": "x71",
         "tickformat": "s",
         "ticks": "outside"
        },
        "xaxis75": {
         "anchor": "y75",
         "domain": [
          0.3936,
          0.488
         ],
         "matches": "x71",
         "tickformat": "s",
         "ticks": "outside"
        },
        "xaxis76": {
         "anchor": "y76",
         "domain": [
          0.492,
          0.5864
         ],
         "matches": "x71",
         "tickformat": "s",
         "ticks": "outside"
        },
        "xaxis77": {
         "anchor": "y77",
         "domain": [
          0.5904,
          0.6848000000000001
         ],
         "matches": "x71",
         "tickformat": "s",
         "ticks": "outside"
        },
        "xaxis78": {
         "anchor": "y78",
         "domain": [
          0.6888000000000001,
          0.7832000000000001
         ],
         "matches": "x71",
         "tickformat": "s",
         "ticks": "outside"
        },
        "xaxis79": {
         "anchor": "y79",
         "domain": [
          0.7872000000000001,
          0.8816000000000002
         ],
         "matches": "x71",
         "tickformat": "s",
         "ticks": "outside"
        },
        "xaxis8": {
         "anchor": "y8",
         "domain": [
          0.6888000000000001,
          0.7832000000000001
         ],
         "matches": "x71",
         "showticklabels": false,
         "tickformat": "s",
         "ticks": ""
        },
        "xaxis80": {
         "anchor": "y80",
         "domain": [
          0.8856000000000002,
          0.9800000000000002
         ],
         "matches": "x71",
         "tickformat": "s",
         "ticks": "outside"
        },
        "xaxis9": {
         "anchor": "y9",
         "domain": [
          0.7872000000000001,
          0.8816000000000002
         ],
         "matches": "x71",
         "showticklabels": false,
         "tickformat": "s",
         "ticks": ""
        },
        "yaxis": {
         "anchor": "x",
         "domain": [
          0.8837499999999998,
          0.9999999999999998
         ],
         "matches": "y71",
         "type": "category",
         "visible": false
        },
        "yaxis10": {
         "anchor": "x10",
         "domain": [
          0.8837499999999998,
          0.9999999999999998
         ],
         "matches": "y71",
         "showticklabels": false,
         "type": "category",
         "visible": false
        },
        "yaxis11": {
         "anchor": "x11",
         "domain": [
          0.7574999999999998,
          0.8737499999999998
         ],
         "matches": "y71",
         "type": "category",
         "visible": false
        },
        "yaxis12": {
         "anchor": "x12",
         "domain": [
          0.7574999999999998,
          0.8737499999999998
         ],
         "matches": "y71",
         "showticklabels": false,
         "type": "category",
         "visible": false
        },
        "yaxis13": {
         "anchor": "x13",
         "domain": [
          0.7574999999999998,
          0.8737499999999998
         ],
         "matches": "y71",
         "showticklabels": false,
         "type": "category",
         "visible": false
        },
        "yaxis14": {
         "anchor": "x14",
         "domain": [
          0.7574999999999998,
          0.8737499999999998
         ],
         "matches": "y71",
         "showticklabels": false,
         "type": "category",
         "visible": false
        },
        "yaxis15": {
         "anchor": "x15",
         "domain": [
          0.7574999999999998,
          0.8737499999999998
         ],
         "matches": "y71",
         "showticklabels": false,
         "type": "category",
         "visible": false
        },
        "yaxis16": {
         "anchor": "x16",
         "domain": [
          0.7574999999999998,
          0.8737499999999998
         ],
         "matches": "y71",
         "showticklabels": false,
         "type": "category",
         "visible": false
        },
        "yaxis17": {
         "anchor": "x17",
         "domain": [
          0.7574999999999998,
          0.8737499999999998
         ],
         "matches": "y71",
         "showticklabels": false,
         "type": "category",
         "visible": false
        },
        "yaxis18": {
         "anchor": "x18",
         "domain": [
          0.7574999999999998,
          0.8737499999999998
         ],
         "matches": "y71",
         "showticklabels": false,
         "type": "category",
         "visible": false
        },
        "yaxis19": {
         "anchor": "x19",
         "domain": [
          0.7574999999999998,
          0.8737499999999998
         ],
         "matches": "y71",
         "showticklabels": false,
         "type": "category",
         "visible": false
        },
        "yaxis2": {
         "anchor": "x2",
         "domain": [
          0.8837499999999998,
          0.9999999999999998
         ],
         "matches": "y71",
         "showticklabels": false,
         "type": "category",
         "visible": false
        },
        "yaxis20": {
         "anchor": "x20",
         "domain": [
          0.7574999999999998,
          0.8737499999999998
         ],
         "matches": "y71",
         "showticklabels": false,
         "type": "category",
         "visible": false
        },
        "yaxis21": {
         "anchor": "x21",
         "domain": [
          0.63125,
          0.7474999999999999
         ],
         "matches": "y71",
         "type": "category",
         "visible": false
        },
        "yaxis22": {
         "anchor": "x22",
         "domain": [
          0.63125,
          0.7474999999999999
         ],
         "matches": "y71",
         "showticklabels": false,
         "type": "category",
         "visible": false
        },
        "yaxis23": {
         "anchor": "x23",
         "domain": [
          0.63125,
          0.7474999999999999
         ],
         "matches": "y71",
         "showticklabels": false,
         "type": "category",
         "visible": false
        },
        "yaxis24": {
         "anchor": "x24",
         "domain": [
          0.63125,
          0.7474999999999999
         ],
         "matches": "y71",
         "showticklabels": false,
         "type": "category",
         "visible": false
        },
        "yaxis25": {
         "anchor": "x25",
         "domain": [
          0.63125,
          0.7474999999999999
         ],
         "matches": "y71",
         "showticklabels": false,
         "type": "category",
         "visible": false
        },
        "yaxis26": {
         "anchor": "x26",
         "domain": [
          0.63125,
          0.7474999999999999
         ],
         "matches": "y71",
         "showticklabels": false,
         "type": "category",
         "visible": false
        },
        "yaxis27": {
         "anchor": "x27",
         "domain": [
          0.63125,
          0.7474999999999999
         ],
         "matches": "y71",
         "showticklabels": false,
         "type": "category",
         "visible": false
        },
        "yaxis28": {
         "anchor": "x28",
         "domain": [
          0.63125,
          0.7474999999999999
         ],
         "matches": "y71",
         "showticklabels": false,
         "type": "category",
         "visible": false
        },
        "yaxis29": {
         "anchor": "x29",
         "domain": [
          0.63125,
          0.7474999999999999
         ],
         "matches": "y71",
         "showticklabels": false,
         "type": "category",
         "visible": false
        },
        "yaxis3": {
         "anchor": "x3",
         "domain": [
          0.8837499999999998,
          0.9999999999999998
         ],
         "matches": "y71",
         "showticklabels": false,
         "type": "category",
         "visible": false
        },
        "yaxis30": {
         "anchor": "x30",
         "domain": [
          0.63125,
          0.7474999999999999
         ],
         "matches": "y71",
         "showticklabels": false,
         "type": "category",
         "visible": false
        },
        "yaxis31": {
         "anchor": "x31",
         "domain": [
          0.505,
          0.62125
         ],
         "matches": "y71",
         "type": "category",
         "visible": false
        },
        "yaxis32": {
         "anchor": "x32",
         "domain": [
          0.505,
          0.62125
         ],
         "matches": "y71",
         "showticklabels": false,
         "type": "category",
         "visible": false
        },
        "yaxis33": {
         "anchor": "x33",
         "domain": [
          0.505,
          0.62125
         ],
         "matches": "y71",
         "showticklabels": false,
         "type": "category",
         "visible": false
        },
        "yaxis34": {
         "anchor": "x34",
         "domain": [
          0.505,
          0.62125
         ],
         "matches": "y71",
         "showticklabels": false,
         "type": "category",
         "visible": false
        },
        "yaxis35": {
         "anchor": "x35",
         "domain": [
          0.505,
          0.62125
         ],
         "matches": "y71",
         "showticklabels": false,
         "type": "category",
         "visible": false
        },
        "yaxis36": {
         "anchor": "x36",
         "domain": [
          0.505,
          0.62125
         ],
         "matches": "y71",
         "showticklabels": false,
         "type": "category",
         "visible": false
        },
        "yaxis37": {
         "anchor": "x37",
         "domain": [
          0.505,
          0.62125
         ],
         "matches": "y71",
         "showticklabels": false,
         "type": "category",
         "visible": false
        },
        "yaxis38": {
         "anchor": "x38",
         "domain": [
          0.505,
          0.62125
         ],
         "matches": "y71",
         "showticklabels": false,
         "type": "category",
         "visible": false
        },
        "yaxis39": {
         "anchor": "x39",
         "domain": [
          0.505,
          0.62125
         ],
         "matches": "y71",
         "showticklabels": false,
         "type": "category",
         "visible": false
        },
        "yaxis4": {
         "anchor": "x4",
         "domain": [
          0.8837499999999998,
          0.9999999999999998
         ],
         "matches": "y71",
         "showticklabels": false,
         "type": "category",
         "visible": false
        },
        "yaxis40": {
         "anchor": "x40",
         "domain": [
          0.505,
          0.62125
         ],
         "matches": "y71",
         "showticklabels": false,
         "type": "category",
         "visible": false
        },
        "yaxis41": {
         "anchor": "x41",
         "domain": [
          0.37875000000000003,
          0.495
         ],
         "matches": "y71",
         "type": "category",
         "visible": false
        },
        "yaxis42": {
         "anchor": "x42",
         "domain": [
          0.37875000000000003,
          0.495
         ],
         "matches": "y71",
         "showticklabels": false,
         "type": "category",
         "visible": false
        },
        "yaxis43": {
         "anchor": "x43",
         "domain": [
          0.37875000000000003,
          0.495
         ],
         "matches": "y71",
         "showticklabels": false,
         "type": "category",
         "visible": false
        },
        "yaxis44": {
         "anchor": "x44",
         "domain": [
          0.37875000000000003,
          0.495
         ],
         "matches": "y71",
         "showticklabels": false,
         "type": "category",
         "visible": false
        },
        "yaxis45": {
         "anchor": "x45",
         "domain": [
          0.37875000000000003,
          0.495
         ],
         "matches": "y71",
         "showticklabels": false,
         "type": "category",
         "visible": false
        },
        "yaxis46": {
         "anchor": "x46",
         "domain": [
          0.37875000000000003,
          0.495
         ],
         "matches": "y71",
         "showticklabels": false,
         "type": "category",
         "visible": false
        },
        "yaxis47": {
         "anchor": "x47",
         "domain": [
          0.37875000000000003,
          0.495
         ],
         "matches": "y71",
         "showticklabels": false,
         "type": "category",
         "visible": false
        },
        "yaxis48": {
         "anchor": "x48",
         "domain": [
          0.37875000000000003,
          0.495
         ],
         "matches": "y71",
         "showticklabels": false,
         "type": "category",
         "visible": false
        },
        "yaxis49": {
         "anchor": "x49",
         "domain": [
          0.37875000000000003,
          0.495
         ],
         "matches": "y71",
         "showticklabels": false,
         "type": "category",
         "visible": false
        },
        "yaxis5": {
         "anchor": "x5",
         "domain": [
          0.8837499999999998,
          0.9999999999999998
         ],
         "matches": "y71",
         "showticklabels": false,
         "type": "category",
         "visible": false
        },
        "yaxis50": {
         "anchor": "x50",
         "domain": [
          0.37875000000000003,
          0.495
         ],
         "matches": "y71",
         "showticklabels": false,
         "type": "category",
         "visible": false
        },
        "yaxis51": {
         "anchor": "x51",
         "domain": [
          0.2525,
          0.36875
         ],
         "matches": "y71",
         "type": "category",
         "visible": false
        },
        "yaxis52": {
         "anchor": "x52",
         "domain": [
          0.2525,
          0.36875
         ],
         "matches": "y71",
         "showticklabels": false,
         "type": "category",
         "visible": false
        },
        "yaxis53": {
         "anchor": "x53",
         "domain": [
          0.2525,
          0.36875
         ],
         "matches": "y71",
         "showticklabels": false,
         "type": "category",
         "visible": false
        },
        "yaxis54": {
         "anchor": "x54",
         "domain": [
          0.2525,
          0.36875
         ],
         "matches": "y71",
         "showticklabels": false,
         "type": "category",
         "visible": false
        },
        "yaxis55": {
         "anchor": "x55",
         "domain": [
          0.2525,
          0.36875
         ],
         "matches": "y71",
         "showticklabels": false,
         "type": "category",
         "visible": false
        },
        "yaxis56": {
         "anchor": "x56",
         "domain": [
          0.2525,
          0.36875
         ],
         "matches": "y71",
         "showticklabels": false,
         "type": "category",
         "visible": false
        },
        "yaxis57": {
         "anchor": "x57",
         "domain": [
          0.2525,
          0.36875
         ],
         "matches": "y71",
         "showticklabels": false,
         "type": "category",
         "visible": false
        },
        "yaxis58": {
         "anchor": "x58",
         "domain": [
          0.2525,
          0.36875
         ],
         "matches": "y71",
         "showticklabels": false,
         "type": "category",
         "visible": false
        },
        "yaxis59": {
         "anchor": "x59",
         "domain": [
          0.2525,
          0.36875
         ],
         "matches": "y71",
         "showticklabels": false,
         "type": "category",
         "visible": false
        },
        "yaxis6": {
         "anchor": "x6",
         "domain": [
          0.8837499999999998,
          0.9999999999999998
         ],
         "matches": "y71",
         "showticklabels": false,
         "type": "category",
         "visible": false
        },
        "yaxis60": {
         "anchor": "x60",
         "domain": [
          0.2525,
          0.36875
         ],
         "matches": "y71",
         "showticklabels": false,
         "type": "category",
         "visible": false
        },
        "yaxis61": {
         "anchor": "x61",
         "domain": [
          0.12625,
          0.2425
         ],
         "matches": "y71",
         "type": "category",
         "visible": false
        },
        "yaxis62": {
         "anchor": "x62",
         "domain": [
          0.12625,
          0.2425
         ],
         "matches": "y71",
         "showticklabels": false,
         "type": "category",
         "visible": false
        },
        "yaxis63": {
         "anchor": "x63",
         "domain": [
          0.12625,
          0.2425
         ],
         "matches": "y71",
         "showticklabels": false,
         "type": "category",
         "visible": false
        },
        "yaxis64": {
         "anchor": "x64",
         "domain": [
          0.12625,
          0.2425
         ],
         "matches": "y71",
         "showticklabels": false,
         "type": "category",
         "visible": false
        },
        "yaxis65": {
         "anchor": "x65",
         "domain": [
          0.12625,
          0.2425
         ],
         "matches": "y71",
         "showticklabels": false,
         "type": "category",
         "visible": false
        },
        "yaxis66": {
         "anchor": "x66",
         "domain": [
          0.12625,
          0.2425
         ],
         "matches": "y71",
         "showticklabels": false,
         "type": "category",
         "visible": false
        },
        "yaxis67": {
         "anchor": "x67",
         "domain": [
          0.12625,
          0.2425
         ],
         "matches": "y71",
         "showticklabels": false,
         "type": "category",
         "visible": false
        },
        "yaxis68": {
         "anchor": "x68",
         "domain": [
          0.12625,
          0.2425
         ],
         "matches": "y71",
         "showticklabels": false,
         "type": "category",
         "visible": false
        },
        "yaxis69": {
         "anchor": "x69",
         "domain": [
          0.12625,
          0.2425
         ],
         "matches": "y71",
         "showticklabels": false,
         "type": "category",
         "visible": false
        },
        "yaxis7": {
         "anchor": "x7",
         "domain": [
          0.8837499999999998,
          0.9999999999999998
         ],
         "matches": "y71",
         "showticklabels": false,
         "type": "category",
         "visible": false
        },
        "yaxis70": {
         "anchor": "x70",
         "domain": [
          0.12625,
          0.2425
         ],
         "matches": "y71",
         "showticklabels": false,
         "type": "category",
         "visible": false
        },
        "yaxis71": {
         "anchor": "x71",
         "domain": [
          0,
          0.11624999999999999
         ],
         "type": "category",
         "visible": false
        },
        "yaxis72": {
         "anchor": "x72",
         "domain": [
          0,
          0.11624999999999999
         ],
         "matches": "y71",
         "showticklabels": false,
         "type": "category",
         "visible": false
        },
        "yaxis73": {
         "anchor": "x73",
         "domain": [
          0,
          0.11624999999999999
         ],
         "matches": "y71",
         "showticklabels": false,
         "type": "category",
         "visible": false
        },
        "yaxis74": {
         "anchor": "x74",
         "domain": [
          0,
          0.11624999999999999
         ],
         "matches": "y71",
         "showticklabels": false,
         "type": "category",
         "visible": false
        },
        "yaxis75": {
         "anchor": "x75",
         "domain": [
          0,
          0.11624999999999999
         ],
         "matches": "y71",
         "showticklabels": false,
         "type": "category",
         "visible": false
        },
        "yaxis76": {
         "anchor": "x76",
         "domain": [
          0,
          0.11624999999999999
         ],
         "matches": "y71",
         "showticklabels": false,
         "type": "category",
         "visible": false
        },
        "yaxis77": {
         "anchor": "x77",
         "domain": [
          0,
          0.11624999999999999
         ],
         "matches": "y71",
         "showticklabels": false,
         "type": "category",
         "visible": false
        },
        "yaxis78": {
         "anchor": "x78",
         "domain": [
          0,
          0.11624999999999999
         ],
         "matches": "y71",
         "showticklabels": false,
         "type": "category",
         "visible": false
        },
        "yaxis79": {
         "anchor": "x79",
         "domain": [
          0,
          0.11624999999999999
         ],
         "matches": "y71",
         "showticklabels": false,
         "type": "category",
         "visible": false
        },
        "yaxis8": {
         "anchor": "x8",
         "domain": [
          0.8837499999999998,
          0.9999999999999998
         ],
         "matches": "y71",
         "showticklabels": false,
         "type": "category",
         "visible": false
        },
        "yaxis80": {
         "anchor": "x80",
         "domain": [
          0,
          0.11624999999999999
         ],
         "matches": "y71",
         "showticklabels": false,
         "type": "category",
         "visible": false
        },
        "yaxis9": {
         "anchor": "x9",
         "domain": [
          0.8837499999999998,
          0.9999999999999998
         ],
         "matches": "y71",
         "showticklabels": false,
         "type": "category",
         "visible": false
        }
       }
      },
      "text/html": [
       "<div>                            <div id=\"f4ddac67-c6ff-4bd3-b426-8a4c20a095fc\" class=\"plotly-graph-div\" style=\"height:900px; width:1800px;\"></div>            <script type=\"text/javascript\">                require([\"plotly\"], function(Plotly) {                    window.PLOTLYENV=window.PLOTLYENV || {};                                    if (document.getElementById(\"f4ddac67-c6ff-4bd3-b426-8a4c20a095fc\")) {                    Plotly.newPlot(                        \"f4ddac67-c6ff-4bd3-b426-8a4c20a095fc\",                        [{\"marker\":{\"color\":\"darkorchid\"},\"name\":\"H-DNA\",\"orientation\":\"h\",\"showlegend\":true,\"textposition\":\"outside\",\"texttemplate\":\"%{x:,d}\",\"width\":1,\"x\":[421],\"y\":[\"H-DNA\"],\"type\":\"bar\",\"xaxis\":\"x\",\"yaxis\":\"y\"},{\"marker\":{\"color\":\"#ED4241\"},\"name\":\"SIDD\",\"orientation\":\"h\",\"showlegend\":true,\"textposition\":\"outside\",\"texttemplate\":\"%{x:,d}\",\"width\":1,\"x\":[174],\"y\":[\"SIDD\"],\"type\":\"bar\",\"xaxis\":\"x\",\"yaxis\":\"y\"},{\"marker\":{\"color\":\"royalblue\"},\"name\":\"Z-DNA\",\"orientation\":\"h\",\"showlegend\":true,\"textposition\":\"inside\",\"texttemplate\":\"%{x:,d}\",\"width\":1,\"x\":[1306],\"y\":[\"Z-DNA\"],\"type\":\"bar\",\"xaxis\":\"x\",\"yaxis\":\"y\"},{\"marker\":{\"color\":\"#FE9B54\"},\"name\":\"G4\",\"orientation\":\"h\",\"showlegend\":true,\"textposition\":\"inside\",\"texttemplate\":\"%{x:,d}\",\"width\":1,\"x\":[1320],\"y\":[\"G4\"],\"type\":\"bar\",\"xaxis\":\"x\",\"yaxis\":\"y\"},{\"marker\":{\"color\":\"darkorchid\"},\"name\":\"H-DNA\",\"orientation\":\"h\",\"showlegend\":false,\"textposition\":\"outside\",\"texttemplate\":\"%{x:,d}\",\"width\":1,\"x\":[55],\"y\":[\"H-DNA\"],\"type\":\"bar\",\"xaxis\":\"x2\",\"yaxis\":\"y2\"},{\"marker\":{\"color\":\"#ED4241\"},\"name\":\"SIDD\",\"orientation\":\"h\",\"showlegend\":false,\"textposition\":\"outside\",\"texttemplate\":\"%{x:,d}\",\"width\":1,\"x\":[43],\"y\":[\"SIDD\"],\"type\":\"bar\",\"xaxis\":\"x2\",\"yaxis\":\"y2\"},{\"marker\":{\"color\":\"royalblue\"},\"name\":\"Z-DNA\",\"orientation\":\"h\",\"showlegend\":false,\"textposition\":\"outside\",\"texttemplate\":\"%{x:,d}\",\"width\":1,\"x\":[133],\"y\":[\"Z-DNA\"],\"type\":\"bar\",\"xaxis\":\"x2\",\"yaxis\":\"y2\"},{\"marker\":{\"color\":\"#FE9B54\"},\"name\":\"G4\",\"orientation\":\"h\",\"showlegend\":false,\"textposition\":\"outside\",\"texttemplate\":\"%{x:,d}\",\"width\":1,\"x\":[114],\"y\":[\"G4\"],\"type\":\"bar\",\"xaxis\":\"x2\",\"yaxis\":\"y2\"},{\"marker\":{\"color\":\"darkorchid\"},\"name\":\"H-DNA\",\"orientation\":\"h\",\"showlegend\":false,\"textposition\":\"outside\",\"texttemplate\":\"%{x:,d}\",\"width\":1,\"x\":[30],\"y\":[\"H-DNA\"],\"type\":\"bar\",\"xaxis\":\"x3\",\"yaxis\":\"y3\"},{\"marker\":{\"color\":\"#ED4241\"},\"name\":\"SIDD\",\"orientation\":\"h\",\"showlegend\":false,\"textposition\":\"outside\",\"texttemplate\":\"%{x:,d}\",\"width\":1,\"x\":[20],\"y\":[\"SIDD\"],\"type\":\"bar\",\"xaxis\":\"x3\",\"yaxis\":\"y3\"},{\"marker\":{\"color\":\"royalblue\"},\"name\":\"Z-DNA\",\"orientation\":\"h\",\"showlegend\":false,\"textposition\":\"outside\",\"texttemplate\":\"%{x:,d}\",\"width\":1,\"x\":[59],\"y\":[\"Z-DNA\"],\"type\":\"bar\",\"xaxis\":\"x3\",\"yaxis\":\"y3\"},{\"marker\":{\"color\":\"#FE9B54\"},\"name\":\"G4\",\"orientation\":\"h\",\"showlegend\":false,\"textposition\":\"outside\",\"texttemplate\":\"%{x:,d}\",\"width\":1,\"x\":[64],\"y\":[\"G4\"],\"type\":\"bar\",\"xaxis\":\"x3\",\"yaxis\":\"y3\"},{\"marker\":{\"color\":\"darkorchid\"},\"name\":\"H-DNA\",\"orientation\":\"h\",\"showlegend\":false,\"textposition\":\"outside\",\"texttemplate\":\"%{x:,d}\",\"width\":1,\"x\":[98],\"y\":[\"H-DNA\"],\"type\":\"bar\",\"xaxis\":\"x4\",\"yaxis\":\"y4\"},{\"marker\":{\"color\":\"#ED4241\"},\"name\":\"SIDD\",\"orientation\":\"h\",\"showlegend\":false,\"textposition\":\"outside\",\"texttemplate\":\"%{x:,d}\",\"width\":1,\"x\":[49],\"y\":[\"SIDD\"],\"type\":\"bar\",\"xaxis\":\"x4\",\"yaxis\":\"y4\"},{\"marker\":{\"color\":\"royalblue\"},\"name\":\"Z-DNA\",\"orientation\":\"h\",\"showlegend\":false,\"textposition\":\"outside\",\"texttemplate\":\"%{x:,d}\",\"width\":1,\"x\":[128],\"y\":[\"Z-DNA\"],\"type\":\"bar\",\"xaxis\":\"x4\",\"yaxis\":\"y4\"},{\"marker\":{\"color\":\"#FE9B54\"},\"name\":\"G4\",\"orientation\":\"h\",\"showlegend\":false,\"textposition\":\"outside\",\"texttemplate\":\"%{x:,d}\",\"width\":1,\"x\":[143],\"y\":[\"G4\"],\"type\":\"bar\",\"xaxis\":\"x4\",\"yaxis\":\"y4\"},{\"marker\":{\"color\":\"royalblue\"},\"name\":\"Z-DNA\",\"orientation\":\"h\",\"showlegend\":false,\"textposition\":\"outside\",\"texttemplate\":\"%{x:,d}\",\"width\":1,\"x\":[1.0],\"y\":[\"Z-DNA\"],\"type\":\"bar\",\"xaxis\":\"x5\",\"yaxis\":\"y5\"},{\"marker\":{\"color\":\"darkorchid\"},\"name\":\"H-DNA\",\"orientation\":\"h\",\"showlegend\":false,\"textposition\":\"outside\",\"texttemplate\":\"%{x:,d}\",\"width\":1,\"x\":[10],\"y\":[\"H-DNA\"],\"type\":\"bar\",\"xaxis\":\"x6\",\"yaxis\":\"y6\"},{\"marker\":{\"color\":\"#ED4241\"},\"name\":\"SIDD\",\"orientation\":\"h\",\"showlegend\":false,\"textposition\":\"outside\",\"texttemplate\":\"%{x:,d}\",\"width\":1,\"x\":[16],\"y\":[\"SIDD\"],\"type\":\"bar\",\"xaxis\":\"x6\",\"yaxis\":\"y6\"},{\"marker\":{\"color\":\"royalblue\"},\"name\":\"Z-DNA\",\"orientation\":\"h\",\"showlegend\":false,\"textposition\":\"outside\",\"texttemplate\":\"%{x:,d}\",\"width\":1,\"x\":[17],\"y\":[\"Z-DNA\"],\"type\":\"bar\",\"xaxis\":\"x6\",\"yaxis\":\"y6\"},{\"marker\":{\"color\":\"#FE9B54\"},\"name\":\"G4\",\"orientation\":\"h\",\"showlegend\":false,\"textposition\":\"outside\",\"texttemplate\":\"%{x:,d}\",\"width\":1,\"x\":[23],\"y\":[\"G4\"],\"type\":\"bar\",\"xaxis\":\"x6\",\"yaxis\":\"y6\"},{\"marker\":{\"color\":\"#FE9B54\"},\"name\":\"G4\",\"orientation\":\"h\",\"showlegend\":false,\"textposition\":\"outside\",\"texttemplate\":\"%{x:,d}\",\"width\":1,\"x\":[1.0],\"y\":[\"G4\"],\"type\":\"bar\",\"xaxis\":\"x7\",\"yaxis\":\"y7\"},{\"marker\":{\"color\":\"darkorchid\"},\"name\":\"H-DNA\",\"orientation\":\"h\",\"showlegend\":false,\"textposition\":\"outside\",\"texttemplate\":\"%{x:,d}\",\"width\":1,\"x\":[7],\"y\":[\"H-DNA\"],\"type\":\"bar\",\"xaxis\":\"x8\",\"yaxis\":\"y8\"},{\"marker\":{\"color\":\"#ED4241\"},\"name\":\"SIDD\",\"orientation\":\"h\",\"showlegend\":false,\"textposition\":\"outside\",\"texttemplate\":\"%{x:,d}\",\"width\":1,\"x\":[5],\"y\":[\"SIDD\"],\"type\":\"bar\",\"xaxis\":\"x8\",\"yaxis\":\"y8\"},{\"marker\":{\"color\":\"royalblue\"},\"name\":\"Z-DNA\",\"orientation\":\"h\",\"showlegend\":false,\"textposition\":\"outside\",\"texttemplate\":\"%{x:,d}\",\"width\":1,\"x\":[70],\"y\":[\"Z-DNA\"],\"type\":\"bar\",\"xaxis\":\"x8\",\"yaxis\":\"y8\"},{\"marker\":{\"color\":\"#FE9B54\"},\"name\":\"G4\",\"orientation\":\"h\",\"showlegend\":false,\"textposition\":\"outside\",\"texttemplate\":\"%{x:,d}\",\"width\":1,\"x\":[25],\"y\":[\"G4\"],\"type\":\"bar\",\"xaxis\":\"x8\",\"yaxis\":\"y8\"},{\"marker\":{\"color\":\"darkorchid\"},\"name\":\"H-DNA\",\"orientation\":\"h\",\"showlegend\":false,\"textposition\":\"outside\",\"texttemplate\":\"%{x:,d}\",\"width\":1,\"x\":[97],\"y\":[\"H-DNA\"],\"type\":\"bar\",\"xaxis\":\"x9\",\"yaxis\":\"y9\"},{\"marker\":{\"color\":\"#ED4241\"},\"name\":\"SIDD\",\"orientation\":\"h\",\"showlegend\":false,\"textposition\":\"outside\",\"texttemplate\":\"%{x:,d}\",\"width\":1,\"x\":[54],\"y\":[\"SIDD\"],\"type\":\"bar\",\"xaxis\":\"x9\",\"yaxis\":\"y9\"},{\"marker\":{\"color\":\"royalblue\"},\"name\":\"Z-DNA\",\"orientation\":\"h\",\"showlegend\":false,\"textposition\":\"outside\",\"texttemplate\":\"%{x:,d}\",\"width\":1,\"x\":[100],\"y\":[\"Z-DNA\"],\"type\":\"bar\",\"xaxis\":\"x9\",\"yaxis\":\"y9\"},{\"marker\":{\"color\":\"#FE9B54\"},\"name\":\"G4\",\"orientation\":\"h\",\"showlegend\":false,\"textposition\":\"outside\",\"texttemplate\":\"%{x:,d}\",\"width\":1,\"x\":[126],\"y\":[\"G4\"],\"type\":\"bar\",\"xaxis\":\"x9\",\"yaxis\":\"y9\"},{\"marker\":{\"color\":\"darkorchid\"},\"name\":\"H-DNA\",\"orientation\":\"h\",\"showlegend\":false,\"textposition\":\"outside\",\"texttemplate\":\"%{x:,d}\",\"width\":1,\"x\":[507],\"y\":[\"H-DNA\"],\"type\":\"bar\",\"xaxis\":\"x10\",\"yaxis\":\"y10\"},{\"marker\":{\"color\":\"#ED4241\"},\"name\":\"SIDD\",\"orientation\":\"h\",\"showlegend\":false,\"textposition\":\"outside\",\"texttemplate\":\"%{x:,d}\",\"width\":1,\"x\":[136],\"y\":[\"SIDD\"],\"type\":\"bar\",\"xaxis\":\"x10\",\"yaxis\":\"y10\"},{\"marker\":{\"color\":\"royalblue\"},\"name\":\"Z-DNA\",\"orientation\":\"h\",\"showlegend\":false,\"textposition\":\"inside\",\"texttemplate\":\"%{x:,d}\",\"width\":1,\"x\":[3948],\"y\":[\"Z-DNA\"],\"type\":\"bar\",\"xaxis\":\"x10\",\"yaxis\":\"y10\"},{\"marker\":{\"color\":\"#FE9B54\"},\"name\":\"G4\",\"orientation\":\"h\",\"showlegend\":false,\"textposition\":\"inside\",\"texttemplate\":\"%{x:,d}\",\"width\":1,\"x\":[2904],\"y\":[\"G4\"],\"type\":\"bar\",\"xaxis\":\"x10\",\"yaxis\":\"y10\"},{\"marker\":{\"color\":\"darkorchid\"},\"name\":\"H-DNA\",\"orientation\":\"h\",\"showlegend\":false,\"textposition\":\"outside\",\"texttemplate\":\"%{x:,d}\",\"width\":1,\"x\":[216],\"y\":[\"H-DNA\"],\"type\":\"bar\",\"xaxis\":\"x11\",\"yaxis\":\"y11\"},{\"marker\":{\"color\":\"#ED4241\"},\"name\":\"SIDD\",\"orientation\":\"h\",\"showlegend\":false,\"textposition\":\"outside\",\"texttemplate\":\"%{x:,d}\",\"width\":1,\"x\":[353],\"y\":[\"SIDD\"],\"type\":\"bar\",\"xaxis\":\"x11\",\"yaxis\":\"y11\"},{\"marker\":{\"color\":\"royalblue\"},\"name\":\"Z-DNA\",\"orientation\":\"h\",\"showlegend\":false,\"textposition\":\"outside\",\"texttemplate\":\"%{x:,d}\",\"width\":1,\"x\":[175],\"y\":[\"Z-DNA\"],\"type\":\"bar\",\"xaxis\":\"x11\",\"yaxis\":\"y11\"},{\"marker\":{\"color\":\"#FE9B54\"},\"name\":\"G4\",\"orientation\":\"h\",\"showlegend\":false,\"textposition\":\"outside\",\"texttemplate\":\"%{x:,d}\",\"width\":1,\"x\":[193],\"y\":[\"G4\"],\"type\":\"bar\",\"xaxis\":\"x11\",\"yaxis\":\"y11\"},{\"marker\":{\"color\":\"darkorchid\"},\"name\":\"H-DNA\",\"orientation\":\"h\",\"showlegend\":false,\"textposition\":\"outside\",\"texttemplate\":\"%{x:,d}\",\"width\":1,\"x\":[198],\"y\":[\"H-DNA\"],\"type\":\"bar\",\"xaxis\":\"x12\",\"yaxis\":\"y12\"},{\"marker\":{\"color\":\"#ED4241\"},\"name\":\"SIDD\",\"orientation\":\"h\",\"showlegend\":false,\"textposition\":\"outside\",\"texttemplate\":\"%{x:,d}\",\"width\":1,\"x\":[361],\"y\":[\"SIDD\"],\"type\":\"bar\",\"xaxis\":\"x12\",\"yaxis\":\"y12\"},{\"marker\":{\"color\":\"royalblue\"},\"name\":\"Z-DNA\",\"orientation\":\"h\",\"showlegend\":false,\"textposition\":\"outside\",\"texttemplate\":\"%{x:,d}\",\"width\":1,\"x\":[143],\"y\":[\"Z-DNA\"],\"type\":\"bar\",\"xaxis\":\"x12\",\"yaxis\":\"y12\"},{\"marker\":{\"color\":\"#FE9B54\"},\"name\":\"G4\",\"orientation\":\"h\",\"showlegend\":false,\"textposition\":\"outside\",\"texttemplate\":\"%{x:,d}\",\"width\":1,\"x\":[224],\"y\":[\"G4\"],\"type\":\"bar\",\"xaxis\":\"x12\",\"yaxis\":\"y12\"},{\"marker\":{\"color\":\"darkorchid\"},\"name\":\"H-DNA\",\"orientation\":\"h\",\"showlegend\":false,\"textposition\":\"outside\",\"texttemplate\":\"%{x:,d}\",\"width\":1,\"x\":[212],\"y\":[\"H-DNA\"],\"type\":\"bar\",\"xaxis\":\"x13\",\"yaxis\":\"y13\"},{\"marker\":{\"color\":\"#ED4241\"},\"name\":\"SIDD\",\"orientation\":\"h\",\"showlegend\":false,\"textposition\":\"outside\",\"texttemplate\":\"%{x:,d}\",\"width\":1,\"x\":[295],\"y\":[\"SIDD\"],\"type\":\"bar\",\"xaxis\":\"x13\",\"yaxis\":\"y13\"},{\"marker\":{\"color\":\"royalblue\"},\"name\":\"Z-DNA\",\"orientation\":\"h\",\"showlegend\":false,\"textposition\":\"outside\",\"texttemplate\":\"%{x:,d}\",\"width\":1,\"x\":[174],\"y\":[\"Z-DNA\"],\"type\":\"bar\",\"xaxis\":\"x13\",\"yaxis\":\"y13\"},{\"marker\":{\"color\":\"#FE9B54\"},\"name\":\"G4\",\"orientation\":\"h\",\"showlegend\":false,\"textposition\":\"outside\",\"texttemplate\":\"%{x:,d}\",\"width\":1,\"x\":[197],\"y\":[\"G4\"],\"type\":\"bar\",\"xaxis\":\"x13\",\"yaxis\":\"y13\"},{\"marker\":{\"color\":\"darkorchid\"},\"name\":\"H-DNA\",\"orientation\":\"h\",\"showlegend\":false,\"textposition\":\"inside\",\"texttemplate\":\"%{x:,d}\",\"width\":1,\"x\":[3428],\"y\":[\"H-DNA\"],\"type\":\"bar\",\"xaxis\":\"x14\",\"yaxis\":\"y14\"},{\"marker\":{\"color\":\"#ED4241\"},\"name\":\"SIDD\",\"orientation\":\"h\",\"showlegend\":false,\"textposition\":\"inside\",\"texttemplate\":\"%{x:,d}\",\"width\":1,\"x\":[5255],\"y\":[\"SIDD\"],\"type\":\"bar\",\"xaxis\":\"x14\",\"yaxis\":\"y14\"},{\"marker\":{\"color\":\"royalblue\"},\"name\":\"Z-DNA\",\"orientation\":\"h\",\"showlegend\":false,\"textposition\":\"inside\",\"texttemplate\":\"%{x:,d}\",\"width\":1,\"x\":[2673],\"y\":[\"Z-DNA\"],\"type\":\"bar\",\"xaxis\":\"x14\",\"yaxis\":\"y14\"},{\"marker\":{\"color\":\"#FE9B54\"},\"name\":\"G4\",\"orientation\":\"h\",\"showlegend\":false,\"textposition\":\"inside\",\"texttemplate\":\"%{x:,d}\",\"width\":1,\"x\":[3388],\"y\":[\"G4\"],\"type\":\"bar\",\"xaxis\":\"x14\",\"yaxis\":\"y14\"},{\"marker\":{\"color\":\"royalblue\"},\"name\":\"Z-DNA\",\"orientation\":\"h\",\"showlegend\":false,\"textposition\":\"outside\",\"texttemplate\":\"%{x:,d}\",\"width\":1,\"x\":[1.0],\"y\":[\"Z-DNA\"],\"type\":\"bar\",\"xaxis\":\"x15\",\"yaxis\":\"y15\"},{\"marker\":{\"color\":\"darkorchid\"},\"name\":\"H-DNA\",\"orientation\":\"h\",\"showlegend\":false,\"textposition\":\"outside\",\"texttemplate\":\"%{x:,d}\",\"width\":1,\"x\":[11],\"y\":[\"H-DNA\"],\"type\":\"bar\",\"xaxis\":\"x16\",\"yaxis\":\"y16\"},{\"marker\":{\"color\":\"#ED4241\"},\"name\":\"SIDD\",\"orientation\":\"h\",\"showlegend\":false,\"textposition\":\"outside\",\"texttemplate\":\"%{x:,d}\",\"width\":1,\"x\":[33],\"y\":[\"SIDD\"],\"type\":\"bar\",\"xaxis\":\"x16\",\"yaxis\":\"y16\"},{\"marker\":{\"color\":\"royalblue\"},\"name\":\"Z-DNA\",\"orientation\":\"h\",\"showlegend\":false,\"textposition\":\"outside\",\"texttemplate\":\"%{x:,d}\",\"width\":1,\"x\":[14],\"y\":[\"Z-DNA\"],\"type\":\"bar\",\"xaxis\":\"x16\",\"yaxis\":\"y16\"},{\"marker\":{\"color\":\"#FE9B54\"},\"name\":\"G4\",\"orientation\":\"h\",\"showlegend\":false,\"textposition\":\"outside\",\"texttemplate\":\"%{x:,d}\",\"width\":1,\"x\":[15],\"y\":[\"G4\"],\"type\":\"bar\",\"xaxis\":\"x16\",\"yaxis\":\"y16\"},{\"marker\":{\"color\":\"darkorchid\"},\"name\":\"H-DNA\",\"orientation\":\"h\",\"showlegend\":false,\"textposition\":\"outside\",\"texttemplate\":\"%{x:,d}\",\"width\":1,\"x\":[5],\"y\":[\"H-DNA\"],\"type\":\"bar\",\"xaxis\":\"x17\",\"yaxis\":\"y17\"},{\"marker\":{\"color\":\"#ED4241\"},\"name\":\"SIDD\",\"orientation\":\"h\",\"showlegend\":false,\"textposition\":\"outside\",\"texttemplate\":\"%{x:,d}\",\"width\":1,\"x\":[8],\"y\":[\"SIDD\"],\"type\":\"bar\",\"xaxis\":\"x17\",\"yaxis\":\"y17\"},{\"marker\":{\"color\":\"royalblue\"},\"name\":\"Z-DNA\",\"orientation\":\"h\",\"showlegend\":false,\"textposition\":\"outside\",\"texttemplate\":\"%{x:,d}\",\"width\":1,\"x\":[4],\"y\":[\"Z-DNA\"],\"type\":\"bar\",\"xaxis\":\"x17\",\"yaxis\":\"y17\"},{\"marker\":{\"color\":\"#FE9B54\"},\"name\":\"G4\",\"orientation\":\"h\",\"showlegend\":false,\"textposition\":\"outside\",\"texttemplate\":\"%{x:,d}\",\"width\":1,\"x\":[3],\"y\":[\"G4\"],\"type\":\"bar\",\"xaxis\":\"x17\",\"yaxis\":\"y17\"},{\"marker\":{\"color\":\"darkorchid\"},\"name\":\"H-DNA\",\"orientation\":\"h\",\"showlegend\":false,\"textposition\":\"outside\",\"texttemplate\":\"%{x:,d}\",\"width\":1,\"x\":[13],\"y\":[\"H-DNA\"],\"type\":\"bar\",\"xaxis\":\"x18\",\"yaxis\":\"y18\"},{\"marker\":{\"color\":\"#ED4241\"},\"name\":\"SIDD\",\"orientation\":\"h\",\"showlegend\":false,\"textposition\":\"outside\",\"texttemplate\":\"%{x:,d}\",\"width\":1,\"x\":[32],\"y\":[\"SIDD\"],\"type\":\"bar\",\"xaxis\":\"x18\",\"yaxis\":\"y18\"},{\"marker\":{\"color\":\"royalblue\"},\"name\":\"Z-DNA\",\"orientation\":\"h\",\"showlegend\":false,\"textposition\":\"outside\",\"texttemplate\":\"%{x:,d}\",\"width\":1,\"x\":[20],\"y\":[\"Z-DNA\"],\"type\":\"bar\",\"xaxis\":\"x18\",\"yaxis\":\"y18\"},{\"marker\":{\"color\":\"#FE9B54\"},\"name\":\"G4\",\"orientation\":\"h\",\"showlegend\":false,\"textposition\":\"outside\",\"texttemplate\":\"%{x:,d}\",\"width\":1,\"x\":[15],\"y\":[\"G4\"],\"type\":\"bar\",\"xaxis\":\"x18\",\"yaxis\":\"y18\"},{\"marker\":{\"color\":\"darkorchid\"},\"name\":\"H-DNA\",\"orientation\":\"h\",\"showlegend\":false,\"textposition\":\"inside\",\"texttemplate\":\"%{x:,d}\",\"width\":1,\"x\":[1472],\"y\":[\"H-DNA\"],\"type\":\"bar\",\"xaxis\":\"x19\",\"yaxis\":\"y19\"},{\"marker\":{\"color\":\"#ED4241\"},\"name\":\"SIDD\",\"orientation\":\"h\",\"showlegend\":false,\"textposition\":\"inside\",\"texttemplate\":\"%{x:,d}\",\"width\":1,\"x\":[2288],\"y\":[\"SIDD\"],\"type\":\"bar\",\"xaxis\":\"x19\",\"yaxis\":\"y19\"},{\"marker\":{\"color\":\"royalblue\"},\"name\":\"Z-DNA\",\"orientation\":\"h\",\"showlegend\":false,\"textposition\":\"outside\",\"texttemplate\":\"%{x:,d}\",\"width\":1,\"x\":[883],\"y\":[\"Z-DNA\"],\"type\":\"bar\",\"xaxis\":\"x19\",\"yaxis\":\"y19\"},{\"marker\":{\"color\":\"#FE9B54\"},\"name\":\"G4\",\"orientation\":\"h\",\"showlegend\":false,\"textposition\":\"inside\",\"texttemplate\":\"%{x:,d}\",\"width\":1,\"x\":[1526],\"y\":[\"G4\"],\"type\":\"bar\",\"xaxis\":\"x19\",\"yaxis\":\"y19\"},{\"marker\":{\"color\":\"darkorchid\"},\"name\":\"H-DNA\",\"orientation\":\"h\",\"showlegend\":false,\"textposition\":\"inside\",\"texttemplate\":\"%{x:,d}\",\"width\":1,\"x\":[4095],\"y\":[\"H-DNA\"],\"type\":\"bar\",\"xaxis\":\"x20\",\"yaxis\":\"y20\"},{\"marker\":{\"color\":\"#ED4241\"},\"name\":\"SIDD\",\"orientation\":\"h\",\"showlegend\":false,\"textposition\":\"inside\",\"texttemplate\":\"%{x:,d}\",\"width\":1,\"x\":[4580],\"y\":[\"SIDD\"],\"type\":\"bar\",\"xaxis\":\"x20\",\"yaxis\":\"y20\"},{\"marker\":{\"color\":\"royalblue\"},\"name\":\"Z-DNA\",\"orientation\":\"h\",\"showlegend\":false,\"textposition\":\"inside\",\"texttemplate\":\"%{x:,d}\",\"width\":1,\"x\":[3079],\"y\":[\"Z-DNA\"],\"type\":\"bar\",\"xaxis\":\"x20\",\"yaxis\":\"y20\"},{\"marker\":{\"color\":\"#FE9B54\"},\"name\":\"G4\",\"orientation\":\"h\",\"showlegend\":false,\"textposition\":\"inside\",\"texttemplate\":\"%{x:,d}\",\"width\":1,\"x\":[2825],\"y\":[\"G4\"],\"type\":\"bar\",\"xaxis\":\"x20\",\"yaxis\":\"y20\"},{\"marker\":{\"color\":\"darkorchid\"},\"name\":\"H-DNA\",\"orientation\":\"h\",\"showlegend\":false,\"textposition\":\"outside\",\"texttemplate\":\"%{x:,d}\",\"width\":1,\"x\":[28],\"y\":[\"H-DNA\"],\"type\":\"bar\",\"xaxis\":\"x21\",\"yaxis\":\"y21\"},{\"marker\":{\"color\":\"#ED4241\"},\"name\":\"SIDD\",\"orientation\":\"h\",\"showlegend\":false,\"textposition\":\"outside\",\"texttemplate\":\"%{x:,d}\",\"width\":1,\"x\":[27],\"y\":[\"SIDD\"],\"type\":\"bar\",\"xaxis\":\"x21\",\"yaxis\":\"y21\"},{\"marker\":{\"color\":\"royalblue\"},\"name\":\"Z-DNA\",\"orientation\":\"h\",\"showlegend\":false,\"textposition\":\"outside\",\"texttemplate\":\"%{x:,d}\",\"width\":1,\"x\":[26],\"y\":[\"Z-DNA\"],\"type\":\"bar\",\"xaxis\":\"x21\",\"yaxis\":\"y21\"},{\"marker\":{\"color\":\"#FE9B54\"},\"name\":\"G4\",\"orientation\":\"h\",\"showlegend\":false,\"textposition\":\"outside\",\"texttemplate\":\"%{x:,d}\",\"width\":1,\"x\":[21],\"y\":[\"G4\"],\"type\":\"bar\",\"xaxis\":\"x21\",\"yaxis\":\"y21\"},{\"marker\":{\"color\":\"darkorchid\"},\"name\":\"H-DNA\",\"orientation\":\"h\",\"showlegend\":false,\"textposition\":\"outside\",\"texttemplate\":\"%{x:,d}\",\"width\":1,\"x\":[10],\"y\":[\"H-DNA\"],\"type\":\"bar\",\"xaxis\":\"x22\",\"yaxis\":\"y22\"},{\"marker\":{\"color\":\"#ED4241\"},\"name\":\"SIDD\",\"orientation\":\"h\",\"showlegend\":false,\"textposition\":\"outside\",\"texttemplate\":\"%{x:,d}\",\"width\":1,\"x\":[12],\"y\":[\"SIDD\"],\"type\":\"bar\",\"xaxis\":\"x22\",\"yaxis\":\"y22\"},{\"marker\":{\"color\":\"royalblue\"},\"name\":\"Z-DNA\",\"orientation\":\"h\",\"showlegend\":false,\"textposition\":\"outside\",\"texttemplate\":\"%{x:,d}\",\"width\":1,\"x\":[4],\"y\":[\"Z-DNA\"],\"type\":\"bar\",\"xaxis\":\"x22\",\"yaxis\":\"y22\"},{\"marker\":{\"color\":\"#FE9B54\"},\"name\":\"G4\",\"orientation\":\"h\",\"showlegend\":false,\"textposition\":\"outside\",\"texttemplate\":\"%{x:,d}\",\"width\":1,\"x\":[11],\"y\":[\"G4\"],\"type\":\"bar\",\"xaxis\":\"x22\",\"yaxis\":\"y22\"},{\"marker\":{\"color\":\"darkorchid\"},\"name\":\"H-DNA\",\"orientation\":\"h\",\"showlegend\":false,\"textposition\":\"outside\",\"texttemplate\":\"%{x:,d}\",\"width\":1,\"x\":[12],\"y\":[\"H-DNA\"],\"type\":\"bar\",\"xaxis\":\"x23\",\"yaxis\":\"y23\"},{\"marker\":{\"color\":\"#ED4241\"},\"name\":\"SIDD\",\"orientation\":\"h\",\"showlegend\":false,\"textposition\":\"outside\",\"texttemplate\":\"%{x:,d}\",\"width\":1,\"x\":[16],\"y\":[\"SIDD\"],\"type\":\"bar\",\"xaxis\":\"x23\",\"yaxis\":\"y23\"},{\"marker\":{\"color\":\"royalblue\"},\"name\":\"Z-DNA\",\"orientation\":\"h\",\"showlegend\":false,\"textposition\":\"outside\",\"texttemplate\":\"%{x:,d}\",\"width\":1,\"x\":[4],\"y\":[\"Z-DNA\"],\"type\":\"bar\",\"xaxis\":\"x23\",\"yaxis\":\"y23\"},{\"marker\":{\"color\":\"#FE9B54\"},\"name\":\"G4\",\"orientation\":\"h\",\"showlegend\":false,\"textposition\":\"outside\",\"texttemplate\":\"%{x:,d}\",\"width\":1,\"x\":[6],\"y\":[\"G4\"],\"type\":\"bar\",\"xaxis\":\"x23\",\"yaxis\":\"y23\"},{\"marker\":{\"color\":\"darkorchid\"},\"name\":\"H-DNA\",\"orientation\":\"h\",\"showlegend\":false,\"textposition\":\"outside\",\"texttemplate\":\"%{x:,d}\",\"width\":1,\"x\":[88],\"y\":[\"H-DNA\"],\"type\":\"bar\",\"xaxis\":\"x24\",\"yaxis\":\"y24\"},{\"marker\":{\"color\":\"#ED4241\"},\"name\":\"SIDD\",\"orientation\":\"h\",\"showlegend\":false,\"textposition\":\"outside\",\"texttemplate\":\"%{x:,d}\",\"width\":1,\"x\":[63],\"y\":[\"SIDD\"],\"type\":\"bar\",\"xaxis\":\"x24\",\"yaxis\":\"y24\"},{\"marker\":{\"color\":\"royalblue\"},\"name\":\"Z-DNA\",\"orientation\":\"h\",\"showlegend\":false,\"textposition\":\"outside\",\"texttemplate\":\"%{x:,d}\",\"width\":1,\"x\":[57],\"y\":[\"Z-DNA\"],\"type\":\"bar\",\"xaxis\":\"x24\",\"yaxis\":\"y24\"},{\"marker\":{\"color\":\"#FE9B54\"},\"name\":\"G4\",\"orientation\":\"h\",\"showlegend\":false,\"textposition\":\"outside\",\"texttemplate\":\"%{x:,d}\",\"width\":1,\"x\":[59],\"y\":[\"G4\"],\"type\":\"bar\",\"xaxis\":\"x24\",\"yaxis\":\"y24\"},{\"marker\":{\"color\":\"royalblue\"},\"name\":\"Z-DNA\",\"orientation\":\"h\",\"showlegend\":false,\"textposition\":\"outside\",\"texttemplate\":\"%{x:,d}\",\"width\":1,\"x\":[1.0],\"y\":[\"Z-DNA\"],\"type\":\"bar\",\"xaxis\":\"x28\",\"yaxis\":\"y28\"},{\"marker\":{\"color\":\"#FE9B54\"},\"name\":\"G4\",\"orientation\":\"h\",\"showlegend\":false,\"textposition\":\"outside\",\"texttemplate\":\"%{x:,d}\",\"width\":1,\"x\":[2.0],\"y\":[\"G4\"],\"type\":\"bar\",\"xaxis\":\"x28\",\"yaxis\":\"y28\"},{\"marker\":{\"color\":\"darkorchid\"},\"name\":\"H-DNA\",\"orientation\":\"h\",\"showlegend\":false,\"textposition\":\"outside\",\"texttemplate\":\"%{x:,d}\",\"width\":1,\"x\":[62],\"y\":[\"H-DNA\"],\"type\":\"bar\",\"xaxis\":\"x29\",\"yaxis\":\"y29\"},{\"marker\":{\"color\":\"#ED4241\"},\"name\":\"SIDD\",\"orientation\":\"h\",\"showlegend\":false,\"textposition\":\"outside\",\"texttemplate\":\"%{x:,d}\",\"width\":1,\"x\":[61],\"y\":[\"SIDD\"],\"type\":\"bar\",\"xaxis\":\"x29\",\"yaxis\":\"y29\"},{\"marker\":{\"color\":\"royalblue\"},\"name\":\"Z-DNA\",\"orientation\":\"h\",\"showlegend\":false,\"textposition\":\"outside\",\"texttemplate\":\"%{x:,d}\",\"width\":1,\"x\":[29],\"y\":[\"Z-DNA\"],\"type\":\"bar\",\"xaxis\":\"x29\",\"yaxis\":\"y29\"},{\"marker\":{\"color\":\"#FE9B54\"},\"name\":\"G4\",\"orientation\":\"h\",\"showlegend\":false,\"textposition\":\"outside\",\"texttemplate\":\"%{x:,d}\",\"width\":1,\"x\":[32],\"y\":[\"G4\"],\"type\":\"bar\",\"xaxis\":\"x29\",\"yaxis\":\"y29\"},{\"marker\":{\"color\":\"darkorchid\"},\"name\":\"H-DNA\",\"orientation\":\"h\",\"showlegend\":false,\"textposition\":\"outside\",\"texttemplate\":\"%{x:,d}\",\"width\":1,\"x\":[112],\"y\":[\"H-DNA\"],\"type\":\"bar\",\"xaxis\":\"x30\",\"yaxis\":\"y30\"},{\"marker\":{\"color\":\"#ED4241\"},\"name\":\"SIDD\",\"orientation\":\"h\",\"showlegend\":false,\"textposition\":\"outside\",\"texttemplate\":\"%{x:,d}\",\"width\":1,\"x\":[51],\"y\":[\"SIDD\"],\"type\":\"bar\",\"xaxis\":\"x30\",\"yaxis\":\"y30\"},{\"marker\":{\"color\":\"royalblue\"},\"name\":\"Z-DNA\",\"orientation\":\"h\",\"showlegend\":false,\"textposition\":\"outside\",\"texttemplate\":\"%{x:,d}\",\"width\":1,\"x\":[113],\"y\":[\"Z-DNA\"],\"type\":\"bar\",\"xaxis\":\"x30\",\"yaxis\":\"y30\"},{\"marker\":{\"color\":\"#FE9B54\"},\"name\":\"G4\",\"orientation\":\"h\",\"showlegend\":false,\"textposition\":\"outside\",\"texttemplate\":\"%{x:,d}\",\"width\":1,\"x\":[85],\"y\":[\"G4\"],\"type\":\"bar\",\"xaxis\":\"x30\",\"yaxis\":\"y30\"},{\"marker\":{\"color\":\"darkorchid\"},\"name\":\"H-DNA\",\"orientation\":\"h\",\"showlegend\":false,\"textposition\":\"outside\",\"texttemplate\":\"%{x:,d}\",\"width\":1,\"x\":[2.0],\"y\":[\"H-DNA\"],\"type\":\"bar\",\"xaxis\":\"x31\",\"yaxis\":\"y31\"},{\"marker\":{\"color\":\"royalblue\"},\"name\":\"Z-DNA\",\"orientation\":\"h\",\"showlegend\":false,\"textposition\":\"outside\",\"texttemplate\":\"%{x:,d}\",\"width\":1,\"x\":[1.0],\"y\":[\"Z-DNA\"],\"type\":\"bar\",\"xaxis\":\"x31\",\"yaxis\":\"y31\"},{\"marker\":{\"color\":\"#FE9B54\"},\"name\":\"G4\",\"orientation\":\"h\",\"showlegend\":false,\"textposition\":\"outside\",\"texttemplate\":\"%{x:,d}\",\"width\":1,\"x\":[3.0],\"y\":[\"G4\"],\"type\":\"bar\",\"xaxis\":\"x31\",\"yaxis\":\"y31\"},{\"marker\":{\"color\":\"darkorchid\"},\"name\":\"H-DNA\",\"orientation\":\"h\",\"showlegend\":false,\"textposition\":\"outside\",\"texttemplate\":\"%{x:,d}\",\"width\":1,\"x\":[1.0],\"y\":[\"H-DNA\"],\"type\":\"bar\",\"xaxis\":\"x32\",\"yaxis\":\"y32\"},{\"marker\":{\"color\":\"#ED4241\"},\"name\":\"SIDD\",\"orientation\":\"h\",\"showlegend\":false,\"textposition\":\"outside\",\"texttemplate\":\"%{x:,d}\",\"width\":1,\"x\":[1.0],\"y\":[\"SIDD\"],\"type\":\"bar\",\"xaxis\":\"x32\",\"yaxis\":\"y32\"},{\"marker\":{\"color\":\"#FE9B54\"},\"name\":\"G4\",\"orientation\":\"h\",\"showlegend\":false,\"textposition\":\"outside\",\"texttemplate\":\"%{x:,d}\",\"width\":1,\"x\":[1.0],\"y\":[\"G4\"],\"type\":\"bar\",\"xaxis\":\"x32\",\"yaxis\":\"y32\"},{\"marker\":{\"color\":\"darkorchid\"},\"name\":\"H-DNA\",\"orientation\":\"h\",\"showlegend\":false,\"textposition\":\"outside\",\"texttemplate\":\"%{x:,d}\",\"width\":1,\"x\":[2],\"y\":[\"H-DNA\"],\"type\":\"bar\",\"xaxis\":\"x33\",\"yaxis\":\"y33\"},{\"marker\":{\"color\":\"#ED4241\"},\"name\":\"SIDD\",\"orientation\":\"h\",\"showlegend\":false,\"textposition\":\"outside\",\"texttemplate\":\"%{x:,d}\",\"width\":1,\"x\":[2],\"y\":[\"SIDD\"],\"type\":\"bar\",\"xaxis\":\"x33\",\"yaxis\":\"y33\"},{\"marker\":{\"color\":\"royalblue\"},\"name\":\"Z-DNA\",\"orientation\":\"h\",\"showlegend\":false,\"textposition\":\"outside\",\"texttemplate\":\"%{x:,d}\",\"width\":1,\"x\":[1],\"y\":[\"Z-DNA\"],\"type\":\"bar\",\"xaxis\":\"x33\",\"yaxis\":\"y33\"},{\"marker\":{\"color\":\"#FE9B54\"},\"name\":\"G4\",\"orientation\":\"h\",\"showlegend\":false,\"textposition\":\"outside\",\"texttemplate\":\"%{x:,d}\",\"width\":1,\"x\":[1],\"y\":[\"G4\"],\"type\":\"bar\",\"xaxis\":\"x33\",\"yaxis\":\"y33\"},{\"marker\":{\"color\":\"darkorchid\"},\"name\":\"H-DNA\",\"orientation\":\"h\",\"showlegend\":false,\"textposition\":\"outside\",\"texttemplate\":\"%{x:,d}\",\"width\":1,\"x\":[6],\"y\":[\"H-DNA\"],\"type\":\"bar\",\"xaxis\":\"x34\",\"yaxis\":\"y34\"},{\"marker\":{\"color\":\"#ED4241\"},\"name\":\"SIDD\",\"orientation\":\"h\",\"showlegend\":false,\"textposition\":\"outside\",\"texttemplate\":\"%{x:,d}\",\"width\":1,\"x\":[1],\"y\":[\"SIDD\"],\"type\":\"bar\",\"xaxis\":\"x34\",\"yaxis\":\"y34\"},{\"marker\":{\"color\":\"royalblue\"},\"name\":\"Z-DNA\",\"orientation\":\"h\",\"showlegend\":false,\"textposition\":\"outside\",\"texttemplate\":\"%{x:,d}\",\"width\":1,\"x\":[13],\"y\":[\"Z-DNA\"],\"type\":\"bar\",\"xaxis\":\"x34\",\"yaxis\":\"y34\"},{\"marker\":{\"color\":\"#FE9B54\"},\"name\":\"G4\",\"orientation\":\"h\",\"showlegend\":false,\"textposition\":\"outside\",\"texttemplate\":\"%{x:,d}\",\"width\":1,\"x\":[5],\"y\":[\"G4\"],\"type\":\"bar\",\"xaxis\":\"x34\",\"yaxis\":\"y34\"},{\"marker\":{\"color\":\"#ED4241\"},\"name\":\"SIDD\",\"orientation\":\"h\",\"showlegend\":false,\"textposition\":\"outside\",\"texttemplate\":\"%{x:,d}\",\"width\":1,\"x\":[2.0],\"y\":[\"SIDD\"],\"type\":\"bar\",\"xaxis\":\"x36\",\"yaxis\":\"y36\"},{\"marker\":{\"color\":\"royalblue\"},\"name\":\"Z-DNA\",\"orientation\":\"h\",\"showlegend\":false,\"textposition\":\"outside\",\"texttemplate\":\"%{x:,d}\",\"width\":1,\"x\":[2.0],\"y\":[\"Z-DNA\"],\"type\":\"bar\",\"xaxis\":\"x38\",\"yaxis\":\"y38\"},{\"marker\":{\"color\":\"darkorchid\"},\"name\":\"H-DNA\",\"orientation\":\"h\",\"showlegend\":false,\"textposition\":\"outside\",\"texttemplate\":\"%{x:,d}\",\"width\":1,\"x\":[10],\"y\":[\"H-DNA\"],\"type\":\"bar\",\"xaxis\":\"x39\",\"yaxis\":\"y39\"},{\"marker\":{\"color\":\"#ED4241\"},\"name\":\"SIDD\",\"orientation\":\"h\",\"showlegend\":false,\"textposition\":\"outside\",\"texttemplate\":\"%{x:,d}\",\"width\":1,\"x\":[2],\"y\":[\"SIDD\"],\"type\":\"bar\",\"xaxis\":\"x39\",\"yaxis\":\"y39\"},{\"marker\":{\"color\":\"royalblue\"},\"name\":\"Z-DNA\",\"orientation\":\"h\",\"showlegend\":false,\"textposition\":\"outside\",\"texttemplate\":\"%{x:,d}\",\"width\":1,\"x\":[8],\"y\":[\"Z-DNA\"],\"type\":\"bar\",\"xaxis\":\"x39\",\"yaxis\":\"y39\"},{\"marker\":{\"color\":\"#FE9B54\"},\"name\":\"G4\",\"orientation\":\"h\",\"showlegend\":false,\"textposition\":\"outside\",\"texttemplate\":\"%{x:,d}\",\"width\":1,\"x\":[7],\"y\":[\"G4\"],\"type\":\"bar\",\"xaxis\":\"x39\",\"yaxis\":\"y39\"},{\"marker\":{\"color\":\"darkorchid\"},\"name\":\"H-DNA\",\"orientation\":\"h\",\"showlegend\":false,\"textposition\":\"outside\",\"texttemplate\":\"%{x:,d}\",\"width\":1,\"x\":[27],\"y\":[\"H-DNA\"],\"type\":\"bar\",\"xaxis\":\"x40\",\"yaxis\":\"y40\"},{\"marker\":{\"color\":\"#ED4241\"},\"name\":\"SIDD\",\"orientation\":\"h\",\"showlegend\":false,\"textposition\":\"outside\",\"texttemplate\":\"%{x:,d}\",\"width\":1,\"x\":[8],\"y\":[\"SIDD\"],\"type\":\"bar\",\"xaxis\":\"x40\",\"yaxis\":\"y40\"},{\"marker\":{\"color\":\"royalblue\"},\"name\":\"Z-DNA\",\"orientation\":\"h\",\"showlegend\":false,\"textposition\":\"outside\",\"texttemplate\":\"%{x:,d}\",\"width\":1,\"x\":[29],\"y\":[\"Z-DNA\"],\"type\":\"bar\",\"xaxis\":\"x40\",\"yaxis\":\"y40\"},{\"marker\":{\"color\":\"#FE9B54\"},\"name\":\"G4\",\"orientation\":\"h\",\"showlegend\":false,\"textposition\":\"outside\",\"texttemplate\":\"%{x:,d}\",\"width\":1,\"x\":[25],\"y\":[\"G4\"],\"type\":\"bar\",\"xaxis\":\"x40\",\"yaxis\":\"y40\"},{\"marker\":{\"color\":\"darkorchid\"},\"name\":\"H-DNA\",\"orientation\":\"h\",\"showlegend\":false,\"textposition\":\"outside\",\"texttemplate\":\"%{x:,d}\",\"width\":1,\"x\":[350],\"y\":[\"H-DNA\"],\"type\":\"bar\",\"xaxis\":\"x41\",\"yaxis\":\"y41\"},{\"marker\":{\"color\":\"#ED4241\"},\"name\":\"SIDD\",\"orientation\":\"h\",\"showlegend\":false,\"textposition\":\"outside\",\"texttemplate\":\"%{x:,d}\",\"width\":1,\"x\":[142],\"y\":[\"SIDD\"],\"type\":\"bar\",\"xaxis\":\"x41\",\"yaxis\":\"y41\"},{\"marker\":{\"color\":\"royalblue\"},\"name\":\"Z-DNA\",\"orientation\":\"h\",\"showlegend\":false,\"textposition\":\"inside\",\"texttemplate\":\"%{x:,d}\",\"width\":1,\"x\":[1465],\"y\":[\"Z-DNA\"],\"type\":\"bar\",\"xaxis\":\"x41\",\"yaxis\":\"y41\"},{\"marker\":{\"color\":\"#FE9B54\"},\"name\":\"G4\",\"orientation\":\"h\",\"showlegend\":false,\"textposition\":\"outside\",\"texttemplate\":\"%{x:,d}\",\"width\":1,\"x\":[1253],\"y\":[\"G4\"],\"type\":\"bar\",\"xaxis\":\"x41\",\"yaxis\":\"y41\"},{\"marker\":{\"color\":\"darkorchid\"},\"name\":\"H-DNA\",\"orientation\":\"h\",\"showlegend\":false,\"textposition\":\"outside\",\"texttemplate\":\"%{x:,d}\",\"width\":1,\"x\":[37],\"y\":[\"H-DNA\"],\"type\":\"bar\",\"xaxis\":\"x42\",\"yaxis\":\"y42\"},{\"marker\":{\"color\":\"#ED4241\"},\"name\":\"SIDD\",\"orientation\":\"h\",\"showlegend\":false,\"textposition\":\"outside\",\"texttemplate\":\"%{x:,d}\",\"width\":1,\"x\":[28],\"y\":[\"SIDD\"],\"type\":\"bar\",\"xaxis\":\"x42\",\"yaxis\":\"y42\"},{\"marker\":{\"color\":\"royalblue\"},\"name\":\"Z-DNA\",\"orientation\":\"h\",\"showlegend\":false,\"textposition\":\"outside\",\"texttemplate\":\"%{x:,d}\",\"width\":1,\"x\":[104],\"y\":[\"Z-DNA\"],\"type\":\"bar\",\"xaxis\":\"x42\",\"yaxis\":\"y42\"},{\"marker\":{\"color\":\"#FE9B54\"},\"name\":\"G4\",\"orientation\":\"h\",\"showlegend\":false,\"textposition\":\"outside\",\"texttemplate\":\"%{x:,d}\",\"width\":1,\"x\":[73],\"y\":[\"G4\"],\"type\":\"bar\",\"xaxis\":\"x42\",\"yaxis\":\"y42\"},{\"marker\":{\"color\":\"darkorchid\"},\"name\":\"H-DNA\",\"orientation\":\"h\",\"showlegend\":false,\"textposition\":\"outside\",\"texttemplate\":\"%{x:,d}\",\"width\":1,\"x\":[14],\"y\":[\"H-DNA\"],\"type\":\"bar\",\"xaxis\":\"x43\",\"yaxis\":\"y43\"},{\"marker\":{\"color\":\"#ED4241\"},\"name\":\"SIDD\",\"orientation\":\"h\",\"showlegend\":false,\"textposition\":\"outside\",\"texttemplate\":\"%{x:,d}\",\"width\":1,\"x\":[13],\"y\":[\"SIDD\"],\"type\":\"bar\",\"xaxis\":\"x43\",\"yaxis\":\"y43\"},{\"marker\":{\"color\":\"royalblue\"},\"name\":\"Z-DNA\",\"orientation\":\"h\",\"showlegend\":false,\"textposition\":\"outside\",\"texttemplate\":\"%{x:,d}\",\"width\":1,\"x\":[34],\"y\":[\"Z-DNA\"],\"type\":\"bar\",\"xaxis\":\"x43\",\"yaxis\":\"y43\"},{\"marker\":{\"color\":\"#FE9B54\"},\"name\":\"G4\",\"orientation\":\"h\",\"showlegend\":false,\"textposition\":\"outside\",\"texttemplate\":\"%{x:,d}\",\"width\":1,\"x\":[29],\"y\":[\"G4\"],\"type\":\"bar\",\"xaxis\":\"x43\",\"yaxis\":\"y43\"},{\"marker\":{\"color\":\"darkorchid\"},\"name\":\"H-DNA\",\"orientation\":\"h\",\"showlegend\":false,\"textposition\":\"outside\",\"texttemplate\":\"%{x:,d}\",\"width\":1,\"x\":[34],\"y\":[\"H-DNA\"],\"type\":\"bar\",\"xaxis\":\"x44\",\"yaxis\":\"y44\"},{\"marker\":{\"color\":\"#ED4241\"},\"name\":\"SIDD\",\"orientation\":\"h\",\"showlegend\":false,\"textposition\":\"outside\",\"texttemplate\":\"%{x:,d}\",\"width\":1,\"x\":[22],\"y\":[\"SIDD\"],\"type\":\"bar\",\"xaxis\":\"x44\",\"yaxis\":\"y44\"},{\"marker\":{\"color\":\"royalblue\"},\"name\":\"Z-DNA\",\"orientation\":\"h\",\"showlegend\":false,\"textposition\":\"outside\",\"texttemplate\":\"%{x:,d}\",\"width\":1,\"x\":[85],\"y\":[\"Z-DNA\"],\"type\":\"bar\",\"xaxis\":\"x44\",\"yaxis\":\"y44\"},{\"marker\":{\"color\":\"#FE9B54\"},\"name\":\"G4\",\"orientation\":\"h\",\"showlegend\":false,\"textposition\":\"outside\",\"texttemplate\":\"%{x:,d}\",\"width\":1,\"x\":[84],\"y\":[\"G4\"],\"type\":\"bar\",\"xaxis\":\"x44\",\"yaxis\":\"y44\"},{\"marker\":{\"color\":\"royalblue\"},\"name\":\"Z-DNA\",\"orientation\":\"h\",\"showlegend\":false,\"textposition\":\"outside\",\"texttemplate\":\"%{x:,d}\",\"width\":1,\"x\":[2.0],\"y\":[\"Z-DNA\"],\"type\":\"bar\",\"xaxis\":\"x45\",\"yaxis\":\"y45\"},{\"marker\":{\"color\":\"#FE9B54\"},\"name\":\"G4\",\"orientation\":\"h\",\"showlegend\":false,\"textposition\":\"outside\",\"texttemplate\":\"%{x:,d}\",\"width\":1,\"x\":[2.0],\"y\":[\"G4\"],\"type\":\"bar\",\"xaxis\":\"x45\",\"yaxis\":\"y45\"},{\"marker\":{\"color\":\"darkorchid\"},\"name\":\"H-DNA\",\"orientation\":\"h\",\"showlegend\":false,\"textposition\":\"outside\",\"texttemplate\":\"%{x:,d}\",\"width\":1,\"x\":[5],\"y\":[\"H-DNA\"],\"type\":\"bar\",\"xaxis\":\"x46\",\"yaxis\":\"y46\"},{\"marker\":{\"color\":\"#ED4241\"},\"name\":\"SIDD\",\"orientation\":\"h\",\"showlegend\":false,\"textposition\":\"outside\",\"texttemplate\":\"%{x:,d}\",\"width\":1,\"x\":[7],\"y\":[\"SIDD\"],\"type\":\"bar\",\"xaxis\":\"x46\",\"yaxis\":\"y46\"},{\"marker\":{\"color\":\"royalblue\"},\"name\":\"Z-DNA\",\"orientation\":\"h\",\"showlegend\":false,\"textposition\":\"outside\",\"texttemplate\":\"%{x:,d}\",\"width\":1,\"x\":[11],\"y\":[\"Z-DNA\"],\"type\":\"bar\",\"xaxis\":\"x46\",\"yaxis\":\"y46\"},{\"marker\":{\"color\":\"#FE9B54\"},\"name\":\"G4\",\"orientation\":\"h\",\"showlegend\":false,\"textposition\":\"outside\",\"texttemplate\":\"%{x:,d}\",\"width\":1,\"x\":[18],\"y\":[\"G4\"],\"type\":\"bar\",\"xaxis\":\"x46\",\"yaxis\":\"y46\"},{\"marker\":{\"color\":\"#ED4241\"},\"name\":\"SIDD\",\"orientation\":\"h\",\"showlegend\":false,\"textposition\":\"outside\",\"texttemplate\":\"%{x:,d}\",\"width\":1,\"x\":[1.0],\"y\":[\"SIDD\"],\"type\":\"bar\",\"xaxis\":\"x47\",\"yaxis\":\"y47\"},{\"marker\":{\"color\":\"royalblue\"},\"name\":\"Z-DNA\",\"orientation\":\"h\",\"showlegend\":false,\"textposition\":\"outside\",\"texttemplate\":\"%{x:,d}\",\"width\":1,\"x\":[2.0],\"y\":[\"Z-DNA\"],\"type\":\"bar\",\"xaxis\":\"x47\",\"yaxis\":\"y47\"},{\"marker\":{\"color\":\"#FE9B54\"},\"name\":\"G4\",\"orientation\":\"h\",\"showlegend\":false,\"textposition\":\"outside\",\"texttemplate\":\"%{x:,d}\",\"width\":1,\"x\":[1.0],\"y\":[\"G4\"],\"type\":\"bar\",\"xaxis\":\"x47\",\"yaxis\":\"y47\"},{\"marker\":{\"color\":\"darkorchid\"},\"name\":\"H-DNA\",\"orientation\":\"h\",\"showlegend\":false,\"textposition\":\"outside\",\"texttemplate\":\"%{x:,d}\",\"width\":1,\"x\":[1],\"y\":[\"H-DNA\"],\"type\":\"bar\",\"xaxis\":\"x48\",\"yaxis\":\"y48\"},{\"marker\":{\"color\":\"#ED4241\"},\"name\":\"SIDD\",\"orientation\":\"h\",\"showlegend\":false,\"textposition\":\"outside\",\"texttemplate\":\"%{x:,d}\",\"width\":1,\"x\":[2],\"y\":[\"SIDD\"],\"type\":\"bar\",\"xaxis\":\"x48\",\"yaxis\":\"y48\"},{\"marker\":{\"color\":\"royalblue\"},\"name\":\"Z-DNA\",\"orientation\":\"h\",\"showlegend\":false,\"textposition\":\"outside\",\"texttemplate\":\"%{x:,d}\",\"width\":1,\"x\":[60],\"y\":[\"Z-DNA\"],\"type\":\"bar\",\"xaxis\":\"x48\",\"yaxis\":\"y48\"},{\"marker\":{\"color\":\"#FE9B54\"},\"name\":\"G4\",\"orientation\":\"h\",\"showlegend\":false,\"textposition\":\"outside\",\"texttemplate\":\"%{x:,d}\",\"width\":1,\"x\":[16],\"y\":[\"G4\"],\"type\":\"bar\",\"xaxis\":\"x48\",\"yaxis\":\"y48\"},{\"marker\":{\"color\":\"darkorchid\"},\"name\":\"H-DNA\",\"orientation\":\"h\",\"showlegend\":false,\"textposition\":\"outside\",\"texttemplate\":\"%{x:,d}\",\"width\":1,\"x\":[33],\"y\":[\"H-DNA\"],\"type\":\"bar\",\"xaxis\":\"x49\",\"yaxis\":\"y49\"},{\"marker\":{\"color\":\"#ED4241\"},\"name\":\"SIDD\",\"orientation\":\"h\",\"showlegend\":false,\"textposition\":\"outside\",\"texttemplate\":\"%{x:,d}\",\"width\":1,\"x\":[18],\"y\":[\"SIDD\"],\"type\":\"bar\",\"xaxis\":\"x49\",\"yaxis\":\"y49\"},{\"marker\":{\"color\":\"royalblue\"},\"name\":\"Z-DNA\",\"orientation\":\"h\",\"showlegend\":false,\"textposition\":\"outside\",\"texttemplate\":\"%{x:,d}\",\"width\":1,\"x\":[47],\"y\":[\"Z-DNA\"],\"type\":\"bar\",\"xaxis\":\"x49\",\"yaxis\":\"y49\"},{\"marker\":{\"color\":\"#FE9B54\"},\"name\":\"G4\",\"orientation\":\"h\",\"showlegend\":false,\"textposition\":\"outside\",\"texttemplate\":\"%{x:,d}\",\"width\":1,\"x\":[49],\"y\":[\"G4\"],\"type\":\"bar\",\"xaxis\":\"x49\",\"yaxis\":\"y49\"},{\"marker\":{\"color\":\"darkorchid\"},\"name\":\"H-DNA\",\"orientation\":\"h\",\"showlegend\":false,\"textposition\":\"outside\",\"texttemplate\":\"%{x:,d}\",\"width\":1,\"x\":[308],\"y\":[\"H-DNA\"],\"type\":\"bar\",\"xaxis\":\"x50\",\"yaxis\":\"y50\"},{\"marker\":{\"color\":\"#ED4241\"},\"name\":\"SIDD\",\"orientation\":\"h\",\"showlegend\":false,\"textposition\":\"outside\",\"texttemplate\":\"%{x:,d}\",\"width\":1,\"x\":[71],\"y\":[\"SIDD\"],\"type\":\"bar\",\"xaxis\":\"x50\",\"yaxis\":\"y50\"},{\"marker\":{\"color\":\"royalblue\"},\"name\":\"Z-DNA\",\"orientation\":\"h\",\"showlegend\":false,\"textposition\":\"inside\",\"texttemplate\":\"%{x:,d}\",\"width\":1,\"x\":[4134],\"y\":[\"Z-DNA\"],\"type\":\"bar\",\"xaxis\":\"x50\",\"yaxis\":\"y50\"},{\"marker\":{\"color\":\"#FE9B54\"},\"name\":\"G4\",\"orientation\":\"h\",\"showlegend\":false,\"textposition\":\"inside\",\"texttemplate\":\"%{x:,d}\",\"width\":1,\"x\":[2135],\"y\":[\"G4\"],\"type\":\"bar\",\"xaxis\":\"x50\",\"yaxis\":\"y50\"},{\"marker\":{\"color\":\"#ED4241\"},\"name\":\"SIDD\",\"orientation\":\"h\",\"showlegend\":false,\"textposition\":\"outside\",\"texttemplate\":\"%{x:,d}\",\"width\":1,\"x\":[1.0],\"y\":[\"SIDD\"],\"type\":\"bar\",\"xaxis\":\"x51\",\"yaxis\":\"y51\"},{\"marker\":{\"color\":\"#FE9B54\"},\"name\":\"G4\",\"orientation\":\"h\",\"showlegend\":false,\"textposition\":\"outside\",\"texttemplate\":\"%{x:,d}\",\"width\":1,\"x\":[2.0],\"y\":[\"G4\"],\"type\":\"bar\",\"xaxis\":\"x51\",\"yaxis\":\"y51\"},{\"marker\":{\"color\":\"darkorchid\"},\"name\":\"H-DNA\",\"orientation\":\"h\",\"showlegend\":false,\"textposition\":\"outside\",\"texttemplate\":\"%{x:,d}\",\"width\":1,\"x\":[2.0],\"y\":[\"H-DNA\"],\"type\":\"bar\",\"xaxis\":\"x52\",\"yaxis\":\"y52\"},{\"marker\":{\"color\":\"royalblue\"},\"name\":\"Z-DNA\",\"orientation\":\"h\",\"showlegend\":false,\"textposition\":\"outside\",\"texttemplate\":\"%{x:,d}\",\"width\":1,\"x\":[2.0],\"y\":[\"Z-DNA\"],\"type\":\"bar\",\"xaxis\":\"x52\",\"yaxis\":\"y52\"},{\"marker\":{\"color\":\"#FE9B54\"},\"name\":\"G4\",\"orientation\":\"h\",\"showlegend\":false,\"textposition\":\"outside\",\"texttemplate\":\"%{x:,d}\",\"width\":1,\"x\":[1.0],\"y\":[\"G4\"],\"type\":\"bar\",\"xaxis\":\"x52\",\"yaxis\":\"y52\"},{\"marker\":{\"color\":\"darkorchid\"},\"name\":\"H-DNA\",\"orientation\":\"h\",\"showlegend\":false,\"textposition\":\"outside\",\"texttemplate\":\"%{x:,d}\",\"width\":1,\"x\":[1.0],\"y\":[\"H-DNA\"],\"type\":\"bar\",\"xaxis\":\"x53\",\"yaxis\":\"y53\"},{\"marker\":{\"color\":\"#FE9B54\"},\"name\":\"G4\",\"orientation\":\"h\",\"showlegend\":false,\"textposition\":\"outside\",\"texttemplate\":\"%{x:,d}\",\"width\":1,\"x\":[1.0],\"y\":[\"G4\"],\"type\":\"bar\",\"xaxis\":\"x53\",\"yaxis\":\"y53\"},{\"marker\":{\"color\":\"darkorchid\"},\"name\":\"H-DNA\",\"orientation\":\"h\",\"showlegend\":false,\"textposition\":\"outside\",\"texttemplate\":\"%{x:,d}\",\"width\":1,\"x\":[12],\"y\":[\"H-DNA\"],\"type\":\"bar\",\"xaxis\":\"x54\",\"yaxis\":\"y54\"},{\"marker\":{\"color\":\"#ED4241\"},\"name\":\"SIDD\",\"orientation\":\"h\",\"showlegend\":false,\"textposition\":\"outside\",\"texttemplate\":\"%{x:,d}\",\"width\":1,\"x\":[15],\"y\":[\"SIDD\"],\"type\":\"bar\",\"xaxis\":\"x54\",\"yaxis\":\"y54\"},{\"marker\":{\"color\":\"royalblue\"},\"name\":\"Z-DNA\",\"orientation\":\"h\",\"showlegend\":false,\"textposition\":\"outside\",\"texttemplate\":\"%{x:,d}\",\"width\":1,\"x\":[13],\"y\":[\"Z-DNA\"],\"type\":\"bar\",\"xaxis\":\"x54\",\"yaxis\":\"y54\"},{\"marker\":{\"color\":\"#FE9B54\"},\"name\":\"G4\",\"orientation\":\"h\",\"showlegend\":false,\"textposition\":\"outside\",\"texttemplate\":\"%{x:,d}\",\"width\":1,\"x\":[17],\"y\":[\"G4\"],\"type\":\"bar\",\"xaxis\":\"x54\",\"yaxis\":\"y54\"},{\"marker\":{\"color\":\"darkorchid\"},\"name\":\"H-DNA\",\"orientation\":\"h\",\"showlegend\":false,\"textposition\":\"outside\",\"texttemplate\":\"%{x:,d}\",\"width\":1,\"x\":[5],\"y\":[\"H-DNA\"],\"type\":\"bar\",\"xaxis\":\"x59\",\"yaxis\":\"y59\"},{\"marker\":{\"color\":\"#ED4241\"},\"name\":\"SIDD\",\"orientation\":\"h\",\"showlegend\":false,\"textposition\":\"outside\",\"texttemplate\":\"%{x:,d}\",\"width\":1,\"x\":[10],\"y\":[\"SIDD\"],\"type\":\"bar\",\"xaxis\":\"x59\",\"yaxis\":\"y59\"},{\"marker\":{\"color\":\"royalblue\"},\"name\":\"Z-DNA\",\"orientation\":\"h\",\"showlegend\":false,\"textposition\":\"outside\",\"texttemplate\":\"%{x:,d}\",\"width\":1,\"x\":[3],\"y\":[\"Z-DNA\"],\"type\":\"bar\",\"xaxis\":\"x59\",\"yaxis\":\"y59\"},{\"marker\":{\"color\":\"#FE9B54\"},\"name\":\"G4\",\"orientation\":\"h\",\"showlegend\":false,\"textposition\":\"outside\",\"texttemplate\":\"%{x:,d}\",\"width\":1,\"x\":[3],\"y\":[\"G4\"],\"type\":\"bar\",\"xaxis\":\"x59\",\"yaxis\":\"y59\"},{\"marker\":{\"color\":\"darkorchid\"},\"name\":\"H-DNA\",\"orientation\":\"h\",\"showlegend\":false,\"textposition\":\"outside\",\"texttemplate\":\"%{x:,d}\",\"width\":1,\"x\":[18],\"y\":[\"H-DNA\"],\"type\":\"bar\",\"xaxis\":\"x60\",\"yaxis\":\"y60\"},{\"marker\":{\"color\":\"#ED4241\"},\"name\":\"SIDD\",\"orientation\":\"h\",\"showlegend\":false,\"textposition\":\"outside\",\"texttemplate\":\"%{x:,d}\",\"width\":1,\"x\":[9],\"y\":[\"SIDD\"],\"type\":\"bar\",\"xaxis\":\"x60\",\"yaxis\":\"y60\"},{\"marker\":{\"color\":\"royalblue\"},\"name\":\"Z-DNA\",\"orientation\":\"h\",\"showlegend\":false,\"textposition\":\"outside\",\"texttemplate\":\"%{x:,d}\",\"width\":1,\"x\":[17],\"y\":[\"Z-DNA\"],\"type\":\"bar\",\"xaxis\":\"x60\",\"yaxis\":\"y60\"},{\"marker\":{\"color\":\"#FE9B54\"},\"name\":\"G4\",\"orientation\":\"h\",\"showlegend\":false,\"textposition\":\"outside\",\"texttemplate\":\"%{x:,d}\",\"width\":1,\"x\":[9],\"y\":[\"G4\"],\"type\":\"bar\",\"xaxis\":\"x60\",\"yaxis\":\"y60\"},{\"marker\":{\"color\":\"darkorchid\"},\"name\":\"H-DNA\",\"orientation\":\"h\",\"showlegend\":false,\"textposition\":\"outside\",\"texttemplate\":\"%{x:,d}\",\"width\":1,\"x\":[13],\"y\":[\"H-DNA\"],\"type\":\"bar\",\"xaxis\":\"x61\",\"yaxis\":\"y61\"},{\"marker\":{\"color\":\"#ED4241\"},\"name\":\"SIDD\",\"orientation\":\"h\",\"showlegend\":false,\"textposition\":\"outside\",\"texttemplate\":\"%{x:,d}\",\"width\":1,\"x\":[8],\"y\":[\"SIDD\"],\"type\":\"bar\",\"xaxis\":\"x61\",\"yaxis\":\"y61\"},{\"marker\":{\"color\":\"royalblue\"},\"name\":\"Z-DNA\",\"orientation\":\"h\",\"showlegend\":false,\"textposition\":\"outside\",\"texttemplate\":\"%{x:,d}\",\"width\":1,\"x\":[21],\"y\":[\"Z-DNA\"],\"type\":\"bar\",\"xaxis\":\"x61\",\"yaxis\":\"y61\"},{\"marker\":{\"color\":\"#FE9B54\"},\"name\":\"G4\",\"orientation\":\"h\",\"showlegend\":false,\"textposition\":\"outside\",\"texttemplate\":\"%{x:,d}\",\"width\":1,\"x\":[12],\"y\":[\"G4\"],\"type\":\"bar\",\"xaxis\":\"x61\",\"yaxis\":\"y61\"},{\"marker\":{\"color\":\"darkorchid\"},\"name\":\"H-DNA\",\"orientation\":\"h\",\"showlegend\":false,\"textposition\":\"outside\",\"texttemplate\":\"%{x:,d}\",\"width\":1,\"x\":[2.0],\"y\":[\"H-DNA\"],\"type\":\"bar\",\"xaxis\":\"x62\",\"yaxis\":\"y62\"},{\"marker\":{\"color\":\"royalblue\"},\"name\":\"Z-DNA\",\"orientation\":\"h\",\"showlegend\":false,\"textposition\":\"outside\",\"texttemplate\":\"%{x:,d}\",\"width\":1,\"x\":[3.0],\"y\":[\"Z-DNA\"],\"type\":\"bar\",\"xaxis\":\"x62\",\"yaxis\":\"y62\"},{\"marker\":{\"color\":\"#FE9B54\"},\"name\":\"G4\",\"orientation\":\"h\",\"showlegend\":false,\"textposition\":\"outside\",\"texttemplate\":\"%{x:,d}\",\"width\":1,\"x\":[2.0],\"y\":[\"G4\"],\"type\":\"bar\",\"xaxis\":\"x62\",\"yaxis\":\"y62\"},{\"marker\":{\"color\":\"#ED4241\"},\"name\":\"SIDD\",\"orientation\":\"h\",\"showlegend\":false,\"textposition\":\"outside\",\"texttemplate\":\"%{x:,d}\",\"width\":1,\"x\":[1.0],\"y\":[\"SIDD\"],\"type\":\"bar\",\"xaxis\":\"x63\",\"yaxis\":\"y63\"},{\"marker\":{\"color\":\"darkorchid\"},\"name\":\"H-DNA\",\"orientation\":\"h\",\"showlegend\":false,\"textposition\":\"outside\",\"texttemplate\":\"%{x:,d}\",\"width\":1,\"x\":[8],\"y\":[\"H-DNA\"],\"type\":\"bar\",\"xaxis\":\"x64\",\"yaxis\":\"y64\"},{\"marker\":{\"color\":\"#ED4241\"},\"name\":\"SIDD\",\"orientation\":\"h\",\"showlegend\":false,\"textposition\":\"outside\",\"texttemplate\":\"%{x:,d}\",\"width\":1,\"x\":[9],\"y\":[\"SIDD\"],\"type\":\"bar\",\"xaxis\":\"x64\",\"yaxis\":\"y64\"},{\"marker\":{\"color\":\"royalblue\"},\"name\":\"Z-DNA\",\"orientation\":\"h\",\"showlegend\":false,\"textposition\":\"outside\",\"texttemplate\":\"%{x:,d}\",\"width\":1,\"x\":[9],\"y\":[\"Z-DNA\"],\"type\":\"bar\",\"xaxis\":\"x64\",\"yaxis\":\"y64\"},{\"marker\":{\"color\":\"#FE9B54\"},\"name\":\"G4\",\"orientation\":\"h\",\"showlegend\":false,\"textposition\":\"outside\",\"texttemplate\":\"%{x:,d}\",\"width\":1,\"x\":[6],\"y\":[\"G4\"],\"type\":\"bar\",\"xaxis\":\"x64\",\"yaxis\":\"y64\"},{\"marker\":{\"color\":\"#ED4241\"},\"name\":\"SIDD\",\"orientation\":\"h\",\"showlegend\":false,\"textposition\":\"outside\",\"texttemplate\":\"%{x:,d}\",\"width\":1,\"x\":[2.0],\"y\":[\"SIDD\"],\"type\":\"bar\",\"xaxis\":\"x66\",\"yaxis\":\"y66\"},{\"marker\":{\"color\":\"#FE9B54\"},\"name\":\"G4\",\"orientation\":\"h\",\"showlegend\":false,\"textposition\":\"outside\",\"texttemplate\":\"%{x:,d}\",\"width\":1,\"x\":[1.0],\"y\":[\"G4\"],\"type\":\"bar\",\"xaxis\":\"x66\",\"yaxis\":\"y66\"},{\"marker\":{\"color\":\"#ED4241\"},\"name\":\"SIDD\",\"orientation\":\"h\",\"showlegend\":false,\"textposition\":\"outside\",\"texttemplate\":\"%{x:,d}\",\"width\":1,\"x\":[1.0],\"y\":[\"SIDD\"],\"type\":\"bar\",\"xaxis\":\"x68\",\"yaxis\":\"y68\"},{\"marker\":{\"color\":\"royalblue\"},\"name\":\"Z-DNA\",\"orientation\":\"h\",\"showlegend\":false,\"textposition\":\"outside\",\"texttemplate\":\"%{x:,d}\",\"width\":1,\"x\":[1.0],\"y\":[\"Z-DNA\"],\"type\":\"bar\",\"xaxis\":\"x68\",\"yaxis\":\"y68\"},{\"marker\":{\"color\":\"darkorchid\"},\"name\":\"H-DNA\",\"orientation\":\"h\",\"showlegend\":false,\"textposition\":\"outside\",\"texttemplate\":\"%{x:,d}\",\"width\":1,\"x\":[12],\"y\":[\"H-DNA\"],\"type\":\"bar\",\"xaxis\":\"x69\",\"yaxis\":\"y69\"},{\"marker\":{\"color\":\"#ED4241\"},\"name\":\"SIDD\",\"orientation\":\"h\",\"showlegend\":false,\"textposition\":\"outside\",\"texttemplate\":\"%{x:,d}\",\"width\":1,\"x\":[10],\"y\":[\"SIDD\"],\"type\":\"bar\",\"xaxis\":\"x69\",\"yaxis\":\"y69\"},{\"marker\":{\"color\":\"royalblue\"},\"name\":\"Z-DNA\",\"orientation\":\"h\",\"showlegend\":false,\"textposition\":\"outside\",\"texttemplate\":\"%{x:,d}\",\"width\":1,\"x\":[4],\"y\":[\"Z-DNA\"],\"type\":\"bar\",\"xaxis\":\"x69\",\"yaxis\":\"y69\"},{\"marker\":{\"color\":\"#FE9B54\"},\"name\":\"G4\",\"orientation\":\"h\",\"showlegend\":false,\"textposition\":\"outside\",\"texttemplate\":\"%{x:,d}\",\"width\":1,\"x\":[11],\"y\":[\"G4\"],\"type\":\"bar\",\"xaxis\":\"x69\",\"yaxis\":\"y69\"},{\"marker\":{\"color\":\"darkorchid\"},\"name\":\"H-DNA\",\"orientation\":\"h\",\"showlegend\":false,\"textposition\":\"outside\",\"texttemplate\":\"%{x:,d}\",\"width\":1,\"x\":[21],\"y\":[\"H-DNA\"],\"type\":\"bar\",\"xaxis\":\"x70\",\"yaxis\":\"y70\"},{\"marker\":{\"color\":\"#ED4241\"},\"name\":\"SIDD\",\"orientation\":\"h\",\"showlegend\":false,\"textposition\":\"outside\",\"texttemplate\":\"%{x:,d}\",\"width\":1,\"x\":[11],\"y\":[\"SIDD\"],\"type\":\"bar\",\"xaxis\":\"x70\",\"yaxis\":\"y70\"},{\"marker\":{\"color\":\"royalblue\"},\"name\":\"Z-DNA\",\"orientation\":\"h\",\"showlegend\":false,\"textposition\":\"outside\",\"texttemplate\":\"%{x:,d}\",\"width\":1,\"x\":[41],\"y\":[\"Z-DNA\"],\"type\":\"bar\",\"xaxis\":\"x70\",\"yaxis\":\"y70\"},{\"marker\":{\"color\":\"#FE9B54\"},\"name\":\"G4\",\"orientation\":\"h\",\"showlegend\":false,\"textposition\":\"outside\",\"texttemplate\":\"%{x:,d}\",\"width\":1,\"x\":[24],\"y\":[\"G4\"],\"type\":\"bar\",\"xaxis\":\"x70\",\"yaxis\":\"y70\"},{\"marker\":{\"color\":\"darkorchid\"},\"name\":\"H-DNA\",\"orientation\":\"h\",\"showlegend\":false,\"textposition\":\"outside\",\"texttemplate\":\"%{x:,d}\",\"width\":1,\"x\":[206],\"y\":[\"H-DNA\"],\"type\":\"bar\",\"xaxis\":\"x71\",\"yaxis\":\"y71\"},{\"marker\":{\"color\":\"#ED4241\"},\"name\":\"SIDD\",\"orientation\":\"h\",\"showlegend\":false,\"textposition\":\"outside\",\"texttemplate\":\"%{x:,d}\",\"width\":1,\"x\":[91],\"y\":[\"SIDD\"],\"type\":\"bar\",\"xaxis\":\"x71\",\"yaxis\":\"y71\"},{\"marker\":{\"color\":\"royalblue\"},\"name\":\"Z-DNA\",\"orientation\":\"h\",\"showlegend\":false,\"textposition\":\"outside\",\"texttemplate\":\"%{x:,d}\",\"width\":1,\"x\":[353],\"y\":[\"Z-DNA\"],\"type\":\"bar\",\"xaxis\":\"x71\",\"yaxis\":\"y71\"},{\"marker\":{\"color\":\"#FE9B54\"},\"name\":\"G4\",\"orientation\":\"h\",\"showlegend\":false,\"textposition\":\"outside\",\"texttemplate\":\"%{x:,d}\",\"width\":1,\"x\":[364],\"y\":[\"G4\"],\"type\":\"bar\",\"xaxis\":\"x71\",\"yaxis\":\"y71\"},{\"marker\":{\"color\":\"darkorchid\"},\"name\":\"H-DNA\",\"orientation\":\"h\",\"showlegend\":false,\"textposition\":\"outside\",\"texttemplate\":\"%{x:,d}\",\"width\":1,\"x\":[123],\"y\":[\"H-DNA\"],\"type\":\"bar\",\"xaxis\":\"x72\",\"yaxis\":\"y72\"},{\"marker\":{\"color\":\"#ED4241\"},\"name\":\"SIDD\",\"orientation\":\"h\",\"showlegend\":false,\"textposition\":\"outside\",\"texttemplate\":\"%{x:,d}\",\"width\":1,\"x\":[63],\"y\":[\"SIDD\"],\"type\":\"bar\",\"xaxis\":\"x72\",\"yaxis\":\"y72\"},{\"marker\":{\"color\":\"royalblue\"},\"name\":\"Z-DNA\",\"orientation\":\"h\",\"showlegend\":false,\"textposition\":\"outside\",\"texttemplate\":\"%{x:,d}\",\"width\":1,\"x\":[181],\"y\":[\"Z-DNA\"],\"type\":\"bar\",\"xaxis\":\"x72\",\"yaxis\":\"y72\"},{\"marker\":{\"color\":\"#FE9B54\"},\"name\":\"G4\",\"orientation\":\"h\",\"showlegend\":false,\"textposition\":\"outside\",\"texttemplate\":\"%{x:,d}\",\"width\":1,\"x\":[114],\"y\":[\"G4\"],\"type\":\"bar\",\"xaxis\":\"x72\",\"yaxis\":\"y72\"},{\"marker\":{\"color\":\"darkorchid\"},\"name\":\"H-DNA\",\"orientation\":\"h\",\"showlegend\":false,\"textposition\":\"outside\",\"texttemplate\":\"%{x:,d}\",\"width\":1,\"x\":[83],\"y\":[\"H-DNA\"],\"type\":\"bar\",\"xaxis\":\"x73\",\"yaxis\":\"y73\"},{\"marker\":{\"color\":\"#ED4241\"},\"name\":\"SIDD\",\"orientation\":\"h\",\"showlegend\":false,\"textposition\":\"outside\",\"texttemplate\":\"%{x:,d}\",\"width\":1,\"x\":[41],\"y\":[\"SIDD\"],\"type\":\"bar\",\"xaxis\":\"x73\",\"yaxis\":\"y73\"},{\"marker\":{\"color\":\"royalblue\"},\"name\":\"Z-DNA\",\"orientation\":\"h\",\"showlegend\":false,\"textposition\":\"outside\",\"texttemplate\":\"%{x:,d}\",\"width\":1,\"x\":[122],\"y\":[\"Z-DNA\"],\"type\":\"bar\",\"xaxis\":\"x73\",\"yaxis\":\"y73\"},{\"marker\":{\"color\":\"#FE9B54\"},\"name\":\"G4\",\"orientation\":\"h\",\"showlegend\":false,\"textposition\":\"outside\",\"texttemplate\":\"%{x:,d}\",\"width\":1,\"x\":[88],\"y\":[\"G4\"],\"type\":\"bar\",\"xaxis\":\"x73\",\"yaxis\":\"y73\"},{\"marker\":{\"color\":\"darkorchid\"},\"name\":\"H-DNA\",\"orientation\":\"h\",\"showlegend\":false,\"textposition\":\"outside\",\"texttemplate\":\"%{x:,d}\",\"width\":1,\"x\":[646],\"y\":[\"H-DNA\"],\"type\":\"bar\",\"xaxis\":\"x74\",\"yaxis\":\"y74\"},{\"marker\":{\"color\":\"#ED4241\"},\"name\":\"SIDD\",\"orientation\":\"h\",\"showlegend\":false,\"textposition\":\"outside\",\"texttemplate\":\"%{x:,d}\",\"width\":1,\"x\":[169],\"y\":[\"SIDD\"],\"type\":\"bar\",\"xaxis\":\"x74\",\"yaxis\":\"y74\"},{\"marker\":{\"color\":\"royalblue\"},\"name\":\"Z-DNA\",\"orientation\":\"h\",\"showlegend\":false,\"textposition\":\"outside\",\"texttemplate\":\"%{x:,d}\",\"width\":1,\"x\":[629],\"y\":[\"Z-DNA\"],\"type\":\"bar\",\"xaxis\":\"x74\",\"yaxis\":\"y74\"},{\"marker\":{\"color\":\"#FE9B54\"},\"name\":\"G4\",\"orientation\":\"h\",\"showlegend\":false,\"textposition\":\"outside\",\"texttemplate\":\"%{x:,d}\",\"width\":1,\"x\":[295],\"y\":[\"G4\"],\"type\":\"bar\",\"xaxis\":\"x74\",\"yaxis\":\"y74\"},{\"marker\":{\"color\":\"darkorchid\"},\"name\":\"H-DNA\",\"orientation\":\"h\",\"showlegend\":false,\"textposition\":\"outside\",\"texttemplate\":\"%{x:,d}\",\"width\":1,\"x\":[1.0],\"y\":[\"H-DNA\"],\"type\":\"bar\",\"xaxis\":\"x75\",\"yaxis\":\"y75\"},{\"marker\":{\"color\":\"#ED4241\"},\"name\":\"SIDD\",\"orientation\":\"h\",\"showlegend\":false,\"textposition\":\"outside\",\"texttemplate\":\"%{x:,d}\",\"width\":1,\"x\":[1.0],\"y\":[\"SIDD\"],\"type\":\"bar\",\"xaxis\":\"x75\",\"yaxis\":\"y75\"},{\"marker\":{\"color\":\"#FE9B54\"},\"name\":\"G4\",\"orientation\":\"h\",\"showlegend\":false,\"textposition\":\"outside\",\"texttemplate\":\"%{x:,d}\",\"width\":1,\"x\":[4.0],\"y\":[\"G4\"],\"type\":\"bar\",\"xaxis\":\"x75\",\"yaxis\":\"y75\"},{\"marker\":{\"color\":\"darkorchid\"},\"name\":\"H-DNA\",\"orientation\":\"h\",\"showlegend\":false,\"textposition\":\"outside\",\"texttemplate\":\"%{x:,d}\",\"width\":1,\"x\":[30],\"y\":[\"H-DNA\"],\"type\":\"bar\",\"xaxis\":\"x76\",\"yaxis\":\"y76\"},{\"marker\":{\"color\":\"#ED4241\"},\"name\":\"SIDD\",\"orientation\":\"h\",\"showlegend\":false,\"textposition\":\"outside\",\"texttemplate\":\"%{x:,d}\",\"width\":1,\"x\":[40],\"y\":[\"SIDD\"],\"type\":\"bar\",\"xaxis\":\"x76\",\"yaxis\":\"y76\"},{\"marker\":{\"color\":\"royalblue\"},\"name\":\"Z-DNA\",\"orientation\":\"h\",\"showlegend\":false,\"textposition\":\"outside\",\"texttemplate\":\"%{x:,d}\",\"width\":1,\"x\":[52],\"y\":[\"Z-DNA\"],\"type\":\"bar\",\"xaxis\":\"x76\",\"yaxis\":\"y76\"},{\"marker\":{\"color\":\"#FE9B54\"},\"name\":\"G4\",\"orientation\":\"h\",\"showlegend\":false,\"textposition\":\"outside\",\"texttemplate\":\"%{x:,d}\",\"width\":1,\"x\":[56],\"y\":[\"G4\"],\"type\":\"bar\",\"xaxis\":\"x76\",\"yaxis\":\"y76\"},{\"marker\":{\"color\":\"royalblue\"},\"name\":\"Z-DNA\",\"orientation\":\"h\",\"showlegend\":false,\"textposition\":\"outside\",\"texttemplate\":\"%{x:,d}\",\"width\":1,\"x\":[1.0],\"y\":[\"Z-DNA\"],\"type\":\"bar\",\"xaxis\":\"x77\",\"yaxis\":\"y77\"},{\"marker\":{\"color\":\"#FE9B54\"},\"name\":\"G4\",\"orientation\":\"h\",\"showlegend\":false,\"textposition\":\"outside\",\"texttemplate\":\"%{x:,d}\",\"width\":1,\"x\":[2.0],\"y\":[\"G4\"],\"type\":\"bar\",\"xaxis\":\"x77\",\"yaxis\":\"y77\"},{\"marker\":{\"color\":\"darkorchid\"},\"name\":\"H-DNA\",\"orientation\":\"h\",\"showlegend\":false,\"textposition\":\"outside\",\"texttemplate\":\"%{x:,d}\",\"width\":1,\"x\":[25],\"y\":[\"H-DNA\"],\"type\":\"bar\",\"xaxis\":\"x78\",\"yaxis\":\"y78\"},{\"marker\":{\"color\":\"#ED4241\"},\"name\":\"SIDD\",\"orientation\":\"h\",\"showlegend\":false,\"textposition\":\"outside\",\"texttemplate\":\"%{x:,d}\",\"width\":1,\"x\":[17],\"y\":[\"SIDD\"],\"type\":\"bar\",\"xaxis\":\"x78\",\"yaxis\":\"y78\"},{\"marker\":{\"color\":\"royalblue\"},\"name\":\"Z-DNA\",\"orientation\":\"h\",\"showlegend\":false,\"textposition\":\"outside\",\"texttemplate\":\"%{x:,d}\",\"width\":1,\"x\":[167],\"y\":[\"Z-DNA\"],\"type\":\"bar\",\"xaxis\":\"x78\",\"yaxis\":\"y78\"},{\"marker\":{\"color\":\"#FE9B54\"},\"name\":\"G4\",\"orientation\":\"h\",\"showlegend\":false,\"textposition\":\"outside\",\"texttemplate\":\"%{x:,d}\",\"width\":1,\"x\":[95],\"y\":[\"G4\"],\"type\":\"bar\",\"xaxis\":\"x78\",\"yaxis\":\"y78\"},{\"marker\":{\"color\":\"darkorchid\"},\"name\":\"H-DNA\",\"orientation\":\"h\",\"showlegend\":false,\"textposition\":\"outside\",\"texttemplate\":\"%{x:,d}\",\"width\":1,\"x\":[560],\"y\":[\"H-DNA\"],\"type\":\"bar\",\"xaxis\":\"x79\",\"yaxis\":\"y79\"},{\"marker\":{\"color\":\"#ED4241\"},\"name\":\"SIDD\",\"orientation\":\"h\",\"showlegend\":false,\"textposition\":\"outside\",\"texttemplate\":\"%{x:,d}\",\"width\":1,\"x\":[200],\"y\":[\"SIDD\"],\"type\":\"bar\",\"xaxis\":\"x79\",\"yaxis\":\"y79\"},{\"marker\":{\"color\":\"royalblue\"},\"name\":\"Z-DNA\",\"orientation\":\"h\",\"showlegend\":false,\"textposition\":\"outside\",\"texttemplate\":\"%{x:,d}\",\"width\":1,\"x\":[581],\"y\":[\"Z-DNA\"],\"type\":\"bar\",\"xaxis\":\"x79\",\"yaxis\":\"y79\"},{\"marker\":{\"color\":\"#FE9B54\"},\"name\":\"G4\",\"orientation\":\"h\",\"showlegend\":false,\"textposition\":\"outside\",\"texttemplate\":\"%{x:,d}\",\"width\":1,\"x\":[334],\"y\":[\"G4\"],\"type\":\"bar\",\"xaxis\":\"x79\",\"yaxis\":\"y79\"},{\"marker\":{\"color\":\"darkorchid\"},\"name\":\"H-DNA\",\"orientation\":\"h\",\"showlegend\":false,\"textposition\":\"inside\",\"texttemplate\":\"%{x:,d}\",\"width\":1,\"x\":[3313],\"y\":[\"H-DNA\"],\"type\":\"bar\",\"xaxis\":\"x80\",\"yaxis\":\"y80\"},{\"marker\":{\"color\":\"#ED4241\"},\"name\":\"SIDD\",\"orientation\":\"h\",\"showlegend\":false,\"textposition\":\"outside\",\"texttemplate\":\"%{x:,d}\",\"width\":1,\"x\":[343],\"y\":[\"SIDD\"],\"type\":\"bar\",\"xaxis\":\"x80\",\"yaxis\":\"y80\"},{\"marker\":{\"color\":\"royalblue\"},\"name\":\"Z-DNA\",\"orientation\":\"h\",\"showlegend\":false,\"textposition\":\"inside\",\"texttemplate\":\"%{x:,d}\",\"width\":1,\"x\":[3697],\"y\":[\"Z-DNA\"],\"type\":\"bar\",\"xaxis\":\"x80\",\"yaxis\":\"y80\"},{\"marker\":{\"color\":\"#FE9B54\"},\"name\":\"G4\",\"orientation\":\"h\",\"showlegend\":false,\"textposition\":\"inside\",\"texttemplate\":\"%{x:,d}\",\"width\":1,\"x\":[1786],\"y\":[\"G4\"],\"type\":\"bar\",\"xaxis\":\"x80\",\"yaxis\":\"y80\"}],                        {\"template\":{\"data\":{\"barpolar\":[{\"marker\":{\"line\":{\"color\":\"rgb(237,237,237)\",\"width\":0.5},\"pattern\":{\"fillmode\":\"overlay\",\"size\":10,\"solidity\":0.2}},\"type\":\"barpolar\"}],\"bar\":[{\"error_x\":{\"color\":\"rgb(51,51,51)\"},\"error_y\":{\"color\":\"rgb(51,51,51)\"},\"marker\":{\"line\":{\"color\":\"rgb(237,237,237)\",\"width\":0.5},\"pattern\":{\"fillmode\":\"overlay\",\"size\":10,\"solidity\":0.2}},\"type\":\"bar\"}],\"carpet\":[{\"aaxis\":{\"endlinecolor\":\"rgb(51,51,51)\",\"gridcolor\":\"white\",\"linecolor\":\"white\",\"minorgridcolor\":\"white\",\"startlinecolor\":\"rgb(51,51,51)\"},\"baxis\":{\"endlinecolor\":\"rgb(51,51,51)\",\"gridcolor\":\"white\",\"linecolor\":\"white\",\"minorgridcolor\":\"white\",\"startlinecolor\":\"rgb(51,51,51)\"},\"type\":\"carpet\"}],\"choropleth\":[{\"colorbar\":{\"outlinewidth\":0,\"tickcolor\":\"rgb(237,237,237)\",\"ticklen\":6,\"ticks\":\"inside\"},\"type\":\"choropleth\"}],\"contourcarpet\":[{\"colorbar\":{\"outlinewidth\":0,\"tickcolor\":\"rgb(237,237,237)\",\"ticklen\":6,\"ticks\":\"inside\"},\"type\":\"contourcarpet\"}],\"contour\":[{\"colorbar\":{\"outlinewidth\":0,\"tickcolor\":\"rgb(237,237,237)\",\"ticklen\":6,\"ticks\":\"inside\"},\"colorscale\":[[0,\"rgb(20,44,66)\"],[1,\"rgb(90,179,244)\"]],\"type\":\"contour\"}],\"heatmapgl\":[{\"colorbar\":{\"outlinewidth\":0,\"tickcolor\":\"rgb(237,237,237)\",\"ticklen\":6,\"ticks\":\"inside\"},\"colorscale\":[[0,\"rgb(20,44,66)\"],[1,\"rgb(90,179,244)\"]],\"type\":\"heatmapgl\"}],\"heatmap\":[{\"colorbar\":{\"outlinewidth\":0,\"tickcolor\":\"rgb(237,237,237)\",\"ticklen\":6,\"ticks\":\"inside\"},\"colorscale\":[[0,\"rgb(20,44,66)\"],[1,\"rgb(90,179,244)\"]],\"type\":\"heatmap\"}],\"histogram2dcontour\":[{\"colorbar\":{\"outlinewidth\":0,\"tickcolor\":\"rgb(237,237,237)\",\"ticklen\":6,\"ticks\":\"inside\"},\"colorscale\":[[0,\"rgb(20,44,66)\"],[1,\"rgb(90,179,244)\"]],\"type\":\"histogram2dcontour\"}],\"histogram2d\":[{\"colorbar\":{\"outlinewidth\":0,\"tickcolor\":\"rgb(237,237,237)\",\"ticklen\":6,\"ticks\":\"inside\"},\"colorscale\":[[0,\"rgb(20,44,66)\"],[1,\"rgb(90,179,244)\"]],\"type\":\"histogram2d\"}],\"histogram\":[{\"marker\":{\"pattern\":{\"fillmode\":\"overlay\",\"size\":10,\"solidity\":0.2}},\"type\":\"histogram\"}],\"mesh3d\":[{\"colorbar\":{\"outlinewidth\":0,\"tickcolor\":\"rgb(237,237,237)\",\"ticklen\":6,\"ticks\":\"inside\"},\"type\":\"mesh3d\"}],\"parcoords\":[{\"line\":{\"colorbar\":{\"outlinewidth\":0,\"tickcolor\":\"rgb(237,237,237)\",\"ticklen\":6,\"ticks\":\"inside\"}},\"type\":\"parcoords\"}],\"pie\":[{\"automargin\":true,\"type\":\"pie\"}],\"scatter3d\":[{\"line\":{\"colorbar\":{\"outlinewidth\":0,\"tickcolor\":\"rgb(237,237,237)\",\"ticklen\":6,\"ticks\":\"inside\"}},\"marker\":{\"colorbar\":{\"outlinewidth\":0,\"tickcolor\":\"rgb(237,237,237)\",\"ticklen\":6,\"ticks\":\"inside\"}},\"type\":\"scatter3d\"}],\"scattercarpet\":[{\"marker\":{\"colorbar\":{\"outlinewidth\":0,\"tickcolor\":\"rgb(237,237,237)\",\"ticklen\":6,\"ticks\":\"inside\"}},\"type\":\"scattercarpet\"}],\"scattergeo\":[{\"marker\":{\"colorbar\":{\"outlinewidth\":0,\"tickcolor\":\"rgb(237,237,237)\",\"ticklen\":6,\"ticks\":\"inside\"}},\"type\":\"scattergeo\"}],\"scattergl\":[{\"marker\":{\"colorbar\":{\"outlinewidth\":0,\"tickcolor\":\"rgb(237,237,237)\",\"ticklen\":6,\"ticks\":\"inside\"}},\"type\":\"scattergl\"}],\"scattermapbox\":[{\"marker\":{\"colorbar\":{\"outlinewidth\":0,\"tickcolor\":\"rgb(237,237,237)\",\"ticklen\":6,\"ticks\":\"inside\"}},\"type\":\"scattermapbox\"}],\"scatterpolargl\":[{\"marker\":{\"colorbar\":{\"outlinewidth\":0,\"tickcolor\":\"rgb(237,237,237)\",\"ticklen\":6,\"ticks\":\"inside\"}},\"type\":\"scatterpolargl\"}],\"scatterpolar\":[{\"marker\":{\"colorbar\":{\"outlinewidth\":0,\"tickcolor\":\"rgb(237,237,237)\",\"ticklen\":6,\"ticks\":\"inside\"}},\"type\":\"scatterpolar\"}],\"scatter\":[{\"fillpattern\":{\"fillmode\":\"overlay\",\"size\":10,\"solidity\":0.2},\"type\":\"scatter\"}],\"scatterternary\":[{\"marker\":{\"colorbar\":{\"outlinewidth\":0,\"tickcolor\":\"rgb(237,237,237)\",\"ticklen\":6,\"ticks\":\"inside\"}},\"type\":\"scatterternary\"}],\"surface\":[{\"colorbar\":{\"outlinewidth\":0,\"tickcolor\":\"rgb(237,237,237)\",\"ticklen\":6,\"ticks\":\"inside\"},\"colorscale\":[[0,\"rgb(20,44,66)\"],[1,\"rgb(90,179,244)\"]],\"type\":\"surface\"}],\"table\":[{\"cells\":{\"fill\":{\"color\":\"rgb(237,237,237)\"},\"line\":{\"color\":\"white\"}},\"header\":{\"fill\":{\"color\":\"rgb(217,217,217)\"},\"line\":{\"color\":\"white\"}},\"type\":\"table\"}]},\"layout\":{\"annotationdefaults\":{\"arrowhead\":0,\"arrowwidth\":1},\"autotypenumbers\":\"strict\",\"coloraxis\":{\"colorbar\":{\"outlinewidth\":0,\"tickcolor\":\"rgb(237,237,237)\",\"ticklen\":6,\"ticks\":\"inside\"}},\"colorscale\":{\"sequential\":[[0,\"rgb(20,44,66)\"],[1,\"rgb(90,179,244)\"]],\"sequentialminus\":[[0,\"rgb(20,44,66)\"],[1,\"rgb(90,179,244)\"]]},\"colorway\":[\"#F8766D\",\"#A3A500\",\"#00BF7D\",\"#00B0F6\",\"#E76BF3\"],\"font\":{\"color\":\"rgb(51,51,51)\"},\"geo\":{\"bgcolor\":\"white\",\"lakecolor\":\"white\",\"landcolor\":\"rgb(237,237,237)\",\"showlakes\":true,\"showland\":true,\"subunitcolor\":\"white\"},\"hoverlabel\":{\"align\":\"left\"},\"hovermode\":\"closest\",\"paper_bgcolor\":\"white\",\"plot_bgcolor\":\"rgb(237,237,237)\",\"polar\":{\"angularaxis\":{\"gridcolor\":\"white\",\"linecolor\":\"white\",\"showgrid\":true,\"tickcolor\":\"rgb(51,51,51)\",\"ticks\":\"outside\"},\"bgcolor\":\"rgb(237,237,237)\",\"radialaxis\":{\"gridcolor\":\"white\",\"linecolor\":\"white\",\"showgrid\":true,\"tickcolor\":\"rgb(51,51,51)\",\"ticks\":\"outside\"}},\"scene\":{\"xaxis\":{\"backgroundcolor\":\"rgb(237,237,237)\",\"gridcolor\":\"white\",\"gridwidth\":2,\"linecolor\":\"white\",\"showbackground\":true,\"showgrid\":true,\"tickcolor\":\"rgb(51,51,51)\",\"ticks\":\"outside\",\"zerolinecolor\":\"white\"},\"yaxis\":{\"backgroundcolor\":\"rgb(237,237,237)\",\"gridcolor\":\"white\",\"gridwidth\":2,\"linecolor\":\"white\",\"showbackground\":true,\"showgrid\":true,\"tickcolor\":\"rgb(51,51,51)\",\"ticks\":\"outside\",\"zerolinecolor\":\"white\"},\"zaxis\":{\"backgroundcolor\":\"rgb(237,237,237)\",\"gridcolor\":\"white\",\"gridwidth\":2,\"linecolor\":\"white\",\"showbackground\":true,\"showgrid\":true,\"tickcolor\":\"rgb(51,51,51)\",\"ticks\":\"outside\",\"zerolinecolor\":\"white\"}},\"shapedefaults\":{\"fillcolor\":\"black\",\"line\":{\"width\":0},\"opacity\":0.3},\"ternary\":{\"aaxis\":{\"gridcolor\":\"white\",\"linecolor\":\"white\",\"showgrid\":true,\"tickcolor\":\"rgb(51,51,51)\",\"ticks\":\"outside\"},\"baxis\":{\"gridcolor\":\"white\",\"linecolor\":\"white\",\"showgrid\":true,\"tickcolor\":\"rgb(51,51,51)\",\"ticks\":\"outside\"},\"bgcolor\":\"rgb(237,237,237)\",\"caxis\":{\"gridcolor\":\"white\",\"linecolor\":\"white\",\"showgrid\":true,\"tickcolor\":\"rgb(51,51,51)\",\"ticks\":\"outside\"}},\"xaxis\":{\"automargin\":true,\"gridcolor\":\"white\",\"linecolor\":\"white\",\"showgrid\":true,\"tickcolor\":\"rgb(51,51,51)\",\"ticks\":\"outside\",\"title\":{\"standoff\":15},\"zerolinecolor\":\"white\"},\"yaxis\":{\"automargin\":true,\"gridcolor\":\"white\",\"linecolor\":\"white\",\"showgrid\":true,\"tickcolor\":\"rgb(51,51,51)\",\"ticks\":\"outside\",\"title\":{\"standoff\":15},\"zerolinecolor\":\"white\"}}},\"xaxis\":{\"anchor\":\"y\",\"domain\":[0.0,0.0944],\"matches\":\"x71\",\"showticklabels\":false,\"ticks\":\"\",\"tickformat\":\"s\"},\"yaxis\":{\"anchor\":\"x\",\"domain\":[0.8837499999999998,0.9999999999999998],\"matches\":\"y71\",\"type\":\"category\",\"visible\":false},\"xaxis2\":{\"anchor\":\"y2\",\"domain\":[0.0984,0.1928],\"matches\":\"x71\",\"showticklabels\":false,\"ticks\":\"\",\"tickformat\":\"s\"},\"yaxis2\":{\"anchor\":\"x2\",\"domain\":[0.8837499999999998,0.9999999999999998],\"matches\":\"y71\",\"showticklabels\":false,\"type\":\"category\",\"visible\":false},\"xaxis3\":{\"anchor\":\"y3\",\"domain\":[0.1968,0.2912],\"matches\":\"x71\",\"showticklabels\":false,\"ticks\":\"\",\"tickformat\":\"s\"},\"yaxis3\":{\"anchor\":\"x3\",\"domain\":[0.8837499999999998,0.9999999999999998],\"matches\":\"y71\",\"showticklabels\":false,\"type\":\"category\",\"visible\":false},\"xaxis4\":{\"anchor\":\"y4\",\"domain\":[0.2952,0.3896],\"matches\":\"x71\",\"showticklabels\":false,\"ticks\":\"\",\"tickformat\":\"s\"},\"yaxis4\":{\"anchor\":\"x4\",\"domain\":[0.8837499999999998,0.9999999999999998],\"matches\":\"y71\",\"showticklabels\":false,\"type\":\"category\",\"visible\":false},\"xaxis5\":{\"anchor\":\"y5\",\"domain\":[0.3936,0.488],\"matches\":\"x71\",\"showticklabels\":false,\"ticks\":\"\",\"tickformat\":\"s\"},\"yaxis5\":{\"anchor\":\"x5\",\"domain\":[0.8837499999999998,0.9999999999999998],\"matches\":\"y71\",\"showticklabels\":false,\"type\":\"category\",\"visible\":false},\"xaxis6\":{\"anchor\":\"y6\",\"domain\":[0.492,0.5864],\"matches\":\"x71\",\"showticklabels\":false,\"ticks\":\"\",\"tickformat\":\"s\"},\"yaxis6\":{\"anchor\":\"x6\",\"domain\":[0.8837499999999998,0.9999999999999998],\"matches\":\"y71\",\"showticklabels\":false,\"type\":\"category\",\"visible\":false},\"xaxis7\":{\"anchor\":\"y7\",\"domain\":[0.5904,0.6848000000000001],\"matches\":\"x71\",\"showticklabels\":false,\"ticks\":\"\",\"tickformat\":\"s\"},\"yaxis7\":{\"anchor\":\"x7\",\"domain\":[0.8837499999999998,0.9999999999999998],\"matches\":\"y71\",\"showticklabels\":false,\"type\":\"category\",\"visible\":false},\"xaxis8\":{\"anchor\":\"y8\",\"domain\":[0.6888000000000001,0.7832000000000001],\"matches\":\"x71\",\"showticklabels\":false,\"ticks\":\"\",\"tickformat\":\"s\"},\"yaxis8\":{\"anchor\":\"x8\",\"domain\":[0.8837499999999998,0.9999999999999998],\"matches\":\"y71\",\"showticklabels\":false,\"type\":\"category\",\"visible\":false},\"xaxis9\":{\"anchor\":\"y9\",\"domain\":[0.7872000000000001,0.8816000000000002],\"matches\":\"x71\",\"showticklabels\":false,\"ticks\":\"\",\"tickformat\":\"s\"},\"yaxis9\":{\"anchor\":\"x9\",\"domain\":[0.8837499999999998,0.9999999999999998],\"matches\":\"y71\",\"showticklabels\":false,\"type\":\"category\",\"visible\":false},\"xaxis10\":{\"anchor\":\"y10\",\"domain\":[0.8856000000000002,0.9800000000000002],\"matches\":\"x71\",\"showticklabels\":false,\"ticks\":\"\",\"tickformat\":\"s\"},\"yaxis10\":{\"anchor\":\"x10\",\"domain\":[0.8837499999999998,0.9999999999999998],\"matches\":\"y71\",\"showticklabels\":false,\"type\":\"category\",\"visible\":false},\"xaxis11\":{\"anchor\":\"y11\",\"domain\":[0.0,0.0944],\"matches\":\"x71\",\"showticklabels\":false,\"ticks\":\"\",\"tickformat\":\"s\"},\"yaxis11\":{\"anchor\":\"x11\",\"domain\":[0.7574999999999998,0.8737499999999998],\"matches\":\"y71\",\"type\":\"category\",\"visible\":false},\"xaxis12\":{\"anchor\":\"y12\",\"domain\":[0.0984,0.1928],\"matches\":\"x71\",\"showticklabels\":false,\"ticks\":\"\",\"tickformat\":\"s\"},\"yaxis12\":{\"anchor\":\"x12\",\"domain\":[0.7574999999999998,0.8737499999999998],\"matches\":\"y71\",\"showticklabels\":false,\"type\":\"category\",\"visible\":false},\"xaxis13\":{\"anchor\":\"y13\",\"domain\":[0.1968,0.2912],\"matches\":\"x71\",\"showticklabels\":false,\"ticks\":\"\",\"tickformat\":\"s\"},\"yaxis13\":{\"anchor\":\"x13\",\"domain\":[0.7574999999999998,0.8737499999999998],\"matches\":\"y71\",\"showticklabels\":false,\"type\":\"category\",\"visible\":false},\"xaxis14\":{\"anchor\":\"y14\",\"domain\":[0.2952,0.3896],\"matches\":\"x71\",\"showticklabels\":false,\"ticks\":\"\",\"tickformat\":\"s\"},\"yaxis14\":{\"anchor\":\"x14\",\"domain\":[0.7574999999999998,0.8737499999999998],\"matches\":\"y71\",\"showticklabels\":false,\"type\":\"category\",\"visible\":false},\"xaxis15\":{\"anchor\":\"y15\",\"domain\":[0.3936,0.488],\"matches\":\"x71\",\"showticklabels\":false,\"ticks\":\"\",\"tickformat\":\"s\"},\"yaxis15\":{\"anchor\":\"x15\",\"domain\":[0.7574999999999998,0.8737499999999998],\"matches\":\"y71\",\"showticklabels\":false,\"type\":\"category\",\"visible\":false},\"xaxis16\":{\"anchor\":\"y16\",\"domain\":[0.492,0.5864],\"matches\":\"x71\",\"showticklabels\":false,\"ticks\":\"\",\"tickformat\":\"s\"},\"yaxis16\":{\"anchor\":\"x16\",\"domain\":[0.7574999999999998,0.8737499999999998],\"matches\":\"y71\",\"showticklabels\":false,\"type\":\"category\",\"visible\":false},\"xaxis17\":{\"anchor\":\"y17\",\"domain\":[0.5904,0.6848000000000001],\"matches\":\"x71\",\"showticklabels\":false,\"ticks\":\"\",\"tickformat\":\"s\"},\"yaxis17\":{\"anchor\":\"x17\",\"domain\":[0.7574999999999998,0.8737499999999998],\"matches\":\"y71\",\"showticklabels\":false,\"type\":\"category\",\"visible\":false},\"xaxis18\":{\"anchor\":\"y18\",\"domain\":[0.6888000000000001,0.7832000000000001],\"matches\":\"x71\",\"showticklabels\":false,\"ticks\":\"\",\"tickformat\":\"s\"},\"yaxis18\":{\"anchor\":\"x18\",\"domain\":[0.7574999999999998,0.8737499999999998],\"matches\":\"y71\",\"showticklabels\":false,\"type\":\"category\",\"visible\":false},\"xaxis19\":{\"anchor\":\"y19\",\"domain\":[0.7872000000000001,0.8816000000000002],\"matches\":\"x71\",\"showticklabels\":false,\"ticks\":\"\",\"tickformat\":\"s\"},\"yaxis19\":{\"anchor\":\"x19\",\"domain\":[0.7574999999999998,0.8737499999999998],\"matches\":\"y71\",\"showticklabels\":false,\"type\":\"category\",\"visible\":false},\"xaxis20\":{\"anchor\":\"y20\",\"domain\":[0.8856000000000002,0.9800000000000002],\"matches\":\"x71\",\"showticklabels\":false,\"ticks\":\"\",\"tickformat\":\"s\"},\"yaxis20\":{\"anchor\":\"x20\",\"domain\":[0.7574999999999998,0.8737499999999998],\"matches\":\"y71\",\"showticklabels\":false,\"type\":\"category\",\"visible\":false},\"xaxis21\":{\"anchor\":\"y21\",\"domain\":[0.0,0.0944],\"matches\":\"x71\",\"showticklabels\":false,\"ticks\":\"\",\"tickformat\":\"s\"},\"yaxis21\":{\"anchor\":\"x21\",\"domain\":[0.63125,0.7474999999999999],\"matches\":\"y71\",\"type\":\"category\",\"visible\":false},\"xaxis22\":{\"anchor\":\"y22\",\"domain\":[0.0984,0.1928],\"matches\":\"x71\",\"showticklabels\":false,\"ticks\":\"\",\"tickformat\":\"s\"},\"yaxis22\":{\"anchor\":\"x22\",\"domain\":[0.63125,0.7474999999999999],\"matches\":\"y71\",\"showticklabels\":false,\"type\":\"category\",\"visible\":false},\"xaxis23\":{\"anchor\":\"y23\",\"domain\":[0.1968,0.2912],\"matches\":\"x71\",\"showticklabels\":false,\"ticks\":\"\",\"tickformat\":\"s\"},\"yaxis23\":{\"anchor\":\"x23\",\"domain\":[0.63125,0.7474999999999999],\"matches\":\"y71\",\"showticklabels\":false,\"type\":\"category\",\"visible\":false},\"xaxis24\":{\"anchor\":\"y24\",\"domain\":[0.2952,0.3896],\"matches\":\"x71\",\"showticklabels\":false,\"ticks\":\"\",\"tickformat\":\"s\"},\"yaxis24\":{\"anchor\":\"x24\",\"domain\":[0.63125,0.7474999999999999],\"matches\":\"y71\",\"showticklabels\":false,\"type\":\"category\",\"visible\":false},\"xaxis25\":{\"anchor\":\"y25\",\"domain\":[0.3936,0.488],\"matches\":\"x71\",\"showticklabels\":false,\"tickformat\":\"s\"},\"yaxis25\":{\"anchor\":\"x25\",\"domain\":[0.63125,0.7474999999999999],\"matches\":\"y71\",\"showticklabels\":false,\"type\":\"category\",\"visible\":false},\"xaxis26\":{\"anchor\":\"y26\",\"domain\":[0.492,0.5864],\"matches\":\"x71\",\"showticklabels\":false,\"tickformat\":\"s\"},\"yaxis26\":{\"anchor\":\"x26\",\"domain\":[0.63125,0.7474999999999999],\"matches\":\"y71\",\"showticklabels\":false,\"type\":\"category\",\"visible\":false},\"xaxis27\":{\"anchor\":\"y27\",\"domain\":[0.5904,0.6848000000000001],\"matches\":\"x71\",\"showticklabels\":false,\"tickformat\":\"s\"},\"yaxis27\":{\"anchor\":\"x27\",\"domain\":[0.63125,0.7474999999999999],\"matches\":\"y71\",\"showticklabels\":false,\"type\":\"category\",\"visible\":false},\"xaxis28\":{\"anchor\":\"y28\",\"domain\":[0.6888000000000001,0.7832000000000001],\"matches\":\"x71\",\"showticklabels\":false,\"ticks\":\"\",\"tickformat\":\"s\"},\"yaxis28\":{\"anchor\":\"x28\",\"domain\":[0.63125,0.7474999999999999],\"matches\":\"y71\",\"showticklabels\":false,\"type\":\"category\",\"visible\":false},\"xaxis29\":{\"anchor\":\"y29\",\"domain\":[0.7872000000000001,0.8816000000000002],\"matches\":\"x71\",\"showticklabels\":false,\"ticks\":\"\",\"tickformat\":\"s\"},\"yaxis29\":{\"anchor\":\"x29\",\"domain\":[0.63125,0.7474999999999999],\"matches\":\"y71\",\"showticklabels\":false,\"type\":\"category\",\"visible\":false},\"xaxis30\":{\"anchor\":\"y30\",\"domain\":[0.8856000000000002,0.9800000000000002],\"matches\":\"x71\",\"showticklabels\":false,\"ticks\":\"\",\"tickformat\":\"s\"},\"yaxis30\":{\"anchor\":\"x30\",\"domain\":[0.63125,0.7474999999999999],\"matches\":\"y71\",\"showticklabels\":false,\"type\":\"category\",\"visible\":false},\"xaxis31\":{\"anchor\":\"y31\",\"domain\":[0.0,0.0944],\"matches\":\"x71\",\"showticklabels\":false,\"ticks\":\"\",\"tickformat\":\"s\"},\"yaxis31\":{\"anchor\":\"x31\",\"domain\":[0.505,0.62125],\"matches\":\"y71\",\"type\":\"category\",\"visible\":false},\"xaxis32\":{\"anchor\":\"y32\",\"domain\":[0.0984,0.1928],\"matches\":\"x71\",\"showticklabels\":false,\"ticks\":\"\",\"tickformat\":\"s\"},\"yaxis32\":{\"anchor\":\"x32\",\"domain\":[0.505,0.62125],\"matches\":\"y71\",\"showticklabels\":false,\"type\":\"category\",\"visible\":false},\"xaxis33\":{\"anchor\":\"y33\",\"domain\":[0.1968,0.2912],\"matches\":\"x71\",\"showticklabels\":false,\"ticks\":\"\",\"tickformat\":\"s\"},\"yaxis33\":{\"anchor\":\"x33\",\"domain\":[0.505,0.62125],\"matches\":\"y71\",\"showticklabels\":false,\"type\":\"category\",\"visible\":false},\"xaxis34\":{\"anchor\":\"y34\",\"domain\":[0.2952,0.3896],\"matches\":\"x71\",\"showticklabels\":false,\"ticks\":\"\",\"tickformat\":\"s\"},\"yaxis34\":{\"anchor\":\"x34\",\"domain\":[0.505,0.62125],\"matches\":\"y71\",\"showticklabels\":false,\"type\":\"category\",\"visible\":false},\"xaxis35\":{\"anchor\":\"y35\",\"domain\":[0.3936,0.488],\"matches\":\"x71\",\"showticklabels\":false,\"tickformat\":\"s\"},\"yaxis35\":{\"anchor\":\"x35\",\"domain\":[0.505,0.62125],\"matches\":\"y71\",\"showticklabels\":false,\"type\":\"category\",\"visible\":false},\"xaxis36\":{\"anchor\":\"y36\",\"domain\":[0.492,0.5864],\"matches\":\"x71\",\"showticklabels\":false,\"ticks\":\"\",\"tickformat\":\"s\"},\"yaxis36\":{\"anchor\":\"x36\",\"domain\":[0.505,0.62125],\"matches\":\"y71\",\"showticklabels\":false,\"type\":\"category\",\"visible\":false},\"xaxis37\":{\"anchor\":\"y37\",\"domain\":[0.5904,0.6848000000000001],\"matches\":\"x71\",\"showticklabels\":false,\"tickformat\":\"s\"},\"yaxis37\":{\"anchor\":\"x37\",\"domain\":[0.505,0.62125],\"matches\":\"y71\",\"showticklabels\":false,\"type\":\"category\",\"visible\":false},\"xaxis38\":{\"anchor\":\"y38\",\"domain\":[0.6888000000000001,0.7832000000000001],\"matches\":\"x71\",\"showticklabels\":false,\"ticks\":\"\",\"tickformat\":\"s\"},\"yaxis38\":{\"anchor\":\"x38\",\"domain\":[0.505,0.62125],\"matches\":\"y71\",\"showticklabels\":false,\"type\":\"category\",\"visible\":false},\"xaxis39\":{\"anchor\":\"y39\",\"domain\":[0.7872000000000001,0.8816000000000002],\"matches\":\"x71\",\"showticklabels\":false,\"ticks\":\"\",\"tickformat\":\"s\"},\"yaxis39\":{\"anchor\":\"x39\",\"domain\":[0.505,0.62125],\"matches\":\"y71\",\"showticklabels\":false,\"type\":\"category\",\"visible\":false},\"xaxis40\":{\"anchor\":\"y40\",\"domain\":[0.8856000000000002,0.9800000000000002],\"matches\":\"x71\",\"showticklabels\":false,\"ticks\":\"\",\"tickformat\":\"s\"},\"yaxis40\":{\"anchor\":\"x40\",\"domain\":[0.505,0.62125],\"matches\":\"y71\",\"showticklabels\":false,\"type\":\"category\",\"visible\":false},\"xaxis41\":{\"anchor\":\"y41\",\"domain\":[0.0,0.0944],\"matches\":\"x71\",\"showticklabels\":false,\"ticks\":\"\",\"tickformat\":\"s\"},\"yaxis41\":{\"anchor\":\"x41\",\"domain\":[0.37875000000000003,0.495],\"matches\":\"y71\",\"type\":\"category\",\"visible\":false},\"xaxis42\":{\"anchor\":\"y42\",\"domain\":[0.0984,0.1928],\"matches\":\"x71\",\"showticklabels\":false,\"ticks\":\"\",\"tickformat\":\"s\"},\"yaxis42\":{\"anchor\":\"x42\",\"domain\":[0.37875000000000003,0.495],\"matches\":\"y71\",\"showticklabels\":false,\"type\":\"category\",\"visible\":false},\"xaxis43\":{\"anchor\":\"y43\",\"domain\":[0.1968,0.2912],\"matches\":\"x71\",\"showticklabels\":false,\"ticks\":\"\",\"tickformat\":\"s\"},\"yaxis43\":{\"anchor\":\"x43\",\"domain\":[0.37875000000000003,0.495],\"matches\":\"y71\",\"showticklabels\":false,\"type\":\"category\",\"visible\":false},\"xaxis44\":{\"anchor\":\"y44\",\"domain\":[0.2952,0.3896],\"matches\":\"x71\",\"showticklabels\":false,\"ticks\":\"\",\"tickformat\":\"s\"},\"yaxis44\":{\"anchor\":\"x44\",\"domain\":[0.37875000000000003,0.495],\"matches\":\"y71\",\"showticklabels\":false,\"type\":\"category\",\"visible\":false},\"xaxis45\":{\"anchor\":\"y45\",\"domain\":[0.3936,0.488],\"matches\":\"x71\",\"showticklabels\":false,\"ticks\":\"\",\"tickformat\":\"s\"},\"yaxis45\":{\"anchor\":\"x45\",\"domain\":[0.37875000000000003,0.495],\"matches\":\"y71\",\"showticklabels\":false,\"type\":\"category\",\"visible\":false},\"xaxis46\":{\"anchor\":\"y46\",\"domain\":[0.492,0.5864],\"matches\":\"x71\",\"showticklabels\":false,\"ticks\":\"\",\"tickformat\":\"s\"},\"yaxis46\":{\"anchor\":\"x46\",\"domain\":[0.37875000000000003,0.495],\"matches\":\"y71\",\"showticklabels\":false,\"type\":\"category\",\"visible\":false},\"xaxis47\":{\"anchor\":\"y47\",\"domain\":[0.5904,0.6848000000000001],\"matches\":\"x71\",\"showticklabels\":false,\"ticks\":\"\",\"tickformat\":\"s\"},\"yaxis47\":{\"anchor\":\"x47\",\"domain\":[0.37875000000000003,0.495],\"matches\":\"y71\",\"showticklabels\":false,\"type\":\"category\",\"visible\":false},\"xaxis48\":{\"anchor\":\"y48\",\"domain\":[0.6888000000000001,0.7832000000000001],\"matches\":\"x71\",\"showticklabels\":false,\"ticks\":\"\",\"tickformat\":\"s\"},\"yaxis48\":{\"anchor\":\"x48\",\"domain\":[0.37875000000000003,0.495],\"matches\":\"y71\",\"showticklabels\":false,\"type\":\"category\",\"visible\":false},\"xaxis49\":{\"anchor\":\"y49\",\"domain\":[0.7872000000000001,0.8816000000000002],\"matches\":\"x71\",\"showticklabels\":false,\"ticks\":\"\",\"tickformat\":\"s\"},\"yaxis49\":{\"anchor\":\"x49\",\"domain\":[0.37875000000000003,0.495],\"matches\":\"y71\",\"showticklabels\":false,\"type\":\"category\",\"visible\":false},\"xaxis50\":{\"anchor\":\"y50\",\"domain\":[0.8856000000000002,0.9800000000000002],\"matches\":\"x71\",\"showticklabels\":false,\"ticks\":\"\",\"tickformat\":\"s\"},\"yaxis50\":{\"anchor\":\"x50\",\"domain\":[0.37875000000000003,0.495],\"matches\":\"y71\",\"showticklabels\":false,\"type\":\"category\",\"visible\":false},\"xaxis51\":{\"anchor\":\"y51\",\"domain\":[0.0,0.0944],\"matches\":\"x71\",\"showticklabels\":false,\"ticks\":\"\",\"tickformat\":\"s\"},\"yaxis51\":{\"anchor\":\"x51\",\"domain\":[0.2525,0.36875],\"matches\":\"y71\",\"type\":\"category\",\"visible\":false},\"xaxis52\":{\"anchor\":\"y52\",\"domain\":[0.0984,0.1928],\"matches\":\"x71\",\"showticklabels\":false,\"ticks\":\"\",\"tickformat\":\"s\"},\"yaxis52\":{\"anchor\":\"x52\",\"domain\":[0.2525,0.36875],\"matches\":\"y71\",\"showticklabels\":false,\"type\":\"category\",\"visible\":false},\"xaxis53\":{\"anchor\":\"y53\",\"domain\":[0.1968,0.2912],\"matches\":\"x71\",\"showticklabels\":false,\"ticks\":\"\",\"tickformat\":\"s\"},\"yaxis53\":{\"anchor\":\"x53\",\"domain\":[0.2525,0.36875],\"matches\":\"y71\",\"showticklabels\":false,\"type\":\"category\",\"visible\":false},\"xaxis54\":{\"anchor\":\"y54\",\"domain\":[0.2952,0.3896],\"matches\":\"x71\",\"showticklabels\":false,\"ticks\":\"\",\"tickformat\":\"s\"},\"yaxis54\":{\"anchor\":\"x54\",\"domain\":[0.2525,0.36875],\"matches\":\"y71\",\"showticklabels\":false,\"type\":\"category\",\"visible\":false},\"xaxis55\":{\"anchor\":\"y55\",\"domain\":[0.3936,0.488],\"matches\":\"x71\",\"showticklabels\":false,\"tickformat\":\"s\"},\"yaxis55\":{\"anchor\":\"x55\",\"domain\":[0.2525,0.36875],\"matches\":\"y71\",\"showticklabels\":false,\"type\":\"category\",\"visible\":false},\"xaxis56\":{\"anchor\":\"y56\",\"domain\":[0.492,0.5864],\"matches\":\"x71\",\"showticklabels\":false,\"tickformat\":\"s\"},\"yaxis56\":{\"anchor\":\"x56\",\"domain\":[0.2525,0.36875],\"matches\":\"y71\",\"showticklabels\":false,\"type\":\"category\",\"visible\":false},\"xaxis57\":{\"anchor\":\"y57\",\"domain\":[0.5904,0.6848000000000001],\"matches\":\"x71\",\"showticklabels\":false,\"tickformat\":\"s\"},\"yaxis57\":{\"anchor\":\"x57\",\"domain\":[0.2525,0.36875],\"matches\":\"y71\",\"showticklabels\":false,\"type\":\"category\",\"visible\":false},\"xaxis58\":{\"anchor\":\"y58\",\"domain\":[0.6888000000000001,0.7832000000000001],\"matches\":\"x71\",\"showticklabels\":false,\"tickformat\":\"s\"},\"yaxis58\":{\"anchor\":\"x58\",\"domain\":[0.2525,0.36875],\"matches\":\"y71\",\"showticklabels\":false,\"type\":\"category\",\"visible\":false},\"xaxis59\":{\"anchor\":\"y59\",\"domain\":[0.7872000000000001,0.8816000000000002],\"matches\":\"x71\",\"showticklabels\":false,\"ticks\":\"\",\"tickformat\":\"s\"},\"yaxis59\":{\"anchor\":\"x59\",\"domain\":[0.2525,0.36875],\"matches\":\"y71\",\"showticklabels\":false,\"type\":\"category\",\"visible\":false},\"xaxis60\":{\"anchor\":\"y60\",\"domain\":[0.8856000000000002,0.9800000000000002],\"matches\":\"x71\",\"showticklabels\":false,\"ticks\":\"\",\"tickformat\":\"s\"},\"yaxis60\":{\"anchor\":\"x60\",\"domain\":[0.2525,0.36875],\"matches\":\"y71\",\"showticklabels\":false,\"type\":\"category\",\"visible\":false},\"xaxis61\":{\"anchor\":\"y61\",\"domain\":[0.0,0.0944],\"matches\":\"x71\",\"showticklabels\":false,\"ticks\":\"\",\"tickformat\":\"s\"},\"yaxis61\":{\"anchor\":\"x61\",\"domain\":[0.12625,0.2425],\"matches\":\"y71\",\"type\":\"category\",\"visible\":false},\"xaxis62\":{\"anchor\":\"y62\",\"domain\":[0.0984,0.1928],\"matches\":\"x71\",\"showticklabels\":false,\"ticks\":\"\",\"tickformat\":\"s\"},\"yaxis62\":{\"anchor\":\"x62\",\"domain\":[0.12625,0.2425],\"matches\":\"y71\",\"showticklabels\":false,\"type\":\"category\",\"visible\":false},\"xaxis63\":{\"anchor\":\"y63\",\"domain\":[0.1968,0.2912],\"matches\":\"x71\",\"showticklabels\":false,\"ticks\":\"\",\"tickformat\":\"s\"},\"yaxis63\":{\"anchor\":\"x63\",\"domain\":[0.12625,0.2425],\"matches\":\"y71\",\"showticklabels\":false,\"type\":\"category\",\"visible\":false},\"xaxis64\":{\"anchor\":\"y64\",\"domain\":[0.2952,0.3896],\"matches\":\"x71\",\"showticklabels\":false,\"ticks\":\"\",\"tickformat\":\"s\"},\"yaxis64\":{\"anchor\":\"x64\",\"domain\":[0.12625,0.2425],\"matches\":\"y71\",\"showticklabels\":false,\"type\":\"category\",\"visible\":false},\"xaxis65\":{\"anchor\":\"y65\",\"domain\":[0.3936,0.488],\"matches\":\"x71\",\"showticklabels\":false,\"tickformat\":\"s\"},\"yaxis65\":{\"anchor\":\"x65\",\"domain\":[0.12625,0.2425],\"matches\":\"y71\",\"showticklabels\":false,\"type\":\"category\",\"visible\":false},\"xaxis66\":{\"anchor\":\"y66\",\"domain\":[0.492,0.5864],\"matches\":\"x71\",\"showticklabels\":false,\"ticks\":\"\",\"tickformat\":\"s\"},\"yaxis66\":{\"anchor\":\"x66\",\"domain\":[0.12625,0.2425],\"matches\":\"y71\",\"showticklabels\":false,\"type\":\"category\",\"visible\":false},\"xaxis67\":{\"anchor\":\"y67\",\"domain\":[0.5904,0.6848000000000001],\"matches\":\"x71\",\"showticklabels\":false,\"tickformat\":\"s\"},\"yaxis67\":{\"anchor\":\"x67\",\"domain\":[0.12625,0.2425],\"matches\":\"y71\",\"showticklabels\":false,\"type\":\"category\",\"visible\":false},\"xaxis68\":{\"anchor\":\"y68\",\"domain\":[0.6888000000000001,0.7832000000000001],\"matches\":\"x71\",\"showticklabels\":false,\"ticks\":\"\",\"tickformat\":\"s\"},\"yaxis68\":{\"anchor\":\"x68\",\"domain\":[0.12625,0.2425],\"matches\":\"y71\",\"showticklabels\":false,\"type\":\"category\",\"visible\":false},\"xaxis69\":{\"anchor\":\"y69\",\"domain\":[0.7872000000000001,0.8816000000000002],\"matches\":\"x71\",\"showticklabels\":false,\"ticks\":\"\",\"tickformat\":\"s\"},\"yaxis69\":{\"anchor\":\"x69\",\"domain\":[0.12625,0.2425],\"matches\":\"y71\",\"showticklabels\":false,\"type\":\"category\",\"visible\":false},\"xaxis70\":{\"anchor\":\"y70\",\"domain\":[0.8856000000000002,0.9800000000000002],\"matches\":\"x71\",\"showticklabels\":false,\"ticks\":\"\",\"tickformat\":\"s\"},\"yaxis70\":{\"anchor\":\"x70\",\"domain\":[0.12625,0.2425],\"matches\":\"y71\",\"showticklabels\":false,\"type\":\"category\",\"visible\":false},\"xaxis71\":{\"anchor\":\"y71\",\"domain\":[0.0,0.0944],\"ticks\":\"outside\",\"tickformat\":\"s\"},\"yaxis71\":{\"anchor\":\"x71\",\"domain\":[0.0,0.11624999999999999],\"type\":\"category\",\"visible\":false},\"xaxis72\":{\"anchor\":\"y72\",\"domain\":[0.0984,0.1928],\"matches\":\"x71\",\"ticks\":\"outside\",\"tickformat\":\"s\"},\"yaxis72\":{\"anchor\":\"x72\",\"domain\":[0.0,0.11624999999999999],\"matches\":\"y71\",\"showticklabels\":false,\"type\":\"category\",\"visible\":false},\"xaxis73\":{\"anchor\":\"y73\",\"domain\":[0.1968,0.2912],\"matches\":\"x71\",\"ticks\":\"outside\",\"tickformat\":\"s\"},\"yaxis73\":{\"anchor\":\"x73\",\"domain\":[0.0,0.11624999999999999],\"matches\":\"y71\",\"showticklabels\":false,\"type\":\"category\",\"visible\":false},\"xaxis74\":{\"anchor\":\"y74\",\"domain\":[0.2952,0.3896],\"matches\":\"x71\",\"ticks\":\"outside\",\"tickformat\":\"s\"},\"yaxis74\":{\"anchor\":\"x74\",\"domain\":[0.0,0.11624999999999999],\"matches\":\"y71\",\"showticklabels\":false,\"type\":\"category\",\"visible\":false},\"xaxis75\":{\"anchor\":\"y75\",\"domain\":[0.3936,0.488],\"matches\":\"x71\",\"ticks\":\"outside\",\"tickformat\":\"s\"},\"yaxis75\":{\"anchor\":\"x75\",\"domain\":[0.0,0.11624999999999999],\"matches\":\"y71\",\"showticklabels\":false,\"type\":\"category\",\"visible\":false},\"xaxis76\":{\"anchor\":\"y76\",\"domain\":[0.492,0.5864],\"matches\":\"x71\",\"ticks\":\"outside\",\"tickformat\":\"s\"},\"yaxis76\":{\"anchor\":\"x76\",\"domain\":[0.0,0.11624999999999999],\"matches\":\"y71\",\"showticklabels\":false,\"type\":\"category\",\"visible\":false},\"xaxis77\":{\"anchor\":\"y77\",\"domain\":[0.5904,0.6848000000000001],\"matches\":\"x71\",\"ticks\":\"outside\",\"tickformat\":\"s\"},\"yaxis77\":{\"anchor\":\"x77\",\"domain\":[0.0,0.11624999999999999],\"matches\":\"y71\",\"showticklabels\":false,\"type\":\"category\",\"visible\":false},\"xaxis78\":{\"anchor\":\"y78\",\"domain\":[0.6888000000000001,0.7832000000000001],\"matches\":\"x71\",\"ticks\":\"outside\",\"tickformat\":\"s\"},\"yaxis78\":{\"anchor\":\"x78\",\"domain\":[0.0,0.11624999999999999],\"matches\":\"y71\",\"showticklabels\":false,\"type\":\"category\",\"visible\":false},\"xaxis79\":{\"anchor\":\"y79\",\"domain\":[0.7872000000000001,0.8816000000000002],\"matches\":\"x71\",\"ticks\":\"outside\",\"tickformat\":\"s\"},\"yaxis79\":{\"anchor\":\"x79\",\"domain\":[0.0,0.11624999999999999],\"matches\":\"y71\",\"showticklabels\":false,\"type\":\"category\",\"visible\":false},\"xaxis80\":{\"anchor\":\"y80\",\"domain\":[0.8856000000000002,0.9800000000000002],\"matches\":\"x71\",\"ticks\":\"outside\",\"tickformat\":\"s\"},\"yaxis80\":{\"anchor\":\"x80\",\"domain\":[0.0,0.11624999999999999],\"matches\":\"y71\",\"showticklabels\":false,\"type\":\"category\",\"visible\":false},\"annotations\":[{\"font\":{\"size\":14},\"showarrow\":false,\"text\":\"Promoter (<=1kb)\",\"x\":0.0472,\"xanchor\":\"center\",\"xref\":\"paper\",\"y\":0.9999999999999998,\"yanchor\":\"bottom\",\"yref\":\"paper\",\"textangle\":0},{\"font\":{\"size\":14},\"showarrow\":false,\"text\":\"Promoter (1-2kb)\",\"x\":0.1456,\"xanchor\":\"center\",\"xref\":\"paper\",\"y\":0.9999999999999998,\"yanchor\":\"bottom\",\"yref\":\"paper\",\"textangle\":0},{\"font\":{\"size\":14},\"showarrow\":false,\"text\":\"Promoter (2-3kb)\",\"x\":0.244,\"xanchor\":\"center\",\"xref\":\"paper\",\"y\":0.9999999999999998,\"yanchor\":\"bottom\",\"yref\":\"paper\",\"textangle\":0},{\"font\":{\"size\":14},\"showarrow\":false,\"text\":\"Distal Intergenic\",\"x\":0.34240000000000004,\"xanchor\":\"center\",\"xref\":\"paper\",\"y\":0.9999999999999998,\"yanchor\":\"bottom\",\"yref\":\"paper\",\"textangle\":0},{\"font\":{\"size\":14},\"showarrow\":false,\"text\":\"5' UTR\",\"x\":0.44079999999999997,\"xanchor\":\"center\",\"xref\":\"paper\",\"y\":0.9999999999999998,\"yanchor\":\"bottom\",\"yref\":\"paper\",\"textangle\":0},{\"font\":{\"size\":14},\"showarrow\":false,\"text\":\"3' UTR\",\"x\":0.5392,\"xanchor\":\"center\",\"xref\":\"paper\",\"y\":0.9999999999999998,\"yanchor\":\"bottom\",\"yref\":\"paper\",\"textangle\":0},{\"font\":{\"size\":14},\"showarrow\":false,\"text\":\"Downstream (<=300bp)\",\"x\":0.6376000000000001,\"xanchor\":\"center\",\"xref\":\"paper\",\"y\":0.9999999999999998,\"yanchor\":\"bottom\",\"yref\":\"paper\",\"textangle\":0},{\"font\":{\"size\":14},\"showarrow\":false,\"text\":\"Exon\",\"x\":0.7360000000000001,\"xanchor\":\"center\",\"xref\":\"paper\",\"y\":0.9999999999999998,\"yanchor\":\"bottom\",\"yref\":\"paper\",\"textangle\":0},{\"font\":{\"size\":14},\"showarrow\":false,\"text\":\"Intron\",\"x\":0.8344000000000001,\"xanchor\":\"center\",\"xref\":\"paper\",\"y\":0.9999999999999998,\"yanchor\":\"bottom\",\"yref\":\"paper\",\"textangle\":0},{\"font\":{\"size\":14},\"showarrow\":false,\"text\":\"no annotation\",\"x\":0.9328000000000002,\"xanchor\":\"center\",\"xref\":\"paper\",\"y\":0.9999999999999998,\"yanchor\":\"bottom\",\"yref\":\"paper\",\"textangle\":0},{\"font\":{\"size\":14},\"showarrow\":false,\"text\":\"cCRE\",\"textangle\":0,\"x\":0.9800000000000002,\"xanchor\":\"left\",\"xref\":\"paper\",\"y\":0.9418749999999998,\"yanchor\":\"middle\",\"yref\":\"paper\"},{\"font\":{\"size\":14},\"showarrow\":false,\"text\":\"Rep\",\"textangle\":0,\"x\":0.9800000000000002,\"xanchor\":\"left\",\"xref\":\"paper\",\"y\":0.8156249999999998,\"yanchor\":\"middle\",\"yref\":\"paper\"},{\"font\":{\"size\":14},\"showarrow\":false,\"text\":\"cCRE&Rep\",\"textangle\":0,\"x\":0.9800000000000002,\"xanchor\":\"left\",\"xref\":\"paper\",\"y\":0.689375,\"yanchor\":\"middle\",\"yref\":\"paper\"},{\"font\":{\"size\":14},\"showarrow\":false,\"text\":\"CTCF\",\"textangle\":0,\"x\":0.9800000000000002,\"xanchor\":\"left\",\"xref\":\"paper\",\"y\":0.563125,\"yanchor\":\"middle\",\"yref\":\"paper\"},{\"font\":{\"size\":14},\"showarrow\":false,\"text\":\"cCRE&CTCF\",\"textangle\":0,\"x\":0.9800000000000002,\"xanchor\":\"left\",\"xref\":\"paper\",\"y\":0.436875,\"yanchor\":\"middle\",\"yref\":\"paper\"},{\"font\":{\"size\":14},\"showarrow\":false,\"text\":\"Rep&CTCF\",\"textangle\":0,\"x\":0.9800000000000002,\"xanchor\":\"left\",\"xref\":\"paper\",\"y\":0.31062500000000004,\"yanchor\":\"middle\",\"yref\":\"paper\"},{\"font\":{\"size\":14},\"showarrow\":false,\"text\":\"cCRE&Rep&CTCF\",\"textangle\":0,\"x\":0.9800000000000002,\"xanchor\":\"left\",\"xref\":\"paper\",\"y\":0.184375,\"yanchor\":\"middle\",\"yref\":\"paper\"},{\"font\":{\"size\":14},\"showarrow\":false,\"text\":\"no annotation\",\"textangle\":0,\"x\":0.9800000000000002,\"xanchor\":\"left\",\"xref\":\"paper\",\"y\":0.058124999999999996,\"yanchor\":\"middle\",\"yref\":\"paper\"},{\"font\":{\"size\":14},\"showarrow\":false,\"text\":\"Flipon count\",\"x\":0.49,\"xanchor\":\"center\",\"xref\":\"paper\",\"y\":0,\"yanchor\":\"top\",\"yref\":\"paper\",\"yshift\":-30,\"textangle\":0}],\"title\":{\"text\":\"Flipons (77,700)\",\"x\":0.005},\"font\":{\"family\":\"monospace\",\"size\":10},\"uniformtext\":{\"minsize\":10},\"margin\":{\"l\":5,\"t\":5,\"b\":5},\"legend\":{\"title\":{\"text\":\"Flipon group\"},\"traceorder\":\"reversed\",\"orientation\":\"h\",\"yanchor\":\"bottom\",\"y\":1.03,\"xanchor\":\"right\",\"x\":0.98},\"height\":900,\"width\":1800},                        {\"responsive\": true}                    ).then(function(){\n",
       "                            \n",
       "var gd = document.getElementById('f4ddac67-c6ff-4bd3-b426-8a4c20a095fc');\n",
       "var x = new MutationObserver(function (mutations, observer) {{\n",
       "        var display = window.getComputedStyle(gd).display;\n",
       "        if (!display || display === 'none') {{\n",
       "            console.log([gd, 'removed!']);\n",
       "            Plotly.purge(gd);\n",
       "            observer.disconnect();\n",
       "        }}\n",
       "}});\n",
       "\n",
       "// Listen for the removal of the full notebook cells\n",
       "var notebookContainer = gd.closest('#notebook-container');\n",
       "if (notebookContainer) {{\n",
       "    x.observe(notebookContainer, {childList: true});\n",
       "}}\n",
       "\n",
       "// Listen for the clearing of the current output cell\n",
       "var outputEl = gd.closest('.output');\n",
       "if (outputEl) {{\n",
       "    x.observe(outputEl, {childList: true});\n",
       "}}\n",
       "\n",
       "                        })                };                });            </script>        </div>"
      ]
     },
     "metadata": {},
     "output_type": "display_data"
    }
   ],
   "source": [
    "groups = [\"G4\", \"Z-DNA\", \"SIDD\", \"H-DNA\"][::-1]\n",
    "annotations = [\n",
    "    \"Promoter (<=1kb)\",\n",
    "    \"Promoter (1-2kb)\",\n",
    "    \"Promoter (2-3kb)\",\n",
    "    \"Distal Intergenic\",\n",
    "    \"5' UTR\",\n",
    "    \"3' UTR\",\n",
    "    \"Downstream (<=300bp)\",\n",
    "    \"Exon\",\n",
    "    \"Intron\",\n",
    "    \"no annotation\",\n",
    "]\n",
    "feature_groups = [\n",
    "    \"cCRE\",\n",
    "    \"Rep\",\n",
    "    \"cCRE&Rep\",\n",
    "    \"CTCF\",\n",
    "    \"cCRE&CTCF\",\n",
    "    \"Rep&CTCF\",\n",
    "    \"cCRE&Rep&CTCF\",\n",
    "    \"no annotation\",\n",
    "]\n",
    "\n",
    "n_rows = len(feature_groups)\n",
    "n_cols = len(annotations)\n",
    "\n",
    "fig = ps.make_subplots(\n",
    "    rows=n_rows,\n",
    "    cols=n_cols,\n",
    "    shared_xaxes=\"all\",\n",
    "    shared_yaxes=\"all\",\n",
    "    horizontal_spacing=0.004,\n",
    "    vertical_spacing=0.01,\n",
    "    column_titles=annotations,\n",
    "    row_titles=feature_groups,\n",
    "    x_title=\"Flipon count\",\n",
    "    # y_title=\"Flipon group\",\n",
    ")\n",
    "\n",
    "for i, feature_group in enumerate(feature_groups):\n",
    "    for j, annotation in enumerate(annotations):\n",
    "        df = (\n",
    "            plotly_data_og[\n",
    "                (plotly_data_og[\"feature_group\"] == feature_group)\n",
    "                & (plotly_data_og[\"annotation\"] == annotation)\n",
    "            ]\n",
    "            .set_index(\"group\")\n",
    "            .reindex(groups)\n",
    "            .dropna()\n",
    "        )\n",
    "\n",
    "        if not len(df):\n",
    "            continue\n",
    "\n",
    "        colors = {\n",
    "            \"G4\": \"#FE9B54\",\n",
    "            \"Z-DNA\": \"royalblue\",\n",
    "            \"SIDD\": \"#ED4241\",\n",
    "            \"H-DNA\": \"darkorchid\",\n",
    "        }\n",
    "        # https://stackoverflow.com/questions/70347594/how-to-format-plotly-legend-when-using-marker-color\n",
    "        for idx, row in df.iterrows():\n",
    "            sub = pgo.Bar(\n",
    "                x=[row[\"count\"]],\n",
    "                y=[idx],\n",
    "                name=idx,\n",
    "                textposition=\"outside\" if row[\"count\"] < 1300 else \"inside\",\n",
    "                texttemplate=\"%{x:,d}\",\n",
    "                marker=dict(color=colors[idx]),\n",
    "                width=1,\n",
    "                orientation=\"h\",\n",
    "                showlegend=True if (i == 0 and j == 0) else False,\n",
    "            )\n",
    "            fig.add_trace(sub, row=i + 1, col=j + 1)\n",
    "        fig.update_xaxes(ticks=\"\", row=i + 1, col=j + 1)\n",
    "\n",
    "fig.update_xaxes(tickformat=\"s\")\n",
    "fig.update_xaxes(ticks=\"outside\", row=n_rows)\n",
    "fig.update_yaxes(type=\"category\", visible=False)\n",
    "\n",
    "fig.update_annotations(textangle=0, font=dict(size=14))\n",
    "fig.update_layout(\n",
    "    title=f\"Flipons ({plotly_data_og['count'].sum():,d})\",\n",
    "    title_x=0.005,\n",
    "    height=900,\n",
    "    width=1800,\n",
    "    font=dict(family=\"monospace\", size=10),\n",
    "    uniformtext_minsize=10,\n",
    "    margin=dict(l=5, t=5, b=5),\n",
    "    legend=dict(\n",
    "        title_text=\"Flipon group\",\n",
    "        traceorder=\"reversed\",\n",
    "        orientation=\"h\",\n",
    "        yanchor=\"bottom\",\n",
    "        y=1.03,\n",
    "        xanchor=\"right\",\n",
    "        x=0.98,\n",
    "    ),\n",
    "    template=\"ggplot2\",\n",
    ")\n",
    "\n",
    "fig.write_image(d_img / 'enrichment-table-all-flipons-01-all.png')\n",
    "\n",
    "fig.show()\n"
   ]
  },
  {
   "cell_type": "code",
   "execution_count": null,
   "metadata": {},
   "outputs": [],
   "source": []
  }
 ],
 "metadata": {
  "kernelspec": {
   "display_name": "Python 3.11.0 ('mirna')",
   "language": "python",
   "name": "python3"
  },
  "language_info": {
   "codemirror_mode": {
    "name": "ipython",
    "version": 3
   },
   "file_extension": ".py",
   "mimetype": "text/x-python",
   "name": "python",
   "nbconvert_exporter": "python",
   "pygments_lexer": "ipython3",
   "version": "3.11.0"
  },
  "orig_nbformat": 4,
  "vscode": {
   "interpreter": {
    "hash": "aa4ca5e43b0b74394dc05f972f57eb4922712b4f4450a8ee4f1bf77784cf2ccc"
   }
  }
 },
 "nbformat": 4,
 "nbformat_minor": 2
}
