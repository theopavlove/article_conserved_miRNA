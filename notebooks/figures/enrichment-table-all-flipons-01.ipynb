{
 "cells": [
  {
   "cell_type": "code",
   "execution_count": 2,
   "metadata": {},
   "outputs": [],
   "source": [
    "import numpy as np\n",
    "import pandas as pd\n",
    "import plotly.graph_objects as pgo\n",
    "import plotly.subplots as ps\n",
    "\n",
    "from pathlib import Path\n",
    "\n",
    "pd.set_option('display.max_rows', 2)"
   ]
  },
  {
   "cell_type": "code",
   "execution_count": 3,
   "metadata": {
    "tags": []
   },
   "outputs": [],
   "source": [
    "d_root = Path(\"/home/fpavlov/projects/article_conserved_miRNA\")\n",
    "d_data = d_root / \"data\"\n",
    "d_img = d_root / \"img\"\n",
    "\n",
    "# Input\n",
    "f_flipon_to_data = d_data / \"flipon_to_data.tsv\"\n",
    "f_flipon_to_data_og = d_data / \"flipon_to_data_og.tsv\"\n"
   ]
  },
  {
   "cell_type": "code",
   "execution_count": 53,
   "metadata": {},
   "outputs": [],
   "source": [
    "def get_group(x: list):\n",
    "    any_ccre = x[0].replace('(CTCF-bound)', '').replace('CTCF-only', '').replace('CTCF', '').strip(\", \") != ''\n",
    "    any_ctcf = \"CTCF\" in x[0]\n",
    "    any_reps = x[1] != \"\"\n",
    "\n",
    "    return \" & \".join([any_ccre * \"cCRE\", any_reps * \"LINE/LTR\", any_ctcf * \"CTCF\"]).replace(\n",
    "        \"&  &\", \"&\"\n",
    "    )\n",
    "\n",
    "def get_plotly_data(path: Path) -> pd.DataFrame:\n",
    "    flipons_to_data = pd.read_table(path).fillna('')\n",
    "    result = (\n",
    "        flipons_to_data.replace(regex=r\"(@(.+?), )|(@(.+?)$)\", value=\",\")\n",
    "        .assign(\n",
    "            feature_group=lambda x: x[\n",
    "                [\"cCRE (+-200bp slop)\", \"LINE/LTR repeats (+-200bp slop)\"]\n",
    "            ]\n",
    "            .apply(get_group, axis=1)\n",
    "            .str.strip(\"& \").str.replace('& ', '&<br>')\n",
    "        )\n",
    "        .loc[:, [\"feature_group\", \"annotation\", \"group\"]]\n",
    "        .groupby([\"annotation\", \"feature_group\"])[[\"group\"]]\n",
    "        .value_counts()\n",
    "        .to_frame()\n",
    "        .rename(columns={0: \"count\"})\n",
    "        .reset_index()\n",
    "    )\n",
    "    result = result[result['feature_group'] != ''].replace(\n",
    "        {\"quadruplex\": \"G4\", \"z-dna\": \"Z-DNA\", \"h-dna\": \"H-DNA\", \"sidd\": \"SIDD\"}\n",
    "    )\n",
    "    return result\n"
   ]
  },
  {
   "cell_type": "code",
   "execution_count": 54,
   "metadata": {},
   "outputs": [
    {
     "data": {
      "text/html": [
       "<div>\n",
       "<style scoped>\n",
       "    .dataframe tbody tr th:only-of-type {\n",
       "        vertical-align: middle;\n",
       "    }\n",
       "\n",
       "    .dataframe tbody tr th {\n",
       "        vertical-align: top;\n",
       "    }\n",
       "\n",
       "    .dataframe thead th {\n",
       "        text-align: right;\n",
       "    }\n",
       "</style>\n",
       "<table border=\"1\" class=\"dataframe\">\n",
       "  <thead>\n",
       "    <tr style=\"text-align: right;\">\n",
       "      <th></th>\n",
       "      <th>annotation</th>\n",
       "      <th>feature_group</th>\n",
       "      <th>group</th>\n",
       "      <th>count</th>\n",
       "    </tr>\n",
       "  </thead>\n",
       "  <tbody>\n",
       "    <tr>\n",
       "      <th>4</th>\n",
       "      <td>3' UTR</td>\n",
       "      <td>CTCF</td>\n",
       "      <td>SIDD</td>\n",
       "      <td>2</td>\n",
       "    </tr>\n",
       "    <tr>\n",
       "      <th>...</th>\n",
       "      <td>...</td>\n",
       "      <td>...</td>\n",
       "      <td>...</td>\n",
       "      <td>...</td>\n",
       "    </tr>\n",
       "    <tr>\n",
       "      <th>191</th>\n",
       "      <td>Promoter (&lt;=1kb)</td>\n",
       "      <td>cCRE &amp;&lt;br&gt;LINE/LTR &amp;&lt;br&gt;CTCF</td>\n",
       "      <td>H-DNA</td>\n",
       "      <td>3</td>\n",
       "    </tr>\n",
       "  </tbody>\n",
       "</table>\n",
       "<p>160 rows × 4 columns</p>\n",
       "</div>"
      ],
      "text/plain": [
       "           annotation                 feature_group  group  count\n",
       "4              3' UTR                          CTCF   SIDD      2\n",
       "..                ...                           ...    ...    ...\n",
       "191  Promoter (<=1kb)  cCRE &<br>LINE/LTR &<br>CTCF  H-DNA      3\n",
       "\n",
       "[160 rows x 4 columns]"
      ]
     },
     "execution_count": 54,
     "metadata": {},
     "output_type": "execute_result"
    }
   ],
   "source": [
    "plotly_data = get_plotly_data(f_flipon_to_data)\n",
    "plotly_data"
   ]
  },
  {
   "cell_type": "code",
   "execution_count": 55,
   "metadata": {},
   "outputs": [
    {
     "name": "stderr",
     "output_type": "stream",
     "text": [
      "/tmp/ipykernel_4103817/3702175196.py:11: DtypeWarning:\n",
      "\n",
      "Columns (4) have mixed types. Specify dtype option on import or set low_memory=False.\n",
      "\n"
     ]
    },
    {
     "data": {
      "text/html": [
       "<div>\n",
       "<style scoped>\n",
       "    .dataframe tbody tr th:only-of-type {\n",
       "        vertical-align: middle;\n",
       "    }\n",
       "\n",
       "    .dataframe tbody tr th {\n",
       "        vertical-align: top;\n",
       "    }\n",
       "\n",
       "    .dataframe thead th {\n",
       "        text-align: right;\n",
       "    }\n",
       "</style>\n",
       "<table border=\"1\" class=\"dataframe\">\n",
       "  <thead>\n",
       "    <tr style=\"text-align: right;\">\n",
       "      <th></th>\n",
       "      <th>annotation</th>\n",
       "      <th>feature_group</th>\n",
       "      <th>group</th>\n",
       "      <th>count</th>\n",
       "    </tr>\n",
       "  </thead>\n",
       "  <tbody>\n",
       "    <tr>\n",
       "      <th>4</th>\n",
       "      <td>3' UTR</td>\n",
       "      <td>CTCF</td>\n",
       "      <td>SIDD</td>\n",
       "      <td>2</td>\n",
       "    </tr>\n",
       "    <tr>\n",
       "      <th>...</th>\n",
       "      <td>...</td>\n",
       "      <td>...</td>\n",
       "      <td>...</td>\n",
       "      <td>...</td>\n",
       "    </tr>\n",
       "    <tr>\n",
       "      <th>218</th>\n",
       "      <td>Promoter (&lt;=1kb)</td>\n",
       "      <td>cCRE &amp;&lt;br&gt;LINE/LTR &amp;&lt;br&gt;CTCF</td>\n",
       "      <td>SIDD</td>\n",
       "      <td>11</td>\n",
       "    </tr>\n",
       "  </tbody>\n",
       "</table>\n",
       "<p>184 rows × 4 columns</p>\n",
       "</div>"
      ],
      "text/plain": [
       "           annotation                 feature_group group  count\n",
       "4              3' UTR                          CTCF  SIDD      2\n",
       "..                ...                           ...   ...    ...\n",
       "218  Promoter (<=1kb)  cCRE &<br>LINE/LTR &<br>CTCF  SIDD     11\n",
       "\n",
       "[184 rows x 4 columns]"
      ]
     },
     "execution_count": 55,
     "metadata": {},
     "output_type": "execute_result"
    }
   ],
   "source": [
    "plotly_data_og = get_plotly_data(f_flipon_to_data_og)\n",
    "plotly_data_og"
   ]
  },
  {
   "cell_type": "code",
   "execution_count": 74,
   "metadata": {},
   "outputs": [
    {
     "data": {
      "application/vnd.plotly.v1+json": {
       "config": {
        "plotlyServerURL": "https://plot.ly"
       },
       "data": [
        {
         "marker": {
          "color": "darkorchid"
         },
         "name": "H-DNA",
         "orientation": "h",
         "showlegend": true,
         "textposition": "outside",
         "texttemplate": "%{x:,d}",
         "type": "bar",
         "width": 1,
         "x": [
          113
         ],
         "xaxis": "x",
         "y": [
          "H-DNA"
         ],
         "yaxis": "y"
        },
        {
         "marker": {
          "color": "#ED4241"
         },
         "name": "SIDD",
         "orientation": "h",
         "showlegend": true,
         "textposition": "outside",
         "texttemplate": "%{x:,d}",
         "type": "bar",
         "width": 1,
         "x": [
          209
         ],
         "xaxis": "x",
         "y": [
          "SIDD"
         ],
         "yaxis": "y"
        },
        {
         "marker": {
          "color": "royalblue"
         },
         "name": "Z-DNA",
         "orientation": "h",
         "showlegend": true,
         "textposition": "outside",
         "texttemplate": "%{x:,d}",
         "type": "bar",
         "width": 1,
         "x": [
          630
         ],
         "xaxis": "x",
         "y": [
          "Z-DNA"
         ],
         "yaxis": "y"
        },
        {
         "marker": {
          "color": "#FE9B54"
         },
         "name": "G4",
         "orientation": "h",
         "showlegend": true,
         "textposition": "outside",
         "texttemplate": "%{x:,d}",
         "type": "bar",
         "width": 1,
         "x": [
          1405
         ],
         "xaxis": "x",
         "y": [
          "G4"
         ],
         "yaxis": "y"
        },
        {
         "marker": {
          "color": "darkorchid"
         },
         "name": "H-DNA",
         "orientation": "h",
         "showlegend": false,
         "textposition": "outside",
         "texttemplate": "%{x:,d}",
         "type": "bar",
         "width": 1,
         "x": [
          14
         ],
         "xaxis": "x2",
         "y": [
          "H-DNA"
         ],
         "yaxis": "y2"
        },
        {
         "marker": {
          "color": "#ED4241"
         },
         "name": "SIDD",
         "orientation": "h",
         "showlegend": false,
         "textposition": "outside",
         "texttemplate": "%{x:,d}",
         "type": "bar",
         "width": 1,
         "x": [
          53
         ],
         "xaxis": "x2",
         "y": [
          "SIDD"
         ],
         "yaxis": "y2"
        },
        {
         "marker": {
          "color": "royalblue"
         },
         "name": "Z-DNA",
         "orientation": "h",
         "showlegend": false,
         "textposition": "outside",
         "texttemplate": "%{x:,d}",
         "type": "bar",
         "width": 1,
         "x": [
          60
         ],
         "xaxis": "x2",
         "y": [
          "Z-DNA"
         ],
         "yaxis": "y2"
        },
        {
         "marker": {
          "color": "#FE9B54"
         },
         "name": "G4",
         "orientation": "h",
         "showlegend": false,
         "textposition": "outside",
         "texttemplate": "%{x:,d}",
         "type": "bar",
         "width": 1,
         "x": [
          121
         ],
         "xaxis": "x2",
         "y": [
          "G4"
         ],
         "yaxis": "y2"
        },
        {
         "marker": {
          "color": "darkorchid"
         },
         "name": "H-DNA",
         "orientation": "h",
         "showlegend": false,
         "textposition": "outside",
         "texttemplate": "%{x:,d}",
         "type": "bar",
         "width": 1,
         "x": [
          12
         ],
         "xaxis": "x3",
         "y": [
          "H-DNA"
         ],
         "yaxis": "y3"
        },
        {
         "marker": {
          "color": "#ED4241"
         },
         "name": "SIDD",
         "orientation": "h",
         "showlegend": false,
         "textposition": "outside",
         "texttemplate": "%{x:,d}",
         "type": "bar",
         "width": 1,
         "x": [
          28
         ],
         "xaxis": "x3",
         "y": [
          "SIDD"
         ],
         "yaxis": "y3"
        },
        {
         "marker": {
          "color": "royalblue"
         },
         "name": "Z-DNA",
         "orientation": "h",
         "showlegend": false,
         "textposition": "outside",
         "texttemplate": "%{x:,d}",
         "type": "bar",
         "width": 1,
         "x": [
          38
         ],
         "xaxis": "x3",
         "y": [
          "Z-DNA"
         ],
         "yaxis": "y3"
        },
        {
         "marker": {
          "color": "#FE9B54"
         },
         "name": "G4",
         "orientation": "h",
         "showlegend": false,
         "textposition": "outside",
         "texttemplate": "%{x:,d}",
         "type": "bar",
         "width": 1,
         "x": [
          52
         ],
         "xaxis": "x3",
         "y": [
          "G4"
         ],
         "yaxis": "y3"
        },
        {
         "marker": {
          "color": "#ED4241"
         },
         "name": "SIDD",
         "orientation": "h",
         "showlegend": false,
         "textposition": "outside",
         "texttemplate": "%{x:,d}",
         "type": "bar",
         "width": 1,
         "x": [
          1
         ],
         "xaxis": "x4",
         "y": [
          "SIDD"
         ],
         "yaxis": "y4"
        },
        {
         "marker": {
          "color": "royalblue"
         },
         "name": "Z-DNA",
         "orientation": "h",
         "showlegend": false,
         "textposition": "outside",
         "texttemplate": "%{x:,d}",
         "type": "bar",
         "width": 1,
         "x": [
          1
         ],
         "xaxis": "x4",
         "y": [
          "Z-DNA"
         ],
         "yaxis": "y4"
        },
        {
         "marker": {
          "color": "darkorchid"
         },
         "name": "H-DNA",
         "orientation": "h",
         "showlegend": false,
         "textposition": "outside",
         "texttemplate": "%{x:,d}",
         "type": "bar",
         "width": 1,
         "x": [
          4
         ],
         "xaxis": "x5",
         "y": [
          "H-DNA"
         ],
         "yaxis": "y5"
        },
        {
         "marker": {
          "color": "#ED4241"
         },
         "name": "SIDD",
         "orientation": "h",
         "showlegend": false,
         "textposition": "outside",
         "texttemplate": "%{x:,d}",
         "type": "bar",
         "width": 1,
         "x": [
          20
         ],
         "xaxis": "x5",
         "y": [
          "SIDD"
         ],
         "yaxis": "y5"
        },
        {
         "marker": {
          "color": "royalblue"
         },
         "name": "Z-DNA",
         "orientation": "h",
         "showlegend": false,
         "textposition": "outside",
         "texttemplate": "%{x:,d}",
         "type": "bar",
         "width": 1,
         "x": [
          7
         ],
         "xaxis": "x5",
         "y": [
          "Z-DNA"
         ],
         "yaxis": "y5"
        },
        {
         "marker": {
          "color": "#FE9B54"
         },
         "name": "G4",
         "orientation": "h",
         "showlegend": false,
         "textposition": "outside",
         "texttemplate": "%{x:,d}",
         "type": "bar",
         "width": 1,
         "x": [
          28
         ],
         "xaxis": "x5",
         "y": [
          "G4"
         ],
         "yaxis": "y5"
        },
        {
         "marker": {
          "color": "#ED4241"
         },
         "name": "SIDD",
         "orientation": "h",
         "showlegend": false,
         "textposition": "outside",
         "texttemplate": "%{x:,d}",
         "type": "bar",
         "width": 1,
         "x": [
          7
         ],
         "xaxis": "x6",
         "y": [
          "SIDD"
         ],
         "yaxis": "y6"
        },
        {
         "marker": {
          "color": "royalblue"
         },
         "name": "Z-DNA",
         "orientation": "h",
         "showlegend": false,
         "textposition": "outside",
         "texttemplate": "%{x:,d}",
         "type": "bar",
         "width": 1,
         "x": [
          20
         ],
         "xaxis": "x6",
         "y": [
          "Z-DNA"
         ],
         "yaxis": "y6"
        },
        {
         "marker": {
          "color": "#FE9B54"
         },
         "name": "G4",
         "orientation": "h",
         "showlegend": false,
         "textposition": "outside",
         "texttemplate": "%{x:,d}",
         "type": "bar",
         "width": 1,
         "x": [
          22
         ],
         "xaxis": "x6",
         "y": [
          "G4"
         ],
         "yaxis": "y6"
        },
        {
         "marker": {
          "color": "darkorchid"
         },
         "name": "H-DNA",
         "orientation": "h",
         "showlegend": false,
         "textposition": "outside",
         "texttemplate": "%{x:,d}",
         "type": "bar",
         "width": 1,
         "x": [
          36
         ],
         "xaxis": "x7",
         "y": [
          "H-DNA"
         ],
         "yaxis": "y7"
        },
        {
         "marker": {
          "color": "#ED4241"
         },
         "name": "SIDD",
         "orientation": "h",
         "showlegend": false,
         "textposition": "outside",
         "texttemplate": "%{x:,d}",
         "type": "bar",
         "width": 1,
         "x": [
          75
         ],
         "xaxis": "x7",
         "y": [
          "SIDD"
         ],
         "yaxis": "y7"
        },
        {
         "marker": {
          "color": "royalblue"
         },
         "name": "Z-DNA",
         "orientation": "h",
         "showlegend": false,
         "textposition": "outside",
         "texttemplate": "%{x:,d}",
         "type": "bar",
         "width": 1,
         "x": [
          73
         ],
         "xaxis": "x7",
         "y": [
          "Z-DNA"
         ],
         "yaxis": "y7"
        },
        {
         "marker": {
          "color": "#FE9B54"
         },
         "name": "G4",
         "orientation": "h",
         "showlegend": false,
         "textposition": "outside",
         "texttemplate": "%{x:,d}",
         "type": "bar",
         "width": 1,
         "x": [
          142
         ],
         "xaxis": "x7",
         "y": [
          "G4"
         ],
         "yaxis": "y7"
        },
        {
         "marker": {
          "color": "darkorchid"
         },
         "name": "H-DNA",
         "orientation": "h",
         "showlegend": false,
         "textposition": "outside",
         "texttemplate": "%{x:,d}",
         "type": "bar",
         "width": 1,
         "x": [
          26
         ],
         "xaxis": "x9",
         "y": [
          "H-DNA"
         ],
         "yaxis": "y9"
        },
        {
         "marker": {
          "color": "#ED4241"
         },
         "name": "SIDD",
         "orientation": "h",
         "showlegend": false,
         "textposition": "outside",
         "texttemplate": "%{x:,d}",
         "type": "bar",
         "width": 1,
         "x": [
          61
         ],
         "xaxis": "x9",
         "y": [
          "SIDD"
         ],
         "yaxis": "y9"
        },
        {
         "marker": {
          "color": "royalblue"
         },
         "name": "Z-DNA",
         "orientation": "h",
         "showlegend": false,
         "textposition": "outside",
         "texttemplate": "%{x:,d}",
         "type": "bar",
         "width": 1,
         "x": [
          55
         ],
         "xaxis": "x9",
         "y": [
          "Z-DNA"
         ],
         "yaxis": "y9"
        },
        {
         "marker": {
          "color": "#FE9B54"
         },
         "name": "G4",
         "orientation": "h",
         "showlegend": false,
         "textposition": "outside",
         "texttemplate": "%{x:,d}",
         "type": "bar",
         "width": 1,
         "x": [
          132
         ],
         "xaxis": "x9",
         "y": [
          "G4"
         ],
         "yaxis": "y9"
        },
        {
         "marker": {
          "color": "darkorchid"
         },
         "name": "H-DNA",
         "orientation": "h",
         "showlegend": false,
         "textposition": "outside",
         "texttemplate": "%{x:,d}",
         "type": "bar",
         "width": 1,
         "x": [
          42
         ],
         "xaxis": "x10",
         "y": [
          "H-DNA"
         ],
         "yaxis": "y10"
        },
        {
         "marker": {
          "color": "#ED4241"
         },
         "name": "SIDD",
         "orientation": "h",
         "showlegend": false,
         "textposition": "outside",
         "texttemplate": "%{x:,d}",
         "type": "bar",
         "width": 1,
         "x": [
          424
         ],
         "xaxis": "x10",
         "y": [
          "SIDD"
         ],
         "yaxis": "y10"
        },
        {
         "marker": {
          "color": "royalblue"
         },
         "name": "Z-DNA",
         "orientation": "h",
         "showlegend": false,
         "textposition": "outside",
         "texttemplate": "%{x:,d}",
         "type": "bar",
         "width": 1,
         "x": [
          99
         ],
         "xaxis": "x10",
         "y": [
          "Z-DNA"
         ],
         "yaxis": "y10"
        },
        {
         "marker": {
          "color": "#FE9B54"
         },
         "name": "G4",
         "orientation": "h",
         "showlegend": false,
         "textposition": "outside",
         "texttemplate": "%{x:,d}",
         "type": "bar",
         "width": 1,
         "x": [
          86
         ],
         "xaxis": "x10",
         "y": [
          "G4"
         ],
         "yaxis": "y10"
        },
        {
         "marker": {
          "color": "darkorchid"
         },
         "name": "H-DNA",
         "orientation": "h",
         "showlegend": false,
         "textposition": "outside",
         "texttemplate": "%{x:,d}",
         "type": "bar",
         "width": 1,
         "x": [
          57
         ],
         "xaxis": "x11",
         "y": [
          "H-DNA"
         ],
         "yaxis": "y11"
        },
        {
         "marker": {
          "color": "#ED4241"
         },
         "name": "SIDD",
         "orientation": "h",
         "showlegend": false,
         "textposition": "outside",
         "texttemplate": "%{x:,d}",
         "type": "bar",
         "width": 1,
         "x": [
          430
         ],
         "xaxis": "x11",
         "y": [
          "SIDD"
         ],
         "yaxis": "y11"
        },
        {
         "marker": {
          "color": "royalblue"
         },
         "name": "Z-DNA",
         "orientation": "h",
         "showlegend": false,
         "textposition": "outside",
         "texttemplate": "%{x:,d}",
         "type": "bar",
         "width": 1,
         "x": [
          65
         ],
         "xaxis": "x11",
         "y": [
          "Z-DNA"
         ],
         "yaxis": "y11"
        },
        {
         "marker": {
          "color": "#FE9B54"
         },
         "name": "G4",
         "orientation": "h",
         "showlegend": false,
         "textposition": "outside",
         "texttemplate": "%{x:,d}",
         "type": "bar",
         "width": 1,
         "x": [
          107
         ],
         "xaxis": "x11",
         "y": [
          "G4"
         ],
         "yaxis": "y11"
        },
        {
         "marker": {
          "color": "darkorchid"
         },
         "name": "H-DNA",
         "orientation": "h",
         "showlegend": false,
         "textposition": "outside",
         "texttemplate": "%{x:,d}",
         "type": "bar",
         "width": 1,
         "x": [
          65
         ],
         "xaxis": "x12",
         "y": [
          "H-DNA"
         ],
         "yaxis": "y12"
        },
        {
         "marker": {
          "color": "#ED4241"
         },
         "name": "SIDD",
         "orientation": "h",
         "showlegend": false,
         "textposition": "outside",
         "texttemplate": "%{x:,d}",
         "type": "bar",
         "width": 1,
         "x": [
          372
         ],
         "xaxis": "x12",
         "y": [
          "SIDD"
         ],
         "yaxis": "y12"
        },
        {
         "marker": {
          "color": "royalblue"
         },
         "name": "Z-DNA",
         "orientation": "h",
         "showlegend": false,
         "textposition": "outside",
         "texttemplate": "%{x:,d}",
         "type": "bar",
         "width": 1,
         "x": [
          95
         ],
         "xaxis": "x12",
         "y": [
          "Z-DNA"
         ],
         "yaxis": "y12"
        },
        {
         "marker": {
          "color": "#FE9B54"
         },
         "name": "G4",
         "orientation": "h",
         "showlegend": false,
         "textposition": "outside",
         "texttemplate": "%{x:,d}",
         "type": "bar",
         "width": 1,
         "x": [
          109
         ],
         "xaxis": "x12",
         "y": [
          "G4"
         ],
         "yaxis": "y12"
        },
        {
         "marker": {
          "color": "darkorchid"
         },
         "name": "H-DNA",
         "orientation": "h",
         "showlegend": false,
         "textposition": "outside",
         "texttemplate": "%{x:,d}",
         "type": "bar",
         "width": 1,
         "x": [
          8
         ],
         "xaxis": "x14",
         "y": [
          "H-DNA"
         ],
         "yaxis": "y14"
        },
        {
         "marker": {
          "color": "#ED4241"
         },
         "name": "SIDD",
         "orientation": "h",
         "showlegend": false,
         "textposition": "outside",
         "texttemplate": "%{x:,d}",
         "type": "bar",
         "width": 1,
         "x": [
          48
         ],
         "xaxis": "x14",
         "y": [
          "SIDD"
         ],
         "yaxis": "y14"
        },
        {
         "marker": {
          "color": "royalblue"
         },
         "name": "Z-DNA",
         "orientation": "h",
         "showlegend": false,
         "textposition": "outside",
         "texttemplate": "%{x:,d}",
         "type": "bar",
         "width": 1,
         "x": [
          11
         ],
         "xaxis": "x14",
         "y": [
          "Z-DNA"
         ],
         "yaxis": "y14"
        },
        {
         "marker": {
          "color": "#FE9B54"
         },
         "name": "G4",
         "orientation": "h",
         "showlegend": false,
         "textposition": "outside",
         "texttemplate": "%{x:,d}",
         "type": "bar",
         "width": 1,
         "x": [
          9
         ],
         "xaxis": "x14",
         "y": [
          "G4"
         ],
         "yaxis": "y14"
        },
        {
         "marker": {
          "color": "#ED4241"
         },
         "name": "SIDD",
         "orientation": "h",
         "showlegend": false,
         "textposition": "outside",
         "texttemplate": "%{x:,d}",
         "type": "bar",
         "width": 1,
         "x": [
          46
         ],
         "xaxis": "x15",
         "y": [
          "SIDD"
         ],
         "yaxis": "y15"
        },
        {
         "marker": {
          "color": "royalblue"
         },
         "name": "Z-DNA",
         "orientation": "h",
         "showlegend": false,
         "textposition": "outside",
         "texttemplate": "%{x:,d}",
         "type": "bar",
         "width": 1,
         "x": [
          5
         ],
         "xaxis": "x15",
         "y": [
          "Z-DNA"
         ],
         "yaxis": "y15"
        },
        {
         "marker": {
          "color": "#FE9B54"
         },
         "name": "G4",
         "orientation": "h",
         "showlegend": false,
         "textposition": "outside",
         "texttemplate": "%{x:,d}",
         "type": "bar",
         "width": 1,
         "x": [
          8
         ],
         "xaxis": "x15",
         "y": [
          "G4"
         ],
         "yaxis": "y15"
        },
        {
         "marker": {
          "color": "darkorchid"
         },
         "name": "H-DNA",
         "orientation": "h",
         "showlegend": false,
         "textposition": "outside",
         "texttemplate": "%{x:,d}",
         "type": "bar",
         "width": 1,
         "x": [
          441
         ],
         "xaxis": "x16",
         "y": [
          "H-DNA"
         ],
         "yaxis": "y16"
        },
        {
         "marker": {
          "color": "#ED4241"
         },
         "name": "SIDD",
         "orientation": "h",
         "showlegend": false,
         "textposition": "inside",
         "texttemplate": "%{x:,d}",
         "type": "bar",
         "width": 1,
         "x": [
          3312
         ],
         "xaxis": "x16",
         "y": [
          "SIDD"
         ],
         "yaxis": "y16"
        },
        {
         "marker": {
          "color": "royalblue"
         },
         "name": "Z-DNA",
         "orientation": "h",
         "showlegend": false,
         "textposition": "outside",
         "texttemplate": "%{x:,d}",
         "type": "bar",
         "width": 1,
         "x": [
          635
         ],
         "xaxis": "x16",
         "y": [
          "Z-DNA"
         ],
         "yaxis": "y16"
        },
        {
         "marker": {
          "color": "#FE9B54"
         },
         "name": "G4",
         "orientation": "h",
         "showlegend": false,
         "textposition": "outside",
         "texttemplate": "%{x:,d}",
         "type": "bar",
         "width": 1,
         "x": [
          895
         ],
         "xaxis": "x16",
         "y": [
          "G4"
         ],
         "yaxis": "y16"
        },
        {
         "marker": {
          "color": "darkorchid"
         },
         "name": "H-DNA",
         "orientation": "h",
         "showlegend": false,
         "textposition": "outside",
         "texttemplate": "%{x:,d}",
         "type": "bar",
         "width": 1,
         "x": [
          1
         ],
         "xaxis": "x17",
         "y": [
          "H-DNA"
         ],
         "yaxis": "y17"
        },
        {
         "marker": {
          "color": "#ED4241"
         },
         "name": "SIDD",
         "orientation": "h",
         "showlegend": false,
         "textposition": "outside",
         "texttemplate": "%{x:,d}",
         "type": "bar",
         "width": 1,
         "x": [
          10
         ],
         "xaxis": "x17",
         "y": [
          "SIDD"
         ],
         "yaxis": "y17"
        },
        {
         "marker": {
          "color": "royalblue"
         },
         "name": "Z-DNA",
         "orientation": "h",
         "showlegend": false,
         "textposition": "outside",
         "texttemplate": "%{x:,d}",
         "type": "bar",
         "width": 1,
         "x": [
          1
         ],
         "xaxis": "x17",
         "y": [
          "Z-DNA"
         ],
         "yaxis": "y17"
        },
        {
         "marker": {
          "color": "#FE9B54"
         },
         "name": "G4",
         "orientation": "h",
         "showlegend": false,
         "textposition": "outside",
         "texttemplate": "%{x:,d}",
         "type": "bar",
         "width": 1,
         "x": [
          2
         ],
         "xaxis": "x17",
         "y": [
          "G4"
         ],
         "yaxis": "y17"
        },
        {
         "marker": {
          "color": "darkorchid"
         },
         "name": "H-DNA",
         "orientation": "h",
         "showlegend": false,
         "textposition": "outside",
         "texttemplate": "%{x:,d}",
         "type": "bar",
         "width": 1,
         "x": [
          962
         ],
         "xaxis": "x18",
         "y": [
          "H-DNA"
         ],
         "yaxis": "y18"
        },
        {
         "marker": {
          "color": "#ED4241"
         },
         "name": "SIDD",
         "orientation": "h",
         "showlegend": false,
         "textposition": "inside",
         "texttemplate": "%{x:,d}",
         "type": "bar",
         "width": 1,
         "x": [
          8139
         ],
         "xaxis": "x18",
         "y": [
          "SIDD"
         ],
         "yaxis": "y18"
        },
        {
         "marker": {
          "color": "royalblue"
         },
         "name": "Z-DNA",
         "orientation": "h",
         "showlegend": false,
         "textposition": "outside",
         "texttemplate": "%{x:,d}",
         "type": "bar",
         "width": 1,
         "x": [
          1435
         ],
         "xaxis": "x18",
         "y": [
          "Z-DNA"
         ],
         "yaxis": "y18"
        },
        {
         "marker": {
          "color": "#FE9B54"
         },
         "name": "G4",
         "orientation": "h",
         "showlegend": false,
         "textposition": "outside",
         "texttemplate": "%{x:,d}",
         "type": "bar",
         "width": 1,
         "x": [
          2000
         ],
         "xaxis": "x18",
         "y": [
          "G4"
         ],
         "yaxis": "y18"
        },
        {
         "marker": {
          "color": "darkorchid"
         },
         "name": "H-DNA",
         "orientation": "h",
         "showlegend": false,
         "textposition": "outside",
         "texttemplate": "%{x:,d}",
         "type": "bar",
         "width": 1,
         "x": [
          4
         ],
         "xaxis": "x19",
         "y": [
          "H-DNA"
         ],
         "yaxis": "y19"
        },
        {
         "marker": {
          "color": "#ED4241"
         },
         "name": "SIDD",
         "orientation": "h",
         "showlegend": false,
         "textposition": "outside",
         "texttemplate": "%{x:,d}",
         "type": "bar",
         "width": 1,
         "x": [
          29
         ],
         "xaxis": "x19",
         "y": [
          "SIDD"
         ],
         "yaxis": "y19"
        },
        {
         "marker": {
          "color": "royalblue"
         },
         "name": "Z-DNA",
         "orientation": "h",
         "showlegend": false,
         "textposition": "outside",
         "texttemplate": "%{x:,d}",
         "type": "bar",
         "width": 1,
         "x": [
          12
         ],
         "xaxis": "x19",
         "y": [
          "Z-DNA"
         ],
         "yaxis": "y19"
        },
        {
         "marker": {
          "color": "#FE9B54"
         },
         "name": "G4",
         "orientation": "h",
         "showlegend": false,
         "textposition": "outside",
         "texttemplate": "%{x:,d}",
         "type": "bar",
         "width": 1,
         "x": [
          20
         ],
         "xaxis": "x19",
         "y": [
          "G4"
         ],
         "yaxis": "y19"
        },
        {
         "marker": {
          "color": "darkorchid"
         },
         "name": "H-DNA",
         "orientation": "h",
         "showlegend": false,
         "textposition": "outside",
         "texttemplate": "%{x:,d}",
         "type": "bar",
         "width": 1,
         "x": [
          3
         ],
         "xaxis": "x20",
         "y": [
          "H-DNA"
         ],
         "yaxis": "y20"
        },
        {
         "marker": {
          "color": "#ED4241"
         },
         "name": "SIDD",
         "orientation": "h",
         "showlegend": false,
         "textposition": "outside",
         "texttemplate": "%{x:,d}",
         "type": "bar",
         "width": 1,
         "x": [
          11
         ],
         "xaxis": "x20",
         "y": [
          "SIDD"
         ],
         "yaxis": "y20"
        },
        {
         "marker": {
          "color": "royalblue"
         },
         "name": "Z-DNA",
         "orientation": "h",
         "showlegend": false,
         "textposition": "outside",
         "texttemplate": "%{x:,d}",
         "type": "bar",
         "width": 1,
         "x": [
          3
         ],
         "xaxis": "x20",
         "y": [
          "Z-DNA"
         ],
         "yaxis": "y20"
        },
        {
         "marker": {
          "color": "#FE9B54"
         },
         "name": "G4",
         "orientation": "h",
         "showlegend": false,
         "textposition": "outside",
         "texttemplate": "%{x:,d}",
         "type": "bar",
         "width": 1,
         "x": [
          7
         ],
         "xaxis": "x20",
         "y": [
          "G4"
         ],
         "yaxis": "y20"
        },
        {
         "marker": {
          "color": "darkorchid"
         },
         "name": "H-DNA",
         "orientation": "h",
         "showlegend": false,
         "textposition": "outside",
         "texttemplate": "%{x:,d}",
         "type": "bar",
         "width": 1,
         "x": [
          6
         ],
         "xaxis": "x21",
         "y": [
          "H-DNA"
         ],
         "yaxis": "y21"
        },
        {
         "marker": {
          "color": "#ED4241"
         },
         "name": "SIDD",
         "orientation": "h",
         "showlegend": false,
         "textposition": "outside",
         "texttemplate": "%{x:,d}",
         "type": "bar",
         "width": 1,
         "x": [
          19
         ],
         "xaxis": "x21",
         "y": [
          "SIDD"
         ],
         "yaxis": "y21"
        },
        {
         "marker": {
          "color": "royalblue"
         },
         "name": "Z-DNA",
         "orientation": "h",
         "showlegend": false,
         "textposition": "outside",
         "texttemplate": "%{x:,d}",
         "type": "bar",
         "width": 1,
         "x": [
          2
         ],
         "xaxis": "x21",
         "y": [
          "Z-DNA"
         ],
         "yaxis": "y21"
        },
        {
         "marker": {
          "color": "#FE9B54"
         },
         "name": "G4",
         "orientation": "h",
         "showlegend": false,
         "textposition": "outside",
         "texttemplate": "%{x:,d}",
         "type": "bar",
         "width": 1,
         "x": [
          5
         ],
         "xaxis": "x21",
         "y": [
          "G4"
         ],
         "yaxis": "y21"
        },
        {
         "marker": {
          "color": "#ED4241"
         },
         "name": "SIDD",
         "orientation": "h",
         "showlegend": false,
         "textposition": "outside",
         "texttemplate": "%{x:,d}",
         "type": "bar",
         "width": 1,
         "x": [
          1
         ],
         "xaxis": "x23",
         "y": [
          "SIDD"
         ],
         "yaxis": "y23"
        },
        {
         "marker": {
          "color": "#FE9B54"
         },
         "name": "G4",
         "orientation": "h",
         "showlegend": false,
         "textposition": "outside",
         "texttemplate": "%{x:,d}",
         "type": "bar",
         "width": 1,
         "x": [
          2
         ],
         "xaxis": "x24",
         "y": [
          "G4"
         ],
         "yaxis": "y24"
        },
        {
         "marker": {
          "color": "darkorchid"
         },
         "name": "H-DNA",
         "orientation": "h",
         "showlegend": false,
         "textposition": "outside",
         "texttemplate": "%{x:,d}",
         "type": "bar",
         "width": 1,
         "x": [
          17
         ],
         "xaxis": "x25",
         "y": [
          "H-DNA"
         ],
         "yaxis": "y25"
        },
        {
         "marker": {
          "color": "#ED4241"
         },
         "name": "SIDD",
         "orientation": "h",
         "showlegend": false,
         "textposition": "outside",
         "texttemplate": "%{x:,d}",
         "type": "bar",
         "width": 1,
         "x": [
          80
         ],
         "xaxis": "x25",
         "y": [
          "SIDD"
         ],
         "yaxis": "y25"
        },
        {
         "marker": {
          "color": "royalblue"
         },
         "name": "Z-DNA",
         "orientation": "h",
         "showlegend": false,
         "textposition": "outside",
         "texttemplate": "%{x:,d}",
         "type": "bar",
         "width": 1,
         "x": [
          28
         ],
         "xaxis": "x25",
         "y": [
          "Z-DNA"
         ],
         "yaxis": "y25"
        },
        {
         "marker": {
          "color": "#FE9B54"
         },
         "name": "G4",
         "orientation": "h",
         "showlegend": false,
         "textposition": "outside",
         "texttemplate": "%{x:,d}",
         "type": "bar",
         "width": 1,
         "x": [
          16
         ],
         "xaxis": "x25",
         "y": [
          "G4"
         ],
         "yaxis": "y25"
        },
        {
         "marker": {
          "color": "#FE9B54"
         },
         "name": "G4",
         "orientation": "h",
         "showlegend": false,
         "textposition": "outside",
         "texttemplate": "%{x:,d}",
         "type": "bar",
         "width": 1,
         "x": [
          1
         ],
         "xaxis": "x26",
         "y": [
          "G4"
         ],
         "yaxis": "y26"
        },
        {
         "marker": {
          "color": "darkorchid"
         },
         "name": "H-DNA",
         "orientation": "h",
         "showlegend": false,
         "textposition": "outside",
         "texttemplate": "%{x:,d}",
         "type": "bar",
         "width": 1,
         "x": [
          26
         ],
         "xaxis": "x27",
         "y": [
          "H-DNA"
         ],
         "yaxis": "y27"
        },
        {
         "marker": {
          "color": "#ED4241"
         },
         "name": "SIDD",
         "orientation": "h",
         "showlegend": false,
         "textposition": "outside",
         "texttemplate": "%{x:,d}",
         "type": "bar",
         "width": 1,
         "x": [
          80
         ],
         "xaxis": "x27",
         "y": [
          "SIDD"
         ],
         "yaxis": "y27"
        },
        {
         "marker": {
          "color": "royalblue"
         },
         "name": "Z-DNA",
         "orientation": "h",
         "showlegend": false,
         "textposition": "outside",
         "texttemplate": "%{x:,d}",
         "type": "bar",
         "width": 1,
         "x": [
          39
         ],
         "xaxis": "x27",
         "y": [
          "Z-DNA"
         ],
         "yaxis": "y27"
        },
        {
         "marker": {
          "color": "#FE9B54"
         },
         "name": "G4",
         "orientation": "h",
         "showlegend": false,
         "textposition": "outside",
         "texttemplate": "%{x:,d}",
         "type": "bar",
         "width": 1,
         "x": [
          33
         ],
         "xaxis": "x27",
         "y": [
          "G4"
         ],
         "yaxis": "y27"
        },
        {
         "marker": {
          "color": "royalblue"
         },
         "name": "Z-DNA",
         "orientation": "h",
         "showlegend": false,
         "textposition": "outside",
         "texttemplate": "%{x:,d}",
         "type": "bar",
         "width": 1,
         "x": [
          1
         ],
         "xaxis": "x28",
         "y": [
          "Z-DNA"
         ],
         "yaxis": "y28"
        },
        {
         "marker": {
          "color": "#FE9B54"
         },
         "name": "G4",
         "orientation": "h",
         "showlegend": false,
         "textposition": "outside",
         "texttemplate": "%{x:,d}",
         "type": "bar",
         "width": 1,
         "x": [
          1
         ],
         "xaxis": "x28",
         "y": [
          "G4"
         ],
         "yaxis": "y28"
        },
        {
         "marker": {
          "color": "#ED4241"
         },
         "name": "SIDD",
         "orientation": "h",
         "showlegend": false,
         "textposition": "outside",
         "texttemplate": "%{x:,d}",
         "type": "bar",
         "width": 1,
         "x": [
          2
         ],
         "xaxis": "x29",
         "y": [
          "SIDD"
         ],
         "yaxis": "y29"
        },
        {
         "marker": {
          "color": "#FE9B54"
         },
         "name": "G4",
         "orientation": "h",
         "showlegend": false,
         "textposition": "outside",
         "texttemplate": "%{x:,d}",
         "type": "bar",
         "width": 1,
         "x": [
          1
         ],
         "xaxis": "x29",
         "y": [
          "G4"
         ],
         "yaxis": "y29"
        },
        {
         "marker": {
          "color": "#ED4241"
         },
         "name": "SIDD",
         "orientation": "h",
         "showlegend": false,
         "textposition": "outside",
         "texttemplate": "%{x:,d}",
         "type": "bar",
         "width": 1,
         "x": [
          3
         ],
         "xaxis": "x30",
         "y": [
          "SIDD"
         ],
         "yaxis": "y30"
        },
        {
         "marker": {
          "color": "royalblue"
         },
         "name": "Z-DNA",
         "orientation": "h",
         "showlegend": false,
         "textposition": "outside",
         "texttemplate": "%{x:,d}",
         "type": "bar",
         "width": 1,
         "x": [
          2
         ],
         "xaxis": "x30",
         "y": [
          "Z-DNA"
         ],
         "yaxis": "y30"
        },
        {
         "marker": {
          "color": "#ED4241"
         },
         "name": "SIDD",
         "orientation": "h",
         "showlegend": false,
         "textposition": "outside",
         "texttemplate": "%{x:,d}",
         "type": "bar",
         "width": 1,
         "x": [
          2
         ],
         "xaxis": "x32",
         "y": [
          "SIDD"
         ],
         "yaxis": "y32"
        },
        {
         "marker": {
          "color": "darkorchid"
         },
         "name": "H-DNA",
         "orientation": "h",
         "showlegend": false,
         "textposition": "outside",
         "texttemplate": "%{x:,d}",
         "type": "bar",
         "width": 1,
         "x": [
          2
         ],
         "xaxis": "x34",
         "y": [
          "H-DNA"
         ],
         "yaxis": "y34"
        },
        {
         "marker": {
          "color": "#ED4241"
         },
         "name": "SIDD",
         "orientation": "h",
         "showlegend": false,
         "textposition": "outside",
         "texttemplate": "%{x:,d}",
         "type": "bar",
         "width": 1,
         "x": [
          7
         ],
         "xaxis": "x34",
         "y": [
          "SIDD"
         ],
         "yaxis": "y34"
        },
        {
         "marker": {
          "color": "royalblue"
         },
         "name": "Z-DNA",
         "orientation": "h",
         "showlegend": false,
         "textposition": "outside",
         "texttemplate": "%{x:,d}",
         "type": "bar",
         "width": 1,
         "x": [
          6
         ],
         "xaxis": "x34",
         "y": [
          "Z-DNA"
         ],
         "yaxis": "y34"
        },
        {
         "marker": {
          "color": "#FE9B54"
         },
         "name": "G4",
         "orientation": "h",
         "showlegend": false,
         "textposition": "outside",
         "texttemplate": "%{x:,d}",
         "type": "bar",
         "width": 1,
         "x": [
          5
         ],
         "xaxis": "x34",
         "y": [
          "G4"
         ],
         "yaxis": "y34"
        },
        {
         "marker": {
          "color": "darkorchid"
         },
         "name": "H-DNA",
         "orientation": "h",
         "showlegend": false,
         "textposition": "outside",
         "texttemplate": "%{x:,d}",
         "type": "bar",
         "width": 1,
         "x": [
          7
         ],
         "xaxis": "x36",
         "y": [
          "H-DNA"
         ],
         "yaxis": "y36"
        },
        {
         "marker": {
          "color": "#ED4241"
         },
         "name": "SIDD",
         "orientation": "h",
         "showlegend": false,
         "textposition": "outside",
         "texttemplate": "%{x:,d}",
         "type": "bar",
         "width": 1,
         "x": [
          2
         ],
         "xaxis": "x36",
         "y": [
          "SIDD"
         ],
         "yaxis": "y36"
        },
        {
         "marker": {
          "color": "royalblue"
         },
         "name": "Z-DNA",
         "orientation": "h",
         "showlegend": false,
         "textposition": "outside",
         "texttemplate": "%{x:,d}",
         "type": "bar",
         "width": 1,
         "x": [
          7
         ],
         "xaxis": "x36",
         "y": [
          "Z-DNA"
         ],
         "yaxis": "y36"
        },
        {
         "marker": {
          "color": "#FE9B54"
         },
         "name": "G4",
         "orientation": "h",
         "showlegend": false,
         "textposition": "outside",
         "texttemplate": "%{x:,d}",
         "type": "bar",
         "width": 1,
         "x": [
          1
         ],
         "xaxis": "x36",
         "y": [
          "G4"
         ],
         "yaxis": "y36"
        },
        {
         "marker": {
          "color": "darkorchid"
         },
         "name": "H-DNA",
         "orientation": "h",
         "showlegend": false,
         "textposition": "outside",
         "texttemplate": "%{x:,d}",
         "type": "bar",
         "width": 1,
         "x": [
          80
         ],
         "xaxis": "x37",
         "y": [
          "H-DNA"
         ],
         "yaxis": "y37"
        },
        {
         "marker": {
          "color": "#ED4241"
         },
         "name": "SIDD",
         "orientation": "h",
         "showlegend": false,
         "textposition": "outside",
         "texttemplate": "%{x:,d}",
         "type": "bar",
         "width": 1,
         "x": [
          162
         ],
         "xaxis": "x37",
         "y": [
          "SIDD"
         ],
         "yaxis": "y37"
        },
        {
         "marker": {
          "color": "royalblue"
         },
         "name": "Z-DNA",
         "orientation": "h",
         "showlegend": false,
         "textposition": "outside",
         "texttemplate": "%{x:,d}",
         "type": "bar",
         "width": 1,
         "x": [
          698
         ],
         "xaxis": "x37",
         "y": [
          "Z-DNA"
         ],
         "yaxis": "y37"
        },
        {
         "marker": {
          "color": "#FE9B54"
         },
         "name": "G4",
         "orientation": "h",
         "showlegend": false,
         "textposition": "outside",
         "texttemplate": "%{x:,d}",
         "type": "bar",
         "width": 1,
         "x": [
          1227
         ],
         "xaxis": "x37",
         "y": [
          "G4"
         ],
         "yaxis": "y37"
        },
        {
         "marker": {
          "color": "darkorchid"
         },
         "name": "H-DNA",
         "orientation": "h",
         "showlegend": false,
         "textposition": "outside",
         "texttemplate": "%{x:,d}",
         "type": "bar",
         "width": 1,
         "x": [
          8
         ],
         "xaxis": "x38",
         "y": [
          "H-DNA"
         ],
         "yaxis": "y38"
        },
        {
         "marker": {
          "color": "#ED4241"
         },
         "name": "SIDD",
         "orientation": "h",
         "showlegend": false,
         "textposition": "outside",
         "texttemplate": "%{x:,d}",
         "type": "bar",
         "width": 1,
         "x": [
          30
         ],
         "xaxis": "x38",
         "y": [
          "SIDD"
         ],
         "yaxis": "y38"
        },
        {
         "marker": {
          "color": "royalblue"
         },
         "name": "Z-DNA",
         "orientation": "h",
         "showlegend": false,
         "textposition": "outside",
         "texttemplate": "%{x:,d}",
         "type": "bar",
         "width": 1,
         "x": [
          58
         ],
         "xaxis": "x38",
         "y": [
          "Z-DNA"
         ],
         "yaxis": "y38"
        },
        {
         "marker": {
          "color": "#FE9B54"
         },
         "name": "G4",
         "orientation": "h",
         "showlegend": false,
         "textposition": "outside",
         "texttemplate": "%{x:,d}",
         "type": "bar",
         "width": 1,
         "x": [
          87
         ],
         "xaxis": "x38",
         "y": [
          "G4"
         ],
         "yaxis": "y38"
        },
        {
         "marker": {
          "color": "darkorchid"
         },
         "name": "H-DNA",
         "orientation": "h",
         "showlegend": false,
         "textposition": "outside",
         "texttemplate": "%{x:,d}",
         "type": "bar",
         "width": 1,
         "x": [
          4
         ],
         "xaxis": "x39",
         "y": [
          "H-DNA"
         ],
         "yaxis": "y39"
        },
        {
         "marker": {
          "color": "#ED4241"
         },
         "name": "SIDD",
         "orientation": "h",
         "showlegend": false,
         "textposition": "outside",
         "texttemplate": "%{x:,d}",
         "type": "bar",
         "width": 1,
         "x": [
          14
         ],
         "xaxis": "x39",
         "y": [
          "SIDD"
         ],
         "yaxis": "y39"
        },
        {
         "marker": {
          "color": "royalblue"
         },
         "name": "Z-DNA",
         "orientation": "h",
         "showlegend": false,
         "textposition": "outside",
         "texttemplate": "%{x:,d}",
         "type": "bar",
         "width": 1,
         "x": [
          20
         ],
         "xaxis": "x39",
         "y": [
          "Z-DNA"
         ],
         "yaxis": "y39"
        },
        {
         "marker": {
          "color": "#FE9B54"
         },
         "name": "G4",
         "orientation": "h",
         "showlegend": false,
         "textposition": "outside",
         "texttemplate": "%{x:,d}",
         "type": "bar",
         "width": 1,
         "x": [
          35
         ],
         "xaxis": "x39",
         "y": [
          "G4"
         ],
         "yaxis": "y39"
        },
        {
         "marker": {
          "color": "#FE9B54"
         },
         "name": "G4",
         "orientation": "h",
         "showlegend": false,
         "textposition": "outside",
         "texttemplate": "%{x:,d}",
         "type": "bar",
         "width": 1,
         "x": [
          1
         ],
         "xaxis": "x40",
         "y": [
          "G4"
         ],
         "yaxis": "y40"
        },
        {
         "marker": {
          "color": "#ED4241"
         },
         "name": "SIDD",
         "orientation": "h",
         "showlegend": false,
         "textposition": "outside",
         "texttemplate": "%{x:,d}",
         "type": "bar",
         "width": 1,
         "x": [
          8
         ],
         "xaxis": "x41",
         "y": [
          "SIDD"
         ],
         "yaxis": "y41"
        },
        {
         "marker": {
          "color": "royalblue"
         },
         "name": "Z-DNA",
         "orientation": "h",
         "showlegend": false,
         "textposition": "outside",
         "texttemplate": "%{x:,d}",
         "type": "bar",
         "width": 1,
         "x": [
          7
         ],
         "xaxis": "x41",
         "y": [
          "Z-DNA"
         ],
         "yaxis": "y41"
        },
        {
         "marker": {
          "color": "#FE9B54"
         },
         "name": "G4",
         "orientation": "h",
         "showlegend": false,
         "textposition": "outside",
         "texttemplate": "%{x:,d}",
         "type": "bar",
         "width": 1,
         "x": [
          14
         ],
         "xaxis": "x41",
         "y": [
          "G4"
         ],
         "yaxis": "y41"
        },
        {
         "marker": {
          "color": "#ED4241"
         },
         "name": "SIDD",
         "orientation": "h",
         "showlegend": false,
         "textposition": "outside",
         "texttemplate": "%{x:,d}",
         "type": "bar",
         "width": 1,
         "x": [
          2
         ],
         "xaxis": "x42",
         "y": [
          "SIDD"
         ],
         "yaxis": "y42"
        },
        {
         "marker": {
          "color": "royalblue"
         },
         "name": "Z-DNA",
         "orientation": "h",
         "showlegend": false,
         "textposition": "outside",
         "texttemplate": "%{x:,d}",
         "type": "bar",
         "width": 1,
         "x": [
          24
         ],
         "xaxis": "x42",
         "y": [
          "Z-DNA"
         ],
         "yaxis": "y42"
        },
        {
         "marker": {
          "color": "#FE9B54"
         },
         "name": "G4",
         "orientation": "h",
         "showlegend": false,
         "textposition": "outside",
         "texttemplate": "%{x:,d}",
         "type": "bar",
         "width": 1,
         "x": [
          10
         ],
         "xaxis": "x42",
         "y": [
          "G4"
         ],
         "yaxis": "y42"
        },
        {
         "marker": {
          "color": "darkorchid"
         },
         "name": "H-DNA",
         "orientation": "h",
         "showlegend": false,
         "textposition": "outside",
         "texttemplate": "%{x:,d}",
         "type": "bar",
         "width": 1,
         "x": [
          17
         ],
         "xaxis": "x43",
         "y": [
          "H-DNA"
         ],
         "yaxis": "y43"
        },
        {
         "marker": {
          "color": "#ED4241"
         },
         "name": "SIDD",
         "orientation": "h",
         "showlegend": false,
         "textposition": "outside",
         "texttemplate": "%{x:,d}",
         "type": "bar",
         "width": 1,
         "x": [
          26
         ],
         "xaxis": "x43",
         "y": [
          "SIDD"
         ],
         "yaxis": "y43"
        },
        {
         "marker": {
          "color": "royalblue"
         },
         "name": "Z-DNA",
         "orientation": "h",
         "showlegend": false,
         "textposition": "outside",
         "texttemplate": "%{x:,d}",
         "type": "bar",
         "width": 1,
         "x": [
          27
         ],
         "xaxis": "x43",
         "y": [
          "Z-DNA"
         ],
         "yaxis": "y43"
        },
        {
         "marker": {
          "color": "#FE9B54"
         },
         "name": "G4",
         "orientation": "h",
         "showlegend": false,
         "textposition": "outside",
         "texttemplate": "%{x:,d}",
         "type": "bar",
         "width": 1,
         "x": [
          61
         ],
         "xaxis": "x43",
         "y": [
          "G4"
         ],
         "yaxis": "y43"
        },
        {
         "marker": {
          "color": "#ED4241"
         },
         "name": "SIDD",
         "orientation": "h",
         "showlegend": false,
         "textposition": "outside",
         "texttemplate": "%{x:,d}",
         "type": "bar",
         "width": 1,
         "x": [
          1
         ],
         "xaxis": "x44",
         "y": [
          "SIDD"
         ],
         "yaxis": "y44"
        },
        {
         "marker": {
          "color": "#FE9B54"
         },
         "name": "G4",
         "orientation": "h",
         "showlegend": false,
         "textposition": "outside",
         "texttemplate": "%{x:,d}",
         "type": "bar",
         "width": 1,
         "x": [
          1
         ],
         "xaxis": "x44",
         "y": [
          "G4"
         ],
         "yaxis": "y44"
        },
        {
         "marker": {
          "color": "darkorchid"
         },
         "name": "H-DNA",
         "orientation": "h",
         "showlegend": false,
         "textposition": "outside",
         "texttemplate": "%{x:,d}",
         "type": "bar",
         "width": 1,
         "x": [
          9
         ],
         "xaxis": "x45",
         "y": [
          "H-DNA"
         ],
         "yaxis": "y45"
        },
        {
         "marker": {
          "color": "#ED4241"
         },
         "name": "SIDD",
         "orientation": "h",
         "showlegend": false,
         "textposition": "outside",
         "texttemplate": "%{x:,d}",
         "type": "bar",
         "width": 1,
         "x": [
          21
         ],
         "xaxis": "x45",
         "y": [
          "SIDD"
         ],
         "yaxis": "y45"
        },
        {
         "marker": {
          "color": "royalblue"
         },
         "name": "Z-DNA",
         "orientation": "h",
         "showlegend": false,
         "textposition": "outside",
         "texttemplate": "%{x:,d}",
         "type": "bar",
         "width": 1,
         "x": [
          36
         ],
         "xaxis": "x45",
         "y": [
          "Z-DNA"
         ],
         "yaxis": "y45"
        },
        {
         "marker": {
          "color": "#FE9B54"
         },
         "name": "G4",
         "orientation": "h",
         "showlegend": false,
         "textposition": "outside",
         "texttemplate": "%{x:,d}",
         "type": "bar",
         "width": 1,
         "x": [
          75
         ],
         "xaxis": "x45",
         "y": [
          "G4"
         ],
         "yaxis": "y45"
        },
        {
         "marker": {
          "color": "#ED4241"
         },
         "name": "SIDD",
         "orientation": "h",
         "showlegend": false,
         "textposition": "outside",
         "texttemplate": "%{x:,d}",
         "type": "bar",
         "width": 1,
         "x": [
          1
         ],
         "xaxis": "x46",
         "y": [
          "SIDD"
         ],
         "yaxis": "y46"
        },
        {
         "marker": {
          "color": "#FE9B54"
         },
         "name": "G4",
         "orientation": "h",
         "showlegend": false,
         "textposition": "outside",
         "texttemplate": "%{x:,d}",
         "type": "bar",
         "width": 1,
         "x": [
          1
         ],
         "xaxis": "x46",
         "y": [
          "G4"
         ],
         "yaxis": "y46"
        },
        {
         "marker": {
          "color": "darkorchid"
         },
         "name": "H-DNA",
         "orientation": "h",
         "showlegend": false,
         "textposition": "outside",
         "texttemplate": "%{x:,d}",
         "type": "bar",
         "width": 1,
         "x": [
          1
         ],
         "xaxis": "x47",
         "y": [
          "H-DNA"
         ],
         "yaxis": "y47"
        },
        {
         "marker": {
          "color": "#ED4241"
         },
         "name": "SIDD",
         "orientation": "h",
         "showlegend": false,
         "textposition": "outside",
         "texttemplate": "%{x:,d}",
         "type": "bar",
         "width": 1,
         "x": [
          1
         ],
         "xaxis": "x47",
         "y": [
          "SIDD"
         ],
         "yaxis": "y47"
        },
        {
         "marker": {
          "color": "royalblue"
         },
         "name": "Z-DNA",
         "orientation": "h",
         "showlegend": false,
         "textposition": "outside",
         "texttemplate": "%{x:,d}",
         "type": "bar",
         "width": 1,
         "x": [
          1
         ],
         "xaxis": "x47",
         "y": [
          "Z-DNA"
         ],
         "yaxis": "y47"
        },
        {
         "marker": {
          "color": "#FE9B54"
         },
         "name": "G4",
         "orientation": "h",
         "showlegend": false,
         "textposition": "outside",
         "texttemplate": "%{x:,d}",
         "type": "bar",
         "width": 1,
         "x": [
          1
         ],
         "xaxis": "x47",
         "y": [
          "G4"
         ],
         "yaxis": "y47"
        },
        {
         "marker": {
          "color": "darkorchid"
         },
         "name": "H-DNA",
         "orientation": "h",
         "showlegend": false,
         "textposition": "outside",
         "texttemplate": "%{x:,d}",
         "type": "bar",
         "width": 1,
         "x": [
          1
         ],
         "xaxis": "x52",
         "y": [
          "H-DNA"
         ],
         "yaxis": "y52"
        },
        {
         "marker": {
          "color": "#ED4241"
         },
         "name": "SIDD",
         "orientation": "h",
         "showlegend": false,
         "textposition": "outside",
         "texttemplate": "%{x:,d}",
         "type": "bar",
         "width": 1,
         "x": [
          13
         ],
         "xaxis": "x52",
         "y": [
          "SIDD"
         ],
         "yaxis": "y52"
        },
        {
         "marker": {
          "color": "royalblue"
         },
         "name": "Z-DNA",
         "orientation": "h",
         "showlegend": false,
         "textposition": "outside",
         "texttemplate": "%{x:,d}",
         "type": "bar",
         "width": 1,
         "x": [
          5
         ],
         "xaxis": "x52",
         "y": [
          "Z-DNA"
         ],
         "yaxis": "y52"
        },
        {
         "marker": {
          "color": "#FE9B54"
         },
         "name": "G4",
         "orientation": "h",
         "showlegend": false,
         "textposition": "outside",
         "texttemplate": "%{x:,d}",
         "type": "bar",
         "width": 1,
         "x": [
          4
         ],
         "xaxis": "x52",
         "y": [
          "G4"
         ],
         "yaxis": "y52"
        },
        {
         "marker": {
          "color": "darkorchid"
         },
         "name": "H-DNA",
         "orientation": "h",
         "showlegend": false,
         "textposition": "outside",
         "texttemplate": "%{x:,d}",
         "type": "bar",
         "width": 1,
         "x": [
          5
         ],
         "xaxis": "x54",
         "y": [
          "H-DNA"
         ],
         "yaxis": "y54"
        },
        {
         "marker": {
          "color": "#ED4241"
         },
         "name": "SIDD",
         "orientation": "h",
         "showlegend": false,
         "textposition": "outside",
         "texttemplate": "%{x:,d}",
         "type": "bar",
         "width": 1,
         "x": [
          19
         ],
         "xaxis": "x54",
         "y": [
          "SIDD"
         ],
         "yaxis": "y54"
        },
        {
         "marker": {
          "color": "royalblue"
         },
         "name": "Z-DNA",
         "orientation": "h",
         "showlegend": false,
         "textposition": "outside",
         "texttemplate": "%{x:,d}",
         "type": "bar",
         "width": 1,
         "x": [
          2
         ],
         "xaxis": "x54",
         "y": [
          "Z-DNA"
         ],
         "yaxis": "y54"
        },
        {
         "marker": {
          "color": "#FE9B54"
         },
         "name": "G4",
         "orientation": "h",
         "showlegend": false,
         "textposition": "outside",
         "texttemplate": "%{x:,d}",
         "type": "bar",
         "width": 1,
         "x": [
          5
         ],
         "xaxis": "x54",
         "y": [
          "G4"
         ],
         "yaxis": "y54"
        },
        {
         "marker": {
          "color": "darkorchid"
         },
         "name": "H-DNA",
         "orientation": "h",
         "showlegend": false,
         "textposition": "outside",
         "texttemplate": "%{x:,d}",
         "type": "bar",
         "width": 1,
         "x": [
          3
         ],
         "xaxis": "x55",
         "y": [
          "H-DNA"
         ],
         "yaxis": "y55"
        },
        {
         "marker": {
          "color": "#ED4241"
         },
         "name": "SIDD",
         "orientation": "h",
         "showlegend": false,
         "textposition": "outside",
         "texttemplate": "%{x:,d}",
         "type": "bar",
         "width": 1,
         "x": [
          10
         ],
         "xaxis": "x55",
         "y": [
          "SIDD"
         ],
         "yaxis": "y55"
        },
        {
         "marker": {
          "color": "royalblue"
         },
         "name": "Z-DNA",
         "orientation": "h",
         "showlegend": false,
         "textposition": "outside",
         "texttemplate": "%{x:,d}",
         "type": "bar",
         "width": 1,
         "x": [
          18
         ],
         "xaxis": "x55",
         "y": [
          "Z-DNA"
         ],
         "yaxis": "y55"
        },
        {
         "marker": {
          "color": "#FE9B54"
         },
         "name": "G4",
         "orientation": "h",
         "showlegend": false,
         "textposition": "outside",
         "texttemplate": "%{x:,d}",
         "type": "bar",
         "width": 1,
         "x": [
          9
         ],
         "xaxis": "x55",
         "y": [
          "G4"
         ],
         "yaxis": "y55"
        },
        {
         "marker": {
          "color": "#ED4241"
         },
         "name": "SIDD",
         "orientation": "h",
         "showlegend": false,
         "textposition": "outside",
         "texttemplate": "%{x:,d}",
         "type": "bar",
         "width": 1,
         "x": [
          1
         ],
         "xaxis": "x56",
         "y": [
          "SIDD"
         ],
         "yaxis": "y56"
        },
        {
         "marker": {
          "color": "#FE9B54"
         },
         "name": "G4",
         "orientation": "h",
         "showlegend": false,
         "textposition": "outside",
         "texttemplate": "%{x:,d}",
         "type": "bar",
         "width": 1,
         "x": [
          2
         ],
         "xaxis": "x56",
         "y": [
          "G4"
         ],
         "yaxis": "y56"
        },
        {
         "marker": {
          "color": "#ED4241"
         },
         "name": "SIDD",
         "orientation": "h",
         "showlegend": false,
         "textposition": "outside",
         "texttemplate": "%{x:,d}",
         "type": "bar",
         "width": 1,
         "x": [
          1
         ],
         "xaxis": "x57",
         "y": [
          "SIDD"
         ],
         "yaxis": "y57"
        },
        {
         "marker": {
          "color": "royalblue"
         },
         "name": "Z-DNA",
         "orientation": "h",
         "showlegend": false,
         "textposition": "outside",
         "texttemplate": "%{x:,d}",
         "type": "bar",
         "width": 1,
         "x": [
          1
         ],
         "xaxis": "x57",
         "y": [
          "Z-DNA"
         ],
         "yaxis": "y57"
        },
        {
         "marker": {
          "color": "#FE9B54"
         },
         "name": "G4",
         "orientation": "h",
         "showlegend": false,
         "textposition": "outside",
         "texttemplate": "%{x:,d}",
         "type": "bar",
         "width": 1,
         "x": [
          2
         ],
         "xaxis": "x57",
         "y": [
          "G4"
         ],
         "yaxis": "y57"
        },
        {
         "marker": {
          "color": "#ED4241"
         },
         "name": "SIDD",
         "orientation": "h",
         "showlegend": false,
         "textposition": "outside",
         "texttemplate": "%{x:,d}",
         "type": "bar",
         "width": 1,
         "x": [
          3
         ],
         "xaxis": "x59",
         "y": [
          "SIDD"
         ],
         "yaxis": "y59"
        },
        {
         "marker": {
          "color": "#ED4241"
         },
         "name": "SIDD",
         "orientation": "h",
         "showlegend": false,
         "textposition": "outside",
         "texttemplate": "%{x:,d}",
         "type": "bar",
         "width": 1,
         "x": [
          1
         ],
         "xaxis": "x60",
         "y": [
          "SIDD"
         ],
         "yaxis": "y60"
        },
        {
         "marker": {
          "color": "darkorchid"
         },
         "name": "H-DNA",
         "orientation": "h",
         "showlegend": false,
         "textposition": "outside",
         "texttemplate": "%{x:,d}",
         "type": "bar",
         "width": 1,
         "x": [
          3
         ],
         "xaxis": "x61",
         "y": [
          "H-DNA"
         ],
         "yaxis": "y61"
        },
        {
         "marker": {
          "color": "#ED4241"
         },
         "name": "SIDD",
         "orientation": "h",
         "showlegend": false,
         "textposition": "outside",
         "texttemplate": "%{x:,d}",
         "type": "bar",
         "width": 1,
         "x": [
          14
         ],
         "xaxis": "x61",
         "y": [
          "SIDD"
         ],
         "yaxis": "y61"
        },
        {
         "marker": {
          "color": "royalblue"
         },
         "name": "Z-DNA",
         "orientation": "h",
         "showlegend": false,
         "textposition": "outside",
         "texttemplate": "%{x:,d}",
         "type": "bar",
         "width": 1,
         "x": [
          4
         ],
         "xaxis": "x61",
         "y": [
          "Z-DNA"
         ],
         "yaxis": "y61"
        },
        {
         "marker": {
          "color": "#FE9B54"
         },
         "name": "G4",
         "orientation": "h",
         "showlegend": false,
         "textposition": "outside",
         "texttemplate": "%{x:,d}",
         "type": "bar",
         "width": 1,
         "x": [
          8
         ],
         "xaxis": "x61",
         "y": [
          "G4"
         ],
         "yaxis": "y61"
        },
        {
         "marker": {
          "color": "darkorchid"
         },
         "name": "H-DNA",
         "orientation": "h",
         "showlegend": false,
         "textposition": "outside",
         "texttemplate": "%{x:,d}",
         "type": "bar",
         "width": 1,
         "x": [
          4
         ],
         "xaxis": "x63",
         "y": [
          "H-DNA"
         ],
         "yaxis": "y63"
        },
        {
         "marker": {
          "color": "#ED4241"
         },
         "name": "SIDD",
         "orientation": "h",
         "showlegend": false,
         "textposition": "outside",
         "texttemplate": "%{x:,d}",
         "type": "bar",
         "width": 1,
         "x": [
          10
         ],
         "xaxis": "x63",
         "y": [
          "SIDD"
         ],
         "yaxis": "y63"
        },
        {
         "marker": {
          "color": "royalblue"
         },
         "name": "Z-DNA",
         "orientation": "h",
         "showlegend": false,
         "textposition": "outside",
         "texttemplate": "%{x:,d}",
         "type": "bar",
         "width": 1,
         "x": [
          6
         ],
         "xaxis": "x63",
         "y": [
          "Z-DNA"
         ],
         "yaxis": "y63"
        },
        {
         "marker": {
          "color": "#FE9B54"
         },
         "name": "G4",
         "orientation": "h",
         "showlegend": false,
         "textposition": "outside",
         "texttemplate": "%{x:,d}",
         "type": "bar",
         "width": 1,
         "x": [
          5
         ],
         "xaxis": "x63",
         "y": [
          "G4"
         ],
         "yaxis": "y63"
        }
       ],
       "layout": {
        "annotations": [
         {
          "align": "left",
          "font": {
           "size": 14
          },
          "showarrow": false,
          "text": "Promoter (<=1kb)",
          "textangle": 0,
          "x": 0.05266666666666667,
          "xanchor": "center",
          "xref": "paper",
          "y": 1.0000000000000002,
          "yanchor": "bottom",
          "yref": "paper"
         },
         {
          "align": "left",
          "font": {
           "size": 14
          },
          "showarrow": false,
          "text": "Promoter (1-2kb)",
          "textangle": 0,
          "x": 0.162,
          "xanchor": "center",
          "xref": "paper",
          "y": 1.0000000000000002,
          "yanchor": "bottom",
          "yref": "paper"
         },
         {
          "align": "left",
          "font": {
           "size": 14
          },
          "showarrow": false,
          "text": "Promoter (2-3kb)",
          "textangle": 0,
          "x": 0.2713333333333333,
          "xanchor": "center",
          "xref": "paper",
          "y": 1.0000000000000002,
          "yanchor": "bottom",
          "yref": "paper"
         },
         {
          "align": "left",
          "font": {
           "size": 14
          },
          "showarrow": false,
          "text": "5' UTR",
          "textangle": 0,
          "x": 0.3806666666666667,
          "xanchor": "center",
          "xref": "paper",
          "y": 1.0000000000000002,
          "yanchor": "bottom",
          "yref": "paper"
         },
         {
          "align": "left",
          "font": {
           "size": 14
          },
          "showarrow": false,
          "text": "3' UTR",
          "textangle": 0,
          "x": 0.49,
          "xanchor": "center",
          "xref": "paper",
          "y": 1.0000000000000002,
          "yanchor": "bottom",
          "yref": "paper"
         },
         {
          "align": "left",
          "font": {
           "size": 14
          },
          "showarrow": false,
          "text": "Exon",
          "textangle": 0,
          "x": 0.5993333333333333,
          "xanchor": "center",
          "xref": "paper",
          "y": 1.0000000000000002,
          "yanchor": "bottom",
          "yref": "paper"
         },
         {
          "align": "left",
          "font": {
           "size": 14
          },
          "showarrow": false,
          "text": "Intron",
          "textangle": 0,
          "x": 0.7086666666666666,
          "xanchor": "center",
          "xref": "paper",
          "y": 1.0000000000000002,
          "yanchor": "bottom",
          "yref": "paper"
         },
         {
          "align": "left",
          "font": {
           "size": 14
          },
          "showarrow": false,
          "text": "Downstream (<=300bp)",
          "textangle": 0,
          "x": 0.8179999999999998,
          "xanchor": "center",
          "xref": "paper",
          "y": 1.0000000000000002,
          "yanchor": "bottom",
          "yref": "paper"
         },
         {
          "align": "left",
          "font": {
           "size": 14
          },
          "showarrow": false,
          "text": "Distal Intergenic",
          "textangle": 0,
          "x": 0.9273333333333331,
          "xanchor": "center",
          "xref": "paper",
          "y": 1.0000000000000002,
          "yanchor": "bottom",
          "yref": "paper"
         },
         {
          "align": "left",
          "font": {
           "size": 14
          },
          "showarrow": false,
          "text": "cCRE",
          "textangle": 0,
          "x": 0.9799999999999998,
          "xanchor": "left",
          "xref": "paper",
          "y": 0.932857142857143,
          "yanchor": "middle",
          "yref": "paper"
         },
         {
          "align": "left",
          "font": {
           "size": 14
          },
          "showarrow": false,
          "text": "LINE/LTR",
          "textangle": 0,
          "x": 0.9799999999999998,
          "xanchor": "left",
          "xref": "paper",
          "y": 0.7885714285714287,
          "yanchor": "middle",
          "yref": "paper"
         },
         {
          "align": "left",
          "font": {
           "size": 14
          },
          "showarrow": false,
          "text": "cCRE &<br>LINE/LTR",
          "textangle": 0,
          "x": 0.9799999999999998,
          "xanchor": "left",
          "xref": "paper",
          "y": 0.6442857142857144,
          "yanchor": "middle",
          "yref": "paper"
         },
         {
          "align": "left",
          "font": {
           "size": 14
          },
          "showarrow": false,
          "text": "CTCF",
          "textangle": 0,
          "x": 0.9799999999999998,
          "xanchor": "left",
          "xref": "paper",
          "y": 0.5,
          "yanchor": "middle",
          "yref": "paper"
         },
         {
          "align": "left",
          "font": {
           "size": 14
          },
          "showarrow": false,
          "text": "cCRE &<br>CTCF",
          "textangle": 0,
          "x": 0.9799999999999998,
          "xanchor": "left",
          "xref": "paper",
          "y": 0.35571428571428576,
          "yanchor": "middle",
          "yref": "paper"
         },
         {
          "align": "left",
          "font": {
           "size": 14
          },
          "showarrow": false,
          "text": "LINE/LTR &<br>CTCF",
          "textangle": 0,
          "x": 0.9799999999999998,
          "xanchor": "left",
          "xref": "paper",
          "y": 0.21142857142857144,
          "yanchor": "middle",
          "yref": "paper"
         },
         {
          "align": "left",
          "font": {
           "size": 14
          },
          "showarrow": false,
          "text": "cCRE &<br>LINE/LTR &<br>CTCF",
          "textangle": 0,
          "x": 0.9799999999999998,
          "xanchor": "left",
          "xref": "paper",
          "y": 0.06714285714285714,
          "yanchor": "middle",
          "yref": "paper"
         },
         {
          "align": "left",
          "font": {
           "size": 14
          },
          "showarrow": false,
          "text": "Flipon count",
          "textangle": 0,
          "x": 0.49,
          "xanchor": "center",
          "xref": "paper",
          "y": 0,
          "yanchor": "top",
          "yref": "paper",
          "yshift": -30
         }
        ],
        "font": {
         "family": "monospace",
         "size": 12
        },
        "height": 900,
        "legend": {
         "orientation": "h",
         "traceorder": "reversed",
         "x": 0.98,
         "xanchor": "right",
         "y": -0.07,
         "yanchor": "bottom"
        },
        "margin": {
         "b": 55,
         "l": 5,
         "r": 60,
         "t": 55
        },
        "template": {
         "data": {
          "bar": [
           {
            "error_x": {
             "color": "rgb(51,51,51)"
            },
            "error_y": {
             "color": "rgb(51,51,51)"
            },
            "marker": {
             "line": {
              "color": "rgb(237,237,237)",
              "width": 0.5
             },
             "pattern": {
              "fillmode": "overlay",
              "size": 10,
              "solidity": 0.2
             }
            },
            "type": "bar"
           }
          ],
          "barpolar": [
           {
            "marker": {
             "line": {
              "color": "rgb(237,237,237)",
              "width": 0.5
             },
             "pattern": {
              "fillmode": "overlay",
              "size": 10,
              "solidity": 0.2
             }
            },
            "type": "barpolar"
           }
          ],
          "carpet": [
           {
            "aaxis": {
             "endlinecolor": "rgb(51,51,51)",
             "gridcolor": "white",
             "linecolor": "white",
             "minorgridcolor": "white",
             "startlinecolor": "rgb(51,51,51)"
            },
            "baxis": {
             "endlinecolor": "rgb(51,51,51)",
             "gridcolor": "white",
             "linecolor": "white",
             "minorgridcolor": "white",
             "startlinecolor": "rgb(51,51,51)"
            },
            "type": "carpet"
           }
          ],
          "choropleth": [
           {
            "colorbar": {
             "outlinewidth": 0,
             "tickcolor": "rgb(237,237,237)",
             "ticklen": 6,
             "ticks": "inside"
            },
            "type": "choropleth"
           }
          ],
          "contour": [
           {
            "colorbar": {
             "outlinewidth": 0,
             "tickcolor": "rgb(237,237,237)",
             "ticklen": 6,
             "ticks": "inside"
            },
            "colorscale": [
             [
              0,
              "rgb(20,44,66)"
             ],
             [
              1,
              "rgb(90,179,244)"
             ]
            ],
            "type": "contour"
           }
          ],
          "contourcarpet": [
           {
            "colorbar": {
             "outlinewidth": 0,
             "tickcolor": "rgb(237,237,237)",
             "ticklen": 6,
             "ticks": "inside"
            },
            "type": "contourcarpet"
           }
          ],
          "heatmap": [
           {
            "colorbar": {
             "outlinewidth": 0,
             "tickcolor": "rgb(237,237,237)",
             "ticklen": 6,
             "ticks": "inside"
            },
            "colorscale": [
             [
              0,
              "rgb(20,44,66)"
             ],
             [
              1,
              "rgb(90,179,244)"
             ]
            ],
            "type": "heatmap"
           }
          ],
          "heatmapgl": [
           {
            "colorbar": {
             "outlinewidth": 0,
             "tickcolor": "rgb(237,237,237)",
             "ticklen": 6,
             "ticks": "inside"
            },
            "colorscale": [
             [
              0,
              "rgb(20,44,66)"
             ],
             [
              1,
              "rgb(90,179,244)"
             ]
            ],
            "type": "heatmapgl"
           }
          ],
          "histogram": [
           {
            "marker": {
             "pattern": {
              "fillmode": "overlay",
              "size": 10,
              "solidity": 0.2
             }
            },
            "type": "histogram"
           }
          ],
          "histogram2d": [
           {
            "colorbar": {
             "outlinewidth": 0,
             "tickcolor": "rgb(237,237,237)",
             "ticklen": 6,
             "ticks": "inside"
            },
            "colorscale": [
             [
              0,
              "rgb(20,44,66)"
             ],
             [
              1,
              "rgb(90,179,244)"
             ]
            ],
            "type": "histogram2d"
           }
          ],
          "histogram2dcontour": [
           {
            "colorbar": {
             "outlinewidth": 0,
             "tickcolor": "rgb(237,237,237)",
             "ticklen": 6,
             "ticks": "inside"
            },
            "colorscale": [
             [
              0,
              "rgb(20,44,66)"
             ],
             [
              1,
              "rgb(90,179,244)"
             ]
            ],
            "type": "histogram2dcontour"
           }
          ],
          "mesh3d": [
           {
            "colorbar": {
             "outlinewidth": 0,
             "tickcolor": "rgb(237,237,237)",
             "ticklen": 6,
             "ticks": "inside"
            },
            "type": "mesh3d"
           }
          ],
          "parcoords": [
           {
            "line": {
             "colorbar": {
              "outlinewidth": 0,
              "tickcolor": "rgb(237,237,237)",
              "ticklen": 6,
              "ticks": "inside"
             }
            },
            "type": "parcoords"
           }
          ],
          "pie": [
           {
            "automargin": true,
            "type": "pie"
           }
          ],
          "scatter": [
           {
            "fillpattern": {
             "fillmode": "overlay",
             "size": 10,
             "solidity": 0.2
            },
            "type": "scatter"
           }
          ],
          "scatter3d": [
           {
            "line": {
             "colorbar": {
              "outlinewidth": 0,
              "tickcolor": "rgb(237,237,237)",
              "ticklen": 6,
              "ticks": "inside"
             }
            },
            "marker": {
             "colorbar": {
              "outlinewidth": 0,
              "tickcolor": "rgb(237,237,237)",
              "ticklen": 6,
              "ticks": "inside"
             }
            },
            "type": "scatter3d"
           }
          ],
          "scattercarpet": [
           {
            "marker": {
             "colorbar": {
              "outlinewidth": 0,
              "tickcolor": "rgb(237,237,237)",
              "ticklen": 6,
              "ticks": "inside"
             }
            },
            "type": "scattercarpet"
           }
          ],
          "scattergeo": [
           {
            "marker": {
             "colorbar": {
              "outlinewidth": 0,
              "tickcolor": "rgb(237,237,237)",
              "ticklen": 6,
              "ticks": "inside"
             }
            },
            "type": "scattergeo"
           }
          ],
          "scattergl": [
           {
            "marker": {
             "colorbar": {
              "outlinewidth": 0,
              "tickcolor": "rgb(237,237,237)",
              "ticklen": 6,
              "ticks": "inside"
             }
            },
            "type": "scattergl"
           }
          ],
          "scattermapbox": [
           {
            "marker": {
             "colorbar": {
              "outlinewidth": 0,
              "tickcolor": "rgb(237,237,237)",
              "ticklen": 6,
              "ticks": "inside"
             }
            },
            "type": "scattermapbox"
           }
          ],
          "scatterpolar": [
           {
            "marker": {
             "colorbar": {
              "outlinewidth": 0,
              "tickcolor": "rgb(237,237,237)",
              "ticklen": 6,
              "ticks": "inside"
             }
            },
            "type": "scatterpolar"
           }
          ],
          "scatterpolargl": [
           {
            "marker": {
             "colorbar": {
              "outlinewidth": 0,
              "tickcolor": "rgb(237,237,237)",
              "ticklen": 6,
              "ticks": "inside"
             }
            },
            "type": "scatterpolargl"
           }
          ],
          "scatterternary": [
           {
            "marker": {
             "colorbar": {
              "outlinewidth": 0,
              "tickcolor": "rgb(237,237,237)",
              "ticklen": 6,
              "ticks": "inside"
             }
            },
            "type": "scatterternary"
           }
          ],
          "surface": [
           {
            "colorbar": {
             "outlinewidth": 0,
             "tickcolor": "rgb(237,237,237)",
             "ticklen": 6,
             "ticks": "inside"
            },
            "colorscale": [
             [
              0,
              "rgb(20,44,66)"
             ],
             [
              1,
              "rgb(90,179,244)"
             ]
            ],
            "type": "surface"
           }
          ],
          "table": [
           {
            "cells": {
             "fill": {
              "color": "rgb(237,237,237)"
             },
             "line": {
              "color": "white"
             }
            },
            "header": {
             "fill": {
              "color": "rgb(217,217,217)"
             },
             "line": {
              "color": "white"
             }
            },
            "type": "table"
           }
          ]
         },
         "layout": {
          "annotationdefaults": {
           "arrowhead": 0,
           "arrowwidth": 1
          },
          "autotypenumbers": "strict",
          "coloraxis": {
           "colorbar": {
            "outlinewidth": 0,
            "tickcolor": "rgb(237,237,237)",
            "ticklen": 6,
            "ticks": "inside"
           }
          },
          "colorscale": {
           "sequential": [
            [
             0,
             "rgb(20,44,66)"
            ],
            [
             1,
             "rgb(90,179,244)"
            ]
           ],
           "sequentialminus": [
            [
             0,
             "rgb(20,44,66)"
            ],
            [
             1,
             "rgb(90,179,244)"
            ]
           ]
          },
          "colorway": [
           "#F8766D",
           "#A3A500",
           "#00BF7D",
           "#00B0F6",
           "#E76BF3"
          ],
          "font": {
           "color": "rgb(51,51,51)"
          },
          "geo": {
           "bgcolor": "white",
           "lakecolor": "white",
           "landcolor": "rgb(237,237,237)",
           "showlakes": true,
           "showland": true,
           "subunitcolor": "white"
          },
          "hoverlabel": {
           "align": "left"
          },
          "hovermode": "closest",
          "paper_bgcolor": "white",
          "plot_bgcolor": "rgb(237,237,237)",
          "polar": {
           "angularaxis": {
            "gridcolor": "white",
            "linecolor": "white",
            "showgrid": true,
            "tickcolor": "rgb(51,51,51)",
            "ticks": "outside"
           },
           "bgcolor": "rgb(237,237,237)",
           "radialaxis": {
            "gridcolor": "white",
            "linecolor": "white",
            "showgrid": true,
            "tickcolor": "rgb(51,51,51)",
            "ticks": "outside"
           }
          },
          "scene": {
           "xaxis": {
            "backgroundcolor": "rgb(237,237,237)",
            "gridcolor": "white",
            "gridwidth": 2,
            "linecolor": "white",
            "showbackground": true,
            "showgrid": true,
            "tickcolor": "rgb(51,51,51)",
            "ticks": "outside",
            "zerolinecolor": "white"
           },
           "yaxis": {
            "backgroundcolor": "rgb(237,237,237)",
            "gridcolor": "white",
            "gridwidth": 2,
            "linecolor": "white",
            "showbackground": true,
            "showgrid": true,
            "tickcolor": "rgb(51,51,51)",
            "ticks": "outside",
            "zerolinecolor": "white"
           },
           "zaxis": {
            "backgroundcolor": "rgb(237,237,237)",
            "gridcolor": "white",
            "gridwidth": 2,
            "linecolor": "white",
            "showbackground": true,
            "showgrid": true,
            "tickcolor": "rgb(51,51,51)",
            "ticks": "outside",
            "zerolinecolor": "white"
           }
          },
          "shapedefaults": {
           "fillcolor": "black",
           "line": {
            "width": 0
           },
           "opacity": 0.3
          },
          "ternary": {
           "aaxis": {
            "gridcolor": "white",
            "linecolor": "white",
            "showgrid": true,
            "tickcolor": "rgb(51,51,51)",
            "ticks": "outside"
           },
           "baxis": {
            "gridcolor": "white",
            "linecolor": "white",
            "showgrid": true,
            "tickcolor": "rgb(51,51,51)",
            "ticks": "outside"
           },
           "bgcolor": "rgb(237,237,237)",
           "caxis": {
            "gridcolor": "white",
            "linecolor": "white",
            "showgrid": true,
            "tickcolor": "rgb(51,51,51)",
            "ticks": "outside"
           }
          },
          "xaxis": {
           "automargin": true,
           "gridcolor": "white",
           "linecolor": "white",
           "showgrid": true,
           "tickcolor": "rgb(51,51,51)",
           "ticks": "outside",
           "title": {
            "standoff": 15
           },
           "zerolinecolor": "white"
          },
          "yaxis": {
           "automargin": true,
           "gridcolor": "white",
           "linecolor": "white",
           "showgrid": true,
           "tickcolor": "rgb(51,51,51)",
           "ticks": "outside",
           "title": {
            "standoff": 15
           },
           "zerolinecolor": "white"
          }
         }
        },
        "title": {
         "text": "Flipons (26,785)",
         "x": 0.005,
         "y": 0.99
        },
        "uniformtext": {
         "minsize": 12
        },
        "width": 1600,
        "xaxis": {
         "anchor": "y",
         "domain": [
          0,
          0.10533333333333333
         ],
         "matches": "x55",
         "showgrid": false,
         "showticklabels": false,
         "tickformat": "s",
         "ticks": ""
        },
        "xaxis10": {
         "anchor": "y10",
         "domain": [
          0,
          0.10533333333333333
         ],
         "matches": "x55",
         "showgrid": false,
         "showticklabels": false,
         "tickformat": "s",
         "ticks": ""
        },
        "xaxis11": {
         "anchor": "y11",
         "domain": [
          0.10933333333333334,
          0.21466666666666667
         ],
         "matches": "x55",
         "showgrid": false,
         "showticklabels": false,
         "tickformat": "s",
         "ticks": ""
        },
        "xaxis12": {
         "anchor": "y12",
         "domain": [
          0.21866666666666668,
          0.324
         ],
         "matches": "x55",
         "showgrid": false,
         "showticklabels": false,
         "tickformat": "s",
         "ticks": ""
        },
        "xaxis13": {
         "anchor": "y13",
         "domain": [
          0.328,
          0.43333333333333335
         ],
         "matches": "x55",
         "showgrid": false,
         "showticklabels": false,
         "tickformat": "s"
        },
        "xaxis14": {
         "anchor": "y14",
         "domain": [
          0.43733333333333335,
          0.5426666666666666
         ],
         "matches": "x55",
         "showgrid": false,
         "showticklabels": false,
         "tickformat": "s",
         "ticks": ""
        },
        "xaxis15": {
         "anchor": "y15",
         "domain": [
          0.5466666666666666,
          0.6519999999999999
         ],
         "matches": "x55",
         "showgrid": false,
         "showticklabels": false,
         "tickformat": "s",
         "ticks": ""
        },
        "xaxis16": {
         "anchor": "y16",
         "domain": [
          0.6559999999999999,
          0.7613333333333332
         ],
         "matches": "x55",
         "showgrid": false,
         "showticklabels": false,
         "tickformat": "s",
         "ticks": ""
        },
        "xaxis17": {
         "anchor": "y17",
         "domain": [
          0.7653333333333332,
          0.8706666666666665
         ],
         "matches": "x55",
         "showgrid": false,
         "showticklabels": false,
         "tickformat": "s",
         "ticks": ""
        },
        "xaxis18": {
         "anchor": "y18",
         "domain": [
          0.8746666666666665,
          0.9799999999999998
         ],
         "matches": "x55",
         "showgrid": false,
         "showticklabels": false,
         "tickformat": "s",
         "ticks": ""
        },
        "xaxis19": {
         "anchor": "y19",
         "domain": [
          0,
          0.10533333333333333
         ],
         "matches": "x55",
         "showgrid": false,
         "showticklabels": false,
         "tickformat": "s",
         "ticks": ""
        },
        "xaxis2": {
         "anchor": "y2",
         "domain": [
          0.10933333333333334,
          0.21466666666666667
         ],
         "matches": "x55",
         "showgrid": false,
         "showticklabels": false,
         "tickformat": "s",
         "ticks": ""
        },
        "xaxis20": {
         "anchor": "y20",
         "domain": [
          0.10933333333333334,
          0.21466666666666667
         ],
         "matches": "x55",
         "showgrid": false,
         "showticklabels": false,
         "tickformat": "s",
         "ticks": ""
        },
        "xaxis21": {
         "anchor": "y21",
         "domain": [
          0.21866666666666668,
          0.324
         ],
         "matches": "x55",
         "showgrid": false,
         "showticklabels": false,
         "tickformat": "s",
         "ticks": ""
        },
        "xaxis22": {
         "anchor": "y22",
         "domain": [
          0.328,
          0.43333333333333335
         ],
         "matches": "x55",
         "showgrid": false,
         "showticklabels": false,
         "tickformat": "s"
        },
        "xaxis23": {
         "anchor": "y23",
         "domain": [
          0.43733333333333335,
          0.5426666666666666
         ],
         "matches": "x55",
         "showgrid": false,
         "showticklabels": false,
         "tickformat": "s",
         "ticks": ""
        },
        "xaxis24": {
         "anchor": "y24",
         "domain": [
          0.5466666666666666,
          0.6519999999999999
         ],
         "matches": "x55",
         "showgrid": false,
         "showticklabels": false,
         "tickformat": "s",
         "ticks": ""
        },
        "xaxis25": {
         "anchor": "y25",
         "domain": [
          0.6559999999999999,
          0.7613333333333332
         ],
         "matches": "x55",
         "showgrid": false,
         "showticklabels": false,
         "tickformat": "s",
         "ticks": ""
        },
        "xaxis26": {
         "anchor": "y26",
         "domain": [
          0.7653333333333332,
          0.8706666666666665
         ],
         "matches": "x55",
         "showgrid": false,
         "showticklabels": false,
         "tickformat": "s",
         "ticks": ""
        },
        "xaxis27": {
         "anchor": "y27",
         "domain": [
          0.8746666666666665,
          0.9799999999999998
         ],
         "matches": "x55",
         "showgrid": false,
         "showticklabels": false,
         "tickformat": "s",
         "ticks": ""
        },
        "xaxis28": {
         "anchor": "y28",
         "domain": [
          0,
          0.10533333333333333
         ],
         "matches": "x55",
         "showgrid": false,
         "showticklabels": false,
         "tickformat": "s",
         "ticks": ""
        },
        "xaxis29": {
         "anchor": "y29",
         "domain": [
          0.10933333333333334,
          0.21466666666666667
         ],
         "matches": "x55",
         "showgrid": false,
         "showticklabels": false,
         "tickformat": "s",
         "ticks": ""
        },
        "xaxis3": {
         "anchor": "y3",
         "domain": [
          0.21866666666666668,
          0.324
         ],
         "matches": "x55",
         "showgrid": false,
         "showticklabels": false,
         "tickformat": "s",
         "ticks": ""
        },
        "xaxis30": {
         "anchor": "y30",
         "domain": [
          0.21866666666666668,
          0.324
         ],
         "matches": "x55",
         "showgrid": false,
         "showticklabels": false,
         "tickformat": "s",
         "ticks": ""
        },
        "xaxis31": {
         "anchor": "y31",
         "domain": [
          0.328,
          0.43333333333333335
         ],
         "matches": "x55",
         "showgrid": false,
         "showticklabels": false,
         "tickformat": "s"
        },
        "xaxis32": {
         "anchor": "y32",
         "domain": [
          0.43733333333333335,
          0.5426666666666666
         ],
         "matches": "x55",
         "showgrid": false,
         "showticklabels": false,
         "tickformat": "s",
         "ticks": ""
        },
        "xaxis33": {
         "anchor": "y33",
         "domain": [
          0.5466666666666666,
          0.6519999999999999
         ],
         "matches": "x55",
         "showgrid": false,
         "showticklabels": false,
         "tickformat": "s"
        },
        "xaxis34": {
         "anchor": "y34",
         "domain": [
          0.6559999999999999,
          0.7613333333333332
         ],
         "matches": "x55",
         "showgrid": false,
         "showticklabels": false,
         "tickformat": "s",
         "ticks": ""
        },
        "xaxis35": {
         "anchor": "y35",
         "domain": [
          0.7653333333333332,
          0.8706666666666665
         ],
         "matches": "x55",
         "showgrid": false,
         "showticklabels": false,
         "tickformat": "s"
        },
        "xaxis36": {
         "anchor": "y36",
         "domain": [
          0.8746666666666665,
          0.9799999999999998
         ],
         "matches": "x55",
         "showgrid": false,
         "showticklabels": false,
         "tickformat": "s",
         "ticks": ""
        },
        "xaxis37": {
         "anchor": "y37",
         "domain": [
          0,
          0.10533333333333333
         ],
         "matches": "x55",
         "showgrid": false,
         "showticklabels": false,
         "tickformat": "s",
         "ticks": ""
        },
        "xaxis38": {
         "anchor": "y38",
         "domain": [
          0.10933333333333334,
          0.21466666666666667
         ],
         "matches": "x55",
         "showgrid": false,
         "showticklabels": false,
         "tickformat": "s",
         "ticks": ""
        },
        "xaxis39": {
         "anchor": "y39",
         "domain": [
          0.21866666666666668,
          0.324
         ],
         "matches": "x55",
         "showgrid": false,
         "showticklabels": false,
         "tickformat": "s",
         "ticks": ""
        },
        "xaxis4": {
         "anchor": "y4",
         "domain": [
          0.328,
          0.43333333333333335
         ],
         "matches": "x55",
         "showgrid": false,
         "showticklabels": false,
         "tickformat": "s",
         "ticks": ""
        },
        "xaxis40": {
         "anchor": "y40",
         "domain": [
          0.328,
          0.43333333333333335
         ],
         "matches": "x55",
         "showgrid": false,
         "showticklabels": false,
         "tickformat": "s",
         "ticks": ""
        },
        "xaxis41": {
         "anchor": "y41",
         "domain": [
          0.43733333333333335,
          0.5426666666666666
         ],
         "matches": "x55",
         "showgrid": false,
         "showticklabels": false,
         "tickformat": "s",
         "ticks": ""
        },
        "xaxis42": {
         "anchor": "y42",
         "domain": [
          0.5466666666666666,
          0.6519999999999999
         ],
         "matches": "x55",
         "showgrid": false,
         "showticklabels": false,
         "tickformat": "s",
         "ticks": ""
        },
        "xaxis43": {
         "anchor": "y43",
         "domain": [
          0.6559999999999999,
          0.7613333333333332
         ],
         "matches": "x55",
         "showgrid": false,
         "showticklabels": false,
         "tickformat": "s",
         "ticks": ""
        },
        "xaxis44": {
         "anchor": "y44",
         "domain": [
          0.7653333333333332,
          0.8706666666666665
         ],
         "matches": "x55",
         "showgrid": false,
         "showticklabels": false,
         "tickformat": "s",
         "ticks": ""
        },
        "xaxis45": {
         "anchor": "y45",
         "domain": [
          0.8746666666666665,
          0.9799999999999998
         ],
         "matches": "x55",
         "showgrid": false,
         "showticklabels": false,
         "tickformat": "s",
         "ticks": ""
        },
        "xaxis46": {
         "anchor": "y46",
         "domain": [
          0,
          0.10533333333333333
         ],
         "matches": "x55",
         "showgrid": false,
         "showticklabels": false,
         "tickformat": "s",
         "ticks": ""
        },
        "xaxis47": {
         "anchor": "y47",
         "domain": [
          0.10933333333333334,
          0.21466666666666667
         ],
         "matches": "x55",
         "showgrid": false,
         "showticklabels": false,
         "tickformat": "s",
         "ticks": ""
        },
        "xaxis48": {
         "anchor": "y48",
         "domain": [
          0.21866666666666668,
          0.324
         ],
         "matches": "x55",
         "showgrid": false,
         "showticklabels": false,
         "tickformat": "s"
        },
        "xaxis49": {
         "anchor": "y49",
         "domain": [
          0.328,
          0.43333333333333335
         ],
         "matches": "x55",
         "showgrid": false,
         "showticklabels": false,
         "tickformat": "s"
        },
        "xaxis5": {
         "anchor": "y5",
         "domain": [
          0.43733333333333335,
          0.5426666666666666
         ],
         "matches": "x55",
         "showgrid": false,
         "showticklabels": false,
         "tickformat": "s",
         "ticks": ""
        },
        "xaxis50": {
         "anchor": "y50",
         "domain": [
          0.43733333333333335,
          0.5426666666666666
         ],
         "matches": "x55",
         "showgrid": false,
         "showticklabels": false,
         "tickformat": "s"
        },
        "xaxis51": {
         "anchor": "y51",
         "domain": [
          0.5466666666666666,
          0.6519999999999999
         ],
         "matches": "x55",
         "showgrid": false,
         "showticklabels": false,
         "tickformat": "s"
        },
        "xaxis52": {
         "anchor": "y52",
         "domain": [
          0.6559999999999999,
          0.7613333333333332
         ],
         "matches": "x55",
         "showgrid": false,
         "showticklabels": false,
         "tickformat": "s",
         "ticks": ""
        },
        "xaxis53": {
         "anchor": "y53",
         "domain": [
          0.7653333333333332,
          0.8706666666666665
         ],
         "matches": "x55",
         "showgrid": false,
         "showticklabels": false,
         "tickformat": "s"
        },
        "xaxis54": {
         "anchor": "y54",
         "domain": [
          0.8746666666666665,
          0.9799999999999998
         ],
         "matches": "x55",
         "showgrid": false,
         "showticklabels": false,
         "tickformat": "s",
         "ticks": ""
        },
        "xaxis55": {
         "anchor": "y55",
         "domain": [
          0,
          0.10533333333333333
         ],
         "showgrid": false,
         "tickformat": "s",
         "ticks": "outside"
        },
        "xaxis56": {
         "anchor": "y56",
         "domain": [
          0.10933333333333334,
          0.21466666666666667
         ],
         "matches": "x55",
         "showgrid": false,
         "tickformat": "s",
         "ticks": "outside"
        },
        "xaxis57": {
         "anchor": "y57",
         "domain": [
          0.21866666666666668,
          0.324
         ],
         "matches": "x55",
         "showgrid": false,
         "tickformat": "s",
         "ticks": "outside"
        },
        "xaxis58": {
         "anchor": "y58",
         "domain": [
          0.328,
          0.43333333333333335
         ],
         "matches": "x55",
         "showgrid": false,
         "tickformat": "s",
         "ticks": "outside"
        },
        "xaxis59": {
         "anchor": "y59",
         "domain": [
          0.43733333333333335,
          0.5426666666666666
         ],
         "matches": "x55",
         "showgrid": false,
         "tickformat": "s",
         "ticks": "outside"
        },
        "xaxis6": {
         "anchor": "y6",
         "domain": [
          0.5466666666666666,
          0.6519999999999999
         ],
         "matches": "x55",
         "showgrid": false,
         "showticklabels": false,
         "tickformat": "s",
         "ticks": ""
        },
        "xaxis60": {
         "anchor": "y60",
         "domain": [
          0.5466666666666666,
          0.6519999999999999
         ],
         "matches": "x55",
         "showgrid": false,
         "tickformat": "s",
         "ticks": "outside"
        },
        "xaxis61": {
         "anchor": "y61",
         "domain": [
          0.6559999999999999,
          0.7613333333333332
         ],
         "matches": "x55",
         "showgrid": false,
         "tickformat": "s",
         "ticks": "outside"
        },
        "xaxis62": {
         "anchor": "y62",
         "domain": [
          0.7653333333333332,
          0.8706666666666665
         ],
         "matches": "x55",
         "showgrid": false,
         "tickformat": "s",
         "ticks": "outside"
        },
        "xaxis63": {
         "anchor": "y63",
         "domain": [
          0.8746666666666665,
          0.9799999999999998
         ],
         "matches": "x55",
         "showgrid": false,
         "tickformat": "s",
         "ticks": "outside"
        },
        "xaxis7": {
         "anchor": "y7",
         "domain": [
          0.6559999999999999,
          0.7613333333333332
         ],
         "matches": "x55",
         "showgrid": false,
         "showticklabels": false,
         "tickformat": "s",
         "ticks": ""
        },
        "xaxis8": {
         "anchor": "y8",
         "domain": [
          0.7653333333333332,
          0.8706666666666665
         ],
         "matches": "x55",
         "showgrid": false,
         "showticklabels": false,
         "tickformat": "s"
        },
        "xaxis9": {
         "anchor": "y9",
         "domain": [
          0.8746666666666665,
          0.9799999999999998
         ],
         "matches": "x55",
         "showgrid": false,
         "showticklabels": false,
         "tickformat": "s",
         "ticks": ""
        },
        "yaxis": {
         "anchor": "x",
         "domain": [
          0.8657142857142859,
          1
         ],
         "matches": "y55",
         "type": "category",
         "visible": false
        },
        "yaxis10": {
         "anchor": "x10",
         "domain": [
          0.7214285714285715,
          0.8557142857142859
         ],
         "matches": "y55",
         "type": "category",
         "visible": false
        },
        "yaxis11": {
         "anchor": "x11",
         "domain": [
          0.7214285714285715,
          0.8557142857142859
         ],
         "matches": "y55",
         "showticklabels": false,
         "type": "category",
         "visible": false
        },
        "yaxis12": {
         "anchor": "x12",
         "domain": [
          0.7214285714285715,
          0.8557142857142859
         ],
         "matches": "y55",
         "showticklabels": false,
         "type": "category",
         "visible": false
        },
        "yaxis13": {
         "anchor": "x13",
         "domain": [
          0.7214285714285715,
          0.8557142857142859
         ],
         "matches": "y55",
         "showticklabels": false,
         "type": "category",
         "visible": false
        },
        "yaxis14": {
         "anchor": "x14",
         "domain": [
          0.7214285714285715,
          0.8557142857142859
         ],
         "matches": "y55",
         "showticklabels": false,
         "type": "category",
         "visible": false
        },
        "yaxis15": {
         "anchor": "x15",
         "domain": [
          0.7214285714285715,
          0.8557142857142859
         ],
         "matches": "y55",
         "showticklabels": false,
         "type": "category",
         "visible": false
        },
        "yaxis16": {
         "anchor": "x16",
         "domain": [
          0.7214285714285715,
          0.8557142857142859
         ],
         "matches": "y55",
         "showticklabels": false,
         "type": "category",
         "visible": false
        },
        "yaxis17": {
         "anchor": "x17",
         "domain": [
          0.7214285714285715,
          0.8557142857142859
         ],
         "matches": "y55",
         "showticklabels": false,
         "type": "category",
         "visible": false
        },
        "yaxis18": {
         "anchor": "x18",
         "domain": [
          0.7214285714285715,
          0.8557142857142859
         ],
         "matches": "y55",
         "showticklabels": false,
         "type": "category",
         "visible": false
        },
        "yaxis19": {
         "anchor": "x19",
         "domain": [
          0.5771428571428572,
          0.7114285714285715
         ],
         "matches": "y55",
         "type": "category",
         "visible": false
        },
        "yaxis2": {
         "anchor": "x2",
         "domain": [
          0.8657142857142859,
          1
         ],
         "matches": "y55",
         "showticklabels": false,
         "type": "category",
         "visible": false
        },
        "yaxis20": {
         "anchor": "x20",
         "domain": [
          0.5771428571428572,
          0.7114285714285715
         ],
         "matches": "y55",
         "showticklabels": false,
         "type": "category",
         "visible": false
        },
        "yaxis21": {
         "anchor": "x21",
         "domain": [
          0.5771428571428572,
          0.7114285714285715
         ],
         "matches": "y55",
         "showticklabels": false,
         "type": "category",
         "visible": false
        },
        "yaxis22": {
         "anchor": "x22",
         "domain": [
          0.5771428571428572,
          0.7114285714285715
         ],
         "matches": "y55",
         "showticklabels": false,
         "type": "category",
         "visible": false
        },
        "yaxis23": {
         "anchor": "x23",
         "domain": [
          0.5771428571428572,
          0.7114285714285715
         ],
         "matches": "y55",
         "showticklabels": false,
         "type": "category",
         "visible": false
        },
        "yaxis24": {
         "anchor": "x24",
         "domain": [
          0.5771428571428572,
          0.7114285714285715
         ],
         "matches": "y55",
         "showticklabels": false,
         "type": "category",
         "visible": false
        },
        "yaxis25": {
         "anchor": "x25",
         "domain": [
          0.5771428571428572,
          0.7114285714285715
         ],
         "matches": "y55",
         "showticklabels": false,
         "type": "category",
         "visible": false
        },
        "yaxis26": {
         "anchor": "x26",
         "domain": [
          0.5771428571428572,
          0.7114285714285715
         ],
         "matches": "y55",
         "showticklabels": false,
         "type": "category",
         "visible": false
        },
        "yaxis27": {
         "anchor": "x27",
         "domain": [
          0.5771428571428572,
          0.7114285714285715
         ],
         "matches": "y55",
         "showticklabels": false,
         "type": "category",
         "visible": false
        },
        "yaxis28": {
         "anchor": "x28",
         "domain": [
          0.43285714285714283,
          0.5671428571428572
         ],
         "matches": "y55",
         "type": "category",
         "visible": false
        },
        "yaxis29": {
         "anchor": "x29",
         "domain": [
          0.43285714285714283,
          0.5671428571428572
         ],
         "matches": "y55",
         "showticklabels": false,
         "type": "category",
         "visible": false
        },
        "yaxis3": {
         "anchor": "x3",
         "domain": [
          0.8657142857142859,
          1
         ],
         "matches": "y55",
         "showticklabels": false,
         "type": "category",
         "visible": false
        },
        "yaxis30": {
         "anchor": "x30",
         "domain": [
          0.43285714285714283,
          0.5671428571428572
         ],
         "matches": "y55",
         "showticklabels": false,
         "type": "category",
         "visible": false
        },
        "yaxis31": {
         "anchor": "x31",
         "domain": [
          0.43285714285714283,
          0.5671428571428572
         ],
         "matches": "y55",
         "showticklabels": false,
         "type": "category",
         "visible": false
        },
        "yaxis32": {
         "anchor": "x32",
         "domain": [
          0.43285714285714283,
          0.5671428571428572
         ],
         "matches": "y55",
         "showticklabels": false,
         "type": "category",
         "visible": false
        },
        "yaxis33": {
         "anchor": "x33",
         "domain": [
          0.43285714285714283,
          0.5671428571428572
         ],
         "matches": "y55",
         "showticklabels": false,
         "type": "category",
         "visible": false
        },
        "yaxis34": {
         "anchor": "x34",
         "domain": [
          0.43285714285714283,
          0.5671428571428572
         ],
         "matches": "y55",
         "showticklabels": false,
         "type": "category",
         "visible": false
        },
        "yaxis35": {
         "anchor": "x35",
         "domain": [
          0.43285714285714283,
          0.5671428571428572
         ],
         "matches": "y55",
         "showticklabels": false,
         "type": "category",
         "visible": false
        },
        "yaxis36": {
         "anchor": "x36",
         "domain": [
          0.43285714285714283,
          0.5671428571428572
         ],
         "matches": "y55",
         "showticklabels": false,
         "type": "category",
         "visible": false
        },
        "yaxis37": {
         "anchor": "x37",
         "domain": [
          0.2885714285714286,
          0.4228571428571429
         ],
         "matches": "y55",
         "type": "category",
         "visible": false
        },
        "yaxis38": {
         "anchor": "x38",
         "domain": [
          0.2885714285714286,
          0.4228571428571429
         ],
         "matches": "y55",
         "showticklabels": false,
         "type": "category",
         "visible": false
        },
        "yaxis39": {
         "anchor": "x39",
         "domain": [
          0.2885714285714286,
          0.4228571428571429
         ],
         "matches": "y55",
         "showticklabels": false,
         "type": "category",
         "visible": false
        },
        "yaxis4": {
         "anchor": "x4",
         "domain": [
          0.8657142857142859,
          1
         ],
         "matches": "y55",
         "showticklabels": false,
         "type": "category",
         "visible": false
        },
        "yaxis40": {
         "anchor": "x40",
         "domain": [
          0.2885714285714286,
          0.4228571428571429
         ],
         "matches": "y55",
         "showticklabels": false,
         "type": "category",
         "visible": false
        },
        "yaxis41": {
         "anchor": "x41",
         "domain": [
          0.2885714285714286,
          0.4228571428571429
         ],
         "matches": "y55",
         "showticklabels": false,
         "type": "category",
         "visible": false
        },
        "yaxis42": {
         "anchor": "x42",
         "domain": [
          0.2885714285714286,
          0.4228571428571429
         ],
         "matches": "y55",
         "showticklabels": false,
         "type": "category",
         "visible": false
        },
        "yaxis43": {
         "anchor": "x43",
         "domain": [
          0.2885714285714286,
          0.4228571428571429
         ],
         "matches": "y55",
         "showticklabels": false,
         "type": "category",
         "visible": false
        },
        "yaxis44": {
         "anchor": "x44",
         "domain": [
          0.2885714285714286,
          0.4228571428571429
         ],
         "matches": "y55",
         "showticklabels": false,
         "type": "category",
         "visible": false
        },
        "yaxis45": {
         "anchor": "x45",
         "domain": [
          0.2885714285714286,
          0.4228571428571429
         ],
         "matches": "y55",
         "showticklabels": false,
         "type": "category",
         "visible": false
        },
        "yaxis46": {
         "anchor": "x46",
         "domain": [
          0.1442857142857143,
          0.2785714285714286
         ],
         "matches": "y55",
         "type": "category",
         "visible": false
        },
        "yaxis47": {
         "anchor": "x47",
         "domain": [
          0.1442857142857143,
          0.2785714285714286
         ],
         "matches": "y55",
         "showticklabels": false,
         "type": "category",
         "visible": false
        },
        "yaxis48": {
         "anchor": "x48",
         "domain": [
          0.1442857142857143,
          0.2785714285714286
         ],
         "matches": "y55",
         "showticklabels": false,
         "type": "category",
         "visible": false
        },
        "yaxis49": {
         "anchor": "x49",
         "domain": [
          0.1442857142857143,
          0.2785714285714286
         ],
         "matches": "y55",
         "showticklabels": false,
         "type": "category",
         "visible": false
        },
        "yaxis5": {
         "anchor": "x5",
         "domain": [
          0.8657142857142859,
          1
         ],
         "matches": "y55",
         "showticklabels": false,
         "type": "category",
         "visible": false
        },
        "yaxis50": {
         "anchor": "x50",
         "domain": [
          0.1442857142857143,
          0.2785714285714286
         ],
         "matches": "y55",
         "showticklabels": false,
         "type": "category",
         "visible": false
        },
        "yaxis51": {
         "anchor": "x51",
         "domain": [
          0.1442857142857143,
          0.2785714285714286
         ],
         "matches": "y55",
         "showticklabels": false,
         "type": "category",
         "visible": false
        },
        "yaxis52": {
         "anchor": "x52",
         "domain": [
          0.1442857142857143,
          0.2785714285714286
         ],
         "matches": "y55",
         "showticklabels": false,
         "type": "category",
         "visible": false
        },
        "yaxis53": {
         "anchor": "x53",
         "domain": [
          0.1442857142857143,
          0.2785714285714286
         ],
         "matches": "y55",
         "showticklabels": false,
         "type": "category",
         "visible": false
        },
        "yaxis54": {
         "anchor": "x54",
         "domain": [
          0.1442857142857143,
          0.2785714285714286
         ],
         "matches": "y55",
         "showticklabels": false,
         "type": "category",
         "visible": false
        },
        "yaxis55": {
         "anchor": "x55",
         "domain": [
          0,
          0.13428571428571429
         ],
         "type": "category",
         "visible": false
        },
        "yaxis56": {
         "anchor": "x56",
         "domain": [
          0,
          0.13428571428571429
         ],
         "matches": "y55",
         "showticklabels": false,
         "type": "category",
         "visible": false
        },
        "yaxis57": {
         "anchor": "x57",
         "domain": [
          0,
          0.13428571428571429
         ],
         "matches": "y55",
         "showticklabels": false,
         "type": "category",
         "visible": false
        },
        "yaxis58": {
         "anchor": "x58",
         "domain": [
          0,
          0.13428571428571429
         ],
         "matches": "y55",
         "showticklabels": false,
         "type": "category",
         "visible": false
        },
        "yaxis59": {
         "anchor": "x59",
         "domain": [
          0,
          0.13428571428571429
         ],
         "matches": "y55",
         "showticklabels": false,
         "type": "category",
         "visible": false
        },
        "yaxis6": {
         "anchor": "x6",
         "domain": [
          0.8657142857142859,
          1
         ],
         "matches": "y55",
         "showticklabels": false,
         "type": "category",
         "visible": false
        },
        "yaxis60": {
         "anchor": "x60",
         "domain": [
          0,
          0.13428571428571429
         ],
         "matches": "y55",
         "showticklabels": false,
         "type": "category",
         "visible": false
        },
        "yaxis61": {
         "anchor": "x61",
         "domain": [
          0,
          0.13428571428571429
         ],
         "matches": "y55",
         "showticklabels": false,
         "type": "category",
         "visible": false
        },
        "yaxis62": {
         "anchor": "x62",
         "domain": [
          0,
          0.13428571428571429
         ],
         "matches": "y55",
         "showticklabels": false,
         "type": "category",
         "visible": false
        },
        "yaxis63": {
         "anchor": "x63",
         "domain": [
          0,
          0.13428571428571429
         ],
         "matches": "y55",
         "showticklabels": false,
         "type": "category",
         "visible": false
        },
        "yaxis7": {
         "anchor": "x7",
         "domain": [
          0.8657142857142859,
          1
         ],
         "matches": "y55",
         "showticklabels": false,
         "type": "category",
         "visible": false
        },
        "yaxis8": {
         "anchor": "x8",
         "domain": [
          0.8657142857142859,
          1
         ],
         "matches": "y55",
         "showticklabels": false,
         "type": "category",
         "visible": false
        },
        "yaxis9": {
         "anchor": "x9",
         "domain": [
          0.8657142857142859,
          1
         ],
         "matches": "y55",
         "showticklabels": false,
         "type": "category",
         "visible": false
        }
       }
      },
      "text/html": [
       "<div>                            <div id=\"bc25331f-22de-4251-af09-1fbb52585c06\" class=\"plotly-graph-div\" style=\"height:900px; width:1600px;\"></div>            <script type=\"text/javascript\">                require([\"plotly\"], function(Plotly) {                    window.PLOTLYENV=window.PLOTLYENV || {};                                    if (document.getElementById(\"bc25331f-22de-4251-af09-1fbb52585c06\")) {                    Plotly.newPlot(                        \"bc25331f-22de-4251-af09-1fbb52585c06\",                        [{\"marker\":{\"color\":\"darkorchid\"},\"name\":\"H-DNA\",\"orientation\":\"h\",\"showlegend\":true,\"textposition\":\"outside\",\"texttemplate\":\"%{x:,d}\",\"width\":1,\"x\":[113],\"y\":[\"H-DNA\"],\"type\":\"bar\",\"xaxis\":\"x\",\"yaxis\":\"y\"},{\"marker\":{\"color\":\"#ED4241\"},\"name\":\"SIDD\",\"orientation\":\"h\",\"showlegend\":true,\"textposition\":\"outside\",\"texttemplate\":\"%{x:,d}\",\"width\":1,\"x\":[209],\"y\":[\"SIDD\"],\"type\":\"bar\",\"xaxis\":\"x\",\"yaxis\":\"y\"},{\"marker\":{\"color\":\"royalblue\"},\"name\":\"Z-DNA\",\"orientation\":\"h\",\"showlegend\":true,\"textposition\":\"outside\",\"texttemplate\":\"%{x:,d}\",\"width\":1,\"x\":[630],\"y\":[\"Z-DNA\"],\"type\":\"bar\",\"xaxis\":\"x\",\"yaxis\":\"y\"},{\"marker\":{\"color\":\"#FE9B54\"},\"name\":\"G4\",\"orientation\":\"h\",\"showlegend\":true,\"textposition\":\"outside\",\"texttemplate\":\"%{x:,d}\",\"width\":1,\"x\":[1405],\"y\":[\"G4\"],\"type\":\"bar\",\"xaxis\":\"x\",\"yaxis\":\"y\"},{\"marker\":{\"color\":\"darkorchid\"},\"name\":\"H-DNA\",\"orientation\":\"h\",\"showlegend\":false,\"textposition\":\"outside\",\"texttemplate\":\"%{x:,d}\",\"width\":1,\"x\":[14],\"y\":[\"H-DNA\"],\"type\":\"bar\",\"xaxis\":\"x2\",\"yaxis\":\"y2\"},{\"marker\":{\"color\":\"#ED4241\"},\"name\":\"SIDD\",\"orientation\":\"h\",\"showlegend\":false,\"textposition\":\"outside\",\"texttemplate\":\"%{x:,d}\",\"width\":1,\"x\":[53],\"y\":[\"SIDD\"],\"type\":\"bar\",\"xaxis\":\"x2\",\"yaxis\":\"y2\"},{\"marker\":{\"color\":\"royalblue\"},\"name\":\"Z-DNA\",\"orientation\":\"h\",\"showlegend\":false,\"textposition\":\"outside\",\"texttemplate\":\"%{x:,d}\",\"width\":1,\"x\":[60],\"y\":[\"Z-DNA\"],\"type\":\"bar\",\"xaxis\":\"x2\",\"yaxis\":\"y2\"},{\"marker\":{\"color\":\"#FE9B54\"},\"name\":\"G4\",\"orientation\":\"h\",\"showlegend\":false,\"textposition\":\"outside\",\"texttemplate\":\"%{x:,d}\",\"width\":1,\"x\":[121],\"y\":[\"G4\"],\"type\":\"bar\",\"xaxis\":\"x2\",\"yaxis\":\"y2\"},{\"marker\":{\"color\":\"darkorchid\"},\"name\":\"H-DNA\",\"orientation\":\"h\",\"showlegend\":false,\"textposition\":\"outside\",\"texttemplate\":\"%{x:,d}\",\"width\":1,\"x\":[12],\"y\":[\"H-DNA\"],\"type\":\"bar\",\"xaxis\":\"x3\",\"yaxis\":\"y3\"},{\"marker\":{\"color\":\"#ED4241\"},\"name\":\"SIDD\",\"orientation\":\"h\",\"showlegend\":false,\"textposition\":\"outside\",\"texttemplate\":\"%{x:,d}\",\"width\":1,\"x\":[28],\"y\":[\"SIDD\"],\"type\":\"bar\",\"xaxis\":\"x3\",\"yaxis\":\"y3\"},{\"marker\":{\"color\":\"royalblue\"},\"name\":\"Z-DNA\",\"orientation\":\"h\",\"showlegend\":false,\"textposition\":\"outside\",\"texttemplate\":\"%{x:,d}\",\"width\":1,\"x\":[38],\"y\":[\"Z-DNA\"],\"type\":\"bar\",\"xaxis\":\"x3\",\"yaxis\":\"y3\"},{\"marker\":{\"color\":\"#FE9B54\"},\"name\":\"G4\",\"orientation\":\"h\",\"showlegend\":false,\"textposition\":\"outside\",\"texttemplate\":\"%{x:,d}\",\"width\":1,\"x\":[52],\"y\":[\"G4\"],\"type\":\"bar\",\"xaxis\":\"x3\",\"yaxis\":\"y3\"},{\"marker\":{\"color\":\"#ED4241\"},\"name\":\"SIDD\",\"orientation\":\"h\",\"showlegend\":false,\"textposition\":\"outside\",\"texttemplate\":\"%{x:,d}\",\"width\":1,\"x\":[1.0],\"y\":[\"SIDD\"],\"type\":\"bar\",\"xaxis\":\"x4\",\"yaxis\":\"y4\"},{\"marker\":{\"color\":\"royalblue\"},\"name\":\"Z-DNA\",\"orientation\":\"h\",\"showlegend\":false,\"textposition\":\"outside\",\"texttemplate\":\"%{x:,d}\",\"width\":1,\"x\":[1.0],\"y\":[\"Z-DNA\"],\"type\":\"bar\",\"xaxis\":\"x4\",\"yaxis\":\"y4\"},{\"marker\":{\"color\":\"darkorchid\"},\"name\":\"H-DNA\",\"orientation\":\"h\",\"showlegend\":false,\"textposition\":\"outside\",\"texttemplate\":\"%{x:,d}\",\"width\":1,\"x\":[4],\"y\":[\"H-DNA\"],\"type\":\"bar\",\"xaxis\":\"x5\",\"yaxis\":\"y5\"},{\"marker\":{\"color\":\"#ED4241\"},\"name\":\"SIDD\",\"orientation\":\"h\",\"showlegend\":false,\"textposition\":\"outside\",\"texttemplate\":\"%{x:,d}\",\"width\":1,\"x\":[20],\"y\":[\"SIDD\"],\"type\":\"bar\",\"xaxis\":\"x5\",\"yaxis\":\"y5\"},{\"marker\":{\"color\":\"royalblue\"},\"name\":\"Z-DNA\",\"orientation\":\"h\",\"showlegend\":false,\"textposition\":\"outside\",\"texttemplate\":\"%{x:,d}\",\"width\":1,\"x\":[7],\"y\":[\"Z-DNA\"],\"type\":\"bar\",\"xaxis\":\"x5\",\"yaxis\":\"y5\"},{\"marker\":{\"color\":\"#FE9B54\"},\"name\":\"G4\",\"orientation\":\"h\",\"showlegend\":false,\"textposition\":\"outside\",\"texttemplate\":\"%{x:,d}\",\"width\":1,\"x\":[28],\"y\":[\"G4\"],\"type\":\"bar\",\"xaxis\":\"x5\",\"yaxis\":\"y5\"},{\"marker\":{\"color\":\"#ED4241\"},\"name\":\"SIDD\",\"orientation\":\"h\",\"showlegend\":false,\"textposition\":\"outside\",\"texttemplate\":\"%{x:,d}\",\"width\":1,\"x\":[7.0],\"y\":[\"SIDD\"],\"type\":\"bar\",\"xaxis\":\"x6\",\"yaxis\":\"y6\"},{\"marker\":{\"color\":\"royalblue\"},\"name\":\"Z-DNA\",\"orientation\":\"h\",\"showlegend\":false,\"textposition\":\"outside\",\"texttemplate\":\"%{x:,d}\",\"width\":1,\"x\":[20.0],\"y\":[\"Z-DNA\"],\"type\":\"bar\",\"xaxis\":\"x6\",\"yaxis\":\"y6\"},{\"marker\":{\"color\":\"#FE9B54\"},\"name\":\"G4\",\"orientation\":\"h\",\"showlegend\":false,\"textposition\":\"outside\",\"texttemplate\":\"%{x:,d}\",\"width\":1,\"x\":[22.0],\"y\":[\"G4\"],\"type\":\"bar\",\"xaxis\":\"x6\",\"yaxis\":\"y6\"},{\"marker\":{\"color\":\"darkorchid\"},\"name\":\"H-DNA\",\"orientation\":\"h\",\"showlegend\":false,\"textposition\":\"outside\",\"texttemplate\":\"%{x:,d}\",\"width\":1,\"x\":[36],\"y\":[\"H-DNA\"],\"type\":\"bar\",\"xaxis\":\"x7\",\"yaxis\":\"y7\"},{\"marker\":{\"color\":\"#ED4241\"},\"name\":\"SIDD\",\"orientation\":\"h\",\"showlegend\":false,\"textposition\":\"outside\",\"texttemplate\":\"%{x:,d}\",\"width\":1,\"x\":[75],\"y\":[\"SIDD\"],\"type\":\"bar\",\"xaxis\":\"x7\",\"yaxis\":\"y7\"},{\"marker\":{\"color\":\"royalblue\"},\"name\":\"Z-DNA\",\"orientation\":\"h\",\"showlegend\":false,\"textposition\":\"outside\",\"texttemplate\":\"%{x:,d}\",\"width\":1,\"x\":[73],\"y\":[\"Z-DNA\"],\"type\":\"bar\",\"xaxis\":\"x7\",\"yaxis\":\"y7\"},{\"marker\":{\"color\":\"#FE9B54\"},\"name\":\"G4\",\"orientation\":\"h\",\"showlegend\":false,\"textposition\":\"outside\",\"texttemplate\":\"%{x:,d}\",\"width\":1,\"x\":[142],\"y\":[\"G4\"],\"type\":\"bar\",\"xaxis\":\"x7\",\"yaxis\":\"y7\"},{\"marker\":{\"color\":\"darkorchid\"},\"name\":\"H-DNA\",\"orientation\":\"h\",\"showlegend\":false,\"textposition\":\"outside\",\"texttemplate\":\"%{x:,d}\",\"width\":1,\"x\":[26],\"y\":[\"H-DNA\"],\"type\":\"bar\",\"xaxis\":\"x9\",\"yaxis\":\"y9\"},{\"marker\":{\"color\":\"#ED4241\"},\"name\":\"SIDD\",\"orientation\":\"h\",\"showlegend\":false,\"textposition\":\"outside\",\"texttemplate\":\"%{x:,d}\",\"width\":1,\"x\":[61],\"y\":[\"SIDD\"],\"type\":\"bar\",\"xaxis\":\"x9\",\"yaxis\":\"y9\"},{\"marker\":{\"color\":\"royalblue\"},\"name\":\"Z-DNA\",\"orientation\":\"h\",\"showlegend\":false,\"textposition\":\"outside\",\"texttemplate\":\"%{x:,d}\",\"width\":1,\"x\":[55],\"y\":[\"Z-DNA\"],\"type\":\"bar\",\"xaxis\":\"x9\",\"yaxis\":\"y9\"},{\"marker\":{\"color\":\"#FE9B54\"},\"name\":\"G4\",\"orientation\":\"h\",\"showlegend\":false,\"textposition\":\"outside\",\"texttemplate\":\"%{x:,d}\",\"width\":1,\"x\":[132],\"y\":[\"G4\"],\"type\":\"bar\",\"xaxis\":\"x9\",\"yaxis\":\"y9\"},{\"marker\":{\"color\":\"darkorchid\"},\"name\":\"H-DNA\",\"orientation\":\"h\",\"showlegend\":false,\"textposition\":\"outside\",\"texttemplate\":\"%{x:,d}\",\"width\":1,\"x\":[42],\"y\":[\"H-DNA\"],\"type\":\"bar\",\"xaxis\":\"x10\",\"yaxis\":\"y10\"},{\"marker\":{\"color\":\"#ED4241\"},\"name\":\"SIDD\",\"orientation\":\"h\",\"showlegend\":false,\"textposition\":\"outside\",\"texttemplate\":\"%{x:,d}\",\"width\":1,\"x\":[424],\"y\":[\"SIDD\"],\"type\":\"bar\",\"xaxis\":\"x10\",\"yaxis\":\"y10\"},{\"marker\":{\"color\":\"royalblue\"},\"name\":\"Z-DNA\",\"orientation\":\"h\",\"showlegend\":false,\"textposition\":\"outside\",\"texttemplate\":\"%{x:,d}\",\"width\":1,\"x\":[99],\"y\":[\"Z-DNA\"],\"type\":\"bar\",\"xaxis\":\"x10\",\"yaxis\":\"y10\"},{\"marker\":{\"color\":\"#FE9B54\"},\"name\":\"G4\",\"orientation\":\"h\",\"showlegend\":false,\"textposition\":\"outside\",\"texttemplate\":\"%{x:,d}\",\"width\":1,\"x\":[86],\"y\":[\"G4\"],\"type\":\"bar\",\"xaxis\":\"x10\",\"yaxis\":\"y10\"},{\"marker\":{\"color\":\"darkorchid\"},\"name\":\"H-DNA\",\"orientation\":\"h\",\"showlegend\":false,\"textposition\":\"outside\",\"texttemplate\":\"%{x:,d}\",\"width\":1,\"x\":[57],\"y\":[\"H-DNA\"],\"type\":\"bar\",\"xaxis\":\"x11\",\"yaxis\":\"y11\"},{\"marker\":{\"color\":\"#ED4241\"},\"name\":\"SIDD\",\"orientation\":\"h\",\"showlegend\":false,\"textposition\":\"outside\",\"texttemplate\":\"%{x:,d}\",\"width\":1,\"x\":[430],\"y\":[\"SIDD\"],\"type\":\"bar\",\"xaxis\":\"x11\",\"yaxis\":\"y11\"},{\"marker\":{\"color\":\"royalblue\"},\"name\":\"Z-DNA\",\"orientation\":\"h\",\"showlegend\":false,\"textposition\":\"outside\",\"texttemplate\":\"%{x:,d}\",\"width\":1,\"x\":[65],\"y\":[\"Z-DNA\"],\"type\":\"bar\",\"xaxis\":\"x11\",\"yaxis\":\"y11\"},{\"marker\":{\"color\":\"#FE9B54\"},\"name\":\"G4\",\"orientation\":\"h\",\"showlegend\":false,\"textposition\":\"outside\",\"texttemplate\":\"%{x:,d}\",\"width\":1,\"x\":[107],\"y\":[\"G4\"],\"type\":\"bar\",\"xaxis\":\"x11\",\"yaxis\":\"y11\"},{\"marker\":{\"color\":\"darkorchid\"},\"name\":\"H-DNA\",\"orientation\":\"h\",\"showlegend\":false,\"textposition\":\"outside\",\"texttemplate\":\"%{x:,d}\",\"width\":1,\"x\":[65],\"y\":[\"H-DNA\"],\"type\":\"bar\",\"xaxis\":\"x12\",\"yaxis\":\"y12\"},{\"marker\":{\"color\":\"#ED4241\"},\"name\":\"SIDD\",\"orientation\":\"h\",\"showlegend\":false,\"textposition\":\"outside\",\"texttemplate\":\"%{x:,d}\",\"width\":1,\"x\":[372],\"y\":[\"SIDD\"],\"type\":\"bar\",\"xaxis\":\"x12\",\"yaxis\":\"y12\"},{\"marker\":{\"color\":\"royalblue\"},\"name\":\"Z-DNA\",\"orientation\":\"h\",\"showlegend\":false,\"textposition\":\"outside\",\"texttemplate\":\"%{x:,d}\",\"width\":1,\"x\":[95],\"y\":[\"Z-DNA\"],\"type\":\"bar\",\"xaxis\":\"x12\",\"yaxis\":\"y12\"},{\"marker\":{\"color\":\"#FE9B54\"},\"name\":\"G4\",\"orientation\":\"h\",\"showlegend\":false,\"textposition\":\"outside\",\"texttemplate\":\"%{x:,d}\",\"width\":1,\"x\":[109],\"y\":[\"G4\"],\"type\":\"bar\",\"xaxis\":\"x12\",\"yaxis\":\"y12\"},{\"marker\":{\"color\":\"darkorchid\"},\"name\":\"H-DNA\",\"orientation\":\"h\",\"showlegend\":false,\"textposition\":\"outside\",\"texttemplate\":\"%{x:,d}\",\"width\":1,\"x\":[8],\"y\":[\"H-DNA\"],\"type\":\"bar\",\"xaxis\":\"x14\",\"yaxis\":\"y14\"},{\"marker\":{\"color\":\"#ED4241\"},\"name\":\"SIDD\",\"orientation\":\"h\",\"showlegend\":false,\"textposition\":\"outside\",\"texttemplate\":\"%{x:,d}\",\"width\":1,\"x\":[48],\"y\":[\"SIDD\"],\"type\":\"bar\",\"xaxis\":\"x14\",\"yaxis\":\"y14\"},{\"marker\":{\"color\":\"royalblue\"},\"name\":\"Z-DNA\",\"orientation\":\"h\",\"showlegend\":false,\"textposition\":\"outside\",\"texttemplate\":\"%{x:,d}\",\"width\":1,\"x\":[11],\"y\":[\"Z-DNA\"],\"type\":\"bar\",\"xaxis\":\"x14\",\"yaxis\":\"y14\"},{\"marker\":{\"color\":\"#FE9B54\"},\"name\":\"G4\",\"orientation\":\"h\",\"showlegend\":false,\"textposition\":\"outside\",\"texttemplate\":\"%{x:,d}\",\"width\":1,\"x\":[9],\"y\":[\"G4\"],\"type\":\"bar\",\"xaxis\":\"x14\",\"yaxis\":\"y14\"},{\"marker\":{\"color\":\"#ED4241\"},\"name\":\"SIDD\",\"orientation\":\"h\",\"showlegend\":false,\"textposition\":\"outside\",\"texttemplate\":\"%{x:,d}\",\"width\":1,\"x\":[46.0],\"y\":[\"SIDD\"],\"type\":\"bar\",\"xaxis\":\"x15\",\"yaxis\":\"y15\"},{\"marker\":{\"color\":\"royalblue\"},\"name\":\"Z-DNA\",\"orientation\":\"h\",\"showlegend\":false,\"textposition\":\"outside\",\"texttemplate\":\"%{x:,d}\",\"width\":1,\"x\":[5.0],\"y\":[\"Z-DNA\"],\"type\":\"bar\",\"xaxis\":\"x15\",\"yaxis\":\"y15\"},{\"marker\":{\"color\":\"#FE9B54\"},\"name\":\"G4\",\"orientation\":\"h\",\"showlegend\":false,\"textposition\":\"outside\",\"texttemplate\":\"%{x:,d}\",\"width\":1,\"x\":[8.0],\"y\":[\"G4\"],\"type\":\"bar\",\"xaxis\":\"x15\",\"yaxis\":\"y15\"},{\"marker\":{\"color\":\"darkorchid\"},\"name\":\"H-DNA\",\"orientation\":\"h\",\"showlegend\":false,\"textposition\":\"outside\",\"texttemplate\":\"%{x:,d}\",\"width\":1,\"x\":[441],\"y\":[\"H-DNA\"],\"type\":\"bar\",\"xaxis\":\"x16\",\"yaxis\":\"y16\"},{\"marker\":{\"color\":\"#ED4241\"},\"name\":\"SIDD\",\"orientation\":\"h\",\"showlegend\":false,\"textposition\":\"inside\",\"texttemplate\":\"%{x:,d}\",\"width\":1,\"x\":[3312],\"y\":[\"SIDD\"],\"type\":\"bar\",\"xaxis\":\"x16\",\"yaxis\":\"y16\"},{\"marker\":{\"color\":\"royalblue\"},\"name\":\"Z-DNA\",\"orientation\":\"h\",\"showlegend\":false,\"textposition\":\"outside\",\"texttemplate\":\"%{x:,d}\",\"width\":1,\"x\":[635],\"y\":[\"Z-DNA\"],\"type\":\"bar\",\"xaxis\":\"x16\",\"yaxis\":\"y16\"},{\"marker\":{\"color\":\"#FE9B54\"},\"name\":\"G4\",\"orientation\":\"h\",\"showlegend\":false,\"textposition\":\"outside\",\"texttemplate\":\"%{x:,d}\",\"width\":1,\"x\":[895],\"y\":[\"G4\"],\"type\":\"bar\",\"xaxis\":\"x16\",\"yaxis\":\"y16\"},{\"marker\":{\"color\":\"darkorchid\"},\"name\":\"H-DNA\",\"orientation\":\"h\",\"showlegend\":false,\"textposition\":\"outside\",\"texttemplate\":\"%{x:,d}\",\"width\":1,\"x\":[1],\"y\":[\"H-DNA\"],\"type\":\"bar\",\"xaxis\":\"x17\",\"yaxis\":\"y17\"},{\"marker\":{\"color\":\"#ED4241\"},\"name\":\"SIDD\",\"orientation\":\"h\",\"showlegend\":false,\"textposition\":\"outside\",\"texttemplate\":\"%{x:,d}\",\"width\":1,\"x\":[10],\"y\":[\"SIDD\"],\"type\":\"bar\",\"xaxis\":\"x17\",\"yaxis\":\"y17\"},{\"marker\":{\"color\":\"royalblue\"},\"name\":\"Z-DNA\",\"orientation\":\"h\",\"showlegend\":false,\"textposition\":\"outside\",\"texttemplate\":\"%{x:,d}\",\"width\":1,\"x\":[1],\"y\":[\"Z-DNA\"],\"type\":\"bar\",\"xaxis\":\"x17\",\"yaxis\":\"y17\"},{\"marker\":{\"color\":\"#FE9B54\"},\"name\":\"G4\",\"orientation\":\"h\",\"showlegend\":false,\"textposition\":\"outside\",\"texttemplate\":\"%{x:,d}\",\"width\":1,\"x\":[2],\"y\":[\"G4\"],\"type\":\"bar\",\"xaxis\":\"x17\",\"yaxis\":\"y17\"},{\"marker\":{\"color\":\"darkorchid\"},\"name\":\"H-DNA\",\"orientation\":\"h\",\"showlegend\":false,\"textposition\":\"outside\",\"texttemplate\":\"%{x:,d}\",\"width\":1,\"x\":[962],\"y\":[\"H-DNA\"],\"type\":\"bar\",\"xaxis\":\"x18\",\"yaxis\":\"y18\"},{\"marker\":{\"color\":\"#ED4241\"},\"name\":\"SIDD\",\"orientation\":\"h\",\"showlegend\":false,\"textposition\":\"inside\",\"texttemplate\":\"%{x:,d}\",\"width\":1,\"x\":[8139],\"y\":[\"SIDD\"],\"type\":\"bar\",\"xaxis\":\"x18\",\"yaxis\":\"y18\"},{\"marker\":{\"color\":\"royalblue\"},\"name\":\"Z-DNA\",\"orientation\":\"h\",\"showlegend\":false,\"textposition\":\"outside\",\"texttemplate\":\"%{x:,d}\",\"width\":1,\"x\":[1435],\"y\":[\"Z-DNA\"],\"type\":\"bar\",\"xaxis\":\"x18\",\"yaxis\":\"y18\"},{\"marker\":{\"color\":\"#FE9B54\"},\"name\":\"G4\",\"orientation\":\"h\",\"showlegend\":false,\"textposition\":\"outside\",\"texttemplate\":\"%{x:,d}\",\"width\":1,\"x\":[2000],\"y\":[\"G4\"],\"type\":\"bar\",\"xaxis\":\"x18\",\"yaxis\":\"y18\"},{\"marker\":{\"color\":\"darkorchid\"},\"name\":\"H-DNA\",\"orientation\":\"h\",\"showlegend\":false,\"textposition\":\"outside\",\"texttemplate\":\"%{x:,d}\",\"width\":1,\"x\":[4],\"y\":[\"H-DNA\"],\"type\":\"bar\",\"xaxis\":\"x19\",\"yaxis\":\"y19\"},{\"marker\":{\"color\":\"#ED4241\"},\"name\":\"SIDD\",\"orientation\":\"h\",\"showlegend\":false,\"textposition\":\"outside\",\"texttemplate\":\"%{x:,d}\",\"width\":1,\"x\":[29],\"y\":[\"SIDD\"],\"type\":\"bar\",\"xaxis\":\"x19\",\"yaxis\":\"y19\"},{\"marker\":{\"color\":\"royalblue\"},\"name\":\"Z-DNA\",\"orientation\":\"h\",\"showlegend\":false,\"textposition\":\"outside\",\"texttemplate\":\"%{x:,d}\",\"width\":1,\"x\":[12],\"y\":[\"Z-DNA\"],\"type\":\"bar\",\"xaxis\":\"x19\",\"yaxis\":\"y19\"},{\"marker\":{\"color\":\"#FE9B54\"},\"name\":\"G4\",\"orientation\":\"h\",\"showlegend\":false,\"textposition\":\"outside\",\"texttemplate\":\"%{x:,d}\",\"width\":1,\"x\":[20],\"y\":[\"G4\"],\"type\":\"bar\",\"xaxis\":\"x19\",\"yaxis\":\"y19\"},{\"marker\":{\"color\":\"darkorchid\"},\"name\":\"H-DNA\",\"orientation\":\"h\",\"showlegend\":false,\"textposition\":\"outside\",\"texttemplate\":\"%{x:,d}\",\"width\":1,\"x\":[3],\"y\":[\"H-DNA\"],\"type\":\"bar\",\"xaxis\":\"x20\",\"yaxis\":\"y20\"},{\"marker\":{\"color\":\"#ED4241\"},\"name\":\"SIDD\",\"orientation\":\"h\",\"showlegend\":false,\"textposition\":\"outside\",\"texttemplate\":\"%{x:,d}\",\"width\":1,\"x\":[11],\"y\":[\"SIDD\"],\"type\":\"bar\",\"xaxis\":\"x20\",\"yaxis\":\"y20\"},{\"marker\":{\"color\":\"royalblue\"},\"name\":\"Z-DNA\",\"orientation\":\"h\",\"showlegend\":false,\"textposition\":\"outside\",\"texttemplate\":\"%{x:,d}\",\"width\":1,\"x\":[3],\"y\":[\"Z-DNA\"],\"type\":\"bar\",\"xaxis\":\"x20\",\"yaxis\":\"y20\"},{\"marker\":{\"color\":\"#FE9B54\"},\"name\":\"G4\",\"orientation\":\"h\",\"showlegend\":false,\"textposition\":\"outside\",\"texttemplate\":\"%{x:,d}\",\"width\":1,\"x\":[7],\"y\":[\"G4\"],\"type\":\"bar\",\"xaxis\":\"x20\",\"yaxis\":\"y20\"},{\"marker\":{\"color\":\"darkorchid\"},\"name\":\"H-DNA\",\"orientation\":\"h\",\"showlegend\":false,\"textposition\":\"outside\",\"texttemplate\":\"%{x:,d}\",\"width\":1,\"x\":[6],\"y\":[\"H-DNA\"],\"type\":\"bar\",\"xaxis\":\"x21\",\"yaxis\":\"y21\"},{\"marker\":{\"color\":\"#ED4241\"},\"name\":\"SIDD\",\"orientation\":\"h\",\"showlegend\":false,\"textposition\":\"outside\",\"texttemplate\":\"%{x:,d}\",\"width\":1,\"x\":[19],\"y\":[\"SIDD\"],\"type\":\"bar\",\"xaxis\":\"x21\",\"yaxis\":\"y21\"},{\"marker\":{\"color\":\"royalblue\"},\"name\":\"Z-DNA\",\"orientation\":\"h\",\"showlegend\":false,\"textposition\":\"outside\",\"texttemplate\":\"%{x:,d}\",\"width\":1,\"x\":[2],\"y\":[\"Z-DNA\"],\"type\":\"bar\",\"xaxis\":\"x21\",\"yaxis\":\"y21\"},{\"marker\":{\"color\":\"#FE9B54\"},\"name\":\"G4\",\"orientation\":\"h\",\"showlegend\":false,\"textposition\":\"outside\",\"texttemplate\":\"%{x:,d}\",\"width\":1,\"x\":[5],\"y\":[\"G4\"],\"type\":\"bar\",\"xaxis\":\"x21\",\"yaxis\":\"y21\"},{\"marker\":{\"color\":\"#ED4241\"},\"name\":\"SIDD\",\"orientation\":\"h\",\"showlegend\":false,\"textposition\":\"outside\",\"texttemplate\":\"%{x:,d}\",\"width\":1,\"x\":[1.0],\"y\":[\"SIDD\"],\"type\":\"bar\",\"xaxis\":\"x23\",\"yaxis\":\"y23\"},{\"marker\":{\"color\":\"#FE9B54\"},\"name\":\"G4\",\"orientation\":\"h\",\"showlegend\":false,\"textposition\":\"outside\",\"texttemplate\":\"%{x:,d}\",\"width\":1,\"x\":[2.0],\"y\":[\"G4\"],\"type\":\"bar\",\"xaxis\":\"x24\",\"yaxis\":\"y24\"},{\"marker\":{\"color\":\"darkorchid\"},\"name\":\"H-DNA\",\"orientation\":\"h\",\"showlegend\":false,\"textposition\":\"outside\",\"texttemplate\":\"%{x:,d}\",\"width\":1,\"x\":[17],\"y\":[\"H-DNA\"],\"type\":\"bar\",\"xaxis\":\"x25\",\"yaxis\":\"y25\"},{\"marker\":{\"color\":\"#ED4241\"},\"name\":\"SIDD\",\"orientation\":\"h\",\"showlegend\":false,\"textposition\":\"outside\",\"texttemplate\":\"%{x:,d}\",\"width\":1,\"x\":[80],\"y\":[\"SIDD\"],\"type\":\"bar\",\"xaxis\":\"x25\",\"yaxis\":\"y25\"},{\"marker\":{\"color\":\"royalblue\"},\"name\":\"Z-DNA\",\"orientation\":\"h\",\"showlegend\":false,\"textposition\":\"outside\",\"texttemplate\":\"%{x:,d}\",\"width\":1,\"x\":[28],\"y\":[\"Z-DNA\"],\"type\":\"bar\",\"xaxis\":\"x25\",\"yaxis\":\"y25\"},{\"marker\":{\"color\":\"#FE9B54\"},\"name\":\"G4\",\"orientation\":\"h\",\"showlegend\":false,\"textposition\":\"outside\",\"texttemplate\":\"%{x:,d}\",\"width\":1,\"x\":[16],\"y\":[\"G4\"],\"type\":\"bar\",\"xaxis\":\"x25\",\"yaxis\":\"y25\"},{\"marker\":{\"color\":\"#FE9B54\"},\"name\":\"G4\",\"orientation\":\"h\",\"showlegend\":false,\"textposition\":\"outside\",\"texttemplate\":\"%{x:,d}\",\"width\":1,\"x\":[1.0],\"y\":[\"G4\"],\"type\":\"bar\",\"xaxis\":\"x26\",\"yaxis\":\"y26\"},{\"marker\":{\"color\":\"darkorchid\"},\"name\":\"H-DNA\",\"orientation\":\"h\",\"showlegend\":false,\"textposition\":\"outside\",\"texttemplate\":\"%{x:,d}\",\"width\":1,\"x\":[26],\"y\":[\"H-DNA\"],\"type\":\"bar\",\"xaxis\":\"x27\",\"yaxis\":\"y27\"},{\"marker\":{\"color\":\"#ED4241\"},\"name\":\"SIDD\",\"orientation\":\"h\",\"showlegend\":false,\"textposition\":\"outside\",\"texttemplate\":\"%{x:,d}\",\"width\":1,\"x\":[80],\"y\":[\"SIDD\"],\"type\":\"bar\",\"xaxis\":\"x27\",\"yaxis\":\"y27\"},{\"marker\":{\"color\":\"royalblue\"},\"name\":\"Z-DNA\",\"orientation\":\"h\",\"showlegend\":false,\"textposition\":\"outside\",\"texttemplate\":\"%{x:,d}\",\"width\":1,\"x\":[39],\"y\":[\"Z-DNA\"],\"type\":\"bar\",\"xaxis\":\"x27\",\"yaxis\":\"y27\"},{\"marker\":{\"color\":\"#FE9B54\"},\"name\":\"G4\",\"orientation\":\"h\",\"showlegend\":false,\"textposition\":\"outside\",\"texttemplate\":\"%{x:,d}\",\"width\":1,\"x\":[33],\"y\":[\"G4\"],\"type\":\"bar\",\"xaxis\":\"x27\",\"yaxis\":\"y27\"},{\"marker\":{\"color\":\"royalblue\"},\"name\":\"Z-DNA\",\"orientation\":\"h\",\"showlegend\":false,\"textposition\":\"outside\",\"texttemplate\":\"%{x:,d}\",\"width\":1,\"x\":[1.0],\"y\":[\"Z-DNA\"],\"type\":\"bar\",\"xaxis\":\"x28\",\"yaxis\":\"y28\"},{\"marker\":{\"color\":\"#FE9B54\"},\"name\":\"G4\",\"orientation\":\"h\",\"showlegend\":false,\"textposition\":\"outside\",\"texttemplate\":\"%{x:,d}\",\"width\":1,\"x\":[1.0],\"y\":[\"G4\"],\"type\":\"bar\",\"xaxis\":\"x28\",\"yaxis\":\"y28\"},{\"marker\":{\"color\":\"#ED4241\"},\"name\":\"SIDD\",\"orientation\":\"h\",\"showlegend\":false,\"textposition\":\"outside\",\"texttemplate\":\"%{x:,d}\",\"width\":1,\"x\":[2.0],\"y\":[\"SIDD\"],\"type\":\"bar\",\"xaxis\":\"x29\",\"yaxis\":\"y29\"},{\"marker\":{\"color\":\"#FE9B54\"},\"name\":\"G4\",\"orientation\":\"h\",\"showlegend\":false,\"textposition\":\"outside\",\"texttemplate\":\"%{x:,d}\",\"width\":1,\"x\":[1.0],\"y\":[\"G4\"],\"type\":\"bar\",\"xaxis\":\"x29\",\"yaxis\":\"y29\"},{\"marker\":{\"color\":\"#ED4241\"},\"name\":\"SIDD\",\"orientation\":\"h\",\"showlegend\":false,\"textposition\":\"outside\",\"texttemplate\":\"%{x:,d}\",\"width\":1,\"x\":[3.0],\"y\":[\"SIDD\"],\"type\":\"bar\",\"xaxis\":\"x30\",\"yaxis\":\"y30\"},{\"marker\":{\"color\":\"royalblue\"},\"name\":\"Z-DNA\",\"orientation\":\"h\",\"showlegend\":false,\"textposition\":\"outside\",\"texttemplate\":\"%{x:,d}\",\"width\":1,\"x\":[2.0],\"y\":[\"Z-DNA\"],\"type\":\"bar\",\"xaxis\":\"x30\",\"yaxis\":\"y30\"},{\"marker\":{\"color\":\"#ED4241\"},\"name\":\"SIDD\",\"orientation\":\"h\",\"showlegend\":false,\"textposition\":\"outside\",\"texttemplate\":\"%{x:,d}\",\"width\":1,\"x\":[2.0],\"y\":[\"SIDD\"],\"type\":\"bar\",\"xaxis\":\"x32\",\"yaxis\":\"y32\"},{\"marker\":{\"color\":\"darkorchid\"},\"name\":\"H-DNA\",\"orientation\":\"h\",\"showlegend\":false,\"textposition\":\"outside\",\"texttemplate\":\"%{x:,d}\",\"width\":1,\"x\":[2],\"y\":[\"H-DNA\"],\"type\":\"bar\",\"xaxis\":\"x34\",\"yaxis\":\"y34\"},{\"marker\":{\"color\":\"#ED4241\"},\"name\":\"SIDD\",\"orientation\":\"h\",\"showlegend\":false,\"textposition\":\"outside\",\"texttemplate\":\"%{x:,d}\",\"width\":1,\"x\":[7],\"y\":[\"SIDD\"],\"type\":\"bar\",\"xaxis\":\"x34\",\"yaxis\":\"y34\"},{\"marker\":{\"color\":\"royalblue\"},\"name\":\"Z-DNA\",\"orientation\":\"h\",\"showlegend\":false,\"textposition\":\"outside\",\"texttemplate\":\"%{x:,d}\",\"width\":1,\"x\":[6],\"y\":[\"Z-DNA\"],\"type\":\"bar\",\"xaxis\":\"x34\",\"yaxis\":\"y34\"},{\"marker\":{\"color\":\"#FE9B54\"},\"name\":\"G4\",\"orientation\":\"h\",\"showlegend\":false,\"textposition\":\"outside\",\"texttemplate\":\"%{x:,d}\",\"width\":1,\"x\":[5],\"y\":[\"G4\"],\"type\":\"bar\",\"xaxis\":\"x34\",\"yaxis\":\"y34\"},{\"marker\":{\"color\":\"darkorchid\"},\"name\":\"H-DNA\",\"orientation\":\"h\",\"showlegend\":false,\"textposition\":\"outside\",\"texttemplate\":\"%{x:,d}\",\"width\":1,\"x\":[7],\"y\":[\"H-DNA\"],\"type\":\"bar\",\"xaxis\":\"x36\",\"yaxis\":\"y36\"},{\"marker\":{\"color\":\"#ED4241\"},\"name\":\"SIDD\",\"orientation\":\"h\",\"showlegend\":false,\"textposition\":\"outside\",\"texttemplate\":\"%{x:,d}\",\"width\":1,\"x\":[2],\"y\":[\"SIDD\"],\"type\":\"bar\",\"xaxis\":\"x36\",\"yaxis\":\"y36\"},{\"marker\":{\"color\":\"royalblue\"},\"name\":\"Z-DNA\",\"orientation\":\"h\",\"showlegend\":false,\"textposition\":\"outside\",\"texttemplate\":\"%{x:,d}\",\"width\":1,\"x\":[7],\"y\":[\"Z-DNA\"],\"type\":\"bar\",\"xaxis\":\"x36\",\"yaxis\":\"y36\"},{\"marker\":{\"color\":\"#FE9B54\"},\"name\":\"G4\",\"orientation\":\"h\",\"showlegend\":false,\"textposition\":\"outside\",\"texttemplate\":\"%{x:,d}\",\"width\":1,\"x\":[1],\"y\":[\"G4\"],\"type\":\"bar\",\"xaxis\":\"x36\",\"yaxis\":\"y36\"},{\"marker\":{\"color\":\"darkorchid\"},\"name\":\"H-DNA\",\"orientation\":\"h\",\"showlegend\":false,\"textposition\":\"outside\",\"texttemplate\":\"%{x:,d}\",\"width\":1,\"x\":[80],\"y\":[\"H-DNA\"],\"type\":\"bar\",\"xaxis\":\"x37\",\"yaxis\":\"y37\"},{\"marker\":{\"color\":\"#ED4241\"},\"name\":\"SIDD\",\"orientation\":\"h\",\"showlegend\":false,\"textposition\":\"outside\",\"texttemplate\":\"%{x:,d}\",\"width\":1,\"x\":[162],\"y\":[\"SIDD\"],\"type\":\"bar\",\"xaxis\":\"x37\",\"yaxis\":\"y37\"},{\"marker\":{\"color\":\"royalblue\"},\"name\":\"Z-DNA\",\"orientation\":\"h\",\"showlegend\":false,\"textposition\":\"outside\",\"texttemplate\":\"%{x:,d}\",\"width\":1,\"x\":[698],\"y\":[\"Z-DNA\"],\"type\":\"bar\",\"xaxis\":\"x37\",\"yaxis\":\"y37\"},{\"marker\":{\"color\":\"#FE9B54\"},\"name\":\"G4\",\"orientation\":\"h\",\"showlegend\":false,\"textposition\":\"outside\",\"texttemplate\":\"%{x:,d}\",\"width\":1,\"x\":[1227],\"y\":[\"G4\"],\"type\":\"bar\",\"xaxis\":\"x37\",\"yaxis\":\"y37\"},{\"marker\":{\"color\":\"darkorchid\"},\"name\":\"H-DNA\",\"orientation\":\"h\",\"showlegend\":false,\"textposition\":\"outside\",\"texttemplate\":\"%{x:,d}\",\"width\":1,\"x\":[8],\"y\":[\"H-DNA\"],\"type\":\"bar\",\"xaxis\":\"x38\",\"yaxis\":\"y38\"},{\"marker\":{\"color\":\"#ED4241\"},\"name\":\"SIDD\",\"orientation\":\"h\",\"showlegend\":false,\"textposition\":\"outside\",\"texttemplate\":\"%{x:,d}\",\"width\":1,\"x\":[30],\"y\":[\"SIDD\"],\"type\":\"bar\",\"xaxis\":\"x38\",\"yaxis\":\"y38\"},{\"marker\":{\"color\":\"royalblue\"},\"name\":\"Z-DNA\",\"orientation\":\"h\",\"showlegend\":false,\"textposition\":\"outside\",\"texttemplate\":\"%{x:,d}\",\"width\":1,\"x\":[58],\"y\":[\"Z-DNA\"],\"type\":\"bar\",\"xaxis\":\"x38\",\"yaxis\":\"y38\"},{\"marker\":{\"color\":\"#FE9B54\"},\"name\":\"G4\",\"orientation\":\"h\",\"showlegend\":false,\"textposition\":\"outside\",\"texttemplate\":\"%{x:,d}\",\"width\":1,\"x\":[87],\"y\":[\"G4\"],\"type\":\"bar\",\"xaxis\":\"x38\",\"yaxis\":\"y38\"},{\"marker\":{\"color\":\"darkorchid\"},\"name\":\"H-DNA\",\"orientation\":\"h\",\"showlegend\":false,\"textposition\":\"outside\",\"texttemplate\":\"%{x:,d}\",\"width\":1,\"x\":[4],\"y\":[\"H-DNA\"],\"type\":\"bar\",\"xaxis\":\"x39\",\"yaxis\":\"y39\"},{\"marker\":{\"color\":\"#ED4241\"},\"name\":\"SIDD\",\"orientation\":\"h\",\"showlegend\":false,\"textposition\":\"outside\",\"texttemplate\":\"%{x:,d}\",\"width\":1,\"x\":[14],\"y\":[\"SIDD\"],\"type\":\"bar\",\"xaxis\":\"x39\",\"yaxis\":\"y39\"},{\"marker\":{\"color\":\"royalblue\"},\"name\":\"Z-DNA\",\"orientation\":\"h\",\"showlegend\":false,\"textposition\":\"outside\",\"texttemplate\":\"%{x:,d}\",\"width\":1,\"x\":[20],\"y\":[\"Z-DNA\"],\"type\":\"bar\",\"xaxis\":\"x39\",\"yaxis\":\"y39\"},{\"marker\":{\"color\":\"#FE9B54\"},\"name\":\"G4\",\"orientation\":\"h\",\"showlegend\":false,\"textposition\":\"outside\",\"texttemplate\":\"%{x:,d}\",\"width\":1,\"x\":[35],\"y\":[\"G4\"],\"type\":\"bar\",\"xaxis\":\"x39\",\"yaxis\":\"y39\"},{\"marker\":{\"color\":\"#FE9B54\"},\"name\":\"G4\",\"orientation\":\"h\",\"showlegend\":false,\"textposition\":\"outside\",\"texttemplate\":\"%{x:,d}\",\"width\":1,\"x\":[1.0],\"y\":[\"G4\"],\"type\":\"bar\",\"xaxis\":\"x40\",\"yaxis\":\"y40\"},{\"marker\":{\"color\":\"#ED4241\"},\"name\":\"SIDD\",\"orientation\":\"h\",\"showlegend\":false,\"textposition\":\"outside\",\"texttemplate\":\"%{x:,d}\",\"width\":1,\"x\":[8.0],\"y\":[\"SIDD\"],\"type\":\"bar\",\"xaxis\":\"x41\",\"yaxis\":\"y41\"},{\"marker\":{\"color\":\"royalblue\"},\"name\":\"Z-DNA\",\"orientation\":\"h\",\"showlegend\":false,\"textposition\":\"outside\",\"texttemplate\":\"%{x:,d}\",\"width\":1,\"x\":[7.0],\"y\":[\"Z-DNA\"],\"type\":\"bar\",\"xaxis\":\"x41\",\"yaxis\":\"y41\"},{\"marker\":{\"color\":\"#FE9B54\"},\"name\":\"G4\",\"orientation\":\"h\",\"showlegend\":false,\"textposition\":\"outside\",\"texttemplate\":\"%{x:,d}\",\"width\":1,\"x\":[14.0],\"y\":[\"G4\"],\"type\":\"bar\",\"xaxis\":\"x41\",\"yaxis\":\"y41\"},{\"marker\":{\"color\":\"#ED4241\"},\"name\":\"SIDD\",\"orientation\":\"h\",\"showlegend\":false,\"textposition\":\"outside\",\"texttemplate\":\"%{x:,d}\",\"width\":1,\"x\":[2.0],\"y\":[\"SIDD\"],\"type\":\"bar\",\"xaxis\":\"x42\",\"yaxis\":\"y42\"},{\"marker\":{\"color\":\"royalblue\"},\"name\":\"Z-DNA\",\"orientation\":\"h\",\"showlegend\":false,\"textposition\":\"outside\",\"texttemplate\":\"%{x:,d}\",\"width\":1,\"x\":[24.0],\"y\":[\"Z-DNA\"],\"type\":\"bar\",\"xaxis\":\"x42\",\"yaxis\":\"y42\"},{\"marker\":{\"color\":\"#FE9B54\"},\"name\":\"G4\",\"orientation\":\"h\",\"showlegend\":false,\"textposition\":\"outside\",\"texttemplate\":\"%{x:,d}\",\"width\":1,\"x\":[10.0],\"y\":[\"G4\"],\"type\":\"bar\",\"xaxis\":\"x42\",\"yaxis\":\"y42\"},{\"marker\":{\"color\":\"darkorchid\"},\"name\":\"H-DNA\",\"orientation\":\"h\",\"showlegend\":false,\"textposition\":\"outside\",\"texttemplate\":\"%{x:,d}\",\"width\":1,\"x\":[17],\"y\":[\"H-DNA\"],\"type\":\"bar\",\"xaxis\":\"x43\",\"yaxis\":\"y43\"},{\"marker\":{\"color\":\"#ED4241\"},\"name\":\"SIDD\",\"orientation\":\"h\",\"showlegend\":false,\"textposition\":\"outside\",\"texttemplate\":\"%{x:,d}\",\"width\":1,\"x\":[26],\"y\":[\"SIDD\"],\"type\":\"bar\",\"xaxis\":\"x43\",\"yaxis\":\"y43\"},{\"marker\":{\"color\":\"royalblue\"},\"name\":\"Z-DNA\",\"orientation\":\"h\",\"showlegend\":false,\"textposition\":\"outside\",\"texttemplate\":\"%{x:,d}\",\"width\":1,\"x\":[27],\"y\":[\"Z-DNA\"],\"type\":\"bar\",\"xaxis\":\"x43\",\"yaxis\":\"y43\"},{\"marker\":{\"color\":\"#FE9B54\"},\"name\":\"G4\",\"orientation\":\"h\",\"showlegend\":false,\"textposition\":\"outside\",\"texttemplate\":\"%{x:,d}\",\"width\":1,\"x\":[61],\"y\":[\"G4\"],\"type\":\"bar\",\"xaxis\":\"x43\",\"yaxis\":\"y43\"},{\"marker\":{\"color\":\"#ED4241\"},\"name\":\"SIDD\",\"orientation\":\"h\",\"showlegend\":false,\"textposition\":\"outside\",\"texttemplate\":\"%{x:,d}\",\"width\":1,\"x\":[1.0],\"y\":[\"SIDD\"],\"type\":\"bar\",\"xaxis\":\"x44\",\"yaxis\":\"y44\"},{\"marker\":{\"color\":\"#FE9B54\"},\"name\":\"G4\",\"orientation\":\"h\",\"showlegend\":false,\"textposition\":\"outside\",\"texttemplate\":\"%{x:,d}\",\"width\":1,\"x\":[1.0],\"y\":[\"G4\"],\"type\":\"bar\",\"xaxis\":\"x44\",\"yaxis\":\"y44\"},{\"marker\":{\"color\":\"darkorchid\"},\"name\":\"H-DNA\",\"orientation\":\"h\",\"showlegend\":false,\"textposition\":\"outside\",\"texttemplate\":\"%{x:,d}\",\"width\":1,\"x\":[9],\"y\":[\"H-DNA\"],\"type\":\"bar\",\"xaxis\":\"x45\",\"yaxis\":\"y45\"},{\"marker\":{\"color\":\"#ED4241\"},\"name\":\"SIDD\",\"orientation\":\"h\",\"showlegend\":false,\"textposition\":\"outside\",\"texttemplate\":\"%{x:,d}\",\"width\":1,\"x\":[21],\"y\":[\"SIDD\"],\"type\":\"bar\",\"xaxis\":\"x45\",\"yaxis\":\"y45\"},{\"marker\":{\"color\":\"royalblue\"},\"name\":\"Z-DNA\",\"orientation\":\"h\",\"showlegend\":false,\"textposition\":\"outside\",\"texttemplate\":\"%{x:,d}\",\"width\":1,\"x\":[36],\"y\":[\"Z-DNA\"],\"type\":\"bar\",\"xaxis\":\"x45\",\"yaxis\":\"y45\"},{\"marker\":{\"color\":\"#FE9B54\"},\"name\":\"G4\",\"orientation\":\"h\",\"showlegend\":false,\"textposition\":\"outside\",\"texttemplate\":\"%{x:,d}\",\"width\":1,\"x\":[75],\"y\":[\"G4\"],\"type\":\"bar\",\"xaxis\":\"x45\",\"yaxis\":\"y45\"},{\"marker\":{\"color\":\"#ED4241\"},\"name\":\"SIDD\",\"orientation\":\"h\",\"showlegend\":false,\"textposition\":\"outside\",\"texttemplate\":\"%{x:,d}\",\"width\":1,\"x\":[1.0],\"y\":[\"SIDD\"],\"type\":\"bar\",\"xaxis\":\"x46\",\"yaxis\":\"y46\"},{\"marker\":{\"color\":\"#FE9B54\"},\"name\":\"G4\",\"orientation\":\"h\",\"showlegend\":false,\"textposition\":\"outside\",\"texttemplate\":\"%{x:,d}\",\"width\":1,\"x\":[1.0],\"y\":[\"G4\"],\"type\":\"bar\",\"xaxis\":\"x46\",\"yaxis\":\"y46\"},{\"marker\":{\"color\":\"darkorchid\"},\"name\":\"H-DNA\",\"orientation\":\"h\",\"showlegend\":false,\"textposition\":\"outside\",\"texttemplate\":\"%{x:,d}\",\"width\":1,\"x\":[1],\"y\":[\"H-DNA\"],\"type\":\"bar\",\"xaxis\":\"x47\",\"yaxis\":\"y47\"},{\"marker\":{\"color\":\"#ED4241\"},\"name\":\"SIDD\",\"orientation\":\"h\",\"showlegend\":false,\"textposition\":\"outside\",\"texttemplate\":\"%{x:,d}\",\"width\":1,\"x\":[1],\"y\":[\"SIDD\"],\"type\":\"bar\",\"xaxis\":\"x47\",\"yaxis\":\"y47\"},{\"marker\":{\"color\":\"royalblue\"},\"name\":\"Z-DNA\",\"orientation\":\"h\",\"showlegend\":false,\"textposition\":\"outside\",\"texttemplate\":\"%{x:,d}\",\"width\":1,\"x\":[1],\"y\":[\"Z-DNA\"],\"type\":\"bar\",\"xaxis\":\"x47\",\"yaxis\":\"y47\"},{\"marker\":{\"color\":\"#FE9B54\"},\"name\":\"G4\",\"orientation\":\"h\",\"showlegend\":false,\"textposition\":\"outside\",\"texttemplate\":\"%{x:,d}\",\"width\":1,\"x\":[1],\"y\":[\"G4\"],\"type\":\"bar\",\"xaxis\":\"x47\",\"yaxis\":\"y47\"},{\"marker\":{\"color\":\"darkorchid\"},\"name\":\"H-DNA\",\"orientation\":\"h\",\"showlegend\":false,\"textposition\":\"outside\",\"texttemplate\":\"%{x:,d}\",\"width\":1,\"x\":[1],\"y\":[\"H-DNA\"],\"type\":\"bar\",\"xaxis\":\"x52\",\"yaxis\":\"y52\"},{\"marker\":{\"color\":\"#ED4241\"},\"name\":\"SIDD\",\"orientation\":\"h\",\"showlegend\":false,\"textposition\":\"outside\",\"texttemplate\":\"%{x:,d}\",\"width\":1,\"x\":[13],\"y\":[\"SIDD\"],\"type\":\"bar\",\"xaxis\":\"x52\",\"yaxis\":\"y52\"},{\"marker\":{\"color\":\"royalblue\"},\"name\":\"Z-DNA\",\"orientation\":\"h\",\"showlegend\":false,\"textposition\":\"outside\",\"texttemplate\":\"%{x:,d}\",\"width\":1,\"x\":[5],\"y\":[\"Z-DNA\"],\"type\":\"bar\",\"xaxis\":\"x52\",\"yaxis\":\"y52\"},{\"marker\":{\"color\":\"#FE9B54\"},\"name\":\"G4\",\"orientation\":\"h\",\"showlegend\":false,\"textposition\":\"outside\",\"texttemplate\":\"%{x:,d}\",\"width\":1,\"x\":[4],\"y\":[\"G4\"],\"type\":\"bar\",\"xaxis\":\"x52\",\"yaxis\":\"y52\"},{\"marker\":{\"color\":\"darkorchid\"},\"name\":\"H-DNA\",\"orientation\":\"h\",\"showlegend\":false,\"textposition\":\"outside\",\"texttemplate\":\"%{x:,d}\",\"width\":1,\"x\":[5],\"y\":[\"H-DNA\"],\"type\":\"bar\",\"xaxis\":\"x54\",\"yaxis\":\"y54\"},{\"marker\":{\"color\":\"#ED4241\"},\"name\":\"SIDD\",\"orientation\":\"h\",\"showlegend\":false,\"textposition\":\"outside\",\"texttemplate\":\"%{x:,d}\",\"width\":1,\"x\":[19],\"y\":[\"SIDD\"],\"type\":\"bar\",\"xaxis\":\"x54\",\"yaxis\":\"y54\"},{\"marker\":{\"color\":\"royalblue\"},\"name\":\"Z-DNA\",\"orientation\":\"h\",\"showlegend\":false,\"textposition\":\"outside\",\"texttemplate\":\"%{x:,d}\",\"width\":1,\"x\":[2],\"y\":[\"Z-DNA\"],\"type\":\"bar\",\"xaxis\":\"x54\",\"yaxis\":\"y54\"},{\"marker\":{\"color\":\"#FE9B54\"},\"name\":\"G4\",\"orientation\":\"h\",\"showlegend\":false,\"textposition\":\"outside\",\"texttemplate\":\"%{x:,d}\",\"width\":1,\"x\":[5],\"y\":[\"G4\"],\"type\":\"bar\",\"xaxis\":\"x54\",\"yaxis\":\"y54\"},{\"marker\":{\"color\":\"darkorchid\"},\"name\":\"H-DNA\",\"orientation\":\"h\",\"showlegend\":false,\"textposition\":\"outside\",\"texttemplate\":\"%{x:,d}\",\"width\":1,\"x\":[3],\"y\":[\"H-DNA\"],\"type\":\"bar\",\"xaxis\":\"x55\",\"yaxis\":\"y55\"},{\"marker\":{\"color\":\"#ED4241\"},\"name\":\"SIDD\",\"orientation\":\"h\",\"showlegend\":false,\"textposition\":\"outside\",\"texttemplate\":\"%{x:,d}\",\"width\":1,\"x\":[10],\"y\":[\"SIDD\"],\"type\":\"bar\",\"xaxis\":\"x55\",\"yaxis\":\"y55\"},{\"marker\":{\"color\":\"royalblue\"},\"name\":\"Z-DNA\",\"orientation\":\"h\",\"showlegend\":false,\"textposition\":\"outside\",\"texttemplate\":\"%{x:,d}\",\"width\":1,\"x\":[18],\"y\":[\"Z-DNA\"],\"type\":\"bar\",\"xaxis\":\"x55\",\"yaxis\":\"y55\"},{\"marker\":{\"color\":\"#FE9B54\"},\"name\":\"G4\",\"orientation\":\"h\",\"showlegend\":false,\"textposition\":\"outside\",\"texttemplate\":\"%{x:,d}\",\"width\":1,\"x\":[9],\"y\":[\"G4\"],\"type\":\"bar\",\"xaxis\":\"x55\",\"yaxis\":\"y55\"},{\"marker\":{\"color\":\"#ED4241\"},\"name\":\"SIDD\",\"orientation\":\"h\",\"showlegend\":false,\"textposition\":\"outside\",\"texttemplate\":\"%{x:,d}\",\"width\":1,\"x\":[1.0],\"y\":[\"SIDD\"],\"type\":\"bar\",\"xaxis\":\"x56\",\"yaxis\":\"y56\"},{\"marker\":{\"color\":\"#FE9B54\"},\"name\":\"G4\",\"orientation\":\"h\",\"showlegend\":false,\"textposition\":\"outside\",\"texttemplate\":\"%{x:,d}\",\"width\":1,\"x\":[2.0],\"y\":[\"G4\"],\"type\":\"bar\",\"xaxis\":\"x56\",\"yaxis\":\"y56\"},{\"marker\":{\"color\":\"#ED4241\"},\"name\":\"SIDD\",\"orientation\":\"h\",\"showlegend\":false,\"textposition\":\"outside\",\"texttemplate\":\"%{x:,d}\",\"width\":1,\"x\":[1.0],\"y\":[\"SIDD\"],\"type\":\"bar\",\"xaxis\":\"x57\",\"yaxis\":\"y57\"},{\"marker\":{\"color\":\"royalblue\"},\"name\":\"Z-DNA\",\"orientation\":\"h\",\"showlegend\":false,\"textposition\":\"outside\",\"texttemplate\":\"%{x:,d}\",\"width\":1,\"x\":[1.0],\"y\":[\"Z-DNA\"],\"type\":\"bar\",\"xaxis\":\"x57\",\"yaxis\":\"y57\"},{\"marker\":{\"color\":\"#FE9B54\"},\"name\":\"G4\",\"orientation\":\"h\",\"showlegend\":false,\"textposition\":\"outside\",\"texttemplate\":\"%{x:,d}\",\"width\":1,\"x\":[2.0],\"y\":[\"G4\"],\"type\":\"bar\",\"xaxis\":\"x57\",\"yaxis\":\"y57\"},{\"marker\":{\"color\":\"#ED4241\"},\"name\":\"SIDD\",\"orientation\":\"h\",\"showlegend\":false,\"textposition\":\"outside\",\"texttemplate\":\"%{x:,d}\",\"width\":1,\"x\":[3.0],\"y\":[\"SIDD\"],\"type\":\"bar\",\"xaxis\":\"x59\",\"yaxis\":\"y59\"},{\"marker\":{\"color\":\"#ED4241\"},\"name\":\"SIDD\",\"orientation\":\"h\",\"showlegend\":false,\"textposition\":\"outside\",\"texttemplate\":\"%{x:,d}\",\"width\":1,\"x\":[1.0],\"y\":[\"SIDD\"],\"type\":\"bar\",\"xaxis\":\"x60\",\"yaxis\":\"y60\"},{\"marker\":{\"color\":\"darkorchid\"},\"name\":\"H-DNA\",\"orientation\":\"h\",\"showlegend\":false,\"textposition\":\"outside\",\"texttemplate\":\"%{x:,d}\",\"width\":1,\"x\":[3],\"y\":[\"H-DNA\"],\"type\":\"bar\",\"xaxis\":\"x61\",\"yaxis\":\"y61\"},{\"marker\":{\"color\":\"#ED4241\"},\"name\":\"SIDD\",\"orientation\":\"h\",\"showlegend\":false,\"textposition\":\"outside\",\"texttemplate\":\"%{x:,d}\",\"width\":1,\"x\":[14],\"y\":[\"SIDD\"],\"type\":\"bar\",\"xaxis\":\"x61\",\"yaxis\":\"y61\"},{\"marker\":{\"color\":\"royalblue\"},\"name\":\"Z-DNA\",\"orientation\":\"h\",\"showlegend\":false,\"textposition\":\"outside\",\"texttemplate\":\"%{x:,d}\",\"width\":1,\"x\":[4],\"y\":[\"Z-DNA\"],\"type\":\"bar\",\"xaxis\":\"x61\",\"yaxis\":\"y61\"},{\"marker\":{\"color\":\"#FE9B54\"},\"name\":\"G4\",\"orientation\":\"h\",\"showlegend\":false,\"textposition\":\"outside\",\"texttemplate\":\"%{x:,d}\",\"width\":1,\"x\":[8],\"y\":[\"G4\"],\"type\":\"bar\",\"xaxis\":\"x61\",\"yaxis\":\"y61\"},{\"marker\":{\"color\":\"darkorchid\"},\"name\":\"H-DNA\",\"orientation\":\"h\",\"showlegend\":false,\"textposition\":\"outside\",\"texttemplate\":\"%{x:,d}\",\"width\":1,\"x\":[4],\"y\":[\"H-DNA\"],\"type\":\"bar\",\"xaxis\":\"x63\",\"yaxis\":\"y63\"},{\"marker\":{\"color\":\"#ED4241\"},\"name\":\"SIDD\",\"orientation\":\"h\",\"showlegend\":false,\"textposition\":\"outside\",\"texttemplate\":\"%{x:,d}\",\"width\":1,\"x\":[10],\"y\":[\"SIDD\"],\"type\":\"bar\",\"xaxis\":\"x63\",\"yaxis\":\"y63\"},{\"marker\":{\"color\":\"royalblue\"},\"name\":\"Z-DNA\",\"orientation\":\"h\",\"showlegend\":false,\"textposition\":\"outside\",\"texttemplate\":\"%{x:,d}\",\"width\":1,\"x\":[6],\"y\":[\"Z-DNA\"],\"type\":\"bar\",\"xaxis\":\"x63\",\"yaxis\":\"y63\"},{\"marker\":{\"color\":\"#FE9B54\"},\"name\":\"G4\",\"orientation\":\"h\",\"showlegend\":false,\"textposition\":\"outside\",\"texttemplate\":\"%{x:,d}\",\"width\":1,\"x\":[5],\"y\":[\"G4\"],\"type\":\"bar\",\"xaxis\":\"x63\",\"yaxis\":\"y63\"}],                        {\"template\":{\"data\":{\"barpolar\":[{\"marker\":{\"line\":{\"color\":\"rgb(237,237,237)\",\"width\":0.5},\"pattern\":{\"fillmode\":\"overlay\",\"size\":10,\"solidity\":0.2}},\"type\":\"barpolar\"}],\"bar\":[{\"error_x\":{\"color\":\"rgb(51,51,51)\"},\"error_y\":{\"color\":\"rgb(51,51,51)\"},\"marker\":{\"line\":{\"color\":\"rgb(237,237,237)\",\"width\":0.5},\"pattern\":{\"fillmode\":\"overlay\",\"size\":10,\"solidity\":0.2}},\"type\":\"bar\"}],\"carpet\":[{\"aaxis\":{\"endlinecolor\":\"rgb(51,51,51)\",\"gridcolor\":\"white\",\"linecolor\":\"white\",\"minorgridcolor\":\"white\",\"startlinecolor\":\"rgb(51,51,51)\"},\"baxis\":{\"endlinecolor\":\"rgb(51,51,51)\",\"gridcolor\":\"white\",\"linecolor\":\"white\",\"minorgridcolor\":\"white\",\"startlinecolor\":\"rgb(51,51,51)\"},\"type\":\"carpet\"}],\"choropleth\":[{\"colorbar\":{\"outlinewidth\":0,\"tickcolor\":\"rgb(237,237,237)\",\"ticklen\":6,\"ticks\":\"inside\"},\"type\":\"choropleth\"}],\"contourcarpet\":[{\"colorbar\":{\"outlinewidth\":0,\"tickcolor\":\"rgb(237,237,237)\",\"ticklen\":6,\"ticks\":\"inside\"},\"type\":\"contourcarpet\"}],\"contour\":[{\"colorbar\":{\"outlinewidth\":0,\"tickcolor\":\"rgb(237,237,237)\",\"ticklen\":6,\"ticks\":\"inside\"},\"colorscale\":[[0,\"rgb(20,44,66)\"],[1,\"rgb(90,179,244)\"]],\"type\":\"contour\"}],\"heatmapgl\":[{\"colorbar\":{\"outlinewidth\":0,\"tickcolor\":\"rgb(237,237,237)\",\"ticklen\":6,\"ticks\":\"inside\"},\"colorscale\":[[0,\"rgb(20,44,66)\"],[1,\"rgb(90,179,244)\"]],\"type\":\"heatmapgl\"}],\"heatmap\":[{\"colorbar\":{\"outlinewidth\":0,\"tickcolor\":\"rgb(237,237,237)\",\"ticklen\":6,\"ticks\":\"inside\"},\"colorscale\":[[0,\"rgb(20,44,66)\"],[1,\"rgb(90,179,244)\"]],\"type\":\"heatmap\"}],\"histogram2dcontour\":[{\"colorbar\":{\"outlinewidth\":0,\"tickcolor\":\"rgb(237,237,237)\",\"ticklen\":6,\"ticks\":\"inside\"},\"colorscale\":[[0,\"rgb(20,44,66)\"],[1,\"rgb(90,179,244)\"]],\"type\":\"histogram2dcontour\"}],\"histogram2d\":[{\"colorbar\":{\"outlinewidth\":0,\"tickcolor\":\"rgb(237,237,237)\",\"ticklen\":6,\"ticks\":\"inside\"},\"colorscale\":[[0,\"rgb(20,44,66)\"],[1,\"rgb(90,179,244)\"]],\"type\":\"histogram2d\"}],\"histogram\":[{\"marker\":{\"pattern\":{\"fillmode\":\"overlay\",\"size\":10,\"solidity\":0.2}},\"type\":\"histogram\"}],\"mesh3d\":[{\"colorbar\":{\"outlinewidth\":0,\"tickcolor\":\"rgb(237,237,237)\",\"ticklen\":6,\"ticks\":\"inside\"},\"type\":\"mesh3d\"}],\"parcoords\":[{\"line\":{\"colorbar\":{\"outlinewidth\":0,\"tickcolor\":\"rgb(237,237,237)\",\"ticklen\":6,\"ticks\":\"inside\"}},\"type\":\"parcoords\"}],\"pie\":[{\"automargin\":true,\"type\":\"pie\"}],\"scatter3d\":[{\"line\":{\"colorbar\":{\"outlinewidth\":0,\"tickcolor\":\"rgb(237,237,237)\",\"ticklen\":6,\"ticks\":\"inside\"}},\"marker\":{\"colorbar\":{\"outlinewidth\":0,\"tickcolor\":\"rgb(237,237,237)\",\"ticklen\":6,\"ticks\":\"inside\"}},\"type\":\"scatter3d\"}],\"scattercarpet\":[{\"marker\":{\"colorbar\":{\"outlinewidth\":0,\"tickcolor\":\"rgb(237,237,237)\",\"ticklen\":6,\"ticks\":\"inside\"}},\"type\":\"scattercarpet\"}],\"scattergeo\":[{\"marker\":{\"colorbar\":{\"outlinewidth\":0,\"tickcolor\":\"rgb(237,237,237)\",\"ticklen\":6,\"ticks\":\"inside\"}},\"type\":\"scattergeo\"}],\"scattergl\":[{\"marker\":{\"colorbar\":{\"outlinewidth\":0,\"tickcolor\":\"rgb(237,237,237)\",\"ticklen\":6,\"ticks\":\"inside\"}},\"type\":\"scattergl\"}],\"scattermapbox\":[{\"marker\":{\"colorbar\":{\"outlinewidth\":0,\"tickcolor\":\"rgb(237,237,237)\",\"ticklen\":6,\"ticks\":\"inside\"}},\"type\":\"scattermapbox\"}],\"scatterpolargl\":[{\"marker\":{\"colorbar\":{\"outlinewidth\":0,\"tickcolor\":\"rgb(237,237,237)\",\"ticklen\":6,\"ticks\":\"inside\"}},\"type\":\"scatterpolargl\"}],\"scatterpolar\":[{\"marker\":{\"colorbar\":{\"outlinewidth\":0,\"tickcolor\":\"rgb(237,237,237)\",\"ticklen\":6,\"ticks\":\"inside\"}},\"type\":\"scatterpolar\"}],\"scatter\":[{\"fillpattern\":{\"fillmode\":\"overlay\",\"size\":10,\"solidity\":0.2},\"type\":\"scatter\"}],\"scatterternary\":[{\"marker\":{\"colorbar\":{\"outlinewidth\":0,\"tickcolor\":\"rgb(237,237,237)\",\"ticklen\":6,\"ticks\":\"inside\"}},\"type\":\"scatterternary\"}],\"surface\":[{\"colorbar\":{\"outlinewidth\":0,\"tickcolor\":\"rgb(237,237,237)\",\"ticklen\":6,\"ticks\":\"inside\"},\"colorscale\":[[0,\"rgb(20,44,66)\"],[1,\"rgb(90,179,244)\"]],\"type\":\"surface\"}],\"table\":[{\"cells\":{\"fill\":{\"color\":\"rgb(237,237,237)\"},\"line\":{\"color\":\"white\"}},\"header\":{\"fill\":{\"color\":\"rgb(217,217,217)\"},\"line\":{\"color\":\"white\"}},\"type\":\"table\"}]},\"layout\":{\"annotationdefaults\":{\"arrowhead\":0,\"arrowwidth\":1},\"autotypenumbers\":\"strict\",\"coloraxis\":{\"colorbar\":{\"outlinewidth\":0,\"tickcolor\":\"rgb(237,237,237)\",\"ticklen\":6,\"ticks\":\"inside\"}},\"colorscale\":{\"sequential\":[[0,\"rgb(20,44,66)\"],[1,\"rgb(90,179,244)\"]],\"sequentialminus\":[[0,\"rgb(20,44,66)\"],[1,\"rgb(90,179,244)\"]]},\"colorway\":[\"#F8766D\",\"#A3A500\",\"#00BF7D\",\"#00B0F6\",\"#E76BF3\"],\"font\":{\"color\":\"rgb(51,51,51)\"},\"geo\":{\"bgcolor\":\"white\",\"lakecolor\":\"white\",\"landcolor\":\"rgb(237,237,237)\",\"showlakes\":true,\"showland\":true,\"subunitcolor\":\"white\"},\"hoverlabel\":{\"align\":\"left\"},\"hovermode\":\"closest\",\"paper_bgcolor\":\"white\",\"plot_bgcolor\":\"rgb(237,237,237)\",\"polar\":{\"angularaxis\":{\"gridcolor\":\"white\",\"linecolor\":\"white\",\"showgrid\":true,\"tickcolor\":\"rgb(51,51,51)\",\"ticks\":\"outside\"},\"bgcolor\":\"rgb(237,237,237)\",\"radialaxis\":{\"gridcolor\":\"white\",\"linecolor\":\"white\",\"showgrid\":true,\"tickcolor\":\"rgb(51,51,51)\",\"ticks\":\"outside\"}},\"scene\":{\"xaxis\":{\"backgroundcolor\":\"rgb(237,237,237)\",\"gridcolor\":\"white\",\"gridwidth\":2,\"linecolor\":\"white\",\"showbackground\":true,\"showgrid\":true,\"tickcolor\":\"rgb(51,51,51)\",\"ticks\":\"outside\",\"zerolinecolor\":\"white\"},\"yaxis\":{\"backgroundcolor\":\"rgb(237,237,237)\",\"gridcolor\":\"white\",\"gridwidth\":2,\"linecolor\":\"white\",\"showbackground\":true,\"showgrid\":true,\"tickcolor\":\"rgb(51,51,51)\",\"ticks\":\"outside\",\"zerolinecolor\":\"white\"},\"zaxis\":{\"backgroundcolor\":\"rgb(237,237,237)\",\"gridcolor\":\"white\",\"gridwidth\":2,\"linecolor\":\"white\",\"showbackground\":true,\"showgrid\":true,\"tickcolor\":\"rgb(51,51,51)\",\"ticks\":\"outside\",\"zerolinecolor\":\"white\"}},\"shapedefaults\":{\"fillcolor\":\"black\",\"line\":{\"width\":0},\"opacity\":0.3},\"ternary\":{\"aaxis\":{\"gridcolor\":\"white\",\"linecolor\":\"white\",\"showgrid\":true,\"tickcolor\":\"rgb(51,51,51)\",\"ticks\":\"outside\"},\"baxis\":{\"gridcolor\":\"white\",\"linecolor\":\"white\",\"showgrid\":true,\"tickcolor\":\"rgb(51,51,51)\",\"ticks\":\"outside\"},\"bgcolor\":\"rgb(237,237,237)\",\"caxis\":{\"gridcolor\":\"white\",\"linecolor\":\"white\",\"showgrid\":true,\"tickcolor\":\"rgb(51,51,51)\",\"ticks\":\"outside\"}},\"xaxis\":{\"automargin\":true,\"gridcolor\":\"white\",\"linecolor\":\"white\",\"showgrid\":true,\"tickcolor\":\"rgb(51,51,51)\",\"ticks\":\"outside\",\"title\":{\"standoff\":15},\"zerolinecolor\":\"white\"},\"yaxis\":{\"automargin\":true,\"gridcolor\":\"white\",\"linecolor\":\"white\",\"showgrid\":true,\"tickcolor\":\"rgb(51,51,51)\",\"ticks\":\"outside\",\"title\":{\"standoff\":15},\"zerolinecolor\":\"white\"}}},\"xaxis\":{\"anchor\":\"y\",\"domain\":[0.0,0.10533333333333333],\"matches\":\"x55\",\"showticklabels\":false,\"ticks\":\"\",\"tickformat\":\"s\",\"showgrid\":false},\"yaxis\":{\"anchor\":\"x\",\"domain\":[0.8657142857142859,1.0],\"matches\":\"y55\",\"type\":\"category\",\"visible\":false},\"xaxis2\":{\"anchor\":\"y2\",\"domain\":[0.10933333333333334,0.21466666666666667],\"matches\":\"x55\",\"showticklabels\":false,\"ticks\":\"\",\"tickformat\":\"s\",\"showgrid\":false},\"yaxis2\":{\"anchor\":\"x2\",\"domain\":[0.8657142857142859,1.0],\"matches\":\"y55\",\"showticklabels\":false,\"type\":\"category\",\"visible\":false},\"xaxis3\":{\"anchor\":\"y3\",\"domain\":[0.21866666666666668,0.324],\"matches\":\"x55\",\"showticklabels\":false,\"ticks\":\"\",\"tickformat\":\"s\",\"showgrid\":false},\"yaxis3\":{\"anchor\":\"x3\",\"domain\":[0.8657142857142859,1.0],\"matches\":\"y55\",\"showticklabels\":false,\"type\":\"category\",\"visible\":false},\"xaxis4\":{\"anchor\":\"y4\",\"domain\":[0.328,0.43333333333333335],\"matches\":\"x55\",\"showticklabels\":false,\"ticks\":\"\",\"tickformat\":\"s\",\"showgrid\":false},\"yaxis4\":{\"anchor\":\"x4\",\"domain\":[0.8657142857142859,1.0],\"matches\":\"y55\",\"showticklabels\":false,\"type\":\"category\",\"visible\":false},\"xaxis5\":{\"anchor\":\"y5\",\"domain\":[0.43733333333333335,0.5426666666666666],\"matches\":\"x55\",\"showticklabels\":false,\"ticks\":\"\",\"tickformat\":\"s\",\"showgrid\":false},\"yaxis5\":{\"anchor\":\"x5\",\"domain\":[0.8657142857142859,1.0],\"matches\":\"y55\",\"showticklabels\":false,\"type\":\"category\",\"visible\":false},\"xaxis6\":{\"anchor\":\"y6\",\"domain\":[0.5466666666666666,0.6519999999999999],\"matches\":\"x55\",\"showticklabels\":false,\"ticks\":\"\",\"tickformat\":\"s\",\"showgrid\":false},\"yaxis6\":{\"anchor\":\"x6\",\"domain\":[0.8657142857142859,1.0],\"matches\":\"y55\",\"showticklabels\":false,\"type\":\"category\",\"visible\":false},\"xaxis7\":{\"anchor\":\"y7\",\"domain\":[0.6559999999999999,0.7613333333333332],\"matches\":\"x55\",\"showticklabels\":false,\"ticks\":\"\",\"tickformat\":\"s\",\"showgrid\":false},\"yaxis7\":{\"anchor\":\"x7\",\"domain\":[0.8657142857142859,1.0],\"matches\":\"y55\",\"showticklabels\":false,\"type\":\"category\",\"visible\":false},\"xaxis8\":{\"anchor\":\"y8\",\"domain\":[0.7653333333333332,0.8706666666666665],\"matches\":\"x55\",\"showticklabels\":false,\"tickformat\":\"s\",\"showgrid\":false},\"yaxis8\":{\"anchor\":\"x8\",\"domain\":[0.8657142857142859,1.0],\"matches\":\"y55\",\"showticklabels\":false,\"type\":\"category\",\"visible\":false},\"xaxis9\":{\"anchor\":\"y9\",\"domain\":[0.8746666666666665,0.9799999999999998],\"matches\":\"x55\",\"showticklabels\":false,\"ticks\":\"\",\"tickformat\":\"s\",\"showgrid\":false},\"yaxis9\":{\"anchor\":\"x9\",\"domain\":[0.8657142857142859,1.0],\"matches\":\"y55\",\"showticklabels\":false,\"type\":\"category\",\"visible\":false},\"xaxis10\":{\"anchor\":\"y10\",\"domain\":[0.0,0.10533333333333333],\"matches\":\"x55\",\"showticklabels\":false,\"ticks\":\"\",\"tickformat\":\"s\",\"showgrid\":false},\"yaxis10\":{\"anchor\":\"x10\",\"domain\":[0.7214285714285715,0.8557142857142859],\"matches\":\"y55\",\"type\":\"category\",\"visible\":false},\"xaxis11\":{\"anchor\":\"y11\",\"domain\":[0.10933333333333334,0.21466666666666667],\"matches\":\"x55\",\"showticklabels\":false,\"ticks\":\"\",\"tickformat\":\"s\",\"showgrid\":false},\"yaxis11\":{\"anchor\":\"x11\",\"domain\":[0.7214285714285715,0.8557142857142859],\"matches\":\"y55\",\"showticklabels\":false,\"type\":\"category\",\"visible\":false},\"xaxis12\":{\"anchor\":\"y12\",\"domain\":[0.21866666666666668,0.324],\"matches\":\"x55\",\"showticklabels\":false,\"ticks\":\"\",\"tickformat\":\"s\",\"showgrid\":false},\"yaxis12\":{\"anchor\":\"x12\",\"domain\":[0.7214285714285715,0.8557142857142859],\"matches\":\"y55\",\"showticklabels\":false,\"type\":\"category\",\"visible\":false},\"xaxis13\":{\"anchor\":\"y13\",\"domain\":[0.328,0.43333333333333335],\"matches\":\"x55\",\"showticklabels\":false,\"tickformat\":\"s\",\"showgrid\":false},\"yaxis13\":{\"anchor\":\"x13\",\"domain\":[0.7214285714285715,0.8557142857142859],\"matches\":\"y55\",\"showticklabels\":false,\"type\":\"category\",\"visible\":false},\"xaxis14\":{\"anchor\":\"y14\",\"domain\":[0.43733333333333335,0.5426666666666666],\"matches\":\"x55\",\"showticklabels\":false,\"ticks\":\"\",\"tickformat\":\"s\",\"showgrid\":false},\"yaxis14\":{\"anchor\":\"x14\",\"domain\":[0.7214285714285715,0.8557142857142859],\"matches\":\"y55\",\"showticklabels\":false,\"type\":\"category\",\"visible\":false},\"xaxis15\":{\"anchor\":\"y15\",\"domain\":[0.5466666666666666,0.6519999999999999],\"matches\":\"x55\",\"showticklabels\":false,\"ticks\":\"\",\"tickformat\":\"s\",\"showgrid\":false},\"yaxis15\":{\"anchor\":\"x15\",\"domain\":[0.7214285714285715,0.8557142857142859],\"matches\":\"y55\",\"showticklabels\":false,\"type\":\"category\",\"visible\":false},\"xaxis16\":{\"anchor\":\"y16\",\"domain\":[0.6559999999999999,0.7613333333333332],\"matches\":\"x55\",\"showticklabels\":false,\"ticks\":\"\",\"tickformat\":\"s\",\"showgrid\":false},\"yaxis16\":{\"anchor\":\"x16\",\"domain\":[0.7214285714285715,0.8557142857142859],\"matches\":\"y55\",\"showticklabels\":false,\"type\":\"category\",\"visible\":false},\"xaxis17\":{\"anchor\":\"y17\",\"domain\":[0.7653333333333332,0.8706666666666665],\"matches\":\"x55\",\"showticklabels\":false,\"ticks\":\"\",\"tickformat\":\"s\",\"showgrid\":false},\"yaxis17\":{\"anchor\":\"x17\",\"domain\":[0.7214285714285715,0.8557142857142859],\"matches\":\"y55\",\"showticklabels\":false,\"type\":\"category\",\"visible\":false},\"xaxis18\":{\"anchor\":\"y18\",\"domain\":[0.8746666666666665,0.9799999999999998],\"matches\":\"x55\",\"showticklabels\":false,\"ticks\":\"\",\"tickformat\":\"s\",\"showgrid\":false},\"yaxis18\":{\"anchor\":\"x18\",\"domain\":[0.7214285714285715,0.8557142857142859],\"matches\":\"y55\",\"showticklabels\":false,\"type\":\"category\",\"visible\":false},\"xaxis19\":{\"anchor\":\"y19\",\"domain\":[0.0,0.10533333333333333],\"matches\":\"x55\",\"showticklabels\":false,\"ticks\":\"\",\"tickformat\":\"s\",\"showgrid\":false},\"yaxis19\":{\"anchor\":\"x19\",\"domain\":[0.5771428571428572,0.7114285714285715],\"matches\":\"y55\",\"type\":\"category\",\"visible\":false},\"xaxis20\":{\"anchor\":\"y20\",\"domain\":[0.10933333333333334,0.21466666666666667],\"matches\":\"x55\",\"showticklabels\":false,\"ticks\":\"\",\"tickformat\":\"s\",\"showgrid\":false},\"yaxis20\":{\"anchor\":\"x20\",\"domain\":[0.5771428571428572,0.7114285714285715],\"matches\":\"y55\",\"showticklabels\":false,\"type\":\"category\",\"visible\":false},\"xaxis21\":{\"anchor\":\"y21\",\"domain\":[0.21866666666666668,0.324],\"matches\":\"x55\",\"showticklabels\":false,\"ticks\":\"\",\"tickformat\":\"s\",\"showgrid\":false},\"yaxis21\":{\"anchor\":\"x21\",\"domain\":[0.5771428571428572,0.7114285714285715],\"matches\":\"y55\",\"showticklabels\":false,\"type\":\"category\",\"visible\":false},\"xaxis22\":{\"anchor\":\"y22\",\"domain\":[0.328,0.43333333333333335],\"matches\":\"x55\",\"showticklabels\":false,\"tickformat\":\"s\",\"showgrid\":false},\"yaxis22\":{\"anchor\":\"x22\",\"domain\":[0.5771428571428572,0.7114285714285715],\"matches\":\"y55\",\"showticklabels\":false,\"type\":\"category\",\"visible\":false},\"xaxis23\":{\"anchor\":\"y23\",\"domain\":[0.43733333333333335,0.5426666666666666],\"matches\":\"x55\",\"showticklabels\":false,\"ticks\":\"\",\"tickformat\":\"s\",\"showgrid\":false},\"yaxis23\":{\"anchor\":\"x23\",\"domain\":[0.5771428571428572,0.7114285714285715],\"matches\":\"y55\",\"showticklabels\":false,\"type\":\"category\",\"visible\":false},\"xaxis24\":{\"anchor\":\"y24\",\"domain\":[0.5466666666666666,0.6519999999999999],\"matches\":\"x55\",\"showticklabels\":false,\"ticks\":\"\",\"tickformat\":\"s\",\"showgrid\":false},\"yaxis24\":{\"anchor\":\"x24\",\"domain\":[0.5771428571428572,0.7114285714285715],\"matches\":\"y55\",\"showticklabels\":false,\"type\":\"category\",\"visible\":false},\"xaxis25\":{\"anchor\":\"y25\",\"domain\":[0.6559999999999999,0.7613333333333332],\"matches\":\"x55\",\"showticklabels\":false,\"ticks\":\"\",\"tickformat\":\"s\",\"showgrid\":false},\"yaxis25\":{\"anchor\":\"x25\",\"domain\":[0.5771428571428572,0.7114285714285715],\"matches\":\"y55\",\"showticklabels\":false,\"type\":\"category\",\"visible\":false},\"xaxis26\":{\"anchor\":\"y26\",\"domain\":[0.7653333333333332,0.8706666666666665],\"matches\":\"x55\",\"showticklabels\":false,\"ticks\":\"\",\"tickformat\":\"s\",\"showgrid\":false},\"yaxis26\":{\"anchor\":\"x26\",\"domain\":[0.5771428571428572,0.7114285714285715],\"matches\":\"y55\",\"showticklabels\":false,\"type\":\"category\",\"visible\":false},\"xaxis27\":{\"anchor\":\"y27\",\"domain\":[0.8746666666666665,0.9799999999999998],\"matches\":\"x55\",\"showticklabels\":false,\"ticks\":\"\",\"tickformat\":\"s\",\"showgrid\":false},\"yaxis27\":{\"anchor\":\"x27\",\"domain\":[0.5771428571428572,0.7114285714285715],\"matches\":\"y55\",\"showticklabels\":false,\"type\":\"category\",\"visible\":false},\"xaxis28\":{\"anchor\":\"y28\",\"domain\":[0.0,0.10533333333333333],\"matches\":\"x55\",\"showticklabels\":false,\"ticks\":\"\",\"tickformat\":\"s\",\"showgrid\":false},\"yaxis28\":{\"anchor\":\"x28\",\"domain\":[0.43285714285714283,0.5671428571428572],\"matches\":\"y55\",\"type\":\"category\",\"visible\":false},\"xaxis29\":{\"anchor\":\"y29\",\"domain\":[0.10933333333333334,0.21466666666666667],\"matches\":\"x55\",\"showticklabels\":false,\"ticks\":\"\",\"tickformat\":\"s\",\"showgrid\":false},\"yaxis29\":{\"anchor\":\"x29\",\"domain\":[0.43285714285714283,0.5671428571428572],\"matches\":\"y55\",\"showticklabels\":false,\"type\":\"category\",\"visible\":false},\"xaxis30\":{\"anchor\":\"y30\",\"domain\":[0.21866666666666668,0.324],\"matches\":\"x55\",\"showticklabels\":false,\"ticks\":\"\",\"tickformat\":\"s\",\"showgrid\":false},\"yaxis30\":{\"anchor\":\"x30\",\"domain\":[0.43285714285714283,0.5671428571428572],\"matches\":\"y55\",\"showticklabels\":false,\"type\":\"category\",\"visible\":false},\"xaxis31\":{\"anchor\":\"y31\",\"domain\":[0.328,0.43333333333333335],\"matches\":\"x55\",\"showticklabels\":false,\"tickformat\":\"s\",\"showgrid\":false},\"yaxis31\":{\"anchor\":\"x31\",\"domain\":[0.43285714285714283,0.5671428571428572],\"matches\":\"y55\",\"showticklabels\":false,\"type\":\"category\",\"visible\":false},\"xaxis32\":{\"anchor\":\"y32\",\"domain\":[0.43733333333333335,0.5426666666666666],\"matches\":\"x55\",\"showticklabels\":false,\"ticks\":\"\",\"tickformat\":\"s\",\"showgrid\":false},\"yaxis32\":{\"anchor\":\"x32\",\"domain\":[0.43285714285714283,0.5671428571428572],\"matches\":\"y55\",\"showticklabels\":false,\"type\":\"category\",\"visible\":false},\"xaxis33\":{\"anchor\":\"y33\",\"domain\":[0.5466666666666666,0.6519999999999999],\"matches\":\"x55\",\"showticklabels\":false,\"tickformat\":\"s\",\"showgrid\":false},\"yaxis33\":{\"anchor\":\"x33\",\"domain\":[0.43285714285714283,0.5671428571428572],\"matches\":\"y55\",\"showticklabels\":false,\"type\":\"category\",\"visible\":false},\"xaxis34\":{\"anchor\":\"y34\",\"domain\":[0.6559999999999999,0.7613333333333332],\"matches\":\"x55\",\"showticklabels\":false,\"ticks\":\"\",\"tickformat\":\"s\",\"showgrid\":false},\"yaxis34\":{\"anchor\":\"x34\",\"domain\":[0.43285714285714283,0.5671428571428572],\"matches\":\"y55\",\"showticklabels\":false,\"type\":\"category\",\"visible\":false},\"xaxis35\":{\"anchor\":\"y35\",\"domain\":[0.7653333333333332,0.8706666666666665],\"matches\":\"x55\",\"showticklabels\":false,\"tickformat\":\"s\",\"showgrid\":false},\"yaxis35\":{\"anchor\":\"x35\",\"domain\":[0.43285714285714283,0.5671428571428572],\"matches\":\"y55\",\"showticklabels\":false,\"type\":\"category\",\"visible\":false},\"xaxis36\":{\"anchor\":\"y36\",\"domain\":[0.8746666666666665,0.9799999999999998],\"matches\":\"x55\",\"showticklabels\":false,\"ticks\":\"\",\"tickformat\":\"s\",\"showgrid\":false},\"yaxis36\":{\"anchor\":\"x36\",\"domain\":[0.43285714285714283,0.5671428571428572],\"matches\":\"y55\",\"showticklabels\":false,\"type\":\"category\",\"visible\":false},\"xaxis37\":{\"anchor\":\"y37\",\"domain\":[0.0,0.10533333333333333],\"matches\":\"x55\",\"showticklabels\":false,\"ticks\":\"\",\"tickformat\":\"s\",\"showgrid\":false},\"yaxis37\":{\"anchor\":\"x37\",\"domain\":[0.2885714285714286,0.4228571428571429],\"matches\":\"y55\",\"type\":\"category\",\"visible\":false},\"xaxis38\":{\"anchor\":\"y38\",\"domain\":[0.10933333333333334,0.21466666666666667],\"matches\":\"x55\",\"showticklabels\":false,\"ticks\":\"\",\"tickformat\":\"s\",\"showgrid\":false},\"yaxis38\":{\"anchor\":\"x38\",\"domain\":[0.2885714285714286,0.4228571428571429],\"matches\":\"y55\",\"showticklabels\":false,\"type\":\"category\",\"visible\":false},\"xaxis39\":{\"anchor\":\"y39\",\"domain\":[0.21866666666666668,0.324],\"matches\":\"x55\",\"showticklabels\":false,\"ticks\":\"\",\"tickformat\":\"s\",\"showgrid\":false},\"yaxis39\":{\"anchor\":\"x39\",\"domain\":[0.2885714285714286,0.4228571428571429],\"matches\":\"y55\",\"showticklabels\":false,\"type\":\"category\",\"visible\":false},\"xaxis40\":{\"anchor\":\"y40\",\"domain\":[0.328,0.43333333333333335],\"matches\":\"x55\",\"showticklabels\":false,\"ticks\":\"\",\"tickformat\":\"s\",\"showgrid\":false},\"yaxis40\":{\"anchor\":\"x40\",\"domain\":[0.2885714285714286,0.4228571428571429],\"matches\":\"y55\",\"showticklabels\":false,\"type\":\"category\",\"visible\":false},\"xaxis41\":{\"anchor\":\"y41\",\"domain\":[0.43733333333333335,0.5426666666666666],\"matches\":\"x55\",\"showticklabels\":false,\"ticks\":\"\",\"tickformat\":\"s\",\"showgrid\":false},\"yaxis41\":{\"anchor\":\"x41\",\"domain\":[0.2885714285714286,0.4228571428571429],\"matches\":\"y55\",\"showticklabels\":false,\"type\":\"category\",\"visible\":false},\"xaxis42\":{\"anchor\":\"y42\",\"domain\":[0.5466666666666666,0.6519999999999999],\"matches\":\"x55\",\"showticklabels\":false,\"ticks\":\"\",\"tickformat\":\"s\",\"showgrid\":false},\"yaxis42\":{\"anchor\":\"x42\",\"domain\":[0.2885714285714286,0.4228571428571429],\"matches\":\"y55\",\"showticklabels\":false,\"type\":\"category\",\"visible\":false},\"xaxis43\":{\"anchor\":\"y43\",\"domain\":[0.6559999999999999,0.7613333333333332],\"matches\":\"x55\",\"showticklabels\":false,\"ticks\":\"\",\"tickformat\":\"s\",\"showgrid\":false},\"yaxis43\":{\"anchor\":\"x43\",\"domain\":[0.2885714285714286,0.4228571428571429],\"matches\":\"y55\",\"showticklabels\":false,\"type\":\"category\",\"visible\":false},\"xaxis44\":{\"anchor\":\"y44\",\"domain\":[0.7653333333333332,0.8706666666666665],\"matches\":\"x55\",\"showticklabels\":false,\"ticks\":\"\",\"tickformat\":\"s\",\"showgrid\":false},\"yaxis44\":{\"anchor\":\"x44\",\"domain\":[0.2885714285714286,0.4228571428571429],\"matches\":\"y55\",\"showticklabels\":false,\"type\":\"category\",\"visible\":false},\"xaxis45\":{\"anchor\":\"y45\",\"domain\":[0.8746666666666665,0.9799999999999998],\"matches\":\"x55\",\"showticklabels\":false,\"ticks\":\"\",\"tickformat\":\"s\",\"showgrid\":false},\"yaxis45\":{\"anchor\":\"x45\",\"domain\":[0.2885714285714286,0.4228571428571429],\"matches\":\"y55\",\"showticklabels\":false,\"type\":\"category\",\"visible\":false},\"xaxis46\":{\"anchor\":\"y46\",\"domain\":[0.0,0.10533333333333333],\"matches\":\"x55\",\"showticklabels\":false,\"ticks\":\"\",\"tickformat\":\"s\",\"showgrid\":false},\"yaxis46\":{\"anchor\":\"x46\",\"domain\":[0.1442857142857143,0.2785714285714286],\"matches\":\"y55\",\"type\":\"category\",\"visible\":false},\"xaxis47\":{\"anchor\":\"y47\",\"domain\":[0.10933333333333334,0.21466666666666667],\"matches\":\"x55\",\"showticklabels\":false,\"ticks\":\"\",\"tickformat\":\"s\",\"showgrid\":false},\"yaxis47\":{\"anchor\":\"x47\",\"domain\":[0.1442857142857143,0.2785714285714286],\"matches\":\"y55\",\"showticklabels\":false,\"type\":\"category\",\"visible\":false},\"xaxis48\":{\"anchor\":\"y48\",\"domain\":[0.21866666666666668,0.324],\"matches\":\"x55\",\"showticklabels\":false,\"tickformat\":\"s\",\"showgrid\":false},\"yaxis48\":{\"anchor\":\"x48\",\"domain\":[0.1442857142857143,0.2785714285714286],\"matches\":\"y55\",\"showticklabels\":false,\"type\":\"category\",\"visible\":false},\"xaxis49\":{\"anchor\":\"y49\",\"domain\":[0.328,0.43333333333333335],\"matches\":\"x55\",\"showticklabels\":false,\"tickformat\":\"s\",\"showgrid\":false},\"yaxis49\":{\"anchor\":\"x49\",\"domain\":[0.1442857142857143,0.2785714285714286],\"matches\":\"y55\",\"showticklabels\":false,\"type\":\"category\",\"visible\":false},\"xaxis50\":{\"anchor\":\"y50\",\"domain\":[0.43733333333333335,0.5426666666666666],\"matches\":\"x55\",\"showticklabels\":false,\"tickformat\":\"s\",\"showgrid\":false},\"yaxis50\":{\"anchor\":\"x50\",\"domain\":[0.1442857142857143,0.2785714285714286],\"matches\":\"y55\",\"showticklabels\":false,\"type\":\"category\",\"visible\":false},\"xaxis51\":{\"anchor\":\"y51\",\"domain\":[0.5466666666666666,0.6519999999999999],\"matches\":\"x55\",\"showticklabels\":false,\"tickformat\":\"s\",\"showgrid\":false},\"yaxis51\":{\"anchor\":\"x51\",\"domain\":[0.1442857142857143,0.2785714285714286],\"matches\":\"y55\",\"showticklabels\":false,\"type\":\"category\",\"visible\":false},\"xaxis52\":{\"anchor\":\"y52\",\"domain\":[0.6559999999999999,0.7613333333333332],\"matches\":\"x55\",\"showticklabels\":false,\"ticks\":\"\",\"tickformat\":\"s\",\"showgrid\":false},\"yaxis52\":{\"anchor\":\"x52\",\"domain\":[0.1442857142857143,0.2785714285714286],\"matches\":\"y55\",\"showticklabels\":false,\"type\":\"category\",\"visible\":false},\"xaxis53\":{\"anchor\":\"y53\",\"domain\":[0.7653333333333332,0.8706666666666665],\"matches\":\"x55\",\"showticklabels\":false,\"tickformat\":\"s\",\"showgrid\":false},\"yaxis53\":{\"anchor\":\"x53\",\"domain\":[0.1442857142857143,0.2785714285714286],\"matches\":\"y55\",\"showticklabels\":false,\"type\":\"category\",\"visible\":false},\"xaxis54\":{\"anchor\":\"y54\",\"domain\":[0.8746666666666665,0.9799999999999998],\"matches\":\"x55\",\"showticklabels\":false,\"ticks\":\"\",\"tickformat\":\"s\",\"showgrid\":false},\"yaxis54\":{\"anchor\":\"x54\",\"domain\":[0.1442857142857143,0.2785714285714286],\"matches\":\"y55\",\"showticklabels\":false,\"type\":\"category\",\"visible\":false},\"xaxis55\":{\"anchor\":\"y55\",\"domain\":[0.0,0.10533333333333333],\"ticks\":\"outside\",\"tickformat\":\"s\",\"showgrid\":false},\"yaxis55\":{\"anchor\":\"x55\",\"domain\":[0.0,0.13428571428571429],\"type\":\"category\",\"visible\":false},\"xaxis56\":{\"anchor\":\"y56\",\"domain\":[0.10933333333333334,0.21466666666666667],\"matches\":\"x55\",\"ticks\":\"outside\",\"tickformat\":\"s\",\"showgrid\":false},\"yaxis56\":{\"anchor\":\"x56\",\"domain\":[0.0,0.13428571428571429],\"matches\":\"y55\",\"showticklabels\":false,\"type\":\"category\",\"visible\":false},\"xaxis57\":{\"anchor\":\"y57\",\"domain\":[0.21866666666666668,0.324],\"matches\":\"x55\",\"ticks\":\"outside\",\"tickformat\":\"s\",\"showgrid\":false},\"yaxis57\":{\"anchor\":\"x57\",\"domain\":[0.0,0.13428571428571429],\"matches\":\"y55\",\"showticklabels\":false,\"type\":\"category\",\"visible\":false},\"xaxis58\":{\"anchor\":\"y58\",\"domain\":[0.328,0.43333333333333335],\"matches\":\"x55\",\"tickformat\":\"s\",\"showgrid\":false,\"ticks\":\"outside\"},\"yaxis58\":{\"anchor\":\"x58\",\"domain\":[0.0,0.13428571428571429],\"matches\":\"y55\",\"showticklabels\":false,\"type\":\"category\",\"visible\":false},\"xaxis59\":{\"anchor\":\"y59\",\"domain\":[0.43733333333333335,0.5426666666666666],\"matches\":\"x55\",\"ticks\":\"outside\",\"tickformat\":\"s\",\"showgrid\":false},\"yaxis59\":{\"anchor\":\"x59\",\"domain\":[0.0,0.13428571428571429],\"matches\":\"y55\",\"showticklabels\":false,\"type\":\"category\",\"visible\":false},\"xaxis60\":{\"anchor\":\"y60\",\"domain\":[0.5466666666666666,0.6519999999999999],\"matches\":\"x55\",\"ticks\":\"outside\",\"tickformat\":\"s\",\"showgrid\":false},\"yaxis60\":{\"anchor\":\"x60\",\"domain\":[0.0,0.13428571428571429],\"matches\":\"y55\",\"showticklabels\":false,\"type\":\"category\",\"visible\":false},\"xaxis61\":{\"anchor\":\"y61\",\"domain\":[0.6559999999999999,0.7613333333333332],\"matches\":\"x55\",\"ticks\":\"outside\",\"tickformat\":\"s\",\"showgrid\":false},\"yaxis61\":{\"anchor\":\"x61\",\"domain\":[0.0,0.13428571428571429],\"matches\":\"y55\",\"showticklabels\":false,\"type\":\"category\",\"visible\":false},\"xaxis62\":{\"anchor\":\"y62\",\"domain\":[0.7653333333333332,0.8706666666666665],\"matches\":\"x55\",\"tickformat\":\"s\",\"showgrid\":false,\"ticks\":\"outside\"},\"yaxis62\":{\"anchor\":\"x62\",\"domain\":[0.0,0.13428571428571429],\"matches\":\"y55\",\"showticklabels\":false,\"type\":\"category\",\"visible\":false},\"xaxis63\":{\"anchor\":\"y63\",\"domain\":[0.8746666666666665,0.9799999999999998],\"matches\":\"x55\",\"ticks\":\"outside\",\"tickformat\":\"s\",\"showgrid\":false},\"yaxis63\":{\"anchor\":\"x63\",\"domain\":[0.0,0.13428571428571429],\"matches\":\"y55\",\"showticklabels\":false,\"type\":\"category\",\"visible\":false},\"annotations\":[{\"font\":{\"size\":14},\"showarrow\":false,\"text\":\"Promoter (<=1kb)\",\"x\":0.05266666666666667,\"xanchor\":\"center\",\"xref\":\"paper\",\"y\":1.0000000000000002,\"yanchor\":\"bottom\",\"yref\":\"paper\",\"textangle\":0,\"align\":\"left\"},{\"font\":{\"size\":14},\"showarrow\":false,\"text\":\"Promoter (1-2kb)\",\"x\":0.162,\"xanchor\":\"center\",\"xref\":\"paper\",\"y\":1.0000000000000002,\"yanchor\":\"bottom\",\"yref\":\"paper\",\"textangle\":0,\"align\":\"left\"},{\"font\":{\"size\":14},\"showarrow\":false,\"text\":\"Promoter (2-3kb)\",\"x\":0.2713333333333333,\"xanchor\":\"center\",\"xref\":\"paper\",\"y\":1.0000000000000002,\"yanchor\":\"bottom\",\"yref\":\"paper\",\"textangle\":0,\"align\":\"left\"},{\"font\":{\"size\":14},\"showarrow\":false,\"text\":\"5' UTR\",\"x\":0.3806666666666667,\"xanchor\":\"center\",\"xref\":\"paper\",\"y\":1.0000000000000002,\"yanchor\":\"bottom\",\"yref\":\"paper\",\"textangle\":0,\"align\":\"left\"},{\"font\":{\"size\":14},\"showarrow\":false,\"text\":\"3' UTR\",\"x\":0.49,\"xanchor\":\"center\",\"xref\":\"paper\",\"y\":1.0000000000000002,\"yanchor\":\"bottom\",\"yref\":\"paper\",\"textangle\":0,\"align\":\"left\"},{\"font\":{\"size\":14},\"showarrow\":false,\"text\":\"Exon\",\"x\":0.5993333333333333,\"xanchor\":\"center\",\"xref\":\"paper\",\"y\":1.0000000000000002,\"yanchor\":\"bottom\",\"yref\":\"paper\",\"textangle\":0,\"align\":\"left\"},{\"font\":{\"size\":14},\"showarrow\":false,\"text\":\"Intron\",\"x\":0.7086666666666666,\"xanchor\":\"center\",\"xref\":\"paper\",\"y\":1.0000000000000002,\"yanchor\":\"bottom\",\"yref\":\"paper\",\"textangle\":0,\"align\":\"left\"},{\"font\":{\"size\":14},\"showarrow\":false,\"text\":\"Downstream (<=300bp)\",\"x\":0.8179999999999998,\"xanchor\":\"center\",\"xref\":\"paper\",\"y\":1.0000000000000002,\"yanchor\":\"bottom\",\"yref\":\"paper\",\"textangle\":0,\"align\":\"left\"},{\"font\":{\"size\":14},\"showarrow\":false,\"text\":\"Distal Intergenic\",\"x\":0.9273333333333331,\"xanchor\":\"center\",\"xref\":\"paper\",\"y\":1.0000000000000002,\"yanchor\":\"bottom\",\"yref\":\"paper\",\"textangle\":0,\"align\":\"left\"},{\"font\":{\"size\":14},\"showarrow\":false,\"text\":\"cCRE\",\"textangle\":0,\"x\":0.9799999999999998,\"xanchor\":\"left\",\"xref\":\"paper\",\"y\":0.932857142857143,\"yanchor\":\"middle\",\"yref\":\"paper\",\"align\":\"left\"},{\"font\":{\"size\":14},\"showarrow\":false,\"text\":\"LINE/LTR\",\"textangle\":0,\"x\":0.9799999999999998,\"xanchor\":\"left\",\"xref\":\"paper\",\"y\":0.7885714285714287,\"yanchor\":\"middle\",\"yref\":\"paper\",\"align\":\"left\"},{\"font\":{\"size\":14},\"showarrow\":false,\"text\":\"cCRE &<br>LINE/LTR\",\"textangle\":0,\"x\":0.9799999999999998,\"xanchor\":\"left\",\"xref\":\"paper\",\"y\":0.6442857142857144,\"yanchor\":\"middle\",\"yref\":\"paper\",\"align\":\"left\"},{\"font\":{\"size\":14},\"showarrow\":false,\"text\":\"CTCF\",\"textangle\":0,\"x\":0.9799999999999998,\"xanchor\":\"left\",\"xref\":\"paper\",\"y\":0.5,\"yanchor\":\"middle\",\"yref\":\"paper\",\"align\":\"left\"},{\"font\":{\"size\":14},\"showarrow\":false,\"text\":\"cCRE &<br>CTCF\",\"textangle\":0,\"x\":0.9799999999999998,\"xanchor\":\"left\",\"xref\":\"paper\",\"y\":0.35571428571428576,\"yanchor\":\"middle\",\"yref\":\"paper\",\"align\":\"left\"},{\"font\":{\"size\":14},\"showarrow\":false,\"text\":\"LINE/LTR &<br>CTCF\",\"textangle\":0,\"x\":0.9799999999999998,\"xanchor\":\"left\",\"xref\":\"paper\",\"y\":0.21142857142857144,\"yanchor\":\"middle\",\"yref\":\"paper\",\"align\":\"left\"},{\"font\":{\"size\":14},\"showarrow\":false,\"text\":\"cCRE &<br>LINE/LTR &<br>CTCF\",\"textangle\":0,\"x\":0.9799999999999998,\"xanchor\":\"left\",\"xref\":\"paper\",\"y\":0.06714285714285714,\"yanchor\":\"middle\",\"yref\":\"paper\",\"align\":\"left\"},{\"font\":{\"size\":14},\"showarrow\":false,\"text\":\"Flipon count\",\"x\":0.49,\"xanchor\":\"center\",\"xref\":\"paper\",\"y\":0,\"yanchor\":\"top\",\"yref\":\"paper\",\"yshift\":-30,\"textangle\":0,\"align\":\"left\"}],\"title\":{\"text\":\"Flipons (26,785)\",\"x\":0.005,\"y\":0.99},\"font\":{\"family\":\"monospace\",\"size\":12},\"uniformtext\":{\"minsize\":12},\"margin\":{\"l\":5,\"t\":55,\"b\":55,\"r\":60},\"legend\":{\"traceorder\":\"reversed\",\"orientation\":\"h\",\"yanchor\":\"bottom\",\"y\":-0.07,\"xanchor\":\"right\",\"x\":0.98},\"height\":900,\"width\":1600},                        {\"responsive\": true}                    ).then(function(){\n",
       "                            \n",
       "var gd = document.getElementById('bc25331f-22de-4251-af09-1fbb52585c06');\n",
       "var x = new MutationObserver(function (mutations, observer) {{\n",
       "        var display = window.getComputedStyle(gd).display;\n",
       "        if (!display || display === 'none') {{\n",
       "            console.log([gd, 'removed!']);\n",
       "            Plotly.purge(gd);\n",
       "            observer.disconnect();\n",
       "        }}\n",
       "}});\n",
       "\n",
       "// Listen for the removal of the full notebook cells\n",
       "var notebookContainer = gd.closest('#notebook-container');\n",
       "if (notebookContainer) {{\n",
       "    x.observe(notebookContainer, {childList: true});\n",
       "}}\n",
       "\n",
       "// Listen for the clearing of the current output cell\n",
       "var outputEl = gd.closest('.output');\n",
       "if (outputEl) {{\n",
       "    x.observe(outputEl, {childList: true});\n",
       "}}\n",
       "\n",
       "                        })                };                });            </script>        </div>"
      ]
     },
     "metadata": {},
     "output_type": "display_data"
    }
   ],
   "source": [
    "groups = [\"G4\", \"Z-DNA\", \"SIDD\", \"H-DNA\"][::-1]\n",
    "annotations = [\n",
    "    \"Promoter (<=1kb)\",\n",
    "    \"Promoter (1-2kb)\",\n",
    "    \"Promoter (2-3kb)\",\n",
    "    \"5' UTR\",\n",
    "    \"3' UTR\",\n",
    "    \"Exon\",\n",
    "    \"Intron\",\n",
    "    \"Downstream (<=300bp)\",\n",
    "    \"Distal Intergenic\",\n",
    "]\n",
    "feature_groups = [\n",
    "    \"cCRE\",\n",
    "    \"LINE/LTR\",\n",
    "    \"cCRE &<br>LINE/LTR\",\n",
    "    \"CTCF\",\n",
    "    \"cCRE &<br>CTCF\",\n",
    "    \"LINE/LTR &<br>CTCF\",\n",
    "    \"cCRE &<br>LINE/LTR &<br>CTCF\",\n",
    "]\n",
    "\n",
    "n_rows = len(feature_groups)\n",
    "n_cols = len(annotations)\n",
    "\n",
    "fig = ps.make_subplots(\n",
    "    rows=n_rows,\n",
    "    cols=n_cols,\n",
    "    shared_xaxes=\"all\",\n",
    "    shared_yaxes=\"all\",\n",
    "    horizontal_spacing=0.004,\n",
    "    vertical_spacing=0.01,\n",
    "    column_titles=annotations,\n",
    "    row_titles=feature_groups,\n",
    "    x_title=\"Flipon count\",\n",
    "    # y_title=\"Flipon group\",\n",
    ")\n",
    "\n",
    "for i, feature_group in enumerate(feature_groups):\n",
    "    for j, annotation in enumerate(annotations):\n",
    "        df = (\n",
    "            plotly_data[\n",
    "                (plotly_data[\"feature_group\"] == feature_group)\n",
    "                & (plotly_data[\"annotation\"] == annotation)\n",
    "            ]\n",
    "            .set_index(\"group\")\n",
    "            .reindex(groups)\n",
    "            .dropna()\n",
    "        )\n",
    "\n",
    "        if not len(df):\n",
    "            continue\n",
    "\n",
    "        colors = {\n",
    "            \"G4\": \"#FE9B54\",\n",
    "            \"Z-DNA\": \"royalblue\",\n",
    "            \"SIDD\": \"#ED4241\",\n",
    "            \"H-DNA\": \"darkorchid\",\n",
    "        }\n",
    "        # https://stackoverflow.com/questions/70347594/how-to-format-plotly-legend-when-using-marker-color\n",
    "        for idx, row in df.iterrows():\n",
    "            sub = pgo.Bar(\n",
    "                x=[row[\"count\"]],\n",
    "                y=[idx],\n",
    "                name=idx,\n",
    "                textposition=\"outside\" if row[\"count\"] < 2100 else \"inside\",\n",
    "                texttemplate=\"%{x:,d}\",\n",
    "                marker=dict(color=colors[idx]),\n",
    "                width=1,\n",
    "                orientation=\"h\",\n",
    "                showlegend=True if (i == 0 and j == 0) else False,\n",
    "            )\n",
    "            fig.add_trace(sub, row=i + 1, col=j + 1)\n",
    "        fig.update_xaxes(ticks=\"\", row=i + 1, col=j + 1)\n",
    "\n",
    "fig.update_xaxes(tickformat=\"s\", showgrid=False)\n",
    "fig.update_xaxes(ticks=\"outside\", row=n_rows)\n",
    "fig.update_yaxes(type=\"category\", visible=False)\n",
    "fig.update_annotations(textangle=0, font=dict(size=14), align='left')\n",
    "fig.update_layout(\n",
    "    title=f\"Flipons ({plotly_data['count'].sum():,d})\",\n",
    "    title_x=0.005, title_y=.99,\n",
    "    height=900,\n",
    "    width=1600,\n",
    "    font=dict(family=\"monospace\", size=12),\n",
    "    uniformtext_minsize=12,\n",
    "    margin=dict(l=5, t=55, b=55, r=60),\n",
    "    legend=dict(\n",
    "        # title_text=\"Flipon group\",\n",
    "        traceorder=\"reversed\",\n",
    "        orientation=\"h\",\n",
    "        yanchor=\"bottom\",\n",
    "        y=-.07,\n",
    "        xanchor=\"right\",\n",
    "        x=0.98,\n",
    "    ),\n",
    "    template=\"ggplot2\",\n",
    ")\n",
    "\n",
    "fig.write_image(d_img / 'enrichment-table-all-flipons-01-mirna-only.png', scale=2)\n",
    "\n",
    "fig.show()\n"
   ]
  },
  {
   "cell_type": "code",
   "execution_count": 72,
   "metadata": {},
   "outputs": [
    {
     "data": {
      "application/vnd.plotly.v1+json": {
       "config": {
        "plotlyServerURL": "https://plot.ly"
       },
       "data": [
        {
         "marker": {
          "color": "darkorchid"
         },
         "name": "H-DNA",
         "orientation": "h",
         "showlegend": true,
         "textposition": "outside",
         "texttemplate": "%{x:,d}",
         "type": "bar",
         "width": 1,
         "x": [
          669
         ],
         "xaxis": "x",
         "y": [
          "H-DNA"
         ],
         "yaxis": "y"
        },
        {
         "marker": {
          "color": "#ED4241"
         },
         "name": "SIDD",
         "orientation": "h",
         "showlegend": true,
         "textposition": "outside",
         "texttemplate": "%{x:,d}",
         "type": "bar",
         "width": 1,
         "x": [
          236
         ],
         "xaxis": "x",
         "y": [
          "SIDD"
         ],
         "yaxis": "y"
        },
        {
         "marker": {
          "color": "royalblue"
         },
         "name": "Z-DNA",
         "orientation": "h",
         "showlegend": true,
         "textposition": "inside",
         "texttemplate": "%{x:,d}",
         "type": "bar",
         "width": 1,
         "x": [
          4271
         ],
         "xaxis": "x",
         "y": [
          "Z-DNA"
         ],
         "yaxis": "y"
        },
        {
         "marker": {
          "color": "#FE9B54"
         },
         "name": "G4",
         "orientation": "h",
         "showlegend": true,
         "textposition": "inside",
         "texttemplate": "%{x:,d}",
         "type": "bar",
         "width": 1,
         "x": [
          3414
         ],
         "xaxis": "x",
         "y": [
          "G4"
         ],
         "yaxis": "y"
        },
        {
         "marker": {
          "color": "darkorchid"
         },
         "name": "H-DNA",
         "orientation": "h",
         "showlegend": false,
         "textposition": "outside",
         "texttemplate": "%{x:,d}",
         "type": "bar",
         "width": 1,
         "x": [
          107
         ],
         "xaxis": "x2",
         "y": [
          "H-DNA"
         ],
         "yaxis": "y2"
        },
        {
         "marker": {
          "color": "#ED4241"
         },
         "name": "SIDD",
         "orientation": "h",
         "showlegend": false,
         "textposition": "outside",
         "texttemplate": "%{x:,d}",
         "type": "bar",
         "width": 1,
         "x": [
          59
         ],
         "xaxis": "x2",
         "y": [
          "SIDD"
         ],
         "yaxis": "y2"
        },
        {
         "marker": {
          "color": "royalblue"
         },
         "name": "Z-DNA",
         "orientation": "h",
         "showlegend": false,
         "textposition": "outside",
         "texttemplate": "%{x:,d}",
         "type": "bar",
         "width": 1,
         "x": [
          409
         ],
         "xaxis": "x2",
         "y": [
          "Z-DNA"
         ],
         "yaxis": "y2"
        },
        {
         "marker": {
          "color": "#FE9B54"
         },
         "name": "G4",
         "orientation": "h",
         "showlegend": false,
         "textposition": "outside",
         "texttemplate": "%{x:,d}",
         "type": "bar",
         "width": 1,
         "x": [
          325
         ],
         "xaxis": "x2",
         "y": [
          "G4"
         ],
         "yaxis": "y2"
        },
        {
         "marker": {
          "color": "darkorchid"
         },
         "name": "H-DNA",
         "orientation": "h",
         "showlegend": false,
         "textposition": "outside",
         "texttemplate": "%{x:,d}",
         "type": "bar",
         "width": 1,
         "x": [
          53
         ],
         "xaxis": "x3",
         "y": [
          "H-DNA"
         ],
         "yaxis": "y3"
        },
        {
         "marker": {
          "color": "#ED4241"
         },
         "name": "SIDD",
         "orientation": "h",
         "showlegend": false,
         "textposition": "outside",
         "texttemplate": "%{x:,d}",
         "type": "bar",
         "width": 1,
         "x": [
          29
         ],
         "xaxis": "x3",
         "y": [
          "SIDD"
         ],
         "yaxis": "y3"
        },
        {
         "marker": {
          "color": "royalblue"
         },
         "name": "Z-DNA",
         "orientation": "h",
         "showlegend": false,
         "textposition": "outside",
         "texttemplate": "%{x:,d}",
         "type": "bar",
         "width": 1,
         "x": [
          193
         ],
         "xaxis": "x3",
         "y": [
          "Z-DNA"
         ],
         "yaxis": "y3"
        },
        {
         "marker": {
          "color": "#FE9B54"
         },
         "name": "G4",
         "orientation": "h",
         "showlegend": false,
         "textposition": "outside",
         "texttemplate": "%{x:,d}",
         "type": "bar",
         "width": 1,
         "x": [
          155
         ],
         "xaxis": "x3",
         "y": [
          "G4"
         ],
         "yaxis": "y3"
        },
        {
         "marker": {
          "color": "#ED4241"
         },
         "name": "SIDD",
         "orientation": "h",
         "showlegend": false,
         "textposition": "outside",
         "texttemplate": "%{x:,d}",
         "type": "bar",
         "width": 1,
         "x": [
          1
         ],
         "xaxis": "x4",
         "y": [
          "SIDD"
         ],
         "yaxis": "y4"
        },
        {
         "marker": {
          "color": "royalblue"
         },
         "name": "Z-DNA",
         "orientation": "h",
         "showlegend": false,
         "textposition": "outside",
         "texttemplate": "%{x:,d}",
         "type": "bar",
         "width": 1,
         "x": [
          2
         ],
         "xaxis": "x4",
         "y": [
          "Z-DNA"
         ],
         "yaxis": "y4"
        },
        {
         "marker": {
          "color": "#FE9B54"
         },
         "name": "G4",
         "orientation": "h",
         "showlegend": false,
         "textposition": "outside",
         "texttemplate": "%{x:,d}",
         "type": "bar",
         "width": 1,
         "x": [
          1
         ],
         "xaxis": "x4",
         "y": [
          "G4"
         ],
         "yaxis": "y4"
        },
        {
         "marker": {
          "color": "darkorchid"
         },
         "name": "H-DNA",
         "orientation": "h",
         "showlegend": false,
         "textposition": "outside",
         "texttemplate": "%{x:,d}",
         "type": "bar",
         "width": 1,
         "x": [
          16
         ],
         "xaxis": "x5",
         "y": [
          "H-DNA"
         ],
         "yaxis": "y5"
        },
        {
         "marker": {
          "color": "#ED4241"
         },
         "name": "SIDD",
         "orientation": "h",
         "showlegend": false,
         "textposition": "outside",
         "texttemplate": "%{x:,d}",
         "type": "bar",
         "width": 1,
         "x": [
          21
         ],
         "xaxis": "x5",
         "y": [
          "SIDD"
         ],
         "yaxis": "y5"
        },
        {
         "marker": {
          "color": "royalblue"
         },
         "name": "Z-DNA",
         "orientation": "h",
         "showlegend": false,
         "textposition": "outside",
         "texttemplate": "%{x:,d}",
         "type": "bar",
         "width": 1,
         "x": [
          44
         ],
         "xaxis": "x5",
         "y": [
          "Z-DNA"
         ],
         "yaxis": "y5"
        },
        {
         "marker": {
          "color": "#FE9B54"
         },
         "name": "G4",
         "orientation": "h",
         "showlegend": false,
         "textposition": "outside",
         "texttemplate": "%{x:,d}",
         "type": "bar",
         "width": 1,
         "x": [
          57
         ],
         "xaxis": "x5",
         "y": [
          "G4"
         ],
         "yaxis": "y5"
        },
        {
         "marker": {
          "color": "darkorchid"
         },
         "name": "H-DNA",
         "orientation": "h",
         "showlegend": false,
         "textposition": "outside",
         "texttemplate": "%{x:,d}",
         "type": "bar",
         "width": 1,
         "x": [
          8
         ],
         "xaxis": "x6",
         "y": [
          "H-DNA"
         ],
         "yaxis": "y6"
        },
        {
         "marker": {
          "color": "#ED4241"
         },
         "name": "SIDD",
         "orientation": "h",
         "showlegend": false,
         "textposition": "outside",
         "texttemplate": "%{x:,d}",
         "type": "bar",
         "width": 1,
         "x": [
          7
         ],
         "xaxis": "x6",
         "y": [
          "SIDD"
         ],
         "yaxis": "y6"
        },
        {
         "marker": {
          "color": "royalblue"
         },
         "name": "Z-DNA",
         "orientation": "h",
         "showlegend": false,
         "textposition": "outside",
         "texttemplate": "%{x:,d}",
         "type": "bar",
         "width": 1,
         "x": [
          221
         ],
         "xaxis": "x6",
         "y": [
          "Z-DNA"
         ],
         "yaxis": "y6"
        },
        {
         "marker": {
          "color": "#FE9B54"
         },
         "name": "G4",
         "orientation": "h",
         "showlegend": false,
         "textposition": "outside",
         "texttemplate": "%{x:,d}",
         "type": "bar",
         "width": 1,
         "x": [
          61
         ],
         "xaxis": "x6",
         "y": [
          "G4"
         ],
         "yaxis": "y6"
        },
        {
         "marker": {
          "color": "darkorchid"
         },
         "name": "H-DNA",
         "orientation": "h",
         "showlegend": false,
         "textposition": "outside",
         "texttemplate": "%{x:,d}",
         "type": "bar",
         "width": 1,
         "x": [
          183
         ],
         "xaxis": "x7",
         "y": [
          "H-DNA"
         ],
         "yaxis": "y7"
        },
        {
         "marker": {
          "color": "#ED4241"
         },
         "name": "SIDD",
         "orientation": "h",
         "showlegend": false,
         "textposition": "outside",
         "texttemplate": "%{x:,d}",
         "type": "bar",
         "width": 1,
         "x": [
          80
         ],
         "xaxis": "x7",
         "y": [
          "SIDD"
         ],
         "yaxis": "y7"
        },
        {
         "marker": {
          "color": "royalblue"
         },
         "name": "Z-DNA",
         "orientation": "h",
         "showlegend": false,
         "textposition": "outside",
         "texttemplate": "%{x:,d}",
         "type": "bar",
         "width": 1,
         "x": [
          327
         ],
         "xaxis": "x7",
         "y": [
          "Z-DNA"
         ],
         "yaxis": "y7"
        },
        {
         "marker": {
          "color": "#FE9B54"
         },
         "name": "G4",
         "orientation": "h",
         "showlegend": false,
         "textposition": "outside",
         "texttemplate": "%{x:,d}",
         "type": "bar",
         "width": 1,
         "x": [
          374
         ],
         "xaxis": "x7",
         "y": [
          "G4"
         ],
         "yaxis": "y7"
        },
        {
         "marker": {
          "color": "royalblue"
         },
         "name": "Z-DNA",
         "orientation": "h",
         "showlegend": false,
         "textposition": "outside",
         "texttemplate": "%{x:,d}",
         "type": "bar",
         "width": 1,
         "x": [
          4
         ],
         "xaxis": "x8",
         "y": [
          "Z-DNA"
         ],
         "yaxis": "y8"
        },
        {
         "marker": {
          "color": "#FE9B54"
         },
         "name": "G4",
         "orientation": "h",
         "showlegend": false,
         "textposition": "outside",
         "texttemplate": "%{x:,d}",
         "type": "bar",
         "width": 1,
         "x": [
          4
         ],
         "xaxis": "x8",
         "y": [
          "G4"
         ],
         "yaxis": "y8"
        },
        {
         "marker": {
          "color": "darkorchid"
         },
         "name": "H-DNA",
         "orientation": "h",
         "showlegend": false,
         "textposition": "outside",
         "texttemplate": "%{x:,d}",
         "type": "bar",
         "width": 1,
         "x": [
          189
         ],
         "xaxis": "x9",
         "y": [
          "H-DNA"
         ],
         "yaxis": "y9"
        },
        {
         "marker": {
          "color": "#ED4241"
         },
         "name": "SIDD",
         "orientation": "h",
         "showlegend": false,
         "textposition": "outside",
         "texttemplate": "%{x:,d}",
         "type": "bar",
         "width": 1,
         "x": [
          64
         ],
         "xaxis": "x9",
         "y": [
          "SIDD"
         ],
         "yaxis": "y9"
        },
        {
         "marker": {
          "color": "royalblue"
         },
         "name": "Z-DNA",
         "orientation": "h",
         "showlegend": false,
         "textposition": "outside",
         "texttemplate": "%{x:,d}",
         "type": "bar",
         "width": 1,
         "x": [
          291
         ],
         "xaxis": "x9",
         "y": [
          "Z-DNA"
         ],
         "yaxis": "y9"
        },
        {
         "marker": {
          "color": "#FE9B54"
         },
         "name": "G4",
         "orientation": "h",
         "showlegend": false,
         "textposition": "outside",
         "texttemplate": "%{x:,d}",
         "type": "bar",
         "width": 1,
         "x": [
          329
         ],
         "xaxis": "x9",
         "y": [
          "G4"
         ],
         "yaxis": "y9"
        },
        {
         "marker": {
          "color": "darkorchid"
         },
         "name": "H-DNA",
         "orientation": "h",
         "showlegend": false,
         "textposition": "outside",
         "texttemplate": "%{x:,d}",
         "type": "bar",
         "width": 1,
         "x": [
          306
         ],
         "xaxis": "x10",
         "y": [
          "H-DNA"
         ],
         "yaxis": "y10"
        },
        {
         "marker": {
          "color": "#ED4241"
         },
         "name": "SIDD",
         "orientation": "h",
         "showlegend": false,
         "textposition": "outside",
         "texttemplate": "%{x:,d}",
         "type": "bar",
         "width": 1,
         "x": [
          445
         ],
         "xaxis": "x10",
         "y": [
          "SIDD"
         ],
         "yaxis": "y10"
        },
        {
         "marker": {
          "color": "royalblue"
         },
         "name": "Z-DNA",
         "orientation": "h",
         "showlegend": false,
         "textposition": "outside",
         "texttemplate": "%{x:,d}",
         "type": "bar",
         "width": 1,
         "x": [
          298
         ],
         "xaxis": "x10",
         "y": [
          "Z-DNA"
         ],
         "yaxis": "y10"
        },
        {
         "marker": {
          "color": "#FE9B54"
         },
         "name": "G4",
         "orientation": "h",
         "showlegend": false,
         "textposition": "outside",
         "texttemplate": "%{x:,d}",
         "type": "bar",
         "width": 1,
         "x": [
          247
         ],
         "xaxis": "x10",
         "y": [
          "G4"
         ],
         "yaxis": "y10"
        },
        {
         "marker": {
          "color": "darkorchid"
         },
         "name": "H-DNA",
         "orientation": "h",
         "showlegend": false,
         "textposition": "outside",
         "texttemplate": "%{x:,d}",
         "type": "bar",
         "width": 1,
         "x": [
          295
         ],
         "xaxis": "x11",
         "y": [
          "H-DNA"
         ],
         "yaxis": "y11"
        },
        {
         "marker": {
          "color": "#ED4241"
         },
         "name": "SIDD",
         "orientation": "h",
         "showlegend": false,
         "textposition": "outside",
         "texttemplate": "%{x:,d}",
         "type": "bar",
         "width": 1,
         "x": [
          446
         ],
         "xaxis": "x11",
         "y": [
          "SIDD"
         ],
         "yaxis": "y11"
        },
        {
         "marker": {
          "color": "royalblue"
         },
         "name": "Z-DNA",
         "orientation": "h",
         "showlegend": false,
         "textposition": "outside",
         "texttemplate": "%{x:,d}",
         "type": "bar",
         "width": 1,
         "x": [
          221
         ],
         "xaxis": "x11",
         "y": [
          "Z-DNA"
         ],
         "yaxis": "y11"
        },
        {
         "marker": {
          "color": "#FE9B54"
         },
         "name": "G4",
         "orientation": "h",
         "showlegend": false,
         "textposition": "outside",
         "texttemplate": "%{x:,d}",
         "type": "bar",
         "width": 1,
         "x": [
          293
         ],
         "xaxis": "x11",
         "y": [
          "G4"
         ],
         "yaxis": "y11"
        },
        {
         "marker": {
          "color": "darkorchid"
         },
         "name": "H-DNA",
         "orientation": "h",
         "showlegend": false,
         "textposition": "outside",
         "texttemplate": "%{x:,d}",
         "type": "bar",
         "width": 1,
         "x": [
          328
         ],
         "xaxis": "x12",
         "y": [
          "H-DNA"
         ],
         "yaxis": "y12"
        },
        {
         "marker": {
          "color": "#ED4241"
         },
         "name": "SIDD",
         "orientation": "h",
         "showlegend": false,
         "textposition": "outside",
         "texttemplate": "%{x:,d}",
         "type": "bar",
         "width": 1,
         "x": [
          385
         ],
         "xaxis": "x12",
         "y": [
          "SIDD"
         ],
         "yaxis": "y12"
        },
        {
         "marker": {
          "color": "royalblue"
         },
         "name": "Z-DNA",
         "orientation": "h",
         "showlegend": false,
         "textposition": "outside",
         "texttemplate": "%{x:,d}",
         "type": "bar",
         "width": 1,
         "x": [
          296
         ],
         "xaxis": "x12",
         "y": [
          "Z-DNA"
         ],
         "yaxis": "y12"
        },
        {
         "marker": {
          "color": "#FE9B54"
         },
         "name": "G4",
         "orientation": "h",
         "showlegend": false,
         "textposition": "outside",
         "texttemplate": "%{x:,d}",
         "type": "bar",
         "width": 1,
         "x": [
          257
         ],
         "xaxis": "x12",
         "y": [
          "G4"
         ],
         "yaxis": "y12"
        },
        {
         "marker": {
          "color": "royalblue"
         },
         "name": "Z-DNA",
         "orientation": "h",
         "showlegend": false,
         "textposition": "outside",
         "texttemplate": "%{x:,d}",
         "type": "bar",
         "width": 1,
         "x": [
          1
         ],
         "xaxis": "x13",
         "y": [
          "Z-DNA"
         ],
         "yaxis": "y13"
        },
        {
         "marker": {
          "color": "darkorchid"
         },
         "name": "H-DNA",
         "orientation": "h",
         "showlegend": false,
         "textposition": "outside",
         "texttemplate": "%{x:,d}",
         "type": "bar",
         "width": 1,
         "x": [
          19
         ],
         "xaxis": "x14",
         "y": [
          "H-DNA"
         ],
         "yaxis": "y14"
        },
        {
         "marker": {
          "color": "#ED4241"
         },
         "name": "SIDD",
         "orientation": "h",
         "showlegend": false,
         "textposition": "outside",
         "texttemplate": "%{x:,d}",
         "type": "bar",
         "width": 1,
         "x": [
          48
         ],
         "xaxis": "x14",
         "y": [
          "SIDD"
         ],
         "yaxis": "y14"
        },
        {
         "marker": {
          "color": "royalblue"
         },
         "name": "Z-DNA",
         "orientation": "h",
         "showlegend": false,
         "textposition": "outside",
         "texttemplate": "%{x:,d}",
         "type": "bar",
         "width": 1,
         "x": [
          26
         ],
         "xaxis": "x14",
         "y": [
          "Z-DNA"
         ],
         "yaxis": "y14"
        },
        {
         "marker": {
          "color": "#FE9B54"
         },
         "name": "G4",
         "orientation": "h",
         "showlegend": false,
         "textposition": "outside",
         "texttemplate": "%{x:,d}",
         "type": "bar",
         "width": 1,
         "x": [
          18
         ],
         "xaxis": "x14",
         "y": [
          "G4"
         ],
         "yaxis": "y14"
        },
        {
         "marker": {
          "color": "darkorchid"
         },
         "name": "H-DNA",
         "orientation": "h",
         "showlegend": false,
         "textposition": "outside",
         "texttemplate": "%{x:,d}",
         "type": "bar",
         "width": 1,
         "x": [
          16
         ],
         "xaxis": "x15",
         "y": [
          "H-DNA"
         ],
         "yaxis": "y15"
        },
        {
         "marker": {
          "color": "#ED4241"
         },
         "name": "SIDD",
         "orientation": "h",
         "showlegend": false,
         "textposition": "outside",
         "texttemplate": "%{x:,d}",
         "type": "bar",
         "width": 1,
         "x": [
          47
         ],
         "xaxis": "x15",
         "y": [
          "SIDD"
         ],
         "yaxis": "y15"
        },
        {
         "marker": {
          "color": "royalblue"
         },
         "name": "Z-DNA",
         "orientation": "h",
         "showlegend": false,
         "textposition": "outside",
         "texttemplate": "%{x:,d}",
         "type": "bar",
         "width": 1,
         "x": [
          30
         ],
         "xaxis": "x15",
         "y": [
          "Z-DNA"
         ],
         "yaxis": "y15"
        },
        {
         "marker": {
          "color": "#FE9B54"
         },
         "name": "G4",
         "orientation": "h",
         "showlegend": false,
         "textposition": "outside",
         "texttemplate": "%{x:,d}",
         "type": "bar",
         "width": 1,
         "x": [
          21
         ],
         "xaxis": "x15",
         "y": [
          "G4"
         ],
         "yaxis": "y15"
        },
        {
         "marker": {
          "color": "darkorchid"
         },
         "name": "H-DNA",
         "orientation": "h",
         "showlegend": false,
         "textposition": "inside",
         "texttemplate": "%{x:,d}",
         "type": "bar",
         "width": 1,
         "x": [
          2645
         ],
         "xaxis": "x16",
         "y": [
          "H-DNA"
         ],
         "yaxis": "y16"
        },
        {
         "marker": {
          "color": "#ED4241"
         },
         "name": "SIDD",
         "orientation": "h",
         "showlegend": false,
         "textposition": "inside",
         "texttemplate": "%{x:,d}",
         "type": "bar",
         "width": 1,
         "x": [
          3429
         ],
         "xaxis": "x16",
         "y": [
          "SIDD"
         ],
         "yaxis": "y16"
        },
        {
         "marker": {
          "color": "royalblue"
         },
         "name": "Z-DNA",
         "orientation": "h",
         "showlegend": false,
         "textposition": "outside",
         "texttemplate": "%{x:,d}",
         "type": "bar",
         "width": 1,
         "x": [
          1805
         ],
         "xaxis": "x16",
         "y": [
          "Z-DNA"
         ],
         "yaxis": "y16"
        },
        {
         "marker": {
          "color": "#FE9B54"
         },
         "name": "G4",
         "orientation": "h",
         "showlegend": false,
         "textposition": "inside",
         "texttemplate": "%{x:,d}",
         "type": "bar",
         "width": 1,
         "x": [
          2412
         ],
         "xaxis": "x16",
         "y": [
          "G4"
         ],
         "yaxis": "y16"
        },
        {
         "marker": {
          "color": "darkorchid"
         },
         "name": "H-DNA",
         "orientation": "h",
         "showlegend": false,
         "textposition": "outside",
         "texttemplate": "%{x:,d}",
         "type": "bar",
         "width": 1,
         "x": [
          5
         ],
         "xaxis": "x17",
         "y": [
          "H-DNA"
         ],
         "yaxis": "y17"
        },
        {
         "marker": {
          "color": "#ED4241"
         },
         "name": "SIDD",
         "orientation": "h",
         "showlegend": false,
         "textposition": "outside",
         "texttemplate": "%{x:,d}",
         "type": "bar",
         "width": 1,
         "x": [
          10
         ],
         "xaxis": "x17",
         "y": [
          "SIDD"
         ],
         "yaxis": "y17"
        },
        {
         "marker": {
          "color": "royalblue"
         },
         "name": "Z-DNA",
         "orientation": "h",
         "showlegend": false,
         "textposition": "outside",
         "texttemplate": "%{x:,d}",
         "type": "bar",
         "width": 1,
         "x": [
          5
         ],
         "xaxis": "x17",
         "y": [
          "Z-DNA"
         ],
         "yaxis": "y17"
        },
        {
         "marker": {
          "color": "#FE9B54"
         },
         "name": "G4",
         "orientation": "h",
         "showlegend": false,
         "textposition": "outside",
         "texttemplate": "%{x:,d}",
         "type": "bar",
         "width": 1,
         "x": [
          5
         ],
         "xaxis": "x17",
         "y": [
          "G4"
         ],
         "yaxis": "y17"
        },
        {
         "marker": {
          "color": "darkorchid"
         },
         "name": "H-DNA",
         "orientation": "h",
         "showlegend": false,
         "textposition": "inside",
         "texttemplate": "%{x:,d}",
         "type": "bar",
         "width": 1,
         "x": [
          6036
         ],
         "xaxis": "x18",
         "y": [
          "H-DNA"
         ],
         "yaxis": "y18"
        },
        {
         "marker": {
          "color": "#ED4241"
         },
         "name": "SIDD",
         "orientation": "h",
         "showlegend": false,
         "textposition": "inside",
         "texttemplate": "%{x:,d}",
         "type": "bar",
         "width": 1,
         "x": [
          8395
         ],
         "xaxis": "x18",
         "y": [
          "SIDD"
         ],
         "yaxis": "y18"
        },
        {
         "marker": {
          "color": "royalblue"
         },
         "name": "Z-DNA",
         "orientation": "h",
         "showlegend": false,
         "textposition": "inside",
         "texttemplate": "%{x:,d}",
         "type": "bar",
         "width": 1,
         "x": [
          4484
         ],
         "xaxis": "x18",
         "y": [
          "Z-DNA"
         ],
         "yaxis": "y18"
        },
        {
         "marker": {
          "color": "#FE9B54"
         },
         "name": "G4",
         "orientation": "h",
         "showlegend": false,
         "textposition": "inside",
         "texttemplate": "%{x:,d}",
         "type": "bar",
         "width": 1,
         "x": [
          5133
         ],
         "xaxis": "x18",
         "y": [
          "G4"
         ],
         "yaxis": "y18"
        },
        {
         "marker": {
          "color": "darkorchid"
         },
         "name": "H-DNA",
         "orientation": "h",
         "showlegend": false,
         "textposition": "outside",
         "texttemplate": "%{x:,d}",
         "type": "bar",
         "width": 1,
         "x": [
          46
         ],
         "xaxis": "x19",
         "y": [
          "H-DNA"
         ],
         "yaxis": "y19"
        },
        {
         "marker": {
          "color": "#ED4241"
         },
         "name": "SIDD",
         "orientation": "h",
         "showlegend": false,
         "textposition": "outside",
         "texttemplate": "%{x:,d}",
         "type": "bar",
         "width": 1,
         "x": [
          31
         ],
         "xaxis": "x19",
         "y": [
          "SIDD"
         ],
         "yaxis": "y19"
        },
        {
         "marker": {
          "color": "royalblue"
         },
         "name": "Z-DNA",
         "orientation": "h",
         "showlegend": false,
         "textposition": "outside",
         "texttemplate": "%{x:,d}",
         "type": "bar",
         "width": 1,
         "x": [
          40
         ],
         "xaxis": "x19",
         "y": [
          "Z-DNA"
         ],
         "yaxis": "y19"
        },
        {
         "marker": {
          "color": "#FE9B54"
         },
         "name": "G4",
         "orientation": "h",
         "showlegend": false,
         "textposition": "outside",
         "texttemplate": "%{x:,d}",
         "type": "bar",
         "width": 1,
         "x": [
          42
         ],
         "xaxis": "x19",
         "y": [
          "G4"
         ],
         "yaxis": "y19"
        },
        {
         "marker": {
          "color": "darkorchid"
         },
         "name": "H-DNA",
         "orientation": "h",
         "showlegend": false,
         "textposition": "outside",
         "texttemplate": "%{x:,d}",
         "type": "bar",
         "width": 1,
         "x": [
          17
         ],
         "xaxis": "x20",
         "y": [
          "H-DNA"
         ],
         "yaxis": "y20"
        },
        {
         "marker": {
          "color": "#ED4241"
         },
         "name": "SIDD",
         "orientation": "h",
         "showlegend": false,
         "textposition": "outside",
         "texttemplate": "%{x:,d}",
         "type": "bar",
         "width": 1,
         "x": [
          12
         ],
         "xaxis": "x20",
         "y": [
          "SIDD"
         ],
         "yaxis": "y20"
        },
        {
         "marker": {
          "color": "royalblue"
         },
         "name": "Z-DNA",
         "orientation": "h",
         "showlegend": false,
         "textposition": "outside",
         "texttemplate": "%{x:,d}",
         "type": "bar",
         "width": 1,
         "x": [
          8
         ],
         "xaxis": "x20",
         "y": [
          "Z-DNA"
         ],
         "yaxis": "y20"
        },
        {
         "marker": {
          "color": "#FE9B54"
         },
         "name": "G4",
         "orientation": "h",
         "showlegend": false,
         "textposition": "outside",
         "texttemplate": "%{x:,d}",
         "type": "bar",
         "width": 1,
         "x": [
          15
         ],
         "xaxis": "x20",
         "y": [
          "G4"
         ],
         "yaxis": "y20"
        },
        {
         "marker": {
          "color": "darkorchid"
         },
         "name": "H-DNA",
         "orientation": "h",
         "showlegend": false,
         "textposition": "outside",
         "texttemplate": "%{x:,d}",
         "type": "bar",
         "width": 1,
         "x": [
          19
         ],
         "xaxis": "x21",
         "y": [
          "H-DNA"
         ],
         "yaxis": "y21"
        },
        {
         "marker": {
          "color": "#ED4241"
         },
         "name": "SIDD",
         "orientation": "h",
         "showlegend": false,
         "textposition": "outside",
         "texttemplate": "%{x:,d}",
         "type": "bar",
         "width": 1,
         "x": [
          19
         ],
         "xaxis": "x21",
         "y": [
          "SIDD"
         ],
         "yaxis": "y21"
        },
        {
         "marker": {
          "color": "royalblue"
         },
         "name": "Z-DNA",
         "orientation": "h",
         "showlegend": false,
         "textposition": "outside",
         "texttemplate": "%{x:,d}",
         "type": "bar",
         "width": 1,
         "x": [
          7
         ],
         "xaxis": "x21",
         "y": [
          "Z-DNA"
         ],
         "yaxis": "y21"
        },
        {
         "marker": {
          "color": "#FE9B54"
         },
         "name": "G4",
         "orientation": "h",
         "showlegend": false,
         "textposition": "outside",
         "texttemplate": "%{x:,d}",
         "type": "bar",
         "width": 1,
         "x": [
          10
         ],
         "xaxis": "x21",
         "y": [
          "G4"
         ],
         "yaxis": "y21"
        },
        {
         "marker": {
          "color": "#ED4241"
         },
         "name": "SIDD",
         "orientation": "h",
         "showlegend": false,
         "textposition": "outside",
         "texttemplate": "%{x:,d}",
         "type": "bar",
         "width": 1,
         "x": [
          1
         ],
         "xaxis": "x23",
         "y": [
          "SIDD"
         ],
         "yaxis": "y23"
        },
        {
         "marker": {
          "color": "royalblue"
         },
         "name": "Z-DNA",
         "orientation": "h",
         "showlegend": false,
         "textposition": "outside",
         "texttemplate": "%{x:,d}",
         "type": "bar",
         "width": 1,
         "x": [
          1
         ],
         "xaxis": "x24",
         "y": [
          "Z-DNA"
         ],
         "yaxis": "y24"
        },
        {
         "marker": {
          "color": "#FE9B54"
         },
         "name": "G4",
         "orientation": "h",
         "showlegend": false,
         "textposition": "outside",
         "texttemplate": "%{x:,d}",
         "type": "bar",
         "width": 1,
         "x": [
          2
         ],
         "xaxis": "x24",
         "y": [
          "G4"
         ],
         "yaxis": "y24"
        },
        {
         "marker": {
          "color": "darkorchid"
         },
         "name": "H-DNA",
         "orientation": "h",
         "showlegend": false,
         "textposition": "outside",
         "texttemplate": "%{x:,d}",
         "type": "bar",
         "width": 1,
         "x": [
          90
         ],
         "xaxis": "x25",
         "y": [
          "H-DNA"
         ],
         "yaxis": "y25"
        },
        {
         "marker": {
          "color": "#ED4241"
         },
         "name": "SIDD",
         "orientation": "h",
         "showlegend": false,
         "textposition": "outside",
         "texttemplate": "%{x:,d}",
         "type": "bar",
         "width": 1,
         "x": [
          84
         ],
         "xaxis": "x25",
         "y": [
          "SIDD"
         ],
         "yaxis": "y25"
        },
        {
         "marker": {
          "color": "royalblue"
         },
         "name": "Z-DNA",
         "orientation": "h",
         "showlegend": false,
         "textposition": "outside",
         "texttemplate": "%{x:,d}",
         "type": "bar",
         "width": 1,
         "x": [
          79
         ],
         "xaxis": "x25",
         "y": [
          "Z-DNA"
         ],
         "yaxis": "y25"
        },
        {
         "marker": {
          "color": "#FE9B54"
         },
         "name": "G4",
         "orientation": "h",
         "showlegend": false,
         "textposition": "outside",
         "texttemplate": "%{x:,d}",
         "type": "bar",
         "width": 1,
         "x": [
          54
         ],
         "xaxis": "x25",
         "y": [
          "G4"
         ],
         "yaxis": "y25"
        },
        {
         "marker": {
          "color": "#FE9B54"
         },
         "name": "G4",
         "orientation": "h",
         "showlegend": false,
         "textposition": "outside",
         "texttemplate": "%{x:,d}",
         "type": "bar",
         "width": 1,
         "x": [
          1
         ],
         "xaxis": "x26",
         "y": [
          "G4"
         ],
         "yaxis": "y26"
        },
        {
         "marker": {
          "color": "darkorchid"
         },
         "name": "H-DNA",
         "orientation": "h",
         "showlegend": false,
         "textposition": "outside",
         "texttemplate": "%{x:,d}",
         "type": "bar",
         "width": 1,
         "x": [
          140
         ],
         "xaxis": "x27",
         "y": [
          "H-DNA"
         ],
         "yaxis": "y27"
        },
        {
         "marker": {
          "color": "#ED4241"
         },
         "name": "SIDD",
         "orientation": "h",
         "showlegend": false,
         "textposition": "outside",
         "texttemplate": "%{x:,d}",
         "type": "bar",
         "width": 1,
         "x": [
          83
         ],
         "xaxis": "x27",
         "y": [
          "SIDD"
         ],
         "yaxis": "y27"
        },
        {
         "marker": {
          "color": "royalblue"
         },
         "name": "Z-DNA",
         "orientation": "h",
         "showlegend": false,
         "textposition": "outside",
         "texttemplate": "%{x:,d}",
         "type": "bar",
         "width": 1,
         "x": [
          99
         ],
         "xaxis": "x27",
         "y": [
          "Z-DNA"
         ],
         "yaxis": "y27"
        },
        {
         "marker": {
          "color": "#FE9B54"
         },
         "name": "G4",
         "orientation": "h",
         "showlegend": false,
         "textposition": "outside",
         "texttemplate": "%{x:,d}",
         "type": "bar",
         "width": 1,
         "x": [
          92
         ],
         "xaxis": "x27",
         "y": [
          "G4"
         ],
         "yaxis": "y27"
        },
        {
         "marker": {
          "color": "darkorchid"
         },
         "name": "H-DNA",
         "orientation": "h",
         "showlegend": false,
         "textposition": "outside",
         "texttemplate": "%{x:,d}",
         "type": "bar",
         "width": 1,
         "x": [
          4
         ],
         "xaxis": "x28",
         "y": [
          "H-DNA"
         ],
         "yaxis": "y28"
        },
        {
         "marker": {
          "color": "royalblue"
         },
         "name": "Z-DNA",
         "orientation": "h",
         "showlegend": false,
         "textposition": "outside",
         "texttemplate": "%{x:,d}",
         "type": "bar",
         "width": 1,
         "x": [
          4
         ],
         "xaxis": "x28",
         "y": [
          "Z-DNA"
         ],
         "yaxis": "y28"
        },
        {
         "marker": {
          "color": "#FE9B54"
         },
         "name": "G4",
         "orientation": "h",
         "showlegend": false,
         "textposition": "outside",
         "texttemplate": "%{x:,d}",
         "type": "bar",
         "width": 1,
         "x": [
          4
         ],
         "xaxis": "x28",
         "y": [
          "G4"
         ],
         "yaxis": "y28"
        },
        {
         "marker": {
          "color": "darkorchid"
         },
         "name": "H-DNA",
         "orientation": "h",
         "showlegend": false,
         "textposition": "outside",
         "texttemplate": "%{x:,d}",
         "type": "bar",
         "width": 1,
         "x": [
          1
         ],
         "xaxis": "x29",
         "y": [
          "H-DNA"
         ],
         "yaxis": "y29"
        },
        {
         "marker": {
          "color": "#ED4241"
         },
         "name": "SIDD",
         "orientation": "h",
         "showlegend": false,
         "textposition": "outside",
         "texttemplate": "%{x:,d}",
         "type": "bar",
         "width": 1,
         "x": [
          2
         ],
         "xaxis": "x29",
         "y": [
          "SIDD"
         ],
         "yaxis": "y29"
        },
        {
         "marker": {
          "color": "#FE9B54"
         },
         "name": "G4",
         "orientation": "h",
         "showlegend": false,
         "textposition": "outside",
         "texttemplate": "%{x:,d}",
         "type": "bar",
         "width": 1,
         "x": [
          3
         ],
         "xaxis": "x29",
         "y": [
          "G4"
         ],
         "yaxis": "y29"
        },
        {
         "marker": {
          "color": "darkorchid"
         },
         "name": "H-DNA",
         "orientation": "h",
         "showlegend": false,
         "textposition": "outside",
         "texttemplate": "%{x:,d}",
         "type": "bar",
         "width": 1,
         "x": [
          4
         ],
         "xaxis": "x30",
         "y": [
          "H-DNA"
         ],
         "yaxis": "y30"
        },
        {
         "marker": {
          "color": "#ED4241"
         },
         "name": "SIDD",
         "orientation": "h",
         "showlegend": false,
         "textposition": "outside",
         "texttemplate": "%{x:,d}",
         "type": "bar",
         "width": 1,
         "x": [
          3
         ],
         "xaxis": "x30",
         "y": [
          "SIDD"
         ],
         "yaxis": "y30"
        },
        {
         "marker": {
          "color": "royalblue"
         },
         "name": "Z-DNA",
         "orientation": "h",
         "showlegend": false,
         "textposition": "outside",
         "texttemplate": "%{x:,d}",
         "type": "bar",
         "width": 1,
         "x": [
          5
         ],
         "xaxis": "x30",
         "y": [
          "Z-DNA"
         ],
         "yaxis": "y30"
        },
        {
         "marker": {
          "color": "#FE9B54"
         },
         "name": "G4",
         "orientation": "h",
         "showlegend": false,
         "textposition": "outside",
         "texttemplate": "%{x:,d}",
         "type": "bar",
         "width": 1,
         "x": [
          1
         ],
         "xaxis": "x30",
         "y": [
          "G4"
         ],
         "yaxis": "y30"
        },
        {
         "marker": {
          "color": "#ED4241"
         },
         "name": "SIDD",
         "orientation": "h",
         "showlegend": false,
         "textposition": "outside",
         "texttemplate": "%{x:,d}",
         "type": "bar",
         "width": 1,
         "x": [
          2
         ],
         "xaxis": "x32",
         "y": [
          "SIDD"
         ],
         "yaxis": "y32"
        },
        {
         "marker": {
          "color": "#FE9B54"
         },
         "name": "G4",
         "orientation": "h",
         "showlegend": false,
         "textposition": "outside",
         "texttemplate": "%{x:,d}",
         "type": "bar",
         "width": 1,
         "x": [
          1
         ],
         "xaxis": "x32",
         "y": [
          "G4"
         ],
         "yaxis": "y32"
        },
        {
         "marker": {
          "color": "royalblue"
         },
         "name": "Z-DNA",
         "orientation": "h",
         "showlegend": false,
         "textposition": "outside",
         "texttemplate": "%{x:,d}",
         "type": "bar",
         "width": 1,
         "x": [
          3
         ],
         "xaxis": "x33",
         "y": [
          "Z-DNA"
         ],
         "yaxis": "y33"
        },
        {
         "marker": {
          "color": "darkorchid"
         },
         "name": "H-DNA",
         "orientation": "h",
         "showlegend": false,
         "textposition": "outside",
         "texttemplate": "%{x:,d}",
         "type": "bar",
         "width": 1,
         "x": [
          19
         ],
         "xaxis": "x34",
         "y": [
          "H-DNA"
         ],
         "yaxis": "y34"
        },
        {
         "marker": {
          "color": "#ED4241"
         },
         "name": "SIDD",
         "orientation": "h",
         "showlegend": false,
         "textposition": "outside",
         "texttemplate": "%{x:,d}",
         "type": "bar",
         "width": 1,
         "x": [
          7
         ],
         "xaxis": "x34",
         "y": [
          "SIDD"
         ],
         "yaxis": "y34"
        },
        {
         "marker": {
          "color": "royalblue"
         },
         "name": "Z-DNA",
         "orientation": "h",
         "showlegend": false,
         "textposition": "outside",
         "texttemplate": "%{x:,d}",
         "type": "bar",
         "width": 1,
         "x": [
          23
         ],
         "xaxis": "x34",
         "y": [
          "Z-DNA"
         ],
         "yaxis": "y34"
        },
        {
         "marker": {
          "color": "#FE9B54"
         },
         "name": "G4",
         "orientation": "h",
         "showlegend": false,
         "textposition": "outside",
         "texttemplate": "%{x:,d}",
         "type": "bar",
         "width": 1,
         "x": [
          18
         ],
         "xaxis": "x34",
         "y": [
          "G4"
         ],
         "yaxis": "y34"
        },
        {
         "marker": {
          "color": "darkorchid"
         },
         "name": "H-DNA",
         "orientation": "h",
         "showlegend": false,
         "textposition": "outside",
         "texttemplate": "%{x:,d}",
         "type": "bar",
         "width": 1,
         "x": [
          20
         ],
         "xaxis": "x36",
         "y": [
          "H-DNA"
         ],
         "yaxis": "y36"
        },
        {
         "marker": {
          "color": "#ED4241"
         },
         "name": "SIDD",
         "orientation": "h",
         "showlegend": false,
         "textposition": "outside",
         "texttemplate": "%{x:,d}",
         "type": "bar",
         "width": 1,
         "x": [
          2
         ],
         "xaxis": "x36",
         "y": [
          "SIDD"
         ],
         "yaxis": "y36"
        },
        {
         "marker": {
          "color": "royalblue"
         },
         "name": "Z-DNA",
         "orientation": "h",
         "showlegend": false,
         "textposition": "outside",
         "texttemplate": "%{x:,d}",
         "type": "bar",
         "width": 1,
         "x": [
          19
         ],
         "xaxis": "x36",
         "y": [
          "Z-DNA"
         ],
         "yaxis": "y36"
        },
        {
         "marker": {
          "color": "#FE9B54"
         },
         "name": "G4",
         "orientation": "h",
         "showlegend": false,
         "textposition": "outside",
         "texttemplate": "%{x:,d}",
         "type": "bar",
         "width": 1,
         "x": [
          15
         ],
         "xaxis": "x36",
         "y": [
          "G4"
         ],
         "yaxis": "y36"
        },
        {
         "marker": {
          "color": "darkorchid"
         },
         "name": "H-DNA",
         "orientation": "h",
         "showlegend": false,
         "textposition": "outside",
         "texttemplate": "%{x:,d}",
         "type": "bar",
         "width": 1,
         "x": [
          569
         ],
         "xaxis": "x37",
         "y": [
          "H-DNA"
         ],
         "yaxis": "y37"
        },
        {
         "marker": {
          "color": "#ED4241"
         },
         "name": "SIDD",
         "orientation": "h",
         "showlegend": false,
         "textposition": "outside",
         "texttemplate": "%{x:,d}",
         "type": "bar",
         "width": 1,
         "x": [
          182
         ],
         "xaxis": "x37",
         "y": [
          "SIDD"
         ],
         "yaxis": "y37"
        },
        {
         "marker": {
          "color": "royalblue"
         },
         "name": "Z-DNA",
         "orientation": "h",
         "showlegend": false,
         "textposition": "inside",
         "texttemplate": "%{x:,d}",
         "type": "bar",
         "width": 1,
         "x": [
          4838
         ],
         "xaxis": "x37",
         "y": [
          "Z-DNA"
         ],
         "yaxis": "y37"
        },
        {
         "marker": {
          "color": "#FE9B54"
         },
         "name": "G4",
         "orientation": "h",
         "showlegend": false,
         "textposition": "inside",
         "texttemplate": "%{x:,d}",
         "type": "bar",
         "width": 1,
         "x": [
          2958
         ],
         "xaxis": "x37",
         "y": [
          "G4"
         ],
         "yaxis": "y37"
        },
        {
         "marker": {
          "color": "darkorchid"
         },
         "name": "H-DNA",
         "orientation": "h",
         "showlegend": false,
         "textposition": "outside",
         "texttemplate": "%{x:,d}",
         "type": "bar",
         "width": 1,
         "x": [
          61
         ],
         "xaxis": "x38",
         "y": [
          "H-DNA"
         ],
         "yaxis": "y38"
        },
        {
         "marker": {
          "color": "#ED4241"
         },
         "name": "SIDD",
         "orientation": "h",
         "showlegend": false,
         "textposition": "outside",
         "texttemplate": "%{x:,d}",
         "type": "bar",
         "width": 1,
         "x": [
          35
         ],
         "xaxis": "x38",
         "y": [
          "SIDD"
         ],
         "yaxis": "y38"
        },
        {
         "marker": {
          "color": "royalblue"
         },
         "name": "Z-DNA",
         "orientation": "h",
         "showlegend": false,
         "textposition": "outside",
         "texttemplate": "%{x:,d}",
         "type": "bar",
         "width": 1,
         "x": [
          388
         ],
         "xaxis": "x38",
         "y": [
          "Z-DNA"
         ],
         "yaxis": "y38"
        },
        {
         "marker": {
          "color": "#FE9B54"
         },
         "name": "G4",
         "orientation": "h",
         "showlegend": false,
         "textposition": "outside",
         "texttemplate": "%{x:,d}",
         "type": "bar",
         "width": 1,
         "x": [
          208
         ],
         "xaxis": "x38",
         "y": [
          "G4"
         ],
         "yaxis": "y38"
        },
        {
         "marker": {
          "color": "darkorchid"
         },
         "name": "H-DNA",
         "orientation": "h",
         "showlegend": false,
         "textposition": "outside",
         "texttemplate": "%{x:,d}",
         "type": "bar",
         "width": 1,
         "x": [
          20
         ],
         "xaxis": "x39",
         "y": [
          "H-DNA"
         ],
         "yaxis": "y39"
        },
        {
         "marker": {
          "color": "#ED4241"
         },
         "name": "SIDD",
         "orientation": "h",
         "showlegend": false,
         "textposition": "outside",
         "texttemplate": "%{x:,d}",
         "type": "bar",
         "width": 1,
         "x": [
          16
         ],
         "xaxis": "x39",
         "y": [
          "SIDD"
         ],
         "yaxis": "y39"
        },
        {
         "marker": {
          "color": "royalblue"
         },
         "name": "Z-DNA",
         "orientation": "h",
         "showlegend": false,
         "textposition": "outside",
         "texttemplate": "%{x:,d}",
         "type": "bar",
         "width": 1,
         "x": [
          130
         ],
         "xaxis": "x39",
         "y": [
          "Z-DNA"
         ],
         "yaxis": "y39"
        },
        {
         "marker": {
          "color": "#FE9B54"
         },
         "name": "G4",
         "orientation": "h",
         "showlegend": false,
         "textposition": "outside",
         "texttemplate": "%{x:,d}",
         "type": "bar",
         "width": 1,
         "x": [
          85
         ],
         "xaxis": "x39",
         "y": [
          "G4"
         ],
         "yaxis": "y39"
        },
        {
         "marker": {
          "color": "royalblue"
         },
         "name": "Z-DNA",
         "orientation": "h",
         "showlegend": false,
         "textposition": "outside",
         "texttemplate": "%{x:,d}",
         "type": "bar",
         "width": 1,
         "x": [
          2
         ],
         "xaxis": "x40",
         "y": [
          "Z-DNA"
         ],
         "yaxis": "y40"
        },
        {
         "marker": {
          "color": "#FE9B54"
         },
         "name": "G4",
         "orientation": "h",
         "showlegend": false,
         "textposition": "outside",
         "texttemplate": "%{x:,d}",
         "type": "bar",
         "width": 1,
         "x": [
          2
         ],
         "xaxis": "x40",
         "y": [
          "G4"
         ],
         "yaxis": "y40"
        },
        {
         "marker": {
          "color": "darkorchid"
         },
         "name": "H-DNA",
         "orientation": "h",
         "showlegend": false,
         "textposition": "outside",
         "texttemplate": "%{x:,d}",
         "type": "bar",
         "width": 1,
         "x": [
          9
         ],
         "xaxis": "x41",
         "y": [
          "H-DNA"
         ],
         "yaxis": "y41"
        },
        {
         "marker": {
          "color": "#ED4241"
         },
         "name": "SIDD",
         "orientation": "h",
         "showlegend": false,
         "textposition": "outside",
         "texttemplate": "%{x:,d}",
         "type": "bar",
         "width": 1,
         "x": [
          11
         ],
         "xaxis": "x41",
         "y": [
          "SIDD"
         ],
         "yaxis": "y41"
        },
        {
         "marker": {
          "color": "royalblue"
         },
         "name": "Z-DNA",
         "orientation": "h",
         "showlegend": false,
         "textposition": "outside",
         "texttemplate": "%{x:,d}",
         "type": "bar",
         "width": 1,
         "x": [
          37
         ],
         "xaxis": "x41",
         "y": [
          "Z-DNA"
         ],
         "yaxis": "y41"
        },
        {
         "marker": {
          "color": "#FE9B54"
         },
         "name": "G4",
         "orientation": "h",
         "showlegend": false,
         "textposition": "outside",
         "texttemplate": "%{x:,d}",
         "type": "bar",
         "width": 1,
         "x": [
          45
         ],
         "xaxis": "x41",
         "y": [
          "G4"
         ],
         "yaxis": "y41"
        },
        {
         "marker": {
          "color": "darkorchid"
         },
         "name": "H-DNA",
         "orientation": "h",
         "showlegend": false,
         "textposition": "outside",
         "texttemplate": "%{x:,d}",
         "type": "bar",
         "width": 1,
         "x": [
          2
         ],
         "xaxis": "x42",
         "y": [
          "H-DNA"
         ],
         "yaxis": "y42"
        },
        {
         "marker": {
          "color": "#ED4241"
         },
         "name": "SIDD",
         "orientation": "h",
         "showlegend": false,
         "textposition": "outside",
         "texttemplate": "%{x:,d}",
         "type": "bar",
         "width": 1,
         "x": [
          2
         ],
         "xaxis": "x42",
         "y": [
          "SIDD"
         ],
         "yaxis": "y42"
        },
        {
         "marker": {
          "color": "royalblue"
         },
         "name": "Z-DNA",
         "orientation": "h",
         "showlegend": false,
         "textposition": "outside",
         "texttemplate": "%{x:,d}",
         "type": "bar",
         "width": 1,
         "x": [
          195
         ],
         "xaxis": "x42",
         "y": [
          "Z-DNA"
         ],
         "yaxis": "y42"
        },
        {
         "marker": {
          "color": "#FE9B54"
         },
         "name": "G4",
         "orientation": "h",
         "showlegend": false,
         "textposition": "outside",
         "texttemplate": "%{x:,d}",
         "type": "bar",
         "width": 1,
         "x": [
          33
         ],
         "xaxis": "x42",
         "y": [
          "G4"
         ],
         "yaxis": "y42"
        },
        {
         "marker": {
          "color": "darkorchid"
         },
         "name": "H-DNA",
         "orientation": "h",
         "showlegend": false,
         "textposition": "outside",
         "texttemplate": "%{x:,d}",
         "type": "bar",
         "width": 1,
         "x": [
          62
         ],
         "xaxis": "x43",
         "y": [
          "H-DNA"
         ],
         "yaxis": "y43"
        },
        {
         "marker": {
          "color": "#ED4241"
         },
         "name": "SIDD",
         "orientation": "h",
         "showlegend": false,
         "textposition": "outside",
         "texttemplate": "%{x:,d}",
         "type": "bar",
         "width": 1,
         "x": [
          30
         ],
         "xaxis": "x43",
         "y": [
          "SIDD"
         ],
         "yaxis": "y43"
        },
        {
         "marker": {
          "color": "royalblue"
         },
         "name": "Z-DNA",
         "orientation": "h",
         "showlegend": false,
         "textposition": "outside",
         "texttemplate": "%{x:,d}",
         "type": "bar",
         "width": 1,
         "x": [
          125
         ],
         "xaxis": "x43",
         "y": [
          "Z-DNA"
         ],
         "yaxis": "y43"
        },
        {
         "marker": {
          "color": "#FE9B54"
         },
         "name": "G4",
         "orientation": "h",
         "showlegend": false,
         "textposition": "outside",
         "texttemplate": "%{x:,d}",
         "type": "bar",
         "width": 1,
         "x": [
          137
         ],
         "xaxis": "x43",
         "y": [
          "G4"
         ],
         "yaxis": "y43"
        },
        {
         "marker": {
          "color": "#ED4241"
         },
         "name": "SIDD",
         "orientation": "h",
         "showlegend": false,
         "textposition": "outside",
         "texttemplate": "%{x:,d}",
         "type": "bar",
         "width": 1,
         "x": [
          1
         ],
         "xaxis": "x44",
         "y": [
          "SIDD"
         ],
         "yaxis": "y44"
        },
        {
         "marker": {
          "color": "royalblue"
         },
         "name": "Z-DNA",
         "orientation": "h",
         "showlegend": false,
         "textposition": "outside",
         "texttemplate": "%{x:,d}",
         "type": "bar",
         "width": 1,
         "x": [
          3
         ],
         "xaxis": "x44",
         "y": [
          "Z-DNA"
         ],
         "yaxis": "y44"
        },
        {
         "marker": {
          "color": "#FE9B54"
         },
         "name": "G4",
         "orientation": "h",
         "showlegend": false,
         "textposition": "outside",
         "texttemplate": "%{x:,d}",
         "type": "bar",
         "width": 1,
         "x": [
          2
         ],
         "xaxis": "x44",
         "y": [
          "G4"
         ],
         "yaxis": "y44"
        },
        {
         "marker": {
          "color": "darkorchid"
         },
         "name": "H-DNA",
         "orientation": "h",
         "showlegend": false,
         "textposition": "outside",
         "texttemplate": "%{x:,d}",
         "type": "bar",
         "width": 1,
         "x": [
          59
         ],
         "xaxis": "x45",
         "y": [
          "H-DNA"
         ],
         "yaxis": "y45"
        },
        {
         "marker": {
          "color": "#ED4241"
         },
         "name": "SIDD",
         "orientation": "h",
         "showlegend": false,
         "textposition": "outside",
         "texttemplate": "%{x:,d}",
         "type": "bar",
         "width": 1,
         "x": [
          27
         ],
         "xaxis": "x45",
         "y": [
          "SIDD"
         ],
         "yaxis": "y45"
        },
        {
         "marker": {
          "color": "royalblue"
         },
         "name": "Z-DNA",
         "orientation": "h",
         "showlegend": false,
         "textposition": "outside",
         "texttemplate": "%{x:,d}",
         "type": "bar",
         "width": 1,
         "x": [
          226
         ],
         "xaxis": "x45",
         "y": [
          "Z-DNA"
         ],
         "yaxis": "y45"
        },
        {
         "marker": {
          "color": "#FE9B54"
         },
         "name": "G4",
         "orientation": "h",
         "showlegend": false,
         "textposition": "outside",
         "texttemplate": "%{x:,d}",
         "type": "bar",
         "width": 1,
         "x": [
          190
         ],
         "xaxis": "x45",
         "y": [
          "G4"
         ],
         "yaxis": "y45"
        },
        {
         "marker": {
          "color": "#ED4241"
         },
         "name": "SIDD",
         "orientation": "h",
         "showlegend": false,
         "textposition": "outside",
         "texttemplate": "%{x:,d}",
         "type": "bar",
         "width": 1,
         "x": [
          1
         ],
         "xaxis": "x46",
         "y": [
          "SIDD"
         ],
         "yaxis": "y46"
        },
        {
         "marker": {
          "color": "#FE9B54"
         },
         "name": "G4",
         "orientation": "h",
         "showlegend": false,
         "textposition": "outside",
         "texttemplate": "%{x:,d}",
         "type": "bar",
         "width": 1,
         "x": [
          2
         ],
         "xaxis": "x46",
         "y": [
          "G4"
         ],
         "yaxis": "y46"
        },
        {
         "marker": {
          "color": "darkorchid"
         },
         "name": "H-DNA",
         "orientation": "h",
         "showlegend": false,
         "textposition": "outside",
         "texttemplate": "%{x:,d}",
         "type": "bar",
         "width": 1,
         "x": [
          2
         ],
         "xaxis": "x47",
         "y": [
          "H-DNA"
         ],
         "yaxis": "y47"
        },
        {
         "marker": {
          "color": "#ED4241"
         },
         "name": "SIDD",
         "orientation": "h",
         "showlegend": false,
         "textposition": "outside",
         "texttemplate": "%{x:,d}",
         "type": "bar",
         "width": 1,
         "x": [
          1
         ],
         "xaxis": "x47",
         "y": [
          "SIDD"
         ],
         "yaxis": "y47"
        },
        {
         "marker": {
          "color": "royalblue"
         },
         "name": "Z-DNA",
         "orientation": "h",
         "showlegend": false,
         "textposition": "outside",
         "texttemplate": "%{x:,d}",
         "type": "bar",
         "width": 1,
         "x": [
          2
         ],
         "xaxis": "x47",
         "y": [
          "Z-DNA"
         ],
         "yaxis": "y47"
        },
        {
         "marker": {
          "color": "#FE9B54"
         },
         "name": "G4",
         "orientation": "h",
         "showlegend": false,
         "textposition": "outside",
         "texttemplate": "%{x:,d}",
         "type": "bar",
         "width": 1,
         "x": [
          1
         ],
         "xaxis": "x47",
         "y": [
          "G4"
         ],
         "yaxis": "y47"
        },
        {
         "marker": {
          "color": "darkorchid"
         },
         "name": "H-DNA",
         "orientation": "h",
         "showlegend": false,
         "textposition": "outside",
         "texttemplate": "%{x:,d}",
         "type": "bar",
         "width": 1,
         "x": [
          1
         ],
         "xaxis": "x48",
         "y": [
          "H-DNA"
         ],
         "yaxis": "y48"
        },
        {
         "marker": {
          "color": "#FE9B54"
         },
         "name": "G4",
         "orientation": "h",
         "showlegend": false,
         "textposition": "outside",
         "texttemplate": "%{x:,d}",
         "type": "bar",
         "width": 1,
         "x": [
          1
         ],
         "xaxis": "x48",
         "y": [
          "G4"
         ],
         "yaxis": "y48"
        },
        {
         "marker": {
          "color": "darkorchid"
         },
         "name": "H-DNA",
         "orientation": "h",
         "showlegend": false,
         "textposition": "outside",
         "texttemplate": "%{x:,d}",
         "type": "bar",
         "width": 1,
         "x": [
          10
         ],
         "xaxis": "x52",
         "y": [
          "H-DNA"
         ],
         "yaxis": "y52"
        },
        {
         "marker": {
          "color": "#ED4241"
         },
         "name": "SIDD",
         "orientation": "h",
         "showlegend": false,
         "textposition": "outside",
         "texttemplate": "%{x:,d}",
         "type": "bar",
         "width": 1,
         "x": [
          13
         ],
         "xaxis": "x52",
         "y": [
          "SIDD"
         ],
         "yaxis": "y52"
        },
        {
         "marker": {
          "color": "royalblue"
         },
         "name": "Z-DNA",
         "orientation": "h",
         "showlegend": false,
         "textposition": "outside",
         "texttemplate": "%{x:,d}",
         "type": "bar",
         "width": 1,
         "x": [
          9
         ],
         "xaxis": "x52",
         "y": [
          "Z-DNA"
         ],
         "yaxis": "y52"
        },
        {
         "marker": {
          "color": "#FE9B54"
         },
         "name": "G4",
         "orientation": "h",
         "showlegend": false,
         "textposition": "outside",
         "texttemplate": "%{x:,d}",
         "type": "bar",
         "width": 1,
         "x": [
          5
         ],
         "xaxis": "x52",
         "y": [
          "G4"
         ],
         "yaxis": "y52"
        },
        {
         "marker": {
          "color": "darkorchid"
         },
         "name": "H-DNA",
         "orientation": "h",
         "showlegend": false,
         "textposition": "outside",
         "texttemplate": "%{x:,d}",
         "type": "bar",
         "width": 1,
         "x": [
          25
         ],
         "xaxis": "x54",
         "y": [
          "H-DNA"
         ],
         "yaxis": "y54"
        },
        {
         "marker": {
          "color": "#ED4241"
         },
         "name": "SIDD",
         "orientation": "h",
         "showlegend": false,
         "textposition": "outside",
         "texttemplate": "%{x:,d}",
         "type": "bar",
         "width": 1,
         "x": [
          20
         ],
         "xaxis": "x54",
         "y": [
          "SIDD"
         ],
         "yaxis": "y54"
        },
        {
         "marker": {
          "color": "royalblue"
         },
         "name": "Z-DNA",
         "orientation": "h",
         "showlegend": false,
         "textposition": "outside",
         "texttemplate": "%{x:,d}",
         "type": "bar",
         "width": 1,
         "x": [
          24
         ],
         "xaxis": "x54",
         "y": [
          "Z-DNA"
         ],
         "yaxis": "y54"
        },
        {
         "marker": {
          "color": "#FE9B54"
         },
         "name": "G4",
         "orientation": "h",
         "showlegend": false,
         "textposition": "outside",
         "texttemplate": "%{x:,d}",
         "type": "bar",
         "width": 1,
         "x": [
          24
         ],
         "xaxis": "x54",
         "y": [
          "G4"
         ],
         "yaxis": "y54"
        },
        {
         "marker": {
          "color": "darkorchid"
         },
         "name": "H-DNA",
         "orientation": "h",
         "showlegend": false,
         "textposition": "outside",
         "texttemplate": "%{x:,d}",
         "type": "bar",
         "width": 1,
         "x": [
          20
         ],
         "xaxis": "x55",
         "y": [
          "H-DNA"
         ],
         "yaxis": "y55"
        },
        {
         "marker": {
          "color": "#ED4241"
         },
         "name": "SIDD",
         "orientation": "h",
         "showlegend": false,
         "textposition": "outside",
         "texttemplate": "%{x:,d}",
         "type": "bar",
         "width": 1,
         "x": [
          11
         ],
         "xaxis": "x55",
         "y": [
          "SIDD"
         ],
         "yaxis": "y55"
        },
        {
         "marker": {
          "color": "royalblue"
         },
         "name": "Z-DNA",
         "orientation": "h",
         "showlegend": false,
         "textposition": "outside",
         "texttemplate": "%{x:,d}",
         "type": "bar",
         "width": 1,
         "x": [
          47
         ],
         "xaxis": "x55",
         "y": [
          "Z-DNA"
         ],
         "yaxis": "y55"
        },
        {
         "marker": {
          "color": "#FE9B54"
         },
         "name": "G4",
         "orientation": "h",
         "showlegend": false,
         "textposition": "outside",
         "texttemplate": "%{x:,d}",
         "type": "bar",
         "width": 1,
         "x": [
          25
         ],
         "xaxis": "x55",
         "y": [
          "G4"
         ],
         "yaxis": "y55"
        },
        {
         "marker": {
          "color": "darkorchid"
         },
         "name": "H-DNA",
         "orientation": "h",
         "showlegend": false,
         "textposition": "outside",
         "texttemplate": "%{x:,d}",
         "type": "bar",
         "width": 1,
         "x": [
          3
         ],
         "xaxis": "x56",
         "y": [
          "H-DNA"
         ],
         "yaxis": "y56"
        },
        {
         "marker": {
          "color": "#ED4241"
         },
         "name": "SIDD",
         "orientation": "h",
         "showlegend": false,
         "textposition": "outside",
         "texttemplate": "%{x:,d}",
         "type": "bar",
         "width": 1,
         "x": [
          1
         ],
         "xaxis": "x56",
         "y": [
          "SIDD"
         ],
         "yaxis": "y56"
        },
        {
         "marker": {
          "color": "royalblue"
         },
         "name": "Z-DNA",
         "orientation": "h",
         "showlegend": false,
         "textposition": "outside",
         "texttemplate": "%{x:,d}",
         "type": "bar",
         "width": 1,
         "x": [
          4
         ],
         "xaxis": "x56",
         "y": [
          "Z-DNA"
         ],
         "yaxis": "y56"
        },
        {
         "marker": {
          "color": "#FE9B54"
         },
         "name": "G4",
         "orientation": "h",
         "showlegend": false,
         "textposition": "outside",
         "texttemplate": "%{x:,d}",
         "type": "bar",
         "width": 1,
         "x": [
          3
         ],
         "xaxis": "x56",
         "y": [
          "G4"
         ],
         "yaxis": "y56"
        },
        {
         "marker": {
          "color": "darkorchid"
         },
         "name": "H-DNA",
         "orientation": "h",
         "showlegend": false,
         "textposition": "outside",
         "texttemplate": "%{x:,d}",
         "type": "bar",
         "width": 1,
         "x": [
          1
         ],
         "xaxis": "x57",
         "y": [
          "H-DNA"
         ],
         "yaxis": "y57"
        },
        {
         "marker": {
          "color": "#ED4241"
         },
         "name": "SIDD",
         "orientation": "h",
         "showlegend": false,
         "textposition": "outside",
         "texttemplate": "%{x:,d}",
         "type": "bar",
         "width": 1,
         "x": [
          1
         ],
         "xaxis": "x57",
         "y": [
          "SIDD"
         ],
         "yaxis": "y57"
        },
        {
         "marker": {
          "color": "royalblue"
         },
         "name": "Z-DNA",
         "orientation": "h",
         "showlegend": false,
         "textposition": "outside",
         "texttemplate": "%{x:,d}",
         "type": "bar",
         "width": 1,
         "x": [
          2
         ],
         "xaxis": "x57",
         "y": [
          "Z-DNA"
         ],
         "yaxis": "y57"
        },
        {
         "marker": {
          "color": "#FE9B54"
         },
         "name": "G4",
         "orientation": "h",
         "showlegend": false,
         "textposition": "outside",
         "texttemplate": "%{x:,d}",
         "type": "bar",
         "width": 1,
         "x": [
          3
         ],
         "xaxis": "x57",
         "y": [
          "G4"
         ],
         "yaxis": "y57"
        },
        {
         "marker": {
          "color": "#ED4241"
         },
         "name": "SIDD",
         "orientation": "h",
         "showlegend": false,
         "textposition": "outside",
         "texttemplate": "%{x:,d}",
         "type": "bar",
         "width": 1,
         "x": [
          3
         ],
         "xaxis": "x59",
         "y": [
          "SIDD"
         ],
         "yaxis": "y59"
        },
        {
         "marker": {
          "color": "#FE9B54"
         },
         "name": "G4",
         "orientation": "h",
         "showlegend": false,
         "textposition": "outside",
         "texttemplate": "%{x:,d}",
         "type": "bar",
         "width": 1,
         "x": [
          1
         ],
         "xaxis": "x59",
         "y": [
          "G4"
         ],
         "yaxis": "y59"
        },
        {
         "marker": {
          "color": "#ED4241"
         },
         "name": "SIDD",
         "orientation": "h",
         "showlegend": false,
         "textposition": "outside",
         "texttemplate": "%{x:,d}",
         "type": "bar",
         "width": 1,
         "x": [
          1
         ],
         "xaxis": "x60",
         "y": [
          "SIDD"
         ],
         "yaxis": "y60"
        },
        {
         "marker": {
          "color": "royalblue"
         },
         "name": "Z-DNA",
         "orientation": "h",
         "showlegend": false,
         "textposition": "outside",
         "texttemplate": "%{x:,d}",
         "type": "bar",
         "width": 1,
         "x": [
          1
         ],
         "xaxis": "x60",
         "y": [
          "Z-DNA"
         ],
         "yaxis": "y60"
        },
        {
         "marker": {
          "color": "darkorchid"
         },
         "name": "H-DNA",
         "orientation": "h",
         "showlegend": false,
         "textposition": "outside",
         "texttemplate": "%{x:,d}",
         "type": "bar",
         "width": 1,
         "x": [
          18
         ],
         "xaxis": "x61",
         "y": [
          "H-DNA"
         ],
         "yaxis": "y61"
        },
        {
         "marker": {
          "color": "#ED4241"
         },
         "name": "SIDD",
         "orientation": "h",
         "showlegend": false,
         "textposition": "outside",
         "texttemplate": "%{x:,d}",
         "type": "bar",
         "width": 1,
         "x": [
          15
         ],
         "xaxis": "x61",
         "y": [
          "SIDD"
         ],
         "yaxis": "y61"
        },
        {
         "marker": {
          "color": "royalblue"
         },
         "name": "Z-DNA",
         "orientation": "h",
         "showlegend": false,
         "textposition": "outside",
         "texttemplate": "%{x:,d}",
         "type": "bar",
         "width": 1,
         "x": [
          10
         ],
         "xaxis": "x61",
         "y": [
          "Z-DNA"
         ],
         "yaxis": "y61"
        },
        {
         "marker": {
          "color": "#FE9B54"
         },
         "name": "G4",
         "orientation": "h",
         "showlegend": false,
         "textposition": "outside",
         "texttemplate": "%{x:,d}",
         "type": "bar",
         "width": 1,
         "x": [
          14
         ],
         "xaxis": "x61",
         "y": [
          "G4"
         ],
         "yaxis": "y61"
        },
        {
         "marker": {
          "color": "darkorchid"
         },
         "name": "H-DNA",
         "orientation": "h",
         "showlegend": false,
         "textposition": "outside",
         "texttemplate": "%{x:,d}",
         "type": "bar",
         "width": 1,
         "x": [
          14
         ],
         "xaxis": "x63",
         "y": [
          "H-DNA"
         ],
         "yaxis": "y63"
        },
        {
         "marker": {
          "color": "#ED4241"
         },
         "name": "SIDD",
         "orientation": "h",
         "showlegend": false,
         "textposition": "outside",
         "texttemplate": "%{x:,d}",
         "type": "bar",
         "width": 1,
         "x": [
          10
         ],
         "xaxis": "x63",
         "y": [
          "SIDD"
         ],
         "yaxis": "y63"
        },
        {
         "marker": {
          "color": "royalblue"
         },
         "name": "Z-DNA",
         "orientation": "h",
         "showlegend": false,
         "textposition": "outside",
         "texttemplate": "%{x:,d}",
         "type": "bar",
         "width": 1,
         "x": [
          15
         ],
         "xaxis": "x63",
         "y": [
          "Z-DNA"
         ],
         "yaxis": "y63"
        },
        {
         "marker": {
          "color": "#FE9B54"
         },
         "name": "G4",
         "orientation": "h",
         "showlegend": false,
         "textposition": "outside",
         "texttemplate": "%{x:,d}",
         "type": "bar",
         "width": 1,
         "x": [
          10
         ],
         "xaxis": "x63",
         "y": [
          "G4"
         ],
         "yaxis": "y63"
        }
       ],
       "layout": {
        "annotations": [
         {
          "align": "left",
          "font": {
           "size": 14
          },
          "showarrow": false,
          "text": "Promoter (<=1kb)",
          "textangle": 0,
          "x": 0.05266666666666667,
          "xanchor": "center",
          "xref": "paper",
          "y": 1.0000000000000002,
          "yanchor": "bottom",
          "yref": "paper"
         },
         {
          "align": "left",
          "font": {
           "size": 14
          },
          "showarrow": false,
          "text": "Promoter (1-2kb)",
          "textangle": 0,
          "x": 0.162,
          "xanchor": "center",
          "xref": "paper",
          "y": 1.0000000000000002,
          "yanchor": "bottom",
          "yref": "paper"
         },
         {
          "align": "left",
          "font": {
           "size": 14
          },
          "showarrow": false,
          "text": "Promoter (2-3kb)",
          "textangle": 0,
          "x": 0.2713333333333333,
          "xanchor": "center",
          "xref": "paper",
          "y": 1.0000000000000002,
          "yanchor": "bottom",
          "yref": "paper"
         },
         {
          "align": "left",
          "font": {
           "size": 14
          },
          "showarrow": false,
          "text": "5' UTR",
          "textangle": 0,
          "x": 0.3806666666666667,
          "xanchor": "center",
          "xref": "paper",
          "y": 1.0000000000000002,
          "yanchor": "bottom",
          "yref": "paper"
         },
         {
          "align": "left",
          "font": {
           "size": 14
          },
          "showarrow": false,
          "text": "3' UTR",
          "textangle": 0,
          "x": 0.49,
          "xanchor": "center",
          "xref": "paper",
          "y": 1.0000000000000002,
          "yanchor": "bottom",
          "yref": "paper"
         },
         {
          "align": "left",
          "font": {
           "size": 14
          },
          "showarrow": false,
          "text": "Exon",
          "textangle": 0,
          "x": 0.5993333333333333,
          "xanchor": "center",
          "xref": "paper",
          "y": 1.0000000000000002,
          "yanchor": "bottom",
          "yref": "paper"
         },
         {
          "align": "left",
          "font": {
           "size": 14
          },
          "showarrow": false,
          "text": "Intron",
          "textangle": 0,
          "x": 0.7086666666666666,
          "xanchor": "center",
          "xref": "paper",
          "y": 1.0000000000000002,
          "yanchor": "bottom",
          "yref": "paper"
         },
         {
          "align": "left",
          "font": {
           "size": 14
          },
          "showarrow": false,
          "text": "Downstream (<=300bp)",
          "textangle": 0,
          "x": 0.8179999999999998,
          "xanchor": "center",
          "xref": "paper",
          "y": 1.0000000000000002,
          "yanchor": "bottom",
          "yref": "paper"
         },
         {
          "align": "left",
          "font": {
           "size": 14
          },
          "showarrow": false,
          "text": "Distal Intergenic",
          "textangle": 0,
          "x": 0.9273333333333331,
          "xanchor": "center",
          "xref": "paper",
          "y": 1.0000000000000002,
          "yanchor": "bottom",
          "yref": "paper"
         },
         {
          "align": "left",
          "font": {
           "size": 14
          },
          "showarrow": false,
          "text": "cCRE",
          "textangle": 0,
          "x": 0.9799999999999998,
          "xanchor": "left",
          "xref": "paper",
          "y": 0.932857142857143,
          "yanchor": "middle",
          "yref": "paper"
         },
         {
          "align": "left",
          "font": {
           "size": 14
          },
          "showarrow": false,
          "text": "LINE/LTR",
          "textangle": 0,
          "x": 0.9799999999999998,
          "xanchor": "left",
          "xref": "paper",
          "y": 0.7885714285714287,
          "yanchor": "middle",
          "yref": "paper"
         },
         {
          "align": "left",
          "font": {
           "size": 14
          },
          "showarrow": false,
          "text": "cCRE &<br>LINE/LTR",
          "textangle": 0,
          "x": 0.9799999999999998,
          "xanchor": "left",
          "xref": "paper",
          "y": 0.6442857142857144,
          "yanchor": "middle",
          "yref": "paper"
         },
         {
          "align": "left",
          "font": {
           "size": 14
          },
          "showarrow": false,
          "text": "CTCF",
          "textangle": 0,
          "x": 0.9799999999999998,
          "xanchor": "left",
          "xref": "paper",
          "y": 0.5,
          "yanchor": "middle",
          "yref": "paper"
         },
         {
          "align": "left",
          "font": {
           "size": 14
          },
          "showarrow": false,
          "text": "cCRE &<br>CTCF",
          "textangle": 0,
          "x": 0.9799999999999998,
          "xanchor": "left",
          "xref": "paper",
          "y": 0.35571428571428576,
          "yanchor": "middle",
          "yref": "paper"
         },
         {
          "align": "left",
          "font": {
           "size": 14
          },
          "showarrow": false,
          "text": "LINE/LTR &<br>CTCF",
          "textangle": 0,
          "x": 0.9799999999999998,
          "xanchor": "left",
          "xref": "paper",
          "y": 0.21142857142857144,
          "yanchor": "middle",
          "yref": "paper"
         },
         {
          "align": "left",
          "font": {
           "size": 14
          },
          "showarrow": false,
          "text": "cCRE &<br>LINE/LTR &<br>CTCF",
          "textangle": 0,
          "x": 0.9799999999999998,
          "xanchor": "left",
          "xref": "paper",
          "y": 0.06714285714285714,
          "yanchor": "middle",
          "yref": "paper"
         },
         {
          "align": "left",
          "font": {
           "size": 14
          },
          "showarrow": false,
          "text": "Flipon count",
          "textangle": 0,
          "x": 0.49,
          "xanchor": "center",
          "xref": "paper",
          "y": 0,
          "yanchor": "top",
          "yref": "paper",
          "yshift": -30
         }
        ],
        "font": {
         "family": "monospace",
         "size": 12
        },
        "height": 900,
        "legend": {
         "orientation": "h",
         "traceorder": "reversed",
         "x": 0.98,
         "xanchor": "right",
         "y": -0.07,
         "yanchor": "bottom"
        },
        "margin": {
         "b": 55,
         "l": 5,
         "r": 60,
         "t": 55
        },
        "template": {
         "data": {
          "bar": [
           {
            "error_x": {
             "color": "rgb(51,51,51)"
            },
            "error_y": {
             "color": "rgb(51,51,51)"
            },
            "marker": {
             "line": {
              "color": "rgb(237,237,237)",
              "width": 0.5
             },
             "pattern": {
              "fillmode": "overlay",
              "size": 10,
              "solidity": 0.2
             }
            },
            "type": "bar"
           }
          ],
          "barpolar": [
           {
            "marker": {
             "line": {
              "color": "rgb(237,237,237)",
              "width": 0.5
             },
             "pattern": {
              "fillmode": "overlay",
              "size": 10,
              "solidity": 0.2
             }
            },
            "type": "barpolar"
           }
          ],
          "carpet": [
           {
            "aaxis": {
             "endlinecolor": "rgb(51,51,51)",
             "gridcolor": "white",
             "linecolor": "white",
             "minorgridcolor": "white",
             "startlinecolor": "rgb(51,51,51)"
            },
            "baxis": {
             "endlinecolor": "rgb(51,51,51)",
             "gridcolor": "white",
             "linecolor": "white",
             "minorgridcolor": "white",
             "startlinecolor": "rgb(51,51,51)"
            },
            "type": "carpet"
           }
          ],
          "choropleth": [
           {
            "colorbar": {
             "outlinewidth": 0,
             "tickcolor": "rgb(237,237,237)",
             "ticklen": 6,
             "ticks": "inside"
            },
            "type": "choropleth"
           }
          ],
          "contour": [
           {
            "colorbar": {
             "outlinewidth": 0,
             "tickcolor": "rgb(237,237,237)",
             "ticklen": 6,
             "ticks": "inside"
            },
            "colorscale": [
             [
              0,
              "rgb(20,44,66)"
             ],
             [
              1,
              "rgb(90,179,244)"
             ]
            ],
            "type": "contour"
           }
          ],
          "contourcarpet": [
           {
            "colorbar": {
             "outlinewidth": 0,
             "tickcolor": "rgb(237,237,237)",
             "ticklen": 6,
             "ticks": "inside"
            },
            "type": "contourcarpet"
           }
          ],
          "heatmap": [
           {
            "colorbar": {
             "outlinewidth": 0,
             "tickcolor": "rgb(237,237,237)",
             "ticklen": 6,
             "ticks": "inside"
            },
            "colorscale": [
             [
              0,
              "rgb(20,44,66)"
             ],
             [
              1,
              "rgb(90,179,244)"
             ]
            ],
            "type": "heatmap"
           }
          ],
          "heatmapgl": [
           {
            "colorbar": {
             "outlinewidth": 0,
             "tickcolor": "rgb(237,237,237)",
             "ticklen": 6,
             "ticks": "inside"
            },
            "colorscale": [
             [
              0,
              "rgb(20,44,66)"
             ],
             [
              1,
              "rgb(90,179,244)"
             ]
            ],
            "type": "heatmapgl"
           }
          ],
          "histogram": [
           {
            "marker": {
             "pattern": {
              "fillmode": "overlay",
              "size": 10,
              "solidity": 0.2
             }
            },
            "type": "histogram"
           }
          ],
          "histogram2d": [
           {
            "colorbar": {
             "outlinewidth": 0,
             "tickcolor": "rgb(237,237,237)",
             "ticklen": 6,
             "ticks": "inside"
            },
            "colorscale": [
             [
              0,
              "rgb(20,44,66)"
             ],
             [
              1,
              "rgb(90,179,244)"
             ]
            ],
            "type": "histogram2d"
           }
          ],
          "histogram2dcontour": [
           {
            "colorbar": {
             "outlinewidth": 0,
             "tickcolor": "rgb(237,237,237)",
             "ticklen": 6,
             "ticks": "inside"
            },
            "colorscale": [
             [
              0,
              "rgb(20,44,66)"
             ],
             [
              1,
              "rgb(90,179,244)"
             ]
            ],
            "type": "histogram2dcontour"
           }
          ],
          "mesh3d": [
           {
            "colorbar": {
             "outlinewidth": 0,
             "tickcolor": "rgb(237,237,237)",
             "ticklen": 6,
             "ticks": "inside"
            },
            "type": "mesh3d"
           }
          ],
          "parcoords": [
           {
            "line": {
             "colorbar": {
              "outlinewidth": 0,
              "tickcolor": "rgb(237,237,237)",
              "ticklen": 6,
              "ticks": "inside"
             }
            },
            "type": "parcoords"
           }
          ],
          "pie": [
           {
            "automargin": true,
            "type": "pie"
           }
          ],
          "scatter": [
           {
            "fillpattern": {
             "fillmode": "overlay",
             "size": 10,
             "solidity": 0.2
            },
            "type": "scatter"
           }
          ],
          "scatter3d": [
           {
            "line": {
             "colorbar": {
              "outlinewidth": 0,
              "tickcolor": "rgb(237,237,237)",
              "ticklen": 6,
              "ticks": "inside"
             }
            },
            "marker": {
             "colorbar": {
              "outlinewidth": 0,
              "tickcolor": "rgb(237,237,237)",
              "ticklen": 6,
              "ticks": "inside"
             }
            },
            "type": "scatter3d"
           }
          ],
          "scattercarpet": [
           {
            "marker": {
             "colorbar": {
              "outlinewidth": 0,
              "tickcolor": "rgb(237,237,237)",
              "ticklen": 6,
              "ticks": "inside"
             }
            },
            "type": "scattercarpet"
           }
          ],
          "scattergeo": [
           {
            "marker": {
             "colorbar": {
              "outlinewidth": 0,
              "tickcolor": "rgb(237,237,237)",
              "ticklen": 6,
              "ticks": "inside"
             }
            },
            "type": "scattergeo"
           }
          ],
          "scattergl": [
           {
            "marker": {
             "colorbar": {
              "outlinewidth": 0,
              "tickcolor": "rgb(237,237,237)",
              "ticklen": 6,
              "ticks": "inside"
             }
            },
            "type": "scattergl"
           }
          ],
          "scattermapbox": [
           {
            "marker": {
             "colorbar": {
              "outlinewidth": 0,
              "tickcolor": "rgb(237,237,237)",
              "ticklen": 6,
              "ticks": "inside"
             }
            },
            "type": "scattermapbox"
           }
          ],
          "scatterpolar": [
           {
            "marker": {
             "colorbar": {
              "outlinewidth": 0,
              "tickcolor": "rgb(237,237,237)",
              "ticklen": 6,
              "ticks": "inside"
             }
            },
            "type": "scatterpolar"
           }
          ],
          "scatterpolargl": [
           {
            "marker": {
             "colorbar": {
              "outlinewidth": 0,
              "tickcolor": "rgb(237,237,237)",
              "ticklen": 6,
              "ticks": "inside"
             }
            },
            "type": "scatterpolargl"
           }
          ],
          "scatterternary": [
           {
            "marker": {
             "colorbar": {
              "outlinewidth": 0,
              "tickcolor": "rgb(237,237,237)",
              "ticklen": 6,
              "ticks": "inside"
             }
            },
            "type": "scatterternary"
           }
          ],
          "surface": [
           {
            "colorbar": {
             "outlinewidth": 0,
             "tickcolor": "rgb(237,237,237)",
             "ticklen": 6,
             "ticks": "inside"
            },
            "colorscale": [
             [
              0,
              "rgb(20,44,66)"
             ],
             [
              1,
              "rgb(90,179,244)"
             ]
            ],
            "type": "surface"
           }
          ],
          "table": [
           {
            "cells": {
             "fill": {
              "color": "rgb(237,237,237)"
             },
             "line": {
              "color": "white"
             }
            },
            "header": {
             "fill": {
              "color": "rgb(217,217,217)"
             },
             "line": {
              "color": "white"
             }
            },
            "type": "table"
           }
          ]
         },
         "layout": {
          "annotationdefaults": {
           "arrowhead": 0,
           "arrowwidth": 1
          },
          "autotypenumbers": "strict",
          "coloraxis": {
           "colorbar": {
            "outlinewidth": 0,
            "tickcolor": "rgb(237,237,237)",
            "ticklen": 6,
            "ticks": "inside"
           }
          },
          "colorscale": {
           "sequential": [
            [
             0,
             "rgb(20,44,66)"
            ],
            [
             1,
             "rgb(90,179,244)"
            ]
           ],
           "sequentialminus": [
            [
             0,
             "rgb(20,44,66)"
            ],
            [
             1,
             "rgb(90,179,244)"
            ]
           ]
          },
          "colorway": [
           "#F8766D",
           "#A3A500",
           "#00BF7D",
           "#00B0F6",
           "#E76BF3"
          ],
          "font": {
           "color": "rgb(51,51,51)"
          },
          "geo": {
           "bgcolor": "white",
           "lakecolor": "white",
           "landcolor": "rgb(237,237,237)",
           "showlakes": true,
           "showland": true,
           "subunitcolor": "white"
          },
          "hoverlabel": {
           "align": "left"
          },
          "hovermode": "closest",
          "paper_bgcolor": "white",
          "plot_bgcolor": "rgb(237,237,237)",
          "polar": {
           "angularaxis": {
            "gridcolor": "white",
            "linecolor": "white",
            "showgrid": true,
            "tickcolor": "rgb(51,51,51)",
            "ticks": "outside"
           },
           "bgcolor": "rgb(237,237,237)",
           "radialaxis": {
            "gridcolor": "white",
            "linecolor": "white",
            "showgrid": true,
            "tickcolor": "rgb(51,51,51)",
            "ticks": "outside"
           }
          },
          "scene": {
           "xaxis": {
            "backgroundcolor": "rgb(237,237,237)",
            "gridcolor": "white",
            "gridwidth": 2,
            "linecolor": "white",
            "showbackground": true,
            "showgrid": true,
            "tickcolor": "rgb(51,51,51)",
            "ticks": "outside",
            "zerolinecolor": "white"
           },
           "yaxis": {
            "backgroundcolor": "rgb(237,237,237)",
            "gridcolor": "white",
            "gridwidth": 2,
            "linecolor": "white",
            "showbackground": true,
            "showgrid": true,
            "tickcolor": "rgb(51,51,51)",
            "ticks": "outside",
            "zerolinecolor": "white"
           },
           "zaxis": {
            "backgroundcolor": "rgb(237,237,237)",
            "gridcolor": "white",
            "gridwidth": 2,
            "linecolor": "white",
            "showbackground": true,
            "showgrid": true,
            "tickcolor": "rgb(51,51,51)",
            "ticks": "outside",
            "zerolinecolor": "white"
           }
          },
          "shapedefaults": {
           "fillcolor": "black",
           "line": {
            "width": 0
           },
           "opacity": 0.3
          },
          "ternary": {
           "aaxis": {
            "gridcolor": "white",
            "linecolor": "white",
            "showgrid": true,
            "tickcolor": "rgb(51,51,51)",
            "ticks": "outside"
           },
           "baxis": {
            "gridcolor": "white",
            "linecolor": "white",
            "showgrid": true,
            "tickcolor": "rgb(51,51,51)",
            "ticks": "outside"
           },
           "bgcolor": "rgb(237,237,237)",
           "caxis": {
            "gridcolor": "white",
            "linecolor": "white",
            "showgrid": true,
            "tickcolor": "rgb(51,51,51)",
            "ticks": "outside"
           }
          },
          "xaxis": {
           "automargin": true,
           "gridcolor": "white",
           "linecolor": "white",
           "showgrid": true,
           "tickcolor": "rgb(51,51,51)",
           "ticks": "outside",
           "title": {
            "standoff": 15
           },
           "zerolinecolor": "white"
          },
          "yaxis": {
           "automargin": true,
           "gridcolor": "white",
           "linecolor": "white",
           "showgrid": true,
           "tickcolor": "rgb(51,51,51)",
           "ticks": "outside",
           "title": {
            "standoff": 15
           },
           "zerolinecolor": "white"
          }
         }
        },
        "title": {
         "text": "Flipons (62,827)",
         "x": 0.005,
         "y": 0.99
        },
        "uniformtext": {
         "minsize": 12
        },
        "width": 1600,
        "xaxis": {
         "anchor": "y",
         "domain": [
          0,
          0.10533333333333333
         ],
         "matches": "x55",
         "showgrid": false,
         "showticklabels": false,
         "tickformat": "s",
         "ticks": ""
        },
        "xaxis10": {
         "anchor": "y10",
         "domain": [
          0,
          0.10533333333333333
         ],
         "matches": "x55",
         "showgrid": false,
         "showticklabels": false,
         "tickformat": "s",
         "ticks": ""
        },
        "xaxis11": {
         "anchor": "y11",
         "domain": [
          0.10933333333333334,
          0.21466666666666667
         ],
         "matches": "x55",
         "showgrid": false,
         "showticklabels": false,
         "tickformat": "s",
         "ticks": ""
        },
        "xaxis12": {
         "anchor": "y12",
         "domain": [
          0.21866666666666668,
          0.324
         ],
         "matches": "x55",
         "showgrid": false,
         "showticklabels": false,
         "tickformat": "s",
         "ticks": ""
        },
        "xaxis13": {
         "anchor": "y13",
         "domain": [
          0.328,
          0.43333333333333335
         ],
         "matches": "x55",
         "showgrid": false,
         "showticklabels": false,
         "tickformat": "s",
         "ticks": ""
        },
        "xaxis14": {
         "anchor": "y14",
         "domain": [
          0.43733333333333335,
          0.5426666666666666
         ],
         "matches": "x55",
         "showgrid": false,
         "showticklabels": false,
         "tickformat": "s",
         "ticks": ""
        },
        "xaxis15": {
         "anchor": "y15",
         "domain": [
          0.5466666666666666,
          0.6519999999999999
         ],
         "matches": "x55",
         "showgrid": false,
         "showticklabels": false,
         "tickformat": "s",
         "ticks": ""
        },
        "xaxis16": {
         "anchor": "y16",
         "domain": [
          0.6559999999999999,
          0.7613333333333332
         ],
         "matches": "x55",
         "showgrid": false,
         "showticklabels": false,
         "tickformat": "s",
         "ticks": ""
        },
        "xaxis17": {
         "anchor": "y17",
         "domain": [
          0.7653333333333332,
          0.8706666666666665
         ],
         "matches": "x55",
         "showgrid": false,
         "showticklabels": false,
         "tickformat": "s",
         "ticks": ""
        },
        "xaxis18": {
         "anchor": "y18",
         "domain": [
          0.8746666666666665,
          0.9799999999999998
         ],
         "matches": "x55",
         "showgrid": false,
         "showticklabels": false,
         "tickformat": "s",
         "ticks": ""
        },
        "xaxis19": {
         "anchor": "y19",
         "domain": [
          0,
          0.10533333333333333
         ],
         "matches": "x55",
         "showgrid": false,
         "showticklabels": false,
         "tickformat": "s",
         "ticks": ""
        },
        "xaxis2": {
         "anchor": "y2",
         "domain": [
          0.10933333333333334,
          0.21466666666666667
         ],
         "matches": "x55",
         "showgrid": false,
         "showticklabels": false,
         "tickformat": "s",
         "ticks": ""
        },
        "xaxis20": {
         "anchor": "y20",
         "domain": [
          0.10933333333333334,
          0.21466666666666667
         ],
         "matches": "x55",
         "showgrid": false,
         "showticklabels": false,
         "tickformat": "s",
         "ticks": ""
        },
        "xaxis21": {
         "anchor": "y21",
         "domain": [
          0.21866666666666668,
          0.324
         ],
         "matches": "x55",
         "showgrid": false,
         "showticklabels": false,
         "tickformat": "s",
         "ticks": ""
        },
        "xaxis22": {
         "anchor": "y22",
         "domain": [
          0.328,
          0.43333333333333335
         ],
         "matches": "x55",
         "showgrid": false,
         "showticklabels": false,
         "tickformat": "s"
        },
        "xaxis23": {
         "anchor": "y23",
         "domain": [
          0.43733333333333335,
          0.5426666666666666
         ],
         "matches": "x55",
         "showgrid": false,
         "showticklabels": false,
         "tickformat": "s",
         "ticks": ""
        },
        "xaxis24": {
         "anchor": "y24",
         "domain": [
          0.5466666666666666,
          0.6519999999999999
         ],
         "matches": "x55",
         "showgrid": false,
         "showticklabels": false,
         "tickformat": "s",
         "ticks": ""
        },
        "xaxis25": {
         "anchor": "y25",
         "domain": [
          0.6559999999999999,
          0.7613333333333332
         ],
         "matches": "x55",
         "showgrid": false,
         "showticklabels": false,
         "tickformat": "s",
         "ticks": ""
        },
        "xaxis26": {
         "anchor": "y26",
         "domain": [
          0.7653333333333332,
          0.8706666666666665
         ],
         "matches": "x55",
         "showgrid": false,
         "showticklabels": false,
         "tickformat": "s",
         "ticks": ""
        },
        "xaxis27": {
         "anchor": "y27",
         "domain": [
          0.8746666666666665,
          0.9799999999999998
         ],
         "matches": "x55",
         "showgrid": false,
         "showticklabels": false,
         "tickformat": "s",
         "ticks": ""
        },
        "xaxis28": {
         "anchor": "y28",
         "domain": [
          0,
          0.10533333333333333
         ],
         "matches": "x55",
         "showgrid": false,
         "showticklabels": false,
         "tickformat": "s",
         "ticks": ""
        },
        "xaxis29": {
         "anchor": "y29",
         "domain": [
          0.10933333333333334,
          0.21466666666666667
         ],
         "matches": "x55",
         "showgrid": false,
         "showticklabels": false,
         "tickformat": "s",
         "ticks": ""
        },
        "xaxis3": {
         "anchor": "y3",
         "domain": [
          0.21866666666666668,
          0.324
         ],
         "matches": "x55",
         "showgrid": false,
         "showticklabels": false,
         "tickformat": "s",
         "ticks": ""
        },
        "xaxis30": {
         "anchor": "y30",
         "domain": [
          0.21866666666666668,
          0.324
         ],
         "matches": "x55",
         "showgrid": false,
         "showticklabels": false,
         "tickformat": "s",
         "ticks": ""
        },
        "xaxis31": {
         "anchor": "y31",
         "domain": [
          0.328,
          0.43333333333333335
         ],
         "matches": "x55",
         "showgrid": false,
         "showticklabels": false,
         "tickformat": "s"
        },
        "xaxis32": {
         "anchor": "y32",
         "domain": [
          0.43733333333333335,
          0.5426666666666666
         ],
         "matches": "x55",
         "showgrid": false,
         "showticklabels": false,
         "tickformat": "s",
         "ticks": ""
        },
        "xaxis33": {
         "anchor": "y33",
         "domain": [
          0.5466666666666666,
          0.6519999999999999
         ],
         "matches": "x55",
         "showgrid": false,
         "showticklabels": false,
         "tickformat": "s",
         "ticks": ""
        },
        "xaxis34": {
         "anchor": "y34",
         "domain": [
          0.6559999999999999,
          0.7613333333333332
         ],
         "matches": "x55",
         "showgrid": false,
         "showticklabels": false,
         "tickformat": "s",
         "ticks": ""
        },
        "xaxis35": {
         "anchor": "y35",
         "domain": [
          0.7653333333333332,
          0.8706666666666665
         ],
         "matches": "x55",
         "showgrid": false,
         "showticklabels": false,
         "tickformat": "s"
        },
        "xaxis36": {
         "anchor": "y36",
         "domain": [
          0.8746666666666665,
          0.9799999999999998
         ],
         "matches": "x55",
         "showgrid": false,
         "showticklabels": false,
         "tickformat": "s",
         "ticks": ""
        },
        "xaxis37": {
         "anchor": "y37",
         "domain": [
          0,
          0.10533333333333333
         ],
         "matches": "x55",
         "showgrid": false,
         "showticklabels": false,
         "tickformat": "s",
         "ticks": ""
        },
        "xaxis38": {
         "anchor": "y38",
         "domain": [
          0.10933333333333334,
          0.21466666666666667
         ],
         "matches": "x55",
         "showgrid": false,
         "showticklabels": false,
         "tickformat": "s",
         "ticks": ""
        },
        "xaxis39": {
         "anchor": "y39",
         "domain": [
          0.21866666666666668,
          0.324
         ],
         "matches": "x55",
         "showgrid": false,
         "showticklabels": false,
         "tickformat": "s",
         "ticks": ""
        },
        "xaxis4": {
         "anchor": "y4",
         "domain": [
          0.328,
          0.43333333333333335
         ],
         "matches": "x55",
         "showgrid": false,
         "showticklabels": false,
         "tickformat": "s",
         "ticks": ""
        },
        "xaxis40": {
         "anchor": "y40",
         "domain": [
          0.328,
          0.43333333333333335
         ],
         "matches": "x55",
         "showgrid": false,
         "showticklabels": false,
         "tickformat": "s",
         "ticks": ""
        },
        "xaxis41": {
         "anchor": "y41",
         "domain": [
          0.43733333333333335,
          0.5426666666666666
         ],
         "matches": "x55",
         "showgrid": false,
         "showticklabels": false,
         "tickformat": "s",
         "ticks": ""
        },
        "xaxis42": {
         "anchor": "y42",
         "domain": [
          0.5466666666666666,
          0.6519999999999999
         ],
         "matches": "x55",
         "showgrid": false,
         "showticklabels": false,
         "tickformat": "s",
         "ticks": ""
        },
        "xaxis43": {
         "anchor": "y43",
         "domain": [
          0.6559999999999999,
          0.7613333333333332
         ],
         "matches": "x55",
         "showgrid": false,
         "showticklabels": false,
         "tickformat": "s",
         "ticks": ""
        },
        "xaxis44": {
         "anchor": "y44",
         "domain": [
          0.7653333333333332,
          0.8706666666666665
         ],
         "matches": "x55",
         "showgrid": false,
         "showticklabels": false,
         "tickformat": "s",
         "ticks": ""
        },
        "xaxis45": {
         "anchor": "y45",
         "domain": [
          0.8746666666666665,
          0.9799999999999998
         ],
         "matches": "x55",
         "showgrid": false,
         "showticklabels": false,
         "tickformat": "s",
         "ticks": ""
        },
        "xaxis46": {
         "anchor": "y46",
         "domain": [
          0,
          0.10533333333333333
         ],
         "matches": "x55",
         "showgrid": false,
         "showticklabels": false,
         "tickformat": "s",
         "ticks": ""
        },
        "xaxis47": {
         "anchor": "y47",
         "domain": [
          0.10933333333333334,
          0.21466666666666667
         ],
         "matches": "x55",
         "showgrid": false,
         "showticklabels": false,
         "tickformat": "s",
         "ticks": ""
        },
        "xaxis48": {
         "anchor": "y48",
         "domain": [
          0.21866666666666668,
          0.324
         ],
         "matches": "x55",
         "showgrid": false,
         "showticklabels": false,
         "tickformat": "s",
         "ticks": ""
        },
        "xaxis49": {
         "anchor": "y49",
         "domain": [
          0.328,
          0.43333333333333335
         ],
         "matches": "x55",
         "showgrid": false,
         "showticklabels": false,
         "tickformat": "s"
        },
        "xaxis5": {
         "anchor": "y5",
         "domain": [
          0.43733333333333335,
          0.5426666666666666
         ],
         "matches": "x55",
         "showgrid": false,
         "showticklabels": false,
         "tickformat": "s",
         "ticks": ""
        },
        "xaxis50": {
         "anchor": "y50",
         "domain": [
          0.43733333333333335,
          0.5426666666666666
         ],
         "matches": "x55",
         "showgrid": false,
         "showticklabels": false,
         "tickformat": "s"
        },
        "xaxis51": {
         "anchor": "y51",
         "domain": [
          0.5466666666666666,
          0.6519999999999999
         ],
         "matches": "x55",
         "showgrid": false,
         "showticklabels": false,
         "tickformat": "s"
        },
        "xaxis52": {
         "anchor": "y52",
         "domain": [
          0.6559999999999999,
          0.7613333333333332
         ],
         "matches": "x55",
         "showgrid": false,
         "showticklabels": false,
         "tickformat": "s",
         "ticks": ""
        },
        "xaxis53": {
         "anchor": "y53",
         "domain": [
          0.7653333333333332,
          0.8706666666666665
         ],
         "matches": "x55",
         "showgrid": false,
         "showticklabels": false,
         "tickformat": "s"
        },
        "xaxis54": {
         "anchor": "y54",
         "domain": [
          0.8746666666666665,
          0.9799999999999998
         ],
         "matches": "x55",
         "showgrid": false,
         "showticklabels": false,
         "tickformat": "s",
         "ticks": ""
        },
        "xaxis55": {
         "anchor": "y55",
         "domain": [
          0,
          0.10533333333333333
         ],
         "showgrid": false,
         "tickformat": "s",
         "ticks": "outside"
        },
        "xaxis56": {
         "anchor": "y56",
         "domain": [
          0.10933333333333334,
          0.21466666666666667
         ],
         "matches": "x55",
         "showgrid": false,
         "tickformat": "s",
         "ticks": "outside"
        },
        "xaxis57": {
         "anchor": "y57",
         "domain": [
          0.21866666666666668,
          0.324
         ],
         "matches": "x55",
         "showgrid": false,
         "tickformat": "s",
         "ticks": "outside"
        },
        "xaxis58": {
         "anchor": "y58",
         "domain": [
          0.328,
          0.43333333333333335
         ],
         "matches": "x55",
         "showgrid": false,
         "tickformat": "s",
         "ticks": "outside"
        },
        "xaxis59": {
         "anchor": "y59",
         "domain": [
          0.43733333333333335,
          0.5426666666666666
         ],
         "matches": "x55",
         "showgrid": false,
         "tickformat": "s",
         "ticks": "outside"
        },
        "xaxis6": {
         "anchor": "y6",
         "domain": [
          0.5466666666666666,
          0.6519999999999999
         ],
         "matches": "x55",
         "showgrid": false,
         "showticklabels": false,
         "tickformat": "s",
         "ticks": ""
        },
        "xaxis60": {
         "anchor": "y60",
         "domain": [
          0.5466666666666666,
          0.6519999999999999
         ],
         "matches": "x55",
         "showgrid": false,
         "tickformat": "s",
         "ticks": "outside"
        },
        "xaxis61": {
         "anchor": "y61",
         "domain": [
          0.6559999999999999,
          0.7613333333333332
         ],
         "matches": "x55",
         "showgrid": false,
         "tickformat": "s",
         "ticks": "outside"
        },
        "xaxis62": {
         "anchor": "y62",
         "domain": [
          0.7653333333333332,
          0.8706666666666665
         ],
         "matches": "x55",
         "showgrid": false,
         "tickformat": "s",
         "ticks": "outside"
        },
        "xaxis63": {
         "anchor": "y63",
         "domain": [
          0.8746666666666665,
          0.9799999999999998
         ],
         "matches": "x55",
         "showgrid": false,
         "tickformat": "s",
         "ticks": "outside"
        },
        "xaxis7": {
         "anchor": "y7",
         "domain": [
          0.6559999999999999,
          0.7613333333333332
         ],
         "matches": "x55",
         "showgrid": false,
         "showticklabels": false,
         "tickformat": "s",
         "ticks": ""
        },
        "xaxis8": {
         "anchor": "y8",
         "domain": [
          0.7653333333333332,
          0.8706666666666665
         ],
         "matches": "x55",
         "showgrid": false,
         "showticklabels": false,
         "tickformat": "s",
         "ticks": ""
        },
        "xaxis9": {
         "anchor": "y9",
         "domain": [
          0.8746666666666665,
          0.9799999999999998
         ],
         "matches": "x55",
         "showgrid": false,
         "showticklabels": false,
         "tickformat": "s",
         "ticks": ""
        },
        "yaxis": {
         "anchor": "x",
         "domain": [
          0.8657142857142859,
          1
         ],
         "matches": "y55",
         "type": "category",
         "visible": false
        },
        "yaxis10": {
         "anchor": "x10",
         "domain": [
          0.7214285714285715,
          0.8557142857142859
         ],
         "matches": "y55",
         "type": "category",
         "visible": false
        },
        "yaxis11": {
         "anchor": "x11",
         "domain": [
          0.7214285714285715,
          0.8557142857142859
         ],
         "matches": "y55",
         "showticklabels": false,
         "type": "category",
         "visible": false
        },
        "yaxis12": {
         "anchor": "x12",
         "domain": [
          0.7214285714285715,
          0.8557142857142859
         ],
         "matches": "y55",
         "showticklabels": false,
         "type": "category",
         "visible": false
        },
        "yaxis13": {
         "anchor": "x13",
         "domain": [
          0.7214285714285715,
          0.8557142857142859
         ],
         "matches": "y55",
         "showticklabels": false,
         "type": "category",
         "visible": false
        },
        "yaxis14": {
         "anchor": "x14",
         "domain": [
          0.7214285714285715,
          0.8557142857142859
         ],
         "matches": "y55",
         "showticklabels": false,
         "type": "category",
         "visible": false
        },
        "yaxis15": {
         "anchor": "x15",
         "domain": [
          0.7214285714285715,
          0.8557142857142859
         ],
         "matches": "y55",
         "showticklabels": false,
         "type": "category",
         "visible": false
        },
        "yaxis16": {
         "anchor": "x16",
         "domain": [
          0.7214285714285715,
          0.8557142857142859
         ],
         "matches": "y55",
         "showticklabels": false,
         "type": "category",
         "visible": false
        },
        "yaxis17": {
         "anchor": "x17",
         "domain": [
          0.7214285714285715,
          0.8557142857142859
         ],
         "matches": "y55",
         "showticklabels": false,
         "type": "category",
         "visible": false
        },
        "yaxis18": {
         "anchor": "x18",
         "domain": [
          0.7214285714285715,
          0.8557142857142859
         ],
         "matches": "y55",
         "showticklabels": false,
         "type": "category",
         "visible": false
        },
        "yaxis19": {
         "anchor": "x19",
         "domain": [
          0.5771428571428572,
          0.7114285714285715
         ],
         "matches": "y55",
         "type": "category",
         "visible": false
        },
        "yaxis2": {
         "anchor": "x2",
         "domain": [
          0.8657142857142859,
          1
         ],
         "matches": "y55",
         "showticklabels": false,
         "type": "category",
         "visible": false
        },
        "yaxis20": {
         "anchor": "x20",
         "domain": [
          0.5771428571428572,
          0.7114285714285715
         ],
         "matches": "y55",
         "showticklabels": false,
         "type": "category",
         "visible": false
        },
        "yaxis21": {
         "anchor": "x21",
         "domain": [
          0.5771428571428572,
          0.7114285714285715
         ],
         "matches": "y55",
         "showticklabels": false,
         "type": "category",
         "visible": false
        },
        "yaxis22": {
         "anchor": "x22",
         "domain": [
          0.5771428571428572,
          0.7114285714285715
         ],
         "matches": "y55",
         "showticklabels": false,
         "type": "category",
         "visible": false
        },
        "yaxis23": {
         "anchor": "x23",
         "domain": [
          0.5771428571428572,
          0.7114285714285715
         ],
         "matches": "y55",
         "showticklabels": false,
         "type": "category",
         "visible": false
        },
        "yaxis24": {
         "anchor": "x24",
         "domain": [
          0.5771428571428572,
          0.7114285714285715
         ],
         "matches": "y55",
         "showticklabels": false,
         "type": "category",
         "visible": false
        },
        "yaxis25": {
         "anchor": "x25",
         "domain": [
          0.5771428571428572,
          0.7114285714285715
         ],
         "matches": "y55",
         "showticklabels": false,
         "type": "category",
         "visible": false
        },
        "yaxis26": {
         "anchor": "x26",
         "domain": [
          0.5771428571428572,
          0.7114285714285715
         ],
         "matches": "y55",
         "showticklabels": false,
         "type": "category",
         "visible": false
        },
        "yaxis27": {
         "anchor": "x27",
         "domain": [
          0.5771428571428572,
          0.7114285714285715
         ],
         "matches": "y55",
         "showticklabels": false,
         "type": "category",
         "visible": false
        },
        "yaxis28": {
         "anchor": "x28",
         "domain": [
          0.43285714285714283,
          0.5671428571428572
         ],
         "matches": "y55",
         "type": "category",
         "visible": false
        },
        "yaxis29": {
         "anchor": "x29",
         "domain": [
          0.43285714285714283,
          0.5671428571428572
         ],
         "matches": "y55",
         "showticklabels": false,
         "type": "category",
         "visible": false
        },
        "yaxis3": {
         "anchor": "x3",
         "domain": [
          0.8657142857142859,
          1
         ],
         "matches": "y55",
         "showticklabels": false,
         "type": "category",
         "visible": false
        },
        "yaxis30": {
         "anchor": "x30",
         "domain": [
          0.43285714285714283,
          0.5671428571428572
         ],
         "matches": "y55",
         "showticklabels": false,
         "type": "category",
         "visible": false
        },
        "yaxis31": {
         "anchor": "x31",
         "domain": [
          0.43285714285714283,
          0.5671428571428572
         ],
         "matches": "y55",
         "showticklabels": false,
         "type": "category",
         "visible": false
        },
        "yaxis32": {
         "anchor": "x32",
         "domain": [
          0.43285714285714283,
          0.5671428571428572
         ],
         "matches": "y55",
         "showticklabels": false,
         "type": "category",
         "visible": false
        },
        "yaxis33": {
         "anchor": "x33",
         "domain": [
          0.43285714285714283,
          0.5671428571428572
         ],
         "matches": "y55",
         "showticklabels": false,
         "type": "category",
         "visible": false
        },
        "yaxis34": {
         "anchor": "x34",
         "domain": [
          0.43285714285714283,
          0.5671428571428572
         ],
         "matches": "y55",
         "showticklabels": false,
         "type": "category",
         "visible": false
        },
        "yaxis35": {
         "anchor": "x35",
         "domain": [
          0.43285714285714283,
          0.5671428571428572
         ],
         "matches": "y55",
         "showticklabels": false,
         "type": "category",
         "visible": false
        },
        "yaxis36": {
         "anchor": "x36",
         "domain": [
          0.43285714285714283,
          0.5671428571428572
         ],
         "matches": "y55",
         "showticklabels": false,
         "type": "category",
         "visible": false
        },
        "yaxis37": {
         "anchor": "x37",
         "domain": [
          0.2885714285714286,
          0.4228571428571429
         ],
         "matches": "y55",
         "type": "category",
         "visible": false
        },
        "yaxis38": {
         "anchor": "x38",
         "domain": [
          0.2885714285714286,
          0.4228571428571429
         ],
         "matches": "y55",
         "showticklabels": false,
         "type": "category",
         "visible": false
        },
        "yaxis39": {
         "anchor": "x39",
         "domain": [
          0.2885714285714286,
          0.4228571428571429
         ],
         "matches": "y55",
         "showticklabels": false,
         "type": "category",
         "visible": false
        },
        "yaxis4": {
         "anchor": "x4",
         "domain": [
          0.8657142857142859,
          1
         ],
         "matches": "y55",
         "showticklabels": false,
         "type": "category",
         "visible": false
        },
        "yaxis40": {
         "anchor": "x40",
         "domain": [
          0.2885714285714286,
          0.4228571428571429
         ],
         "matches": "y55",
         "showticklabels": false,
         "type": "category",
         "visible": false
        },
        "yaxis41": {
         "anchor": "x41",
         "domain": [
          0.2885714285714286,
          0.4228571428571429
         ],
         "matches": "y55",
         "showticklabels": false,
         "type": "category",
         "visible": false
        },
        "yaxis42": {
         "anchor": "x42",
         "domain": [
          0.2885714285714286,
          0.4228571428571429
         ],
         "matches": "y55",
         "showticklabels": false,
         "type": "category",
         "visible": false
        },
        "yaxis43": {
         "anchor": "x43",
         "domain": [
          0.2885714285714286,
          0.4228571428571429
         ],
         "matches": "y55",
         "showticklabels": false,
         "type": "category",
         "visible": false
        },
        "yaxis44": {
         "anchor": "x44",
         "domain": [
          0.2885714285714286,
          0.4228571428571429
         ],
         "matches": "y55",
         "showticklabels": false,
         "type": "category",
         "visible": false
        },
        "yaxis45": {
         "anchor": "x45",
         "domain": [
          0.2885714285714286,
          0.4228571428571429
         ],
         "matches": "y55",
         "showticklabels": false,
         "type": "category",
         "visible": false
        },
        "yaxis46": {
         "anchor": "x46",
         "domain": [
          0.1442857142857143,
          0.2785714285714286
         ],
         "matches": "y55",
         "type": "category",
         "visible": false
        },
        "yaxis47": {
         "anchor": "x47",
         "domain": [
          0.1442857142857143,
          0.2785714285714286
         ],
         "matches": "y55",
         "showticklabels": false,
         "type": "category",
         "visible": false
        },
        "yaxis48": {
         "anchor": "x48",
         "domain": [
          0.1442857142857143,
          0.2785714285714286
         ],
         "matches": "y55",
         "showticklabels": false,
         "type": "category",
         "visible": false
        },
        "yaxis49": {
         "anchor": "x49",
         "domain": [
          0.1442857142857143,
          0.2785714285714286
         ],
         "matches": "y55",
         "showticklabels": false,
         "type": "category",
         "visible": false
        },
        "yaxis5": {
         "anchor": "x5",
         "domain": [
          0.8657142857142859,
          1
         ],
         "matches": "y55",
         "showticklabels": false,
         "type": "category",
         "visible": false
        },
        "yaxis50": {
         "anchor": "x50",
         "domain": [
          0.1442857142857143,
          0.2785714285714286
         ],
         "matches": "y55",
         "showticklabels": false,
         "type": "category",
         "visible": false
        },
        "yaxis51": {
         "anchor": "x51",
         "domain": [
          0.1442857142857143,
          0.2785714285714286
         ],
         "matches": "y55",
         "showticklabels": false,
         "type": "category",
         "visible": false
        },
        "yaxis52": {
         "anchor": "x52",
         "domain": [
          0.1442857142857143,
          0.2785714285714286
         ],
         "matches": "y55",
         "showticklabels": false,
         "type": "category",
         "visible": false
        },
        "yaxis53": {
         "anchor": "x53",
         "domain": [
          0.1442857142857143,
          0.2785714285714286
         ],
         "matches": "y55",
         "showticklabels": false,
         "type": "category",
         "visible": false
        },
        "yaxis54": {
         "anchor": "x54",
         "domain": [
          0.1442857142857143,
          0.2785714285714286
         ],
         "matches": "y55",
         "showticklabels": false,
         "type": "category",
         "visible": false
        },
        "yaxis55": {
         "anchor": "x55",
         "domain": [
          0,
          0.13428571428571429
         ],
         "type": "category",
         "visible": false
        },
        "yaxis56": {
         "anchor": "x56",
         "domain": [
          0,
          0.13428571428571429
         ],
         "matches": "y55",
         "showticklabels": false,
         "type": "category",
         "visible": false
        },
        "yaxis57": {
         "anchor": "x57",
         "domain": [
          0,
          0.13428571428571429
         ],
         "matches": "y55",
         "showticklabels": false,
         "type": "category",
         "visible": false
        },
        "yaxis58": {
         "anchor": "x58",
         "domain": [
          0,
          0.13428571428571429
         ],
         "matches": "y55",
         "showticklabels": false,
         "type": "category",
         "visible": false
        },
        "yaxis59": {
         "anchor": "x59",
         "domain": [
          0,
          0.13428571428571429
         ],
         "matches": "y55",
         "showticklabels": false,
         "type": "category",
         "visible": false
        },
        "yaxis6": {
         "anchor": "x6",
         "domain": [
          0.8657142857142859,
          1
         ],
         "matches": "y55",
         "showticklabels": false,
         "type": "category",
         "visible": false
        },
        "yaxis60": {
         "anchor": "x60",
         "domain": [
          0,
          0.13428571428571429
         ],
         "matches": "y55",
         "showticklabels": false,
         "type": "category",
         "visible": false
        },
        "yaxis61": {
         "anchor": "x61",
         "domain": [
          0,
          0.13428571428571429
         ],
         "matches": "y55",
         "showticklabels": false,
         "type": "category",
         "visible": false
        },
        "yaxis62": {
         "anchor": "x62",
         "domain": [
          0,
          0.13428571428571429
         ],
         "matches": "y55",
         "showticklabels": false,
         "type": "category",
         "visible": false
        },
        "yaxis63": {
         "anchor": "x63",
         "domain": [
          0,
          0.13428571428571429
         ],
         "matches": "y55",
         "showticklabels": false,
         "type": "category",
         "visible": false
        },
        "yaxis7": {
         "anchor": "x7",
         "domain": [
          0.8657142857142859,
          1
         ],
         "matches": "y55",
         "showticklabels": false,
         "type": "category",
         "visible": false
        },
        "yaxis8": {
         "anchor": "x8",
         "domain": [
          0.8657142857142859,
          1
         ],
         "matches": "y55",
         "showticklabels": false,
         "type": "category",
         "visible": false
        },
        "yaxis9": {
         "anchor": "x9",
         "domain": [
          0.8657142857142859,
          1
         ],
         "matches": "y55",
         "showticklabels": false,
         "type": "category",
         "visible": false
        }
       }
      },
      "text/html": [
       "<div>                            <div id=\"79d53987-4917-491a-8174-ed8998029cd6\" class=\"plotly-graph-div\" style=\"height:900px; width:1600px;\"></div>            <script type=\"text/javascript\">                require([\"plotly\"], function(Plotly) {                    window.PLOTLYENV=window.PLOTLYENV || {};                                    if (document.getElementById(\"79d53987-4917-491a-8174-ed8998029cd6\")) {                    Plotly.newPlot(                        \"79d53987-4917-491a-8174-ed8998029cd6\",                        [{\"marker\":{\"color\":\"darkorchid\"},\"name\":\"H-DNA\",\"orientation\":\"h\",\"showlegend\":true,\"textposition\":\"outside\",\"texttemplate\":\"%{x:,d}\",\"width\":1,\"x\":[669],\"y\":[\"H-DNA\"],\"type\":\"bar\",\"xaxis\":\"x\",\"yaxis\":\"y\"},{\"marker\":{\"color\":\"#ED4241\"},\"name\":\"SIDD\",\"orientation\":\"h\",\"showlegend\":true,\"textposition\":\"outside\",\"texttemplate\":\"%{x:,d}\",\"width\":1,\"x\":[236],\"y\":[\"SIDD\"],\"type\":\"bar\",\"xaxis\":\"x\",\"yaxis\":\"y\"},{\"marker\":{\"color\":\"royalblue\"},\"name\":\"Z-DNA\",\"orientation\":\"h\",\"showlegend\":true,\"textposition\":\"inside\",\"texttemplate\":\"%{x:,d}\",\"width\":1,\"x\":[4271],\"y\":[\"Z-DNA\"],\"type\":\"bar\",\"xaxis\":\"x\",\"yaxis\":\"y\"},{\"marker\":{\"color\":\"#FE9B54\"},\"name\":\"G4\",\"orientation\":\"h\",\"showlegend\":true,\"textposition\":\"inside\",\"texttemplate\":\"%{x:,d}\",\"width\":1,\"x\":[3414],\"y\":[\"G4\"],\"type\":\"bar\",\"xaxis\":\"x\",\"yaxis\":\"y\"},{\"marker\":{\"color\":\"darkorchid\"},\"name\":\"H-DNA\",\"orientation\":\"h\",\"showlegend\":false,\"textposition\":\"outside\",\"texttemplate\":\"%{x:,d}\",\"width\":1,\"x\":[107],\"y\":[\"H-DNA\"],\"type\":\"bar\",\"xaxis\":\"x2\",\"yaxis\":\"y2\"},{\"marker\":{\"color\":\"#ED4241\"},\"name\":\"SIDD\",\"orientation\":\"h\",\"showlegend\":false,\"textposition\":\"outside\",\"texttemplate\":\"%{x:,d}\",\"width\":1,\"x\":[59],\"y\":[\"SIDD\"],\"type\":\"bar\",\"xaxis\":\"x2\",\"yaxis\":\"y2\"},{\"marker\":{\"color\":\"royalblue\"},\"name\":\"Z-DNA\",\"orientation\":\"h\",\"showlegend\":false,\"textposition\":\"outside\",\"texttemplate\":\"%{x:,d}\",\"width\":1,\"x\":[409],\"y\":[\"Z-DNA\"],\"type\":\"bar\",\"xaxis\":\"x2\",\"yaxis\":\"y2\"},{\"marker\":{\"color\":\"#FE9B54\"},\"name\":\"G4\",\"orientation\":\"h\",\"showlegend\":false,\"textposition\":\"outside\",\"texttemplate\":\"%{x:,d}\",\"width\":1,\"x\":[325],\"y\":[\"G4\"],\"type\":\"bar\",\"xaxis\":\"x2\",\"yaxis\":\"y2\"},{\"marker\":{\"color\":\"darkorchid\"},\"name\":\"H-DNA\",\"orientation\":\"h\",\"showlegend\":false,\"textposition\":\"outside\",\"texttemplate\":\"%{x:,d}\",\"width\":1,\"x\":[53],\"y\":[\"H-DNA\"],\"type\":\"bar\",\"xaxis\":\"x3\",\"yaxis\":\"y3\"},{\"marker\":{\"color\":\"#ED4241\"},\"name\":\"SIDD\",\"orientation\":\"h\",\"showlegend\":false,\"textposition\":\"outside\",\"texttemplate\":\"%{x:,d}\",\"width\":1,\"x\":[29],\"y\":[\"SIDD\"],\"type\":\"bar\",\"xaxis\":\"x3\",\"yaxis\":\"y3\"},{\"marker\":{\"color\":\"royalblue\"},\"name\":\"Z-DNA\",\"orientation\":\"h\",\"showlegend\":false,\"textposition\":\"outside\",\"texttemplate\":\"%{x:,d}\",\"width\":1,\"x\":[193],\"y\":[\"Z-DNA\"],\"type\":\"bar\",\"xaxis\":\"x3\",\"yaxis\":\"y3\"},{\"marker\":{\"color\":\"#FE9B54\"},\"name\":\"G4\",\"orientation\":\"h\",\"showlegend\":false,\"textposition\":\"outside\",\"texttemplate\":\"%{x:,d}\",\"width\":1,\"x\":[155],\"y\":[\"G4\"],\"type\":\"bar\",\"xaxis\":\"x3\",\"yaxis\":\"y3\"},{\"marker\":{\"color\":\"#ED4241\"},\"name\":\"SIDD\",\"orientation\":\"h\",\"showlegend\":false,\"textposition\":\"outside\",\"texttemplate\":\"%{x:,d}\",\"width\":1,\"x\":[1.0],\"y\":[\"SIDD\"],\"type\":\"bar\",\"xaxis\":\"x4\",\"yaxis\":\"y4\"},{\"marker\":{\"color\":\"royalblue\"},\"name\":\"Z-DNA\",\"orientation\":\"h\",\"showlegend\":false,\"textposition\":\"outside\",\"texttemplate\":\"%{x:,d}\",\"width\":1,\"x\":[2.0],\"y\":[\"Z-DNA\"],\"type\":\"bar\",\"xaxis\":\"x4\",\"yaxis\":\"y4\"},{\"marker\":{\"color\":\"#FE9B54\"},\"name\":\"G4\",\"orientation\":\"h\",\"showlegend\":false,\"textposition\":\"outside\",\"texttemplate\":\"%{x:,d}\",\"width\":1,\"x\":[1.0],\"y\":[\"G4\"],\"type\":\"bar\",\"xaxis\":\"x4\",\"yaxis\":\"y4\"},{\"marker\":{\"color\":\"darkorchid\"},\"name\":\"H-DNA\",\"orientation\":\"h\",\"showlegend\":false,\"textposition\":\"outside\",\"texttemplate\":\"%{x:,d}\",\"width\":1,\"x\":[16],\"y\":[\"H-DNA\"],\"type\":\"bar\",\"xaxis\":\"x5\",\"yaxis\":\"y5\"},{\"marker\":{\"color\":\"#ED4241\"},\"name\":\"SIDD\",\"orientation\":\"h\",\"showlegend\":false,\"textposition\":\"outside\",\"texttemplate\":\"%{x:,d}\",\"width\":1,\"x\":[21],\"y\":[\"SIDD\"],\"type\":\"bar\",\"xaxis\":\"x5\",\"yaxis\":\"y5\"},{\"marker\":{\"color\":\"royalblue\"},\"name\":\"Z-DNA\",\"orientation\":\"h\",\"showlegend\":false,\"textposition\":\"outside\",\"texttemplate\":\"%{x:,d}\",\"width\":1,\"x\":[44],\"y\":[\"Z-DNA\"],\"type\":\"bar\",\"xaxis\":\"x5\",\"yaxis\":\"y5\"},{\"marker\":{\"color\":\"#FE9B54\"},\"name\":\"G4\",\"orientation\":\"h\",\"showlegend\":false,\"textposition\":\"outside\",\"texttemplate\":\"%{x:,d}\",\"width\":1,\"x\":[57],\"y\":[\"G4\"],\"type\":\"bar\",\"xaxis\":\"x5\",\"yaxis\":\"y5\"},{\"marker\":{\"color\":\"darkorchid\"},\"name\":\"H-DNA\",\"orientation\":\"h\",\"showlegend\":false,\"textposition\":\"outside\",\"texttemplate\":\"%{x:,d}\",\"width\":1,\"x\":[8],\"y\":[\"H-DNA\"],\"type\":\"bar\",\"xaxis\":\"x6\",\"yaxis\":\"y6\"},{\"marker\":{\"color\":\"#ED4241\"},\"name\":\"SIDD\",\"orientation\":\"h\",\"showlegend\":false,\"textposition\":\"outside\",\"texttemplate\":\"%{x:,d}\",\"width\":1,\"x\":[7],\"y\":[\"SIDD\"],\"type\":\"bar\",\"xaxis\":\"x6\",\"yaxis\":\"y6\"},{\"marker\":{\"color\":\"royalblue\"},\"name\":\"Z-DNA\",\"orientation\":\"h\",\"showlegend\":false,\"textposition\":\"outside\",\"texttemplate\":\"%{x:,d}\",\"width\":1,\"x\":[221],\"y\":[\"Z-DNA\"],\"type\":\"bar\",\"xaxis\":\"x6\",\"yaxis\":\"y6\"},{\"marker\":{\"color\":\"#FE9B54\"},\"name\":\"G4\",\"orientation\":\"h\",\"showlegend\":false,\"textposition\":\"outside\",\"texttemplate\":\"%{x:,d}\",\"width\":1,\"x\":[61],\"y\":[\"G4\"],\"type\":\"bar\",\"xaxis\":\"x6\",\"yaxis\":\"y6\"},{\"marker\":{\"color\":\"darkorchid\"},\"name\":\"H-DNA\",\"orientation\":\"h\",\"showlegend\":false,\"textposition\":\"outside\",\"texttemplate\":\"%{x:,d}\",\"width\":1,\"x\":[183],\"y\":[\"H-DNA\"],\"type\":\"bar\",\"xaxis\":\"x7\",\"yaxis\":\"y7\"},{\"marker\":{\"color\":\"#ED4241\"},\"name\":\"SIDD\",\"orientation\":\"h\",\"showlegend\":false,\"textposition\":\"outside\",\"texttemplate\":\"%{x:,d}\",\"width\":1,\"x\":[80],\"y\":[\"SIDD\"],\"type\":\"bar\",\"xaxis\":\"x7\",\"yaxis\":\"y7\"},{\"marker\":{\"color\":\"royalblue\"},\"name\":\"Z-DNA\",\"orientation\":\"h\",\"showlegend\":false,\"textposition\":\"outside\",\"texttemplate\":\"%{x:,d}\",\"width\":1,\"x\":[327],\"y\":[\"Z-DNA\"],\"type\":\"bar\",\"xaxis\":\"x7\",\"yaxis\":\"y7\"},{\"marker\":{\"color\":\"#FE9B54\"},\"name\":\"G4\",\"orientation\":\"h\",\"showlegend\":false,\"textposition\":\"outside\",\"texttemplate\":\"%{x:,d}\",\"width\":1,\"x\":[374],\"y\":[\"G4\"],\"type\":\"bar\",\"xaxis\":\"x7\",\"yaxis\":\"y7\"},{\"marker\":{\"color\":\"royalblue\"},\"name\":\"Z-DNA\",\"orientation\":\"h\",\"showlegend\":false,\"textposition\":\"outside\",\"texttemplate\":\"%{x:,d}\",\"width\":1,\"x\":[4.0],\"y\":[\"Z-DNA\"],\"type\":\"bar\",\"xaxis\":\"x8\",\"yaxis\":\"y8\"},{\"marker\":{\"color\":\"#FE9B54\"},\"name\":\"G4\",\"orientation\":\"h\",\"showlegend\":false,\"textposition\":\"outside\",\"texttemplate\":\"%{x:,d}\",\"width\":1,\"x\":[4.0],\"y\":[\"G4\"],\"type\":\"bar\",\"xaxis\":\"x8\",\"yaxis\":\"y8\"},{\"marker\":{\"color\":\"darkorchid\"},\"name\":\"H-DNA\",\"orientation\":\"h\",\"showlegend\":false,\"textposition\":\"outside\",\"texttemplate\":\"%{x:,d}\",\"width\":1,\"x\":[189],\"y\":[\"H-DNA\"],\"type\":\"bar\",\"xaxis\":\"x9\",\"yaxis\":\"y9\"},{\"marker\":{\"color\":\"#ED4241\"},\"name\":\"SIDD\",\"orientation\":\"h\",\"showlegend\":false,\"textposition\":\"outside\",\"texttemplate\":\"%{x:,d}\",\"width\":1,\"x\":[64],\"y\":[\"SIDD\"],\"type\":\"bar\",\"xaxis\":\"x9\",\"yaxis\":\"y9\"},{\"marker\":{\"color\":\"royalblue\"},\"name\":\"Z-DNA\",\"orientation\":\"h\",\"showlegend\":false,\"textposition\":\"outside\",\"texttemplate\":\"%{x:,d}\",\"width\":1,\"x\":[291],\"y\":[\"Z-DNA\"],\"type\":\"bar\",\"xaxis\":\"x9\",\"yaxis\":\"y9\"},{\"marker\":{\"color\":\"#FE9B54\"},\"name\":\"G4\",\"orientation\":\"h\",\"showlegend\":false,\"textposition\":\"outside\",\"texttemplate\":\"%{x:,d}\",\"width\":1,\"x\":[329],\"y\":[\"G4\"],\"type\":\"bar\",\"xaxis\":\"x9\",\"yaxis\":\"y9\"},{\"marker\":{\"color\":\"darkorchid\"},\"name\":\"H-DNA\",\"orientation\":\"h\",\"showlegend\":false,\"textposition\":\"outside\",\"texttemplate\":\"%{x:,d}\",\"width\":1,\"x\":[306],\"y\":[\"H-DNA\"],\"type\":\"bar\",\"xaxis\":\"x10\",\"yaxis\":\"y10\"},{\"marker\":{\"color\":\"#ED4241\"},\"name\":\"SIDD\",\"orientation\":\"h\",\"showlegend\":false,\"textposition\":\"outside\",\"texttemplate\":\"%{x:,d}\",\"width\":1,\"x\":[445],\"y\":[\"SIDD\"],\"type\":\"bar\",\"xaxis\":\"x10\",\"yaxis\":\"y10\"},{\"marker\":{\"color\":\"royalblue\"},\"name\":\"Z-DNA\",\"orientation\":\"h\",\"showlegend\":false,\"textposition\":\"outside\",\"texttemplate\":\"%{x:,d}\",\"width\":1,\"x\":[298],\"y\":[\"Z-DNA\"],\"type\":\"bar\",\"xaxis\":\"x10\",\"yaxis\":\"y10\"},{\"marker\":{\"color\":\"#FE9B54\"},\"name\":\"G4\",\"orientation\":\"h\",\"showlegend\":false,\"textposition\":\"outside\",\"texttemplate\":\"%{x:,d}\",\"width\":1,\"x\":[247],\"y\":[\"G4\"],\"type\":\"bar\",\"xaxis\":\"x10\",\"yaxis\":\"y10\"},{\"marker\":{\"color\":\"darkorchid\"},\"name\":\"H-DNA\",\"orientation\":\"h\",\"showlegend\":false,\"textposition\":\"outside\",\"texttemplate\":\"%{x:,d}\",\"width\":1,\"x\":[295],\"y\":[\"H-DNA\"],\"type\":\"bar\",\"xaxis\":\"x11\",\"yaxis\":\"y11\"},{\"marker\":{\"color\":\"#ED4241\"},\"name\":\"SIDD\",\"orientation\":\"h\",\"showlegend\":false,\"textposition\":\"outside\",\"texttemplate\":\"%{x:,d}\",\"width\":1,\"x\":[446],\"y\":[\"SIDD\"],\"type\":\"bar\",\"xaxis\":\"x11\",\"yaxis\":\"y11\"},{\"marker\":{\"color\":\"royalblue\"},\"name\":\"Z-DNA\",\"orientation\":\"h\",\"showlegend\":false,\"textposition\":\"outside\",\"texttemplate\":\"%{x:,d}\",\"width\":1,\"x\":[221],\"y\":[\"Z-DNA\"],\"type\":\"bar\",\"xaxis\":\"x11\",\"yaxis\":\"y11\"},{\"marker\":{\"color\":\"#FE9B54\"},\"name\":\"G4\",\"orientation\":\"h\",\"showlegend\":false,\"textposition\":\"outside\",\"texttemplate\":\"%{x:,d}\",\"width\":1,\"x\":[293],\"y\":[\"G4\"],\"type\":\"bar\",\"xaxis\":\"x11\",\"yaxis\":\"y11\"},{\"marker\":{\"color\":\"darkorchid\"},\"name\":\"H-DNA\",\"orientation\":\"h\",\"showlegend\":false,\"textposition\":\"outside\",\"texttemplate\":\"%{x:,d}\",\"width\":1,\"x\":[328],\"y\":[\"H-DNA\"],\"type\":\"bar\",\"xaxis\":\"x12\",\"yaxis\":\"y12\"},{\"marker\":{\"color\":\"#ED4241\"},\"name\":\"SIDD\",\"orientation\":\"h\",\"showlegend\":false,\"textposition\":\"outside\",\"texttemplate\":\"%{x:,d}\",\"width\":1,\"x\":[385],\"y\":[\"SIDD\"],\"type\":\"bar\",\"xaxis\":\"x12\",\"yaxis\":\"y12\"},{\"marker\":{\"color\":\"royalblue\"},\"name\":\"Z-DNA\",\"orientation\":\"h\",\"showlegend\":false,\"textposition\":\"outside\",\"texttemplate\":\"%{x:,d}\",\"width\":1,\"x\":[296],\"y\":[\"Z-DNA\"],\"type\":\"bar\",\"xaxis\":\"x12\",\"yaxis\":\"y12\"},{\"marker\":{\"color\":\"#FE9B54\"},\"name\":\"G4\",\"orientation\":\"h\",\"showlegend\":false,\"textposition\":\"outside\",\"texttemplate\":\"%{x:,d}\",\"width\":1,\"x\":[257],\"y\":[\"G4\"],\"type\":\"bar\",\"xaxis\":\"x12\",\"yaxis\":\"y12\"},{\"marker\":{\"color\":\"royalblue\"},\"name\":\"Z-DNA\",\"orientation\":\"h\",\"showlegend\":false,\"textposition\":\"outside\",\"texttemplate\":\"%{x:,d}\",\"width\":1,\"x\":[1.0],\"y\":[\"Z-DNA\"],\"type\":\"bar\",\"xaxis\":\"x13\",\"yaxis\":\"y13\"},{\"marker\":{\"color\":\"darkorchid\"},\"name\":\"H-DNA\",\"orientation\":\"h\",\"showlegend\":false,\"textposition\":\"outside\",\"texttemplate\":\"%{x:,d}\",\"width\":1,\"x\":[19],\"y\":[\"H-DNA\"],\"type\":\"bar\",\"xaxis\":\"x14\",\"yaxis\":\"y14\"},{\"marker\":{\"color\":\"#ED4241\"},\"name\":\"SIDD\",\"orientation\":\"h\",\"showlegend\":false,\"textposition\":\"outside\",\"texttemplate\":\"%{x:,d}\",\"width\":1,\"x\":[48],\"y\":[\"SIDD\"],\"type\":\"bar\",\"xaxis\":\"x14\",\"yaxis\":\"y14\"},{\"marker\":{\"color\":\"royalblue\"},\"name\":\"Z-DNA\",\"orientation\":\"h\",\"showlegend\":false,\"textposition\":\"outside\",\"texttemplate\":\"%{x:,d}\",\"width\":1,\"x\":[26],\"y\":[\"Z-DNA\"],\"type\":\"bar\",\"xaxis\":\"x14\",\"yaxis\":\"y14\"},{\"marker\":{\"color\":\"#FE9B54\"},\"name\":\"G4\",\"orientation\":\"h\",\"showlegend\":false,\"textposition\":\"outside\",\"texttemplate\":\"%{x:,d}\",\"width\":1,\"x\":[18],\"y\":[\"G4\"],\"type\":\"bar\",\"xaxis\":\"x14\",\"yaxis\":\"y14\"},{\"marker\":{\"color\":\"darkorchid\"},\"name\":\"H-DNA\",\"orientation\":\"h\",\"showlegend\":false,\"textposition\":\"outside\",\"texttemplate\":\"%{x:,d}\",\"width\":1,\"x\":[16],\"y\":[\"H-DNA\"],\"type\":\"bar\",\"xaxis\":\"x15\",\"yaxis\":\"y15\"},{\"marker\":{\"color\":\"#ED4241\"},\"name\":\"SIDD\",\"orientation\":\"h\",\"showlegend\":false,\"textposition\":\"outside\",\"texttemplate\":\"%{x:,d}\",\"width\":1,\"x\":[47],\"y\":[\"SIDD\"],\"type\":\"bar\",\"xaxis\":\"x15\",\"yaxis\":\"y15\"},{\"marker\":{\"color\":\"royalblue\"},\"name\":\"Z-DNA\",\"orientation\":\"h\",\"showlegend\":false,\"textposition\":\"outside\",\"texttemplate\":\"%{x:,d}\",\"width\":1,\"x\":[30],\"y\":[\"Z-DNA\"],\"type\":\"bar\",\"xaxis\":\"x15\",\"yaxis\":\"y15\"},{\"marker\":{\"color\":\"#FE9B54\"},\"name\":\"G4\",\"orientation\":\"h\",\"showlegend\":false,\"textposition\":\"outside\",\"texttemplate\":\"%{x:,d}\",\"width\":1,\"x\":[21],\"y\":[\"G4\"],\"type\":\"bar\",\"xaxis\":\"x15\",\"yaxis\":\"y15\"},{\"marker\":{\"color\":\"darkorchid\"},\"name\":\"H-DNA\",\"orientation\":\"h\",\"showlegend\":false,\"textposition\":\"inside\",\"texttemplate\":\"%{x:,d}\",\"width\":1,\"x\":[2645],\"y\":[\"H-DNA\"],\"type\":\"bar\",\"xaxis\":\"x16\",\"yaxis\":\"y16\"},{\"marker\":{\"color\":\"#ED4241\"},\"name\":\"SIDD\",\"orientation\":\"h\",\"showlegend\":false,\"textposition\":\"inside\",\"texttemplate\":\"%{x:,d}\",\"width\":1,\"x\":[3429],\"y\":[\"SIDD\"],\"type\":\"bar\",\"xaxis\":\"x16\",\"yaxis\":\"y16\"},{\"marker\":{\"color\":\"royalblue\"},\"name\":\"Z-DNA\",\"orientation\":\"h\",\"showlegend\":false,\"textposition\":\"outside\",\"texttemplate\":\"%{x:,d}\",\"width\":1,\"x\":[1805],\"y\":[\"Z-DNA\"],\"type\":\"bar\",\"xaxis\":\"x16\",\"yaxis\":\"y16\"},{\"marker\":{\"color\":\"#FE9B54\"},\"name\":\"G4\",\"orientation\":\"h\",\"showlegend\":false,\"textposition\":\"inside\",\"texttemplate\":\"%{x:,d}\",\"width\":1,\"x\":[2412],\"y\":[\"G4\"],\"type\":\"bar\",\"xaxis\":\"x16\",\"yaxis\":\"y16\"},{\"marker\":{\"color\":\"darkorchid\"},\"name\":\"H-DNA\",\"orientation\":\"h\",\"showlegend\":false,\"textposition\":\"outside\",\"texttemplate\":\"%{x:,d}\",\"width\":1,\"x\":[5],\"y\":[\"H-DNA\"],\"type\":\"bar\",\"xaxis\":\"x17\",\"yaxis\":\"y17\"},{\"marker\":{\"color\":\"#ED4241\"},\"name\":\"SIDD\",\"orientation\":\"h\",\"showlegend\":false,\"textposition\":\"outside\",\"texttemplate\":\"%{x:,d}\",\"width\":1,\"x\":[10],\"y\":[\"SIDD\"],\"type\":\"bar\",\"xaxis\":\"x17\",\"yaxis\":\"y17\"},{\"marker\":{\"color\":\"royalblue\"},\"name\":\"Z-DNA\",\"orientation\":\"h\",\"showlegend\":false,\"textposition\":\"outside\",\"texttemplate\":\"%{x:,d}\",\"width\":1,\"x\":[5],\"y\":[\"Z-DNA\"],\"type\":\"bar\",\"xaxis\":\"x17\",\"yaxis\":\"y17\"},{\"marker\":{\"color\":\"#FE9B54\"},\"name\":\"G4\",\"orientation\":\"h\",\"showlegend\":false,\"textposition\":\"outside\",\"texttemplate\":\"%{x:,d}\",\"width\":1,\"x\":[5],\"y\":[\"G4\"],\"type\":\"bar\",\"xaxis\":\"x17\",\"yaxis\":\"y17\"},{\"marker\":{\"color\":\"darkorchid\"},\"name\":\"H-DNA\",\"orientation\":\"h\",\"showlegend\":false,\"textposition\":\"inside\",\"texttemplate\":\"%{x:,d}\",\"width\":1,\"x\":[6036],\"y\":[\"H-DNA\"],\"type\":\"bar\",\"xaxis\":\"x18\",\"yaxis\":\"y18\"},{\"marker\":{\"color\":\"#ED4241\"},\"name\":\"SIDD\",\"orientation\":\"h\",\"showlegend\":false,\"textposition\":\"inside\",\"texttemplate\":\"%{x:,d}\",\"width\":1,\"x\":[8395],\"y\":[\"SIDD\"],\"type\":\"bar\",\"xaxis\":\"x18\",\"yaxis\":\"y18\"},{\"marker\":{\"color\":\"royalblue\"},\"name\":\"Z-DNA\",\"orientation\":\"h\",\"showlegend\":false,\"textposition\":\"inside\",\"texttemplate\":\"%{x:,d}\",\"width\":1,\"x\":[4484],\"y\":[\"Z-DNA\"],\"type\":\"bar\",\"xaxis\":\"x18\",\"yaxis\":\"y18\"},{\"marker\":{\"color\":\"#FE9B54\"},\"name\":\"G4\",\"orientation\":\"h\",\"showlegend\":false,\"textposition\":\"inside\",\"texttemplate\":\"%{x:,d}\",\"width\":1,\"x\":[5133],\"y\":[\"G4\"],\"type\":\"bar\",\"xaxis\":\"x18\",\"yaxis\":\"y18\"},{\"marker\":{\"color\":\"darkorchid\"},\"name\":\"H-DNA\",\"orientation\":\"h\",\"showlegend\":false,\"textposition\":\"outside\",\"texttemplate\":\"%{x:,d}\",\"width\":1,\"x\":[46],\"y\":[\"H-DNA\"],\"type\":\"bar\",\"xaxis\":\"x19\",\"yaxis\":\"y19\"},{\"marker\":{\"color\":\"#ED4241\"},\"name\":\"SIDD\",\"orientation\":\"h\",\"showlegend\":false,\"textposition\":\"outside\",\"texttemplate\":\"%{x:,d}\",\"width\":1,\"x\":[31],\"y\":[\"SIDD\"],\"type\":\"bar\",\"xaxis\":\"x19\",\"yaxis\":\"y19\"},{\"marker\":{\"color\":\"royalblue\"},\"name\":\"Z-DNA\",\"orientation\":\"h\",\"showlegend\":false,\"textposition\":\"outside\",\"texttemplate\":\"%{x:,d}\",\"width\":1,\"x\":[40],\"y\":[\"Z-DNA\"],\"type\":\"bar\",\"xaxis\":\"x19\",\"yaxis\":\"y19\"},{\"marker\":{\"color\":\"#FE9B54\"},\"name\":\"G4\",\"orientation\":\"h\",\"showlegend\":false,\"textposition\":\"outside\",\"texttemplate\":\"%{x:,d}\",\"width\":1,\"x\":[42],\"y\":[\"G4\"],\"type\":\"bar\",\"xaxis\":\"x19\",\"yaxis\":\"y19\"},{\"marker\":{\"color\":\"darkorchid\"},\"name\":\"H-DNA\",\"orientation\":\"h\",\"showlegend\":false,\"textposition\":\"outside\",\"texttemplate\":\"%{x:,d}\",\"width\":1,\"x\":[17],\"y\":[\"H-DNA\"],\"type\":\"bar\",\"xaxis\":\"x20\",\"yaxis\":\"y20\"},{\"marker\":{\"color\":\"#ED4241\"},\"name\":\"SIDD\",\"orientation\":\"h\",\"showlegend\":false,\"textposition\":\"outside\",\"texttemplate\":\"%{x:,d}\",\"width\":1,\"x\":[12],\"y\":[\"SIDD\"],\"type\":\"bar\",\"xaxis\":\"x20\",\"yaxis\":\"y20\"},{\"marker\":{\"color\":\"royalblue\"},\"name\":\"Z-DNA\",\"orientation\":\"h\",\"showlegend\":false,\"textposition\":\"outside\",\"texttemplate\":\"%{x:,d}\",\"width\":1,\"x\":[8],\"y\":[\"Z-DNA\"],\"type\":\"bar\",\"xaxis\":\"x20\",\"yaxis\":\"y20\"},{\"marker\":{\"color\":\"#FE9B54\"},\"name\":\"G4\",\"orientation\":\"h\",\"showlegend\":false,\"textposition\":\"outside\",\"texttemplate\":\"%{x:,d}\",\"width\":1,\"x\":[15],\"y\":[\"G4\"],\"type\":\"bar\",\"xaxis\":\"x20\",\"yaxis\":\"y20\"},{\"marker\":{\"color\":\"darkorchid\"},\"name\":\"H-DNA\",\"orientation\":\"h\",\"showlegend\":false,\"textposition\":\"outside\",\"texttemplate\":\"%{x:,d}\",\"width\":1,\"x\":[19],\"y\":[\"H-DNA\"],\"type\":\"bar\",\"xaxis\":\"x21\",\"yaxis\":\"y21\"},{\"marker\":{\"color\":\"#ED4241\"},\"name\":\"SIDD\",\"orientation\":\"h\",\"showlegend\":false,\"textposition\":\"outside\",\"texttemplate\":\"%{x:,d}\",\"width\":1,\"x\":[19],\"y\":[\"SIDD\"],\"type\":\"bar\",\"xaxis\":\"x21\",\"yaxis\":\"y21\"},{\"marker\":{\"color\":\"royalblue\"},\"name\":\"Z-DNA\",\"orientation\":\"h\",\"showlegend\":false,\"textposition\":\"outside\",\"texttemplate\":\"%{x:,d}\",\"width\":1,\"x\":[7],\"y\":[\"Z-DNA\"],\"type\":\"bar\",\"xaxis\":\"x21\",\"yaxis\":\"y21\"},{\"marker\":{\"color\":\"#FE9B54\"},\"name\":\"G4\",\"orientation\":\"h\",\"showlegend\":false,\"textposition\":\"outside\",\"texttemplate\":\"%{x:,d}\",\"width\":1,\"x\":[10],\"y\":[\"G4\"],\"type\":\"bar\",\"xaxis\":\"x21\",\"yaxis\":\"y21\"},{\"marker\":{\"color\":\"#ED4241\"},\"name\":\"SIDD\",\"orientation\":\"h\",\"showlegend\":false,\"textposition\":\"outside\",\"texttemplate\":\"%{x:,d}\",\"width\":1,\"x\":[1.0],\"y\":[\"SIDD\"],\"type\":\"bar\",\"xaxis\":\"x23\",\"yaxis\":\"y23\"},{\"marker\":{\"color\":\"royalblue\"},\"name\":\"Z-DNA\",\"orientation\":\"h\",\"showlegend\":false,\"textposition\":\"outside\",\"texttemplate\":\"%{x:,d}\",\"width\":1,\"x\":[1.0],\"y\":[\"Z-DNA\"],\"type\":\"bar\",\"xaxis\":\"x24\",\"yaxis\":\"y24\"},{\"marker\":{\"color\":\"#FE9B54\"},\"name\":\"G4\",\"orientation\":\"h\",\"showlegend\":false,\"textposition\":\"outside\",\"texttemplate\":\"%{x:,d}\",\"width\":1,\"x\":[2.0],\"y\":[\"G4\"],\"type\":\"bar\",\"xaxis\":\"x24\",\"yaxis\":\"y24\"},{\"marker\":{\"color\":\"darkorchid\"},\"name\":\"H-DNA\",\"orientation\":\"h\",\"showlegend\":false,\"textposition\":\"outside\",\"texttemplate\":\"%{x:,d}\",\"width\":1,\"x\":[90],\"y\":[\"H-DNA\"],\"type\":\"bar\",\"xaxis\":\"x25\",\"yaxis\":\"y25\"},{\"marker\":{\"color\":\"#ED4241\"},\"name\":\"SIDD\",\"orientation\":\"h\",\"showlegend\":false,\"textposition\":\"outside\",\"texttemplate\":\"%{x:,d}\",\"width\":1,\"x\":[84],\"y\":[\"SIDD\"],\"type\":\"bar\",\"xaxis\":\"x25\",\"yaxis\":\"y25\"},{\"marker\":{\"color\":\"royalblue\"},\"name\":\"Z-DNA\",\"orientation\":\"h\",\"showlegend\":false,\"textposition\":\"outside\",\"texttemplate\":\"%{x:,d}\",\"width\":1,\"x\":[79],\"y\":[\"Z-DNA\"],\"type\":\"bar\",\"xaxis\":\"x25\",\"yaxis\":\"y25\"},{\"marker\":{\"color\":\"#FE9B54\"},\"name\":\"G4\",\"orientation\":\"h\",\"showlegend\":false,\"textposition\":\"outside\",\"texttemplate\":\"%{x:,d}\",\"width\":1,\"x\":[54],\"y\":[\"G4\"],\"type\":\"bar\",\"xaxis\":\"x25\",\"yaxis\":\"y25\"},{\"marker\":{\"color\":\"#FE9B54\"},\"name\":\"G4\",\"orientation\":\"h\",\"showlegend\":false,\"textposition\":\"outside\",\"texttemplate\":\"%{x:,d}\",\"width\":1,\"x\":[1.0],\"y\":[\"G4\"],\"type\":\"bar\",\"xaxis\":\"x26\",\"yaxis\":\"y26\"},{\"marker\":{\"color\":\"darkorchid\"},\"name\":\"H-DNA\",\"orientation\":\"h\",\"showlegend\":false,\"textposition\":\"outside\",\"texttemplate\":\"%{x:,d}\",\"width\":1,\"x\":[140],\"y\":[\"H-DNA\"],\"type\":\"bar\",\"xaxis\":\"x27\",\"yaxis\":\"y27\"},{\"marker\":{\"color\":\"#ED4241\"},\"name\":\"SIDD\",\"orientation\":\"h\",\"showlegend\":false,\"textposition\":\"outside\",\"texttemplate\":\"%{x:,d}\",\"width\":1,\"x\":[83],\"y\":[\"SIDD\"],\"type\":\"bar\",\"xaxis\":\"x27\",\"yaxis\":\"y27\"},{\"marker\":{\"color\":\"royalblue\"},\"name\":\"Z-DNA\",\"orientation\":\"h\",\"showlegend\":false,\"textposition\":\"outside\",\"texttemplate\":\"%{x:,d}\",\"width\":1,\"x\":[99],\"y\":[\"Z-DNA\"],\"type\":\"bar\",\"xaxis\":\"x27\",\"yaxis\":\"y27\"},{\"marker\":{\"color\":\"#FE9B54\"},\"name\":\"G4\",\"orientation\":\"h\",\"showlegend\":false,\"textposition\":\"outside\",\"texttemplate\":\"%{x:,d}\",\"width\":1,\"x\":[92],\"y\":[\"G4\"],\"type\":\"bar\",\"xaxis\":\"x27\",\"yaxis\":\"y27\"},{\"marker\":{\"color\":\"darkorchid\"},\"name\":\"H-DNA\",\"orientation\":\"h\",\"showlegend\":false,\"textposition\":\"outside\",\"texttemplate\":\"%{x:,d}\",\"width\":1,\"x\":[4.0],\"y\":[\"H-DNA\"],\"type\":\"bar\",\"xaxis\":\"x28\",\"yaxis\":\"y28\"},{\"marker\":{\"color\":\"royalblue\"},\"name\":\"Z-DNA\",\"orientation\":\"h\",\"showlegend\":false,\"textposition\":\"outside\",\"texttemplate\":\"%{x:,d}\",\"width\":1,\"x\":[4.0],\"y\":[\"Z-DNA\"],\"type\":\"bar\",\"xaxis\":\"x28\",\"yaxis\":\"y28\"},{\"marker\":{\"color\":\"#FE9B54\"},\"name\":\"G4\",\"orientation\":\"h\",\"showlegend\":false,\"textposition\":\"outside\",\"texttemplate\":\"%{x:,d}\",\"width\":1,\"x\":[4.0],\"y\":[\"G4\"],\"type\":\"bar\",\"xaxis\":\"x28\",\"yaxis\":\"y28\"},{\"marker\":{\"color\":\"darkorchid\"},\"name\":\"H-DNA\",\"orientation\":\"h\",\"showlegend\":false,\"textposition\":\"outside\",\"texttemplate\":\"%{x:,d}\",\"width\":1,\"x\":[1.0],\"y\":[\"H-DNA\"],\"type\":\"bar\",\"xaxis\":\"x29\",\"yaxis\":\"y29\"},{\"marker\":{\"color\":\"#ED4241\"},\"name\":\"SIDD\",\"orientation\":\"h\",\"showlegend\":false,\"textposition\":\"outside\",\"texttemplate\":\"%{x:,d}\",\"width\":1,\"x\":[2.0],\"y\":[\"SIDD\"],\"type\":\"bar\",\"xaxis\":\"x29\",\"yaxis\":\"y29\"},{\"marker\":{\"color\":\"#FE9B54\"},\"name\":\"G4\",\"orientation\":\"h\",\"showlegend\":false,\"textposition\":\"outside\",\"texttemplate\":\"%{x:,d}\",\"width\":1,\"x\":[3.0],\"y\":[\"G4\"],\"type\":\"bar\",\"xaxis\":\"x29\",\"yaxis\":\"y29\"},{\"marker\":{\"color\":\"darkorchid\"},\"name\":\"H-DNA\",\"orientation\":\"h\",\"showlegend\":false,\"textposition\":\"outside\",\"texttemplate\":\"%{x:,d}\",\"width\":1,\"x\":[4],\"y\":[\"H-DNA\"],\"type\":\"bar\",\"xaxis\":\"x30\",\"yaxis\":\"y30\"},{\"marker\":{\"color\":\"#ED4241\"},\"name\":\"SIDD\",\"orientation\":\"h\",\"showlegend\":false,\"textposition\":\"outside\",\"texttemplate\":\"%{x:,d}\",\"width\":1,\"x\":[3],\"y\":[\"SIDD\"],\"type\":\"bar\",\"xaxis\":\"x30\",\"yaxis\":\"y30\"},{\"marker\":{\"color\":\"royalblue\"},\"name\":\"Z-DNA\",\"orientation\":\"h\",\"showlegend\":false,\"textposition\":\"outside\",\"texttemplate\":\"%{x:,d}\",\"width\":1,\"x\":[5],\"y\":[\"Z-DNA\"],\"type\":\"bar\",\"xaxis\":\"x30\",\"yaxis\":\"y30\"},{\"marker\":{\"color\":\"#FE9B54\"},\"name\":\"G4\",\"orientation\":\"h\",\"showlegend\":false,\"textposition\":\"outside\",\"texttemplate\":\"%{x:,d}\",\"width\":1,\"x\":[1],\"y\":[\"G4\"],\"type\":\"bar\",\"xaxis\":\"x30\",\"yaxis\":\"y30\"},{\"marker\":{\"color\":\"#ED4241\"},\"name\":\"SIDD\",\"orientation\":\"h\",\"showlegend\":false,\"textposition\":\"outside\",\"texttemplate\":\"%{x:,d}\",\"width\":1,\"x\":[2.0],\"y\":[\"SIDD\"],\"type\":\"bar\",\"xaxis\":\"x32\",\"yaxis\":\"y32\"},{\"marker\":{\"color\":\"#FE9B54\"},\"name\":\"G4\",\"orientation\":\"h\",\"showlegend\":false,\"textposition\":\"outside\",\"texttemplate\":\"%{x:,d}\",\"width\":1,\"x\":[1.0],\"y\":[\"G4\"],\"type\":\"bar\",\"xaxis\":\"x32\",\"yaxis\":\"y32\"},{\"marker\":{\"color\":\"royalblue\"},\"name\":\"Z-DNA\",\"orientation\":\"h\",\"showlegend\":false,\"textposition\":\"outside\",\"texttemplate\":\"%{x:,d}\",\"width\":1,\"x\":[3.0],\"y\":[\"Z-DNA\"],\"type\":\"bar\",\"xaxis\":\"x33\",\"yaxis\":\"y33\"},{\"marker\":{\"color\":\"darkorchid\"},\"name\":\"H-DNA\",\"orientation\":\"h\",\"showlegend\":false,\"textposition\":\"outside\",\"texttemplate\":\"%{x:,d}\",\"width\":1,\"x\":[19],\"y\":[\"H-DNA\"],\"type\":\"bar\",\"xaxis\":\"x34\",\"yaxis\":\"y34\"},{\"marker\":{\"color\":\"#ED4241\"},\"name\":\"SIDD\",\"orientation\":\"h\",\"showlegend\":false,\"textposition\":\"outside\",\"texttemplate\":\"%{x:,d}\",\"width\":1,\"x\":[7],\"y\":[\"SIDD\"],\"type\":\"bar\",\"xaxis\":\"x34\",\"yaxis\":\"y34\"},{\"marker\":{\"color\":\"royalblue\"},\"name\":\"Z-DNA\",\"orientation\":\"h\",\"showlegend\":false,\"textposition\":\"outside\",\"texttemplate\":\"%{x:,d}\",\"width\":1,\"x\":[23],\"y\":[\"Z-DNA\"],\"type\":\"bar\",\"xaxis\":\"x34\",\"yaxis\":\"y34\"},{\"marker\":{\"color\":\"#FE9B54\"},\"name\":\"G4\",\"orientation\":\"h\",\"showlegend\":false,\"textposition\":\"outside\",\"texttemplate\":\"%{x:,d}\",\"width\":1,\"x\":[18],\"y\":[\"G4\"],\"type\":\"bar\",\"xaxis\":\"x34\",\"yaxis\":\"y34\"},{\"marker\":{\"color\":\"darkorchid\"},\"name\":\"H-DNA\",\"orientation\":\"h\",\"showlegend\":false,\"textposition\":\"outside\",\"texttemplate\":\"%{x:,d}\",\"width\":1,\"x\":[20],\"y\":[\"H-DNA\"],\"type\":\"bar\",\"xaxis\":\"x36\",\"yaxis\":\"y36\"},{\"marker\":{\"color\":\"#ED4241\"},\"name\":\"SIDD\",\"orientation\":\"h\",\"showlegend\":false,\"textposition\":\"outside\",\"texttemplate\":\"%{x:,d}\",\"width\":1,\"x\":[2],\"y\":[\"SIDD\"],\"type\":\"bar\",\"xaxis\":\"x36\",\"yaxis\":\"y36\"},{\"marker\":{\"color\":\"royalblue\"},\"name\":\"Z-DNA\",\"orientation\":\"h\",\"showlegend\":false,\"textposition\":\"outside\",\"texttemplate\":\"%{x:,d}\",\"width\":1,\"x\":[19],\"y\":[\"Z-DNA\"],\"type\":\"bar\",\"xaxis\":\"x36\",\"yaxis\":\"y36\"},{\"marker\":{\"color\":\"#FE9B54\"},\"name\":\"G4\",\"orientation\":\"h\",\"showlegend\":false,\"textposition\":\"outside\",\"texttemplate\":\"%{x:,d}\",\"width\":1,\"x\":[15],\"y\":[\"G4\"],\"type\":\"bar\",\"xaxis\":\"x36\",\"yaxis\":\"y36\"},{\"marker\":{\"color\":\"darkorchid\"},\"name\":\"H-DNA\",\"orientation\":\"h\",\"showlegend\":false,\"textposition\":\"outside\",\"texttemplate\":\"%{x:,d}\",\"width\":1,\"x\":[569],\"y\":[\"H-DNA\"],\"type\":\"bar\",\"xaxis\":\"x37\",\"yaxis\":\"y37\"},{\"marker\":{\"color\":\"#ED4241\"},\"name\":\"SIDD\",\"orientation\":\"h\",\"showlegend\":false,\"textposition\":\"outside\",\"texttemplate\":\"%{x:,d}\",\"width\":1,\"x\":[182],\"y\":[\"SIDD\"],\"type\":\"bar\",\"xaxis\":\"x37\",\"yaxis\":\"y37\"},{\"marker\":{\"color\":\"royalblue\"},\"name\":\"Z-DNA\",\"orientation\":\"h\",\"showlegend\":false,\"textposition\":\"inside\",\"texttemplate\":\"%{x:,d}\",\"width\":1,\"x\":[4838],\"y\":[\"Z-DNA\"],\"type\":\"bar\",\"xaxis\":\"x37\",\"yaxis\":\"y37\"},{\"marker\":{\"color\":\"#FE9B54\"},\"name\":\"G4\",\"orientation\":\"h\",\"showlegend\":false,\"textposition\":\"inside\",\"texttemplate\":\"%{x:,d}\",\"width\":1,\"x\":[2958],\"y\":[\"G4\"],\"type\":\"bar\",\"xaxis\":\"x37\",\"yaxis\":\"y37\"},{\"marker\":{\"color\":\"darkorchid\"},\"name\":\"H-DNA\",\"orientation\":\"h\",\"showlegend\":false,\"textposition\":\"outside\",\"texttemplate\":\"%{x:,d}\",\"width\":1,\"x\":[61],\"y\":[\"H-DNA\"],\"type\":\"bar\",\"xaxis\":\"x38\",\"yaxis\":\"y38\"},{\"marker\":{\"color\":\"#ED4241\"},\"name\":\"SIDD\",\"orientation\":\"h\",\"showlegend\":false,\"textposition\":\"outside\",\"texttemplate\":\"%{x:,d}\",\"width\":1,\"x\":[35],\"y\":[\"SIDD\"],\"type\":\"bar\",\"xaxis\":\"x38\",\"yaxis\":\"y38\"},{\"marker\":{\"color\":\"royalblue\"},\"name\":\"Z-DNA\",\"orientation\":\"h\",\"showlegend\":false,\"textposition\":\"outside\",\"texttemplate\":\"%{x:,d}\",\"width\":1,\"x\":[388],\"y\":[\"Z-DNA\"],\"type\":\"bar\",\"xaxis\":\"x38\",\"yaxis\":\"y38\"},{\"marker\":{\"color\":\"#FE9B54\"},\"name\":\"G4\",\"orientation\":\"h\",\"showlegend\":false,\"textposition\":\"outside\",\"texttemplate\":\"%{x:,d}\",\"width\":1,\"x\":[208],\"y\":[\"G4\"],\"type\":\"bar\",\"xaxis\":\"x38\",\"yaxis\":\"y38\"},{\"marker\":{\"color\":\"darkorchid\"},\"name\":\"H-DNA\",\"orientation\":\"h\",\"showlegend\":false,\"textposition\":\"outside\",\"texttemplate\":\"%{x:,d}\",\"width\":1,\"x\":[20],\"y\":[\"H-DNA\"],\"type\":\"bar\",\"xaxis\":\"x39\",\"yaxis\":\"y39\"},{\"marker\":{\"color\":\"#ED4241\"},\"name\":\"SIDD\",\"orientation\":\"h\",\"showlegend\":false,\"textposition\":\"outside\",\"texttemplate\":\"%{x:,d}\",\"width\":1,\"x\":[16],\"y\":[\"SIDD\"],\"type\":\"bar\",\"xaxis\":\"x39\",\"yaxis\":\"y39\"},{\"marker\":{\"color\":\"royalblue\"},\"name\":\"Z-DNA\",\"orientation\":\"h\",\"showlegend\":false,\"textposition\":\"outside\",\"texttemplate\":\"%{x:,d}\",\"width\":1,\"x\":[130],\"y\":[\"Z-DNA\"],\"type\":\"bar\",\"xaxis\":\"x39\",\"yaxis\":\"y39\"},{\"marker\":{\"color\":\"#FE9B54\"},\"name\":\"G4\",\"orientation\":\"h\",\"showlegend\":false,\"textposition\":\"outside\",\"texttemplate\":\"%{x:,d}\",\"width\":1,\"x\":[85],\"y\":[\"G4\"],\"type\":\"bar\",\"xaxis\":\"x39\",\"yaxis\":\"y39\"},{\"marker\":{\"color\":\"royalblue\"},\"name\":\"Z-DNA\",\"orientation\":\"h\",\"showlegend\":false,\"textposition\":\"outside\",\"texttemplate\":\"%{x:,d}\",\"width\":1,\"x\":[2.0],\"y\":[\"Z-DNA\"],\"type\":\"bar\",\"xaxis\":\"x40\",\"yaxis\":\"y40\"},{\"marker\":{\"color\":\"#FE9B54\"},\"name\":\"G4\",\"orientation\":\"h\",\"showlegend\":false,\"textposition\":\"outside\",\"texttemplate\":\"%{x:,d}\",\"width\":1,\"x\":[2.0],\"y\":[\"G4\"],\"type\":\"bar\",\"xaxis\":\"x40\",\"yaxis\":\"y40\"},{\"marker\":{\"color\":\"darkorchid\"},\"name\":\"H-DNA\",\"orientation\":\"h\",\"showlegend\":false,\"textposition\":\"outside\",\"texttemplate\":\"%{x:,d}\",\"width\":1,\"x\":[9],\"y\":[\"H-DNA\"],\"type\":\"bar\",\"xaxis\":\"x41\",\"yaxis\":\"y41\"},{\"marker\":{\"color\":\"#ED4241\"},\"name\":\"SIDD\",\"orientation\":\"h\",\"showlegend\":false,\"textposition\":\"outside\",\"texttemplate\":\"%{x:,d}\",\"width\":1,\"x\":[11],\"y\":[\"SIDD\"],\"type\":\"bar\",\"xaxis\":\"x41\",\"yaxis\":\"y41\"},{\"marker\":{\"color\":\"royalblue\"},\"name\":\"Z-DNA\",\"orientation\":\"h\",\"showlegend\":false,\"textposition\":\"outside\",\"texttemplate\":\"%{x:,d}\",\"width\":1,\"x\":[37],\"y\":[\"Z-DNA\"],\"type\":\"bar\",\"xaxis\":\"x41\",\"yaxis\":\"y41\"},{\"marker\":{\"color\":\"#FE9B54\"},\"name\":\"G4\",\"orientation\":\"h\",\"showlegend\":false,\"textposition\":\"outside\",\"texttemplate\":\"%{x:,d}\",\"width\":1,\"x\":[45],\"y\":[\"G4\"],\"type\":\"bar\",\"xaxis\":\"x41\",\"yaxis\":\"y41\"},{\"marker\":{\"color\":\"darkorchid\"},\"name\":\"H-DNA\",\"orientation\":\"h\",\"showlegend\":false,\"textposition\":\"outside\",\"texttemplate\":\"%{x:,d}\",\"width\":1,\"x\":[2],\"y\":[\"H-DNA\"],\"type\":\"bar\",\"xaxis\":\"x42\",\"yaxis\":\"y42\"},{\"marker\":{\"color\":\"#ED4241\"},\"name\":\"SIDD\",\"orientation\":\"h\",\"showlegend\":false,\"textposition\":\"outside\",\"texttemplate\":\"%{x:,d}\",\"width\":1,\"x\":[2],\"y\":[\"SIDD\"],\"type\":\"bar\",\"xaxis\":\"x42\",\"yaxis\":\"y42\"},{\"marker\":{\"color\":\"royalblue\"},\"name\":\"Z-DNA\",\"orientation\":\"h\",\"showlegend\":false,\"textposition\":\"outside\",\"texttemplate\":\"%{x:,d}\",\"width\":1,\"x\":[195],\"y\":[\"Z-DNA\"],\"type\":\"bar\",\"xaxis\":\"x42\",\"yaxis\":\"y42\"},{\"marker\":{\"color\":\"#FE9B54\"},\"name\":\"G4\",\"orientation\":\"h\",\"showlegend\":false,\"textposition\":\"outside\",\"texttemplate\":\"%{x:,d}\",\"width\":1,\"x\":[33],\"y\":[\"G4\"],\"type\":\"bar\",\"xaxis\":\"x42\",\"yaxis\":\"y42\"},{\"marker\":{\"color\":\"darkorchid\"},\"name\":\"H-DNA\",\"orientation\":\"h\",\"showlegend\":false,\"textposition\":\"outside\",\"texttemplate\":\"%{x:,d}\",\"width\":1,\"x\":[62],\"y\":[\"H-DNA\"],\"type\":\"bar\",\"xaxis\":\"x43\",\"yaxis\":\"y43\"},{\"marker\":{\"color\":\"#ED4241\"},\"name\":\"SIDD\",\"orientation\":\"h\",\"showlegend\":false,\"textposition\":\"outside\",\"texttemplate\":\"%{x:,d}\",\"width\":1,\"x\":[30],\"y\":[\"SIDD\"],\"type\":\"bar\",\"xaxis\":\"x43\",\"yaxis\":\"y43\"},{\"marker\":{\"color\":\"royalblue\"},\"name\":\"Z-DNA\",\"orientation\":\"h\",\"showlegend\":false,\"textposition\":\"outside\",\"texttemplate\":\"%{x:,d}\",\"width\":1,\"x\":[125],\"y\":[\"Z-DNA\"],\"type\":\"bar\",\"xaxis\":\"x43\",\"yaxis\":\"y43\"},{\"marker\":{\"color\":\"#FE9B54\"},\"name\":\"G4\",\"orientation\":\"h\",\"showlegend\":false,\"textposition\":\"outside\",\"texttemplate\":\"%{x:,d}\",\"width\":1,\"x\":[137],\"y\":[\"G4\"],\"type\":\"bar\",\"xaxis\":\"x43\",\"yaxis\":\"y43\"},{\"marker\":{\"color\":\"#ED4241\"},\"name\":\"SIDD\",\"orientation\":\"h\",\"showlegend\":false,\"textposition\":\"outside\",\"texttemplate\":\"%{x:,d}\",\"width\":1,\"x\":[1.0],\"y\":[\"SIDD\"],\"type\":\"bar\",\"xaxis\":\"x44\",\"yaxis\":\"y44\"},{\"marker\":{\"color\":\"royalblue\"},\"name\":\"Z-DNA\",\"orientation\":\"h\",\"showlegend\":false,\"textposition\":\"outside\",\"texttemplate\":\"%{x:,d}\",\"width\":1,\"x\":[3.0],\"y\":[\"Z-DNA\"],\"type\":\"bar\",\"xaxis\":\"x44\",\"yaxis\":\"y44\"},{\"marker\":{\"color\":\"#FE9B54\"},\"name\":\"G4\",\"orientation\":\"h\",\"showlegend\":false,\"textposition\":\"outside\",\"texttemplate\":\"%{x:,d}\",\"width\":1,\"x\":[2.0],\"y\":[\"G4\"],\"type\":\"bar\",\"xaxis\":\"x44\",\"yaxis\":\"y44\"},{\"marker\":{\"color\":\"darkorchid\"},\"name\":\"H-DNA\",\"orientation\":\"h\",\"showlegend\":false,\"textposition\":\"outside\",\"texttemplate\":\"%{x:,d}\",\"width\":1,\"x\":[59],\"y\":[\"H-DNA\"],\"type\":\"bar\",\"xaxis\":\"x45\",\"yaxis\":\"y45\"},{\"marker\":{\"color\":\"#ED4241\"},\"name\":\"SIDD\",\"orientation\":\"h\",\"showlegend\":false,\"textposition\":\"outside\",\"texttemplate\":\"%{x:,d}\",\"width\":1,\"x\":[27],\"y\":[\"SIDD\"],\"type\":\"bar\",\"xaxis\":\"x45\",\"yaxis\":\"y45\"},{\"marker\":{\"color\":\"royalblue\"},\"name\":\"Z-DNA\",\"orientation\":\"h\",\"showlegend\":false,\"textposition\":\"outside\",\"texttemplate\":\"%{x:,d}\",\"width\":1,\"x\":[226],\"y\":[\"Z-DNA\"],\"type\":\"bar\",\"xaxis\":\"x45\",\"yaxis\":\"y45\"},{\"marker\":{\"color\":\"#FE9B54\"},\"name\":\"G4\",\"orientation\":\"h\",\"showlegend\":false,\"textposition\":\"outside\",\"texttemplate\":\"%{x:,d}\",\"width\":1,\"x\":[190],\"y\":[\"G4\"],\"type\":\"bar\",\"xaxis\":\"x45\",\"yaxis\":\"y45\"},{\"marker\":{\"color\":\"#ED4241\"},\"name\":\"SIDD\",\"orientation\":\"h\",\"showlegend\":false,\"textposition\":\"outside\",\"texttemplate\":\"%{x:,d}\",\"width\":1,\"x\":[1.0],\"y\":[\"SIDD\"],\"type\":\"bar\",\"xaxis\":\"x46\",\"yaxis\":\"y46\"},{\"marker\":{\"color\":\"#FE9B54\"},\"name\":\"G4\",\"orientation\":\"h\",\"showlegend\":false,\"textposition\":\"outside\",\"texttemplate\":\"%{x:,d}\",\"width\":1,\"x\":[2.0],\"y\":[\"G4\"],\"type\":\"bar\",\"xaxis\":\"x46\",\"yaxis\":\"y46\"},{\"marker\":{\"color\":\"darkorchid\"},\"name\":\"H-DNA\",\"orientation\":\"h\",\"showlegend\":false,\"textposition\":\"outside\",\"texttemplate\":\"%{x:,d}\",\"width\":1,\"x\":[2],\"y\":[\"H-DNA\"],\"type\":\"bar\",\"xaxis\":\"x47\",\"yaxis\":\"y47\"},{\"marker\":{\"color\":\"#ED4241\"},\"name\":\"SIDD\",\"orientation\":\"h\",\"showlegend\":false,\"textposition\":\"outside\",\"texttemplate\":\"%{x:,d}\",\"width\":1,\"x\":[1],\"y\":[\"SIDD\"],\"type\":\"bar\",\"xaxis\":\"x47\",\"yaxis\":\"y47\"},{\"marker\":{\"color\":\"royalblue\"},\"name\":\"Z-DNA\",\"orientation\":\"h\",\"showlegend\":false,\"textposition\":\"outside\",\"texttemplate\":\"%{x:,d}\",\"width\":1,\"x\":[2],\"y\":[\"Z-DNA\"],\"type\":\"bar\",\"xaxis\":\"x47\",\"yaxis\":\"y47\"},{\"marker\":{\"color\":\"#FE9B54\"},\"name\":\"G4\",\"orientation\":\"h\",\"showlegend\":false,\"textposition\":\"outside\",\"texttemplate\":\"%{x:,d}\",\"width\":1,\"x\":[1],\"y\":[\"G4\"],\"type\":\"bar\",\"xaxis\":\"x47\",\"yaxis\":\"y47\"},{\"marker\":{\"color\":\"darkorchid\"},\"name\":\"H-DNA\",\"orientation\":\"h\",\"showlegend\":false,\"textposition\":\"outside\",\"texttemplate\":\"%{x:,d}\",\"width\":1,\"x\":[1.0],\"y\":[\"H-DNA\"],\"type\":\"bar\",\"xaxis\":\"x48\",\"yaxis\":\"y48\"},{\"marker\":{\"color\":\"#FE9B54\"},\"name\":\"G4\",\"orientation\":\"h\",\"showlegend\":false,\"textposition\":\"outside\",\"texttemplate\":\"%{x:,d}\",\"width\":1,\"x\":[1.0],\"y\":[\"G4\"],\"type\":\"bar\",\"xaxis\":\"x48\",\"yaxis\":\"y48\"},{\"marker\":{\"color\":\"darkorchid\"},\"name\":\"H-DNA\",\"orientation\":\"h\",\"showlegend\":false,\"textposition\":\"outside\",\"texttemplate\":\"%{x:,d}\",\"width\":1,\"x\":[10],\"y\":[\"H-DNA\"],\"type\":\"bar\",\"xaxis\":\"x52\",\"yaxis\":\"y52\"},{\"marker\":{\"color\":\"#ED4241\"},\"name\":\"SIDD\",\"orientation\":\"h\",\"showlegend\":false,\"textposition\":\"outside\",\"texttemplate\":\"%{x:,d}\",\"width\":1,\"x\":[13],\"y\":[\"SIDD\"],\"type\":\"bar\",\"xaxis\":\"x52\",\"yaxis\":\"y52\"},{\"marker\":{\"color\":\"royalblue\"},\"name\":\"Z-DNA\",\"orientation\":\"h\",\"showlegend\":false,\"textposition\":\"outside\",\"texttemplate\":\"%{x:,d}\",\"width\":1,\"x\":[9],\"y\":[\"Z-DNA\"],\"type\":\"bar\",\"xaxis\":\"x52\",\"yaxis\":\"y52\"},{\"marker\":{\"color\":\"#FE9B54\"},\"name\":\"G4\",\"orientation\":\"h\",\"showlegend\":false,\"textposition\":\"outside\",\"texttemplate\":\"%{x:,d}\",\"width\":1,\"x\":[5],\"y\":[\"G4\"],\"type\":\"bar\",\"xaxis\":\"x52\",\"yaxis\":\"y52\"},{\"marker\":{\"color\":\"darkorchid\"},\"name\":\"H-DNA\",\"orientation\":\"h\",\"showlegend\":false,\"textposition\":\"outside\",\"texttemplate\":\"%{x:,d}\",\"width\":1,\"x\":[25],\"y\":[\"H-DNA\"],\"type\":\"bar\",\"xaxis\":\"x54\",\"yaxis\":\"y54\"},{\"marker\":{\"color\":\"#ED4241\"},\"name\":\"SIDD\",\"orientation\":\"h\",\"showlegend\":false,\"textposition\":\"outside\",\"texttemplate\":\"%{x:,d}\",\"width\":1,\"x\":[20],\"y\":[\"SIDD\"],\"type\":\"bar\",\"xaxis\":\"x54\",\"yaxis\":\"y54\"},{\"marker\":{\"color\":\"royalblue\"},\"name\":\"Z-DNA\",\"orientation\":\"h\",\"showlegend\":false,\"textposition\":\"outside\",\"texttemplate\":\"%{x:,d}\",\"width\":1,\"x\":[24],\"y\":[\"Z-DNA\"],\"type\":\"bar\",\"xaxis\":\"x54\",\"yaxis\":\"y54\"},{\"marker\":{\"color\":\"#FE9B54\"},\"name\":\"G4\",\"orientation\":\"h\",\"showlegend\":false,\"textposition\":\"outside\",\"texttemplate\":\"%{x:,d}\",\"width\":1,\"x\":[24],\"y\":[\"G4\"],\"type\":\"bar\",\"xaxis\":\"x54\",\"yaxis\":\"y54\"},{\"marker\":{\"color\":\"darkorchid\"},\"name\":\"H-DNA\",\"orientation\":\"h\",\"showlegend\":false,\"textposition\":\"outside\",\"texttemplate\":\"%{x:,d}\",\"width\":1,\"x\":[20],\"y\":[\"H-DNA\"],\"type\":\"bar\",\"xaxis\":\"x55\",\"yaxis\":\"y55\"},{\"marker\":{\"color\":\"#ED4241\"},\"name\":\"SIDD\",\"orientation\":\"h\",\"showlegend\":false,\"textposition\":\"outside\",\"texttemplate\":\"%{x:,d}\",\"width\":1,\"x\":[11],\"y\":[\"SIDD\"],\"type\":\"bar\",\"xaxis\":\"x55\",\"yaxis\":\"y55\"},{\"marker\":{\"color\":\"royalblue\"},\"name\":\"Z-DNA\",\"orientation\":\"h\",\"showlegend\":false,\"textposition\":\"outside\",\"texttemplate\":\"%{x:,d}\",\"width\":1,\"x\":[47],\"y\":[\"Z-DNA\"],\"type\":\"bar\",\"xaxis\":\"x55\",\"yaxis\":\"y55\"},{\"marker\":{\"color\":\"#FE9B54\"},\"name\":\"G4\",\"orientation\":\"h\",\"showlegend\":false,\"textposition\":\"outside\",\"texttemplate\":\"%{x:,d}\",\"width\":1,\"x\":[25],\"y\":[\"G4\"],\"type\":\"bar\",\"xaxis\":\"x55\",\"yaxis\":\"y55\"},{\"marker\":{\"color\":\"darkorchid\"},\"name\":\"H-DNA\",\"orientation\":\"h\",\"showlegend\":false,\"textposition\":\"outside\",\"texttemplate\":\"%{x:,d}\",\"width\":1,\"x\":[3],\"y\":[\"H-DNA\"],\"type\":\"bar\",\"xaxis\":\"x56\",\"yaxis\":\"y56\"},{\"marker\":{\"color\":\"#ED4241\"},\"name\":\"SIDD\",\"orientation\":\"h\",\"showlegend\":false,\"textposition\":\"outside\",\"texttemplate\":\"%{x:,d}\",\"width\":1,\"x\":[1],\"y\":[\"SIDD\"],\"type\":\"bar\",\"xaxis\":\"x56\",\"yaxis\":\"y56\"},{\"marker\":{\"color\":\"royalblue\"},\"name\":\"Z-DNA\",\"orientation\":\"h\",\"showlegend\":false,\"textposition\":\"outside\",\"texttemplate\":\"%{x:,d}\",\"width\":1,\"x\":[4],\"y\":[\"Z-DNA\"],\"type\":\"bar\",\"xaxis\":\"x56\",\"yaxis\":\"y56\"},{\"marker\":{\"color\":\"#FE9B54\"},\"name\":\"G4\",\"orientation\":\"h\",\"showlegend\":false,\"textposition\":\"outside\",\"texttemplate\":\"%{x:,d}\",\"width\":1,\"x\":[3],\"y\":[\"G4\"],\"type\":\"bar\",\"xaxis\":\"x56\",\"yaxis\":\"y56\"},{\"marker\":{\"color\":\"darkorchid\"},\"name\":\"H-DNA\",\"orientation\":\"h\",\"showlegend\":false,\"textposition\":\"outside\",\"texttemplate\":\"%{x:,d}\",\"width\":1,\"x\":[1],\"y\":[\"H-DNA\"],\"type\":\"bar\",\"xaxis\":\"x57\",\"yaxis\":\"y57\"},{\"marker\":{\"color\":\"#ED4241\"},\"name\":\"SIDD\",\"orientation\":\"h\",\"showlegend\":false,\"textposition\":\"outside\",\"texttemplate\":\"%{x:,d}\",\"width\":1,\"x\":[1],\"y\":[\"SIDD\"],\"type\":\"bar\",\"xaxis\":\"x57\",\"yaxis\":\"y57\"},{\"marker\":{\"color\":\"royalblue\"},\"name\":\"Z-DNA\",\"orientation\":\"h\",\"showlegend\":false,\"textposition\":\"outside\",\"texttemplate\":\"%{x:,d}\",\"width\":1,\"x\":[2],\"y\":[\"Z-DNA\"],\"type\":\"bar\",\"xaxis\":\"x57\",\"yaxis\":\"y57\"},{\"marker\":{\"color\":\"#FE9B54\"},\"name\":\"G4\",\"orientation\":\"h\",\"showlegend\":false,\"textposition\":\"outside\",\"texttemplate\":\"%{x:,d}\",\"width\":1,\"x\":[3],\"y\":[\"G4\"],\"type\":\"bar\",\"xaxis\":\"x57\",\"yaxis\":\"y57\"},{\"marker\":{\"color\":\"#ED4241\"},\"name\":\"SIDD\",\"orientation\":\"h\",\"showlegend\":false,\"textposition\":\"outside\",\"texttemplate\":\"%{x:,d}\",\"width\":1,\"x\":[3.0],\"y\":[\"SIDD\"],\"type\":\"bar\",\"xaxis\":\"x59\",\"yaxis\":\"y59\"},{\"marker\":{\"color\":\"#FE9B54\"},\"name\":\"G4\",\"orientation\":\"h\",\"showlegend\":false,\"textposition\":\"outside\",\"texttemplate\":\"%{x:,d}\",\"width\":1,\"x\":[1.0],\"y\":[\"G4\"],\"type\":\"bar\",\"xaxis\":\"x59\",\"yaxis\":\"y59\"},{\"marker\":{\"color\":\"#ED4241\"},\"name\":\"SIDD\",\"orientation\":\"h\",\"showlegend\":false,\"textposition\":\"outside\",\"texttemplate\":\"%{x:,d}\",\"width\":1,\"x\":[1.0],\"y\":[\"SIDD\"],\"type\":\"bar\",\"xaxis\":\"x60\",\"yaxis\":\"y60\"},{\"marker\":{\"color\":\"royalblue\"},\"name\":\"Z-DNA\",\"orientation\":\"h\",\"showlegend\":false,\"textposition\":\"outside\",\"texttemplate\":\"%{x:,d}\",\"width\":1,\"x\":[1.0],\"y\":[\"Z-DNA\"],\"type\":\"bar\",\"xaxis\":\"x60\",\"yaxis\":\"y60\"},{\"marker\":{\"color\":\"darkorchid\"},\"name\":\"H-DNA\",\"orientation\":\"h\",\"showlegend\":false,\"textposition\":\"outside\",\"texttemplate\":\"%{x:,d}\",\"width\":1,\"x\":[18],\"y\":[\"H-DNA\"],\"type\":\"bar\",\"xaxis\":\"x61\",\"yaxis\":\"y61\"},{\"marker\":{\"color\":\"#ED4241\"},\"name\":\"SIDD\",\"orientation\":\"h\",\"showlegend\":false,\"textposition\":\"outside\",\"texttemplate\":\"%{x:,d}\",\"width\":1,\"x\":[15],\"y\":[\"SIDD\"],\"type\":\"bar\",\"xaxis\":\"x61\",\"yaxis\":\"y61\"},{\"marker\":{\"color\":\"royalblue\"},\"name\":\"Z-DNA\",\"orientation\":\"h\",\"showlegend\":false,\"textposition\":\"outside\",\"texttemplate\":\"%{x:,d}\",\"width\":1,\"x\":[10],\"y\":[\"Z-DNA\"],\"type\":\"bar\",\"xaxis\":\"x61\",\"yaxis\":\"y61\"},{\"marker\":{\"color\":\"#FE9B54\"},\"name\":\"G4\",\"orientation\":\"h\",\"showlegend\":false,\"textposition\":\"outside\",\"texttemplate\":\"%{x:,d}\",\"width\":1,\"x\":[14],\"y\":[\"G4\"],\"type\":\"bar\",\"xaxis\":\"x61\",\"yaxis\":\"y61\"},{\"marker\":{\"color\":\"darkorchid\"},\"name\":\"H-DNA\",\"orientation\":\"h\",\"showlegend\":false,\"textposition\":\"outside\",\"texttemplate\":\"%{x:,d}\",\"width\":1,\"x\":[14],\"y\":[\"H-DNA\"],\"type\":\"bar\",\"xaxis\":\"x63\",\"yaxis\":\"y63\"},{\"marker\":{\"color\":\"#ED4241\"},\"name\":\"SIDD\",\"orientation\":\"h\",\"showlegend\":false,\"textposition\":\"outside\",\"texttemplate\":\"%{x:,d}\",\"width\":1,\"x\":[10],\"y\":[\"SIDD\"],\"type\":\"bar\",\"xaxis\":\"x63\",\"yaxis\":\"y63\"},{\"marker\":{\"color\":\"royalblue\"},\"name\":\"Z-DNA\",\"orientation\":\"h\",\"showlegend\":false,\"textposition\":\"outside\",\"texttemplate\":\"%{x:,d}\",\"width\":1,\"x\":[15],\"y\":[\"Z-DNA\"],\"type\":\"bar\",\"xaxis\":\"x63\",\"yaxis\":\"y63\"},{\"marker\":{\"color\":\"#FE9B54\"},\"name\":\"G4\",\"orientation\":\"h\",\"showlegend\":false,\"textposition\":\"outside\",\"texttemplate\":\"%{x:,d}\",\"width\":1,\"x\":[10],\"y\":[\"G4\"],\"type\":\"bar\",\"xaxis\":\"x63\",\"yaxis\":\"y63\"}],                        {\"template\":{\"data\":{\"barpolar\":[{\"marker\":{\"line\":{\"color\":\"rgb(237,237,237)\",\"width\":0.5},\"pattern\":{\"fillmode\":\"overlay\",\"size\":10,\"solidity\":0.2}},\"type\":\"barpolar\"}],\"bar\":[{\"error_x\":{\"color\":\"rgb(51,51,51)\"},\"error_y\":{\"color\":\"rgb(51,51,51)\"},\"marker\":{\"line\":{\"color\":\"rgb(237,237,237)\",\"width\":0.5},\"pattern\":{\"fillmode\":\"overlay\",\"size\":10,\"solidity\":0.2}},\"type\":\"bar\"}],\"carpet\":[{\"aaxis\":{\"endlinecolor\":\"rgb(51,51,51)\",\"gridcolor\":\"white\",\"linecolor\":\"white\",\"minorgridcolor\":\"white\",\"startlinecolor\":\"rgb(51,51,51)\"},\"baxis\":{\"endlinecolor\":\"rgb(51,51,51)\",\"gridcolor\":\"white\",\"linecolor\":\"white\",\"minorgridcolor\":\"white\",\"startlinecolor\":\"rgb(51,51,51)\"},\"type\":\"carpet\"}],\"choropleth\":[{\"colorbar\":{\"outlinewidth\":0,\"tickcolor\":\"rgb(237,237,237)\",\"ticklen\":6,\"ticks\":\"inside\"},\"type\":\"choropleth\"}],\"contourcarpet\":[{\"colorbar\":{\"outlinewidth\":0,\"tickcolor\":\"rgb(237,237,237)\",\"ticklen\":6,\"ticks\":\"inside\"},\"type\":\"contourcarpet\"}],\"contour\":[{\"colorbar\":{\"outlinewidth\":0,\"tickcolor\":\"rgb(237,237,237)\",\"ticklen\":6,\"ticks\":\"inside\"},\"colorscale\":[[0,\"rgb(20,44,66)\"],[1,\"rgb(90,179,244)\"]],\"type\":\"contour\"}],\"heatmapgl\":[{\"colorbar\":{\"outlinewidth\":0,\"tickcolor\":\"rgb(237,237,237)\",\"ticklen\":6,\"ticks\":\"inside\"},\"colorscale\":[[0,\"rgb(20,44,66)\"],[1,\"rgb(90,179,244)\"]],\"type\":\"heatmapgl\"}],\"heatmap\":[{\"colorbar\":{\"outlinewidth\":0,\"tickcolor\":\"rgb(237,237,237)\",\"ticklen\":6,\"ticks\":\"inside\"},\"colorscale\":[[0,\"rgb(20,44,66)\"],[1,\"rgb(90,179,244)\"]],\"type\":\"heatmap\"}],\"histogram2dcontour\":[{\"colorbar\":{\"outlinewidth\":0,\"tickcolor\":\"rgb(237,237,237)\",\"ticklen\":6,\"ticks\":\"inside\"},\"colorscale\":[[0,\"rgb(20,44,66)\"],[1,\"rgb(90,179,244)\"]],\"type\":\"histogram2dcontour\"}],\"histogram2d\":[{\"colorbar\":{\"outlinewidth\":0,\"tickcolor\":\"rgb(237,237,237)\",\"ticklen\":6,\"ticks\":\"inside\"},\"colorscale\":[[0,\"rgb(20,44,66)\"],[1,\"rgb(90,179,244)\"]],\"type\":\"histogram2d\"}],\"histogram\":[{\"marker\":{\"pattern\":{\"fillmode\":\"overlay\",\"size\":10,\"solidity\":0.2}},\"type\":\"histogram\"}],\"mesh3d\":[{\"colorbar\":{\"outlinewidth\":0,\"tickcolor\":\"rgb(237,237,237)\",\"ticklen\":6,\"ticks\":\"inside\"},\"type\":\"mesh3d\"}],\"parcoords\":[{\"line\":{\"colorbar\":{\"outlinewidth\":0,\"tickcolor\":\"rgb(237,237,237)\",\"ticklen\":6,\"ticks\":\"inside\"}},\"type\":\"parcoords\"}],\"pie\":[{\"automargin\":true,\"type\":\"pie\"}],\"scatter3d\":[{\"line\":{\"colorbar\":{\"outlinewidth\":0,\"tickcolor\":\"rgb(237,237,237)\",\"ticklen\":6,\"ticks\":\"inside\"}},\"marker\":{\"colorbar\":{\"outlinewidth\":0,\"tickcolor\":\"rgb(237,237,237)\",\"ticklen\":6,\"ticks\":\"inside\"}},\"type\":\"scatter3d\"}],\"scattercarpet\":[{\"marker\":{\"colorbar\":{\"outlinewidth\":0,\"tickcolor\":\"rgb(237,237,237)\",\"ticklen\":6,\"ticks\":\"inside\"}},\"type\":\"scattercarpet\"}],\"scattergeo\":[{\"marker\":{\"colorbar\":{\"outlinewidth\":0,\"tickcolor\":\"rgb(237,237,237)\",\"ticklen\":6,\"ticks\":\"inside\"}},\"type\":\"scattergeo\"}],\"scattergl\":[{\"marker\":{\"colorbar\":{\"outlinewidth\":0,\"tickcolor\":\"rgb(237,237,237)\",\"ticklen\":6,\"ticks\":\"inside\"}},\"type\":\"scattergl\"}],\"scattermapbox\":[{\"marker\":{\"colorbar\":{\"outlinewidth\":0,\"tickcolor\":\"rgb(237,237,237)\",\"ticklen\":6,\"ticks\":\"inside\"}},\"type\":\"scattermapbox\"}],\"scatterpolargl\":[{\"marker\":{\"colorbar\":{\"outlinewidth\":0,\"tickcolor\":\"rgb(237,237,237)\",\"ticklen\":6,\"ticks\":\"inside\"}},\"type\":\"scatterpolargl\"}],\"scatterpolar\":[{\"marker\":{\"colorbar\":{\"outlinewidth\":0,\"tickcolor\":\"rgb(237,237,237)\",\"ticklen\":6,\"ticks\":\"inside\"}},\"type\":\"scatterpolar\"}],\"scatter\":[{\"fillpattern\":{\"fillmode\":\"overlay\",\"size\":10,\"solidity\":0.2},\"type\":\"scatter\"}],\"scatterternary\":[{\"marker\":{\"colorbar\":{\"outlinewidth\":0,\"tickcolor\":\"rgb(237,237,237)\",\"ticklen\":6,\"ticks\":\"inside\"}},\"type\":\"scatterternary\"}],\"surface\":[{\"colorbar\":{\"outlinewidth\":0,\"tickcolor\":\"rgb(237,237,237)\",\"ticklen\":6,\"ticks\":\"inside\"},\"colorscale\":[[0,\"rgb(20,44,66)\"],[1,\"rgb(90,179,244)\"]],\"type\":\"surface\"}],\"table\":[{\"cells\":{\"fill\":{\"color\":\"rgb(237,237,237)\"},\"line\":{\"color\":\"white\"}},\"header\":{\"fill\":{\"color\":\"rgb(217,217,217)\"},\"line\":{\"color\":\"white\"}},\"type\":\"table\"}]},\"layout\":{\"annotationdefaults\":{\"arrowhead\":0,\"arrowwidth\":1},\"autotypenumbers\":\"strict\",\"coloraxis\":{\"colorbar\":{\"outlinewidth\":0,\"tickcolor\":\"rgb(237,237,237)\",\"ticklen\":6,\"ticks\":\"inside\"}},\"colorscale\":{\"sequential\":[[0,\"rgb(20,44,66)\"],[1,\"rgb(90,179,244)\"]],\"sequentialminus\":[[0,\"rgb(20,44,66)\"],[1,\"rgb(90,179,244)\"]]},\"colorway\":[\"#F8766D\",\"#A3A500\",\"#00BF7D\",\"#00B0F6\",\"#E76BF3\"],\"font\":{\"color\":\"rgb(51,51,51)\"},\"geo\":{\"bgcolor\":\"white\",\"lakecolor\":\"white\",\"landcolor\":\"rgb(237,237,237)\",\"showlakes\":true,\"showland\":true,\"subunitcolor\":\"white\"},\"hoverlabel\":{\"align\":\"left\"},\"hovermode\":\"closest\",\"paper_bgcolor\":\"white\",\"plot_bgcolor\":\"rgb(237,237,237)\",\"polar\":{\"angularaxis\":{\"gridcolor\":\"white\",\"linecolor\":\"white\",\"showgrid\":true,\"tickcolor\":\"rgb(51,51,51)\",\"ticks\":\"outside\"},\"bgcolor\":\"rgb(237,237,237)\",\"radialaxis\":{\"gridcolor\":\"white\",\"linecolor\":\"white\",\"showgrid\":true,\"tickcolor\":\"rgb(51,51,51)\",\"ticks\":\"outside\"}},\"scene\":{\"xaxis\":{\"backgroundcolor\":\"rgb(237,237,237)\",\"gridcolor\":\"white\",\"gridwidth\":2,\"linecolor\":\"white\",\"showbackground\":true,\"showgrid\":true,\"tickcolor\":\"rgb(51,51,51)\",\"ticks\":\"outside\",\"zerolinecolor\":\"white\"},\"yaxis\":{\"backgroundcolor\":\"rgb(237,237,237)\",\"gridcolor\":\"white\",\"gridwidth\":2,\"linecolor\":\"white\",\"showbackground\":true,\"showgrid\":true,\"tickcolor\":\"rgb(51,51,51)\",\"ticks\":\"outside\",\"zerolinecolor\":\"white\"},\"zaxis\":{\"backgroundcolor\":\"rgb(237,237,237)\",\"gridcolor\":\"white\",\"gridwidth\":2,\"linecolor\":\"white\",\"showbackground\":true,\"showgrid\":true,\"tickcolor\":\"rgb(51,51,51)\",\"ticks\":\"outside\",\"zerolinecolor\":\"white\"}},\"shapedefaults\":{\"fillcolor\":\"black\",\"line\":{\"width\":0},\"opacity\":0.3},\"ternary\":{\"aaxis\":{\"gridcolor\":\"white\",\"linecolor\":\"white\",\"showgrid\":true,\"tickcolor\":\"rgb(51,51,51)\",\"ticks\":\"outside\"},\"baxis\":{\"gridcolor\":\"white\",\"linecolor\":\"white\",\"showgrid\":true,\"tickcolor\":\"rgb(51,51,51)\",\"ticks\":\"outside\"},\"bgcolor\":\"rgb(237,237,237)\",\"caxis\":{\"gridcolor\":\"white\",\"linecolor\":\"white\",\"showgrid\":true,\"tickcolor\":\"rgb(51,51,51)\",\"ticks\":\"outside\"}},\"xaxis\":{\"automargin\":true,\"gridcolor\":\"white\",\"linecolor\":\"white\",\"showgrid\":true,\"tickcolor\":\"rgb(51,51,51)\",\"ticks\":\"outside\",\"title\":{\"standoff\":15},\"zerolinecolor\":\"white\"},\"yaxis\":{\"automargin\":true,\"gridcolor\":\"white\",\"linecolor\":\"white\",\"showgrid\":true,\"tickcolor\":\"rgb(51,51,51)\",\"ticks\":\"outside\",\"title\":{\"standoff\":15},\"zerolinecolor\":\"white\"}}},\"xaxis\":{\"anchor\":\"y\",\"domain\":[0.0,0.10533333333333333],\"matches\":\"x55\",\"showticklabels\":false,\"ticks\":\"\",\"tickformat\":\"s\",\"showgrid\":false},\"yaxis\":{\"anchor\":\"x\",\"domain\":[0.8657142857142859,1.0],\"matches\":\"y55\",\"type\":\"category\",\"visible\":false},\"xaxis2\":{\"anchor\":\"y2\",\"domain\":[0.10933333333333334,0.21466666666666667],\"matches\":\"x55\",\"showticklabels\":false,\"ticks\":\"\",\"tickformat\":\"s\",\"showgrid\":false},\"yaxis2\":{\"anchor\":\"x2\",\"domain\":[0.8657142857142859,1.0],\"matches\":\"y55\",\"showticklabels\":false,\"type\":\"category\",\"visible\":false},\"xaxis3\":{\"anchor\":\"y3\",\"domain\":[0.21866666666666668,0.324],\"matches\":\"x55\",\"showticklabels\":false,\"ticks\":\"\",\"tickformat\":\"s\",\"showgrid\":false},\"yaxis3\":{\"anchor\":\"x3\",\"domain\":[0.8657142857142859,1.0],\"matches\":\"y55\",\"showticklabels\":false,\"type\":\"category\",\"visible\":false},\"xaxis4\":{\"anchor\":\"y4\",\"domain\":[0.328,0.43333333333333335],\"matches\":\"x55\",\"showticklabels\":false,\"ticks\":\"\",\"tickformat\":\"s\",\"showgrid\":false},\"yaxis4\":{\"anchor\":\"x4\",\"domain\":[0.8657142857142859,1.0],\"matches\":\"y55\",\"showticklabels\":false,\"type\":\"category\",\"visible\":false},\"xaxis5\":{\"anchor\":\"y5\",\"domain\":[0.43733333333333335,0.5426666666666666],\"matches\":\"x55\",\"showticklabels\":false,\"ticks\":\"\",\"tickformat\":\"s\",\"showgrid\":false},\"yaxis5\":{\"anchor\":\"x5\",\"domain\":[0.8657142857142859,1.0],\"matches\":\"y55\",\"showticklabels\":false,\"type\":\"category\",\"visible\":false},\"xaxis6\":{\"anchor\":\"y6\",\"domain\":[0.5466666666666666,0.6519999999999999],\"matches\":\"x55\",\"showticklabels\":false,\"ticks\":\"\",\"tickformat\":\"s\",\"showgrid\":false},\"yaxis6\":{\"anchor\":\"x6\",\"domain\":[0.8657142857142859,1.0],\"matches\":\"y55\",\"showticklabels\":false,\"type\":\"category\",\"visible\":false},\"xaxis7\":{\"anchor\":\"y7\",\"domain\":[0.6559999999999999,0.7613333333333332],\"matches\":\"x55\",\"showticklabels\":false,\"ticks\":\"\",\"tickformat\":\"s\",\"showgrid\":false},\"yaxis7\":{\"anchor\":\"x7\",\"domain\":[0.8657142857142859,1.0],\"matches\":\"y55\",\"showticklabels\":false,\"type\":\"category\",\"visible\":false},\"xaxis8\":{\"anchor\":\"y8\",\"domain\":[0.7653333333333332,0.8706666666666665],\"matches\":\"x55\",\"showticklabels\":false,\"ticks\":\"\",\"tickformat\":\"s\",\"showgrid\":false},\"yaxis8\":{\"anchor\":\"x8\",\"domain\":[0.8657142857142859,1.0],\"matches\":\"y55\",\"showticklabels\":false,\"type\":\"category\",\"visible\":false},\"xaxis9\":{\"anchor\":\"y9\",\"domain\":[0.8746666666666665,0.9799999999999998],\"matches\":\"x55\",\"showticklabels\":false,\"ticks\":\"\",\"tickformat\":\"s\",\"showgrid\":false},\"yaxis9\":{\"anchor\":\"x9\",\"domain\":[0.8657142857142859,1.0],\"matches\":\"y55\",\"showticklabels\":false,\"type\":\"category\",\"visible\":false},\"xaxis10\":{\"anchor\":\"y10\",\"domain\":[0.0,0.10533333333333333],\"matches\":\"x55\",\"showticklabels\":false,\"ticks\":\"\",\"tickformat\":\"s\",\"showgrid\":false},\"yaxis10\":{\"anchor\":\"x10\",\"domain\":[0.7214285714285715,0.8557142857142859],\"matches\":\"y55\",\"type\":\"category\",\"visible\":false},\"xaxis11\":{\"anchor\":\"y11\",\"domain\":[0.10933333333333334,0.21466666666666667],\"matches\":\"x55\",\"showticklabels\":false,\"ticks\":\"\",\"tickformat\":\"s\",\"showgrid\":false},\"yaxis11\":{\"anchor\":\"x11\",\"domain\":[0.7214285714285715,0.8557142857142859],\"matches\":\"y55\",\"showticklabels\":false,\"type\":\"category\",\"visible\":false},\"xaxis12\":{\"anchor\":\"y12\",\"domain\":[0.21866666666666668,0.324],\"matches\":\"x55\",\"showticklabels\":false,\"ticks\":\"\",\"tickformat\":\"s\",\"showgrid\":false},\"yaxis12\":{\"anchor\":\"x12\",\"domain\":[0.7214285714285715,0.8557142857142859],\"matches\":\"y55\",\"showticklabels\":false,\"type\":\"category\",\"visible\":false},\"xaxis13\":{\"anchor\":\"y13\",\"domain\":[0.328,0.43333333333333335],\"matches\":\"x55\",\"showticklabels\":false,\"ticks\":\"\",\"tickformat\":\"s\",\"showgrid\":false},\"yaxis13\":{\"anchor\":\"x13\",\"domain\":[0.7214285714285715,0.8557142857142859],\"matches\":\"y55\",\"showticklabels\":false,\"type\":\"category\",\"visible\":false},\"xaxis14\":{\"anchor\":\"y14\",\"domain\":[0.43733333333333335,0.5426666666666666],\"matches\":\"x55\",\"showticklabels\":false,\"ticks\":\"\",\"tickformat\":\"s\",\"showgrid\":false},\"yaxis14\":{\"anchor\":\"x14\",\"domain\":[0.7214285714285715,0.8557142857142859],\"matches\":\"y55\",\"showticklabels\":false,\"type\":\"category\",\"visible\":false},\"xaxis15\":{\"anchor\":\"y15\",\"domain\":[0.5466666666666666,0.6519999999999999],\"matches\":\"x55\",\"showticklabels\":false,\"ticks\":\"\",\"tickformat\":\"s\",\"showgrid\":false},\"yaxis15\":{\"anchor\":\"x15\",\"domain\":[0.7214285714285715,0.8557142857142859],\"matches\":\"y55\",\"showticklabels\":false,\"type\":\"category\",\"visible\":false},\"xaxis16\":{\"anchor\":\"y16\",\"domain\":[0.6559999999999999,0.7613333333333332],\"matches\":\"x55\",\"showticklabels\":false,\"ticks\":\"\",\"tickformat\":\"s\",\"showgrid\":false},\"yaxis16\":{\"anchor\":\"x16\",\"domain\":[0.7214285714285715,0.8557142857142859],\"matches\":\"y55\",\"showticklabels\":false,\"type\":\"category\",\"visible\":false},\"xaxis17\":{\"anchor\":\"y17\",\"domain\":[0.7653333333333332,0.8706666666666665],\"matches\":\"x55\",\"showticklabels\":false,\"ticks\":\"\",\"tickformat\":\"s\",\"showgrid\":false},\"yaxis17\":{\"anchor\":\"x17\",\"domain\":[0.7214285714285715,0.8557142857142859],\"matches\":\"y55\",\"showticklabels\":false,\"type\":\"category\",\"visible\":false},\"xaxis18\":{\"anchor\":\"y18\",\"domain\":[0.8746666666666665,0.9799999999999998],\"matches\":\"x55\",\"showticklabels\":false,\"ticks\":\"\",\"tickformat\":\"s\",\"showgrid\":false},\"yaxis18\":{\"anchor\":\"x18\",\"domain\":[0.7214285714285715,0.8557142857142859],\"matches\":\"y55\",\"showticklabels\":false,\"type\":\"category\",\"visible\":false},\"xaxis19\":{\"anchor\":\"y19\",\"domain\":[0.0,0.10533333333333333],\"matches\":\"x55\",\"showticklabels\":false,\"ticks\":\"\",\"tickformat\":\"s\",\"showgrid\":false},\"yaxis19\":{\"anchor\":\"x19\",\"domain\":[0.5771428571428572,0.7114285714285715],\"matches\":\"y55\",\"type\":\"category\",\"visible\":false},\"xaxis20\":{\"anchor\":\"y20\",\"domain\":[0.10933333333333334,0.21466666666666667],\"matches\":\"x55\",\"showticklabels\":false,\"ticks\":\"\",\"tickformat\":\"s\",\"showgrid\":false},\"yaxis20\":{\"anchor\":\"x20\",\"domain\":[0.5771428571428572,0.7114285714285715],\"matches\":\"y55\",\"showticklabels\":false,\"type\":\"category\",\"visible\":false},\"xaxis21\":{\"anchor\":\"y21\",\"domain\":[0.21866666666666668,0.324],\"matches\":\"x55\",\"showticklabels\":false,\"ticks\":\"\",\"tickformat\":\"s\",\"showgrid\":false},\"yaxis21\":{\"anchor\":\"x21\",\"domain\":[0.5771428571428572,0.7114285714285715],\"matches\":\"y55\",\"showticklabels\":false,\"type\":\"category\",\"visible\":false},\"xaxis22\":{\"anchor\":\"y22\",\"domain\":[0.328,0.43333333333333335],\"matches\":\"x55\",\"showticklabels\":false,\"tickformat\":\"s\",\"showgrid\":false},\"yaxis22\":{\"anchor\":\"x22\",\"domain\":[0.5771428571428572,0.7114285714285715],\"matches\":\"y55\",\"showticklabels\":false,\"type\":\"category\",\"visible\":false},\"xaxis23\":{\"anchor\":\"y23\",\"domain\":[0.43733333333333335,0.5426666666666666],\"matches\":\"x55\",\"showticklabels\":false,\"ticks\":\"\",\"tickformat\":\"s\",\"showgrid\":false},\"yaxis23\":{\"anchor\":\"x23\",\"domain\":[0.5771428571428572,0.7114285714285715],\"matches\":\"y55\",\"showticklabels\":false,\"type\":\"category\",\"visible\":false},\"xaxis24\":{\"anchor\":\"y24\",\"domain\":[0.5466666666666666,0.6519999999999999],\"matches\":\"x55\",\"showticklabels\":false,\"ticks\":\"\",\"tickformat\":\"s\",\"showgrid\":false},\"yaxis24\":{\"anchor\":\"x24\",\"domain\":[0.5771428571428572,0.7114285714285715],\"matches\":\"y55\",\"showticklabels\":false,\"type\":\"category\",\"visible\":false},\"xaxis25\":{\"anchor\":\"y25\",\"domain\":[0.6559999999999999,0.7613333333333332],\"matches\":\"x55\",\"showticklabels\":false,\"ticks\":\"\",\"tickformat\":\"s\",\"showgrid\":false},\"yaxis25\":{\"anchor\":\"x25\",\"domain\":[0.5771428571428572,0.7114285714285715],\"matches\":\"y55\",\"showticklabels\":false,\"type\":\"category\",\"visible\":false},\"xaxis26\":{\"anchor\":\"y26\",\"domain\":[0.7653333333333332,0.8706666666666665],\"matches\":\"x55\",\"showticklabels\":false,\"ticks\":\"\",\"tickformat\":\"s\",\"showgrid\":false},\"yaxis26\":{\"anchor\":\"x26\",\"domain\":[0.5771428571428572,0.7114285714285715],\"matches\":\"y55\",\"showticklabels\":false,\"type\":\"category\",\"visible\":false},\"xaxis27\":{\"anchor\":\"y27\",\"domain\":[0.8746666666666665,0.9799999999999998],\"matches\":\"x55\",\"showticklabels\":false,\"ticks\":\"\",\"tickformat\":\"s\",\"showgrid\":false},\"yaxis27\":{\"anchor\":\"x27\",\"domain\":[0.5771428571428572,0.7114285714285715],\"matches\":\"y55\",\"showticklabels\":false,\"type\":\"category\",\"visible\":false},\"xaxis28\":{\"anchor\":\"y28\",\"domain\":[0.0,0.10533333333333333],\"matches\":\"x55\",\"showticklabels\":false,\"ticks\":\"\",\"tickformat\":\"s\",\"showgrid\":false},\"yaxis28\":{\"anchor\":\"x28\",\"domain\":[0.43285714285714283,0.5671428571428572],\"matches\":\"y55\",\"type\":\"category\",\"visible\":false},\"xaxis29\":{\"anchor\":\"y29\",\"domain\":[0.10933333333333334,0.21466666666666667],\"matches\":\"x55\",\"showticklabels\":false,\"ticks\":\"\",\"tickformat\":\"s\",\"showgrid\":false},\"yaxis29\":{\"anchor\":\"x29\",\"domain\":[0.43285714285714283,0.5671428571428572],\"matches\":\"y55\",\"showticklabels\":false,\"type\":\"category\",\"visible\":false},\"xaxis30\":{\"anchor\":\"y30\",\"domain\":[0.21866666666666668,0.324],\"matches\":\"x55\",\"showticklabels\":false,\"ticks\":\"\",\"tickformat\":\"s\",\"showgrid\":false},\"yaxis30\":{\"anchor\":\"x30\",\"domain\":[0.43285714285714283,0.5671428571428572],\"matches\":\"y55\",\"showticklabels\":false,\"type\":\"category\",\"visible\":false},\"xaxis31\":{\"anchor\":\"y31\",\"domain\":[0.328,0.43333333333333335],\"matches\":\"x55\",\"showticklabels\":false,\"tickformat\":\"s\",\"showgrid\":false},\"yaxis31\":{\"anchor\":\"x31\",\"domain\":[0.43285714285714283,0.5671428571428572],\"matches\":\"y55\",\"showticklabels\":false,\"type\":\"category\",\"visible\":false},\"xaxis32\":{\"anchor\":\"y32\",\"domain\":[0.43733333333333335,0.5426666666666666],\"matches\":\"x55\",\"showticklabels\":false,\"ticks\":\"\",\"tickformat\":\"s\",\"showgrid\":false},\"yaxis32\":{\"anchor\":\"x32\",\"domain\":[0.43285714285714283,0.5671428571428572],\"matches\":\"y55\",\"showticklabels\":false,\"type\":\"category\",\"visible\":false},\"xaxis33\":{\"anchor\":\"y33\",\"domain\":[0.5466666666666666,0.6519999999999999],\"matches\":\"x55\",\"showticklabels\":false,\"ticks\":\"\",\"tickformat\":\"s\",\"showgrid\":false},\"yaxis33\":{\"anchor\":\"x33\",\"domain\":[0.43285714285714283,0.5671428571428572],\"matches\":\"y55\",\"showticklabels\":false,\"type\":\"category\",\"visible\":false},\"xaxis34\":{\"anchor\":\"y34\",\"domain\":[0.6559999999999999,0.7613333333333332],\"matches\":\"x55\",\"showticklabels\":false,\"ticks\":\"\",\"tickformat\":\"s\",\"showgrid\":false},\"yaxis34\":{\"anchor\":\"x34\",\"domain\":[0.43285714285714283,0.5671428571428572],\"matches\":\"y55\",\"showticklabels\":false,\"type\":\"category\",\"visible\":false},\"xaxis35\":{\"anchor\":\"y35\",\"domain\":[0.7653333333333332,0.8706666666666665],\"matches\":\"x55\",\"showticklabels\":false,\"tickformat\":\"s\",\"showgrid\":false},\"yaxis35\":{\"anchor\":\"x35\",\"domain\":[0.43285714285714283,0.5671428571428572],\"matches\":\"y55\",\"showticklabels\":false,\"type\":\"category\",\"visible\":false},\"xaxis36\":{\"anchor\":\"y36\",\"domain\":[0.8746666666666665,0.9799999999999998],\"matches\":\"x55\",\"showticklabels\":false,\"ticks\":\"\",\"tickformat\":\"s\",\"showgrid\":false},\"yaxis36\":{\"anchor\":\"x36\",\"domain\":[0.43285714285714283,0.5671428571428572],\"matches\":\"y55\",\"showticklabels\":false,\"type\":\"category\",\"visible\":false},\"xaxis37\":{\"anchor\":\"y37\",\"domain\":[0.0,0.10533333333333333],\"matches\":\"x55\",\"showticklabels\":false,\"ticks\":\"\",\"tickformat\":\"s\",\"showgrid\":false},\"yaxis37\":{\"anchor\":\"x37\",\"domain\":[0.2885714285714286,0.4228571428571429],\"matches\":\"y55\",\"type\":\"category\",\"visible\":false},\"xaxis38\":{\"anchor\":\"y38\",\"domain\":[0.10933333333333334,0.21466666666666667],\"matches\":\"x55\",\"showticklabels\":false,\"ticks\":\"\",\"tickformat\":\"s\",\"showgrid\":false},\"yaxis38\":{\"anchor\":\"x38\",\"domain\":[0.2885714285714286,0.4228571428571429],\"matches\":\"y55\",\"showticklabels\":false,\"type\":\"category\",\"visible\":false},\"xaxis39\":{\"anchor\":\"y39\",\"domain\":[0.21866666666666668,0.324],\"matches\":\"x55\",\"showticklabels\":false,\"ticks\":\"\",\"tickformat\":\"s\",\"showgrid\":false},\"yaxis39\":{\"anchor\":\"x39\",\"domain\":[0.2885714285714286,0.4228571428571429],\"matches\":\"y55\",\"showticklabels\":false,\"type\":\"category\",\"visible\":false},\"xaxis40\":{\"anchor\":\"y40\",\"domain\":[0.328,0.43333333333333335],\"matches\":\"x55\",\"showticklabels\":false,\"ticks\":\"\",\"tickformat\":\"s\",\"showgrid\":false},\"yaxis40\":{\"anchor\":\"x40\",\"domain\":[0.2885714285714286,0.4228571428571429],\"matches\":\"y55\",\"showticklabels\":false,\"type\":\"category\",\"visible\":false},\"xaxis41\":{\"anchor\":\"y41\",\"domain\":[0.43733333333333335,0.5426666666666666],\"matches\":\"x55\",\"showticklabels\":false,\"ticks\":\"\",\"tickformat\":\"s\",\"showgrid\":false},\"yaxis41\":{\"anchor\":\"x41\",\"domain\":[0.2885714285714286,0.4228571428571429],\"matches\":\"y55\",\"showticklabels\":false,\"type\":\"category\",\"visible\":false},\"xaxis42\":{\"anchor\":\"y42\",\"domain\":[0.5466666666666666,0.6519999999999999],\"matches\":\"x55\",\"showticklabels\":false,\"ticks\":\"\",\"tickformat\":\"s\",\"showgrid\":false},\"yaxis42\":{\"anchor\":\"x42\",\"domain\":[0.2885714285714286,0.4228571428571429],\"matches\":\"y55\",\"showticklabels\":false,\"type\":\"category\",\"visible\":false},\"xaxis43\":{\"anchor\":\"y43\",\"domain\":[0.6559999999999999,0.7613333333333332],\"matches\":\"x55\",\"showticklabels\":false,\"ticks\":\"\",\"tickformat\":\"s\",\"showgrid\":false},\"yaxis43\":{\"anchor\":\"x43\",\"domain\":[0.2885714285714286,0.4228571428571429],\"matches\":\"y55\",\"showticklabels\":false,\"type\":\"category\",\"visible\":false},\"xaxis44\":{\"anchor\":\"y44\",\"domain\":[0.7653333333333332,0.8706666666666665],\"matches\":\"x55\",\"showticklabels\":false,\"ticks\":\"\",\"tickformat\":\"s\",\"showgrid\":false},\"yaxis44\":{\"anchor\":\"x44\",\"domain\":[0.2885714285714286,0.4228571428571429],\"matches\":\"y55\",\"showticklabels\":false,\"type\":\"category\",\"visible\":false},\"xaxis45\":{\"anchor\":\"y45\",\"domain\":[0.8746666666666665,0.9799999999999998],\"matches\":\"x55\",\"showticklabels\":false,\"ticks\":\"\",\"tickformat\":\"s\",\"showgrid\":false},\"yaxis45\":{\"anchor\":\"x45\",\"domain\":[0.2885714285714286,0.4228571428571429],\"matches\":\"y55\",\"showticklabels\":false,\"type\":\"category\",\"visible\":false},\"xaxis46\":{\"anchor\":\"y46\",\"domain\":[0.0,0.10533333333333333],\"matches\":\"x55\",\"showticklabels\":false,\"ticks\":\"\",\"tickformat\":\"s\",\"showgrid\":false},\"yaxis46\":{\"anchor\":\"x46\",\"domain\":[0.1442857142857143,0.2785714285714286],\"matches\":\"y55\",\"type\":\"category\",\"visible\":false},\"xaxis47\":{\"anchor\":\"y47\",\"domain\":[0.10933333333333334,0.21466666666666667],\"matches\":\"x55\",\"showticklabels\":false,\"ticks\":\"\",\"tickformat\":\"s\",\"showgrid\":false},\"yaxis47\":{\"anchor\":\"x47\",\"domain\":[0.1442857142857143,0.2785714285714286],\"matches\":\"y55\",\"showticklabels\":false,\"type\":\"category\",\"visible\":false},\"xaxis48\":{\"anchor\":\"y48\",\"domain\":[0.21866666666666668,0.324],\"matches\":\"x55\",\"showticklabels\":false,\"ticks\":\"\",\"tickformat\":\"s\",\"showgrid\":false},\"yaxis48\":{\"anchor\":\"x48\",\"domain\":[0.1442857142857143,0.2785714285714286],\"matches\":\"y55\",\"showticklabels\":false,\"type\":\"category\",\"visible\":false},\"xaxis49\":{\"anchor\":\"y49\",\"domain\":[0.328,0.43333333333333335],\"matches\":\"x55\",\"showticklabels\":false,\"tickformat\":\"s\",\"showgrid\":false},\"yaxis49\":{\"anchor\":\"x49\",\"domain\":[0.1442857142857143,0.2785714285714286],\"matches\":\"y55\",\"showticklabels\":false,\"type\":\"category\",\"visible\":false},\"xaxis50\":{\"anchor\":\"y50\",\"domain\":[0.43733333333333335,0.5426666666666666],\"matches\":\"x55\",\"showticklabels\":false,\"tickformat\":\"s\",\"showgrid\":false},\"yaxis50\":{\"anchor\":\"x50\",\"domain\":[0.1442857142857143,0.2785714285714286],\"matches\":\"y55\",\"showticklabels\":false,\"type\":\"category\",\"visible\":false},\"xaxis51\":{\"anchor\":\"y51\",\"domain\":[0.5466666666666666,0.6519999999999999],\"matches\":\"x55\",\"showticklabels\":false,\"tickformat\":\"s\",\"showgrid\":false},\"yaxis51\":{\"anchor\":\"x51\",\"domain\":[0.1442857142857143,0.2785714285714286],\"matches\":\"y55\",\"showticklabels\":false,\"type\":\"category\",\"visible\":false},\"xaxis52\":{\"anchor\":\"y52\",\"domain\":[0.6559999999999999,0.7613333333333332],\"matches\":\"x55\",\"showticklabels\":false,\"ticks\":\"\",\"tickformat\":\"s\",\"showgrid\":false},\"yaxis52\":{\"anchor\":\"x52\",\"domain\":[0.1442857142857143,0.2785714285714286],\"matches\":\"y55\",\"showticklabels\":false,\"type\":\"category\",\"visible\":false},\"xaxis53\":{\"anchor\":\"y53\",\"domain\":[0.7653333333333332,0.8706666666666665],\"matches\":\"x55\",\"showticklabels\":false,\"tickformat\":\"s\",\"showgrid\":false},\"yaxis53\":{\"anchor\":\"x53\",\"domain\":[0.1442857142857143,0.2785714285714286],\"matches\":\"y55\",\"showticklabels\":false,\"type\":\"category\",\"visible\":false},\"xaxis54\":{\"anchor\":\"y54\",\"domain\":[0.8746666666666665,0.9799999999999998],\"matches\":\"x55\",\"showticklabels\":false,\"ticks\":\"\",\"tickformat\":\"s\",\"showgrid\":false},\"yaxis54\":{\"anchor\":\"x54\",\"domain\":[0.1442857142857143,0.2785714285714286],\"matches\":\"y55\",\"showticklabels\":false,\"type\":\"category\",\"visible\":false},\"xaxis55\":{\"anchor\":\"y55\",\"domain\":[0.0,0.10533333333333333],\"ticks\":\"outside\",\"tickformat\":\"s\",\"showgrid\":false},\"yaxis55\":{\"anchor\":\"x55\",\"domain\":[0.0,0.13428571428571429],\"type\":\"category\",\"visible\":false},\"xaxis56\":{\"anchor\":\"y56\",\"domain\":[0.10933333333333334,0.21466666666666667],\"matches\":\"x55\",\"ticks\":\"outside\",\"tickformat\":\"s\",\"showgrid\":false},\"yaxis56\":{\"anchor\":\"x56\",\"domain\":[0.0,0.13428571428571429],\"matches\":\"y55\",\"showticklabels\":false,\"type\":\"category\",\"visible\":false},\"xaxis57\":{\"anchor\":\"y57\",\"domain\":[0.21866666666666668,0.324],\"matches\":\"x55\",\"ticks\":\"outside\",\"tickformat\":\"s\",\"showgrid\":false},\"yaxis57\":{\"anchor\":\"x57\",\"domain\":[0.0,0.13428571428571429],\"matches\":\"y55\",\"showticklabels\":false,\"type\":\"category\",\"visible\":false},\"xaxis58\":{\"anchor\":\"y58\",\"domain\":[0.328,0.43333333333333335],\"matches\":\"x55\",\"tickformat\":\"s\",\"showgrid\":false,\"ticks\":\"outside\"},\"yaxis58\":{\"anchor\":\"x58\",\"domain\":[0.0,0.13428571428571429],\"matches\":\"y55\",\"showticklabels\":false,\"type\":\"category\",\"visible\":false},\"xaxis59\":{\"anchor\":\"y59\",\"domain\":[0.43733333333333335,0.5426666666666666],\"matches\":\"x55\",\"ticks\":\"outside\",\"tickformat\":\"s\",\"showgrid\":false},\"yaxis59\":{\"anchor\":\"x59\",\"domain\":[0.0,0.13428571428571429],\"matches\":\"y55\",\"showticklabels\":false,\"type\":\"category\",\"visible\":false},\"xaxis60\":{\"anchor\":\"y60\",\"domain\":[0.5466666666666666,0.6519999999999999],\"matches\":\"x55\",\"ticks\":\"outside\",\"tickformat\":\"s\",\"showgrid\":false},\"yaxis60\":{\"anchor\":\"x60\",\"domain\":[0.0,0.13428571428571429],\"matches\":\"y55\",\"showticklabels\":false,\"type\":\"category\",\"visible\":false},\"xaxis61\":{\"anchor\":\"y61\",\"domain\":[0.6559999999999999,0.7613333333333332],\"matches\":\"x55\",\"ticks\":\"outside\",\"tickformat\":\"s\",\"showgrid\":false},\"yaxis61\":{\"anchor\":\"x61\",\"domain\":[0.0,0.13428571428571429],\"matches\":\"y55\",\"showticklabels\":false,\"type\":\"category\",\"visible\":false},\"xaxis62\":{\"anchor\":\"y62\",\"domain\":[0.7653333333333332,0.8706666666666665],\"matches\":\"x55\",\"tickformat\":\"s\",\"showgrid\":false,\"ticks\":\"outside\"},\"yaxis62\":{\"anchor\":\"x62\",\"domain\":[0.0,0.13428571428571429],\"matches\":\"y55\",\"showticklabels\":false,\"type\":\"category\",\"visible\":false},\"xaxis63\":{\"anchor\":\"y63\",\"domain\":[0.8746666666666665,0.9799999999999998],\"matches\":\"x55\",\"ticks\":\"outside\",\"tickformat\":\"s\",\"showgrid\":false},\"yaxis63\":{\"anchor\":\"x63\",\"domain\":[0.0,0.13428571428571429],\"matches\":\"y55\",\"showticklabels\":false,\"type\":\"category\",\"visible\":false},\"annotations\":[{\"font\":{\"size\":14},\"showarrow\":false,\"text\":\"Promoter (<=1kb)\",\"x\":0.05266666666666667,\"xanchor\":\"center\",\"xref\":\"paper\",\"y\":1.0000000000000002,\"yanchor\":\"bottom\",\"yref\":\"paper\",\"textangle\":0,\"align\":\"left\"},{\"font\":{\"size\":14},\"showarrow\":false,\"text\":\"Promoter (1-2kb)\",\"x\":0.162,\"xanchor\":\"center\",\"xref\":\"paper\",\"y\":1.0000000000000002,\"yanchor\":\"bottom\",\"yref\":\"paper\",\"textangle\":0,\"align\":\"left\"},{\"font\":{\"size\":14},\"showarrow\":false,\"text\":\"Promoter (2-3kb)\",\"x\":0.2713333333333333,\"xanchor\":\"center\",\"xref\":\"paper\",\"y\":1.0000000000000002,\"yanchor\":\"bottom\",\"yref\":\"paper\",\"textangle\":0,\"align\":\"left\"},{\"font\":{\"size\":14},\"showarrow\":false,\"text\":\"5' UTR\",\"x\":0.3806666666666667,\"xanchor\":\"center\",\"xref\":\"paper\",\"y\":1.0000000000000002,\"yanchor\":\"bottom\",\"yref\":\"paper\",\"textangle\":0,\"align\":\"left\"},{\"font\":{\"size\":14},\"showarrow\":false,\"text\":\"3' UTR\",\"x\":0.49,\"xanchor\":\"center\",\"xref\":\"paper\",\"y\":1.0000000000000002,\"yanchor\":\"bottom\",\"yref\":\"paper\",\"textangle\":0,\"align\":\"left\"},{\"font\":{\"size\":14},\"showarrow\":false,\"text\":\"Exon\",\"x\":0.5993333333333333,\"xanchor\":\"center\",\"xref\":\"paper\",\"y\":1.0000000000000002,\"yanchor\":\"bottom\",\"yref\":\"paper\",\"textangle\":0,\"align\":\"left\"},{\"font\":{\"size\":14},\"showarrow\":false,\"text\":\"Intron\",\"x\":0.7086666666666666,\"xanchor\":\"center\",\"xref\":\"paper\",\"y\":1.0000000000000002,\"yanchor\":\"bottom\",\"yref\":\"paper\",\"textangle\":0,\"align\":\"left\"},{\"font\":{\"size\":14},\"showarrow\":false,\"text\":\"Downstream (<=300bp)\",\"x\":0.8179999999999998,\"xanchor\":\"center\",\"xref\":\"paper\",\"y\":1.0000000000000002,\"yanchor\":\"bottom\",\"yref\":\"paper\",\"textangle\":0,\"align\":\"left\"},{\"font\":{\"size\":14},\"showarrow\":false,\"text\":\"Distal Intergenic\",\"x\":0.9273333333333331,\"xanchor\":\"center\",\"xref\":\"paper\",\"y\":1.0000000000000002,\"yanchor\":\"bottom\",\"yref\":\"paper\",\"textangle\":0,\"align\":\"left\"},{\"font\":{\"size\":14},\"showarrow\":false,\"text\":\"cCRE\",\"textangle\":0,\"x\":0.9799999999999998,\"xanchor\":\"left\",\"xref\":\"paper\",\"y\":0.932857142857143,\"yanchor\":\"middle\",\"yref\":\"paper\",\"align\":\"left\"},{\"font\":{\"size\":14},\"showarrow\":false,\"text\":\"LINE/LTR\",\"textangle\":0,\"x\":0.9799999999999998,\"xanchor\":\"left\",\"xref\":\"paper\",\"y\":0.7885714285714287,\"yanchor\":\"middle\",\"yref\":\"paper\",\"align\":\"left\"},{\"font\":{\"size\":14},\"showarrow\":false,\"text\":\"cCRE &<br>LINE/LTR\",\"textangle\":0,\"x\":0.9799999999999998,\"xanchor\":\"left\",\"xref\":\"paper\",\"y\":0.6442857142857144,\"yanchor\":\"middle\",\"yref\":\"paper\",\"align\":\"left\"},{\"font\":{\"size\":14},\"showarrow\":false,\"text\":\"CTCF\",\"textangle\":0,\"x\":0.9799999999999998,\"xanchor\":\"left\",\"xref\":\"paper\",\"y\":0.5,\"yanchor\":\"middle\",\"yref\":\"paper\",\"align\":\"left\"},{\"font\":{\"size\":14},\"showarrow\":false,\"text\":\"cCRE &<br>CTCF\",\"textangle\":0,\"x\":0.9799999999999998,\"xanchor\":\"left\",\"xref\":\"paper\",\"y\":0.35571428571428576,\"yanchor\":\"middle\",\"yref\":\"paper\",\"align\":\"left\"},{\"font\":{\"size\":14},\"showarrow\":false,\"text\":\"LINE/LTR &<br>CTCF\",\"textangle\":0,\"x\":0.9799999999999998,\"xanchor\":\"left\",\"xref\":\"paper\",\"y\":0.21142857142857144,\"yanchor\":\"middle\",\"yref\":\"paper\",\"align\":\"left\"},{\"font\":{\"size\":14},\"showarrow\":false,\"text\":\"cCRE &<br>LINE/LTR &<br>CTCF\",\"textangle\":0,\"x\":0.9799999999999998,\"xanchor\":\"left\",\"xref\":\"paper\",\"y\":0.06714285714285714,\"yanchor\":\"middle\",\"yref\":\"paper\",\"align\":\"left\"},{\"font\":{\"size\":14},\"showarrow\":false,\"text\":\"Flipon count\",\"x\":0.49,\"xanchor\":\"center\",\"xref\":\"paper\",\"y\":0,\"yanchor\":\"top\",\"yref\":\"paper\",\"yshift\":-30,\"textangle\":0,\"align\":\"left\"}],\"title\":{\"text\":\"Flipons (62,827)\",\"x\":0.005,\"y\":0.99},\"font\":{\"family\":\"monospace\",\"size\":12},\"uniformtext\":{\"minsize\":12},\"margin\":{\"l\":5,\"t\":55,\"b\":55,\"r\":60},\"legend\":{\"traceorder\":\"reversed\",\"orientation\":\"h\",\"yanchor\":\"bottom\",\"y\":-0.07,\"xanchor\":\"right\",\"x\":0.98},\"height\":900,\"width\":1600},                        {\"responsive\": true}                    ).then(function(){\n",
       "                            \n",
       "var gd = document.getElementById('79d53987-4917-491a-8174-ed8998029cd6');\n",
       "var x = new MutationObserver(function (mutations, observer) {{\n",
       "        var display = window.getComputedStyle(gd).display;\n",
       "        if (!display || display === 'none') {{\n",
       "            console.log([gd, 'removed!']);\n",
       "            Plotly.purge(gd);\n",
       "            observer.disconnect();\n",
       "        }}\n",
       "}});\n",
       "\n",
       "// Listen for the removal of the full notebook cells\n",
       "var notebookContainer = gd.closest('#notebook-container');\n",
       "if (notebookContainer) {{\n",
       "    x.observe(notebookContainer, {childList: true});\n",
       "}}\n",
       "\n",
       "// Listen for the clearing of the current output cell\n",
       "var outputEl = gd.closest('.output');\n",
       "if (outputEl) {{\n",
       "    x.observe(outputEl, {childList: true});\n",
       "}}\n",
       "\n",
       "                        })                };                });            </script>        </div>"
      ]
     },
     "metadata": {},
     "output_type": "display_data"
    }
   ],
   "source": [
    "n_rows = len(feature_groups)\n",
    "n_cols = len(annotations)\n",
    "\n",
    "fig = ps.make_subplots(\n",
    "    rows=n_rows,\n",
    "    cols=n_cols,\n",
    "    shared_xaxes=\"all\",\n",
    "    shared_yaxes=\"all\",\n",
    "    horizontal_spacing=0.004,\n",
    "    vertical_spacing=0.01,\n",
    "    column_titles=annotations,\n",
    "    row_titles=feature_groups,\n",
    "    x_title=\"Flipon count\",\n",
    "    # y_title=\"Flipon group\",\n",
    ")\n",
    "\n",
    "for i, feature_group in enumerate(feature_groups):\n",
    "    for j, annotation in enumerate(annotations):\n",
    "        df = (\n",
    "            plotly_data_og[\n",
    "                (plotly_data_og[\"feature_group\"] == feature_group)\n",
    "                & (plotly_data_og[\"annotation\"] == annotation)\n",
    "            ]\n",
    "            .set_index(\"group\")\n",
    "            .reindex(groups)\n",
    "            .dropna()\n",
    "        )\n",
    "\n",
    "        if not len(df):\n",
    "            continue\n",
    "\n",
    "        colors = {\n",
    "            \"G4\": \"#FE9B54\",\n",
    "            \"Z-DNA\": \"royalblue\",\n",
    "            \"SIDD\": \"#ED4241\",\n",
    "            \"H-DNA\": \"darkorchid\",\n",
    "        }\n",
    "        # https://stackoverflow.com/questions/70347594/how-to-format-plotly-legend-when-using-marker-color\n",
    "        for idx, row in df.iterrows():\n",
    "            sub = pgo.Bar(\n",
    "                x=[row[\"count\"]],\n",
    "                y=[idx],\n",
    "                name=idx,\n",
    "                textposition=\"outside\" if row[\"count\"] < 2000 else \"inside\",\n",
    "                texttemplate=\"%{x:,d}\",\n",
    "                marker=dict(color=colors[idx]),\n",
    "                width=1,\n",
    "                orientation=\"h\",\n",
    "                showlegend=True if (i == 0 and j == 0) else False,\n",
    "            )\n",
    "            fig.add_trace(sub, row=i + 1, col=j + 1)\n",
    "        fig.update_xaxes(ticks=\"\", row=i + 1, col=j + 1)\n",
    "\n",
    "fig.update_xaxes(tickformat=\"s\", showgrid=False)\n",
    "fig.update_xaxes(ticks=\"outside\", row=n_rows)\n",
    "fig.update_yaxes(type=\"category\", visible=False)\n",
    "\n",
    "fig.update_annotations(textangle=0, font=dict(size=14), align='left')\n",
    "fig.update_layout(\n",
    "    title=f\"Flipons ({plotly_data_og['count'].sum():,d})\",\n",
    "    title_x=0.005, title_y=.99,\n",
    "    height=900,\n",
    "    width=1600,\n",
    "    font=dict(family=\"monospace\", size=12),\n",
    "    uniformtext_minsize=12,\n",
    "    margin=dict(l=5, t=55, b=55, r=60),\n",
    "    legend=dict(\n",
    "        # title_text=\"Flipon group\",\n",
    "        traceorder=\"reversed\",\n",
    "        orientation=\"h\",\n",
    "        yanchor=\"bottom\",\n",
    "        y=-.07,\n",
    "        xanchor=\"right\",\n",
    "        x=0.98,\n",
    "    ),\n",
    "    template=\"ggplot2\",\n",
    ")\n",
    "\n",
    "fig.write_image(d_img / 'enrichment-table-all-flipons-01-all.png', scale=2)\n",
    "\n",
    "fig.show()\n"
   ]
  },
  {
   "cell_type": "code",
   "execution_count": null,
   "metadata": {},
   "outputs": [],
   "source": []
  }
 ],
 "metadata": {
  "kernelspec": {
   "display_name": "Python 3.11.0 ('mirna')",
   "language": "python",
   "name": "python3"
  },
  "language_info": {
   "codemirror_mode": {
    "name": "ipython",
    "version": 3
   },
   "file_extension": ".py",
   "mimetype": "text/x-python",
   "name": "python",
   "nbconvert_exporter": "python",
   "pygments_lexer": "ipython3",
   "version": "3.10.6"
  },
  "orig_nbformat": 4,
  "vscode": {
   "interpreter": {
    "hash": "aa4ca5e43b0b74394dc05f972f57eb4922712b4f4450a8ee4f1bf77784cf2ccc"
   }
  }
 },
 "nbformat": 4,
 "nbformat_minor": 2
}
