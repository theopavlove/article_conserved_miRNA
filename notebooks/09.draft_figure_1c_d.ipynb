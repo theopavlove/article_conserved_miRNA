{
 "cells": [
  {
   "cell_type": "code",
   "execution_count": 2,
   "metadata": {},
   "outputs": [],
   "source": [
    "import typing\n",
    "import numpy as np\n",
    "import pandas as pd\n",
    "import plotly.graph_objects as pgo\n",
    "import plotly.subplots as ps\n",
    "import plotly.express as px\n",
    "\n",
    "from datapaths import *\n",
    "\n",
    "pd.set_option('display.max_rows', 4)\n"
   ]
  },
  {
   "cell_type": "code",
   "execution_count": 14,
   "metadata": {},
   "outputs": [],
   "source": [
    "def get_plotly_data(path: Path) -> pd.DataFrame:\n",
    "    flipons_to_data = pd.read_table(path).fillna('')\n",
    "    result = (\n",
    "        flipons_to_data\n",
    "        .loc[:, [\"Feature Group\", \"Gene Feature\", \"Flipon\"]]\n",
    "        .groupby([\"Gene Feature\", \"Feature Group\"])[[\"Flipon\"]]\n",
    "        .value_counts()\n",
    "        .to_frame()\n",
    "        .rename(columns={0: \"count\"})\n",
    "        .reset_index()\n",
    "    )\n",
    "    # result['Feature Group'] = result['Feature Group'].str.replace('& ', '&<br>')\n",
    "    result = result[result['Feature Group'] != ''].replace(\n",
    "        {\"g4\": \"G4\", \"z-dna\": \"Z-DNA\", \"h-dna\": \"H-DNA\", \"sidd\": \"SIDD\"}\n",
    "    )\n",
    "\n",
    "\n",
    "    return result\n"
   ]
  },
  {
   "cell_type": "code",
   "execution_count": 15,
   "metadata": {},
   "outputs": [],
   "source": [
    "groups = (\"G4\", \"Z-DNA\", \"SIDD\", \"H-DNA\")\n",
    "annotations = (\n",
    "    \"Promoter (<=1kb)\",\n",
    "    \"Promoter (1-2kb)\",\n",
    "    \"Promoter (2-3kb)\",\n",
    "    \"5' UTR\",\n",
    "    \"Exon\",\n",
    "    \"Intron\",\n",
    "    \"3' UTR\",\n",
    "    \"Downstream (<=300bp)\",\n",
    "    \"Distal Intergenic\",\n",
    ")\n",
    "feature_groups = (\n",
    "    \"cCRE\",\n",
    "    \"cCRE & CTCF\",\n",
    "    \"LINE/LTR\",\n",
    "    # \"cCRE &<br>LINE/LTR\",\n",
    "    # \"CTCF\",\n",
    "    # \"LINE/LTR &<br>CTCF\",\n",
    "    # \"cCRE &<br>LINE/LTR &<br>CTCF\",\n",
    ")"
   ]
  },
  {
   "cell_type": "code",
   "execution_count": 60,
   "metadata": {},
   "outputs": [],
   "source": [
    "def plot_matrix(\n",
    "    groups: typing.Iterable,\n",
    "    annotations: typing.Iterable,\n",
    "    feature_groups: typing.Iterable,\n",
    "    plotly_data: pd.DataFrame,\n",
    "    title: str = \"Generic Title\",\n",
    "    fig_title: str = \"figure.png\",\n",
    "    height: int = 900,\n",
    "    width: int = 1800,\n",
    "):\n",
    "    colors = {\n",
    "        \"G4\": \"#e53237\",\n",
    "        \"Z-DNA\": \"#0064d1\",\n",
    "        \"SIDD\": \"#f5af01\",\n",
    "        \"H-DNA\": \"#86b818\",\n",
    "    }\n",
    "    n_rows = len(feature_groups)\n",
    "    n_cols = len(annotations)\n",
    "    fig = ps.make_subplots(\n",
    "        rows=n_rows,\n",
    "        cols=n_cols,\n",
    "        shared_xaxes=\"all\",\n",
    "        shared_yaxes=\"all\",\n",
    "        horizontal_spacing=0.004,\n",
    "        vertical_spacing=0.01,\n",
    "        column_titles=annotations,\n",
    "        row_titles=feature_groups,\n",
    "    )\n",
    "\n",
    "    for i, feature_group in enumerate(feature_groups):\n",
    "        for j, annotation in enumerate(annotations):\n",
    "            df = (\n",
    "                plotly_data[\n",
    "                    (plotly_data[\"Feature Group\"] == feature_group)\n",
    "                    & (plotly_data[\"Gene Feature\"] == annotation)\n",
    "                ]\n",
    "                .set_index(\"Flipon\")\n",
    "                .reindex(groups)\n",
    "                .dropna()\n",
    "            )\n",
    "\n",
    "            if not len(df):\n",
    "                continue\n",
    "\n",
    "            # https://stackoverflow.com/questions/70347594/how-to-format-plotly-legend-when-using-marker-color\n",
    "            for idx, row in df.iterrows():\n",
    "                sub = pgo.Bar(\n",
    "                    x=[idx],\n",
    "                    y=[row[\"count\"]],\n",
    "                    name=idx,\n",
    "                    textposition=\"outside\"\n",
    "                    if row[\"count\"] < plotly_data[\"count\"].max() // 1.25\n",
    "                    else \"inside\",\n",
    "                    texttemplate=\"%{y:,d}\",\n",
    "                    marker=dict(color=colors[idx]),\n",
    "                    width=1,\n",
    "                    # orientation=\"h\",\n",
    "                    showlegend=True if (i == 0 and j == 0) else False,\n",
    "                )\n",
    "                fig.add_trace(sub, row=i + 1, col=j + 1)\n",
    "            fig.update_yaxes(ticks=\"\", row=i + 1, col=j + 1)\n",
    "\n",
    "    fig.update_yaxes(\n",
    "        tickformat=\"s\",\n",
    "        showgrid=False,\n",
    "        tickmode=\"array\",\n",
    "        tickvals=[round(plotly_data[\"count\"].max() / 4, -3) * i for i in range(0, 5)][1:],\n",
    "    )\n",
    "    fig.update_yaxes(ticks=\"outside\", col=1)\n",
    "    fig.update_xaxes(type=\"category\", visible=False)\n",
    "    fig.update_annotations(textangle=0, font=dict(size=16), align=\"left\")\n",
    "    fig.update_layout(\n",
    "        title=f\"<span style='font-size: 16px;'>{title}</span>\",\n",
    "        title_x=0.005,\n",
    "        title_y=0.97,\n",
    "        height=height,\n",
    "        width=width,\n",
    "        font=dict(family=\"monospace\", size=12),\n",
    "        uniformtext_minsize=12,\n",
    "        margin=dict(l=5, t=55, b=5, r=80),\n",
    "        legend=dict(\n",
    "            font_size=18,\n",
    "            # traceorder=\"reversed\",\n",
    "            orientation=\"h\",\n",
    "            yanchor=\"bottom\",\n",
    "            y=1.07,\n",
    "            xanchor=\"right\",\n",
    "            x=0.98,\n",
    "        ),\n",
    "        # template=\"ggplot2\",\n",
    "    )\n",
    "\n",
    "    fig.write_image(D_IMG / fig_title, scale=2)\n",
    "    fig.show()\n"
   ]
  },
  {
   "cell_type": "code",
   "execution_count": 61,
   "metadata": {},
   "outputs": [
    {
     "data": {
      "application/vnd.plotly.v1+json": {
       "config": {
        "plotlyServerURL": "https://plot.ly"
       },
       "data": [
        {
         "marker": {
          "color": "#e53237"
         },
         "name": "G4",
         "showlegend": true,
         "textposition": "outside",
         "texttemplate": "%{y:,d}",
         "type": "bar",
         "width": 1,
         "x": [
          "G4"
         ],
         "xaxis": "x",
         "y": [
          3414
         ],
         "yaxis": "y"
        },
        {
         "marker": {
          "color": "#0064d1"
         },
         "name": "Z-DNA",
         "showlegend": true,
         "textposition": "outside",
         "texttemplate": "%{y:,d}",
         "type": "bar",
         "width": 1,
         "x": [
          "Z-DNA"
         ],
         "xaxis": "x",
         "y": [
          4271
         ],
         "yaxis": "y"
        },
        {
         "marker": {
          "color": "#f5af01"
         },
         "name": "SIDD",
         "showlegend": true,
         "textposition": "outside",
         "texttemplate": "%{y:,d}",
         "type": "bar",
         "width": 1,
         "x": [
          "SIDD"
         ],
         "xaxis": "x",
         "y": [
          236
         ],
         "yaxis": "y"
        },
        {
         "marker": {
          "color": "#86b818"
         },
         "name": "H-DNA",
         "showlegend": true,
         "textposition": "outside",
         "texttemplate": "%{y:,d}",
         "type": "bar",
         "width": 1,
         "x": [
          "H-DNA"
         ],
         "xaxis": "x",
         "y": [
          669
         ],
         "yaxis": "y"
        },
        {
         "marker": {
          "color": "#e53237"
         },
         "name": "G4",
         "showlegend": false,
         "textposition": "outside",
         "texttemplate": "%{y:,d}",
         "type": "bar",
         "width": 1,
         "x": [
          "G4"
         ],
         "xaxis": "x2",
         "y": [
          325
         ],
         "yaxis": "y2"
        },
        {
         "marker": {
          "color": "#0064d1"
         },
         "name": "Z-DNA",
         "showlegend": false,
         "textposition": "outside",
         "texttemplate": "%{y:,d}",
         "type": "bar",
         "width": 1,
         "x": [
          "Z-DNA"
         ],
         "xaxis": "x2",
         "y": [
          409
         ],
         "yaxis": "y2"
        },
        {
         "marker": {
          "color": "#f5af01"
         },
         "name": "SIDD",
         "showlegend": false,
         "textposition": "outside",
         "texttemplate": "%{y:,d}",
         "type": "bar",
         "width": 1,
         "x": [
          "SIDD"
         ],
         "xaxis": "x2",
         "y": [
          59
         ],
         "yaxis": "y2"
        },
        {
         "marker": {
          "color": "#86b818"
         },
         "name": "H-DNA",
         "showlegend": false,
         "textposition": "outside",
         "texttemplate": "%{y:,d}",
         "type": "bar",
         "width": 1,
         "x": [
          "H-DNA"
         ],
         "xaxis": "x2",
         "y": [
          107
         ],
         "yaxis": "y2"
        },
        {
         "marker": {
          "color": "#e53237"
         },
         "name": "G4",
         "showlegend": false,
         "textposition": "outside",
         "texttemplate": "%{y:,d}",
         "type": "bar",
         "width": 1,
         "x": [
          "G4"
         ],
         "xaxis": "x3",
         "y": [
          155
         ],
         "yaxis": "y3"
        },
        {
         "marker": {
          "color": "#0064d1"
         },
         "name": "Z-DNA",
         "showlegend": false,
         "textposition": "outside",
         "texttemplate": "%{y:,d}",
         "type": "bar",
         "width": 1,
         "x": [
          "Z-DNA"
         ],
         "xaxis": "x3",
         "y": [
          193
         ],
         "yaxis": "y3"
        },
        {
         "marker": {
          "color": "#f5af01"
         },
         "name": "SIDD",
         "showlegend": false,
         "textposition": "outside",
         "texttemplate": "%{y:,d}",
         "type": "bar",
         "width": 1,
         "x": [
          "SIDD"
         ],
         "xaxis": "x3",
         "y": [
          29
         ],
         "yaxis": "y3"
        },
        {
         "marker": {
          "color": "#86b818"
         },
         "name": "H-DNA",
         "showlegend": false,
         "textposition": "outside",
         "texttemplate": "%{y:,d}",
         "type": "bar",
         "width": 1,
         "x": [
          "H-DNA"
         ],
         "xaxis": "x3",
         "y": [
          53
         ],
         "yaxis": "y3"
        },
        {
         "marker": {
          "color": "#e53237"
         },
         "name": "G4",
         "showlegend": false,
         "textposition": "outside",
         "texttemplate": "%{y:,d}",
         "type": "bar",
         "width": 1,
         "x": [
          "G4"
         ],
         "xaxis": "x4",
         "y": [
          1
         ],
         "yaxis": "y4"
        },
        {
         "marker": {
          "color": "#0064d1"
         },
         "name": "Z-DNA",
         "showlegend": false,
         "textposition": "outside",
         "texttemplate": "%{y:,d}",
         "type": "bar",
         "width": 1,
         "x": [
          "Z-DNA"
         ],
         "xaxis": "x4",
         "y": [
          2
         ],
         "yaxis": "y4"
        },
        {
         "marker": {
          "color": "#f5af01"
         },
         "name": "SIDD",
         "showlegend": false,
         "textposition": "outside",
         "texttemplate": "%{y:,d}",
         "type": "bar",
         "width": 1,
         "x": [
          "SIDD"
         ],
         "xaxis": "x4",
         "y": [
          1
         ],
         "yaxis": "y4"
        },
        {
         "marker": {
          "color": "#e53237"
         },
         "name": "G4",
         "showlegend": false,
         "textposition": "outside",
         "texttemplate": "%{y:,d}",
         "type": "bar",
         "width": 1,
         "x": [
          "G4"
         ],
         "xaxis": "x5",
         "y": [
          61
         ],
         "yaxis": "y5"
        },
        {
         "marker": {
          "color": "#0064d1"
         },
         "name": "Z-DNA",
         "showlegend": false,
         "textposition": "outside",
         "texttemplate": "%{y:,d}",
         "type": "bar",
         "width": 1,
         "x": [
          "Z-DNA"
         ],
         "xaxis": "x5",
         "y": [
          221
         ],
         "yaxis": "y5"
        },
        {
         "marker": {
          "color": "#f5af01"
         },
         "name": "SIDD",
         "showlegend": false,
         "textposition": "outside",
         "texttemplate": "%{y:,d}",
         "type": "bar",
         "width": 1,
         "x": [
          "SIDD"
         ],
         "xaxis": "x5",
         "y": [
          7
         ],
         "yaxis": "y5"
        },
        {
         "marker": {
          "color": "#86b818"
         },
         "name": "H-DNA",
         "showlegend": false,
         "textposition": "outside",
         "texttemplate": "%{y:,d}",
         "type": "bar",
         "width": 1,
         "x": [
          "H-DNA"
         ],
         "xaxis": "x5",
         "y": [
          8
         ],
         "yaxis": "y5"
        },
        {
         "marker": {
          "color": "#e53237"
         },
         "name": "G4",
         "showlegend": false,
         "textposition": "outside",
         "texttemplate": "%{y:,d}",
         "type": "bar",
         "width": 1,
         "x": [
          "G4"
         ],
         "xaxis": "x6",
         "y": [
          374
         ],
         "yaxis": "y6"
        },
        {
         "marker": {
          "color": "#0064d1"
         },
         "name": "Z-DNA",
         "showlegend": false,
         "textposition": "outside",
         "texttemplate": "%{y:,d}",
         "type": "bar",
         "width": 1,
         "x": [
          "Z-DNA"
         ],
         "xaxis": "x6",
         "y": [
          327
         ],
         "yaxis": "y6"
        },
        {
         "marker": {
          "color": "#f5af01"
         },
         "name": "SIDD",
         "showlegend": false,
         "textposition": "outside",
         "texttemplate": "%{y:,d}",
         "type": "bar",
         "width": 1,
         "x": [
          "SIDD"
         ],
         "xaxis": "x6",
         "y": [
          80
         ],
         "yaxis": "y6"
        },
        {
         "marker": {
          "color": "#86b818"
         },
         "name": "H-DNA",
         "showlegend": false,
         "textposition": "outside",
         "texttemplate": "%{y:,d}",
         "type": "bar",
         "width": 1,
         "x": [
          "H-DNA"
         ],
         "xaxis": "x6",
         "y": [
          183
         ],
         "yaxis": "y6"
        },
        {
         "marker": {
          "color": "#e53237"
         },
         "name": "G4",
         "showlegend": false,
         "textposition": "outside",
         "texttemplate": "%{y:,d}",
         "type": "bar",
         "width": 1,
         "x": [
          "G4"
         ],
         "xaxis": "x7",
         "y": [
          57
         ],
         "yaxis": "y7"
        },
        {
         "marker": {
          "color": "#0064d1"
         },
         "name": "Z-DNA",
         "showlegend": false,
         "textposition": "outside",
         "texttemplate": "%{y:,d}",
         "type": "bar",
         "width": 1,
         "x": [
          "Z-DNA"
         ],
         "xaxis": "x7",
         "y": [
          44
         ],
         "yaxis": "y7"
        },
        {
         "marker": {
          "color": "#f5af01"
         },
         "name": "SIDD",
         "showlegend": false,
         "textposition": "outside",
         "texttemplate": "%{y:,d}",
         "type": "bar",
         "width": 1,
         "x": [
          "SIDD"
         ],
         "xaxis": "x7",
         "y": [
          21
         ],
         "yaxis": "y7"
        },
        {
         "marker": {
          "color": "#86b818"
         },
         "name": "H-DNA",
         "showlegend": false,
         "textposition": "outside",
         "texttemplate": "%{y:,d}",
         "type": "bar",
         "width": 1,
         "x": [
          "H-DNA"
         ],
         "xaxis": "x7",
         "y": [
          16
         ],
         "yaxis": "y7"
        },
        {
         "marker": {
          "color": "#e53237"
         },
         "name": "G4",
         "showlegend": false,
         "textposition": "outside",
         "texttemplate": "%{y:,d}",
         "type": "bar",
         "width": 1,
         "x": [
          "G4"
         ],
         "xaxis": "x8",
         "y": [
          4
         ],
         "yaxis": "y8"
        },
        {
         "marker": {
          "color": "#0064d1"
         },
         "name": "Z-DNA",
         "showlegend": false,
         "textposition": "outside",
         "texttemplate": "%{y:,d}",
         "type": "bar",
         "width": 1,
         "x": [
          "Z-DNA"
         ],
         "xaxis": "x8",
         "y": [
          4
         ],
         "yaxis": "y8"
        },
        {
         "marker": {
          "color": "#e53237"
         },
         "name": "G4",
         "showlegend": false,
         "textposition": "outside",
         "texttemplate": "%{y:,d}",
         "type": "bar",
         "width": 1,
         "x": [
          "G4"
         ],
         "xaxis": "x9",
         "y": [
          329
         ],
         "yaxis": "y9"
        },
        {
         "marker": {
          "color": "#0064d1"
         },
         "name": "Z-DNA",
         "showlegend": false,
         "textposition": "outside",
         "texttemplate": "%{y:,d}",
         "type": "bar",
         "width": 1,
         "x": [
          "Z-DNA"
         ],
         "xaxis": "x9",
         "y": [
          291
         ],
         "yaxis": "y9"
        },
        {
         "marker": {
          "color": "#f5af01"
         },
         "name": "SIDD",
         "showlegend": false,
         "textposition": "outside",
         "texttemplate": "%{y:,d}",
         "type": "bar",
         "width": 1,
         "x": [
          "SIDD"
         ],
         "xaxis": "x9",
         "y": [
          64
         ],
         "yaxis": "y9"
        },
        {
         "marker": {
          "color": "#86b818"
         },
         "name": "H-DNA",
         "showlegend": false,
         "textposition": "outside",
         "texttemplate": "%{y:,d}",
         "type": "bar",
         "width": 1,
         "x": [
          "H-DNA"
         ],
         "xaxis": "x9",
         "y": [
          189
         ],
         "yaxis": "y9"
        },
        {
         "marker": {
          "color": "#e53237"
         },
         "name": "G4",
         "showlegend": false,
         "textposition": "outside",
         "texttemplate": "%{y:,d}",
         "type": "bar",
         "width": 1,
         "x": [
          "G4"
         ],
         "xaxis": "x10",
         "y": [
          2958
         ],
         "yaxis": "y10"
        },
        {
         "marker": {
          "color": "#0064d1"
         },
         "name": "Z-DNA",
         "showlegend": false,
         "textposition": "outside",
         "texttemplate": "%{y:,d}",
         "type": "bar",
         "width": 1,
         "x": [
          "Z-DNA"
         ],
         "xaxis": "x10",
         "y": [
          4838
         ],
         "yaxis": "y10"
        },
        {
         "marker": {
          "color": "#f5af01"
         },
         "name": "SIDD",
         "showlegend": false,
         "textposition": "outside",
         "texttemplate": "%{y:,d}",
         "type": "bar",
         "width": 1,
         "x": [
          "SIDD"
         ],
         "xaxis": "x10",
         "y": [
          182
         ],
         "yaxis": "y10"
        },
        {
         "marker": {
          "color": "#86b818"
         },
         "name": "H-DNA",
         "showlegend": false,
         "textposition": "outside",
         "texttemplate": "%{y:,d}",
         "type": "bar",
         "width": 1,
         "x": [
          "H-DNA"
         ],
         "xaxis": "x10",
         "y": [
          569
         ],
         "yaxis": "y10"
        },
        {
         "marker": {
          "color": "#e53237"
         },
         "name": "G4",
         "showlegend": false,
         "textposition": "outside",
         "texttemplate": "%{y:,d}",
         "type": "bar",
         "width": 1,
         "x": [
          "G4"
         ],
         "xaxis": "x11",
         "y": [
          208
         ],
         "yaxis": "y11"
        },
        {
         "marker": {
          "color": "#0064d1"
         },
         "name": "Z-DNA",
         "showlegend": false,
         "textposition": "outside",
         "texttemplate": "%{y:,d}",
         "type": "bar",
         "width": 1,
         "x": [
          "Z-DNA"
         ],
         "xaxis": "x11",
         "y": [
          388
         ],
         "yaxis": "y11"
        },
        {
         "marker": {
          "color": "#f5af01"
         },
         "name": "SIDD",
         "showlegend": false,
         "textposition": "outside",
         "texttemplate": "%{y:,d}",
         "type": "bar",
         "width": 1,
         "x": [
          "SIDD"
         ],
         "xaxis": "x11",
         "y": [
          35
         ],
         "yaxis": "y11"
        },
        {
         "marker": {
          "color": "#86b818"
         },
         "name": "H-DNA",
         "showlegend": false,
         "textposition": "outside",
         "texttemplate": "%{y:,d}",
         "type": "bar",
         "width": 1,
         "x": [
          "H-DNA"
         ],
         "xaxis": "x11",
         "y": [
          61
         ],
         "yaxis": "y11"
        },
        {
         "marker": {
          "color": "#e53237"
         },
         "name": "G4",
         "showlegend": false,
         "textposition": "outside",
         "texttemplate": "%{y:,d}",
         "type": "bar",
         "width": 1,
         "x": [
          "G4"
         ],
         "xaxis": "x12",
         "y": [
          85
         ],
         "yaxis": "y12"
        },
        {
         "marker": {
          "color": "#0064d1"
         },
         "name": "Z-DNA",
         "showlegend": false,
         "textposition": "outside",
         "texttemplate": "%{y:,d}",
         "type": "bar",
         "width": 1,
         "x": [
          "Z-DNA"
         ],
         "xaxis": "x12",
         "y": [
          130
         ],
         "yaxis": "y12"
        },
        {
         "marker": {
          "color": "#f5af01"
         },
         "name": "SIDD",
         "showlegend": false,
         "textposition": "outside",
         "texttemplate": "%{y:,d}",
         "type": "bar",
         "width": 1,
         "x": [
          "SIDD"
         ],
         "xaxis": "x12",
         "y": [
          16
         ],
         "yaxis": "y12"
        },
        {
         "marker": {
          "color": "#86b818"
         },
         "name": "H-DNA",
         "showlegend": false,
         "textposition": "outside",
         "texttemplate": "%{y:,d}",
         "type": "bar",
         "width": 1,
         "x": [
          "H-DNA"
         ],
         "xaxis": "x12",
         "y": [
          20
         ],
         "yaxis": "y12"
        },
        {
         "marker": {
          "color": "#e53237"
         },
         "name": "G4",
         "showlegend": false,
         "textposition": "outside",
         "texttemplate": "%{y:,d}",
         "type": "bar",
         "width": 1,
         "x": [
          "G4"
         ],
         "xaxis": "x13",
         "y": [
          2
         ],
         "yaxis": "y13"
        },
        {
         "marker": {
          "color": "#0064d1"
         },
         "name": "Z-DNA",
         "showlegend": false,
         "textposition": "outside",
         "texttemplate": "%{y:,d}",
         "type": "bar",
         "width": 1,
         "x": [
          "Z-DNA"
         ],
         "xaxis": "x13",
         "y": [
          2
         ],
         "yaxis": "y13"
        },
        {
         "marker": {
          "color": "#e53237"
         },
         "name": "G4",
         "showlegend": false,
         "textposition": "outside",
         "texttemplate": "%{y:,d}",
         "type": "bar",
         "width": 1,
         "x": [
          "G4"
         ],
         "xaxis": "x14",
         "y": [
          33
         ],
         "yaxis": "y14"
        },
        {
         "marker": {
          "color": "#0064d1"
         },
         "name": "Z-DNA",
         "showlegend": false,
         "textposition": "outside",
         "texttemplate": "%{y:,d}",
         "type": "bar",
         "width": 1,
         "x": [
          "Z-DNA"
         ],
         "xaxis": "x14",
         "y": [
          195
         ],
         "yaxis": "y14"
        },
        {
         "marker": {
          "color": "#f5af01"
         },
         "name": "SIDD",
         "showlegend": false,
         "textposition": "outside",
         "texttemplate": "%{y:,d}",
         "type": "bar",
         "width": 1,
         "x": [
          "SIDD"
         ],
         "xaxis": "x14",
         "y": [
          2
         ],
         "yaxis": "y14"
        },
        {
         "marker": {
          "color": "#86b818"
         },
         "name": "H-DNA",
         "showlegend": false,
         "textposition": "outside",
         "texttemplate": "%{y:,d}",
         "type": "bar",
         "width": 1,
         "x": [
          "H-DNA"
         ],
         "xaxis": "x14",
         "y": [
          2
         ],
         "yaxis": "y14"
        },
        {
         "marker": {
          "color": "#e53237"
         },
         "name": "G4",
         "showlegend": false,
         "textposition": "outside",
         "texttemplate": "%{y:,d}",
         "type": "bar",
         "width": 1,
         "x": [
          "G4"
         ],
         "xaxis": "x15",
         "y": [
          137
         ],
         "yaxis": "y15"
        },
        {
         "marker": {
          "color": "#0064d1"
         },
         "name": "Z-DNA",
         "showlegend": false,
         "textposition": "outside",
         "texttemplate": "%{y:,d}",
         "type": "bar",
         "width": 1,
         "x": [
          "Z-DNA"
         ],
         "xaxis": "x15",
         "y": [
          125
         ],
         "yaxis": "y15"
        },
        {
         "marker": {
          "color": "#f5af01"
         },
         "name": "SIDD",
         "showlegend": false,
         "textposition": "outside",
         "texttemplate": "%{y:,d}",
         "type": "bar",
         "width": 1,
         "x": [
          "SIDD"
         ],
         "xaxis": "x15",
         "y": [
          30
         ],
         "yaxis": "y15"
        },
        {
         "marker": {
          "color": "#86b818"
         },
         "name": "H-DNA",
         "showlegend": false,
         "textposition": "outside",
         "texttemplate": "%{y:,d}",
         "type": "bar",
         "width": 1,
         "x": [
          "H-DNA"
         ],
         "xaxis": "x15",
         "y": [
          62
         ],
         "yaxis": "y15"
        },
        {
         "marker": {
          "color": "#e53237"
         },
         "name": "G4",
         "showlegend": false,
         "textposition": "outside",
         "texttemplate": "%{y:,d}",
         "type": "bar",
         "width": 1,
         "x": [
          "G4"
         ],
         "xaxis": "x16",
         "y": [
          45
         ],
         "yaxis": "y16"
        },
        {
         "marker": {
          "color": "#0064d1"
         },
         "name": "Z-DNA",
         "showlegend": false,
         "textposition": "outside",
         "texttemplate": "%{y:,d}",
         "type": "bar",
         "width": 1,
         "x": [
          "Z-DNA"
         ],
         "xaxis": "x16",
         "y": [
          37
         ],
         "yaxis": "y16"
        },
        {
         "marker": {
          "color": "#f5af01"
         },
         "name": "SIDD",
         "showlegend": false,
         "textposition": "outside",
         "texttemplate": "%{y:,d}",
         "type": "bar",
         "width": 1,
         "x": [
          "SIDD"
         ],
         "xaxis": "x16",
         "y": [
          11
         ],
         "yaxis": "y16"
        },
        {
         "marker": {
          "color": "#86b818"
         },
         "name": "H-DNA",
         "showlegend": false,
         "textposition": "outside",
         "texttemplate": "%{y:,d}",
         "type": "bar",
         "width": 1,
         "x": [
          "H-DNA"
         ],
         "xaxis": "x16",
         "y": [
          9
         ],
         "yaxis": "y16"
        },
        {
         "marker": {
          "color": "#e53237"
         },
         "name": "G4",
         "showlegend": false,
         "textposition": "outside",
         "texttemplate": "%{y:,d}",
         "type": "bar",
         "width": 1,
         "x": [
          "G4"
         ],
         "xaxis": "x17",
         "y": [
          2
         ],
         "yaxis": "y17"
        },
        {
         "marker": {
          "color": "#0064d1"
         },
         "name": "Z-DNA",
         "showlegend": false,
         "textposition": "outside",
         "texttemplate": "%{y:,d}",
         "type": "bar",
         "width": 1,
         "x": [
          "Z-DNA"
         ],
         "xaxis": "x17",
         "y": [
          3
         ],
         "yaxis": "y17"
        },
        {
         "marker": {
          "color": "#f5af01"
         },
         "name": "SIDD",
         "showlegend": false,
         "textposition": "outside",
         "texttemplate": "%{y:,d}",
         "type": "bar",
         "width": 1,
         "x": [
          "SIDD"
         ],
         "xaxis": "x17",
         "y": [
          1
         ],
         "yaxis": "y17"
        },
        {
         "marker": {
          "color": "#e53237"
         },
         "name": "G4",
         "showlegend": false,
         "textposition": "outside",
         "texttemplate": "%{y:,d}",
         "type": "bar",
         "width": 1,
         "x": [
          "G4"
         ],
         "xaxis": "x18",
         "y": [
          190
         ],
         "yaxis": "y18"
        },
        {
         "marker": {
          "color": "#0064d1"
         },
         "name": "Z-DNA",
         "showlegend": false,
         "textposition": "outside",
         "texttemplate": "%{y:,d}",
         "type": "bar",
         "width": 1,
         "x": [
          "Z-DNA"
         ],
         "xaxis": "x18",
         "y": [
          226
         ],
         "yaxis": "y18"
        },
        {
         "marker": {
          "color": "#f5af01"
         },
         "name": "SIDD",
         "showlegend": false,
         "textposition": "outside",
         "texttemplate": "%{y:,d}",
         "type": "bar",
         "width": 1,
         "x": [
          "SIDD"
         ],
         "xaxis": "x18",
         "y": [
          27
         ],
         "yaxis": "y18"
        },
        {
         "marker": {
          "color": "#86b818"
         },
         "name": "H-DNA",
         "showlegend": false,
         "textposition": "outside",
         "texttemplate": "%{y:,d}",
         "type": "bar",
         "width": 1,
         "x": [
          "H-DNA"
         ],
         "xaxis": "x18",
         "y": [
          59
         ],
         "yaxis": "y18"
        },
        {
         "marker": {
          "color": "#e53237"
         },
         "name": "G4",
         "showlegend": false,
         "textposition": "outside",
         "texttemplate": "%{y:,d}",
         "type": "bar",
         "width": 1,
         "x": [
          "G4"
         ],
         "xaxis": "x19",
         "y": [
          247
         ],
         "yaxis": "y19"
        },
        {
         "marker": {
          "color": "#0064d1"
         },
         "name": "Z-DNA",
         "showlegend": false,
         "textposition": "outside",
         "texttemplate": "%{y:,d}",
         "type": "bar",
         "width": 1,
         "x": [
          "Z-DNA"
         ],
         "xaxis": "x19",
         "y": [
          298
         ],
         "yaxis": "y19"
        },
        {
         "marker": {
          "color": "#f5af01"
         },
         "name": "SIDD",
         "showlegend": false,
         "textposition": "outside",
         "texttemplate": "%{y:,d}",
         "type": "bar",
         "width": 1,
         "x": [
          "SIDD"
         ],
         "xaxis": "x19",
         "y": [
          445
         ],
         "yaxis": "y19"
        },
        {
         "marker": {
          "color": "#86b818"
         },
         "name": "H-DNA",
         "showlegend": false,
         "textposition": "outside",
         "texttemplate": "%{y:,d}",
         "type": "bar",
         "width": 1,
         "x": [
          "H-DNA"
         ],
         "xaxis": "x19",
         "y": [
          306
         ],
         "yaxis": "y19"
        },
        {
         "marker": {
          "color": "#e53237"
         },
         "name": "G4",
         "showlegend": false,
         "textposition": "outside",
         "texttemplate": "%{y:,d}",
         "type": "bar",
         "width": 1,
         "x": [
          "G4"
         ],
         "xaxis": "x20",
         "y": [
          293
         ],
         "yaxis": "y20"
        },
        {
         "marker": {
          "color": "#0064d1"
         },
         "name": "Z-DNA",
         "showlegend": false,
         "textposition": "outside",
         "texttemplate": "%{y:,d}",
         "type": "bar",
         "width": 1,
         "x": [
          "Z-DNA"
         ],
         "xaxis": "x20",
         "y": [
          221
         ],
         "yaxis": "y20"
        },
        {
         "marker": {
          "color": "#f5af01"
         },
         "name": "SIDD",
         "showlegend": false,
         "textposition": "outside",
         "texttemplate": "%{y:,d}",
         "type": "bar",
         "width": 1,
         "x": [
          "SIDD"
         ],
         "xaxis": "x20",
         "y": [
          446
         ],
         "yaxis": "y20"
        },
        {
         "marker": {
          "color": "#86b818"
         },
         "name": "H-DNA",
         "showlegend": false,
         "textposition": "outside",
         "texttemplate": "%{y:,d}",
         "type": "bar",
         "width": 1,
         "x": [
          "H-DNA"
         ],
         "xaxis": "x20",
         "y": [
          295
         ],
         "yaxis": "y20"
        },
        {
         "marker": {
          "color": "#e53237"
         },
         "name": "G4",
         "showlegend": false,
         "textposition": "outside",
         "texttemplate": "%{y:,d}",
         "type": "bar",
         "width": 1,
         "x": [
          "G4"
         ],
         "xaxis": "x21",
         "y": [
          258
         ],
         "yaxis": "y21"
        },
        {
         "marker": {
          "color": "#0064d1"
         },
         "name": "Z-DNA",
         "showlegend": false,
         "textposition": "outside",
         "texttemplate": "%{y:,d}",
         "type": "bar",
         "width": 1,
         "x": [
          "Z-DNA"
         ],
         "xaxis": "x21",
         "y": [
          296
         ],
         "yaxis": "y21"
        },
        {
         "marker": {
          "color": "#f5af01"
         },
         "name": "SIDD",
         "showlegend": false,
         "textposition": "outside",
         "texttemplate": "%{y:,d}",
         "type": "bar",
         "width": 1,
         "x": [
          "SIDD"
         ],
         "xaxis": "x21",
         "y": [
          385
         ],
         "yaxis": "y21"
        },
        {
         "marker": {
          "color": "#86b818"
         },
         "name": "H-DNA",
         "showlegend": false,
         "textposition": "outside",
         "texttemplate": "%{y:,d}",
         "type": "bar",
         "width": 1,
         "x": [
          "H-DNA"
         ],
         "xaxis": "x21",
         "y": [
          328
         ],
         "yaxis": "y21"
        },
        {
         "marker": {
          "color": "#0064d1"
         },
         "name": "Z-DNA",
         "showlegend": false,
         "textposition": "outside",
         "texttemplate": "%{y:,d}",
         "type": "bar",
         "width": 1,
         "x": [
          "Z-DNA"
         ],
         "xaxis": "x22",
         "y": [
          1
         ],
         "yaxis": "y22"
        },
        {
         "marker": {
          "color": "#e53237"
         },
         "name": "G4",
         "showlegend": false,
         "textposition": "outside",
         "texttemplate": "%{y:,d}",
         "type": "bar",
         "width": 1,
         "x": [
          "G4"
         ],
         "xaxis": "x23",
         "y": [
          21
         ],
         "yaxis": "y23"
        },
        {
         "marker": {
          "color": "#0064d1"
         },
         "name": "Z-DNA",
         "showlegend": false,
         "textposition": "outside",
         "texttemplate": "%{y:,d}",
         "type": "bar",
         "width": 1,
         "x": [
          "Z-DNA"
         ],
         "xaxis": "x23",
         "y": [
          30
         ],
         "yaxis": "y23"
        },
        {
         "marker": {
          "color": "#f5af01"
         },
         "name": "SIDD",
         "showlegend": false,
         "textposition": "outside",
         "texttemplate": "%{y:,d}",
         "type": "bar",
         "width": 1,
         "x": [
          "SIDD"
         ],
         "xaxis": "x23",
         "y": [
          47
         ],
         "yaxis": "y23"
        },
        {
         "marker": {
          "color": "#86b818"
         },
         "name": "H-DNA",
         "showlegend": false,
         "textposition": "outside",
         "texttemplate": "%{y:,d}",
         "type": "bar",
         "width": 1,
         "x": [
          "H-DNA"
         ],
         "xaxis": "x23",
         "y": [
          16
         ],
         "yaxis": "y23"
        },
        {
         "marker": {
          "color": "#e53237"
         },
         "name": "G4",
         "showlegend": false,
         "textposition": "outside",
         "texttemplate": "%{y:,d}",
         "type": "bar",
         "width": 1,
         "x": [
          "G4"
         ],
         "xaxis": "x24",
         "y": [
          2413
         ],
         "yaxis": "y24"
        },
        {
         "marker": {
          "color": "#0064d1"
         },
         "name": "Z-DNA",
         "showlegend": false,
         "textposition": "outside",
         "texttemplate": "%{y:,d}",
         "type": "bar",
         "width": 1,
         "x": [
          "Z-DNA"
         ],
         "xaxis": "x24",
         "y": [
          1805
         ],
         "yaxis": "y24"
        },
        {
         "marker": {
          "color": "#f5af01"
         },
         "name": "SIDD",
         "showlegend": false,
         "textposition": "outside",
         "texttemplate": "%{y:,d}",
         "type": "bar",
         "width": 1,
         "x": [
          "SIDD"
         ],
         "xaxis": "x24",
         "y": [
          3429
         ],
         "yaxis": "y24"
        },
        {
         "marker": {
          "color": "#86b818"
         },
         "name": "H-DNA",
         "showlegend": false,
         "textposition": "outside",
         "texttemplate": "%{y:,d}",
         "type": "bar",
         "width": 1,
         "x": [
          "H-DNA"
         ],
         "xaxis": "x24",
         "y": [
          2645
         ],
         "yaxis": "y24"
        },
        {
         "marker": {
          "color": "#e53237"
         },
         "name": "G4",
         "showlegend": false,
         "textposition": "outside",
         "texttemplate": "%{y:,d}",
         "type": "bar",
         "width": 1,
         "x": [
          "G4"
         ],
         "xaxis": "x25",
         "y": [
          18
         ],
         "yaxis": "y25"
        },
        {
         "marker": {
          "color": "#0064d1"
         },
         "name": "Z-DNA",
         "showlegend": false,
         "textposition": "outside",
         "texttemplate": "%{y:,d}",
         "type": "bar",
         "width": 1,
         "x": [
          "Z-DNA"
         ],
         "xaxis": "x25",
         "y": [
          26
         ],
         "yaxis": "y25"
        },
        {
         "marker": {
          "color": "#f5af01"
         },
         "name": "SIDD",
         "showlegend": false,
         "textposition": "outside",
         "texttemplate": "%{y:,d}",
         "type": "bar",
         "width": 1,
         "x": [
          "SIDD"
         ],
         "xaxis": "x25",
         "y": [
          48
         ],
         "yaxis": "y25"
        },
        {
         "marker": {
          "color": "#86b818"
         },
         "name": "H-DNA",
         "showlegend": false,
         "textposition": "outside",
         "texttemplate": "%{y:,d}",
         "type": "bar",
         "width": 1,
         "x": [
          "H-DNA"
         ],
         "xaxis": "x25",
         "y": [
          19
         ],
         "yaxis": "y25"
        },
        {
         "marker": {
          "color": "#e53237"
         },
         "name": "G4",
         "showlegend": false,
         "textposition": "outside",
         "texttemplate": "%{y:,d}",
         "type": "bar",
         "width": 1,
         "x": [
          "G4"
         ],
         "xaxis": "x26",
         "y": [
          5
         ],
         "yaxis": "y26"
        },
        {
         "marker": {
          "color": "#0064d1"
         },
         "name": "Z-DNA",
         "showlegend": false,
         "textposition": "outside",
         "texttemplate": "%{y:,d}",
         "type": "bar",
         "width": 1,
         "x": [
          "Z-DNA"
         ],
         "xaxis": "x26",
         "y": [
          5
         ],
         "yaxis": "y26"
        },
        {
         "marker": {
          "color": "#f5af01"
         },
         "name": "SIDD",
         "showlegend": false,
         "textposition": "outside",
         "texttemplate": "%{y:,d}",
         "type": "bar",
         "width": 1,
         "x": [
          "SIDD"
         ],
         "xaxis": "x26",
         "y": [
          10
         ],
         "yaxis": "y26"
        },
        {
         "marker": {
          "color": "#86b818"
         },
         "name": "H-DNA",
         "showlegend": false,
         "textposition": "outside",
         "texttemplate": "%{y:,d}",
         "type": "bar",
         "width": 1,
         "x": [
          "H-DNA"
         ],
         "xaxis": "x26",
         "y": [
          5
         ],
         "yaxis": "y26"
        },
        {
         "marker": {
          "color": "#e53237"
         },
         "name": "G4",
         "showlegend": false,
         "textposition": "outside",
         "texttemplate": "%{y:,d}",
         "type": "bar",
         "width": 1,
         "x": [
          "G4"
         ],
         "xaxis": "x27",
         "y": [
          5133
         ],
         "yaxis": "y27"
        },
        {
         "marker": {
          "color": "#0064d1"
         },
         "name": "Z-DNA",
         "showlegend": false,
         "textposition": "outside",
         "texttemplate": "%{y:,d}",
         "type": "bar",
         "width": 1,
         "x": [
          "Z-DNA"
         ],
         "xaxis": "x27",
         "y": [
          4486
         ],
         "yaxis": "y27"
        },
        {
         "marker": {
          "color": "#f5af01"
         },
         "name": "SIDD",
         "showlegend": false,
         "textposition": "inside",
         "texttemplate": "%{y:,d}",
         "type": "bar",
         "width": 1,
         "x": [
          "SIDD"
         ],
         "xaxis": "x27",
         "y": [
          8397
         ],
         "yaxis": "y27"
        },
        {
         "marker": {
          "color": "#86b818"
         },
         "name": "H-DNA",
         "showlegend": false,
         "textposition": "outside",
         "texttemplate": "%{y:,d}",
         "type": "bar",
         "width": 1,
         "x": [
          "H-DNA"
         ],
         "xaxis": "x27",
         "y": [
          6037
         ],
         "yaxis": "y27"
        }
       ],
       "layout": {
        "annotations": [
         {
          "align": "left",
          "font": {
           "size": 16
          },
          "showarrow": false,
          "text": "Promoter (<=1kb)",
          "textangle": 0,
          "x": 0.05266666666666667,
          "xanchor": "center",
          "xref": "paper",
          "y": 1,
          "yanchor": "bottom",
          "yref": "paper"
         },
         {
          "align": "left",
          "font": {
           "size": 16
          },
          "showarrow": false,
          "text": "Promoter (1-2kb)",
          "textangle": 0,
          "x": 0.162,
          "xanchor": "center",
          "xref": "paper",
          "y": 1,
          "yanchor": "bottom",
          "yref": "paper"
         },
         {
          "align": "left",
          "font": {
           "size": 16
          },
          "showarrow": false,
          "text": "Promoter (2-3kb)",
          "textangle": 0,
          "x": 0.2713333333333333,
          "xanchor": "center",
          "xref": "paper",
          "y": 1,
          "yanchor": "bottom",
          "yref": "paper"
         },
         {
          "align": "left",
          "font": {
           "size": 16
          },
          "showarrow": false,
          "text": "5' UTR",
          "textangle": 0,
          "x": 0.3806666666666667,
          "xanchor": "center",
          "xref": "paper",
          "y": 1,
          "yanchor": "bottom",
          "yref": "paper"
         },
         {
          "align": "left",
          "font": {
           "size": 16
          },
          "showarrow": false,
          "text": "Exon",
          "textangle": 0,
          "x": 0.49,
          "xanchor": "center",
          "xref": "paper",
          "y": 1,
          "yanchor": "bottom",
          "yref": "paper"
         },
         {
          "align": "left",
          "font": {
           "size": 16
          },
          "showarrow": false,
          "text": "Intron",
          "textangle": 0,
          "x": 0.5993333333333333,
          "xanchor": "center",
          "xref": "paper",
          "y": 1,
          "yanchor": "bottom",
          "yref": "paper"
         },
         {
          "align": "left",
          "font": {
           "size": 16
          },
          "showarrow": false,
          "text": "3' UTR",
          "textangle": 0,
          "x": 0.7086666666666666,
          "xanchor": "center",
          "xref": "paper",
          "y": 1,
          "yanchor": "bottom",
          "yref": "paper"
         },
         {
          "align": "left",
          "font": {
           "size": 16
          },
          "showarrow": false,
          "text": "Downstream (<=300bp)",
          "textangle": 0,
          "x": 0.8179999999999998,
          "xanchor": "center",
          "xref": "paper",
          "y": 1,
          "yanchor": "bottom",
          "yref": "paper"
         },
         {
          "align": "left",
          "font": {
           "size": 16
          },
          "showarrow": false,
          "text": "Distal Intergenic",
          "textangle": 0,
          "x": 0.9273333333333331,
          "xanchor": "center",
          "xref": "paper",
          "y": 1,
          "yanchor": "bottom",
          "yref": "paper"
         },
         {
          "align": "left",
          "font": {
           "size": 16
          },
          "showarrow": false,
          "text": "cCRE",
          "textangle": 0,
          "x": 0.9799999999999998,
          "xanchor": "left",
          "xref": "paper",
          "y": 0.8366666666666667,
          "yanchor": "middle",
          "yref": "paper"
         },
         {
          "align": "left",
          "font": {
           "size": 16
          },
          "showarrow": false,
          "text": "cCRE & CTCF",
          "textangle": 0,
          "x": 0.9799999999999998,
          "xanchor": "left",
          "xref": "paper",
          "y": 0.5,
          "yanchor": "middle",
          "yref": "paper"
         },
         {
          "align": "left",
          "font": {
           "size": 16
          },
          "showarrow": false,
          "text": "LINE/LTR",
          "textangle": 0,
          "x": 0.9799999999999998,
          "xanchor": "left",
          "xref": "paper",
          "y": 0.16333333333333333,
          "yanchor": "middle",
          "yref": "paper"
         }
        ],
        "font": {
         "family": "monospace",
         "size": 12
        },
        "height": 400,
        "legend": {
         "font": {
          "size": 18
         },
         "orientation": "h",
         "x": 0.98,
         "xanchor": "right",
         "y": 1.07,
         "yanchor": "bottom"
        },
        "margin": {
         "b": 5,
         "l": 5,
         "r": 80,
         "t": 55
        },
        "template": {
         "data": {
          "bar": [
           {
            "error_x": {
             "color": "#2a3f5f"
            },
            "error_y": {
             "color": "#2a3f5f"
            },
            "marker": {
             "line": {
              "color": "#E5ECF6",
              "width": 0.5
             },
             "pattern": {
              "fillmode": "overlay",
              "size": 10,
              "solidity": 0.2
             }
            },
            "type": "bar"
           }
          ],
          "barpolar": [
           {
            "marker": {
             "line": {
              "color": "#E5ECF6",
              "width": 0.5
             },
             "pattern": {
              "fillmode": "overlay",
              "size": 10,
              "solidity": 0.2
             }
            },
            "type": "barpolar"
           }
          ],
          "carpet": [
           {
            "aaxis": {
             "endlinecolor": "#2a3f5f",
             "gridcolor": "white",
             "linecolor": "white",
             "minorgridcolor": "white",
             "startlinecolor": "#2a3f5f"
            },
            "baxis": {
             "endlinecolor": "#2a3f5f",
             "gridcolor": "white",
             "linecolor": "white",
             "minorgridcolor": "white",
             "startlinecolor": "#2a3f5f"
            },
            "type": "carpet"
           }
          ],
          "choropleth": [
           {
            "colorbar": {
             "outlinewidth": 0,
             "ticks": ""
            },
            "type": "choropleth"
           }
          ],
          "contour": [
           {
            "colorbar": {
             "outlinewidth": 0,
             "ticks": ""
            },
            "colorscale": [
             [
              0,
              "#0d0887"
             ],
             [
              0.1111111111111111,
              "#46039f"
             ],
             [
              0.2222222222222222,
              "#7201a8"
             ],
             [
              0.3333333333333333,
              "#9c179e"
             ],
             [
              0.4444444444444444,
              "#bd3786"
             ],
             [
              0.5555555555555556,
              "#d8576b"
             ],
             [
              0.6666666666666666,
              "#ed7953"
             ],
             [
              0.7777777777777778,
              "#fb9f3a"
             ],
             [
              0.8888888888888888,
              "#fdca26"
             ],
             [
              1,
              "#f0f921"
             ]
            ],
            "type": "contour"
           }
          ],
          "contourcarpet": [
           {
            "colorbar": {
             "outlinewidth": 0,
             "ticks": ""
            },
            "type": "contourcarpet"
           }
          ],
          "heatmap": [
           {
            "colorbar": {
             "outlinewidth": 0,
             "ticks": ""
            },
            "colorscale": [
             [
              0,
              "#0d0887"
             ],
             [
              0.1111111111111111,
              "#46039f"
             ],
             [
              0.2222222222222222,
              "#7201a8"
             ],
             [
              0.3333333333333333,
              "#9c179e"
             ],
             [
              0.4444444444444444,
              "#bd3786"
             ],
             [
              0.5555555555555556,
              "#d8576b"
             ],
             [
              0.6666666666666666,
              "#ed7953"
             ],
             [
              0.7777777777777778,
              "#fb9f3a"
             ],
             [
              0.8888888888888888,
              "#fdca26"
             ],
             [
              1,
              "#f0f921"
             ]
            ],
            "type": "heatmap"
           }
          ],
          "heatmapgl": [
           {
            "colorbar": {
             "outlinewidth": 0,
             "ticks": ""
            },
            "colorscale": [
             [
              0,
              "#0d0887"
             ],
             [
              0.1111111111111111,
              "#46039f"
             ],
             [
              0.2222222222222222,
              "#7201a8"
             ],
             [
              0.3333333333333333,
              "#9c179e"
             ],
             [
              0.4444444444444444,
              "#bd3786"
             ],
             [
              0.5555555555555556,
              "#d8576b"
             ],
             [
              0.6666666666666666,
              "#ed7953"
             ],
             [
              0.7777777777777778,
              "#fb9f3a"
             ],
             [
              0.8888888888888888,
              "#fdca26"
             ],
             [
              1,
              "#f0f921"
             ]
            ],
            "type": "heatmapgl"
           }
          ],
          "histogram": [
           {
            "marker": {
             "pattern": {
              "fillmode": "overlay",
              "size": 10,
              "solidity": 0.2
             }
            },
            "type": "histogram"
           }
          ],
          "histogram2d": [
           {
            "colorbar": {
             "outlinewidth": 0,
             "ticks": ""
            },
            "colorscale": [
             [
              0,
              "#0d0887"
             ],
             [
              0.1111111111111111,
              "#46039f"
             ],
             [
              0.2222222222222222,
              "#7201a8"
             ],
             [
              0.3333333333333333,
              "#9c179e"
             ],
             [
              0.4444444444444444,
              "#bd3786"
             ],
             [
              0.5555555555555556,
              "#d8576b"
             ],
             [
              0.6666666666666666,
              "#ed7953"
             ],
             [
              0.7777777777777778,
              "#fb9f3a"
             ],
             [
              0.8888888888888888,
              "#fdca26"
             ],
             [
              1,
              "#f0f921"
             ]
            ],
            "type": "histogram2d"
           }
          ],
          "histogram2dcontour": [
           {
            "colorbar": {
             "outlinewidth": 0,
             "ticks": ""
            },
            "colorscale": [
             [
              0,
              "#0d0887"
             ],
             [
              0.1111111111111111,
              "#46039f"
             ],
             [
              0.2222222222222222,
              "#7201a8"
             ],
             [
              0.3333333333333333,
              "#9c179e"
             ],
             [
              0.4444444444444444,
              "#bd3786"
             ],
             [
              0.5555555555555556,
              "#d8576b"
             ],
             [
              0.6666666666666666,
              "#ed7953"
             ],
             [
              0.7777777777777778,
              "#fb9f3a"
             ],
             [
              0.8888888888888888,
              "#fdca26"
             ],
             [
              1,
              "#f0f921"
             ]
            ],
            "type": "histogram2dcontour"
           }
          ],
          "mesh3d": [
           {
            "colorbar": {
             "outlinewidth": 0,
             "ticks": ""
            },
            "type": "mesh3d"
           }
          ],
          "parcoords": [
           {
            "line": {
             "colorbar": {
              "outlinewidth": 0,
              "ticks": ""
             }
            },
            "type": "parcoords"
           }
          ],
          "pie": [
           {
            "automargin": true,
            "type": "pie"
           }
          ],
          "scatter": [
           {
            "fillpattern": {
             "fillmode": "overlay",
             "size": 10,
             "solidity": 0.2
            },
            "type": "scatter"
           }
          ],
          "scatter3d": [
           {
            "line": {
             "colorbar": {
              "outlinewidth": 0,
              "ticks": ""
             }
            },
            "marker": {
             "colorbar": {
              "outlinewidth": 0,
              "ticks": ""
             }
            },
            "type": "scatter3d"
           }
          ],
          "scattercarpet": [
           {
            "marker": {
             "colorbar": {
              "outlinewidth": 0,
              "ticks": ""
             }
            },
            "type": "scattercarpet"
           }
          ],
          "scattergeo": [
           {
            "marker": {
             "colorbar": {
              "outlinewidth": 0,
              "ticks": ""
             }
            },
            "type": "scattergeo"
           }
          ],
          "scattergl": [
           {
            "marker": {
             "colorbar": {
              "outlinewidth": 0,
              "ticks": ""
             }
            },
            "type": "scattergl"
           }
          ],
          "scattermapbox": [
           {
            "marker": {
             "colorbar": {
              "outlinewidth": 0,
              "ticks": ""
             }
            },
            "type": "scattermapbox"
           }
          ],
          "scatterpolar": [
           {
            "marker": {
             "colorbar": {
              "outlinewidth": 0,
              "ticks": ""
             }
            },
            "type": "scatterpolar"
           }
          ],
          "scatterpolargl": [
           {
            "marker": {
             "colorbar": {
              "outlinewidth": 0,
              "ticks": ""
             }
            },
            "type": "scatterpolargl"
           }
          ],
          "scatterternary": [
           {
            "marker": {
             "colorbar": {
              "outlinewidth": 0,
              "ticks": ""
             }
            },
            "type": "scatterternary"
           }
          ],
          "surface": [
           {
            "colorbar": {
             "outlinewidth": 0,
             "ticks": ""
            },
            "colorscale": [
             [
              0,
              "#0d0887"
             ],
             [
              0.1111111111111111,
              "#46039f"
             ],
             [
              0.2222222222222222,
              "#7201a8"
             ],
             [
              0.3333333333333333,
              "#9c179e"
             ],
             [
              0.4444444444444444,
              "#bd3786"
             ],
             [
              0.5555555555555556,
              "#d8576b"
             ],
             [
              0.6666666666666666,
              "#ed7953"
             ],
             [
              0.7777777777777778,
              "#fb9f3a"
             ],
             [
              0.8888888888888888,
              "#fdca26"
             ],
             [
              1,
              "#f0f921"
             ]
            ],
            "type": "surface"
           }
          ],
          "table": [
           {
            "cells": {
             "fill": {
              "color": "#EBF0F8"
             },
             "line": {
              "color": "white"
             }
            },
            "header": {
             "fill": {
              "color": "#C8D4E3"
             },
             "line": {
              "color": "white"
             }
            },
            "type": "table"
           }
          ]
         },
         "layout": {
          "annotationdefaults": {
           "arrowcolor": "#2a3f5f",
           "arrowhead": 0,
           "arrowwidth": 1
          },
          "autotypenumbers": "strict",
          "coloraxis": {
           "colorbar": {
            "outlinewidth": 0,
            "ticks": ""
           }
          },
          "colorscale": {
           "diverging": [
            [
             0,
             "#8e0152"
            ],
            [
             0.1,
             "#c51b7d"
            ],
            [
             0.2,
             "#de77ae"
            ],
            [
             0.3,
             "#f1b6da"
            ],
            [
             0.4,
             "#fde0ef"
            ],
            [
             0.5,
             "#f7f7f7"
            ],
            [
             0.6,
             "#e6f5d0"
            ],
            [
             0.7,
             "#b8e186"
            ],
            [
             0.8,
             "#7fbc41"
            ],
            [
             0.9,
             "#4d9221"
            ],
            [
             1,
             "#276419"
            ]
           ],
           "sequential": [
            [
             0,
             "#0d0887"
            ],
            [
             0.1111111111111111,
             "#46039f"
            ],
            [
             0.2222222222222222,
             "#7201a8"
            ],
            [
             0.3333333333333333,
             "#9c179e"
            ],
            [
             0.4444444444444444,
             "#bd3786"
            ],
            [
             0.5555555555555556,
             "#d8576b"
            ],
            [
             0.6666666666666666,
             "#ed7953"
            ],
            [
             0.7777777777777778,
             "#fb9f3a"
            ],
            [
             0.8888888888888888,
             "#fdca26"
            ],
            [
             1,
             "#f0f921"
            ]
           ],
           "sequentialminus": [
            [
             0,
             "#0d0887"
            ],
            [
             0.1111111111111111,
             "#46039f"
            ],
            [
             0.2222222222222222,
             "#7201a8"
            ],
            [
             0.3333333333333333,
             "#9c179e"
            ],
            [
             0.4444444444444444,
             "#bd3786"
            ],
            [
             0.5555555555555556,
             "#d8576b"
            ],
            [
             0.6666666666666666,
             "#ed7953"
            ],
            [
             0.7777777777777778,
             "#fb9f3a"
            ],
            [
             0.8888888888888888,
             "#fdca26"
            ],
            [
             1,
             "#f0f921"
            ]
           ]
          },
          "colorway": [
           "#636efa",
           "#EF553B",
           "#00cc96",
           "#ab63fa",
           "#FFA15A",
           "#19d3f3",
           "#FF6692",
           "#B6E880",
           "#FF97FF",
           "#FECB52"
          ],
          "font": {
           "color": "#2a3f5f"
          },
          "geo": {
           "bgcolor": "white",
           "lakecolor": "white",
           "landcolor": "#E5ECF6",
           "showlakes": true,
           "showland": true,
           "subunitcolor": "white"
          },
          "hoverlabel": {
           "align": "left"
          },
          "hovermode": "closest",
          "mapbox": {
           "style": "light"
          },
          "paper_bgcolor": "white",
          "plot_bgcolor": "#E5ECF6",
          "polar": {
           "angularaxis": {
            "gridcolor": "white",
            "linecolor": "white",
            "ticks": ""
           },
           "bgcolor": "#E5ECF6",
           "radialaxis": {
            "gridcolor": "white",
            "linecolor": "white",
            "ticks": ""
           }
          },
          "scene": {
           "xaxis": {
            "backgroundcolor": "#E5ECF6",
            "gridcolor": "white",
            "gridwidth": 2,
            "linecolor": "white",
            "showbackground": true,
            "ticks": "",
            "zerolinecolor": "white"
           },
           "yaxis": {
            "backgroundcolor": "#E5ECF6",
            "gridcolor": "white",
            "gridwidth": 2,
            "linecolor": "white",
            "showbackground": true,
            "ticks": "",
            "zerolinecolor": "white"
           },
           "zaxis": {
            "backgroundcolor": "#E5ECF6",
            "gridcolor": "white",
            "gridwidth": 2,
            "linecolor": "white",
            "showbackground": true,
            "ticks": "",
            "zerolinecolor": "white"
           }
          },
          "shapedefaults": {
           "line": {
            "color": "#2a3f5f"
           }
          },
          "ternary": {
           "aaxis": {
            "gridcolor": "white",
            "linecolor": "white",
            "ticks": ""
           },
           "baxis": {
            "gridcolor": "white",
            "linecolor": "white",
            "ticks": ""
           },
           "bgcolor": "#E5ECF6",
           "caxis": {
            "gridcolor": "white",
            "linecolor": "white",
            "ticks": ""
           }
          },
          "title": {
           "x": 0.05
          },
          "xaxis": {
           "automargin": true,
           "gridcolor": "white",
           "linecolor": "white",
           "ticks": "",
           "title": {
            "standoff": 15
           },
           "zerolinecolor": "white",
           "zerolinewidth": 2
          },
          "yaxis": {
           "automargin": true,
           "gridcolor": "white",
           "linecolor": "white",
           "ticks": "",
           "title": {
            "standoff": 15
           },
           "zerolinecolor": "white",
           "zerolinewidth": 2
          }
         }
        },
        "title": {
         "text": "<span style='font-size: 16px;'>Flipons (62,834)</span>",
         "x": 0.005,
         "y": 0.97
        },
        "uniformtext": {
         "minsize": 12
        },
        "width": 1800,
        "xaxis": {
         "anchor": "y",
         "domain": [
          0,
          0.10533333333333333
         ],
         "matches": "x19",
         "showticklabels": false,
         "type": "category",
         "visible": false
        },
        "xaxis10": {
         "anchor": "y10",
         "domain": [
          0,
          0.10533333333333333
         ],
         "matches": "x19",
         "showticklabels": false,
         "type": "category",
         "visible": false
        },
        "xaxis11": {
         "anchor": "y11",
         "domain": [
          0.10933333333333334,
          0.21466666666666667
         ],
         "matches": "x19",
         "showticklabels": false,
         "type": "category",
         "visible": false
        },
        "xaxis12": {
         "anchor": "y12",
         "domain": [
          0.21866666666666668,
          0.324
         ],
         "matches": "x19",
         "showticklabels": false,
         "type": "category",
         "visible": false
        },
        "xaxis13": {
         "anchor": "y13",
         "domain": [
          0.328,
          0.43333333333333335
         ],
         "matches": "x19",
         "showticklabels": false,
         "type": "category",
         "visible": false
        },
        "xaxis14": {
         "anchor": "y14",
         "domain": [
          0.43733333333333335,
          0.5426666666666666
         ],
         "matches": "x19",
         "showticklabels": false,
         "type": "category",
         "visible": false
        },
        "xaxis15": {
         "anchor": "y15",
         "domain": [
          0.5466666666666666,
          0.6519999999999999
         ],
         "matches": "x19",
         "showticklabels": false,
         "type": "category",
         "visible": false
        },
        "xaxis16": {
         "anchor": "y16",
         "domain": [
          0.6559999999999999,
          0.7613333333333332
         ],
         "matches": "x19",
         "showticklabels": false,
         "type": "category",
         "visible": false
        },
        "xaxis17": {
         "anchor": "y17",
         "domain": [
          0.7653333333333332,
          0.8706666666666665
         ],
         "matches": "x19",
         "showticklabels": false,
         "type": "category",
         "visible": false
        },
        "xaxis18": {
         "anchor": "y18",
         "domain": [
          0.8746666666666665,
          0.9799999999999998
         ],
         "matches": "x19",
         "showticklabels": false,
         "type": "category",
         "visible": false
        },
        "xaxis19": {
         "anchor": "y19",
         "domain": [
          0,
          0.10533333333333333
         ],
         "type": "category",
         "visible": false
        },
        "xaxis2": {
         "anchor": "y2",
         "domain": [
          0.10933333333333334,
          0.21466666666666667
         ],
         "matches": "x19",
         "showticklabels": false,
         "type": "category",
         "visible": false
        },
        "xaxis20": {
         "anchor": "y20",
         "domain": [
          0.10933333333333334,
          0.21466666666666667
         ],
         "matches": "x19",
         "type": "category",
         "visible": false
        },
        "xaxis21": {
         "anchor": "y21",
         "domain": [
          0.21866666666666668,
          0.324
         ],
         "matches": "x19",
         "type": "category",
         "visible": false
        },
        "xaxis22": {
         "anchor": "y22",
         "domain": [
          0.328,
          0.43333333333333335
         ],
         "matches": "x19",
         "type": "category",
         "visible": false
        },
        "xaxis23": {
         "anchor": "y23",
         "domain": [
          0.43733333333333335,
          0.5426666666666666
         ],
         "matches": "x19",
         "type": "category",
         "visible": false
        },
        "xaxis24": {
         "anchor": "y24",
         "domain": [
          0.5466666666666666,
          0.6519999999999999
         ],
         "matches": "x19",
         "type": "category",
         "visible": false
        },
        "xaxis25": {
         "anchor": "y25",
         "domain": [
          0.6559999999999999,
          0.7613333333333332
         ],
         "matches": "x19",
         "type": "category",
         "visible": false
        },
        "xaxis26": {
         "anchor": "y26",
         "domain": [
          0.7653333333333332,
          0.8706666666666665
         ],
         "matches": "x19",
         "type": "category",
         "visible": false
        },
        "xaxis27": {
         "anchor": "y27",
         "domain": [
          0.8746666666666665,
          0.9799999999999998
         ],
         "matches": "x19",
         "type": "category",
         "visible": false
        },
        "xaxis3": {
         "anchor": "y3",
         "domain": [
          0.21866666666666668,
          0.324
         ],
         "matches": "x19",
         "showticklabels": false,
         "type": "category",
         "visible": false
        },
        "xaxis4": {
         "anchor": "y4",
         "domain": [
          0.328,
          0.43333333333333335
         ],
         "matches": "x19",
         "showticklabels": false,
         "type": "category",
         "visible": false
        },
        "xaxis5": {
         "anchor": "y5",
         "domain": [
          0.43733333333333335,
          0.5426666666666666
         ],
         "matches": "x19",
         "showticklabels": false,
         "type": "category",
         "visible": false
        },
        "xaxis6": {
         "anchor": "y6",
         "domain": [
          0.5466666666666666,
          0.6519999999999999
         ],
         "matches": "x19",
         "showticklabels": false,
         "type": "category",
         "visible": false
        },
        "xaxis7": {
         "anchor": "y7",
         "domain": [
          0.6559999999999999,
          0.7613333333333332
         ],
         "matches": "x19",
         "showticklabels": false,
         "type": "category",
         "visible": false
        },
        "xaxis8": {
         "anchor": "y8",
         "domain": [
          0.7653333333333332,
          0.8706666666666665
         ],
         "matches": "x19",
         "showticklabels": false,
         "type": "category",
         "visible": false
        },
        "xaxis9": {
         "anchor": "y9",
         "domain": [
          0.8746666666666665,
          0.9799999999999998
         ],
         "matches": "x19",
         "showticklabels": false,
         "type": "category",
         "visible": false
        },
        "yaxis": {
         "anchor": "x",
         "domain": [
          0.6733333333333333,
          1
         ],
         "matches": "y19",
         "showgrid": false,
         "tickformat": "s",
         "tickmode": "array",
         "ticks": "outside",
         "tickvals": [
          2000,
          4000,
          6000,
          8000
         ]
        },
        "yaxis10": {
         "anchor": "x10",
         "domain": [
          0.33666666666666667,
          0.6633333333333333
         ],
         "matches": "y19",
         "showgrid": false,
         "tickformat": "s",
         "tickmode": "array",
         "ticks": "outside",
         "tickvals": [
          2000,
          4000,
          6000,
          8000
         ]
        },
        "yaxis11": {
         "anchor": "x11",
         "domain": [
          0.33666666666666667,
          0.6633333333333333
         ],
         "matches": "y19",
         "showgrid": false,
         "showticklabels": false,
         "tickformat": "s",
         "tickmode": "array",
         "ticks": "",
         "tickvals": [
          2000,
          4000,
          6000,
          8000
         ]
        },
        "yaxis12": {
         "anchor": "x12",
         "domain": [
          0.33666666666666667,
          0.6633333333333333
         ],
         "matches": "y19",
         "showgrid": false,
         "showticklabels": false,
         "tickformat": "s",
         "tickmode": "array",
         "ticks": "",
         "tickvals": [
          2000,
          4000,
          6000,
          8000
         ]
        },
        "yaxis13": {
         "anchor": "x13",
         "domain": [
          0.33666666666666667,
          0.6633333333333333
         ],
         "matches": "y19",
         "showgrid": false,
         "showticklabels": false,
         "tickformat": "s",
         "tickmode": "array",
         "ticks": "",
         "tickvals": [
          2000,
          4000,
          6000,
          8000
         ]
        },
        "yaxis14": {
         "anchor": "x14",
         "domain": [
          0.33666666666666667,
          0.6633333333333333
         ],
         "matches": "y19",
         "showgrid": false,
         "showticklabels": false,
         "tickformat": "s",
         "tickmode": "array",
         "ticks": "",
         "tickvals": [
          2000,
          4000,
          6000,
          8000
         ]
        },
        "yaxis15": {
         "anchor": "x15",
         "domain": [
          0.33666666666666667,
          0.6633333333333333
         ],
         "matches": "y19",
         "showgrid": false,
         "showticklabels": false,
         "tickformat": "s",
         "tickmode": "array",
         "ticks": "",
         "tickvals": [
          2000,
          4000,
          6000,
          8000
         ]
        },
        "yaxis16": {
         "anchor": "x16",
         "domain": [
          0.33666666666666667,
          0.6633333333333333
         ],
         "matches": "y19",
         "showgrid": false,
         "showticklabels": false,
         "tickformat": "s",
         "tickmode": "array",
         "ticks": "",
         "tickvals": [
          2000,
          4000,
          6000,
          8000
         ]
        },
        "yaxis17": {
         "anchor": "x17",
         "domain": [
          0.33666666666666667,
          0.6633333333333333
         ],
         "matches": "y19",
         "showgrid": false,
         "showticklabels": false,
         "tickformat": "s",
         "tickmode": "array",
         "ticks": "",
         "tickvals": [
          2000,
          4000,
          6000,
          8000
         ]
        },
        "yaxis18": {
         "anchor": "x18",
         "domain": [
          0.33666666666666667,
          0.6633333333333333
         ],
         "matches": "y19",
         "showgrid": false,
         "showticklabels": false,
         "tickformat": "s",
         "tickmode": "array",
         "ticks": "",
         "tickvals": [
          2000,
          4000,
          6000,
          8000
         ]
        },
        "yaxis19": {
         "anchor": "x19",
         "domain": [
          0,
          0.32666666666666666
         ],
         "showgrid": false,
         "tickformat": "s",
         "tickmode": "array",
         "ticks": "outside",
         "tickvals": [
          2000,
          4000,
          6000,
          8000
         ]
        },
        "yaxis2": {
         "anchor": "x2",
         "domain": [
          0.6733333333333333,
          1
         ],
         "matches": "y19",
         "showgrid": false,
         "showticklabels": false,
         "tickformat": "s",
         "tickmode": "array",
         "ticks": "",
         "tickvals": [
          2000,
          4000,
          6000,
          8000
         ]
        },
        "yaxis20": {
         "anchor": "x20",
         "domain": [
          0,
          0.32666666666666666
         ],
         "matches": "y19",
         "showgrid": false,
         "showticklabels": false,
         "tickformat": "s",
         "tickmode": "array",
         "ticks": "",
         "tickvals": [
          2000,
          4000,
          6000,
          8000
         ]
        },
        "yaxis21": {
         "anchor": "x21",
         "domain": [
          0,
          0.32666666666666666
         ],
         "matches": "y19",
         "showgrid": false,
         "showticklabels": false,
         "tickformat": "s",
         "tickmode": "array",
         "ticks": "",
         "tickvals": [
          2000,
          4000,
          6000,
          8000
         ]
        },
        "yaxis22": {
         "anchor": "x22",
         "domain": [
          0,
          0.32666666666666666
         ],
         "matches": "y19",
         "showgrid": false,
         "showticklabels": false,
         "tickformat": "s",
         "tickmode": "array",
         "ticks": "",
         "tickvals": [
          2000,
          4000,
          6000,
          8000
         ]
        },
        "yaxis23": {
         "anchor": "x23",
         "domain": [
          0,
          0.32666666666666666
         ],
         "matches": "y19",
         "showgrid": false,
         "showticklabels": false,
         "tickformat": "s",
         "tickmode": "array",
         "ticks": "",
         "tickvals": [
          2000,
          4000,
          6000,
          8000
         ]
        },
        "yaxis24": {
         "anchor": "x24",
         "domain": [
          0,
          0.32666666666666666
         ],
         "matches": "y19",
         "showgrid": false,
         "showticklabels": false,
         "tickformat": "s",
         "tickmode": "array",
         "ticks": "",
         "tickvals": [
          2000,
          4000,
          6000,
          8000
         ]
        },
        "yaxis25": {
         "anchor": "x25",
         "domain": [
          0,
          0.32666666666666666
         ],
         "matches": "y19",
         "showgrid": false,
         "showticklabels": false,
         "tickformat": "s",
         "tickmode": "array",
         "ticks": "",
         "tickvals": [
          2000,
          4000,
          6000,
          8000
         ]
        },
        "yaxis26": {
         "anchor": "x26",
         "domain": [
          0,
          0.32666666666666666
         ],
         "matches": "y19",
         "showgrid": false,
         "showticklabels": false,
         "tickformat": "s",
         "tickmode": "array",
         "ticks": "",
         "tickvals": [
          2000,
          4000,
          6000,
          8000
         ]
        },
        "yaxis27": {
         "anchor": "x27",
         "domain": [
          0,
          0.32666666666666666
         ],
         "matches": "y19",
         "showgrid": false,
         "showticklabels": false,
         "tickformat": "s",
         "tickmode": "array",
         "ticks": "",
         "tickvals": [
          2000,
          4000,
          6000,
          8000
         ]
        },
        "yaxis3": {
         "anchor": "x3",
         "domain": [
          0.6733333333333333,
          1
         ],
         "matches": "y19",
         "showgrid": false,
         "showticklabels": false,
         "tickformat": "s",
         "tickmode": "array",
         "ticks": "",
         "tickvals": [
          2000,
          4000,
          6000,
          8000
         ]
        },
        "yaxis4": {
         "anchor": "x4",
         "domain": [
          0.6733333333333333,
          1
         ],
         "matches": "y19",
         "showgrid": false,
         "showticklabels": false,
         "tickformat": "s",
         "tickmode": "array",
         "ticks": "",
         "tickvals": [
          2000,
          4000,
          6000,
          8000
         ]
        },
        "yaxis5": {
         "anchor": "x5",
         "domain": [
          0.6733333333333333,
          1
         ],
         "matches": "y19",
         "showgrid": false,
         "showticklabels": false,
         "tickformat": "s",
         "tickmode": "array",
         "ticks": "",
         "tickvals": [
          2000,
          4000,
          6000,
          8000
         ]
        },
        "yaxis6": {
         "anchor": "x6",
         "domain": [
          0.6733333333333333,
          1
         ],
         "matches": "y19",
         "showgrid": false,
         "showticklabels": false,
         "tickformat": "s",
         "tickmode": "array",
         "ticks": "",
         "tickvals": [
          2000,
          4000,
          6000,
          8000
         ]
        },
        "yaxis7": {
         "anchor": "x7",
         "domain": [
          0.6733333333333333,
          1
         ],
         "matches": "y19",
         "showgrid": false,
         "showticklabels": false,
         "tickformat": "s",
         "tickmode": "array",
         "ticks": "",
         "tickvals": [
          2000,
          4000,
          6000,
          8000
         ]
        },
        "yaxis8": {
         "anchor": "x8",
         "domain": [
          0.6733333333333333,
          1
         ],
         "matches": "y19",
         "showgrid": false,
         "showticklabels": false,
         "tickformat": "s",
         "tickmode": "array",
         "ticks": "",
         "tickvals": [
          2000,
          4000,
          6000,
          8000
         ]
        },
        "yaxis9": {
         "anchor": "x9",
         "domain": [
          0.6733333333333333,
          1
         ],
         "matches": "y19",
         "showgrid": false,
         "showticklabels": false,
         "tickformat": "s",
         "tickmode": "array",
         "ticks": "",
         "tickvals": [
          2000,
          4000,
          6000,
          8000
         ]
        }
       }
      },
      "text/html": [
       "<div>                            <div id=\"1df16b4d-85cd-4d53-b19f-8190ee220abe\" class=\"plotly-graph-div\" style=\"height:400px; width:1800px;\"></div>            <script type=\"text/javascript\">                require([\"plotly\"], function(Plotly) {                    window.PLOTLYENV=window.PLOTLYENV || {};                                    if (document.getElementById(\"1df16b4d-85cd-4d53-b19f-8190ee220abe\")) {                    Plotly.newPlot(                        \"1df16b4d-85cd-4d53-b19f-8190ee220abe\",                        [{\"marker\":{\"color\":\"#e53237\"},\"name\":\"G4\",\"showlegend\":true,\"textposition\":\"outside\",\"texttemplate\":\"%{y:,d}\",\"width\":1,\"x\":[\"G4\"],\"y\":[3414],\"type\":\"bar\",\"xaxis\":\"x\",\"yaxis\":\"y\"},{\"marker\":{\"color\":\"#0064d1\"},\"name\":\"Z-DNA\",\"showlegend\":true,\"textposition\":\"outside\",\"texttemplate\":\"%{y:,d}\",\"width\":1,\"x\":[\"Z-DNA\"],\"y\":[4271],\"type\":\"bar\",\"xaxis\":\"x\",\"yaxis\":\"y\"},{\"marker\":{\"color\":\"#f5af01\"},\"name\":\"SIDD\",\"showlegend\":true,\"textposition\":\"outside\",\"texttemplate\":\"%{y:,d}\",\"width\":1,\"x\":[\"SIDD\"],\"y\":[236],\"type\":\"bar\",\"xaxis\":\"x\",\"yaxis\":\"y\"},{\"marker\":{\"color\":\"#86b818\"},\"name\":\"H-DNA\",\"showlegend\":true,\"textposition\":\"outside\",\"texttemplate\":\"%{y:,d}\",\"width\":1,\"x\":[\"H-DNA\"],\"y\":[669],\"type\":\"bar\",\"xaxis\":\"x\",\"yaxis\":\"y\"},{\"marker\":{\"color\":\"#e53237\"},\"name\":\"G4\",\"showlegend\":false,\"textposition\":\"outside\",\"texttemplate\":\"%{y:,d}\",\"width\":1,\"x\":[\"G4\"],\"y\":[325],\"type\":\"bar\",\"xaxis\":\"x2\",\"yaxis\":\"y2\"},{\"marker\":{\"color\":\"#0064d1\"},\"name\":\"Z-DNA\",\"showlegend\":false,\"textposition\":\"outside\",\"texttemplate\":\"%{y:,d}\",\"width\":1,\"x\":[\"Z-DNA\"],\"y\":[409],\"type\":\"bar\",\"xaxis\":\"x2\",\"yaxis\":\"y2\"},{\"marker\":{\"color\":\"#f5af01\"},\"name\":\"SIDD\",\"showlegend\":false,\"textposition\":\"outside\",\"texttemplate\":\"%{y:,d}\",\"width\":1,\"x\":[\"SIDD\"],\"y\":[59],\"type\":\"bar\",\"xaxis\":\"x2\",\"yaxis\":\"y2\"},{\"marker\":{\"color\":\"#86b818\"},\"name\":\"H-DNA\",\"showlegend\":false,\"textposition\":\"outside\",\"texttemplate\":\"%{y:,d}\",\"width\":1,\"x\":[\"H-DNA\"],\"y\":[107],\"type\":\"bar\",\"xaxis\":\"x2\",\"yaxis\":\"y2\"},{\"marker\":{\"color\":\"#e53237\"},\"name\":\"G4\",\"showlegend\":false,\"textposition\":\"outside\",\"texttemplate\":\"%{y:,d}\",\"width\":1,\"x\":[\"G4\"],\"y\":[155],\"type\":\"bar\",\"xaxis\":\"x3\",\"yaxis\":\"y3\"},{\"marker\":{\"color\":\"#0064d1\"},\"name\":\"Z-DNA\",\"showlegend\":false,\"textposition\":\"outside\",\"texttemplate\":\"%{y:,d}\",\"width\":1,\"x\":[\"Z-DNA\"],\"y\":[193],\"type\":\"bar\",\"xaxis\":\"x3\",\"yaxis\":\"y3\"},{\"marker\":{\"color\":\"#f5af01\"},\"name\":\"SIDD\",\"showlegend\":false,\"textposition\":\"outside\",\"texttemplate\":\"%{y:,d}\",\"width\":1,\"x\":[\"SIDD\"],\"y\":[29],\"type\":\"bar\",\"xaxis\":\"x3\",\"yaxis\":\"y3\"},{\"marker\":{\"color\":\"#86b818\"},\"name\":\"H-DNA\",\"showlegend\":false,\"textposition\":\"outside\",\"texttemplate\":\"%{y:,d}\",\"width\":1,\"x\":[\"H-DNA\"],\"y\":[53],\"type\":\"bar\",\"xaxis\":\"x3\",\"yaxis\":\"y3\"},{\"marker\":{\"color\":\"#e53237\"},\"name\":\"G4\",\"showlegend\":false,\"textposition\":\"outside\",\"texttemplate\":\"%{y:,d}\",\"width\":1,\"x\":[\"G4\"],\"y\":[1.0],\"type\":\"bar\",\"xaxis\":\"x4\",\"yaxis\":\"y4\"},{\"marker\":{\"color\":\"#0064d1\"},\"name\":\"Z-DNA\",\"showlegend\":false,\"textposition\":\"outside\",\"texttemplate\":\"%{y:,d}\",\"width\":1,\"x\":[\"Z-DNA\"],\"y\":[2.0],\"type\":\"bar\",\"xaxis\":\"x4\",\"yaxis\":\"y4\"},{\"marker\":{\"color\":\"#f5af01\"},\"name\":\"SIDD\",\"showlegend\":false,\"textposition\":\"outside\",\"texttemplate\":\"%{y:,d}\",\"width\":1,\"x\":[\"SIDD\"],\"y\":[1.0],\"type\":\"bar\",\"xaxis\":\"x4\",\"yaxis\":\"y4\"},{\"marker\":{\"color\":\"#e53237\"},\"name\":\"G4\",\"showlegend\":false,\"textposition\":\"outside\",\"texttemplate\":\"%{y:,d}\",\"width\":1,\"x\":[\"G4\"],\"y\":[61],\"type\":\"bar\",\"xaxis\":\"x5\",\"yaxis\":\"y5\"},{\"marker\":{\"color\":\"#0064d1\"},\"name\":\"Z-DNA\",\"showlegend\":false,\"textposition\":\"outside\",\"texttemplate\":\"%{y:,d}\",\"width\":1,\"x\":[\"Z-DNA\"],\"y\":[221],\"type\":\"bar\",\"xaxis\":\"x5\",\"yaxis\":\"y5\"},{\"marker\":{\"color\":\"#f5af01\"},\"name\":\"SIDD\",\"showlegend\":false,\"textposition\":\"outside\",\"texttemplate\":\"%{y:,d}\",\"width\":1,\"x\":[\"SIDD\"],\"y\":[7],\"type\":\"bar\",\"xaxis\":\"x5\",\"yaxis\":\"y5\"},{\"marker\":{\"color\":\"#86b818\"},\"name\":\"H-DNA\",\"showlegend\":false,\"textposition\":\"outside\",\"texttemplate\":\"%{y:,d}\",\"width\":1,\"x\":[\"H-DNA\"],\"y\":[8],\"type\":\"bar\",\"xaxis\":\"x5\",\"yaxis\":\"y5\"},{\"marker\":{\"color\":\"#e53237\"},\"name\":\"G4\",\"showlegend\":false,\"textposition\":\"outside\",\"texttemplate\":\"%{y:,d}\",\"width\":1,\"x\":[\"G4\"],\"y\":[374],\"type\":\"bar\",\"xaxis\":\"x6\",\"yaxis\":\"y6\"},{\"marker\":{\"color\":\"#0064d1\"},\"name\":\"Z-DNA\",\"showlegend\":false,\"textposition\":\"outside\",\"texttemplate\":\"%{y:,d}\",\"width\":1,\"x\":[\"Z-DNA\"],\"y\":[327],\"type\":\"bar\",\"xaxis\":\"x6\",\"yaxis\":\"y6\"},{\"marker\":{\"color\":\"#f5af01\"},\"name\":\"SIDD\",\"showlegend\":false,\"textposition\":\"outside\",\"texttemplate\":\"%{y:,d}\",\"width\":1,\"x\":[\"SIDD\"],\"y\":[80],\"type\":\"bar\",\"xaxis\":\"x6\",\"yaxis\":\"y6\"},{\"marker\":{\"color\":\"#86b818\"},\"name\":\"H-DNA\",\"showlegend\":false,\"textposition\":\"outside\",\"texttemplate\":\"%{y:,d}\",\"width\":1,\"x\":[\"H-DNA\"],\"y\":[183],\"type\":\"bar\",\"xaxis\":\"x6\",\"yaxis\":\"y6\"},{\"marker\":{\"color\":\"#e53237\"},\"name\":\"G4\",\"showlegend\":false,\"textposition\":\"outside\",\"texttemplate\":\"%{y:,d}\",\"width\":1,\"x\":[\"G4\"],\"y\":[57],\"type\":\"bar\",\"xaxis\":\"x7\",\"yaxis\":\"y7\"},{\"marker\":{\"color\":\"#0064d1\"},\"name\":\"Z-DNA\",\"showlegend\":false,\"textposition\":\"outside\",\"texttemplate\":\"%{y:,d}\",\"width\":1,\"x\":[\"Z-DNA\"],\"y\":[44],\"type\":\"bar\",\"xaxis\":\"x7\",\"yaxis\":\"y7\"},{\"marker\":{\"color\":\"#f5af01\"},\"name\":\"SIDD\",\"showlegend\":false,\"textposition\":\"outside\",\"texttemplate\":\"%{y:,d}\",\"width\":1,\"x\":[\"SIDD\"],\"y\":[21],\"type\":\"bar\",\"xaxis\":\"x7\",\"yaxis\":\"y7\"},{\"marker\":{\"color\":\"#86b818\"},\"name\":\"H-DNA\",\"showlegend\":false,\"textposition\":\"outside\",\"texttemplate\":\"%{y:,d}\",\"width\":1,\"x\":[\"H-DNA\"],\"y\":[16],\"type\":\"bar\",\"xaxis\":\"x7\",\"yaxis\":\"y7\"},{\"marker\":{\"color\":\"#e53237\"},\"name\":\"G4\",\"showlegend\":false,\"textposition\":\"outside\",\"texttemplate\":\"%{y:,d}\",\"width\":1,\"x\":[\"G4\"],\"y\":[4.0],\"type\":\"bar\",\"xaxis\":\"x8\",\"yaxis\":\"y8\"},{\"marker\":{\"color\":\"#0064d1\"},\"name\":\"Z-DNA\",\"showlegend\":false,\"textposition\":\"outside\",\"texttemplate\":\"%{y:,d}\",\"width\":1,\"x\":[\"Z-DNA\"],\"y\":[4.0],\"type\":\"bar\",\"xaxis\":\"x8\",\"yaxis\":\"y8\"},{\"marker\":{\"color\":\"#e53237\"},\"name\":\"G4\",\"showlegend\":false,\"textposition\":\"outside\",\"texttemplate\":\"%{y:,d}\",\"width\":1,\"x\":[\"G4\"],\"y\":[329],\"type\":\"bar\",\"xaxis\":\"x9\",\"yaxis\":\"y9\"},{\"marker\":{\"color\":\"#0064d1\"},\"name\":\"Z-DNA\",\"showlegend\":false,\"textposition\":\"outside\",\"texttemplate\":\"%{y:,d}\",\"width\":1,\"x\":[\"Z-DNA\"],\"y\":[291],\"type\":\"bar\",\"xaxis\":\"x9\",\"yaxis\":\"y9\"},{\"marker\":{\"color\":\"#f5af01\"},\"name\":\"SIDD\",\"showlegend\":false,\"textposition\":\"outside\",\"texttemplate\":\"%{y:,d}\",\"width\":1,\"x\":[\"SIDD\"],\"y\":[64],\"type\":\"bar\",\"xaxis\":\"x9\",\"yaxis\":\"y9\"},{\"marker\":{\"color\":\"#86b818\"},\"name\":\"H-DNA\",\"showlegend\":false,\"textposition\":\"outside\",\"texttemplate\":\"%{y:,d}\",\"width\":1,\"x\":[\"H-DNA\"],\"y\":[189],\"type\":\"bar\",\"xaxis\":\"x9\",\"yaxis\":\"y9\"},{\"marker\":{\"color\":\"#e53237\"},\"name\":\"G4\",\"showlegend\":false,\"textposition\":\"outside\",\"texttemplate\":\"%{y:,d}\",\"width\":1,\"x\":[\"G4\"],\"y\":[2958],\"type\":\"bar\",\"xaxis\":\"x10\",\"yaxis\":\"y10\"},{\"marker\":{\"color\":\"#0064d1\"},\"name\":\"Z-DNA\",\"showlegend\":false,\"textposition\":\"outside\",\"texttemplate\":\"%{y:,d}\",\"width\":1,\"x\":[\"Z-DNA\"],\"y\":[4838],\"type\":\"bar\",\"xaxis\":\"x10\",\"yaxis\":\"y10\"},{\"marker\":{\"color\":\"#f5af01\"},\"name\":\"SIDD\",\"showlegend\":false,\"textposition\":\"outside\",\"texttemplate\":\"%{y:,d}\",\"width\":1,\"x\":[\"SIDD\"],\"y\":[182],\"type\":\"bar\",\"xaxis\":\"x10\",\"yaxis\":\"y10\"},{\"marker\":{\"color\":\"#86b818\"},\"name\":\"H-DNA\",\"showlegend\":false,\"textposition\":\"outside\",\"texttemplate\":\"%{y:,d}\",\"width\":1,\"x\":[\"H-DNA\"],\"y\":[569],\"type\":\"bar\",\"xaxis\":\"x10\",\"yaxis\":\"y10\"},{\"marker\":{\"color\":\"#e53237\"},\"name\":\"G4\",\"showlegend\":false,\"textposition\":\"outside\",\"texttemplate\":\"%{y:,d}\",\"width\":1,\"x\":[\"G4\"],\"y\":[208],\"type\":\"bar\",\"xaxis\":\"x11\",\"yaxis\":\"y11\"},{\"marker\":{\"color\":\"#0064d1\"},\"name\":\"Z-DNA\",\"showlegend\":false,\"textposition\":\"outside\",\"texttemplate\":\"%{y:,d}\",\"width\":1,\"x\":[\"Z-DNA\"],\"y\":[388],\"type\":\"bar\",\"xaxis\":\"x11\",\"yaxis\":\"y11\"},{\"marker\":{\"color\":\"#f5af01\"},\"name\":\"SIDD\",\"showlegend\":false,\"textposition\":\"outside\",\"texttemplate\":\"%{y:,d}\",\"width\":1,\"x\":[\"SIDD\"],\"y\":[35],\"type\":\"bar\",\"xaxis\":\"x11\",\"yaxis\":\"y11\"},{\"marker\":{\"color\":\"#86b818\"},\"name\":\"H-DNA\",\"showlegend\":false,\"textposition\":\"outside\",\"texttemplate\":\"%{y:,d}\",\"width\":1,\"x\":[\"H-DNA\"],\"y\":[61],\"type\":\"bar\",\"xaxis\":\"x11\",\"yaxis\":\"y11\"},{\"marker\":{\"color\":\"#e53237\"},\"name\":\"G4\",\"showlegend\":false,\"textposition\":\"outside\",\"texttemplate\":\"%{y:,d}\",\"width\":1,\"x\":[\"G4\"],\"y\":[85],\"type\":\"bar\",\"xaxis\":\"x12\",\"yaxis\":\"y12\"},{\"marker\":{\"color\":\"#0064d1\"},\"name\":\"Z-DNA\",\"showlegend\":false,\"textposition\":\"outside\",\"texttemplate\":\"%{y:,d}\",\"width\":1,\"x\":[\"Z-DNA\"],\"y\":[130],\"type\":\"bar\",\"xaxis\":\"x12\",\"yaxis\":\"y12\"},{\"marker\":{\"color\":\"#f5af01\"},\"name\":\"SIDD\",\"showlegend\":false,\"textposition\":\"outside\",\"texttemplate\":\"%{y:,d}\",\"width\":1,\"x\":[\"SIDD\"],\"y\":[16],\"type\":\"bar\",\"xaxis\":\"x12\",\"yaxis\":\"y12\"},{\"marker\":{\"color\":\"#86b818\"},\"name\":\"H-DNA\",\"showlegend\":false,\"textposition\":\"outside\",\"texttemplate\":\"%{y:,d}\",\"width\":1,\"x\":[\"H-DNA\"],\"y\":[20],\"type\":\"bar\",\"xaxis\":\"x12\",\"yaxis\":\"y12\"},{\"marker\":{\"color\":\"#e53237\"},\"name\":\"G4\",\"showlegend\":false,\"textposition\":\"outside\",\"texttemplate\":\"%{y:,d}\",\"width\":1,\"x\":[\"G4\"],\"y\":[2.0],\"type\":\"bar\",\"xaxis\":\"x13\",\"yaxis\":\"y13\"},{\"marker\":{\"color\":\"#0064d1\"},\"name\":\"Z-DNA\",\"showlegend\":false,\"textposition\":\"outside\",\"texttemplate\":\"%{y:,d}\",\"width\":1,\"x\":[\"Z-DNA\"],\"y\":[2.0],\"type\":\"bar\",\"xaxis\":\"x13\",\"yaxis\":\"y13\"},{\"marker\":{\"color\":\"#e53237\"},\"name\":\"G4\",\"showlegend\":false,\"textposition\":\"outside\",\"texttemplate\":\"%{y:,d}\",\"width\":1,\"x\":[\"G4\"],\"y\":[33],\"type\":\"bar\",\"xaxis\":\"x14\",\"yaxis\":\"y14\"},{\"marker\":{\"color\":\"#0064d1\"},\"name\":\"Z-DNA\",\"showlegend\":false,\"textposition\":\"outside\",\"texttemplate\":\"%{y:,d}\",\"width\":1,\"x\":[\"Z-DNA\"],\"y\":[195],\"type\":\"bar\",\"xaxis\":\"x14\",\"yaxis\":\"y14\"},{\"marker\":{\"color\":\"#f5af01\"},\"name\":\"SIDD\",\"showlegend\":false,\"textposition\":\"outside\",\"texttemplate\":\"%{y:,d}\",\"width\":1,\"x\":[\"SIDD\"],\"y\":[2],\"type\":\"bar\",\"xaxis\":\"x14\",\"yaxis\":\"y14\"},{\"marker\":{\"color\":\"#86b818\"},\"name\":\"H-DNA\",\"showlegend\":false,\"textposition\":\"outside\",\"texttemplate\":\"%{y:,d}\",\"width\":1,\"x\":[\"H-DNA\"],\"y\":[2],\"type\":\"bar\",\"xaxis\":\"x14\",\"yaxis\":\"y14\"},{\"marker\":{\"color\":\"#e53237\"},\"name\":\"G4\",\"showlegend\":false,\"textposition\":\"outside\",\"texttemplate\":\"%{y:,d}\",\"width\":1,\"x\":[\"G4\"],\"y\":[137],\"type\":\"bar\",\"xaxis\":\"x15\",\"yaxis\":\"y15\"},{\"marker\":{\"color\":\"#0064d1\"},\"name\":\"Z-DNA\",\"showlegend\":false,\"textposition\":\"outside\",\"texttemplate\":\"%{y:,d}\",\"width\":1,\"x\":[\"Z-DNA\"],\"y\":[125],\"type\":\"bar\",\"xaxis\":\"x15\",\"yaxis\":\"y15\"},{\"marker\":{\"color\":\"#f5af01\"},\"name\":\"SIDD\",\"showlegend\":false,\"textposition\":\"outside\",\"texttemplate\":\"%{y:,d}\",\"width\":1,\"x\":[\"SIDD\"],\"y\":[30],\"type\":\"bar\",\"xaxis\":\"x15\",\"yaxis\":\"y15\"},{\"marker\":{\"color\":\"#86b818\"},\"name\":\"H-DNA\",\"showlegend\":false,\"textposition\":\"outside\",\"texttemplate\":\"%{y:,d}\",\"width\":1,\"x\":[\"H-DNA\"],\"y\":[62],\"type\":\"bar\",\"xaxis\":\"x15\",\"yaxis\":\"y15\"},{\"marker\":{\"color\":\"#e53237\"},\"name\":\"G4\",\"showlegend\":false,\"textposition\":\"outside\",\"texttemplate\":\"%{y:,d}\",\"width\":1,\"x\":[\"G4\"],\"y\":[45],\"type\":\"bar\",\"xaxis\":\"x16\",\"yaxis\":\"y16\"},{\"marker\":{\"color\":\"#0064d1\"},\"name\":\"Z-DNA\",\"showlegend\":false,\"textposition\":\"outside\",\"texttemplate\":\"%{y:,d}\",\"width\":1,\"x\":[\"Z-DNA\"],\"y\":[37],\"type\":\"bar\",\"xaxis\":\"x16\",\"yaxis\":\"y16\"},{\"marker\":{\"color\":\"#f5af01\"},\"name\":\"SIDD\",\"showlegend\":false,\"textposition\":\"outside\",\"texttemplate\":\"%{y:,d}\",\"width\":1,\"x\":[\"SIDD\"],\"y\":[11],\"type\":\"bar\",\"xaxis\":\"x16\",\"yaxis\":\"y16\"},{\"marker\":{\"color\":\"#86b818\"},\"name\":\"H-DNA\",\"showlegend\":false,\"textposition\":\"outside\",\"texttemplate\":\"%{y:,d}\",\"width\":1,\"x\":[\"H-DNA\"],\"y\":[9],\"type\":\"bar\",\"xaxis\":\"x16\",\"yaxis\":\"y16\"},{\"marker\":{\"color\":\"#e53237\"},\"name\":\"G4\",\"showlegend\":false,\"textposition\":\"outside\",\"texttemplate\":\"%{y:,d}\",\"width\":1,\"x\":[\"G4\"],\"y\":[2.0],\"type\":\"bar\",\"xaxis\":\"x17\",\"yaxis\":\"y17\"},{\"marker\":{\"color\":\"#0064d1\"},\"name\":\"Z-DNA\",\"showlegend\":false,\"textposition\":\"outside\",\"texttemplate\":\"%{y:,d}\",\"width\":1,\"x\":[\"Z-DNA\"],\"y\":[3.0],\"type\":\"bar\",\"xaxis\":\"x17\",\"yaxis\":\"y17\"},{\"marker\":{\"color\":\"#f5af01\"},\"name\":\"SIDD\",\"showlegend\":false,\"textposition\":\"outside\",\"texttemplate\":\"%{y:,d}\",\"width\":1,\"x\":[\"SIDD\"],\"y\":[1.0],\"type\":\"bar\",\"xaxis\":\"x17\",\"yaxis\":\"y17\"},{\"marker\":{\"color\":\"#e53237\"},\"name\":\"G4\",\"showlegend\":false,\"textposition\":\"outside\",\"texttemplate\":\"%{y:,d}\",\"width\":1,\"x\":[\"G4\"],\"y\":[190],\"type\":\"bar\",\"xaxis\":\"x18\",\"yaxis\":\"y18\"},{\"marker\":{\"color\":\"#0064d1\"},\"name\":\"Z-DNA\",\"showlegend\":false,\"textposition\":\"outside\",\"texttemplate\":\"%{y:,d}\",\"width\":1,\"x\":[\"Z-DNA\"],\"y\":[226],\"type\":\"bar\",\"xaxis\":\"x18\",\"yaxis\":\"y18\"},{\"marker\":{\"color\":\"#f5af01\"},\"name\":\"SIDD\",\"showlegend\":false,\"textposition\":\"outside\",\"texttemplate\":\"%{y:,d}\",\"width\":1,\"x\":[\"SIDD\"],\"y\":[27],\"type\":\"bar\",\"xaxis\":\"x18\",\"yaxis\":\"y18\"},{\"marker\":{\"color\":\"#86b818\"},\"name\":\"H-DNA\",\"showlegend\":false,\"textposition\":\"outside\",\"texttemplate\":\"%{y:,d}\",\"width\":1,\"x\":[\"H-DNA\"],\"y\":[59],\"type\":\"bar\",\"xaxis\":\"x18\",\"yaxis\":\"y18\"},{\"marker\":{\"color\":\"#e53237\"},\"name\":\"G4\",\"showlegend\":false,\"textposition\":\"outside\",\"texttemplate\":\"%{y:,d}\",\"width\":1,\"x\":[\"G4\"],\"y\":[247],\"type\":\"bar\",\"xaxis\":\"x19\",\"yaxis\":\"y19\"},{\"marker\":{\"color\":\"#0064d1\"},\"name\":\"Z-DNA\",\"showlegend\":false,\"textposition\":\"outside\",\"texttemplate\":\"%{y:,d}\",\"width\":1,\"x\":[\"Z-DNA\"],\"y\":[298],\"type\":\"bar\",\"xaxis\":\"x19\",\"yaxis\":\"y19\"},{\"marker\":{\"color\":\"#f5af01\"},\"name\":\"SIDD\",\"showlegend\":false,\"textposition\":\"outside\",\"texttemplate\":\"%{y:,d}\",\"width\":1,\"x\":[\"SIDD\"],\"y\":[445],\"type\":\"bar\",\"xaxis\":\"x19\",\"yaxis\":\"y19\"},{\"marker\":{\"color\":\"#86b818\"},\"name\":\"H-DNA\",\"showlegend\":false,\"textposition\":\"outside\",\"texttemplate\":\"%{y:,d}\",\"width\":1,\"x\":[\"H-DNA\"],\"y\":[306],\"type\":\"bar\",\"xaxis\":\"x19\",\"yaxis\":\"y19\"},{\"marker\":{\"color\":\"#e53237\"},\"name\":\"G4\",\"showlegend\":false,\"textposition\":\"outside\",\"texttemplate\":\"%{y:,d}\",\"width\":1,\"x\":[\"G4\"],\"y\":[293],\"type\":\"bar\",\"xaxis\":\"x20\",\"yaxis\":\"y20\"},{\"marker\":{\"color\":\"#0064d1\"},\"name\":\"Z-DNA\",\"showlegend\":false,\"textposition\":\"outside\",\"texttemplate\":\"%{y:,d}\",\"width\":1,\"x\":[\"Z-DNA\"],\"y\":[221],\"type\":\"bar\",\"xaxis\":\"x20\",\"yaxis\":\"y20\"},{\"marker\":{\"color\":\"#f5af01\"},\"name\":\"SIDD\",\"showlegend\":false,\"textposition\":\"outside\",\"texttemplate\":\"%{y:,d}\",\"width\":1,\"x\":[\"SIDD\"],\"y\":[446],\"type\":\"bar\",\"xaxis\":\"x20\",\"yaxis\":\"y20\"},{\"marker\":{\"color\":\"#86b818\"},\"name\":\"H-DNA\",\"showlegend\":false,\"textposition\":\"outside\",\"texttemplate\":\"%{y:,d}\",\"width\":1,\"x\":[\"H-DNA\"],\"y\":[295],\"type\":\"bar\",\"xaxis\":\"x20\",\"yaxis\":\"y20\"},{\"marker\":{\"color\":\"#e53237\"},\"name\":\"G4\",\"showlegend\":false,\"textposition\":\"outside\",\"texttemplate\":\"%{y:,d}\",\"width\":1,\"x\":[\"G4\"],\"y\":[258],\"type\":\"bar\",\"xaxis\":\"x21\",\"yaxis\":\"y21\"},{\"marker\":{\"color\":\"#0064d1\"},\"name\":\"Z-DNA\",\"showlegend\":false,\"textposition\":\"outside\",\"texttemplate\":\"%{y:,d}\",\"width\":1,\"x\":[\"Z-DNA\"],\"y\":[296],\"type\":\"bar\",\"xaxis\":\"x21\",\"yaxis\":\"y21\"},{\"marker\":{\"color\":\"#f5af01\"},\"name\":\"SIDD\",\"showlegend\":false,\"textposition\":\"outside\",\"texttemplate\":\"%{y:,d}\",\"width\":1,\"x\":[\"SIDD\"],\"y\":[385],\"type\":\"bar\",\"xaxis\":\"x21\",\"yaxis\":\"y21\"},{\"marker\":{\"color\":\"#86b818\"},\"name\":\"H-DNA\",\"showlegend\":false,\"textposition\":\"outside\",\"texttemplate\":\"%{y:,d}\",\"width\":1,\"x\":[\"H-DNA\"],\"y\":[328],\"type\":\"bar\",\"xaxis\":\"x21\",\"yaxis\":\"y21\"},{\"marker\":{\"color\":\"#0064d1\"},\"name\":\"Z-DNA\",\"showlegend\":false,\"textposition\":\"outside\",\"texttemplate\":\"%{y:,d}\",\"width\":1,\"x\":[\"Z-DNA\"],\"y\":[1.0],\"type\":\"bar\",\"xaxis\":\"x22\",\"yaxis\":\"y22\"},{\"marker\":{\"color\":\"#e53237\"},\"name\":\"G4\",\"showlegend\":false,\"textposition\":\"outside\",\"texttemplate\":\"%{y:,d}\",\"width\":1,\"x\":[\"G4\"],\"y\":[21],\"type\":\"bar\",\"xaxis\":\"x23\",\"yaxis\":\"y23\"},{\"marker\":{\"color\":\"#0064d1\"},\"name\":\"Z-DNA\",\"showlegend\":false,\"textposition\":\"outside\",\"texttemplate\":\"%{y:,d}\",\"width\":1,\"x\":[\"Z-DNA\"],\"y\":[30],\"type\":\"bar\",\"xaxis\":\"x23\",\"yaxis\":\"y23\"},{\"marker\":{\"color\":\"#f5af01\"},\"name\":\"SIDD\",\"showlegend\":false,\"textposition\":\"outside\",\"texttemplate\":\"%{y:,d}\",\"width\":1,\"x\":[\"SIDD\"],\"y\":[47],\"type\":\"bar\",\"xaxis\":\"x23\",\"yaxis\":\"y23\"},{\"marker\":{\"color\":\"#86b818\"},\"name\":\"H-DNA\",\"showlegend\":false,\"textposition\":\"outside\",\"texttemplate\":\"%{y:,d}\",\"width\":1,\"x\":[\"H-DNA\"],\"y\":[16],\"type\":\"bar\",\"xaxis\":\"x23\",\"yaxis\":\"y23\"},{\"marker\":{\"color\":\"#e53237\"},\"name\":\"G4\",\"showlegend\":false,\"textposition\":\"outside\",\"texttemplate\":\"%{y:,d}\",\"width\":1,\"x\":[\"G4\"],\"y\":[2413],\"type\":\"bar\",\"xaxis\":\"x24\",\"yaxis\":\"y24\"},{\"marker\":{\"color\":\"#0064d1\"},\"name\":\"Z-DNA\",\"showlegend\":false,\"textposition\":\"outside\",\"texttemplate\":\"%{y:,d}\",\"width\":1,\"x\":[\"Z-DNA\"],\"y\":[1805],\"type\":\"bar\",\"xaxis\":\"x24\",\"yaxis\":\"y24\"},{\"marker\":{\"color\":\"#f5af01\"},\"name\":\"SIDD\",\"showlegend\":false,\"textposition\":\"outside\",\"texttemplate\":\"%{y:,d}\",\"width\":1,\"x\":[\"SIDD\"],\"y\":[3429],\"type\":\"bar\",\"xaxis\":\"x24\",\"yaxis\":\"y24\"},{\"marker\":{\"color\":\"#86b818\"},\"name\":\"H-DNA\",\"showlegend\":false,\"textposition\":\"outside\",\"texttemplate\":\"%{y:,d}\",\"width\":1,\"x\":[\"H-DNA\"],\"y\":[2645],\"type\":\"bar\",\"xaxis\":\"x24\",\"yaxis\":\"y24\"},{\"marker\":{\"color\":\"#e53237\"},\"name\":\"G4\",\"showlegend\":false,\"textposition\":\"outside\",\"texttemplate\":\"%{y:,d}\",\"width\":1,\"x\":[\"G4\"],\"y\":[18],\"type\":\"bar\",\"xaxis\":\"x25\",\"yaxis\":\"y25\"},{\"marker\":{\"color\":\"#0064d1\"},\"name\":\"Z-DNA\",\"showlegend\":false,\"textposition\":\"outside\",\"texttemplate\":\"%{y:,d}\",\"width\":1,\"x\":[\"Z-DNA\"],\"y\":[26],\"type\":\"bar\",\"xaxis\":\"x25\",\"yaxis\":\"y25\"},{\"marker\":{\"color\":\"#f5af01\"},\"name\":\"SIDD\",\"showlegend\":false,\"textposition\":\"outside\",\"texttemplate\":\"%{y:,d}\",\"width\":1,\"x\":[\"SIDD\"],\"y\":[48],\"type\":\"bar\",\"xaxis\":\"x25\",\"yaxis\":\"y25\"},{\"marker\":{\"color\":\"#86b818\"},\"name\":\"H-DNA\",\"showlegend\":false,\"textposition\":\"outside\",\"texttemplate\":\"%{y:,d}\",\"width\":1,\"x\":[\"H-DNA\"],\"y\":[19],\"type\":\"bar\",\"xaxis\":\"x25\",\"yaxis\":\"y25\"},{\"marker\":{\"color\":\"#e53237\"},\"name\":\"G4\",\"showlegend\":false,\"textposition\":\"outside\",\"texttemplate\":\"%{y:,d}\",\"width\":1,\"x\":[\"G4\"],\"y\":[5],\"type\":\"bar\",\"xaxis\":\"x26\",\"yaxis\":\"y26\"},{\"marker\":{\"color\":\"#0064d1\"},\"name\":\"Z-DNA\",\"showlegend\":false,\"textposition\":\"outside\",\"texttemplate\":\"%{y:,d}\",\"width\":1,\"x\":[\"Z-DNA\"],\"y\":[5],\"type\":\"bar\",\"xaxis\":\"x26\",\"yaxis\":\"y26\"},{\"marker\":{\"color\":\"#f5af01\"},\"name\":\"SIDD\",\"showlegend\":false,\"textposition\":\"outside\",\"texttemplate\":\"%{y:,d}\",\"width\":1,\"x\":[\"SIDD\"],\"y\":[10],\"type\":\"bar\",\"xaxis\":\"x26\",\"yaxis\":\"y26\"},{\"marker\":{\"color\":\"#86b818\"},\"name\":\"H-DNA\",\"showlegend\":false,\"textposition\":\"outside\",\"texttemplate\":\"%{y:,d}\",\"width\":1,\"x\":[\"H-DNA\"],\"y\":[5],\"type\":\"bar\",\"xaxis\":\"x26\",\"yaxis\":\"y26\"},{\"marker\":{\"color\":\"#e53237\"},\"name\":\"G4\",\"showlegend\":false,\"textposition\":\"outside\",\"texttemplate\":\"%{y:,d}\",\"width\":1,\"x\":[\"G4\"],\"y\":[5133],\"type\":\"bar\",\"xaxis\":\"x27\",\"yaxis\":\"y27\"},{\"marker\":{\"color\":\"#0064d1\"},\"name\":\"Z-DNA\",\"showlegend\":false,\"textposition\":\"outside\",\"texttemplate\":\"%{y:,d}\",\"width\":1,\"x\":[\"Z-DNA\"],\"y\":[4486],\"type\":\"bar\",\"xaxis\":\"x27\",\"yaxis\":\"y27\"},{\"marker\":{\"color\":\"#f5af01\"},\"name\":\"SIDD\",\"showlegend\":false,\"textposition\":\"inside\",\"texttemplate\":\"%{y:,d}\",\"width\":1,\"x\":[\"SIDD\"],\"y\":[8397],\"type\":\"bar\",\"xaxis\":\"x27\",\"yaxis\":\"y27\"},{\"marker\":{\"color\":\"#86b818\"},\"name\":\"H-DNA\",\"showlegend\":false,\"textposition\":\"outside\",\"texttemplate\":\"%{y:,d}\",\"width\":1,\"x\":[\"H-DNA\"],\"y\":[6037],\"type\":\"bar\",\"xaxis\":\"x27\",\"yaxis\":\"y27\"}],                        {\"template\":{\"data\":{\"histogram2dcontour\":[{\"type\":\"histogram2dcontour\",\"colorbar\":{\"outlinewidth\":0,\"ticks\":\"\"},\"colorscale\":[[0.0,\"#0d0887\"],[0.1111111111111111,\"#46039f\"],[0.2222222222222222,\"#7201a8\"],[0.3333333333333333,\"#9c179e\"],[0.4444444444444444,\"#bd3786\"],[0.5555555555555556,\"#d8576b\"],[0.6666666666666666,\"#ed7953\"],[0.7777777777777778,\"#fb9f3a\"],[0.8888888888888888,\"#fdca26\"],[1.0,\"#f0f921\"]]}],\"choropleth\":[{\"type\":\"choropleth\",\"colorbar\":{\"outlinewidth\":0,\"ticks\":\"\"}}],\"histogram2d\":[{\"type\":\"histogram2d\",\"colorbar\":{\"outlinewidth\":0,\"ticks\":\"\"},\"colorscale\":[[0.0,\"#0d0887\"],[0.1111111111111111,\"#46039f\"],[0.2222222222222222,\"#7201a8\"],[0.3333333333333333,\"#9c179e\"],[0.4444444444444444,\"#bd3786\"],[0.5555555555555556,\"#d8576b\"],[0.6666666666666666,\"#ed7953\"],[0.7777777777777778,\"#fb9f3a\"],[0.8888888888888888,\"#fdca26\"],[1.0,\"#f0f921\"]]}],\"heatmap\":[{\"type\":\"heatmap\",\"colorbar\":{\"outlinewidth\":0,\"ticks\":\"\"},\"colorscale\":[[0.0,\"#0d0887\"],[0.1111111111111111,\"#46039f\"],[0.2222222222222222,\"#7201a8\"],[0.3333333333333333,\"#9c179e\"],[0.4444444444444444,\"#bd3786\"],[0.5555555555555556,\"#d8576b\"],[0.6666666666666666,\"#ed7953\"],[0.7777777777777778,\"#fb9f3a\"],[0.8888888888888888,\"#fdca26\"],[1.0,\"#f0f921\"]]}],\"heatmapgl\":[{\"type\":\"heatmapgl\",\"colorbar\":{\"outlinewidth\":0,\"ticks\":\"\"},\"colorscale\":[[0.0,\"#0d0887\"],[0.1111111111111111,\"#46039f\"],[0.2222222222222222,\"#7201a8\"],[0.3333333333333333,\"#9c179e\"],[0.4444444444444444,\"#bd3786\"],[0.5555555555555556,\"#d8576b\"],[0.6666666666666666,\"#ed7953\"],[0.7777777777777778,\"#fb9f3a\"],[0.8888888888888888,\"#fdca26\"],[1.0,\"#f0f921\"]]}],\"contourcarpet\":[{\"type\":\"contourcarpet\",\"colorbar\":{\"outlinewidth\":0,\"ticks\":\"\"}}],\"contour\":[{\"type\":\"contour\",\"colorbar\":{\"outlinewidth\":0,\"ticks\":\"\"},\"colorscale\":[[0.0,\"#0d0887\"],[0.1111111111111111,\"#46039f\"],[0.2222222222222222,\"#7201a8\"],[0.3333333333333333,\"#9c179e\"],[0.4444444444444444,\"#bd3786\"],[0.5555555555555556,\"#d8576b\"],[0.6666666666666666,\"#ed7953\"],[0.7777777777777778,\"#fb9f3a\"],[0.8888888888888888,\"#fdca26\"],[1.0,\"#f0f921\"]]}],\"surface\":[{\"type\":\"surface\",\"colorbar\":{\"outlinewidth\":0,\"ticks\":\"\"},\"colorscale\":[[0.0,\"#0d0887\"],[0.1111111111111111,\"#46039f\"],[0.2222222222222222,\"#7201a8\"],[0.3333333333333333,\"#9c179e\"],[0.4444444444444444,\"#bd3786\"],[0.5555555555555556,\"#d8576b\"],[0.6666666666666666,\"#ed7953\"],[0.7777777777777778,\"#fb9f3a\"],[0.8888888888888888,\"#fdca26\"],[1.0,\"#f0f921\"]]}],\"mesh3d\":[{\"type\":\"mesh3d\",\"colorbar\":{\"outlinewidth\":0,\"ticks\":\"\"}}],\"scatter\":[{\"fillpattern\":{\"fillmode\":\"overlay\",\"size\":10,\"solidity\":0.2},\"type\":\"scatter\"}],\"parcoords\":[{\"type\":\"parcoords\",\"line\":{\"colorbar\":{\"outlinewidth\":0,\"ticks\":\"\"}}}],\"scatterpolargl\":[{\"type\":\"scatterpolargl\",\"marker\":{\"colorbar\":{\"outlinewidth\":0,\"ticks\":\"\"}}}],\"bar\":[{\"error_x\":{\"color\":\"#2a3f5f\"},\"error_y\":{\"color\":\"#2a3f5f\"},\"marker\":{\"line\":{\"color\":\"#E5ECF6\",\"width\":0.5},\"pattern\":{\"fillmode\":\"overlay\",\"size\":10,\"solidity\":0.2}},\"type\":\"bar\"}],\"scattergeo\":[{\"type\":\"scattergeo\",\"marker\":{\"colorbar\":{\"outlinewidth\":0,\"ticks\":\"\"}}}],\"scatterpolar\":[{\"type\":\"scatterpolar\",\"marker\":{\"colorbar\":{\"outlinewidth\":0,\"ticks\":\"\"}}}],\"histogram\":[{\"marker\":{\"pattern\":{\"fillmode\":\"overlay\",\"size\":10,\"solidity\":0.2}},\"type\":\"histogram\"}],\"scattergl\":[{\"type\":\"scattergl\",\"marker\":{\"colorbar\":{\"outlinewidth\":0,\"ticks\":\"\"}}}],\"scatter3d\":[{\"type\":\"scatter3d\",\"line\":{\"colorbar\":{\"outlinewidth\":0,\"ticks\":\"\"}},\"marker\":{\"colorbar\":{\"outlinewidth\":0,\"ticks\":\"\"}}}],\"scattermapbox\":[{\"type\":\"scattermapbox\",\"marker\":{\"colorbar\":{\"outlinewidth\":0,\"ticks\":\"\"}}}],\"scatterternary\":[{\"type\":\"scatterternary\",\"marker\":{\"colorbar\":{\"outlinewidth\":0,\"ticks\":\"\"}}}],\"scattercarpet\":[{\"type\":\"scattercarpet\",\"marker\":{\"colorbar\":{\"outlinewidth\":0,\"ticks\":\"\"}}}],\"carpet\":[{\"aaxis\":{\"endlinecolor\":\"#2a3f5f\",\"gridcolor\":\"white\",\"linecolor\":\"white\",\"minorgridcolor\":\"white\",\"startlinecolor\":\"#2a3f5f\"},\"baxis\":{\"endlinecolor\":\"#2a3f5f\",\"gridcolor\":\"white\",\"linecolor\":\"white\",\"minorgridcolor\":\"white\",\"startlinecolor\":\"#2a3f5f\"},\"type\":\"carpet\"}],\"table\":[{\"cells\":{\"fill\":{\"color\":\"#EBF0F8\"},\"line\":{\"color\":\"white\"}},\"header\":{\"fill\":{\"color\":\"#C8D4E3\"},\"line\":{\"color\":\"white\"}},\"type\":\"table\"}],\"barpolar\":[{\"marker\":{\"line\":{\"color\":\"#E5ECF6\",\"width\":0.5},\"pattern\":{\"fillmode\":\"overlay\",\"size\":10,\"solidity\":0.2}},\"type\":\"barpolar\"}],\"pie\":[{\"automargin\":true,\"type\":\"pie\"}]},\"layout\":{\"autotypenumbers\":\"strict\",\"colorway\":[\"#636efa\",\"#EF553B\",\"#00cc96\",\"#ab63fa\",\"#FFA15A\",\"#19d3f3\",\"#FF6692\",\"#B6E880\",\"#FF97FF\",\"#FECB52\"],\"font\":{\"color\":\"#2a3f5f\"},\"hovermode\":\"closest\",\"hoverlabel\":{\"align\":\"left\"},\"paper_bgcolor\":\"white\",\"plot_bgcolor\":\"#E5ECF6\",\"polar\":{\"bgcolor\":\"#E5ECF6\",\"angularaxis\":{\"gridcolor\":\"white\",\"linecolor\":\"white\",\"ticks\":\"\"},\"radialaxis\":{\"gridcolor\":\"white\",\"linecolor\":\"white\",\"ticks\":\"\"}},\"ternary\":{\"bgcolor\":\"#E5ECF6\",\"aaxis\":{\"gridcolor\":\"white\",\"linecolor\":\"white\",\"ticks\":\"\"},\"baxis\":{\"gridcolor\":\"white\",\"linecolor\":\"white\",\"ticks\":\"\"},\"caxis\":{\"gridcolor\":\"white\",\"linecolor\":\"white\",\"ticks\":\"\"}},\"coloraxis\":{\"colorbar\":{\"outlinewidth\":0,\"ticks\":\"\"}},\"colorscale\":{\"sequential\":[[0.0,\"#0d0887\"],[0.1111111111111111,\"#46039f\"],[0.2222222222222222,\"#7201a8\"],[0.3333333333333333,\"#9c179e\"],[0.4444444444444444,\"#bd3786\"],[0.5555555555555556,\"#d8576b\"],[0.6666666666666666,\"#ed7953\"],[0.7777777777777778,\"#fb9f3a\"],[0.8888888888888888,\"#fdca26\"],[1.0,\"#f0f921\"]],\"sequentialminus\":[[0.0,\"#0d0887\"],[0.1111111111111111,\"#46039f\"],[0.2222222222222222,\"#7201a8\"],[0.3333333333333333,\"#9c179e\"],[0.4444444444444444,\"#bd3786\"],[0.5555555555555556,\"#d8576b\"],[0.6666666666666666,\"#ed7953\"],[0.7777777777777778,\"#fb9f3a\"],[0.8888888888888888,\"#fdca26\"],[1.0,\"#f0f921\"]],\"diverging\":[[0,\"#8e0152\"],[0.1,\"#c51b7d\"],[0.2,\"#de77ae\"],[0.3,\"#f1b6da\"],[0.4,\"#fde0ef\"],[0.5,\"#f7f7f7\"],[0.6,\"#e6f5d0\"],[0.7,\"#b8e186\"],[0.8,\"#7fbc41\"],[0.9,\"#4d9221\"],[1,\"#276419\"]]},\"xaxis\":{\"gridcolor\":\"white\",\"linecolor\":\"white\",\"ticks\":\"\",\"title\":{\"standoff\":15},\"zerolinecolor\":\"white\",\"automargin\":true,\"zerolinewidth\":2},\"yaxis\":{\"gridcolor\":\"white\",\"linecolor\":\"white\",\"ticks\":\"\",\"title\":{\"standoff\":15},\"zerolinecolor\":\"white\",\"automargin\":true,\"zerolinewidth\":2},\"scene\":{\"xaxis\":{\"backgroundcolor\":\"#E5ECF6\",\"gridcolor\":\"white\",\"linecolor\":\"white\",\"showbackground\":true,\"ticks\":\"\",\"zerolinecolor\":\"white\",\"gridwidth\":2},\"yaxis\":{\"backgroundcolor\":\"#E5ECF6\",\"gridcolor\":\"white\",\"linecolor\":\"white\",\"showbackground\":true,\"ticks\":\"\",\"zerolinecolor\":\"white\",\"gridwidth\":2},\"zaxis\":{\"backgroundcolor\":\"#E5ECF6\",\"gridcolor\":\"white\",\"linecolor\":\"white\",\"showbackground\":true,\"ticks\":\"\",\"zerolinecolor\":\"white\",\"gridwidth\":2}},\"shapedefaults\":{\"line\":{\"color\":\"#2a3f5f\"}},\"annotationdefaults\":{\"arrowcolor\":\"#2a3f5f\",\"arrowhead\":0,\"arrowwidth\":1},\"geo\":{\"bgcolor\":\"white\",\"landcolor\":\"#E5ECF6\",\"subunitcolor\":\"white\",\"showland\":true,\"showlakes\":true,\"lakecolor\":\"white\"},\"title\":{\"x\":0.05},\"mapbox\":{\"style\":\"light\"}}},\"xaxis\":{\"anchor\":\"y\",\"domain\":[0.0,0.10533333333333333],\"matches\":\"x19\",\"showticklabels\":false,\"type\":\"category\",\"visible\":false},\"yaxis\":{\"anchor\":\"x\",\"domain\":[0.6733333333333333,1.0],\"matches\":\"y19\",\"ticks\":\"outside\",\"tickformat\":\"s\",\"showgrid\":false,\"tickmode\":\"array\",\"tickvals\":[2000.0,4000.0,6000.0,8000.0]},\"xaxis2\":{\"anchor\":\"y2\",\"domain\":[0.10933333333333334,0.21466666666666667],\"matches\":\"x19\",\"showticklabels\":false,\"type\":\"category\",\"visible\":false},\"yaxis2\":{\"anchor\":\"x2\",\"domain\":[0.6733333333333333,1.0],\"matches\":\"y19\",\"showticklabels\":false,\"ticks\":\"\",\"tickformat\":\"s\",\"showgrid\":false,\"tickmode\":\"array\",\"tickvals\":[2000.0,4000.0,6000.0,8000.0]},\"xaxis3\":{\"anchor\":\"y3\",\"domain\":[0.21866666666666668,0.324],\"matches\":\"x19\",\"showticklabels\":false,\"type\":\"category\",\"visible\":false},\"yaxis3\":{\"anchor\":\"x3\",\"domain\":[0.6733333333333333,1.0],\"matches\":\"y19\",\"showticklabels\":false,\"ticks\":\"\",\"tickformat\":\"s\",\"showgrid\":false,\"tickmode\":\"array\",\"tickvals\":[2000.0,4000.0,6000.0,8000.0]},\"xaxis4\":{\"anchor\":\"y4\",\"domain\":[0.328,0.43333333333333335],\"matches\":\"x19\",\"showticklabels\":false,\"type\":\"category\",\"visible\":false},\"yaxis4\":{\"anchor\":\"x4\",\"domain\":[0.6733333333333333,1.0],\"matches\":\"y19\",\"showticklabels\":false,\"ticks\":\"\",\"tickformat\":\"s\",\"showgrid\":false,\"tickmode\":\"array\",\"tickvals\":[2000.0,4000.0,6000.0,8000.0]},\"xaxis5\":{\"anchor\":\"y5\",\"domain\":[0.43733333333333335,0.5426666666666666],\"matches\":\"x19\",\"showticklabels\":false,\"type\":\"category\",\"visible\":false},\"yaxis5\":{\"anchor\":\"x5\",\"domain\":[0.6733333333333333,1.0],\"matches\":\"y19\",\"showticklabels\":false,\"ticks\":\"\",\"tickformat\":\"s\",\"showgrid\":false,\"tickmode\":\"array\",\"tickvals\":[2000.0,4000.0,6000.0,8000.0]},\"xaxis6\":{\"anchor\":\"y6\",\"domain\":[0.5466666666666666,0.6519999999999999],\"matches\":\"x19\",\"showticklabels\":false,\"type\":\"category\",\"visible\":false},\"yaxis6\":{\"anchor\":\"x6\",\"domain\":[0.6733333333333333,1.0],\"matches\":\"y19\",\"showticklabels\":false,\"ticks\":\"\",\"tickformat\":\"s\",\"showgrid\":false,\"tickmode\":\"array\",\"tickvals\":[2000.0,4000.0,6000.0,8000.0]},\"xaxis7\":{\"anchor\":\"y7\",\"domain\":[0.6559999999999999,0.7613333333333332],\"matches\":\"x19\",\"showticklabels\":false,\"type\":\"category\",\"visible\":false},\"yaxis7\":{\"anchor\":\"x7\",\"domain\":[0.6733333333333333,1.0],\"matches\":\"y19\",\"showticklabels\":false,\"ticks\":\"\",\"tickformat\":\"s\",\"showgrid\":false,\"tickmode\":\"array\",\"tickvals\":[2000.0,4000.0,6000.0,8000.0]},\"xaxis8\":{\"anchor\":\"y8\",\"domain\":[0.7653333333333332,0.8706666666666665],\"matches\":\"x19\",\"showticklabels\":false,\"type\":\"category\",\"visible\":false},\"yaxis8\":{\"anchor\":\"x8\",\"domain\":[0.6733333333333333,1.0],\"matches\":\"y19\",\"showticklabels\":false,\"ticks\":\"\",\"tickformat\":\"s\",\"showgrid\":false,\"tickmode\":\"array\",\"tickvals\":[2000.0,4000.0,6000.0,8000.0]},\"xaxis9\":{\"anchor\":\"y9\",\"domain\":[0.8746666666666665,0.9799999999999998],\"matches\":\"x19\",\"showticklabels\":false,\"type\":\"category\",\"visible\":false},\"yaxis9\":{\"anchor\":\"x9\",\"domain\":[0.6733333333333333,1.0],\"matches\":\"y19\",\"showticklabels\":false,\"ticks\":\"\",\"tickformat\":\"s\",\"showgrid\":false,\"tickmode\":\"array\",\"tickvals\":[2000.0,4000.0,6000.0,8000.0]},\"xaxis10\":{\"anchor\":\"y10\",\"domain\":[0.0,0.10533333333333333],\"matches\":\"x19\",\"showticklabels\":false,\"type\":\"category\",\"visible\":false},\"yaxis10\":{\"anchor\":\"x10\",\"domain\":[0.33666666666666667,0.6633333333333333],\"matches\":\"y19\",\"ticks\":\"outside\",\"tickformat\":\"s\",\"showgrid\":false,\"tickmode\":\"array\",\"tickvals\":[2000.0,4000.0,6000.0,8000.0]},\"xaxis11\":{\"anchor\":\"y11\",\"domain\":[0.10933333333333334,0.21466666666666667],\"matches\":\"x19\",\"showticklabels\":false,\"type\":\"category\",\"visible\":false},\"yaxis11\":{\"anchor\":\"x11\",\"domain\":[0.33666666666666667,0.6633333333333333],\"matches\":\"y19\",\"showticklabels\":false,\"ticks\":\"\",\"tickformat\":\"s\",\"showgrid\":false,\"tickmode\":\"array\",\"tickvals\":[2000.0,4000.0,6000.0,8000.0]},\"xaxis12\":{\"anchor\":\"y12\",\"domain\":[0.21866666666666668,0.324],\"matches\":\"x19\",\"showticklabels\":false,\"type\":\"category\",\"visible\":false},\"yaxis12\":{\"anchor\":\"x12\",\"domain\":[0.33666666666666667,0.6633333333333333],\"matches\":\"y19\",\"showticklabels\":false,\"ticks\":\"\",\"tickformat\":\"s\",\"showgrid\":false,\"tickmode\":\"array\",\"tickvals\":[2000.0,4000.0,6000.0,8000.0]},\"xaxis13\":{\"anchor\":\"y13\",\"domain\":[0.328,0.43333333333333335],\"matches\":\"x19\",\"showticklabels\":false,\"type\":\"category\",\"visible\":false},\"yaxis13\":{\"anchor\":\"x13\",\"domain\":[0.33666666666666667,0.6633333333333333],\"matches\":\"y19\",\"showticklabels\":false,\"ticks\":\"\",\"tickformat\":\"s\",\"showgrid\":false,\"tickmode\":\"array\",\"tickvals\":[2000.0,4000.0,6000.0,8000.0]},\"xaxis14\":{\"anchor\":\"y14\",\"domain\":[0.43733333333333335,0.5426666666666666],\"matches\":\"x19\",\"showticklabels\":false,\"type\":\"category\",\"visible\":false},\"yaxis14\":{\"anchor\":\"x14\",\"domain\":[0.33666666666666667,0.6633333333333333],\"matches\":\"y19\",\"showticklabels\":false,\"ticks\":\"\",\"tickformat\":\"s\",\"showgrid\":false,\"tickmode\":\"array\",\"tickvals\":[2000.0,4000.0,6000.0,8000.0]},\"xaxis15\":{\"anchor\":\"y15\",\"domain\":[0.5466666666666666,0.6519999999999999],\"matches\":\"x19\",\"showticklabels\":false,\"type\":\"category\",\"visible\":false},\"yaxis15\":{\"anchor\":\"x15\",\"domain\":[0.33666666666666667,0.6633333333333333],\"matches\":\"y19\",\"showticklabels\":false,\"ticks\":\"\",\"tickformat\":\"s\",\"showgrid\":false,\"tickmode\":\"array\",\"tickvals\":[2000.0,4000.0,6000.0,8000.0]},\"xaxis16\":{\"anchor\":\"y16\",\"domain\":[0.6559999999999999,0.7613333333333332],\"matches\":\"x19\",\"showticklabels\":false,\"type\":\"category\",\"visible\":false},\"yaxis16\":{\"anchor\":\"x16\",\"domain\":[0.33666666666666667,0.6633333333333333],\"matches\":\"y19\",\"showticklabels\":false,\"ticks\":\"\",\"tickformat\":\"s\",\"showgrid\":false,\"tickmode\":\"array\",\"tickvals\":[2000.0,4000.0,6000.0,8000.0]},\"xaxis17\":{\"anchor\":\"y17\",\"domain\":[0.7653333333333332,0.8706666666666665],\"matches\":\"x19\",\"showticklabels\":false,\"type\":\"category\",\"visible\":false},\"yaxis17\":{\"anchor\":\"x17\",\"domain\":[0.33666666666666667,0.6633333333333333],\"matches\":\"y19\",\"showticklabels\":false,\"ticks\":\"\",\"tickformat\":\"s\",\"showgrid\":false,\"tickmode\":\"array\",\"tickvals\":[2000.0,4000.0,6000.0,8000.0]},\"xaxis18\":{\"anchor\":\"y18\",\"domain\":[0.8746666666666665,0.9799999999999998],\"matches\":\"x19\",\"showticklabels\":false,\"type\":\"category\",\"visible\":false},\"yaxis18\":{\"anchor\":\"x18\",\"domain\":[0.33666666666666667,0.6633333333333333],\"matches\":\"y19\",\"showticklabels\":false,\"ticks\":\"\",\"tickformat\":\"s\",\"showgrid\":false,\"tickmode\":\"array\",\"tickvals\":[2000.0,4000.0,6000.0,8000.0]},\"xaxis19\":{\"anchor\":\"y19\",\"domain\":[0.0,0.10533333333333333],\"type\":\"category\",\"visible\":false},\"yaxis19\":{\"anchor\":\"x19\",\"domain\":[0.0,0.32666666666666666],\"ticks\":\"outside\",\"tickformat\":\"s\",\"showgrid\":false,\"tickmode\":\"array\",\"tickvals\":[2000.0,4000.0,6000.0,8000.0]},\"xaxis20\":{\"anchor\":\"y20\",\"domain\":[0.10933333333333334,0.21466666666666667],\"matches\":\"x19\",\"type\":\"category\",\"visible\":false},\"yaxis20\":{\"anchor\":\"x20\",\"domain\":[0.0,0.32666666666666666],\"matches\":\"y19\",\"showticklabels\":false,\"ticks\":\"\",\"tickformat\":\"s\",\"showgrid\":false,\"tickmode\":\"array\",\"tickvals\":[2000.0,4000.0,6000.0,8000.0]},\"xaxis21\":{\"anchor\":\"y21\",\"domain\":[0.21866666666666668,0.324],\"matches\":\"x19\",\"type\":\"category\",\"visible\":false},\"yaxis21\":{\"anchor\":\"x21\",\"domain\":[0.0,0.32666666666666666],\"matches\":\"y19\",\"showticklabels\":false,\"ticks\":\"\",\"tickformat\":\"s\",\"showgrid\":false,\"tickmode\":\"array\",\"tickvals\":[2000.0,4000.0,6000.0,8000.0]},\"xaxis22\":{\"anchor\":\"y22\",\"domain\":[0.328,0.43333333333333335],\"matches\":\"x19\",\"type\":\"category\",\"visible\":false},\"yaxis22\":{\"anchor\":\"x22\",\"domain\":[0.0,0.32666666666666666],\"matches\":\"y19\",\"showticklabels\":false,\"ticks\":\"\",\"tickformat\":\"s\",\"showgrid\":false,\"tickmode\":\"array\",\"tickvals\":[2000.0,4000.0,6000.0,8000.0]},\"xaxis23\":{\"anchor\":\"y23\",\"domain\":[0.43733333333333335,0.5426666666666666],\"matches\":\"x19\",\"type\":\"category\",\"visible\":false},\"yaxis23\":{\"anchor\":\"x23\",\"domain\":[0.0,0.32666666666666666],\"matches\":\"y19\",\"showticklabels\":false,\"ticks\":\"\",\"tickformat\":\"s\",\"showgrid\":false,\"tickmode\":\"array\",\"tickvals\":[2000.0,4000.0,6000.0,8000.0]},\"xaxis24\":{\"anchor\":\"y24\",\"domain\":[0.5466666666666666,0.6519999999999999],\"matches\":\"x19\",\"type\":\"category\",\"visible\":false},\"yaxis24\":{\"anchor\":\"x24\",\"domain\":[0.0,0.32666666666666666],\"matches\":\"y19\",\"showticklabels\":false,\"ticks\":\"\",\"tickformat\":\"s\",\"showgrid\":false,\"tickmode\":\"array\",\"tickvals\":[2000.0,4000.0,6000.0,8000.0]},\"xaxis25\":{\"anchor\":\"y25\",\"domain\":[0.6559999999999999,0.7613333333333332],\"matches\":\"x19\",\"type\":\"category\",\"visible\":false},\"yaxis25\":{\"anchor\":\"x25\",\"domain\":[0.0,0.32666666666666666],\"matches\":\"y19\",\"showticklabels\":false,\"ticks\":\"\",\"tickformat\":\"s\",\"showgrid\":false,\"tickmode\":\"array\",\"tickvals\":[2000.0,4000.0,6000.0,8000.0]},\"xaxis26\":{\"anchor\":\"y26\",\"domain\":[0.7653333333333332,0.8706666666666665],\"matches\":\"x19\",\"type\":\"category\",\"visible\":false},\"yaxis26\":{\"anchor\":\"x26\",\"domain\":[0.0,0.32666666666666666],\"matches\":\"y19\",\"showticklabels\":false,\"ticks\":\"\",\"tickformat\":\"s\",\"showgrid\":false,\"tickmode\":\"array\",\"tickvals\":[2000.0,4000.0,6000.0,8000.0]},\"xaxis27\":{\"anchor\":\"y27\",\"domain\":[0.8746666666666665,0.9799999999999998],\"matches\":\"x19\",\"type\":\"category\",\"visible\":false},\"yaxis27\":{\"anchor\":\"x27\",\"domain\":[0.0,0.32666666666666666],\"matches\":\"y19\",\"showticklabels\":false,\"ticks\":\"\",\"tickformat\":\"s\",\"showgrid\":false,\"tickmode\":\"array\",\"tickvals\":[2000.0,4000.0,6000.0,8000.0]},\"annotations\":[{\"font\":{\"size\":16},\"showarrow\":false,\"text\":\"Promoter (<=1kb)\",\"x\":0.05266666666666667,\"xanchor\":\"center\",\"xref\":\"paper\",\"y\":1.0,\"yanchor\":\"bottom\",\"yref\":\"paper\",\"textangle\":0,\"align\":\"left\"},{\"font\":{\"size\":16},\"showarrow\":false,\"text\":\"Promoter (1-2kb)\",\"x\":0.162,\"xanchor\":\"center\",\"xref\":\"paper\",\"y\":1.0,\"yanchor\":\"bottom\",\"yref\":\"paper\",\"textangle\":0,\"align\":\"left\"},{\"font\":{\"size\":16},\"showarrow\":false,\"text\":\"Promoter (2-3kb)\",\"x\":0.2713333333333333,\"xanchor\":\"center\",\"xref\":\"paper\",\"y\":1.0,\"yanchor\":\"bottom\",\"yref\":\"paper\",\"textangle\":0,\"align\":\"left\"},{\"font\":{\"size\":16},\"showarrow\":false,\"text\":\"5' UTR\",\"x\":0.3806666666666667,\"xanchor\":\"center\",\"xref\":\"paper\",\"y\":1.0,\"yanchor\":\"bottom\",\"yref\":\"paper\",\"textangle\":0,\"align\":\"left\"},{\"font\":{\"size\":16},\"showarrow\":false,\"text\":\"Exon\",\"x\":0.49,\"xanchor\":\"center\",\"xref\":\"paper\",\"y\":1.0,\"yanchor\":\"bottom\",\"yref\":\"paper\",\"textangle\":0,\"align\":\"left\"},{\"font\":{\"size\":16},\"showarrow\":false,\"text\":\"Intron\",\"x\":0.5993333333333333,\"xanchor\":\"center\",\"xref\":\"paper\",\"y\":1.0,\"yanchor\":\"bottom\",\"yref\":\"paper\",\"textangle\":0,\"align\":\"left\"},{\"font\":{\"size\":16},\"showarrow\":false,\"text\":\"3' UTR\",\"x\":0.7086666666666666,\"xanchor\":\"center\",\"xref\":\"paper\",\"y\":1.0,\"yanchor\":\"bottom\",\"yref\":\"paper\",\"textangle\":0,\"align\":\"left\"},{\"font\":{\"size\":16},\"showarrow\":false,\"text\":\"Downstream (<=300bp)\",\"x\":0.8179999999999998,\"xanchor\":\"center\",\"xref\":\"paper\",\"y\":1.0,\"yanchor\":\"bottom\",\"yref\":\"paper\",\"textangle\":0,\"align\":\"left\"},{\"font\":{\"size\":16},\"showarrow\":false,\"text\":\"Distal Intergenic\",\"x\":0.9273333333333331,\"xanchor\":\"center\",\"xref\":\"paper\",\"y\":1.0,\"yanchor\":\"bottom\",\"yref\":\"paper\",\"textangle\":0,\"align\":\"left\"},{\"font\":{\"size\":16},\"showarrow\":false,\"text\":\"cCRE\",\"textangle\":0,\"x\":0.9799999999999998,\"xanchor\":\"left\",\"xref\":\"paper\",\"y\":0.8366666666666667,\"yanchor\":\"middle\",\"yref\":\"paper\",\"align\":\"left\"},{\"font\":{\"size\":16},\"showarrow\":false,\"text\":\"cCRE & CTCF\",\"textangle\":0,\"x\":0.9799999999999998,\"xanchor\":\"left\",\"xref\":\"paper\",\"y\":0.5,\"yanchor\":\"middle\",\"yref\":\"paper\",\"align\":\"left\"},{\"font\":{\"size\":16},\"showarrow\":false,\"text\":\"LINE/LTR\",\"textangle\":0,\"x\":0.9799999999999998,\"xanchor\":\"left\",\"xref\":\"paper\",\"y\":0.16333333333333333,\"yanchor\":\"middle\",\"yref\":\"paper\",\"align\":\"left\"}],\"title\":{\"text\":\"<span style='font-size: 16px;'>Flipons (62,834)</span>\",\"x\":0.005,\"y\":0.97},\"font\":{\"family\":\"monospace\",\"size\":12},\"uniformtext\":{\"minsize\":12},\"margin\":{\"l\":5,\"t\":55,\"b\":5,\"r\":80},\"legend\":{\"font\":{\"size\":18},\"orientation\":\"h\",\"yanchor\":\"bottom\",\"y\":1.07,\"xanchor\":\"right\",\"x\":0.98},\"height\":400,\"width\":1800},                        {\"responsive\": true}                    ).then(function(){\n",
       "                            \n",
       "var gd = document.getElementById('1df16b4d-85cd-4d53-b19f-8190ee220abe');\n",
       "var x = new MutationObserver(function (mutations, observer) {{\n",
       "        var display = window.getComputedStyle(gd).display;\n",
       "        if (!display || display === 'none') {{\n",
       "            console.log([gd, 'removed!']);\n",
       "            Plotly.purge(gd);\n",
       "            observer.disconnect();\n",
       "        }}\n",
       "}});\n",
       "\n",
       "// Listen for the removal of the full notebook cells\n",
       "var notebookContainer = gd.closest('#notebook-container');\n",
       "if (notebookContainer) {{\n",
       "    x.observe(notebookContainer, {childList: true});\n",
       "}}\n",
       "\n",
       "// Listen for the clearing of the current output cell\n",
       "var outputEl = gd.closest('.output');\n",
       "if (outputEl) {{\n",
       "    x.observe(outputEl, {childList: true});\n",
       "}}\n",
       "\n",
       "                        })                };                });            </script>        </div>"
      ]
     },
     "metadata": {},
     "output_type": "display_data"
    }
   ],
   "source": [
    "data_mirna = get_plotly_data(F_FLIPON_TO_DATA)\n",
    "plot_matrix(\n",
    "    groups,\n",
    "    annotations,\n",
    "    feature_groups,\n",
    "    plotly_data=data_mirna,\n",
    "    title=f\"Flipons ({data_mirna['count'].sum():,d})\",\n",
    "    height=400,\n",
    "    fig_title=\"Figure.draft.1c.png\",\n",
    ")\n"
   ]
  },
  {
   "cell_type": "code",
   "execution_count": 62,
   "metadata": {},
   "outputs": [
    {
     "data": {
      "application/vnd.plotly.v1+json": {
       "config": {
        "plotlyServerURL": "https://plot.ly"
       },
       "data": [
        {
         "marker": {
          "color": "#e53237"
         },
         "name": "G4",
         "showlegend": true,
         "textposition": "outside",
         "texttemplate": "%{y:,d}",
         "type": "bar",
         "width": 1,
         "x": [
          "G4"
         ],
         "xaxis": "x",
         "y": [
          1405
         ],
         "yaxis": "y"
        },
        {
         "marker": {
          "color": "#0064d1"
         },
         "name": "Z-DNA",
         "showlegend": true,
         "textposition": "outside",
         "texttemplate": "%{y:,d}",
         "type": "bar",
         "width": 1,
         "x": [
          "Z-DNA"
         ],
         "xaxis": "x",
         "y": [
          630
         ],
         "yaxis": "y"
        },
        {
         "marker": {
          "color": "#f5af01"
         },
         "name": "SIDD",
         "showlegend": true,
         "textposition": "outside",
         "texttemplate": "%{y:,d}",
         "type": "bar",
         "width": 1,
         "x": [
          "SIDD"
         ],
         "xaxis": "x",
         "y": [
          209
         ],
         "yaxis": "y"
        },
        {
         "marker": {
          "color": "#86b818"
         },
         "name": "H-DNA",
         "showlegend": true,
         "textposition": "outside",
         "texttemplate": "%{y:,d}",
         "type": "bar",
         "width": 1,
         "x": [
          "H-DNA"
         ],
         "xaxis": "x",
         "y": [
          113
         ],
         "yaxis": "y"
        },
        {
         "marker": {
          "color": "#e53237"
         },
         "name": "G4",
         "showlegend": false,
         "textposition": "outside",
         "texttemplate": "%{y:,d}",
         "type": "bar",
         "width": 1,
         "x": [
          "G4"
         ],
         "xaxis": "x2",
         "y": [
          121
         ],
         "yaxis": "y2"
        },
        {
         "marker": {
          "color": "#0064d1"
         },
         "name": "Z-DNA",
         "showlegend": false,
         "textposition": "outside",
         "texttemplate": "%{y:,d}",
         "type": "bar",
         "width": 1,
         "x": [
          "Z-DNA"
         ],
         "xaxis": "x2",
         "y": [
          60
         ],
         "yaxis": "y2"
        },
        {
         "marker": {
          "color": "#f5af01"
         },
         "name": "SIDD",
         "showlegend": false,
         "textposition": "outside",
         "texttemplate": "%{y:,d}",
         "type": "bar",
         "width": 1,
         "x": [
          "SIDD"
         ],
         "xaxis": "x2",
         "y": [
          53
         ],
         "yaxis": "y2"
        },
        {
         "marker": {
          "color": "#86b818"
         },
         "name": "H-DNA",
         "showlegend": false,
         "textposition": "outside",
         "texttemplate": "%{y:,d}",
         "type": "bar",
         "width": 1,
         "x": [
          "H-DNA"
         ],
         "xaxis": "x2",
         "y": [
          14
         ],
         "yaxis": "y2"
        },
        {
         "marker": {
          "color": "#e53237"
         },
         "name": "G4",
         "showlegend": false,
         "textposition": "outside",
         "texttemplate": "%{y:,d}",
         "type": "bar",
         "width": 1,
         "x": [
          "G4"
         ],
         "xaxis": "x3",
         "y": [
          52
         ],
         "yaxis": "y3"
        },
        {
         "marker": {
          "color": "#0064d1"
         },
         "name": "Z-DNA",
         "showlegend": false,
         "textposition": "outside",
         "texttemplate": "%{y:,d}",
         "type": "bar",
         "width": 1,
         "x": [
          "Z-DNA"
         ],
         "xaxis": "x3",
         "y": [
          38
         ],
         "yaxis": "y3"
        },
        {
         "marker": {
          "color": "#f5af01"
         },
         "name": "SIDD",
         "showlegend": false,
         "textposition": "outside",
         "texttemplate": "%{y:,d}",
         "type": "bar",
         "width": 1,
         "x": [
          "SIDD"
         ],
         "xaxis": "x3",
         "y": [
          28
         ],
         "yaxis": "y3"
        },
        {
         "marker": {
          "color": "#86b818"
         },
         "name": "H-DNA",
         "showlegend": false,
         "textposition": "outside",
         "texttemplate": "%{y:,d}",
         "type": "bar",
         "width": 1,
         "x": [
          "H-DNA"
         ],
         "xaxis": "x3",
         "y": [
          12
         ],
         "yaxis": "y3"
        },
        {
         "marker": {
          "color": "#0064d1"
         },
         "name": "Z-DNA",
         "showlegend": false,
         "textposition": "outside",
         "texttemplate": "%{y:,d}",
         "type": "bar",
         "width": 1,
         "x": [
          "Z-DNA"
         ],
         "xaxis": "x4",
         "y": [
          1
         ],
         "yaxis": "y4"
        },
        {
         "marker": {
          "color": "#f5af01"
         },
         "name": "SIDD",
         "showlegend": false,
         "textposition": "outside",
         "texttemplate": "%{y:,d}",
         "type": "bar",
         "width": 1,
         "x": [
          "SIDD"
         ],
         "xaxis": "x4",
         "y": [
          1
         ],
         "yaxis": "y4"
        },
        {
         "marker": {
          "color": "#e53237"
         },
         "name": "G4",
         "showlegend": false,
         "textposition": "outside",
         "texttemplate": "%{y:,d}",
         "type": "bar",
         "width": 1,
         "x": [
          "G4"
         ],
         "xaxis": "x5",
         "y": [
          22
         ],
         "yaxis": "y5"
        },
        {
         "marker": {
          "color": "#0064d1"
         },
         "name": "Z-DNA",
         "showlegend": false,
         "textposition": "outside",
         "texttemplate": "%{y:,d}",
         "type": "bar",
         "width": 1,
         "x": [
          "Z-DNA"
         ],
         "xaxis": "x5",
         "y": [
          20
         ],
         "yaxis": "y5"
        },
        {
         "marker": {
          "color": "#f5af01"
         },
         "name": "SIDD",
         "showlegend": false,
         "textposition": "outside",
         "texttemplate": "%{y:,d}",
         "type": "bar",
         "width": 1,
         "x": [
          "SIDD"
         ],
         "xaxis": "x5",
         "y": [
          7
         ],
         "yaxis": "y5"
        },
        {
         "marker": {
          "color": "#e53237"
         },
         "name": "G4",
         "showlegend": false,
         "textposition": "outside",
         "texttemplate": "%{y:,d}",
         "type": "bar",
         "width": 1,
         "x": [
          "G4"
         ],
         "xaxis": "x6",
         "y": [
          142
         ],
         "yaxis": "y6"
        },
        {
         "marker": {
          "color": "#0064d1"
         },
         "name": "Z-DNA",
         "showlegend": false,
         "textposition": "outside",
         "texttemplate": "%{y:,d}",
         "type": "bar",
         "width": 1,
         "x": [
          "Z-DNA"
         ],
         "xaxis": "x6",
         "y": [
          73
         ],
         "yaxis": "y6"
        },
        {
         "marker": {
          "color": "#f5af01"
         },
         "name": "SIDD",
         "showlegend": false,
         "textposition": "outside",
         "texttemplate": "%{y:,d}",
         "type": "bar",
         "width": 1,
         "x": [
          "SIDD"
         ],
         "xaxis": "x6",
         "y": [
          75
         ],
         "yaxis": "y6"
        },
        {
         "marker": {
          "color": "#86b818"
         },
         "name": "H-DNA",
         "showlegend": false,
         "textposition": "outside",
         "texttemplate": "%{y:,d}",
         "type": "bar",
         "width": 1,
         "x": [
          "H-DNA"
         ],
         "xaxis": "x6",
         "y": [
          36
         ],
         "yaxis": "y6"
        },
        {
         "marker": {
          "color": "#e53237"
         },
         "name": "G4",
         "showlegend": false,
         "textposition": "outside",
         "texttemplate": "%{y:,d}",
         "type": "bar",
         "width": 1,
         "x": [
          "G4"
         ],
         "xaxis": "x7",
         "y": [
          28
         ],
         "yaxis": "y7"
        },
        {
         "marker": {
          "color": "#0064d1"
         },
         "name": "Z-DNA",
         "showlegend": false,
         "textposition": "outside",
         "texttemplate": "%{y:,d}",
         "type": "bar",
         "width": 1,
         "x": [
          "Z-DNA"
         ],
         "xaxis": "x7",
         "y": [
          7
         ],
         "yaxis": "y7"
        },
        {
         "marker": {
          "color": "#f5af01"
         },
         "name": "SIDD",
         "showlegend": false,
         "textposition": "outside",
         "texttemplate": "%{y:,d}",
         "type": "bar",
         "width": 1,
         "x": [
          "SIDD"
         ],
         "xaxis": "x7",
         "y": [
          20
         ],
         "yaxis": "y7"
        },
        {
         "marker": {
          "color": "#86b818"
         },
         "name": "H-DNA",
         "showlegend": false,
         "textposition": "outside",
         "texttemplate": "%{y:,d}",
         "type": "bar",
         "width": 1,
         "x": [
          "H-DNA"
         ],
         "xaxis": "x7",
         "y": [
          4
         ],
         "yaxis": "y7"
        },
        {
         "marker": {
          "color": "#e53237"
         },
         "name": "G4",
         "showlegend": false,
         "textposition": "outside",
         "texttemplate": "%{y:,d}",
         "type": "bar",
         "width": 1,
         "x": [
          "G4"
         ],
         "xaxis": "x9",
         "y": [
          132
         ],
         "yaxis": "y9"
        },
        {
         "marker": {
          "color": "#0064d1"
         },
         "name": "Z-DNA",
         "showlegend": false,
         "textposition": "outside",
         "texttemplate": "%{y:,d}",
         "type": "bar",
         "width": 1,
         "x": [
          "Z-DNA"
         ],
         "xaxis": "x9",
         "y": [
          55
         ],
         "yaxis": "y9"
        },
        {
         "marker": {
          "color": "#f5af01"
         },
         "name": "SIDD",
         "showlegend": false,
         "textposition": "outside",
         "texttemplate": "%{y:,d}",
         "type": "bar",
         "width": 1,
         "x": [
          "SIDD"
         ],
         "xaxis": "x9",
         "y": [
          61
         ],
         "yaxis": "y9"
        },
        {
         "marker": {
          "color": "#86b818"
         },
         "name": "H-DNA",
         "showlegend": false,
         "textposition": "outside",
         "texttemplate": "%{y:,d}",
         "type": "bar",
         "width": 1,
         "x": [
          "H-DNA"
         ],
         "xaxis": "x9",
         "y": [
          26
         ],
         "yaxis": "y9"
        },
        {
         "marker": {
          "color": "#e53237"
         },
         "name": "G4",
         "showlegend": false,
         "textposition": "outside",
         "texttemplate": "%{y:,d}",
         "type": "bar",
         "width": 1,
         "x": [
          "G4"
         ],
         "xaxis": "x10",
         "y": [
          1227
         ],
         "yaxis": "y10"
        },
        {
         "marker": {
          "color": "#0064d1"
         },
         "name": "Z-DNA",
         "showlegend": false,
         "textposition": "outside",
         "texttemplate": "%{y:,d}",
         "type": "bar",
         "width": 1,
         "x": [
          "Z-DNA"
         ],
         "xaxis": "x10",
         "y": [
          698
         ],
         "yaxis": "y10"
        },
        {
         "marker": {
          "color": "#f5af01"
         },
         "name": "SIDD",
         "showlegend": false,
         "textposition": "outside",
         "texttemplate": "%{y:,d}",
         "type": "bar",
         "width": 1,
         "x": [
          "SIDD"
         ],
         "xaxis": "x10",
         "y": [
          162
         ],
         "yaxis": "y10"
        },
        {
         "marker": {
          "color": "#86b818"
         },
         "name": "H-DNA",
         "showlegend": false,
         "textposition": "outside",
         "texttemplate": "%{y:,d}",
         "type": "bar",
         "width": 1,
         "x": [
          "H-DNA"
         ],
         "xaxis": "x10",
         "y": [
          80
         ],
         "yaxis": "y10"
        },
        {
         "marker": {
          "color": "#e53237"
         },
         "name": "G4",
         "showlegend": false,
         "textposition": "outside",
         "texttemplate": "%{y:,d}",
         "type": "bar",
         "width": 1,
         "x": [
          "G4"
         ],
         "xaxis": "x11",
         "y": [
          87
         ],
         "yaxis": "y11"
        },
        {
         "marker": {
          "color": "#0064d1"
         },
         "name": "Z-DNA",
         "showlegend": false,
         "textposition": "outside",
         "texttemplate": "%{y:,d}",
         "type": "bar",
         "width": 1,
         "x": [
          "Z-DNA"
         ],
         "xaxis": "x11",
         "y": [
          58
         ],
         "yaxis": "y11"
        },
        {
         "marker": {
          "color": "#f5af01"
         },
         "name": "SIDD",
         "showlegend": false,
         "textposition": "outside",
         "texttemplate": "%{y:,d}",
         "type": "bar",
         "width": 1,
         "x": [
          "SIDD"
         ],
         "xaxis": "x11",
         "y": [
          30
         ],
         "yaxis": "y11"
        },
        {
         "marker": {
          "color": "#86b818"
         },
         "name": "H-DNA",
         "showlegend": false,
         "textposition": "outside",
         "texttemplate": "%{y:,d}",
         "type": "bar",
         "width": 1,
         "x": [
          "H-DNA"
         ],
         "xaxis": "x11",
         "y": [
          8
         ],
         "yaxis": "y11"
        },
        {
         "marker": {
          "color": "#e53237"
         },
         "name": "G4",
         "showlegend": false,
         "textposition": "outside",
         "texttemplate": "%{y:,d}",
         "type": "bar",
         "width": 1,
         "x": [
          "G4"
         ],
         "xaxis": "x12",
         "y": [
          35
         ],
         "yaxis": "y12"
        },
        {
         "marker": {
          "color": "#0064d1"
         },
         "name": "Z-DNA",
         "showlegend": false,
         "textposition": "outside",
         "texttemplate": "%{y:,d}",
         "type": "bar",
         "width": 1,
         "x": [
          "Z-DNA"
         ],
         "xaxis": "x12",
         "y": [
          20
         ],
         "yaxis": "y12"
        },
        {
         "marker": {
          "color": "#f5af01"
         },
         "name": "SIDD",
         "showlegend": false,
         "textposition": "outside",
         "texttemplate": "%{y:,d}",
         "type": "bar",
         "width": 1,
         "x": [
          "SIDD"
         ],
         "xaxis": "x12",
         "y": [
          14
         ],
         "yaxis": "y12"
        },
        {
         "marker": {
          "color": "#86b818"
         },
         "name": "H-DNA",
         "showlegend": false,
         "textposition": "outside",
         "texttemplate": "%{y:,d}",
         "type": "bar",
         "width": 1,
         "x": [
          "H-DNA"
         ],
         "xaxis": "x12",
         "y": [
          4
         ],
         "yaxis": "y12"
        },
        {
         "marker": {
          "color": "#e53237"
         },
         "name": "G4",
         "showlegend": false,
         "textposition": "outside",
         "texttemplate": "%{y:,d}",
         "type": "bar",
         "width": 1,
         "x": [
          "G4"
         ],
         "xaxis": "x13",
         "y": [
          1
         ],
         "yaxis": "y13"
        },
        {
         "marker": {
          "color": "#e53237"
         },
         "name": "G4",
         "showlegend": false,
         "textposition": "outside",
         "texttemplate": "%{y:,d}",
         "type": "bar",
         "width": 1,
         "x": [
          "G4"
         ],
         "xaxis": "x14",
         "y": [
          10
         ],
         "yaxis": "y14"
        },
        {
         "marker": {
          "color": "#0064d1"
         },
         "name": "Z-DNA",
         "showlegend": false,
         "textposition": "outside",
         "texttemplate": "%{y:,d}",
         "type": "bar",
         "width": 1,
         "x": [
          "Z-DNA"
         ],
         "xaxis": "x14",
         "y": [
          24
         ],
         "yaxis": "y14"
        },
        {
         "marker": {
          "color": "#f5af01"
         },
         "name": "SIDD",
         "showlegend": false,
         "textposition": "outside",
         "texttemplate": "%{y:,d}",
         "type": "bar",
         "width": 1,
         "x": [
          "SIDD"
         ],
         "xaxis": "x14",
         "y": [
          2
         ],
         "yaxis": "y14"
        },
        {
         "marker": {
          "color": "#e53237"
         },
         "name": "G4",
         "showlegend": false,
         "textposition": "outside",
         "texttemplate": "%{y:,d}",
         "type": "bar",
         "width": 1,
         "x": [
          "G4"
         ],
         "xaxis": "x15",
         "y": [
          61
         ],
         "yaxis": "y15"
        },
        {
         "marker": {
          "color": "#0064d1"
         },
         "name": "Z-DNA",
         "showlegend": false,
         "textposition": "outside",
         "texttemplate": "%{y:,d}",
         "type": "bar",
         "width": 1,
         "x": [
          "Z-DNA"
         ],
         "xaxis": "x15",
         "y": [
          27
         ],
         "yaxis": "y15"
        },
        {
         "marker": {
          "color": "#f5af01"
         },
         "name": "SIDD",
         "showlegend": false,
         "textposition": "outside",
         "texttemplate": "%{y:,d}",
         "type": "bar",
         "width": 1,
         "x": [
          "SIDD"
         ],
         "xaxis": "x15",
         "y": [
          26
         ],
         "yaxis": "y15"
        },
        {
         "marker": {
          "color": "#86b818"
         },
         "name": "H-DNA",
         "showlegend": false,
         "textposition": "outside",
         "texttemplate": "%{y:,d}",
         "type": "bar",
         "width": 1,
         "x": [
          "H-DNA"
         ],
         "xaxis": "x15",
         "y": [
          17
         ],
         "yaxis": "y15"
        },
        {
         "marker": {
          "color": "#e53237"
         },
         "name": "G4",
         "showlegend": false,
         "textposition": "outside",
         "texttemplate": "%{y:,d}",
         "type": "bar",
         "width": 1,
         "x": [
          "G4"
         ],
         "xaxis": "x16",
         "y": [
          14
         ],
         "yaxis": "y16"
        },
        {
         "marker": {
          "color": "#0064d1"
         },
         "name": "Z-DNA",
         "showlegend": false,
         "textposition": "outside",
         "texttemplate": "%{y:,d}",
         "type": "bar",
         "width": 1,
         "x": [
          "Z-DNA"
         ],
         "xaxis": "x16",
         "y": [
          7
         ],
         "yaxis": "y16"
        },
        {
         "marker": {
          "color": "#f5af01"
         },
         "name": "SIDD",
         "showlegend": false,
         "textposition": "outside",
         "texttemplate": "%{y:,d}",
         "type": "bar",
         "width": 1,
         "x": [
          "SIDD"
         ],
         "xaxis": "x16",
         "y": [
          8
         ],
         "yaxis": "y16"
        },
        {
         "marker": {
          "color": "#e53237"
         },
         "name": "G4",
         "showlegend": false,
         "textposition": "outside",
         "texttemplate": "%{y:,d}",
         "type": "bar",
         "width": 1,
         "x": [
          "G4"
         ],
         "xaxis": "x17",
         "y": [
          1
         ],
         "yaxis": "y17"
        },
        {
         "marker": {
          "color": "#f5af01"
         },
         "name": "SIDD",
         "showlegend": false,
         "textposition": "outside",
         "texttemplate": "%{y:,d}",
         "type": "bar",
         "width": 1,
         "x": [
          "SIDD"
         ],
         "xaxis": "x17",
         "y": [
          1
         ],
         "yaxis": "y17"
        },
        {
         "marker": {
          "color": "#e53237"
         },
         "name": "G4",
         "showlegend": false,
         "textposition": "outside",
         "texttemplate": "%{y:,d}",
         "type": "bar",
         "width": 1,
         "x": [
          "G4"
         ],
         "xaxis": "x18",
         "y": [
          75
         ],
         "yaxis": "y18"
        },
        {
         "marker": {
          "color": "#0064d1"
         },
         "name": "Z-DNA",
         "showlegend": false,
         "textposition": "outside",
         "texttemplate": "%{y:,d}",
         "type": "bar",
         "width": 1,
         "x": [
          "Z-DNA"
         ],
         "xaxis": "x18",
         "y": [
          36
         ],
         "yaxis": "y18"
        },
        {
         "marker": {
          "color": "#f5af01"
         },
         "name": "SIDD",
         "showlegend": false,
         "textposition": "outside",
         "texttemplate": "%{y:,d}",
         "type": "bar",
         "width": 1,
         "x": [
          "SIDD"
         ],
         "xaxis": "x18",
         "y": [
          21
         ],
         "yaxis": "y18"
        },
        {
         "marker": {
          "color": "#86b818"
         },
         "name": "H-DNA",
         "showlegend": false,
         "textposition": "outside",
         "texttemplate": "%{y:,d}",
         "type": "bar",
         "width": 1,
         "x": [
          "H-DNA"
         ],
         "xaxis": "x18",
         "y": [
          9
         ],
         "yaxis": "y18"
        },
        {
         "marker": {
          "color": "#e53237"
         },
         "name": "G4",
         "showlegend": false,
         "textposition": "outside",
         "texttemplate": "%{y:,d}",
         "type": "bar",
         "width": 1,
         "x": [
          "G4"
         ],
         "xaxis": "x19",
         "y": [
          86
         ],
         "yaxis": "y19"
        },
        {
         "marker": {
          "color": "#0064d1"
         },
         "name": "Z-DNA",
         "showlegend": false,
         "textposition": "outside",
         "texttemplate": "%{y:,d}",
         "type": "bar",
         "width": 1,
         "x": [
          "Z-DNA"
         ],
         "xaxis": "x19",
         "y": [
          99
         ],
         "yaxis": "y19"
        },
        {
         "marker": {
          "color": "#f5af01"
         },
         "name": "SIDD",
         "showlegend": false,
         "textposition": "outside",
         "texttemplate": "%{y:,d}",
         "type": "bar",
         "width": 1,
         "x": [
          "SIDD"
         ],
         "xaxis": "x19",
         "y": [
          424
         ],
         "yaxis": "y19"
        },
        {
         "marker": {
          "color": "#86b818"
         },
         "name": "H-DNA",
         "showlegend": false,
         "textposition": "outside",
         "texttemplate": "%{y:,d}",
         "type": "bar",
         "width": 1,
         "x": [
          "H-DNA"
         ],
         "xaxis": "x19",
         "y": [
          42
         ],
         "yaxis": "y19"
        },
        {
         "marker": {
          "color": "#e53237"
         },
         "name": "G4",
         "showlegend": false,
         "textposition": "outside",
         "texttemplate": "%{y:,d}",
         "type": "bar",
         "width": 1,
         "x": [
          "G4"
         ],
         "xaxis": "x20",
         "y": [
          107
         ],
         "yaxis": "y20"
        },
        {
         "marker": {
          "color": "#0064d1"
         },
         "name": "Z-DNA",
         "showlegend": false,
         "textposition": "outside",
         "texttemplate": "%{y:,d}",
         "type": "bar",
         "width": 1,
         "x": [
          "Z-DNA"
         ],
         "xaxis": "x20",
         "y": [
          65
         ],
         "yaxis": "y20"
        },
        {
         "marker": {
          "color": "#f5af01"
         },
         "name": "SIDD",
         "showlegend": false,
         "textposition": "outside",
         "texttemplate": "%{y:,d}",
         "type": "bar",
         "width": 1,
         "x": [
          "SIDD"
         ],
         "xaxis": "x20",
         "y": [
          430
         ],
         "yaxis": "y20"
        },
        {
         "marker": {
          "color": "#86b818"
         },
         "name": "H-DNA",
         "showlegend": false,
         "textposition": "outside",
         "texttemplate": "%{y:,d}",
         "type": "bar",
         "width": 1,
         "x": [
          "H-DNA"
         ],
         "xaxis": "x20",
         "y": [
          57
         ],
         "yaxis": "y20"
        },
        {
         "marker": {
          "color": "#e53237"
         },
         "name": "G4",
         "showlegend": false,
         "textposition": "outside",
         "texttemplate": "%{y:,d}",
         "type": "bar",
         "width": 1,
         "x": [
          "G4"
         ],
         "xaxis": "x21",
         "y": [
          110
         ],
         "yaxis": "y21"
        },
        {
         "marker": {
          "color": "#0064d1"
         },
         "name": "Z-DNA",
         "showlegend": false,
         "textposition": "outside",
         "texttemplate": "%{y:,d}",
         "type": "bar",
         "width": 1,
         "x": [
          "Z-DNA"
         ],
         "xaxis": "x21",
         "y": [
          95
         ],
         "yaxis": "y21"
        },
        {
         "marker": {
          "color": "#f5af01"
         },
         "name": "SIDD",
         "showlegend": false,
         "textposition": "outside",
         "texttemplate": "%{y:,d}",
         "type": "bar",
         "width": 1,
         "x": [
          "SIDD"
         ],
         "xaxis": "x21",
         "y": [
          372
         ],
         "yaxis": "y21"
        },
        {
         "marker": {
          "color": "#86b818"
         },
         "name": "H-DNA",
         "showlegend": false,
         "textposition": "outside",
         "texttemplate": "%{y:,d}",
         "type": "bar",
         "width": 1,
         "x": [
          "H-DNA"
         ],
         "xaxis": "x21",
         "y": [
          65
         ],
         "yaxis": "y21"
        },
        {
         "marker": {
          "color": "#e53237"
         },
         "name": "G4",
         "showlegend": false,
         "textposition": "outside",
         "texttemplate": "%{y:,d}",
         "type": "bar",
         "width": 1,
         "x": [
          "G4"
         ],
         "xaxis": "x23",
         "y": [
          8
         ],
         "yaxis": "y23"
        },
        {
         "marker": {
          "color": "#0064d1"
         },
         "name": "Z-DNA",
         "showlegend": false,
         "textposition": "outside",
         "texttemplate": "%{y:,d}",
         "type": "bar",
         "width": 1,
         "x": [
          "Z-DNA"
         ],
         "xaxis": "x23",
         "y": [
          5
         ],
         "yaxis": "y23"
        },
        {
         "marker": {
          "color": "#f5af01"
         },
         "name": "SIDD",
         "showlegend": false,
         "textposition": "outside",
         "texttemplate": "%{y:,d}",
         "type": "bar",
         "width": 1,
         "x": [
          "SIDD"
         ],
         "xaxis": "x23",
         "y": [
          46
         ],
         "yaxis": "y23"
        },
        {
         "marker": {
          "color": "#e53237"
         },
         "name": "G4",
         "showlegend": false,
         "textposition": "outside",
         "texttemplate": "%{y:,d}",
         "type": "bar",
         "width": 1,
         "x": [
          "G4"
         ],
         "xaxis": "x24",
         "y": [
          896
         ],
         "yaxis": "y24"
        },
        {
         "marker": {
          "color": "#0064d1"
         },
         "name": "Z-DNA",
         "showlegend": false,
         "textposition": "outside",
         "texttemplate": "%{y:,d}",
         "type": "bar",
         "width": 1,
         "x": [
          "Z-DNA"
         ],
         "xaxis": "x24",
         "y": [
          635
         ],
         "yaxis": "y24"
        },
        {
         "marker": {
          "color": "#f5af01"
         },
         "name": "SIDD",
         "showlegend": false,
         "textposition": "outside",
         "texttemplate": "%{y:,d}",
         "type": "bar",
         "width": 1,
         "x": [
          "SIDD"
         ],
         "xaxis": "x24",
         "y": [
          3312
         ],
         "yaxis": "y24"
        },
        {
         "marker": {
          "color": "#86b818"
         },
         "name": "H-DNA",
         "showlegend": false,
         "textposition": "outside",
         "texttemplate": "%{y:,d}",
         "type": "bar",
         "width": 1,
         "x": [
          "H-DNA"
         ],
         "xaxis": "x24",
         "y": [
          441
         ],
         "yaxis": "y24"
        },
        {
         "marker": {
          "color": "#e53237"
         },
         "name": "G4",
         "showlegend": false,
         "textposition": "outside",
         "texttemplate": "%{y:,d}",
         "type": "bar",
         "width": 1,
         "x": [
          "G4"
         ],
         "xaxis": "x25",
         "y": [
          9
         ],
         "yaxis": "y25"
        },
        {
         "marker": {
          "color": "#0064d1"
         },
         "name": "Z-DNA",
         "showlegend": false,
         "textposition": "outside",
         "texttemplate": "%{y:,d}",
         "type": "bar",
         "width": 1,
         "x": [
          "Z-DNA"
         ],
         "xaxis": "x25",
         "y": [
          11
         ],
         "yaxis": "y25"
        },
        {
         "marker": {
          "color": "#f5af01"
         },
         "name": "SIDD",
         "showlegend": false,
         "textposition": "outside",
         "texttemplate": "%{y:,d}",
         "type": "bar",
         "width": 1,
         "x": [
          "SIDD"
         ],
         "xaxis": "x25",
         "y": [
          48
         ],
         "yaxis": "y25"
        },
        {
         "marker": {
          "color": "#86b818"
         },
         "name": "H-DNA",
         "showlegend": false,
         "textposition": "outside",
         "texttemplate": "%{y:,d}",
         "type": "bar",
         "width": 1,
         "x": [
          "H-DNA"
         ],
         "xaxis": "x25",
         "y": [
          8
         ],
         "yaxis": "y25"
        },
        {
         "marker": {
          "color": "#e53237"
         },
         "name": "G4",
         "showlegend": false,
         "textposition": "outside",
         "texttemplate": "%{y:,d}",
         "type": "bar",
         "width": 1,
         "x": [
          "G4"
         ],
         "xaxis": "x26",
         "y": [
          2
         ],
         "yaxis": "y26"
        },
        {
         "marker": {
          "color": "#0064d1"
         },
         "name": "Z-DNA",
         "showlegend": false,
         "textposition": "outside",
         "texttemplate": "%{y:,d}",
         "type": "bar",
         "width": 1,
         "x": [
          "Z-DNA"
         ],
         "xaxis": "x26",
         "y": [
          1
         ],
         "yaxis": "y26"
        },
        {
         "marker": {
          "color": "#f5af01"
         },
         "name": "SIDD",
         "showlegend": false,
         "textposition": "outside",
         "texttemplate": "%{y:,d}",
         "type": "bar",
         "width": 1,
         "x": [
          "SIDD"
         ],
         "xaxis": "x26",
         "y": [
          10
         ],
         "yaxis": "y26"
        },
        {
         "marker": {
          "color": "#86b818"
         },
         "name": "H-DNA",
         "showlegend": false,
         "textposition": "outside",
         "texttemplate": "%{y:,d}",
         "type": "bar",
         "width": 1,
         "x": [
          "H-DNA"
         ],
         "xaxis": "x26",
         "y": [
          1
         ],
         "yaxis": "y26"
        },
        {
         "marker": {
          "color": "#e53237"
         },
         "name": "G4",
         "showlegend": false,
         "textposition": "outside",
         "texttemplate": "%{y:,d}",
         "type": "bar",
         "width": 1,
         "x": [
          "G4"
         ],
         "xaxis": "x27",
         "y": [
          2000
         ],
         "yaxis": "y27"
        },
        {
         "marker": {
          "color": "#0064d1"
         },
         "name": "Z-DNA",
         "showlegend": false,
         "textposition": "outside",
         "texttemplate": "%{y:,d}",
         "type": "bar",
         "width": 1,
         "x": [
          "Z-DNA"
         ],
         "xaxis": "x27",
         "y": [
          1435
         ],
         "yaxis": "y27"
        },
        {
         "marker": {
          "color": "#f5af01"
         },
         "name": "SIDD",
         "showlegend": false,
         "textposition": "inside",
         "texttemplate": "%{y:,d}",
         "type": "bar",
         "width": 1,
         "x": [
          "SIDD"
         ],
         "xaxis": "x27",
         "y": [
          8141
         ],
         "yaxis": "y27"
        },
        {
         "marker": {
          "color": "#86b818"
         },
         "name": "H-DNA",
         "showlegend": false,
         "textposition": "outside",
         "texttemplate": "%{y:,d}",
         "type": "bar",
         "width": 1,
         "x": [
          "H-DNA"
         ],
         "xaxis": "x27",
         "y": [
          962
         ],
         "yaxis": "y27"
        }
       ],
       "layout": {
        "annotations": [
         {
          "align": "left",
          "font": {
           "size": 16
          },
          "showarrow": false,
          "text": "Promoter (<=1kb)",
          "textangle": 0,
          "x": 0.05266666666666667,
          "xanchor": "center",
          "xref": "paper",
          "y": 1,
          "yanchor": "bottom",
          "yref": "paper"
         },
         {
          "align": "left",
          "font": {
           "size": 16
          },
          "showarrow": false,
          "text": "Promoter (1-2kb)",
          "textangle": 0,
          "x": 0.162,
          "xanchor": "center",
          "xref": "paper",
          "y": 1,
          "yanchor": "bottom",
          "yref": "paper"
         },
         {
          "align": "left",
          "font": {
           "size": 16
          },
          "showarrow": false,
          "text": "Promoter (2-3kb)",
          "textangle": 0,
          "x": 0.2713333333333333,
          "xanchor": "center",
          "xref": "paper",
          "y": 1,
          "yanchor": "bottom",
          "yref": "paper"
         },
         {
          "align": "left",
          "font": {
           "size": 16
          },
          "showarrow": false,
          "text": "5' UTR",
          "textangle": 0,
          "x": 0.3806666666666667,
          "xanchor": "center",
          "xref": "paper",
          "y": 1,
          "yanchor": "bottom",
          "yref": "paper"
         },
         {
          "align": "left",
          "font": {
           "size": 16
          },
          "showarrow": false,
          "text": "Exon",
          "textangle": 0,
          "x": 0.49,
          "xanchor": "center",
          "xref": "paper",
          "y": 1,
          "yanchor": "bottom",
          "yref": "paper"
         },
         {
          "align": "left",
          "font": {
           "size": 16
          },
          "showarrow": false,
          "text": "Intron",
          "textangle": 0,
          "x": 0.5993333333333333,
          "xanchor": "center",
          "xref": "paper",
          "y": 1,
          "yanchor": "bottom",
          "yref": "paper"
         },
         {
          "align": "left",
          "font": {
           "size": 16
          },
          "showarrow": false,
          "text": "3' UTR",
          "textangle": 0,
          "x": 0.7086666666666666,
          "xanchor": "center",
          "xref": "paper",
          "y": 1,
          "yanchor": "bottom",
          "yref": "paper"
         },
         {
          "align": "left",
          "font": {
           "size": 16
          },
          "showarrow": false,
          "text": "Downstream (<=300bp)",
          "textangle": 0,
          "x": 0.8179999999999998,
          "xanchor": "center",
          "xref": "paper",
          "y": 1,
          "yanchor": "bottom",
          "yref": "paper"
         },
         {
          "align": "left",
          "font": {
           "size": 16
          },
          "showarrow": false,
          "text": "Distal Intergenic",
          "textangle": 0,
          "x": 0.9273333333333331,
          "xanchor": "center",
          "xref": "paper",
          "y": 1,
          "yanchor": "bottom",
          "yref": "paper"
         },
         {
          "align": "left",
          "font": {
           "size": 16
          },
          "showarrow": false,
          "text": "cCRE",
          "textangle": 0,
          "x": 0.9799999999999998,
          "xanchor": "left",
          "xref": "paper",
          "y": 0.8366666666666667,
          "yanchor": "middle",
          "yref": "paper"
         },
         {
          "align": "left",
          "font": {
           "size": 16
          },
          "showarrow": false,
          "text": "cCRE & CTCF",
          "textangle": 0,
          "x": 0.9799999999999998,
          "xanchor": "left",
          "xref": "paper",
          "y": 0.5,
          "yanchor": "middle",
          "yref": "paper"
         },
         {
          "align": "left",
          "font": {
           "size": 16
          },
          "showarrow": false,
          "text": "LINE/LTR",
          "textangle": 0,
          "x": 0.9799999999999998,
          "xanchor": "left",
          "xref": "paper",
          "y": 0.16333333333333333,
          "yanchor": "middle",
          "yref": "paper"
         }
        ],
        "font": {
         "family": "monospace",
         "size": 12
        },
        "height": 400,
        "legend": {
         "font": {
          "size": 18
         },
         "orientation": "h",
         "x": 0.98,
         "xanchor": "right",
         "y": 1.07,
         "yanchor": "bottom"
        },
        "margin": {
         "b": 5,
         "l": 5,
         "r": 80,
         "t": 55
        },
        "template": {
         "data": {
          "bar": [
           {
            "error_x": {
             "color": "#2a3f5f"
            },
            "error_y": {
             "color": "#2a3f5f"
            },
            "marker": {
             "line": {
              "color": "#E5ECF6",
              "width": 0.5
             },
             "pattern": {
              "fillmode": "overlay",
              "size": 10,
              "solidity": 0.2
             }
            },
            "type": "bar"
           }
          ],
          "barpolar": [
           {
            "marker": {
             "line": {
              "color": "#E5ECF6",
              "width": 0.5
             },
             "pattern": {
              "fillmode": "overlay",
              "size": 10,
              "solidity": 0.2
             }
            },
            "type": "barpolar"
           }
          ],
          "carpet": [
           {
            "aaxis": {
             "endlinecolor": "#2a3f5f",
             "gridcolor": "white",
             "linecolor": "white",
             "minorgridcolor": "white",
             "startlinecolor": "#2a3f5f"
            },
            "baxis": {
             "endlinecolor": "#2a3f5f",
             "gridcolor": "white",
             "linecolor": "white",
             "minorgridcolor": "white",
             "startlinecolor": "#2a3f5f"
            },
            "type": "carpet"
           }
          ],
          "choropleth": [
           {
            "colorbar": {
             "outlinewidth": 0,
             "ticks": ""
            },
            "type": "choropleth"
           }
          ],
          "contour": [
           {
            "colorbar": {
             "outlinewidth": 0,
             "ticks": ""
            },
            "colorscale": [
             [
              0,
              "#0d0887"
             ],
             [
              0.1111111111111111,
              "#46039f"
             ],
             [
              0.2222222222222222,
              "#7201a8"
             ],
             [
              0.3333333333333333,
              "#9c179e"
             ],
             [
              0.4444444444444444,
              "#bd3786"
             ],
             [
              0.5555555555555556,
              "#d8576b"
             ],
             [
              0.6666666666666666,
              "#ed7953"
             ],
             [
              0.7777777777777778,
              "#fb9f3a"
             ],
             [
              0.8888888888888888,
              "#fdca26"
             ],
             [
              1,
              "#f0f921"
             ]
            ],
            "type": "contour"
           }
          ],
          "contourcarpet": [
           {
            "colorbar": {
             "outlinewidth": 0,
             "ticks": ""
            },
            "type": "contourcarpet"
           }
          ],
          "heatmap": [
           {
            "colorbar": {
             "outlinewidth": 0,
             "ticks": ""
            },
            "colorscale": [
             [
              0,
              "#0d0887"
             ],
             [
              0.1111111111111111,
              "#46039f"
             ],
             [
              0.2222222222222222,
              "#7201a8"
             ],
             [
              0.3333333333333333,
              "#9c179e"
             ],
             [
              0.4444444444444444,
              "#bd3786"
             ],
             [
              0.5555555555555556,
              "#d8576b"
             ],
             [
              0.6666666666666666,
              "#ed7953"
             ],
             [
              0.7777777777777778,
              "#fb9f3a"
             ],
             [
              0.8888888888888888,
              "#fdca26"
             ],
             [
              1,
              "#f0f921"
             ]
            ],
            "type": "heatmap"
           }
          ],
          "heatmapgl": [
           {
            "colorbar": {
             "outlinewidth": 0,
             "ticks": ""
            },
            "colorscale": [
             [
              0,
              "#0d0887"
             ],
             [
              0.1111111111111111,
              "#46039f"
             ],
             [
              0.2222222222222222,
              "#7201a8"
             ],
             [
              0.3333333333333333,
              "#9c179e"
             ],
             [
              0.4444444444444444,
              "#bd3786"
             ],
             [
              0.5555555555555556,
              "#d8576b"
             ],
             [
              0.6666666666666666,
              "#ed7953"
             ],
             [
              0.7777777777777778,
              "#fb9f3a"
             ],
             [
              0.8888888888888888,
              "#fdca26"
             ],
             [
              1,
              "#f0f921"
             ]
            ],
            "type": "heatmapgl"
           }
          ],
          "histogram": [
           {
            "marker": {
             "pattern": {
              "fillmode": "overlay",
              "size": 10,
              "solidity": 0.2
             }
            },
            "type": "histogram"
           }
          ],
          "histogram2d": [
           {
            "colorbar": {
             "outlinewidth": 0,
             "ticks": ""
            },
            "colorscale": [
             [
              0,
              "#0d0887"
             ],
             [
              0.1111111111111111,
              "#46039f"
             ],
             [
              0.2222222222222222,
              "#7201a8"
             ],
             [
              0.3333333333333333,
              "#9c179e"
             ],
             [
              0.4444444444444444,
              "#bd3786"
             ],
             [
              0.5555555555555556,
              "#d8576b"
             ],
             [
              0.6666666666666666,
              "#ed7953"
             ],
             [
              0.7777777777777778,
              "#fb9f3a"
             ],
             [
              0.8888888888888888,
              "#fdca26"
             ],
             [
              1,
              "#f0f921"
             ]
            ],
            "type": "histogram2d"
           }
          ],
          "histogram2dcontour": [
           {
            "colorbar": {
             "outlinewidth": 0,
             "ticks": ""
            },
            "colorscale": [
             [
              0,
              "#0d0887"
             ],
             [
              0.1111111111111111,
              "#46039f"
             ],
             [
              0.2222222222222222,
              "#7201a8"
             ],
             [
              0.3333333333333333,
              "#9c179e"
             ],
             [
              0.4444444444444444,
              "#bd3786"
             ],
             [
              0.5555555555555556,
              "#d8576b"
             ],
             [
              0.6666666666666666,
              "#ed7953"
             ],
             [
              0.7777777777777778,
              "#fb9f3a"
             ],
             [
              0.8888888888888888,
              "#fdca26"
             ],
             [
              1,
              "#f0f921"
             ]
            ],
            "type": "histogram2dcontour"
           }
          ],
          "mesh3d": [
           {
            "colorbar": {
             "outlinewidth": 0,
             "ticks": ""
            },
            "type": "mesh3d"
           }
          ],
          "parcoords": [
           {
            "line": {
             "colorbar": {
              "outlinewidth": 0,
              "ticks": ""
             }
            },
            "type": "parcoords"
           }
          ],
          "pie": [
           {
            "automargin": true,
            "type": "pie"
           }
          ],
          "scatter": [
           {
            "fillpattern": {
             "fillmode": "overlay",
             "size": 10,
             "solidity": 0.2
            },
            "type": "scatter"
           }
          ],
          "scatter3d": [
           {
            "line": {
             "colorbar": {
              "outlinewidth": 0,
              "ticks": ""
             }
            },
            "marker": {
             "colorbar": {
              "outlinewidth": 0,
              "ticks": ""
             }
            },
            "type": "scatter3d"
           }
          ],
          "scattercarpet": [
           {
            "marker": {
             "colorbar": {
              "outlinewidth": 0,
              "ticks": ""
             }
            },
            "type": "scattercarpet"
           }
          ],
          "scattergeo": [
           {
            "marker": {
             "colorbar": {
              "outlinewidth": 0,
              "ticks": ""
             }
            },
            "type": "scattergeo"
           }
          ],
          "scattergl": [
           {
            "marker": {
             "colorbar": {
              "outlinewidth": 0,
              "ticks": ""
             }
            },
            "type": "scattergl"
           }
          ],
          "scattermapbox": [
           {
            "marker": {
             "colorbar": {
              "outlinewidth": 0,
              "ticks": ""
             }
            },
            "type": "scattermapbox"
           }
          ],
          "scatterpolar": [
           {
            "marker": {
             "colorbar": {
              "outlinewidth": 0,
              "ticks": ""
             }
            },
            "type": "scatterpolar"
           }
          ],
          "scatterpolargl": [
           {
            "marker": {
             "colorbar": {
              "outlinewidth": 0,
              "ticks": ""
             }
            },
            "type": "scatterpolargl"
           }
          ],
          "scatterternary": [
           {
            "marker": {
             "colorbar": {
              "outlinewidth": 0,
              "ticks": ""
             }
            },
            "type": "scatterternary"
           }
          ],
          "surface": [
           {
            "colorbar": {
             "outlinewidth": 0,
             "ticks": ""
            },
            "colorscale": [
             [
              0,
              "#0d0887"
             ],
             [
              0.1111111111111111,
              "#46039f"
             ],
             [
              0.2222222222222222,
              "#7201a8"
             ],
             [
              0.3333333333333333,
              "#9c179e"
             ],
             [
              0.4444444444444444,
              "#bd3786"
             ],
             [
              0.5555555555555556,
              "#d8576b"
             ],
             [
              0.6666666666666666,
              "#ed7953"
             ],
             [
              0.7777777777777778,
              "#fb9f3a"
             ],
             [
              0.8888888888888888,
              "#fdca26"
             ],
             [
              1,
              "#f0f921"
             ]
            ],
            "type": "surface"
           }
          ],
          "table": [
           {
            "cells": {
             "fill": {
              "color": "#EBF0F8"
             },
             "line": {
              "color": "white"
             }
            },
            "header": {
             "fill": {
              "color": "#C8D4E3"
             },
             "line": {
              "color": "white"
             }
            },
            "type": "table"
           }
          ]
         },
         "layout": {
          "annotationdefaults": {
           "arrowcolor": "#2a3f5f",
           "arrowhead": 0,
           "arrowwidth": 1
          },
          "autotypenumbers": "strict",
          "coloraxis": {
           "colorbar": {
            "outlinewidth": 0,
            "ticks": ""
           }
          },
          "colorscale": {
           "diverging": [
            [
             0,
             "#8e0152"
            ],
            [
             0.1,
             "#c51b7d"
            ],
            [
             0.2,
             "#de77ae"
            ],
            [
             0.3,
             "#f1b6da"
            ],
            [
             0.4,
             "#fde0ef"
            ],
            [
             0.5,
             "#f7f7f7"
            ],
            [
             0.6,
             "#e6f5d0"
            ],
            [
             0.7,
             "#b8e186"
            ],
            [
             0.8,
             "#7fbc41"
            ],
            [
             0.9,
             "#4d9221"
            ],
            [
             1,
             "#276419"
            ]
           ],
           "sequential": [
            [
             0,
             "#0d0887"
            ],
            [
             0.1111111111111111,
             "#46039f"
            ],
            [
             0.2222222222222222,
             "#7201a8"
            ],
            [
             0.3333333333333333,
             "#9c179e"
            ],
            [
             0.4444444444444444,
             "#bd3786"
            ],
            [
             0.5555555555555556,
             "#d8576b"
            ],
            [
             0.6666666666666666,
             "#ed7953"
            ],
            [
             0.7777777777777778,
             "#fb9f3a"
            ],
            [
             0.8888888888888888,
             "#fdca26"
            ],
            [
             1,
             "#f0f921"
            ]
           ],
           "sequentialminus": [
            [
             0,
             "#0d0887"
            ],
            [
             0.1111111111111111,
             "#46039f"
            ],
            [
             0.2222222222222222,
             "#7201a8"
            ],
            [
             0.3333333333333333,
             "#9c179e"
            ],
            [
             0.4444444444444444,
             "#bd3786"
            ],
            [
             0.5555555555555556,
             "#d8576b"
            ],
            [
             0.6666666666666666,
             "#ed7953"
            ],
            [
             0.7777777777777778,
             "#fb9f3a"
            ],
            [
             0.8888888888888888,
             "#fdca26"
            ],
            [
             1,
             "#f0f921"
            ]
           ]
          },
          "colorway": [
           "#636efa",
           "#EF553B",
           "#00cc96",
           "#ab63fa",
           "#FFA15A",
           "#19d3f3",
           "#FF6692",
           "#B6E880",
           "#FF97FF",
           "#FECB52"
          ],
          "font": {
           "color": "#2a3f5f"
          },
          "geo": {
           "bgcolor": "white",
           "lakecolor": "white",
           "landcolor": "#E5ECF6",
           "showlakes": true,
           "showland": true,
           "subunitcolor": "white"
          },
          "hoverlabel": {
           "align": "left"
          },
          "hovermode": "closest",
          "mapbox": {
           "style": "light"
          },
          "paper_bgcolor": "white",
          "plot_bgcolor": "#E5ECF6",
          "polar": {
           "angularaxis": {
            "gridcolor": "white",
            "linecolor": "white",
            "ticks": ""
           },
           "bgcolor": "#E5ECF6",
           "radialaxis": {
            "gridcolor": "white",
            "linecolor": "white",
            "ticks": ""
           }
          },
          "scene": {
           "xaxis": {
            "backgroundcolor": "#E5ECF6",
            "gridcolor": "white",
            "gridwidth": 2,
            "linecolor": "white",
            "showbackground": true,
            "ticks": "",
            "zerolinecolor": "white"
           },
           "yaxis": {
            "backgroundcolor": "#E5ECF6",
            "gridcolor": "white",
            "gridwidth": 2,
            "linecolor": "white",
            "showbackground": true,
            "ticks": "",
            "zerolinecolor": "white"
           },
           "zaxis": {
            "backgroundcolor": "#E5ECF6",
            "gridcolor": "white",
            "gridwidth": 2,
            "linecolor": "white",
            "showbackground": true,
            "ticks": "",
            "zerolinecolor": "white"
           }
          },
          "shapedefaults": {
           "line": {
            "color": "#2a3f5f"
           }
          },
          "ternary": {
           "aaxis": {
            "gridcolor": "white",
            "linecolor": "white",
            "ticks": ""
           },
           "baxis": {
            "gridcolor": "white",
            "linecolor": "white",
            "ticks": ""
           },
           "bgcolor": "#E5ECF6",
           "caxis": {
            "gridcolor": "white",
            "linecolor": "white",
            "ticks": ""
           }
          },
          "title": {
           "x": 0.05
          },
          "xaxis": {
           "automargin": true,
           "gridcolor": "white",
           "linecolor": "white",
           "ticks": "",
           "title": {
            "standoff": 15
           },
           "zerolinecolor": "white",
           "zerolinewidth": 2
          },
          "yaxis": {
           "automargin": true,
           "gridcolor": "white",
           "linecolor": "white",
           "ticks": "",
           "title": {
            "standoff": 15
           },
           "zerolinecolor": "white",
           "zerolinewidth": 2
          }
         }
        },
        "title": {
         "text": "<span style='font-size: 16px;'>Flipons & miRNAs (26,789)</span>",
         "x": 0.005,
         "y": 0.97
        },
        "uniformtext": {
         "minsize": 12
        },
        "width": 1800,
        "xaxis": {
         "anchor": "y",
         "domain": [
          0,
          0.10533333333333333
         ],
         "matches": "x19",
         "showticklabels": false,
         "type": "category",
         "visible": false
        },
        "xaxis10": {
         "anchor": "y10",
         "domain": [
          0,
          0.10533333333333333
         ],
         "matches": "x19",
         "showticklabels": false,
         "type": "category",
         "visible": false
        },
        "xaxis11": {
         "anchor": "y11",
         "domain": [
          0.10933333333333334,
          0.21466666666666667
         ],
         "matches": "x19",
         "showticklabels": false,
         "type": "category",
         "visible": false
        },
        "xaxis12": {
         "anchor": "y12",
         "domain": [
          0.21866666666666668,
          0.324
         ],
         "matches": "x19",
         "showticklabels": false,
         "type": "category",
         "visible": false
        },
        "xaxis13": {
         "anchor": "y13",
         "domain": [
          0.328,
          0.43333333333333335
         ],
         "matches": "x19",
         "showticklabels": false,
         "type": "category",
         "visible": false
        },
        "xaxis14": {
         "anchor": "y14",
         "domain": [
          0.43733333333333335,
          0.5426666666666666
         ],
         "matches": "x19",
         "showticklabels": false,
         "type": "category",
         "visible": false
        },
        "xaxis15": {
         "anchor": "y15",
         "domain": [
          0.5466666666666666,
          0.6519999999999999
         ],
         "matches": "x19",
         "showticklabels": false,
         "type": "category",
         "visible": false
        },
        "xaxis16": {
         "anchor": "y16",
         "domain": [
          0.6559999999999999,
          0.7613333333333332
         ],
         "matches": "x19",
         "showticklabels": false,
         "type": "category",
         "visible": false
        },
        "xaxis17": {
         "anchor": "y17",
         "domain": [
          0.7653333333333332,
          0.8706666666666665
         ],
         "matches": "x19",
         "showticklabels": false,
         "type": "category",
         "visible": false
        },
        "xaxis18": {
         "anchor": "y18",
         "domain": [
          0.8746666666666665,
          0.9799999999999998
         ],
         "matches": "x19",
         "showticklabels": false,
         "type": "category",
         "visible": false
        },
        "xaxis19": {
         "anchor": "y19",
         "domain": [
          0,
          0.10533333333333333
         ],
         "type": "category",
         "visible": false
        },
        "xaxis2": {
         "anchor": "y2",
         "domain": [
          0.10933333333333334,
          0.21466666666666667
         ],
         "matches": "x19",
         "showticklabels": false,
         "type": "category",
         "visible": false
        },
        "xaxis20": {
         "anchor": "y20",
         "domain": [
          0.10933333333333334,
          0.21466666666666667
         ],
         "matches": "x19",
         "type": "category",
         "visible": false
        },
        "xaxis21": {
         "anchor": "y21",
         "domain": [
          0.21866666666666668,
          0.324
         ],
         "matches": "x19",
         "type": "category",
         "visible": false
        },
        "xaxis22": {
         "anchor": "y22",
         "domain": [
          0.328,
          0.43333333333333335
         ],
         "matches": "x19",
         "type": "category",
         "visible": false
        },
        "xaxis23": {
         "anchor": "y23",
         "domain": [
          0.43733333333333335,
          0.5426666666666666
         ],
         "matches": "x19",
         "type": "category",
         "visible": false
        },
        "xaxis24": {
         "anchor": "y24",
         "domain": [
          0.5466666666666666,
          0.6519999999999999
         ],
         "matches": "x19",
         "type": "category",
         "visible": false
        },
        "xaxis25": {
         "anchor": "y25",
         "domain": [
          0.6559999999999999,
          0.7613333333333332
         ],
         "matches": "x19",
         "type": "category",
         "visible": false
        },
        "xaxis26": {
         "anchor": "y26",
         "domain": [
          0.7653333333333332,
          0.8706666666666665
         ],
         "matches": "x19",
         "type": "category",
         "visible": false
        },
        "xaxis27": {
         "anchor": "y27",
         "domain": [
          0.8746666666666665,
          0.9799999999999998
         ],
         "matches": "x19",
         "type": "category",
         "visible": false
        },
        "xaxis3": {
         "anchor": "y3",
         "domain": [
          0.21866666666666668,
          0.324
         ],
         "matches": "x19",
         "showticklabels": false,
         "type": "category",
         "visible": false
        },
        "xaxis4": {
         "anchor": "y4",
         "domain": [
          0.328,
          0.43333333333333335
         ],
         "matches": "x19",
         "showticklabels": false,
         "type": "category",
         "visible": false
        },
        "xaxis5": {
         "anchor": "y5",
         "domain": [
          0.43733333333333335,
          0.5426666666666666
         ],
         "matches": "x19",
         "showticklabels": false,
         "type": "category",
         "visible": false
        },
        "xaxis6": {
         "anchor": "y6",
         "domain": [
          0.5466666666666666,
          0.6519999999999999
         ],
         "matches": "x19",
         "showticklabels": false,
         "type": "category",
         "visible": false
        },
        "xaxis7": {
         "anchor": "y7",
         "domain": [
          0.6559999999999999,
          0.7613333333333332
         ],
         "matches": "x19",
         "showticklabels": false,
         "type": "category",
         "visible": false
        },
        "xaxis8": {
         "anchor": "y8",
         "domain": [
          0.7653333333333332,
          0.8706666666666665
         ],
         "matches": "x19",
         "showticklabels": false,
         "type": "category",
         "visible": false
        },
        "xaxis9": {
         "anchor": "y9",
         "domain": [
          0.8746666666666665,
          0.9799999999999998
         ],
         "matches": "x19",
         "showticklabels": false,
         "type": "category",
         "visible": false
        },
        "yaxis": {
         "anchor": "x",
         "domain": [
          0.6733333333333333,
          1
         ],
         "matches": "y19",
         "showgrid": false,
         "tickformat": "s",
         "tickmode": "array",
         "ticks": "outside",
         "tickvals": [
          2000,
          4000,
          6000,
          8000
         ]
        },
        "yaxis10": {
         "anchor": "x10",
         "domain": [
          0.33666666666666667,
          0.6633333333333333
         ],
         "matches": "y19",
         "showgrid": false,
         "tickformat": "s",
         "tickmode": "array",
         "ticks": "outside",
         "tickvals": [
          2000,
          4000,
          6000,
          8000
         ]
        },
        "yaxis11": {
         "anchor": "x11",
         "domain": [
          0.33666666666666667,
          0.6633333333333333
         ],
         "matches": "y19",
         "showgrid": false,
         "showticklabels": false,
         "tickformat": "s",
         "tickmode": "array",
         "ticks": "",
         "tickvals": [
          2000,
          4000,
          6000,
          8000
         ]
        },
        "yaxis12": {
         "anchor": "x12",
         "domain": [
          0.33666666666666667,
          0.6633333333333333
         ],
         "matches": "y19",
         "showgrid": false,
         "showticklabels": false,
         "tickformat": "s",
         "tickmode": "array",
         "ticks": "",
         "tickvals": [
          2000,
          4000,
          6000,
          8000
         ]
        },
        "yaxis13": {
         "anchor": "x13",
         "domain": [
          0.33666666666666667,
          0.6633333333333333
         ],
         "matches": "y19",
         "showgrid": false,
         "showticklabels": false,
         "tickformat": "s",
         "tickmode": "array",
         "ticks": "",
         "tickvals": [
          2000,
          4000,
          6000,
          8000
         ]
        },
        "yaxis14": {
         "anchor": "x14",
         "domain": [
          0.33666666666666667,
          0.6633333333333333
         ],
         "matches": "y19",
         "showgrid": false,
         "showticklabels": false,
         "tickformat": "s",
         "tickmode": "array",
         "ticks": "",
         "tickvals": [
          2000,
          4000,
          6000,
          8000
         ]
        },
        "yaxis15": {
         "anchor": "x15",
         "domain": [
          0.33666666666666667,
          0.6633333333333333
         ],
         "matches": "y19",
         "showgrid": false,
         "showticklabels": false,
         "tickformat": "s",
         "tickmode": "array",
         "ticks": "",
         "tickvals": [
          2000,
          4000,
          6000,
          8000
         ]
        },
        "yaxis16": {
         "anchor": "x16",
         "domain": [
          0.33666666666666667,
          0.6633333333333333
         ],
         "matches": "y19",
         "showgrid": false,
         "showticklabels": false,
         "tickformat": "s",
         "tickmode": "array",
         "ticks": "",
         "tickvals": [
          2000,
          4000,
          6000,
          8000
         ]
        },
        "yaxis17": {
         "anchor": "x17",
         "domain": [
          0.33666666666666667,
          0.6633333333333333
         ],
         "matches": "y19",
         "showgrid": false,
         "showticklabels": false,
         "tickformat": "s",
         "tickmode": "array",
         "ticks": "",
         "tickvals": [
          2000,
          4000,
          6000,
          8000
         ]
        },
        "yaxis18": {
         "anchor": "x18",
         "domain": [
          0.33666666666666667,
          0.6633333333333333
         ],
         "matches": "y19",
         "showgrid": false,
         "showticklabels": false,
         "tickformat": "s",
         "tickmode": "array",
         "ticks": "",
         "tickvals": [
          2000,
          4000,
          6000,
          8000
         ]
        },
        "yaxis19": {
         "anchor": "x19",
         "domain": [
          0,
          0.32666666666666666
         ],
         "showgrid": false,
         "tickformat": "s",
         "tickmode": "array",
         "ticks": "outside",
         "tickvals": [
          2000,
          4000,
          6000,
          8000
         ]
        },
        "yaxis2": {
         "anchor": "x2",
         "domain": [
          0.6733333333333333,
          1
         ],
         "matches": "y19",
         "showgrid": false,
         "showticklabels": false,
         "tickformat": "s",
         "tickmode": "array",
         "ticks": "",
         "tickvals": [
          2000,
          4000,
          6000,
          8000
         ]
        },
        "yaxis20": {
         "anchor": "x20",
         "domain": [
          0,
          0.32666666666666666
         ],
         "matches": "y19",
         "showgrid": false,
         "showticklabels": false,
         "tickformat": "s",
         "tickmode": "array",
         "ticks": "",
         "tickvals": [
          2000,
          4000,
          6000,
          8000
         ]
        },
        "yaxis21": {
         "anchor": "x21",
         "domain": [
          0,
          0.32666666666666666
         ],
         "matches": "y19",
         "showgrid": false,
         "showticklabels": false,
         "tickformat": "s",
         "tickmode": "array",
         "ticks": "",
         "tickvals": [
          2000,
          4000,
          6000,
          8000
         ]
        },
        "yaxis22": {
         "anchor": "x22",
         "domain": [
          0,
          0.32666666666666666
         ],
         "matches": "y19",
         "showgrid": false,
         "showticklabels": false,
         "tickformat": "s",
         "tickmode": "array",
         "tickvals": [
          2000,
          4000,
          6000,
          8000
         ]
        },
        "yaxis23": {
         "anchor": "x23",
         "domain": [
          0,
          0.32666666666666666
         ],
         "matches": "y19",
         "showgrid": false,
         "showticklabels": false,
         "tickformat": "s",
         "tickmode": "array",
         "ticks": "",
         "tickvals": [
          2000,
          4000,
          6000,
          8000
         ]
        },
        "yaxis24": {
         "anchor": "x24",
         "domain": [
          0,
          0.32666666666666666
         ],
         "matches": "y19",
         "showgrid": false,
         "showticklabels": false,
         "tickformat": "s",
         "tickmode": "array",
         "ticks": "",
         "tickvals": [
          2000,
          4000,
          6000,
          8000
         ]
        },
        "yaxis25": {
         "anchor": "x25",
         "domain": [
          0,
          0.32666666666666666
         ],
         "matches": "y19",
         "showgrid": false,
         "showticklabels": false,
         "tickformat": "s",
         "tickmode": "array",
         "ticks": "",
         "tickvals": [
          2000,
          4000,
          6000,
          8000
         ]
        },
        "yaxis26": {
         "anchor": "x26",
         "domain": [
          0,
          0.32666666666666666
         ],
         "matches": "y19",
         "showgrid": false,
         "showticklabels": false,
         "tickformat": "s",
         "tickmode": "array",
         "ticks": "",
         "tickvals": [
          2000,
          4000,
          6000,
          8000
         ]
        },
        "yaxis27": {
         "anchor": "x27",
         "domain": [
          0,
          0.32666666666666666
         ],
         "matches": "y19",
         "showgrid": false,
         "showticklabels": false,
         "tickformat": "s",
         "tickmode": "array",
         "ticks": "",
         "tickvals": [
          2000,
          4000,
          6000,
          8000
         ]
        },
        "yaxis3": {
         "anchor": "x3",
         "domain": [
          0.6733333333333333,
          1
         ],
         "matches": "y19",
         "showgrid": false,
         "showticklabels": false,
         "tickformat": "s",
         "tickmode": "array",
         "ticks": "",
         "tickvals": [
          2000,
          4000,
          6000,
          8000
         ]
        },
        "yaxis4": {
         "anchor": "x4",
         "domain": [
          0.6733333333333333,
          1
         ],
         "matches": "y19",
         "showgrid": false,
         "showticklabels": false,
         "tickformat": "s",
         "tickmode": "array",
         "ticks": "",
         "tickvals": [
          2000,
          4000,
          6000,
          8000
         ]
        },
        "yaxis5": {
         "anchor": "x5",
         "domain": [
          0.6733333333333333,
          1
         ],
         "matches": "y19",
         "showgrid": false,
         "showticklabels": false,
         "tickformat": "s",
         "tickmode": "array",
         "ticks": "",
         "tickvals": [
          2000,
          4000,
          6000,
          8000
         ]
        },
        "yaxis6": {
         "anchor": "x6",
         "domain": [
          0.6733333333333333,
          1
         ],
         "matches": "y19",
         "showgrid": false,
         "showticklabels": false,
         "tickformat": "s",
         "tickmode": "array",
         "ticks": "",
         "tickvals": [
          2000,
          4000,
          6000,
          8000
         ]
        },
        "yaxis7": {
         "anchor": "x7",
         "domain": [
          0.6733333333333333,
          1
         ],
         "matches": "y19",
         "showgrid": false,
         "showticklabels": false,
         "tickformat": "s",
         "tickmode": "array",
         "ticks": "",
         "tickvals": [
          2000,
          4000,
          6000,
          8000
         ]
        },
        "yaxis8": {
         "anchor": "x8",
         "domain": [
          0.6733333333333333,
          1
         ],
         "matches": "y19",
         "showgrid": false,
         "showticklabels": false,
         "tickformat": "s",
         "tickmode": "array",
         "tickvals": [
          2000,
          4000,
          6000,
          8000
         ]
        },
        "yaxis9": {
         "anchor": "x9",
         "domain": [
          0.6733333333333333,
          1
         ],
         "matches": "y19",
         "showgrid": false,
         "showticklabels": false,
         "tickformat": "s",
         "tickmode": "array",
         "ticks": "",
         "tickvals": [
          2000,
          4000,
          6000,
          8000
         ]
        }
       }
      },
      "text/html": [
       "<div>                            <div id=\"9e7bd1a3-7e4c-46eb-88d6-d6c92748b1dc\" class=\"plotly-graph-div\" style=\"height:400px; width:1800px;\"></div>            <script type=\"text/javascript\">                require([\"plotly\"], function(Plotly) {                    window.PLOTLYENV=window.PLOTLYENV || {};                                    if (document.getElementById(\"9e7bd1a3-7e4c-46eb-88d6-d6c92748b1dc\")) {                    Plotly.newPlot(                        \"9e7bd1a3-7e4c-46eb-88d6-d6c92748b1dc\",                        [{\"marker\":{\"color\":\"#e53237\"},\"name\":\"G4\",\"showlegend\":true,\"textposition\":\"outside\",\"texttemplate\":\"%{y:,d}\",\"width\":1,\"x\":[\"G4\"],\"y\":[1405],\"type\":\"bar\",\"xaxis\":\"x\",\"yaxis\":\"y\"},{\"marker\":{\"color\":\"#0064d1\"},\"name\":\"Z-DNA\",\"showlegend\":true,\"textposition\":\"outside\",\"texttemplate\":\"%{y:,d}\",\"width\":1,\"x\":[\"Z-DNA\"],\"y\":[630],\"type\":\"bar\",\"xaxis\":\"x\",\"yaxis\":\"y\"},{\"marker\":{\"color\":\"#f5af01\"},\"name\":\"SIDD\",\"showlegend\":true,\"textposition\":\"outside\",\"texttemplate\":\"%{y:,d}\",\"width\":1,\"x\":[\"SIDD\"],\"y\":[209],\"type\":\"bar\",\"xaxis\":\"x\",\"yaxis\":\"y\"},{\"marker\":{\"color\":\"#86b818\"},\"name\":\"H-DNA\",\"showlegend\":true,\"textposition\":\"outside\",\"texttemplate\":\"%{y:,d}\",\"width\":1,\"x\":[\"H-DNA\"],\"y\":[113],\"type\":\"bar\",\"xaxis\":\"x\",\"yaxis\":\"y\"},{\"marker\":{\"color\":\"#e53237\"},\"name\":\"G4\",\"showlegend\":false,\"textposition\":\"outside\",\"texttemplate\":\"%{y:,d}\",\"width\":1,\"x\":[\"G4\"],\"y\":[121],\"type\":\"bar\",\"xaxis\":\"x2\",\"yaxis\":\"y2\"},{\"marker\":{\"color\":\"#0064d1\"},\"name\":\"Z-DNA\",\"showlegend\":false,\"textposition\":\"outside\",\"texttemplate\":\"%{y:,d}\",\"width\":1,\"x\":[\"Z-DNA\"],\"y\":[60],\"type\":\"bar\",\"xaxis\":\"x2\",\"yaxis\":\"y2\"},{\"marker\":{\"color\":\"#f5af01\"},\"name\":\"SIDD\",\"showlegend\":false,\"textposition\":\"outside\",\"texttemplate\":\"%{y:,d}\",\"width\":1,\"x\":[\"SIDD\"],\"y\":[53],\"type\":\"bar\",\"xaxis\":\"x2\",\"yaxis\":\"y2\"},{\"marker\":{\"color\":\"#86b818\"},\"name\":\"H-DNA\",\"showlegend\":false,\"textposition\":\"outside\",\"texttemplate\":\"%{y:,d}\",\"width\":1,\"x\":[\"H-DNA\"],\"y\":[14],\"type\":\"bar\",\"xaxis\":\"x2\",\"yaxis\":\"y2\"},{\"marker\":{\"color\":\"#e53237\"},\"name\":\"G4\",\"showlegend\":false,\"textposition\":\"outside\",\"texttemplate\":\"%{y:,d}\",\"width\":1,\"x\":[\"G4\"],\"y\":[52],\"type\":\"bar\",\"xaxis\":\"x3\",\"yaxis\":\"y3\"},{\"marker\":{\"color\":\"#0064d1\"},\"name\":\"Z-DNA\",\"showlegend\":false,\"textposition\":\"outside\",\"texttemplate\":\"%{y:,d}\",\"width\":1,\"x\":[\"Z-DNA\"],\"y\":[38],\"type\":\"bar\",\"xaxis\":\"x3\",\"yaxis\":\"y3\"},{\"marker\":{\"color\":\"#f5af01\"},\"name\":\"SIDD\",\"showlegend\":false,\"textposition\":\"outside\",\"texttemplate\":\"%{y:,d}\",\"width\":1,\"x\":[\"SIDD\"],\"y\":[28],\"type\":\"bar\",\"xaxis\":\"x3\",\"yaxis\":\"y3\"},{\"marker\":{\"color\":\"#86b818\"},\"name\":\"H-DNA\",\"showlegend\":false,\"textposition\":\"outside\",\"texttemplate\":\"%{y:,d}\",\"width\":1,\"x\":[\"H-DNA\"],\"y\":[12],\"type\":\"bar\",\"xaxis\":\"x3\",\"yaxis\":\"y3\"},{\"marker\":{\"color\":\"#0064d1\"},\"name\":\"Z-DNA\",\"showlegend\":false,\"textposition\":\"outside\",\"texttemplate\":\"%{y:,d}\",\"width\":1,\"x\":[\"Z-DNA\"],\"y\":[1.0],\"type\":\"bar\",\"xaxis\":\"x4\",\"yaxis\":\"y4\"},{\"marker\":{\"color\":\"#f5af01\"},\"name\":\"SIDD\",\"showlegend\":false,\"textposition\":\"outside\",\"texttemplate\":\"%{y:,d}\",\"width\":1,\"x\":[\"SIDD\"],\"y\":[1.0],\"type\":\"bar\",\"xaxis\":\"x4\",\"yaxis\":\"y4\"},{\"marker\":{\"color\":\"#e53237\"},\"name\":\"G4\",\"showlegend\":false,\"textposition\":\"outside\",\"texttemplate\":\"%{y:,d}\",\"width\":1,\"x\":[\"G4\"],\"y\":[22.0],\"type\":\"bar\",\"xaxis\":\"x5\",\"yaxis\":\"y5\"},{\"marker\":{\"color\":\"#0064d1\"},\"name\":\"Z-DNA\",\"showlegend\":false,\"textposition\":\"outside\",\"texttemplate\":\"%{y:,d}\",\"width\":1,\"x\":[\"Z-DNA\"],\"y\":[20.0],\"type\":\"bar\",\"xaxis\":\"x5\",\"yaxis\":\"y5\"},{\"marker\":{\"color\":\"#f5af01\"},\"name\":\"SIDD\",\"showlegend\":false,\"textposition\":\"outside\",\"texttemplate\":\"%{y:,d}\",\"width\":1,\"x\":[\"SIDD\"],\"y\":[7.0],\"type\":\"bar\",\"xaxis\":\"x5\",\"yaxis\":\"y5\"},{\"marker\":{\"color\":\"#e53237\"},\"name\":\"G4\",\"showlegend\":false,\"textposition\":\"outside\",\"texttemplate\":\"%{y:,d}\",\"width\":1,\"x\":[\"G4\"],\"y\":[142],\"type\":\"bar\",\"xaxis\":\"x6\",\"yaxis\":\"y6\"},{\"marker\":{\"color\":\"#0064d1\"},\"name\":\"Z-DNA\",\"showlegend\":false,\"textposition\":\"outside\",\"texttemplate\":\"%{y:,d}\",\"width\":1,\"x\":[\"Z-DNA\"],\"y\":[73],\"type\":\"bar\",\"xaxis\":\"x6\",\"yaxis\":\"y6\"},{\"marker\":{\"color\":\"#f5af01\"},\"name\":\"SIDD\",\"showlegend\":false,\"textposition\":\"outside\",\"texttemplate\":\"%{y:,d}\",\"width\":1,\"x\":[\"SIDD\"],\"y\":[75],\"type\":\"bar\",\"xaxis\":\"x6\",\"yaxis\":\"y6\"},{\"marker\":{\"color\":\"#86b818\"},\"name\":\"H-DNA\",\"showlegend\":false,\"textposition\":\"outside\",\"texttemplate\":\"%{y:,d}\",\"width\":1,\"x\":[\"H-DNA\"],\"y\":[36],\"type\":\"bar\",\"xaxis\":\"x6\",\"yaxis\":\"y6\"},{\"marker\":{\"color\":\"#e53237\"},\"name\":\"G4\",\"showlegend\":false,\"textposition\":\"outside\",\"texttemplate\":\"%{y:,d}\",\"width\":1,\"x\":[\"G4\"],\"y\":[28],\"type\":\"bar\",\"xaxis\":\"x7\",\"yaxis\":\"y7\"},{\"marker\":{\"color\":\"#0064d1\"},\"name\":\"Z-DNA\",\"showlegend\":false,\"textposition\":\"outside\",\"texttemplate\":\"%{y:,d}\",\"width\":1,\"x\":[\"Z-DNA\"],\"y\":[7],\"type\":\"bar\",\"xaxis\":\"x7\",\"yaxis\":\"y7\"},{\"marker\":{\"color\":\"#f5af01\"},\"name\":\"SIDD\",\"showlegend\":false,\"textposition\":\"outside\",\"texttemplate\":\"%{y:,d}\",\"width\":1,\"x\":[\"SIDD\"],\"y\":[20],\"type\":\"bar\",\"xaxis\":\"x7\",\"yaxis\":\"y7\"},{\"marker\":{\"color\":\"#86b818\"},\"name\":\"H-DNA\",\"showlegend\":false,\"textposition\":\"outside\",\"texttemplate\":\"%{y:,d}\",\"width\":1,\"x\":[\"H-DNA\"],\"y\":[4],\"type\":\"bar\",\"xaxis\":\"x7\",\"yaxis\":\"y7\"},{\"marker\":{\"color\":\"#e53237\"},\"name\":\"G4\",\"showlegend\":false,\"textposition\":\"outside\",\"texttemplate\":\"%{y:,d}\",\"width\":1,\"x\":[\"G4\"],\"y\":[132],\"type\":\"bar\",\"xaxis\":\"x9\",\"yaxis\":\"y9\"},{\"marker\":{\"color\":\"#0064d1\"},\"name\":\"Z-DNA\",\"showlegend\":false,\"textposition\":\"outside\",\"texttemplate\":\"%{y:,d}\",\"width\":1,\"x\":[\"Z-DNA\"],\"y\":[55],\"type\":\"bar\",\"xaxis\":\"x9\",\"yaxis\":\"y9\"},{\"marker\":{\"color\":\"#f5af01\"},\"name\":\"SIDD\",\"showlegend\":false,\"textposition\":\"outside\",\"texttemplate\":\"%{y:,d}\",\"width\":1,\"x\":[\"SIDD\"],\"y\":[61],\"type\":\"bar\",\"xaxis\":\"x9\",\"yaxis\":\"y9\"},{\"marker\":{\"color\":\"#86b818\"},\"name\":\"H-DNA\",\"showlegend\":false,\"textposition\":\"outside\",\"texttemplate\":\"%{y:,d}\",\"width\":1,\"x\":[\"H-DNA\"],\"y\":[26],\"type\":\"bar\",\"xaxis\":\"x9\",\"yaxis\":\"y9\"},{\"marker\":{\"color\":\"#e53237\"},\"name\":\"G4\",\"showlegend\":false,\"textposition\":\"outside\",\"texttemplate\":\"%{y:,d}\",\"width\":1,\"x\":[\"G4\"],\"y\":[1227],\"type\":\"bar\",\"xaxis\":\"x10\",\"yaxis\":\"y10\"},{\"marker\":{\"color\":\"#0064d1\"},\"name\":\"Z-DNA\",\"showlegend\":false,\"textposition\":\"outside\",\"texttemplate\":\"%{y:,d}\",\"width\":1,\"x\":[\"Z-DNA\"],\"y\":[698],\"type\":\"bar\",\"xaxis\":\"x10\",\"yaxis\":\"y10\"},{\"marker\":{\"color\":\"#f5af01\"},\"name\":\"SIDD\",\"showlegend\":false,\"textposition\":\"outside\",\"texttemplate\":\"%{y:,d}\",\"width\":1,\"x\":[\"SIDD\"],\"y\":[162],\"type\":\"bar\",\"xaxis\":\"x10\",\"yaxis\":\"y10\"},{\"marker\":{\"color\":\"#86b818\"},\"name\":\"H-DNA\",\"showlegend\":false,\"textposition\":\"outside\",\"texttemplate\":\"%{y:,d}\",\"width\":1,\"x\":[\"H-DNA\"],\"y\":[80],\"type\":\"bar\",\"xaxis\":\"x10\",\"yaxis\":\"y10\"},{\"marker\":{\"color\":\"#e53237\"},\"name\":\"G4\",\"showlegend\":false,\"textposition\":\"outside\",\"texttemplate\":\"%{y:,d}\",\"width\":1,\"x\":[\"G4\"],\"y\":[87],\"type\":\"bar\",\"xaxis\":\"x11\",\"yaxis\":\"y11\"},{\"marker\":{\"color\":\"#0064d1\"},\"name\":\"Z-DNA\",\"showlegend\":false,\"textposition\":\"outside\",\"texttemplate\":\"%{y:,d}\",\"width\":1,\"x\":[\"Z-DNA\"],\"y\":[58],\"type\":\"bar\",\"xaxis\":\"x11\",\"yaxis\":\"y11\"},{\"marker\":{\"color\":\"#f5af01\"},\"name\":\"SIDD\",\"showlegend\":false,\"textposition\":\"outside\",\"texttemplate\":\"%{y:,d}\",\"width\":1,\"x\":[\"SIDD\"],\"y\":[30],\"type\":\"bar\",\"xaxis\":\"x11\",\"yaxis\":\"y11\"},{\"marker\":{\"color\":\"#86b818\"},\"name\":\"H-DNA\",\"showlegend\":false,\"textposition\":\"outside\",\"texttemplate\":\"%{y:,d}\",\"width\":1,\"x\":[\"H-DNA\"],\"y\":[8],\"type\":\"bar\",\"xaxis\":\"x11\",\"yaxis\":\"y11\"},{\"marker\":{\"color\":\"#e53237\"},\"name\":\"G4\",\"showlegend\":false,\"textposition\":\"outside\",\"texttemplate\":\"%{y:,d}\",\"width\":1,\"x\":[\"G4\"],\"y\":[35],\"type\":\"bar\",\"xaxis\":\"x12\",\"yaxis\":\"y12\"},{\"marker\":{\"color\":\"#0064d1\"},\"name\":\"Z-DNA\",\"showlegend\":false,\"textposition\":\"outside\",\"texttemplate\":\"%{y:,d}\",\"width\":1,\"x\":[\"Z-DNA\"],\"y\":[20],\"type\":\"bar\",\"xaxis\":\"x12\",\"yaxis\":\"y12\"},{\"marker\":{\"color\":\"#f5af01\"},\"name\":\"SIDD\",\"showlegend\":false,\"textposition\":\"outside\",\"texttemplate\":\"%{y:,d}\",\"width\":1,\"x\":[\"SIDD\"],\"y\":[14],\"type\":\"bar\",\"xaxis\":\"x12\",\"yaxis\":\"y12\"},{\"marker\":{\"color\":\"#86b818\"},\"name\":\"H-DNA\",\"showlegend\":false,\"textposition\":\"outside\",\"texttemplate\":\"%{y:,d}\",\"width\":1,\"x\":[\"H-DNA\"],\"y\":[4],\"type\":\"bar\",\"xaxis\":\"x12\",\"yaxis\":\"y12\"},{\"marker\":{\"color\":\"#e53237\"},\"name\":\"G4\",\"showlegend\":false,\"textposition\":\"outside\",\"texttemplate\":\"%{y:,d}\",\"width\":1,\"x\":[\"G4\"],\"y\":[1.0],\"type\":\"bar\",\"xaxis\":\"x13\",\"yaxis\":\"y13\"},{\"marker\":{\"color\":\"#e53237\"},\"name\":\"G4\",\"showlegend\":false,\"textposition\":\"outside\",\"texttemplate\":\"%{y:,d}\",\"width\":1,\"x\":[\"G4\"],\"y\":[10.0],\"type\":\"bar\",\"xaxis\":\"x14\",\"yaxis\":\"y14\"},{\"marker\":{\"color\":\"#0064d1\"},\"name\":\"Z-DNA\",\"showlegend\":false,\"textposition\":\"outside\",\"texttemplate\":\"%{y:,d}\",\"width\":1,\"x\":[\"Z-DNA\"],\"y\":[24.0],\"type\":\"bar\",\"xaxis\":\"x14\",\"yaxis\":\"y14\"},{\"marker\":{\"color\":\"#f5af01\"},\"name\":\"SIDD\",\"showlegend\":false,\"textposition\":\"outside\",\"texttemplate\":\"%{y:,d}\",\"width\":1,\"x\":[\"SIDD\"],\"y\":[2.0],\"type\":\"bar\",\"xaxis\":\"x14\",\"yaxis\":\"y14\"},{\"marker\":{\"color\":\"#e53237\"},\"name\":\"G4\",\"showlegend\":false,\"textposition\":\"outside\",\"texttemplate\":\"%{y:,d}\",\"width\":1,\"x\":[\"G4\"],\"y\":[61],\"type\":\"bar\",\"xaxis\":\"x15\",\"yaxis\":\"y15\"},{\"marker\":{\"color\":\"#0064d1\"},\"name\":\"Z-DNA\",\"showlegend\":false,\"textposition\":\"outside\",\"texttemplate\":\"%{y:,d}\",\"width\":1,\"x\":[\"Z-DNA\"],\"y\":[27],\"type\":\"bar\",\"xaxis\":\"x15\",\"yaxis\":\"y15\"},{\"marker\":{\"color\":\"#f5af01\"},\"name\":\"SIDD\",\"showlegend\":false,\"textposition\":\"outside\",\"texttemplate\":\"%{y:,d}\",\"width\":1,\"x\":[\"SIDD\"],\"y\":[26],\"type\":\"bar\",\"xaxis\":\"x15\",\"yaxis\":\"y15\"},{\"marker\":{\"color\":\"#86b818\"},\"name\":\"H-DNA\",\"showlegend\":false,\"textposition\":\"outside\",\"texttemplate\":\"%{y:,d}\",\"width\":1,\"x\":[\"H-DNA\"],\"y\":[17],\"type\":\"bar\",\"xaxis\":\"x15\",\"yaxis\":\"y15\"},{\"marker\":{\"color\":\"#e53237\"},\"name\":\"G4\",\"showlegend\":false,\"textposition\":\"outside\",\"texttemplate\":\"%{y:,d}\",\"width\":1,\"x\":[\"G4\"],\"y\":[14.0],\"type\":\"bar\",\"xaxis\":\"x16\",\"yaxis\":\"y16\"},{\"marker\":{\"color\":\"#0064d1\"},\"name\":\"Z-DNA\",\"showlegend\":false,\"textposition\":\"outside\",\"texttemplate\":\"%{y:,d}\",\"width\":1,\"x\":[\"Z-DNA\"],\"y\":[7.0],\"type\":\"bar\",\"xaxis\":\"x16\",\"yaxis\":\"y16\"},{\"marker\":{\"color\":\"#f5af01\"},\"name\":\"SIDD\",\"showlegend\":false,\"textposition\":\"outside\",\"texttemplate\":\"%{y:,d}\",\"width\":1,\"x\":[\"SIDD\"],\"y\":[8.0],\"type\":\"bar\",\"xaxis\":\"x16\",\"yaxis\":\"y16\"},{\"marker\":{\"color\":\"#e53237\"},\"name\":\"G4\",\"showlegend\":false,\"textposition\":\"outside\",\"texttemplate\":\"%{y:,d}\",\"width\":1,\"x\":[\"G4\"],\"y\":[1.0],\"type\":\"bar\",\"xaxis\":\"x17\",\"yaxis\":\"y17\"},{\"marker\":{\"color\":\"#f5af01\"},\"name\":\"SIDD\",\"showlegend\":false,\"textposition\":\"outside\",\"texttemplate\":\"%{y:,d}\",\"width\":1,\"x\":[\"SIDD\"],\"y\":[1.0],\"type\":\"bar\",\"xaxis\":\"x17\",\"yaxis\":\"y17\"},{\"marker\":{\"color\":\"#e53237\"},\"name\":\"G4\",\"showlegend\":false,\"textposition\":\"outside\",\"texttemplate\":\"%{y:,d}\",\"width\":1,\"x\":[\"G4\"],\"y\":[75],\"type\":\"bar\",\"xaxis\":\"x18\",\"yaxis\":\"y18\"},{\"marker\":{\"color\":\"#0064d1\"},\"name\":\"Z-DNA\",\"showlegend\":false,\"textposition\":\"outside\",\"texttemplate\":\"%{y:,d}\",\"width\":1,\"x\":[\"Z-DNA\"],\"y\":[36],\"type\":\"bar\",\"xaxis\":\"x18\",\"yaxis\":\"y18\"},{\"marker\":{\"color\":\"#f5af01\"},\"name\":\"SIDD\",\"showlegend\":false,\"textposition\":\"outside\",\"texttemplate\":\"%{y:,d}\",\"width\":1,\"x\":[\"SIDD\"],\"y\":[21],\"type\":\"bar\",\"xaxis\":\"x18\",\"yaxis\":\"y18\"},{\"marker\":{\"color\":\"#86b818\"},\"name\":\"H-DNA\",\"showlegend\":false,\"textposition\":\"outside\",\"texttemplate\":\"%{y:,d}\",\"width\":1,\"x\":[\"H-DNA\"],\"y\":[9],\"type\":\"bar\",\"xaxis\":\"x18\",\"yaxis\":\"y18\"},{\"marker\":{\"color\":\"#e53237\"},\"name\":\"G4\",\"showlegend\":false,\"textposition\":\"outside\",\"texttemplate\":\"%{y:,d}\",\"width\":1,\"x\":[\"G4\"],\"y\":[86],\"type\":\"bar\",\"xaxis\":\"x19\",\"yaxis\":\"y19\"},{\"marker\":{\"color\":\"#0064d1\"},\"name\":\"Z-DNA\",\"showlegend\":false,\"textposition\":\"outside\",\"texttemplate\":\"%{y:,d}\",\"width\":1,\"x\":[\"Z-DNA\"],\"y\":[99],\"type\":\"bar\",\"xaxis\":\"x19\",\"yaxis\":\"y19\"},{\"marker\":{\"color\":\"#f5af01\"},\"name\":\"SIDD\",\"showlegend\":false,\"textposition\":\"outside\",\"texttemplate\":\"%{y:,d}\",\"width\":1,\"x\":[\"SIDD\"],\"y\":[424],\"type\":\"bar\",\"xaxis\":\"x19\",\"yaxis\":\"y19\"},{\"marker\":{\"color\":\"#86b818\"},\"name\":\"H-DNA\",\"showlegend\":false,\"textposition\":\"outside\",\"texttemplate\":\"%{y:,d}\",\"width\":1,\"x\":[\"H-DNA\"],\"y\":[42],\"type\":\"bar\",\"xaxis\":\"x19\",\"yaxis\":\"y19\"},{\"marker\":{\"color\":\"#e53237\"},\"name\":\"G4\",\"showlegend\":false,\"textposition\":\"outside\",\"texttemplate\":\"%{y:,d}\",\"width\":1,\"x\":[\"G4\"],\"y\":[107],\"type\":\"bar\",\"xaxis\":\"x20\",\"yaxis\":\"y20\"},{\"marker\":{\"color\":\"#0064d1\"},\"name\":\"Z-DNA\",\"showlegend\":false,\"textposition\":\"outside\",\"texttemplate\":\"%{y:,d}\",\"width\":1,\"x\":[\"Z-DNA\"],\"y\":[65],\"type\":\"bar\",\"xaxis\":\"x20\",\"yaxis\":\"y20\"},{\"marker\":{\"color\":\"#f5af01\"},\"name\":\"SIDD\",\"showlegend\":false,\"textposition\":\"outside\",\"texttemplate\":\"%{y:,d}\",\"width\":1,\"x\":[\"SIDD\"],\"y\":[430],\"type\":\"bar\",\"xaxis\":\"x20\",\"yaxis\":\"y20\"},{\"marker\":{\"color\":\"#86b818\"},\"name\":\"H-DNA\",\"showlegend\":false,\"textposition\":\"outside\",\"texttemplate\":\"%{y:,d}\",\"width\":1,\"x\":[\"H-DNA\"],\"y\":[57],\"type\":\"bar\",\"xaxis\":\"x20\",\"yaxis\":\"y20\"},{\"marker\":{\"color\":\"#e53237\"},\"name\":\"G4\",\"showlegend\":false,\"textposition\":\"outside\",\"texttemplate\":\"%{y:,d}\",\"width\":1,\"x\":[\"G4\"],\"y\":[110],\"type\":\"bar\",\"xaxis\":\"x21\",\"yaxis\":\"y21\"},{\"marker\":{\"color\":\"#0064d1\"},\"name\":\"Z-DNA\",\"showlegend\":false,\"textposition\":\"outside\",\"texttemplate\":\"%{y:,d}\",\"width\":1,\"x\":[\"Z-DNA\"],\"y\":[95],\"type\":\"bar\",\"xaxis\":\"x21\",\"yaxis\":\"y21\"},{\"marker\":{\"color\":\"#f5af01\"},\"name\":\"SIDD\",\"showlegend\":false,\"textposition\":\"outside\",\"texttemplate\":\"%{y:,d}\",\"width\":1,\"x\":[\"SIDD\"],\"y\":[372],\"type\":\"bar\",\"xaxis\":\"x21\",\"yaxis\":\"y21\"},{\"marker\":{\"color\":\"#86b818\"},\"name\":\"H-DNA\",\"showlegend\":false,\"textposition\":\"outside\",\"texttemplate\":\"%{y:,d}\",\"width\":1,\"x\":[\"H-DNA\"],\"y\":[65],\"type\":\"bar\",\"xaxis\":\"x21\",\"yaxis\":\"y21\"},{\"marker\":{\"color\":\"#e53237\"},\"name\":\"G4\",\"showlegend\":false,\"textposition\":\"outside\",\"texttemplate\":\"%{y:,d}\",\"width\":1,\"x\":[\"G4\"],\"y\":[8.0],\"type\":\"bar\",\"xaxis\":\"x23\",\"yaxis\":\"y23\"},{\"marker\":{\"color\":\"#0064d1\"},\"name\":\"Z-DNA\",\"showlegend\":false,\"textposition\":\"outside\",\"texttemplate\":\"%{y:,d}\",\"width\":1,\"x\":[\"Z-DNA\"],\"y\":[5.0],\"type\":\"bar\",\"xaxis\":\"x23\",\"yaxis\":\"y23\"},{\"marker\":{\"color\":\"#f5af01\"},\"name\":\"SIDD\",\"showlegend\":false,\"textposition\":\"outside\",\"texttemplate\":\"%{y:,d}\",\"width\":1,\"x\":[\"SIDD\"],\"y\":[46.0],\"type\":\"bar\",\"xaxis\":\"x23\",\"yaxis\":\"y23\"},{\"marker\":{\"color\":\"#e53237\"},\"name\":\"G4\",\"showlegend\":false,\"textposition\":\"outside\",\"texttemplate\":\"%{y:,d}\",\"width\":1,\"x\":[\"G4\"],\"y\":[896],\"type\":\"bar\",\"xaxis\":\"x24\",\"yaxis\":\"y24\"},{\"marker\":{\"color\":\"#0064d1\"},\"name\":\"Z-DNA\",\"showlegend\":false,\"textposition\":\"outside\",\"texttemplate\":\"%{y:,d}\",\"width\":1,\"x\":[\"Z-DNA\"],\"y\":[635],\"type\":\"bar\",\"xaxis\":\"x24\",\"yaxis\":\"y24\"},{\"marker\":{\"color\":\"#f5af01\"},\"name\":\"SIDD\",\"showlegend\":false,\"textposition\":\"outside\",\"texttemplate\":\"%{y:,d}\",\"width\":1,\"x\":[\"SIDD\"],\"y\":[3312],\"type\":\"bar\",\"xaxis\":\"x24\",\"yaxis\":\"y24\"},{\"marker\":{\"color\":\"#86b818\"},\"name\":\"H-DNA\",\"showlegend\":false,\"textposition\":\"outside\",\"texttemplate\":\"%{y:,d}\",\"width\":1,\"x\":[\"H-DNA\"],\"y\":[441],\"type\":\"bar\",\"xaxis\":\"x24\",\"yaxis\":\"y24\"},{\"marker\":{\"color\":\"#e53237\"},\"name\":\"G4\",\"showlegend\":false,\"textposition\":\"outside\",\"texttemplate\":\"%{y:,d}\",\"width\":1,\"x\":[\"G4\"],\"y\":[9],\"type\":\"bar\",\"xaxis\":\"x25\",\"yaxis\":\"y25\"},{\"marker\":{\"color\":\"#0064d1\"},\"name\":\"Z-DNA\",\"showlegend\":false,\"textposition\":\"outside\",\"texttemplate\":\"%{y:,d}\",\"width\":1,\"x\":[\"Z-DNA\"],\"y\":[11],\"type\":\"bar\",\"xaxis\":\"x25\",\"yaxis\":\"y25\"},{\"marker\":{\"color\":\"#f5af01\"},\"name\":\"SIDD\",\"showlegend\":false,\"textposition\":\"outside\",\"texttemplate\":\"%{y:,d}\",\"width\":1,\"x\":[\"SIDD\"],\"y\":[48],\"type\":\"bar\",\"xaxis\":\"x25\",\"yaxis\":\"y25\"},{\"marker\":{\"color\":\"#86b818\"},\"name\":\"H-DNA\",\"showlegend\":false,\"textposition\":\"outside\",\"texttemplate\":\"%{y:,d}\",\"width\":1,\"x\":[\"H-DNA\"],\"y\":[8],\"type\":\"bar\",\"xaxis\":\"x25\",\"yaxis\":\"y25\"},{\"marker\":{\"color\":\"#e53237\"},\"name\":\"G4\",\"showlegend\":false,\"textposition\":\"outside\",\"texttemplate\":\"%{y:,d}\",\"width\":1,\"x\":[\"G4\"],\"y\":[2],\"type\":\"bar\",\"xaxis\":\"x26\",\"yaxis\":\"y26\"},{\"marker\":{\"color\":\"#0064d1\"},\"name\":\"Z-DNA\",\"showlegend\":false,\"textposition\":\"outside\",\"texttemplate\":\"%{y:,d}\",\"width\":1,\"x\":[\"Z-DNA\"],\"y\":[1],\"type\":\"bar\",\"xaxis\":\"x26\",\"yaxis\":\"y26\"},{\"marker\":{\"color\":\"#f5af01\"},\"name\":\"SIDD\",\"showlegend\":false,\"textposition\":\"outside\",\"texttemplate\":\"%{y:,d}\",\"width\":1,\"x\":[\"SIDD\"],\"y\":[10],\"type\":\"bar\",\"xaxis\":\"x26\",\"yaxis\":\"y26\"},{\"marker\":{\"color\":\"#86b818\"},\"name\":\"H-DNA\",\"showlegend\":false,\"textposition\":\"outside\",\"texttemplate\":\"%{y:,d}\",\"width\":1,\"x\":[\"H-DNA\"],\"y\":[1],\"type\":\"bar\",\"xaxis\":\"x26\",\"yaxis\":\"y26\"},{\"marker\":{\"color\":\"#e53237\"},\"name\":\"G4\",\"showlegend\":false,\"textposition\":\"outside\",\"texttemplate\":\"%{y:,d}\",\"width\":1,\"x\":[\"G4\"],\"y\":[2000],\"type\":\"bar\",\"xaxis\":\"x27\",\"yaxis\":\"y27\"},{\"marker\":{\"color\":\"#0064d1\"},\"name\":\"Z-DNA\",\"showlegend\":false,\"textposition\":\"outside\",\"texttemplate\":\"%{y:,d}\",\"width\":1,\"x\":[\"Z-DNA\"],\"y\":[1435],\"type\":\"bar\",\"xaxis\":\"x27\",\"yaxis\":\"y27\"},{\"marker\":{\"color\":\"#f5af01\"},\"name\":\"SIDD\",\"showlegend\":false,\"textposition\":\"inside\",\"texttemplate\":\"%{y:,d}\",\"width\":1,\"x\":[\"SIDD\"],\"y\":[8141],\"type\":\"bar\",\"xaxis\":\"x27\",\"yaxis\":\"y27\"},{\"marker\":{\"color\":\"#86b818\"},\"name\":\"H-DNA\",\"showlegend\":false,\"textposition\":\"outside\",\"texttemplate\":\"%{y:,d}\",\"width\":1,\"x\":[\"H-DNA\"],\"y\":[962],\"type\":\"bar\",\"xaxis\":\"x27\",\"yaxis\":\"y27\"}],                        {\"template\":{\"data\":{\"histogram2dcontour\":[{\"type\":\"histogram2dcontour\",\"colorbar\":{\"outlinewidth\":0,\"ticks\":\"\"},\"colorscale\":[[0.0,\"#0d0887\"],[0.1111111111111111,\"#46039f\"],[0.2222222222222222,\"#7201a8\"],[0.3333333333333333,\"#9c179e\"],[0.4444444444444444,\"#bd3786\"],[0.5555555555555556,\"#d8576b\"],[0.6666666666666666,\"#ed7953\"],[0.7777777777777778,\"#fb9f3a\"],[0.8888888888888888,\"#fdca26\"],[1.0,\"#f0f921\"]]}],\"choropleth\":[{\"type\":\"choropleth\",\"colorbar\":{\"outlinewidth\":0,\"ticks\":\"\"}}],\"histogram2d\":[{\"type\":\"histogram2d\",\"colorbar\":{\"outlinewidth\":0,\"ticks\":\"\"},\"colorscale\":[[0.0,\"#0d0887\"],[0.1111111111111111,\"#46039f\"],[0.2222222222222222,\"#7201a8\"],[0.3333333333333333,\"#9c179e\"],[0.4444444444444444,\"#bd3786\"],[0.5555555555555556,\"#d8576b\"],[0.6666666666666666,\"#ed7953\"],[0.7777777777777778,\"#fb9f3a\"],[0.8888888888888888,\"#fdca26\"],[1.0,\"#f0f921\"]]}],\"heatmap\":[{\"type\":\"heatmap\",\"colorbar\":{\"outlinewidth\":0,\"ticks\":\"\"},\"colorscale\":[[0.0,\"#0d0887\"],[0.1111111111111111,\"#46039f\"],[0.2222222222222222,\"#7201a8\"],[0.3333333333333333,\"#9c179e\"],[0.4444444444444444,\"#bd3786\"],[0.5555555555555556,\"#d8576b\"],[0.6666666666666666,\"#ed7953\"],[0.7777777777777778,\"#fb9f3a\"],[0.8888888888888888,\"#fdca26\"],[1.0,\"#f0f921\"]]}],\"heatmapgl\":[{\"type\":\"heatmapgl\",\"colorbar\":{\"outlinewidth\":0,\"ticks\":\"\"},\"colorscale\":[[0.0,\"#0d0887\"],[0.1111111111111111,\"#46039f\"],[0.2222222222222222,\"#7201a8\"],[0.3333333333333333,\"#9c179e\"],[0.4444444444444444,\"#bd3786\"],[0.5555555555555556,\"#d8576b\"],[0.6666666666666666,\"#ed7953\"],[0.7777777777777778,\"#fb9f3a\"],[0.8888888888888888,\"#fdca26\"],[1.0,\"#f0f921\"]]}],\"contourcarpet\":[{\"type\":\"contourcarpet\",\"colorbar\":{\"outlinewidth\":0,\"ticks\":\"\"}}],\"contour\":[{\"type\":\"contour\",\"colorbar\":{\"outlinewidth\":0,\"ticks\":\"\"},\"colorscale\":[[0.0,\"#0d0887\"],[0.1111111111111111,\"#46039f\"],[0.2222222222222222,\"#7201a8\"],[0.3333333333333333,\"#9c179e\"],[0.4444444444444444,\"#bd3786\"],[0.5555555555555556,\"#d8576b\"],[0.6666666666666666,\"#ed7953\"],[0.7777777777777778,\"#fb9f3a\"],[0.8888888888888888,\"#fdca26\"],[1.0,\"#f0f921\"]]}],\"surface\":[{\"type\":\"surface\",\"colorbar\":{\"outlinewidth\":0,\"ticks\":\"\"},\"colorscale\":[[0.0,\"#0d0887\"],[0.1111111111111111,\"#46039f\"],[0.2222222222222222,\"#7201a8\"],[0.3333333333333333,\"#9c179e\"],[0.4444444444444444,\"#bd3786\"],[0.5555555555555556,\"#d8576b\"],[0.6666666666666666,\"#ed7953\"],[0.7777777777777778,\"#fb9f3a\"],[0.8888888888888888,\"#fdca26\"],[1.0,\"#f0f921\"]]}],\"mesh3d\":[{\"type\":\"mesh3d\",\"colorbar\":{\"outlinewidth\":0,\"ticks\":\"\"}}],\"scatter\":[{\"fillpattern\":{\"fillmode\":\"overlay\",\"size\":10,\"solidity\":0.2},\"type\":\"scatter\"}],\"parcoords\":[{\"type\":\"parcoords\",\"line\":{\"colorbar\":{\"outlinewidth\":0,\"ticks\":\"\"}}}],\"scatterpolargl\":[{\"type\":\"scatterpolargl\",\"marker\":{\"colorbar\":{\"outlinewidth\":0,\"ticks\":\"\"}}}],\"bar\":[{\"error_x\":{\"color\":\"#2a3f5f\"},\"error_y\":{\"color\":\"#2a3f5f\"},\"marker\":{\"line\":{\"color\":\"#E5ECF6\",\"width\":0.5},\"pattern\":{\"fillmode\":\"overlay\",\"size\":10,\"solidity\":0.2}},\"type\":\"bar\"}],\"scattergeo\":[{\"type\":\"scattergeo\",\"marker\":{\"colorbar\":{\"outlinewidth\":0,\"ticks\":\"\"}}}],\"scatterpolar\":[{\"type\":\"scatterpolar\",\"marker\":{\"colorbar\":{\"outlinewidth\":0,\"ticks\":\"\"}}}],\"histogram\":[{\"marker\":{\"pattern\":{\"fillmode\":\"overlay\",\"size\":10,\"solidity\":0.2}},\"type\":\"histogram\"}],\"scattergl\":[{\"type\":\"scattergl\",\"marker\":{\"colorbar\":{\"outlinewidth\":0,\"ticks\":\"\"}}}],\"scatter3d\":[{\"type\":\"scatter3d\",\"line\":{\"colorbar\":{\"outlinewidth\":0,\"ticks\":\"\"}},\"marker\":{\"colorbar\":{\"outlinewidth\":0,\"ticks\":\"\"}}}],\"scattermapbox\":[{\"type\":\"scattermapbox\",\"marker\":{\"colorbar\":{\"outlinewidth\":0,\"ticks\":\"\"}}}],\"scatterternary\":[{\"type\":\"scatterternary\",\"marker\":{\"colorbar\":{\"outlinewidth\":0,\"ticks\":\"\"}}}],\"scattercarpet\":[{\"type\":\"scattercarpet\",\"marker\":{\"colorbar\":{\"outlinewidth\":0,\"ticks\":\"\"}}}],\"carpet\":[{\"aaxis\":{\"endlinecolor\":\"#2a3f5f\",\"gridcolor\":\"white\",\"linecolor\":\"white\",\"minorgridcolor\":\"white\",\"startlinecolor\":\"#2a3f5f\"},\"baxis\":{\"endlinecolor\":\"#2a3f5f\",\"gridcolor\":\"white\",\"linecolor\":\"white\",\"minorgridcolor\":\"white\",\"startlinecolor\":\"#2a3f5f\"},\"type\":\"carpet\"}],\"table\":[{\"cells\":{\"fill\":{\"color\":\"#EBF0F8\"},\"line\":{\"color\":\"white\"}},\"header\":{\"fill\":{\"color\":\"#C8D4E3\"},\"line\":{\"color\":\"white\"}},\"type\":\"table\"}],\"barpolar\":[{\"marker\":{\"line\":{\"color\":\"#E5ECF6\",\"width\":0.5},\"pattern\":{\"fillmode\":\"overlay\",\"size\":10,\"solidity\":0.2}},\"type\":\"barpolar\"}],\"pie\":[{\"automargin\":true,\"type\":\"pie\"}]},\"layout\":{\"autotypenumbers\":\"strict\",\"colorway\":[\"#636efa\",\"#EF553B\",\"#00cc96\",\"#ab63fa\",\"#FFA15A\",\"#19d3f3\",\"#FF6692\",\"#B6E880\",\"#FF97FF\",\"#FECB52\"],\"font\":{\"color\":\"#2a3f5f\"},\"hovermode\":\"closest\",\"hoverlabel\":{\"align\":\"left\"},\"paper_bgcolor\":\"white\",\"plot_bgcolor\":\"#E5ECF6\",\"polar\":{\"bgcolor\":\"#E5ECF6\",\"angularaxis\":{\"gridcolor\":\"white\",\"linecolor\":\"white\",\"ticks\":\"\"},\"radialaxis\":{\"gridcolor\":\"white\",\"linecolor\":\"white\",\"ticks\":\"\"}},\"ternary\":{\"bgcolor\":\"#E5ECF6\",\"aaxis\":{\"gridcolor\":\"white\",\"linecolor\":\"white\",\"ticks\":\"\"},\"baxis\":{\"gridcolor\":\"white\",\"linecolor\":\"white\",\"ticks\":\"\"},\"caxis\":{\"gridcolor\":\"white\",\"linecolor\":\"white\",\"ticks\":\"\"}},\"coloraxis\":{\"colorbar\":{\"outlinewidth\":0,\"ticks\":\"\"}},\"colorscale\":{\"sequential\":[[0.0,\"#0d0887\"],[0.1111111111111111,\"#46039f\"],[0.2222222222222222,\"#7201a8\"],[0.3333333333333333,\"#9c179e\"],[0.4444444444444444,\"#bd3786\"],[0.5555555555555556,\"#d8576b\"],[0.6666666666666666,\"#ed7953\"],[0.7777777777777778,\"#fb9f3a\"],[0.8888888888888888,\"#fdca26\"],[1.0,\"#f0f921\"]],\"sequentialminus\":[[0.0,\"#0d0887\"],[0.1111111111111111,\"#46039f\"],[0.2222222222222222,\"#7201a8\"],[0.3333333333333333,\"#9c179e\"],[0.4444444444444444,\"#bd3786\"],[0.5555555555555556,\"#d8576b\"],[0.6666666666666666,\"#ed7953\"],[0.7777777777777778,\"#fb9f3a\"],[0.8888888888888888,\"#fdca26\"],[1.0,\"#f0f921\"]],\"diverging\":[[0,\"#8e0152\"],[0.1,\"#c51b7d\"],[0.2,\"#de77ae\"],[0.3,\"#f1b6da\"],[0.4,\"#fde0ef\"],[0.5,\"#f7f7f7\"],[0.6,\"#e6f5d0\"],[0.7,\"#b8e186\"],[0.8,\"#7fbc41\"],[0.9,\"#4d9221\"],[1,\"#276419\"]]},\"xaxis\":{\"gridcolor\":\"white\",\"linecolor\":\"white\",\"ticks\":\"\",\"title\":{\"standoff\":15},\"zerolinecolor\":\"white\",\"automargin\":true,\"zerolinewidth\":2},\"yaxis\":{\"gridcolor\":\"white\",\"linecolor\":\"white\",\"ticks\":\"\",\"title\":{\"standoff\":15},\"zerolinecolor\":\"white\",\"automargin\":true,\"zerolinewidth\":2},\"scene\":{\"xaxis\":{\"backgroundcolor\":\"#E5ECF6\",\"gridcolor\":\"white\",\"linecolor\":\"white\",\"showbackground\":true,\"ticks\":\"\",\"zerolinecolor\":\"white\",\"gridwidth\":2},\"yaxis\":{\"backgroundcolor\":\"#E5ECF6\",\"gridcolor\":\"white\",\"linecolor\":\"white\",\"showbackground\":true,\"ticks\":\"\",\"zerolinecolor\":\"white\",\"gridwidth\":2},\"zaxis\":{\"backgroundcolor\":\"#E5ECF6\",\"gridcolor\":\"white\",\"linecolor\":\"white\",\"showbackground\":true,\"ticks\":\"\",\"zerolinecolor\":\"white\",\"gridwidth\":2}},\"shapedefaults\":{\"line\":{\"color\":\"#2a3f5f\"}},\"annotationdefaults\":{\"arrowcolor\":\"#2a3f5f\",\"arrowhead\":0,\"arrowwidth\":1},\"geo\":{\"bgcolor\":\"white\",\"landcolor\":\"#E5ECF6\",\"subunitcolor\":\"white\",\"showland\":true,\"showlakes\":true,\"lakecolor\":\"white\"},\"title\":{\"x\":0.05},\"mapbox\":{\"style\":\"light\"}}},\"xaxis\":{\"anchor\":\"y\",\"domain\":[0.0,0.10533333333333333],\"matches\":\"x19\",\"showticklabels\":false,\"type\":\"category\",\"visible\":false},\"yaxis\":{\"anchor\":\"x\",\"domain\":[0.6733333333333333,1.0],\"matches\":\"y19\",\"ticks\":\"outside\",\"tickformat\":\"s\",\"showgrid\":false,\"tickmode\":\"array\",\"tickvals\":[2000.0,4000.0,6000.0,8000.0]},\"xaxis2\":{\"anchor\":\"y2\",\"domain\":[0.10933333333333334,0.21466666666666667],\"matches\":\"x19\",\"showticklabels\":false,\"type\":\"category\",\"visible\":false},\"yaxis2\":{\"anchor\":\"x2\",\"domain\":[0.6733333333333333,1.0],\"matches\":\"y19\",\"showticklabels\":false,\"ticks\":\"\",\"tickformat\":\"s\",\"showgrid\":false,\"tickmode\":\"array\",\"tickvals\":[2000.0,4000.0,6000.0,8000.0]},\"xaxis3\":{\"anchor\":\"y3\",\"domain\":[0.21866666666666668,0.324],\"matches\":\"x19\",\"showticklabels\":false,\"type\":\"category\",\"visible\":false},\"yaxis3\":{\"anchor\":\"x3\",\"domain\":[0.6733333333333333,1.0],\"matches\":\"y19\",\"showticklabels\":false,\"ticks\":\"\",\"tickformat\":\"s\",\"showgrid\":false,\"tickmode\":\"array\",\"tickvals\":[2000.0,4000.0,6000.0,8000.0]},\"xaxis4\":{\"anchor\":\"y4\",\"domain\":[0.328,0.43333333333333335],\"matches\":\"x19\",\"showticklabels\":false,\"type\":\"category\",\"visible\":false},\"yaxis4\":{\"anchor\":\"x4\",\"domain\":[0.6733333333333333,1.0],\"matches\":\"y19\",\"showticklabels\":false,\"ticks\":\"\",\"tickformat\":\"s\",\"showgrid\":false,\"tickmode\":\"array\",\"tickvals\":[2000.0,4000.0,6000.0,8000.0]},\"xaxis5\":{\"anchor\":\"y5\",\"domain\":[0.43733333333333335,0.5426666666666666],\"matches\":\"x19\",\"showticklabels\":false,\"type\":\"category\",\"visible\":false},\"yaxis5\":{\"anchor\":\"x5\",\"domain\":[0.6733333333333333,1.0],\"matches\":\"y19\",\"showticklabels\":false,\"ticks\":\"\",\"tickformat\":\"s\",\"showgrid\":false,\"tickmode\":\"array\",\"tickvals\":[2000.0,4000.0,6000.0,8000.0]},\"xaxis6\":{\"anchor\":\"y6\",\"domain\":[0.5466666666666666,0.6519999999999999],\"matches\":\"x19\",\"showticklabels\":false,\"type\":\"category\",\"visible\":false},\"yaxis6\":{\"anchor\":\"x6\",\"domain\":[0.6733333333333333,1.0],\"matches\":\"y19\",\"showticklabels\":false,\"ticks\":\"\",\"tickformat\":\"s\",\"showgrid\":false,\"tickmode\":\"array\",\"tickvals\":[2000.0,4000.0,6000.0,8000.0]},\"xaxis7\":{\"anchor\":\"y7\",\"domain\":[0.6559999999999999,0.7613333333333332],\"matches\":\"x19\",\"showticklabels\":false,\"type\":\"category\",\"visible\":false},\"yaxis7\":{\"anchor\":\"x7\",\"domain\":[0.6733333333333333,1.0],\"matches\":\"y19\",\"showticklabels\":false,\"ticks\":\"\",\"tickformat\":\"s\",\"showgrid\":false,\"tickmode\":\"array\",\"tickvals\":[2000.0,4000.0,6000.0,8000.0]},\"xaxis8\":{\"anchor\":\"y8\",\"domain\":[0.7653333333333332,0.8706666666666665],\"matches\":\"x19\",\"showticklabels\":false,\"type\":\"category\",\"visible\":false},\"yaxis8\":{\"anchor\":\"x8\",\"domain\":[0.6733333333333333,1.0],\"matches\":\"y19\",\"showticklabels\":false,\"tickformat\":\"s\",\"showgrid\":false,\"tickmode\":\"array\",\"tickvals\":[2000.0,4000.0,6000.0,8000.0]},\"xaxis9\":{\"anchor\":\"y9\",\"domain\":[0.8746666666666665,0.9799999999999998],\"matches\":\"x19\",\"showticklabels\":false,\"type\":\"category\",\"visible\":false},\"yaxis9\":{\"anchor\":\"x9\",\"domain\":[0.6733333333333333,1.0],\"matches\":\"y19\",\"showticklabels\":false,\"ticks\":\"\",\"tickformat\":\"s\",\"showgrid\":false,\"tickmode\":\"array\",\"tickvals\":[2000.0,4000.0,6000.0,8000.0]},\"xaxis10\":{\"anchor\":\"y10\",\"domain\":[0.0,0.10533333333333333],\"matches\":\"x19\",\"showticklabels\":false,\"type\":\"category\",\"visible\":false},\"yaxis10\":{\"anchor\":\"x10\",\"domain\":[0.33666666666666667,0.6633333333333333],\"matches\":\"y19\",\"ticks\":\"outside\",\"tickformat\":\"s\",\"showgrid\":false,\"tickmode\":\"array\",\"tickvals\":[2000.0,4000.0,6000.0,8000.0]},\"xaxis11\":{\"anchor\":\"y11\",\"domain\":[0.10933333333333334,0.21466666666666667],\"matches\":\"x19\",\"showticklabels\":false,\"type\":\"category\",\"visible\":false},\"yaxis11\":{\"anchor\":\"x11\",\"domain\":[0.33666666666666667,0.6633333333333333],\"matches\":\"y19\",\"showticklabels\":false,\"ticks\":\"\",\"tickformat\":\"s\",\"showgrid\":false,\"tickmode\":\"array\",\"tickvals\":[2000.0,4000.0,6000.0,8000.0]},\"xaxis12\":{\"anchor\":\"y12\",\"domain\":[0.21866666666666668,0.324],\"matches\":\"x19\",\"showticklabels\":false,\"type\":\"category\",\"visible\":false},\"yaxis12\":{\"anchor\":\"x12\",\"domain\":[0.33666666666666667,0.6633333333333333],\"matches\":\"y19\",\"showticklabels\":false,\"ticks\":\"\",\"tickformat\":\"s\",\"showgrid\":false,\"tickmode\":\"array\",\"tickvals\":[2000.0,4000.0,6000.0,8000.0]},\"xaxis13\":{\"anchor\":\"y13\",\"domain\":[0.328,0.43333333333333335],\"matches\":\"x19\",\"showticklabels\":false,\"type\":\"category\",\"visible\":false},\"yaxis13\":{\"anchor\":\"x13\",\"domain\":[0.33666666666666667,0.6633333333333333],\"matches\":\"y19\",\"showticklabels\":false,\"ticks\":\"\",\"tickformat\":\"s\",\"showgrid\":false,\"tickmode\":\"array\",\"tickvals\":[2000.0,4000.0,6000.0,8000.0]},\"xaxis14\":{\"anchor\":\"y14\",\"domain\":[0.43733333333333335,0.5426666666666666],\"matches\":\"x19\",\"showticklabels\":false,\"type\":\"category\",\"visible\":false},\"yaxis14\":{\"anchor\":\"x14\",\"domain\":[0.33666666666666667,0.6633333333333333],\"matches\":\"y19\",\"showticklabels\":false,\"ticks\":\"\",\"tickformat\":\"s\",\"showgrid\":false,\"tickmode\":\"array\",\"tickvals\":[2000.0,4000.0,6000.0,8000.0]},\"xaxis15\":{\"anchor\":\"y15\",\"domain\":[0.5466666666666666,0.6519999999999999],\"matches\":\"x19\",\"showticklabels\":false,\"type\":\"category\",\"visible\":false},\"yaxis15\":{\"anchor\":\"x15\",\"domain\":[0.33666666666666667,0.6633333333333333],\"matches\":\"y19\",\"showticklabels\":false,\"ticks\":\"\",\"tickformat\":\"s\",\"showgrid\":false,\"tickmode\":\"array\",\"tickvals\":[2000.0,4000.0,6000.0,8000.0]},\"xaxis16\":{\"anchor\":\"y16\",\"domain\":[0.6559999999999999,0.7613333333333332],\"matches\":\"x19\",\"showticklabels\":false,\"type\":\"category\",\"visible\":false},\"yaxis16\":{\"anchor\":\"x16\",\"domain\":[0.33666666666666667,0.6633333333333333],\"matches\":\"y19\",\"showticklabels\":false,\"ticks\":\"\",\"tickformat\":\"s\",\"showgrid\":false,\"tickmode\":\"array\",\"tickvals\":[2000.0,4000.0,6000.0,8000.0]},\"xaxis17\":{\"anchor\":\"y17\",\"domain\":[0.7653333333333332,0.8706666666666665],\"matches\":\"x19\",\"showticklabels\":false,\"type\":\"category\",\"visible\":false},\"yaxis17\":{\"anchor\":\"x17\",\"domain\":[0.33666666666666667,0.6633333333333333],\"matches\":\"y19\",\"showticklabels\":false,\"ticks\":\"\",\"tickformat\":\"s\",\"showgrid\":false,\"tickmode\":\"array\",\"tickvals\":[2000.0,4000.0,6000.0,8000.0]},\"xaxis18\":{\"anchor\":\"y18\",\"domain\":[0.8746666666666665,0.9799999999999998],\"matches\":\"x19\",\"showticklabels\":false,\"type\":\"category\",\"visible\":false},\"yaxis18\":{\"anchor\":\"x18\",\"domain\":[0.33666666666666667,0.6633333333333333],\"matches\":\"y19\",\"showticklabels\":false,\"ticks\":\"\",\"tickformat\":\"s\",\"showgrid\":false,\"tickmode\":\"array\",\"tickvals\":[2000.0,4000.0,6000.0,8000.0]},\"xaxis19\":{\"anchor\":\"y19\",\"domain\":[0.0,0.10533333333333333],\"type\":\"category\",\"visible\":false},\"yaxis19\":{\"anchor\":\"x19\",\"domain\":[0.0,0.32666666666666666],\"ticks\":\"outside\",\"tickformat\":\"s\",\"showgrid\":false,\"tickmode\":\"array\",\"tickvals\":[2000.0,4000.0,6000.0,8000.0]},\"xaxis20\":{\"anchor\":\"y20\",\"domain\":[0.10933333333333334,0.21466666666666667],\"matches\":\"x19\",\"type\":\"category\",\"visible\":false},\"yaxis20\":{\"anchor\":\"x20\",\"domain\":[0.0,0.32666666666666666],\"matches\":\"y19\",\"showticklabels\":false,\"ticks\":\"\",\"tickformat\":\"s\",\"showgrid\":false,\"tickmode\":\"array\",\"tickvals\":[2000.0,4000.0,6000.0,8000.0]},\"xaxis21\":{\"anchor\":\"y21\",\"domain\":[0.21866666666666668,0.324],\"matches\":\"x19\",\"type\":\"category\",\"visible\":false},\"yaxis21\":{\"anchor\":\"x21\",\"domain\":[0.0,0.32666666666666666],\"matches\":\"y19\",\"showticklabels\":false,\"ticks\":\"\",\"tickformat\":\"s\",\"showgrid\":false,\"tickmode\":\"array\",\"tickvals\":[2000.0,4000.0,6000.0,8000.0]},\"xaxis22\":{\"anchor\":\"y22\",\"domain\":[0.328,0.43333333333333335],\"matches\":\"x19\",\"type\":\"category\",\"visible\":false},\"yaxis22\":{\"anchor\":\"x22\",\"domain\":[0.0,0.32666666666666666],\"matches\":\"y19\",\"showticklabels\":false,\"tickformat\":\"s\",\"showgrid\":false,\"tickmode\":\"array\",\"tickvals\":[2000.0,4000.0,6000.0,8000.0]},\"xaxis23\":{\"anchor\":\"y23\",\"domain\":[0.43733333333333335,0.5426666666666666],\"matches\":\"x19\",\"type\":\"category\",\"visible\":false},\"yaxis23\":{\"anchor\":\"x23\",\"domain\":[0.0,0.32666666666666666],\"matches\":\"y19\",\"showticklabels\":false,\"ticks\":\"\",\"tickformat\":\"s\",\"showgrid\":false,\"tickmode\":\"array\",\"tickvals\":[2000.0,4000.0,6000.0,8000.0]},\"xaxis24\":{\"anchor\":\"y24\",\"domain\":[0.5466666666666666,0.6519999999999999],\"matches\":\"x19\",\"type\":\"category\",\"visible\":false},\"yaxis24\":{\"anchor\":\"x24\",\"domain\":[0.0,0.32666666666666666],\"matches\":\"y19\",\"showticklabels\":false,\"ticks\":\"\",\"tickformat\":\"s\",\"showgrid\":false,\"tickmode\":\"array\",\"tickvals\":[2000.0,4000.0,6000.0,8000.0]},\"xaxis25\":{\"anchor\":\"y25\",\"domain\":[0.6559999999999999,0.7613333333333332],\"matches\":\"x19\",\"type\":\"category\",\"visible\":false},\"yaxis25\":{\"anchor\":\"x25\",\"domain\":[0.0,0.32666666666666666],\"matches\":\"y19\",\"showticklabels\":false,\"ticks\":\"\",\"tickformat\":\"s\",\"showgrid\":false,\"tickmode\":\"array\",\"tickvals\":[2000.0,4000.0,6000.0,8000.0]},\"xaxis26\":{\"anchor\":\"y26\",\"domain\":[0.7653333333333332,0.8706666666666665],\"matches\":\"x19\",\"type\":\"category\",\"visible\":false},\"yaxis26\":{\"anchor\":\"x26\",\"domain\":[0.0,0.32666666666666666],\"matches\":\"y19\",\"showticklabels\":false,\"ticks\":\"\",\"tickformat\":\"s\",\"showgrid\":false,\"tickmode\":\"array\",\"tickvals\":[2000.0,4000.0,6000.0,8000.0]},\"xaxis27\":{\"anchor\":\"y27\",\"domain\":[0.8746666666666665,0.9799999999999998],\"matches\":\"x19\",\"type\":\"category\",\"visible\":false},\"yaxis27\":{\"anchor\":\"x27\",\"domain\":[0.0,0.32666666666666666],\"matches\":\"y19\",\"showticklabels\":false,\"ticks\":\"\",\"tickformat\":\"s\",\"showgrid\":false,\"tickmode\":\"array\",\"tickvals\":[2000.0,4000.0,6000.0,8000.0]},\"annotations\":[{\"font\":{\"size\":16},\"showarrow\":false,\"text\":\"Promoter (<=1kb)\",\"x\":0.05266666666666667,\"xanchor\":\"center\",\"xref\":\"paper\",\"y\":1.0,\"yanchor\":\"bottom\",\"yref\":\"paper\",\"textangle\":0,\"align\":\"left\"},{\"font\":{\"size\":16},\"showarrow\":false,\"text\":\"Promoter (1-2kb)\",\"x\":0.162,\"xanchor\":\"center\",\"xref\":\"paper\",\"y\":1.0,\"yanchor\":\"bottom\",\"yref\":\"paper\",\"textangle\":0,\"align\":\"left\"},{\"font\":{\"size\":16},\"showarrow\":false,\"text\":\"Promoter (2-3kb)\",\"x\":0.2713333333333333,\"xanchor\":\"center\",\"xref\":\"paper\",\"y\":1.0,\"yanchor\":\"bottom\",\"yref\":\"paper\",\"textangle\":0,\"align\":\"left\"},{\"font\":{\"size\":16},\"showarrow\":false,\"text\":\"5' UTR\",\"x\":0.3806666666666667,\"xanchor\":\"center\",\"xref\":\"paper\",\"y\":1.0,\"yanchor\":\"bottom\",\"yref\":\"paper\",\"textangle\":0,\"align\":\"left\"},{\"font\":{\"size\":16},\"showarrow\":false,\"text\":\"Exon\",\"x\":0.49,\"xanchor\":\"center\",\"xref\":\"paper\",\"y\":1.0,\"yanchor\":\"bottom\",\"yref\":\"paper\",\"textangle\":0,\"align\":\"left\"},{\"font\":{\"size\":16},\"showarrow\":false,\"text\":\"Intron\",\"x\":0.5993333333333333,\"xanchor\":\"center\",\"xref\":\"paper\",\"y\":1.0,\"yanchor\":\"bottom\",\"yref\":\"paper\",\"textangle\":0,\"align\":\"left\"},{\"font\":{\"size\":16},\"showarrow\":false,\"text\":\"3' UTR\",\"x\":0.7086666666666666,\"xanchor\":\"center\",\"xref\":\"paper\",\"y\":1.0,\"yanchor\":\"bottom\",\"yref\":\"paper\",\"textangle\":0,\"align\":\"left\"},{\"font\":{\"size\":16},\"showarrow\":false,\"text\":\"Downstream (<=300bp)\",\"x\":0.8179999999999998,\"xanchor\":\"center\",\"xref\":\"paper\",\"y\":1.0,\"yanchor\":\"bottom\",\"yref\":\"paper\",\"textangle\":0,\"align\":\"left\"},{\"font\":{\"size\":16},\"showarrow\":false,\"text\":\"Distal Intergenic\",\"x\":0.9273333333333331,\"xanchor\":\"center\",\"xref\":\"paper\",\"y\":1.0,\"yanchor\":\"bottom\",\"yref\":\"paper\",\"textangle\":0,\"align\":\"left\"},{\"font\":{\"size\":16},\"showarrow\":false,\"text\":\"cCRE\",\"textangle\":0,\"x\":0.9799999999999998,\"xanchor\":\"left\",\"xref\":\"paper\",\"y\":0.8366666666666667,\"yanchor\":\"middle\",\"yref\":\"paper\",\"align\":\"left\"},{\"font\":{\"size\":16},\"showarrow\":false,\"text\":\"cCRE & CTCF\",\"textangle\":0,\"x\":0.9799999999999998,\"xanchor\":\"left\",\"xref\":\"paper\",\"y\":0.5,\"yanchor\":\"middle\",\"yref\":\"paper\",\"align\":\"left\"},{\"font\":{\"size\":16},\"showarrow\":false,\"text\":\"LINE/LTR\",\"textangle\":0,\"x\":0.9799999999999998,\"xanchor\":\"left\",\"xref\":\"paper\",\"y\":0.16333333333333333,\"yanchor\":\"middle\",\"yref\":\"paper\",\"align\":\"left\"}],\"title\":{\"text\":\"<span style='font-size: 16px;'>Flipons & miRNAs (26,789)</span>\",\"x\":0.005,\"y\":0.97},\"font\":{\"family\":\"monospace\",\"size\":12},\"uniformtext\":{\"minsize\":12},\"margin\":{\"l\":5,\"t\":55,\"b\":5,\"r\":80},\"legend\":{\"font\":{\"size\":18},\"orientation\":\"h\",\"yanchor\":\"bottom\",\"y\":1.07,\"xanchor\":\"right\",\"x\":0.98},\"height\":400,\"width\":1800},                        {\"responsive\": true}                    ).then(function(){\n",
       "                            \n",
       "var gd = document.getElementById('9e7bd1a3-7e4c-46eb-88d6-d6c92748b1dc');\n",
       "var x = new MutationObserver(function (mutations, observer) {{\n",
       "        var display = window.getComputedStyle(gd).display;\n",
       "        if (!display || display === 'none') {{\n",
       "            console.log([gd, 'removed!']);\n",
       "            Plotly.purge(gd);\n",
       "            observer.disconnect();\n",
       "        }}\n",
       "}});\n",
       "\n",
       "// Listen for the removal of the full notebook cells\n",
       "var notebookContainer = gd.closest('#notebook-container');\n",
       "if (notebookContainer) {{\n",
       "    x.observe(notebookContainer, {childList: true});\n",
       "}}\n",
       "\n",
       "// Listen for the clearing of the current output cell\n",
       "var outputEl = gd.closest('.output');\n",
       "if (outputEl) {{\n",
       "    x.observe(outputEl, {childList: true});\n",
       "}}\n",
       "\n",
       "                        })                };                });            </script>        </div>"
      ]
     },
     "metadata": {},
     "output_type": "display_data"
    }
   ],
   "source": [
    "data_mirna = get_plotly_data(F_FLIPON_TO_DATA_MIRNA)\n",
    "plot_matrix(\n",
    "    groups,\n",
    "    annotations,\n",
    "    feature_groups,\n",
    "    plotly_data=data_mirna,\n",
    "    title=f\"Flipons & miRNAs ({data_mirna['count'].sum():,d})\",\n",
    "    height=400,\n",
    "    fig_title=\"Figure.draft.1d.png\",\n",
    ")\n"
   ]
  },
  {
   "cell_type": "code",
   "execution_count": null,
   "metadata": {},
   "outputs": [],
   "source": []
  }
 ],
 "metadata": {
  "kernelspec": {
   "display_name": "Python 3.11.0 ('mirna')",
   "language": "python",
   "name": "python3"
  },
  "language_info": {
   "codemirror_mode": {
    "name": "ipython",
    "version": 3
   },
   "file_extension": ".py",
   "mimetype": "text/x-python",
   "name": "python",
   "nbconvert_exporter": "python",
   "pygments_lexer": "ipython3",
   "version": "3.11.0 | packaged by conda-forge | (main, Oct 25 2022, 06:18:27) [GCC 10.4.0]"
  },
  "orig_nbformat": 4,
  "vscode": {
   "interpreter": {
    "hash": "aa4ca5e43b0b74394dc05f972f57eb4922712b4f4450a8ee4f1bf77784cf2ccc"
   }
  }
 },
 "nbformat": 4,
 "nbformat_minor": 2
}
