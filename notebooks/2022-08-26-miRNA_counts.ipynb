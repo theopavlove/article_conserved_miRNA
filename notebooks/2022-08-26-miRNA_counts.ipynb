{
 "cells": [
  {
   "cell_type": "markdown",
   "id": "f2670278-7f4f-4525-9b75-02186e690cbc",
   "metadata": {},
   "source": [
    "## Misc"
   ]
  },
  {
   "cell_type": "code",
   "execution_count": 1,
   "id": "a63fec90",
   "metadata": {},
   "outputs": [
    {
     "name": "stdout",
     "output_type": "stream",
     "text": [
      "Python 3.10.6\n",
      "\u001b[01;31m\u001b[Kbio\u001b[m\u001b[Kpython             1.79\n"
     ]
    }
   ],
   "source": [
    "!python3 --version\n",
    "!pip list | grep --color=auto bio"
   ]
  },
  {
   "cell_type": "code",
   "execution_count": 2,
   "id": "f582d0b9-bd7c-45cd-a936-66397ac69081",
   "metadata": {},
   "outputs": [],
   "source": [
    "import os\n",
    "import subprocess\n",
    "import numpy as np\n",
    "import pandas as pd\n",
    "\n",
    "from Bio import SeqIO\n",
    "from dataclasses import dataclass\n",
    "from tqdm.auto import tqdm, trange\n",
    "from collections import Counter\n"
   ]
  },
  {
   "cell_type": "code",
   "execution_count": 11,
   "id": "da19a74a-bd55-4bda-9ce5-b5e71c5f34d7",
   "metadata": {},
   "outputs": [],
   "source": [
    "d_root = \"/home/fed/GitHub/article_conserved_miRNA/\"\n",
    "d_data = f\"{d_root}/data\"\n",
    "d_utils = f\"{d_root}/utils\"\n",
    "\n",
    "# Input\n",
    "f_mirna_list = f\"{d_data}/miRNA_list.tsv\"\n",
    "f_flipon_to_gene_anno = f\"{d_data}/flipon_to_gene_anno.tsv\"\n",
    "f_sidd_to_gene = f\"{d_data}/sidd_to_gene.tsv\"\n",
    "f_ccre = f\"{d_data}/encodeCcreCombined.bed\"\n",
    "f_rmsk = f\"{d_data}/mm10_rmsk.txt.gz\"\n",
    "f_rmsk_line_ltr = f\"{d_data}/mm10_rmsk_line_ltr.bed\"\n",
    "f_h3k9ac = f\"{d_data}/GSM775313_H3K9Ac_s_3_sorted_unique.uplift.bed.gz\"\n",
    "f_h3k14ac = f\"{d_data}/GSM775314_H3K14Ac_13HH3_s_4_sorted.uplift.bed.gz\"\n",
    "\n",
    "# Output\n",
    "f_ccre_small = f\"{d_data}/ccre_small.bed\"\n",
    "f_flipon_to_data = f\"{d_data}/flipon_to_data.tsv\"\n",
    "f_plotly_ccre_vs_repeats_3 = f\"{d_root}/img/plotl_ccre_vs_repeats_3.html\"\n"
   ]
  },
  {
   "cell_type": "code",
   "execution_count": 4,
   "id": "3214aa1f-8626-430c-87db-a9db87a0232a",
   "metadata": {},
   "outputs": [],
   "source": [
    "@dataclass\n",
    "class Data:\n",
    "    name: str\n",
    "    path_fa: str\n",
    "    path_bed: str\n",
    "    path_bed_200: str\n",
    "    path_int_ccre: str = None\n",
    "    path_int_repeats: str = None\n",
    "\n",
    "\n",
    "flipon_data = [\n",
    "    Data(\n",
    "        \"sidd\",\n",
    "        f\"{d_data}/mm10_kouzine_ssDNA_fa/mm10_kouzine_actb_ssdna_enriched_sidd.fa\",\n",
    "        f\"{d_data}/mm10_kouzine_ssDNA_bed/mm10_kouzine_actb_ssdna_enriched_sidd.bed\",\n",
    "        f\"{d_data}/mm10_kouzine_ssDNA_bed/mm10_kouzine_actb_ssdna_enriched_sidd.slop200.bed\",\n",
    "    ),\n",
    "    Data(\n",
    "        \"z-dna\",\n",
    "        f\"{d_data}/mm10_kouzine_ssDNA_fa/mm10_kouzine_actb_ssdna_enriched_z-dna.fa\",\n",
    "        f\"{d_data}/mm10_kouzine_ssDNA_bed/mm10_kouzine_actb_ssdna_enriched_z-dna.bed\",\n",
    "        f\"{d_data}/mm10_kouzine_ssDNA_bed/mm10_kouzine_actb_ssdna_enriched_z-dna.slop200.bed\",\n",
    "    ),\n",
    "    Data(\n",
    "        \"quadruplex\",\n",
    "        f\"{d_data}/mm10_kouzine_ssDNA_fa/mm10_kouzine_actb_ssdna_enriched_quadruplex.fa\",\n",
    "        f\"{d_data}/mm10_kouzine_ssDNA_bed/mm10_kouzine_actb_ssdna_enriched_quadruplex.bed\",\n",
    "        f\"{d_data}/mm10_kouzine_ssDNA_bed/mm10_kouzine_actb_ssdna_enriched_quadruplex.slop200.bed\",\n",
    "    ),\n",
    "    Data(\n",
    "        \"h-dna\",\n",
    "        f\"{d_data}/mm10_kouzine_ssDNA_fa/mm10_kouzine_actb_ssdna_enriched_h-dna.fa\",\n",
    "        f\"{d_data}/mm10_kouzine_ssDNA_bed/mm10_kouzine_actb_ssdna_enriched_h-dna.bed\",\n",
    "        f\"{d_data}/mm10_kouzine_ssDNA_bed/mm10_kouzine_actb_ssdna_enriched_h-dna.slop200.bed\",\n",
    "    ),\n",
    "]\n"
   ]
  },
  {
   "cell_type": "markdown",
   "id": "5e95e6fd-fad9-4f72-b7f5-b01fd8581f02",
   "metadata": {},
   "source": [
    "## Data"
   ]
  },
  {
   "cell_type": "code",
   "execution_count": 5,
   "id": "a092de56-d3cd-48a8-95f5-374d0d97e2b6",
   "metadata": {},
   "outputs": [
    {
     "name": "stdout",
     "output_type": "stream",
     "text": [
      "(177, 5)\n"
     ]
    },
    {
     "data": {
      "text/html": [
       "<div>\n",
       "<style scoped>\n",
       "    .dataframe tbody tr th:only-of-type {\n",
       "        vertical-align: middle;\n",
       "    }\n",
       "\n",
       "    .dataframe tbody tr th {\n",
       "        vertical-align: top;\n",
       "    }\n",
       "\n",
       "    .dataframe thead th {\n",
       "        text-align: right;\n",
       "    }\n",
       "</style>\n",
       "<table border=\"1\" class=\"dataframe\">\n",
       "  <thead>\n",
       "    <tr style=\"text-align: right;\">\n",
       "      <th></th>\n",
       "      <th>Conservation</th>\n",
       "      <th>miRNA gene family</th>\n",
       "      <th># of genes</th>\n",
       "      <th>Seed region</th>\n",
       "      <th>Seed region (RC)</th>\n",
       "    </tr>\n",
       "  </thead>\n",
       "  <tbody>\n",
       "    <tr>\n",
       "      <th>10</th>\n",
       "      <td>Bilateria</td>\n",
       "      <td>miR-34/449</td>\n",
       "      <td>6</td>\n",
       "      <td>[GGCAGTG]</td>\n",
       "      <td>[CACTGCC]</td>\n",
       "    </tr>\n",
       "    <tr>\n",
       "      <th>11</th>\n",
       "      <td>Bilateria</td>\n",
       "      <td>miR-96/1271</td>\n",
       "      <td>2</td>\n",
       "      <td>[TTGGCAC]</td>\n",
       "      <td>[GTGCCAA]</td>\n",
       "    </tr>\n",
       "    <tr>\n",
       "      <th>12</th>\n",
       "      <td>Bilateria</td>\n",
       "      <td>miR-99/100</td>\n",
       "      <td>3</td>\n",
       "      <td>[ACCCGTA]</td>\n",
       "      <td>[TACGGGT]</td>\n",
       "    </tr>\n",
       "    <tr>\n",
       "      <th>13</th>\n",
       "      <td>Bilateria</td>\n",
       "      <td>miR-124</td>\n",
       "      <td>3</td>\n",
       "      <td>[AAGGCAC, TAAGGCA]</td>\n",
       "      <td>[GTGCCTT, TGCCTTA]</td>\n",
       "    </tr>\n",
       "    <tr>\n",
       "      <th>14</th>\n",
       "      <td>Bilateria</td>\n",
       "      <td>miR-125</td>\n",
       "      <td>3</td>\n",
       "      <td>[CCCTGAG]</td>\n",
       "      <td>[CTCAGGG]</td>\n",
       "    </tr>\n",
       "    <tr>\n",
       "      <th>15</th>\n",
       "      <td>Bilateria</td>\n",
       "      <td>miR-133</td>\n",
       "      <td>3</td>\n",
       "      <td>[TGGTCCC, TTGGTCC]</td>\n",
       "      <td>[GGGACCA, GGACCAA]</td>\n",
       "    </tr>\n",
       "    <tr>\n",
       "      <th>16</th>\n",
       "      <td>Bilateria</td>\n",
       "      <td>miR-153</td>\n",
       "      <td>2</td>\n",
       "      <td>[TGCATAG]</td>\n",
       "      <td>[CTATGCA]</td>\n",
       "    </tr>\n",
       "    <tr>\n",
       "      <th>17</th>\n",
       "      <td>Bilateria</td>\n",
       "      <td>miR-183</td>\n",
       "      <td>1</td>\n",
       "      <td>[ATGGCAC, TGGCACT]</td>\n",
       "      <td>[GTGCCAT, AGTGCCA]</td>\n",
       "    </tr>\n",
       "    <tr>\n",
       "      <th>18</th>\n",
       "      <td>Bilateria</td>\n",
       "      <td>miR-184</td>\n",
       "      <td>1</td>\n",
       "      <td>[GGACGGA]</td>\n",
       "      <td>[TCCGTCC]</td>\n",
       "    </tr>\n",
       "    <tr>\n",
       "      <th>19</th>\n",
       "      <td>Bilateria</td>\n",
       "      <td>miR-190</td>\n",
       "      <td>2</td>\n",
       "      <td>[GATATGT]</td>\n",
       "      <td>[ACATATC]</td>\n",
       "    </tr>\n",
       "  </tbody>\n",
       "</table>\n",
       "</div>"
      ],
      "text/plain": [
       "   Conservation miRNA gene family  # of genes         Seed region  \\\n",
       "10    Bilateria        miR-34/449           6           [GGCAGTG]   \n",
       "11    Bilateria       miR-96/1271           2           [TTGGCAC]   \n",
       "12    Bilateria        miR-99/100           3           [ACCCGTA]   \n",
       "13    Bilateria           miR-124           3  [AAGGCAC, TAAGGCA]   \n",
       "14    Bilateria           miR-125           3           [CCCTGAG]   \n",
       "15    Bilateria           miR-133           3  [TGGTCCC, TTGGTCC]   \n",
       "16    Bilateria           miR-153           2           [TGCATAG]   \n",
       "17    Bilateria           miR-183           1  [ATGGCAC, TGGCACT]   \n",
       "18    Bilateria           miR-184           1           [GGACGGA]   \n",
       "19    Bilateria           miR-190           2           [GATATGT]   \n",
       "\n",
       "      Seed region (RC)  \n",
       "10           [CACTGCC]  \n",
       "11           [GTGCCAA]  \n",
       "12           [TACGGGT]  \n",
       "13  [GTGCCTT, TGCCTTA]  \n",
       "14           [CTCAGGG]  \n",
       "15  [GGGACCA, GGACCAA]  \n",
       "16           [CTATGCA]  \n",
       "17  [GTGCCAT, AGTGCCA]  \n",
       "18           [TCCGTCC]  \n",
       "19           [ACATATC]  "
      ]
     },
     "execution_count": 5,
     "metadata": {},
     "output_type": "execute_result"
    }
   ],
   "source": [
    "def reverse_complement(x: str):\n",
    "    t_d = {\"A\": \"T\", \"C\": \"G\", \"T\": \"A\", \"G\": \"C\", \"N\": \"N\"}\n",
    "    return \"\".join([t_d[y] for y in x[::-1]])\n",
    "\n",
    "\n",
    "mirna_df = pd.read_table(f_mirna_list)\n",
    "\n",
    "mirna_df[\"Seed region\"] = mirna_df[\"Seed region\"].str.replace(\"U\", \"T\")\n",
    "mirna_df[\"Seed region\"] = mirna_df[\"Seed region\"].str.split(\", \")\n",
    "mirna_df[\"Seed region (RC)\"] = mirna_df[\"Seed region\"].apply(\n",
    "    lambda x: [reverse_complement(y) for y in x]\n",
    ")\n",
    "\n",
    "print(mirna_df.shape)\n",
    "mirna_df.iloc[10:20, :]\n"
   ]
  },
  {
   "cell_type": "markdown",
   "id": "86ba2ccd-51fe-4be5-a69f-e6eb4fb70682",
   "metadata": {},
   "source": [
    "## Map flipons to: miRNA"
   ]
  },
  {
   "cell_type": "code",
   "execution_count": 6,
   "id": "8b7f6fe8-1b57-4f17-85d6-2948a8ad7bb8",
   "metadata": {},
   "outputs": [
    {
     "data": {
      "application/vnd.jupyter.widget-view+json": {
       "model_id": "e785edfbd81c4505a1b1434279c5558b",
       "version_major": 2,
       "version_minor": 0
      },
      "text/plain": [
       "  0%|          | 0/4 [00:00<?, ?it/s]"
      ]
     },
     "metadata": {},
     "output_type": "display_data"
    },
    {
     "name": "stdout",
     "output_type": "stream",
     "text": [
      "sidd: 15,294 regions\n"
     ]
    },
    {
     "data": {
      "application/vnd.jupyter.widget-view+json": {
       "model_id": "1badd61e4f5b40e38ba39fe107f4bad5",
       "version_major": 2,
       "version_minor": 0
      },
      "text/plain": [
       "  0%|          | 0/15294 [00:00<?, ?it/s]"
      ]
     },
     "metadata": {},
     "output_type": "display_data"
    },
    {
     "name": "stdout",
     "output_type": "stream",
     "text": [
      "z-dna: 25,057 regions\n"
     ]
    },
    {
     "data": {
      "application/vnd.jupyter.widget-view+json": {
       "model_id": "2b6d9633653d4c8d8267dba16bba21ae",
       "version_major": 2,
       "version_minor": 0
      },
      "text/plain": [
       "  0%|          | 0/25057 [00:00<?, ?it/s]"
      ]
     },
     "metadata": {},
     "output_type": "display_data"
    },
    {
     "name": "stdout",
     "output_type": "stream",
     "text": [
      "quadruplex: 20,251 regions\n"
     ]
    },
    {
     "data": {
      "application/vnd.jupyter.widget-view+json": {
       "model_id": "54e7e12ae5da4dc4aae8d3d7d5d9891b",
       "version_major": 2,
       "version_minor": 0
      },
      "text/plain": [
       "  0%|          | 0/20251 [00:00<?, ?it/s]"
      ]
     },
     "metadata": {},
     "output_type": "display_data"
    },
    {
     "name": "stdout",
     "output_type": "stream",
     "text": [
      "h-dna: 17,098 regions\n"
     ]
    },
    {
     "data": {
      "application/vnd.jupyter.widget-view+json": {
       "model_id": "99432dcb23424b8a852ac1d5bdd60458",
       "version_major": 2,
       "version_minor": 0
      },
      "text/plain": [
       "  0%|          | 0/17098 [00:00<?, ?it/s]"
      ]
     },
     "metadata": {},
     "output_type": "display_data"
    },
    {
     "data": {
      "text/html": [
       "<div>\n",
       "<style scoped>\n",
       "    .dataframe tbody tr th:only-of-type {\n",
       "        vertical-align: middle;\n",
       "    }\n",
       "\n",
       "    .dataframe tbody tr th {\n",
       "        vertical-align: top;\n",
       "    }\n",
       "\n",
       "    .dataframe thead th {\n",
       "        text-align: right;\n",
       "    }\n",
       "</style>\n",
       "<table border=\"1\" class=\"dataframe\">\n",
       "  <thead>\n",
       "    <tr style=\"text-align: right;\">\n",
       "      <th></th>\n",
       "      <th>group</th>\n",
       "      <th>coordinates</th>\n",
       "      <th>miRNA (+ strand)</th>\n",
       "      <th>miRNA (- strand)</th>\n",
       "      <th>miRNA (intersection)</th>\n",
       "    </tr>\n",
       "  </thead>\n",
       "  <tbody>\n",
       "    <tr>\n",
       "      <th>0</th>\n",
       "      <td>sidd</td>\n",
       "      <td>chr10:100119606-100119743</td>\n",
       "      <td>miR-539, miR-670</td>\n",
       "      <td>miR-143, miR-186, miR-30</td>\n",
       "      <td></td>\n",
       "    </tr>\n",
       "    <tr>\n",
       "      <th>1</th>\n",
       "      <td>sidd</td>\n",
       "      <td>chr10:100146768-100146986</td>\n",
       "      <td>miR-155, miR-374</td>\n",
       "      <td>miR-448</td>\n",
       "      <td></td>\n",
       "    </tr>\n",
       "    <tr>\n",
       "      <th>2</th>\n",
       "      <td>sidd</td>\n",
       "      <td>chr10:100160840-100160994</td>\n",
       "      <td>miR-188, miR-204/211</td>\n",
       "      <td>miR-203a, miR-653</td>\n",
       "      <td></td>\n",
       "    </tr>\n",
       "    <tr>\n",
       "      <th>3</th>\n",
       "      <td>sidd</td>\n",
       "      <td>chr10:100192250-100192378</td>\n",
       "      <td>miR-15/16/195/424/497, miR-203a (2)</td>\n",
       "      <td></td>\n",
       "      <td></td>\n",
       "    </tr>\n",
       "    <tr>\n",
       "      <th>4</th>\n",
       "      <td>sidd</td>\n",
       "      <td>chr10:100401845-100402004</td>\n",
       "      <td></td>\n",
       "      <td>miR-101, miR-140</td>\n",
       "      <td></td>\n",
       "    </tr>\n",
       "    <tr>\n",
       "      <th>...</th>\n",
       "      <td>...</td>\n",
       "      <td>...</td>\n",
       "      <td>...</td>\n",
       "      <td>...</td>\n",
       "      <td>...</td>\n",
       "    </tr>\n",
       "    <tr>\n",
       "      <th>77695</th>\n",
       "      <td>h-dna</td>\n",
       "      <td>chrY:4200098-4200122</td>\n",
       "      <td></td>\n",
       "      <td></td>\n",
       "      <td></td>\n",
       "    </tr>\n",
       "    <tr>\n",
       "      <th>77696</th>\n",
       "      <td>h-dna</td>\n",
       "      <td>chrY:4208594-4208610</td>\n",
       "      <td></td>\n",
       "      <td></td>\n",
       "      <td></td>\n",
       "    </tr>\n",
       "    <tr>\n",
       "      <th>77697</th>\n",
       "      <td>h-dna</td>\n",
       "      <td>chrY:4223501-4223522</td>\n",
       "      <td></td>\n",
       "      <td></td>\n",
       "      <td></td>\n",
       "    </tr>\n",
       "    <tr>\n",
       "      <th>77698</th>\n",
       "      <td>h-dna</td>\n",
       "      <td>chrY:4231086-4231113</td>\n",
       "      <td></td>\n",
       "      <td></td>\n",
       "      <td></td>\n",
       "    </tr>\n",
       "    <tr>\n",
       "      <th>77699</th>\n",
       "      <td>h-dna</td>\n",
       "      <td>chrY:4235026-4235042</td>\n",
       "      <td></td>\n",
       "      <td></td>\n",
       "      <td></td>\n",
       "    </tr>\n",
       "  </tbody>\n",
       "</table>\n",
       "<p>77700 rows × 5 columns</p>\n",
       "</div>"
      ],
      "text/plain": [
       "       group                coordinates                     miRNA (+ strand)  \\\n",
       "0       sidd  chr10:100119606-100119743                     miR-539, miR-670   \n",
       "1       sidd  chr10:100146768-100146986                     miR-155, miR-374   \n",
       "2       sidd  chr10:100160840-100160994                 miR-188, miR-204/211   \n",
       "3       sidd  chr10:100192250-100192378  miR-15/16/195/424/497, miR-203a (2)   \n",
       "4       sidd  chr10:100401845-100402004                                        \n",
       "...      ...                        ...                                  ...   \n",
       "77695  h-dna       chrY:4200098-4200122                                        \n",
       "77696  h-dna       chrY:4208594-4208610                                        \n",
       "77697  h-dna       chrY:4223501-4223522                                        \n",
       "77698  h-dna       chrY:4231086-4231113                                        \n",
       "77699  h-dna       chrY:4235026-4235042                                        \n",
       "\n",
       "               miRNA (- strand) miRNA (intersection)  \n",
       "0      miR-143, miR-186, miR-30                       \n",
       "1                       miR-448                       \n",
       "2             miR-203a, miR-653                       \n",
       "3                                                     \n",
       "4              miR-101, miR-140                       \n",
       "...                         ...                  ...  \n",
       "77695                                                 \n",
       "77696                                                 \n",
       "77697                                                 \n",
       "77698                                                 \n",
       "77699                                                 \n",
       "\n",
       "[77700 rows x 5 columns]"
      ]
     },
     "execution_count": 6,
     "metadata": {},
     "output_type": "execute_result"
    }
   ],
   "source": [
    "flipons_to_mirna_df = pd.DataFrame()\n",
    "\n",
    "for flipon in tqdm(flipon_data):\n",
    "    shape: int\n",
    "    with open(flipon.path_bed, \"r\") as f_in:\n",
    "        shape = sum(1 for _ in f_in)\n",
    "    print(f\"{flipon.name}: {shape:,d} regions\")\n",
    "\n",
    "    fasta = list(SeqIO.parse(flipon.path_fa, \"fasta\"))\n",
    "    fasta_fwd_seq = [x.seq.upper() for x in fasta]\n",
    "\n",
    "    mirna_fams = mirna_df[\"miRNA gene family\"]\n",
    "    mirna_motiffs = mirna_df[\"Seed region\"]\n",
    "    mirna_rcm_motiffs = mirna_df[\"Seed region (RC)\"]\n",
    "\n",
    "    mirna_list_fwd = [{} for _ in range(shape)]\n",
    "    mirna_list_rcm = [{} for _ in range(shape)]\n",
    "\n",
    "    for j, rec_fwd in enumerate(tqdm(fasta_fwd_seq, total=shape, leave=False)):\n",
    "        counter_fwd = Counter()\n",
    "        counter_rcm = Counter()\n",
    "        for i, mirna_family in enumerate(mirna_fams):\n",
    "            for motiff_fwd, motiff_rcm in zip(mirna_motiffs[i], mirna_rcm_motiffs[i]):\n",
    "                counter_fwd[mirna_family] += rec_fwd.count(motiff_fwd)\n",
    "                counter_rcm[mirna_family] += rec_fwd.count(motiff_rcm)\n",
    "        mirna_list_fwd[j] = +counter_fwd\n",
    "        mirna_list_rcm[j] = +counter_rcm\n",
    "\n",
    "    df = pd.DataFrame(\n",
    "        {\n",
    "            \"group\": flipon.name,\n",
    "            \"coordinates\": [x.id for x in fasta],\n",
    "            \"miRNA (+ strand)\": mirna_list_fwd,\n",
    "            \"miRNA (- strand)\": mirna_list_rcm,\n",
    "        }\n",
    "    )\n",
    "\n",
    "    df[\"miRNA (intersection)\"] = df[[\"miRNA (+ strand)\", \"miRNA (- strand)\"]].apply(\n",
    "        lambda x: \", \".join(sorted(set(x[0]) & set(x[1]))), axis=1\n",
    "    )\n",
    "    df[\"miRNA (+ strand)\"] = df[\"miRNA (+ strand)\"].apply(\n",
    "        lambda x: \", \".join(\n",
    "            sorted(\n",
    "                [f\"{y[0]} ({y[1]:,d})\" if y[1] != 1 else f\"{y[0]}\" for y in x.items()]\n",
    "            )\n",
    "        )\n",
    "    )\n",
    "    df[\"miRNA (- strand)\"] = df[\"miRNA (- strand)\"].apply(\n",
    "        lambda x: \", \".join(\n",
    "            sorted(\n",
    "                [f\"{y[0]} ({y[1]:,d})\" if y[1] != 1 else f\"{y[0]}\" for y in x.items()]\n",
    "            )\n",
    "        )\n",
    "    )\n",
    "\n",
    "    flipons_to_mirna_df = pd.concat(\n",
    "        [flipons_to_mirna_df, df.sort_values(\"coordinates\")], ignore_index=True\n",
    "    )\n",
    "\n",
    "# flipons_to_mirna_df.to_csv('flipons_to_mirna.tsv', sep='\\t', quoting=2)\n",
    "flipons_to_mirna_df\n"
   ]
  },
  {
   "cell_type": "markdown",
   "id": "cac308c9-52ef-46be-a5cb-95bf346ff922",
   "metadata": {},
   "source": [
    "## Map flipons to: gene features"
   ]
  },
  {
   "cell_type": "code",
   "execution_count": 13,
   "id": "8ae3ccc8-3761-4b4c-998c-045ef19cdb2f",
   "metadata": {
    "scrolled": true,
    "tags": []
   },
   "outputs": [
    {
     "data": {
      "text/html": [
       "<div>\n",
       "<style scoped>\n",
       "    .dataframe tbody tr th:only-of-type {\n",
       "        vertical-align: middle;\n",
       "    }\n",
       "\n",
       "    .dataframe tbody tr th {\n",
       "        vertical-align: top;\n",
       "    }\n",
       "\n",
       "    .dataframe thead th {\n",
       "        text-align: right;\n",
       "    }\n",
       "</style>\n",
       "<table border=\"1\" class=\"dataframe\">\n",
       "  <thead>\n",
       "    <tr style=\"text-align: right;\">\n",
       "      <th></th>\n",
       "      <th>group</th>\n",
       "      <th>coordinates</th>\n",
       "      <th>annotation</th>\n",
       "      <th>gene_info</th>\n",
       "    </tr>\n",
       "  </thead>\n",
       "  <tbody>\n",
       "    <tr>\n",
       "      <th>0</th>\n",
       "      <td>sidd</td>\n",
       "      <td>chr7:142578468-142578571</td>\n",
       "      <td>Promoter (&lt;=1kb)</td>\n",
       "      <td>H19 (-)</td>\n",
       "    </tr>\n",
       "    <tr>\n",
       "      <th>1</th>\n",
       "      <td>sidd</td>\n",
       "      <td>chrX:161216708-161216853</td>\n",
       "      <td>Intron</td>\n",
       "      <td>Scml2 (+)</td>\n",
       "    </tr>\n",
       "    <tr>\n",
       "      <th>2</th>\n",
       "      <td>sidd</td>\n",
       "      <td>chr11:95573504-95573647</td>\n",
       "      <td>Intron</td>\n",
       "      <td>Ngfr (-)</td>\n",
       "    </tr>\n",
       "    <tr>\n",
       "      <th>3</th>\n",
       "      <td>sidd</td>\n",
       "      <td>chr11:59307372-59307527</td>\n",
       "      <td>Promoter (&lt;=1kb)</td>\n",
       "      <td>Wnt9a (+)</td>\n",
       "    </tr>\n",
       "    <tr>\n",
       "      <th>4</th>\n",
       "      <td>sidd</td>\n",
       "      <td>chr17:63792985-63793092</td>\n",
       "      <td>Distal Intergenic</td>\n",
       "      <td>Fer (+)</td>\n",
       "    </tr>\n",
       "    <tr>\n",
       "      <th>...</th>\n",
       "      <td>...</td>\n",
       "      <td>...</td>\n",
       "      <td>...</td>\n",
       "      <td>...</td>\n",
       "    </tr>\n",
       "    <tr>\n",
       "      <th>39242</th>\n",
       "      <td>h-dna</td>\n",
       "      <td>chr13:21359449-21359470</td>\n",
       "      <td>Distal Intergenic</td>\n",
       "      <td>BX001068.1 (+)</td>\n",
       "    </tr>\n",
       "    <tr>\n",
       "      <th>39243</th>\n",
       "      <td>h-dna</td>\n",
       "      <td>chr4:96049628-96049650</td>\n",
       "      <td>Intron</td>\n",
       "      <td>AL772212.1 (-)</td>\n",
       "    </tr>\n",
       "    <tr>\n",
       "      <th>39244</th>\n",
       "      <td>h-dna</td>\n",
       "      <td>chr7:27899641-27899686</td>\n",
       "      <td>Distal Intergenic</td>\n",
       "      <td>AC139063.1 (-)</td>\n",
       "    </tr>\n",
       "    <tr>\n",
       "      <th>39245</th>\n",
       "      <td>h-dna</td>\n",
       "      <td>chr17:39848378-39848395</td>\n",
       "      <td>Promoter (&lt;=1kb)</td>\n",
       "      <td>CT010467.2 (-)</td>\n",
       "    </tr>\n",
       "    <tr>\n",
       "      <th>39246</th>\n",
       "      <td>h-dna</td>\n",
       "      <td>chr13:32633603-32633664</td>\n",
       "      <td>Intron</td>\n",
       "      <td>AL645799.1 (+)</td>\n",
       "    </tr>\n",
       "  </tbody>\n",
       "</table>\n",
       "<p>39247 rows × 4 columns</p>\n",
       "</div>"
      ],
      "text/plain": [
       "       group               coordinates         annotation       gene_info\n",
       "0       sidd  chr7:142578468-142578571   Promoter (<=1kb)         H19 (-)\n",
       "1       sidd  chrX:161216708-161216853             Intron       Scml2 (+)\n",
       "2       sidd   chr11:95573504-95573647             Intron        Ngfr (-)\n",
       "3       sidd   chr11:59307372-59307527   Promoter (<=1kb)       Wnt9a (+)\n",
       "4       sidd   chr17:63792985-63793092  Distal Intergenic         Fer (+)\n",
       "...      ...                       ...                ...             ...\n",
       "39242  h-dna   chr13:21359449-21359470  Distal Intergenic  BX001068.1 (+)\n",
       "39243  h-dna    chr4:96049628-96049650             Intron  AL772212.1 (-)\n",
       "39244  h-dna    chr7:27899641-27899686  Distal Intergenic  AC139063.1 (-)\n",
       "39245  h-dna   chr17:39848378-39848395   Promoter (<=1kb)  CT010467.2 (-)\n",
       "39246  h-dna   chr13:32633603-32633664             Intron  AL645799.1 (+)\n",
       "\n",
       "[39247 rows x 4 columns]"
      ]
     },
     "execution_count": 13,
     "metadata": {},
     "output_type": "execute_result"
    }
   ],
   "source": [
    "def remove_gene_ids_from_annotation(s: str):\n",
    "    if \"Intron\" in s or \"Exon\" in s:\n",
    "        return s.split(\" \")[0].strip()\n",
    "    return s\n",
    "\n",
    "\n",
    "flipons_to_genes_df = (\n",
    "    pd.read_table(f_flipon_to_gene_anno)\n",
    "    .assign(\n",
    "        coordinates=lambda x: x[\"seqnames\"]\n",
    "        + \":\"\n",
    "        + (x[\"start\"] - 1).astype(str)\n",
    "        + \"-\"\n",
    "        + x[\"end\"].astype(str),\n",
    "        geneStrand=lambda x: x[\"geneStrand\"].apply(lambda y: \"+\" if y == 1 else \"-\"),\n",
    "        gene_info=lambda x: x[\"gene_name\"] + \" (\" + x[\"geneStrand\"] + \")\",\n",
    "        annotation=lambda x: x[\"annotation\"].apply(remove_gene_ids_from_annotation),\n",
    "    )\n",
    "    .loc[:, [\"group\", \"coordinates\", \"annotation\", \"gene_info\"]]\n",
    ")\n",
    "\n",
    "flipons_to_genes_df\n"
   ]
  },
  {
   "cell_type": "markdown",
   "id": "60c37541-6d8e-41dc-9311-3f1200c3e32e",
   "metadata": {},
   "source": [
    "## Map flipons to: cCRE"
   ]
  },
  {
   "cell_type": "code",
   "execution_count": 14,
   "id": "9688acac-11b3-48b8-855c-b4412e563720",
   "metadata": {},
   "outputs": [
    {
     "data": {
      "text/plain": [
       "dELS                        182982\n",
       "pELS                         57202\n",
       "dELS,CTCF-bound              28203\n",
       "CTCF-only,CTCF-bound         24072\n",
       "pELS,CTCF-bound              16620\n",
       "PLS                          14062\n",
       "PLS,CTCF-bound               10052\n",
       "DNase-H3K4me3                 7095\n",
       "DNase-H3K4me3,CTCF-bound      3443\n",
       "Name: 9, dtype: int64"
      ]
     },
     "execution_count": 14,
     "metadata": {},
     "output_type": "execute_result"
    }
   ],
   "source": [
    "pd.read_table(f_ccre, header=None)[9].value_counts()\n"
   ]
  },
  {
   "cell_type": "code",
   "execution_count": 15,
   "id": "47ab8f27-3b69-4dbd-a92e-2987a9b010f3",
   "metadata": {},
   "outputs": [
    {
     "data": {
      "text/html": [
       "<div>\n",
       "<style scoped>\n",
       "    .dataframe tbody tr th:only-of-type {\n",
       "        vertical-align: middle;\n",
       "    }\n",
       "\n",
       "    .dataframe tbody tr th {\n",
       "        vertical-align: top;\n",
       "    }\n",
       "\n",
       "    .dataframe thead th {\n",
       "        text-align: right;\n",
       "    }\n",
       "</style>\n",
       "<table border=\"1\" class=\"dataframe\">\n",
       "  <thead>\n",
       "    <tr style=\"text-align: right;\">\n",
       "      <th></th>\n",
       "      <th>0</th>\n",
       "      <th>1</th>\n",
       "      <th>2</th>\n",
       "      <th>name</th>\n",
       "    </tr>\n",
       "  </thead>\n",
       "  <tbody>\n",
       "    <tr>\n",
       "      <th>0</th>\n",
       "      <td>chr1</td>\n",
       "      <td>3119617</td>\n",
       "      <td>3119911</td>\n",
       "      <td>dELS@EM10E0431203</td>\n",
       "    </tr>\n",
       "    <tr>\n",
       "      <th>1</th>\n",
       "      <td>chr1</td>\n",
       "      <td>3119914</td>\n",
       "      <td>3120120</td>\n",
       "      <td>dELS@EM10E0431204</td>\n",
       "    </tr>\n",
       "    <tr>\n",
       "      <th>2</th>\n",
       "      <td>chr1</td>\n",
       "      <td>3120346</td>\n",
       "      <td>3120662</td>\n",
       "      <td>dELS@EM10E0431205</td>\n",
       "    </tr>\n",
       "    <tr>\n",
       "      <th>3</th>\n",
       "      <td>chr1</td>\n",
       "      <td>3292622</td>\n",
       "      <td>3292971</td>\n",
       "      <td>dELS@EM10E0431207</td>\n",
       "    </tr>\n",
       "    <tr>\n",
       "      <th>4</th>\n",
       "      <td>chr1</td>\n",
       "      <td>3322453</td>\n",
       "      <td>3322797</td>\n",
       "      <td>dELS@EM10E0431208</td>\n",
       "    </tr>\n",
       "    <tr>\n",
       "      <th>...</th>\n",
       "      <td>...</td>\n",
       "      <td>...</td>\n",
       "      <td>...</td>\n",
       "      <td>...</td>\n",
       "    </tr>\n",
       "    <tr>\n",
       "      <th>343726</th>\n",
       "      <td>chrY</td>\n",
       "      <td>90729231</td>\n",
       "      <td>90729435</td>\n",
       "      <td>CTCF-only (CTCF-bound)@EM10E0932204</td>\n",
       "    </tr>\n",
       "    <tr>\n",
       "      <th>343727</th>\n",
       "      <td>chrY</td>\n",
       "      <td>90732178</td>\n",
       "      <td>90732526</td>\n",
       "      <td>CTCF-only (CTCF-bound)@EM10E0932207</td>\n",
       "    </tr>\n",
       "    <tr>\n",
       "      <th>343728</th>\n",
       "      <td>chrY</td>\n",
       "      <td>90734379</td>\n",
       "      <td>90734726</td>\n",
       "      <td>CTCF-only (CTCF-bound)@EM10E0932208</td>\n",
       "    </tr>\n",
       "    <tr>\n",
       "      <th>343729</th>\n",
       "      <td>chrY</td>\n",
       "      <td>90744476</td>\n",
       "      <td>90744639</td>\n",
       "      <td>DNase-H3K4me3 (CTCF-bound)@EM10E0932222</td>\n",
       "    </tr>\n",
       "    <tr>\n",
       "      <th>343730</th>\n",
       "      <td>chrY</td>\n",
       "      <td>90744733</td>\n",
       "      <td>90744994</td>\n",
       "      <td>DNase-H3K4me3 (CTCF-bound)@EM10E0932223</td>\n",
       "    </tr>\n",
       "  </tbody>\n",
       "</table>\n",
       "<p>343731 rows × 4 columns</p>\n",
       "</div>"
      ],
      "text/plain": [
       "           0         1         2                                     name\n",
       "0       chr1   3119617   3119911                        dELS@EM10E0431203\n",
       "1       chr1   3119914   3120120                        dELS@EM10E0431204\n",
       "2       chr1   3120346   3120662                        dELS@EM10E0431205\n",
       "3       chr1   3292622   3292971                        dELS@EM10E0431207\n",
       "4       chr1   3322453   3322797                        dELS@EM10E0431208\n",
       "...      ...       ...       ...                                      ...\n",
       "343726  chrY  90729231  90729435      CTCF-only (CTCF-bound)@EM10E0932204\n",
       "343727  chrY  90732178  90732526      CTCF-only (CTCF-bound)@EM10E0932207\n",
       "343728  chrY  90734379  90734726      CTCF-only (CTCF-bound)@EM10E0932208\n",
       "343729  chrY  90744476  90744639  DNase-H3K4me3 (CTCF-bound)@EM10E0932222\n",
       "343730  chrY  90744733  90744994  DNase-H3K4me3 (CTCF-bound)@EM10E0932223\n",
       "\n",
       "[343731 rows x 4 columns]"
      ]
     },
     "execution_count": 15,
     "metadata": {},
     "output_type": "execute_result"
    }
   ],
   "source": [
    "ccre_small_df = (\n",
    "    pd.read_table(f_ccre, header=None)\n",
    "    .assign(\n",
    "        name_preformatted=lambda x: x[9] + \"@\" + x[3],\n",
    "        name=lambda x: x[\"name_preformatted\"].str.replace(\n",
    "            \",CTCF-bound\", \" (CTCF-bound)\"\n",
    "        ),\n",
    "    )\n",
    "    .loc[:, [0, 1, 2, \"name\"]]\n",
    ")\n",
    "\n",
    "ccre_small_df.to_csv(f_ccre_small, sep=\"\\t\", header=False, index=False)\n",
    "ccre_small_df\n"
   ]
  },
  {
   "cell_type": "code",
   "execution_count": 16,
   "id": "b8b949a5-617b-4f28-9264-5be073b4b4b2",
   "metadata": {},
   "outputs": [
    {
     "name": "stdout",
     "output_type": "stream",
     "text": [
      "1683 /home/fed/GitHub/article_conserved_miRNA//data/mm10_kouzine_ssDNA_bed/mm10_kouzine_actb_ssdna_enriched_sidd.slop200_and_ccre.bed\n",
      "20638 /home/fed/GitHub/article_conserved_miRNA//data/mm10_kouzine_ssDNA_bed/mm10_kouzine_actb_ssdna_enriched_z-dna.slop200_and_ccre.bed\n",
      "14637 /home/fed/GitHub/article_conserved_miRNA//data/mm10_kouzine_ssDNA_bed/mm10_kouzine_actb_ssdna_enriched_quadruplex.slop200_and_ccre.bed\n",
      "3756 /home/fed/GitHub/article_conserved_miRNA//data/mm10_kouzine_ssDNA_bed/mm10_kouzine_actb_ssdna_enriched_h-dna.slop200_and_ccre.bed\n"
     ]
    }
   ],
   "source": [
    "for flipon in flipon_data:\n",
    "    flipon.path_int_ccre = flipon.path_bed_200.replace('.bed', '_and_ccre.bed')\n",
    "    !bedtools intersect -a {flipon.path_bed_200} -b {f_ccre_small} -wo > {flipon.path_int_ccre}\n",
    "    !wc -l {flipon.path_int_ccre}"
   ]
  },
  {
   "cell_type": "code",
   "execution_count": 17,
   "id": "12a07888-ca7d-4e49-9d86-59da35ceef76",
   "metadata": {},
   "outputs": [
    {
     "data": {
      "text/html": [
       "<div>\n",
       "<style scoped>\n",
       "    .dataframe tbody tr th:only-of-type {\n",
       "        vertical-align: middle;\n",
       "    }\n",
       "\n",
       "    .dataframe tbody tr th {\n",
       "        vertical-align: top;\n",
       "    }\n",
       "\n",
       "    .dataframe thead th {\n",
       "        text-align: right;\n",
       "    }\n",
       "</style>\n",
       "<table border=\"1\" class=\"dataframe\">\n",
       "  <thead>\n",
       "    <tr style=\"text-align: right;\">\n",
       "      <th></th>\n",
       "      <th>group</th>\n",
       "      <th>coordinates</th>\n",
       "      <th>cCRE (+-200bp slop)</th>\n",
       "    </tr>\n",
       "  </thead>\n",
       "  <tbody>\n",
       "    <tr>\n",
       "      <th>0</th>\n",
       "      <td>sidd</td>\n",
       "      <td>chr1:11330535-11330712</td>\n",
       "      <td>dELS@EM10E0431890, dELS@EM10E0431891</td>\n",
       "    </tr>\n",
       "    <tr>\n",
       "      <th>1</th>\n",
       "      <td>sidd</td>\n",
       "      <td>chr1:16171838-16172011</td>\n",
       "      <td>dELS@EM10E0432450</td>\n",
       "    </tr>\n",
       "    <tr>\n",
       "      <th>2</th>\n",
       "      <td>sidd</td>\n",
       "      <td>chr1:20743638-20743760</td>\n",
       "      <td>DNase-H3K4me3@EM10E0432741</td>\n",
       "    </tr>\n",
       "    <tr>\n",
       "      <th>3</th>\n",
       "      <td>sidd</td>\n",
       "      <td>chr1:22532979-22533089</td>\n",
       "      <td>dELS (CTCF-bound)@EM10E0432966</td>\n",
       "    </tr>\n",
       "    <tr>\n",
       "      <th>4</th>\n",
       "      <td>sidd</td>\n",
       "      <td>chr1:23924439-23924546</td>\n",
       "      <td>pELS@EM10E0433139, dELS@EM10E0433140</td>\n",
       "    </tr>\n",
       "    <tr>\n",
       "      <th>...</th>\n",
       "      <td>...</td>\n",
       "      <td>...</td>\n",
       "      <td>...</td>\n",
       "    </tr>\n",
       "    <tr>\n",
       "      <th>24415</th>\n",
       "      <td>h-dna</td>\n",
       "      <td>chrX:152769666-152769687</td>\n",
       "      <td>pELS (CTCF-bound)@EM10E0930778</td>\n",
       "    </tr>\n",
       "    <tr>\n",
       "      <th>24416</th>\n",
       "      <td>h-dna</td>\n",
       "      <td>chrX:159987892-159987912</td>\n",
       "      <td>DNase-H3K4me3 (CTCF-bound)@EM10E0931180</td>\n",
       "    </tr>\n",
       "    <tr>\n",
       "      <th>24417</th>\n",
       "      <td>h-dna</td>\n",
       "      <td>chrX:161717977-161717993</td>\n",
       "      <td>PLS@EM10E0931282, pELS@EM10E0931283</td>\n",
       "    </tr>\n",
       "    <tr>\n",
       "      <th>24418</th>\n",
       "      <td>h-dna</td>\n",
       "      <td>chrX:162643118-162643148</td>\n",
       "      <td>pELS@EM10E0931392, pELS@EM10E0931393, pELS (CT...</td>\n",
       "    </tr>\n",
       "    <tr>\n",
       "      <th>24419</th>\n",
       "      <td>h-dna</td>\n",
       "      <td>chrX:166585870-166585891</td>\n",
       "      <td>PLS@EM10E0931752, DNase-H3K4me3@EM10E0931753</td>\n",
       "    </tr>\n",
       "  </tbody>\n",
       "</table>\n",
       "<p>24420 rows × 3 columns</p>\n",
       "</div>"
      ],
      "text/plain": [
       "       group               coordinates  \\\n",
       "0       sidd    chr1:11330535-11330712   \n",
       "1       sidd    chr1:16171838-16172011   \n",
       "2       sidd    chr1:20743638-20743760   \n",
       "3       sidd    chr1:22532979-22533089   \n",
       "4       sidd    chr1:23924439-23924546   \n",
       "...      ...                       ...   \n",
       "24415  h-dna  chrX:152769666-152769687   \n",
       "24416  h-dna  chrX:159987892-159987912   \n",
       "24417  h-dna  chrX:161717977-161717993   \n",
       "24418  h-dna  chrX:162643118-162643148   \n",
       "24419  h-dna  chrX:166585870-166585891   \n",
       "\n",
       "                                     cCRE (+-200bp slop)  \n",
       "0                   dELS@EM10E0431890, dELS@EM10E0431891  \n",
       "1                                      dELS@EM10E0432450  \n",
       "2                             DNase-H3K4me3@EM10E0432741  \n",
       "3                         dELS (CTCF-bound)@EM10E0432966  \n",
       "4                   pELS@EM10E0433139, dELS@EM10E0433140  \n",
       "...                                                  ...  \n",
       "24415                     pELS (CTCF-bound)@EM10E0930778  \n",
       "24416            DNase-H3K4me3 (CTCF-bound)@EM10E0931180  \n",
       "24417                PLS@EM10E0931282, pELS@EM10E0931283  \n",
       "24418  pELS@EM10E0931392, pELS@EM10E0931393, pELS (CT...  \n",
       "24419       PLS@EM10E0931752, DNase-H3K4me3@EM10E0931753  \n",
       "\n",
       "[24420 rows x 3 columns]"
      ]
     },
     "execution_count": 17,
     "metadata": {},
     "output_type": "execute_result"
    }
   ],
   "source": [
    "flipons_to_ccre_df = pd.DataFrame()\n",
    "columns = [\n",
    "    \"sidd_chr\",\n",
    "    \"sidd_start\",\n",
    "    \"sidd_end\",\n",
    "    \"coordinates\",\n",
    "    \"ccre_chr\",\n",
    "    \"ccre_start\",\n",
    "    \"ccre_end\",\n",
    "    \"ccre\",\n",
    "    \"int_len\",\n",
    "]\n",
    "\n",
    "for flipon in flipon_data:\n",
    "    df = (\n",
    "        pd.read_table(flipon.path_int_ccre, header=None, names=columns)\n",
    "        .assign(\n",
    "            group=flipon.name,\n",
    "            ccre_join=lambda x: x.groupby(\"coordinates\")[\"ccre\"].transform(\n",
    "                lambda x: \", \".join(x)\n",
    "            ),\n",
    "        )\n",
    "        .drop_duplicates(subset=[\"coordinates\"])\n",
    "        .loc[:, [\"group\", \"coordinates\", \"ccre_join\"]]\n",
    "        .rename(columns={\"ccre_join\": \"cCRE (+-200bp slop)\"})\n",
    "    )\n",
    "\n",
    "    flipons_to_ccre_df = pd.concat([flipons_to_ccre_df, df], ignore_index=True)\n",
    "\n",
    "flipons_to_ccre_df\n"
   ]
  },
  {
   "cell_type": "markdown",
   "id": "18533779-1863-4a40-be0e-05c7c37e67ed",
   "metadata": {},
   "source": [
    "## Map flipons to: repeats"
   ]
  },
  {
   "cell_type": "code",
   "execution_count": 18,
   "id": "e7c94f92-9500-4357-b97b-d2ab7a2eb9a0",
   "metadata": {},
   "outputs": [
    {
     "data": {
      "text/html": [
       "<div>\n",
       "<style scoped>\n",
       "    .dataframe tbody tr th:only-of-type {\n",
       "        vertical-align: middle;\n",
       "    }\n",
       "\n",
       "    .dataframe tbody tr th {\n",
       "        vertical-align: top;\n",
       "    }\n",
       "\n",
       "    .dataframe thead th {\n",
       "        text-align: right;\n",
       "    }\n",
       "</style>\n",
       "<table border=\"1\" class=\"dataframe\">\n",
       "  <thead>\n",
       "    <tr style=\"text-align: right;\">\n",
       "      <th></th>\n",
       "      <th>genoName</th>\n",
       "      <th>genoStart</th>\n",
       "      <th>genoEnd</th>\n",
       "      <th>name</th>\n",
       "      <th>swScore</th>\n",
       "      <th>strand</th>\n",
       "    </tr>\n",
       "  </thead>\n",
       "  <tbody>\n",
       "    <tr>\n",
       "      <th>0</th>\n",
       "      <td>chr1</td>\n",
       "      <td>3000000</td>\n",
       "      <td>3002128</td>\n",
       "      <td>LINE@L1_Mus3 (-)</td>\n",
       "      <td>12955</td>\n",
       "      <td>-</td>\n",
       "    </tr>\n",
       "    <tr>\n",
       "      <th>1</th>\n",
       "      <td>chr1</td>\n",
       "      <td>3003152</td>\n",
       "      <td>3003994</td>\n",
       "      <td>LINE@L1Md_F (-)</td>\n",
       "      <td>1216</td>\n",
       "      <td>-</td>\n",
       "    </tr>\n",
       "    <tr>\n",
       "      <th>2</th>\n",
       "      <td>chr1</td>\n",
       "      <td>3003993</td>\n",
       "      <td>3004054</td>\n",
       "      <td>LINE@L1_Mus3 (-)</td>\n",
       "      <td>234</td>\n",
       "      <td>-</td>\n",
       "    </tr>\n",
       "    <tr>\n",
       "      <th>3</th>\n",
       "      <td>chr1</td>\n",
       "      <td>3004040</td>\n",
       "      <td>3004206</td>\n",
       "      <td>LINE@L1_Rod (+)</td>\n",
       "      <td>3685</td>\n",
       "      <td>+</td>\n",
       "    </tr>\n",
       "    <tr>\n",
       "      <th>4</th>\n",
       "      <td>chr1</td>\n",
       "      <td>3004270</td>\n",
       "      <td>3005001</td>\n",
       "      <td>LINE@L1_Rod (+)</td>\n",
       "      <td>3685</td>\n",
       "      <td>+</td>\n",
       "    </tr>\n",
       "    <tr>\n",
       "      <th>...</th>\n",
       "      <td>...</td>\n",
       "      <td>...</td>\n",
       "      <td>...</td>\n",
       "      <td>...</td>\n",
       "      <td>...</td>\n",
       "      <td>...</td>\n",
       "    </tr>\n",
       "    <tr>\n",
       "      <th>2023577</th>\n",
       "      <td>chrna_GL456050_alt</td>\n",
       "      <td>139992</td>\n",
       "      <td>140094</td>\n",
       "      <td>LTR@RMER19B (-)</td>\n",
       "      <td>566</td>\n",
       "      <td>-</td>\n",
       "    </tr>\n",
       "    <tr>\n",
       "      <th>2023578</th>\n",
       "      <td>chrna_GL456050_alt</td>\n",
       "      <td>140098</td>\n",
       "      <td>140367</td>\n",
       "      <td>LTR@RMER16-int (+)</td>\n",
       "      <td>8702</td>\n",
       "      <td>+</td>\n",
       "    </tr>\n",
       "    <tr>\n",
       "      <th>2023579</th>\n",
       "      <td>chrna_GL456050_alt</td>\n",
       "      <td>140409</td>\n",
       "      <td>140631</td>\n",
       "      <td>LTR@RMER16-int (+)</td>\n",
       "      <td>8702</td>\n",
       "      <td>+</td>\n",
       "    </tr>\n",
       "    <tr>\n",
       "      <th>2023580</th>\n",
       "      <td>chrna_GL456050_alt</td>\n",
       "      <td>140631</td>\n",
       "      <td>141216</td>\n",
       "      <td>LTR@LTRIS_Mus (-)</td>\n",
       "      <td>5082</td>\n",
       "      <td>-</td>\n",
       "    </tr>\n",
       "    <tr>\n",
       "      <th>2023581</th>\n",
       "      <td>chrna_GL456050_alt</td>\n",
       "      <td>141216</td>\n",
       "      <td>142334</td>\n",
       "      <td>LTR@RMER16-int (+)</td>\n",
       "      <td>8702</td>\n",
       "      <td>+</td>\n",
       "    </tr>\n",
       "  </tbody>\n",
       "</table>\n",
       "<p>2023582 rows × 6 columns</p>\n",
       "</div>"
      ],
      "text/plain": [
       "                   genoName  genoStart  genoEnd                name  swScore  \\\n",
       "0                      chr1    3000000  3002128    LINE@L1_Mus3 (-)    12955   \n",
       "1                      chr1    3003152  3003994     LINE@L1Md_F (-)     1216   \n",
       "2                      chr1    3003993  3004054    LINE@L1_Mus3 (-)      234   \n",
       "3                      chr1    3004040  3004206     LINE@L1_Rod (+)     3685   \n",
       "4                      chr1    3004270  3005001     LINE@L1_Rod (+)     3685   \n",
       "...                     ...        ...      ...                 ...      ...   \n",
       "2023577  chrna_GL456050_alt     139992   140094     LTR@RMER19B (-)      566   \n",
       "2023578  chrna_GL456050_alt     140098   140367  LTR@RMER16-int (+)     8702   \n",
       "2023579  chrna_GL456050_alt     140409   140631  LTR@RMER16-int (+)     8702   \n",
       "2023580  chrna_GL456050_alt     140631   141216   LTR@LTRIS_Mus (-)     5082   \n",
       "2023581  chrna_GL456050_alt     141216   142334  LTR@RMER16-int (+)     8702   \n",
       "\n",
       "        strand  \n",
       "0            -  \n",
       "1            -  \n",
       "2            -  \n",
       "3            +  \n",
       "4            +  \n",
       "...        ...  \n",
       "2023577      -  \n",
       "2023578      +  \n",
       "2023579      +  \n",
       "2023580      -  \n",
       "2023581      +  \n",
       "\n",
       "[2023582 rows x 6 columns]"
      ]
     },
     "metadata": {},
     "output_type": "display_data"
    }
   ],
   "source": [
    "columns = [\n",
    "    \"bin\",\n",
    "    \"swScore\",\n",
    "    \"milliDiv\",\n",
    "    \"milliDel\",\n",
    "    \"milliIns\",\n",
    "    \"genoName\",\n",
    "    \"genoStart\",\n",
    "    \"genoEnd\",\n",
    "    \"genoLeft\",\n",
    "    \"strand\",\n",
    "    \"repName\",\n",
    "    \"repClass\",\n",
    "    \"repFamily\",\n",
    "    \"repStart\",\n",
    "    \"repEnd\",\n",
    "    \"repLeft\",\n",
    "    \"id\",\n",
    "]\n",
    "mm10_rmsk = (\n",
    "    pd.read_table(f_rmsk, header=None, names=columns, compression=\"gzip\")\n",
    "    .query('repClass.str.contains(\"LTR\") or repClass.str.contains(\"LINE\")')\n",
    "    .assign(\n",
    "        name=lambda x: x[\"repClass\"] + \"@\" + x[\"repName\"] + \" (\" + x[\"strand\"] + \")\"\n",
    "    )\n",
    "    .loc[:, [\"genoName\", \"genoStart\", \"genoEnd\", \"name\", \"swScore\", \"strand\"]]\n",
    "    .reset_index(drop=True)\n",
    ")\n",
    "\n",
    "mm10_rmsk.to_csv(f_rmsk_line_ltr, sep=\"\\t\", header=None, index=None)\n",
    "display(mm10_rmsk)\n"
   ]
  },
  {
   "cell_type": "code",
   "execution_count": 19,
   "id": "b5b2af6f-71bc-4431-9c3a-15a6c3ecfb36",
   "metadata": {},
   "outputs": [
    {
     "name": "stdout",
     "output_type": "stream",
     "text": [
      "23473 /home/fed/GitHub/article_conserved_miRNA//data/mm10_kouzine_ssDNA_bed/mm10_kouzine_actb_ssdna_enriched_sidd.slop200_and_repeats.bed\n",
      "11832 /home/fed/GitHub/article_conserved_miRNA//data/mm10_kouzine_ssDNA_bed/mm10_kouzine_actb_ssdna_enriched_z-dna.slop200_and_repeats.bed\n",
      "13332 /home/fed/GitHub/article_conserved_miRNA//data/mm10_kouzine_ssDNA_bed/mm10_kouzine_actb_ssdna_enriched_quadruplex.slop200_and_repeats.bed\n",
      "15869 /home/fed/GitHub/article_conserved_miRNA//data/mm10_kouzine_ssDNA_bed/mm10_kouzine_actb_ssdna_enriched_h-dna.slop200_and_repeats.bed\n"
     ]
    }
   ],
   "source": [
    "for flipon in flipon_data:\n",
    "    flipon.path_int_repeats = flipon.path_bed_200.replace('.bed', '_and_repeats.bed')\n",
    "    !bedtools intersect -a {flipon.path_bed_200} -b {f_rmsk_line_ltr} -wo > {flipon.path_int_repeats}\n",
    "    !wc -l {flipon.path_int_repeats}"
   ]
  },
  {
   "cell_type": "code",
   "execution_count": 20,
   "id": "90821924-6d7b-49a3-a776-4a3fbb711145",
   "metadata": {},
   "outputs": [
    {
     "data": {
      "text/html": [
       "<div>\n",
       "<style scoped>\n",
       "    .dataframe tbody tr th:only-of-type {\n",
       "        vertical-align: middle;\n",
       "    }\n",
       "\n",
       "    .dataframe tbody tr th {\n",
       "        vertical-align: top;\n",
       "    }\n",
       "\n",
       "    .dataframe thead th {\n",
       "        text-align: right;\n",
       "    }\n",
       "</style>\n",
       "<table border=\"1\" class=\"dataframe\">\n",
       "  <thead>\n",
       "    <tr style=\"text-align: right;\">\n",
       "      <th></th>\n",
       "      <th>group</th>\n",
       "      <th>coordinates</th>\n",
       "      <th>LINE/LTR repeats (+-200bp slop)</th>\n",
       "    </tr>\n",
       "  </thead>\n",
       "  <tbody>\n",
       "    <tr>\n",
       "      <th>0</th>\n",
       "      <td>sidd</td>\n",
       "      <td>chr1:3235931-3236054</td>\n",
       "      <td>LINE@L1Md_F2 (+), LINE@L1Md_F2 (+)</td>\n",
       "    </tr>\n",
       "    <tr>\n",
       "      <th>1</th>\n",
       "      <td>sidd</td>\n",
       "      <td>chr1:3350891-3351054</td>\n",
       "      <td>LINE@L1Md_T (+), LINE@Lx3B (-)</td>\n",
       "    </tr>\n",
       "    <tr>\n",
       "      <th>2</th>\n",
       "      <td>sidd</td>\n",
       "      <td>chr1:3473131-3473291</td>\n",
       "      <td>LINE@L1_Mus1 (+)</td>\n",
       "    </tr>\n",
       "    <tr>\n",
       "      <th>3</th>\n",
       "      <td>sidd</td>\n",
       "      <td>chr1:3490742-3490885</td>\n",
       "      <td>LINE@Lx3B (-), LINE@Lx2A1 (-)</td>\n",
       "    </tr>\n",
       "    <tr>\n",
       "      <th>4</th>\n",
       "      <td>sidd</td>\n",
       "      <td>chr1:3566652-3566892</td>\n",
       "      <td>LINE@Lx7 (+), LTR@RMER17A (+)</td>\n",
       "    </tr>\n",
       "    <tr>\n",
       "      <th>...</th>\n",
       "      <td>...</td>\n",
       "      <td>...</td>\n",
       "      <td>...</td>\n",
       "    </tr>\n",
       "    <tr>\n",
       "      <th>39768</th>\n",
       "      <td>h-dna</td>\n",
       "      <td>chrY:4223501-4223522</td>\n",
       "      <td>LINE@L1_Mus2 (-)</td>\n",
       "    </tr>\n",
       "    <tr>\n",
       "      <th>39769</th>\n",
       "      <td>h-dna</td>\n",
       "      <td>chrY:4208594-4208610</td>\n",
       "      <td>LTR@ORR1E (+), LINE@L1Md_T (-)</td>\n",
       "    </tr>\n",
       "    <tr>\n",
       "      <th>39770</th>\n",
       "      <td>h-dna</td>\n",
       "      <td>chrY:4200098-4200122</td>\n",
       "      <td>LINE@L1MD (+)</td>\n",
       "    </tr>\n",
       "    <tr>\n",
       "      <th>39771</th>\n",
       "      <td>h-dna</td>\n",
       "      <td>chrY:4185636-4185659</td>\n",
       "      <td>LTR@MMERGLN-int (-), LINE@L1Md_F2 (-)</td>\n",
       "    </tr>\n",
       "    <tr>\n",
       "      <th>39772</th>\n",
       "      <td>h-dna</td>\n",
       "      <td>chrY:4182920-4182944</td>\n",
       "      <td>LTR@MuRRS4-int (-), LTR@MMERGLN-int (-)</td>\n",
       "    </tr>\n",
       "  </tbody>\n",
       "</table>\n",
       "<p>39773 rows × 3 columns</p>\n",
       "</div>"
      ],
      "text/plain": [
       "       group           coordinates          LINE/LTR repeats (+-200bp slop)\n",
       "0       sidd  chr1:3235931-3236054       LINE@L1Md_F2 (+), LINE@L1Md_F2 (+)\n",
       "1       sidd  chr1:3350891-3351054           LINE@L1Md_T (+), LINE@Lx3B (-)\n",
       "2       sidd  chr1:3473131-3473291                         LINE@L1_Mus1 (+)\n",
       "3       sidd  chr1:3490742-3490885            LINE@Lx3B (-), LINE@Lx2A1 (-)\n",
       "4       sidd  chr1:3566652-3566892            LINE@Lx7 (+), LTR@RMER17A (+)\n",
       "...      ...                   ...                                      ...\n",
       "39768  h-dna  chrY:4223501-4223522                         LINE@L1_Mus2 (-)\n",
       "39769  h-dna  chrY:4208594-4208610           LTR@ORR1E (+), LINE@L1Md_T (-)\n",
       "39770  h-dna  chrY:4200098-4200122                            LINE@L1MD (+)\n",
       "39771  h-dna  chrY:4185636-4185659    LTR@MMERGLN-int (-), LINE@L1Md_F2 (-)\n",
       "39772  h-dna  chrY:4182920-4182944  LTR@MuRRS4-int (-), LTR@MMERGLN-int (-)\n",
       "\n",
       "[39773 rows x 3 columns]"
      ]
     },
     "execution_count": 20,
     "metadata": {},
     "output_type": "execute_result"
    }
   ],
   "source": [
    "flipons_to_repeats_df = pd.DataFrame()\n",
    "columns = [\n",
    "    \"sidd_chr\",\n",
    "    \"sidd_start\",\n",
    "    \"sidd_end\",\n",
    "    \"coordinates\",\n",
    "    \"rep_chr\",\n",
    "    \"rep_start\",\n",
    "    \"rep_end\",\n",
    "    \"rep_name\",\n",
    "    \"rep_score\",\n",
    "    \"rep_strand\",\n",
    "    \"int_len\",\n",
    "]\n",
    "\n",
    "for flipon in flipon_data:\n",
    "    df = (\n",
    "        pd.read_table(flipon.path_int_repeats, header=None, names=columns)\n",
    "        .assign(\n",
    "            group=flipon.name,\n",
    "            repeats_join=lambda x: x.groupby(\"coordinates\")[\"rep_name\"].transform(\n",
    "                lambda x: \", \".join(x)\n",
    "            ),\n",
    "        )\n",
    "        .drop_duplicates(subset=[\"coordinates\"])\n",
    "        .loc[:, [\"group\", \"coordinates\", \"repeats_join\"]]\n",
    "        .rename(columns={\"repeats_join\": \"LINE/LTR repeats (+-200bp slop)\"})\n",
    "    )\n",
    "\n",
    "    flipons_to_repeats_df = pd.concat([flipons_to_repeats_df, df], ignore_index=True)\n",
    "\n",
    "flipons_to_repeats_df\n"
   ]
  },
  {
   "cell_type": "markdown",
   "id": "9c8ae175-d1e4-4f01-9936-faf378449428",
   "metadata": {},
   "source": [
    "## Flipon mapping info: miRNA, gene features, cCREs, LINE/LTR repeats"
   ]
  },
  {
   "cell_type": "code",
   "execution_count": 21,
   "id": "4fe9789d-dce1-485a-b9d7-e83e565204b5",
   "metadata": {
    "scrolled": true,
    "tags": []
   },
   "outputs": [
    {
     "data": {
      "text/html": [
       "<div>\n",
       "<style scoped>\n",
       "    .dataframe tbody tr th:only-of-type {\n",
       "        vertical-align: middle;\n",
       "    }\n",
       "\n",
       "    .dataframe tbody tr th {\n",
       "        vertical-align: top;\n",
       "    }\n",
       "\n",
       "    .dataframe thead th {\n",
       "        text-align: right;\n",
       "    }\n",
       "</style>\n",
       "<table border=\"1\" class=\"dataframe\">\n",
       "  <thead>\n",
       "    <tr style=\"text-align: right;\">\n",
       "      <th></th>\n",
       "      <th>group</th>\n",
       "      <th>coordinates</th>\n",
       "      <th>miRNA (+ strand)</th>\n",
       "      <th>miRNA (- strand)</th>\n",
       "      <th>miRNA (intersection)</th>\n",
       "      <th>annotation</th>\n",
       "      <th>gene_info</th>\n",
       "      <th>cCRE (+-200bp slop)</th>\n",
       "      <th>LINE/LTR repeats (+-200bp slop)</th>\n",
       "    </tr>\n",
       "  </thead>\n",
       "  <tbody>\n",
       "    <tr>\n",
       "      <th>0</th>\n",
       "      <td>sidd</td>\n",
       "      <td>chr10:100119606-100119743</td>\n",
       "      <td>miR-539, miR-670</td>\n",
       "      <td>miR-143, miR-186, miR-30</td>\n",
       "      <td></td>\n",
       "      <td>Distal Intergenic</td>\n",
       "      <td>Gm22918 (+)</td>\n",
       "      <td></td>\n",
       "      <td>LTR@RLTR10C (+), LINE@Lx8b (-), LTR@MTB (+)</td>\n",
       "    </tr>\n",
       "    <tr>\n",
       "      <th>1</th>\n",
       "      <td>sidd</td>\n",
       "      <td>chr10:100146768-100146986</td>\n",
       "      <td>miR-155, miR-374</td>\n",
       "      <td>miR-448</td>\n",
       "      <td></td>\n",
       "      <td>Promoter (2-3kb)</td>\n",
       "      <td>Gm25287 (+)</td>\n",
       "      <td></td>\n",
       "      <td>LTR@MTB_Mm (-)</td>\n",
       "    </tr>\n",
       "    <tr>\n",
       "      <th>2</th>\n",
       "      <td>sidd</td>\n",
       "      <td>chr10:100160840-100160994</td>\n",
       "      <td>miR-188, miR-204/211</td>\n",
       "      <td>miR-203a, miR-653</td>\n",
       "      <td></td>\n",
       "      <td></td>\n",
       "      <td></td>\n",
       "      <td>dELS@EM10E0487086</td>\n",
       "      <td>LINE@L1_Mus3 (-), LINE@L1_Mus3 (-)</td>\n",
       "    </tr>\n",
       "    <tr>\n",
       "      <th>3</th>\n",
       "      <td>sidd</td>\n",
       "      <td>chr10:100192250-100192378</td>\n",
       "      <td>miR-15/16/195/424/497, miR-203a (2)</td>\n",
       "      <td></td>\n",
       "      <td></td>\n",
       "      <td>Distal Intergenic</td>\n",
       "      <td>Gm47627 (-)</td>\n",
       "      <td></td>\n",
       "      <td>LINE@L1_Mus3 (+)</td>\n",
       "    </tr>\n",
       "    <tr>\n",
       "      <th>4</th>\n",
       "      <td>sidd</td>\n",
       "      <td>chr10:100401845-100402004</td>\n",
       "      <td></td>\n",
       "      <td>miR-101, miR-140</td>\n",
       "      <td></td>\n",
       "      <td>Distal Intergenic</td>\n",
       "      <td>Gm4781 (-)</td>\n",
       "      <td></td>\n",
       "      <td>LINE@L1_Mus3 (-)</td>\n",
       "    </tr>\n",
       "    <tr>\n",
       "      <th>...</th>\n",
       "      <td>...</td>\n",
       "      <td>...</td>\n",
       "      <td>...</td>\n",
       "      <td>...</td>\n",
       "      <td>...</td>\n",
       "      <td>...</td>\n",
       "      <td>...</td>\n",
       "      <td>...</td>\n",
       "      <td>...</td>\n",
       "    </tr>\n",
       "    <tr>\n",
       "      <th>31681</th>\n",
       "      <td>h-dna</td>\n",
       "      <td>chrY:3773406-3773483</td>\n",
       "      <td>miR-339 (2)</td>\n",
       "      <td></td>\n",
       "      <td></td>\n",
       "      <td>Promoter (1-2kb)</td>\n",
       "      <td>Gm3376 (+)</td>\n",
       "      <td></td>\n",
       "      <td></td>\n",
       "    </tr>\n",
       "    <tr>\n",
       "      <th>31682</th>\n",
       "      <td>h-dna</td>\n",
       "      <td>chrY:3773610-3773649</td>\n",
       "      <td>miR-339</td>\n",
       "      <td></td>\n",
       "      <td></td>\n",
       "      <td></td>\n",
       "      <td></td>\n",
       "      <td></td>\n",
       "      <td></td>\n",
       "    </tr>\n",
       "    <tr>\n",
       "      <th>31683</th>\n",
       "      <td>h-dna</td>\n",
       "      <td>chrY:3773694-3773741</td>\n",
       "      <td></td>\n",
       "      <td>miR-185</td>\n",
       "      <td></td>\n",
       "      <td></td>\n",
       "      <td></td>\n",
       "      <td></td>\n",
       "      <td></td>\n",
       "    </tr>\n",
       "    <tr>\n",
       "      <th>31684</th>\n",
       "      <td>h-dna</td>\n",
       "      <td>chrY:3865190-3865212</td>\n",
       "      <td>miR-122</td>\n",
       "      <td></td>\n",
       "      <td></td>\n",
       "      <td></td>\n",
       "      <td></td>\n",
       "      <td></td>\n",
       "      <td></td>\n",
       "    </tr>\n",
       "    <tr>\n",
       "      <th>31685</th>\n",
       "      <td>h-dna</td>\n",
       "      <td>chrY:3879642-3879666</td>\n",
       "      <td>miR-185</td>\n",
       "      <td></td>\n",
       "      <td></td>\n",
       "      <td></td>\n",
       "      <td></td>\n",
       "      <td></td>\n",
       "      <td></td>\n",
       "    </tr>\n",
       "  </tbody>\n",
       "</table>\n",
       "<p>31686 rows × 9 columns</p>\n",
       "</div>"
      ],
      "text/plain": [
       "       group                coordinates                     miRNA (+ strand)  \\\n",
       "0       sidd  chr10:100119606-100119743                     miR-539, miR-670   \n",
       "1       sidd  chr10:100146768-100146986                     miR-155, miR-374   \n",
       "2       sidd  chr10:100160840-100160994                 miR-188, miR-204/211   \n",
       "3       sidd  chr10:100192250-100192378  miR-15/16/195/424/497, miR-203a (2)   \n",
       "4       sidd  chr10:100401845-100402004                                        \n",
       "...      ...                        ...                                  ...   \n",
       "31681  h-dna       chrY:3773406-3773483                          miR-339 (2)   \n",
       "31682  h-dna       chrY:3773610-3773649                              miR-339   \n",
       "31683  h-dna       chrY:3773694-3773741                                        \n",
       "31684  h-dna       chrY:3865190-3865212                              miR-122   \n",
       "31685  h-dna       chrY:3879642-3879666                              miR-185   \n",
       "\n",
       "               miRNA (- strand) miRNA (intersection)         annotation  \\\n",
       "0      miR-143, miR-186, miR-30                       Distal Intergenic   \n",
       "1                       miR-448                        Promoter (2-3kb)   \n",
       "2             miR-203a, miR-653                                           \n",
       "3                                                     Distal Intergenic   \n",
       "4              miR-101, miR-140                       Distal Intergenic   \n",
       "...                         ...                  ...                ...   \n",
       "31681                                                  Promoter (1-2kb)   \n",
       "31682                                                                     \n",
       "31683                   miR-185                                           \n",
       "31684                                                                     \n",
       "31685                                                                     \n",
       "\n",
       "         gene_info cCRE (+-200bp slop)  \\\n",
       "0      Gm22918 (+)                       \n",
       "1      Gm25287 (+)                       \n",
       "2                    dELS@EM10E0487086   \n",
       "3      Gm47627 (-)                       \n",
       "4       Gm4781 (-)                       \n",
       "...            ...                 ...   \n",
       "31681   Gm3376 (+)                       \n",
       "31682                                    \n",
       "31683                                    \n",
       "31684                                    \n",
       "31685                                    \n",
       "\n",
       "                   LINE/LTR repeats (+-200bp slop)  \n",
       "0      LTR@RLTR10C (+), LINE@Lx8b (-), LTR@MTB (+)  \n",
       "1                                   LTR@MTB_Mm (-)  \n",
       "2               LINE@L1_Mus3 (-), LINE@L1_Mus3 (-)  \n",
       "3                                 LINE@L1_Mus3 (+)  \n",
       "4                                 LINE@L1_Mus3 (-)  \n",
       "...                                            ...  \n",
       "31681                                               \n",
       "31682                                               \n",
       "31683                                               \n",
       "31684                                               \n",
       "31685                                               \n",
       "\n",
       "[31686 rows x 9 columns]"
      ]
     },
     "execution_count": 21,
     "metadata": {},
     "output_type": "execute_result"
    }
   ],
   "source": [
    "flipons_to_data = (\n",
    "    flipons_to_mirna_df.merge(\n",
    "        flipons_to_genes_df, on=[\"group\", \"coordinates\"], how=\"left\"\n",
    "    )\n",
    "    .merge(flipons_to_ccre_df, on=[\"group\", \"coordinates\"], how=\"left\")\n",
    "    .merge(flipons_to_repeats_df, on=[\"group\", \"coordinates\"], how=\"left\")\n",
    "    .replace(\"\", np.nan)\n",
    "    .dropna(subset=[\"miRNA (+ strand)\", \"miRNA (- strand)\"], how=\"all\")\n",
    "    .fillna(\"\")\n",
    "    .reset_index(drop=True)\n",
    ")\n",
    "\n",
    "flipons_to_data.to_csv(f_flipon_to_data, sep=\"\\t\", index=False)\n",
    "flipons_to_data\n"
   ]
  },
  {
   "cell_type": "markdown",
   "id": "dd6edb3f",
   "metadata": {},
   "source": [
    "## Task 1\n",
    "\n",
    "The counts for the other flipons that are associated with the CCRE positive promoters (with no repeats) and those with the repeat promoters (and noCCRE). Is there any difference?\n"
   ]
  },
  {
   "cell_type": "code",
   "execution_count": 7,
   "id": "52be2ed3",
   "metadata": {},
   "outputs": [],
   "source": [
    "def create_dataframe(mirna_count: np.array, name: str):\n",
    "    \"\"\"Transform count matrix into a dataframe.\"\"\"\n",
    "\n",
    "    d = make_d(mirna_count, name)\n",
    "    cur_df = pd.DataFrame([d], index=[name])\n",
    "    cur_df[\"total\"] = cur_df.sum(axis=1)\n",
    "    return cur_df\n",
    "\n",
    "\n",
    "def make_d(mirna_count: np.array, name: str):\n",
    "    \"\"\"Calculate values from a given count matrix to compute defined miRNA groupings.\"\"\"\n",
    "    temp_d = dict()\n",
    "    df_count_temp = pd.DataFrame(mirna_count)\n",
    "    overall_sum = (mirna_count).sum(axis=0)\n",
    "\n",
    "    temp_d[\"no_mirna\"] = (overall_sum == 0).sum()\n",
    "    temp_d[\"single_mirna\"] = (overall_sum == 1).sum()\n",
    "    temp_d[\"single_but_multiple_times\"] = (\n",
    "        (df_count_temp.nunique() == 2) * (overall_sum > 1)\n",
    "    ).sum()\n",
    "    temp_d[\"multiple_types\"] = (df_count_temp.nunique() > 2).sum()\n",
    "\n",
    "    return temp_d\n"
   ]
  },
  {
   "cell_type": "code",
   "execution_count": 10,
   "id": "441b90bd",
   "metadata": {},
   "outputs": [
    {
     "data": {
      "application/vnd.jupyter.widget-view+json": {
       "model_id": "fcdbbd632f974f3ca6e338ecfb569da9",
       "version_major": 2,
       "version_minor": 0
      },
      "text/plain": [
       "  0%|          | 0/19 [00:00<?, ?it/s]"
      ]
     },
     "metadata": {},
     "output_type": "display_data"
    },
    {
     "name": "stdout",
     "output_type": "stream",
     "text": [
      "sidd /home/fed/GitHub/article_conserved_miRNA//data/mm10_kouzine_ssDNA_fa/mm10_kouzine_actb_ssdna_enriched_sidd.fa\n",
      "sidd: 15,294 regions\n"
     ]
    },
    {
     "data": {
      "application/vnd.jupyter.widget-view+json": {
       "model_id": "3bc398db40d44d61b2e67cc7d1b0c16c",
       "version_major": 2,
       "version_minor": 0
      },
      "text/plain": [
       "  0%|          | 0/15294 [00:00<?, ?it/s]"
      ]
     },
     "metadata": {},
     "output_type": "display_data"
    },
    {
     "name": "stdout",
     "output_type": "stream",
     "text": [
      "sidd.slop100 /home/fed/GitHub/article_conserved_miRNA//data/mm10_kouzine_ssDNA_fa/mm10_kouzine_actb_ssdna_enriched_sidd.slop100.fa\n",
      "sidd.slop100: 15,294 regions\n"
     ]
    },
    {
     "data": {
      "application/vnd.jupyter.widget-view+json": {
       "model_id": "284df6b6c5ee41d38845afc6cbc906fb",
       "version_major": 2,
       "version_minor": 0
      },
      "text/plain": [
       "  0%|          | 0/15294 [00:00<?, ?it/s]"
      ]
     },
     "metadata": {},
     "output_type": "display_data"
    },
    {
     "name": "stdout",
     "output_type": "stream",
     "text": [
      "sidd.slop200 /home/fed/GitHub/article_conserved_miRNA//data/mm10_kouzine_ssDNA_fa/mm10_kouzine_actb_ssdna_enriched_sidd.slop200.fa\n",
      "sidd.slop200: 15,294 regions\n"
     ]
    },
    {
     "data": {
      "application/vnd.jupyter.widget-view+json": {
       "model_id": "253f129f80d3449a91c3156bd8b83d1d",
       "version_major": 2,
       "version_minor": 0
      },
      "text/plain": [
       "  0%|          | 0/15294 [00:00<?, ?it/s]"
      ]
     },
     "metadata": {},
     "output_type": "display_data"
    },
    {
     "name": "stdout",
     "output_type": "stream",
     "text": [
      "sidd.slop500 /home/fed/GitHub/article_conserved_miRNA//data/mm10_kouzine_ssDNA_fa/mm10_kouzine_actb_ssdna_enriched_sidd.slop500.fa\n",
      "sidd.slop500: 15,294 regions\n"
     ]
    },
    {
     "data": {
      "application/vnd.jupyter.widget-view+json": {
       "model_id": "bdc3165f685c4021a3f84d0dd0c2d26e",
       "version_major": 2,
       "version_minor": 0
      },
      "text/plain": [
       "  0%|          | 0/15294 [00:00<?, ?it/s]"
      ]
     },
     "metadata": {},
     "output_type": "display_data"
    },
    {
     "name": "stdout",
     "output_type": "stream",
     "text": [
      "z-dna /home/fed/GitHub/article_conserved_miRNA//data/mm10_kouzine_ssDNA_fa/mm10_kouzine_actb_ssdna_enriched_z-dna.fa\n",
      "z-dna: 25,057 regions\n"
     ]
    },
    {
     "data": {
      "application/vnd.jupyter.widget-view+json": {
       "model_id": "dab912c0e094483ca09acc4f3c0d9164",
       "version_major": 2,
       "version_minor": 0
      },
      "text/plain": [
       "  0%|          | 0/25057 [00:00<?, ?it/s]"
      ]
     },
     "metadata": {},
     "output_type": "display_data"
    },
    {
     "name": "stdout",
     "output_type": "stream",
     "text": [
      "z-dna_and_sidd /home/fed/GitHub/article_conserved_miRNA//data/mm10_kouzine_ssDNA_fa/mm10_kouzine_actb_ssdna_enriched_z-dna_and_sidd.fa\n",
      "z-dna_and_sidd: 256 regions\n"
     ]
    },
    {
     "data": {
      "application/vnd.jupyter.widget-view+json": {
       "model_id": "5519aa2e12184c8c9536c3598056189a",
       "version_major": 2,
       "version_minor": 0
      },
      "text/plain": [
       "  0%|          | 0/256 [00:00<?, ?it/s]"
      ]
     },
     "metadata": {},
     "output_type": "display_data"
    },
    {
     "name": "stdout",
     "output_type": "stream",
     "text": [
      "z-dna_and_sidd.slop100 /home/fed/GitHub/article_conserved_miRNA//data/mm10_kouzine_ssDNA_fa/mm10_kouzine_actb_ssdna_enriched_z-dna_and_sidd.slop100.fa\n",
      "z-dna_and_sidd.slop100: 757 regions\n"
     ]
    },
    {
     "data": {
      "application/vnd.jupyter.widget-view+json": {
       "model_id": "679b7445d05b455ea06684232b23f7d6",
       "version_major": 2,
       "version_minor": 0
      },
      "text/plain": [
       "  0%|          | 0/757 [00:00<?, ?it/s]"
      ]
     },
     "metadata": {},
     "output_type": "display_data"
    },
    {
     "name": "stdout",
     "output_type": "stream",
     "text": [
      "z-dna_and_sidd.slop200 /home/fed/GitHub/article_conserved_miRNA//data/mm10_kouzine_ssDNA_fa/mm10_kouzine_actb_ssdna_enriched_z-dna_and_sidd.slop200.fa\n",
      "z-dna_and_sidd.slop200: 1,116 regions\n"
     ]
    },
    {
     "data": {
      "application/vnd.jupyter.widget-view+json": {
       "model_id": "7abfb2bfa38b462380209fed69d2e3e3",
       "version_major": 2,
       "version_minor": 0
      },
      "text/plain": [
       "  0%|          | 0/1116 [00:00<?, ?it/s]"
      ]
     },
     "metadata": {},
     "output_type": "display_data"
    },
    {
     "name": "stdout",
     "output_type": "stream",
     "text": [
      "z-dna_and_sidd.slop500 /home/fed/GitHub/article_conserved_miRNA//data/mm10_kouzine_ssDNA_fa/mm10_kouzine_actb_ssdna_enriched_z-dna_and_sidd.slop500.fa\n",
      "z-dna_and_sidd.slop500: 1,801 regions\n"
     ]
    },
    {
     "data": {
      "application/vnd.jupyter.widget-view+json": {
       "model_id": "8dad58edc4ce42c5ba769a5d869e4b2f",
       "version_major": 2,
       "version_minor": 0
      },
      "text/plain": [
       "  0%|          | 0/1801 [00:00<?, ?it/s]"
      ]
     },
     "metadata": {},
     "output_type": "display_data"
    },
    {
     "name": "stdout",
     "output_type": "stream",
     "text": [
      "quadruplex /home/fed/GitHub/article_conserved_miRNA//data/mm10_kouzine_ssDNA_fa/mm10_kouzine_actb_ssdna_enriched_quadruplex.fa\n",
      "quadruplex: 20,251 regions\n"
     ]
    },
    {
     "data": {
      "application/vnd.jupyter.widget-view+json": {
       "model_id": "4b515ce630d94976b024cd09cd0a74a3",
       "version_major": 2,
       "version_minor": 0
      },
      "text/plain": [
       "  0%|          | 0/20251 [00:00<?, ?it/s]"
      ]
     },
     "metadata": {},
     "output_type": "display_data"
    },
    {
     "name": "stdout",
     "output_type": "stream",
     "text": [
      "quadruplex_and_sidd /home/fed/GitHub/article_conserved_miRNA//data/mm10_kouzine_ssDNA_fa/mm10_kouzine_actb_ssdna_enriched_quadruplex_and_sidd.fa\n",
      "quadruplex_and_sidd: 1,374 regions\n"
     ]
    },
    {
     "data": {
      "application/vnd.jupyter.widget-view+json": {
       "model_id": "8578fb57a1c347f28c024c42219f41d9",
       "version_major": 2,
       "version_minor": 0
      },
      "text/plain": [
       "  0%|          | 0/1374 [00:00<?, ?it/s]"
      ]
     },
     "metadata": {},
     "output_type": "display_data"
    },
    {
     "name": "stdout",
     "output_type": "stream",
     "text": [
      "quadruplex_and_sidd.slop100 /home/fed/GitHub/article_conserved_miRNA//data/mm10_kouzine_ssDNA_fa/mm10_kouzine_actb_ssdna_enriched_quadruplex_and_sidd.slop100.fa\n",
      "quadruplex_and_sidd.slop100: 2,250 regions\n"
     ]
    },
    {
     "data": {
      "application/vnd.jupyter.widget-view+json": {
       "model_id": "d73d6012a635486cbdabe779599ea90e",
       "version_major": 2,
       "version_minor": 0
      },
      "text/plain": [
       "  0%|          | 0/2250 [00:00<?, ?it/s]"
      ]
     },
     "metadata": {},
     "output_type": "display_data"
    },
    {
     "name": "stdout",
     "output_type": "stream",
     "text": [
      "quadruplex_and_sidd.slop200 /home/fed/GitHub/article_conserved_miRNA//data/mm10_kouzine_ssDNA_fa/mm10_kouzine_actb_ssdna_enriched_quadruplex_and_sidd.slop200.fa\n",
      "quadruplex_and_sidd.slop200: 2,534 regions\n"
     ]
    },
    {
     "data": {
      "application/vnd.jupyter.widget-view+json": {
       "model_id": "698386cac0aa40488c66c43c477d1e05",
       "version_major": 2,
       "version_minor": 0
      },
      "text/plain": [
       "  0%|          | 0/2534 [00:00<?, ?it/s]"
      ]
     },
     "metadata": {},
     "output_type": "display_data"
    },
    {
     "name": "stdout",
     "output_type": "stream",
     "text": [
      "quadruplex_and_sidd.slop500 /home/fed/GitHub/article_conserved_miRNA//data/mm10_kouzine_ssDNA_fa/mm10_kouzine_actb_ssdna_enriched_quadruplex_and_sidd.slop500.fa\n",
      "quadruplex_and_sidd.slop500: 3,089 regions\n"
     ]
    },
    {
     "data": {
      "application/vnd.jupyter.widget-view+json": {
       "model_id": "6618ca255c084467acbfe0401a4b4ce3",
       "version_major": 2,
       "version_minor": 0
      },
      "text/plain": [
       "  0%|          | 0/3089 [00:00<?, ?it/s]"
      ]
     },
     "metadata": {},
     "output_type": "display_data"
    },
    {
     "name": "stdout",
     "output_type": "stream",
     "text": [
      "h-dna /home/fed/GitHub/article_conserved_miRNA//data/mm10_kouzine_ssDNA_fa/mm10_kouzine_actb_ssdna_enriched_h-dna.fa\n",
      "h-dna: 17,098 regions\n"
     ]
    },
    {
     "data": {
      "application/vnd.jupyter.widget-view+json": {
       "model_id": "0ede843da6194f828753e3d789b01932",
       "version_major": 2,
       "version_minor": 0
      },
      "text/plain": [
       "  0%|          | 0/17098 [00:00<?, ?it/s]"
      ]
     },
     "metadata": {},
     "output_type": "display_data"
    },
    {
     "name": "stdout",
     "output_type": "stream",
     "text": [
      "h-dna_and_sidd /home/fed/GitHub/article_conserved_miRNA//data/mm10_kouzine_ssDNA_fa/mm10_kouzine_actb_ssdna_enriched_h-dna_and_sidd.fa\n",
      "h-dna_and_sidd: 1,627 regions\n"
     ]
    },
    {
     "data": {
      "application/vnd.jupyter.widget-view+json": {
       "model_id": "f73ae48b74ed4b6eae5f9ba4ce3ca26f",
       "version_major": 2,
       "version_minor": 0
      },
      "text/plain": [
       "  0%|          | 0/1627 [00:00<?, ?it/s]"
      ]
     },
     "metadata": {},
     "output_type": "display_data"
    },
    {
     "name": "stdout",
     "output_type": "stream",
     "text": [
      "h-dna_and_sidd.slop100 /home/fed/GitHub/article_conserved_miRNA//data/mm10_kouzine_ssDNA_fa/mm10_kouzine_actb_ssdna_enriched_h-dna_and_sidd.slop100.fa\n",
      "h-dna_and_sidd.slop100: 2,016 regions\n"
     ]
    },
    {
     "data": {
      "application/vnd.jupyter.widget-view+json": {
       "model_id": "b68b478d17004bfa960ce3c472675e21",
       "version_major": 2,
       "version_minor": 0
      },
      "text/plain": [
       "  0%|          | 0/2016 [00:00<?, ?it/s]"
      ]
     },
     "metadata": {},
     "output_type": "display_data"
    },
    {
     "name": "stdout",
     "output_type": "stream",
     "text": [
      "h-dna_and_sidd.slop200 /home/fed/GitHub/article_conserved_miRNA//data/mm10_kouzine_ssDNA_fa/mm10_kouzine_actb_ssdna_enriched_h-dna_and_sidd.slop200.fa\n",
      "h-dna_and_sidd.slop200: 2,249 regions\n"
     ]
    },
    {
     "data": {
      "application/vnd.jupyter.widget-view+json": {
       "model_id": "b4570802a5ad4aca8dd30515cd2b7af5",
       "version_major": 2,
       "version_minor": 0
      },
      "text/plain": [
       "  0%|          | 0/2249 [00:00<?, ?it/s]"
      ]
     },
     "metadata": {},
     "output_type": "display_data"
    },
    {
     "name": "stdout",
     "output_type": "stream",
     "text": [
      "h-dna_and_sidd.slop500 /home/fed/GitHub/article_conserved_miRNA//data/mm10_kouzine_ssDNA_fa/mm10_kouzine_actb_ssdna_enriched_h-dna_and_sidd.slop500.fa\n",
      "h-dna_and_sidd.slop500: 2,560 regions\n"
     ]
    },
    {
     "data": {
      "application/vnd.jupyter.widget-view+json": {
       "model_id": "6358d6c5e00c440ca77f905f826dd9a8",
       "version_major": 2,
       "version_minor": 0
      },
      "text/plain": [
       "  0%|          | 0/2560 [00:00<?, ?it/s]"
      ]
     },
     "metadata": {},
     "output_type": "display_data"
    },
    {
     "data": {
      "text/html": [
       "<div>\n",
       "<style scoped>\n",
       "    .dataframe tbody tr th:only-of-type {\n",
       "        vertical-align: middle;\n",
       "    }\n",
       "\n",
       "    .dataframe tbody tr th {\n",
       "        vertical-align: top;\n",
       "    }\n",
       "\n",
       "    .dataframe thead th {\n",
       "        text-align: right;\n",
       "    }\n",
       "</style>\n",
       "<table border=\"1\" class=\"dataframe\">\n",
       "  <thead>\n",
       "    <tr style=\"text-align: right;\">\n",
       "      <th></th>\n",
       "      <th>no_mirna</th>\n",
       "      <th>single_mirna</th>\n",
       "      <th>single_but_multiple_times</th>\n",
       "      <th>multiple_types</th>\n",
       "      <th>total</th>\n",
       "    </tr>\n",
       "  </thead>\n",
       "  <tbody>\n",
       "    <tr>\n",
       "      <th>sidd_F</th>\n",
       "      <td>3153</td>\n",
       "      <td>4117</td>\n",
       "      <td>6271</td>\n",
       "      <td>1753</td>\n",
       "      <td>15294</td>\n",
       "    </tr>\n",
       "    <tr>\n",
       "      <th>sidd_RC</th>\n",
       "      <td>3048</td>\n",
       "      <td>4158</td>\n",
       "      <td>6273</td>\n",
       "      <td>1815</td>\n",
       "      <td>15294</td>\n",
       "    </tr>\n",
       "    <tr>\n",
       "      <th>sidd.slop100_F</th>\n",
       "      <td>135</td>\n",
       "      <td>520</td>\n",
       "      <td>10352</td>\n",
       "      <td>4287</td>\n",
       "      <td>15294</td>\n",
       "    </tr>\n",
       "    <tr>\n",
       "      <th>sidd.slop100_RC</th>\n",
       "      <td>130</td>\n",
       "      <td>557</td>\n",
       "      <td>10246</td>\n",
       "      <td>4361</td>\n",
       "      <td>15294</td>\n",
       "    </tr>\n",
       "    <tr>\n",
       "      <th>sidd.slop200_F</th>\n",
       "      <td>10</td>\n",
       "      <td>35</td>\n",
       "      <td>8760</td>\n",
       "      <td>6489</td>\n",
       "      <td>15294</td>\n",
       "    </tr>\n",
       "    <tr>\n",
       "      <th>sidd.slop200_RC</th>\n",
       "      <td>6</td>\n",
       "      <td>29</td>\n",
       "      <td>8705</td>\n",
       "      <td>6554</td>\n",
       "      <td>15294</td>\n",
       "    </tr>\n",
       "    <tr>\n",
       "      <th>sidd.slop500_F</th>\n",
       "      <td>1</td>\n",
       "      <td>0</td>\n",
       "      <td>2976</td>\n",
       "      <td>12317</td>\n",
       "      <td>15294</td>\n",
       "    </tr>\n",
       "    <tr>\n",
       "      <th>sidd.slop500_RC</th>\n",
       "      <td>0</td>\n",
       "      <td>0</td>\n",
       "      <td>2896</td>\n",
       "      <td>12398</td>\n",
       "      <td>15294</td>\n",
       "    </tr>\n",
       "    <tr>\n",
       "      <th>z-dna_F</th>\n",
       "      <td>21666</td>\n",
       "      <td>2616</td>\n",
       "      <td>730</td>\n",
       "      <td>45</td>\n",
       "      <td>25057</td>\n",
       "    </tr>\n",
       "    <tr>\n",
       "      <th>z-dna_RC</th>\n",
       "      <td>21709</td>\n",
       "      <td>2731</td>\n",
       "      <td>511</td>\n",
       "      <td>106</td>\n",
       "      <td>25057</td>\n",
       "    </tr>\n",
       "    <tr>\n",
       "      <th>z-dna_and_sidd_F</th>\n",
       "      <td>212</td>\n",
       "      <td>30</td>\n",
       "      <td>14</td>\n",
       "      <td>0</td>\n",
       "      <td>256</td>\n",
       "    </tr>\n",
       "    <tr>\n",
       "      <th>z-dna_and_sidd_RC</th>\n",
       "      <td>217</td>\n",
       "      <td>25</td>\n",
       "      <td>10</td>\n",
       "      <td>4</td>\n",
       "      <td>256</td>\n",
       "    </tr>\n",
       "    <tr>\n",
       "      <th>z-dna_and_sidd.slop100_F</th>\n",
       "      <td>619</td>\n",
       "      <td>95</td>\n",
       "      <td>41</td>\n",
       "      <td>2</td>\n",
       "      <td>757</td>\n",
       "    </tr>\n",
       "    <tr>\n",
       "      <th>z-dna_and_sidd.slop100_RC</th>\n",
       "      <td>612</td>\n",
       "      <td>97</td>\n",
       "      <td>36</td>\n",
       "      <td>12</td>\n",
       "      <td>757</td>\n",
       "    </tr>\n",
       "    <tr>\n",
       "      <th>z-dna_and_sidd.slop200_F</th>\n",
       "      <td>922</td>\n",
       "      <td>140</td>\n",
       "      <td>52</td>\n",
       "      <td>2</td>\n",
       "      <td>1116</td>\n",
       "    </tr>\n",
       "    <tr>\n",
       "      <th>z-dna_and_sidd.slop200_RC</th>\n",
       "      <td>922</td>\n",
       "      <td>128</td>\n",
       "      <td>51</td>\n",
       "      <td>15</td>\n",
       "      <td>1116</td>\n",
       "    </tr>\n",
       "    <tr>\n",
       "      <th>z-dna_and_sidd.slop500_F</th>\n",
       "      <td>1527</td>\n",
       "      <td>209</td>\n",
       "      <td>63</td>\n",
       "      <td>2</td>\n",
       "      <td>1801</td>\n",
       "    </tr>\n",
       "    <tr>\n",
       "      <th>z-dna_and_sidd.slop500_RC</th>\n",
       "      <td>1529</td>\n",
       "      <td>193</td>\n",
       "      <td>63</td>\n",
       "      <td>16</td>\n",
       "      <td>1801</td>\n",
       "    </tr>\n",
       "    <tr>\n",
       "      <th>quadruplex_F</th>\n",
       "      <td>15683</td>\n",
       "      <td>3736</td>\n",
       "      <td>769</td>\n",
       "      <td>63</td>\n",
       "      <td>20251</td>\n",
       "    </tr>\n",
       "    <tr>\n",
       "      <th>quadruplex_RC</th>\n",
       "      <td>15755</td>\n",
       "      <td>3612</td>\n",
       "      <td>836</td>\n",
       "      <td>48</td>\n",
       "      <td>20251</td>\n",
       "    </tr>\n",
       "    <tr>\n",
       "      <th>quadruplex_and_sidd_F</th>\n",
       "      <td>1088</td>\n",
       "      <td>262</td>\n",
       "      <td>23</td>\n",
       "      <td>1</td>\n",
       "      <td>1374</td>\n",
       "    </tr>\n",
       "    <tr>\n",
       "      <th>quadruplex_and_sidd_RC</th>\n",
       "      <td>1062</td>\n",
       "      <td>256</td>\n",
       "      <td>55</td>\n",
       "      <td>1</td>\n",
       "      <td>1374</td>\n",
       "    </tr>\n",
       "    <tr>\n",
       "      <th>quadruplex_and_sidd.slop100_F</th>\n",
       "      <td>1765</td>\n",
       "      <td>424</td>\n",
       "      <td>59</td>\n",
       "      <td>2</td>\n",
       "      <td>2250</td>\n",
       "    </tr>\n",
       "    <tr>\n",
       "      <th>quadruplex_and_sidd.slop100_RC</th>\n",
       "      <td>1792</td>\n",
       "      <td>379</td>\n",
       "      <td>78</td>\n",
       "      <td>1</td>\n",
       "      <td>2250</td>\n",
       "    </tr>\n",
       "    <tr>\n",
       "      <th>quadruplex_and_sidd.slop200_F</th>\n",
       "      <td>1995</td>\n",
       "      <td>471</td>\n",
       "      <td>65</td>\n",
       "      <td>3</td>\n",
       "      <td>2534</td>\n",
       "    </tr>\n",
       "    <tr>\n",
       "      <th>quadruplex_and_sidd.slop200_RC</th>\n",
       "      <td>2018</td>\n",
       "      <td>425</td>\n",
       "      <td>90</td>\n",
       "      <td>1</td>\n",
       "      <td>2534</td>\n",
       "    </tr>\n",
       "    <tr>\n",
       "      <th>quadruplex_and_sidd.slop500_F</th>\n",
       "      <td>2418</td>\n",
       "      <td>581</td>\n",
       "      <td>84</td>\n",
       "      <td>6</td>\n",
       "      <td>3089</td>\n",
       "    </tr>\n",
       "    <tr>\n",
       "      <th>quadruplex_and_sidd.slop500_RC</th>\n",
       "      <td>2454</td>\n",
       "      <td>527</td>\n",
       "      <td>105</td>\n",
       "      <td>3</td>\n",
       "      <td>3089</td>\n",
       "    </tr>\n",
       "    <tr>\n",
       "      <th>h-dna_F</th>\n",
       "      <td>15624</td>\n",
       "      <td>1066</td>\n",
       "      <td>395</td>\n",
       "      <td>13</td>\n",
       "      <td>17098</td>\n",
       "    </tr>\n",
       "    <tr>\n",
       "      <th>h-dna_RC</th>\n",
       "      <td>15623</td>\n",
       "      <td>1092</td>\n",
       "      <td>370</td>\n",
       "      <td>13</td>\n",
       "      <td>17098</td>\n",
       "    </tr>\n",
       "    <tr>\n",
       "      <th>h-dna_and_sidd_F</th>\n",
       "      <td>1592</td>\n",
       "      <td>32</td>\n",
       "      <td>3</td>\n",
       "      <td>0</td>\n",
       "      <td>1627</td>\n",
       "    </tr>\n",
       "    <tr>\n",
       "      <th>h-dna_and_sidd_RC</th>\n",
       "      <td>1590</td>\n",
       "      <td>33</td>\n",
       "      <td>3</td>\n",
       "      <td>1</td>\n",
       "      <td>1627</td>\n",
       "    </tr>\n",
       "    <tr>\n",
       "      <th>h-dna_and_sidd.slop100_F</th>\n",
       "      <td>1945</td>\n",
       "      <td>65</td>\n",
       "      <td>5</td>\n",
       "      <td>1</td>\n",
       "      <td>2016</td>\n",
       "    </tr>\n",
       "    <tr>\n",
       "      <th>h-dna_and_sidd.slop100_RC</th>\n",
       "      <td>1948</td>\n",
       "      <td>57</td>\n",
       "      <td>10</td>\n",
       "      <td>1</td>\n",
       "      <td>2016</td>\n",
       "    </tr>\n",
       "    <tr>\n",
       "      <th>h-dna_and_sidd.slop200_F</th>\n",
       "      <td>2158</td>\n",
       "      <td>79</td>\n",
       "      <td>10</td>\n",
       "      <td>2</td>\n",
       "      <td>2249</td>\n",
       "    </tr>\n",
       "    <tr>\n",
       "      <th>h-dna_and_sidd.slop200_RC</th>\n",
       "      <td>2157</td>\n",
       "      <td>74</td>\n",
       "      <td>17</td>\n",
       "      <td>1</td>\n",
       "      <td>2249</td>\n",
       "    </tr>\n",
       "    <tr>\n",
       "      <th>h-dna_and_sidd.slop500_F</th>\n",
       "      <td>2444</td>\n",
       "      <td>96</td>\n",
       "      <td>17</td>\n",
       "      <td>3</td>\n",
       "      <td>2560</td>\n",
       "    </tr>\n",
       "    <tr>\n",
       "      <th>h-dna_and_sidd.slop500_RC</th>\n",
       "      <td>2447</td>\n",
       "      <td>87</td>\n",
       "      <td>25</td>\n",
       "      <td>1</td>\n",
       "      <td>2560</td>\n",
       "    </tr>\n",
       "  </tbody>\n",
       "</table>\n",
       "</div>"
      ],
      "text/plain": [
       "                                no_mirna  single_mirna  \\\n",
       "sidd_F                              3153          4117   \n",
       "sidd_RC                             3048          4158   \n",
       "sidd.slop100_F                       135           520   \n",
       "sidd.slop100_RC                      130           557   \n",
       "sidd.slop200_F                        10            35   \n",
       "sidd.slop200_RC                        6            29   \n",
       "sidd.slop500_F                         1             0   \n",
       "sidd.slop500_RC                        0             0   \n",
       "z-dna_F                            21666          2616   \n",
       "z-dna_RC                           21709          2731   \n",
       "z-dna_and_sidd_F                     212            30   \n",
       "z-dna_and_sidd_RC                    217            25   \n",
       "z-dna_and_sidd.slop100_F             619            95   \n",
       "z-dna_and_sidd.slop100_RC            612            97   \n",
       "z-dna_and_sidd.slop200_F             922           140   \n",
       "z-dna_and_sidd.slop200_RC            922           128   \n",
       "z-dna_and_sidd.slop500_F            1527           209   \n",
       "z-dna_and_sidd.slop500_RC           1529           193   \n",
       "quadruplex_F                       15683          3736   \n",
       "quadruplex_RC                      15755          3612   \n",
       "quadruplex_and_sidd_F               1088           262   \n",
       "quadruplex_and_sidd_RC              1062           256   \n",
       "quadruplex_and_sidd.slop100_F       1765           424   \n",
       "quadruplex_and_sidd.slop100_RC      1792           379   \n",
       "quadruplex_and_sidd.slop200_F       1995           471   \n",
       "quadruplex_and_sidd.slop200_RC      2018           425   \n",
       "quadruplex_and_sidd.slop500_F       2418           581   \n",
       "quadruplex_and_sidd.slop500_RC      2454           527   \n",
       "h-dna_F                            15624          1066   \n",
       "h-dna_RC                           15623          1092   \n",
       "h-dna_and_sidd_F                    1592            32   \n",
       "h-dna_and_sidd_RC                   1590            33   \n",
       "h-dna_and_sidd.slop100_F            1945            65   \n",
       "h-dna_and_sidd.slop100_RC           1948            57   \n",
       "h-dna_and_sidd.slop200_F            2158            79   \n",
       "h-dna_and_sidd.slop200_RC           2157            74   \n",
       "h-dna_and_sidd.slop500_F            2444            96   \n",
       "h-dna_and_sidd.slop500_RC           2447            87   \n",
       "\n",
       "                                single_but_multiple_times  multiple_types  \\\n",
       "sidd_F                                               6271            1753   \n",
       "sidd_RC                                              6273            1815   \n",
       "sidd.slop100_F                                      10352            4287   \n",
       "sidd.slop100_RC                                     10246            4361   \n",
       "sidd.slop200_F                                       8760            6489   \n",
       "sidd.slop200_RC                                      8705            6554   \n",
       "sidd.slop500_F                                       2976           12317   \n",
       "sidd.slop500_RC                                      2896           12398   \n",
       "z-dna_F                                               730              45   \n",
       "z-dna_RC                                              511             106   \n",
       "z-dna_and_sidd_F                                       14               0   \n",
       "z-dna_and_sidd_RC                                      10               4   \n",
       "z-dna_and_sidd.slop100_F                               41               2   \n",
       "z-dna_and_sidd.slop100_RC                              36              12   \n",
       "z-dna_and_sidd.slop200_F                               52               2   \n",
       "z-dna_and_sidd.slop200_RC                              51              15   \n",
       "z-dna_and_sidd.slop500_F                               63               2   \n",
       "z-dna_and_sidd.slop500_RC                              63              16   \n",
       "quadruplex_F                                          769              63   \n",
       "quadruplex_RC                                         836              48   \n",
       "quadruplex_and_sidd_F                                  23               1   \n",
       "quadruplex_and_sidd_RC                                 55               1   \n",
       "quadruplex_and_sidd.slop100_F                          59               2   \n",
       "quadruplex_and_sidd.slop100_RC                         78               1   \n",
       "quadruplex_and_sidd.slop200_F                          65               3   \n",
       "quadruplex_and_sidd.slop200_RC                         90               1   \n",
       "quadruplex_and_sidd.slop500_F                          84               6   \n",
       "quadruplex_and_sidd.slop500_RC                        105               3   \n",
       "h-dna_F                                               395              13   \n",
       "h-dna_RC                                              370              13   \n",
       "h-dna_and_sidd_F                                        3               0   \n",
       "h-dna_and_sidd_RC                                       3               1   \n",
       "h-dna_and_sidd.slop100_F                                5               1   \n",
       "h-dna_and_sidd.slop100_RC                              10               1   \n",
       "h-dna_and_sidd.slop200_F                               10               2   \n",
       "h-dna_and_sidd.slop200_RC                              17               1   \n",
       "h-dna_and_sidd.slop500_F                               17               3   \n",
       "h-dna_and_sidd.slop500_RC                              25               1   \n",
       "\n",
       "                                total  \n",
       "sidd_F                          15294  \n",
       "sidd_RC                         15294  \n",
       "sidd.slop100_F                  15294  \n",
       "sidd.slop100_RC                 15294  \n",
       "sidd.slop200_F                  15294  \n",
       "sidd.slop200_RC                 15294  \n",
       "sidd.slop500_F                  15294  \n",
       "sidd.slop500_RC                 15294  \n",
       "z-dna_F                         25057  \n",
       "z-dna_RC                        25057  \n",
       "z-dna_and_sidd_F                  256  \n",
       "z-dna_and_sidd_RC                 256  \n",
       "z-dna_and_sidd.slop100_F          757  \n",
       "z-dna_and_sidd.slop100_RC         757  \n",
       "z-dna_and_sidd.slop200_F         1116  \n",
       "z-dna_and_sidd.slop200_RC        1116  \n",
       "z-dna_and_sidd.slop500_F         1801  \n",
       "z-dna_and_sidd.slop500_RC        1801  \n",
       "quadruplex_F                    20251  \n",
       "quadruplex_RC                   20251  \n",
       "quadruplex_and_sidd_F            1374  \n",
       "quadruplex_and_sidd_RC           1374  \n",
       "quadruplex_and_sidd.slop100_F    2250  \n",
       "quadruplex_and_sidd.slop100_RC   2250  \n",
       "quadruplex_and_sidd.slop200_F    2534  \n",
       "quadruplex_and_sidd.slop200_RC   2534  \n",
       "quadruplex_and_sidd.slop500_F    3089  \n",
       "quadruplex_and_sidd.slop500_RC   3089  \n",
       "h-dna_F                         17098  \n",
       "h-dna_RC                        17098  \n",
       "h-dna_and_sidd_F                 1627  \n",
       "h-dna_and_sidd_RC                1627  \n",
       "h-dna_and_sidd.slop100_F         2016  \n",
       "h-dna_and_sidd.slop100_RC        2016  \n",
       "h-dna_and_sidd.slop200_F         2249  \n",
       "h-dna_and_sidd.slop200_RC        2249  \n",
       "h-dna_and_sidd.slop500_F         2560  \n",
       "h-dna_and_sidd.slop500_RC        2560  "
      ]
     },
     "execution_count": 10,
     "metadata": {},
     "output_type": "execute_result"
    }
   ],
   "source": [
    "df = pd.DataFrame()\n",
    "\n",
    "paths = [\n",
    "    f\"{d_data}/mm10_kouzine_ssDNA_fa/mm10_kouzine_actb_ssdna_enriched_sidd.fa\",\n",
    "    f\"{d_data}/mm10_kouzine_ssDNA_fa/mm10_kouzine_actb_ssdna_enriched_sidd.slop100.fa\",\n",
    "    f\"{d_data}/mm10_kouzine_ssDNA_fa/mm10_kouzine_actb_ssdna_enriched_sidd.slop200.fa\",\n",
    "    f\"{d_data}/mm10_kouzine_ssDNA_fa/mm10_kouzine_actb_ssdna_enriched_sidd.slop500.fa\",\n",
    "    f\"{d_data}/mm10_kouzine_ssDNA_fa/mm10_kouzine_actb_ssdna_enriched_z-dna.fa\",\n",
    "    f\"{d_data}/mm10_kouzine_ssDNA_fa/mm10_kouzine_actb_ssdna_enriched_z-dna_and_sidd.fa\",\n",
    "    f\"{d_data}/mm10_kouzine_ssDNA_fa/mm10_kouzine_actb_ssdna_enriched_z-dna_and_sidd.slop100.fa\",\n",
    "    f\"{d_data}/mm10_kouzine_ssDNA_fa/mm10_kouzine_actb_ssdna_enriched_z-dna_and_sidd.slop200.fa\",\n",
    "    f\"{d_data}/mm10_kouzine_ssDNA_fa/mm10_kouzine_actb_ssdna_enriched_z-dna_and_sidd.slop500.fa\",\n",
    "    f\"{d_data}/mm10_kouzine_ssDNA_fa/mm10_kouzine_actb_ssdna_enriched_quadruplex.fa\",\n",
    "    f\"{d_data}/mm10_kouzine_ssDNA_fa/mm10_kouzine_actb_ssdna_enriched_quadruplex_and_sidd.fa\",\n",
    "    f\"{d_data}/mm10_kouzine_ssDNA_fa/mm10_kouzine_actb_ssdna_enriched_quadruplex_and_sidd.slop100.fa\",\n",
    "    f\"{d_data}/mm10_kouzine_ssDNA_fa/mm10_kouzine_actb_ssdna_enriched_quadruplex_and_sidd.slop200.fa\",\n",
    "    f\"{d_data}/mm10_kouzine_ssDNA_fa/mm10_kouzine_actb_ssdna_enriched_quadruplex_and_sidd.slop500.fa\",\n",
    "    f\"{d_data}/mm10_kouzine_ssDNA_fa/mm10_kouzine_actb_ssdna_enriched_h-dna.fa\",\n",
    "    f\"{d_data}/mm10_kouzine_ssDNA_fa/mm10_kouzine_actb_ssdna_enriched_h-dna_and_sidd.fa\",\n",
    "    f\"{d_data}/mm10_kouzine_ssDNA_fa/mm10_kouzine_actb_ssdna_enriched_h-dna_and_sidd.slop100.fa\",\n",
    "    f\"{d_data}/mm10_kouzine_ssDNA_fa/mm10_kouzine_actb_ssdna_enriched_h-dna_and_sidd.slop200.fa\",\n",
    "    f\"{d_data}/mm10_kouzine_ssDNA_fa/mm10_kouzine_actb_ssdna_enriched_h-dna_and_sidd.slop500.fa\",\n",
    "]\n",
    "\n",
    "for path in tqdm(paths):\n",
    "    name = path.split('enriched_')[1].split('.fa')[0]\n",
    "    # print(name, path)\n",
    "\n",
    "    shape: int\n",
    "    with open(path, \"r\") as f_in:\n",
    "        shape = sum(1 for _ in f_in) // 2\n",
    "    # print(f\"{name}: {shape:,d} regions\")\n",
    "\n",
    "    fasta = list(SeqIO.parse(path, \"fasta\"))        \n",
    "    fasta_fwd_seq = [x.seq.upper() for x in fasta]\n",
    "\n",
    "\n",
    "    mirna_fams = mirna_df[\"miRNA gene family\"]\n",
    "    mirna_motiffs = mirna_df[\"Seed region\"]\n",
    "    mirna_rcm_motiffs = mirna_df[\"Seed region (RC)\"]\n",
    "\n",
    "    mirna_count_fwd = np.zeros((len(mirna_fams), shape))\n",
    "    mirna_count_rcm = np.zeros((len(mirna_fams), shape))\n",
    "\n",
    "    for j, rec_fwd in enumerate(tqdm(fasta_fwd_seq, total=shape, leave=False)):\n",
    "        for i, _ in enumerate(mirna_fams):\n",
    "            mirna_count_fwd[i][j] = sum(\n",
    "                rec_fwd.count(motiff) for motiff in mirna_motiffs[i]\n",
    "            )\n",
    "            mirna_count_rcm[i][j] = sum(\n",
    "                rec_fwd.count(motiff_rev_comp)\n",
    "                for motiff_rev_comp in mirna_rcm_motiffs[i]\n",
    "            )\n",
    "\n",
    "    df = pd.concat(\n",
    "        [\n",
    "            df,\n",
    "            pd.concat(\n",
    "                [\n",
    "                    create_dataframe(mirna_count_fwd, name + f\"_F\"),\n",
    "                    create_dataframe(mirna_count_rcm, name + f\"_RC\"),\n",
    "                ]\n",
    "            ),\n",
    "        ]\n",
    "    )\n",
    "\n",
    "df\n"
   ]
  },
  {
   "cell_type": "markdown",
   "id": "946610b1",
   "metadata": {},
   "source": [
    "## Task 2\n",
    "\n",
    "The  overlap with DNA methylation at CCRE positive elements (but no repeats)  at all genomic locations and the same for repeats (with no CCRE overlap). Are repeat promoters preferentially methylated?\n"
   ]
  },
  {
   "cell_type": "markdown",
   "id": "ea2f24d6",
   "metadata": {},
   "source": [
    "### Map flipons to: H3K9ac and H3K14ac"
   ]
  },
  {
   "cell_type": "code",
   "execution_count": 12,
   "id": "3d259697",
   "metadata": {},
   "outputs": [],
   "source": [
    "for flipon in flipon_data:\n",
    "    !gzip -cd {f_h3k9ac} | bedtools intersect -a {flipon.path_bed} -b stdin -wo | head\n",
    "    !gzip -cd {f_h3k14ac} | bedtools intersect -a {flipon.path_bed} -b stdin -wo | head\n",
    "    break"
   ]
  },
  {
   "cell_type": "code",
   "execution_count": null,
   "id": "2dc20d7d",
   "metadata": {},
   "outputs": [],
   "source": []
  },
  {
   "cell_type": "markdown",
   "id": "b59f06db",
   "metadata": {},
   "source": [
    "## Task 3\n",
    "\n",
    "Are the miRNAs that bind repeat promoters (no overlap with CCRE) the same or different from the CCRE promoters (no overlap with repeats)?\n",
    "\n",
    "1. Pick all **promoter regions** with **repeats** but **no cCREs** and make a subset of miRNAs\n",
    "2. Pick all **promoter regions** with **cCREs** but **no repeats** and make a subset of miRNAs\n",
    "3. Make a barplot"
   ]
  },
  {
   "cell_type": "code",
   "execution_count": 161,
   "id": "02c029f7",
   "metadata": {},
   "outputs": [
    {
     "data": {
      "text/html": [
       "<div>\n",
       "<style scoped>\n",
       "    .dataframe tbody tr th:only-of-type {\n",
       "        vertical-align: middle;\n",
       "    }\n",
       "\n",
       "    .dataframe tbody tr th {\n",
       "        vertical-align: top;\n",
       "    }\n",
       "\n",
       "    .dataframe thead th {\n",
       "        text-align: right;\n",
       "    }\n",
       "</style>\n",
       "<table border=\"1\" class=\"dataframe\">\n",
       "  <thead>\n",
       "    <tr style=\"text-align: right;\">\n",
       "      <th></th>\n",
       "      <th>mirna</th>\n",
       "      <th>type</th>\n",
       "      <th>group</th>\n",
       "      <th>total_count</th>\n",
       "    </tr>\n",
       "  </thead>\n",
       "  <tbody>\n",
       "    <tr>\n",
       "      <th>238</th>\n",
       "      <td>miR-203a</td>\n",
       "      <td>Repeats without cCREs</td>\n",
       "      <td>sidd</td>\n",
       "      <td>637</td>\n",
       "    </tr>\n",
       "    <tr>\n",
       "      <th>575</th>\n",
       "      <td>miR-744</td>\n",
       "      <td>cCREs without Repeats</td>\n",
       "      <td>quadruplex</td>\n",
       "      <td>315</td>\n",
       "    </tr>\n",
       "    <tr>\n",
       "      <th>198</th>\n",
       "      <td>miR-186</td>\n",
       "      <td>Repeats without cCREs</td>\n",
       "      <td>sidd</td>\n",
       "      <td>226</td>\n",
       "    </tr>\n",
       "    <tr>\n",
       "      <th>398</th>\n",
       "      <td>miR-374</td>\n",
       "      <td>Repeats without cCREs</td>\n",
       "      <td>sidd</td>\n",
       "      <td>199</td>\n",
       "    </tr>\n",
       "    <tr>\n",
       "      <th>566</th>\n",
       "      <td>miR-670</td>\n",
       "      <td>Repeats without cCREs</td>\n",
       "      <td>sidd</td>\n",
       "      <td>158</td>\n",
       "    </tr>\n",
       "    <tr>\n",
       "      <th>...</th>\n",
       "      <td>...</td>\n",
       "      <td>...</td>\n",
       "      <td>...</td>\n",
       "      <td>...</td>\n",
       "    </tr>\n",
       "    <tr>\n",
       "      <th>128</th>\n",
       "      <td>miR-145</td>\n",
       "      <td>cCREs without Repeats</td>\n",
       "      <td>h-dna</td>\n",
       "      <td>1</td>\n",
       "    </tr>\n",
       "    <tr>\n",
       "      <th>471</th>\n",
       "      <td>miR-485</td>\n",
       "      <td>Repeats without cCREs</td>\n",
       "      <td>quadruplex</td>\n",
       "      <td>1</td>\n",
       "    </tr>\n",
       "    <tr>\n",
       "      <th>133</th>\n",
       "      <td>miR-147</td>\n",
       "      <td>Repeats without cCREs</td>\n",
       "      <td>sidd</td>\n",
       "      <td>1</td>\n",
       "    </tr>\n",
       "    <tr>\n",
       "      <th>249</th>\n",
       "      <td>miR-205</td>\n",
       "      <td>cCREs without Repeats</td>\n",
       "      <td>h-dna</td>\n",
       "      <td>1</td>\n",
       "    </tr>\n",
       "    <tr>\n",
       "      <th>615</th>\n",
       "      <td>miR-99/100</td>\n",
       "      <td>cCREs without Repeats</td>\n",
       "      <td>z-dna</td>\n",
       "      <td>1</td>\n",
       "    </tr>\n",
       "  </tbody>\n",
       "</table>\n",
       "<p>608 rows × 4 columns</p>\n",
       "</div>"
      ],
      "text/plain": [
       "          mirna                   type       group  total_count\n",
       "238    miR-203a  Repeats without cCREs        sidd          637\n",
       "575     miR-744  cCREs without Repeats  quadruplex          315\n",
       "198     miR-186  Repeats without cCREs        sidd          226\n",
       "398     miR-374  Repeats without cCREs        sidd          199\n",
       "566     miR-670  Repeats without cCREs        sidd          158\n",
       "..          ...                    ...         ...          ...\n",
       "128     miR-145  cCREs without Repeats       h-dna            1\n",
       "471     miR-485  Repeats without cCREs  quadruplex            1\n",
       "133     miR-147  Repeats without cCREs        sidd            1\n",
       "249     miR-205  cCREs without Repeats       h-dna            1\n",
       "615  miR-99/100  cCREs without Repeats       z-dna            1\n",
       "\n",
       "[608 rows x 4 columns]"
      ]
     },
     "execution_count": 161,
     "metadata": {},
     "output_type": "execute_result"
    }
   ],
   "source": [
    "form_df_1 = (\n",
    "    flipons_to_data.query(\n",
    "        'annotation.str.contains(\"Promoter\") and \\\n",
    "        `cCRE (+-200bp slop)` == \"\" and \\\n",
    "        `LINE/LTR repeats (+-200bp slop)` != \"\"'\n",
    "    )\n",
    "    .replace(regex=\" \\(\\d+\\)\", value=\"\")\n",
    "    .assign(\n",
    "        type=\"Repeats without cCREs\",\n",
    "        mirna_p=lambda x: x[\"miRNA (+ strand)\"].apply(lambda x: x.split(\", \")),\n",
    "        mirna_m=lambda x: x[\"miRNA (- strand)\"].apply(lambda x: x.split(\", \")),\n",
    "    )\n",
    "    .explode(\"mirna_p\")\n",
    "    .explode(\"mirna_m\")\n",
    "    .loc[:, [\"type\", \"annotation\", \"group\", \"mirna_p\", \"mirna_m\"]]\n",
    ")\n",
    "\n",
    "form_df_2 = (\n",
    "    flipons_to_data.query(\n",
    "        'annotation.str.contains(\"Promoter\") and \\\n",
    "        `cCRE (+-200bp slop)` != \"\" and \\\n",
    "        `LINE/LTR repeats (+-200bp slop)` == \"\"'\n",
    "    )\n",
    "    .replace(regex=\" \\(\\d+\\)\", value=\"\")\n",
    "    .assign(\n",
    "        type=\"cCREs without Repeats\",\n",
    "        mirna_p=lambda x: x[\"miRNA (+ strand)\"].apply(lambda x: x.split(\", \")),\n",
    "        mirna_m=lambda x: x[\"miRNA (- strand)\"].apply(lambda x: x.split(\", \")),\n",
    "    )\n",
    "    .explode(\"mirna_p\")\n",
    "    .explode(\"mirna_m\")\n",
    "    .loc[:, [\"type\", \"annotation\", \"group\", \"mirna_p\", \"mirna_m\"]]\n",
    ")\n",
    "\n",
    "form_df = (\n",
    "    pd.concat([form_df_1, form_df_2], ignore_index=True)\n",
    "    .melt(\n",
    "        id_vars=[\"type\", \"annotation\", \"group\"],\n",
    "        value_vars=[\"mirna_p\", \"mirna_m\"],\n",
    "        var_name='strand',\n",
    "        value_name=\"mirna\",\n",
    "    )\n",
    "    .groupby([\"mirna\", \"type\"])[\"group\"]\n",
    "    .value_counts()\n",
    "    .to_frame()\n",
    "    .rename(columns={\"group\": \"total_count\"})\n",
    "    .reset_index()\n",
    "    .replace('', np.nan).dropna()\n",
    "    .sort_values('total_count', ascending=False)\n",
    ")\n",
    "form_df\n"
   ]
  },
  {
   "cell_type": "code",
   "execution_count": 159,
   "id": "84d0e743",
   "metadata": {},
   "outputs": [
    {
     "data": {
      "application/vnd.plotly.v1+json": {
       "config": {
        "plotlyServerURL": "https://plot.ly"
       },
       "data": [
        {
         "alignmentgroup": "True",
         "hovertemplate": "type=Repeats without cCREs<br>group=sidd<br>mirna=%{x}<br>total_count=%{y}<extra></extra>",
         "legendgroup": "Repeats without cCREs",
         "marker": {
          "color": "#636efa",
          "pattern": {
           "shape": ""
          }
         },
         "name": "Repeats without cCREs",
         "offsetgroup": "Repeats without cCREs",
         "orientation": "v",
         "showlegend": true,
         "textposition": "auto",
         "type": "bar",
         "x": [
          "miR-203a",
          "miR-186",
          "miR-374",
          "miR-670",
          "miR-142",
          "miR-325",
          "miR-340",
          "miR-129",
          "miR-204/211",
          "miR-330",
          "miR-495",
          "miR-382",
          "miR-655",
          "miR-493",
          "miR-582",
          "miR-653",
          "miR-136",
          "miR-23",
          "miR-409",
          "miR-448",
          "miR-216b",
          "miR-369",
          "miR-410",
          "miR-216a",
          "miR-455",
          "miR-137",
          "miR-144",
          "miR-532",
          "miR-452",
          "miR-411",
          "miR-140",
          "miR-299",
          "miR-181",
          "miR-376c",
          "miR-496",
          "miR-302abd",
          "miR-376ab",
          "miR-539",
          "miR-101",
          "miR-154",
          "miR-483",
          "miR-1/206",
          "miR-302c",
          "miR-30",
          "miR-329/362",
          "miR-200bc/429",
          "miR-543",
          "miR-27",
          "miR-381",
          "miR-379",
          "miR-155",
          "miR-188",
          "miR-758",
          "miR-124",
          "miR-361",
          "miR-185",
          "miR-433",
          "miR-499",
          "miR-9",
          "miR-132/212",
          "miR-10",
          "miR-873",
          "miR-122",
          "miR-323a",
          "miR-505",
          "miR-199",
          "miR-377",
          "miR-33",
          "miR-141/200a",
          "miR-490",
          "miR-494",
          "miR-378a",
          "miR-21/590",
          "miR-296",
          "miR-338",
          "miR-135",
          "miR-488",
          "miR-876",
          "miR-143",
          "miR-486",
          "miR-425",
          "miR-346",
          "miR-128",
          "miR-365",
          "miR-139",
          "miR-194",
          "miR-146",
          "miR-125",
          "miR-151a",
          "miR-34/449",
          "miR-542",
          "miR-17/20/93/106/519d",
          "miR-134",
          "miR-874",
          "miR-31",
          "miR-223",
          "miR-214",
          "miR-196",
          "miR-218",
          "miR-193",
          "miR-19",
          "miR-221/222",
          "miR-668",
          "miR-26",
          "miR-875",
          "miR-182",
          "miR-29",
          "miR-501/502",
          "miR-15/16/195/424/497",
          "miR-544a",
          "miR-224",
          "miR-183",
          "miR-202",
          "miR-190",
          "miR-491",
          "miR-130/301/454",
          "miR-150",
          "miR-103/107",
          "miR-383",
          "miR-421",
          "miR-133",
          "miR-217",
          "miR-205",
          "miR-145",
          "miR-1197",
          "miR-24",
          "miR-22",
          "miR-1193",
          "miR-339",
          "miR-96/1271",
          "miR-342",
          "miR-192/215",
          "miR-153",
          "miR-802",
          "miR-331",
          "miR-219",
          "miR-371",
          "miR-149",
          "miR-504",
          "miR-7",
          "miR-28/708",
          "miR-760",
          "miR-1251",
          "miR-489",
          "miR-423",
          "miR-328",
          "miR-485",
          "miR-138",
          "miR-18",
          "miR-335",
          "miR-450a",
          "miR-324",
          "miR-665",
          "let-7/miR-98",
          "miR-25/32/92/363/367",
          "miR-1249",
          "miR-187",
          "miR-1306",
          "miR-375",
          "miR-148/152",
          "miR-1298",
          "miR-431",
          "miR-191",
          "miR-126",
          "miR-487b",
          "miR-503",
          "miR-551",
          "miR-147"
         ],
         "xaxis": "x4",
         "y": [
          637,
          226,
          199,
          158,
          124,
          107,
          104,
          99,
          97,
          96,
          86,
          85,
          79,
          79,
          77,
          76,
          73,
          72,
          72,
          71,
          71,
          68,
          68,
          66,
          64,
          64,
          63,
          62,
          62,
          58,
          57,
          57,
          56,
          55,
          54,
          53,
          52,
          52,
          52,
          51,
          51,
          51,
          49,
          48,
          48,
          47,
          46,
          46,
          45,
          43,
          43,
          43,
          41,
          41,
          40,
          39,
          39,
          39,
          38,
          37,
          36,
          36,
          35,
          35,
          35,
          35,
          34,
          34,
          34,
          33,
          32,
          32,
          31,
          31,
          31,
          30,
          30,
          29,
          29,
          29,
          28,
          27,
          27,
          27,
          26,
          26,
          26,
          26,
          26,
          25,
          25,
          25,
          25,
          25,
          24,
          24,
          24,
          24,
          24,
          24,
          23,
          23,
          23,
          23,
          22,
          22,
          22,
          22,
          21,
          21,
          21,
          21,
          21,
          21,
          20,
          20,
          19,
          19,
          19,
          19,
          18,
          18,
          17,
          17,
          17,
          16,
          16,
          16,
          15,
          15,
          15,
          15,
          14,
          14,
          14,
          13,
          13,
          13,
          13,
          13,
          12,
          12,
          12,
          11,
          10,
          9,
          9,
          9,
          9,
          8,
          8,
          8,
          7,
          7,
          6,
          5,
          4,
          4,
          4,
          3,
          3,
          2,
          2,
          1,
          1,
          1,
          1,
          1
         ],
         "yaxis": "y4"
        },
        {
         "alignmentgroup": "True",
         "hovertemplate": "type=Repeats without cCREs<br>group=quadruplex<br>mirna=%{x}<br>total_count=%{y}<extra></extra>",
         "legendgroup": "Repeats without cCREs",
         "marker": {
          "color": "#636efa",
          "pattern": {
           "shape": ""
          }
         },
         "name": "Repeats without cCREs",
         "offsetgroup": "Repeats without cCREs",
         "orientation": "v",
         "showlegend": false,
         "textposition": "auto",
         "type": "bar",
         "x": [
          "miR-532",
          "miR-328",
          "miR-491",
          "miR-874",
          "miR-185",
          "miR-1306",
          "miR-423",
          "miR-150",
          "miR-296",
          "miR-299",
          "miR-330",
          "miR-339",
          "miR-204/211",
          "miR-188",
          "miR-129",
          "miR-34/449",
          "miR-504",
          "miR-140",
          "miR-365",
          "miR-744",
          "miR-122",
          "miR-873",
          "miR-133",
          "miR-10",
          "miR-125",
          "miR-134",
          "miR-760",
          "miR-551",
          "miR-483",
          "miR-331",
          "miR-324",
          "miR-329/362",
          "miR-338",
          "miR-346",
          "miR-409",
          "miR-875",
          "miR-1249",
          "miR-9",
          "miR-1/206",
          "miR-154",
          "miR-149",
          "miR-15/16/195/424/497",
          "miR-379",
          "miR-17/20/93/106/519d",
          "miR-184",
          "miR-486",
          "miR-615",
          "miR-138",
          "miR-455",
          "miR-485"
         ],
         "xaxis": "x3",
         "y": [
          47,
          33,
          32,
          28,
          24,
          15,
          11,
          10,
          9,
          8,
          7,
          6,
          5,
          5,
          4,
          4,
          3,
          3,
          3,
          3,
          3,
          3,
          2,
          2,
          2,
          2,
          2,
          2,
          2,
          2,
          2,
          1,
          1,
          1,
          1,
          1,
          1,
          1,
          1,
          1,
          1,
          1,
          1,
          1,
          1,
          1,
          1,
          1,
          1,
          1
         ],
         "yaxis": "y3"
        },
        {
         "alignmentgroup": "True",
         "hovertemplate": "type=Repeats without cCREs<br>group=z-dna<br>mirna=%{x}<br>total_count=%{y}<extra></extra>",
         "legendgroup": "Repeats without cCREs",
         "marker": {
          "color": "#636efa",
          "pattern": {
           "shape": ""
          }
         },
         "name": "Repeats without cCREs",
         "offsetgroup": "Repeats without cCREs",
         "orientation": "v",
         "showlegend": false,
         "textposition": "auto",
         "type": "bar",
         "x": [
          "miR-210",
          "miR-377",
          "miR-455",
          "miR-329/362",
          "miR-342",
          "miR-493",
          "miR-431",
          "miR-448",
          "miR-218",
          "miR-147",
          "miR-18",
          "miR-148/152",
          "miR-539",
          "miR-501/502",
          "miR-744",
          "miR-324",
          "miR-425",
          "miR-129",
          "miR-1249",
          "miR-486",
          "miR-153",
          "miR-17/20/93/106/519d",
          "miR-183",
          "miR-187",
          "miR-299",
          "miR-138",
          "miR-142"
         ],
         "xaxis": "x2",
         "y": [
          57,
          33,
          27,
          19,
          16,
          7,
          5,
          5,
          4,
          4,
          2,
          2,
          2,
          2,
          1,
          1,
          1,
          1,
          1,
          1,
          1,
          1,
          1,
          1,
          1,
          1,
          1
         ],
         "yaxis": "y2"
        },
        {
         "alignmentgroup": "True",
         "hovertemplate": "type=Repeats without cCREs<br>group=h-dna<br>mirna=%{x}<br>total_count=%{y}<extra></extra>",
         "legendgroup": "Repeats without cCREs",
         "marker": {
          "color": "#636efa",
          "pattern": {
           "shape": ""
          }
         },
         "name": "Repeats without cCREs",
         "offsetgroup": "Repeats without cCREs",
         "orientation": "v",
         "showlegend": false,
         "textposition": "auto",
         "type": "bar",
         "x": [
          "miR-185",
          "miR-204/211",
          "miR-1306",
          "miR-491",
          "miR-532",
          "miR-151a",
          "miR-423",
          "miR-129",
          "miR-339",
          "miR-186",
          "let-7/miR-98",
          "miR-142"
         ],
         "xaxis": "x",
         "y": [
          72,
          7,
          4,
          3,
          3,
          2,
          1,
          1,
          1,
          1,
          1,
          1
         ],
         "yaxis": "y"
        },
        {
         "alignmentgroup": "True",
         "hovertemplate": "type=cCREs without Repeats<br>group=sidd<br>mirna=%{x}<br>total_count=%{y}<extra></extra>",
         "legendgroup": "cCREs without Repeats",
         "marker": {
          "color": "#EF553B",
          "pattern": {
           "shape": ""
          }
         },
         "name": "cCREs without Repeats",
         "offsetgroup": "cCREs without Repeats",
         "orientation": "v",
         "showlegend": true,
         "textposition": "auto",
         "type": "bar",
         "x": [
          "miR-129",
          "miR-330",
          "miR-204/211",
          "miR-495",
          "miR-142",
          "miR-186",
          "miR-185",
          "miR-452",
          "miR-216a",
          "miR-203a",
          "miR-374",
          "miR-409",
          "miR-140",
          "miR-141/200a",
          "miR-448",
          "miR-329/362",
          "miR-455",
          "miR-218",
          "miR-665",
          "miR-135",
          "miR-532",
          "miR-146",
          "miR-485",
          "miR-132/212",
          "miR-150",
          "miR-543",
          "miR-488",
          "miR-760",
          "miR-296",
          "miR-582",
          "miR-134",
          "miR-137",
          "miR-17/20/93/106/519d",
          "miR-19",
          "miR-101",
          "miR-23",
          "miR-494",
          "miR-378a",
          "miR-544a",
          "miR-216b",
          "miR-30",
          "miR-655",
          "miR-496",
          "miR-183",
          "miR-340",
          "miR-379",
          "miR-1/206",
          "miR-325",
          "miR-10",
          "miR-18",
          "miR-493",
          "miR-15/16/195/424/497",
          "miR-205",
          "miR-122",
          "miR-382",
          "miR-873",
          "miR-9",
          "miR-143",
          "miR-338",
          "miR-214",
          "miR-188",
          "miR-182",
          "miR-103/107",
          "miR-181",
          "miR-874",
          "miR-491",
          "miR-653",
          "miR-148/152",
          "miR-24",
          "miR-542",
          "miR-128",
          "miR-369",
          "miR-149",
          "miR-377",
          "miR-365",
          "miR-200bc/429",
          "miR-124",
          "miR-421",
          "miR-758",
          "miR-199",
          "miR-423",
          "miR-153",
          "miR-383",
          "miR-670",
          "miR-191",
          "miR-154",
          "miR-299",
          "miR-505",
          "miR-302abd",
          "miR-1306",
          "miR-125",
          "miR-328",
          "miR-33",
          "miR-410",
          "miR-371",
          "miR-376c",
          "miR-31",
          "miR-96/1271",
          "miR-302c",
          "miR-210",
          "miR-224",
          "miR-489",
          "miR-490",
          "miR-22",
          "miR-144",
          "miR-151a",
          "miR-342",
          "miR-223",
          "miR-139",
          "miR-450a",
          "miR-194",
          "miR-217",
          "miR-21/590",
          "miR-1197",
          "miR-504",
          "miR-335",
          "miR-483",
          "miR-202",
          "miR-7",
          "miR-193",
          "miR-190",
          "miR-130/301/454",
          "miR-876",
          "miR-1249",
          "miR-136",
          "miR-323a",
          "miR-425",
          "miR-184",
          "miR-499",
          "miR-145",
          "miR-376ab",
          "let-7/miR-98",
          "miR-539",
          "miR-187",
          "miR-27",
          "miR-339",
          "miR-503",
          "miR-501/502",
          "miR-155",
          "miR-361",
          "miR-34/449",
          "miR-28/708",
          "miR-133",
          "miR-381",
          "miR-802",
          "miR-615",
          "miR-221/222",
          "miR-331",
          "miR-192/215",
          "miR-208",
          "miR-138",
          "miR-26",
          "miR-29",
          "miR-1193",
          "miR-1251",
          "miR-324",
          "miR-433",
          "miR-875",
          "miR-126",
          "miR-127",
          "miR-668",
          "miR-486",
          "miR-431",
          "miR-25/32/92/363/367",
          "miR-196",
          "miR-744",
          "miR-99/100",
          "miR-411",
          "miR-147",
          "miR-219"
         ],
         "xaxis": "x4",
         "y": [
          62,
          56,
          49,
          46,
          44,
          34,
          32,
          29,
          29,
          28,
          28,
          27,
          27,
          27,
          26,
          23,
          23,
          23,
          22,
          21,
          21,
          21,
          20,
          20,
          20,
          20,
          20,
          20,
          19,
          19,
          19,
          18,
          18,
          18,
          18,
          17,
          17,
          17,
          16,
          16,
          16,
          16,
          16,
          15,
          15,
          15,
          15,
          15,
          15,
          15,
          15,
          15,
          14,
          14,
          14,
          14,
          14,
          14,
          13,
          13,
          13,
          13,
          13,
          13,
          13,
          13,
          12,
          12,
          12,
          12,
          12,
          12,
          12,
          12,
          12,
          12,
          11,
          11,
          11,
          11,
          11,
          11,
          11,
          11,
          11,
          10,
          10,
          10,
          10,
          10,
          10,
          9,
          9,
          9,
          9,
          9,
          9,
          9,
          9,
          9,
          9,
          9,
          9,
          9,
          8,
          8,
          8,
          8,
          8,
          8,
          8,
          8,
          8,
          8,
          8,
          8,
          8,
          7,
          7,
          7,
          7,
          7,
          7,
          7,
          7,
          7,
          7,
          7,
          7,
          6,
          6,
          6,
          6,
          6,
          6,
          6,
          5,
          5,
          5,
          5,
          5,
          5,
          5,
          4,
          4,
          4,
          4,
          4,
          4,
          3,
          3,
          3,
          3,
          3,
          3,
          3,
          3,
          2,
          2,
          2,
          2,
          2,
          2,
          2,
          2,
          1,
          1,
          1,
          1,
          1
         ],
         "yaxis": "y4"
        },
        {
         "alignmentgroup": "True",
         "hovertemplate": "type=cCREs without Repeats<br>group=quadruplex<br>mirna=%{x}<br>total_count=%{y}<extra></extra>",
         "legendgroup": "cCREs without Repeats",
         "marker": {
          "color": "#EF553B",
          "pattern": {
           "shape": ""
          }
         },
         "name": "cCREs without Repeats",
         "offsetgroup": "cCREs without Repeats",
         "orientation": "v",
         "showlegend": false,
         "textposition": "auto",
         "type": "bar",
         "x": [
          "miR-744",
          "miR-423",
          "miR-296",
          "miR-491",
          "miR-532",
          "miR-339",
          "miR-331",
          "miR-1306",
          "miR-615",
          "miR-874",
          "miR-324",
          "miR-1249",
          "miR-504",
          "miR-330",
          "miR-125",
          "miR-185",
          "miR-24",
          "miR-150",
          "miR-133",
          "miR-193",
          "miR-665",
          "miR-485",
          "miR-204/211",
          "miR-299",
          "miR-34/449",
          "miR-760",
          "miR-188",
          "miR-328",
          "miR-551",
          "miR-129",
          "miR-127",
          "miR-10",
          "miR-140",
          "miR-329/362",
          "miR-346",
          "miR-138",
          "miR-338",
          "miR-22",
          "miR-214",
          "miR-143",
          "miR-184",
          "miR-342",
          "miR-149",
          "miR-455",
          "miR-542",
          "miR-873",
          "miR-205",
          "miR-128",
          "miR-490",
          "miR-31",
          "miR-147",
          "miR-199",
          "miR-365",
          "miR-28/708",
          "miR-146",
          "miR-503",
          "miR-151a",
          "miR-758",
          "miR-7",
          "miR-122",
          "miR-501/502",
          "miR-103/107",
          "miR-182",
          "miR-136",
          "miR-378a",
          "miR-371",
          "miR-488",
          "miR-409",
          "miR-412",
          "miR-210",
          "miR-335",
          "miR-379",
          "miR-187",
          "miR-99/100",
          "let-7/miR-98",
          "miR-670",
          "miR-1251",
          "miR-9",
          "miR-381",
          "miR-377",
          "miR-876",
          "miR-124",
          "miR-1/206",
          "miR-134",
          "miR-19",
          "miR-18",
          "miR-493",
          "miR-202",
          "miR-450a"
         ],
         "xaxis": "x3",
         "y": [
          315,
          157,
          148,
          103,
          98,
          73,
          64,
          54,
          49,
          38,
          31,
          30,
          28,
          26,
          26,
          21,
          21,
          20,
          20,
          18,
          17,
          16,
          16,
          16,
          16,
          15,
          15,
          13,
          13,
          12,
          12,
          11,
          9,
          8,
          8,
          8,
          8,
          8,
          7,
          7,
          7,
          6,
          6,
          6,
          5,
          5,
          5,
          5,
          5,
          4,
          4,
          4,
          4,
          3,
          3,
          3,
          3,
          3,
          3,
          3,
          2,
          2,
          2,
          2,
          2,
          2,
          2,
          2,
          2,
          2,
          2,
          2,
          2,
          1,
          1,
          1,
          1,
          1,
          1,
          1,
          1,
          1,
          1,
          1,
          1,
          1,
          1,
          1,
          1
         ],
         "yaxis": "y3"
        },
        {
         "alignmentgroup": "True",
         "hovertemplate": "type=cCREs without Repeats<br>group=z-dna<br>mirna=%{x}<br>total_count=%{y}<extra></extra>",
         "legendgroup": "cCREs without Repeats",
         "marker": {
          "color": "#EF553B",
          "pattern": {
           "shape": ""
          }
         },
         "name": "cCREs without Repeats",
         "offsetgroup": "cCREs without Repeats",
         "orientation": "v",
         "showlegend": false,
         "textposition": "auto",
         "type": "bar",
         "x": [
          "miR-744",
          "miR-210",
          "miR-329/362",
          "miR-147",
          "miR-377",
          "miR-342",
          "miR-296",
          "miR-423",
          "miR-187",
          "miR-1249",
          "miR-532",
          "miR-138",
          "miR-455",
          "miR-493",
          "miR-491",
          "miR-501/502",
          "miR-214",
          "miR-331",
          "miR-503",
          "miR-1306",
          "miR-324",
          "miR-874",
          "miR-299",
          "miR-140",
          "miR-218",
          "miR-122",
          "miR-19",
          "miR-18",
          "miR-22",
          "miR-485",
          "miR-652",
          "miR-1197",
          "miR-151a",
          "miR-183",
          "miR-873",
          "miR-148/152",
          "miR-760",
          "miR-128",
          "miR-184",
          "miR-335",
          "miR-486",
          "miR-483",
          "miR-25/32/92/363/367",
          "miR-330",
          "miR-103/107",
          "miR-96/1271",
          "miR-7",
          "miR-339",
          "miR-10",
          "miR-124",
          "miR-125",
          "miR-431",
          "miR-199",
          "miR-153",
          "miR-30",
          "miR-496",
          "miR-29",
          "miR-615",
          "miR-142",
          "miR-99/100"
         ],
         "xaxis": "x2",
         "y": [
          113,
          105,
          55,
          44,
          32,
          28,
          14,
          14,
          12,
          12,
          10,
          7,
          6,
          6,
          6,
          5,
          5,
          5,
          5,
          5,
          5,
          4,
          4,
          4,
          4,
          4,
          4,
          3,
          3,
          3,
          3,
          3,
          2,
          2,
          2,
          2,
          2,
          2,
          2,
          2,
          2,
          2,
          2,
          2,
          1,
          1,
          1,
          1,
          1,
          1,
          1,
          1,
          1,
          1,
          1,
          1,
          1,
          1,
          1,
          1
         ],
         "yaxis": "y2"
        },
        {
         "alignmentgroup": "True",
         "hovertemplate": "type=cCREs without Repeats<br>group=h-dna<br>mirna=%{x}<br>total_count=%{y}<extra></extra>",
         "legendgroup": "cCREs without Repeats",
         "marker": {
          "color": "#EF553B",
          "pattern": {
           "shape": ""
          }
         },
         "name": "cCREs without Repeats",
         "offsetgroup": "cCREs without Repeats",
         "orientation": "v",
         "showlegend": false,
         "textposition": "auto",
         "type": "bar",
         "x": [
          "miR-185",
          "miR-1306",
          "miR-423",
          "miR-204/211",
          "miR-483",
          "miR-151a",
          "miR-491",
          "miR-339",
          "miR-532",
          "miR-495",
          "miR-129",
          "miR-744",
          "miR-873",
          "miR-143",
          "let-7/miR-98",
          "miR-330",
          "miR-668",
          "miR-31",
          "miR-331",
          "miR-149",
          "miR-150",
          "miR-191",
          "miR-493",
          "miR-186",
          "miR-485",
          "miR-133",
          "miR-184",
          "miR-615",
          "miR-136",
          "miR-28/708",
          "miR-145",
          "miR-205"
         ],
         "xaxis": "x",
         "y": [
          66,
          12,
          12,
          9,
          7,
          7,
          4,
          4,
          3,
          3,
          3,
          3,
          2,
          2,
          1,
          1,
          1,
          1,
          1,
          1,
          1,
          1,
          1,
          1,
          1,
          1,
          1,
          1,
          1,
          1,
          1,
          1
         ],
         "yaxis": "y"
        }
       ],
       "layout": {
        "annotations": [
         {
          "font": {},
          "showarrow": false,
          "text": "group=h-dna",
          "textangle": 90,
          "x": 0.98,
          "xanchor": "left",
          "xref": "paper",
          "y": 0.11375,
          "yanchor": "middle",
          "yref": "paper"
         },
         {
          "font": {},
          "showarrow": false,
          "text": "group=z-dna",
          "textangle": 90,
          "x": 0.98,
          "xanchor": "left",
          "xref": "paper",
          "y": 0.37124999999999997,
          "yanchor": "middle",
          "yref": "paper"
         },
         {
          "font": {},
          "showarrow": false,
          "text": "group=quadruplex",
          "textangle": 90,
          "x": 0.98,
          "xanchor": "left",
          "xref": "paper",
          "y": 0.62875,
          "yanchor": "middle",
          "yref": "paper"
         },
         {
          "font": {},
          "showarrow": false,
          "text": "group=sidd",
          "textangle": 90,
          "x": 0.98,
          "xanchor": "left",
          "xref": "paper",
          "y": 0.88625,
          "yanchor": "middle",
          "yref": "paper"
         }
        ],
        "barmode": "group",
        "height": 800,
        "legend": {
         "title": {
          "text": "type"
         },
         "tracegroupgap": 0
        },
        "margin": {
         "t": 60
        },
        "template": {
         "data": {
          "bar": [
           {
            "error_x": {
             "color": "#2a3f5f"
            },
            "error_y": {
             "color": "#2a3f5f"
            },
            "marker": {
             "line": {
              "color": "#E5ECF6",
              "width": 0.5
             },
             "pattern": {
              "fillmode": "overlay",
              "size": 10,
              "solidity": 0.2
             }
            },
            "type": "bar"
           }
          ],
          "barpolar": [
           {
            "marker": {
             "line": {
              "color": "#E5ECF6",
              "width": 0.5
             },
             "pattern": {
              "fillmode": "overlay",
              "size": 10,
              "solidity": 0.2
             }
            },
            "type": "barpolar"
           }
          ],
          "carpet": [
           {
            "aaxis": {
             "endlinecolor": "#2a3f5f",
             "gridcolor": "white",
             "linecolor": "white",
             "minorgridcolor": "white",
             "startlinecolor": "#2a3f5f"
            },
            "baxis": {
             "endlinecolor": "#2a3f5f",
             "gridcolor": "white",
             "linecolor": "white",
             "minorgridcolor": "white",
             "startlinecolor": "#2a3f5f"
            },
            "type": "carpet"
           }
          ],
          "choropleth": [
           {
            "colorbar": {
             "outlinewidth": 0,
             "ticks": ""
            },
            "type": "choropleth"
           }
          ],
          "contour": [
           {
            "colorbar": {
             "outlinewidth": 0,
             "ticks": ""
            },
            "colorscale": [
             [
              0,
              "#0d0887"
             ],
             [
              0.1111111111111111,
              "#46039f"
             ],
             [
              0.2222222222222222,
              "#7201a8"
             ],
             [
              0.3333333333333333,
              "#9c179e"
             ],
             [
              0.4444444444444444,
              "#bd3786"
             ],
             [
              0.5555555555555556,
              "#d8576b"
             ],
             [
              0.6666666666666666,
              "#ed7953"
             ],
             [
              0.7777777777777778,
              "#fb9f3a"
             ],
             [
              0.8888888888888888,
              "#fdca26"
             ],
             [
              1,
              "#f0f921"
             ]
            ],
            "type": "contour"
           }
          ],
          "contourcarpet": [
           {
            "colorbar": {
             "outlinewidth": 0,
             "ticks": ""
            },
            "type": "contourcarpet"
           }
          ],
          "heatmap": [
           {
            "colorbar": {
             "outlinewidth": 0,
             "ticks": ""
            },
            "colorscale": [
             [
              0,
              "#0d0887"
             ],
             [
              0.1111111111111111,
              "#46039f"
             ],
             [
              0.2222222222222222,
              "#7201a8"
             ],
             [
              0.3333333333333333,
              "#9c179e"
             ],
             [
              0.4444444444444444,
              "#bd3786"
             ],
             [
              0.5555555555555556,
              "#d8576b"
             ],
             [
              0.6666666666666666,
              "#ed7953"
             ],
             [
              0.7777777777777778,
              "#fb9f3a"
             ],
             [
              0.8888888888888888,
              "#fdca26"
             ],
             [
              1,
              "#f0f921"
             ]
            ],
            "type": "heatmap"
           }
          ],
          "heatmapgl": [
           {
            "colorbar": {
             "outlinewidth": 0,
             "ticks": ""
            },
            "colorscale": [
             [
              0,
              "#0d0887"
             ],
             [
              0.1111111111111111,
              "#46039f"
             ],
             [
              0.2222222222222222,
              "#7201a8"
             ],
             [
              0.3333333333333333,
              "#9c179e"
             ],
             [
              0.4444444444444444,
              "#bd3786"
             ],
             [
              0.5555555555555556,
              "#d8576b"
             ],
             [
              0.6666666666666666,
              "#ed7953"
             ],
             [
              0.7777777777777778,
              "#fb9f3a"
             ],
             [
              0.8888888888888888,
              "#fdca26"
             ],
             [
              1,
              "#f0f921"
             ]
            ],
            "type": "heatmapgl"
           }
          ],
          "histogram": [
           {
            "marker": {
             "pattern": {
              "fillmode": "overlay",
              "size": 10,
              "solidity": 0.2
             }
            },
            "type": "histogram"
           }
          ],
          "histogram2d": [
           {
            "colorbar": {
             "outlinewidth": 0,
             "ticks": ""
            },
            "colorscale": [
             [
              0,
              "#0d0887"
             ],
             [
              0.1111111111111111,
              "#46039f"
             ],
             [
              0.2222222222222222,
              "#7201a8"
             ],
             [
              0.3333333333333333,
              "#9c179e"
             ],
             [
              0.4444444444444444,
              "#bd3786"
             ],
             [
              0.5555555555555556,
              "#d8576b"
             ],
             [
              0.6666666666666666,
              "#ed7953"
             ],
             [
              0.7777777777777778,
              "#fb9f3a"
             ],
             [
              0.8888888888888888,
              "#fdca26"
             ],
             [
              1,
              "#f0f921"
             ]
            ],
            "type": "histogram2d"
           }
          ],
          "histogram2dcontour": [
           {
            "colorbar": {
             "outlinewidth": 0,
             "ticks": ""
            },
            "colorscale": [
             [
              0,
              "#0d0887"
             ],
             [
              0.1111111111111111,
              "#46039f"
             ],
             [
              0.2222222222222222,
              "#7201a8"
             ],
             [
              0.3333333333333333,
              "#9c179e"
             ],
             [
              0.4444444444444444,
              "#bd3786"
             ],
             [
              0.5555555555555556,
              "#d8576b"
             ],
             [
              0.6666666666666666,
              "#ed7953"
             ],
             [
              0.7777777777777778,
              "#fb9f3a"
             ],
             [
              0.8888888888888888,
              "#fdca26"
             ],
             [
              1,
              "#f0f921"
             ]
            ],
            "type": "histogram2dcontour"
           }
          ],
          "mesh3d": [
           {
            "colorbar": {
             "outlinewidth": 0,
             "ticks": ""
            },
            "type": "mesh3d"
           }
          ],
          "parcoords": [
           {
            "line": {
             "colorbar": {
              "outlinewidth": 0,
              "ticks": ""
             }
            },
            "type": "parcoords"
           }
          ],
          "pie": [
           {
            "automargin": true,
            "type": "pie"
           }
          ],
          "scatter": [
           {
            "fillpattern": {
             "fillmode": "overlay",
             "size": 10,
             "solidity": 0.2
            },
            "type": "scatter"
           }
          ],
          "scatter3d": [
           {
            "line": {
             "colorbar": {
              "outlinewidth": 0,
              "ticks": ""
             }
            },
            "marker": {
             "colorbar": {
              "outlinewidth": 0,
              "ticks": ""
             }
            },
            "type": "scatter3d"
           }
          ],
          "scattercarpet": [
           {
            "marker": {
             "colorbar": {
              "outlinewidth": 0,
              "ticks": ""
             }
            },
            "type": "scattercarpet"
           }
          ],
          "scattergeo": [
           {
            "marker": {
             "colorbar": {
              "outlinewidth": 0,
              "ticks": ""
             }
            },
            "type": "scattergeo"
           }
          ],
          "scattergl": [
           {
            "marker": {
             "colorbar": {
              "outlinewidth": 0,
              "ticks": ""
             }
            },
            "type": "scattergl"
           }
          ],
          "scattermapbox": [
           {
            "marker": {
             "colorbar": {
              "outlinewidth": 0,
              "ticks": ""
             }
            },
            "type": "scattermapbox"
           }
          ],
          "scatterpolar": [
           {
            "marker": {
             "colorbar": {
              "outlinewidth": 0,
              "ticks": ""
             }
            },
            "type": "scatterpolar"
           }
          ],
          "scatterpolargl": [
           {
            "marker": {
             "colorbar": {
              "outlinewidth": 0,
              "ticks": ""
             }
            },
            "type": "scatterpolargl"
           }
          ],
          "scatterternary": [
           {
            "marker": {
             "colorbar": {
              "outlinewidth": 0,
              "ticks": ""
             }
            },
            "type": "scatterternary"
           }
          ],
          "surface": [
           {
            "colorbar": {
             "outlinewidth": 0,
             "ticks": ""
            },
            "colorscale": [
             [
              0,
              "#0d0887"
             ],
             [
              0.1111111111111111,
              "#46039f"
             ],
             [
              0.2222222222222222,
              "#7201a8"
             ],
             [
              0.3333333333333333,
              "#9c179e"
             ],
             [
              0.4444444444444444,
              "#bd3786"
             ],
             [
              0.5555555555555556,
              "#d8576b"
             ],
             [
              0.6666666666666666,
              "#ed7953"
             ],
             [
              0.7777777777777778,
              "#fb9f3a"
             ],
             [
              0.8888888888888888,
              "#fdca26"
             ],
             [
              1,
              "#f0f921"
             ]
            ],
            "type": "surface"
           }
          ],
          "table": [
           {
            "cells": {
             "fill": {
              "color": "#EBF0F8"
             },
             "line": {
              "color": "white"
             }
            },
            "header": {
             "fill": {
              "color": "#C8D4E3"
             },
             "line": {
              "color": "white"
             }
            },
            "type": "table"
           }
          ]
         },
         "layout": {
          "annotationdefaults": {
           "arrowcolor": "#2a3f5f",
           "arrowhead": 0,
           "arrowwidth": 1
          },
          "autotypenumbers": "strict",
          "coloraxis": {
           "colorbar": {
            "outlinewidth": 0,
            "ticks": ""
           }
          },
          "colorscale": {
           "diverging": [
            [
             0,
             "#8e0152"
            ],
            [
             0.1,
             "#c51b7d"
            ],
            [
             0.2,
             "#de77ae"
            ],
            [
             0.3,
             "#f1b6da"
            ],
            [
             0.4,
             "#fde0ef"
            ],
            [
             0.5,
             "#f7f7f7"
            ],
            [
             0.6,
             "#e6f5d0"
            ],
            [
             0.7,
             "#b8e186"
            ],
            [
             0.8,
             "#7fbc41"
            ],
            [
             0.9,
             "#4d9221"
            ],
            [
             1,
             "#276419"
            ]
           ],
           "sequential": [
            [
             0,
             "#0d0887"
            ],
            [
             0.1111111111111111,
             "#46039f"
            ],
            [
             0.2222222222222222,
             "#7201a8"
            ],
            [
             0.3333333333333333,
             "#9c179e"
            ],
            [
             0.4444444444444444,
             "#bd3786"
            ],
            [
             0.5555555555555556,
             "#d8576b"
            ],
            [
             0.6666666666666666,
             "#ed7953"
            ],
            [
             0.7777777777777778,
             "#fb9f3a"
            ],
            [
             0.8888888888888888,
             "#fdca26"
            ],
            [
             1,
             "#f0f921"
            ]
           ],
           "sequentialminus": [
            [
             0,
             "#0d0887"
            ],
            [
             0.1111111111111111,
             "#46039f"
            ],
            [
             0.2222222222222222,
             "#7201a8"
            ],
            [
             0.3333333333333333,
             "#9c179e"
            ],
            [
             0.4444444444444444,
             "#bd3786"
            ],
            [
             0.5555555555555556,
             "#d8576b"
            ],
            [
             0.6666666666666666,
             "#ed7953"
            ],
            [
             0.7777777777777778,
             "#fb9f3a"
            ],
            [
             0.8888888888888888,
             "#fdca26"
            ],
            [
             1,
             "#f0f921"
            ]
           ]
          },
          "colorway": [
           "#636efa",
           "#EF553B",
           "#00cc96",
           "#ab63fa",
           "#FFA15A",
           "#19d3f3",
           "#FF6692",
           "#B6E880",
           "#FF97FF",
           "#FECB52"
          ],
          "font": {
           "color": "#2a3f5f"
          },
          "geo": {
           "bgcolor": "white",
           "lakecolor": "white",
           "landcolor": "#E5ECF6",
           "showlakes": true,
           "showland": true,
           "subunitcolor": "white"
          },
          "hoverlabel": {
           "align": "left"
          },
          "hovermode": "closest",
          "mapbox": {
           "style": "light"
          },
          "paper_bgcolor": "white",
          "plot_bgcolor": "#E5ECF6",
          "polar": {
           "angularaxis": {
            "gridcolor": "white",
            "linecolor": "white",
            "ticks": ""
           },
           "bgcolor": "#E5ECF6",
           "radialaxis": {
            "gridcolor": "white",
            "linecolor": "white",
            "ticks": ""
           }
          },
          "scene": {
           "xaxis": {
            "backgroundcolor": "#E5ECF6",
            "gridcolor": "white",
            "gridwidth": 2,
            "linecolor": "white",
            "showbackground": true,
            "ticks": "",
            "zerolinecolor": "white"
           },
           "yaxis": {
            "backgroundcolor": "#E5ECF6",
            "gridcolor": "white",
            "gridwidth": 2,
            "linecolor": "white",
            "showbackground": true,
            "ticks": "",
            "zerolinecolor": "white"
           },
           "zaxis": {
            "backgroundcolor": "#E5ECF6",
            "gridcolor": "white",
            "gridwidth": 2,
            "linecolor": "white",
            "showbackground": true,
            "ticks": "",
            "zerolinecolor": "white"
           }
          },
          "shapedefaults": {
           "line": {
            "color": "#2a3f5f"
           }
          },
          "ternary": {
           "aaxis": {
            "gridcolor": "white",
            "linecolor": "white",
            "ticks": ""
           },
           "baxis": {
            "gridcolor": "white",
            "linecolor": "white",
            "ticks": ""
           },
           "bgcolor": "#E5ECF6",
           "caxis": {
            "gridcolor": "white",
            "linecolor": "white",
            "ticks": ""
           }
          },
          "title": {
           "x": 0.05
          },
          "xaxis": {
           "automargin": true,
           "gridcolor": "white",
           "linecolor": "white",
           "ticks": "",
           "title": {
            "standoff": 15
           },
           "zerolinecolor": "white",
           "zerolinewidth": 2
          },
          "yaxis": {
           "automargin": true,
           "gridcolor": "white",
           "linecolor": "white",
           "ticks": "",
           "title": {
            "standoff": 15
           },
           "zerolinecolor": "white",
           "zerolinewidth": 2
          }
         }
        },
        "title": {
         "text": "miRNAs that bind <b>repeat promoters (no overlap with CCRE)</b> vs <b>the CCRE promoters (no overlap with repeats)</b>"
        },
        "width": 1400,
        "xaxis": {
         "anchor": "y",
         "domain": [
          0,
          0.98
         ],
         "title": {
          "text": "mirna"
         }
        },
        "xaxis2": {
         "anchor": "y2",
         "domain": [
          0,
          0.98
         ],
         "matches": "x",
         "showticklabels": false
        },
        "xaxis3": {
         "anchor": "y3",
         "domain": [
          0,
          0.98
         ],
         "matches": "x",
         "showticklabels": false
        },
        "xaxis4": {
         "anchor": "y4",
         "domain": [
          0,
          0.98
         ],
         "matches": "x",
         "showticklabels": false
        },
        "yaxis": {
         "anchor": "x",
         "domain": [
          0,
          0.2275
         ],
         "title": {
          "text": "total_count"
         }
        },
        "yaxis2": {
         "anchor": "x2",
         "domain": [
          0.2575,
          0.485
         ],
         "matches": "y",
         "title": {
          "text": "total_count"
         }
        },
        "yaxis3": {
         "anchor": "x3",
         "domain": [
          0.515,
          0.7425
         ],
         "matches": "y",
         "title": {
          "text": "total_count"
         }
        },
        "yaxis4": {
         "anchor": "x4",
         "domain": [
          0.7725,
          1
         ],
         "matches": "y",
         "title": {
          "text": "total_count"
         }
        }
       }
      }
     },
     "metadata": {},
     "output_type": "display_data"
    }
   ],
   "source": [
    "import plotly.express as px\n",
    "\n",
    "fig = px.bar(\n",
    "    form_df,\n",
    "    x=\"mirna\",\n",
    "    y=\"total_count\",\n",
    "    color=\"type\",\n",
    "    barmode=\"group\",\n",
    "    facet_row=\"group\",\n",
    "    # facet_col=\"value\",\n",
    "    # category_orders={\"day\": [\"Thur\", \"Fri\", \"Sat\", \"Sun\"], \"time\": [\"Lunch\", \"Dinner\"]},\n",
    "    # color_discrete_map={'strand_p':'tomato', 'strand_m':'royalblue'},\n",
    ")\n",
    "fig.update_layout(\n",
    "    title=\"miRNAs that bind <b>repeat promoters (no overlap with CCRE)</b> vs <b>the CCRE promoters (no overlap with repeats)</b>\",\n",
    "    height=800,\n",
    "    width=1400,\n",
    ")\n",
    "fig.write_html(f_plotly_ccre_vs_repeats_3)\n",
    "fig.show()\n"
   ]
  },
  {
   "cell_type": "code",
   "execution_count": null,
   "id": "9d8051e8",
   "metadata": {},
   "outputs": [],
   "source": []
  }
 ],
 "metadata": {
  "kernelspec": {
   "display_name": "Python 3.10.6 ('.env': venv)",
   "language": "python",
   "name": "python3"
  },
  "language_info": {
   "codemirror_mode": {
    "name": "ipython",
    "version": 3
   },
   "file_extension": ".py",
   "mimetype": "text/x-python",
   "name": "python",
   "nbconvert_exporter": "python",
   "pygments_lexer": "ipython3",
   "version": "3.10.6"
  },
  "vscode": {
   "interpreter": {
    "hash": "4fea67ba662eb300f92adf3ec37002789980384274d319058b6f44417a9475d6"
   }
  }
 },
 "nbformat": 4,
 "nbformat_minor": 5
}
