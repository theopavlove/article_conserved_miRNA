{
 "cells": [
  {
   "cell_type": "markdown",
   "id": "f2670278-7f4f-4525-9b75-02186e690cbc",
   "metadata": {},
   "source": [
    "## Misc"
   ]
  },
  {
   "cell_type": "code",
   "execution_count": 1,
   "id": "a63fec90",
   "metadata": {},
   "outputs": [
    {
     "name": "stdout",
     "output_type": "stream",
     "text": [
      "Python 3.10.4\n",
      "biopython            1.78\n"
     ]
    }
   ],
   "source": [
    "!python3 --version\n",
    "!python3 -m pip list | grep -e \"bio\""
   ]
  },
  {
   "cell_type": "code",
   "execution_count": 2,
   "id": "f582d0b9-bd7c-45cd-a936-66397ac69081",
   "metadata": {},
   "outputs": [],
   "source": [
    "import os\n",
    "import subprocess\n",
    "import numpy as np\n",
    "import pandas as pd\n",
    "import plotly.express as px\n",
    "\n",
    "from Bio import SeqIO\n",
    "from dataclasses import dataclass\n",
    "from tqdm.notebook import tqdm\n",
    "from collections import Counter\n"
   ]
  },
  {
   "cell_type": "code",
   "execution_count": 3,
   "id": "da19a74a-bd55-4bda-9ce5-b5e71c5f34d7",
   "metadata": {},
   "outputs": [],
   "source": [
    "d_root = \"/home/fpavlov/projects/article_conserved_miRNA\"\n",
    "d_data = f\"{d_root}/data\"\n",
    "d_utils = f\"{d_root}/utils\"\n",
    "\n",
    "# Input\n",
    "f_mirna_list = f\"{d_data}/miRNA_list.tsv\"\n",
    "f_flipon_to_gene_anno = f\"{d_data}/flipon_to_gene_anno.tsv\"\n",
    "f_sidd_to_gene = f\"{d_data}/sidd_to_gene.tsv\"\n",
    "f_ccre = f\"{d_data}/encodeCcreCombined.bed\"\n",
    "f_rmsk = f\"{d_data}/mm10.rmsk.txt.gz\"\n",
    "f_rmsk_line_ltr = f\"{d_data}/mm10_rmsk_line_ltr.bed\"\n",
    "f_h3k9ac = f\"{d_data}/mm10.H3K9ac.uplift.bed\"\n",
    "f_h3k14ac = f\"{d_data}/mm10.H3K14ac.uplift.bed\"\n",
    "f_mm10_fa = f'{d_data}/mm10.fa'\n",
    "\n",
    "# Output\n",
    "d_flipons_and_histones = f\"{d_data}/flipons_and_histones\"\n",
    "f_ccre_small = f\"{d_data}/ccre_small.bed\"\n",
    "f_flipon_to_data = f\"{d_data}/flipon_to_data.tsv\"\n",
    "f_plotly_ccre_vs_repeats_3 = f\"{d_root}/img/plotl_ccre_vs_repeats_3.html\"\n",
    "f_plotly_ccre_vs_repeats_4 = f\"{d_root}/img/plotl_ccre_vs_repeats_4.html\"\n",
    "\n",
    "!mkdir -p {d_flipons_and_histones}\n"
   ]
  },
  {
   "cell_type": "code",
   "execution_count": 4,
   "id": "3214aa1f-8626-430c-87db-a9db87a0232a",
   "metadata": {},
   "outputs": [],
   "source": [
    "@dataclass\n",
    "class Data:\n",
    "    name: str\n",
    "    path_fa: str\n",
    "    path_bed: str\n",
    "    path_bed_200: str\n",
    "    path_int_ccre: str = None\n",
    "    path_int_repeats: str = None\n",
    "\n",
    "\n",
    "flipon_data = [\n",
    "    Data(\n",
    "        \"sidd\",\n",
    "        f\"{d_data}/mm10_kouzine_ssDNA_fa/mm10_kouzine_actb_ssdna_enriched_sidd.fa\",\n",
    "        f\"{d_data}/mm10_kouzine_ssDNA_bed/mm10_kouzine_actb_ssdna_enriched_sidd.bed\",\n",
    "        f\"{d_data}/mm10_kouzine_ssDNA_bed/mm10_kouzine_actb_ssdna_enriched_sidd.slop200.bed\",\n",
    "    ),\n",
    "    Data(\n",
    "        \"z-dna\",\n",
    "        f\"{d_data}/mm10_kouzine_ssDNA_fa/mm10_kouzine_actb_ssdna_enriched_z-dna.fa\",\n",
    "        f\"{d_data}/mm10_kouzine_ssDNA_bed/mm10_kouzine_actb_ssdna_enriched_z-dna.bed\",\n",
    "        f\"{d_data}/mm10_kouzine_ssDNA_bed/mm10_kouzine_actb_ssdna_enriched_z-dna.slop200.bed\",\n",
    "    ),\n",
    "    Data(\n",
    "        \"quadruplex\",\n",
    "        f\"{d_data}/mm10_kouzine_ssDNA_fa/mm10_kouzine_actb_ssdna_enriched_quadruplex.fa\",\n",
    "        f\"{d_data}/mm10_kouzine_ssDNA_bed/mm10_kouzine_actb_ssdna_enriched_quadruplex.bed\",\n",
    "        f\"{d_data}/mm10_kouzine_ssDNA_bed/mm10_kouzine_actb_ssdna_enriched_quadruplex.slop200.bed\",\n",
    "    ),\n",
    "    Data(\n",
    "        \"h-dna\",\n",
    "        f\"{d_data}/mm10_kouzine_ssDNA_fa/mm10_kouzine_actb_ssdna_enriched_h-dna.fa\",\n",
    "        f\"{d_data}/mm10_kouzine_ssDNA_bed/mm10_kouzine_actb_ssdna_enriched_h-dna.bed\",\n",
    "        f\"{d_data}/mm10_kouzine_ssDNA_bed/mm10_kouzine_actb_ssdna_enriched_h-dna.slop200.bed\",\n",
    "    ),\n",
    "]\n"
   ]
  },
  {
   "cell_type": "markdown",
   "id": "5e95e6fd-fad9-4f72-b7f5-b01fd8581f02",
   "metadata": {},
   "source": [
    "## Data"
   ]
  },
  {
   "cell_type": "code",
   "execution_count": 5,
   "id": "a092de56-d3cd-48a8-95f5-374d0d97e2b6",
   "metadata": {},
   "outputs": [
    {
     "name": "stdout",
     "output_type": "stream",
     "text": [
      "(177, 5)\n"
     ]
    },
    {
     "data": {
      "text/html": [
       "<div>\n",
       "<style scoped>\n",
       "    .dataframe tbody tr th:only-of-type {\n",
       "        vertical-align: middle;\n",
       "    }\n",
       "\n",
       "    .dataframe tbody tr th {\n",
       "        vertical-align: top;\n",
       "    }\n",
       "\n",
       "    .dataframe thead th {\n",
       "        text-align: right;\n",
       "    }\n",
       "</style>\n",
       "<table border=\"1\" class=\"dataframe\">\n",
       "  <thead>\n",
       "    <tr style=\"text-align: right;\">\n",
       "      <th></th>\n",
       "      <th>Conservation</th>\n",
       "      <th>miRNA gene family</th>\n",
       "      <th># of genes</th>\n",
       "      <th>Seed region</th>\n",
       "      <th>Seed region (RC)</th>\n",
       "    </tr>\n",
       "  </thead>\n",
       "  <tbody>\n",
       "    <tr>\n",
       "      <th>10</th>\n",
       "      <td>Bilateria</td>\n",
       "      <td>miR-34/449</td>\n",
       "      <td>6</td>\n",
       "      <td>[GGCAGTG]</td>\n",
       "      <td>[CACTGCC]</td>\n",
       "    </tr>\n",
       "    <tr>\n",
       "      <th>11</th>\n",
       "      <td>Bilateria</td>\n",
       "      <td>miR-96/1271</td>\n",
       "      <td>2</td>\n",
       "      <td>[TTGGCAC]</td>\n",
       "      <td>[GTGCCAA]</td>\n",
       "    </tr>\n",
       "    <tr>\n",
       "      <th>12</th>\n",
       "      <td>Bilateria</td>\n",
       "      <td>miR-99/100</td>\n",
       "      <td>3</td>\n",
       "      <td>[ACCCGTA]</td>\n",
       "      <td>[TACGGGT]</td>\n",
       "    </tr>\n",
       "    <tr>\n",
       "      <th>13</th>\n",
       "      <td>Bilateria</td>\n",
       "      <td>miR-124</td>\n",
       "      <td>3</td>\n",
       "      <td>[AAGGCAC, TAAGGCA]</td>\n",
       "      <td>[GTGCCTT, TGCCTTA]</td>\n",
       "    </tr>\n",
       "    <tr>\n",
       "      <th>14</th>\n",
       "      <td>Bilateria</td>\n",
       "      <td>miR-125</td>\n",
       "      <td>3</td>\n",
       "      <td>[CCCTGAG]</td>\n",
       "      <td>[CTCAGGG]</td>\n",
       "    </tr>\n",
       "    <tr>\n",
       "      <th>15</th>\n",
       "      <td>Bilateria</td>\n",
       "      <td>miR-133</td>\n",
       "      <td>3</td>\n",
       "      <td>[TGGTCCC, TTGGTCC]</td>\n",
       "      <td>[GGGACCA, GGACCAA]</td>\n",
       "    </tr>\n",
       "    <tr>\n",
       "      <th>16</th>\n",
       "      <td>Bilateria</td>\n",
       "      <td>miR-153</td>\n",
       "      <td>2</td>\n",
       "      <td>[TGCATAG]</td>\n",
       "      <td>[CTATGCA]</td>\n",
       "    </tr>\n",
       "    <tr>\n",
       "      <th>17</th>\n",
       "      <td>Bilateria</td>\n",
       "      <td>miR-183</td>\n",
       "      <td>1</td>\n",
       "      <td>[ATGGCAC, TGGCACT]</td>\n",
       "      <td>[GTGCCAT, AGTGCCA]</td>\n",
       "    </tr>\n",
       "    <tr>\n",
       "      <th>18</th>\n",
       "      <td>Bilateria</td>\n",
       "      <td>miR-184</td>\n",
       "      <td>1</td>\n",
       "      <td>[GGACGGA]</td>\n",
       "      <td>[TCCGTCC]</td>\n",
       "    </tr>\n",
       "    <tr>\n",
       "      <th>19</th>\n",
       "      <td>Bilateria</td>\n",
       "      <td>miR-190</td>\n",
       "      <td>2</td>\n",
       "      <td>[GATATGT]</td>\n",
       "      <td>[ACATATC]</td>\n",
       "    </tr>\n",
       "  </tbody>\n",
       "</table>\n",
       "</div>"
      ],
      "text/plain": [
       "   Conservation miRNA gene family  # of genes         Seed region  \\\n",
       "10    Bilateria        miR-34/449           6           [GGCAGTG]   \n",
       "11    Bilateria       miR-96/1271           2           [TTGGCAC]   \n",
       "12    Bilateria        miR-99/100           3           [ACCCGTA]   \n",
       "13    Bilateria           miR-124           3  [AAGGCAC, TAAGGCA]   \n",
       "14    Bilateria           miR-125           3           [CCCTGAG]   \n",
       "15    Bilateria           miR-133           3  [TGGTCCC, TTGGTCC]   \n",
       "16    Bilateria           miR-153           2           [TGCATAG]   \n",
       "17    Bilateria           miR-183           1  [ATGGCAC, TGGCACT]   \n",
       "18    Bilateria           miR-184           1           [GGACGGA]   \n",
       "19    Bilateria           miR-190           2           [GATATGT]   \n",
       "\n",
       "      Seed region (RC)  \n",
       "10           [CACTGCC]  \n",
       "11           [GTGCCAA]  \n",
       "12           [TACGGGT]  \n",
       "13  [GTGCCTT, TGCCTTA]  \n",
       "14           [CTCAGGG]  \n",
       "15  [GGGACCA, GGACCAA]  \n",
       "16           [CTATGCA]  \n",
       "17  [GTGCCAT, AGTGCCA]  \n",
       "18           [TCCGTCC]  \n",
       "19           [ACATATC]  "
      ]
     },
     "execution_count": 5,
     "metadata": {},
     "output_type": "execute_result"
    }
   ],
   "source": [
    "def reverse_complement(x: str):\n",
    "    t_d = {\"A\": \"T\", \"C\": \"G\", \"T\": \"A\", \"G\": \"C\", \"N\": \"N\"}\n",
    "    return \"\".join([t_d[y] for y in x[::-1]])\n",
    "\n",
    "\n",
    "mirna_df = pd.read_table(f_mirna_list)\n",
    "\n",
    "mirna_df[\"Seed region\"] = mirna_df[\"Seed region\"].str.replace(\"U\", \"T\")\n",
    "mirna_df[\"Seed region\"] = mirna_df[\"Seed region\"].str.split(\", \")\n",
    "mirna_df[\"Seed region (RC)\"] = mirna_df[\"Seed region\"].apply(\n",
    "    lambda x: [reverse_complement(y) for y in x]\n",
    ")\n",
    "\n",
    "print(mirna_df.shape)\n",
    "mirna_df.iloc[10:20, :]\n"
   ]
  },
  {
   "cell_type": "markdown",
   "id": "86ba2ccd-51fe-4be5-a69f-e6eb4fb70682",
   "metadata": {},
   "source": [
    "## Map flipons to: miRNA"
   ]
  },
  {
   "cell_type": "code",
   "execution_count": 6,
   "id": "8b7f6fe8-1b57-4f17-85d6-2948a8ad7bb8",
   "metadata": {},
   "outputs": [
    {
     "data": {
      "application/vnd.jupyter.widget-view+json": {
       "model_id": "02d46cce839c40649bb2935c273c0afe",
       "version_major": 2,
       "version_minor": 0
      },
      "text/plain": [
       "  0%|          | 0/4 [00:00<?, ?it/s]"
      ]
     },
     "metadata": {},
     "output_type": "display_data"
    },
    {
     "name": "stdout",
     "output_type": "stream",
     "text": [
      "sidd: 15,294 regions\n"
     ]
    },
    {
     "data": {
      "application/vnd.jupyter.widget-view+json": {
       "model_id": "6a8cd0b15fcf4e05bbef4d384a912a4e",
       "version_major": 2,
       "version_minor": 0
      },
      "text/plain": [
       "  0%|          | 0/15294 [00:00<?, ?it/s]"
      ]
     },
     "metadata": {},
     "output_type": "display_data"
    },
    {
     "name": "stdout",
     "output_type": "stream",
     "text": [
      "z-dna: 25,057 regions\n"
     ]
    },
    {
     "data": {
      "application/vnd.jupyter.widget-view+json": {
       "model_id": "7ee46ca7e7184d87b988be811c9c78d7",
       "version_major": 2,
       "version_minor": 0
      },
      "text/plain": [
       "  0%|          | 0/25057 [00:00<?, ?it/s]"
      ]
     },
     "metadata": {},
     "output_type": "display_data"
    },
    {
     "name": "stdout",
     "output_type": "stream",
     "text": [
      "quadruplex: 20,251 regions\n"
     ]
    },
    {
     "data": {
      "application/vnd.jupyter.widget-view+json": {
       "model_id": "49377f263fed4fac8a154d61d1ef2e76",
       "version_major": 2,
       "version_minor": 0
      },
      "text/plain": [
       "  0%|          | 0/20251 [00:00<?, ?it/s]"
      ]
     },
     "metadata": {},
     "output_type": "display_data"
    },
    {
     "name": "stdout",
     "output_type": "stream",
     "text": [
      "h-dna: 17,098 regions\n"
     ]
    },
    {
     "data": {
      "application/vnd.jupyter.widget-view+json": {
       "model_id": "f630c414841e488692095f42ac3df16f",
       "version_major": 2,
       "version_minor": 0
      },
      "text/plain": [
       "  0%|          | 0/17098 [00:00<?, ?it/s]"
      ]
     },
     "metadata": {},
     "output_type": "display_data"
    },
    {
     "data": {
      "text/html": [
       "<div>\n",
       "<style scoped>\n",
       "    .dataframe tbody tr th:only-of-type {\n",
       "        vertical-align: middle;\n",
       "    }\n",
       "\n",
       "    .dataframe tbody tr th {\n",
       "        vertical-align: top;\n",
       "    }\n",
       "\n",
       "    .dataframe thead th {\n",
       "        text-align: right;\n",
       "    }\n",
       "</style>\n",
       "<table border=\"1\" class=\"dataframe\">\n",
       "  <thead>\n",
       "    <tr style=\"text-align: right;\">\n",
       "      <th></th>\n",
       "      <th>group</th>\n",
       "      <th>coordinates</th>\n",
       "      <th>miRNA (+ strand)</th>\n",
       "      <th>miRNA (- strand)</th>\n",
       "      <th>miRNA (intersection)</th>\n",
       "    </tr>\n",
       "  </thead>\n",
       "  <tbody>\n",
       "    <tr>\n",
       "      <th>0</th>\n",
       "      <td>sidd</td>\n",
       "      <td>chr10:100119606-100119743</td>\n",
       "      <td>miR-539, miR-670</td>\n",
       "      <td>miR-143, miR-186, miR-30</td>\n",
       "      <td></td>\n",
       "    </tr>\n",
       "    <tr>\n",
       "      <th>1</th>\n",
       "      <td>sidd</td>\n",
       "      <td>chr10:100146768-100146986</td>\n",
       "      <td>miR-155, miR-374</td>\n",
       "      <td>miR-448</td>\n",
       "      <td></td>\n",
       "    </tr>\n",
       "    <tr>\n",
       "      <th>2</th>\n",
       "      <td>sidd</td>\n",
       "      <td>chr10:100160840-100160994</td>\n",
       "      <td>miR-188, miR-204/211</td>\n",
       "      <td>miR-203a, miR-653</td>\n",
       "      <td></td>\n",
       "    </tr>\n",
       "    <tr>\n",
       "      <th>3</th>\n",
       "      <td>sidd</td>\n",
       "      <td>chr10:100192250-100192378</td>\n",
       "      <td>miR-15/16/195/424/497, miR-203a (2)</td>\n",
       "      <td></td>\n",
       "      <td></td>\n",
       "    </tr>\n",
       "    <tr>\n",
       "      <th>4</th>\n",
       "      <td>sidd</td>\n",
       "      <td>chr10:100401845-100402004</td>\n",
       "      <td></td>\n",
       "      <td>miR-101, miR-140</td>\n",
       "      <td></td>\n",
       "    </tr>\n",
       "    <tr>\n",
       "      <th>...</th>\n",
       "      <td>...</td>\n",
       "      <td>...</td>\n",
       "      <td>...</td>\n",
       "      <td>...</td>\n",
       "      <td>...</td>\n",
       "    </tr>\n",
       "    <tr>\n",
       "      <th>77695</th>\n",
       "      <td>h-dna</td>\n",
       "      <td>chrY:4200098-4200122</td>\n",
       "      <td></td>\n",
       "      <td></td>\n",
       "      <td></td>\n",
       "    </tr>\n",
       "    <tr>\n",
       "      <th>77696</th>\n",
       "      <td>h-dna</td>\n",
       "      <td>chrY:4208594-4208610</td>\n",
       "      <td></td>\n",
       "      <td></td>\n",
       "      <td></td>\n",
       "    </tr>\n",
       "    <tr>\n",
       "      <th>77697</th>\n",
       "      <td>h-dna</td>\n",
       "      <td>chrY:4223501-4223522</td>\n",
       "      <td></td>\n",
       "      <td></td>\n",
       "      <td></td>\n",
       "    </tr>\n",
       "    <tr>\n",
       "      <th>77698</th>\n",
       "      <td>h-dna</td>\n",
       "      <td>chrY:4231086-4231113</td>\n",
       "      <td></td>\n",
       "      <td></td>\n",
       "      <td></td>\n",
       "    </tr>\n",
       "    <tr>\n",
       "      <th>77699</th>\n",
       "      <td>h-dna</td>\n",
       "      <td>chrY:4235026-4235042</td>\n",
       "      <td></td>\n",
       "      <td></td>\n",
       "      <td></td>\n",
       "    </tr>\n",
       "  </tbody>\n",
       "</table>\n",
       "<p>77700 rows × 5 columns</p>\n",
       "</div>"
      ],
      "text/plain": [
       "       group                coordinates                     miRNA (+ strand)  \\\n",
       "0       sidd  chr10:100119606-100119743                     miR-539, miR-670   \n",
       "1       sidd  chr10:100146768-100146986                     miR-155, miR-374   \n",
       "2       sidd  chr10:100160840-100160994                 miR-188, miR-204/211   \n",
       "3       sidd  chr10:100192250-100192378  miR-15/16/195/424/497, miR-203a (2)   \n",
       "4       sidd  chr10:100401845-100402004                                        \n",
       "...      ...                        ...                                  ...   \n",
       "77695  h-dna       chrY:4200098-4200122                                        \n",
       "77696  h-dna       chrY:4208594-4208610                                        \n",
       "77697  h-dna       chrY:4223501-4223522                                        \n",
       "77698  h-dna       chrY:4231086-4231113                                        \n",
       "77699  h-dna       chrY:4235026-4235042                                        \n",
       "\n",
       "               miRNA (- strand) miRNA (intersection)  \n",
       "0      miR-143, miR-186, miR-30                       \n",
       "1                       miR-448                       \n",
       "2             miR-203a, miR-653                       \n",
       "3                                                     \n",
       "4              miR-101, miR-140                       \n",
       "...                         ...                  ...  \n",
       "77695                                                 \n",
       "77696                                                 \n",
       "77697                                                 \n",
       "77698                                                 \n",
       "77699                                                 \n",
       "\n",
       "[77700 rows x 5 columns]"
      ]
     },
     "execution_count": 6,
     "metadata": {},
     "output_type": "execute_result"
    }
   ],
   "source": [
    "flipons_to_mirna_df = pd.DataFrame()\n",
    "\n",
    "for flipon in tqdm(flipon_data):\n",
    "    shape: int\n",
    "    with open(flipon.path_bed, \"r\") as f_in:\n",
    "        shape = sum(1 for _ in f_in)\n",
    "    print(f\"{flipon.name}: {shape:,d} regions\")\n",
    "\n",
    "    fasta = list(SeqIO.parse(flipon.path_fa, \"fasta\"))\n",
    "    fasta_fwd_seq = [x.seq.upper() for x in fasta]\n",
    "\n",
    "    mirna_fams = mirna_df[\"miRNA gene family\"]\n",
    "    mirna_motiffs = mirna_df[\"Seed region\"]\n",
    "    mirna_rcm_motiffs = mirna_df[\"Seed region (RC)\"]\n",
    "\n",
    "    mirna_list_fwd = [{} for _ in range(shape)]\n",
    "    mirna_list_rcm = [{} for _ in range(shape)]\n",
    "\n",
    "    for j, rec_fwd in enumerate(tqdm(fasta_fwd_seq, total=shape, leave=False)):\n",
    "        counter_fwd = Counter()\n",
    "        counter_rcm = Counter()\n",
    "        for i, mirna_family in enumerate(mirna_fams):\n",
    "            for motiff_fwd, motiff_rcm in zip(mirna_motiffs[i], mirna_rcm_motiffs[i]):\n",
    "                counter_fwd[mirna_family] += rec_fwd.count(motiff_fwd)\n",
    "                counter_rcm[mirna_family] += rec_fwd.count(motiff_rcm)\n",
    "        mirna_list_fwd[j] = +counter_fwd\n",
    "        mirna_list_rcm[j] = +counter_rcm\n",
    "\n",
    "    df = pd.DataFrame(\n",
    "        {\n",
    "            \"group\": flipon.name,\n",
    "            \"coordinates\": [x.id for x in fasta],\n",
    "            \"miRNA (+ strand)\": mirna_list_fwd,\n",
    "            \"miRNA (- strand)\": mirna_list_rcm,\n",
    "        }\n",
    "    )\n",
    "\n",
    "    df[\"miRNA (intersection)\"] = df[[\"miRNA (+ strand)\", \"miRNA (- strand)\"]].apply(\n",
    "        lambda x: \", \".join(sorted(set(x[0]) & set(x[1]))), axis=1\n",
    "    )\n",
    "    df[\"miRNA (+ strand)\"] = df[\"miRNA (+ strand)\"].apply(\n",
    "        lambda x: \", \".join(\n",
    "            sorted(\n",
    "                [f\"{y[0]} ({y[1]:,d})\" if y[1] != 1 else f\"{y[0]}\" for y in x.items()]\n",
    "            )\n",
    "        )\n",
    "    )\n",
    "    df[\"miRNA (- strand)\"] = df[\"miRNA (- strand)\"].apply(\n",
    "        lambda x: \", \".join(\n",
    "            sorted(\n",
    "                [f\"{y[0]} ({y[1]:,d})\" if y[1] != 1 else f\"{y[0]}\" for y in x.items()]\n",
    "            )\n",
    "        )\n",
    "    )\n",
    "\n",
    "    flipons_to_mirna_df = pd.concat(\n",
    "        [flipons_to_mirna_df, df.sort_values(\"coordinates\")], ignore_index=True\n",
    "    )\n",
    "\n",
    "# flipons_to_mirna_df.to_csv('flipons_to_mirna.tsv', sep='\\t', quoting=2)\n",
    "flipons_to_mirna_df\n"
   ]
  },
  {
   "cell_type": "markdown",
   "id": "cac308c9-52ef-46be-a5cb-95bf346ff922",
   "metadata": {},
   "source": [
    "## Map flipons to: gene features"
   ]
  },
  {
   "cell_type": "code",
   "execution_count": 7,
   "id": "8ae3ccc8-3761-4b4c-998c-045ef19cdb2f",
   "metadata": {
    "scrolled": true,
    "tags": []
   },
   "outputs": [
    {
     "data": {
      "text/html": [
       "<div>\n",
       "<style scoped>\n",
       "    .dataframe tbody tr th:only-of-type {\n",
       "        vertical-align: middle;\n",
       "    }\n",
       "\n",
       "    .dataframe tbody tr th {\n",
       "        vertical-align: top;\n",
       "    }\n",
       "\n",
       "    .dataframe thead th {\n",
       "        text-align: right;\n",
       "    }\n",
       "</style>\n",
       "<table border=\"1\" class=\"dataframe\">\n",
       "  <thead>\n",
       "    <tr style=\"text-align: right;\">\n",
       "      <th></th>\n",
       "      <th>group</th>\n",
       "      <th>coordinates</th>\n",
       "      <th>annotation</th>\n",
       "      <th>gene_info</th>\n",
       "    </tr>\n",
       "  </thead>\n",
       "  <tbody>\n",
       "    <tr>\n",
       "      <th>0</th>\n",
       "      <td>sidd</td>\n",
       "      <td>chr7:142578468-142578571</td>\n",
       "      <td>Promoter (&lt;=1kb)</td>\n",
       "      <td>H19 (-)</td>\n",
       "    </tr>\n",
       "    <tr>\n",
       "      <th>1</th>\n",
       "      <td>sidd</td>\n",
       "      <td>chrX:161216708-161216853</td>\n",
       "      <td>Intron</td>\n",
       "      <td>Scml2 (+)</td>\n",
       "    </tr>\n",
       "    <tr>\n",
       "      <th>2</th>\n",
       "      <td>sidd</td>\n",
       "      <td>chr11:95573504-95573647</td>\n",
       "      <td>Intron</td>\n",
       "      <td>Ngfr (-)</td>\n",
       "    </tr>\n",
       "    <tr>\n",
       "      <th>3</th>\n",
       "      <td>sidd</td>\n",
       "      <td>chr11:59307372-59307527</td>\n",
       "      <td>Promoter (&lt;=1kb)</td>\n",
       "      <td>Wnt9a (+)</td>\n",
       "    </tr>\n",
       "    <tr>\n",
       "      <th>4</th>\n",
       "      <td>sidd</td>\n",
       "      <td>chr17:63792985-63793092</td>\n",
       "      <td>Distal Intergenic</td>\n",
       "      <td>Fer (+)</td>\n",
       "    </tr>\n",
       "    <tr>\n",
       "      <th>...</th>\n",
       "      <td>...</td>\n",
       "      <td>...</td>\n",
       "      <td>...</td>\n",
       "      <td>...</td>\n",
       "    </tr>\n",
       "    <tr>\n",
       "      <th>39242</th>\n",
       "      <td>h-dna</td>\n",
       "      <td>chr13:21359449-21359470</td>\n",
       "      <td>Distal Intergenic</td>\n",
       "      <td>BX001068.1 (+)</td>\n",
       "    </tr>\n",
       "    <tr>\n",
       "      <th>39243</th>\n",
       "      <td>h-dna</td>\n",
       "      <td>chr4:96049628-96049650</td>\n",
       "      <td>Intron</td>\n",
       "      <td>AL772212.1 (-)</td>\n",
       "    </tr>\n",
       "    <tr>\n",
       "      <th>39244</th>\n",
       "      <td>h-dna</td>\n",
       "      <td>chr7:27899641-27899686</td>\n",
       "      <td>Distal Intergenic</td>\n",
       "      <td>AC139063.1 (-)</td>\n",
       "    </tr>\n",
       "    <tr>\n",
       "      <th>39245</th>\n",
       "      <td>h-dna</td>\n",
       "      <td>chr17:39848378-39848395</td>\n",
       "      <td>Promoter (&lt;=1kb)</td>\n",
       "      <td>CT010467.2 (-)</td>\n",
       "    </tr>\n",
       "    <tr>\n",
       "      <th>39246</th>\n",
       "      <td>h-dna</td>\n",
       "      <td>chr13:32633603-32633664</td>\n",
       "      <td>Intron</td>\n",
       "      <td>AL645799.1 (+)</td>\n",
       "    </tr>\n",
       "  </tbody>\n",
       "</table>\n",
       "<p>39247 rows × 4 columns</p>\n",
       "</div>"
      ],
      "text/plain": [
       "       group               coordinates         annotation       gene_info\n",
       "0       sidd  chr7:142578468-142578571   Promoter (<=1kb)         H19 (-)\n",
       "1       sidd  chrX:161216708-161216853             Intron       Scml2 (+)\n",
       "2       sidd   chr11:95573504-95573647             Intron        Ngfr (-)\n",
       "3       sidd   chr11:59307372-59307527   Promoter (<=1kb)       Wnt9a (+)\n",
       "4       sidd   chr17:63792985-63793092  Distal Intergenic         Fer (+)\n",
       "...      ...                       ...                ...             ...\n",
       "39242  h-dna   chr13:21359449-21359470  Distal Intergenic  BX001068.1 (+)\n",
       "39243  h-dna    chr4:96049628-96049650             Intron  AL772212.1 (-)\n",
       "39244  h-dna    chr7:27899641-27899686  Distal Intergenic  AC139063.1 (-)\n",
       "39245  h-dna   chr17:39848378-39848395   Promoter (<=1kb)  CT010467.2 (-)\n",
       "39246  h-dna   chr13:32633603-32633664             Intron  AL645799.1 (+)\n",
       "\n",
       "[39247 rows x 4 columns]"
      ]
     },
     "execution_count": 7,
     "metadata": {},
     "output_type": "execute_result"
    }
   ],
   "source": [
    "def remove_gene_ids_from_annotation(s: str):\n",
    "    if \"Intron\" in s or \"Exon\" in s:\n",
    "        return s.split(\" \")[0].strip()\n",
    "    return s\n",
    "\n",
    "\n",
    "flipons_to_genes_df = (\n",
    "    pd.read_table(f_flipon_to_gene_anno)\n",
    "    .assign(\n",
    "        coordinates=lambda x: x[\"seqnames\"]\n",
    "        + \":\"\n",
    "        + (x[\"start\"] - 1).astype(str)\n",
    "        + \"-\"\n",
    "        + x[\"end\"].astype(str),\n",
    "        geneStrand=lambda x: x[\"geneStrand\"].apply(lambda y: \"+\" if y == 1 else \"-\"),\n",
    "        gene_info=lambda x: x[\"gene_name\"] + \" (\" + x[\"geneStrand\"] + \")\",\n",
    "        annotation=lambda x: x[\"annotation\"].apply(remove_gene_ids_from_annotation),\n",
    "    )\n",
    "    .loc[:, [\"group\", \"coordinates\", \"annotation\", \"gene_info\"]]\n",
    ")\n",
    "\n",
    "flipons_to_genes_df\n"
   ]
  },
  {
   "cell_type": "markdown",
   "id": "60c37541-6d8e-41dc-9311-3f1200c3e32e",
   "metadata": {},
   "source": [
    "## Map flipons to: cCRE"
   ]
  },
  {
   "cell_type": "code",
   "execution_count": 8,
   "id": "9688acac-11b3-48b8-855c-b4412e563720",
   "metadata": {},
   "outputs": [
    {
     "data": {
      "text/plain": [
       "dELS                        182982\n",
       "pELS                         57202\n",
       "dELS,CTCF-bound              28203\n",
       "CTCF-only,CTCF-bound         24072\n",
       "pELS,CTCF-bound              16620\n",
       "PLS                          14062\n",
       "PLS,CTCF-bound               10052\n",
       "DNase-H3K4me3                 7095\n",
       "DNase-H3K4me3,CTCF-bound      3443\n",
       "Name: 9, dtype: int64"
      ]
     },
     "execution_count": 8,
     "metadata": {},
     "output_type": "execute_result"
    }
   ],
   "source": [
    "pd.read_table(f_ccre, header=None)[9].value_counts()\n"
   ]
  },
  {
   "cell_type": "code",
   "execution_count": 9,
   "id": "47ab8f27-3b69-4dbd-a92e-2987a9b010f3",
   "metadata": {},
   "outputs": [
    {
     "data": {
      "text/html": [
       "<div>\n",
       "<style scoped>\n",
       "    .dataframe tbody tr th:only-of-type {\n",
       "        vertical-align: middle;\n",
       "    }\n",
       "\n",
       "    .dataframe tbody tr th {\n",
       "        vertical-align: top;\n",
       "    }\n",
       "\n",
       "    .dataframe thead th {\n",
       "        text-align: right;\n",
       "    }\n",
       "</style>\n",
       "<table border=\"1\" class=\"dataframe\">\n",
       "  <thead>\n",
       "    <tr style=\"text-align: right;\">\n",
       "      <th></th>\n",
       "      <th>0</th>\n",
       "      <th>1</th>\n",
       "      <th>2</th>\n",
       "      <th>name</th>\n",
       "    </tr>\n",
       "  </thead>\n",
       "  <tbody>\n",
       "    <tr>\n",
       "      <th>0</th>\n",
       "      <td>chr1</td>\n",
       "      <td>3119617</td>\n",
       "      <td>3119911</td>\n",
       "      <td>dELS@EM10E0431203</td>\n",
       "    </tr>\n",
       "    <tr>\n",
       "      <th>1</th>\n",
       "      <td>chr1</td>\n",
       "      <td>3119914</td>\n",
       "      <td>3120120</td>\n",
       "      <td>dELS@EM10E0431204</td>\n",
       "    </tr>\n",
       "    <tr>\n",
       "      <th>2</th>\n",
       "      <td>chr1</td>\n",
       "      <td>3120346</td>\n",
       "      <td>3120662</td>\n",
       "      <td>dELS@EM10E0431205</td>\n",
       "    </tr>\n",
       "    <tr>\n",
       "      <th>3</th>\n",
       "      <td>chr1</td>\n",
       "      <td>3292622</td>\n",
       "      <td>3292971</td>\n",
       "      <td>dELS@EM10E0431207</td>\n",
       "    </tr>\n",
       "    <tr>\n",
       "      <th>4</th>\n",
       "      <td>chr1</td>\n",
       "      <td>3322453</td>\n",
       "      <td>3322797</td>\n",
       "      <td>dELS@EM10E0431208</td>\n",
       "    </tr>\n",
       "    <tr>\n",
       "      <th>...</th>\n",
       "      <td>...</td>\n",
       "      <td>...</td>\n",
       "      <td>...</td>\n",
       "      <td>...</td>\n",
       "    </tr>\n",
       "    <tr>\n",
       "      <th>343726</th>\n",
       "      <td>chrY</td>\n",
       "      <td>90729231</td>\n",
       "      <td>90729435</td>\n",
       "      <td>CTCF-only (CTCF-bound)@EM10E0932204</td>\n",
       "    </tr>\n",
       "    <tr>\n",
       "      <th>343727</th>\n",
       "      <td>chrY</td>\n",
       "      <td>90732178</td>\n",
       "      <td>90732526</td>\n",
       "      <td>CTCF-only (CTCF-bound)@EM10E0932207</td>\n",
       "    </tr>\n",
       "    <tr>\n",
       "      <th>343728</th>\n",
       "      <td>chrY</td>\n",
       "      <td>90734379</td>\n",
       "      <td>90734726</td>\n",
       "      <td>CTCF-only (CTCF-bound)@EM10E0932208</td>\n",
       "    </tr>\n",
       "    <tr>\n",
       "      <th>343729</th>\n",
       "      <td>chrY</td>\n",
       "      <td>90744476</td>\n",
       "      <td>90744639</td>\n",
       "      <td>DNase-H3K4me3 (CTCF-bound)@EM10E0932222</td>\n",
       "    </tr>\n",
       "    <tr>\n",
       "      <th>343730</th>\n",
       "      <td>chrY</td>\n",
       "      <td>90744733</td>\n",
       "      <td>90744994</td>\n",
       "      <td>DNase-H3K4me3 (CTCF-bound)@EM10E0932223</td>\n",
       "    </tr>\n",
       "  </tbody>\n",
       "</table>\n",
       "<p>343731 rows × 4 columns</p>\n",
       "</div>"
      ],
      "text/plain": [
       "           0         1         2                                     name\n",
       "0       chr1   3119617   3119911                        dELS@EM10E0431203\n",
       "1       chr1   3119914   3120120                        dELS@EM10E0431204\n",
       "2       chr1   3120346   3120662                        dELS@EM10E0431205\n",
       "3       chr1   3292622   3292971                        dELS@EM10E0431207\n",
       "4       chr1   3322453   3322797                        dELS@EM10E0431208\n",
       "...      ...       ...       ...                                      ...\n",
       "343726  chrY  90729231  90729435      CTCF-only (CTCF-bound)@EM10E0932204\n",
       "343727  chrY  90732178  90732526      CTCF-only (CTCF-bound)@EM10E0932207\n",
       "343728  chrY  90734379  90734726      CTCF-only (CTCF-bound)@EM10E0932208\n",
       "343729  chrY  90744476  90744639  DNase-H3K4me3 (CTCF-bound)@EM10E0932222\n",
       "343730  chrY  90744733  90744994  DNase-H3K4me3 (CTCF-bound)@EM10E0932223\n",
       "\n",
       "[343731 rows x 4 columns]"
      ]
     },
     "execution_count": 9,
     "metadata": {},
     "output_type": "execute_result"
    }
   ],
   "source": [
    "ccre_small_df = (\n",
    "    pd.read_table(f_ccre, header=None)\n",
    "    .assign(\n",
    "        name_preformatted=lambda x: x[9] + \"@\" + x[3],\n",
    "        name=lambda x: x[\"name_preformatted\"].str.replace(\n",
    "            \",CTCF-bound\", \" (CTCF-bound)\"\n",
    "        ),\n",
    "    )\n",
    "    .loc[:, [0, 1, 2, \"name\"]]\n",
    ")\n",
    "\n",
    "ccre_small_df.to_csv(f_ccre_small, sep=\"\\t\", header=False, index=False)\n",
    "ccre_small_df\n"
   ]
  },
  {
   "cell_type": "code",
   "execution_count": 10,
   "id": "b8b949a5-617b-4f28-9264-5be073b4b4b2",
   "metadata": {},
   "outputs": [
    {
     "name": "stdout",
     "output_type": "stream",
     "text": [
      "1683 /home/fpavlov/projects/article_conserved_miRNA/data/mm10_kouzine_ssDNA_bed/mm10_kouzine_actb_ssdna_enriched_sidd.slop200_and_ccre.bed\n",
      "20638 /home/fpavlov/projects/article_conserved_miRNA/data/mm10_kouzine_ssDNA_bed/mm10_kouzine_actb_ssdna_enriched_z-dna.slop200_and_ccre.bed\n",
      "14637 /home/fpavlov/projects/article_conserved_miRNA/data/mm10_kouzine_ssDNA_bed/mm10_kouzine_actb_ssdna_enriched_quadruplex.slop200_and_ccre.bed\n",
      "3756 /home/fpavlov/projects/article_conserved_miRNA/data/mm10_kouzine_ssDNA_bed/mm10_kouzine_actb_ssdna_enriched_h-dna.slop200_and_ccre.bed\n"
     ]
    }
   ],
   "source": [
    "for flipon in flipon_data:\n",
    "    flipon.path_int_ccre = flipon.path_bed_200.replace('.bed', '_and_ccre.bed')\n",
    "    !bedtools intersect -a {flipon.path_bed_200} -b {f_ccre_small} -wo > {flipon.path_int_ccre}\n",
    "    !wc -l {flipon.path_int_ccre}"
   ]
  },
  {
   "cell_type": "code",
   "execution_count": 11,
   "id": "12a07888-ca7d-4e49-9d86-59da35ceef76",
   "metadata": {},
   "outputs": [
    {
     "data": {
      "text/html": [
       "<div>\n",
       "<style scoped>\n",
       "    .dataframe tbody tr th:only-of-type {\n",
       "        vertical-align: middle;\n",
       "    }\n",
       "\n",
       "    .dataframe tbody tr th {\n",
       "        vertical-align: top;\n",
       "    }\n",
       "\n",
       "    .dataframe thead th {\n",
       "        text-align: right;\n",
       "    }\n",
       "</style>\n",
       "<table border=\"1\" class=\"dataframe\">\n",
       "  <thead>\n",
       "    <tr style=\"text-align: right;\">\n",
       "      <th></th>\n",
       "      <th>group</th>\n",
       "      <th>coordinates</th>\n",
       "      <th>cCRE (+-200bp slop)</th>\n",
       "    </tr>\n",
       "  </thead>\n",
       "  <tbody>\n",
       "    <tr>\n",
       "      <th>0</th>\n",
       "      <td>sidd</td>\n",
       "      <td>chr1:11330535-11330712</td>\n",
       "      <td>dELS@EM10E0431890, dELS@EM10E0431891</td>\n",
       "    </tr>\n",
       "    <tr>\n",
       "      <th>1</th>\n",
       "      <td>sidd</td>\n",
       "      <td>chr1:16171838-16172011</td>\n",
       "      <td>dELS@EM10E0432450</td>\n",
       "    </tr>\n",
       "    <tr>\n",
       "      <th>2</th>\n",
       "      <td>sidd</td>\n",
       "      <td>chr1:20743638-20743760</td>\n",
       "      <td>DNase-H3K4me3@EM10E0432741</td>\n",
       "    </tr>\n",
       "    <tr>\n",
       "      <th>3</th>\n",
       "      <td>sidd</td>\n",
       "      <td>chr1:22532979-22533089</td>\n",
       "      <td>dELS (CTCF-bound)@EM10E0432966</td>\n",
       "    </tr>\n",
       "    <tr>\n",
       "      <th>4</th>\n",
       "      <td>sidd</td>\n",
       "      <td>chr1:23924439-23924546</td>\n",
       "      <td>pELS@EM10E0433139, dELS@EM10E0433140</td>\n",
       "    </tr>\n",
       "    <tr>\n",
       "      <th>...</th>\n",
       "      <td>...</td>\n",
       "      <td>...</td>\n",
       "      <td>...</td>\n",
       "    </tr>\n",
       "    <tr>\n",
       "      <th>24415</th>\n",
       "      <td>h-dna</td>\n",
       "      <td>chrX:152769666-152769687</td>\n",
       "      <td>pELS (CTCF-bound)@EM10E0930778</td>\n",
       "    </tr>\n",
       "    <tr>\n",
       "      <th>24416</th>\n",
       "      <td>h-dna</td>\n",
       "      <td>chrX:159987892-159987912</td>\n",
       "      <td>DNase-H3K4me3 (CTCF-bound)@EM10E0931180</td>\n",
       "    </tr>\n",
       "    <tr>\n",
       "      <th>24417</th>\n",
       "      <td>h-dna</td>\n",
       "      <td>chrX:161717977-161717993</td>\n",
       "      <td>PLS@EM10E0931282, pELS@EM10E0931283</td>\n",
       "    </tr>\n",
       "    <tr>\n",
       "      <th>24418</th>\n",
       "      <td>h-dna</td>\n",
       "      <td>chrX:162643118-162643148</td>\n",
       "      <td>pELS@EM10E0931392, pELS@EM10E0931393, pELS (CT...</td>\n",
       "    </tr>\n",
       "    <tr>\n",
       "      <th>24419</th>\n",
       "      <td>h-dna</td>\n",
       "      <td>chrX:166585870-166585891</td>\n",
       "      <td>PLS@EM10E0931752, DNase-H3K4me3@EM10E0931753</td>\n",
       "    </tr>\n",
       "  </tbody>\n",
       "</table>\n",
       "<p>24420 rows × 3 columns</p>\n",
       "</div>"
      ],
      "text/plain": [
       "       group               coordinates  \\\n",
       "0       sidd    chr1:11330535-11330712   \n",
       "1       sidd    chr1:16171838-16172011   \n",
       "2       sidd    chr1:20743638-20743760   \n",
       "3       sidd    chr1:22532979-22533089   \n",
       "4       sidd    chr1:23924439-23924546   \n",
       "...      ...                       ...   \n",
       "24415  h-dna  chrX:152769666-152769687   \n",
       "24416  h-dna  chrX:159987892-159987912   \n",
       "24417  h-dna  chrX:161717977-161717993   \n",
       "24418  h-dna  chrX:162643118-162643148   \n",
       "24419  h-dna  chrX:166585870-166585891   \n",
       "\n",
       "                                     cCRE (+-200bp slop)  \n",
       "0                   dELS@EM10E0431890, dELS@EM10E0431891  \n",
       "1                                      dELS@EM10E0432450  \n",
       "2                             DNase-H3K4me3@EM10E0432741  \n",
       "3                         dELS (CTCF-bound)@EM10E0432966  \n",
       "4                   pELS@EM10E0433139, dELS@EM10E0433140  \n",
       "...                                                  ...  \n",
       "24415                     pELS (CTCF-bound)@EM10E0930778  \n",
       "24416            DNase-H3K4me3 (CTCF-bound)@EM10E0931180  \n",
       "24417                PLS@EM10E0931282, pELS@EM10E0931283  \n",
       "24418  pELS@EM10E0931392, pELS@EM10E0931393, pELS (CT...  \n",
       "24419       PLS@EM10E0931752, DNase-H3K4me3@EM10E0931753  \n",
       "\n",
       "[24420 rows x 3 columns]"
      ]
     },
     "execution_count": 11,
     "metadata": {},
     "output_type": "execute_result"
    }
   ],
   "source": [
    "flipons_to_ccre_df = pd.DataFrame()\n",
    "columns = [\n",
    "    \"sidd_chr\",\n",
    "    \"sidd_start\",\n",
    "    \"sidd_end\",\n",
    "    \"coordinates\",\n",
    "    \"ccre_chr\",\n",
    "    \"ccre_start\",\n",
    "    \"ccre_end\",\n",
    "    \"ccre\",\n",
    "    \"int_len\",\n",
    "]\n",
    "\n",
    "for flipon in flipon_data:\n",
    "    df = (\n",
    "        pd.read_table(flipon.path_int_ccre, header=None, names=columns)\n",
    "        .assign(\n",
    "            group=flipon.name,\n",
    "            ccre_join=lambda x: x.groupby(\"coordinates\")[\"ccre\"].transform(\n",
    "                lambda x: \", \".join(x)\n",
    "            ),\n",
    "        )\n",
    "        .drop_duplicates(subset=[\"coordinates\"])\n",
    "        .loc[:, [\"group\", \"coordinates\", \"ccre_join\"]]\n",
    "        .rename(columns={\"ccre_join\": \"cCRE (+-200bp slop)\"})\n",
    "    )\n",
    "\n",
    "    flipons_to_ccre_df = pd.concat([flipons_to_ccre_df, df], ignore_index=True)\n",
    "\n",
    "flipons_to_ccre_df\n"
   ]
  },
  {
   "cell_type": "markdown",
   "id": "18533779-1863-4a40-be0e-05c7c37e67ed",
   "metadata": {},
   "source": [
    "## Map flipons to: repeats"
   ]
  },
  {
   "cell_type": "code",
   "execution_count": 12,
   "id": "e7c94f92-9500-4357-b97b-d2ab7a2eb9a0",
   "metadata": {},
   "outputs": [
    {
     "name": "stdout",
     "output_type": "stream",
     "text": [
      "chr1\t3000000\t3002128\tLINE@L1_Mus3 (-)\t12955\t-\n",
      "chr1\t3003152\t3003994\tLINE@L1Md_F (-)\t1216\t-\n",
      "chr1\t3003993\t3004054\tLINE@L1_Mus3 (-)\t234\t-\n",
      "chr1\t3004040\t3004206\tLINE@L1_Rod (+)\t3685\t+\n",
      "chr1\t3004270\t3005001\tLINE@L1_Rod (+)\t3685\t+\n",
      "chr1\t3005001\t3005439\tLINE@L1_Rod (+)\t1280\t+\n",
      "chr1\t3005460\t3005548\tLINE@Lx9 (+)\t4853\t+\n",
      "chr1\t3005570\t3006764\tLINE@Lx9 (+)\t4853\t+\n",
      "chr1\t3007014\t3007268\tLINE@L1M4 (-)\t438\t-\n",
      "chr1\t3008116\t3008483\tLINE@L1_Mur2 (-)\t1590\t-\n"
     ]
    }
   ],
   "source": [
    "columns = [\n",
    "    \"bin\",\n",
    "    \"swScore\",\n",
    "    \"milliDiv\",\n",
    "    \"milliDel\",\n",
    "    \"milliIns\",\n",
    "    \"genoName\",\n",
    "    \"genoStart\",\n",
    "    \"genoEnd\",\n",
    "    \"genoLeft\",\n",
    "    \"strand\",\n",
    "    \"repName\",\n",
    "    \"repClass\",\n",
    "    \"repFamily\",\n",
    "    \"repStart\",\n",
    "    \"repEnd\",\n",
    "    \"repLeft\",\n",
    "    \"id\",\n",
    "]\n",
    "mm10_rmsk = (\n",
    "    pd.read_table(f_rmsk, header=None, names=columns, compression=\"gzip\")\n",
    "    .query('repClass.str.contains(\"LTR\") or repClass.str.contains(\"LINE\")')\n",
    "    .assign(\n",
    "        name=lambda x: x[\"repClass\"] + \"@\" + x[\"repName\"] + \" (\" + x[\"strand\"] + \")\"\n",
    "    )\n",
    "    .loc[:, [\"genoName\", \"genoStart\", \"genoEnd\", \"name\", \"swScore\", \"strand\"]]\n",
    "    .reset_index(drop=True)\n",
    "    .to_csv(f_rmsk_line_ltr, sep=\"\\t\", header=None, index=None)\n",
    ")\n",
    "\n",
    "!head {f_rmsk_line_ltr}\n"
   ]
  },
  {
   "cell_type": "code",
   "execution_count": 13,
   "id": "b5b2af6f-71bc-4431-9c3a-15a6c3ecfb36",
   "metadata": {},
   "outputs": [
    {
     "name": "stdout",
     "output_type": "stream",
     "text": [
      "23473 /home/fpavlov/projects/article_conserved_miRNA/data/mm10_kouzine_ssDNA_bed/mm10_kouzine_actb_ssdna_enriched_sidd.slop200_and_repeats.bed\n",
      "11832 /home/fpavlov/projects/article_conserved_miRNA/data/mm10_kouzine_ssDNA_bed/mm10_kouzine_actb_ssdna_enriched_z-dna.slop200_and_repeats.bed\n",
      "13332 /home/fpavlov/projects/article_conserved_miRNA/data/mm10_kouzine_ssDNA_bed/mm10_kouzine_actb_ssdna_enriched_quadruplex.slop200_and_repeats.bed\n",
      "15869 /home/fpavlov/projects/article_conserved_miRNA/data/mm10_kouzine_ssDNA_bed/mm10_kouzine_actb_ssdna_enriched_h-dna.slop200_and_repeats.bed\n"
     ]
    }
   ],
   "source": [
    "for flipon in flipon_data:\n",
    "    flipon.path_int_repeats = flipon.path_bed_200.replace('.bed', '_and_repeats.bed')\n",
    "    !bedtools intersect -a {flipon.path_bed_200} -b {f_rmsk_line_ltr} -wo > {flipon.path_int_repeats}\n",
    "    !wc -l {flipon.path_int_repeats}"
   ]
  },
  {
   "cell_type": "code",
   "execution_count": 14,
   "id": "90821924-6d7b-49a3-a776-4a3fbb711145",
   "metadata": {},
   "outputs": [
    {
     "data": {
      "text/html": [
       "<div>\n",
       "<style scoped>\n",
       "    .dataframe tbody tr th:only-of-type {\n",
       "        vertical-align: middle;\n",
       "    }\n",
       "\n",
       "    .dataframe tbody tr th {\n",
       "        vertical-align: top;\n",
       "    }\n",
       "\n",
       "    .dataframe thead th {\n",
       "        text-align: right;\n",
       "    }\n",
       "</style>\n",
       "<table border=\"1\" class=\"dataframe\">\n",
       "  <thead>\n",
       "    <tr style=\"text-align: right;\">\n",
       "      <th></th>\n",
       "      <th>group</th>\n",
       "      <th>coordinates</th>\n",
       "      <th>LINE/LTR repeats (+-200bp slop)</th>\n",
       "    </tr>\n",
       "  </thead>\n",
       "  <tbody>\n",
       "    <tr>\n",
       "      <th>0</th>\n",
       "      <td>sidd</td>\n",
       "      <td>chr1:3235931-3236054</td>\n",
       "      <td>LINE@L1Md_F2 (+), LINE@L1Md_F2 (+)</td>\n",
       "    </tr>\n",
       "    <tr>\n",
       "      <th>1</th>\n",
       "      <td>sidd</td>\n",
       "      <td>chr1:3350891-3351054</td>\n",
       "      <td>LINE@L1Md_T (+), LINE@Lx3B (-)</td>\n",
       "    </tr>\n",
       "    <tr>\n",
       "      <th>2</th>\n",
       "      <td>sidd</td>\n",
       "      <td>chr1:3473131-3473291</td>\n",
       "      <td>LINE@L1_Mus1 (+)</td>\n",
       "    </tr>\n",
       "    <tr>\n",
       "      <th>3</th>\n",
       "      <td>sidd</td>\n",
       "      <td>chr1:3490742-3490885</td>\n",
       "      <td>LINE@Lx3B (-), LINE@Lx2A1 (-)</td>\n",
       "    </tr>\n",
       "    <tr>\n",
       "      <th>4</th>\n",
       "      <td>sidd</td>\n",
       "      <td>chr1:3566652-3566892</td>\n",
       "      <td>LINE@Lx7 (+), LTR@RMER17A (+)</td>\n",
       "    </tr>\n",
       "    <tr>\n",
       "      <th>...</th>\n",
       "      <td>...</td>\n",
       "      <td>...</td>\n",
       "      <td>...</td>\n",
       "    </tr>\n",
       "    <tr>\n",
       "      <th>39768</th>\n",
       "      <td>h-dna</td>\n",
       "      <td>chrY:4223501-4223522</td>\n",
       "      <td>LINE@L1_Mus2 (-)</td>\n",
       "    </tr>\n",
       "    <tr>\n",
       "      <th>39769</th>\n",
       "      <td>h-dna</td>\n",
       "      <td>chrY:4208594-4208610</td>\n",
       "      <td>LTR@ORR1E (+), LINE@L1Md_T (-)</td>\n",
       "    </tr>\n",
       "    <tr>\n",
       "      <th>39770</th>\n",
       "      <td>h-dna</td>\n",
       "      <td>chrY:4200098-4200122</td>\n",
       "      <td>LINE@L1MD (+)</td>\n",
       "    </tr>\n",
       "    <tr>\n",
       "      <th>39771</th>\n",
       "      <td>h-dna</td>\n",
       "      <td>chrY:4185636-4185659</td>\n",
       "      <td>LTR@MMERGLN-int (-), LINE@L1Md_F2 (-)</td>\n",
       "    </tr>\n",
       "    <tr>\n",
       "      <th>39772</th>\n",
       "      <td>h-dna</td>\n",
       "      <td>chrY:4182920-4182944</td>\n",
       "      <td>LTR@MuRRS4-int (-), LTR@MMERGLN-int (-)</td>\n",
       "    </tr>\n",
       "  </tbody>\n",
       "</table>\n",
       "<p>39773 rows × 3 columns</p>\n",
       "</div>"
      ],
      "text/plain": [
       "       group           coordinates          LINE/LTR repeats (+-200bp slop)\n",
       "0       sidd  chr1:3235931-3236054       LINE@L1Md_F2 (+), LINE@L1Md_F2 (+)\n",
       "1       sidd  chr1:3350891-3351054           LINE@L1Md_T (+), LINE@Lx3B (-)\n",
       "2       sidd  chr1:3473131-3473291                         LINE@L1_Mus1 (+)\n",
       "3       sidd  chr1:3490742-3490885            LINE@Lx3B (-), LINE@Lx2A1 (-)\n",
       "4       sidd  chr1:3566652-3566892            LINE@Lx7 (+), LTR@RMER17A (+)\n",
       "...      ...                   ...                                      ...\n",
       "39768  h-dna  chrY:4223501-4223522                         LINE@L1_Mus2 (-)\n",
       "39769  h-dna  chrY:4208594-4208610           LTR@ORR1E (+), LINE@L1Md_T (-)\n",
       "39770  h-dna  chrY:4200098-4200122                            LINE@L1MD (+)\n",
       "39771  h-dna  chrY:4185636-4185659    LTR@MMERGLN-int (-), LINE@L1Md_F2 (-)\n",
       "39772  h-dna  chrY:4182920-4182944  LTR@MuRRS4-int (-), LTR@MMERGLN-int (-)\n",
       "\n",
       "[39773 rows x 3 columns]"
      ]
     },
     "execution_count": 14,
     "metadata": {},
     "output_type": "execute_result"
    }
   ],
   "source": [
    "flipons_to_repeats_df = pd.DataFrame()\n",
    "columns = [\n",
    "    \"sidd_chr\",\n",
    "    \"sidd_start\",\n",
    "    \"sidd_end\",\n",
    "    \"coordinates\",\n",
    "    \"rep_chr\",\n",
    "    \"rep_start\",\n",
    "    \"rep_end\",\n",
    "    \"rep_name\",\n",
    "    \"rep_score\",\n",
    "    \"rep_strand\",\n",
    "    \"int_len\",\n",
    "]\n",
    "\n",
    "for flipon in flipon_data:\n",
    "    df = (\n",
    "        pd.read_table(flipon.path_int_repeats, header=None, names=columns)\n",
    "        .assign(\n",
    "            group=flipon.name,\n",
    "            repeats_join=lambda x: x.groupby(\"coordinates\")[\"rep_name\"].transform(\n",
    "                lambda x: \", \".join(x)\n",
    "            ),\n",
    "        )\n",
    "        .drop_duplicates(subset=[\"coordinates\"])\n",
    "        .loc[:, [\"group\", \"coordinates\", \"repeats_join\"]]\n",
    "        .rename(columns={\"repeats_join\": \"LINE/LTR repeats (+-200bp slop)\"})\n",
    "    )\n",
    "\n",
    "    flipons_to_repeats_df = pd.concat([flipons_to_repeats_df, df], ignore_index=True)\n",
    "\n",
    "flipons_to_repeats_df\n"
   ]
  },
  {
   "cell_type": "markdown",
   "id": "9c8ae175-d1e4-4f01-9936-faf378449428",
   "metadata": {},
   "source": [
    "## Flipon mapping info: miRNA, gene features, cCREs, LINE/LTR repeats"
   ]
  },
  {
   "cell_type": "code",
   "execution_count": 15,
   "id": "4fe9789d-dce1-485a-b9d7-e83e565204b5",
   "metadata": {
    "scrolled": true,
    "tags": []
   },
   "outputs": [
    {
     "data": {
      "text/html": [
       "<div>\n",
       "<style scoped>\n",
       "    .dataframe tbody tr th:only-of-type {\n",
       "        vertical-align: middle;\n",
       "    }\n",
       "\n",
       "    .dataframe tbody tr th {\n",
       "        vertical-align: top;\n",
       "    }\n",
       "\n",
       "    .dataframe thead th {\n",
       "        text-align: right;\n",
       "    }\n",
       "</style>\n",
       "<table border=\"1\" class=\"dataframe\">\n",
       "  <thead>\n",
       "    <tr style=\"text-align: right;\">\n",
       "      <th></th>\n",
       "      <th>group</th>\n",
       "      <th>coordinates</th>\n",
       "      <th>miRNA (+ strand)</th>\n",
       "      <th>miRNA (- strand)</th>\n",
       "      <th>miRNA (intersection)</th>\n",
       "      <th>annotation</th>\n",
       "      <th>gene_info</th>\n",
       "      <th>cCRE (+-200bp slop)</th>\n",
       "      <th>LINE/LTR repeats (+-200bp slop)</th>\n",
       "    </tr>\n",
       "  </thead>\n",
       "  <tbody>\n",
       "    <tr>\n",
       "      <th>0</th>\n",
       "      <td>sidd</td>\n",
       "      <td>chr10:100119606-100119743</td>\n",
       "      <td>miR-539, miR-670</td>\n",
       "      <td>miR-143, miR-186, miR-30</td>\n",
       "      <td></td>\n",
       "      <td>Distal Intergenic</td>\n",
       "      <td>Gm22918 (+)</td>\n",
       "      <td></td>\n",
       "      <td>LTR@RLTR10C (+), LINE@Lx8b (-), LTR@MTB (+)</td>\n",
       "    </tr>\n",
       "    <tr>\n",
       "      <th>1</th>\n",
       "      <td>sidd</td>\n",
       "      <td>chr10:100146768-100146986</td>\n",
       "      <td>miR-155, miR-374</td>\n",
       "      <td>miR-448</td>\n",
       "      <td></td>\n",
       "      <td>Promoter (2-3kb)</td>\n",
       "      <td>Gm25287 (+)</td>\n",
       "      <td></td>\n",
       "      <td>LTR@MTB_Mm (-)</td>\n",
       "    </tr>\n",
       "    <tr>\n",
       "      <th>2</th>\n",
       "      <td>sidd</td>\n",
       "      <td>chr10:100160840-100160994</td>\n",
       "      <td>miR-188, miR-204/211</td>\n",
       "      <td>miR-203a, miR-653</td>\n",
       "      <td></td>\n",
       "      <td></td>\n",
       "      <td></td>\n",
       "      <td>dELS@EM10E0487086</td>\n",
       "      <td>LINE@L1_Mus3 (-), LINE@L1_Mus3 (-)</td>\n",
       "    </tr>\n",
       "    <tr>\n",
       "      <th>3</th>\n",
       "      <td>sidd</td>\n",
       "      <td>chr10:100192250-100192378</td>\n",
       "      <td>miR-15/16/195/424/497, miR-203a (2)</td>\n",
       "      <td></td>\n",
       "      <td></td>\n",
       "      <td>Distal Intergenic</td>\n",
       "      <td>Gm47627 (-)</td>\n",
       "      <td></td>\n",
       "      <td>LINE@L1_Mus3 (+)</td>\n",
       "    </tr>\n",
       "    <tr>\n",
       "      <th>4</th>\n",
       "      <td>sidd</td>\n",
       "      <td>chr10:100401845-100402004</td>\n",
       "      <td></td>\n",
       "      <td>miR-101, miR-140</td>\n",
       "      <td></td>\n",
       "      <td>Distal Intergenic</td>\n",
       "      <td>Gm4781 (-)</td>\n",
       "      <td></td>\n",
       "      <td>LINE@L1_Mus3 (-)</td>\n",
       "    </tr>\n",
       "    <tr>\n",
       "      <th>...</th>\n",
       "      <td>...</td>\n",
       "      <td>...</td>\n",
       "      <td>...</td>\n",
       "      <td>...</td>\n",
       "      <td>...</td>\n",
       "      <td>...</td>\n",
       "      <td>...</td>\n",
       "      <td>...</td>\n",
       "      <td>...</td>\n",
       "    </tr>\n",
       "    <tr>\n",
       "      <th>77695</th>\n",
       "      <td>h-dna</td>\n",
       "      <td>chrY:4200098-4200122</td>\n",
       "      <td></td>\n",
       "      <td></td>\n",
       "      <td></td>\n",
       "      <td></td>\n",
       "      <td></td>\n",
       "      <td></td>\n",
       "      <td>LINE@L1MD (+)</td>\n",
       "    </tr>\n",
       "    <tr>\n",
       "      <th>77696</th>\n",
       "      <td>h-dna</td>\n",
       "      <td>chrY:4208594-4208610</td>\n",
       "      <td></td>\n",
       "      <td></td>\n",
       "      <td></td>\n",
       "      <td></td>\n",
       "      <td></td>\n",
       "      <td></td>\n",
       "      <td>LTR@ORR1E (+), LINE@L1Md_T (-)</td>\n",
       "    </tr>\n",
       "    <tr>\n",
       "      <th>77697</th>\n",
       "      <td>h-dna</td>\n",
       "      <td>chrY:4223501-4223522</td>\n",
       "      <td></td>\n",
       "      <td></td>\n",
       "      <td></td>\n",
       "      <td></td>\n",
       "      <td></td>\n",
       "      <td></td>\n",
       "      <td>LINE@L1_Mus2 (-)</td>\n",
       "    </tr>\n",
       "    <tr>\n",
       "      <th>77698</th>\n",
       "      <td>h-dna</td>\n",
       "      <td>chrY:4231086-4231113</td>\n",
       "      <td></td>\n",
       "      <td></td>\n",
       "      <td></td>\n",
       "      <td></td>\n",
       "      <td></td>\n",
       "      <td></td>\n",
       "      <td>LTR@MuRRS4-int (-)</td>\n",
       "    </tr>\n",
       "    <tr>\n",
       "      <th>77699</th>\n",
       "      <td>h-dna</td>\n",
       "      <td>chrY:4235026-4235042</td>\n",
       "      <td></td>\n",
       "      <td></td>\n",
       "      <td></td>\n",
       "      <td>Intron</td>\n",
       "      <td>Gm28191 (+)</td>\n",
       "      <td></td>\n",
       "      <td>LTR@MuRRS4-int (-), LTR@MuRRS4-int (-)</td>\n",
       "    </tr>\n",
       "  </tbody>\n",
       "</table>\n",
       "<p>77700 rows × 9 columns</p>\n",
       "</div>"
      ],
      "text/plain": [
       "       group                coordinates                     miRNA (+ strand)  \\\n",
       "0       sidd  chr10:100119606-100119743                     miR-539, miR-670   \n",
       "1       sidd  chr10:100146768-100146986                     miR-155, miR-374   \n",
       "2       sidd  chr10:100160840-100160994                 miR-188, miR-204/211   \n",
       "3       sidd  chr10:100192250-100192378  miR-15/16/195/424/497, miR-203a (2)   \n",
       "4       sidd  chr10:100401845-100402004                                        \n",
       "...      ...                        ...                                  ...   \n",
       "77695  h-dna       chrY:4200098-4200122                                        \n",
       "77696  h-dna       chrY:4208594-4208610                                        \n",
       "77697  h-dna       chrY:4223501-4223522                                        \n",
       "77698  h-dna       chrY:4231086-4231113                                        \n",
       "77699  h-dna       chrY:4235026-4235042                                        \n",
       "\n",
       "               miRNA (- strand) miRNA (intersection)         annotation  \\\n",
       "0      miR-143, miR-186, miR-30                       Distal Intergenic   \n",
       "1                       miR-448                        Promoter (2-3kb)   \n",
       "2             miR-203a, miR-653                                           \n",
       "3                                                     Distal Intergenic   \n",
       "4              miR-101, miR-140                       Distal Intergenic   \n",
       "...                         ...                  ...                ...   \n",
       "77695                                                                     \n",
       "77696                                                                     \n",
       "77697                                                                     \n",
       "77698                                                                     \n",
       "77699                                                            Intron   \n",
       "\n",
       "         gene_info cCRE (+-200bp slop)  \\\n",
       "0      Gm22918 (+)                       \n",
       "1      Gm25287 (+)                       \n",
       "2                    dELS@EM10E0487086   \n",
       "3      Gm47627 (-)                       \n",
       "4       Gm4781 (-)                       \n",
       "...            ...                 ...   \n",
       "77695                                    \n",
       "77696                                    \n",
       "77697                                    \n",
       "77698                                    \n",
       "77699  Gm28191 (+)                       \n",
       "\n",
       "                   LINE/LTR repeats (+-200bp slop)  \n",
       "0      LTR@RLTR10C (+), LINE@Lx8b (-), LTR@MTB (+)  \n",
       "1                                   LTR@MTB_Mm (-)  \n",
       "2               LINE@L1_Mus3 (-), LINE@L1_Mus3 (-)  \n",
       "3                                 LINE@L1_Mus3 (+)  \n",
       "4                                 LINE@L1_Mus3 (-)  \n",
       "...                                            ...  \n",
       "77695                                LINE@L1MD (+)  \n",
       "77696               LTR@ORR1E (+), LINE@L1Md_T (-)  \n",
       "77697                             LINE@L1_Mus2 (-)  \n",
       "77698                           LTR@MuRRS4-int (-)  \n",
       "77699       LTR@MuRRS4-int (-), LTR@MuRRS4-int (-)  \n",
       "\n",
       "[77700 rows x 9 columns]"
      ]
     },
     "execution_count": 15,
     "metadata": {},
     "output_type": "execute_result"
    }
   ],
   "source": [
    "flipons_to_data = (\n",
    "    flipons_to_mirna_df.merge(\n",
    "        flipons_to_genes_df, on=[\"group\", \"coordinates\"], how=\"left\"\n",
    "    )\n",
    "    .merge(flipons_to_ccre_df, on=[\"group\", \"coordinates\"], how=\"left\")\n",
    "    .merge(flipons_to_repeats_df, on=[\"group\", \"coordinates\"], how=\"left\")\n",
    "    .fillna(\"\")\n",
    "    .reset_index(drop=True)\n",
    ")\n",
    "\n",
    "# export only those regions which have at least 1 miRNA overlapping site\n",
    "(\n",
    "    flipons_to_data\n",
    "    .replace(\"\", np.nan)\n",
    "    .dropna(subset=[\"miRNA (+ strand)\", \"miRNA (- strand)\"], how=\"all\")\n",
    "    .fillna(\"\")\n",
    "    .to_csv(f_flipon_to_data, sep=\"\\t\", index=False)\n",
    ")\n",
    "\n",
    "flipons_to_data\n"
   ]
  },
  {
   "cell_type": "code",
   "execution_count": 16,
   "id": "aca1663a",
   "metadata": {},
   "outputs": [
    {
     "data": {
      "text/plain": [
       "z-dna         25057\n",
       "sidd          15294\n",
       "quadruplex    20251\n",
       "h-dna         17098\n",
       "Name: group, dtype: int64"
      ]
     },
     "execution_count": 16,
     "metadata": {},
     "output_type": "execute_result"
    }
   ],
   "source": [
    "flipons_to_data.group.value_counts().sort_index(ascending=False)"
   ]
  },
  {
   "cell_type": "markdown",
   "id": "dd6edb3f",
   "metadata": {},
   "source": [
    "## Task 1\n",
    "\n",
    "The counts for the other flipons that are associated with the CCRE positive promoters (with no repeats) and those with the repeat promoters (and noCCRE). Is there any difference?"
   ]
  },
  {
   "cell_type": "code",
   "execution_count": 17,
   "id": "d7dfb03f",
   "metadata": {},
   "outputs": [
    {
     "data": {
      "text/html": [
       "<div>\n",
       "<style scoped>\n",
       "    .dataframe tbody tr th:only-of-type {\n",
       "        vertical-align: middle;\n",
       "    }\n",
       "\n",
       "    .dataframe tbody tr th {\n",
       "        vertical-align: top;\n",
       "    }\n",
       "\n",
       "    .dataframe thead tr th {\n",
       "        text-align: left;\n",
       "    }\n",
       "\n",
       "    .dataframe thead tr:last-of-type th {\n",
       "        text-align: right;\n",
       "    }\n",
       "</style>\n",
       "<table border=\"1\" class=\"dataframe\">\n",
       "  <thead>\n",
       "    <tr>\n",
       "      <th></th>\n",
       "      <th colspan=\"38\" halign=\"left\">total</th>\n",
       "    </tr>\n",
       "    <tr>\n",
       "      <th>annotation</th>\n",
       "      <th colspan=\"4\" halign=\"left\"></th>\n",
       "      <th colspan=\"4\" halign=\"left\">3' UTR</th>\n",
       "      <th colspan=\"3\" halign=\"left\">5' UTR</th>\n",
       "      <th colspan=\"4\" halign=\"left\">Distal Intergenic</th>\n",
       "      <th colspan=\"3\" halign=\"left\">Downstream (&lt;=300bp)</th>\n",
       "      <th colspan=\"4\" halign=\"left\">Exon</th>\n",
       "      <th colspan=\"4\" halign=\"left\">Intron</th>\n",
       "      <th colspan=\"4\" halign=\"left\">Promoter (1-2kb)</th>\n",
       "      <th colspan=\"4\" halign=\"left\">Promoter (2-3kb)</th>\n",
       "      <th colspan=\"4\" halign=\"left\">Promoter (&lt;=1kb)</th>\n",
       "    </tr>\n",
       "    <tr>\n",
       "      <th>category</th>\n",
       "      <th>C1</th>\n",
       "      <th>C2</th>\n",
       "      <th>C3</th>\n",
       "      <th>C4</th>\n",
       "      <th>C1</th>\n",
       "      <th>C2</th>\n",
       "      <th>C3</th>\n",
       "      <th>C4</th>\n",
       "      <th>C1</th>\n",
       "      <th>C2</th>\n",
       "      <th>C4</th>\n",
       "      <th>C1</th>\n",
       "      <th>C2</th>\n",
       "      <th>C3</th>\n",
       "      <th>C4</th>\n",
       "      <th>C1</th>\n",
       "      <th>C2</th>\n",
       "      <th>C4</th>\n",
       "      <th>C1</th>\n",
       "      <th>C2</th>\n",
       "      <th>C3</th>\n",
       "      <th>C4</th>\n",
       "      <th>C1</th>\n",
       "      <th>C2</th>\n",
       "      <th>C3</th>\n",
       "      <th>C4</th>\n",
       "      <th>C1</th>\n",
       "      <th>C2</th>\n",
       "      <th>C3</th>\n",
       "      <th>C4</th>\n",
       "      <th>C1</th>\n",
       "      <th>C2</th>\n",
       "      <th>C3</th>\n",
       "      <th>C4</th>\n",
       "      <th>C1</th>\n",
       "      <th>C2</th>\n",
       "      <th>C3</th>\n",
       "      <th>C4</th>\n",
       "    </tr>\n",
       "    <tr>\n",
       "      <th>group</th>\n",
       "      <th></th>\n",
       "      <th></th>\n",
       "      <th></th>\n",
       "      <th></th>\n",
       "      <th></th>\n",
       "      <th></th>\n",
       "      <th></th>\n",
       "      <th></th>\n",
       "      <th></th>\n",
       "      <th></th>\n",
       "      <th></th>\n",
       "      <th></th>\n",
       "      <th></th>\n",
       "      <th></th>\n",
       "      <th></th>\n",
       "      <th></th>\n",
       "      <th></th>\n",
       "      <th></th>\n",
       "      <th></th>\n",
       "      <th></th>\n",
       "      <th></th>\n",
       "      <th></th>\n",
       "      <th></th>\n",
       "      <th></th>\n",
       "      <th></th>\n",
       "      <th></th>\n",
       "      <th></th>\n",
       "      <th></th>\n",
       "      <th></th>\n",
       "      <th></th>\n",
       "      <th></th>\n",
       "      <th></th>\n",
       "      <th></th>\n",
       "      <th></th>\n",
       "      <th></th>\n",
       "      <th></th>\n",
       "      <th></th>\n",
       "      <th></th>\n",
       "    </tr>\n",
       "  </thead>\n",
       "  <tbody>\n",
       "    <tr>\n",
       "      <th>z-dna</th>\n",
       "      <td>3079.0</td>\n",
       "      <td>8111.0</td>\n",
       "      <td>171.0</td>\n",
       "      <td>3697.0</td>\n",
       "      <td>14.0</td>\n",
       "      <td>28.0</td>\n",
       "      <td>0.0</td>\n",
       "      <td>52.0</td>\n",
       "      <td>1.0</td>\n",
       "      <td>3.0</td>\n",
       "      <td>0.0</td>\n",
       "      <td>2673.0</td>\n",
       "      <td>226.0</td>\n",
       "      <td>79.0</td>\n",
       "      <td>629.0</td>\n",
       "      <td>4.0</td>\n",
       "      <td>2.0</td>\n",
       "      <td>1.0</td>\n",
       "      <td>20.0</td>\n",
       "      <td>132.0</td>\n",
       "      <td>2.0</td>\n",
       "      <td>167.0</td>\n",
       "      <td>883.0</td>\n",
       "      <td>155.0</td>\n",
       "      <td>36.0</td>\n",
       "      <td>581.0</td>\n",
       "      <td>143.0</td>\n",
       "      <td>237.0</td>\n",
       "      <td>9.0</td>\n",
       "      <td>181.0</td>\n",
       "      <td>174.0</td>\n",
       "      <td>94.0</td>\n",
       "      <td>4.0</td>\n",
       "      <td>122.0</td>\n",
       "      <td>175.0</td>\n",
       "      <td>2772.0</td>\n",
       "      <td>47.0</td>\n",
       "      <td>353.0</td>\n",
       "    </tr>\n",
       "    <tr>\n",
       "      <th>sidd</th>\n",
       "      <td>4580.0</td>\n",
       "      <td>215.0</td>\n",
       "      <td>71.0</td>\n",
       "      <td>343.0</td>\n",
       "      <td>33.0</td>\n",
       "      <td>25.0</td>\n",
       "      <td>2.0</td>\n",
       "      <td>40.0</td>\n",
       "      <td>0.0</td>\n",
       "      <td>0.0</td>\n",
       "      <td>1.0</td>\n",
       "      <td>5255.0</td>\n",
       "      <td>72.0</td>\n",
       "      <td>87.0</td>\n",
       "      <td>169.0</td>\n",
       "      <td>8.0</td>\n",
       "      <td>1.0</td>\n",
       "      <td>0.0</td>\n",
       "      <td>32.0</td>\n",
       "      <td>7.0</td>\n",
       "      <td>1.0</td>\n",
       "      <td>17.0</td>\n",
       "      <td>2288.0</td>\n",
       "      <td>74.0</td>\n",
       "      <td>81.0</td>\n",
       "      <td>200.0</td>\n",
       "      <td>361.0</td>\n",
       "      <td>72.0</td>\n",
       "      <td>12.0</td>\n",
       "      <td>63.0</td>\n",
       "      <td>295.0</td>\n",
       "      <td>35.0</td>\n",
       "      <td>17.0</td>\n",
       "      <td>41.0</td>\n",
       "      <td>353.0</td>\n",
       "      <td>316.0</td>\n",
       "      <td>36.0</td>\n",
       "      <td>91.0</td>\n",
       "    </tr>\n",
       "    <tr>\n",
       "      <th>quadruplex</th>\n",
       "      <td>2825.0</td>\n",
       "      <td>5064.0</td>\n",
       "      <td>118.0</td>\n",
       "      <td>1786.0</td>\n",
       "      <td>15.0</td>\n",
       "      <td>41.0</td>\n",
       "      <td>1.0</td>\n",
       "      <td>56.0</td>\n",
       "      <td>0.0</td>\n",
       "      <td>2.0</td>\n",
       "      <td>4.0</td>\n",
       "      <td>3388.0</td>\n",
       "      <td>232.0</td>\n",
       "      <td>82.0</td>\n",
       "      <td>295.0</td>\n",
       "      <td>3.0</td>\n",
       "      <td>2.0</td>\n",
       "      <td>2.0</td>\n",
       "      <td>15.0</td>\n",
       "      <td>41.0</td>\n",
       "      <td>2.0</td>\n",
       "      <td>95.0</td>\n",
       "      <td>1526.0</td>\n",
       "      <td>182.0</td>\n",
       "      <td>46.0</td>\n",
       "      <td>334.0</td>\n",
       "      <td>224.0</td>\n",
       "      <td>188.0</td>\n",
       "      <td>14.0</td>\n",
       "      <td>114.0</td>\n",
       "      <td>197.0</td>\n",
       "      <td>94.0</td>\n",
       "      <td>7.0</td>\n",
       "      <td>88.0</td>\n",
       "      <td>193.0</td>\n",
       "      <td>2576.0</td>\n",
       "      <td>35.0</td>\n",
       "      <td>364.0</td>\n",
       "    </tr>\n",
       "    <tr>\n",
       "      <th>h-dna</th>\n",
       "      <td>4095.0</td>\n",
       "      <td>842.0</td>\n",
       "      <td>151.0</td>\n",
       "      <td>3313.0</td>\n",
       "      <td>11.0</td>\n",
       "      <td>15.0</td>\n",
       "      <td>0.0</td>\n",
       "      <td>30.0</td>\n",
       "      <td>0.0</td>\n",
       "      <td>0.0</td>\n",
       "      <td>1.0</td>\n",
       "      <td>3428.0</td>\n",
       "      <td>138.0</td>\n",
       "      <td>108.0</td>\n",
       "      <td>646.0</td>\n",
       "      <td>5.0</td>\n",
       "      <td>0.0</td>\n",
       "      <td>0.0</td>\n",
       "      <td>13.0</td>\n",
       "      <td>8.0</td>\n",
       "      <td>0.0</td>\n",
       "      <td>25.0</td>\n",
       "      <td>1472.0</td>\n",
       "      <td>140.0</td>\n",
       "      <td>79.0</td>\n",
       "      <td>560.0</td>\n",
       "      <td>198.0</td>\n",
       "      <td>93.0</td>\n",
       "      <td>14.0</td>\n",
       "      <td>123.0</td>\n",
       "      <td>212.0</td>\n",
       "      <td>46.0</td>\n",
       "      <td>13.0</td>\n",
       "      <td>83.0</td>\n",
       "      <td>216.0</td>\n",
       "      <td>773.0</td>\n",
       "      <td>41.0</td>\n",
       "      <td>206.0</td>\n",
       "    </tr>\n",
       "  </tbody>\n",
       "</table>\n",
       "</div>"
      ],
      "text/plain": [
       "             total                                                             \\\n",
       "annotation                                3' UTR                  5' UTR        \n",
       "category        C1      C2     C3      C4     C1    C2   C3    C4     C1   C2   \n",
       "group                                                                           \n",
       "z-dna       3079.0  8111.0  171.0  3697.0   14.0  28.0  0.0  52.0    1.0  3.0   \n",
       "sidd        4580.0   215.0   71.0   343.0   33.0  25.0  2.0  40.0    0.0  0.0   \n",
       "quadruplex  2825.0  5064.0  118.0  1786.0   15.0  41.0  1.0  56.0    0.0  2.0   \n",
       "h-dna       4095.0   842.0  151.0  3313.0   11.0  15.0  0.0  30.0    0.0  0.0   \n",
       "\n",
       "                                                                             \\\n",
       "annotation      Distal Intergenic                      Downstream (<=300bp)   \n",
       "category     C4                C1     C2     C3     C4                   C1   \n",
       "group                                                                         \n",
       "z-dna       0.0            2673.0  226.0   79.0  629.0                  4.0   \n",
       "sidd        1.0            5255.0   72.0   87.0  169.0                  8.0   \n",
       "quadruplex  4.0            3388.0  232.0   82.0  295.0                  3.0   \n",
       "h-dna       1.0            3428.0  138.0  108.0  646.0                  5.0   \n",
       "\n",
       "                                                                           \\\n",
       "annotation            Exon                     Intron                       \n",
       "category     C2   C4    C1     C2   C3     C4      C1     C2    C3     C4   \n",
       "group                                                                       \n",
       "z-dna       2.0  1.0  20.0  132.0  2.0  167.0   883.0  155.0  36.0  581.0   \n",
       "sidd        1.0  0.0  32.0    7.0  1.0   17.0  2288.0   74.0  81.0  200.0   \n",
       "quadruplex  2.0  2.0  15.0   41.0  2.0   95.0  1526.0  182.0  46.0  334.0   \n",
       "h-dna       0.0  0.0  13.0    8.0  0.0   25.0  1472.0  140.0  79.0  560.0   \n",
       "\n",
       "                                                                              \\\n",
       "annotation Promoter (1-2kb)                     Promoter (2-3kb)               \n",
       "category                 C1     C2    C3     C4               C1    C2    C3   \n",
       "group                                                                          \n",
       "z-dna                 143.0  237.0   9.0  181.0            174.0  94.0   4.0   \n",
       "sidd                  361.0   72.0  12.0   63.0            295.0  35.0  17.0   \n",
       "quadruplex            224.0  188.0  14.0  114.0            197.0  94.0   7.0   \n",
       "h-dna                 198.0   93.0  14.0  123.0            212.0  46.0  13.0   \n",
       "\n",
       "                                                         \n",
       "annotation        Promoter (<=1kb)                       \n",
       "category       C4               C1      C2    C3     C4  \n",
       "group                                                    \n",
       "z-dna       122.0            175.0  2772.0  47.0  353.0  \n",
       "sidd         41.0            353.0   316.0  36.0   91.0  \n",
       "quadruplex   88.0            193.0  2576.0  35.0  364.0  \n",
       "h-dna        83.0            216.0   773.0  41.0  206.0  "
      ]
     },
     "metadata": {},
     "output_type": "display_data"
    }
   ],
   "source": [
    "def get_repeat_category(s: pd.Series):\n",
    "    # C1: Repeats and no cCRE\n",
    "    if s[0] == \"\" and s[1] != \"\":\n",
    "        return \"C1\"\n",
    "    # C2: cCRE and no Repeats\n",
    "    if s[0] != \"\" and s[1] == \"\":\n",
    "        return \"C2\"\n",
    "    # C3: Repeats and cCRE\n",
    "    if s[0] != \"\" and s[1] != \"\":\n",
    "        return \"C3\"\n",
    "    # C4: no Repeats and no cCRE\n",
    "    return \"C4\"\n",
    "\n",
    "\n",
    "with pd.option_context(\"display.max_columns\", None):\n",
    "    display(\n",
    "        flipons_to_data.assign(\n",
    "            category=lambda x: x[\n",
    "                [\"cCRE (+-200bp slop)\", \"LINE/LTR repeats (+-200bp slop)\"]\n",
    "            ].apply(get_repeat_category, axis=1),\n",
    "        )\n",
    "        .groupby([\"annotation\", \"category\"])[\"group\"]\n",
    "        .value_counts()\n",
    "        .to_frame()\n",
    "        .sort_index(ascending=[True, True, False]).rename(columns={'group':'total'})\n",
    "        .reset_index()\n",
    "        .pivot(index=['group'],columns=['annotation', 'category'],values=['total'])\n",
    "        .sort_index(ascending=False)\n",
    "        .fillna(0)\n",
    "    )\n"
   ]
  },
  {
   "cell_type": "code",
   "execution_count": 18,
   "id": "774a67bd",
   "metadata": {},
   "outputs": [
    {
     "data": {
      "text/html": [
       "<div>\n",
       "<style scoped>\n",
       "    .dataframe tbody tr th:only-of-type {\n",
       "        vertical-align: middle;\n",
       "    }\n",
       "\n",
       "    .dataframe tbody tr th {\n",
       "        vertical-align: top;\n",
       "    }\n",
       "\n",
       "    .dataframe thead tr th {\n",
       "        text-align: left;\n",
       "    }\n",
       "\n",
       "    .dataframe thead tr:last-of-type th {\n",
       "        text-align: right;\n",
       "    }\n",
       "</style>\n",
       "<table border=\"1\" class=\"dataframe\">\n",
       "  <thead>\n",
       "    <tr>\n",
       "      <th></th>\n",
       "      <th colspan=\"24\" halign=\"left\">total</th>\n",
       "    </tr>\n",
       "    <tr>\n",
       "      <th>annotation</th>\n",
       "      <th colspan=\"8\" halign=\"left\">Promoter (1-2kb)</th>\n",
       "      <th colspan=\"8\" halign=\"left\">Promoter (2-3kb)</th>\n",
       "      <th colspan=\"8\" halign=\"left\">Promoter (&lt;=1kb)</th>\n",
       "    </tr>\n",
       "    <tr>\n",
       "      <th>value</th>\n",
       "      <th colspan=\"2\" halign=\"left\">T1</th>\n",
       "      <th colspan=\"2\" halign=\"left\">T2</th>\n",
       "      <th colspan=\"2\" halign=\"left\">T3</th>\n",
       "      <th colspan=\"2\" halign=\"left\">T4</th>\n",
       "      <th colspan=\"2\" halign=\"left\">T1</th>\n",
       "      <th colspan=\"2\" halign=\"left\">T2</th>\n",
       "      <th colspan=\"2\" halign=\"left\">T3</th>\n",
       "      <th colspan=\"2\" halign=\"left\">T4</th>\n",
       "      <th colspan=\"2\" halign=\"left\">T1</th>\n",
       "      <th colspan=\"2\" halign=\"left\">T2</th>\n",
       "      <th colspan=\"2\" halign=\"left\">T3</th>\n",
       "      <th colspan=\"2\" halign=\"left\">T4</th>\n",
       "    </tr>\n",
       "    <tr>\n",
       "      <th>variable</th>\n",
       "      <th>F</th>\n",
       "      <th>RC</th>\n",
       "      <th>F</th>\n",
       "      <th>RC</th>\n",
       "      <th>F</th>\n",
       "      <th>RC</th>\n",
       "      <th>F</th>\n",
       "      <th>RC</th>\n",
       "      <th>F</th>\n",
       "      <th>RC</th>\n",
       "      <th>F</th>\n",
       "      <th>RC</th>\n",
       "      <th>F</th>\n",
       "      <th>RC</th>\n",
       "      <th>F</th>\n",
       "      <th>RC</th>\n",
       "      <th>F</th>\n",
       "      <th>RC</th>\n",
       "      <th>F</th>\n",
       "      <th>RC</th>\n",
       "      <th>F</th>\n",
       "      <th>RC</th>\n",
       "      <th>F</th>\n",
       "      <th>RC</th>\n",
       "    </tr>\n",
       "    <tr>\n",
       "      <th>group</th>\n",
       "      <th></th>\n",
       "      <th></th>\n",
       "      <th></th>\n",
       "      <th></th>\n",
       "      <th></th>\n",
       "      <th></th>\n",
       "      <th></th>\n",
       "      <th></th>\n",
       "      <th></th>\n",
       "      <th></th>\n",
       "      <th></th>\n",
       "      <th></th>\n",
       "      <th></th>\n",
       "      <th></th>\n",
       "      <th></th>\n",
       "      <th></th>\n",
       "      <th></th>\n",
       "      <th></th>\n",
       "      <th></th>\n",
       "      <th></th>\n",
       "      <th></th>\n",
       "      <th></th>\n",
       "      <th></th>\n",
       "      <th></th>\n",
       "    </tr>\n",
       "  </thead>\n",
       "  <tbody>\n",
       "    <tr>\n",
       "      <th>z-dna</th>\n",
       "      <td>497.0</td>\n",
       "      <td>501.0</td>\n",
       "      <td>59.0</td>\n",
       "      <td>58.0</td>\n",
       "      <td>6.0</td>\n",
       "      <td>3.0</td>\n",
       "      <td>8.0</td>\n",
       "      <td>8.0</td>\n",
       "      <td>329.0</td>\n",
       "      <td>333.0</td>\n",
       "      <td>48.0</td>\n",
       "      <td>44.0</td>\n",
       "      <td>7.0</td>\n",
       "      <td>9.0</td>\n",
       "      <td>10.0</td>\n",
       "      <td>8.0</td>\n",
       "      <td>3030.0</td>\n",
       "      <td>3033.0</td>\n",
       "      <td>279.0</td>\n",
       "      <td>285.0</td>\n",
       "      <td>14.0</td>\n",
       "      <td>11.0</td>\n",
       "      <td>24.0</td>\n",
       "      <td>18.0</td>\n",
       "    </tr>\n",
       "    <tr>\n",
       "      <th>sidd</th>\n",
       "      <td>91.0</td>\n",
       "      <td>92.0</td>\n",
       "      <td>160.0</td>\n",
       "      <td>155.0</td>\n",
       "      <td>16.0</td>\n",
       "      <td>23.0</td>\n",
       "      <td>241.0</td>\n",
       "      <td>238.0</td>\n",
       "      <td>83.0</td>\n",
       "      <td>77.0</td>\n",
       "      <td>95.0</td>\n",
       "      <td>102.0</td>\n",
       "      <td>19.0</td>\n",
       "      <td>22.0</td>\n",
       "      <td>191.0</td>\n",
       "      <td>187.0</td>\n",
       "      <td>200.0</td>\n",
       "      <td>212.0</td>\n",
       "      <td>220.0</td>\n",
       "      <td>232.0</td>\n",
       "      <td>29.0</td>\n",
       "      <td>18.0</td>\n",
       "      <td>347.0</td>\n",
       "      <td>334.0</td>\n",
       "    </tr>\n",
       "    <tr>\n",
       "      <th>quadruplex</th>\n",
       "      <td>429.0</td>\n",
       "      <td>408.0</td>\n",
       "      <td>88.0</td>\n",
       "      <td>107.0</td>\n",
       "      <td>8.0</td>\n",
       "      <td>2.0</td>\n",
       "      <td>15.0</td>\n",
       "      <td>23.0</td>\n",
       "      <td>291.0</td>\n",
       "      <td>312.0</td>\n",
       "      <td>78.0</td>\n",
       "      <td>57.0</td>\n",
       "      <td>5.0</td>\n",
       "      <td>4.0</td>\n",
       "      <td>12.0</td>\n",
       "      <td>13.0</td>\n",
       "      <td>2368.0</td>\n",
       "      <td>2457.0</td>\n",
       "      <td>656.0</td>\n",
       "      <td>578.0</td>\n",
       "      <td>32.0</td>\n",
       "      <td>31.0</td>\n",
       "      <td>112.0</td>\n",
       "      <td>102.0</td>\n",
       "    </tr>\n",
       "    <tr>\n",
       "      <th>h-dna</th>\n",
       "      <td>401.0</td>\n",
       "      <td>384.0</td>\n",
       "      <td>19.0</td>\n",
       "      <td>39.0</td>\n",
       "      <td>8.0</td>\n",
       "      <td>5.0</td>\n",
       "      <td>0.0</td>\n",
       "      <td>0.0</td>\n",
       "      <td>324.0</td>\n",
       "      <td>316.0</td>\n",
       "      <td>24.0</td>\n",
       "      <td>33.0</td>\n",
       "      <td>6.0</td>\n",
       "      <td>4.0</td>\n",
       "      <td>0.0</td>\n",
       "      <td>1.0</td>\n",
       "      <td>1140.0</td>\n",
       "      <td>1140.0</td>\n",
       "      <td>80.0</td>\n",
       "      <td>84.0</td>\n",
       "      <td>11.0</td>\n",
       "      <td>10.0</td>\n",
       "      <td>5.0</td>\n",
       "      <td>2.0</td>\n",
       "    </tr>\n",
       "  </tbody>\n",
       "</table>\n",
       "</div>"
      ],
      "text/plain": [
       "                      total                                                 \\\n",
       "annotation Promoter (1-2kb)                                                  \n",
       "value                    T1            T2           T3           T4          \n",
       "variable                  F     RC      F     RC     F    RC      F     RC   \n",
       "group                                                                        \n",
       "z-dna                 497.0  501.0   59.0   58.0   6.0   3.0    8.0    8.0   \n",
       "sidd                   91.0   92.0  160.0  155.0  16.0  23.0  241.0  238.0   \n",
       "quadruplex            429.0  408.0   88.0  107.0   8.0   2.0   15.0   23.0   \n",
       "h-dna                 401.0  384.0   19.0   39.0   8.0   5.0    0.0    0.0   \n",
       "\n",
       "                                                                           \\\n",
       "annotation Promoter (2-3kb)                                                 \n",
       "value                    T1           T2           T3           T4          \n",
       "variable                  F     RC     F     RC     F    RC      F     RC   \n",
       "group                                                                       \n",
       "z-dna                 329.0  333.0  48.0   44.0   7.0   9.0   10.0    8.0   \n",
       "sidd                   83.0   77.0  95.0  102.0  19.0  22.0  191.0  187.0   \n",
       "quadruplex            291.0  312.0  78.0   57.0   5.0   4.0   12.0   13.0   \n",
       "h-dna                 324.0  316.0  24.0   33.0   6.0   4.0    0.0    1.0   \n",
       "\n",
       "                                                                             \n",
       "annotation Promoter (<=1kb)                                                  \n",
       "value                    T1             T2           T3           T4         \n",
       "variable                  F      RC      F     RC     F    RC      F     RC  \n",
       "group                                                                        \n",
       "z-dna                3030.0  3033.0  279.0  285.0  14.0  11.0   24.0   18.0  \n",
       "sidd                  200.0   212.0  220.0  232.0  29.0  18.0  347.0  334.0  \n",
       "quadruplex           2368.0  2457.0  656.0  578.0  32.0  31.0  112.0  102.0  \n",
       "h-dna                1140.0  1140.0   80.0   84.0  11.0  10.0    5.0    2.0  "
      ]
     },
     "metadata": {},
     "output_type": "display_data"
    }
   ],
   "source": [
    "def get_mirna_category(x: list):\n",
    "    if len(x) == 0 or x[0] == \"\":\n",
    "        return \"T1\"\n",
    "    if len(x) == 1:\n",
    "        if \"(\" in x[0]:\n",
    "            return \"T3\"\n",
    "        return \"T2\"\n",
    "    return \"T4\"\n",
    "\n",
    "\n",
    "with pd.option_context(\"display.max_columns\", None):\n",
    "    display(\n",
    "        flipons_to_data.query('annotation.str.contains(\"Promoter\")')\n",
    "        .assign(\n",
    "            mirna_p_list=lambda x: x[\"miRNA (+ strand)\"].str.split(\", \"),\n",
    "            mirna_m_list=lambda x: x[\"miRNA (- strand)\"].str.split(\", \"),\n",
    "            ccre_repeat_category=lambda x: x[\n",
    "                [\"cCRE (+-200bp slop)\", \"LINE/LTR repeats (+-200bp slop)\"]\n",
    "            ].apply(get_repeat_category, axis=1),\n",
    "            F=lambda x: x[\"mirna_p_list\"].apply(get_mirna_category),\n",
    "            RC=lambda x: x[\"mirna_m_list\"].apply(get_mirna_category),\n",
    "        )\n",
    "        .melt(\n",
    "            id_vars=[\"annotation\", \"group\"],\n",
    "            value_vars=[\"F\", \"RC\"],\n",
    "        )\n",
    "        .groupby([\"annotation\", \"group\", \"value\"])[\"variable\"]\n",
    "        .value_counts()\n",
    "        .to_frame()\n",
    "        .rename(columns={'variable':'total'})\n",
    "        .sort_index(ascending=[True, False, True, True])\n",
    "        .reset_index()\n",
    "        .pivot(index=['group'],columns=['annotation', 'value', 'variable'],values=['total'])\n",
    "        .sort_index(ascending=False)\n",
    "        .fillna(0)\n",
    "    )\n"
   ]
  },
  {
   "cell_type": "code",
   "execution_count": 19,
   "id": "93252bc7",
   "metadata": {},
   "outputs": [
    {
     "data": {
      "text/html": [
       "<div>\n",
       "<style scoped>\n",
       "    .dataframe tbody tr th:only-of-type {\n",
       "        vertical-align: middle;\n",
       "    }\n",
       "\n",
       "    .dataframe tbody tr th {\n",
       "        vertical-align: top;\n",
       "    }\n",
       "\n",
       "    .dataframe thead tr th {\n",
       "        text-align: left;\n",
       "    }\n",
       "</style>\n",
       "<table border=\"1\" class=\"dataframe\">\n",
       "  <thead>\n",
       "    <tr>\n",
       "      <th>group</th>\n",
       "      <th colspan=\"31\" halign=\"left\">z-dna</th>\n",
       "      <th colspan=\"31\" halign=\"left\">sidd</th>\n",
       "      <th colspan=\"32\" halign=\"left\">quadruplex</th>\n",
       "      <th colspan=\"27\" halign=\"left\">h-dna</th>\n",
       "    </tr>\n",
       "    <tr>\n",
       "      <th>ccre_repeat_category</th>\n",
       "      <th colspan=\"8\" halign=\"left\">C1</th>\n",
       "      <th colspan=\"8\" halign=\"left\">C2</th>\n",
       "      <th colspan=\"7\" halign=\"left\">C3</th>\n",
       "      <th colspan=\"8\" halign=\"left\">C4</th>\n",
       "      <th colspan=\"8\" halign=\"left\">C1</th>\n",
       "      <th colspan=\"8\" halign=\"left\">C2</th>\n",
       "      <th colspan=\"8\" halign=\"left\">C3</th>\n",
       "      <th colspan=\"7\" halign=\"left\">C4</th>\n",
       "      <th colspan=\"8\" halign=\"left\">C1</th>\n",
       "      <th colspan=\"8\" halign=\"left\">C2</th>\n",
       "      <th colspan=\"8\" halign=\"left\">C3</th>\n",
       "      <th colspan=\"8\" halign=\"left\">C4</th>\n",
       "      <th colspan=\"6\" halign=\"left\">C1</th>\n",
       "      <th colspan=\"8\" halign=\"left\">C2</th>\n",
       "      <th colspan=\"5\" halign=\"left\">C3</th>\n",
       "      <th colspan=\"8\" halign=\"left\">C4</th>\n",
       "    </tr>\n",
       "    <tr>\n",
       "      <th>value</th>\n",
       "      <th colspan=\"2\" halign=\"left\">T1</th>\n",
       "      <th colspan=\"2\" halign=\"left\">T2</th>\n",
       "      <th colspan=\"2\" halign=\"left\">T3</th>\n",
       "      <th colspan=\"2\" halign=\"left\">T4</th>\n",
       "      <th colspan=\"2\" halign=\"left\">T1</th>\n",
       "      <th colspan=\"2\" halign=\"left\">T2</th>\n",
       "      <th colspan=\"2\" halign=\"left\">T3</th>\n",
       "      <th colspan=\"2\" halign=\"left\">T4</th>\n",
       "      <th colspan=\"2\" halign=\"left\">T1</th>\n",
       "      <th colspan=\"2\" halign=\"left\">T2</th>\n",
       "      <th>T3</th>\n",
       "      <th colspan=\"2\" halign=\"left\">T4</th>\n",
       "      <th colspan=\"2\" halign=\"left\">T1</th>\n",
       "      <th colspan=\"2\" halign=\"left\">T2</th>\n",
       "      <th colspan=\"2\" halign=\"left\">T3</th>\n",
       "      <th colspan=\"2\" halign=\"left\">T4</th>\n",
       "      <th colspan=\"2\" halign=\"left\">T1</th>\n",
       "      <th colspan=\"2\" halign=\"left\">T2</th>\n",
       "      <th colspan=\"2\" halign=\"left\">T3</th>\n",
       "      <th colspan=\"2\" halign=\"left\">T4</th>\n",
       "      <th colspan=\"2\" halign=\"left\">T1</th>\n",
       "      <th colspan=\"2\" halign=\"left\">T2</th>\n",
       "      <th colspan=\"2\" halign=\"left\">T3</th>\n",
       "      <th colspan=\"2\" halign=\"left\">T4</th>\n",
       "      <th colspan=\"2\" halign=\"left\">T1</th>\n",
       "      <th colspan=\"2\" halign=\"left\">T2</th>\n",
       "      <th colspan=\"2\" halign=\"left\">T3</th>\n",
       "      <th colspan=\"2\" halign=\"left\">T4</th>\n",
       "      <th colspan=\"2\" halign=\"left\">T1</th>\n",
       "      <th colspan=\"2\" halign=\"left\">T2</th>\n",
       "      <th>T3</th>\n",
       "      <th colspan=\"2\" halign=\"left\">T4</th>\n",
       "      <th colspan=\"2\" halign=\"left\">T1</th>\n",
       "      <th colspan=\"2\" halign=\"left\">T2</th>\n",
       "      <th colspan=\"2\" halign=\"left\">T3</th>\n",
       "      <th colspan=\"2\" halign=\"left\">T4</th>\n",
       "      <th colspan=\"2\" halign=\"left\">T1</th>\n",
       "      <th colspan=\"2\" halign=\"left\">T2</th>\n",
       "      <th colspan=\"2\" halign=\"left\">T3</th>\n",
       "      <th colspan=\"2\" halign=\"left\">T4</th>\n",
       "      <th colspan=\"2\" halign=\"left\">T1</th>\n",
       "      <th colspan=\"2\" halign=\"left\">T2</th>\n",
       "      <th colspan=\"2\" halign=\"left\">T3</th>\n",
       "      <th colspan=\"2\" halign=\"left\">T4</th>\n",
       "      <th colspan=\"2\" halign=\"left\">T1</th>\n",
       "      <th colspan=\"2\" halign=\"left\">T2</th>\n",
       "      <th colspan=\"2\" halign=\"left\">T3</th>\n",
       "      <th colspan=\"2\" halign=\"left\">T4</th>\n",
       "      <th colspan=\"2\" halign=\"left\">T1</th>\n",
       "      <th colspan=\"2\" halign=\"left\">T2</th>\n",
       "      <th colspan=\"2\" halign=\"left\">T3</th>\n",
       "      <th colspan=\"2\" halign=\"left\">T1</th>\n",
       "      <th colspan=\"2\" halign=\"left\">T2</th>\n",
       "      <th colspan=\"2\" halign=\"left\">T3</th>\n",
       "      <th colspan=\"2\" halign=\"left\">T4</th>\n",
       "      <th colspan=\"2\" halign=\"left\">T1</th>\n",
       "      <th colspan=\"2\" halign=\"left\">T2</th>\n",
       "      <th>T3</th>\n",
       "      <th colspan=\"2\" halign=\"left\">T1</th>\n",
       "      <th colspan=\"2\" halign=\"left\">T2</th>\n",
       "      <th colspan=\"2\" halign=\"left\">T3</th>\n",
       "      <th colspan=\"2\" halign=\"left\">T4</th>\n",
       "    </tr>\n",
       "    <tr>\n",
       "      <th>variable</th>\n",
       "      <th>F</th>\n",
       "      <th>RC</th>\n",
       "      <th>F</th>\n",
       "      <th>RC</th>\n",
       "      <th>F</th>\n",
       "      <th>RC</th>\n",
       "      <th>F</th>\n",
       "      <th>RC</th>\n",
       "      <th>F</th>\n",
       "      <th>RC</th>\n",
       "      <th>F</th>\n",
       "      <th>RC</th>\n",
       "      <th>F</th>\n",
       "      <th>RC</th>\n",
       "      <th>F</th>\n",
       "      <th>RC</th>\n",
       "      <th>F</th>\n",
       "      <th>RC</th>\n",
       "      <th>F</th>\n",
       "      <th>RC</th>\n",
       "      <th>RC</th>\n",
       "      <th>F</th>\n",
       "      <th>RC</th>\n",
       "      <th>F</th>\n",
       "      <th>RC</th>\n",
       "      <th>F</th>\n",
       "      <th>RC</th>\n",
       "      <th>F</th>\n",
       "      <th>RC</th>\n",
       "      <th>F</th>\n",
       "      <th>RC</th>\n",
       "      <th>F</th>\n",
       "      <th>RC</th>\n",
       "      <th>F</th>\n",
       "      <th>RC</th>\n",
       "      <th>F</th>\n",
       "      <th>RC</th>\n",
       "      <th>F</th>\n",
       "      <th>RC</th>\n",
       "      <th>F</th>\n",
       "      <th>RC</th>\n",
       "      <th>F</th>\n",
       "      <th>RC</th>\n",
       "      <th>F</th>\n",
       "      <th>RC</th>\n",
       "      <th>F</th>\n",
       "      <th>RC</th>\n",
       "      <th>F</th>\n",
       "      <th>RC</th>\n",
       "      <th>F</th>\n",
       "      <th>RC</th>\n",
       "      <th>F</th>\n",
       "      <th>RC</th>\n",
       "      <th>F</th>\n",
       "      <th>RC</th>\n",
       "      <th>F</th>\n",
       "      <th>RC</th>\n",
       "      <th>F</th>\n",
       "      <th>RC</th>\n",
       "      <th>F</th>\n",
       "      <th>F</th>\n",
       "      <th>RC</th>\n",
       "      <th>F</th>\n",
       "      <th>RC</th>\n",
       "      <th>F</th>\n",
       "      <th>RC</th>\n",
       "      <th>F</th>\n",
       "      <th>RC</th>\n",
       "      <th>F</th>\n",
       "      <th>RC</th>\n",
       "      <th>F</th>\n",
       "      <th>RC</th>\n",
       "      <th>F</th>\n",
       "      <th>RC</th>\n",
       "      <th>F</th>\n",
       "      <th>RC</th>\n",
       "      <th>F</th>\n",
       "      <th>RC</th>\n",
       "      <th>F</th>\n",
       "      <th>RC</th>\n",
       "      <th>F</th>\n",
       "      <th>RC</th>\n",
       "      <th>F</th>\n",
       "      <th>RC</th>\n",
       "      <th>F</th>\n",
       "      <th>RC</th>\n",
       "      <th>F</th>\n",
       "      <th>RC</th>\n",
       "      <th>F</th>\n",
       "      <th>RC</th>\n",
       "      <th>F</th>\n",
       "      <th>RC</th>\n",
       "      <th>F</th>\n",
       "      <th>RC</th>\n",
       "      <th>F</th>\n",
       "      <th>RC</th>\n",
       "      <th>F</th>\n",
       "      <th>RC</th>\n",
       "      <th>F</th>\n",
       "      <th>RC</th>\n",
       "      <th>F</th>\n",
       "      <th>RC</th>\n",
       "      <th>F</th>\n",
       "      <th>RC</th>\n",
       "      <th>F</th>\n",
       "      <th>RC</th>\n",
       "      <th>F</th>\n",
       "      <th>RC</th>\n",
       "      <th>F</th>\n",
       "      <th>RC</th>\n",
       "      <th>F</th>\n",
       "      <th>RC</th>\n",
       "      <th>RC</th>\n",
       "      <th>F</th>\n",
       "      <th>RC</th>\n",
       "      <th>F</th>\n",
       "      <th>RC</th>\n",
       "      <th>F</th>\n",
       "      <th>RC</th>\n",
       "      <th>F</th>\n",
       "      <th>RC</th>\n",
       "    </tr>\n",
       "  </thead>\n",
       "  <tbody>\n",
       "    <tr>\n",
       "      <th>0</th>\n",
       "      <td>401</td>\n",
       "      <td>416</td>\n",
       "      <td>68</td>\n",
       "      <td>62</td>\n",
       "      <td>10</td>\n",
       "      <td>5</td>\n",
       "      <td>13</td>\n",
       "      <td>9</td>\n",
       "      <td>2839</td>\n",
       "      <td>2842</td>\n",
       "      <td>237</td>\n",
       "      <td>240</td>\n",
       "      <td>8</td>\n",
       "      <td>5</td>\n",
       "      <td>19</td>\n",
       "      <td>16</td>\n",
       "      <td>50</td>\n",
       "      <td>52</td>\n",
       "      <td>9</td>\n",
       "      <td>6</td>\n",
       "      <td>1</td>\n",
       "      <td>1</td>\n",
       "      <td>1</td>\n",
       "      <td>566</td>\n",
       "      <td>557</td>\n",
       "      <td>72</td>\n",
       "      <td>79</td>\n",
       "      <td>9</td>\n",
       "      <td>12</td>\n",
       "      <td>9</td>\n",
       "      <td>8</td>\n",
       "      <td>189</td>\n",
       "      <td>204</td>\n",
       "      <td>266</td>\n",
       "      <td>277</td>\n",
       "      <td>48</td>\n",
       "      <td>55</td>\n",
       "      <td>506</td>\n",
       "      <td>473</td>\n",
       "      <td>126</td>\n",
       "      <td>125</td>\n",
       "      <td>134</td>\n",
       "      <td>131</td>\n",
       "      <td>10</td>\n",
       "      <td>5</td>\n",
       "      <td>153</td>\n",
       "      <td>162</td>\n",
       "      <td>14</td>\n",
       "      <td>10</td>\n",
       "      <td>19</td>\n",
       "      <td>24</td>\n",
       "      <td>3</td>\n",
       "      <td>3</td>\n",
       "      <td>29</td>\n",
       "      <td>28</td>\n",
       "      <td>45</td>\n",
       "      <td>42</td>\n",
       "      <td>56</td>\n",
       "      <td>57</td>\n",
       "      <td>3</td>\n",
       "      <td>91</td>\n",
       "      <td>96</td>\n",
       "      <td>485</td>\n",
       "      <td>491</td>\n",
       "      <td>110</td>\n",
       "      <td>97</td>\n",
       "      <td>1</td>\n",
       "      <td>6</td>\n",
       "      <td>18</td>\n",
       "      <td>20</td>\n",
       "      <td>2130</td>\n",
       "      <td>2223</td>\n",
       "      <td>596</td>\n",
       "      <td>516</td>\n",
       "      <td>30</td>\n",
       "      <td>24</td>\n",
       "      <td>102</td>\n",
       "      <td>95</td>\n",
       "      <td>40</td>\n",
       "      <td>38</td>\n",
       "      <td>11</td>\n",
       "      <td>14</td>\n",
       "      <td>2</td>\n",
       "      <td>1</td>\n",
       "      <td>3</td>\n",
       "      <td>3</td>\n",
       "      <td>433</td>\n",
       "      <td>425</td>\n",
       "      <td>105</td>\n",
       "      <td>115</td>\n",
       "      <td>12</td>\n",
       "      <td>6</td>\n",
       "      <td>16</td>\n",
       "      <td>20</td>\n",
       "      <td>582</td>\n",
       "      <td>573</td>\n",
       "      <td>34</td>\n",
       "      <td>47</td>\n",
       "      <td>10</td>\n",
       "      <td>6</td>\n",
       "      <td>841</td>\n",
       "      <td>833</td>\n",
       "      <td>60</td>\n",
       "      <td>72</td>\n",
       "      <td>8</td>\n",
       "      <td>5</td>\n",
       "      <td>3</td>\n",
       "      <td>2</td>\n",
       "      <td>65</td>\n",
       "      <td>61</td>\n",
       "      <td>3</td>\n",
       "      <td>5</td>\n",
       "      <td>2</td>\n",
       "      <td>377</td>\n",
       "      <td>373</td>\n",
       "      <td>26</td>\n",
       "      <td>32</td>\n",
       "      <td>7</td>\n",
       "      <td>6</td>\n",
       "      <td>2</td>\n",
       "      <td>1</td>\n",
       "    </tr>\n",
       "  </tbody>\n",
       "</table>\n",
       "</div>"
      ],
      "text/plain": [
       "group                z-dna                                                   \\\n",
       "ccre_repeat_category    C1                               C2                   \n",
       "value                   T1       T2      T3     T4       T1         T2        \n",
       "variable                 F   RC   F  RC   F RC   F RC     F    RC    F   RC   \n",
       "0                      401  416  68  62  10  5  13  9  2839  2842  237  240   \n",
       "\n",
       "group                                                                        \\\n",
       "ccre_repeat_category                C3                      C4                \n",
       "value                T3     T4      T1     T2    T3 T4      T1       T2       \n",
       "variable              F RC   F  RC   F  RC  F RC RC  F RC    F   RC   F  RC   \n",
       "0                     8  5  19  16  50  52  9  6  1  1  1  566  557  72  79   \n",
       "\n",
       "group                             sidd                                        \\\n",
       "ccre_repeat_category                C1                                    C2   \n",
       "value                T3     T4      T1        T2       T3       T4        T1   \n",
       "variable              F  RC  F RC    F   RC    F   RC   F  RC    F   RC    F   \n",
       "0                     9  12  9  8  189  204  266  277  48  55  506  473  126   \n",
       "\n",
       "group                                                                       \\\n",
       "ccre_repeat_category                                  C3                     \n",
       "value                       T2       T3      T4       T1      T2     T3      \n",
       "variable               RC    F   RC   F RC    F   RC   F  RC   F  RC  F RC   \n",
       "0                     125  134  131  10  5  153  162  14  10  19  24  3  3   \n",
       "\n",
       "group                                                   quadruplex            \\\n",
       "ccre_repeat_category          C4                                C1             \n",
       "value                 T4      T1      T2     T3  T4             T1        T2   \n",
       "variable               F  RC   F  RC   F  RC  F   F  RC          F   RC    F   \n",
       "0                     29  28  45  42  56  57  3  91  96        485  491  110   \n",
       "\n",
       "group                                                                          \\\n",
       "ccre_repeat_category                      C2                                    \n",
       "value                    T3     T4        T1         T2       T3       T4       \n",
       "variable              RC  F RC   F  RC     F    RC    F   RC   F  RC    F  RC   \n",
       "0                     97  1  6  18  20  2130  2223  596  516  30  24  102  95   \n",
       "\n",
       "group                                                                        \\\n",
       "ccre_repeat_category  C3                           C4                         \n",
       "value                 T1      T2     T3    T4      T1        T2       T3      \n",
       "variable               F  RC   F  RC  F RC  F RC    F   RC    F   RC   F RC   \n",
       "0                     40  38  11  14  2  1  3  3  433  425  105  115  12  6   \n",
       "\n",
       "group                        h-dna                                           \\\n",
       "ccre_repeat_category            C1                       C2                   \n",
       "value                 T4        T1       T2      T3      T1       T2     T3   \n",
       "variable               F  RC     F   RC   F  RC   F RC    F   RC   F  RC  F   \n",
       "0                     16  20   582  573  34  47  10  6  841  833  60  72  8   \n",
       "\n",
       "group                                                                         \n",
       "ccre_repeat_category           C3                C4                           \n",
       "value                   T4     T1     T2    T3   T1       T2     T3    T4     \n",
       "variable             RC  F RC   F  RC  F RC RC    F   RC   F  RC  F RC  F RC  \n",
       "0                     5  3  2  65  61  3  5  2  377  373  26  32  7  6  2  1  "
      ]
     },
     "metadata": {},
     "output_type": "display_data"
    }
   ],
   "source": [
    "with pd.option_context(\"display.max_columns\", None):\n",
    "    display(\n",
    "        flipons_to_data\n",
    "        .query('annotation.str.contains(\"Promoter\")')\n",
    "        .assign(\n",
    "            mirna_p_list=lambda x: x[\"miRNA (+ strand)\"].str.split(\", \"),\n",
    "            mirna_m_list=lambda x: x[\"miRNA (- strand)\"].str.split(\", \"),\n",
    "            ccre_repeat_category=lambda x: x[\n",
    "                [\"cCRE (+-200bp slop)\", \"LINE/LTR repeats (+-200bp slop)\"]\n",
    "            ].apply(get_repeat_category, axis=1),\n",
    "            F=lambda x: x[\"mirna_p_list\"].apply(get_mirna_category),\n",
    "            RC=lambda x: x[\"mirna_m_list\"].apply(get_mirna_category),\n",
    "        )\n",
    "        .melt(id_vars=['ccre_repeat_category', 'group'], value_vars=['F', 'RC'])\n",
    "        .groupby(['group', 'ccre_repeat_category', 'value'])[['variable']].value_counts().to_frame().sort_index(ascending=[False, True, True, True]).T\n",
    "    )\n"
   ]
  },
  {
   "cell_type": "markdown",
   "id": "946610b1",
   "metadata": {},
   "source": [
    "## Task 2\n",
    "\n",
    "The  overlap with DNA methylation at CCRE positive elements (but no repeats)  at all genomic locations and the same for repeats (with no CCRE overlap). Are repeat promoters preferentially methylated?\n"
   ]
  },
  {
   "cell_type": "markdown",
   "id": "ea2f24d6",
   "metadata": {},
   "source": [
    "### Map flipons to: H3K9ac and H3K14ac"
   ]
  },
  {
   "cell_type": "code",
   "execution_count": 20,
   "id": "2dc20d7d",
   "metadata": {},
   "outputs": [],
   "source": [
    "# with pd.option_context(\"display.max_columns\", None):\n",
    "#     display(\n",
    "#         flipons_to_data.assign(\n",
    "#             category=lambda x: x[\n",
    "#                 [\"cCRE (+-200bp slop)\", \"LINE/LTR repeats (+-200bp slop)\"]\n",
    "#             ].apply(get_repeat_category, axis=1),\n",
    "#             chr=lambda x: x['coordinates'].str.split(':', expand=True)[0],\n",
    "#             start=lambda x: x['coordinates'].str.split(':', expand=True)[1].str.split('-', expand=True)[0],\n",
    "#             end=lambda x: x['coordinates'].str.split(':', expand=True)[1].str.split('-', expand=True)[1],\n",
    "#         )\n",
    "#     )"
   ]
  },
  {
   "cell_type": "code",
   "execution_count": 21,
   "id": "3d259697",
   "metadata": {},
   "outputs": [
    {
     "data": {
      "application/vnd.jupyter.widget-view+json": {
       "model_id": "cee49d1517ac431da289ddcad9aa9f15",
       "version_major": 2,
       "version_minor": 0
      },
      "text/plain": [
       "  0%|          | 0/4 [00:00<?, ?it/s]"
      ]
     },
     "metadata": {},
     "output_type": "display_data"
    },
    {
     "name": "stdout",
     "output_type": "stream",
     "text": [
      "Error: Unable to open file /home/fpavlov/projects/article_conserved_miRNA/data/mm10.H3K9ac.uplift.bed. Exiting.\n",
      "Error: Unable to open file /home/fpavlov/projects/article_conserved_miRNA/data/mm10.H3K14ac.uplift.bed. Exiting.\n",
      "Error: Unable to open file /home/fpavlov/projects/article_conserved_miRNA/data/mm10.H3K9ac.uplift.bed. Exiting.\n",
      "Error: Unable to open file /home/fpavlov/projects/article_conserved_miRNA/data/mm10.H3K14ac.uplift.bed. Exiting.\n",
      "Error: Unable to open file /home/fpavlov/projects/article_conserved_miRNA/data/mm10.H3K9ac.uplift.bed. Exiting.\n",
      "Error: Unable to open file /home/fpavlov/projects/article_conserved_miRNA/data/mm10.H3K14ac.uplift.bed. Exiting.\n",
      "Error: Unable to open file /home/fpavlov/projects/article_conserved_miRNA/data/mm10.H3K9ac.uplift.bed. Exiting.\n",
      "Error: Unable to open file /home/fpavlov/projects/article_conserved_miRNA/data/mm10.H3K14ac.uplift.bed. Exiting.\n"
     ]
    }
   ],
   "source": [
    "for flipon in tqdm(flipon_data):\n",
    "    intersection_path_k9 = f\"{d_flipons_and_histones}/{flipon.name}_and_h3k9ac.bed\"\n",
    "    intersection_path_k14 = f\"{d_flipons_and_histones}/{flipon.name}_and_h3k14ac.bed\"\n",
    "    !bedtools intersect -a {flipon.path_bed} -b {f_h3k9ac} -u > {intersection_path_k9}\n",
    "    !bedtools intersect -a {flipon.path_bed} -b {f_h3k14ac} -u > {intersection_path_k14}"
   ]
  },
  {
   "cell_type": "code",
   "execution_count": 22,
   "id": "64821662",
   "metadata": {},
   "outputs": [
    {
     "ename": "EmptyDataError",
     "evalue": "No columns to parse from file",
     "output_type": "error",
     "traceback": [
      "\u001b[0;31m---------------------------------------------------------------------------\u001b[0m",
      "\u001b[0;31mEmptyDataError\u001b[0m                            Traceback (most recent call last)",
      "\u001b[1;32m/home/fpavlov/projects/article_conserved_miRNA/notebooks/2022-08-26-miRNA_counts.ipynb Cell 32\u001b[0m in \u001b[0;36m<cell line: 3>\u001b[0;34m()\u001b[0m\n\u001b[1;32m      <a href='vscode-notebook-cell://ssh-remote%2Bbioinflab-jack/home/fpavlov/projects/article_conserved_miRNA/notebooks/2022-08-26-miRNA_counts.ipynb#X43sdnNjb2RlLXJlbW90ZQ%3D%3D?line=3'>4</a>\u001b[0m     flipon_name \u001b[39m=\u001b[39m entry\u001b[39m.\u001b[39mname\u001b[39m.\u001b[39msplit(\u001b[39m\"\u001b[39m\u001b[39m_\u001b[39m\u001b[39m\"\u001b[39m)[\u001b[39m0\u001b[39m]\n\u001b[1;32m      <a href='vscode-notebook-cell://ssh-remote%2Bbioinflab-jack/home/fpavlov/projects/article_conserved_miRNA/notebooks/2022-08-26-miRNA_counts.ipynb#X43sdnNjb2RlLXJlbW90ZQ%3D%3D?line=4'>5</a>\u001b[0m     histone_name \u001b[39m=\u001b[39m entry\u001b[39m.\u001b[39mname\u001b[39m.\u001b[39msplit(\u001b[39m\"\u001b[39m\u001b[39m_\u001b[39m\u001b[39m\"\u001b[39m)[\u001b[39m2\u001b[39m]\u001b[39m.\u001b[39msplit(\u001b[39m\"\u001b[39m\u001b[39m.\u001b[39m\u001b[39m\"\u001b[39m)[\u001b[39m0\u001b[39m]\n\u001b[1;32m      <a href='vscode-notebook-cell://ssh-remote%2Bbioinflab-jack/home/fpavlov/projects/article_conserved_miRNA/notebooks/2022-08-26-miRNA_counts.ipynb#X43sdnNjb2RlLXJlbW90ZQ%3D%3D?line=6'>7</a>\u001b[0m     df \u001b[39m=\u001b[39m (\n\u001b[0;32m----> <a href='vscode-notebook-cell://ssh-remote%2Bbioinflab-jack/home/fpavlov/projects/article_conserved_miRNA/notebooks/2022-08-26-miRNA_counts.ipynb#X43sdnNjb2RlLXJlbW90ZQ%3D%3D?line=7'>8</a>\u001b[0m         pd\u001b[39m.\u001b[39;49mread_table(entry\u001b[39m.\u001b[39;49mpath, header\u001b[39m=\u001b[39;49m\u001b[39mNone\u001b[39;49;00m)[[\u001b[39m3\u001b[39m]]\n\u001b[1;32m      <a href='vscode-notebook-cell://ssh-remote%2Bbioinflab-jack/home/fpavlov/projects/article_conserved_miRNA/notebooks/2022-08-26-miRNA_counts.ipynb#X43sdnNjb2RlLXJlbW90ZQ%3D%3D?line=8'>9</a>\u001b[0m         \u001b[39m.\u001b[39mrename(columns\u001b[39m=\u001b[39m{\u001b[39m3\u001b[39m: \u001b[39m\"\u001b[39m\u001b[39mcoordinates\u001b[39m\u001b[39m\"\u001b[39m})\n\u001b[1;32m     <a href='vscode-notebook-cell://ssh-remote%2Bbioinflab-jack/home/fpavlov/projects/article_conserved_miRNA/notebooks/2022-08-26-miRNA_counts.ipynb#X43sdnNjb2RlLXJlbW90ZQ%3D%3D?line=9'>10</a>\u001b[0m         \u001b[39m.\u001b[39massign(group\u001b[39m=\u001b[39mflipon_name, histone\u001b[39m=\u001b[39mhistone_name)\n\u001b[1;32m     <a href='vscode-notebook-cell://ssh-remote%2Bbioinflab-jack/home/fpavlov/projects/article_conserved_miRNA/notebooks/2022-08-26-miRNA_counts.ipynb#X43sdnNjb2RlLXJlbW90ZQ%3D%3D?line=10'>11</a>\u001b[0m     )\n\u001b[1;32m     <a href='vscode-notebook-cell://ssh-remote%2Bbioinflab-jack/home/fpavlov/projects/article_conserved_miRNA/notebooks/2022-08-26-miRNA_counts.ipynb#X43sdnNjb2RlLXJlbW90ZQ%3D%3D?line=11'>12</a>\u001b[0m     flipons_to_histones \u001b[39m=\u001b[39m pd\u001b[39m.\u001b[39mconcat([flipons_to_histones, df], ignore_index\u001b[39m=\u001b[39m\u001b[39mTrue\u001b[39;00m)\n\u001b[1;32m     <a href='vscode-notebook-cell://ssh-remote%2Bbioinflab-jack/home/fpavlov/projects/article_conserved_miRNA/notebooks/2022-08-26-miRNA_counts.ipynb#X43sdnNjb2RlLXJlbW90ZQ%3D%3D?line=13'>14</a>\u001b[0m flipons_to_histones \u001b[39m=\u001b[39m flipons_to_data\u001b[39m.\u001b[39mmerge(\n\u001b[1;32m     <a href='vscode-notebook-cell://ssh-remote%2Bbioinflab-jack/home/fpavlov/projects/article_conserved_miRNA/notebooks/2022-08-26-miRNA_counts.ipynb#X43sdnNjb2RlLXJlbW90ZQ%3D%3D?line=14'>15</a>\u001b[0m     (\n\u001b[1;32m     <a href='vscode-notebook-cell://ssh-remote%2Bbioinflab-jack/home/fpavlov/projects/article_conserved_miRNA/notebooks/2022-08-26-miRNA_counts.ipynb#X43sdnNjb2RlLXJlbW90ZQ%3D%3D?line=15'>16</a>\u001b[0m         flipons_to_histones\u001b[39m.\u001b[39massign(\n\u001b[0;32m   (...)\u001b[0m\n\u001b[1;32m     <a href='vscode-notebook-cell://ssh-remote%2Bbioinflab-jack/home/fpavlov/projects/article_conserved_miRNA/notebooks/2022-08-26-miRNA_counts.ipynb#X43sdnNjb2RlLXJlbW90ZQ%3D%3D?line=29'>30</a>\u001b[0m     ]\u001b[39m.\u001b[39mapply(get_repeat_category, axis\u001b[39m=\u001b[39m\u001b[39m1\u001b[39m)\n\u001b[1;32m     <a href='vscode-notebook-cell://ssh-remote%2Bbioinflab-jack/home/fpavlov/projects/article_conserved_miRNA/notebooks/2022-08-26-miRNA_counts.ipynb#X43sdnNjb2RlLXJlbW90ZQ%3D%3D?line=30'>31</a>\u001b[0m )\n",
      "File \u001b[0;32m~/miniconda3/envs/miRNA/lib/python3.10/site-packages/pandas/util/_decorators.py:311\u001b[0m, in \u001b[0;36mdeprecate_nonkeyword_arguments.<locals>.decorate.<locals>.wrapper\u001b[0;34m(*args, **kwargs)\u001b[0m\n\u001b[1;32m    305\u001b[0m \u001b[39mif\u001b[39;00m \u001b[39mlen\u001b[39m(args) \u001b[39m>\u001b[39m num_allow_args:\n\u001b[1;32m    306\u001b[0m     warnings\u001b[39m.\u001b[39mwarn(\n\u001b[1;32m    307\u001b[0m         msg\u001b[39m.\u001b[39mformat(arguments\u001b[39m=\u001b[39marguments),\n\u001b[1;32m    308\u001b[0m         \u001b[39mFutureWarning\u001b[39;00m,\n\u001b[1;32m    309\u001b[0m         stacklevel\u001b[39m=\u001b[39mstacklevel,\n\u001b[1;32m    310\u001b[0m     )\n\u001b[0;32m--> 311\u001b[0m \u001b[39mreturn\u001b[39;00m func(\u001b[39m*\u001b[39;49margs, \u001b[39m*\u001b[39;49m\u001b[39m*\u001b[39;49mkwargs)\n",
      "File \u001b[0;32m~/miniconda3/envs/miRNA/lib/python3.10/site-packages/pandas/io/parsers/readers.py:779\u001b[0m, in \u001b[0;36mread_table\u001b[0;34m(filepath_or_buffer, sep, delimiter, header, names, index_col, usecols, squeeze, prefix, mangle_dupe_cols, dtype, engine, converters, true_values, false_values, skipinitialspace, skiprows, skipfooter, nrows, na_values, keep_default_na, na_filter, verbose, skip_blank_lines, parse_dates, infer_datetime_format, keep_date_col, date_parser, dayfirst, cache_dates, iterator, chunksize, compression, thousands, decimal, lineterminator, quotechar, quoting, doublequote, escapechar, comment, encoding, encoding_errors, dialect, error_bad_lines, warn_bad_lines, on_bad_lines, delim_whitespace, low_memory, memory_map, float_precision, storage_options)\u001b[0m\n\u001b[1;32m    764\u001b[0m kwds_defaults \u001b[39m=\u001b[39m _refine_defaults_read(\n\u001b[1;32m    765\u001b[0m     dialect,\n\u001b[1;32m    766\u001b[0m     delimiter,\n\u001b[0;32m   (...)\u001b[0m\n\u001b[1;32m    775\u001b[0m     defaults\u001b[39m=\u001b[39m{\u001b[39m\"\u001b[39m\u001b[39mdelimiter\u001b[39m\u001b[39m\"\u001b[39m: \u001b[39m\"\u001b[39m\u001b[39m\\t\u001b[39;00m\u001b[39m\"\u001b[39m},\n\u001b[1;32m    776\u001b[0m )\n\u001b[1;32m    777\u001b[0m kwds\u001b[39m.\u001b[39mupdate(kwds_defaults)\n\u001b[0;32m--> 779\u001b[0m \u001b[39mreturn\u001b[39;00m _read(filepath_or_buffer, kwds)\n",
      "File \u001b[0;32m~/miniconda3/envs/miRNA/lib/python3.10/site-packages/pandas/io/parsers/readers.py:575\u001b[0m, in \u001b[0;36m_read\u001b[0;34m(filepath_or_buffer, kwds)\u001b[0m\n\u001b[1;32m    572\u001b[0m _validate_names(kwds\u001b[39m.\u001b[39mget(\u001b[39m\"\u001b[39m\u001b[39mnames\u001b[39m\u001b[39m\"\u001b[39m, \u001b[39mNone\u001b[39;00m))\n\u001b[1;32m    574\u001b[0m \u001b[39m# Create the parser.\u001b[39;00m\n\u001b[0;32m--> 575\u001b[0m parser \u001b[39m=\u001b[39m TextFileReader(filepath_or_buffer, \u001b[39m*\u001b[39;49m\u001b[39m*\u001b[39;49mkwds)\n\u001b[1;32m    577\u001b[0m \u001b[39mif\u001b[39;00m chunksize \u001b[39mor\u001b[39;00m iterator:\n\u001b[1;32m    578\u001b[0m     \u001b[39mreturn\u001b[39;00m parser\n",
      "File \u001b[0;32m~/miniconda3/envs/miRNA/lib/python3.10/site-packages/pandas/io/parsers/readers.py:934\u001b[0m, in \u001b[0;36mTextFileReader.__init__\u001b[0;34m(self, f, engine, **kwds)\u001b[0m\n\u001b[1;32m    931\u001b[0m     \u001b[39mself\u001b[39m\u001b[39m.\u001b[39moptions[\u001b[39m\"\u001b[39m\u001b[39mhas_index_names\u001b[39m\u001b[39m\"\u001b[39m] \u001b[39m=\u001b[39m kwds[\u001b[39m\"\u001b[39m\u001b[39mhas_index_names\u001b[39m\u001b[39m\"\u001b[39m]\n\u001b[1;32m    933\u001b[0m \u001b[39mself\u001b[39m\u001b[39m.\u001b[39mhandles: IOHandles \u001b[39m|\u001b[39m \u001b[39mNone\u001b[39;00m \u001b[39m=\u001b[39m \u001b[39mNone\u001b[39;00m\n\u001b[0;32m--> 934\u001b[0m \u001b[39mself\u001b[39m\u001b[39m.\u001b[39m_engine \u001b[39m=\u001b[39m \u001b[39mself\u001b[39;49m\u001b[39m.\u001b[39;49m_make_engine(f, \u001b[39mself\u001b[39;49m\u001b[39m.\u001b[39;49mengine)\n",
      "File \u001b[0;32m~/miniconda3/envs/miRNA/lib/python3.10/site-packages/pandas/io/parsers/readers.py:1236\u001b[0m, in \u001b[0;36mTextFileReader._make_engine\u001b[0;34m(self, f, engine)\u001b[0m\n\u001b[1;32m   1233\u001b[0m     \u001b[39mraise\u001b[39;00m \u001b[39mValueError\u001b[39;00m(msg)\n\u001b[1;32m   1235\u001b[0m \u001b[39mtry\u001b[39;00m:\n\u001b[0;32m-> 1236\u001b[0m     \u001b[39mreturn\u001b[39;00m mapping[engine](f, \u001b[39m*\u001b[39;49m\u001b[39m*\u001b[39;49m\u001b[39mself\u001b[39;49m\u001b[39m.\u001b[39;49moptions)\n\u001b[1;32m   1237\u001b[0m \u001b[39mexcept\u001b[39;00m \u001b[39mException\u001b[39;00m:\n\u001b[1;32m   1238\u001b[0m     \u001b[39mif\u001b[39;00m \u001b[39mself\u001b[39m\u001b[39m.\u001b[39mhandles \u001b[39mis\u001b[39;00m \u001b[39mnot\u001b[39;00m \u001b[39mNone\u001b[39;00m:\n",
      "File \u001b[0;32m~/miniconda3/envs/miRNA/lib/python3.10/site-packages/pandas/io/parsers/c_parser_wrapper.py:75\u001b[0m, in \u001b[0;36mCParserWrapper.__init__\u001b[0;34m(self, src, **kwds)\u001b[0m\n\u001b[1;32m     72\u001b[0m     kwds\u001b[39m.\u001b[39mpop(key, \u001b[39mNone\u001b[39;00m)\n\u001b[1;32m     74\u001b[0m kwds[\u001b[39m\"\u001b[39m\u001b[39mdtype\u001b[39m\u001b[39m\"\u001b[39m] \u001b[39m=\u001b[39m ensure_dtype_objs(kwds\u001b[39m.\u001b[39mget(\u001b[39m\"\u001b[39m\u001b[39mdtype\u001b[39m\u001b[39m\"\u001b[39m, \u001b[39mNone\u001b[39;00m))\n\u001b[0;32m---> 75\u001b[0m \u001b[39mself\u001b[39m\u001b[39m.\u001b[39m_reader \u001b[39m=\u001b[39m parsers\u001b[39m.\u001b[39;49mTextReader(src, \u001b[39m*\u001b[39;49m\u001b[39m*\u001b[39;49mkwds)\n\u001b[1;32m     77\u001b[0m \u001b[39mself\u001b[39m\u001b[39m.\u001b[39munnamed_cols \u001b[39m=\u001b[39m \u001b[39mself\u001b[39m\u001b[39m.\u001b[39m_reader\u001b[39m.\u001b[39munnamed_cols\n\u001b[1;32m     79\u001b[0m \u001b[39m# error: Cannot determine type of 'names'\u001b[39;00m\n",
      "File \u001b[0;32m~/miniconda3/envs/miRNA/lib/python3.10/site-packages/pandas/_libs/parsers.pyx:551\u001b[0m, in \u001b[0;36mpandas._libs.parsers.TextReader.__cinit__\u001b[0;34m()\u001b[0m\n",
      "\u001b[0;31mEmptyDataError\u001b[0m: No columns to parse from file"
     ]
    }
   ],
   "source": [
    "flipons_to_histones = pd.DataFrame()\n",
    "\n",
    "for entry in os.scandir(d_flipons_and_histones):\n",
    "    flipon_name = entry.name.split(\"_\")[0]\n",
    "    histone_name = entry.name.split(\"_\")[2].split(\".\")[0]\n",
    "\n",
    "    df = (\n",
    "        pd.read_table(entry.path, header=None)[[3]]\n",
    "        .rename(columns={3: \"coordinates\"})\n",
    "        .assign(group=flipon_name, histone=histone_name)\n",
    "    )\n",
    "    flipons_to_histones = pd.concat([flipons_to_histones, df], ignore_index=True)\n",
    "\n",
    "flipons_to_histones = flipons_to_data.merge(\n",
    "    (\n",
    "        flipons_to_histones.assign(\n",
    "            histones_join=lambda x: x.groupby([\"group\", \"coordinates\"])[\n",
    "                \"histone\"\n",
    "            ].transform(lambda x: \", \".join(set(x)))\n",
    "        )\n",
    "        .drop_duplicates(subset=[\"coordinates\"])\n",
    "        .loc[:, [\"group\", \"coordinates\", \"histones_join\"]]\n",
    "        .reset_index(drop=True)\n",
    "    ),\n",
    "    on=[\"group\", \"coordinates\"],\n",
    "    how=\"left\",\n",
    ").assign(\n",
    "    category=lambda x: x[\n",
    "        [\"cCRE (+-200bp slop)\", \"LINE/LTR repeats (+-200bp slop)\"]\n",
    "    ].apply(get_repeat_category, axis=1)\n",
    ")\n",
    "\n",
    "with pd.option_context(\"display.max_columns\", None):\n",
    "    display(\n",
    "        flipons_to_histones\n",
    "        .fillna('')\n",
    "        .groupby(['group', 'annotation', 'category'])['histones_join'].value_counts()\n",
    "        .to_frame()\n",
    "        .rename(columns={'histones_join':'total'})\n",
    "        .sort_index(ascending=[False, True, True, True])\n",
    "        .reset_index()\n",
    "        .pivot(index=['annotation', 'group'],columns=['category', 'histones_join'],values=['total'])\n",
    "        .sort_index(ascending=[False, False])\n",
    "        .fillna(0)\n",
    "    )\n"
   ]
  },
  {
   "cell_type": "markdown",
   "id": "b59f06db",
   "metadata": {},
   "source": [
    "## Task 3\n",
    "\n",
    "Are the miRNAs that bind repeat promoters (no overlap with CCRE) the same or different from the CCRE promoters (no overlap with repeats)?\n",
    "\n",
    "1. Pick all **promoter regions** with **repeats** but **no cCREs** and make a subset of miRNAs\n",
    "2. Pick all **promoter regions** with **cCREs** but **no repeats** and make a subset of miRNAs\n",
    "3. Make a barplot"
   ]
  },
  {
   "cell_type": "code",
   "execution_count": 67,
   "id": "a16b0342",
   "metadata": {},
   "outputs": [
    {
     "data": {
      "text/html": [
       "<div>\n",
       "<style scoped>\n",
       "    .dataframe tbody tr th:only-of-type {\n",
       "        vertical-align: middle;\n",
       "    }\n",
       "\n",
       "    .dataframe tbody tr th {\n",
       "        vertical-align: top;\n",
       "    }\n",
       "\n",
       "    .dataframe thead th {\n",
       "        text-align: right;\n",
       "    }\n",
       "</style>\n",
       "<table border=\"1\" class=\"dataframe\">\n",
       "  <thead>\n",
       "    <tr style=\"text-align: right;\">\n",
       "      <th></th>\n",
       "      <th>mirna</th>\n",
       "      <th>type</th>\n",
       "      <th>group</th>\n",
       "      <th>strand</th>\n",
       "      <th>total_count</th>\n",
       "      <th>total_group_counts</th>\n",
       "      <th>total_count_rel</th>\n",
       "    </tr>\n",
       "  </thead>\n",
       "  <tbody>\n",
       "    <tr>\n",
       "      <th>1062</th>\n",
       "      <td>miR-99/100</td>\n",
       "      <td>cCREs without Repeats</td>\n",
       "      <td>z-dna</td>\n",
       "      <td>mirna_p</td>\n",
       "      <td>1</td>\n",
       "      <td>771</td>\n",
       "      <td>0.129702</td>\n",
       "    </tr>\n",
       "    <tr>\n",
       "      <th>1061</th>\n",
       "      <td>miR-99/100</td>\n",
       "      <td>cCREs without Repeats</td>\n",
       "      <td>sidd</td>\n",
       "      <td>mirna_m</td>\n",
       "      <td>-1</td>\n",
       "      <td>8859</td>\n",
       "      <td>-0.011288</td>\n",
       "    </tr>\n",
       "    <tr>\n",
       "      <th>1060</th>\n",
       "      <td>miR-99/100</td>\n",
       "      <td>cCREs without Repeats</td>\n",
       "      <td>g4</td>\n",
       "      <td>mirna_m</td>\n",
       "      <td>-1</td>\n",
       "      <td>2007</td>\n",
       "      <td>-0.049826</td>\n",
       "    </tr>\n",
       "    <tr>\n",
       "      <th>1059</th>\n",
       "      <td>miR-96/1271</td>\n",
       "      <td>cCREs without Repeats</td>\n",
       "      <td>z-dna</td>\n",
       "      <td>mirna_p</td>\n",
       "      <td>1</td>\n",
       "      <td>771</td>\n",
       "      <td>0.129702</td>\n",
       "    </tr>\n",
       "    <tr>\n",
       "      <th>1057</th>\n",
       "      <td>miR-96/1271</td>\n",
       "      <td>cCREs without Repeats</td>\n",
       "      <td>sidd</td>\n",
       "      <td>mirna_m</td>\n",
       "      <td>-5</td>\n",
       "      <td>8859</td>\n",
       "      <td>-0.056440</td>\n",
       "    </tr>\n",
       "    <tr>\n",
       "      <th>...</th>\n",
       "      <td>...</td>\n",
       "      <td>...</td>\n",
       "      <td>...</td>\n",
       "      <td>...</td>\n",
       "      <td>...</td>\n",
       "      <td>...</td>\n",
       "      <td>...</td>\n",
       "    </tr>\n",
       "    <tr>\n",
       "      <th>19</th>\n",
       "      <td>let-7/miR-98</td>\n",
       "      <td>cCREs without Repeats</td>\n",
       "      <td>h-dna</td>\n",
       "      <td>mirna_m</td>\n",
       "      <td>-1</td>\n",
       "      <td>252</td>\n",
       "      <td>-0.396825</td>\n",
       "    </tr>\n",
       "    <tr>\n",
       "      <th>20</th>\n",
       "      <td>let-7/miR-98</td>\n",
       "      <td>cCREs without Repeats</td>\n",
       "      <td>g4</td>\n",
       "      <td>mirna_p</td>\n",
       "      <td>1</td>\n",
       "      <td>2007</td>\n",
       "      <td>0.049826</td>\n",
       "    </tr>\n",
       "    <tr>\n",
       "      <th>17</th>\n",
       "      <td>let-7/miR-98</td>\n",
       "      <td>Repeats without cCREs</td>\n",
       "      <td>sidd</td>\n",
       "      <td>mirna_p</td>\n",
       "      <td>5</td>\n",
       "      <td>8859</td>\n",
       "      <td>0.056440</td>\n",
       "    </tr>\n",
       "    <tr>\n",
       "      <th>18</th>\n",
       "      <td>let-7/miR-98</td>\n",
       "      <td>Repeats without cCREs</td>\n",
       "      <td>sidd</td>\n",
       "      <td>mirna_m</td>\n",
       "      <td>-2</td>\n",
       "      <td>8859</td>\n",
       "      <td>-0.022576</td>\n",
       "    </tr>\n",
       "    <tr>\n",
       "      <th>16</th>\n",
       "      <td>let-7/miR-98</td>\n",
       "      <td>Repeats without cCREs</td>\n",
       "      <td>h-dna</td>\n",
       "      <td>mirna_p</td>\n",
       "      <td>1</td>\n",
       "      <td>252</td>\n",
       "      <td>0.396825</td>\n",
       "    </tr>\n",
       "  </tbody>\n",
       "</table>\n",
       "<p>1047 rows × 7 columns</p>\n",
       "</div>"
      ],
      "text/plain": [
       "             mirna                   type  group   strand  total_count  \\\n",
       "1062    miR-99/100  cCREs without Repeats  z-dna  mirna_p            1   \n",
       "1061    miR-99/100  cCREs without Repeats   sidd  mirna_m           -1   \n",
       "1060    miR-99/100  cCREs without Repeats     g4  mirna_m           -1   \n",
       "1059   miR-96/1271  cCREs without Repeats  z-dna  mirna_p            1   \n",
       "1057   miR-96/1271  cCREs without Repeats   sidd  mirna_m           -5   \n",
       "...            ...                    ...    ...      ...          ...   \n",
       "19    let-7/miR-98  cCREs without Repeats  h-dna  mirna_m           -1   \n",
       "20    let-7/miR-98  cCREs without Repeats     g4  mirna_p            1   \n",
       "17    let-7/miR-98  Repeats without cCREs   sidd  mirna_p            5   \n",
       "18    let-7/miR-98  Repeats without cCREs   sidd  mirna_m           -2   \n",
       "16    let-7/miR-98  Repeats without cCREs  h-dna  mirna_p            1   \n",
       "\n",
       "      total_group_counts  total_count_rel  \n",
       "1062                 771         0.129702  \n",
       "1061                8859        -0.011288  \n",
       "1060                2007        -0.049826  \n",
       "1059                 771         0.129702  \n",
       "1057                8859        -0.056440  \n",
       "...                  ...              ...  \n",
       "19                   252        -0.396825  \n",
       "20                  2007         0.049826  \n",
       "17                  8859         0.056440  \n",
       "18                  8859        -0.022576  \n",
       "16                   252         0.396825  \n",
       "\n",
       "[1047 rows x 7 columns]"
      ]
     },
     "execution_count": 67,
     "metadata": {},
     "output_type": "execute_result"
    }
   ],
   "source": [
    "form_df_1 = (\n",
    "    flipons_to_data.query(\n",
    "        'annotation.str.contains(\"Promoter\") and \\\n",
    "        `cCRE (+-200bp slop)` == \"\" and \\\n",
    "        `LINE/LTR repeats (+-200bp slop)` != \"\"'\n",
    "    )\n",
    "    .replace(regex=\" \\(\\d+\\)\", value=\"\")\n",
    "    .assign(type=\"Repeats without cCREs\")\n",
    ")\n",
    "\n",
    "form_df_2 = (\n",
    "    flipons_to_data.query(\n",
    "        'annotation.str.contains(\"Promoter\") and \\\n",
    "        `cCRE (+-200bp slop)` != \"\" and \\\n",
    "        `LINE/LTR repeats (+-200bp slop)` == \"\"'\n",
    "    )\n",
    "    .replace(regex=\" \\(\\d+\\)\", value=\"\")\n",
    "    .assign(type=\"cCREs without Repeats\")\n",
    ")\n",
    "\n",
    "form_df = (\n",
    "    pd.concat([form_df_1, form_df_2], ignore_index=True)\n",
    "    .assign(\n",
    "        mirna_p=lambda x: x[\"miRNA (+ strand)\"].apply(lambda x: x.split(\", \")),\n",
    "        mirna_m=lambda x: x[\"miRNA (- strand)\"].apply(lambda x: x.split(\", \")),\n",
    "    )\n",
    "    .explode(\"mirna_p\")\n",
    "    .explode(\"mirna_m\")\n",
    "    .loc[:, [\"type\", \"annotation\", \"group\", \"mirna_p\", \"mirna_m\"]]\n",
    "    # .assign(mirna_strand=lambda x: x['mirna_p']-x['mirna_m'])\n",
    "    .melt(\n",
    "        id_vars=[\"type\", \"annotation\", \"group\"],\n",
    "        value_vars=[\"mirna_p\", \"mirna_m\"],\n",
    "        var_name=\"strand\",\n",
    "        value_name=\"mirna\",\n",
    "    )\n",
    "    .groupby([\"mirna\", \"type\", \"group\"])[\"strand\"]\n",
    "    .value_counts()\n",
    "    .to_frame()\n",
    "    .rename(columns={\"strand\": \"total_count\"})\n",
    "    .reset_index()\n",
    "    .replace(\"\", np.nan)\n",
    "    .dropna()\n",
    "    # .pivot(index=['mirna', 'type', 'group'], columns=['strand'], values=['total_count'])\n",
    "    # .reset_index()\n",
    "    # .fillna(0)\n",
    "    # .assign(mirna_difference=lambda x: x[('total_count', 'mirna_p')] - x[('total_count', 'mirna_m')])\n",
    "    # .droplevel(1, axis=1)\n",
    "    .replace('quadruplex', 'g4')\n",
    "    .sort_values([\"mirna\", 'type', 'group'], ascending=[False, False, False])\n",
    ")\n",
    "\n",
    "form_df['total_count'] = form_df.apply(lambda x: -x['total_count'] if x['strand']=='mirna_m' else x['total_count'], axis=1)\n",
    "\n",
    "# form_df.columns = ['mirna', 'type', 'group', '- strand', '+ strand', 'strand difference']\n",
    "\n",
    "form_df['total_group_counts'] = form_df.assign(total_count=lambda x: x.total_count.apply(abs)).groupby('group')['total_count'].transform('sum')\n",
    "form_df['total_count_rel'] = form_df['total_count'] / form_df['total_group_counts'] * 100\n",
    "\n",
    "form_df\n"
   ]
  },
  {
   "cell_type": "code",
   "execution_count": 68,
   "id": "84d0e743",
   "metadata": {},
   "outputs": [
    {
     "data": {
      "application/vnd.plotly.v1+json": {
       "config": {
        "plotlyServerURL": "https://plot.ly"
       },
       "data": [
        {
         "alignmentgroup": "True",
         "customdata": [
          [
           1,
           771
          ],
          [
           1,
           771
          ],
          [
           1,
           771
          ],
          [
           1,
           771
          ],
          [
           59,
           771
          ],
          [
           1,
           771
          ],
          [
           7,
           771
          ],
          [
           2,
           771
          ],
          [
           2,
           771
          ],
          [
           1,
           771
          ],
          [
           2,
           771
          ],
          [
           3,
           771
          ],
          [
           5,
           771
          ],
          [
           11,
           771
          ],
          [
           15,
           771
          ],
          [
           1,
           771
          ],
          [
           3,
           771
          ],
          [
           43,
           771
          ],
          [
           4,
           771
          ],
          [
           1,
           771
          ],
          [
           4,
           771
          ],
          [
           11,
           771
          ],
          [
           2,
           771
          ],
          [
           2,
           771
          ],
          [
           3,
           771
          ],
          [
           51,
           771
          ],
          [
           4,
           771
          ],
          [
           7,
           771
          ],
          [
           2,
           771
          ],
          [
           2,
           771
          ],
          [
           1,
           771
          ],
          [
           1,
           771
          ],
          [
           2,
           771
          ],
          [
           2,
           771
          ],
          [
           21,
           771
          ],
          [
           1,
           771
          ],
          [
           1,
           771
          ],
          [
           2,
           771
          ],
          [
           1,
           771
          ],
          [
           3,
           771
          ],
          [
           1,
           771
          ],
          [
           1,
           771
          ],
          [
           1,
           771
          ],
          [
           1,
           771
          ]
         ],
         "hovertemplate": "strand=mirna_p<br>type=cCREs without Repeats<br>group=z-dna<br>total_count_rel=%{x}<br>mirna=%{y}<br>total_count=%{customdata[0]}<br>total_group_counts=%{customdata[1]}<extra></extra>",
         "legendgroup": "mirna_p",
         "marker": {
          "color": "tomato",
          "pattern": {
           "shape": ""
          }
         },
         "name": "mirna_p",
         "offsetgroup": "mirna_p",
         "orientation": "h",
         "showlegend": true,
         "textposition": "auto",
         "type": "bar",
         "x": [
          0.12970168612191957,
          0.12970168612191957,
          0.12970168612191957,
          0.12970168612191957,
          7.652399481193256,
          0.12970168612191957,
          0.9079118028534372,
          0.25940337224383914,
          0.25940337224383914,
          0.12970168612191957,
          0.25940337224383914,
          0.38910505836575876,
          0.648508430609598,
          1.4267185473411155,
          1.9455252918287937,
          0.12970168612191957,
          0.38910505836575876,
          5.577172503242543,
          0.5188067444876783,
          0.12970168612191957,
          0.5188067444876783,
          1.4267185473411155,
          0.25940337224383914,
          0.25940337224383914,
          0.38910505836575876,
          6.614785992217899,
          0.5188067444876783,
          0.9079118028534372,
          0.25940337224383914,
          0.25940337224383914,
          0.12970168612191957,
          0.12970168612191957,
          0.25940337224383914,
          0.25940337224383914,
          2.7237354085603114,
          0.12970168612191957,
          0.12970168612191957,
          0.25940337224383914,
          0.12970168612191957,
          0.38910505836575876,
          0.12970168612191957,
          0.12970168612191957,
          0.12970168612191957,
          0.12970168612191957
         ],
         "xaxis": "x5",
         "y": [
          "miR-99/100",
          "miR-96/1271",
          "miR-874",
          "miR-873",
          "miR-744",
          "miR-615",
          "miR-532",
          "miR-501/502",
          "miR-493",
          "miR-486",
          "miR-483",
          "miR-455",
          "miR-423",
          "miR-377",
          "miR-342",
          "miR-335",
          "miR-331",
          "miR-329/362",
          "miR-324",
          "miR-30",
          "miR-299",
          "miR-296",
          "miR-25/32/92/363/367",
          "miR-218",
          "miR-214",
          "miR-210",
          "miR-19",
          "miR-187",
          "miR-184",
          "miR-183",
          "miR-18",
          "miR-153",
          "miR-151a",
          "miR-148/152",
          "miR-147",
          "miR-140",
          "miR-138",
          "miR-1306",
          "miR-128",
          "miR-1249",
          "miR-122",
          "miR-1197",
          "miR-103/107",
          "miR-10"
         ],
         "yaxis": "y5"
        },
        {
         "alignmentgroup": "True",
         "customdata": [
          [
           4,
           8859
          ],
          [
           4,
           8859
          ],
          [
           4,
           8859
          ],
          [
           9,
           8859
          ],
          [
           7,
           8859
          ],
          [
           2,
           8859
          ],
          [
           8,
           8859
          ],
          [
           6,
           8859
          ],
          [
           1,
           8859
          ],
          [
           4,
           8859
          ],
          [
           6,
           8859
          ],
          [
           1,
           8859
          ],
          [
           14,
           8859
          ],
          [
           4,
           8859
          ],
          [
           2,
           8859
          ],
          [
           9,
           8859
          ],
          [
           10,
           8859
          ],
          [
           11,
           8859
          ],
          [
           2,
           8859
          ],
          [
           3,
           8859
          ],
          [
           12,
           8859
          ],
          [
           8,
           8859
          ],
          [
           1,
           8859
          ],
          [
           2,
           8859
          ],
          [
           5,
           8859
          ],
          [
           7,
           8859
          ],
          [
           5,
           8859
          ],
          [
           17,
           8859
          ],
          [
           5,
           8859
          ],
          [
           8,
           8859
          ],
          [
           6,
           8859
          ],
          [
           2,
           8859
          ],
          [
           14,
           8859
          ],
          [
           2,
           8859
          ],
          [
           12,
           8859
          ],
          [
           4,
           8859
          ],
          [
           8,
           8859
          ],
          [
           15,
           8859
          ],
          [
           3,
           8859
          ],
          [
           10,
           8859
          ],
          [
           2,
           8859
          ],
          [
           6,
           8859
          ],
          [
           6,
           8859
          ],
          [
           1,
           8859
          ],
          [
           1,
           8859
          ],
          [
           8,
           8859
          ],
          [
           8,
           8859
          ],
          [
           5,
           8859
          ],
          [
           1,
           8859
          ],
          [
           10,
           8859
          ],
          [
           11,
           8859
          ],
          [
           9,
           8859
          ],
          [
           3,
           8859
          ],
          [
           3,
           8859
          ],
          [
           12,
           8859
          ],
          [
           7,
           8859
          ],
          [
           8,
           8859
          ],
          [
           3,
           8859
          ],
          [
           4,
           8859
          ],
          [
           6,
           8859
          ],
          [
           13,
           8859
          ],
          [
           1,
           8859
          ],
          [
           1,
           8859
          ],
          [
           4,
           8859
          ],
          [
           1,
           8859
          ],
          [
           26,
           8859
          ],
          [
           7,
           8859
          ],
          [
           19,
           8859
          ],
          [
           9,
           8859
          ],
          [
           11,
           8859
          ],
          [
           3,
           8859
          ],
          [
           1,
           8859
          ],
          [
           6,
           8859
          ],
          [
           6,
           8859
          ],
          [
           16,
           8859
          ],
          [
           7,
           8859
          ],
          [
           11,
           8859
          ],
          [
           1,
           8859
          ],
          [
           2,
           8859
          ],
          [
           4,
           8859
          ],
          [
           3,
           8859
          ],
          [
           2,
           8859
          ],
          [
           7,
           8859
          ],
          [
           8,
           8859
          ],
          [
           4,
           8859
          ],
          [
           5,
           8859
          ],
          [
           1,
           8859
          ],
          [
           4,
           8859
          ],
          [
           12,
           8859
          ],
          [
           2,
           8859
          ],
          [
           11,
           8859
          ],
          [
           10,
           8859
          ],
          [
           6,
           8859
          ],
          [
           3,
           8859
          ],
          [
           6,
           8859
          ],
          [
           1,
           8859
          ],
          [
           12,
           8859
          ],
          [
           22,
           8859
          ],
          [
           15,
           8859
          ],
          [
           3,
           8859
          ],
          [
           8,
           8859
          ],
          [
           3,
           8859
          ],
          [
           4,
           8859
          ],
          [
           5,
           8859
          ],
          [
           3,
           8859
          ],
          [
           2,
           8859
          ],
          [
           1,
           8859
          ],
          [
           5,
           8859
          ],
          [
           12,
           8859
          ],
          [
           3,
           8859
          ],
          [
           15,
           8859
          ],
          [
           19,
           8859
          ],
          [
           3,
           8859
          ],
          [
           7,
           8859
          ],
          [
           6,
           8859
          ],
          [
           6,
           8859
          ],
          [
           2,
           8859
          ],
          [
           7,
           8859
          ],
          [
           3,
           8859
          ],
          [
           3,
           8859
          ],
          [
           4,
           8859
          ],
          [
           6,
           8859
          ],
          [
           6,
           8859
          ],
          [
           5,
           8859
          ],
          [
           8,
           8859
          ],
          [
           11,
           8859
          ],
          [
           1,
           8859
          ],
          [
           18,
           8859
          ],
          [
           5,
           8859
          ],
          [
           3,
           8859
          ],
          [
           4,
           8859
          ],
          [
           31,
           8859
          ],
          [
           24,
           8859
          ],
          [
           19,
           8859
          ],
          [
           8,
           8859
          ],
          [
           1,
           8859
          ],
          [
           4,
           8859
          ],
          [
           3,
           8859
          ],
          [
           7,
           8859
          ],
          [
           15,
           8859
          ],
          [
           3,
           8859
          ],
          [
           6,
           8859
          ],
          [
           8,
           8859
          ],
          [
           1,
           8859
          ],
          [
           26,
           8859
          ],
          [
           8,
           8859
          ],
          [
           3,
           8859
          ],
          [
           5,
           8859
          ],
          [
           5,
           8859
          ],
          [
           2,
           8859
          ],
          [
           10,
           8859
          ],
          [
           6,
           8859
          ],
          [
           3,
           8859
          ],
          [
           6,
           8859
          ],
          [
           3,
           8859
          ],
          [
           6,
           8859
          ],
          [
           5,
           8859
          ],
          [
           4,
           8859
          ]
         ],
         "hovertemplate": "strand=mirna_p<br>type=cCREs without Repeats<br>group=sidd<br>total_count_rel=%{x}<br>mirna=%{y}<br>total_count=%{customdata[0]}<br>total_group_counts=%{customdata[1]}<extra></extra>",
         "legendgroup": "mirna_p",
         "marker": {
          "color": "tomato",
          "pattern": {
           "shape": ""
          }
         },
         "name": "mirna_p",
         "offsetgroup": "mirna_p",
         "orientation": "h",
         "showlegend": false,
         "textposition": "auto",
         "type": "bar",
         "x": [
          0.04515182300485382,
          0.04515182300485382,
          0.04515182300485382,
          0.1015916017609211,
          0.07901569025849418,
          0.02257591150242691,
          0.09030364600970764,
          0.06772773450728073,
          0.011287955751213455,
          0.04515182300485382,
          0.06772773450728073,
          0.011287955751213455,
          0.15803138051698837,
          0.04515182300485382,
          0.02257591150242691,
          0.1015916017609211,
          0.11287955751213455,
          0.12416751326334802,
          0.02257591150242691,
          0.033863867253640365,
          0.13545546901456146,
          0.09030364600970764,
          0.011287955751213455,
          0.02257591150242691,
          0.056439778756067274,
          0.07901569025849418,
          0.056439778756067274,
          0.19189524777062872,
          0.056439778756067274,
          0.09030364600970764,
          0.06772773450728073,
          0.02257591150242691,
          0.15803138051698837,
          0.02257591150242691,
          0.13545546901456146,
          0.04515182300485382,
          0.09030364600970764,
          0.16931933626820184,
          0.033863867253640365,
          0.11287955751213455,
          0.02257591150242691,
          0.06772773450728073,
          0.06772773450728073,
          0.011287955751213455,
          0.011287955751213455,
          0.09030364600970764,
          0.09030364600970764,
          0.056439778756067274,
          0.011287955751213455,
          0.11287955751213455,
          0.12416751326334802,
          0.1015916017609211,
          0.033863867253640365,
          0.033863867253640365,
          0.13545546901456146,
          0.07901569025849418,
          0.09030364600970764,
          0.033863867253640365,
          0.04515182300485382,
          0.06772773450728073,
          0.14674342476577493,
          0.011287955751213455,
          0.011287955751213455,
          0.04515182300485382,
          0.011287955751213455,
          0.29348684953154985,
          0.07901569025849418,
          0.21447115927305566,
          0.1015916017609211,
          0.12416751326334802,
          0.033863867253640365,
          0.011287955751213455,
          0.06772773450728073,
          0.06772773450728073,
          0.18060729201941528,
          0.07901569025849418,
          0.12416751326334802,
          0.011287955751213455,
          0.02257591150242691,
          0.04515182300485382,
          0.033863867253640365,
          0.02257591150242691,
          0.07901569025849418,
          0.09030364600970764,
          0.04515182300485382,
          0.056439778756067274,
          0.011287955751213455,
          0.04515182300485382,
          0.13545546901456146,
          0.02257591150242691,
          0.12416751326334802,
          0.11287955751213455,
          0.06772773450728073,
          0.033863867253640365,
          0.06772773450728073,
          0.011287955751213455,
          0.13545546901456146,
          0.24833502652669603,
          0.16931933626820184,
          0.033863867253640365,
          0.09030364600970764,
          0.033863867253640365,
          0.04515182300485382,
          0.056439778756067274,
          0.033863867253640365,
          0.02257591150242691,
          0.011287955751213455,
          0.056439778756067274,
          0.13545546901456146,
          0.033863867253640365,
          0.16931933626820184,
          0.21447115927305566,
          0.033863867253640365,
          0.07901569025849418,
          0.06772773450728073,
          0.06772773450728073,
          0.02257591150242691,
          0.07901569025849418,
          0.033863867253640365,
          0.033863867253640365,
          0.04515182300485382,
          0.06772773450728073,
          0.06772773450728073,
          0.056439778756067274,
          0.09030364600970764,
          0.12416751326334802,
          0.011287955751213455,
          0.2031832035218422,
          0.056439778756067274,
          0.033863867253640365,
          0.04515182300485382,
          0.3499266282876171,
          0.2709109380291229,
          0.21447115927305566,
          0.09030364600970764,
          0.011287955751213455,
          0.04515182300485382,
          0.033863867253640365,
          0.07901569025849418,
          0.16931933626820184,
          0.033863867253640365,
          0.06772773450728073,
          0.09030364600970764,
          0.011287955751213455,
          0.29348684953154985,
          0.09030364600970764,
          0.033863867253640365,
          0.056439778756067274,
          0.056439778756067274,
          0.02257591150242691,
          0.11287955751213455,
          0.06772773450728073,
          0.033863867253640365,
          0.06772773450728073,
          0.033863867253640365,
          0.06772773450728073,
          0.056439778756067274,
          0.04515182300485382
         ],
         "xaxis": "x6",
         "y": [
          "miR-96/1271",
          "miR-9",
          "miR-876",
          "miR-874",
          "miR-873",
          "miR-802",
          "miR-760",
          "miR-758",
          "miR-744",
          "miR-7",
          "miR-670",
          "miR-668",
          "miR-655",
          "miR-653",
          "miR-615",
          "miR-582",
          "miR-544a",
          "miR-543",
          "miR-542",
          "miR-539",
          "miR-532",
          "miR-505",
          "miR-504",
          "miR-503",
          "miR-501/502",
          "miR-499",
          "miR-496",
          "miR-495",
          "miR-494",
          "miR-493",
          "miR-491",
          "miR-490",
          "miR-488",
          "miR-486",
          "miR-485",
          "miR-483",
          "miR-455",
          "miR-452",
          "miR-450a",
          "miR-448",
          "miR-425",
          "miR-423",
          "miR-421",
          "miR-411",
          "miR-410",
          "miR-409",
          "miR-383",
          "miR-382",
          "miR-381",
          "miR-379",
          "miR-378a",
          "miR-377",
          "miR-376c",
          "miR-376ab",
          "miR-374",
          "miR-371",
          "miR-369",
          "miR-365",
          "miR-361",
          "miR-342",
          "miR-340",
          "miR-34/449",
          "miR-338",
          "miR-335",
          "miR-331",
          "miR-330",
          "miR-33",
          "miR-329/362",
          "miR-328",
          "miR-325",
          "miR-323a",
          "miR-31",
          "miR-302c",
          "miR-302abd",
          "miR-30",
          "miR-299",
          "miR-296",
          "miR-29",
          "miR-28/708",
          "miR-27",
          "miR-26",
          "miR-25/32/92/363/367",
          "miR-24",
          "miR-23",
          "miR-224",
          "miR-223",
          "miR-221/222",
          "miR-22",
          "miR-218",
          "miR-217",
          "miR-216b",
          "miR-216a",
          "miR-214",
          "miR-210",
          "miR-21/590",
          "miR-208",
          "miR-205",
          "miR-204/211",
          "miR-203a",
          "miR-202",
          "miR-200bc/429",
          "miR-199",
          "miR-194",
          "miR-193",
          "miR-192/215",
          "miR-191",
          "miR-190",
          "miR-19",
          "miR-188",
          "miR-187",
          "miR-186",
          "miR-185",
          "miR-184",
          "miR-183",
          "miR-182",
          "miR-181",
          "miR-18",
          "miR-17/20/93/106/519d",
          "miR-155",
          "miR-154",
          "miR-153",
          "miR-151a",
          "miR-150",
          "miR-15/16/195/424/497",
          "miR-149",
          "miR-148/152",
          "miR-147",
          "miR-146",
          "miR-145",
          "miR-144",
          "miR-143",
          "miR-142",
          "miR-141/200a",
          "miR-140",
          "miR-139",
          "miR-138",
          "miR-137",
          "miR-136",
          "miR-135",
          "miR-134",
          "miR-133",
          "miR-132/212",
          "miR-1306",
          "miR-130/301/454",
          "miR-129",
          "miR-128",
          "miR-1251",
          "miR-125",
          "miR-1249",
          "miR-124",
          "miR-122",
          "miR-1197",
          "miR-1193",
          "miR-103/107",
          "miR-101",
          "miR-10",
          "miR-1/206",
          "let-7/miR-98"
         ],
         "yaxis": "y6"
        },
        {
         "alignmentgroup": "True",
         "customdata": [
          [
           20,
           2007
          ],
          [
           3,
           2007
          ],
          [
           10,
           2007
          ],
          [
           1,
           2007
          ],
          [
           210,
           2007
          ],
          [
           3,
           2007
          ],
          [
           9,
           2007
          ],
          [
           10,
           2007
          ],
          [
           4,
           2007
          ],
          [
           3,
           2007
          ],
          [
           30,
           2007
          ],
          [
           11,
           2007
          ],
          [
           3,
           2007
          ],
          [
           2,
           2007
          ],
          [
           1,
           2007
          ],
          [
           81,
           2007
          ],
          [
           2,
           2007
          ],
          [
           1,
           2007
          ],
          [
           12,
           2007
          ],
          [
           2,
           2007
          ],
          [
           120,
           2007
          ],
          [
           1,
           2007
          ],
          [
           1,
           2007
          ],
          [
           2,
           2007
          ],
          [
           1,
           2007
          ],
          [
           2,
           2007
          ],
          [
           3,
           2007
          ],
          [
           2,
           2007
          ],
          [
           12,
           2007
          ],
          [
           31,
           2007
          ],
          [
           20,
           2007
          ],
          [
           18,
           2007
          ],
          [
           2,
           2007
          ],
          [
           4,
           2007
          ],
          [
           5,
           2007
          ],
          [
           4,
           2007
          ],
          [
           10,
           2007
          ],
          [
           79,
           2007
          ],
          [
           3,
           2007
          ],
          [
           11,
           2007
          ],
          [
           3,
           2007
          ],
          [
           2,
           2007
          ],
          [
           1,
           2007
          ],
          [
           1,
           2007
          ],
          [
           3,
           2007
          ],
          [
           2,
           2007
          ],
          [
           10,
           2007
          ],
          [
           1,
           2007
          ],
          [
           4,
           2007
          ],
          [
           13,
           2007
          ],
          [
           6,
           2007
          ],
          [
           1,
           2007
          ],
          [
           1,
           2007
          ],
          [
           1,
           2007
          ],
          [
           10,
           2007
          ],
          [
           1,
           2007
          ],
          [
           4,
           2007
          ],
          [
           3,
           2007
          ],
          [
           5,
           2007
          ],
          [
           1,
           2007
          ],
          [
           6,
           2007
          ],
          [
           2,
           2007
          ],
          [
           1,
           2007
          ],
          [
           7,
           2007
          ],
          [
           14,
           2007
          ],
          [
           4,
           2007
          ],
          [
           4,
           2007
          ],
          [
           4,
           2007
          ],
          [
           1,
           2007
          ],
          [
           13,
           2007
          ],
          [
           11,
           2007
          ],
          [
           1,
           2007
          ],
          [
           3,
           2007
          ],
          [
           1,
           2007
          ],
          [
           6,
           2007
          ],
          [
           1,
           2007
          ],
          [
           1,
           2007
          ]
         ],
         "hovertemplate": "strand=mirna_p<br>type=cCREs without Repeats<br>group=g4<br>total_count_rel=%{x}<br>mirna=%{y}<br>total_count=%{customdata[0]}<br>total_group_counts=%{customdata[1]}<extra></extra>",
         "legendgroup": "mirna_p",
         "marker": {
          "color": "tomato",
          "pattern": {
           "shape": ""
          }
         },
         "name": "mirna_p",
         "offsetgroup": "mirna_p",
         "orientation": "h",
         "showlegend": false,
         "textposition": "auto",
         "type": "bar",
         "x": [
          0.9965122072745392,
          0.14947683109118087,
          0.4982561036372696,
          0.04982561036372695,
          10.46337817638266,
          0.14947683109118087,
          0.4484304932735426,
          0.4982561036372696,
          0.1993024414549078,
          0.14947683109118087,
          1.4947683109118086,
          0.5480817140009965,
          0.14947683109118087,
          0.0996512207274539,
          0.04982561036372695,
          4.0358744394618835,
          0.0996512207274539,
          0.04982561036372695,
          0.5979073243647235,
          0.0996512207274539,
          5.9790732436472345,
          0.04982561036372695,
          0.04982561036372695,
          0.0996512207274539,
          0.04982561036372695,
          0.0996512207274539,
          0.14947683109118087,
          0.0996512207274539,
          0.5979073243647235,
          1.5445939212755355,
          0.9965122072745392,
          0.8968609865470852,
          0.0996512207274539,
          0.1993024414549078,
          0.2491280518186348,
          0.1993024414549078,
          0.4982561036372696,
          3.9362232187344297,
          0.14947683109118087,
          0.5480817140009965,
          0.14947683109118087,
          0.0996512207274539,
          0.04982561036372695,
          0.04982561036372695,
          0.14947683109118087,
          0.0996512207274539,
          0.4982561036372696,
          0.04982561036372695,
          0.1993024414549078,
          0.6477329347284505,
          0.29895366218236175,
          0.04982561036372695,
          0.04982561036372695,
          0.04982561036372695,
          0.4982561036372696,
          0.04982561036372695,
          0.1993024414549078,
          0.14947683109118087,
          0.2491280518186348,
          0.04982561036372695,
          0.29895366218236175,
          0.0996512207274539,
          0.04982561036372695,
          0.3487792725460887,
          0.6975585450921774,
          0.1993024414549078,
          0.1993024414549078,
          0.1993024414549078,
          0.04982561036372695,
          0.6477329347284505,
          0.5480817140009965,
          0.04982561036372695,
          0.14947683109118087,
          0.04982561036372695,
          0.29895366218236175,
          0.04982561036372695,
          0.04982561036372695
         ],
         "xaxis": "x7",
         "y": [
          "miR-874",
          "miR-873",
          "miR-760",
          "miR-758",
          "miR-744",
          "miR-7",
          "miR-665",
          "miR-615",
          "miR-551",
          "miR-542",
          "miR-532",
          "miR-504",
          "miR-503",
          "miR-501/502",
          "miR-493",
          "miR-491",
          "miR-490",
          "miR-488",
          "miR-485",
          "miR-455",
          "miR-423",
          "miR-412",
          "miR-409",
          "miR-379",
          "miR-371",
          "miR-365",
          "miR-346",
          "miR-342",
          "miR-34/449",
          "miR-339",
          "miR-331",
          "miR-330",
          "miR-329/362",
          "miR-328",
          "miR-324",
          "miR-31",
          "miR-299",
          "miR-296",
          "miR-28/708",
          "miR-24",
          "miR-22",
          "miR-214",
          "miR-210",
          "miR-205",
          "miR-204/211",
          "miR-199",
          "miR-193",
          "miR-19",
          "miR-188",
          "miR-185",
          "miR-184",
          "miR-182",
          "miR-18",
          "miR-151a",
          "miR-150",
          "miR-149",
          "miR-147",
          "miR-146",
          "miR-143",
          "miR-140",
          "miR-138",
          "miR-136",
          "miR-134",
          "miR-133",
          "miR-1306",
          "miR-129",
          "miR-128",
          "miR-127",
          "miR-1251",
          "miR-125",
          "miR-1249",
          "miR-124",
          "miR-122",
          "miR-103/107",
          "miR-10",
          "miR-1/206",
          "let-7/miR-98"
         ],
         "yaxis": "y7"
        },
        {
         "alignmentgroup": "True",
         "customdata": [
          [
           2,
           252
          ],
          [
           3,
           252
          ],
          [
           1,
           252
          ],
          [
           1,
           252
          ],
          [
           1,
           252
          ],
          [
           1,
           252
          ],
          [
           3,
           252
          ],
          [
           1,
           252
          ],
          [
           4,
           252
          ],
          [
           7,
           252
          ],
          [
           2,
           252
          ],
          [
           1,
           252
          ],
          [
           6,
           252
          ],
          [
           1,
           252
          ],
          [
           29,
           252
          ],
          [
           1,
           252
          ],
          [
           1,
           252
          ],
          [
           1,
           252
          ],
          [
           7,
           252
          ],
          [
           1,
           252
          ]
         ],
         "hovertemplate": "strand=mirna_p<br>type=cCREs without Repeats<br>group=h-dna<br>total_count_rel=%{x}<br>mirna=%{y}<br>total_count=%{customdata[0]}<br>total_group_counts=%{customdata[1]}<extra></extra>",
         "legendgroup": "mirna_p",
         "marker": {
          "color": "tomato",
          "pattern": {
           "shape": ""
          }
         },
         "name": "mirna_p",
         "offsetgroup": "mirna_p",
         "orientation": "h",
         "showlegend": false,
         "textposition": "auto",
         "type": "bar",
         "x": [
          0.7936507936507936,
          1.1904761904761905,
          0.3968253968253968,
          0.3968253968253968,
          0.3968253968253968,
          0.3968253968253968,
          1.1904761904761905,
          0.3968253968253968,
          1.5873015873015872,
          2.7777777777777777,
          0.7936507936507936,
          0.3968253968253968,
          2.380952380952381,
          0.3968253968253968,
          11.507936507936508,
          0.3968253968253968,
          0.3968253968253968,
          0.3968253968253968,
          2.7777777777777777,
          0.3968253968253968
         ],
         "xaxis": "x8",
         "y": [
          "miR-873",
          "miR-744",
          "miR-668",
          "miR-615",
          "miR-532",
          "miR-495",
          "miR-491",
          "miR-485",
          "miR-483",
          "miR-423",
          "miR-339",
          "miR-28/708",
          "miR-204/211",
          "miR-191",
          "miR-185",
          "miR-184",
          "miR-150",
          "miR-143",
          "miR-1306",
          "miR-129"
         ],
         "yaxis": "y8"
        },
        {
         "alignmentgroup": "True",
         "customdata": [
          [
           1,
           771
          ],
          [
           1,
           771
          ],
          [
           5,
           771
          ],
          [
           1,
           771
          ],
          [
           18,
           771
          ],
          [
           4,
           771
          ],
          [
           9,
           771
          ],
          [
           8,
           771
          ],
          [
           12,
           771
          ],
          [
           1,
           771
          ],
          [
           1,
           771
          ],
          [
           2,
           771
          ],
          [
           34,
           771
          ],
          [
           1,
           771
          ],
          [
           1,
           771
          ],
          [
           1,
           771
          ],
          [
           1,
           771
          ],
          [
           3,
           771
          ],
          [
           1,
           771
          ],
          [
           1,
           771
          ]
         ],
         "hovertemplate": "strand=mirna_p<br>type=Repeats without cCREs<br>group=z-dna<br>total_count_rel=%{x}<br>mirna=%{y}<br>total_count=%{customdata[0]}<br>total_group_counts=%{customdata[1]}<extra></extra>",
         "legendgroup": "mirna_p",
         "marker": {
          "color": "tomato",
          "pattern": {
           "shape": ""
          }
         },
         "name": "mirna_p",
         "offsetgroup": "mirna_p",
         "orientation": "h",
         "showlegend": false,
         "textposition": "auto",
         "type": "bar",
         "x": [
          0.12970168612191957,
          0.12970168612191957,
          0.648508430609598,
          0.12970168612191957,
          2.3346303501945527,
          0.5188067444876783,
          1.1673151750972763,
          1.0376134889753565,
          1.556420233463035,
          0.12970168612191957,
          0.12970168612191957,
          0.25940337224383914,
          4.409857328145266,
          0.12970168612191957,
          0.12970168612191957,
          0.12970168612191957,
          0.12970168612191957,
          0.38910505836575876,
          0.12970168612191957,
          0.12970168612191957
         ],
         "xaxis": "x",
         "y": [
          "miR-744",
          "miR-501/502",
          "miR-493",
          "miR-486",
          "miR-455",
          "miR-448",
          "miR-377",
          "miR-342",
          "miR-329/362",
          "miR-324",
          "miR-299",
          "miR-218",
          "miR-210",
          "miR-187",
          "miR-183",
          "miR-18",
          "miR-153",
          "miR-147",
          "miR-142",
          "miR-138"
         ],
         "yaxis": "y"
        },
        {
         "alignmentgroup": "True",
         "customdata": [
          [
           8,
           8859
          ],
          [
           21,
           8859
          ],
          [
           15,
           8859
          ],
          [
           17,
           8859
          ],
          [
           21,
           8859
          ],
          [
           23,
           8859
          ],
          [
           5,
           8859
          ],
          [
           5,
           8859
          ],
          [
           25,
           8859
          ],
          [
           75,
           8859
          ],
          [
           2,
           8859
          ],
          [
           7,
           8859
          ],
          [
           42,
           8859
          ],
          [
           43,
           8859
          ],
          [
           50,
           8859
          ],
          [
           15,
           8859
          ],
          [
           23,
           8859
          ],
          [
           10,
           8859
          ],
          [
           16,
           8859
          ],
          [
           27,
           8859
          ],
          [
           24,
           8859
          ],
          [
           4,
           8859
          ],
          [
           6,
           8859
          ],
          [
           33,
           8859
          ],
          [
           15,
           8859
          ],
          [
           33,
           8859
          ],
          [
           10,
           8859
          ],
          [
           30,
           8859
          ],
          [
           9,
           8859
          ],
          [
           21,
           8859
          ],
          [
           10,
           8859
          ],
          [
           17,
           8859
          ],
          [
           22,
           8859
          ],
          [
           4,
           8859
          ],
          [
           26,
           8859
          ],
          [
           31,
           8859
          ],
          [
           32,
           8859
          ],
          [
           7,
           8859
          ],
          [
           37,
           8859
          ],
          [
           19,
           8859
          ],
          [
           2,
           8859
          ],
          [
           5,
           8859
          ],
          [
           9,
           8859
          ],
          [
           12,
           8859
          ],
          [
           23,
           8859
          ],
          [
           31,
           8859
          ],
          [
           40,
           8859
          ],
          [
           14,
           8859
          ],
          [
           41,
           8859
          ],
          [
           22,
           8859
          ],
          [
           18,
           8859
          ],
          [
           20,
           8859
          ],
          [
           25,
           8859
          ],
          [
           42,
           8859
          ],
          [
           25,
           8859
          ],
          [
           4,
           8859
          ],
          [
           96,
           8859
          ],
          [
           2,
           8859
          ],
          [
           37,
           8859
          ],
          [
           15,
           8859
          ],
          [
           23,
           8859
          ],
          [
           14,
           8859
          ],
          [
           12,
           8859
          ],
          [
           51,
           8859
          ],
          [
           11,
           8859
          ],
          [
           5,
           8859
          ],
          [
           23,
           8859
          ],
          [
           7,
           8859
          ],
          [
           8,
           8859
          ],
          [
           50,
           8859
          ],
          [
           12,
           8859
          ],
          [
           14,
           8859
          ],
          [
           4,
           8859
          ],
          [
           54,
           8859
          ],
          [
           5,
           8859
          ],
          [
           17,
           8859
          ],
          [
           8,
           8859
          ],
          [
           18,
           8859
          ],
          [
           36,
           8859
          ],
          [
           20,
           8859
          ],
          [
           33,
           8859
          ],
          [
           10,
           8859
          ],
          [
           14,
           8859
          ],
          [
           7,
           8859
          ],
          [
           29,
           8859
          ],
          [
           8,
           8859
          ],
          [
           5,
           8859
          ],
          [
           13,
           8859
          ],
          [
           45,
           8859
          ],
          [
           2,
           8859
          ],
          [
           19,
           8859
          ],
          [
           16,
           8859
          ],
          [
           12,
           8859
          ],
          [
           3,
           8859
          ],
          [
           11,
           8859
          ],
          [
           12,
           8859
          ],
          [
           42,
           8859
          ],
          [
           32,
           8859
          ],
          [
           13,
           8859
          ],
          [
           16,
           8859
          ],
          [
           2,
           8859
          ],
          [
           55,
           8859
          ],
          [
           310,
           8859
          ],
          [
           16,
           8859
          ],
          [
           26,
           8859
          ],
          [
           21,
           8859
          ],
          [
           17,
           8859
          ],
          [
           8,
           8859
          ],
          [
           14,
           8859
          ],
          [
           7,
           8859
          ],
          [
           15,
           8859
          ],
          [
           13,
           8859
          ],
          [
           24,
           8859
          ],
          [
           1,
           8859
          ],
          [
           96,
           8859
          ],
          [
           25,
           8859
          ],
          [
           6,
           8859
          ],
          [
           14,
           8859
          ],
          [
           32,
           8859
          ],
          [
           1,
           8859
          ],
          [
           10,
           8859
          ],
          [
           27,
           8859
          ],
          [
           25,
           8859
          ],
          [
           7,
           8859
          ],
          [
           12,
           8859
          ],
          [
           12,
           8859
          ],
          [
           9,
           8859
          ],
          [
           6,
           8859
          ],
          [
           2,
           8859
          ],
          [
           1,
           8859
          ],
          [
           10,
           8859
          ],
          [
           10,
           8859
          ],
          [
           29,
           8859
          ],
          [
           16,
           8859
          ],
          [
           45,
           8859
          ],
          [
           19,
           8859
          ],
          [
           26,
           8859
          ],
          [
           16,
           8859
          ],
          [
           16,
           8859
          ],
          [
           39,
           8859
          ],
          [
           16,
           8859
          ],
          [
           8,
           8859
          ],
          [
           7,
           8859
          ],
          [
           17,
           8859
          ],
          [
           2,
           8859
          ],
          [
           4,
           8859
          ],
          [
           1,
           8859
          ],
          [
           53,
           8859
          ],
          [
           17,
           8859
          ],
          [
           4,
           8859
          ],
          [
           13,
           8859
          ],
          [
           1,
           8859
          ],
          [
           14,
           8859
          ],
          [
           19,
           8859
          ],
          [
           3,
           8859
          ],
          [
           8,
           8859
          ],
          [
           7,
           8859
          ],
          [
           40,
           8859
          ],
          [
           14,
           8859
          ],
          [
           27,
           8859
          ],
          [
           5,
           8859
          ]
         ],
         "hovertemplate": "strand=mirna_p<br>type=Repeats without cCREs<br>group=sidd<br>total_count_rel=%{x}<br>mirna=%{y}<br>total_count=%{customdata[0]}<br>total_group_counts=%{customdata[1]}<extra></extra>",
         "legendgroup": "mirna_p",
         "marker": {
          "color": "tomato",
          "pattern": {
           "shape": ""
          }
         },
         "name": "mirna_p",
         "offsetgroup": "mirna_p",
         "orientation": "h",
         "showlegend": false,
         "textposition": "auto",
         "type": "bar",
         "x": [
          0.09030364600970764,
          0.23704707077548257,
          0.16931933626820184,
          0.19189524777062872,
          0.23704707077548257,
          0.2596229822779095,
          0.056439778756067274,
          0.056439778756067274,
          0.28219889378033636,
          0.8465966813410091,
          0.02257591150242691,
          0.07901569025849418,
          0.47409414155096513,
          0.4853820973021786,
          0.5643977875606727,
          0.16931933626820184,
          0.2596229822779095,
          0.11287955751213455,
          0.18060729201941528,
          0.3047748052827633,
          0.2709109380291229,
          0.04515182300485382,
          0.06772773450728073,
          0.37250253979004405,
          0.16931933626820184,
          0.37250253979004405,
          0.11287955751213455,
          0.3386386725364037,
          0.1015916017609211,
          0.23704707077548257,
          0.11287955751213455,
          0.19189524777062872,
          0.24833502652669603,
          0.04515182300485382,
          0.29348684953154985,
          0.3499266282876171,
          0.36121458403883056,
          0.07901569025849418,
          0.41765436279489787,
          0.21447115927305566,
          0.02257591150242691,
          0.056439778756067274,
          0.1015916017609211,
          0.13545546901456146,
          0.2596229822779095,
          0.3499266282876171,
          0.4515182300485382,
          0.15803138051698837,
          0.4628061857997517,
          0.24833502652669603,
          0.2031832035218422,
          0.2257591150242691,
          0.28219889378033636,
          0.47409414155096513,
          0.28219889378033636,
          0.04515182300485382,
          1.0836437521164917,
          0.02257591150242691,
          0.41765436279489787,
          0.16931933626820184,
          0.2596229822779095,
          0.15803138051698837,
          0.13545546901456146,
          0.5756857433118863,
          0.12416751326334802,
          0.056439778756067274,
          0.2596229822779095,
          0.07901569025849418,
          0.09030364600970764,
          0.5643977875606727,
          0.13545546901456146,
          0.15803138051698837,
          0.04515182300485382,
          0.6095496105655266,
          0.056439778756067274,
          0.19189524777062872,
          0.09030364600970764,
          0.2031832035218422,
          0.4063664070436844,
          0.2257591150242691,
          0.37250253979004405,
          0.11287955751213455,
          0.15803138051698837,
          0.07901569025849418,
          0.32735071678519023,
          0.09030364600970764,
          0.056439778756067274,
          0.14674342476577493,
          0.5079580088046055,
          0.02257591150242691,
          0.21447115927305566,
          0.18060729201941528,
          0.13545546901456146,
          0.033863867253640365,
          0.12416751326334802,
          0.13545546901456146,
          0.47409414155096513,
          0.36121458403883056,
          0.14674342476577493,
          0.18060729201941528,
          0.02257591150242691,
          0.62083756631674,
          3.4992662828761714,
          0.18060729201941528,
          0.29348684953154985,
          0.23704707077548257,
          0.19189524777062872,
          0.09030364600970764,
          0.15803138051698837,
          0.07901569025849418,
          0.16931933626820184,
          0.14674342476577493,
          0.2709109380291229,
          0.011287955751213455,
          1.0836437521164917,
          0.28219889378033636,
          0.06772773450728073,
          0.15803138051698837,
          0.36121458403883056,
          0.011287955751213455,
          0.11287955751213455,
          0.3047748052827633,
          0.28219889378033636,
          0.07901569025849418,
          0.13545546901456146,
          0.13545546901456146,
          0.1015916017609211,
          0.06772773450728073,
          0.02257591150242691,
          0.011287955751213455,
          0.11287955751213455,
          0.11287955751213455,
          0.32735071678519023,
          0.18060729201941528,
          0.5079580088046055,
          0.21447115927305566,
          0.29348684953154985,
          0.18060729201941528,
          0.18060729201941528,
          0.44023027429732475,
          0.18060729201941528,
          0.09030364600970764,
          0.07901569025849418,
          0.19189524777062872,
          0.02257591150242691,
          0.04515182300485382,
          0.011287955751213455,
          0.5982616548143131,
          0.19189524777062872,
          0.04515182300485382,
          0.14674342476577493,
          0.011287955751213455,
          0.15803138051698837,
          0.21447115927305566,
          0.033863867253640365,
          0.09030364600970764,
          0.07901569025849418,
          0.4515182300485382,
          0.15803138051698837,
          0.3047748052827633,
          0.056439778756067274
         ],
         "xaxis": "x2",
         "y": [
          "miR-96/1271",
          "miR-9",
          "miR-876",
          "miR-875",
          "miR-874",
          "miR-873",
          "miR-802",
          "miR-760",
          "miR-758",
          "miR-670",
          "miR-668",
          "miR-665",
          "miR-655",
          "miR-653",
          "miR-582",
          "miR-544a",
          "miR-543",
          "miR-542",
          "miR-539",
          "miR-532",
          "miR-505",
          "miR-504",
          "miR-501/502",
          "miR-499",
          "miR-496",
          "miR-495",
          "miR-494",
          "miR-493",
          "miR-491",
          "miR-490",
          "miR-489",
          "miR-488",
          "miR-486",
          "miR-485",
          "miR-483",
          "miR-455",
          "miR-452",
          "miR-450a",
          "miR-448",
          "miR-433",
          "miR-431",
          "miR-425",
          "miR-423",
          "miR-421",
          "miR-411",
          "miR-410",
          "miR-409",
          "miR-383",
          "miR-382",
          "miR-381",
          "miR-379",
          "miR-378a",
          "miR-377",
          "miR-376c",
          "miR-376ab",
          "miR-375",
          "miR-374",
          "miR-371",
          "miR-369",
          "miR-365",
          "miR-361",
          "miR-346",
          "miR-342",
          "miR-340",
          "miR-34/449",
          "miR-339",
          "miR-338",
          "miR-335",
          "miR-331",
          "miR-330",
          "miR-33",
          "miR-329/362",
          "miR-328",
          "miR-325",
          "miR-324",
          "miR-323a",
          "miR-31",
          "miR-302c",
          "miR-302abd",
          "miR-30",
          "miR-299",
          "miR-296",
          "miR-29",
          "miR-28/708",
          "miR-27",
          "miR-26",
          "miR-25/32/92/363/367",
          "miR-24",
          "miR-23",
          "miR-224",
          "miR-223",
          "miR-221/222",
          "miR-22",
          "miR-219",
          "miR-218",
          "miR-217",
          "miR-216b",
          "miR-216a",
          "miR-214",
          "miR-21/590",
          "miR-205",
          "miR-204/211",
          "miR-203a",
          "miR-202",
          "miR-200bc/429",
          "miR-199",
          "miR-196",
          "miR-194",
          "miR-193",
          "miR-192/215",
          "miR-190",
          "miR-19",
          "miR-188",
          "miR-187",
          "miR-186",
          "miR-185",
          "miR-183",
          "miR-182",
          "miR-181",
          "miR-18",
          "miR-17/20/93/106/519d",
          "miR-155",
          "miR-154",
          "miR-153",
          "miR-151a",
          "miR-150",
          "miR-15/16/195/424/497",
          "miR-149",
          "miR-148/152",
          "miR-147",
          "miR-146",
          "miR-145",
          "miR-144",
          "miR-143",
          "miR-142",
          "miR-141/200a",
          "miR-140",
          "miR-139",
          "miR-137",
          "miR-136",
          "miR-135",
          "miR-134",
          "miR-133",
          "miR-132/212",
          "miR-1306",
          "miR-130/301/454",
          "miR-1298",
          "miR-129",
          "miR-128",
          "miR-1251",
          "miR-125",
          "miR-1249",
          "miR-124",
          "miR-122",
          "miR-1197",
          "miR-1193",
          "miR-103/107",
          "miR-101",
          "miR-10",
          "miR-1/206",
          "let-7/miR-98"
         ],
         "yaxis": "y2"
        },
        {
         "alignmentgroup": "True",
         "customdata": [
          [
           1,
           2007
          ],
          [
           12,
           2007
          ],
          [
           1,
           2007
          ],
          [
           2,
           2007
          ],
          [
           1,
           2007
          ],
          [
           1,
           2007
          ],
          [
           1,
           2007
          ],
          [
           14,
           2007
          ],
          [
           2,
           2007
          ],
          [
           24,
           2007
          ],
          [
           1,
           2007
          ],
          [
           10,
           2007
          ],
          [
           1,
           2007
          ],
          [
           3,
           2007
          ],
          [
           2,
           2007
          ],
          [
           1,
           2007
          ],
          [
           1,
           2007
          ],
          [
           1,
           2007
          ],
          [
           7,
           2007
          ],
          [
           15,
           2007
          ],
          [
           2,
           2007
          ],
          [
           6,
           2007
          ],
          [
           7,
           2007
          ],
          [
           1,
           2007
          ],
          [
           2,
           2007
          ],
          [
           15,
           2007
          ],
          [
           1,
           2007
          ],
          [
           1,
           2007
          ],
          [
           1,
           2007
          ],
          [
           3,
           2007
          ],
          [
           2,
           2007
          ],
          [
           1,
           2007
          ],
          [
           1,
           2007
          ],
          [
           1,
           2007
          ],
          [
           6,
           2007
          ],
          [
           1,
           2007
          ],
          [
           1,
           2007
          ],
          [
           3,
           2007
          ],
          [
           1,
           2007
          ]
         ],
         "hovertemplate": "strand=mirna_p<br>type=Repeats without cCREs<br>group=g4<br>total_count_rel=%{x}<br>mirna=%{y}<br>total_count=%{customdata[0]}<br>total_group_counts=%{customdata[1]}<extra></extra>",
         "legendgroup": "mirna_p",
         "marker": {
          "color": "tomato",
          "pattern": {
           "shape": ""
          }
         },
         "name": "mirna_p",
         "offsetgroup": "mirna_p",
         "orientation": "h",
         "showlegend": false,
         "textposition": "auto",
         "type": "bar",
         "x": [
          0.04982561036372695,
          0.5979073243647235,
          0.04982561036372695,
          0.0996512207274539,
          0.04982561036372695,
          0.04982561036372695,
          0.04982561036372695,
          0.6975585450921774,
          0.0996512207274539,
          1.195814648729447,
          0.04982561036372695,
          0.4982561036372696,
          0.04982561036372695,
          0.14947683109118087,
          0.0996512207274539,
          0.04982561036372695,
          0.04982561036372695,
          0.04982561036372695,
          0.3487792725460887,
          0.7473841554559043,
          0.0996512207274539,
          0.29895366218236175,
          0.3487792725460887,
          0.04982561036372695,
          0.0996512207274539,
          0.7473841554559043,
          0.04982561036372695,
          0.04982561036372695,
          0.04982561036372695,
          0.14947683109118087,
          0.0996512207274539,
          0.04982561036372695,
          0.04982561036372695,
          0.04982561036372695,
          0.29895366218236175,
          0.04982561036372695,
          0.04982561036372695,
          0.14947683109118087,
          0.04982561036372695
         ],
         "xaxis": "x3",
         "y": [
          "miR-875",
          "miR-874",
          "miR-873",
          "miR-760",
          "miR-744",
          "miR-615",
          "miR-551",
          "miR-532",
          "miR-504",
          "miR-491",
          "miR-485",
          "miR-423",
          "miR-409",
          "miR-365",
          "miR-34/449",
          "miR-339",
          "miR-338",
          "miR-331",
          "miR-330",
          "miR-328",
          "miR-324",
          "miR-299",
          "miR-296",
          "miR-204/211",
          "miR-188",
          "miR-185",
          "miR-184",
          "miR-17/20/93/106/519d",
          "miR-154",
          "miR-150",
          "miR-140",
          "miR-138",
          "miR-134",
          "miR-133",
          "miR-1306",
          "miR-129",
          "miR-1249",
          "miR-122",
          "miR-1/206"
         ],
         "yaxis": "y3"
        },
        {
         "alignmentgroup": "True",
         "customdata": [
          [
           1,
           252
          ],
          [
           1,
           252
          ],
          [
           4,
           252
          ],
          [
           1,
           252
          ],
          [
           35,
           252
          ],
          [
           1,
           252
          ],
          [
           1,
           252
          ]
         ],
         "hovertemplate": "strand=mirna_p<br>type=Repeats without cCREs<br>group=h-dna<br>total_count_rel=%{x}<br>mirna=%{y}<br>total_count=%{customdata[0]}<br>total_group_counts=%{customdata[1]}<extra></extra>",
         "legendgroup": "mirna_p",
         "marker": {
          "color": "tomato",
          "pattern": {
           "shape": ""
          }
         },
         "name": "mirna_p",
         "offsetgroup": "mirna_p",
         "orientation": "h",
         "showlegend": false,
         "textposition": "auto",
         "type": "bar",
         "x": [
          0.3968253968253968,
          0.3968253968253968,
          1.5873015873015872,
          0.3968253968253968,
          13.88888888888889,
          0.3968253968253968,
          0.3968253968253968
         ],
         "xaxis": "x4",
         "y": [
          "miR-491",
          "miR-339",
          "miR-204/211",
          "miR-186",
          "miR-185",
          "miR-1306",
          "let-7/miR-98"
         ],
         "yaxis": "y4"
        },
        {
         "alignmentgroup": "True",
         "customdata": [
          [
           -3,
           771
          ],
          [
           -1,
           771
          ],
          [
           -2,
           771
          ],
          [
           -54,
           771
          ],
          [
           -1,
           771
          ],
          [
           -3,
           771
          ],
          [
           -3,
           771
          ],
          [
           -5,
           771
          ],
          [
           -3,
           771
          ],
          [
           -1,
           771
          ],
          [
           -4,
           771
          ],
          [
           -6,
           771
          ],
          [
           -1,
           771
          ],
          [
           -3,
           771
          ],
          [
           -3,
           771
          ],
          [
           -1,
           771
          ],
          [
           -9,
           771
          ],
          [
           -21,
           771
          ],
          [
           -13,
           771
          ],
          [
           -1,
           771
          ],
          [
           -1,
           771
          ],
          [
           -2,
           771
          ],
          [
           -2,
           771
          ],
          [
           -12,
           771
          ],
          [
           -1,
           771
          ],
          [
           -3,
           771
          ],
          [
           -1,
           771
          ],
          [
           -3,
           771
          ],
          [
           -2,
           771
          ],
          [
           -2,
           771
          ],
          [
           -54,
           771
          ],
          [
           -1,
           771
          ],
          [
           -5,
           771
          ],
          [
           -2,
           771
          ],
          [
           -23,
           771
          ],
          [
           -1,
           771
          ],
          [
           -3,
           771
          ],
          [
           -6,
           771
          ],
          [
           -3,
           771
          ],
          [
           -1,
           771
          ],
          [
           -1,
           771
          ],
          [
           -9,
           771
          ],
          [
           -1,
           771
          ],
          [
           -3,
           771
          ],
          [
           -2,
           771
          ]
         ],
         "hovertemplate": "strand=mirna_m<br>type=cCREs without Repeats<br>group=z-dna<br>total_count_rel=%{x}<br>mirna=%{y}<br>total_count=%{customdata[0]}<br>total_group_counts=%{customdata[1]}<extra></extra>",
         "legendgroup": "mirna_m",
         "marker": {
          "color": "royalblue",
          "pattern": {
           "shape": ""
          }
         },
         "name": "mirna_m",
         "offsetgroup": "mirna_m",
         "orientation": "h",
         "showlegend": true,
         "textposition": "auto",
         "type": "bar",
         "x": [
          -0.38910505836575876,
          -0.12970168612191957,
          -0.25940337224383914,
          -7.003891050583658,
          -0.12970168612191957,
          -0.38910505836575876,
          -0.38910505836575876,
          -0.648508430609598,
          -0.38910505836575876,
          -0.12970168612191957,
          -0.5188067444876783,
          -0.7782101167315175,
          -0.12970168612191957,
          -0.38910505836575876,
          -0.38910505836575876,
          -0.12970168612191957,
          -1.1673151750972763,
          -2.7237354085603114,
          -1.6861219195849546,
          -0.12970168612191957,
          -0.12970168612191957,
          -0.25940337224383914,
          -0.25940337224383914,
          -1.556420233463035,
          -0.12970168612191957,
          -0.38910505836575876,
          -0.12970168612191957,
          -0.38910505836575876,
          -0.25940337224383914,
          -0.25940337224383914,
          -7.003891050583658,
          -0.12970168612191957,
          -0.648508430609598,
          -0.25940337224383914,
          -2.9831387808041505,
          -0.12970168612191957,
          -0.38910505836575876,
          -0.7782101167315175,
          -0.38910505836575876,
          -0.12970168612191957,
          -0.12970168612191957,
          -1.1673151750972763,
          -0.12970168612191957,
          -0.38910505836575876,
          -0.25940337224383914
         ],
         "xaxis": "x5",
         "y": [
          "miR-874",
          "miR-873",
          "miR-760",
          "miR-744",
          "miR-7",
          "miR-652",
          "miR-532",
          "miR-503",
          "miR-501/502",
          "miR-496",
          "miR-493",
          "miR-491",
          "miR-486",
          "miR-485",
          "miR-455",
          "miR-431",
          "miR-423",
          "miR-377",
          "miR-342",
          "miR-339",
          "miR-335",
          "miR-331",
          "miR-330",
          "miR-329/362",
          "miR-324",
          "miR-296",
          "miR-29",
          "miR-22",
          "miR-218",
          "miR-214",
          "miR-210",
          "miR-199",
          "miR-187",
          "miR-18",
          "miR-147",
          "miR-142",
          "miR-140",
          "miR-138",
          "miR-1306",
          "miR-128",
          "miR-125",
          "miR-1249",
          "miR-124",
          "miR-122",
          "miR-1197"
         ],
         "yaxis": "y5"
        },
        {
         "alignmentgroup": "True",
         "customdata": [
          [
           -1,
           8859
          ],
          [
           -5,
           8859
          ],
          [
           -10,
           8859
          ],
          [
           -3,
           8859
          ],
          [
           -2,
           8859
          ],
          [
           -4,
           8859
          ],
          [
           -7,
           8859
          ],
          [
           -2,
           8859
          ],
          [
           -12,
           8859
          ],
          [
           -5,
           8859
          ],
          [
           -3,
           8859
          ],
          [
           -5,
           8859
          ],
          [
           -1,
           8859
          ],
          [
           -22,
           8859
          ],
          [
           -2,
           8859
          ],
          [
           -8,
           8859
          ],
          [
           -2,
           8859
          ],
          [
           -10,
           8859
          ],
          [
           -6,
           8859
          ],
          [
           -9,
           8859
          ],
          [
           -10,
           8859
          ],
          [
           -3,
           8859
          ],
          [
           -9,
           8859
          ],
          [
           -2,
           8859
          ],
          [
           -7,
           8859
          ],
          [
           -3,
           8859
          ],
          [
           -11,
           8859
          ],
          [
           -29,
           8859
          ],
          [
           -12,
           8859
          ],
          [
           -7,
           8859
          ],
          [
           -7,
           8859
          ],
          [
           -7,
           8859
          ],
          [
           -9,
           8859
          ],
          [
           -6,
           8859
          ],
          [
           -8,
           8859
          ],
          [
           -4,
           8859
          ],
          [
           -15,
           8859
          ],
          [
           -14,
           8859
          ],
          [
           -5,
           8859
          ],
          [
           -16,
           8859
          ],
          [
           -3,
           8859
          ],
          [
           -2,
           8859
          ],
          [
           -5,
           8859
          ],
          [
           -5,
           8859
          ],
          [
           -5,
           8859
          ],
          [
           -8,
           8859
          ],
          [
           -19,
           8859
          ],
          [
           -3,
           8859
          ],
          [
           -9,
           8859
          ],
          [
           -3,
           8859
          ],
          [
           -5,
           8859
          ],
          [
           -6,
           8859
          ],
          [
           -3,
           8859
          ],
          [
           -6,
           8859
          ],
          [
           -3,
           8859
          ],
          [
           -16,
           8859
          ],
          [
           -2,
           8859
          ],
          [
           -4,
           8859
          ],
          [
           -9,
           8859
          ],
          [
           -1,
           8859
          ],
          [
           -2,
           8859
          ],
          [
           -2,
           8859
          ],
          [
           -4,
           8859
          ],
          [
           -6,
           8859
          ],
          [
           -12,
           8859
          ],
          [
           -4,
           8859
          ],
          [
           -3,
           8859
          ],
          [
           -30,
           8859
          ],
          [
           -2,
           8859
          ],
          [
           -4,
           8859
          ],
          [
           -4,
           8859
          ],
          [
           -3,
           8859
          ],
          [
           -4,
           8859
          ],
          [
           -8,
           8859
          ],
          [
           -3,
           8859
          ],
          [
           -4,
           8859
          ],
          [
           -3,
           8859
          ],
          [
           -8,
           8859
          ],
          [
           -2,
           8859
          ],
          [
           -3,
           8859
          ],
          [
           -2,
           8859
          ],
          [
           -5,
           8859
          ],
          [
           -9,
           8859
          ],
          [
           -5,
           8859
          ],
          [
           -3,
           8859
          ],
          [
           -3,
           8859
          ],
          [
           -5,
           8859
          ],
          [
           -1,
           8859
          ],
          [
           -11,
           8859
          ],
          [
           -6,
           8859
          ],
          [
           -5,
           8859
          ],
          [
           -19,
           8859
          ],
          [
           -7,
           8859
          ],
          [
           -6,
           8859
          ],
          [
           -2,
           8859
          ],
          [
           -2,
           8859
          ],
          [
           -2,
           8859
          ],
          [
           -27,
           8859
          ],
          [
           -13,
           8859
          ],
          [
           -4,
           8859
          ],
          [
           -4,
           8859
          ],
          [
           -8,
           8859
          ],
          [
           -2,
           8859
          ],
          [
           -4,
           8859
          ],
          [
           -2,
           8859
          ],
          [
           -1,
           8859
          ],
          [
           -9,
           8859
          ],
          [
           -6,
           8859
          ],
          [
           -13,
           8859
          ],
          [
           -1,
           8859
          ],
          [
           -3,
           8859
          ],
          [
           -19,
           8859
          ],
          [
           -13,
           8859
          ],
          [
           -4,
           8859
          ],
          [
           -8,
           8859
          ],
          [
           -7,
           8859
          ],
          [
           -7,
           8859
          ],
          [
           -13,
           8859
          ],
          [
           -11,
           8859
          ],
          [
           -2,
           8859
          ],
          [
           -7,
           8859
          ],
          [
           -7,
           8859
          ],
          [
           -2,
           8859
          ],
          [
           -14,
           8859
          ],
          [
           -10,
           8859
          ],
          [
           -4,
           8859
          ],
          [
           -1,
           8859
          ],
          [
           -3,
           8859
          ],
          [
           -1,
           8859
          ],
          [
           -5,
           8859
          ],
          [
           -10,
           8859
          ],
          [
           -13,
           8859
          ],
          [
           -3,
           8859
          ],
          [
           -8,
           8859
          ],
          [
           -2,
           8859
          ],
          [
           -14,
           8859
          ],
          [
           -4,
           8859
          ],
          [
           -14,
           8859
          ],
          [
           -4,
           8859
          ],
          [
           -2,
           8859
          ],
          [
           -14,
           8859
          ],
          [
           -2,
           8859
          ],
          [
           -6,
           8859
          ],
          [
           -36,
           8859
          ],
          [
           -4,
           8859
          ],
          [
           -2,
           8859
          ],
          [
           -2,
           8859
          ],
          [
           -5,
           8859
          ],
          [
           -2,
           8859
          ],
          [
           -9,
           8859
          ],
          [
           -4,
           8859
          ],
          [
           -2,
           8859
          ],
          [
           -7,
           8859
          ],
          [
           -15,
           8859
          ],
          [
           -9,
           8859
          ],
          [
           -10,
           8859
          ],
          [
           -2,
           8859
          ]
         ],
         "hovertemplate": "strand=mirna_m<br>type=cCREs without Repeats<br>group=sidd<br>total_count_rel=%{x}<br>mirna=%{y}<br>total_count=%{customdata[0]}<br>total_group_counts=%{customdata[1]}<extra></extra>",
         "legendgroup": "mirna_m",
         "marker": {
          "color": "royalblue",
          "pattern": {
           "shape": ""
          }
         },
         "name": "mirna_m",
         "offsetgroup": "mirna_m",
         "orientation": "h",
         "showlegend": false,
         "textposition": "auto",
         "type": "bar",
         "x": [
          -0.011287955751213455,
          -0.056439778756067274,
          -0.11287955751213455,
          -0.033863867253640365,
          -0.02257591150242691,
          -0.04515182300485382,
          -0.07901569025849418,
          -0.02257591150242691,
          -0.13545546901456146,
          -0.056439778756067274,
          -0.033863867253640365,
          -0.056439778756067274,
          -0.011287955751213455,
          -0.24833502652669603,
          -0.02257591150242691,
          -0.09030364600970764,
          -0.02257591150242691,
          -0.11287955751213455,
          -0.06772773450728073,
          -0.1015916017609211,
          -0.11287955751213455,
          -0.033863867253640365,
          -0.1015916017609211,
          -0.02257591150242691,
          -0.07901569025849418,
          -0.033863867253640365,
          -0.12416751326334802,
          -0.32735071678519023,
          -0.13545546901456146,
          -0.07901569025849418,
          -0.07901569025849418,
          -0.07901569025849418,
          -0.1015916017609211,
          -0.06772773450728073,
          -0.09030364600970764,
          -0.04515182300485382,
          -0.16931933626820184,
          -0.15803138051698837,
          -0.056439778756067274,
          -0.18060729201941528,
          -0.033863867253640365,
          -0.02257591150242691,
          -0.056439778756067274,
          -0.056439778756067274,
          -0.056439778756067274,
          -0.09030364600970764,
          -0.21447115927305566,
          -0.033863867253640365,
          -0.1015916017609211,
          -0.033863867253640365,
          -0.056439778756067274,
          -0.06772773450728073,
          -0.033863867253640365,
          -0.06772773450728073,
          -0.033863867253640365,
          -0.18060729201941528,
          -0.02257591150242691,
          -0.04515182300485382,
          -0.1015916017609211,
          -0.011287955751213455,
          -0.02257591150242691,
          -0.02257591150242691,
          -0.04515182300485382,
          -0.06772773450728073,
          -0.13545546901456146,
          -0.04515182300485382,
          -0.033863867253640365,
          -0.3386386725364037,
          -0.02257591150242691,
          -0.04515182300485382,
          -0.04515182300485382,
          -0.033863867253640365,
          -0.04515182300485382,
          -0.09030364600970764,
          -0.033863867253640365,
          -0.04515182300485382,
          -0.033863867253640365,
          -0.09030364600970764,
          -0.02257591150242691,
          -0.033863867253640365,
          -0.02257591150242691,
          -0.056439778756067274,
          -0.1015916017609211,
          -0.056439778756067274,
          -0.033863867253640365,
          -0.033863867253640365,
          -0.056439778756067274,
          -0.011287955751213455,
          -0.12416751326334802,
          -0.06772773450728073,
          -0.056439778756067274,
          -0.21447115927305566,
          -0.07901569025849418,
          -0.06772773450728073,
          -0.02257591150242691,
          -0.02257591150242691,
          -0.02257591150242691,
          -0.3047748052827633,
          -0.14674342476577493,
          -0.04515182300485382,
          -0.04515182300485382,
          -0.09030364600970764,
          -0.02257591150242691,
          -0.04515182300485382,
          -0.02257591150242691,
          -0.011287955751213455,
          -0.1015916017609211,
          -0.06772773450728073,
          -0.14674342476577493,
          -0.011287955751213455,
          -0.033863867253640365,
          -0.21447115927305566,
          -0.14674342476577493,
          -0.04515182300485382,
          -0.09030364600970764,
          -0.07901569025849418,
          -0.07901569025849418,
          -0.14674342476577493,
          -0.12416751326334802,
          -0.02257591150242691,
          -0.07901569025849418,
          -0.07901569025849418,
          -0.02257591150242691,
          -0.15803138051698837,
          -0.11287955751213455,
          -0.04515182300485382,
          -0.011287955751213455,
          -0.033863867253640365,
          -0.011287955751213455,
          -0.056439778756067274,
          -0.11287955751213455,
          -0.14674342476577493,
          -0.033863867253640365,
          -0.09030364600970764,
          -0.02257591150242691,
          -0.15803138051698837,
          -0.04515182300485382,
          -0.15803138051698837,
          -0.04515182300485382,
          -0.02257591150242691,
          -0.15803138051698837,
          -0.02257591150242691,
          -0.06772773450728073,
          -0.4063664070436844,
          -0.04515182300485382,
          -0.02257591150242691,
          -0.02257591150242691,
          -0.056439778756067274,
          -0.02257591150242691,
          -0.1015916017609211,
          -0.04515182300485382,
          -0.02257591150242691,
          -0.07901569025849418,
          -0.16931933626820184,
          -0.1015916017609211,
          -0.11287955751213455,
          -0.02257591150242691
         ],
         "xaxis": "x6",
         "y": [
          "miR-99/100",
          "miR-96/1271",
          "miR-9",
          "miR-876",
          "miR-875",
          "miR-874",
          "miR-873",
          "miR-802",
          "miR-760",
          "miR-758",
          "miR-7",
          "miR-670",
          "miR-668",
          "miR-665",
          "miR-655",
          "miR-653",
          "miR-615",
          "miR-582",
          "miR-544a",
          "miR-543",
          "miR-542",
          "miR-539",
          "miR-532",
          "miR-505",
          "miR-504",
          "miR-503",
          "miR-496",
          "miR-495",
          "miR-494",
          "miR-493",
          "miR-491",
          "miR-490",
          "miR-489",
          "miR-488",
          "miR-485",
          "miR-483",
          "miR-455",
          "miR-452",
          "miR-450a",
          "miR-448",
          "miR-433",
          "miR-431",
          "miR-425",
          "miR-423",
          "miR-421",
          "miR-410",
          "miR-409",
          "miR-383",
          "miR-382",
          "miR-381",
          "miR-379",
          "miR-378a",
          "miR-377",
          "miR-376c",
          "miR-376ab",
          "miR-374",
          "miR-371",
          "miR-369",
          "miR-365",
          "miR-361",
          "miR-342",
          "miR-340",
          "miR-34/449",
          "miR-339",
          "miR-338",
          "miR-335",
          "miR-331",
          "miR-330",
          "miR-33",
          "miR-329/362",
          "miR-325",
          "miR-324",
          "miR-323a",
          "miR-31",
          "miR-302c",
          "miR-302abd",
          "miR-299",
          "miR-296",
          "miR-29",
          "miR-28/708",
          "miR-27",
          "miR-24",
          "miR-23",
          "miR-224",
          "miR-223",
          "miR-221/222",
          "miR-22",
          "miR-219",
          "miR-218",
          "miR-217",
          "miR-216b",
          "miR-216a",
          "miR-214",
          "miR-210",
          "miR-21/590",
          "miR-208",
          "miR-205",
          "miR-204/211",
          "miR-203a",
          "miR-202",
          "miR-200bc/429",
          "miR-199",
          "miR-196",
          "miR-194",
          "miR-193",
          "miR-192/215",
          "miR-191",
          "miR-190",
          "miR-19",
          "miR-188",
          "miR-187",
          "miR-186",
          "miR-185",
          "miR-184",
          "miR-183",
          "miR-182",
          "miR-181",
          "miR-18",
          "miR-17/20/93/106/519d",
          "miR-155",
          "miR-154",
          "miR-153",
          "miR-151a",
          "miR-150",
          "miR-15/16/195/424/497",
          "miR-149",
          "miR-148/152",
          "miR-146",
          "miR-145",
          "miR-144",
          "miR-143",
          "miR-142",
          "miR-141/200a",
          "miR-140",
          "miR-138",
          "miR-137",
          "miR-136",
          "miR-135",
          "miR-134",
          "miR-133",
          "miR-132/212",
          "miR-1306",
          "miR-130/301/454",
          "miR-129",
          "miR-128",
          "miR-127",
          "miR-126",
          "miR-125",
          "miR-1249",
          "miR-124",
          "miR-122",
          "miR-1197",
          "miR-103/107",
          "miR-101",
          "miR-10",
          "miR-1/206",
          "let-7/miR-98"
         ],
         "yaxis": "y6"
        },
        {
         "alignmentgroup": "True",
         "customdata": [
          [
           -1,
           2007
          ],
          [
           -1,
           2007
          ],
          [
           -1,
           2007
          ],
          [
           -18,
           2007
          ],
          [
           -2,
           2007
          ],
          [
           -5,
           2007
          ],
          [
           -2,
           2007
          ],
          [
           -105,
           2007
          ],
          [
           -1,
           2007
          ],
          [
           -8,
           2007
          ],
          [
           -39,
           2007
          ],
          [
           -9,
           2007
          ],
          [
           -2,
           2007
          ],
          [
           -68,
           2007
          ],
          [
           -17,
           2007
          ],
          [
           -22,
           2007
          ],
          [
           -3,
           2007
          ],
          [
           -1,
           2007
          ],
          [
           -4,
           2007
          ],
          [
           -4,
           2007
          ],
          [
           -1,
           2007
          ],
          [
           -37,
           2007
          ],
          [
           -1,
           2007
          ],
          [
           -1,
           2007
          ],
          [
           -1,
           2007
          ],
          [
           -2,
           2007
          ],
          [
           -1,
           2007
          ],
          [
           -1,
           2007
          ],
          [
           -2,
           2007
          ],
          [
           -5,
           2007
          ],
          [
           -4,
           2007
          ],
          [
           -4,
           2007
          ],
          [
           -42,
           2007
          ],
          [
           -8,
           2007
          ],
          [
           -2,
           2007
          ],
          [
           -44,
           2007
          ],
          [
           -8,
           2007
          ],
          [
           -6,
           2007
          ],
          [
           -9,
           2007
          ],
          [
           -26,
           2007
          ],
          [
           -6,
           2007
          ],
          [
           -69,
           2007
          ],
          [
           -10,
           2007
          ],
          [
           -5,
           2007
          ],
          [
           -5,
           2007
          ],
          [
           -1,
           2007
          ],
          [
           -4,
           2007
          ],
          [
           -13,
           2007
          ],
          [
           -1,
           2007
          ],
          [
           -2,
           2007
          ],
          [
           -8,
           2007
          ],
          [
           -11,
           2007
          ],
          [
           -2,
           2007
          ],
          [
           -8,
           2007
          ],
          [
           -1,
           2007
          ],
          [
           -1,
           2007
          ],
          [
           -2,
           2007
          ],
          [
           -10,
           2007
          ],
          [
           -5,
           2007
          ],
          [
           -2,
           2007
          ],
          [
           -8,
           2007
          ],
          [
           -2,
           2007
          ],
          [
           -13,
           2007
          ],
          [
           -40,
           2007
          ],
          [
           -8,
           2007
          ],
          [
           -1,
           2007
          ],
          [
           -8,
           2007
          ],
          [
           -13,
           2007
          ],
          [
           -19,
           2007
          ],
          [
           -1,
           2007
          ],
          [
           -5,
           2007
          ]
         ],
         "hovertemplate": "strand=mirna_m<br>type=cCREs without Repeats<br>group=g4<br>total_count_rel=%{x}<br>mirna=%{y}<br>total_count=%{customdata[0]}<br>total_group_counts=%{customdata[1]}<extra></extra>",
         "legendgroup": "mirna_m",
         "marker": {
          "color": "royalblue",
          "pattern": {
           "shape": ""
          }
         },
         "name": "mirna_m",
         "offsetgroup": "mirna_m",
         "orientation": "h",
         "showlegend": false,
         "textposition": "auto",
         "type": "bar",
         "x": [
          -0.04982561036372695,
          -0.04982561036372695,
          -0.04982561036372695,
          -0.8968609865470852,
          -0.0996512207274539,
          -0.2491280518186348,
          -0.0996512207274539,
          -5.23168908819133,
          -0.04982561036372695,
          -0.3986048829098156,
          -1.9431988041853512,
          -0.4484304932735426,
          -0.0996512207274539,
          -3.388141504733433,
          -0.8470353761833582,
          -1.096163428001993,
          -0.14947683109118087,
          -0.04982561036372695,
          -0.1993024414549078,
          -0.1993024414549078,
          -0.04982561036372695,
          -1.8435475834578976,
          -0.04982561036372695,
          -0.04982561036372695,
          -0.04982561036372695,
          -0.0996512207274539,
          -0.04982561036372695,
          -0.04982561036372695,
          -0.0996512207274539,
          -0.2491280518186348,
          -0.1993024414549078,
          -0.1993024414549078,
          -2.092675635276532,
          -0.3986048829098156,
          -0.0996512207274539,
          -2.192326856003986,
          -0.3986048829098156,
          -0.29895366218236175,
          -0.4484304932735426,
          -1.295465869456901,
          -0.29895366218236175,
          -3.43796711509716,
          -0.4982561036372696,
          -0.2491280518186348,
          -0.2491280518186348,
          -0.04982561036372695,
          -0.1993024414549078,
          -0.6477329347284505,
          -0.04982561036372695,
          -0.0996512207274539,
          -0.3986048829098156,
          -0.5480817140009965,
          -0.0996512207274539,
          -0.3986048829098156,
          -0.04982561036372695,
          -0.04982561036372695,
          -0.0996512207274539,
          -0.4982561036372696,
          -0.2491280518186348,
          -0.0996512207274539,
          -0.3986048829098156,
          -0.0996512207274539,
          -0.6477329347284505,
          -1.9930244145490783,
          -0.3986048829098156,
          -0.04982561036372695,
          -0.3986048829098156,
          -0.6477329347284505,
          -0.9466865969108121,
          -0.04982561036372695,
          -0.2491280518186348
         ],
         "xaxis": "x7",
         "y": [
          "miR-99/100",
          "miR-9",
          "miR-876",
          "miR-874",
          "miR-873",
          "miR-760",
          "miR-758",
          "miR-744",
          "miR-670",
          "miR-665",
          "miR-615",
          "miR-551",
          "miR-542",
          "miR-532",
          "miR-504",
          "miR-491",
          "miR-490",
          "miR-488",
          "miR-485",
          "miR-455",
          "miR-450a",
          "miR-423",
          "miR-412",
          "miR-409",
          "miR-381",
          "miR-378a",
          "miR-377",
          "miR-371",
          "miR-365",
          "miR-346",
          "miR-342",
          "miR-34/449",
          "miR-339",
          "miR-338",
          "miR-335",
          "miR-331",
          "miR-330",
          "miR-329/362",
          "miR-328",
          "miR-324",
          "miR-299",
          "miR-296",
          "miR-24",
          "miR-22",
          "miR-214",
          "miR-210",
          "miR-205",
          "miR-204/211",
          "miR-202",
          "miR-199",
          "miR-193",
          "miR-188",
          "miR-187",
          "miR-185",
          "miR-184",
          "miR-182",
          "miR-151a",
          "miR-150",
          "miR-149",
          "miR-143",
          "miR-140",
          "miR-138",
          "miR-133",
          "miR-1306",
          "miR-129",
          "miR-128",
          "miR-127",
          "miR-125",
          "miR-1249",
          "miR-103/107",
          "miR-10"
         ],
         "yaxis": "y7"
        },
        {
         "alignmentgroup": "True",
         "customdata": [
          [
           -2,
           252
          ],
          [
           -2,
           252
          ],
          [
           -1,
           252
          ],
          [
           -1,
           252
          ],
          [
           -3,
           252
          ],
          [
           -5,
           252
          ],
          [
           -2,
           252
          ],
          [
           -1,
           252
          ],
          [
           -1,
           252
          ],
          [
           -1,
           252
          ],
          [
           -1,
           252
          ],
          [
           -3,
           252
          ],
          [
           -1,
           252
          ],
          [
           -37,
           252
          ],
          [
           -7,
           252
          ],
          [
           -1,
           252
          ],
          [
           -1,
           252
          ],
          [
           -1,
           252
          ],
          [
           -1,
           252
          ],
          [
           -1,
           252
          ],
          [
           -5,
           252
          ],
          [
           -2,
           252
          ],
          [
           -1,
           252
          ]
         ],
         "hovertemplate": "strand=mirna_m<br>type=cCREs without Repeats<br>group=h-dna<br>total_count_rel=%{x}<br>mirna=%{y}<br>total_count=%{customdata[0]}<br>total_group_counts=%{customdata[1]}<extra></extra>",
         "legendgroup": "mirna_m",
         "marker": {
          "color": "royalblue",
          "pattern": {
           "shape": ""
          }
         },
         "name": "mirna_m",
         "offsetgroup": "mirna_m",
         "orientation": "h",
         "showlegend": false,
         "textposition": "auto",
         "type": "bar",
         "x": [
          -0.7936507936507936,
          -0.7936507936507936,
          -0.3968253968253968,
          -0.3968253968253968,
          -1.1904761904761905,
          -1.984126984126984,
          -0.7936507936507936,
          -0.3968253968253968,
          -0.3968253968253968,
          -0.3968253968253968,
          -0.3968253968253968,
          -1.1904761904761905,
          -0.3968253968253968,
          -14.682539682539684,
          -2.7777777777777777,
          -0.3968253968253968,
          -0.3968253968253968,
          -0.3968253968253968,
          -0.3968253968253968,
          -0.3968253968253968,
          -1.984126984126984,
          -0.7936507936507936,
          -0.3968253968253968
         ],
         "xaxis": "x8",
         "y": [
          "miR-532",
          "miR-495",
          "miR-493",
          "miR-491",
          "miR-483",
          "miR-423",
          "miR-339",
          "miR-331",
          "miR-330",
          "miR-31",
          "miR-205",
          "miR-204/211",
          "miR-186",
          "miR-185",
          "miR-151a",
          "miR-149",
          "miR-145",
          "miR-143",
          "miR-136",
          "miR-133",
          "miR-1306",
          "miR-129",
          "let-7/miR-98"
         ],
         "yaxis": "y8"
        },
        {
         "alignmentgroup": "True",
         "customdata": [
          [
           -2,
           771
          ],
          [
           -1,
           771
          ],
          [
           -2,
           771
          ],
          [
           -9,
           771
          ],
          [
           -1,
           771
          ],
          [
           -5,
           771
          ],
          [
           -1,
           771
          ],
          [
           -24,
           771
          ],
          [
           -8,
           771
          ],
          [
           -7,
           771
          ],
          [
           -2,
           771
          ],
          [
           -23,
           771
          ],
          [
           -1,
           771
          ],
          [
           -1,
           771
          ],
          [
           -2,
           771
          ],
          [
           -1,
           771
          ],
          [
           -1,
           771
          ],
          [
           -1,
           771
          ]
         ],
         "hovertemplate": "strand=mirna_m<br>type=Repeats without cCREs<br>group=z-dna<br>total_count_rel=%{x}<br>mirna=%{y}<br>total_count=%{customdata[0]}<br>total_group_counts=%{customdata[1]}<extra></extra>",
         "legendgroup": "mirna_m",
         "marker": {
          "color": "royalblue",
          "pattern": {
           "shape": ""
          }
         },
         "name": "mirna_m",
         "offsetgroup": "mirna_m",
         "orientation": "h",
         "showlegend": false,
         "textposition": "auto",
         "type": "bar",
         "x": [
          -0.25940337224383914,
          -0.12970168612191957,
          -0.25940337224383914,
          -1.1673151750972763,
          -0.12970168612191957,
          -0.648508430609598,
          -0.12970168612191957,
          -3.11284046692607,
          -1.0376134889753565,
          -0.9079118028534372,
          -0.25940337224383914,
          -2.9831387808041505,
          -0.12970168612191957,
          -0.12970168612191957,
          -0.25940337224383914,
          -0.12970168612191957,
          -0.12970168612191957,
          -0.12970168612191957
         ],
         "xaxis": "x",
         "y": [
          "miR-539",
          "miR-501/502",
          "miR-493",
          "miR-455",
          "miR-448",
          "miR-431",
          "miR-425",
          "miR-377",
          "miR-342",
          "miR-329/362",
          "miR-218",
          "miR-210",
          "miR-18",
          "miR-17/20/93/106/519d",
          "miR-148/152",
          "miR-147",
          "miR-129",
          "miR-1249"
         ],
         "yaxis": "y"
        },
        {
         "alignmentgroup": "True",
         "customdata": [
          [
           -7,
           8859
          ],
          [
           -17,
           8859
          ],
          [
           -14,
           8859
          ],
          [
           -5,
           8859
          ],
          [
           -4,
           8859
          ],
          [
           -13,
           8859
          ],
          [
           -9,
           8859
          ],
          [
           -7,
           8859
          ],
          [
           -16,
           8859
          ],
          [
           -13,
           8859
          ],
          [
           -83,
           8859
          ],
          [
           -21,
           8859
          ],
          [
           -37,
           8859
          ],
          [
           -33,
           8859
          ],
          [
           -27,
           8859
          ],
          [
           -1,
           8859
          ],
          [
           -6,
           8859
          ],
          [
           -23,
           8859
          ],
          [
           -15,
           8859
          ],
          [
           -36,
           8859
          ],
          [
           -35,
           8859
          ],
          [
           -11,
           8859
          ],
          [
           -9,
           8859
          ],
          [
           -1,
           8859
          ],
          [
           -16,
           8859
          ],
          [
           -6,
           8859
          ],
          [
           -39,
           8859
          ],
          [
           -53,
           8859
          ],
          [
           -22,
           8859
          ],
          [
           -49,
           8859
          ],
          [
           -11,
           8859
          ],
          [
           -12,
           8859
          ],
          [
           -1,
           8859
          ],
          [
           -13,
           8859
          ],
          [
           -1,
           8859
          ],
          [
           -7,
           8859
          ],
          [
           -5,
           8859
          ],
          [
           -25,
           8859
          ],
          [
           -33,
           8859
          ],
          [
           -30,
           8859
          ],
          [
           -1,
           8859
          ],
          [
           -34,
           8859
          ],
          [
           -20,
           8859
          ],
          [
           -23,
           8859
          ],
          [
           -1,
           8859
          ],
          [
           -7,
           8859
          ],
          [
           -35,
           8859
          ],
          [
           -37,
           8859
          ],
          [
           -32,
           8859
          ],
          [
           -5,
           8859
          ],
          [
           -44,
           8859
          ],
          [
           -23,
           8859
          ],
          [
           -25,
           8859
          ],
          [
           -12,
           8859
          ],
          [
           -9,
           8859
          ],
          [
           -13,
           8859
          ],
          [
           -27,
           8859
          ],
          [
           -103,
           8859
          ],
          [
           -11,
           8859
          ],
          [
           -31,
           8859
          ],
          [
           -12,
           8859
          ],
          [
           -17,
           8859
          ],
          [
           -13,
           8859
          ],
          [
           -3,
           8859
          ],
          [
           -53,
           8859
          ],
          [
           -14,
           8859
          ],
          [
           -10,
           8859
          ],
          [
           -8,
           8859
          ],
          [
           -1,
           8859
          ],
          [
           -6,
           8859
          ],
          [
           -46,
           8859
          ],
          [
           -22,
           8859
          ],
          [
           -34,
           8859
          ],
          [
           -5,
           8859
          ],
          [
           -53,
           8859
          ],
          [
           -3,
           8859
          ],
          [
           -18,
           8859
          ],
          [
           -16,
           8859
          ],
          [
           -31,
           8859
          ],
          [
           -17,
           8859
          ],
          [
           -28,
           8859
          ],
          [
           -24,
           8859
          ],
          [
           -21,
           8859
          ],
          [
           -8,
           8859
          ],
          [
           -5,
           8859
          ],
          [
           -17,
           8859
          ],
          [
           -15,
           8859
          ],
          [
           -1,
           8859
          ],
          [
           -3,
           8859
          ],
          [
           -27,
           8859
          ],
          [
           -19,
           8859
          ],
          [
           -5,
           8859
          ],
          [
           -7,
           8859
          ],
          [
           -4,
           8859
          ],
          [
           -10,
           8859
          ],
          [
           -13,
           8859
          ],
          [
           -6,
           8859
          ],
          [
           -29,
           8859
          ],
          [
           -34,
           8859
          ],
          [
           -11,
           8859
          ],
          [
           -15,
           8859
          ],
          [
           -15,
           8859
          ],
          [
           -42,
           8859
          ],
          [
           -327,
           8859
          ],
          [
           -5,
           8859
          ],
          [
           -21,
           8859
          ],
          [
           -14,
           8859
          ],
          [
           -7,
           8859
          ],
          [
           -18,
           8859
          ],
          [
           -10,
           8859
          ],
          [
           -8,
           8859
          ],
          [
           -2,
           8859
          ],
          [
           -6,
           8859
          ],
          [
           -10,
           8859
          ],
          [
           -19,
           8859
          ],
          [
           -3,
           8859
          ],
          [
           -130,
           8859
          ],
          [
           -14,
           8859
          ],
          [
           -15,
           8859
          ],
          [
           -8,
           8859
          ],
          [
           -24,
           8859
          ],
          [
           -8,
           8859
          ],
          [
           -15,
           8859
          ],
          [
           -16,
           8859
          ],
          [
           -26,
           8859
          ],
          [
           -7,
           8859
          ],
          [
           -14,
           8859
          ],
          [
           -7,
           8859
          ],
          [
           -12,
           8859
          ],
          [
           -7,
           8859
          ],
          [
           -1,
           8859
          ],
          [
           -16,
           8859
          ],
          [
           -7,
           8859
          ],
          [
           -34,
           8859
          ],
          [
           -13,
           8859
          ],
          [
           -79,
           8859
          ],
          [
           -15,
           8859
          ],
          [
           -31,
           8859
          ],
          [
           -10,
           8859
          ],
          [
           -9,
           8859
          ],
          [
           -48,
           8859
          ],
          [
           -34,
           8859
          ],
          [
           -14,
           8859
          ],
          [
           -17,
           8859
          ],
          [
           -11,
           8859
          ],
          [
           -20,
           8859
          ],
          [
           -2,
           8859
          ],
          [
           -16,
           8859
          ],
          [
           -2,
           8859
          ],
          [
           -46,
           8859
          ],
          [
           -10,
           8859
          ],
          [
           -1,
           8859
          ],
          [
           -8,
           8859
          ],
          [
           -13,
           8859
          ],
          [
           -4,
           8859
          ],
          [
           -27,
           8859
          ],
          [
           -16,
           8859
          ],
          [
           -14,
           8859
          ],
          [
           -8,
           8859
          ],
          [
           -12,
           8859
          ],
          [
           -12,
           8859
          ],
          [
           -22,
           8859
          ],
          [
           -24,
           8859
          ],
          [
           -2,
           8859
          ]
         ],
         "hovertemplate": "strand=mirna_m<br>type=Repeats without cCREs<br>group=sidd<br>total_count_rel=%{x}<br>mirna=%{y}<br>total_count=%{customdata[0]}<br>total_group_counts=%{customdata[1]}<extra></extra>",
         "legendgroup": "mirna_m",
         "marker": {
          "color": "royalblue",
          "pattern": {
           "shape": ""
          }
         },
         "name": "mirna_m",
         "offsetgroup": "mirna_m",
         "orientation": "h",
         "showlegend": false,
         "textposition": "auto",
         "type": "bar",
         "x": [
          -0.07901569025849418,
          -0.19189524777062872,
          -0.15803138051698837,
          -0.056439778756067274,
          -0.04515182300485382,
          -0.14674342476577493,
          -0.1015916017609211,
          -0.07901569025849418,
          -0.18060729201941528,
          -0.14674342476577493,
          -0.9369003273507167,
          -0.23704707077548257,
          -0.41765436279489787,
          -0.37250253979004405,
          -0.3047748052827633,
          -0.011287955751213455,
          -0.06772773450728073,
          -0.2596229822779095,
          -0.16931933626820184,
          -0.4063664070436844,
          -0.39507845129247093,
          -0.12416751326334802,
          -0.1015916017609211,
          -0.011287955751213455,
          -0.18060729201941528,
          -0.06772773450728073,
          -0.44023027429732475,
          -0.5982616548143131,
          -0.24833502652669603,
          -0.5531098318094593,
          -0.12416751326334802,
          -0.13545546901456146,
          -0.011287955751213455,
          -0.14674342476577493,
          -0.011287955751213455,
          -0.07901569025849418,
          -0.056439778756067274,
          -0.28219889378033636,
          -0.37250253979004405,
          -0.3386386725364037,
          -0.011287955751213455,
          -0.38379049554125744,
          -0.2257591150242691,
          -0.2596229822779095,
          -0.011287955751213455,
          -0.07901569025849418,
          -0.39507845129247093,
          -0.41765436279489787,
          -0.36121458403883056,
          -0.056439778756067274,
          -0.49667005305339207,
          -0.2596229822779095,
          -0.28219889378033636,
          -0.13545546901456146,
          -0.1015916017609211,
          -0.14674342476577493,
          -0.3047748052827633,
          -1.1626594423749859,
          -0.12416751326334802,
          -0.3499266282876171,
          -0.13545546901456146,
          -0.19189524777062872,
          -0.14674342476577493,
          -0.033863867253640365,
          -0.5982616548143131,
          -0.15803138051698837,
          -0.11287955751213455,
          -0.09030364600970764,
          -0.011287955751213455,
          -0.06772773450728073,
          -0.519245964555819,
          -0.24833502652669603,
          -0.38379049554125744,
          -0.056439778756067274,
          -0.5982616548143131,
          -0.033863867253640365,
          -0.2031832035218422,
          -0.18060729201941528,
          -0.3499266282876171,
          -0.19189524777062872,
          -0.31606276103397674,
          -0.2709109380291229,
          -0.23704707077548257,
          -0.09030364600970764,
          -0.056439778756067274,
          -0.19189524777062872,
          -0.16931933626820184,
          -0.011287955751213455,
          -0.033863867253640365,
          -0.3047748052827633,
          -0.21447115927305566,
          -0.056439778756067274,
          -0.07901569025849418,
          -0.04515182300485382,
          -0.11287955751213455,
          -0.14674342476577493,
          -0.06772773450728073,
          -0.32735071678519023,
          -0.38379049554125744,
          -0.12416751326334802,
          -0.16931933626820184,
          -0.16931933626820184,
          -0.47409414155096513,
          -3.6911615306468,
          -0.056439778756067274,
          -0.23704707077548257,
          -0.15803138051698837,
          -0.07901569025849418,
          -0.2031832035218422,
          -0.11287955751213455,
          -0.09030364600970764,
          -0.02257591150242691,
          -0.06772773450728073,
          -0.11287955751213455,
          -0.21447115927305566,
          -0.033863867253640365,
          -1.467434247657749,
          -0.15803138051698837,
          -0.16931933626820184,
          -0.09030364600970764,
          -0.2709109380291229,
          -0.09030364600970764,
          -0.16931933626820184,
          -0.18060729201941528,
          -0.29348684953154985,
          -0.07901569025849418,
          -0.15803138051698837,
          -0.07901569025849418,
          -0.13545546901456146,
          -0.07901569025849418,
          -0.011287955751213455,
          -0.18060729201941528,
          -0.07901569025849418,
          -0.38379049554125744,
          -0.14674342476577493,
          -0.8917485043458631,
          -0.16931933626820184,
          -0.3499266282876171,
          -0.11287955751213455,
          -0.1015916017609211,
          -0.5418218760582458,
          -0.38379049554125744,
          -0.15803138051698837,
          -0.19189524777062872,
          -0.12416751326334802,
          -0.2257591150242691,
          -0.02257591150242691,
          -0.18060729201941528,
          -0.02257591150242691,
          -0.519245964555819,
          -0.11287955751213455,
          -0.011287955751213455,
          -0.09030364600970764,
          -0.14674342476577493,
          -0.04515182300485382,
          -0.3047748052827633,
          -0.18060729201941528,
          -0.15803138051698837,
          -0.09030364600970764,
          -0.13545546901456146,
          -0.13545546901456146,
          -0.24833502652669603,
          -0.2709109380291229,
          -0.02257591150242691
         ],
         "xaxis": "x2",
         "y": [
          "miR-96/1271",
          "miR-9",
          "miR-876",
          "miR-875",
          "miR-874",
          "miR-873",
          "miR-802",
          "miR-760",
          "miR-758",
          "miR-7",
          "miR-670",
          "miR-668",
          "miR-655",
          "miR-653",
          "miR-582",
          "miR-551",
          "miR-544a",
          "miR-543",
          "miR-542",
          "miR-539",
          "miR-532",
          "miR-505",
          "miR-504",
          "miR-503",
          "miR-501/502",
          "miR-499",
          "miR-496",
          "miR-495",
          "miR-494",
          "miR-493",
          "miR-491",
          "miR-490",
          "miR-489",
          "miR-488",
          "miR-487b",
          "miR-486",
          "miR-485",
          "miR-483",
          "miR-455",
          "miR-452",
          "miR-450a",
          "miR-448",
          "miR-433",
          "miR-425",
          "miR-423",
          "miR-421",
          "miR-411",
          "miR-410",
          "miR-409",
          "miR-383",
          "miR-382",
          "miR-381",
          "miR-379",
          "miR-378a",
          "miR-377",
          "miR-376c",
          "miR-376ab",
          "miR-374",
          "miR-371",
          "miR-369",
          "miR-365",
          "miR-361",
          "miR-346",
          "miR-342",
          "miR-340",
          "miR-34/449",
          "miR-339",
          "miR-338",
          "miR-335",
          "miR-331",
          "miR-330",
          "miR-33",
          "miR-329/362",
          "miR-328",
          "miR-325",
          "miR-324",
          "miR-323a",
          "miR-31",
          "miR-302c",
          "miR-302abd",
          "miR-30",
          "miR-299",
          "miR-296",
          "miR-29",
          "miR-28/708",
          "miR-27",
          "miR-26",
          "miR-25/32/92/363/367",
          "miR-24",
          "miR-23",
          "miR-224",
          "miR-223",
          "miR-221/222",
          "miR-22",
          "miR-219",
          "miR-218",
          "miR-217",
          "miR-216b",
          "miR-216a",
          "miR-214",
          "miR-21/590",
          "miR-205",
          "miR-204/211",
          "miR-203a",
          "miR-202",
          "miR-200bc/429",
          "miR-199",
          "miR-196",
          "miR-194",
          "miR-193",
          "miR-192/215",
          "miR-191",
          "miR-190",
          "miR-19",
          "miR-188",
          "miR-187",
          "miR-186",
          "miR-185",
          "miR-183",
          "miR-182",
          "miR-181",
          "miR-18",
          "miR-17/20/93/106/519d",
          "miR-155",
          "miR-154",
          "miR-153",
          "miR-151a",
          "miR-150",
          "miR-15/16/195/424/497",
          "miR-149",
          "miR-148/152",
          "miR-146",
          "miR-145",
          "miR-144",
          "miR-143",
          "miR-142",
          "miR-141/200a",
          "miR-140",
          "miR-139",
          "miR-138",
          "miR-137",
          "miR-136",
          "miR-135",
          "miR-134",
          "miR-133",
          "miR-132/212",
          "miR-1306",
          "miR-130/301/454",
          "miR-1298",
          "miR-129",
          "miR-128",
          "miR-126",
          "miR-1251",
          "miR-125",
          "miR-1249",
          "miR-124",
          "miR-122",
          "miR-1197",
          "miR-1193",
          "miR-103/107",
          "miR-101",
          "miR-10",
          "miR-1/206",
          "let-7/miR-98"
         ],
         "yaxis": "y2"
        },
        {
         "alignmentgroup": "True",
         "customdata": [
          [
           -1,
           2007
          ],
          [
           -16,
           2007
          ],
          [
           -2,
           2007
          ],
          [
           -2,
           2007
          ],
          [
           -1,
           2007
          ],
          [
           -33,
           2007
          ],
          [
           -1,
           2007
          ],
          [
           -8,
           2007
          ],
          [
           -1,
           2007
          ],
          [
           -2,
           2007
          ],
          [
           -1,
           2007
          ],
          [
           -1,
           2007
          ],
          [
           -1,
           2007
          ],
          [
           -1,
           2007
          ],
          [
           -2,
           2007
          ],
          [
           -5,
           2007
          ],
          [
           -1,
           2007
          ],
          [
           -1,
           2007
          ],
          [
           -18,
           2007
          ],
          [
           -2,
           2007
          ],
          [
           -2,
           2007
          ],
          [
           -4,
           2007
          ],
          [
           -3,
           2007
          ],
          [
           -9,
           2007
          ],
          [
           -7,
           2007
          ],
          [
           -1,
           2007
          ],
          [
           -1,
           2007
          ],
          [
           -1,
           2007
          ],
          [
           -1,
           2007
          ],
          [
           -1,
           2007
          ],
          [
           -9,
           2007
          ],
          [
           -3,
           2007
          ],
          [
           -2,
           2007
          ],
          [
           -2,
           2007
          ]
         ],
         "hovertemplate": "strand=mirna_m<br>type=Repeats without cCREs<br>group=g4<br>total_count_rel=%{x}<br>mirna=%{y}<br>total_count=%{customdata[0]}<br>total_group_counts=%{customdata[1]}<extra></extra>",
         "legendgroup": "mirna_m",
         "marker": {
          "color": "royalblue",
          "pattern": {
           "shape": ""
          }
         },
         "name": "mirna_m",
         "offsetgroup": "mirna_m",
         "orientation": "h",
         "showlegend": false,
         "textposition": "auto",
         "type": "bar",
         "x": [
          -0.04982561036372695,
          -0.7972097658196312,
          -0.0996512207274539,
          -0.0996512207274539,
          -0.04982561036372695,
          -1.6442451420029895,
          -0.04982561036372695,
          -0.3986048829098156,
          -0.04982561036372695,
          -0.0996512207274539,
          -0.04982561036372695,
          -0.04982561036372695,
          -0.04982561036372695,
          -0.04982561036372695,
          -0.0996512207274539,
          -0.2491280518186348,
          -0.04982561036372695,
          -0.04982561036372695,
          -0.8968609865470852,
          -0.0996512207274539,
          -0.0996512207274539,
          -0.1993024414549078,
          -0.14947683109118087,
          -0.4484304932735426,
          -0.3487792725460887,
          -0.04982561036372695,
          -0.04982561036372695,
          -0.04982561036372695,
          -0.04982561036372695,
          -0.04982561036372695,
          -0.4484304932735426,
          -0.14947683109118087,
          -0.0996512207274539,
          -0.0996512207274539
         ],
         "xaxis": "x3",
         "y": [
          "miR-9",
          "miR-874",
          "miR-873",
          "miR-744",
          "miR-551",
          "miR-532",
          "miR-504",
          "miR-491",
          "miR-486",
          "miR-483",
          "miR-455",
          "miR-423",
          "miR-379",
          "miR-346",
          "miR-34/449",
          "miR-339",
          "miR-331",
          "miR-329/362",
          "miR-328",
          "miR-299",
          "miR-296",
          "miR-204/211",
          "miR-188",
          "miR-185",
          "miR-150",
          "miR-15/16/195/424/497",
          "miR-149",
          "miR-140",
          "miR-134",
          "miR-133",
          "miR-1306",
          "miR-129",
          "miR-125",
          "miR-10"
         ],
         "yaxis": "y3"
        },
        {
         "alignmentgroup": "True",
         "customdata": [
          [
           -3,
           252
          ],
          [
           -2,
           252
          ],
          [
           -1,
           252
          ],
          [
           -3,
           252
          ],
          [
           -37,
           252
          ],
          [
           -2,
           252
          ],
          [
           -1,
           252
          ],
          [
           -3,
           252
          ],
          [
           -1,
           252
          ]
         ],
         "hovertemplate": "strand=mirna_m<br>type=Repeats without cCREs<br>group=h-dna<br>total_count_rel=%{x}<br>mirna=%{y}<br>total_count=%{customdata[0]}<br>total_group_counts=%{customdata[1]}<extra></extra>",
         "legendgroup": "mirna_m",
         "marker": {
          "color": "royalblue",
          "pattern": {
           "shape": ""
          }
         },
         "name": "mirna_m",
         "offsetgroup": "mirna_m",
         "orientation": "h",
         "showlegend": false,
         "textposition": "auto",
         "type": "bar",
         "x": [
          -1.1904761904761905,
          -0.7936507936507936,
          -0.3968253968253968,
          -1.1904761904761905,
          -14.682539682539684,
          -0.7936507936507936,
          -0.3968253968253968,
          -1.1904761904761905,
          -0.3968253968253968
         ],
         "xaxis": "x4",
         "y": [
          "miR-532",
          "miR-491",
          "miR-423",
          "miR-204/211",
          "miR-185",
          "miR-151a",
          "miR-142",
          "miR-1306",
          "miR-129"
         ],
         "yaxis": "y4"
        }
       ],
       "layout": {
        "annotations": [
         {
          "font": {},
          "showarrow": false,
          "text": "<b>z-dna</b>",
          "x": 0.11499999999999999,
          "xanchor": "center",
          "xref": "paper",
          "y": 1,
          "yanchor": "bottom",
          "yref": "paper"
         },
         {
          "font": {},
          "showarrow": false,
          "text": "<b>sidd</b>",
          "x": 0.365,
          "xanchor": "center",
          "xref": "paper",
          "y": 1,
          "yanchor": "bottom",
          "yref": "paper"
         },
         {
          "font": {},
          "showarrow": false,
          "text": "<b>g4</b>",
          "x": 0.615,
          "xanchor": "center",
          "xref": "paper",
          "y": 1,
          "yanchor": "bottom",
          "yref": "paper"
         },
         {
          "font": {},
          "showarrow": false,
          "text": "<b>h-dna</b>",
          "x": 0.865,
          "xanchor": "center",
          "xref": "paper",
          "y": 1,
          "yanchor": "bottom",
          "yref": "paper"
         },
         {
          "font": {},
          "showarrow": false,
          "text": "<b>Repeats without cCREs</b>",
          "textangle": 90,
          "x": 0.98,
          "xanchor": "left",
          "xref": "paper",
          "y": 0.2425,
          "yanchor": "middle",
          "yref": "paper"
         },
         {
          "font": {},
          "showarrow": false,
          "text": "<b>cCREs without Repeats</b>",
          "textangle": 90,
          "x": 0.98,
          "xanchor": "left",
          "xref": "paper",
          "y": 0.7575000000000001,
          "yanchor": "middle",
          "yref": "paper"
         }
        ],
        "barmode": "relative",
        "height": 920,
        "legend": {
         "title": {
          "text": "strand"
         },
         "tracegroupgap": 0
        },
        "margin": {
         "t": 60
        },
        "template": {
         "data": {
          "bar": [
           {
            "error_x": {
             "color": "#2a3f5f"
            },
            "error_y": {
             "color": "#2a3f5f"
            },
            "marker": {
             "line": {
              "color": "#E5ECF6",
              "width": 0.5
             },
             "pattern": {
              "fillmode": "overlay",
              "size": 10,
              "solidity": 0.2
             }
            },
            "type": "bar"
           }
          ],
          "barpolar": [
           {
            "marker": {
             "line": {
              "color": "#E5ECF6",
              "width": 0.5
             },
             "pattern": {
              "fillmode": "overlay",
              "size": 10,
              "solidity": 0.2
             }
            },
            "type": "barpolar"
           }
          ],
          "carpet": [
           {
            "aaxis": {
             "endlinecolor": "#2a3f5f",
             "gridcolor": "white",
             "linecolor": "white",
             "minorgridcolor": "white",
             "startlinecolor": "#2a3f5f"
            },
            "baxis": {
             "endlinecolor": "#2a3f5f",
             "gridcolor": "white",
             "linecolor": "white",
             "minorgridcolor": "white",
             "startlinecolor": "#2a3f5f"
            },
            "type": "carpet"
           }
          ],
          "choropleth": [
           {
            "colorbar": {
             "outlinewidth": 0,
             "ticks": ""
            },
            "type": "choropleth"
           }
          ],
          "contour": [
           {
            "colorbar": {
             "outlinewidth": 0,
             "ticks": ""
            },
            "colorscale": [
             [
              0,
              "#0d0887"
             ],
             [
              0.1111111111111111,
              "#46039f"
             ],
             [
              0.2222222222222222,
              "#7201a8"
             ],
             [
              0.3333333333333333,
              "#9c179e"
             ],
             [
              0.4444444444444444,
              "#bd3786"
             ],
             [
              0.5555555555555556,
              "#d8576b"
             ],
             [
              0.6666666666666666,
              "#ed7953"
             ],
             [
              0.7777777777777778,
              "#fb9f3a"
             ],
             [
              0.8888888888888888,
              "#fdca26"
             ],
             [
              1,
              "#f0f921"
             ]
            ],
            "type": "contour"
           }
          ],
          "contourcarpet": [
           {
            "colorbar": {
             "outlinewidth": 0,
             "ticks": ""
            },
            "type": "contourcarpet"
           }
          ],
          "heatmap": [
           {
            "colorbar": {
             "outlinewidth": 0,
             "ticks": ""
            },
            "colorscale": [
             [
              0,
              "#0d0887"
             ],
             [
              0.1111111111111111,
              "#46039f"
             ],
             [
              0.2222222222222222,
              "#7201a8"
             ],
             [
              0.3333333333333333,
              "#9c179e"
             ],
             [
              0.4444444444444444,
              "#bd3786"
             ],
             [
              0.5555555555555556,
              "#d8576b"
             ],
             [
              0.6666666666666666,
              "#ed7953"
             ],
             [
              0.7777777777777778,
              "#fb9f3a"
             ],
             [
              0.8888888888888888,
              "#fdca26"
             ],
             [
              1,
              "#f0f921"
             ]
            ],
            "type": "heatmap"
           }
          ],
          "heatmapgl": [
           {
            "colorbar": {
             "outlinewidth": 0,
             "ticks": ""
            },
            "colorscale": [
             [
              0,
              "#0d0887"
             ],
             [
              0.1111111111111111,
              "#46039f"
             ],
             [
              0.2222222222222222,
              "#7201a8"
             ],
             [
              0.3333333333333333,
              "#9c179e"
             ],
             [
              0.4444444444444444,
              "#bd3786"
             ],
             [
              0.5555555555555556,
              "#d8576b"
             ],
             [
              0.6666666666666666,
              "#ed7953"
             ],
             [
              0.7777777777777778,
              "#fb9f3a"
             ],
             [
              0.8888888888888888,
              "#fdca26"
             ],
             [
              1,
              "#f0f921"
             ]
            ],
            "type": "heatmapgl"
           }
          ],
          "histogram": [
           {
            "marker": {
             "pattern": {
              "fillmode": "overlay",
              "size": 10,
              "solidity": 0.2
             }
            },
            "type": "histogram"
           }
          ],
          "histogram2d": [
           {
            "colorbar": {
             "outlinewidth": 0,
             "ticks": ""
            },
            "colorscale": [
             [
              0,
              "#0d0887"
             ],
             [
              0.1111111111111111,
              "#46039f"
             ],
             [
              0.2222222222222222,
              "#7201a8"
             ],
             [
              0.3333333333333333,
              "#9c179e"
             ],
             [
              0.4444444444444444,
              "#bd3786"
             ],
             [
              0.5555555555555556,
              "#d8576b"
             ],
             [
              0.6666666666666666,
              "#ed7953"
             ],
             [
              0.7777777777777778,
              "#fb9f3a"
             ],
             [
              0.8888888888888888,
              "#fdca26"
             ],
             [
              1,
              "#f0f921"
             ]
            ],
            "type": "histogram2d"
           }
          ],
          "histogram2dcontour": [
           {
            "colorbar": {
             "outlinewidth": 0,
             "ticks": ""
            },
            "colorscale": [
             [
              0,
              "#0d0887"
             ],
             [
              0.1111111111111111,
              "#46039f"
             ],
             [
              0.2222222222222222,
              "#7201a8"
             ],
             [
              0.3333333333333333,
              "#9c179e"
             ],
             [
              0.4444444444444444,
              "#bd3786"
             ],
             [
              0.5555555555555556,
              "#d8576b"
             ],
             [
              0.6666666666666666,
              "#ed7953"
             ],
             [
              0.7777777777777778,
              "#fb9f3a"
             ],
             [
              0.8888888888888888,
              "#fdca26"
             ],
             [
              1,
              "#f0f921"
             ]
            ],
            "type": "histogram2dcontour"
           }
          ],
          "mesh3d": [
           {
            "colorbar": {
             "outlinewidth": 0,
             "ticks": ""
            },
            "type": "mesh3d"
           }
          ],
          "parcoords": [
           {
            "line": {
             "colorbar": {
              "outlinewidth": 0,
              "ticks": ""
             }
            },
            "type": "parcoords"
           }
          ],
          "pie": [
           {
            "automargin": true,
            "type": "pie"
           }
          ],
          "scatter": [
           {
            "fillpattern": {
             "fillmode": "overlay",
             "size": 10,
             "solidity": 0.2
            },
            "type": "scatter"
           }
          ],
          "scatter3d": [
           {
            "line": {
             "colorbar": {
              "outlinewidth": 0,
              "ticks": ""
             }
            },
            "marker": {
             "colorbar": {
              "outlinewidth": 0,
              "ticks": ""
             }
            },
            "type": "scatter3d"
           }
          ],
          "scattercarpet": [
           {
            "marker": {
             "colorbar": {
              "outlinewidth": 0,
              "ticks": ""
             }
            },
            "type": "scattercarpet"
           }
          ],
          "scattergeo": [
           {
            "marker": {
             "colorbar": {
              "outlinewidth": 0,
              "ticks": ""
             }
            },
            "type": "scattergeo"
           }
          ],
          "scattergl": [
           {
            "marker": {
             "colorbar": {
              "outlinewidth": 0,
              "ticks": ""
             }
            },
            "type": "scattergl"
           }
          ],
          "scattermapbox": [
           {
            "marker": {
             "colorbar": {
              "outlinewidth": 0,
              "ticks": ""
             }
            },
            "type": "scattermapbox"
           }
          ],
          "scatterpolar": [
           {
            "marker": {
             "colorbar": {
              "outlinewidth": 0,
              "ticks": ""
             }
            },
            "type": "scatterpolar"
           }
          ],
          "scatterpolargl": [
           {
            "marker": {
             "colorbar": {
              "outlinewidth": 0,
              "ticks": ""
             }
            },
            "type": "scatterpolargl"
           }
          ],
          "scatterternary": [
           {
            "marker": {
             "colorbar": {
              "outlinewidth": 0,
              "ticks": ""
             }
            },
            "type": "scatterternary"
           }
          ],
          "surface": [
           {
            "colorbar": {
             "outlinewidth": 0,
             "ticks": ""
            },
            "colorscale": [
             [
              0,
              "#0d0887"
             ],
             [
              0.1111111111111111,
              "#46039f"
             ],
             [
              0.2222222222222222,
              "#7201a8"
             ],
             [
              0.3333333333333333,
              "#9c179e"
             ],
             [
              0.4444444444444444,
              "#bd3786"
             ],
             [
              0.5555555555555556,
              "#d8576b"
             ],
             [
              0.6666666666666666,
              "#ed7953"
             ],
             [
              0.7777777777777778,
              "#fb9f3a"
             ],
             [
              0.8888888888888888,
              "#fdca26"
             ],
             [
              1,
              "#f0f921"
             ]
            ],
            "type": "surface"
           }
          ],
          "table": [
           {
            "cells": {
             "fill": {
              "color": "#EBF0F8"
             },
             "line": {
              "color": "white"
             }
            },
            "header": {
             "fill": {
              "color": "#C8D4E3"
             },
             "line": {
              "color": "white"
             }
            },
            "type": "table"
           }
          ]
         },
         "layout": {
          "annotationdefaults": {
           "arrowcolor": "#2a3f5f",
           "arrowhead": 0,
           "arrowwidth": 1
          },
          "autotypenumbers": "strict",
          "coloraxis": {
           "colorbar": {
            "outlinewidth": 0,
            "ticks": ""
           }
          },
          "colorscale": {
           "diverging": [
            [
             0,
             "#8e0152"
            ],
            [
             0.1,
             "#c51b7d"
            ],
            [
             0.2,
             "#de77ae"
            ],
            [
             0.3,
             "#f1b6da"
            ],
            [
             0.4,
             "#fde0ef"
            ],
            [
             0.5,
             "#f7f7f7"
            ],
            [
             0.6,
             "#e6f5d0"
            ],
            [
             0.7,
             "#b8e186"
            ],
            [
             0.8,
             "#7fbc41"
            ],
            [
             0.9,
             "#4d9221"
            ],
            [
             1,
             "#276419"
            ]
           ],
           "sequential": [
            [
             0,
             "#0d0887"
            ],
            [
             0.1111111111111111,
             "#46039f"
            ],
            [
             0.2222222222222222,
             "#7201a8"
            ],
            [
             0.3333333333333333,
             "#9c179e"
            ],
            [
             0.4444444444444444,
             "#bd3786"
            ],
            [
             0.5555555555555556,
             "#d8576b"
            ],
            [
             0.6666666666666666,
             "#ed7953"
            ],
            [
             0.7777777777777778,
             "#fb9f3a"
            ],
            [
             0.8888888888888888,
             "#fdca26"
            ],
            [
             1,
             "#f0f921"
            ]
           ],
           "sequentialminus": [
            [
             0,
             "#0d0887"
            ],
            [
             0.1111111111111111,
             "#46039f"
            ],
            [
             0.2222222222222222,
             "#7201a8"
            ],
            [
             0.3333333333333333,
             "#9c179e"
            ],
            [
             0.4444444444444444,
             "#bd3786"
            ],
            [
             0.5555555555555556,
             "#d8576b"
            ],
            [
             0.6666666666666666,
             "#ed7953"
            ],
            [
             0.7777777777777778,
             "#fb9f3a"
            ],
            [
             0.8888888888888888,
             "#fdca26"
            ],
            [
             1,
             "#f0f921"
            ]
           ]
          },
          "colorway": [
           "#636efa",
           "#EF553B",
           "#00cc96",
           "#ab63fa",
           "#FFA15A",
           "#19d3f3",
           "#FF6692",
           "#B6E880",
           "#FF97FF",
           "#FECB52"
          ],
          "font": {
           "color": "#2a3f5f"
          },
          "geo": {
           "bgcolor": "white",
           "lakecolor": "white",
           "landcolor": "#E5ECF6",
           "showlakes": true,
           "showland": true,
           "subunitcolor": "white"
          },
          "hoverlabel": {
           "align": "left"
          },
          "hovermode": "closest",
          "mapbox": {
           "style": "light"
          },
          "paper_bgcolor": "white",
          "plot_bgcolor": "#E5ECF6",
          "polar": {
           "angularaxis": {
            "gridcolor": "white",
            "linecolor": "white",
            "ticks": ""
           },
           "bgcolor": "#E5ECF6",
           "radialaxis": {
            "gridcolor": "white",
            "linecolor": "white",
            "ticks": ""
           }
          },
          "scene": {
           "xaxis": {
            "backgroundcolor": "#E5ECF6",
            "gridcolor": "white",
            "gridwidth": 2,
            "linecolor": "white",
            "showbackground": true,
            "ticks": "",
            "zerolinecolor": "white"
           },
           "yaxis": {
            "backgroundcolor": "#E5ECF6",
            "gridcolor": "white",
            "gridwidth": 2,
            "linecolor": "white",
            "showbackground": true,
            "ticks": "",
            "zerolinecolor": "white"
           },
           "zaxis": {
            "backgroundcolor": "#E5ECF6",
            "gridcolor": "white",
            "gridwidth": 2,
            "linecolor": "white",
            "showbackground": true,
            "ticks": "",
            "zerolinecolor": "white"
           }
          },
          "shapedefaults": {
           "line": {
            "color": "#2a3f5f"
           }
          },
          "ternary": {
           "aaxis": {
            "gridcolor": "white",
            "linecolor": "white",
            "ticks": ""
           },
           "baxis": {
            "gridcolor": "white",
            "linecolor": "white",
            "ticks": ""
           },
           "bgcolor": "#E5ECF6",
           "caxis": {
            "gridcolor": "white",
            "linecolor": "white",
            "ticks": ""
           }
          },
          "title": {
           "x": 0.05
          },
          "xaxis": {
           "automargin": true,
           "gridcolor": "white",
           "linecolor": "white",
           "ticks": "",
           "title": {
            "standoff": 15
           },
           "zerolinecolor": "white",
           "zerolinewidth": 2
          },
          "yaxis": {
           "automargin": true,
           "gridcolor": "white",
           "linecolor": "white",
           "ticks": "",
           "title": {
            "standoff": 15
           },
           "zerolinecolor": "white",
           "zerolinewidth": 2
          }
         }
        },
        "title": {
         "text": "miRNAs that bind <b>repeat promoters (no overlap with CCRE)</b> vs <b>the CCRE promoters (no overlap with repeats)</b>"
        },
        "width": 1700,
        "xaxis": {
         "anchor": "y",
         "domain": [
          0,
          0.22999999999999998
         ],
         "title": {
          "text": "total_count_rel"
         }
        },
        "xaxis2": {
         "anchor": "y2",
         "domain": [
          0.24999999999999997,
          0.48
         ],
         "matches": "x",
         "title": {
          "text": "total_count_rel"
         }
        },
        "xaxis3": {
         "anchor": "y3",
         "domain": [
          0.49999999999999994,
          0.73
         ],
         "matches": "x",
         "title": {
          "text": "total_count_rel"
         }
        },
        "xaxis4": {
         "anchor": "y4",
         "domain": [
          0.75,
          0.98
         ],
         "matches": "x",
         "title": {
          "text": "total_count_rel"
         }
        },
        "xaxis5": {
         "anchor": "y5",
         "domain": [
          0,
          0.22999999999999998
         ],
         "matches": "x",
         "showticklabels": false
        },
        "xaxis6": {
         "anchor": "y6",
         "domain": [
          0.24999999999999997,
          0.48
         ],
         "matches": "x",
         "showticklabels": false
        },
        "xaxis7": {
         "anchor": "y7",
         "domain": [
          0.49999999999999994,
          0.73
         ],
         "matches": "x",
         "showticklabels": false
        },
        "xaxis8": {
         "anchor": "y8",
         "domain": [
          0.75,
          0.98
         ],
         "matches": "x",
         "showticklabels": false
        },
        "yaxis": {
         "anchor": "x",
         "categoryarray": [
          "miR-99/100",
          "miR-96/1271",
          "miR-9",
          "miR-876",
          "miR-875",
          "miR-874",
          "miR-873",
          "miR-802",
          "miR-760",
          "miR-758",
          "miR-744",
          "miR-7",
          "miR-670",
          "miR-668",
          "miR-665",
          "miR-655",
          "miR-653",
          "miR-652",
          "miR-615",
          "miR-582",
          "miR-551",
          "miR-544a",
          "miR-543",
          "miR-542",
          "miR-539",
          "miR-532",
          "miR-505",
          "miR-504",
          "miR-503",
          "miR-501/502",
          "miR-499",
          "miR-496",
          "miR-495",
          "miR-494",
          "miR-493",
          "miR-491",
          "miR-490",
          "miR-489",
          "miR-488",
          "miR-487b",
          "miR-486",
          "miR-485",
          "miR-483",
          "miR-455",
          "miR-452",
          "miR-450a",
          "miR-448",
          "miR-433",
          "miR-431",
          "miR-425",
          "miR-423",
          "miR-421",
          "miR-412",
          "miR-411",
          "miR-410",
          "miR-409",
          "miR-383",
          "miR-382",
          "miR-381",
          "miR-379",
          "miR-378a",
          "miR-377",
          "miR-376c",
          "miR-376ab",
          "miR-375",
          "miR-374",
          "miR-371",
          "miR-369",
          "miR-365",
          "miR-361",
          "miR-346",
          "miR-342",
          "miR-340",
          "miR-34/449",
          "miR-339",
          "miR-338",
          "miR-335",
          "miR-331",
          "miR-330",
          "miR-33",
          "miR-329/362",
          "miR-328",
          "miR-325",
          "miR-324",
          "miR-323a",
          "miR-31",
          "miR-302c",
          "miR-302abd",
          "miR-30",
          "miR-299",
          "miR-296",
          "miR-29",
          "miR-28/708",
          "miR-27",
          "miR-26",
          "miR-25/32/92/363/367",
          "miR-24",
          "miR-23",
          "miR-224",
          "miR-223",
          "miR-221/222",
          "miR-22",
          "miR-219",
          "miR-218",
          "miR-217",
          "miR-216b",
          "miR-216a",
          "miR-214",
          "miR-210",
          "miR-21/590",
          "miR-208",
          "miR-205",
          "miR-204/211",
          "miR-203a",
          "miR-202",
          "miR-200bc/429",
          "miR-199",
          "miR-196",
          "miR-194",
          "miR-193",
          "miR-192/215",
          "miR-191",
          "miR-190",
          "miR-19",
          "miR-188",
          "miR-187",
          "miR-186",
          "miR-185",
          "miR-184",
          "miR-183",
          "miR-182",
          "miR-181",
          "miR-18",
          "miR-17/20/93/106/519d",
          "miR-155",
          "miR-154",
          "miR-153",
          "miR-151a",
          "miR-150",
          "miR-15/16/195/424/497",
          "miR-149",
          "miR-148/152",
          "miR-147",
          "miR-146",
          "miR-145",
          "miR-144",
          "miR-143",
          "miR-142",
          "miR-141/200a",
          "miR-140",
          "miR-139",
          "miR-138",
          "miR-137",
          "miR-136",
          "miR-135",
          "miR-134",
          "miR-133",
          "miR-132/212",
          "miR-1306",
          "miR-130/301/454",
          "miR-1298",
          "miR-129",
          "miR-128",
          "miR-127",
          "miR-126",
          "miR-1251",
          "miR-125",
          "miR-1249",
          "miR-124",
          "miR-122",
          "miR-1197",
          "miR-1193",
          "miR-103/107",
          "miR-101",
          "miR-10",
          "miR-1/206",
          "let-7/miR-98"
         ],
         "categoryorder": "array",
         "domain": [
          0,
          0.485
         ],
         "title": {
          "text": "mirna"
         }
        },
        "yaxis2": {
         "anchor": "x2",
         "categoryarray": [
          "miR-99/100",
          "miR-96/1271",
          "miR-9",
          "miR-876",
          "miR-875",
          "miR-874",
          "miR-873",
          "miR-802",
          "miR-760",
          "miR-758",
          "miR-744",
          "miR-7",
          "miR-670",
          "miR-668",
          "miR-665",
          "miR-655",
          "miR-653",
          "miR-652",
          "miR-615",
          "miR-582",
          "miR-551",
          "miR-544a",
          "miR-543",
          "miR-542",
          "miR-539",
          "miR-532",
          "miR-505",
          "miR-504",
          "miR-503",
          "miR-501/502",
          "miR-499",
          "miR-496",
          "miR-495",
          "miR-494",
          "miR-493",
          "miR-491",
          "miR-490",
          "miR-489",
          "miR-488",
          "miR-487b",
          "miR-486",
          "miR-485",
          "miR-483",
          "miR-455",
          "miR-452",
          "miR-450a",
          "miR-448",
          "miR-433",
          "miR-431",
          "miR-425",
          "miR-423",
          "miR-421",
          "miR-412",
          "miR-411",
          "miR-410",
          "miR-409",
          "miR-383",
          "miR-382",
          "miR-381",
          "miR-379",
          "miR-378a",
          "miR-377",
          "miR-376c",
          "miR-376ab",
          "miR-375",
          "miR-374",
          "miR-371",
          "miR-369",
          "miR-365",
          "miR-361",
          "miR-346",
          "miR-342",
          "miR-340",
          "miR-34/449",
          "miR-339",
          "miR-338",
          "miR-335",
          "miR-331",
          "miR-330",
          "miR-33",
          "miR-329/362",
          "miR-328",
          "miR-325",
          "miR-324",
          "miR-323a",
          "miR-31",
          "miR-302c",
          "miR-302abd",
          "miR-30",
          "miR-299",
          "miR-296",
          "miR-29",
          "miR-28/708",
          "miR-27",
          "miR-26",
          "miR-25/32/92/363/367",
          "miR-24",
          "miR-23",
          "miR-224",
          "miR-223",
          "miR-221/222",
          "miR-22",
          "miR-219",
          "miR-218",
          "miR-217",
          "miR-216b",
          "miR-216a",
          "miR-214",
          "miR-210",
          "miR-21/590",
          "miR-208",
          "miR-205",
          "miR-204/211",
          "miR-203a",
          "miR-202",
          "miR-200bc/429",
          "miR-199",
          "miR-196",
          "miR-194",
          "miR-193",
          "miR-192/215",
          "miR-191",
          "miR-190",
          "miR-19",
          "miR-188",
          "miR-187",
          "miR-186",
          "miR-185",
          "miR-184",
          "miR-183",
          "miR-182",
          "miR-181",
          "miR-18",
          "miR-17/20/93/106/519d",
          "miR-155",
          "miR-154",
          "miR-153",
          "miR-151a",
          "miR-150",
          "miR-15/16/195/424/497",
          "miR-149",
          "miR-148/152",
          "miR-147",
          "miR-146",
          "miR-145",
          "miR-144",
          "miR-143",
          "miR-142",
          "miR-141/200a",
          "miR-140",
          "miR-139",
          "miR-138",
          "miR-137",
          "miR-136",
          "miR-135",
          "miR-134",
          "miR-133",
          "miR-132/212",
          "miR-1306",
          "miR-130/301/454",
          "miR-1298",
          "miR-129",
          "miR-128",
          "miR-127",
          "miR-126",
          "miR-1251",
          "miR-125",
          "miR-1249",
          "miR-124",
          "miR-122",
          "miR-1197",
          "miR-1193",
          "miR-103/107",
          "miR-101",
          "miR-10",
          "miR-1/206",
          "let-7/miR-98"
         ],
         "categoryorder": "array",
         "domain": [
          0,
          0.485
         ],
         "matches": "y",
         "showticklabels": false
        },
        "yaxis3": {
         "anchor": "x3",
         "categoryarray": [
          "miR-99/100",
          "miR-96/1271",
          "miR-9",
          "miR-876",
          "miR-875",
          "miR-874",
          "miR-873",
          "miR-802",
          "miR-760",
          "miR-758",
          "miR-744",
          "miR-7",
          "miR-670",
          "miR-668",
          "miR-665",
          "miR-655",
          "miR-653",
          "miR-652",
          "miR-615",
          "miR-582",
          "miR-551",
          "miR-544a",
          "miR-543",
          "miR-542",
          "miR-539",
          "miR-532",
          "miR-505",
          "miR-504",
          "miR-503",
          "miR-501/502",
          "miR-499",
          "miR-496",
          "miR-495",
          "miR-494",
          "miR-493",
          "miR-491",
          "miR-490",
          "miR-489",
          "miR-488",
          "miR-487b",
          "miR-486",
          "miR-485",
          "miR-483",
          "miR-455",
          "miR-452",
          "miR-450a",
          "miR-448",
          "miR-433",
          "miR-431",
          "miR-425",
          "miR-423",
          "miR-421",
          "miR-412",
          "miR-411",
          "miR-410",
          "miR-409",
          "miR-383",
          "miR-382",
          "miR-381",
          "miR-379",
          "miR-378a",
          "miR-377",
          "miR-376c",
          "miR-376ab",
          "miR-375",
          "miR-374",
          "miR-371",
          "miR-369",
          "miR-365",
          "miR-361",
          "miR-346",
          "miR-342",
          "miR-340",
          "miR-34/449",
          "miR-339",
          "miR-338",
          "miR-335",
          "miR-331",
          "miR-330",
          "miR-33",
          "miR-329/362",
          "miR-328",
          "miR-325",
          "miR-324",
          "miR-323a",
          "miR-31",
          "miR-302c",
          "miR-302abd",
          "miR-30",
          "miR-299",
          "miR-296",
          "miR-29",
          "miR-28/708",
          "miR-27",
          "miR-26",
          "miR-25/32/92/363/367",
          "miR-24",
          "miR-23",
          "miR-224",
          "miR-223",
          "miR-221/222",
          "miR-22",
          "miR-219",
          "miR-218",
          "miR-217",
          "miR-216b",
          "miR-216a",
          "miR-214",
          "miR-210",
          "miR-21/590",
          "miR-208",
          "miR-205",
          "miR-204/211",
          "miR-203a",
          "miR-202",
          "miR-200bc/429",
          "miR-199",
          "miR-196",
          "miR-194",
          "miR-193",
          "miR-192/215",
          "miR-191",
          "miR-190",
          "miR-19",
          "miR-188",
          "miR-187",
          "miR-186",
          "miR-185",
          "miR-184",
          "miR-183",
          "miR-182",
          "miR-181",
          "miR-18",
          "miR-17/20/93/106/519d",
          "miR-155",
          "miR-154",
          "miR-153",
          "miR-151a",
          "miR-150",
          "miR-15/16/195/424/497",
          "miR-149",
          "miR-148/152",
          "miR-147",
          "miR-146",
          "miR-145",
          "miR-144",
          "miR-143",
          "miR-142",
          "miR-141/200a",
          "miR-140",
          "miR-139",
          "miR-138",
          "miR-137",
          "miR-136",
          "miR-135",
          "miR-134",
          "miR-133",
          "miR-132/212",
          "miR-1306",
          "miR-130/301/454",
          "miR-1298",
          "miR-129",
          "miR-128",
          "miR-127",
          "miR-126",
          "miR-1251",
          "miR-125",
          "miR-1249",
          "miR-124",
          "miR-122",
          "miR-1197",
          "miR-1193",
          "miR-103/107",
          "miR-101",
          "miR-10",
          "miR-1/206",
          "let-7/miR-98"
         ],
         "categoryorder": "array",
         "domain": [
          0,
          0.485
         ],
         "matches": "y",
         "showticklabels": false
        },
        "yaxis4": {
         "anchor": "x4",
         "categoryarray": [
          "miR-99/100",
          "miR-96/1271",
          "miR-9",
          "miR-876",
          "miR-875",
          "miR-874",
          "miR-873",
          "miR-802",
          "miR-760",
          "miR-758",
          "miR-744",
          "miR-7",
          "miR-670",
          "miR-668",
          "miR-665",
          "miR-655",
          "miR-653",
          "miR-652",
          "miR-615",
          "miR-582",
          "miR-551",
          "miR-544a",
          "miR-543",
          "miR-542",
          "miR-539",
          "miR-532",
          "miR-505",
          "miR-504",
          "miR-503",
          "miR-501/502",
          "miR-499",
          "miR-496",
          "miR-495",
          "miR-494",
          "miR-493",
          "miR-491",
          "miR-490",
          "miR-489",
          "miR-488",
          "miR-487b",
          "miR-486",
          "miR-485",
          "miR-483",
          "miR-455",
          "miR-452",
          "miR-450a",
          "miR-448",
          "miR-433",
          "miR-431",
          "miR-425",
          "miR-423",
          "miR-421",
          "miR-412",
          "miR-411",
          "miR-410",
          "miR-409",
          "miR-383",
          "miR-382",
          "miR-381",
          "miR-379",
          "miR-378a",
          "miR-377",
          "miR-376c",
          "miR-376ab",
          "miR-375",
          "miR-374",
          "miR-371",
          "miR-369",
          "miR-365",
          "miR-361",
          "miR-346",
          "miR-342",
          "miR-340",
          "miR-34/449",
          "miR-339",
          "miR-338",
          "miR-335",
          "miR-331",
          "miR-330",
          "miR-33",
          "miR-329/362",
          "miR-328",
          "miR-325",
          "miR-324",
          "miR-323a",
          "miR-31",
          "miR-302c",
          "miR-302abd",
          "miR-30",
          "miR-299",
          "miR-296",
          "miR-29",
          "miR-28/708",
          "miR-27",
          "miR-26",
          "miR-25/32/92/363/367",
          "miR-24",
          "miR-23",
          "miR-224",
          "miR-223",
          "miR-221/222",
          "miR-22",
          "miR-219",
          "miR-218",
          "miR-217",
          "miR-216b",
          "miR-216a",
          "miR-214",
          "miR-210",
          "miR-21/590",
          "miR-208",
          "miR-205",
          "miR-204/211",
          "miR-203a",
          "miR-202",
          "miR-200bc/429",
          "miR-199",
          "miR-196",
          "miR-194",
          "miR-193",
          "miR-192/215",
          "miR-191",
          "miR-190",
          "miR-19",
          "miR-188",
          "miR-187",
          "miR-186",
          "miR-185",
          "miR-184",
          "miR-183",
          "miR-182",
          "miR-181",
          "miR-18",
          "miR-17/20/93/106/519d",
          "miR-155",
          "miR-154",
          "miR-153",
          "miR-151a",
          "miR-150",
          "miR-15/16/195/424/497",
          "miR-149",
          "miR-148/152",
          "miR-147",
          "miR-146",
          "miR-145",
          "miR-144",
          "miR-143",
          "miR-142",
          "miR-141/200a",
          "miR-140",
          "miR-139",
          "miR-138",
          "miR-137",
          "miR-136",
          "miR-135",
          "miR-134",
          "miR-133",
          "miR-132/212",
          "miR-1306",
          "miR-130/301/454",
          "miR-1298",
          "miR-129",
          "miR-128",
          "miR-127",
          "miR-126",
          "miR-1251",
          "miR-125",
          "miR-1249",
          "miR-124",
          "miR-122",
          "miR-1197",
          "miR-1193",
          "miR-103/107",
          "miR-101",
          "miR-10",
          "miR-1/206",
          "let-7/miR-98"
         ],
         "categoryorder": "array",
         "domain": [
          0,
          0.485
         ],
         "matches": "y",
         "showticklabels": false
        },
        "yaxis5": {
         "anchor": "x5",
         "categoryarray": [
          "miR-99/100",
          "miR-96/1271",
          "miR-9",
          "miR-876",
          "miR-875",
          "miR-874",
          "miR-873",
          "miR-802",
          "miR-760",
          "miR-758",
          "miR-744",
          "miR-7",
          "miR-670",
          "miR-668",
          "miR-665",
          "miR-655",
          "miR-653",
          "miR-652",
          "miR-615",
          "miR-582",
          "miR-551",
          "miR-544a",
          "miR-543",
          "miR-542",
          "miR-539",
          "miR-532",
          "miR-505",
          "miR-504",
          "miR-503",
          "miR-501/502",
          "miR-499",
          "miR-496",
          "miR-495",
          "miR-494",
          "miR-493",
          "miR-491",
          "miR-490",
          "miR-489",
          "miR-488",
          "miR-487b",
          "miR-486",
          "miR-485",
          "miR-483",
          "miR-455",
          "miR-452",
          "miR-450a",
          "miR-448",
          "miR-433",
          "miR-431",
          "miR-425",
          "miR-423",
          "miR-421",
          "miR-412",
          "miR-411",
          "miR-410",
          "miR-409",
          "miR-383",
          "miR-382",
          "miR-381",
          "miR-379",
          "miR-378a",
          "miR-377",
          "miR-376c",
          "miR-376ab",
          "miR-375",
          "miR-374",
          "miR-371",
          "miR-369",
          "miR-365",
          "miR-361",
          "miR-346",
          "miR-342",
          "miR-340",
          "miR-34/449",
          "miR-339",
          "miR-338",
          "miR-335",
          "miR-331",
          "miR-330",
          "miR-33",
          "miR-329/362",
          "miR-328",
          "miR-325",
          "miR-324",
          "miR-323a",
          "miR-31",
          "miR-302c",
          "miR-302abd",
          "miR-30",
          "miR-299",
          "miR-296",
          "miR-29",
          "miR-28/708",
          "miR-27",
          "miR-26",
          "miR-25/32/92/363/367",
          "miR-24",
          "miR-23",
          "miR-224",
          "miR-223",
          "miR-221/222",
          "miR-22",
          "miR-219",
          "miR-218",
          "miR-217",
          "miR-216b",
          "miR-216a",
          "miR-214",
          "miR-210",
          "miR-21/590",
          "miR-208",
          "miR-205",
          "miR-204/211",
          "miR-203a",
          "miR-202",
          "miR-200bc/429",
          "miR-199",
          "miR-196",
          "miR-194",
          "miR-193",
          "miR-192/215",
          "miR-191",
          "miR-190",
          "miR-19",
          "miR-188",
          "miR-187",
          "miR-186",
          "miR-185",
          "miR-184",
          "miR-183",
          "miR-182",
          "miR-181",
          "miR-18",
          "miR-17/20/93/106/519d",
          "miR-155",
          "miR-154",
          "miR-153",
          "miR-151a",
          "miR-150",
          "miR-15/16/195/424/497",
          "miR-149",
          "miR-148/152",
          "miR-147",
          "miR-146",
          "miR-145",
          "miR-144",
          "miR-143",
          "miR-142",
          "miR-141/200a",
          "miR-140",
          "miR-139",
          "miR-138",
          "miR-137",
          "miR-136",
          "miR-135",
          "miR-134",
          "miR-133",
          "miR-132/212",
          "miR-1306",
          "miR-130/301/454",
          "miR-1298",
          "miR-129",
          "miR-128",
          "miR-127",
          "miR-126",
          "miR-1251",
          "miR-125",
          "miR-1249",
          "miR-124",
          "miR-122",
          "miR-1197",
          "miR-1193",
          "miR-103/107",
          "miR-101",
          "miR-10",
          "miR-1/206",
          "let-7/miR-98"
         ],
         "categoryorder": "array",
         "domain": [
          0.515,
          1
         ],
         "matches": "y",
         "title": {
          "text": "mirna"
         }
        },
        "yaxis6": {
         "anchor": "x6",
         "categoryarray": [
          "miR-99/100",
          "miR-96/1271",
          "miR-9",
          "miR-876",
          "miR-875",
          "miR-874",
          "miR-873",
          "miR-802",
          "miR-760",
          "miR-758",
          "miR-744",
          "miR-7",
          "miR-670",
          "miR-668",
          "miR-665",
          "miR-655",
          "miR-653",
          "miR-652",
          "miR-615",
          "miR-582",
          "miR-551",
          "miR-544a",
          "miR-543",
          "miR-542",
          "miR-539",
          "miR-532",
          "miR-505",
          "miR-504",
          "miR-503",
          "miR-501/502",
          "miR-499",
          "miR-496",
          "miR-495",
          "miR-494",
          "miR-493",
          "miR-491",
          "miR-490",
          "miR-489",
          "miR-488",
          "miR-487b",
          "miR-486",
          "miR-485",
          "miR-483",
          "miR-455",
          "miR-452",
          "miR-450a",
          "miR-448",
          "miR-433",
          "miR-431",
          "miR-425",
          "miR-423",
          "miR-421",
          "miR-412",
          "miR-411",
          "miR-410",
          "miR-409",
          "miR-383",
          "miR-382",
          "miR-381",
          "miR-379",
          "miR-378a",
          "miR-377",
          "miR-376c",
          "miR-376ab",
          "miR-375",
          "miR-374",
          "miR-371",
          "miR-369",
          "miR-365",
          "miR-361",
          "miR-346",
          "miR-342",
          "miR-340",
          "miR-34/449",
          "miR-339",
          "miR-338",
          "miR-335",
          "miR-331",
          "miR-330",
          "miR-33",
          "miR-329/362",
          "miR-328",
          "miR-325",
          "miR-324",
          "miR-323a",
          "miR-31",
          "miR-302c",
          "miR-302abd",
          "miR-30",
          "miR-299",
          "miR-296",
          "miR-29",
          "miR-28/708",
          "miR-27",
          "miR-26",
          "miR-25/32/92/363/367",
          "miR-24",
          "miR-23",
          "miR-224",
          "miR-223",
          "miR-221/222",
          "miR-22",
          "miR-219",
          "miR-218",
          "miR-217",
          "miR-216b",
          "miR-216a",
          "miR-214",
          "miR-210",
          "miR-21/590",
          "miR-208",
          "miR-205",
          "miR-204/211",
          "miR-203a",
          "miR-202",
          "miR-200bc/429",
          "miR-199",
          "miR-196",
          "miR-194",
          "miR-193",
          "miR-192/215",
          "miR-191",
          "miR-190",
          "miR-19",
          "miR-188",
          "miR-187",
          "miR-186",
          "miR-185",
          "miR-184",
          "miR-183",
          "miR-182",
          "miR-181",
          "miR-18",
          "miR-17/20/93/106/519d",
          "miR-155",
          "miR-154",
          "miR-153",
          "miR-151a",
          "miR-150",
          "miR-15/16/195/424/497",
          "miR-149",
          "miR-148/152",
          "miR-147",
          "miR-146",
          "miR-145",
          "miR-144",
          "miR-143",
          "miR-142",
          "miR-141/200a",
          "miR-140",
          "miR-139",
          "miR-138",
          "miR-137",
          "miR-136",
          "miR-135",
          "miR-134",
          "miR-133",
          "miR-132/212",
          "miR-1306",
          "miR-130/301/454",
          "miR-1298",
          "miR-129",
          "miR-128",
          "miR-127",
          "miR-126",
          "miR-1251",
          "miR-125",
          "miR-1249",
          "miR-124",
          "miR-122",
          "miR-1197",
          "miR-1193",
          "miR-103/107",
          "miR-101",
          "miR-10",
          "miR-1/206",
          "let-7/miR-98"
         ],
         "categoryorder": "array",
         "domain": [
          0.515,
          1
         ],
         "matches": "y",
         "showticklabels": false
        },
        "yaxis7": {
         "anchor": "x7",
         "categoryarray": [
          "miR-99/100",
          "miR-96/1271",
          "miR-9",
          "miR-876",
          "miR-875",
          "miR-874",
          "miR-873",
          "miR-802",
          "miR-760",
          "miR-758",
          "miR-744",
          "miR-7",
          "miR-670",
          "miR-668",
          "miR-665",
          "miR-655",
          "miR-653",
          "miR-652",
          "miR-615",
          "miR-582",
          "miR-551",
          "miR-544a",
          "miR-543",
          "miR-542",
          "miR-539",
          "miR-532",
          "miR-505",
          "miR-504",
          "miR-503",
          "miR-501/502",
          "miR-499",
          "miR-496",
          "miR-495",
          "miR-494",
          "miR-493",
          "miR-491",
          "miR-490",
          "miR-489",
          "miR-488",
          "miR-487b",
          "miR-486",
          "miR-485",
          "miR-483",
          "miR-455",
          "miR-452",
          "miR-450a",
          "miR-448",
          "miR-433",
          "miR-431",
          "miR-425",
          "miR-423",
          "miR-421",
          "miR-412",
          "miR-411",
          "miR-410",
          "miR-409",
          "miR-383",
          "miR-382",
          "miR-381",
          "miR-379",
          "miR-378a",
          "miR-377",
          "miR-376c",
          "miR-376ab",
          "miR-375",
          "miR-374",
          "miR-371",
          "miR-369",
          "miR-365",
          "miR-361",
          "miR-346",
          "miR-342",
          "miR-340",
          "miR-34/449",
          "miR-339",
          "miR-338",
          "miR-335",
          "miR-331",
          "miR-330",
          "miR-33",
          "miR-329/362",
          "miR-328",
          "miR-325",
          "miR-324",
          "miR-323a",
          "miR-31",
          "miR-302c",
          "miR-302abd",
          "miR-30",
          "miR-299",
          "miR-296",
          "miR-29",
          "miR-28/708",
          "miR-27",
          "miR-26",
          "miR-25/32/92/363/367",
          "miR-24",
          "miR-23",
          "miR-224",
          "miR-223",
          "miR-221/222",
          "miR-22",
          "miR-219",
          "miR-218",
          "miR-217",
          "miR-216b",
          "miR-216a",
          "miR-214",
          "miR-210",
          "miR-21/590",
          "miR-208",
          "miR-205",
          "miR-204/211",
          "miR-203a",
          "miR-202",
          "miR-200bc/429",
          "miR-199",
          "miR-196",
          "miR-194",
          "miR-193",
          "miR-192/215",
          "miR-191",
          "miR-190",
          "miR-19",
          "miR-188",
          "miR-187",
          "miR-186",
          "miR-185",
          "miR-184",
          "miR-183",
          "miR-182",
          "miR-181",
          "miR-18",
          "miR-17/20/93/106/519d",
          "miR-155",
          "miR-154",
          "miR-153",
          "miR-151a",
          "miR-150",
          "miR-15/16/195/424/497",
          "miR-149",
          "miR-148/152",
          "miR-147",
          "miR-146",
          "miR-145",
          "miR-144",
          "miR-143",
          "miR-142",
          "miR-141/200a",
          "miR-140",
          "miR-139",
          "miR-138",
          "miR-137",
          "miR-136",
          "miR-135",
          "miR-134",
          "miR-133",
          "miR-132/212",
          "miR-1306",
          "miR-130/301/454",
          "miR-1298",
          "miR-129",
          "miR-128",
          "miR-127",
          "miR-126",
          "miR-1251",
          "miR-125",
          "miR-1249",
          "miR-124",
          "miR-122",
          "miR-1197",
          "miR-1193",
          "miR-103/107",
          "miR-101",
          "miR-10",
          "miR-1/206",
          "let-7/miR-98"
         ],
         "categoryorder": "array",
         "domain": [
          0.515,
          1
         ],
         "matches": "y",
         "showticklabels": false
        },
        "yaxis8": {
         "anchor": "x8",
         "categoryarray": [
          "miR-99/100",
          "miR-96/1271",
          "miR-9",
          "miR-876",
          "miR-875",
          "miR-874",
          "miR-873",
          "miR-802",
          "miR-760",
          "miR-758",
          "miR-744",
          "miR-7",
          "miR-670",
          "miR-668",
          "miR-665",
          "miR-655",
          "miR-653",
          "miR-652",
          "miR-615",
          "miR-582",
          "miR-551",
          "miR-544a",
          "miR-543",
          "miR-542",
          "miR-539",
          "miR-532",
          "miR-505",
          "miR-504",
          "miR-503",
          "miR-501/502",
          "miR-499",
          "miR-496",
          "miR-495",
          "miR-494",
          "miR-493",
          "miR-491",
          "miR-490",
          "miR-489",
          "miR-488",
          "miR-487b",
          "miR-486",
          "miR-485",
          "miR-483",
          "miR-455",
          "miR-452",
          "miR-450a",
          "miR-448",
          "miR-433",
          "miR-431",
          "miR-425",
          "miR-423",
          "miR-421",
          "miR-412",
          "miR-411",
          "miR-410",
          "miR-409",
          "miR-383",
          "miR-382",
          "miR-381",
          "miR-379",
          "miR-378a",
          "miR-377",
          "miR-376c",
          "miR-376ab",
          "miR-375",
          "miR-374",
          "miR-371",
          "miR-369",
          "miR-365",
          "miR-361",
          "miR-346",
          "miR-342",
          "miR-340",
          "miR-34/449",
          "miR-339",
          "miR-338",
          "miR-335",
          "miR-331",
          "miR-330",
          "miR-33",
          "miR-329/362",
          "miR-328",
          "miR-325",
          "miR-324",
          "miR-323a",
          "miR-31",
          "miR-302c",
          "miR-302abd",
          "miR-30",
          "miR-299",
          "miR-296",
          "miR-29",
          "miR-28/708",
          "miR-27",
          "miR-26",
          "miR-25/32/92/363/367",
          "miR-24",
          "miR-23",
          "miR-224",
          "miR-223",
          "miR-221/222",
          "miR-22",
          "miR-219",
          "miR-218",
          "miR-217",
          "miR-216b",
          "miR-216a",
          "miR-214",
          "miR-210",
          "miR-21/590",
          "miR-208",
          "miR-205",
          "miR-204/211",
          "miR-203a",
          "miR-202",
          "miR-200bc/429",
          "miR-199",
          "miR-196",
          "miR-194",
          "miR-193",
          "miR-192/215",
          "miR-191",
          "miR-190",
          "miR-19",
          "miR-188",
          "miR-187",
          "miR-186",
          "miR-185",
          "miR-184",
          "miR-183",
          "miR-182",
          "miR-181",
          "miR-18",
          "miR-17/20/93/106/519d",
          "miR-155",
          "miR-154",
          "miR-153",
          "miR-151a",
          "miR-150",
          "miR-15/16/195/424/497",
          "miR-149",
          "miR-148/152",
          "miR-147",
          "miR-146",
          "miR-145",
          "miR-144",
          "miR-143",
          "miR-142",
          "miR-141/200a",
          "miR-140",
          "miR-139",
          "miR-138",
          "miR-137",
          "miR-136",
          "miR-135",
          "miR-134",
          "miR-133",
          "miR-132/212",
          "miR-1306",
          "miR-130/301/454",
          "miR-1298",
          "miR-129",
          "miR-128",
          "miR-127",
          "miR-126",
          "miR-1251",
          "miR-125",
          "miR-1249",
          "miR-124",
          "miR-122",
          "miR-1197",
          "miR-1193",
          "miR-103/107",
          "miR-101",
          "miR-10",
          "miR-1/206",
          "let-7/miR-98"
         ],
         "categoryorder": "array",
         "domain": [
          0.515,
          1
         ],
         "matches": "y",
         "showticklabels": false
        }
       }
      },
      "text/html": [
       "<div>                            <div id=\"2a656c45-10bb-41c8-a301-96a7cdceab4e\" class=\"plotly-graph-div\" style=\"height:920px; width:1700px;\"></div>            <script type=\"text/javascript\">                require([\"plotly\"], function(Plotly) {                    window.PLOTLYENV=window.PLOTLYENV || {};                                    if (document.getElementById(\"2a656c45-10bb-41c8-a301-96a7cdceab4e\")) {                    Plotly.newPlot(                        \"2a656c45-10bb-41c8-a301-96a7cdceab4e\",                        [{\"alignmentgroup\":\"True\",\"customdata\":[[1,771],[1,771],[1,771],[1,771],[59,771],[1,771],[7,771],[2,771],[2,771],[1,771],[2,771],[3,771],[5,771],[11,771],[15,771],[1,771],[3,771],[43,771],[4,771],[1,771],[4,771],[11,771],[2,771],[2,771],[3,771],[51,771],[4,771],[7,771],[2,771],[2,771],[1,771],[1,771],[2,771],[2,771],[21,771],[1,771],[1,771],[2,771],[1,771],[3,771],[1,771],[1,771],[1,771],[1,771]],\"hovertemplate\":\"strand=mirna_p<br>type=cCREs without Repeats<br>group=z-dna<br>total_count_rel=%{x}<br>mirna=%{y}<br>total_count=%{customdata[0]}<br>total_group_counts=%{customdata[1]}<extra></extra>\",\"legendgroup\":\"mirna_p\",\"marker\":{\"color\":\"tomato\",\"pattern\":{\"shape\":\"\"}},\"name\":\"mirna_p\",\"offsetgroup\":\"mirna_p\",\"orientation\":\"h\",\"showlegend\":true,\"textposition\":\"auto\",\"x\":[0.12970168612191957,0.12970168612191957,0.12970168612191957,0.12970168612191957,7.652399481193256,0.12970168612191957,0.9079118028534372,0.25940337224383914,0.25940337224383914,0.12970168612191957,0.25940337224383914,0.38910505836575876,0.648508430609598,1.4267185473411155,1.9455252918287937,0.12970168612191957,0.38910505836575876,5.577172503242543,0.5188067444876783,0.12970168612191957,0.5188067444876783,1.4267185473411155,0.25940337224383914,0.25940337224383914,0.38910505836575876,6.614785992217899,0.5188067444876783,0.9079118028534372,0.25940337224383914,0.25940337224383914,0.12970168612191957,0.12970168612191957,0.25940337224383914,0.25940337224383914,2.7237354085603114,0.12970168612191957,0.12970168612191957,0.25940337224383914,0.12970168612191957,0.38910505836575876,0.12970168612191957,0.12970168612191957,0.12970168612191957,0.12970168612191957],\"xaxis\":\"x5\",\"y\":[\"miR-99/100\",\"miR-96/1271\",\"miR-874\",\"miR-873\",\"miR-744\",\"miR-615\",\"miR-532\",\"miR-501/502\",\"miR-493\",\"miR-486\",\"miR-483\",\"miR-455\",\"miR-423\",\"miR-377\",\"miR-342\",\"miR-335\",\"miR-331\",\"miR-329/362\",\"miR-324\",\"miR-30\",\"miR-299\",\"miR-296\",\"miR-25/32/92/363/367\",\"miR-218\",\"miR-214\",\"miR-210\",\"miR-19\",\"miR-187\",\"miR-184\",\"miR-183\",\"miR-18\",\"miR-153\",\"miR-151a\",\"miR-148/152\",\"miR-147\",\"miR-140\",\"miR-138\",\"miR-1306\",\"miR-128\",\"miR-1249\",\"miR-122\",\"miR-1197\",\"miR-103/107\",\"miR-10\"],\"yaxis\":\"y5\",\"type\":\"bar\"},{\"alignmentgroup\":\"True\",\"customdata\":[[4,8859],[4,8859],[4,8859],[9,8859],[7,8859],[2,8859],[8,8859],[6,8859],[1,8859],[4,8859],[6,8859],[1,8859],[14,8859],[4,8859],[2,8859],[9,8859],[10,8859],[11,8859],[2,8859],[3,8859],[12,8859],[8,8859],[1,8859],[2,8859],[5,8859],[7,8859],[5,8859],[17,8859],[5,8859],[8,8859],[6,8859],[2,8859],[14,8859],[2,8859],[12,8859],[4,8859],[8,8859],[15,8859],[3,8859],[10,8859],[2,8859],[6,8859],[6,8859],[1,8859],[1,8859],[8,8859],[8,8859],[5,8859],[1,8859],[10,8859],[11,8859],[9,8859],[3,8859],[3,8859],[12,8859],[7,8859],[8,8859],[3,8859],[4,8859],[6,8859],[13,8859],[1,8859],[1,8859],[4,8859],[1,8859],[26,8859],[7,8859],[19,8859],[9,8859],[11,8859],[3,8859],[1,8859],[6,8859],[6,8859],[16,8859],[7,8859],[11,8859],[1,8859],[2,8859],[4,8859],[3,8859],[2,8859],[7,8859],[8,8859],[4,8859],[5,8859],[1,8859],[4,8859],[12,8859],[2,8859],[11,8859],[10,8859],[6,8859],[3,8859],[6,8859],[1,8859],[12,8859],[22,8859],[15,8859],[3,8859],[8,8859],[3,8859],[4,8859],[5,8859],[3,8859],[2,8859],[1,8859],[5,8859],[12,8859],[3,8859],[15,8859],[19,8859],[3,8859],[7,8859],[6,8859],[6,8859],[2,8859],[7,8859],[3,8859],[3,8859],[4,8859],[6,8859],[6,8859],[5,8859],[8,8859],[11,8859],[1,8859],[18,8859],[5,8859],[3,8859],[4,8859],[31,8859],[24,8859],[19,8859],[8,8859],[1,8859],[4,8859],[3,8859],[7,8859],[15,8859],[3,8859],[6,8859],[8,8859],[1,8859],[26,8859],[8,8859],[3,8859],[5,8859],[5,8859],[2,8859],[10,8859],[6,8859],[3,8859],[6,8859],[3,8859],[6,8859],[5,8859],[4,8859]],\"hovertemplate\":\"strand=mirna_p<br>type=cCREs without Repeats<br>group=sidd<br>total_count_rel=%{x}<br>mirna=%{y}<br>total_count=%{customdata[0]}<br>total_group_counts=%{customdata[1]}<extra></extra>\",\"legendgroup\":\"mirna_p\",\"marker\":{\"color\":\"tomato\",\"pattern\":{\"shape\":\"\"}},\"name\":\"mirna_p\",\"offsetgroup\":\"mirna_p\",\"orientation\":\"h\",\"showlegend\":false,\"textposition\":\"auto\",\"x\":[0.04515182300485382,0.04515182300485382,0.04515182300485382,0.1015916017609211,0.07901569025849418,0.02257591150242691,0.09030364600970764,0.06772773450728073,0.011287955751213455,0.04515182300485382,0.06772773450728073,0.011287955751213455,0.15803138051698837,0.04515182300485382,0.02257591150242691,0.1015916017609211,0.11287955751213455,0.12416751326334802,0.02257591150242691,0.033863867253640365,0.13545546901456146,0.09030364600970764,0.011287955751213455,0.02257591150242691,0.056439778756067274,0.07901569025849418,0.056439778756067274,0.19189524777062872,0.056439778756067274,0.09030364600970764,0.06772773450728073,0.02257591150242691,0.15803138051698837,0.02257591150242691,0.13545546901456146,0.04515182300485382,0.09030364600970764,0.16931933626820184,0.033863867253640365,0.11287955751213455,0.02257591150242691,0.06772773450728073,0.06772773450728073,0.011287955751213455,0.011287955751213455,0.09030364600970764,0.09030364600970764,0.056439778756067274,0.011287955751213455,0.11287955751213455,0.12416751326334802,0.1015916017609211,0.033863867253640365,0.033863867253640365,0.13545546901456146,0.07901569025849418,0.09030364600970764,0.033863867253640365,0.04515182300485382,0.06772773450728073,0.14674342476577493,0.011287955751213455,0.011287955751213455,0.04515182300485382,0.011287955751213455,0.29348684953154985,0.07901569025849418,0.21447115927305566,0.1015916017609211,0.12416751326334802,0.033863867253640365,0.011287955751213455,0.06772773450728073,0.06772773450728073,0.18060729201941528,0.07901569025849418,0.12416751326334802,0.011287955751213455,0.02257591150242691,0.04515182300485382,0.033863867253640365,0.02257591150242691,0.07901569025849418,0.09030364600970764,0.04515182300485382,0.056439778756067274,0.011287955751213455,0.04515182300485382,0.13545546901456146,0.02257591150242691,0.12416751326334802,0.11287955751213455,0.06772773450728073,0.033863867253640365,0.06772773450728073,0.011287955751213455,0.13545546901456146,0.24833502652669603,0.16931933626820184,0.033863867253640365,0.09030364600970764,0.033863867253640365,0.04515182300485382,0.056439778756067274,0.033863867253640365,0.02257591150242691,0.011287955751213455,0.056439778756067274,0.13545546901456146,0.033863867253640365,0.16931933626820184,0.21447115927305566,0.033863867253640365,0.07901569025849418,0.06772773450728073,0.06772773450728073,0.02257591150242691,0.07901569025849418,0.033863867253640365,0.033863867253640365,0.04515182300485382,0.06772773450728073,0.06772773450728073,0.056439778756067274,0.09030364600970764,0.12416751326334802,0.011287955751213455,0.2031832035218422,0.056439778756067274,0.033863867253640365,0.04515182300485382,0.3499266282876171,0.2709109380291229,0.21447115927305566,0.09030364600970764,0.011287955751213455,0.04515182300485382,0.033863867253640365,0.07901569025849418,0.16931933626820184,0.033863867253640365,0.06772773450728073,0.09030364600970764,0.011287955751213455,0.29348684953154985,0.09030364600970764,0.033863867253640365,0.056439778756067274,0.056439778756067274,0.02257591150242691,0.11287955751213455,0.06772773450728073,0.033863867253640365,0.06772773450728073,0.033863867253640365,0.06772773450728073,0.056439778756067274,0.04515182300485382],\"xaxis\":\"x6\",\"y\":[\"miR-96/1271\",\"miR-9\",\"miR-876\",\"miR-874\",\"miR-873\",\"miR-802\",\"miR-760\",\"miR-758\",\"miR-744\",\"miR-7\",\"miR-670\",\"miR-668\",\"miR-655\",\"miR-653\",\"miR-615\",\"miR-582\",\"miR-544a\",\"miR-543\",\"miR-542\",\"miR-539\",\"miR-532\",\"miR-505\",\"miR-504\",\"miR-503\",\"miR-501/502\",\"miR-499\",\"miR-496\",\"miR-495\",\"miR-494\",\"miR-493\",\"miR-491\",\"miR-490\",\"miR-488\",\"miR-486\",\"miR-485\",\"miR-483\",\"miR-455\",\"miR-452\",\"miR-450a\",\"miR-448\",\"miR-425\",\"miR-423\",\"miR-421\",\"miR-411\",\"miR-410\",\"miR-409\",\"miR-383\",\"miR-382\",\"miR-381\",\"miR-379\",\"miR-378a\",\"miR-377\",\"miR-376c\",\"miR-376ab\",\"miR-374\",\"miR-371\",\"miR-369\",\"miR-365\",\"miR-361\",\"miR-342\",\"miR-340\",\"miR-34/449\",\"miR-338\",\"miR-335\",\"miR-331\",\"miR-330\",\"miR-33\",\"miR-329/362\",\"miR-328\",\"miR-325\",\"miR-323a\",\"miR-31\",\"miR-302c\",\"miR-302abd\",\"miR-30\",\"miR-299\",\"miR-296\",\"miR-29\",\"miR-28/708\",\"miR-27\",\"miR-26\",\"miR-25/32/92/363/367\",\"miR-24\",\"miR-23\",\"miR-224\",\"miR-223\",\"miR-221/222\",\"miR-22\",\"miR-218\",\"miR-217\",\"miR-216b\",\"miR-216a\",\"miR-214\",\"miR-210\",\"miR-21/590\",\"miR-208\",\"miR-205\",\"miR-204/211\",\"miR-203a\",\"miR-202\",\"miR-200bc/429\",\"miR-199\",\"miR-194\",\"miR-193\",\"miR-192/215\",\"miR-191\",\"miR-190\",\"miR-19\",\"miR-188\",\"miR-187\",\"miR-186\",\"miR-185\",\"miR-184\",\"miR-183\",\"miR-182\",\"miR-181\",\"miR-18\",\"miR-17/20/93/106/519d\",\"miR-155\",\"miR-154\",\"miR-153\",\"miR-151a\",\"miR-150\",\"miR-15/16/195/424/497\",\"miR-149\",\"miR-148/152\",\"miR-147\",\"miR-146\",\"miR-145\",\"miR-144\",\"miR-143\",\"miR-142\",\"miR-141/200a\",\"miR-140\",\"miR-139\",\"miR-138\",\"miR-137\",\"miR-136\",\"miR-135\",\"miR-134\",\"miR-133\",\"miR-132/212\",\"miR-1306\",\"miR-130/301/454\",\"miR-129\",\"miR-128\",\"miR-1251\",\"miR-125\",\"miR-1249\",\"miR-124\",\"miR-122\",\"miR-1197\",\"miR-1193\",\"miR-103/107\",\"miR-101\",\"miR-10\",\"miR-1/206\",\"let-7/miR-98\"],\"yaxis\":\"y6\",\"type\":\"bar\"},{\"alignmentgroup\":\"True\",\"customdata\":[[20,2007],[3,2007],[10,2007],[1,2007],[210,2007],[3,2007],[9,2007],[10,2007],[4,2007],[3,2007],[30,2007],[11,2007],[3,2007],[2,2007],[1,2007],[81,2007],[2,2007],[1,2007],[12,2007],[2,2007],[120,2007],[1,2007],[1,2007],[2,2007],[1,2007],[2,2007],[3,2007],[2,2007],[12,2007],[31,2007],[20,2007],[18,2007],[2,2007],[4,2007],[5,2007],[4,2007],[10,2007],[79,2007],[3,2007],[11,2007],[3,2007],[2,2007],[1,2007],[1,2007],[3,2007],[2,2007],[10,2007],[1,2007],[4,2007],[13,2007],[6,2007],[1,2007],[1,2007],[1,2007],[10,2007],[1,2007],[4,2007],[3,2007],[5,2007],[1,2007],[6,2007],[2,2007],[1,2007],[7,2007],[14,2007],[4,2007],[4,2007],[4,2007],[1,2007],[13,2007],[11,2007],[1,2007],[3,2007],[1,2007],[6,2007],[1,2007],[1,2007]],\"hovertemplate\":\"strand=mirna_p<br>type=cCREs without Repeats<br>group=g4<br>total_count_rel=%{x}<br>mirna=%{y}<br>total_count=%{customdata[0]}<br>total_group_counts=%{customdata[1]}<extra></extra>\",\"legendgroup\":\"mirna_p\",\"marker\":{\"color\":\"tomato\",\"pattern\":{\"shape\":\"\"}},\"name\":\"mirna_p\",\"offsetgroup\":\"mirna_p\",\"orientation\":\"h\",\"showlegend\":false,\"textposition\":\"auto\",\"x\":[0.9965122072745392,0.14947683109118087,0.4982561036372696,0.04982561036372695,10.46337817638266,0.14947683109118087,0.4484304932735426,0.4982561036372696,0.1993024414549078,0.14947683109118087,1.4947683109118086,0.5480817140009965,0.14947683109118087,0.0996512207274539,0.04982561036372695,4.0358744394618835,0.0996512207274539,0.04982561036372695,0.5979073243647235,0.0996512207274539,5.9790732436472345,0.04982561036372695,0.04982561036372695,0.0996512207274539,0.04982561036372695,0.0996512207274539,0.14947683109118087,0.0996512207274539,0.5979073243647235,1.5445939212755355,0.9965122072745392,0.8968609865470852,0.0996512207274539,0.1993024414549078,0.2491280518186348,0.1993024414549078,0.4982561036372696,3.9362232187344297,0.14947683109118087,0.5480817140009965,0.14947683109118087,0.0996512207274539,0.04982561036372695,0.04982561036372695,0.14947683109118087,0.0996512207274539,0.4982561036372696,0.04982561036372695,0.1993024414549078,0.6477329347284505,0.29895366218236175,0.04982561036372695,0.04982561036372695,0.04982561036372695,0.4982561036372696,0.04982561036372695,0.1993024414549078,0.14947683109118087,0.2491280518186348,0.04982561036372695,0.29895366218236175,0.0996512207274539,0.04982561036372695,0.3487792725460887,0.6975585450921774,0.1993024414549078,0.1993024414549078,0.1993024414549078,0.04982561036372695,0.6477329347284505,0.5480817140009965,0.04982561036372695,0.14947683109118087,0.04982561036372695,0.29895366218236175,0.04982561036372695,0.04982561036372695],\"xaxis\":\"x7\",\"y\":[\"miR-874\",\"miR-873\",\"miR-760\",\"miR-758\",\"miR-744\",\"miR-7\",\"miR-665\",\"miR-615\",\"miR-551\",\"miR-542\",\"miR-532\",\"miR-504\",\"miR-503\",\"miR-501/502\",\"miR-493\",\"miR-491\",\"miR-490\",\"miR-488\",\"miR-485\",\"miR-455\",\"miR-423\",\"miR-412\",\"miR-409\",\"miR-379\",\"miR-371\",\"miR-365\",\"miR-346\",\"miR-342\",\"miR-34/449\",\"miR-339\",\"miR-331\",\"miR-330\",\"miR-329/362\",\"miR-328\",\"miR-324\",\"miR-31\",\"miR-299\",\"miR-296\",\"miR-28/708\",\"miR-24\",\"miR-22\",\"miR-214\",\"miR-210\",\"miR-205\",\"miR-204/211\",\"miR-199\",\"miR-193\",\"miR-19\",\"miR-188\",\"miR-185\",\"miR-184\",\"miR-182\",\"miR-18\",\"miR-151a\",\"miR-150\",\"miR-149\",\"miR-147\",\"miR-146\",\"miR-143\",\"miR-140\",\"miR-138\",\"miR-136\",\"miR-134\",\"miR-133\",\"miR-1306\",\"miR-129\",\"miR-128\",\"miR-127\",\"miR-1251\",\"miR-125\",\"miR-1249\",\"miR-124\",\"miR-122\",\"miR-103/107\",\"miR-10\",\"miR-1/206\",\"let-7/miR-98\"],\"yaxis\":\"y7\",\"type\":\"bar\"},{\"alignmentgroup\":\"True\",\"customdata\":[[2,252],[3,252],[1,252],[1,252],[1,252],[1,252],[3,252],[1,252],[4,252],[7,252],[2,252],[1,252],[6,252],[1,252],[29,252],[1,252],[1,252],[1,252],[7,252],[1,252]],\"hovertemplate\":\"strand=mirna_p<br>type=cCREs without Repeats<br>group=h-dna<br>total_count_rel=%{x}<br>mirna=%{y}<br>total_count=%{customdata[0]}<br>total_group_counts=%{customdata[1]}<extra></extra>\",\"legendgroup\":\"mirna_p\",\"marker\":{\"color\":\"tomato\",\"pattern\":{\"shape\":\"\"}},\"name\":\"mirna_p\",\"offsetgroup\":\"mirna_p\",\"orientation\":\"h\",\"showlegend\":false,\"textposition\":\"auto\",\"x\":[0.7936507936507936,1.1904761904761905,0.3968253968253968,0.3968253968253968,0.3968253968253968,0.3968253968253968,1.1904761904761905,0.3968253968253968,1.5873015873015872,2.7777777777777777,0.7936507936507936,0.3968253968253968,2.380952380952381,0.3968253968253968,11.507936507936508,0.3968253968253968,0.3968253968253968,0.3968253968253968,2.7777777777777777,0.3968253968253968],\"xaxis\":\"x8\",\"y\":[\"miR-873\",\"miR-744\",\"miR-668\",\"miR-615\",\"miR-532\",\"miR-495\",\"miR-491\",\"miR-485\",\"miR-483\",\"miR-423\",\"miR-339\",\"miR-28/708\",\"miR-204/211\",\"miR-191\",\"miR-185\",\"miR-184\",\"miR-150\",\"miR-143\",\"miR-1306\",\"miR-129\"],\"yaxis\":\"y8\",\"type\":\"bar\"},{\"alignmentgroup\":\"True\",\"customdata\":[[1,771],[1,771],[5,771],[1,771],[18,771],[4,771],[9,771],[8,771],[12,771],[1,771],[1,771],[2,771],[34,771],[1,771],[1,771],[1,771],[1,771],[3,771],[1,771],[1,771]],\"hovertemplate\":\"strand=mirna_p<br>type=Repeats without cCREs<br>group=z-dna<br>total_count_rel=%{x}<br>mirna=%{y}<br>total_count=%{customdata[0]}<br>total_group_counts=%{customdata[1]}<extra></extra>\",\"legendgroup\":\"mirna_p\",\"marker\":{\"color\":\"tomato\",\"pattern\":{\"shape\":\"\"}},\"name\":\"mirna_p\",\"offsetgroup\":\"mirna_p\",\"orientation\":\"h\",\"showlegend\":false,\"textposition\":\"auto\",\"x\":[0.12970168612191957,0.12970168612191957,0.648508430609598,0.12970168612191957,2.3346303501945527,0.5188067444876783,1.1673151750972763,1.0376134889753565,1.556420233463035,0.12970168612191957,0.12970168612191957,0.25940337224383914,4.409857328145266,0.12970168612191957,0.12970168612191957,0.12970168612191957,0.12970168612191957,0.38910505836575876,0.12970168612191957,0.12970168612191957],\"xaxis\":\"x\",\"y\":[\"miR-744\",\"miR-501/502\",\"miR-493\",\"miR-486\",\"miR-455\",\"miR-448\",\"miR-377\",\"miR-342\",\"miR-329/362\",\"miR-324\",\"miR-299\",\"miR-218\",\"miR-210\",\"miR-187\",\"miR-183\",\"miR-18\",\"miR-153\",\"miR-147\",\"miR-142\",\"miR-138\"],\"yaxis\":\"y\",\"type\":\"bar\"},{\"alignmentgroup\":\"True\",\"customdata\":[[8,8859],[21,8859],[15,8859],[17,8859],[21,8859],[23,8859],[5,8859],[5,8859],[25,8859],[75,8859],[2,8859],[7,8859],[42,8859],[43,8859],[50,8859],[15,8859],[23,8859],[10,8859],[16,8859],[27,8859],[24,8859],[4,8859],[6,8859],[33,8859],[15,8859],[33,8859],[10,8859],[30,8859],[9,8859],[21,8859],[10,8859],[17,8859],[22,8859],[4,8859],[26,8859],[31,8859],[32,8859],[7,8859],[37,8859],[19,8859],[2,8859],[5,8859],[9,8859],[12,8859],[23,8859],[31,8859],[40,8859],[14,8859],[41,8859],[22,8859],[18,8859],[20,8859],[25,8859],[42,8859],[25,8859],[4,8859],[96,8859],[2,8859],[37,8859],[15,8859],[23,8859],[14,8859],[12,8859],[51,8859],[11,8859],[5,8859],[23,8859],[7,8859],[8,8859],[50,8859],[12,8859],[14,8859],[4,8859],[54,8859],[5,8859],[17,8859],[8,8859],[18,8859],[36,8859],[20,8859],[33,8859],[10,8859],[14,8859],[7,8859],[29,8859],[8,8859],[5,8859],[13,8859],[45,8859],[2,8859],[19,8859],[16,8859],[12,8859],[3,8859],[11,8859],[12,8859],[42,8859],[32,8859],[13,8859],[16,8859],[2,8859],[55,8859],[310,8859],[16,8859],[26,8859],[21,8859],[17,8859],[8,8859],[14,8859],[7,8859],[15,8859],[13,8859],[24,8859],[1,8859],[96,8859],[25,8859],[6,8859],[14,8859],[32,8859],[1,8859],[10,8859],[27,8859],[25,8859],[7,8859],[12,8859],[12,8859],[9,8859],[6,8859],[2,8859],[1,8859],[10,8859],[10,8859],[29,8859],[16,8859],[45,8859],[19,8859],[26,8859],[16,8859],[16,8859],[39,8859],[16,8859],[8,8859],[7,8859],[17,8859],[2,8859],[4,8859],[1,8859],[53,8859],[17,8859],[4,8859],[13,8859],[1,8859],[14,8859],[19,8859],[3,8859],[8,8859],[7,8859],[40,8859],[14,8859],[27,8859],[5,8859]],\"hovertemplate\":\"strand=mirna_p<br>type=Repeats without cCREs<br>group=sidd<br>total_count_rel=%{x}<br>mirna=%{y}<br>total_count=%{customdata[0]}<br>total_group_counts=%{customdata[1]}<extra></extra>\",\"legendgroup\":\"mirna_p\",\"marker\":{\"color\":\"tomato\",\"pattern\":{\"shape\":\"\"}},\"name\":\"mirna_p\",\"offsetgroup\":\"mirna_p\",\"orientation\":\"h\",\"showlegend\":false,\"textposition\":\"auto\",\"x\":[0.09030364600970764,0.23704707077548257,0.16931933626820184,0.19189524777062872,0.23704707077548257,0.2596229822779095,0.056439778756067274,0.056439778756067274,0.28219889378033636,0.8465966813410091,0.02257591150242691,0.07901569025849418,0.47409414155096513,0.4853820973021786,0.5643977875606727,0.16931933626820184,0.2596229822779095,0.11287955751213455,0.18060729201941528,0.3047748052827633,0.2709109380291229,0.04515182300485382,0.06772773450728073,0.37250253979004405,0.16931933626820184,0.37250253979004405,0.11287955751213455,0.3386386725364037,0.1015916017609211,0.23704707077548257,0.11287955751213455,0.19189524777062872,0.24833502652669603,0.04515182300485382,0.29348684953154985,0.3499266282876171,0.36121458403883056,0.07901569025849418,0.41765436279489787,0.21447115927305566,0.02257591150242691,0.056439778756067274,0.1015916017609211,0.13545546901456146,0.2596229822779095,0.3499266282876171,0.4515182300485382,0.15803138051698837,0.4628061857997517,0.24833502652669603,0.2031832035218422,0.2257591150242691,0.28219889378033636,0.47409414155096513,0.28219889378033636,0.04515182300485382,1.0836437521164917,0.02257591150242691,0.41765436279489787,0.16931933626820184,0.2596229822779095,0.15803138051698837,0.13545546901456146,0.5756857433118863,0.12416751326334802,0.056439778756067274,0.2596229822779095,0.07901569025849418,0.09030364600970764,0.5643977875606727,0.13545546901456146,0.15803138051698837,0.04515182300485382,0.6095496105655266,0.056439778756067274,0.19189524777062872,0.09030364600970764,0.2031832035218422,0.4063664070436844,0.2257591150242691,0.37250253979004405,0.11287955751213455,0.15803138051698837,0.07901569025849418,0.32735071678519023,0.09030364600970764,0.056439778756067274,0.14674342476577493,0.5079580088046055,0.02257591150242691,0.21447115927305566,0.18060729201941528,0.13545546901456146,0.033863867253640365,0.12416751326334802,0.13545546901456146,0.47409414155096513,0.36121458403883056,0.14674342476577493,0.18060729201941528,0.02257591150242691,0.62083756631674,3.4992662828761714,0.18060729201941528,0.29348684953154985,0.23704707077548257,0.19189524777062872,0.09030364600970764,0.15803138051698837,0.07901569025849418,0.16931933626820184,0.14674342476577493,0.2709109380291229,0.011287955751213455,1.0836437521164917,0.28219889378033636,0.06772773450728073,0.15803138051698837,0.36121458403883056,0.011287955751213455,0.11287955751213455,0.3047748052827633,0.28219889378033636,0.07901569025849418,0.13545546901456146,0.13545546901456146,0.1015916017609211,0.06772773450728073,0.02257591150242691,0.011287955751213455,0.11287955751213455,0.11287955751213455,0.32735071678519023,0.18060729201941528,0.5079580088046055,0.21447115927305566,0.29348684953154985,0.18060729201941528,0.18060729201941528,0.44023027429732475,0.18060729201941528,0.09030364600970764,0.07901569025849418,0.19189524777062872,0.02257591150242691,0.04515182300485382,0.011287955751213455,0.5982616548143131,0.19189524777062872,0.04515182300485382,0.14674342476577493,0.011287955751213455,0.15803138051698837,0.21447115927305566,0.033863867253640365,0.09030364600970764,0.07901569025849418,0.4515182300485382,0.15803138051698837,0.3047748052827633,0.056439778756067274],\"xaxis\":\"x2\",\"y\":[\"miR-96/1271\",\"miR-9\",\"miR-876\",\"miR-875\",\"miR-874\",\"miR-873\",\"miR-802\",\"miR-760\",\"miR-758\",\"miR-670\",\"miR-668\",\"miR-665\",\"miR-655\",\"miR-653\",\"miR-582\",\"miR-544a\",\"miR-543\",\"miR-542\",\"miR-539\",\"miR-532\",\"miR-505\",\"miR-504\",\"miR-501/502\",\"miR-499\",\"miR-496\",\"miR-495\",\"miR-494\",\"miR-493\",\"miR-491\",\"miR-490\",\"miR-489\",\"miR-488\",\"miR-486\",\"miR-485\",\"miR-483\",\"miR-455\",\"miR-452\",\"miR-450a\",\"miR-448\",\"miR-433\",\"miR-431\",\"miR-425\",\"miR-423\",\"miR-421\",\"miR-411\",\"miR-410\",\"miR-409\",\"miR-383\",\"miR-382\",\"miR-381\",\"miR-379\",\"miR-378a\",\"miR-377\",\"miR-376c\",\"miR-376ab\",\"miR-375\",\"miR-374\",\"miR-371\",\"miR-369\",\"miR-365\",\"miR-361\",\"miR-346\",\"miR-342\",\"miR-340\",\"miR-34/449\",\"miR-339\",\"miR-338\",\"miR-335\",\"miR-331\",\"miR-330\",\"miR-33\",\"miR-329/362\",\"miR-328\",\"miR-325\",\"miR-324\",\"miR-323a\",\"miR-31\",\"miR-302c\",\"miR-302abd\",\"miR-30\",\"miR-299\",\"miR-296\",\"miR-29\",\"miR-28/708\",\"miR-27\",\"miR-26\",\"miR-25/32/92/363/367\",\"miR-24\",\"miR-23\",\"miR-224\",\"miR-223\",\"miR-221/222\",\"miR-22\",\"miR-219\",\"miR-218\",\"miR-217\",\"miR-216b\",\"miR-216a\",\"miR-214\",\"miR-21/590\",\"miR-205\",\"miR-204/211\",\"miR-203a\",\"miR-202\",\"miR-200bc/429\",\"miR-199\",\"miR-196\",\"miR-194\",\"miR-193\",\"miR-192/215\",\"miR-190\",\"miR-19\",\"miR-188\",\"miR-187\",\"miR-186\",\"miR-185\",\"miR-183\",\"miR-182\",\"miR-181\",\"miR-18\",\"miR-17/20/93/106/519d\",\"miR-155\",\"miR-154\",\"miR-153\",\"miR-151a\",\"miR-150\",\"miR-15/16/195/424/497\",\"miR-149\",\"miR-148/152\",\"miR-147\",\"miR-146\",\"miR-145\",\"miR-144\",\"miR-143\",\"miR-142\",\"miR-141/200a\",\"miR-140\",\"miR-139\",\"miR-137\",\"miR-136\",\"miR-135\",\"miR-134\",\"miR-133\",\"miR-132/212\",\"miR-1306\",\"miR-130/301/454\",\"miR-1298\",\"miR-129\",\"miR-128\",\"miR-1251\",\"miR-125\",\"miR-1249\",\"miR-124\",\"miR-122\",\"miR-1197\",\"miR-1193\",\"miR-103/107\",\"miR-101\",\"miR-10\",\"miR-1/206\",\"let-7/miR-98\"],\"yaxis\":\"y2\",\"type\":\"bar\"},{\"alignmentgroup\":\"True\",\"customdata\":[[1,2007],[12,2007],[1,2007],[2,2007],[1,2007],[1,2007],[1,2007],[14,2007],[2,2007],[24,2007],[1,2007],[10,2007],[1,2007],[3,2007],[2,2007],[1,2007],[1,2007],[1,2007],[7,2007],[15,2007],[2,2007],[6,2007],[7,2007],[1,2007],[2,2007],[15,2007],[1,2007],[1,2007],[1,2007],[3,2007],[2,2007],[1,2007],[1,2007],[1,2007],[6,2007],[1,2007],[1,2007],[3,2007],[1,2007]],\"hovertemplate\":\"strand=mirna_p<br>type=Repeats without cCREs<br>group=g4<br>total_count_rel=%{x}<br>mirna=%{y}<br>total_count=%{customdata[0]}<br>total_group_counts=%{customdata[1]}<extra></extra>\",\"legendgroup\":\"mirna_p\",\"marker\":{\"color\":\"tomato\",\"pattern\":{\"shape\":\"\"}},\"name\":\"mirna_p\",\"offsetgroup\":\"mirna_p\",\"orientation\":\"h\",\"showlegend\":false,\"textposition\":\"auto\",\"x\":[0.04982561036372695,0.5979073243647235,0.04982561036372695,0.0996512207274539,0.04982561036372695,0.04982561036372695,0.04982561036372695,0.6975585450921774,0.0996512207274539,1.195814648729447,0.04982561036372695,0.4982561036372696,0.04982561036372695,0.14947683109118087,0.0996512207274539,0.04982561036372695,0.04982561036372695,0.04982561036372695,0.3487792725460887,0.7473841554559043,0.0996512207274539,0.29895366218236175,0.3487792725460887,0.04982561036372695,0.0996512207274539,0.7473841554559043,0.04982561036372695,0.04982561036372695,0.04982561036372695,0.14947683109118087,0.0996512207274539,0.04982561036372695,0.04982561036372695,0.04982561036372695,0.29895366218236175,0.04982561036372695,0.04982561036372695,0.14947683109118087,0.04982561036372695],\"xaxis\":\"x3\",\"y\":[\"miR-875\",\"miR-874\",\"miR-873\",\"miR-760\",\"miR-744\",\"miR-615\",\"miR-551\",\"miR-532\",\"miR-504\",\"miR-491\",\"miR-485\",\"miR-423\",\"miR-409\",\"miR-365\",\"miR-34/449\",\"miR-339\",\"miR-338\",\"miR-331\",\"miR-330\",\"miR-328\",\"miR-324\",\"miR-299\",\"miR-296\",\"miR-204/211\",\"miR-188\",\"miR-185\",\"miR-184\",\"miR-17/20/93/106/519d\",\"miR-154\",\"miR-150\",\"miR-140\",\"miR-138\",\"miR-134\",\"miR-133\",\"miR-1306\",\"miR-129\",\"miR-1249\",\"miR-122\",\"miR-1/206\"],\"yaxis\":\"y3\",\"type\":\"bar\"},{\"alignmentgroup\":\"True\",\"customdata\":[[1,252],[1,252],[4,252],[1,252],[35,252],[1,252],[1,252]],\"hovertemplate\":\"strand=mirna_p<br>type=Repeats without cCREs<br>group=h-dna<br>total_count_rel=%{x}<br>mirna=%{y}<br>total_count=%{customdata[0]}<br>total_group_counts=%{customdata[1]}<extra></extra>\",\"legendgroup\":\"mirna_p\",\"marker\":{\"color\":\"tomato\",\"pattern\":{\"shape\":\"\"}},\"name\":\"mirna_p\",\"offsetgroup\":\"mirna_p\",\"orientation\":\"h\",\"showlegend\":false,\"textposition\":\"auto\",\"x\":[0.3968253968253968,0.3968253968253968,1.5873015873015872,0.3968253968253968,13.88888888888889,0.3968253968253968,0.3968253968253968],\"xaxis\":\"x4\",\"y\":[\"miR-491\",\"miR-339\",\"miR-204/211\",\"miR-186\",\"miR-185\",\"miR-1306\",\"let-7/miR-98\"],\"yaxis\":\"y4\",\"type\":\"bar\"},{\"alignmentgroup\":\"True\",\"customdata\":[[-3,771],[-1,771],[-2,771],[-54,771],[-1,771],[-3,771],[-3,771],[-5,771],[-3,771],[-1,771],[-4,771],[-6,771],[-1,771],[-3,771],[-3,771],[-1,771],[-9,771],[-21,771],[-13,771],[-1,771],[-1,771],[-2,771],[-2,771],[-12,771],[-1,771],[-3,771],[-1,771],[-3,771],[-2,771],[-2,771],[-54,771],[-1,771],[-5,771],[-2,771],[-23,771],[-1,771],[-3,771],[-6,771],[-3,771],[-1,771],[-1,771],[-9,771],[-1,771],[-3,771],[-2,771]],\"hovertemplate\":\"strand=mirna_m<br>type=cCREs without Repeats<br>group=z-dna<br>total_count_rel=%{x}<br>mirna=%{y}<br>total_count=%{customdata[0]}<br>total_group_counts=%{customdata[1]}<extra></extra>\",\"legendgroup\":\"mirna_m\",\"marker\":{\"color\":\"royalblue\",\"pattern\":{\"shape\":\"\"}},\"name\":\"mirna_m\",\"offsetgroup\":\"mirna_m\",\"orientation\":\"h\",\"showlegend\":true,\"textposition\":\"auto\",\"x\":[-0.38910505836575876,-0.12970168612191957,-0.25940337224383914,-7.003891050583658,-0.12970168612191957,-0.38910505836575876,-0.38910505836575876,-0.648508430609598,-0.38910505836575876,-0.12970168612191957,-0.5188067444876783,-0.7782101167315175,-0.12970168612191957,-0.38910505836575876,-0.38910505836575876,-0.12970168612191957,-1.1673151750972763,-2.7237354085603114,-1.6861219195849546,-0.12970168612191957,-0.12970168612191957,-0.25940337224383914,-0.25940337224383914,-1.556420233463035,-0.12970168612191957,-0.38910505836575876,-0.12970168612191957,-0.38910505836575876,-0.25940337224383914,-0.25940337224383914,-7.003891050583658,-0.12970168612191957,-0.648508430609598,-0.25940337224383914,-2.9831387808041505,-0.12970168612191957,-0.38910505836575876,-0.7782101167315175,-0.38910505836575876,-0.12970168612191957,-0.12970168612191957,-1.1673151750972763,-0.12970168612191957,-0.38910505836575876,-0.25940337224383914],\"xaxis\":\"x5\",\"y\":[\"miR-874\",\"miR-873\",\"miR-760\",\"miR-744\",\"miR-7\",\"miR-652\",\"miR-532\",\"miR-503\",\"miR-501/502\",\"miR-496\",\"miR-493\",\"miR-491\",\"miR-486\",\"miR-485\",\"miR-455\",\"miR-431\",\"miR-423\",\"miR-377\",\"miR-342\",\"miR-339\",\"miR-335\",\"miR-331\",\"miR-330\",\"miR-329/362\",\"miR-324\",\"miR-296\",\"miR-29\",\"miR-22\",\"miR-218\",\"miR-214\",\"miR-210\",\"miR-199\",\"miR-187\",\"miR-18\",\"miR-147\",\"miR-142\",\"miR-140\",\"miR-138\",\"miR-1306\",\"miR-128\",\"miR-125\",\"miR-1249\",\"miR-124\",\"miR-122\",\"miR-1197\"],\"yaxis\":\"y5\",\"type\":\"bar\"},{\"alignmentgroup\":\"True\",\"customdata\":[[-1,8859],[-5,8859],[-10,8859],[-3,8859],[-2,8859],[-4,8859],[-7,8859],[-2,8859],[-12,8859],[-5,8859],[-3,8859],[-5,8859],[-1,8859],[-22,8859],[-2,8859],[-8,8859],[-2,8859],[-10,8859],[-6,8859],[-9,8859],[-10,8859],[-3,8859],[-9,8859],[-2,8859],[-7,8859],[-3,8859],[-11,8859],[-29,8859],[-12,8859],[-7,8859],[-7,8859],[-7,8859],[-9,8859],[-6,8859],[-8,8859],[-4,8859],[-15,8859],[-14,8859],[-5,8859],[-16,8859],[-3,8859],[-2,8859],[-5,8859],[-5,8859],[-5,8859],[-8,8859],[-19,8859],[-3,8859],[-9,8859],[-3,8859],[-5,8859],[-6,8859],[-3,8859],[-6,8859],[-3,8859],[-16,8859],[-2,8859],[-4,8859],[-9,8859],[-1,8859],[-2,8859],[-2,8859],[-4,8859],[-6,8859],[-12,8859],[-4,8859],[-3,8859],[-30,8859],[-2,8859],[-4,8859],[-4,8859],[-3,8859],[-4,8859],[-8,8859],[-3,8859],[-4,8859],[-3,8859],[-8,8859],[-2,8859],[-3,8859],[-2,8859],[-5,8859],[-9,8859],[-5,8859],[-3,8859],[-3,8859],[-5,8859],[-1,8859],[-11,8859],[-6,8859],[-5,8859],[-19,8859],[-7,8859],[-6,8859],[-2,8859],[-2,8859],[-2,8859],[-27,8859],[-13,8859],[-4,8859],[-4,8859],[-8,8859],[-2,8859],[-4,8859],[-2,8859],[-1,8859],[-9,8859],[-6,8859],[-13,8859],[-1,8859],[-3,8859],[-19,8859],[-13,8859],[-4,8859],[-8,8859],[-7,8859],[-7,8859],[-13,8859],[-11,8859],[-2,8859],[-7,8859],[-7,8859],[-2,8859],[-14,8859],[-10,8859],[-4,8859],[-1,8859],[-3,8859],[-1,8859],[-5,8859],[-10,8859],[-13,8859],[-3,8859],[-8,8859],[-2,8859],[-14,8859],[-4,8859],[-14,8859],[-4,8859],[-2,8859],[-14,8859],[-2,8859],[-6,8859],[-36,8859],[-4,8859],[-2,8859],[-2,8859],[-5,8859],[-2,8859],[-9,8859],[-4,8859],[-2,8859],[-7,8859],[-15,8859],[-9,8859],[-10,8859],[-2,8859]],\"hovertemplate\":\"strand=mirna_m<br>type=cCREs without Repeats<br>group=sidd<br>total_count_rel=%{x}<br>mirna=%{y}<br>total_count=%{customdata[0]}<br>total_group_counts=%{customdata[1]}<extra></extra>\",\"legendgroup\":\"mirna_m\",\"marker\":{\"color\":\"royalblue\",\"pattern\":{\"shape\":\"\"}},\"name\":\"mirna_m\",\"offsetgroup\":\"mirna_m\",\"orientation\":\"h\",\"showlegend\":false,\"textposition\":\"auto\",\"x\":[-0.011287955751213455,-0.056439778756067274,-0.11287955751213455,-0.033863867253640365,-0.02257591150242691,-0.04515182300485382,-0.07901569025849418,-0.02257591150242691,-0.13545546901456146,-0.056439778756067274,-0.033863867253640365,-0.056439778756067274,-0.011287955751213455,-0.24833502652669603,-0.02257591150242691,-0.09030364600970764,-0.02257591150242691,-0.11287955751213455,-0.06772773450728073,-0.1015916017609211,-0.11287955751213455,-0.033863867253640365,-0.1015916017609211,-0.02257591150242691,-0.07901569025849418,-0.033863867253640365,-0.12416751326334802,-0.32735071678519023,-0.13545546901456146,-0.07901569025849418,-0.07901569025849418,-0.07901569025849418,-0.1015916017609211,-0.06772773450728073,-0.09030364600970764,-0.04515182300485382,-0.16931933626820184,-0.15803138051698837,-0.056439778756067274,-0.18060729201941528,-0.033863867253640365,-0.02257591150242691,-0.056439778756067274,-0.056439778756067274,-0.056439778756067274,-0.09030364600970764,-0.21447115927305566,-0.033863867253640365,-0.1015916017609211,-0.033863867253640365,-0.056439778756067274,-0.06772773450728073,-0.033863867253640365,-0.06772773450728073,-0.033863867253640365,-0.18060729201941528,-0.02257591150242691,-0.04515182300485382,-0.1015916017609211,-0.011287955751213455,-0.02257591150242691,-0.02257591150242691,-0.04515182300485382,-0.06772773450728073,-0.13545546901456146,-0.04515182300485382,-0.033863867253640365,-0.3386386725364037,-0.02257591150242691,-0.04515182300485382,-0.04515182300485382,-0.033863867253640365,-0.04515182300485382,-0.09030364600970764,-0.033863867253640365,-0.04515182300485382,-0.033863867253640365,-0.09030364600970764,-0.02257591150242691,-0.033863867253640365,-0.02257591150242691,-0.056439778756067274,-0.1015916017609211,-0.056439778756067274,-0.033863867253640365,-0.033863867253640365,-0.056439778756067274,-0.011287955751213455,-0.12416751326334802,-0.06772773450728073,-0.056439778756067274,-0.21447115927305566,-0.07901569025849418,-0.06772773450728073,-0.02257591150242691,-0.02257591150242691,-0.02257591150242691,-0.3047748052827633,-0.14674342476577493,-0.04515182300485382,-0.04515182300485382,-0.09030364600970764,-0.02257591150242691,-0.04515182300485382,-0.02257591150242691,-0.011287955751213455,-0.1015916017609211,-0.06772773450728073,-0.14674342476577493,-0.011287955751213455,-0.033863867253640365,-0.21447115927305566,-0.14674342476577493,-0.04515182300485382,-0.09030364600970764,-0.07901569025849418,-0.07901569025849418,-0.14674342476577493,-0.12416751326334802,-0.02257591150242691,-0.07901569025849418,-0.07901569025849418,-0.02257591150242691,-0.15803138051698837,-0.11287955751213455,-0.04515182300485382,-0.011287955751213455,-0.033863867253640365,-0.011287955751213455,-0.056439778756067274,-0.11287955751213455,-0.14674342476577493,-0.033863867253640365,-0.09030364600970764,-0.02257591150242691,-0.15803138051698837,-0.04515182300485382,-0.15803138051698837,-0.04515182300485382,-0.02257591150242691,-0.15803138051698837,-0.02257591150242691,-0.06772773450728073,-0.4063664070436844,-0.04515182300485382,-0.02257591150242691,-0.02257591150242691,-0.056439778756067274,-0.02257591150242691,-0.1015916017609211,-0.04515182300485382,-0.02257591150242691,-0.07901569025849418,-0.16931933626820184,-0.1015916017609211,-0.11287955751213455,-0.02257591150242691],\"xaxis\":\"x6\",\"y\":[\"miR-99/100\",\"miR-96/1271\",\"miR-9\",\"miR-876\",\"miR-875\",\"miR-874\",\"miR-873\",\"miR-802\",\"miR-760\",\"miR-758\",\"miR-7\",\"miR-670\",\"miR-668\",\"miR-665\",\"miR-655\",\"miR-653\",\"miR-615\",\"miR-582\",\"miR-544a\",\"miR-543\",\"miR-542\",\"miR-539\",\"miR-532\",\"miR-505\",\"miR-504\",\"miR-503\",\"miR-496\",\"miR-495\",\"miR-494\",\"miR-493\",\"miR-491\",\"miR-490\",\"miR-489\",\"miR-488\",\"miR-485\",\"miR-483\",\"miR-455\",\"miR-452\",\"miR-450a\",\"miR-448\",\"miR-433\",\"miR-431\",\"miR-425\",\"miR-423\",\"miR-421\",\"miR-410\",\"miR-409\",\"miR-383\",\"miR-382\",\"miR-381\",\"miR-379\",\"miR-378a\",\"miR-377\",\"miR-376c\",\"miR-376ab\",\"miR-374\",\"miR-371\",\"miR-369\",\"miR-365\",\"miR-361\",\"miR-342\",\"miR-340\",\"miR-34/449\",\"miR-339\",\"miR-338\",\"miR-335\",\"miR-331\",\"miR-330\",\"miR-33\",\"miR-329/362\",\"miR-325\",\"miR-324\",\"miR-323a\",\"miR-31\",\"miR-302c\",\"miR-302abd\",\"miR-299\",\"miR-296\",\"miR-29\",\"miR-28/708\",\"miR-27\",\"miR-24\",\"miR-23\",\"miR-224\",\"miR-223\",\"miR-221/222\",\"miR-22\",\"miR-219\",\"miR-218\",\"miR-217\",\"miR-216b\",\"miR-216a\",\"miR-214\",\"miR-210\",\"miR-21/590\",\"miR-208\",\"miR-205\",\"miR-204/211\",\"miR-203a\",\"miR-202\",\"miR-200bc/429\",\"miR-199\",\"miR-196\",\"miR-194\",\"miR-193\",\"miR-192/215\",\"miR-191\",\"miR-190\",\"miR-19\",\"miR-188\",\"miR-187\",\"miR-186\",\"miR-185\",\"miR-184\",\"miR-183\",\"miR-182\",\"miR-181\",\"miR-18\",\"miR-17/20/93/106/519d\",\"miR-155\",\"miR-154\",\"miR-153\",\"miR-151a\",\"miR-150\",\"miR-15/16/195/424/497\",\"miR-149\",\"miR-148/152\",\"miR-146\",\"miR-145\",\"miR-144\",\"miR-143\",\"miR-142\",\"miR-141/200a\",\"miR-140\",\"miR-138\",\"miR-137\",\"miR-136\",\"miR-135\",\"miR-134\",\"miR-133\",\"miR-132/212\",\"miR-1306\",\"miR-130/301/454\",\"miR-129\",\"miR-128\",\"miR-127\",\"miR-126\",\"miR-125\",\"miR-1249\",\"miR-124\",\"miR-122\",\"miR-1197\",\"miR-103/107\",\"miR-101\",\"miR-10\",\"miR-1/206\",\"let-7/miR-98\"],\"yaxis\":\"y6\",\"type\":\"bar\"},{\"alignmentgroup\":\"True\",\"customdata\":[[-1,2007],[-1,2007],[-1,2007],[-18,2007],[-2,2007],[-5,2007],[-2,2007],[-105,2007],[-1,2007],[-8,2007],[-39,2007],[-9,2007],[-2,2007],[-68,2007],[-17,2007],[-22,2007],[-3,2007],[-1,2007],[-4,2007],[-4,2007],[-1,2007],[-37,2007],[-1,2007],[-1,2007],[-1,2007],[-2,2007],[-1,2007],[-1,2007],[-2,2007],[-5,2007],[-4,2007],[-4,2007],[-42,2007],[-8,2007],[-2,2007],[-44,2007],[-8,2007],[-6,2007],[-9,2007],[-26,2007],[-6,2007],[-69,2007],[-10,2007],[-5,2007],[-5,2007],[-1,2007],[-4,2007],[-13,2007],[-1,2007],[-2,2007],[-8,2007],[-11,2007],[-2,2007],[-8,2007],[-1,2007],[-1,2007],[-2,2007],[-10,2007],[-5,2007],[-2,2007],[-8,2007],[-2,2007],[-13,2007],[-40,2007],[-8,2007],[-1,2007],[-8,2007],[-13,2007],[-19,2007],[-1,2007],[-5,2007]],\"hovertemplate\":\"strand=mirna_m<br>type=cCREs without Repeats<br>group=g4<br>total_count_rel=%{x}<br>mirna=%{y}<br>total_count=%{customdata[0]}<br>total_group_counts=%{customdata[1]}<extra></extra>\",\"legendgroup\":\"mirna_m\",\"marker\":{\"color\":\"royalblue\",\"pattern\":{\"shape\":\"\"}},\"name\":\"mirna_m\",\"offsetgroup\":\"mirna_m\",\"orientation\":\"h\",\"showlegend\":false,\"textposition\":\"auto\",\"x\":[-0.04982561036372695,-0.04982561036372695,-0.04982561036372695,-0.8968609865470852,-0.0996512207274539,-0.2491280518186348,-0.0996512207274539,-5.23168908819133,-0.04982561036372695,-0.3986048829098156,-1.9431988041853512,-0.4484304932735426,-0.0996512207274539,-3.388141504733433,-0.8470353761833582,-1.096163428001993,-0.14947683109118087,-0.04982561036372695,-0.1993024414549078,-0.1993024414549078,-0.04982561036372695,-1.8435475834578976,-0.04982561036372695,-0.04982561036372695,-0.04982561036372695,-0.0996512207274539,-0.04982561036372695,-0.04982561036372695,-0.0996512207274539,-0.2491280518186348,-0.1993024414549078,-0.1993024414549078,-2.092675635276532,-0.3986048829098156,-0.0996512207274539,-2.192326856003986,-0.3986048829098156,-0.29895366218236175,-0.4484304932735426,-1.295465869456901,-0.29895366218236175,-3.43796711509716,-0.4982561036372696,-0.2491280518186348,-0.2491280518186348,-0.04982561036372695,-0.1993024414549078,-0.6477329347284505,-0.04982561036372695,-0.0996512207274539,-0.3986048829098156,-0.5480817140009965,-0.0996512207274539,-0.3986048829098156,-0.04982561036372695,-0.04982561036372695,-0.0996512207274539,-0.4982561036372696,-0.2491280518186348,-0.0996512207274539,-0.3986048829098156,-0.0996512207274539,-0.6477329347284505,-1.9930244145490783,-0.3986048829098156,-0.04982561036372695,-0.3986048829098156,-0.6477329347284505,-0.9466865969108121,-0.04982561036372695,-0.2491280518186348],\"xaxis\":\"x7\",\"y\":[\"miR-99/100\",\"miR-9\",\"miR-876\",\"miR-874\",\"miR-873\",\"miR-760\",\"miR-758\",\"miR-744\",\"miR-670\",\"miR-665\",\"miR-615\",\"miR-551\",\"miR-542\",\"miR-532\",\"miR-504\",\"miR-491\",\"miR-490\",\"miR-488\",\"miR-485\",\"miR-455\",\"miR-450a\",\"miR-423\",\"miR-412\",\"miR-409\",\"miR-381\",\"miR-378a\",\"miR-377\",\"miR-371\",\"miR-365\",\"miR-346\",\"miR-342\",\"miR-34/449\",\"miR-339\",\"miR-338\",\"miR-335\",\"miR-331\",\"miR-330\",\"miR-329/362\",\"miR-328\",\"miR-324\",\"miR-299\",\"miR-296\",\"miR-24\",\"miR-22\",\"miR-214\",\"miR-210\",\"miR-205\",\"miR-204/211\",\"miR-202\",\"miR-199\",\"miR-193\",\"miR-188\",\"miR-187\",\"miR-185\",\"miR-184\",\"miR-182\",\"miR-151a\",\"miR-150\",\"miR-149\",\"miR-143\",\"miR-140\",\"miR-138\",\"miR-133\",\"miR-1306\",\"miR-129\",\"miR-128\",\"miR-127\",\"miR-125\",\"miR-1249\",\"miR-103/107\",\"miR-10\"],\"yaxis\":\"y7\",\"type\":\"bar\"},{\"alignmentgroup\":\"True\",\"customdata\":[[-2,252],[-2,252],[-1,252],[-1,252],[-3,252],[-5,252],[-2,252],[-1,252],[-1,252],[-1,252],[-1,252],[-3,252],[-1,252],[-37,252],[-7,252],[-1,252],[-1,252],[-1,252],[-1,252],[-1,252],[-5,252],[-2,252],[-1,252]],\"hovertemplate\":\"strand=mirna_m<br>type=cCREs without Repeats<br>group=h-dna<br>total_count_rel=%{x}<br>mirna=%{y}<br>total_count=%{customdata[0]}<br>total_group_counts=%{customdata[1]}<extra></extra>\",\"legendgroup\":\"mirna_m\",\"marker\":{\"color\":\"royalblue\",\"pattern\":{\"shape\":\"\"}},\"name\":\"mirna_m\",\"offsetgroup\":\"mirna_m\",\"orientation\":\"h\",\"showlegend\":false,\"textposition\":\"auto\",\"x\":[-0.7936507936507936,-0.7936507936507936,-0.3968253968253968,-0.3968253968253968,-1.1904761904761905,-1.984126984126984,-0.7936507936507936,-0.3968253968253968,-0.3968253968253968,-0.3968253968253968,-0.3968253968253968,-1.1904761904761905,-0.3968253968253968,-14.682539682539684,-2.7777777777777777,-0.3968253968253968,-0.3968253968253968,-0.3968253968253968,-0.3968253968253968,-0.3968253968253968,-1.984126984126984,-0.7936507936507936,-0.3968253968253968],\"xaxis\":\"x8\",\"y\":[\"miR-532\",\"miR-495\",\"miR-493\",\"miR-491\",\"miR-483\",\"miR-423\",\"miR-339\",\"miR-331\",\"miR-330\",\"miR-31\",\"miR-205\",\"miR-204/211\",\"miR-186\",\"miR-185\",\"miR-151a\",\"miR-149\",\"miR-145\",\"miR-143\",\"miR-136\",\"miR-133\",\"miR-1306\",\"miR-129\",\"let-7/miR-98\"],\"yaxis\":\"y8\",\"type\":\"bar\"},{\"alignmentgroup\":\"True\",\"customdata\":[[-2,771],[-1,771],[-2,771],[-9,771],[-1,771],[-5,771],[-1,771],[-24,771],[-8,771],[-7,771],[-2,771],[-23,771],[-1,771],[-1,771],[-2,771],[-1,771],[-1,771],[-1,771]],\"hovertemplate\":\"strand=mirna_m<br>type=Repeats without cCREs<br>group=z-dna<br>total_count_rel=%{x}<br>mirna=%{y}<br>total_count=%{customdata[0]}<br>total_group_counts=%{customdata[1]}<extra></extra>\",\"legendgroup\":\"mirna_m\",\"marker\":{\"color\":\"royalblue\",\"pattern\":{\"shape\":\"\"}},\"name\":\"mirna_m\",\"offsetgroup\":\"mirna_m\",\"orientation\":\"h\",\"showlegend\":false,\"textposition\":\"auto\",\"x\":[-0.25940337224383914,-0.12970168612191957,-0.25940337224383914,-1.1673151750972763,-0.12970168612191957,-0.648508430609598,-0.12970168612191957,-3.11284046692607,-1.0376134889753565,-0.9079118028534372,-0.25940337224383914,-2.9831387808041505,-0.12970168612191957,-0.12970168612191957,-0.25940337224383914,-0.12970168612191957,-0.12970168612191957,-0.12970168612191957],\"xaxis\":\"x\",\"y\":[\"miR-539\",\"miR-501/502\",\"miR-493\",\"miR-455\",\"miR-448\",\"miR-431\",\"miR-425\",\"miR-377\",\"miR-342\",\"miR-329/362\",\"miR-218\",\"miR-210\",\"miR-18\",\"miR-17/20/93/106/519d\",\"miR-148/152\",\"miR-147\",\"miR-129\",\"miR-1249\"],\"yaxis\":\"y\",\"type\":\"bar\"},{\"alignmentgroup\":\"True\",\"customdata\":[[-7,8859],[-17,8859],[-14,8859],[-5,8859],[-4,8859],[-13,8859],[-9,8859],[-7,8859],[-16,8859],[-13,8859],[-83,8859],[-21,8859],[-37,8859],[-33,8859],[-27,8859],[-1,8859],[-6,8859],[-23,8859],[-15,8859],[-36,8859],[-35,8859],[-11,8859],[-9,8859],[-1,8859],[-16,8859],[-6,8859],[-39,8859],[-53,8859],[-22,8859],[-49,8859],[-11,8859],[-12,8859],[-1,8859],[-13,8859],[-1,8859],[-7,8859],[-5,8859],[-25,8859],[-33,8859],[-30,8859],[-1,8859],[-34,8859],[-20,8859],[-23,8859],[-1,8859],[-7,8859],[-35,8859],[-37,8859],[-32,8859],[-5,8859],[-44,8859],[-23,8859],[-25,8859],[-12,8859],[-9,8859],[-13,8859],[-27,8859],[-103,8859],[-11,8859],[-31,8859],[-12,8859],[-17,8859],[-13,8859],[-3,8859],[-53,8859],[-14,8859],[-10,8859],[-8,8859],[-1,8859],[-6,8859],[-46,8859],[-22,8859],[-34,8859],[-5,8859],[-53,8859],[-3,8859],[-18,8859],[-16,8859],[-31,8859],[-17,8859],[-28,8859],[-24,8859],[-21,8859],[-8,8859],[-5,8859],[-17,8859],[-15,8859],[-1,8859],[-3,8859],[-27,8859],[-19,8859],[-5,8859],[-7,8859],[-4,8859],[-10,8859],[-13,8859],[-6,8859],[-29,8859],[-34,8859],[-11,8859],[-15,8859],[-15,8859],[-42,8859],[-327,8859],[-5,8859],[-21,8859],[-14,8859],[-7,8859],[-18,8859],[-10,8859],[-8,8859],[-2,8859],[-6,8859],[-10,8859],[-19,8859],[-3,8859],[-130,8859],[-14,8859],[-15,8859],[-8,8859],[-24,8859],[-8,8859],[-15,8859],[-16,8859],[-26,8859],[-7,8859],[-14,8859],[-7,8859],[-12,8859],[-7,8859],[-1,8859],[-16,8859],[-7,8859],[-34,8859],[-13,8859],[-79,8859],[-15,8859],[-31,8859],[-10,8859],[-9,8859],[-48,8859],[-34,8859],[-14,8859],[-17,8859],[-11,8859],[-20,8859],[-2,8859],[-16,8859],[-2,8859],[-46,8859],[-10,8859],[-1,8859],[-8,8859],[-13,8859],[-4,8859],[-27,8859],[-16,8859],[-14,8859],[-8,8859],[-12,8859],[-12,8859],[-22,8859],[-24,8859],[-2,8859]],\"hovertemplate\":\"strand=mirna_m<br>type=Repeats without cCREs<br>group=sidd<br>total_count_rel=%{x}<br>mirna=%{y}<br>total_count=%{customdata[0]}<br>total_group_counts=%{customdata[1]}<extra></extra>\",\"legendgroup\":\"mirna_m\",\"marker\":{\"color\":\"royalblue\",\"pattern\":{\"shape\":\"\"}},\"name\":\"mirna_m\",\"offsetgroup\":\"mirna_m\",\"orientation\":\"h\",\"showlegend\":false,\"textposition\":\"auto\",\"x\":[-0.07901569025849418,-0.19189524777062872,-0.15803138051698837,-0.056439778756067274,-0.04515182300485382,-0.14674342476577493,-0.1015916017609211,-0.07901569025849418,-0.18060729201941528,-0.14674342476577493,-0.9369003273507167,-0.23704707077548257,-0.41765436279489787,-0.37250253979004405,-0.3047748052827633,-0.011287955751213455,-0.06772773450728073,-0.2596229822779095,-0.16931933626820184,-0.4063664070436844,-0.39507845129247093,-0.12416751326334802,-0.1015916017609211,-0.011287955751213455,-0.18060729201941528,-0.06772773450728073,-0.44023027429732475,-0.5982616548143131,-0.24833502652669603,-0.5531098318094593,-0.12416751326334802,-0.13545546901456146,-0.011287955751213455,-0.14674342476577493,-0.011287955751213455,-0.07901569025849418,-0.056439778756067274,-0.28219889378033636,-0.37250253979004405,-0.3386386725364037,-0.011287955751213455,-0.38379049554125744,-0.2257591150242691,-0.2596229822779095,-0.011287955751213455,-0.07901569025849418,-0.39507845129247093,-0.41765436279489787,-0.36121458403883056,-0.056439778756067274,-0.49667005305339207,-0.2596229822779095,-0.28219889378033636,-0.13545546901456146,-0.1015916017609211,-0.14674342476577493,-0.3047748052827633,-1.1626594423749859,-0.12416751326334802,-0.3499266282876171,-0.13545546901456146,-0.19189524777062872,-0.14674342476577493,-0.033863867253640365,-0.5982616548143131,-0.15803138051698837,-0.11287955751213455,-0.09030364600970764,-0.011287955751213455,-0.06772773450728073,-0.519245964555819,-0.24833502652669603,-0.38379049554125744,-0.056439778756067274,-0.5982616548143131,-0.033863867253640365,-0.2031832035218422,-0.18060729201941528,-0.3499266282876171,-0.19189524777062872,-0.31606276103397674,-0.2709109380291229,-0.23704707077548257,-0.09030364600970764,-0.056439778756067274,-0.19189524777062872,-0.16931933626820184,-0.011287955751213455,-0.033863867253640365,-0.3047748052827633,-0.21447115927305566,-0.056439778756067274,-0.07901569025849418,-0.04515182300485382,-0.11287955751213455,-0.14674342476577493,-0.06772773450728073,-0.32735071678519023,-0.38379049554125744,-0.12416751326334802,-0.16931933626820184,-0.16931933626820184,-0.47409414155096513,-3.6911615306468,-0.056439778756067274,-0.23704707077548257,-0.15803138051698837,-0.07901569025849418,-0.2031832035218422,-0.11287955751213455,-0.09030364600970764,-0.02257591150242691,-0.06772773450728073,-0.11287955751213455,-0.21447115927305566,-0.033863867253640365,-1.467434247657749,-0.15803138051698837,-0.16931933626820184,-0.09030364600970764,-0.2709109380291229,-0.09030364600970764,-0.16931933626820184,-0.18060729201941528,-0.29348684953154985,-0.07901569025849418,-0.15803138051698837,-0.07901569025849418,-0.13545546901456146,-0.07901569025849418,-0.011287955751213455,-0.18060729201941528,-0.07901569025849418,-0.38379049554125744,-0.14674342476577493,-0.8917485043458631,-0.16931933626820184,-0.3499266282876171,-0.11287955751213455,-0.1015916017609211,-0.5418218760582458,-0.38379049554125744,-0.15803138051698837,-0.19189524777062872,-0.12416751326334802,-0.2257591150242691,-0.02257591150242691,-0.18060729201941528,-0.02257591150242691,-0.519245964555819,-0.11287955751213455,-0.011287955751213455,-0.09030364600970764,-0.14674342476577493,-0.04515182300485382,-0.3047748052827633,-0.18060729201941528,-0.15803138051698837,-0.09030364600970764,-0.13545546901456146,-0.13545546901456146,-0.24833502652669603,-0.2709109380291229,-0.02257591150242691],\"xaxis\":\"x2\",\"y\":[\"miR-96/1271\",\"miR-9\",\"miR-876\",\"miR-875\",\"miR-874\",\"miR-873\",\"miR-802\",\"miR-760\",\"miR-758\",\"miR-7\",\"miR-670\",\"miR-668\",\"miR-655\",\"miR-653\",\"miR-582\",\"miR-551\",\"miR-544a\",\"miR-543\",\"miR-542\",\"miR-539\",\"miR-532\",\"miR-505\",\"miR-504\",\"miR-503\",\"miR-501/502\",\"miR-499\",\"miR-496\",\"miR-495\",\"miR-494\",\"miR-493\",\"miR-491\",\"miR-490\",\"miR-489\",\"miR-488\",\"miR-487b\",\"miR-486\",\"miR-485\",\"miR-483\",\"miR-455\",\"miR-452\",\"miR-450a\",\"miR-448\",\"miR-433\",\"miR-425\",\"miR-423\",\"miR-421\",\"miR-411\",\"miR-410\",\"miR-409\",\"miR-383\",\"miR-382\",\"miR-381\",\"miR-379\",\"miR-378a\",\"miR-377\",\"miR-376c\",\"miR-376ab\",\"miR-374\",\"miR-371\",\"miR-369\",\"miR-365\",\"miR-361\",\"miR-346\",\"miR-342\",\"miR-340\",\"miR-34/449\",\"miR-339\",\"miR-338\",\"miR-335\",\"miR-331\",\"miR-330\",\"miR-33\",\"miR-329/362\",\"miR-328\",\"miR-325\",\"miR-324\",\"miR-323a\",\"miR-31\",\"miR-302c\",\"miR-302abd\",\"miR-30\",\"miR-299\",\"miR-296\",\"miR-29\",\"miR-28/708\",\"miR-27\",\"miR-26\",\"miR-25/32/92/363/367\",\"miR-24\",\"miR-23\",\"miR-224\",\"miR-223\",\"miR-221/222\",\"miR-22\",\"miR-219\",\"miR-218\",\"miR-217\",\"miR-216b\",\"miR-216a\",\"miR-214\",\"miR-21/590\",\"miR-205\",\"miR-204/211\",\"miR-203a\",\"miR-202\",\"miR-200bc/429\",\"miR-199\",\"miR-196\",\"miR-194\",\"miR-193\",\"miR-192/215\",\"miR-191\",\"miR-190\",\"miR-19\",\"miR-188\",\"miR-187\",\"miR-186\",\"miR-185\",\"miR-183\",\"miR-182\",\"miR-181\",\"miR-18\",\"miR-17/20/93/106/519d\",\"miR-155\",\"miR-154\",\"miR-153\",\"miR-151a\",\"miR-150\",\"miR-15/16/195/424/497\",\"miR-149\",\"miR-148/152\",\"miR-146\",\"miR-145\",\"miR-144\",\"miR-143\",\"miR-142\",\"miR-141/200a\",\"miR-140\",\"miR-139\",\"miR-138\",\"miR-137\",\"miR-136\",\"miR-135\",\"miR-134\",\"miR-133\",\"miR-132/212\",\"miR-1306\",\"miR-130/301/454\",\"miR-1298\",\"miR-129\",\"miR-128\",\"miR-126\",\"miR-1251\",\"miR-125\",\"miR-1249\",\"miR-124\",\"miR-122\",\"miR-1197\",\"miR-1193\",\"miR-103/107\",\"miR-101\",\"miR-10\",\"miR-1/206\",\"let-7/miR-98\"],\"yaxis\":\"y2\",\"type\":\"bar\"},{\"alignmentgroup\":\"True\",\"customdata\":[[-1,2007],[-16,2007],[-2,2007],[-2,2007],[-1,2007],[-33,2007],[-1,2007],[-8,2007],[-1,2007],[-2,2007],[-1,2007],[-1,2007],[-1,2007],[-1,2007],[-2,2007],[-5,2007],[-1,2007],[-1,2007],[-18,2007],[-2,2007],[-2,2007],[-4,2007],[-3,2007],[-9,2007],[-7,2007],[-1,2007],[-1,2007],[-1,2007],[-1,2007],[-1,2007],[-9,2007],[-3,2007],[-2,2007],[-2,2007]],\"hovertemplate\":\"strand=mirna_m<br>type=Repeats without cCREs<br>group=g4<br>total_count_rel=%{x}<br>mirna=%{y}<br>total_count=%{customdata[0]}<br>total_group_counts=%{customdata[1]}<extra></extra>\",\"legendgroup\":\"mirna_m\",\"marker\":{\"color\":\"royalblue\",\"pattern\":{\"shape\":\"\"}},\"name\":\"mirna_m\",\"offsetgroup\":\"mirna_m\",\"orientation\":\"h\",\"showlegend\":false,\"textposition\":\"auto\",\"x\":[-0.04982561036372695,-0.7972097658196312,-0.0996512207274539,-0.0996512207274539,-0.04982561036372695,-1.6442451420029895,-0.04982561036372695,-0.3986048829098156,-0.04982561036372695,-0.0996512207274539,-0.04982561036372695,-0.04982561036372695,-0.04982561036372695,-0.04982561036372695,-0.0996512207274539,-0.2491280518186348,-0.04982561036372695,-0.04982561036372695,-0.8968609865470852,-0.0996512207274539,-0.0996512207274539,-0.1993024414549078,-0.14947683109118087,-0.4484304932735426,-0.3487792725460887,-0.04982561036372695,-0.04982561036372695,-0.04982561036372695,-0.04982561036372695,-0.04982561036372695,-0.4484304932735426,-0.14947683109118087,-0.0996512207274539,-0.0996512207274539],\"xaxis\":\"x3\",\"y\":[\"miR-9\",\"miR-874\",\"miR-873\",\"miR-744\",\"miR-551\",\"miR-532\",\"miR-504\",\"miR-491\",\"miR-486\",\"miR-483\",\"miR-455\",\"miR-423\",\"miR-379\",\"miR-346\",\"miR-34/449\",\"miR-339\",\"miR-331\",\"miR-329/362\",\"miR-328\",\"miR-299\",\"miR-296\",\"miR-204/211\",\"miR-188\",\"miR-185\",\"miR-150\",\"miR-15/16/195/424/497\",\"miR-149\",\"miR-140\",\"miR-134\",\"miR-133\",\"miR-1306\",\"miR-129\",\"miR-125\",\"miR-10\"],\"yaxis\":\"y3\",\"type\":\"bar\"},{\"alignmentgroup\":\"True\",\"customdata\":[[-3,252],[-2,252],[-1,252],[-3,252],[-37,252],[-2,252],[-1,252],[-3,252],[-1,252]],\"hovertemplate\":\"strand=mirna_m<br>type=Repeats without cCREs<br>group=h-dna<br>total_count_rel=%{x}<br>mirna=%{y}<br>total_count=%{customdata[0]}<br>total_group_counts=%{customdata[1]}<extra></extra>\",\"legendgroup\":\"mirna_m\",\"marker\":{\"color\":\"royalblue\",\"pattern\":{\"shape\":\"\"}},\"name\":\"mirna_m\",\"offsetgroup\":\"mirna_m\",\"orientation\":\"h\",\"showlegend\":false,\"textposition\":\"auto\",\"x\":[-1.1904761904761905,-0.7936507936507936,-0.3968253968253968,-1.1904761904761905,-14.682539682539684,-0.7936507936507936,-0.3968253968253968,-1.1904761904761905,-0.3968253968253968],\"xaxis\":\"x4\",\"y\":[\"miR-532\",\"miR-491\",\"miR-423\",\"miR-204/211\",\"miR-185\",\"miR-151a\",\"miR-142\",\"miR-1306\",\"miR-129\"],\"yaxis\":\"y4\",\"type\":\"bar\"}],                        {\"template\":{\"data\":{\"histogram2dcontour\":[{\"type\":\"histogram2dcontour\",\"colorbar\":{\"outlinewidth\":0,\"ticks\":\"\"},\"colorscale\":[[0.0,\"#0d0887\"],[0.1111111111111111,\"#46039f\"],[0.2222222222222222,\"#7201a8\"],[0.3333333333333333,\"#9c179e\"],[0.4444444444444444,\"#bd3786\"],[0.5555555555555556,\"#d8576b\"],[0.6666666666666666,\"#ed7953\"],[0.7777777777777778,\"#fb9f3a\"],[0.8888888888888888,\"#fdca26\"],[1.0,\"#f0f921\"]]}],\"choropleth\":[{\"type\":\"choropleth\",\"colorbar\":{\"outlinewidth\":0,\"ticks\":\"\"}}],\"histogram2d\":[{\"type\":\"histogram2d\",\"colorbar\":{\"outlinewidth\":0,\"ticks\":\"\"},\"colorscale\":[[0.0,\"#0d0887\"],[0.1111111111111111,\"#46039f\"],[0.2222222222222222,\"#7201a8\"],[0.3333333333333333,\"#9c179e\"],[0.4444444444444444,\"#bd3786\"],[0.5555555555555556,\"#d8576b\"],[0.6666666666666666,\"#ed7953\"],[0.7777777777777778,\"#fb9f3a\"],[0.8888888888888888,\"#fdca26\"],[1.0,\"#f0f921\"]]}],\"heatmap\":[{\"type\":\"heatmap\",\"colorbar\":{\"outlinewidth\":0,\"ticks\":\"\"},\"colorscale\":[[0.0,\"#0d0887\"],[0.1111111111111111,\"#46039f\"],[0.2222222222222222,\"#7201a8\"],[0.3333333333333333,\"#9c179e\"],[0.4444444444444444,\"#bd3786\"],[0.5555555555555556,\"#d8576b\"],[0.6666666666666666,\"#ed7953\"],[0.7777777777777778,\"#fb9f3a\"],[0.8888888888888888,\"#fdca26\"],[1.0,\"#f0f921\"]]}],\"heatmapgl\":[{\"type\":\"heatmapgl\",\"colorbar\":{\"outlinewidth\":0,\"ticks\":\"\"},\"colorscale\":[[0.0,\"#0d0887\"],[0.1111111111111111,\"#46039f\"],[0.2222222222222222,\"#7201a8\"],[0.3333333333333333,\"#9c179e\"],[0.4444444444444444,\"#bd3786\"],[0.5555555555555556,\"#d8576b\"],[0.6666666666666666,\"#ed7953\"],[0.7777777777777778,\"#fb9f3a\"],[0.8888888888888888,\"#fdca26\"],[1.0,\"#f0f921\"]]}],\"contourcarpet\":[{\"type\":\"contourcarpet\",\"colorbar\":{\"outlinewidth\":0,\"ticks\":\"\"}}],\"contour\":[{\"type\":\"contour\",\"colorbar\":{\"outlinewidth\":0,\"ticks\":\"\"},\"colorscale\":[[0.0,\"#0d0887\"],[0.1111111111111111,\"#46039f\"],[0.2222222222222222,\"#7201a8\"],[0.3333333333333333,\"#9c179e\"],[0.4444444444444444,\"#bd3786\"],[0.5555555555555556,\"#d8576b\"],[0.6666666666666666,\"#ed7953\"],[0.7777777777777778,\"#fb9f3a\"],[0.8888888888888888,\"#fdca26\"],[1.0,\"#f0f921\"]]}],\"surface\":[{\"type\":\"surface\",\"colorbar\":{\"outlinewidth\":0,\"ticks\":\"\"},\"colorscale\":[[0.0,\"#0d0887\"],[0.1111111111111111,\"#46039f\"],[0.2222222222222222,\"#7201a8\"],[0.3333333333333333,\"#9c179e\"],[0.4444444444444444,\"#bd3786\"],[0.5555555555555556,\"#d8576b\"],[0.6666666666666666,\"#ed7953\"],[0.7777777777777778,\"#fb9f3a\"],[0.8888888888888888,\"#fdca26\"],[1.0,\"#f0f921\"]]}],\"mesh3d\":[{\"type\":\"mesh3d\",\"colorbar\":{\"outlinewidth\":0,\"ticks\":\"\"}}],\"scatter\":[{\"fillpattern\":{\"fillmode\":\"overlay\",\"size\":10,\"solidity\":0.2},\"type\":\"scatter\"}],\"parcoords\":[{\"type\":\"parcoords\",\"line\":{\"colorbar\":{\"outlinewidth\":0,\"ticks\":\"\"}}}],\"scatterpolargl\":[{\"type\":\"scatterpolargl\",\"marker\":{\"colorbar\":{\"outlinewidth\":0,\"ticks\":\"\"}}}],\"bar\":[{\"error_x\":{\"color\":\"#2a3f5f\"},\"error_y\":{\"color\":\"#2a3f5f\"},\"marker\":{\"line\":{\"color\":\"#E5ECF6\",\"width\":0.5},\"pattern\":{\"fillmode\":\"overlay\",\"size\":10,\"solidity\":0.2}},\"type\":\"bar\"}],\"scattergeo\":[{\"type\":\"scattergeo\",\"marker\":{\"colorbar\":{\"outlinewidth\":0,\"ticks\":\"\"}}}],\"scatterpolar\":[{\"type\":\"scatterpolar\",\"marker\":{\"colorbar\":{\"outlinewidth\":0,\"ticks\":\"\"}}}],\"histogram\":[{\"marker\":{\"pattern\":{\"fillmode\":\"overlay\",\"size\":10,\"solidity\":0.2}},\"type\":\"histogram\"}],\"scattergl\":[{\"type\":\"scattergl\",\"marker\":{\"colorbar\":{\"outlinewidth\":0,\"ticks\":\"\"}}}],\"scatter3d\":[{\"type\":\"scatter3d\",\"line\":{\"colorbar\":{\"outlinewidth\":0,\"ticks\":\"\"}},\"marker\":{\"colorbar\":{\"outlinewidth\":0,\"ticks\":\"\"}}}],\"scattermapbox\":[{\"type\":\"scattermapbox\",\"marker\":{\"colorbar\":{\"outlinewidth\":0,\"ticks\":\"\"}}}],\"scatterternary\":[{\"type\":\"scatterternary\",\"marker\":{\"colorbar\":{\"outlinewidth\":0,\"ticks\":\"\"}}}],\"scattercarpet\":[{\"type\":\"scattercarpet\",\"marker\":{\"colorbar\":{\"outlinewidth\":0,\"ticks\":\"\"}}}],\"carpet\":[{\"aaxis\":{\"endlinecolor\":\"#2a3f5f\",\"gridcolor\":\"white\",\"linecolor\":\"white\",\"minorgridcolor\":\"white\",\"startlinecolor\":\"#2a3f5f\"},\"baxis\":{\"endlinecolor\":\"#2a3f5f\",\"gridcolor\":\"white\",\"linecolor\":\"white\",\"minorgridcolor\":\"white\",\"startlinecolor\":\"#2a3f5f\"},\"type\":\"carpet\"}],\"table\":[{\"cells\":{\"fill\":{\"color\":\"#EBF0F8\"},\"line\":{\"color\":\"white\"}},\"header\":{\"fill\":{\"color\":\"#C8D4E3\"},\"line\":{\"color\":\"white\"}},\"type\":\"table\"}],\"barpolar\":[{\"marker\":{\"line\":{\"color\":\"#E5ECF6\",\"width\":0.5},\"pattern\":{\"fillmode\":\"overlay\",\"size\":10,\"solidity\":0.2}},\"type\":\"barpolar\"}],\"pie\":[{\"automargin\":true,\"type\":\"pie\"}]},\"layout\":{\"autotypenumbers\":\"strict\",\"colorway\":[\"#636efa\",\"#EF553B\",\"#00cc96\",\"#ab63fa\",\"#FFA15A\",\"#19d3f3\",\"#FF6692\",\"#B6E880\",\"#FF97FF\",\"#FECB52\"],\"font\":{\"color\":\"#2a3f5f\"},\"hovermode\":\"closest\",\"hoverlabel\":{\"align\":\"left\"},\"paper_bgcolor\":\"white\",\"plot_bgcolor\":\"#E5ECF6\",\"polar\":{\"bgcolor\":\"#E5ECF6\",\"angularaxis\":{\"gridcolor\":\"white\",\"linecolor\":\"white\",\"ticks\":\"\"},\"radialaxis\":{\"gridcolor\":\"white\",\"linecolor\":\"white\",\"ticks\":\"\"}},\"ternary\":{\"bgcolor\":\"#E5ECF6\",\"aaxis\":{\"gridcolor\":\"white\",\"linecolor\":\"white\",\"ticks\":\"\"},\"baxis\":{\"gridcolor\":\"white\",\"linecolor\":\"white\",\"ticks\":\"\"},\"caxis\":{\"gridcolor\":\"white\",\"linecolor\":\"white\",\"ticks\":\"\"}},\"coloraxis\":{\"colorbar\":{\"outlinewidth\":0,\"ticks\":\"\"}},\"colorscale\":{\"sequential\":[[0.0,\"#0d0887\"],[0.1111111111111111,\"#46039f\"],[0.2222222222222222,\"#7201a8\"],[0.3333333333333333,\"#9c179e\"],[0.4444444444444444,\"#bd3786\"],[0.5555555555555556,\"#d8576b\"],[0.6666666666666666,\"#ed7953\"],[0.7777777777777778,\"#fb9f3a\"],[0.8888888888888888,\"#fdca26\"],[1.0,\"#f0f921\"]],\"sequentialminus\":[[0.0,\"#0d0887\"],[0.1111111111111111,\"#46039f\"],[0.2222222222222222,\"#7201a8\"],[0.3333333333333333,\"#9c179e\"],[0.4444444444444444,\"#bd3786\"],[0.5555555555555556,\"#d8576b\"],[0.6666666666666666,\"#ed7953\"],[0.7777777777777778,\"#fb9f3a\"],[0.8888888888888888,\"#fdca26\"],[1.0,\"#f0f921\"]],\"diverging\":[[0,\"#8e0152\"],[0.1,\"#c51b7d\"],[0.2,\"#de77ae\"],[0.3,\"#f1b6da\"],[0.4,\"#fde0ef\"],[0.5,\"#f7f7f7\"],[0.6,\"#e6f5d0\"],[0.7,\"#b8e186\"],[0.8,\"#7fbc41\"],[0.9,\"#4d9221\"],[1,\"#276419\"]]},\"xaxis\":{\"gridcolor\":\"white\",\"linecolor\":\"white\",\"ticks\":\"\",\"title\":{\"standoff\":15},\"zerolinecolor\":\"white\",\"automargin\":true,\"zerolinewidth\":2},\"yaxis\":{\"gridcolor\":\"white\",\"linecolor\":\"white\",\"ticks\":\"\",\"title\":{\"standoff\":15},\"zerolinecolor\":\"white\",\"automargin\":true,\"zerolinewidth\":2},\"scene\":{\"xaxis\":{\"backgroundcolor\":\"#E5ECF6\",\"gridcolor\":\"white\",\"linecolor\":\"white\",\"showbackground\":true,\"ticks\":\"\",\"zerolinecolor\":\"white\",\"gridwidth\":2},\"yaxis\":{\"backgroundcolor\":\"#E5ECF6\",\"gridcolor\":\"white\",\"linecolor\":\"white\",\"showbackground\":true,\"ticks\":\"\",\"zerolinecolor\":\"white\",\"gridwidth\":2},\"zaxis\":{\"backgroundcolor\":\"#E5ECF6\",\"gridcolor\":\"white\",\"linecolor\":\"white\",\"showbackground\":true,\"ticks\":\"\",\"zerolinecolor\":\"white\",\"gridwidth\":2}},\"shapedefaults\":{\"line\":{\"color\":\"#2a3f5f\"}},\"annotationdefaults\":{\"arrowcolor\":\"#2a3f5f\",\"arrowhead\":0,\"arrowwidth\":1},\"geo\":{\"bgcolor\":\"white\",\"landcolor\":\"#E5ECF6\",\"subunitcolor\":\"white\",\"showland\":true,\"showlakes\":true,\"lakecolor\":\"white\"},\"title\":{\"x\":0.05},\"mapbox\":{\"style\":\"light\"}}},\"xaxis\":{\"anchor\":\"y\",\"domain\":[0.0,0.22999999999999998],\"title\":{\"text\":\"total_count_rel\"}},\"yaxis\":{\"anchor\":\"x\",\"domain\":[0.0,0.485],\"title\":{\"text\":\"mirna\"},\"categoryorder\":\"array\",\"categoryarray\":[\"miR-99/100\",\"miR-96/1271\",\"miR-9\",\"miR-876\",\"miR-875\",\"miR-874\",\"miR-873\",\"miR-802\",\"miR-760\",\"miR-758\",\"miR-744\",\"miR-7\",\"miR-670\",\"miR-668\",\"miR-665\",\"miR-655\",\"miR-653\",\"miR-652\",\"miR-615\",\"miR-582\",\"miR-551\",\"miR-544a\",\"miR-543\",\"miR-542\",\"miR-539\",\"miR-532\",\"miR-505\",\"miR-504\",\"miR-503\",\"miR-501/502\",\"miR-499\",\"miR-496\",\"miR-495\",\"miR-494\",\"miR-493\",\"miR-491\",\"miR-490\",\"miR-489\",\"miR-488\",\"miR-487b\",\"miR-486\",\"miR-485\",\"miR-483\",\"miR-455\",\"miR-452\",\"miR-450a\",\"miR-448\",\"miR-433\",\"miR-431\",\"miR-425\",\"miR-423\",\"miR-421\",\"miR-412\",\"miR-411\",\"miR-410\",\"miR-409\",\"miR-383\",\"miR-382\",\"miR-381\",\"miR-379\",\"miR-378a\",\"miR-377\",\"miR-376c\",\"miR-376ab\",\"miR-375\",\"miR-374\",\"miR-371\",\"miR-369\",\"miR-365\",\"miR-361\",\"miR-346\",\"miR-342\",\"miR-340\",\"miR-34/449\",\"miR-339\",\"miR-338\",\"miR-335\",\"miR-331\",\"miR-330\",\"miR-33\",\"miR-329/362\",\"miR-328\",\"miR-325\",\"miR-324\",\"miR-323a\",\"miR-31\",\"miR-302c\",\"miR-302abd\",\"miR-30\",\"miR-299\",\"miR-296\",\"miR-29\",\"miR-28/708\",\"miR-27\",\"miR-26\",\"miR-25/32/92/363/367\",\"miR-24\",\"miR-23\",\"miR-224\",\"miR-223\",\"miR-221/222\",\"miR-22\",\"miR-219\",\"miR-218\",\"miR-217\",\"miR-216b\",\"miR-216a\",\"miR-214\",\"miR-210\",\"miR-21/590\",\"miR-208\",\"miR-205\",\"miR-204/211\",\"miR-203a\",\"miR-202\",\"miR-200bc/429\",\"miR-199\",\"miR-196\",\"miR-194\",\"miR-193\",\"miR-192/215\",\"miR-191\",\"miR-190\",\"miR-19\",\"miR-188\",\"miR-187\",\"miR-186\",\"miR-185\",\"miR-184\",\"miR-183\",\"miR-182\",\"miR-181\",\"miR-18\",\"miR-17/20/93/106/519d\",\"miR-155\",\"miR-154\",\"miR-153\",\"miR-151a\",\"miR-150\",\"miR-15/16/195/424/497\",\"miR-149\",\"miR-148/152\",\"miR-147\",\"miR-146\",\"miR-145\",\"miR-144\",\"miR-143\",\"miR-142\",\"miR-141/200a\",\"miR-140\",\"miR-139\",\"miR-138\",\"miR-137\",\"miR-136\",\"miR-135\",\"miR-134\",\"miR-133\",\"miR-132/212\",\"miR-1306\",\"miR-130/301/454\",\"miR-1298\",\"miR-129\",\"miR-128\",\"miR-127\",\"miR-126\",\"miR-1251\",\"miR-125\",\"miR-1249\",\"miR-124\",\"miR-122\",\"miR-1197\",\"miR-1193\",\"miR-103/107\",\"miR-101\",\"miR-10\",\"miR-1/206\",\"let-7/miR-98\"]},\"xaxis2\":{\"anchor\":\"y2\",\"domain\":[0.24999999999999997,0.48],\"matches\":\"x\",\"title\":{\"text\":\"total_count_rel\"}},\"yaxis2\":{\"anchor\":\"x2\",\"domain\":[0.0,0.485],\"matches\":\"y\",\"showticklabels\":false,\"categoryorder\":\"array\",\"categoryarray\":[\"miR-99/100\",\"miR-96/1271\",\"miR-9\",\"miR-876\",\"miR-875\",\"miR-874\",\"miR-873\",\"miR-802\",\"miR-760\",\"miR-758\",\"miR-744\",\"miR-7\",\"miR-670\",\"miR-668\",\"miR-665\",\"miR-655\",\"miR-653\",\"miR-652\",\"miR-615\",\"miR-582\",\"miR-551\",\"miR-544a\",\"miR-543\",\"miR-542\",\"miR-539\",\"miR-532\",\"miR-505\",\"miR-504\",\"miR-503\",\"miR-501/502\",\"miR-499\",\"miR-496\",\"miR-495\",\"miR-494\",\"miR-493\",\"miR-491\",\"miR-490\",\"miR-489\",\"miR-488\",\"miR-487b\",\"miR-486\",\"miR-485\",\"miR-483\",\"miR-455\",\"miR-452\",\"miR-450a\",\"miR-448\",\"miR-433\",\"miR-431\",\"miR-425\",\"miR-423\",\"miR-421\",\"miR-412\",\"miR-411\",\"miR-410\",\"miR-409\",\"miR-383\",\"miR-382\",\"miR-381\",\"miR-379\",\"miR-378a\",\"miR-377\",\"miR-376c\",\"miR-376ab\",\"miR-375\",\"miR-374\",\"miR-371\",\"miR-369\",\"miR-365\",\"miR-361\",\"miR-346\",\"miR-342\",\"miR-340\",\"miR-34/449\",\"miR-339\",\"miR-338\",\"miR-335\",\"miR-331\",\"miR-330\",\"miR-33\",\"miR-329/362\",\"miR-328\",\"miR-325\",\"miR-324\",\"miR-323a\",\"miR-31\",\"miR-302c\",\"miR-302abd\",\"miR-30\",\"miR-299\",\"miR-296\",\"miR-29\",\"miR-28/708\",\"miR-27\",\"miR-26\",\"miR-25/32/92/363/367\",\"miR-24\",\"miR-23\",\"miR-224\",\"miR-223\",\"miR-221/222\",\"miR-22\",\"miR-219\",\"miR-218\",\"miR-217\",\"miR-216b\",\"miR-216a\",\"miR-214\",\"miR-210\",\"miR-21/590\",\"miR-208\",\"miR-205\",\"miR-204/211\",\"miR-203a\",\"miR-202\",\"miR-200bc/429\",\"miR-199\",\"miR-196\",\"miR-194\",\"miR-193\",\"miR-192/215\",\"miR-191\",\"miR-190\",\"miR-19\",\"miR-188\",\"miR-187\",\"miR-186\",\"miR-185\",\"miR-184\",\"miR-183\",\"miR-182\",\"miR-181\",\"miR-18\",\"miR-17/20/93/106/519d\",\"miR-155\",\"miR-154\",\"miR-153\",\"miR-151a\",\"miR-150\",\"miR-15/16/195/424/497\",\"miR-149\",\"miR-148/152\",\"miR-147\",\"miR-146\",\"miR-145\",\"miR-144\",\"miR-143\",\"miR-142\",\"miR-141/200a\",\"miR-140\",\"miR-139\",\"miR-138\",\"miR-137\",\"miR-136\",\"miR-135\",\"miR-134\",\"miR-133\",\"miR-132/212\",\"miR-1306\",\"miR-130/301/454\",\"miR-1298\",\"miR-129\",\"miR-128\",\"miR-127\",\"miR-126\",\"miR-1251\",\"miR-125\",\"miR-1249\",\"miR-124\",\"miR-122\",\"miR-1197\",\"miR-1193\",\"miR-103/107\",\"miR-101\",\"miR-10\",\"miR-1/206\",\"let-7/miR-98\"]},\"xaxis3\":{\"anchor\":\"y3\",\"domain\":[0.49999999999999994,0.73],\"matches\":\"x\",\"title\":{\"text\":\"total_count_rel\"}},\"yaxis3\":{\"anchor\":\"x3\",\"domain\":[0.0,0.485],\"matches\":\"y\",\"showticklabels\":false,\"categoryorder\":\"array\",\"categoryarray\":[\"miR-99/100\",\"miR-96/1271\",\"miR-9\",\"miR-876\",\"miR-875\",\"miR-874\",\"miR-873\",\"miR-802\",\"miR-760\",\"miR-758\",\"miR-744\",\"miR-7\",\"miR-670\",\"miR-668\",\"miR-665\",\"miR-655\",\"miR-653\",\"miR-652\",\"miR-615\",\"miR-582\",\"miR-551\",\"miR-544a\",\"miR-543\",\"miR-542\",\"miR-539\",\"miR-532\",\"miR-505\",\"miR-504\",\"miR-503\",\"miR-501/502\",\"miR-499\",\"miR-496\",\"miR-495\",\"miR-494\",\"miR-493\",\"miR-491\",\"miR-490\",\"miR-489\",\"miR-488\",\"miR-487b\",\"miR-486\",\"miR-485\",\"miR-483\",\"miR-455\",\"miR-452\",\"miR-450a\",\"miR-448\",\"miR-433\",\"miR-431\",\"miR-425\",\"miR-423\",\"miR-421\",\"miR-412\",\"miR-411\",\"miR-410\",\"miR-409\",\"miR-383\",\"miR-382\",\"miR-381\",\"miR-379\",\"miR-378a\",\"miR-377\",\"miR-376c\",\"miR-376ab\",\"miR-375\",\"miR-374\",\"miR-371\",\"miR-369\",\"miR-365\",\"miR-361\",\"miR-346\",\"miR-342\",\"miR-340\",\"miR-34/449\",\"miR-339\",\"miR-338\",\"miR-335\",\"miR-331\",\"miR-330\",\"miR-33\",\"miR-329/362\",\"miR-328\",\"miR-325\",\"miR-324\",\"miR-323a\",\"miR-31\",\"miR-302c\",\"miR-302abd\",\"miR-30\",\"miR-299\",\"miR-296\",\"miR-29\",\"miR-28/708\",\"miR-27\",\"miR-26\",\"miR-25/32/92/363/367\",\"miR-24\",\"miR-23\",\"miR-224\",\"miR-223\",\"miR-221/222\",\"miR-22\",\"miR-219\",\"miR-218\",\"miR-217\",\"miR-216b\",\"miR-216a\",\"miR-214\",\"miR-210\",\"miR-21/590\",\"miR-208\",\"miR-205\",\"miR-204/211\",\"miR-203a\",\"miR-202\",\"miR-200bc/429\",\"miR-199\",\"miR-196\",\"miR-194\",\"miR-193\",\"miR-192/215\",\"miR-191\",\"miR-190\",\"miR-19\",\"miR-188\",\"miR-187\",\"miR-186\",\"miR-185\",\"miR-184\",\"miR-183\",\"miR-182\",\"miR-181\",\"miR-18\",\"miR-17/20/93/106/519d\",\"miR-155\",\"miR-154\",\"miR-153\",\"miR-151a\",\"miR-150\",\"miR-15/16/195/424/497\",\"miR-149\",\"miR-148/152\",\"miR-147\",\"miR-146\",\"miR-145\",\"miR-144\",\"miR-143\",\"miR-142\",\"miR-141/200a\",\"miR-140\",\"miR-139\",\"miR-138\",\"miR-137\",\"miR-136\",\"miR-135\",\"miR-134\",\"miR-133\",\"miR-132/212\",\"miR-1306\",\"miR-130/301/454\",\"miR-1298\",\"miR-129\",\"miR-128\",\"miR-127\",\"miR-126\",\"miR-1251\",\"miR-125\",\"miR-1249\",\"miR-124\",\"miR-122\",\"miR-1197\",\"miR-1193\",\"miR-103/107\",\"miR-101\",\"miR-10\",\"miR-1/206\",\"let-7/miR-98\"]},\"xaxis4\":{\"anchor\":\"y4\",\"domain\":[0.75,0.98],\"matches\":\"x\",\"title\":{\"text\":\"total_count_rel\"}},\"yaxis4\":{\"anchor\":\"x4\",\"domain\":[0.0,0.485],\"matches\":\"y\",\"showticklabels\":false,\"categoryorder\":\"array\",\"categoryarray\":[\"miR-99/100\",\"miR-96/1271\",\"miR-9\",\"miR-876\",\"miR-875\",\"miR-874\",\"miR-873\",\"miR-802\",\"miR-760\",\"miR-758\",\"miR-744\",\"miR-7\",\"miR-670\",\"miR-668\",\"miR-665\",\"miR-655\",\"miR-653\",\"miR-652\",\"miR-615\",\"miR-582\",\"miR-551\",\"miR-544a\",\"miR-543\",\"miR-542\",\"miR-539\",\"miR-532\",\"miR-505\",\"miR-504\",\"miR-503\",\"miR-501/502\",\"miR-499\",\"miR-496\",\"miR-495\",\"miR-494\",\"miR-493\",\"miR-491\",\"miR-490\",\"miR-489\",\"miR-488\",\"miR-487b\",\"miR-486\",\"miR-485\",\"miR-483\",\"miR-455\",\"miR-452\",\"miR-450a\",\"miR-448\",\"miR-433\",\"miR-431\",\"miR-425\",\"miR-423\",\"miR-421\",\"miR-412\",\"miR-411\",\"miR-410\",\"miR-409\",\"miR-383\",\"miR-382\",\"miR-381\",\"miR-379\",\"miR-378a\",\"miR-377\",\"miR-376c\",\"miR-376ab\",\"miR-375\",\"miR-374\",\"miR-371\",\"miR-369\",\"miR-365\",\"miR-361\",\"miR-346\",\"miR-342\",\"miR-340\",\"miR-34/449\",\"miR-339\",\"miR-338\",\"miR-335\",\"miR-331\",\"miR-330\",\"miR-33\",\"miR-329/362\",\"miR-328\",\"miR-325\",\"miR-324\",\"miR-323a\",\"miR-31\",\"miR-302c\",\"miR-302abd\",\"miR-30\",\"miR-299\",\"miR-296\",\"miR-29\",\"miR-28/708\",\"miR-27\",\"miR-26\",\"miR-25/32/92/363/367\",\"miR-24\",\"miR-23\",\"miR-224\",\"miR-223\",\"miR-221/222\",\"miR-22\",\"miR-219\",\"miR-218\",\"miR-217\",\"miR-216b\",\"miR-216a\",\"miR-214\",\"miR-210\",\"miR-21/590\",\"miR-208\",\"miR-205\",\"miR-204/211\",\"miR-203a\",\"miR-202\",\"miR-200bc/429\",\"miR-199\",\"miR-196\",\"miR-194\",\"miR-193\",\"miR-192/215\",\"miR-191\",\"miR-190\",\"miR-19\",\"miR-188\",\"miR-187\",\"miR-186\",\"miR-185\",\"miR-184\",\"miR-183\",\"miR-182\",\"miR-181\",\"miR-18\",\"miR-17/20/93/106/519d\",\"miR-155\",\"miR-154\",\"miR-153\",\"miR-151a\",\"miR-150\",\"miR-15/16/195/424/497\",\"miR-149\",\"miR-148/152\",\"miR-147\",\"miR-146\",\"miR-145\",\"miR-144\",\"miR-143\",\"miR-142\",\"miR-141/200a\",\"miR-140\",\"miR-139\",\"miR-138\",\"miR-137\",\"miR-136\",\"miR-135\",\"miR-134\",\"miR-133\",\"miR-132/212\",\"miR-1306\",\"miR-130/301/454\",\"miR-1298\",\"miR-129\",\"miR-128\",\"miR-127\",\"miR-126\",\"miR-1251\",\"miR-125\",\"miR-1249\",\"miR-124\",\"miR-122\",\"miR-1197\",\"miR-1193\",\"miR-103/107\",\"miR-101\",\"miR-10\",\"miR-1/206\",\"let-7/miR-98\"]},\"xaxis5\":{\"anchor\":\"y5\",\"domain\":[0.0,0.22999999999999998],\"matches\":\"x\",\"showticklabels\":false},\"yaxis5\":{\"anchor\":\"x5\",\"domain\":[0.515,1.0],\"matches\":\"y\",\"title\":{\"text\":\"mirna\"},\"categoryorder\":\"array\",\"categoryarray\":[\"miR-99/100\",\"miR-96/1271\",\"miR-9\",\"miR-876\",\"miR-875\",\"miR-874\",\"miR-873\",\"miR-802\",\"miR-760\",\"miR-758\",\"miR-744\",\"miR-7\",\"miR-670\",\"miR-668\",\"miR-665\",\"miR-655\",\"miR-653\",\"miR-652\",\"miR-615\",\"miR-582\",\"miR-551\",\"miR-544a\",\"miR-543\",\"miR-542\",\"miR-539\",\"miR-532\",\"miR-505\",\"miR-504\",\"miR-503\",\"miR-501/502\",\"miR-499\",\"miR-496\",\"miR-495\",\"miR-494\",\"miR-493\",\"miR-491\",\"miR-490\",\"miR-489\",\"miR-488\",\"miR-487b\",\"miR-486\",\"miR-485\",\"miR-483\",\"miR-455\",\"miR-452\",\"miR-450a\",\"miR-448\",\"miR-433\",\"miR-431\",\"miR-425\",\"miR-423\",\"miR-421\",\"miR-412\",\"miR-411\",\"miR-410\",\"miR-409\",\"miR-383\",\"miR-382\",\"miR-381\",\"miR-379\",\"miR-378a\",\"miR-377\",\"miR-376c\",\"miR-376ab\",\"miR-375\",\"miR-374\",\"miR-371\",\"miR-369\",\"miR-365\",\"miR-361\",\"miR-346\",\"miR-342\",\"miR-340\",\"miR-34/449\",\"miR-339\",\"miR-338\",\"miR-335\",\"miR-331\",\"miR-330\",\"miR-33\",\"miR-329/362\",\"miR-328\",\"miR-325\",\"miR-324\",\"miR-323a\",\"miR-31\",\"miR-302c\",\"miR-302abd\",\"miR-30\",\"miR-299\",\"miR-296\",\"miR-29\",\"miR-28/708\",\"miR-27\",\"miR-26\",\"miR-25/32/92/363/367\",\"miR-24\",\"miR-23\",\"miR-224\",\"miR-223\",\"miR-221/222\",\"miR-22\",\"miR-219\",\"miR-218\",\"miR-217\",\"miR-216b\",\"miR-216a\",\"miR-214\",\"miR-210\",\"miR-21/590\",\"miR-208\",\"miR-205\",\"miR-204/211\",\"miR-203a\",\"miR-202\",\"miR-200bc/429\",\"miR-199\",\"miR-196\",\"miR-194\",\"miR-193\",\"miR-192/215\",\"miR-191\",\"miR-190\",\"miR-19\",\"miR-188\",\"miR-187\",\"miR-186\",\"miR-185\",\"miR-184\",\"miR-183\",\"miR-182\",\"miR-181\",\"miR-18\",\"miR-17/20/93/106/519d\",\"miR-155\",\"miR-154\",\"miR-153\",\"miR-151a\",\"miR-150\",\"miR-15/16/195/424/497\",\"miR-149\",\"miR-148/152\",\"miR-147\",\"miR-146\",\"miR-145\",\"miR-144\",\"miR-143\",\"miR-142\",\"miR-141/200a\",\"miR-140\",\"miR-139\",\"miR-138\",\"miR-137\",\"miR-136\",\"miR-135\",\"miR-134\",\"miR-133\",\"miR-132/212\",\"miR-1306\",\"miR-130/301/454\",\"miR-1298\",\"miR-129\",\"miR-128\",\"miR-127\",\"miR-126\",\"miR-1251\",\"miR-125\",\"miR-1249\",\"miR-124\",\"miR-122\",\"miR-1197\",\"miR-1193\",\"miR-103/107\",\"miR-101\",\"miR-10\",\"miR-1/206\",\"let-7/miR-98\"]},\"xaxis6\":{\"anchor\":\"y6\",\"domain\":[0.24999999999999997,0.48],\"matches\":\"x\",\"showticklabels\":false},\"yaxis6\":{\"anchor\":\"x6\",\"domain\":[0.515,1.0],\"matches\":\"y\",\"showticklabels\":false,\"categoryorder\":\"array\",\"categoryarray\":[\"miR-99/100\",\"miR-96/1271\",\"miR-9\",\"miR-876\",\"miR-875\",\"miR-874\",\"miR-873\",\"miR-802\",\"miR-760\",\"miR-758\",\"miR-744\",\"miR-7\",\"miR-670\",\"miR-668\",\"miR-665\",\"miR-655\",\"miR-653\",\"miR-652\",\"miR-615\",\"miR-582\",\"miR-551\",\"miR-544a\",\"miR-543\",\"miR-542\",\"miR-539\",\"miR-532\",\"miR-505\",\"miR-504\",\"miR-503\",\"miR-501/502\",\"miR-499\",\"miR-496\",\"miR-495\",\"miR-494\",\"miR-493\",\"miR-491\",\"miR-490\",\"miR-489\",\"miR-488\",\"miR-487b\",\"miR-486\",\"miR-485\",\"miR-483\",\"miR-455\",\"miR-452\",\"miR-450a\",\"miR-448\",\"miR-433\",\"miR-431\",\"miR-425\",\"miR-423\",\"miR-421\",\"miR-412\",\"miR-411\",\"miR-410\",\"miR-409\",\"miR-383\",\"miR-382\",\"miR-381\",\"miR-379\",\"miR-378a\",\"miR-377\",\"miR-376c\",\"miR-376ab\",\"miR-375\",\"miR-374\",\"miR-371\",\"miR-369\",\"miR-365\",\"miR-361\",\"miR-346\",\"miR-342\",\"miR-340\",\"miR-34/449\",\"miR-339\",\"miR-338\",\"miR-335\",\"miR-331\",\"miR-330\",\"miR-33\",\"miR-329/362\",\"miR-328\",\"miR-325\",\"miR-324\",\"miR-323a\",\"miR-31\",\"miR-302c\",\"miR-302abd\",\"miR-30\",\"miR-299\",\"miR-296\",\"miR-29\",\"miR-28/708\",\"miR-27\",\"miR-26\",\"miR-25/32/92/363/367\",\"miR-24\",\"miR-23\",\"miR-224\",\"miR-223\",\"miR-221/222\",\"miR-22\",\"miR-219\",\"miR-218\",\"miR-217\",\"miR-216b\",\"miR-216a\",\"miR-214\",\"miR-210\",\"miR-21/590\",\"miR-208\",\"miR-205\",\"miR-204/211\",\"miR-203a\",\"miR-202\",\"miR-200bc/429\",\"miR-199\",\"miR-196\",\"miR-194\",\"miR-193\",\"miR-192/215\",\"miR-191\",\"miR-190\",\"miR-19\",\"miR-188\",\"miR-187\",\"miR-186\",\"miR-185\",\"miR-184\",\"miR-183\",\"miR-182\",\"miR-181\",\"miR-18\",\"miR-17/20/93/106/519d\",\"miR-155\",\"miR-154\",\"miR-153\",\"miR-151a\",\"miR-150\",\"miR-15/16/195/424/497\",\"miR-149\",\"miR-148/152\",\"miR-147\",\"miR-146\",\"miR-145\",\"miR-144\",\"miR-143\",\"miR-142\",\"miR-141/200a\",\"miR-140\",\"miR-139\",\"miR-138\",\"miR-137\",\"miR-136\",\"miR-135\",\"miR-134\",\"miR-133\",\"miR-132/212\",\"miR-1306\",\"miR-130/301/454\",\"miR-1298\",\"miR-129\",\"miR-128\",\"miR-127\",\"miR-126\",\"miR-1251\",\"miR-125\",\"miR-1249\",\"miR-124\",\"miR-122\",\"miR-1197\",\"miR-1193\",\"miR-103/107\",\"miR-101\",\"miR-10\",\"miR-1/206\",\"let-7/miR-98\"]},\"xaxis7\":{\"anchor\":\"y7\",\"domain\":[0.49999999999999994,0.73],\"matches\":\"x\",\"showticklabels\":false},\"yaxis7\":{\"anchor\":\"x7\",\"domain\":[0.515,1.0],\"matches\":\"y\",\"showticklabels\":false,\"categoryorder\":\"array\",\"categoryarray\":[\"miR-99/100\",\"miR-96/1271\",\"miR-9\",\"miR-876\",\"miR-875\",\"miR-874\",\"miR-873\",\"miR-802\",\"miR-760\",\"miR-758\",\"miR-744\",\"miR-7\",\"miR-670\",\"miR-668\",\"miR-665\",\"miR-655\",\"miR-653\",\"miR-652\",\"miR-615\",\"miR-582\",\"miR-551\",\"miR-544a\",\"miR-543\",\"miR-542\",\"miR-539\",\"miR-532\",\"miR-505\",\"miR-504\",\"miR-503\",\"miR-501/502\",\"miR-499\",\"miR-496\",\"miR-495\",\"miR-494\",\"miR-493\",\"miR-491\",\"miR-490\",\"miR-489\",\"miR-488\",\"miR-487b\",\"miR-486\",\"miR-485\",\"miR-483\",\"miR-455\",\"miR-452\",\"miR-450a\",\"miR-448\",\"miR-433\",\"miR-431\",\"miR-425\",\"miR-423\",\"miR-421\",\"miR-412\",\"miR-411\",\"miR-410\",\"miR-409\",\"miR-383\",\"miR-382\",\"miR-381\",\"miR-379\",\"miR-378a\",\"miR-377\",\"miR-376c\",\"miR-376ab\",\"miR-375\",\"miR-374\",\"miR-371\",\"miR-369\",\"miR-365\",\"miR-361\",\"miR-346\",\"miR-342\",\"miR-340\",\"miR-34/449\",\"miR-339\",\"miR-338\",\"miR-335\",\"miR-331\",\"miR-330\",\"miR-33\",\"miR-329/362\",\"miR-328\",\"miR-325\",\"miR-324\",\"miR-323a\",\"miR-31\",\"miR-302c\",\"miR-302abd\",\"miR-30\",\"miR-299\",\"miR-296\",\"miR-29\",\"miR-28/708\",\"miR-27\",\"miR-26\",\"miR-25/32/92/363/367\",\"miR-24\",\"miR-23\",\"miR-224\",\"miR-223\",\"miR-221/222\",\"miR-22\",\"miR-219\",\"miR-218\",\"miR-217\",\"miR-216b\",\"miR-216a\",\"miR-214\",\"miR-210\",\"miR-21/590\",\"miR-208\",\"miR-205\",\"miR-204/211\",\"miR-203a\",\"miR-202\",\"miR-200bc/429\",\"miR-199\",\"miR-196\",\"miR-194\",\"miR-193\",\"miR-192/215\",\"miR-191\",\"miR-190\",\"miR-19\",\"miR-188\",\"miR-187\",\"miR-186\",\"miR-185\",\"miR-184\",\"miR-183\",\"miR-182\",\"miR-181\",\"miR-18\",\"miR-17/20/93/106/519d\",\"miR-155\",\"miR-154\",\"miR-153\",\"miR-151a\",\"miR-150\",\"miR-15/16/195/424/497\",\"miR-149\",\"miR-148/152\",\"miR-147\",\"miR-146\",\"miR-145\",\"miR-144\",\"miR-143\",\"miR-142\",\"miR-141/200a\",\"miR-140\",\"miR-139\",\"miR-138\",\"miR-137\",\"miR-136\",\"miR-135\",\"miR-134\",\"miR-133\",\"miR-132/212\",\"miR-1306\",\"miR-130/301/454\",\"miR-1298\",\"miR-129\",\"miR-128\",\"miR-127\",\"miR-126\",\"miR-1251\",\"miR-125\",\"miR-1249\",\"miR-124\",\"miR-122\",\"miR-1197\",\"miR-1193\",\"miR-103/107\",\"miR-101\",\"miR-10\",\"miR-1/206\",\"let-7/miR-98\"]},\"xaxis8\":{\"anchor\":\"y8\",\"domain\":[0.75,0.98],\"matches\":\"x\",\"showticklabels\":false},\"yaxis8\":{\"anchor\":\"x8\",\"domain\":[0.515,1.0],\"matches\":\"y\",\"showticklabels\":false,\"categoryorder\":\"array\",\"categoryarray\":[\"miR-99/100\",\"miR-96/1271\",\"miR-9\",\"miR-876\",\"miR-875\",\"miR-874\",\"miR-873\",\"miR-802\",\"miR-760\",\"miR-758\",\"miR-744\",\"miR-7\",\"miR-670\",\"miR-668\",\"miR-665\",\"miR-655\",\"miR-653\",\"miR-652\",\"miR-615\",\"miR-582\",\"miR-551\",\"miR-544a\",\"miR-543\",\"miR-542\",\"miR-539\",\"miR-532\",\"miR-505\",\"miR-504\",\"miR-503\",\"miR-501/502\",\"miR-499\",\"miR-496\",\"miR-495\",\"miR-494\",\"miR-493\",\"miR-491\",\"miR-490\",\"miR-489\",\"miR-488\",\"miR-487b\",\"miR-486\",\"miR-485\",\"miR-483\",\"miR-455\",\"miR-452\",\"miR-450a\",\"miR-448\",\"miR-433\",\"miR-431\",\"miR-425\",\"miR-423\",\"miR-421\",\"miR-412\",\"miR-411\",\"miR-410\",\"miR-409\",\"miR-383\",\"miR-382\",\"miR-381\",\"miR-379\",\"miR-378a\",\"miR-377\",\"miR-376c\",\"miR-376ab\",\"miR-375\",\"miR-374\",\"miR-371\",\"miR-369\",\"miR-365\",\"miR-361\",\"miR-346\",\"miR-342\",\"miR-340\",\"miR-34/449\",\"miR-339\",\"miR-338\",\"miR-335\",\"miR-331\",\"miR-330\",\"miR-33\",\"miR-329/362\",\"miR-328\",\"miR-325\",\"miR-324\",\"miR-323a\",\"miR-31\",\"miR-302c\",\"miR-302abd\",\"miR-30\",\"miR-299\",\"miR-296\",\"miR-29\",\"miR-28/708\",\"miR-27\",\"miR-26\",\"miR-25/32/92/363/367\",\"miR-24\",\"miR-23\",\"miR-224\",\"miR-223\",\"miR-221/222\",\"miR-22\",\"miR-219\",\"miR-218\",\"miR-217\",\"miR-216b\",\"miR-216a\",\"miR-214\",\"miR-210\",\"miR-21/590\",\"miR-208\",\"miR-205\",\"miR-204/211\",\"miR-203a\",\"miR-202\",\"miR-200bc/429\",\"miR-199\",\"miR-196\",\"miR-194\",\"miR-193\",\"miR-192/215\",\"miR-191\",\"miR-190\",\"miR-19\",\"miR-188\",\"miR-187\",\"miR-186\",\"miR-185\",\"miR-184\",\"miR-183\",\"miR-182\",\"miR-181\",\"miR-18\",\"miR-17/20/93/106/519d\",\"miR-155\",\"miR-154\",\"miR-153\",\"miR-151a\",\"miR-150\",\"miR-15/16/195/424/497\",\"miR-149\",\"miR-148/152\",\"miR-147\",\"miR-146\",\"miR-145\",\"miR-144\",\"miR-143\",\"miR-142\",\"miR-141/200a\",\"miR-140\",\"miR-139\",\"miR-138\",\"miR-137\",\"miR-136\",\"miR-135\",\"miR-134\",\"miR-133\",\"miR-132/212\",\"miR-1306\",\"miR-130/301/454\",\"miR-1298\",\"miR-129\",\"miR-128\",\"miR-127\",\"miR-126\",\"miR-1251\",\"miR-125\",\"miR-1249\",\"miR-124\",\"miR-122\",\"miR-1197\",\"miR-1193\",\"miR-103/107\",\"miR-101\",\"miR-10\",\"miR-1/206\",\"let-7/miR-98\"]},\"annotations\":[{\"font\":{},\"showarrow\":false,\"text\":\"<b>z-dna</b>\",\"x\":0.11499999999999999,\"xanchor\":\"center\",\"xref\":\"paper\",\"y\":1.0,\"yanchor\":\"bottom\",\"yref\":\"paper\"},{\"font\":{},\"showarrow\":false,\"text\":\"<b>sidd</b>\",\"x\":0.365,\"xanchor\":\"center\",\"xref\":\"paper\",\"y\":1.0,\"yanchor\":\"bottom\",\"yref\":\"paper\"},{\"font\":{},\"showarrow\":false,\"text\":\"<b>g4</b>\",\"x\":0.615,\"xanchor\":\"center\",\"xref\":\"paper\",\"y\":1.0,\"yanchor\":\"bottom\",\"yref\":\"paper\"},{\"font\":{},\"showarrow\":false,\"text\":\"<b>h-dna</b>\",\"x\":0.865,\"xanchor\":\"center\",\"xref\":\"paper\",\"y\":1.0,\"yanchor\":\"bottom\",\"yref\":\"paper\"},{\"font\":{},\"showarrow\":false,\"text\":\"<b>Repeats without cCREs</b>\",\"textangle\":90,\"x\":0.98,\"xanchor\":\"left\",\"xref\":\"paper\",\"y\":0.2425,\"yanchor\":\"middle\",\"yref\":\"paper\"},{\"font\":{},\"showarrow\":false,\"text\":\"<b>cCREs without Repeats</b>\",\"textangle\":90,\"x\":0.98,\"xanchor\":\"left\",\"xref\":\"paper\",\"y\":0.7575000000000001,\"yanchor\":\"middle\",\"yref\":\"paper\"}],\"legend\":{\"title\":{\"text\":\"strand\"},\"tracegroupgap\":0},\"margin\":{\"t\":60},\"barmode\":\"relative\",\"title\":{\"text\":\"miRNAs that bind <b>repeat promoters (no overlap with CCRE)</b> vs <b>the CCRE promoters (no overlap with repeats)</b>\"},\"height\":920,\"width\":1700},                        {\"responsive\": true}                    ).then(function(){\n",
       "                            \n",
       "var gd = document.getElementById('2a656c45-10bb-41c8-a301-96a7cdceab4e');\n",
       "var x = new MutationObserver(function (mutations, observer) {{\n",
       "        var display = window.getComputedStyle(gd).display;\n",
       "        if (!display || display === 'none') {{\n",
       "            console.log([gd, 'removed!']);\n",
       "            Plotly.purge(gd);\n",
       "            observer.disconnect();\n",
       "        }}\n",
       "}});\n",
       "\n",
       "// Listen for the removal of the full notebook cells\n",
       "var notebookContainer = gd.closest('#notebook-container');\n",
       "if (notebookContainer) {{\n",
       "    x.observe(notebookContainer, {childList: true});\n",
       "}}\n",
       "\n",
       "// Listen for the clearing of the current output cell\n",
       "var outputEl = gd.closest('.output');\n",
       "if (outputEl) {{\n",
       "    x.observe(outputEl, {childList: true});\n",
       "}}\n",
       "\n",
       "                        })                };                });            </script>        </div>"
      ]
     },
     "metadata": {},
     "output_type": "display_data"
    }
   ],
   "source": [
    "fig = px.bar(\n",
    "    form_df,\n",
    "    y=\"mirna\",\n",
    "    x=\"total_count_rel\",\n",
    "    color=\"strand\",\n",
    "    facet_col=\"group\",\n",
    "    orientation='h',\n",
    "    facet_row=\"type\",\n",
    "    hover_data=['total_count', 'total_group_counts'],\n",
    "    # barmode=\"group\",\n",
    "    # category_orders={\"day\": [\"Thur\", \"Fri\", \"Sat\", \"Sun\"], \"time\": [\"Lunch\", \"Dinner\"]},\n",
    "    color_discrete_map={'mirna_p':'tomato', 'mirna_m':'royalblue'},\n",
    ")\n",
    "\n",
    "fig.for_each_annotation(lambda a: a.update(text=f'<b>{a.text.split(\"=\")[1]}</b>'))\n",
    "\n",
    "fig.update_yaxes(categoryorder='array', categoryarray=form_df['mirna'].unique())\n",
    "fig.update_layout(\n",
    "    title=\"miRNAs that bind <b>repeat promoters (no overlap with CCRE)</b> vs <b>the CCRE promoters (no overlap with repeats)</b>\",\n",
    "    height=920,\n",
    "    width=1700,\n",
    ")\n",
    "fig.write_html(f_plotly_ccre_vs_repeats_3)\n",
    "fig.show()\n"
   ]
  },
  {
   "cell_type": "markdown",
   "id": "8731d5e2",
   "metadata": {},
   "source": [
    "## Task 4"
   ]
  },
  {
   "cell_type": "code",
   "execution_count": 69,
   "id": "9d8051e8",
   "metadata": {},
   "outputs": [
    {
     "data": {
      "text/html": [
       "<div>\n",
       "<style scoped>\n",
       "    .dataframe tbody tr th:only-of-type {\n",
       "        vertical-align: middle;\n",
       "    }\n",
       "\n",
       "    .dataframe tbody tr th {\n",
       "        vertical-align: top;\n",
       "    }\n",
       "\n",
       "    .dataframe thead th {\n",
       "        text-align: right;\n",
       "    }\n",
       "</style>\n",
       "<table border=\"1\" class=\"dataframe\">\n",
       "  <thead>\n",
       "    <tr style=\"text-align: right;\">\n",
       "      <th></th>\n",
       "      <th>mirna</th>\n",
       "      <th>type</th>\n",
       "      <th>group</th>\n",
       "      <th>mirna_gene_strand_orientation</th>\n",
       "      <th>total_count</th>\n",
       "      <th>total_group_counts</th>\n",
       "      <th>total_count_rel</th>\n",
       "    </tr>\n",
       "  </thead>\n",
       "  <tbody>\n",
       "    <tr>\n",
       "      <th>1073</th>\n",
       "      <td>miR-99/100</td>\n",
       "      <td>cCREs without Repeats</td>\n",
       "      <td>z-dna</td>\n",
       "      <td>same</td>\n",
       "      <td>1</td>\n",
       "      <td>771</td>\n",
       "      <td>0.129702</td>\n",
       "    </tr>\n",
       "    <tr>\n",
       "      <th>1072</th>\n",
       "      <td>miR-99/100</td>\n",
       "      <td>cCREs without Repeats</td>\n",
       "      <td>sidd</td>\n",
       "      <td>different</td>\n",
       "      <td>1</td>\n",
       "      <td>8859</td>\n",
       "      <td>0.011288</td>\n",
       "    </tr>\n",
       "    <tr>\n",
       "      <th>1071</th>\n",
       "      <td>miR-99/100</td>\n",
       "      <td>cCREs without Repeats</td>\n",
       "      <td>g4</td>\n",
       "      <td>same</td>\n",
       "      <td>1</td>\n",
       "      <td>2007</td>\n",
       "      <td>0.049826</td>\n",
       "    </tr>\n",
       "    <tr>\n",
       "      <th>1070</th>\n",
       "      <td>miR-96/1271</td>\n",
       "      <td>cCREs without Repeats</td>\n",
       "      <td>z-dna</td>\n",
       "      <td>different</td>\n",
       "      <td>1</td>\n",
       "      <td>771</td>\n",
       "      <td>0.129702</td>\n",
       "    </tr>\n",
       "    <tr>\n",
       "      <th>1068</th>\n",
       "      <td>miR-96/1271</td>\n",
       "      <td>cCREs without Repeats</td>\n",
       "      <td>sidd</td>\n",
       "      <td>same</td>\n",
       "      <td>5</td>\n",
       "      <td>8859</td>\n",
       "      <td>0.056440</td>\n",
       "    </tr>\n",
       "    <tr>\n",
       "      <th>...</th>\n",
       "      <td>...</td>\n",
       "      <td>...</td>\n",
       "      <td>...</td>\n",
       "      <td>...</td>\n",
       "      <td>...</td>\n",
       "      <td>...</td>\n",
       "      <td>...</td>\n",
       "    </tr>\n",
       "    <tr>\n",
       "      <th>19</th>\n",
       "      <td>let-7/miR-98</td>\n",
       "      <td>cCREs without Repeats</td>\n",
       "      <td>h-dna</td>\n",
       "      <td>same</td>\n",
       "      <td>1</td>\n",
       "      <td>252</td>\n",
       "      <td>0.396825</td>\n",
       "    </tr>\n",
       "    <tr>\n",
       "      <th>20</th>\n",
       "      <td>let-7/miR-98</td>\n",
       "      <td>cCREs without Repeats</td>\n",
       "      <td>g4</td>\n",
       "      <td>different</td>\n",
       "      <td>1</td>\n",
       "      <td>2007</td>\n",
       "      <td>0.049826</td>\n",
       "    </tr>\n",
       "    <tr>\n",
       "      <th>17</th>\n",
       "      <td>let-7/miR-98</td>\n",
       "      <td>Repeats without cCREs</td>\n",
       "      <td>sidd</td>\n",
       "      <td>same</td>\n",
       "      <td>6</td>\n",
       "      <td>8859</td>\n",
       "      <td>0.067728</td>\n",
       "    </tr>\n",
       "    <tr>\n",
       "      <th>18</th>\n",
       "      <td>let-7/miR-98</td>\n",
       "      <td>Repeats without cCREs</td>\n",
       "      <td>sidd</td>\n",
       "      <td>different</td>\n",
       "      <td>1</td>\n",
       "      <td>8859</td>\n",
       "      <td>0.011288</td>\n",
       "    </tr>\n",
       "    <tr>\n",
       "      <th>16</th>\n",
       "      <td>let-7/miR-98</td>\n",
       "      <td>Repeats without cCREs</td>\n",
       "      <td>h-dna</td>\n",
       "      <td>different</td>\n",
       "      <td>1</td>\n",
       "      <td>252</td>\n",
       "      <td>0.396825</td>\n",
       "    </tr>\n",
       "  </tbody>\n",
       "</table>\n",
       "<p>1058 rows × 7 columns</p>\n",
       "</div>"
      ],
      "text/plain": [
       "             mirna                   type  group  \\\n",
       "1073    miR-99/100  cCREs without Repeats  z-dna   \n",
       "1072    miR-99/100  cCREs without Repeats   sidd   \n",
       "1071    miR-99/100  cCREs without Repeats     g4   \n",
       "1070   miR-96/1271  cCREs without Repeats  z-dna   \n",
       "1068   miR-96/1271  cCREs without Repeats   sidd   \n",
       "...            ...                    ...    ...   \n",
       "19    let-7/miR-98  cCREs without Repeats  h-dna   \n",
       "20    let-7/miR-98  cCREs without Repeats     g4   \n",
       "17    let-7/miR-98  Repeats without cCREs   sidd   \n",
       "18    let-7/miR-98  Repeats without cCREs   sidd   \n",
       "16    let-7/miR-98  Repeats without cCREs  h-dna   \n",
       "\n",
       "     mirna_gene_strand_orientation  total_count  total_group_counts  \\\n",
       "1073                          same            1                 771   \n",
       "1072                     different            1                8859   \n",
       "1071                          same            1                2007   \n",
       "1070                     different            1                 771   \n",
       "1068                          same            5                8859   \n",
       "...                            ...          ...                 ...   \n",
       "19                            same            1                 252   \n",
       "20                       different            1                2007   \n",
       "17                            same            6                8859   \n",
       "18                       different            1                8859   \n",
       "16                       different            1                 252   \n",
       "\n",
       "      total_count_rel  \n",
       "1073         0.129702  \n",
       "1072         0.011288  \n",
       "1071         0.049826  \n",
       "1070         0.129702  \n",
       "1068         0.056440  \n",
       "...               ...  \n",
       "19           0.396825  \n",
       "20           0.049826  \n",
       "17           0.067728  \n",
       "18           0.011288  \n",
       "16           0.396825  \n",
       "\n",
       "[1058 rows x 7 columns]"
      ]
     },
     "execution_count": 69,
     "metadata": {},
     "output_type": "execute_result"
    }
   ],
   "source": [
    "form_df_1 = (\n",
    "    flipons_to_data.query(\n",
    "        'annotation.str.contains(\"Promoter\") and \\\n",
    "        `cCRE (+-200bp slop)` == \"\" and \\\n",
    "        `LINE/LTR repeats (+-200bp slop)` != \"\"'\n",
    "    )\n",
    "    .replace(regex=\" \\(\\d+\\)\", value=\"\")\n",
    "    .assign(type=\"Repeats without cCREs\")\n",
    ")\n",
    "\n",
    "form_df_2 = (\n",
    "    flipons_to_data.query(\n",
    "        'annotation.str.contains(\"Promoter\") and \\\n",
    "        `cCRE (+-200bp slop)` != \"\" and \\\n",
    "        `LINE/LTR repeats (+-200bp slop)` == \"\"'\n",
    "    )\n",
    "    .replace(regex=\" \\(\\d+\\)\", value=\"\")\n",
    "    .assign(type=\"cCREs without Repeats\")\n",
    ")\n",
    "\n",
    "form_df = (\n",
    "    pd.concat([form_df_1, form_df_2], ignore_index=True)\n",
    "    .assign(\n",
    "        p=lambda x: x[\"miRNA (+ strand)\"].apply(lambda x: x.split(\", \")),\n",
    "        m=lambda x: x[\"miRNA (- strand)\"].apply(lambda x: x.split(\", \")),\n",
    "        gene_strand=lambda x: x['gene_info'].str[-3:].str[1].apply(lambda y: 'p' if y==\"+\" else 'm')\n",
    "    )\n",
    "    .explode(\"p\")\n",
    "    .explode(\"m\")\n",
    "    .loc[:, [\"type\", \"annotation\", 'gene_strand', \"group\", \"p\", \"m\"]]\n",
    "    .melt(\n",
    "        id_vars=[\"type\", \"annotation\", \"gene_strand\", \"group\"],\n",
    "        value_vars=[\"p\", \"m\"],\n",
    "        var_name=\"mirna_strand\",\n",
    "        value_name=\"mirna\",\n",
    "    )\n",
    "    .assign(\n",
    "        mirna_gene_strand_orientation = lambda x: x[['gene_strand', 'mirna_strand']].apply(lambda y: 'same' if y[0]==y[1] else 'different', axis=1)\n",
    "    )\n",
    "    .groupby([\"mirna\", \"type\", \"group\"])[[\"mirna_gene_strand_orientation\"]]\n",
    "    .value_counts()\n",
    "    .to_frame()\n",
    "    .rename(columns={0: \"total_count\"})\n",
    "    .reset_index()\n",
    "    .replace(\"\", np.nan)\n",
    "    .dropna()\n",
    "    .replace('quadruplex', 'g4')\n",
    "    .sort_values([\"mirna\", 'type', 'group'], ascending=[False, False, False])\n",
    ")\n",
    "\n",
    "form_df['total_group_counts'] = form_df.groupby('group')['total_count'].transform('sum')\n",
    "form_df['total_count_rel'] = form_df['total_count'] / form_df['total_group_counts'] * 100\n",
    "\n",
    "form_df\n"
   ]
  },
  {
   "cell_type": "code",
   "execution_count": 70,
   "id": "ca976cbf",
   "metadata": {},
   "outputs": [
    {
     "data": {
      "application/vnd.plotly.v1+json": {
       "config": {
        "plotlyServerURL": "https://plot.ly"
       },
       "data": [
        {
         "alignmentgroup": "True",
         "customdata": [
          [
           1,
           771
          ],
          [
           1,
           771
          ],
          [
           1,
           771
          ],
          [
           1,
           771
          ],
          [
           56,
           771
          ],
          [
           2,
           771
          ],
          [
           1,
           771
          ],
          [
           6,
           771
          ],
          [
           2,
           771
          ],
          [
           5,
           771
          ],
          [
           4,
           771
          ],
          [
           3,
           771
          ],
          [
           1,
           771
          ],
          [
           2,
           771
          ],
          [
           3,
           771
          ],
          [
           8,
           771
          ],
          [
           12,
           771
          ],
          [
           13,
           771
          ],
          [
           1,
           771
          ],
          [
           1,
           771
          ],
          [
           2,
           771
          ],
          [
           1,
           771
          ],
          [
           21,
           771
          ],
          [
           1,
           771
          ],
          [
           1,
           771
          ],
          [
           2,
           771
          ],
          [
           6,
           771
          ],
          [
           2,
           771
          ],
          [
           2,
           771
          ],
          [
           2,
           771
          ],
          [
           1,
           771
          ],
          [
           60,
           771
          ],
          [
           7,
           771
          ],
          [
           1,
           771
          ],
          [
           1,
           771
          ],
          [
           1,
           771
          ],
          [
           1,
           771
          ],
          [
           1,
           771
          ],
          [
           19,
           771
          ],
          [
           1,
           771
          ],
          [
           1,
           771
          ],
          [
           2,
           771
          ],
          [
           1,
           771
          ],
          [
           1,
           771
          ],
          [
           8,
           771
          ],
          [
           1,
           771
          ],
          [
           2,
           771
          ],
          [
           1,
           771
          ],
          [
           1,
           771
          ],
          [
           1,
           771
          ]
         ],
         "hovertemplate": "mirna_gene_strand_orientation=same<br>type=cCREs without Repeats<br>group=z-dna<br>total_count_rel=%{x}<br>mirna=%{y}<br>total_count=%{customdata[0]}<br>total_group_counts=%{customdata[1]}<extra></extra>",
         "legendgroup": "same",
         "marker": {
          "color": "tomato",
          "pattern": {
           "shape": ""
          }
         },
         "name": "same",
         "offsetgroup": "same",
         "orientation": "h",
         "showlegend": true,
         "textposition": "auto",
         "type": "bar",
         "x": [
          0.12970168612191957,
          0.12970168612191957,
          0.12970168612191957,
          0.12970168612191957,
          7.263294422827498,
          0.25940337224383914,
          0.12970168612191957,
          0.7782101167315175,
          0.25940337224383914,
          0.648508430609598,
          0.5188067444876783,
          0.38910505836575876,
          0.12970168612191957,
          0.25940337224383914,
          0.38910505836575876,
          1.0376134889753565,
          1.556420233463035,
          1.6861219195849546,
          0.12970168612191957,
          0.12970168612191957,
          0.25940337224383914,
          0.12970168612191957,
          2.7237354085603114,
          0.12970168612191957,
          0.12970168612191957,
          0.25940337224383914,
          0.7782101167315175,
          0.25940337224383914,
          0.25940337224383914,
          0.25940337224383914,
          0.12970168612191957,
          7.782101167315175,
          0.9079118028534372,
          0.12970168612191957,
          0.12970168612191957,
          0.12970168612191957,
          0.12970168612191957,
          0.12970168612191957,
          2.4643320363164722,
          0.12970168612191957,
          0.12970168612191957,
          0.25940337224383914,
          0.12970168612191957,
          0.12970168612191957,
          1.0376134889753565,
          0.12970168612191957,
          0.25940337224383914,
          0.12970168612191957,
          0.12970168612191957,
          0.12970168612191957
         ],
         "xaxis": "x5",
         "y": [
          "miR-99/100",
          "miR-874",
          "miR-873",
          "miR-760",
          "miR-744",
          "miR-652",
          "miR-615",
          "miR-532",
          "miR-503",
          "miR-501/502",
          "miR-493",
          "miR-491",
          "miR-486",
          "miR-485",
          "miR-455",
          "miR-423",
          "miR-377",
          "miR-342",
          "miR-339",
          "miR-335",
          "miR-331",
          "miR-330",
          "miR-329/362",
          "miR-324",
          "miR-30",
          "miR-299",
          "miR-296",
          "miR-25/32/92/363/367",
          "miR-22",
          "miR-218",
          "miR-214",
          "miR-210",
          "miR-187",
          "miR-183",
          "miR-18",
          "miR-153",
          "miR-151a",
          "miR-148/152",
          "miR-147",
          "miR-142",
          "miR-140",
          "miR-138",
          "miR-1306",
          "miR-125",
          "miR-1249",
          "miR-124",
          "miR-122",
          "miR-1197",
          "miR-103/107",
          "miR-10"
         ],
         "yaxis": "y5"
        },
        {
         "alignmentgroup": "True",
         "customdata": [
          [
           5,
           8859
          ],
          [
           7,
           8859
          ],
          [
           3,
           8859
          ],
          [
           2,
           8859
          ],
          [
           1,
           8859
          ],
          [
           2,
           8859
          ],
          [
           2,
           8859
          ],
          [
           17,
           8859
          ],
          [
           11,
           8859
          ],
          [
           2,
           8859
          ],
          [
           4,
           8859
          ],
          [
           1,
           8859
          ],
          [
           14,
           8859
          ],
          [
           6,
           8859
          ],
          [
           8,
           8859
          ],
          [
           1,
           8859
          ],
          [
           10,
           8859
          ],
          [
           9,
           8859
          ],
          [
           6,
           8859
          ],
          [
           2,
           8859
          ],
          [
           2,
           8859
          ],
          [
           12,
           8859
          ],
          [
           7,
           8859
          ],
          [
           1,
           8859
          ],
          [
           5,
           8859
          ],
          [
           5,
           8859
          ],
          [
           15,
           8859
          ],
          [
           21,
           8859
          ],
          [
           8,
           8859
          ],
          [
           6,
           8859
          ],
          [
           3,
           8859
          ],
          [
           1,
           8859
          ],
          [
           2,
           8859
          ],
          [
           7,
           8859
          ],
          [
           7,
           8859
          ],
          [
           2,
           8859
          ],
          [
           11,
           8859
          ],
          [
           18,
           8859
          ],
          [
           7,
           8859
          ],
          [
           21,
           8859
          ],
          [
           2,
           8859
          ],
          [
           2,
           8859
          ],
          [
           3,
           8859
          ],
          [
           6,
           8859
          ],
          [
           2,
           8859
          ],
          [
           1,
           8859
          ],
          [
           4,
           8859
          ],
          [
           15,
           8859
          ],
          [
           8,
           8859
          ],
          [
           11,
           8859
          ],
          [
           1,
           8859
          ],
          [
           3,
           8859
          ],
          [
           3,
           8859
          ],
          [
           7,
           8859
          ],
          [
           4,
           8859
          ],
          [
           6,
           8859
          ],
          [
           15,
           8859
          ],
          [
           2,
           8859
          ],
          [
           1,
           8859
          ],
          [
           8,
           8859
          ],
          [
           3,
           8859
          ],
          [
           6,
           8859
          ],
          [
           12,
           8859
          ],
          [
           4,
           8859
          ],
          [
           4,
           8859
          ],
          [
           3,
           8859
          ],
          [
           1,
           8859
          ],
          [
           32,
           8859
          ],
          [
           8,
           8859
          ],
          [
           7,
           8859
          ],
          [
           10,
           8859
          ],
          [
           3,
           8859
          ],
          [
           4,
           8859
          ],
          [
           3,
           8859
          ],
          [
           3,
           8859
          ],
          [
           2,
           8859
          ],
          [
           7,
           8859
          ],
          [
           4,
           8859
          ],
          [
           12,
           8859
          ],
          [
           3,
           8859
          ],
          [
           3,
           8859
          ],
          [
           5,
           8859
          ],
          [
           1,
           8859
          ],
          [
           4,
           8859
          ],
          [
           11,
           8859
          ],
          [
           4,
           8859
          ],
          [
           5,
           8859
          ],
          [
           1,
           8859
          ],
          [
           7,
           8859
          ],
          [
           1,
           8859
          ],
          [
           12,
           8859
          ],
          [
           6,
           8859
          ],
          [
           8,
           8859
          ],
          [
           15,
           8859
          ],
          [
           8,
           8859
          ],
          [
           6,
           8859
          ],
          [
           5,
           8859
          ],
          [
           1,
           8859
          ],
          [
           2,
           8859
          ],
          [
           16,
           8859
          ],
          [
           5,
           8859
          ],
          [
           1,
           8859
          ],
          [
           3,
           8859
          ],
          [
           2,
           8859
          ],
          [
           8,
           8859
          ],
          [
           3,
           8859
          ],
          [
           1,
           8859
          ],
          [
           4,
           8859
          ],
          [
           6,
           8859
          ],
          [
           9,
           8859
          ],
          [
           11,
           8859
          ],
          [
           3,
           8859
          ],
          [
           19,
           8859
          ],
          [
           11,
           8859
          ],
          [
           7,
           8859
          ],
          [
           4,
           8859
          ],
          [
           6,
           8859
          ],
          [
           8,
           8859
          ],
          [
           11,
           8859
          ],
          [
           9,
           8859
          ],
          [
           1,
           8859
          ],
          [
           1,
           8859
          ],
          [
           7,
           8859
          ],
          [
           5,
           8859
          ],
          [
           5,
           8859
          ],
          [
           14,
           8859
          ],
          [
           6,
           8859
          ],
          [
           1,
           8859
          ],
          [
           12,
           8859
          ],
          [
           2,
           8859
          ],
          [
           8,
           8859
          ],
          [
           10,
           8859
          ],
          [
           19,
           8859
          ],
          [
           23,
           8859
          ],
          [
           5,
           8859
          ],
          [
           3,
           8859
          ],
          [
           2,
           8859
          ],
          [
           18,
           8859
          ],
          [
           1,
           8859
          ],
          [
           10,
           8859
          ],
          [
           8,
           8859
          ],
          [
           2,
           8859
          ],
          [
           13,
           8859
          ],
          [
           6,
           8859
          ],
          [
           5,
           8859
          ],
          [
           36,
           8859
          ],
          [
           1,
           8859
          ],
          [
           2,
           8859
          ],
          [
           3,
           8859
          ],
          [
           4,
           8859
          ],
          [
           6,
           8859
          ],
          [
           7,
           8859
          ],
          [
           7,
           8859
          ],
          [
           3,
           8859
          ],
          [
           3,
           8859
          ],
          [
           7,
           8859
          ],
          [
           6,
           8859
          ],
          [
           3,
           8859
          ],
          [
           7,
           8859
          ],
          [
           2,
           8859
          ]
         ],
         "hovertemplate": "mirna_gene_strand_orientation=same<br>type=cCREs without Repeats<br>group=sidd<br>total_count_rel=%{x}<br>mirna=%{y}<br>total_count=%{customdata[0]}<br>total_group_counts=%{customdata[1]}<extra></extra>",
         "legendgroup": "same",
         "marker": {
          "color": "tomato",
          "pattern": {
           "shape": ""
          }
         },
         "name": "same",
         "offsetgroup": "same",
         "orientation": "h",
         "showlegend": false,
         "textposition": "auto",
         "type": "bar",
         "x": [
          0.056439778756067274,
          0.07901569025849418,
          0.033863867253640365,
          0.02257591150242691,
          0.011287955751213455,
          0.02257591150242691,
          0.02257591150242691,
          0.19189524777062872,
          0.12416751326334802,
          0.02257591150242691,
          0.04515182300485382,
          0.011287955751213455,
          0.15803138051698837,
          0.06772773450728073,
          0.09030364600970764,
          0.011287955751213455,
          0.11287955751213455,
          0.1015916017609211,
          0.06772773450728073,
          0.02257591150242691,
          0.02257591150242691,
          0.13545546901456146,
          0.07901569025849418,
          0.011287955751213455,
          0.056439778756067274,
          0.056439778756067274,
          0.16931933626820184,
          0.23704707077548257,
          0.09030364600970764,
          0.06772773450728073,
          0.033863867253640365,
          0.011287955751213455,
          0.02257591150242691,
          0.07901569025849418,
          0.07901569025849418,
          0.02257591150242691,
          0.12416751326334802,
          0.2031832035218422,
          0.07901569025849418,
          0.23704707077548257,
          0.02257591150242691,
          0.02257591150242691,
          0.033863867253640365,
          0.06772773450728073,
          0.02257591150242691,
          0.011287955751213455,
          0.04515182300485382,
          0.16931933626820184,
          0.09030364600970764,
          0.12416751326334802,
          0.011287955751213455,
          0.033863867253640365,
          0.033863867253640365,
          0.07901569025849418,
          0.04515182300485382,
          0.06772773450728073,
          0.16931933626820184,
          0.02257591150242691,
          0.011287955751213455,
          0.09030364600970764,
          0.033863867253640365,
          0.06772773450728073,
          0.13545546901456146,
          0.04515182300485382,
          0.04515182300485382,
          0.033863867253640365,
          0.011287955751213455,
          0.36121458403883056,
          0.09030364600970764,
          0.07901569025849418,
          0.11287955751213455,
          0.033863867253640365,
          0.04515182300485382,
          0.033863867253640365,
          0.033863867253640365,
          0.02257591150242691,
          0.07901569025849418,
          0.04515182300485382,
          0.13545546901456146,
          0.033863867253640365,
          0.033863867253640365,
          0.056439778756067274,
          0.011287955751213455,
          0.04515182300485382,
          0.12416751326334802,
          0.04515182300485382,
          0.056439778756067274,
          0.011287955751213455,
          0.07901569025849418,
          0.011287955751213455,
          0.13545546901456146,
          0.06772773450728073,
          0.09030364600970764,
          0.16931933626820184,
          0.09030364600970764,
          0.06772773450728073,
          0.056439778756067274,
          0.011287955751213455,
          0.02257591150242691,
          0.18060729201941528,
          0.056439778756067274,
          0.011287955751213455,
          0.033863867253640365,
          0.02257591150242691,
          0.09030364600970764,
          0.033863867253640365,
          0.011287955751213455,
          0.04515182300485382,
          0.06772773450728073,
          0.1015916017609211,
          0.12416751326334802,
          0.033863867253640365,
          0.21447115927305566,
          0.12416751326334802,
          0.07901569025849418,
          0.04515182300485382,
          0.06772773450728073,
          0.09030364600970764,
          0.12416751326334802,
          0.1015916017609211,
          0.011287955751213455,
          0.011287955751213455,
          0.07901569025849418,
          0.056439778756067274,
          0.056439778756067274,
          0.15803138051698837,
          0.06772773450728073,
          0.011287955751213455,
          0.13545546901456146,
          0.02257591150242691,
          0.09030364600970764,
          0.11287955751213455,
          0.21447115927305566,
          0.2596229822779095,
          0.056439778756067274,
          0.033863867253640365,
          0.02257591150242691,
          0.2031832035218422,
          0.011287955751213455,
          0.11287955751213455,
          0.09030364600970764,
          0.02257591150242691,
          0.14674342476577493,
          0.06772773450728073,
          0.056439778756067274,
          0.4063664070436844,
          0.011287955751213455,
          0.02257591150242691,
          0.033863867253640365,
          0.04515182300485382,
          0.06772773450728073,
          0.07901569025849418,
          0.07901569025849418,
          0.033863867253640365,
          0.033863867253640365,
          0.07901569025849418,
          0.06772773450728073,
          0.033863867253640365,
          0.07901569025849418,
          0.02257591150242691
         ],
         "xaxis": "x6",
         "y": [
          "miR-96/1271",
          "miR-9",
          "miR-876",
          "miR-875",
          "miR-874",
          "miR-873",
          "miR-802",
          "miR-760",
          "miR-758",
          "miR-7",
          "miR-670",
          "miR-668",
          "miR-665",
          "miR-655",
          "miR-653",
          "miR-615",
          "miR-582",
          "miR-544a",
          "miR-543",
          "miR-542",
          "miR-539",
          "miR-532",
          "miR-505",
          "miR-504",
          "miR-503",
          "miR-499",
          "miR-496",
          "miR-495",
          "miR-494",
          "miR-493",
          "miR-491",
          "miR-490",
          "miR-489",
          "miR-488",
          "miR-485",
          "miR-483",
          "miR-455",
          "miR-452",
          "miR-450a",
          "miR-448",
          "miR-433",
          "miR-431",
          "miR-425",
          "miR-423",
          "miR-421",
          "miR-411",
          "miR-410",
          "miR-409",
          "miR-383",
          "miR-382",
          "miR-381",
          "miR-379",
          "miR-378a",
          "miR-377",
          "miR-376c",
          "miR-376ab",
          "miR-374",
          "miR-371",
          "miR-369",
          "miR-365",
          "miR-361",
          "miR-342",
          "miR-340",
          "miR-339",
          "miR-338",
          "miR-335",
          "miR-331",
          "miR-330",
          "miR-33",
          "miR-329/362",
          "miR-325",
          "miR-324",
          "miR-323a",
          "miR-31",
          "miR-302c",
          "miR-302abd",
          "miR-30",
          "miR-299",
          "miR-296",
          "miR-29",
          "miR-28/708",
          "miR-27",
          "miR-26",
          "miR-24",
          "miR-23",
          "miR-224",
          "miR-223",
          "miR-221/222",
          "miR-22",
          "miR-219",
          "miR-218",
          "miR-217",
          "miR-216b",
          "miR-216a",
          "miR-214",
          "miR-210",
          "miR-21/590",
          "miR-208",
          "miR-205",
          "miR-204/211",
          "miR-203a",
          "miR-202",
          "miR-200bc/429",
          "miR-196",
          "miR-194",
          "miR-193",
          "miR-192/215",
          "miR-191",
          "miR-190",
          "miR-19",
          "miR-188",
          "miR-187",
          "miR-186",
          "miR-185",
          "miR-184",
          "miR-183",
          "miR-182",
          "miR-181",
          "miR-18",
          "miR-17/20/93/106/519d",
          "miR-155",
          "miR-154",
          "miR-153",
          "miR-151a",
          "miR-150",
          "miR-15/16/195/424/497",
          "miR-149",
          "miR-147",
          "miR-146",
          "miR-145",
          "miR-144",
          "miR-143",
          "miR-142",
          "miR-141/200a",
          "miR-140",
          "miR-139",
          "miR-138",
          "miR-137",
          "miR-136",
          "miR-135",
          "miR-134",
          "miR-133",
          "miR-132/212",
          "miR-1306",
          "miR-130/301/454",
          "miR-129",
          "miR-127",
          "miR-126",
          "miR-1251",
          "miR-125",
          "miR-1249",
          "miR-124",
          "miR-122",
          "miR-1197",
          "miR-1193",
          "miR-103/107",
          "miR-101",
          "miR-10",
          "miR-1/206",
          "let-7/miR-98"
         ],
         "yaxis": "y6"
        },
        {
         "alignmentgroup": "True",
         "customdata": [
          [
           1,
           2007
          ],
          [
           1,
           2007
          ],
          [
           1,
           2007
          ],
          [
           20,
           2007
          ],
          [
           1,
           2007
          ],
          [
           6,
           2007
          ],
          [
           2,
           2007
          ],
          [
           189,
           2007
          ],
          [
           3,
           2007
          ],
          [
           10,
           2007
          ],
          [
           24,
           2007
          ],
          [
           3,
           2007
          ],
          [
           3,
           2007
          ],
          [
           46,
           2007
          ],
          [
           17,
           2007
          ],
          [
           2,
           2007
          ],
          [
           64,
           2007
          ],
          [
           3,
           2007
          ],
          [
           2,
           2007
          ],
          [
           6,
           2007
          ],
          [
           2,
           2007
          ],
          [
           1,
           2007
          ],
          [
           90,
           2007
          ],
          [
           2,
           2007
          ],
          [
           1,
           2007
          ],
          [
           2,
           2007
          ],
          [
           2,
           2007
          ],
          [
           1,
           2007
          ],
          [
           1,
           2007
          ],
          [
           5,
           2007
          ],
          [
           1,
           2007
          ],
          [
           12,
           2007
          ],
          [
           33,
           2007
          ],
          [
           4,
           2007
          ],
          [
           30,
           2007
          ],
          [
           10,
           2007
          ],
          [
           3,
           2007
          ],
          [
           4,
           2007
          ],
          [
           16,
           2007
          ],
          [
           2,
           2007
          ],
          [
           10,
           2007
          ],
          [
           75,
           2007
          ],
          [
           2,
           2007
          ],
          [
           10,
           2007
          ],
          [
           2,
           2007
          ],
          [
           4,
           2007
          ],
          [
           2,
           2007
          ],
          [
           1,
           2007
          ],
          [
           5,
           2007
          ],
          [
           1,
           2007
          ],
          [
           2,
           2007
          ],
          [
           11,
           2007
          ],
          [
           1,
           2007
          ],
          [
           9,
           2007
          ],
          [
           1,
           2007
          ],
          [
           8,
           2007
          ],
          [
           3,
           2007
          ],
          [
           1,
           2007
          ],
          [
           1,
           2007
          ],
          [
           2,
           2007
          ],
          [
           9,
           2007
          ],
          [
           5,
           2007
          ],
          [
           4,
           2007
          ],
          [
           1,
           2007
          ],
          [
           6,
           2007
          ],
          [
           5,
           2007
          ],
          [
           4,
           2007
          ],
          [
           1,
           2007
          ],
          [
           1,
           2007
          ],
          [
           11,
           2007
          ],
          [
           23,
           2007
          ],
          [
           6,
           2007
          ],
          [
           5,
           2007
          ],
          [
           7,
           2007
          ],
          [
           13,
           2007
          ],
          [
           21,
           2007
          ],
          [
           1,
           2007
          ],
          [
           2,
           2007
          ],
          [
           1,
           2007
          ],
          [
           5,
           2007
          ],
          [
           1,
           2007
          ]
         ],
         "hovertemplate": "mirna_gene_strand_orientation=same<br>type=cCREs without Repeats<br>group=g4<br>total_count_rel=%{x}<br>mirna=%{y}<br>total_count=%{customdata[0]}<br>total_group_counts=%{customdata[1]}<extra></extra>",
         "legendgroup": "same",
         "marker": {
          "color": "tomato",
          "pattern": {
           "shape": ""
          }
         },
         "name": "same",
         "offsetgroup": "same",
         "orientation": "h",
         "showlegend": false,
         "textposition": "auto",
         "type": "bar",
         "x": [
          0.04982561036372695,
          0.04982561036372695,
          0.04982561036372695,
          0.9965122072745392,
          0.04982561036372695,
          0.29895366218236175,
          0.0996512207274539,
          9.417040358744394,
          0.14947683109118087,
          0.4982561036372696,
          1.195814648729447,
          0.14947683109118087,
          0.14947683109118087,
          2.29197807673144,
          0.8470353761833582,
          0.0996512207274539,
          3.188839063278525,
          0.14947683109118087,
          0.0996512207274539,
          0.29895366218236175,
          0.0996512207274539,
          0.04982561036372695,
          4.484304932735426,
          0.0996512207274539,
          0.04982561036372695,
          0.0996512207274539,
          0.0996512207274539,
          0.04982561036372695,
          0.04982561036372695,
          0.2491280518186348,
          0.04982561036372695,
          0.5979073243647235,
          1.6442451420029895,
          0.1993024414549078,
          1.4947683109118086,
          0.4982561036372696,
          0.14947683109118087,
          0.1993024414549078,
          0.7972097658196312,
          0.0996512207274539,
          0.4982561036372696,
          3.7369207772795217,
          0.0996512207274539,
          0.4982561036372696,
          0.0996512207274539,
          0.1993024414549078,
          0.0996512207274539,
          0.04982561036372695,
          0.2491280518186348,
          0.04982561036372695,
          0.0996512207274539,
          0.5480817140009965,
          0.04982561036372695,
          0.4484304932735426,
          0.04982561036372695,
          0.3986048829098156,
          0.14947683109118087,
          0.04982561036372695,
          0.04982561036372695,
          0.0996512207274539,
          0.4484304932735426,
          0.2491280518186348,
          0.1993024414549078,
          0.04982561036372695,
          0.29895366218236175,
          0.2491280518186348,
          0.1993024414549078,
          0.04982561036372695,
          0.04982561036372695,
          0.5480817140009965,
          1.14598903836572,
          0.29895366218236175,
          0.2491280518186348,
          0.3487792725460887,
          0.6477329347284505,
          1.046337817638266,
          0.04982561036372695,
          0.0996512207274539,
          0.04982561036372695,
          0.2491280518186348,
          0.04982561036372695
         ],
         "xaxis": "x7",
         "y": [
          "miR-99/100",
          "miR-9",
          "miR-876",
          "miR-874",
          "miR-873",
          "miR-760",
          "miR-758",
          "miR-744",
          "miR-7",
          "miR-665",
          "miR-615",
          "miR-551",
          "miR-542",
          "miR-532",
          "miR-504",
          "miR-503",
          "miR-491",
          "miR-490",
          "miR-488",
          "miR-485",
          "miR-455",
          "miR-450a",
          "miR-423",
          "miR-409",
          "miR-381",
          "miR-379",
          "miR-378a",
          "miR-371",
          "miR-365",
          "miR-346",
          "miR-342",
          "miR-34/449",
          "miR-339",
          "miR-338",
          "miR-331",
          "miR-330",
          "miR-329/362",
          "miR-328",
          "miR-324",
          "miR-31",
          "miR-299",
          "miR-296",
          "miR-28/708",
          "miR-24",
          "miR-22",
          "miR-214",
          "miR-210",
          "miR-205",
          "miR-204/211",
          "miR-202",
          "miR-199",
          "miR-193",
          "miR-19",
          "miR-188",
          "miR-187",
          "miR-185",
          "miR-184",
          "miR-182",
          "miR-18",
          "miR-151a",
          "miR-150",
          "miR-149",
          "miR-147",
          "miR-146",
          "miR-143",
          "miR-140",
          "miR-138",
          "miR-136",
          "miR-134",
          "miR-133",
          "miR-1306",
          "miR-129",
          "miR-128",
          "miR-127",
          "miR-125",
          "miR-1249",
          "miR-124",
          "miR-122",
          "miR-103/107",
          "miR-10",
          "miR-1/206"
         ],
         "yaxis": "y7"
        },
        {
         "alignmentgroup": "True",
         "customdata": [
          [
           1,
           252
          ],
          [
           1,
           252
          ],
          [
           1,
           252
          ],
          [
           1,
           252
          ],
          [
           2,
           252
          ],
          [
           2,
           252
          ],
          [
           1,
           252
          ],
          [
           1,
           252
          ],
          [
           3,
           252
          ],
          [
           7,
           252
          ],
          [
           1,
           252
          ],
          [
           1,
           252
          ],
          [
           6,
           252
          ],
          [
           1,
           252
          ],
          [
           32,
           252
          ],
          [
           1,
           252
          ],
          [
           3,
           252
          ],
          [
           1,
           252
          ],
          [
           1,
           252
          ],
          [
           1,
           252
          ],
          [
           1,
           252
          ],
          [
           9,
           252
          ],
          [
           3,
           252
          ],
          [
           1,
           252
          ]
         ],
         "hovertemplate": "mirna_gene_strand_orientation=same<br>type=cCREs without Repeats<br>group=h-dna<br>total_count_rel=%{x}<br>mirna=%{y}<br>total_count=%{customdata[0]}<br>total_group_counts=%{customdata[1]}<extra></extra>",
         "legendgroup": "same",
         "marker": {
          "color": "tomato",
          "pattern": {
           "shape": ""
          }
         },
         "name": "same",
         "offsetgroup": "same",
         "orientation": "h",
         "showlegend": false,
         "textposition": "auto",
         "type": "bar",
         "x": [
          0.3968253968253968,
          0.3968253968253968,
          0.3968253968253968,
          0.3968253968253968,
          0.7936507936507936,
          0.7936507936507936,
          0.3968253968253968,
          0.3968253968253968,
          1.1904761904761905,
          2.7777777777777777,
          0.3968253968253968,
          0.3968253968253968,
          2.380952380952381,
          0.3968253968253968,
          12.698412698412698,
          0.3968253968253968,
          1.1904761904761905,
          0.3968253968253968,
          0.3968253968253968,
          0.3968253968253968,
          0.3968253968253968,
          3.571428571428571,
          1.1904761904761905,
          0.3968253968253968
         ],
         "xaxis": "x8",
         "y": [
          "miR-873",
          "miR-744",
          "miR-668",
          "miR-615",
          "miR-532",
          "miR-495",
          "miR-493",
          "miR-485",
          "miR-483",
          "miR-423",
          "miR-339",
          "miR-330",
          "miR-204/211",
          "miR-186",
          "miR-185",
          "miR-184",
          "miR-151a",
          "miR-150",
          "miR-145",
          "miR-143",
          "miR-136",
          "miR-1306",
          "miR-129",
          "let-7/miR-98"
         ],
         "yaxis": "y8"
        },
        {
         "alignmentgroup": "True",
         "customdata": [
          [
           1,
           771
          ],
          [
           1,
           771
          ],
          [
           2,
           771
          ],
          [
           13,
           771
          ],
          [
           2,
           771
          ],
          [
           3,
           771
          ],
          [
           19,
           771
          ],
          [
           11,
           771
          ],
          [
           11,
           771
          ],
          [
           1,
           771
          ],
          [
           4,
           771
          ],
          [
           29,
           771
          ],
          [
           1,
           771
          ],
          [
           1,
           771
          ],
          [
           1,
           771
          ],
          [
           3,
           771
          ],
          [
           1,
           771
          ]
         ],
         "hovertemplate": "mirna_gene_strand_orientation=same<br>type=Repeats without cCREs<br>group=z-dna<br>total_count_rel=%{x}<br>mirna=%{y}<br>total_count=%{customdata[0]}<br>total_group_counts=%{customdata[1]}<extra></extra>",
         "legendgroup": "same",
         "marker": {
          "color": "tomato",
          "pattern": {
           "shape": ""
          }
         },
         "name": "same",
         "offsetgroup": "same",
         "orientation": "h",
         "showlegend": false,
         "textposition": "auto",
         "type": "bar",
         "x": [
          0.12970168612191957,
          0.12970168612191957,
          0.25940337224383914,
          1.6861219195849546,
          0.25940337224383914,
          0.38910505836575876,
          2.4643320363164722,
          1.4267185473411155,
          1.4267185473411155,
          0.12970168612191957,
          0.5188067444876783,
          3.761348897535668,
          0.12970168612191957,
          0.12970168612191957,
          0.12970168612191957,
          0.38910505836575876,
          0.12970168612191957
         ],
         "xaxis": "x",
         "y": [
          "miR-744",
          "miR-501/502",
          "miR-493",
          "miR-455",
          "miR-448",
          "miR-431",
          "miR-377",
          "miR-342",
          "miR-329/362",
          "miR-324",
          "miR-218",
          "miR-210",
          "miR-183",
          "miR-18",
          "miR-148/152",
          "miR-147",
          "miR-1249"
         ],
         "yaxis": "y"
        },
        {
         "alignmentgroup": "True",
         "customdata": [
          [
           2,
           8859
          ],
          [
           22,
           8859
          ],
          [
           9,
           8859
          ],
          [
           8,
           8859
          ],
          [
           10,
           8859
          ],
          [
           19,
           8859
          ],
          [
           8,
           8859
          ],
          [
           10,
           8859
          ],
          [
           28,
           8859
          ],
          [
           3,
           8859
          ],
          [
           86,
           8859
          ],
          [
           4,
           8859
          ],
          [
           6,
           8859
          ],
          [
           30,
           8859
          ],
          [
           38,
           8859
          ],
          [
           41,
           8859
          ],
          [
           6,
           8859
          ],
          [
           15,
           8859
          ],
          [
           16,
           8859
          ],
          [
           17,
           8859
          ],
          [
           20,
           8859
          ],
          [
           20,
           8859
          ],
          [
           6,
           8859
          ],
          [
           1,
           8859
          ],
          [
           3,
           8859
          ],
          [
           15,
           8859
          ],
          [
           22,
           8859
          ],
          [
           51,
           8859
          ],
          [
           16,
           8859
          ],
          [
           27,
           8859
          ],
          [
           11,
           8859
          ],
          [
           18,
           8859
          ],
          [
           7,
           8859
          ],
          [
           17,
           8859
          ],
          [
           13,
           8859
          ],
          [
           9,
           8859
          ],
          [
           21,
           8859
          ],
          [
           40,
           8859
          ],
          [
           45,
           8859
          ],
          [
           2,
           8859
          ],
          [
           28,
           8859
          ],
          [
           18,
           8859
          ],
          [
           2,
           8859
          ],
          [
           12,
           8859
          ],
          [
           2,
           8859
          ],
          [
           14,
           8859
          ],
          [
           33,
           8859
          ],
          [
           40,
           8859
          ],
          [
           39,
           8859
          ],
          [
           9,
           8859
          ],
          [
           36,
           8859
          ],
          [
           26,
           8859
          ],
          [
           29,
           8859
          ],
          [
           15,
           8859
          ],
          [
           11,
           8859
          ],
          [
           34,
           8859
          ],
          [
           21,
           8859
          ],
          [
           4,
           8859
          ],
          [
           97,
           8859
          ],
          [
           11,
           8859
          ],
          [
           43,
           8859
          ],
          [
           16,
           8859
          ],
          [
           4,
           8859
          ],
          [
           8,
           8859
          ],
          [
           3,
           8859
          ],
          [
           55,
           8859
          ],
          [
           17,
           8859
          ],
          [
           8,
           8859
          ],
          [
           10,
           8859
          ],
          [
           5,
           8859
          ],
          [
           8,
           8859
          ],
          [
           49,
           8859
          ],
          [
           23,
           8859
          ],
          [
           17,
           8859
          ],
          [
           7,
           8859
          ],
          [
           47,
           8859
          ],
          [
           2,
           8859
          ],
          [
           16,
           8859
          ],
          [
           9,
           8859
          ],
          [
           13,
           8859
          ],
          [
           32,
           8859
          ],
          [
           28,
           8859
          ],
          [
           40,
           8859
          ],
          [
           12,
           8859
          ],
          [
           11,
           8859
          ],
          [
           9,
           8859
          ],
          [
           26,
           8859
          ],
          [
           11,
           8859
          ],
          [
           1,
           8859
          ],
          [
           5,
           8859
          ],
          [
           35,
           8859
          ],
          [
           7,
           8859
          ],
          [
           14,
           8859
          ],
          [
           6,
           8859
          ],
          [
           11,
           8859
          ],
          [
           3,
           8859
          ],
          [
           11,
           8859
          ],
          [
           7,
           8859
          ],
          [
           29,
           8859
          ],
          [
           42,
           8859
          ],
          [
           10,
           8859
          ],
          [
           15,
           8859
          ],
          [
           9,
           8859
          ],
          [
           37,
           8859
          ],
          [
           329,
           8859
          ],
          [
           13,
           8859
          ],
          [
           21,
           8859
          ],
          [
           14,
           8859
          ],
          [
           18,
           8859
          ],
          [
           16,
           8859
          ],
          [
           17,
           8859
          ],
          [
           7,
           8859
          ],
          [
           15,
           8859
          ],
          [
           1,
           8859
          ],
          [
           23,
           8859
          ],
          [
           2,
           8859
          ],
          [
           115,
           8859
          ],
          [
           21,
           8859
          ],
          [
           12,
           8859
          ],
          [
           16,
           8859
          ],
          [
           36,
           8859
          ],
          [
           4,
           8859
          ],
          [
           13,
           8859
          ],
          [
           23,
           8859
          ],
          [
           25,
           8859
          ],
          [
           10,
           8859
          ],
          [
           22,
           8859
          ],
          [
           13,
           8859
          ],
          [
           13,
           8859
          ],
          [
           6,
           8859
          ],
          [
           2,
           8859
          ],
          [
           14,
           8859
          ],
          [
           8,
           8859
          ],
          [
           25,
           8859
          ],
          [
           18,
           8859
          ],
          [
           64,
           8859
          ],
          [
           19,
           8859
          ],
          [
           30,
           8859
          ],
          [
           17,
           8859
          ],
          [
           5,
           8859
          ],
          [
           27,
           8859
          ],
          [
           28,
           8859
          ],
          [
           18,
           8859
          ],
          [
           21,
           8859
          ],
          [
           6,
           8859
          ],
          [
           12,
           8859
          ],
          [
           2,
           8859
          ],
          [
           8,
           8859
          ],
          [
           48,
           8859
          ],
          [
           5,
           8859
          ],
          [
           1,
           8859
          ],
          [
           15,
           8859
          ],
          [
           27,
           8859
          ],
          [
           19,
           8859
          ],
          [
           12,
           8859
          ],
          [
           4,
           8859
          ],
          [
           13,
           8859
          ],
          [
           29,
           8859
          ],
          [
           24,
           8859
          ],
          [
           29,
           8859
          ],
          [
           6,
           8859
          ]
         ],
         "hovertemplate": "mirna_gene_strand_orientation=same<br>type=Repeats without cCREs<br>group=sidd<br>total_count_rel=%{x}<br>mirna=%{y}<br>total_count=%{customdata[0]}<br>total_group_counts=%{customdata[1]}<extra></extra>",
         "legendgroup": "same",
         "marker": {
          "color": "tomato",
          "pattern": {
           "shape": ""
          }
         },
         "name": "same",
         "offsetgroup": "same",
         "orientation": "h",
         "showlegend": false,
         "textposition": "auto",
         "type": "bar",
         "x": [
          0.02257591150242691,
          0.24833502652669603,
          0.1015916017609211,
          0.09030364600970764,
          0.11287955751213455,
          0.21447115927305566,
          0.09030364600970764,
          0.11287955751213455,
          0.31606276103397674,
          0.033863867253640365,
          0.9707641946043571,
          0.04515182300485382,
          0.06772773450728073,
          0.3386386725364037,
          0.4289423185461113,
          0.4628061857997517,
          0.06772773450728073,
          0.16931933626820184,
          0.18060729201941528,
          0.19189524777062872,
          0.2257591150242691,
          0.2257591150242691,
          0.06772773450728073,
          0.011287955751213455,
          0.033863867253640365,
          0.16931933626820184,
          0.24833502652669603,
          0.5756857433118863,
          0.18060729201941528,
          0.3047748052827633,
          0.12416751326334802,
          0.2031832035218422,
          0.07901569025849418,
          0.19189524777062872,
          0.14674342476577493,
          0.1015916017609211,
          0.23704707077548257,
          0.4515182300485382,
          0.5079580088046055,
          0.02257591150242691,
          0.31606276103397674,
          0.2031832035218422,
          0.02257591150242691,
          0.13545546901456146,
          0.02257591150242691,
          0.15803138051698837,
          0.37250253979004405,
          0.4515182300485382,
          0.44023027429732475,
          0.1015916017609211,
          0.4063664070436844,
          0.29348684953154985,
          0.32735071678519023,
          0.16931933626820184,
          0.12416751326334802,
          0.38379049554125744,
          0.23704707077548257,
          0.04515182300485382,
          1.0949317078677052,
          0.12416751326334802,
          0.4853820973021786,
          0.18060729201941528,
          0.04515182300485382,
          0.09030364600970764,
          0.033863867253640365,
          0.62083756631674,
          0.19189524777062872,
          0.09030364600970764,
          0.11287955751213455,
          0.056439778756067274,
          0.09030364600970764,
          0.5531098318094593,
          0.2596229822779095,
          0.19189524777062872,
          0.07901569025849418,
          0.5305339203070324,
          0.02257591150242691,
          0.18060729201941528,
          0.1015916017609211,
          0.14674342476577493,
          0.36121458403883056,
          0.31606276103397674,
          0.4515182300485382,
          0.13545546901456146,
          0.12416751326334802,
          0.1015916017609211,
          0.29348684953154985,
          0.12416751326334802,
          0.011287955751213455,
          0.056439778756067274,
          0.39507845129247093,
          0.07901569025849418,
          0.15803138051698837,
          0.06772773450728073,
          0.12416751326334802,
          0.033863867253640365,
          0.12416751326334802,
          0.07901569025849418,
          0.32735071678519023,
          0.47409414155096513,
          0.11287955751213455,
          0.16931933626820184,
          0.1015916017609211,
          0.41765436279489787,
          3.7137374421492266,
          0.14674342476577493,
          0.23704707077548257,
          0.15803138051698837,
          0.2031832035218422,
          0.18060729201941528,
          0.19189524777062872,
          0.07901569025849418,
          0.16931933626820184,
          0.011287955751213455,
          0.2596229822779095,
          0.02257591150242691,
          1.2981149113895474,
          0.23704707077548257,
          0.13545546901456146,
          0.18060729201941528,
          0.4063664070436844,
          0.04515182300485382,
          0.14674342476577493,
          0.2596229822779095,
          0.28219889378033636,
          0.11287955751213455,
          0.24833502652669603,
          0.14674342476577493,
          0.14674342476577493,
          0.06772773450728073,
          0.02257591150242691,
          0.15803138051698837,
          0.09030364600970764,
          0.28219889378033636,
          0.2031832035218422,
          0.7224291680776611,
          0.21447115927305566,
          0.3386386725364037,
          0.19189524777062872,
          0.056439778756067274,
          0.3047748052827633,
          0.31606276103397674,
          0.2031832035218422,
          0.23704707077548257,
          0.06772773450728073,
          0.13545546901456146,
          0.02257591150242691,
          0.09030364600970764,
          0.5418218760582458,
          0.056439778756067274,
          0.011287955751213455,
          0.16931933626820184,
          0.3047748052827633,
          0.21447115927305566,
          0.13545546901456146,
          0.04515182300485382,
          0.14674342476577493,
          0.32735071678519023,
          0.2709109380291229,
          0.32735071678519023,
          0.06772773450728073
         ],
         "xaxis": "x2",
         "y": [
          "miR-96/1271",
          "miR-9",
          "miR-876",
          "miR-875",
          "miR-874",
          "miR-873",
          "miR-802",
          "miR-760",
          "miR-758",
          "miR-7",
          "miR-670",
          "miR-668",
          "miR-665",
          "miR-655",
          "miR-653",
          "miR-582",
          "miR-544a",
          "miR-543",
          "miR-542",
          "miR-539",
          "miR-532",
          "miR-505",
          "miR-504",
          "miR-503",
          "miR-501/502",
          "miR-499",
          "miR-496",
          "miR-495",
          "miR-494",
          "miR-493",
          "miR-491",
          "miR-490",
          "miR-489",
          "miR-488",
          "miR-486",
          "miR-485",
          "miR-483",
          "miR-455",
          "miR-452",
          "miR-450a",
          "miR-448",
          "miR-433",
          "miR-431",
          "miR-425",
          "miR-423",
          "miR-421",
          "miR-411",
          "miR-410",
          "miR-409",
          "miR-383",
          "miR-382",
          "miR-381",
          "miR-379",
          "miR-378a",
          "miR-377",
          "miR-376c",
          "miR-376ab",
          "miR-375",
          "miR-374",
          "miR-371",
          "miR-369",
          "miR-365",
          "miR-361",
          "miR-346",
          "miR-342",
          "miR-340",
          "miR-34/449",
          "miR-339",
          "miR-338",
          "miR-335",
          "miR-331",
          "miR-330",
          "miR-33",
          "miR-329/362",
          "miR-328",
          "miR-325",
          "miR-324",
          "miR-323a",
          "miR-31",
          "miR-302c",
          "miR-302abd",
          "miR-30",
          "miR-299",
          "miR-296",
          "miR-29",
          "miR-28/708",
          "miR-27",
          "miR-26",
          "miR-25/32/92/363/367",
          "miR-24",
          "miR-23",
          "miR-224",
          "miR-223",
          "miR-221/222",
          "miR-22",
          "miR-219",
          "miR-218",
          "miR-217",
          "miR-216b",
          "miR-216a",
          "miR-214",
          "miR-21/590",
          "miR-205",
          "miR-204/211",
          "miR-203a",
          "miR-202",
          "miR-200bc/429",
          "miR-199",
          "miR-196",
          "miR-194",
          "miR-193",
          "miR-192/215",
          "miR-190",
          "miR-19",
          "miR-188",
          "miR-187",
          "miR-186",
          "miR-185",
          "miR-183",
          "miR-182",
          "miR-181",
          "miR-18",
          "miR-17/20/93/106/519d",
          "miR-155",
          "miR-154",
          "miR-153",
          "miR-151a",
          "miR-150",
          "miR-15/16/195/424/497",
          "miR-149",
          "miR-148/152",
          "miR-146",
          "miR-145",
          "miR-144",
          "miR-143",
          "miR-142",
          "miR-141/200a",
          "miR-140",
          "miR-139",
          "miR-138",
          "miR-137",
          "miR-136",
          "miR-135",
          "miR-134",
          "miR-133",
          "miR-132/212",
          "miR-1306",
          "miR-130/301/454",
          "miR-129",
          "miR-128",
          "miR-126",
          "miR-125",
          "miR-124",
          "miR-122",
          "miR-1197",
          "miR-1193",
          "miR-103/107",
          "miR-101",
          "miR-10",
          "miR-1/206",
          "let-7/miR-98"
         ],
         "yaxis": "y2"
        },
        {
         "alignmentgroup": "True",
         "customdata": [
          [
           1,
           2007
          ],
          [
           16,
           2007
          ],
          [
           2,
           2007
          ],
          [
           2,
           2007
          ],
          [
           1,
           2007
          ],
          [
           1,
           2007
          ],
          [
           24,
           2007
          ],
          [
           23,
           2007
          ],
          [
           1,
           2007
          ],
          [
           1,
           2007
          ],
          [
           5,
           2007
          ],
          [
           1,
           2007
          ],
          [
           1,
           2007
          ],
          [
           2,
           2007
          ],
          [
           1,
           2007
          ],
          [
           1,
           2007
          ],
          [
           2,
           2007
          ],
          [
           5,
           2007
          ],
          [
           16,
           2007
          ],
          [
           5,
           2007
          ],
          [
           2,
           2007
          ],
          [
           2,
           2007
          ],
          [
           2,
           2007
          ],
          [
           11,
           2007
          ],
          [
           5,
           2007
          ],
          [
           1,
           2007
          ],
          [
           1,
           2007
          ],
          [
           4,
           2007
          ],
          [
           3,
           2007
          ],
          [
           1,
           2007
          ],
          [
           1,
           2007
          ],
          [
           2,
           2007
          ],
          [
           1,
           2007
          ]
         ],
         "hovertemplate": "mirna_gene_strand_orientation=same<br>type=Repeats without cCREs<br>group=g4<br>total_count_rel=%{x}<br>mirna=%{y}<br>total_count=%{customdata[0]}<br>total_group_counts=%{customdata[1]}<extra></extra>",
         "legendgroup": "same",
         "marker": {
          "color": "tomato",
          "pattern": {
           "shape": ""
          }
         },
         "name": "same",
         "offsetgroup": "same",
         "orientation": "h",
         "showlegend": false,
         "textposition": "auto",
         "type": "bar",
         "x": [
          0.04982561036372695,
          0.7972097658196312,
          0.0996512207274539,
          0.0996512207274539,
          0.04982561036372695,
          0.04982561036372695,
          1.195814648729447,
          1.14598903836572,
          0.04982561036372695,
          0.04982561036372695,
          0.2491280518186348,
          0.04982561036372695,
          0.04982561036372695,
          0.0996512207274539,
          0.04982561036372695,
          0.04982561036372695,
          0.0996512207274539,
          0.2491280518186348,
          0.7972097658196312,
          0.2491280518186348,
          0.0996512207274539,
          0.0996512207274539,
          0.0996512207274539,
          0.5480817140009965,
          0.2491280518186348,
          0.04982561036372695,
          0.04982561036372695,
          0.1993024414549078,
          0.14947683109118087,
          0.04982561036372695,
          0.04982561036372695,
          0.0996512207274539,
          0.04982561036372695
         ],
         "xaxis": "x3",
         "y": [
          "miR-875",
          "miR-874",
          "miR-873",
          "miR-760",
          "miR-744",
          "miR-551",
          "miR-532",
          "miR-491",
          "miR-485",
          "miR-483",
          "miR-423",
          "miR-409",
          "miR-379",
          "miR-365",
          "miR-34/449",
          "miR-339",
          "miR-331",
          "miR-330",
          "miR-328",
          "miR-299",
          "miR-296",
          "miR-204/211",
          "miR-188",
          "miR-185",
          "miR-150",
          "miR-15/16/195/424/497",
          "miR-140",
          "miR-1306",
          "miR-129",
          "miR-1249",
          "miR-122",
          "miR-10",
          "miR-1/206"
         ],
         "yaxis": "y3"
        },
        {
         "alignmentgroup": "True",
         "customdata": [
          [
           2,
           252
          ],
          [
           2,
           252
          ],
          [
           1,
           252
          ],
          [
           1,
           252
          ],
          [
           2,
           252
          ],
          [
           40,
           252
          ],
          [
           1,
           252
          ],
          [
           1,
           252
          ],
          [
           1,
           252
          ]
         ],
         "hovertemplate": "mirna_gene_strand_orientation=same<br>type=Repeats without cCREs<br>group=h-dna<br>total_count_rel=%{x}<br>mirna=%{y}<br>total_count=%{customdata[0]}<br>total_group_counts=%{customdata[1]}<extra></extra>",
         "legendgroup": "same",
         "marker": {
          "color": "tomato",
          "pattern": {
           "shape": ""
          }
         },
         "name": "same",
         "offsetgroup": "same",
         "orientation": "h",
         "showlegend": false,
         "textposition": "auto",
         "type": "bar",
         "x": [
          0.7936507936507936,
          0.7936507936507936,
          0.3968253968253968,
          0.3968253968253968,
          0.7936507936507936,
          15.873015873015872,
          0.3968253968253968,
          0.3968253968253968,
          0.3968253968253968
         ],
         "xaxis": "x4",
         "y": [
          "miR-532",
          "miR-491",
          "miR-423",
          "miR-339",
          "miR-204/211",
          "miR-185",
          "miR-142",
          "miR-1306",
          "miR-129"
         ],
         "yaxis": "y4"
        },
        {
         "alignmentgroup": "True",
         "customdata": [
          [
           1,
           771
          ],
          [
           3,
           771
          ],
          [
           1,
           771
          ],
          [
           1,
           771
          ],
          [
           57,
           771
          ],
          [
           1,
           771
          ],
          [
           1,
           771
          ],
          [
           4,
           771
          ],
          [
           3,
           771
          ],
          [
           1,
           771
          ],
          [
           2,
           771
          ],
          [
           3,
           771
          ],
          [
           1,
           771
          ],
          [
           1,
           771
          ],
          [
           2,
           771
          ],
          [
           3,
           771
          ],
          [
           1,
           771
          ],
          [
           6,
           771
          ],
          [
           20,
           771
          ],
          [
           15,
           771
          ],
          [
           1,
           771
          ],
          [
           3,
           771
          ],
          [
           1,
           771
          ],
          [
           34,
           771
          ],
          [
           4,
           771
          ],
          [
           2,
           771
          ],
          [
           8,
           771
          ],
          [
           1,
           771
          ],
          [
           1,
           771
          ],
          [
           2,
           771
          ],
          [
           4,
           771
          ],
          [
           45,
           771
          ],
          [
           1,
           771
          ],
          [
           4,
           771
          ],
          [
           5,
           771
          ],
          [
           2,
           771
          ],
          [
           1,
           771
          ],
          [
           2,
           771
          ],
          [
           1,
           771
          ],
          [
           1,
           771
          ],
          [
           25,
           771
          ],
          [
           3,
           771
          ],
          [
           5,
           771
          ],
          [
           4,
           771
          ],
          [
           2,
           771
          ],
          [
           4,
           771
          ],
          [
           2,
           771
          ],
          [
           2,
           771
          ]
         ],
         "hovertemplate": "mirna_gene_strand_orientation=different<br>type=cCREs without Repeats<br>group=z-dna<br>total_count_rel=%{x}<br>mirna=%{y}<br>total_count=%{customdata[0]}<br>total_group_counts=%{customdata[1]}<extra></extra>",
         "legendgroup": "different",
         "marker": {
          "color": "royalblue",
          "pattern": {
           "shape": ""
          }
         },
         "name": "different",
         "offsetgroup": "different",
         "orientation": "h",
         "showlegend": true,
         "textposition": "auto",
         "type": "bar",
         "x": [
          0.12970168612191957,
          0.38910505836575876,
          0.12970168612191957,
          0.12970168612191957,
          7.392996108949417,
          0.12970168612191957,
          0.12970168612191957,
          0.5188067444876783,
          0.38910505836575876,
          0.12970168612191957,
          0.25940337224383914,
          0.38910505836575876,
          0.12970168612191957,
          0.12970168612191957,
          0.25940337224383914,
          0.38910505836575876,
          0.12970168612191957,
          0.7782101167315175,
          2.594033722438392,
          1.9455252918287937,
          0.12970168612191957,
          0.38910505836575876,
          0.12970168612191957,
          4.409857328145266,
          0.5188067444876783,
          0.25940337224383914,
          1.0376134889753565,
          0.12970168612191957,
          0.12970168612191957,
          0.25940337224383914,
          0.5188067444876783,
          5.836575875486381,
          0.12970168612191957,
          0.5188067444876783,
          0.648508430609598,
          0.25940337224383914,
          0.12970168612191957,
          0.25940337224383914,
          0.12970168612191957,
          0.12970168612191957,
          3.24254215304799,
          0.38910505836575876,
          0.648508430609598,
          0.5188067444876783,
          0.25940337224383914,
          0.5188067444876783,
          0.25940337224383914,
          0.25940337224383914
         ],
         "xaxis": "x5",
         "y": [
          "miR-96/1271",
          "miR-874",
          "miR-873",
          "miR-760",
          "miR-744",
          "miR-7",
          "miR-652",
          "miR-532",
          "miR-503",
          "miR-496",
          "miR-493",
          "miR-491",
          "miR-486",
          "miR-485",
          "miR-483",
          "miR-455",
          "miR-431",
          "miR-423",
          "miR-377",
          "miR-342",
          "miR-335",
          "miR-331",
          "miR-330",
          "miR-329/362",
          "miR-324",
          "miR-299",
          "miR-296",
          "miR-29",
          "miR-22",
          "miR-218",
          "miR-214",
          "miR-210",
          "miR-199",
          "miR-19",
          "miR-187",
          "miR-184",
          "miR-183",
          "miR-18",
          "miR-151a",
          "miR-148/152",
          "miR-147",
          "miR-140",
          "miR-138",
          "miR-1306",
          "miR-128",
          "miR-1249",
          "miR-122",
          "miR-1197"
         ],
         "yaxis": "y5"
        },
        {
         "alignmentgroup": "True",
         "customdata": [
          [
           1,
           8859
          ],
          [
           4,
           8859
          ],
          [
           7,
           8859
          ],
          [
           4,
           8859
          ],
          [
           12,
           8859
          ],
          [
           12,
           8859
          ],
          [
           2,
           8859
          ],
          [
           3,
           8859
          ],
          [
           1,
           8859
          ],
          [
           5,
           8859
          ],
          [
           7,
           8859
          ],
          [
           1,
           8859
          ],
          [
           8,
           8859
          ],
          [
           10,
           8859
          ],
          [
           4,
           8859
          ],
          [
           3,
           8859
          ],
          [
           9,
           8859
          ],
          [
           7,
           8859
          ],
          [
           14,
           8859
          ],
          [
           10,
           8859
          ],
          [
           4,
           8859
          ],
          [
           9,
           8859
          ],
          [
           3,
           8859
          ],
          [
           7,
           8859
          ],
          [
           5,
           8859
          ],
          [
           2,
           8859
          ],
          [
           1,
           8859
          ],
          [
           25,
           8859
          ],
          [
           9,
           8859
          ],
          [
           9,
           8859
          ],
          [
           10,
           8859
          ],
          [
           8,
           8859
          ],
          [
           7,
           8859
          ],
          [
           13,
           8859
          ],
          [
           2,
           8859
          ],
          [
           13,
           8859
          ],
          [
           6,
           8859
          ],
          [
           12,
           8859
          ],
          [
           11,
           8859
          ],
          [
           1,
           8859
          ],
          [
           5,
           8859
          ],
          [
           1,
           8859
          ],
          [
           4,
           8859
          ],
          [
           5,
           8859
          ],
          [
           9,
           8859
          ],
          [
           5,
           8859
          ],
          [
           12,
           8859
          ],
          [
           3,
           8859
          ],
          [
           3,
           8859
          ],
          [
           3,
           8859
          ],
          [
           12,
           8859
          ],
          [
           14,
           8859
          ],
          [
           5,
           8859
          ],
          [
           5,
           8859
          ],
          [
           13,
           8859
          ],
          [
           7,
           8859
          ],
          [
           11,
           8859
          ],
          [
           4,
           8859
          ],
          [
           2,
           8859
          ],
          [
           2,
           8859
          ],
          [
           3,
           8859
          ],
          [
           5,
           8859
          ],
          [
           2,
           8859
          ],
          [
           9,
           8859
          ],
          [
           5,
           8859
          ],
          [
           3,
           8859
          ],
          [
           24,
           8859
          ],
          [
           1,
           8859
          ],
          [
           16,
           8859
          ],
          [
           9,
           8859
          ],
          [
           5,
           8859
          ],
          [
           3,
           8859
          ],
          [
           6,
           8859
          ],
          [
           6,
           8859
          ],
          [
           8,
           8859
          ],
          [
           9,
           8859
          ],
          [
           6,
           8859
          ],
          [
           7,
           8859
          ],
          [
           2,
           8859
          ],
          [
           1,
           8859
          ],
          [
           2,
           8859
          ],
          [
           2,
           8859
          ],
          [
           8,
           8859
          ],
          [
           6,
           8859
          ],
          [
           5,
           8859
          ],
          [
           3,
           8859
          ],
          [
           3,
           8859
          ],
          [
           2,
           8859
          ],
          [
           11,
           8859
          ],
          [
           2,
           8859
          ],
          [
           8,
           8859
          ],
          [
           14,
           8859
          ],
          [
           5,
           8859
          ],
          [
           3,
           8859
          ],
          [
           3,
           8859
          ],
          [
           2,
           8859
          ],
          [
           12,
           8859
          ],
          [
           33,
           8859
          ],
          [
           23,
           8859
          ],
          [
           6,
           8859
          ],
          [
           9,
           8859
          ],
          [
           11,
           8859
          ],
          [
           4,
           8859
          ],
          [
           3,
           8859
          ],
          [
           7,
           8859
          ],
          [
           1,
           8859
          ],
          [
           9,
           8859
          ],
          [
           2,
           8859
          ],
          [
           3,
           8859
          ],
          [
           15,
           8859
          ],
          [
           21,
           8859
          ],
          [
           11,
           8859
          ],
          [
           7,
           8859
          ],
          [
           5,
           8859
          ],
          [
           4,
           8859
          ],
          [
           9,
           8859
          ],
          [
           4,
           8859
          ],
          [
           9,
           8859
          ],
          [
           4,
           8859
          ],
          [
           3,
           8859
          ],
          [
           15,
           8859
          ],
          [
           1,
           8859
          ],
          [
           6,
           8859
          ],
          [
           12,
           8859
          ],
          [
           9,
           8859
          ],
          [
           4,
           8859
          ],
          [
           4,
           8859
          ],
          [
           25,
           8859
          ],
          [
           4,
           8859
          ],
          [
           22,
           8859
          ],
          [
           5,
           8859
          ],
          [
           1,
           8859
          ],
          [
           6,
           8859
          ],
          [
           11,
           8859
          ],
          [
           11,
           8859
          ],
          [
           3,
           8859
          ],
          [
           7,
           8859
          ],
          [
           4,
           8859
          ],
          [
           2,
           8859
          ],
          [
           26,
           8859
          ],
          [
           12,
           8859
          ],
          [
           1,
           8859
          ],
          [
           6,
           8859
          ],
          [
           1,
           8859
          ],
          [
           4,
           8859
          ],
          [
           7,
           8859
          ],
          [
           5,
           8859
          ],
          [
           6,
           8859
          ],
          [
           12,
           8859
          ],
          [
           12,
           8859
          ],
          [
           8,
           8859
          ],
          [
           4,
           8859
          ]
         ],
         "hovertemplate": "mirna_gene_strand_orientation=different<br>type=cCREs without Repeats<br>group=sidd<br>total_count_rel=%{x}<br>mirna=%{y}<br>total_count=%{customdata[0]}<br>total_group_counts=%{customdata[1]}<extra></extra>",
         "legendgroup": "different",
         "marker": {
          "color": "royalblue",
          "pattern": {
           "shape": ""
          }
         },
         "name": "different",
         "offsetgroup": "different",
         "orientation": "h",
         "showlegend": false,
         "textposition": "auto",
         "type": "bar",
         "x": [
          0.011287955751213455,
          0.04515182300485382,
          0.07901569025849418,
          0.04515182300485382,
          0.13545546901456146,
          0.13545546901456146,
          0.02257591150242691,
          0.033863867253640365,
          0.011287955751213455,
          0.056439778756067274,
          0.07901569025849418,
          0.011287955751213455,
          0.09030364600970764,
          0.11287955751213455,
          0.04515182300485382,
          0.033863867253640365,
          0.1015916017609211,
          0.07901569025849418,
          0.15803138051698837,
          0.11287955751213455,
          0.04515182300485382,
          0.1015916017609211,
          0.033863867253640365,
          0.07901569025849418,
          0.056439778756067274,
          0.02257591150242691,
          0.011287955751213455,
          0.28219889378033636,
          0.1015916017609211,
          0.1015916017609211,
          0.11287955751213455,
          0.09030364600970764,
          0.07901569025849418,
          0.14674342476577493,
          0.02257591150242691,
          0.14674342476577493,
          0.06772773450728073,
          0.13545546901456146,
          0.12416751326334802,
          0.011287955751213455,
          0.056439778756067274,
          0.011287955751213455,
          0.04515182300485382,
          0.056439778756067274,
          0.1015916017609211,
          0.056439778756067274,
          0.13545546901456146,
          0.033863867253640365,
          0.033863867253640365,
          0.033863867253640365,
          0.13545546901456146,
          0.15803138051698837,
          0.056439778756067274,
          0.056439778756067274,
          0.14674342476577493,
          0.07901569025849418,
          0.12416751326334802,
          0.04515182300485382,
          0.02257591150242691,
          0.02257591150242691,
          0.033863867253640365,
          0.056439778756067274,
          0.02257591150242691,
          0.1015916017609211,
          0.056439778756067274,
          0.033863867253640365,
          0.2709109380291229,
          0.011287955751213455,
          0.18060729201941528,
          0.1015916017609211,
          0.056439778756067274,
          0.033863867253640365,
          0.06772773450728073,
          0.06772773450728073,
          0.09030364600970764,
          0.1015916017609211,
          0.06772773450728073,
          0.07901569025849418,
          0.02257591150242691,
          0.011287955751213455,
          0.02257591150242691,
          0.02257591150242691,
          0.09030364600970764,
          0.06772773450728073,
          0.056439778756067274,
          0.033863867253640365,
          0.033863867253640365,
          0.02257591150242691,
          0.12416751326334802,
          0.02257591150242691,
          0.09030364600970764,
          0.15803138051698837,
          0.056439778756067274,
          0.033863867253640365,
          0.033863867253640365,
          0.02257591150242691,
          0.13545546901456146,
          0.37250253979004405,
          0.2596229822779095,
          0.06772773450728073,
          0.1015916017609211,
          0.12416751326334802,
          0.04515182300485382,
          0.033863867253640365,
          0.07901569025849418,
          0.011287955751213455,
          0.1015916017609211,
          0.02257591150242691,
          0.033863867253640365,
          0.16931933626820184,
          0.23704707077548257,
          0.12416751326334802,
          0.07901569025849418,
          0.056439778756067274,
          0.04515182300485382,
          0.1015916017609211,
          0.04515182300485382,
          0.1015916017609211,
          0.04515182300485382,
          0.033863867253640365,
          0.16931933626820184,
          0.011287955751213455,
          0.06772773450728073,
          0.13545546901456146,
          0.1015916017609211,
          0.04515182300485382,
          0.04515182300485382,
          0.28219889378033636,
          0.04515182300485382,
          0.24833502652669603,
          0.056439778756067274,
          0.011287955751213455,
          0.06772773450728073,
          0.12416751326334802,
          0.12416751326334802,
          0.033863867253640365,
          0.07901569025849418,
          0.04515182300485382,
          0.02257591150242691,
          0.29348684953154985,
          0.13545546901456146,
          0.011287955751213455,
          0.06772773450728073,
          0.011287955751213455,
          0.04515182300485382,
          0.07901569025849418,
          0.056439778756067274,
          0.06772773450728073,
          0.13545546901456146,
          0.13545546901456146,
          0.09030364600970764,
          0.04515182300485382
         ],
         "xaxis": "x6",
         "y": [
          "miR-99/100",
          "miR-96/1271",
          "miR-9",
          "miR-876",
          "miR-874",
          "miR-873",
          "miR-802",
          "miR-760",
          "miR-744",
          "miR-7",
          "miR-670",
          "miR-668",
          "miR-665",
          "miR-655",
          "miR-653",
          "miR-615",
          "miR-582",
          "miR-544a",
          "miR-543",
          "miR-542",
          "miR-539",
          "miR-532",
          "miR-505",
          "miR-504",
          "miR-501/502",
          "miR-499",
          "miR-496",
          "miR-495",
          "miR-494",
          "miR-493",
          "miR-491",
          "miR-490",
          "miR-489",
          "miR-488",
          "miR-486",
          "miR-485",
          "miR-483",
          "miR-455",
          "miR-452",
          "miR-450a",
          "miR-448",
          "miR-433",
          "miR-425",
          "miR-423",
          "miR-421",
          "miR-410",
          "miR-409",
          "miR-383",
          "miR-382",
          "miR-381",
          "miR-379",
          "miR-378a",
          "miR-377",
          "miR-376c",
          "miR-374",
          "miR-371",
          "miR-369",
          "miR-365",
          "miR-361",
          "miR-342",
          "miR-340",
          "miR-34/449",
          "miR-339",
          "miR-338",
          "miR-335",
          "miR-331",
          "miR-330",
          "miR-33",
          "miR-329/362",
          "miR-328",
          "miR-325",
          "miR-323a",
          "miR-31",
          "miR-302c",
          "miR-302abd",
          "miR-30",
          "miR-299",
          "miR-296",
          "miR-28/708",
          "miR-27",
          "miR-26",
          "miR-25/32/92/363/367",
          "miR-24",
          "miR-23",
          "miR-224",
          "miR-223",
          "miR-221/222",
          "miR-22",
          "miR-218",
          "miR-217",
          "miR-216b",
          "miR-216a",
          "miR-214",
          "miR-210",
          "miR-21/590",
          "miR-208",
          "miR-205",
          "miR-204/211",
          "miR-203a",
          "miR-202",
          "miR-200bc/429",
          "miR-199",
          "miR-193",
          "miR-192/215",
          "miR-191",
          "miR-190",
          "miR-19",
          "miR-188",
          "miR-187",
          "miR-186",
          "miR-185",
          "miR-183",
          "miR-182",
          "miR-181",
          "miR-18",
          "miR-17/20/93/106/519d",
          "miR-155",
          "miR-154",
          "miR-153",
          "miR-151a",
          "miR-150",
          "miR-15/16/195/424/497",
          "miR-149",
          "miR-148/152",
          "miR-146",
          "miR-145",
          "miR-143",
          "miR-142",
          "miR-141/200a",
          "miR-140",
          "miR-139",
          "miR-138",
          "miR-136",
          "miR-135",
          "miR-134",
          "miR-133",
          "miR-132/212",
          "miR-1306",
          "miR-130/301/454",
          "miR-129",
          "miR-128",
          "miR-127",
          "miR-125",
          "miR-1249",
          "miR-124",
          "miR-122",
          "miR-1197",
          "miR-103/107",
          "miR-101",
          "miR-10",
          "miR-1/206",
          "let-7/miR-98"
         ],
         "yaxis": "y6"
        },
        {
         "alignmentgroup": "True",
         "customdata": [
          [
           18,
           2007
          ],
          [
           4,
           2007
          ],
          [
           9,
           2007
          ],
          [
           1,
           2007
          ],
          [
           126,
           2007
          ],
          [
           1,
           2007
          ],
          [
           7,
           2007
          ],
          [
           25,
           2007
          ],
          [
           10,
           2007
          ],
          [
           2,
           2007
          ],
          [
           52,
           2007
          ],
          [
           11,
           2007
          ],
          [
           1,
           2007
          ],
          [
           2,
           2007
          ],
          [
           1,
           2007
          ],
          [
           39,
           2007
          ],
          [
           2,
           2007
          ],
          [
           10,
           2007
          ],
          [
           4,
           2007
          ],
          [
           67,
           2007
          ],
          [
           2,
           2007
          ],
          [
           1,
           2007
          ],
          [
           1,
           2007
          ],
          [
           3,
           2007
          ],
          [
           3,
           2007
          ],
          [
           5,
           2007
          ],
          [
           4,
           2007
          ],
          [
           40,
           2007
          ],
          [
           4,
           2007
          ],
          [
           2,
           2007
          ],
          [
           34,
           2007
          ],
          [
           16,
           2007
          ],
          [
           5,
           2007
          ],
          [
           9,
           2007
          ],
          [
           15,
           2007
          ],
          [
           2,
           2007
          ],
          [
           6,
           2007
          ],
          [
           73,
           2007
          ],
          [
           1,
           2007
          ],
          [
           11,
           2007
          ],
          [
           6,
           2007
          ],
          [
           3,
           2007
          ],
          [
           4,
           2007
          ],
          [
           11,
           2007
          ],
          [
           2,
           2007
          ],
          [
           7,
           2007
          ],
          [
           6,
           2007
          ],
          [
           1,
           2007
          ],
          [
           13,
           2007
          ],
          [
           4,
           2007
          ],
          [
           1,
           2007
          ],
          [
           1,
           2007
          ],
          [
           11,
           2007
          ],
          [
           1,
           2007
          ],
          [
           2,
           2007
          ],
          [
           1,
           2007
          ],
          [
           4,
           2007
          ],
          [
           4,
           2007
          ],
          [
           1,
           2007
          ],
          [
           9,
           2007
          ],
          [
           31,
           2007
          ],
          [
           6,
           2007
          ],
          [
           5,
           2007
          ],
          [
           1,
           2007
          ],
          [
           13,
           2007
          ],
          [
           9,
           2007
          ],
          [
           1,
           2007
          ],
          [
           1,
           2007
          ],
          [
           6,
           2007
          ],
          [
           1,
           2007
          ]
         ],
         "hovertemplate": "mirna_gene_strand_orientation=different<br>type=cCREs without Repeats<br>group=g4<br>total_count_rel=%{x}<br>mirna=%{y}<br>total_count=%{customdata[0]}<br>total_group_counts=%{customdata[1]}<extra></extra>",
         "legendgroup": "different",
         "marker": {
          "color": "royalblue",
          "pattern": {
           "shape": ""
          }
         },
         "name": "different",
         "offsetgroup": "different",
         "orientation": "h",
         "showlegend": false,
         "textposition": "auto",
         "type": "bar",
         "x": [
          0.8968609865470852,
          0.1993024414549078,
          0.4484304932735426,
          0.04982561036372695,
          6.278026905829597,
          0.04982561036372695,
          0.3487792725460887,
          1.2456402590931739,
          0.4982561036372696,
          0.0996512207274539,
          2.590931738913802,
          0.5480817140009965,
          0.04982561036372695,
          0.0996512207274539,
          0.04982561036372695,
          1.9431988041853512,
          0.0996512207274539,
          0.4982561036372696,
          0.1993024414549078,
          3.338315894369706,
          0.0996512207274539,
          0.04982561036372695,
          0.04982561036372695,
          0.14947683109118087,
          0.14947683109118087,
          0.2491280518186348,
          0.1993024414549078,
          1.9930244145490783,
          0.1993024414549078,
          0.0996512207274539,
          1.6940707523667164,
          0.7972097658196312,
          0.2491280518186348,
          0.4484304932735426,
          0.7473841554559043,
          0.0996512207274539,
          0.29895366218236175,
          3.6372695565520674,
          0.04982561036372695,
          0.5480817140009965,
          0.29895366218236175,
          0.14947683109118087,
          0.1993024414549078,
          0.5480817140009965,
          0.0996512207274539,
          0.3487792725460887,
          0.29895366218236175,
          0.04982561036372695,
          0.6477329347284505,
          0.1993024414549078,
          0.04982561036372695,
          0.04982561036372695,
          0.5480817140009965,
          0.04982561036372695,
          0.0996512207274539,
          0.04982561036372695,
          0.1993024414549078,
          0.1993024414549078,
          0.04982561036372695,
          0.4484304932735426,
          1.5445939212755355,
          0.29895366218236175,
          0.2491280518186348,
          0.04982561036372695,
          0.6477329347284505,
          0.4484304932735426,
          0.04982561036372695,
          0.04982561036372695,
          0.29895366218236175,
          0.04982561036372695
         ],
         "xaxis": "x7",
         "y": [
          "miR-874",
          "miR-873",
          "miR-760",
          "miR-758",
          "miR-744",
          "miR-670",
          "miR-665",
          "miR-615",
          "miR-551",
          "miR-542",
          "miR-532",
          "miR-504",
          "miR-503",
          "miR-501/502",
          "miR-493",
          "miR-491",
          "miR-490",
          "miR-485",
          "miR-455",
          "miR-423",
          "miR-412",
          "miR-377",
          "miR-371",
          "miR-365",
          "miR-346",
          "miR-342",
          "miR-34/449",
          "miR-339",
          "miR-338",
          "miR-335",
          "miR-331",
          "miR-330",
          "miR-329/362",
          "miR-328",
          "miR-324",
          "miR-31",
          "miR-299",
          "miR-296",
          "miR-28/708",
          "miR-24",
          "miR-22",
          "miR-214",
          "miR-205",
          "miR-204/211",
          "miR-199",
          "miR-193",
          "miR-188",
          "miR-187",
          "miR-185",
          "miR-184",
          "miR-182",
          "miR-151a",
          "miR-150",
          "miR-149",
          "miR-146",
          "miR-143",
          "miR-140",
          "miR-138",
          "miR-136",
          "miR-133",
          "miR-1306",
          "miR-129",
          "miR-127",
          "miR-1251",
          "miR-125",
          "miR-1249",
          "miR-122",
          "miR-103/107",
          "miR-10",
          "let-7/miR-98"
         ],
         "yaxis": "y7"
        },
        {
         "alignmentgroup": "True",
         "customdata": [
          [
           1,
           252
          ],
          [
           2,
           252
          ],
          [
           1,
           252
          ],
          [
           1,
           252
          ],
          [
           4,
           252
          ],
          [
           4,
           252
          ],
          [
           5,
           252
          ],
          [
           3,
           252
          ],
          [
           1,
           252
          ],
          [
           1,
           252
          ],
          [
           1,
           252
          ],
          [
           1,
           252
          ],
          [
           3,
           252
          ],
          [
           1,
           252
          ],
          [
           34,
           252
          ],
          [
           4,
           252
          ],
          [
           1,
           252
          ],
          [
           1,
           252
          ],
          [
           1,
           252
          ],
          [
           3,
           252
          ]
         ],
         "hovertemplate": "mirna_gene_strand_orientation=different<br>type=cCREs without Repeats<br>group=h-dna<br>total_count_rel=%{x}<br>mirna=%{y}<br>total_count=%{customdata[0]}<br>total_group_counts=%{customdata[1]}<extra></extra>",
         "legendgroup": "different",
         "marker": {
          "color": "royalblue",
          "pattern": {
           "shape": ""
          }
         },
         "name": "different",
         "offsetgroup": "different",
         "orientation": "h",
         "showlegend": false,
         "textposition": "auto",
         "type": "bar",
         "x": [
          0.3968253968253968,
          0.7936507936507936,
          0.3968253968253968,
          0.3968253968253968,
          1.5873015873015872,
          1.5873015873015872,
          1.984126984126984,
          1.1904761904761905,
          0.3968253968253968,
          0.3968253968253968,
          0.3968253968253968,
          0.3968253968253968,
          1.1904761904761905,
          0.3968253968253968,
          13.492063492063492,
          1.5873015873015872,
          0.3968253968253968,
          0.3968253968253968,
          0.3968253968253968,
          1.1904761904761905
         ],
         "xaxis": "x8",
         "y": [
          "miR-873",
          "miR-744",
          "miR-532",
          "miR-495",
          "miR-491",
          "miR-483",
          "miR-423",
          "miR-339",
          "miR-331",
          "miR-31",
          "miR-28/708",
          "miR-205",
          "miR-204/211",
          "miR-191",
          "miR-185",
          "miR-151a",
          "miR-149",
          "miR-143",
          "miR-133",
          "miR-1306"
         ],
         "yaxis": "y8"
        },
        {
         "alignmentgroup": "True",
         "customdata": [
          [
           2,
           771
          ],
          [
           1,
           771
          ],
          [
           5,
           771
          ],
          [
           1,
           771
          ],
          [
           14,
           771
          ],
          [
           3,
           771
          ],
          [
           2,
           771
          ],
          [
           1,
           771
          ],
          [
           14,
           771
          ],
          [
           5,
           771
          ],
          [
           8,
           771
          ],
          [
           1,
           771
          ],
          [
           28,
           771
          ],
          [
           1,
           771
          ],
          [
           1,
           771
          ],
          [
           1,
           771
          ],
          [
           1,
           771
          ],
          [
           1,
           771
          ],
          [
           1,
           771
          ],
          [
           1,
           771
          ],
          [
           1,
           771
          ],
          [
           1,
           771
          ]
         ],
         "hovertemplate": "mirna_gene_strand_orientation=different<br>type=Repeats without cCREs<br>group=z-dna<br>total_count_rel=%{x}<br>mirna=%{y}<br>total_count=%{customdata[0]}<br>total_group_counts=%{customdata[1]}<extra></extra>",
         "legendgroup": "different",
         "marker": {
          "color": "royalblue",
          "pattern": {
           "shape": ""
          }
         },
         "name": "different",
         "offsetgroup": "different",
         "orientation": "h",
         "showlegend": false,
         "textposition": "auto",
         "type": "bar",
         "x": [
          0.25940337224383914,
          0.12970168612191957,
          0.648508430609598,
          0.12970168612191957,
          1.8158236057068744,
          0.38910505836575876,
          0.25940337224383914,
          0.12970168612191957,
          1.8158236057068744,
          0.648508430609598,
          1.0376134889753565,
          0.12970168612191957,
          3.631647211413749,
          0.12970168612191957,
          0.12970168612191957,
          0.12970168612191957,
          0.12970168612191957,
          0.12970168612191957,
          0.12970168612191957,
          0.12970168612191957,
          0.12970168612191957,
          0.12970168612191957
         ],
         "xaxis": "x",
         "y": [
          "miR-539",
          "miR-501/502",
          "miR-493",
          "miR-486",
          "miR-455",
          "miR-448",
          "miR-431",
          "miR-425",
          "miR-377",
          "miR-342",
          "miR-329/362",
          "miR-299",
          "miR-210",
          "miR-187",
          "miR-18",
          "miR-17/20/93/106/519d",
          "miR-153",
          "miR-148/152",
          "miR-147",
          "miR-142",
          "miR-138",
          "miR-129"
         ],
         "yaxis": "y"
        },
        {
         "alignmentgroup": "True",
         "customdata": [
          [
           13,
           8859
          ],
          [
           16,
           8859
          ],
          [
           20,
           8859
          ],
          [
           14,
           8859
          ],
          [
           15,
           8859
          ],
          [
           17,
           8859
          ],
          [
           6,
           8859
          ],
          [
           2,
           8859
          ],
          [
           13,
           8859
          ],
          [
           10,
           8859
          ],
          [
           72,
           8859
          ],
          [
           19,
           8859
          ],
          [
           1,
           8859
          ],
          [
           49,
           8859
          ],
          [
           38,
           8859
          ],
          [
           36,
           8859
          ],
          [
           1,
           8859
          ],
          [
           15,
           8859
          ],
          [
           31,
           8859
          ],
          [
           9,
           8859
          ],
          [
           35,
           8859
          ],
          [
           42,
           8859
          ],
          [
           15,
           8859
          ],
          [
           7,
           8859
          ],
          [
           19,
           8859
          ],
          [
           24,
           8859
          ],
          [
           32,
           8859
          ],
          [
           35,
           8859
          ],
          [
           16,
           8859
          ],
          [
           52,
           8859
          ],
          [
           9,
           8859
          ],
          [
           15,
           8859
          ],
          [
           4,
           8859
          ],
          [
           13,
           8859
          ],
          [
           1,
           8859
          ],
          [
           16,
           8859
          ],
          [
           30,
           8859
          ],
          [
           24,
           8859
          ],
          [
           17,
           8859
          ],
          [
           6,
           8859
          ],
          [
           43,
           8859
          ],
          [
           21,
           8859
          ],
          [
           16,
           8859
          ],
          [
           8,
           8859
          ],
          [
           5,
           8859
          ],
          [
           25,
           8859
          ],
          [
           28,
           8859
          ],
          [
           33,
           8859
          ],
          [
           10,
           8859
          ],
          [
           49,
           8859
          ],
          [
           19,
           8859
          ],
          [
           14,
           8859
          ],
          [
           17,
           8859
          ],
          [
           23,
           8859
          ],
          [
           21,
           8859
          ],
          [
           31,
           8859
          ],
          [
           102,
           8859
          ],
          [
           2,
           8859
          ],
          [
           25,
           8859
          ],
          [
           11,
           8859
          ],
          [
           36,
           8859
          ],
          [
           19,
           8859
          ],
          [
           12,
           8859
          ],
          [
           49,
           8859
          ],
          [
           8,
           8859
          ],
          [
           7,
           8859
          ],
          [
           21,
           8859
          ],
          [
           3,
           8859
          ],
          [
           6,
           8859
          ],
          [
           47,
           8859
          ],
          [
           11,
           8859
          ],
          [
           31,
           8859
          ],
          [
           2,
           8859
          ],
          [
           60,
           8859
          ],
          [
           6,
           8859
          ],
          [
           19,
           8859
          ],
          [
           15,
           8859
          ],
          [
           36,
           8859
          ],
          [
           21,
           8859
          ],
          [
           20,
           8859
          ],
          [
           17,
           8859
          ],
          [
           19,
           8859
          ],
          [
           11,
           8859
          ],
          [
           3,
           8859
          ],
          [
           20,
           8859
          ],
          [
           12,
           8859
          ],
          [
           5,
           8859
          ],
          [
           11,
           8859
          ],
          [
           37,
           8859
          ],
          [
           14,
           8859
          ],
          [
           10,
           8859
          ],
          [
           17,
           8859
          ],
          [
           5,
           8859
          ],
          [
           10,
           8859
          ],
          [
           13,
           8859
          ],
          [
           11,
           8859
          ],
          [
           42,
           8859
          ],
          [
           24,
           8859
          ],
          [
           14,
           8859
          ],
          [
           16,
           8859
          ],
          [
           8,
           8859
          ],
          [
           60,
           8859
          ],
          [
           308,
           8859
          ],
          [
           8,
           8859
          ],
          [
           26,
           8859
          ],
          [
           21,
           8859
          ],
          [
           6,
           8859
          ],
          [
           10,
           8859
          ],
          [
           7,
           8859
          ],
          [
           8,
           8859
          ],
          [
           2,
           8859
          ],
          [
           6,
           8859
          ],
          [
           22,
           8859
          ],
          [
           20,
           8859
          ],
          [
           2,
           8859
          ],
          [
           111,
           8859
          ],
          [
           18,
           8859
          ],
          [
           9,
           8859
          ],
          [
           6,
           8859
          ],
          [
           20,
           8859
          ],
          [
           5,
           8859
          ],
          [
           12,
           8859
          ],
          [
           20,
           8859
          ],
          [
           26,
           8859
          ],
          [
           4,
           8859
          ],
          [
           4,
           8859
          ],
          [
           6,
           8859
          ],
          [
           8,
           8859
          ],
          [
           7,
           8859
          ],
          [
           1,
           8859
          ],
          [
           1,
           8859
          ],
          [
           12,
           8859
          ],
          [
           9,
           8859
          ],
          [
           38,
           8859
          ],
          [
           11,
           8859
          ],
          [
           60,
           8859
          ],
          [
           15,
           8859
          ],
          [
           27,
           8859
          ],
          [
           9,
           8859
          ],
          [
           4,
           8859
          ],
          [
           37,
           8859
          ],
          [
           45,
           8859
          ],
          [
           12,
           8859
          ],
          [
           4,
           8859
          ],
          [
           12,
           8859
          ],
          [
           25,
           8859
          ],
          [
           2,
           8859
          ],
          [
           12,
           8859
          ],
          [
           3,
           8859
          ],
          [
           51,
           8859
          ],
          [
           22,
           8859
          ],
          [
           12,
           8859
          ],
          [
           11,
           8859
          ],
          [
           5,
           8859
          ],
          [
           14,
           8859
          ],
          [
           16,
           8859
          ],
          [
           5,
           8859
          ],
          [
           12,
           8859
          ],
          [
           6,
           8859
          ],
          [
           23,
           8859
          ],
          [
           12,
           8859
          ],
          [
           22,
           8859
          ],
          [
           1,
           8859
          ]
         ],
         "hovertemplate": "mirna_gene_strand_orientation=different<br>type=Repeats without cCREs<br>group=sidd<br>total_count_rel=%{x}<br>mirna=%{y}<br>total_count=%{customdata[0]}<br>total_group_counts=%{customdata[1]}<extra></extra>",
         "legendgroup": "different",
         "marker": {
          "color": "royalblue",
          "pattern": {
           "shape": ""
          }
         },
         "name": "different",
         "offsetgroup": "different",
         "orientation": "h",
         "showlegend": false,
         "textposition": "auto",
         "type": "bar",
         "x": [
          0.14674342476577493,
          0.18060729201941528,
          0.2257591150242691,
          0.15803138051698837,
          0.16931933626820184,
          0.19189524777062872,
          0.06772773450728073,
          0.02257591150242691,
          0.14674342476577493,
          0.11287955751213455,
          0.8127328140873687,
          0.21447115927305566,
          0.011287955751213455,
          0.5531098318094593,
          0.4289423185461113,
          0.4063664070436844,
          0.011287955751213455,
          0.16931933626820184,
          0.3499266282876171,
          0.1015916017609211,
          0.39507845129247093,
          0.47409414155096513,
          0.16931933626820184,
          0.07901569025849418,
          0.21447115927305566,
          0.2709109380291229,
          0.36121458403883056,
          0.39507845129247093,
          0.18060729201941528,
          0.5869736990630997,
          0.1015916017609211,
          0.16931933626820184,
          0.04515182300485382,
          0.14674342476577493,
          0.011287955751213455,
          0.18060729201941528,
          0.3386386725364037,
          0.2709109380291229,
          0.19189524777062872,
          0.06772773450728073,
          0.4853820973021786,
          0.23704707077548257,
          0.18060729201941528,
          0.09030364600970764,
          0.056439778756067274,
          0.28219889378033636,
          0.31606276103397674,
          0.37250253979004405,
          0.11287955751213455,
          0.5531098318094593,
          0.21447115927305566,
          0.15803138051698837,
          0.19189524777062872,
          0.2596229822779095,
          0.23704707077548257,
          0.3499266282876171,
          1.1513714866237725,
          0.02257591150242691,
          0.28219889378033636,
          0.12416751326334802,
          0.4063664070436844,
          0.21447115927305566,
          0.13545546901456146,
          0.5531098318094593,
          0.09030364600970764,
          0.07901569025849418,
          0.23704707077548257,
          0.033863867253640365,
          0.06772773450728073,
          0.5305339203070324,
          0.12416751326334802,
          0.3499266282876171,
          0.02257591150242691,
          0.6772773450728073,
          0.06772773450728073,
          0.21447115927305566,
          0.16931933626820184,
          0.4063664070436844,
          0.23704707077548257,
          0.2257591150242691,
          0.19189524777062872,
          0.21447115927305566,
          0.12416751326334802,
          0.033863867253640365,
          0.2257591150242691,
          0.13545546901456146,
          0.056439778756067274,
          0.12416751326334802,
          0.41765436279489787,
          0.15803138051698837,
          0.11287955751213455,
          0.19189524777062872,
          0.056439778756067274,
          0.11287955751213455,
          0.14674342476577493,
          0.12416751326334802,
          0.47409414155096513,
          0.2709109380291229,
          0.15803138051698837,
          0.18060729201941528,
          0.09030364600970764,
          0.6772773450728073,
          3.476690371373744,
          0.09030364600970764,
          0.29348684953154985,
          0.23704707077548257,
          0.06772773450728073,
          0.11287955751213455,
          0.07901569025849418,
          0.09030364600970764,
          0.02257591150242691,
          0.06772773450728073,
          0.24833502652669603,
          0.2257591150242691,
          0.02257591150242691,
          1.2529630883846934,
          0.2031832035218422,
          0.1015916017609211,
          0.06772773450728073,
          0.2257591150242691,
          0.056439778756067274,
          0.13545546901456146,
          0.2257591150242691,
          0.29348684953154985,
          0.04515182300485382,
          0.04515182300485382,
          0.06772773450728073,
          0.09030364600970764,
          0.07901569025849418,
          0.011287955751213455,
          0.011287955751213455,
          0.13545546901456146,
          0.1015916017609211,
          0.4289423185461113,
          0.12416751326334802,
          0.6772773450728073,
          0.16931933626820184,
          0.3047748052827633,
          0.1015916017609211,
          0.04515182300485382,
          0.41765436279489787,
          0.5079580088046055,
          0.13545546901456146,
          0.04515182300485382,
          0.13545546901456146,
          0.28219889378033636,
          0.02257591150242691,
          0.13545546901456146,
          0.033863867253640365,
          0.5756857433118863,
          0.24833502652669603,
          0.13545546901456146,
          0.12416751326334802,
          0.056439778756067274,
          0.15803138051698837,
          0.18060729201941528,
          0.056439778756067274,
          0.13545546901456146,
          0.06772773450728073,
          0.2596229822779095,
          0.13545546901456146,
          0.24833502652669603,
          0.011287955751213455
         ],
         "xaxis": "x2",
         "y": [
          "miR-96/1271",
          "miR-9",
          "miR-876",
          "miR-875",
          "miR-874",
          "miR-873",
          "miR-802",
          "miR-760",
          "miR-758",
          "miR-7",
          "miR-670",
          "miR-668",
          "miR-665",
          "miR-655",
          "miR-653",
          "miR-582",
          "miR-551",
          "miR-544a",
          "miR-543",
          "miR-542",
          "miR-539",
          "miR-532",
          "miR-505",
          "miR-504",
          "miR-501/502",
          "miR-499",
          "miR-496",
          "miR-495",
          "miR-494",
          "miR-493",
          "miR-491",
          "miR-490",
          "miR-489",
          "miR-488",
          "miR-487b",
          "miR-486",
          "miR-483",
          "miR-455",
          "miR-452",
          "miR-450a",
          "miR-448",
          "miR-433",
          "miR-425",
          "miR-423",
          "miR-421",
          "miR-411",
          "miR-410",
          "miR-409",
          "miR-383",
          "miR-382",
          "miR-381",
          "miR-379",
          "miR-378a",
          "miR-377",
          "miR-376c",
          "miR-376ab",
          "miR-374",
          "miR-371",
          "miR-369",
          "miR-365",
          "miR-361",
          "miR-346",
          "miR-342",
          "miR-340",
          "miR-34/449",
          "miR-339",
          "miR-338",
          "miR-335",
          "miR-331",
          "miR-330",
          "miR-33",
          "miR-329/362",
          "miR-328",
          "miR-325",
          "miR-324",
          "miR-323a",
          "miR-31",
          "miR-302c",
          "miR-302abd",
          "miR-30",
          "miR-299",
          "miR-296",
          "miR-29",
          "miR-28/708",
          "miR-27",
          "miR-26",
          "miR-25/32/92/363/367",
          "miR-24",
          "miR-23",
          "miR-224",
          "miR-223",
          "miR-221/222",
          "miR-22",
          "miR-219",
          "miR-218",
          "miR-217",
          "miR-216b",
          "miR-216a",
          "miR-214",
          "miR-21/590",
          "miR-205",
          "miR-204/211",
          "miR-203a",
          "miR-202",
          "miR-200bc/429",
          "miR-199",
          "miR-196",
          "miR-194",
          "miR-193",
          "miR-192/215",
          "miR-191",
          "miR-190",
          "miR-19",
          "miR-188",
          "miR-187",
          "miR-186",
          "miR-185",
          "miR-183",
          "miR-182",
          "miR-181",
          "miR-18",
          "miR-17/20/93/106/519d",
          "miR-155",
          "miR-154",
          "miR-153",
          "miR-151a",
          "miR-150",
          "miR-15/16/195/424/497",
          "miR-149",
          "miR-148/152",
          "miR-147",
          "miR-146",
          "miR-145",
          "miR-144",
          "miR-143",
          "miR-142",
          "miR-141/200a",
          "miR-140",
          "miR-139",
          "miR-138",
          "miR-137",
          "miR-136",
          "miR-135",
          "miR-134",
          "miR-133",
          "miR-132/212",
          "miR-1306",
          "miR-130/301/454",
          "miR-1298",
          "miR-129",
          "miR-128",
          "miR-1251",
          "miR-125",
          "miR-1249",
          "miR-124",
          "miR-122",
          "miR-1197",
          "miR-1193",
          "miR-103/107",
          "miR-101",
          "miR-10",
          "miR-1/206",
          "let-7/miR-98"
         ],
         "yaxis": "y2"
        },
        {
         "alignmentgroup": "True",
         "customdata": [
          [
           1,
           2007
          ],
          [
           12,
           2007
          ],
          [
           1,
           2007
          ],
          [
           2,
           2007
          ],
          [
           1,
           2007
          ],
          [
           1,
           2007
          ],
          [
           23,
           2007
          ],
          [
           3,
           2007
          ],
          [
           9,
           2007
          ],
          [
           1,
           2007
          ],
          [
           1,
           2007
          ],
          [
           1,
           2007
          ],
          [
           6,
           2007
          ],
          [
           1,
           2007
          ],
          [
           1,
           2007
          ],
          [
           3,
           2007
          ],
          [
           5,
           2007
          ],
          [
           1,
           2007
          ],
          [
           2,
           2007
          ],
          [
           1,
           2007
          ],
          [
           17,
           2007
          ],
          [
           2,
           2007
          ],
          [
           3,
           2007
          ],
          [
           7,
           2007
          ],
          [
           3,
           2007
          ],
          [
           3,
           2007
          ],
          [
           13,
           2007
          ],
          [
           1,
           2007
          ],
          [
           1,
           2007
          ],
          [
           1,
           2007
          ],
          [
           5,
           2007
          ],
          [
           1,
           2007
          ],
          [
           2,
           2007
          ],
          [
           1,
           2007
          ],
          [
           2,
           2007
          ],
          [
           2,
           2007
          ],
          [
           11,
           2007
          ],
          [
           1,
           2007
          ],
          [
           2,
           2007
          ],
          [
           2,
           2007
          ]
         ],
         "hovertemplate": "mirna_gene_strand_orientation=different<br>type=Repeats without cCREs<br>group=g4<br>total_count_rel=%{x}<br>mirna=%{y}<br>total_count=%{customdata[0]}<br>total_group_counts=%{customdata[1]}<extra></extra>",
         "legendgroup": "different",
         "marker": {
          "color": "royalblue",
          "pattern": {
           "shape": ""
          }
         },
         "name": "different",
         "offsetgroup": "different",
         "orientation": "h",
         "showlegend": false,
         "textposition": "auto",
         "type": "bar",
         "x": [
          0.04982561036372695,
          0.5979073243647235,
          0.04982561036372695,
          0.0996512207274539,
          0.04982561036372695,
          0.04982561036372695,
          1.14598903836572,
          0.14947683109118087,
          0.4484304932735426,
          0.04982561036372695,
          0.04982561036372695,
          0.04982561036372695,
          0.29895366218236175,
          0.04982561036372695,
          0.04982561036372695,
          0.14947683109118087,
          0.2491280518186348,
          0.04982561036372695,
          0.0996512207274539,
          0.04982561036372695,
          0.8470353761833582,
          0.0996512207274539,
          0.14947683109118087,
          0.3487792725460887,
          0.14947683109118087,
          0.14947683109118087,
          0.6477329347284505,
          0.04982561036372695,
          0.04982561036372695,
          0.04982561036372695,
          0.2491280518186348,
          0.04982561036372695,
          0.0996512207274539,
          0.04982561036372695,
          0.0996512207274539,
          0.0996512207274539,
          0.5480817140009965,
          0.04982561036372695,
          0.0996512207274539,
          0.0996512207274539
         ],
         "xaxis": "x3",
         "y": [
          "miR-9",
          "miR-874",
          "miR-873",
          "miR-744",
          "miR-615",
          "miR-551",
          "miR-532",
          "miR-504",
          "miR-491",
          "miR-486",
          "miR-483",
          "miR-455",
          "miR-423",
          "miR-365",
          "miR-346",
          "miR-34/449",
          "miR-339",
          "miR-338",
          "miR-330",
          "miR-329/362",
          "miR-328",
          "miR-324",
          "miR-299",
          "miR-296",
          "miR-204/211",
          "miR-188",
          "miR-185",
          "miR-184",
          "miR-17/20/93/106/519d",
          "miR-154",
          "miR-150",
          "miR-149",
          "miR-140",
          "miR-138",
          "miR-134",
          "miR-133",
          "miR-1306",
          "miR-129",
          "miR-125",
          "miR-122"
         ],
         "yaxis": "y3"
        },
        {
         "alignmentgroup": "True",
         "customdata": [
          [
           1,
           252
          ],
          [
           1,
           252
          ],
          [
           5,
           252
          ],
          [
           1,
           252
          ],
          [
           32,
           252
          ],
          [
           2,
           252
          ],
          [
           3,
           252
          ],
          [
           1,
           252
          ]
         ],
         "hovertemplate": "mirna_gene_strand_orientation=different<br>type=Repeats without cCREs<br>group=h-dna<br>total_count_rel=%{x}<br>mirna=%{y}<br>total_count=%{customdata[0]}<br>total_group_counts=%{customdata[1]}<extra></extra>",
         "legendgroup": "different",
         "marker": {
          "color": "royalblue",
          "pattern": {
           "shape": ""
          }
         },
         "name": "different",
         "offsetgroup": "different",
         "orientation": "h",
         "showlegend": false,
         "textposition": "auto",
         "type": "bar",
         "x": [
          0.3968253968253968,
          0.3968253968253968,
          1.984126984126984,
          0.3968253968253968,
          12.698412698412698,
          0.7936507936507936,
          1.1904761904761905,
          0.3968253968253968
         ],
         "xaxis": "x4",
         "y": [
          "miR-532",
          "miR-491",
          "miR-204/211",
          "miR-186",
          "miR-185",
          "miR-151a",
          "miR-1306",
          "let-7/miR-98"
         ],
         "yaxis": "y4"
        }
       ],
       "layout": {
        "annotations": [
         {
          "font": {},
          "showarrow": false,
          "text": "<b>z-dna</b>",
          "x": 0.11499999999999999,
          "xanchor": "center",
          "xref": "paper",
          "y": 1,
          "yanchor": "bottom",
          "yref": "paper"
         },
         {
          "font": {},
          "showarrow": false,
          "text": "<b>sidd</b>",
          "x": 0.365,
          "xanchor": "center",
          "xref": "paper",
          "y": 1,
          "yanchor": "bottom",
          "yref": "paper"
         },
         {
          "font": {},
          "showarrow": false,
          "text": "<b>g4</b>",
          "x": 0.615,
          "xanchor": "center",
          "xref": "paper",
          "y": 1,
          "yanchor": "bottom",
          "yref": "paper"
         },
         {
          "font": {},
          "showarrow": false,
          "text": "<b>h-dna</b>",
          "x": 0.865,
          "xanchor": "center",
          "xref": "paper",
          "y": 1,
          "yanchor": "bottom",
          "yref": "paper"
         },
         {
          "font": {},
          "showarrow": false,
          "text": "<b>Repeats without cCREs</b>",
          "textangle": 90,
          "x": 0.98,
          "xanchor": "left",
          "xref": "paper",
          "y": 0.2425,
          "yanchor": "middle",
          "yref": "paper"
         },
         {
          "font": {},
          "showarrow": false,
          "text": "<b>cCREs without Repeats</b>",
          "textangle": 90,
          "x": 0.98,
          "xanchor": "left",
          "xref": "paper",
          "y": 0.7575000000000001,
          "yanchor": "middle",
          "yref": "paper"
         }
        ],
        "barmode": "relative",
        "height": 920,
        "legend": {
         "title": {
          "text": "mirna_gene_strand_orientation"
         },
         "tracegroupgap": 0
        },
        "margin": {
         "t": 60
        },
        "template": {
         "data": {
          "bar": [
           {
            "error_x": {
             "color": "#2a3f5f"
            },
            "error_y": {
             "color": "#2a3f5f"
            },
            "marker": {
             "line": {
              "color": "#E5ECF6",
              "width": 0.5
             },
             "pattern": {
              "fillmode": "overlay",
              "size": 10,
              "solidity": 0.2
             }
            },
            "type": "bar"
           }
          ],
          "barpolar": [
           {
            "marker": {
             "line": {
              "color": "#E5ECF6",
              "width": 0.5
             },
             "pattern": {
              "fillmode": "overlay",
              "size": 10,
              "solidity": 0.2
             }
            },
            "type": "barpolar"
           }
          ],
          "carpet": [
           {
            "aaxis": {
             "endlinecolor": "#2a3f5f",
             "gridcolor": "white",
             "linecolor": "white",
             "minorgridcolor": "white",
             "startlinecolor": "#2a3f5f"
            },
            "baxis": {
             "endlinecolor": "#2a3f5f",
             "gridcolor": "white",
             "linecolor": "white",
             "minorgridcolor": "white",
             "startlinecolor": "#2a3f5f"
            },
            "type": "carpet"
           }
          ],
          "choropleth": [
           {
            "colorbar": {
             "outlinewidth": 0,
             "ticks": ""
            },
            "type": "choropleth"
           }
          ],
          "contour": [
           {
            "colorbar": {
             "outlinewidth": 0,
             "ticks": ""
            },
            "colorscale": [
             [
              0,
              "#0d0887"
             ],
             [
              0.1111111111111111,
              "#46039f"
             ],
             [
              0.2222222222222222,
              "#7201a8"
             ],
             [
              0.3333333333333333,
              "#9c179e"
             ],
             [
              0.4444444444444444,
              "#bd3786"
             ],
             [
              0.5555555555555556,
              "#d8576b"
             ],
             [
              0.6666666666666666,
              "#ed7953"
             ],
             [
              0.7777777777777778,
              "#fb9f3a"
             ],
             [
              0.8888888888888888,
              "#fdca26"
             ],
             [
              1,
              "#f0f921"
             ]
            ],
            "type": "contour"
           }
          ],
          "contourcarpet": [
           {
            "colorbar": {
             "outlinewidth": 0,
             "ticks": ""
            },
            "type": "contourcarpet"
           }
          ],
          "heatmap": [
           {
            "colorbar": {
             "outlinewidth": 0,
             "ticks": ""
            },
            "colorscale": [
             [
              0,
              "#0d0887"
             ],
             [
              0.1111111111111111,
              "#46039f"
             ],
             [
              0.2222222222222222,
              "#7201a8"
             ],
             [
              0.3333333333333333,
              "#9c179e"
             ],
             [
              0.4444444444444444,
              "#bd3786"
             ],
             [
              0.5555555555555556,
              "#d8576b"
             ],
             [
              0.6666666666666666,
              "#ed7953"
             ],
             [
              0.7777777777777778,
              "#fb9f3a"
             ],
             [
              0.8888888888888888,
              "#fdca26"
             ],
             [
              1,
              "#f0f921"
             ]
            ],
            "type": "heatmap"
           }
          ],
          "heatmapgl": [
           {
            "colorbar": {
             "outlinewidth": 0,
             "ticks": ""
            },
            "colorscale": [
             [
              0,
              "#0d0887"
             ],
             [
              0.1111111111111111,
              "#46039f"
             ],
             [
              0.2222222222222222,
              "#7201a8"
             ],
             [
              0.3333333333333333,
              "#9c179e"
             ],
             [
              0.4444444444444444,
              "#bd3786"
             ],
             [
              0.5555555555555556,
              "#d8576b"
             ],
             [
              0.6666666666666666,
              "#ed7953"
             ],
             [
              0.7777777777777778,
              "#fb9f3a"
             ],
             [
              0.8888888888888888,
              "#fdca26"
             ],
             [
              1,
              "#f0f921"
             ]
            ],
            "type": "heatmapgl"
           }
          ],
          "histogram": [
           {
            "marker": {
             "pattern": {
              "fillmode": "overlay",
              "size": 10,
              "solidity": 0.2
             }
            },
            "type": "histogram"
           }
          ],
          "histogram2d": [
           {
            "colorbar": {
             "outlinewidth": 0,
             "ticks": ""
            },
            "colorscale": [
             [
              0,
              "#0d0887"
             ],
             [
              0.1111111111111111,
              "#46039f"
             ],
             [
              0.2222222222222222,
              "#7201a8"
             ],
             [
              0.3333333333333333,
              "#9c179e"
             ],
             [
              0.4444444444444444,
              "#bd3786"
             ],
             [
              0.5555555555555556,
              "#d8576b"
             ],
             [
              0.6666666666666666,
              "#ed7953"
             ],
             [
              0.7777777777777778,
              "#fb9f3a"
             ],
             [
              0.8888888888888888,
              "#fdca26"
             ],
             [
              1,
              "#f0f921"
             ]
            ],
            "type": "histogram2d"
           }
          ],
          "histogram2dcontour": [
           {
            "colorbar": {
             "outlinewidth": 0,
             "ticks": ""
            },
            "colorscale": [
             [
              0,
              "#0d0887"
             ],
             [
              0.1111111111111111,
              "#46039f"
             ],
             [
              0.2222222222222222,
              "#7201a8"
             ],
             [
              0.3333333333333333,
              "#9c179e"
             ],
             [
              0.4444444444444444,
              "#bd3786"
             ],
             [
              0.5555555555555556,
              "#d8576b"
             ],
             [
              0.6666666666666666,
              "#ed7953"
             ],
             [
              0.7777777777777778,
              "#fb9f3a"
             ],
             [
              0.8888888888888888,
              "#fdca26"
             ],
             [
              1,
              "#f0f921"
             ]
            ],
            "type": "histogram2dcontour"
           }
          ],
          "mesh3d": [
           {
            "colorbar": {
             "outlinewidth": 0,
             "ticks": ""
            },
            "type": "mesh3d"
           }
          ],
          "parcoords": [
           {
            "line": {
             "colorbar": {
              "outlinewidth": 0,
              "ticks": ""
             }
            },
            "type": "parcoords"
           }
          ],
          "pie": [
           {
            "automargin": true,
            "type": "pie"
           }
          ],
          "scatter": [
           {
            "fillpattern": {
             "fillmode": "overlay",
             "size": 10,
             "solidity": 0.2
            },
            "type": "scatter"
           }
          ],
          "scatter3d": [
           {
            "line": {
             "colorbar": {
              "outlinewidth": 0,
              "ticks": ""
             }
            },
            "marker": {
             "colorbar": {
              "outlinewidth": 0,
              "ticks": ""
             }
            },
            "type": "scatter3d"
           }
          ],
          "scattercarpet": [
           {
            "marker": {
             "colorbar": {
              "outlinewidth": 0,
              "ticks": ""
             }
            },
            "type": "scattercarpet"
           }
          ],
          "scattergeo": [
           {
            "marker": {
             "colorbar": {
              "outlinewidth": 0,
              "ticks": ""
             }
            },
            "type": "scattergeo"
           }
          ],
          "scattergl": [
           {
            "marker": {
             "colorbar": {
              "outlinewidth": 0,
              "ticks": ""
             }
            },
            "type": "scattergl"
           }
          ],
          "scattermapbox": [
           {
            "marker": {
             "colorbar": {
              "outlinewidth": 0,
              "ticks": ""
             }
            },
            "type": "scattermapbox"
           }
          ],
          "scatterpolar": [
           {
            "marker": {
             "colorbar": {
              "outlinewidth": 0,
              "ticks": ""
             }
            },
            "type": "scatterpolar"
           }
          ],
          "scatterpolargl": [
           {
            "marker": {
             "colorbar": {
              "outlinewidth": 0,
              "ticks": ""
             }
            },
            "type": "scatterpolargl"
           }
          ],
          "scatterternary": [
           {
            "marker": {
             "colorbar": {
              "outlinewidth": 0,
              "ticks": ""
             }
            },
            "type": "scatterternary"
           }
          ],
          "surface": [
           {
            "colorbar": {
             "outlinewidth": 0,
             "ticks": ""
            },
            "colorscale": [
             [
              0,
              "#0d0887"
             ],
             [
              0.1111111111111111,
              "#46039f"
             ],
             [
              0.2222222222222222,
              "#7201a8"
             ],
             [
              0.3333333333333333,
              "#9c179e"
             ],
             [
              0.4444444444444444,
              "#bd3786"
             ],
             [
              0.5555555555555556,
              "#d8576b"
             ],
             [
              0.6666666666666666,
              "#ed7953"
             ],
             [
              0.7777777777777778,
              "#fb9f3a"
             ],
             [
              0.8888888888888888,
              "#fdca26"
             ],
             [
              1,
              "#f0f921"
             ]
            ],
            "type": "surface"
           }
          ],
          "table": [
           {
            "cells": {
             "fill": {
              "color": "#EBF0F8"
             },
             "line": {
              "color": "white"
             }
            },
            "header": {
             "fill": {
              "color": "#C8D4E3"
             },
             "line": {
              "color": "white"
             }
            },
            "type": "table"
           }
          ]
         },
         "layout": {
          "annotationdefaults": {
           "arrowcolor": "#2a3f5f",
           "arrowhead": 0,
           "arrowwidth": 1
          },
          "autotypenumbers": "strict",
          "coloraxis": {
           "colorbar": {
            "outlinewidth": 0,
            "ticks": ""
           }
          },
          "colorscale": {
           "diverging": [
            [
             0,
             "#8e0152"
            ],
            [
             0.1,
             "#c51b7d"
            ],
            [
             0.2,
             "#de77ae"
            ],
            [
             0.3,
             "#f1b6da"
            ],
            [
             0.4,
             "#fde0ef"
            ],
            [
             0.5,
             "#f7f7f7"
            ],
            [
             0.6,
             "#e6f5d0"
            ],
            [
             0.7,
             "#b8e186"
            ],
            [
             0.8,
             "#7fbc41"
            ],
            [
             0.9,
             "#4d9221"
            ],
            [
             1,
             "#276419"
            ]
           ],
           "sequential": [
            [
             0,
             "#0d0887"
            ],
            [
             0.1111111111111111,
             "#46039f"
            ],
            [
             0.2222222222222222,
             "#7201a8"
            ],
            [
             0.3333333333333333,
             "#9c179e"
            ],
            [
             0.4444444444444444,
             "#bd3786"
            ],
            [
             0.5555555555555556,
             "#d8576b"
            ],
            [
             0.6666666666666666,
             "#ed7953"
            ],
            [
             0.7777777777777778,
             "#fb9f3a"
            ],
            [
             0.8888888888888888,
             "#fdca26"
            ],
            [
             1,
             "#f0f921"
            ]
           ],
           "sequentialminus": [
            [
             0,
             "#0d0887"
            ],
            [
             0.1111111111111111,
             "#46039f"
            ],
            [
             0.2222222222222222,
             "#7201a8"
            ],
            [
             0.3333333333333333,
             "#9c179e"
            ],
            [
             0.4444444444444444,
             "#bd3786"
            ],
            [
             0.5555555555555556,
             "#d8576b"
            ],
            [
             0.6666666666666666,
             "#ed7953"
            ],
            [
             0.7777777777777778,
             "#fb9f3a"
            ],
            [
             0.8888888888888888,
             "#fdca26"
            ],
            [
             1,
             "#f0f921"
            ]
           ]
          },
          "colorway": [
           "#636efa",
           "#EF553B",
           "#00cc96",
           "#ab63fa",
           "#FFA15A",
           "#19d3f3",
           "#FF6692",
           "#B6E880",
           "#FF97FF",
           "#FECB52"
          ],
          "font": {
           "color": "#2a3f5f"
          },
          "geo": {
           "bgcolor": "white",
           "lakecolor": "white",
           "landcolor": "#E5ECF6",
           "showlakes": true,
           "showland": true,
           "subunitcolor": "white"
          },
          "hoverlabel": {
           "align": "left"
          },
          "hovermode": "closest",
          "mapbox": {
           "style": "light"
          },
          "paper_bgcolor": "white",
          "plot_bgcolor": "#E5ECF6",
          "polar": {
           "angularaxis": {
            "gridcolor": "white",
            "linecolor": "white",
            "ticks": ""
           },
           "bgcolor": "#E5ECF6",
           "radialaxis": {
            "gridcolor": "white",
            "linecolor": "white",
            "ticks": ""
           }
          },
          "scene": {
           "xaxis": {
            "backgroundcolor": "#E5ECF6",
            "gridcolor": "white",
            "gridwidth": 2,
            "linecolor": "white",
            "showbackground": true,
            "ticks": "",
            "zerolinecolor": "white"
           },
           "yaxis": {
            "backgroundcolor": "#E5ECF6",
            "gridcolor": "white",
            "gridwidth": 2,
            "linecolor": "white",
            "showbackground": true,
            "ticks": "",
            "zerolinecolor": "white"
           },
           "zaxis": {
            "backgroundcolor": "#E5ECF6",
            "gridcolor": "white",
            "gridwidth": 2,
            "linecolor": "white",
            "showbackground": true,
            "ticks": "",
            "zerolinecolor": "white"
           }
          },
          "shapedefaults": {
           "line": {
            "color": "#2a3f5f"
           }
          },
          "ternary": {
           "aaxis": {
            "gridcolor": "white",
            "linecolor": "white",
            "ticks": ""
           },
           "baxis": {
            "gridcolor": "white",
            "linecolor": "white",
            "ticks": ""
           },
           "bgcolor": "#E5ECF6",
           "caxis": {
            "gridcolor": "white",
            "linecolor": "white",
            "ticks": ""
           }
          },
          "title": {
           "x": 0.05
          },
          "xaxis": {
           "automargin": true,
           "gridcolor": "white",
           "linecolor": "white",
           "ticks": "",
           "title": {
            "standoff": 15
           },
           "zerolinecolor": "white",
           "zerolinewidth": 2
          },
          "yaxis": {
           "automargin": true,
           "gridcolor": "white",
           "linecolor": "white",
           "ticks": "",
           "title": {
            "standoff": 15
           },
           "zerolinecolor": "white",
           "zerolinewidth": 2
          }
         }
        },
        "title": {
         "text": "miRNAs that bind <b>repeat promoters (no overlap with CCRE)</b> vs <b>the CCRE promoters (no overlap with repeats)</b>"
        },
        "width": 1700,
        "xaxis": {
         "anchor": "y",
         "domain": [
          0,
          0.22999999999999998
         ],
         "title": {
          "text": "total_count_rel"
         }
        },
        "xaxis2": {
         "anchor": "y2",
         "domain": [
          0.24999999999999997,
          0.48
         ],
         "matches": "x",
         "title": {
          "text": "total_count_rel"
         }
        },
        "xaxis3": {
         "anchor": "y3",
         "domain": [
          0.49999999999999994,
          0.73
         ],
         "matches": "x",
         "title": {
          "text": "total_count_rel"
         }
        },
        "xaxis4": {
         "anchor": "y4",
         "domain": [
          0.75,
          0.98
         ],
         "matches": "x",
         "title": {
          "text": "total_count_rel"
         }
        },
        "xaxis5": {
         "anchor": "y5",
         "domain": [
          0,
          0.22999999999999998
         ],
         "matches": "x",
         "showticklabels": false
        },
        "xaxis6": {
         "anchor": "y6",
         "domain": [
          0.24999999999999997,
          0.48
         ],
         "matches": "x",
         "showticklabels": false
        },
        "xaxis7": {
         "anchor": "y7",
         "domain": [
          0.49999999999999994,
          0.73
         ],
         "matches": "x",
         "showticklabels": false
        },
        "xaxis8": {
         "anchor": "y8",
         "domain": [
          0.75,
          0.98
         ],
         "matches": "x",
         "showticklabels": false
        },
        "yaxis": {
         "anchor": "x",
         "categoryarray": [
          "miR-99/100",
          "miR-96/1271",
          "miR-9",
          "miR-876",
          "miR-875",
          "miR-874",
          "miR-873",
          "miR-802",
          "miR-760",
          "miR-758",
          "miR-744",
          "miR-7",
          "miR-670",
          "miR-668",
          "miR-665",
          "miR-655",
          "miR-653",
          "miR-652",
          "miR-615",
          "miR-582",
          "miR-551",
          "miR-544a",
          "miR-543",
          "miR-542",
          "miR-539",
          "miR-532",
          "miR-505",
          "miR-504",
          "miR-503",
          "miR-501/502",
          "miR-499",
          "miR-496",
          "miR-495",
          "miR-494",
          "miR-493",
          "miR-491",
          "miR-490",
          "miR-489",
          "miR-488",
          "miR-487b",
          "miR-486",
          "miR-485",
          "miR-483",
          "miR-455",
          "miR-452",
          "miR-450a",
          "miR-448",
          "miR-433",
          "miR-431",
          "miR-425",
          "miR-423",
          "miR-421",
          "miR-412",
          "miR-411",
          "miR-410",
          "miR-409",
          "miR-383",
          "miR-382",
          "miR-381",
          "miR-379",
          "miR-378a",
          "miR-377",
          "miR-376c",
          "miR-376ab",
          "miR-375",
          "miR-374",
          "miR-371",
          "miR-369",
          "miR-365",
          "miR-361",
          "miR-346",
          "miR-342",
          "miR-340",
          "miR-34/449",
          "miR-339",
          "miR-338",
          "miR-335",
          "miR-331",
          "miR-330",
          "miR-33",
          "miR-329/362",
          "miR-328",
          "miR-325",
          "miR-324",
          "miR-323a",
          "miR-31",
          "miR-302c",
          "miR-302abd",
          "miR-30",
          "miR-299",
          "miR-296",
          "miR-29",
          "miR-28/708",
          "miR-27",
          "miR-26",
          "miR-25/32/92/363/367",
          "miR-24",
          "miR-23",
          "miR-224",
          "miR-223",
          "miR-221/222",
          "miR-22",
          "miR-219",
          "miR-218",
          "miR-217",
          "miR-216b",
          "miR-216a",
          "miR-214",
          "miR-210",
          "miR-21/590",
          "miR-208",
          "miR-205",
          "miR-204/211",
          "miR-203a",
          "miR-202",
          "miR-200bc/429",
          "miR-199",
          "miR-196",
          "miR-194",
          "miR-193",
          "miR-192/215",
          "miR-191",
          "miR-190",
          "miR-19",
          "miR-188",
          "miR-187",
          "miR-186",
          "miR-185",
          "miR-184",
          "miR-183",
          "miR-182",
          "miR-181",
          "miR-18",
          "miR-17/20/93/106/519d",
          "miR-155",
          "miR-154",
          "miR-153",
          "miR-151a",
          "miR-150",
          "miR-15/16/195/424/497",
          "miR-149",
          "miR-148/152",
          "miR-147",
          "miR-146",
          "miR-145",
          "miR-144",
          "miR-143",
          "miR-142",
          "miR-141/200a",
          "miR-140",
          "miR-139",
          "miR-138",
          "miR-137",
          "miR-136",
          "miR-135",
          "miR-134",
          "miR-133",
          "miR-132/212",
          "miR-1306",
          "miR-130/301/454",
          "miR-1298",
          "miR-129",
          "miR-128",
          "miR-127",
          "miR-126",
          "miR-1251",
          "miR-125",
          "miR-1249",
          "miR-124",
          "miR-122",
          "miR-1197",
          "miR-1193",
          "miR-103/107",
          "miR-101",
          "miR-10",
          "miR-1/206",
          "let-7/miR-98"
         ],
         "categoryorder": "array",
         "domain": [
          0,
          0.485
         ],
         "title": {
          "text": "mirna"
         }
        },
        "yaxis2": {
         "anchor": "x2",
         "categoryarray": [
          "miR-99/100",
          "miR-96/1271",
          "miR-9",
          "miR-876",
          "miR-875",
          "miR-874",
          "miR-873",
          "miR-802",
          "miR-760",
          "miR-758",
          "miR-744",
          "miR-7",
          "miR-670",
          "miR-668",
          "miR-665",
          "miR-655",
          "miR-653",
          "miR-652",
          "miR-615",
          "miR-582",
          "miR-551",
          "miR-544a",
          "miR-543",
          "miR-542",
          "miR-539",
          "miR-532",
          "miR-505",
          "miR-504",
          "miR-503",
          "miR-501/502",
          "miR-499",
          "miR-496",
          "miR-495",
          "miR-494",
          "miR-493",
          "miR-491",
          "miR-490",
          "miR-489",
          "miR-488",
          "miR-487b",
          "miR-486",
          "miR-485",
          "miR-483",
          "miR-455",
          "miR-452",
          "miR-450a",
          "miR-448",
          "miR-433",
          "miR-431",
          "miR-425",
          "miR-423",
          "miR-421",
          "miR-412",
          "miR-411",
          "miR-410",
          "miR-409",
          "miR-383",
          "miR-382",
          "miR-381",
          "miR-379",
          "miR-378a",
          "miR-377",
          "miR-376c",
          "miR-376ab",
          "miR-375",
          "miR-374",
          "miR-371",
          "miR-369",
          "miR-365",
          "miR-361",
          "miR-346",
          "miR-342",
          "miR-340",
          "miR-34/449",
          "miR-339",
          "miR-338",
          "miR-335",
          "miR-331",
          "miR-330",
          "miR-33",
          "miR-329/362",
          "miR-328",
          "miR-325",
          "miR-324",
          "miR-323a",
          "miR-31",
          "miR-302c",
          "miR-302abd",
          "miR-30",
          "miR-299",
          "miR-296",
          "miR-29",
          "miR-28/708",
          "miR-27",
          "miR-26",
          "miR-25/32/92/363/367",
          "miR-24",
          "miR-23",
          "miR-224",
          "miR-223",
          "miR-221/222",
          "miR-22",
          "miR-219",
          "miR-218",
          "miR-217",
          "miR-216b",
          "miR-216a",
          "miR-214",
          "miR-210",
          "miR-21/590",
          "miR-208",
          "miR-205",
          "miR-204/211",
          "miR-203a",
          "miR-202",
          "miR-200bc/429",
          "miR-199",
          "miR-196",
          "miR-194",
          "miR-193",
          "miR-192/215",
          "miR-191",
          "miR-190",
          "miR-19",
          "miR-188",
          "miR-187",
          "miR-186",
          "miR-185",
          "miR-184",
          "miR-183",
          "miR-182",
          "miR-181",
          "miR-18",
          "miR-17/20/93/106/519d",
          "miR-155",
          "miR-154",
          "miR-153",
          "miR-151a",
          "miR-150",
          "miR-15/16/195/424/497",
          "miR-149",
          "miR-148/152",
          "miR-147",
          "miR-146",
          "miR-145",
          "miR-144",
          "miR-143",
          "miR-142",
          "miR-141/200a",
          "miR-140",
          "miR-139",
          "miR-138",
          "miR-137",
          "miR-136",
          "miR-135",
          "miR-134",
          "miR-133",
          "miR-132/212",
          "miR-1306",
          "miR-130/301/454",
          "miR-1298",
          "miR-129",
          "miR-128",
          "miR-127",
          "miR-126",
          "miR-1251",
          "miR-125",
          "miR-1249",
          "miR-124",
          "miR-122",
          "miR-1197",
          "miR-1193",
          "miR-103/107",
          "miR-101",
          "miR-10",
          "miR-1/206",
          "let-7/miR-98"
         ],
         "categoryorder": "array",
         "domain": [
          0,
          0.485
         ],
         "matches": "y",
         "showticklabels": false
        },
        "yaxis3": {
         "anchor": "x3",
         "categoryarray": [
          "miR-99/100",
          "miR-96/1271",
          "miR-9",
          "miR-876",
          "miR-875",
          "miR-874",
          "miR-873",
          "miR-802",
          "miR-760",
          "miR-758",
          "miR-744",
          "miR-7",
          "miR-670",
          "miR-668",
          "miR-665",
          "miR-655",
          "miR-653",
          "miR-652",
          "miR-615",
          "miR-582",
          "miR-551",
          "miR-544a",
          "miR-543",
          "miR-542",
          "miR-539",
          "miR-532",
          "miR-505",
          "miR-504",
          "miR-503",
          "miR-501/502",
          "miR-499",
          "miR-496",
          "miR-495",
          "miR-494",
          "miR-493",
          "miR-491",
          "miR-490",
          "miR-489",
          "miR-488",
          "miR-487b",
          "miR-486",
          "miR-485",
          "miR-483",
          "miR-455",
          "miR-452",
          "miR-450a",
          "miR-448",
          "miR-433",
          "miR-431",
          "miR-425",
          "miR-423",
          "miR-421",
          "miR-412",
          "miR-411",
          "miR-410",
          "miR-409",
          "miR-383",
          "miR-382",
          "miR-381",
          "miR-379",
          "miR-378a",
          "miR-377",
          "miR-376c",
          "miR-376ab",
          "miR-375",
          "miR-374",
          "miR-371",
          "miR-369",
          "miR-365",
          "miR-361",
          "miR-346",
          "miR-342",
          "miR-340",
          "miR-34/449",
          "miR-339",
          "miR-338",
          "miR-335",
          "miR-331",
          "miR-330",
          "miR-33",
          "miR-329/362",
          "miR-328",
          "miR-325",
          "miR-324",
          "miR-323a",
          "miR-31",
          "miR-302c",
          "miR-302abd",
          "miR-30",
          "miR-299",
          "miR-296",
          "miR-29",
          "miR-28/708",
          "miR-27",
          "miR-26",
          "miR-25/32/92/363/367",
          "miR-24",
          "miR-23",
          "miR-224",
          "miR-223",
          "miR-221/222",
          "miR-22",
          "miR-219",
          "miR-218",
          "miR-217",
          "miR-216b",
          "miR-216a",
          "miR-214",
          "miR-210",
          "miR-21/590",
          "miR-208",
          "miR-205",
          "miR-204/211",
          "miR-203a",
          "miR-202",
          "miR-200bc/429",
          "miR-199",
          "miR-196",
          "miR-194",
          "miR-193",
          "miR-192/215",
          "miR-191",
          "miR-190",
          "miR-19",
          "miR-188",
          "miR-187",
          "miR-186",
          "miR-185",
          "miR-184",
          "miR-183",
          "miR-182",
          "miR-181",
          "miR-18",
          "miR-17/20/93/106/519d",
          "miR-155",
          "miR-154",
          "miR-153",
          "miR-151a",
          "miR-150",
          "miR-15/16/195/424/497",
          "miR-149",
          "miR-148/152",
          "miR-147",
          "miR-146",
          "miR-145",
          "miR-144",
          "miR-143",
          "miR-142",
          "miR-141/200a",
          "miR-140",
          "miR-139",
          "miR-138",
          "miR-137",
          "miR-136",
          "miR-135",
          "miR-134",
          "miR-133",
          "miR-132/212",
          "miR-1306",
          "miR-130/301/454",
          "miR-1298",
          "miR-129",
          "miR-128",
          "miR-127",
          "miR-126",
          "miR-1251",
          "miR-125",
          "miR-1249",
          "miR-124",
          "miR-122",
          "miR-1197",
          "miR-1193",
          "miR-103/107",
          "miR-101",
          "miR-10",
          "miR-1/206",
          "let-7/miR-98"
         ],
         "categoryorder": "array",
         "domain": [
          0,
          0.485
         ],
         "matches": "y",
         "showticklabels": false
        },
        "yaxis4": {
         "anchor": "x4",
         "categoryarray": [
          "miR-99/100",
          "miR-96/1271",
          "miR-9",
          "miR-876",
          "miR-875",
          "miR-874",
          "miR-873",
          "miR-802",
          "miR-760",
          "miR-758",
          "miR-744",
          "miR-7",
          "miR-670",
          "miR-668",
          "miR-665",
          "miR-655",
          "miR-653",
          "miR-652",
          "miR-615",
          "miR-582",
          "miR-551",
          "miR-544a",
          "miR-543",
          "miR-542",
          "miR-539",
          "miR-532",
          "miR-505",
          "miR-504",
          "miR-503",
          "miR-501/502",
          "miR-499",
          "miR-496",
          "miR-495",
          "miR-494",
          "miR-493",
          "miR-491",
          "miR-490",
          "miR-489",
          "miR-488",
          "miR-487b",
          "miR-486",
          "miR-485",
          "miR-483",
          "miR-455",
          "miR-452",
          "miR-450a",
          "miR-448",
          "miR-433",
          "miR-431",
          "miR-425",
          "miR-423",
          "miR-421",
          "miR-412",
          "miR-411",
          "miR-410",
          "miR-409",
          "miR-383",
          "miR-382",
          "miR-381",
          "miR-379",
          "miR-378a",
          "miR-377",
          "miR-376c",
          "miR-376ab",
          "miR-375",
          "miR-374",
          "miR-371",
          "miR-369",
          "miR-365",
          "miR-361",
          "miR-346",
          "miR-342",
          "miR-340",
          "miR-34/449",
          "miR-339",
          "miR-338",
          "miR-335",
          "miR-331",
          "miR-330",
          "miR-33",
          "miR-329/362",
          "miR-328",
          "miR-325",
          "miR-324",
          "miR-323a",
          "miR-31",
          "miR-302c",
          "miR-302abd",
          "miR-30",
          "miR-299",
          "miR-296",
          "miR-29",
          "miR-28/708",
          "miR-27",
          "miR-26",
          "miR-25/32/92/363/367",
          "miR-24",
          "miR-23",
          "miR-224",
          "miR-223",
          "miR-221/222",
          "miR-22",
          "miR-219",
          "miR-218",
          "miR-217",
          "miR-216b",
          "miR-216a",
          "miR-214",
          "miR-210",
          "miR-21/590",
          "miR-208",
          "miR-205",
          "miR-204/211",
          "miR-203a",
          "miR-202",
          "miR-200bc/429",
          "miR-199",
          "miR-196",
          "miR-194",
          "miR-193",
          "miR-192/215",
          "miR-191",
          "miR-190",
          "miR-19",
          "miR-188",
          "miR-187",
          "miR-186",
          "miR-185",
          "miR-184",
          "miR-183",
          "miR-182",
          "miR-181",
          "miR-18",
          "miR-17/20/93/106/519d",
          "miR-155",
          "miR-154",
          "miR-153",
          "miR-151a",
          "miR-150",
          "miR-15/16/195/424/497",
          "miR-149",
          "miR-148/152",
          "miR-147",
          "miR-146",
          "miR-145",
          "miR-144",
          "miR-143",
          "miR-142",
          "miR-141/200a",
          "miR-140",
          "miR-139",
          "miR-138",
          "miR-137",
          "miR-136",
          "miR-135",
          "miR-134",
          "miR-133",
          "miR-132/212",
          "miR-1306",
          "miR-130/301/454",
          "miR-1298",
          "miR-129",
          "miR-128",
          "miR-127",
          "miR-126",
          "miR-1251",
          "miR-125",
          "miR-1249",
          "miR-124",
          "miR-122",
          "miR-1197",
          "miR-1193",
          "miR-103/107",
          "miR-101",
          "miR-10",
          "miR-1/206",
          "let-7/miR-98"
         ],
         "categoryorder": "array",
         "domain": [
          0,
          0.485
         ],
         "matches": "y",
         "showticklabels": false
        },
        "yaxis5": {
         "anchor": "x5",
         "categoryarray": [
          "miR-99/100",
          "miR-96/1271",
          "miR-9",
          "miR-876",
          "miR-875",
          "miR-874",
          "miR-873",
          "miR-802",
          "miR-760",
          "miR-758",
          "miR-744",
          "miR-7",
          "miR-670",
          "miR-668",
          "miR-665",
          "miR-655",
          "miR-653",
          "miR-652",
          "miR-615",
          "miR-582",
          "miR-551",
          "miR-544a",
          "miR-543",
          "miR-542",
          "miR-539",
          "miR-532",
          "miR-505",
          "miR-504",
          "miR-503",
          "miR-501/502",
          "miR-499",
          "miR-496",
          "miR-495",
          "miR-494",
          "miR-493",
          "miR-491",
          "miR-490",
          "miR-489",
          "miR-488",
          "miR-487b",
          "miR-486",
          "miR-485",
          "miR-483",
          "miR-455",
          "miR-452",
          "miR-450a",
          "miR-448",
          "miR-433",
          "miR-431",
          "miR-425",
          "miR-423",
          "miR-421",
          "miR-412",
          "miR-411",
          "miR-410",
          "miR-409",
          "miR-383",
          "miR-382",
          "miR-381",
          "miR-379",
          "miR-378a",
          "miR-377",
          "miR-376c",
          "miR-376ab",
          "miR-375",
          "miR-374",
          "miR-371",
          "miR-369",
          "miR-365",
          "miR-361",
          "miR-346",
          "miR-342",
          "miR-340",
          "miR-34/449",
          "miR-339",
          "miR-338",
          "miR-335",
          "miR-331",
          "miR-330",
          "miR-33",
          "miR-329/362",
          "miR-328",
          "miR-325",
          "miR-324",
          "miR-323a",
          "miR-31",
          "miR-302c",
          "miR-302abd",
          "miR-30",
          "miR-299",
          "miR-296",
          "miR-29",
          "miR-28/708",
          "miR-27",
          "miR-26",
          "miR-25/32/92/363/367",
          "miR-24",
          "miR-23",
          "miR-224",
          "miR-223",
          "miR-221/222",
          "miR-22",
          "miR-219",
          "miR-218",
          "miR-217",
          "miR-216b",
          "miR-216a",
          "miR-214",
          "miR-210",
          "miR-21/590",
          "miR-208",
          "miR-205",
          "miR-204/211",
          "miR-203a",
          "miR-202",
          "miR-200bc/429",
          "miR-199",
          "miR-196",
          "miR-194",
          "miR-193",
          "miR-192/215",
          "miR-191",
          "miR-190",
          "miR-19",
          "miR-188",
          "miR-187",
          "miR-186",
          "miR-185",
          "miR-184",
          "miR-183",
          "miR-182",
          "miR-181",
          "miR-18",
          "miR-17/20/93/106/519d",
          "miR-155",
          "miR-154",
          "miR-153",
          "miR-151a",
          "miR-150",
          "miR-15/16/195/424/497",
          "miR-149",
          "miR-148/152",
          "miR-147",
          "miR-146",
          "miR-145",
          "miR-144",
          "miR-143",
          "miR-142",
          "miR-141/200a",
          "miR-140",
          "miR-139",
          "miR-138",
          "miR-137",
          "miR-136",
          "miR-135",
          "miR-134",
          "miR-133",
          "miR-132/212",
          "miR-1306",
          "miR-130/301/454",
          "miR-1298",
          "miR-129",
          "miR-128",
          "miR-127",
          "miR-126",
          "miR-1251",
          "miR-125",
          "miR-1249",
          "miR-124",
          "miR-122",
          "miR-1197",
          "miR-1193",
          "miR-103/107",
          "miR-101",
          "miR-10",
          "miR-1/206",
          "let-7/miR-98"
         ],
         "categoryorder": "array",
         "domain": [
          0.515,
          1
         ],
         "matches": "y",
         "title": {
          "text": "mirna"
         }
        },
        "yaxis6": {
         "anchor": "x6",
         "categoryarray": [
          "miR-99/100",
          "miR-96/1271",
          "miR-9",
          "miR-876",
          "miR-875",
          "miR-874",
          "miR-873",
          "miR-802",
          "miR-760",
          "miR-758",
          "miR-744",
          "miR-7",
          "miR-670",
          "miR-668",
          "miR-665",
          "miR-655",
          "miR-653",
          "miR-652",
          "miR-615",
          "miR-582",
          "miR-551",
          "miR-544a",
          "miR-543",
          "miR-542",
          "miR-539",
          "miR-532",
          "miR-505",
          "miR-504",
          "miR-503",
          "miR-501/502",
          "miR-499",
          "miR-496",
          "miR-495",
          "miR-494",
          "miR-493",
          "miR-491",
          "miR-490",
          "miR-489",
          "miR-488",
          "miR-487b",
          "miR-486",
          "miR-485",
          "miR-483",
          "miR-455",
          "miR-452",
          "miR-450a",
          "miR-448",
          "miR-433",
          "miR-431",
          "miR-425",
          "miR-423",
          "miR-421",
          "miR-412",
          "miR-411",
          "miR-410",
          "miR-409",
          "miR-383",
          "miR-382",
          "miR-381",
          "miR-379",
          "miR-378a",
          "miR-377",
          "miR-376c",
          "miR-376ab",
          "miR-375",
          "miR-374",
          "miR-371",
          "miR-369",
          "miR-365",
          "miR-361",
          "miR-346",
          "miR-342",
          "miR-340",
          "miR-34/449",
          "miR-339",
          "miR-338",
          "miR-335",
          "miR-331",
          "miR-330",
          "miR-33",
          "miR-329/362",
          "miR-328",
          "miR-325",
          "miR-324",
          "miR-323a",
          "miR-31",
          "miR-302c",
          "miR-302abd",
          "miR-30",
          "miR-299",
          "miR-296",
          "miR-29",
          "miR-28/708",
          "miR-27",
          "miR-26",
          "miR-25/32/92/363/367",
          "miR-24",
          "miR-23",
          "miR-224",
          "miR-223",
          "miR-221/222",
          "miR-22",
          "miR-219",
          "miR-218",
          "miR-217",
          "miR-216b",
          "miR-216a",
          "miR-214",
          "miR-210",
          "miR-21/590",
          "miR-208",
          "miR-205",
          "miR-204/211",
          "miR-203a",
          "miR-202",
          "miR-200bc/429",
          "miR-199",
          "miR-196",
          "miR-194",
          "miR-193",
          "miR-192/215",
          "miR-191",
          "miR-190",
          "miR-19",
          "miR-188",
          "miR-187",
          "miR-186",
          "miR-185",
          "miR-184",
          "miR-183",
          "miR-182",
          "miR-181",
          "miR-18",
          "miR-17/20/93/106/519d",
          "miR-155",
          "miR-154",
          "miR-153",
          "miR-151a",
          "miR-150",
          "miR-15/16/195/424/497",
          "miR-149",
          "miR-148/152",
          "miR-147",
          "miR-146",
          "miR-145",
          "miR-144",
          "miR-143",
          "miR-142",
          "miR-141/200a",
          "miR-140",
          "miR-139",
          "miR-138",
          "miR-137",
          "miR-136",
          "miR-135",
          "miR-134",
          "miR-133",
          "miR-132/212",
          "miR-1306",
          "miR-130/301/454",
          "miR-1298",
          "miR-129",
          "miR-128",
          "miR-127",
          "miR-126",
          "miR-1251",
          "miR-125",
          "miR-1249",
          "miR-124",
          "miR-122",
          "miR-1197",
          "miR-1193",
          "miR-103/107",
          "miR-101",
          "miR-10",
          "miR-1/206",
          "let-7/miR-98"
         ],
         "categoryorder": "array",
         "domain": [
          0.515,
          1
         ],
         "matches": "y",
         "showticklabels": false
        },
        "yaxis7": {
         "anchor": "x7",
         "categoryarray": [
          "miR-99/100",
          "miR-96/1271",
          "miR-9",
          "miR-876",
          "miR-875",
          "miR-874",
          "miR-873",
          "miR-802",
          "miR-760",
          "miR-758",
          "miR-744",
          "miR-7",
          "miR-670",
          "miR-668",
          "miR-665",
          "miR-655",
          "miR-653",
          "miR-652",
          "miR-615",
          "miR-582",
          "miR-551",
          "miR-544a",
          "miR-543",
          "miR-542",
          "miR-539",
          "miR-532",
          "miR-505",
          "miR-504",
          "miR-503",
          "miR-501/502",
          "miR-499",
          "miR-496",
          "miR-495",
          "miR-494",
          "miR-493",
          "miR-491",
          "miR-490",
          "miR-489",
          "miR-488",
          "miR-487b",
          "miR-486",
          "miR-485",
          "miR-483",
          "miR-455",
          "miR-452",
          "miR-450a",
          "miR-448",
          "miR-433",
          "miR-431",
          "miR-425",
          "miR-423",
          "miR-421",
          "miR-412",
          "miR-411",
          "miR-410",
          "miR-409",
          "miR-383",
          "miR-382",
          "miR-381",
          "miR-379",
          "miR-378a",
          "miR-377",
          "miR-376c",
          "miR-376ab",
          "miR-375",
          "miR-374",
          "miR-371",
          "miR-369",
          "miR-365",
          "miR-361",
          "miR-346",
          "miR-342",
          "miR-340",
          "miR-34/449",
          "miR-339",
          "miR-338",
          "miR-335",
          "miR-331",
          "miR-330",
          "miR-33",
          "miR-329/362",
          "miR-328",
          "miR-325",
          "miR-324",
          "miR-323a",
          "miR-31",
          "miR-302c",
          "miR-302abd",
          "miR-30",
          "miR-299",
          "miR-296",
          "miR-29",
          "miR-28/708",
          "miR-27",
          "miR-26",
          "miR-25/32/92/363/367",
          "miR-24",
          "miR-23",
          "miR-224",
          "miR-223",
          "miR-221/222",
          "miR-22",
          "miR-219",
          "miR-218",
          "miR-217",
          "miR-216b",
          "miR-216a",
          "miR-214",
          "miR-210",
          "miR-21/590",
          "miR-208",
          "miR-205",
          "miR-204/211",
          "miR-203a",
          "miR-202",
          "miR-200bc/429",
          "miR-199",
          "miR-196",
          "miR-194",
          "miR-193",
          "miR-192/215",
          "miR-191",
          "miR-190",
          "miR-19",
          "miR-188",
          "miR-187",
          "miR-186",
          "miR-185",
          "miR-184",
          "miR-183",
          "miR-182",
          "miR-181",
          "miR-18",
          "miR-17/20/93/106/519d",
          "miR-155",
          "miR-154",
          "miR-153",
          "miR-151a",
          "miR-150",
          "miR-15/16/195/424/497",
          "miR-149",
          "miR-148/152",
          "miR-147",
          "miR-146",
          "miR-145",
          "miR-144",
          "miR-143",
          "miR-142",
          "miR-141/200a",
          "miR-140",
          "miR-139",
          "miR-138",
          "miR-137",
          "miR-136",
          "miR-135",
          "miR-134",
          "miR-133",
          "miR-132/212",
          "miR-1306",
          "miR-130/301/454",
          "miR-1298",
          "miR-129",
          "miR-128",
          "miR-127",
          "miR-126",
          "miR-1251",
          "miR-125",
          "miR-1249",
          "miR-124",
          "miR-122",
          "miR-1197",
          "miR-1193",
          "miR-103/107",
          "miR-101",
          "miR-10",
          "miR-1/206",
          "let-7/miR-98"
         ],
         "categoryorder": "array",
         "domain": [
          0.515,
          1
         ],
         "matches": "y",
         "showticklabels": false
        },
        "yaxis8": {
         "anchor": "x8",
         "categoryarray": [
          "miR-99/100",
          "miR-96/1271",
          "miR-9",
          "miR-876",
          "miR-875",
          "miR-874",
          "miR-873",
          "miR-802",
          "miR-760",
          "miR-758",
          "miR-744",
          "miR-7",
          "miR-670",
          "miR-668",
          "miR-665",
          "miR-655",
          "miR-653",
          "miR-652",
          "miR-615",
          "miR-582",
          "miR-551",
          "miR-544a",
          "miR-543",
          "miR-542",
          "miR-539",
          "miR-532",
          "miR-505",
          "miR-504",
          "miR-503",
          "miR-501/502",
          "miR-499",
          "miR-496",
          "miR-495",
          "miR-494",
          "miR-493",
          "miR-491",
          "miR-490",
          "miR-489",
          "miR-488",
          "miR-487b",
          "miR-486",
          "miR-485",
          "miR-483",
          "miR-455",
          "miR-452",
          "miR-450a",
          "miR-448",
          "miR-433",
          "miR-431",
          "miR-425",
          "miR-423",
          "miR-421",
          "miR-412",
          "miR-411",
          "miR-410",
          "miR-409",
          "miR-383",
          "miR-382",
          "miR-381",
          "miR-379",
          "miR-378a",
          "miR-377",
          "miR-376c",
          "miR-376ab",
          "miR-375",
          "miR-374",
          "miR-371",
          "miR-369",
          "miR-365",
          "miR-361",
          "miR-346",
          "miR-342",
          "miR-340",
          "miR-34/449",
          "miR-339",
          "miR-338",
          "miR-335",
          "miR-331",
          "miR-330",
          "miR-33",
          "miR-329/362",
          "miR-328",
          "miR-325",
          "miR-324",
          "miR-323a",
          "miR-31",
          "miR-302c",
          "miR-302abd",
          "miR-30",
          "miR-299",
          "miR-296",
          "miR-29",
          "miR-28/708",
          "miR-27",
          "miR-26",
          "miR-25/32/92/363/367",
          "miR-24",
          "miR-23",
          "miR-224",
          "miR-223",
          "miR-221/222",
          "miR-22",
          "miR-219",
          "miR-218",
          "miR-217",
          "miR-216b",
          "miR-216a",
          "miR-214",
          "miR-210",
          "miR-21/590",
          "miR-208",
          "miR-205",
          "miR-204/211",
          "miR-203a",
          "miR-202",
          "miR-200bc/429",
          "miR-199",
          "miR-196",
          "miR-194",
          "miR-193",
          "miR-192/215",
          "miR-191",
          "miR-190",
          "miR-19",
          "miR-188",
          "miR-187",
          "miR-186",
          "miR-185",
          "miR-184",
          "miR-183",
          "miR-182",
          "miR-181",
          "miR-18",
          "miR-17/20/93/106/519d",
          "miR-155",
          "miR-154",
          "miR-153",
          "miR-151a",
          "miR-150",
          "miR-15/16/195/424/497",
          "miR-149",
          "miR-148/152",
          "miR-147",
          "miR-146",
          "miR-145",
          "miR-144",
          "miR-143",
          "miR-142",
          "miR-141/200a",
          "miR-140",
          "miR-139",
          "miR-138",
          "miR-137",
          "miR-136",
          "miR-135",
          "miR-134",
          "miR-133",
          "miR-132/212",
          "miR-1306",
          "miR-130/301/454",
          "miR-1298",
          "miR-129",
          "miR-128",
          "miR-127",
          "miR-126",
          "miR-1251",
          "miR-125",
          "miR-1249",
          "miR-124",
          "miR-122",
          "miR-1197",
          "miR-1193",
          "miR-103/107",
          "miR-101",
          "miR-10",
          "miR-1/206",
          "let-7/miR-98"
         ],
         "categoryorder": "array",
         "domain": [
          0.515,
          1
         ],
         "matches": "y",
         "showticklabels": false
        }
       }
      },
      "text/html": [
       "<div>                            <div id=\"44053fd7-7718-46cd-841e-11cbf5832b3f\" class=\"plotly-graph-div\" style=\"height:920px; width:1700px;\"></div>            <script type=\"text/javascript\">                require([\"plotly\"], function(Plotly) {                    window.PLOTLYENV=window.PLOTLYENV || {};                                    if (document.getElementById(\"44053fd7-7718-46cd-841e-11cbf5832b3f\")) {                    Plotly.newPlot(                        \"44053fd7-7718-46cd-841e-11cbf5832b3f\",                        [{\"alignmentgroup\":\"True\",\"customdata\":[[1,771],[1,771],[1,771],[1,771],[56,771],[2,771],[1,771],[6,771],[2,771],[5,771],[4,771],[3,771],[1,771],[2,771],[3,771],[8,771],[12,771],[13,771],[1,771],[1,771],[2,771],[1,771],[21,771],[1,771],[1,771],[2,771],[6,771],[2,771],[2,771],[2,771],[1,771],[60,771],[7,771],[1,771],[1,771],[1,771],[1,771],[1,771],[19,771],[1,771],[1,771],[2,771],[1,771],[1,771],[8,771],[1,771],[2,771],[1,771],[1,771],[1,771]],\"hovertemplate\":\"mirna_gene_strand_orientation=same<br>type=cCREs without Repeats<br>group=z-dna<br>total_count_rel=%{x}<br>mirna=%{y}<br>total_count=%{customdata[0]}<br>total_group_counts=%{customdata[1]}<extra></extra>\",\"legendgroup\":\"same\",\"marker\":{\"color\":\"tomato\",\"pattern\":{\"shape\":\"\"}},\"name\":\"same\",\"offsetgroup\":\"same\",\"orientation\":\"h\",\"showlegend\":true,\"textposition\":\"auto\",\"x\":[0.12970168612191957,0.12970168612191957,0.12970168612191957,0.12970168612191957,7.263294422827498,0.25940337224383914,0.12970168612191957,0.7782101167315175,0.25940337224383914,0.648508430609598,0.5188067444876783,0.38910505836575876,0.12970168612191957,0.25940337224383914,0.38910505836575876,1.0376134889753565,1.556420233463035,1.6861219195849546,0.12970168612191957,0.12970168612191957,0.25940337224383914,0.12970168612191957,2.7237354085603114,0.12970168612191957,0.12970168612191957,0.25940337224383914,0.7782101167315175,0.25940337224383914,0.25940337224383914,0.25940337224383914,0.12970168612191957,7.782101167315175,0.9079118028534372,0.12970168612191957,0.12970168612191957,0.12970168612191957,0.12970168612191957,0.12970168612191957,2.4643320363164722,0.12970168612191957,0.12970168612191957,0.25940337224383914,0.12970168612191957,0.12970168612191957,1.0376134889753565,0.12970168612191957,0.25940337224383914,0.12970168612191957,0.12970168612191957,0.12970168612191957],\"xaxis\":\"x5\",\"y\":[\"miR-99/100\",\"miR-874\",\"miR-873\",\"miR-760\",\"miR-744\",\"miR-652\",\"miR-615\",\"miR-532\",\"miR-503\",\"miR-501/502\",\"miR-493\",\"miR-491\",\"miR-486\",\"miR-485\",\"miR-455\",\"miR-423\",\"miR-377\",\"miR-342\",\"miR-339\",\"miR-335\",\"miR-331\",\"miR-330\",\"miR-329/362\",\"miR-324\",\"miR-30\",\"miR-299\",\"miR-296\",\"miR-25/32/92/363/367\",\"miR-22\",\"miR-218\",\"miR-214\",\"miR-210\",\"miR-187\",\"miR-183\",\"miR-18\",\"miR-153\",\"miR-151a\",\"miR-148/152\",\"miR-147\",\"miR-142\",\"miR-140\",\"miR-138\",\"miR-1306\",\"miR-125\",\"miR-1249\",\"miR-124\",\"miR-122\",\"miR-1197\",\"miR-103/107\",\"miR-10\"],\"yaxis\":\"y5\",\"type\":\"bar\"},{\"alignmentgroup\":\"True\",\"customdata\":[[5,8859],[7,8859],[3,8859],[2,8859],[1,8859],[2,8859],[2,8859],[17,8859],[11,8859],[2,8859],[4,8859],[1,8859],[14,8859],[6,8859],[8,8859],[1,8859],[10,8859],[9,8859],[6,8859],[2,8859],[2,8859],[12,8859],[7,8859],[1,8859],[5,8859],[5,8859],[15,8859],[21,8859],[8,8859],[6,8859],[3,8859],[1,8859],[2,8859],[7,8859],[7,8859],[2,8859],[11,8859],[18,8859],[7,8859],[21,8859],[2,8859],[2,8859],[3,8859],[6,8859],[2,8859],[1,8859],[4,8859],[15,8859],[8,8859],[11,8859],[1,8859],[3,8859],[3,8859],[7,8859],[4,8859],[6,8859],[15,8859],[2,8859],[1,8859],[8,8859],[3,8859],[6,8859],[12,8859],[4,8859],[4,8859],[3,8859],[1,8859],[32,8859],[8,8859],[7,8859],[10,8859],[3,8859],[4,8859],[3,8859],[3,8859],[2,8859],[7,8859],[4,8859],[12,8859],[3,8859],[3,8859],[5,8859],[1,8859],[4,8859],[11,8859],[4,8859],[5,8859],[1,8859],[7,8859],[1,8859],[12,8859],[6,8859],[8,8859],[15,8859],[8,8859],[6,8859],[5,8859],[1,8859],[2,8859],[16,8859],[5,8859],[1,8859],[3,8859],[2,8859],[8,8859],[3,8859],[1,8859],[4,8859],[6,8859],[9,8859],[11,8859],[3,8859],[19,8859],[11,8859],[7,8859],[4,8859],[6,8859],[8,8859],[11,8859],[9,8859],[1,8859],[1,8859],[7,8859],[5,8859],[5,8859],[14,8859],[6,8859],[1,8859],[12,8859],[2,8859],[8,8859],[10,8859],[19,8859],[23,8859],[5,8859],[3,8859],[2,8859],[18,8859],[1,8859],[10,8859],[8,8859],[2,8859],[13,8859],[6,8859],[5,8859],[36,8859],[1,8859],[2,8859],[3,8859],[4,8859],[6,8859],[7,8859],[7,8859],[3,8859],[3,8859],[7,8859],[6,8859],[3,8859],[7,8859],[2,8859]],\"hovertemplate\":\"mirna_gene_strand_orientation=same<br>type=cCREs without Repeats<br>group=sidd<br>total_count_rel=%{x}<br>mirna=%{y}<br>total_count=%{customdata[0]}<br>total_group_counts=%{customdata[1]}<extra></extra>\",\"legendgroup\":\"same\",\"marker\":{\"color\":\"tomato\",\"pattern\":{\"shape\":\"\"}},\"name\":\"same\",\"offsetgroup\":\"same\",\"orientation\":\"h\",\"showlegend\":false,\"textposition\":\"auto\",\"x\":[0.056439778756067274,0.07901569025849418,0.033863867253640365,0.02257591150242691,0.011287955751213455,0.02257591150242691,0.02257591150242691,0.19189524777062872,0.12416751326334802,0.02257591150242691,0.04515182300485382,0.011287955751213455,0.15803138051698837,0.06772773450728073,0.09030364600970764,0.011287955751213455,0.11287955751213455,0.1015916017609211,0.06772773450728073,0.02257591150242691,0.02257591150242691,0.13545546901456146,0.07901569025849418,0.011287955751213455,0.056439778756067274,0.056439778756067274,0.16931933626820184,0.23704707077548257,0.09030364600970764,0.06772773450728073,0.033863867253640365,0.011287955751213455,0.02257591150242691,0.07901569025849418,0.07901569025849418,0.02257591150242691,0.12416751326334802,0.2031832035218422,0.07901569025849418,0.23704707077548257,0.02257591150242691,0.02257591150242691,0.033863867253640365,0.06772773450728073,0.02257591150242691,0.011287955751213455,0.04515182300485382,0.16931933626820184,0.09030364600970764,0.12416751326334802,0.011287955751213455,0.033863867253640365,0.033863867253640365,0.07901569025849418,0.04515182300485382,0.06772773450728073,0.16931933626820184,0.02257591150242691,0.011287955751213455,0.09030364600970764,0.033863867253640365,0.06772773450728073,0.13545546901456146,0.04515182300485382,0.04515182300485382,0.033863867253640365,0.011287955751213455,0.36121458403883056,0.09030364600970764,0.07901569025849418,0.11287955751213455,0.033863867253640365,0.04515182300485382,0.033863867253640365,0.033863867253640365,0.02257591150242691,0.07901569025849418,0.04515182300485382,0.13545546901456146,0.033863867253640365,0.033863867253640365,0.056439778756067274,0.011287955751213455,0.04515182300485382,0.12416751326334802,0.04515182300485382,0.056439778756067274,0.011287955751213455,0.07901569025849418,0.011287955751213455,0.13545546901456146,0.06772773450728073,0.09030364600970764,0.16931933626820184,0.09030364600970764,0.06772773450728073,0.056439778756067274,0.011287955751213455,0.02257591150242691,0.18060729201941528,0.056439778756067274,0.011287955751213455,0.033863867253640365,0.02257591150242691,0.09030364600970764,0.033863867253640365,0.011287955751213455,0.04515182300485382,0.06772773450728073,0.1015916017609211,0.12416751326334802,0.033863867253640365,0.21447115927305566,0.12416751326334802,0.07901569025849418,0.04515182300485382,0.06772773450728073,0.09030364600970764,0.12416751326334802,0.1015916017609211,0.011287955751213455,0.011287955751213455,0.07901569025849418,0.056439778756067274,0.056439778756067274,0.15803138051698837,0.06772773450728073,0.011287955751213455,0.13545546901456146,0.02257591150242691,0.09030364600970764,0.11287955751213455,0.21447115927305566,0.2596229822779095,0.056439778756067274,0.033863867253640365,0.02257591150242691,0.2031832035218422,0.011287955751213455,0.11287955751213455,0.09030364600970764,0.02257591150242691,0.14674342476577493,0.06772773450728073,0.056439778756067274,0.4063664070436844,0.011287955751213455,0.02257591150242691,0.033863867253640365,0.04515182300485382,0.06772773450728073,0.07901569025849418,0.07901569025849418,0.033863867253640365,0.033863867253640365,0.07901569025849418,0.06772773450728073,0.033863867253640365,0.07901569025849418,0.02257591150242691],\"xaxis\":\"x6\",\"y\":[\"miR-96/1271\",\"miR-9\",\"miR-876\",\"miR-875\",\"miR-874\",\"miR-873\",\"miR-802\",\"miR-760\",\"miR-758\",\"miR-7\",\"miR-670\",\"miR-668\",\"miR-665\",\"miR-655\",\"miR-653\",\"miR-615\",\"miR-582\",\"miR-544a\",\"miR-543\",\"miR-542\",\"miR-539\",\"miR-532\",\"miR-505\",\"miR-504\",\"miR-503\",\"miR-499\",\"miR-496\",\"miR-495\",\"miR-494\",\"miR-493\",\"miR-491\",\"miR-490\",\"miR-489\",\"miR-488\",\"miR-485\",\"miR-483\",\"miR-455\",\"miR-452\",\"miR-450a\",\"miR-448\",\"miR-433\",\"miR-431\",\"miR-425\",\"miR-423\",\"miR-421\",\"miR-411\",\"miR-410\",\"miR-409\",\"miR-383\",\"miR-382\",\"miR-381\",\"miR-379\",\"miR-378a\",\"miR-377\",\"miR-376c\",\"miR-376ab\",\"miR-374\",\"miR-371\",\"miR-369\",\"miR-365\",\"miR-361\",\"miR-342\",\"miR-340\",\"miR-339\",\"miR-338\",\"miR-335\",\"miR-331\",\"miR-330\",\"miR-33\",\"miR-329/362\",\"miR-325\",\"miR-324\",\"miR-323a\",\"miR-31\",\"miR-302c\",\"miR-302abd\",\"miR-30\",\"miR-299\",\"miR-296\",\"miR-29\",\"miR-28/708\",\"miR-27\",\"miR-26\",\"miR-24\",\"miR-23\",\"miR-224\",\"miR-223\",\"miR-221/222\",\"miR-22\",\"miR-219\",\"miR-218\",\"miR-217\",\"miR-216b\",\"miR-216a\",\"miR-214\",\"miR-210\",\"miR-21/590\",\"miR-208\",\"miR-205\",\"miR-204/211\",\"miR-203a\",\"miR-202\",\"miR-200bc/429\",\"miR-196\",\"miR-194\",\"miR-193\",\"miR-192/215\",\"miR-191\",\"miR-190\",\"miR-19\",\"miR-188\",\"miR-187\",\"miR-186\",\"miR-185\",\"miR-184\",\"miR-183\",\"miR-182\",\"miR-181\",\"miR-18\",\"miR-17/20/93/106/519d\",\"miR-155\",\"miR-154\",\"miR-153\",\"miR-151a\",\"miR-150\",\"miR-15/16/195/424/497\",\"miR-149\",\"miR-147\",\"miR-146\",\"miR-145\",\"miR-144\",\"miR-143\",\"miR-142\",\"miR-141/200a\",\"miR-140\",\"miR-139\",\"miR-138\",\"miR-137\",\"miR-136\",\"miR-135\",\"miR-134\",\"miR-133\",\"miR-132/212\",\"miR-1306\",\"miR-130/301/454\",\"miR-129\",\"miR-127\",\"miR-126\",\"miR-1251\",\"miR-125\",\"miR-1249\",\"miR-124\",\"miR-122\",\"miR-1197\",\"miR-1193\",\"miR-103/107\",\"miR-101\",\"miR-10\",\"miR-1/206\",\"let-7/miR-98\"],\"yaxis\":\"y6\",\"type\":\"bar\"},{\"alignmentgroup\":\"True\",\"customdata\":[[1,2007],[1,2007],[1,2007],[20,2007],[1,2007],[6,2007],[2,2007],[189,2007],[3,2007],[10,2007],[24,2007],[3,2007],[3,2007],[46,2007],[17,2007],[2,2007],[64,2007],[3,2007],[2,2007],[6,2007],[2,2007],[1,2007],[90,2007],[2,2007],[1,2007],[2,2007],[2,2007],[1,2007],[1,2007],[5,2007],[1,2007],[12,2007],[33,2007],[4,2007],[30,2007],[10,2007],[3,2007],[4,2007],[16,2007],[2,2007],[10,2007],[75,2007],[2,2007],[10,2007],[2,2007],[4,2007],[2,2007],[1,2007],[5,2007],[1,2007],[2,2007],[11,2007],[1,2007],[9,2007],[1,2007],[8,2007],[3,2007],[1,2007],[1,2007],[2,2007],[9,2007],[5,2007],[4,2007],[1,2007],[6,2007],[5,2007],[4,2007],[1,2007],[1,2007],[11,2007],[23,2007],[6,2007],[5,2007],[7,2007],[13,2007],[21,2007],[1,2007],[2,2007],[1,2007],[5,2007],[1,2007]],\"hovertemplate\":\"mirna_gene_strand_orientation=same<br>type=cCREs without Repeats<br>group=g4<br>total_count_rel=%{x}<br>mirna=%{y}<br>total_count=%{customdata[0]}<br>total_group_counts=%{customdata[1]}<extra></extra>\",\"legendgroup\":\"same\",\"marker\":{\"color\":\"tomato\",\"pattern\":{\"shape\":\"\"}},\"name\":\"same\",\"offsetgroup\":\"same\",\"orientation\":\"h\",\"showlegend\":false,\"textposition\":\"auto\",\"x\":[0.04982561036372695,0.04982561036372695,0.04982561036372695,0.9965122072745392,0.04982561036372695,0.29895366218236175,0.0996512207274539,9.417040358744394,0.14947683109118087,0.4982561036372696,1.195814648729447,0.14947683109118087,0.14947683109118087,2.29197807673144,0.8470353761833582,0.0996512207274539,3.188839063278525,0.14947683109118087,0.0996512207274539,0.29895366218236175,0.0996512207274539,0.04982561036372695,4.484304932735426,0.0996512207274539,0.04982561036372695,0.0996512207274539,0.0996512207274539,0.04982561036372695,0.04982561036372695,0.2491280518186348,0.04982561036372695,0.5979073243647235,1.6442451420029895,0.1993024414549078,1.4947683109118086,0.4982561036372696,0.14947683109118087,0.1993024414549078,0.7972097658196312,0.0996512207274539,0.4982561036372696,3.7369207772795217,0.0996512207274539,0.4982561036372696,0.0996512207274539,0.1993024414549078,0.0996512207274539,0.04982561036372695,0.2491280518186348,0.04982561036372695,0.0996512207274539,0.5480817140009965,0.04982561036372695,0.4484304932735426,0.04982561036372695,0.3986048829098156,0.14947683109118087,0.04982561036372695,0.04982561036372695,0.0996512207274539,0.4484304932735426,0.2491280518186348,0.1993024414549078,0.04982561036372695,0.29895366218236175,0.2491280518186348,0.1993024414549078,0.04982561036372695,0.04982561036372695,0.5480817140009965,1.14598903836572,0.29895366218236175,0.2491280518186348,0.3487792725460887,0.6477329347284505,1.046337817638266,0.04982561036372695,0.0996512207274539,0.04982561036372695,0.2491280518186348,0.04982561036372695],\"xaxis\":\"x7\",\"y\":[\"miR-99/100\",\"miR-9\",\"miR-876\",\"miR-874\",\"miR-873\",\"miR-760\",\"miR-758\",\"miR-744\",\"miR-7\",\"miR-665\",\"miR-615\",\"miR-551\",\"miR-542\",\"miR-532\",\"miR-504\",\"miR-503\",\"miR-491\",\"miR-490\",\"miR-488\",\"miR-485\",\"miR-455\",\"miR-450a\",\"miR-423\",\"miR-409\",\"miR-381\",\"miR-379\",\"miR-378a\",\"miR-371\",\"miR-365\",\"miR-346\",\"miR-342\",\"miR-34/449\",\"miR-339\",\"miR-338\",\"miR-331\",\"miR-330\",\"miR-329/362\",\"miR-328\",\"miR-324\",\"miR-31\",\"miR-299\",\"miR-296\",\"miR-28/708\",\"miR-24\",\"miR-22\",\"miR-214\",\"miR-210\",\"miR-205\",\"miR-204/211\",\"miR-202\",\"miR-199\",\"miR-193\",\"miR-19\",\"miR-188\",\"miR-187\",\"miR-185\",\"miR-184\",\"miR-182\",\"miR-18\",\"miR-151a\",\"miR-150\",\"miR-149\",\"miR-147\",\"miR-146\",\"miR-143\",\"miR-140\",\"miR-138\",\"miR-136\",\"miR-134\",\"miR-133\",\"miR-1306\",\"miR-129\",\"miR-128\",\"miR-127\",\"miR-125\",\"miR-1249\",\"miR-124\",\"miR-122\",\"miR-103/107\",\"miR-10\",\"miR-1/206\"],\"yaxis\":\"y7\",\"type\":\"bar\"},{\"alignmentgroup\":\"True\",\"customdata\":[[1,252],[1,252],[1,252],[1,252],[2,252],[2,252],[1,252],[1,252],[3,252],[7,252],[1,252],[1,252],[6,252],[1,252],[32,252],[1,252],[3,252],[1,252],[1,252],[1,252],[1,252],[9,252],[3,252],[1,252]],\"hovertemplate\":\"mirna_gene_strand_orientation=same<br>type=cCREs without Repeats<br>group=h-dna<br>total_count_rel=%{x}<br>mirna=%{y}<br>total_count=%{customdata[0]}<br>total_group_counts=%{customdata[1]}<extra></extra>\",\"legendgroup\":\"same\",\"marker\":{\"color\":\"tomato\",\"pattern\":{\"shape\":\"\"}},\"name\":\"same\",\"offsetgroup\":\"same\",\"orientation\":\"h\",\"showlegend\":false,\"textposition\":\"auto\",\"x\":[0.3968253968253968,0.3968253968253968,0.3968253968253968,0.3968253968253968,0.7936507936507936,0.7936507936507936,0.3968253968253968,0.3968253968253968,1.1904761904761905,2.7777777777777777,0.3968253968253968,0.3968253968253968,2.380952380952381,0.3968253968253968,12.698412698412698,0.3968253968253968,1.1904761904761905,0.3968253968253968,0.3968253968253968,0.3968253968253968,0.3968253968253968,3.571428571428571,1.1904761904761905,0.3968253968253968],\"xaxis\":\"x8\",\"y\":[\"miR-873\",\"miR-744\",\"miR-668\",\"miR-615\",\"miR-532\",\"miR-495\",\"miR-493\",\"miR-485\",\"miR-483\",\"miR-423\",\"miR-339\",\"miR-330\",\"miR-204/211\",\"miR-186\",\"miR-185\",\"miR-184\",\"miR-151a\",\"miR-150\",\"miR-145\",\"miR-143\",\"miR-136\",\"miR-1306\",\"miR-129\",\"let-7/miR-98\"],\"yaxis\":\"y8\",\"type\":\"bar\"},{\"alignmentgroup\":\"True\",\"customdata\":[[1,771],[1,771],[2,771],[13,771],[2,771],[3,771],[19,771],[11,771],[11,771],[1,771],[4,771],[29,771],[1,771],[1,771],[1,771],[3,771],[1,771]],\"hovertemplate\":\"mirna_gene_strand_orientation=same<br>type=Repeats without cCREs<br>group=z-dna<br>total_count_rel=%{x}<br>mirna=%{y}<br>total_count=%{customdata[0]}<br>total_group_counts=%{customdata[1]}<extra></extra>\",\"legendgroup\":\"same\",\"marker\":{\"color\":\"tomato\",\"pattern\":{\"shape\":\"\"}},\"name\":\"same\",\"offsetgroup\":\"same\",\"orientation\":\"h\",\"showlegend\":false,\"textposition\":\"auto\",\"x\":[0.12970168612191957,0.12970168612191957,0.25940337224383914,1.6861219195849546,0.25940337224383914,0.38910505836575876,2.4643320363164722,1.4267185473411155,1.4267185473411155,0.12970168612191957,0.5188067444876783,3.761348897535668,0.12970168612191957,0.12970168612191957,0.12970168612191957,0.38910505836575876,0.12970168612191957],\"xaxis\":\"x\",\"y\":[\"miR-744\",\"miR-501/502\",\"miR-493\",\"miR-455\",\"miR-448\",\"miR-431\",\"miR-377\",\"miR-342\",\"miR-329/362\",\"miR-324\",\"miR-218\",\"miR-210\",\"miR-183\",\"miR-18\",\"miR-148/152\",\"miR-147\",\"miR-1249\"],\"yaxis\":\"y\",\"type\":\"bar\"},{\"alignmentgroup\":\"True\",\"customdata\":[[2,8859],[22,8859],[9,8859],[8,8859],[10,8859],[19,8859],[8,8859],[10,8859],[28,8859],[3,8859],[86,8859],[4,8859],[6,8859],[30,8859],[38,8859],[41,8859],[6,8859],[15,8859],[16,8859],[17,8859],[20,8859],[20,8859],[6,8859],[1,8859],[3,8859],[15,8859],[22,8859],[51,8859],[16,8859],[27,8859],[11,8859],[18,8859],[7,8859],[17,8859],[13,8859],[9,8859],[21,8859],[40,8859],[45,8859],[2,8859],[28,8859],[18,8859],[2,8859],[12,8859],[2,8859],[14,8859],[33,8859],[40,8859],[39,8859],[9,8859],[36,8859],[26,8859],[29,8859],[15,8859],[11,8859],[34,8859],[21,8859],[4,8859],[97,8859],[11,8859],[43,8859],[16,8859],[4,8859],[8,8859],[3,8859],[55,8859],[17,8859],[8,8859],[10,8859],[5,8859],[8,8859],[49,8859],[23,8859],[17,8859],[7,8859],[47,8859],[2,8859],[16,8859],[9,8859],[13,8859],[32,8859],[28,8859],[40,8859],[12,8859],[11,8859],[9,8859],[26,8859],[11,8859],[1,8859],[5,8859],[35,8859],[7,8859],[14,8859],[6,8859],[11,8859],[3,8859],[11,8859],[7,8859],[29,8859],[42,8859],[10,8859],[15,8859],[9,8859],[37,8859],[329,8859],[13,8859],[21,8859],[14,8859],[18,8859],[16,8859],[17,8859],[7,8859],[15,8859],[1,8859],[23,8859],[2,8859],[115,8859],[21,8859],[12,8859],[16,8859],[36,8859],[4,8859],[13,8859],[23,8859],[25,8859],[10,8859],[22,8859],[13,8859],[13,8859],[6,8859],[2,8859],[14,8859],[8,8859],[25,8859],[18,8859],[64,8859],[19,8859],[30,8859],[17,8859],[5,8859],[27,8859],[28,8859],[18,8859],[21,8859],[6,8859],[12,8859],[2,8859],[8,8859],[48,8859],[5,8859],[1,8859],[15,8859],[27,8859],[19,8859],[12,8859],[4,8859],[13,8859],[29,8859],[24,8859],[29,8859],[6,8859]],\"hovertemplate\":\"mirna_gene_strand_orientation=same<br>type=Repeats without cCREs<br>group=sidd<br>total_count_rel=%{x}<br>mirna=%{y}<br>total_count=%{customdata[0]}<br>total_group_counts=%{customdata[1]}<extra></extra>\",\"legendgroup\":\"same\",\"marker\":{\"color\":\"tomato\",\"pattern\":{\"shape\":\"\"}},\"name\":\"same\",\"offsetgroup\":\"same\",\"orientation\":\"h\",\"showlegend\":false,\"textposition\":\"auto\",\"x\":[0.02257591150242691,0.24833502652669603,0.1015916017609211,0.09030364600970764,0.11287955751213455,0.21447115927305566,0.09030364600970764,0.11287955751213455,0.31606276103397674,0.033863867253640365,0.9707641946043571,0.04515182300485382,0.06772773450728073,0.3386386725364037,0.4289423185461113,0.4628061857997517,0.06772773450728073,0.16931933626820184,0.18060729201941528,0.19189524777062872,0.2257591150242691,0.2257591150242691,0.06772773450728073,0.011287955751213455,0.033863867253640365,0.16931933626820184,0.24833502652669603,0.5756857433118863,0.18060729201941528,0.3047748052827633,0.12416751326334802,0.2031832035218422,0.07901569025849418,0.19189524777062872,0.14674342476577493,0.1015916017609211,0.23704707077548257,0.4515182300485382,0.5079580088046055,0.02257591150242691,0.31606276103397674,0.2031832035218422,0.02257591150242691,0.13545546901456146,0.02257591150242691,0.15803138051698837,0.37250253979004405,0.4515182300485382,0.44023027429732475,0.1015916017609211,0.4063664070436844,0.29348684953154985,0.32735071678519023,0.16931933626820184,0.12416751326334802,0.38379049554125744,0.23704707077548257,0.04515182300485382,1.0949317078677052,0.12416751326334802,0.4853820973021786,0.18060729201941528,0.04515182300485382,0.09030364600970764,0.033863867253640365,0.62083756631674,0.19189524777062872,0.09030364600970764,0.11287955751213455,0.056439778756067274,0.09030364600970764,0.5531098318094593,0.2596229822779095,0.19189524777062872,0.07901569025849418,0.5305339203070324,0.02257591150242691,0.18060729201941528,0.1015916017609211,0.14674342476577493,0.36121458403883056,0.31606276103397674,0.4515182300485382,0.13545546901456146,0.12416751326334802,0.1015916017609211,0.29348684953154985,0.12416751326334802,0.011287955751213455,0.056439778756067274,0.39507845129247093,0.07901569025849418,0.15803138051698837,0.06772773450728073,0.12416751326334802,0.033863867253640365,0.12416751326334802,0.07901569025849418,0.32735071678519023,0.47409414155096513,0.11287955751213455,0.16931933626820184,0.1015916017609211,0.41765436279489787,3.7137374421492266,0.14674342476577493,0.23704707077548257,0.15803138051698837,0.2031832035218422,0.18060729201941528,0.19189524777062872,0.07901569025849418,0.16931933626820184,0.011287955751213455,0.2596229822779095,0.02257591150242691,1.2981149113895474,0.23704707077548257,0.13545546901456146,0.18060729201941528,0.4063664070436844,0.04515182300485382,0.14674342476577493,0.2596229822779095,0.28219889378033636,0.11287955751213455,0.24833502652669603,0.14674342476577493,0.14674342476577493,0.06772773450728073,0.02257591150242691,0.15803138051698837,0.09030364600970764,0.28219889378033636,0.2031832035218422,0.7224291680776611,0.21447115927305566,0.3386386725364037,0.19189524777062872,0.056439778756067274,0.3047748052827633,0.31606276103397674,0.2031832035218422,0.23704707077548257,0.06772773450728073,0.13545546901456146,0.02257591150242691,0.09030364600970764,0.5418218760582458,0.056439778756067274,0.011287955751213455,0.16931933626820184,0.3047748052827633,0.21447115927305566,0.13545546901456146,0.04515182300485382,0.14674342476577493,0.32735071678519023,0.2709109380291229,0.32735071678519023,0.06772773450728073],\"xaxis\":\"x2\",\"y\":[\"miR-96/1271\",\"miR-9\",\"miR-876\",\"miR-875\",\"miR-874\",\"miR-873\",\"miR-802\",\"miR-760\",\"miR-758\",\"miR-7\",\"miR-670\",\"miR-668\",\"miR-665\",\"miR-655\",\"miR-653\",\"miR-582\",\"miR-544a\",\"miR-543\",\"miR-542\",\"miR-539\",\"miR-532\",\"miR-505\",\"miR-504\",\"miR-503\",\"miR-501/502\",\"miR-499\",\"miR-496\",\"miR-495\",\"miR-494\",\"miR-493\",\"miR-491\",\"miR-490\",\"miR-489\",\"miR-488\",\"miR-486\",\"miR-485\",\"miR-483\",\"miR-455\",\"miR-452\",\"miR-450a\",\"miR-448\",\"miR-433\",\"miR-431\",\"miR-425\",\"miR-423\",\"miR-421\",\"miR-411\",\"miR-410\",\"miR-409\",\"miR-383\",\"miR-382\",\"miR-381\",\"miR-379\",\"miR-378a\",\"miR-377\",\"miR-376c\",\"miR-376ab\",\"miR-375\",\"miR-374\",\"miR-371\",\"miR-369\",\"miR-365\",\"miR-361\",\"miR-346\",\"miR-342\",\"miR-340\",\"miR-34/449\",\"miR-339\",\"miR-338\",\"miR-335\",\"miR-331\",\"miR-330\",\"miR-33\",\"miR-329/362\",\"miR-328\",\"miR-325\",\"miR-324\",\"miR-323a\",\"miR-31\",\"miR-302c\",\"miR-302abd\",\"miR-30\",\"miR-299\",\"miR-296\",\"miR-29\",\"miR-28/708\",\"miR-27\",\"miR-26\",\"miR-25/32/92/363/367\",\"miR-24\",\"miR-23\",\"miR-224\",\"miR-223\",\"miR-221/222\",\"miR-22\",\"miR-219\",\"miR-218\",\"miR-217\",\"miR-216b\",\"miR-216a\",\"miR-214\",\"miR-21/590\",\"miR-205\",\"miR-204/211\",\"miR-203a\",\"miR-202\",\"miR-200bc/429\",\"miR-199\",\"miR-196\",\"miR-194\",\"miR-193\",\"miR-192/215\",\"miR-190\",\"miR-19\",\"miR-188\",\"miR-187\",\"miR-186\",\"miR-185\",\"miR-183\",\"miR-182\",\"miR-181\",\"miR-18\",\"miR-17/20/93/106/519d\",\"miR-155\",\"miR-154\",\"miR-153\",\"miR-151a\",\"miR-150\",\"miR-15/16/195/424/497\",\"miR-149\",\"miR-148/152\",\"miR-146\",\"miR-145\",\"miR-144\",\"miR-143\",\"miR-142\",\"miR-141/200a\",\"miR-140\",\"miR-139\",\"miR-138\",\"miR-137\",\"miR-136\",\"miR-135\",\"miR-134\",\"miR-133\",\"miR-132/212\",\"miR-1306\",\"miR-130/301/454\",\"miR-129\",\"miR-128\",\"miR-126\",\"miR-125\",\"miR-124\",\"miR-122\",\"miR-1197\",\"miR-1193\",\"miR-103/107\",\"miR-101\",\"miR-10\",\"miR-1/206\",\"let-7/miR-98\"],\"yaxis\":\"y2\",\"type\":\"bar\"},{\"alignmentgroup\":\"True\",\"customdata\":[[1,2007],[16,2007],[2,2007],[2,2007],[1,2007],[1,2007],[24,2007],[23,2007],[1,2007],[1,2007],[5,2007],[1,2007],[1,2007],[2,2007],[1,2007],[1,2007],[2,2007],[5,2007],[16,2007],[5,2007],[2,2007],[2,2007],[2,2007],[11,2007],[5,2007],[1,2007],[1,2007],[4,2007],[3,2007],[1,2007],[1,2007],[2,2007],[1,2007]],\"hovertemplate\":\"mirna_gene_strand_orientation=same<br>type=Repeats without cCREs<br>group=g4<br>total_count_rel=%{x}<br>mirna=%{y}<br>total_count=%{customdata[0]}<br>total_group_counts=%{customdata[1]}<extra></extra>\",\"legendgroup\":\"same\",\"marker\":{\"color\":\"tomato\",\"pattern\":{\"shape\":\"\"}},\"name\":\"same\",\"offsetgroup\":\"same\",\"orientation\":\"h\",\"showlegend\":false,\"textposition\":\"auto\",\"x\":[0.04982561036372695,0.7972097658196312,0.0996512207274539,0.0996512207274539,0.04982561036372695,0.04982561036372695,1.195814648729447,1.14598903836572,0.04982561036372695,0.04982561036372695,0.2491280518186348,0.04982561036372695,0.04982561036372695,0.0996512207274539,0.04982561036372695,0.04982561036372695,0.0996512207274539,0.2491280518186348,0.7972097658196312,0.2491280518186348,0.0996512207274539,0.0996512207274539,0.0996512207274539,0.5480817140009965,0.2491280518186348,0.04982561036372695,0.04982561036372695,0.1993024414549078,0.14947683109118087,0.04982561036372695,0.04982561036372695,0.0996512207274539,0.04982561036372695],\"xaxis\":\"x3\",\"y\":[\"miR-875\",\"miR-874\",\"miR-873\",\"miR-760\",\"miR-744\",\"miR-551\",\"miR-532\",\"miR-491\",\"miR-485\",\"miR-483\",\"miR-423\",\"miR-409\",\"miR-379\",\"miR-365\",\"miR-34/449\",\"miR-339\",\"miR-331\",\"miR-330\",\"miR-328\",\"miR-299\",\"miR-296\",\"miR-204/211\",\"miR-188\",\"miR-185\",\"miR-150\",\"miR-15/16/195/424/497\",\"miR-140\",\"miR-1306\",\"miR-129\",\"miR-1249\",\"miR-122\",\"miR-10\",\"miR-1/206\"],\"yaxis\":\"y3\",\"type\":\"bar\"},{\"alignmentgroup\":\"True\",\"customdata\":[[2,252],[2,252],[1,252],[1,252],[2,252],[40,252],[1,252],[1,252],[1,252]],\"hovertemplate\":\"mirna_gene_strand_orientation=same<br>type=Repeats without cCREs<br>group=h-dna<br>total_count_rel=%{x}<br>mirna=%{y}<br>total_count=%{customdata[0]}<br>total_group_counts=%{customdata[1]}<extra></extra>\",\"legendgroup\":\"same\",\"marker\":{\"color\":\"tomato\",\"pattern\":{\"shape\":\"\"}},\"name\":\"same\",\"offsetgroup\":\"same\",\"orientation\":\"h\",\"showlegend\":false,\"textposition\":\"auto\",\"x\":[0.7936507936507936,0.7936507936507936,0.3968253968253968,0.3968253968253968,0.7936507936507936,15.873015873015872,0.3968253968253968,0.3968253968253968,0.3968253968253968],\"xaxis\":\"x4\",\"y\":[\"miR-532\",\"miR-491\",\"miR-423\",\"miR-339\",\"miR-204/211\",\"miR-185\",\"miR-142\",\"miR-1306\",\"miR-129\"],\"yaxis\":\"y4\",\"type\":\"bar\"},{\"alignmentgroup\":\"True\",\"customdata\":[[1,771],[3,771],[1,771],[1,771],[57,771],[1,771],[1,771],[4,771],[3,771],[1,771],[2,771],[3,771],[1,771],[1,771],[2,771],[3,771],[1,771],[6,771],[20,771],[15,771],[1,771],[3,771],[1,771],[34,771],[4,771],[2,771],[8,771],[1,771],[1,771],[2,771],[4,771],[45,771],[1,771],[4,771],[5,771],[2,771],[1,771],[2,771],[1,771],[1,771],[25,771],[3,771],[5,771],[4,771],[2,771],[4,771],[2,771],[2,771]],\"hovertemplate\":\"mirna_gene_strand_orientation=different<br>type=cCREs without Repeats<br>group=z-dna<br>total_count_rel=%{x}<br>mirna=%{y}<br>total_count=%{customdata[0]}<br>total_group_counts=%{customdata[1]}<extra></extra>\",\"legendgroup\":\"different\",\"marker\":{\"color\":\"royalblue\",\"pattern\":{\"shape\":\"\"}},\"name\":\"different\",\"offsetgroup\":\"different\",\"orientation\":\"h\",\"showlegend\":true,\"textposition\":\"auto\",\"x\":[0.12970168612191957,0.38910505836575876,0.12970168612191957,0.12970168612191957,7.392996108949417,0.12970168612191957,0.12970168612191957,0.5188067444876783,0.38910505836575876,0.12970168612191957,0.25940337224383914,0.38910505836575876,0.12970168612191957,0.12970168612191957,0.25940337224383914,0.38910505836575876,0.12970168612191957,0.7782101167315175,2.594033722438392,1.9455252918287937,0.12970168612191957,0.38910505836575876,0.12970168612191957,4.409857328145266,0.5188067444876783,0.25940337224383914,1.0376134889753565,0.12970168612191957,0.12970168612191957,0.25940337224383914,0.5188067444876783,5.836575875486381,0.12970168612191957,0.5188067444876783,0.648508430609598,0.25940337224383914,0.12970168612191957,0.25940337224383914,0.12970168612191957,0.12970168612191957,3.24254215304799,0.38910505836575876,0.648508430609598,0.5188067444876783,0.25940337224383914,0.5188067444876783,0.25940337224383914,0.25940337224383914],\"xaxis\":\"x5\",\"y\":[\"miR-96/1271\",\"miR-874\",\"miR-873\",\"miR-760\",\"miR-744\",\"miR-7\",\"miR-652\",\"miR-532\",\"miR-503\",\"miR-496\",\"miR-493\",\"miR-491\",\"miR-486\",\"miR-485\",\"miR-483\",\"miR-455\",\"miR-431\",\"miR-423\",\"miR-377\",\"miR-342\",\"miR-335\",\"miR-331\",\"miR-330\",\"miR-329/362\",\"miR-324\",\"miR-299\",\"miR-296\",\"miR-29\",\"miR-22\",\"miR-218\",\"miR-214\",\"miR-210\",\"miR-199\",\"miR-19\",\"miR-187\",\"miR-184\",\"miR-183\",\"miR-18\",\"miR-151a\",\"miR-148/152\",\"miR-147\",\"miR-140\",\"miR-138\",\"miR-1306\",\"miR-128\",\"miR-1249\",\"miR-122\",\"miR-1197\"],\"yaxis\":\"y5\",\"type\":\"bar\"},{\"alignmentgroup\":\"True\",\"customdata\":[[1,8859],[4,8859],[7,8859],[4,8859],[12,8859],[12,8859],[2,8859],[3,8859],[1,8859],[5,8859],[7,8859],[1,8859],[8,8859],[10,8859],[4,8859],[3,8859],[9,8859],[7,8859],[14,8859],[10,8859],[4,8859],[9,8859],[3,8859],[7,8859],[5,8859],[2,8859],[1,8859],[25,8859],[9,8859],[9,8859],[10,8859],[8,8859],[7,8859],[13,8859],[2,8859],[13,8859],[6,8859],[12,8859],[11,8859],[1,8859],[5,8859],[1,8859],[4,8859],[5,8859],[9,8859],[5,8859],[12,8859],[3,8859],[3,8859],[3,8859],[12,8859],[14,8859],[5,8859],[5,8859],[13,8859],[7,8859],[11,8859],[4,8859],[2,8859],[2,8859],[3,8859],[5,8859],[2,8859],[9,8859],[5,8859],[3,8859],[24,8859],[1,8859],[16,8859],[9,8859],[5,8859],[3,8859],[6,8859],[6,8859],[8,8859],[9,8859],[6,8859],[7,8859],[2,8859],[1,8859],[2,8859],[2,8859],[8,8859],[6,8859],[5,8859],[3,8859],[3,8859],[2,8859],[11,8859],[2,8859],[8,8859],[14,8859],[5,8859],[3,8859],[3,8859],[2,8859],[12,8859],[33,8859],[23,8859],[6,8859],[9,8859],[11,8859],[4,8859],[3,8859],[7,8859],[1,8859],[9,8859],[2,8859],[3,8859],[15,8859],[21,8859],[11,8859],[7,8859],[5,8859],[4,8859],[9,8859],[4,8859],[9,8859],[4,8859],[3,8859],[15,8859],[1,8859],[6,8859],[12,8859],[9,8859],[4,8859],[4,8859],[25,8859],[4,8859],[22,8859],[5,8859],[1,8859],[6,8859],[11,8859],[11,8859],[3,8859],[7,8859],[4,8859],[2,8859],[26,8859],[12,8859],[1,8859],[6,8859],[1,8859],[4,8859],[7,8859],[5,8859],[6,8859],[12,8859],[12,8859],[8,8859],[4,8859]],\"hovertemplate\":\"mirna_gene_strand_orientation=different<br>type=cCREs without Repeats<br>group=sidd<br>total_count_rel=%{x}<br>mirna=%{y}<br>total_count=%{customdata[0]}<br>total_group_counts=%{customdata[1]}<extra></extra>\",\"legendgroup\":\"different\",\"marker\":{\"color\":\"royalblue\",\"pattern\":{\"shape\":\"\"}},\"name\":\"different\",\"offsetgroup\":\"different\",\"orientation\":\"h\",\"showlegend\":false,\"textposition\":\"auto\",\"x\":[0.011287955751213455,0.04515182300485382,0.07901569025849418,0.04515182300485382,0.13545546901456146,0.13545546901456146,0.02257591150242691,0.033863867253640365,0.011287955751213455,0.056439778756067274,0.07901569025849418,0.011287955751213455,0.09030364600970764,0.11287955751213455,0.04515182300485382,0.033863867253640365,0.1015916017609211,0.07901569025849418,0.15803138051698837,0.11287955751213455,0.04515182300485382,0.1015916017609211,0.033863867253640365,0.07901569025849418,0.056439778756067274,0.02257591150242691,0.011287955751213455,0.28219889378033636,0.1015916017609211,0.1015916017609211,0.11287955751213455,0.09030364600970764,0.07901569025849418,0.14674342476577493,0.02257591150242691,0.14674342476577493,0.06772773450728073,0.13545546901456146,0.12416751326334802,0.011287955751213455,0.056439778756067274,0.011287955751213455,0.04515182300485382,0.056439778756067274,0.1015916017609211,0.056439778756067274,0.13545546901456146,0.033863867253640365,0.033863867253640365,0.033863867253640365,0.13545546901456146,0.15803138051698837,0.056439778756067274,0.056439778756067274,0.14674342476577493,0.07901569025849418,0.12416751326334802,0.04515182300485382,0.02257591150242691,0.02257591150242691,0.033863867253640365,0.056439778756067274,0.02257591150242691,0.1015916017609211,0.056439778756067274,0.033863867253640365,0.2709109380291229,0.011287955751213455,0.18060729201941528,0.1015916017609211,0.056439778756067274,0.033863867253640365,0.06772773450728073,0.06772773450728073,0.09030364600970764,0.1015916017609211,0.06772773450728073,0.07901569025849418,0.02257591150242691,0.011287955751213455,0.02257591150242691,0.02257591150242691,0.09030364600970764,0.06772773450728073,0.056439778756067274,0.033863867253640365,0.033863867253640365,0.02257591150242691,0.12416751326334802,0.02257591150242691,0.09030364600970764,0.15803138051698837,0.056439778756067274,0.033863867253640365,0.033863867253640365,0.02257591150242691,0.13545546901456146,0.37250253979004405,0.2596229822779095,0.06772773450728073,0.1015916017609211,0.12416751326334802,0.04515182300485382,0.033863867253640365,0.07901569025849418,0.011287955751213455,0.1015916017609211,0.02257591150242691,0.033863867253640365,0.16931933626820184,0.23704707077548257,0.12416751326334802,0.07901569025849418,0.056439778756067274,0.04515182300485382,0.1015916017609211,0.04515182300485382,0.1015916017609211,0.04515182300485382,0.033863867253640365,0.16931933626820184,0.011287955751213455,0.06772773450728073,0.13545546901456146,0.1015916017609211,0.04515182300485382,0.04515182300485382,0.28219889378033636,0.04515182300485382,0.24833502652669603,0.056439778756067274,0.011287955751213455,0.06772773450728073,0.12416751326334802,0.12416751326334802,0.033863867253640365,0.07901569025849418,0.04515182300485382,0.02257591150242691,0.29348684953154985,0.13545546901456146,0.011287955751213455,0.06772773450728073,0.011287955751213455,0.04515182300485382,0.07901569025849418,0.056439778756067274,0.06772773450728073,0.13545546901456146,0.13545546901456146,0.09030364600970764,0.04515182300485382],\"xaxis\":\"x6\",\"y\":[\"miR-99/100\",\"miR-96/1271\",\"miR-9\",\"miR-876\",\"miR-874\",\"miR-873\",\"miR-802\",\"miR-760\",\"miR-744\",\"miR-7\",\"miR-670\",\"miR-668\",\"miR-665\",\"miR-655\",\"miR-653\",\"miR-615\",\"miR-582\",\"miR-544a\",\"miR-543\",\"miR-542\",\"miR-539\",\"miR-532\",\"miR-505\",\"miR-504\",\"miR-501/502\",\"miR-499\",\"miR-496\",\"miR-495\",\"miR-494\",\"miR-493\",\"miR-491\",\"miR-490\",\"miR-489\",\"miR-488\",\"miR-486\",\"miR-485\",\"miR-483\",\"miR-455\",\"miR-452\",\"miR-450a\",\"miR-448\",\"miR-433\",\"miR-425\",\"miR-423\",\"miR-421\",\"miR-410\",\"miR-409\",\"miR-383\",\"miR-382\",\"miR-381\",\"miR-379\",\"miR-378a\",\"miR-377\",\"miR-376c\",\"miR-374\",\"miR-371\",\"miR-369\",\"miR-365\",\"miR-361\",\"miR-342\",\"miR-340\",\"miR-34/449\",\"miR-339\",\"miR-338\",\"miR-335\",\"miR-331\",\"miR-330\",\"miR-33\",\"miR-329/362\",\"miR-328\",\"miR-325\",\"miR-323a\",\"miR-31\",\"miR-302c\",\"miR-302abd\",\"miR-30\",\"miR-299\",\"miR-296\",\"miR-28/708\",\"miR-27\",\"miR-26\",\"miR-25/32/92/363/367\",\"miR-24\",\"miR-23\",\"miR-224\",\"miR-223\",\"miR-221/222\",\"miR-22\",\"miR-218\",\"miR-217\",\"miR-216b\",\"miR-216a\",\"miR-214\",\"miR-210\",\"miR-21/590\",\"miR-208\",\"miR-205\",\"miR-204/211\",\"miR-203a\",\"miR-202\",\"miR-200bc/429\",\"miR-199\",\"miR-193\",\"miR-192/215\",\"miR-191\",\"miR-190\",\"miR-19\",\"miR-188\",\"miR-187\",\"miR-186\",\"miR-185\",\"miR-183\",\"miR-182\",\"miR-181\",\"miR-18\",\"miR-17/20/93/106/519d\",\"miR-155\",\"miR-154\",\"miR-153\",\"miR-151a\",\"miR-150\",\"miR-15/16/195/424/497\",\"miR-149\",\"miR-148/152\",\"miR-146\",\"miR-145\",\"miR-143\",\"miR-142\",\"miR-141/200a\",\"miR-140\",\"miR-139\",\"miR-138\",\"miR-136\",\"miR-135\",\"miR-134\",\"miR-133\",\"miR-132/212\",\"miR-1306\",\"miR-130/301/454\",\"miR-129\",\"miR-128\",\"miR-127\",\"miR-125\",\"miR-1249\",\"miR-124\",\"miR-122\",\"miR-1197\",\"miR-103/107\",\"miR-101\",\"miR-10\",\"miR-1/206\",\"let-7/miR-98\"],\"yaxis\":\"y6\",\"type\":\"bar\"},{\"alignmentgroup\":\"True\",\"customdata\":[[18,2007],[4,2007],[9,2007],[1,2007],[126,2007],[1,2007],[7,2007],[25,2007],[10,2007],[2,2007],[52,2007],[11,2007],[1,2007],[2,2007],[1,2007],[39,2007],[2,2007],[10,2007],[4,2007],[67,2007],[2,2007],[1,2007],[1,2007],[3,2007],[3,2007],[5,2007],[4,2007],[40,2007],[4,2007],[2,2007],[34,2007],[16,2007],[5,2007],[9,2007],[15,2007],[2,2007],[6,2007],[73,2007],[1,2007],[11,2007],[6,2007],[3,2007],[4,2007],[11,2007],[2,2007],[7,2007],[6,2007],[1,2007],[13,2007],[4,2007],[1,2007],[1,2007],[11,2007],[1,2007],[2,2007],[1,2007],[4,2007],[4,2007],[1,2007],[9,2007],[31,2007],[6,2007],[5,2007],[1,2007],[13,2007],[9,2007],[1,2007],[1,2007],[6,2007],[1,2007]],\"hovertemplate\":\"mirna_gene_strand_orientation=different<br>type=cCREs without Repeats<br>group=g4<br>total_count_rel=%{x}<br>mirna=%{y}<br>total_count=%{customdata[0]}<br>total_group_counts=%{customdata[1]}<extra></extra>\",\"legendgroup\":\"different\",\"marker\":{\"color\":\"royalblue\",\"pattern\":{\"shape\":\"\"}},\"name\":\"different\",\"offsetgroup\":\"different\",\"orientation\":\"h\",\"showlegend\":false,\"textposition\":\"auto\",\"x\":[0.8968609865470852,0.1993024414549078,0.4484304932735426,0.04982561036372695,6.278026905829597,0.04982561036372695,0.3487792725460887,1.2456402590931739,0.4982561036372696,0.0996512207274539,2.590931738913802,0.5480817140009965,0.04982561036372695,0.0996512207274539,0.04982561036372695,1.9431988041853512,0.0996512207274539,0.4982561036372696,0.1993024414549078,3.338315894369706,0.0996512207274539,0.04982561036372695,0.04982561036372695,0.14947683109118087,0.14947683109118087,0.2491280518186348,0.1993024414549078,1.9930244145490783,0.1993024414549078,0.0996512207274539,1.6940707523667164,0.7972097658196312,0.2491280518186348,0.4484304932735426,0.7473841554559043,0.0996512207274539,0.29895366218236175,3.6372695565520674,0.04982561036372695,0.5480817140009965,0.29895366218236175,0.14947683109118087,0.1993024414549078,0.5480817140009965,0.0996512207274539,0.3487792725460887,0.29895366218236175,0.04982561036372695,0.6477329347284505,0.1993024414549078,0.04982561036372695,0.04982561036372695,0.5480817140009965,0.04982561036372695,0.0996512207274539,0.04982561036372695,0.1993024414549078,0.1993024414549078,0.04982561036372695,0.4484304932735426,1.5445939212755355,0.29895366218236175,0.2491280518186348,0.04982561036372695,0.6477329347284505,0.4484304932735426,0.04982561036372695,0.04982561036372695,0.29895366218236175,0.04982561036372695],\"xaxis\":\"x7\",\"y\":[\"miR-874\",\"miR-873\",\"miR-760\",\"miR-758\",\"miR-744\",\"miR-670\",\"miR-665\",\"miR-615\",\"miR-551\",\"miR-542\",\"miR-532\",\"miR-504\",\"miR-503\",\"miR-501/502\",\"miR-493\",\"miR-491\",\"miR-490\",\"miR-485\",\"miR-455\",\"miR-423\",\"miR-412\",\"miR-377\",\"miR-371\",\"miR-365\",\"miR-346\",\"miR-342\",\"miR-34/449\",\"miR-339\",\"miR-338\",\"miR-335\",\"miR-331\",\"miR-330\",\"miR-329/362\",\"miR-328\",\"miR-324\",\"miR-31\",\"miR-299\",\"miR-296\",\"miR-28/708\",\"miR-24\",\"miR-22\",\"miR-214\",\"miR-205\",\"miR-204/211\",\"miR-199\",\"miR-193\",\"miR-188\",\"miR-187\",\"miR-185\",\"miR-184\",\"miR-182\",\"miR-151a\",\"miR-150\",\"miR-149\",\"miR-146\",\"miR-143\",\"miR-140\",\"miR-138\",\"miR-136\",\"miR-133\",\"miR-1306\",\"miR-129\",\"miR-127\",\"miR-1251\",\"miR-125\",\"miR-1249\",\"miR-122\",\"miR-103/107\",\"miR-10\",\"let-7/miR-98\"],\"yaxis\":\"y7\",\"type\":\"bar\"},{\"alignmentgroup\":\"True\",\"customdata\":[[1,252],[2,252],[1,252],[1,252],[4,252],[4,252],[5,252],[3,252],[1,252],[1,252],[1,252],[1,252],[3,252],[1,252],[34,252],[4,252],[1,252],[1,252],[1,252],[3,252]],\"hovertemplate\":\"mirna_gene_strand_orientation=different<br>type=cCREs without Repeats<br>group=h-dna<br>total_count_rel=%{x}<br>mirna=%{y}<br>total_count=%{customdata[0]}<br>total_group_counts=%{customdata[1]}<extra></extra>\",\"legendgroup\":\"different\",\"marker\":{\"color\":\"royalblue\",\"pattern\":{\"shape\":\"\"}},\"name\":\"different\",\"offsetgroup\":\"different\",\"orientation\":\"h\",\"showlegend\":false,\"textposition\":\"auto\",\"x\":[0.3968253968253968,0.7936507936507936,0.3968253968253968,0.3968253968253968,1.5873015873015872,1.5873015873015872,1.984126984126984,1.1904761904761905,0.3968253968253968,0.3968253968253968,0.3968253968253968,0.3968253968253968,1.1904761904761905,0.3968253968253968,13.492063492063492,1.5873015873015872,0.3968253968253968,0.3968253968253968,0.3968253968253968,1.1904761904761905],\"xaxis\":\"x8\",\"y\":[\"miR-873\",\"miR-744\",\"miR-532\",\"miR-495\",\"miR-491\",\"miR-483\",\"miR-423\",\"miR-339\",\"miR-331\",\"miR-31\",\"miR-28/708\",\"miR-205\",\"miR-204/211\",\"miR-191\",\"miR-185\",\"miR-151a\",\"miR-149\",\"miR-143\",\"miR-133\",\"miR-1306\"],\"yaxis\":\"y8\",\"type\":\"bar\"},{\"alignmentgroup\":\"True\",\"customdata\":[[2,771],[1,771],[5,771],[1,771],[14,771],[3,771],[2,771],[1,771],[14,771],[5,771],[8,771],[1,771],[28,771],[1,771],[1,771],[1,771],[1,771],[1,771],[1,771],[1,771],[1,771],[1,771]],\"hovertemplate\":\"mirna_gene_strand_orientation=different<br>type=Repeats without cCREs<br>group=z-dna<br>total_count_rel=%{x}<br>mirna=%{y}<br>total_count=%{customdata[0]}<br>total_group_counts=%{customdata[1]}<extra></extra>\",\"legendgroup\":\"different\",\"marker\":{\"color\":\"royalblue\",\"pattern\":{\"shape\":\"\"}},\"name\":\"different\",\"offsetgroup\":\"different\",\"orientation\":\"h\",\"showlegend\":false,\"textposition\":\"auto\",\"x\":[0.25940337224383914,0.12970168612191957,0.648508430609598,0.12970168612191957,1.8158236057068744,0.38910505836575876,0.25940337224383914,0.12970168612191957,1.8158236057068744,0.648508430609598,1.0376134889753565,0.12970168612191957,3.631647211413749,0.12970168612191957,0.12970168612191957,0.12970168612191957,0.12970168612191957,0.12970168612191957,0.12970168612191957,0.12970168612191957,0.12970168612191957,0.12970168612191957],\"xaxis\":\"x\",\"y\":[\"miR-539\",\"miR-501/502\",\"miR-493\",\"miR-486\",\"miR-455\",\"miR-448\",\"miR-431\",\"miR-425\",\"miR-377\",\"miR-342\",\"miR-329/362\",\"miR-299\",\"miR-210\",\"miR-187\",\"miR-18\",\"miR-17/20/93/106/519d\",\"miR-153\",\"miR-148/152\",\"miR-147\",\"miR-142\",\"miR-138\",\"miR-129\"],\"yaxis\":\"y\",\"type\":\"bar\"},{\"alignmentgroup\":\"True\",\"customdata\":[[13,8859],[16,8859],[20,8859],[14,8859],[15,8859],[17,8859],[6,8859],[2,8859],[13,8859],[10,8859],[72,8859],[19,8859],[1,8859],[49,8859],[38,8859],[36,8859],[1,8859],[15,8859],[31,8859],[9,8859],[35,8859],[42,8859],[15,8859],[7,8859],[19,8859],[24,8859],[32,8859],[35,8859],[16,8859],[52,8859],[9,8859],[15,8859],[4,8859],[13,8859],[1,8859],[16,8859],[30,8859],[24,8859],[17,8859],[6,8859],[43,8859],[21,8859],[16,8859],[8,8859],[5,8859],[25,8859],[28,8859],[33,8859],[10,8859],[49,8859],[19,8859],[14,8859],[17,8859],[23,8859],[21,8859],[31,8859],[102,8859],[2,8859],[25,8859],[11,8859],[36,8859],[19,8859],[12,8859],[49,8859],[8,8859],[7,8859],[21,8859],[3,8859],[6,8859],[47,8859],[11,8859],[31,8859],[2,8859],[60,8859],[6,8859],[19,8859],[15,8859],[36,8859],[21,8859],[20,8859],[17,8859],[19,8859],[11,8859],[3,8859],[20,8859],[12,8859],[5,8859],[11,8859],[37,8859],[14,8859],[10,8859],[17,8859],[5,8859],[10,8859],[13,8859],[11,8859],[42,8859],[24,8859],[14,8859],[16,8859],[8,8859],[60,8859],[308,8859],[8,8859],[26,8859],[21,8859],[6,8859],[10,8859],[7,8859],[8,8859],[2,8859],[6,8859],[22,8859],[20,8859],[2,8859],[111,8859],[18,8859],[9,8859],[6,8859],[20,8859],[5,8859],[12,8859],[20,8859],[26,8859],[4,8859],[4,8859],[6,8859],[8,8859],[7,8859],[1,8859],[1,8859],[12,8859],[9,8859],[38,8859],[11,8859],[60,8859],[15,8859],[27,8859],[9,8859],[4,8859],[37,8859],[45,8859],[12,8859],[4,8859],[12,8859],[25,8859],[2,8859],[12,8859],[3,8859],[51,8859],[22,8859],[12,8859],[11,8859],[5,8859],[14,8859],[16,8859],[5,8859],[12,8859],[6,8859],[23,8859],[12,8859],[22,8859],[1,8859]],\"hovertemplate\":\"mirna_gene_strand_orientation=different<br>type=Repeats without cCREs<br>group=sidd<br>total_count_rel=%{x}<br>mirna=%{y}<br>total_count=%{customdata[0]}<br>total_group_counts=%{customdata[1]}<extra></extra>\",\"legendgroup\":\"different\",\"marker\":{\"color\":\"royalblue\",\"pattern\":{\"shape\":\"\"}},\"name\":\"different\",\"offsetgroup\":\"different\",\"orientation\":\"h\",\"showlegend\":false,\"textposition\":\"auto\",\"x\":[0.14674342476577493,0.18060729201941528,0.2257591150242691,0.15803138051698837,0.16931933626820184,0.19189524777062872,0.06772773450728073,0.02257591150242691,0.14674342476577493,0.11287955751213455,0.8127328140873687,0.21447115927305566,0.011287955751213455,0.5531098318094593,0.4289423185461113,0.4063664070436844,0.011287955751213455,0.16931933626820184,0.3499266282876171,0.1015916017609211,0.39507845129247093,0.47409414155096513,0.16931933626820184,0.07901569025849418,0.21447115927305566,0.2709109380291229,0.36121458403883056,0.39507845129247093,0.18060729201941528,0.5869736990630997,0.1015916017609211,0.16931933626820184,0.04515182300485382,0.14674342476577493,0.011287955751213455,0.18060729201941528,0.3386386725364037,0.2709109380291229,0.19189524777062872,0.06772773450728073,0.4853820973021786,0.23704707077548257,0.18060729201941528,0.09030364600970764,0.056439778756067274,0.28219889378033636,0.31606276103397674,0.37250253979004405,0.11287955751213455,0.5531098318094593,0.21447115927305566,0.15803138051698837,0.19189524777062872,0.2596229822779095,0.23704707077548257,0.3499266282876171,1.1513714866237725,0.02257591150242691,0.28219889378033636,0.12416751326334802,0.4063664070436844,0.21447115927305566,0.13545546901456146,0.5531098318094593,0.09030364600970764,0.07901569025849418,0.23704707077548257,0.033863867253640365,0.06772773450728073,0.5305339203070324,0.12416751326334802,0.3499266282876171,0.02257591150242691,0.6772773450728073,0.06772773450728073,0.21447115927305566,0.16931933626820184,0.4063664070436844,0.23704707077548257,0.2257591150242691,0.19189524777062872,0.21447115927305566,0.12416751326334802,0.033863867253640365,0.2257591150242691,0.13545546901456146,0.056439778756067274,0.12416751326334802,0.41765436279489787,0.15803138051698837,0.11287955751213455,0.19189524777062872,0.056439778756067274,0.11287955751213455,0.14674342476577493,0.12416751326334802,0.47409414155096513,0.2709109380291229,0.15803138051698837,0.18060729201941528,0.09030364600970764,0.6772773450728073,3.476690371373744,0.09030364600970764,0.29348684953154985,0.23704707077548257,0.06772773450728073,0.11287955751213455,0.07901569025849418,0.09030364600970764,0.02257591150242691,0.06772773450728073,0.24833502652669603,0.2257591150242691,0.02257591150242691,1.2529630883846934,0.2031832035218422,0.1015916017609211,0.06772773450728073,0.2257591150242691,0.056439778756067274,0.13545546901456146,0.2257591150242691,0.29348684953154985,0.04515182300485382,0.04515182300485382,0.06772773450728073,0.09030364600970764,0.07901569025849418,0.011287955751213455,0.011287955751213455,0.13545546901456146,0.1015916017609211,0.4289423185461113,0.12416751326334802,0.6772773450728073,0.16931933626820184,0.3047748052827633,0.1015916017609211,0.04515182300485382,0.41765436279489787,0.5079580088046055,0.13545546901456146,0.04515182300485382,0.13545546901456146,0.28219889378033636,0.02257591150242691,0.13545546901456146,0.033863867253640365,0.5756857433118863,0.24833502652669603,0.13545546901456146,0.12416751326334802,0.056439778756067274,0.15803138051698837,0.18060729201941528,0.056439778756067274,0.13545546901456146,0.06772773450728073,0.2596229822779095,0.13545546901456146,0.24833502652669603,0.011287955751213455],\"xaxis\":\"x2\",\"y\":[\"miR-96/1271\",\"miR-9\",\"miR-876\",\"miR-875\",\"miR-874\",\"miR-873\",\"miR-802\",\"miR-760\",\"miR-758\",\"miR-7\",\"miR-670\",\"miR-668\",\"miR-665\",\"miR-655\",\"miR-653\",\"miR-582\",\"miR-551\",\"miR-544a\",\"miR-543\",\"miR-542\",\"miR-539\",\"miR-532\",\"miR-505\",\"miR-504\",\"miR-501/502\",\"miR-499\",\"miR-496\",\"miR-495\",\"miR-494\",\"miR-493\",\"miR-491\",\"miR-490\",\"miR-489\",\"miR-488\",\"miR-487b\",\"miR-486\",\"miR-483\",\"miR-455\",\"miR-452\",\"miR-450a\",\"miR-448\",\"miR-433\",\"miR-425\",\"miR-423\",\"miR-421\",\"miR-411\",\"miR-410\",\"miR-409\",\"miR-383\",\"miR-382\",\"miR-381\",\"miR-379\",\"miR-378a\",\"miR-377\",\"miR-376c\",\"miR-376ab\",\"miR-374\",\"miR-371\",\"miR-369\",\"miR-365\",\"miR-361\",\"miR-346\",\"miR-342\",\"miR-340\",\"miR-34/449\",\"miR-339\",\"miR-338\",\"miR-335\",\"miR-331\",\"miR-330\",\"miR-33\",\"miR-329/362\",\"miR-328\",\"miR-325\",\"miR-324\",\"miR-323a\",\"miR-31\",\"miR-302c\",\"miR-302abd\",\"miR-30\",\"miR-299\",\"miR-296\",\"miR-29\",\"miR-28/708\",\"miR-27\",\"miR-26\",\"miR-25/32/92/363/367\",\"miR-24\",\"miR-23\",\"miR-224\",\"miR-223\",\"miR-221/222\",\"miR-22\",\"miR-219\",\"miR-218\",\"miR-217\",\"miR-216b\",\"miR-216a\",\"miR-214\",\"miR-21/590\",\"miR-205\",\"miR-204/211\",\"miR-203a\",\"miR-202\",\"miR-200bc/429\",\"miR-199\",\"miR-196\",\"miR-194\",\"miR-193\",\"miR-192/215\",\"miR-191\",\"miR-190\",\"miR-19\",\"miR-188\",\"miR-187\",\"miR-186\",\"miR-185\",\"miR-183\",\"miR-182\",\"miR-181\",\"miR-18\",\"miR-17/20/93/106/519d\",\"miR-155\",\"miR-154\",\"miR-153\",\"miR-151a\",\"miR-150\",\"miR-15/16/195/424/497\",\"miR-149\",\"miR-148/152\",\"miR-147\",\"miR-146\",\"miR-145\",\"miR-144\",\"miR-143\",\"miR-142\",\"miR-141/200a\",\"miR-140\",\"miR-139\",\"miR-138\",\"miR-137\",\"miR-136\",\"miR-135\",\"miR-134\",\"miR-133\",\"miR-132/212\",\"miR-1306\",\"miR-130/301/454\",\"miR-1298\",\"miR-129\",\"miR-128\",\"miR-1251\",\"miR-125\",\"miR-1249\",\"miR-124\",\"miR-122\",\"miR-1197\",\"miR-1193\",\"miR-103/107\",\"miR-101\",\"miR-10\",\"miR-1/206\",\"let-7/miR-98\"],\"yaxis\":\"y2\",\"type\":\"bar\"},{\"alignmentgroup\":\"True\",\"customdata\":[[1,2007],[12,2007],[1,2007],[2,2007],[1,2007],[1,2007],[23,2007],[3,2007],[9,2007],[1,2007],[1,2007],[1,2007],[6,2007],[1,2007],[1,2007],[3,2007],[5,2007],[1,2007],[2,2007],[1,2007],[17,2007],[2,2007],[3,2007],[7,2007],[3,2007],[3,2007],[13,2007],[1,2007],[1,2007],[1,2007],[5,2007],[1,2007],[2,2007],[1,2007],[2,2007],[2,2007],[11,2007],[1,2007],[2,2007],[2,2007]],\"hovertemplate\":\"mirna_gene_strand_orientation=different<br>type=Repeats without cCREs<br>group=g4<br>total_count_rel=%{x}<br>mirna=%{y}<br>total_count=%{customdata[0]}<br>total_group_counts=%{customdata[1]}<extra></extra>\",\"legendgroup\":\"different\",\"marker\":{\"color\":\"royalblue\",\"pattern\":{\"shape\":\"\"}},\"name\":\"different\",\"offsetgroup\":\"different\",\"orientation\":\"h\",\"showlegend\":false,\"textposition\":\"auto\",\"x\":[0.04982561036372695,0.5979073243647235,0.04982561036372695,0.0996512207274539,0.04982561036372695,0.04982561036372695,1.14598903836572,0.14947683109118087,0.4484304932735426,0.04982561036372695,0.04982561036372695,0.04982561036372695,0.29895366218236175,0.04982561036372695,0.04982561036372695,0.14947683109118087,0.2491280518186348,0.04982561036372695,0.0996512207274539,0.04982561036372695,0.8470353761833582,0.0996512207274539,0.14947683109118087,0.3487792725460887,0.14947683109118087,0.14947683109118087,0.6477329347284505,0.04982561036372695,0.04982561036372695,0.04982561036372695,0.2491280518186348,0.04982561036372695,0.0996512207274539,0.04982561036372695,0.0996512207274539,0.0996512207274539,0.5480817140009965,0.04982561036372695,0.0996512207274539,0.0996512207274539],\"xaxis\":\"x3\",\"y\":[\"miR-9\",\"miR-874\",\"miR-873\",\"miR-744\",\"miR-615\",\"miR-551\",\"miR-532\",\"miR-504\",\"miR-491\",\"miR-486\",\"miR-483\",\"miR-455\",\"miR-423\",\"miR-365\",\"miR-346\",\"miR-34/449\",\"miR-339\",\"miR-338\",\"miR-330\",\"miR-329/362\",\"miR-328\",\"miR-324\",\"miR-299\",\"miR-296\",\"miR-204/211\",\"miR-188\",\"miR-185\",\"miR-184\",\"miR-17/20/93/106/519d\",\"miR-154\",\"miR-150\",\"miR-149\",\"miR-140\",\"miR-138\",\"miR-134\",\"miR-133\",\"miR-1306\",\"miR-129\",\"miR-125\",\"miR-122\"],\"yaxis\":\"y3\",\"type\":\"bar\"},{\"alignmentgroup\":\"True\",\"customdata\":[[1,252],[1,252],[5,252],[1,252],[32,252],[2,252],[3,252],[1,252]],\"hovertemplate\":\"mirna_gene_strand_orientation=different<br>type=Repeats without cCREs<br>group=h-dna<br>total_count_rel=%{x}<br>mirna=%{y}<br>total_count=%{customdata[0]}<br>total_group_counts=%{customdata[1]}<extra></extra>\",\"legendgroup\":\"different\",\"marker\":{\"color\":\"royalblue\",\"pattern\":{\"shape\":\"\"}},\"name\":\"different\",\"offsetgroup\":\"different\",\"orientation\":\"h\",\"showlegend\":false,\"textposition\":\"auto\",\"x\":[0.3968253968253968,0.3968253968253968,1.984126984126984,0.3968253968253968,12.698412698412698,0.7936507936507936,1.1904761904761905,0.3968253968253968],\"xaxis\":\"x4\",\"y\":[\"miR-532\",\"miR-491\",\"miR-204/211\",\"miR-186\",\"miR-185\",\"miR-151a\",\"miR-1306\",\"let-7/miR-98\"],\"yaxis\":\"y4\",\"type\":\"bar\"}],                        {\"template\":{\"data\":{\"histogram2dcontour\":[{\"type\":\"histogram2dcontour\",\"colorbar\":{\"outlinewidth\":0,\"ticks\":\"\"},\"colorscale\":[[0.0,\"#0d0887\"],[0.1111111111111111,\"#46039f\"],[0.2222222222222222,\"#7201a8\"],[0.3333333333333333,\"#9c179e\"],[0.4444444444444444,\"#bd3786\"],[0.5555555555555556,\"#d8576b\"],[0.6666666666666666,\"#ed7953\"],[0.7777777777777778,\"#fb9f3a\"],[0.8888888888888888,\"#fdca26\"],[1.0,\"#f0f921\"]]}],\"choropleth\":[{\"type\":\"choropleth\",\"colorbar\":{\"outlinewidth\":0,\"ticks\":\"\"}}],\"histogram2d\":[{\"type\":\"histogram2d\",\"colorbar\":{\"outlinewidth\":0,\"ticks\":\"\"},\"colorscale\":[[0.0,\"#0d0887\"],[0.1111111111111111,\"#46039f\"],[0.2222222222222222,\"#7201a8\"],[0.3333333333333333,\"#9c179e\"],[0.4444444444444444,\"#bd3786\"],[0.5555555555555556,\"#d8576b\"],[0.6666666666666666,\"#ed7953\"],[0.7777777777777778,\"#fb9f3a\"],[0.8888888888888888,\"#fdca26\"],[1.0,\"#f0f921\"]]}],\"heatmap\":[{\"type\":\"heatmap\",\"colorbar\":{\"outlinewidth\":0,\"ticks\":\"\"},\"colorscale\":[[0.0,\"#0d0887\"],[0.1111111111111111,\"#46039f\"],[0.2222222222222222,\"#7201a8\"],[0.3333333333333333,\"#9c179e\"],[0.4444444444444444,\"#bd3786\"],[0.5555555555555556,\"#d8576b\"],[0.6666666666666666,\"#ed7953\"],[0.7777777777777778,\"#fb9f3a\"],[0.8888888888888888,\"#fdca26\"],[1.0,\"#f0f921\"]]}],\"heatmapgl\":[{\"type\":\"heatmapgl\",\"colorbar\":{\"outlinewidth\":0,\"ticks\":\"\"},\"colorscale\":[[0.0,\"#0d0887\"],[0.1111111111111111,\"#46039f\"],[0.2222222222222222,\"#7201a8\"],[0.3333333333333333,\"#9c179e\"],[0.4444444444444444,\"#bd3786\"],[0.5555555555555556,\"#d8576b\"],[0.6666666666666666,\"#ed7953\"],[0.7777777777777778,\"#fb9f3a\"],[0.8888888888888888,\"#fdca26\"],[1.0,\"#f0f921\"]]}],\"contourcarpet\":[{\"type\":\"contourcarpet\",\"colorbar\":{\"outlinewidth\":0,\"ticks\":\"\"}}],\"contour\":[{\"type\":\"contour\",\"colorbar\":{\"outlinewidth\":0,\"ticks\":\"\"},\"colorscale\":[[0.0,\"#0d0887\"],[0.1111111111111111,\"#46039f\"],[0.2222222222222222,\"#7201a8\"],[0.3333333333333333,\"#9c179e\"],[0.4444444444444444,\"#bd3786\"],[0.5555555555555556,\"#d8576b\"],[0.6666666666666666,\"#ed7953\"],[0.7777777777777778,\"#fb9f3a\"],[0.8888888888888888,\"#fdca26\"],[1.0,\"#f0f921\"]]}],\"surface\":[{\"type\":\"surface\",\"colorbar\":{\"outlinewidth\":0,\"ticks\":\"\"},\"colorscale\":[[0.0,\"#0d0887\"],[0.1111111111111111,\"#46039f\"],[0.2222222222222222,\"#7201a8\"],[0.3333333333333333,\"#9c179e\"],[0.4444444444444444,\"#bd3786\"],[0.5555555555555556,\"#d8576b\"],[0.6666666666666666,\"#ed7953\"],[0.7777777777777778,\"#fb9f3a\"],[0.8888888888888888,\"#fdca26\"],[1.0,\"#f0f921\"]]}],\"mesh3d\":[{\"type\":\"mesh3d\",\"colorbar\":{\"outlinewidth\":0,\"ticks\":\"\"}}],\"scatter\":[{\"fillpattern\":{\"fillmode\":\"overlay\",\"size\":10,\"solidity\":0.2},\"type\":\"scatter\"}],\"parcoords\":[{\"type\":\"parcoords\",\"line\":{\"colorbar\":{\"outlinewidth\":0,\"ticks\":\"\"}}}],\"scatterpolargl\":[{\"type\":\"scatterpolargl\",\"marker\":{\"colorbar\":{\"outlinewidth\":0,\"ticks\":\"\"}}}],\"bar\":[{\"error_x\":{\"color\":\"#2a3f5f\"},\"error_y\":{\"color\":\"#2a3f5f\"},\"marker\":{\"line\":{\"color\":\"#E5ECF6\",\"width\":0.5},\"pattern\":{\"fillmode\":\"overlay\",\"size\":10,\"solidity\":0.2}},\"type\":\"bar\"}],\"scattergeo\":[{\"type\":\"scattergeo\",\"marker\":{\"colorbar\":{\"outlinewidth\":0,\"ticks\":\"\"}}}],\"scatterpolar\":[{\"type\":\"scatterpolar\",\"marker\":{\"colorbar\":{\"outlinewidth\":0,\"ticks\":\"\"}}}],\"histogram\":[{\"marker\":{\"pattern\":{\"fillmode\":\"overlay\",\"size\":10,\"solidity\":0.2}},\"type\":\"histogram\"}],\"scattergl\":[{\"type\":\"scattergl\",\"marker\":{\"colorbar\":{\"outlinewidth\":0,\"ticks\":\"\"}}}],\"scatter3d\":[{\"type\":\"scatter3d\",\"line\":{\"colorbar\":{\"outlinewidth\":0,\"ticks\":\"\"}},\"marker\":{\"colorbar\":{\"outlinewidth\":0,\"ticks\":\"\"}}}],\"scattermapbox\":[{\"type\":\"scattermapbox\",\"marker\":{\"colorbar\":{\"outlinewidth\":0,\"ticks\":\"\"}}}],\"scatterternary\":[{\"type\":\"scatterternary\",\"marker\":{\"colorbar\":{\"outlinewidth\":0,\"ticks\":\"\"}}}],\"scattercarpet\":[{\"type\":\"scattercarpet\",\"marker\":{\"colorbar\":{\"outlinewidth\":0,\"ticks\":\"\"}}}],\"carpet\":[{\"aaxis\":{\"endlinecolor\":\"#2a3f5f\",\"gridcolor\":\"white\",\"linecolor\":\"white\",\"minorgridcolor\":\"white\",\"startlinecolor\":\"#2a3f5f\"},\"baxis\":{\"endlinecolor\":\"#2a3f5f\",\"gridcolor\":\"white\",\"linecolor\":\"white\",\"minorgridcolor\":\"white\",\"startlinecolor\":\"#2a3f5f\"},\"type\":\"carpet\"}],\"table\":[{\"cells\":{\"fill\":{\"color\":\"#EBF0F8\"},\"line\":{\"color\":\"white\"}},\"header\":{\"fill\":{\"color\":\"#C8D4E3\"},\"line\":{\"color\":\"white\"}},\"type\":\"table\"}],\"barpolar\":[{\"marker\":{\"line\":{\"color\":\"#E5ECF6\",\"width\":0.5},\"pattern\":{\"fillmode\":\"overlay\",\"size\":10,\"solidity\":0.2}},\"type\":\"barpolar\"}],\"pie\":[{\"automargin\":true,\"type\":\"pie\"}]},\"layout\":{\"autotypenumbers\":\"strict\",\"colorway\":[\"#636efa\",\"#EF553B\",\"#00cc96\",\"#ab63fa\",\"#FFA15A\",\"#19d3f3\",\"#FF6692\",\"#B6E880\",\"#FF97FF\",\"#FECB52\"],\"font\":{\"color\":\"#2a3f5f\"},\"hovermode\":\"closest\",\"hoverlabel\":{\"align\":\"left\"},\"paper_bgcolor\":\"white\",\"plot_bgcolor\":\"#E5ECF6\",\"polar\":{\"bgcolor\":\"#E5ECF6\",\"angularaxis\":{\"gridcolor\":\"white\",\"linecolor\":\"white\",\"ticks\":\"\"},\"radialaxis\":{\"gridcolor\":\"white\",\"linecolor\":\"white\",\"ticks\":\"\"}},\"ternary\":{\"bgcolor\":\"#E5ECF6\",\"aaxis\":{\"gridcolor\":\"white\",\"linecolor\":\"white\",\"ticks\":\"\"},\"baxis\":{\"gridcolor\":\"white\",\"linecolor\":\"white\",\"ticks\":\"\"},\"caxis\":{\"gridcolor\":\"white\",\"linecolor\":\"white\",\"ticks\":\"\"}},\"coloraxis\":{\"colorbar\":{\"outlinewidth\":0,\"ticks\":\"\"}},\"colorscale\":{\"sequential\":[[0.0,\"#0d0887\"],[0.1111111111111111,\"#46039f\"],[0.2222222222222222,\"#7201a8\"],[0.3333333333333333,\"#9c179e\"],[0.4444444444444444,\"#bd3786\"],[0.5555555555555556,\"#d8576b\"],[0.6666666666666666,\"#ed7953\"],[0.7777777777777778,\"#fb9f3a\"],[0.8888888888888888,\"#fdca26\"],[1.0,\"#f0f921\"]],\"sequentialminus\":[[0.0,\"#0d0887\"],[0.1111111111111111,\"#46039f\"],[0.2222222222222222,\"#7201a8\"],[0.3333333333333333,\"#9c179e\"],[0.4444444444444444,\"#bd3786\"],[0.5555555555555556,\"#d8576b\"],[0.6666666666666666,\"#ed7953\"],[0.7777777777777778,\"#fb9f3a\"],[0.8888888888888888,\"#fdca26\"],[1.0,\"#f0f921\"]],\"diverging\":[[0,\"#8e0152\"],[0.1,\"#c51b7d\"],[0.2,\"#de77ae\"],[0.3,\"#f1b6da\"],[0.4,\"#fde0ef\"],[0.5,\"#f7f7f7\"],[0.6,\"#e6f5d0\"],[0.7,\"#b8e186\"],[0.8,\"#7fbc41\"],[0.9,\"#4d9221\"],[1,\"#276419\"]]},\"xaxis\":{\"gridcolor\":\"white\",\"linecolor\":\"white\",\"ticks\":\"\",\"title\":{\"standoff\":15},\"zerolinecolor\":\"white\",\"automargin\":true,\"zerolinewidth\":2},\"yaxis\":{\"gridcolor\":\"white\",\"linecolor\":\"white\",\"ticks\":\"\",\"title\":{\"standoff\":15},\"zerolinecolor\":\"white\",\"automargin\":true,\"zerolinewidth\":2},\"scene\":{\"xaxis\":{\"backgroundcolor\":\"#E5ECF6\",\"gridcolor\":\"white\",\"linecolor\":\"white\",\"showbackground\":true,\"ticks\":\"\",\"zerolinecolor\":\"white\",\"gridwidth\":2},\"yaxis\":{\"backgroundcolor\":\"#E5ECF6\",\"gridcolor\":\"white\",\"linecolor\":\"white\",\"showbackground\":true,\"ticks\":\"\",\"zerolinecolor\":\"white\",\"gridwidth\":2},\"zaxis\":{\"backgroundcolor\":\"#E5ECF6\",\"gridcolor\":\"white\",\"linecolor\":\"white\",\"showbackground\":true,\"ticks\":\"\",\"zerolinecolor\":\"white\",\"gridwidth\":2}},\"shapedefaults\":{\"line\":{\"color\":\"#2a3f5f\"}},\"annotationdefaults\":{\"arrowcolor\":\"#2a3f5f\",\"arrowhead\":0,\"arrowwidth\":1},\"geo\":{\"bgcolor\":\"white\",\"landcolor\":\"#E5ECF6\",\"subunitcolor\":\"white\",\"showland\":true,\"showlakes\":true,\"lakecolor\":\"white\"},\"title\":{\"x\":0.05},\"mapbox\":{\"style\":\"light\"}}},\"xaxis\":{\"anchor\":\"y\",\"domain\":[0.0,0.22999999999999998],\"title\":{\"text\":\"total_count_rel\"}},\"yaxis\":{\"anchor\":\"x\",\"domain\":[0.0,0.485],\"title\":{\"text\":\"mirna\"},\"categoryorder\":\"array\",\"categoryarray\":[\"miR-99/100\",\"miR-96/1271\",\"miR-9\",\"miR-876\",\"miR-875\",\"miR-874\",\"miR-873\",\"miR-802\",\"miR-760\",\"miR-758\",\"miR-744\",\"miR-7\",\"miR-670\",\"miR-668\",\"miR-665\",\"miR-655\",\"miR-653\",\"miR-652\",\"miR-615\",\"miR-582\",\"miR-551\",\"miR-544a\",\"miR-543\",\"miR-542\",\"miR-539\",\"miR-532\",\"miR-505\",\"miR-504\",\"miR-503\",\"miR-501/502\",\"miR-499\",\"miR-496\",\"miR-495\",\"miR-494\",\"miR-493\",\"miR-491\",\"miR-490\",\"miR-489\",\"miR-488\",\"miR-487b\",\"miR-486\",\"miR-485\",\"miR-483\",\"miR-455\",\"miR-452\",\"miR-450a\",\"miR-448\",\"miR-433\",\"miR-431\",\"miR-425\",\"miR-423\",\"miR-421\",\"miR-412\",\"miR-411\",\"miR-410\",\"miR-409\",\"miR-383\",\"miR-382\",\"miR-381\",\"miR-379\",\"miR-378a\",\"miR-377\",\"miR-376c\",\"miR-376ab\",\"miR-375\",\"miR-374\",\"miR-371\",\"miR-369\",\"miR-365\",\"miR-361\",\"miR-346\",\"miR-342\",\"miR-340\",\"miR-34/449\",\"miR-339\",\"miR-338\",\"miR-335\",\"miR-331\",\"miR-330\",\"miR-33\",\"miR-329/362\",\"miR-328\",\"miR-325\",\"miR-324\",\"miR-323a\",\"miR-31\",\"miR-302c\",\"miR-302abd\",\"miR-30\",\"miR-299\",\"miR-296\",\"miR-29\",\"miR-28/708\",\"miR-27\",\"miR-26\",\"miR-25/32/92/363/367\",\"miR-24\",\"miR-23\",\"miR-224\",\"miR-223\",\"miR-221/222\",\"miR-22\",\"miR-219\",\"miR-218\",\"miR-217\",\"miR-216b\",\"miR-216a\",\"miR-214\",\"miR-210\",\"miR-21/590\",\"miR-208\",\"miR-205\",\"miR-204/211\",\"miR-203a\",\"miR-202\",\"miR-200bc/429\",\"miR-199\",\"miR-196\",\"miR-194\",\"miR-193\",\"miR-192/215\",\"miR-191\",\"miR-190\",\"miR-19\",\"miR-188\",\"miR-187\",\"miR-186\",\"miR-185\",\"miR-184\",\"miR-183\",\"miR-182\",\"miR-181\",\"miR-18\",\"miR-17/20/93/106/519d\",\"miR-155\",\"miR-154\",\"miR-153\",\"miR-151a\",\"miR-150\",\"miR-15/16/195/424/497\",\"miR-149\",\"miR-148/152\",\"miR-147\",\"miR-146\",\"miR-145\",\"miR-144\",\"miR-143\",\"miR-142\",\"miR-141/200a\",\"miR-140\",\"miR-139\",\"miR-138\",\"miR-137\",\"miR-136\",\"miR-135\",\"miR-134\",\"miR-133\",\"miR-132/212\",\"miR-1306\",\"miR-130/301/454\",\"miR-1298\",\"miR-129\",\"miR-128\",\"miR-127\",\"miR-126\",\"miR-1251\",\"miR-125\",\"miR-1249\",\"miR-124\",\"miR-122\",\"miR-1197\",\"miR-1193\",\"miR-103/107\",\"miR-101\",\"miR-10\",\"miR-1/206\",\"let-7/miR-98\"]},\"xaxis2\":{\"anchor\":\"y2\",\"domain\":[0.24999999999999997,0.48],\"matches\":\"x\",\"title\":{\"text\":\"total_count_rel\"}},\"yaxis2\":{\"anchor\":\"x2\",\"domain\":[0.0,0.485],\"matches\":\"y\",\"showticklabels\":false,\"categoryorder\":\"array\",\"categoryarray\":[\"miR-99/100\",\"miR-96/1271\",\"miR-9\",\"miR-876\",\"miR-875\",\"miR-874\",\"miR-873\",\"miR-802\",\"miR-760\",\"miR-758\",\"miR-744\",\"miR-7\",\"miR-670\",\"miR-668\",\"miR-665\",\"miR-655\",\"miR-653\",\"miR-652\",\"miR-615\",\"miR-582\",\"miR-551\",\"miR-544a\",\"miR-543\",\"miR-542\",\"miR-539\",\"miR-532\",\"miR-505\",\"miR-504\",\"miR-503\",\"miR-501/502\",\"miR-499\",\"miR-496\",\"miR-495\",\"miR-494\",\"miR-493\",\"miR-491\",\"miR-490\",\"miR-489\",\"miR-488\",\"miR-487b\",\"miR-486\",\"miR-485\",\"miR-483\",\"miR-455\",\"miR-452\",\"miR-450a\",\"miR-448\",\"miR-433\",\"miR-431\",\"miR-425\",\"miR-423\",\"miR-421\",\"miR-412\",\"miR-411\",\"miR-410\",\"miR-409\",\"miR-383\",\"miR-382\",\"miR-381\",\"miR-379\",\"miR-378a\",\"miR-377\",\"miR-376c\",\"miR-376ab\",\"miR-375\",\"miR-374\",\"miR-371\",\"miR-369\",\"miR-365\",\"miR-361\",\"miR-346\",\"miR-342\",\"miR-340\",\"miR-34/449\",\"miR-339\",\"miR-338\",\"miR-335\",\"miR-331\",\"miR-330\",\"miR-33\",\"miR-329/362\",\"miR-328\",\"miR-325\",\"miR-324\",\"miR-323a\",\"miR-31\",\"miR-302c\",\"miR-302abd\",\"miR-30\",\"miR-299\",\"miR-296\",\"miR-29\",\"miR-28/708\",\"miR-27\",\"miR-26\",\"miR-25/32/92/363/367\",\"miR-24\",\"miR-23\",\"miR-224\",\"miR-223\",\"miR-221/222\",\"miR-22\",\"miR-219\",\"miR-218\",\"miR-217\",\"miR-216b\",\"miR-216a\",\"miR-214\",\"miR-210\",\"miR-21/590\",\"miR-208\",\"miR-205\",\"miR-204/211\",\"miR-203a\",\"miR-202\",\"miR-200bc/429\",\"miR-199\",\"miR-196\",\"miR-194\",\"miR-193\",\"miR-192/215\",\"miR-191\",\"miR-190\",\"miR-19\",\"miR-188\",\"miR-187\",\"miR-186\",\"miR-185\",\"miR-184\",\"miR-183\",\"miR-182\",\"miR-181\",\"miR-18\",\"miR-17/20/93/106/519d\",\"miR-155\",\"miR-154\",\"miR-153\",\"miR-151a\",\"miR-150\",\"miR-15/16/195/424/497\",\"miR-149\",\"miR-148/152\",\"miR-147\",\"miR-146\",\"miR-145\",\"miR-144\",\"miR-143\",\"miR-142\",\"miR-141/200a\",\"miR-140\",\"miR-139\",\"miR-138\",\"miR-137\",\"miR-136\",\"miR-135\",\"miR-134\",\"miR-133\",\"miR-132/212\",\"miR-1306\",\"miR-130/301/454\",\"miR-1298\",\"miR-129\",\"miR-128\",\"miR-127\",\"miR-126\",\"miR-1251\",\"miR-125\",\"miR-1249\",\"miR-124\",\"miR-122\",\"miR-1197\",\"miR-1193\",\"miR-103/107\",\"miR-101\",\"miR-10\",\"miR-1/206\",\"let-7/miR-98\"]},\"xaxis3\":{\"anchor\":\"y3\",\"domain\":[0.49999999999999994,0.73],\"matches\":\"x\",\"title\":{\"text\":\"total_count_rel\"}},\"yaxis3\":{\"anchor\":\"x3\",\"domain\":[0.0,0.485],\"matches\":\"y\",\"showticklabels\":false,\"categoryorder\":\"array\",\"categoryarray\":[\"miR-99/100\",\"miR-96/1271\",\"miR-9\",\"miR-876\",\"miR-875\",\"miR-874\",\"miR-873\",\"miR-802\",\"miR-760\",\"miR-758\",\"miR-744\",\"miR-7\",\"miR-670\",\"miR-668\",\"miR-665\",\"miR-655\",\"miR-653\",\"miR-652\",\"miR-615\",\"miR-582\",\"miR-551\",\"miR-544a\",\"miR-543\",\"miR-542\",\"miR-539\",\"miR-532\",\"miR-505\",\"miR-504\",\"miR-503\",\"miR-501/502\",\"miR-499\",\"miR-496\",\"miR-495\",\"miR-494\",\"miR-493\",\"miR-491\",\"miR-490\",\"miR-489\",\"miR-488\",\"miR-487b\",\"miR-486\",\"miR-485\",\"miR-483\",\"miR-455\",\"miR-452\",\"miR-450a\",\"miR-448\",\"miR-433\",\"miR-431\",\"miR-425\",\"miR-423\",\"miR-421\",\"miR-412\",\"miR-411\",\"miR-410\",\"miR-409\",\"miR-383\",\"miR-382\",\"miR-381\",\"miR-379\",\"miR-378a\",\"miR-377\",\"miR-376c\",\"miR-376ab\",\"miR-375\",\"miR-374\",\"miR-371\",\"miR-369\",\"miR-365\",\"miR-361\",\"miR-346\",\"miR-342\",\"miR-340\",\"miR-34/449\",\"miR-339\",\"miR-338\",\"miR-335\",\"miR-331\",\"miR-330\",\"miR-33\",\"miR-329/362\",\"miR-328\",\"miR-325\",\"miR-324\",\"miR-323a\",\"miR-31\",\"miR-302c\",\"miR-302abd\",\"miR-30\",\"miR-299\",\"miR-296\",\"miR-29\",\"miR-28/708\",\"miR-27\",\"miR-26\",\"miR-25/32/92/363/367\",\"miR-24\",\"miR-23\",\"miR-224\",\"miR-223\",\"miR-221/222\",\"miR-22\",\"miR-219\",\"miR-218\",\"miR-217\",\"miR-216b\",\"miR-216a\",\"miR-214\",\"miR-210\",\"miR-21/590\",\"miR-208\",\"miR-205\",\"miR-204/211\",\"miR-203a\",\"miR-202\",\"miR-200bc/429\",\"miR-199\",\"miR-196\",\"miR-194\",\"miR-193\",\"miR-192/215\",\"miR-191\",\"miR-190\",\"miR-19\",\"miR-188\",\"miR-187\",\"miR-186\",\"miR-185\",\"miR-184\",\"miR-183\",\"miR-182\",\"miR-181\",\"miR-18\",\"miR-17/20/93/106/519d\",\"miR-155\",\"miR-154\",\"miR-153\",\"miR-151a\",\"miR-150\",\"miR-15/16/195/424/497\",\"miR-149\",\"miR-148/152\",\"miR-147\",\"miR-146\",\"miR-145\",\"miR-144\",\"miR-143\",\"miR-142\",\"miR-141/200a\",\"miR-140\",\"miR-139\",\"miR-138\",\"miR-137\",\"miR-136\",\"miR-135\",\"miR-134\",\"miR-133\",\"miR-132/212\",\"miR-1306\",\"miR-130/301/454\",\"miR-1298\",\"miR-129\",\"miR-128\",\"miR-127\",\"miR-126\",\"miR-1251\",\"miR-125\",\"miR-1249\",\"miR-124\",\"miR-122\",\"miR-1197\",\"miR-1193\",\"miR-103/107\",\"miR-101\",\"miR-10\",\"miR-1/206\",\"let-7/miR-98\"]},\"xaxis4\":{\"anchor\":\"y4\",\"domain\":[0.75,0.98],\"matches\":\"x\",\"title\":{\"text\":\"total_count_rel\"}},\"yaxis4\":{\"anchor\":\"x4\",\"domain\":[0.0,0.485],\"matches\":\"y\",\"showticklabels\":false,\"categoryorder\":\"array\",\"categoryarray\":[\"miR-99/100\",\"miR-96/1271\",\"miR-9\",\"miR-876\",\"miR-875\",\"miR-874\",\"miR-873\",\"miR-802\",\"miR-760\",\"miR-758\",\"miR-744\",\"miR-7\",\"miR-670\",\"miR-668\",\"miR-665\",\"miR-655\",\"miR-653\",\"miR-652\",\"miR-615\",\"miR-582\",\"miR-551\",\"miR-544a\",\"miR-543\",\"miR-542\",\"miR-539\",\"miR-532\",\"miR-505\",\"miR-504\",\"miR-503\",\"miR-501/502\",\"miR-499\",\"miR-496\",\"miR-495\",\"miR-494\",\"miR-493\",\"miR-491\",\"miR-490\",\"miR-489\",\"miR-488\",\"miR-487b\",\"miR-486\",\"miR-485\",\"miR-483\",\"miR-455\",\"miR-452\",\"miR-450a\",\"miR-448\",\"miR-433\",\"miR-431\",\"miR-425\",\"miR-423\",\"miR-421\",\"miR-412\",\"miR-411\",\"miR-410\",\"miR-409\",\"miR-383\",\"miR-382\",\"miR-381\",\"miR-379\",\"miR-378a\",\"miR-377\",\"miR-376c\",\"miR-376ab\",\"miR-375\",\"miR-374\",\"miR-371\",\"miR-369\",\"miR-365\",\"miR-361\",\"miR-346\",\"miR-342\",\"miR-340\",\"miR-34/449\",\"miR-339\",\"miR-338\",\"miR-335\",\"miR-331\",\"miR-330\",\"miR-33\",\"miR-329/362\",\"miR-328\",\"miR-325\",\"miR-324\",\"miR-323a\",\"miR-31\",\"miR-302c\",\"miR-302abd\",\"miR-30\",\"miR-299\",\"miR-296\",\"miR-29\",\"miR-28/708\",\"miR-27\",\"miR-26\",\"miR-25/32/92/363/367\",\"miR-24\",\"miR-23\",\"miR-224\",\"miR-223\",\"miR-221/222\",\"miR-22\",\"miR-219\",\"miR-218\",\"miR-217\",\"miR-216b\",\"miR-216a\",\"miR-214\",\"miR-210\",\"miR-21/590\",\"miR-208\",\"miR-205\",\"miR-204/211\",\"miR-203a\",\"miR-202\",\"miR-200bc/429\",\"miR-199\",\"miR-196\",\"miR-194\",\"miR-193\",\"miR-192/215\",\"miR-191\",\"miR-190\",\"miR-19\",\"miR-188\",\"miR-187\",\"miR-186\",\"miR-185\",\"miR-184\",\"miR-183\",\"miR-182\",\"miR-181\",\"miR-18\",\"miR-17/20/93/106/519d\",\"miR-155\",\"miR-154\",\"miR-153\",\"miR-151a\",\"miR-150\",\"miR-15/16/195/424/497\",\"miR-149\",\"miR-148/152\",\"miR-147\",\"miR-146\",\"miR-145\",\"miR-144\",\"miR-143\",\"miR-142\",\"miR-141/200a\",\"miR-140\",\"miR-139\",\"miR-138\",\"miR-137\",\"miR-136\",\"miR-135\",\"miR-134\",\"miR-133\",\"miR-132/212\",\"miR-1306\",\"miR-130/301/454\",\"miR-1298\",\"miR-129\",\"miR-128\",\"miR-127\",\"miR-126\",\"miR-1251\",\"miR-125\",\"miR-1249\",\"miR-124\",\"miR-122\",\"miR-1197\",\"miR-1193\",\"miR-103/107\",\"miR-101\",\"miR-10\",\"miR-1/206\",\"let-7/miR-98\"]},\"xaxis5\":{\"anchor\":\"y5\",\"domain\":[0.0,0.22999999999999998],\"matches\":\"x\",\"showticklabels\":false},\"yaxis5\":{\"anchor\":\"x5\",\"domain\":[0.515,1.0],\"matches\":\"y\",\"title\":{\"text\":\"mirna\"},\"categoryorder\":\"array\",\"categoryarray\":[\"miR-99/100\",\"miR-96/1271\",\"miR-9\",\"miR-876\",\"miR-875\",\"miR-874\",\"miR-873\",\"miR-802\",\"miR-760\",\"miR-758\",\"miR-744\",\"miR-7\",\"miR-670\",\"miR-668\",\"miR-665\",\"miR-655\",\"miR-653\",\"miR-652\",\"miR-615\",\"miR-582\",\"miR-551\",\"miR-544a\",\"miR-543\",\"miR-542\",\"miR-539\",\"miR-532\",\"miR-505\",\"miR-504\",\"miR-503\",\"miR-501/502\",\"miR-499\",\"miR-496\",\"miR-495\",\"miR-494\",\"miR-493\",\"miR-491\",\"miR-490\",\"miR-489\",\"miR-488\",\"miR-487b\",\"miR-486\",\"miR-485\",\"miR-483\",\"miR-455\",\"miR-452\",\"miR-450a\",\"miR-448\",\"miR-433\",\"miR-431\",\"miR-425\",\"miR-423\",\"miR-421\",\"miR-412\",\"miR-411\",\"miR-410\",\"miR-409\",\"miR-383\",\"miR-382\",\"miR-381\",\"miR-379\",\"miR-378a\",\"miR-377\",\"miR-376c\",\"miR-376ab\",\"miR-375\",\"miR-374\",\"miR-371\",\"miR-369\",\"miR-365\",\"miR-361\",\"miR-346\",\"miR-342\",\"miR-340\",\"miR-34/449\",\"miR-339\",\"miR-338\",\"miR-335\",\"miR-331\",\"miR-330\",\"miR-33\",\"miR-329/362\",\"miR-328\",\"miR-325\",\"miR-324\",\"miR-323a\",\"miR-31\",\"miR-302c\",\"miR-302abd\",\"miR-30\",\"miR-299\",\"miR-296\",\"miR-29\",\"miR-28/708\",\"miR-27\",\"miR-26\",\"miR-25/32/92/363/367\",\"miR-24\",\"miR-23\",\"miR-224\",\"miR-223\",\"miR-221/222\",\"miR-22\",\"miR-219\",\"miR-218\",\"miR-217\",\"miR-216b\",\"miR-216a\",\"miR-214\",\"miR-210\",\"miR-21/590\",\"miR-208\",\"miR-205\",\"miR-204/211\",\"miR-203a\",\"miR-202\",\"miR-200bc/429\",\"miR-199\",\"miR-196\",\"miR-194\",\"miR-193\",\"miR-192/215\",\"miR-191\",\"miR-190\",\"miR-19\",\"miR-188\",\"miR-187\",\"miR-186\",\"miR-185\",\"miR-184\",\"miR-183\",\"miR-182\",\"miR-181\",\"miR-18\",\"miR-17/20/93/106/519d\",\"miR-155\",\"miR-154\",\"miR-153\",\"miR-151a\",\"miR-150\",\"miR-15/16/195/424/497\",\"miR-149\",\"miR-148/152\",\"miR-147\",\"miR-146\",\"miR-145\",\"miR-144\",\"miR-143\",\"miR-142\",\"miR-141/200a\",\"miR-140\",\"miR-139\",\"miR-138\",\"miR-137\",\"miR-136\",\"miR-135\",\"miR-134\",\"miR-133\",\"miR-132/212\",\"miR-1306\",\"miR-130/301/454\",\"miR-1298\",\"miR-129\",\"miR-128\",\"miR-127\",\"miR-126\",\"miR-1251\",\"miR-125\",\"miR-1249\",\"miR-124\",\"miR-122\",\"miR-1197\",\"miR-1193\",\"miR-103/107\",\"miR-101\",\"miR-10\",\"miR-1/206\",\"let-7/miR-98\"]},\"xaxis6\":{\"anchor\":\"y6\",\"domain\":[0.24999999999999997,0.48],\"matches\":\"x\",\"showticklabels\":false},\"yaxis6\":{\"anchor\":\"x6\",\"domain\":[0.515,1.0],\"matches\":\"y\",\"showticklabels\":false,\"categoryorder\":\"array\",\"categoryarray\":[\"miR-99/100\",\"miR-96/1271\",\"miR-9\",\"miR-876\",\"miR-875\",\"miR-874\",\"miR-873\",\"miR-802\",\"miR-760\",\"miR-758\",\"miR-744\",\"miR-7\",\"miR-670\",\"miR-668\",\"miR-665\",\"miR-655\",\"miR-653\",\"miR-652\",\"miR-615\",\"miR-582\",\"miR-551\",\"miR-544a\",\"miR-543\",\"miR-542\",\"miR-539\",\"miR-532\",\"miR-505\",\"miR-504\",\"miR-503\",\"miR-501/502\",\"miR-499\",\"miR-496\",\"miR-495\",\"miR-494\",\"miR-493\",\"miR-491\",\"miR-490\",\"miR-489\",\"miR-488\",\"miR-487b\",\"miR-486\",\"miR-485\",\"miR-483\",\"miR-455\",\"miR-452\",\"miR-450a\",\"miR-448\",\"miR-433\",\"miR-431\",\"miR-425\",\"miR-423\",\"miR-421\",\"miR-412\",\"miR-411\",\"miR-410\",\"miR-409\",\"miR-383\",\"miR-382\",\"miR-381\",\"miR-379\",\"miR-378a\",\"miR-377\",\"miR-376c\",\"miR-376ab\",\"miR-375\",\"miR-374\",\"miR-371\",\"miR-369\",\"miR-365\",\"miR-361\",\"miR-346\",\"miR-342\",\"miR-340\",\"miR-34/449\",\"miR-339\",\"miR-338\",\"miR-335\",\"miR-331\",\"miR-330\",\"miR-33\",\"miR-329/362\",\"miR-328\",\"miR-325\",\"miR-324\",\"miR-323a\",\"miR-31\",\"miR-302c\",\"miR-302abd\",\"miR-30\",\"miR-299\",\"miR-296\",\"miR-29\",\"miR-28/708\",\"miR-27\",\"miR-26\",\"miR-25/32/92/363/367\",\"miR-24\",\"miR-23\",\"miR-224\",\"miR-223\",\"miR-221/222\",\"miR-22\",\"miR-219\",\"miR-218\",\"miR-217\",\"miR-216b\",\"miR-216a\",\"miR-214\",\"miR-210\",\"miR-21/590\",\"miR-208\",\"miR-205\",\"miR-204/211\",\"miR-203a\",\"miR-202\",\"miR-200bc/429\",\"miR-199\",\"miR-196\",\"miR-194\",\"miR-193\",\"miR-192/215\",\"miR-191\",\"miR-190\",\"miR-19\",\"miR-188\",\"miR-187\",\"miR-186\",\"miR-185\",\"miR-184\",\"miR-183\",\"miR-182\",\"miR-181\",\"miR-18\",\"miR-17/20/93/106/519d\",\"miR-155\",\"miR-154\",\"miR-153\",\"miR-151a\",\"miR-150\",\"miR-15/16/195/424/497\",\"miR-149\",\"miR-148/152\",\"miR-147\",\"miR-146\",\"miR-145\",\"miR-144\",\"miR-143\",\"miR-142\",\"miR-141/200a\",\"miR-140\",\"miR-139\",\"miR-138\",\"miR-137\",\"miR-136\",\"miR-135\",\"miR-134\",\"miR-133\",\"miR-132/212\",\"miR-1306\",\"miR-130/301/454\",\"miR-1298\",\"miR-129\",\"miR-128\",\"miR-127\",\"miR-126\",\"miR-1251\",\"miR-125\",\"miR-1249\",\"miR-124\",\"miR-122\",\"miR-1197\",\"miR-1193\",\"miR-103/107\",\"miR-101\",\"miR-10\",\"miR-1/206\",\"let-7/miR-98\"]},\"xaxis7\":{\"anchor\":\"y7\",\"domain\":[0.49999999999999994,0.73],\"matches\":\"x\",\"showticklabels\":false},\"yaxis7\":{\"anchor\":\"x7\",\"domain\":[0.515,1.0],\"matches\":\"y\",\"showticklabels\":false,\"categoryorder\":\"array\",\"categoryarray\":[\"miR-99/100\",\"miR-96/1271\",\"miR-9\",\"miR-876\",\"miR-875\",\"miR-874\",\"miR-873\",\"miR-802\",\"miR-760\",\"miR-758\",\"miR-744\",\"miR-7\",\"miR-670\",\"miR-668\",\"miR-665\",\"miR-655\",\"miR-653\",\"miR-652\",\"miR-615\",\"miR-582\",\"miR-551\",\"miR-544a\",\"miR-543\",\"miR-542\",\"miR-539\",\"miR-532\",\"miR-505\",\"miR-504\",\"miR-503\",\"miR-501/502\",\"miR-499\",\"miR-496\",\"miR-495\",\"miR-494\",\"miR-493\",\"miR-491\",\"miR-490\",\"miR-489\",\"miR-488\",\"miR-487b\",\"miR-486\",\"miR-485\",\"miR-483\",\"miR-455\",\"miR-452\",\"miR-450a\",\"miR-448\",\"miR-433\",\"miR-431\",\"miR-425\",\"miR-423\",\"miR-421\",\"miR-412\",\"miR-411\",\"miR-410\",\"miR-409\",\"miR-383\",\"miR-382\",\"miR-381\",\"miR-379\",\"miR-378a\",\"miR-377\",\"miR-376c\",\"miR-376ab\",\"miR-375\",\"miR-374\",\"miR-371\",\"miR-369\",\"miR-365\",\"miR-361\",\"miR-346\",\"miR-342\",\"miR-340\",\"miR-34/449\",\"miR-339\",\"miR-338\",\"miR-335\",\"miR-331\",\"miR-330\",\"miR-33\",\"miR-329/362\",\"miR-328\",\"miR-325\",\"miR-324\",\"miR-323a\",\"miR-31\",\"miR-302c\",\"miR-302abd\",\"miR-30\",\"miR-299\",\"miR-296\",\"miR-29\",\"miR-28/708\",\"miR-27\",\"miR-26\",\"miR-25/32/92/363/367\",\"miR-24\",\"miR-23\",\"miR-224\",\"miR-223\",\"miR-221/222\",\"miR-22\",\"miR-219\",\"miR-218\",\"miR-217\",\"miR-216b\",\"miR-216a\",\"miR-214\",\"miR-210\",\"miR-21/590\",\"miR-208\",\"miR-205\",\"miR-204/211\",\"miR-203a\",\"miR-202\",\"miR-200bc/429\",\"miR-199\",\"miR-196\",\"miR-194\",\"miR-193\",\"miR-192/215\",\"miR-191\",\"miR-190\",\"miR-19\",\"miR-188\",\"miR-187\",\"miR-186\",\"miR-185\",\"miR-184\",\"miR-183\",\"miR-182\",\"miR-181\",\"miR-18\",\"miR-17/20/93/106/519d\",\"miR-155\",\"miR-154\",\"miR-153\",\"miR-151a\",\"miR-150\",\"miR-15/16/195/424/497\",\"miR-149\",\"miR-148/152\",\"miR-147\",\"miR-146\",\"miR-145\",\"miR-144\",\"miR-143\",\"miR-142\",\"miR-141/200a\",\"miR-140\",\"miR-139\",\"miR-138\",\"miR-137\",\"miR-136\",\"miR-135\",\"miR-134\",\"miR-133\",\"miR-132/212\",\"miR-1306\",\"miR-130/301/454\",\"miR-1298\",\"miR-129\",\"miR-128\",\"miR-127\",\"miR-126\",\"miR-1251\",\"miR-125\",\"miR-1249\",\"miR-124\",\"miR-122\",\"miR-1197\",\"miR-1193\",\"miR-103/107\",\"miR-101\",\"miR-10\",\"miR-1/206\",\"let-7/miR-98\"]},\"xaxis8\":{\"anchor\":\"y8\",\"domain\":[0.75,0.98],\"matches\":\"x\",\"showticklabels\":false},\"yaxis8\":{\"anchor\":\"x8\",\"domain\":[0.515,1.0],\"matches\":\"y\",\"showticklabels\":false,\"categoryorder\":\"array\",\"categoryarray\":[\"miR-99/100\",\"miR-96/1271\",\"miR-9\",\"miR-876\",\"miR-875\",\"miR-874\",\"miR-873\",\"miR-802\",\"miR-760\",\"miR-758\",\"miR-744\",\"miR-7\",\"miR-670\",\"miR-668\",\"miR-665\",\"miR-655\",\"miR-653\",\"miR-652\",\"miR-615\",\"miR-582\",\"miR-551\",\"miR-544a\",\"miR-543\",\"miR-542\",\"miR-539\",\"miR-532\",\"miR-505\",\"miR-504\",\"miR-503\",\"miR-501/502\",\"miR-499\",\"miR-496\",\"miR-495\",\"miR-494\",\"miR-493\",\"miR-491\",\"miR-490\",\"miR-489\",\"miR-488\",\"miR-487b\",\"miR-486\",\"miR-485\",\"miR-483\",\"miR-455\",\"miR-452\",\"miR-450a\",\"miR-448\",\"miR-433\",\"miR-431\",\"miR-425\",\"miR-423\",\"miR-421\",\"miR-412\",\"miR-411\",\"miR-410\",\"miR-409\",\"miR-383\",\"miR-382\",\"miR-381\",\"miR-379\",\"miR-378a\",\"miR-377\",\"miR-376c\",\"miR-376ab\",\"miR-375\",\"miR-374\",\"miR-371\",\"miR-369\",\"miR-365\",\"miR-361\",\"miR-346\",\"miR-342\",\"miR-340\",\"miR-34/449\",\"miR-339\",\"miR-338\",\"miR-335\",\"miR-331\",\"miR-330\",\"miR-33\",\"miR-329/362\",\"miR-328\",\"miR-325\",\"miR-324\",\"miR-323a\",\"miR-31\",\"miR-302c\",\"miR-302abd\",\"miR-30\",\"miR-299\",\"miR-296\",\"miR-29\",\"miR-28/708\",\"miR-27\",\"miR-26\",\"miR-25/32/92/363/367\",\"miR-24\",\"miR-23\",\"miR-224\",\"miR-223\",\"miR-221/222\",\"miR-22\",\"miR-219\",\"miR-218\",\"miR-217\",\"miR-216b\",\"miR-216a\",\"miR-214\",\"miR-210\",\"miR-21/590\",\"miR-208\",\"miR-205\",\"miR-204/211\",\"miR-203a\",\"miR-202\",\"miR-200bc/429\",\"miR-199\",\"miR-196\",\"miR-194\",\"miR-193\",\"miR-192/215\",\"miR-191\",\"miR-190\",\"miR-19\",\"miR-188\",\"miR-187\",\"miR-186\",\"miR-185\",\"miR-184\",\"miR-183\",\"miR-182\",\"miR-181\",\"miR-18\",\"miR-17/20/93/106/519d\",\"miR-155\",\"miR-154\",\"miR-153\",\"miR-151a\",\"miR-150\",\"miR-15/16/195/424/497\",\"miR-149\",\"miR-148/152\",\"miR-147\",\"miR-146\",\"miR-145\",\"miR-144\",\"miR-143\",\"miR-142\",\"miR-141/200a\",\"miR-140\",\"miR-139\",\"miR-138\",\"miR-137\",\"miR-136\",\"miR-135\",\"miR-134\",\"miR-133\",\"miR-132/212\",\"miR-1306\",\"miR-130/301/454\",\"miR-1298\",\"miR-129\",\"miR-128\",\"miR-127\",\"miR-126\",\"miR-1251\",\"miR-125\",\"miR-1249\",\"miR-124\",\"miR-122\",\"miR-1197\",\"miR-1193\",\"miR-103/107\",\"miR-101\",\"miR-10\",\"miR-1/206\",\"let-7/miR-98\"]},\"annotations\":[{\"font\":{},\"showarrow\":false,\"text\":\"<b>z-dna</b>\",\"x\":0.11499999999999999,\"xanchor\":\"center\",\"xref\":\"paper\",\"y\":1.0,\"yanchor\":\"bottom\",\"yref\":\"paper\"},{\"font\":{},\"showarrow\":false,\"text\":\"<b>sidd</b>\",\"x\":0.365,\"xanchor\":\"center\",\"xref\":\"paper\",\"y\":1.0,\"yanchor\":\"bottom\",\"yref\":\"paper\"},{\"font\":{},\"showarrow\":false,\"text\":\"<b>g4</b>\",\"x\":0.615,\"xanchor\":\"center\",\"xref\":\"paper\",\"y\":1.0,\"yanchor\":\"bottom\",\"yref\":\"paper\"},{\"font\":{},\"showarrow\":false,\"text\":\"<b>h-dna</b>\",\"x\":0.865,\"xanchor\":\"center\",\"xref\":\"paper\",\"y\":1.0,\"yanchor\":\"bottom\",\"yref\":\"paper\"},{\"font\":{},\"showarrow\":false,\"text\":\"<b>Repeats without cCREs</b>\",\"textangle\":90,\"x\":0.98,\"xanchor\":\"left\",\"xref\":\"paper\",\"y\":0.2425,\"yanchor\":\"middle\",\"yref\":\"paper\"},{\"font\":{},\"showarrow\":false,\"text\":\"<b>cCREs without Repeats</b>\",\"textangle\":90,\"x\":0.98,\"xanchor\":\"left\",\"xref\":\"paper\",\"y\":0.7575000000000001,\"yanchor\":\"middle\",\"yref\":\"paper\"}],\"legend\":{\"title\":{\"text\":\"mirna_gene_strand_orientation\"},\"tracegroupgap\":0},\"margin\":{\"t\":60},\"barmode\":\"relative\",\"title\":{\"text\":\"miRNAs that bind <b>repeat promoters (no overlap with CCRE)</b> vs <b>the CCRE promoters (no overlap with repeats)</b>\"},\"height\":920,\"width\":1700},                        {\"responsive\": true}                    ).then(function(){\n",
       "                            \n",
       "var gd = document.getElementById('44053fd7-7718-46cd-841e-11cbf5832b3f');\n",
       "var x = new MutationObserver(function (mutations, observer) {{\n",
       "        var display = window.getComputedStyle(gd).display;\n",
       "        if (!display || display === 'none') {{\n",
       "            console.log([gd, 'removed!']);\n",
       "            Plotly.purge(gd);\n",
       "            observer.disconnect();\n",
       "        }}\n",
       "}});\n",
       "\n",
       "// Listen for the removal of the full notebook cells\n",
       "var notebookContainer = gd.closest('#notebook-container');\n",
       "if (notebookContainer) {{\n",
       "    x.observe(notebookContainer, {childList: true});\n",
       "}}\n",
       "\n",
       "// Listen for the clearing of the current output cell\n",
       "var outputEl = gd.closest('.output');\n",
       "if (outputEl) {{\n",
       "    x.observe(outputEl, {childList: true});\n",
       "}}\n",
       "\n",
       "                        })                };                });            </script>        </div>"
      ]
     },
     "metadata": {},
     "output_type": "display_data"
    }
   ],
   "source": [
    "fig = px.bar(\n",
    "    form_df,\n",
    "    y=\"mirna\",\n",
    "    x=\"total_count_rel\",\n",
    "    color=\"mirna_gene_strand_orientation\",\n",
    "    facet_col=\"group\",\n",
    "    orientation='h',\n",
    "    facet_row=\"type\",\n",
    "    hover_data=['total_count', 'total_group_counts'],\n",
    "    # barmode=\"group\",\n",
    "    # category_orders={\"day\": [\"Thur\", \"Fri\", \"Sat\", \"Sun\"], \"time\": [\"Lunch\", \"Dinner\"]},\n",
    "    color_discrete_map={'same':'tomato', 'different':'royalblue'},\n",
    ")\n",
    "\n",
    "fig.for_each_annotation(lambda a: a.update(text=f'<b>{a.text.split(\"=\")[1]}</b>'))\n",
    "\n",
    "fig.update_yaxes(categoryorder='array', categoryarray=form_df['mirna'].unique())\n",
    "fig.update_layout(\n",
    "    title=\"miRNAs that bind <b>repeat promoters (no overlap with CCRE)</b> vs <b>the CCRE promoters (no overlap with repeats)</b>\",\n",
    "    height=920,\n",
    "    width=1700,\n",
    ")\n",
    "fig.write_html(f_plotly_ccre_vs_repeats_4)\n",
    "fig.show()\n"
   ]
  },
  {
   "cell_type": "code",
   "execution_count": null,
   "id": "27639a96",
   "metadata": {},
   "outputs": [],
   "source": []
  }
 ],
 "metadata": {
  "kernelspec": {
   "display_name": "Python 3.10.4 ('miRNA')",
   "language": "python",
   "name": "python3"
  },
  "language_info": {
   "codemirror_mode": {
    "name": "ipython",
    "version": 3
   },
   "file_extension": ".py",
   "mimetype": "text/x-python",
   "name": "python",
   "nbconvert_exporter": "python",
   "pygments_lexer": "ipython3",
   "version": "3.10.4"
  },
  "vscode": {
   "interpreter": {
    "hash": "7ee6dafe6b86c58e7390505eaf6fdc99b7aab5b12d135781c65116cb9693d128"
   }
  }
 },
 "nbformat": 4,
 "nbformat_minor": 5
}
